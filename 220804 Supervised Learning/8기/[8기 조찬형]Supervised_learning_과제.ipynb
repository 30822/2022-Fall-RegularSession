{
 "cells": [
  {
   "cell_type": "code",
   "execution_count": 1,
   "metadata": {
    "id": "NuogZdJAewSq"
   },
   "outputs": [],
   "source": [
    "import numpy as np\n",
    "import pandas as pd\n",
    "import matplotlib.pyplot as plt"
   ]
  },
  {
   "cell_type": "markdown",
   "metadata": {
    "id": "JfNxu2eTDyl6"
   },
   "source": [
    "사용할 데이터 셋 :  전력 사용량 예측 모델\n",
    "\n",
    "아래의 과정에서 sklearn의 Pipeline의 사용은 필수는 아닙니다. 선호와 필요에 따라 사용하실 분들은 사용하셔도 좋습니다."
   ]
  },
  {
   "cell_type": "markdown",
   "metadata": {},
   "source": [
    "# 데이터"
   ]
  },
  {
   "cell_type": "markdown",
   "metadata": {
    "id": "K2sLE1gZOTc2"
   },
   "source": [
    "건물 정보와 기후 정보를 활용한 전력사용량 예측 데이터 중에서 \n",
    "\n",
    "환경 변수(기온, 풍속, 습도, 강수량, 일조)에 대해 전력 사용량을 선형회귀 모델을 사용해서 예측해보고자 합니다."
   ]
  },
  {
   "cell_type": "code",
   "execution_count": 26,
   "metadata": {},
   "outputs": [],
   "source": [
    "var_name = ['Temp', 'Wind', 'Moisture', 'Precipitation', 'Sun']\n",
    "target = 'Wh'"
   ]
  },
  {
   "cell_type": "code",
   "execution_count": 27,
   "metadata": {},
   "outputs": [],
   "source": [
    "def parsing(data: pd.DataFrame):\n",
    "    x = data.iloc[:, 3:8]\n",
    "    x.columns = var_name\n",
    "    y = data.iloc[:, 2]\n",
    "    y.name = target\n",
    "    \n",
    "    return x, y"
   ]
  },
  {
   "cell_type": "code",
   "execution_count": 28,
   "metadata": {},
   "outputs": [],
   "source": [
    "def load_data():\n",
    "    data = pd.read_csv('data/train.csv', encoding='cp949')\n",
    "    data = data[: 100]\n",
    "    x, y = parsing(data)    \n",
    "    cut = int(round(len(x)*0.88))\n",
    "    tr_x = x[:cut]\n",
    "    tr_y = y[:cut]\n",
    "    te_x = x[cut:]\n",
    "    te_y = y[cut:]\n",
    "    return tr_x, tr_y, te_x, te_y"
   ]
  },
  {
   "cell_type": "code",
   "execution_count": 29,
   "metadata": {},
   "outputs": [],
   "source": [
    "train_x, train_y, test_x, test_y = load_data()"
   ]
  },
  {
   "cell_type": "markdown",
   "metadata": {
    "id": "FtOBVORnPUCt"
   },
   "source": [
    "## 데이터 확인 \n",
    "\n",
    "주의! 최종 예측하는 단계 이전에는 현재 가지고 있는 데이터, 즉 train data만을 이용하여 작업을 진행해야 합니다.\n",
    "\n",
    "현재 가지고 있는 데이터 train_x를 보고 전력 사용량을 예측하는데에 사용할 변수를 선택해주세요.\n",
    "\n",
    "기초세션에서 다뤘던 내용을 참고하셔서 최적의 변수 조합을 찾아보도록 합시다.\n",
    "\n",
    "이 때 선택해야하는 변수는 하나일 수도 있고, 여러개의 변수를 사용하여도 좋습니다."
   ]
  },
  {
   "cell_type": "code",
   "execution_count": 24,
   "metadata": {},
   "outputs": [
    {
     "name": "stdout",
     "output_type": "stream",
     "text": [
      "Requirement already satisfied: scikit-learn in c:\\users\\jocha\\anaconda3\\lib\\site-packages (1.0.2)\n",
      "Requirement already satisfied: threadpoolctl>=2.0.0 in c:\\users\\jocha\\anaconda3\\lib\\site-packages (from scikit-learn) (2.2.0)\n",
      "Requirement already satisfied: scipy>=1.1.0 in c:\\users\\jocha\\anaconda3\\lib\\site-packages (from scikit-learn) (1.7.3)\n",
      "Requirement already satisfied: joblib>=0.11 in c:\\users\\jocha\\anaconda3\\lib\\site-packages (from scikit-learn) (1.1.0)\n",
      "Requirement already satisfied: numpy>=1.14.6 in c:\\users\\jocha\\anaconda3\\lib\\site-packages (from scikit-learn) (1.21.5)\n"
     ]
    }
   ],
   "source": [
    "!pip install scikit-learn"
   ]
  },
  {
   "cell_type": "code",
   "execution_count": 30,
   "metadata": {
    "id": "wuD0nXzEDySK"
   },
   "outputs": [
    {
     "data": {
      "text/plain": [
       "0     8179.056\n",
       "1     8135.640\n",
       "2     8107.128\n",
       "3     8048.808\n",
       "4     8043.624\n",
       "        ...   \n",
       "83    8386.416\n",
       "84    8435.664\n",
       "85    8591.184\n",
       "86    8638.488\n",
       "87    8663.112\n",
       "Name: Wh, Length: 88, dtype: float64"
      ]
     },
     "execution_count": 30,
     "metadata": {},
     "output_type": "execute_result"
    }
   ],
   "source": [
    "train_x['Temp']\n",
    "train_x['Wind']\n",
    "train_x['Moisture']\n",
    "train_x['Precipitation']\n",
    "train_x['Sun']\n",
    "train_y"
   ]
  },
  {
   "cell_type": "markdown",
   "metadata": {
    "id": "kD24Xx9XLotD"
   },
   "source": [
    "정답은 없습니다! \n",
    "\n",
    "다만 최종 선택한 변수(들)이 왜 선택받았는지 간단히 알려주세요.<br>\n",
    "답변 : 도메인 지식 고려해보면 온도와 전기세가 가장 관련있을 확률이 높다고 생각됨. 이에 따라 분석 진행."
   ]
  },
  {
   "cell_type": "markdown",
   "metadata": {
    "id": "9FeCbQAFP6Kw"
   },
   "source": [
    "## 전처리\n",
    "\n",
    "위에서 선택한 변수들(feature)를 가지고 한번 전력 사용량을 예측하는 모델을 만들어 보기에 앞서,\n",
    "\n",
    "**train 데이터의 feature의 전처리**를 진행해보려고 합니다. StandardScaler를 사용하셔도 좋고, MinMaxScaler를 사용하셔도 좋습니다! \n",
    "\n",
    "또한 PolynomialFeatures를 이용하거나 직접 feature를 계산하여 고차원의 feature를 만드셔도 좋습니다. 이 또한 정답은 없습니다!\n",
    "\n",
    "이 때 최종 train_x의 shape은 (n_samples, n_features)가 되도록 해주세요.<br>\n",
    "ex. 4개의 변수를 가진 1000개의 샘플의 경우 train_x.shape은 (1000,4)가 되면 됩니다.\n",
    "\n",
    "특히 하나의 변수만을 사용하시는 분들은 1D가 아닌 2D가 되도록 신경써주세요<br>\n",
    "ex. train_x.shape이 (1000,)이 아닌 (1000,1)입니다!"
   ]
  },
  {
   "cell_type": "code",
   "execution_count": 31,
   "metadata": {},
   "outputs": [],
   "source": [
    "# 사용할 패키지를 import!\n",
    "from sklearn.preprocessing import StandardScaler"
   ]
  },
  {
   "cell_type": "code",
   "execution_count": 32,
   "metadata": {},
   "outputs": [
    {
     "data": {
      "text/plain": [
       "(88, 1)"
      ]
     },
     "execution_count": 32,
     "metadata": {},
     "output_type": "execute_result"
    }
   ],
   "source": [
    "scaler=StandardScaler()\n",
    "train_x2 = train_x['Temp']\n",
    "train_x2 = np.expand_dims(train_x2 ,axis=1)\n",
    "train_x2.shape\n",
    "train_y2 = np.expand_dims(train_y ,axis=1)\n",
    "train_y2.shape"
   ]
  },
  {
   "cell_type": "code",
   "execution_count": 33,
   "metadata": {},
   "outputs": [],
   "source": [
    "scaler = StandardScaler()\n",
    "scaler = scaler.fit(train_x2)\n",
    "processed_data = scaler.transform(train_x2)"
   ]
  },
  {
   "cell_type": "markdown",
   "metadata": {},
   "source": [
    "# 모델링"
   ]
  },
  {
   "cell_type": "markdown",
   "metadata": {},
   "source": [
    "## 학습 \n",
    "\n",
    "이제 모델링을 해봅시다.\n",
    "\n",
    "앞서 다룬 여러 regression 모델들(Linear regression, Ridge Regression, Lasso Regression, ..)을 이용해서 fit을 진행해보도록 합시다."
   ]
  },
  {
   "cell_type": "code",
   "execution_count": 34,
   "metadata": {
    "id": "nCd88UXEQFdZ"
   },
   "outputs": [],
   "source": [
    "from sklearn.linear_model import LinearRegression"
   ]
  },
  {
   "cell_type": "code",
   "execution_count": 35,
   "metadata": {},
   "outputs": [
    {
     "data": {
      "image/png": "[encoded data removed]",
      "text/plain": [
       "<Figure size 576x432 with 1 Axes>"
      ]
     },
     "metadata": {
      "needs_background": "light"
     },
     "output_type": "display_data"
    }
   ],
   "source": [
    "plt.figure(figsize=(8, 6))\n",
    "plt.scatter(processed_data,train_y2)\n",
    "plt.show()"
   ]
  },
  {
   "cell_type": "code",
   "execution_count": 36,
   "metadata": {
    "id": "y7hwaxnZUIwY"
   },
   "outputs": [],
   "source": [
    "linear_model = LinearRegression().fit(processed_data,train_y2)\n"
   ]
  },
  {
   "cell_type": "markdown",
   "metadata": {},
   "source": [
    "## 추정\n",
    "\n",
    "이제 train_x를 이용하여 전력사용량을 추정해보도록 합시다."
   ]
  },
  {
   "cell_type": "code",
   "execution_count": 37,
   "metadata": {},
   "outputs": [
    {
     "name": "stdout",
     "output_type": "stream",
     "text": [
      "Beta : 162.6602\n",
      "Intercept :  8142.1863\n"
     ]
    }
   ],
   "source": [
    "linear_pred_y = linear_model.predict(processed_data)\n",
    "\n",
    "linear_beta = linear_model.coef_[0][0]\n",
    "linear_intercept = linear_model.intercept_[0]\n",
    "print(f\"Beta :{linear_beta: .4f}\")\n",
    "print(f\"Intercept : {linear_intercept: .4f}\")"
   ]
  },
  {
   "cell_type": "code",
   "execution_count": 38,
   "metadata": {},
   "outputs": [
    {
     "data": {
      "image/png": "[encoded data removed]",
      "text/plain": [
       "<Figure size 576x432 with 1 Axes>"
      ]
     },
     "metadata": {
      "needs_background": "light"
     },
     "output_type": "display_data"
    }
   ],
   "source": [
    "x_axis = np.linspace(np.min(processed_data), np.max(processed_data), 100)\n",
    "linear_fit = linear_beta * x_axis + linear_intercept\n",
    "\n",
    "plt.figure(figsize=(8,6))\n",
    "plt.plot(x_axis, linear_fit, label='Predict', c='r', linewidth=3)\n",
    "plt.scatter(processed_data,train_y2, c='blue')\n",
    "plt.legend()\n",
    "plt.show()"
   ]
  },
  {
   "cell_type": "markdown",
   "metadata": {},
   "source": [
    "# Loss 및 시각화\n",
    "\n",
    "앞서 fitting하여 얻은 모델을 이용하여 추정한 값으로 MSE를 측정해봅시다. 변수를 하나만 사용하신 분들은 xy 평면에 한번 같이 시각화도 해보셔도 좋습니다."
   ]
  },
  {
   "cell_type": "code",
   "execution_count": 39,
   "metadata": {},
   "outputs": [],
   "source": [
    "def mse(pred, true):\n",
    "    return np.mean((pred-true)**2)"
   ]
  },
  {
   "cell_type": "code",
   "execution_count": 40,
   "metadata": {},
   "outputs": [
    {
     "name": "stdout",
     "output_type": "stream",
     "text": [
      "Linear 14543.75828\n"
     ]
    }
   ],
   "source": [
    "train_mse = mse(linear_pred_y, train_y2)\n",
    "print(f\"Linear {train_mse:.5f}\")"
   ]
  },
  {
   "cell_type": "code",
   "execution_count": 20,
   "metadata": {
    "id": "ThKWK_QdUIyo"
   },
   "outputs": [],
   "source": [
    "def visualize(model, x, y):\n",
    "    if x.shape[1] != 1:\n",
    "        return None\n",
    "    beta = model.coef_[0]\n",
    "    intercept = model.intercept_\n",
    "    \n",
    "    x_axis = np.linspace(np.min(x), np.max(x), 100)\n",
    "    fit = intercept * x_axis**0 + beta*x_axis \n",
    "\n",
    "    plt.figure(figsize=(8,6))\n",
    "    plt.plot(x_axis, fit, label='Predict', c='r', linewidth=3)\n",
    "    plt.scatter(x, y, c='blue')\n",
    "    plt.legend()\n",
    "    plt.show()"
   ]
  },
  {
   "cell_type": "code",
   "execution_count": 43,
   "metadata": {},
   "outputs": [
    {
     "data": {
      "image/png": "[encoded data removed]",
      "text/plain": [
       "<Figure size 576x432 with 1 Axes>"
      ]
     },
     "metadata": {
      "needs_background": "light"
     },
     "output_type": "display_data"
    }
   ],
   "source": [
    "# visualization 하실 분은 진행해주세요!\n",
    "visualize(linear_model,processed_data, train_y2)"
   ]
  },
  {
   "cell_type": "markdown",
   "metadata": {},
   "source": [
    "# 예측"
   ]
  },
  {
   "cell_type": "markdown",
   "metadata": {
    "id": "T-6Xv53GXm4K"
   },
   "source": [
    "테스트셋에 대해서 한번 **예측**해보도록 합시다.\n",
    "\n",
    "이미 fitting된 모델 (그리고 scaler를 사용하신다면 scaler)에 대해 **fit을 하지 말고** 단순히 predict만 진행해보도록 합시다. \n",
    "\n",
    "scaler는 transform만 하시고 model은 predict을 진행해주세요"
   ]
  },
  {
   "cell_type": "code",
   "execution_count": 48,
   "metadata": {
    "id": "YTwIN94ZYlhU"
   },
   "outputs": [],
   "source": [
    "# transform을 하시는 분들은 실행해주세요\n",
    "# test_x = \n",
    "test_x2 = test_x['Temp']\n",
    "test_x2 = np.expand_dims(test_x2 ,axis=1)\n",
    "processed_test = scaler.transform(test_x2)\n",
    "test_y2 = np.expand_dims(test_y ,axis=1)"
   ]
  },
  {
   "cell_type": "code",
   "execution_count": 49,
   "metadata": {},
   "outputs": [],
   "source": [
    "# y1_hat에 predict값 할당\n",
    "pred_y = linear_model.predict(processed_test)\n",
    " "
   ]
  },
  {
   "cell_type": "markdown",
   "metadata": {},
   "source": [
    "# 성능 평가\n",
    "\n",
    "한번 학습한 모델에 대해 test_y를 이용하여 mse loss를 측정해도도록 합시다."
   ]
  },
  {
   "cell_type": "code",
   "execution_count": 50,
   "metadata": {},
   "outputs": [],
   "source": [
    "def score(train_mse, test_mse):\n",
    "    print(f\"{test_mse/train_mse: .4f}\")"
   ]
  },
  {
   "cell_type": "code",
   "execution_count": 52,
   "metadata": {
    "scrolled": true
   },
   "outputs": [
    {
     "name": "stdout",
     "output_type": "stream",
     "text": [
      "Linear 198060.52184\n"
     ]
    }
   ],
   "source": [
    "test_mse = mse(pred_y, test_y2)\n",
    "print(f\"Linear {test_mse:.5f}\")"
   ]
  },
  {
   "cell_type": "code",
   "execution_count": 53,
   "metadata": {},
   "outputs": [
    {
     "name": "stdout",
     "output_type": "stream",
     "text": [
      " 13.6182\n"
     ]
    }
   ],
   "source": [
    "score(train_mse,test_mse)"
   ]
  },
  {
   "cell_type": "code",
   "execution_count": 56,
   "metadata": {
    "id": "hHQz6NrkXmtW"
   },
   "outputs": [
    {
     "data": {
      "image/png": "[encoded data removed]",
      "text/plain": [
       "<Figure size 576x432 with 1 Axes>"
      ]
     },
     "metadata": {
      "needs_background": "light"
     },
     "output_type": "display_data"
    }
   ],
   "source": [
    " visualize(linear_model, processed_test, test_y2)"
   ]
  },
  {
   "cell_type": "markdown",
   "metadata": {},
   "source": [
    "# 그 이후\n",
    "\n",
    "이제 여러분들은 한번 모델을 만들어보고 fitting한 다음 예측까지 해보셨습니다.\n",
    "\n",
    "이제 개선하기 위해 1.데이터부터 5.성능평가 중 수정, 변경하실 부분을 업데이트 해서  최적의 모델을 찾아보세요!\n",
    "\n",
    "현재 사용하고 있는 scaler, model부터 전처리과정 기타 여러 조건을 조작해보시고 어떤 효과가 있는지 한번 보시고 알려주세요:D"
   ]
  },
  {
   "cell_type": "markdown",
   "metadata": {},
   "source": [
    "고생하셨습니다!"
   ]
  }
 ],
 "metadata": {
  "colab": {
   "authorship_tag": "ABX9TyOgug4KEXAF4mJb0CKcc9BQ",
   "collapsed_sections": [],
   "mount_file_id": "1Y2yJV5xqiiXMIdvOZmbHCI4AoGjowvm5",
   "name": "220203_Supervised_Learning_과제.ipynb",
   "provenance": []
  },
  "kernelspec": {
   "display_name": "Python 3 (ipykernel)",
   "language": "python",
   "name": "python3"
  },
  "language_info": {
   "codemirror_mode": {
    "name": "ipython",
    "version": 3
   },
   "file_extension": ".py",
   "mimetype": "text/x-python",
   "name": "python",
   "nbconvert_exporter": "python",
   "pygments_lexer": "ipython3",
   "version": "3.9.12"
  },
  "toc": {
   "base_numbering": 1,
   "nav_menu": {},
   "number_sections": true,
   "sideBar": true,
   "skip_h1_title": false,
   "title_cell": "Table of Contents",
   "title_sidebar": "Contents",
   "toc_cell": false,
   "toc_position": {
    "height": "calc(100% - 180px)",
    "left": "10px",
    "top": "150px",
    "width": "300.792px"
   },
   "toc_section_display": true,
   "toc_window_display": true
  }
 },
 "nbformat": 4,
 "nbformat_minor": 1
}
