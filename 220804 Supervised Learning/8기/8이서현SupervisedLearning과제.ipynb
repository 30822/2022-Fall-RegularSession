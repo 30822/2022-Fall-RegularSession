{
  "nbformat": 4,
  "nbformat_minor": 0,
  "metadata": {
    "colab": {
      "name": "8이서현SupervisedLearning과제",
      "provenance": [],
      "collapsed_sections": []
    },
    "kernelspec": {
      "name": "python3",
      "display_name": "Python 3"
    },
    "language_info": {
      "name": "python"
    }
  },
  "cells": [
    {
      "cell_type": "code",
      "execution_count": 1,
      "metadata": {
        "colab": {
          "base_uri": "https://localhost:8080/"
        },
        "id": "eYwxSySv1X1h",
        "outputId": "09c78542-c11d-4f7b-98d9-75019517beec"
      },
      "outputs": [
        {
          "output_type": "stream",
          "name": "stdout",
          "text": [
            "Drive already mounted at /content/drive; to attempt to forcibly remount, call drive.mount(\"/content/drive\", force_remount=True).\n"
          ]
        }
      ],
      "source": [
        "import numpy as np\n",
        "import pandas as pd\n",
        "import matplotlib.pyplot as plt\n",
        "from google.colab import drive\n",
        "drive.mount('/content/drive')"
      ]
    },
    {
      "cell_type": "code",
      "source": [
        "from sklearn.preprocessing import MinMaxScaler\n",
        "from sklearn.linear_model import LinearRegression\n",
        "from sklearn.model_selection import train_test_split"
      ],
      "metadata": {
        "id": "KjyXM5XQ3t-d"
      },
      "execution_count": 2,
      "outputs": []
    },
    {
      "cell_type": "code",
      "source": [
        "var_name = ['Temp', 'Wind', 'Moisture', 'Precipitation', 'Sun']\n",
        "target = 'Wh'"
      ],
      "metadata": {
        "id": "-8xMGLVJ1pxC"
      },
      "execution_count": 3,
      "outputs": []
    },
    {
      "cell_type": "code",
      "source": [
        "def parsing(data: pd.DataFrame):\n",
        "    x = data.iloc[:, 3:8]\n",
        "    x.columns = var_name\n",
        "    y = data.iloc[:, 2]\n",
        "    y.name = target\n",
        "    \n",
        "    return x, y"
      ],
      "metadata": {
        "id": "39IL5ryH1sH2"
      },
      "execution_count": 4,
      "outputs": []
    },
    {
      "cell_type": "code",
      "source": [
        "def load_data():\n",
        "    data = pd.read_csv('/content/drive/MyDrive/train.csv', encoding='cp949')\n",
        "    data = data[: 100]\n",
        "    x, y = parsing(data)    \n",
        "    cut = int(round(len(x)*0.88))\n",
        "    tr_x = x[:cut]\n",
        "    tr_y = y[:cut]\n",
        "    te_x = x[cut:]\n",
        "    te_y = y[cut:]\n",
        "    return tr_x, tr_y, te_x, te_y"
      ],
      "metadata": {
        "id": "x3WQVKx-1taH"
      },
      "execution_count": 5,
      "outputs": []
    },
    {
      "cell_type": "code",
      "source": [
        "train_x, train_y, test_x, test_y = load_data()"
      ],
      "metadata": {
        "id": "0yQaAcUjHf5k"
      },
      "execution_count": 6,
      "outputs": []
    },
    {
      "cell_type": "markdown",
      "source": [
        "변수 설정"
      ],
      "metadata": {
        "id": "J3A0PFTuSU9E"
      }
    },
    {
      "cell_type": "code",
      "source": [
        "train_x.info() #숫자임을 확인 "
      ],
      "metadata": {
        "colab": {
          "base_uri": "https://localhost:8080/"
        },
        "id": "WAnyekodH1JT",
        "outputId": "5e6ec566-3203-4973-913e-b85990665806"
      },
      "execution_count": 7,
      "outputs": [
        {
          "output_type": "stream",
          "name": "stdout",
          "text": [
            "<class 'pandas.core.frame.DataFrame'>\n",
            "RangeIndex: 88 entries, 0 to 87\n",
            "Data columns (total 5 columns):\n",
            " #   Column         Non-Null Count  Dtype  \n",
            "---  ------         --------------  -----  \n",
            " 0   Temp           88 non-null     float64\n",
            " 1   Wind           88 non-null     float64\n",
            " 2   Moisture       88 non-null     float64\n",
            " 3   Precipitation  88 non-null     float64\n",
            " 4   Sun            88 non-null     float64\n",
            "dtypes: float64(5)\n",
            "memory usage: 3.6 KB\n"
          ]
        }
      ]
    },
    {
      "cell_type": "code",
      "source": [
        "#변수간의 상관관계 파악을 위한 산점도 \n",
        "from pandas.plotting import scatter_matrix\n",
        "attributes = [\"Temp\",'Wind','Moisture','Precipitation','Sun']\n",
        "scatter_matrix(train_x[attributes],figsize = (12,8))\n",
        "#moisture - temp 가 상대적으로 뚜렷한 (음의) 상관관계를 보여서 선택했다"
      ],
      "metadata": {
        "colab": {
          "base_uri": "https://localhost:8080/",
          "height": 951
        },
        "id": "Fva_bTNOHiZT",
        "outputId": "a4a47704-eb9b-4873-bbd0-28383dd1ce27"
      },
      "execution_count": 8,
      "outputs": [
        {
          "output_type": "execute_result",
          "data": {
            "text/plain": [
              "array([[<matplotlib.axes._subplots.AxesSubplot object at 0x7f215cbbd710>,\n",
              "        <matplotlib.axes._subplots.AxesSubplot object at 0x7f215d49a590>,\n",
              "        <matplotlib.axes._subplots.AxesSubplot object at 0x7f215cadd6d0>,\n",
              "        <matplotlib.axes._subplots.AxesSubplot object at 0x7f215cb31b10>,\n",
              "        <matplotlib.axes._subplots.AxesSubplot object at 0x7f215cac9e10>],\n",
              "       [<matplotlib.axes._subplots.AxesSubplot object at 0x7f215ca8e450>,\n",
              "        <matplotlib.axes._subplots.AxesSubplot object at 0x7f215ca43ad0>,\n",
              "        <matplotlib.axes._subplots.AxesSubplot object at 0x7f215c9f0b90>,\n",
              "        <matplotlib.axes._subplots.AxesSubplot object at 0x7f215ca07090>,\n",
              "        <matplotlib.axes._subplots.AxesSubplot object at 0x7f215c9be790>],\n",
              "       [<matplotlib.axes._subplots.AxesSubplot object at 0x7f215c9362d0>,\n",
              "        <matplotlib.axes._subplots.AxesSubplot object at 0x7f215c8ed8d0>,\n",
              "        <matplotlib.axes._subplots.AxesSubplot object at 0x7f215c8a3e50>,\n",
              "        <matplotlib.axes._subplots.AxesSubplot object at 0x7f215c866490>,\n",
              "        <matplotlib.axes._subplots.AxesSubplot object at 0x7f215c81ca90>],\n",
              "       [<matplotlib.axes._subplots.AxesSubplot object at 0x7f215c84ab90>,\n",
              "        <matplotlib.axes._subplots.AxesSubplot object at 0x7f215c8166d0>,\n",
              "        <matplotlib.axes._subplots.AxesSubplot object at 0x7f215c7cccd0>,\n",
              "        <matplotlib.axes._subplots.AxesSubplot object at 0x7f215c790310>,\n",
              "        <matplotlib.axes._subplots.AxesSubplot object at 0x7f215c745910>],\n",
              "       [<matplotlib.axes._subplots.AxesSubplot object at 0x7f215c6fcf10>,\n",
              "        <matplotlib.axes._subplots.AxesSubplot object at 0x7f215c6c1550>,\n",
              "        <matplotlib.axes._subplots.AxesSubplot object at 0x7f215c676b50>,\n",
              "        <matplotlib.axes._subplots.AxesSubplot object at 0x7f215c639190>,\n",
              "        <matplotlib.axes._subplots.AxesSubplot object at 0x7f215c5ef790>]],\n",
              "      dtype=object)"
            ]
          },
          "metadata": {},
          "execution_count": 8
        },
        {
          "output_type": "display_data",
          "data": {
            "text/plain": [
              "<Figure size 864x576 with 25 Axes>"
            ],
            "image/png": "[encoded data removed]"
          },
          "metadata": {
            "needs_background": "light"
          }
        }
      ]
    },
    {
      "cell_type": "markdown",
      "source": [
        "데이터 전처리(표준화)"
      ],
      "metadata": {
        "id": "ZPqm4gr_FPtR"
      }
    },
    {
      "cell_type": "code",
      "source": [
        "scaler=MinMaxScaler()\n",
        "scaler.fit(train_x)\n",
        "trainx_scaled=scaler.transform(train_x)"
      ],
      "metadata": {
        "id": "LRDvQVk-QR34"
      },
      "execution_count": 16,
      "outputs": []
    },
    {
      "cell_type": "code",
      "source": [
        "trainx_scaled_df = pd.DataFrame(data = trainx_scaled, columns = ['Temp', 'Wind', 'Moisture', 'Precipitation', 'Sun'])"
      ],
      "metadata": {
        "id": "CesVdDiZFhi9"
      },
      "execution_count": 25,
      "outputs": []
    },
    {
      "cell_type": "code",
      "source": [
        "print(trainx_scaled_df['Temp']) #0~1의 값으로 스케일링이 된것을 확인할수있다 \n",
        "print(\"◈\"*15)\n",
        "print(trainx_scaled_df['Moisture'])"
      ],
      "metadata": {
        "colab": {
          "base_uri": "https://localhost:8080/"
        },
        "id": "E8LKyJB2HoKQ",
        "outputId": "ff7e9121-8b29-4229-8127-197e333112c3"
      },
      "execution_count": 31,
      "outputs": [
        {
          "output_type": "stream",
          "name": "stdout",
          "text": [
            "0     0.208955\n",
            "1     0.216418\n",
            "2     0.201493\n",
            "3     0.171642\n",
            "4     0.164179\n",
            "        ...   \n",
            "83    0.679104\n",
            "84    0.761194\n",
            "85    0.835821\n",
            "86    0.865672\n",
            "87    0.791045\n",
            "Name: Temp, Length: 88, dtype: float64\n",
            "◈◈◈◈◈◈◈◈◈◈◈◈◈◈◈\n",
            "0     0.981481\n",
            "1     0.962963\n",
            "2     0.962963\n",
            "3     0.962963\n",
            "4     0.981481\n",
            "        ...   \n",
            "83    0.537037\n",
            "84    0.444444\n",
            "85    0.388889\n",
            "86    0.388889\n",
            "87    0.500000\n",
            "Name: Moisture, Length: 88, dtype: float64\n"
          ]
        }
      ]
    },
    {
      "cell_type": "code",
      "source": [
        "scaler.fit(train_x)\n",
        "trainx_scaled = scaler.transform(train_x) #학습 데이터에 대해 fit, 트랜스폼 해줬습니다 "
      ],
      "metadata": {
        "id": "FXWCUIpjJIUN"
      },
      "execution_count": 32,
      "outputs": []
    },
    {
      "cell_type": "code",
      "source": [
        "test_x = scaler.transform(test_x) #테스트 데이터는 transform만 합니다 "
      ],
      "metadata": {
        "id": "aUhRTAeTPKvs"
      },
      "execution_count": 33,
      "outputs": []
    },
    {
      "cell_type": "markdown",
      "source": [
        "모델 학습"
      ],
      "metadata": {
        "id": "ZNiIZ4vGSSDb"
      }
    },
    {
      "cell_type": "code",
      "source": [
        "lr = LinearRegression()\n",
        "lr.fit(train_x,train_y)\n",
        "lr.score(train_x,train_y)\n",
        "#선형회귀로 추정"
      ],
      "metadata": {
        "colab": {
          "base_uri": "https://localhost:8080/"
        },
        "id": "Di2SIssBSRUf",
        "outputId": "b3f60966-635c-42bb-fafb-0186160d2220"
      },
      "execution_count": 62,
      "outputs": [
        {
          "output_type": "execute_result",
          "data": {
            "text/plain": [
              "0.9308523075061211"
            ]
          },
          "metadata": {},
          "execution_count": 62
        }
      ]
    },
    {
      "cell_type": "code",
      "source": [
        "from sklearn.metrics import mean_squared_error , r2_score\n",
        "esti_y = lr.predict(train_x)\n",
        "train_mse = mean_squared_error(train_y,esti_y)\n",
        "rmse = np.sqrt(mse)\n",
        "print(train_mse)\n",
        "print(rmse)"
      ],
      "metadata": {
        "colab": {
          "base_uri": "https://localhost:8080/"
        },
        "id": "9nLHL26HZ60o",
        "outputId": "e1b4c670-8908-45e2-ed1f-f57011278f77"
      },
      "execution_count": 50,
      "outputs": [
        {
          "output_type": "stream",
          "name": "stdout",
          "text": [
            "2834.1185767395173\n",
            "149.2361993010348\n"
          ]
        }
      ]
    },
    {
      "cell_type": "code",
      "source": [
        "from sklearn.neighbors import KNeighborsClassifier #최근접 이웃 알고리즘 사용 \n",
        "kn = KNeighborsClassifier()\n",
        "train_y = train_y.astype('int') #타입은 int로 바꿔서 계산이 되게 했다 \n",
        "kn.fit(train_x, train_y)\n",
        "kn.score(train_x, train_y)"
      ],
      "metadata": {
        "colab": {
          "base_uri": "https://localhost:8080/"
        },
        "id": "Fm4VLSSBS9MP",
        "outputId": "1f2f4768-68ca-4d66-9c84-3cbe3dd4869b"
      },
      "execution_count": 39,
      "outputs": [
        {
          "output_type": "execute_result",
          "data": {
            "text/plain": [
              "0.17045454545454544"
            ]
          },
          "metadata": {},
          "execution_count": 39
        }
      ]
    },
    {
      "cell_type": "code",
      "source": [
        "esti_y1 = kn.predict(train_x)\n",
        "mse = mean_squared_error(train_y,esti_y1)\n",
        "rmse = np.sqrt(mse)\n",
        "print(mse)\n",
        "print(rmse) #mse 오차도 lr에 비해 크다 "
      ],
      "metadata": {
        "colab": {
          "base_uri": "https://localhost:8080/"
        },
        "id": "0agCOZrXdthJ",
        "outputId": "29d9f02f-3800-4ff0-9c0e-e3dec2d04996"
      },
      "execution_count": 49,
      "outputs": [
        {
          "output_type": "stream",
          "name": "stdout",
          "text": [
            "22271.44318181818\n",
            "149.2361993010348\n"
          ]
        }
      ]
    },
    {
      "cell_type": "code",
      "source": [
        "from sklearn import tree        \n",
        "clf = tree.DecisionTreeClassifier()\n",
        "clf.fit(train_x, train_y)\n",
        "clf.score(train_x, train_y) #1이 나왔다. overfitting인 것 같다."
      ],
      "metadata": {
        "colab": {
          "base_uri": "https://localhost:8080/"
        },
        "id": "-gtBYcu4ZG8g",
        "outputId": "db07c50d-2f52-4229-a56d-157716642fe0"
      },
      "execution_count": 40,
      "outputs": [
        {
          "output_type": "execute_result",
          "data": {
            "text/plain": [
              "1.0"
            ]
          },
          "metadata": {},
          "execution_count": 40
        }
      ]
    },
    {
      "cell_type": "markdown",
      "source": [
        "스코어가 높게 나온 LinearRegression을 사용해 test를 합니다"
      ],
      "metadata": {
        "id": "jgHrsrllbJpm"
      }
    },
    {
      "cell_type": "code",
      "source": [
        "lr = LinearRegression()\n",
        "lr.fit(test_x,test_y)\n",
        "lr.score(test_x,test_y)\n",
        "#테스트 학습, 최종 스코어"
      ],
      "metadata": {
        "colab": {
          "base_uri": "https://localhost:8080/"
        },
        "id": "R_MlorlOpZCm",
        "outputId": "ca6a3284-a438-4d9d-9e92-87af2edf06ac"
      },
      "execution_count": 73,
      "outputs": [
        {
          "output_type": "execute_result",
          "data": {
            "text/plain": [
              "0.8068088951458139"
            ]
          },
          "metadata": {},
          "execution_count": 73
        }
      ]
    },
    {
      "cell_type": "code",
      "source": [
        "from sklearn.metrics import mean_squared_error , r2_score\n",
        "pred_y = lr.predict(test_x)\n",
        "test_mse = mean_squared_error(test_y, pred_y)\n",
        "rmse = np.sqrt(mse)\n",
        "print(test_mse)\n",
        "print(rmse)\n",
        "#테스트 mse에 저장"
      ],
      "metadata": {
        "colab": {
          "base_uri": "https://localhost:8080/"
        },
        "id": "eS0HZdiOefCt",
        "outputId": "67ce7c49-c98d-449c-e97c-ffedc00a468a"
      },
      "execution_count": 76,
      "outputs": [
        {
          "output_type": "stream",
          "name": "stdout",
          "text": [
            "334.8045392398059\n",
            "149.2361993010348\n"
          ]
        }
      ]
    },
    {
      "cell_type": "markdown",
      "source": [
        "성능 평가"
      ],
      "metadata": {
        "id": "zOA0BouYqFF8"
      }
    },
    {
      "cell_type": "code",
      "source": [
        "def score(train_mse, test_mse):\n",
        "    print(f\"{test_mse/train_mse: .4f}\")"
      ],
      "metadata": {
        "id": "dxk0BKdDpwvH"
      },
      "execution_count": 69,
      "outputs": []
    },
    {
      "cell_type": "code",
      "source": [
        "score(train_mse,test_mse)"
      ],
      "metadata": {
        "colab": {
          "base_uri": "https://localhost:8080/"
        },
        "id": "_nv46A3tsN-f",
        "outputId": "3e83e7bd-7893-4270-d838-0ee4fe279e3e"
      },
      "execution_count": 77,
      "outputs": [
        {
          "output_type": "stream",
          "name": "stdout",
          "text": [
            " 0.1181\n"
          ]
        }
      ]
    }
  ]
}