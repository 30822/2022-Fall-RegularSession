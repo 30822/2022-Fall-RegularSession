{
  "cells": [
    {
      "cell_type": "code",
      "execution_count": 195,
      "metadata": {
        "id": "NuogZdJAewSq"
      },
      "outputs": [],
      "source": [
        "import numpy as np\n",
        "import pandas as pd\n",
        "import matplotlib.pyplot as plt"
      ]
    },
    {
      "cell_type": "markdown",
      "metadata": {
        "id": "u5RQzjdjj6I2"
      },
      "source": [
        "코랩 사용하시는 분들은 아래의 코드를 실행해주세요!"
      ]
    },
    {
      "cell_type": "code",
      "execution_count": 196,
      "metadata": {
        "id": "7J7wP7X6nQtv",
        "colab": {
          "base_uri": "https://localhost:8080/"
        },
        "outputId": "d51cd4e6-820c-47f4-f0b2-a3a53c73e42b"
      },
      "outputs": [
        {
          "output_type": "stream",
          "name": "stdout",
          "text": [
            "Drive already mounted at /content/drive; to attempt to forcibly remount, call drive.mount(\"/content/drive\", force_remount=True).\n"
          ]
        }
      ],
      "source": [
        "from google.colab import drive\n",
        "drive.mount('/content/drive')"
      ]
    },
    {
      "cell_type": "code",
      "execution_count": 197,
      "metadata": {
        "id": "OA4UW3j4kePR",
        "colab": {
          "base_uri": "https://localhost:8080/",
          "height": 35
        },
        "outputId": "b6f0e11c-602c-427e-886e-8e42ab5f866d"
      },
      "outputs": [
        {
          "output_type": "execute_result",
          "data": {
            "text/plain": [
              "'/content/drive/My Drive/DSL세션/[0804]Supervised_learning'"
            ],
            "application/vnd.google.colaboratory.intrinsic+json": {
              "type": "string"
            }
          },
          "metadata": {},
          "execution_count": 197
        }
      ],
      "source": [
        "import os\n",
        "os.getcwd()"
      ]
    },
    {
      "cell_type": "markdown",
      "metadata": {
        "id": "NtVt7I7qWH8s"
      },
      "source": [
        "코랩 사용시 본인 구글 드라이브 경로는  \n",
        "/content/drive/MyDrive/...  \n",
        "입니다."
      ]
    },
    {
      "cell_type": "code",
      "execution_count": 198,
      "metadata": {
        "id": "SiVE75urjpg3"
      },
      "outputs": [],
      "source": [
        "path = '/content/drive/MyDrive/DSL세션/[0804]Supervised_learning'    # 과제 데이터셋이 저장된 경로를 더 작성해주세요\n",
        "os.chdir(path)"
      ]
    },
    {
      "cell_type": "markdown",
      "source": [
        ""
      ],
      "metadata": {
        "id": "7xUDTv3NkMaX"
      }
    },
    {
      "cell_type": "code",
      "execution_count": 199,
      "metadata": {
        "id": "0qXX7Ab0kHuX",
        "colab": {
          "base_uri": "https://localhost:8080/",
          "height": 35
        },
        "outputId": "9a2251b6-ef4e-4ff4-a045-6fea52c2a586"
      },
      "outputs": [
        {
          "output_type": "execute_result",
          "data": {
            "text/plain": [
              "'/content/drive/MyDrive/DSL세션/[0804]Supervised_learning'"
            ],
            "application/vnd.google.colaboratory.intrinsic+json": {
              "type": "string"
            }
          },
          "metadata": {},
          "execution_count": 199
        }
      ],
      "source": [
        "os.getcwd()"
      ]
    },
    {
      "cell_type": "markdown",
      "metadata": {
        "id": "JfNxu2eTDyl6"
      },
      "source": [
        "사용할 데이터 셋 :  전력 사용량 예측 모델\n",
        "\n",
        "아래의 과정에서 sklearn의 Pipeline의 사용은 필수는 아닙니다. 선호와 필요에 따라 사용하실 분들은 사용하셔도 좋습니다."
      ]
    },
    {
      "cell_type": "markdown",
      "metadata": {
        "id": "L2kryCvpTOxP"
      },
      "source": [
        "# 데이터"
      ]
    },
    {
      "cell_type": "markdown",
      "metadata": {
        "id": "K2sLE1gZOTc2"
      },
      "source": [
        "건물 정보와 기후 정보를 활용한 전력사용량 예측 데이터 중에서 \n",
        "\n",
        "환경 변수(기온, 풍속, 습도, 강수량, 일조)에 대해 전력 사용량을 선형회귀 모델을 사용해서 예측해보고자 합니다."
      ]
    },
    {
      "cell_type": "code",
      "execution_count": 200,
      "metadata": {
        "id": "aoyfINbzTOxS"
      },
      "outputs": [],
      "source": [
        "var_name = ['Temp', 'Wind', 'Moisture', 'Precipitation', 'Sun']\n",
        "target = 'Wh'"
      ]
    },
    {
      "cell_type": "code",
      "execution_count": 201,
      "metadata": {
        "id": "m9hpuNOzTOxT"
      },
      "outputs": [],
      "source": [
        "def parsing(data: pd.DataFrame):\n",
        "    x = data.iloc[:, 3:8]\n",
        "    x.columns = var_name\n",
        "    y = data.iloc[:, 2]\n",
        "    y.name = target\n",
        "    \n",
        "    return x, y"
      ]
    },
    {
      "cell_type": "code",
      "execution_count": 202,
      "metadata": {
        "id": "CF6lMPQeTOxU"
      },
      "outputs": [],
      "source": [
        "def load_data():\n",
        "    data = pd.read_csv('/content/drive/MyDrive/DSL세션/[0804]Supervised_learning/train.csv', encoding='cp949')\n",
        "    data = data[: 100]\n",
        "    x, y = parsing(data)    \n",
        "    cut = int(round(len(x)*0.88))\n",
        "    tr_x = x[:cut]\n",
        "    tr_y = y[:cut]\n",
        "    te_x = x[cut:]\n",
        "    te_y = y[cut:]\n",
        "    return tr_x, tr_y, te_x, te_y"
      ]
    },
    {
      "cell_type": "code",
      "execution_count": 203,
      "metadata": {
        "id": "AHMQX1hcTOxV"
      },
      "outputs": [],
      "source": [
        "train_x, train_y, test_x, test_y = load_data()"
      ]
    },
    {
      "cell_type": "code",
      "source": [
        "train_x"
      ],
      "metadata": {
        "colab": {
          "base_uri": "https://localhost:8080/",
          "height": 424
        },
        "id": "OTPjZ9N7pQ04",
        "outputId": "bd1e04be-41b9-46f9-d0f8-8b255959de5e"
      },
      "execution_count": 204,
      "outputs": [
        {
          "output_type": "execute_result",
          "data": {
            "text/plain": [
              "    Temp  Wind  Moisture  Precipitation  Sun\n",
              "0   17.6   2.5      92.0            0.8  0.0\n",
              "1   17.7   2.9      91.0            0.3  0.0\n",
              "2   17.5   3.2      91.0            0.0  0.0\n",
              "3   17.1   3.2      91.0            0.0  0.0\n",
              "4   17.0   3.3      92.0            0.0  0.0\n",
              "..   ...   ...       ...            ...  ...\n",
              "83  23.9   2.8      68.0            0.0  0.6\n",
              "84  25.0   3.1      63.0            0.0  0.8\n",
              "85  26.0   3.1      60.0            0.0  1.0\n",
              "86  26.4   3.8      60.0            0.0  1.0\n",
              "87  25.4   4.2      66.0            0.0  0.5\n",
              "\n",
              "[88 rows x 5 columns]"
            ],
            "text/html": [
              "\n",
              "  <div id=\"df-6f5fed8f-0160-4ef8-afcb-c49acbd4c102\">\n",
              "    <div class=\"colab-df-container\">\n",
              "      <div>\n",
              "<style scoped>\n",
              "    .dataframe tbody tr th:only-of-type {\n",
              "        vertical-align: middle;\n",
              "    }\n",
              "\n",
              "    .dataframe tbody tr th {\n",
              "        vertical-align: top;\n",
              "    }\n",
              "\n",
              "    .dataframe thead th {\n",
              "        text-align: right;\n",
              "    }\n",
              "</style>\n",
              "<table border=\"1\" class=\"dataframe\">\n",
              "  <thead>\n",
              "    <tr style=\"text-align: right;\">\n",
              "      <th></th>\n",
              "      <th>Temp</th>\n",
              "      <th>Wind</th>\n",
              "      <th>Moisture</th>\n",
              "      <th>Precipitation</th>\n",
              "      <th>Sun</th>\n",
              "    </tr>\n",
              "  </thead>\n",
              "  <tbody>\n",
              "    <tr>\n",
              "      <th>0</th>\n",
              "      <td>17.6</td>\n",
              "      <td>2.5</td>\n",
              "      <td>92.0</td>\n",
              "      <td>0.8</td>\n",
              "      <td>0.0</td>\n",
              "    </tr>\n",
              "    <tr>\n",
              "      <th>1</th>\n",
              "      <td>17.7</td>\n",
              "      <td>2.9</td>\n",
              "      <td>91.0</td>\n",
              "      <td>0.3</td>\n",
              "      <td>0.0</td>\n",
              "    </tr>\n",
              "    <tr>\n",
              "      <th>2</th>\n",
              "      <td>17.5</td>\n",
              "      <td>3.2</td>\n",
              "      <td>91.0</td>\n",
              "      <td>0.0</td>\n",
              "      <td>0.0</td>\n",
              "    </tr>\n",
              "    <tr>\n",
              "      <th>3</th>\n",
              "      <td>17.1</td>\n",
              "      <td>3.2</td>\n",
              "      <td>91.0</td>\n",
              "      <td>0.0</td>\n",
              "      <td>0.0</td>\n",
              "    </tr>\n",
              "    <tr>\n",
              "      <th>4</th>\n",
              "      <td>17.0</td>\n",
              "      <td>3.3</td>\n",
              "      <td>92.0</td>\n",
              "      <td>0.0</td>\n",
              "      <td>0.0</td>\n",
              "    </tr>\n",
              "    <tr>\n",
              "      <th>...</th>\n",
              "      <td>...</td>\n",
              "      <td>...</td>\n",
              "      <td>...</td>\n",
              "      <td>...</td>\n",
              "      <td>...</td>\n",
              "    </tr>\n",
              "    <tr>\n",
              "      <th>83</th>\n",
              "      <td>23.9</td>\n",
              "      <td>2.8</td>\n",
              "      <td>68.0</td>\n",
              "      <td>0.0</td>\n",
              "      <td>0.6</td>\n",
              "    </tr>\n",
              "    <tr>\n",
              "      <th>84</th>\n",
              "      <td>25.0</td>\n",
              "      <td>3.1</td>\n",
              "      <td>63.0</td>\n",
              "      <td>0.0</td>\n",
              "      <td>0.8</td>\n",
              "    </tr>\n",
              "    <tr>\n",
              "      <th>85</th>\n",
              "      <td>26.0</td>\n",
              "      <td>3.1</td>\n",
              "      <td>60.0</td>\n",
              "      <td>0.0</td>\n",
              "      <td>1.0</td>\n",
              "    </tr>\n",
              "    <tr>\n",
              "      <th>86</th>\n",
              "      <td>26.4</td>\n",
              "      <td>3.8</td>\n",
              "      <td>60.0</td>\n",
              "      <td>0.0</td>\n",
              "      <td>1.0</td>\n",
              "    </tr>\n",
              "    <tr>\n",
              "      <th>87</th>\n",
              "      <td>25.4</td>\n",
              "      <td>4.2</td>\n",
              "      <td>66.0</td>\n",
              "      <td>0.0</td>\n",
              "      <td>0.5</td>\n",
              "    </tr>\n",
              "  </tbody>\n",
              "</table>\n",
              "<p>88 rows × 5 columns</p>\n",
              "</div>\n",
              "      <button class=\"colab-df-convert\" onclick=\"convertToInteractive('df-6f5fed8f-0160-4ef8-afcb-c49acbd4c102')\"\n",
              "              title=\"Convert this dataframe to an interactive table.\"\n",
              "              style=\"display:none;\">\n",
              "        \n",
              "  <svg xmlns=\"http://www.w3.org/2000/svg\" height=\"24px\"viewBox=\"0 0 24 24\"\n",
              "       width=\"24px\">\n",
              "    <path d=\"M0 0h24v24H0V0z\" fill=\"none\"/>\n",
              "    <path d=\"M18.56 5.44l.94 2.06.94-2.06 2.06-.94-2.06-.94-.94-2.06-.94 2.06-2.06.94zm-11 1L8.5 8.5l.94-2.06 2.06-.94-2.06-.94L8.5 2.5l-.94 2.06-2.06.94zm10 10l.94 2.06.94-2.06 2.06-.94-2.06-.94-.94-2.06-.94 2.06-2.06.94z\"/><path d=\"M17.41 7.96l-1.37-1.37c-.4-.4-.92-.59-1.43-.59-.52 0-1.04.2-1.43.59L10.3 9.45l-7.72 7.72c-.78.78-.78 2.05 0 2.83L4 21.41c.39.39.9.59 1.41.59.51 0 1.02-.2 1.41-.59l7.78-7.78 2.81-2.81c.8-.78.8-2.07 0-2.86zM5.41 20L4 18.59l7.72-7.72 1.47 1.35L5.41 20z\"/>\n",
              "  </svg>\n",
              "      </button>\n",
              "      \n",
              "  <style>\n",
              "    .colab-df-container {\n",
              "      display:flex;\n",
              "      flex-wrap:wrap;\n",
              "      gap: 12px;\n",
              "    }\n",
              "\n",
              "    .colab-df-convert {\n",
              "      background-color: #E8F0FE;\n",
              "      border: none;\n",
              "      border-radius: 50%;\n",
              "      cursor: pointer;\n",
              "      display: none;\n",
              "      fill: #1967D2;\n",
              "      height: 32px;\n",
              "      padding: 0 0 0 0;\n",
              "      width: 32px;\n",
              "    }\n",
              "\n",
              "    .colab-df-convert:hover {\n",
              "      background-color: #E2EBFA;\n",
              "      box-shadow: 0px 1px 2px rgba(60, 64, 67, 0.3), 0px 1px 3px 1px rgba(60, 64, 67, 0.15);\n",
              "      fill: #174EA6;\n",
              "    }\n",
              "\n",
              "    [theme=dark] .colab-df-convert {\n",
              "      background-color: #3B4455;\n",
              "      fill: #D2E3FC;\n",
              "    }\n",
              "\n",
              "    [theme=dark] .colab-df-convert:hover {\n",
              "      background-color: #434B5C;\n",
              "      box-shadow: 0px 1px 3px 1px rgba(0, 0, 0, 0.15);\n",
              "      filter: drop-shadow(0px 1px 2px rgba(0, 0, 0, 0.3));\n",
              "      fill: #FFFFFF;\n",
              "    }\n",
              "  </style>\n",
              "\n",
              "      <script>\n",
              "        const buttonEl =\n",
              "          document.querySelector('#df-6f5fed8f-0160-4ef8-afcb-c49acbd4c102 button.colab-df-convert');\n",
              "        buttonEl.style.display =\n",
              "          google.colab.kernel.accessAllowed ? 'block' : 'none';\n",
              "\n",
              "        async function convertToInteractive(key) {\n",
              "          const element = document.querySelector('#df-6f5fed8f-0160-4ef8-afcb-c49acbd4c102');\n",
              "          const dataTable =\n",
              "            await google.colab.kernel.invokeFunction('convertToInteractive',\n",
              "                                                     [key], {});\n",
              "          if (!dataTable) return;\n",
              "\n",
              "          const docLinkHtml = 'Like what you see? Visit the ' +\n",
              "            '<a target=\"_blank\" href=https://colab.research.google.com/notebooks/data_table.ipynb>data table notebook</a>'\n",
              "            + ' to learn more about interactive tables.';\n",
              "          element.innerHTML = '';\n",
              "          dataTable['output_type'] = 'display_data';\n",
              "          await google.colab.output.renderOutput(dataTable, element);\n",
              "          const docLink = document.createElement('div');\n",
              "          docLink.innerHTML = docLinkHtml;\n",
              "          element.appendChild(docLink);\n",
              "        }\n",
              "      </script>\n",
              "    </div>\n",
              "  </div>\n",
              "  "
            ]
          },
          "metadata": {},
          "execution_count": 204
        }
      ]
    },
    {
      "cell_type": "markdown",
      "metadata": {
        "id": "FtOBVORnPUCt"
      },
      "source": [
        "## 데이터 확인 \n",
        "\n",
        "주의! 최종 예측하는 단계 이전에는 현재 가지고 있는 데이터, 즉 train data만을 이용하여 작업을 진행해야 합니다.\n",
        "\n",
        "현재 가지고 있는 데이터 train_x를 보고 전력 사용량을 예측하는데에 사용할 변수를 선택해주세요.\n",
        "\n",
        "기초세션에서 다뤘던 내용을 참고하셔서 최적의 변수 조합을 찾아보도록 합시다.\n",
        "\n",
        "이 때 선택해야하는 변수는 하나일 수도 있고, 여러개의 변수를 사용하여도 좋습니다."
      ]
    },
    {
      "cell_type": "code",
      "source": [
        "# 데이터 셋을 둘러보는 코드 작성하시고, 왜 좋은지 한번 둘러보세요!"
      ],
      "metadata": {
        "id": "e9NNC_jxWtwD"
      },
      "execution_count": 205,
      "outputs": []
    },
    {
      "cell_type": "code",
      "source": [
        "plt.scatter(train_x[\"Temp\"], train_y)"
      ],
      "metadata": {
        "colab": {
          "base_uri": "https://localhost:8080/",
          "height": 283
        },
        "id": "zgKWFkl7Rkuw",
        "outputId": "68e62103-aa3d-4b55-d181-aef2aba93107"
      },
      "execution_count": 206,
      "outputs": [
        {
          "output_type": "execute_result",
          "data": {
            "text/plain": [
              "<matplotlib.collections.PathCollection at 0x7f96331df090>"
            ]
          },
          "metadata": {},
          "execution_count": 206
        },
        {
          "output_type": "display_data",
          "data": {
            "text/plain": [
              "<Figure size 432x288 with 1 Axes>"
            ],
            "image/png": "[encoded data removed]"
          },
          "metadata": {
            "needs_background": "light"
          }
        }
      ]
    },
    {
      "cell_type": "code",
      "source": [
        "plt.scatter(train_x[\"Wind\"], train_y)"
      ],
      "metadata": {
        "colab": {
          "base_uri": "https://localhost:8080/",
          "height": 283
        },
        "id": "5wF6oyt5UwOo",
        "outputId": "7552225e-7dfd-4da6-bdce-35c64464e293"
      },
      "execution_count": 207,
      "outputs": [
        {
          "output_type": "execute_result",
          "data": {
            "text/plain": [
              "<matplotlib.collections.PathCollection at 0x7f96331df190>"
            ]
          },
          "metadata": {},
          "execution_count": 207
        },
        {
          "output_type": "display_data",
          "data": {
            "text/plain": [
              "<Figure size 432x288 with 1 Axes>"
            ],
            "image/png": "[encoded data removed]"
          },
          "metadata": {
            "needs_background": "light"
          }
        }
      ]
    },
    {
      "cell_type": "code",
      "source": [
        "plt.scatter(train_x[\"Moisture\"], train_y)"
      ],
      "metadata": {
        "colab": {
          "base_uri": "https://localhost:8080/",
          "height": 283
        },
        "id": "tNzjtAYFUxUx",
        "outputId": "78347a6b-558e-4d18-c648-365de369e8c4"
      },
      "execution_count": 208,
      "outputs": [
        {
          "output_type": "execute_result",
          "data": {
            "text/plain": [
              "<matplotlib.collections.PathCollection at 0x7f9633116590>"
            ]
          },
          "metadata": {},
          "execution_count": 208
        },
        {
          "output_type": "display_data",
          "data": {
            "text/plain": [
              "<Figure size 432x288 with 1 Axes>"
            ],
            "image/png": "[encoded data removed]"
          },
          "metadata": {
            "needs_background": "light"
          }
        }
      ]
    },
    {
      "cell_type": "code",
      "source": [
        "plt.scatter(train_x[\"Precipitation\"], train_y)"
      ],
      "metadata": {
        "colab": {
          "base_uri": "https://localhost:8080/",
          "height": 283
        },
        "id": "PsG3Xn3EUyuh",
        "outputId": "3813001b-9e3b-4cbc-fd67-de562c3a31d9"
      },
      "execution_count": 209,
      "outputs": [
        {
          "output_type": "execute_result",
          "data": {
            "text/plain": [
              "<matplotlib.collections.PathCollection at 0x7f96331163d0>"
            ]
          },
          "metadata": {},
          "execution_count": 209
        },
        {
          "output_type": "display_data",
          "data": {
            "text/plain": [
              "<Figure size 432x288 with 1 Axes>"
            ],
            "image/png": "[encoded data removed]"
          },
          "metadata": {
            "needs_background": "light"
          }
        }
      ]
    },
    {
      "cell_type": "code",
      "source": [
        "plt.scatter(train_x[\"Sun\"], train_y)"
      ],
      "metadata": {
        "colab": {
          "base_uri": "https://localhost:8080/",
          "height": 283
        },
        "id": "qBc2aO36U0MW",
        "outputId": "28d1f0cc-821f-43ea-f1f1-f5bbf6750b2d"
      },
      "execution_count": 210,
      "outputs": [
        {
          "output_type": "execute_result",
          "data": {
            "text/plain": [
              "<matplotlib.collections.PathCollection at 0x7f963306c350>"
            ]
          },
          "metadata": {},
          "execution_count": 210
        },
        {
          "output_type": "display_data",
          "data": {
            "text/plain": [
              "<Figure size 432x288 with 1 Axes>"
            ],
            "image/png": "[encoded data removed]"
          },
          "metadata": {
            "needs_background": "light"
          }
        }
      ]
    },
    {
      "cell_type": "code",
      "source": [
        "# 각 변수와 Y 사이의 상관계수를 확인합니다.\n",
        "train_xy = train_x.copy()\n",
        "train_xy[\"Y\"] = train_y\n",
        "print(train_xy.corr(method='pearson')[\"Y\"])"
      ],
      "metadata": {
        "colab": {
          "base_uri": "https://localhost:8080/"
        },
        "id": "RJ335R69Wrut",
        "outputId": "360c16dc-3b64-4c2e-a4c5-f3ebbdcfc5e9"
      },
      "execution_count": 211,
      "outputs": [
        {
          "output_type": "stream",
          "name": "stdout",
          "text": [
            "Temp             0.803301\n",
            "Wind             0.349288\n",
            "Moisture        -0.095042\n",
            "Precipitation   -0.090389\n",
            "Sun              0.458348\n",
            "Y                1.000000\n",
            "Name: Y, dtype: float64\n"
          ]
        }
      ]
    },
    {
      "cell_type": "code",
      "source": [
        "train_x = train_x.drop([\"Wind\",\"Moisture\",\"Precipitation\",\"Sun\"], axis=1)"
      ],
      "metadata": {
        "id": "EQwBeNbpXJMM"
      },
      "execution_count": 212,
      "outputs": []
    },
    {
      "cell_type": "code",
      "source": [
        "train_x"
      ],
      "metadata": {
        "colab": {
          "base_uri": "https://localhost:8080/",
          "height": 424
        },
        "id": "HltpQ19FXlFt",
        "outputId": "dd75f13c-4382-46e7-cd90-e61eb685b021"
      },
      "execution_count": 213,
      "outputs": [
        {
          "output_type": "execute_result",
          "data": {
            "text/plain": [
              "    Temp\n",
              "0   17.6\n",
              "1   17.7\n",
              "2   17.5\n",
              "3   17.1\n",
              "4   17.0\n",
              "..   ...\n",
              "83  23.9\n",
              "84  25.0\n",
              "85  26.0\n",
              "86  26.4\n",
              "87  25.4\n",
              "\n",
              "[88 rows x 1 columns]"
            ],
            "text/html": [
              "\n",
              "  <div id=\"df-a23dd816-9cd4-428d-a489-f8dd026cc4f1\">\n",
              "    <div class=\"colab-df-container\">\n",
              "      <div>\n",
              "<style scoped>\n",
              "    .dataframe tbody tr th:only-of-type {\n",
              "        vertical-align: middle;\n",
              "    }\n",
              "\n",
              "    .dataframe tbody tr th {\n",
              "        vertical-align: top;\n",
              "    }\n",
              "\n",
              "    .dataframe thead th {\n",
              "        text-align: right;\n",
              "    }\n",
              "</style>\n",
              "<table border=\"1\" class=\"dataframe\">\n",
              "  <thead>\n",
              "    <tr style=\"text-align: right;\">\n",
              "      <th></th>\n",
              "      <th>Temp</th>\n",
              "    </tr>\n",
              "  </thead>\n",
              "  <tbody>\n",
              "    <tr>\n",
              "      <th>0</th>\n",
              "      <td>17.6</td>\n",
              "    </tr>\n",
              "    <tr>\n",
              "      <th>1</th>\n",
              "      <td>17.7</td>\n",
              "    </tr>\n",
              "    <tr>\n",
              "      <th>2</th>\n",
              "      <td>17.5</td>\n",
              "    </tr>\n",
              "    <tr>\n",
              "      <th>3</th>\n",
              "      <td>17.1</td>\n",
              "    </tr>\n",
              "    <tr>\n",
              "      <th>4</th>\n",
              "      <td>17.0</td>\n",
              "    </tr>\n",
              "    <tr>\n",
              "      <th>...</th>\n",
              "      <td>...</td>\n",
              "    </tr>\n",
              "    <tr>\n",
              "      <th>83</th>\n",
              "      <td>23.9</td>\n",
              "    </tr>\n",
              "    <tr>\n",
              "      <th>84</th>\n",
              "      <td>25.0</td>\n",
              "    </tr>\n",
              "    <tr>\n",
              "      <th>85</th>\n",
              "      <td>26.0</td>\n",
              "    </tr>\n",
              "    <tr>\n",
              "      <th>86</th>\n",
              "      <td>26.4</td>\n",
              "    </tr>\n",
              "    <tr>\n",
              "      <th>87</th>\n",
              "      <td>25.4</td>\n",
              "    </tr>\n",
              "  </tbody>\n",
              "</table>\n",
              "<p>88 rows × 1 columns</p>\n",
              "</div>\n",
              "      <button class=\"colab-df-convert\" onclick=\"convertToInteractive('df-a23dd816-9cd4-428d-a489-f8dd026cc4f1')\"\n",
              "              title=\"Convert this dataframe to an interactive table.\"\n",
              "              style=\"display:none;\">\n",
              "        \n",
              "  <svg xmlns=\"http://www.w3.org/2000/svg\" height=\"24px\"viewBox=\"0 0 24 24\"\n",
              "       width=\"24px\">\n",
              "    <path d=\"M0 0h24v24H0V0z\" fill=\"none\"/>\n",
              "    <path d=\"M18.56 5.44l.94 2.06.94-2.06 2.06-.94-2.06-.94-.94-2.06-.94 2.06-2.06.94zm-11 1L8.5 8.5l.94-2.06 2.06-.94-2.06-.94L8.5 2.5l-.94 2.06-2.06.94zm10 10l.94 2.06.94-2.06 2.06-.94-2.06-.94-.94-2.06-.94 2.06-2.06.94z\"/><path d=\"M17.41 7.96l-1.37-1.37c-.4-.4-.92-.59-1.43-.59-.52 0-1.04.2-1.43.59L10.3 9.45l-7.72 7.72c-.78.78-.78 2.05 0 2.83L4 21.41c.39.39.9.59 1.41.59.51 0 1.02-.2 1.41-.59l7.78-7.78 2.81-2.81c.8-.78.8-2.07 0-2.86zM5.41 20L4 18.59l7.72-7.72 1.47 1.35L5.41 20z\"/>\n",
              "  </svg>\n",
              "      </button>\n",
              "      \n",
              "  <style>\n",
              "    .colab-df-container {\n",
              "      display:flex;\n",
              "      flex-wrap:wrap;\n",
              "      gap: 12px;\n",
              "    }\n",
              "\n",
              "    .colab-df-convert {\n",
              "      background-color: #E8F0FE;\n",
              "      border: none;\n",
              "      border-radius: 50%;\n",
              "      cursor: pointer;\n",
              "      display: none;\n",
              "      fill: #1967D2;\n",
              "      height: 32px;\n",
              "      padding: 0 0 0 0;\n",
              "      width: 32px;\n",
              "    }\n",
              "\n",
              "    .colab-df-convert:hover {\n",
              "      background-color: #E2EBFA;\n",
              "      box-shadow: 0px 1px 2px rgba(60, 64, 67, 0.3), 0px 1px 3px 1px rgba(60, 64, 67, 0.15);\n",
              "      fill: #174EA6;\n",
              "    }\n",
              "\n",
              "    [theme=dark] .colab-df-convert {\n",
              "      background-color: #3B4455;\n",
              "      fill: #D2E3FC;\n",
              "    }\n",
              "\n",
              "    [theme=dark] .colab-df-convert:hover {\n",
              "      background-color: #434B5C;\n",
              "      box-shadow: 0px 1px 3px 1px rgba(0, 0, 0, 0.15);\n",
              "      filter: drop-shadow(0px 1px 2px rgba(0, 0, 0, 0.3));\n",
              "      fill: #FFFFFF;\n",
              "    }\n",
              "  </style>\n",
              "\n",
              "      <script>\n",
              "        const buttonEl =\n",
              "          document.querySelector('#df-a23dd816-9cd4-428d-a489-f8dd026cc4f1 button.colab-df-convert');\n",
              "        buttonEl.style.display =\n",
              "          google.colab.kernel.accessAllowed ? 'block' : 'none';\n",
              "\n",
              "        async function convertToInteractive(key) {\n",
              "          const element = document.querySelector('#df-a23dd816-9cd4-428d-a489-f8dd026cc4f1');\n",
              "          const dataTable =\n",
              "            await google.colab.kernel.invokeFunction('convertToInteractive',\n",
              "                                                     [key], {});\n",
              "          if (!dataTable) return;\n",
              "\n",
              "          const docLinkHtml = 'Like what you see? Visit the ' +\n",
              "            '<a target=\"_blank\" href=https://colab.research.google.com/notebooks/data_table.ipynb>data table notebook</a>'\n",
              "            + ' to learn more about interactive tables.';\n",
              "          element.innerHTML = '';\n",
              "          dataTable['output_type'] = 'display_data';\n",
              "          await google.colab.output.renderOutput(dataTable, element);\n",
              "          const docLink = document.createElement('div');\n",
              "          docLink.innerHTML = docLinkHtml;\n",
              "          element.appendChild(docLink);\n",
              "        }\n",
              "      </script>\n",
              "    </div>\n",
              "  </div>\n",
              "  "
            ]
          },
          "metadata": {},
          "execution_count": 213
        }
      ]
    },
    {
      "cell_type": "markdown",
      "metadata": {
        "id": "kD24Xx9XLotD"
      },
      "source": [
        "정답은 없습니다! \n",
        "\n",
        "다만 최종 선택한 변수(들)이 왜 선택받았는지 간단히 알려주세요.<br>\n",
        "답변 : Temp를 선택합니다.<br>\n",
        "산점도나 상관계수를 봤을 때 Y와 관련이 있는 변수는 Temp 하나로 판단할 수 있습니다."
      ]
    },
    {
      "cell_type": "markdown",
      "metadata": {
        "id": "9FeCbQAFP6Kw"
      },
      "source": [
        "## 전처리\n",
        "\n",
        "위에서 선택한 변수들(feature)를 가지고 한번 전력 사용량을 예측하는 모델을 만들어 보기에 앞서,\n",
        "\n",
        "**train 데이터의 feature의 전처리**를 진행해보려고 합니다. StandardScaler를 사용하셔도 좋고, MinMaxScaler를 사용하셔도 좋습니다! \n",
        "\n",
        "또한 PolynomialFeatures를 이용하거나 직접 feature를 계산하여 고차원의 feature를 만드셔도 좋습니다. 이 또한 정답은 없습니다!\n",
        "\n",
        "이 때 최종 train_x의 shape은 (n_samples, n_features)가 되도록 해주세요.<br>\n",
        "ex. 4개의 변수를 가진 1000개의 샘플의 경우 train_x.shape은 (1000,4)가 되면 됩니다.\n",
        "\n",
        "특히 하나의 변수만을 사용하시는 분들은 1D가 아닌 2D가 되도록 신경써주세요<br>\n",
        "ex. train_x.shape이 (1000,)이 아닌 (1000,1)입니다!"
      ]
    },
    {
      "cell_type": "code",
      "execution_count": 214,
      "metadata": {
        "id": "Zu2vACiJTOxY"
      },
      "outputs": [],
      "source": [
        "# 사용할 패키지를 import!\n",
        "from sklearn.preprocessing import MinMaxScaler\n",
        "from sklearn.preprocessing import StandardScaler"
      ]
    },
    {
      "cell_type": "code",
      "source": [
        "preprocessd_data_agg_MinMax = MinMaxScaler().fit_transform(train_x)\n",
        "train_x = preprocessd_data_agg_MinMax"
      ],
      "metadata": {
        "id": "ZVvBXwj94SZh"
      },
      "execution_count": 215,
      "outputs": []
    },
    {
      "cell_type": "code",
      "execution_count": 216,
      "metadata": {
        "id": "MbDAlaHFTOxZ",
        "colab": {
          "base_uri": "https://localhost:8080/"
        },
        "outputId": "e4addde4-3b9f-40f6-ae20-c380baebd82e"
      },
      "outputs": [
        {
          "output_type": "execute_result",
          "data": {
            "text/plain": [
              "(88, 1)"
            ]
          },
          "metadata": {},
          "execution_count": 216
        }
      ],
      "source": [
        "preprocessd_data_agg_MinMax.shape"
      ]
    },
    {
      "cell_type": "code",
      "source": [
        "# preprocessd_data_agg_Standard = StandardScaler().fit_transform(train_x)\n",
        "# preprocessd_data_agg_Standard"
      ],
      "metadata": {
        "id": "bVFNgPsW42xT"
      },
      "execution_count": 217,
      "outputs": []
    },
    {
      "cell_type": "code",
      "source": [
        "# preprocessd_data_agg_Standard.shape"
      ],
      "metadata": {
        "id": "D5t-GXbW4-ls"
      },
      "execution_count": 218,
      "outputs": []
    },
    {
      "cell_type": "markdown",
      "metadata": {
        "id": "Z0M-9X1nTOxZ"
      },
      "source": [
        "# 모델링"
      ]
    },
    {
      "cell_type": "markdown",
      "metadata": {
        "id": "qIceamSTTOxa"
      },
      "source": [
        "## 학습 \n",
        "\n",
        "이제 모델링을 해봅시다.\n",
        "\n",
        "앞서 다룬 여러 regression 모델들(Linear regression, Ridge Regression, Lasso Regression, ..)을 이용해서 fit을 진행해보도록 합시다."
      ]
    },
    {
      "cell_type": "code",
      "execution_count": 219,
      "metadata": {
        "id": "nCd88UXEQFdZ"
      },
      "outputs": [],
      "source": [
        "# 사용할 패키지를 import!\n",
        "from sklearn.linear_model import LinearRegression"
      ]
    },
    {
      "cell_type": "code",
      "execution_count": 220,
      "metadata": {
        "id": "y7hwaxnZUIwY",
        "colab": {
          "base_uri": "https://localhost:8080/"
        },
        "outputId": "7fe266af-4815-44d1-e498-78b982e97bd8"
      },
      "outputs": [
        {
          "output_type": "execute_result",
          "data": {
            "text/plain": [
              "LinearRegression()"
            ]
          },
          "metadata": {},
          "execution_count": 220
        }
      ],
      "source": [
        "# 선형회귀 모델 생성 후 fitting 시킵니다.\n",
        "# model = \n",
        "linreg=LinearRegression()\n",
        "linreg.fit(train_x,train_y)"
      ]
    },
    {
      "cell_type": "code",
      "source": [
        "linear_model = LinearRegression().fit(train_x, train_y)\n",
        "linear_pred_y = linear_model.predict(train_x)\n",
        "\n",
        "linear_beta = linear_model.coef_[0]\n",
        "linear_intercept = linear_model.intercept_\n",
        "print(f\"Beta :{linear_beta: .4f}\")\n",
        "print(f\"Intercept : {linear_intercept: .4f}\")"
      ],
      "metadata": {
        "id": "SqhI70chSbdW",
        "colab": {
          "base_uri": "https://localhost:8080/"
        },
        "outputId": "82815da5-f39a-474a-e292-e8fada80c6b9"
      },
      "execution_count": 221,
      "outputs": [
        {
          "output_type": "stream",
          "name": "stdout",
          "text": [
            "Beta : 667.4740\n",
            "Intercept :  7871.0532\n"
          ]
        }
      ]
    },
    {
      "cell_type": "markdown",
      "metadata": {
        "id": "ochMgRH7TOxb"
      },
      "source": [
        "## 추정\n",
        "\n",
        "이제 train_x를 이용하여 전력사용량을 추정해보도록 합시다."
      ]
    },
    {
      "cell_type": "code",
      "execution_count": 222,
      "metadata": {
        "id": "m-ps2Q9yTOxc",
        "colab": {
          "base_uri": "https://localhost:8080/"
        },
        "outputId": "70449215-a9de-401b-8517-668ace270084"
      },
      "outputs": [
        {
          "output_type": "execute_result",
          "data": {
            "text/plain": [
              "[8010.525431905801,\n",
              " 8015.506581515556,\n",
              " 8005.544282296046,\n",
              " 7985.619683857027,\n",
              " 7980.638534247272,\n",
              " 7975.657384637518,\n",
              " 7965.695085418008,\n",
              " 7975.657384637518,\n",
              " 8020.48773112531,\n",
              " 8095.204975271632,\n",
              " 8154.978770588688,\n",
              " 8234.677164344765,\n",
              " 8284.488660442312,\n",
              " 8284.488660442312,\n",
              " 8309.394408491085,\n",
              " 8319.356707710594,\n",
              " 8349.243605369124,\n",
              " 8309.394408491085,\n",
              " 8264.564062003294,\n",
              " 8194.827967466726,\n",
              " 8120.110723320406,\n",
              " 8060.3369280033485,\n",
              " 8025.468880735065,\n",
              " 7990.600833466782,\n",
              " 7960.713935808253,\n",
              " 7940.789337369234,\n",
              " 7925.8458885399705,\n",
              " 7915.8835893204605,\n",
              " 7905.921290100951,\n",
              " 7871.053242832668,\n",
              " 7881.015542052177,\n",
              " 7905.921290100951,\n",
              " 7930.827038149725,\n",
              " 7975.657384637518,\n",
              " 7995.581983076537,\n",
              " 8005.544282296046,\n",
              " 7945.770486978989,\n",
              " 8005.544282296046,\n",
              " 8149.997620978934,\n",
              " 8174.903369027707,\n",
              " 8214.752565905745,\n",
              " 8189.846817856972,\n",
              " 8159.959920198443,\n",
              " 8145.016471369179,\n",
              " 8125.09187293016,\n",
              " 8110.148424100896,\n",
              " 8095.204975271632,\n",
              " 8080.2615264423675,\n",
              " 8050.3746287838385,\n",
              " 8045.393479174084,\n",
              " 8040.412329564329,\n",
              " 8040.412329564329,\n",
              " 8035.431179954575,\n",
              " 8035.431179954575,\n",
              " 8010.525431905801,\n",
              " 8045.393479174084,\n",
              " 8115.12957371065,\n",
              " 8169.922219417953,\n",
              " 8229.69601473501,\n",
              " 8284.488660442312,\n",
              " 8349.243605369124,\n",
              " 8433.923148734955,\n",
              " 8468.791196003238,\n",
              " 8523.58384171054,\n",
              " 8538.527290539803,\n",
              " 8533.54614093005,\n",
              " 8433.923148734955,\n",
              " 8319.356707710594,\n",
              " 8179.884518637462,\n",
              " 8154.978770588688,\n",
              " 8149.997620978934,\n",
              " 8135.054172149669,\n",
              " 8135.054172149669,\n",
              " 8130.073022539915,\n",
              " 8135.054172149669,\n",
              " 8149.997620978934,\n",
              " 8154.978770588688,\n",
              " 8145.016471369179,\n",
              " 8135.054172149669,\n",
              " 8135.054172149669,\n",
              " 8135.054172149669,\n",
              " 8159.959920198443,\n",
              " 8249.62061317403,\n",
              " 8324.33785732035,\n",
              " 8379.130503027653,\n",
              " 8428.9419991252,\n",
              " 8448.866597564218,\n",
              " 8399.05510146667]"
            ]
          },
          "metadata": {},
          "execution_count": 222
        }
      ],
      "source": [
        "esti_y = linear_intercept + linear_beta * np.array(train_x)\n",
        "\n",
        "# np.array가 아니라 list로 받기 위한 과정입니다.\n",
        "lst = []\n",
        "for i in range(len(esti_y)):\n",
        "  lst.append(esti_y[i][0])\n",
        "esti_y = lst\n",
        "\n",
        "esti_y"
      ]
    },
    {
      "cell_type": "markdown",
      "metadata": {
        "id": "FoSBS98KTOxd"
      },
      "source": [
        "# Loss 및 시각화\n",
        "\n",
        "앞서 fitting하여 얻은 모델을 이용하여 추정한 값으로 MSE를 측정해봅시다. 변수를 하나만 사용하신 분들은 xy 평면에 한번 같이 시각화도 해보셔도 좋습니다."
      ]
    },
    {
      "cell_type": "code",
      "execution_count": 223,
      "metadata": {
        "id": "evgTPuGsTOxf"
      },
      "outputs": [],
      "source": [
        "def mse(pred, true):\n",
        "    return np.mean((pred-true)**2)"
      ]
    },
    {
      "cell_type": "code",
      "execution_count": 224,
      "metadata": {
        "id": "qjwQz8igTOxf",
        "colab": {
          "base_uri": "https://localhost:8080/"
        },
        "outputId": "13b24ede-7375-4924-f2f8-8067887ff472"
      },
      "outputs": [
        {
          "output_type": "stream",
          "name": "stdout",
          "text": [
            "Linear 14543.75828\n"
          ]
        }
      ],
      "source": [
        "train_mse = mse(esti_y, train_y)\n",
        "print(f\"Linear {train_mse:.5f}\")"
      ]
    },
    {
      "cell_type": "code",
      "execution_count": 225,
      "metadata": {
        "id": "ThKWK_QdUIyo"
      },
      "outputs": [],
      "source": [
        "def visualize(model, x, y):\n",
        "    if x.shape[1] != 1:\n",
        "        return None\n",
        "    beta = model.coef_[0]\n",
        "    intercept = model.intercept_\n",
        "    \n",
        "    x_axis = np.linspace(np.min(x), np.max(x), 100)\n",
        "    fit = intercept * x_axis**0 + beta*x_axis \n",
        "\n",
        "    plt.figure(figsize=(8,6))\n",
        "    plt.plot(x_axis, fit, label='Predict', c='r', linewidth=3)\n",
        "    plt.scatter(x, y, c='blue')\n",
        "    plt.legend()\n",
        "    plt.show()"
      ]
    },
    {
      "cell_type": "code",
      "execution_count": 226,
      "metadata": {
        "id": "fbCv_jXfTOxg",
        "colab": {
          "base_uri": "https://localhost:8080/",
          "height": 374
        },
        "outputId": "f3215442-8c0d-4626-d720-db5085ebd455"
      },
      "outputs": [
        {
          "output_type": "display_data",
          "data": {
            "text/plain": [
              "<Figure size 576x432 with 1 Axes>"
            ],
            "image/png": "[encoded data removed]"
          },
          "metadata": {
            "needs_background": "light"
          }
        }
      ],
      "source": [
        "# visualization 하실 분은 진행해주세요!\n",
        "visualize(linreg, train_x, train_y)"
      ]
    },
    {
      "cell_type": "markdown",
      "metadata": {
        "id": "590JLBY6TOxh"
      },
      "source": [
        "# 예측"
      ]
    },
    {
      "cell_type": "markdown",
      "metadata": {
        "id": "T-6Xv53GXm4K"
      },
      "source": [
        "테스트셋에 대해서 한번 **예측**해보도록 합시다.\n",
        "\n",
        "이미 fitting된 모델 (그리고 scaler를 사용하신다면 scaler)에 대해 **fit을 하지 말고** 단순히 predict만 진행해보도록 합시다. \n",
        "\n",
        "scaler는 transform만 하시고 model은 predict을 진행해주세요"
      ]
    },
    {
      "cell_type": "code",
      "execution_count": 227,
      "metadata": {
        "id": "YTwIN94ZYlhU"
      },
      "outputs": [],
      "source": [
        "# transform을 하시는 분들은 실행해주세요\n",
        "test_x = test_x.drop([\"Wind\",\"Moisture\",\"Precipitation\",\"Sun\"], axis=1)"
      ]
    },
    {
      "cell_type": "code",
      "execution_count": 228,
      "metadata": {
        "id": "MFiKdFKUTOxj",
        "colab": {
          "base_uri": "https://localhost:8080/"
        },
        "outputId": "363938a0-95ab-44dc-8e6d-4aae2b10638e"
      },
      "outputs": [
        {
          "output_type": "execute_result",
          "data": {
            "text/plain": [
              "[8538.527290539803,\n",
              " 8391.683000044233,\n",
              " 8338.285076227663,\n",
              " 8191.440785732093,\n",
              " 8151.392342869665,\n",
              " 8071.295457144809,\n",
              " 8004.548052374095,\n",
              " 7951.150128557524,\n",
              " 7924.451166649238,\n",
              " 7897.752204740953,\n",
              " 7871.053242832668,\n",
              " 7871.053242832668]"
            ]
          },
          "metadata": {},
          "execution_count": 228
        }
      ],
      "source": [
        "test_x = MinMaxScaler().fit_transform(test_x)\n",
        "\n",
        "# y1_hat에 predict값 할당\n",
        "pred_y = linear_intercept + linear_beta * np.array(test_x)\n",
        "\n",
        "# np.array가 아니라 list로 받기 위한 과정입니다.\n",
        "lst = []\n",
        "for i in range(len(pred_y)):\n",
        "  lst.append(pred_y[i][0])\n",
        "pred_y = lst\n",
        "\n",
        "pred_y"
      ]
    },
    {
      "cell_type": "markdown",
      "metadata": {
        "id": "76TJEdKJTOxk"
      },
      "source": [
        "# 성능 평가\n",
        "\n",
        "한번 학습한 모델에 대해 test_y를 이용하여 mse loss를 측정해도도록 합시다."
      ]
    },
    {
      "cell_type": "code",
      "execution_count": 229,
      "metadata": {
        "id": "BRMk46qATOxk"
      },
      "outputs": [],
      "source": [
        "def score(train_mse, test_mse):\n",
        "    print(f\"{test_mse/train_mse: .4f}\")"
      ]
    },
    {
      "cell_type": "code",
      "execution_count": 230,
      "metadata": {
        "scrolled": true,
        "id": "tCmHcuYITOxl",
        "colab": {
          "base_uri": "https://localhost:8080/"
        },
        "outputId": "8bea65f2-7d00-4c0f-e075-a97e39cd844b"
      },
      "outputs": [
        {
          "output_type": "stream",
          "name": "stdout",
          "text": [
            "Linear 307026.09931\n"
          ]
        }
      ],
      "source": [
        "test_mse = mse(pred_y, test_y)\n",
        "print(f\"Linear {test_mse:.5f}\")"
      ]
    },
    {
      "cell_type": "code",
      "execution_count": 231,
      "metadata": {
        "id": "sRo16oKFTOxl",
        "colab": {
          "base_uri": "https://localhost:8080/"
        },
        "outputId": "d5dd832f-be1c-4317-9165-5adc8e05f995"
      },
      "outputs": [
        {
          "output_type": "stream",
          "name": "stdout",
          "text": [
            " 21.1105\n"
          ]
        }
      ],
      "source": [
        "score(train_mse,test_mse)"
      ]
    },
    {
      "cell_type": "code",
      "execution_count": 232,
      "metadata": {
        "id": "hHQz6NrkXmtW",
        "colab": {
          "base_uri": "https://localhost:8080/",
          "height": 374
        },
        "outputId": "5c4e164d-4d76-4432-8aef-cbb9464b6adf"
      },
      "outputs": [
        {
          "output_type": "display_data",
          "data": {
            "text/plain": [
              "<Figure size 576x432 with 1 Axes>"
            ],
            "image/png": "[encoded data removed]"
          },
          "metadata": {
            "needs_background": "light"
          }
        }
      ],
      "source": [
        "# visualization 하실 분은 진행해주세요!\n",
        "visualize(linreg, test_x, test_y)"
      ]
    },
    {
      "cell_type": "markdown",
      "metadata": {
        "id": "u6TXfl2hTOxm"
      },
      "source": [
        "# 그 이후\n",
        "\n",
        "이제 여러분들은 한번 모델을 만들어보고 fitting한 다음 예측까지 해보셨습니다.\n",
        "\n",
        "이제 개선하기 위해 1.데이터부터 5.성능평가 중 수정, 변경하실 부분을 업데이트 해서  최적의 모델을 찾아보세요!\n",
        "\n",
        "현재 사용하고 있는 scaler, model부터 전처리과정 기타 여러 조건을 조작해보시고 어떤 효과가 있는지 한번 보시고 알려주세요:D"
      ]
    },
    {
      "cell_type": "markdown",
      "metadata": {
        "id": "Wpz0zzXWTOxm"
      },
      "source": [
        "고생하셨습니다!"
      ]
    }
  ],
  "metadata": {
    "colab": {
      "collapsed_sections": [],
      "name": "[0804]Supervised_learning_과제.ipynb",
      "provenance": []
    },
    "kernelspec": {
      "display_name": "Python 3 (ipykernel)",
      "language": "python",
      "name": "python3"
    },
    "language_info": {
      "codemirror_mode": {
        "name": "ipython",
        "version": 3
      },
      "file_extension": ".py",
      "mimetype": "text/x-python",
      "name": "python",
      "nbconvert_exporter": "python",
      "pygments_lexer": "ipython3",
      "version": "3.8.12"
    },
    "toc": {
      "base_numbering": 1,
      "nav_menu": {},
      "number_sections": true,
      "sideBar": true,
      "skip_h1_title": false,
      "title_cell": "Table of Contents",
      "title_sidebar": "Contents",
      "toc_cell": false,
      "toc_position": {
        "height": "calc(100% - 180px)",
        "left": "10px",
        "top": "150px",
        "width": "300.792px"
      },
      "toc_section_display": true,
      "toc_window_display": true
    }
  },
  "nbformat": 4,
  "nbformat_minor": 0
}