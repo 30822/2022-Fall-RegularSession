{
 "cells": [
  {
   "cell_type": "code",
   "execution_count": 688,
   "metadata": {
    "id": "NuogZdJAewSq"
   },
   "outputs": [],
   "source": [
    "# 디렉토리 설정\n",
    "import os\n",
    "\n",
    "os.chdir('C:\\\\Users\\\\rbden\\\\OneDrive\\\\바탕 화면\\\\Univ\\\\R & Python\\\\Python\\\\Pythondata')\n",
    "\n",
    "os.getcwd()\n",
    "\n",
    "import numpy as np\n",
    "import pandas as pd\n",
    "import matplotlib.pyplot as plt\n",
    "import seaborn as sns"
   ]
  },
  {
   "cell_type": "markdown",
   "metadata": {},
   "source": [
    "# 데이터"
   ]
  },
  {
   "cell_type": "markdown",
   "metadata": {
    "id": "K2sLE1gZOTc2"
   },
   "source": [
    "건물 정보와 기후 정보를 활용한 전력사용량 예측 데이터 중에서 \n",
    "\n",
    "환경 변수(기온, 풍속, 습도, 강수량, 일조)에 대해 전력 사용량을 선형회귀 모델을 사용해서 예측해보고자 합니다."
   ]
  },
  {
   "cell_type": "code",
   "execution_count": 689,
   "metadata": {},
   "outputs": [],
   "source": [
    "var_name = ['Temp', 'Wind', 'Moisture', 'Precipitation', 'Sun']\n",
    "target = 'Wh'"
   ]
  },
  {
   "cell_type": "code",
   "execution_count": 690,
   "metadata": {},
   "outputs": [],
   "source": [
    "def parsing(data: pd.DataFrame):\n",
    "    x = data.iloc[:, 3:8]\n",
    "    x.columns = var_name\n",
    "    y = data.iloc[:, 2]\n",
    "    y.name = target\n",
    "    \n",
    "    return x, y"
   ]
  },
  {
   "cell_type": "code",
   "execution_count": 691,
   "metadata": {},
   "outputs": [],
   "source": [
    "def load_data():\n",
    "    data = pd.read_csv('train_0804.csv', encoding='cp949')\n",
    "    data = data[: 100]\n",
    "    x, y = parsing(data)    \n",
    "    cut = int(round(len(x)*0.88))\n",
    "    tr_x = x[:cut]\n",
    "    tr_y = y[:cut]\n",
    "    te_x = x[cut:]\n",
    "    te_y = y[cut:]\n",
    "    return tr_x, tr_y, te_x, te_y"
   ]
  },
  {
   "cell_type": "code",
   "execution_count": 692,
   "metadata": {},
   "outputs": [],
   "source": [
    "train_x, train_y, test_x, test_y = load_data()"
   ]
  },
  {
   "cell_type": "markdown",
   "metadata": {
    "id": "FtOBVORnPUCt"
   },
   "source": [
    "## 데이터 확인 \n",
    "\n",
    "주의! 최종 예측하는 단계 이전에는 현재 가지고 있는 데이터, 즉 train data만을 이용하여 작업을 진행해야 합니다.\n",
    "\n",
    "현재 가지고 있는 데이터 train_x를 보고 전력 사용량을 예측하는데에 사용할 변수를 선택해주세요.\n",
    "\n",
    "기초세션에서 다뤘던 내용을 참고하셔서 최적의 변수 조합을 찾아보도록 합시다.\n",
    "\n",
    "이 때 선택해야하는 변수는 하나일 수도 있고, 여러개의 변수를 사용하여도 좋습니다."
   ]
  },
  {
   "cell_type": "code",
   "execution_count": 693,
   "metadata": {},
   "outputs": [
    {
     "data": {
      "text/html": [
       "<div>\n",
       "<style scoped>\n",
       "    .dataframe tbody tr th:only-of-type {\n",
       "        vertical-align: middle;\n",
       "    }\n",
       "\n",
       "    .dataframe tbody tr th {\n",
       "        vertical-align: top;\n",
       "    }\n",
       "\n",
       "    .dataframe thead th {\n",
       "        text-align: right;\n",
       "    }\n",
       "</style>\n",
       "<table border=\"1\" class=\"dataframe\">\n",
       "  <thead>\n",
       "    <tr style=\"text-align: right;\">\n",
       "      <th></th>\n",
       "      <th>Temp</th>\n",
       "      <th>Wind</th>\n",
       "      <th>Moisture</th>\n",
       "      <th>Precipitation</th>\n",
       "      <th>Sun</th>\n",
       "    </tr>\n",
       "  </thead>\n",
       "  <tbody>\n",
       "    <tr>\n",
       "      <th>0</th>\n",
       "      <td>17.6</td>\n",
       "      <td>2.5</td>\n",
       "      <td>92.0</td>\n",
       "      <td>0.8</td>\n",
       "      <td>0.0</td>\n",
       "    </tr>\n",
       "    <tr>\n",
       "      <th>1</th>\n",
       "      <td>17.7</td>\n",
       "      <td>2.9</td>\n",
       "      <td>91.0</td>\n",
       "      <td>0.3</td>\n",
       "      <td>0.0</td>\n",
       "    </tr>\n",
       "    <tr>\n",
       "      <th>2</th>\n",
       "      <td>17.5</td>\n",
       "      <td>3.2</td>\n",
       "      <td>91.0</td>\n",
       "      <td>0.0</td>\n",
       "      <td>0.0</td>\n",
       "    </tr>\n",
       "    <tr>\n",
       "      <th>3</th>\n",
       "      <td>17.1</td>\n",
       "      <td>3.2</td>\n",
       "      <td>91.0</td>\n",
       "      <td>0.0</td>\n",
       "      <td>0.0</td>\n",
       "    </tr>\n",
       "    <tr>\n",
       "      <th>4</th>\n",
       "      <td>17.0</td>\n",
       "      <td>3.3</td>\n",
       "      <td>92.0</td>\n",
       "      <td>0.0</td>\n",
       "      <td>0.0</td>\n",
       "    </tr>\n",
       "    <tr>\n",
       "      <th>...</th>\n",
       "      <td>...</td>\n",
       "      <td>...</td>\n",
       "      <td>...</td>\n",
       "      <td>...</td>\n",
       "      <td>...</td>\n",
       "    </tr>\n",
       "    <tr>\n",
       "      <th>83</th>\n",
       "      <td>23.9</td>\n",
       "      <td>2.8</td>\n",
       "      <td>68.0</td>\n",
       "      <td>0.0</td>\n",
       "      <td>0.6</td>\n",
       "    </tr>\n",
       "    <tr>\n",
       "      <th>84</th>\n",
       "      <td>25.0</td>\n",
       "      <td>3.1</td>\n",
       "      <td>63.0</td>\n",
       "      <td>0.0</td>\n",
       "      <td>0.8</td>\n",
       "    </tr>\n",
       "    <tr>\n",
       "      <th>85</th>\n",
       "      <td>26.0</td>\n",
       "      <td>3.1</td>\n",
       "      <td>60.0</td>\n",
       "      <td>0.0</td>\n",
       "      <td>1.0</td>\n",
       "    </tr>\n",
       "    <tr>\n",
       "      <th>86</th>\n",
       "      <td>26.4</td>\n",
       "      <td>3.8</td>\n",
       "      <td>60.0</td>\n",
       "      <td>0.0</td>\n",
       "      <td>1.0</td>\n",
       "    </tr>\n",
       "    <tr>\n",
       "      <th>87</th>\n",
       "      <td>25.4</td>\n",
       "      <td>4.2</td>\n",
       "      <td>66.0</td>\n",
       "      <td>0.0</td>\n",
       "      <td>0.5</td>\n",
       "    </tr>\n",
       "  </tbody>\n",
       "</table>\n",
       "<p>88 rows × 5 columns</p>\n",
       "</div>"
      ],
      "text/plain": [
       "    Temp  Wind  Moisture  Precipitation  Sun\n",
       "0   17.6   2.5      92.0            0.8  0.0\n",
       "1   17.7   2.9      91.0            0.3  0.0\n",
       "2   17.5   3.2      91.0            0.0  0.0\n",
       "3   17.1   3.2      91.0            0.0  0.0\n",
       "4   17.0   3.3      92.0            0.0  0.0\n",
       "..   ...   ...       ...            ...  ...\n",
       "83  23.9   2.8      68.0            0.0  0.6\n",
       "84  25.0   3.1      63.0            0.0  0.8\n",
       "85  26.0   3.1      60.0            0.0  1.0\n",
       "86  26.4   3.8      60.0            0.0  1.0\n",
       "87  25.4   4.2      66.0            0.0  0.5\n",
       "\n",
       "[88 rows x 5 columns]"
      ]
     },
     "execution_count": 693,
     "metadata": {},
     "output_type": "execute_result"
    }
   ],
   "source": [
    "train_x"
   ]
  },
  {
   "cell_type": "markdown",
   "metadata": {},
   "source": [
    "### (1) 변수별 그래프 확인"
   ]
  },
  {
   "cell_type": "markdown",
   "metadata": {},
   "source": [
    "#### a. 독립변수"
   ]
  },
  {
   "cell_type": "code",
   "execution_count": 694,
   "metadata": {},
   "outputs": [
    {
     "data": {
      "text/plain": [
       "Text(0.5, 1.0, '환경 변수 중, 온도 대한 Kernel Density Plot')"
      ]
     },
     "execution_count": 694,
     "metadata": {},
     "output_type": "execute_result"
    },
    {
     "data": {
      "image/png": "[encoded data removed]",
      "text/plain": [
       "<Figure size 432x288 with 1 Axes>"
      ]
     },
     "metadata": {},
     "output_type": "display_data"
    }
   ],
   "source": [
    "#### seaborn 폰트 꺠짐 해결\n",
    "plt.rc(\"font\", family = \"Malgun Gothic\")\n",
    "sns.set(font=\"Malgun Gothic\", rc={\"axes.unicode_minus\":False}, style='darkgrid')\n",
    "\n",
    "sns.kdeplot(train_x['Temp'])\n",
    "plt.title(\"환경 변수 중, 온도 대한 Kernel Density Plot\")"
   ]
  },
  {
   "cell_type": "code",
   "execution_count": 695,
   "metadata": {},
   "outputs": [
    {
     "data": {
      "text/plain": [
       "Text(0.5, 1.0, '환경 변수 중, 바람 대한 Kernel Density Plot')"
      ]
     },
     "execution_count": 695,
     "metadata": {},
     "output_type": "execute_result"
    },
    {
     "data": {
      "image/png": "[encoded data removed]",
      "text/plain": [
       "<Figure size 432x288 with 1 Axes>"
      ]
     },
     "metadata": {},
     "output_type": "display_data"
    }
   ],
   "source": [
    "#### seaborn 폰트 꺠짐 해결\n",
    "plt.rc(\"font\", family = \"Malgun Gothic\")\n",
    "sns.set(font=\"Malgun Gothic\", rc={\"axes.unicode_minus\":False}, style='darkgrid')\n",
    "\n",
    "sns.kdeplot(train_x['Wind'])\n",
    "plt.title(\"환경 변수 중, 바람 대한 Kernel Density Plot\")"
   ]
  },
  {
   "cell_type": "code",
   "execution_count": 696,
   "metadata": {},
   "outputs": [
    {
     "data": {
      "text/plain": [
       "Text(0.5, 1.0, '환경 변수 중, 습도 대한 Kernel Density Plot')"
      ]
     },
     "execution_count": 696,
     "metadata": {},
     "output_type": "execute_result"
    },
    {
     "data": {
      "image/png": "[encoded data removed]",
      "text/plain": [
       "<Figure size 432x288 with 1 Axes>"
      ]
     },
     "metadata": {},
     "output_type": "display_data"
    }
   ],
   "source": [
    "#### seaborn 폰트 꺠짐 해결\n",
    "plt.rc(\"font\", family = \"Malgun Gothic\")\n",
    "sns.set(font=\"Malgun Gothic\", rc={\"axes.unicode_minus\":False}, style='darkgrid')\n",
    "\n",
    "sns.kdeplot(train_x['Moisture'])\n",
    "plt.title(\"환경 변수 중, 습도 대한 Kernel Density Plot\")"
   ]
  },
  {
   "cell_type": "code",
   "execution_count": 697,
   "metadata": {},
   "outputs": [
    {
     "data": {
      "text/plain": [
       "Text(0.5, 1.0, '환경 변수 중, 강수량 대한 Kernel Density Plot')"
      ]
     },
     "execution_count": 697,
     "metadata": {},
     "output_type": "execute_result"
    },
    {
     "data": {
      "image/png": "[encoded data removed]",
      "text/plain": [
       "<Figure size 432x288 with 1 Axes>"
      ]
     },
     "metadata": {},
     "output_type": "display_data"
    }
   ],
   "source": [
    "#### seaborn 폰트 꺠짐 해결\n",
    "plt.rc(\"font\", family = \"Malgun Gothic\")\n",
    "sns.set(font=\"Malgun Gothic\", rc={\"axes.unicode_minus\":False}, style='darkgrid')\n",
    "\n",
    "sns.kdeplot(train_x['Precipitation'])\n",
    "plt.title(\"환경 변수 중, 강수량 대한 Kernel Density Plot\")"
   ]
  },
  {
   "cell_type": "code",
   "execution_count": 698,
   "metadata": {
    "scrolled": false
   },
   "outputs": [
    {
     "data": {
      "text/plain": [
       "Text(0.5, 1.0, '환경 변수 중, 햇빛 대한 Kernel Density Plot')"
      ]
     },
     "execution_count": 698,
     "metadata": {},
     "output_type": "execute_result"
    },
    {
     "data": {
      "image/png": "[encoded data removed]",
      "text/plain": [
       "<Figure size 432x288 with 1 Axes>"
      ]
     },
     "metadata": {},
     "output_type": "display_data"
    }
   ],
   "source": [
    "#### seaborn 폰트 꺠짐 해결\n",
    "plt.rc(\"font\", family = \"Malgun Gothic\")\n",
    "sns.set(font=\"Malgun Gothic\", rc={\"axes.unicode_minus\":False}, style='darkgrid')\n",
    "\n",
    "sns.kdeplot(train_x['Sun'])\n",
    "plt.title(\"환경 변수 중, 햇빛 대한 Kernel Density Plot\")"
   ]
  },
  {
   "cell_type": "markdown",
   "metadata": {},
   "source": [
    "#### b. 종속변수"
   ]
  },
  {
   "cell_type": "code",
   "execution_count": 699,
   "metadata": {},
   "outputs": [
    {
     "data": {
      "text/plain": [
       "Text(0.5, 1.0, '전력 사용량에 대한 Kernel Density Plot')"
      ]
     },
     "execution_count": 699,
     "metadata": {},
     "output_type": "execute_result"
    },
    {
     "data": {
      "image/png": "[encoded data removed]",
      "text/plain": [
       "<Figure size 432x288 with 1 Axes>"
      ]
     },
     "metadata": {},
     "output_type": "display_data"
    }
   ],
   "source": [
    "#### seaborn 폰트 꺠짐 해결\n",
    "plt.rc(\"font\", family = \"Malgun Gothic\")\n",
    "sns.set(font=\"Malgun Gothic\", rc={\"axes.unicode_minus\":False}, style='darkgrid')\n",
    "\n",
    "sns.kdeplot(train_y)\n",
    "plt.title(\"전력 사용량에 대한 Kernel Density Plot\")"
   ]
  },
  {
   "cell_type": "markdown",
   "metadata": {},
   "source": [
    "### (2) 상관계수 파악"
   ]
  },
  {
   "cell_type": "code",
   "execution_count": 700,
   "metadata": {},
   "outputs": [
    {
     "data": {
      "text/html": [
       "<div>\n",
       "<style scoped>\n",
       "    .dataframe tbody tr th:only-of-type {\n",
       "        vertical-align: middle;\n",
       "    }\n",
       "\n",
       "    .dataframe tbody tr th {\n",
       "        vertical-align: top;\n",
       "    }\n",
       "\n",
       "    .dataframe thead th {\n",
       "        text-align: right;\n",
       "    }\n",
       "</style>\n",
       "<table border=\"1\" class=\"dataframe\">\n",
       "  <thead>\n",
       "    <tr style=\"text-align: right;\">\n",
       "      <th></th>\n",
       "      <th>Temp</th>\n",
       "      <th>Wind</th>\n",
       "      <th>Moisture</th>\n",
       "      <th>Precipitation</th>\n",
       "      <th>Sun</th>\n",
       "      <th>Elec power</th>\n",
       "    </tr>\n",
       "  </thead>\n",
       "  <tbody>\n",
       "    <tr>\n",
       "      <th>0</th>\n",
       "      <td>17.6</td>\n",
       "      <td>2.5</td>\n",
       "      <td>92.0</td>\n",
       "      <td>0.8</td>\n",
       "      <td>0.0</td>\n",
       "      <td>8179.056</td>\n",
       "    </tr>\n",
       "    <tr>\n",
       "      <th>1</th>\n",
       "      <td>17.7</td>\n",
       "      <td>2.9</td>\n",
       "      <td>91.0</td>\n",
       "      <td>0.3</td>\n",
       "      <td>0.0</td>\n",
       "      <td>8135.640</td>\n",
       "    </tr>\n",
       "    <tr>\n",
       "      <th>2</th>\n",
       "      <td>17.5</td>\n",
       "      <td>3.2</td>\n",
       "      <td>91.0</td>\n",
       "      <td>0.0</td>\n",
       "      <td>0.0</td>\n",
       "      <td>8107.128</td>\n",
       "    </tr>\n",
       "    <tr>\n",
       "      <th>3</th>\n",
       "      <td>17.1</td>\n",
       "      <td>3.2</td>\n",
       "      <td>91.0</td>\n",
       "      <td>0.0</td>\n",
       "      <td>0.0</td>\n",
       "      <td>8048.808</td>\n",
       "    </tr>\n",
       "    <tr>\n",
       "      <th>4</th>\n",
       "      <td>17.0</td>\n",
       "      <td>3.3</td>\n",
       "      <td>92.0</td>\n",
       "      <td>0.0</td>\n",
       "      <td>0.0</td>\n",
       "      <td>8043.624</td>\n",
       "    </tr>\n",
       "    <tr>\n",
       "      <th>...</th>\n",
       "      <td>...</td>\n",
       "      <td>...</td>\n",
       "      <td>...</td>\n",
       "      <td>...</td>\n",
       "      <td>...</td>\n",
       "      <td>...</td>\n",
       "    </tr>\n",
       "    <tr>\n",
       "      <th>83</th>\n",
       "      <td>23.9</td>\n",
       "      <td>2.8</td>\n",
       "      <td>68.0</td>\n",
       "      <td>0.0</td>\n",
       "      <td>0.6</td>\n",
       "      <td>8386.416</td>\n",
       "    </tr>\n",
       "    <tr>\n",
       "      <th>84</th>\n",
       "      <td>25.0</td>\n",
       "      <td>3.1</td>\n",
       "      <td>63.0</td>\n",
       "      <td>0.0</td>\n",
       "      <td>0.8</td>\n",
       "      <td>8435.664</td>\n",
       "    </tr>\n",
       "    <tr>\n",
       "      <th>85</th>\n",
       "      <td>26.0</td>\n",
       "      <td>3.1</td>\n",
       "      <td>60.0</td>\n",
       "      <td>0.0</td>\n",
       "      <td>1.0</td>\n",
       "      <td>8591.184</td>\n",
       "    </tr>\n",
       "    <tr>\n",
       "      <th>86</th>\n",
       "      <td>26.4</td>\n",
       "      <td>3.8</td>\n",
       "      <td>60.0</td>\n",
       "      <td>0.0</td>\n",
       "      <td>1.0</td>\n",
       "      <td>8638.488</td>\n",
       "    </tr>\n",
       "    <tr>\n",
       "      <th>87</th>\n",
       "      <td>25.4</td>\n",
       "      <td>4.2</td>\n",
       "      <td>66.0</td>\n",
       "      <td>0.0</td>\n",
       "      <td>0.5</td>\n",
       "      <td>8663.112</td>\n",
       "    </tr>\n",
       "  </tbody>\n",
       "</table>\n",
       "<p>88 rows × 6 columns</p>\n",
       "</div>"
      ],
      "text/plain": [
       "    Temp  Wind  Moisture  Precipitation  Sun  Elec power\n",
       "0   17.6   2.5      92.0            0.8  0.0    8179.056\n",
       "1   17.7   2.9      91.0            0.3  0.0    8135.640\n",
       "2   17.5   3.2      91.0            0.0  0.0    8107.128\n",
       "3   17.1   3.2      91.0            0.0  0.0    8048.808\n",
       "4   17.0   3.3      92.0            0.0  0.0    8043.624\n",
       "..   ...   ...       ...            ...  ...         ...\n",
       "83  23.9   2.8      68.0            0.0  0.6    8386.416\n",
       "84  25.0   3.1      63.0            0.0  0.8    8435.664\n",
       "85  26.0   3.1      60.0            0.0  1.0    8591.184\n",
       "86  26.4   3.8      60.0            0.0  1.0    8638.488\n",
       "87  25.4   4.2      66.0            0.0  0.5    8663.112\n",
       "\n",
       "[88 rows x 6 columns]"
      ]
     },
     "execution_count": 700,
     "metadata": {},
     "output_type": "execute_result"
    }
   ],
   "source": [
    "train_df = train_x.copy()\n",
    "\n",
    "train_df.insert(5 , 'Elec power' , train_y)\n",
    "\n",
    "train_df"
   ]
  },
  {
   "cell_type": "code",
   "execution_count": 701,
   "metadata": {},
   "outputs": [
    {
     "data": {
      "text/html": [
       "<div>\n",
       "<style scoped>\n",
       "    .dataframe tbody tr th:only-of-type {\n",
       "        vertical-align: middle;\n",
       "    }\n",
       "\n",
       "    .dataframe tbody tr th {\n",
       "        vertical-align: top;\n",
       "    }\n",
       "\n",
       "    .dataframe thead th {\n",
       "        text-align: right;\n",
       "    }\n",
       "</style>\n",
       "<table border=\"1\" class=\"dataframe\">\n",
       "  <thead>\n",
       "    <tr style=\"text-align: right;\">\n",
       "      <th></th>\n",
       "      <th>Temp</th>\n",
       "      <th>Wind</th>\n",
       "      <th>Moisture</th>\n",
       "      <th>Precipitation</th>\n",
       "      <th>Sun</th>\n",
       "      <th>Elec power</th>\n",
       "    </tr>\n",
       "  </thead>\n",
       "  <tbody>\n",
       "    <tr>\n",
       "      <th>Temp</th>\n",
       "      <td>1.000000</td>\n",
       "      <td>0.510935</td>\n",
       "      <td>-0.628642</td>\n",
       "      <td>-0.173210</td>\n",
       "      <td>0.783829</td>\n",
       "      <td>0.803301</td>\n",
       "    </tr>\n",
       "    <tr>\n",
       "      <th>Wind</th>\n",
       "      <td>0.510935</td>\n",
       "      <td>1.000000</td>\n",
       "      <td>-0.478825</td>\n",
       "      <td>0.028617</td>\n",
       "      <td>0.544720</td>\n",
       "      <td>0.349288</td>\n",
       "    </tr>\n",
       "    <tr>\n",
       "      <th>Moisture</th>\n",
       "      <td>-0.628642</td>\n",
       "      <td>-0.478825</td>\n",
       "      <td>1.000000</td>\n",
       "      <td>0.152529</td>\n",
       "      <td>-0.699047</td>\n",
       "      <td>-0.095042</td>\n",
       "    </tr>\n",
       "    <tr>\n",
       "      <th>Precipitation</th>\n",
       "      <td>-0.173210</td>\n",
       "      <td>0.028617</td>\n",
       "      <td>0.152529</td>\n",
       "      <td>1.000000</td>\n",
       "      <td>-0.123846</td>\n",
       "      <td>-0.090389</td>\n",
       "    </tr>\n",
       "    <tr>\n",
       "      <th>Sun</th>\n",
       "      <td>0.783829</td>\n",
       "      <td>0.544720</td>\n",
       "      <td>-0.699047</td>\n",
       "      <td>-0.123846</td>\n",
       "      <td>1.000000</td>\n",
       "      <td>0.458348</td>\n",
       "    </tr>\n",
       "    <tr>\n",
       "      <th>Elec power</th>\n",
       "      <td>0.803301</td>\n",
       "      <td>0.349288</td>\n",
       "      <td>-0.095042</td>\n",
       "      <td>-0.090389</td>\n",
       "      <td>0.458348</td>\n",
       "      <td>1.000000</td>\n",
       "    </tr>\n",
       "  </tbody>\n",
       "</table>\n",
       "</div>"
      ],
      "text/plain": [
       "                   Temp      Wind  Moisture  Precipitation       Sun  \\\n",
       "Temp           1.000000  0.510935 -0.628642      -0.173210  0.783829   \n",
       "Wind           0.510935  1.000000 -0.478825       0.028617  0.544720   \n",
       "Moisture      -0.628642 -0.478825  1.000000       0.152529 -0.699047   \n",
       "Precipitation -0.173210  0.028617  0.152529       1.000000 -0.123846   \n",
       "Sun            0.783829  0.544720 -0.699047      -0.123846  1.000000   \n",
       "Elec power     0.803301  0.349288 -0.095042      -0.090389  0.458348   \n",
       "\n",
       "               Elec power  \n",
       "Temp             0.803301  \n",
       "Wind             0.349288  \n",
       "Moisture        -0.095042  \n",
       "Precipitation   -0.090389  \n",
       "Sun              0.458348  \n",
       "Elec power       1.000000  "
      ]
     },
     "execution_count": 701,
     "metadata": {},
     "output_type": "execute_result"
    }
   ],
   "source": [
    "train_df.corr()"
   ]
  },
  {
   "cell_type": "markdown",
   "metadata": {
    "id": "kD24Xx9XLotD"
   },
   "source": [
    "최종 선택 변수 -> Temp , WInd , Sun \n",
    "\n",
    "(1) Temp : 전력 사용량과의 상관계수가 대략 0.80 강한 양의 상관관계를 보임 <br>\n",
    "(2) Sun : 전력 사용량과 강한 양의 상관관계를 보이는 Temp와의 상관계수가 대략 0.78로 강한 양의 상관관계를 보임 <br>\n",
    "(3) Wind : 전력 사용량과 직접적인 상관관계는 강력하진 않으나 Temp와 Sun과의 상관관계를 무시할 수 없음 "
   ]
  },
  {
   "cell_type": "markdown",
   "metadata": {
    "id": "9FeCbQAFP6Kw"
   },
   "source": [
    "## 전처리\n",
    "\n",
    "위에서 선택한 변수들(feature)를 가지고 한번 전력 사용량을 예측하는 모델을 만들어 보기에 앞서,\n",
    "\n",
    "**train 데이터의 feature의 전처리**를 진행해보려고 합니다. StandardScaler를 사용하셔도 좋고, MinMaxScaler를 사용하셔도 좋습니다! \n",
    "\n",
    "또한 PolynomialFeatures를 이용하거나 직접 feature를 계산하여 고차원의 feature를 만드셔도 좋습니다. 이 또한 정답은 없습니다!\n",
    "\n",
    "이 때 최종 train_x의 shape은 (n_samples, n_features)가 되도록 해주세요.<br>\n",
    "ex. 4개의 변수를 가진 1000개의 샘플의 경우 train_x.shape은 (1000,4)가 되면 됩니다.\n",
    "\n",
    "특히 하나의 변수만을 사용하시는 분들은 1D가 아닌 2D가 되도록 신경써주세요<br>\n",
    "ex. train_x.shape이 (1000,)이 아닌 (1000,1)입니다!"
   ]
  },
  {
   "cell_type": "markdown",
   "metadata": {},
   "source": [
    "### (1) 사용할 변수 선택"
   ]
  },
  {
   "cell_type": "markdown",
   "metadata": {},
   "source": [
    "#### a. train_set"
   ]
  },
  {
   "cell_type": "code",
   "execution_count": 702,
   "metadata": {
    "scrolled": false
   },
   "outputs": [
    {
     "data": {
      "text/html": [
       "<div>\n",
       "<style scoped>\n",
       "    .dataframe tbody tr th:only-of-type {\n",
       "        vertical-align: middle;\n",
       "    }\n",
       "\n",
       "    .dataframe tbody tr th {\n",
       "        vertical-align: top;\n",
       "    }\n",
       "\n",
       "    .dataframe thead th {\n",
       "        text-align: right;\n",
       "    }\n",
       "</style>\n",
       "<table border=\"1\" class=\"dataframe\">\n",
       "  <thead>\n",
       "    <tr style=\"text-align: right;\">\n",
       "      <th></th>\n",
       "      <th>Temp</th>\n",
       "      <th>Wind</th>\n",
       "      <th>Sun</th>\n",
       "    </tr>\n",
       "  </thead>\n",
       "  <tbody>\n",
       "    <tr>\n",
       "      <th>0</th>\n",
       "      <td>17.6</td>\n",
       "      <td>2.5</td>\n",
       "      <td>0.0</td>\n",
       "    </tr>\n",
       "    <tr>\n",
       "      <th>1</th>\n",
       "      <td>17.7</td>\n",
       "      <td>2.9</td>\n",
       "      <td>0.0</td>\n",
       "    </tr>\n",
       "    <tr>\n",
       "      <th>2</th>\n",
       "      <td>17.5</td>\n",
       "      <td>3.2</td>\n",
       "      <td>0.0</td>\n",
       "    </tr>\n",
       "    <tr>\n",
       "      <th>3</th>\n",
       "      <td>17.1</td>\n",
       "      <td>3.2</td>\n",
       "      <td>0.0</td>\n",
       "    </tr>\n",
       "    <tr>\n",
       "      <th>4</th>\n",
       "      <td>17.0</td>\n",
       "      <td>3.3</td>\n",
       "      <td>0.0</td>\n",
       "    </tr>\n",
       "    <tr>\n",
       "      <th>...</th>\n",
       "      <td>...</td>\n",
       "      <td>...</td>\n",
       "      <td>...</td>\n",
       "    </tr>\n",
       "    <tr>\n",
       "      <th>83</th>\n",
       "      <td>23.9</td>\n",
       "      <td>2.8</td>\n",
       "      <td>0.6</td>\n",
       "    </tr>\n",
       "    <tr>\n",
       "      <th>84</th>\n",
       "      <td>25.0</td>\n",
       "      <td>3.1</td>\n",
       "      <td>0.8</td>\n",
       "    </tr>\n",
       "    <tr>\n",
       "      <th>85</th>\n",
       "      <td>26.0</td>\n",
       "      <td>3.1</td>\n",
       "      <td>1.0</td>\n",
       "    </tr>\n",
       "    <tr>\n",
       "      <th>86</th>\n",
       "      <td>26.4</td>\n",
       "      <td>3.8</td>\n",
       "      <td>1.0</td>\n",
       "    </tr>\n",
       "    <tr>\n",
       "      <th>87</th>\n",
       "      <td>25.4</td>\n",
       "      <td>4.2</td>\n",
       "      <td>0.5</td>\n",
       "    </tr>\n",
       "  </tbody>\n",
       "</table>\n",
       "<p>88 rows × 3 columns</p>\n",
       "</div>"
      ],
      "text/plain": [
       "    Temp  Wind  Sun\n",
       "0   17.6   2.5  0.0\n",
       "1   17.7   2.9  0.0\n",
       "2   17.5   3.2  0.0\n",
       "3   17.1   3.2  0.0\n",
       "4   17.0   3.3  0.0\n",
       "..   ...   ...  ...\n",
       "83  23.9   2.8  0.6\n",
       "84  25.0   3.1  0.8\n",
       "85  26.0   3.1  1.0\n",
       "86  26.4   3.8  1.0\n",
       "87  25.4   4.2  0.5\n",
       "\n",
       "[88 rows x 3 columns]"
      ]
     },
     "execution_count": 702,
     "metadata": {},
     "output_type": "execute_result"
    }
   ],
   "source": [
    "x_train = train_x[['Temp' , 'Wind' , 'Sun']].copy()\n",
    "\n",
    "x_train"
   ]
  },
  {
   "cell_type": "markdown",
   "metadata": {},
   "source": [
    "#### b. test_set"
   ]
  },
  {
   "cell_type": "code",
   "execution_count": 703,
   "metadata": {},
   "outputs": [
    {
     "data": {
      "text/html": [
       "<div>\n",
       "<style scoped>\n",
       "    .dataframe tbody tr th:only-of-type {\n",
       "        vertical-align: middle;\n",
       "    }\n",
       "\n",
       "    .dataframe tbody tr th {\n",
       "        vertical-align: top;\n",
       "    }\n",
       "\n",
       "    .dataframe thead th {\n",
       "        text-align: right;\n",
       "    }\n",
       "</style>\n",
       "<table border=\"1\" class=\"dataframe\">\n",
       "  <thead>\n",
       "    <tr style=\"text-align: right;\">\n",
       "      <th></th>\n",
       "      <th>Temp</th>\n",
       "      <th>Wind</th>\n",
       "      <th>Sun</th>\n",
       "    </tr>\n",
       "  </thead>\n",
       "  <tbody>\n",
       "    <tr>\n",
       "      <th>88</th>\n",
       "      <td>24.3</td>\n",
       "      <td>3.6</td>\n",
       "      <td>0.0</td>\n",
       "    </tr>\n",
       "    <tr>\n",
       "      <th>89</th>\n",
       "      <td>23.2</td>\n",
       "      <td>4.1</td>\n",
       "      <td>0.1</td>\n",
       "    </tr>\n",
       "    <tr>\n",
       "      <th>90</th>\n",
       "      <td>22.8</td>\n",
       "      <td>3.1</td>\n",
       "      <td>0.2</td>\n",
       "    </tr>\n",
       "    <tr>\n",
       "      <th>91</th>\n",
       "      <td>21.7</td>\n",
       "      <td>3.3</td>\n",
       "      <td>0.0</td>\n",
       "    </tr>\n",
       "    <tr>\n",
       "      <th>92</th>\n",
       "      <td>21.4</td>\n",
       "      <td>2.5</td>\n",
       "      <td>0.0</td>\n",
       "    </tr>\n",
       "    <tr>\n",
       "      <th>93</th>\n",
       "      <td>20.8</td>\n",
       "      <td>1.9</td>\n",
       "      <td>0.0</td>\n",
       "    </tr>\n",
       "    <tr>\n",
       "      <th>94</th>\n",
       "      <td>20.3</td>\n",
       "      <td>1.6</td>\n",
       "      <td>0.0</td>\n",
       "    </tr>\n",
       "    <tr>\n",
       "      <th>95</th>\n",
       "      <td>19.9</td>\n",
       "      <td>1.4</td>\n",
       "      <td>0.0</td>\n",
       "    </tr>\n",
       "    <tr>\n",
       "      <th>96</th>\n",
       "      <td>19.7</td>\n",
       "      <td>2.0</td>\n",
       "      <td>0.0</td>\n",
       "    </tr>\n",
       "    <tr>\n",
       "      <th>97</th>\n",
       "      <td>19.5</td>\n",
       "      <td>1.4</td>\n",
       "      <td>0.0</td>\n",
       "    </tr>\n",
       "    <tr>\n",
       "      <th>98</th>\n",
       "      <td>19.3</td>\n",
       "      <td>1.6</td>\n",
       "      <td>0.0</td>\n",
       "    </tr>\n",
       "    <tr>\n",
       "      <th>99</th>\n",
       "      <td>19.3</td>\n",
       "      <td>1.6</td>\n",
       "      <td>0.0</td>\n",
       "    </tr>\n",
       "  </tbody>\n",
       "</table>\n",
       "</div>"
      ],
      "text/plain": [
       "    Temp  Wind  Sun\n",
       "88  24.3   3.6  0.0\n",
       "89  23.2   4.1  0.1\n",
       "90  22.8   3.1  0.2\n",
       "91  21.7   3.3  0.0\n",
       "92  21.4   2.5  0.0\n",
       "93  20.8   1.9  0.0\n",
       "94  20.3   1.6  0.0\n",
       "95  19.9   1.4  0.0\n",
       "96  19.7   2.0  0.0\n",
       "97  19.5   1.4  0.0\n",
       "98  19.3   1.6  0.0\n",
       "99  19.3   1.6  0.0"
      ]
     },
     "execution_count": 703,
     "metadata": {},
     "output_type": "execute_result"
    }
   ],
   "source": [
    "x_test = test_x[['Temp' , 'Wind' , 'Sun']].copy()\n",
    "\n",
    "x_test"
   ]
  },
  {
   "cell_type": "markdown",
   "metadata": {},
   "source": [
    "### (2) Scaling"
   ]
  },
  {
   "cell_type": "markdown",
   "metadata": {},
   "source": [
    "#### a. train_set"
   ]
  },
  {
   "cell_type": "code",
   "execution_count": 704,
   "metadata": {},
   "outputs": [
    {
     "data": {
      "text/html": [
       "<div>\n",
       "<style scoped>\n",
       "    .dataframe tbody tr th:only-of-type {\n",
       "        vertical-align: middle;\n",
       "    }\n",
       "\n",
       "    .dataframe tbody tr th {\n",
       "        vertical-align: top;\n",
       "    }\n",
       "\n",
       "    .dataframe thead th {\n",
       "        text-align: right;\n",
       "    }\n",
       "</style>\n",
       "<table border=\"1\" class=\"dataframe\">\n",
       "  <thead>\n",
       "    <tr style=\"text-align: right;\">\n",
       "      <th></th>\n",
       "      <th>scaled Temp</th>\n",
       "      <th>scaled Wind</th>\n",
       "      <th>scaled Sun</th>\n",
       "    </tr>\n",
       "  </thead>\n",
       "  <tbody>\n",
       "    <tr>\n",
       "      <th>0</th>\n",
       "      <td>0.208955</td>\n",
       "      <td>0.411765</td>\n",
       "      <td>0.0</td>\n",
       "    </tr>\n",
       "    <tr>\n",
       "      <th>1</th>\n",
       "      <td>0.216418</td>\n",
       "      <td>0.490196</td>\n",
       "      <td>0.0</td>\n",
       "    </tr>\n",
       "    <tr>\n",
       "      <th>2</th>\n",
       "      <td>0.201493</td>\n",
       "      <td>0.549020</td>\n",
       "      <td>0.0</td>\n",
       "    </tr>\n",
       "    <tr>\n",
       "      <th>3</th>\n",
       "      <td>0.171642</td>\n",
       "      <td>0.549020</td>\n",
       "      <td>0.0</td>\n",
       "    </tr>\n",
       "    <tr>\n",
       "      <th>4</th>\n",
       "      <td>0.164179</td>\n",
       "      <td>0.568627</td>\n",
       "      <td>0.0</td>\n",
       "    </tr>\n",
       "    <tr>\n",
       "      <th>...</th>\n",
       "      <td>...</td>\n",
       "      <td>...</td>\n",
       "      <td>...</td>\n",
       "    </tr>\n",
       "    <tr>\n",
       "      <th>83</th>\n",
       "      <td>0.679104</td>\n",
       "      <td>0.470588</td>\n",
       "      <td>0.6</td>\n",
       "    </tr>\n",
       "    <tr>\n",
       "      <th>84</th>\n",
       "      <td>0.761194</td>\n",
       "      <td>0.529412</td>\n",
       "      <td>0.8</td>\n",
       "    </tr>\n",
       "    <tr>\n",
       "      <th>85</th>\n",
       "      <td>0.835821</td>\n",
       "      <td>0.529412</td>\n",
       "      <td>1.0</td>\n",
       "    </tr>\n",
       "    <tr>\n",
       "      <th>86</th>\n",
       "      <td>0.865672</td>\n",
       "      <td>0.666667</td>\n",
       "      <td>1.0</td>\n",
       "    </tr>\n",
       "    <tr>\n",
       "      <th>87</th>\n",
       "      <td>0.791045</td>\n",
       "      <td>0.745098</td>\n",
       "      <td>0.5</td>\n",
       "    </tr>\n",
       "  </tbody>\n",
       "</table>\n",
       "<p>88 rows × 3 columns</p>\n",
       "</div>"
      ],
      "text/plain": [
       "    scaled Temp  scaled Wind  scaled Sun\n",
       "0      0.208955     0.411765         0.0\n",
       "1      0.216418     0.490196         0.0\n",
       "2      0.201493     0.549020         0.0\n",
       "3      0.171642     0.549020         0.0\n",
       "4      0.164179     0.568627         0.0\n",
       "..          ...          ...         ...\n",
       "83     0.679104     0.470588         0.6\n",
       "84     0.761194     0.529412         0.8\n",
       "85     0.835821     0.529412         1.0\n",
       "86     0.865672     0.666667         1.0\n",
       "87     0.791045     0.745098         0.5\n",
       "\n",
       "[88 rows x 3 columns]"
      ]
     },
     "execution_count": 704,
     "metadata": {},
     "output_type": "execute_result"
    }
   ],
   "source": [
    "# 사용할 패키지를 import!\n",
    "from sklearn.preprocessing import MinMaxScaler\n",
    "\n",
    "scaler = MinMaxScaler()\n",
    "scaler = scaler.fit(x_train)\n",
    "processed_data_train = scaler.transform(x_train)\n",
    "\n",
    "processed_data_train = pd.DataFrame(processed_data_train)\n",
    "processed_data_train.columns = ['scaled Temp' , 'scaled Wind' , 'scaled Sun']\n",
    "\n",
    "processed_data_train"
   ]
  },
  {
   "cell_type": "markdown",
   "metadata": {},
   "source": [
    "#### b. test_set"
   ]
  },
  {
   "cell_type": "code",
   "execution_count": 705,
   "metadata": {},
   "outputs": [
    {
     "data": {
      "text/html": [
       "<div>\n",
       "<style scoped>\n",
       "    .dataframe tbody tr th:only-of-type {\n",
       "        vertical-align: middle;\n",
       "    }\n",
       "\n",
       "    .dataframe tbody tr th {\n",
       "        vertical-align: top;\n",
       "    }\n",
       "\n",
       "    .dataframe thead th {\n",
       "        text-align: right;\n",
       "    }\n",
       "</style>\n",
       "<table border=\"1\" class=\"dataframe\">\n",
       "  <thead>\n",
       "    <tr style=\"text-align: right;\">\n",
       "      <th></th>\n",
       "      <th>scaled Temp</th>\n",
       "      <th>scaled Wind</th>\n",
       "      <th>scaled Sun</th>\n",
       "    </tr>\n",
       "  </thead>\n",
       "  <tbody>\n",
       "    <tr>\n",
       "      <th>0</th>\n",
       "      <td>1.00</td>\n",
       "      <td>0.814815</td>\n",
       "      <td>0.0</td>\n",
       "    </tr>\n",
       "    <tr>\n",
       "      <th>1</th>\n",
       "      <td>0.78</td>\n",
       "      <td>1.000000</td>\n",
       "      <td>0.5</td>\n",
       "    </tr>\n",
       "    <tr>\n",
       "      <th>2</th>\n",
       "      <td>0.70</td>\n",
       "      <td>0.629630</td>\n",
       "      <td>1.0</td>\n",
       "    </tr>\n",
       "    <tr>\n",
       "      <th>3</th>\n",
       "      <td>0.48</td>\n",
       "      <td>0.703704</td>\n",
       "      <td>0.0</td>\n",
       "    </tr>\n",
       "    <tr>\n",
       "      <th>4</th>\n",
       "      <td>0.42</td>\n",
       "      <td>0.407407</td>\n",
       "      <td>0.0</td>\n",
       "    </tr>\n",
       "    <tr>\n",
       "      <th>5</th>\n",
       "      <td>0.30</td>\n",
       "      <td>0.185185</td>\n",
       "      <td>0.0</td>\n",
       "    </tr>\n",
       "    <tr>\n",
       "      <th>6</th>\n",
       "      <td>0.20</td>\n",
       "      <td>0.074074</td>\n",
       "      <td>0.0</td>\n",
       "    </tr>\n",
       "    <tr>\n",
       "      <th>7</th>\n",
       "      <td>0.12</td>\n",
       "      <td>0.000000</td>\n",
       "      <td>0.0</td>\n",
       "    </tr>\n",
       "    <tr>\n",
       "      <th>8</th>\n",
       "      <td>0.08</td>\n",
       "      <td>0.222222</td>\n",
       "      <td>0.0</td>\n",
       "    </tr>\n",
       "    <tr>\n",
       "      <th>9</th>\n",
       "      <td>0.04</td>\n",
       "      <td>0.000000</td>\n",
       "      <td>0.0</td>\n",
       "    </tr>\n",
       "    <tr>\n",
       "      <th>10</th>\n",
       "      <td>0.00</td>\n",
       "      <td>0.074074</td>\n",
       "      <td>0.0</td>\n",
       "    </tr>\n",
       "    <tr>\n",
       "      <th>11</th>\n",
       "      <td>0.00</td>\n",
       "      <td>0.074074</td>\n",
       "      <td>0.0</td>\n",
       "    </tr>\n",
       "  </tbody>\n",
       "</table>\n",
       "</div>"
      ],
      "text/plain": [
       "    scaled Temp  scaled Wind  scaled Sun\n",
       "0          1.00     0.814815         0.0\n",
       "1          0.78     1.000000         0.5\n",
       "2          0.70     0.629630         1.0\n",
       "3          0.48     0.703704         0.0\n",
       "4          0.42     0.407407         0.0\n",
       "5          0.30     0.185185         0.0\n",
       "6          0.20     0.074074         0.0\n",
       "7          0.12     0.000000         0.0\n",
       "8          0.08     0.222222         0.0\n",
       "9          0.04     0.000000         0.0\n",
       "10         0.00     0.074074         0.0\n",
       "11         0.00     0.074074         0.0"
      ]
     },
     "execution_count": 705,
     "metadata": {},
     "output_type": "execute_result"
    }
   ],
   "source": [
    "scaler = MinMaxScaler()\n",
    "scaler = scaler.fit(x_test)\n",
    "processed_data_test = scaler.transform(x_test)\n",
    "\n",
    "processed_data_test = pd.DataFrame(processed_data_test)\n",
    "processed_data_test.columns = ['scaled Temp' , 'scaled Wind' , 'scaled Sun']\n",
    "\n",
    "processed_data_test"
   ]
  },
  {
   "cell_type": "markdown",
   "metadata": {},
   "source": [
    "# 모델링"
   ]
  },
  {
   "cell_type": "markdown",
   "metadata": {},
   "source": [
    "## 학습 \n",
    "\n",
    "이제 모델링을 해봅시다.\n",
    "\n",
    "앞서 다룬 여러 regression 모델들(Linear regression, Ridge Regression, Lasso Regression, ..)을 이용해서 fit을 진행해보도록 합시다."
   ]
  },
  {
   "cell_type": "markdown",
   "metadata": {},
   "source": [
    "### (1) Linear Regression"
   ]
  },
  {
   "cell_type": "code",
   "execution_count": 706,
   "metadata": {},
   "outputs": [
    {
     "data": {
      "text/plain": [
       "LinearRegression()"
      ]
     },
     "execution_count": 706,
     "metadata": {},
     "output_type": "execute_result"
    }
   ],
   "source": [
    "# 사용할 패키지를 import!\n",
    "from sklearn.linear_model import LinearRegression\n",
    "\n",
    "# 선형회귀 모델 생성 후 fitting 시킵니다.\n",
    "lr = LinearRegression()\n",
    "lr.fit(processed_data_train, train_y)"
   ]
  },
  {
   "cell_type": "markdown",
   "metadata": {},
   "source": [
    "## 추정\n",
    "\n",
    "이제 train_x를 이용하여 전력사용량을 추정해보도록 합시다."
   ]
  },
  {
   "cell_type": "code",
   "execution_count": 707,
   "metadata": {},
   "outputs": [
    {
     "data": {
      "text/plain": [
       "array([8017.08587415, 8024.54199916, 8010.51408421, 7981.97588972,\n",
       "       7974.92173519, 7967.86758067, 7953.59848342, 7945.1263302 ,\n",
       "       7966.42737797, 7985.05321653, 8006.14217706, 8120.45574322,\n",
       "       8192.12280583, 8193.0071409 , 8228.67988402, 8243.27055765,\n",
       "       8284.06799696, 8228.11712534, 8163.66500544, 8063.86171882,\n",
       "       8086.61828224, 8088.43136038, 8038.08754953, 7988.14570917,\n",
       "       7945.01684105, 7915.83549378, 7894.67303021, 7879.84117428,\n",
       "       7865.97404752, 7816.35378355, 7831.34642767, 7866.37601801,\n",
       "       7902.6919139 , 7967.14403379, 7995.68222828, 8010.03171963,\n",
       "       7924.65831844, 8009.71014324, 8195.47868477, 8252.28479641,\n",
       "       8287.74545228, 8274.57277735, 8231.04193874, 8210.04026335,\n",
       "       8181.66285706, 8159.9376348 , 8138.13201845, 8116.32640209,\n",
       "       8073.51911036, 8066.62574403, 8059.33040721, 8058.92843672,\n",
       "       8051.95467629, 8051.7938881 , 8015.39759811, 8000.89420962,\n",
       "       7969.79718612, 8156.59706882, 8286.40784768, 8343.67411991,\n",
       "       8371.17408218, 8404.71217077, 8455.05598162, 8533.37522827,\n",
       "       8555.02005643, 8548.68944878, 8406.561235  , 8286.42162978,\n",
       "       8261.83116795, 8224.47014879, 8216.77284149, 8195.20840743,\n",
       "       8194.64564875, 8188.07385881, 8194.24367826, 8216.93362969,\n",
       "       8223.58581373, 8209.31671648, 8195.85156021, 8195.20840743,\n",
       "       8196.25353069, 8231.60469742, 8250.42041923, 8335.66212726,\n",
       "       8370.6695136 , 8398.30116902, 8427.40212219, 8465.66278937])"
      ]
     },
     "execution_count": 707,
     "metadata": {},
     "output_type": "execute_result"
    }
   ],
   "source": [
    "train_pred = lr.predict(processed_data_train)\n",
    "\n",
    "train_pred"
   ]
  },
  {
   "cell_type": "markdown",
   "metadata": {},
   "source": [
    "# Loss 및 시각화\n",
    "\n",
    "앞서 fitting하여 얻은 모델을 이용하여 추정한 값으로 MSE를 측정해봅시다. 변수를 하나만 사용하신 분들은 xy 평면에 한번 같이 시각화도 해보셔도 좋습니다."
   ]
  },
  {
   "cell_type": "code",
   "execution_count": 708,
   "metadata": {},
   "outputs": [],
   "source": [
    "def mse(pred, true) :\n",
    "    \n",
    "    return np.mean((pred-true)**2)"
   ]
  },
  {
   "cell_type": "code",
   "execution_count": 709,
   "metadata": {},
   "outputs": [
    {
     "name": "stdout",
     "output_type": "stream",
     "text": [
      "Linear 11423.02779\n"
     ]
    }
   ],
   "source": [
    "# train_mse = mse(esti_y, train_y)\n",
    "train_mse = mse(train_pred , train_y)\n",
    "\n",
    "# print(f\"Linear {train_mse:.5f}\")\n",
    "print(f\"Linear {train_mse:.5f}\")"
   ]
  },
  {
   "cell_type": "code",
   "execution_count": 710,
   "metadata": {
    "id": "ThKWK_QdUIyo"
   },
   "outputs": [],
   "source": [
    "def visualize(model, x, y) :\n",
    "    \n",
    "    if x.shape[1] != 1:\n",
    "        \n",
    "        return None\n",
    "    \n",
    "    beta = model.coef_[0]\n",
    "    intercept = model.intercept_\n",
    "    \n",
    "    x_axis = np.linspace(np.min(x), np.max(x), 100)\n",
    "    fit = intercept * x_axis**0 + beta*x_axis \n",
    "\n",
    "    plt.figure(figsize=(8,6))\n",
    "    plt.plot(x_axis, fit, label='Predict', c='r', linewidth=3)\n",
    "    plt.scatter(x, y, c='blue')\n",
    "    plt.legend()\n",
    "    plt.show()"
   ]
  },
  {
   "cell_type": "code",
   "execution_count": 711,
   "metadata": {},
   "outputs": [],
   "source": [
    "# visualization 하실 분은 진행해주세요!\n",
    "# visualize(model, train_x, train_y)"
   ]
  },
  {
   "cell_type": "markdown",
   "metadata": {},
   "source": [
    "# 예측"
   ]
  },
  {
   "cell_type": "markdown",
   "metadata": {
    "id": "T-6Xv53GXm4K"
   },
   "source": [
    "테스트셋에 대해서 한번 **예측**해보도록 합시다.\n",
    "\n",
    "이미 fitting된 모델 (그리고 scaler를 사용하신다면 scaler)에 대해 **fit을 하지 말고** 단순히 predict만 진행해보도록 합시다. \n",
    "\n",
    "scaler는 transform만 하시고 model은 predict을 진행해주세요"
   ]
  },
  {
   "cell_type": "code",
   "execution_count": 712,
   "metadata": {},
   "outputs": [],
   "source": [
    "# y1_hat에 predict값 할당\n",
    "test_pred = lr.predict(processed_data_test)"
   ]
  },
  {
   "cell_type": "markdown",
   "metadata": {},
   "source": [
    "# 성능 평가\n",
    "\n",
    "한번 학습한 모델에 대해 test_y를 이용하여 mse loss를 측정해도도록 합시다."
   ]
  },
  {
   "cell_type": "code",
   "execution_count": 713,
   "metadata": {},
   "outputs": [],
   "source": [
    "def score(train_mse, test_mse) :\n",
    "    \n",
    "    result = round(test_mse/train_mse , 4)\n",
    "    \n",
    "    return(result)"
   ]
  },
  {
   "cell_type": "code",
   "execution_count": 714,
   "metadata": {
    "scrolled": true
   },
   "outputs": [
    {
     "name": "stdout",
     "output_type": "stream",
     "text": [
      "Linear 317126.36032\n"
     ]
    }
   ],
   "source": [
    "# test_mse = mse(pred_y, test_y)\n",
    "test_mse = mse(test_pred , test_y)\n",
    "\n",
    "# print(f\"Linear {test_mse:.5f}\")\n",
    "print(f\"Linear {test_mse:.5f}\")"
   ]
  },
  {
   "cell_type": "code",
   "execution_count": 715,
   "metadata": {},
   "outputs": [
    {
     "data": {
      "text/plain": [
       "27.762"
      ]
     },
     "execution_count": 715,
     "metadata": {},
     "output_type": "execute_result"
    }
   ],
   "source": [
    "# score(train_mse,test_mse)\n",
    "lr_score = score(train_mse , test_mse)\n",
    "\n",
    "lr_score"
   ]
  },
  {
   "cell_type": "markdown",
   "metadata": {},
   "source": [
    "### (2) Ridge Regression"
   ]
  },
  {
   "cell_type": "code",
   "execution_count": 716,
   "metadata": {},
   "outputs": [
    {
     "data": {
      "text/plain": [
       "Ridge()"
      ]
     },
     "execution_count": 716,
     "metadata": {},
     "output_type": "execute_result"
    }
   ],
   "source": [
    "# 사용할 패키지를 import!\n",
    "from sklearn.linear_model import Ridge\n",
    "\n",
    "# 선형회귀 모델 생성 후 fitting 시킵니다.\n",
    "L1_lr = Ridge()\n",
    "L1_lr.fit(processed_data_train, train_y)"
   ]
  },
  {
   "cell_type": "code",
   "execution_count": 717,
   "metadata": {
    "id": "hHQz6NrkXmtW"
   },
   "outputs": [],
   "source": [
    "# visualization 하실 분은 진행해주세요!\n",
    "# visualize(model, test_x, test_y)"
   ]
  },
  {
   "cell_type": "markdown",
   "metadata": {},
   "source": [
    "## 추정\n",
    "\n",
    "이제 train_x를 이용하여 전력사용량을 추정해보도록 합시다."
   ]
  },
  {
   "cell_type": "code",
   "execution_count": 718,
   "metadata": {},
   "outputs": [
    {
     "data": {
      "text/plain": [
       "array([8038.03078449, 8045.15909221, 8037.67861927, 8019.02159566,\n",
       "       8014.97335272, 8010.92510977, 8001.59659797, 7997.2965542 ,\n",
       "       8031.73016067, 8066.89219141, 8110.31419136, 8186.17431167,\n",
       "       8235.28092249, 8242.05706498, 8265.37834448, 8277.17090809,\n",
       "       8289.75611966, 8261.0662538 , 8217.23991184, 8152.55634219,\n",
       "       8113.23476197, 8084.6733435 , 8048.94348743, 8016.29369612,\n",
       "       7985.84410891, 7962.25898168, 7950.11425284, 7936.47365036,\n",
       "       7930.22520333, 7900.03946384, 7914.91209222, 7933.3052681 ,\n",
       "       7961.55465123, 8005.38099319, 8024.03801679, 8033.98254155,\n",
       "       7979.8595096 , 8031.51848973, 8165.47361434, 8190.10319034,\n",
       "       8222.41286332, 8210.87210053, 8177.34244855, 8166.42974561,\n",
       "       8149.00474792, 8132.54792841, 8115.47509594, 8098.40226347,\n",
       "       8070.41672807, 8067.60051103, 8061.70422922, 8058.62416445,\n",
       "       8055.19193446, 8053.95990855, 8025.09451247, 8045.81124587,\n",
       "       8071.22837589, 8149.40510076, 8222.77707545, 8272.1595809 ,\n",
       "       8314.70172017, 8364.12036634, 8399.8502224 , 8449.9250114 ,\n",
       "       8465.76581796, 8467.2616916 , 8378.28866426, 8286.56364358,\n",
       "       8213.24783485, 8176.99028332, 8168.01393675, 8152.78914314,\n",
       "       8148.47705247, 8148.12488724, 8145.3969877 , 8169.24596265,\n",
       "       8170.21414083, 8160.88562903, 8157.71724677, 8152.78914314,\n",
       "       8160.79731153, 8181.65453922, 8228.8850282 , 8292.61246658,\n",
       "       8332.06249418, 8365.00022702, 8387.96934129, 8378.05289951])"
      ]
     },
     "execution_count": 718,
     "metadata": {},
     "output_type": "execute_result"
    }
   ],
   "source": [
    "train_pred = L1_lr.predict(processed_data_train)\n",
    "\n",
    "train_pred"
   ]
  },
  {
   "cell_type": "markdown",
   "metadata": {},
   "source": [
    "# Loss 및 시각화\n",
    "\n",
    "앞서 fitting하여 얻은 모델을 이용하여 추정한 값으로 MSE를 측정해봅시다. 변수를 하나만 사용하신 분들은 xy 평면에 한번 같이 시각화도 해보셔도 좋습니다."
   ]
  },
  {
   "cell_type": "code",
   "execution_count": 719,
   "metadata": {},
   "outputs": [
    {
     "name": "stdout",
     "output_type": "stream",
     "text": [
      "L1 Regression : 13881.14065\n"
     ]
    }
   ],
   "source": [
    "# train_mse = mse(esti_y, train_y)\n",
    "train_mse = mse(train_pred , train_y)\n",
    "\n",
    "# print(f\"Linear {train_mse:.5f}\")\n",
    "print(f\"L1 Regression : {train_mse:.5f}\")"
   ]
  },
  {
   "cell_type": "markdown",
   "metadata": {},
   "source": [
    "# 예측"
   ]
  },
  {
   "cell_type": "markdown",
   "metadata": {
    "id": "T-6Xv53GXm4K"
   },
   "source": [
    "테스트셋에 대해서 한번 **예측**해보도록 합시다.\n",
    "\n",
    "이미 fitting된 모델 (그리고 scaler를 사용하신다면 scaler)에 대해 **fit을 하지 말고** 단순히 predict만 진행해보도록 합시다. \n",
    "\n",
    "scaler는 transform만 하시고 model은 predict을 진행해주세요"
   ]
  },
  {
   "cell_type": "code",
   "execution_count": 720,
   "metadata": {},
   "outputs": [],
   "source": [
    "# y1_hat에 predict값 할당\n",
    "test_pred = L1_lr.predict(processed_data_test)"
   ]
  },
  {
   "cell_type": "markdown",
   "metadata": {},
   "source": [
    "# 성능 평가\n",
    "\n",
    "한번 학습한 모델에 대해 test_y를 이용하여 mse loss를 측정해도도록 합시다."
   ]
  },
  {
   "cell_type": "code",
   "execution_count": 721,
   "metadata": {
    "scrolled": true
   },
   "outputs": [
    {
     "name": "stdout",
     "output_type": "stream",
     "text": [
      "L1 Regression : 290334.18345\n"
     ]
    }
   ],
   "source": [
    "# test_mse = mse(pred_y, test_y)\n",
    "test_mse = mse(test_pred , test_y)\n",
    "\n",
    "# print(f\"Linear {test_mse:.5f}\")\n",
    "print(f\"L1 Regression : {test_mse:.5f}\")"
   ]
  },
  {
   "cell_type": "code",
   "execution_count": 722,
   "metadata": {},
   "outputs": [
    {
     "data": {
      "text/plain": [
       "20.9157"
      ]
     },
     "execution_count": 722,
     "metadata": {},
     "output_type": "execute_result"
    }
   ],
   "source": [
    "# score(train_mse,test_mse)\n",
    "L1_lr_score = score(train_mse , test_mse)\n",
    "\n",
    "L1_lr_score"
   ]
  },
  {
   "cell_type": "markdown",
   "metadata": {},
   "source": [
    "### (3) Lasso Regression"
   ]
  },
  {
   "cell_type": "code",
   "execution_count": 723,
   "metadata": {},
   "outputs": [
    {
     "data": {
      "text/plain": [
       "Lasso()"
      ]
     },
     "execution_count": 723,
     "metadata": {},
     "output_type": "execute_result"
    }
   ],
   "source": [
    "# 사용할 패키지를 import!\n",
    "from sklearn.linear_model import Lasso\n",
    "\n",
    "# 선형회귀 모델 생성 후 fitting 시킵니다.\n",
    "L2_lr = Lasso()\n",
    "L2_lr.fit(processed_data_train, train_y)"
   ]
  },
  {
   "cell_type": "markdown",
   "metadata": {},
   "source": [
    "## 추정\n",
    "\n",
    "이제 train_x를 이용하여 전력사용량을 추정해보도록 합시다."
   ]
  },
  {
   "cell_type": "code",
   "execution_count": 724,
   "metadata": {},
   "outputs": [
    {
     "data": {
      "text/plain": [
       "array([8019.11648555, 8025.77949772, 8012.45347339, 7985.80142474,\n",
       "       7979.13841258, 7972.47540041, 7959.14937609, 7954.24092768,\n",
       "       7977.73909167, 8004.74638318, 8029.99911093, 8136.60730554,\n",
       "       8203.23742717, 8203.23742717, 8236.55248799, 8249.87851232,\n",
       "       8289.85658529, 8236.55248799, 8176.58537852, 8083.30320824,\n",
       "       8092.7648622 , 8085.74660719, 8039.10552204, 7992.4644369 ,\n",
       "       7952.48636392, 7925.83431527, 7905.84527878, 7892.51925445,\n",
       "       7879.19323013, 7832.55214499, 7845.87816931, 7879.19323013,\n",
       "       7912.50829094, 7972.47540041, 7999.12744906, 8012.45347339,\n",
       "       7932.49732743, 8012.45347339, 8187.44635339, 8238.99588694,\n",
       "       8274.06551151, 8258.98492343, 8219.00685045, 8199.01781396,\n",
       "       8172.36576531, 8152.37672882, 8132.38769233, 8112.39865584,\n",
       "       8072.42058286, 8065.7575707 , 8059.09455853, 8059.09455853,\n",
       "       8052.43154637, 8052.43154637, 8019.11648555, 8011.05415249,\n",
       "       7994.92948636, 8159.39498383, 8275.82007526, 8330.87873632,\n",
       "       8362.79447624, 8403.12779207, 8449.76887721, 8523.062011  ,\n",
       "       8543.05104749, 8536.38803533, 8403.12779207, 8286.34745779,\n",
       "       8245.6588991 , 8212.34383829, 8205.68082612, 8185.69178963,\n",
       "       8185.69178963, 8179.02877747, 8185.69178963, 8205.68082612,\n",
       "       8212.34383829, 8199.01781396, 8185.69178963, 8185.69178963,\n",
       "       8185.69178963, 8219.00685045, 8247.76870571, 8329.47941542,\n",
       "       8366.30360374, 8396.4647799 , 8423.11682856, 8447.6590706 ])"
      ]
     },
     "execution_count": 724,
     "metadata": {},
     "output_type": "execute_result"
    }
   ],
   "source": [
    "train_pred = L2_lr.predict(processed_data_train)\n",
    "\n",
    "train_pred"
   ]
  },
  {
   "cell_type": "markdown",
   "metadata": {},
   "source": [
    "# Loss 및 시각화\n",
    "\n",
    "앞서 fitting하여 얻은 모델을 이용하여 추정한 값으로 MSE를 측정해봅시다. 변수를 하나만 사용하신 분들은 xy 평면에 한번 같이 시각화도 해보셔도 좋습니다."
   ]
  },
  {
   "cell_type": "code",
   "execution_count": 725,
   "metadata": {},
   "outputs": [
    {
     "name": "stdout",
     "output_type": "stream",
     "text": [
      "L2 Regression : 11523.08338\n"
     ]
    }
   ],
   "source": [
    "# train_mse = mse(esti_y, train_y)\n",
    "train_mse = mse(train_pred , train_y)\n",
    "\n",
    "# print(f\"Linear {train_mse:.5f}\")\n",
    "print(f\"L2 Regression : {train_mse:.5f}\")"
   ]
  },
  {
   "cell_type": "markdown",
   "metadata": {},
   "source": [
    "# 예측"
   ]
  },
  {
   "cell_type": "markdown",
   "metadata": {
    "id": "T-6Xv53GXm4K"
   },
   "source": [
    "테스트셋에 대해서 한번 **예측**해보도록 합시다.\n",
    "\n",
    "이미 fitting된 모델 (그리고 scaler를 사용하신다면 scaler)에 대해 **fit을 하지 말고** 단순히 predict만 진행해보도록 합시다. \n",
    "\n",
    "scaler는 transform만 하시고 model은 predict을 진행해주세요"
   ]
  },
  {
   "cell_type": "code",
   "execution_count": 726,
   "metadata": {},
   "outputs": [],
   "source": [
    "# y1_hat에 predict값 할당\n",
    "test_pred = L2_lr.predict(processed_data_test)"
   ]
  },
  {
   "cell_type": "markdown",
   "metadata": {},
   "source": [
    "# 성능 평가\n",
    "\n",
    "한번 학습한 모델에 대해 test_y를 이용하여 mse loss를 측정해도도록 합시다."
   ]
  },
  {
   "cell_type": "code",
   "execution_count": 727,
   "metadata": {
    "scrolled": true
   },
   "outputs": [
    {
     "name": "stdout",
     "output_type": "stream",
     "text": [
      "L2 Regression : 310372.56889\n"
     ]
    }
   ],
   "source": [
    "# test_mse = mse(pred_y, test_y)\n",
    "test_mse = mse(test_pred , test_y)\n",
    "\n",
    "# print(f\"Linear {test_mse:.5f}\")\n",
    "print(f\"L2 Regression : {test_mse:.5f}\")"
   ]
  },
  {
   "cell_type": "code",
   "execution_count": 728,
   "metadata": {},
   "outputs": [
    {
     "data": {
      "text/plain": [
       "26.9349"
      ]
     },
     "execution_count": 728,
     "metadata": {},
     "output_type": "execute_result"
    }
   ],
   "source": [
    "# score(train_mse,test_mse)\n",
    "L2_lr_score = score(train_mse , test_mse)\n",
    "\n",
    "L2_lr_score"
   ]
  },
  {
   "cell_type": "markdown",
   "metadata": {},
   "source": [
    "### (4) Random Forest"
   ]
  },
  {
   "cell_type": "code",
   "execution_count": 729,
   "metadata": {},
   "outputs": [
    {
     "data": {
      "text/plain": [
       "RandomForestRegressor()"
      ]
     },
     "execution_count": 729,
     "metadata": {},
     "output_type": "execute_result"
    }
   ],
   "source": [
    "# 사용할 패키지를 import!\n",
    "from sklearn.ensemble import RandomForestRegressor\n",
    "\n",
    "import warnings\n",
    "warnings.filterwarnings('ignore')\n",
    "\n",
    "# 선형회귀 모델 생성 후 fitting 시킵니다.\n",
    "rf_lr = RandomForestRegressor()\n",
    "rf_lr.fit(processed_data_train, train_y)"
   ]
  },
  {
   "cell_type": "markdown",
   "metadata": {},
   "source": [
    "## 추정\n",
    "\n",
    "이제 train_x를 이용하여 전력사용량을 추정해보도록 합시다."
   ]
  },
  {
   "cell_type": "code",
   "execution_count": 730,
   "metadata": {},
   "outputs": [
    {
     "data": {
      "text/plain": [
       "array([8117.02944   , 8129.5488    , 8087.48064   , 8047.64808   ,\n",
       "       8035.2972    , 8006.33808   , 7983.53496   , 7984.21536   ,\n",
       "       8045.72352   , 8106.16248   , 8094.654     , 8090.02728   ,\n",
       "       8074.60488   , 8094.79008   , 8085.05712   , 8127.61128   ,\n",
       "       8156.28528   , 8040.21552   , 8051.73048   , 8050.5576    ,\n",
       "       8029.93176   , 8033.08104   , 8009.0208    , 7952.3532    ,\n",
       "       7929.35568   , 7893.34632   , 7867.368     , 7848.20016   ,\n",
       "       7816.52592   , 7802.47728   , 7803.22896   , 7829.17488   ,\n",
       "       7873.51104   , 7941.564     , 7974.612     , 8009.51328   ,\n",
       "       7925.40936   , 7966.9332    , 8066.35584   , 8074.03464   ,\n",
       "       8076.5424    , 8126.97624   , 8121.9348    , 8131.77792   ,\n",
       "       8113.56912   , 8101.04328   , 8126.01072   , 8118.35136   ,\n",
       "       8107.14744   , 8082.7308    , 8089.83936   , 8083.74816   ,\n",
       "       8059.0464    , 8052.57936   , 8045.0172    , 8093.09232   ,\n",
       "       8131.35672   , 8187.75864   , 8208.59184   , 8259.00624   ,\n",
       "       8321.09112   , 8450.30232   , 8475.53544   , 8482.96152   ,\n",
       "       8500.3344    , 8566.01568   , 8641.29384   , 8380.07208   ,\n",
       "       8246.11104   , 8297.40024   , 8243.046     , 8271.60428571,\n",
       "       8255.1528    , 8212.06944   , 8249.63832   , 8242.58592   ,\n",
       "       8253.21312   , 8280.15696   , 8265.48624   , 8271.60428571,\n",
       "       8292.5208    , 8287.6608    , 8286.11208   , 8355.474     ,\n",
       "       8459.14752   , 8542.50624   , 8613.45576   , 8632.48104   ])"
      ]
     },
     "execution_count": 730,
     "metadata": {},
     "output_type": "execute_result"
    }
   ],
   "source": [
    "train_pred = rf_lr.predict(processed_data_train)\n",
    "\n",
    "train_pred"
   ]
  },
  {
   "cell_type": "markdown",
   "metadata": {},
   "source": [
    "# Loss 및 시각화\n",
    "\n",
    "앞서 fitting하여 얻은 모델을 이용하여 추정한 값으로 MSE를 측정해봅시다. 변수를 하나만 사용하신 분들은 xy 평면에 한번 같이 시각화도 해보셔도 좋습니다."
   ]
  },
  {
   "cell_type": "code",
   "execution_count": 731,
   "metadata": {},
   "outputs": [
    {
     "name": "stdout",
     "output_type": "stream",
     "text": [
      "Random Forest 1365.13352\n"
     ]
    }
   ],
   "source": [
    "# train_mse = mse(esti_y, train_y)\n",
    "train_mse = mse(train_pred , train_y)\n",
    "\n",
    "# print(f\"Linear {train_mse:.5f}\")\n",
    "print(f\"Random Forest {train_mse:.5f}\")"
   ]
  },
  {
   "cell_type": "markdown",
   "metadata": {},
   "source": [
    "# 예측"
   ]
  },
  {
   "cell_type": "markdown",
   "metadata": {
    "id": "T-6Xv53GXm4K"
   },
   "source": [
    "테스트셋에 대해서 한번 **예측**해보도록 합시다.\n",
    "\n",
    "이미 fitting된 모델 (그리고 scaler를 사용하신다면 scaler)에 대해 **fit을 하지 말고** 단순히 predict만 진행해보도록 합시다. \n",
    "\n",
    "scaler는 transform만 하시고 model은 predict을 진행해주세요"
   ]
  },
  {
   "cell_type": "code",
   "execution_count": 732,
   "metadata": {},
   "outputs": [],
   "source": [
    "# y1_hat에 predict값 할당\n",
    "test_pred = rf_lr.predict(processed_data_test)"
   ]
  },
  {
   "cell_type": "markdown",
   "metadata": {},
   "source": [
    "# 성능 평가\n",
    "\n",
    "한번 학습한 모델에 대해 test_y를 이용하여 mse loss를 측정해도도록 합시다."
   ]
  },
  {
   "cell_type": "code",
   "execution_count": 733,
   "metadata": {
    "scrolled": true
   },
   "outputs": [
    {
     "name": "stdout",
     "output_type": "stream",
     "text": [
      "Random Forest : 341172.38922\n"
     ]
    }
   ],
   "source": [
    "# test_mse = mse(pred_y, test_y)\n",
    "test_mse = mse(test_pred , test_y)\n",
    "\n",
    "# print(f\"Linear {test_mse:.5f}\")\n",
    "print(f\"Random Forest : {test_mse:.5f}\")"
   ]
  },
  {
   "cell_type": "code",
   "execution_count": 734,
   "metadata": {},
   "outputs": [
    {
     "data": {
      "text/plain": [
       "249.9187"
      ]
     },
     "execution_count": 734,
     "metadata": {},
     "output_type": "execute_result"
    }
   ],
   "source": [
    "# score(train_mse,test_mse)\n",
    "rf_lr_score = score(train_mse , test_mse)\n",
    "\n",
    "rf_lr_score"
   ]
  },
  {
   "cell_type": "markdown",
   "metadata": {},
   "source": [
    "### (5) Gradient Boosting"
   ]
  },
  {
   "cell_type": "code",
   "execution_count": 735,
   "metadata": {},
   "outputs": [
    {
     "data": {
      "text/plain": [
       "GradientBoostingRegressor()"
      ]
     },
     "execution_count": 735,
     "metadata": {},
     "output_type": "execute_result"
    }
   ],
   "source": [
    "# 사용할 패키지를 import!\n",
    "from sklearn.ensemble import GradientBoostingRegressor\n",
    "\n",
    "import warnings\n",
    "warnings.filterwarnings('ignore')\n",
    "\n",
    "# 선형회귀 모델 생성 후 fitting 시킵니다.\n",
    "gb_lr = GradientBoostingRegressor()\n",
    "gb_lr.fit(processed_data_train, train_y)"
   ]
  },
  {
   "cell_type": "markdown",
   "metadata": {},
   "source": [
    "## 추정\n",
    "\n",
    "이제 train_x를 이용하여 전력사용량을 추정해보도록 합시다."
   ]
  },
  {
   "cell_type": "code",
   "execution_count": 736,
   "metadata": {},
   "outputs": [
    {
     "data": {
      "text/plain": [
       "array([8109.69737018, 8117.05014978, 8075.43764504, 8049.29987774,\n",
       "       8037.09438544, 8011.28001977, 8003.49737932, 7991.18982357,\n",
       "       8020.93553237, 8094.63409603, 8117.94255014, 8100.48855674,\n",
       "       8093.23359461, 8094.18805537, 8090.32378637, 8081.65011103,\n",
       "       8051.28987393, 8031.10404676, 8050.71575476, 8025.11817706,\n",
       "       8019.04689398, 8046.89882417, 8007.6860167 , 7950.19905391,\n",
       "       7906.30512957, 7878.71562108, 7861.74603752, 7847.04393922,\n",
       "       7812.06482881, 7805.44786481, 7798.28192806, 7829.99598045,\n",
       "       7866.07804931, 7954.96386368, 7982.7913274 , 7996.7178247 ,\n",
       "       7936.00975203, 7965.66980473, 8034.00195287, 8036.57352127,\n",
       "       8066.74599569, 8105.43116392, 8130.19886111, 8144.60704005,\n",
       "       8085.82951068, 8109.10247751, 8115.27759273, 8119.06810475,\n",
       "       8089.54238379, 8097.91007658, 8088.03943916, 8088.03943916,\n",
       "       8047.28451587, 8047.28451587, 8028.6452352 , 8092.30829369,\n",
       "       8137.19546201, 8200.89397846, 8257.99860018, 8253.40100599,\n",
       "       8344.14563728, 8376.51521919, 8478.90785218, 8462.09521429,\n",
       "       8501.9737776 , 8552.16208254, 8651.20371589, 8450.14079996,\n",
       "       8336.5147484 , 8265.31892113, 8213.73722695, 8261.78487759,\n",
       "       8265.25917859, 8230.25826655, 8263.13608995, 8219.05645174,\n",
       "       8239.49794306, 8256.77060336, 8251.22476286, 8261.78487759,\n",
       "       8297.06216151, 8265.31892113, 8308.15033295, 8371.93797739,\n",
       "       8447.79520484, 8569.94044291, 8619.12486109, 8664.36115884])"
      ]
     },
     "execution_count": 736,
     "metadata": {},
     "output_type": "execute_result"
    }
   ],
   "source": [
    "train_pred = gb_lr.predict(processed_data_train)\n",
    "\n",
    "train_pred"
   ]
  },
  {
   "cell_type": "markdown",
   "metadata": {},
   "source": [
    "# Loss 및 시각화\n",
    "\n",
    "앞서 fitting하여 얻은 모델을 이용하여 추정한 값으로 MSE를 측정해봅시다. 변수를 하나만 사용하신 분들은 xy 평면에 한번 같이 시각화도 해보셔도 좋습니다."
   ]
  },
  {
   "cell_type": "code",
   "execution_count": 737,
   "metadata": {},
   "outputs": [
    {
     "name": "stdout",
     "output_type": "stream",
     "text": [
      "Gradient Boosting : 800.35115\n"
     ]
    }
   ],
   "source": [
    "# train_mse = mse(esti_y, train_y)\n",
    "train_mse = mse(train_pred , train_y)\n",
    "\n",
    "# print(f\"Linear {train_mse:.5f}\")\n",
    "print(f\"Gradient Boosting : {train_mse:.5f}\")"
   ]
  },
  {
   "cell_type": "markdown",
   "metadata": {},
   "source": [
    "# 예측"
   ]
  },
  {
   "cell_type": "markdown",
   "metadata": {
    "id": "T-6Xv53GXm4K"
   },
   "source": [
    "테스트셋에 대해서 한번 **예측**해보도록 합시다.\n",
    "\n",
    "이미 fitting된 모델 (그리고 scaler를 사용하신다면 scaler)에 대해 **fit을 하지 말고** 단순히 predict만 진행해보도록 합시다. \n",
    "\n",
    "scaler는 transform만 하시고 model은 predict을 진행해주세요"
   ]
  },
  {
   "cell_type": "code",
   "execution_count": 738,
   "metadata": {},
   "outputs": [],
   "source": [
    "# y1_hat에 predict값 할당\n",
    "test_pred = gb_lr.predict(processed_data_test)"
   ]
  },
  {
   "cell_type": "markdown",
   "metadata": {},
   "source": [
    "# 성능 평가\n",
    "\n",
    "한번 학습한 모델에 대해 test_y를 이용하여 mse loss를 측정해도도록 합시다."
   ]
  },
  {
   "cell_type": "code",
   "execution_count": 739,
   "metadata": {
    "scrolled": true
   },
   "outputs": [
    {
     "name": "stdout",
     "output_type": "stream",
     "text": [
      "Gradient Boosting : 356552.06274\n"
     ]
    }
   ],
   "source": [
    "# test_mse = mse(pred_y, test_y)\n",
    "test_mse = mse(test_pred , test_y)\n",
    "\n",
    "# print(f\"Linear {test_mse:.5f}\")\n",
    "print(f\"Gradient Boosting : {test_mse:.5f}\")"
   ]
  },
  {
   "cell_type": "code",
   "execution_count": 740,
   "metadata": {},
   "outputs": [
    {
     "data": {
      "text/plain": [
       "445.4945"
      ]
     },
     "execution_count": 740,
     "metadata": {},
     "output_type": "execute_result"
    }
   ],
   "source": [
    "# score(train_mse,test_mse)\n",
    "gb_lr_score = score(train_mse , test_mse)\n",
    "\n",
    "gb_lr_score"
   ]
  },
  {
   "cell_type": "markdown",
   "metadata": {},
   "source": [
    "### (6) Xgboost"
   ]
  },
  {
   "cell_type": "code",
   "execution_count": 741,
   "metadata": {},
   "outputs": [
    {
     "data": {
      "text/plain": [
       "XGBRegressor(base_score=0.5, booster='gbtree', callbacks=None,\n",
       "             colsample_bylevel=1, colsample_bynode=1, colsample_bytree=1,\n",
       "             early_stopping_rounds=None, enable_categorical=False,\n",
       "             eval_metric=None, gamma=0, gpu_id=-1, grow_policy='depthwise',\n",
       "             importance_type=None, interaction_constraints='',\n",
       "             learning_rate=0.300000012, max_bin=256, max_cat_to_onehot=4,\n",
       "             max_delta_step=0, max_depth=6, max_leaves=0, min_child_weight=1,\n",
       "             missing=nan, monotone_constraints='()', n_estimators=100, n_jobs=0,\n",
       "             num_parallel_tree=1, predictor='auto', random_state=0, reg_alpha=0,\n",
       "             reg_lambda=1, ...)"
      ]
     },
     "execution_count": 741,
     "metadata": {},
     "output_type": "execute_result"
    }
   ],
   "source": [
    "# 사용할 패키지를 import!\n",
    "from xgboost import XGBRegressor\n",
    "\n",
    "import warnings\n",
    "warnings.filterwarnings('ignore')\n",
    "\n",
    "# 선형회귀 모델 생성 후 fitting 시킵니다.\n",
    "xgb_lr = XGBRegressor()\n",
    "xgb_lr.fit(processed_data_train, train_y)"
   ]
  },
  {
   "cell_type": "markdown",
   "metadata": {},
   "source": [
    "## 추정\n",
    "\n",
    "이제 train_x를 이용하여 전력사용량을 추정해보도록 합시다."
   ]
  },
  {
   "cell_type": "code",
   "execution_count": 742,
   "metadata": {},
   "outputs": [
    {
     "data": {
      "text/plain": [
       "array([8178.791 , 8135.6567, 8106.9873, 8048.86  , 8043.6436, 8010.4175,\n",
       "       7978.2666, 8018.9873, 8020.961 , 8083.217 , 8116.1987, 8104.527 ,\n",
       "       8088.9595, 8102.485 , 8088.428 , 8076.68  , 8032.588 , 8013.81  ,\n",
       "       8029.498 , 8028.072 , 7994.3535, 7975.132 , 7973.1323, 7945.0444,\n",
       "       7920.488 , 7890.0605, 7868.0225, 7847.258 , 7799.3574, 7801.9043,\n",
       "       7784.504 , 7836.908 , 7873.036 , 7914.2695, 7973.5938, 7989.9707,\n",
       "       7935.3984, 7923.8813, 7966.5664, 7996.335 , 8054.002 , 8061.2573,\n",
       "       8059.35  , 8061.266 , 8067.0137, 8111.5854, 8140.682 , 8120.077 ,\n",
       "       8114.902 , 8094.6484, 8090.4346, 8091.4688, 8057.683 , 8038.6147,\n",
       "       8019.6562, 8094.8174, 8151.8096, 8201.085 , 8261.344 , 8278.191 ,\n",
       "       8319.704 , 8363.744 , 8459.106 , 8483.545 , 8506.932 , 8530.942 ,\n",
       "       8655.982 , 8461.491 , 8344.282 , 8322.971 , 8271.462 , 8276.199 ,\n",
       "       8254.879 , 8231.125 , 8245.852 , 8257.463 , 8240.604 , 8307.994 ,\n",
       "       8261.951 , 8276.199 , 8328.125 , 8347.283 , 8363.608 , 8386.399 ,\n",
       "       8435.799 , 8591.119 , 8638.376 , 8663.126 ], dtype=float32)"
      ]
     },
     "execution_count": 742,
     "metadata": {},
     "output_type": "execute_result"
    }
   ],
   "source": [
    "train_pred = xgb_lr.predict(processed_data_train)\n",
    "\n",
    "train_pred"
   ]
  },
  {
   "cell_type": "markdown",
   "metadata": {},
   "source": [
    "# Loss 및 시각화\n",
    "\n",
    "앞서 fitting하여 얻은 모델을 이용하여 추정한 값으로 MSE를 측정해봅시다. 변수를 하나만 사용하신 분들은 xy 평면에 한번 같이 시각화도 해보셔도 좋습니다."
   ]
  },
  {
   "cell_type": "code",
   "execution_count": 743,
   "metadata": {},
   "outputs": [
    {
     "name": "stdout",
     "output_type": "stream",
     "text": [
      "XGBoost : 9.78238\n"
     ]
    }
   ],
   "source": [
    "# train_mse = mse(esti_y, train_y)\n",
    "train_mse = mse(train_pred , train_y)\n",
    "\n",
    "# print(f\"Linear {train_mse:.5f}\")\n",
    "print(f\"XGBoost : {train_mse:.5f}\")"
   ]
  },
  {
   "cell_type": "markdown",
   "metadata": {},
   "source": [
    "# 예측"
   ]
  },
  {
   "cell_type": "markdown",
   "metadata": {
    "id": "T-6Xv53GXm4K"
   },
   "source": [
    "테스트셋에 대해서 한번 **예측**해보도록 합시다.\n",
    "\n",
    "이미 fitting된 모델 (그리고 scaler를 사용하신다면 scaler)에 대해 **fit을 하지 말고** 단순히 predict만 진행해보도록 합시다. \n",
    "\n",
    "scaler는 transform만 하시고 model은 predict을 진행해주세요"
   ]
  },
  {
   "cell_type": "code",
   "execution_count": 744,
   "metadata": {},
   "outputs": [],
   "source": [
    "# y1_hat에 predict값 할당\n",
    "test_pred = xgb_lr.predict(processed_data_test)"
   ]
  },
  {
   "cell_type": "markdown",
   "metadata": {},
   "source": [
    "# 성능 평가\n",
    "\n",
    "한번 학습한 모델에 대해 test_y를 이용하여 mse loss를 측정해도도록 합시다."
   ]
  },
  {
   "cell_type": "code",
   "execution_count": 745,
   "metadata": {
    "scrolled": true
   },
   "outputs": [
    {
     "name": "stdout",
     "output_type": "stream",
     "text": [
      "XGBoost :  350491.58839\n"
     ]
    }
   ],
   "source": [
    "# test_mse = mse(pred_y, test_y)\n",
    "test_mse = mse(test_pred , test_y)\n",
    "\n",
    "# print(f\"Linear {test_mse:.5f}\")\n",
    "print(f\"XGBoost :  {test_mse:.5f}\")"
   ]
  },
  {
   "cell_type": "code",
   "execution_count": 746,
   "metadata": {},
   "outputs": [
    {
     "data": {
      "text/plain": [
       "35828.8596"
      ]
     },
     "execution_count": 746,
     "metadata": {},
     "output_type": "execute_result"
    }
   ],
   "source": [
    "# score(train_mse,test_mse)\n",
    "xgb_lr_score = score(train_mse , test_mse)\n",
    "\n",
    "xgb_lr_score"
   ]
  },
  {
   "cell_type": "markdown",
   "metadata": {},
   "source": [
    "### (7) LGBM"
   ]
  },
  {
   "cell_type": "code",
   "execution_count": 747,
   "metadata": {},
   "outputs": [
    {
     "data": {
      "text/plain": [
       "LGBMRegressor()"
      ]
     },
     "execution_count": 747,
     "metadata": {},
     "output_type": "execute_result"
    }
   ],
   "source": [
    "# 사용할 패키지를 import!\n",
    "from lightgbm import LGBMRegressor\n",
    "\n",
    "import warnings\n",
    "warnings.filterwarnings('ignore')\n",
    "\n",
    "# 선형회귀 모델 생성 후 fitting 시킵니다.\n",
    "lgbm_lr = LGBMRegressor()\n",
    "lgbm_lr.fit(processed_data_train, train_y)"
   ]
  },
  {
   "cell_type": "markdown",
   "metadata": {},
   "source": [
    "## 추정\n",
    "\n",
    "이제 train_x를 이용하여 전력사용량을 추정해보도록 합시다."
   ]
  },
  {
   "cell_type": "code",
   "execution_count": 748,
   "metadata": {},
   "outputs": [
    {
     "data": {
      "text/plain": [
       "array([8064.28063626, 8129.41778779, 7992.79563213, 7992.79563213,\n",
       "       7992.79563213, 7992.79563213, 7992.79563213, 7902.82997423,\n",
       "       8100.18642549, 8108.98721734, 8096.31412698, 8130.30776907,\n",
       "       8338.17416229, 8338.17416229, 8338.17416229, 8338.17416229,\n",
       "       8338.17416229, 8338.17416229, 8130.30776907, 8096.31412698,\n",
       "       8075.84571332, 8118.6042736 , 8033.64150409, 7897.01934843,\n",
       "       7897.01934843, 7897.01934843, 7897.01934843, 7897.01934843,\n",
       "       7897.01934843, 7897.01934843, 7901.1464898 , 7897.01934843,\n",
       "       7901.1464898 , 7927.6584806 , 7927.6584806 , 7992.79563213,\n",
       "       7992.79563213, 7901.1464898 , 8174.26654969, 8163.59695739,\n",
       "       8160.87758588, 8203.49791199, 8171.64031655, 8217.97532035,\n",
       "       8124.85328199, 8161.38047667, 8107.0021137 , 8087.96514143,\n",
       "       8087.96514143, 8061.8373525 , 8061.8373525 , 8061.8373525 ,\n",
       "       8033.64150409, 8033.64150409, 8033.64150409, 8059.27927954,\n",
       "       8100.8079564 , 8207.99458433, 8203.95653809, 8405.83459723,\n",
       "       8360.24518374, 8362.55494601, 8352.65157066, 8362.39364747,\n",
       "       8352.65157066, 8338.17416229, 8338.17416229, 8338.17416229,\n",
       "       8203.49791199, 8203.49791199, 8171.64031655, 8213.41816212,\n",
       "       8245.81821543, 8213.41816212, 8245.81821543, 8217.97532035,\n",
       "       8206.51461106, 8206.51461106, 8253.31911672, 8213.41816212,\n",
       "       8253.31911672, 8203.49791199, 8230.82776594, 8360.24518374,\n",
       "       8338.17416229, 8338.17416229, 8338.17416229, 8424.2167508 ])"
      ]
     },
     "execution_count": 748,
     "metadata": {},
     "output_type": "execute_result"
    }
   ],
   "source": [
    "train_pred = lgbm_lr.predict(processed_data_train)\n",
    "\n",
    "train_pred"
   ]
  },
  {
   "cell_type": "markdown",
   "metadata": {},
   "source": [
    "# Loss 및 시각화\n",
    "\n",
    "앞서 fitting하여 얻은 모델을 이용하여 추정한 값으로 MSE를 측정해봅시다. 변수를 하나만 사용하신 분들은 xy 평면에 한번 같이 시각화도 해보셔도 좋습니다."
   ]
  },
  {
   "cell_type": "code",
   "execution_count": 749,
   "metadata": {},
   "outputs": [
    {
     "name": "stdout",
     "output_type": "stream",
     "text": [
      "LigthGBM : 14867.23443\n"
     ]
    }
   ],
   "source": [
    "# train_mse = mse(esti_y, train_y)\n",
    "train_mse = mse(train_pred , train_y)\n",
    "\n",
    "# print(f\"Linear {train_mse:.5f}\")\n",
    "print(f\"LigthGBM : {train_mse:.5f}\")"
   ]
  },
  {
   "cell_type": "markdown",
   "metadata": {},
   "source": [
    "# 예측"
   ]
  },
  {
   "cell_type": "markdown",
   "metadata": {
    "id": "T-6Xv53GXm4K"
   },
   "source": [
    "테스트셋에 대해서 한번 **예측**해보도록 합시다.\n",
    "\n",
    "이미 fitting된 모델 (그리고 scaler를 사용하신다면 scaler)에 대해 **fit을 하지 말고** 단순히 predict만 진행해보도록 합시다. \n",
    "\n",
    "scaler는 transform만 하시고 model은 predict을 진행해주세요"
   ]
  },
  {
   "cell_type": "code",
   "execution_count": 750,
   "metadata": {},
   "outputs": [],
   "source": [
    "# y1_hat에 predict값 할당\n",
    "test_pred = lgbm_lr.predict(processed_data_test)"
   ]
  },
  {
   "cell_type": "markdown",
   "metadata": {},
   "source": [
    "# 성능 평가\n",
    "\n",
    "한번 학습한 모델에 대해 test_y를 이용하여 mse loss를 측정해도도록 합시다."
   ]
  },
  {
   "cell_type": "code",
   "execution_count": 751,
   "metadata": {
    "scrolled": true
   },
   "outputs": [
    {
     "name": "stdout",
     "output_type": "stream",
     "text": [
      "LigthGBM :  319091.49960\n"
     ]
    }
   ],
   "source": [
    "# test_mse = mse(pred_y, test_y)\n",
    "test_mse = mse(test_pred , test_y)\n",
    "\n",
    "# print(f\"Linear {test_mse:.5f}\")\n",
    "print(f\"LigthGBM :  {test_mse:.5f}\")"
   ]
  },
  {
   "cell_type": "code",
   "execution_count": 752,
   "metadata": {},
   "outputs": [
    {
     "data": {
      "text/plain": [
       "21.4627"
      ]
     },
     "execution_count": 752,
     "metadata": {},
     "output_type": "execute_result"
    }
   ],
   "source": [
    "# score(train_mse,test_mse)\n",
    "lgbm_lr_score = score(train_mse , test_mse)\n",
    "\n",
    "lgbm_lr_score"
   ]
  },
  {
   "cell_type": "markdown",
   "metadata": {},
   "source": [
    "# 결과 확인"
   ]
  },
  {
   "cell_type": "code",
   "execution_count": 757,
   "metadata": {},
   "outputs": [
    {
     "data": {
      "text/plain": [
       "[27.762, 20.9157, 26.9349, 249.9187, 445.4945, 35828.8596, 21.4627]"
      ]
     },
     "execution_count": 757,
     "metadata": {},
     "output_type": "execute_result"
    }
   ],
   "source": [
    "model_list = ['Linear' , 'L1_Regression' , 'L2_Regression' , 'Random Forest' , 'Grading Boosting' , 'Xgboost' , 'Lgbm']\n",
    "\n",
    "score_list = [lr_score , L1_lr_score , L2_lr_score , rf_lr_score , gb_lr_score , xgb_lr_score , lgbm_lr_score]\n",
    "\n",
    "score_list"
   ]
  },
  {
   "cell_type": "code",
   "execution_count": 784,
   "metadata": {},
   "outputs": [
    {
     "name": "stdout",
     "output_type": "stream",
     "text": [
      "Score가 가장 좋은 모델 :  L1_Regression   &   그 모델의 Score :  20.9157\n"
     ]
    },
    {
     "data": {
      "text/html": [
       "<div>\n",
       "<style scoped>\n",
       "    .dataframe tbody tr th:only-of-type {\n",
       "        vertical-align: middle;\n",
       "    }\n",
       "\n",
       "    .dataframe tbody tr th {\n",
       "        vertical-align: top;\n",
       "    }\n",
       "\n",
       "    .dataframe thead th {\n",
       "        text-align: right;\n",
       "    }\n",
       "</style>\n",
       "<table border=\"1\" class=\"dataframe\">\n",
       "  <thead>\n",
       "    <tr style=\"text-align: right;\">\n",
       "      <th></th>\n",
       "      <th>Model</th>\n",
       "      <th>Score</th>\n",
       "    </tr>\n",
       "  </thead>\n",
       "  <tbody>\n",
       "    <tr>\n",
       "      <th>0</th>\n",
       "      <td>L1_Regression</td>\n",
       "      <td>20.9157</td>\n",
       "    </tr>\n",
       "    <tr>\n",
       "      <th>1</th>\n",
       "      <td>Lgbm</td>\n",
       "      <td>21.4627</td>\n",
       "    </tr>\n",
       "    <tr>\n",
       "      <th>2</th>\n",
       "      <td>L2_Regression</td>\n",
       "      <td>26.9349</td>\n",
       "    </tr>\n",
       "    <tr>\n",
       "      <th>3</th>\n",
       "      <td>Linear</td>\n",
       "      <td>27.7620</td>\n",
       "    </tr>\n",
       "    <tr>\n",
       "      <th>4</th>\n",
       "      <td>Random Forest</td>\n",
       "      <td>249.9187</td>\n",
       "    </tr>\n",
       "    <tr>\n",
       "      <th>5</th>\n",
       "      <td>Grading Boosting</td>\n",
       "      <td>445.4945</td>\n",
       "    </tr>\n",
       "    <tr>\n",
       "      <th>6</th>\n",
       "      <td>Xgboost</td>\n",
       "      <td>35828.8596</td>\n",
       "    </tr>\n",
       "  </tbody>\n",
       "</table>\n",
       "</div>"
      ],
      "text/plain": [
       "              Model       Score\n",
       "0     L1_Regression     20.9157\n",
       "1              Lgbm     21.4627\n",
       "2     L2_Regression     26.9349\n",
       "3            Linear     27.7620\n",
       "4     Random Forest    249.9187\n",
       "5  Grading Boosting    445.4945\n",
       "6           Xgboost  35828.8596"
      ]
     },
     "execution_count": 784,
     "metadata": {},
     "output_type": "execute_result"
    }
   ],
   "source": [
    "model_score_df = pd.DataFrame(zip(model_list , score_list) , columns = ['Model' , 'Score'])\n",
    "\n",
    "model_score_df = model_score_df.sort_values('Score')\n",
    "\n",
    "model_score_df.reset_index(drop = True , inplace = True)\n",
    "\n",
    "print('Score가 가장 좋은 모델 : ' , model_score_df.loc[0 , 'Model'] , ' ' ,  '&' , \n",
    "      ' ' ,'그 모델의 Score : ' , model_score_df.loc[0 , 'Score'])\n",
    "\n",
    "model_score_df"
   ]
  }
 ],
 "metadata": {
  "colab": {
   "authorship_tag": "ABX9TyOgug4KEXAF4mJb0CKcc9BQ",
   "collapsed_sections": [],
   "mount_file_id": "1Y2yJV5xqiiXMIdvOZmbHCI4AoGjowvm5",
   "name": "220203_Supervised_Learning_과제.ipynb",
   "provenance": []
  },
  "kernelspec": {
   "display_name": "Python 3 (ipykernel)",
   "language": "python",
   "name": "python3"
  },
  "language_info": {
   "codemirror_mode": {
    "name": "ipython",
    "version": 3
   },
   "file_extension": ".py",
   "mimetype": "text/x-python",
   "name": "python",
   "nbconvert_exporter": "python",
   "pygments_lexer": "ipython3",
   "version": "3.9.12"
  },
  "toc": {
   "base_numbering": 1,
   "nav_menu": {},
   "number_sections": true,
   "sideBar": true,
   "skip_h1_title": false,
   "title_cell": "Table of Contents",
   "title_sidebar": "Contents",
   "toc_cell": false,
   "toc_position": {
    "height": "calc(100% - 180px)",
    "left": "10px",
    "top": "150px",
    "width": "300.792px"
   },
   "toc_section_display": true,
   "toc_window_display": true
  }
 },
 "nbformat": 4,
 "nbformat_minor": 1
}
