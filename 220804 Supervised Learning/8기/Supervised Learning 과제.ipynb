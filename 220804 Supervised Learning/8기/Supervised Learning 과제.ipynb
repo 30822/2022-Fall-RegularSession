{
 "cells": [
  {
   "cell_type": "code",
   "execution_count": 223,
   "id": "2f1d7c6f",
   "metadata": {},
   "outputs": [],
   "source": [
    "import numpy as np\n",
    "import pandas as pd\n",
    "import matplotlib.pyplot as plt"
   ]
  },
  {
   "cell_type": "code",
   "execution_count": 224,
   "id": "053f3cae",
   "metadata": {},
   "outputs": [
    {
     "data": {
      "text/plain": [
       "'C:\\\\Users\\\\ADMIN\\\\Desktop\\\\DSL'"
      ]
     },
     "execution_count": 224,
     "metadata": {},
     "output_type": "execute_result"
    }
   ],
   "source": [
    "import os\n",
    "os.getcwd()"
   ]
  },
  {
   "cell_type": "code",
   "execution_count": 225,
   "id": "c564b3dd",
   "metadata": {},
   "outputs": [],
   "source": [
    "var_name = ['Temp', 'Wind', 'Moisture', 'Precipitation', 'Sun']\n",
    "target = 'Wh'"
   ]
  },
  {
   "cell_type": "code",
   "execution_count": 226,
   "id": "f7466a33",
   "metadata": {},
   "outputs": [],
   "source": [
    "def parsing(data: pd.DataFrame):\n",
    "    x = data.iloc[:, 3:8]\n",
    "    x.columns = var_name\n",
    "    y = data.iloc[:, 2]\n",
    "    y.name = target\n",
    "    \n",
    "    return x, y"
   ]
  },
  {
   "cell_type": "code",
   "execution_count": 227,
   "id": "e5af4293",
   "metadata": {},
   "outputs": [],
   "source": [
    "def load_data():\n",
    "    data = pd.read_csv('C:\\\\Users\\\\ADMIN\\\\Desktop\\\\DSL\\\\[0804] Supervised_learning\\\\0804_supervised_learning\\\\data\\\\train.csv', encoding='cp949')\n",
    "    data = data[: 100]\n",
    "    x, y = parsing(data)    \n",
    "    cut = int(round(len(x)*0.88))\n",
    "    tr_x = x[:cut]\n",
    "    tr_y = y[:cut]\n",
    "    te_x = x[cut:]\n",
    "    te_y = y[cut:]\n",
    "    return tr_x, tr_y, te_x, te_y"
   ]
  },
  {
   "cell_type": "code",
   "execution_count": 228,
   "id": "411e071a",
   "metadata": {},
   "outputs": [],
   "source": [
    "train_x, train_y, test_x, test_y = load_data()"
   ]
  },
  {
   "cell_type": "code",
   "execution_count": 229,
   "id": "4cf6af80",
   "metadata": {},
   "outputs": [
    {
     "data": {
      "text/html": [
       "<div>\n",
       "<style scoped>\n",
       "    .dataframe tbody tr th:only-of-type {\n",
       "        vertical-align: middle;\n",
       "    }\n",
       "\n",
       "    .dataframe tbody tr th {\n",
       "        vertical-align: top;\n",
       "    }\n",
       "\n",
       "    .dataframe thead th {\n",
       "        text-align: right;\n",
       "    }\n",
       "</style>\n",
       "<table border=\"1\" class=\"dataframe\">\n",
       "  <thead>\n",
       "    <tr style=\"text-align: right;\">\n",
       "      <th></th>\n",
       "      <th>Temp</th>\n",
       "      <th>Wind</th>\n",
       "      <th>Moisture</th>\n",
       "      <th>Precipitation</th>\n",
       "      <th>Sun</th>\n",
       "    </tr>\n",
       "  </thead>\n",
       "  <tbody>\n",
       "    <tr>\n",
       "      <th>0</th>\n",
       "      <td>17.6</td>\n",
       "      <td>2.5</td>\n",
       "      <td>92.0</td>\n",
       "      <td>0.8</td>\n",
       "      <td>0.0</td>\n",
       "    </tr>\n",
       "    <tr>\n",
       "      <th>1</th>\n",
       "      <td>17.7</td>\n",
       "      <td>2.9</td>\n",
       "      <td>91.0</td>\n",
       "      <td>0.3</td>\n",
       "      <td>0.0</td>\n",
       "    </tr>\n",
       "    <tr>\n",
       "      <th>2</th>\n",
       "      <td>17.5</td>\n",
       "      <td>3.2</td>\n",
       "      <td>91.0</td>\n",
       "      <td>0.0</td>\n",
       "      <td>0.0</td>\n",
       "    </tr>\n",
       "    <tr>\n",
       "      <th>3</th>\n",
       "      <td>17.1</td>\n",
       "      <td>3.2</td>\n",
       "      <td>91.0</td>\n",
       "      <td>0.0</td>\n",
       "      <td>0.0</td>\n",
       "    </tr>\n",
       "    <tr>\n",
       "      <th>4</th>\n",
       "      <td>17.0</td>\n",
       "      <td>3.3</td>\n",
       "      <td>92.0</td>\n",
       "      <td>0.0</td>\n",
       "      <td>0.0</td>\n",
       "    </tr>\n",
       "    <tr>\n",
       "      <th>...</th>\n",
       "      <td>...</td>\n",
       "      <td>...</td>\n",
       "      <td>...</td>\n",
       "      <td>...</td>\n",
       "      <td>...</td>\n",
       "    </tr>\n",
       "    <tr>\n",
       "      <th>83</th>\n",
       "      <td>23.9</td>\n",
       "      <td>2.8</td>\n",
       "      <td>68.0</td>\n",
       "      <td>0.0</td>\n",
       "      <td>0.6</td>\n",
       "    </tr>\n",
       "    <tr>\n",
       "      <th>84</th>\n",
       "      <td>25.0</td>\n",
       "      <td>3.1</td>\n",
       "      <td>63.0</td>\n",
       "      <td>0.0</td>\n",
       "      <td>0.8</td>\n",
       "    </tr>\n",
       "    <tr>\n",
       "      <th>85</th>\n",
       "      <td>26.0</td>\n",
       "      <td>3.1</td>\n",
       "      <td>60.0</td>\n",
       "      <td>0.0</td>\n",
       "      <td>1.0</td>\n",
       "    </tr>\n",
       "    <tr>\n",
       "      <th>86</th>\n",
       "      <td>26.4</td>\n",
       "      <td>3.8</td>\n",
       "      <td>60.0</td>\n",
       "      <td>0.0</td>\n",
       "      <td>1.0</td>\n",
       "    </tr>\n",
       "    <tr>\n",
       "      <th>87</th>\n",
       "      <td>25.4</td>\n",
       "      <td>4.2</td>\n",
       "      <td>66.0</td>\n",
       "      <td>0.0</td>\n",
       "      <td>0.5</td>\n",
       "    </tr>\n",
       "  </tbody>\n",
       "</table>\n",
       "<p>88 rows × 5 columns</p>\n",
       "</div>"
      ],
      "text/plain": [
       "    Temp  Wind  Moisture  Precipitation  Sun\n",
       "0   17.6   2.5      92.0            0.8  0.0\n",
       "1   17.7   2.9      91.0            0.3  0.0\n",
       "2   17.5   3.2      91.0            0.0  0.0\n",
       "3   17.1   3.2      91.0            0.0  0.0\n",
       "4   17.0   3.3      92.0            0.0  0.0\n",
       "..   ...   ...       ...            ...  ...\n",
       "83  23.9   2.8      68.0            0.0  0.6\n",
       "84  25.0   3.1      63.0            0.0  0.8\n",
       "85  26.0   3.1      60.0            0.0  1.0\n",
       "86  26.4   3.8      60.0            0.0  1.0\n",
       "87  25.4   4.2      66.0            0.0  0.5\n",
       "\n",
       "[88 rows x 5 columns]"
      ]
     },
     "execution_count": 229,
     "metadata": {},
     "output_type": "execute_result"
    }
   ],
   "source": [
    "train_x"
   ]
  },
  {
   "cell_type": "code",
   "execution_count": 230,
   "id": "a8f7015d",
   "metadata": {},
   "outputs": [
    {
     "data": {
      "text/plain": [
       "array([[<AxesSubplot:xlabel='Temp', ylabel='Temp'>,\n",
       "        <AxesSubplot:xlabel='Wind', ylabel='Temp'>,\n",
       "        <AxesSubplot:xlabel='Moisture', ylabel='Temp'>,\n",
       "        <AxesSubplot:xlabel='Precipitation', ylabel='Temp'>,\n",
       "        <AxesSubplot:xlabel='Sun', ylabel='Temp'>],\n",
       "       [<AxesSubplot:xlabel='Temp', ylabel='Wind'>,\n",
       "        <AxesSubplot:xlabel='Wind', ylabel='Wind'>,\n",
       "        <AxesSubplot:xlabel='Moisture', ylabel='Wind'>,\n",
       "        <AxesSubplot:xlabel='Precipitation', ylabel='Wind'>,\n",
       "        <AxesSubplot:xlabel='Sun', ylabel='Wind'>],\n",
       "       [<AxesSubplot:xlabel='Temp', ylabel='Moisture'>,\n",
       "        <AxesSubplot:xlabel='Wind', ylabel='Moisture'>,\n",
       "        <AxesSubplot:xlabel='Moisture', ylabel='Moisture'>,\n",
       "        <AxesSubplot:xlabel='Precipitation', ylabel='Moisture'>,\n",
       "        <AxesSubplot:xlabel='Sun', ylabel='Moisture'>],\n",
       "       [<AxesSubplot:xlabel='Temp', ylabel='Precipitation'>,\n",
       "        <AxesSubplot:xlabel='Wind', ylabel='Precipitation'>,\n",
       "        <AxesSubplot:xlabel='Moisture', ylabel='Precipitation'>,\n",
       "        <AxesSubplot:xlabel='Precipitation', ylabel='Precipitation'>,\n",
       "        <AxesSubplot:xlabel='Sun', ylabel='Precipitation'>],\n",
       "       [<AxesSubplot:xlabel='Temp', ylabel='Sun'>,\n",
       "        <AxesSubplot:xlabel='Wind', ylabel='Sun'>,\n",
       "        <AxesSubplot:xlabel='Moisture', ylabel='Sun'>,\n",
       "        <AxesSubplot:xlabel='Precipitation', ylabel='Sun'>,\n",
       "        <AxesSubplot:xlabel='Sun', ylabel='Sun'>]], dtype=object)"
      ]
     },
     "execution_count": 230,
     "metadata": {},
     "output_type": "execute_result"
    },
    {
     "data": {
      "image/png": "[encoded data removed]",
      "text/plain": [
       "<Figure size 864x576 with 25 Axes>"
      ]
     },
     "metadata": {
      "needs_background": "light"
     },
     "output_type": "display_data"
    }
   ],
   "source": [
    "from pandas.plotting import scatter_matrix\n",
    "\n",
    "attributes = [\"Temp\",\"Wind\",\"Moisture\",\"Precipitation\",\"Sun\"]\n",
    "scatter_matrix(train_x, figsize=(12, 8))"
   ]
  },
  {
   "cell_type": "markdown",
   "id": "60f4427a",
   "metadata": {},
   "source": [
    "train_x = train_x.loc[:,['Temp','Moisture','Wind']]\n",
    "train_x"
   ]
  },
  {
   "cell_type": "code",
   "execution_count": 232,
   "id": "7c115c2e",
   "metadata": {},
   "outputs": [],
   "source": [
    "#Scatter_matrix를 사용해 보았을때 Temp, Wind 그리고 Moisture가 서로 높은 상관관계를 가지고 있는 것으로 파악되어 사용할 변수로 선택 하였습니다."
   ]
  },
  {
   "cell_type": "code",
   "execution_count": 233,
   "id": "23822bc5",
   "metadata": {},
   "outputs": [],
   "source": [
    "from sklearn.preprocessing import MinMaxScaler"
   ]
  },
  {
   "cell_type": "code",
   "execution_count": 234,
   "id": "45eaf132",
   "metadata": {},
   "outputs": [
    {
     "data": {
      "text/plain": [
       "array([[0.20895522, 0.98148148, 0.41176471],\n",
       "       [0.21641791, 0.96296296, 0.49019608],\n",
       "       [0.20149254, 0.96296296, 0.54901961],\n",
       "       [0.17164179, 0.96296296, 0.54901961],\n",
       "       [0.1641791 , 0.98148148, 0.56862745],\n",
       "       [0.15671642, 1.        , 0.58823529],\n",
       "       [0.14179104, 0.94444444, 0.58823529],\n",
       "       [0.15671642, 0.87037037, 0.37254902],\n",
       "       [0.2238806 , 0.75925926, 0.56862745],\n",
       "       [0.3358209 , 0.62962963, 0.33333333],\n",
       "       [0.42537313, 0.42592593, 0.58823529],\n",
       "       [0.54477612, 0.24074074, 0.62745098],\n",
       "       [0.61940299, 0.18518519, 0.70588235],\n",
       "       [0.61940299, 0.05555556, 0.92156863],\n",
       "       [0.65671642, 0.        , 0.92156863],\n",
       "       [0.67164179, 0.01851852, 1.        ],\n",
       "       [0.71641791, 0.        , 0.50980392],\n",
       "       [0.65671642, 0.03703704, 0.78431373],\n",
       "       [0.58955224, 0.05555556, 0.7254902 ],\n",
       "       [0.48507463, 0.09259259, 0.74509804],\n",
       "       [0.37313433, 0.22222222, 0.41176471],\n",
       "       [0.28358209, 0.2962963 , 0.41176471],\n",
       "       [0.23134328, 0.42592593, 0.31372549],\n",
       "       [0.17910448, 0.53703704, 0.31372549],\n",
       "       [0.13432836, 0.64814815, 0.23529412],\n",
       "       [0.10447761, 0.7037037 , 0.07843137],\n",
       "       [0.08208955, 0.72222222, 0.1372549 ],\n",
       "       [0.06716418, 0.72222222, 0.        ],\n",
       "       [0.05223881, 0.74074074, 0.09803922],\n",
       "       [0.        , 0.74074074, 0.17647059],\n",
       "       [0.01492537, 0.74074074, 0.35294118],\n",
       "       [0.05223881, 0.7037037 , 0.19607843],\n",
       "       [0.08955224, 0.66666667, 0.35294118],\n",
       "       [0.15671642, 0.59259259, 0.41176471],\n",
       "       [0.18656716, 0.48148148, 0.41176471],\n",
       "       [0.20149254, 0.57407407, 0.43137255],\n",
       "       [0.1119403 , 0.75925926, 0.49019608],\n",
       "       [0.20149254, 0.53703704, 0.35294118],\n",
       "       [0.41791045, 0.22222222, 0.52941176],\n",
       "       [0.45522388, 0.16666667, 0.35294118],\n",
       "       [0.51492537, 0.12962963, 0.41176471],\n",
       "       [0.47761194, 0.2962963 , 0.56862745],\n",
       "       [0.43283582, 0.35185185, 0.39215686],\n",
       "       [0.41044776, 0.40740741, 0.49019608],\n",
       "       [0.38059701, 0.48148148, 0.52941176],\n",
       "       [0.35820896, 0.57407407, 0.45098039],\n",
       "       [0.3358209 , 0.64814815, 0.35294118],\n",
       "       [0.31343284, 0.74074074, 0.25490196],\n",
       "       [0.26865672, 0.83333333, 0.25490196],\n",
       "       [0.26119403, 0.87037037, 0.31372549],\n",
       "       [0.25373134, 0.92592593, 0.2745098 ],\n",
       "       [0.25373134, 0.92592593, 0.17647059],\n",
       "       [0.24626866, 0.88888889, 0.21568627],\n",
       "       [0.24626866, 0.90740741, 0.17647059],\n",
       "       [0.20895522, 0.92592593, 0.        ],\n",
       "       [0.26119403, 0.90740741, 0.2745098 ],\n",
       "       [0.36567164, 0.7962963 , 0.31372549],\n",
       "       [0.44776119, 0.68518519, 0.07843137],\n",
       "       [0.53731343, 0.62962963, 0.19607843],\n",
       "       [0.61940299, 0.53703704, 0.35294118],\n",
       "       [0.71641791, 0.35185185, 0.43137255],\n",
       "       [0.84328358, 0.2962963 , 0.35294118],\n",
       "       [0.89552239, 0.2037037 , 0.45098039],\n",
       "       [0.97761194, 0.24074074, 0.41176471],\n",
       "       [1.        , 0.16666667, 0.47058824],\n",
       "       [0.99253731, 0.18518519, 0.66666667],\n",
       "       [0.84328358, 0.38888889, 0.80392157],\n",
       "       [0.67164179, 0.53703704, 0.8627451 ],\n",
       "       [0.46268657, 0.75925926, 0.94117647],\n",
       "       [0.42537313, 0.77777778, 0.52941176],\n",
       "       [0.41791045, 0.77777778, 0.39215686],\n",
       "       [0.39552239, 0.77777778, 0.35294118],\n",
       "       [0.39552239, 0.77777778, 0.21568627],\n",
       "       [0.3880597 , 0.81481481, 0.35294118],\n",
       "       [0.39552239, 0.83333333, 0.11764706],\n",
       "       [0.41791045, 0.87037037, 0.43137255],\n",
       "       [0.42537313, 0.90740741, 0.31372549],\n",
       "       [0.41044776, 0.96296296, 0.31372549],\n",
       "       [0.39552239, 0.96296296, 0.50980392],\n",
       "       [0.39552239, 0.94444444, 0.35294118],\n",
       "       [0.39552239, 0.92592593, 0.60784314],\n",
       "       [0.43283582, 0.94444444, 0.52941176],\n",
       "       [0.56716418, 0.68518519, 0.45098039],\n",
       "       [0.67910448, 0.53703704, 0.47058824],\n",
       "       [0.76119403, 0.44444444, 0.52941176],\n",
       "       [0.8358209 , 0.38888889, 0.52941176],\n",
       "       [0.86567164, 0.38888889, 0.66666667],\n",
       "       [0.79104478, 0.5       , 0.74509804]])"
      ]
     },
     "execution_count": 234,
     "metadata": {},
     "output_type": "execute_result"
    }
   ],
   "source": [
    "scaler = MinMaxScaler()\n",
    "scaler = scaler.fit(train_x)\n",
    "processed_data = scaler.transform(train_x)\n",
    "processed_data"
   ]
  },
  {
   "cell_type": "code",
   "execution_count": 235,
   "id": "4a069515",
   "metadata": {},
   "outputs": [
    {
     "data": {
      "text/plain": [
       "array([[0.20895522, 0.98148148, 0.41176471],\n",
       "       [0.21641791, 0.96296296, 0.49019608],\n",
       "       [0.20149254, 0.96296296, 0.54901961],\n",
       "       [0.17164179, 0.96296296, 0.54901961],\n",
       "       [0.1641791 , 0.98148148, 0.56862745],\n",
       "       [0.15671642, 1.        , 0.58823529],\n",
       "       [0.14179104, 0.94444444, 0.58823529],\n",
       "       [0.15671642, 0.87037037, 0.37254902],\n",
       "       [0.2238806 , 0.75925926, 0.56862745],\n",
       "       [0.3358209 , 0.62962963, 0.33333333],\n",
       "       [0.42537313, 0.42592593, 0.58823529],\n",
       "       [0.54477612, 0.24074074, 0.62745098],\n",
       "       [0.61940299, 0.18518519, 0.70588235],\n",
       "       [0.61940299, 0.05555556, 0.92156863],\n",
       "       [0.65671642, 0.        , 0.92156863],\n",
       "       [0.67164179, 0.01851852, 1.        ],\n",
       "       [0.71641791, 0.        , 0.50980392],\n",
       "       [0.65671642, 0.03703704, 0.78431373],\n",
       "       [0.58955224, 0.05555556, 0.7254902 ],\n",
       "       [0.48507463, 0.09259259, 0.74509804],\n",
       "       [0.37313433, 0.22222222, 0.41176471],\n",
       "       [0.28358209, 0.2962963 , 0.41176471],\n",
       "       [0.23134328, 0.42592593, 0.31372549],\n",
       "       [0.17910448, 0.53703704, 0.31372549],\n",
       "       [0.13432836, 0.64814815, 0.23529412],\n",
       "       [0.10447761, 0.7037037 , 0.07843137],\n",
       "       [0.08208955, 0.72222222, 0.1372549 ],\n",
       "       [0.06716418, 0.72222222, 0.        ],\n",
       "       [0.05223881, 0.74074074, 0.09803922],\n",
       "       [0.        , 0.74074074, 0.17647059],\n",
       "       [0.01492537, 0.74074074, 0.35294118],\n",
       "       [0.05223881, 0.7037037 , 0.19607843],\n",
       "       [0.08955224, 0.66666667, 0.35294118],\n",
       "       [0.15671642, 0.59259259, 0.41176471],\n",
       "       [0.18656716, 0.48148148, 0.41176471],\n",
       "       [0.20149254, 0.57407407, 0.43137255],\n",
       "       [0.1119403 , 0.75925926, 0.49019608],\n",
       "       [0.20149254, 0.53703704, 0.35294118],\n",
       "       [0.41791045, 0.22222222, 0.52941176],\n",
       "       [0.45522388, 0.16666667, 0.35294118],\n",
       "       [0.51492537, 0.12962963, 0.41176471],\n",
       "       [0.47761194, 0.2962963 , 0.56862745],\n",
       "       [0.43283582, 0.35185185, 0.39215686],\n",
       "       [0.41044776, 0.40740741, 0.49019608],\n",
       "       [0.38059701, 0.48148148, 0.52941176],\n",
       "       [0.35820896, 0.57407407, 0.45098039],\n",
       "       [0.3358209 , 0.64814815, 0.35294118],\n",
       "       [0.31343284, 0.74074074, 0.25490196],\n",
       "       [0.26865672, 0.83333333, 0.25490196],\n",
       "       [0.26119403, 0.87037037, 0.31372549],\n",
       "       [0.25373134, 0.92592593, 0.2745098 ],\n",
       "       [0.25373134, 0.92592593, 0.17647059],\n",
       "       [0.24626866, 0.88888889, 0.21568627],\n",
       "       [0.24626866, 0.90740741, 0.17647059],\n",
       "       [0.20895522, 0.92592593, 0.        ],\n",
       "       [0.26119403, 0.90740741, 0.2745098 ],\n",
       "       [0.36567164, 0.7962963 , 0.31372549],\n",
       "       [0.44776119, 0.68518519, 0.07843137],\n",
       "       [0.53731343, 0.62962963, 0.19607843],\n",
       "       [0.61940299, 0.53703704, 0.35294118],\n",
       "       [0.71641791, 0.35185185, 0.43137255],\n",
       "       [0.84328358, 0.2962963 , 0.35294118],\n",
       "       [0.89552239, 0.2037037 , 0.45098039],\n",
       "       [0.97761194, 0.24074074, 0.41176471],\n",
       "       [1.        , 0.16666667, 0.47058824],\n",
       "       [0.99253731, 0.18518519, 0.66666667],\n",
       "       [0.84328358, 0.38888889, 0.80392157],\n",
       "       [0.67164179, 0.53703704, 0.8627451 ],\n",
       "       [0.46268657, 0.75925926, 0.94117647],\n",
       "       [0.42537313, 0.77777778, 0.52941176],\n",
       "       [0.41791045, 0.77777778, 0.39215686],\n",
       "       [0.39552239, 0.77777778, 0.35294118],\n",
       "       [0.39552239, 0.77777778, 0.21568627],\n",
       "       [0.3880597 , 0.81481481, 0.35294118],\n",
       "       [0.39552239, 0.83333333, 0.11764706],\n",
       "       [0.41791045, 0.87037037, 0.43137255],\n",
       "       [0.42537313, 0.90740741, 0.31372549],\n",
       "       [0.41044776, 0.96296296, 0.31372549],\n",
       "       [0.39552239, 0.96296296, 0.50980392],\n",
       "       [0.39552239, 0.94444444, 0.35294118],\n",
       "       [0.39552239, 0.92592593, 0.60784314],\n",
       "       [0.43283582, 0.94444444, 0.52941176],\n",
       "       [0.56716418, 0.68518519, 0.45098039],\n",
       "       [0.67910448, 0.53703704, 0.47058824],\n",
       "       [0.76119403, 0.44444444, 0.52941176],\n",
       "       [0.8358209 , 0.38888889, 0.52941176],\n",
       "       [0.86567164, 0.38888889, 0.66666667],\n",
       "       [0.79104478, 0.5       , 0.74509804]])"
      ]
     },
     "execution_count": 235,
     "metadata": {},
     "output_type": "execute_result"
    }
   ],
   "source": [
    "preprocessd_data = MinMaxScaler().fit_transform(train_x)\n",
    "preprocessd_data"
   ]
  },
  {
   "cell_type": "code",
   "execution_count": 236,
   "id": "4cd03b87",
   "metadata": {},
   "outputs": [
    {
     "name": "stdout",
     "output_type": "stream",
     "text": [
      "(88, 3)\n"
     ]
    }
   ],
   "source": [
    "print(train_x.shape)"
   ]
  },
  {
   "cell_type": "code",
   "execution_count": 237,
   "id": "033d16a7",
   "metadata": {},
   "outputs": [],
   "source": [
    "from sklearn.linear_model import LinearRegression"
   ]
  },
  {
   "cell_type": "code",
   "execution_count": 238,
   "id": "089e7720",
   "metadata": {},
   "outputs": [],
   "source": [
    "linear_model = LinearRegression().fit(preprocessd_data, train_y)"
   ]
  },
  {
   "cell_type": "code",
   "execution_count": 239,
   "id": "eb78d614",
   "metadata": {},
   "outputs": [
    {
     "name": "stdout",
     "output_type": "stream",
     "text": [
      "Beta : 1002.6428\n",
      "Intercept :  7423.6186\n"
     ]
    }
   ],
   "source": [
    "esti_y = linear_model.predict(preprocessd_data)\n",
    "\n",
    "linear_beta = linear_model.coef_[0]\n",
    "linear_intercept = linear_model.intercept_\n",
    "print(f\"Beta :{linear_beta: .4f}\")\n",
    "print(f\"Intercept : {linear_intercept: .4f}\")"
   ]
  },
  {
   "cell_type": "code",
   "execution_count": 240,
   "id": "e8ccc9e5",
   "metadata": {},
   "outputs": [
    {
     "data": {
      "text/plain": [
       "array([8128.72126472, 8132.26743139, 8120.99756121, 8091.06792455,\n",
       "       8093.6800048 , 8096.29208504, 8054.73874663, 8020.70406163,\n",
       "       8047.18519778, 8082.60166246, 8090.91077411, 8124.46421923,\n",
       "       8177.62638833, 8129.13465135, 8139.95817709, 8168.71243298,\n",
       "       8173.95281336, 8149.06231146, 8086.88852085, 8001.09212199,\n",
       "       7929.9578252 , 7875.62027533, 7879.12504446, 7879.92522047,\n",
       "       7883.28120812, 7870.08689648, 7860.19745716, 7836.61109315,\n",
       "       7836.66736176, 7789.21709514, 7815.26675792, 7825.09992862,\n",
       "       7854.63948946, 7890.22475998, 7866.97735647, 7927.48802432,\n",
       "       7930.02246277, 7904.83574673, 7982.24217648, 7981.98085777,\n",
       "       8027.80939919, 8080.01610868, 8050.62532933, 8060.92486883,\n",
       "       8068.90989105, 8085.85026617, 8092.69615187, 8108.4048776 ,\n",
       "       8107.82462275, 8121.76284179, 8138.40565394, 8132.24740703,\n",
       "       8109.50261657, 8115.90215783, 8076.26810759, 8137.02522308,\n",
       "       8191.06520998, 8205.41487803, 8276.00516422, 8323.85065996,\n",
       "       8337.42017636, 8433.10601454, 8447.32692547, 8544.89580757,\n",
       "       8535.58662311, 8549.2835478 , 8505.7481505 , 8408.25040808,\n",
       "       8310.02362933, 8255.60978649, 8239.50583164, 8214.59530538,\n",
       "       8205.9737597 , 8224.83857627, 8226.40403287, 8286.28333055,\n",
       "       8304.10152347, 8315.72522523, 8313.07690073, 8294.36086564,\n",
       "       8301.50946759, 8342.85775591, 8348.53476295, 8391.09982958,\n",
       "       8432.7870784 , 8481.02264997, 8519.57383231, 8502.85337836])"
      ]
     },
     "execution_count": 240,
     "metadata": {},
     "output_type": "execute_result"
    }
   ],
   "source": [
    "esti_y =  linear_model.predict(preprocessd_data)\n",
    "esti_y"
   ]
  },
  {
   "cell_type": "code",
   "execution_count": 241,
   "id": "8c9d559d",
   "metadata": {},
   "outputs": [],
   "source": [
    "def mse(pred, true):\n",
    "    return np.mean((pred-true)**2)"
   ]
  },
  {
   "cell_type": "code",
   "execution_count": 242,
   "id": "665b413f",
   "metadata": {},
   "outputs": [
    {
     "name": "stdout",
     "output_type": "stream",
     "text": [
      "Linear 3027.93929\n"
     ]
    }
   ],
   "source": [
    "train_mse = mse(esti_y, train_y)\n",
    "print(f\"Linear {train_mse:.5f}\")"
   ]
  },
  {
   "cell_type": "code",
   "execution_count": 281,
   "id": "1233a9d5",
   "metadata": {},
   "outputs": [],
   "source": [
    "test_x = test_x[['Temp','Moisture','Wind']]"
   ]
  },
  {
   "cell_type": "code",
   "execution_count": 283,
   "id": "9372acf6",
   "metadata": {},
   "outputs": [
    {
     "name": "stderr",
     "output_type": "stream",
     "text": [
      "C:\\Users\\ADMIN\\anaconda3\\lib\\site-packages\\sklearn\\base.py:443: UserWarning: X has feature names, but LinearRegression was fitted without feature names\n",
      "  warnings.warn(\n"
     ]
    }
   ],
   "source": [
    "pred_y = linear_model.predict(test_x)"
   ]
  },
  {
   "cell_type": "code",
   "execution_count": 284,
   "id": "f70e8f57",
   "metadata": {},
   "outputs": [],
   "source": [
    "def score(train_mse, test_mse):\n",
    "    print(f\"{test_mse/train_mse: .4f}\")"
   ]
  },
  {
   "cell_type": "code",
   "execution_count": 285,
   "id": "49bb9b4b",
   "metadata": {},
   "outputs": [
    {
     "name": "stdout",
     "output_type": "stream",
     "text": [
      "Linear 3644017805.53551\n"
     ]
    }
   ],
   "source": [
    "test_mse = mse(pred_y, test_y)\n",
    "print(f\"Linear {test_mse:.5f}\")"
   ]
  },
  {
   "cell_type": "code",
   "execution_count": 286,
   "id": "68933886",
   "metadata": {},
   "outputs": [
    {
     "name": "stdout",
     "output_type": "stream",
     "text": [
      " 1203464.6211\n"
     ]
    }
   ],
   "source": [
    "score(train_mse,test_mse)"
   ]
  },
  {
   "cell_type": "code",
   "execution_count": 287,
   "id": "2c7e3e3f",
   "metadata": {},
   "outputs": [],
   "source": [
    "from sklearn.linear_model import Ridge"
   ]
  },
  {
   "cell_type": "code",
   "execution_count": 288,
   "id": "894d403b",
   "metadata": {},
   "outputs": [],
   "source": [
    "ridge_model = Ridge(random_state=123).fit(processed_data, train_y)"
   ]
  },
  {
   "cell_type": "code",
   "execution_count": 289,
   "id": "59180195",
   "metadata": {},
   "outputs": [
    {
     "name": "stderr",
     "output_type": "stream",
     "text": [
      "C:\\Users\\ADMIN\\anaconda3\\lib\\site-packages\\sklearn\\base.py:443: UserWarning: X has feature names, but Ridge was fitted without feature names\n",
      "  warnings.warn(\n"
     ]
    },
    {
     "data": {
      "text/plain": [
       "array([48083.69133038, 47891.15074864, 47774.14588832, 47486.87196349,\n",
       "       47723.79938203, 47960.72680057, 46917.48424101, 45763.9960329 ,\n",
       "       44699.92484306, 43571.59392612, 41250.26762006, 39418.43273023,\n",
       "       39272.52141459, 37271.09272887, 36730.57953775, 37209.59450199,\n",
       "       37118.7026728 , 37268.17503099, 36895.04513043, 36498.20082567,\n",
       "       37369.08808912, 37706.74044419, 39258.70396563, 40555.1857915 ,\n",
       "       41887.97662912, 42429.28936256, 42540.33455341, 42334.55601947,\n",
       "       42535.17442625, 42067.95452725, 42291.48779592, 41979.82419829,\n",
       "       41810.19847844, 41283.72278184, 39771.78551236, 41423.64250406,\n",
       "       43587.13815552, 40788.39596984, 37853.26318053, 37232.85368315,\n",
       "       37234.29657012, 39645.03989445, 40033.83829811, 40762.37528845,\n",
       "       41692.33022789, 42940.70797675, 43880.33982586, 45119.84020736,\n",
       "       46188.27198205, 46742.8226677 , 47552.85504892, 47508.46821212,\n",
       "       46854.66740086, 47136.78119852, 46997.66101862, 47324.80499775,\n",
       "       46548.80727505, 45433.07096566, 45448.55134715, 44810.23091739,\n",
       "       42780.69531867, 43066.49443257, 42114.2679759 , 43486.25359922,\n",
       "       42528.86701538, 42845.69074018, 44770.01654382, 45543.77183724,\n",
       "       47166.78622154, 46921.13763329, 46787.17758055, 46553.96740221,\n",
       "       46491.82583068, 47081.88598577, 47347.04459102, 48304.2749772 ,\n",
       "       48922.56631901, 49678.53495375, 49623.67166496, 49252.78419368,\n",
       "       49068.32143699, 49691.77290596, 46750.83664484, 45438.04297121,\n",
       "       44755.33570464, 44573.91491955, 44923.33041591, 46039.8662676 ])"
      ]
     },
     "execution_count": 289,
     "metadata": {},
     "output_type": "execute_result"
    }
   ],
   "source": [
    "esti_y = ridge_model.predict(train_x)\n",
    "esti_y"
   ]
  },
  {
   "cell_type": "code",
   "execution_count": 290,
   "id": "0b6d5651",
   "metadata": {},
   "outputs": [
    {
     "name": "stdout",
     "output_type": "stream",
     "text": [
      "Beta : 718.1848\n",
      "Intercept :  7633.7995\n"
     ]
    }
   ],
   "source": [
    "ridge_beta = ridge_model.coef_[0]\n",
    "ridge_intercept = ridge_model.intercept_\n",
    "print(f\"Beta :{ridge_beta: .4f}\")\n",
    "print(f\"Intercept : {ridge_intercept: .4f}\")"
   ]
  },
  {
   "cell_type": "code",
   "execution_count": 291,
   "id": "d617996f",
   "metadata": {},
   "outputs": [],
   "source": [
    "def mse(pred, true):\n",
    "    return np.mean((pred-true)**2)"
   ]
  },
  {
   "cell_type": "code",
   "execution_count": 292,
   "id": "5ed5aab6",
   "metadata": {},
   "outputs": [
    {
     "name": "stdout",
     "output_type": "stream",
     "text": [
      "Ridge 33083213148013.55469\n"
     ]
    }
   ],
   "source": [
    "ridge_mse = mse(pred_y, y)\n",
    "print(f\"Ridge {ridge_mse:.5f}\")"
   ]
  },
  {
   "cell_type": "code",
   "execution_count": 293,
   "id": "11bc17b5",
   "metadata": {},
   "outputs": [
    {
     "name": "stdout",
     "output_type": "stream",
     "text": [
      " 1.0000\n"
     ]
    }
   ],
   "source": [
    "score(ridge_mse,ridge_mse)"
   ]
  },
  {
   "cell_type": "code",
   "execution_count": null,
   "id": "ede387fe",
   "metadata": {},
   "outputs": [],
   "source": [
    "#linear 를 해보고 그와 비교해보기 위해 Ridge도 시도 해보았으나 제대로 된건지 모르겠습니다..."
   ]
  }
 ],
 "metadata": {
  "kernelspec": {
   "display_name": "Python 3 (ipykernel)",
   "language": "python",
   "name": "python3"
  },
  "language_info": {
   "codemirror_mode": {
    "name": "ipython",
    "version": 3
   },
   "file_extension": ".py",
   "mimetype": "text/x-python",
   "name": "python",
   "nbconvert_exporter": "python",
   "pygments_lexer": "ipython3",
   "version": "3.9.12"
  }
 },
 "nbformat": 4,
 "nbformat_minor": 5
}
