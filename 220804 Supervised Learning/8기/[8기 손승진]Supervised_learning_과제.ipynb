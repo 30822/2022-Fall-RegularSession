{
 "cells": [
  {
   "cell_type": "code",
   "execution_count": 1,
   "metadata": {
    "id": "NuogZdJAewSq"
   },
   "outputs": [],
   "source": [
    "import numpy as np\n",
    "import pandas as pd\n",
    "import matplotlib.pyplot as plt"
   ]
  },
  {
   "cell_type": "markdown",
   "metadata": {
    "id": "u5RQzjdjj6I2"
   },
   "source": [
    "코랩 사용하시는 분들은 아래의 코드를 실행해주세요!"
   ]
  },
  {
   "cell_type": "code",
   "execution_count": 2,
   "metadata": {
    "id": "7J7wP7X6nQtv"
   },
   "outputs": [],
   "source": [
    "# from google.colab import drive\n",
    "# drive.mount('/content/drive')"
   ]
  },
  {
   "cell_type": "code",
   "execution_count": 48,
   "metadata": {
    "id": "OA4UW3j4kePR"
   },
   "outputs": [
    {
     "data": {
      "text/plain": [
       "'C:\\\\Users\\\\Shon\\\\Desktop\\\\연세대학교\\\\DSL\\\\세션\\\\0804_supervised_learning'"
      ]
     },
     "execution_count": 48,
     "metadata": {},
     "output_type": "execute_result"
    }
   ],
   "source": [
    "import os\n",
    "os.getcwd()"
   ]
  },
  {
   "cell_type": "markdown",
   "metadata": {
    "id": "NtVt7I7qWH8s"
   },
   "source": [
    "코랩 사용시 본인 구글 드라이브 경로는  \n",
    "/content/drive/MyDrive/...  \n",
    "입니다."
   ]
  },
  {
   "cell_type": "code",
   "execution_count": 49,
   "metadata": {
    "id": "SiVE75urjpg3"
   },
   "outputs": [],
   "source": [
    "path = 'C:/Users/Shon/Desktop/연세대학교/DSL/세션/0804_supervised_learning'    # 과제 데이터셋이 저장된 경로를 더 작성해주세요\n",
    "os.chdir(path)"
   ]
  },
  {
   "cell_type": "code",
   "execution_count": 50,
   "metadata": {
    "id": "0qXX7Ab0kHuX"
   },
   "outputs": [
    {
     "data": {
      "text/plain": [
       "'C:\\\\Users\\\\Shon\\\\Desktop\\\\연세대학교\\\\DSL\\\\세션\\\\0804_supervised_learning'"
      ]
     },
     "execution_count": 50,
     "metadata": {},
     "output_type": "execute_result"
    }
   ],
   "source": [
    "os.getcwd()"
   ]
  },
  {
   "cell_type": "markdown",
   "metadata": {
    "id": "JfNxu2eTDyl6"
   },
   "source": [
    "사용할 데이터 셋 :  전력 사용량 예측 모델\n",
    "\n",
    "아래의 과정에서 sklearn의 Pipeline의 사용은 필수는 아닙니다. 선호와 필요에 따라 사용하실 분들은 사용하셔도 좋습니다."
   ]
  },
  {
   "cell_type": "markdown",
   "metadata": {},
   "source": [
    "# 데이터"
   ]
  },
  {
   "cell_type": "markdown",
   "metadata": {
    "id": "K2sLE1gZOTc2"
   },
   "source": [
    "건물 정보와 기후 정보를 활용한 전력사용량 예측 데이터 중에서 \n",
    "\n",
    "환경 변수(기온, 풍속, 습도, 강수량, 일조)에 대해 전력 사용량을 선형회귀 모델을 사용해서 예측해보고자 합니다."
   ]
  },
  {
   "cell_type": "code",
   "execution_count": 51,
   "metadata": {},
   "outputs": [],
   "source": [
    "var_name = ['Temp', 'Wind', 'Moisture', 'Precipitation', 'Sun']\n",
    "target = 'Wh'"
   ]
  },
  {
   "cell_type": "code",
   "execution_count": 52,
   "metadata": {},
   "outputs": [],
   "source": [
    "def parsing(data: pd.DataFrame):\n",
    "    x = data.iloc[:, 3:8]\n",
    "    x.columns = var_name\n",
    "    y = data.iloc[:, 2]\n",
    "    y.name = target\n",
    "    \n",
    "    return x, y"
   ]
  },
  {
   "cell_type": "code",
   "execution_count": 53,
   "metadata": {},
   "outputs": [],
   "source": [
    "def load_data():\n",
    "    data = pd.read_csv('data/train.csv', encoding='cp949')\n",
    "    data = data[: 100]\n",
    "    x, y = parsing(data)    \n",
    "    cut = int(round(len(x)*0.88))\n",
    "    tr_x = x[:cut]\n",
    "    tr_y = y[:cut]\n",
    "    te_x = x[cut:]\n",
    "    te_y = y[cut:]\n",
    "    return tr_x, tr_y, te_x, te_y"
   ]
  },
  {
   "cell_type": "code",
   "execution_count": 54,
   "metadata": {},
   "outputs": [],
   "source": [
    "train_x, train_y, test_x, test_y = load_data()"
   ]
  },
  {
   "cell_type": "markdown",
   "metadata": {
    "id": "FtOBVORnPUCt"
   },
   "source": [
    "## 데이터 확인 \n",
    "\n",
    "주의! 최종 예측하는 단계 이전에는 현재 가지고 있는 데이터, 즉 train data만을 이용하여 작업을 진행해야 합니다.\n",
    "\n",
    "현재 가지고 있는 데이터 train_x를 보고 전력 사용량을 예측하는데에 사용할 변수를 선택해주세요.\n",
    "\n",
    "기초세션에서 다뤘던 내용을 참고하셔서 최적의 변수 조합을 찾아보도록 합시다.\n",
    "\n",
    "이 때 선택해야하는 변수는 하나일 수도 있고, 여러개의 변수를 사용하여도 좋습니다."
   ]
  },
  {
   "cell_type": "code",
   "execution_count": 55,
   "metadata": {
    "id": "wuD0nXzEDySK",
    "scrolled": false
   },
   "outputs": [
    {
     "data": {
      "text/html": [
       "<div>\n",
       "<style scoped>\n",
       "    .dataframe tbody tr th:only-of-type {\n",
       "        vertical-align: middle;\n",
       "    }\n",
       "\n",
       "    .dataframe tbody tr th {\n",
       "        vertical-align: top;\n",
       "    }\n",
       "\n",
       "    .dataframe thead th {\n",
       "        text-align: right;\n",
       "    }\n",
       "</style>\n",
       "<table border=\"1\" class=\"dataframe\">\n",
       "  <thead>\n",
       "    <tr style=\"text-align: right;\">\n",
       "      <th></th>\n",
       "      <th>Temp</th>\n",
       "      <th>Moisture</th>\n",
       "      <th>Sun</th>\n",
       "    </tr>\n",
       "  </thead>\n",
       "  <tbody>\n",
       "    <tr>\n",
       "      <th>0</th>\n",
       "      <td>17.6</td>\n",
       "      <td>92.0</td>\n",
       "      <td>0.0</td>\n",
       "    </tr>\n",
       "    <tr>\n",
       "      <th>1</th>\n",
       "      <td>17.7</td>\n",
       "      <td>91.0</td>\n",
       "      <td>0.0</td>\n",
       "    </tr>\n",
       "    <tr>\n",
       "      <th>2</th>\n",
       "      <td>17.5</td>\n",
       "      <td>91.0</td>\n",
       "      <td>0.0</td>\n",
       "    </tr>\n",
       "    <tr>\n",
       "      <th>3</th>\n",
       "      <td>17.1</td>\n",
       "      <td>91.0</td>\n",
       "      <td>0.0</td>\n",
       "    </tr>\n",
       "    <tr>\n",
       "      <th>4</th>\n",
       "      <td>17.0</td>\n",
       "      <td>92.0</td>\n",
       "      <td>0.0</td>\n",
       "    </tr>\n",
       "    <tr>\n",
       "      <th>...</th>\n",
       "      <td>...</td>\n",
       "      <td>...</td>\n",
       "      <td>...</td>\n",
       "    </tr>\n",
       "    <tr>\n",
       "      <th>83</th>\n",
       "      <td>23.9</td>\n",
       "      <td>68.0</td>\n",
       "      <td>0.6</td>\n",
       "    </tr>\n",
       "    <tr>\n",
       "      <th>84</th>\n",
       "      <td>25.0</td>\n",
       "      <td>63.0</td>\n",
       "      <td>0.8</td>\n",
       "    </tr>\n",
       "    <tr>\n",
       "      <th>85</th>\n",
       "      <td>26.0</td>\n",
       "      <td>60.0</td>\n",
       "      <td>1.0</td>\n",
       "    </tr>\n",
       "    <tr>\n",
       "      <th>86</th>\n",
       "      <td>26.4</td>\n",
       "      <td>60.0</td>\n",
       "      <td>1.0</td>\n",
       "    </tr>\n",
       "    <tr>\n",
       "      <th>87</th>\n",
       "      <td>25.4</td>\n",
       "      <td>66.0</td>\n",
       "      <td>0.5</td>\n",
       "    </tr>\n",
       "  </tbody>\n",
       "</table>\n",
       "<p>88 rows × 3 columns</p>\n",
       "</div>"
      ],
      "text/plain": [
       "    Temp  Moisture  Sun\n",
       "0   17.6      92.0  0.0\n",
       "1   17.7      91.0  0.0\n",
       "2   17.5      91.0  0.0\n",
       "3   17.1      91.0  0.0\n",
       "4   17.0      92.0  0.0\n",
       "..   ...       ...  ...\n",
       "83  23.9      68.0  0.6\n",
       "84  25.0      63.0  0.8\n",
       "85  26.0      60.0  1.0\n",
       "86  26.4      60.0  1.0\n",
       "87  25.4      66.0  0.5\n",
       "\n",
       "[88 rows x 3 columns]"
      ]
     },
     "execution_count": 55,
     "metadata": {},
     "output_type": "execute_result"
    }
   ],
   "source": [
    "# 데이터 셋을 둘러보는 코드 작성하시고, 왜 좋은지 한번 둘러보세요!\n",
    "train_x = train_x.loc[:,['Temp','Moisture','Sun']]\n",
    "train_x"
   ]
  },
  {
   "cell_type": "markdown",
   "metadata": {
    "id": "kD24Xx9XLotD"
   },
   "source": [
    "정답은 없습니다! \n",
    "\n",
    "다만 최종 선택한 변수(들)이 왜 선택받았는지 간단히 알려주세요.<br>\n",
    "답변 : temp, Sun, Moisture\n",
    "temp와 sun 변수는 높은 상관관계(0.78)를 가지고 있어 선택, Moisture 변수는 앞의 두 변수와는 음의 상관관계를 가지고는 있지만 습도가 높으면 전력을 많이 사용할 것 같아 주관적으로 일단 선택"
   ]
  },
  {
   "cell_type": "markdown",
   "metadata": {
    "id": "9FeCbQAFP6Kw"
   },
   "source": [
    "## 전처리\n",
    "\n",
    "위에서 선택한 변수들(feature)를 가지고 한번 전력 사용량을 예측하는 모델을 만들어 보기에 앞서,\n",
    "\n",
    "**train 데이터의 feature의 전처리**를 진행해보려고 합니다. StandardScaler를 사용하셔도 좋고, MinMaxScaler를 사용하셔도 좋습니다! \n",
    "\n",
    "또한 PolynomialFeatures를 이용하거나 직접 feature를 계산하여 고차원의 feature를 만드셔도 좋습니다. 이 또한 정답은 없습니다!\n",
    "\n",
    "이 때 최종 train_x의 shape은 (n_samples, n_features)가 되도록 해주세요.<br>\n",
    "ex. 4개의 변수를 가진 1000개의 샘플의 경우 train_x.shape은 (1000,4)가 되면 됩니다.\n",
    "\n",
    "특히 하나의 변수만을 사용하시는 분들은 1D가 아닌 2D가 되도록 신경써주세요<br>\n",
    "ex. train_x.shape이 (1000,)이 아닌 (1000,1)입니다!"
   ]
  },
  {
   "cell_type": "code",
   "execution_count": 11,
   "metadata": {},
   "outputs": [],
   "source": [
    "# 사용할 패키지를 import! 표준화 해보니 숫자가 너무 작아서 MinMaxScaler 사용 \n",
    "from sklearn.preprocessing import MinMaxScaler"
   ]
  },
  {
   "cell_type": "code",
   "execution_count": 12,
   "metadata": {
    "scrolled": true
   },
   "outputs": [
    {
     "data": {
      "text/plain": [
       "array([[0.20895522, 0.98148148, 0.        ],\n",
       "       [0.21641791, 0.96296296, 0.        ],\n",
       "       [0.20149254, 0.96296296, 0.        ],\n",
       "       [0.17164179, 0.96296296, 0.        ],\n",
       "       [0.1641791 , 0.98148148, 0.        ],\n",
       "       [0.15671642, 1.        , 0.        ],\n",
       "       [0.14179104, 0.94444444, 0.        ],\n",
       "       [0.15671642, 0.87037037, 0.1       ],\n",
       "       [0.2238806 , 0.75925926, 0.3       ],\n",
       "       [0.3358209 , 0.62962963, 0.7       ],\n",
       "       [0.42537313, 0.42592593, 1.        ],\n",
       "       [0.54477612, 0.24074074, 1.        ],\n",
       "       [0.61940299, 0.18518519, 1.        ],\n",
       "       [0.61940299, 0.05555556, 1.        ],\n",
       "       [0.65671642, 0.        , 1.        ],\n",
       "       [0.67164179, 0.01851852, 1.        ],\n",
       "       [0.71641791, 0.        , 1.        ],\n",
       "       [0.65671642, 0.03703704, 1.        ],\n",
       "       [0.58955224, 0.05555556, 1.        ],\n",
       "       [0.48507463, 0.09259259, 1.        ],\n",
       "       [0.37313433, 0.22222222, 0.4       ],\n",
       "       [0.28358209, 0.2962963 , 0.        ],\n",
       "       [0.23134328, 0.42592593, 0.        ],\n",
       "       [0.17910448, 0.53703704, 0.        ],\n",
       "       [0.13432836, 0.64814815, 0.        ],\n",
       "       [0.10447761, 0.7037037 , 0.        ],\n",
       "       [0.08208955, 0.72222222, 0.        ],\n",
       "       [0.06716418, 0.72222222, 0.        ],\n",
       "       [0.05223881, 0.74074074, 0.        ],\n",
       "       [0.        , 0.74074074, 0.        ],\n",
       "       [0.01492537, 0.74074074, 0.        ],\n",
       "       [0.05223881, 0.7037037 , 0.        ],\n",
       "       [0.08955224, 0.66666667, 0.        ],\n",
       "       [0.15671642, 0.59259259, 0.        ],\n",
       "       [0.18656716, 0.48148148, 0.        ],\n",
       "       [0.20149254, 0.57407407, 0.        ],\n",
       "       [0.1119403 , 0.75925926, 0.        ],\n",
       "       [0.20149254, 0.53703704, 0.        ],\n",
       "       [0.41791045, 0.22222222, 0.1       ],\n",
       "       [0.45522388, 0.16666667, 0.        ],\n",
       "       [0.51492537, 0.12962963, 0.1       ],\n",
       "       [0.47761194, 0.2962963 , 0.        ],\n",
       "       [0.43283582, 0.35185185, 0.        ],\n",
       "       [0.41044776, 0.40740741, 0.        ],\n",
       "       [0.38059701, 0.48148148, 0.        ],\n",
       "       [0.35820896, 0.57407407, 0.        ],\n",
       "       [0.3358209 , 0.64814815, 0.        ],\n",
       "       [0.31343284, 0.74074074, 0.        ],\n",
       "       [0.26865672, 0.83333333, 0.        ],\n",
       "       [0.26119403, 0.87037037, 0.        ],\n",
       "       [0.25373134, 0.92592593, 0.        ],\n",
       "       [0.25373134, 0.92592593, 0.        ],\n",
       "       [0.24626866, 0.88888889, 0.        ],\n",
       "       [0.24626866, 0.90740741, 0.        ],\n",
       "       [0.20895522, 0.92592593, 0.        ],\n",
       "       [0.26119403, 0.90740741, 0.3       ],\n",
       "       [0.36567164, 0.7962963 , 0.9       ],\n",
       "       [0.44776119, 0.68518519, 0.4       ],\n",
       "       [0.53731343, 0.62962963, 0.2       ],\n",
       "       [0.61940299, 0.53703704, 0.3       ],\n",
       "       [0.71641791, 0.35185185, 0.6       ],\n",
       "       [0.84328358, 0.2962963 , 1.        ],\n",
       "       [0.89552239, 0.2037037 , 1.        ],\n",
       "       [0.97761194, 0.24074074, 1.        ],\n",
       "       [1.        , 0.16666667, 1.        ],\n",
       "       [0.99253731, 0.18518519, 1.        ],\n",
       "       [0.84328358, 0.38888889, 1.        ],\n",
       "       [0.67164179, 0.53703704, 0.8       ],\n",
       "       [0.46268657, 0.75925926, 0.        ],\n",
       "       [0.42537313, 0.77777778, 0.        ],\n",
       "       [0.41791045, 0.77777778, 0.        ],\n",
       "       [0.39552239, 0.77777778, 0.        ],\n",
       "       [0.39552239, 0.77777778, 0.        ],\n",
       "       [0.3880597 , 0.81481481, 0.        ],\n",
       "       [0.39552239, 0.83333333, 0.        ],\n",
       "       [0.41791045, 0.87037037, 0.        ],\n",
       "       [0.42537313, 0.90740741, 0.        ],\n",
       "       [0.41044776, 0.96296296, 0.        ],\n",
       "       [0.39552239, 0.96296296, 0.        ],\n",
       "       [0.39552239, 0.94444444, 0.        ],\n",
       "       [0.39552239, 0.92592593, 0.        ],\n",
       "       [0.43283582, 0.94444444, 0.        ],\n",
       "       [0.56716418, 0.68518519, 0.5       ],\n",
       "       [0.67910448, 0.53703704, 0.6       ],\n",
       "       [0.76119403, 0.44444444, 0.8       ],\n",
       "       [0.8358209 , 0.38888889, 1.        ],\n",
       "       [0.86567164, 0.38888889, 1.        ],\n",
       "       [0.79104478, 0.5       , 0.5       ]])"
      ]
     },
     "execution_count": 12,
     "metadata": {},
     "output_type": "execute_result"
    }
   ],
   "source": [
    "# train_x = \n",
    "preprocessd_data = MinMaxScaler().fit_transform(train_x)\n",
    "preprocessd_data"
   ]
  },
  {
   "cell_type": "markdown",
   "metadata": {},
   "source": [
    "# 모델링"
   ]
  },
  {
   "cell_type": "markdown",
   "metadata": {},
   "source": [
    "## 학습 \n",
    "\n",
    "이제 모델링을 해봅시다.\n",
    "\n",
    "앞서 다룬 여러 regression 모델들(Linear regression, Ridge Regression, Lasso Regression, ..)을 이용해서 fit을 진행해보도록 합시다."
   ]
  },
  {
   "cell_type": "code",
   "execution_count": 13,
   "metadata": {
    "id": "nCd88UXEQFdZ"
   },
   "outputs": [],
   "source": [
    "# 사용할 패키지를 import!\n",
    "from sklearn.linear_model import LinearRegression\n",
    "#Linear Regression 먼저"
   ]
  },
  {
   "cell_type": "code",
   "execution_count": 14,
   "metadata": {
    "id": "y7hwaxnZUIwY"
   },
   "outputs": [
    {
     "name": "stdout",
     "output_type": "stream",
     "text": [
      "Beta :[ 79.75823723   8.21085096 -48.94193627]\n",
      "Intercept :  5958.7064\n"
     ]
    }
   ],
   "source": [
    "# 선형회귀 모델 생성 후 fitting 시킵니다.\n",
    "# model = \n",
    "\n",
    "linear_model = LinearRegression().fit(train_x, train_y) #linear model 불러오기\n",
    "linear_pred_y = linear_model.predict(train_x)\n",
    "\n",
    "linear_beta = linear_model.coef_ #계수\n",
    "linear_intercept = linear_model.intercept_ #y절편\n",
    "print(f\"Beta :{linear_beta}\")\n",
    "print(f\"Intercept : {linear_intercept: .4f}\")"
   ]
  },
  {
   "cell_type": "code",
   "execution_count": 15,
   "metadata": {},
   "outputs": [
    {
     "data": {
      "text/plain": [
       "5958.706401035408"
      ]
     },
     "execution_count": 15,
     "metadata": {},
     "output_type": "execute_result"
    }
   ],
   "source": [
    "linear_model.intercept_"
   ]
  },
  {
   "cell_type": "markdown",
   "metadata": {},
   "source": [
    "## 추정\n",
    "\n",
    "이제 train_x를 이용하여 전력사용량을 추정해보도록 합시다."
   ]
  },
  {
   "cell_type": "code",
   "execution_count": 16,
   "metadata": {
    "scrolled": true
   },
   "outputs": [
    {
     "data": {
      "text/plain": [
       "array([8117.84966424, 8117.61463701, 8101.66298956, 8069.75969467,\n",
       "       8069.9947219 , 8070.22974914, 8029.64554882, 8007.85959882,\n",
       "       8020.58851934, 8063.17314398, 8053.88108726, 8099.38575727,\n",
       "       8154.51144164, 8097.03548494, 8112.28205069, 8136.44454909,\n",
       "       8176.08864048, 8128.7037526 , 8065.13219005, 7969.89235984,\n",
       "       7937.09612245, 7893.8064161 , 7895.45160673, 7888.88594641,\n",
       "       7890.2961098 , 7883.02536778, 7867.30874757, 7851.35710012,\n",
       "       7843.61630363, 7787.78553757, 7803.73718502, 7827.19460172,\n",
       "       7850.65201842, 7889.59102811, 7872.22921726, 7929.23511949,\n",
       "       7915.63374437, 7912.81341758, 7999.63364567, 8019.77440504,\n",
       "       8062.26509929, 8101.1778329 , 8077.95544343, 8078.66052513,\n",
       "       8079.60063406, 8096.72741767, 8105.64335033, 8122.77013394,\n",
       "       8115.96944638, 8124.41532457, 8141.07205371, 8141.07205371,\n",
       "       8116.67452808, 8124.88537903, 8093.21711137, 8126.1544456 ,\n",
       "       8159.18571023, 8222.12563358, 8302.99135264, 8344.77696519,\n",
       "       8351.67158315, 8443.05125906, 8457.82777035, 8561.98353321,\n",
       "       8553.06760056, 8553.30262779, 8484.10551384, 8376.13676311,\n",
       "       8290.49745935, 8258.8291917 , 8250.85336797, 8226.9258968 ,\n",
       "       8226.9258968 , 8235.37177499, 8251.55844967, 8291.90762275,\n",
       "       8316.30514839, 8324.98605381, 8309.03440636, 8300.82355541,\n",
       "       8292.61270445, 8340.70267402, 8344.84461952, 8393.90097409,\n",
       "       8430.79239301, 8476.12969012, 8508.03298501, 8502.01082165])"
      ]
     },
     "execution_count": 16,
     "metadata": {},
     "output_type": "execute_result"
    }
   ],
   "source": [
    "esti_y = linear_pred_y\n",
    "esti_y"
   ]
  },
  {
   "cell_type": "markdown",
   "metadata": {},
   "source": [
    "# Loss 및 시각화\n",
    "\n",
    "앞서 fitting하여 얻은 모델을 이용하여 추정한 값으로 MSE를 측정해봅시다. 변수를 하나만 사용하신 분들은 xy 평면에 한번 같이 시각화도 해보셔도 좋습니다."
   ]
  },
  {
   "cell_type": "code",
   "execution_count": 17,
   "metadata": {},
   "outputs": [],
   "source": [
    "def mse(pred, true):\n",
    "    return np.mean((pred-true)**2)"
   ]
  },
  {
   "cell_type": "code",
   "execution_count": 18,
   "metadata": {},
   "outputs": [
    {
     "name": "stdout",
     "output_type": "stream",
     "text": [
      "Linear 3021.80786\n"
     ]
    }
   ],
   "source": [
    "train_mse = mse(esti_y, train_y)\n",
    "print(f\"Linear {train_mse:.5f}\")"
   ]
  },
  {
   "cell_type": "code",
   "execution_count": 19,
   "metadata": {
    "id": "ThKWK_QdUIyo"
   },
   "outputs": [],
   "source": [
    "def visualize(model, x, y):\n",
    "    if x.shape[1] != 1:\n",
    "        return None\n",
    "    beta = model.coef_[0]\n",
    "    intercept = model.intercept_\n",
    "    \n",
    "    x_axis = np.linspace(np.min(x), np.max(x), 100)\n",
    "    fit = intercept * x_axis**0 + beta*x_axis \n",
    "\n",
    "    plt.figure(figsize=(8,6))\n",
    "    plt.plot(x_axis, fit, label='Predict', c='r', linewidth=3)\n",
    "    plt.scatter(x, y, c='blue')\n",
    "    plt.legend()\n",
    "    plt.show()"
   ]
  },
  {
   "cell_type": "code",
   "execution_count": 20,
   "metadata": {},
   "outputs": [],
   "source": [
    "# visualization 하실 분은 진행해주세요! 변수 2개였기에 시각화 x \n",
    "# visualize(linear_model, train_x, train_y)"
   ]
  },
  {
   "cell_type": "markdown",
   "metadata": {},
   "source": [
    "# 예측"
   ]
  },
  {
   "cell_type": "markdown",
   "metadata": {
    "id": "T-6Xv53GXm4K"
   },
   "source": [
    "테스트셋에 대해서 한번 **예측**해보도록 합시다.\n",
    "\n",
    "이미 fitting된 모델 (그리고 scaler를 사용하신다면 scaler)에 대해 **fit을 하지 말고** 단순히 predict만 진행해보도록 합시다. \n",
    "\n",
    "scaler는 transform만 하시고 model은 predict을 진행해주세요"
   ]
  },
  {
   "cell_type": "code",
   "execution_count": 21,
   "metadata": {},
   "outputs": [],
   "source": [
    "test_x=test_x.loc[:,['Temp','Moisture','Sun']]"
   ]
  },
  {
   "cell_type": "code",
   "execution_count": 22,
   "metadata": {
    "id": "YTwIN94ZYlhU"
   },
   "outputs": [],
   "source": [
    "# transform을 하시는 분들은 실행해주세요\n",
    "#scaler = StandardScaler()\n",
    "#scaler = scaler.fit(train_data)\n",
    "#processed_data = scaler.transform(train_data)\n",
    "#processed_data\n",
    "# test_x = "
   ]
  },
  {
   "cell_type": "code",
   "execution_count": 23,
   "metadata": {},
   "outputs": [],
   "source": [
    "# y1_hat에 predict값 할당\n",
    "pred_y = linear_model.predict(test_x)"
   ]
  },
  {
   "cell_type": "markdown",
   "metadata": {},
   "source": [
    "# 성능 평가\n",
    "\n",
    "한번 학습한 모델에 대해 test_y를 이용하여 mse loss를 측정해도도록 합시다."
   ]
  },
  {
   "cell_type": "code",
   "execution_count": 24,
   "metadata": {},
   "outputs": [],
   "source": [
    "def score(train_mse, test_mse):\n",
    "    print(f\"{test_mse/train_mse: .4f}\")"
   ]
  },
  {
   "cell_type": "code",
   "execution_count": 25,
   "metadata": {
    "scrolled": true
   },
   "outputs": [
    {
     "name": "stdout",
     "output_type": "stream",
     "text": [
      "Linear 90162.43334\n"
     ]
    }
   ],
   "source": [
    "test_mse = mse(pred_y, test_y)\n",
    "print(f\"Linear {test_mse:.5f}\")"
   ]
  },
  {
   "cell_type": "code",
   "execution_count": 26,
   "metadata": {},
   "outputs": [
    {
     "name": "stdout",
     "output_type": "stream",
     "text": [
      " 29.8372\n"
     ]
    }
   ],
   "source": [
    "score(train_mse,test_mse)"
   ]
  },
  {
   "cell_type": "code",
   "execution_count": 27,
   "metadata": {
    "id": "hHQz6NrkXmtW"
   },
   "outputs": [],
   "source": [
    "# visualization 하실 분은 진행해주세요!\n",
    "# visualize(model, test_x, test_y)"
   ]
  },
  {
   "cell_type": "markdown",
   "metadata": {},
   "source": [
    "# 그 이후\n",
    "\n",
    "이제 여러분들은 한번 모델을 만들어보고 fitting한 다음 예측까지 해보셨습니다.\n",
    "\n",
    "이제 개선하기 위해 1.데이터부터 5.성능평가 중 수정, 변경하실 부분을 업데이트 해서  최적의 모델을 찾아보세요!\n",
    "\n",
    "현재 사용하고 있는 scaler, model부터 전처리과정 기타 여러 조건을 조작해보시고 어떤 효과가 있는지 한번 보시고 알려주세요:D"
   ]
  },
  {
   "cell_type": "markdown",
   "metadata": {},
   "source": [
    "고생하셨습니다!"
   ]
  },
  {
   "cell_type": "code",
   "execution_count": 28,
   "metadata": {},
   "outputs": [],
   "source": [
    "#이번엔 두 가지 변수 Temp, Sun"
   ]
  },
  {
   "cell_type": "code",
   "execution_count": 29,
   "metadata": {},
   "outputs": [
    {
     "data": {
      "text/html": [
       "<div>\n",
       "<style scoped>\n",
       "    .dataframe tbody tr th:only-of-type {\n",
       "        vertical-align: middle;\n",
       "    }\n",
       "\n",
       "    .dataframe tbody tr th {\n",
       "        vertical-align: top;\n",
       "    }\n",
       "\n",
       "    .dataframe thead th {\n",
       "        text-align: right;\n",
       "    }\n",
       "</style>\n",
       "<table border=\"1\" class=\"dataframe\">\n",
       "  <thead>\n",
       "    <tr style=\"text-align: right;\">\n",
       "      <th></th>\n",
       "      <th>Temp</th>\n",
       "      <th>Sun</th>\n",
       "    </tr>\n",
       "  </thead>\n",
       "  <tbody>\n",
       "    <tr>\n",
       "      <th>0</th>\n",
       "      <td>17.6</td>\n",
       "      <td>0.0</td>\n",
       "    </tr>\n",
       "    <tr>\n",
       "      <th>1</th>\n",
       "      <td>17.7</td>\n",
       "      <td>0.0</td>\n",
       "    </tr>\n",
       "    <tr>\n",
       "      <th>2</th>\n",
       "      <td>17.5</td>\n",
       "      <td>0.0</td>\n",
       "    </tr>\n",
       "    <tr>\n",
       "      <th>3</th>\n",
       "      <td>17.1</td>\n",
       "      <td>0.0</td>\n",
       "    </tr>\n",
       "    <tr>\n",
       "      <th>4</th>\n",
       "      <td>17.0</td>\n",
       "      <td>0.0</td>\n",
       "    </tr>\n",
       "    <tr>\n",
       "      <th>...</th>\n",
       "      <td>...</td>\n",
       "      <td>...</td>\n",
       "    </tr>\n",
       "    <tr>\n",
       "      <th>83</th>\n",
       "      <td>23.9</td>\n",
       "      <td>0.6</td>\n",
       "    </tr>\n",
       "    <tr>\n",
       "      <th>84</th>\n",
       "      <td>25.0</td>\n",
       "      <td>0.8</td>\n",
       "    </tr>\n",
       "    <tr>\n",
       "      <th>85</th>\n",
       "      <td>26.0</td>\n",
       "      <td>1.0</td>\n",
       "    </tr>\n",
       "    <tr>\n",
       "      <th>86</th>\n",
       "      <td>26.4</td>\n",
       "      <td>1.0</td>\n",
       "    </tr>\n",
       "    <tr>\n",
       "      <th>87</th>\n",
       "      <td>25.4</td>\n",
       "      <td>0.5</td>\n",
       "    </tr>\n",
       "  </tbody>\n",
       "</table>\n",
       "<p>88 rows × 2 columns</p>\n",
       "</div>"
      ],
      "text/plain": [
       "    Temp  Sun\n",
       "0   17.6  0.0\n",
       "1   17.7  0.0\n",
       "2   17.5  0.0\n",
       "3   17.1  0.0\n",
       "4   17.0  0.0\n",
       "..   ...  ...\n",
       "83  23.9  0.6\n",
       "84  25.0  0.8\n",
       "85  26.0  1.0\n",
       "86  26.4  1.0\n",
       "87  25.4  0.5\n",
       "\n",
       "[88 rows x 2 columns]"
      ]
     },
     "execution_count": 29,
     "metadata": {},
     "output_type": "execute_result"
    }
   ],
   "source": [
    "# 데이터 셋을 둘러보는 코드 작성하시고, 왜 좋은지 한번 둘러보세요!\n",
    "train_x = train_x.loc[:,['Temp','Sun']]\n",
    "train_x"
   ]
  },
  {
   "cell_type": "code",
   "execution_count": null,
   "metadata": {},
   "outputs": [],
   "source": []
  },
  {
   "cell_type": "code",
   "execution_count": 30,
   "metadata": {},
   "outputs": [],
   "source": [
    "# 사용할 패키지를 import! 표준화 해보니 숫자가 너무 작아서 MinMaxScaler 사용 \n",
    "from sklearn.preprocessing import MinMaxScaler"
   ]
  },
  {
   "cell_type": "code",
   "execution_count": 31,
   "metadata": {
    "scrolled": true
   },
   "outputs": [
    {
     "data": {
      "text/plain": [
       "array([[0.20895522, 0.        ],\n",
       "       [0.21641791, 0.        ],\n",
       "       [0.20149254, 0.        ],\n",
       "       [0.17164179, 0.        ],\n",
       "       [0.1641791 , 0.        ],\n",
       "       [0.15671642, 0.        ],\n",
       "       [0.14179104, 0.        ],\n",
       "       [0.15671642, 0.1       ],\n",
       "       [0.2238806 , 0.3       ],\n",
       "       [0.3358209 , 0.7       ],\n",
       "       [0.42537313, 1.        ],\n",
       "       [0.54477612, 1.        ],\n",
       "       [0.61940299, 1.        ],\n",
       "       [0.61940299, 1.        ],\n",
       "       [0.65671642, 1.        ],\n",
       "       [0.67164179, 1.        ],\n",
       "       [0.71641791, 1.        ],\n",
       "       [0.65671642, 1.        ],\n",
       "       [0.58955224, 1.        ],\n",
       "       [0.48507463, 1.        ],\n",
       "       [0.37313433, 0.4       ],\n",
       "       [0.28358209, 0.        ],\n",
       "       [0.23134328, 0.        ],\n",
       "       [0.17910448, 0.        ],\n",
       "       [0.13432836, 0.        ],\n",
       "       [0.10447761, 0.        ],\n",
       "       [0.08208955, 0.        ],\n",
       "       [0.06716418, 0.        ],\n",
       "       [0.05223881, 0.        ],\n",
       "       [0.        , 0.        ],\n",
       "       [0.01492537, 0.        ],\n",
       "       [0.05223881, 0.        ],\n",
       "       [0.08955224, 0.        ],\n",
       "       [0.15671642, 0.        ],\n",
       "       [0.18656716, 0.        ],\n",
       "       [0.20149254, 0.        ],\n",
       "       [0.1119403 , 0.        ],\n",
       "       [0.20149254, 0.        ],\n",
       "       [0.41791045, 0.1       ],\n",
       "       [0.45522388, 0.        ],\n",
       "       [0.51492537, 0.1       ],\n",
       "       [0.47761194, 0.        ],\n",
       "       [0.43283582, 0.        ],\n",
       "       [0.41044776, 0.        ],\n",
       "       [0.38059701, 0.        ],\n",
       "       [0.35820896, 0.        ],\n",
       "       [0.3358209 , 0.        ],\n",
       "       [0.31343284, 0.        ],\n",
       "       [0.26865672, 0.        ],\n",
       "       [0.26119403, 0.        ],\n",
       "       [0.25373134, 0.        ],\n",
       "       [0.25373134, 0.        ],\n",
       "       [0.24626866, 0.        ],\n",
       "       [0.24626866, 0.        ],\n",
       "       [0.20895522, 0.        ],\n",
       "       [0.26119403, 0.3       ],\n",
       "       [0.36567164, 0.9       ],\n",
       "       [0.44776119, 0.4       ],\n",
       "       [0.53731343, 0.2       ],\n",
       "       [0.61940299, 0.3       ],\n",
       "       [0.71641791, 0.6       ],\n",
       "       [0.84328358, 1.        ],\n",
       "       [0.89552239, 1.        ],\n",
       "       [0.97761194, 1.        ],\n",
       "       [1.        , 1.        ],\n",
       "       [0.99253731, 1.        ],\n",
       "       [0.84328358, 1.        ],\n",
       "       [0.67164179, 0.8       ],\n",
       "       [0.46268657, 0.        ],\n",
       "       [0.42537313, 0.        ],\n",
       "       [0.41791045, 0.        ],\n",
       "       [0.39552239, 0.        ],\n",
       "       [0.39552239, 0.        ],\n",
       "       [0.3880597 , 0.        ],\n",
       "       [0.39552239, 0.        ],\n",
       "       [0.41791045, 0.        ],\n",
       "       [0.42537313, 0.        ],\n",
       "       [0.41044776, 0.        ],\n",
       "       [0.39552239, 0.        ],\n",
       "       [0.39552239, 0.        ],\n",
       "       [0.39552239, 0.        ],\n",
       "       [0.43283582, 0.        ],\n",
       "       [0.56716418, 0.5       ],\n",
       "       [0.67910448, 0.6       ],\n",
       "       [0.76119403, 0.8       ],\n",
       "       [0.8358209 , 1.        ],\n",
       "       [0.86567164, 1.        ],\n",
       "       [0.79104478, 0.5       ]])"
      ]
     },
     "execution_count": 31,
     "metadata": {},
     "output_type": "execute_result"
    }
   ],
   "source": [
    "# train_x = \n",
    "preprocessd_data = MinMaxScaler().fit_transform(train_x)\n",
    "preprocessd_data"
   ]
  },
  {
   "cell_type": "code",
   "execution_count": 32,
   "metadata": {},
   "outputs": [],
   "source": [
    "# 사용할 패키지를 import!\n",
    "from sklearn.linear_model import LinearRegression\n",
    "#Linear Regression 먼저"
   ]
  },
  {
   "cell_type": "code",
   "execution_count": 33,
   "metadata": {},
   "outputs": [
    {
     "name": "stdout",
     "output_type": "stream",
     "text": [
      "Beta :[  71.40319787 -217.78538838]\n",
      "Intercept :  6760.1141\n"
     ]
    }
   ],
   "source": [
    "# 선형회귀 모델 생성 후 fitting 시킵니다.\n",
    "# model = \n",
    "\n",
    "linear_model = LinearRegression().fit(train_x, train_y) #linear model 불러오기\n",
    "linear_pred_y = linear_model.predict(train_x)\n",
    "\n",
    "linear_beta = linear_model.coef_ #계수\n",
    "linear_intercept = linear_model.intercept_ #y절편\n",
    "print(f\"Beta :{linear_beta}\")\n",
    "print(f\"Intercept : {linear_intercept: .4f}\")"
   ]
  },
  {
   "cell_type": "code",
   "execution_count": 34,
   "metadata": {},
   "outputs": [
    {
     "data": {
      "text/plain": [
       "6760.11410516499"
      ]
     },
     "execution_count": 34,
     "metadata": {},
     "output_type": "execute_result"
    }
   ],
   "source": [
    "linear_model.intercept_"
   ]
  },
  {
   "cell_type": "code",
   "execution_count": 35,
   "metadata": {},
   "outputs": [
    {
     "data": {
      "text/plain": [
       "array([8016.8103877 , 8023.95070749, 8009.67006791, 7981.10878877,\n",
       "       7973.96846898, 7966.82814919, 7952.54750962, 7945.04961035,\n",
       "       7965.75541076, 7985.74605221, 8006.09427315, 8120.33938974,\n",
       "       8191.74258761, 8191.74258761, 8227.44418655, 8241.72482612,\n",
       "       8284.56674484, 8227.44418655, 8163.18130846, 8063.21683144,\n",
       "       8086.78326767, 8088.21358557, 8038.23134706, 7988.24910855,\n",
       "       7945.40718983, 7916.84591068, 7895.42495132, 7881.14431175,\n",
       "       7866.86367217, 7816.88143366, 7831.16207324, 7866.86367217,\n",
       "       7902.56527111, 7966.82814919, 7995.38942834, 8009.67006791,\n",
       "       7923.98623047, 8009.67006791, 8194.9608029 , 8252.44094068,\n",
       "       8287.78496014, 8273.86190004, 8231.01998132, 8209.59902195,\n",
       "       8181.03774281, 8159.61678344, 8138.19582408, 8116.77486472,\n",
       "       8073.932946  , 8066.79262621, 8059.65230642, 8059.65230642,\n",
       "       8052.51198664, 8052.51198664, 8016.8103877 , 8001.4570097 ,\n",
       "       7970.75025369, 8158.18646554, 8287.42738066, 8344.19235948,\n",
       "       8371.6809002 , 8405.95218122, 8455.93441973, 8534.47793739,\n",
       "       8555.89889675, 8548.75857697, 8405.95218122, 8285.2819038 ,\n",
       "       8259.58126046, 8223.87966153, 8216.73934174, 8195.31838238,\n",
       "       8195.31838238, 8188.17806259, 8195.31838238, 8216.73934174,\n",
       "       8223.87966153, 8209.59902195, 8195.31838238, 8195.31838238,\n",
       "       8195.31838238, 8231.01998132, 8250.65304329, 8335.97930126,\n",
       "       8370.96574124, 8398.81186144, 8427.37314059, 8464.86263691])"
      ]
     },
     "execution_count": 35,
     "metadata": {},
     "output_type": "execute_result"
    }
   ],
   "source": [
    "esti_y = linear_pred_y\n",
    "esti_y"
   ]
  },
  {
   "cell_type": "code",
   "execution_count": 36,
   "metadata": {},
   "outputs": [],
   "source": [
    "def mse(pred, true):\n",
    "    return np.mean((pred-true)**2)"
   ]
  },
  {
   "cell_type": "code",
   "execution_count": 37,
   "metadata": {},
   "outputs": [
    {
     "name": "stdout",
     "output_type": "stream",
     "text": [
      "Linear 11423.54088\n"
     ]
    }
   ],
   "source": [
    "train_mse = mse(esti_y, train_y)\n",
    "print(f\"Linear {train_mse:.5f}\")"
   ]
  },
  {
   "cell_type": "code",
   "execution_count": 38,
   "metadata": {},
   "outputs": [],
   "source": [
    "def visualize(model, x, y):\n",
    "    if x.shape[1] != 1:\n",
    "        return None\n",
    "    beta = model.coef_[0]\n",
    "    intercept = model.intercept_\n",
    "    \n",
    "    x_axis = np.linspace(np.min(x), np.max(x), 100)\n",
    "    fit = intercept * x_axis**0 + beta*x_axis \n",
    "\n",
    "    plt.figure(figsize=(8,6))\n",
    "    plt.plot(x_axis, fit, label='Predict', c='r', linewidth=3)\n",
    "    plt.scatter(x, y, c='blue')\n",
    "    plt.legend()\n",
    "    plt.show()"
   ]
  },
  {
   "cell_type": "code",
   "execution_count": 39,
   "metadata": {},
   "outputs": [],
   "source": [
    "# visualization 하실 분은 진행해주세요!  \n",
    "#visualize(linear_model, train_x, train_y)"
   ]
  },
  {
   "cell_type": "code",
   "execution_count": 40,
   "metadata": {},
   "outputs": [],
   "source": [
    "test_x=test_x.loc[:,['Temp','Sun']]"
   ]
  },
  {
   "cell_type": "code",
   "execution_count": 41,
   "metadata": {},
   "outputs": [],
   "source": [
    "# y1_hat에 predict값 할당\n",
    "pred_y = linear_model.predict(test_x)"
   ]
  },
  {
   "cell_type": "code",
   "execution_count": 42,
   "metadata": {},
   "outputs": [],
   "source": [
    "def score(train_mse, test_mse):\n",
    "    print(f\"{test_mse/train_mse: .4f}\")"
   ]
  },
  {
   "cell_type": "code",
   "execution_count": 43,
   "metadata": {},
   "outputs": [
    {
     "name": "stdout",
     "output_type": "stream",
     "text": [
      "Linear 141209.94067\n"
     ]
    }
   ],
   "source": [
    "test_mse = mse(pred_y, test_y)\n",
    "print(f\"Linear {test_mse:.5f}\")"
   ]
  },
  {
   "cell_type": "code",
   "execution_count": 44,
   "metadata": {},
   "outputs": [
    {
     "name": "stdout",
     "output_type": "stream",
     "text": [
      " 12.3613\n"
     ]
    }
   ],
   "source": [
    "score(train_mse,test_mse) # Temp, Sun으로만 했던 더 안 좋은 예측 결과가 나왔다(분석 방법은 linear regression)"
   ]
  },
  {
   "cell_type": "code",
   "execution_count": 45,
   "metadata": {},
   "outputs": [],
   "source": [
    "#Standard Scaler"
   ]
  },
  {
   "cell_type": "code",
   "execution_count": 56,
   "metadata": {},
   "outputs": [],
   "source": [
    "from sklearn.preprocessing import StandardScaler"
   ]
  },
  {
   "cell_type": "code",
   "execution_count": 57,
   "metadata": {
    "scrolled": true
   },
   "outputs": [
    {
     "data": {
      "text/plain": [
       "array([[-8.09422591e-01,  1.32132616e+00, -7.04318071e-01],\n",
       "       [-7.78799552e-01,  1.25833770e+00, -7.04318071e-01],\n",
       "       [-8.40045630e-01,  1.25833770e+00, -7.04318071e-01],\n",
       "       [-9.62537785e-01,  1.25833770e+00, -7.04318071e-01],\n",
       "       [-9.93160823e-01,  1.32132616e+00, -7.04318071e-01],\n",
       "       [-1.02378386e+00,  1.38431463e+00, -7.04318071e-01],\n",
       "       [-1.08502994e+00,  1.19534924e+00, -7.04318071e-01],\n",
       "       [-1.02378386e+00,  9.43395387e-01, -4.62208734e-01],\n",
       "       [-7.48176514e-01,  5.65464610e-01,  2.20099397e-02],\n",
       "       [-2.88830933e-01,  1.24545370e-01,  9.90447288e-01],\n",
       "       [ 7.86455312e-02, -5.68327722e-01,  1.71677530e+00],\n",
       "       [ 5.68614150e-01, -1.19821235e+00,  1.71677530e+00],\n",
       "       [ 8.74844537e-01, -1.38717774e+00,  1.71677530e+00],\n",
       "       [ 8.74844537e-01, -1.82809698e+00,  1.71677530e+00],\n",
       "       [ 1.02795973e+00, -2.01706237e+00,  1.71677530e+00],\n",
       "       [ 1.08920581e+00, -1.95407390e+00,  1.71677530e+00],\n",
       "       [ 1.27294404e+00, -2.01706237e+00,  1.71677530e+00],\n",
       "       [ 1.02795973e+00, -1.89108544e+00,  1.71677530e+00],\n",
       "       [ 7.52352383e-01, -1.82809698e+00,  1.71677530e+00],\n",
       "       [ 3.23629841e-01, -1.70212005e+00,  1.71677530e+00],\n",
       "       [-1.35715740e-01, -1.26120081e+00,  2.64119277e-01],\n",
       "       [-5.03192204e-01, -1.00924696e+00, -7.04318071e-01],\n",
       "       [-7.17553475e-01, -5.68327722e-01, -7.04318071e-01],\n",
       "       [-9.31914746e-01, -1.90396945e-01, -7.04318071e-01],\n",
       "       [-1.11565298e+00,  1.87533833e-01, -7.04318071e-01],\n",
       "       [-1.23814513e+00,  3.76499221e-01, -7.04318071e-01],\n",
       "       [-1.33001425e+00,  4.39487684e-01, -7.04318071e-01],\n",
       "       [-1.39126033e+00,  4.39487684e-01, -7.04318071e-01],\n",
       "       [-1.45250640e+00,  5.02476147e-01, -7.04318071e-01],\n",
       "       [-1.66686767e+00,  5.02476147e-01, -7.04318071e-01],\n",
       "       [-1.60562160e+00,  5.02476147e-01, -7.04318071e-01],\n",
       "       [-1.45250640e+00,  3.76499221e-01, -7.04318071e-01],\n",
       "       [-1.29939121e+00,  2.50522295e-01, -7.04318071e-01],\n",
       "       [-1.02378386e+00, -1.43155597e-03, -7.04318071e-01],\n",
       "       [-9.01291707e-01, -3.79362333e-01, -7.04318071e-01],\n",
       "       [-8.40045630e-01, -6.44200188e-02, -7.04318071e-01],\n",
       "       [-1.20752209e+00,  5.65464610e-01, -7.04318071e-01],\n",
       "       [-8.40045630e-01, -1.90396945e-01, -7.04318071e-01],\n",
       "       [ 4.80224925e-02, -1.26120081e+00, -4.62208734e-01],\n",
       "       [ 2.01137686e-01, -1.45016620e+00, -7.04318071e-01],\n",
       "       [ 4.46121996e-01, -1.57614313e+00, -4.62208734e-01],\n",
       "       [ 2.93006802e-01, -1.00924696e+00, -7.04318071e-01],\n",
       "       [ 1.09268570e-01, -8.20281573e-01, -7.04318071e-01],\n",
       "       [ 1.73994538e-02, -6.31316185e-01, -7.04318071e-01],\n",
       "       [-1.05092701e-01, -3.79362333e-01, -7.04318071e-01],\n",
       "       [-1.96961817e-01, -6.44200188e-02, -7.04318071e-01],\n",
       "       [-2.88830933e-01,  1.87533833e-01, -7.04318071e-01],\n",
       "       [-3.80700049e-01,  5.02476147e-01, -7.04318071e-01],\n",
       "       [-5.64438281e-01,  8.17418461e-01, -7.04318071e-01],\n",
       "       [-5.95061320e-01,  9.43395387e-01, -7.04318071e-01],\n",
       "       [-6.25684359e-01,  1.13236078e+00, -7.04318071e-01],\n",
       "       [-6.25684359e-01,  1.13236078e+00, -7.04318071e-01],\n",
       "       [-6.56307398e-01,  1.00638385e+00, -7.04318071e-01],\n",
       "       [-6.56307398e-01,  1.06937231e+00, -7.04318071e-01],\n",
       "       [-8.09422591e-01,  1.13236078e+00, -7.04318071e-01],\n",
       "       [-5.95061320e-01,  1.06937231e+00,  2.20099397e-02],\n",
       "       [-1.66338778e-01,  6.91441536e-01,  1.47466596e+00],\n",
       "       [ 1.70514647e-01,  3.13510758e-01,  2.64119277e-01],\n",
       "       [ 5.37991112e-01,  1.24545370e-01, -2.20099397e-01],\n",
       "       [ 8.74844537e-01, -1.90396945e-01,  2.20099397e-02],\n",
       "       [ 1.27294404e+00, -8.20281573e-01,  7.48337951e-01],\n",
       "       [ 1.79353570e+00, -1.00924696e+00,  1.71677530e+00],\n",
       "       [ 2.00789697e+00, -1.32418928e+00,  1.71677530e+00],\n",
       "       [ 2.34475039e+00, -1.19821235e+00,  1.71677530e+00],\n",
       "       [ 2.43661951e+00, -1.45016620e+00,  1.71677530e+00],\n",
       "       [ 2.40599647e+00, -1.38717774e+00,  1.71677530e+00],\n",
       "       [ 1.79353570e+00, -6.94304647e-01,  1.71677530e+00],\n",
       "       [ 1.08920581e+00, -1.90396945e-01,  1.23255663e+00],\n",
       "       [ 2.31760725e-01,  5.65464610e-01, -7.04318071e-01],\n",
       "       [ 7.86455312e-02,  6.28453073e-01, -7.04318071e-01],\n",
       "       [ 4.80224925e-02,  6.28453073e-01, -7.04318071e-01],\n",
       "       [-4.38466236e-02,  6.28453073e-01, -7.04318071e-01],\n",
       "       [-4.38466236e-02,  6.28453073e-01, -7.04318071e-01],\n",
       "       [-7.44696623e-02,  7.54429998e-01, -7.04318071e-01],\n",
       "       [-4.38466236e-02,  8.17418461e-01, -7.04318071e-01],\n",
       "       [ 4.80224925e-02,  9.43395387e-01, -7.04318071e-01],\n",
       "       [ 7.86455312e-02,  1.06937231e+00, -7.04318071e-01],\n",
       "       [ 1.73994538e-02,  1.25833770e+00, -7.04318071e-01],\n",
       "       [-4.38466236e-02,  1.25833770e+00, -7.04318071e-01],\n",
       "       [-4.38466236e-02,  1.19534924e+00, -7.04318071e-01],\n",
       "       [-4.38466236e-02,  1.13236078e+00, -7.04318071e-01],\n",
       "       [ 1.09268570e-01,  1.19534924e+00, -7.04318071e-01],\n",
       "       [ 6.60483266e-01,  3.13510758e-01,  5.06228614e-01],\n",
       "       [ 1.11982885e+00, -1.90396945e-01,  7.48337951e-01],\n",
       "       [ 1.45668227e+00, -5.05339259e-01,  1.23255663e+00],\n",
       "       [ 1.76291266e+00, -6.94304647e-01,  1.71677530e+00],\n",
       "       [ 1.88540481e+00, -6.94304647e-01,  1.71677530e+00],\n",
       "       [ 1.57917443e+00, -3.16373870e-01,  5.06228614e-01]])"
      ]
     },
     "execution_count": 57,
     "metadata": {},
     "output_type": "execute_result"
    }
   ],
   "source": [
    "scaler = StandardScaler()\n",
    "scaler = scaler.fit(train_x)\n",
    "processed_data = scaler.transform(train_x)\n",
    "processed_data"
   ]
  },
  {
   "cell_type": "code",
   "execution_count": 58,
   "metadata": {},
   "outputs": [],
   "source": [
    "from sklearn.linear_model import LinearRegression"
   ]
  },
  {
   "cell_type": "code",
   "execution_count": 64,
   "metadata": {},
   "outputs": [
    {
     "name": "stdout",
     "output_type": "stream",
     "text": [
      "Beta :[ 79.75823723   8.21085096 -48.94193627]\n",
      "Intercept :  5958.7064\n"
     ]
    }
   ],
   "source": [
    "linear_model = LinearRegression().fit(train_x, train_y) #linear model 불러오기\n",
    "linear_pred_y = linear_model.predict(train_x)\n",
    "\n",
    "linear_beta = linear_model.coef_ #계수\n",
    "linear_intercept = linear_model.intercept_ #y절편\n",
    "print(f\"Beta :{linear_beta}\")\n",
    "print(f\"Intercept : {linear_intercept: .4f}\")"
   ]
  },
  {
   "cell_type": "code",
   "execution_count": 63,
   "metadata": {},
   "outputs": [
    {
     "data": {
      "text/plain": [
       "array([ 79.75823723,   8.21085096, -48.94193627])"
      ]
     },
     "execution_count": 63,
     "metadata": {},
     "output_type": "execute_result"
    }
   ],
   "source": [
    "linear_beta"
   ]
  },
  {
   "cell_type": "code",
   "execution_count": 65,
   "metadata": {},
   "outputs": [],
   "source": [
    "def mse(pred, true):\n",
    "    return np.mean((pred-true)**2)"
   ]
  },
  {
   "cell_type": "code",
   "execution_count": 66,
   "metadata": {},
   "outputs": [
    {
     "name": "stdout",
     "output_type": "stream",
     "text": [
      "Linear 11423.54088\n"
     ]
    }
   ],
   "source": [
    "train_mse = mse(esti_y, train_y)\n",
    "print(f\"Linear {train_mse:.5f}\")"
   ]
  },
  {
   "cell_type": "code",
   "execution_count": 67,
   "metadata": {},
   "outputs": [],
   "source": [
    "test_x=test_x.loc[:,['Temp','Moisture','Sun']]"
   ]
  },
  {
   "cell_type": "code",
   "execution_count": 68,
   "metadata": {},
   "outputs": [],
   "source": [
    "# y1_hat에 predict값 할당\n",
    "pred_y = linear_model.predict(test_x)"
   ]
  },
  {
   "cell_type": "code",
   "execution_count": 69,
   "metadata": {},
   "outputs": [],
   "source": [
    "def score(train_mse, test_mse):\n",
    "    print(f\"{test_mse/train_mse: .4f}\")"
   ]
  },
  {
   "cell_type": "code",
   "execution_count": 70,
   "metadata": {},
   "outputs": [
    {
     "name": "stdout",
     "output_type": "stream",
     "text": [
      "Linear 90162.43334\n"
     ]
    }
   ],
   "source": [
    "test_mse = mse(pred_y, test_y)\n",
    "print(f\"Linear {test_mse:.5f}\")"
   ]
  },
  {
   "cell_type": "code",
   "execution_count": 71,
   "metadata": {},
   "outputs": [
    {
     "name": "stdout",
     "output_type": "stream",
     "text": [
      " 7.8927\n"
     ]
    }
   ],
   "source": [
    "score(train_mse,test_mse) #standard scaler는 예측값이 좋지 않음"
   ]
  }
 ],
 "metadata": {
  "colab": {
   "authorship_tag": "ABX9TyOgug4KEXAF4mJb0CKcc9BQ",
   "collapsed_sections": [],
   "mount_file_id": "1Y2yJV5xqiiXMIdvOZmbHCI4AoGjowvm5",
   "name": "220203_Supervised_Learning_과제.ipynb",
   "provenance": []
  },
  "kernelspec": {
   "display_name": "Python 3 (ipykernel)",
   "language": "python",
   "name": "python3"
  },
  "language_info": {
   "codemirror_mode": {
    "name": "ipython",
    "version": 3
   },
   "file_extension": ".py",
   "mimetype": "text/x-python",
   "name": "python",
   "nbconvert_exporter": "python",
   "pygments_lexer": "ipython3",
   "version": "3.9.12"
  },
  "toc": {
   "base_numbering": 1,
   "nav_menu": {},
   "number_sections": true,
   "sideBar": true,
   "skip_h1_title": false,
   "title_cell": "Table of Contents",
   "title_sidebar": "Contents",
   "toc_cell": false,
   "toc_position": {
    "height": "calc(100% - 180px)",
    "left": "10px",
    "top": "150px",
    "width": "300.792px"
   },
   "toc_section_display": true,
   "toc_window_display": true
  }
 },
 "nbformat": 4,
 "nbformat_minor": 1
}
