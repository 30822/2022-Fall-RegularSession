{
 "cells": [
  {
   "cell_type": "code",
   "execution_count": 24,
   "metadata": {
    "id": "NuogZdJAewSq"
   },
   "outputs": [],
   "source": [
    "import numpy as np\n",
    "import pandas as pd\n",
    "import matplotlib.pyplot as plt"
   ]
  },
  {
   "cell_type": "markdown",
   "metadata": {
    "id": "u5RQzjdjj6I2"
   },
   "source": [
    "코랩 사용하시는 분들은 아래의 코드를 실행해주세요!"
   ]
  },
  {
   "cell_type": "code",
   "execution_count": 2,
   "metadata": {
    "id": "7J7wP7X6nQtv"
   },
   "outputs": [],
   "source": [
    "# from google.colab import drive\n",
    "# drive.mount('/content/drive')"
   ]
  },
  {
   "cell_type": "code",
   "execution_count": 3,
   "metadata": {
    "id": "OA4UW3j4kePR"
   },
   "outputs": [],
   "source": [
    "# import os\n",
    "# os.getcwd()"
   ]
  },
  {
   "cell_type": "markdown",
   "metadata": {
    "id": "NtVt7I7qWH8s"
   },
   "source": [
    "코랩 사용시 본인 구글 드라이브 경로는  \n",
    "/content/drive/MyDrive/...  \n",
    "입니다."
   ]
  },
  {
   "cell_type": "code",
   "execution_count": 4,
   "metadata": {
    "id": "SiVE75urjpg3"
   },
   "outputs": [],
   "source": [
    "# path = './drive/MyDrive/...'    # 과제 데이터셋이 저장된 경로를 더 작성해주세요\n",
    "# os.chdir(path)"
   ]
  },
  {
   "cell_type": "code",
   "execution_count": 5,
   "metadata": {
    "id": "0qXX7Ab0kHuX"
   },
   "outputs": [],
   "source": [
    "# os.getcwd()"
   ]
  },
  {
   "cell_type": "markdown",
   "metadata": {
    "id": "JfNxu2eTDyl6"
   },
   "source": [
    "사용할 데이터 셋 :  전력 사용량 예측 모델\n",
    "\n",
    "아래의 과정에서 sklearn의 Pipeline의 사용은 필수는 아닙니다. 선호와 필요에 따라 사용하실 분들은 사용하셔도 좋습니다."
   ]
  },
  {
   "cell_type": "markdown",
   "metadata": {},
   "source": [
    "# 데이터"
   ]
  },
  {
   "cell_type": "markdown",
   "metadata": {
    "id": "K2sLE1gZOTc2"
   },
   "source": [
    "건물 정보와 기후 정보를 활용한 전력사용량 예측 데이터 중에서 \n",
    "\n",
    "환경 변수(기온, 풍속, 습도, 강수량, 일조)에 대해 전력 사용량을 선형회귀 모델을 사용해서 예측해보고자 합니다."
   ]
  },
  {
   "cell_type": "code",
   "execution_count": 25,
   "metadata": {},
   "outputs": [],
   "source": [
    "var_name = ['Temp', 'Wind', 'Moisture', 'Precipitation', 'Sun']\n",
    "target = 'Wh'"
   ]
  },
  {
   "cell_type": "code",
   "execution_count": 26,
   "metadata": {},
   "outputs": [],
   "source": [
    "def parsing(data: pd.DataFrame):\n",
    "    x = data.iloc[:, 3:8]\n",
    "    x.columns = var_name\n",
    "    y = data.iloc[:, 2]\n",
    "    y.name = target\n",
    "    \n",
    "    return x, y"
   ]
  },
  {
   "cell_type": "code",
   "execution_count": 27,
   "metadata": {},
   "outputs": [],
   "source": [
    "def load_data():\n",
    "    data = pd.read_csv('data/train.csv', encoding='cp949')\n",
    "    data = data[: 100]\n",
    "    x, y = parsing(data)    \n",
    "    cut = int(round(len(x)*0.88))\n",
    "    tr_x = x[:cut]\n",
    "    tr_y = y[:cut]\n",
    "    te_x = x[cut:]\n",
    "    te_y = y[cut:]\n",
    "    return tr_x, tr_y, te_x, te_y"
   ]
  },
  {
   "cell_type": "code",
   "execution_count": 46,
   "metadata": {},
   "outputs": [],
   "source": [
    "train_x, train_y, test_x, test_y = load_data()"
   ]
  },
  {
   "cell_type": "markdown",
   "metadata": {
    "id": "FtOBVORnPUCt"
   },
   "source": [
    "## 데이터 확인 \n",
    "\n",
    "주의! 최종 예측하는 단계 이전에는 현재 가지고 있는 데이터, 즉 train data만을 이용하여 작업을 진행해야 합니다.\n",
    "\n",
    "현재 가지고 있는 데이터 train_x를 보고 전력 사용량을 예측하는데에 사용할 변수를 선택해주세요.\n",
    "\n",
    "기초세션에서 다뤘던 내용을 참고하셔서 최적의 변수 조합을 찾아보도록 합시다.\n",
    "\n",
    "이 때 선택해야하는 변수는 하나일 수도 있고, 여러개의 변수를 사용하여도 좋습니다."
   ]
  },
  {
   "cell_type": "code",
   "execution_count": 29,
   "metadata": {
    "id": "wuD0nXzEDySK",
    "scrolled": true
   },
   "outputs": [
    {
     "data": {
      "text/html": [
       "<div>\n",
       "<style scoped>\n",
       "    .dataframe tbody tr th:only-of-type {\n",
       "        vertical-align: middle;\n",
       "    }\n",
       "\n",
       "    .dataframe tbody tr th {\n",
       "        vertical-align: top;\n",
       "    }\n",
       "\n",
       "    .dataframe thead th {\n",
       "        text-align: right;\n",
       "    }\n",
       "</style>\n",
       "<table border=\"1\" class=\"dataframe\">\n",
       "  <thead>\n",
       "    <tr style=\"text-align: right;\">\n",
       "      <th></th>\n",
       "      <th>Temp</th>\n",
       "      <th>Wind</th>\n",
       "      <th>Moisture</th>\n",
       "      <th>Precipitation</th>\n",
       "      <th>Sun</th>\n",
       "    </tr>\n",
       "  </thead>\n",
       "  <tbody>\n",
       "    <tr>\n",
       "      <th>0</th>\n",
       "      <td>17.6</td>\n",
       "      <td>2.5</td>\n",
       "      <td>92.0</td>\n",
       "      <td>0.8</td>\n",
       "      <td>0.0</td>\n",
       "    </tr>\n",
       "    <tr>\n",
       "      <th>1</th>\n",
       "      <td>17.7</td>\n",
       "      <td>2.9</td>\n",
       "      <td>91.0</td>\n",
       "      <td>0.3</td>\n",
       "      <td>0.0</td>\n",
       "    </tr>\n",
       "    <tr>\n",
       "      <th>2</th>\n",
       "      <td>17.5</td>\n",
       "      <td>3.2</td>\n",
       "      <td>91.0</td>\n",
       "      <td>0.0</td>\n",
       "      <td>0.0</td>\n",
       "    </tr>\n",
       "    <tr>\n",
       "      <th>3</th>\n",
       "      <td>17.1</td>\n",
       "      <td>3.2</td>\n",
       "      <td>91.0</td>\n",
       "      <td>0.0</td>\n",
       "      <td>0.0</td>\n",
       "    </tr>\n",
       "    <tr>\n",
       "      <th>4</th>\n",
       "      <td>17.0</td>\n",
       "      <td>3.3</td>\n",
       "      <td>92.0</td>\n",
       "      <td>0.0</td>\n",
       "      <td>0.0</td>\n",
       "    </tr>\n",
       "  </tbody>\n",
       "</table>\n",
       "</div>"
      ],
      "text/plain": [
       "   Temp  Wind  Moisture  Precipitation  Sun\n",
       "0  17.6   2.5      92.0            0.8  0.0\n",
       "1  17.7   2.9      91.0            0.3  0.0\n",
       "2  17.5   3.2      91.0            0.0  0.0\n",
       "3  17.1   3.2      91.0            0.0  0.0\n",
       "4  17.0   3.3      92.0            0.0  0.0"
      ]
     },
     "execution_count": 29,
     "metadata": {},
     "output_type": "execute_result"
    }
   ],
   "source": [
    "# 데이터 셋을 둘러보는 코드 작성하시고, 왜 좋은지 한번 둘러보세요!\n",
    "\n",
    "train_x.head()"
   ]
  },
  {
   "cell_type": "code",
   "execution_count": 30,
   "metadata": {},
   "outputs": [
    {
     "data": {
      "text/plain": [
       "0    8179.056\n",
       "1    8135.640\n",
       "2    8107.128\n",
       "3    8048.808\n",
       "4    8043.624\n",
       "Name: Wh, dtype: float64"
      ]
     },
     "execution_count": 30,
     "metadata": {},
     "output_type": "execute_result"
    }
   ],
   "source": [
    "train_y.head()"
   ]
  },
  {
   "cell_type": "code",
   "execution_count": 31,
   "metadata": {
    "scrolled": false
   },
   "outputs": [
    {
     "data": {
      "text/html": [
       "<div>\n",
       "<style scoped>\n",
       "    .dataframe tbody tr th:only-of-type {\n",
       "        vertical-align: middle;\n",
       "    }\n",
       "\n",
       "    .dataframe tbody tr th {\n",
       "        vertical-align: top;\n",
       "    }\n",
       "\n",
       "    .dataframe thead th {\n",
       "        text-align: right;\n",
       "    }\n",
       "</style>\n",
       "<table border=\"1\" class=\"dataframe\">\n",
       "  <thead>\n",
       "    <tr style=\"text-align: right;\">\n",
       "      <th></th>\n",
       "      <th>Temp</th>\n",
       "      <th>Wind</th>\n",
       "      <th>Moisture</th>\n",
       "      <th>Precipitation</th>\n",
       "      <th>Sun</th>\n",
       "      <th>Wh</th>\n",
       "    </tr>\n",
       "  </thead>\n",
       "  <tbody>\n",
       "    <tr>\n",
       "      <th>0</th>\n",
       "      <td>17.6</td>\n",
       "      <td>2.5</td>\n",
       "      <td>92.0</td>\n",
       "      <td>0.8</td>\n",
       "      <td>0.0</td>\n",
       "      <td>8179.056</td>\n",
       "    </tr>\n",
       "    <tr>\n",
       "      <th>1</th>\n",
       "      <td>17.7</td>\n",
       "      <td>2.9</td>\n",
       "      <td>91.0</td>\n",
       "      <td>0.3</td>\n",
       "      <td>0.0</td>\n",
       "      <td>8135.640</td>\n",
       "    </tr>\n",
       "    <tr>\n",
       "      <th>2</th>\n",
       "      <td>17.5</td>\n",
       "      <td>3.2</td>\n",
       "      <td>91.0</td>\n",
       "      <td>0.0</td>\n",
       "      <td>0.0</td>\n",
       "      <td>8107.128</td>\n",
       "    </tr>\n",
       "    <tr>\n",
       "      <th>3</th>\n",
       "      <td>17.1</td>\n",
       "      <td>3.2</td>\n",
       "      <td>91.0</td>\n",
       "      <td>0.0</td>\n",
       "      <td>0.0</td>\n",
       "      <td>8048.808</td>\n",
       "    </tr>\n",
       "    <tr>\n",
       "      <th>4</th>\n",
       "      <td>17.0</td>\n",
       "      <td>3.3</td>\n",
       "      <td>92.0</td>\n",
       "      <td>0.0</td>\n",
       "      <td>0.0</td>\n",
       "      <td>8043.624</td>\n",
       "    </tr>\n",
       "  </tbody>\n",
       "</table>\n",
       "</div>"
      ],
      "text/plain": [
       "   Temp  Wind  Moisture  Precipitation  Sun        Wh\n",
       "0  17.6   2.5      92.0            0.8  0.0  8179.056\n",
       "1  17.7   2.9      91.0            0.3  0.0  8135.640\n",
       "2  17.5   3.2      91.0            0.0  0.0  8107.128\n",
       "3  17.1   3.2      91.0            0.0  0.0  8048.808\n",
       "4  17.0   3.3      92.0            0.0  0.0  8043.624"
      ]
     },
     "execution_count": 31,
     "metadata": {},
     "output_type": "execute_result"
    }
   ],
   "source": [
    "train = pd.concat([train_x, train_y], axis = 1)\n",
    "train.head()"
   ]
  },
  {
   "cell_type": "code",
   "execution_count": 32,
   "metadata": {},
   "outputs": [],
   "source": [
    "import seaborn as sns"
   ]
  },
  {
   "cell_type": "code",
   "execution_count": 33,
   "metadata": {
    "scrolled": true
   },
   "outputs": [
    {
     "data": {
      "image/png": "[encoded data removed]",
      "text/plain": [
       "<Figure size 432x432 with 2 Axes>"
      ]
     },
     "metadata": {
      "needs_background": "light"
     },
     "output_type": "display_data"
    }
   ],
   "source": [
    "plt.figure(figsize=(6, 6))\n",
    "sns.heatmap(data = train.corr(), annot=True, fmt = '.4f')\n",
    "plt.show()"
   ]
  },
  {
   "cell_type": "markdown",
   "metadata": {
    "id": "kD24Xx9XLotD"
   },
   "source": [
    "정답은 없습니다! \n",
    "\n",
    "다만 최종 선택한 변수(들)이 왜 선택받았는지 간단히 알려주세요.<br>\n",
    "\n",
    "\n",
    "답변 : 수치적으로 높은 상관 관계를 보이는 변수를 선택했다.\n",
    "\n",
    "=> Temp(기온), Sun(일조)"
   ]
  },
  {
   "cell_type": "markdown",
   "metadata": {
    "id": "9FeCbQAFP6Kw"
   },
   "source": [
    "## 전처리\n",
    "\n",
    "위에서 선택한 변수들(feature)를 가지고 한번 전력 사용량을 예측하는 모델을 만들어 보기에 앞서,\n",
    "\n",
    "**train 데이터의 feature의 전처리**를 진행해보려고 합니다. StandardScaler를 사용하셔도 좋고, MinMaxScaler를 사용하셔도 좋습니다! \n",
    "\n",
    "또한 PolynomialFeatures를 이용하거나 직접 feature를 계산하여 고차원의 feature를 만드셔도 좋습니다. 이 또한 정답은 없습니다!\n",
    "\n",
    "이 때 최종 train_x의 shape은 (n_samples, n_features)가 되도록 해주세요.<br>\n",
    "ex. 4개의 변수를 가진 1000개의 샘플의 경우 train_x.shape은 (1000,4)가 되면 됩니다.\n",
    "\n",
    "특히 하나의 변수만을 사용하시는 분들은 1D가 아닌 2D가 되도록 신경써주세요<br>\n",
    "ex. train_x.shape이 (1000,)이 아닌 (1000,1)입니다!"
   ]
  },
  {
   "cell_type": "code",
   "execution_count": 34,
   "metadata": {},
   "outputs": [],
   "source": [
    "from sklearn.preprocessing import MinMaxScaler"
   ]
  },
  {
   "cell_type": "code",
   "execution_count": 47,
   "metadata": {},
   "outputs": [
    {
     "data": {
      "text/html": [
       "<div>\n",
       "<style scoped>\n",
       "    .dataframe tbody tr th:only-of-type {\n",
       "        vertical-align: middle;\n",
       "    }\n",
       "\n",
       "    .dataframe tbody tr th {\n",
       "        vertical-align: top;\n",
       "    }\n",
       "\n",
       "    .dataframe thead th {\n",
       "        text-align: right;\n",
       "    }\n",
       "</style>\n",
       "<table border=\"1\" class=\"dataframe\">\n",
       "  <thead>\n",
       "    <tr style=\"text-align: right;\">\n",
       "      <th></th>\n",
       "      <th>Temp</th>\n",
       "      <th>Sun</th>\n",
       "    </tr>\n",
       "  </thead>\n",
       "  <tbody>\n",
       "    <tr>\n",
       "      <th>0</th>\n",
       "      <td>17.6</td>\n",
       "      <td>0.0</td>\n",
       "    </tr>\n",
       "    <tr>\n",
       "      <th>1</th>\n",
       "      <td>17.7</td>\n",
       "      <td>0.0</td>\n",
       "    </tr>\n",
       "    <tr>\n",
       "      <th>2</th>\n",
       "      <td>17.5</td>\n",
       "      <td>0.0</td>\n",
       "    </tr>\n",
       "    <tr>\n",
       "      <th>3</th>\n",
       "      <td>17.1</td>\n",
       "      <td>0.0</td>\n",
       "    </tr>\n",
       "    <tr>\n",
       "      <th>4</th>\n",
       "      <td>17.0</td>\n",
       "      <td>0.0</td>\n",
       "    </tr>\n",
       "  </tbody>\n",
       "</table>\n",
       "</div>"
      ],
      "text/plain": [
       "   Temp  Sun\n",
       "0  17.6  0.0\n",
       "1  17.7  0.0\n",
       "2  17.5  0.0\n",
       "3  17.1  0.0\n",
       "4  17.0  0.0"
      ]
     },
     "execution_count": 47,
     "metadata": {},
     "output_type": "execute_result"
    }
   ],
   "source": [
    "train_x = train_x[['Temp', 'Sun']]\n",
    "train_x.head()"
   ]
  },
  {
   "cell_type": "code",
   "execution_count": 48,
   "metadata": {},
   "outputs": [
    {
     "data": {
      "text/plain": [
       "array([[0.20895522, 0.        ],\n",
       "       [0.21641791, 0.        ],\n",
       "       [0.20149254, 0.        ],\n",
       "       [0.17164179, 0.        ],\n",
       "       [0.1641791 , 0.        ],\n",
       "       [0.15671642, 0.        ],\n",
       "       [0.14179104, 0.        ],\n",
       "       [0.15671642, 0.1       ],\n",
       "       [0.2238806 , 0.3       ],\n",
       "       [0.3358209 , 0.7       ],\n",
       "       [0.42537313, 1.        ],\n",
       "       [0.54477612, 1.        ],\n",
       "       [0.61940299, 1.        ],\n",
       "       [0.61940299, 1.        ],\n",
       "       [0.65671642, 1.        ],\n",
       "       [0.67164179, 1.        ],\n",
       "       [0.71641791, 1.        ],\n",
       "       [0.65671642, 1.        ],\n",
       "       [0.58955224, 1.        ],\n",
       "       [0.48507463, 1.        ],\n",
       "       [0.37313433, 0.4       ],\n",
       "       [0.28358209, 0.        ],\n",
       "       [0.23134328, 0.        ],\n",
       "       [0.17910448, 0.        ],\n",
       "       [0.13432836, 0.        ],\n",
       "       [0.10447761, 0.        ],\n",
       "       [0.08208955, 0.        ],\n",
       "       [0.06716418, 0.        ],\n",
       "       [0.05223881, 0.        ],\n",
       "       [0.        , 0.        ],\n",
       "       [0.01492537, 0.        ],\n",
       "       [0.05223881, 0.        ],\n",
       "       [0.08955224, 0.        ],\n",
       "       [0.15671642, 0.        ],\n",
       "       [0.18656716, 0.        ],\n",
       "       [0.20149254, 0.        ],\n",
       "       [0.1119403 , 0.        ],\n",
       "       [0.20149254, 0.        ],\n",
       "       [0.41791045, 0.1       ],\n",
       "       [0.45522388, 0.        ],\n",
       "       [0.51492537, 0.1       ],\n",
       "       [0.47761194, 0.        ],\n",
       "       [0.43283582, 0.        ],\n",
       "       [0.41044776, 0.        ],\n",
       "       [0.38059701, 0.        ],\n",
       "       [0.35820896, 0.        ],\n",
       "       [0.3358209 , 0.        ],\n",
       "       [0.31343284, 0.        ],\n",
       "       [0.26865672, 0.        ],\n",
       "       [0.26119403, 0.        ],\n",
       "       [0.25373134, 0.        ],\n",
       "       [0.25373134, 0.        ],\n",
       "       [0.24626866, 0.        ],\n",
       "       [0.24626866, 0.        ],\n",
       "       [0.20895522, 0.        ],\n",
       "       [0.26119403, 0.3       ],\n",
       "       [0.36567164, 0.9       ],\n",
       "       [0.44776119, 0.4       ],\n",
       "       [0.53731343, 0.2       ],\n",
       "       [0.61940299, 0.3       ],\n",
       "       [0.71641791, 0.6       ],\n",
       "       [0.84328358, 1.        ],\n",
       "       [0.89552239, 1.        ],\n",
       "       [0.97761194, 1.        ],\n",
       "       [1.        , 1.        ],\n",
       "       [0.99253731, 1.        ],\n",
       "       [0.84328358, 1.        ],\n",
       "       [0.67164179, 0.8       ],\n",
       "       [0.46268657, 0.        ],\n",
       "       [0.42537313, 0.        ],\n",
       "       [0.41791045, 0.        ],\n",
       "       [0.39552239, 0.        ],\n",
       "       [0.39552239, 0.        ],\n",
       "       [0.3880597 , 0.        ],\n",
       "       [0.39552239, 0.        ],\n",
       "       [0.41791045, 0.        ],\n",
       "       [0.42537313, 0.        ],\n",
       "       [0.41044776, 0.        ],\n",
       "       [0.39552239, 0.        ],\n",
       "       [0.39552239, 0.        ],\n",
       "       [0.39552239, 0.        ],\n",
       "       [0.43283582, 0.        ],\n",
       "       [0.56716418, 0.5       ],\n",
       "       [0.67910448, 0.6       ],\n",
       "       [0.76119403, 0.8       ],\n",
       "       [0.8358209 , 1.        ],\n",
       "       [0.86567164, 1.        ],\n",
       "       [0.79104478, 0.5       ]])"
      ]
     },
     "execution_count": 48,
     "metadata": {},
     "output_type": "execute_result"
    }
   ],
   "source": [
    "scaler = MinMaxScaler()\n",
    "train_x = scaler.fit_transform(train_x)\n",
    "train_x"
   ]
  },
  {
   "cell_type": "code",
   "execution_count": 38,
   "metadata": {},
   "outputs": [
    {
     "data": {
      "text/plain": [
       "(88, 2)"
      ]
     },
     "execution_count": 38,
     "metadata": {},
     "output_type": "execute_result"
    }
   ],
   "source": [
    "train_x.shape"
   ]
  },
  {
   "cell_type": "markdown",
   "metadata": {},
   "source": [
    "# 모델링"
   ]
  },
  {
   "cell_type": "markdown",
   "metadata": {},
   "source": [
    "## 학습 \n",
    "\n",
    "이제 모델링을 해봅시다.\n",
    "\n",
    "앞서 다룬 여러 regression 모델들(Linear regression, Ridge Regression, Lasso Regression, ..)을 이용해서 fit을 진행해보도록 합시다."
   ]
  },
  {
   "cell_type": "code",
   "execution_count": 40,
   "metadata": {
    "id": "nCd88UXEQFdZ"
   },
   "outputs": [],
   "source": [
    "from sklearn.linear_model import Ridge\n",
    "from sklearn.preprocessing import PolynomialFeatures\n",
    "from sklearn.linear_model import Lasso"
   ]
  },
  {
   "cell_type": "code",
   "execution_count": 41,
   "metadata": {
    "scrolled": true
   },
   "outputs": [
    {
     "data": {
      "text/plain": [
       "array([[0.20895522, 0.        ],\n",
       "       [0.21641791, 0.        ],\n",
       "       [0.20149254, 0.        ],\n",
       "       [0.17164179, 0.        ],\n",
       "       [0.1641791 , 0.        ],\n",
       "       [0.15671642, 0.        ],\n",
       "       [0.14179104, 0.        ],\n",
       "       [0.15671642, 0.1       ],\n",
       "       [0.2238806 , 0.3       ],\n",
       "       [0.3358209 , 0.7       ],\n",
       "       [0.42537313, 1.        ],\n",
       "       [0.54477612, 1.        ],\n",
       "       [0.61940299, 1.        ],\n",
       "       [0.61940299, 1.        ],\n",
       "       [0.65671642, 1.        ],\n",
       "       [0.67164179, 1.        ],\n",
       "       [0.71641791, 1.        ],\n",
       "       [0.65671642, 1.        ],\n",
       "       [0.58955224, 1.        ],\n",
       "       [0.48507463, 1.        ],\n",
       "       [0.37313433, 0.4       ],\n",
       "       [0.28358209, 0.        ],\n",
       "       [0.23134328, 0.        ],\n",
       "       [0.17910448, 0.        ],\n",
       "       [0.13432836, 0.        ],\n",
       "       [0.10447761, 0.        ],\n",
       "       [0.08208955, 0.        ],\n",
       "       [0.06716418, 0.        ],\n",
       "       [0.05223881, 0.        ],\n",
       "       [0.        , 0.        ],\n",
       "       [0.01492537, 0.        ],\n",
       "       [0.05223881, 0.        ],\n",
       "       [0.08955224, 0.        ],\n",
       "       [0.15671642, 0.        ],\n",
       "       [0.18656716, 0.        ],\n",
       "       [0.20149254, 0.        ],\n",
       "       [0.1119403 , 0.        ],\n",
       "       [0.20149254, 0.        ],\n",
       "       [0.41791045, 0.1       ],\n",
       "       [0.45522388, 0.        ],\n",
       "       [0.51492537, 0.1       ],\n",
       "       [0.47761194, 0.        ],\n",
       "       [0.43283582, 0.        ],\n",
       "       [0.41044776, 0.        ],\n",
       "       [0.38059701, 0.        ],\n",
       "       [0.35820896, 0.        ],\n",
       "       [0.3358209 , 0.        ],\n",
       "       [0.31343284, 0.        ],\n",
       "       [0.26865672, 0.        ],\n",
       "       [0.26119403, 0.        ],\n",
       "       [0.25373134, 0.        ],\n",
       "       [0.25373134, 0.        ],\n",
       "       [0.24626866, 0.        ],\n",
       "       [0.24626866, 0.        ],\n",
       "       [0.20895522, 0.        ],\n",
       "       [0.26119403, 0.3       ],\n",
       "       [0.36567164, 0.9       ],\n",
       "       [0.44776119, 0.4       ],\n",
       "       [0.53731343, 0.2       ],\n",
       "       [0.61940299, 0.3       ],\n",
       "       [0.71641791, 0.6       ],\n",
       "       [0.84328358, 1.        ],\n",
       "       [0.89552239, 1.        ],\n",
       "       [0.97761194, 1.        ],\n",
       "       [1.        , 1.        ],\n",
       "       [0.99253731, 1.        ],\n",
       "       [0.84328358, 1.        ],\n",
       "       [0.67164179, 0.8       ],\n",
       "       [0.46268657, 0.        ],\n",
       "       [0.42537313, 0.        ],\n",
       "       [0.41791045, 0.        ],\n",
       "       [0.39552239, 0.        ],\n",
       "       [0.39552239, 0.        ],\n",
       "       [0.3880597 , 0.        ],\n",
       "       [0.39552239, 0.        ],\n",
       "       [0.41791045, 0.        ],\n",
       "       [0.42537313, 0.        ],\n",
       "       [0.41044776, 0.        ],\n",
       "       [0.39552239, 0.        ],\n",
       "       [0.39552239, 0.        ],\n",
       "       [0.39552239, 0.        ],\n",
       "       [0.43283582, 0.        ],\n",
       "       [0.56716418, 0.5       ],\n",
       "       [0.67910448, 0.6       ],\n",
       "       [0.76119403, 0.8       ],\n",
       "       [0.8358209 , 1.        ],\n",
       "       [0.86567164, 1.        ],\n",
       "       [0.79104478, 0.5       ]])"
      ]
     },
     "execution_count": 41,
     "metadata": {},
     "output_type": "execute_result"
    }
   ],
   "source": [
    "train_x"
   ]
  },
  {
   "cell_type": "code",
   "execution_count": 42,
   "metadata": {
    "scrolled": true
   },
   "outputs": [
    {
     "data": {
      "text/plain": [
       "array([8179.056, 8135.64 , 8107.128, 8048.808, 8043.624, 8010.576,\n",
       "       7978.176, 8019.   , 8020.944, 8083.152, 8116.2  , 8104.536,\n",
       "       8088.984, 8102.592, 8088.336, 8076.672, 8032.608, 8013.816,\n",
       "       8029.368, 8028.072, 7994.376, 7974.936, 7972.992, 7945.128,\n",
       "       7920.504, 7890.048, 7868.016, 7847.28 , 7799.328, 7801.92 ,\n",
       "       7784.424, 7836.912, 7873.2  , 7914.024, 7973.64 , 7989.84 ,\n",
       "       7935.408, 7923.744, 7966.512, 7996.32 , 8053.992, 8061.12 ,\n",
       "       8059.176, 8061.12 , 8066.952, 8111.664, 8140.824, 8120.088,\n",
       "       8114.904, 8094.816, 8090.28 , 8091.576, 8057.88 , 8038.44 ,\n",
       "       8019.648, 8094.816, 8151.84 , 8201.088, 8261.352, 8278.2  ,\n",
       "       8319.672, 8363.736, 8458.992, 8483.616, 8506.944, 8530.92 ,\n",
       "       8655.984, 8461.584, 8344.296, 8322.912, 8271.72 , 8255.52 ,\n",
       "       8254.872, 8230.896, 8245.8  , 8257.464, 8240.616, 8308.008,\n",
       "       8262.   , 8296.992, 8328.096, 8347.536, 8363.736, 8386.416,\n",
       "       8435.664, 8591.184, 8638.488, 8663.112])"
      ]
     },
     "execution_count": 42,
     "metadata": {},
     "output_type": "execute_result"
    }
   ],
   "source": [
    "train_y = np.array(train_y)\n",
    "train_y"
   ]
  },
  {
   "cell_type": "code",
   "execution_count": 56,
   "metadata": {},
   "outputs": [],
   "source": [
    "from sklearn.linear_model import LinearRegression\n",
    "regressor = LinearRegression()\n",
    "linear_model = regressor.fit(train_x, train_y)"
   ]
  },
  {
   "cell_type": "markdown",
   "metadata": {},
   "source": [
    "## 추정\n",
    "\n",
    "이제 train_x를 이용하여 전력사용량을 추정해보도록 합시다."
   ]
  },
  {
   "cell_type": "code",
   "execution_count": 57,
   "metadata": {},
   "outputs": [],
   "source": [
    "linear_esti_y = linear_model.predict(train_x)"
   ]
  },
  {
   "cell_type": "markdown",
   "metadata": {},
   "source": [
    "# Loss 및 시각화\n",
    "\n",
    "앞서 fitting하여 얻은 모델을 이용하여 추정한 값으로 MSE를 측정해봅시다. 변수를 하나만 사용하신 분들은 xy 평면에 한번 같이 시각화도 해보셔도 좋습니다."
   ]
  },
  {
   "cell_type": "code",
   "execution_count": 58,
   "metadata": {},
   "outputs": [],
   "source": [
    "def mse(pred, true):\n",
    "    return np.mean((pred-true)**2)"
   ]
  },
  {
   "cell_type": "code",
   "execution_count": 59,
   "metadata": {},
   "outputs": [
    {
     "name": "stdout",
     "output_type": "stream",
     "text": [
      "Linear 11423.54088\n"
     ]
    }
   ],
   "source": [
    "train_mse = mse(linear_esti_y, train_y)\n",
    "print(f\"Linear {train_mse:.5f}\")"
   ]
  },
  {
   "cell_type": "code",
   "execution_count": 60,
   "metadata": {
    "id": "ThKWK_QdUIyo"
   },
   "outputs": [],
   "source": [
    "def visualize(model, x, y):\n",
    "    if x.shape[1] != 1:\n",
    "        return None\n",
    "    beta = model.coef_[0]\n",
    "    intercept = model.intercept_\n",
    "    \n",
    "    x_axis = np.linspace(np.min(x), np.max(x), 100)\n",
    "    fit = intercept * x_axis**0 + beta*x_axis \n",
    "\n",
    "    plt.figure(figsize=(8,6))\n",
    "    plt.plot(x_axis, fit, label='Predict', c='r', linewidth=3)\n",
    "    plt.scatter(x, y, c='blue')\n",
    "    plt.legend()\n",
    "    plt.show()"
   ]
  },
  {
   "cell_type": "code",
   "execution_count": 61,
   "metadata": {},
   "outputs": [],
   "source": [
    "visualize(linear_model, train_x, train_y)"
   ]
  },
  {
   "cell_type": "markdown",
   "metadata": {},
   "source": [
    "# 예측"
   ]
  },
  {
   "cell_type": "markdown",
   "metadata": {
    "id": "T-6Xv53GXm4K"
   },
   "source": [
    "테스트셋에 대해서 한번 **예측**해보도록 합시다.\n",
    "\n",
    "이미 fitting된 모델 (그리고 scaler를 사용하신다면 scaler)에 대해 **fit을 하지 말고** 단순히 predict만 진행해보도록 합시다. \n",
    "\n",
    "scaler는 transform만 하시고 model은 predict을 진행해주세요"
   ]
  },
  {
   "cell_type": "code",
   "execution_count": 62,
   "metadata": {
    "id": "YTwIN94ZYlhU"
   },
   "outputs": [],
   "source": [
    "test_x = scaler.transform(test_x[['Temp', 'Sun']])"
   ]
  },
  {
   "cell_type": "code",
   "execution_count": 64,
   "metadata": {},
   "outputs": [],
   "source": [
    "pred_y = linear_model.predict(test_x)"
   ]
  },
  {
   "cell_type": "markdown",
   "metadata": {},
   "source": [
    "# 성능 평가\n",
    "\n",
    "한번 학습한 모델에 대해 test_y를 이용하여 mse loss를 측정해도도록 합시다."
   ]
  },
  {
   "cell_type": "code",
   "execution_count": 65,
   "metadata": {},
   "outputs": [],
   "source": [
    "def score(train_mse, test_mse):\n",
    "    print(f\"{test_mse/train_mse: .4f}\")"
   ]
  },
  {
   "cell_type": "code",
   "execution_count": 66,
   "metadata": {
    "scrolled": true
   },
   "outputs": [
    {
     "name": "stdout",
     "output_type": "stream",
     "text": [
      "Linear 141209.94067\n"
     ]
    }
   ],
   "source": [
    "test_mse = mse(pred_y, test_y)\n",
    "print(f\"Linear {test_mse:.5f}\")"
   ]
  },
  {
   "cell_type": "code",
   "execution_count": 67,
   "metadata": {},
   "outputs": [
    {
     "name": "stdout",
     "output_type": "stream",
     "text": [
      " 12.3613\n"
     ]
    }
   ],
   "source": [
    "score(train_mse,test_mse)"
   ]
  },
  {
   "cell_type": "code",
   "execution_count": 69,
   "metadata": {
    "id": "hHQz6NrkXmtW"
   },
   "outputs": [],
   "source": [
    "visualize(linear_model, test_x, test_y)"
   ]
  },
  {
   "cell_type": "markdown",
   "metadata": {},
   "source": [
    "# 그 이후\n",
    "\n",
    "이제 여러분들은 한번 모델을 만들어보고 fitting한 다음 예측까지 해보셨습니다.\n",
    "\n",
    "이제 개선하기 위해 1.데이터부터 5.성능평가 중 수정, 변경하실 부분을 업데이트 해서  최적의 모델을 찾아보세요!\n",
    "\n",
    "현재 사용하고 있는 scaler, model부터 전처리과정 기타 여러 조건을 조작해보시고 어떤 효과가 있는지 한번 보시고 알려주세요:D"
   ]
  },
  {
   "cell_type": "markdown",
   "metadata": {},
   "source": [
    "고생하셨습니다!"
   ]
  }
 ],
 "metadata": {
  "colab": {
   "authorship_tag": "ABX9TyOgug4KEXAF4mJb0CKcc9BQ",
   "collapsed_sections": [],
   "mount_file_id": "1Y2yJV5xqiiXMIdvOZmbHCI4AoGjowvm5",
   "name": "220203_Supervised_Learning_과제.ipynb",
   "provenance": []
  },
  "kernelspec": {
   "display_name": "Python 3 (ipykernel)",
   "language": "python",
   "name": "python3"
  },
  "language_info": {
   "codemirror_mode": {
    "name": "ipython",
    "version": 3
   },
   "file_extension": ".py",
   "mimetype": "text/x-python",
   "name": "python",
   "nbconvert_exporter": "python",
   "pygments_lexer": "ipython3",
   "version": "3.10.3"
  },
  "toc": {
   "base_numbering": 1,
   "nav_menu": {},
   "number_sections": true,
   "sideBar": true,
   "skip_h1_title": false,
   "title_cell": "Table of Contents",
   "title_sidebar": "Contents",
   "toc_cell": false,
   "toc_position": {
    "height": "calc(100% - 180px)",
    "left": "10px",
    "top": "150px",
    "width": "300.792px"
   },
   "toc_section_display": true,
   "toc_window_display": true
  }
 },
 "nbformat": 4,
 "nbformat_minor": 1
}
