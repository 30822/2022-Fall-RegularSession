{
 "cells": [
  {
   "cell_type": "code",
   "execution_count": 1,
   "id": "4d6284f9",
   "metadata": {},
   "outputs": [],
   "source": [
    "import numpy as np\n",
    "import pandas as pd\n",
    "import matplotlib.pyplot as plt"
   ]
  },
  {
   "cell_type": "markdown",
   "id": "4a4fed0c",
   "metadata": {},
   "source": [
    "# 데이터"
   ]
  },
  {
   "cell_type": "code",
   "execution_count": 2,
   "id": "9b191e4b",
   "metadata": {},
   "outputs": [],
   "source": [
    "var_name = ['Temp', 'Wind', 'Moisture', 'Precipitation', 'Sun']\n",
    "target = 'Wh'"
   ]
  },
  {
   "cell_type": "code",
   "execution_count": 3,
   "id": "469f7efd",
   "metadata": {},
   "outputs": [],
   "source": [
    "def parsing(data: pd.DataFrame):\n",
    "    x = data.iloc[:, 3:8]\n",
    "    x.columns = var_name\n",
    "    y = data.iloc[:, 2]\n",
    "    y.name = target\n",
    "    \n",
    "    return x, y"
   ]
  },
  {
   "cell_type": "code",
   "execution_count": 4,
   "id": "f4a7c95a",
   "metadata": {},
   "outputs": [],
   "source": [
    "def load_data():\n",
    "    data = pd.read_csv('C:/Users/sec/Desktop/DSL/train.csv', encoding='cp949')\n",
    "    data = data[: 100]\n",
    "    x, y = parsing(data)    \n",
    "    cut = int(round(len(x)*0.88))\n",
    "    tr_x = x[:cut]\n",
    "    tr_y = y[:cut]\n",
    "    te_x = x[cut:]\n",
    "    te_y = y[cut:]\n",
    "    return tr_x, tr_y, te_x, te_y"
   ]
  },
  {
   "cell_type": "code",
   "execution_count": 47,
   "id": "5e8583d5",
   "metadata": {},
   "outputs": [],
   "source": [
    "train_x, train_y, test_x, test_y = load_data()"
   ]
  },
  {
   "cell_type": "markdown",
   "id": "b384eaa7",
   "metadata": {},
   "source": [
    "## 데이터 확인"
   ]
  },
  {
   "cell_type": "code",
   "execution_count": 6,
   "id": "74c725b2",
   "metadata": {},
   "outputs": [
    {
     "name": "stdout",
     "output_type": "stream",
     "text": [
      "   Temp  Wind  Moisture  Precipitation  Sun\n",
      "0  17.6   2.5      92.0            0.8  0.0\n",
      "1  17.7   2.9      91.0            0.3  0.0\n",
      "2  17.5   3.2      91.0            0.0  0.0\n",
      "3  17.1   3.2      91.0            0.0  0.0\n",
      "4  17.0   3.3      92.0            0.0  0.0\n",
      "0    8179.056\n",
      "1    8135.640\n",
      "2    8107.128\n",
      "3    8048.808\n",
      "4    8043.624\n",
      "Name: Wh, dtype: float64\n"
     ]
    }
   ],
   "source": [
    "print(train_x.head()) \n",
    "print(train_y.head())"
   ]
  },
  {
   "cell_type": "code",
   "execution_count": 7,
   "id": "16081c04",
   "metadata": {},
   "outputs": [
    {
     "data": {
      "text/html": [
       "<div>\n",
       "<style scoped>\n",
       "    .dataframe tbody tr th:only-of-type {\n",
       "        vertical-align: middle;\n",
       "    }\n",
       "\n",
       "    .dataframe tbody tr th {\n",
       "        vertical-align: top;\n",
       "    }\n",
       "\n",
       "    .dataframe thead th {\n",
       "        text-align: right;\n",
       "    }\n",
       "</style>\n",
       "<table border=\"1\" class=\"dataframe\">\n",
       "  <thead>\n",
       "    <tr style=\"text-align: right;\">\n",
       "      <th></th>\n",
       "      <th>Temp</th>\n",
       "      <th>Wind</th>\n",
       "      <th>Moisture</th>\n",
       "      <th>Precipitation</th>\n",
       "      <th>Sun</th>\n",
       "    </tr>\n",
       "  </thead>\n",
       "  <tbody>\n",
       "    <tr>\n",
       "      <th>count</th>\n",
       "      <td>88.000000</td>\n",
       "      <td>88.000000</td>\n",
       "      <td>88.000000</td>\n",
       "      <td>88.000000</td>\n",
       "      <td>88.000000</td>\n",
       "    </tr>\n",
       "    <tr>\n",
       "      <th>mean</th>\n",
       "      <td>20.243182</td>\n",
       "      <td>2.630682</td>\n",
       "      <td>71.022727</td>\n",
       "      <td>0.038636</td>\n",
       "      <td>0.290909</td>\n",
       "    </tr>\n",
       "    <tr>\n",
       "      <th>std</th>\n",
       "      <td>3.284229</td>\n",
       "      <td>1.082712</td>\n",
       "      <td>15.966903</td>\n",
       "      <td>0.220986</td>\n",
       "      <td>0.415404</td>\n",
       "    </tr>\n",
       "    <tr>\n",
       "      <th>min</th>\n",
       "      <td>14.800000</td>\n",
       "      <td>0.400000</td>\n",
       "      <td>39.000000</td>\n",
       "      <td>0.000000</td>\n",
       "      <td>0.000000</td>\n",
       "    </tr>\n",
       "    <tr>\n",
       "      <th>25%</th>\n",
       "      <td>17.600000</td>\n",
       "      <td>2.000000</td>\n",
       "      <td>59.500000</td>\n",
       "      <td>0.000000</td>\n",
       "      <td>0.000000</td>\n",
       "    </tr>\n",
       "    <tr>\n",
       "      <th>50%</th>\n",
       "      <td>20.100000</td>\n",
       "      <td>2.500000</td>\n",
       "      <td>74.500000</td>\n",
       "      <td>0.000000</td>\n",
       "      <td>0.000000</td>\n",
       "    </tr>\n",
       "    <tr>\n",
       "      <th>75%</th>\n",
       "      <td>22.175000</td>\n",
       "      <td>3.200000</td>\n",
       "      <td>84.500000</td>\n",
       "      <td>0.000000</td>\n",
       "      <td>0.625000</td>\n",
       "    </tr>\n",
       "    <tr>\n",
       "      <th>max</th>\n",
       "      <td>28.200000</td>\n",
       "      <td>5.500000</td>\n",
       "      <td>93.000000</td>\n",
       "      <td>1.900000</td>\n",
       "      <td>1.000000</td>\n",
       "    </tr>\n",
       "  </tbody>\n",
       "</table>\n",
       "</div>"
      ],
      "text/plain": [
       "            Temp       Wind   Moisture  Precipitation        Sun\n",
       "count  88.000000  88.000000  88.000000      88.000000  88.000000\n",
       "mean   20.243182   2.630682  71.022727       0.038636   0.290909\n",
       "std     3.284229   1.082712  15.966903       0.220986   0.415404\n",
       "min    14.800000   0.400000  39.000000       0.000000   0.000000\n",
       "25%    17.600000   2.000000  59.500000       0.000000   0.000000\n",
       "50%    20.100000   2.500000  74.500000       0.000000   0.000000\n",
       "75%    22.175000   3.200000  84.500000       0.000000   0.625000\n",
       "max    28.200000   5.500000  93.000000       1.900000   1.000000"
      ]
     },
     "execution_count": 7,
     "metadata": {},
     "output_type": "execute_result"
    }
   ],
   "source": [
    "train_x.describe()"
   ]
  },
  {
   "cell_type": "code",
   "execution_count": 8,
   "id": "a3f02054",
   "metadata": {},
   "outputs": [],
   "source": [
    "train_x = train_x"
   ]
  },
  {
   "cell_type": "markdown",
   "id": "9c650453",
   "metadata": {},
   "source": [
    "최종 선택한 변수(들)이 왜 선택받았는지 간단히 알려주세요.<br>\n",
    "답변 : 모든 설명변수들이 전력 사용량과 상관이 있을 것으로 생각됩니다. 맞추어야 할 레이블이 전력사용량이므로, 해당 일자의 날씨와 관련된 변수들은 모두 상관이 있을 것 같습니다."
   ]
  },
  {
   "cell_type": "markdown",
   "id": "9df2840f",
   "metadata": {},
   "source": [
    "## 전처리"
   ]
  },
  {
   "cell_type": "code",
   "execution_count": 9,
   "id": "ce67e1c9",
   "metadata": {},
   "outputs": [],
   "source": [
    "from sklearn.preprocessing import StandardScaler"
   ]
  },
  {
   "cell_type": "code",
   "execution_count": 48,
   "id": "b079de4d",
   "metadata": {},
   "outputs": [
    {
     "data": {
      "text/plain": [
       "(88, 5)"
      ]
     },
     "execution_count": 48,
     "metadata": {},
     "output_type": "execute_result"
    }
   ],
   "source": [
    "train_x.shape"
   ]
  },
  {
   "cell_type": "code",
   "execution_count": 49,
   "id": "30e7906a",
   "metadata": {},
   "outputs": [
    {
     "name": "stdout",
     "output_type": "stream",
     "text": [
      "[[-0.80942259 -0.12139024  1.32132616  3.46504346 -0.70431807]\n",
      " [-0.77879955  0.25016944  1.2583377   1.18949253 -0.70431807]\n",
      " [-0.84004563  0.5288392   1.2583377  -0.17583803 -0.70431807]\n",
      " [-0.96253778  0.5288392   1.2583377  -0.17583803 -0.70431807]\n",
      " [-0.99316082  0.62172912  1.32132616 -0.17583803 -0.70431807]\n",
      " [-1.02378386  0.71461904  1.38431463 -0.17583803 -0.70431807]\n",
      " [-1.08502994  0.71461904  1.19534924  0.27927216 -0.70431807]\n",
      " [-1.02378386 -0.30717008  0.94339539 -0.17583803 -0.46220873]\n",
      " [-0.74817651  0.62172912  0.56546461 -0.17583803  0.02200994]\n",
      " [-0.28883093 -0.49294992  0.12454537 -0.17583803  0.99044729]]\n"
     ]
    }
   ],
   "source": [
    "scaler = StandardScaler()\n",
    "scaler = scaler.fit(train_x)\n",
    "train_x = scaler.transform(train_x)\n",
    "\n",
    "print(train_x[:10])"
   ]
  },
  {
   "cell_type": "markdown",
   "id": "0134101f",
   "metadata": {},
   "source": [
    "# 모델링"
   ]
  },
  {
   "cell_type": "markdown",
   "id": "c1a60844",
   "metadata": {},
   "source": [
    "## 학습"
   ]
  },
  {
   "cell_type": "code",
   "execution_count": 12,
   "id": "6adc2c1b",
   "metadata": {},
   "outputs": [],
   "source": [
    "from sklearn.linear_model import LinearRegression"
   ]
  },
  {
   "cell_type": "code",
   "execution_count": 50,
   "id": "c75416f1",
   "metadata": {},
   "outputs": [
    {
     "data": {
      "text/plain": [
       "LinearRegression()"
      ]
     },
     "execution_count": 50,
     "metadata": {},
     "output_type": "execute_result"
    }
   ],
   "source": [
    "model = LinearRegression()\n",
    "model.fit(train_x, train_y)"
   ]
  },
  {
   "cell_type": "markdown",
   "id": "2370d439",
   "metadata": {},
   "source": [
    "## 추정"
   ]
  },
  {
   "cell_type": "code",
   "execution_count": 51,
   "id": "13e47a4d",
   "metadata": {
    "scrolled": true
   },
   "outputs": [
    {
     "name": "stdout",
     "output_type": "stream",
     "text": [
      "[8133.35102092 8132.9800409  8118.12720673 8086.5289122  8088.47708072\n",
      " 8090.42524923 8050.72345826 8009.47400661 8033.18574377 8051.05601898\n",
      " 8055.07877999 8100.86259792 8160.73814354 8118.60604045 8133.02769749\n",
      " 8163.14160222 8164.95517929 8139.32213582 8072.11769485 7979.7301432\n",
      " 7930.80077424 7893.68494753 7889.45406585 7884.30947266 7881.10843268\n",
      " 7862.67430841 7851.80133988 7825.57915687 7825.58377218 7776.24277719\n",
      " 7805.44297041 7816.31132363 7851.00375857 7893.13198842 7874.57786071\n",
      " 7933.65969827 7949.21698119 7910.98620377 8005.3153282  8012.39696646\n",
      " 8057.28206958 8110.9859028  8075.26362616 8084.08614192 8088.90080577\n",
      " 8101.03974964 8103.33095136 8113.98089013 8109.55070094 8121.6620493\n",
      " 8135.86067657 8128.41565104 8106.77661354 8112.15734037 8067.61716329\n",
      " 8117.21843163 8144.27188739 8193.45184971 8284.22660716 8335.17924559\n",
      " 8342.05927131 8421.07568279 8442.02403855 8542.65881236 8537.38960042\n",
      " 8552.73881489 8497.11648544 8398.88525791 8332.44627854 8270.03804017\n",
      " 8251.71543079 8225.03869968 8214.61566393 8233.85660013 8232.24684952\n",
      " 8296.4871262  8312.17014327 8321.44720712 8321.71167834 8300.26733303\n",
      " 8312.43922979 8353.16624715 8342.07509766 8389.12678375 8426.57336947\n",
      " 8468.37084031 8510.39217059 8517.81001282]\n"
     ]
    }
   ],
   "source": [
    "esti_y = model.predict(train_x)\n",
    "print(esti_y)"
   ]
  },
  {
   "cell_type": "markdown",
   "id": "98f6cd42",
   "metadata": {},
   "source": [
    "# Loss 및 시각화"
   ]
  },
  {
   "cell_type": "code",
   "execution_count": 15,
   "id": "cdc1ce05",
   "metadata": {},
   "outputs": [],
   "source": [
    "def mse(pred, true):\n",
    "    return np.mean((pred-true)**2)"
   ]
  },
  {
   "cell_type": "code",
   "execution_count": 52,
   "id": "8205d855",
   "metadata": {},
   "outputs": [
    {
     "name": "stdout",
     "output_type": "stream",
     "text": [
      "Linear 2832.76020\n"
     ]
    }
   ],
   "source": [
    "train_mse = mse(esti_y, train_y)\n",
    "print(f\"Linear {train_mse:.5f}\")"
   ]
  },
  {
   "cell_type": "markdown",
   "id": "b04b1504",
   "metadata": {},
   "source": [
    "# 예측"
   ]
  },
  {
   "cell_type": "code",
   "execution_count": 53,
   "id": "4c607256",
   "metadata": {},
   "outputs": [
    {
     "name": "stdout",
     "output_type": "stream",
     "text": [
      "[[ 2.04027348  1.38334315 -2.0781156   0.         -0.42008403]\n",
      " [ 1.35673008  1.93301593 -1.34895223  0.          1.26025208]\n",
      " [ 1.10816884  0.83367038 -1.05728689  0.          2.94058818]\n",
      " [ 0.42462544  1.05353949 -0.61978886  0.         -0.42008403]\n",
      " [ 0.23820452  0.17406305 -0.18229084  0.         -0.42008403]\n",
      " [-0.13463734 -0.48554428  0.25520718  0.         -0.42008403]\n",
      " [-0.44533888 -0.81534795  0.6927052   0.         -0.42008403]\n",
      " [-0.69390012 -1.03521706  0.98437055  0.         -0.42008403]\n",
      " [-0.81818073 -0.37560973  0.83853788  0.         -0.42008403]\n",
      " [-0.94246135 -1.03521706  0.83853788  0.         -0.42008403]\n",
      " [-1.06674197 -0.81534795  0.83853788  0.         -0.42008403]\n",
      " [-1.06674197 -0.81534795  0.83853788  0.         -0.42008403]]\n"
     ]
    }
   ],
   "source": [
    "scaler = StandardScaler()\n",
    "scaler = scaler.fit(test_x)\n",
    "test_x = scaler.transform(test_x)\n",
    "\n",
    "print(test_x)"
   ]
  },
  {
   "cell_type": "code",
   "execution_count": 54,
   "id": "9f80a796",
   "metadata": {
    "scrolled": true
   },
   "outputs": [
    {
     "name": "stdout",
     "output_type": "stream",
     "text": [
      "[8425.41855012 8312.59757107 8227.49480815 8196.88027223 8192.75013721\n",
      " 8144.05498146 8116.67633118 8087.73734777 8046.89867454 8004.2656636\n",
      " 7975.7304677  7975.7304677 ]\n"
     ]
    }
   ],
   "source": [
    "pred_y = model.predict(test_x)\n",
    "print(pred_y)"
   ]
  },
  {
   "cell_type": "markdown",
   "id": "c6ccb3ed",
   "metadata": {},
   "source": [
    "# 성능 평가"
   ]
  },
  {
   "cell_type": "code",
   "execution_count": 19,
   "id": "29a8aa8a",
   "metadata": {},
   "outputs": [],
   "source": [
    "def score(train_mse, test_mse):\n",
    "    print(f\"{test_mse/train_mse: .4f}\")"
   ]
  },
  {
   "cell_type": "code",
   "execution_count": 55,
   "id": "c2f77f1e",
   "metadata": {},
   "outputs": [
    {
     "name": "stdout",
     "output_type": "stream",
     "text": [
      "Linear 240434.46017\n"
     ]
    }
   ],
   "source": [
    "test_mse = mse(pred_y, test_y)\n",
    "print(f\"Linear {test_mse:.5f}\")"
   ]
  },
  {
   "cell_type": "code",
   "execution_count": 56,
   "id": "87e58317",
   "metadata": {},
   "outputs": [
    {
     "name": "stdout",
     "output_type": "stream",
     "text": [
      " 84.8764\n"
     ]
    }
   ],
   "source": [
    "score(train_mse,test_mse)"
   ]
  },
  {
   "cell_type": "markdown",
   "id": "71a9dafc",
   "metadata": {},
   "source": [
    "# 그 이후"
   ]
  },
  {
   "cell_type": "markdown",
   "id": "0b205215",
   "metadata": {},
   "source": [
    "## 비선형적 관계?"
   ]
  },
  {
   "cell_type": "code",
   "execution_count": 57,
   "id": "167454c5",
   "metadata": {},
   "outputs": [],
   "source": [
    "from sklearn.preprocessing import PolynomialFeatures"
   ]
  },
  {
   "cell_type": "code",
   "execution_count": 65,
   "id": "c63bc913",
   "metadata": {},
   "outputs": [
    {
     "data": {
      "text/plain": [
       "(88, 21)"
      ]
     },
     "execution_count": 65,
     "metadata": {},
     "output_type": "execute_result"
    }
   ],
   "source": [
    "polynomial = PolynomialFeatures(2)\n",
    "x_poly = polynomial.fit_transform(train_x)\n",
    "x_poly.shape"
   ]
  },
  {
   "cell_type": "code",
   "execution_count": 66,
   "id": "a6657b79",
   "metadata": {},
   "outputs": [
    {
     "name": "stdout",
     "output_type": "stream",
     "text": [
      "[8179.59783647 8117.64343625 8068.26560008 8030.43937504 8027.61418213\n",
      " 8024.67055675 8008.83241178 7968.84708619 8027.51761006 8058.92964532\n",
      " 8106.73819305 8111.15038939 8151.93868142 8077.04739583 8059.84143355\n",
      " 8097.76809146 8051.52453243 8074.7712812  8028.71983927 7978.59164995\n",
      " 7948.883988   7954.78748192 7955.65456433 7938.55488619 7916.30117146\n",
      " 7889.23053156 7873.77940125 7854.94891176 7847.08250067 7807.2650867\n",
      " 7824.22492515 7851.01548359 7883.69772364 7930.51329198 7933.90428044\n",
      " 7964.03559484 7935.63500743 7955.84813443 7998.27257077 8011.12236569\n",
      " 8016.93542527 8082.06140696 8075.74254896 8082.68054697 8089.71597804\n",
      " 8104.76550165 8105.24966269 8105.17090464 8113.79623138 8090.47562126\n",
      " 8092.1367169  8079.70356881 8066.81544846 8066.45859234 8004.19005112\n",
      " 8075.12182115 8161.73067634 8171.94468965 8280.39797014 8335.98379233\n",
      " 8317.36825838 8405.40467551 8397.56372916 8522.13731343 8480.50239732\n",
      " 8542.81366799 8619.29687186 8522.15202714 8350.08822535 8275.64120589\n",
      " 8251.90546311 8220.77623036 8205.30813945 8227.49442545 8213.88882079\n",
      " 8300.20780607 8310.96406968 8315.87382601 8310.79916136 8293.17437273\n",
      " 8295.09005388 8371.8182039  8389.09588368 8430.29841794 8477.82071344\n",
      " 8535.4179912  8612.42188572 8590.78387871]\n"
     ]
    }
   ],
   "source": [
    "model.fit(x_poly, train_y)\n",
    "esti_y = model.predict(x_poly)\n",
    "print(esti_y)"
   ]
  },
  {
   "cell_type": "code",
   "execution_count": 67,
   "id": "d7f55d25",
   "metadata": {},
   "outputs": [],
   "source": [
    "scaler = StandardScaler()\n",
    "scaler = scaler.fit(test_x)\n",
    "test_x = scaler.transform(test_x)\n",
    "x_poly_test = polynomial.fit_transform(test_x)"
   ]
  },
  {
   "cell_type": "code",
   "execution_count": 68,
   "id": "6f475427",
   "metadata": {},
   "outputs": [
    {
     "data": {
      "text/plain": [
       "(12, 21)"
      ]
     },
     "execution_count": 68,
     "metadata": {},
     "output_type": "execute_result"
    }
   ],
   "source": [
    "x_poly_test.shape"
   ]
  },
  {
   "cell_type": "code",
   "execution_count": 70,
   "id": "9ea30869",
   "metadata": {},
   "outputs": [
    {
     "data": {
      "text/plain": [
       "(12,)"
      ]
     },
     "execution_count": 70,
     "metadata": {},
     "output_type": "execute_result"
    }
   ],
   "source": [
    "test_y.shape"
   ]
  },
  {
   "cell_type": "code",
   "execution_count": 72,
   "id": "7f7c95d6",
   "metadata": {},
   "outputs": [
    {
     "name": "stdout",
     "output_type": "stream",
     "text": [
      "Linear 274532.46599\n"
     ]
    }
   ],
   "source": [
    "pred_y = model.predict(x_poly_test)\n",
    "test_mse = mse(pred_y, test_y)\n",
    "print(f\"Linear {test_mse:.5f}\")"
   ]
  },
  {
   "cell_type": "markdown",
   "id": "8b9ae947",
   "metadata": {},
   "source": [
    "비선형성을 반영하려고 해봤지만 성능이 오히려 악화됨 <br>\n",
    "따라서 X에는 특별히 수정을 하지 않겠음"
   ]
  },
  {
   "cell_type": "markdown",
   "id": "d5ecc4ba",
   "metadata": {},
   "source": [
    "## 과적합의 문제??"
   ]
  },
  {
   "cell_type": "code",
   "execution_count": 73,
   "id": "8eb25d50",
   "metadata": {},
   "outputs": [],
   "source": [
    "from sklearn.linear_model import Ridge"
   ]
  },
  {
   "cell_type": "code",
   "execution_count": 80,
   "id": "dedc9611",
   "metadata": {},
   "outputs": [
    {
     "name": "stdout",
     "output_type": "stream",
     "text": [
      "Linear 240372.47380\n",
      "Linear 240311.67594\n",
      "Linear 240252.03642\n",
      "Linear 240193.52596\n",
      "Linear 240136.11620\n",
      "Linear 240079.77959\n",
      "Linear 240024.48944\n",
      "Linear 239970.21982\n",
      "Linear 239916.94559\n"
     ]
    }
   ],
   "source": [
    "for i in np.arange(0.1, 1, 0.1):\n",
    "    \n",
    "    ridge_model = Ridge(random_state=123, alpha = i).fit(train_x, train_y)\n",
    "\n",
    "    ridge_esti_y = ridge_model.predict(train_x)\n",
    "    ridge_pred_y = ridge_model.predict(test_x)\n",
    "\n",
    "    train_mse_ridge = mse(ridge_esti_y, train_y)\n",
    "    test_mse_ridge = mse(ridge_pred_y, test_y)\n",
    "    print(f\"Linear {test_mse_ridge:.5f}\")\n",
    "\n",
    "#     score(train_mse_ridge, test_mse_ridge)\n"
   ]
  },
  {
   "cell_type": "markdown",
   "id": "127ea4e6",
   "metadata": {},
   "source": [
    "릿지 규제를 사용한 경우 alpha = 0.9일 때 가장 성능이 좋았음 <br>\n",
    "그리고 약간 성능이 좋아짐. 큰 차이는 아니었음"
   ]
  },
  {
   "cell_type": "code",
   "execution_count": 24,
   "id": "cee76570",
   "metadata": {},
   "outputs": [],
   "source": [
    "from sklearn.linear_model import Lasso"
   ]
  },
  {
   "cell_type": "code",
   "execution_count": 81,
   "id": "5b4b0036",
   "metadata": {},
   "outputs": [
    {
     "name": "stdout",
     "output_type": "stream",
     "text": [
      "Linear 240379.88442\n",
      "Linear 240325.06501\n",
      "Linear 240269.60443\n",
      "Linear 240215.92437\n",
      "Linear 240161.28122\n",
      "Linear 240107.06281\n",
      "Linear 240053.26916\n",
      "Linear 239999.90025\n",
      "Linear 239946.95615\n"
     ]
    }
   ],
   "source": [
    "for i in np.arange(0.1, 1, 0.1):\n",
    "\n",
    "    lasso_model = Lasso(random_state=123, alpha = i).fit(train_x, train_y)\n",
    "\n",
    "    lasso_esti_y = lasso_model.predict(train_x)\n",
    "    lasso_pred_y = lasso_model.predict(test_x)\n",
    "\n",
    "    train_mse_lasso = mse(lasso_esti_y, train_y)\n",
    "    test_mse_lasso = mse(lasso_pred_y, test_y)\n",
    "    print(f\"Linear {test_mse_lasso:.5f}\")\n",
    "\n",
    "#     score(train_mse_lasso, test_mse_lasso)\n"
   ]
  },
  {
   "cell_type": "markdown",
   "id": "52bb16f4",
   "metadata": {},
   "source": [
    "라쏘 규제의 경우에도 alpha = 0.9가 가장 좋았음. alpha값이 클수록 성능이 좋고 <br>\n",
    "비용함수 값이 트레인 데이터와 테스트 데이터 간에 거의 100배 가까이 차이가 나므로 과대적합 문제가 있는 듯"
   ]
  },
  {
   "cell_type": "code",
   "execution_count": 26,
   "id": "7d2baa4c",
   "metadata": {},
   "outputs": [],
   "source": [
    "from sklearn.linear_model import ElasticNet"
   ]
  },
  {
   "cell_type": "code",
   "execution_count": 82,
   "id": "55b2790e",
   "metadata": {},
   "outputs": [
    {
     "name": "stdout",
     "output_type": "stream",
     "text": [
      "alpha = 0.1\n",
      "Linear 237698.57056\n",
      "Linear 237868.72208\n",
      "Linear 238058.40364\n",
      "Linear 238271.23240\n",
      "Linear 238511.66932\n",
      "Linear 238785.23601\n",
      "Linear 239098.85287\n",
      "Linear 239461.24284\n",
      "Linear 239883.50336\n",
      "alpha = 0.2\n",
      "Linear 236681.80718\n",
      "Linear 236851.83934\n",
      "Linear 237047.01353\n",
      "Linear 237275.23165\n",
      "Linear 237530.97985\n",
      "Linear 237843.46960\n",
      "Linear 238241.44724\n",
      "Linear 238749.11388\n",
      "Linear 239417.20503\n",
      "alpha = 0.30000000000000004\n",
      "Linear 236104.80651\n",
      "Linear 236270.83871\n",
      "Linear 236459.66512\n",
      "Linear 236680.12697\n",
      "Linear 236945.49413\n",
      "Linear 237276.29694\n",
      "Linear 237654.42738\n",
      "Linear 238212.03442\n",
      "Linear 239019.90246\n",
      "alpha = 0.4\n",
      "Linear 235690.23700\n",
      "Linear 235859.96927\n",
      "Linear 236049.82044\n",
      "Linear 236267.91182\n",
      "Linear 236526.98888\n",
      "Linear 236849.89163\n",
      "Linear 237277.77098\n",
      "Linear 237794.13750\n",
      "Linear 238678.69551\n",
      "alpha = 0.5\n",
      "Linear 235353.28490\n",
      "Linear 235530.86539\n",
      "Linear 235726.80610\n",
      "Linear 235948.23311\n",
      "Linear 236206.80184\n",
      "Linear 236524.69172\n",
      "Linear 236944.91729\n",
      "Linear 237510.35664\n",
      "Linear 238382.13301\n",
      "alpha = 0.6\n",
      "Linear 235062.12860\n",
      "Linear 235248.86493\n",
      "Linear 235453.33755\n",
      "Linear 235681.72762\n",
      "Linear 235944.27232\n",
      "Linear 236261.61680\n",
      "Linear 236675.30249\n",
      "Linear 237278.04117\n",
      "Linear 238124.38638\n",
      "alpha = 0.7000000000000001\n",
      "Linear 234802.67400\n",
      "Linear 234998.32333\n",
      "Linear 235211.97010\n",
      "Linear 235449.05392\n",
      "Linear 235718.42260\n",
      "Linear 236038.97896\n",
      "Linear 236450.18697\n",
      "Linear 237047.52938\n",
      "Linear 237898.07118\n",
      "alpha = 0.8\n",
      "Linear 234567.85440\n",
      "Linear 234771.25868\n",
      "Linear 234993.70498\n",
      "Linear 235239.41338\n",
      "Linear 235517.68528\n",
      "Linear 235844.11683\n",
      "Linear 236256.12700\n",
      "Linear 236846.55739\n",
      "Linear 237704.54800\n",
      "alpha = 0.9\n",
      "Linear 234352.91164\n",
      "Linear 234563.07166\n",
      "Linear 234793.09043\n",
      "Linear 235047.90879\n",
      "Linear 235334.57078\n",
      "Linear 235668.51042\n",
      "Linear 236083.80593\n",
      "Linear 236671.27435\n",
      "Linear 237561.82271\n"
     ]
    }
   ],
   "source": [
    "for i in np.arange(0.1, 1, 0.1):\n",
    "    \n",
    "    print('alpha = ' + str(i))\n",
    "    \n",
    "    for j in np.arange(0.1, 1, 0.1):\n",
    "        \n",
    "        elastic_model = ElasticNet(random_state=123, alpha = i, l1_ratio = j).fit(train_x, train_y)\n",
    "\n",
    "        elastic_esti_y = elastic_model.predict(train_x)\n",
    "        elastic_pred_y = elastic_model.predict(test_x)\n",
    "\n",
    "        train_mse_elastic = mse(elastic_esti_y, train_y)\n",
    "        test_mse_elastic = mse(elastic_pred_y, test_y)\n",
    "        \n",
    "        print(f\"Linear {test_mse_elastic:.5f}\")\n",
    "\n",
    "    #     score(train_mse_elastic, test_mse_elastic)\n",
    "\n",
    "    "
   ]
  },
  {
   "cell_type": "markdown",
   "id": "93227318",
   "metadata": {},
   "source": [
    "엘라스틱넷 회귀의 경우 alpha = 0.9, l1_ratio = 0.1인 경우가 가장 MSE(234352)가 낮았음 <br>\n",
    "base 모형보다 MSE가 약 2% 정도 좋아졌으나, 규제 모델을 쓴 것이 의미는 없어보임 <br>\n",
    "\n",
    "<br>\n",
    "혹시나 해서 제곱항 추가와 규제를 동시에 해봤지만 오히려 base 모형보다 성능 악화되었음(MSE 대충 270000대)"
   ]
  }
 ],
 "metadata": {
  "kernelspec": {
   "display_name": "Python 3",
   "language": "python",
   "name": "python3"
  },
  "language_info": {
   "codemirror_mode": {
    "name": "ipython",
    "version": 3
   },
   "file_extension": ".py",
   "mimetype": "text/x-python",
   "name": "python",
   "nbconvert_exporter": "python",
   "pygments_lexer": "ipython3",
   "version": "3.8.8"
  },
  "toc": {
   "base_numbering": 1,
   "nav_menu": {},
   "number_sections": true,
   "sideBar": true,
   "skip_h1_title": false,
   "title_cell": "Table of Contents",
   "title_sidebar": "Contents",
   "toc_cell": false,
   "toc_position": {},
   "toc_section_display": true,
   "toc_window_display": false
  }
 },
 "nbformat": 4,
 "nbformat_minor": 5
}
