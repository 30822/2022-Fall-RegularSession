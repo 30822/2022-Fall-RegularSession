{
 "cells": [
  {
   "cell_type": "code",
   "execution_count": 1,
   "metadata": {
    "id": "NuogZdJAewSq"
   },
   "outputs": [],
   "source": [
    "import numpy as np\n",
    "import pandas as pd\n",
    "import matplotlib.pyplot as plt"
   ]
  },
  {
   "cell_type": "markdown",
   "metadata": {
    "id": "u5RQzjdjj6I2"
   },
   "source": [
    "코랩 사용하시는 분들은 아래의 코드를 실행해주세요!"
   ]
  },
  {
   "cell_type": "code",
   "execution_count": 2,
   "metadata": {
    "id": "7J7wP7X6nQtv"
   },
   "outputs": [],
   "source": [
    "# from google.colab import drive\n",
    "# drive.mount('/content/drive')"
   ]
  },
  {
   "cell_type": "code",
   "execution_count": 3,
   "metadata": {
    "id": "OA4UW3j4kePR"
   },
   "outputs": [],
   "source": [
    "# import os\n",
    "# os.getcwd()"
   ]
  },
  {
   "cell_type": "markdown",
   "metadata": {
    "id": "NtVt7I7qWH8s"
   },
   "source": [
    "코랩 사용시 본인 구글 드라이브 경로는  \n",
    "/content/drive/MyDrive/...  \n",
    "입니다."
   ]
  },
  {
   "cell_type": "code",
   "execution_count": 4,
   "metadata": {
    "id": "SiVE75urjpg3"
   },
   "outputs": [],
   "source": [
    "# path = './drive/MyDrive/...'    # 과제 데이터셋이 저장된 경로를 더 작성해주세요\n",
    "# os.chdir(path)"
   ]
  },
  {
   "cell_type": "code",
   "execution_count": 5,
   "metadata": {
    "id": "0qXX7Ab0kHuX"
   },
   "outputs": [],
   "source": [
    "# os.getcwd()"
   ]
  },
  {
   "cell_type": "markdown",
   "metadata": {
    "id": "JfNxu2eTDyl6"
   },
   "source": [
    "사용할 데이터 셋 :  전력 사용량 예측 모델\n",
    "\n",
    "아래의 과정에서 sklearn의 Pipeline의 사용은 필수는 아닙니다. 선호와 필요에 따라 사용하실 분들은 사용하셔도 좋습니다."
   ]
  },
  {
   "cell_type": "markdown",
   "metadata": {},
   "source": [
    "# 데이터"
   ]
  },
  {
   "cell_type": "markdown",
   "metadata": {
    "id": "K2sLE1gZOTc2"
   },
   "source": [
    "건물 정보와 기후 정보를 활용한 전력사용량 예측 데이터 중에서 \n",
    "\n",
    "환경 변수(기온, 풍속, 습도, 강수량, 일조)에 대해 전력 사용량을 선형회귀 모델을 사용해서 예측해보고자 합니다."
   ]
  },
  {
   "cell_type": "code",
   "execution_count": 6,
   "metadata": {},
   "outputs": [],
   "source": [
    "var_name = ['Temp', 'Wind', 'Moisture', 'Precipitation', 'Sun']\n",
    "target = 'Wh'"
   ]
  },
  {
   "cell_type": "code",
   "execution_count": 7,
   "metadata": {},
   "outputs": [],
   "source": [
    "def parsing(data: pd.DataFrame):\n",
    "    x = data.iloc[:, 3:8]\n",
    "    x.columns = var_name\n",
    "    y = data.iloc[:, 2]\n",
    "    y.name = target\n",
    "    \n",
    "    return x, y"
   ]
  },
  {
   "cell_type": "code",
   "execution_count": 8,
   "metadata": {},
   "outputs": [],
   "source": [
    "def load_data():\n",
    "    data = pd.read_csv('data/train.csv', encoding='cp949')\n",
    "    data = data[: 100]\n",
    "    x, y = parsing(data)    \n",
    "    cut = int(round(len(x)*0.88))\n",
    "    tr_x = x[:cut]\n",
    "    tr_y = y[:cut]\n",
    "    te_x = x[cut:]\n",
    "    te_y = y[cut:]\n",
    "    return tr_x, tr_y, te_x, te_y"
   ]
  },
  {
   "cell_type": "code",
   "execution_count": 9,
   "metadata": {},
   "outputs": [],
   "source": [
    "train_x, train_y, test_x, test_y = load_data()"
   ]
  },
  {
   "cell_type": "markdown",
   "metadata": {
    "id": "FtOBVORnPUCt"
   },
   "source": [
    "## 데이터 확인 \n",
    "\n",
    "주의! 최종 예측하는 단계 이전에는 현재 가지고 있는 데이터, 즉 train data만을 이용하여 작업을 진행해야 합니다.\n",
    "\n",
    "현재 가지고 있는 데이터 train_x를 보고 전력 사용량을 예측하는데에 사용할 변수를 선택해주세요.\n",
    "\n",
    "기초세션에서 다뤘던 내용을 참고하셔서 최적의 변수 조합을 찾아보도록 합시다.\n",
    "\n",
    "이 때 선택해야하는 변수는 하나일 수도 있고, 여러개의 변수를 사용하여도 좋습니다."
   ]
  },
  {
   "cell_type": "code",
   "execution_count": 10,
   "metadata": {},
   "outputs": [
    {
     "data": {
      "text/html": [
       "<div>\n",
       "<style scoped>\n",
       "    .dataframe tbody tr th:only-of-type {\n",
       "        vertical-align: middle;\n",
       "    }\n",
       "\n",
       "    .dataframe tbody tr th {\n",
       "        vertical-align: top;\n",
       "    }\n",
       "\n",
       "    .dataframe thead th {\n",
       "        text-align: right;\n",
       "    }\n",
       "</style>\n",
       "<table border=\"1\" class=\"dataframe\">\n",
       "  <thead>\n",
       "    <tr style=\"text-align: right;\">\n",
       "      <th></th>\n",
       "      <th>Temp</th>\n",
       "      <th>Wind</th>\n",
       "      <th>Moisture</th>\n",
       "      <th>Precipitation</th>\n",
       "      <th>Sun</th>\n",
       "    </tr>\n",
       "  </thead>\n",
       "  <tbody>\n",
       "    <tr>\n",
       "      <th>0</th>\n",
       "      <td>17.6</td>\n",
       "      <td>2.5</td>\n",
       "      <td>92.0</td>\n",
       "      <td>0.8</td>\n",
       "      <td>0.0</td>\n",
       "    </tr>\n",
       "    <tr>\n",
       "      <th>1</th>\n",
       "      <td>17.7</td>\n",
       "      <td>2.9</td>\n",
       "      <td>91.0</td>\n",
       "      <td>0.3</td>\n",
       "      <td>0.0</td>\n",
       "    </tr>\n",
       "    <tr>\n",
       "      <th>2</th>\n",
       "      <td>17.5</td>\n",
       "      <td>3.2</td>\n",
       "      <td>91.0</td>\n",
       "      <td>0.0</td>\n",
       "      <td>0.0</td>\n",
       "    </tr>\n",
       "    <tr>\n",
       "      <th>3</th>\n",
       "      <td>17.1</td>\n",
       "      <td>3.2</td>\n",
       "      <td>91.0</td>\n",
       "      <td>0.0</td>\n",
       "      <td>0.0</td>\n",
       "    </tr>\n",
       "    <tr>\n",
       "      <th>4</th>\n",
       "      <td>17.0</td>\n",
       "      <td>3.3</td>\n",
       "      <td>92.0</td>\n",
       "      <td>0.0</td>\n",
       "      <td>0.0</td>\n",
       "    </tr>\n",
       "    <tr>\n",
       "      <th>...</th>\n",
       "      <td>...</td>\n",
       "      <td>...</td>\n",
       "      <td>...</td>\n",
       "      <td>...</td>\n",
       "      <td>...</td>\n",
       "    </tr>\n",
       "    <tr>\n",
       "      <th>83</th>\n",
       "      <td>23.9</td>\n",
       "      <td>2.8</td>\n",
       "      <td>68.0</td>\n",
       "      <td>0.0</td>\n",
       "      <td>0.6</td>\n",
       "    </tr>\n",
       "    <tr>\n",
       "      <th>84</th>\n",
       "      <td>25.0</td>\n",
       "      <td>3.1</td>\n",
       "      <td>63.0</td>\n",
       "      <td>0.0</td>\n",
       "      <td>0.8</td>\n",
       "    </tr>\n",
       "    <tr>\n",
       "      <th>85</th>\n",
       "      <td>26.0</td>\n",
       "      <td>3.1</td>\n",
       "      <td>60.0</td>\n",
       "      <td>0.0</td>\n",
       "      <td>1.0</td>\n",
       "    </tr>\n",
       "    <tr>\n",
       "      <th>86</th>\n",
       "      <td>26.4</td>\n",
       "      <td>3.8</td>\n",
       "      <td>60.0</td>\n",
       "      <td>0.0</td>\n",
       "      <td>1.0</td>\n",
       "    </tr>\n",
       "    <tr>\n",
       "      <th>87</th>\n",
       "      <td>25.4</td>\n",
       "      <td>4.2</td>\n",
       "      <td>66.0</td>\n",
       "      <td>0.0</td>\n",
       "      <td>0.5</td>\n",
       "    </tr>\n",
       "  </tbody>\n",
       "</table>\n",
       "<p>88 rows × 5 columns</p>\n",
       "</div>"
      ],
      "text/plain": [
       "    Temp  Wind  Moisture  Precipitation  Sun\n",
       "0   17.6   2.5      92.0            0.8  0.0\n",
       "1   17.7   2.9      91.0            0.3  0.0\n",
       "2   17.5   3.2      91.0            0.0  0.0\n",
       "3   17.1   3.2      91.0            0.0  0.0\n",
       "4   17.0   3.3      92.0            0.0  0.0\n",
       "..   ...   ...       ...            ...  ...\n",
       "83  23.9   2.8      68.0            0.0  0.6\n",
       "84  25.0   3.1      63.0            0.0  0.8\n",
       "85  26.0   3.1      60.0            0.0  1.0\n",
       "86  26.4   3.8      60.0            0.0  1.0\n",
       "87  25.4   4.2      66.0            0.0  0.5\n",
       "\n",
       "[88 rows x 5 columns]"
      ]
     },
     "execution_count": 10,
     "metadata": {},
     "output_type": "execute_result"
    }
   ],
   "source": [
    "train_x"
   ]
  },
  {
   "cell_type": "code",
   "execution_count": 11,
   "metadata": {},
   "outputs": [
    {
     "data": {
      "text/plain": [
       "[<matplotlib.lines.Line2D at 0x1880b516580>]"
      ]
     },
     "execution_count": 11,
     "metadata": {},
     "output_type": "execute_result"
    },
    {
     "data": {
      "image/png": "[encoded data removed]",
      "text/plain": [
       "<Figure size 432x288 with 1 Axes>"
      ]
     },
     "metadata": {
      "needs_background": "light"
     },
     "output_type": "display_data"
    }
   ],
   "source": [
    "plt.plot(train_y)"
   ]
  },
  {
   "cell_type": "code",
   "execution_count": 12,
   "metadata": {
    "scrolled": true
   },
   "outputs": [
    {
     "name": "stderr",
     "output_type": "stream",
     "text": [
      "C:\\Users\\ay011\\AppData\\Local\\Temp/ipykernel_868/1635138233.py:1: FutureWarning: Support for multi-dimensional indexing (e.g. `obj[:, None]`) is deprecated and will be removed in a future version.  Convert to a numpy array before indexing instead.\n",
      "  corr = pd.DataFrame(np.concatenate((train_x, train_y[:, np.newaxis]), axis=1), columns=var_name+[target]).corr()\n"
     ]
    },
    {
     "data": {
      "text/html": [
       "<div>\n",
       "<style scoped>\n",
       "    .dataframe tbody tr th:only-of-type {\n",
       "        vertical-align: middle;\n",
       "    }\n",
       "\n",
       "    .dataframe tbody tr th {\n",
       "        vertical-align: top;\n",
       "    }\n",
       "\n",
       "    .dataframe thead th {\n",
       "        text-align: right;\n",
       "    }\n",
       "</style>\n",
       "<table border=\"1\" class=\"dataframe\">\n",
       "  <thead>\n",
       "    <tr style=\"text-align: right;\">\n",
       "      <th></th>\n",
       "      <th>Temp</th>\n",
       "      <th>Wind</th>\n",
       "      <th>Moisture</th>\n",
       "      <th>Precipitation</th>\n",
       "      <th>Sun</th>\n",
       "      <th>Wh</th>\n",
       "    </tr>\n",
       "  </thead>\n",
       "  <tbody>\n",
       "    <tr>\n",
       "      <th>Temp</th>\n",
       "      <td>1.000000</td>\n",
       "      <td>0.510935</td>\n",
       "      <td>-0.628642</td>\n",
       "      <td>-0.173210</td>\n",
       "      <td>0.783829</td>\n",
       "      <td>0.803301</td>\n",
       "    </tr>\n",
       "    <tr>\n",
       "      <th>Wind</th>\n",
       "      <td>0.510935</td>\n",
       "      <td>1.000000</td>\n",
       "      <td>-0.478825</td>\n",
       "      <td>0.028617</td>\n",
       "      <td>0.544720</td>\n",
       "      <td>0.349288</td>\n",
       "    </tr>\n",
       "    <tr>\n",
       "      <th>Moisture</th>\n",
       "      <td>-0.628642</td>\n",
       "      <td>-0.478825</td>\n",
       "      <td>1.000000</td>\n",
       "      <td>0.152529</td>\n",
       "      <td>-0.699047</td>\n",
       "      <td>-0.095042</td>\n",
       "    </tr>\n",
       "    <tr>\n",
       "      <th>Precipitation</th>\n",
       "      <td>-0.173210</td>\n",
       "      <td>0.028617</td>\n",
       "      <td>0.152529</td>\n",
       "      <td>1.000000</td>\n",
       "      <td>-0.123846</td>\n",
       "      <td>-0.090389</td>\n",
       "    </tr>\n",
       "    <tr>\n",
       "      <th>Sun</th>\n",
       "      <td>0.783829</td>\n",
       "      <td>0.544720</td>\n",
       "      <td>-0.699047</td>\n",
       "      <td>-0.123846</td>\n",
       "      <td>1.000000</td>\n",
       "      <td>0.458348</td>\n",
       "    </tr>\n",
       "    <tr>\n",
       "      <th>Wh</th>\n",
       "      <td>0.803301</td>\n",
       "      <td>0.349288</td>\n",
       "      <td>-0.095042</td>\n",
       "      <td>-0.090389</td>\n",
       "      <td>0.458348</td>\n",
       "      <td>1.000000</td>\n",
       "    </tr>\n",
       "  </tbody>\n",
       "</table>\n",
       "</div>"
      ],
      "text/plain": [
       "                   Temp      Wind  Moisture  Precipitation       Sun        Wh\n",
       "Temp           1.000000  0.510935 -0.628642      -0.173210  0.783829  0.803301\n",
       "Wind           0.510935  1.000000 -0.478825       0.028617  0.544720  0.349288\n",
       "Moisture      -0.628642 -0.478825  1.000000       0.152529 -0.699047 -0.095042\n",
       "Precipitation -0.173210  0.028617  0.152529       1.000000 -0.123846 -0.090389\n",
       "Sun            0.783829  0.544720 -0.699047      -0.123846  1.000000  0.458348\n",
       "Wh             0.803301  0.349288 -0.095042      -0.090389  0.458348  1.000000"
      ]
     },
     "execution_count": 12,
     "metadata": {},
     "output_type": "execute_result"
    }
   ],
   "source": [
    "corr = pd.DataFrame(np.concatenate((train_x, train_y[:, np.newaxis]), axis=1), columns=var_name+[target]).corr()\n",
    "corr"
   ]
  },
  {
   "cell_type": "code",
   "execution_count": 13,
   "metadata": {},
   "outputs": [],
   "source": [
    "variables = ['Temp', 'Wind', 'Sun']"
   ]
  },
  {
   "cell_type": "code",
   "execution_count": 14,
   "metadata": {},
   "outputs": [
    {
     "data": {
      "text/html": [
       "<div>\n",
       "<style scoped>\n",
       "    .dataframe tbody tr th:only-of-type {\n",
       "        vertical-align: middle;\n",
       "    }\n",
       "\n",
       "    .dataframe tbody tr th {\n",
       "        vertical-align: top;\n",
       "    }\n",
       "\n",
       "    .dataframe thead th {\n",
       "        text-align: right;\n",
       "    }\n",
       "</style>\n",
       "<table border=\"1\" class=\"dataframe\">\n",
       "  <thead>\n",
       "    <tr style=\"text-align: right;\">\n",
       "      <th></th>\n",
       "      <th>Temp</th>\n",
       "      <th>Wind</th>\n",
       "      <th>Sun</th>\n",
       "    </tr>\n",
       "  </thead>\n",
       "  <tbody>\n",
       "    <tr>\n",
       "      <th>0</th>\n",
       "      <td>17.6</td>\n",
       "      <td>2.5</td>\n",
       "      <td>0.0</td>\n",
       "    </tr>\n",
       "    <tr>\n",
       "      <th>1</th>\n",
       "      <td>17.7</td>\n",
       "      <td>2.9</td>\n",
       "      <td>0.0</td>\n",
       "    </tr>\n",
       "    <tr>\n",
       "      <th>2</th>\n",
       "      <td>17.5</td>\n",
       "      <td>3.2</td>\n",
       "      <td>0.0</td>\n",
       "    </tr>\n",
       "    <tr>\n",
       "      <th>3</th>\n",
       "      <td>17.1</td>\n",
       "      <td>3.2</td>\n",
       "      <td>0.0</td>\n",
       "    </tr>\n",
       "    <tr>\n",
       "      <th>4</th>\n",
       "      <td>17.0</td>\n",
       "      <td>3.3</td>\n",
       "      <td>0.0</td>\n",
       "    </tr>\n",
       "    <tr>\n",
       "      <th>...</th>\n",
       "      <td>...</td>\n",
       "      <td>...</td>\n",
       "      <td>...</td>\n",
       "    </tr>\n",
       "    <tr>\n",
       "      <th>83</th>\n",
       "      <td>23.9</td>\n",
       "      <td>2.8</td>\n",
       "      <td>0.6</td>\n",
       "    </tr>\n",
       "    <tr>\n",
       "      <th>84</th>\n",
       "      <td>25.0</td>\n",
       "      <td>3.1</td>\n",
       "      <td>0.8</td>\n",
       "    </tr>\n",
       "    <tr>\n",
       "      <th>85</th>\n",
       "      <td>26.0</td>\n",
       "      <td>3.1</td>\n",
       "      <td>1.0</td>\n",
       "    </tr>\n",
       "    <tr>\n",
       "      <th>86</th>\n",
       "      <td>26.4</td>\n",
       "      <td>3.8</td>\n",
       "      <td>1.0</td>\n",
       "    </tr>\n",
       "    <tr>\n",
       "      <th>87</th>\n",
       "      <td>25.4</td>\n",
       "      <td>4.2</td>\n",
       "      <td>0.5</td>\n",
       "    </tr>\n",
       "  </tbody>\n",
       "</table>\n",
       "<p>88 rows × 3 columns</p>\n",
       "</div>"
      ],
      "text/plain": [
       "    Temp  Wind  Sun\n",
       "0   17.6   2.5  0.0\n",
       "1   17.7   2.9  0.0\n",
       "2   17.5   3.2  0.0\n",
       "3   17.1   3.2  0.0\n",
       "4   17.0   3.3  0.0\n",
       "..   ...   ...  ...\n",
       "83  23.9   2.8  0.6\n",
       "84  25.0   3.1  0.8\n",
       "85  26.0   3.1  1.0\n",
       "86  26.4   3.8  1.0\n",
       "87  25.4   4.2  0.5\n",
       "\n",
       "[88 rows x 3 columns]"
      ]
     },
     "execution_count": 14,
     "metadata": {},
     "output_type": "execute_result"
    }
   ],
   "source": [
    "train_x = train_x[variables]\n",
    "train_x"
   ]
  },
  {
   "cell_type": "markdown",
   "metadata": {
    "id": "kD24Xx9XLotD"
   },
   "source": [
    "정답은 없습니다! \n",
    "\n",
    "다만 최종 선택한 변수(들)이 왜 선택받았는지 간단히 알려주세요.<br>\n",
    "답변 : Wh를 기준으로 corr값을 보았을 때 작지 않은 값을 가지고 있다. 다만 Temp와 Wind, Sun 간에도 작지 않은 corr으로 인한 영향도 무시하지 못하지만, 데이터 확인 단계에서 충분한 설명력을 가진 모델을 위해 세 변수들을 사용하기로 한다."
   ]
  },
  {
   "cell_type": "markdown",
   "metadata": {
    "id": "9FeCbQAFP6Kw"
   },
   "source": [
    "## 전처리\n",
    "\n",
    "위에서 선택한 변수들(feature)를 가지고 한번 전력 사용량을 예측하는 모델을 만들어 보기에 앞서,\n",
    "\n",
    "**train 데이터의 feature의 전처리**를 진행해보려고 합니다. StandardScaler를 사용하셔도 좋고, MinMaxScaler를 사용하셔도 좋습니다! \n",
    "\n",
    "또한 PolynomialFeatures를 이용하거나 직접 feature를 계산하여 고차원의 feature를 만드셔도 좋습니다. 이 또한 정답은 없습니다!\n",
    "\n",
    "이 때 최종 train_x의 shape은 (n_samples, n_features)가 되도록 해주세요.<br>\n",
    "ex. 4개의 변수를 가진 1000개의 샘플의 경우 train_x.shape은 (1000,4)가 되면 됩니다.\n",
    "\n",
    "특히 하나의 변수만을 사용하시는 분들은 1D가 아닌 2D가 되도록 신경써주세요<br>\n",
    "ex. train_x.shape이 (1000,)이 아닌 (1000,1)입니다!"
   ]
  },
  {
   "cell_type": "code",
   "execution_count": 15,
   "metadata": {},
   "outputs": [],
   "source": [
    "# 사용할 패키지를 import!\n",
    "from sklearn.preprocessing import StandardScaler, MinMaxScaler\n",
    "from sklearn.preprocessing import PolynomialFeatures"
   ]
  },
  {
   "cell_type": "code",
   "execution_count": 16,
   "metadata": {},
   "outputs": [],
   "source": [
    "scaler = MinMaxScaler().fit(train_x)\n",
    "train_x = scaler.transform(train_x)"
   ]
  },
  {
   "cell_type": "code",
   "execution_count": 17,
   "metadata": {},
   "outputs": [],
   "source": [
    "def sinusoidal(data):\n",
    "    return np.concatenate((data, np.sin(data)), axis=1)"
   ]
  },
  {
   "cell_type": "code",
   "execution_count": 18,
   "metadata": {},
   "outputs": [],
   "source": [
    "train_x = sinusoidal(train_x)"
   ]
  },
  {
   "cell_type": "markdown",
   "metadata": {},
   "source": [
    "어떤 변수들을 더 사용할지에 대해 고민하였을 때 앞서 train_y에 대한 plot에서도 알 수 있듯 값의 변화가 단순한 선형적인 관계보단 주기함수로 표현될 수 있다고 생각하여 추가해본 변수다. 이 외에 다른 polynomial feature들을 사용할 근거를 찾지 못해 사용하지 않았다."
   ]
  },
  {
   "cell_type": "markdown",
   "metadata": {},
   "source": [
    "# 모델링"
   ]
  },
  {
   "cell_type": "markdown",
   "metadata": {},
   "source": [
    "## 학습 \n",
    "\n",
    "이제 모델링을 해봅시다.\n",
    "\n",
    "앞서 다룬 여러 regression 모델들(Linear regression, Ridge Regression, Lasso Regression, ..)을 이용해서 fit을 진행해보도록 합시다."
   ]
  },
  {
   "cell_type": "code",
   "execution_count": 19,
   "metadata": {
    "id": "nCd88UXEQFdZ"
   },
   "outputs": [],
   "source": [
    "# 사용할 패키지를 import!\n",
    "from sklearn.linear_model import Ridge"
   ]
  },
  {
   "cell_type": "code",
   "execution_count": 20,
   "metadata": {
    "id": "y7hwaxnZUIwY"
   },
   "outputs": [],
   "source": [
    "# 선형회귀 모델 생성 후 fitting 시킵니다.\n",
    "# ex. \n",
    "model = Ridge(random_state=123).fit(train_x, train_y)"
   ]
  },
  {
   "cell_type": "markdown",
   "metadata": {},
   "source": [
    "## 추정\n",
    "\n",
    "이제 train_x를 이용하여 전력사용량을 추정해보도록 합시다."
   ]
  },
  {
   "cell_type": "code",
   "execution_count": 21,
   "metadata": {},
   "outputs": [],
   "source": [
    "# ex. linear_pred_y \n",
    "esti_y = model.predict(train_x)"
   ]
  },
  {
   "cell_type": "markdown",
   "metadata": {},
   "source": [
    "# Loss 및 시각화\n",
    "\n",
    "앞서 fitting하여 얻은 모델을 이용하여 추정한 값으로 MSE를 측정해봅시다. 변수를 하나만 사용하신 분들은 xy 평면에 한번 같이 시각화도 해보셔도 좋습니다."
   ]
  },
  {
   "cell_type": "code",
   "execution_count": 22,
   "metadata": {},
   "outputs": [],
   "source": [
    "def mse(pred, true):\n",
    "    return np.mean((pred-true)**2)"
   ]
  },
  {
   "cell_type": "code",
   "execution_count": 23,
   "metadata": {},
   "outputs": [
    {
     "name": "stdout",
     "output_type": "stream",
     "text": [
      "Linear 12774.93566\n"
     ]
    }
   ],
   "source": [
    "train_mse = mse(esti_y, train_y)\n",
    "print(f\"Linear {train_mse:.5f}\")"
   ]
  },
  {
   "cell_type": "code",
   "execution_count": 24,
   "metadata": {
    "id": "ThKWK_QdUIyo"
   },
   "outputs": [],
   "source": [
    "def visualize(model, x, y):\n",
    "    if x.shape[1] != 1:\n",
    "        return None\n",
    "    beta = model.coef_[0]\n",
    "    intercept = model.intercept_\n",
    "    \n",
    "    x_axis = np.linspace(np.min(x), np.max(x), 100)\n",
    "    fit = intercept * x_axis**0 + beta*x_axis \n",
    "\n",
    "    plt.figure(figsize=(8,6))\n",
    "    plt.plot(x_axis, fit, label='Predict', c='r', linewidth=3)\n",
    "    plt.scatter(x, y, c='blue')\n",
    "    plt.legend()\n",
    "    plt.show()"
   ]
  },
  {
   "cell_type": "code",
   "execution_count": 25,
   "metadata": {
    "id": "jjf3SeOKUpQs"
   },
   "outputs": [],
   "source": [
    "# # 앞서 전처리한 변수를 한번 확인해봅시다.\n",
    "# train_x\n",
    "# train_y "
   ]
  },
  {
   "cell_type": "code",
   "execution_count": 26,
   "metadata": {},
   "outputs": [],
   "source": [
    "# # visualization 하실 분은 진행해주세요!\n",
    "# visualize(model, train_x, train_y)"
   ]
  },
  {
   "cell_type": "markdown",
   "metadata": {},
   "source": [
    "# 예측"
   ]
  },
  {
   "cell_type": "markdown",
   "metadata": {
    "id": "T-6Xv53GXm4K"
   },
   "source": [
    "테스트셋에 대해서 한번 **예측**해보도록 합시다.\n",
    "\n",
    "이미 fitting된 모델 (그리고 scaler를 사용하신다면 scaler)에 대해 **fit을 하지 말고** 단순히 predict만 진행해보도록 합시다. \n",
    "\n",
    "scaler는 transform만 하시고 model은 predict을 진행해주세요"
   ]
  },
  {
   "cell_type": "code",
   "execution_count": 27,
   "metadata": {
    "id": "YTwIN94ZYlhU"
   },
   "outputs": [],
   "source": [
    "# transform을 하시는 분들은 실행해주세요\n",
    "test_x = test_x[variables]\n",
    "test_x = scaler.transform(test_x)\n",
    "test_x = sinusoidal(test_x)"
   ]
  },
  {
   "cell_type": "code",
   "execution_count": 28,
   "metadata": {},
   "outputs": [],
   "source": [
    "# y1_hat에 predict값 할당\n",
    "pred_y =  model.predict(test_x)"
   ]
  },
  {
   "cell_type": "markdown",
   "metadata": {},
   "source": [
    "# 성능 평가\n",
    "\n",
    "한번 학습한 모델에 대해 test_y를 이용하여 mse loss를 측정해도도록 합시다."
   ]
  },
  {
   "cell_type": "code",
   "execution_count": 29,
   "metadata": {},
   "outputs": [],
   "source": [
    "def score(train_mse, test_mse):\n",
    "    print(f\"{test_mse/train_mse: .4f}\")"
   ]
  },
  {
   "cell_type": "code",
   "execution_count": 30,
   "metadata": {
    "scrolled": true
   },
   "outputs": [
    {
     "name": "stdout",
     "output_type": "stream",
     "text": [
      "Linear 169111.42791\n"
     ]
    }
   ],
   "source": [
    "test_mse = mse(pred_y, test_y)\n",
    "print(f\"Linear {test_mse:.5f}\")"
   ]
  },
  {
   "cell_type": "code",
   "execution_count": 31,
   "metadata": {},
   "outputs": [
    {
     "name": "stdout",
     "output_type": "stream",
     "text": [
      " 13.2378\n"
     ]
    }
   ],
   "source": [
    "score(train_mse,test_mse)"
   ]
  },
  {
   "cell_type": "code",
   "execution_count": 32,
   "metadata": {},
   "outputs": [
    {
     "data": {
      "text/plain": [
       "array([419.59639992,   0.93933108, -80.5067218 , 348.45996166,\n",
       "        20.40294639, -31.54129743])"
      ]
     },
     "execution_count": 32,
     "metadata": {},
     "output_type": "execute_result"
    }
   ],
   "source": [
    "model.coef_"
   ]
  },
  {
   "cell_type": "code",
   "execution_count": 33,
   "metadata": {
    "id": "hHQz6NrkXmtW"
   },
   "outputs": [],
   "source": [
    "# visualization 하실 분은 진행해주세요!\n",
    "# visualize(model, test_x, test_y)"
   ]
  },
  {
   "cell_type": "markdown",
   "metadata": {},
   "source": [
    "# 그 이후\n",
    "\n",
    "이제 여러분들은 한번 모델을 만들어보고 fitting한 다음 예측까지 해보셨습니다.\n",
    "\n",
    "이제 개선하기 위해 1.데이터부터 5.성능평가 중 수정, 변경하실 부분을 업데이트 해서  최적의 모델을 찾아보세요!\n",
    "\n",
    "현재 사용하고 있는 scaler, model부터 전처리과정 기타 여러 조건을 조작해보시고 어떤 효과가 있는지 한번 보시고 알려주세요:D"
   ]
  },
  {
   "cell_type": "markdown",
   "metadata": {},
   "source": [
    "고생하셨습니다!"
   ]
  },
  {
   "cell_type": "markdown",
   "metadata": {},
   "source": [
    "# 최종 코멘트\n",
    "\n",
    "현재 여러가지 방법으로 접근해서 해결해보는 관점들이 있었고, 훌륭한 인사이트들도 많았습니다. 다소 난해한 과제이지만 수행해주셔서 감사합니다! 특히 정답이 정해져 있지 않은 과제인 만큼 각자의 논리와 방식대로 수행하시면서 얻어가는 부분이 많이 있으시길 바랍니다.\n",
    "\n",
    "우선 정답이 없는 만큼 해당 과제에서 의도한 부분이 무엇이었는지, 한번 생각해보시면 좋은 부분이 뭔지 얘기해보면 좋을 것 같습니다.\n",
    "\n",
    "> 데이터 자체를 의심해보시는 시간도 의미있습니다.\n",
    "\n",
    "현재 모델을 어떻게 만들고 학습 시키는지에 대해서는 패키지에 의존하기도 하며 이미 잘 구현된 모델을 가져와 사용하시는 것에 대해서 저희가 가져갈 수 있는 포인트는 적다고 생각합니다. 직접 학습과정을 구현해보는 과제가 아닌 이상 모델을 어떻게 만들었는지보단, 각 모델들이 어떤 특징이 있고 그 특징을 필요하다면 사용하실 수 있는 것만으로도 충분히 좋은 경험이라고 생각합니다. \n",
    "\n",
    "그렇기 때문에 이번 과제에서는 데이터 자체를 의심하고 고민해보시는 시간이 되길 바랐습니다. 데이터의 주어진 train 데이터와 test 데이터에도 구조적으로 차이가 있기 때문에 단순히 MSE나 다른 수치만을 보고 판단하시기에 어려움이 있으셨을 것이라 생각합니다. 그렇기 때문에 데이터가 어떻게 되어 있는지 생각해볼 필요가 있다는 점을 가져가신다면 좋은 경험이라 생각합니다.\n",
    "\n",
    "> 어떤 모델이 좋은 모델인지 생각해볼 시간도 의미있습니다.\n",
    "\n",
    "score함수로 제공해드린 것은 아마 생소한 식이라고 느끼셨을 것이라 생각합니다. 해당 식의 의미가 무엇인지, 어떤 해석이 가능한지 고민해볼 기회가 되었으면 충분히 과제를 매우 깊은 단계까지 진행하셨다고 생각합니다. 우선 해당 score에서 단순히 많은 변수를 사용한다고 하였을 때 데이터의 구조상 train데이터에 대한 mse 값은 상대적으로 test 데이터에 비해 매우 작게 나올 것입니다. 그런 경우 해당 모델이 좋은 모델인지, 좋지 않은 모델인지 각자만의 논리로 판단해보시는 기회가 된다고 생각합니다. 반대로 train데이터의 mse와 test 데이터의 mse가 비슷비슷한 크기를 가진다고 할 때 적절히 학습하였기에 둘 다 적절한 크기를 가지고 있는 것인지, 혹은 trian 데이터에 대해서도, test 데이터에 대해서도 모두 poor한 fit을 가지고 있는 것인지 고민해보실 기회가 된다고 생각합니다. \n",
    "\n",
    "무엇보다도 중요한 점은 정답은 없습니다. 그리고 이후로도 정답을 알려주는 문제나 모델은 없을 것입니다. 각 상황에서 어떻게 판단하고 해결할지 고민해보는 시간에 도움이 되는 과제가 되었길 바랍니다.\n",
    "\n",
    "감사합니다."
   ]
  }
 ],
 "metadata": {
  "colab": {
   "authorship_tag": "ABX9TyOgug4KEXAF4mJb0CKcc9BQ",
   "collapsed_sections": [],
   "mount_file_id": "1Y2yJV5xqiiXMIdvOZmbHCI4AoGjowvm5",
   "name": "220203_Supervised_Learning_과제.ipynb",
   "provenance": []
  },
  "kernelspec": {
   "display_name": "Python 3 (ipykernel)",
   "language": "python",
   "name": "python3"
  },
  "language_info": {
   "codemirror_mode": {
    "name": "ipython",
    "version": 3
   },
   "file_extension": ".py",
   "mimetype": "text/x-python",
   "name": "python",
   "nbconvert_exporter": "python",
   "pygments_lexer": "ipython3",
   "version": "3.8.12"
  },
  "toc": {
   "base_numbering": 1,
   "nav_menu": {},
   "number_sections": true,
   "sideBar": true,
   "skip_h1_title": false,
   "title_cell": "Table of Contents",
   "title_sidebar": "Contents",
   "toc_cell": false,
   "toc_position": {
    "height": "calc(100% - 180px)",
    "left": "10px",
    "top": "150px",
    "width": "165px"
   },
   "toc_section_display": true,
   "toc_window_display": true
  }
 },
 "nbformat": 4,
 "nbformat_minor": 1
}
