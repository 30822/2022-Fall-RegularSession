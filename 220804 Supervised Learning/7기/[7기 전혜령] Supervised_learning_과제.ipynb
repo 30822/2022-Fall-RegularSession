{
  "cells": [
    {
      "cell_type": "code",
      "execution_count": 1,
      "metadata": {
        "id": "NuogZdJAewSq"
      },
      "outputs": [],
      "source": [
        "import numpy as np\n",
        "import pandas as pd\n",
        "import matplotlib.pyplot as plt"
      ]
    },
    {
      "cell_type": "markdown",
      "metadata": {
        "id": "u5RQzjdjj6I2"
      },
      "source": [
        "코랩 사용하시는 분들은 아래의 코드를 실행해주세요!"
      ]
    },
    {
      "cell_type": "code",
      "execution_count": 2,
      "metadata": {
        "id": "7J7wP7X6nQtv",
        "colab": {
          "base_uri": "https://localhost:8080/"
        },
        "outputId": "989464d1-7a99-48ed-fb24-ad249d3747cb"
      },
      "outputs": [
        {
          "output_type": "stream",
          "name": "stdout",
          "text": [
            "Mounted at /content/drive\n"
          ]
        }
      ],
      "source": [
        "from google.colab import drive\n",
        "drive.mount('/content/drive')"
      ]
    },
    {
      "cell_type": "code",
      "execution_count": 3,
      "metadata": {
        "id": "OA4UW3j4kePR",
        "colab": {
          "base_uri": "https://localhost:8080/",
          "height": 36
        },
        "outputId": "a2ebbc6a-7869-45be-efcc-b9f169f4e120"
      },
      "outputs": [
        {
          "output_type": "execute_result",
          "data": {
            "text/plain": [
              "'/content'"
            ],
            "application/vnd.google.colaboratory.intrinsic+json": {
              "type": "string"
            }
          },
          "metadata": {},
          "execution_count": 3
        }
      ],
      "source": [
        "import os\n",
        "os.getcwd()"
      ]
    },
    {
      "cell_type": "markdown",
      "metadata": {
        "id": "NtVt7I7qWH8s"
      },
      "source": [
        "코랩 사용시 본인 구글 드라이브 경로는  \n",
        "/content/drive/MyDrive/...  \n",
        "입니다."
      ]
    },
    {
      "cell_type": "code",
      "execution_count": 13,
      "metadata": {
        "id": "SiVE75urjpg3"
      },
      "outputs": [],
      "source": [
        "path = '/content/drive/MyDrive/DSL session/22-2/[0804] Supervised_learning/'    # 과제 데이터셋이 저장된 경로를 더 작성해주세요\n",
        "os.chdir(path)"
      ]
    },
    {
      "cell_type": "code",
      "execution_count": 14,
      "metadata": {
        "id": "0qXX7Ab0kHuX",
        "colab": {
          "base_uri": "https://localhost:8080/",
          "height": 36
        },
        "outputId": "0f6616f0-d329-45b5-e39c-d5bfdd188f15"
      },
      "outputs": [
        {
          "output_type": "execute_result",
          "data": {
            "text/plain": [
              "'/content/drive/MyDrive/DSL session/22-2/[0804] Supervised_learning'"
            ],
            "application/vnd.google.colaboratory.intrinsic+json": {
              "type": "string"
            }
          },
          "metadata": {},
          "execution_count": 14
        }
      ],
      "source": [
        "os.getcwd()"
      ]
    },
    {
      "cell_type": "markdown",
      "metadata": {
        "id": "JfNxu2eTDyl6"
      },
      "source": [
        "사용할 데이터 셋 :  전력 사용량 예측 모델\n",
        "\n",
        "아래의 과정에서 sklearn의 Pipeline의 사용은 필수는 아닙니다. 선호와 필요에 따라 사용하실 분들은 사용하셔도 좋습니다."
      ]
    },
    {
      "cell_type": "markdown",
      "metadata": {
        "id": "wtqyyjvoQmPD"
      },
      "source": [
        "# 데이터"
      ]
    },
    {
      "cell_type": "markdown",
      "metadata": {
        "id": "K2sLE1gZOTc2"
      },
      "source": [
        "건물 정보와 기후 정보를 활용한 전력사용량 예측 데이터 중에서 \n",
        "\n",
        "환경 변수(기온, 풍속, 습도, 강수량, 일조)에 대해 전력 사용량을 선형회귀 모델을 사용해서 예측해보고자 합니다."
      ]
    },
    {
      "cell_type": "code",
      "execution_count": 6,
      "metadata": {
        "id": "b-rNe7z8QmPG"
      },
      "outputs": [],
      "source": [
        "var_name = ['Temp', 'Wind', 'Moisture', 'Precipitation', 'Sun']\n",
        "target = 'Wh'"
      ]
    },
    {
      "cell_type": "code",
      "execution_count": 7,
      "metadata": {
        "id": "3HnF3LxvQmPG"
      },
      "outputs": [],
      "source": [
        "def parsing(data: pd.DataFrame):\n",
        "    x = data.iloc[:, 3:8]\n",
        "    x.columns = var_name\n",
        "    y = data.iloc[:, 2]\n",
        "    y.name = target\n",
        "    \n",
        "    return x, y"
      ]
    },
    {
      "cell_type": "code",
      "execution_count": 8,
      "metadata": {
        "id": "WiUpkDK4QmPH"
      },
      "outputs": [],
      "source": [
        "def load_data():\n",
        "    data = pd.read_csv('data/train.csv', encoding='cp949')\n",
        "    data = data[: 100]\n",
        "    x, y = parsing(data)    \n",
        "    cut = int(round(len(x)*0.88))\n",
        "    tr_x = x[:cut]\n",
        "    tr_y = y[:cut]\n",
        "    te_x = x[cut:]\n",
        "    te_y = y[cut:]\n",
        "    return tr_x, tr_y, te_x, te_y"
      ]
    },
    {
      "cell_type": "code",
      "execution_count": 15,
      "metadata": {
        "id": "3NLZgR6fQmPI"
      },
      "outputs": [],
      "source": [
        "train_x, train_y, test_x, test_y = load_data()"
      ]
    },
    {
      "cell_type": "markdown",
      "metadata": {
        "id": "FtOBVORnPUCt"
      },
      "source": [
        "## 데이터 확인 \n",
        "\n",
        "주의! 최종 예측하는 단계 이전에는 현재 가지고 있는 데이터, 즉 train data만을 이용하여 작업을 진행해야 합니다.\n",
        "\n",
        "현재 가지고 있는 데이터 train_x를 보고 전력 사용량을 예측하는데에 사용할 변수를 선택해주세요.\n",
        "\n",
        "기초세션에서 다뤘던 내용을 참고하셔서 최적의 변수 조합을 찾아보도록 합시다.\n",
        "\n",
        "이 때 선택해야하는 변수는 하나일 수도 있고, 여러개의 변수를 사용하여도 좋습니다."
      ]
    },
    {
      "cell_type": "code",
      "execution_count": null,
      "metadata": {
        "id": "wuD0nXzEDySK"
      },
      "outputs": [],
      "source": [
        "# 데이터 셋을 둘러보는 코드 작성하시고, 왜 좋은지 한번 둘러보세요!\n",
        "# train_x ="
      ]
    },
    {
      "cell_type": "code",
      "source": [
        "data = pd.concat([train_x,train_y],axis=1)\n",
        "data"
      ],
      "metadata": {
        "colab": {
          "base_uri": "https://localhost:8080/",
          "height": 424
        },
        "id": "GH_CZ2b-Sk69",
        "outputId": "8e713197-d660-4459-d479-ddee65e16e54"
      },
      "execution_count": 22,
      "outputs": [
        {
          "output_type": "execute_result",
          "data": {
            "text/plain": [
              "    Temp  Wind  Moisture  Precipitation  Sun        Wh\n",
              "0   17.6   2.5      92.0            0.8  0.0  8179.056\n",
              "1   17.7   2.9      91.0            0.3  0.0  8135.640\n",
              "2   17.5   3.2      91.0            0.0  0.0  8107.128\n",
              "3   17.1   3.2      91.0            0.0  0.0  8048.808\n",
              "4   17.0   3.3      92.0            0.0  0.0  8043.624\n",
              "..   ...   ...       ...            ...  ...       ...\n",
              "83  23.9   2.8      68.0            0.0  0.6  8386.416\n",
              "84  25.0   3.1      63.0            0.0  0.8  8435.664\n",
              "85  26.0   3.1      60.0            0.0  1.0  8591.184\n",
              "86  26.4   3.8      60.0            0.0  1.0  8638.488\n",
              "87  25.4   4.2      66.0            0.0  0.5  8663.112\n",
              "\n",
              "[88 rows x 6 columns]"
            ],
            "text/html": [
              "\n",
              "  <div id=\"df-adca7788-2868-4499-bc4c-696c09ad86bf\">\n",
              "    <div class=\"colab-df-container\">\n",
              "      <div>\n",
              "<style scoped>\n",
              "    .dataframe tbody tr th:only-of-type {\n",
              "        vertical-align: middle;\n",
              "    }\n",
              "\n",
              "    .dataframe tbody tr th {\n",
              "        vertical-align: top;\n",
              "    }\n",
              "\n",
              "    .dataframe thead th {\n",
              "        text-align: right;\n",
              "    }\n",
              "</style>\n",
              "<table border=\"1\" class=\"dataframe\">\n",
              "  <thead>\n",
              "    <tr style=\"text-align: right;\">\n",
              "      <th></th>\n",
              "      <th>Temp</th>\n",
              "      <th>Wind</th>\n",
              "      <th>Moisture</th>\n",
              "      <th>Precipitation</th>\n",
              "      <th>Sun</th>\n",
              "      <th>Wh</th>\n",
              "    </tr>\n",
              "  </thead>\n",
              "  <tbody>\n",
              "    <tr>\n",
              "      <th>0</th>\n",
              "      <td>17.6</td>\n",
              "      <td>2.5</td>\n",
              "      <td>92.0</td>\n",
              "      <td>0.8</td>\n",
              "      <td>0.0</td>\n",
              "      <td>8179.056</td>\n",
              "    </tr>\n",
              "    <tr>\n",
              "      <th>1</th>\n",
              "      <td>17.7</td>\n",
              "      <td>2.9</td>\n",
              "      <td>91.0</td>\n",
              "      <td>0.3</td>\n",
              "      <td>0.0</td>\n",
              "      <td>8135.640</td>\n",
              "    </tr>\n",
              "    <tr>\n",
              "      <th>2</th>\n",
              "      <td>17.5</td>\n",
              "      <td>3.2</td>\n",
              "      <td>91.0</td>\n",
              "      <td>0.0</td>\n",
              "      <td>0.0</td>\n",
              "      <td>8107.128</td>\n",
              "    </tr>\n",
              "    <tr>\n",
              "      <th>3</th>\n",
              "      <td>17.1</td>\n",
              "      <td>3.2</td>\n",
              "      <td>91.0</td>\n",
              "      <td>0.0</td>\n",
              "      <td>0.0</td>\n",
              "      <td>8048.808</td>\n",
              "    </tr>\n",
              "    <tr>\n",
              "      <th>4</th>\n",
              "      <td>17.0</td>\n",
              "      <td>3.3</td>\n",
              "      <td>92.0</td>\n",
              "      <td>0.0</td>\n",
              "      <td>0.0</td>\n",
              "      <td>8043.624</td>\n",
              "    </tr>\n",
              "    <tr>\n",
              "      <th>...</th>\n",
              "      <td>...</td>\n",
              "      <td>...</td>\n",
              "      <td>...</td>\n",
              "      <td>...</td>\n",
              "      <td>...</td>\n",
              "      <td>...</td>\n",
              "    </tr>\n",
              "    <tr>\n",
              "      <th>83</th>\n",
              "      <td>23.9</td>\n",
              "      <td>2.8</td>\n",
              "      <td>68.0</td>\n",
              "      <td>0.0</td>\n",
              "      <td>0.6</td>\n",
              "      <td>8386.416</td>\n",
              "    </tr>\n",
              "    <tr>\n",
              "      <th>84</th>\n",
              "      <td>25.0</td>\n",
              "      <td>3.1</td>\n",
              "      <td>63.0</td>\n",
              "      <td>0.0</td>\n",
              "      <td>0.8</td>\n",
              "      <td>8435.664</td>\n",
              "    </tr>\n",
              "    <tr>\n",
              "      <th>85</th>\n",
              "      <td>26.0</td>\n",
              "      <td>3.1</td>\n",
              "      <td>60.0</td>\n",
              "      <td>0.0</td>\n",
              "      <td>1.0</td>\n",
              "      <td>8591.184</td>\n",
              "    </tr>\n",
              "    <tr>\n",
              "      <th>86</th>\n",
              "      <td>26.4</td>\n",
              "      <td>3.8</td>\n",
              "      <td>60.0</td>\n",
              "      <td>0.0</td>\n",
              "      <td>1.0</td>\n",
              "      <td>8638.488</td>\n",
              "    </tr>\n",
              "    <tr>\n",
              "      <th>87</th>\n",
              "      <td>25.4</td>\n",
              "      <td>4.2</td>\n",
              "      <td>66.0</td>\n",
              "      <td>0.0</td>\n",
              "      <td>0.5</td>\n",
              "      <td>8663.112</td>\n",
              "    </tr>\n",
              "  </tbody>\n",
              "</table>\n",
              "<p>88 rows × 6 columns</p>\n",
              "</div>\n",
              "      <button class=\"colab-df-convert\" onclick=\"convertToInteractive('df-adca7788-2868-4499-bc4c-696c09ad86bf')\"\n",
              "              title=\"Convert this dataframe to an interactive table.\"\n",
              "              style=\"display:none;\">\n",
              "        \n",
              "  <svg xmlns=\"http://www.w3.org/2000/svg\" height=\"24px\"viewBox=\"0 0 24 24\"\n",
              "       width=\"24px\">\n",
              "    <path d=\"M0 0h24v24H0V0z\" fill=\"none\"/>\n",
              "    <path d=\"M18.56 5.44l.94 2.06.94-2.06 2.06-.94-2.06-.94-.94-2.06-.94 2.06-2.06.94zm-11 1L8.5 8.5l.94-2.06 2.06-.94-2.06-.94L8.5 2.5l-.94 2.06-2.06.94zm10 10l.94 2.06.94-2.06 2.06-.94-2.06-.94-.94-2.06-.94 2.06-2.06.94z\"/><path d=\"M17.41 7.96l-1.37-1.37c-.4-.4-.92-.59-1.43-.59-.52 0-1.04.2-1.43.59L10.3 9.45l-7.72 7.72c-.78.78-.78 2.05 0 2.83L4 21.41c.39.39.9.59 1.41.59.51 0 1.02-.2 1.41-.59l7.78-7.78 2.81-2.81c.8-.78.8-2.07 0-2.86zM5.41 20L4 18.59l7.72-7.72 1.47 1.35L5.41 20z\"/>\n",
              "  </svg>\n",
              "      </button>\n",
              "      \n",
              "  <style>\n",
              "    .colab-df-container {\n",
              "      display:flex;\n",
              "      flex-wrap:wrap;\n",
              "      gap: 12px;\n",
              "    }\n",
              "\n",
              "    .colab-df-convert {\n",
              "      background-color: #E8F0FE;\n",
              "      border: none;\n",
              "      border-radius: 50%;\n",
              "      cursor: pointer;\n",
              "      display: none;\n",
              "      fill: #1967D2;\n",
              "      height: 32px;\n",
              "      padding: 0 0 0 0;\n",
              "      width: 32px;\n",
              "    }\n",
              "\n",
              "    .colab-df-convert:hover {\n",
              "      background-color: #E2EBFA;\n",
              "      box-shadow: 0px 1px 2px rgba(60, 64, 67, 0.3), 0px 1px 3px 1px rgba(60, 64, 67, 0.15);\n",
              "      fill: #174EA6;\n",
              "    }\n",
              "\n",
              "    [theme=dark] .colab-df-convert {\n",
              "      background-color: #3B4455;\n",
              "      fill: #D2E3FC;\n",
              "    }\n",
              "\n",
              "    [theme=dark] .colab-df-convert:hover {\n",
              "      background-color: #434B5C;\n",
              "      box-shadow: 0px 1px 3px 1px rgba(0, 0, 0, 0.15);\n",
              "      filter: drop-shadow(0px 1px 2px rgba(0, 0, 0, 0.3));\n",
              "      fill: #FFFFFF;\n",
              "    }\n",
              "  </style>\n",
              "\n",
              "      <script>\n",
              "        const buttonEl =\n",
              "          document.querySelector('#df-adca7788-2868-4499-bc4c-696c09ad86bf button.colab-df-convert');\n",
              "        buttonEl.style.display =\n",
              "          google.colab.kernel.accessAllowed ? 'block' : 'none';\n",
              "\n",
              "        async function convertToInteractive(key) {\n",
              "          const element = document.querySelector('#df-adca7788-2868-4499-bc4c-696c09ad86bf');\n",
              "          const dataTable =\n",
              "            await google.colab.kernel.invokeFunction('convertToInteractive',\n",
              "                                                     [key], {});\n",
              "          if (!dataTable) return;\n",
              "\n",
              "          const docLinkHtml = 'Like what you see? Visit the ' +\n",
              "            '<a target=\"_blank\" href=https://colab.research.google.com/notebooks/data_table.ipynb>data table notebook</a>'\n",
              "            + ' to learn more about interactive tables.';\n",
              "          element.innerHTML = '';\n",
              "          dataTable['output_type'] = 'display_data';\n",
              "          await google.colab.output.renderOutput(dataTable, element);\n",
              "          const docLink = document.createElement('div');\n",
              "          docLink.innerHTML = docLinkHtml;\n",
              "          element.appendChild(docLink);\n",
              "        }\n",
              "      </script>\n",
              "    </div>\n",
              "  </div>\n",
              "  "
            ]
          },
          "metadata": {},
          "execution_count": 22
        }
      ]
    },
    {
      "cell_type": "code",
      "source": [
        "import seaborn as sns  \n",
        "upp_mat = np.triu(data.corr())\n",
        "\n",
        "sns.heatmap(data.corr(), vmin = -1, vmax = +1, annot = True, cmap = 'coolwarm', mask = upp_mat)\n",
        "plt.title('Correlation Coefficient')\n",
        "plt.tight_layout()\n",
        "plt.show()"
      ],
      "metadata": {
        "colab": {
          "base_uri": "https://localhost:8080/",
          "height": 297
        },
        "id": "_04kgwiDRsGy",
        "outputId": "dd8d791b-3e4c-44a8-ab2d-de5babec2020"
      },
      "execution_count": 23,
      "outputs": [
        {
          "output_type": "display_data",
          "data": {
            "text/plain": [
              "<Figure size 432x288 with 2 Axes>"
            ],
            "image/png": "[encoded data removed]"
          },
          "metadata": {
            "needs_background": "light"
          }
        }
      ]
    },
    {
      "cell_type": "markdown",
      "metadata": {
        "id": "kD24Xx9XLotD"
      },
      "source": [
        "정답은 없습니다! \n",
        "\n",
        "다만 최종 선택한 변수(들)이 왜 선택받았는지 간단히 알려주세요.<br>\n",
        "답변 : 전력 사용량(Wh)과 기온(Temp)의 상관관계가 가장 높음 -> 기온을 feature로 지정"
      ]
    },
    {
      "cell_type": "markdown",
      "metadata": {
        "id": "9FeCbQAFP6Kw"
      },
      "source": [
        "## 전처리\n",
        "\n",
        "위에서 선택한 변수들(feature)를 가지고 한번 전력 사용량을 예측하는 모델을 만들어 보기에 앞서,\n",
        "\n",
        "**train 데이터의 feature의 전처리**를 진행해보려고 합니다. StandardScaler를 사용하셔도 좋고, MinMaxScaler를 사용하셔도 좋습니다! \n",
        "\n",
        "또한 PolynomialFeatures를 이용하거나 직접 feature를 계산하여 고차원의 feature를 만드셔도 좋습니다. 이 또한 정답은 없습니다!\n",
        "\n",
        "이 때 최종 train_x의 shape은 (n_samples, n_features)가 되도록 해주세요.<br>\n",
        "ex. 4개의 변수를 가진 1000개의 샘플의 경우 train_x.shape은 (1000,4)가 되면 됩니다.\n",
        "\n",
        "특히 하나의 변수만을 사용하시는 분들은 1D가 아닌 2D가 되도록 신경써주세요<br>\n",
        "ex. train_x.shape이 (1000,)이 아닌 (1000,1)입니다!"
      ]
    },
    {
      "cell_type": "code",
      "execution_count": 31,
      "metadata": {
        "id": "Mt-nEk_eQmPL"
      },
      "outputs": [],
      "source": [
        "# 사용할 패키지를 import!\n",
        "from sklearn.preprocessing import StandardScaler"
      ]
    },
    {
      "cell_type": "code",
      "source": [
        "# input 데이터는 X_train, target 데이터는 Y_train 변수에 할당\n",
        "X_train = train_x.iloc[:, 0].to_numpy()[:, np.newaxis]\n",
        "Y_train = train_y.to_numpy()"
      ],
      "metadata": {
        "id": "8jh3V729TgrA"
      },
      "execution_count": 68,
      "outputs": []
    },
    {
      "cell_type": "code",
      "source": [
        "X_train.shape"
      ],
      "metadata": {
        "colab": {
          "base_uri": "https://localhost:8080/"
        },
        "id": "f8SPpyKcTuEZ",
        "outputId": "b992573f-d846-4e79-b84b-ebc30efc25d5"
      },
      "execution_count": 69,
      "outputs": [
        {
          "output_type": "execute_result",
          "data": {
            "text/plain": [
              "(88, 1)"
            ]
          },
          "metadata": {},
          "execution_count": 69
        }
      ]
    },
    {
      "cell_type": "code",
      "source": [
        "# 데이터 scaling 하기\n",
        "scaler = StandardScaler()\n",
        "X_train = scaler.fit_transform(X_train)\n",
        "# X_train"
      ],
      "metadata": {
        "id": "ZjJqvuZicO2Y"
      },
      "execution_count": 72,
      "outputs": []
    },
    {
      "cell_type": "markdown",
      "metadata": {
        "id": "ElbnhgJ5QmPM"
      },
      "source": [
        "# 모델링"
      ]
    },
    {
      "cell_type": "markdown",
      "metadata": {
        "id": "XYaN1IVhQmPM"
      },
      "source": [
        "## 학습 \n",
        "\n",
        "이제 모델링을 해봅시다.\n",
        "\n",
        "앞서 다룬 여러 regression 모델들(Linear regression, Ridge Regression, Lasso Regression, ..)을 이용해서 fit을 진행해보도록 합시다."
      ]
    },
    {
      "cell_type": "code",
      "execution_count": 32,
      "metadata": {
        "id": "nCd88UXEQFdZ"
      },
      "outputs": [],
      "source": [
        "# 사용할 패키지를 import!\n",
        "from sklearn.linear_model import LinearRegression"
      ]
    },
    {
      "cell_type": "code",
      "source": [
        "# 선형회귀 모델 생성 후 fitting \n",
        "model = LinearRegression()\n",
        "model.fit(X_train, Y_train)"
      ],
      "metadata": {
        "colab": {
          "base_uri": "https://localhost:8080/"
        },
        "id": "oOy9ROklUjAd",
        "outputId": "fae00c87-9d89-4beb-bc6c-af71e1d9cdff"
      },
      "execution_count": 73,
      "outputs": [
        {
          "output_type": "execute_result",
          "data": {
            "text/plain": [
              "LinearRegression()"
            ]
          },
          "metadata": {},
          "execution_count": 73
        }
      ]
    },
    {
      "cell_type": "markdown",
      "metadata": {
        "id": "6BaQMn6zQmPN"
      },
      "source": [
        "## 추정\n",
        "\n",
        "이제 train_x를 이용하여 전력사용량을 추정해보도록 합시다."
      ]
    },
    {
      "cell_type": "code",
      "execution_count": 34,
      "metadata": {
        "id": "N3F_KG6WQmPN"
      },
      "outputs": [],
      "source": [
        "esti_y = model.predict(X_train)"
      ]
    },
    {
      "cell_type": "markdown",
      "metadata": {
        "id": "Z_qpDBuhQmPO"
      },
      "source": [
        "# Loss 및 시각화\n",
        "\n",
        "앞서 fitting하여 얻은 모델을 이용하여 추정한 값으로 MSE를 측정해봅시다. 변수를 하나만 사용하신 분들은 xy 평면에 한번 같이 시각화도 해보셔도 좋습니다."
      ]
    },
    {
      "cell_type": "code",
      "execution_count": 74,
      "metadata": {
        "id": "_vAWw-X8QmPO"
      },
      "outputs": [],
      "source": [
        "def mse(pred, true):\n",
        "    return np.mean((pred-true)**2)"
      ]
    },
    {
      "cell_type": "code",
      "execution_count": 75,
      "metadata": {
        "colab": {
          "base_uri": "https://localhost:8080/"
        },
        "id": "APqfApX8QmPO",
        "outputId": "d6b37699-b0b0-42ee-9e35-a7f2ad452163"
      },
      "outputs": [
        {
          "output_type": "stream",
          "name": "stdout",
          "text": [
            "Linear 14543.75828\n"
          ]
        }
      ],
      "source": [
        "train_mse = mse(esti_y, train_y)\n",
        "print(f\"Linear {train_mse:.5f}\")"
      ]
    },
    {
      "cell_type": "code",
      "execution_count": 76,
      "metadata": {
        "id": "ThKWK_QdUIyo"
      },
      "outputs": [],
      "source": [
        "def visualize(model, x, y):\n",
        "    if x.shape[1] != 1:\n",
        "        return None\n",
        "    beta = model.coef_[0]\n",
        "    intercept = model.intercept_\n",
        "    \n",
        "    x_axis = np.linspace(np.min(x), np.max(x), 100)\n",
        "    fit = intercept * x_axis**0 + beta*x_axis \n",
        "\n",
        "    plt.figure(figsize=(8,6))\n",
        "    plt.plot(x_axis, fit, label='Predict', c='r', linewidth=3)\n",
        "    plt.scatter(x, y, c='blue')\n",
        "    plt.legend()\n",
        "    plt.show()"
      ]
    },
    {
      "cell_type": "code",
      "execution_count": 77,
      "metadata": {
        "colab": {
          "base_uri": "https://localhost:8080/",
          "height": 374
        },
        "id": "-BpbOFkZQmPP",
        "outputId": "05ae5ad2-e73b-4db1-b59f-b9b01e13858b"
      },
      "outputs": [
        {
          "output_type": "display_data",
          "data": {
            "text/plain": [
              "<Figure size 576x432 with 1 Axes>"
            ],
            "image/png": "[encoded data removed]"
          },
          "metadata": {
            "needs_background": "light"
          }
        }
      ],
      "source": [
        "# visualization 하실 분은 진행해주세요!\n",
        "visualize(model, X_train, Y_train)"
      ]
    },
    {
      "cell_type": "markdown",
      "metadata": {
        "id": "R8vq2rXUQmPP"
      },
      "source": [
        "# 예측"
      ]
    },
    {
      "cell_type": "markdown",
      "metadata": {
        "id": "T-6Xv53GXm4K"
      },
      "source": [
        "테스트셋에 대해서 한번 **예측**해보도록 합시다.\n",
        "\n",
        "이미 fitting된 모델 (그리고 scaler를 사용하신다면 scaler)에 대해 **fit을 하지 말고** 단순히 predict만 진행해보도록 합시다. \n",
        "\n",
        "scaler는 transform만 하시고 model은 predict을 진행해주세요"
      ]
    },
    {
      "cell_type": "code",
      "source": [
        "X_test = test_x.iloc[:, 0].to_numpy()[:, np.newaxis]\n",
        "Y_test = test_y.to_numpy()"
      ],
      "metadata": {
        "id": "cI1p-tR9WX_s"
      },
      "execution_count": 78,
      "outputs": []
    },
    {
      "cell_type": "code",
      "source": [
        "X_test = scaler.fit_transform(X_test)"
      ],
      "metadata": {
        "id": "YXQxYKnaWvE3"
      },
      "execution_count": 79,
      "outputs": []
    },
    {
      "cell_type": "code",
      "execution_count": 80,
      "metadata": {
        "id": "XWXL0XEJQmPQ"
      },
      "outputs": [],
      "source": [
        "# pred_y에 predict값 할당\n",
        "pred_y = model.predict(X_test)"
      ]
    },
    {
      "cell_type": "markdown",
      "metadata": {
        "id": "_qh3-fEJQmPQ"
      },
      "source": [
        "# 성능 평가\n",
        "\n",
        "한번 학습한 모델에 대해 test_y를 이용하여 mse loss를 측정해도도록 합시다."
      ]
    },
    {
      "cell_type": "code",
      "execution_count": 81,
      "metadata": {
        "id": "mzZJt91LQmPR"
      },
      "outputs": [],
      "source": [
        "def score(train_mse, test_mse):\n",
        "    print(f\"{test_mse/train_mse: .4f}\")"
      ]
    },
    {
      "cell_type": "code",
      "execution_count": 82,
      "metadata": {
        "scrolled": true,
        "colab": {
          "base_uri": "https://localhost:8080/"
        },
        "id": "PPP76QubQmPR",
        "outputId": "185312c8-5f4b-48c0-f67c-96ca282718ff"
      },
      "outputs": [
        {
          "output_type": "stream",
          "name": "stdout",
          "text": [
            "Linear 248505.17676\n"
          ]
        }
      ],
      "source": [
        "test_mse = mse(pred_y, test_y)\n",
        "print(f\"Linear {test_mse:.5f}\")"
      ]
    },
    {
      "cell_type": "code",
      "execution_count": 83,
      "metadata": {
        "colab": {
          "base_uri": "https://localhost:8080/"
        },
        "id": "x2rVuWx9QmPR",
        "outputId": "8d7ba820-73f6-4784-a833-fed969255efb"
      },
      "outputs": [
        {
          "output_type": "stream",
          "name": "stdout",
          "text": [
            " 17.0867\n"
          ]
        }
      ],
      "source": [
        "score(train_mse,test_mse)"
      ]
    },
    {
      "cell_type": "code",
      "execution_count": 84,
      "metadata": {
        "id": "hHQz6NrkXmtW",
        "colab": {
          "base_uri": "https://localhost:8080/",
          "height": 375
        },
        "outputId": "2b29fd34-42df-4a20-f3f6-ea78d3a63fa8"
      },
      "outputs": [
        {
          "output_type": "display_data",
          "data": {
            "text/plain": [
              "<Figure size 576x432 with 1 Axes>"
            ],
            "image/png": "[encoded data removed]"
          },
          "metadata": {
            "needs_background": "light"
          }
        }
      ],
      "source": [
        "# visualization 하실 분은 진행해주세요!\n",
        "visualize(model, X_test, Y_test)"
      ]
    },
    {
      "cell_type": "code",
      "source": [
        "# visualization2\n",
        "plt.scatter(X_train[:, 0], Y_train, label='train')\n",
        "plt.scatter(X_test[:, 0], Y_test, label='test')\n",
        "\n",
        "plt.plot(X_train[:, 0], \n",
        "         model.predict(X_train), \n",
        "         c='r', label='esti_y')\n",
        "plt.plot(X_test[:, 0], \n",
        "         pred_y, \n",
        "         c='g', label='pred_y')\n",
        "\n",
        "plt.legend();"
      ],
      "metadata": {
        "colab": {
          "base_uri": "https://localhost:8080/",
          "height": 265
        },
        "id": "JD7Y5O_DXfNx",
        "outputId": "99728b0c-9482-4217-d866-ab8aba1f5796"
      },
      "execution_count": 85,
      "outputs": [
        {
          "output_type": "display_data",
          "data": {
            "text/plain": [
              "<Figure size 432x288 with 1 Axes>"
            ],
            "image/png": "[encoded data removed]"
          },
          "metadata": {
            "needs_background": "light"
          }
        }
      ]
    },
    {
      "cell_type": "markdown",
      "metadata": {
        "id": "5YenM8nHQmPS"
      },
      "source": [
        "# 그 이후\n",
        "\n",
        "이제 여러분들은 한번 모델을 만들어보고 fitting한 다음 예측까지 해보셨습니다.\n",
        "\n",
        "이제 개선하기 위해 1.데이터부터 5.성능평가 중 수정, 변경하실 부분을 업데이트 해서  최적의 모델을 찾아보세요!\n",
        "\n",
        "현재 사용하고 있는 scaler, model부터 전처리과정 기타 여러 조건을 조작해보시고 어떤 효과가 있는지 한번 보시고 알려주세요:D"
      ]
    },
    {
      "cell_type": "code",
      "source": [
        "# 관련 모듈 import\n",
        "from sklearn.preprocessing import PolynomialFeatures\n",
        "from sklearn.linear_model import LinearRegression\n",
        "from sklearn.linear_model import Lasso\n",
        "from sklearn.linear_model import Ridge\n",
        "from sklearn.linear_model import ElasticNet\n",
        "from sklearn.pipeline import Pipeline"
      ],
      "metadata": {
        "id": "ybxCoFdkZgqO"
      },
      "execution_count": 56,
      "outputs": []
    },
    {
      "cell_type": "code",
      "source": [
        "# 파이프라인 생성\n",
        "p1 = Pipeline([\n",
        "               ('poly', PolynomialFeatures(degree=5, include_bias=False)),\n",
        "               ('scaler', StandardScaler()),\n",
        "               ('rdg_reg_1', Ridge(alpha=0.5))\n",
        "])"
      ],
      "metadata": {
        "id": "1tVY-foUZiv7"
      },
      "execution_count": 57,
      "outputs": []
    },
    {
      "cell_type": "code",
      "source": [
        "p1.fit(X_train, Y_train)"
      ],
      "metadata": {
        "colab": {
          "base_uri": "https://localhost:8080/"
        },
        "id": "WexSugvIZk_D",
        "outputId": "9a10ce12-821f-469b-d53f-3cbb4b4d78e6"
      },
      "execution_count": 58,
      "outputs": [
        {
          "output_type": "execute_result",
          "data": {
            "text/plain": [
              "Pipeline(steps=[('poly', PolynomialFeatures(degree=5, include_bias=False)),\n",
              "                ('scaler', StandardScaler()), ('rdg_reg_1', Ridge(alpha=0.5))])"
            ]
          },
          "metadata": {},
          "execution_count": 58
        }
      ]
    },
    {
      "cell_type": "code",
      "source": [
        "mse(p1.predict(X_train), Y_train)"
      ],
      "metadata": {
        "colab": {
          "base_uri": "https://localhost:8080/"
        },
        "id": "yaf4wAxyeEPQ",
        "outputId": "895f47e0-fbcb-4ec7-ff2f-1fce26a01ebe"
      },
      "execution_count": 87,
      "outputs": [
        {
          "output_type": "execute_result",
          "data": {
            "text/plain": [
              "11764.071202178207"
            ]
          },
          "metadata": {},
          "execution_count": 87
        }
      ]
    },
    {
      "cell_type": "code",
      "source": [
        "#degree=5, alpha=0.5 적용하였을 경우\n",
        "plt.scatter(X_train[:, 0], Y_train)\n",
        "plt.plot(np.sort(X_train[:, 0]), \n",
        "         np.sort(p1.predict(X_train)), \n",
        "         c='r', label='ridge')\n",
        "plt.legend();"
      ],
      "metadata": {
        "colab": {
          "base_uri": "https://localhost:8080/",
          "height": 265
        },
        "id": "iGOQ4aFCZol5",
        "outputId": "9dade53c-9cf5-48a4-c786-e6a67cebd26d"
      },
      "execution_count": 60,
      "outputs": [
        {
          "output_type": "display_data",
          "data": {
            "text/plain": [
              "<Figure size 432x288 with 1 Axes>"
            ],
            "image/png": "[encoded data removed]"
          },
          "metadata": {
            "needs_background": "light"
          }
        }
      ]
    },
    {
      "cell_type": "markdown",
      "metadata": {
        "id": "w_5E3winQmPS"
      },
      "source": [
        "고생하셨습니다!"
      ]
    }
  ],
  "metadata": {
    "colab": {
      "collapsed_sections": [],
      "name": "[0804]Supervised_learning_과제.ipynb",
      "provenance": []
    },
    "kernelspec": {
      "display_name": "Python 3 (ipykernel)",
      "language": "python",
      "name": "python3"
    },
    "language_info": {
      "codemirror_mode": {
        "name": "ipython",
        "version": 3
      },
      "file_extension": ".py",
      "mimetype": "text/x-python",
      "name": "python",
      "nbconvert_exporter": "python",
      "pygments_lexer": "ipython3",
      "version": "3.8.12"
    },
    "toc": {
      "base_numbering": 1,
      "nav_menu": {},
      "number_sections": true,
      "sideBar": true,
      "skip_h1_title": false,
      "title_cell": "Table of Contents",
      "title_sidebar": "Contents",
      "toc_cell": false,
      "toc_position": {
        "height": "calc(100% - 180px)",
        "left": "10px",
        "top": "150px",
        "width": "300.792px"
      },
      "toc_section_display": true,
      "toc_window_display": true
    }
  },
  "nbformat": 4,
  "nbformat_minor": 0
}