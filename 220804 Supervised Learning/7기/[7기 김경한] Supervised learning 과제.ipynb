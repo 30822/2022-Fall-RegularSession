{
  "cells": [
    {
      "cell_type": "code",
      "execution_count": 1,
      "metadata": {
        "id": "NuogZdJAewSq"
      },
      "outputs": [],
      "source": [
        "import numpy as np\n",
        "import pandas as pd\n",
        "import matplotlib.pyplot as plt"
      ]
    },
    {
      "cell_type": "markdown",
      "metadata": {
        "id": "u5RQzjdjj6I2"
      },
      "source": [
        "코랩 사용하시는 분들은 아래의 코드를 실행해주세요!"
      ]
    },
    {
      "cell_type": "code",
      "execution_count": 2,
      "metadata": {
        "id": "7J7wP7X6nQtv",
        "colab": {
          "base_uri": "https://localhost:8080/"
        },
        "outputId": "f25a11f5-4707-41af-d718-92bab8703219"
      },
      "outputs": [
        {
          "output_type": "stream",
          "name": "stdout",
          "text": [
            "Mounted at /content/drive\n"
          ]
        }
      ],
      "source": [
        "from google.colab import drive\n",
        "drive.mount('/content/drive')"
      ]
    },
    {
      "cell_type": "code",
      "execution_count": 3,
      "metadata": {
        "id": "OA4UW3j4kePR",
        "colab": {
          "base_uri": "https://localhost:8080/",
          "height": 36
        },
        "outputId": "8aa35526-500b-477a-d149-3e4290757807"
      },
      "outputs": [
        {
          "output_type": "execute_result",
          "data": {
            "text/plain": [
              "'/content'"
            ],
            "application/vnd.google.colaboratory.intrinsic+json": {
              "type": "string"
            }
          },
          "metadata": {},
          "execution_count": 3
        }
      ],
      "source": [
        "import os\n",
        "os.getcwd()"
      ]
    },
    {
      "cell_type": "markdown",
      "metadata": {
        "id": "NtVt7I7qWH8s"
      },
      "source": [
        "코랩 사용시 본인 구글 드라이브 경로는  \n",
        "/content/drive/MyDrive/...  \n",
        "입니다."
      ]
    },
    {
      "cell_type": "code",
      "execution_count": 4,
      "metadata": {
        "id": "SiVE75urjpg3"
      },
      "outputs": [],
      "source": [
        "path = './drive/MyDrive/0804'    # 과제 데이터셋이 저장된 경로를 더 작성해주세요\n",
        "os.chdir(path)"
      ]
    },
    {
      "cell_type": "code",
      "execution_count": 5,
      "metadata": {
        "id": "0qXX7Ab0kHuX",
        "colab": {
          "base_uri": "https://localhost:8080/",
          "height": 36
        },
        "outputId": "df7651ad-2cb3-434a-aacb-b3999854f76f"
      },
      "outputs": [
        {
          "output_type": "execute_result",
          "data": {
            "text/plain": [
              "'/content/drive/MyDrive/0804'"
            ],
            "application/vnd.google.colaboratory.intrinsic+json": {
              "type": "string"
            }
          },
          "metadata": {},
          "execution_count": 5
        }
      ],
      "source": [
        "os.getcwd()"
      ]
    },
    {
      "cell_type": "markdown",
      "metadata": {
        "id": "JfNxu2eTDyl6"
      },
      "source": [
        "사용할 데이터 셋 :  전력 사용량 예측 모델\n",
        "\n",
        "아래의 과정에서 sklearn의 Pipeline의 사용은 필수는 아닙니다. 선호와 필요에 따라 사용하실 분들은 사용하셔도 좋습니다."
      ]
    },
    {
      "cell_type": "markdown",
      "metadata": {
        "id": "rsAYU0YHHU0T"
      },
      "source": [
        "# 데이터"
      ]
    },
    {
      "cell_type": "markdown",
      "metadata": {
        "id": "K2sLE1gZOTc2"
      },
      "source": [
        "건물 정보와 기후 정보를 활용한 전력사용량 예측 데이터 중에서 \n",
        "\n",
        "환경 변수(기온, 풍속, 습도, 강수량, 일조)에 대해 전력 사용량을 선형회귀 모델을 사용해서 예측해보고자 합니다."
      ]
    },
    {
      "cell_type": "code",
      "execution_count": 6,
      "metadata": {
        "id": "pZUmDRpnHU0U"
      },
      "outputs": [],
      "source": [
        "var_name = ['Temp', 'Wind', 'Moisture', 'Precipitation', 'Sun']\n",
        "target = 'Wh'"
      ]
    },
    {
      "cell_type": "code",
      "execution_count": 7,
      "metadata": {
        "id": "h5zGIO5hHU0U"
      },
      "outputs": [],
      "source": [
        "def parsing(data: pd.DataFrame):\n",
        "    x = data.iloc[:, 3:8]\n",
        "    x.columns = var_name\n",
        "    y = data.iloc[:, 2]\n",
        "    y.name = target\n",
        "    \n",
        "    return x, y"
      ]
    },
    {
      "cell_type": "code",
      "execution_count": 12,
      "metadata": {
        "id": "rM4V-yc4HU0W"
      },
      "outputs": [],
      "source": [
        "def load_data():\n",
        "    data = pd.read_csv('./train.csv', encoding='cp949')\n",
        "    data = data[: 100]\n",
        "    x, y = parsing(data)    \n",
        "    cut = int(round(len(x)*0.88))\n",
        "    tr_x = x[:cut]\n",
        "    tr_y = y[:cut]\n",
        "    te_x = x[cut:]\n",
        "    te_y = y[cut:]\n",
        "    return tr_x, tr_y, te_x, te_y"
      ]
    },
    {
      "cell_type": "code",
      "execution_count": 13,
      "metadata": {
        "id": "YZIbio82HU0W"
      },
      "outputs": [],
      "source": [
        "train_x, train_y, test_x, test_y = load_data()"
      ]
    },
    {
      "cell_type": "markdown",
      "metadata": {
        "id": "FtOBVORnPUCt"
      },
      "source": [
        "## 데이터 확인 \n",
        "\n",
        "주의! 최종 예측하는 단계 이전에는 현재 가지고 있는 데이터, 즉 train data만을 이용하여 작업을 진행해야 합니다.\n",
        "\n",
        "현재 가지고 있는 데이터 train_x를 보고 전력 사용량을 예측하는데에 사용할 변수를 선택해주세요.\n",
        "\n",
        "기초세션에서 다뤘던 내용을 참고하셔서 최적의 변수 조합을 찾아보도록 합시다.\n",
        "\n",
        "이 때 선택해야하는 변수는 하나일 수도 있고, 여러개의 변수를 사용하여도 좋습니다."
      ]
    },
    {
      "cell_type": "code",
      "source": [
        "train_x.head()\n",
        "\n",
        "# Temp, Wind, Misture, Precipitation, Sun의\n",
        "# 총 5개의 독립변수 후보가 있다!"
      ],
      "metadata": {
        "colab": {
          "base_uri": "https://localhost:8080/",
          "height": 206
        },
        "id": "ixDrNBNRJMJQ",
        "outputId": "621ed8d9-2b54-4d70-95fd-5f1d913e18d9"
      },
      "execution_count": 45,
      "outputs": [
        {
          "output_type": "execute_result",
          "data": {
            "text/plain": [
              "   Temp  Wind  Moisture  Precipitation  Sun\n",
              "0  17.6   2.5      92.0            0.8  0.0\n",
              "1  17.7   2.9      91.0            0.3  0.0\n",
              "2  17.5   3.2      91.0            0.0  0.0\n",
              "3  17.1   3.2      91.0            0.0  0.0\n",
              "4  17.0   3.3      92.0            0.0  0.0"
            ],
            "text/html": [
              "\n",
              "  <div id=\"df-e0e63d06-9c5e-4cc3-8540-567f6e25017d\">\n",
              "    <div class=\"colab-df-container\">\n",
              "      <div>\n",
              "<style scoped>\n",
              "    .dataframe tbody tr th:only-of-type {\n",
              "        vertical-align: middle;\n",
              "    }\n",
              "\n",
              "    .dataframe tbody tr th {\n",
              "        vertical-align: top;\n",
              "    }\n",
              "\n",
              "    .dataframe thead th {\n",
              "        text-align: right;\n",
              "    }\n",
              "</style>\n",
              "<table border=\"1\" class=\"dataframe\">\n",
              "  <thead>\n",
              "    <tr style=\"text-align: right;\">\n",
              "      <th></th>\n",
              "      <th>Temp</th>\n",
              "      <th>Wind</th>\n",
              "      <th>Moisture</th>\n",
              "      <th>Precipitation</th>\n",
              "      <th>Sun</th>\n",
              "    </tr>\n",
              "  </thead>\n",
              "  <tbody>\n",
              "    <tr>\n",
              "      <th>0</th>\n",
              "      <td>17.6</td>\n",
              "      <td>2.5</td>\n",
              "      <td>92.0</td>\n",
              "      <td>0.8</td>\n",
              "      <td>0.0</td>\n",
              "    </tr>\n",
              "    <tr>\n",
              "      <th>1</th>\n",
              "      <td>17.7</td>\n",
              "      <td>2.9</td>\n",
              "      <td>91.0</td>\n",
              "      <td>0.3</td>\n",
              "      <td>0.0</td>\n",
              "    </tr>\n",
              "    <tr>\n",
              "      <th>2</th>\n",
              "      <td>17.5</td>\n",
              "      <td>3.2</td>\n",
              "      <td>91.0</td>\n",
              "      <td>0.0</td>\n",
              "      <td>0.0</td>\n",
              "    </tr>\n",
              "    <tr>\n",
              "      <th>3</th>\n",
              "      <td>17.1</td>\n",
              "      <td>3.2</td>\n",
              "      <td>91.0</td>\n",
              "      <td>0.0</td>\n",
              "      <td>0.0</td>\n",
              "    </tr>\n",
              "    <tr>\n",
              "      <th>4</th>\n",
              "      <td>17.0</td>\n",
              "      <td>3.3</td>\n",
              "      <td>92.0</td>\n",
              "      <td>0.0</td>\n",
              "      <td>0.0</td>\n",
              "    </tr>\n",
              "  </tbody>\n",
              "</table>\n",
              "</div>\n",
              "      <button class=\"colab-df-convert\" onclick=\"convertToInteractive('df-e0e63d06-9c5e-4cc3-8540-567f6e25017d')\"\n",
              "              title=\"Convert this dataframe to an interactive table.\"\n",
              "              style=\"display:none;\">\n",
              "        \n",
              "  <svg xmlns=\"http://www.w3.org/2000/svg\" height=\"24px\"viewBox=\"0 0 24 24\"\n",
              "       width=\"24px\">\n",
              "    <path d=\"M0 0h24v24H0V0z\" fill=\"none\"/>\n",
              "    <path d=\"M18.56 5.44l.94 2.06.94-2.06 2.06-.94-2.06-.94-.94-2.06-.94 2.06-2.06.94zm-11 1L8.5 8.5l.94-2.06 2.06-.94-2.06-.94L8.5 2.5l-.94 2.06-2.06.94zm10 10l.94 2.06.94-2.06 2.06-.94-2.06-.94-.94-2.06-.94 2.06-2.06.94z\"/><path d=\"M17.41 7.96l-1.37-1.37c-.4-.4-.92-.59-1.43-.59-.52 0-1.04.2-1.43.59L10.3 9.45l-7.72 7.72c-.78.78-.78 2.05 0 2.83L4 21.41c.39.39.9.59 1.41.59.51 0 1.02-.2 1.41-.59l7.78-7.78 2.81-2.81c.8-.78.8-2.07 0-2.86zM5.41 20L4 18.59l7.72-7.72 1.47 1.35L5.41 20z\"/>\n",
              "  </svg>\n",
              "      </button>\n",
              "      \n",
              "  <style>\n",
              "    .colab-df-container {\n",
              "      display:flex;\n",
              "      flex-wrap:wrap;\n",
              "      gap: 12px;\n",
              "    }\n",
              "\n",
              "    .colab-df-convert {\n",
              "      background-color: #E8F0FE;\n",
              "      border: none;\n",
              "      border-radius: 50%;\n",
              "      cursor: pointer;\n",
              "      display: none;\n",
              "      fill: #1967D2;\n",
              "      height: 32px;\n",
              "      padding: 0 0 0 0;\n",
              "      width: 32px;\n",
              "    }\n",
              "\n",
              "    .colab-df-convert:hover {\n",
              "      background-color: #E2EBFA;\n",
              "      box-shadow: 0px 1px 2px rgba(60, 64, 67, 0.3), 0px 1px 3px 1px rgba(60, 64, 67, 0.15);\n",
              "      fill: #174EA6;\n",
              "    }\n",
              "\n",
              "    [theme=dark] .colab-df-convert {\n",
              "      background-color: #3B4455;\n",
              "      fill: #D2E3FC;\n",
              "    }\n",
              "\n",
              "    [theme=dark] .colab-df-convert:hover {\n",
              "      background-color: #434B5C;\n",
              "      box-shadow: 0px 1px 3px 1px rgba(0, 0, 0, 0.15);\n",
              "      filter: drop-shadow(0px 1px 2px rgba(0, 0, 0, 0.3));\n",
              "      fill: #FFFFFF;\n",
              "    }\n",
              "  </style>\n",
              "\n",
              "      <script>\n",
              "        const buttonEl =\n",
              "          document.querySelector('#df-e0e63d06-9c5e-4cc3-8540-567f6e25017d button.colab-df-convert');\n",
              "        buttonEl.style.display =\n",
              "          google.colab.kernel.accessAllowed ? 'block' : 'none';\n",
              "\n",
              "        async function convertToInteractive(key) {\n",
              "          const element = document.querySelector('#df-e0e63d06-9c5e-4cc3-8540-567f6e25017d');\n",
              "          const dataTable =\n",
              "            await google.colab.kernel.invokeFunction('convertToInteractive',\n",
              "                                                     [key], {});\n",
              "          if (!dataTable) return;\n",
              "\n",
              "          const docLinkHtml = 'Like what you see? Visit the ' +\n",
              "            '<a target=\"_blank\" href=https://colab.research.google.com/notebooks/data_table.ipynb>data table notebook</a>'\n",
              "            + ' to learn more about interactive tables.';\n",
              "          element.innerHTML = '';\n",
              "          dataTable['output_type'] = 'display_data';\n",
              "          await google.colab.output.renderOutput(dataTable, element);\n",
              "          const docLink = document.createElement('div');\n",
              "          docLink.innerHTML = docLinkHtml;\n",
              "          element.appendChild(docLink);\n",
              "        }\n",
              "      </script>\n",
              "    </div>\n",
              "  </div>\n",
              "  "
            ]
          },
          "metadata": {},
          "execution_count": 45
        }
      ]
    },
    {
      "cell_type": "code",
      "execution_count": 29,
      "metadata": {
        "id": "wuD0nXzEDySK",
        "colab": {
          "base_uri": "https://localhost:8080/",
          "height": 284
        },
        "outputId": "fc82d3f1-d79e-4d00-e5f1-55f3f85f12d4"
      },
      "outputs": [
        {
          "output_type": "execute_result",
          "data": {
            "text/plain": [
              "(0.0, 30.0)"
            ]
          },
          "metadata": {},
          "execution_count": 29
        },
        {
          "output_type": "display_data",
          "data": {
            "text/plain": [
              "<Figure size 432x288 with 1 Axes>"
            ],
            "image/png": "[encoded data removed]"
          },
          "metadata": {
            "needs_background": "light"
          }
        }
      ],
      "source": [
        "# 데이터 셋을 둘러보는 코드 작성하시고, 왜 좋은지 한번 둘러보세요!\n",
        "plt.plot(train_x.Temp, train_y, 'bo')\n",
        "plt.xlim(0, 30)\n",
        "# 선형 관계가 성립하는 듯 보인다!"
      ]
    },
    {
      "cell_type": "code",
      "source": [
        "plt.plot(train_x.Wind, train_y, 'bo')\n",
        "plt.xlim(0, 30)\n",
        "# 양의 상관관계를 가진다고 할 수도 있을 것 같다.."
      ],
      "metadata": {
        "colab": {
          "base_uri": "https://localhost:8080/",
          "height": 284
        },
        "id": "bQVieqEHJJA2",
        "outputId": "7f79acad-e38b-4fb3-969b-185d1355a9d8"
      },
      "execution_count": 28,
      "outputs": [
        {
          "output_type": "execute_result",
          "data": {
            "text/plain": [
              "(0.0, 30.0)"
            ]
          },
          "metadata": {},
          "execution_count": 28
        },
        {
          "output_type": "display_data",
          "data": {
            "text/plain": [
              "<Figure size 432x288 with 1 Axes>"
            ],
            "image/png": "[encoded data removed]"
          },
          "metadata": {
            "needs_background": "light"
          }
        }
      ]
    },
    {
      "cell_type": "code",
      "source": [
        "plt.plot(train_x.Moisture, train_y, 'bo')\n",
        "plt.xlim(0, 100)\n",
        "# 역시 선형관계를 파악하기 힘든 산점도이다."
      ],
      "metadata": {
        "colab": {
          "base_uri": "https://localhost:8080/",
          "height": 284
        },
        "id": "LmD5QIY1JgNs",
        "outputId": "7a34bc45-b46e-4f12-e979-f80958302d03"
      },
      "execution_count": 32,
      "outputs": [
        {
          "output_type": "execute_result",
          "data": {
            "text/plain": [
              "(0.0, 100.0)"
            ]
          },
          "metadata": {},
          "execution_count": 32
        },
        {
          "output_type": "display_data",
          "data": {
            "text/plain": [
              "<Figure size 432x288 with 1 Axes>"
            ],
            "image/png": "[encoded data removed]"
          },
          "metadata": {
            "needs_background": "light"
          }
        }
      ]
    },
    {
      "cell_type": "code",
      "source": [
        "plt.plot(train_x.Precipitation, train_y, 'bo')\n",
        "\n",
        "# Precipitation의 경우 대부분의 값이 0.0인 듯하다\n",
        "# 값의 다양성이 떨어져서, 좋은 결과를 낼 수 있을지 의문이다."
      ],
      "metadata": {
        "colab": {
          "base_uri": "https://localhost:8080/",
          "height": 284
        },
        "id": "GoBR_TebJo7_",
        "outputId": "4b0e8b66-6696-45e4-c922-a256fb66ee55"
      },
      "execution_count": 24,
      "outputs": [
        {
          "output_type": "execute_result",
          "data": {
            "text/plain": [
              "[<matplotlib.lines.Line2D at 0x7f7929c5dfd0>]"
            ]
          },
          "metadata": {},
          "execution_count": 24
        },
        {
          "output_type": "display_data",
          "data": {
            "text/plain": [
              "<Figure size 432x288 with 1 Axes>"
            ],
            "image/png": "[encoded data removed]"
          },
          "metadata": {
            "needs_background": "light"
          }
        }
      ]
    },
    {
      "cell_type": "code",
      "source": [
        "plt.plot(train_x.Sun, train_y, 'bo')\n",
        "# 약하지만 data가 우상향하는 모양새를 보인다?"
      ],
      "metadata": {
        "colab": {
          "base_uri": "https://localhost:8080/",
          "height": 284
        },
        "id": "0wzxQqcEJ5c-",
        "outputId": "53a00608-bb4d-4303-d9f0-1e7c841fb506"
      },
      "execution_count": 25,
      "outputs": [
        {
          "output_type": "execute_result",
          "data": {
            "text/plain": [
              "[<matplotlib.lines.Line2D at 0x7f7929be6bd0>]"
            ]
          },
          "metadata": {},
          "execution_count": 25
        },
        {
          "output_type": "display_data",
          "data": {
            "text/plain": [
              "<Figure size 432x288 with 1 Axes>"
            ],
            "image/png": "[encoded data removed]"
          },
          "metadata": {
            "needs_background": "light"
          }
        }
      ]
    },
    {
      "cell_type": "markdown",
      "metadata": {
        "id": "kD24Xx9XLotD"
      },
      "source": [
        "정답은 없습니다! \n",
        "\n",
        "다만 최종 선택한 변수(들)이 왜 선택받았는지 간단히 알려주세요.<br>\n",
        "답변 : Temp, Wind, Sun을 선택하겠습니다!\n",
        "\n",
        "이유: 산점도를 그려 보았을 때 비교적 선형 관계가 존재한다고 할 수 있을 정도의 결과가 나왔기 때문에.<br>\n",
        "(Precipitation, Moisture는 특별한 관계를 파악하기 힘들었다)"
      ]
    },
    {
      "cell_type": "markdown",
      "metadata": {
        "id": "9FeCbQAFP6Kw"
      },
      "source": [
        "## 전처리\n",
        "\n",
        "위에서 선택한 변수들(feature)를 가지고 한번 전력 사용량을 예측하는 모델을 만들어 보기에 앞서,\n",
        "\n",
        "**train 데이터의 feature의 전처리**를 진행해보려고 합니다. StandardScaler를 사용하셔도 좋고, MinMaxScaler를 사용하셔도 좋습니다! \n",
        "\n",
        "또한 PolynomialFeatures를 이용하거나 직접 feature를 계산하여 고차원의 feature를 만드셔도 좋습니다. 이 또한 정답은 없습니다!\n",
        "\n",
        "이 때 최종 train_x의 shape은 (n_samples, n_features)가 되도록 해주세요.<br>\n",
        "ex. 4개의 변수를 가진 1000개의 샘플의 경우 train_x.shape은 (1000,4)가 되면 됩니다.\n",
        "\n",
        "특히 하나의 변수만을 사용하시는 분들은 1D가 아닌 2D가 되도록 신경써주세요<br>\n",
        "ex. train_x.shape이 (1000,)이 아닌 (1000,1)입니다!"
      ]
    },
    {
      "cell_type": "code",
      "execution_count": 33,
      "metadata": {
        "id": "8BIBjwTCHU0Z"
      },
      "outputs": [],
      "source": [
        "# 사용할 패키지를 import!\n",
        "# Standard Scaler를 사용해 보겠습니다\n",
        "\n",
        "from sklearn.preprocessing import StandardScaler"
      ]
    },
    {
      "cell_type": "code",
      "execution_count": 38,
      "metadata": {
        "colab": {
          "base_uri": "https://localhost:8080/",
          "height": 206
        },
        "id": "0A3UVdznHU0a",
        "outputId": "3e824690-6561-4b41-9f10-4893c450d1d7"
      },
      "outputs": [
        {
          "output_type": "execute_result",
          "data": {
            "text/plain": [
              "   Temp  Wind  Sun\n",
              "0  17.6   2.5  0.0\n",
              "1  17.7   2.9  0.0\n",
              "2  17.5   3.2  0.0\n",
              "3  17.1   3.2  0.0\n",
              "4  17.0   3.3  0.0"
            ],
            "text/html": [
              "\n",
              "  <div id=\"df-a70b7d1b-888f-4bec-b22c-70807d596cc1\">\n",
              "    <div class=\"colab-df-container\">\n",
              "      <div>\n",
              "<style scoped>\n",
              "    .dataframe tbody tr th:only-of-type {\n",
              "        vertical-align: middle;\n",
              "    }\n",
              "\n",
              "    .dataframe tbody tr th {\n",
              "        vertical-align: top;\n",
              "    }\n",
              "\n",
              "    .dataframe thead th {\n",
              "        text-align: right;\n",
              "    }\n",
              "</style>\n",
              "<table border=\"1\" class=\"dataframe\">\n",
              "  <thead>\n",
              "    <tr style=\"text-align: right;\">\n",
              "      <th></th>\n",
              "      <th>Temp</th>\n",
              "      <th>Wind</th>\n",
              "      <th>Sun</th>\n",
              "    </tr>\n",
              "  </thead>\n",
              "  <tbody>\n",
              "    <tr>\n",
              "      <th>0</th>\n",
              "      <td>17.6</td>\n",
              "      <td>2.5</td>\n",
              "      <td>0.0</td>\n",
              "    </tr>\n",
              "    <tr>\n",
              "      <th>1</th>\n",
              "      <td>17.7</td>\n",
              "      <td>2.9</td>\n",
              "      <td>0.0</td>\n",
              "    </tr>\n",
              "    <tr>\n",
              "      <th>2</th>\n",
              "      <td>17.5</td>\n",
              "      <td>3.2</td>\n",
              "      <td>0.0</td>\n",
              "    </tr>\n",
              "    <tr>\n",
              "      <th>3</th>\n",
              "      <td>17.1</td>\n",
              "      <td>3.2</td>\n",
              "      <td>0.0</td>\n",
              "    </tr>\n",
              "    <tr>\n",
              "      <th>4</th>\n",
              "      <td>17.0</td>\n",
              "      <td>3.3</td>\n",
              "      <td>0.0</td>\n",
              "    </tr>\n",
              "  </tbody>\n",
              "</table>\n",
              "</div>\n",
              "      <button class=\"colab-df-convert\" onclick=\"convertToInteractive('df-a70b7d1b-888f-4bec-b22c-70807d596cc1')\"\n",
              "              title=\"Convert this dataframe to an interactive table.\"\n",
              "              style=\"display:none;\">\n",
              "        \n",
              "  <svg xmlns=\"http://www.w3.org/2000/svg\" height=\"24px\"viewBox=\"0 0 24 24\"\n",
              "       width=\"24px\">\n",
              "    <path d=\"M0 0h24v24H0V0z\" fill=\"none\"/>\n",
              "    <path d=\"M18.56 5.44l.94 2.06.94-2.06 2.06-.94-2.06-.94-.94-2.06-.94 2.06-2.06.94zm-11 1L8.5 8.5l.94-2.06 2.06-.94-2.06-.94L8.5 2.5l-.94 2.06-2.06.94zm10 10l.94 2.06.94-2.06 2.06-.94-2.06-.94-.94-2.06-.94 2.06-2.06.94z\"/><path d=\"M17.41 7.96l-1.37-1.37c-.4-.4-.92-.59-1.43-.59-.52 0-1.04.2-1.43.59L10.3 9.45l-7.72 7.72c-.78.78-.78 2.05 0 2.83L4 21.41c.39.39.9.59 1.41.59.51 0 1.02-.2 1.41-.59l7.78-7.78 2.81-2.81c.8-.78.8-2.07 0-2.86zM5.41 20L4 18.59l7.72-7.72 1.47 1.35L5.41 20z\"/>\n",
              "  </svg>\n",
              "      </button>\n",
              "      \n",
              "  <style>\n",
              "    .colab-df-container {\n",
              "      display:flex;\n",
              "      flex-wrap:wrap;\n",
              "      gap: 12px;\n",
              "    }\n",
              "\n",
              "    .colab-df-convert {\n",
              "      background-color: #E8F0FE;\n",
              "      border: none;\n",
              "      border-radius: 50%;\n",
              "      cursor: pointer;\n",
              "      display: none;\n",
              "      fill: #1967D2;\n",
              "      height: 32px;\n",
              "      padding: 0 0 0 0;\n",
              "      width: 32px;\n",
              "    }\n",
              "\n",
              "    .colab-df-convert:hover {\n",
              "      background-color: #E2EBFA;\n",
              "      box-shadow: 0px 1px 2px rgba(60, 64, 67, 0.3), 0px 1px 3px 1px rgba(60, 64, 67, 0.15);\n",
              "      fill: #174EA6;\n",
              "    }\n",
              "\n",
              "    [theme=dark] .colab-df-convert {\n",
              "      background-color: #3B4455;\n",
              "      fill: #D2E3FC;\n",
              "    }\n",
              "\n",
              "    [theme=dark] .colab-df-convert:hover {\n",
              "      background-color: #434B5C;\n",
              "      box-shadow: 0px 1px 3px 1px rgba(0, 0, 0, 0.15);\n",
              "      filter: drop-shadow(0px 1px 2px rgba(0, 0, 0, 0.3));\n",
              "      fill: #FFFFFF;\n",
              "    }\n",
              "  </style>\n",
              "\n",
              "      <script>\n",
              "        const buttonEl =\n",
              "          document.querySelector('#df-a70b7d1b-888f-4bec-b22c-70807d596cc1 button.colab-df-convert');\n",
              "        buttonEl.style.display =\n",
              "          google.colab.kernel.accessAllowed ? 'block' : 'none';\n",
              "\n",
              "        async function convertToInteractive(key) {\n",
              "          const element = document.querySelector('#df-a70b7d1b-888f-4bec-b22c-70807d596cc1');\n",
              "          const dataTable =\n",
              "            await google.colab.kernel.invokeFunction('convertToInteractive',\n",
              "                                                     [key], {});\n",
              "          if (!dataTable) return;\n",
              "\n",
              "          const docLinkHtml = 'Like what you see? Visit the ' +\n",
              "            '<a target=\"_blank\" href=https://colab.research.google.com/notebooks/data_table.ipynb>data table notebook</a>'\n",
              "            + ' to learn more about interactive tables.';\n",
              "          element.innerHTML = '';\n",
              "          dataTable['output_type'] = 'display_data';\n",
              "          await google.colab.output.renderOutput(dataTable, element);\n",
              "          const docLink = document.createElement('div');\n",
              "          docLink.innerHTML = docLinkHtml;\n",
              "          element.appendChild(docLink);\n",
              "        }\n",
              "      </script>\n",
              "    </div>\n",
              "  </div>\n",
              "  "
            ]
          },
          "metadata": {},
          "execution_count": 38
        }
      ],
      "source": [
        "train_x_new = train_x.iloc[:, [0, 1, 4]]\n",
        "train_x_new.head()\n",
        "\n",
        "# 앞서 선택한 Temp, Wind, Sun만 남기고 사용합니다!"
      ]
    },
    {
      "cell_type": "code",
      "source": [
        "scaler = StandardScaler()\n",
        "scaler = scaler.fit(train_x_new)\n",
        "\n",
        "train_x_processed = scaler.transform(train_x_new)\n",
        "train_x_processed"
      ],
      "metadata": {
        "colab": {
          "base_uri": "https://localhost:8080/"
        },
        "id": "cUD3AGW3L0hA",
        "outputId": "f62cb749-f2dd-46f4-e2c4-fb5ae7523942"
      },
      "execution_count": 48,
      "outputs": [
        {
          "output_type": "execute_result",
          "data": {
            "text/plain": [
              "array([[-0.80942259, -0.12139024, -0.70431807],\n",
              "       [-0.77879955,  0.25016944, -0.70431807],\n",
              "       [-0.84004563,  0.5288392 , -0.70431807],\n",
              "       [-0.96253778,  0.5288392 , -0.70431807],\n",
              "       [-0.99316082,  0.62172912, -0.70431807],\n",
              "       [-1.02378386,  0.71461904, -0.70431807],\n",
              "       [-1.08502994,  0.71461904, -0.70431807],\n",
              "       [-1.02378386, -0.30717008, -0.46220873],\n",
              "       [-0.74817651,  0.62172912,  0.02200994],\n",
              "       [-0.28883093, -0.49294992,  0.99044729],\n",
              "       [ 0.07864553,  0.71461904,  1.7167753 ],\n",
              "       [ 0.56861415,  0.90039888,  1.7167753 ],\n",
              "       [ 0.87484454,  1.27195856,  1.7167753 ],\n",
              "       [ 0.87484454,  2.29374768,  1.7167753 ],\n",
              "       [ 1.02795973,  2.29374768,  1.7167753 ],\n",
              "       [ 1.08920581,  2.66530736,  1.7167753 ],\n",
              "       [ 1.27294404,  0.34305936,  1.7167753 ],\n",
              "       [ 1.02795973,  1.64351824,  1.7167753 ],\n",
              "       [ 0.75235238,  1.36484848,  1.7167753 ],\n",
              "       [ 0.32362984,  1.4577384 ,  1.7167753 ],\n",
              "       [-0.13571574, -0.12139024,  0.26411928],\n",
              "       [-0.5031922 , -0.12139024, -0.70431807],\n",
              "       [-0.71755347, -0.58583984, -0.70431807],\n",
              "       [-0.93191475, -0.58583984, -0.70431807],\n",
              "       [-1.11565298, -0.95739952, -0.70431807],\n",
              "       [-1.23814513, -1.70051888, -0.70431807],\n",
              "       [-1.33001425, -1.42184912, -0.70431807],\n",
              "       [-1.39126033, -2.07207856, -0.70431807],\n",
              "       [-1.4525064 , -1.60762896, -0.70431807],\n",
              "       [-1.66686767, -1.23606928, -0.70431807],\n",
              "       [-1.6056216 , -0.40006   , -0.70431807],\n",
              "       [-1.4525064 , -1.14317936, -0.70431807],\n",
              "       [-1.29939121, -0.40006   , -0.70431807],\n",
              "       [-1.02378386, -0.12139024, -0.70431807],\n",
              "       [-0.90129171, -0.12139024, -0.70431807],\n",
              "       [-0.84004563, -0.02850032, -0.70431807],\n",
              "       [-1.20752209,  0.25016944, -0.70431807],\n",
              "       [-0.84004563, -0.40006   , -0.70431807],\n",
              "       [ 0.04802249,  0.43594928, -0.46220873],\n",
              "       [ 0.20113769, -0.40006   , -0.70431807],\n",
              "       [ 0.446122  , -0.12139024, -0.46220873],\n",
              "       [ 0.2930068 ,  0.62172912, -0.70431807],\n",
              "       [ 0.10926857, -0.21428016, -0.70431807],\n",
              "       [ 0.01739945,  0.25016944, -0.70431807],\n",
              "       [-0.1050927 ,  0.43594928, -0.70431807],\n",
              "       [-0.19696182,  0.0643896 , -0.70431807],\n",
              "       [-0.28883093, -0.40006   , -0.70431807],\n",
              "       [-0.38070005, -0.8645096 , -0.70431807],\n",
              "       [-0.56443828, -0.8645096 , -0.70431807],\n",
              "       [-0.59506132, -0.58583984, -0.70431807],\n",
              "       [-0.62568436, -0.77161968, -0.70431807],\n",
              "       [-0.62568436, -1.23606928, -0.70431807],\n",
              "       [-0.6563074 , -1.05028944, -0.70431807],\n",
              "       [-0.6563074 , -1.23606928, -0.70431807],\n",
              "       [-0.80942259, -2.07207856, -0.70431807],\n",
              "       [-0.59506132, -0.77161968,  0.02200994],\n",
              "       [-0.16633878, -0.58583984,  1.47466596],\n",
              "       [ 0.17051465, -1.70051888,  0.26411928],\n",
              "       [ 0.53799111, -1.14317936, -0.2200994 ],\n",
              "       [ 0.87484454, -0.40006   ,  0.02200994],\n",
              "       [ 1.27294404, -0.02850032,  0.74833795],\n",
              "       [ 1.7935357 , -0.40006   ,  1.7167753 ],\n",
              "       [ 2.00789697,  0.0643896 ,  1.7167753 ],\n",
              "       [ 2.34475039, -0.12139024,  1.7167753 ],\n",
              "       [ 2.43661951,  0.15727952,  1.7167753 ],\n",
              "       [ 2.40599647,  1.08617872,  1.7167753 ],\n",
              "       [ 1.7935357 ,  1.73640816,  1.7167753 ],\n",
              "       [ 1.08920581,  2.01507792,  1.23255663],\n",
              "       [ 0.23176072,  2.3866376 , -0.70431807],\n",
              "       [ 0.07864553,  0.43594928, -0.70431807],\n",
              "       [ 0.04802249, -0.21428016, -0.70431807],\n",
              "       [-0.04384662, -0.40006   , -0.70431807],\n",
              "       [-0.04384662, -1.05028944, -0.70431807],\n",
              "       [-0.07446966, -0.40006   , -0.70431807],\n",
              "       [-0.04384662, -1.51473904, -0.70431807],\n",
              "       [ 0.04802249, -0.02850032, -0.70431807],\n",
              "       [ 0.07864553, -0.58583984, -0.70431807],\n",
              "       [ 0.01739945, -0.58583984, -0.70431807],\n",
              "       [-0.04384662,  0.34305936, -0.70431807],\n",
              "       [-0.04384662, -0.40006   , -0.70431807],\n",
              "       [-0.04384662,  0.80750896, -0.70431807],\n",
              "       [ 0.10926857,  0.43594928, -0.70431807],\n",
              "       [ 0.66048327,  0.0643896 ,  0.50622861],\n",
              "       [ 1.11982885,  0.15727952,  0.74833795],\n",
              "       [ 1.45668227,  0.43594928,  1.23255663],\n",
              "       [ 1.76291266,  0.43594928,  1.7167753 ],\n",
              "       [ 1.88540481,  1.08617872,  1.7167753 ],\n",
              "       [ 1.57917443,  1.4577384 ,  0.50622861]])"
            ]
          },
          "metadata": {},
          "execution_count": 48
        }
      ]
    },
    {
      "cell_type": "code",
      "source": [
        "train_x_processed.shape"
      ],
      "metadata": {
        "colab": {
          "base_uri": "https://localhost:8080/"
        },
        "id": "RkT-3cB9Mb1F",
        "outputId": "a15711bf-6761-4ec3-b3ce-57e677c7e874"
      },
      "execution_count": 49,
      "outputs": [
        {
          "output_type": "execute_result",
          "data": {
            "text/plain": [
              "(88, 3)"
            ]
          },
          "metadata": {},
          "execution_count": 49
        }
      ]
    },
    {
      "cell_type": "markdown",
      "metadata": {
        "id": "lSKbSdbsHU0a"
      },
      "source": [
        "# 모델링"
      ]
    },
    {
      "cell_type": "markdown",
      "metadata": {
        "id": "fYKd-RhjHU0b"
      },
      "source": [
        "## 학습 \n",
        "\n",
        "이제 모델링을 해봅시다.\n",
        "\n",
        "앞서 다룬 여러 regression 모델들(Linear regression, Ridge Regression, Lasso Regression, ..)을 이용해서 fit을 진행해보도록 합시다."
      ]
    },
    {
      "cell_type": "code",
      "execution_count": 50,
      "metadata": {
        "id": "nCd88UXEQFdZ"
      },
      "outputs": [],
      "source": [
        "# 사용할 패키지를 import!\n",
        "# Linear Regression을 활용해 보도록 하겠습니다.\n",
        "\n",
        "from sklearn.linear_model import LinearRegression"
      ]
    },
    {
      "cell_type": "code",
      "execution_count": 52,
      "metadata": {
        "id": "y7hwaxnZUIwY"
      },
      "outputs": [],
      "source": [
        "# 선형회귀 모델 생성 후 fitting 시킵니다.\n",
        "linear_model = LinearRegression().fit(train_x_processed, train_y)\n",
        "linear_pred_y = linear_model.predict(train_x_processed)"
      ]
    },
    {
      "cell_type": "code",
      "source": [
        "linear_model.coef_"
      ],
      "metadata": {
        "colab": {
          "base_uri": "https://localhost:8080/"
        },
        "id": "_aTPhZndNFiQ",
        "outputId": "f0ae19e1-7d2b-4244-8768-aca0d0f5d1da"
      },
      "execution_count": 63,
      "outputs": [
        {
          "output_type": "execute_result",
          "data": {
            "text/plain": [
              "array([232.9797736 ,   0.86547708, -90.27704453])"
            ]
          },
          "metadata": {},
          "execution_count": 63
        }
      ]
    },
    {
      "cell_type": "code",
      "source": [
        "linear_model.intercept_"
      ],
      "metadata": {
        "colab": {
          "base_uri": "https://localhost:8080/"
        },
        "id": "UYmlvBk4OIec",
        "outputId": "d76d5fb6-6e0b-4ee5-97ae-089b5f7f7b85"
      },
      "execution_count": 61,
      "outputs": [
        {
          "output_type": "execute_result",
          "data": {
            "text/plain": [
              "8142.186272727273"
            ]
          },
          "metadata": {},
          "execution_count": 61
        }
      ]
    },
    {
      "cell_type": "markdown",
      "metadata": {
        "id": "abFGBo3jHU0c"
      },
      "source": [
        "## 추정\n",
        "\n",
        "이제 train_x를 이용하여 전력사용량을 추정해보도록 합시다."
      ]
    },
    {
      "cell_type": "code",
      "execution_count": 72,
      "metadata": {
        "id": "ujnHH2yqHU0c"
      },
      "outputs": [],
      "source": [
        "esti_y = linear_model.predict(train_x_processed)"
      ]
    },
    {
      "cell_type": "code",
      "source": [
        "esti_y"
      ],
      "metadata": {
        "colab": {
          "base_uri": "https://localhost:8080/"
        },
        "id": "_MFcRobEPBdY",
        "outputId": "00d5307f-4654-4a08-a266-1acb3e0aba3e"
      },
      "execution_count": 73,
      "outputs": [
        {
          "output_type": "execute_result",
          "data": {
            "text/plain": [
              "array([8017.08587415, 8024.54199916, 8010.51408421, 7981.97588972,\n",
              "       7974.92173519, 7967.86758067, 7953.59848342, 7945.1263302 ,\n",
              "       7966.42737797, 7985.05321653, 8006.14217706, 8120.45574322,\n",
              "       8192.12280583, 8193.0071409 , 8228.67988402, 8243.27055765,\n",
              "       8284.06799696, 8228.11712534, 8163.66500544, 8063.86171882,\n",
              "       8086.61828224, 8088.43136038, 8038.08754953, 7988.14570917,\n",
              "       7945.01684105, 7915.83549378, 7894.67303021, 7879.84117428,\n",
              "       7865.97404752, 7816.35378355, 7831.34642767, 7866.37601801,\n",
              "       7902.6919139 , 7967.14403379, 7995.68222828, 8010.03171963,\n",
              "       7924.65831844, 8009.71014324, 8195.47868477, 8252.28479641,\n",
              "       8287.74545228, 8274.57277735, 8231.04193874, 8210.04026335,\n",
              "       8181.66285706, 8159.9376348 , 8138.13201845, 8116.32640209,\n",
              "       8073.51911036, 8066.62574403, 8059.33040721, 8058.92843672,\n",
              "       8051.95467629, 8051.7938881 , 8015.39759811, 8000.89420962,\n",
              "       7969.79718612, 8156.59706882, 8286.40784768, 8343.67411991,\n",
              "       8371.17408218, 8404.71217077, 8455.05598162, 8533.37522827,\n",
              "       8555.02005643, 8548.68944878, 8406.561235  , 8286.42162978,\n",
              "       8261.83116795, 8224.47014879, 8216.77284149, 8195.20840743,\n",
              "       8194.64564875, 8188.07385881, 8194.24367826, 8216.93362969,\n",
              "       8223.58581373, 8209.31671648, 8195.85156021, 8195.20840743,\n",
              "       8196.25353069, 8231.60469742, 8250.42041923, 8335.66212726,\n",
              "       8370.6695136 , 8398.30116902, 8427.40212219, 8465.66278937])"
            ]
          },
          "metadata": {},
          "execution_count": 73
        }
      ]
    },
    {
      "cell_type": "markdown",
      "metadata": {
        "id": "l9CzFMjRHU0d"
      },
      "source": [
        "# Loss 및 시각화\n",
        "\n",
        "앞서 fitting하여 얻은 모델을 이용하여 추정한 값으로 MSE를 측정해봅시다. 변수를 하나만 사용하신 분들은 xy 평면에 한번 같이 시각화도 해보셔도 좋습니다."
      ]
    },
    {
      "cell_type": "code",
      "execution_count": 70,
      "metadata": {
        "id": "21uvIGc1HU0e"
      },
      "outputs": [],
      "source": [
        "def mse(pred, true):\n",
        "    return np.mean((pred-true)**2)"
      ]
    },
    {
      "cell_type": "code",
      "execution_count": 74,
      "metadata": {
        "colab": {
          "base_uri": "https://localhost:8080/"
        },
        "id": "r1bSviJmHU0e",
        "outputId": "44ace2bb-09d1-4295-e15b-340d09652911"
      },
      "outputs": [
        {
          "output_type": "stream",
          "name": "stdout",
          "text": [
            "Linear 11423.02779\n"
          ]
        }
      ],
      "source": [
        "train_mse = mse(esti_y, train_y)\n",
        "print(f\"Linear {train_mse:.5f}\")"
      ]
    },
    {
      "cell_type": "code",
      "execution_count": null,
      "metadata": {
        "id": "ThKWK_QdUIyo"
      },
      "outputs": [],
      "source": [
        "def visualize(model, x, y):\n",
        "    if x.shape[1] != 1:\n",
        "        return None\n",
        "    beta = model.coef_[0]\n",
        "    intercept = model.intercept_\n",
        "    \n",
        "    x_axis = np.linspace(np.min(x), np.max(x), 100)\n",
        "    fit = intercept * x_axis**0 + beta*x_axis \n",
        "\n",
        "    plt.figure(figsize=(8,6))\n",
        "    plt.plot(x_axis, fit, label='Predict', c='r', linewidth=3)\n",
        "    plt.scatter(x, y, c='blue')\n",
        "    plt.legend()\n",
        "    plt.show()"
      ]
    },
    {
      "cell_type": "code",
      "execution_count": null,
      "metadata": {
        "id": "6aWk7rARHU0f"
      },
      "outputs": [],
      "source": [
        "# visualization 하실 분은 진행해주세요!\n",
        "# visualize(model, train_x, train_y)"
      ]
    },
    {
      "cell_type": "markdown",
      "metadata": {
        "id": "n2ahQ3mkHU0g"
      },
      "source": [
        "# 예측"
      ]
    },
    {
      "cell_type": "markdown",
      "metadata": {
        "id": "T-6Xv53GXm4K"
      },
      "source": [
        "테스트셋에 대해서 한번 **예측**해보도록 합시다.\n",
        "\n",
        "이미 fitting된 모델 (그리고 scaler를 사용하신다면 scaler)에 대해 **fit을 하지 말고** 단순히 predict만 진행해보도록 합시다. \n",
        "\n",
        "scaler는 transform만 하시고 model은 predict을 진행해주세요"
      ]
    },
    {
      "cell_type": "code",
      "execution_count": 75,
      "metadata": {
        "id": "YTwIN94ZYlhU"
      },
      "outputs": [],
      "source": [
        "# transform을 하시는 분들은 실행해주세요\n",
        "test_x = test_x.iloc[:, [0,1,4]]\n",
        "test_x = scaler.transform(test_x)"
      ]
    },
    {
      "cell_type": "code",
      "execution_count": 76,
      "metadata": {
        "id": "PPAr6BBIHU0h"
      },
      "outputs": [],
      "source": [
        "# y1_hat에 predict값 할당\n",
        "pred_y = linear_model.predict(test_x)"
      ]
    },
    {
      "cell_type": "markdown",
      "metadata": {
        "id": "Gty8mIt8HU0h"
      },
      "source": [
        "# 성능 평가\n",
        "\n",
        "한번 학습한 모델에 대해 test_y를 이용하여 mse loss를 측정해도도록 합시다."
      ]
    },
    {
      "cell_type": "code",
      "execution_count": 77,
      "metadata": {
        "id": "R-QiASwoHU0i"
      },
      "outputs": [],
      "source": [
        "def score(train_mse, test_mse):\n",
        "    print(f\"{test_mse/train_mse: .4f}\")"
      ]
    },
    {
      "cell_type": "code",
      "execution_count": 78,
      "metadata": {
        "scrolled": true,
        "colab": {
          "base_uri": "https://localhost:8080/"
        },
        "id": "pNTICqd6HU0i",
        "outputId": "49da4b95-c2f1-4037-f450-91e05d8cde2d"
      },
      "outputs": [
        {
          "output_type": "stream",
          "name": "stdout",
          "text": [
            "Linear 141348.44777\n"
          ]
        }
      ],
      "source": [
        "test_mse = mse(pred_y, test_y)\n",
        "print(f\"Linear {test_mse:.5f}\")"
      ]
    },
    {
      "cell_type": "code",
      "execution_count": 79,
      "metadata": {
        "colab": {
          "base_uri": "https://localhost:8080/"
        },
        "id": "8cYVMUm6HU0j",
        "outputId": "e5162a8e-0bb5-4082-fa95-640d70b3cf88"
      },
      "outputs": [
        {
          "output_type": "stream",
          "name": "stdout",
          "text": [
            " 12.3740\n"
          ]
        }
      ],
      "source": [
        "score(train_mse,test_mse)"
      ]
    },
    {
      "cell_type": "code",
      "execution_count": null,
      "metadata": {
        "id": "hHQz6NrkXmtW"
      },
      "outputs": [],
      "source": [
        "# visualization 하실 분은 진행해주세요!\n",
        "# visualize(model, test_x, test_y)"
      ]
    },
    {
      "cell_type": "markdown",
      "metadata": {
        "id": "N18b3kSVHU0k"
      },
      "source": [
        "# 그 이후\n",
        "\n",
        "이제 여러분들은 한번 모델을 만들어보고 fitting한 다음 예측까지 해보셨습니다.\n",
        "\n",
        "이제 개선하기 위해 1.데이터부터 5.성능평가 중 수정, 변경하실 부분을 업데이트 해서  최적의 모델을 찾아보세요!\n",
        "\n",
        "현재 사용하고 있는 scaler, model부터 전처리과정 기타 여러 조건을 조작해보시고 어떤 효과가 있는지 한번 보시고 알려주세요:D"
      ]
    },
    {
      "cell_type": "markdown",
      "metadata": {
        "id": "z103jw6iHU0k"
      },
      "source": [
        "고생하셨습니다!"
      ]
    }
  ],
  "metadata": {
    "colab": {
      "collapsed_sections": [],
      "name": "[7기 김경한] Supervised_learning_과제.ipynb",
      "provenance": [],
      "toc_visible": true
    },
    "kernelspec": {
      "display_name": "Python 3 (ipykernel)",
      "language": "python",
      "name": "python3"
    },
    "language_info": {
      "codemirror_mode": {
        "name": "ipython",
        "version": 3
      },
      "file_extension": ".py",
      "mimetype": "text/x-python",
      "name": "python",
      "nbconvert_exporter": "python",
      "pygments_lexer": "ipython3",
      "version": "3.8.12"
    },
    "toc": {
      "base_numbering": 1,
      "nav_menu": {},
      "number_sections": true,
      "sideBar": true,
      "skip_h1_title": false,
      "title_cell": "Table of Contents",
      "title_sidebar": "Contents",
      "toc_cell": false,
      "toc_position": {
        "height": "calc(100% - 180px)",
        "left": "10px",
        "top": "150px",
        "width": "300.792px"
      },
      "toc_section_display": true,
      "toc_window_display": true
    }
  },
  "nbformat": 4,
  "nbformat_minor": 0
}