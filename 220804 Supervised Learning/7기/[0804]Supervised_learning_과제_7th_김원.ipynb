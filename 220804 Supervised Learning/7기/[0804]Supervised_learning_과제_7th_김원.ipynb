{
  "cells": [
    {
      "cell_type": "code",
      "execution_count": 1,
      "metadata": {
        "id": "NuogZdJAewSq"
      },
      "outputs": [],
      "source": [
        "import numpy as np\n",
        "import pandas as pd\n",
        "import matplotlib.pyplot as plt"
      ]
    },
    {
      "cell_type": "markdown",
      "metadata": {
        "id": "u5RQzjdjj6I2"
      },
      "source": [
        "코랩 사용하시는 분들은 아래의 코드를 실행해주세요!"
      ]
    },
    {
      "cell_type": "code",
      "execution_count": 2,
      "metadata": {
        "id": "7J7wP7X6nQtv",
        "colab": {
          "base_uri": "https://localhost:8080/"
        },
        "outputId": "2d54960d-65cb-43cf-b3d5-00fa0b9c9342"
      },
      "outputs": [
        {
          "output_type": "stream",
          "name": "stdout",
          "text": [
            "Mounted at /content/drive\n"
          ]
        }
      ],
      "source": [
        "from google.colab import drive\n",
        "drive.mount('/content/drive')"
      ]
    },
    {
      "cell_type": "code",
      "execution_count": null,
      "metadata": {
        "id": "OA4UW3j4kePR"
      },
      "outputs": [],
      "source": [
        "# import os\n",
        "# os.getcwd()"
      ]
    },
    {
      "cell_type": "markdown",
      "metadata": {
        "id": "NtVt7I7qWH8s"
      },
      "source": [
        "코랩 사용시 본인 구글 드라이브 경로는  \n",
        "/content/drive/MyDrive/...  \n",
        "입니다."
      ]
    },
    {
      "cell_type": "code",
      "source": [
        "import os"
      ],
      "metadata": {
        "id": "v0VqzhBUNs6w"
      },
      "execution_count": 4,
      "outputs": []
    },
    {
      "cell_type": "code",
      "execution_count": 5,
      "metadata": {
        "id": "SiVE75urjpg3"
      },
      "outputs": [],
      "source": [
        "path = '/content/drive/MyDrive/DSL/2022-2/220804 supervised_learning/data'    # 과제 데이터셋이 저장된 경로를 더 작성해주세요\n",
        "os.chdir(path)"
      ]
    },
    {
      "cell_type": "code",
      "execution_count": 6,
      "metadata": {
        "id": "0qXX7Ab0kHuX",
        "colab": {
          "base_uri": "https://localhost:8080/",
          "height": 35
        },
        "outputId": "81a32110-3a72-4a81-c894-c08fac8eaf11"
      },
      "outputs": [
        {
          "output_type": "execute_result",
          "data": {
            "text/plain": [
              "'/content/drive/MyDrive/DSL/2022-2/220804 supervised_learning/data'"
            ],
            "application/vnd.google.colaboratory.intrinsic+json": {
              "type": "string"
            }
          },
          "metadata": {},
          "execution_count": 6
        }
      ],
      "source": [
        "os.getcwd()"
      ]
    },
    {
      "cell_type": "markdown",
      "metadata": {
        "id": "JfNxu2eTDyl6"
      },
      "source": [
        "사용할 데이터 셋 :  전력 사용량 예측 모델\n",
        "\n",
        "아래의 과정에서 sklearn의 Pipeline의 사용은 필수는 아닙니다. 선호와 필요에 따라 사용하실 분들은 사용하셔도 좋습니다."
      ]
    },
    {
      "cell_type": "markdown",
      "metadata": {
        "id": "PbfGhv8UMqVA"
      },
      "source": [
        "# 데이터"
      ]
    },
    {
      "cell_type": "markdown",
      "metadata": {
        "id": "K2sLE1gZOTc2"
      },
      "source": [
        "건물 정보와 기후 정보를 활용한 전력사용량 예측 데이터 중에서 \n",
        "\n",
        "환경 변수(기온, 풍속, 습도, 강수량, 일조)에 대해 전력 사용량을 선형회귀 모델을 사용해서 예측해보고자 합니다."
      ]
    },
    {
      "cell_type": "code",
      "execution_count": 7,
      "metadata": {
        "id": "YvHiLoruMqVB"
      },
      "outputs": [],
      "source": [
        "var_name = ['Temp', 'Wind', 'Moisture', 'Precipitation', 'Sun']\n",
        "target = 'Wh'"
      ]
    },
    {
      "cell_type": "code",
      "execution_count": 8,
      "metadata": {
        "id": "s0bBHrJQMqVC"
      },
      "outputs": [],
      "source": [
        "def parsing(data: pd.DataFrame):\n",
        "    x = data.iloc[:, 3:8]\n",
        "    x.columns = var_name\n",
        "    y = data.iloc[:, 2]\n",
        "    y.name = target\n",
        "    \n",
        "    return x, y"
      ]
    },
    {
      "cell_type": "code",
      "execution_count": 11,
      "metadata": {
        "id": "oRQF5xF_MqVC"
      },
      "outputs": [],
      "source": [
        "def load_data():\n",
        "    data = pd.read_csv('/content/drive/MyDrive/DSL/2022-2/220804 supervised_learning/data/train.csv', encoding='cp949')\n",
        "    data = data[: 100]\n",
        "    x, y = parsing(data)    \n",
        "    cut = int(round(len(x)*0.88))\n",
        "    tr_x = x[:cut]\n",
        "    tr_y = y[:cut]\n",
        "    te_x = x[cut:]\n",
        "    te_y = y[cut:]\n",
        "    return tr_x, tr_y, te_x, te_y"
      ]
    },
    {
      "cell_type": "code",
      "execution_count": 12,
      "metadata": {
        "id": "Sm83lrBEMqVD"
      },
      "outputs": [],
      "source": [
        "train_x, train_y, test_x, test_y = load_data()"
      ]
    },
    {
      "cell_type": "markdown",
      "metadata": {
        "id": "FtOBVORnPUCt"
      },
      "source": [
        "## 데이터 확인 \n",
        "\n",
        "주의! 최종 예측하는 단계 이전에는 현재 가지고 있는 데이터, 즉 train data만을 이용하여 작업을 진행해야 합니다.\n",
        "\n",
        "현재 가지고 있는 데이터 train_x를 보고 전력 사용량을 예측하는데에 사용할 변수를 선택해주세요.\n",
        "\n",
        "기초세션에서 다뤘던 내용을 참고하셔서 최적의 변수 조합을 찾아보도록 합시다.\n",
        "\n",
        "이 때 선택해야하는 변수는 하나일 수도 있고, 여러개의 변수를 사용하여도 좋습니다."
      ]
    },
    {
      "cell_type": "code",
      "execution_count": 15,
      "metadata": {
        "id": "wuD0nXzEDySK",
        "colab": {
          "base_uri": "https://localhost:8080/",
          "height": 424
        },
        "outputId": "da571c75-8a58-451f-9e0f-264355f9900b"
      },
      "outputs": [
        {
          "output_type": "execute_result",
          "data": {
            "text/plain": [
              "    Temp  Wind  Moisture  Precipitation  Sun\n",
              "0   17.6   2.5      92.0            0.8  0.0\n",
              "1   17.7   2.9      91.0            0.3  0.0\n",
              "2   17.5   3.2      91.0            0.0  0.0\n",
              "3   17.1   3.2      91.0            0.0  0.0\n",
              "4   17.0   3.3      92.0            0.0  0.0\n",
              "..   ...   ...       ...            ...  ...\n",
              "83  23.9   2.8      68.0            0.0  0.6\n",
              "84  25.0   3.1      63.0            0.0  0.8\n",
              "85  26.0   3.1      60.0            0.0  1.0\n",
              "86  26.4   3.8      60.0            0.0  1.0\n",
              "87  25.4   4.2      66.0            0.0  0.5\n",
              "\n",
              "[88 rows x 5 columns]"
            ],
            "text/html": [
              "\n",
              "  <div id=\"df-62076e8a-4a60-49f8-a478-376ce23b9af1\">\n",
              "    <div class=\"colab-df-container\">\n",
              "      <div>\n",
              "<style scoped>\n",
              "    .dataframe tbody tr th:only-of-type {\n",
              "        vertical-align: middle;\n",
              "    }\n",
              "\n",
              "    .dataframe tbody tr th {\n",
              "        vertical-align: top;\n",
              "    }\n",
              "\n",
              "    .dataframe thead th {\n",
              "        text-align: right;\n",
              "    }\n",
              "</style>\n",
              "<table border=\"1\" class=\"dataframe\">\n",
              "  <thead>\n",
              "    <tr style=\"text-align: right;\">\n",
              "      <th></th>\n",
              "      <th>Temp</th>\n",
              "      <th>Wind</th>\n",
              "      <th>Moisture</th>\n",
              "      <th>Precipitation</th>\n",
              "      <th>Sun</th>\n",
              "    </tr>\n",
              "  </thead>\n",
              "  <tbody>\n",
              "    <tr>\n",
              "      <th>0</th>\n",
              "      <td>17.6</td>\n",
              "      <td>2.5</td>\n",
              "      <td>92.0</td>\n",
              "      <td>0.8</td>\n",
              "      <td>0.0</td>\n",
              "    </tr>\n",
              "    <tr>\n",
              "      <th>1</th>\n",
              "      <td>17.7</td>\n",
              "      <td>2.9</td>\n",
              "      <td>91.0</td>\n",
              "      <td>0.3</td>\n",
              "      <td>0.0</td>\n",
              "    </tr>\n",
              "    <tr>\n",
              "      <th>2</th>\n",
              "      <td>17.5</td>\n",
              "      <td>3.2</td>\n",
              "      <td>91.0</td>\n",
              "      <td>0.0</td>\n",
              "      <td>0.0</td>\n",
              "    </tr>\n",
              "    <tr>\n",
              "      <th>3</th>\n",
              "      <td>17.1</td>\n",
              "      <td>3.2</td>\n",
              "      <td>91.0</td>\n",
              "      <td>0.0</td>\n",
              "      <td>0.0</td>\n",
              "    </tr>\n",
              "    <tr>\n",
              "      <th>4</th>\n",
              "      <td>17.0</td>\n",
              "      <td>3.3</td>\n",
              "      <td>92.0</td>\n",
              "      <td>0.0</td>\n",
              "      <td>0.0</td>\n",
              "    </tr>\n",
              "    <tr>\n",
              "      <th>...</th>\n",
              "      <td>...</td>\n",
              "      <td>...</td>\n",
              "      <td>...</td>\n",
              "      <td>...</td>\n",
              "      <td>...</td>\n",
              "    </tr>\n",
              "    <tr>\n",
              "      <th>83</th>\n",
              "      <td>23.9</td>\n",
              "      <td>2.8</td>\n",
              "      <td>68.0</td>\n",
              "      <td>0.0</td>\n",
              "      <td>0.6</td>\n",
              "    </tr>\n",
              "    <tr>\n",
              "      <th>84</th>\n",
              "      <td>25.0</td>\n",
              "      <td>3.1</td>\n",
              "      <td>63.0</td>\n",
              "      <td>0.0</td>\n",
              "      <td>0.8</td>\n",
              "    </tr>\n",
              "    <tr>\n",
              "      <th>85</th>\n",
              "      <td>26.0</td>\n",
              "      <td>3.1</td>\n",
              "      <td>60.0</td>\n",
              "      <td>0.0</td>\n",
              "      <td>1.0</td>\n",
              "    </tr>\n",
              "    <tr>\n",
              "      <th>86</th>\n",
              "      <td>26.4</td>\n",
              "      <td>3.8</td>\n",
              "      <td>60.0</td>\n",
              "      <td>0.0</td>\n",
              "      <td>1.0</td>\n",
              "    </tr>\n",
              "    <tr>\n",
              "      <th>87</th>\n",
              "      <td>25.4</td>\n",
              "      <td>4.2</td>\n",
              "      <td>66.0</td>\n",
              "      <td>0.0</td>\n",
              "      <td>0.5</td>\n",
              "    </tr>\n",
              "  </tbody>\n",
              "</table>\n",
              "<p>88 rows × 5 columns</p>\n",
              "</div>\n",
              "      <button class=\"colab-df-convert\" onclick=\"convertToInteractive('df-62076e8a-4a60-49f8-a478-376ce23b9af1')\"\n",
              "              title=\"Convert this dataframe to an interactive table.\"\n",
              "              style=\"display:none;\">\n",
              "        \n",
              "  <svg xmlns=\"http://www.w3.org/2000/svg\" height=\"24px\"viewBox=\"0 0 24 24\"\n",
              "       width=\"24px\">\n",
              "    <path d=\"M0 0h24v24H0V0z\" fill=\"none\"/>\n",
              "    <path d=\"M18.56 5.44l.94 2.06.94-2.06 2.06-.94-2.06-.94-.94-2.06-.94 2.06-2.06.94zm-11 1L8.5 8.5l.94-2.06 2.06-.94-2.06-.94L8.5 2.5l-.94 2.06-2.06.94zm10 10l.94 2.06.94-2.06 2.06-.94-2.06-.94-.94-2.06-.94 2.06-2.06.94z\"/><path d=\"M17.41 7.96l-1.37-1.37c-.4-.4-.92-.59-1.43-.59-.52 0-1.04.2-1.43.59L10.3 9.45l-7.72 7.72c-.78.78-.78 2.05 0 2.83L4 21.41c.39.39.9.59 1.41.59.51 0 1.02-.2 1.41-.59l7.78-7.78 2.81-2.81c.8-.78.8-2.07 0-2.86zM5.41 20L4 18.59l7.72-7.72 1.47 1.35L5.41 20z\"/>\n",
              "  </svg>\n",
              "      </button>\n",
              "      \n",
              "  <style>\n",
              "    .colab-df-container {\n",
              "      display:flex;\n",
              "      flex-wrap:wrap;\n",
              "      gap: 12px;\n",
              "    }\n",
              "\n",
              "    .colab-df-convert {\n",
              "      background-color: #E8F0FE;\n",
              "      border: none;\n",
              "      border-radius: 50%;\n",
              "      cursor: pointer;\n",
              "      display: none;\n",
              "      fill: #1967D2;\n",
              "      height: 32px;\n",
              "      padding: 0 0 0 0;\n",
              "      width: 32px;\n",
              "    }\n",
              "\n",
              "    .colab-df-convert:hover {\n",
              "      background-color: #E2EBFA;\n",
              "      box-shadow: 0px 1px 2px rgba(60, 64, 67, 0.3), 0px 1px 3px 1px rgba(60, 64, 67, 0.15);\n",
              "      fill: #174EA6;\n",
              "    }\n",
              "\n",
              "    [theme=dark] .colab-df-convert {\n",
              "      background-color: #3B4455;\n",
              "      fill: #D2E3FC;\n",
              "    }\n",
              "\n",
              "    [theme=dark] .colab-df-convert:hover {\n",
              "      background-color: #434B5C;\n",
              "      box-shadow: 0px 1px 3px 1px rgba(0, 0, 0, 0.15);\n",
              "      filter: drop-shadow(0px 1px 2px rgba(0, 0, 0, 0.3));\n",
              "      fill: #FFFFFF;\n",
              "    }\n",
              "  </style>\n",
              "\n",
              "      <script>\n",
              "        const buttonEl =\n",
              "          document.querySelector('#df-62076e8a-4a60-49f8-a478-376ce23b9af1 button.colab-df-convert');\n",
              "        buttonEl.style.display =\n",
              "          google.colab.kernel.accessAllowed ? 'block' : 'none';\n",
              "\n",
              "        async function convertToInteractive(key) {\n",
              "          const element = document.querySelector('#df-62076e8a-4a60-49f8-a478-376ce23b9af1');\n",
              "          const dataTable =\n",
              "            await google.colab.kernel.invokeFunction('convertToInteractive',\n",
              "                                                     [key], {});\n",
              "          if (!dataTable) return;\n",
              "\n",
              "          const docLinkHtml = 'Like what you see? Visit the ' +\n",
              "            '<a target=\"_blank\" href=https://colab.research.google.com/notebooks/data_table.ipynb>data table notebook</a>'\n",
              "            + ' to learn more about interactive tables.';\n",
              "          element.innerHTML = '';\n",
              "          dataTable['output_type'] = 'display_data';\n",
              "          await google.colab.output.renderOutput(dataTable, element);\n",
              "          const docLink = document.createElement('div');\n",
              "          docLink.innerHTML = docLinkHtml;\n",
              "          element.appendChild(docLink);\n",
              "        }\n",
              "      </script>\n",
              "    </div>\n",
              "  </div>\n",
              "  "
            ]
          },
          "metadata": {},
          "execution_count": 15
        }
      ],
      "source": [
        "# 데이터 셋을 둘러보는 코드 작성하시고, 왜 좋은지 한번 둘러보세요!\n",
        "train_x"
      ]
    },
    {
      "cell_type": "code",
      "source": [
        "train_y"
      ],
      "metadata": {
        "colab": {
          "base_uri": "https://localhost:8080/"
        },
        "id": "z2wQb7l7RJ5H",
        "outputId": "692f4145-f1cc-4f6c-ecf6-616b08c458f3"
      },
      "execution_count": 14,
      "outputs": [
        {
          "output_type": "execute_result",
          "data": {
            "text/plain": [
              "0     8179.056\n",
              "1     8135.640\n",
              "2     8107.128\n",
              "3     8048.808\n",
              "4     8043.624\n",
              "        ...   \n",
              "83    8386.416\n",
              "84    8435.664\n",
              "85    8591.184\n",
              "86    8638.488\n",
              "87    8663.112\n",
              "Name: Wh, Length: 88, dtype: float64"
            ]
          },
          "metadata": {},
          "execution_count": 14
        }
      ]
    },
    {
      "cell_type": "code",
      "source": [
        "train_x= train_x[['Temp','Moisture']]"
      ],
      "metadata": {
        "id": "nWOHJh6pRbnJ"
      },
      "execution_count": 24,
      "outputs": []
    },
    {
      "cell_type": "code",
      "source": [
        "train_x"
      ],
      "metadata": {
        "colab": {
          "base_uri": "https://localhost:8080/",
          "height": 424
        },
        "id": "wm2HAEmyRkga",
        "outputId": "a31c67e3-005a-4fba-cf41-845e8a99dbca"
      },
      "execution_count": 25,
      "outputs": [
        {
          "output_type": "execute_result",
          "data": {
            "text/plain": [
              "    Temp  Moisture\n",
              "0   17.6      92.0\n",
              "1   17.7      91.0\n",
              "2   17.5      91.0\n",
              "3   17.1      91.0\n",
              "4   17.0      92.0\n",
              "..   ...       ...\n",
              "83  23.9      68.0\n",
              "84  25.0      63.0\n",
              "85  26.0      60.0\n",
              "86  26.4      60.0\n",
              "87  25.4      66.0\n",
              "\n",
              "[88 rows x 2 columns]"
            ],
            "text/html": [
              "\n",
              "  <div id=\"df-081efdbd-0c17-4d10-a4f3-269158bfa6ea\">\n",
              "    <div class=\"colab-df-container\">\n",
              "      <div>\n",
              "<style scoped>\n",
              "    .dataframe tbody tr th:only-of-type {\n",
              "        vertical-align: middle;\n",
              "    }\n",
              "\n",
              "    .dataframe tbody tr th {\n",
              "        vertical-align: top;\n",
              "    }\n",
              "\n",
              "    .dataframe thead th {\n",
              "        text-align: right;\n",
              "    }\n",
              "</style>\n",
              "<table border=\"1\" class=\"dataframe\">\n",
              "  <thead>\n",
              "    <tr style=\"text-align: right;\">\n",
              "      <th></th>\n",
              "      <th>Temp</th>\n",
              "      <th>Moisture</th>\n",
              "    </tr>\n",
              "  </thead>\n",
              "  <tbody>\n",
              "    <tr>\n",
              "      <th>0</th>\n",
              "      <td>17.6</td>\n",
              "      <td>92.0</td>\n",
              "    </tr>\n",
              "    <tr>\n",
              "      <th>1</th>\n",
              "      <td>17.7</td>\n",
              "      <td>91.0</td>\n",
              "    </tr>\n",
              "    <tr>\n",
              "      <th>2</th>\n",
              "      <td>17.5</td>\n",
              "      <td>91.0</td>\n",
              "    </tr>\n",
              "    <tr>\n",
              "      <th>3</th>\n",
              "      <td>17.1</td>\n",
              "      <td>91.0</td>\n",
              "    </tr>\n",
              "    <tr>\n",
              "      <th>4</th>\n",
              "      <td>17.0</td>\n",
              "      <td>92.0</td>\n",
              "    </tr>\n",
              "    <tr>\n",
              "      <th>...</th>\n",
              "      <td>...</td>\n",
              "      <td>...</td>\n",
              "    </tr>\n",
              "    <tr>\n",
              "      <th>83</th>\n",
              "      <td>23.9</td>\n",
              "      <td>68.0</td>\n",
              "    </tr>\n",
              "    <tr>\n",
              "      <th>84</th>\n",
              "      <td>25.0</td>\n",
              "      <td>63.0</td>\n",
              "    </tr>\n",
              "    <tr>\n",
              "      <th>85</th>\n",
              "      <td>26.0</td>\n",
              "      <td>60.0</td>\n",
              "    </tr>\n",
              "    <tr>\n",
              "      <th>86</th>\n",
              "      <td>26.4</td>\n",
              "      <td>60.0</td>\n",
              "    </tr>\n",
              "    <tr>\n",
              "      <th>87</th>\n",
              "      <td>25.4</td>\n",
              "      <td>66.0</td>\n",
              "    </tr>\n",
              "  </tbody>\n",
              "</table>\n",
              "<p>88 rows × 2 columns</p>\n",
              "</div>\n",
              "      <button class=\"colab-df-convert\" onclick=\"convertToInteractive('df-081efdbd-0c17-4d10-a4f3-269158bfa6ea')\"\n",
              "              title=\"Convert this dataframe to an interactive table.\"\n",
              "              style=\"display:none;\">\n",
              "        \n",
              "  <svg xmlns=\"http://www.w3.org/2000/svg\" height=\"24px\"viewBox=\"0 0 24 24\"\n",
              "       width=\"24px\">\n",
              "    <path d=\"M0 0h24v24H0V0z\" fill=\"none\"/>\n",
              "    <path d=\"M18.56 5.44l.94 2.06.94-2.06 2.06-.94-2.06-.94-.94-2.06-.94 2.06-2.06.94zm-11 1L8.5 8.5l.94-2.06 2.06-.94-2.06-.94L8.5 2.5l-.94 2.06-2.06.94zm10 10l.94 2.06.94-2.06 2.06-.94-2.06-.94-.94-2.06-.94 2.06-2.06.94z\"/><path d=\"M17.41 7.96l-1.37-1.37c-.4-.4-.92-.59-1.43-.59-.52 0-1.04.2-1.43.59L10.3 9.45l-7.72 7.72c-.78.78-.78 2.05 0 2.83L4 21.41c.39.39.9.59 1.41.59.51 0 1.02-.2 1.41-.59l7.78-7.78 2.81-2.81c.8-.78.8-2.07 0-2.86zM5.41 20L4 18.59l7.72-7.72 1.47 1.35L5.41 20z\"/>\n",
              "  </svg>\n",
              "      </button>\n",
              "      \n",
              "  <style>\n",
              "    .colab-df-container {\n",
              "      display:flex;\n",
              "      flex-wrap:wrap;\n",
              "      gap: 12px;\n",
              "    }\n",
              "\n",
              "    .colab-df-convert {\n",
              "      background-color: #E8F0FE;\n",
              "      border: none;\n",
              "      border-radius: 50%;\n",
              "      cursor: pointer;\n",
              "      display: none;\n",
              "      fill: #1967D2;\n",
              "      height: 32px;\n",
              "      padding: 0 0 0 0;\n",
              "      width: 32px;\n",
              "    }\n",
              "\n",
              "    .colab-df-convert:hover {\n",
              "      background-color: #E2EBFA;\n",
              "      box-shadow: 0px 1px 2px rgba(60, 64, 67, 0.3), 0px 1px 3px 1px rgba(60, 64, 67, 0.15);\n",
              "      fill: #174EA6;\n",
              "    }\n",
              "\n",
              "    [theme=dark] .colab-df-convert {\n",
              "      background-color: #3B4455;\n",
              "      fill: #D2E3FC;\n",
              "    }\n",
              "\n",
              "    [theme=dark] .colab-df-convert:hover {\n",
              "      background-color: #434B5C;\n",
              "      box-shadow: 0px 1px 3px 1px rgba(0, 0, 0, 0.15);\n",
              "      filter: drop-shadow(0px 1px 2px rgba(0, 0, 0, 0.3));\n",
              "      fill: #FFFFFF;\n",
              "    }\n",
              "  </style>\n",
              "\n",
              "      <script>\n",
              "        const buttonEl =\n",
              "          document.querySelector('#df-081efdbd-0c17-4d10-a4f3-269158bfa6ea button.colab-df-convert');\n",
              "        buttonEl.style.display =\n",
              "          google.colab.kernel.accessAllowed ? 'block' : 'none';\n",
              "\n",
              "        async function convertToInteractive(key) {\n",
              "          const element = document.querySelector('#df-081efdbd-0c17-4d10-a4f3-269158bfa6ea');\n",
              "          const dataTable =\n",
              "            await google.colab.kernel.invokeFunction('convertToInteractive',\n",
              "                                                     [key], {});\n",
              "          if (!dataTable) return;\n",
              "\n",
              "          const docLinkHtml = 'Like what you see? Visit the ' +\n",
              "            '<a target=\"_blank\" href=https://colab.research.google.com/notebooks/data_table.ipynb>data table notebook</a>'\n",
              "            + ' to learn more about interactive tables.';\n",
              "          element.innerHTML = '';\n",
              "          dataTable['output_type'] = 'display_data';\n",
              "          await google.colab.output.renderOutput(dataTable, element);\n",
              "          const docLink = document.createElement('div');\n",
              "          docLink.innerHTML = docLinkHtml;\n",
              "          element.appendChild(docLink);\n",
              "        }\n",
              "      </script>\n",
              "    </div>\n",
              "  </div>\n",
              "  "
            ]
          },
          "metadata": {},
          "execution_count": 25
        }
      ]
    },
    {
      "cell_type": "markdown",
      "metadata": {
        "id": "kD24Xx9XLotD"
      },
      "source": [
        "정답은 없습니다! \n",
        "\n",
        "다만 최종 선택한 변수(들)이 왜 선택받았는지 간단히 알려주세요.<br>\n",
        "답변 : 날씨가 중 에어컨 소비와, 난방에 의해 변화되는 전력량이 클 것이다라고 판단하여 기온과 습도 변수를 선택하였습니다. "
      ]
    },
    {
      "cell_type": "markdown",
      "metadata": {
        "id": "9FeCbQAFP6Kw"
      },
      "source": [
        "## 전처리\n",
        "\n",
        "위에서 선택한 변수들(feature)를 가지고 한번 전력 사용량을 예측하는 모델을 만들어 보기에 앞서,\n",
        "\n",
        "**train 데이터의 feature의 전처리**를 진행해보려고 합니다. StandardScaler를 사용하셔도 좋고, MinMaxScaler를 사용하셔도 좋습니다! \n",
        "\n",
        "또한 PolynomialFeatures를 이용하거나 직접 feature를 계산하여 고차원의 feature를 만드셔도 좋습니다. 이 또한 정답은 없습니다!\n",
        "\n",
        "이 때 최종 train_x의 shape은 (n_samples, n_features)가 되도록 해주세요.<br>\n",
        "ex. 4개의 변수를 가진 1000개의 샘플의 경우 train_x.shape은 (1000,4)가 되면 됩니다.\n",
        "\n",
        "특히 하나의 변수만을 사용하시는 분들은 1D가 아닌 2D가 되도록 신경써주세요<br>\n",
        "ex. train_x.shape이 (1000,)이 아닌 (1000,1)입니다!"
      ]
    },
    {
      "cell_type": "code",
      "execution_count": 27,
      "metadata": {
        "id": "rGf7N0vUMqVE"
      },
      "outputs": [],
      "source": [
        "# 사용할 패키지를 import!\n",
        "from sklearn.preprocessing import MinMaxScaler"
      ]
    },
    {
      "cell_type": "code",
      "source": [
        "num_sample = len(train_x)\n",
        "num_axis = len(train_x.columns)\n",
        "print(num_sample, num_axis)"
      ],
      "metadata": {
        "colab": {
          "base_uri": "https://localhost:8080/"
        },
        "id": "tYJwaGAeS27i",
        "outputId": "c554830d-3cbb-4606-efe9-faf57d8c97e9"
      },
      "execution_count": 35,
      "outputs": [
        {
          "output_type": "stream",
          "name": "stdout",
          "text": [
            "88 2\n"
          ]
        }
      ]
    },
    {
      "cell_type": "code",
      "execution_count": 36,
      "metadata": {
        "id": "GemwdcyDMqVF"
      },
      "outputs": [],
      "source": [
        "train_x = train_x.to_numpy().reshape(num_sample,num_axis)"
      ]
    },
    {
      "cell_type": "code",
      "source": [
        "train_x"
      ],
      "metadata": {
        "id": "SAIGrf0OTnxh"
      },
      "execution_count": null,
      "outputs": []
    },
    {
      "cell_type": "code",
      "source": [
        "scaler = MinMaxScaler()\n",
        "scaler = scaler.fit(train_x)\n",
        "processed_train_x = scaler.transform(train_x)\n",
        "processed_train_x"
      ],
      "metadata": {
        "colab": {
          "base_uri": "https://localhost:8080/"
        },
        "id": "UuXcYDxnTv9e",
        "outputId": "2de2a63b-11c3-446e-bad3-0bcb8567a983"
      },
      "execution_count": 60,
      "outputs": [
        {
          "output_type": "execute_result",
          "data": {
            "text/plain": [
              "array([[0.20895522, 0.98148148],\n",
              "       [0.21641791, 0.96296296],\n",
              "       [0.20149254, 0.96296296],\n",
              "       [0.17164179, 0.96296296],\n",
              "       [0.1641791 , 0.98148148],\n",
              "       [0.15671642, 1.        ],\n",
              "       [0.14179104, 0.94444444],\n",
              "       [0.15671642, 0.87037037],\n",
              "       [0.2238806 , 0.75925926],\n",
              "       [0.3358209 , 0.62962963],\n",
              "       [0.42537313, 0.42592593],\n",
              "       [0.54477612, 0.24074074],\n",
              "       [0.61940299, 0.18518519],\n",
              "       [0.61940299, 0.05555556],\n",
              "       [0.65671642, 0.        ],\n",
              "       [0.67164179, 0.01851852],\n",
              "       [0.71641791, 0.        ],\n",
              "       [0.65671642, 0.03703704],\n",
              "       [0.58955224, 0.05555556],\n",
              "       [0.48507463, 0.09259259],\n",
              "       [0.37313433, 0.22222222],\n",
              "       [0.28358209, 0.2962963 ],\n",
              "       [0.23134328, 0.42592593],\n",
              "       [0.17910448, 0.53703704],\n",
              "       [0.13432836, 0.64814815],\n",
              "       [0.10447761, 0.7037037 ],\n",
              "       [0.08208955, 0.72222222],\n",
              "       [0.06716418, 0.72222222],\n",
              "       [0.05223881, 0.74074074],\n",
              "       [0.        , 0.74074074],\n",
              "       [0.01492537, 0.74074074],\n",
              "       [0.05223881, 0.7037037 ],\n",
              "       [0.08955224, 0.66666667],\n",
              "       [0.15671642, 0.59259259],\n",
              "       [0.18656716, 0.48148148],\n",
              "       [0.20149254, 0.57407407],\n",
              "       [0.1119403 , 0.75925926],\n",
              "       [0.20149254, 0.53703704],\n",
              "       [0.41791045, 0.22222222],\n",
              "       [0.45522388, 0.16666667],\n",
              "       [0.51492537, 0.12962963],\n",
              "       [0.47761194, 0.2962963 ],\n",
              "       [0.43283582, 0.35185185],\n",
              "       [0.41044776, 0.40740741],\n",
              "       [0.38059701, 0.48148148],\n",
              "       [0.35820896, 0.57407407],\n",
              "       [0.3358209 , 0.64814815],\n",
              "       [0.31343284, 0.74074074],\n",
              "       [0.26865672, 0.83333333],\n",
              "       [0.26119403, 0.87037037],\n",
              "       [0.25373134, 0.92592593],\n",
              "       [0.25373134, 0.92592593],\n",
              "       [0.24626866, 0.88888889],\n",
              "       [0.24626866, 0.90740741],\n",
              "       [0.20895522, 0.92592593],\n",
              "       [0.26119403, 0.90740741],\n",
              "       [0.36567164, 0.7962963 ],\n",
              "       [0.44776119, 0.68518519],\n",
              "       [0.53731343, 0.62962963],\n",
              "       [0.61940299, 0.53703704],\n",
              "       [0.71641791, 0.35185185],\n",
              "       [0.84328358, 0.2962963 ],\n",
              "       [0.89552239, 0.2037037 ],\n",
              "       [0.97761194, 0.24074074],\n",
              "       [1.        , 0.16666667],\n",
              "       [0.99253731, 0.18518519],\n",
              "       [0.84328358, 0.38888889],\n",
              "       [0.67164179, 0.53703704],\n",
              "       [0.46268657, 0.75925926],\n",
              "       [0.42537313, 0.77777778],\n",
              "       [0.41791045, 0.77777778],\n",
              "       [0.39552239, 0.77777778],\n",
              "       [0.39552239, 0.77777778],\n",
              "       [0.3880597 , 0.81481481],\n",
              "       [0.39552239, 0.83333333],\n",
              "       [0.41791045, 0.87037037],\n",
              "       [0.42537313, 0.90740741],\n",
              "       [0.41044776, 0.96296296],\n",
              "       [0.39552239, 0.96296296],\n",
              "       [0.39552239, 0.94444444],\n",
              "       [0.39552239, 0.92592593],\n",
              "       [0.43283582, 0.94444444],\n",
              "       [0.56716418, 0.68518519],\n",
              "       [0.67910448, 0.53703704],\n",
              "       [0.76119403, 0.44444444],\n",
              "       [0.8358209 , 0.38888889],\n",
              "       [0.86567164, 0.38888889],\n",
              "       [0.79104478, 0.5       ]])"
            ]
          },
          "metadata": {},
          "execution_count": 60
        }
      ]
    },
    {
      "cell_type": "markdown",
      "metadata": {
        "id": "5uPsSVq-MqVF"
      },
      "source": [
        "# 모델링"
      ]
    },
    {
      "cell_type": "markdown",
      "metadata": {
        "id": "nFQIAc65MqVF"
      },
      "source": [
        "## 학습 \n",
        "\n",
        "이제 모델링을 해봅시다.\n",
        "\n",
        "앞서 다룬 여러 regression 모델들(Linear regression, Ridge Regression, Lasso Regression, ..)을 이용해서 fit을 진행해보도록 합시다."
      ]
    },
    {
      "cell_type": "code",
      "execution_count": 40,
      "metadata": {
        "id": "nCd88UXEQFdZ"
      },
      "outputs": [],
      "source": [
        "# 사용할 패키지를 import!\n",
        "from sklearn.linear_model import LinearRegression"
      ]
    },
    {
      "cell_type": "code",
      "execution_count": 51,
      "metadata": {
        "id": "y7hwaxnZUIwY",
        "colab": {
          "base_uri": "https://localhost:8080/"
        },
        "outputId": "9e16867f-7403-47a8-9508-7fe30ff3669d"
      },
      "outputs": [
        {
          "output_type": "stream",
          "name": "stdout",
          "text": [
            "Beta : 1021.5279  466.8392\n",
            "Intercept :  7450.3920\n"
          ]
        }
      ],
      "source": [
        "# 선형회귀 모델 생성 후 fitting 시킵니다.\n",
        "linear_model = LinearRegression().fit(processed_train_x, train_y)\n",
        "\n",
        "linear_beta1 = linear_model.coef_[0]\n",
        "linear_beta2 = linear_model.coef_[1]\n",
        "linear_intercept  = linear_model.intercept_\n",
        "\n",
        "print(f\"Beta :{linear_beta1: .4f} {linear_beta2: .4f}\")\n",
        "print(f\"Intercept : {linear_intercept: .4f}\")"
      ]
    },
    {
      "cell_type": "markdown",
      "metadata": {
        "id": "S0-X2b6JMqVG"
      },
      "source": [
        "## 추정\n",
        "\n",
        "이제 train_x를 이용하여 전력사용량을 추정해보도록 합시다."
      ]
    },
    {
      "cell_type": "code",
      "execution_count": 52,
      "metadata": {
        "id": "ihboTXGqMqVG"
      },
      "outputs": [],
      "source": [
        "esti_y =  linear_model.predict(processed_train_x)\n"
      ]
    },
    {
      "cell_type": "markdown",
      "metadata": {
        "id": "x7XdRD2XMqVG"
      },
      "source": [
        "# Loss 및 시각화\n",
        "\n",
        "앞서 fitting하여 얻은 모델을 이용하여 추정한 값으로 MSE를 측정해봅시다. 변수를 하나만 사용하신 분들은 xy 평면에 한번 같이 시각화도 해보셔도 좋습니다."
      ]
    },
    {
      "cell_type": "code",
      "execution_count": 53,
      "metadata": {
        "id": "8p5fbgd0MqVG"
      },
      "outputs": [],
      "source": [
        "def mse(pred, true):\n",
        "    return np.mean((pred-true)**2)"
      ]
    },
    {
      "cell_type": "code",
      "execution_count": 54,
      "metadata": {
        "colab": {
          "base_uri": "https://localhost:8080/"
        },
        "id": "vL37ArUAMqVG",
        "outputId": "798cefc4-d6f4-4d8f-adae-c97e7a3c5bae"
      },
      "outputs": [
        {
          "output_type": "stream",
          "name": "stdout",
          "text": [
            "Linear 3150.62873\n"
          ]
        }
      ],
      "source": [
        "train_mse = mse(esti_y, train_y)\n",
        "print(f\"Linear {train_mse:.5f}\")"
      ]
    },
    {
      "cell_type": "code",
      "source": [
        "train_x[:,0]"
      ],
      "metadata": {
        "colab": {
          "base_uri": "https://localhost:8080/"
        },
        "id": "ymsQekGNZVDn",
        "outputId": "75b9cdbf-5e2b-4b64-8e43-043b24ef5885"
      },
      "execution_count": 77,
      "outputs": [
        {
          "output_type": "execute_result",
          "data": {
            "text/plain": [
              "array([17.6, 17.7, 17.5, 17.1, 17. , 16.9, 16.7, 16.9, 17.8, 19.3, 20.5,\n",
              "       22.1, 23.1, 23.1, 23.6, 23.8, 24.4, 23.6, 22.7, 21.3, 19.8, 18.6,\n",
              "       17.9, 17.2, 16.6, 16.2, 15.9, 15.7, 15.5, 14.8, 15. , 15.5, 16. ,\n",
              "       16.9, 17.3, 17.5, 16.3, 17.5, 20.4, 20.9, 21.7, 21.2, 20.6, 20.3,\n",
              "       19.9, 19.6, 19.3, 19. , 18.4, 18.3, 18.2, 18.2, 18.1, 18.1, 17.6,\n",
              "       18.3, 19.7, 20.8, 22. , 23.1, 24.4, 26.1, 26.8, 27.9, 28.2, 28.1,\n",
              "       26.1, 23.8, 21. , 20.5, 20.4, 20.1, 20.1, 20. , 20.1, 20.4, 20.5,\n",
              "       20.3, 20.1, 20.1, 20.1, 20.6, 22.4, 23.9, 25. , 26. , 26.4, 25.4])"
            ]
          },
          "metadata": {},
          "execution_count": 77
        }
      ]
    },
    {
      "cell_type": "code",
      "source": [
        "from mpl_toolkits.mplot3d import Axes3D"
      ],
      "metadata": {
        "id": "S20ZXdY9Z7qx"
      },
      "execution_count": 86,
      "outputs": []
    },
    {
      "cell_type": "code",
      "source": [
        "train_x.shape"
      ],
      "metadata": {
        "colab": {
          "base_uri": "https://localhost:8080/"
        },
        "id": "Ahh8MvFQagra",
        "outputId": "6d9a2a3f-6e35-49ff-a593-42ae628d0baf"
      },
      "execution_count": 92,
      "outputs": [
        {
          "output_type": "execute_result",
          "data": {
            "text/plain": [
              "(88, 2)"
            ]
          },
          "metadata": {},
          "execution_count": 92
        }
      ]
    },
    {
      "cell_type": "code",
      "execution_count": 93,
      "metadata": {
        "id": "ThKWK_QdUIyo"
      },
      "outputs": [],
      "source": [
        "def visualize(model, x, y):\n",
        "    beta_1 = model.coef_[0]\n",
        "    beta_2 = model.coef_[1]\n",
        "    intercept = model.intercept_\n",
        "    \n",
        "    x1_axis = np.linspace(np.min(x[:,0]), np.max(x[:,0]), 100)\n",
        "    x2_axis = np.linspace(np.min(x[:,1]), np.max(x[:,1]), 100)\n",
        "    fig = plt.figure(figsize=(8,6))\n",
        "    ax = fig.add_subplot( projection='3d')\n",
        "    ax.scatter(x[:,0],x[:,1], y, c=color, marker='o', s=15, cmap='Greens')\n",
        "    plt.legend()\n",
        "    plt.show()"
      ]
    },
    {
      "cell_type": "code",
      "source": [
        "import matplotlib.pyplot as plt"
      ],
      "metadata": {
        "id": "K5xl2vLEYu4L"
      },
      "execution_count": 94,
      "outputs": []
    },
    {
      "cell_type": "markdown",
      "metadata": {
        "id": "Uvmi0pI9MqVH"
      },
      "source": [
        "# 예측"
      ]
    },
    {
      "cell_type": "markdown",
      "metadata": {
        "id": "T-6Xv53GXm4K"
      },
      "source": [
        "테스트셋에 대해서 한번 **예측**해보도록 합시다.\n",
        "\n",
        "이미 fitting된 모델 (그리고 scaler를 사용하신다면 scaler)에 대해 **fit을 하지 말고** 단순히 predict만 진행해보도록 합시다. \n",
        "\n",
        "scaler는 transform만 하시고 model은 predict을 진행해주세요"
      ]
    },
    {
      "cell_type": "code",
      "execution_count": 56,
      "metadata": {
        "id": "YTwIN94ZYlhU"
      },
      "outputs": [],
      "source": [
        "# transform을 하시는 분들은 실행해주세요\n",
        "\n",
        "test_x =  test_x[['Temp','Moisture']]"
      ]
    },
    {
      "cell_type": "code",
      "source": [
        "\n",
        "num_sample = len(test_x)\n",
        "num_axis = len(test_x.columns)\n",
        "test_x= test_x.to_numpy().reshape(num_sample,num_axis) \n"
      ],
      "metadata": {
        "id": "JYClS_IEXW5d"
      },
      "execution_count": 58,
      "outputs": []
    },
    {
      "cell_type": "code",
      "source": [
        "processed_test_x = scaler.transform(test_x)\n",
        "processed_test_x"
      ],
      "metadata": {
        "colab": {
          "base_uri": "https://localhost:8080/"
        },
        "id": "D-Ggp5PsXtDQ",
        "outputId": "35ea548d-080f-4caa-e78c-503c913f8891"
      },
      "execution_count": 61,
      "outputs": [
        {
          "output_type": "execute_result",
          "data": {
            "text/plain": [
              "array([[0.70895522, 0.57407407],\n",
              "       [0.62686567, 0.66666667],\n",
              "       [0.59701493, 0.7037037 ],\n",
              "       [0.51492537, 0.75925926],\n",
              "       [0.49253731, 0.81481481],\n",
              "       [0.44776119, 0.87037037],\n",
              "       [0.41044776, 0.92592593],\n",
              "       [0.38059701, 0.96296296],\n",
              "       [0.36567164, 0.94444444],\n",
              "       [0.35074627, 0.94444444],\n",
              "       [0.3358209 , 0.94444444],\n",
              "       [0.3358209 , 0.94444444]])"
            ]
          },
          "metadata": {},
          "execution_count": 61
        }
      ]
    },
    {
      "cell_type": "code",
      "execution_count": 62,
      "metadata": {
        "id": "MB08XKquMqVH"
      },
      "outputs": [],
      "source": [
        "# y1_hat에 predict값 할당\n",
        "\n",
        "pred_y = linear_model.predict(processed_test_x)"
      ]
    },
    {
      "cell_type": "markdown",
      "metadata": {
        "id": "4fDKnlbZMqVH"
      },
      "source": [
        "# 성능 평가\n",
        "\n",
        "한번 학습한 모델에 대해 test_y를 이용하여 mse loss를 측정해도도록 합시다."
      ]
    },
    {
      "cell_type": "code",
      "execution_count": 63,
      "metadata": {
        "id": "BIVQfU38MqVH"
      },
      "outputs": [],
      "source": [
        "def score(train_mse, test_mse):\n",
        "    print(f\"{test_mse/train_mse: .4f}\")"
      ]
    },
    {
      "cell_type": "code",
      "execution_count": 64,
      "metadata": {
        "scrolled": true,
        "colab": {
          "base_uri": "https://localhost:8080/"
        },
        "id": "BtaOd7kFMqVH",
        "outputId": "80cfc6cd-9a09-4520-a7ac-16a8030697ff"
      },
      "outputs": [
        {
          "output_type": "stream",
          "name": "stdout",
          "text": [
            "Linear 95713.46656\n"
          ]
        }
      ],
      "source": [
        "test_mse = mse(pred_y, test_y)\n",
        "print(f\"Linear {test_mse:.5f}\")"
      ]
    },
    {
      "cell_type": "code",
      "execution_count": 65,
      "metadata": {
        "colab": {
          "base_uri": "https://localhost:8080/"
        },
        "id": "j9kS0FhZMqVI",
        "outputId": "013eadd0-3bd7-458f-a70f-177a971f0ce3"
      },
      "outputs": [
        {
          "output_type": "stream",
          "name": "stdout",
          "text": [
            " 30.3792\n"
          ]
        }
      ],
      "source": [
        "score(train_mse,test_mse)"
      ]
    },
    {
      "cell_type": "code",
      "execution_count": 68,
      "metadata": {
        "id": "hHQz6NrkXmtW"
      },
      "outputs": [],
      "source": [
        "visualize(linear_model, test_x, test_y)"
      ]
    },
    {
      "cell_type": "markdown",
      "metadata": {
        "id": "zOUXSLr7MqVI"
      },
      "source": [
        "# 그 이후\n",
        "\n",
        "이제 여러분들은 한번 모델을 만들어보고 fitting한 다음 예측까지 해보셨습니다.\n",
        "\n",
        "이제 개선하기 위해 1.데이터부터 5.성능평가 중 수정, 변경하실 부분을 업데이트 해서  최적의 모델을 찾아보세요!\n",
        "\n",
        "현재 사용하고 있는 scaler, model부터 전처리과정 기타 여러 조건을 조작해보시고 어떤 효과가 있는지 한번 보시고 알려주세요:D"
      ]
    },
    {
      "cell_type": "markdown",
      "source": [
        "# scalaer를 min max 스케일러에서, standard scaler로 바꾸고 마찬가지로 다항 회귀 모델을 통해 학습시켜보고 성능을 평가해보겠습니다!"
      ],
      "metadata": {
        "id": "SEjRd4TYfnQz"
      }
    },
    {
      "cell_type": "code",
      "source": [
        "train_x, train_y, test_x, test_y = load_data()"
      ],
      "metadata": {
        "id": "Rm1PRDzCbGOh"
      },
      "execution_count": 96,
      "outputs": []
    },
    {
      "cell_type": "code",
      "source": [
        "train_x= train_x[['Temp','Moisture']]"
      ],
      "metadata": {
        "id": "4yNOZW1zeeac"
      },
      "execution_count": 97,
      "outputs": []
    },
    {
      "cell_type": "code",
      "source": [
        "from sklearn.preprocessing import StandardScaler\n",
        "scaler = StandardScaler()\n",
        "scaler = scaler.fit(train_x)\n",
        "processed_data = scaler.transform(train_x)\n",
        "processed_data"
      ],
      "metadata": {
        "colab": {
          "base_uri": "https://localhost:8080/"
        },
        "id": "KDvBRW95eRIN",
        "outputId": "9af1c970-cf3b-4eb0-c3e0-59aac19e59b2"
      },
      "execution_count": 98,
      "outputs": [
        {
          "output_type": "execute_result",
          "data": {
            "text/plain": [
              "array([[-8.09422591e-01,  1.32132616e+00],\n",
              "       [-7.78799552e-01,  1.25833770e+00],\n",
              "       [-8.40045630e-01,  1.25833770e+00],\n",
              "       [-9.62537785e-01,  1.25833770e+00],\n",
              "       [-9.93160823e-01,  1.32132616e+00],\n",
              "       [-1.02378386e+00,  1.38431463e+00],\n",
              "       [-1.08502994e+00,  1.19534924e+00],\n",
              "       [-1.02378386e+00,  9.43395387e-01],\n",
              "       [-7.48176514e-01,  5.65464610e-01],\n",
              "       [-2.88830933e-01,  1.24545370e-01],\n",
              "       [ 7.86455312e-02, -5.68327722e-01],\n",
              "       [ 5.68614150e-01, -1.19821235e+00],\n",
              "       [ 8.74844537e-01, -1.38717774e+00],\n",
              "       [ 8.74844537e-01, -1.82809698e+00],\n",
              "       [ 1.02795973e+00, -2.01706237e+00],\n",
              "       [ 1.08920581e+00, -1.95407390e+00],\n",
              "       [ 1.27294404e+00, -2.01706237e+00],\n",
              "       [ 1.02795973e+00, -1.89108544e+00],\n",
              "       [ 7.52352383e-01, -1.82809698e+00],\n",
              "       [ 3.23629841e-01, -1.70212005e+00],\n",
              "       [-1.35715740e-01, -1.26120081e+00],\n",
              "       [-5.03192204e-01, -1.00924696e+00],\n",
              "       [-7.17553475e-01, -5.68327722e-01],\n",
              "       [-9.31914746e-01, -1.90396945e-01],\n",
              "       [-1.11565298e+00,  1.87533833e-01],\n",
              "       [-1.23814513e+00,  3.76499221e-01],\n",
              "       [-1.33001425e+00,  4.39487684e-01],\n",
              "       [-1.39126033e+00,  4.39487684e-01],\n",
              "       [-1.45250640e+00,  5.02476147e-01],\n",
              "       [-1.66686767e+00,  5.02476147e-01],\n",
              "       [-1.60562160e+00,  5.02476147e-01],\n",
              "       [-1.45250640e+00,  3.76499221e-01],\n",
              "       [-1.29939121e+00,  2.50522295e-01],\n",
              "       [-1.02378386e+00, -1.43155597e-03],\n",
              "       [-9.01291707e-01, -3.79362333e-01],\n",
              "       [-8.40045630e-01, -6.44200188e-02],\n",
              "       [-1.20752209e+00,  5.65464610e-01],\n",
              "       [-8.40045630e-01, -1.90396945e-01],\n",
              "       [ 4.80224925e-02, -1.26120081e+00],\n",
              "       [ 2.01137686e-01, -1.45016620e+00],\n",
              "       [ 4.46121996e-01, -1.57614313e+00],\n",
              "       [ 2.93006802e-01, -1.00924696e+00],\n",
              "       [ 1.09268570e-01, -8.20281573e-01],\n",
              "       [ 1.73994538e-02, -6.31316185e-01],\n",
              "       [-1.05092701e-01, -3.79362333e-01],\n",
              "       [-1.96961817e-01, -6.44200188e-02],\n",
              "       [-2.88830933e-01,  1.87533833e-01],\n",
              "       [-3.80700049e-01,  5.02476147e-01],\n",
              "       [-5.64438281e-01,  8.17418461e-01],\n",
              "       [-5.95061320e-01,  9.43395387e-01],\n",
              "       [-6.25684359e-01,  1.13236078e+00],\n",
              "       [-6.25684359e-01,  1.13236078e+00],\n",
              "       [-6.56307398e-01,  1.00638385e+00],\n",
              "       [-6.56307398e-01,  1.06937231e+00],\n",
              "       [-8.09422591e-01,  1.13236078e+00],\n",
              "       [-5.95061320e-01,  1.06937231e+00],\n",
              "       [-1.66338778e-01,  6.91441536e-01],\n",
              "       [ 1.70514647e-01,  3.13510758e-01],\n",
              "       [ 5.37991112e-01,  1.24545370e-01],\n",
              "       [ 8.74844537e-01, -1.90396945e-01],\n",
              "       [ 1.27294404e+00, -8.20281573e-01],\n",
              "       [ 1.79353570e+00, -1.00924696e+00],\n",
              "       [ 2.00789697e+00, -1.32418928e+00],\n",
              "       [ 2.34475039e+00, -1.19821235e+00],\n",
              "       [ 2.43661951e+00, -1.45016620e+00],\n",
              "       [ 2.40599647e+00, -1.38717774e+00],\n",
              "       [ 1.79353570e+00, -6.94304647e-01],\n",
              "       [ 1.08920581e+00, -1.90396945e-01],\n",
              "       [ 2.31760725e-01,  5.65464610e-01],\n",
              "       [ 7.86455312e-02,  6.28453073e-01],\n",
              "       [ 4.80224925e-02,  6.28453073e-01],\n",
              "       [-4.38466236e-02,  6.28453073e-01],\n",
              "       [-4.38466236e-02,  6.28453073e-01],\n",
              "       [-7.44696623e-02,  7.54429998e-01],\n",
              "       [-4.38466236e-02,  8.17418461e-01],\n",
              "       [ 4.80224925e-02,  9.43395387e-01],\n",
              "       [ 7.86455312e-02,  1.06937231e+00],\n",
              "       [ 1.73994538e-02,  1.25833770e+00],\n",
              "       [-4.38466236e-02,  1.25833770e+00],\n",
              "       [-4.38466236e-02,  1.19534924e+00],\n",
              "       [-4.38466236e-02,  1.13236078e+00],\n",
              "       [ 1.09268570e-01,  1.19534924e+00],\n",
              "       [ 6.60483266e-01,  3.13510758e-01],\n",
              "       [ 1.11982885e+00, -1.90396945e-01],\n",
              "       [ 1.45668227e+00, -5.05339259e-01],\n",
              "       [ 1.76291266e+00, -6.94304647e-01],\n",
              "       [ 1.88540481e+00, -6.94304647e-01],\n",
              "       [ 1.57917443e+00, -3.16373870e-01]])"
            ]
          },
          "metadata": {},
          "execution_count": 98
        }
      ]
    },
    {
      "cell_type": "code",
      "source": [
        "# 선형회귀 모델 생성 후 fitting 시킵니다.\n",
        "linear_model = LinearRegression().fit(processed_train_x, train_y)\n",
        "\n",
        "linear_beta1 = linear_model.coef_[0]\n",
        "linear_beta2 = linear_model.coef_[1]\n",
        "linear_intercept  = linear_model.intercept_\n",
        "\n",
        "print(f\"Beta :{linear_beta1: .4f} {linear_beta2: .4f}\")\n",
        "print(f\"Intercept : {linear_intercept: .4f}\")"
      ],
      "metadata": {
        "colab": {
          "base_uri": "https://localhost:8080/"
        },
        "id": "1dzaDMSPel5d",
        "outputId": "2b711eb7-a954-46f4-f81a-14540dd398a8"
      },
      "execution_count": 99,
      "outputs": [
        {
          "output_type": "stream",
          "name": "stdout",
          "text": [
            "Beta : 1021.5279  466.8392\n",
            "Intercept :  7450.3920\n"
          ]
        }
      ]
    },
    {
      "cell_type": "code",
      "source": [
        "esti_y =  linear_model.predict(processed_train_x)\n"
      ],
      "metadata": {
        "id": "gk8wyGJgevSj"
      },
      "execution_count": 100,
      "outputs": []
    },
    {
      "cell_type": "code",
      "source": [
        "train_mse = mse(esti_y, train_y)\n",
        "print(f\"Linear {train_mse:.5f}\")"
      ],
      "metadata": {
        "colab": {
          "base_uri": "https://localhost:8080/"
        },
        "id": "PSnjUiWBey72",
        "outputId": "a87e6f9c-adaf-4edc-a791-95eb8314cd9e"
      },
      "execution_count": 101,
      "outputs": [
        {
          "output_type": "stream",
          "name": "stdout",
          "text": [
            "Linear 3150.62873\n"
          ]
        }
      ]
    },
    {
      "cell_type": "code",
      "source": [
        "\n",
        "test_x =  test_x[['Temp','Moisture']]\n",
        "num_sample = len(test_x)\n",
        "num_axis = len(test_x.columns)\n",
        "test_x= test_x.to_numpy().reshape(num_sample,num_axis) \n"
      ],
      "metadata": {
        "id": "XOU5B4xze6Vb"
      },
      "execution_count": 102,
      "outputs": []
    },
    {
      "cell_type": "code",
      "source": [
        "processed_test_x = scaler.transform(test_x)\n",
        "processed_test_x"
      ],
      "metadata": {
        "colab": {
          "base_uri": "https://localhost:8080/"
        },
        "id": "lotKoaWYe8ZX",
        "outputId": "fbb13672-92bd-4675-c935-e63d46d69eb6"
      },
      "execution_count": 103,
      "outputs": [
        {
          "output_type": "stream",
          "name": "stderr",
          "text": [
            "/usr/local/lib/python3.7/dist-packages/sklearn/base.py:451: UserWarning: X does not have valid feature names, but StandardScaler was fitted with feature names\n",
            "  \"X does not have valid feature names, but\"\n"
          ]
        },
        {
          "output_type": "execute_result",
          "data": {
            "text/plain": [
              "array([[ 1.242321  , -0.06442002],\n",
              "       [ 0.90546758,  0.2505223 ],\n",
              "       [ 0.78297542,  0.37649922],\n",
              "       [ 0.446122  ,  0.56546461],\n",
              "       [ 0.35425288,  0.75443   ],\n",
              "       [ 0.17051465,  0.94339539],\n",
              "       [ 0.01739945,  1.13236078],\n",
              "       [-0.1050927 ,  1.2583377 ],\n",
              "       [-0.16633878,  1.19534924],\n",
              "       [-0.22758486,  1.19534924],\n",
              "       [-0.28883093,  1.19534924],\n",
              "       [-0.28883093,  1.19534924]])"
            ]
          },
          "metadata": {},
          "execution_count": 103
        }
      ]
    },
    {
      "cell_type": "code",
      "source": [
        "pred_y = linear_model.predict(processed_test_x)"
      ],
      "metadata": {
        "id": "QZs2dFore-rJ"
      },
      "execution_count": 104,
      "outputs": []
    },
    {
      "cell_type": "code",
      "source": [
        "test_mse = mse(pred_y, test_y)\n",
        "print(f\"Linear {test_mse:.5f}\")\n"
      ],
      "metadata": {
        "colab": {
          "base_uri": "https://localhost:8080/"
        },
        "id": "6xSagqnqfFjB",
        "outputId": "bfa434dd-fd1d-4b1b-e08b-3aef1a3ca1ca"
      },
      "execution_count": 105,
      "outputs": [
        {
          "output_type": "stream",
          "name": "stdout",
          "text": [
            "Linear 368228.60931\n"
          ]
        }
      ]
    },
    {
      "cell_type": "code",
      "source": [
        "score(train_mse,test_mse)"
      ],
      "metadata": {
        "colab": {
          "base_uri": "https://localhost:8080/"
        },
        "id": "utj4wgVGfG-4",
        "outputId": "d061b44c-cbc9-4409-c035-043245eee01e"
      },
      "execution_count": 106,
      "outputs": [
        {
          "output_type": "stream",
          "name": "stdout",
          "text": [
            " 116.8746\n"
          ]
        }
      ]
    },
    {
      "cell_type": "markdown",
      "source": [
        "#min max scaler 보다 standard scaler로 학습시켰을 때 score가 4배 정도로 훨씬 더 좋게 나왔습니다! 지금 독립변수로 삼은 피처 온도와 습도의 경우 min max간의 차이가 얼마 차이가 나지 않아 학습하는데 안좋은 영향을 끼쳤던 것 같습니다! "
      ],
      "metadata": {
        "id": "0ob6JthTfSCb"
      }
    },
    {
      "cell_type": "code",
      "source": [
        ""
      ],
      "metadata": {
        "id": "hoI4Qy_5fM8I"
      },
      "execution_count": null,
      "outputs": []
    },
    {
      "cell_type": "markdown",
      "metadata": {
        "id": "Trmu7j1wMqVI"
      },
      "source": [
        "고생하셨습니다!"
      ]
    }
  ],
  "metadata": {
    "colab": {
      "collapsed_sections": [],
      "name": "[0804]Supervised_learning_과제_7th_김원.ipynb",
      "provenance": []
    },
    "kernelspec": {
      "display_name": "Python 3 (ipykernel)",
      "language": "python",
      "name": "python3"
    },
    "language_info": {
      "codemirror_mode": {
        "name": "ipython",
        "version": 3
      },
      "file_extension": ".py",
      "mimetype": "text/x-python",
      "name": "python",
      "nbconvert_exporter": "python",
      "pygments_lexer": "ipython3",
      "version": "3.8.12"
    },
    "toc": {
      "base_numbering": 1,
      "nav_menu": {},
      "number_sections": true,
      "sideBar": true,
      "skip_h1_title": false,
      "title_cell": "Table of Contents",
      "title_sidebar": "Contents",
      "toc_cell": false,
      "toc_position": {
        "height": "calc(100% - 180px)",
        "left": "10px",
        "top": "150px",
        "width": "300.792px"
      },
      "toc_section_display": true,
      "toc_window_display": true
    }
  },
  "nbformat": 4,
  "nbformat_minor": 0
}