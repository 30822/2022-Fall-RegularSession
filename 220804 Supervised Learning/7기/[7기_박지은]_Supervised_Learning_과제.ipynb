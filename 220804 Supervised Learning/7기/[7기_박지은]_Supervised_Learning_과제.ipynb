{
  "cells": [
    {
      "cell_type": "code",
      "execution_count": 1,
      "metadata": {
        "id": "NuogZdJAewSq"
      },
      "outputs": [],
      "source": [
        "import numpy as np\n",
        "import pandas as pd\n",
        "import matplotlib.pyplot as plt"
      ]
    },
    {
      "cell_type": "markdown",
      "metadata": {
        "id": "u5RQzjdjj6I2"
      },
      "source": [
        "코랩 사용하시는 분들은 아래의 코드를 실행해주세요!"
      ]
    },
    {
      "cell_type": "code",
      "execution_count": 3,
      "metadata": {
        "id": "7J7wP7X6nQtv",
        "colab": {
          "base_uri": "https://localhost:8080/"
        },
        "outputId": "c6d3465b-82eb-4e01-b3ed-2d8e24910e83"
      },
      "outputs": [
        {
          "output_type": "stream",
          "name": "stdout",
          "text": [
            "Mounted at /content/drive\n"
          ]
        }
      ],
      "source": [
        "from google.colab import drive\n",
        "drive.mount('/content/drive')"
      ]
    },
    {
      "cell_type": "code",
      "execution_count": 4,
      "metadata": {
        "id": "OA4UW3j4kePR",
        "colab": {
          "base_uri": "https://localhost:8080/",
          "height": 35
        },
        "outputId": "bc25c1e4-19bd-4ca2-afa2-0ab40776527d"
      },
      "outputs": [
        {
          "output_type": "execute_result",
          "data": {
            "text/plain": [
              "'/content'"
            ],
            "application/vnd.google.colaboratory.intrinsic+json": {
              "type": "string"
            }
          },
          "metadata": {},
          "execution_count": 4
        }
      ],
      "source": [
        "import os\n",
        "os.getcwd()"
      ]
    },
    {
      "cell_type": "markdown",
      "metadata": {
        "id": "NtVt7I7qWH8s"
      },
      "source": [
        "코랩 사용시 본인 구글 드라이브 경로는  \n",
        "/content/drive/MyDrive/...  \n",
        "입니다."
      ]
    },
    {
      "cell_type": "code",
      "execution_count": 8,
      "metadata": {
        "id": "SiVE75urjpg3"
      },
      "outputs": [],
      "source": [
        "path = '/content/drive/MyDrive/DSL/[세션] 정규세션/[0804] supervised learning'    # 과제 데이터셋이 저장된 경로를 더 작성해주세요\n",
        "os.chdir(path)  # chdir: 경로 변경"
      ]
    },
    {
      "cell_type": "code",
      "execution_count": 9,
      "metadata": {
        "id": "0qXX7Ab0kHuX",
        "colab": {
          "base_uri": "https://localhost:8080/",
          "height": 35
        },
        "outputId": "55811ede-7307-44f8-e10d-f8a67bf53429"
      },
      "outputs": [
        {
          "output_type": "execute_result",
          "data": {
            "text/plain": [
              "'/content/drive/MyDrive/DSL/[세션] 정규세션/[0804] supervised learning'"
            ],
            "application/vnd.google.colaboratory.intrinsic+json": {
              "type": "string"
            }
          },
          "metadata": {},
          "execution_count": 9
        }
      ],
      "source": [
        "os.getcwd()"
      ]
    },
    {
      "cell_type": "markdown",
      "metadata": {
        "id": "JfNxu2eTDyl6"
      },
      "source": [
        "사용할 데이터 셋 :  전력 사용량 예측 모델\n",
        "\n",
        "아래의 과정에서 sklearn의 Pipeline의 사용은 필수는 아닙니다. 선호와 필요에 따라 사용하실 분들은 사용하셔도 좋습니다."
      ]
    },
    {
      "cell_type": "markdown",
      "metadata": {
        "id": "TiUnGvTojpSc"
      },
      "source": [
        "# 데이터"
      ]
    },
    {
      "cell_type": "markdown",
      "metadata": {
        "id": "K2sLE1gZOTc2"
      },
      "source": [
        "건물 정보와 기후 정보를 활용한 전력사용량 예측 데이터 중에서 \n",
        "\n",
        "환경 변수(기온, 풍속, 습도, 강수량, 일조)에 대해 전력 사용량을 선형회귀 모델을 사용해서 예측해보고자 합니다."
      ]
    },
    {
      "cell_type": "code",
      "execution_count": 146,
      "metadata": {
        "id": "9KwGejn8jpSe"
      },
      "outputs": [],
      "source": [
        "var_name = ['Temp', 'Wind', 'Moisture', 'Precipitation', 'Sun']\n",
        "target = 'Wh'"
      ]
    },
    {
      "cell_type": "code",
      "execution_count": 147,
      "metadata": {
        "id": "xgBfs6KSjpSf"
      },
      "outputs": [],
      "source": [
        "def parsing(data: pd.DataFrame):\n",
        "    x = data.iloc[:, 3:8]\n",
        "    x.columns = var_name\n",
        "    y = data.iloc[:, 2]\n",
        "    y.name = target\n",
        "    \n",
        "    return x, y"
      ]
    },
    {
      "cell_type": "code",
      "execution_count": 148,
      "metadata": {
        "id": "FGXO8TvsjpSg"
      },
      "outputs": [],
      "source": [
        "def load_data():\n",
        "    data = pd.read_csv('data/train.csv', encoding='cp949')\n",
        "    data = data[: 100]\n",
        "    x, y = parsing(data)    \n",
        "    cut = int(round(len(x)*0.88))\n",
        "    tr_x = x[:cut]\n",
        "    tr_y = y[:cut]\n",
        "    te_x = x[cut:]\n",
        "    te_y = y[cut:]\n",
        "    return tr_x, tr_y, te_x, te_y"
      ]
    },
    {
      "cell_type": "code",
      "execution_count": 149,
      "metadata": {
        "id": "yfIVwZxJjpSh"
      },
      "outputs": [],
      "source": [
        "train_x, train_y, test_x, test_y = load_data()"
      ]
    },
    {
      "cell_type": "markdown",
      "metadata": {
        "id": "FtOBVORnPUCt"
      },
      "source": [
        "## 데이터 확인 \n",
        "\n",
        "주의! 최종 예측하는 단계 이전에는 현재 가지고 있는 데이터, 즉 train data만을 이용하여 작업을 진행해야 합니다.\n",
        "\n",
        "현재 가지고 있는 데이터 train_x를 보고 전력 사용량을 예측하는데에 사용할 변수를 선택해주세요.\n",
        "\n",
        "기초세션에서 다뤘던 내용을 참고하셔서 최적의 변수 조합을 찾아보도록 합시다.\n",
        "\n",
        "이 때 선택해야하는 변수는 하나일 수도 있고, 여러개의 변수를 사용하여도 좋습니다."
      ]
    },
    {
      "cell_type": "code",
      "source": [
        "import numpy as np\n",
        "import pandas as pd\n",
        "import matplotlib as mpl\n",
        "import matplotlib.pyplot as plt\n",
        "import seaborn as sns"
      ],
      "metadata": {
        "id": "4P0qylSAn8wv"
      },
      "execution_count": 150,
      "outputs": []
    },
    {
      "cell_type": "code",
      "execution_count": 151,
      "metadata": {
        "id": "wuD0nXzEDySK",
        "colab": {
          "base_uri": "https://localhost:8080/",
          "height": 424
        },
        "outputId": "585f79a3-c5c9-4268-ce72-3b332de32cde"
      },
      "outputs": [
        {
          "output_type": "execute_result",
          "data": {
            "text/plain": [
              "    Temp  Wind  Moisture  Precipitation  Sun\n",
              "0   17.6   2.5      92.0            0.8  0.0\n",
              "1   17.7   2.9      91.0            0.3  0.0\n",
              "2   17.5   3.2      91.0            0.0  0.0\n",
              "3   17.1   3.2      91.0            0.0  0.0\n",
              "4   17.0   3.3      92.0            0.0  0.0\n",
              "..   ...   ...       ...            ...  ...\n",
              "83  23.9   2.8      68.0            0.0  0.6\n",
              "84  25.0   3.1      63.0            0.0  0.8\n",
              "85  26.0   3.1      60.0            0.0  1.0\n",
              "86  26.4   3.8      60.0            0.0  1.0\n",
              "87  25.4   4.2      66.0            0.0  0.5\n",
              "\n",
              "[88 rows x 5 columns]"
            ],
            "text/html": [
              "\n",
              "  <div id=\"df-1361e166-d117-4edb-8543-8402ce6f7898\">\n",
              "    <div class=\"colab-df-container\">\n",
              "      <div>\n",
              "<style scoped>\n",
              "    .dataframe tbody tr th:only-of-type {\n",
              "        vertical-align: middle;\n",
              "    }\n",
              "\n",
              "    .dataframe tbody tr th {\n",
              "        vertical-align: top;\n",
              "    }\n",
              "\n",
              "    .dataframe thead th {\n",
              "        text-align: right;\n",
              "    }\n",
              "</style>\n",
              "<table border=\"1\" class=\"dataframe\">\n",
              "  <thead>\n",
              "    <tr style=\"text-align: right;\">\n",
              "      <th></th>\n",
              "      <th>Temp</th>\n",
              "      <th>Wind</th>\n",
              "      <th>Moisture</th>\n",
              "      <th>Precipitation</th>\n",
              "      <th>Sun</th>\n",
              "    </tr>\n",
              "  </thead>\n",
              "  <tbody>\n",
              "    <tr>\n",
              "      <th>0</th>\n",
              "      <td>17.6</td>\n",
              "      <td>2.5</td>\n",
              "      <td>92.0</td>\n",
              "      <td>0.8</td>\n",
              "      <td>0.0</td>\n",
              "    </tr>\n",
              "    <tr>\n",
              "      <th>1</th>\n",
              "      <td>17.7</td>\n",
              "      <td>2.9</td>\n",
              "      <td>91.0</td>\n",
              "      <td>0.3</td>\n",
              "      <td>0.0</td>\n",
              "    </tr>\n",
              "    <tr>\n",
              "      <th>2</th>\n",
              "      <td>17.5</td>\n",
              "      <td>3.2</td>\n",
              "      <td>91.0</td>\n",
              "      <td>0.0</td>\n",
              "      <td>0.0</td>\n",
              "    </tr>\n",
              "    <tr>\n",
              "      <th>3</th>\n",
              "      <td>17.1</td>\n",
              "      <td>3.2</td>\n",
              "      <td>91.0</td>\n",
              "      <td>0.0</td>\n",
              "      <td>0.0</td>\n",
              "    </tr>\n",
              "    <tr>\n",
              "      <th>4</th>\n",
              "      <td>17.0</td>\n",
              "      <td>3.3</td>\n",
              "      <td>92.0</td>\n",
              "      <td>0.0</td>\n",
              "      <td>0.0</td>\n",
              "    </tr>\n",
              "    <tr>\n",
              "      <th>...</th>\n",
              "      <td>...</td>\n",
              "      <td>...</td>\n",
              "      <td>...</td>\n",
              "      <td>...</td>\n",
              "      <td>...</td>\n",
              "    </tr>\n",
              "    <tr>\n",
              "      <th>83</th>\n",
              "      <td>23.9</td>\n",
              "      <td>2.8</td>\n",
              "      <td>68.0</td>\n",
              "      <td>0.0</td>\n",
              "      <td>0.6</td>\n",
              "    </tr>\n",
              "    <tr>\n",
              "      <th>84</th>\n",
              "      <td>25.0</td>\n",
              "      <td>3.1</td>\n",
              "      <td>63.0</td>\n",
              "      <td>0.0</td>\n",
              "      <td>0.8</td>\n",
              "    </tr>\n",
              "    <tr>\n",
              "      <th>85</th>\n",
              "      <td>26.0</td>\n",
              "      <td>3.1</td>\n",
              "      <td>60.0</td>\n",
              "      <td>0.0</td>\n",
              "      <td>1.0</td>\n",
              "    </tr>\n",
              "    <tr>\n",
              "      <th>86</th>\n",
              "      <td>26.4</td>\n",
              "      <td>3.8</td>\n",
              "      <td>60.0</td>\n",
              "      <td>0.0</td>\n",
              "      <td>1.0</td>\n",
              "    </tr>\n",
              "    <tr>\n",
              "      <th>87</th>\n",
              "      <td>25.4</td>\n",
              "      <td>4.2</td>\n",
              "      <td>66.0</td>\n",
              "      <td>0.0</td>\n",
              "      <td>0.5</td>\n",
              "    </tr>\n",
              "  </tbody>\n",
              "</table>\n",
              "<p>88 rows × 5 columns</p>\n",
              "</div>\n",
              "      <button class=\"colab-df-convert\" onclick=\"convertToInteractive('df-1361e166-d117-4edb-8543-8402ce6f7898')\"\n",
              "              title=\"Convert this dataframe to an interactive table.\"\n",
              "              style=\"display:none;\">\n",
              "        \n",
              "  <svg xmlns=\"http://www.w3.org/2000/svg\" height=\"24px\"viewBox=\"0 0 24 24\"\n",
              "       width=\"24px\">\n",
              "    <path d=\"M0 0h24v24H0V0z\" fill=\"none\"/>\n",
              "    <path d=\"M18.56 5.44l.94 2.06.94-2.06 2.06-.94-2.06-.94-.94-2.06-.94 2.06-2.06.94zm-11 1L8.5 8.5l.94-2.06 2.06-.94-2.06-.94L8.5 2.5l-.94 2.06-2.06.94zm10 10l.94 2.06.94-2.06 2.06-.94-2.06-.94-.94-2.06-.94 2.06-2.06.94z\"/><path d=\"M17.41 7.96l-1.37-1.37c-.4-.4-.92-.59-1.43-.59-.52 0-1.04.2-1.43.59L10.3 9.45l-7.72 7.72c-.78.78-.78 2.05 0 2.83L4 21.41c.39.39.9.59 1.41.59.51 0 1.02-.2 1.41-.59l7.78-7.78 2.81-2.81c.8-.78.8-2.07 0-2.86zM5.41 20L4 18.59l7.72-7.72 1.47 1.35L5.41 20z\"/>\n",
              "  </svg>\n",
              "      </button>\n",
              "      \n",
              "  <style>\n",
              "    .colab-df-container {\n",
              "      display:flex;\n",
              "      flex-wrap:wrap;\n",
              "      gap: 12px;\n",
              "    }\n",
              "\n",
              "    .colab-df-convert {\n",
              "      background-color: #E8F0FE;\n",
              "      border: none;\n",
              "      border-radius: 50%;\n",
              "      cursor: pointer;\n",
              "      display: none;\n",
              "      fill: #1967D2;\n",
              "      height: 32px;\n",
              "      padding: 0 0 0 0;\n",
              "      width: 32px;\n",
              "    }\n",
              "\n",
              "    .colab-df-convert:hover {\n",
              "      background-color: #E2EBFA;\n",
              "      box-shadow: 0px 1px 2px rgba(60, 64, 67, 0.3), 0px 1px 3px 1px rgba(60, 64, 67, 0.15);\n",
              "      fill: #174EA6;\n",
              "    }\n",
              "\n",
              "    [theme=dark] .colab-df-convert {\n",
              "      background-color: #3B4455;\n",
              "      fill: #D2E3FC;\n",
              "    }\n",
              "\n",
              "    [theme=dark] .colab-df-convert:hover {\n",
              "      background-color: #434B5C;\n",
              "      box-shadow: 0px 1px 3px 1px rgba(0, 0, 0, 0.15);\n",
              "      filter: drop-shadow(0px 1px 2px rgba(0, 0, 0, 0.3));\n",
              "      fill: #FFFFFF;\n",
              "    }\n",
              "  </style>\n",
              "\n",
              "      <script>\n",
              "        const buttonEl =\n",
              "          document.querySelector('#df-1361e166-d117-4edb-8543-8402ce6f7898 button.colab-df-convert');\n",
              "        buttonEl.style.display =\n",
              "          google.colab.kernel.accessAllowed ? 'block' : 'none';\n",
              "\n",
              "        async function convertToInteractive(key) {\n",
              "          const element = document.querySelector('#df-1361e166-d117-4edb-8543-8402ce6f7898');\n",
              "          const dataTable =\n",
              "            await google.colab.kernel.invokeFunction('convertToInteractive',\n",
              "                                                     [key], {});\n",
              "          if (!dataTable) return;\n",
              "\n",
              "          const docLinkHtml = 'Like what you see? Visit the ' +\n",
              "            '<a target=\"_blank\" href=https://colab.research.google.com/notebooks/data_table.ipynb>data table notebook</a>'\n",
              "            + ' to learn more about interactive tables.';\n",
              "          element.innerHTML = '';\n",
              "          dataTable['output_type'] = 'display_data';\n",
              "          await google.colab.output.renderOutput(dataTable, element);\n",
              "          const docLink = document.createElement('div');\n",
              "          docLink.innerHTML = docLinkHtml;\n",
              "          element.appendChild(docLink);\n",
              "        }\n",
              "      </script>\n",
              "    </div>\n",
              "  </div>\n",
              "  "
            ]
          },
          "metadata": {},
          "execution_count": 151
        }
      ],
      "source": [
        "# 데이터 셋을 둘러보는 코드 작성하시고, 왜 좋은지 한번 둘러보세요!\n",
        "train_x"
      ]
    },
    {
      "cell_type": "code",
      "source": [
        "train_y"
      ],
      "metadata": {
        "colab": {
          "base_uri": "https://localhost:8080/"
        },
        "id": "hdPk-qVZn5FM",
        "outputId": "d77b48f2-af0c-44c1-d474-0f5c3f279f7c"
      },
      "execution_count": 152,
      "outputs": [
        {
          "output_type": "execute_result",
          "data": {
            "text/plain": [
              "0     8179.056\n",
              "1     8135.640\n",
              "2     8107.128\n",
              "3     8048.808\n",
              "4     8043.624\n",
              "        ...   \n",
              "83    8386.416\n",
              "84    8435.664\n",
              "85    8591.184\n",
              "86    8638.488\n",
              "87    8663.112\n",
              "Name: Wh, Length: 88, dtype: float64"
            ]
          },
          "metadata": {},
          "execution_count": 152
        }
      ]
    },
    {
      "cell_type": "code",
      "source": [
        "# train_df = train_x + train_y\n",
        "train_df = pd.merge(train_x, train_y, left_index=True, right_index=True)\n",
        "train_df"
      ],
      "metadata": {
        "colab": {
          "base_uri": "https://localhost:8080/",
          "height": 424
        },
        "id": "hcdY4gjyoMP_",
        "outputId": "684b740e-ea91-4849-aced-631d5b550352"
      },
      "execution_count": 153,
      "outputs": [
        {
          "output_type": "execute_result",
          "data": {
            "text/plain": [
              "    Temp  Wind  Moisture  Precipitation  Sun        Wh\n",
              "0   17.6   2.5      92.0            0.8  0.0  8179.056\n",
              "1   17.7   2.9      91.0            0.3  0.0  8135.640\n",
              "2   17.5   3.2      91.0            0.0  0.0  8107.128\n",
              "3   17.1   3.2      91.0            0.0  0.0  8048.808\n",
              "4   17.0   3.3      92.0            0.0  0.0  8043.624\n",
              "..   ...   ...       ...            ...  ...       ...\n",
              "83  23.9   2.8      68.0            0.0  0.6  8386.416\n",
              "84  25.0   3.1      63.0            0.0  0.8  8435.664\n",
              "85  26.0   3.1      60.0            0.0  1.0  8591.184\n",
              "86  26.4   3.8      60.0            0.0  1.0  8638.488\n",
              "87  25.4   4.2      66.0            0.0  0.5  8663.112\n",
              "\n",
              "[88 rows x 6 columns]"
            ],
            "text/html": [
              "\n",
              "  <div id=\"df-771056e8-b6f5-4236-bfdb-6032b344d5be\">\n",
              "    <div class=\"colab-df-container\">\n",
              "      <div>\n",
              "<style scoped>\n",
              "    .dataframe tbody tr th:only-of-type {\n",
              "        vertical-align: middle;\n",
              "    }\n",
              "\n",
              "    .dataframe tbody tr th {\n",
              "        vertical-align: top;\n",
              "    }\n",
              "\n",
              "    .dataframe thead th {\n",
              "        text-align: right;\n",
              "    }\n",
              "</style>\n",
              "<table border=\"1\" class=\"dataframe\">\n",
              "  <thead>\n",
              "    <tr style=\"text-align: right;\">\n",
              "      <th></th>\n",
              "      <th>Temp</th>\n",
              "      <th>Wind</th>\n",
              "      <th>Moisture</th>\n",
              "      <th>Precipitation</th>\n",
              "      <th>Sun</th>\n",
              "      <th>Wh</th>\n",
              "    </tr>\n",
              "  </thead>\n",
              "  <tbody>\n",
              "    <tr>\n",
              "      <th>0</th>\n",
              "      <td>17.6</td>\n",
              "      <td>2.5</td>\n",
              "      <td>92.0</td>\n",
              "      <td>0.8</td>\n",
              "      <td>0.0</td>\n",
              "      <td>8179.056</td>\n",
              "    </tr>\n",
              "    <tr>\n",
              "      <th>1</th>\n",
              "      <td>17.7</td>\n",
              "      <td>2.9</td>\n",
              "      <td>91.0</td>\n",
              "      <td>0.3</td>\n",
              "      <td>0.0</td>\n",
              "      <td>8135.640</td>\n",
              "    </tr>\n",
              "    <tr>\n",
              "      <th>2</th>\n",
              "      <td>17.5</td>\n",
              "      <td>3.2</td>\n",
              "      <td>91.0</td>\n",
              "      <td>0.0</td>\n",
              "      <td>0.0</td>\n",
              "      <td>8107.128</td>\n",
              "    </tr>\n",
              "    <tr>\n",
              "      <th>3</th>\n",
              "      <td>17.1</td>\n",
              "      <td>3.2</td>\n",
              "      <td>91.0</td>\n",
              "      <td>0.0</td>\n",
              "      <td>0.0</td>\n",
              "      <td>8048.808</td>\n",
              "    </tr>\n",
              "    <tr>\n",
              "      <th>4</th>\n",
              "      <td>17.0</td>\n",
              "      <td>3.3</td>\n",
              "      <td>92.0</td>\n",
              "      <td>0.0</td>\n",
              "      <td>0.0</td>\n",
              "      <td>8043.624</td>\n",
              "    </tr>\n",
              "    <tr>\n",
              "      <th>...</th>\n",
              "      <td>...</td>\n",
              "      <td>...</td>\n",
              "      <td>...</td>\n",
              "      <td>...</td>\n",
              "      <td>...</td>\n",
              "      <td>...</td>\n",
              "    </tr>\n",
              "    <tr>\n",
              "      <th>83</th>\n",
              "      <td>23.9</td>\n",
              "      <td>2.8</td>\n",
              "      <td>68.0</td>\n",
              "      <td>0.0</td>\n",
              "      <td>0.6</td>\n",
              "      <td>8386.416</td>\n",
              "    </tr>\n",
              "    <tr>\n",
              "      <th>84</th>\n",
              "      <td>25.0</td>\n",
              "      <td>3.1</td>\n",
              "      <td>63.0</td>\n",
              "      <td>0.0</td>\n",
              "      <td>0.8</td>\n",
              "      <td>8435.664</td>\n",
              "    </tr>\n",
              "    <tr>\n",
              "      <th>85</th>\n",
              "      <td>26.0</td>\n",
              "      <td>3.1</td>\n",
              "      <td>60.0</td>\n",
              "      <td>0.0</td>\n",
              "      <td>1.0</td>\n",
              "      <td>8591.184</td>\n",
              "    </tr>\n",
              "    <tr>\n",
              "      <th>86</th>\n",
              "      <td>26.4</td>\n",
              "      <td>3.8</td>\n",
              "      <td>60.0</td>\n",
              "      <td>0.0</td>\n",
              "      <td>1.0</td>\n",
              "      <td>8638.488</td>\n",
              "    </tr>\n",
              "    <tr>\n",
              "      <th>87</th>\n",
              "      <td>25.4</td>\n",
              "      <td>4.2</td>\n",
              "      <td>66.0</td>\n",
              "      <td>0.0</td>\n",
              "      <td>0.5</td>\n",
              "      <td>8663.112</td>\n",
              "    </tr>\n",
              "  </tbody>\n",
              "</table>\n",
              "<p>88 rows × 6 columns</p>\n",
              "</div>\n",
              "      <button class=\"colab-df-convert\" onclick=\"convertToInteractive('df-771056e8-b6f5-4236-bfdb-6032b344d5be')\"\n",
              "              title=\"Convert this dataframe to an interactive table.\"\n",
              "              style=\"display:none;\">\n",
              "        \n",
              "  <svg xmlns=\"http://www.w3.org/2000/svg\" height=\"24px\"viewBox=\"0 0 24 24\"\n",
              "       width=\"24px\">\n",
              "    <path d=\"M0 0h24v24H0V0z\" fill=\"none\"/>\n",
              "    <path d=\"M18.56 5.44l.94 2.06.94-2.06 2.06-.94-2.06-.94-.94-2.06-.94 2.06-2.06.94zm-11 1L8.5 8.5l.94-2.06 2.06-.94-2.06-.94L8.5 2.5l-.94 2.06-2.06.94zm10 10l.94 2.06.94-2.06 2.06-.94-2.06-.94-.94-2.06-.94 2.06-2.06.94z\"/><path d=\"M17.41 7.96l-1.37-1.37c-.4-.4-.92-.59-1.43-.59-.52 0-1.04.2-1.43.59L10.3 9.45l-7.72 7.72c-.78.78-.78 2.05 0 2.83L4 21.41c.39.39.9.59 1.41.59.51 0 1.02-.2 1.41-.59l7.78-7.78 2.81-2.81c.8-.78.8-2.07 0-2.86zM5.41 20L4 18.59l7.72-7.72 1.47 1.35L5.41 20z\"/>\n",
              "  </svg>\n",
              "      </button>\n",
              "      \n",
              "  <style>\n",
              "    .colab-df-container {\n",
              "      display:flex;\n",
              "      flex-wrap:wrap;\n",
              "      gap: 12px;\n",
              "    }\n",
              "\n",
              "    .colab-df-convert {\n",
              "      background-color: #E8F0FE;\n",
              "      border: none;\n",
              "      border-radius: 50%;\n",
              "      cursor: pointer;\n",
              "      display: none;\n",
              "      fill: #1967D2;\n",
              "      height: 32px;\n",
              "      padding: 0 0 0 0;\n",
              "      width: 32px;\n",
              "    }\n",
              "\n",
              "    .colab-df-convert:hover {\n",
              "      background-color: #E2EBFA;\n",
              "      box-shadow: 0px 1px 2px rgba(60, 64, 67, 0.3), 0px 1px 3px 1px rgba(60, 64, 67, 0.15);\n",
              "      fill: #174EA6;\n",
              "    }\n",
              "\n",
              "    [theme=dark] .colab-df-convert {\n",
              "      background-color: #3B4455;\n",
              "      fill: #D2E3FC;\n",
              "    }\n",
              "\n",
              "    [theme=dark] .colab-df-convert:hover {\n",
              "      background-color: #434B5C;\n",
              "      box-shadow: 0px 1px 3px 1px rgba(0, 0, 0, 0.15);\n",
              "      filter: drop-shadow(0px 1px 2px rgba(0, 0, 0, 0.3));\n",
              "      fill: #FFFFFF;\n",
              "    }\n",
              "  </style>\n",
              "\n",
              "      <script>\n",
              "        const buttonEl =\n",
              "          document.querySelector('#df-771056e8-b6f5-4236-bfdb-6032b344d5be button.colab-df-convert');\n",
              "        buttonEl.style.display =\n",
              "          google.colab.kernel.accessAllowed ? 'block' : 'none';\n",
              "\n",
              "        async function convertToInteractive(key) {\n",
              "          const element = document.querySelector('#df-771056e8-b6f5-4236-bfdb-6032b344d5be');\n",
              "          const dataTable =\n",
              "            await google.colab.kernel.invokeFunction('convertToInteractive',\n",
              "                                                     [key], {});\n",
              "          if (!dataTable) return;\n",
              "\n",
              "          const docLinkHtml = 'Like what you see? Visit the ' +\n",
              "            '<a target=\"_blank\" href=https://colab.research.google.com/notebooks/data_table.ipynb>data table notebook</a>'\n",
              "            + ' to learn more about interactive tables.';\n",
              "          element.innerHTML = '';\n",
              "          dataTable['output_type'] = 'display_data';\n",
              "          await google.colab.output.renderOutput(dataTable, element);\n",
              "          const docLink = document.createElement('div');\n",
              "          docLink.innerHTML = docLinkHtml;\n",
              "          element.appendChild(docLink);\n",
              "        }\n",
              "      </script>\n",
              "    </div>\n",
              "  </div>\n",
              "  "
            ]
          },
          "metadata": {},
          "execution_count": 153
        }
      ]
    },
    {
      "cell_type": "code",
      "source": [
        "# correlation\n",
        "train_df.corr()"
      ],
      "metadata": {
        "colab": {
          "base_uri": "https://localhost:8080/",
          "height": 238
        },
        "id": "FCCGBS3Zon4H",
        "outputId": "05e5a098-2e23-41c8-ccd9-4357ed0d9a43"
      },
      "execution_count": 154,
      "outputs": [
        {
          "output_type": "execute_result",
          "data": {
            "text/plain": [
              "                   Temp      Wind  Moisture  Precipitation       Sun        Wh\n",
              "Temp           1.000000  0.510935 -0.628642      -0.173210  0.783829  0.803301\n",
              "Wind           0.510935  1.000000 -0.478825       0.028617  0.544720  0.349288\n",
              "Moisture      -0.628642 -0.478825  1.000000       0.152529 -0.699047 -0.095042\n",
              "Precipitation -0.173210  0.028617  0.152529       1.000000 -0.123846 -0.090389\n",
              "Sun            0.783829  0.544720 -0.699047      -0.123846  1.000000  0.458348\n",
              "Wh             0.803301  0.349288 -0.095042      -0.090389  0.458348  1.000000"
            ],
            "text/html": [
              "\n",
              "  <div id=\"df-2190408c-6136-4761-9717-306f427f3117\">\n",
              "    <div class=\"colab-df-container\">\n",
              "      <div>\n",
              "<style scoped>\n",
              "    .dataframe tbody tr th:only-of-type {\n",
              "        vertical-align: middle;\n",
              "    }\n",
              "\n",
              "    .dataframe tbody tr th {\n",
              "        vertical-align: top;\n",
              "    }\n",
              "\n",
              "    .dataframe thead th {\n",
              "        text-align: right;\n",
              "    }\n",
              "</style>\n",
              "<table border=\"1\" class=\"dataframe\">\n",
              "  <thead>\n",
              "    <tr style=\"text-align: right;\">\n",
              "      <th></th>\n",
              "      <th>Temp</th>\n",
              "      <th>Wind</th>\n",
              "      <th>Moisture</th>\n",
              "      <th>Precipitation</th>\n",
              "      <th>Sun</th>\n",
              "      <th>Wh</th>\n",
              "    </tr>\n",
              "  </thead>\n",
              "  <tbody>\n",
              "    <tr>\n",
              "      <th>Temp</th>\n",
              "      <td>1.000000</td>\n",
              "      <td>0.510935</td>\n",
              "      <td>-0.628642</td>\n",
              "      <td>-0.173210</td>\n",
              "      <td>0.783829</td>\n",
              "      <td>0.803301</td>\n",
              "    </tr>\n",
              "    <tr>\n",
              "      <th>Wind</th>\n",
              "      <td>0.510935</td>\n",
              "      <td>1.000000</td>\n",
              "      <td>-0.478825</td>\n",
              "      <td>0.028617</td>\n",
              "      <td>0.544720</td>\n",
              "      <td>0.349288</td>\n",
              "    </tr>\n",
              "    <tr>\n",
              "      <th>Moisture</th>\n",
              "      <td>-0.628642</td>\n",
              "      <td>-0.478825</td>\n",
              "      <td>1.000000</td>\n",
              "      <td>0.152529</td>\n",
              "      <td>-0.699047</td>\n",
              "      <td>-0.095042</td>\n",
              "    </tr>\n",
              "    <tr>\n",
              "      <th>Precipitation</th>\n",
              "      <td>-0.173210</td>\n",
              "      <td>0.028617</td>\n",
              "      <td>0.152529</td>\n",
              "      <td>1.000000</td>\n",
              "      <td>-0.123846</td>\n",
              "      <td>-0.090389</td>\n",
              "    </tr>\n",
              "    <tr>\n",
              "      <th>Sun</th>\n",
              "      <td>0.783829</td>\n",
              "      <td>0.544720</td>\n",
              "      <td>-0.699047</td>\n",
              "      <td>-0.123846</td>\n",
              "      <td>1.000000</td>\n",
              "      <td>0.458348</td>\n",
              "    </tr>\n",
              "    <tr>\n",
              "      <th>Wh</th>\n",
              "      <td>0.803301</td>\n",
              "      <td>0.349288</td>\n",
              "      <td>-0.095042</td>\n",
              "      <td>-0.090389</td>\n",
              "      <td>0.458348</td>\n",
              "      <td>1.000000</td>\n",
              "    </tr>\n",
              "  </tbody>\n",
              "</table>\n",
              "</div>\n",
              "      <button class=\"colab-df-convert\" onclick=\"convertToInteractive('df-2190408c-6136-4761-9717-306f427f3117')\"\n",
              "              title=\"Convert this dataframe to an interactive table.\"\n",
              "              style=\"display:none;\">\n",
              "        \n",
              "  <svg xmlns=\"http://www.w3.org/2000/svg\" height=\"24px\"viewBox=\"0 0 24 24\"\n",
              "       width=\"24px\">\n",
              "    <path d=\"M0 0h24v24H0V0z\" fill=\"none\"/>\n",
              "    <path d=\"M18.56 5.44l.94 2.06.94-2.06 2.06-.94-2.06-.94-.94-2.06-.94 2.06-2.06.94zm-11 1L8.5 8.5l.94-2.06 2.06-.94-2.06-.94L8.5 2.5l-.94 2.06-2.06.94zm10 10l.94 2.06.94-2.06 2.06-.94-2.06-.94-.94-2.06-.94 2.06-2.06.94z\"/><path d=\"M17.41 7.96l-1.37-1.37c-.4-.4-.92-.59-1.43-.59-.52 0-1.04.2-1.43.59L10.3 9.45l-7.72 7.72c-.78.78-.78 2.05 0 2.83L4 21.41c.39.39.9.59 1.41.59.51 0 1.02-.2 1.41-.59l7.78-7.78 2.81-2.81c.8-.78.8-2.07 0-2.86zM5.41 20L4 18.59l7.72-7.72 1.47 1.35L5.41 20z\"/>\n",
              "  </svg>\n",
              "      </button>\n",
              "      \n",
              "  <style>\n",
              "    .colab-df-container {\n",
              "      display:flex;\n",
              "      flex-wrap:wrap;\n",
              "      gap: 12px;\n",
              "    }\n",
              "\n",
              "    .colab-df-convert {\n",
              "      background-color: #E8F0FE;\n",
              "      border: none;\n",
              "      border-radius: 50%;\n",
              "      cursor: pointer;\n",
              "      display: none;\n",
              "      fill: #1967D2;\n",
              "      height: 32px;\n",
              "      padding: 0 0 0 0;\n",
              "      width: 32px;\n",
              "    }\n",
              "\n",
              "    .colab-df-convert:hover {\n",
              "      background-color: #E2EBFA;\n",
              "      box-shadow: 0px 1px 2px rgba(60, 64, 67, 0.3), 0px 1px 3px 1px rgba(60, 64, 67, 0.15);\n",
              "      fill: #174EA6;\n",
              "    }\n",
              "\n",
              "    [theme=dark] .colab-df-convert {\n",
              "      background-color: #3B4455;\n",
              "      fill: #D2E3FC;\n",
              "    }\n",
              "\n",
              "    [theme=dark] .colab-df-convert:hover {\n",
              "      background-color: #434B5C;\n",
              "      box-shadow: 0px 1px 3px 1px rgba(0, 0, 0, 0.15);\n",
              "      filter: drop-shadow(0px 1px 2px rgba(0, 0, 0, 0.3));\n",
              "      fill: #FFFFFF;\n",
              "    }\n",
              "  </style>\n",
              "\n",
              "      <script>\n",
              "        const buttonEl =\n",
              "          document.querySelector('#df-2190408c-6136-4761-9717-306f427f3117 button.colab-df-convert');\n",
              "        buttonEl.style.display =\n",
              "          google.colab.kernel.accessAllowed ? 'block' : 'none';\n",
              "\n",
              "        async function convertToInteractive(key) {\n",
              "          const element = document.querySelector('#df-2190408c-6136-4761-9717-306f427f3117');\n",
              "          const dataTable =\n",
              "            await google.colab.kernel.invokeFunction('convertToInteractive',\n",
              "                                                     [key], {});\n",
              "          if (!dataTable) return;\n",
              "\n",
              "          const docLinkHtml = 'Like what you see? Visit the ' +\n",
              "            '<a target=\"_blank\" href=https://colab.research.google.com/notebooks/data_table.ipynb>data table notebook</a>'\n",
              "            + ' to learn more about interactive tables.';\n",
              "          element.innerHTML = '';\n",
              "          dataTable['output_type'] = 'display_data';\n",
              "          await google.colab.output.renderOutput(dataTable, element);\n",
              "          const docLink = document.createElement('div');\n",
              "          docLink.innerHTML = docLinkHtml;\n",
              "          element.appendChild(docLink);\n",
              "        }\n",
              "      </script>\n",
              "    </div>\n",
              "  </div>\n",
              "  "
            ]
          },
          "metadata": {},
          "execution_count": 154
        }
      ]
    },
    {
      "cell_type": "code",
      "source": [
        "# scatter plot\n",
        "\n",
        "fig, axes = plt.subplots(3, 2, figsize = (15, 10))\n",
        "\n",
        "axes[0,0].scatter(train_df['Temp'], train_df['Wh'], alpha = 0.5)\n",
        "axes[0,1].scatter(train_df['Sun'], train_df['Wh'], alpha = 0.5)\n",
        "axes[1,0].scatter(train_df['Wind'], train_df['Wh'], alpha = 0.5)\n",
        "axes[1,1].scatter(train_df['Moisture'], train_df['Wh'], alpha = 0.5)\n",
        "axes[2,0].scatter(train_df['Precipitation'], train_df['Wh'], alpha = 0.5)\n",
        "\n",
        "axes[0,0].set_title('Temp & Wh')\n",
        "axes[0,1].set_title('Sun & Wh')\n",
        "axes[1,0].set_title('Wind & Wh')\n",
        "axes[1,1].set_title('Moisture & Wh')\n",
        "axes[2,0].set_title('Precipitation & Wh')\n",
        "\n",
        "plt.show()"
      ],
      "metadata": {
        "colab": {
          "base_uri": "https://localhost:8080/",
          "height": 607
        },
        "id": "uKxGg3foqenx",
        "outputId": "152ce591-7706-4c81-a57f-7326ae924d73"
      },
      "execution_count": 155,
      "outputs": [
        {
          "output_type": "display_data",
          "data": {
            "text/plain": [
              "<Figure size 1080x720 with 6 Axes>"
            ],
            "image/png": "[encoded data removed]"
          },
          "metadata": {
            "needs_background": "light"
          }
        }
      ]
    },
    {
      "cell_type": "markdown",
      "metadata": {
        "id": "kD24Xx9XLotD"
      },
      "source": [
        "정답은 없습니다! \n",
        "\n",
        "다만 최종 선택한 변수(들)이 왜 선택받았는지 간단히 알려주세요.<br>\n",
        "답변 : "
      ]
    },
    {
      "cell_type": "markdown",
      "source": [
        "> Correlation plot\n",
        "- 종속변수(Wh)와의 상관계수 순위: Temp > Sun > Wind > Moisture > Precipitation\n",
        "\n",
        "> Scatter plot\n",
        "- Temp: 뚜렷한 선형 관계 관측 가능\n",
        "- Sun: 양극화 양상 관측 가능\n",
        "- Wind / Moisture: 상관관계 발견 어려움\n",
        "- Precipitation: 0 이외의 값이 거의 없어 상관관계 파악이 어려움 <br>\n",
        "\n",
        "=> Temp / Sun / Wind 변수 선택"
      ],
      "metadata": {
        "id": "EJntv55Isajh"
      }
    },
    {
      "cell_type": "markdown",
      "metadata": {
        "id": "9FeCbQAFP6Kw"
      },
      "source": [
        "## 전처리\n",
        "\n",
        "위에서 선택한 변수들(feature)를 가지고 한번 전력 사용량을 예측하는 모델을 만들어 보기에 앞서,\n",
        "\n",
        "**train 데이터의 feature의 전처리**를 진행해보려고 합니다. StandardScaler를 사용하셔도 좋고, MinMaxScaler를 사용하셔도 좋습니다! \n",
        "\n",
        "또한 PolynomialFeatures를 이용하거나 직접 feature를 계산하여 고차원의 feature를 만드셔도 좋습니다. 이 또한 정답은 없습니다!\n",
        "\n",
        "이 때 최종 train_x의 shape은 (n_samples, n_features)가 되도록 해주세요.<br>\n",
        "ex. 4개의 변수를 가진 1000개의 샘플의 경우 train_x.shape은 (1000,4)가 되면 됩니다.\n",
        "\n",
        "특히 하나의 변수만을 사용하시는 분들은 1D가 아닌 2D가 되도록 신경써주세요<br>\n",
        "ex. train_x.shape이 (1000,)이 아닌 (1000,1)입니다!"
      ]
    },
    {
      "cell_type": "code",
      "execution_count": 156,
      "metadata": {
        "id": "EGaIYoHMjpSj"
      },
      "outputs": [],
      "source": [
        "# 사용할 패키지를 import!\n",
        "from sklearn.preprocessing import MinMaxScaler"
      ]
    },
    {
      "cell_type": "code",
      "source": [
        "scaler = MinMaxScaler()\n",
        "scaler.fit(train_df[['Temp', 'Sun', 'Wind']])\n",
        "train_x = scaler.transform(train_df[['Temp', 'Sun', 'Wind']])"
      ],
      "metadata": {
        "id": "5RZeQNuluH4u"
      },
      "execution_count": 157,
      "outputs": []
    },
    {
      "cell_type": "markdown",
      "metadata": {
        "id": "nDi-mT7BjpSk"
      },
      "source": [
        "# 모델링"
      ]
    },
    {
      "cell_type": "markdown",
      "metadata": {
        "id": "TXMAsy3AjpSk"
      },
      "source": [
        "## 학습 \n",
        "\n",
        "이제 모델링을 해봅시다.\n",
        "\n",
        "앞서 다룬 여러 regression 모델들(Linear regression, Ridge Regression, Lasso Regression, ..)을 이용해서 fit을 진행해보도록 합시다."
      ]
    },
    {
      "cell_type": "markdown",
      "metadata": {
        "id": "xUW0p8ZajpSm"
      },
      "source": [
        "## 추정\n",
        "\n",
        "이제 train_x를 이용하여 전력사용량을 추정해보도록 합시다."
      ]
    },
    {
      "cell_type": "code",
      "execution_count": 158,
      "metadata": {
        "id": "nCd88UXEQFdZ"
      },
      "outputs": [],
      "source": [
        "# 사용할 패키지를 import!\n",
        "from sklearn.linear_model import LinearRegression\n",
        "from sklearn.preprocessing import PolynomialFeatures\n",
        "from sklearn.linear_model import Ridge\n",
        "from sklearn.linear_model import Lasso"
      ]
    },
    {
      "cell_type": "code",
      "execution_count": 159,
      "metadata": {
        "id": "y7hwaxnZUIwY"
      },
      "outputs": [],
      "source": [
        "# Linear Regression\n",
        "linear_model = LinearRegression().fit(train_x, train_y)\n",
        "linear_esti_y = linear_model.predict(train_x)"
      ]
    },
    {
      "cell_type": "code",
      "source": [
        "# Polynomial Regression: 2차\n",
        "polynomial_2 = PolynomialFeatures(2)\n",
        "train_x_poly_2 = polynomial_2.fit_transform(train_x)\n",
        "poly_2_model = LinearRegression().fit(train_x_poly_2, train_y)\n",
        "poly_2_esti_y = poly_2_model.predict(train_x_poly_2)"
      ],
      "metadata": {
        "id": "CcWBWCWa8je3"
      },
      "execution_count": 160,
      "outputs": []
    },
    {
      "cell_type": "code",
      "source": [
        "# Polynomial Regression: 3차\n",
        "polynomial_3 = PolynomialFeatures(3)\n",
        "train_x_poly_3 = polynomial_3.fit_transform(train_x)\n",
        "poly_3_model = LinearRegression().fit(train_x_poly_3, train_y)\n",
        "poly_3_esti_y = poly_3_model.predict(train_x_poly_3)"
      ],
      "metadata": {
        "id": "r_JoB3hI9vkl"
      },
      "execution_count": 161,
      "outputs": []
    },
    {
      "cell_type": "code",
      "source": [
        "# Polynomial Regression: 4차\n",
        "polynomial_4 = PolynomialFeatures(4)\n",
        "train_x_poly_4 = polynomial_4.fit_transform(train_x)\n",
        "poly_4_model = LinearRegression().fit(train_x_poly_4, train_y)\n",
        "poly_4_esti_y = poly_4_model.predict(train_x_poly_4)"
      ],
      "metadata": {
        "id": "u8gPClZt9-rQ"
      },
      "execution_count": 162,
      "outputs": []
    },
    {
      "cell_type": "code",
      "source": [
        "# Ridge Regression\n",
        "ridge_model = Ridge(random_state=123).fit(train_x_poly_2, train_y)\n",
        "ridge_esti_y = ridge_model.predict(train_x_poly_2)"
      ],
      "metadata": {
        "id": "ELP9bupS-RFI"
      },
      "execution_count": 163,
      "outputs": []
    },
    {
      "cell_type": "code",
      "source": [
        "# Lasso Regression\n",
        "lasso_model = Lasso(random_state=123).fit(train_x, train_y)\n",
        "lasso_esti_y = lasso_model.predict(train_x) "
      ],
      "metadata": {
        "id": "O3l1Aj1JAlmw"
      },
      "execution_count": 164,
      "outputs": []
    },
    {
      "cell_type": "markdown",
      "metadata": {
        "id": "vLTtGulTjpSn"
      },
      "source": [
        "# Loss 및 시각화\n",
        "\n",
        "앞서 fitting하여 얻은 모델을 이용하여 추정한 값으로 MSE를 측정해봅시다. 변수를 하나만 사용하신 분들은 xy 평면에 한번 같이 시각화도 해보셔도 좋습니다."
      ]
    },
    {
      "cell_type": "code",
      "execution_count": 165,
      "metadata": {
        "id": "0mVOaRHnjpSo"
      },
      "outputs": [],
      "source": [
        "def mse(pred, true):\n",
        "    return np.mean((pred-true)**2)"
      ]
    },
    {
      "cell_type": "code",
      "execution_count": 166,
      "metadata": {
        "colab": {
          "base_uri": "https://localhost:8080/"
        },
        "id": "m-Y37OlxjpSo",
        "outputId": "95d78524-f688-4b59-eccc-298b5d135285"
      },
      "outputs": [
        {
          "output_type": "stream",
          "name": "stdout",
          "text": [
            "Linear 11423.02779\n",
            "Polynomial_2 10340.38088\n",
            "Polynomial_3 6465.33019\n",
            "Polynomial_4 63938.12975\n",
            "Ridge 11918.06813\n",
            "Lasso 11523.08952\n"
          ]
        }
      ],
      "source": [
        "# train_y mse loss\n",
        "print(f\"Linear {mse(linear_esti_y, train_y):.5f}\")\n",
        "print(f\"Polynomial_2 {mse(poly_2_esti_y, train_y):.5f}\")\n",
        "print(f\"Polynomial_3 {mse(poly_3_esti_y, train_y):.5f}\")\n",
        "print(f\"Polynomial_4 {mse(poly_4_esti_y, train_y):.5f}\")\n",
        "print(f\"Ridge {mse(ridge_esti_y, train_y):.5f}\")\n",
        "print(f\"Lasso {mse(lasso_esti_y, train_y):.5f}\")"
      ]
    },
    {
      "cell_type": "code",
      "execution_count": 167,
      "metadata": {
        "id": "ThKWK_QdUIyo"
      },
      "outputs": [],
      "source": [
        "def visualize(model, x, y):\n",
        "    if x.shape[1] != 1:\n",
        "        return None\n",
        "    beta = model.coef_[0]\n",
        "    intercept = model.intercept_\n",
        "    \n",
        "    x_axis = np.linspace(np.min(x), np.max(x), 100)\n",
        "    fit = intercept * x_axis**0 + beta*x_axis \n",
        "\n",
        "    plt.figure(figsize=(8,6))\n",
        "    plt.plot(x_axis, fit, label='Predict', c='r', linewidth=3)\n",
        "    plt.scatter(x, y, c='blue')\n",
        "    plt.legend()\n",
        "    plt.show()"
      ]
    },
    {
      "cell_type": "code",
      "execution_count": 142,
      "metadata": {
        "id": "oLvYQl5KjpSo"
      },
      "outputs": [],
      "source": [
        "# train_x.shape가 (88, 3)이기 때문에 시각화 불가\n",
        "# visualize(model, train_x, train_y)"
      ]
    },
    {
      "cell_type": "markdown",
      "metadata": {
        "id": "1yfkoAiAjpSp"
      },
      "source": [
        "# 예측"
      ]
    },
    {
      "cell_type": "markdown",
      "metadata": {
        "id": "T-6Xv53GXm4K"
      },
      "source": [
        "테스트셋에 대해서 한번 **예측**해보도록 합시다.\n",
        "\n",
        "이미 fitting된 모델 (그리고 scaler를 사용하신다면 scaler)에 대해 **fit을 하지 말고** 단순히 predict만 진행해보도록 합시다. \n",
        "\n",
        "scaler는 transform만 하시고 model은 predict을 진행해주세요"
      ]
    },
    {
      "cell_type": "code",
      "execution_count": 168,
      "metadata": {
        "id": "YTwIN94ZYlhU"
      },
      "outputs": [],
      "source": [
        "# transform\n",
        "test_x = scaler.transform(test_x[['Temp', 'Sun', 'Wind']])\n",
        "test_x_poly_2 = polynomial_2.fit_transform(test_x)\n",
        "test_x_poly_3 = polynomial_3.fit_transform(test_x)\n",
        "test_x_poly_4 = polynomial_4.fit_transform(test_x)"
      ]
    },
    {
      "cell_type": "code",
      "execution_count": 171,
      "metadata": {
        "id": "iyY4abWzjpSq"
      },
      "outputs": [],
      "source": [
        "# predict값 할당\n",
        "linear_pred_y = linear_model.predict(test_x)\n",
        "poly_2_pred_y = poly_2_model.predict(test_x_poly_2)\n",
        "poly_3_pred_y = poly_3_model.predict(test_x_poly_3)\n",
        "poly_4_pred_y = poly_4_model.predict(test_x_poly_4)\n",
        "ridge_pred_y = ridge_model.predict(test_x_poly_2)\n",
        "lasso_pred_y = lasso_model.predict(test_x)"
      ]
    },
    {
      "cell_type": "markdown",
      "metadata": {
        "id": "AOIy_ndMjpSq"
      },
      "source": [
        "# 성능 평가\n",
        "\n",
        "한번 학습한 모델에 대해 test_y를 이용하여 mse loss를 측정해도도록 합시다."
      ]
    },
    {
      "cell_type": "code",
      "execution_count": 53,
      "metadata": {
        "id": "nIj9rX4TjpSq"
      },
      "outputs": [],
      "source": [
        "def score(train_mse, test_mse):\n",
        "    print(f\"{test_mse/train_mse: .4f}\")"
      ]
    },
    {
      "cell_type": "code",
      "source": [
        "# test_y mse loss\n",
        "print(f\"Linear {mse(linear_pred_y, test_y):.4f}\")\n",
        "print(f\"Polynomial_2 {mse(poly_2_pred_y, test_y):.4f}\")\n",
        "print(f\"Polynomial_3 {mse(poly_3_pred_y, test_y):.4f}\")\n",
        "print(f\"Polynomial_4 {mse(poly_4_pred_y, test_y):.4f}\")\n",
        "print(f\"Ridge {mse(ridge_pred_y, test_y):.4f}\")\n",
        "print(f\"Lasso {mse(lasso_pred_y, test_y):.4f}\")"
      ],
      "metadata": {
        "colab": {
          "base_uri": "https://localhost:8080/"
        },
        "id": "62mNpW35FHyi",
        "outputId": "fb08ff72-6d57-444a-ca30-43e3d3ca284d"
      },
      "execution_count": 176,
      "outputs": [
        {
          "output_type": "stream",
          "name": "stdout",
          "text": [
            "Linear 141348.4478\n",
            "Polynomial_2 161628.5946\n",
            "Polynomial_3 319678.0660\n",
            "Polynomial_4 2393397.8784\n",
            "Ridge 182037.0914\n",
            "Lasso 150024.5731\n"
          ]
        }
      ]
    },
    {
      "cell_type": "code",
      "source": [
        "# score\n",
        "print(f\"Linear {mse(linear_pred_y, test_y)/mse(linear_esti_y, train_y):.4f}\")\n",
        "print(f\"Polynomial_2 {mse(poly_2_pred_y, test_y)/mse(poly_2_esti_y, train_y):.4f}\")\n",
        "print(f\"Polynomial_3 {mse(poly_3_pred_y, test_y)/mse(poly_3_esti_y, train_y):.4f}\")\n",
        "print(f\"Polynomial_4 {mse(poly_4_pred_y, test_y)/mse(poly_4_esti_y, train_y):.4f}\")\n",
        "print(f\"Ridge {mse(ridge_pred_y, test_y)/mse(ridge_esti_y, train_y):.4f}\")\n",
        "print(f\"Lasso {mse(lasso_pred_y, test_y)/mse(lasso_esti_y, train_y):.4f}\")"
      ],
      "metadata": {
        "colab": {
          "base_uri": "https://localhost:8080/"
        },
        "id": "jhp22NloFpMs",
        "outputId": "198e7571-4c41-482c-fff6-d3853755fd01"
      },
      "execution_count": 175,
      "outputs": [
        {
          "output_type": "stream",
          "name": "stdout",
          "text": [
            "Linear 12.3740\n",
            "Polynomial_2 15.6308\n",
            "Polynomial_3 49.4450\n",
            "Polynomial_4 37.4330\n",
            "Ridge 15.2740\n",
            "Lasso 13.0195\n"
          ]
        }
      ]
    },
    {
      "cell_type": "code",
      "execution_count": null,
      "metadata": {
        "id": "hHQz6NrkXmtW"
      },
      "outputs": [],
      "source": [
        "# visualization 하실 분은 진행해주세요!\n",
        "# visualize(model, test_x, test_y)"
      ]
    },
    {
      "cell_type": "markdown",
      "metadata": {
        "id": "XbigLrvLjpSr"
      },
      "source": [
        "# 그 이후\n",
        "\n",
        "이제 여러분들은 한번 모델을 만들어보고 fitting한 다음 예측까지 해보셨습니다.\n",
        "\n",
        "이제 개선하기 위해 1.데이터부터 5.성능평가 중 수정, 변경하실 부분을 업데이트 해서  최적의 모델을 찾아보세요!\n",
        "\n",
        "현재 사용하고 있는 scaler, model부터 전처리과정 기타 여러 조건을 조작해보시고 어떤 효과가 있는지 한번 보시고 알려주세요:D"
      ]
    },
    {
      "cell_type": "markdown",
      "source": [
        "- train_y의 mse / test_y의 mse / score을 비교해보았을 때, Temp / Sun / Wind를 독립변수로 사용하고 LinearRegression 알고리즘을 사용한 모델을 최적의 모델로 판단"
      ],
      "metadata": {
        "id": "Dku8cSE4FDia"
      }
    },
    {
      "cell_type": "markdown",
      "metadata": {
        "id": "4Cxucd7sjpSr"
      },
      "source": [
        "고생하셨습니다!"
      ]
    }
  ],
  "metadata": {
    "colab": {
      "collapsed_sections": [],
      "name": "[7기 박지은] Supervised Learning 과제.ipynb",
      "provenance": []
    },
    "kernelspec": {
      "display_name": "Python 3 (ipykernel)",
      "language": "python",
      "name": "python3"
    },
    "language_info": {
      "codemirror_mode": {
        "name": "ipython",
        "version": 3
      },
      "file_extension": ".py",
      "mimetype": "text/x-python",
      "name": "python",
      "nbconvert_exporter": "python",
      "pygments_lexer": "ipython3",
      "version": "3.8.12"
    },
    "toc": {
      "base_numbering": 1,
      "nav_menu": {},
      "number_sections": true,
      "sideBar": true,
      "skip_h1_title": false,
      "title_cell": "Table of Contents",
      "title_sidebar": "Contents",
      "toc_cell": false,
      "toc_position": {
        "height": "calc(100% - 180px)",
        "left": "10px",
        "top": "150px",
        "width": "300.792px"
      },
      "toc_section_display": true,
      "toc_window_display": true
    }
  },
  "nbformat": 4,
  "nbformat_minor": 0
}