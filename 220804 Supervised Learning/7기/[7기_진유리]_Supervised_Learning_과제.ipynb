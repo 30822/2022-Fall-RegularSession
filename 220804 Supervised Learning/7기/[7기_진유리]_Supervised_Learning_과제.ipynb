{
  "cells": [
    {
      "cell_type": "code",
      "execution_count": 1,
      "metadata": {
        "id": "NuogZdJAewSq"
      },
      "outputs": [],
      "source": [
        "import numpy as np\n",
        "import pandas as pd\n",
        "import matplotlib.pyplot as plt"
      ]
    },
    {
      "cell_type": "markdown",
      "metadata": {
        "id": "u5RQzjdjj6I2"
      },
      "source": [
        "코랩 사용하시는 분들은 아래의 코드를 실행해주세요!"
      ]
    },
    {
      "cell_type": "code",
      "execution_count": null,
      "metadata": {
        "id": "7J7wP7X6nQtv"
      },
      "outputs": [],
      "source": [
        "# from google.colab import drive\n",
        "# drive.mount('/content/drive')"
      ]
    },
    {
      "cell_type": "code",
      "execution_count": 2,
      "metadata": {
        "id": "OA4UW3j4kePR",
        "colab": {
          "base_uri": "https://localhost:8080/",
          "height": 35
        },
        "outputId": "825b8713-a278-4141-e616-dc14fa45d70a"
      },
      "outputs": [
        {
          "output_type": "execute_result",
          "data": {
            "text/plain": [
              "'/content'"
            ],
            "application/vnd.google.colaboratory.intrinsic+json": {
              "type": "string"
            }
          },
          "metadata": {},
          "execution_count": 2
        }
      ],
      "source": [
        " import os\n",
        " os.getcwd()"
      ]
    },
    {
      "cell_type": "markdown",
      "metadata": {
        "id": "NtVt7I7qWH8s"
      },
      "source": [
        "코랩 사용시 본인 구글 드라이브 경로는  \n",
        "/content/drive/MyDrive/...  \n",
        "입니다."
      ]
    },
    {
      "cell_type": "code",
      "execution_count": null,
      "metadata": {
        "id": "SiVE75urjpg3"
      },
      "outputs": [],
      "source": [
        "# path = './drive/MyDrive/...'    # 과제 데이터셋이 저장된 경로를 더 작성해주세요\n",
        "# os.chdir(path)"
      ]
    },
    {
      "cell_type": "code",
      "execution_count": null,
      "metadata": {
        "id": "0qXX7Ab0kHuX"
      },
      "outputs": [],
      "source": [
        "# os.getcwd()"
      ]
    },
    {
      "cell_type": "markdown",
      "metadata": {
        "id": "JfNxu2eTDyl6"
      },
      "source": [
        "사용할 데이터 셋 :  전력 사용량 예측 모델\n",
        "\n",
        "아래의 과정에서 sklearn의 Pipeline의 사용은 필수는 아닙니다. 선호와 필요에 따라 사용하실 분들은 사용하셔도 좋습니다."
      ]
    },
    {
      "cell_type": "markdown",
      "metadata": {
        "id": "AfaR60FwU6dV"
      },
      "source": [
        "# 데이터"
      ]
    },
    {
      "cell_type": "markdown",
      "metadata": {
        "id": "K2sLE1gZOTc2"
      },
      "source": [
        "건물 정보와 기후 정보를 활용한 전력사용량 예측 데이터 중에서 \n",
        "\n",
        "환경 변수(기온, 풍속, 습도, 강수량, 일조)에 대해 전력 사용량을 선형회귀 모델을 사용해서 예측해보고자 합니다."
      ]
    },
    {
      "cell_type": "code",
      "execution_count": 3,
      "metadata": {
        "id": "TpjBNE-BU6dW"
      },
      "outputs": [],
      "source": [
        "var_name = ['Temp', 'Wind', 'Moisture', 'Precipitation', 'Sun']\n",
        "target = 'Wh'"
      ]
    },
    {
      "cell_type": "code",
      "execution_count": 4,
      "metadata": {
        "id": "0o00Tr-HU6dX"
      },
      "outputs": [],
      "source": [
        "def parsing(data: pd.DataFrame):\n",
        "    x = data.iloc[:, 3:8]\n",
        "    x.columns = var_name\n",
        "    y = data.iloc[:, 2]\n",
        "    y.name = target\n",
        "    \n",
        "    return x, y"
      ]
    },
    {
      "cell_type": "code",
      "execution_count": 34,
      "metadata": {
        "id": "Z7aBNwKjU6dX"
      },
      "outputs": [],
      "source": [
        "def load_data():\n",
        "    data = pd.read_csv('/content/train.csv', encoding='cp949')\n",
        "    data = data[: 100]\n",
        "    x, y = parsing(data)    \n",
        "    cut = int(round(len(x)*0.88))\n",
        "    tr_x = x[:cut]\n",
        "    tr_y = y[:cut]\n",
        "    te_x = x[cut:]\n",
        "    te_y = y[cut:]\n",
        "    return tr_x, tr_y, te_x, te_y"
      ]
    },
    {
      "cell_type": "code",
      "execution_count": 35,
      "metadata": {
        "id": "APYOA9BWU6dX"
      },
      "outputs": [],
      "source": [
        "train_x, train_y, test_x, test_y = load_data()"
      ]
    },
    {
      "cell_type": "markdown",
      "metadata": {
        "id": "FtOBVORnPUCt"
      },
      "source": [
        "## 데이터 확인 \n",
        "\n",
        "주의! 최종 예측하는 단계 이전에는 현재 가지고 있는 데이터, 즉 train data만을 이용하여 작업을 진행해야 합니다.\n",
        "\n",
        "현재 가지고 있는 데이터 train_x를 보고 전력 사용량을 예측하는데에 사용할 변수를 선택해주세요.\n",
        "\n",
        "기초세션에서 다뤘던 내용을 참고하셔서 최적의 변수 조합을 찾아보도록 합시다.\n",
        "\n",
        "이 때 선택해야하는 변수는 하나일 수도 있고, 여러개의 변수를 사용하여도 좋습니다."
      ]
    },
    {
      "cell_type": "code",
      "execution_count": 20,
      "metadata": {
        "id": "wuD0nXzEDySK",
        "colab": {
          "base_uri": "https://localhost:8080/",
          "height": 392
        },
        "outputId": "1e142da8-643e-425f-ac4f-9f0d8adb6223"
      },
      "outputs": [
        {
          "output_type": "execute_result",
          "data": {
            "text/plain": [
              "<matplotlib.collections.PathCollection at 0x7f563f363090>"
            ]
          },
          "metadata": {},
          "execution_count": 20
        },
        {
          "output_type": "display_data",
          "data": {
            "text/plain": [
              "<Figure size 720x432 with 5 Axes>"
            ],
            "image/png": "[encoded data removed]"
          },
          "metadata": {
            "needs_background": "light"
          }
        }
      ],
      "source": [
        "# 데이터 셋을 둘러보는 코드 작성하시고, 왜 좋은지 한번 둘러보세요!\n",
        "f = plt.figure(figsize=(10,6))\n",
        "ax1 = f.add_subplot(321)\n",
        "ax2 = f.add_subplot(322)\n",
        "ax3 = f.add_subplot(323)\n",
        "ax4 = f.add_subplot(324)\n",
        "ax5 = f.add_subplot(325)\n",
        "\n",
        "ax1.scatter(y = train_x['Temp'], x = train_y)\n",
        "ax2.scatter(y = train_x['Wind'], x = train_y)\n",
        "ax3.scatter(y = train_x['Moisture'], x = train_y)\n",
        "ax4.scatter(y = train_x['Precipitation'], x = train_y)\n",
        "ax4.axis([7700,8700,0,0.1])\n",
        "ax5.scatter(y = train_x['Sun'], x = train_y)"
      ]
    },
    {
      "cell_type": "code",
      "source": [
        "import seaborn as sns\n",
        "\n",
        "sns.heatmap(train_x.corr())"
      ],
      "metadata": {
        "colab": {
          "base_uri": "https://localhost:8080/",
          "height": 287
        },
        "id": "SPJRnExgdxvi",
        "outputId": "6f872ca9-9051-4336-9c70-784c02f76288"
      },
      "execution_count": 27,
      "outputs": [
        {
          "output_type": "execute_result",
          "data": {
            "text/plain": [
              "<matplotlib.axes._subplots.AxesSubplot at 0x7f5656177810>"
            ]
          },
          "metadata": {},
          "execution_count": 27
        },
        {
          "output_type": "display_data",
          "data": {
            "text/plain": [
              "<Figure size 432x288 with 2 Axes>"
            ],
            "image/png": "[encoded data removed]"
          },
          "metadata": {
            "needs_background": "light"
          }
        }
      ]
    },
    {
      "cell_type": "code",
      "source": [
        "plt.scatter(y = train_x['Temp'], x = train_x['Moisture'],c = train_y, cmap='Greens',linewidth=2)\n",
        "plt.colorbar()\n",
        "plt.show()"
      ],
      "metadata": {
        "colab": {
          "base_uri": "https://localhost:8080/",
          "height": 265
        },
        "id": "Q-M13lOXcy0W",
        "outputId": "ebce2117-453e-4f5c-f716-7d908abbf629"
      },
      "execution_count": 29,
      "outputs": [
        {
          "output_type": "display_data",
          "data": {
            "text/plain": [
              "<Figure size 432x288 with 2 Axes>"
            ],
            "image/png": "[encoded data removed]"
          },
          "metadata": {
            "needs_background": "light"
          }
        }
      ]
    },
    {
      "cell_type": "markdown",
      "metadata": {
        "id": "kD24Xx9XLotD"
      },
      "source": [
        "정답은 없습니다! \n",
        "\n",
        "다만 최종 선택한 변수(들)이 왜 선택받았는지 간단히 알려주세요.<br>\n",
        "답변 : [온도 & 습도]\\\n",
        "전력소비량과 상관관계를 보았을 때, 온도가 가장 연관성이 높았다.\\\n",
        "그러한 온도와 높은 상관관계를 가지는 변수가 습도였다.\\\n",
        "마지막으로 온도,습도, 전력소비량을 함께 보았을 때 유의미한 상관관계를 확인했다."
      ]
    },
    {
      "cell_type": "markdown",
      "metadata": {
        "id": "9FeCbQAFP6Kw"
      },
      "source": [
        "## 전처리\n",
        "\n",
        "위에서 선택한 변수들(feature)를 가지고 한번 전력 사용량을 예측하는 모델을 만들어 보기에 앞서,\n",
        "\n",
        "**train 데이터의 feature의 전처리**를 진행해보려고 합니다. StandardScaler를 사용하셔도 좋고, MinMaxScaler를 사용하셔도 좋습니다! \n",
        "\n",
        "또한 PolynomialFeatures를 이용하거나 직접 feature를 계산하여 고차원의 feature를 만드셔도 좋습니다. 이 또한 정답은 없습니다!\n",
        "\n",
        "이 때 최종 train_x의 shape은 (n_samples, n_features)가 되도록 해주세요.<br>\n",
        "ex. 4개의 변수를 가진 1000개의 샘플의 경우 train_x.shape은 (1000,4)가 되면 됩니다.\n",
        "\n",
        "특히 하나의 변수만을 사용하시는 분들은 1D가 아닌 2D가 되도록 신경써주세요<br>\n",
        "ex. train_x.shape이 (1000,)이 아닌 (1000,1)입니다!"
      ]
    },
    {
      "cell_type": "code",
      "execution_count": 13,
      "metadata": {
        "id": "kVQOriuXU6dZ"
      },
      "outputs": [],
      "source": [
        "# 사용할 패키지를 import!\n",
        "from sklearn.preprocessing import StandardScaler"
      ]
    },
    {
      "cell_type": "code",
      "source": [
        "train_data = train_x[['Temp','Moisture']]\n",
        "scaler = StandardScaler()\n",
        "scaler = scaler.fit(train_data)\n",
        "train_x = scaler.transform(train_data)\n",
        "print(train_x.shape)"
      ],
      "metadata": {
        "colab": {
          "base_uri": "https://localhost:8080/"
        },
        "id": "02bVa1EPm2GE",
        "outputId": "c6fdd1d8-7240-4f5f-af76-1c97ca22bce7"
      },
      "execution_count": 36,
      "outputs": [
        {
          "output_type": "stream",
          "name": "stdout",
          "text": [
            "(88, 2)\n"
          ]
        }
      ]
    },
    {
      "cell_type": "markdown",
      "metadata": {
        "id": "6OmBhktYU6dZ"
      },
      "source": [
        "# 모델링"
      ]
    },
    {
      "cell_type": "markdown",
      "metadata": {
        "id": "oshuWgiGU6dZ"
      },
      "source": [
        "## 학습 \n",
        "\n",
        "이제 모델링을 해봅시다.\n",
        "\n",
        "앞서 다룬 여러 regression 모델들(Linear regression, Ridge Regression, Lasso Regression, ..)을 이용해서 fit을 진행해보도록 합시다."
      ]
    },
    {
      "cell_type": "code",
      "execution_count": 22,
      "metadata": {
        "id": "nCd88UXEQFdZ"
      },
      "outputs": [],
      "source": [
        "# 사용할 패키지를 import!\n",
        "from sklearn.linear_model import LinearRegression"
      ]
    },
    {
      "cell_type": "code",
      "execution_count": 37,
      "metadata": {
        "id": "y7hwaxnZUIwY",
        "colab": {
          "base_uri": "https://localhost:8080/"
        },
        "outputId": "c70491ea-bfdf-4cd2-83c6-b595e948b7a9"
      },
      "outputs": [
        {
          "output_type": "stream",
          "name": "stdout",
          "text": [
            "linear_model.coef_: [248.94140827 137.25005061]\n",
            "linear_model.intercept_: 8142.186272727273\n"
          ]
        }
      ],
      "source": [
        "# 선형회귀 모델 생성 후 fitting 시킵니다.\n",
        "linear_model = LinearRegression().fit(train_x, train_y)\n",
        "\n",
        "print(\"linear_model.coef_: {}\".format(linear_model.coef_))\n",
        "print(\"linear_model.intercept_: {}\".format(linear_model.intercept_))"
      ]
    },
    {
      "cell_type": "markdown",
      "metadata": {
        "id": "dD4Oq3buU6da"
      },
      "source": [
        "## 추정\n",
        "\n",
        "이제 train_x를 이용하여 전력사용량을 추정해보도록 합시다."
      ]
    },
    {
      "cell_type": "code",
      "execution_count": 38,
      "metadata": {
        "id": "NJ4nOeqPU6da"
      },
      "outputs": [],
      "source": [
        "esti_y = linear_model.predict(train_x)"
      ]
    },
    {
      "cell_type": "markdown",
      "metadata": {
        "id": "GVyeKydlU6da"
      },
      "source": [
        "# Loss 및 시각화\n",
        "\n",
        "앞서 fitting하여 얻은 모델을 이용하여 추정한 값으로 MSE를 측정해봅시다. 변수를 하나만 사용하신 분들은 xy 평면에 한번 같이 시각화도 해보셔도 좋습니다."
      ]
    },
    {
      "cell_type": "code",
      "execution_count": 39,
      "metadata": {
        "id": "tYjsWp-MU6da"
      },
      "outputs": [],
      "source": [
        "def mse(pred, true):\n",
        "    return np.mean((pred-true)**2)"
      ]
    },
    {
      "cell_type": "code",
      "execution_count": 40,
      "metadata": {
        "colab": {
          "base_uri": "https://localhost:8080/"
        },
        "id": "eaIJfAzrU6da",
        "outputId": "3b03faf2-7be3-4a85-9288-a6735d54f3d2"
      },
      "outputs": [
        {
          "output_type": "stream",
          "name": "stdout",
          "text": [
            "Linear 3150.62873\n"
          ]
        }
      ],
      "source": [
        "train_mse = mse(esti_y, train_y)\n",
        "print(f\"Linear {train_mse:.5f}\")"
      ]
    },
    {
      "cell_type": "code",
      "execution_count": null,
      "metadata": {
        "id": "ThKWK_QdUIyo"
      },
      "outputs": [],
      "source": [
        "def visualize(model, x, y):\n",
        "    if x.shape[1] != 1:\n",
        "        return None\n",
        "    beta = model.coef_[0]\n",
        "    intercept = model.intercept_\n",
        "    \n",
        "    x_axis = np.linspace(np.min(x), np.max(x), 100)\n",
        "    fit = intercept * x_axis**0 + beta*x_axis \n",
        "\n",
        "    plt.figure(figsize=(8,6))\n",
        "    plt.plot(x_axis, fit, label='Predict', c='r', linewidth=3)\n",
        "    plt.scatter(x, y, c='blue')\n",
        "    plt.legend()\n",
        "    plt.show()"
      ]
    },
    {
      "cell_type": "code",
      "source": [
        "#visualization\n",
        "plt.scatter(train_y, esti_y)\n",
        "plt.title(\"MULTIPLE LINEAR REGRESSION\")\n",
        "plt.xlabel(\"Actual\")\n",
        "plt.ylabel(\"Predicted\")\n",
        "plt.show()"
      ],
      "metadata": {
        "colab": {
          "base_uri": "https://localhost:8080/",
          "height": 295
        },
        "id": "qE51jKq5rFhW",
        "outputId": "d4914578-5fdd-45a6-8340-d0e51e223d95"
      },
      "execution_count": 30,
      "outputs": [
        {
          "output_type": "display_data",
          "data": {
            "text/plain": [
              "<Figure size 432x288 with 1 Axes>"
            ],
            "image/png": "[encoded data removed]"
          },
          "metadata": {
            "needs_background": "light"
          }
        }
      ]
    },
    {
      "cell_type": "markdown",
      "metadata": {
        "id": "xl9M0Mh3U6db"
      },
      "source": [
        "# 예측"
      ]
    },
    {
      "cell_type": "markdown",
      "metadata": {
        "id": "T-6Xv53GXm4K"
      },
      "source": [
        "테스트셋에 대해서 한번 **예측**해보도록 합시다.\n",
        "\n",
        "이미 fitting된 모델 (그리고 scaler를 사용하신다면 scaler)에 대해 **fit을 하지 말고** 단순히 predict만 진행해보도록 합시다. \n",
        "\n",
        "scaler는 transform만 하시고 model은 predict을 진행해주세요"
      ]
    },
    {
      "cell_type": "code",
      "execution_count": 41,
      "metadata": {
        "id": "YTwIN94ZYlhU"
      },
      "outputs": [],
      "source": [
        "# transform을 하시는 분들은 실행해주세요\n",
        "test_x = test_x[['Temp','Moisture']]\n",
        "test_x = scaler.transform(test_x)"
      ]
    },
    {
      "cell_type": "code",
      "execution_count": 42,
      "metadata": {
        "id": "lnzIOtaVU6db"
      },
      "outputs": [],
      "source": [
        "# y1_hat에 predict값 할당\n",
        "pred_y = linear_model.predict(test_x)"
      ]
    },
    {
      "cell_type": "markdown",
      "metadata": {
        "id": "RmClScoDU6db"
      },
      "source": [
        "# 성능 평가\n",
        "\n",
        "한번 학습한 모델에 대해 test_y를 이용하여 mse loss를 측정해도도록 합시다."
      ]
    },
    {
      "cell_type": "code",
      "execution_count": 43,
      "metadata": {
        "id": "4aFgNDU8U6db"
      },
      "outputs": [],
      "source": [
        "def score(train_mse, test_mse):\n",
        "    print(f\"{test_mse/train_mse: .4f}\")"
      ]
    },
    {
      "cell_type": "code",
      "execution_count": 44,
      "metadata": {
        "scrolled": true,
        "colab": {
          "base_uri": "https://localhost:8080/"
        },
        "id": "wtXc4uGHU6dc",
        "outputId": "9d5db0c1-1424-45b2-db5d-7a8589a79844"
      },
      "outputs": [
        {
          "output_type": "stream",
          "name": "stdout",
          "text": [
            "Linear 95713.46656\n"
          ]
        }
      ],
      "source": [
        "test_mse = mse(pred_y, test_y)\n",
        "print(f\"Linear {test_mse:.5f}\")"
      ]
    },
    {
      "cell_type": "code",
      "execution_count": 45,
      "metadata": {
        "colab": {
          "base_uri": "https://localhost:8080/"
        },
        "id": "CqGQngsPU6dc",
        "outputId": "856b5ac4-156d-4364-a8e6-20b8637fb861"
      },
      "outputs": [
        {
          "output_type": "stream",
          "name": "stdout",
          "text": [
            " 30.3792\n"
          ]
        }
      ],
      "source": [
        "score(train_mse,test_mse)"
      ]
    },
    {
      "cell_type": "code",
      "source": [
        "#visualization\n",
        "plt.scatter(test_y, pred_y)\n",
        "plt.title(\"MULTIPLE LINEAR REGRESSION\")\n",
        "plt.xlabel(\"Actual\")\n",
        "plt.ylabel(\"Predicted\")\n",
        "plt.show()"
      ],
      "metadata": {
        "colab": {
          "base_uri": "https://localhost:8080/",
          "height": 295
        },
        "id": "Qr-8-Ns9sX0r",
        "outputId": "ace221af-6b86-45e3-e868-99754855a83c"
      },
      "execution_count": 46,
      "outputs": [
        {
          "output_type": "display_data",
          "data": {
            "text/plain": [
              "<Figure size 432x288 with 1 Axes>"
            ],
            "image/png": "[encoded data removed]"
          },
          "metadata": {
            "needs_background": "light"
          }
        }
      ]
    },
    {
      "cell_type": "markdown",
      "metadata": {
        "id": "mvWdftrzU6dc"
      },
      "source": [
        "# 그 이후\n",
        "\n",
        "이제 여러분들은 한번 모델을 만들어보고 fitting한 다음 예측까지 해보셨습니다.\n",
        "\n",
        "이제 개선하기 위해 1.데이터부터 5.성능평가 중 수정, 변경하실 부분을 업데이트 해서  최적의 모델을 찾아보세요!\n",
        "\n",
        "현재 사용하고 있는 scaler, model부터 전처리과정 기타 여러 조건을 조작해보시고 어떤 효과가 있는지 한번 보시고 알려주세요:D"
      ]
    },
    {
      "cell_type": "markdown",
      "metadata": {
        "id": "nbAqFThIU6dc"
      },
      "source": [
        "고생하셨습니다!"
      ]
    }
  ],
  "metadata": {
    "colab": {
      "collapsed_sections": [],
      "name": "[7기 진유리] Supervised Learning 과제.ipynb",
      "provenance": []
    },
    "kernelspec": {
      "display_name": "Python 3 (ipykernel)",
      "language": "python",
      "name": "python3"
    },
    "language_info": {
      "codemirror_mode": {
        "name": "ipython",
        "version": 3
      },
      "file_extension": ".py",
      "mimetype": "text/x-python",
      "name": "python",
      "nbconvert_exporter": "python",
      "pygments_lexer": "ipython3",
      "version": "3.8.12"
    },
    "toc": {
      "base_numbering": 1,
      "nav_menu": {},
      "number_sections": true,
      "sideBar": true,
      "skip_h1_title": false,
      "title_cell": "Table of Contents",
      "title_sidebar": "Contents",
      "toc_cell": false,
      "toc_position": {
        "height": "calc(100% - 180px)",
        "left": "10px",
        "top": "150px",
        "width": "300.792px"
      },
      "toc_section_display": true,
      "toc_window_display": true
    }
  },
  "nbformat": 4,
  "nbformat_minor": 0
}