{
 "cells": [
  {
   "cell_type": "markdown",
   "metadata": {
    "id": "d2ENRS4E9_xy"
   },
   "source": [
    "# 1. 폴더 정리\n",
    "\n",
    "* 제공해드린 animals10.zip의 압축을 풀어 그 내용을 살펴보시고, 폴더 구조를 학습에 알맞도록 재구성해주세요\n",
    "* 특히 각 클래스마다 약 30% 정도의 이미지를 test 폴더에 할당해주세요\n",
    "* 중간중간 헷갈리다면 이것저것 확인하는 코드를 거쳐보세요 (ex. flat_test[:5]로 앞의 다섯값 확인)\n",
    "* 궁금한 점이 있을 경우, 슬랙 질문 채널 활용을 적극 권장합니다."
   ]
  },
  {
   "cell_type": "code",
   "execution_count": 7,
   "metadata": {},
   "outputs": [],
   "source": [
    "# 디렉토리 설정\n",
    "import os\n",
    "\n",
    "os.chdir('C:\\\\Users\\\\rbden\\\\OneDrive\\\\바탕 화면\\\\Univ\\\\R & Python\\\\Python\\\\Pythondata')\n",
    "\n",
    "os.getcwd()\n",
    "\n",
    "import numpy as np\n",
    "import pandas as pd"
   ]
  },
  {
   "cell_type": "code",
   "execution_count": 3,
   "metadata": {},
   "outputs": [],
   "source": [
    "# python에서 파일 관리해주는 라이브러리\n",
    "import os\n",
    "import glob\n",
    "import shutil"
   ]
  },
  {
   "cell_type": "code",
   "execution_count": 29,
   "metadata": {},
   "outputs": [],
   "source": [
    "name_list = ['butterfly', 'cat', 'chicken', 'cow', 'dog', 'elephant', 'horse', 'sheep', 'spider', 'squirrel']"
   ]
  },
  {
   "cell_type": "code",
   "execution_count": 34,
   "metadata": {},
   "outputs": [
    {
     "data": {
      "text/plain": [
       "['./Animals-10/butterfly/*.jpeg',\n",
       " './Animals-10/cat/*.jpeg',\n",
       " './Animals-10/chicken/*.jpeg',\n",
       " './Animals-10/cow/*.jpeg',\n",
       " './Animals-10/dog/*.jpeg',\n",
       " './Animals-10/elephant/*.jpeg',\n",
       " './Animals-10/horse/*.jpeg',\n",
       " './Animals-10/sheep/*.jpeg',\n",
       " './Animals-10/spider/*.jpeg',\n",
       " './Animals-10/squirrel/*.jpeg']"
      ]
     },
     "execution_count": 34,
     "metadata": {},
     "output_type": "execute_result"
    }
   ],
   "source": [
    "a_list = []\n",
    "\n",
    "for ans in name_list :\n",
    "    \n",
    "    ans = './Animals-10/{}/*.jpeg'.format(ans)\n",
    "\n",
    "    a_list.append(ans)\n",
    "    \n",
    "a_list"
   ]
  },
  {
   "cell_type": "code",
   "execution_count": 35,
   "metadata": {
    "id": "RPXh3srt-1Rx"
   },
   "outputs": [
    {
     "name": "stdout",
     "output_type": "stream",
     "text": [
      "1650\n",
      "1227\n",
      "3098\n",
      "1866\n",
      "4863\n",
      "1079\n",
      "2623\n",
      "1444\n",
      "4497\n",
      "1862\n"
     ]
    }
   ],
   "source": [
    "# 각 클래스별 파일 개수 확인 -> 변수로 해당 개수 저장\n",
    "# Tip) 클래스가 10개이므로 각 클래스마다 똑같은 내용의 코드를 계속 써야할까요? \n",
    "# 클래스 이름을 리스트로 저장해 for문을 돌리면서 코드를 재사용하는건 어떨까요?\n",
    "\n",
    "# glob.glob로 파일 개수 확인\n",
    "butterfly = sorted(glob.glob(a_list[0]))\n",
    "cat = sorted(glob.glob(a_list[1]))\n",
    "chicken = sorted(glob.glob(a_list[2]))\n",
    "cow = sorted(glob.glob(a_list[3]))\n",
    "dog = sorted(glob.glob(a_list[4]))\n",
    "elephant = sorted(glob.glob(a_list[5]))\n",
    "horse = sorted(glob.glob(a_list[6]))\n",
    "sheep = sorted(glob.glob(a_list[7]))\n",
    "spider = sorted(glob.glob(a_list[8]))\n",
    "squirrel = sorted(glob.glob(a_list[9]))\n",
    "\n",
    "\n",
    "print(len(butterfly))\n",
    "print(len(cat))\n",
    "print(len(chicken))\n",
    "print(len(cow))\n",
    "print(len(dog))\n",
    "print(len(elephant))\n",
    "print(len(horse))\n",
    "print(len(sheep))\n",
    "print(len(spider))\n",
    "print(len(squirrel))"
   ]
  },
  {
   "cell_type": "code",
   "execution_count": 36,
   "metadata": {},
   "outputs": [
    {
     "data": {
      "text/plain": [
       "['./Animals-10/cat\\\\cat (1).jpeg',\n",
       " './Animals-10/cat\\\\cat (10).jpeg',\n",
       " './Animals-10/cat\\\\cat (100).jpeg',\n",
       " './Animals-10/cat\\\\cat (1000).jpeg',\n",
       " './Animals-10/cat\\\\cat (1001).jpeg']"
      ]
     },
     "execution_count": 36,
     "metadata": {},
     "output_type": "execute_result"
    }
   ],
   "source": [
    "cat[:5]"
   ]
  },
  {
   "cell_type": "code",
   "execution_count": 41,
   "metadata": {
    "id": "9Jikw6Rp_BQI"
   },
   "outputs": [
    {
     "name": "stdout",
     "output_type": "stream",
     "text": [
      "330\n",
      "245\n",
      "620\n",
      "373\n",
      "973\n",
      "216\n",
      "525\n",
      "289\n",
      "899\n",
      "372\n"
     ]
    }
   ],
   "source": [
    "# test에 넣을 이미지 개수 계산\n",
    "butterfly_test_count = round(len(butterfly)*0.3)\n",
    "cat_test_count = round(len(cat)*0.3)\n",
    "chicken_test_count = round(len(chicken)*0.3)\n",
    "cow_test_count = round(len(cow)*0.3)\n",
    "dog_test_count = round(len(dog)*0.3)\n",
    "elephant_test_count = round(len(elephant)*0.3)\n",
    "horse_test_count = round(len(horse)*0.3)\n",
    "sheep_test_count = round(len(sheep)*0.3)\n",
    "spider_test_count = round(len(spider)*0.3)\n",
    "squirrel_test_count = round(len(squirrel)*0.3)\n",
    "\n",
    "print(butterfly_test_count)\n",
    "print(cat_test_count)\n",
    "print(chicken_test_count)\n",
    "print(cow_test_count)\n",
    "print(dog_test_count)\n",
    "print(elephant_test_count)\n",
    "print(horse_test_count)\n",
    "print(sheep_test_count)\n",
    "print(spider_test_count)\n",
    "print(squirrel_test_count)"
   ]
  },
  {
   "cell_type": "code",
   "execution_count": 43,
   "metadata": {
    "id": "bb2XMrAe_Fl8"
   },
   "outputs": [],
   "source": [
    "import random\n",
    "\n",
    "def split(img_list, test_count, train_path, test_path):\n",
    "  # img_list : 이미지 경로 리스트\n",
    "  # test_count : test에 할당할 이미지 개수\n",
    "  # train_path : train 데이터 넣을 경로\n",
    "  # test_path : test 데이터 넣을 경로\n",
    "  \n",
    "  # 랜덤으로 test_count만큼 이미지 img_list에서 고르기\n",
    "  # test 담을 이미지 리스트 저장\n",
    "    test_files=[]\n",
    "    \n",
    "    for i in random.sample(img_list, test_count) :\n",
    "        \n",
    "        test_files.append(i)\n",
    "\n",
    "  # 위에서 고르지 않은 이미지들을 train 담을 이미지 리스트로 저장\n",
    "    train_files = [x for x in img_list if x not in test_files]\n",
    "\n",
    "  # 고른 이미지를 train_path, test_path폴더에 폭사\n",
    "    for k in train_files :\n",
    "        \n",
    "        shutil.copy(k, train_path)\n",
    "  \n",
    "    for c in test_files :\n",
    "        \n",
    "        shutil.copy(c, test_path)\n",
    "\n",
    "    print('train 폴더 이미지 개수 : {}\\ntest 폴더 이미지 개수 : {}'.format(len(glob.glob(train_path+'/*')),len(glob.glob(test_path+'/*'))))"
   ]
  },
  {
   "cell_type": "code",
   "execution_count": 45,
   "metadata": {},
   "outputs": [],
   "source": [
    "# train, test 폴더 경로 선언 & 만들기\n",
    "butterfly_train_path='./Animals-10/train/butterfly'\n",
    "butterfly_test_path='./Animals-10/test/butterfly'\n",
    "os.makedirs(butterfly_train_path, exist_ok=True)\n",
    "os.makedirs(butterfly_test_path, exist_ok=True)\n",
    "\n",
    "cat_train_path='./Animals-10/train/cat'\n",
    "cat_test_path='./Animals-10/test/cat'\n",
    "os.makedirs(cat_train_path, exist_ok=True)\n",
    "os.makedirs(cat_test_path, exist_ok=True)\n",
    "\n",
    "chicken_train_path='./Animals-10/train/chicken'\n",
    "chicken_test_path='./Animals-10/test/chicken'\n",
    "os.makedirs(chicken_train_path, exist_ok=True)\n",
    "os.makedirs(chicken_test_path, exist_ok=True)\n",
    "\n",
    "cow_train_path='./Animals-10/train/cow'\n",
    "cow_test_path='./Animals-10/test/cow'\n",
    "os.makedirs(cow_train_path, exist_ok=True)\n",
    "os.makedirs(cow_test_path, exist_ok=True)\n",
    "\n",
    "dog_train_path='./Animals-10/train/dog'\n",
    "dog_test_path='./Animals-10/test/dog'\n",
    "os.makedirs(dog_train_path, exist_ok=True)\n",
    "os.makedirs(dog_test_path, exist_ok=True)\n",
    "\n",
    "elephant_train_path='./Animals-10/train/elephant'\n",
    "elephant_test_path='./Animals-10/test/elephant'\n",
    "os.makedirs(elephant_train_path, exist_ok=True)\n",
    "os.makedirs(elephant_test_path, exist_ok=True)\n",
    "\n",
    "horse_train_path='./Animals-10/train/horse'\n",
    "horse_test_path='./Animals-10/test/horse'\n",
    "os.makedirs(horse_train_path, exist_ok=True)\n",
    "os.makedirs(horse_test_path, exist_ok=True)\n",
    "\n",
    "sheep_train_path='./Animals-10/train/sheep'\n",
    "sheep_test_path='./Animals-10/test/sheep'\n",
    "os.makedirs(sheep_train_path, exist_ok=True)\n",
    "os.makedirs(sheep_test_path, exist_ok=True)\n",
    "\n",
    "spider_train_path='./Animals-10/train/spider'\n",
    "spider_test_path='./Animals-10/test/spider'\n",
    "os.makedirs(spider_train_path, exist_ok=True)\n",
    "os.makedirs(spider_test_path, exist_ok=True)\n",
    "\n",
    "squirrel_train_path='./Animals-10/train/squirrel'\n",
    "squirrel_test_path='./Animals-10/test/squirrel'\n",
    "os.makedirs(squirrel_train_path, exist_ok=True)\n",
    "os.makedirs(squirrel_test_path, exist_ok=True)"
   ]
  },
  {
   "cell_type": "code",
   "execution_count": 46,
   "metadata": {
    "id": "BaAXh57G_srE"
   },
   "outputs": [
    {
     "name": "stdout",
     "output_type": "stream",
     "text": [
      "train 폴더 이미지 개수 : 1320\n",
      "test 폴더 이미지 개수 : 330\n",
      "train 폴더 이미지 개수 : 982\n",
      "test 폴더 이미지 개수 : 245\n",
      "train 폴더 이미지 개수 : 2478\n",
      "test 폴더 이미지 개수 : 620\n",
      "train 폴더 이미지 개수 : 1493\n",
      "test 폴더 이미지 개수 : 373\n",
      "train 폴더 이미지 개수 : 3890\n",
      "test 폴더 이미지 개수 : 973\n",
      "train 폴더 이미지 개수 : 863\n",
      "test 폴더 이미지 개수 : 216\n",
      "train 폴더 이미지 개수 : 2098\n",
      "test 폴더 이미지 개수 : 525\n",
      "train 폴더 이미지 개수 : 1155\n",
      "test 폴더 이미지 개수 : 289\n",
      "train 폴더 이미지 개수 : 3598\n",
      "test 폴더 이미지 개수 : 899\n",
      "train 폴더 이미지 개수 : 1490\n",
      "test 폴더 이미지 개수 : 372\n"
     ]
    }
   ],
   "source": [
    "# train, test 폴더로 이미지 split해서 알맞게 집어넣기\n",
    "split(butterfly, butterfly_test_count, butterfly_train_path, butterfly_test_path)\n",
    "split(cat, cat_test_count, cat_train_path, cat_test_path)\n",
    "split(chicken, chicken_test_count, chicken_train_path, chicken_test_path)\n",
    "split(cow, cow_test_count, cow_train_path, cow_test_path)\n",
    "split(dog, dog_test_count, dog_train_path, dog_test_path)\n",
    "split(elephant, elephant_test_count, elephant_train_path, elephant_test_path)\n",
    "split(horse, horse_test_count, horse_train_path, horse_test_path)\n",
    "split(sheep, sheep_test_count, sheep_train_path, sheep_test_path)\n",
    "split(spider, spider_test_count, spider_train_path, spider_test_path)\n",
    "split(squirrel, squirrel_test_count, squirrel_train_path, squirrel_test_path)"
   ]
  },
  {
   "cell_type": "code",
   "execution_count": 50,
   "metadata": {},
   "outputs": [],
   "source": [
    "def rename(img_dir):\n",
    "  # img_dir : rename을 할 대상 폴더\n",
    "\n",
    "  file_list = sorted(glob.glob(img_dir+'/*.jpg')) # 들어있는 파일이름 리스트\n",
    "  \n",
    "  for i in range(len(file_list)) :\n",
    "        \n",
    "    os.rename(file_list[i], os.path.join(img_dir, f'{i:0>5}.jpg')) # 순서대로 0000i.jpg로 이름 변경"
   ]
  },
  {
   "cell_type": "code",
   "execution_count": 51,
   "metadata": {},
   "outputs": [],
   "source": [
    "rename('./Animals-10/test/butterfly')\n",
    "rename('./Animals-10/test/cat')\n",
    "rename('./Animals-10/test/chicken')\n",
    "rename('./Animals-10/test/cow')\n",
    "rename('./Animals-10/test/dog')\n",
    "rename('./Animals-10/test/elephant')\n",
    "rename('./Animals-10/test/horse')\n",
    "rename('./Animals-10/test/sheep')\n",
    "rename('./Animals-10/test/spider')\n",
    "rename('./Animals-10/test/squirrel')"
   ]
  },
  {
   "cell_type": "code",
   "execution_count": 52,
   "metadata": {},
   "outputs": [],
   "source": [
    "rename('./Animals-10/train/butterfly')\n",
    "rename('./Animals-10/train/cat')\n",
    "rename('./Animals-10/train/chicken')\n",
    "rename('./Animals-10/train/cow')\n",
    "rename('./Animals-10/train/dog')\n",
    "rename('./Animals-10/train/elephant')\n",
    "rename('./Animals-10/train/horse')\n",
    "rename('./Animals-10/train/sheep')\n",
    "rename('./Animals-10/train/spider')\n",
    "rename('./Animals-10/train/squirrel')"
   ]
  },
  {
   "cell_type": "code",
   "execution_count": 55,
   "metadata": {},
   "outputs": [],
   "source": [
    "butterfly_train_count = len(butterfly) - butterfly_test_count\n",
    "cat_train_count = len(cat) - cat_test_count\n",
    "chicken_train_count = len(chicken) - chicken_test_count\n",
    "cow_train_count = len(cow) - cow_test_count\n",
    "dog_train_count = len(dog) - dog_test_count\n",
    "elephant_train_count = len(elephant) - elephant_test_count\n",
    "horse_train_count = len(horse) - horse_test_count\n",
    "sheep_train_count = len(sheep) - sheep_test_count\n",
    "spider_train_count = len(spider) - spider_test_count\n",
    "squirrel_train_count = len(squirrel) - squirrel_test_count"
   ]
  },
  {
   "cell_type": "code",
   "execution_count": 10,
   "metadata": {},
   "outputs": [],
   "source": [
    "from PIL import Image\n",
    "import matplotlib.pyplot as plt\n",
    "from matplotlib.pyplot import imshow\n",
    "\n",
    "butterfly_img_path = './Animals-10/train/butterfly/butterfly (1).jpeg'\n",
    "\n",
    "# pillow 라이브러리의 Image.open 함수로 해당 위치의 이미지를 읽어옴\n",
    "butterfly_img = Image.open(butterfly_img_path)"
   ]
  },
  {
   "cell_type": "code",
   "execution_count": 11,
   "metadata": {
    "scrolled": true
   },
   "outputs": [
    {
     "data": {
      "text/plain": [
       "<matplotlib.image.AxesImage at 0x20b9dbef550>"
      ]
     },
     "execution_count": 11,
     "metadata": {},
     "output_type": "execute_result"
    },
    {
     "data": {
      "image/png": "[encoded data removed]",
      "text/plain": [
       "<Figure size 432x288 with 1 Axes>"
      ]
     },
     "metadata": {
      "needs_background": "light"
     },
     "output_type": "display_data"
    }
   ],
   "source": [
    "# 받아온 PIL 형태의 이미지를 numpy 형태로 변환\n",
    "butterfly_img_np = np.array(butterfly_img)\n",
    "imshow(butterfly_img_np)"
   ]
  },
  {
   "cell_type": "code",
   "execution_count": 13,
   "metadata": {},
   "outputs": [
    {
     "data": {
      "text/plain": [
       "(225, 300, 3)"
      ]
     },
     "execution_count": 13,
     "metadata": {},
     "output_type": "execute_result"
    }
   ],
   "source": [
    "butterfly_img_np.shape"
   ]
  },
  {
   "cell_type": "code",
   "execution_count": 15,
   "metadata": {},
   "outputs": [
    {
     "data": {
      "text/plain": [
       "array([179, 172, 164], dtype=uint8)"
      ]
     },
     "execution_count": 15,
     "metadata": {},
     "output_type": "execute_result"
    }
   ],
   "source": [
    "# 가장 첫번째 pixel (RGB) 값 확인\n",
    "# data type = uint8 (only 0~255 사이 정수)\n",
    "butterfly_img_np[0,0,:]"
   ]
  },
  {
   "cell_type": "markdown",
   "metadata": {
    "id": "UKa7LZ4RAXxA"
   },
   "source": [
    "# 2. CNN 모델\n",
    "수업 코드에 '모델 성능에 대한 고민!!' 부분을 참고해서 **test 이미지 기준 최소 80% 이상**의 모델이 나올 수 있도록 학습을 진행해주세요.\n",
    "* 중간중간 헷갈리다면 이것저것 확인하는 코드를 거쳐보세요\n",
    "* 90% 이상의 모델이 이상적이긴 합니다\n",
    "* 궁금한 점이 있을 경우, 슬랙 질문 채널 활용을 적극 권장합니다."
   ]
  },
  {
   "cell_type": "markdown",
   "metadata": {
    "id": "31hFiKNBD48l"
   },
   "source": [
    "전반적으로 수업 코드와 비슷하게 짜면 되는데, 생각해봐야 할 것은\n",
    "* 모든 이미지를 내가 정의하는 하나의 모델에 넣어야함\n",
    "* 그말은 input 데이터의 차원이 항상 동일해야 된다는 말\n",
    "* 그런데 과연 내가 가지고 있는 이미지들의 사이즈가 모두 같을까? - 대략 얼마정도 사이즈 가지고 있는지 코드로 확인해보면 더 좋음 (shape 확인)\n",
    "* 이미지 사이즈를 통일시키기 위해서는 어떻게 해야할까? - transforms의 Resize, RandomCrop 써볼까?\n",
    "* 동물 이미지에 적합한 Augmentation은 무엇이 있을까?"
   ]
  },
  {
   "cell_type": "markdown",
   "metadata": {},
   "source": [
    "## 1. train, test 이미지를 위한 transforms function 정의"
   ]
  },
  {
   "cell_type": "code",
   "execution_count": 96,
   "metadata": {
    "id": "UM1CiMcdAfas"
   },
   "outputs": [],
   "source": [
    "# train, test 이미지를 위한 transforms function 정의\n",
    "# 위에서 말한 포인트들 생각해보기 - 차원에 유의하자!\n",
    "import torch\n",
    "import torchvision\n",
    "import torchvision.transforms as transforms\n",
    "\n",
    "transform_animals_train = transforms.Compose([\n",
    "    transforms.Resize(300),           \n",
    "    transforms.ColorJitter(brightness=0.5),\n",
    "    transforms.RandomHorizontalFlip(p=0.5),\n",
    "    transforms.RandomRotation(20),\n",
    "    transforms.ToTensor(),\n",
    "    transforms.Normalize((0.485, 0.456, 0.406), (0.229, 0.224, 0.225))\n",
    "])\n",
    "\n",
    "transform_animals_test = transforms.Compose([\n",
    "    transforms.ToTensor(),\n",
    "    transforms.Normalize((0.485, 0.456, 0.406), (0.229, 0.224, 0.225))\n",
    "])"
   ]
  },
  {
   "cell_type": "markdown",
   "metadata": {},
   "source": [
    "## 2. ImageFolder와 앞서 정의한 transforms function을 활용해 Dataset 객체 (train, test에 대해) 선언"
   ]
  },
  {
   "cell_type": "code",
   "execution_count": 97,
   "metadata": {
    "id": "QAYc35vdAlHk"
   },
   "outputs": [],
   "source": [
    "# ImageFolder와 앞서 정의한 transforms function을 활용해 Dataset 객체 (train, test에 대해) 선언\n",
    "train_data = torchvision.datasets.ImageFolder(\n",
    "    \n",
    "    # 바로 train 폴더 지정\n",
    "    root = './Animals-10/train',\n",
    "    \n",
    "    # transform은 그냥 편의상 cifar에서 썼던거 그대로\n",
    "    transform = transform_animals_train \n",
    ")\n",
    "\n",
    "test_data = torchvision.datasets.ImageFolder(\n",
    "    root = './Animals-10/test',\n",
    "    transform = transform_animals_test\n",
    ")"
   ]
  },
  {
   "cell_type": "code",
   "execution_count": 98,
   "metadata": {},
   "outputs": [
    {
     "data": {
      "text/plain": [
       "Dataset ImageFolder\n",
       "    Number of datapoints: 19367\n",
       "    Root location: ./Animals-10/train\n",
       "    StandardTransform\n",
       "Transform: Compose(\n",
       "               Resize(size=300, interpolation=bilinear, max_size=None, antialias=None)\n",
       "               ColorJitter(brightness=[0.5, 1.5], contrast=None, saturation=None, hue=None)\n",
       "               RandomHorizontalFlip(p=0.5)\n",
       "               RandomRotation(degrees=[-20.0, 20.0], interpolation=nearest, expand=False, fill=0)\n",
       "               ToTensor()\n",
       "               Normalize(mean=(0.485, 0.456, 0.406), std=(0.229, 0.224, 0.225))\n",
       "           )"
      ]
     },
     "execution_count": 98,
     "metadata": {},
     "output_type": "execute_result"
    }
   ],
   "source": [
    "train_data"
   ]
  },
  {
   "cell_type": "code",
   "execution_count": 99,
   "metadata": {},
   "outputs": [
    {
     "name": "stdout",
     "output_type": "stream",
     "text": [
      "19367\n",
      "4842\n"
     ]
    }
   ],
   "source": [
    "# train dataset의 data 개수 확인\n",
    "print(len(train_data))\n",
    "\n",
    "# test dataset의 data 개수 확인\n",
    "print(len(test_data))"
   ]
  },
  {
   "cell_type": "code",
   "execution_count": 100,
   "metadata": {},
   "outputs": [
    {
     "data": {
      "text/plain": [
       "(tensor([[[-2.1179, -2.1179, -2.1179,  ..., -2.1179, -2.1179, -2.1179],\n",
       "          [-2.1179, -2.1179, -2.1179,  ..., -2.1179, -2.1179, -2.1179],\n",
       "          [-2.1179, -2.1179, -2.1179,  ..., -2.1179, -2.1179, -2.1179],\n",
       "          ...,\n",
       "          [-2.1179, -2.1179, -2.1179,  ..., -2.1179, -2.1179, -2.1179],\n",
       "          [-2.1179, -2.1179, -2.1179,  ..., -2.1179, -2.1179, -2.1179],\n",
       "          [-2.1179, -2.1179, -2.1179,  ..., -2.1179, -2.1179, -2.1179]],\n",
       " \n",
       "         [[-2.0357, -2.0357, -2.0357,  ..., -2.0357, -2.0357, -2.0357],\n",
       "          [-2.0357, -2.0357, -2.0357,  ..., -2.0357, -2.0357, -2.0357],\n",
       "          [-2.0357, -2.0357, -2.0357,  ..., -2.0357, -2.0357, -2.0357],\n",
       "          ...,\n",
       "          [-2.0357, -2.0357, -2.0357,  ..., -2.0357, -2.0357, -2.0357],\n",
       "          [-2.0357, -2.0357, -2.0357,  ..., -2.0357, -2.0357, -2.0357],\n",
       "          [-2.0357, -2.0357, -2.0357,  ..., -2.0357, -2.0357, -2.0357]],\n",
       " \n",
       "         [[-1.8044, -1.8044, -1.8044,  ..., -1.8044, -1.8044, -1.8044],\n",
       "          [-1.8044, -1.8044, -1.8044,  ..., -1.8044, -1.8044, -1.8044],\n",
       "          [-1.8044, -1.8044, -1.8044,  ..., -1.8044, -1.8044, -1.8044],\n",
       "          ...,\n",
       "          [-1.8044, -1.8044, -1.8044,  ..., -1.8044, -1.8044, -1.8044],\n",
       "          [-1.8044, -1.8044, -1.8044,  ..., -1.8044, -1.8044, -1.8044],\n",
       "          [-1.8044, -1.8044, -1.8044,  ..., -1.8044, -1.8044, -1.8044]]]),\n",
       " 0)"
      ]
     },
     "execution_count": 100,
     "metadata": {},
     "output_type": "execute_result"
    }
   ],
   "source": [
    "# Dataset의 data 하나는 tuple (img tensor, label)로 구성\n",
    "# 우리가 Dataset 직접 설정할때 __getitem__ 함수에서 data값, lable 리턴하는 것과 같은 원리\n",
    "train_data[0]"
   ]
  },
  {
   "cell_type": "markdown",
   "metadata": {},
   "source": [
    "## 3. train, test에 대해 DataLoader 정의"
   ]
  },
  {
   "cell_type": "code",
   "execution_count": 101,
   "metadata": {},
   "outputs": [],
   "source": [
    "# train, test에 대해 DataLoader 정의\n",
    "trainloader_animals = torch.utils.data.DataLoader(\n",
    "    train_data,\n",
    "    \n",
    "    # 일반적으로 batch size = 16, 32\n",
    "    batch_size = 32,      \n",
    "    \n",
    "    # train dataloader는 epoch마다 데이터 다시 섞어서 batch 만들고 학습! - 학습 효율 up\n",
    "    shuffle=True,         \n",
    "    num_workers=2\n",
    ")\n",
    "\n",
    "testloader_animals = torch.utils.data.DataLoader(\n",
    "    test_data,\n",
    "    batch_size = 32,      \n",
    "    \n",
    "    # test dataloader는 데이터 매번 섞을 이유가 없음 - 어차피 확인 용도\n",
    "    shuffle=False,        \n",
    "    num_workers=2\n",
    ")"
   ]
  },
  {
   "cell_type": "code",
   "execution_count": 102,
   "metadata": {},
   "outputs": [
    {
     "name": "stdout",
     "output_type": "stream",
     "text": [
      "606\n",
      "152\n"
     ]
    }
   ],
   "source": [
    "# 19367/32 = 606\n",
    "print(len(trainloader_animals))\n",
    "\n",
    "# 4842/32 = 152\n",
    "print(len(testloader_animals))"
   ]
  },
  {
   "cell_type": "markdown",
   "metadata": {},
   "source": [
    "## 4. Model 클래스 정의 "
   ]
  },
  {
   "cell_type": "code",
   "execution_count": 103,
   "metadata": {
    "id": "Kpvu7SJtAyUH"
   },
   "outputs": [],
   "source": [
    "### Model 클래스 정의 - 차원에 유의하자!\n",
    "# 10개의 클래스를 분류해야 하는 꽤나 복잡한 task - 모델 구조를 어느 정도로 복잡하게 짜볼까?\n",
    "# 가장 마지막 Linear의 out_features는 얼마로 해야할까?\n",
    "\n",
    "# Animals-10의 10개 class\n",
    "classes = ('butterfly', 'cat', 'chicken', 'cow', 'dog', \n",
    "           'elephant', 'horse', 'sheep', 'spider', 'squirrel')"
   ]
  },
  {
   "cell_type": "code",
   "execution_count": 104,
   "metadata": {},
   "outputs": [],
   "source": [
    "import torch.nn as nn\n",
    "\n",
    "class MyModel(nn.Module) :\n",
    "    \n",
    "    def __init__(self) :\n",
    "        \n",
    "        super(MyModel, self).__init__()\n",
    "        \n",
    "        ##### Layer 정의 #####\n",
    "        self.layer = nn.Sequential(\n",
    "            \n",
    "            # 맨처음 RGB 채널 3개이므로 가장 처음 in_channels = 3\n",
    "            # img의 가장 첫 차원이 batch_size 값은 계속해서 유지\n",
    "            # [batch_size,3,32,32] -> [batch_size,16,28,28] -> same with? - using 16 filters\n",
    "            nn.Conv2d(in_channels=3, out_channels=16, kernel_size=5),             \n",
    "            nn.ReLU(),\n",
    "            \n",
    "            # [batch_size,16,28,28] -> [batch_size,32,24,24]\n",
    "            nn.Conv2d(in_channels=16, out_channels=32, kernel_size=5),            \n",
    "            nn.ReLU(),\n",
    "            \n",
    "            # 0.2 확률로 Dropout\n",
    "            nn.Dropout(0.2),\n",
    "            nn.MaxPool2d(kernel_size=2, stride=2),\n",
    "            \n",
    "            # [batch_size,32,24,24] -> [batch_size,32,12,12]\n",
    "            # [batch_size,32,12,12] -> [batch_size,32,12,12] -> padding*2 주의!\n",
    "            nn.Conv2d(in_channels=32, out_channels=32, kernel_size=5, padding=2),\n",
    "            nn.ReLU(),\n",
    "            \n",
    "            # [batch_size,32,12,12] -> [batch_size,32,10,10]\n",
    "            nn.Conv2d(in_channels=32, out_channels=32, kernel_size=3),            \n",
    "            nn.ReLU(),\n",
    "            nn.Dropout(0.2),\n",
    "            \n",
    "            # [batch_size,32,10,10] -> [batch_size,32,5,5]\n",
    "            nn.MaxPool2d(kernel_size=2, stride=2)                                 \n",
    "        )\n",
    "        self.fc_layer = nn.Sequential(\n",
    "            \n",
    "            # [batch_size,32*5*5] -> [batch_size,100]\n",
    "            nn.Linear(32*5*5,100),                                                \n",
    "            nn.ReLU(),\n",
    "            nn.Linear(100,10)\n",
    "        )\n",
    "\n",
    "    def forward(self, x) :\n",
    "        \n",
    "        # forward pass 과정\n",
    "        out = self.layer(x)\n",
    "        \n",
    "        # FC layer에 들어가기전, flatten! - view 함수 활용\n",
    "        # 가장 첫 차원인 batch_size는 유지하고 나머지 차원들을 하나로 합치기 - [batch_size,16,5,5] -> [batch_size,16*5*5]\n",
    "        out = out.view(out.size(0),-1)                                      \n",
    "        out = self.fc_layer(out)\n",
    "        \n",
    "        return out"
   ]
  },
  {
   "cell_type": "markdown",
   "metadata": {},
   "source": [
    "## 5. torchsummary로 모델 차원 어떻게 나오는지 돌려보기"
   ]
  },
  {
   "cell_type": "code",
   "execution_count": 105,
   "metadata": {
    "id": "K_AvhGgTCXO7"
   },
   "outputs": [
    {
     "name": "stdout",
     "output_type": "stream",
     "text": [
      "----------------------------------------------------------------\n",
      "        Layer (type)               Output Shape         Param #\n",
      "================================================================\n",
      "            Conv2d-1           [32, 16, 28, 28]           1,216\n",
      "              ReLU-2           [32, 16, 28, 28]               0\n",
      "            Conv2d-3           [32, 32, 24, 24]          12,832\n",
      "              ReLU-4           [32, 32, 24, 24]               0\n",
      "           Dropout-5           [32, 32, 24, 24]               0\n",
      "         MaxPool2d-6           [32, 32, 12, 12]               0\n",
      "            Conv2d-7           [32, 32, 12, 12]          25,632\n",
      "              ReLU-8           [32, 32, 12, 12]               0\n",
      "            Conv2d-9           [32, 32, 10, 10]           9,248\n",
      "             ReLU-10           [32, 32, 10, 10]               0\n",
      "          Dropout-11           [32, 32, 10, 10]               0\n",
      "        MaxPool2d-12             [32, 32, 5, 5]               0\n",
      "           Linear-13                  [32, 100]          80,100\n",
      "             ReLU-14                  [32, 100]               0\n",
      "           Linear-15                   [32, 10]           1,010\n",
      "================================================================\n",
      "Total params: 130,038\n",
      "Trainable params: 130,038\n",
      "Non-trainable params: 0\n",
      "----------------------------------------------------------------\n",
      "Input size (MB): 0.38\n",
      "Forward/backward pass size (MB): 25.59\n",
      "Params size (MB): 0.50\n",
      "Estimated Total Size (MB): 26.46\n",
      "----------------------------------------------------------------\n"
     ]
    }
   ],
   "source": [
    "# torchsummary로 모델 차원 어떻게 나오는지 돌려보기\n",
    "# 전체적인 구조, param 개수, 용량 등 확인할 수 있음\n",
    "# 이게 잘나와야 CNN 모델 차원 알맞게 정의한것 - 차원 맞지 않다면 여기서 에러뜸\n",
    "\n",
    "from torchsummary import summary\n",
    "\n",
    "# 모델 객체 선언\n",
    "test_model = MyModel() \n",
    "\n",
    "# Recall) Tensor는 C, H, W 순서로 이미지 가짐\n",
    "summary(test_model, (3,32,32), batch_size=32) "
   ]
  },
  {
   "cell_type": "markdown",
   "metadata": {},
   "source": [
    "## 6. Device 선언 (GPU 권장)"
   ]
  },
  {
   "cell_type": "code",
   "execution_count": 106,
   "metadata": {
    "id": "A99ALViSCbmI"
   },
   "outputs": [
    {
     "data": {
      "text/plain": [
       "device(type='cpu')"
      ]
     },
     "execution_count": 106,
     "metadata": {},
     "output_type": "execute_result"
    }
   ],
   "source": [
    "# Device 선언 (GPU 권장)\n",
    "# 아래 코드가 보통 device 할당하는 방식\n",
    "# colab일 경우, 무거운 모델을 돌린다면 런타임 -> 런타임 유형 변경 -> GPU 로 설정하고 돌리는걸 강추\n",
    "device = torch.device(\"cuda:0\" if torch.cuda.is_available() else \"cpu\")\n",
    "\n",
    "device"
   ]
  },
  {
   "cell_type": "markdown",
   "metadata": {},
   "source": [
    "## 7. 모델 객체 선언"
   ]
  },
  {
   "cell_type": "code",
   "execution_count": 107,
   "metadata": {
    "id": "FmZYSSBFCfOU"
   },
   "outputs": [
    {
     "data": {
      "text/plain": [
       "MyModel(\n",
       "  (layer): Sequential(\n",
       "    (0): Conv2d(3, 16, kernel_size=(5, 5), stride=(1, 1))\n",
       "    (1): ReLU()\n",
       "    (2): Conv2d(16, 32, kernel_size=(5, 5), stride=(1, 1))\n",
       "    (3): ReLU()\n",
       "    (4): Dropout(p=0.2, inplace=False)\n",
       "    (5): MaxPool2d(kernel_size=2, stride=2, padding=0, dilation=1, ceil_mode=False)\n",
       "    (6): Conv2d(32, 32, kernel_size=(5, 5), stride=(1, 1), padding=(2, 2))\n",
       "    (7): ReLU()\n",
       "    (8): Conv2d(32, 32, kernel_size=(3, 3), stride=(1, 1))\n",
       "    (9): ReLU()\n",
       "    (10): Dropout(p=0.2, inplace=False)\n",
       "    (11): MaxPool2d(kernel_size=2, stride=2, padding=0, dilation=1, ceil_mode=False)\n",
       "  )\n",
       "  (fc_layer): Sequential(\n",
       "    (0): Linear(in_features=800, out_features=100, bias=True)\n",
       "    (1): ReLU()\n",
       "    (2): Linear(in_features=100, out_features=10, bias=True)\n",
       "  )\n",
       ")"
      ]
     },
     "execution_count": 107,
     "metadata": {},
     "output_type": "execute_result"
    }
   ],
   "source": [
    "# 모델 객체 선언\n",
    "# to(device) : 모델을 device 위에서 돌릴거임\n",
    "mymodel = MyModel().to(device)\n",
    "mymodel"
   ]
  },
  {
   "cell_type": "markdown",
   "metadata": {},
   "source": [
    "## 8. loss func, optimizer 정의"
   ]
  },
  {
   "cell_type": "code",
   "execution_count": 108,
   "metadata": {
    "id": "CFk7o_fuCgc7"
   },
   "outputs": [],
   "source": [
    "# loss func, optimizer 정의\n",
    "# criterion (loss func)도 device 위에서\n",
    "criterion = nn.CrossEntropyLoss().to(device)\n",
    "\n",
    "# 보통 Adam의 learning rate로 0.001 사용\n",
    "# weight_decay = L2 Regularization의 lambda값 (가중치 제한 정도)\n",
    "optimizer = torch.optim.Adam(mymodel.parameters(), lr=0.001, weight_decay=0.0001) "
   ]
  },
  {
   "cell_type": "markdown",
   "metadata": {},
   "source": [
    "## 9. Train & Test 함수 정의"
   ]
  },
  {
   "cell_type": "code",
   "execution_count": 91,
   "metadata": {
    "collapsed": true
   },
   "outputs": [
    {
     "ename": "RuntimeError",
     "evalue": "Caught RuntimeError in DataLoader worker process 0.\nOriginal Traceback (most recent call last):\n  File \"C:\\Users\\rbden\\anaconda3\\lib\\site-packages\\torch\\utils\\data\\_utils\\worker.py\", line 302, in _worker_loop\n    data = fetcher.fetch(index)\n  File \"C:\\Users\\rbden\\anaconda3\\lib\\site-packages\\torch\\utils\\data\\_utils\\fetch.py\", line 52, in fetch\n    return self.collate_fn(data)\n  File \"C:\\Users\\rbden\\anaconda3\\lib\\site-packages\\torch\\utils\\data\\_utils\\collate.py\", line 175, in default_collate\n    return [default_collate(samples) for samples in transposed]  # Backwards compatibility.\n  File \"C:\\Users\\rbden\\anaconda3\\lib\\site-packages\\torch\\utils\\data\\_utils\\collate.py\", line 175, in <listcomp>\n    return [default_collate(samples) for samples in transposed]  # Backwards compatibility.\n  File \"C:\\Users\\rbden\\anaconda3\\lib\\site-packages\\torch\\utils\\data\\_utils\\collate.py\", line 140, in default_collate\n    out = elem.new(storage).resize_(len(batch), *list(elem.size()))\nRuntimeError: Trying to resize storage that is not resizable\n",
     "output_type": "error",
     "traceback": [
      "\u001b[1;31m---------------------------------------------------------------------------\u001b[0m",
      "\u001b[1;31mRuntimeError\u001b[0m                              Traceback (most recent call last)",
      "Input \u001b[1;32mIn [91]\u001b[0m, in \u001b[0;36m<cell line: 1>\u001b[1;34m()\u001b[0m\n\u001b[0;32m      1\u001b[0m \u001b[38;5;28;01mwith\u001b[39;00m torch\u001b[38;5;241m.\u001b[39mno_grad() :\n\u001b[1;32m----> 3\u001b[0m     \u001b[38;5;28;01mfor\u001b[39;00m i, (inputs, targets) \u001b[38;5;129;01min\u001b[39;00m \u001b[38;5;28menumerate\u001b[39m(trainloader_animals) :\n\u001b[0;32m      5\u001b[0m         inputs, targets \u001b[38;5;241m=\u001b[39m inputs\u001b[38;5;241m.\u001b[39mto(device), targets\u001b[38;5;241m.\u001b[39mto(device)\n\u001b[0;32m      7\u001b[0m         \u001b[38;5;66;03m# batch_size개의 이미지\u001b[39;00m\n",
      "File \u001b[1;32m~\\anaconda3\\lib\\site-packages\\torch\\utils\\data\\dataloader.py:681\u001b[0m, in \u001b[0;36m_BaseDataLoaderIter.__next__\u001b[1;34m(self)\u001b[0m\n\u001b[0;32m    678\u001b[0m \u001b[38;5;28;01mif\u001b[39;00m \u001b[38;5;28mself\u001b[39m\u001b[38;5;241m.\u001b[39m_sampler_iter \u001b[38;5;129;01mis\u001b[39;00m \u001b[38;5;28;01mNone\u001b[39;00m:\n\u001b[0;32m    679\u001b[0m     \u001b[38;5;66;03m# TODO(https://github.com/pytorch/pytorch/issues/76750)\u001b[39;00m\n\u001b[0;32m    680\u001b[0m     \u001b[38;5;28mself\u001b[39m\u001b[38;5;241m.\u001b[39m_reset()  \u001b[38;5;66;03m# type: ignore[call-arg]\u001b[39;00m\n\u001b[1;32m--> 681\u001b[0m data \u001b[38;5;241m=\u001b[39m \u001b[38;5;28;43mself\u001b[39;49m\u001b[38;5;241;43m.\u001b[39;49m\u001b[43m_next_data\u001b[49m\u001b[43m(\u001b[49m\u001b[43m)\u001b[49m\n\u001b[0;32m    682\u001b[0m \u001b[38;5;28mself\u001b[39m\u001b[38;5;241m.\u001b[39m_num_yielded \u001b[38;5;241m+\u001b[39m\u001b[38;5;241m=\u001b[39m \u001b[38;5;241m1\u001b[39m\n\u001b[0;32m    683\u001b[0m \u001b[38;5;28;01mif\u001b[39;00m \u001b[38;5;28mself\u001b[39m\u001b[38;5;241m.\u001b[39m_dataset_kind \u001b[38;5;241m==\u001b[39m _DatasetKind\u001b[38;5;241m.\u001b[39mIterable \u001b[38;5;129;01mand\u001b[39;00m \\\n\u001b[0;32m    684\u001b[0m         \u001b[38;5;28mself\u001b[39m\u001b[38;5;241m.\u001b[39m_IterableDataset_len_called \u001b[38;5;129;01mis\u001b[39;00m \u001b[38;5;129;01mnot\u001b[39;00m \u001b[38;5;28;01mNone\u001b[39;00m \u001b[38;5;129;01mand\u001b[39;00m \\\n\u001b[0;32m    685\u001b[0m         \u001b[38;5;28mself\u001b[39m\u001b[38;5;241m.\u001b[39m_num_yielded \u001b[38;5;241m>\u001b[39m \u001b[38;5;28mself\u001b[39m\u001b[38;5;241m.\u001b[39m_IterableDataset_len_called:\n",
      "File \u001b[1;32m~\\anaconda3\\lib\\site-packages\\torch\\utils\\data\\dataloader.py:1376\u001b[0m, in \u001b[0;36m_MultiProcessingDataLoaderIter._next_data\u001b[1;34m(self)\u001b[0m\n\u001b[0;32m   1374\u001b[0m \u001b[38;5;28;01melse\u001b[39;00m:\n\u001b[0;32m   1375\u001b[0m     \u001b[38;5;28;01mdel\u001b[39;00m \u001b[38;5;28mself\u001b[39m\u001b[38;5;241m.\u001b[39m_task_info[idx]\n\u001b[1;32m-> 1376\u001b[0m     \u001b[38;5;28;01mreturn\u001b[39;00m \u001b[38;5;28;43mself\u001b[39;49m\u001b[38;5;241;43m.\u001b[39;49m\u001b[43m_process_data\u001b[49m\u001b[43m(\u001b[49m\u001b[43mdata\u001b[49m\u001b[43m)\u001b[49m\n",
      "File \u001b[1;32m~\\anaconda3\\lib\\site-packages\\torch\\utils\\data\\dataloader.py:1402\u001b[0m, in \u001b[0;36m_MultiProcessingDataLoaderIter._process_data\u001b[1;34m(self, data)\u001b[0m\n\u001b[0;32m   1400\u001b[0m \u001b[38;5;28mself\u001b[39m\u001b[38;5;241m.\u001b[39m_try_put_index()\n\u001b[0;32m   1401\u001b[0m \u001b[38;5;28;01mif\u001b[39;00m \u001b[38;5;28misinstance\u001b[39m(data, ExceptionWrapper):\n\u001b[1;32m-> 1402\u001b[0m     \u001b[43mdata\u001b[49m\u001b[38;5;241;43m.\u001b[39;49m\u001b[43mreraise\u001b[49m\u001b[43m(\u001b[49m\u001b[43m)\u001b[49m\n\u001b[0;32m   1403\u001b[0m \u001b[38;5;28;01mreturn\u001b[39;00m data\n",
      "File \u001b[1;32m~\\anaconda3\\lib\\site-packages\\torch\\_utils.py:461\u001b[0m, in \u001b[0;36mExceptionWrapper.reraise\u001b[1;34m(self)\u001b[0m\n\u001b[0;32m    457\u001b[0m \u001b[38;5;28;01mexcept\u001b[39;00m \u001b[38;5;167;01mTypeError\u001b[39;00m:\n\u001b[0;32m    458\u001b[0m     \u001b[38;5;66;03m# If the exception takes multiple arguments, don't try to\u001b[39;00m\n\u001b[0;32m    459\u001b[0m     \u001b[38;5;66;03m# instantiate since we don't know how to\u001b[39;00m\n\u001b[0;32m    460\u001b[0m     \u001b[38;5;28;01mraise\u001b[39;00m \u001b[38;5;167;01mRuntimeError\u001b[39;00m(msg) \u001b[38;5;28;01mfrom\u001b[39;00m \u001b[38;5;28mNone\u001b[39m\n\u001b[1;32m--> 461\u001b[0m \u001b[38;5;28;01mraise\u001b[39;00m exception\n",
      "\u001b[1;31mRuntimeError\u001b[0m: Caught RuntimeError in DataLoader worker process 0.\nOriginal Traceback (most recent call last):\n  File \"C:\\Users\\rbden\\anaconda3\\lib\\site-packages\\torch\\utils\\data\\_utils\\worker.py\", line 302, in _worker_loop\n    data = fetcher.fetch(index)\n  File \"C:\\Users\\rbden\\anaconda3\\lib\\site-packages\\torch\\utils\\data\\_utils\\fetch.py\", line 52, in fetch\n    return self.collate_fn(data)\n  File \"C:\\Users\\rbden\\anaconda3\\lib\\site-packages\\torch\\utils\\data\\_utils\\collate.py\", line 175, in default_collate\n    return [default_collate(samples) for samples in transposed]  # Backwards compatibility.\n  File \"C:\\Users\\rbden\\anaconda3\\lib\\site-packages\\torch\\utils\\data\\_utils\\collate.py\", line 175, in <listcomp>\n    return [default_collate(samples) for samples in transposed]  # Backwards compatibility.\n  File \"C:\\Users\\rbden\\anaconda3\\lib\\site-packages\\torch\\utils\\data\\_utils\\collate.py\", line 140, in default_collate\n    out = elem.new(storage).resize_(len(batch), *list(elem.size()))\nRuntimeError: Trying to resize storage that is not resizable\n"
     ]
    }
   ],
   "source": [
    "with torch.no_grad() :\n",
    "    \n",
    "    for i, (inputs, targets) in enumerate(trainloader_animals) :\n",
    "        \n",
    "        inputs, targets = inputs.to(device), targets.to(device)\n",
    "        \n",
    "        # batch_size개의 이미지\n",
    "        print(inputs.shape)  \n",
    "        \n",
    "        # batch_size개의 클래스\n",
    "        print(targets.shape) \n",
    "\n",
    "        outputs = mymodel(inputs)\n",
    "        \n",
    "        # outputs는 32, 10 차원 (32개 data의 확률 10개씩)\n",
    "        print(outputs.shape) \n",
    "        \n",
    "        # targets는 32차원 (32개 data의 실제 클래스)\n",
    "        print(targets.shape) \n",
    "        \n",
    "        # -> cross entropy 식에 넣을때 이런 형태로 넣으면됨 (outputs, targets의 차원을 맞출 필요가 없음)\n",
    "        loss = criterion(outputs, targets)  \n",
    "        print(loss.item())\n",
    "\n",
    "        # 예측한 클래스\n",
    "        print(outputs.max(1)[1]) \n",
    "\n",
    "        # 실제 클래스\n",
    "        print(targets)\n",
    "        \n",
    "        # 맞게 예측한 클래스 개수\n",
    "        correct = (outputs.max(1)[1] == targets).sum().item() \n",
    "        print(correct)\n",
    "        \n",
    "        break"
   ]
  },
  {
   "cell_type": "code",
   "execution_count": 92,
   "metadata": {},
   "outputs": [],
   "source": [
    "# 추후 시각화를 위해 매 epoch마다 loss, accuracy 값을 저장할 리스트\n",
    "# 이거 빼먹고 train 돌리면...\n",
    "seq_train_loss = []\n",
    "seq_test_loss = []\n",
    "seq_train_acc = []\n",
    "seq_test_acc = []"
   ]
  },
  {
   "cell_type": "code",
   "execution_count": 109,
   "metadata": {},
   "outputs": [],
   "source": [
    "def train(epoch) :\n",
    "    \n",
    "    print(f'\\n[ Train epoch: {epoch+1} ]')\n",
    "\n",
    "    # train은 항상 이걸 지정하고 시작! - Dropout, Batch Normalization 등의 효과를 적용하고 진행하기 위함\n",
    "    mymodel.train() \n",
    "\n",
    "    running_loss = 0.0\n",
    "    batch_losses = []\n",
    "    total = 0\n",
    "    correct = 0\n",
    "\n",
    "    for batch_idx, (inputs, targets) in enumerate(trainloader_animals) :\n",
    "        \n",
    "        # dataloader의 input image와 label도 device에 넣어줘야됨\n",
    "        inputs, targets = inputs.to(device), targets.to(device) \n",
    "        \n",
    "        # DL 학습 기본 코드\n",
    "        # gradient 초기화\n",
    "        optimizer.zero_grad()\n",
    "        \n",
    "        # 현재 batch의 inputs을 모델에 넣어 outputs 추출 (확률값)\n",
    "        outputs = mymodel(inputs) \n",
    "        \n",
    "        # 추출한 outputs와 원래 label인 targets 사이 loss 계산\n",
    "        loss = criterion(outputs, targets) \n",
    "        \n",
    "        # 계산한 loss 기반으로 gradient 값 계산\n",
    "        loss.backward() \n",
    "        \n",
    "        # weight parameter update\n",
    "        optimizer.step() \n",
    "\n",
    "        # batch 데이터 개수 더하기\n",
    "        total += targets.size(0) \n",
    "        running_loss += loss.item()\n",
    "        batch_losses.append(loss.item())\n",
    "        \n",
    "        \n",
    "        # 확률값 가장 높게 나타난 클래스\n",
    "        _, predicted = outputs.max(1) \n",
    "        \n",
    "        # 현재 batch 내에서 알맞게 분류한 이미지 개수 더하기\n",
    "        correct += (predicted == targets).sum().item() \n",
    "        \n",
    "        if batch_idx % 300 == 299 :\n",
    "            \n",
    "            print(f'\\nCurrent batch: {str(batch_idx+1)}')\n",
    "            \n",
    "            # 이렇게 출력하는 것이 꼭 필요한 것은 아니지만, 중간중간 확인을 위해 매우 권장\n",
    "            print(f'Average train loss of recent 300 batches: {running_loss / 300}') \n",
    "            \n",
    "            running_loss = 0.0\n",
    "\n",
    "    avg_loss = sum(batch_losses) / len(batch_losses)\n",
    "    seq_train_loss.append(avg_loss)\n",
    "    seq_train_acc.append(100*correct/total)\n",
    "    \n",
    "    # 전체 데이터 개수에서 맞게 예측한 비율\n",
    "    print('\\nTotal train accuarcy:', 100. * correct / total) \n",
    "    print('Total train loss:', avg_loss)"
   ]
  },
  {
   "cell_type": "code",
   "execution_count": 110,
   "metadata": {},
   "outputs": [],
   "source": [
    "def test(epoch) :\n",
    "    \n",
    "    print(f'\\n[ Test epoch: {epoch+1} ]')\n",
    "\n",
    "    # eval은 항상 이걸 지정하고 시작! - Dropout, Batch Normalization 등의 효과를 적용하지 않기 위함!\n",
    "    # ex. evaluation 할때는 Dropout 없이 지금까지 학습한 모든 node를 활용해서 진행해야됨\n",
    "    mymodel.eval() \n",
    "\n",
    "    loss = 0\n",
    "    batch_losses = []\n",
    "    correct = 0\n",
    "    total = 0\n",
    "\n",
    "    # gradient update 안함 - eval과 torch.no_grad는 하나의 세트\n",
    "    with torch.no_grad() :\n",
    "        \n",
    "        for batch_idx, (inputs, targets) in enumerate(testloader_animals) :\n",
    "            \n",
    "            inputs, targets = inputs.to(device), targets.to(device)\n",
    "\n",
    "            outputs = mymodel(inputs)\n",
    "            loss = criterion(outputs, targets)\n",
    "            batch_losses.append(loss.item())\n",
    "\n",
    "            total += targets.size(0)\n",
    "            _, predicted = outputs.max(1)\n",
    "            correct += (predicted == targets).sum().item()\n",
    "\n",
    "    avg_loss = sum(batch_losses) / len(batch_losses)\n",
    "    seq_test_loss.append(avg_loss)\n",
    "    seq_test_acc.append(100 * correct / total)\n",
    "    \n",
    "    print('\\nTest accuarcy:', 100. * correct / total)\n",
    "    print('Test average loss:', avg_loss)"
   ]
  },
  {
   "cell_type": "markdown",
   "metadata": {},
   "source": [
    "## 10. training"
   ]
  },
  {
   "cell_type": "code",
   "execution_count": 111,
   "metadata": {
    "id": "Y2AB6X97Cx4s",
    "scrolled": true
   },
   "outputs": [
    {
     "name": "stdout",
     "output_type": "stream",
     "text": [
      "\n",
      "[ Train epoch: 1 ]\n"
     ]
    },
    {
     "ename": "RuntimeError",
     "evalue": "Caught RuntimeError in DataLoader worker process 0.\nOriginal Traceback (most recent call last):\n  File \"C:\\Users\\rbden\\anaconda3\\lib\\site-packages\\torch\\utils\\data\\_utils\\worker.py\", line 302, in _worker_loop\n    data = fetcher.fetch(index)\n  File \"C:\\Users\\rbden\\anaconda3\\lib\\site-packages\\torch\\utils\\data\\_utils\\fetch.py\", line 52, in fetch\n    return self.collate_fn(data)\n  File \"C:\\Users\\rbden\\anaconda3\\lib\\site-packages\\torch\\utils\\data\\_utils\\collate.py\", line 175, in default_collate\n    return [default_collate(samples) for samples in transposed]  # Backwards compatibility.\n  File \"C:\\Users\\rbden\\anaconda3\\lib\\site-packages\\torch\\utils\\data\\_utils\\collate.py\", line 175, in <listcomp>\n    return [default_collate(samples) for samples in transposed]  # Backwards compatibility.\n  File \"C:\\Users\\rbden\\anaconda3\\lib\\site-packages\\torch\\utils\\data\\_utils\\collate.py\", line 140, in default_collate\n    out = elem.new(storage).resize_(len(batch), *list(elem.size()))\nRuntimeError: Trying to resize storage that is not resizable\n",
     "output_type": "error",
     "traceback": [
      "\u001b[1;31m---------------------------------------------------------------------------\u001b[0m",
      "\u001b[1;31mRuntimeError\u001b[0m                              Traceback (most recent call last)",
      "Input \u001b[1;32mIn [111]\u001b[0m, in \u001b[0;36m<cell line: 4>\u001b[1;34m()\u001b[0m\n\u001b[0;32m      2\u001b[0m num_epoch \u001b[38;5;241m=\u001b[39m \u001b[38;5;241m5\u001b[39m\n\u001b[0;32m      4\u001b[0m \u001b[38;5;28;01mfor\u001b[39;00m epoch \u001b[38;5;129;01min\u001b[39;00m \u001b[38;5;28mrange\u001b[39m(\u001b[38;5;241m0\u001b[39m, num_epoch) :\n\u001b[1;32m----> 6\u001b[0m     \u001b[43mtrain\u001b[49m\u001b[43m(\u001b[49m\u001b[43mepoch\u001b[49m\u001b[43m)\u001b[49m\n\u001b[0;32m      7\u001b[0m     test(epoch)\n\u001b[0;32m      9\u001b[0m \u001b[38;5;66;03m# model 저장! - parameter값 저장\u001b[39;00m\n",
      "Input \u001b[1;32mIn [109]\u001b[0m, in \u001b[0;36mtrain\u001b[1;34m(epoch)\u001b[0m\n\u001b[0;32m     10\u001b[0m total \u001b[38;5;241m=\u001b[39m \u001b[38;5;241m0\u001b[39m\n\u001b[0;32m     11\u001b[0m correct \u001b[38;5;241m=\u001b[39m \u001b[38;5;241m0\u001b[39m\n\u001b[1;32m---> 13\u001b[0m \u001b[38;5;28;01mfor\u001b[39;00m batch_idx, (inputs, targets) \u001b[38;5;129;01min\u001b[39;00m \u001b[38;5;28menumerate\u001b[39m(trainloader_animals) :\n\u001b[0;32m     14\u001b[0m     \n\u001b[0;32m     15\u001b[0m     \u001b[38;5;66;03m# dataloader의 input image와 label도 device에 넣어줘야됨\u001b[39;00m\n\u001b[0;32m     16\u001b[0m     inputs, targets \u001b[38;5;241m=\u001b[39m inputs\u001b[38;5;241m.\u001b[39mto(device), targets\u001b[38;5;241m.\u001b[39mto(device) \n\u001b[0;32m     18\u001b[0m     \u001b[38;5;66;03m# DL 학습 기본 코드\u001b[39;00m\n\u001b[0;32m     19\u001b[0m     \u001b[38;5;66;03m# gradient 초기화\u001b[39;00m\n",
      "File \u001b[1;32m~\\anaconda3\\lib\\site-packages\\torch\\utils\\data\\dataloader.py:681\u001b[0m, in \u001b[0;36m_BaseDataLoaderIter.__next__\u001b[1;34m(self)\u001b[0m\n\u001b[0;32m    678\u001b[0m \u001b[38;5;28;01mif\u001b[39;00m \u001b[38;5;28mself\u001b[39m\u001b[38;5;241m.\u001b[39m_sampler_iter \u001b[38;5;129;01mis\u001b[39;00m \u001b[38;5;28;01mNone\u001b[39;00m:\n\u001b[0;32m    679\u001b[0m     \u001b[38;5;66;03m# TODO(https://github.com/pytorch/pytorch/issues/76750)\u001b[39;00m\n\u001b[0;32m    680\u001b[0m     \u001b[38;5;28mself\u001b[39m\u001b[38;5;241m.\u001b[39m_reset()  \u001b[38;5;66;03m# type: ignore[call-arg]\u001b[39;00m\n\u001b[1;32m--> 681\u001b[0m data \u001b[38;5;241m=\u001b[39m \u001b[38;5;28;43mself\u001b[39;49m\u001b[38;5;241;43m.\u001b[39;49m\u001b[43m_next_data\u001b[49m\u001b[43m(\u001b[49m\u001b[43m)\u001b[49m\n\u001b[0;32m    682\u001b[0m \u001b[38;5;28mself\u001b[39m\u001b[38;5;241m.\u001b[39m_num_yielded \u001b[38;5;241m+\u001b[39m\u001b[38;5;241m=\u001b[39m \u001b[38;5;241m1\u001b[39m\n\u001b[0;32m    683\u001b[0m \u001b[38;5;28;01mif\u001b[39;00m \u001b[38;5;28mself\u001b[39m\u001b[38;5;241m.\u001b[39m_dataset_kind \u001b[38;5;241m==\u001b[39m _DatasetKind\u001b[38;5;241m.\u001b[39mIterable \u001b[38;5;129;01mand\u001b[39;00m \\\n\u001b[0;32m    684\u001b[0m         \u001b[38;5;28mself\u001b[39m\u001b[38;5;241m.\u001b[39m_IterableDataset_len_called \u001b[38;5;129;01mis\u001b[39;00m \u001b[38;5;129;01mnot\u001b[39;00m \u001b[38;5;28;01mNone\u001b[39;00m \u001b[38;5;129;01mand\u001b[39;00m \\\n\u001b[0;32m    685\u001b[0m         \u001b[38;5;28mself\u001b[39m\u001b[38;5;241m.\u001b[39m_num_yielded \u001b[38;5;241m>\u001b[39m \u001b[38;5;28mself\u001b[39m\u001b[38;5;241m.\u001b[39m_IterableDataset_len_called:\n",
      "File \u001b[1;32m~\\anaconda3\\lib\\site-packages\\torch\\utils\\data\\dataloader.py:1376\u001b[0m, in \u001b[0;36m_MultiProcessingDataLoaderIter._next_data\u001b[1;34m(self)\u001b[0m\n\u001b[0;32m   1374\u001b[0m \u001b[38;5;28;01melse\u001b[39;00m:\n\u001b[0;32m   1375\u001b[0m     \u001b[38;5;28;01mdel\u001b[39;00m \u001b[38;5;28mself\u001b[39m\u001b[38;5;241m.\u001b[39m_task_info[idx]\n\u001b[1;32m-> 1376\u001b[0m     \u001b[38;5;28;01mreturn\u001b[39;00m \u001b[38;5;28;43mself\u001b[39;49m\u001b[38;5;241;43m.\u001b[39;49m\u001b[43m_process_data\u001b[49m\u001b[43m(\u001b[49m\u001b[43mdata\u001b[49m\u001b[43m)\u001b[49m\n",
      "File \u001b[1;32m~\\anaconda3\\lib\\site-packages\\torch\\utils\\data\\dataloader.py:1402\u001b[0m, in \u001b[0;36m_MultiProcessingDataLoaderIter._process_data\u001b[1;34m(self, data)\u001b[0m\n\u001b[0;32m   1400\u001b[0m \u001b[38;5;28mself\u001b[39m\u001b[38;5;241m.\u001b[39m_try_put_index()\n\u001b[0;32m   1401\u001b[0m \u001b[38;5;28;01mif\u001b[39;00m \u001b[38;5;28misinstance\u001b[39m(data, ExceptionWrapper):\n\u001b[1;32m-> 1402\u001b[0m     \u001b[43mdata\u001b[49m\u001b[38;5;241;43m.\u001b[39;49m\u001b[43mreraise\u001b[49m\u001b[43m(\u001b[49m\u001b[43m)\u001b[49m\n\u001b[0;32m   1403\u001b[0m \u001b[38;5;28;01mreturn\u001b[39;00m data\n",
      "File \u001b[1;32m~\\anaconda3\\lib\\site-packages\\torch\\_utils.py:461\u001b[0m, in \u001b[0;36mExceptionWrapper.reraise\u001b[1;34m(self)\u001b[0m\n\u001b[0;32m    457\u001b[0m \u001b[38;5;28;01mexcept\u001b[39;00m \u001b[38;5;167;01mTypeError\u001b[39;00m:\n\u001b[0;32m    458\u001b[0m     \u001b[38;5;66;03m# If the exception takes multiple arguments, don't try to\u001b[39;00m\n\u001b[0;32m    459\u001b[0m     \u001b[38;5;66;03m# instantiate since we don't know how to\u001b[39;00m\n\u001b[0;32m    460\u001b[0m     \u001b[38;5;28;01mraise\u001b[39;00m \u001b[38;5;167;01mRuntimeError\u001b[39;00m(msg) \u001b[38;5;28;01mfrom\u001b[39;00m \u001b[38;5;28mNone\u001b[39m\n\u001b[1;32m--> 461\u001b[0m \u001b[38;5;28;01mraise\u001b[39;00m exception\n",
      "\u001b[1;31mRuntimeError\u001b[0m: Caught RuntimeError in DataLoader worker process 0.\nOriginal Traceback (most recent call last):\n  File \"C:\\Users\\rbden\\anaconda3\\lib\\site-packages\\torch\\utils\\data\\_utils\\worker.py\", line 302, in _worker_loop\n    data = fetcher.fetch(index)\n  File \"C:\\Users\\rbden\\anaconda3\\lib\\site-packages\\torch\\utils\\data\\_utils\\fetch.py\", line 52, in fetch\n    return self.collate_fn(data)\n  File \"C:\\Users\\rbden\\anaconda3\\lib\\site-packages\\torch\\utils\\data\\_utils\\collate.py\", line 175, in default_collate\n    return [default_collate(samples) for samples in transposed]  # Backwards compatibility.\n  File \"C:\\Users\\rbden\\anaconda3\\lib\\site-packages\\torch\\utils\\data\\_utils\\collate.py\", line 175, in <listcomp>\n    return [default_collate(samples) for samples in transposed]  # Backwards compatibility.\n  File \"C:\\Users\\rbden\\anaconda3\\lib\\site-packages\\torch\\utils\\data\\_utils\\collate.py\", line 140, in default_collate\n    out = elem.new(storage).resize_(len(batch), *list(elem.size()))\nRuntimeError: Trying to resize storage that is not resizable\n"
     ]
    }
   ],
   "source": [
    "# training\n",
    "num_epoch = 5\n",
    "\n",
    "for epoch in range(0, num_epoch) :\n",
    "    \n",
    "    train(epoch)\n",
    "    test(epoch)\n",
    "\n",
    "# model 저장! - parameter값 저장\n",
    "torch.save(mymodel.state_dict(), './mymodel_animals.pt')\n",
    "print('Model Saved!')"
   ]
  },
  {
   "cell_type": "code",
   "execution_count": null,
   "metadata": {
    "id": "ZwJHGOY9Czzh"
   },
   "outputs": [],
   "source": [
    "# loss, accuracy 추이 확인 with plt.plot\n",
    "plt.plot(range(num_epoch), seq_train_loss, label=\"Train loss\")\n",
    "plt.plot(range(num_epoch), seq_test_loss, label=\"Test loss\")\n",
    "plt.legend()\n",
    "plt.xlabel('Epoch')\n",
    "plt.ylabel('Loss')\n",
    "plt.show()"
   ]
  },
  {
   "cell_type": "code",
   "execution_count": null,
   "metadata": {},
   "outputs": [],
   "source": [
    "plt.plot(range(num_epoch), seq_train_acc, label=\"Train Accuracy\")\n",
    "plt.plot(range(num_epoch), seq_test_acc, label=\"Test Accuracy\")\n",
    "plt.legend()\n",
    "plt.xlabel('Epoch')\n",
    "plt.ylabel('Accuracy')\n",
    "plt.show()"
   ]
  }
 ],
 "metadata": {
  "colab": {
   "authorship_tag": "ABX9TyPyT1TsTwC1Btb17NjPyv2x",
   "collapsed_sections": [],
   "name": "[0823] CNN 과제.ipynb",
   "provenance": [],
   "toc_visible": true
  },
  "kernelspec": {
   "display_name": "Python 3 (ipykernel)",
   "language": "python",
   "name": "python3"
  },
  "language_info": {
   "codemirror_mode": {
    "name": "ipython",
    "version": 3
   },
   "file_extension": ".py",
   "mimetype": "text/x-python",
   "name": "python",
   "nbconvert_exporter": "python",
   "pygments_lexer": "ipython3",
   "version": "3.9.12"
  }
 },
 "nbformat": 4,
 "nbformat_minor": 1
}
