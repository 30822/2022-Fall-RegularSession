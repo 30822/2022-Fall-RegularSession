{
  "nbformat": 4,
  "nbformat_minor": 0,
  "metadata": {
    "colab": {
      "name": "[0823] CNN 과제.ipynb",
      "provenance": [],
      "collapsed_sections": []
    },
    "kernelspec": {
      "name": "python3",
      "display_name": "Python 3"
    },
    "language_info": {
      "name": "python"
    },
    "gpuClass": "standard",
    "accelerator": "GPU"
  },
  "cells": [
    {
      "cell_type": "markdown",
      "source": [
        "# 1. 폴더 정리\n",
        "\n",
        "* 제공해드린 animals10.zip의 압축을 풀어 그 내용을 살펴보시고, 폴더 구조를 학습에 알맞도록 재구성해주세요\n",
        "* 특히 각 클래스마다 약 30% 정도의 이미지를 test 폴더에 할당해주세요\n",
        "* 중간중간 헷갈리다면 이것저것 확인하는 코드를 거쳐보세요 (ex. flat_test[:5]로 앞의 다섯값 확인)\n",
        "* 궁금한 점이 있을 경우, 슬랙 질문 채널 활용을 적극 권장합니다."
      ],
      "metadata": {
        "id": "d2ENRS4E9_xy"
      }
    },
    {
      "cell_type": "code",
      "execution_count": 1,
      "metadata": {
        "id": "u7tlWm3L9KoV",
        "colab": {
          "base_uri": "https://localhost:8080/"
        },
        "outputId": "592953d8-905e-4afd-a746-3a77c24f2131"
      },
      "outputs": [
        {
          "output_type": "stream",
          "name": "stdout",
          "text": [
            "Mounted at /content/drive\n"
          ]
        }
      ],
      "source": [
        "### Guideline for convenience ###\n",
        "# 압축 풀기\n",
        "\n",
        "# colab 사용할 경우\n",
        "# 내 구글 드라이브에 있는 파일 사용하고 싶을 때 쓰는 코드\n",
        "from google.colab import drive\n",
        "drive.mount('/content/drive')"
      ]
    },
    {
      "cell_type": "code",
      "source": [
        "!unzip -qq \"/content/drive/MyDrive/CNN/animals10.zip\""
      ],
      "metadata": {
        "id": "xnMHkL6AxSCM"
      },
      "execution_count": 2,
      "outputs": []
    },
    {
      "cell_type": "code",
      "source": [
        "# python에서 파일 관리해주는 라이브러리\n",
        "import os\n",
        "import glob\n",
        "import shutil"
      ],
      "metadata": {
        "id": "nB6EB4Fbx3zZ"
      },
      "execution_count": 3,
      "outputs": []
    },
    {
      "cell_type": "code",
      "source": [
        "# 각 클래스별 파일 개수 확인 -> 변수로 해당 개수 저장\n",
        "# Tip) 클래스가 10개이므로 각 클래스마다 똑같은 내용의 코드를 계속 써야할까요? 클래스 이름을 리스트로 저장해 for문을 돌리면서 코드를 재사용하는건 어떨까요?\n",
        "\n",
        "animals_list = ['butterfly','cat','chicken','cow','dog','elephant','horse','sheep','spider','squirrel']\n",
        "\n",
        "# glob.glob로 파일 개수 확인\n",
        "\n",
        "butterfly = sorted(glob.glob('./Animals-10/butterfly/*.jpg')) +sorted(glob.glob('./Animals-10/butterfly/*.jpeg')) + sorted(glob.glob('./Animals-10/butterfly/*.png'))\n",
        "cat = sorted(glob.glob('./Animals-10/cat/*.jpg')) + sorted(glob.glob('./Animals-10/cat/*.jpeg')) + sorted(glob.glob('./Animals-10/cat/*.png'))\n",
        "chicken = sorted(glob.glob('./Animals-10/chicken/*.jpg')) + sorted(glob.glob('./Animals-10/chicken/*.jpeg')) + sorted(glob.glob('./Animals-10/chicken/*.png'))\n",
        "cow = sorted(glob.glob('./Animals-10/cow/*.jpg')) + sorted(glob.glob('./Animals-10/cow/*.jpeg')) + sorted(glob.glob('./Animals-10/cow/*.png'))\n",
        "dog = sorted(glob.glob('./Animals-10/dog/*.jpg')) + sorted(glob.glob('./Animals-10/dog/*.jpeg')) + sorted(glob.glob('./Animals-10/dog/*.png'))\n",
        "elephant = sorted(glob.glob('./Animals-10/elephant/*.jpg')) + sorted(glob.glob('./Animals-10/elephant/*.jpeg')) + sorted(glob.glob('./Animals-10/elephant/*.png'))\n",
        "horse = sorted(glob.glob('./Animals-10/horse/*.jpg')) + sorted(glob.glob('./Animals-10/horse/*.jpeg')) + sorted(glob.glob('./Animals-10/horse/*.png'))\n",
        "sheep = sorted(glob.glob('./Animals-10/cat/*.jpg')) + sorted(glob.glob('./Animals-10/cat/*.jpeg')) + sorted(glob.glob('./Animals-10/cat/*.png'))\n",
        "spider = sorted(glob.glob('./Animals-10/cat/*.jpg')) + sorted(glob.glob('./Animals-10/cat/*.jpeg')) + sorted(glob.glob('./Animals-10/cat/*.png'))\n",
        "squirrel = sorted(glob.glob('./Animals-10/cat/*.jpg')) + sorted(glob.glob('./Animals-10/cat/*.jpeg')) + sorted(glob.glob('./Animals-10/cat/*.png'))\n",
        "\n",
        "\n",
        "print(len(butterfly))\n",
        "print(len(cat))\n",
        "print(len(chicken))\n",
        "print(len(cow))\n",
        "print(len(dog))\n",
        "print(len(elephant))\n",
        "print(len(horse))\n",
        "print(len(sheep))\n",
        "print(len(spider))\n",
        "print(len(squirrel))\n",
        "\n"
      ],
      "metadata": {
        "id": "RPXh3srt-1Rx",
        "colab": {
          "base_uri": "https://localhost:8080/"
        },
        "outputId": "d0ee0f0a-9d78-47d5-db07-041f6708e34e"
      },
      "execution_count": 4,
      "outputs": [
        {
          "output_type": "stream",
          "name": "stdout",
          "text": [
            "2112\n",
            "1668\n",
            "3098\n",
            "1866\n",
            "4863\n",
            "1446\n",
            "2623\n",
            "1668\n",
            "1668\n",
            "1668\n"
          ]
        }
      ]
    },
    {
      "cell_type": "code",
      "source": [
        "# test에 넣을 이미지 개수 계산\n",
        "\n",
        "butterfly_test_count = round(len(butterfly)*0.3)\n",
        "cat_test_count = round(len(cat)*0.3)\n",
        "chicken_test_count = round(len(chicken)*0.3)\n",
        "cow_test_count = round(len(cow)*0.3)\n",
        "dog_test_count = round(len(dog)*0.3)\n",
        "elephant_test_count = round(len(elephant)*0.3)\n",
        "horse_test_count = round(len(horse)*0.3)\n",
        "sheep_test_count = round(len(sheep)*0.3)\n",
        "spider_test_count = round(len(spider)*0.3)\n",
        "squirrel_test_count = round(len(squirrel)*0.3)\n",
        "\n",
        "print(butterfly_test_count)\n",
        "print(cat_test_count)\n",
        "print(chicken_test_count)\n",
        "print(cow_test_count)\n",
        "print(dog_test_count)\n",
        "print(elephant_test_count)\n",
        "print(horse_test_count)\n",
        "print(sheep_test_count)\n",
        "print(spider_test_count)\n",
        "print(squirrel_test_count)"
      ],
      "metadata": {
        "id": "9Jikw6Rp_BQI",
        "colab": {
          "base_uri": "https://localhost:8080/"
        },
        "outputId": "b8819234-ad36-4cfe-cd1f-9c9c7a4439d6"
      },
      "execution_count": 5,
      "outputs": [
        {
          "output_type": "stream",
          "name": "stdout",
          "text": [
            "634\n",
            "500\n",
            "929\n",
            "560\n",
            "1459\n",
            "434\n",
            "787\n",
            "500\n",
            "500\n",
            "500\n"
          ]
        }
      ]
    },
    {
      "cell_type": "code",
      "source": [
        "import random\n",
        "\n",
        "def split(img_list, test_count, train_path, test_path):\n",
        "  # img_list : 이미지 경로 리스트\n",
        "  # test_count : test에 할당할 이미지 개수\n",
        "  # train_path : train 데이터 넣을 경로\n",
        "  # test_path : test 데이터 넣을 경로\n",
        "  \n",
        "  # 랜덤으로 test_count만큼 이미지 img_list에서 고르기\n",
        "  # test 담을 이미지 리스트 저장\n",
        "  test_files=[]\n",
        "  for i in random.sample(img_list, test_count):\n",
        "    test_files.append(i)\n",
        "\n",
        "  # 위에서 고르지 않은 이미지들을 train 담을 이미지 리스트로 저장\n",
        "  train_files = [x for x in img_list if x not in test_files]\n",
        "\n",
        "  # 고른 이미지를 train_path, test_path폴더에 폭사\n",
        "  for k in train_files:\n",
        "    shutil.copy(k, train_path)\n",
        "  \n",
        "  for c in test_files:\n",
        "    shutil.copy(c, test_path)\n",
        "\n",
        "  print('train 폴더 이미지 개수 : {}\\ntest 폴더 이미지 개수 : {}'.format(len(glob.glob(train_path+'/*')),len(glob.glob(test_path+'/*'))))"
      ],
      "metadata": {
        "id": "Jm5DByzHBJ2U"
      },
      "execution_count": 6,
      "outputs": []
    },
    {
      "cell_type": "code",
      "source": [
        "# train, test 폴더 경로 선언 & 만들기\n",
        "# 폴더 경로 선언 & 만들기\n",
        "butterfly_train_path='./train/butterfly'\n",
        "butterfly_test_path='./test/butterfly'\n",
        "os.makedirs(butterfly_train_path, exist_ok=True)\n",
        "os.makedirs(butterfly_test_path, exist_ok=True)\n",
        "\n",
        "cat_train_path='./train/cat'\n",
        "cat_test_path='./test/cat'\n",
        "os.makedirs(cat_train_path, exist_ok=True)\n",
        "os.makedirs(cat_test_path, exist_ok=True)\n",
        "\n",
        "chicken_train_path='./train/chicken'\n",
        "chicken_test_path='./test/chicken'\n",
        "os.makedirs(chicken_train_path, exist_ok=True)\n",
        "os.makedirs(chicken_test_path, exist_ok=True)\n",
        "\n",
        "cow_train_path='./train/cow'\n",
        "cow_test_path='./test/cow'\n",
        "os.makedirs(cow_train_path, exist_ok=True)\n",
        "os.makedirs(cow_test_path, exist_ok=True)\n",
        "\n",
        "dog_train_path='./train/dog'\n",
        "dog_test_path='./test/dog'\n",
        "os.makedirs(dog_train_path, exist_ok=True)\n",
        "os.makedirs(dog_test_path, exist_ok=True)\n",
        "\n",
        "elephant_train_path='./train/elephant'\n",
        "elephant_test_path='./test/elephant'\n",
        "os.makedirs(elephant_train_path, exist_ok=True)\n",
        "os.makedirs(elephant_test_path, exist_ok=True)\n",
        "\n",
        "horse_train_path='./train/horse'\n",
        "horse_test_path='./test/horse'\n",
        "os.makedirs(horse_train_path, exist_ok=True)\n",
        "os.makedirs(horse_test_path, exist_ok=True)\n",
        "\n",
        "sheep_train_path='./train/sheep'\n",
        "sheep_test_path='./test/sheep'\n",
        "os.makedirs(sheep_train_path, exist_ok=True)\n",
        "os.makedirs(sheep_test_path, exist_ok=True)\n",
        "\n",
        "spider_train_path='./train/spider'\n",
        "spider_test_path='./test/spider'\n",
        "os.makedirs(spider_train_path, exist_ok=True)\n",
        "os.makedirs(spider_test_path, exist_ok=True)\n",
        "\n",
        "squirrel_train_path='./train/squirrel'\n",
        "squirrel_test_path='./test/squirrel'\n",
        "os.makedirs(squirrel_train_path, exist_ok=True)\n",
        "os.makedirs(squirrel_test_path, exist_ok=True)\n"
      ],
      "metadata": {
        "id": "bb2XMrAe_Fl8"
      },
      "execution_count": 7,
      "outputs": []
    },
    {
      "cell_type": "code",
      "source": [
        "# train, test 폴더로 이미지 split해서 알맞게 집어넣기\n",
        "split(butterfly, butterfly_test_count, butterfly_train_path, butterfly_test_path)\n",
        "split(cat, cat_test_count, cat_train_path, cat_test_path)\n",
        "split(chicken, chicken_test_count, chicken_train_path, chicken_test_path)\n",
        "split(cow, cow_test_count, cow_train_path, cow_test_path)\n",
        "split(dog, dog_test_count, dog_train_path, dog_test_path)\n",
        "split(elephant, elephant_test_count, elephant_train_path, elephant_test_path)\n",
        "split(horse, horse_test_count, horse_train_path, horse_test_path)\n",
        "split(sheep, sheep_test_count, sheep_train_path, sheep_test_path)\n",
        "split(spider, spider_test_count, spider_train_path, spider_test_path)\n",
        "split(squirrel, squirrel_test_count, squirrel_train_path, squirrel_test_path)"
      ],
      "metadata": {
        "id": "BaAXh57G_srE",
        "colab": {
          "base_uri": "https://localhost:8080/"
        },
        "outputId": "ab37d2dc-0fcf-41c1-b63d-b08d6ba6f61a"
      },
      "execution_count": 8,
      "outputs": [
        {
          "output_type": "stream",
          "name": "stdout",
          "text": [
            "train 폴더 이미지 개수 : 1478\n",
            "test 폴더 이미지 개수 : 634\n",
            "train 폴더 이미지 개수 : 1168\n",
            "test 폴더 이미지 개수 : 500\n",
            "train 폴더 이미지 개수 : 2169\n",
            "test 폴더 이미지 개수 : 929\n",
            "train 폴더 이미지 개수 : 1306\n",
            "test 폴더 이미지 개수 : 560\n",
            "train 폴더 이미지 개수 : 3404\n",
            "test 폴더 이미지 개수 : 1459\n",
            "train 폴더 이미지 개수 : 1012\n",
            "test 폴더 이미지 개수 : 434\n",
            "train 폴더 이미지 개수 : 1836\n",
            "test 폴더 이미지 개수 : 787\n",
            "train 폴더 이미지 개수 : 1168\n",
            "test 폴더 이미지 개수 : 500\n",
            "train 폴더 이미지 개수 : 1168\n",
            "test 폴더 이미지 개수 : 500\n",
            "train 폴더 이미지 개수 : 1168\n",
            "test 폴더 이미지 개수 : 500\n"
          ]
        }
      ]
    },
    {
      "cell_type": "markdown",
      "source": [
        "# 2. CNN 모델\n",
        "수업 코드에 '모델 성능에 대한 고민!!' 부분을 참고해서 **test 이미지 기준 최소 80% 이상**의 모델이 나올 수 있도록 학습을 진행해주세요.\n",
        "* 중간중간 헷갈리다면 이것저것 확인하는 코드를 거쳐보세요\n",
        "* 90% 이상의 모델이 이상적이긴 합니다\n",
        "* 궁금한 점이 있을 경우, 슬랙 질문 채널 활용을 적극 권장합니다."
      ],
      "metadata": {
        "id": "UKa7LZ4RAXxA"
      }
    },
    {
      "cell_type": "markdown",
      "source": [
        "전반적으로 수업 코드와 비슷하게 짜면 되는데, 생각해봐야 할 것은\n",
        "* 모든 이미지를 내가 정의하는 하나의 모델에 넣어야함\n",
        "* 그말은 input 데이터의 차원이 항상 동일해야 된다는 말\n",
        "* 그런데 과연 내가 가지고 있는 이미지들의 사이즈가 모두 같을까? - 대략 얼마정도 사이즈 가지고 있는지 코드로 확인해보면 더 좋음 (shape 확인)\n",
        "* 이미지 사이즈를 통일시키기 위해서는 어떻게 해야할까? - transforms의 Resize, RandomCrop 써볼까?\n",
        "* 동물 이미지에 적합한 Augmentation은 무엇이 있을까?"
      ],
      "metadata": {
        "id": "31hFiKNBD48l"
      }
    },
    {
      "cell_type": "code",
      "source": [
        "import torch\n",
        "import torchvision\n",
        "import torchvision.transforms as transforms"
      ],
      "metadata": {
        "id": "NjTmNVgsVwAb"
      },
      "execution_count": 9,
      "outputs": []
    },
    {
      "cell_type": "code",
      "source": [
        "# train, test 이미지를 위한 transforms function 정의\n",
        "# 위에서 말한 포인트들 생각해보기 - 차원에 유의하자!\n",
        "\n",
        "# 보통 적용할 augmentation을 ToTensor, Normalize 전에 사용\n",
        "# transforms가 제공하는 augmentation 함수 사용\n",
        "transform_animals_train = transforms.Compose([\n",
        "    transforms.ColorJitter(brightness=0.5),\n",
        "    transforms.Resize((224,224)),                 # 300으로 resize\n",
        "    #transforms.RandomCrop(224),             # 랜덤으로 224만큼 crop 정사각형 형태로 하는 것이 좋음\n",
        "    transforms.RandomHorizontalFlip(p=0.5), # 0.5 확률로 horizontal flip\n",
        "    #transforms.RandomRotation(20),          # 랜덤으로 20도 만큼 rotate\n",
        "    transforms.ToTensor(),\n",
        "    transforms.Normalize((0.485, 0.456, 0.406), (0.229, 0.224, 0.225))\n",
        "])"
      ],
      "metadata": {
        "id": "UM1CiMcdAfas"
      },
      "execution_count": 10,
      "outputs": []
    },
    {
      "cell_type": "code",
      "source": [
        "# transform function for test dataset\n",
        "transform_animals_test = transforms.Compose([\n",
        "    transforms.Resize((224,224)),\n",
        "    transforms.ToTensor(),\n",
        "    transforms.Normalize((0.485, 0.456, 0.406), (0.229, 0.224, 0.225))\n",
        "])"
      ],
      "metadata": {
        "id": "7mevJAABV3jz"
      },
      "execution_count": 11,
      "outputs": []
    },
    {
      "cell_type": "code",
      "source": [
        "# ImageFolder와 앞서 정의한 transforms function을 활용해 Dataset 객체 (train, test에 대해) 선언\n",
        "train_dataset_animals = torchvision.datasets.ImageFolder(\n",
        "    root = './train', # 바로 train 폴더 지정\n",
        "    transform = transform_animals_train \n",
        ")\n",
        "test_dataset_animals = torchvision.datasets.ImageFolder(\n",
        "    root = './test',\n",
        "    transform = transform_animals_test\n",
        ")"
      ],
      "metadata": {
        "id": "QAYc35vdAlHk"
      },
      "execution_count": 12,
      "outputs": []
    },
    {
      "cell_type": "code",
      "source": [
        "print(len(train_dataset_animals))\n",
        "print(len(test_dataset_animals))"
      ],
      "metadata": {
        "colab": {
          "base_uri": "https://localhost:8080/"
        },
        "id": "IFulijJpaTno",
        "outputId": "e29dc0e6-e5c5-4c6a-f342-bc7f7a4a84ef"
      },
      "execution_count": 13,
      "outputs": [
        {
          "output_type": "stream",
          "name": "stdout",
          "text": [
            "15877\n",
            "6803\n"
          ]
        }
      ]
    },
    {
      "cell_type": "code",
      "source": [
        "# train dataset의 첫번째 img의 label 확인\n",
        "train_dataset_animals[0]"
      ],
      "metadata": {
        "colab": {
          "base_uri": "https://localhost:8080/"
        },
        "id": "uFnarGgZXdbi",
        "outputId": "b8a4dd35-0f68-414e-cf94-ec4fe402b88b"
      },
      "execution_count": null,
      "outputs": [
        {
          "output_type": "execute_result",
          "data": {
            "text/plain": [
              "(tensor([[[-0.5082, -0.5082, -0.4739,  ..., -0.9534, -0.9534, -0.9705],\n",
              "          [-0.5082, -0.4911, -0.4739,  ..., -0.9534, -0.9534, -0.9877],\n",
              "          [-0.5082, -0.5082, -0.4739,  ..., -0.9534, -0.9705, -0.9705],\n",
              "          ...,\n",
              "          [-0.3712, -0.3712, -0.3712,  ..., -0.4397, -0.4568, -0.4568],\n",
              "          [-0.3883, -0.3883, -0.3883,  ..., -0.4568, -0.4568, -0.4568],\n",
              "          [-0.4054, -0.4054, -0.4054,  ..., -0.4568, -0.4739, -0.4739]],\n",
              " \n",
              "         [[-0.4251, -0.4251, -0.4076,  ..., -0.6352, -0.6352, -0.6527],\n",
              "          [-0.4251, -0.4076, -0.4076,  ..., -0.6176, -0.6527, -0.6702],\n",
              "          [-0.4426, -0.4251, -0.4251,  ..., -0.6527, -0.6527, -0.6702],\n",
              "          ...,\n",
              "          [-0.2675, -0.2675, -0.2675,  ..., -0.4776, -0.4951, -0.4951],\n",
              "          [-0.2850, -0.2850, -0.2850,  ..., -0.4951, -0.4951, -0.4951],\n",
              "          [-0.3025, -0.3025, -0.3025,  ..., -0.4951, -0.4951, -0.4951]],\n",
              " \n",
              "         [[-0.5147, -0.5147, -0.4798,  ..., -1.0550, -1.0550, -1.0550],\n",
              "          [-0.5147, -0.5147, -0.4973,  ..., -1.0376, -1.0376, -1.0550],\n",
              "          [-0.5321, -0.5147, -0.4973,  ..., -1.0376, -1.0376, -1.0376],\n",
              "          ...,\n",
              "          [-0.9156, -0.9156, -0.9156,  ..., -0.7413, -0.7761, -0.7761],\n",
              "          [-0.9330, -0.9330, -0.9330,  ..., -0.7587, -0.7761, -0.7761],\n",
              "          [-0.9504, -0.9504, -0.9504,  ..., -0.7761, -0.7936, -0.7936]]]), 0)"
            ]
          },
          "metadata": {},
          "execution_count": 14
        }
      ]
    },
    {
      "cell_type": "code",
      "source": [
        "train_dataset_animals"
      ],
      "metadata": {
        "colab": {
          "base_uri": "https://localhost:8080/"
        },
        "id": "Cp0NmvGhZA35",
        "outputId": "a774186a-d4f5-4e77-ccf5-9d17e1984848"
      },
      "execution_count": null,
      "outputs": [
        {
          "output_type": "execute_result",
          "data": {
            "text/plain": [
              "Dataset ImageFolder\n",
              "    Number of datapoints: 15877\n",
              "    Root location: ./train\n",
              "    StandardTransform\n",
              "Transform: Compose(\n",
              "               ColorJitter(brightness=[0.5, 1.5], contrast=None, saturation=None, hue=None)\n",
              "               Resize(size=(224, 224), interpolation=bilinear, max_size=None, antialias=None)\n",
              "               RandomHorizontalFlip(p=0.5)\n",
              "               ToTensor()\n",
              "               Normalize(mean=(0.485, 0.456, 0.406), std=(0.229, 0.224, 0.225))\n",
              "           )"
            ]
          },
          "metadata": {},
          "execution_count": 15
        }
      ]
    },
    {
      "cell_type": "code",
      "source": [
        "train_dataset_animals[0][0].shape"
      ],
      "metadata": {
        "colab": {
          "base_uri": "https://localhost:8080/"
        },
        "id": "-pkPMDeoWlAH",
        "outputId": "f0f55a79-71fb-4269-85ce-d7e05a4127b5"
      },
      "execution_count": null,
      "outputs": [
        {
          "output_type": "execute_result",
          "data": {
            "text/plain": [
              "torch.Size([3, 224, 224])"
            ]
          },
          "metadata": {},
          "execution_count": 16
        }
      ]
    },
    {
      "cell_type": "code",
      "source": [
        "# train, test에 대해 DataLoader 정의"
      ],
      "metadata": {
        "id": "gHF4PaUQAvzJ"
      },
      "execution_count": null,
      "outputs": []
    },
    {
      "cell_type": "code",
      "source": [
        "trainloader_animals = torch.utils.data.DataLoader(\n",
        "    train_dataset_animals,\n",
        "    batch_size = 32,      # 일반적으로 batch size = 16, 32\n",
        "    shuffle=True,         # train dataloader는 epoch마다 데이터 다시 섞어서 batch 만들고 학습! - 학습 효율 up\n",
        "    num_workers=2\n",
        ")"
      ],
      "metadata": {
        "id": "9M9lB-I4YDLX"
      },
      "execution_count": 14,
      "outputs": []
    },
    {
      "cell_type": "code",
      "source": [
        "testloader_animals = torch.utils.data.DataLoader(\n",
        "    test_dataset_animals,\n",
        "    batch_size = 32,      # 일반적으로 batch size = 16, 32\n",
        "    shuffle=False,        # test dataloader는 데이터 매번 섞을 이유가 없음 - 어차피 확인 용도\n",
        "    num_workers=2\n",
        ")"
      ],
      "metadata": {
        "id": "itJrEWF1YQIj"
      },
      "execution_count": 15,
      "outputs": []
    },
    {
      "cell_type": "code",
      "source": [
        "# 15877/32 = 497\n",
        "len(trainloader_animals)"
      ],
      "metadata": {
        "colab": {
          "base_uri": "https://localhost:8080/"
        },
        "id": "6GMERPkcYHcr",
        "outputId": "75461034-a2dd-4eba-9f44-0d4ee4340a83"
      },
      "execution_count": null,
      "outputs": [
        {
          "output_type": "execute_result",
          "data": {
            "text/plain": [
              "497"
            ]
          },
          "metadata": {},
          "execution_count": 19
        }
      ]
    },
    {
      "cell_type": "code",
      "source": [
        "# 6803/32 = 213\n",
        "len(testloader_animals)"
      ],
      "metadata": {
        "colab": {
          "base_uri": "https://localhost:8080/"
        },
        "id": "lX_FUnx7YJHh",
        "outputId": "245042f5-4ad8-4c0b-c6b4-3ed0bb4c852a"
      },
      "execution_count": null,
      "outputs": [
        {
          "output_type": "execute_result",
          "data": {
            "text/plain": [
              "213"
            ]
          },
          "metadata": {},
          "execution_count": 20
        }
      ]
    },
    {
      "cell_type": "code",
      "source": [
        "# dataloader의 iteration 하나만 가져와서 확인해보자\n",
        "tmploader_cifar = torch.utils.data.DataLoader(test_dataset_animals, batch_size = 32, shuffle=False)\n",
        "dataiter = iter(tmploader_cifar)\n",
        "images, labels = dataiter.next()"
      ],
      "metadata": {
        "id": "fhX15WQ3YLoU"
      },
      "execution_count": null,
      "outputs": []
    },
    {
      "cell_type": "code",
      "source": [
        "images.shape # 32개 img"
      ],
      "metadata": {
        "colab": {
          "base_uri": "https://localhost:8080/"
        },
        "id": "nae3H06jYM7i",
        "outputId": "1f848e2a-f0aa-481e-9581-866fb8c14c3f"
      },
      "execution_count": null,
      "outputs": [
        {
          "output_type": "execute_result",
          "data": {
            "text/plain": [
              "torch.Size([32, 3, 224, 224])"
            ]
          },
          "metadata": {},
          "execution_count": 22
        }
      ]
    },
    {
      "cell_type": "code",
      "source": [
        "labels.shape # 32개 label"
      ],
      "metadata": {
        "id": "RkIim2fxYDNy",
        "colab": {
          "base_uri": "https://localhost:8080/"
        },
        "outputId": "cc343b86-bee9-4dd3-fe3f-07b91b113c83"
      },
      "execution_count": null,
      "outputs": [
        {
          "output_type": "execute_result",
          "data": {
            "text/plain": [
              "torch.Size([32])"
            ]
          },
          "metadata": {},
          "execution_count": 23
        }
      ]
    },
    {
      "cell_type": "code",
      "source": [
        "# animals의 10개 class\n",
        "classes = ('butterfly', 'cat', 'chicken', 'cow',\n",
        "           'dog', 'elephant', 'horse', 'sheep', 'spider', 'squirrel')"
      ],
      "metadata": {
        "id": "SRUgBoMOYDQF"
      },
      "execution_count": 16,
      "outputs": []
    },
    {
      "cell_type": "code",
      "source": [
        "#데이터 전처리하는데 필요한 라이브러리 PIL\n",
        "from PIL import Image\n",
        "\n",
        "import numpy as np\n",
        "import matplotlib.pyplot as plt\n",
        "from matplotlib.pyplot import imshow"
      ],
      "metadata": {
        "id": "FFF7DyrDO2wZ"
      },
      "execution_count": 17,
      "outputs": []
    },
    {
      "cell_type": "code",
      "source": [
        "# test dataloader의 첫 batch 확인\n",
        "def imshow_loader(img):\n",
        "    img = img * 0.225 + 0.456 # 정확한 값은 아니지만 대강 normalize 반대로\n",
        "    img_np = np.array(img)\n",
        "    imshow(np.transpose(img_np, (1,2,0)))\n",
        "    plt.show()"
      ],
      "metadata": {
        "id": "DKsQnxvWYV2P"
      },
      "execution_count": null,
      "outputs": []
    },
    {
      "cell_type": "code",
      "source": [
        "imshow_loader(torchvision.utils.make_grid(images))\n",
        "print(' '.join(f'{classes[labels[j]]:5s}' for j in range(4)))"
      ],
      "metadata": {
        "id": "eT8_tFATYV8_",
        "colab": {
          "base_uri": "https://localhost:8080/",
          "height": 255
        },
        "outputId": "4d726fdc-2add-4150-bd38-463a6bc94bb9"
      },
      "execution_count": null,
      "outputs": [
        {
          "output_type": "stream",
          "name": "stderr",
          "text": [
            "WARNING:matplotlib.image:Clipping input data to the valid range for imshow with RGB data ([0..1] for floats or [0..255] for integers).\n"
          ]
        },
        {
          "output_type": "display_data",
          "data": {
            "text/plain": [
              "<Figure size 432x288 with 1 Axes>"
            ],
            "image/png": "[encoded data removed]"
          },
          "metadata": {
            "needs_background": "light"
          }
        },
        {
          "output_type": "stream",
          "name": "stdout",
          "text": [
            "butterfly butterfly butterfly butterfly\n"
          ]
        }
      ]
    },
    {
      "cell_type": "code",
      "source": [
        "### Model 클래스 정의 - 차원에 유의하자!\n",
        "# 10개의 클래스를 분류해야 하는 꽤나 복잡한 task - 모델 구조를 어느 정도로 복잡하게 짜볼까?\n",
        "# 가장 마지막 Linear의 out_features는 얼마로 해야할까?"
      ],
      "metadata": {
        "id": "Kpvu7SJtAyUH"
      },
      "execution_count": null,
      "outputs": []
    },
    {
      "cell_type": "code",
      "source": [
        "import torch.nn as nn"
      ],
      "metadata": {
        "id": "gXeM2ko_PwsT"
      },
      "execution_count": 18,
      "outputs": []
    },
    {
      "cell_type": "code",
      "source": [
        "#### 모델 정의 시 유념해야할 건 각 층의 결과물의 차원!\n",
        "#### 모델이 복잡해지면 복잡해질수록 이는 더욱 중요해지므로 레이어별로 도출되는 데이터의 크기를 써넣는 것을 추천 (안맞으면 에러남)\n",
        "\n",
        "\n",
        "class MyModel(nn.Module):\n",
        "    def __init__(self):\n",
        "        super(MyModel, self).__init__()\n",
        "\n",
        "        ##### Layer 정의 #####\n",
        "        self.layer = nn.Sequential(\n",
        "            # 맨처음 RGB 채널 3개이므로 가장 처음 in_channels = 3\n",
        "            # img의 가장 첫 차원이 batch_size 값은 계속해서 유지\n",
        "            # out_channels 는 필터 갯수 = feature 갯수, kernel_size는 필터 사이즈 padding은 default 0\n",
        "            nn.Conv2d(in_channels=3, out_channels=16, kernel_size=3),             # [batch_size,3,224,224] -> [batch_size,16,222,222] \n",
        "            nn.BatchNorm2d(16),\n",
        "            nn.ReLU(),\n",
        "            nn.Conv2d(in_channels=16, out_channels=32, kernel_size=3),            # [batch_size,16,222,222] -> [batch_size,32,220,220]\n",
        "            nn.BatchNorm2d(32),\n",
        "            nn.ReLU(),\n",
        "            nn.Conv2d(in_channels=32, out_channels=64, kernel_size=5),            # [batch_size,32,220,220] -> [batch_size,64,216,216]\n",
        "            nn.BatchNorm2d(64),\n",
        "            nn.ReLU(),\n",
        "            nn.Dropout(0.4), # 0.2 확률로 Dropout\n",
        "            nn.MaxPool2d(kernel_size=2, stride=2),                                # [batch_size,64,216,216] -> [batch_size,64,108,108]\n",
        "            nn.Conv2d(in_channels=64, out_channels=128, kernel_size=3),           # [batch_size,64,108,108] -> [batch_size,128,106,106] \n",
        "            nn.BatchNorm2d(128),\n",
        "            nn.ReLU(),\n",
        "            nn.Conv2d(in_channels=128, out_channels=64, kernel_size=3),            # [batch_size,128,106,106] -> [batch_size,64,104,104]\n",
        "            nn.BatchNorm2d(64),\n",
        "            nn.ReLU(),\n",
        "            nn.Dropout(0.4),\n",
        "            nn.MaxPool2d(kernel_size=2, stride=2),                                 # [batch_size,64,104,104] -> [batch_size,64,52,52]\n",
        "            nn.Conv2d(in_channels=64, out_channels=32, kernel_size=3),            # [batch_size,64,52,52] -> [batch_size,32,50,50]\n",
        "            nn.BatchNorm2d(32),\n",
        "            nn.ReLU(),\n",
        "            nn.MaxPool2d(kernel_size=2, stride=2),                                 # [batch_size,32,50,50] -> [batch_size,32,25,25]\n",
        "            nn.Conv2d(in_channels=32, out_channels=16, kernel_size=3),            # [batch_size,32,25,25] -> [batch_size,16,23,23]\n",
        "            nn.BatchNorm2d(16),\n",
        "            nn.ReLU()                              \n",
        "        )\n",
        "\n",
        "        self.avgpool = nn.AdaptiveAvgPool2d((1,1))\n",
        "        \n",
        "        self.fc_layer = nn.Sequential(                                            # classifier는 full connected layer, full connected layer 넣기 위해 일자로 펴준 다음에 linear 넣으면 됨\n",
        "            nn.Linear(16*23*23,100),                                                # [batch_size,16*18*18] -> [batch_size,100]\n",
        "            nn.ReLU(),\n",
        "            nn.Linear(100,10)                                                      # [batch_size,100] -> [batch_size,10]\n",
        "        )\n",
        "\n",
        "    def forward(self, x):\n",
        "        # forward pass 과정\n",
        "        out = self.layer(x)\n",
        "        out = self.avgpool(out)\n",
        "        out = out.view(out.size(0),-1)  # FC layer에 들어가기전, flatten! - view 함수 활용\n",
        "                                        # 가장 첫 차원인 batch_size는 유지하고 나머지 차원들을 하나로 합치기 - [batch_size,16,5,5] -> [batch_size,16*5*5]\n",
        "        out = self.fc_layer(out)\n",
        "        return out"
      ],
      "metadata": {
        "id": "ddY99XTuPxff"
      },
      "execution_count": null,
      "outputs": []
    },
    {
      "cell_type": "code",
      "source": [
        "#### 모델 정의 시 유념해야할 건 각 층의 결과물의 차원!\n",
        "#### 모델이 복잡해지면 복잡해질수록 이는 더욱 중요해지므로 레이어별로 도출되는 데이터의 크기를 써넣는 것을 추천 (안맞으면 에러남)\n",
        "\n",
        "\n",
        "class MyModel(nn.Module):\n",
        "    def __init__(self):\n",
        "        super(MyModel, self).__init__()\n",
        "\n",
        "        for m in self.modules():\n",
        "          if isinstance(m, nn.Conv2d):\n",
        "            nn.init.kaiming_normal_(m.weight, mode=\"fan_out\", nonlinearity=\"relu\")\n",
        "          elif isinstance(m, nn.BatchNorm2d):\n",
        "            nn.init.constant_(m.weight, 1)\n",
        "            nn.init.constant_(m.bias, 0)\n",
        "        \n",
        "        ##### Layer 정의 #####\n",
        "        self.layer = nn.Sequential(\n",
        "            # 맨처음 RGB 채널 3개이므로 가장 처음 in_channels = 3\n",
        "            # img의 가장 첫 차원이 batch_size 값은 계속해서 유지\n",
        "            # out_channels 는 필터 갯수 = feature 갯수, kernel_size는 필터 사이즈 padding은 default 0\n",
        "            nn.Conv2d(in_channels=3, out_channels=32, kernel_size=3, padding = 1, stride = 1),             # [batch_size,3,224,224] -> [batch_size,32,224,224]\n",
        "            nn.BatchNorm2d(32), \n",
        "            nn.ReLU(),\n",
        "            nn.Conv2d(in_channels=32, out_channels=32, kernel_size=3, padding=1, stride=1),            # [batch_size,32,224,224] -> [batch_size,32,224,224]\n",
        "            nn.BatchNorm2d(32),\n",
        "            nn.Dropout(0.5),\n",
        "            nn.ReLU(),\n",
        "            nn.MaxPool2d(kernel_size=2, stride=2),                                # [batch_size,32,224,224] -> [batch_size,32,112,112]\n",
        "            nn.Conv2d(in_channels=32, out_channels=64, kernel_size=3),           # [batch_size,32,112,112] -> [batch_size,64,110,110] \n",
        "            nn.BatchNorm2d(64),\n",
        "            nn.Dropout(0.5),\n",
        "            nn.ReLU(),\n",
        "            nn.Conv2d(in_channels=64, out_channels=128, kernel_size=3),            # [batch_size,64,110,110] -> [batch_size,128,108,108]\n",
        "            nn.BatchNorm2d(128),\n",
        "            nn.ReLU(),\n",
        "            nn.Dropout(0.5),\n",
        "            nn.MaxPool2d(kernel_size=2, stride=2),                                 # [batch_size,128,108,108] -> [batch_size,128,54,54]\n",
        "            nn.Conv2d(in_channels=128, out_channels=256, kernel_size=3, padding=1, stride=1),            # [batch_size,128,54,54] -> [batch_size,256,54,54]\n",
        "            nn.BatchNorm2d(256),\n",
        "            nn.ReLU(),\n",
        "            nn.Dropout(0.5),\n",
        "            nn.Conv2d(in_channels=256, out_channels=512, kernel_size=3, padding=1, stride=1),            # [batch_size,256,54,54] -> [batch_size,512,54,54]\n",
        "            nn.BatchNorm2d(512),\n",
        "            nn.ReLU(),\n",
        "            nn.Dropout(0.5),\n",
        "            nn.Conv2d(in_channels=512, out_channels=256, kernel_size=3, padding=1, stride=1),            # [batch_size,512,54,54] -> [batch_size,256,54,54]\n",
        "            nn.BatchNorm2d(256),\n",
        "            nn.ReLU(),\n",
        "            nn.Dropout(0.4),\n",
        "            nn.Conv2d(in_channels=256, out_channels=128, kernel_size=3, padding=1, stride=1),            # [batch_size,256,54,54] -> [batch_size,128,54,54]\n",
        "            nn.BatchNorm2d(128),\n",
        "            nn.ReLU(),\n",
        "            nn.Dropout(0.4),\n",
        "            nn.Conv2d(in_channels=128, out_channels=64, kernel_size=3, padding=1, stride=1),            # [batch_size,128,54,54] -> [batch_size,64,54,54]\n",
        "            nn.BatchNorm2d(64),\n",
        "            nn.ReLU(),\n",
        "            nn.Dropout(0.4),\n",
        "            nn.Conv2d(in_channels=64, out_channels=32, kernel_size=3),            # [batch_size,64,54,54] -> [batch_size,32,52,52]\n",
        "            nn.BatchNorm2d(32),\n",
        "            nn.ReLU(),\n",
        "            nn.MaxPool2d(kernel_size=2, stride=2),                                 # [batch_size,32,52,52] -> [batch_size,32,26,26]\n",
        "            nn.Conv2d(in_channels=32, out_channels=16, kernel_size=3),            # [batch_size,32,26,26] -> [batch_size,16,24,24]\n",
        "            nn.BatchNorm2d(16),\n",
        "            nn.Dropout(0.4),\n",
        "            nn.ReLU(),                             \n",
        "        )\n",
        "\n",
        "        self.avgpool = nn.AdaptiveAvgPool2d((1,1))\n",
        "\n",
        "        self.fc_layer = nn.Sequential(                                            # classifier는 full connected layer, full connected layer 넣기 위해 일자로 펴준 다음에 linear 넣으면 됨\n",
        "            nn.Linear(16*24*24,256),                                                # [batch_size,32*23*23] -> [batch_size,256]\n",
        "            nn.ReLU(),\n",
        "             nn.Linear(256,100),                                                # [batch_size,256] -> [batch_size,100]\n",
        "            nn.ReLU(),\n",
        "            nn.Linear(100,10)                                                      # [batch_size,100] -> [batch_size,10]\n",
        "        )\n",
        "\n",
        "    def forward(self, x):\n",
        "        # forward pass 과정\n",
        "        out = self.layer(x)\n",
        "        out = self.avgpool(x)\n",
        "        out = out.view(out.size(0),-1)  # FC layer에 들어가기전, flatten! - view 함수 활용\n",
        "                                        # 가장 첫 차원인 batch_size는 유지하고 나머지 차원들을 하나로 합치기 - [batch_size,16,5,5] -> [batch_size,16*5*5]\n",
        "        out = self.fc_layer(out)\n",
        "        return out"
      ],
      "metadata": {
        "id": "gePQiOUaz2Cm"
      },
      "execution_count": null,
      "outputs": []
    },
    {
      "cell_type": "code",
      "source": [
        "# SimpleCNN의 구조를 변경\n",
        "# 입력 채널: 3 출력 채널: 32 \n",
        "# 입력 채널: 32(앞 layer 출력 채널 수 그대로) 출력 채널: 임의\n",
        "# max pool 2d는 이미지 사이즈를 줄여주는 역할 \n",
        "\n",
        "class MyModel(nn.Module):\n",
        "\n",
        "    def __init__(self):\n",
        "        super().__init__()\n",
        "        \n",
        "        self.conv_layers = nn.Sequential(\n",
        "           nn.Conv2d( in_channels=3, out_channels=32, kernel_size=3, padding=1 ), # 3, 224x224 -> 32, 224x224\n",
        "           nn.BatchNorm2d(32),\n",
        "           nn.ReLU(),\n",
        "           \n",
        "           nn.Conv2d( in_channels=32, out_channels=32, kernel_size=3, padding=1 ), # 32, 224x224 -> 32, 224x224\n",
        "           nn.BatchNorm2d(32),\n",
        "           nn.ReLU(),\n",
        "           nn.MaxPool2d(2), # 32, 224x224 -> 32, 112x112\n",
        "\n",
        "           nn.Conv2d( in_channels=32, out_channels=64, kernel_size=3, padding=1 ), # 32, 112x112 -> 64, 112x112\n",
        "           nn.BatchNorm2d(64),\n",
        "           nn.ReLU(),\n",
        "           \n",
        "           nn.Conv2d( in_channels=64, out_channels=32, kernel_size=3, padding=1 ), # 64, 112x112 -> 32, 112x112\n",
        "           nn.BatchNorm2d(32),\n",
        "           nn.ReLU(),\n",
        "           nn.MaxPool2d(2), # 32, 112x112 -> 32, 56x56\n",
        "\n",
        "           nn.Conv2d( in_channels=32, out_channels=32, kernel_size=3), # 32, 56x56 -> 32, 54x54\n",
        "           nn.BatchNorm2d(32),\n",
        "           nn.ReLU(),\n",
        "           nn.MaxPool2d(2), # 32, 54x54 -> 32, 27x27,\n",
        "\n",
        "           nn.Conv2d( in_channels=32, out_channels=32, kernel_size=3, padding=1 ), # 32, 27x27 -> 32, 27x27\n",
        "           nn.BatchNorm2d(32),\n",
        "           nn.ReLU(),\n",
        "           nn.MaxPool2d(3), # 32, 27x27 -> 32, 9x9,\n",
        "\n",
        "           nn.Conv2d( in_channels=32, out_channels=32, kernel_size=3, padding=1 ), # 32, 9x9 -> 32, 9x9\n",
        "           nn.BatchNorm2d(32),\n",
        "           nn.ReLU(),\n",
        "\n",
        "           nn.Conv2d( in_channels=32, out_channels=32, kernel_size=3, padding=1 ), # 32, 9x9 -> 32, 9x9\n",
        "           nn.BatchNorm2d(32),\n",
        "           nn.ReLU(),\n",
        "           \n",
        "        )\n",
        "        \n",
        "        self.fc_layers = nn.Sequential(\n",
        "            nn.Linear( 32 * 9 * 9, 100 ), # 32 * 9 * 9 -> 100\n",
        "            nn.Dropout(p=0.9),\n",
        "            nn.Linear(100,10),\n",
        "            nn.Dropout(p=0.1)\n",
        "            \n",
        "            \n",
        "                   )\n",
        "       \n",
        "        \n",
        "    def forward(self, x):\n",
        "\n",
        "        x = self.conv_layers(x) \n",
        "        \n",
        "        x = x.view( x.size(0), -1 ) # flatten\n",
        "\n",
        "        x = self.fc_layers(x)\n",
        "\n",
        "        return x\n",
        "        \n",
        "\n"
      ],
      "metadata": {
        "id": "nb0C57_JvSY5"
      },
      "execution_count": 40,
      "outputs": []
    },
    {
      "cell_type": "code",
      "source": [
        "#Vggnet 구현\n",
        "# SimpleCNN의 구조를 변경\n",
        "# 입력 채널: 3 출력 채널: 32 \n",
        "# 입력 채널: 32(앞 layer 출력 채널 수 그대로) 출력 채널: 임의\n",
        "# max pool 2d는 이미지 사이즈를 줄여주는 역할 \n",
        "\n",
        "class MyModel(nn.Module):\n",
        "\n",
        "    def __init__(self):\n",
        "        super().__init__()\n",
        "        \n",
        "        self.conv_layers = nn.Sequential(\n",
        "           nn.Conv2d( in_channels=3, out_channels=64, kernel_size=3, padding=1 ), # 3, 224x224 -> 64, 224x224\n",
        "           nn.BatchNorm2d(64),\n",
        "           nn.ReLU(),\n",
        "           \n",
        "           nn.Conv2d( in_channels=64, out_channels=64, kernel_size=3, padding=1 ), # 64, 224x224 -> 64, 224x224\n",
        "           nn.BatchNorm2d(64),\n",
        "           nn.ReLU(),\n",
        "           nn.MaxPool2d(2), # 32, 224x224 -> 32, 112x112\n",
        "\n",
        "           nn.Conv2d( in_channels=64, out_channels=128, kernel_size=3, padding=1 ), # 64, 112x112 -> 128, 112x112\n",
        "           nn.BatchNorm2d(128),\n",
        "           nn.ReLU(),\n",
        "           \n",
        "           nn.Conv2d( in_channels=128, out_channels=128, kernel_size=3, padding=1 ), # 128, 112x112 -> 128, 112x112\n",
        "           nn.BatchNorm2d(128),\n",
        "           nn.ReLU(),\n",
        "\n",
        "\n",
        "           nn.Conv2d( in_channels=128, out_channels=128, kernel_size=3, padding=1 ), # 128, 112x112 -> 128, 112x112\n",
        "           nn.BatchNorm2d(128),\n",
        "           nn.ReLU(),\n",
        "           nn.MaxPool2d(2), # 128, 112x112 -> 128, 56x56\n",
        "\n",
        "           nn.Conv2d( in_channels=128, out_channels=256, kernel_size=3, padding=1), # 128, 56x56 -> 256, 56x56\n",
        "           nn.BatchNorm2d(256),\n",
        "           nn.ReLU(),\n",
        "\n",
        "           nn.Conv2d( in_channels=256, out_channels=256, kernel_size=3, padding=1), # 256, 56x56 -> 256, 56x56\n",
        "           nn.BatchNorm2d(256),\n",
        "           nn.ReLU(),\n",
        "\n",
        "           nn.Conv2d( in_channels=256, out_channels=256, kernel_size=3, padding=1), # 256, 56x56 -> 256, 56x56\n",
        "           nn.BatchNorm2d(256),\n",
        "           nn.ReLU(),\n",
        "           nn.MaxPool2d(2), # 256, 56x56 -> 256, 28x28\n",
        "\n",
        "           nn.Conv2d( in_channels=256, out_channels=512, kernel_size=3, padding=1), # 256, 28x28 -> 512, 28x28\n",
        "           nn.BatchNorm2d(512),\n",
        "           nn.ReLU(),\n",
        "           \n",
        "\n",
        "           nn.Conv2d( in_channels=512, out_channels=512, kernel_size=3, padding=1), # 512, 28x28 -> 512, 28x28\n",
        "           nn.BatchNorm2d(512),\n",
        "           nn.ReLU(),\n",
        "           \n",
        "\n",
        "           nn.Conv2d( in_channels=512, out_channels=512, kernel_size=3, padding=1), # 512, 28x28 -> 512, 28x28\n",
        "           nn.BatchNorm2d(512),\n",
        "           nn.ReLU(),\n",
        "           nn.MaxPool2d(2), # 512, 28x28 -> 512, 14x14\n",
        "\n",
        "           nn.Conv2d( in_channels=512, out_channels=512, kernel_size=3, padding=1), # 512, 14x14 -> 512, 14x14\n",
        "           nn.BatchNorm2d(512),\n",
        "           nn.ReLU(),\n",
        "           \n",
        "\n",
        "           nn.Conv2d( in_channels=512, out_channels=512, kernel_size=3, padding=1), # 512, 14x14 -> 512, 14x14\n",
        "           nn.BatchNorm2d(512),\n",
        "           nn.ReLU(),\n",
        "           \n",
        "\n",
        "           nn.Conv2d( in_channels=512, out_channels=512, kernel_size=3, padding=1), # 512, 14x14 -> 512, 14x14\n",
        "           nn.BatchNorm2d(512),\n",
        "           nn.ReLU(),\n",
        "           nn.MaxPool2d(2),# 512, 14x14 -> 512, 7x7\n",
        "\n",
        "           \n",
        "           \n",
        "        )\n",
        "        \n",
        "        self.fc_layers = nn.Sequential(\n",
        "            nn.Linear( 512 * 7 * 7, 512*1 ), # 512 * 7 * 7 -> 512\n",
        "            nn.ReLU(),\n",
        "            nn.Dropout(p=0.9),\n",
        "            nn.Linear(512,100),\n",
        "            nn.ReLU(),\n",
        "            nn.Dropout(p=0.1),\n",
        "            nn.Linear(100,10)\n",
        "            \n",
        "            \n",
        "                   )\n",
        "       \n",
        "        \n",
        "    def forward(self, x):\n",
        "\n",
        "        x = self.conv_layers(x) \n",
        "        \n",
        "        x = x.view( x.size(0), -1 ) # flatten\n",
        "\n",
        "        x = self.fc_layers(x)\n",
        "\n",
        "        return x\n",
        "        \n",
        "\n"
      ],
      "metadata": {
        "id": "_PP3AvOTm9RC"
      },
      "execution_count": null,
      "outputs": []
    },
    {
      "cell_type": "code",
      "source": [
        "def conv_2_block(in_dim,out_dim):\n",
        "    model = nn.Sequential(\n",
        "        nn.Conv2d(in_dim,out_dim,kernel_size=3,padding=1),\n",
        "        nn.ReLU(),\n",
        "        nn.Conv2d(out_dim,out_dim,kernel_size=3,padding=1),\n",
        "        nn.ReLU(),\n",
        "        nn.MaxPool2d(2,2)\n",
        "    )\n",
        "    return model"
      ],
      "metadata": {
        "id": "dVGyXnIjgoXJ"
      },
      "execution_count": null,
      "outputs": []
    },
    {
      "cell_type": "code",
      "source": [
        "def conv_3_block(in_dim,out_dim):\n",
        "    model = nn.Sequential(\n",
        "        nn.Conv2d(in_dim,out_dim,kernel_size=3,padding=1),\n",
        "        nn.ReLU(),\n",
        "        nn.Conv2d(out_dim,out_dim,kernel_size=3,padding=1),\n",
        "        nn.ReLU(),\n",
        "        nn.Conv2d(out_dim,out_dim,kernel_size=3,padding=1),\n",
        "        nn.ReLU(),\n",
        "        nn.MaxPool2d(2,2)\n",
        "    )\n",
        "    return model"
      ],
      "metadata": {
        "id": "KA_arVzNgofI"
      },
      "execution_count": null,
      "outputs": []
    },
    {
      "cell_type": "code",
      "source": [
        "class MyModel(nn.Module):\n",
        "    def __init__(self):\n",
        "        super(MyModel, self).__init__()\n",
        "        self.feature = nn.Sequential(\n",
        "            conv_2_block(3,64), #64\n",
        "            conv_2_block(64,2*64), #128\n",
        "            conv_3_block(2*64,4*64), #256\n",
        "            conv_3_block(4*64,8*64), #512\n",
        "            conv_3_block(8*64,8*64), #512        \n",
        "        )\n",
        "        self.fc_layer = nn.Sequential(\n",
        "             \n",
        "            nn.Linear(8*64*224*224, 4096),\n",
        "            \n",
        "            # nn.Linear(8*base_dim*7*7, 4096),\n",
        "            nn.ReLU(True),\n",
        "            nn.Dropout(),\n",
        "            nn.Linear(4096, 1000),\n",
        "            nn.ReLU(True),\n",
        "            nn.Dropout(),\n",
        "            nn.Linear(1000, 10),\n",
        "        )\n",
        "\n",
        "    def forward(self, x):\n",
        "        x = self.feature(x)\n",
        "        #print(x.shape)\n",
        "        x = x.view(x.size(0), -1)\n",
        "        #print(x.shape)\n",
        "        x = self.fc_layer(x)\n",
        "        return x"
      ],
      "metadata": {
        "id": "W_n9lrdggomR"
      },
      "execution_count": null,
      "outputs": []
    },
    {
      "cell_type": "code",
      "source": [
        "# torchsummary로 모델 차원 어떻게 나오는지 돌려보기"
      ],
      "metadata": {
        "id": "K_AvhGgTCXO7"
      },
      "execution_count": null,
      "outputs": []
    },
    {
      "cell_type": "code",
      "source": [
        "!pip install torchsummary"
      ],
      "metadata": {
        "colab": {
          "base_uri": "https://localhost:8080/"
        },
        "id": "EC93w5RoP79_",
        "outputId": "eec1de01-eb22-43a9-99cb-fda316343d28"
      },
      "execution_count": null,
      "outputs": [
        {
          "output_type": "stream",
          "name": "stdout",
          "text": [
            "Looking in indexes: https://pypi.org/simple, https://us-python.pkg.dev/colab-wheels/public/simple/\n",
            "Requirement already satisfied: torchsummary in /usr/local/lib/python3.7/dist-packages (1.5.1)\n"
          ]
        }
      ]
    },
    {
      "cell_type": "code",
      "source": [
        "# 아래 코드가 보통 device 할당하는 방식\n",
        "# colab일 경우, 무거운 모델을 돌린다면 런타임 -> 런타임 유형 변경 -> GPU 로 설정하고 돌리는걸 강추\n",
        "device = torch.device(\"cuda:0\" if torch.cuda.is_available() else \"cpu\")\n",
        "device"
      ],
      "metadata": {
        "colab": {
          "base_uri": "https://localhost:8080/"
        },
        "id": "TcTA7xmIEqXI",
        "outputId": "3cb9175d-72c8-40c4-ba5c-935b3a8e2119"
      },
      "execution_count": 41,
      "outputs": [
        {
          "output_type": "execute_result",
          "data": {
            "text/plain": [
              "device(type='cuda', index=0)"
            ]
          },
          "metadata": {},
          "execution_count": 41
        }
      ]
    },
    {
      "cell_type": "code",
      "source": [
        "# 모델 구조 파악할 수 있는 torchsummary의 summary 함수\n",
        "# 전체적인 구조, param 개수, 용량 등 확인할 수 있음\n",
        "# 이게 잘나와야 CNN 모델 차원 알맞게 정의한것 - 차원 맞지 않다면 여기서 에러뜸\n",
        "\n",
        "from torchsummary import summary\n",
        "test_model = MyModel().to(device) # 모델 객체 선언\n",
        "summary(test_model,(3,224,224),batch_size=32) # Recall) Tensor는 C, H, W 순서로 이미지 가짐"
      ],
      "metadata": {
        "id": "UO41nJtLP-VW",
        "colab": {
          "base_uri": "https://localhost:8080/"
        },
        "outputId": "2458261a-78ff-4313-be1f-04b632ecd966"
      },
      "execution_count": 42,
      "outputs": [
        {
          "output_type": "stream",
          "name": "stdout",
          "text": [
            "----------------------------------------------------------------\n",
            "        Layer (type)               Output Shape         Param #\n",
            "================================================================\n",
            "            Conv2d-1         [32, 32, 224, 224]             896\n",
            "       BatchNorm2d-2         [32, 32, 224, 224]              64\n",
            "              ReLU-3         [32, 32, 224, 224]               0\n",
            "            Conv2d-4         [32, 32, 224, 224]           9,248\n",
            "       BatchNorm2d-5         [32, 32, 224, 224]              64\n",
            "              ReLU-6         [32, 32, 224, 224]               0\n",
            "         MaxPool2d-7         [32, 32, 112, 112]               0\n",
            "            Conv2d-8         [32, 64, 112, 112]          18,496\n",
            "       BatchNorm2d-9         [32, 64, 112, 112]             128\n",
            "             ReLU-10         [32, 64, 112, 112]               0\n",
            "           Conv2d-11         [32, 32, 112, 112]          18,464\n",
            "      BatchNorm2d-12         [32, 32, 112, 112]              64\n",
            "             ReLU-13         [32, 32, 112, 112]               0\n",
            "        MaxPool2d-14           [32, 32, 56, 56]               0\n",
            "           Conv2d-15           [32, 32, 54, 54]           9,248\n",
            "      BatchNorm2d-16           [32, 32, 54, 54]              64\n",
            "             ReLU-17           [32, 32, 54, 54]               0\n",
            "        MaxPool2d-18           [32, 32, 27, 27]               0\n",
            "           Conv2d-19           [32, 32, 27, 27]           9,248\n",
            "      BatchNorm2d-20           [32, 32, 27, 27]              64\n",
            "             ReLU-21           [32, 32, 27, 27]               0\n",
            "        MaxPool2d-22             [32, 32, 9, 9]               0\n",
            "           Conv2d-23             [32, 32, 9, 9]           9,248\n",
            "      BatchNorm2d-24             [32, 32, 9, 9]              64\n",
            "             ReLU-25             [32, 32, 9, 9]               0\n",
            "           Conv2d-26             [32, 32, 9, 9]           9,248\n",
            "      BatchNorm2d-27             [32, 32, 9, 9]              64\n",
            "             ReLU-28             [32, 32, 9, 9]               0\n",
            "           Linear-29                  [32, 100]         259,300\n",
            "          Dropout-30                  [32, 100]               0\n",
            "           Linear-31                   [32, 10]           1,010\n",
            "          Dropout-32                   [32, 10]               0\n",
            "================================================================\n",
            "Total params: 344,982\n",
            "Trainable params: 344,982\n",
            "Non-trainable params: 0\n",
            "----------------------------------------------------------------\n",
            "Input size (MB): 18.38\n",
            "Forward/backward pass size (MB): 3452.11\n",
            "Params size (MB): 1.32\n",
            "Estimated Total Size (MB): 3471.80\n",
            "----------------------------------------------------------------\n"
          ]
        }
      ]
    },
    {
      "cell_type": "code",
      "source": [
        "# Device 선언 (GPU 권장)"
      ],
      "metadata": {
        "id": "A99ALViSCbmI"
      },
      "execution_count": null,
      "outputs": []
    },
    {
      "cell_type": "code",
      "source": [
        "# 아래 코드가 보통 device 할당하는 방식\n",
        "# colab일 경우, 무거운 모델을 돌린다면 런타임 -> 런타임 유형 변경 -> GPU 로 설정하고 돌리는걸 강추\n",
        "device = torch.device(\"cuda:0\" if torch.cuda.is_available() else \"cpu\")\n",
        "device"
      ],
      "metadata": {
        "colab": {
          "base_uri": "https://localhost:8080/"
        },
        "id": "PmtNAL2YQSXL",
        "outputId": "fd317f3c-0bc5-48b4-f9bf-5c3cf1bd487f"
      },
      "execution_count": null,
      "outputs": [
        {
          "output_type": "execute_result",
          "data": {
            "text/plain": [
              "device(type='cpu')"
            ]
          },
          "metadata": {},
          "execution_count": 34
        }
      ]
    },
    {
      "cell_type": "code",
      "source": [
        "# 모델 객체 선언"
      ],
      "metadata": {
        "id": "FmZYSSBFCfOU"
      },
      "execution_count": null,
      "outputs": []
    },
    {
      "cell_type": "code",
      "source": [
        "# to(device) : 모델을 device 위에서 돌릴거임\n",
        "mymodel = MyModel().to(device)\n",
        "mymodel"
      ],
      "metadata": {
        "colab": {
          "base_uri": "https://localhost:8080/"
        },
        "id": "fFCPtb7lcQG-",
        "outputId": "13ea3f5e-2be7-4144-ba1d-1426d5805992"
      },
      "execution_count": 43,
      "outputs": [
        {
          "output_type": "execute_result",
          "data": {
            "text/plain": [
              "MyModel(\n",
              "  (conv_layers): Sequential(\n",
              "    (0): Conv2d(3, 32, kernel_size=(3, 3), stride=(1, 1), padding=(1, 1))\n",
              "    (1): BatchNorm2d(32, eps=1e-05, momentum=0.1, affine=True, track_running_stats=True)\n",
              "    (2): ReLU()\n",
              "    (3): Conv2d(32, 32, kernel_size=(3, 3), stride=(1, 1), padding=(1, 1))\n",
              "    (4): BatchNorm2d(32, eps=1e-05, momentum=0.1, affine=True, track_running_stats=True)\n",
              "    (5): ReLU()\n",
              "    (6): MaxPool2d(kernel_size=2, stride=2, padding=0, dilation=1, ceil_mode=False)\n",
              "    (7): Conv2d(32, 64, kernel_size=(3, 3), stride=(1, 1), padding=(1, 1))\n",
              "    (8): BatchNorm2d(64, eps=1e-05, momentum=0.1, affine=True, track_running_stats=True)\n",
              "    (9): ReLU()\n",
              "    (10): Conv2d(64, 32, kernel_size=(3, 3), stride=(1, 1), padding=(1, 1))\n",
              "    (11): BatchNorm2d(32, eps=1e-05, momentum=0.1, affine=True, track_running_stats=True)\n",
              "    (12): ReLU()\n",
              "    (13): MaxPool2d(kernel_size=2, stride=2, padding=0, dilation=1, ceil_mode=False)\n",
              "    (14): Conv2d(32, 32, kernel_size=(3, 3), stride=(1, 1))\n",
              "    (15): BatchNorm2d(32, eps=1e-05, momentum=0.1, affine=True, track_running_stats=True)\n",
              "    (16): ReLU()\n",
              "    (17): MaxPool2d(kernel_size=2, stride=2, padding=0, dilation=1, ceil_mode=False)\n",
              "    (18): Conv2d(32, 32, kernel_size=(3, 3), stride=(1, 1), padding=(1, 1))\n",
              "    (19): BatchNorm2d(32, eps=1e-05, momentum=0.1, affine=True, track_running_stats=True)\n",
              "    (20): ReLU()\n",
              "    (21): MaxPool2d(kernel_size=3, stride=3, padding=0, dilation=1, ceil_mode=False)\n",
              "    (22): Conv2d(32, 32, kernel_size=(3, 3), stride=(1, 1), padding=(1, 1))\n",
              "    (23): BatchNorm2d(32, eps=1e-05, momentum=0.1, affine=True, track_running_stats=True)\n",
              "    (24): ReLU()\n",
              "    (25): Conv2d(32, 32, kernel_size=(3, 3), stride=(1, 1), padding=(1, 1))\n",
              "    (26): BatchNorm2d(32, eps=1e-05, momentum=0.1, affine=True, track_running_stats=True)\n",
              "    (27): ReLU()\n",
              "  )\n",
              "  (fc_layers): Sequential(\n",
              "    (0): Linear(in_features=2592, out_features=100, bias=True)\n",
              "    (1): Dropout(p=0.9, inplace=False)\n",
              "    (2): Linear(in_features=100, out_features=10, bias=True)\n",
              "    (3): Dropout(p=0.1, inplace=False)\n",
              "  )\n",
              ")"
            ]
          },
          "metadata": {},
          "execution_count": 43
        }
      ]
    },
    {
      "cell_type": "code",
      "source": [
        "# loss func, optimizer 정의"
      ],
      "metadata": {
        "id": "CFk7o_fuCgc7"
      },
      "execution_count": null,
      "outputs": []
    },
    {
      "cell_type": "code",
      "source": [
        "criterion = nn.CrossEntropyLoss().to(device) # criterion (loss func)도 device 위에서 분류니까 CrossEntropyLoss\n",
        "optimizer = torch.optim.Adam(mymodel.parameters(), lr=0.001) # 보통 Adam의 learning rate로 0.001 사용 , weight_decay=0.0001\n",
        "                                                                                  # weight_decay = L2 Regularization의 lambda값 (가중치 제한 정도) 처음에는 빼고 돌리고 overfitting 발생하면 추가할 것"
      ],
      "metadata": {
        "id": "tjizx-OycWPp"
      },
      "execution_count": 44,
      "outputs": []
    },
    {
      "cell_type": "code",
      "source": [
        "# train 함수 정의"
      ],
      "metadata": {
        "id": "-ENGsLI3CksA"
      },
      "execution_count": null,
      "outputs": []
    },
    {
      "cell_type": "code",
      "source": [
        "with torch.no_grad():\n",
        "    for i, (inputs, targets) in enumerate(trainloader_animals):\n",
        "        inputs, targets = inputs.to(device), targets.to(device)\n",
        "        print(inputs.shape)  # batch_size개의 이미지\n",
        "        print(targets.shape) # batch_size개의 클래스\n",
        "\n",
        "        outputs = mymodel(inputs)\n",
        "        print(outputs.shape) # outputs는 32, 10 차원 (32개 data의 확률 10개씩)\n",
        "        print(targets.shape) # targets는 32차원 (32개 data의 실제 클래스)\n",
        "\n",
        "        loss = criterion(outputs, targets)  # -> cross entropy 식에 넣을때 이런 형태로 넣으면됨 (outputs, targets의 차원을 맞출 필요가 없음)\n",
        "        print(loss.item())\n",
        "\n",
        "        print(outputs.max(1)[1]) # 예측한 클래스\n",
        "        print(targets) # 실제 클래스\n",
        "        correct = (outputs.max(1)[1] == targets).sum().item() # 맞게 예측한 클래스 개수\n",
        "        print(correct)\n",
        "        break"
      ],
      "metadata": {
        "colab": {
          "base_uri": "https://localhost:8080/"
        },
        "id": "45EoYaI5caSp",
        "outputId": "7abbba19-c4fb-4d85-d522-1ebd0e608f69"
      },
      "execution_count": 45,
      "outputs": [
        {
          "output_type": "stream",
          "name": "stdout",
          "text": [
            "torch.Size([32, 3, 224, 224])\n",
            "torch.Size([32])\n",
            "torch.Size([32, 10])\n",
            "torch.Size([32])\n",
            "2.5710370540618896\n",
            "tensor([3, 7, 3, 4, 4, 5, 4, 7, 4, 4, 8, 7, 1, 5, 7, 9, 5, 9, 8, 8, 6, 5, 4, 1,\n",
            "        1, 8, 7, 4, 7, 7, 1, 3], device='cuda:0')\n",
            "tensor([2, 2, 2, 8, 4, 7, 1, 9, 2, 3, 1, 6, 2, 4, 6, 3, 6, 9, 8, 0, 0, 2, 6, 3,\n",
            "        0, 2, 7, 8, 7, 4, 2, 2], device='cuda:0')\n",
            "5\n"
          ]
        }
      ]
    },
    {
      "cell_type": "code",
      "source": [
        "# 추후 시각화를 위해 매 epoch마다 loss, accuracy 값을 저장할 리스트\n",
        "# 이거 빼먹고 train 돌리면...\n",
        "seq_train_loss = []\n",
        "seq_test_loss = []\n",
        "seq_train_acc = []\n",
        "seq_test_acc = []"
      ],
      "metadata": {
        "id": "jOQGh_xlcjzp"
      },
      "execution_count": null,
      "outputs": []
    },
    {
      "cell_type": "code",
      "source": [
        "def train(epoch):\n",
        "    print(f'\\n[ Train epoch: {epoch+1} ]')\n",
        "\n",
        "    mymodel.train() # train은 항상 이걸 지정하고 시작! - Dropout, Batch Normalization 등의 효과를 적용하고 진행하기 위함\n",
        "\n",
        "    running_loss = 0.0\n",
        "    batch_losses = []\n",
        "    total = 0\n",
        "    correct = 0\n",
        "\n",
        "    for batch_idx, (inputs, targets) in enumerate(trainloader_animals):\n",
        "        inputs, targets = inputs.to(device), targets.to(device) # dataloader의 input image와 label도 device에 넣어줘야됨\n",
        "        \n",
        "        # DL 학습 기본 코드\n",
        "        optimizer.zero_grad() # gradient 초기화\n",
        "        outputs = mymodel(inputs) # 현재 batch의 inputs을 모델에 넣어 outputs 추출 (확률값)\n",
        "        loss = criterion(outputs, targets) # 추출한 outputs와 원래 label인 targets 사이 loss 계산\n",
        "        loss.backward() # 계산한 loss 기반으로 gradient 값 계산\n",
        "        optimizer.step() # weight parameter update\n",
        "\n",
        "        total += targets.size(0) # batch 데이터 개수 더하기\n",
        "        running_loss += loss.item()\n",
        "        batch_losses.append(loss.item())\n",
        "        \n",
        "        _, predicted = outputs.max(1) # 확률값 가장 높게 나타난 클래스\n",
        "        correct += (predicted == targets).sum().item() # 현재 batch 내에서 알맞게 분류한 이미지 개수 더하기\n",
        "        \n",
        "        if batch_idx % 500 == 499:\n",
        "            print(f'\\nCurrent batch: {str(batch_idx+1)}')\n",
        "            print(f'Average train loss of recent 500 batches: {running_loss / 500}') # 이렇게 출력하는 것이 꼭 필요한 것은 아니지만, 중간중간 확인을 위해 매우 권장\n",
        "            running_loss = 0.0\n",
        "\n",
        "    avg_loss = sum(batch_losses) / len(batch_losses)\n",
        "    seq_train_loss.append(avg_loss)\n",
        "    seq_train_acc.append(100*correct/total)\n",
        "    print('\\nTotal train accuarcy:', 100. * correct / total) # 전체 데이터 개수에서 맞게 예측한 비율\n",
        "    print('Total train loss:', avg_loss)"
      ],
      "metadata": {
        "id": "Hnx9Mr-DcsgU"
      },
      "execution_count": 47,
      "outputs": []
    },
    {
      "cell_type": "code",
      "source": [
        "# test 함수 정의"
      ],
      "metadata": {
        "id": "zxKTZ7oACnGs"
      },
      "execution_count": null,
      "outputs": []
    },
    {
      "cell_type": "code",
      "source": [
        "def test(epoch):\n",
        "    print(f'\\n[ Test epoch: {epoch+1} ]')\n",
        "\n",
        "    mymodel.eval() # eval은 항상 이걸 지정하고 시작! - Dropout, Batch Normalization 등의 효과를 적용하지 않기 위함!\n",
        "                   # ex. evaluation 할때는 Dropout 없이 지금까지 학습한 모든 node를 활용해서 진행해야됨\n",
        "\n",
        "    loss = 0\n",
        "    batch_losses = []\n",
        "    correct = 0\n",
        "    total = 0\n",
        "\n",
        "    with torch.no_grad(): # gradient update 안함 - eval과 torch.no_grad는 하나의 세트\n",
        "        for batch_idx, (inputs, targets) in enumerate(testloader_animals):\n",
        "            inputs, targets = inputs.to(device), targets.to(device)\n",
        "\n",
        "            outputs = mymodel(inputs)\n",
        "            loss = criterion(outputs, targets)\n",
        "            batch_losses.append(loss.item())\n",
        "\n",
        "            total += targets.size(0)\n",
        "            _, predicted = outputs.max(1)\n",
        "            correct += (predicted == targets).sum().item()\n",
        "\n",
        "    avg_loss = sum(batch_losses) / len(batch_losses)\n",
        "    seq_test_loss.append(avg_loss)\n",
        "    seq_test_acc.append(100 * correct / total)\n",
        "    print('\\nTest accuarcy:', 100. * correct / total)\n",
        "    print('Test average loss:', avg_loss)"
      ],
      "metadata": {
        "id": "WeZ57Yrwcof7"
      },
      "execution_count": 48,
      "outputs": []
    },
    {
      "cell_type": "code",
      "source": [
        "# training"
      ],
      "metadata": {
        "id": "Y2AB6X97Cx4s"
      },
      "execution_count": null,
      "outputs": []
    },
    {
      "cell_type": "code",
      "source": [
        "num_epoch = 20"
      ],
      "metadata": {
        "id": "Xb9zdQuNcwym"
      },
      "execution_count": 68,
      "outputs": []
    },
    {
      "cell_type": "code",
      "source": [
        "\n",
        "for epoch in range(0, num_epoch):\n",
        "    train(epoch)\n",
        "    test(epoch)\n",
        "\n",
        "# model 저장! - parameter값 저장 모델 저장해서 사용 가능\n",
        "torch.save(mymodel.state_dict(), './mymodel_animals10.pt')\n",
        "print('Model Saved!')"
      ],
      "metadata": {
        "colab": {
          "base_uri": "https://localhost:8080/"
        },
        "id": "BgRUz8YCcw37",
        "outputId": "974822e6-9f8d-4c3b-b37a-399e21c9e414"
      },
      "execution_count": null,
      "outputs": [
        {
          "output_type": "stream",
          "name": "stdout",
          "text": [
            "\n",
            "[ Train epoch: 1 ]\n",
            "\n",
            "Total train accuarcy: 62.05832336083643\n",
            "Total train loss: 0.9971356838042108\n",
            "\n",
            "[ Test epoch: 1 ]\n",
            "\n",
            "Test accuarcy: 65.60341026017933\n",
            "Test average loss: 0.8285039629035152\n",
            "\n",
            "[ Train epoch: 2 ]\n",
            "\n",
            "Total train accuarcy: 61.62373244315677\n",
            "Total train loss: 0.9852763732194421\n",
            "\n",
            "[ Test epoch: 2 ]\n",
            "\n",
            "Test accuarcy: 66.33838012641482\n",
            "Test average loss: 0.8086941499315518\n",
            "\n",
            "[ Train epoch: 3 ]\n",
            "\n",
            "Total train accuarcy: 62.44882534483845\n",
            "Total train loss: 0.98307725289458\n",
            "\n",
            "[ Test epoch: 3 ]\n",
            "\n",
            "Test accuarcy: 64.91253858591797\n",
            "Test average loss: 0.8555024337950446\n",
            "\n",
            "[ Train epoch: 4 ]\n",
            "\n",
            "Total train accuarcy: 62.99048938716382\n",
            "Total train loss: 0.9787857244072306\n",
            "\n",
            "[ Test epoch: 4 ]\n",
            "\n",
            "Test accuarcy: 65.03013376451565\n",
            "Test average loss: 0.8723867697195268\n",
            "\n",
            "[ Train epoch: 5 ]\n"
          ]
        }
      ]
    },
    {
      "cell_type": "code",
      "source": [
        "# model 불러오기 - 다른 파일에서 이렇게 학습한 모델 사용하고 싶다면\n",
        "pretrained = MyModel()\n",
        "pretrained.load_state_dict(torch.load('./mymodel_animals10.pt'))"
      ],
      "metadata": {
        "id": "x1i4L-Rtc0VW"
      },
      "execution_count": null,
      "outputs": []
    },
    {
      "cell_type": "code",
      "source": [
        "# loss, accuracy 추이 확인 with plt.plot"
      ],
      "metadata": {
        "id": "ZwJHGOY9Czzh"
      },
      "execution_count": null,
      "outputs": []
    },
    {
      "cell_type": "code",
      "source": [
        "seq_train_loss"
      ],
      "metadata": {
        "id": "oG263LW6Y_nl",
        "colab": {
          "base_uri": "https://localhost:8080/"
        },
        "outputId": "661116e9-b0f5-4b5f-99ab-d43ec2db4f49"
      },
      "execution_count": 63,
      "outputs": [
        {
          "output_type": "execute_result",
          "data": {
            "text/plain": [
              "[1.175584184571771,\n",
              " 1.1592533314971616,\n",
              " 1.1435476479156157,\n",
              " 1.1403800036825644,\n",
              " 1.1052674762679777,\n",
              " 1.1043367518985296,\n",
              " 1.1036152472678324,\n",
              " 1.2238895644844179,\n",
              " 1.122494008939271,\n",
              " 1.0583516857034003]"
            ]
          },
          "metadata": {},
          "execution_count": 63
        }
      ]
    },
    {
      "cell_type": "code",
      "source": [
        "plt.plot(range(num_epoch), seq_train_loss, label=\"Train loss\")\n",
        "plt.plot(range(num_epoch), seq_test_loss, label=\"Test loss\")\n",
        "plt.legend()\n",
        "plt.xlabel('Epoch')\n",
        "plt.ylabel('Loss')\n",
        "\n",
        "plt.show()"
      ],
      "metadata": {
        "id": "n_zbNLYqc2qW",
        "colab": {
          "base_uri": "https://localhost:8080/",
          "height": 279
        },
        "outputId": "306abbac-0eac-48ba-ed64-f7683d16053c"
      },
      "execution_count": 64,
      "outputs": [
        {
          "output_type": "display_data",
          "data": {
            "text/plain": [
              "<Figure size 432x288 with 1 Axes>"
            ],
            "image/png": "[encoded data removed]"
          },
          "metadata": {
            "needs_background": "light"
          }
        }
      ]
    },
    {
      "cell_type": "code",
      "source": [
        "seq_train_acc"
      ],
      "metadata": {
        "id": "uSvyEH-Lc4Bv",
        "colab": {
          "base_uri": "https://localhost:8080/"
        },
        "outputId": "9886446d-5b71-4da5-d7f1-f9abe4c4a227"
      },
      "execution_count": 65,
      "outputs": [
        {
          "output_type": "execute_result",
          "data": {
            "text/plain": [
              "[56.70466712855073,\n",
              " 57.30931536184418,\n",
              " 57.5234616111356,\n",
              " 57.94545569062166,\n",
              " 58.80833910688417,\n",
              " 58.550103923915096,\n",
              " 59.15475215720854,\n",
              " 55.74100900673931,\n",
              " 58.10291616804182,\n",
              " 60.48371858663476]"
            ]
          },
          "metadata": {},
          "execution_count": 65
        }
      ]
    },
    {
      "cell_type": "code",
      "source": [
        "plt.plot(range(num_epoch), seq_train_acc, label=\"Train Accuracy\")\n",
        "plt.plot(range(num_epoch), seq_test_acc, label=\"Test Accuracy\")\n",
        "plt.legend()\n",
        "plt.xlabel('Epoch')\n",
        "plt.ylabel('Accuracy')\n",
        "plt.show()"
      ],
      "metadata": {
        "id": "jnF0IDsUc5Hs",
        "colab": {
          "base_uri": "https://localhost:8080/",
          "height": 279
        },
        "outputId": "a9b16fdb-4c2c-46eb-bcdd-8d4a7f0f3443"
      },
      "execution_count": 66,
      "outputs": [
        {
          "output_type": "display_data",
          "data": {
            "text/plain": [
              "<Figure size 432x288 with 1 Axes>"
            ],
            "image/png": "[encoded data removed]"
          },
          "metadata": {
            "needs_background": "light"
          }
        }
      ]
    },
    {
      "cell_type": "code",
      "source": [
        "'''\n",
        "conv layer 7개로 간단하게 모델 구성 maxpool 2번\n",
        "파라미터 천 만개로 매우 많은 편 -> overfitting 발생할 수도 \n",
        "일단 최대한 해보자\n",
        "fc layer 파라미터 줄여보기 32*9*9\n",
        "\n",
        "그 후 \n",
        "conv layer를 8개로 추가해서 학습 진행\n",
        "train보다 test가 더 좋은 상황?? 이 발생했는데 정확한 원인은 알 수 없었다. 모델이 test set으로 분류된 이미지에 더 적합했을까?\n",
        "조금씩 학습이 되는 중...\n",
        "하지만 학습이 더디고 60%대를 넘지 못 하는 것 같아 모델의 한계를 보임\n",
        "학습이 너무 더딘 게 아쉽다\n",
        "\n",
        "\n",
        "시간 상 기존에 존재하는 모델인 vggnet 모델을 구현해서 마지막으로 test를 해보고 싶었는데 그러지 못 해서 아쉬웠다\n",
        "기존에 존재하는 모델이 얼마나 뛰어난지도 꼭 확인해보고 싶다\n",
        "vggnet 모델을 구현해서 학습을 시켜보자(final)\n",
        "\n",
        "느낀 점 \n",
        "파라미터 갯수가 꼭 중요한 건 아니다\n",
        "모델이 너무 복잡하면 overfitting 문제가 발생할 수 있다\n",
        "ovrefitting 문제를 잡아내는 일도 쉽지 않았다(train accuracy가 78%대까지 간 적 있었으나 test accuracy는 50%인 적이 있었다)\n",
        "모델을 처음부터 직접 구성해보는 건 쉽지 않은 일이다\n",
        "'''"
      ],
      "metadata": {
        "id": "eSLkDMz37JH0"
      },
      "execution_count": null,
      "outputs": []
    },
    {
      "cell_type": "code",
      "source": [],
      "metadata": {
        "id": "gT8jpw978BVN"
      },
      "execution_count": null,
      "outputs": []
    }
  ]
}