{
  "cells": [
    {
      "cell_type": "markdown",
      "metadata": {
        "id": "d2ENRS4E9_xy"
      },
      "source": [
        "# 1. 폴더 정리\n",
        "\n",
        "* 제공해드린 animals10.zip의 압축을 풀어 그 내용을 살펴보시고, 폴더 구조를 학습에 알맞도록 재구성해주세요\n",
        "* 특히 각 클래스마다 약 30% 정도의 이미지를 test 폴더에 할당해주세요\n",
        "* 중간중간 헷갈리다면 이것저것 확인하는 코드를 거쳐보세요 (ex. flat_test[:5]로 앞의 다섯값 확인)\n",
        "* 궁금한 점이 있을 경우, 슬랙 질문 채널 활용을 적극 권장합니다."
      ]
    },
    {
      "cell_type": "code",
      "execution_count": null,
      "metadata": {
        "colab": {
          "base_uri": "https://localhost:8080/"
        },
        "id": "PCP0Czc8Mos2",
        "outputId": "f8416889-cbb4-4884-ec90-aaf26ec68d05"
      },
      "outputs": [
        {
          "output_type": "stream",
          "name": "stdout",
          "text": [
            "Mounted at /content/drive\n"
          ]
        }
      ],
      "source": [
        "from google.colab import drive\n",
        "drive.mount('/content/drive')"
      ]
    },
    {
      "cell_type": "code",
      "execution_count": null,
      "metadata": {
        "id": "6vpRliv1M9Yx"
      },
      "outputs": [],
      "source": [
        "import os\n",
        "import glob\n",
        "import shutil"
      ]
    },
    {
      "cell_type": "code",
      "execution_count": null,
      "metadata": {
        "id": "muXTsoRqSRVX"
      },
      "outputs": [],
      "source": [
        "# 압축 풀기\n",
        "!unzip -qq \"/content/drive/MyDrive/[0823] CNN/animals10.zip\""
      ]
    },
    {
      "cell_type": "code",
      "execution_count": null,
      "metadata": {
        "colab": {
          "base_uri": "https://localhost:8080/"
        },
        "id": "RPXh3srt-1Rx",
        "outputId": "795d4b45-e2ca-4daa-8c42-4671c84874de"
      },
      "outputs": [
        {
          "output_type": "stream",
          "name": "stdout",
          "text": [
            "Animal: butterfly, len: 2112\n",
            "Animal: cat, len: 1668\n",
            "Animal: chicken, len: 3098\n",
            "Animal: cow, len: 1866\n",
            "Animal: dog, len: 4863\n",
            "Animal: elephant, len: 1446\n",
            "Animal: horse, len: 2623\n",
            "Animal: sheep, len: 1820\n",
            "Animal: spider, len: 4821\n",
            "Animal: squirrel, len: 1862\n"
          ]
        }
      ],
      "source": [
        "# 각 클래스별 파일 개수 확인 -> 변수로 해당 개수 저장\n",
        "# Tip) 클래스가 10개이므로 각 클래스마다 똑같은 내용의 코드를 계속 써야할까요? 클래스 이름을 리스트로 저장해 for문을 돌리면서 코드를 재사용하는건 어떨까요?\n",
        "\n",
        "class_name = ('butterfly', 'cat', 'chicken', 'cow', 'dog', 'elephant', 'horse', 'sheep', 'spider', 'squirrel')\n",
        "\n",
        "class_count = []\n",
        "class_list = []\n",
        "\n",
        "for animal in class_name:\n",
        "  path = sorted(glob.glob(f'./Animals-10/{animal}/*.*'))\n",
        "  class_list.append(path)\n",
        "  class_count.append(len(path))\n",
        "\n",
        "for idx, animal in enumerate(class_name):\n",
        "  print(f'Animal: {animal}, len: {class_count[idx]}')"
      ]
    },
    {
      "cell_type": "code",
      "execution_count": null,
      "metadata": {
        "colab": {
          "base_uri": "https://localhost:8080/"
        },
        "id": "9Jikw6Rp_BQI",
        "outputId": "8e28e7f2-64ec-46b7-f6e4-8aaab28d19a7"
      },
      "outputs": [
        {
          "output_type": "stream",
          "name": "stdout",
          "text": [
            "Animal: butterfly, test_len: 634\n",
            "Animal: cat, test_len: 500\n",
            "Animal: chicken, test_len: 929\n",
            "Animal: cow, test_len: 560\n",
            "Animal: dog, test_len: 1459\n",
            "Animal: elephant, test_len: 434\n",
            "Animal: horse, test_len: 787\n",
            "Animal: sheep, test_len: 546\n",
            "Animal: spider, test_len: 1446\n",
            "Animal: squirrel, test_len: 559\n"
          ]
        }
      ],
      "source": [
        "# test에 넣을 이미지 개수 계산\n",
        "animal_test_count = []\n",
        "\n",
        "for idx, animal in enumerate(class_name):\n",
        "  test_count = round(class_count[idx]*0.3)\n",
        "  animal_test_count.append(test_count)\n",
        "\n",
        "for idx, animal in enumerate(class_name):\n",
        "  print(f'Animal: {animal}, test_len: {animal_test_count[idx]}')"
      ]
    },
    {
      "cell_type": "code",
      "execution_count": null,
      "metadata": {
        "id": "bb2XMrAe_Fl8"
      },
      "outputs": [],
      "source": [
        "# train, test 폴더 경로 선언 & 만들기\n",
        "animal_train_path = []\n",
        "animal_test_path = []\n",
        "\n",
        "for idx, animal in enumerate(class_name):\n",
        "  train_path = f'./train/{animal}'\n",
        "  test_path = f'./test/{animal}'\n",
        "  animal_train_path.append(train_path)\n",
        "  animal_test_path.append(test_path)\n",
        "  os.makedirs(train_path, exist_ok=True)\n",
        "  os.makedirs(test_path, exist_ok=True)"
      ]
    },
    {
      "cell_type": "code",
      "execution_count": null,
      "metadata": {
        "id": "BaAXh57G_srE"
      },
      "outputs": [],
      "source": [
        "import random\n",
        "\n",
        "def split(img_list, test_count, train_path, test_path):\n",
        "  # img_list : 이미지 경로 리스트\n",
        "  # test_count : test에 할당할 이미지 개수\n",
        "  # train_path : train 데이터 넣을 경로\n",
        "  # test_path : test 데이터 넣을 경로\n",
        "  \n",
        "  # 랜덤으로 test_count만큼 이미지 img_list에서 고르기\n",
        "  # test 담을 이미지 리스트 저장\n",
        "  test_files=[]\n",
        "  for i in random.sample(img_list, test_count):\n",
        "    test_files.append(i)\n",
        "\n",
        "  # 위에서 고르지 않은 이미지들을 train 담을 이미지 리스트로 저장\n",
        "  train_files = [x for x in img_list if x not in test_files]\n",
        "\n",
        "  # 고른 이미지를 train_path, test_path폴더에 폭사\n",
        "  for k in train_files:\n",
        "    shutil.copy(k, train_path)\n",
        "  \n",
        "  for c in test_files:\n",
        "    shutil.copy(c, test_path)\n",
        "\n",
        "  print('train 폴더 이미지 개수 : {}\\ntest 폴더 이미지 개수 : {}'.format(len(glob.glob(train_path+'/*')),len(glob.glob(test_path+'/*'))))"
      ]
    },
    {
      "cell_type": "code",
      "execution_count": null,
      "metadata": {
        "colab": {
          "base_uri": "https://localhost:8080/"
        },
        "id": "gPFXNOqNucnw",
        "outputId": "3b137887-22ac-4100-9e22-c965a6ef7f5c"
      },
      "outputs": [
        {
          "output_type": "stream",
          "name": "stdout",
          "text": [
            "train 폴더 이미지 개수 : 1478\n",
            "test 폴더 이미지 개수 : 634\n",
            "train 폴더 이미지 개수 : 1168\n",
            "test 폴더 이미지 개수 : 500\n",
            "train 폴더 이미지 개수 : 2169\n",
            "test 폴더 이미지 개수 : 929\n",
            "train 폴더 이미지 개수 : 1306\n",
            "test 폴더 이미지 개수 : 560\n",
            "train 폴더 이미지 개수 : 3404\n",
            "test 폴더 이미지 개수 : 1459\n",
            "train 폴더 이미지 개수 : 1012\n",
            "test 폴더 이미지 개수 : 434\n",
            "train 폴더 이미지 개수 : 1836\n",
            "test 폴더 이미지 개수 : 787\n",
            "train 폴더 이미지 개수 : 1274\n",
            "test 폴더 이미지 개수 : 546\n",
            "train 폴더 이미지 개수 : 3375\n",
            "test 폴더 이미지 개수 : 1446\n",
            "train 폴더 이미지 개수 : 1303\n",
            "test 폴더 이미지 개수 : 559\n"
          ]
        }
      ],
      "source": [
        "# train, test 폴더로 이미지 split해서 알맞게 집어넣기\n",
        "for idx, animal in enumerate(class_name):\n",
        "  split(class_list[idx], animal_test_count[idx], animal_train_path[idx], animal_test_path[idx])"
      ]
    },
    {
      "cell_type": "markdown",
      "metadata": {
        "id": "UKa7LZ4RAXxA"
      },
      "source": [
        "# 2. CNN 모델\n",
        "수업 코드에 '모델 성능에 대한 고민!!' 부분을 참고해서 **test 이미지 기준 최소 80% 이상**의 모델이 나올 수 있도록 학습을 진행해주세요.\n",
        "* 중간중간 헷갈리다면 이것저것 확인하는 코드를 거쳐보세요\n",
        "* 90% 이상의 모델이 이상적이긴 합니다\n",
        "* 궁금한 점이 있을 경우, 슬랙 질문 채널 활용을 적극 권장합니다."
      ]
    },
    {
      "cell_type": "markdown",
      "metadata": {
        "id": "31hFiKNBD48l"
      },
      "source": [
        "전반적으로 수업 코드와 비슷하게 짜면 되는데, 생각해봐야 할 것은\n",
        "* 모든 이미지를 내가 정의하는 하나의 모델에 넣어야함\n",
        "* 그말은 input 데이터의 차원이 항상 동일해야 된다는 말\n",
        "* 그런데 과연 내가 가지고 있는 이미지들의 사이즈가 모두 같을까? - 대략 얼마정도 사이즈 가지고 있는지 코드로 확인해보면 더 좋음 (shape 확인)\n",
        "* 이미지 사이즈를 통일시키기 위해서는 어떻게 해야할까? - transforms의 Resize, RandomCrop 써볼까?\n",
        "* 동물 이미지에 적합한 Augmentation은 무엇이 있을까?"
      ]
    },
    {
      "cell_type": "code",
      "execution_count": null,
      "metadata": {
        "id": "UM1CiMcdAfas"
      },
      "outputs": [],
      "source": [
        "# train, test 이미지를 위한 transforms function 정의\n",
        "# 위에서 말한 포인트들 생각해보기 - 차원에 유의하자!\n",
        "import torchvision.transforms as transforms\n",
        "\n",
        "transform_train = transforms.Compose([\n",
        "    transforms.Resize(224),                 \n",
        "    transforms.CenterCrop(224),             \n",
        "    transforms.RandomHorizontalFlip(p=0.5),\n",
        "    transforms.ColorJitter(brightness=0.5), \n",
        "    transforms.RandomRotation(20),          \n",
        "    transforms.ToTensor(),\n",
        "    transforms.Normalize((0.485, 0.456, 0.406), (0.229, 0.224, 0.225))\n",
        "])\n",
        "\n",
        "transform_test = transforms.Compose([\n",
        "    transforms.Resize(224),                 \n",
        "    transforms.CenterCrop(224),                   \n",
        "    transforms.ToTensor(),\n",
        "    transforms.Normalize((0.485, 0.456, 0.406), (0.229, 0.224, 0.225))\n",
        "])"
      ]
    },
    {
      "cell_type": "code",
      "execution_count": null,
      "metadata": {
        "id": "QAYc35vdAlHk"
      },
      "outputs": [],
      "source": [
        "# ImageFolder와 앞서 정의한 transforms function을 활용해 Dataset 객체 (train, test에 대해) 선언\n",
        "import torch\n",
        "import torchvision\n",
        "\n",
        "train_data = torchvision.datasets.ImageFolder(\n",
        "    root = './train',\n",
        "    transform = transform_train\n",
        ")\n",
        "\n",
        "test_data = torchvision.datasets.ImageFolder(\n",
        "    root = './test',\n",
        "    transform = transform_test\n",
        ")"
      ]
    },
    {
      "cell_type": "code",
      "execution_count": null,
      "metadata": {
        "id": "gHF4PaUQAvzJ"
      },
      "outputs": [],
      "source": [
        "# train, test에 대해 DataLoader 정의\n",
        "trainloader = torch.utils.data.DataLoader(\n",
        "    train_data,\n",
        "    batch_size = 32,      # 일반적으로 batch size = 16, 32\n",
        "    shuffle=True,         # train dataloader는 epoch마다 데이터 다시 섞어서 batch 만들고 학습! - 학습 효율 up\n",
        "    num_workers=2\n",
        ")\n",
        "\n",
        "testloader = torch.utils.data.DataLoader(\n",
        "    test_data,\n",
        "    batch_size = 32,      # 일반적으로 batch size = 16, 32\n",
        "    shuffle=False,        # test dataloader는 데이터 매번 섞을 이유가 없음 - 어차피 확인 용도\n",
        "    num_workers=2\n",
        ")"
      ]
    },
    {
      "cell_type": "code",
      "execution_count": null,
      "metadata": {
        "id": "Kpvu7SJtAyUH"
      },
      "outputs": [],
      "source": [
        "### Model 클래스 정의 - 차원에 유의하자!\n",
        "# 10개의 클래스를 분류해야 하는 꽤나 복잡한 task - 모델 구조를 어느 정도로 복잡하게 짜볼까?\n",
        "# 가장 마지막 Linear의 out_features는 얼마로 해야할까?\n",
        "import torch.nn as nn\n",
        "\n",
        "class MyModel(nn.Module):\n",
        "    def __init__(self):\n",
        "        super(MyModel, self).__init__()\n",
        "        for m in self.modules():\n",
        "          if isinstance(m, nn.Conv2d):\n",
        "            nn.init.kaiming_normal_(m.weight, mode=\"fan_out\", nonlinearity=\"relu\")\n",
        "          elif isinstance(m, nn.BatchNorm2d):\n",
        "            nn.init.constant_(m.weight, 1)\n",
        "            nn.init.constant_(m.bias, 0)\n",
        "        \n",
        "        ##### Layer 정의 #####\n",
        "        self.layer = nn.Sequential(\n",
        "            # 맨처음 RGB 채널 3개이므로 가장 처음 in_channels = 3\n",
        "            # img의 가장 첫 차원이 batch_size 값은 계속해서 유지\n",
        "            nn.Conv2d(in_channels=3, out_channels=16, kernel_size=5),             # [batch_size,3,224,224] -> [batch_size,16,220,220] -> same with? - using 16 filters\n",
        "            nn.ReLU(),\n",
        "            nn.Conv2d(in_channels=16, out_channels=32, kernel_size=5),            # [batch_size,16,220,220] -> [batch_size,32,216,216]\n",
        "            nn.ReLU(),\n",
        "            nn.Dropout(0.2), # 0.2 확률로 Dropout\n",
        "            nn.MaxPool2d(kernel_size=2, stride=2),                                # [batch_size,32,216,216] -> [batch_size,32,108,108]\n",
        "            nn.Conv2d(in_channels=32, out_channels=32, kernel_size=5, padding=2), # [batch_size,32,108,108] -> [batch_size,32,108,108] -> padding*2 주의!\n",
        "            nn.ReLU(),\n",
        "            nn.Dropout(0.2),\n",
        "            nn.Conv2d(in_channels=32, out_channels=32, kernel_size=3, padding=2),  # [batch_size,32,108,108] -> [batch_size,32,110,110]\n",
        "            nn.MaxPool2d(kernel_size=2, stride=2),                                 # [batch_size,32,110,110] -> [batch_size,32,55,55]\n",
        "            nn.Conv2d(in_channels=32, out_channels=32, kernel_size=3),             # [batch_size,32,55,55] -> [batch_size,32,53,53]\n",
        "            nn.ReLU(),\n",
        "        )\n",
        "        self.fc_layer = nn.Sequential(\n",
        "            nn.Linear(32*53*53,100),                                               # [batch_size,32*5*5] -> [batch_size,100]\n",
        "            nn.ReLU(),\n",
        "            nn.Linear(100,10)\n",
        "        )\n",
        "\n",
        "    def forward(self, x):\n",
        "        # forward pass 과정\n",
        "        out = self.layer(x)\n",
        "        out = out.view(out.size(0),-1)  # FC layer에 들어가기전, flatten! - view 함수 활용\n",
        "                                        # 가장 첫 차원인 batch_size는 유지하고 나머지 차원들을 하나로 합치기 - [batch_size,16,5,5] -> [batch_size,16*5*5]\n",
        "        out = self.fc_layer(out)\n",
        "        return out"
      ]
    },
    {
      "cell_type": "code",
      "execution_count": null,
      "metadata": {
        "colab": {
          "base_uri": "https://localhost:8080/"
        },
        "id": "K_AvhGgTCXO7",
        "outputId": "71387568-dbb2-4c8e-eeb3-333fdcabc4a0"
      },
      "outputs": [
        {
          "output_type": "stream",
          "name": "stdout",
          "text": [
            "----------------------------------------------------------------\n",
            "        Layer (type)               Output Shape         Param #\n",
            "================================================================\n",
            "            Conv2d-1         [32, 16, 220, 220]           1,216\n",
            "              ReLU-2         [32, 16, 220, 220]               0\n",
            "            Conv2d-3         [32, 32, 216, 216]          12,832\n",
            "              ReLU-4         [32, 32, 216, 216]               0\n",
            "           Dropout-5         [32, 32, 216, 216]               0\n",
            "         MaxPool2d-6         [32, 32, 108, 108]               0\n",
            "            Conv2d-7         [32, 32, 108, 108]          25,632\n",
            "              ReLU-8         [32, 32, 108, 108]               0\n",
            "           Dropout-9         [32, 32, 108, 108]               0\n",
            "           Conv2d-10         [32, 32, 110, 110]           9,248\n",
            "        MaxPool2d-11           [32, 32, 55, 55]               0\n",
            "           Conv2d-12           [32, 32, 53, 53]           9,248\n",
            "             ReLU-13           [32, 32, 53, 53]               0\n",
            "           Linear-14                  [32, 100]       8,988,900\n",
            "             ReLU-15                  [32, 100]               0\n",
            "           Linear-16                   [32, 10]           1,010\n",
            "================================================================\n",
            "Total params: 9,048,086\n",
            "Trainable params: 9,048,086\n",
            "Non-trainable params: 0\n",
            "----------------------------------------------------------------\n",
            "Input size (MB): 18.38\n",
            "Forward/backward pass size (MB): 1998.23\n",
            "Params size (MB): 34.52\n",
            "Estimated Total Size (MB): 2051.12\n",
            "----------------------------------------------------------------\n"
          ]
        }
      ],
      "source": [
        "# torchsummary로 모델 차원 어떻게 나오는지 돌려보기\n",
        "# !pip install torchsummary\n",
        "from torchsummary import summary\n",
        "\n",
        "test_model = MyModel() # 모델 객체 선언\n",
        "summary(test_model.cuda(), (3,224,224), batch_size=32) # Recall) Tensor는 C, H, W 순서로 이미지 가짐"
      ]
    },
    {
      "cell_type": "code",
      "execution_count": null,
      "metadata": {
        "colab": {
          "base_uri": "https://localhost:8080/"
        },
        "id": "A99ALViSCbmI",
        "outputId": "a2f7dd5d-4368-4ecc-98c1-395ead322ae5"
      },
      "outputs": [
        {
          "output_type": "execute_result",
          "data": {
            "text/plain": [
              "device(type='cuda', index=0)"
            ]
          },
          "metadata": {},
          "execution_count": 14
        }
      ],
      "source": [
        "# Device 선언 (GPU 권장)\n",
        "device = torch.device(\"cuda:0\" if torch.cuda.is_available() else \"cpu\")\n",
        "device"
      ]
    },
    {
      "cell_type": "code",
      "execution_count": null,
      "metadata": {
        "colab": {
          "base_uri": "https://localhost:8080/"
        },
        "id": "FmZYSSBFCfOU",
        "outputId": "7152b118-98bf-414c-d77a-ec68b8f1a6f9"
      },
      "outputs": [
        {
          "output_type": "execute_result",
          "data": {
            "text/plain": [
              "MyModel(\n",
              "  (layer): Sequential(\n",
              "    (0): Conv2d(3, 16, kernel_size=(5, 5), stride=(1, 1))\n",
              "    (1): ReLU()\n",
              "    (2): Conv2d(16, 32, kernel_size=(5, 5), stride=(1, 1))\n",
              "    (3): ReLU()\n",
              "    (4): Dropout(p=0.2, inplace=False)\n",
              "    (5): MaxPool2d(kernel_size=2, stride=2, padding=0, dilation=1, ceil_mode=False)\n",
              "    (6): Conv2d(32, 32, kernel_size=(5, 5), stride=(1, 1), padding=(2, 2))\n",
              "    (7): ReLU()\n",
              "    (8): Dropout(p=0.2, inplace=False)\n",
              "    (9): Conv2d(32, 32, kernel_size=(3, 3), stride=(1, 1), padding=(2, 2))\n",
              "    (10): MaxPool2d(kernel_size=2, stride=2, padding=0, dilation=1, ceil_mode=False)\n",
              "    (11): Conv2d(32, 32, kernel_size=(3, 3), stride=(1, 1))\n",
              "    (12): ReLU()\n",
              "  )\n",
              "  (fc_layer): Sequential(\n",
              "    (0): Linear(in_features=89888, out_features=100, bias=True)\n",
              "    (1): ReLU()\n",
              "    (2): Linear(in_features=100, out_features=10, bias=True)\n",
              "  )\n",
              ")"
            ]
          },
          "metadata": {},
          "execution_count": 15
        }
      ],
      "source": [
        "# 모델 객체 선언\n",
        "mymodel = MyModel().to(device)\n",
        "mymodel"
      ]
    },
    {
      "cell_type": "code",
      "execution_count": null,
      "metadata": {
        "id": "CFk7o_fuCgc7"
      },
      "outputs": [],
      "source": [
        "# loss func, optimizer 정의\n",
        "criterion = nn.CrossEntropyLoss().to(device) # criterion (loss func)도 device 위에서\n",
        "optimizer = torch.optim.Adam(mymodel.parameters(), lr=0.001, weight_decay=0.0001) # 보통 Adam의 learning rate로 0.001 사용\n",
        "                                                                                  # weight_decay = L2 Regularization의 lambda값 (가중치 제한 정도)"
      ]
    },
    {
      "cell_type": "code",
      "execution_count": null,
      "metadata": {
        "id": "Kuz598gzFEZv"
      },
      "outputs": [],
      "source": [
        "# 추후 시각화를 위해 매 epoch마다 loss, accuracy 값을 저장할 리스트\n",
        "seq_train_loss = []\n",
        "seq_test_loss = []\n",
        "seq_train_acc = []\n",
        "seq_test_acc = []"
      ]
    },
    {
      "cell_type": "code",
      "execution_count": null,
      "metadata": {
        "id": "-ENGsLI3CksA"
      },
      "outputs": [],
      "source": [
        "# train 함수 정의\n",
        "def train(epoch):\n",
        "    print(f'\\n[ Train epoch: {epoch+1} ]')\n",
        "\n",
        "    mymodel.train() # train은 항상 이걸 지정하고 시작! - Dropout, Batch Normalization 등의 효과를 적용하고 진행하기 위함\n",
        "\n",
        "    running_loss = 0.0\n",
        "    batch_losses = []\n",
        "    total = 0\n",
        "    correct = 0\n",
        "\n",
        "    for batch_idx, (inputs, targets) in enumerate(trainloader):\n",
        "        inputs, targets = inputs.to(device), targets.to(device) # dataloader의 input image와 label도 device에 넣어줘야됨\n",
        "        \n",
        "        # DL 학습 기본 코드\n",
        "        optimizer.zero_grad() # gradient 초기화\n",
        "        outputs = mymodel(inputs) # 현재 batch의 inputs을 모델에 넣어 outputs 추출 (확률값)\n",
        "        loss = criterion(outputs, targets) # 추출한 outputs와 원래 label인 targets 사이 loss 계산\n",
        "        loss.backward() # 계산한 loss 기반으로 gradient 값 계산\n",
        "        optimizer.step() # weight parameter update\n",
        "\n",
        "        total += targets.size(0) # batch 데이터 개수 더하기\n",
        "        running_loss += loss.item()\n",
        "        batch_losses.append(loss.item())\n",
        "        \n",
        "        _, predicted = outputs.max(1) # 확률값 가장 높게 나타난 클래스\n",
        "        correct += (predicted == targets).sum().item() # 현재 batch 내에서 알맞게 분류한 이미지 개수 더하기\n",
        "        \n",
        "        if batch_idx % 300 == 299:\n",
        "            print(f'\\nCurrent batch: {str(batch_idx+1)}')\n",
        "            print(f'Average train loss of recent 300 batches: {running_loss / 300}') # 이렇게 출력하는 것이 꼭 필요한 것은 아니지만, 중간중간 확인을 위해 매우 권장\n",
        "            running_loss = 0.0\n",
        "\n",
        "    avg_loss = sum(batch_losses) / len(batch_losses)\n",
        "    seq_train_loss.append(avg_loss)\n",
        "    seq_train_acc.append(100*correct/total)\n",
        "    print('\\nTotal train accuarcy:', 100. * correct / total) # 전체 데이터 개수에서 맞게 예측한 비율\n",
        "    print('Total train loss:', avg_loss)"
      ]
    },
    {
      "cell_type": "code",
      "execution_count": null,
      "metadata": {
        "id": "zxKTZ7oACnGs"
      },
      "outputs": [],
      "source": [
        "# test 함수 정의\n",
        "def test(epoch):\n",
        "    print(f'\\n[ Test epoch: {epoch+1} ]')\n",
        "\n",
        "    mymodel.eval() # eval은 항상 이걸 지정하고 시작! - Dropout, Batch Normalization 등의 효과를 적용하지 않기 위함!\n",
        "                   # ex. evaluation 할때는 Dropout 없이 지금까지 학습한 모든 node를 활용해서 진행해야됨\n",
        "\n",
        "    loss = 0\n",
        "    batch_losses = []\n",
        "    correct = 0\n",
        "    total = 0\n",
        "\n",
        "    with torch.no_grad(): # gradient update 안함 - eval과 torch.no_grad는 하나의 세트\n",
        "        for batch_idx, (inputs, targets) in enumerate(testloader):\n",
        "            inputs, targets = inputs.to(device), targets.to(device)\n",
        "\n",
        "            outputs = mymodel(inputs)\n",
        "            loss = criterion(outputs, targets)\n",
        "            batch_losses.append(loss.item())\n",
        "\n",
        "            total += targets.size(0)\n",
        "            _, predicted = outputs.max(1)\n",
        "            correct += (predicted == targets).sum().item()\n",
        "\n",
        "    avg_loss = sum(batch_losses) / len(batch_losses)\n",
        "    seq_test_loss.append(avg_loss)\n",
        "    seq_test_acc.append(100 * correct / total)\n",
        "    print('\\nTest accuarcy:', 100. * correct / total)\n",
        "    print('Test average loss:', avg_loss)"
      ]
    },
    {
      "cell_type": "code",
      "execution_count": null,
      "metadata": {
        "colab": {
          "base_uri": "https://localhost:8080/"
        },
        "id": "Y2AB6X97Cx4s",
        "outputId": "4ba98475-8a13-4bf5-fa45-53dc409fd4e6"
      },
      "outputs": [
        {
          "output_type": "stream",
          "name": "stdout",
          "text": [
            "\n",
            "[ Train epoch: 1 ]\n",
            "\n",
            "Current batch: 300\n",
            "Average train loss of recent 300 batches: 2.1457179502646127\n",
            "\n",
            "Total train accuarcy: 26.035470668485676\n",
            "Total train loss: 2.0801555869050885\n",
            "\n",
            "[ Test epoch: 1 ]\n",
            "\n",
            "Test accuarcy: 31.63992869875223\n",
            "Test average loss: 1.9479366213810154\n",
            "\n",
            "[ Train epoch: 2 ]\n",
            "\n",
            "Current batch: 300\n",
            "Average train loss of recent 300 batches: 1.9740908014774323\n",
            "\n",
            "Total train accuarcy: 31.19781718963165\n",
            "Total train loss: 1.953878106247068\n",
            "\n",
            "[ Test epoch: 2 ]\n",
            "\n",
            "Test accuarcy: 31.194295900178254\n",
            "Test average loss: 1.9247838156979258\n",
            "\n",
            "[ Train epoch: 3 ]\n",
            "\n",
            "Current batch: 300\n",
            "Average train loss of recent 300 batches: 1.8140057424704235\n",
            "\n",
            "Total train accuarcy: 37.69713506139154\n",
            "Total train loss: 1.7787154696582708\n",
            "\n",
            "[ Test epoch: 3 ]\n",
            "\n",
            "Test accuarcy: 40.57804940157882\n",
            "Test average loss: 1.7041940289299662\n",
            "\n",
            "[ Train epoch: 4 ]\n",
            "\n",
            "Current batch: 300\n",
            "Average train loss of recent 300 batches: 1.6853219743569692\n",
            "\n",
            "Total train accuarcy: 41.52796725784447\n",
            "Total train loss: 1.6640069671950415\n",
            "\n",
            "[ Test epoch: 4 ]\n",
            "\n",
            "Test accuarcy: 46.04023427552839\n",
            "Test average loss: 1.5606057035729168\n",
            "\n",
            "[ Train epoch: 5 ]\n",
            "\n",
            "Current batch: 300\n",
            "Average train loss of recent 300 batches: 1.6054532853762309\n",
            "\n",
            "Total train accuarcy: 45.54979536152797\n",
            "Total train loss: 1.5804105724547755\n",
            "\n",
            "[ Test epoch: 5 ]\n",
            "\n",
            "Test accuarcy: 47.18614718614719\n",
            "Test average loss: 1.5072311909218146\n",
            "\n",
            "[ Train epoch: 6 ]\n",
            "\n",
            "Current batch: 300\n",
            "Average train loss of recent 300 batches: 1.5104151821136476\n",
            "\n",
            "Total train accuarcy: 48.365620736698496\n",
            "Total train loss: 1.501035711320075\n",
            "\n",
            "[ Test epoch: 6 ]\n",
            "\n",
            "Test accuarcy: 51.298701298701296\n",
            "Test average loss: 1.4134050085534895\n",
            "\n",
            "[ Train epoch: 7 ]\n",
            "\n",
            "Current batch: 300\n",
            "Average train loss of recent 300 batches: 1.432107768257459\n",
            "\n",
            "Total train accuarcy: 51.5525238744884\n",
            "Total train loss: 1.4135266078496271\n",
            "\n",
            "[ Test epoch: 7 ]\n",
            "\n",
            "Test accuarcy: 53.62872421695951\n",
            "Test average loss: 1.3387242813662785\n",
            "\n",
            "[ Train epoch: 8 ]\n",
            "\n",
            "Current batch: 300\n",
            "Average train loss of recent 300 batches: 1.3764029304186503\n",
            "\n",
            "Total train accuarcy: 53.931787175989086\n",
            "Total train loss: 1.3517611097498923\n",
            "\n",
            "[ Test epoch: 8 ]\n",
            "\n",
            "Test accuarcy: 55.16934046345811\n",
            "Test average loss: 1.2897239751447507\n",
            "\n",
            "[ Train epoch: 9 ]\n",
            "\n",
            "Current batch: 300\n",
            "Average train loss of recent 300 batches: 1.2940640409787496\n",
            "\n",
            "Total train accuarcy: 55.24693042291951\n",
            "Total train loss: 1.3177611797683941\n",
            "\n",
            "[ Test epoch: 9 ]\n",
            "\n",
            "Test accuarcy: 55.29666412019353\n",
            "Test average loss: 1.291955451655194\n",
            "\n",
            "[ Train epoch: 10 ]\n",
            "\n",
            "Current batch: 300\n",
            "Average train loss of recent 300 batches: 1.2518691943089166\n",
            "\n",
            "Total train accuarcy: 57.113233287858115\n",
            "Total train loss: 1.2610881825808247\n",
            "\n",
            "[ Test epoch: 10 ]\n",
            "\n",
            "Test accuarcy: 57.1301247771836\n",
            "Test average loss: 1.2650757700931736\n",
            "\n",
            "[ Train epoch: 11 ]\n",
            "\n",
            "Current batch: 300\n",
            "Average train loss of recent 300 batches: 1.2147101738055548\n",
            "\n",
            "Total train accuarcy: 58.15006821282401\n",
            "Total train loss: 1.2196507798231502\n",
            "\n",
            "[ Test epoch: 11 ]\n",
            "\n",
            "Test accuarcy: 57.346574993633816\n",
            "Test average loss: 1.2392492377297666\n",
            "\n",
            "[ Train epoch: 12 ]\n",
            "\n",
            "Current batch: 300\n",
            "Average train loss of recent 300 batches: 1.1649344968795776\n",
            "\n",
            "Total train accuarcy: 60.29467939972715\n",
            "Total train loss: 1.1680072521039953\n",
            "\n",
            "[ Test epoch: 12 ]\n",
            "\n",
            "Test accuarcy: 59.38375350140056\n",
            "Test average loss: 1.2100164525634873\n",
            "\n",
            "[ Train epoch: 13 ]\n",
            "\n",
            "Current batch: 300\n",
            "Average train loss of recent 300 batches: 1.1505420331160228\n",
            "\n",
            "Total train accuarcy: 61.18963165075034\n",
            "Total train loss: 1.144924282819605\n",
            "\n",
            "[ Test epoch: 13 ]\n",
            "\n",
            "Test accuarcy: 61.52279093455564\n",
            "Test average loss: 1.1471248963257161\n",
            "\n",
            "[ Train epoch: 14 ]\n",
            "\n",
            "Current batch: 300\n",
            "Average train loss of recent 300 batches: 1.1228652101755143\n",
            "\n",
            "Total train accuarcy: 61.860845839017735\n",
            "Total train loss: 1.122643874785871\n",
            "\n",
            "[ Test epoch: 14 ]\n",
            "\n",
            "Test accuarcy: 60.31321619556914\n",
            "Test average loss: 1.1655002774261847\n",
            "\n",
            "[ Train epoch: 15 ]\n",
            "\n",
            "Current batch: 300\n",
            "Average train loss of recent 300 batches: 1.0769730830192565\n",
            "\n",
            "Total train accuarcy: 63.58526603001364\n",
            "Total train loss: 1.0776614619591265\n",
            "\n",
            "[ Test epoch: 15 ]\n",
            "\n",
            "Test accuarcy: 62.35039470333588\n",
            "Test average loss: 1.104146461661269\n",
            "\n",
            "[ Train epoch: 16 ]\n",
            "\n",
            "Current batch: 300\n",
            "Average train loss of recent 300 batches: 1.0325006047884624\n",
            "\n",
            "Total train accuarcy: 64.10368349249659\n",
            "Total train loss: 1.0562642943796687\n",
            "\n",
            "[ Test epoch: 16 ]\n",
            "\n",
            "Test accuarcy: 61.89202953908836\n",
            "Test average loss: 1.1231528641731758\n",
            "\n",
            "[ Train epoch: 17 ]\n",
            "\n",
            "Current batch: 300\n",
            "Average train loss of recent 300 batches: 1.0222530488173167\n",
            "\n",
            "Total train accuarcy: 64.83492496589359\n",
            "Total train loss: 1.0359300749464184\n",
            "\n",
            "[ Test epoch: 17 ]\n",
            "\n",
            "Test accuarcy: 63.27985739750446\n",
            "Test average loss: 1.072683053045738\n",
            "\n",
            "[ Train epoch: 18 ]\n",
            "\n",
            "Current batch: 300\n",
            "Average train loss of recent 300 batches: 0.9962442715962728\n",
            "\n",
            "Total train accuarcy: 65.25511596180083\n",
            "Total train loss: 1.0200090405204534\n",
            "\n",
            "[ Test epoch: 18 ]\n",
            "\n",
            "Test accuarcy: 61.82836771072065\n",
            "Test average loss: 1.107707618697872\n",
            "\n",
            "[ Train epoch: 19 ]\n",
            "\n",
            "Current batch: 300\n",
            "Average train loss of recent 300 batches: 1.0197930053869884\n",
            "\n",
            "Total train accuarcy: 65.65893587994543\n",
            "Total train loss: 1.0137344071378258\n",
            "\n",
            "[ Test epoch: 19 ]\n",
            "\n",
            "Test accuarcy: 62.923351158645275\n",
            "Test average loss: 1.106999745698479\n",
            "\n",
            "[ Train epoch: 20 ]\n",
            "\n",
            "Current batch: 300\n",
            "Average train loss of recent 300 batches: 0.9887245486179987\n",
            "\n",
            "Total train accuarcy: 66.37380627557981\n",
            "Total train loss: 0.995633099455692\n",
            "\n",
            "[ Test epoch: 20 ]\n",
            "\n",
            "Test accuarcy: 64.80774127832952\n",
            "Test average loss: 1.0582771294000672\n",
            "\n",
            "[ Train epoch: 21 ]\n",
            "\n",
            "Current batch: 300\n",
            "Average train loss of recent 300 batches: 0.9648422787586848\n",
            "\n",
            "Total train accuarcy: 67.08867667121419\n",
            "Total train loss: 0.9695892983082077\n",
            "\n",
            "[ Test epoch: 21 ]\n",
            "\n",
            "Test accuarcy: 64.22205245734658\n",
            "Test average loss: 1.058911942914734\n",
            "\n",
            "[ Train epoch: 22 ]\n",
            "\n",
            "Current batch: 300\n",
            "Average train loss of recent 300 batches: 0.9579527630408605\n",
            "\n",
            "Total train accuarcy: 67.36698499317872\n",
            "Total train loss: 0.9630555836630117\n",
            "\n",
            "[ Test epoch: 22 ]\n",
            "\n",
            "Test accuarcy: 62.68143621084798\n",
            "Test average loss: 1.1309061499872828\n",
            "\n",
            "[ Train epoch: 23 ]\n",
            "\n",
            "Current batch: 300\n",
            "Average train loss of recent 300 batches: 0.937829888065656\n",
            "\n",
            "Total train accuarcy: 68.22919508867668\n",
            "Total train loss: 0.9444287287731237\n",
            "\n",
            "[ Test epoch: 23 ]\n",
            "\n",
            "Test accuarcy: 61.955691367456076\n",
            "Test average loss: 1.1217120601757755\n",
            "\n",
            "[ Train epoch: 24 ]\n",
            "\n",
            "Current batch: 300\n",
            "Average train loss of recent 300 batches: 0.9392931295434633\n",
            "\n",
            "Total train accuarcy: 67.82537517053206\n",
            "Total train loss: 0.9416322508927624\n",
            "\n",
            "[ Test epoch: 24 ]\n",
            "\n",
            "Test accuarcy: 63.57270180799593\n",
            "Test average loss: 1.0835002506893825\n",
            "\n",
            "[ Train epoch: 25 ]\n",
            "\n",
            "Current batch: 300\n",
            "Average train loss of recent 300 batches: 0.925633369088173\n",
            "\n",
            "Total train accuarcy: 69.03137789904503\n",
            "Total train loss: 0.9170479243442442\n",
            "\n",
            "[ Test epoch: 25 ]\n",
            "\n",
            "Test accuarcy: 61.00076394194041\n",
            "Test average loss: 1.1434441464460963\n",
            "\n",
            "[ Train epoch: 26 ]\n",
            "\n",
            "Current batch: 300\n",
            "Average train loss of recent 300 batches: 0.9064053863286972\n",
            "\n",
            "Total train accuarcy: 67.19781718963165\n",
            "Total train loss: 0.9647191056614355\n",
            "\n",
            "[ Test epoch: 26 ]\n",
            "\n",
            "Test accuarcy: 61.726508785332314\n",
            "Test average loss: 1.1135379901019538\n",
            "\n",
            "[ Train epoch: 27 ]\n",
            "\n",
            "Current batch: 300\n",
            "Average train loss of recent 300 batches: 0.9283220718304316\n",
            "\n",
            "Total train accuarcy: 68.74761255115962\n",
            "Total train loss: 0.9203774381890555\n",
            "\n",
            "[ Test epoch: 27 ]\n",
            "\n",
            "Test accuarcy: 65.44435956200662\n",
            "Test average loss: 1.0246130324960725\n",
            "\n",
            "[ Train epoch: 28 ]\n",
            "\n",
            "Current batch: 300\n",
            "Average train loss of recent 300 batches: 0.8865959152579308\n",
            "\n",
            "Total train accuarcy: 69.21691678035471\n",
            "Total train loss: 0.8994608675934257\n",
            "\n",
            "[ Test epoch: 28 ]\n",
            "\n",
            "Test accuarcy: 65.97911892029539\n",
            "Test average loss: 1.0128201667855425\n",
            "\n",
            "[ Train epoch: 29 ]\n",
            "\n",
            "Current batch: 300\n",
            "Average train loss of recent 300 batches: 0.87870292643706\n",
            "\n",
            "Total train accuarcy: 69.65893587994543\n",
            "Total train loss: 0.9022725230736258\n",
            "\n",
            "[ Test epoch: 29 ]\n",
            "\n",
            "Test accuarcy: 65.406162464986\n",
            "Test average loss: 1.0363182115360974\n",
            "\n",
            "[ Train epoch: 30 ]\n",
            "\n",
            "Current batch: 300\n",
            "Average train loss of recent 300 batches: 0.8713999550541242\n",
            "\n",
            "Total train accuarcy: 70.35197817189632\n",
            "Total train loss: 0.8749114441934056\n",
            "\n",
            "[ Test epoch: 30 ]\n",
            "\n",
            "Test accuarcy: 66.06824548001019\n",
            "Test average loss: 1.014385116173\n"
          ]
        }
      ],
      "source": [
        "# training\n",
        "num_epoch = 30\n",
        "\n",
        "for epoch in range(0, num_epoch):\n",
        "    train(epoch)\n",
        "    test(epoch)"
      ]
    },
    {
      "cell_type": "code",
      "execution_count": null,
      "metadata": {
        "colab": {
          "base_uri": "https://localhost:8080/",
          "height": 541
        },
        "id": "ZwJHGOY9Czzh",
        "outputId": "ce9161a2-a05a-43e0-f0df-f1f41a47264b"
      },
      "outputs": [
        {
          "output_type": "display_data",
          "data": {
            "text/plain": [
              "<Figure size 432x288 with 1 Axes>"
            ],
            "image/png": "[encoded data removed]"
          },
          "metadata": {
            "needs_background": "light"
          }
        },
        {
          "output_type": "display_data",
          "data": {
            "text/plain": [
              "<Figure size 432x288 with 1 Axes>"
            ],
            "image/png": "[encoded data removed]"
          },
          "metadata": {
            "needs_background": "light"
          }
        }
      ],
      "source": [
        "# loss, accuracy 추이 확인 with plt.plot\n",
        "import matplotlib.pyplot as plt\n",
        "\n",
        "plt.plot(range(num_epoch), seq_train_loss, label=\"Train loss\")\n",
        "plt.plot(range(num_epoch), seq_test_loss, label=\"Test loss\")\n",
        "plt.legend()\n",
        "plt.xlabel('Epoch')\n",
        "plt.ylabel('Loss')\n",
        "plt.show()\n",
        "\n",
        "plt.plot(range(num_epoch), seq_train_acc, label=\"Train Accuracy\")\n",
        "plt.plot(range(num_epoch), seq_test_acc, label=\"Test Accuracy\")\n",
        "plt.legend()\n",
        "plt.xlabel('Epoch')\n",
        "plt.ylabel('Accuracy')\n",
        "plt.show()"
      ]
    },
    {
      "cell_type": "markdown",
      "source": [
        "😞 이 모델이 돌려본 여러 모델들 중 그나마 제일 잘 나온 모델이라.. 제출합니다 😢"
      ],
      "metadata": {
        "id": "IZjDrIT-NAo1"
      }
    }
  ],
  "metadata": {
    "accelerator": "GPU",
    "colab": {
      "collapsed_sections": [],
      "name": "[8기 안세정] CNN 과제.ipynb",
      "provenance": []
    },
    "gpuClass": "standard",
    "kernelspec": {
      "display_name": "Python 3",
      "name": "python3"
    },
    "language_info": {
      "name": "python"
    }
  },
  "nbformat": 4,
  "nbformat_minor": 0
}