{
  "nbformat": 4,
  "nbformat_minor": 0,
  "metadata": {
    "colab": {
      "name": "[0823] CNN 과제.ipynb",
      "provenance": [],
      "collapsed_sections": []
    },
    "kernelspec": {
      "name": "python3",
      "display_name": "Python 3"
    },
    "language_info": {
      "name": "python"
    },
    "accelerator": "GPU",
    "gpuClass": "standard"
  },
  "cells": [
    {
      "cell_type": "markdown",
      "source": [
        "# 1. 폴더 정리\n",
        "\n",
        "* 제공해드린 animals10.zip의 압축을 풀어 그 내용을 살펴보시고, 폴더 구조를 학습에 알맞도록 재구성해주세요\n",
        "* 특히 각 클래스마다 약 30% 정도의 이미지를 test 폴더에 할당해주세요\n",
        "* 중간중간 헷갈리다면 이것저것 확인하는 코드를 거쳐보세요 (ex. flat_test[:5]로 앞의 다섯값 확인)\n",
        "* 궁금한 점이 있을 경우, 슬랙 질문 채널 활용을 적극 권장합니다."
      ],
      "metadata": {
        "id": "d2ENRS4E9_xy"
      }
    },
    {
      "cell_type": "code",
      "source": [
        "import os\n",
        "import glob\n",
        "import shutil\n",
        "import random\n",
        "import torch\n",
        "import torchvision\n",
        "import torchvision.transforms as transforms\n",
        "from PIL import Image\n",
        "import numpy as np\n",
        "import torch.nn as nn\n",
        "from torchsummary import summary\n",
        "import matplotlib.pyplot as plt"
      ],
      "metadata": {
        "id": "G0NEQdaF-8MU"
      },
      "execution_count": null,
      "outputs": []
    },
    {
      "cell_type": "code",
      "source": [
        "from google.colab import drive\n",
        "drive.mount('/content/drive')\n",
        "!pwd"
      ],
      "metadata": {
        "id": "vmJ61tDW-XrD",
        "colab": {
          "base_uri": "https://localhost:8080/"
        },
        "outputId": "4c8c8ce7-aa3e-4f4a-8dfb-7efc19c412ce"
      },
      "execution_count": null,
      "outputs": [
        {
          "output_type": "stream",
          "name": "stdout",
          "text": [
            "Mounted at /content/drive\n",
            "/content\n"
          ]
        }
      ]
    },
    {
      "cell_type": "code",
      "execution_count": null,
      "metadata": {
        "id": "u7tlWm3L9KoV"
      },
      "outputs": [],
      "source": [
        "### Guideline for convenience ###\n",
        "# 압축 풀기\n",
        "!unzip -qq \"/content/drive/MyDrive/DSL/animals10.zip\""
      ]
    },
    {
      "cell_type": "code",
      "source": [
        "# 각 클래스별 파일 개수 확인 -> 변수로 해당 개수 저장\n",
        "# Tip) 클래스가 10개이므로 각 클래스마다 똑같은 내용의 코드를 계속 써야할까요? 클래스 이름을 리스트로 저장해 for문을 돌리면서 코드를 재사용하는건 어떨까요?\n",
        "animal_list = os.listdir(\"./Animals-10\")\n",
        "\n",
        "def class_file(name):\n",
        "  animal = sorted(glob.glob(f'./Animals-10/{name}/*'))\n",
        "  return animal, len(animal)\n",
        "\n",
        "animal_dict = {}\n",
        "for name in animal_list:\n",
        "  animal, len_animal = class_file(name)\n",
        "  animal_dict[f'{name}'] = animal\n",
        "  animal_dict[f'len_{name}'] = len_animal"
      ],
      "metadata": {
        "id": "RPXh3srt-1Rx"
      },
      "execution_count": null,
      "outputs": []
    },
    {
      "cell_type": "code",
      "source": [
        "# test에 넣을 이미지 개수 계산\n",
        "test_count_dict = {}\n",
        "for name in animal_list:\n",
        "  test_count_dict[f'{name}_test_count'] = round(animal_dict[f'len_{name}'] * 0.3)\n",
        "\n",
        "test_count_dict"
      ],
      "metadata": {
        "id": "9Jikw6Rp_BQI",
        "colab": {
          "base_uri": "https://localhost:8080/"
        },
        "outputId": "d8dd15c2-2136-424a-aac1-73b6ed1d3c8f"
      },
      "execution_count": null,
      "outputs": [
        {
          "output_type": "execute_result",
          "data": {
            "text/plain": [
              "{'cat_test_count': 500,\n",
              " 'cow_test_count': 560,\n",
              " 'chicken_test_count': 929,\n",
              " 'horse_test_count': 787,\n",
              " 'elephant_test_count': 434,\n",
              " 'sheep_test_count': 546,\n",
              " 'butterfly_test_count': 634,\n",
              " 'dog_test_count': 1459,\n",
              " 'spider_test_count': 1446,\n",
              " 'squirrel_test_count': 559}"
            ]
          },
          "metadata": {},
          "execution_count": 5
        }
      ]
    },
    {
      "cell_type": "code",
      "source": [
        "# train, test 폴더 경로 선언 & 만들기\n",
        "path_dict = {}\n",
        "for name in animal_list:\n",
        "  path_dict[f'{name}_train_path'] = './train/%s' % name\n",
        "  path_dict[f'{name}_test_path'] = './test/%s' % name\n",
        "  os.makedirs(path_dict[f'{name}_train_path'], exist_ok=True)\n",
        "  os.makedirs(path_dict[f'{name}_test_path'], exist_ok=True)\n",
        "path_dict"
      ],
      "metadata": {
        "id": "bb2XMrAe_Fl8",
        "colab": {
          "base_uri": "https://localhost:8080/"
        },
        "outputId": "a1f2b1d9-a133-42b8-92eb-490e3ab648e1"
      },
      "execution_count": null,
      "outputs": [
        {
          "output_type": "execute_result",
          "data": {
            "text/plain": [
              "{'cat_train_path': './train/cat',\n",
              " 'cat_test_path': './test/cat',\n",
              " 'cow_train_path': './train/cow',\n",
              " 'cow_test_path': './test/cow',\n",
              " 'chicken_train_path': './train/chicken',\n",
              " 'chicken_test_path': './test/chicken',\n",
              " 'horse_train_path': './train/horse',\n",
              " 'horse_test_path': './test/horse',\n",
              " 'elephant_train_path': './train/elephant',\n",
              " 'elephant_test_path': './test/elephant',\n",
              " 'sheep_train_path': './train/sheep',\n",
              " 'sheep_test_path': './test/sheep',\n",
              " 'butterfly_train_path': './train/butterfly',\n",
              " 'butterfly_test_path': './test/butterfly',\n",
              " 'dog_train_path': './train/dog',\n",
              " 'dog_test_path': './test/dog',\n",
              " 'spider_train_path': './train/spider',\n",
              " 'spider_test_path': './test/spider',\n",
              " 'squirrel_train_path': './train/squirrel',\n",
              " 'squirrel_test_path': './test/squirrel'}"
            ]
          },
          "metadata": {},
          "execution_count": 6
        }
      ]
    },
    {
      "cell_type": "code",
      "source": [
        "# train, test 폴더로 이미지 split해서 알맞게 집어넣기\n",
        "\n",
        "def split(name, img_list, test_count, train_path, test_path):\n",
        "  # img_list : 이미지 경로 리스트\n",
        "  # test_count : test에 할당할 이미지 개수\n",
        "  # train_path : train 데이터 넣을 경로\n",
        "  # test_path : test 데이터 넣을 경로\n",
        "  \n",
        "  # 랜덤으로 test_count만큼 이미지 img_list에서 고르기\n",
        "  # test 담을 이미지 리스트 저장\n",
        "  test_files=[]\n",
        "  for i in random.sample(img_list, test_count):\n",
        "    test_files.append(i)\n",
        "\n",
        "  train_files = [x for x in img_list if x not in test_files]\n",
        "\n",
        "  for k in train_files:\n",
        "    shutil.copy(k, train_path)\n",
        "  \n",
        "  for c in test_files:\n",
        "    shutil.copy(c, test_path)\n",
        "\n",
        "  print('{} train 폴더 이미지 개수 : {}\\n{} test 폴더 이미지 개수 : {}'.format(name,len(glob.glob(train_path+'/*')),name,len(glob.glob(test_path+'/*'))))\n",
        "\n",
        "for name in animal_list:\n",
        "  split(name, animal_dict[f'{name}'], test_count_dict[f'{name}_test_count'], path_dict[f'{name}_train_path'], path_dict[f'{name}_test_path'])"
      ],
      "metadata": {
        "id": "BaAXh57G_srE",
        "colab": {
          "base_uri": "https://localhost:8080/"
        },
        "outputId": "d41f3f21-21ed-446e-9099-248147850921"
      },
      "execution_count": null,
      "outputs": [
        {
          "output_type": "stream",
          "name": "stdout",
          "text": [
            "cat train 폴더 이미지 개수 : 1168\n",
            "cat test 폴더 이미지 개수 : 500\n",
            "cow train 폴더 이미지 개수 : 1306\n",
            "cow test 폴더 이미지 개수 : 560\n",
            "chicken train 폴더 이미지 개수 : 2169\n",
            "chicken test 폴더 이미지 개수 : 929\n",
            "horse train 폴더 이미지 개수 : 1836\n",
            "horse test 폴더 이미지 개수 : 787\n",
            "elephant train 폴더 이미지 개수 : 1012\n",
            "elephant test 폴더 이미지 개수 : 434\n",
            "sheep train 폴더 이미지 개수 : 1274\n",
            "sheep test 폴더 이미지 개수 : 546\n",
            "butterfly train 폴더 이미지 개수 : 1478\n",
            "butterfly test 폴더 이미지 개수 : 634\n",
            "dog train 폴더 이미지 개수 : 3404\n",
            "dog test 폴더 이미지 개수 : 1459\n",
            "spider train 폴더 이미지 개수 : 3375\n",
            "spider test 폴더 이미지 개수 : 1446\n",
            "squirrel train 폴더 이미지 개수 : 1303\n",
            "squirrel test 폴더 이미지 개수 : 559\n"
          ]
        }
      ]
    },
    {
      "cell_type": "markdown",
      "source": [
        "# 2. CNN 모델\n",
        "수업 코드에 '모델 성능에 대한 고민!!' 부분을 참고해서 **test 이미지 기준 최소 80% 이상**의 모델이 나올 수 있도록 학습을 진행해주세요.\n",
        "* 중간중간 헷갈리다면 이것저것 확인하는 코드를 거쳐보세요\n",
        "* 90% 이상의 모델이 이상적이긴 합니다\n",
        "* 궁금한 점이 있을 경우, 슬랙 질문 채널 활용을 적극 권장합니다."
      ],
      "metadata": {
        "id": "UKa7LZ4RAXxA"
      }
    },
    {
      "cell_type": "markdown",
      "source": [
        "전반적으로 수업 코드와 비슷하게 짜면 되는데, 생각해봐야 할 것은\n",
        "* 모든 이미지를 내가 정의하는 하나의 모델에 넣어야함\n",
        "* 그말은 input 데이터의 차원이 항상 동일해야 된다는 말\n",
        "* 그런데 과연 내가 가지고 있는 이미지들의 사이즈가 모두 같을까? - 대략 얼마정도 사이즈 가지고 있는지 코드로 확인해보면 더 좋음 (shape 확인)\n",
        "* 이미지 사이즈를 통일시키기 위해서는 어떻게 해야할까? - transforms의 Resize, RandomCrop 써볼까?\n",
        "* 동물 이미지에 적합한 Augmentation은 무엇이 있을까?"
      ],
      "metadata": {
        "id": "31hFiKNBD48l"
      }
    },
    {
      "cell_type": "code",
      "source": [
        "# train, test 이미지를 위한 transforms function 정의\n",
        "# 위에서 말한 포인트들 생각해보기 - 차원에 유의하자!\n",
        "transform_train = transforms.Compose([\n",
        "    transforms.Resize(224),\n",
        "    transforms.CenterCrop(224), \n",
        "    transforms.RandomHorizontalFlip(p=0.5),\n",
        "    transforms.RandomRotation(20),\n",
        "    transforms.ToTensor(),\n",
        "    transforms.Normalize((0.485, 0.456, 0.406), (0.229, 0.224, 0.225))\n",
        "])\n",
        "\n",
        "transform_test = transforms.Compose([\n",
        "    transforms.ToTensor(),\n",
        "    transforms.Resize(224),\n",
        "    transforms.CenterCrop(224), \n",
        "    transforms.Normalize((0.485, 0.456, 0.406), (0.229, 0.224, 0.225))\n",
        "])"
      ],
      "metadata": {
        "id": "UM1CiMcdAfas"
      },
      "execution_count": null,
      "outputs": []
    },
    {
      "cell_type": "code",
      "source": [
        "# ImageFolder와 앞서 정의한 transforms function을 활용해 Dataset 객체 (train, test에 대해) 선언\n",
        "train_data = torchvision.datasets.ImageFolder(\n",
        "    root = './train',\n",
        "    transform = transform_train \n",
        ")\n",
        "\n",
        "test_data = torchvision.datasets.ImageFolder(\n",
        "    root = './test',\n",
        "    transform = transform_test\n",
        ")\n",
        "\n",
        "print(train_data)\n",
        "print(test_data)"
      ],
      "metadata": {
        "id": "QAYc35vdAlHk",
        "colab": {
          "base_uri": "https://localhost:8080/"
        },
        "outputId": "d9760124-b1b9-4281-ac79-cda890a181d2"
      },
      "execution_count": null,
      "outputs": [
        {
          "output_type": "stream",
          "name": "stdout",
          "text": [
            "Dataset ImageFolder\n",
            "    Number of datapoints: 18325\n",
            "    Root location: ./train\n",
            "    StandardTransform\n",
            "Transform: Compose(\n",
            "               Resize(size=224, interpolation=bilinear, max_size=None, antialias=None)\n",
            "               CenterCrop(size=(224, 224))\n",
            "               RandomHorizontalFlip(p=0.5)\n",
            "               RandomRotation(degrees=[-20.0, 20.0], interpolation=nearest, expand=False, fill=0)\n",
            "               ToTensor()\n",
            "               Normalize(mean=(0.485, 0.456, 0.406), std=(0.229, 0.224, 0.225))\n",
            "           )\n",
            "Dataset ImageFolder\n",
            "    Number of datapoints: 7854\n",
            "    Root location: ./test\n",
            "    StandardTransform\n",
            "Transform: Compose(\n",
            "               ToTensor()\n",
            "               Resize(size=224, interpolation=bilinear, max_size=None, antialias=None)\n",
            "               CenterCrop(size=(224, 224))\n",
            "               Normalize(mean=(0.485, 0.456, 0.406), std=(0.229, 0.224, 0.225))\n",
            "           )\n"
          ]
        }
      ]
    },
    {
      "cell_type": "code",
      "source": [
        "# train, test에 대해 DataLoader 정의\n",
        "train_loader = torch.utils.data.DataLoader(\n",
        "    train_data,\n",
        "    batch_size = 32,      # 일반적으로 batch size = 16, 32\n",
        "    shuffle=True,         # train dataloader는 epoch마다 데이터 다시 섞어서 batch 만들고 학습! - 학습 효율 up\n",
        "    num_workers=2\n",
        ")\n",
        "\n",
        "test_loader = torch.utils.data.DataLoader(\n",
        "    test_data,\n",
        "    batch_size = 32,      # 일반적으로 batch size = 16, 32\n",
        "    shuffle=False,        # test dataloader는 데이터 매번 섞을 이유가 없음 - 어차피 확인 용도\n",
        "    num_workers=0\n",
        ")"
      ],
      "metadata": {
        "id": "gHF4PaUQAvzJ"
      },
      "execution_count": null,
      "outputs": []
    },
    {
      "cell_type": "code",
      "source": [
        "### Model 클래스 정의 - 차원에 유의하자!\n",
        "# 10개의 클래스를 분류해야 하는 꽤나 복잡한 task - 모델 구조를 어느 정도로 복잡하게 짜볼까?\n",
        "# 가장 마지막 Linear의 out_features는 얼마로 해야할까?\n",
        "\n",
        "class MyModel(nn.Module):\n",
        "    def __init__(self):\n",
        "        super(MyModel, self).__init__()\n",
        "        \n",
        "        ##### Layer 정의 #####\n",
        "        self.layer = nn.Sequential(\n",
        "            nn.Conv2d(in_channels=3, out_channels=16, kernel_size=3, padding=1), # (32, 3, 224, 224) -> (32, 16, 224, 224)\n",
        "            nn.BatchNorm2d(16),\n",
        "            nn.ReLU(),\n",
        "            nn.MaxPool2d(kernel_size=2, stride=2), # (32, 16, 224, 224) -> (32, 16, 112, 112)\n",
        "            nn.Conv2d(in_channels=16, out_channels=32, kernel_size=3, padding=1), # (32, 32, 112, 112)\n",
        "            nn.BatchNorm2d(32),\n",
        "            nn.ReLU(),\n",
        "            nn.Dropout(0.2), # 0.2 확률로 Dropout\n",
        "            nn.MaxPool2d(kernel_size=2, stride=2), # (32, 32, 112, 112) -> (32, 32, 56, 56)\n",
        "            nn.Conv2d(in_channels=32, out_channels=32, kernel_size=5, padding=2), # (32, 32, 56, 56)\n",
        "            nn.BatchNorm2d(32),\n",
        "            nn.ReLU(),\n",
        "            nn.MaxPool2d(kernel_size=2, stride=2), # (32, 32, 28, 28)\n",
        "            nn.Conv2d(in_channels=32, out_channels=32, kernel_size=3, padding=1), # (32, 32, 28, 28)\n",
        "            nn.BatchNorm2d(32),\n",
        "            nn.ReLU(),\n",
        "            nn.Dropout(0.2),\n",
        "            nn.MaxPool2d(kernel_size=2, stride=2), # (32, 32, 14, 14)\n",
        "            nn.Conv2d(in_channels=32, out_channels=32, kernel_size=3, padding=1), # (32, 32, 14, 14)\n",
        "            nn.BatchNorm2d(32),\n",
        "            nn.ReLU(),\n",
        "            nn.Dropout(0.2),\n",
        "            nn.MaxPool2d(kernel_size=2, stride=2) # (32, 32, 7, 7)\n",
        "        )\n",
        "        self.fc_layer = nn.Sequential(\n",
        "            nn.Linear(32*7*7,100),\n",
        "            nn.ReLU(),\n",
        "            nn.Linear(100,10) # 10은 class, linear 두 개 쓸 수 있다!\n",
        "        )\n",
        "\n",
        "        for m in self.modules():\n",
        "          if isinstance(m, nn.Conv2d):\n",
        "              nn.init.kaiming_normal_(m.weight, mode=\"fan_out\", nonlinearity=\"relu\")\n",
        "          elif isinstance(m, nn.BatchNorm2d):\n",
        "              nn.init.constant_(m.weight, 1)\n",
        "              nn.init.constant_(m.bias, 0)\n",
        "\n",
        "    def forward(self, x):\n",
        "        # forward pass 과정\n",
        "        out = self.layer(x)\n",
        "        out = out.view(out.size(0),-1)  # FC layer에 들어가기전, flatten! - view 함수 활용\n",
        "                                        # 가장 첫 차원인 batch_size는 유지하고 나머지 차원들을 하나로 합치기 - [batch_size,16,5,5] -> [batch_size,16*5*5]\n",
        "        out = self.fc_layer(out)\n",
        "        return out"
      ],
      "metadata": {
        "id": "Kpvu7SJtAyUH"
      },
      "execution_count": null,
      "outputs": []
    },
    {
      "cell_type": "code",
      "source": [
        "# Device 선언 (GPU 권장)\n",
        "device = torch.device(\"cuda:0\" if torch.cuda.is_available() else \"cpu\")\n",
        "device"
      ],
      "metadata": {
        "id": "A99ALViSCbmI",
        "colab": {
          "base_uri": "https://localhost:8080/"
        },
        "outputId": "f92f6d6c-5c20-4bd1-b3f2-2b7d570b8b2e"
      },
      "execution_count": null,
      "outputs": [
        {
          "output_type": "execute_result",
          "data": {
            "text/plain": [
              "device(type='cuda', index=0)"
            ]
          },
          "metadata": {},
          "execution_count": 12
        }
      ]
    },
    {
      "cell_type": "code",
      "source": [
        "# 모델 객체 선언\n",
        "mymodel = MyModel().to(device)\n",
        "mymodel"
      ],
      "metadata": {
        "id": "FmZYSSBFCfOU",
        "colab": {
          "base_uri": "https://localhost:8080/"
        },
        "outputId": "e9e6e8a9-cc04-4777-8ead-b993e0287b00"
      },
      "execution_count": null,
      "outputs": [
        {
          "output_type": "execute_result",
          "data": {
            "text/plain": [
              "MyModel(\n",
              "  (layer): Sequential(\n",
              "    (0): Conv2d(3, 16, kernel_size=(3, 3), stride=(1, 1), padding=(1, 1))\n",
              "    (1): BatchNorm2d(16, eps=1e-05, momentum=0.1, affine=True, track_running_stats=True)\n",
              "    (2): ReLU()\n",
              "    (3): MaxPool2d(kernel_size=2, stride=2, padding=0, dilation=1, ceil_mode=False)\n",
              "    (4): Conv2d(16, 32, kernel_size=(3, 3), stride=(1, 1), padding=(1, 1))\n",
              "    (5): BatchNorm2d(32, eps=1e-05, momentum=0.1, affine=True, track_running_stats=True)\n",
              "    (6): ReLU()\n",
              "    (7): Dropout(p=0.2, inplace=False)\n",
              "    (8): MaxPool2d(kernel_size=2, stride=2, padding=0, dilation=1, ceil_mode=False)\n",
              "    (9): Conv2d(32, 32, kernel_size=(5, 5), stride=(1, 1), padding=(2, 2))\n",
              "    (10): BatchNorm2d(32, eps=1e-05, momentum=0.1, affine=True, track_running_stats=True)\n",
              "    (11): ReLU()\n",
              "    (12): MaxPool2d(kernel_size=2, stride=2, padding=0, dilation=1, ceil_mode=False)\n",
              "    (13): Conv2d(32, 32, kernel_size=(3, 3), stride=(1, 1), padding=(1, 1))\n",
              "    (14): BatchNorm2d(32, eps=1e-05, momentum=0.1, affine=True, track_running_stats=True)\n",
              "    (15): ReLU()\n",
              "    (16): Dropout(p=0.2, inplace=False)\n",
              "    (17): MaxPool2d(kernel_size=2, stride=2, padding=0, dilation=1, ceil_mode=False)\n",
              "    (18): Conv2d(32, 32, kernel_size=(3, 3), stride=(1, 1), padding=(1, 1))\n",
              "    (19): BatchNorm2d(32, eps=1e-05, momentum=0.1, affine=True, track_running_stats=True)\n",
              "    (20): ReLU()\n",
              "    (21): Dropout(p=0.2, inplace=False)\n",
              "    (22): MaxPool2d(kernel_size=2, stride=2, padding=0, dilation=1, ceil_mode=False)\n",
              "  )\n",
              "  (fc_layer): Sequential(\n",
              "    (0): Linear(in_features=1568, out_features=100, bias=True)\n",
              "    (1): ReLU()\n",
              "    (2): Linear(in_features=100, out_features=10, bias=True)\n",
              "  )\n",
              ")"
            ]
          },
          "metadata": {},
          "execution_count": 13
        }
      ]
    },
    {
      "cell_type": "code",
      "source": [
        "summary(mymodel, (3,224,224), batch_size=32)"
      ],
      "metadata": {
        "colab": {
          "base_uri": "https://localhost:8080/"
        },
        "id": "DeizWhy-xp0q",
        "outputId": "0e418970-d75f-4473-c4b3-682a8e9f38a4"
      },
      "execution_count": null,
      "outputs": [
        {
          "output_type": "stream",
          "name": "stdout",
          "text": [
            "----------------------------------------------------------------\n",
            "        Layer (type)               Output Shape         Param #\n",
            "================================================================\n",
            "            Conv2d-1         [32, 16, 224, 224]             448\n",
            "       BatchNorm2d-2         [32, 16, 224, 224]              32\n",
            "              ReLU-3         [32, 16, 224, 224]               0\n",
            "         MaxPool2d-4         [32, 16, 112, 112]               0\n",
            "            Conv2d-5         [32, 32, 112, 112]           4,640\n",
            "       BatchNorm2d-6         [32, 32, 112, 112]              64\n",
            "              ReLU-7         [32, 32, 112, 112]               0\n",
            "           Dropout-8         [32, 32, 112, 112]               0\n",
            "         MaxPool2d-9           [32, 32, 56, 56]               0\n",
            "           Conv2d-10           [32, 32, 56, 56]          25,632\n",
            "      BatchNorm2d-11           [32, 32, 56, 56]              64\n",
            "             ReLU-12           [32, 32, 56, 56]               0\n",
            "        MaxPool2d-13           [32, 32, 28, 28]               0\n",
            "           Conv2d-14           [32, 32, 28, 28]           9,248\n",
            "      BatchNorm2d-15           [32, 32, 28, 28]              64\n",
            "             ReLU-16           [32, 32, 28, 28]               0\n",
            "          Dropout-17           [32, 32, 28, 28]               0\n",
            "        MaxPool2d-18           [32, 32, 14, 14]               0\n",
            "           Conv2d-19           [32, 32, 14, 14]           9,248\n",
            "      BatchNorm2d-20           [32, 32, 14, 14]              64\n",
            "             ReLU-21           [32, 32, 14, 14]               0\n",
            "          Dropout-22           [32, 32, 14, 14]               0\n",
            "        MaxPool2d-23             [32, 32, 7, 7]               0\n",
            "           Linear-24                  [32, 100]         156,900\n",
            "             ReLU-25                  [32, 100]               0\n",
            "           Linear-26                   [32, 10]           1,010\n",
            "================================================================\n",
            "Total params: 207,414\n",
            "Trainable params: 207,414\n",
            "Non-trainable params: 0\n",
            "----------------------------------------------------------------\n",
            "Input size (MB): 18.38\n",
            "Forward/backward pass size (MB): 1165.72\n",
            "Params size (MB): 0.79\n",
            "Estimated Total Size (MB): 1184.88\n",
            "----------------------------------------------------------------\n"
          ]
        }
      ]
    },
    {
      "cell_type": "code",
      "source": [
        "# loss func, optimizer 정의\n",
        "criterion = nn.CrossEntropyLoss().to(device)\n",
        "optimizer = torch.optim.Adam(mymodel.parameters(), lr=0.001, weight_decay=0.0001) "
      ],
      "metadata": {
        "id": "CFk7o_fuCgc7"
      },
      "execution_count": null,
      "outputs": []
    },
    {
      "cell_type": "code",
      "source": [
        "# train 함수 정의\n",
        "def train(epoch):\n",
        "    print(f'\\n[ Train epoch: {epoch+1} ]')\n",
        "\n",
        "    mymodel.train() # train은 항상 이걸 지정하고 시작! - Dropout, Batch Normalization 등의 효과를 적용하고 진행하기 위함\n",
        "\n",
        "    running_loss = 0.0\n",
        "    batch_losses = []\n",
        "    total = 0\n",
        "    correct = 0\n",
        "\n",
        "    for batch_idx, (inputs, targets) in enumerate(train_loader):\n",
        "        inputs, targets = inputs.to(device), targets.to(device) # dataloader의 input image와 label도 device에 넣어줘야됨\n",
        "        \n",
        "        # DL 학습 기본 코드\n",
        "        optimizer.zero_grad() # gradient 초기화\n",
        "        outputs = mymodel(inputs) # 현재 batch의 inputs을 모델에 넣어 outputs 추출 (확률값)\n",
        "        loss = criterion(outputs, targets) # 추출한 outputs와 원래 label인 targets 사이 loss 계산\n",
        "        loss.backward() # 계산한 loss 기반으로 gradient 값 계산\n",
        "        optimizer.step() # weight parameter update\n",
        "\n",
        "        total += targets.size(0) # batch 데이터 개수 더하기\n",
        "        running_loss += loss.item()\n",
        "        batch_losses.append(loss.item())\n",
        "        \n",
        "        _, predicted = outputs.max(1) # 확률값 가장 높게 나타난 클래스\n",
        "        correct += (predicted == targets).sum().item() # 현재 batch 내에서 알맞게 분류한 이미지 개수 더하기\n",
        "        \n",
        "        if batch_idx % 300 == 299:\n",
        "            print(f'\\nCurrent batch: {str(batch_idx+1)}')\n",
        "            print(f'Average train loss of recent 300 batches: {running_loss / 300}') # 이렇게 출력하는 것이 꼭 필요한 것은 아니지만, 중간중간 확인을 위해 매우 권장\n",
        "            running_loss = 0.0\n",
        "\n",
        "    avg_loss = sum(batch_losses) / len(batch_losses)\n",
        "    seq_train_loss.append(avg_loss)\n",
        "    seq_train_acc.append(100*correct/total)\n",
        "    print('\\nTotal train accuarcy:', 100. * correct / total) # 전체 데이터 개수에서 맞게 예측한 비율\n",
        "    print('Total train loss:', avg_loss)"
      ],
      "metadata": {
        "id": "-ENGsLI3CksA"
      },
      "execution_count": null,
      "outputs": []
    },
    {
      "cell_type": "code",
      "source": [
        "# test 함수 정의\n",
        "def test(epoch):\n",
        "    print(f'\\n[ Test epoch: {epoch+1} ]')\n",
        "\n",
        "    mymodel.eval() \n",
        "\n",
        "    loss = 0\n",
        "    batch_losses = []\n",
        "    correct = 0\n",
        "    total = 0\n",
        "\n",
        "    with torch.no_grad(): # gradient update 안함 - eval과 torch.no_grad는 하나의 세트\n",
        "        for batch_idx, (inputs, targets) in enumerate(test_loader):\n",
        "            inputs, targets = inputs.to(device), targets.to(device)\n",
        "\n",
        "            outputs = mymodel(inputs)\n",
        "            loss = criterion(outputs, targets)\n",
        "            batch_losses.append(loss.item())\n",
        "\n",
        "            total += targets.size(0)\n",
        "            _, predicted = outputs.max(1)\n",
        "            correct += (predicted == targets).sum().item()\n",
        "\n",
        "    avg_loss = sum(batch_losses) / len(batch_losses)\n",
        "    seq_test_loss.append(avg_loss)\n",
        "    seq_test_acc.append(100 * correct / total)\n",
        "    print('\\nTest accuarcy:', 100. * correct / total)\n",
        "    print('Test average loss:', avg_loss)"
      ],
      "metadata": {
        "id": "zxKTZ7oACnGs"
      },
      "execution_count": null,
      "outputs": []
    },
    {
      "cell_type": "code",
      "source": [
        "# training\n",
        "seq_train_loss = []\n",
        "seq_test_loss = []\n",
        "seq_train_acc = []\n",
        "seq_test_acc = []\n",
        "\n",
        "num_epoch = 30\n",
        "\n",
        "for epoch in range(0, num_epoch):\n",
        "    train(epoch)\n",
        "    test(epoch)\n",
        "\n",
        "torch.save(mymodel.state_dict(), './drive/MyDrive/DSL/mymodel.pt')\n",
        "print('Model Saved!')"
      ],
      "metadata": {
        "id": "Y2AB6X97Cx4s",
        "colab": {
          "base_uri": "https://localhost:8080/"
        },
        "outputId": "640fdd5c-65bc-414e-fb7c-f907db14955f"
      },
      "execution_count": null,
      "outputs": [
        {
          "output_type": "stream",
          "name": "stdout",
          "text": [
            "\n",
            "[ Train epoch: 1 ]\n",
            "\n",
            "Current batch: 300\n",
            "Average train loss of recent 300 batches: 1.726539538304011\n",
            "\n",
            "Total train accuarcy: 46.34106412005457\n",
            "Total train loss: 1.5639575057212802\n",
            "\n",
            "[ Test epoch: 1 ]\n",
            "\n",
            "Test accuarcy: 49.82174688057041\n",
            "Test average loss: 1.4953304386235835\n",
            "\n",
            "[ Train epoch: 2 ]\n",
            "\n",
            "Current batch: 300\n",
            "Average train loss of recent 300 batches: 1.2646598875522614\n",
            "\n",
            "Total train accuarcy: 58.177353342428376\n",
            "Total train loss: 1.2247688427021366\n",
            "\n",
            "[ Test epoch: 2 ]\n",
            "\n",
            "Test accuarcy: 52.89024700789407\n",
            "Test average loss: 1.3289824839287656\n",
            "\n",
            "[ Train epoch: 3 ]\n",
            "\n",
            "Current batch: 300\n",
            "Average train loss of recent 300 batches: 1.0990765424569449\n",
            "\n",
            "Total train accuarcy: 62.14461118690314\n",
            "Total train loss: 1.100849552616399\n",
            "\n",
            "[ Test epoch: 3 ]\n",
            "\n",
            "Test accuarcy: 59.93124522536287\n",
            "Test average loss: 1.1829045734754422\n",
            "\n",
            "[ Train epoch: 4 ]\n",
            "\n",
            "Current batch: 300\n",
            "Average train loss of recent 300 batches: 1.0359202428658802\n",
            "\n",
            "Total train accuarcy: 64.63847203274216\n",
            "Total train loss: 1.0253304790763955\n",
            "\n",
            "[ Test epoch: 4 ]\n",
            "\n",
            "Test accuarcy: 62.17214158390629\n",
            "Test average loss: 1.125250601186985\n",
            "\n",
            "[ Train epoch: 5 ]\n",
            "\n",
            "Current batch: 300\n",
            "Average train loss of recent 300 batches: 0.9570971473058065\n",
            "\n",
            "Total train accuarcy: 67.08321964529331\n",
            "Total train loss: 0.9570861946641879\n",
            "\n",
            "[ Test epoch: 5 ]\n",
            "\n",
            "Test accuarcy: 64.38757321110262\n",
            "Test average loss: 1.0552920142446107\n",
            "\n",
            "[ Train epoch: 6 ]\n",
            "\n",
            "Current batch: 300\n",
            "Average train loss of recent 300 batches: 0.9079936695098877\n",
            "\n",
            "Total train accuarcy: 68.38744884038199\n",
            "Total train loss: 0.9147033705449229\n",
            "\n",
            "[ Test epoch: 6 ]\n",
            "\n",
            "Test accuarcy: 64.13292589763178\n",
            "Test average loss: 1.0655274276084048\n",
            "\n",
            "[ Train epoch: 7 ]\n",
            "\n",
            "Current batch: 300\n",
            "Average train loss of recent 300 batches: 0.8846489738424619\n",
            "\n",
            "Total train accuarcy: 70.13915416098226\n",
            "Total train loss: 0.874305201970678\n",
            "\n",
            "[ Test epoch: 7 ]\n",
            "\n",
            "Test accuarcy: 69.03488668194551\n",
            "Test average loss: 0.9496856011995455\n",
            "\n",
            "[ Train epoch: 8 ]\n",
            "\n",
            "Current batch: 300\n",
            "Average train loss of recent 300 batches: 0.8448002854983012\n",
            "\n",
            "Total train accuarcy: 71.03956343792633\n",
            "Total train loss: 0.8367273979682157\n",
            "\n",
            "[ Test epoch: 8 ]\n",
            "\n",
            "Test accuarcy: 62.923351158645275\n",
            "Test average loss: 1.0809269414200047\n",
            "\n",
            "[ Train epoch: 9 ]\n",
            "\n",
            "Current batch: 300\n",
            "Average train loss of recent 300 batches: 0.8052729180455208\n",
            "\n",
            "Total train accuarcy: 72.50204638472033\n",
            "Total train loss: 0.8040875101796827\n",
            "\n",
            "[ Test epoch: 9 ]\n",
            "\n",
            "Test accuarcy: 63.649096002037176\n",
            "Test average loss: 1.0691123034169034\n",
            "\n",
            "[ Train epoch: 10 ]\n",
            "\n",
            "Current batch: 300\n",
            "Average train loss of recent 300 batches: 0.7714998698234559\n",
            "\n",
            "Total train accuarcy: 73.89358799454297\n",
            "Total train loss: 0.7683902354764689\n",
            "\n",
            "[ Test epoch: 10 ]\n",
            "\n",
            "Test accuarcy: 64.68041762159409\n",
            "Test average loss: 1.017347531650609\n",
            "\n",
            "[ Train epoch: 11 ]\n",
            "\n",
            "Current batch: 300\n",
            "Average train loss of recent 300 batches: 0.7459472393989564\n",
            "\n",
            "Total train accuarcy: 74.19372442019099\n",
            "Total train loss: 0.75009575678624\n",
            "\n",
            "[ Test epoch: 11 ]\n",
            "\n",
            "Test accuarcy: 71.35217723453017\n",
            "Test average loss: 0.8635564830487337\n",
            "\n",
            "[ Train epoch: 12 ]\n",
            "\n",
            "Current batch: 300\n",
            "Average train loss of recent 300 batches: 0.736042873164018\n",
            "\n",
            "Total train accuarcy: 74.79945429740792\n",
            "Total train loss: 0.7317607819409895\n",
            "\n",
            "[ Test epoch: 12 ]\n",
            "\n",
            "Test accuarcy: 68.09269162210339\n",
            "Test average loss: 0.9216886319038344\n",
            "\n",
            "[ Train epoch: 13 ]\n",
            "\n",
            "Current batch: 300\n",
            "Average train loss of recent 300 batches: 0.6991456663608551\n",
            "\n",
            "Total train accuarcy: 75.74351978171896\n",
            "Total train loss: 0.7097497980320017\n",
            "\n",
            "[ Test epoch: 13 ]\n",
            "\n",
            "Test accuarcy: 70.38451744334097\n",
            "Test average loss: 0.8890768709948392\n",
            "\n",
            "[ Train epoch: 14 ]\n",
            "\n",
            "Current batch: 300\n",
            "Average train loss of recent 300 batches: 0.6877365185817083\n",
            "\n",
            "Total train accuarcy: 76.22919508867668\n",
            "Total train loss: 0.690785771577146\n",
            "\n",
            "[ Test epoch: 14 ]\n",
            "\n",
            "Test accuarcy: 65.60988031576267\n",
            "Test average loss: 1.0119731589182606\n",
            "\n",
            "[ Train epoch: 15 ]\n",
            "\n",
            "Current batch: 300\n",
            "Average train loss of recent 300 batches: 0.6483680464824041\n",
            "\n",
            "Total train accuarcy: 77.11323328785812\n",
            "Total train loss: 0.6714730519430799\n",
            "\n",
            "[ Test epoch: 15 ]\n",
            "\n",
            "Test accuarcy: 72.10338680926917\n",
            "Test average loss: 0.8398254265842157\n",
            "\n",
            "[ Train epoch: 16 ]\n",
            "\n",
            "Current batch: 300\n",
            "Average train loss of recent 300 batches: 0.6470461109777291\n",
            "\n",
            "Total train accuarcy: 77.06957708049113\n",
            "Total train loss: 0.6609842638902848\n",
            "\n",
            "[ Test epoch: 16 ]\n",
            "\n",
            "Test accuarcy: 71.70868347338936\n",
            "Test average loss: 0.8598201251853772\n",
            "\n",
            "[ Train epoch: 17 ]\n",
            "\n",
            "Current batch: 300\n",
            "Average train loss of recent 300 batches: 0.6345154984295368\n",
            "\n",
            "Total train accuarcy: 78.32469304229195\n",
            "Total train loss: 0.6358826727611232\n",
            "\n",
            "[ Test epoch: 17 ]\n",
            "\n",
            "Test accuarcy: 69.7606315253374\n",
            "Test average loss: 0.8917433664929576\n",
            "\n",
            "[ Train epoch: 18 ]\n",
            "\n",
            "Current batch: 300\n",
            "Average train loss of recent 300 batches: 0.6249280895789464\n",
            "\n",
            "Total train accuarcy: 78.66302864938608\n",
            "Total train loss: 0.6235357843352446\n",
            "\n",
            "[ Test epoch: 18 ]\n",
            "\n",
            "Test accuarcy: 74.14056531703591\n",
            "Test average loss: 0.778603834925386\n",
            "\n",
            "[ Train epoch: 19 ]\n",
            "\n",
            "Current batch: 300\n",
            "Average train loss of recent 300 batches: 0.6151770103971164\n",
            "\n",
            "Total train accuarcy: 78.95770804911324\n",
            "Total train loss: 0.6093537521924024\n",
            "\n",
            "[ Test epoch: 19 ]\n",
            "\n",
            "Test accuarcy: 71.73414820473644\n",
            "Test average loss: 0.8337435815937635\n",
            "\n",
            "[ Train epoch: 20 ]\n",
            "\n",
            "Current batch: 300\n",
            "Average train loss of recent 300 batches: 0.583446940879027\n",
            "\n",
            "Total train accuarcy: 79.3724420190996\n",
            "Total train loss: 0.5997778041512555\n",
            "\n",
            "[ Test epoch: 20 ]\n",
            "\n",
            "Test accuarcy: 71.07206518971225\n",
            "Test average loss: 0.8645152405691825\n",
            "\n",
            "[ Train epoch: 21 ]\n",
            "\n",
            "Current batch: 300\n",
            "Average train loss of recent 300 batches: 0.5671605546275774\n",
            "\n",
            "Total train accuarcy: 80.24010914051841\n",
            "Total train loss: 0.5798633163616087\n",
            "\n",
            "[ Test epoch: 21 ]\n",
            "\n",
            "Test accuarcy: 73.0201171377642\n",
            "Test average loss: 0.8172322519774723\n",
            "\n",
            "[ Train epoch: 22 ]\n",
            "\n",
            "Current batch: 300\n",
            "Average train loss of recent 300 batches: 0.5672548556824525\n",
            "\n",
            "Total train accuarcy: 79.97271487039563\n",
            "Total train loss: 0.579257342983915\n",
            "\n",
            "[ Test epoch: 22 ]\n",
            "\n",
            "Test accuarcy: 73.60580595874714\n",
            "Test average loss: 0.7922026373264266\n",
            "\n",
            "[ Train epoch: 23 ]\n",
            "\n",
            "Current batch: 300\n",
            "Average train loss of recent 300 batches: 0.5640493523081144\n",
            "\n",
            "Total train accuarcy: 80.58390177353343\n",
            "Total train loss: 0.5638262408722133\n",
            "\n",
            "[ Test epoch: 23 ]\n",
            "\n",
            "Test accuarcy: 67.93990323402087\n",
            "Test average loss: 0.919577821150301\n",
            "\n",
            "[ Train epoch: 24 ]\n",
            "\n",
            "Current batch: 300\n",
            "Average train loss of recent 300 batches: 0.5305644424259662\n",
            "\n",
            "Total train accuarcy: 80.88949522510232\n",
            "Total train loss: 0.5513247492061651\n",
            "\n",
            "[ Test epoch: 24 ]\n",
            "\n",
            "Test accuarcy: 73.13470842882607\n",
            "Test average loss: 0.7961674958649205\n",
            "\n",
            "[ Train epoch: 25 ]\n",
            "\n",
            "Current batch: 300\n",
            "Average train loss of recent 300 batches: 0.5592734933396181\n",
            "\n",
            "Total train accuarcy: 81.22237380627558\n",
            "Total train loss: 0.5489125018500532\n",
            "\n",
            "[ Test epoch: 25 ]\n",
            "\n",
            "Test accuarcy: 77.3109243697479\n",
            "Test average loss: 0.6978043807231313\n",
            "\n",
            "[ Train epoch: 26 ]\n",
            "\n",
            "Current batch: 300\n",
            "Average train loss of recent 300 batches: 0.5203655622899532\n",
            "\n",
            "Total train accuarcy: 81.7462482946794\n",
            "Total train loss: 0.5364030670329122\n",
            "\n",
            "[ Test epoch: 26 ]\n",
            "\n",
            "Test accuarcy: 73.414820473644\n",
            "Test average loss: 0.8122342169375681\n",
            "\n",
            "[ Train epoch: 27 ]\n",
            "\n",
            "Current batch: 300\n",
            "Average train loss of recent 300 batches: 0.5202277023593584\n",
            "\n",
            "Total train accuarcy: 81.80627557980901\n",
            "Total train loss: 0.5281697503091153\n",
            "\n",
            "[ Test epoch: 27 ]\n",
            "\n",
            "Test accuarcy: 76.38146167557932\n",
            "Test average loss: 0.7333426440240649\n",
            "\n",
            "[ Train epoch: 28 ]\n",
            "\n",
            "Current batch: 300\n",
            "Average train loss of recent 300 batches: 0.518455294817686\n",
            "\n",
            "Total train accuarcy: 82.09549795361528\n",
            "Total train loss: 0.5206129317144241\n",
            "\n",
            "[ Test epoch: 28 ]\n",
            "\n",
            "Test accuarcy: 76.48332060096766\n",
            "Test average loss: 0.7167812020071154\n",
            "\n",
            "[ Train epoch: 29 ]\n",
            "\n",
            "Current batch: 300\n",
            "Average train loss of recent 300 batches: 0.49976605614026387\n",
            "\n",
            "Total train accuarcy: 82.30832196452933\n",
            "Total train loss: 0.5119949149627752\n",
            "\n",
            "[ Test epoch: 29 ]\n",
            "\n",
            "Test accuarcy: 74.92997198879551\n",
            "Test average loss: 0.7607843340412388\n",
            "\n",
            "[ Train epoch: 30 ]\n",
            "\n",
            "Current batch: 300\n",
            "Average train loss of recent 300 batches: 0.5272796981533369\n",
            "\n",
            "Total train accuarcy: 82.60300136425649\n",
            "Total train loss: 0.5124367704358193\n",
            "\n",
            "[ Test epoch: 30 ]\n",
            "\n",
            "Test accuarcy: 73.46574993633817\n",
            "Test average loss: 0.8006149216789783\n",
            "Model Saved!\n"
          ]
        }
      ]
    },
    {
      "cell_type": "code",
      "source": [
        "# loss, accuracy 추이 확인 with plt.plot\n",
        "plt.plot(range(num_epoch), seq_train_loss, label=\"Train loss\")\n",
        "plt.plot(range(num_epoch), seq_test_loss, label=\"Test loss\")\n",
        "plt.legend()\n",
        "plt.xlabel('Epoch')\n",
        "plt.ylabel('Loss')\n",
        "plt.show()"
      ],
      "metadata": {
        "id": "ZwJHGOY9Czzh",
        "colab": {
          "base_uri": "https://localhost:8080/",
          "height": 280
        },
        "outputId": "7f7a269e-bf64-4956-b660-03ba2d586926"
      },
      "execution_count": null,
      "outputs": [
        {
          "output_type": "display_data",
          "data": {
            "text/plain": [
              "<Figure size 432x288 with 1 Axes>"
            ],
            "image/png": "[encoded data removed]"
          },
          "metadata": {
            "needs_background": "light"
          }
        }
      ]
    },
    {
      "cell_type": "code",
      "source": [
        "- ponplt.plot(range(num_epoch), seq_train_acc, label=\"Train Accuracy\")\n",
        "plt.plot(range(num_epoch), seq_test_acc, label=\"Test Accuracy\")\n",
        "plt.legend()\n",
        "plt.xlabel('Epoch')\n",
        "plt.ylabel('Accuracy')\n",
        "plt.show()"
      ],
      "metadata": {
        "id": "2h9Fu6GK_bBC",
        "colab": {
          "base_uri": "https://localhost:8080/",
          "height": 279
        },
        "outputId": "3f2d5e63-1872-45cc-ba4b-c091a297d598"
      },
      "execution_count": null,
      "outputs": [
        {
          "output_type": "display_data",
          "data": {
            "text/plain": [
              "<Figure size 432x288 with 1 Axes>"
            ],
            "image/png": "[encoded data removed]"
          },
          "metadata": {
            "needs_background": "light"
          }
        }
      ]
    },
    {
      "cell_type": "markdown",
      "source": [
        "## 결과해석\n",
        "- Train의 경우 목표했던 Accuracy 80%를 달성하였으며, 일정 수준 감소/증가하는 경향을 보이고 수렴하였으나, Test의 경우 감소/증가 경향을 보이기는 하지만 변동이 크게 나타났다.\n",
        "- class 간 불균형, Train 데이터의 overfitting 등으로 인해 이러한 문제가 발생한 것으로 보인다.\n",
        "- optimization을 위해 지금보다 deep하지 않은 모델이 필요할 것 같다."
      ],
      "metadata": {
        "id": "9X1UYAnwasmi"
      }
    }
  ]
}