{
  "nbformat": 4,
  "nbformat_minor": 0,
  "metadata": {
    "colab": {
      "name": "[8기_이재우]_CNN_과제.ipynb",
      "provenance": [],
      "collapsed_sections": []
    },
    "kernelspec": {
      "name": "python3",
      "display_name": "Python 3"
    },
    "language_info": {
      "name": "python"
    }
  },
  "cells": [
    {
      "cell_type": "markdown",
      "source": [
        "# 1. 폴더 정리\n",
        "\n",
        "* 제공해드린 animals10.zip의 압축을 풀어 그 내용을 살펴보시고, 폴더 구조를 학습에 알맞도록 재구성해주세요\n",
        "* 특히 각 클래스마다 약 30% 정도의 이미지를 test 폴더에 할당해주세요\n",
        "* 중간중간 헷갈리다면 이것저것 확인하는 코드를 거쳐보세요 (ex. flat_test[:5]로 앞의 다섯값 확인)\n",
        "* 궁금한 점이 있을 경우, 슬랙 질문 채널 활용을 적극 권장합니다."
      ],
      "metadata": {
        "id": "d2ENRS4E9_xy"
      }
    },
    {
      "cell_type": "code",
      "source": [
        "from google.colab import drive\n",
        "drive.mount('/content/drive')"
      ],
      "metadata": {
        "colab": {
          "base_uri": "https://localhost:8080/"
        },
        "id": "GkxxNQ0J48i-",
        "outputId": "0f610fd2-4108-4282-c8ec-7bdcf2c455a9"
      },
      "execution_count": 1,
      "outputs": [
        {
          "output_type": "stream",
          "name": "stdout",
          "text": [
            "Mounted at /content/drive\n"
          ]
        }
      ]
    },
    {
      "cell_type": "code",
      "execution_count": 2,
      "metadata": {
        "id": "u7tlWm3L9KoV"
      },
      "outputs": [],
      "source": [
        "### Guideline for convenience ###\n",
        "# 압축 풀기\n",
        "!unzip -qq \"./drive/MyDrive/animals10.zip\""
      ]
    },
    {
      "cell_type": "code",
      "source": [
        "import numpy as np\n",
        "import matplotlib.pyplot as plt\n",
        "import os\n",
        "import glob\n",
        "import shutil\n",
        "import torch\n",
        "import torchvision\n",
        "import torchvision.transforms as transforms\n",
        "import torch.nn as nn"
      ],
      "metadata": {
        "id": "ifBOvkP_PGEB"
      },
      "execution_count": 3,
      "outputs": []
    },
    {
      "cell_type": "code",
      "source": [
        "# 각 클래스별 파일 개수 확인 -> 변수로 해당 개수 저장\n",
        "# Tip) 클래스가 10개이므로 각 클래스마다 똑같은 내용의 코드를 계속 써야할까요? 클래스 이름을 리스트로 저장해 for문을 돌리면서 코드를 재사용하는건 어떨까요?\n",
        "\n",
        "butterfly = sorted(glob.glob('./Animals-10/butterfly/*'))\n",
        "cat = sorted(glob.glob('./Animals-10/cat/*'))\n",
        "chicken = sorted(glob.glob('./Animals-10/chicken/*'))\n",
        "cow = sorted(glob.glob('./Animals-10/cow/*'))\n",
        "dog = sorted(glob.glob('./Animals-10/dog/*'))\n",
        "elephant = sorted(glob.glob('./Animals-10/elephant/*'))\n",
        "horse = sorted(glob.glob('./Animals-10/horse/*'))\n",
        "sheep = sorted(glob.glob('./Animals-10/sheep/*'))\n",
        "spider = sorted(glob.glob('./Animals-10/spider/*'))\n",
        "squirrel = sorted(glob.glob('./Animals-10/squirrel/*'))\n",
        "\n",
        "print(len(butterfly))\n",
        "print(len(cat))\n",
        "print(len(chicken))\n",
        "print(len(cow))\n",
        "print(len(dog))\n",
        "print(len(elephant))\n",
        "print(len(horse))\n",
        "print(len(sheep))\n",
        "print(len(spider))\n",
        "print(len(squirrel))"
      ],
      "metadata": {
        "id": "KcCLUX2cTA5r",
        "colab": {
          "base_uri": "https://localhost:8080/"
        },
        "outputId": "40ea1dc3-24e0-4c8a-f92f-7f9d4e1aa43f"
      },
      "execution_count": 4,
      "outputs": [
        {
          "output_type": "stream",
          "name": "stdout",
          "text": [
            "2112\n",
            "1668\n",
            "3098\n",
            "1866\n",
            "4863\n",
            "1446\n",
            "2623\n",
            "1820\n",
            "4821\n",
            "1862\n"
          ]
        }
      ]
    },
    {
      "cell_type": "code",
      "source": [
        "# test에 넣을 이미지 개수 계산\n",
        "\n",
        "butterfly_test_count = round(len(butterfly)*0.3)\n",
        "cat_test_count = round(len(cat)*0.3)\n",
        "chicken_test_count = round(len(chicken)*0.3)\n",
        "cow_test_count = round(len(cow)*0.3)\n",
        "dog_test_count = round(len(dog)*0.3)\n",
        "elephant_test_count = round(len(elephant)*0.3)\n",
        "horse_test_count = round(len(horse)*0.3)\n",
        "sheep_test_count = round(len(sheep)*0.3)\n",
        "spider_test_count = round(len(spider)*0.3)\n",
        "squirrel_test_count = round(len(squirrel)*0.3)\n",
        "\n",
        "print(butterfly_test_count)\n",
        "print(cat_test_count)\n",
        "print(chicken_test_count)\n",
        "print(cow_test_count)\n",
        "print(dog_test_count)\n",
        "print(elephant_test_count)\n",
        "print(horse_test_count)\n",
        "print(sheep_test_count)\n",
        "print(spider_test_count)\n",
        "print(squirrel_test_count)"
      ],
      "metadata": {
        "id": "o1_TZ61pTDe9",
        "colab": {
          "base_uri": "https://localhost:8080/"
        },
        "outputId": "deba28ef-f6f5-4a88-b175-f4c7dc4e11fc"
      },
      "execution_count": 5,
      "outputs": [
        {
          "output_type": "stream",
          "name": "stdout",
          "text": [
            "634\n",
            "500\n",
            "929\n",
            "560\n",
            "1459\n",
            "434\n",
            "787\n",
            "546\n",
            "1446\n",
            "559\n"
          ]
        }
      ]
    },
    {
      "cell_type": "code",
      "source": [
        "import random\n",
        "\n",
        "def split(img_list, test_count, train_path, test_path):\n",
        "  # img_list : 이미지 경로 리스트\n",
        "  # test_count : test에 할당할 이미지 개수\n",
        "  # train_path : train 데이터 넣을 경로\n",
        "  # test_path : test 데이터 넣을 경로\n",
        "  \n",
        "  # 랜덤으로 test_count만큼 이미지 img_list에서 고르기\n",
        "  # test 담을 이미지 리스트 저장\n",
        "  test_files=[]\n",
        "  for i in random.sample(img_list, test_count):\n",
        "    test_files.append(i)\n",
        "\n",
        "  # 위에서 고르지 않은 이미지들을 train 담을 이미지 리스트로 저장\n",
        "  train_files = [x for x in img_list if x not in test_files]\n",
        "\n",
        "  # 고른 이미지를 train_path, test_path폴더에 폭사\n",
        "  for k in train_files:\n",
        "    shutil.copy(k, train_path)\n",
        "  \n",
        "  for c in test_files:\n",
        "    shutil.copy(c, test_path)\n",
        "\n",
        "  print('train 폴더 이미지 개수 : {}\\ntest 폴더 이미지 개수 : {}'.format(len(glob.glob(train_path+'/*')),len(glob.glob(test_path+'/*'))))"
      ],
      "metadata": {
        "id": "pbkV5rgAWv--"
      },
      "execution_count": 6,
      "outputs": []
    },
    {
      "cell_type": "code",
      "source": [
        "# train, test 폴더 경로 선언 & 만들기\n",
        "\n",
        "butterfly_train_path='./Animals-10/train/butterfly'\n",
        "butterfly_test_path='./Animals-10/test/butterfly'\n",
        "os.makedirs(butterfly_train_path, exist_ok=True)\n",
        "os.makedirs(butterfly_test_path, exist_ok=True)\n",
        "\n",
        "cat_train_path='./Animals-10/train/cat'\n",
        "cat_test_path='./Animals-10/test/cat'\n",
        "os.makedirs(cat_train_path, exist_ok=True)\n",
        "os.makedirs(cat_test_path, exist_ok=True)\n",
        "\n",
        "chicken_train_path='./Animals-10/train/chicken'\n",
        "chicken_test_path='./Animals-10/test/chicken'\n",
        "os.makedirs(chicken_train_path, exist_ok=True)\n",
        "os.makedirs(chicken_test_path, exist_ok=True)\n",
        "\n",
        "cow_train_path='./Animals-10/train/cow'\n",
        "cow_test_path='./Animals-10/test/cow'\n",
        "os.makedirs(cow_train_path, exist_ok=True)\n",
        "os.makedirs(cow_test_path, exist_ok=True)\n",
        "\n",
        "dog_train_path='./Animals-10/train/dog'\n",
        "dog_test_path='./Animals-10/test/dog'\n",
        "os.makedirs(dog_train_path, exist_ok=True)\n",
        "os.makedirs(dog_test_path, exist_ok=True)\n",
        "\n",
        "elephant_train_path='./Animals-10/train/elephant'\n",
        "elephant_test_path='./Animals-10/test/elephant'\n",
        "os.makedirs(elephant_train_path, exist_ok=True)\n",
        "os.makedirs(elephant_test_path, exist_ok=True)\n",
        "\n",
        "horse_train_path='./Animals-10/train/horse'\n",
        "horse_test_path='./Animals-10/test/horse'\n",
        "os.makedirs(horse_train_path, exist_ok=True)\n",
        "os.makedirs(horse_test_path, exist_ok=True)\n",
        "\n",
        "sheep_train_path='./Animals-10/train/sheep'\n",
        "sheep_test_path='./Animals-10/test/sheep'\n",
        "os.makedirs(sheep_train_path, exist_ok=True)\n",
        "os.makedirs(sheep_test_path, exist_ok=True)\n",
        "\n",
        "spider_train_path='./Animals-10/train/spider'\n",
        "spider_test_path='./Animals-10/test/spider'\n",
        "os.makedirs(spider_train_path, exist_ok=True)\n",
        "os.makedirs(spider_test_path, exist_ok=True)\n",
        "\n",
        "squirrel_train_path='./Animals-10/train/squirrel'\n",
        "squirrel_test_path='./Animals-10/test/squirrel'\n",
        "os.makedirs(squirrel_train_path, exist_ok=True)\n",
        "os.makedirs(squirrel_test_path, exist_ok=True)"
      ],
      "metadata": {
        "id": "bb2XMrAe_Fl8"
      },
      "execution_count": 7,
      "outputs": []
    },
    {
      "cell_type": "code",
      "source": [
        "# train, test 폴더로 이미지 split해서 알맞게 집어넣기\n",
        "\n",
        "split(butterfly, butterfly_test_count, butterfly_train_path, butterfly_test_path)\n",
        "split(cat, cat_test_count, cat_train_path, cat_test_path)\n",
        "split(chicken, chicken_test_count, chicken_train_path, chicken_test_path)\n",
        "split(cow, cow_test_count, cow_train_path, cow_test_path)\n",
        "split(dog, dog_test_count, dog_train_path, dog_test_path)\n",
        "split(elephant, elephant_test_count, elephant_train_path, elephant_test_path)\n",
        "split(horse, horse_test_count, horse_train_path, horse_test_path)\n",
        "split(sheep, sheep_test_count, sheep_train_path, sheep_test_path)\n",
        "split(spider, spider_test_count, spider_train_path, spider_test_path)\n",
        "split(squirrel, squirrel_test_count, squirrel_train_path, squirrel_test_path)"
      ],
      "metadata": {
        "id": "BaAXh57G_srE",
        "colab": {
          "base_uri": "https://localhost:8080/"
        },
        "outputId": "a29e92f2-f795-49dc-a5f2-e1c03c8ece78"
      },
      "execution_count": 8,
      "outputs": [
        {
          "output_type": "stream",
          "name": "stdout",
          "text": [
            "train 폴더 이미지 개수 : 1478\n",
            "test 폴더 이미지 개수 : 634\n",
            "train 폴더 이미지 개수 : 1168\n",
            "test 폴더 이미지 개수 : 500\n",
            "train 폴더 이미지 개수 : 2169\n",
            "test 폴더 이미지 개수 : 929\n",
            "train 폴더 이미지 개수 : 1306\n",
            "test 폴더 이미지 개수 : 560\n",
            "train 폴더 이미지 개수 : 3404\n",
            "test 폴더 이미지 개수 : 1459\n",
            "train 폴더 이미지 개수 : 1012\n",
            "test 폴더 이미지 개수 : 434\n",
            "train 폴더 이미지 개수 : 1836\n",
            "test 폴더 이미지 개수 : 787\n",
            "train 폴더 이미지 개수 : 1274\n",
            "test 폴더 이미지 개수 : 546\n",
            "train 폴더 이미지 개수 : 3375\n",
            "test 폴더 이미지 개수 : 1446\n",
            "train 폴더 이미지 개수 : 1303\n",
            "test 폴더 이미지 개수 : 559\n"
          ]
        }
      ]
    },
    {
      "cell_type": "markdown",
      "source": [
        "# 2. CNN 모델\n",
        "수업 코드에 '모델 성능에 대한 고민!!' 부분을 참고해서 **test 이미지 기준 최소 80% 이상**의 모델이 나올 수 있도록 학습을 진행해주세요.\n",
        "* 중간중간 헷갈리다면 이것저것 확인하는 코드를 거쳐보세요\n",
        "* 90% 이상의 모델이 이상적이긴 합니다\n",
        "* 궁금한 점이 있을 경우, 슬랙 질문 채널 활용을 적극 권장합니다."
      ],
      "metadata": {
        "id": "UKa7LZ4RAXxA"
      }
    },
    {
      "cell_type": "markdown",
      "source": [
        "전반적으로 수업 코드와 비슷하게 짜면 되는데, 생각해봐야 할 것은\n",
        "* 모든 이미지를 내가 정의하는 하나의 모델에 넣어야함\n",
        "* 그말은 input 데이터의 차원이 항상 동일해야 된다는 말\n",
        "* 그런데 과연 내가 가지고 있는 이미지들의 사이즈가 모두 같을까? - 대략 얼마정도 사이즈 가지고 있는지 코드로 확인해보면 더 좋음 (shape 확인)\n",
        "* 이미지 사이즈를 통일시키기 위해서는 어떻게 해야할까? - transforms의 Resize, RandomCrop 써볼까?\n",
        "* 동물 이미지에 적합한 Augmentation은 무엇이 있을까?"
      ],
      "metadata": {
        "id": "31hFiKNBD48l"
      }
    },
    {
      "cell_type": "code",
      "source": [
        "# train, test 이미지를 위한 transforms function 정의\n",
        "# 위에서 말한 포인트들 생각해보기 - 차원에 유의하자!\n",
        "\n",
        "from PIL import Image\n",
        "\n",
        "import numpy as np\n",
        "import matplotlib.pyplot as plt\n",
        "from matplotlib.pyplot import imshow\n",
        "import torch\n",
        "import torchvision\n",
        "import torchvision.transforms as transforms"
      ],
      "metadata": {
        "id": "UM1CiMcdAfas"
      },
      "execution_count": 9,
      "outputs": []
    },
    {
      "cell_type": "code",
      "source": [
        "transform_train= transforms.Compose([\n",
        "    transforms.Resize(256),\n",
        "    transforms.CenterCrop(256),\n",
        "    transforms.ColorJitter(brightness=0.5),\n",
        "    transforms.RandomHorizontalFlip(p=0.5),\n",
        "    transforms.RandomRotation(20),\n",
        "    transforms.ToTensor(),\n",
        "    transforms.Normalize((0.485, 0.456, 0.406), (0.229, 0.224, 0.225))\n",
        "])"
      ],
      "metadata": {
        "id": "e3KsPysigPTT"
      },
      "execution_count": 10,
      "outputs": []
    },
    {
      "cell_type": "code",
      "source": [
        "transform_test = transforms.Compose([\n",
        "    transforms.Resize(256),\n",
        "    transforms.CenterCrop(256),\n",
        "    transforms.ToTensor(),\n",
        "    transforms.Normalize((0.485, 0.456, 0.406), (0.229, 0.224, 0.225))\n",
        "])"
      ],
      "metadata": {
        "id": "rCTKQzxShI1v"
      },
      "execution_count": 11,
      "outputs": []
    },
    {
      "cell_type": "code",
      "source": [
        "# ImageFolder와 앞서 정의한 transforms function을 활용해 Dataset 객체 (train, test에 대해) 선언\n",
        "\n",
        "train_dataset = torchvision.datasets.ImageFolder(\n",
        "    root = './train', # 바로 train 폴더 지정\n",
        "    transform = transform_train # transform은 그냥 편의상 cifar에서 썼던거 그대로\n",
        ")\n",
        "test_dataset = torchvision.datasets.ImageFolder(\n",
        "    root = './test',\n",
        "    transform = transform_test\n",
        ")"
      ],
      "metadata": {
        "id": "W-CGSe3IX6bG"
      },
      "execution_count": null,
      "outputs": []
    },
    {
      "cell_type": "code",
      "source": [
        "# train, test에 대해 DataLoader 정의\n",
        "\n",
        "trainloader = torch.utils.data.DataLoader(\n",
        "    train_dataset,\n",
        "    batch_size = 32,      # 일반적으로 batch size = 16, 32\n",
        "    shuffle=True,         # train dataloader는 epoch마다 데이터 다시 섞어서 batch 만들고 학습! - 학습 효율 up\n",
        "    num_workers=2\n",
        ")\n",
        "\n",
        "testloader = torch.utils.data.DataLoader(\n",
        "    test_dataset,\n",
        "    batch_size = 32,      # 일반적으로 batch size = 16, 32\n",
        "    shuffle=False,        # test dataloader는 데이터 매번 섞을 이유가 없음 - 어차피 확인 용도\n",
        "    num_workers=2\n",
        ")"
      ],
      "metadata": {
        "id": "gHF4PaUQAvzJ"
      },
      "execution_count": null,
      "outputs": []
    },
    {
      "cell_type": "code",
      "source": [
        "### Model 클래스 정의 - 차원에 유의하자!\n",
        "# 10개의 클래스를 분류해야 하는 꽤나 복잡한 task - 모델 구조를 어느 정도로 복잡하게 짜볼까?\n",
        "# 가장 마지막 Linear의 out_features는 얼마로 해야할까?\n",
        "\n",
        "import torch.nn as nn\n",
        "\n",
        "class MyModel(nn.Module):\n",
        "    def __init__(self):\n",
        "        super(MyModel, self).__init__()\n",
        "        \n",
        "        ##### Layer 정의 #####\n",
        "        self.layer = nn.Sequential(\n",
        "          nn.Conv2d(in_channels=3, out_channels=32, kernel_size=3, padding=3),\n",
        "          nn.ReLU(),\n",
        "          nn.MaxPool2d(kernel_size=2, stride=2),\n",
        "          nn.Dropout(0.5),\n",
        "\n",
        "          nn.Conv2d(in_channels=32, out_channels=64, kernel_size=3, padding=3),\n",
        "          nn.ReLU(),\n",
        "          nn.MaxPool2d(kernel_size=2, stride=2),\n",
        "          nn.Dropout(0.5),\n",
        "\n",
        "          nn.Conv2d(in_channels=64, out_channels=128, kernel_size=3, padding=3),\n",
        "          nn.ReLU(),\n",
        "          nn.MaxPool2d(kernel_size=2, stride=3),\n",
        "          nn.Dropout(0.5),\n",
        "\n",
        "          nn.Conv2d(in_channels=128, out_channels=256, kernel_size=3, padding=3),\n",
        "          nn.ReLU(),\n",
        "          nn.MaxPool2d(kernel_size=2, stride=2),\n",
        "          nn.Dropout(0.5),\n",
        "        \n",
        "          nn.Conv2d(in_channels=256, out_channels=256, kernel_size=3, padding=3),\n",
        "          nn.ReLU(),\n",
        "          nn.MaxPool2d(kernel_size=2, stride=2),\n",
        "          nn.Dropout(0.5)\n",
        "      )\n",
        "        self.fc_layer = nn.Sequential(\n",
        "          nn.Linear(256*9*9,100),\n",
        "          nn.ReLU(),\n",
        "          nn.Linear(100,10)\n",
        "         )            \n",
        "\n",
        "\n",
        "    def forward(self, x):\n",
        "        # forward pass 과정\n",
        "        out = self.layer(x)\n",
        "        out = out.view(out.size(0),-1)  # FC layer에 들어가기전, flatten! - view 함수 활용\n",
        "                                        \n",
        "        out = self.fc_layer(out)\n",
        "        return out"
      ],
      "metadata": {
        "id": "Kpvu7SJtAyUH"
      },
      "execution_count": 16,
      "outputs": []
    },
    {
      "cell_type": "code",
      "source": [
        "# torchsummary로 모델 차원 어떻게 나오는지 돌려보기\n",
        "\n",
        "!pip install torchsummary"
      ],
      "metadata": {
        "id": "ayUKLfS4tcxC",
        "colab": {
          "base_uri": "https://localhost:8080/"
        },
        "outputId": "1c98c002-d245-4787-ea5f-f49cf0ddaf97"
      },
      "execution_count": 14,
      "outputs": [
        {
          "output_type": "stream",
          "name": "stdout",
          "text": [
            "Looking in indexes: https://pypi.org/simple, https://us-python.pkg.dev/colab-wheels/public/simple/\n",
            "Requirement already satisfied: torchsummary in /usr/local/lib/python3.7/dist-packages (1.5.1)\n"
          ]
        }
      ]
    },
    {
      "cell_type": "code",
      "source": [
        "from torchsummary import summary\n",
        "test_model = MyModel() # 모델 객체 선언\n",
        "summary(test_model, (3,256,256), batch_size=32) # Recall) Tensor는 C, H, W 순서로 이미지 가짐"
      ],
      "metadata": {
        "id": "OiIdS9qqtdQ7",
        "colab": {
          "base_uri": "https://localhost:8080/"
        },
        "outputId": "c6aae9e7-d604-421e-f0b2-cea400b3039e"
      },
      "execution_count": 17,
      "outputs": [
        {
          "output_type": "stream",
          "name": "stdout",
          "text": [
            "----------------------------------------------------------------\n",
            "        Layer (type)               Output Shape         Param #\n",
            "================================================================\n",
            "            Conv2d-1         [32, 32, 260, 260]             896\n",
            "              ReLU-2         [32, 32, 260, 260]               0\n",
            "         MaxPool2d-3         [32, 32, 130, 130]               0\n",
            "           Dropout-4         [32, 32, 130, 130]               0\n",
            "            Conv2d-5         [32, 64, 134, 134]          18,496\n",
            "              ReLU-6         [32, 64, 134, 134]               0\n",
            "         MaxPool2d-7           [32, 64, 67, 67]               0\n",
            "           Dropout-8           [32, 64, 67, 67]               0\n",
            "            Conv2d-9          [32, 128, 71, 71]          73,856\n",
            "             ReLU-10          [32, 128, 71, 71]               0\n",
            "        MaxPool2d-11          [32, 128, 24, 24]               0\n",
            "          Dropout-12          [32, 128, 24, 24]               0\n",
            "           Conv2d-13          [32, 256, 28, 28]         295,168\n",
            "             ReLU-14          [32, 256, 28, 28]               0\n",
            "        MaxPool2d-15          [32, 256, 14, 14]               0\n",
            "          Dropout-16          [32, 256, 14, 14]               0\n",
            "           Conv2d-17          [32, 256, 18, 18]         590,080\n",
            "             ReLU-18          [32, 256, 18, 18]               0\n",
            "        MaxPool2d-19            [32, 256, 9, 9]               0\n",
            "          Dropout-20            [32, 256, 9, 9]               0\n",
            "           Linear-21                  [32, 100]       2,073,700\n",
            "             ReLU-22                  [32, 100]               0\n",
            "           Linear-23                   [32, 10]           1,010\n",
            "================================================================\n",
            "Total params: 3,053,206\n",
            "Trainable params: 3,053,206\n",
            "Non-trainable params: 0\n",
            "----------------------------------------------------------------\n",
            "Input size (MB): 24.00\n",
            "Forward/backward pass size (MB): 2545.96\n",
            "Params size (MB): 11.65\n",
            "Estimated Total Size (MB): 2581.60\n",
            "----------------------------------------------------------------\n"
          ]
        }
      ]
    },
    {
      "cell_type": "code",
      "source": [
        "# Device 선언 (GPU 권장)\n",
        "\n",
        "device = torch.device(\"cuda:0\" if torch.cuda.is_available() else \"cpu\")\n",
        "device"
      ],
      "metadata": {
        "id": "A99ALViSCbmI",
        "colab": {
          "base_uri": "https://localhost:8080/"
        },
        "outputId": "9760006c-4ea9-4481-9a78-b50af04d4553"
      },
      "execution_count": 18,
      "outputs": [
        {
          "output_type": "execute_result",
          "data": {
            "text/plain": [
              "device(type='cpu')"
            ]
          },
          "metadata": {},
          "execution_count": 18
        }
      ]
    },
    {
      "cell_type": "code",
      "source": [
        "# 모델 객체 선언\n",
        "\n",
        "mymodel = MyModel().to(device)\n",
        "mymodel"
      ],
      "metadata": {
        "id": "FmZYSSBFCfOU",
        "colab": {
          "base_uri": "https://localhost:8080/"
        },
        "outputId": "34039d3f-b051-4628-923a-be527ebc67ab"
      },
      "execution_count": 19,
      "outputs": [
        {
          "output_type": "execute_result",
          "data": {
            "text/plain": [
              "MyModel(\n",
              "  (layer): Sequential(\n",
              "    (0): Conv2d(3, 32, kernel_size=(3, 3), stride=(1, 1), padding=(3, 3))\n",
              "    (1): ReLU()\n",
              "    (2): MaxPool2d(kernel_size=2, stride=2, padding=0, dilation=1, ceil_mode=False)\n",
              "    (3): Dropout(p=0.5, inplace=False)\n",
              "    (4): Conv2d(32, 64, kernel_size=(3, 3), stride=(1, 1), padding=(3, 3))\n",
              "    (5): ReLU()\n",
              "    (6): MaxPool2d(kernel_size=2, stride=2, padding=0, dilation=1, ceil_mode=False)\n",
              "    (7): Dropout(p=0.5, inplace=False)\n",
              "    (8): Conv2d(64, 128, kernel_size=(3, 3), stride=(1, 1), padding=(3, 3))\n",
              "    (9): ReLU()\n",
              "    (10): MaxPool2d(kernel_size=2, stride=3, padding=0, dilation=1, ceil_mode=False)\n",
              "    (11): Dropout(p=0.5, inplace=False)\n",
              "    (12): Conv2d(128, 256, kernel_size=(3, 3), stride=(1, 1), padding=(3, 3))\n",
              "    (13): ReLU()\n",
              "    (14): MaxPool2d(kernel_size=2, stride=2, padding=0, dilation=1, ceil_mode=False)\n",
              "    (15): Dropout(p=0.5, inplace=False)\n",
              "    (16): Conv2d(256, 256, kernel_size=(3, 3), stride=(1, 1), padding=(3, 3))\n",
              "    (17): ReLU()\n",
              "    (18): MaxPool2d(kernel_size=2, stride=2, padding=0, dilation=1, ceil_mode=False)\n",
              "    (19): Dropout(p=0.5, inplace=False)\n",
              "  )\n",
              "  (fc_layer): Sequential(\n",
              "    (0): Linear(in_features=20736, out_features=100, bias=True)\n",
              "    (1): ReLU()\n",
              "    (2): Linear(in_features=100, out_features=10, bias=True)\n",
              "  )\n",
              ")"
            ]
          },
          "metadata": {},
          "execution_count": 19
        }
      ]
    },
    {
      "cell_type": "code",
      "source": [
        "# loss func, optimizer 정의\n",
        "\n",
        "criterion = nn.CrossEntropyLoss().to(device) # criterion (loss func)도 device 위에서\n",
        "optimizer = torch.optim.Adam(mymodel.parameters(), lr=0.001, weight_decay=0.0001) # 보통 Adam의 learning rate로 0.001 사용\n",
        "                                                                                  # weight_decay = L2 Regularization의 lambda값 (가중치 제한 정도)"
      ],
      "metadata": {
        "id": "CFk7o_fuCgc7"
      },
      "execution_count": 20,
      "outputs": []
    },
    {
      "cell_type": "code",
      "source": [
        "seq_train_loss = []\n",
        "seq_test_loss = []\n",
        "seq_train_acc = []\n",
        "seq_test_acc = []"
      ],
      "metadata": {
        "id": "xumAuX3gsti8"
      },
      "execution_count": 21,
      "outputs": []
    },
    {
      "cell_type": "code",
      "source": [
        "# train 함수 정의\n",
        "\n",
        "def train(epoch):\n",
        "    print(f'\\n[ Train epoch: {epoch+1} ]')\n",
        "\n",
        "    mymodel.train() # train은 항상 이걸 지정하고 시작! - Dropout, Batch Normalization 등의 효과를 적용하고 진행하기 위함\n",
        "\n",
        "    running_loss = 0.0\n",
        "    batch_losses = []\n",
        "    total = 0\n",
        "    correct = 0\n",
        "\n",
        "    for batch_idx, (inputs, targets) in enumerate(trainloader):\n",
        "        inputs, targets = inputs.to(device), targets.to(device) # dataloader의 input image와 label도 device에 넣어줘야됨\n",
        "        \n",
        "        # DL 학습 기본 코드\n",
        "        optimizer.zero_grad() # gradient 초기화\n",
        "        outputs = mymodel(inputs) # 현재 batch의 inputs을 모델에 넣어 outputs 추출 (확률값)\n",
        "        loss = criterion(outputs, targets) # 추출한 outputs와 원래 label인 targets 사이 loss 계산\n",
        "        loss.backward() # 계산한 loss 기반으로 gradient 값 계산\n",
        "        optimizer.step() # weight parameter update\n",
        "\n",
        "        total += targets.size(0) # batch 데이터 개수 더하기\n",
        "        running_loss += loss.item()\n",
        "        batch_losses.append(loss.item())\n",
        "        \n",
        "        _, predicted = outputs.max(1) # 확률값 가장 높게 나타난 클래스\n",
        "        correct += (predicted == targets).sum().item() # 현재 batch 내에서 알맞게 분류한 이미지 개수 더하기\n",
        "        \n",
        "        if batch_idx % 300 == 299:\n",
        "            print(f'\\nCurrent batch: {str(batch_idx+1)}')\n",
        "            print(f'Average train loss of recent 300 batches: {running_loss / 300}') # 이렇게 출력하는 것이 꼭 필요한 것은 아니지만, 중간중간 확인을 위해 매우 권장\n",
        "            running_loss = 0.0\n",
        "\n",
        "    avg_loss = sum(batch_losses) / len(batch_losses)\n",
        "    seq_train_loss.append(avg_loss)\n",
        "    seq_train_acc.append(100*correct/total)\n",
        "    print('\\nTotal train accuarcy:', 100. * correct / total) # 전체 데이터 개수에서 맞게 예측한 비율\n",
        "    print('Total train loss:', avg_loss)"
      ],
      "metadata": {
        "id": "-ENGsLI3CksA"
      },
      "execution_count": 25,
      "outputs": []
    },
    {
      "cell_type": "code",
      "source": [
        "# test 함수 정의\n",
        "\n",
        "def test(epoch):\n",
        "    print(f'\\n[ Test epoch: {epoch+1} ]')\n",
        "\n",
        "    mymodel.eval() # eval은 항상 이걸 지정하고 시작! - Dropout, Batch Normalization 등의 효과를 적용하지 않기 위함!\n",
        "                   # ex. evaluation 할때는 Dropout 없이 지금까지 학습한 모든 node를 활용해서 진행해야됨\n",
        "\n",
        "    loss = 0\n",
        "    batch_losses = []\n",
        "    correct = 0\n",
        "    total = 0\n",
        "\n",
        "    with torch.no_grad(): # gradient update 안함 - eval과 torch.no_grad는 하나의 세트\n",
        "        for batch_idx, (inputs, targets) in enumerate(testloader):\n",
        "            inputs, targets = inputs.to(device), targets.to(device)\n",
        "\n",
        "            outputs = mymodel(inputs)\n",
        "            loss = criterion(outputs, targets)\n",
        "            batch_losses.append(loss.item())\n",
        "\n",
        "            total += targets.size(0)\n",
        "            _, predicted = outputs.max(1)\n",
        "            correct += (predicted == targets).sum().item()\n",
        "\n",
        "    avg_loss = sum(batch_losses) / len(batch_losses)\n",
        "    seq_test_loss.append(avg_loss)\n",
        "    seq_test_acc.append(100 * correct / total)\n",
        "    print('\\nTest accuarcy:', 100. * correct / total)\n",
        "    print('Test average loss:', avg_loss)"
      ],
      "metadata": {
        "id": "zxKTZ7oACnGs"
      },
      "execution_count": 26,
      "outputs": []
    },
    {
      "cell_type": "code",
      "source": [
        "# training\n",
        "\n",
        "num_epoch = 20\n",
        "\n",
        "for epoch in range(0, num_epoch):\n",
        "    train(epoch)\n",
        "    test(epoch)\n",
        "\n",
        "# model 저장! - parameter값 저장\n",
        "torch.save(mymodel.state_dict(), './mymodel_a.pt')\n",
        "print('Model Saved!')"
      ],
      "metadata": {
        "id": "8jQhoaEAYjmm"
      },
      "execution_count": null,
      "outputs": []
    },
    {
      "cell_type": "code",
      "source": [
        "# loss, accuracy 추이 확인 with plt.plot\n",
        "seq_train_loss"
      ],
      "metadata": {
        "id": "GvcLW38kYpvh"
      },
      "execution_count": null,
      "outputs": []
    },
    {
      "cell_type": "code",
      "source": [
        "plt.plot(range(num_epoch), seq_train_loss, label=\"Train loss\")\n",
        "plt.plot(range(num_epoch), seq_test_loss, label=\"Test loss\")\n",
        "plt.legend()\n",
        "plt.xlabel('Epoch')\n",
        "plt.ylabel('Loss')\n",
        "plt.show()"
      ],
      "metadata": {
        "id": "3j_HfRQfrC9s"
      },
      "execution_count": null,
      "outputs": []
    },
    {
      "cell_type": "code",
      "source": [
        "seq_train_acc"
      ],
      "metadata": {
        "id": "DG_qQl8dql2z"
      },
      "execution_count": null,
      "outputs": []
    },
    {
      "cell_type": "code",
      "source": [
        "plt.plot(range(num_epoch), seq_train_acc, label=\"Train Accuracy\")\n",
        "plt.plot(range(num_epoch), seq_test_acc, label=\"Test Accuracy\")\n",
        "plt.legend()\n",
        "plt.xlabel('Epoch')\n",
        "plt.ylabel('Accuracy')\n",
        "plt.show()"
      ],
      "metadata": {
        "id": "zwu9gcFXrBOp"
      },
      "execution_count": null,
      "outputs": []
    }
  ]
}