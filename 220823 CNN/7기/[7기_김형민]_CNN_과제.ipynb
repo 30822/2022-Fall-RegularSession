{
  "nbformat": 4,
  "nbformat_minor": 0,
  "metadata": {
    "colab": {
      "name": "[7기 김형민] CNN 과제.ipynb",
      "provenance": [],
      "collapsed_sections": []
    },
    "kernelspec": {
      "name": "python3",
      "display_name": "Python 3"
    },
    "language_info": {
      "name": "python"
    },
    "accelerator": "GPU",
    "gpuClass": "standard"
  },
  "cells": [
    {
      "cell_type": "markdown",
      "source": [
        "# 1. 폴더 정리\n",
        "\n",
        "* 제공해드린 animals10.zip의 압축을 풀어 그 내용을 살펴보시고, 폴더 구조를 학습에 알맞도록 재구성해주세요\n",
        "* 특히 각 클래스마다 약 30% 정도의 이미지를 test 폴더에 할당해주세요\n",
        "* 중간중간 헷갈리다면 이것저것 확인하는 코드를 거쳐보세요 (ex. flat_test[:5]로 앞의 다섯값 확인)\n",
        "* 궁금한 점이 있을 경우, 슬랙 질문 채널 활용을 적극 권장합니다."
      ],
      "metadata": {
        "id": "d2ENRS4E9_xy"
      }
    },
    {
      "cell_type": "code",
      "execution_count": null,
      "metadata": {
        "id": "u7tlWm3L9KoV"
      },
      "outputs": [],
      "source": [
        "### Guideline for convenience ###\n",
        "# 압축 풀기"
      ]
    },
    {
      "cell_type": "code",
      "source": [
        "import os\n",
        "import glob\n",
        "import shutil"
      ],
      "metadata": {
        "id": "z3rMX0TgZt14"
      },
      "execution_count": null,
      "outputs": []
    },
    {
      "cell_type": "code",
      "source": [
        "from google.colab import drive\n",
        "drive.mount('/content/drive')"
      ],
      "metadata": {
        "colab": {
          "base_uri": "https://localhost:8080/"
        },
        "id": "1Gg6f697ZUSU",
        "outputId": "cde19d21-26be-46f3-90d1-67593af29ba8"
      },
      "execution_count": null,
      "outputs": [
        {
          "output_type": "stream",
          "name": "stdout",
          "text": [
            "Mounted at /content/drive\n"
          ]
        }
      ]
    },
    {
      "cell_type": "code",
      "source": [
        "!unzip -qq \"/content/drive/MyDrive/Regular Session Homework/CNN/animals10.zip\""
      ],
      "metadata": {
        "id": "s9FKBCp4ZsSw"
      },
      "execution_count": null,
      "outputs": []
    },
    {
      "cell_type": "code",
      "source": [
        "!ls"
      ],
      "metadata": {
        "colab": {
          "base_uri": "https://localhost:8080/"
        },
        "id": "IR5fKqmZveHK",
        "outputId": "88d20ab5-25e7-435b-a22e-ca05b00f2d17"
      },
      "execution_count": null,
      "outputs": [
        {
          "output_type": "stream",
          "name": "stdout",
          "text": [
            "Animals-10  drive  sample_data\n"
          ]
        }
      ]
    },
    {
      "cell_type": "code",
      "source": [
        "# 각 클래스별 파일 개수 확인 -> 변수로 해당 개수 저장\n",
        "# Tip) 클래스가 10개이므로 각 클래스마다 똑같은 내용의 코드를 계속 써야할까요? 클래스 이름을 리스트로 저장해 for문을 돌리면서 코드를 재사용하는건 어떨까요?"
      ],
      "metadata": {
        "id": "RPXh3srt-1Rx"
      },
      "execution_count": null,
      "outputs": []
    },
    {
      "cell_type": "code",
      "source": [
        "classes = ('butterfly', 'cat', 'chicken', 'cow', 'dog', 'elephant', 'horse', 'sheep', 'spider', 'squirrel')\n",
        "animal_counts = []\n",
        "animal_lists = []"
      ],
      "metadata": {
        "id": "OUCE4iNYy3pH"
      },
      "execution_count": null,
      "outputs": []
    },
    {
      "cell_type": "code",
      "source": [
        "for animal in classes:\n",
        "  animal_list = sorted(glob.glob(f'./Animals-10/{animal}/*.*'))\n",
        "  animal_lists.append(animal_list)\n",
        "  animal_counts.append(len(animal_list))"
      ],
      "metadata": {
        "id": "zgi4nL_Ry68M"
      },
      "execution_count": null,
      "outputs": []
    },
    {
      "cell_type": "code",
      "source": [
        "for idx, animal in enumerate(classes):\n",
        "  print(f'Animal: {animal}, len: {animal_counts[idx]}')"
      ],
      "metadata": {
        "colab": {
          "base_uri": "https://localhost:8080/"
        },
        "id": "ox5Jq779y_gT",
        "outputId": "e13c6ba4-7041-48a1-cc82-58b8688fe24b"
      },
      "execution_count": null,
      "outputs": [
        {
          "output_type": "stream",
          "name": "stdout",
          "text": [
            "Animal: butterfly, len: 2112\n",
            "Animal: cat, len: 1668\n",
            "Animal: chicken, len: 3098\n",
            "Animal: cow, len: 1866\n",
            "Animal: dog, len: 4863\n",
            "Animal: elephant, len: 1446\n",
            "Animal: horse, len: 2623\n",
            "Animal: sheep, len: 1820\n",
            "Animal: spider, len: 4821\n",
            "Animal: squirrel, len: 1862\n"
          ]
        }
      ]
    },
    {
      "cell_type": "code",
      "source": [
        "# test에 넣을 이미지 개수 계산"
      ],
      "metadata": {
        "id": "9Jikw6Rp_BQI"
      },
      "execution_count": null,
      "outputs": []
    },
    {
      "cell_type": "code",
      "source": [
        "animal_test_counts = []"
      ],
      "metadata": {
        "id": "6CwOLlQFzIO0"
      },
      "execution_count": null,
      "outputs": []
    },
    {
      "cell_type": "code",
      "source": [
        "for idx, animal in enumerate(classes):\n",
        "  test_count = round(animal_counts[idx] * 0.3)\n",
        "  animal_test_counts.append(test_count)"
      ],
      "metadata": {
        "id": "_nKtL_1z5rTQ"
      },
      "execution_count": null,
      "outputs": []
    },
    {
      "cell_type": "code",
      "source": [
        "for idx, animal in enumerate(classes):\n",
        "  print(f'Animal: {animal}, len: {animal_test_counts[idx]}')"
      ],
      "metadata": {
        "colab": {
          "base_uri": "https://localhost:8080/"
        },
        "id": "w-SDOqDi5thK",
        "outputId": "04a126dc-6d97-42ac-9304-bd18288704b1"
      },
      "execution_count": null,
      "outputs": [
        {
          "output_type": "stream",
          "name": "stdout",
          "text": [
            "Animal: butterfly, len: 634\n",
            "Animal: cat, len: 500\n",
            "Animal: chicken, len: 929\n",
            "Animal: cow, len: 560\n",
            "Animal: dog, len: 1459\n",
            "Animal: elephant, len: 434\n",
            "Animal: horse, len: 787\n",
            "Animal: sheep, len: 546\n",
            "Animal: spider, len: 1446\n",
            "Animal: squirrel, len: 559\n"
          ]
        }
      ]
    },
    {
      "cell_type": "code",
      "source": [
        "# train, test 폴더 경로 선언 & 만들기"
      ],
      "metadata": {
        "id": "bb2XMrAe_Fl8"
      },
      "execution_count": null,
      "outputs": []
    },
    {
      "cell_type": "code",
      "source": [
        "animal_train_paths = []\n",
        "animal_test_paths = []\n",
        "\n",
        "for idx, animal in enumerate(classes):\n",
        "  train_path = f'./train/{animal}'\n",
        "  test_path = f'./test/{animal}'\n",
        "  animal_train_paths.append(train_path)\n",
        "  animal_test_paths.append(test_path)\n",
        "  os.makedirs(train_path, exist_ok=True)\n",
        "  os.makedirs(test_path, exist_ok=True)"
      ],
      "metadata": {
        "id": "Fb2aYnpc0cD1"
      },
      "execution_count": null,
      "outputs": []
    },
    {
      "cell_type": "code",
      "source": [
        "# train, test 폴더로 이미지 split해서 알맞게 집어넣기"
      ],
      "metadata": {
        "id": "BaAXh57G_srE"
      },
      "execution_count": null,
      "outputs": []
    },
    {
      "cell_type": "code",
      "source": [
        "import random\n",
        "\n",
        "def split(img_list, test_count, train_path, test_path):\n",
        "  # img_list : 이미지 경로 리스트\n",
        "  # test_count : test에 할당할 이미지 개수\n",
        "  # train_path : train 데이터 넣을 경로\n",
        "  # test_path : test 데이터 넣을 경로\n",
        "  \n",
        "  # 랜덤으로 test_count만큼 이미지 img_list에서 고르기\n",
        "  # test 담을 이미지 리스트 저장\n",
        "  test_files=[]\n",
        "  for i in random.sample(img_list, test_count):\n",
        "    test_files.append(i)\n",
        "\n",
        "  # 위에서 고르지 않은 이미지들을 train 담을 이미지 리스트로 저장\n",
        "  train_files = [x for x in img_list if x not in test_files]\n",
        "\n",
        "  # 고른 이미지를 train_path, test_path폴더에 폭사\n",
        "  for k in train_files:\n",
        "    shutil.copy(k, train_path)\n",
        "  \n",
        "  for c in test_files:\n",
        "    shutil.copy(c, test_path)\n",
        "\n",
        "  print('train 폴더 이미지 개수 : {}\\ntest 폴더 이미지 개수 : {}'.format(len(glob.glob(train_path+'/*')),len(glob.glob(test_path+'/*'))))"
      ],
      "metadata": {
        "id": "jMA2YaGh2lUD"
      },
      "execution_count": null,
      "outputs": []
    },
    {
      "cell_type": "code",
      "source": [
        "for idx, animal in enumerate(classes):\n",
        "  split(animal_lists[idx], animal_test_counts[idx], animal_train_paths[idx], animal_test_paths[idx])"
      ],
      "metadata": {
        "colab": {
          "base_uri": "https://localhost:8080/"
        },
        "id": "NxYC0kU22P2c",
        "outputId": "0f009146-6166-443f-901e-868357152ad2"
      },
      "execution_count": null,
      "outputs": [
        {
          "output_type": "stream",
          "name": "stdout",
          "text": [
            "train 폴더 이미지 개수 : 1478\n",
            "test 폴더 이미지 개수 : 634\n",
            "train 폴더 이미지 개수 : 1168\n",
            "test 폴더 이미지 개수 : 500\n",
            "train 폴더 이미지 개수 : 2169\n",
            "test 폴더 이미지 개수 : 929\n",
            "train 폴더 이미지 개수 : 1306\n",
            "test 폴더 이미지 개수 : 560\n",
            "train 폴더 이미지 개수 : 3404\n",
            "test 폴더 이미지 개수 : 1459\n",
            "train 폴더 이미지 개수 : 1012\n",
            "test 폴더 이미지 개수 : 434\n",
            "train 폴더 이미지 개수 : 1836\n",
            "test 폴더 이미지 개수 : 787\n",
            "train 폴더 이미지 개수 : 1274\n",
            "test 폴더 이미지 개수 : 546\n",
            "train 폴더 이미지 개수 : 3375\n",
            "test 폴더 이미지 개수 : 1446\n",
            "train 폴더 이미지 개수 : 1303\n",
            "test 폴더 이미지 개수 : 559\n"
          ]
        }
      ]
    },
    {
      "cell_type": "markdown",
      "source": [
        "# 2. CNN 모델\n",
        "수업 코드에 '모델 성능에 대한 고민!!' 부분을 참고해서 **test 이미지 기준 최소 80% 이상**의 모델이 나올 수 있도록 학습을 진행해주세요.\n",
        "* 중간중간 헷갈리다면 이것저것 확인하는 코드를 거쳐보세요\n",
        "* 90% 이상의 모델이 이상적이긴 합니다\n",
        "* 궁금한 점이 있을 경우, 슬랙 질문 채널 활용을 적극 권장합니다."
      ],
      "metadata": {
        "id": "UKa7LZ4RAXxA"
      }
    },
    {
      "cell_type": "markdown",
      "source": [
        "전반적으로 수업 코드와 비슷하게 짜면 되는데, 생각해봐야 할 것은\n",
        "* 모든 이미지를 내가 정의하는 하나의 모델에 넣어야함\n",
        "* 그말은 input 데이터의 차원이 항상 동일해야 된다는 말\n",
        "* 그런데 과연 내가 가지고 있는 이미지들의 사이즈가 모두 같을까? - 대략 얼마정도 사이즈 가지고 있는지 코드로 확인해보면 더 좋음 (shape 확인)\n",
        "* 이미지 사이즈를 통일시키기 위해서는 어떻게 해야할까? - transforms의 Resize, RandomCrop 써볼까?\n",
        "* 동물 이미지에 적합한 Augmentation은 무엇이 있을까?"
      ],
      "metadata": {
        "id": "31hFiKNBD48l"
      }
    },
    {
      "cell_type": "code",
      "source": [
        "# train, test 이미지를 위한 transforms function 정의\n",
        "# 위에서 말한 포인트들 생각해보기 - 차원에 유의하자!"
      ],
      "metadata": {
        "id": "UM1CiMcdAfas"
      },
      "execution_count": null,
      "outputs": []
    },
    {
      "cell_type": "code",
      "source": [
        "import torch\n",
        "import torchvision\n",
        "import torchvision.transforms as transforms\n",
        "\n",
        "transform_animal_train = transforms.Compose([\n",
        "    transforms.ColorJitter(brightness=0.5),\n",
        "    transforms.RandomCrop(32),\n",
        "    transforms.Resize((32,32)),\n",
        "    transforms.RandomHorizontalFlip(p=0.5),\n",
        "    transforms.RandomRotation(20),\n",
        "    transforms.ToTensor(),\n",
        "    transforms.Normalize((0.485, 0.456, 0.406), (0.229, 0.224, 0.225))\n",
        "])\n",
        "\n",
        "transform_animal_test = transforms.Compose([\n",
        "    transforms.Resize((32,32)),\n",
        "    transforms.ToTensor(),\n",
        "    transforms.Normalize((0.485, 0.456, 0.406), (0.229, 0.224, 0.225))\n",
        "])"
      ],
      "metadata": {
        "id": "-CF4Da2T6qOT"
      },
      "execution_count": null,
      "outputs": []
    },
    {
      "cell_type": "code",
      "source": [
        "# ImageFolder와 앞서 정의한 transforms function을 활용해 Dataset 객체 (train, test에 대해) 선언"
      ],
      "metadata": {
        "id": "QAYc35vdAlHk"
      },
      "execution_count": null,
      "outputs": []
    },
    {
      "cell_type": "code",
      "source": [
        "train_dataset = torchvision.datasets.ImageFolder(\n",
        "    root = './train', \n",
        "    transform = transform_animal_train \n",
        ")\n",
        "test_dataset = torchvision.datasets.ImageFolder(\n",
        "    root = './test',\n",
        "    transform = transform_animal_test\n",
        ")"
      ],
      "metadata": {
        "id": "IFxY_KV27wW6"
      },
      "execution_count": null,
      "outputs": []
    },
    {
      "cell_type": "code",
      "source": [
        "train_dataset"
      ],
      "metadata": {
        "colab": {
          "base_uri": "https://localhost:8080/"
        },
        "id": "cVv5-Xpc9lAT",
        "outputId": "a9194a94-4de5-4584-d6fc-415bda13b967"
      },
      "execution_count": null,
      "outputs": [
        {
          "output_type": "execute_result",
          "data": {
            "text/plain": [
              "Dataset ImageFolder\n",
              "    Number of datapoints: 18325\n",
              "    Root location: ./train\n",
              "    StandardTransform\n",
              "Transform: Compose(\n",
              "               ColorJitter(brightness=[0.5, 1.5], contrast=None, saturation=None, hue=None)\n",
              "               RandomCrop(size=(32, 32), padding=None)\n",
              "               Resize(size=(32, 32), interpolation=bilinear, max_size=None, antialias=None)\n",
              "               RandomHorizontalFlip(p=0.5)\n",
              "               RandomRotation(degrees=[-20.0, 20.0], interpolation=nearest, expand=False, fill=0)\n",
              "               ToTensor()\n",
              "               Normalize(mean=(0.485, 0.456, 0.406), std=(0.229, 0.224, 0.225))\n",
              "           )"
            ]
          },
          "metadata": {},
          "execution_count": 71
        }
      ]
    },
    {
      "cell_type": "code",
      "source": [
        "len(train_dataset)"
      ],
      "metadata": {
        "colab": {
          "base_uri": "https://localhost:8080/"
        },
        "id": "k45ET1F39qsk",
        "outputId": "7ccaf7e3-8de2-4601-c230-d74a347d9727"
      },
      "execution_count": null,
      "outputs": [
        {
          "output_type": "execute_result",
          "data": {
            "text/plain": [
              "18325"
            ]
          },
          "metadata": {},
          "execution_count": 72
        }
      ]
    },
    {
      "cell_type": "code",
      "source": [
        "train_dataset[0][0].shape"
      ],
      "metadata": {
        "colab": {
          "base_uri": "https://localhost:8080/"
        },
        "id": "OQLDQHpE9w5D",
        "outputId": "34f41e39-9663-44a4-bf78-a52d13097f5b"
      },
      "execution_count": null,
      "outputs": [
        {
          "output_type": "execute_result",
          "data": {
            "text/plain": [
              "torch.Size([3, 32, 32])"
            ]
          },
          "metadata": {},
          "execution_count": 73
        }
      ]
    },
    {
      "cell_type": "code",
      "source": [
        "# train, test에 대해 DataLoader 정의"
      ],
      "metadata": {
        "id": "gHF4PaUQAvzJ"
      },
      "execution_count": null,
      "outputs": []
    },
    {
      "cell_type": "code",
      "source": [
        "train_loader = torch.utils.data.DataLoader(\n",
        "    train_dataset,\n",
        "    batch_size = 32,      # 일반적으로 batch size = 16, 32\n",
        "    shuffle=True,         # train dataloader는 epoch마다 데이터 다시 섞어서 batch 만들고 학습! - 학습 효율 up\n",
        "    num_workers=2\n",
        ")\n",
        "\n",
        "test_loader = torch.utils.data.DataLoader(\n",
        "    test_dataset,\n",
        "    batch_size = 32,      # 일반적으로 batch size = 16, 32\n",
        "    shuffle=False,         # train dataloader는 epoch마다 데이터 다시 섞어서 batch 만들고 학습! - 학습 효율 up\n",
        "    num_workers=2\n",
        ")"
      ],
      "metadata": {
        "id": "sC713Eap95KZ"
      },
      "execution_count": null,
      "outputs": []
    },
    {
      "cell_type": "code",
      "source": [
        "# 18325/32 = 573\n",
        "len(train_loader)"
      ],
      "metadata": {
        "colab": {
          "base_uri": "https://localhost:8080/"
        },
        "id": "OX3bMqjVAKmR",
        "outputId": "97838bfd-fa20-460a-d625-62d90333d118"
      },
      "execution_count": null,
      "outputs": [
        {
          "output_type": "execute_result",
          "data": {
            "text/plain": [
              "573"
            ]
          },
          "metadata": {},
          "execution_count": 41
        }
      ]
    },
    {
      "cell_type": "code",
      "source": [
        "### Model 클래스 정의 - 차원에 유의하자!\n",
        "# 10개의 클래스를 분류해야 하는 꽤나 복잡한 task - 모델 구조를 어느 정도로 복잡하게 짜볼까?\n",
        "# 가장 마지막 Linear의 out_features는 얼마로 해야할까?"
      ],
      "metadata": {
        "id": "Kpvu7SJtAyUH"
      },
      "execution_count": null,
      "outputs": []
    },
    {
      "cell_type": "code",
      "source": [
        "import torch.nn as nn"
      ],
      "metadata": {
        "id": "JtYTHF1eAapy"
      },
      "execution_count": null,
      "outputs": []
    },
    {
      "cell_type": "code",
      "source": [
        "class MyModel(nn.Module):\n",
        "    def __init__(self):\n",
        "        super(MyModel, self).__init__()\n",
        "        \n",
        "        ##### Layer 정의 #####\n",
        "        self.layer = nn.Sequential(\n",
        "            # 맨처음 RGB 채널 3개이므로 가장 처음 in_channels = 3\n",
        "            # img의 가장 첫 차원이 batch_size 값은 계속해서 유지\n",
        "            nn.Conv2d(in_channels=3, out_channels=16, kernel_size=3, padding=1),  # [3,224,224] -> [16,224,224] \n",
        "            nn.ReLU(),\n",
        "            nn.Conv2d(in_channels=16, out_channels=16, kernel_size=3, padding=1), # [batch_size,8,224,224] -> [batch_size,16,224,224]\n",
        "            nn.ReLU(),\n",
        "            nn.Dropout(0.2), # 0.2 확률로 Dropout\n",
        "            nn.MaxPool2d(kernel_size=2, stride=2),                                # [batch_size,16,224,224] -> [batch_size,16,112,112]\n",
        "\n",
        "            nn.Conv2d(in_channels=16, out_channels=32, kernel_size=3, padding=1), \n",
        "            nn.ReLU(),\n",
        "            nn.Conv2d(in_channels=32, out_channels=32, kernel_size=3, padding=1),            \n",
        "            nn.ReLU(),\n",
        "            nn.Dropout(0.2),\n",
        "\n",
        "            nn.Conv2d(in_channels=32, out_channels=32, kernel_size=3, padding=1),\n",
        "            nn.ReLU(),\n",
        "            nn.MaxPool2d(kernel_size=2, stride=2)                                 \n",
        "        )\n",
        "        self.fc_layer = nn.Sequential(\n",
        "            nn.Linear(32*8*8,100),                                                \n",
        "            nn.ReLU(),\n",
        "            nn.Linear(100,10)\n",
        "        )\n",
        "\n",
        "    def forward(self, x):\n",
        "        # forward pass 과정\n",
        "        out = self.layer(x)\n",
        "        out = out.view(out.size(0),-1)  \n",
        "        out = self.fc_layer(out)\n",
        "        return out"
      ],
      "metadata": {
        "id": "RmWRFRAlAdVa"
      },
      "execution_count": null,
      "outputs": []
    },
    {
      "cell_type": "code",
      "source": [
        "# torchsummary로 모델 차원 어떻게 나오는지 돌려보기"
      ],
      "metadata": {
        "id": "K_AvhGgTCXO7"
      },
      "execution_count": null,
      "outputs": []
    },
    {
      "cell_type": "code",
      "source": [
        "from torchsummary import summary\n",
        "test_model = MyModel().to(device)\n",
        "summary(test_model, (3,32,32), batch_size=16) "
      ],
      "metadata": {
        "colab": {
          "base_uri": "https://localhost:8080/"
        },
        "id": "2kC_hIIBCHl1",
        "outputId": "1b35b2d2-71d0-4f66-8398-74b94afcb58b"
      },
      "execution_count": null,
      "outputs": [
        {
          "output_type": "stream",
          "name": "stdout",
          "text": [
            "----------------------------------------------------------------\n",
            "        Layer (type)               Output Shape         Param #\n",
            "================================================================\n",
            "            Conv2d-1           [16, 16, 32, 32]             448\n",
            "              ReLU-2           [16, 16, 32, 32]               0\n",
            "            Conv2d-3           [16, 16, 32, 32]           2,320\n",
            "              ReLU-4           [16, 16, 32, 32]               0\n",
            "           Dropout-5           [16, 16, 32, 32]               0\n",
            "         MaxPool2d-6           [16, 16, 16, 16]               0\n",
            "            Conv2d-7           [16, 32, 16, 16]           4,640\n",
            "              ReLU-8           [16, 32, 16, 16]               0\n",
            "            Conv2d-9           [16, 32, 16, 16]           9,248\n",
            "             ReLU-10           [16, 32, 16, 16]               0\n",
            "          Dropout-11           [16, 32, 16, 16]               0\n",
            "           Conv2d-12           [16, 32, 16, 16]           9,248\n",
            "             ReLU-13           [16, 32, 16, 16]               0\n",
            "        MaxPool2d-14             [16, 32, 8, 8]               0\n",
            "           Linear-15                  [16, 100]         204,900\n",
            "             ReLU-16                  [16, 100]               0\n",
            "           Linear-17                   [16, 10]           1,010\n",
            "================================================================\n",
            "Total params: 231,814\n",
            "Trainable params: 231,814\n",
            "Non-trainable params: 0\n",
            "----------------------------------------------------------------\n",
            "Input size (MB): 0.19\n",
            "Forward/backward pass size (MB): 17.78\n",
            "Params size (MB): 0.88\n",
            "Estimated Total Size (MB): 18.85\n",
            "----------------------------------------------------------------\n"
          ]
        }
      ]
    },
    {
      "cell_type": "code",
      "source": [
        "# Device 선언 (GPU 권장)"
      ],
      "metadata": {
        "id": "A99ALViSCbmI"
      },
      "execution_count": null,
      "outputs": []
    },
    {
      "cell_type": "code",
      "source": [
        "device = torch.device(\"cuda:0\" if torch.cuda.is_available() else \"cpu\")\n",
        "device"
      ],
      "metadata": {
        "colab": {
          "base_uri": "https://localhost:8080/"
        },
        "id": "fhC-JaAQCTCQ",
        "outputId": "cb4cf7ab-e19d-4dfa-aa01-146bb99fc6e1"
      },
      "execution_count": null,
      "outputs": [
        {
          "output_type": "execute_result",
          "data": {
            "text/plain": [
              "device(type='cuda', index=0)"
            ]
          },
          "metadata": {},
          "execution_count": 76
        }
      ]
    },
    {
      "cell_type": "code",
      "source": [
        "# 모델 객체 선언"
      ],
      "metadata": {
        "id": "FmZYSSBFCfOU"
      },
      "execution_count": null,
      "outputs": []
    },
    {
      "cell_type": "code",
      "source": [
        "mymodel = MyModel().to(device)\n",
        "mymodel"
      ],
      "metadata": {
        "colab": {
          "base_uri": "https://localhost:8080/"
        },
        "id": "V-oDhsfjC5iK",
        "outputId": "45843d80-5fe5-490f-9051-f11a83bcdfae"
      },
      "execution_count": null,
      "outputs": [
        {
          "output_type": "execute_result",
          "data": {
            "text/plain": [
              "MyModel(\n",
              "  (layer): Sequential(\n",
              "    (0): Conv2d(3, 16, kernel_size=(3, 3), stride=(1, 1), padding=(1, 1))\n",
              "    (1): ReLU()\n",
              "    (2): Conv2d(16, 16, kernel_size=(3, 3), stride=(1, 1), padding=(1, 1))\n",
              "    (3): ReLU()\n",
              "    (4): Dropout(p=0.2, inplace=False)\n",
              "    (5): MaxPool2d(kernel_size=2, stride=2, padding=0, dilation=1, ceil_mode=False)\n",
              "    (6): Conv2d(16, 32, kernel_size=(3, 3), stride=(1, 1), padding=(1, 1))\n",
              "    (7): ReLU()\n",
              "    (8): Conv2d(32, 32, kernel_size=(3, 3), stride=(1, 1), padding=(1, 1))\n",
              "    (9): ReLU()\n",
              "    (10): Dropout(p=0.2, inplace=False)\n",
              "    (11): Conv2d(32, 32, kernel_size=(3, 3), stride=(1, 1), padding=(1, 1))\n",
              "    (12): ReLU()\n",
              "    (13): MaxPool2d(kernel_size=2, stride=2, padding=0, dilation=1, ceil_mode=False)\n",
              "  )\n",
              "  (fc_layer): Sequential(\n",
              "    (0): Linear(in_features=2048, out_features=100, bias=True)\n",
              "    (1): ReLU()\n",
              "    (2): Linear(in_features=100, out_features=10, bias=True)\n",
              "  )\n",
              ")"
            ]
          },
          "metadata": {},
          "execution_count": 78
        }
      ]
    },
    {
      "cell_type": "code",
      "source": [
        "# loss func, optimizer 정의"
      ],
      "metadata": {
        "id": "CFk7o_fuCgc7"
      },
      "execution_count": null,
      "outputs": []
    },
    {
      "cell_type": "code",
      "source": [
        "criterion = nn.CrossEntropyLoss().to(device)\n",
        "optimizer = torch.optim.Adam(mymodel.parameters(), lr=0.001, weight_decay=0.0001) "
      ],
      "metadata": {
        "id": "koMowcazC-du"
      },
      "execution_count": null,
      "outputs": []
    },
    {
      "cell_type": "code",
      "source": [
        "# train 함수 정의"
      ],
      "metadata": {
        "id": "-ENGsLI3CksA"
      },
      "execution_count": null,
      "outputs": []
    },
    {
      "cell_type": "code",
      "source": [
        "seq_train_loss = []\n",
        "seq_test_loss = []\n",
        "seq_train_acc = []\n",
        "seq_test_acc = []"
      ],
      "metadata": {
        "id": "RacFCa67DOkI"
      },
      "execution_count": null,
      "outputs": []
    },
    {
      "cell_type": "code",
      "source": [
        "def train(epoch):\n",
        "    print(f'\\n[ Train epoch: {epoch+1} ]')\n",
        "\n",
        "    mymodel.train() # train은 항상 이걸 지정하고 시작! - Dropout, Batch Normalization 등의 효과를 적용하고 진행하기 위함\n",
        "\n",
        "    running_loss = 0.0\n",
        "    batch_losses = []\n",
        "    total = 0\n",
        "    correct = 0\n",
        "\n",
        "    for batch_idx, (inputs, targets) in enumerate(train_loader):\n",
        "        inputs, targets = inputs.to(device), targets.to(device) # dataloader의 input image와 label도 device에 넣어줘야됨\n",
        "        \n",
        "        # DL 학습 기본 코드\n",
        "        optimizer.zero_grad() # gradient 초기화\n",
        "        outputs = mymodel(inputs) # 현재 batch의 inputs을 모델에 넣어 outputs 추출 (확률값)\n",
        "        loss = criterion(outputs, targets) # 추출한 outputs와 원래 label인 targets 사이 loss 계산\n",
        "        loss.backward() # 계산한 loss 기반으로 gradient 값 계산\n",
        "        optimizer.step() # weight parameter update\n",
        "\n",
        "        total += targets.size(0) # batch 데이터 개수 더하기\n",
        "        running_loss += loss.item()\n",
        "        batch_losses.append(loss.item())\n",
        "        \n",
        "        _, predicted = outputs.max(1) # 확률값 가장 높게 나타난 클래스\n",
        "        correct += (predicted == targets).sum().item() # 현재 batch 내에서 알맞게 분류한 이미지 개수 더하기\n",
        "        \n",
        "        if batch_idx % 300 == 299:\n",
        "            print(f'\\nCurrent batch: {str(batch_idx+1)}')\n",
        "            print(f'Average train loss of recent 300 batches: {running_loss / 300}') # 이렇게 출력하는 것이 꼭 필요한 것은 아니지만, 중간중간 확인을 위해 매우 권장\n",
        "            running_loss = 0.0\n",
        "\n",
        "    avg_loss = sum(batch_losses) / len(batch_losses)\n",
        "    seq_train_loss.append(avg_loss)\n",
        "    seq_train_acc.append(100*correct/total)\n",
        "    print('\\nTotal train accuarcy:', 100. * correct / total) # 전체 데이터 개수에서 맞게 예측한 비율\n",
        "    print('Total train loss:', avg_loss)"
      ],
      "metadata": {
        "id": "TVcK0rI1DQA1"
      },
      "execution_count": null,
      "outputs": []
    },
    {
      "cell_type": "code",
      "source": [
        "# test 함수 정의"
      ],
      "metadata": {
        "id": "zxKTZ7oACnGs"
      },
      "execution_count": null,
      "outputs": []
    },
    {
      "cell_type": "code",
      "source": [
        "def test(epoch):\n",
        "    print(f'\\n[ Test epoch: {epoch+1} ]')\n",
        "\n",
        "    mymodel.eval() # eval은 항상 이걸 지정하고 시작! - Dropout, Batch Normalization 등의 효과를 적용하지 않기 위함!\n",
        "                   # ex. evaluation 할때는 Dropout 없이 지금까지 학습한 모든 node를 활용해서 진행해야됨\n",
        "\n",
        "    loss = 0\n",
        "    batch_losses = []\n",
        "    correct = 0\n",
        "    total = 0\n",
        "\n",
        "    with torch.no_grad(): # gradient update 안함 - eval과 torch.no_grad는 하나의 세트\n",
        "        for batch_idx, (inputs, targets) in enumerate(test_loader):\n",
        "            inputs, targets = inputs.to(device), targets.to(device)\n",
        "\n",
        "            outputs = mymodel(inputs)\n",
        "            loss = criterion(outputs, targets)\n",
        "            batch_losses.append(loss.item())\n",
        "\n",
        "            total += targets.size(0)\n",
        "            _, predicted = outputs.max(1)\n",
        "            correct += (predicted == targets).sum().item()\n",
        "\n",
        "    avg_loss = sum(batch_losses) / len(batch_losses)\n",
        "    seq_test_loss.append(avg_loss)\n",
        "    seq_test_acc.append(100 * correct / total)\n",
        "    print('\\nTest accuarcy:', 100. * correct / total)\n",
        "    print('Test average loss:', avg_loss)"
      ],
      "metadata": {
        "id": "qEv1jrOvDk1k"
      },
      "execution_count": null,
      "outputs": []
    },
    {
      "cell_type": "code",
      "source": [
        "# training"
      ],
      "metadata": {
        "id": "Y2AB6X97Cx4s"
      },
      "execution_count": null,
      "outputs": []
    },
    {
      "cell_type": "code",
      "source": [
        "num_epoch = 30\n",
        "\n",
        "for epoch in range(0, num_epoch):\n",
        "    train(epoch)\n",
        "    test(epoch)\n",
        "\n",
        "# model 저장! - parameter값 저장\n",
        "torch.save(mymodel.state_dict(), '/content/drive/MyDrive/data/mymodel_animals.pt')\n",
        "print('Model Saved!')"
      ],
      "metadata": {
        "colab": {
          "base_uri": "https://localhost:8080/",
          "height": 1000
        },
        "id": "1l7wQZbWDrKs",
        "outputId": "172ea1d8-fc6e-4f90-9800-d51dd10f9662"
      },
      "execution_count": null,
      "outputs": [
        {
          "output_type": "stream",
          "name": "stdout",
          "text": [
            "\n",
            "[ Train epoch: 1 ]\n",
            "\n",
            "Current batch: 300\n",
            "Average train loss of recent 300 batches: 2.2135509204864503\n",
            "\n",
            "Total train accuarcy: 18.630286493860847\n",
            "Total train loss: 2.2056549042723357\n",
            "\n",
            "[ Test epoch: 1 ]\n",
            "\n",
            "Test accuarcy: 18.70384517443341\n",
            "Test average loss: 2.1671600453252715\n",
            "\n",
            "[ Train epoch: 2 ]\n",
            "\n",
            "Current batch: 300\n",
            "Average train loss of recent 300 batches: 2.1729569367567696\n",
            "\n",
            "Total train accuarcy: 18.575716234652116\n",
            "Total train loss: 2.178474857545024\n",
            "\n",
            "[ Test epoch: 2 ]\n",
            "\n",
            "Test accuarcy: 18.99668958492488\n",
            "Test average loss: 2.184360278815758\n",
            "\n",
            "[ Train epoch: 3 ]\n",
            "\n",
            "Current batch: 300\n",
            "Average train loss of recent 300 batches: 2.16231649796168\n",
            "\n",
            "Total train accuarcy: 19.012278308321964\n",
            "Total train loss: 2.167625071074534\n",
            "\n",
            "[ Test epoch: 3 ]\n",
            "\n",
            "Test accuarcy: 23.249299719887954\n",
            "Test average loss: 2.1552120631303247\n",
            "\n",
            "[ Train epoch: 4 ]\n",
            "\n",
            "Current batch: 300\n",
            "Average train loss of recent 300 batches: 2.165307273467382\n",
            "\n",
            "Total train accuarcy: 19.94542974079127\n",
            "Total train loss: 2.1623452712520046\n",
            "\n",
            "[ Test epoch: 4 ]\n",
            "\n",
            "Test accuarcy: 20.84288260758849\n",
            "Test average loss: 2.1316219006127457\n",
            "\n",
            "[ Train epoch: 5 ]\n",
            "\n",
            "Current batch: 300\n",
            "Average train loss of recent 300 batches: 2.140114581187566\n",
            "\n",
            "Total train accuarcy: 21.287858117326056\n",
            "Total train loss: 2.1389199761612043\n",
            "\n",
            "[ Test epoch: 5 ]\n",
            "\n",
            "Test accuarcy: 19.684237331296156\n",
            "Test average loss: 2.1428342679651773\n",
            "\n",
            "[ Train epoch: 6 ]\n",
            "\n",
            "Current batch: 300\n",
            "Average train loss of recent 300 batches: 2.124298011859258\n",
            "\n",
            "Total train accuarcy: 22.188267394270124\n",
            "Total train loss: 2.1123206715309184\n",
            "\n",
            "[ Test epoch: 6 ]\n",
            "\n",
            "Test accuarcy: 20.55003819709702\n",
            "Test average loss: 2.128236211412321\n",
            "\n",
            "[ Train epoch: 7 ]\n",
            "\n",
            "Current batch: 300\n",
            "Average train loss of recent 300 batches: 2.0998566695054373\n",
            "\n",
            "Total train accuarcy: 23.050477489768078\n",
            "Total train loss: 2.095039553667238\n",
            "\n",
            "[ Test epoch: 7 ]\n",
            "\n",
            "Test accuarcy: 22.892793481028775\n",
            "Test average loss: 2.108832152878366\n",
            "\n",
            "[ Train epoch: 8 ]\n",
            "\n",
            "Current batch: 300\n",
            "Average train loss of recent 300 batches: 2.0837428387006125\n",
            "\n",
            "Total train accuarcy: 23.79263301500682\n",
            "Total train loss: 2.0804668517220914\n",
            "\n",
            "[ Test epoch: 8 ]\n",
            "\n",
            "Test accuarcy: 21.19938884644767\n",
            "Test average loss: 2.139702542525966\n",
            "\n",
            "[ Train epoch: 9 ]\n",
            "\n",
            "Current batch: 300\n",
            "Average train loss of recent 300 batches: 2.0735513031482697\n",
            "\n",
            "Total train accuarcy: 24.12005457025921\n",
            "Total train loss: 2.0739753219261634\n",
            "\n",
            "[ Test epoch: 9 ]\n",
            "\n",
            "Test accuarcy: 25.05729564553094\n",
            "Test average loss: 2.0970395236480526\n",
            "\n",
            "[ Train epoch: 10 ]\n",
            "\n",
            "Current batch: 300\n",
            "Average train loss of recent 300 batches: 2.054110111395518\n",
            "\n",
            "Total train accuarcy: 24.08731241473397\n",
            "Total train loss: 2.0619024602114426\n",
            "\n",
            "[ Test epoch: 10 ]\n",
            "\n",
            "Test accuarcy: 21.797810033104152\n",
            "Test average loss: 2.1131265420254652\n",
            "\n",
            "[ Train epoch: 11 ]\n",
            "\n",
            "Current batch: 300\n",
            "Average train loss of recent 300 batches: 2.0600275468826292\n",
            "\n",
            "Total train accuarcy: 24.567530695770806\n",
            "Total train loss: 2.0576913523216316\n",
            "\n",
            "[ Test epoch: 11 ]\n",
            "\n",
            "Test accuarcy: 23.478482302011713\n",
            "Test average loss: 2.097866317120994\n",
            "\n",
            "[ Train epoch: 12 ]\n",
            "\n",
            "Current batch: 300\n",
            "Average train loss of recent 300 batches: 2.043053229649862\n",
            "\n",
            "Total train accuarcy: 25.462482946793997\n",
            "Total train loss: 2.043428188011076\n",
            "\n",
            "[ Test epoch: 12 ]\n",
            "\n",
            "Test accuarcy: 25.095492742551567\n",
            "Test average loss: 2.0757323585874667\n",
            "\n",
            "[ Train epoch: 13 ]\n",
            "\n",
            "Current batch: 300\n",
            "Average train loss of recent 300 batches: 2.0355846977233885\n",
            "\n",
            "Total train accuarcy: 25.844474761255118\n",
            "Total train loss: 2.039524899935431\n",
            "\n",
            "[ Test epoch: 13 ]\n",
            "\n",
            "Test accuarcy: 23.64400305576776\n",
            "Test average loss: 2.089885975771803\n",
            "\n",
            "[ Train epoch: 14 ]\n",
            "\n",
            "Current batch: 300\n",
            "Average train loss of recent 300 batches: 2.0296319552262623\n",
            "\n",
            "Total train accuarcy: 26.1118690313779\n",
            "Total train loss: 2.0295070214213293\n",
            "\n",
            "[ Test epoch: 14 ]\n",
            "\n",
            "Test accuarcy: 22.61268143621085\n",
            "Test average loss: 2.089790209037502\n",
            "\n",
            "[ Train epoch: 15 ]\n",
            "\n",
            "Current batch: 300\n",
            "Average train loss of recent 300 batches: 2.025068317254384\n",
            "\n",
            "Total train accuarcy: 26.63574351978172\n",
            "Total train loss: 2.022431712916176\n",
            "\n",
            "[ Test epoch: 15 ]\n",
            "\n",
            "Test accuarcy: 25.146422205245734\n",
            "Test average loss: 2.0482794812055136\n",
            "\n",
            "[ Train epoch: 16 ]\n",
            "\n",
            "Current batch: 300\n",
            "Average train loss of recent 300 batches: 2.014718682765961\n",
            "\n",
            "Total train accuarcy: 27.38881309686221\n",
            "Total train loss: 2.0141088036758528\n",
            "\n",
            "[ Test epoch: 16 ]\n",
            "\n",
            "Test accuarcy: 21.68321874204227\n",
            "Test average loss: 2.1035018151368554\n",
            "\n",
            "[ Train epoch: 17 ]\n",
            "\n",
            "Current batch: 300\n",
            "Average train loss of recent 300 batches: 2.012029362519582\n",
            "\n",
            "Total train accuarcy: 27.45975443383356\n",
            "Total train loss: 2.0147658829913713\n",
            "\n",
            "[ Test epoch: 17 ]\n",
            "\n",
            "Test accuarcy: 25.044563279857396\n",
            "Test average loss: 2.0653806682524642\n",
            "\n",
            "[ Train epoch: 18 ]\n",
            "\n",
            "Current batch: 300\n",
            "Average train loss of recent 300 batches: 2.0100885685284933\n",
            "\n",
            "Total train accuarcy: 27.028649386084584\n",
            "Total train loss: 2.0062409092202445\n",
            "\n",
            "[ Test epoch: 18 ]\n",
            "\n",
            "Test accuarcy: 24.713521772345302\n",
            "Test average loss: 2.0758555613882175\n",
            "\n",
            "[ Train epoch: 19 ]\n",
            "\n",
            "Current batch: 300\n",
            "Average train loss of recent 300 batches: 2.0057069118817648\n",
            "\n",
            "Total train accuarcy: 27.743519781718962\n",
            "Total train loss: 2.004719862555126\n",
            "\n",
            "[ Test epoch: 19 ]\n",
            "\n",
            "Test accuarcy: 23.071046600458367\n",
            "Test average loss: 2.090157718677831\n",
            "\n",
            "[ Train epoch: 20 ]\n",
            "\n",
            "Current batch: 300\n",
            "Average train loss of recent 300 batches: 2.0121240226427712\n",
            "\n",
            "Total train accuarcy: 27.339699863574353\n",
            "Total train loss: 2.007002004570154\n",
            "\n",
            "[ Test epoch: 20 ]\n",
            "\n",
            "Test accuarcy: 26.54698242933537\n",
            "Test average loss: 2.0470910266162905\n",
            "\n",
            "[ Train epoch: 21 ]\n",
            "\n",
            "Current batch: 300\n",
            "Average train loss of recent 300 batches: 1.9993995221455891\n",
            "\n",
            "Total train accuarcy: 27.885402455661666\n",
            "Total train loss: 2.0035109561567324\n",
            "\n",
            "[ Test epoch: 21 ]\n",
            "\n",
            "Test accuarcy: 26.24140565317036\n",
            "Test average loss: 2.048857268279161\n",
            "\n",
            "[ Train epoch: 22 ]\n",
            "\n",
            "Current batch: 300\n",
            "Average train loss of recent 300 batches: 1.9910972666740419\n",
            "\n",
            "Total train accuarcy: 28.03819918144611\n",
            "Total train loss: 1.994323994892846\n",
            "\n",
            "[ Test epoch: 22 ]\n",
            "\n",
            "Test accuarcy: 24.94270435446906\n",
            "Test average loss: 2.0649773774108264\n",
            "\n",
            "[ Train epoch: 23 ]\n",
            "\n",
            "Current batch: 300\n",
            "Average train loss of recent 300 batches: 1.998184046347936\n",
            "\n",
            "Total train accuarcy: 27.65075034106412\n",
            "Total train loss: 2.0017850848392666\n",
            "\n",
            "[ Test epoch: 23 ]\n",
            "\n",
            "Test accuarcy: 25.10822510822511\n",
            "Test average loss: 2.039990368412762\n",
            "\n",
            "[ Train epoch: 24 ]\n",
            "\n",
            "Current batch: 300\n",
            "Average train loss of recent 300 batches: 1.9855842832724253\n",
            "\n",
            "Total train accuarcy: 27.847203274215552\n",
            "Total train loss: 1.9880767018383085\n",
            "\n",
            "[ Test epoch: 24 ]\n",
            "\n",
            "Test accuarcy: 24.980901451489686\n",
            "Test average loss: 2.058255070108708\n",
            "\n",
            "[ Train epoch: 25 ]\n",
            "\n",
            "Current batch: 300\n",
            "Average train loss of recent 300 batches: 1.9802723455429077\n",
            "\n",
            "Total train accuarcy: 28.294679399727148\n",
            "Total train loss: 1.9815450388723643\n",
            "\n",
            "[ Test epoch: 25 ]\n",
            "\n",
            "Test accuarcy: 24.624395212630507\n",
            "Test average loss: 2.048543308323961\n",
            "\n",
            "[ Train epoch: 26 ]\n",
            "\n",
            "Current batch: 300\n",
            "Average train loss of recent 300 batches: 1.9864967668056488\n",
            "\n",
            "Total train accuarcy: 28.31650750341064\n",
            "Total train loss: 1.989379367903265\n",
            "\n",
            "[ Test epoch: 26 ]\n",
            "\n",
            "Test accuarcy: 24.917239623121976\n",
            "Test average loss: 2.0595546146718466\n",
            "\n",
            "[ Train epoch: 27 ]\n",
            "\n",
            "Current batch: 300\n",
            "Average train loss of recent 300 batches: 1.9871999299526215\n",
            "\n",
            "Total train accuarcy: 28.234652114597544\n",
            "Total train loss: 1.985490028354718\n",
            "\n",
            "[ Test epoch: 27 ]\n",
            "\n",
            "Test accuarcy: 25.388337153043036\n",
            "Test average loss: 2.0715638253746964\n",
            "\n",
            "[ Train epoch: 28 ]\n",
            "\n",
            "Current batch: 300\n",
            "Average train loss of recent 300 batches: 1.9835542746384938\n",
            "\n",
            "Total train accuarcy: 28.43656207366985\n",
            "Total train loss: 1.9857950545522347\n",
            "\n",
            "[ Test epoch: 28 ]\n",
            "\n",
            "Test accuarcy: 25.248281130634073\n",
            "Test average loss: 2.0573668576837556\n",
            "\n",
            "[ Train epoch: 29 ]\n",
            "\n",
            "Current batch: 300\n",
            "Average train loss of recent 300 batches: 1.9871084531148275\n",
            "\n",
            "Total train accuarcy: 27.956343792633014\n",
            "Total train loss: 1.9844511695349196\n",
            "\n",
            "[ Test epoch: 29 ]\n",
            "\n",
            "Test accuarcy: 23.949579831932773\n",
            "Test average loss: 2.083241429755358\n",
            "\n",
            "[ Train epoch: 30 ]\n",
            "\n",
            "Current batch: 300\n",
            "Average train loss of recent 300 batches: 1.9781272864341737\n",
            "\n",
            "Total train accuarcy: 28.256480218281038\n",
            "Total train loss: 1.9809302728213565\n",
            "\n",
            "[ Test epoch: 30 ]\n",
            "\n",
            "Test accuarcy: 22.370766488413548\n",
            "Test average loss: 2.086991856253244\n"
          ]
        },
        {
          "output_type": "error",
          "ename": "FileNotFoundError",
          "evalue": "ignored",
          "traceback": [
            "\u001b[0;31m---------------------------------------------------------------------------\u001b[0m",
            "\u001b[0;31mFileNotFoundError\u001b[0m                         Traceback (most recent call last)",
            "\u001b[0;32m<ipython-input-87-9dc28f53f801>\u001b[0m in \u001b[0;36m<module>\u001b[0;34m\u001b[0m\n\u001b[1;32m      6\u001b[0m \u001b[0;34m\u001b[0m\u001b[0m\n\u001b[1;32m      7\u001b[0m \u001b[0;31m# model 저장! - parameter값 저장\u001b[0m\u001b[0;34m\u001b[0m\u001b[0;34m\u001b[0m\u001b[0;34m\u001b[0m\u001b[0m\n\u001b[0;32m----> 8\u001b[0;31m \u001b[0mtorch\u001b[0m\u001b[0;34m.\u001b[0m\u001b[0msave\u001b[0m\u001b[0;34m(\u001b[0m\u001b[0mmymodel\u001b[0m\u001b[0;34m.\u001b[0m\u001b[0mstate_dict\u001b[0m\u001b[0;34m(\u001b[0m\u001b[0;34m)\u001b[0m\u001b[0;34m,\u001b[0m \u001b[0;34m'/content/drive/MyDrive/data/mymodel_animals.pt'\u001b[0m\u001b[0;34m)\u001b[0m\u001b[0;34m\u001b[0m\u001b[0;34m\u001b[0m\u001b[0m\n\u001b[0m\u001b[1;32m      9\u001b[0m \u001b[0mprint\u001b[0m\u001b[0;34m(\u001b[0m\u001b[0;34m'Model Saved!'\u001b[0m\u001b[0;34m)\u001b[0m\u001b[0;34m\u001b[0m\u001b[0;34m\u001b[0m\u001b[0m\n",
            "\u001b[0;32m/usr/local/lib/python3.7/dist-packages/torch/serialization.py\u001b[0m in \u001b[0;36msave\u001b[0;34m(obj, f, pickle_module, pickle_protocol, _use_new_zipfile_serialization)\u001b[0m\n\u001b[1;32m    374\u001b[0m     \u001b[0m_check_dill_version\u001b[0m\u001b[0;34m(\u001b[0m\u001b[0mpickle_module\u001b[0m\u001b[0;34m)\u001b[0m\u001b[0;34m\u001b[0m\u001b[0;34m\u001b[0m\u001b[0m\n\u001b[1;32m    375\u001b[0m \u001b[0;34m\u001b[0m\u001b[0m\n\u001b[0;32m--> 376\u001b[0;31m     \u001b[0;32mwith\u001b[0m \u001b[0m_open_file_like\u001b[0m\u001b[0;34m(\u001b[0m\u001b[0mf\u001b[0m\u001b[0;34m,\u001b[0m \u001b[0;34m'wb'\u001b[0m\u001b[0;34m)\u001b[0m \u001b[0;32mas\u001b[0m \u001b[0mopened_file\u001b[0m\u001b[0;34m:\u001b[0m\u001b[0;34m\u001b[0m\u001b[0;34m\u001b[0m\u001b[0m\n\u001b[0m\u001b[1;32m    377\u001b[0m         \u001b[0;32mif\u001b[0m \u001b[0m_use_new_zipfile_serialization\u001b[0m\u001b[0;34m:\u001b[0m\u001b[0;34m\u001b[0m\u001b[0;34m\u001b[0m\u001b[0m\n\u001b[1;32m    378\u001b[0m             \u001b[0;32mwith\u001b[0m \u001b[0m_open_zipfile_writer\u001b[0m\u001b[0;34m(\u001b[0m\u001b[0mopened_file\u001b[0m\u001b[0;34m)\u001b[0m \u001b[0;32mas\u001b[0m \u001b[0mopened_zipfile\u001b[0m\u001b[0;34m:\u001b[0m\u001b[0;34m\u001b[0m\u001b[0;34m\u001b[0m\u001b[0m\n",
            "\u001b[0;32m/usr/local/lib/python3.7/dist-packages/torch/serialization.py\u001b[0m in \u001b[0;36m_open_file_like\u001b[0;34m(name_or_buffer, mode)\u001b[0m\n\u001b[1;32m    228\u001b[0m \u001b[0;32mdef\u001b[0m \u001b[0m_open_file_like\u001b[0m\u001b[0;34m(\u001b[0m\u001b[0mname_or_buffer\u001b[0m\u001b[0;34m,\u001b[0m \u001b[0mmode\u001b[0m\u001b[0;34m)\u001b[0m\u001b[0;34m:\u001b[0m\u001b[0;34m\u001b[0m\u001b[0;34m\u001b[0m\u001b[0m\n\u001b[1;32m    229\u001b[0m     \u001b[0;32mif\u001b[0m \u001b[0m_is_path\u001b[0m\u001b[0;34m(\u001b[0m\u001b[0mname_or_buffer\u001b[0m\u001b[0;34m)\u001b[0m\u001b[0;34m:\u001b[0m\u001b[0;34m\u001b[0m\u001b[0;34m\u001b[0m\u001b[0m\n\u001b[0;32m--> 230\u001b[0;31m         \u001b[0;32mreturn\u001b[0m \u001b[0m_open_file\u001b[0m\u001b[0;34m(\u001b[0m\u001b[0mname_or_buffer\u001b[0m\u001b[0;34m,\u001b[0m \u001b[0mmode\u001b[0m\u001b[0;34m)\u001b[0m\u001b[0;34m\u001b[0m\u001b[0;34m\u001b[0m\u001b[0m\n\u001b[0m\u001b[1;32m    231\u001b[0m     \u001b[0;32melse\u001b[0m\u001b[0;34m:\u001b[0m\u001b[0;34m\u001b[0m\u001b[0;34m\u001b[0m\u001b[0m\n\u001b[1;32m    232\u001b[0m         \u001b[0;32mif\u001b[0m \u001b[0;34m'w'\u001b[0m \u001b[0;32min\u001b[0m \u001b[0mmode\u001b[0m\u001b[0;34m:\u001b[0m\u001b[0;34m\u001b[0m\u001b[0;34m\u001b[0m\u001b[0m\n",
            "\u001b[0;32m/usr/local/lib/python3.7/dist-packages/torch/serialization.py\u001b[0m in \u001b[0;36m__init__\u001b[0;34m(self, name, mode)\u001b[0m\n\u001b[1;32m    209\u001b[0m \u001b[0;32mclass\u001b[0m \u001b[0m_open_file\u001b[0m\u001b[0;34m(\u001b[0m\u001b[0m_opener\u001b[0m\u001b[0;34m)\u001b[0m\u001b[0;34m:\u001b[0m\u001b[0;34m\u001b[0m\u001b[0;34m\u001b[0m\u001b[0m\n\u001b[1;32m    210\u001b[0m     \u001b[0;32mdef\u001b[0m \u001b[0m__init__\u001b[0m\u001b[0;34m(\u001b[0m\u001b[0mself\u001b[0m\u001b[0;34m,\u001b[0m \u001b[0mname\u001b[0m\u001b[0;34m,\u001b[0m \u001b[0mmode\u001b[0m\u001b[0;34m)\u001b[0m\u001b[0;34m:\u001b[0m\u001b[0;34m\u001b[0m\u001b[0;34m\u001b[0m\u001b[0m\n\u001b[0;32m--> 211\u001b[0;31m         \u001b[0msuper\u001b[0m\u001b[0;34m(\u001b[0m\u001b[0m_open_file\u001b[0m\u001b[0;34m,\u001b[0m \u001b[0mself\u001b[0m\u001b[0;34m)\u001b[0m\u001b[0;34m.\u001b[0m\u001b[0m__init__\u001b[0m\u001b[0;34m(\u001b[0m\u001b[0mopen\u001b[0m\u001b[0;34m(\u001b[0m\u001b[0mname\u001b[0m\u001b[0;34m,\u001b[0m \u001b[0mmode\u001b[0m\u001b[0;34m)\u001b[0m\u001b[0;34m)\u001b[0m\u001b[0;34m\u001b[0m\u001b[0;34m\u001b[0m\u001b[0m\n\u001b[0m\u001b[1;32m    212\u001b[0m \u001b[0;34m\u001b[0m\u001b[0m\n\u001b[1;32m    213\u001b[0m     \u001b[0;32mdef\u001b[0m \u001b[0m__exit__\u001b[0m\u001b[0;34m(\u001b[0m\u001b[0mself\u001b[0m\u001b[0;34m,\u001b[0m \u001b[0;34m*\u001b[0m\u001b[0margs\u001b[0m\u001b[0;34m)\u001b[0m\u001b[0;34m:\u001b[0m\u001b[0;34m\u001b[0m\u001b[0;34m\u001b[0m\u001b[0m\n",
            "\u001b[0;31mFileNotFoundError\u001b[0m: [Errno 2] No such file or directory: '/content/drive/MyDrive/data/mymodel_animals.pt'"
          ]
        }
      ]
    },
    {
      "cell_type": "code",
      "source": [
        "# loss, accuracy 추이 확인 with plt.plot"
      ],
      "metadata": {
        "id": "ZwJHGOY9Czzh"
      },
      "execution_count": null,
      "outputs": []
    },
    {
      "cell_type": "code",
      "source": [
        "from matplotlib.pyplot import imshow\n",
        "import matplotlib.pyplot as plt"
      ],
      "metadata": {
        "id": "q5Tw47SJXffG"
      },
      "execution_count": null,
      "outputs": []
    },
    {
      "cell_type": "code",
      "source": [
        "plt.plot(range(num_epoch), seq_train_loss, label=\"Train loss\")\n",
        "plt.plot(range(num_epoch), seq_test_loss, label=\"Test loss\")\n",
        "plt.legend()\n",
        "plt.xlabel('Epoch')\n",
        "plt.ylabel('Loss')\n",
        "plt.show()"
      ],
      "metadata": {
        "colab": {
          "base_uri": "https://localhost:8080/",
          "height": 279
        },
        "id": "RO_u_hs-XZqv",
        "outputId": "b9d3fe7b-2de7-4df4-c6b3-f18940d4a87e"
      },
      "execution_count": null,
      "outputs": [
        {
          "output_type": "display_data",
          "data": {
            "text/plain": [
              "<Figure size 432x288 with 1 Axes>"
            ],
            "image/png": "[encoded data removed]"
          },
          "metadata": {
            "needs_background": "light"
          }
        }
      ]
    },
    {
      "cell_type": "code",
      "source": [
        "plt.plot(range(num_epoch), seq_train_acc, label=\"Train Accuracy\")\n",
        "plt.plot(range(num_epoch), seq_test_acc, label=\"Test Accuracy\")\n",
        "plt.legend()\n",
        "plt.xlabel('Epoch')\n",
        "plt.ylabel('Accuracy')\n",
        "plt.show()"
      ],
      "metadata": {
        "colab": {
          "base_uri": "https://localhost:8080/",
          "height": 279
        },
        "id": "wVJvSQugXgok",
        "outputId": "727b0a9f-fc6b-45f8-c61e-bcb7c021942f"
      },
      "execution_count": null,
      "outputs": [
        {
          "output_type": "display_data",
          "data": {
            "text/plain": [
              "<Figure size 432x288 with 1 Axes>"
            ],
            "image/png": "[encoded data removed]"
          },
          "metadata": {
            "needs_background": "light"
          }
        }
      ]
    },
    {
      "cell_type": "code",
      "source": [],
      "metadata": {
        "id": "zh-S8V4DXuNl"
      },
      "execution_count": null,
      "outputs": []
    }
  ]
}