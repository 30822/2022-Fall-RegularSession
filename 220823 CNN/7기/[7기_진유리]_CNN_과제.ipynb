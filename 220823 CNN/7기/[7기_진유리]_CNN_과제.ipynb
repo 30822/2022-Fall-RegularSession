{
  "nbformat": 4,
  "nbformat_minor": 0,
  "metadata": {
    "colab": {
      "name": "[7기_진유리]_CNN 과제.ipynb",
      "provenance": [],
      "collapsed_sections": []
    },
    "kernelspec": {
      "name": "python3",
      "display_name": "Python 3"
    },
    "language_info": {
      "name": "python"
    },
    "accelerator": "GPU",
    "gpuClass": "standard"
  },
  "cells": [
    {
      "cell_type": "markdown",
      "source": [
        "# 1. 폴더 정리\n",
        "\n",
        "* 제공해드린 animals10.zip의 압축을 풀어 그 내용을 살펴보시고, 폴더 구조를 학습에 알맞도록 재구성해주세요\n",
        "* 특히 각 클래스마다 약 30% 정도의 이미지를 test 폴더에 할당해주세요\n",
        "* 중간중간 헷갈리다면 이것저것 확인하는 코드를 거쳐보세요 (ex. flat_test[:5]로 앞의 다섯값 확인)\n",
        "* 궁금한 점이 있을 경우, 슬랙 질문 채널 활용을 적극 권장합니다."
      ],
      "metadata": {
        "id": "d2ENRS4E9_xy"
      }
    },
    {
      "cell_type": "code",
      "source": [
        "# python에서 파일 관리해주는 라이브러리\n",
        "import os\n",
        "import glob\n",
        "import shutil"
      ],
      "metadata": {
        "id": "FbKR19q0aFB7"
      },
      "execution_count": null,
      "outputs": []
    },
    {
      "cell_type": "code",
      "source": [
        "from google.colab import drive\n",
        "drive.mount('/content/drive')"
      ],
      "metadata": {
        "colab": {
          "base_uri": "https://localhost:8080/"
        },
        "id": "i4LNNhGVZh2q",
        "outputId": "f05af70b-1d31-4ffd-81dd-44b481696c8a"
      },
      "execution_count": null,
      "outputs": [
        {
          "output_type": "stream",
          "name": "stdout",
          "text": [
            "Mounted at /content/drive\n"
          ]
        }
      ]
    },
    {
      "cell_type": "code",
      "execution_count": null,
      "metadata": {
        "id": "u7tlWm3L9KoV"
      },
      "outputs": [],
      "source": [
        "### Guideline for convenience ###\n",
        "# 압축 풀기\n",
        "!unzip -qq '/content/drive/MyDrive/animals10.zip'"
      ]
    },
    {
      "cell_type": "code",
      "source": [
        "# 각 클래스별 파일 개수 확인 -> 변수로 해당 개수 저장\n",
        "# Tip) 클래스가 10개이므로 각 클래스마다 똑같은 내용의 코드를 계속 써야할까요? 클래스 이름을 리스트로 저장해 for문을 돌리면서 코드를 재사용하는건 어떨까요?\n",
        "\n",
        "class_name = os.listdir(\"/content/Animals-10\")\n",
        "\n",
        "for name in class_name:\n",
        "  globals()['{}'.format(name)] = sorted(glob.glob('./Animals-10/' + name + '/*.jpeg'))\n",
        "  print(name)\n",
        "  print(len(globals()['{}'.format(name)]))\n",
        "\n",
        "#test에 넣을 이미지 개수 계산\n",
        "  globals()['{}_test_count'.format(name)] = round(len(globals()['{}'.format(name)])*0.3)\n",
        "  print(globals()['{}_test_count'.format(name)])\n",
        "\n"
      ],
      "metadata": {
        "id": "RPXh3srt-1Rx",
        "colab": {
          "base_uri": "https://localhost:8080/"
        },
        "outputId": "ea41d551-fc45-4d4b-de8b-2e50630dc0e0"
      },
      "execution_count": null,
      "outputs": [
        {
          "output_type": "stream",
          "name": "stdout",
          "text": [
            "cat\n",
            "1227\n",
            "368\n",
            "cow\n",
            "1866\n",
            "560\n",
            "chicken\n",
            "3098\n",
            "929\n",
            "horse\n",
            "2623\n",
            "787\n",
            "elephant\n",
            "1079\n",
            "324\n",
            "sheep\n",
            "1444\n",
            "433\n",
            "butterfly\n",
            "1650\n",
            "495\n",
            "dog\n",
            "4863\n",
            "1459\n",
            "spider\n",
            "4497\n",
            "1349\n",
            "squirrel\n",
            "1862\n",
            "559\n"
          ]
        }
      ]
    },
    {
      "cell_type": "code",
      "source": [
        "elephant[:5]"
      ],
      "metadata": {
        "colab": {
          "base_uri": "https://localhost:8080/"
        },
        "id": "67vatqPVbZsS",
        "outputId": "3e931325-a7f8-4c9c-ea82-e7b351569f6b"
      },
      "execution_count": null,
      "outputs": [
        {
          "output_type": "execute_result",
          "data": {
            "text/plain": [
              "['./Animals-10/elephant/elephant (1).jpeg',\n",
              " './Animals-10/elephant/elephant (10).jpeg',\n",
              " './Animals-10/elephant/elephant (100).jpeg',\n",
              " './Animals-10/elephant/elephant (1000).jpeg',\n",
              " './Animals-10/elephant/elephant (1001).jpeg']"
            ]
          },
          "metadata": {},
          "execution_count": 5
        }
      ]
    },
    {
      "cell_type": "code",
      "source": [
        "elephant_test_count"
      ],
      "metadata": {
        "colab": {
          "base_uri": "https://localhost:8080/"
        },
        "id": "hmFbQERdjyNb",
        "outputId": "ca8dd21d-917f-4051-d273-7cc2bcf01437"
      },
      "execution_count": null,
      "outputs": [
        {
          "output_type": "execute_result",
          "data": {
            "text/plain": [
              "324"
            ]
          },
          "metadata": {},
          "execution_count": 6
        }
      ]
    },
    {
      "cell_type": "code",
      "source": [
        "import random\n",
        "\n",
        "def split(img_list, test_count, train_path, test_path):\n",
        "  # img_list : 이미지 경로 리스트\n",
        "  # test_count : test에 할당할 이미지 개수\n",
        "  # train_path : train 데이터 넣을 경로\n",
        "  # test_path : test 데이터 넣을 경로\n",
        "  \n",
        "  # 랜덤으로 test_count만큼 이미지 img_list에서 고르기\n",
        "  # test 담을 이미지 리스트 저장\n",
        "  test_files=[]\n",
        "  for i in random.sample(img_list, test_count):\n",
        "    test_files.append(i)\n",
        "\n",
        "  # 위에서 고르지 않은 이미지들을 train 담을 이미지 리스트로 저장\n",
        "  train_files = [x for x in img_list if x not in test_files]\n",
        "\n",
        "  # 고른 이미지를 train_path, test_path폴더에 폭사\n",
        "  for k in train_files:\n",
        "    shutil.copy(k, train_path)\n",
        "  \n",
        "  for c in test_files:\n",
        "    shutil.copy(c, test_path)\n",
        "\n",
        "  print('train 폴더 이미지 개수 : {}\\ntest 폴더 이미지 개수 : {}'.format(len(glob.glob(train_path+'/*')),len(glob.glob(test_path+'/*'))))"
      ],
      "metadata": {
        "id": "BaAXh57G_srE"
      },
      "execution_count": null,
      "outputs": []
    },
    {
      "cell_type": "code",
      "source": [
        "# train, test 폴더 경로 선언 & 만들기\n",
        "\n",
        "for name in class_name:\n",
        "  globals()['{}_train_path'.format(name)] = './train/' + name\n",
        "  globals()['{}_test_path'.format(name)] = './test/' + name\n",
        "  os.makedirs(globals()['{}_train_path'.format(name)], exist_ok=True)\n",
        "  os.makedirs(globals()['{}_test_path'.format(name)], exist_ok=True)\n",
        "\n",
        "  split(globals()['{}'.format(name)],globals()['{}_test_count'.format(name)],globals()['{}_train_path'.format(name)],globals()['{}_test_path'.format(name)])"
      ],
      "metadata": {
        "id": "bb2XMrAe_Fl8",
        "colab": {
          "base_uri": "https://localhost:8080/"
        },
        "outputId": "36c6ccfb-b7fc-4d7e-8743-8c002b43002f"
      },
      "execution_count": null,
      "outputs": [
        {
          "output_type": "stream",
          "name": "stdout",
          "text": [
            "train 폴더 이미지 개수 : 859\n",
            "test 폴더 이미지 개수 : 368\n",
            "train 폴더 이미지 개수 : 1306\n",
            "test 폴더 이미지 개수 : 560\n",
            "train 폴더 이미지 개수 : 2169\n",
            "test 폴더 이미지 개수 : 929\n",
            "train 폴더 이미지 개수 : 1836\n",
            "test 폴더 이미지 개수 : 787\n",
            "train 폴더 이미지 개수 : 755\n",
            "test 폴더 이미지 개수 : 324\n",
            "train 폴더 이미지 개수 : 1011\n",
            "test 폴더 이미지 개수 : 433\n",
            "train 폴더 이미지 개수 : 1155\n",
            "test 폴더 이미지 개수 : 495\n",
            "train 폴더 이미지 개수 : 3404\n",
            "test 폴더 이미지 개수 : 1459\n",
            "train 폴더 이미지 개수 : 3148\n",
            "test 폴더 이미지 개수 : 1349\n",
            "train 폴더 이미지 개수 : 1303\n",
            "test 폴더 이미지 개수 : 559\n"
          ]
        }
      ]
    },
    {
      "cell_type": "markdown",
      "source": [
        "# 2. CNN 모델\n",
        "수업 코드에 '모델 성능에 대한 고민!!' 부분을 참고해서 **test 이미지 기준 최소 80% 이상**의 모델이 나올 수 있도록 학습을 진행해주세요.\n",
        "* 중간중간 헷갈리다면 이것저것 확인하는 코드를 거쳐보세요\n",
        "* 90% 이상의 모델이 이상적이긴 합니다\n",
        "* 궁금한 점이 있을 경우, 슬랙 질문 채널 활용을 적극 권장합니다."
      ],
      "metadata": {
        "id": "UKa7LZ4RAXxA"
      }
    },
    {
      "cell_type": "markdown",
      "source": [
        "전반적으로 수업 코드와 비슷하게 짜면 되는데, 생각해봐야 할 것은\n",
        "* 모든 이미지를 내가 정의하는 하나의 모델에 넣어야함\n",
        "* 그말은 input 데이터의 차원이 항상 동일해야 된다는 말\n",
        "* 그런데 과연 내가 가지고 있는 이미지들의 사이즈가 모두 같을까? - 대략 얼마정도 사이즈 가지고 있는지 코드로 확인해보면 더 좋음 (shape 확인)\n",
        "* 이미지 사이즈를 통일시키기 위해서는 어떻게 해야할까? - transforms의 Resize, RandomCrop 써볼까?\n",
        "* 동물 이미지에 적합한 Augmentation은 무엇이 있을까?"
      ],
      "metadata": {
        "id": "31hFiKNBD48l"
      }
    },
    {
      "cell_type": "code",
      "source": [
        "from PIL import Image\n",
        "\n",
        "import numpy as np\n",
        "import matplotlib.pyplot as plt\n",
        "from matplotlib.pyplot import imshow"
      ],
      "metadata": {
        "id": "u7vN4Ev-mdw-"
      },
      "execution_count": null,
      "outputs": []
    },
    {
      "cell_type": "code",
      "source": [
        "# train, test 이미지를 위한 transforms function 정의\n",
        "# 위에서 말한 포인트들 생각해보기 - 차원에 유의하자!\n",
        "ex_img_path = '/content/train/butterfly/butterfly (10).jpeg'\n",
        "ex_img = Image.open(ex_img_path)\n",
        "ex_img_np = np.array(ex_img)\n",
        "print(ex_img_np.shape)\n",
        "print(ex_img_np[0,0,:])"
      ],
      "metadata": {
        "id": "UM1CiMcdAfas",
        "colab": {
          "base_uri": "https://localhost:8080/"
        },
        "outputId": "b88a7d1a-bc62-4f28-ab0c-dc346901cba7"
      },
      "execution_count": null,
      "outputs": [
        {
          "output_type": "stream",
          "name": "stdout",
          "text": [
            "(225, 300, 3)\n",
            "[55 69 18]\n"
          ]
        }
      ]
    },
    {
      "cell_type": "code",
      "source": [
        "import torchvision.transforms as transforms"
      ],
      "metadata": {
        "id": "OlNuYG0rm0Lm"
      },
      "execution_count": null,
      "outputs": []
    },
    {
      "cell_type": "code",
      "source": [
        "# 보통 적용할 augmentation을 ToTensor, Normalize 전에 사용\n",
        "transform_train = transforms.Compose([\n",
        "    transforms.Resize(224),                 \n",
        "    transforms.CenterCrop(224),\n",
        "    transforms.RandomHorizontalFlip(p=0.5), # 0.5 확률로 horizontal flip\n",
        "    transforms.ToTensor(),\n",
        "    transforms.Normalize((0.485, 0.456, 0.406), (0.229, 0.224, 0.225))\n",
        "])\n",
        "\n",
        "transform_test = transforms.Compose([\n",
        "    transforms.Resize(224),\n",
        "    transforms.CenterCrop(224),\n",
        "    transforms.ToTensor(),\n",
        "    transforms.Normalize((0.485, 0.456, 0.406), (0.229, 0.224, 0.225))\n",
        "])"
      ],
      "metadata": {
        "id": "29CsSus_m0QJ"
      },
      "execution_count": null,
      "outputs": []
    },
    {
      "cell_type": "code",
      "source": [
        "ex_aug = transform_train(ex_img)\n",
        "ex_aug_np = np.array(ex_aug)\n",
        "print(ex_aug_np.shape)\n",
        "\n",
        "ex_aug_tr = ex_aug_np.transpose(1,2,0)\n",
        "imshow(ex_aug_tr)"
      ],
      "metadata": {
        "colab": {
          "base_uri": "https://localhost:8080/",
          "height": 324
        },
        "id": "Ylq9rdTMm0Tx",
        "outputId": "1c00299d-f3f3-4d75-8110-c286b8790412"
      },
      "execution_count": null,
      "outputs": [
        {
          "output_type": "stream",
          "name": "stderr",
          "text": [
            "WARNING:matplotlib.image:Clipping input data to the valid range for imshow with RGB data ([0..1] for floats or [0..255] for integers).\n"
          ]
        },
        {
          "output_type": "stream",
          "name": "stdout",
          "text": [
            "(3, 224, 224)\n"
          ]
        },
        {
          "output_type": "execute_result",
          "data": {
            "text/plain": [
              "<matplotlib.image.AxesImage at 0x7fd875fdcd50>"
            ]
          },
          "metadata": {},
          "execution_count": 18
        },
        {
          "output_type": "display_data",
          "data": {
            "text/plain": [
              "<Figure size 432x288 with 1 Axes>"
            ],
            "image/png": "[encoded data removed]"
          },
          "metadata": {
            "needs_background": "light"
          }
        }
      ]
    },
    {
      "cell_type": "code",
      "source": [
        "ex_aug_np[:,0,0]"
      ],
      "metadata": {
        "colab": {
          "base_uri": "https://localhost:8080/"
        },
        "id": "T595KtblotJC",
        "outputId": "3dc77b13-715e-4534-fcae-3a47f1e02494"
      },
      "execution_count": null,
      "outputs": [
        {
          "output_type": "execute_result",
          "data": {
            "text/plain": [
              "array([-1.1931673, -1.0728291, -1.5430065], dtype=float32)"
            ]
          },
          "metadata": {},
          "execution_count": 19
        }
      ]
    },
    {
      "cell_type": "code",
      "source": [
        "# ImageFolder와 앞서 정의한 transforms function을 활용해 Dataset 객체 (train, test에 대해) 선언\n",
        "import torch\n",
        "import torchvision\n",
        "import torchvision.transforms as transforms"
      ],
      "metadata": {
        "id": "QAYc35vdAlHk"
      },
      "execution_count": null,
      "outputs": []
    },
    {
      "cell_type": "code",
      "source": [
        "train_data = torchvision.datasets.ImageFolder(\n",
        "    root = './train', \n",
        "    transform = transform_train\n",
        ")\n",
        "test_data = torchvision.datasets.ImageFolder(\n",
        "    root = './test',\n",
        "    transform = transform_test\n",
        ")"
      ],
      "metadata": {
        "id": "ncp1L6g5rFdi"
      },
      "execution_count": null,
      "outputs": []
    },
    {
      "cell_type": "code",
      "source": [
        "print(len(train_data))\n",
        "print(train_data[0][0].shape)\n",
        "print(train_data[0][1])"
      ],
      "metadata": {
        "colab": {
          "base_uri": "https://localhost:8080/"
        },
        "id": "KZAPDwXlrqGp",
        "outputId": "fad423cf-940e-4d9b-d7f1-d789d90bd80d"
      },
      "execution_count": null,
      "outputs": [
        {
          "output_type": "stream",
          "name": "stdout",
          "text": [
            "16946\n",
            "torch.Size([3, 224, 224])\n",
            "0\n"
          ]
        }
      ]
    },
    {
      "cell_type": "code",
      "source": [
        "# train, test에 대해 DataLoader 정의\n",
        "trainloader = torch.utils.data.DataLoader(\n",
        "    train_data,\n",
        "    batch_size = 32,      # 일반적으로 batch size = 16, 32\n",
        "    shuffle=True,         # train dataloader는 epoch마다 데이터 다시 섞어서 batch 만들고 학습! - 학습 효율 up\n",
        "    num_workers=2\n",
        ")\n",
        "\n",
        "testloader = torch.utils.data.DataLoader(\n",
        "    test_data,\n",
        "    batch_size = 32,      # 일반적으로 batch size = 16, 32\n",
        "    shuffle=False,        # test dataloader는 데이터 매번 섞을 이유가 없음 - 어차피 확인 용도\n",
        "    num_workers=2\n",
        ")"
      ],
      "metadata": {
        "id": "gHF4PaUQAvzJ"
      },
      "execution_count": null,
      "outputs": []
    },
    {
      "cell_type": "code",
      "source": [
        "# 16946/32 = 530\n",
        "len(trainloader)"
      ],
      "metadata": {
        "colab": {
          "base_uri": "https://localhost:8080/"
        },
        "id": "Vyf6-qij3nU5",
        "outputId": "d781e371-3431-4e60-92f5-fcc78ec4ee1c"
      },
      "execution_count": null,
      "outputs": [
        {
          "output_type": "execute_result",
          "data": {
            "text/plain": [
              "530"
            ]
          },
          "metadata": {},
          "execution_count": 25
        }
      ]
    },
    {
      "cell_type": "code",
      "source": [
        "# 7263/32 = 227\n",
        "print(len(test_data))\n",
        "print(len(testloader))"
      ],
      "metadata": {
        "colab": {
          "base_uri": "https://localhost:8080/"
        },
        "id": "68jlUe-g3UBt",
        "outputId": "97ff41b4-b3d0-485c-eeef-16d374e2bae5"
      },
      "execution_count": null,
      "outputs": [
        {
          "output_type": "stream",
          "name": "stdout",
          "text": [
            "7263\n",
            "227\n"
          ]
        }
      ]
    },
    {
      "cell_type": "code",
      "source": [
        "# dataloader의 iteration 하나만 가져와서 확인해보자\n",
        "tmploader = torch.utils.data.DataLoader(test_data, batch_size = 4, shuffle=False)\n",
        "dataiter = iter(tmploader)\n",
        "images, labels = dataiter.next()"
      ],
      "metadata": {
        "id": "1-Yv4UUU4dH1"
      },
      "execution_count": null,
      "outputs": []
    },
    {
      "cell_type": "code",
      "source": [
        "images.shape # 4개 img 배치/채널/높이/너비"
      ],
      "metadata": {
        "colab": {
          "base_uri": "https://localhost:8080/"
        },
        "id": "qxo3Wsue4qPw",
        "outputId": "001b7f16-fdea-436c-e274-769fca61acba"
      },
      "execution_count": null,
      "outputs": [
        {
          "output_type": "execute_result",
          "data": {
            "text/plain": [
              "torch.Size([4, 3, 224, 224])"
            ]
          },
          "metadata": {},
          "execution_count": 28
        }
      ]
    },
    {
      "cell_type": "code",
      "source": [
        "labels.shape # 4개 label"
      ],
      "metadata": {
        "colab": {
          "base_uri": "https://localhost:8080/"
        },
        "id": "8eRO30j64tqW",
        "outputId": "211fb12d-e17c-4184-c3a5-d6de4f91226a"
      },
      "execution_count": null,
      "outputs": [
        {
          "output_type": "execute_result",
          "data": {
            "text/plain": [
              "torch.Size([4])"
            ]
          },
          "metadata": {},
          "execution_count": 29
        }
      ]
    },
    {
      "cell_type": "code",
      "source": [
        "### Model 클래스 정의 - 차원에 유의하자!\n",
        "# 10개의 클래스를 분류해야 하는 꽤나 복잡한 task - 모델 구조를 어느 정도로 복잡하게 짜볼까?\n",
        "# 가장 마지막 Linear의 out_features는 얼마로 해야할까?"
      ],
      "metadata": {
        "id": "Kpvu7SJtAyUH"
      },
      "execution_count": null,
      "outputs": []
    },
    {
      "cell_type": "code",
      "source": [
        "import torch.nn as nn"
      ],
      "metadata": {
        "id": "muBx1eO4uuRx"
      },
      "execution_count": null,
      "outputs": []
    },
    {
      "cell_type": "code",
      "source": [
        "#### 모델 정의 시 유념해야할 건 각 층의 결과물의 차원!\n",
        "#### 모델이 복잡해지면 복잡해질수록 이는 더욱 중요해지므로 레이어별로 도출되는 데이터의 크기를 써넣는 것을 추천 (안맞으면 에러남)\n",
        "# (해당 모델은 임의로 만든 모델로 성능을 보장하지 X)\n",
        "\n",
        "class MyModel(nn.Module):\n",
        "    def __init__(self):\n",
        "        super(MyModel, self).__init__()\n",
        "        \n",
        "        ##### Layer 정의 #####\n",
        "        self.layer = nn.Sequential(\n",
        "            # 맨처음 RGB 채널 3개이므로 가장 처음 in_channels = 3\n",
        "            # img의 가장 첫 차원이 batch_size 값은 계속해서 유지\n",
        "            nn.Conv2d(in_channels=3, out_channels= 16, kernel_size=6, stride=2),             # [batch_size,3,224,224] -> [batch_size,16,110,110]\n",
        "            nn.ReLU(),\n",
        "            nn.Conv2d(in_channels=16, out_channels=32, kernel_size=3),            # [32,108,108]\n",
        "            nn.ReLU(),                             \n",
        "            nn.Dropout(0.25),\n",
        "            nn.MaxPool2d(kernel_size=2, stride=2) ,                                #[32,54,54]\n",
        "            nn.Conv2d(in_channels=32, out_channels=128, kernel_size=3,padding=1),            # [128,54,54]\n",
        "            nn.BatchNorm2d(128),\n",
        "            nn.ReLU(),\n",
        "            nn.Conv2d(in_channels=128, out_channels=32, kernel_size=3),            # [32,52,52]\n",
        "            nn.BatchNorm2d(32),\n",
        "            nn.ReLU(),\n",
        "            nn.Dropout(0.5),\n",
        "            nn.MaxPool2d(kernel_size=2, stride=2)                                #[32,26,26]\n",
        "        )\n",
        "        self.fc_layer = nn.Sequential(\n",
        "            nn.Linear(32*26*26,100),                                                # []\n",
        "            nn.ReLU(),\n",
        "            nn.Linear(100,10) #10개 class\n",
        "        )\n",
        "\n",
        "    def forward(self, x):\n",
        "        # forward pass 과정\n",
        "        out = self.layer(x)\n",
        "        out = out.view(out.size(0),-1)  # FC layer에 들어가기전, flatten! - view 함수 활용\n",
        "                                        # 가장 첫 차원인 batch_size는 유지하고 나머지 차원들을 하나로 합치기\n",
        "        out = self.fc_layer(out)\n",
        "        return out"
      ],
      "metadata": {
        "id": "X-vWNbAouuY3"
      },
      "execution_count": null,
      "outputs": []
    },
    {
      "cell_type": "code",
      "source": [
        "# torchsummary로 모델 차원 어떻게 나오는지 돌려보기"
      ],
      "metadata": {
        "id": "K_AvhGgTCXO7"
      },
      "execution_count": null,
      "outputs": []
    },
    {
      "cell_type": "code",
      "source": [
        "!pip install torchsummary"
      ],
      "metadata": {
        "colab": {
          "base_uri": "https://localhost:8080/"
        },
        "id": "W-w-52gXu3n3",
        "outputId": "ee5df4be-9614-4bcf-e836-ebf24c0c9fad"
      },
      "execution_count": null,
      "outputs": [
        {
          "output_type": "stream",
          "name": "stdout",
          "text": [
            "Looking in indexes: https://pypi.org/simple, https://us-python.pkg.dev/colab-wheels/public/simple/\n",
            "Requirement already satisfied: torchsummary in /usr/local/lib/python3.7/dist-packages (1.5.1)\n"
          ]
        }
      ]
    },
    {
      "cell_type": "code",
      "source": [
        "# 모델 구조 파악할 수 있는 torchsummary의 summary 함수\n",
        "# 전체적인 구조, param 개수, 용량 등 확인할 수 있음\n",
        "# 이게 잘나와야 CNN 모델 차원 알맞게 정의한것 - 차원 맞지 않다면 여기서 에러뜸\n",
        "\n",
        "from torchsummary import summary\n",
        "test_model = MyModel() # 모델 객체 선언\n",
        "if torch.cuda.is_available():\n",
        "    test_model.cuda()\n",
        "\n",
        "summary(test_model, (3,224,224), batch_size=32) # Recall) Tensor는 C, H, W 순서로 이미지 가짐"
      ],
      "metadata": {
        "colab": {
          "base_uri": "https://localhost:8080/"
        },
        "id": "Aa-4t2W8u4CK",
        "outputId": "e32bad38-6373-4e37-f461-247d2af66447"
      },
      "execution_count": null,
      "outputs": [
        {
          "output_type": "stream",
          "name": "stdout",
          "text": [
            "----------------------------------------------------------------\n",
            "        Layer (type)               Output Shape         Param #\n",
            "================================================================\n",
            "            Conv2d-1         [32, 16, 110, 110]           1,744\n",
            "              ReLU-2         [32, 16, 110, 110]               0\n",
            "            Conv2d-3         [32, 32, 108, 108]           4,640\n",
            "              ReLU-4         [32, 32, 108, 108]               0\n",
            "           Dropout-5         [32, 32, 108, 108]               0\n",
            "         MaxPool2d-6           [32, 32, 54, 54]               0\n",
            "            Conv2d-7          [32, 128, 54, 54]          36,992\n",
            "       BatchNorm2d-8          [32, 128, 54, 54]             256\n",
            "              ReLU-9          [32, 128, 54, 54]               0\n",
            "           Conv2d-10           [32, 32, 52, 52]          36,896\n",
            "      BatchNorm2d-11           [32, 32, 52, 52]              64\n",
            "             ReLU-12           [32, 32, 52, 52]               0\n",
            "          Dropout-13           [32, 32, 52, 52]               0\n",
            "        MaxPool2d-14           [32, 32, 26, 26]               0\n",
            "           Linear-15                  [32, 100]       2,163,300\n",
            "             ReLU-16                  [32, 100]               0\n",
            "           Linear-17                   [32, 10]           1,010\n",
            "================================================================\n",
            "Total params: 2,244,902\n",
            "Trainable params: 2,244,902\n",
            "Non-trainable params: 0\n",
            "----------------------------------------------------------------\n",
            "Input size (MB): 18.38\n",
            "Forward/backward pass size (MB): 753.90\n",
            "Params size (MB): 8.56\n",
            "Estimated Total Size (MB): 780.83\n",
            "----------------------------------------------------------------\n"
          ]
        }
      ]
    },
    {
      "cell_type": "code",
      "source": [
        "# Device 선언 (GPU 권장)"
      ],
      "metadata": {
        "id": "A99ALViSCbmI"
      },
      "execution_count": null,
      "outputs": []
    },
    {
      "cell_type": "code",
      "source": [
        "# 아래 코드가 보통 device 할당하는 방식\n",
        "# colab일 경우, 무거운 모델을 돌린다면 런타임 -> 런타임 유형 변경 -> GPU 로 설정하고 돌리는걸 강추\n",
        "device = torch.device(\"cuda:0\" if torch.cuda.is_available() else \"cpu\")\n",
        "device"
      ],
      "metadata": {
        "colab": {
          "base_uri": "https://localhost:8080/"
        },
        "id": "7cHFzVnq5O05",
        "outputId": "8e0fd7d4-2aa5-4fbf-b7a9-61bd2220f8df"
      },
      "execution_count": null,
      "outputs": [
        {
          "output_type": "execute_result",
          "data": {
            "text/plain": [
              "device(type='cuda', index=0)"
            ]
          },
          "metadata": {},
          "execution_count": 20
        }
      ]
    },
    {
      "cell_type": "code",
      "source": [
        "# 모델 객체 선언\n",
        "# to(device) : 모델을 device 위에서 돌릴거임\n",
        "mymodel = MyModel().to(device)\n",
        "mymodel"
      ],
      "metadata": {
        "id": "FmZYSSBFCfOU",
        "colab": {
          "base_uri": "https://localhost:8080/"
        },
        "outputId": "c2d8832a-f7ac-4e8d-f102-4ee66e7d8d94"
      },
      "execution_count": null,
      "outputs": [
        {
          "output_type": "execute_result",
          "data": {
            "text/plain": [
              "MyModel(\n",
              "  (layer): Sequential(\n",
              "    (0): Conv2d(3, 16, kernel_size=(6, 6), stride=(2, 2))\n",
              "    (1): ReLU()\n",
              "    (2): Conv2d(16, 32, kernel_size=(3, 3), stride=(1, 1))\n",
              "    (3): ReLU()\n",
              "    (4): Dropout(p=0.25, inplace=False)\n",
              "    (5): MaxPool2d(kernel_size=2, stride=2, padding=0, dilation=1, ceil_mode=False)\n",
              "    (6): Conv2d(32, 128, kernel_size=(3, 3), stride=(1, 1), padding=(1, 1))\n",
              "    (7): BatchNorm2d(128, eps=1e-05, momentum=0.1, affine=True, track_running_stats=True)\n",
              "    (8): ReLU()\n",
              "    (9): Conv2d(128, 32, kernel_size=(3, 3), stride=(1, 1))\n",
              "    (10): BatchNorm2d(32, eps=1e-05, momentum=0.1, affine=True, track_running_stats=True)\n",
              "    (11): ReLU()\n",
              "    (12): Dropout(p=0.5, inplace=False)\n",
              "    (13): MaxPool2d(kernel_size=2, stride=2, padding=0, dilation=1, ceil_mode=False)\n",
              "  )\n",
              "  (fc_layer): Sequential(\n",
              "    (0): Linear(in_features=21632, out_features=100, bias=True)\n",
              "    (1): ReLU()\n",
              "    (2): Linear(in_features=100, out_features=10, bias=True)\n",
              "  )\n",
              ")"
            ]
          },
          "metadata": {},
          "execution_count": 21
        }
      ]
    },
    {
      "cell_type": "code",
      "source": [
        "# loss func, optimizer 정의\n",
        "criterion = nn.CrossEntropyLoss().to(device) # criterion (loss func)도 device 위에서\n",
        "optimizer = torch.optim.Adam(mymodel.parameters(), lr=0.001, weight_decay=0.0002) # 보통 Adam의 learning rate로 0.001 사용\n",
        "                                                                                  # weight_decay = L2 Regularization의 lambda값 (가중치 제한 정도)"
      ],
      "metadata": {
        "id": "CFk7o_fuCgc7"
      },
      "execution_count": null,
      "outputs": []
    },
    {
      "cell_type": "code",
      "source": [
        "# train 함수 정의\n"
      ],
      "metadata": {
        "id": "-ENGsLI3CksA"
      },
      "execution_count": null,
      "outputs": []
    },
    {
      "cell_type": "code",
      "source": [
        "with torch.no_grad():\n",
        "    for i, (inputs, targets) in enumerate(trainloader):\n",
        "        inputs, targets = inputs.to(device), targets.to(device)\n",
        "        print(inputs.shape)  # batch_size개의 이미지\n",
        "        print(targets.shape) # batch_size개의 클래스\n",
        "\n",
        "        outputs = mymodel(inputs)\n",
        "        print(outputs.shape) # outputs는 32, 10 차원 (32개 data의 확률 10개씩)\n",
        "        print(targets.shape) # targets는 32차원 (32개 data의 실제 클래스)\n",
        "\n",
        "        loss = criterion(outputs, targets)  # -> cross entropy 식에 넣을때 이런 형태로 넣으면됨 (outputs, targets의 차원을 맞출 필요가 없음)\n",
        "        print(loss.item())\n",
        "\n",
        "        print(outputs.max(1)[1]) # 예측한 클래스\n",
        "        print(targets) # 실제 클래스\n",
        "        correct = (outputs.max(1)[1] == targets).sum().item() # 맞게 예측한 클래스 개수\n",
        "        print(correct)\n",
        "        break"
      ],
      "metadata": {
        "colab": {
          "base_uri": "https://localhost:8080/"
        },
        "id": "go5eWg0HFXB4",
        "outputId": "b8d1c175-049c-4c99-8ac4-8a7559ec5f04"
      },
      "execution_count": null,
      "outputs": [
        {
          "output_type": "stream",
          "name": "stdout",
          "text": [
            "torch.Size([32, 3, 224, 224])\n",
            "torch.Size([32])\n",
            "torch.Size([32, 10])\n",
            "torch.Size([32])\n",
            "2.30690336227417\n",
            "tensor([3, 0, 0, 0, 0, 0, 0, 8, 0, 0, 3, 0, 3, 8, 0, 0, 0, 3, 3, 0, 0, 0, 8, 0,\n",
            "        7, 8, 0, 0, 0, 3, 8, 2], device='cuda:0')\n",
            "tensor([0, 9, 0, 3, 4, 8, 4, 2, 5, 4, 4, 7, 7, 4, 7, 6, 1, 0, 3, 7, 7, 8, 1, 4,\n",
            "        7, 9, 6, 7, 3, 2, 8, 8], device='cuda:0')\n",
            "4\n"
          ]
        }
      ]
    },
    {
      "cell_type": "code",
      "source": [
        "# 추후 시각화를 위해 매 epoch마다 loss, accuracy 값을 저장할 리스트 => 그래프 그리기 위해서\n",
        "# 이거 빼먹고 train 돌리면...\n",
        "seq_train_loss = []\n",
        "seq_test_loss = []\n",
        "seq_train_acc = []\n",
        "seq_test_acc = []"
      ],
      "metadata": {
        "id": "KaWPIkuEFXEq"
      },
      "execution_count": null,
      "outputs": []
    },
    {
      "cell_type": "code",
      "source": [
        "def train(epoch):\n",
        "    print(f'\\n[ Train epoch: {epoch+1} ]')\n",
        "\n",
        "    mymodel.train() # train은 항상 이걸 지정하고 시작! - Dropout, Batch Normalization 등의 효과를 적용하고 진행하기 위함\n",
        "\n",
        "    running_loss = 0.0\n",
        "    batch_losses = []\n",
        "    total = 0\n",
        "    correct = 0\n",
        "\n",
        "    for batch_idx, (inputs, targets) in enumerate(trainloader):\n",
        "        inputs, targets = inputs.to(device), targets.to(device) # dataloader의 input image와 label도 device에 넣어줘야됨\n",
        "        \n",
        "        # DL 학습 기본 코드\n",
        "        optimizer.zero_grad() # gradient 초기화\n",
        "        outputs = mymodel(inputs) # 현재 batch의 inputs을 모델에 넣어 outputs 추출 (확률값)\n",
        "        loss = criterion(outputs, targets) # 추출한 outputs와 원래 label인 targets 사이 loss 계산\n",
        "        loss.backward() # 계산한 loss 기반으로 gradient 값 계산\n",
        "        optimizer.step() # weight parameter update\n",
        "\n",
        "        total += targets.size(0) # batch 데이터 개수 더하기\n",
        "        running_loss += loss.item()\n",
        "        batch_losses.append(loss.item())\n",
        "        \n",
        "        _, predicted = outputs.max(1) # 확률값 가장 높게 나타난 클래스\n",
        "        correct += (predicted == targets).sum().item() # 현재 batch 내에서 알맞게 분류한 이미지 개수 더하기\n",
        "        \n",
        "        if batch_idx % 100 == 99:\n",
        "            print(f'\\nCurrent batch: {str(batch_idx+1)}')\n",
        "            print(f'Average train loss of recent 100 batches: {running_loss / 100}') # 이렇게 출력하는 것이 꼭 필요한 것은 아니지만, 중간중간 확인을 위해 매우 권장\n",
        "            running_loss = 0.0\n",
        "\n",
        "    avg_loss = sum(batch_losses) / len(batch_losses)\n",
        "    seq_train_loss.append(avg_loss)\n",
        "    seq_train_acc.append(100*correct/total)\n",
        "    print('\\nTotal train accuarcy:', 100. * correct / total) # 전체 데이터 개수에서 맞게 예측한 비율\n",
        "    print('Total train loss:', avg_loss)"
      ],
      "metadata": {
        "id": "4iTTM9DgFXHV"
      },
      "execution_count": null,
      "outputs": []
    },
    {
      "cell_type": "code",
      "source": [],
      "metadata": {
        "id": "Z7N38OtCFXJ6"
      },
      "execution_count": null,
      "outputs": []
    },
    {
      "cell_type": "code",
      "source": [
        "# test 함수 정의"
      ],
      "metadata": {
        "id": "zxKTZ7oACnGs"
      },
      "execution_count": null,
      "outputs": []
    },
    {
      "cell_type": "code",
      "source": [
        "def test(epoch):\n",
        "    print(f'\\n[ Test epoch: {epoch+1} ]')\n",
        "\n",
        "    mymodel.eval() # eval은 항상 이걸 지정하고 시작! - Dropout, Batch Normalization 등의 효과를 적용하지 않기 위함!\n",
        "                   # ex. evaluation 할때는 Dropout 없이 지금까지 학습한 모든 node를 활용해서 진행해야됨\n",
        "\n",
        "    loss = 0\n",
        "    batch_losses = []\n",
        "    correct = 0\n",
        "    total = 0\n",
        "\n",
        "    with torch.no_grad(): # gradient update 안함 - eval과 torch.no_grad는 하나의 세트\n",
        "        for batch_idx, (inputs, targets) in enumerate(testloader):\n",
        "            inputs, targets = inputs.to(device), targets.to(device)\n",
        "\n",
        "            outputs = mymodel(inputs)\n",
        "            loss = criterion(outputs, targets)\n",
        "            batch_losses.append(loss.item())\n",
        "\n",
        "            total += targets.size(0)\n",
        "            _, predicted = outputs.max(1)\n",
        "            correct += (predicted == targets).sum().item()\n",
        "\n",
        "    avg_loss = sum(batch_losses) / len(batch_losses)\n",
        "    seq_test_loss.append(avg_loss)\n",
        "    seq_test_acc.append(100 * correct / total)\n",
        "    print('\\nTest accuarcy:', 100. * correct / total)\n",
        "    print('Test average loss:', avg_loss)"
      ],
      "metadata": {
        "id": "N7iUubnCFa06"
      },
      "execution_count": null,
      "outputs": []
    },
    {
      "cell_type": "code",
      "source": [],
      "metadata": {
        "id": "fl6UvHOyFa3U"
      },
      "execution_count": null,
      "outputs": []
    },
    {
      "cell_type": "code",
      "source": [],
      "metadata": {
        "id": "-tzr-EFbFa5o"
      },
      "execution_count": null,
      "outputs": []
    },
    {
      "cell_type": "code",
      "source": [
        "# training\n"
      ],
      "metadata": {
        "id": "Y2AB6X97Cx4s"
      },
      "execution_count": null,
      "outputs": []
    },
    {
      "cell_type": "code",
      "source": [
        "num_epoch = 10"
      ],
      "metadata": {
        "id": "82uEvJd3I4EK"
      },
      "execution_count": null,
      "outputs": []
    },
    {
      "cell_type": "code",
      "source": [
        "# 연습 삼아 5 epoch만 진행\n",
        "# 실제로 훈련할때는 올바른 epoch 설정 필요\n",
        "\n",
        "for epoch in range(0, num_epoch):\n",
        "    train(epoch)\n",
        "    test(epoch)\n",
        "\n",
        "# model 저장! - parameter값 저장\n",
        "torch.save(mymodel.state_dict(), './mymodel.pt')\n",
        "print('Model Saved!')"
      ],
      "metadata": {
        "colab": {
          "base_uri": "https://localhost:8080/"
        },
        "id": "klSu5tkbC2Kp",
        "outputId": "feac28ce-74bb-4b9f-b51e-3f5288b28642"
      },
      "execution_count": null,
      "outputs": [
        {
          "output_type": "stream",
          "name": "stdout",
          "text": [
            "\n",
            "[ Train epoch: 1 ]\n",
            "\n",
            "Current batch: 100\n",
            "Average train loss of recent 100 batches: 2.890854148864746\n",
            "\n",
            "Current batch: 200\n",
            "Average train loss of recent 100 batches: 2.2657198214530947\n",
            "\n",
            "Current batch: 300\n",
            "Average train loss of recent 100 batches: 2.2059971857070924\n",
            "\n",
            "Current batch: 400\n",
            "Average train loss of recent 100 batches: 2.1645960772037505\n",
            "\n",
            "Current batch: 500\n",
            "Average train loss of recent 100 batches: 2.139013705253601\n",
            "\n",
            "Total train accuarcy: 19.2316770919391\n",
            "Total train loss: 2.3186506838168737\n",
            "\n",
            "[ Test epoch: 1 ]\n",
            "\n",
            "Test accuarcy: 22.428748451053284\n",
            "Test average loss: 2.083944263437246\n",
            "\n",
            "[ Train epoch: 2 ]\n",
            "\n",
            "Current batch: 100\n",
            "Average train loss of recent 100 batches: 2.046321380138397\n",
            "\n",
            "Current batch: 200\n",
            "Average train loss of recent 100 batches: 2.014784528017044\n",
            "\n",
            "Current batch: 300\n",
            "Average train loss of recent 100 batches: 2.0164179003238676\n",
            "\n",
            "Current batch: 400\n",
            "Average train loss of recent 100 batches: 1.9673069202899933\n",
            "\n",
            "Current batch: 500\n",
            "Average train loss of recent 100 batches: 1.9273786652088165\n",
            "\n",
            "Total train accuarcy: 26.891301782131478\n",
            "Total train loss: 1.993328284992362\n",
            "\n",
            "[ Test epoch: 2 ]\n",
            "\n",
            "Test accuarcy: 32.03910229932535\n",
            "Test average loss: 1.9596075481255149\n",
            "\n",
            "[ Train epoch: 3 ]\n",
            "\n",
            "Current batch: 100\n",
            "Average train loss of recent 100 batches: 1.8972055041790008\n",
            "\n",
            "Current batch: 200\n",
            "Average train loss of recent 100 batches: 1.9090460085868834\n",
            "\n",
            "Current batch: 300\n",
            "Average train loss of recent 100 batches: 1.874154233932495\n",
            "\n",
            "Current batch: 400\n",
            "Average train loss of recent 100 batches: 1.802373776435852\n",
            "\n",
            "Current batch: 500\n",
            "Average train loss of recent 100 batches: 1.8191350758075715\n",
            "\n",
            "Total train accuarcy: 33.140564144930956\n",
            "Total train loss: 1.85995550110655\n",
            "\n",
            "[ Test epoch: 3 ]\n",
            "\n",
            "Test accuarcy: 28.459314332920282\n",
            "Test average loss: 1.9658115057168029\n",
            "\n",
            "[ Train epoch: 4 ]\n",
            "\n",
            "Current batch: 100\n",
            "Average train loss of recent 100 batches: 1.7582659363746642\n",
            "\n",
            "Current batch: 200\n",
            "Average train loss of recent 100 batches: 1.7402991032600403\n",
            "\n",
            "Current batch: 300\n",
            "Average train loss of recent 100 batches: 1.7563043546676635\n",
            "\n",
            "Current batch: 400\n",
            "Average train loss of recent 100 batches: 1.6762829625606537\n",
            "\n",
            "Current batch: 500\n",
            "Average train loss of recent 100 batches: 1.6926708686351777\n",
            "\n",
            "Total train accuarcy: 41.93319957512097\n",
            "Total train loss: 1.7225556357851568\n",
            "\n",
            "[ Test epoch: 4 ]\n",
            "\n",
            "Test accuarcy: 44.66473908853091\n",
            "Test average loss: 1.7076639811372967\n",
            "\n",
            "[ Train epoch: 5 ]\n",
            "\n",
            "Current batch: 100\n",
            "Average train loss of recent 100 batches: 1.672563544511795\n",
            "\n",
            "Current batch: 200\n",
            "Average train loss of recent 100 batches: 1.663720576763153\n",
            "\n",
            "Current batch: 300\n",
            "Average train loss of recent 100 batches: 1.6241468977928162\n",
            "\n",
            "Current batch: 400\n",
            "Average train loss of recent 100 batches: 1.5978672206401825\n",
            "\n",
            "Current batch: 500\n",
            "Average train loss of recent 100 batches: 1.56914177775383\n",
            "\n",
            "Total train accuarcy: 44.81293520594831\n",
            "Total train loss: 1.622784040559013\n",
            "\n",
            "[ Test epoch: 5 ]\n",
            "\n",
            "Test accuarcy: 47.76263252099683\n",
            "Test average loss: 1.6051529330829166\n",
            "\n",
            "[ Train epoch: 6 ]\n",
            "\n",
            "Current batch: 100\n",
            "Average train loss of recent 100 batches: 1.6002605283260345\n",
            "\n",
            "Current batch: 200\n",
            "Average train loss of recent 100 batches: 1.5600919139385223\n",
            "\n",
            "Current batch: 300\n",
            "Average train loss of recent 100 batches: 1.5474280714988708\n",
            "\n",
            "Current batch: 400\n",
            "Average train loss of recent 100 batches: 1.574616814851761\n",
            "\n",
            "Current batch: 500\n",
            "Average train loss of recent 100 batches: 1.5459975242614745\n",
            "\n",
            "Total train accuarcy: 46.93142924583972\n",
            "Total train loss: 1.5605896038829157\n",
            "\n",
            "[ Test epoch: 6 ]\n",
            "\n",
            "Test accuarcy: 40.203772545779984\n",
            "Test average loss: 1.73163788801773\n",
            "\n",
            "[ Train epoch: 7 ]\n",
            "\n",
            "Current batch: 100\n",
            "Average train loss of recent 100 batches: 1.4970779502391816\n",
            "\n",
            "Current batch: 200\n",
            "Average train loss of recent 100 batches: 1.5381426727771759\n",
            "\n",
            "Current batch: 300\n",
            "Average train loss of recent 100 batches: 1.51524600148201\n",
            "\n",
            "Current batch: 400\n",
            "Average train loss of recent 100 batches: 1.4698672366142274\n",
            "\n",
            "Current batch: 500\n",
            "Average train loss of recent 100 batches: 1.5071080911159516\n",
            "\n",
            "Total train accuarcy: 48.63684645344034\n",
            "Total train loss: 1.5063802507688415\n",
            "\n",
            "[ Test epoch: 7 ]\n",
            "\n",
            "Test accuarcy: 43.35673963926752\n",
            "Test average loss: 1.6486793782742537\n",
            "\n",
            "[ Train epoch: 8 ]\n",
            "\n",
            "Current batch: 100\n",
            "Average train loss of recent 100 batches: 1.4672928857803345\n",
            "\n",
            "Current batch: 200\n",
            "Average train loss of recent 100 batches: 1.4412805795669557\n",
            "\n",
            "Current batch: 300\n",
            "Average train loss of recent 100 batches: 1.4726812428236007\n",
            "\n",
            "Current batch: 400\n",
            "Average train loss of recent 100 batches: 1.4456434297561644\n",
            "\n",
            "Current batch: 500\n",
            "Average train loss of recent 100 batches: 1.4167483353614807\n",
            "\n",
            "Total train accuarcy: 49.76985719343798\n",
            "Total train loss: 1.4490383556428945\n",
            "\n",
            "[ Test epoch: 8 ]\n",
            "\n",
            "Test accuarcy: 48.340905961723806\n",
            "Test average loss: 1.526330172753019\n",
            "\n",
            "[ Train epoch: 9 ]\n",
            "\n",
            "Current batch: 100\n",
            "Average train loss of recent 100 batches: 1.4085023963451386\n",
            "\n",
            "Current batch: 200\n",
            "Average train loss of recent 100 batches: 1.3682281053066254\n",
            "\n",
            "Current batch: 300\n",
            "Average train loss of recent 100 batches: 1.3791902792453765\n",
            "\n",
            "Current batch: 400\n",
            "Average train loss of recent 100 batches: 1.3933507156372071\n",
            "\n",
            "Current batch: 500\n",
            "Average train loss of recent 100 batches: 1.3772584903240204\n",
            "\n",
            "Total train accuarcy: 50.961878909477164\n",
            "Total train loss: 1.382818546160212\n",
            "\n",
            "[ Test epoch: 9 ]\n",
            "\n",
            "Test accuarcy: 50.08949469916013\n",
            "Test average loss: 1.4707527042485544\n",
            "\n",
            "[ Train epoch: 10 ]\n",
            "\n",
            "Current batch: 100\n",
            "Average train loss of recent 100 batches: 1.3273998910188676\n",
            "\n",
            "Current batch: 200\n",
            "Average train loss of recent 100 batches: 1.321666870713234\n",
            "\n",
            "Current batch: 300\n",
            "Average train loss of recent 100 batches: 1.3234288835525512\n",
            "\n",
            "Current batch: 400\n",
            "Average train loss of recent 100 batches: 1.3404178738594055\n",
            "\n",
            "Current batch: 500\n",
            "Average train loss of recent 100 batches: 1.3424819546937943\n",
            "\n",
            "Total train accuarcy: 52.0948896494748\n",
            "Total train loss: 1.3330747210754539\n",
            "\n",
            "[ Test epoch: 10 ]\n",
            "\n",
            "Test accuarcy: 49.222084538069666\n",
            "Test average loss: 1.4755693364248401\n",
            "Model Saved!\n"
          ]
        }
      ]
    },
    {
      "cell_type": "code",
      "source": [
        "# loss, accuracy 추이 확인 with plt.plot"
      ],
      "metadata": {
        "id": "ZwJHGOY9Czzh"
      },
      "execution_count": null,
      "outputs": []
    },
    {
      "cell_type": "code",
      "source": [
        "plt.plot(range(num_epoch), seq_train_loss, label=\"Train loss\")\n",
        "plt.plot(range(num_epoch), seq_test_loss, label=\"Test loss\")\n",
        "plt.legend()\n",
        "plt.xlabel('Epoch')\n",
        "plt.ylabel('Loss')\n",
        "plt.show()"
      ],
      "metadata": {
        "colab": {
          "base_uri": "https://localhost:8080/",
          "height": 279
        },
        "id": "jfO_IkgzJiPg",
        "outputId": "cc90deec-e862-4984-99d5-708f7ccdd964"
      },
      "execution_count": null,
      "outputs": [
        {
          "output_type": "display_data",
          "data": {
            "text/plain": [
              "<Figure size 432x288 with 1 Axes>"
            ],
            "image/png": "[encoded data removed]"
          },
          "metadata": {
            "needs_background": "light"
          }
        }
      ]
    },
    {
      "cell_type": "code",
      "source": [
        "plt.plot(range(num_epoch), seq_train_acc, label=\"Train Accuracy\")\n",
        "plt.plot(range(num_epoch), seq_test_acc, label=\"Test Accuracy\")\n",
        "plt.legend()\n",
        "plt.xlabel('Epoch')\n",
        "plt.ylabel('Accuracy')\n",
        "plt.show()"
      ],
      "metadata": {
        "id": "_3-v5LgEJiSS",
        "colab": {
          "base_uri": "https://localhost:8080/",
          "height": 279
        },
        "outputId": "6b508ecd-96c3-4f60-a648-b20eb4878b1f"
      },
      "execution_count": null,
      "outputs": [
        {
          "output_type": "display_data",
          "data": {
            "text/plain": [
              "<Figure size 432x288 with 1 Axes>"
            ],
            "image/png": "[encoded data removed]"
          },
          "metadata": {
            "needs_background": "light"
          }
        }
      ]
    },
    {
      "cell_type": "markdown",
      "source": [
        "## 결과해석"
      ],
      "metadata": {
        "id": "at7YHXE5Jkma"
      }
    },
    {
      "cell_type": "markdown",
      "source": [
        "- 최종 test accuracy는 49%로 적으나, epoch 수가 적었던 만큼 epoch을 충분히 돌린다면 개선 여지가 있다.\n",
        "  - 학습 시 시간을 줄이려면 파라미터 수를 줄여서 해결할 수 있다.\n",
        "  - 데이터 자체에 불균형이 학습 시 수렴 시간이 오래 걸리는 원인이 될 수 있다."
      ],
      "metadata": {
        "id": "MpZD4gkUDz1p"
      }
    },
    {
      "cell_type": "code",
      "source": [],
      "metadata": {
        "id": "MuTMD2w9Ee5_"
      },
      "execution_count": null,
      "outputs": []
    }
  ]
}