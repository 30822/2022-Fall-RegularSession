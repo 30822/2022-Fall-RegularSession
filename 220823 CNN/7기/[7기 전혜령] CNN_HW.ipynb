{
  "cells": [
    {
      "cell_type": "markdown",
      "metadata": {
        "id": "d2ENRS4E9_xy"
      },
      "source": [
        "# 1. 폴더 정리\n",
        "\n",
        "* 제공해드린 animals10.zip의 압축을 풀어 그 내용을 살펴보시고, 폴더 구조를 학습에 알맞도록 재구성해주세요\n",
        "* 특히 각 클래스마다 약 30% 정도의 이미지를 test 폴더에 할당해주세요\n",
        "* 중간중간 헷갈리다면 이것저것 확인하는 코드를 거쳐보세요 (ex. flat_test[:5]로 앞의 다섯값 확인)\n",
        "* 궁금한 점이 있을 경우, 슬랙 질문 채널 활용을 적극 권장합니다."
      ]
    },
    {
      "cell_type": "code",
      "execution_count": null,
      "metadata": {
        "colab": {
          "base_uri": "https://localhost:8080/"
        },
        "id": "s96VsExiWLYV",
        "outputId": "e094c200-6b78-4fde-cf51-1e7edd0c009a"
      },
      "outputs": [
        {
          "output_type": "stream",
          "name": "stdout",
          "text": [
            "Mounted at /content/drive\n"
          ]
        }
      ],
      "source": [
        "# colab 사용할 경우\n",
        "from google.colab import drive\n",
        "drive.mount('/content/drive')"
      ]
    },
    {
      "cell_type": "code",
      "execution_count": null,
      "metadata": {
        "id": "PcOau5yj3CUb"
      },
      "outputs": [],
      "source": [
        "!unzip -qq \"/content/drive/MyDrive/[22-2] DSL session/[0823] CNN/animals10.zip\""
      ]
    },
    {
      "cell_type": "code",
      "execution_count": null,
      "metadata": {
        "id": "_EsyIIng1eqM"
      },
      "outputs": [],
      "source": [
        "# python에서 파일 관리해주는 라이브러리\n",
        "import os\n",
        "import glob\n",
        "import shutil"
      ]
    },
    {
      "cell_type": "code",
      "execution_count": null,
      "metadata": {
        "id": "3Baxun5r88CF"
      },
      "outputs": [],
      "source": [
        "# 각 클래스별 파일 개수 확인 -> 변수로 해당 개수 저장\n",
        "# Tip) 클래스가 10개이므로 각 클래스마다 똑같은 내용의 코드를 계속 써야할까요? 클래스 이름을 리스트로 저장해 for문을 돌리면서 코드를 재사용하는건 어떨까요?\n",
        "class_names = ['butterfly', 'cat', 'chicken', 'cow', 'dog', 'elephant', 'horse', 'sheep', 'spider', 'squirrel']\n",
        "animal_num = []\n",
        "animal_path = []\n",
        "\n",
        "for name in class_names:\n",
        "  file_list = sorted(glob.glob(f'/content/Animals-10/{name}/*.*'))\n",
        "  animal_path.append(file_list)\n",
        "  animal_num.append(len(file_list))"
      ]
    },
    {
      "cell_type": "code",
      "execution_count": null,
      "metadata": {
        "colab": {
          "base_uri": "https://localhost:8080/"
        },
        "id": "xxXwBuNB4Fs7",
        "outputId": "9fd8c964-f6c0-4c0b-e253-55cd35cfda0d"
      },
      "outputs": [
        {
          "output_type": "stream",
          "name": "stdout",
          "text": [
            "[2112, 1668, 3098, 1866, 4863, 1446, 2623, 1820, 4821, 1862]\n"
          ]
        }
      ],
      "source": [
        "print(animal_num)"
      ]
    },
    {
      "cell_type": "code",
      "execution_count": null,
      "metadata": {
        "id": "9Jikw6Rp_BQI"
      },
      "outputs": [],
      "source": [
        "# test에 넣을 이미지 개수 계산\n",
        "animal_test_num = []\n",
        "\n",
        "for idx, name in enumerate(class_names):\n",
        "  test_num = round(animal_num[idx] * 0.3)\n",
        "  animal_test_num .append(test_num)"
      ]
    },
    {
      "cell_type": "code",
      "execution_count": null,
      "metadata": {
        "colab": {
          "base_uri": "https://localhost:8080/"
        },
        "id": "mnIopsWj5CCb",
        "outputId": "216cf569-f210-4127-f56f-37ffbbc1376a"
      },
      "outputs": [
        {
          "output_type": "stream",
          "name": "stdout",
          "text": [
            "[634, 500, 929, 560, 1459, 434, 787, 546, 1446, 559]\n"
          ]
        }
      ],
      "source": [
        "print(animal_test_num)"
      ]
    },
    {
      "cell_type": "code",
      "execution_count": null,
      "metadata": {
        "id": "bb2XMrAe_Fl8"
      },
      "outputs": [],
      "source": [
        "# train, test 폴더 경로 선언 & 만들기\n",
        "animal_train_path = []\n",
        "\n",
        "for idx, name in enumerate(class_names):\n",
        "  train_path = f'./train/{name}'\n",
        "  animal_train_path.append(train_path)\n",
        "  os.makedirs(train_path, exist_ok=True)"
      ]
    },
    {
      "cell_type": "code",
      "execution_count": null,
      "metadata": {
        "id": "qPjqXikEI-vi"
      },
      "outputs": [],
      "source": [
        "# train, test 폴더 경로 선언 & 만들기\n",
        "animal_test_path = []\n",
        "\n",
        "for idx, animal in enumerate(class_names):\n",
        "  test_path = f'./test/{name}'\n",
        "  animal_test_path.append(test_path)\n",
        "  os.makedirs(test_path, exist_ok=True)"
      ]
    },
    {
      "cell_type": "code",
      "execution_count": null,
      "metadata": {
        "id": "BaAXh57G_srE"
      },
      "outputs": [],
      "source": [
        "import random\n",
        "\n",
        "def split(img_list, test_count, train_path, test_path):\n",
        "  # img_list : 이미지 경로 리스트\n",
        "  # test_count : test에 할당할 이미지 개수\n",
        "  # train_path : train 데이터 넣을 경로\n",
        "  # test_path : test 데이터 넣을 경로\n",
        "  \n",
        "  # 랜덤으로 test_count만큼 이미지 img_list에서 고르기\n",
        "  # test 담을 이미지 리스트 저장\n",
        "  test_files=[]\n",
        "  for i in random.sample(img_list, test_count):\n",
        "    test_files.append(i)\n",
        "\n",
        "  # 위에서 고르지 않은 이미지들을 train 담을 이미지 리스트로 저장\n",
        "  train_files = [x for x in img_list if x not in test_files]\n",
        "\n",
        "  # 고른 이미지를 train_path, test_path폴더에 폭사\n",
        "  for k in train_files:\n",
        "    shutil.copy(k, train_path)\n",
        "  \n",
        "  for c in test_files:\n",
        "    shutil.copy(c, test_path)\n",
        "\n",
        "  print('train 폴더 이미지 개수 : {}\\ntest 폴더 이미지 개수 : {}'.format(len(glob.glob(train_path+'/*')),len(glob.glob(test_path+'/*'))))"
      ]
    },
    {
      "cell_type": "code",
      "execution_count": null,
      "metadata": {
        "colab": {
          "base_uri": "https://localhost:8080/"
        },
        "id": "_4UbHwnEEx-U",
        "outputId": "38dde42c-89d5-4a9a-bacf-67f9ac2c2fc6"
      },
      "outputs": [
        {
          "output_type": "stream",
          "name": "stdout",
          "text": [
            "train 폴더 이미지 개수 : 1478\n",
            "test 폴더 이미지 개수 : 634\n",
            "train 폴더 이미지 개수 : 1168\n",
            "test 폴더 이미지 개수 : 500\n",
            "train 폴더 이미지 개수 : 2169\n",
            "test 폴더 이미지 개수 : 929\n",
            "train 폴더 이미지 개수 : 1306\n",
            "test 폴더 이미지 개수 : 560\n",
            "train 폴더 이미지 개수 : 3404\n",
            "test 폴더 이미지 개수 : 1459\n",
            "train 폴더 이미지 개수 : 1012\n",
            "test 폴더 이미지 개수 : 434\n",
            "train 폴더 이미지 개수 : 1836\n",
            "test 폴더 이미지 개수 : 787\n",
            "train 폴더 이미지 개수 : 1274\n",
            "test 폴더 이미지 개수 : 546\n",
            "train 폴더 이미지 개수 : 3375\n",
            "test 폴더 이미지 개수 : 1446\n",
            "train 폴더 이미지 개수 : 1303\n",
            "test 폴더 이미지 개수 : 559\n"
          ]
        }
      ],
      "source": [
        "# train, test 폴더로 이미지 split해서 알맞게 집어넣기\n",
        "for idx, name in enumerate(class_names):\n",
        "  split(animal_path[idx], animal_test_num[idx], animal_train_path[idx], animal_test_path[idx])"
      ]
    },
    {
      "cell_type": "markdown",
      "source": [
        "- (참고)\n",
        "    - https://sangjeong1011.tistory.com/14 \n",
        "    - http://aikorea.org/cs231n/python-numpy-tutorial/"
      ],
      "metadata": {
        "id": "6_zpzhjTFxhG"
      }
    },
    {
      "cell_type": "markdown",
      "metadata": {
        "id": "UKa7LZ4RAXxA"
      },
      "source": [
        "# 2. CNN 모델\n",
        "수업 코드에 '모델 성능에 대한 고민!!' 부분을 참고해서 **test 이미지 기준 최소 80% 이상**의 모델이 나올 수 있도록 학습을 진행해주세요.\n",
        "* 중간중간 헷갈리다면 이것저것 확인하는 코드를 거쳐보세요\n",
        "* 90% 이상의 모델이 이상적이긴 합니다\n",
        "* 궁금한 점이 있을 경우, 슬랙 질문 채널 활용을 적극 권장합니다."
      ]
    },
    {
      "cell_type": "markdown",
      "metadata": {
        "id": "31hFiKNBD48l"
      },
      "source": [
        "전반적으로 수업 코드와 비슷하게 짜면 되는데, 생각해봐야 할 것은\n",
        "* 모든 이미지를 내가 정의하는 하나의 모델에 넣어야함\n",
        "* 그말은 input 데이터의 차원이 항상 동일해야 된다는 말\n",
        "* 그런데 과연 내가 가지고 있는 이미지들의 사이즈가 모두 같을까? - 대략 얼마정도 사이즈 가지고 있는지 코드로 확인해보면 더 좋음 (shape 확인)\n",
        "* 이미지 사이즈를 통일시키기 위해서는 어떻게 해야할까? - transforms의 Resize, RandomCrop 써볼까?\n",
        "* 동물 이미지에 적합한 Augmentation은 무엇이 있을까?"
      ]
    },
    {
      "cell_type": "code",
      "execution_count": null,
      "metadata": {
        "id": "W_NdX1SfGR1q"
      },
      "outputs": [],
      "source": [
        "import torchvision.transforms as transforms\n",
        "import numpy as np\n",
        "import torchvision\n",
        "import torch\n",
        "import torch.nn as nn\n",
        "import matplotlib.pyplot as plt\n",
        "import torch.nn.functional as F"
      ]
    },
    {
      "cell_type": "code",
      "execution_count": null,
      "metadata": {
        "id": "a5fUpaiuHzgC"
      },
      "outputs": [],
      "source": [
        "# 경로 지정\n",
        "\n",
        "train_path = '/content/train'\n",
        "test_path = '/content/test'"
      ]
    },
    {
      "cell_type": "code",
      "execution_count": null,
      "metadata": {
        "id": "i_2CZemyIAGt"
      },
      "outputs": [],
      "source": [
        "# Resize\n",
        "resize_trans = transforms.Compose([\n",
        "                                   transforms.Resize((224,224)),\n",
        "                                   transforms.ToTensor()\n",
        "])\n",
        "\n",
        "resize_train = torchvision.datasets.ImageFolder(root=train_path, transform=resize_trans)\n",
        "resize_test = torchvision.datasets.ImageFolder(root=test_path, transform=resize_trans)"
      ]
    },
    {
      "cell_type": "code",
      "execution_count": null,
      "metadata": {
        "id": "hL9AFCYPIFmh"
      },
      "outputs": [],
      "source": [
        "def get_mean_std(dataset):\n",
        "  meanRGB = [np.mean(image.numpy(), axis=(1,2)) for image,_ in dataset]\n",
        "  stdRGB = [np.std(image.numpy(), axis=(1,2)) for image,_ in dataset]\n",
        "\n",
        "  meanR = np.mean([m[0] for m in meanRGB])\n",
        "  meanG = np.mean([m[1] for m in meanRGB])\n",
        "  meanB = np.mean([m[2] for m in meanRGB])\n",
        "\n",
        "  stdR = np.mean([s[0] for s in stdRGB])\n",
        "  stdG = np.mean([s[1] for s in stdRGB])\n",
        "  stdB = np.mean([s[2] for s in stdRGB])\n",
        "\n",
        "  print(meanR, meanG, meanB)\n",
        "  print(stdR, stdG, stdB)"
      ]
    },
    {
      "cell_type": "code",
      "execution_count": null,
      "metadata": {
        "colab": {
          "base_uri": "https://localhost:8080/"
        },
        "id": "TatlcGuxIGuZ",
        "outputId": "59538a14-3ddd-421c-d355-cc33bb3dbc39"
      },
      "outputs": [
        {
          "output_type": "stream",
          "name": "stdout",
          "text": [
            "0.5180093 0.50009584 0.4127805\n",
            "0.2131873 0.21292152 0.21479237\n"
          ]
        }
      ],
      "source": [
        "get_mean_std(resize_train)"
      ]
    },
    {
      "cell_type": "code",
      "execution_count": null,
      "metadata": {
        "colab": {
          "base_uri": "https://localhost:8080/"
        },
        "id": "H071oq3oIIWZ",
        "outputId": "a0b79439-5718-403d-8303-7caeb85c043f"
      },
      "outputs": [
        {
          "output_type": "stream",
          "name": "stdout",
          "text": [
            "0.51696825 0.5007735 0.41202077\n",
            "0.21414132 0.21329737 0.21589819\n"
          ]
        }
      ],
      "source": [
        "get_mean_std(resize_test)"
      ]
    },
    {
      "cell_type": "code",
      "execution_count": null,
      "metadata": {
        "id": "ySGFLYkPIQgJ"
      },
      "outputs": [],
      "source": [
        "# normalization 준비\n",
        "\n",
        "resize_train_mean=[0.5180093, 0.50009584, 0.4127805]\n",
        "resize_train_std=[0.2131873, 0.21292152, 0.21479237]\n",
        "\n",
        "resize_test_mean=[0.51696825, 0.5007735, 0.41202077]\n",
        "resize_test_std=[0.21414132, 0.21329737, 0.21589819]"
      ]
    },
    {
      "cell_type": "code",
      "execution_count": null,
      "metadata": {
        "id": "UM1CiMcdAfas"
      },
      "outputs": [],
      "source": [
        "transform_train = transforms.Compose([\n",
        "    transforms.Resize((224, 224)), # 이미지 resize\n",
        "    transforms.RandomCrop(224), # 이미지를 랜덤으로 크롭\n",
        "    transforms.ColorJitter(brightness=0.2, contrast=0.2, saturation=0.2, hue=0.2), # 이미지 지터링(밝기, 대조, 채비, 색조)\n",
        "    transforms.RandomHorizontalFlip(p = 0.5), # p확률로 이미지 좌우반전\n",
        "    transforms.ToTensor(),\n",
        "    transforms.Normalize(resize_train_mean, resize_train_std)\n",
        "])\n",
        "\n",
        "transform_test = transforms.Compose([\n",
        "    transforms.Resize((224, 224)), \n",
        "    transforms.ToTensor(),\n",
        "    transforms.Normalize(resize_test_mean, resize_test_std)\n",
        "])\n",
        "\n",
        "trainset = torchvision.datasets.ImageFolder(root=train_path, transform=transform_train)\n",
        "testset = torchvision.datasets.ImageFolder(root=test_path, transform=transform_test)"
      ]
    },
    {
      "cell_type": "code",
      "execution_count": null,
      "metadata": {
        "id": "gHF4PaUQAvzJ"
      },
      "outputs": [],
      "source": [
        "# train, test에 대해 DataLoader 정의\n",
        "trainloader = torch.utils.data.DataLoader(trainset, batch_size=64,\n",
        "                                          shuffle=True, num_workers=2)\n",
        "\n",
        "testloader = torch.utils.data.DataLoader(testset, batch_size=64,\n",
        "                                         shuffle=False, num_workers=2)"
      ]
    },
    {
      "cell_type": "code",
      "execution_count": null,
      "metadata": {
        "id": "Kpvu7SJtAyUH"
      },
      "outputs": [],
      "source": [
        "### Model 클래스 정의 - 차원에 유의하자!\n",
        "# 10개의 클래스를 분류해야 하는 꽤나 복잡한 task - 모델 구조를 어느 정도로 복잡하게 짜볼까?\n",
        "# 가장 마지막 Linear의 out_features는 얼마로 해야할까?\n",
        "class BasicBlock(nn.Module):\n",
        "    expansion = 1\n",
        "    def __init__(self, in_channels, out_channels, stride=1):\n",
        "        super().__init__()\n",
        "\n",
        "        # BatchNorm에 bias가 포함되어 있으므로, conv2d는 bias=False로 설정합니다.\n",
        "        self.residual_function = nn.Sequential(\n",
        "            nn.Conv2d(in_channels, out_channels, kernel_size=3, stride=stride, padding=1, bias=False),\n",
        "            nn.BatchNorm2d(out_channels),\n",
        "            nn.ReLU(),\n",
        "            nn.Conv2d(out_channels, out_channels * BasicBlock.expansion, kernel_size=3, stride=1, padding=1, bias=False),\n",
        "            nn.BatchNorm2d(out_channels * BasicBlock.expansion),\n",
        "        )\n",
        "\n",
        "        # identity mapping, input과 output의 feature map size, filter 수가 동일한 경우 사용.\n",
        "        self.shortcut = nn.Sequential()\n",
        "\n",
        "        self.relu = nn.ReLU()\n",
        "\n",
        "        # projection mapping using 1x1conv\n",
        "        if stride != 1 or in_channels != BasicBlock.expansion * out_channels:\n",
        "            self.shortcut = nn.Sequential(\n",
        "                nn.Conv2d(in_channels, out_channels * BasicBlock.expansion, kernel_size=1, stride=stride, bias=False),\n",
        "                nn.BatchNorm2d(out_channels * BasicBlock.expansion)\n",
        "            )\n",
        "\n",
        "    def forward(self, x):\n",
        "        x = self.residual_function(x) + self.shortcut(x)\n",
        "        x = self.relu(x)\n",
        "        return x\n",
        "\n",
        "\n",
        "class BottleNeck(nn.Module):\n",
        "    expansion = 4\n",
        "    def __init__(self, in_channels, out_channels, stride=1):\n",
        "        super().__init__()\n",
        "\n",
        "        self.residual_function = nn.Sequential(\n",
        "            nn.Conv2d(in_channels, out_channels, kernel_size=1, stride=1, bias=False),\n",
        "            nn.BatchNorm2d(out_channels),\n",
        "            nn.ReLU(),\n",
        "            nn.Conv2d(out_channels, out_channels, kernel_size=3, stride=stride, padding=1, bias=False),\n",
        "            nn.BatchNorm2d(out_channels),\n",
        "            nn.ReLU(),\n",
        "            nn.Conv2d(out_channels, out_channels * BottleNeck.expansion, kernel_size=1, stride=1, bias=False),\n",
        "            nn.BatchNorm2d(out_channels * BottleNeck.expansion),\n",
        "        )\n",
        "\n",
        "        self.shortcut = nn.Sequential()\n",
        "\n",
        "        self.relu = nn.ReLU()\n",
        "\n",
        "        if stride != 1 or in_channels != out_channels * BottleNeck.expansion:\n",
        "            self.shortcut = nn.Sequential(\n",
        "                nn.Conv2d(in_channels, out_channels*BottleNeck.expansion, kernel_size=1, stride=stride, bias=False),\n",
        "                nn.BatchNorm2d(out_channels*BottleNeck.expansion)\n",
        "            )\n",
        "            \n",
        "    def forward(self, x):\n",
        "        x = self.residual_function(x) + self.shortcut(x)\n",
        "        x = self.relu(x)\n",
        "        return x"
      ]
    },
    {
      "cell_type": "code",
      "execution_count": null,
      "metadata": {
        "id": "XYx_W7ATKTmz"
      },
      "outputs": [],
      "source": [
        "class ResNet(nn.Module):\n",
        "    def __init__(self, block, num_block, num_classes=10, init_weights=True):\n",
        "        super().__init__()\n",
        "\n",
        "        self.in_channels=64\n",
        "\n",
        "        self.conv1 = nn.Sequential(\n",
        "            nn.Conv2d(3, 64, kernel_size=7, stride=2, padding=3, bias=False),\n",
        "            nn.BatchNorm2d(64),\n",
        "            nn.ReLU(),\n",
        "            nn.MaxPool2d(kernel_size=3, stride=2, padding=1)\n",
        "        )\n",
        "\n",
        "        self.conv2_x = self._make_layer(block, 64, num_block[0], 1)\n",
        "        self.conv3_x = self._make_layer(block, 128, num_block[1], 2)\n",
        "        self.conv4_x = self._make_layer(block, 256, num_block[2], 2)\n",
        "        self.conv5_x = self._make_layer(block, 512, num_block[3], 2)\n",
        "\n",
        "        self.avg_pool = nn.AdaptiveAvgPool2d((1,1))\n",
        "        self.fc = nn.Linear(512 * block.expansion, num_classes)\n",
        "\n",
        "        # weights inittialization\n",
        "        if init_weights:\n",
        "            self._initialize_weights()\n",
        "\n",
        "    def _make_layer(self, block, out_channels, num_blocks, stride):\n",
        "        strides = [stride] + [1] * (num_blocks - 1)\n",
        "        layers = []\n",
        "        for stride in strides:\n",
        "            layers.append(block(self.in_channels, out_channels, stride))\n",
        "            self.in_channels = out_channels * block.expansion\n",
        "\n",
        "        return nn.Sequential(*layers)\n",
        "\n",
        "    def forward(self,x):\n",
        "        output = self.conv1(x)\n",
        "        output = self.conv2_x(output)\n",
        "        x = self.conv3_x(output)\n",
        "        x = self.conv4_x(x)\n",
        "        x = self.conv5_x(x)\n",
        "        x = self.avg_pool(x)\n",
        "        x = x.view(x.size(0), -1)\n",
        "        x = self.fc(x)\n",
        "        return x\n",
        "\n",
        "    # define weight initialization function\n",
        "    def _initialize_weights(self):\n",
        "        for m in self.modules():\n",
        "            if isinstance(m, nn.Conv2d):\n",
        "                nn.init.kaiming_normal_(m.weight, mode='fan_out', nonlinearity='relu')\n",
        "                if m.bias is not None:\n",
        "                    nn.init.constant_(m.bias, 0)\n",
        "            elif isinstance(m, nn.BatchNorm2d):\n",
        "                nn.init.constant_(m.weight, 1)\n",
        "                nn.init.constant_(m.bias, 0)\n",
        "            elif isinstance(m, nn.Linear):\n",
        "                nn.init.normal_(m.weight, 0, 0.01)\n",
        "                nn.init.constant_(m.bias, 0)\n",
        "\n",
        "def resnet18():\n",
        "    return ResNet(BasicBlock, [2,2,2,2])"
      ]
    },
    {
      "cell_type": "code",
      "execution_count": null,
      "metadata": {
        "id": "A99ALViSCbmI"
      },
      "outputs": [],
      "source": [
        "# Device 선언 (GPU 권장)\n",
        "device = torch.device('cuda' if torch.cuda.is_available() else 'cpu')\n",
        "model = resnet18().to(device)"
      ]
    },
    {
      "cell_type": "code",
      "execution_count": null,
      "metadata": {
        "colab": {
          "base_uri": "https://localhost:8080/"
        },
        "id": "K_AvhGgTCXO7",
        "outputId": "bc854ec9-3c1a-4d8d-f335-08a950c5a932"
      },
      "outputs": [
        {
          "output_type": "stream",
          "name": "stdout",
          "text": [
            "----------------------------------------------------------------\n",
            "        Layer (type)               Output Shape         Param #\n",
            "================================================================\n",
            "            Conv2d-1         [64, 64, 112, 112]           9,408\n",
            "       BatchNorm2d-2         [64, 64, 112, 112]             128\n",
            "              ReLU-3         [64, 64, 112, 112]               0\n",
            "         MaxPool2d-4           [64, 64, 56, 56]               0\n",
            "            Conv2d-5           [64, 64, 56, 56]          36,864\n",
            "       BatchNorm2d-6           [64, 64, 56, 56]             128\n",
            "              ReLU-7           [64, 64, 56, 56]               0\n",
            "            Conv2d-8           [64, 64, 56, 56]          36,864\n",
            "       BatchNorm2d-9           [64, 64, 56, 56]             128\n",
            "             ReLU-10           [64, 64, 56, 56]               0\n",
            "       BasicBlock-11           [64, 64, 56, 56]               0\n",
            "           Conv2d-12           [64, 64, 56, 56]          36,864\n",
            "      BatchNorm2d-13           [64, 64, 56, 56]             128\n",
            "             ReLU-14           [64, 64, 56, 56]               0\n",
            "           Conv2d-15           [64, 64, 56, 56]          36,864\n",
            "      BatchNorm2d-16           [64, 64, 56, 56]             128\n",
            "             ReLU-17           [64, 64, 56, 56]               0\n",
            "       BasicBlock-18           [64, 64, 56, 56]               0\n",
            "           Conv2d-19          [64, 128, 28, 28]          73,728\n",
            "      BatchNorm2d-20          [64, 128, 28, 28]             256\n",
            "             ReLU-21          [64, 128, 28, 28]               0\n",
            "           Conv2d-22          [64, 128, 28, 28]         147,456\n",
            "      BatchNorm2d-23          [64, 128, 28, 28]             256\n",
            "           Conv2d-24          [64, 128, 28, 28]           8,192\n",
            "      BatchNorm2d-25          [64, 128, 28, 28]             256\n",
            "             ReLU-26          [64, 128, 28, 28]               0\n",
            "       BasicBlock-27          [64, 128, 28, 28]               0\n",
            "           Conv2d-28          [64, 128, 28, 28]         147,456\n",
            "      BatchNorm2d-29          [64, 128, 28, 28]             256\n",
            "             ReLU-30          [64, 128, 28, 28]               0\n",
            "           Conv2d-31          [64, 128, 28, 28]         147,456\n",
            "      BatchNorm2d-32          [64, 128, 28, 28]             256\n",
            "             ReLU-33          [64, 128, 28, 28]               0\n",
            "       BasicBlock-34          [64, 128, 28, 28]               0\n",
            "           Conv2d-35          [64, 256, 14, 14]         294,912\n",
            "      BatchNorm2d-36          [64, 256, 14, 14]             512\n",
            "             ReLU-37          [64, 256, 14, 14]               0\n",
            "           Conv2d-38          [64, 256, 14, 14]         589,824\n",
            "      BatchNorm2d-39          [64, 256, 14, 14]             512\n",
            "           Conv2d-40          [64, 256, 14, 14]          32,768\n",
            "      BatchNorm2d-41          [64, 256, 14, 14]             512\n",
            "             ReLU-42          [64, 256, 14, 14]               0\n",
            "       BasicBlock-43          [64, 256, 14, 14]               0\n",
            "           Conv2d-44          [64, 256, 14, 14]         589,824\n",
            "      BatchNorm2d-45          [64, 256, 14, 14]             512\n",
            "             ReLU-46          [64, 256, 14, 14]               0\n",
            "           Conv2d-47          [64, 256, 14, 14]         589,824\n",
            "      BatchNorm2d-48          [64, 256, 14, 14]             512\n",
            "             ReLU-49          [64, 256, 14, 14]               0\n",
            "       BasicBlock-50          [64, 256, 14, 14]               0\n",
            "           Conv2d-51            [64, 512, 7, 7]       1,179,648\n",
            "      BatchNorm2d-52            [64, 512, 7, 7]           1,024\n",
            "             ReLU-53            [64, 512, 7, 7]               0\n",
            "           Conv2d-54            [64, 512, 7, 7]       2,359,296\n",
            "      BatchNorm2d-55            [64, 512, 7, 7]           1,024\n",
            "           Conv2d-56            [64, 512, 7, 7]         131,072\n",
            "      BatchNorm2d-57            [64, 512, 7, 7]           1,024\n",
            "             ReLU-58            [64, 512, 7, 7]               0\n",
            "       BasicBlock-59            [64, 512, 7, 7]               0\n",
            "           Conv2d-60            [64, 512, 7, 7]       2,359,296\n",
            "      BatchNorm2d-61            [64, 512, 7, 7]           1,024\n",
            "             ReLU-62            [64, 512, 7, 7]               0\n",
            "           Conv2d-63            [64, 512, 7, 7]       2,359,296\n",
            "      BatchNorm2d-64            [64, 512, 7, 7]           1,024\n",
            "             ReLU-65            [64, 512, 7, 7]               0\n",
            "       BasicBlock-66            [64, 512, 7, 7]               0\n",
            "AdaptiveAvgPool2d-67            [64, 512, 1, 1]               0\n",
            "           Linear-68                   [64, 10]           5,130\n",
            "================================================================\n",
            "Total params: 11,181,642\n",
            "Trainable params: 11,181,642\n",
            "Non-trainable params: 0\n",
            "----------------------------------------------------------------\n",
            "Input size (MB): 36.75\n",
            "Forward/backward pass size (MB): 4018.25\n",
            "Params size (MB): 42.65\n",
            "Estimated Total Size (MB): 4097.66\n",
            "----------------------------------------------------------------\n"
          ]
        }
      ],
      "source": [
        "# torchsummary로 모델 차원 어떻게 나오는지 돌려보기\n",
        "from torchsummary import summary\n",
        "summary(model, (3, 224, 224), batch_size=64, device=device.type)"
      ]
    },
    {
      "cell_type": "code",
      "execution_count": null,
      "metadata": {
        "id": "CFk7o_fuCgc7"
      },
      "outputs": [],
      "source": [
        "import torch.backends.cudnn as cudnn\n",
        "import torch.optim as optim\n",
        "# loss func, optimizer 정의\n",
        "net = resnet18()\n",
        "net = net.to(device)\n",
        "\n",
        "criterion = nn.CrossEntropyLoss()\n",
        "optimizer = torch.optim.Adam(net.parameters(), lr=0.001, weight_decay=0.0001)"
      ]
    },
    {
      "cell_type": "code",
      "execution_count": null,
      "metadata": {
        "id": "pRIUqNFnLmLy"
      },
      "outputs": [],
      "source": [
        "# 추후 시각화를 위해 매 epoch마다 loss, accuracy 값을 저장할 리스트\n",
        "# 이거 빼먹고 train 돌리면...\n",
        "seq_train_loss = []\n",
        "seq_test_loss = []\n",
        "seq_train_acc = []\n",
        "seq_test_acc = []"
      ]
    },
    {
      "cell_type": "code",
      "execution_count": null,
      "metadata": {
        "id": "-ENGsLI3CksA"
      },
      "outputs": [],
      "source": [
        "# train 함수 정의\n",
        "def train(epoch):\n",
        "    print(f'\\n[ Train epoch: {epoch+1} ]')\n",
        "\n",
        "    net.train() # train은 항상 이걸 지정하고 시작! - Dropout, Batch Normalization 등의 효과를 적용하고 진행하기 위함\n",
        "\n",
        "    running_loss = 0.0\n",
        "    batch_losses = []\n",
        "    total = 0\n",
        "    correct = 0\n",
        "\n",
        "    for batch_idx, (inputs, targets) in enumerate(trainloader):\n",
        "        inputs, targets = inputs.to(device), targets.to(device) # dataloader의 input image와 label도 device에 넣어줘야됨\n",
        "        \n",
        "        # DL 학습 기본 코드\n",
        "        optimizer.zero_grad() # gradient 초기화\n",
        "        outputs = net(inputs) # 현재 batch의 inputs을 모델에 넣어 outputs 추출 (확률값)\n",
        "        loss = criterion(outputs, targets) # 추출한 outputs와 원래 label인 targets 사이 loss 계산\n",
        "        loss.backward() # 계산한 loss 기반으로 gradient 값 계산\n",
        "        optimizer.step() # weight parameter update\n",
        "\n",
        "        total += targets.size(0) # batch 데이터 개수 더하기\n",
        "        running_loss += loss.item()\n",
        "        batch_losses.append(loss.item())\n",
        "        \n",
        "        _, predicted = outputs.max(1) # 확률값 가장 높게 나타난 클래스\n",
        "        correct += (predicted == targets).sum().item() # 현재 batch 내에서 알맞게 분류한 이미지 개수 더하기\n",
        "        \n",
        "        if batch_idx % 300 == 299:\n",
        "            print(f'\\nCurrent batch: {str(batch_idx+1)}')\n",
        "            print(f'Average train loss of recent 300 batches: {running_loss / 300}') # 이렇게 출력하는 것이 꼭 필요한 것은 아니지만, 중간중간 확인을 위해 매우 권장\n",
        "            running_loss = 0.0\n",
        " \n",
        "\n",
        "    avg_loss = sum(batch_losses) / len(batch_losses)\n",
        "    seq_train_loss.append(avg_loss)\n",
        "    seq_train_acc.append(100*correct/total)\n",
        "    print('\\nTotal train accuarcy:', 100. * correct / total) # 전체 데이터 개수에서 맞게 예측한 비율\n",
        "    print('Total train loss:', avg_loss)"
      ]
    },
    {
      "cell_type": "code",
      "execution_count": null,
      "metadata": {
        "id": "zxKTZ7oACnGs"
      },
      "outputs": [],
      "source": [
        "# test 함수 정의\n",
        "def test(epoch):\n",
        "    print(f'\\n[ Test epoch: {epoch+1} ]')\n",
        "\n",
        "    net.eval() # eval은 항상 이걸 지정하고 시작! - Dropout, Batch Normalization 등의 효과를 적용하지 않기 위함!\n",
        "                   # ex. evaluation 할때는 Dropout 없이 지금까지 학습한 모든 node를 활용해서 진행해야됨\n",
        "\n",
        "    loss = 0\n",
        "    batch_losses = []\n",
        "    correct = 0\n",
        "    total = 0\n",
        "\n",
        "    with torch.no_grad(): # gradient update 안함 - eval과 torch.no_grad는 하나의 세트\n",
        "        for batch_idx, (inputs, targets) in enumerate(testloader):\n",
        "            inputs, targets = inputs.to(device), targets.to(device)\n",
        "\n",
        "            outputs = net(inputs)\n",
        "            loss = criterion(outputs, targets)\n",
        "            batch_losses.append(loss.item())\n",
        "\n",
        "            total += targets.size(0)\n",
        "            _, predicted = outputs.max(1)\n",
        "            correct += (predicted == targets).sum().item()\n",
        "\n",
        "    avg_loss = sum(batch_losses) / len(batch_losses)\n",
        "    seq_test_loss.append(avg_loss)\n",
        "    seq_test_acc.append(100 * correct / total)\n",
        "    print('\\nTest accuarcy:', 100. * correct / total)\n",
        "    print('Test average loss:', avg_loss)"
      ]
    },
    {
      "cell_type": "code",
      "execution_count": null,
      "metadata": {
        "id": "s5blPpqUMzxr"
      },
      "outputs": [],
      "source": [
        "# set epoch\n",
        "num_epoch = 20"
      ]
    },
    {
      "cell_type": "code",
      "execution_count": null,
      "metadata": {
        "colab": {
          "base_uri": "https://localhost:8080/"
        },
        "id": "Y2AB6X97Cx4s",
        "outputId": "e871799e-d655-4a43-8356-579b4383da16"
      },
      "outputs": [
        {
          "output_type": "stream",
          "name": "stdout",
          "text": [
            "\n",
            "[ Train epoch: 1 ]\n",
            "\n",
            "Total train accuarcy: 32.834924965893585\n",
            "Total train loss: 1.8999670748095894\n",
            "\n",
            "[ Test epoch: 1 ]\n",
            "\n",
            "Test accuarcy: 30.506748153806978\n",
            "Test average loss: 2.0349897950645386\n",
            "\n",
            "[ Train epoch: 2 ]\n",
            "\n",
            "Total train accuarcy: 44.93860845839018\n",
            "Total train loss: 1.5581822648696368\n",
            "\n",
            "[ Test epoch: 2 ]\n",
            "\n",
            "Test accuarcy: 48.51031321619557\n",
            "Test average loss: 1.4738432425793593\n",
            "\n",
            "[ Train epoch: 3 ]\n",
            "\n",
            "Total train accuarcy: 53.096862210095495\n",
            "Total train loss: 1.3417688321568824\n",
            "\n",
            "[ Test epoch: 3 ]\n",
            "\n",
            "Test accuarcy: 49.898141074611665\n",
            "Test average loss: 1.442965194704087\n",
            "\n",
            "[ Train epoch: 4 ]\n",
            "\n",
            "Total train accuarcy: 58.23738062755798\n",
            "Total train loss: 1.199063017808602\n",
            "\n",
            "[ Test epoch: 4 ]\n",
            "\n",
            "Test accuarcy: 47.38986503692386\n",
            "Test average loss: 1.5836043386924556\n",
            "\n",
            "[ Train epoch: 5 ]\n",
            "\n",
            "Total train accuarcy: 63.525238744884035\n",
            "Total train loss: 1.060712287857973\n",
            "\n",
            "[ Test epoch: 5 ]\n",
            "\n",
            "Test accuarcy: 58.836261777438246\n",
            "Test average loss: 1.272424875963025\n",
            "\n",
            "[ Train epoch: 6 ]\n",
            "\n",
            "Total train accuarcy: 67.56343792633015\n",
            "Total train loss: 0.9515417824638845\n",
            "\n",
            "[ Test epoch: 6 ]\n",
            "\n",
            "Test accuarcy: 65.21517697988286\n",
            "Test average loss: 0.9813879278859472\n",
            "\n",
            "[ Train epoch: 7 ]\n",
            "\n",
            "Total train accuarcy: 70.12824010914052\n",
            "Total train loss: 0.8754797235183184\n",
            "\n",
            "[ Test epoch: 7 ]\n",
            "\n",
            "Test accuarcy: 63.5345047109753\n",
            "Test average loss: 1.0721477863749838\n",
            "\n",
            "[ Train epoch: 8 ]\n",
            "\n",
            "Total train accuarcy: 72.58390177353343\n",
            "Total train loss: 0.8083696132752953\n",
            "\n",
            "[ Test epoch: 8 ]\n",
            "\n",
            "Test accuarcy: 68.11815635345047\n",
            "Test average loss: 0.9331544735809651\n",
            "\n",
            "[ Train epoch: 9 ]\n",
            "\n",
            "Total train accuarcy: 75.01227830832197\n",
            "Total train loss: 0.735766584968733\n",
            "\n",
            "[ Test epoch: 9 ]\n",
            "\n",
            "Test accuarcy: 69.4295900178253\n",
            "Test average loss: 0.9378696550440982\n",
            "\n",
            "[ Train epoch: 10 ]\n",
            "\n",
            "Total train accuarcy: 77.34242837653478\n",
            "Total train loss: 0.6745030758480577\n",
            "\n",
            "[ Test epoch: 10 ]\n",
            "\n",
            "Test accuarcy: 72.86732874968169\n",
            "Test average loss: 0.8379259996297883\n",
            "\n",
            "[ Train epoch: 11 ]\n",
            "\n",
            "Total train accuarcy: 79.34515688949523\n",
            "Total train loss: 0.6093184869048487\n",
            "\n",
            "[ Test epoch: 11 ]\n",
            "\n",
            "Test accuarcy: 66.15737203972498\n",
            "Test average loss: 1.0845378477398941\n",
            "\n",
            "[ Train epoch: 12 ]\n",
            "\n",
            "Total train accuarcy: 81.075034106412\n",
            "Total train loss: 0.5577227613444112\n",
            "\n",
            "[ Test epoch: 12 ]\n",
            "\n",
            "Test accuarcy: 70.99567099567099\n",
            "Test average loss: 0.8938204447428385\n",
            "\n",
            "[ Train epoch: 13 ]\n",
            "\n",
            "Total train accuarcy: 83.03410641200546\n",
            "Total train loss: 0.5079472505776309\n",
            "\n",
            "[ Test epoch: 13 ]\n",
            "\n",
            "Test accuarcy: 73.69493251846193\n",
            "Test average loss: 0.8082589103681285\n",
            "\n",
            "[ Train epoch: 14 ]\n",
            "\n",
            "Total train accuarcy: 84.51296043656207\n",
            "Total train loss: 0.4597486673435683\n",
            "\n",
            "[ Test epoch: 14 ]\n",
            "\n",
            "Test accuarcy: 78.6096256684492\n",
            "Test average loss: 0.6583508623809349\n",
            "\n",
            "[ Train epoch: 15 ]\n",
            "\n",
            "Total train accuarcy: 86.0900409276944\n",
            "Total train loss: 0.4150972368929029\n",
            "\n",
            "[ Test epoch: 15 ]\n",
            "\n",
            "Test accuarcy: 75.51566080977845\n",
            "Test average loss: 0.8629062432583755\n",
            "\n",
            "[ Train epoch: 16 ]\n",
            "\n",
            "Total train accuarcy: 87.25784447476126\n",
            "Total train loss: 0.378840189258396\n",
            "\n",
            "[ Test epoch: 16 ]\n",
            "\n",
            "Test accuarcy: 75.2864782276547\n",
            "Test average loss: 0.8319761538650932\n",
            "\n",
            "[ Train epoch: 17 ]\n",
            "\n",
            "Total train accuarcy: 88.83492496589359\n",
            "Total train loss: 0.32787460950608865\n",
            "\n",
            "[ Test epoch: 17 ]\n",
            "\n",
            "Test accuarcy: 78.8515406162465\n",
            "Test average loss: 0.7135497110524798\n",
            "\n",
            "[ Train epoch: 18 ]\n",
            "\n",
            "Total train accuarcy: 89.79536152796726\n",
            "Total train loss: 0.3009789710416611\n",
            "\n",
            "[ Test epoch: 18 ]\n",
            "\n",
            "Test accuarcy: 78.40590781767253\n",
            "Test average loss: 0.7193367555131757\n",
            "\n",
            "[ Train epoch: 19 ]\n",
            "\n",
            "Total train accuarcy: 90.66302864938608\n",
            "Total train loss: 0.280172890253391\n",
            "\n",
            "[ Test epoch: 19 ]\n",
            "\n",
            "Test accuarcy: 80.69773363891011\n",
            "Test average loss: 0.6422472950676835\n",
            "\n",
            "[ Train epoch: 20 ]\n",
            "\n",
            "Total train accuarcy: 91.58526603001364\n",
            "Total train loss: 0.2563122723004959\n",
            "\n",
            "[ Test epoch: 20 ]\n",
            "\n",
            "Test accuarcy: 79.84466513878279\n",
            "Test average loss: 0.6982957466346461\n",
            "Model Saved!\n"
          ]
        }
      ],
      "source": [
        "# training\n",
        "for epoch in range(0, num_epoch):\n",
        "    train(epoch)\n",
        "    test(epoch)\n",
        "\n",
        "# model 저장! - parameter값 저장\n",
        "torch.save(net.state_dict(), './resnet18.pt')\n",
        "print('Model Saved!')"
      ]
    },
    {
      "cell_type": "code",
      "execution_count": null,
      "metadata": {
        "id": "ZwJHGOY9Czzh",
        "colab": {
          "base_uri": "https://localhost:8080/",
          "height": 279
        },
        "outputId": "4b744ffc-9d6f-4eb2-ae40-04a1da4f47df"
      },
      "outputs": [
        {
          "output_type": "display_data",
          "data": {
            "text/plain": [
              "<Figure size 432x288 with 1 Axes>"
            ],
            "image/png": "[encoded data removed]"
          },
          "metadata": {
            "needs_background": "light"
          }
        }
      ],
      "source": [
        "# loss, accuracy 추이 확인 with plt.plot\n",
        "plt.plot(range(num_epoch), seq_train_loss, label=\"Train loss\")\n",
        "plt.plot(range(num_epoch), seq_test_loss, label=\"Test loss\")\n",
        "plt.legend()\n",
        "plt.grid()\n",
        "plt.xlabel('Epoch')\n",
        "plt.ylabel('Loss')\n",
        "plt.show()"
      ]
    },
    {
      "cell_type": "code",
      "source": [
        "plt.plot(range(num_epoch), seq_train_acc, label=\"Train Accuracy\")\n",
        "plt.plot(range(num_epoch), seq_test_acc, label=\"Test Accuracy\")\n",
        "plt.legend()\n",
        "plt.grid()\n",
        "plt.xlabel('Epoch')\n",
        "plt.ylabel('Loss')\n",
        "plt.show()"
      ],
      "metadata": {
        "colab": {
          "base_uri": "https://localhost:8080/",
          "height": 279
        },
        "id": "WpqLrSUCfEHi",
        "outputId": "6c7e85f5-1fbf-46e4-fb2a-8a07e2669d40"
      },
      "execution_count": null,
      "outputs": [
        {
          "output_type": "display_data",
          "data": {
            "text/plain": [
              "<Figure size 432x288 with 1 Axes>"
            ],
            "image/png": "[encoded data removed]"
          },
          "metadata": {
            "needs_background": "light"
          }
        }
      ]
    }
  ],
  "metadata": {
    "colab": {
      "collapsed_sections": [],
      "name": "[7기_전혜령]_CNN_과제 .ipynb",
      "provenance": []
    },
    "kernelspec": {
      "display_name": "Python 3",
      "name": "python3"
    },
    "language_info": {
      "name": "python"
    },
    "accelerator": "GPU",
    "gpuClass": "standard"
  },
  "nbformat": 4,
  "nbformat_minor": 0
}