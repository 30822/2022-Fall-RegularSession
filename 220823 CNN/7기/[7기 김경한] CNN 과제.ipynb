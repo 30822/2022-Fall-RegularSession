{
  "nbformat": 4,
  "nbformat_minor": 0,
  "metadata": {
    "colab": {
      "name": "[0823] CNN 과제.ipynb",
      "provenance": [],
      "collapsed_sections": []
    },
    "kernelspec": {
      "name": "python3",
      "display_name": "Python 3"
    },
    "language_info": {
      "name": "python"
    },
    "gpuClass": "standard"
  },
  "cells": [
    {
      "cell_type": "markdown",
      "source": [
        "# 1. 폴더 정리\n",
        "\n",
        "* 제공해드린 animals10.zip의 압축을 풀어 그 내용을 살펴보시고, 폴더 구조를 학습에 알맞도록 재구성해주세요\n",
        "* 특히 각 클래스마다 약 30% 정도의 이미지를 test 폴더에 할당해주세요\n",
        "* 중간중간 헷갈리다면 이것저것 확인하는 코드를 거쳐보세요 (ex. flat_test[:5]로 앞의 다섯값 확인)\n",
        "* 궁금한 점이 있을 경우, 슬랙 질문 채널 활용을 적극 권장합니다."
      ],
      "metadata": {
        "id": "d2ENRS4E9_xy"
      }
    },
    {
      "cell_type": "code",
      "source": [
        "from google.colab import drive\n",
        "drive.mount('/content/drive')"
      ],
      "metadata": {
        "colab": {
          "base_uri": "https://localhost:8080/"
        },
        "id": "vluBgkiDvgT9",
        "outputId": "19e1f8ca-36f0-4519-9595-f953a070cd54"
      },
      "execution_count": 1,
      "outputs": [
        {
          "output_type": "stream",
          "name": "stdout",
          "text": [
            "Mounted at /content/drive\n"
          ]
        }
      ]
    },
    {
      "cell_type": "code",
      "source": [
        "import os\n",
        "import glob\n",
        "import shutil"
      ],
      "metadata": {
        "id": "l7DH-EH9wX8A"
      },
      "execution_count": 24,
      "outputs": []
    },
    {
      "cell_type": "code",
      "source": [
        "os.chdir('/content/drive/MyDrive/data')"
      ],
      "metadata": {
        "id": "PCjgAd0uxX8r"
      },
      "execution_count": 25,
      "outputs": []
    },
    {
      "cell_type": "code",
      "execution_count": 26,
      "metadata": {
        "id": "u7tlWm3L9KoV"
      },
      "outputs": [],
      "source": [
        "### Guideline for convenience ###\n",
        "# 압축 풀기\n",
        "!unzip -qq \"animals10.zip\""
      ]
    },
    {
      "cell_type": "code",
      "source": [
        "os.chdir('/content/drive/MyDrive/data/Animals-10')\n",
        "!ls"
      ],
      "metadata": {
        "colab": {
          "base_uri": "https://localhost:8080/"
        },
        "id": "he0SVj4Eyf3-",
        "outputId": "88a63745-c07d-40cb-99d4-141f9cca8200"
      },
      "execution_count": 27,
      "outputs": [
        {
          "output_type": "stream",
          "name": "stdout",
          "text": [
            "butterfly  cat\tchicken  cow  dog  elephant  horse  sheep  spider  squirrel\n"
          ]
        }
      ]
    },
    {
      "cell_type": "code",
      "source": [
        "# 각 클래스별 파일 개수 확인 -> 변수로 해당 개수 저장\n",
        "# Tip) 클래스가 10개이므로 각 클래스마다 똑같은 내용의 코드를 계속 써야할까요? 클래스 이름을 리스트로 저장해 for문을 돌리면서 코드를 재사용하는건 어떨까요?\n",
        "\n",
        "animal_class = ['butterfly', 'cat', 'chicken', 'cow', 'dog', 'elephant', 'horse', 'sheep', 'spider', 'squirrel']\n",
        "class_no = []\n",
        "\n",
        "for i in range(10):\n",
        "    current_class = animal_class[i]\n",
        "    temp = sorted(glob.glob('./{0}/*.*'.format(current_class)))\n",
        "    class_no.append(int(len(temp)))\n",
        "    print(len(temp))"
      ],
      "metadata": {
        "id": "RPXh3srt-1Rx",
        "colab": {
          "base_uri": "https://localhost:8080/"
        },
        "outputId": "1d1c87ce-ffea-4ac8-879e-9da4996cf548"
      },
      "execution_count": 28,
      "outputs": [
        {
          "output_type": "stream",
          "name": "stdout",
          "text": [
            "2112\n",
            "1668\n",
            "3098\n",
            "1866\n",
            "4863\n",
            "1446\n",
            "2623\n",
            "1820\n",
            "4821\n",
            "1862\n"
          ]
        }
      ]
    },
    {
      "cell_type": "code",
      "source": [
        "# test에 넣을 이미지 개수 계산\n",
        "test_no = []\n",
        "for i in range(len(class_no)):\n",
        "    test_no.append(round(class_no[i]*0.3))\n",
        "\n",
        "test_no"
      ],
      "metadata": {
        "id": "9Jikw6Rp_BQI",
        "colab": {
          "base_uri": "https://localhost:8080/"
        },
        "outputId": "dcad5096-1289-458d-a8b7-edf9478be860"
      },
      "execution_count": 29,
      "outputs": [
        {
          "output_type": "execute_result",
          "data": {
            "text/plain": [
              "[634, 500, 929, 560, 1459, 434, 787, 546, 1446, 559]"
            ]
          },
          "metadata": {},
          "execution_count": 29
        }
      ]
    },
    {
      "cell_type": "code",
      "source": [
        "import random\n",
        "\n",
        "def split(img_list, test_count, train_path, test_path):\n",
        "  # img_list : 이미지 경로 리스트\n",
        "  # test_count : test에 할당할 이미지 개수\n",
        "  # train_path : train 데이터 넣을 경로\n",
        "  # test_path : test 데이터 넣을 경로\n",
        "  \n",
        "  # 랜덤으로 test_count만큼 이미지 img_list에서 고르기\n",
        "  # test 담을 이미지 리스트 저장\n",
        "  test_files=[]\n",
        "  for i in random.sample(img_list, test_count):\n",
        "    test_files.append(i)\n",
        "\n",
        "  # 위에서 고르지 않은 이미지들을 train 담을 이미지 리스트로 저장\n",
        "  train_files = [x for x in img_list if x not in test_files]\n",
        "\n",
        "  # 고른 이미지를 train_path, test_path폴더에 폭사\n",
        "  for k in train_files:\n",
        "    shutil.copy(k, train_path)\n",
        "  \n",
        "  for c in test_files:\n",
        "    shutil.copy(c, test_path)\n",
        "\n",
        "  print('train 폴더 이미지 개수 : {}\\ntest 폴더 이미지 개수 : {}'.format(len(glob.glob(train_path+'/*')),len(glob.glob(test_path+'/*'))))"
      ],
      "metadata": {
        "id": "9Zx_RqTL0Vtc"
      },
      "execution_count": 30,
      "outputs": []
    },
    {
      "cell_type": "code",
      "source": [
        "os.chdir('/content/drive/MyDrive/data')\n",
        "!pwd"
      ],
      "metadata": {
        "colab": {
          "base_uri": "https://localhost:8080/"
        },
        "id": "TBEYWvhG3DXr",
        "outputId": "e0fdcbff-e1f2-4afc-95b4-f1897e9d897d"
      },
      "execution_count": 31,
      "outputs": [
        {
          "output_type": "stream",
          "name": "stdout",
          "text": [
            "/content/drive/MyDrive/data\n"
          ]
        }
      ]
    },
    {
      "cell_type": "code",
      "source": [
        "# train, test 폴더 경로 선언 & 만들기\n",
        "# 폴더 경로 선언 & 만들기\n",
        "\n",
        "for name in animal_class:\n",
        "    os.makedirs('./train/{0}'.format(name), exist_ok=True)\n",
        "    os.makedirs('./test/{0}'.format(name), exist_ok=True)"
      ],
      "metadata": {
        "id": "qdBCwXqk2mfh"
      },
      "execution_count": 32,
      "outputs": []
    },
    {
      "cell_type": "code",
      "source": [
        "sorted(glob.glob('/content/drive/MyDrive/data/Animals-10/{0}/*.*'.format(animal_class[0])))[:5]"
      ],
      "metadata": {
        "colab": {
          "base_uri": "https://localhost:8080/"
        },
        "id": "MqoAeNP048DD",
        "outputId": "bd442782-5f47-45be-e1cc-e8b304d60ced"
      },
      "execution_count": 33,
      "outputs": [
        {
          "output_type": "execute_result",
          "data": {
            "text/plain": [
              "['/content/drive/MyDrive/data/Animals-10/butterfly/butterfly (1).jpeg',\n",
              " '/content/drive/MyDrive/data/Animals-10/butterfly/butterfly (1).jpg',\n",
              " '/content/drive/MyDrive/data/Animals-10/butterfly/butterfly (1).png',\n",
              " '/content/drive/MyDrive/data/Animals-10/butterfly/butterfly (10).jpeg',\n",
              " '/content/drive/MyDrive/data/Animals-10/butterfly/butterfly (10).jpg']"
            ]
          },
          "metadata": {},
          "execution_count": 33
        }
      ]
    },
    {
      "cell_type": "code",
      "source": [
        "# train, test 폴더로 이미지 split해서 알맞게 집어넣기\n",
        "\n",
        "for i in range(10):\n",
        "    split(sorted(glob.glob('/content/drive/MyDrive/data/Animals-10/{0}/*.*'.format(animal_class[i]))),\n",
        "          test_no[i], '/content/drive/MyDrive/data/train/{0}'.format(animal_class[i]),\n",
        "          '/content/drive/MyDrive/data/test/{0}'.format(animal_class[i]))"
      ],
      "metadata": {
        "id": "BaAXh57G_srE",
        "colab": {
          "base_uri": "https://localhost:8080/"
        },
        "outputId": "73200d7b-b538-4401-d2be-3df3c97ba207"
      },
      "execution_count": 34,
      "outputs": [
        {
          "output_type": "stream",
          "name": "stdout",
          "text": [
            "train 폴더 이미지 개수 : 1478\n",
            "test 폴더 이미지 개수 : 634\n",
            "train 폴더 이미지 개수 : 1168\n",
            "test 폴더 이미지 개수 : 500\n",
            "train 폴더 이미지 개수 : 2169\n",
            "test 폴더 이미지 개수 : 929\n",
            "train 폴더 이미지 개수 : 1306\n",
            "test 폴더 이미지 개수 : 560\n",
            "train 폴더 이미지 개수 : 3404\n",
            "test 폴더 이미지 개수 : 1459\n",
            "train 폴더 이미지 개수 : 1012\n",
            "test 폴더 이미지 개수 : 434\n",
            "train 폴더 이미지 개수 : 1836\n",
            "test 폴더 이미지 개수 : 787\n",
            "train 폴더 이미지 개수 : 1274\n",
            "test 폴더 이미지 개수 : 546\n",
            "train 폴더 이미지 개수 : 3375\n",
            "test 폴더 이미지 개수 : 1446\n",
            "train 폴더 이미지 개수 : 1303\n",
            "test 폴더 이미지 개수 : 559\n"
          ]
        }
      ]
    },
    {
      "cell_type": "markdown",
      "source": [
        "# 2. CNN 모델\n",
        "수업 코드에 '모델 성능에 대한 고민!!' 부분을 참고해서 **test 이미지 기준 최소 80% 이상**의 모델이 나올 수 있도록 학습을 진행해주세요.\n",
        "* 중간중간 헷갈리다면 이것저것 확인하는 코드를 거쳐보세요\n",
        "* 90% 이상의 모델이 이상적이긴 합니다\n",
        "* 궁금한 점이 있을 경우, 슬랙 질문 채널 활용을 적극 권장합니다."
      ],
      "metadata": {
        "id": "UKa7LZ4RAXxA"
      }
    },
    {
      "cell_type": "markdown",
      "source": [
        "전반적으로 수업 코드와 비슷하게 짜면 되는데, 생각해봐야 할 것은\n",
        "* 모든 이미지를 내가 정의하는 하나의 모델에 넣어야함\n",
        "* 그말은 input 데이터의 차원이 항상 동일해야 된다는 말\n",
        "* 그런데 과연 내가 가지고 있는 이미지들의 사이즈가 모두 같을까? - 대략 얼마정도 사이즈 가지고 있는지 코드로 확인해보면 더 좋음 (shape 확인)\n",
        "* 이미지 사이즈를 통일시키기 위해서는 어떻게 해야할까? - transforms의 Resize, RandomCrop 써볼까?\n",
        "* 동물 이미지에 적합한 Augmentation은 무엇이 있을까?"
      ],
      "metadata": {
        "id": "31hFiKNBD48l"
      }
    },
    {
      "cell_type": "code",
      "source": [
        "from matplotlib.pyplot import imshow\n",
        "import matplotlib.pyplot as plt\n",
        "\n",
        "import torch\n",
        "import torchvision\n",
        "import torchvision.transforms as transforms\n",
        "\n",
        "import numpy as np"
      ],
      "metadata": {
        "id": "jE7d6t6D_FTO"
      },
      "execution_count": 35,
      "outputs": []
    },
    {
      "cell_type": "code",
      "source": [
        "# train, test 이미지를 위한 transforms function 정의\n",
        "# 위에서 말한 포인트들 생각해보기 - 차원에 유의하자!\n",
        "\n",
        "transform_train = transforms.Compose([\n",
        "    transforms.ColorJitter(brightness=0.3),\n",
        "    transforms.RandomRotation(25),\n",
        "    transforms.RandomHorizontalFlip(),\n",
        "    transforms.Resize((32, 32)),\n",
        "    transforms.ToTensor(),\n",
        "    transforms.Normalize((0.485, 0.456, 0.406), (0.229, 0.224, 0.225))\n",
        "])\n",
        "\n",
        "transform_test = transforms.Compose([\n",
        "    transforms.Resize((32, 32)),\n",
        "    transforms.ToTensor(),\n",
        "    transforms.Normalize((0.485, 0.456, 0.406), (0.229, 0.224, 0.225))\n",
        "])"
      ],
      "metadata": {
        "id": "UM1CiMcdAfas"
      },
      "execution_count": 41,
      "outputs": []
    },
    {
      "cell_type": "code",
      "source": [
        "# ImageFolder와 앞서 정의한 transforms function을 활용해 Dataset 객체 (train, test에 대해) 선언\n",
        "\n",
        "train_data = torchvision.datasets.ImageFolder(\n",
        "    root = '/content/drive/MyDrive/data/train', # 바로 train 폴더 지정\n",
        "    transform = transform_train \n",
        ")\n",
        "test_data = torchvision.datasets.ImageFolder(\n",
        "    root = '/content/drive/MyDrive/data/test',\n",
        "    transform = transform_test\n",
        ")"
      ],
      "metadata": {
        "id": "QAYc35vdAlHk"
      },
      "execution_count": 42,
      "outputs": []
    },
    {
      "cell_type": "code",
      "source": [
        "print(len(train_data), len(test_data), train_data[0][0].shape)"
      ],
      "metadata": {
        "colab": {
          "base_uri": "https://localhost:8080/"
        },
        "id": "ZPXtKUbS_dVQ",
        "outputId": "d46e9aac-6144-4c3f-a9e1-b782958f4d75"
      },
      "execution_count": 43,
      "outputs": [
        {
          "output_type": "stream",
          "name": "stdout",
          "text": [
            "18325 7854 torch.Size([3, 32, 32])\n"
          ]
        }
      ]
    },
    {
      "cell_type": "code",
      "source": [
        "def imshow_loader(img):\n",
        "    img = img * 0.225 + 0.456 # 정확한 값은 아니지만 대강 normalize 반대로\n",
        "    img_np = np.array(img)\n",
        "    imshow(np.transpose(img_np, (1,2,0)))\n",
        "    plt.show()"
      ],
      "metadata": {
        "id": "0NxNX3DW_pv2"
      },
      "execution_count": 39,
      "outputs": []
    },
    {
      "cell_type": "code",
      "source": [
        "imshow_loader(train_data[0][0])"
      ],
      "metadata": {
        "colab": {
          "base_uri": "https://localhost:8080/",
          "height": 286
        },
        "id": "3lhQ1mZ4_xuq",
        "outputId": "b5100082-c65f-4950-95f8-a71795d2ddb0"
      },
      "execution_count": 63,
      "outputs": [
        {
          "output_type": "stream",
          "name": "stderr",
          "text": [
            "WARNING:matplotlib.image:Clipping input data to the valid range for imshow with RGB data ([0..1] for floats or [0..255] for integers).\n"
          ]
        },
        {
          "output_type": "display_data",
          "data": {
            "text/plain": [
              "<Figure size 432x288 with 1 Axes>"
            ],
            "image/png": "[encoded data removed]"
          },
          "metadata": {
            "needs_background": "light"
          }
        }
      ]
    },
    {
      "cell_type": "code",
      "source": [
        "# train, test에 대해 DataLoader 정의\n",
        "trainloader = torch.utils.data.DataLoader(\n",
        "    train_data,\n",
        "    batch_size = 32,      # 일반적으로 batch size = 16, 32\n",
        "    shuffle=True,         # train dataloader는 epoch마다 데이터 다시 섞어서 batch 만들고 학습! - 학습 효율 up\n",
        "    num_workers=2\n",
        ")\n",
        "\n",
        "testloader = torch.utils.data.DataLoader(\n",
        "    test_data,\n",
        "    batch_size = 32,      # 일반적으로 batch size = 16, 32\n",
        "    shuffle=False,        # test dataloader는 데이터 매번 섞을 이유가 없음 - 어차피 확인 용도\n",
        "    num_workers=2\n",
        ")"
      ],
      "metadata": {
        "id": "gHF4PaUQAvzJ"
      },
      "execution_count": 45,
      "outputs": []
    },
    {
      "cell_type": "code",
      "source": [
        "\n",
        "import torch.nn as nn\n",
        "\n",
        "\n",
        "animal_class = ['butterfly', 'cat', 'chicken', 'cow', 'dog', 'elephant', 'horse', 'sheep', 'spider', 'squirrel']"
      ],
      "metadata": {
        "id": "-1Ro76MWBSC8"
      },
      "execution_count": 46,
      "outputs": []
    },
    {
      "cell_type": "code",
      "source": [
        "### Model 클래스 정의 - 차원에 유의하자!\n",
        "# 10개의 클래스를 분류해야 하는 꽤나 복잡한 task - 모델 구조를 어느 정도로 복잡하게 짜볼까?\n",
        "# 가장 마지막 Linear의 out_features는 얼마로 해야할까?\n",
        "\n",
        "our_class = tuple(animal_class)\n",
        "\n",
        "#### 모델 정의 시 유념해야할 건 각 층의 결과물의 차원!\n",
        "#### 모델이 복잡해지면 복잡해질수록 이는 더욱 중요해지므로 레이어별로 도출되는 데이터의 크기를 써넣는 것을 추천 (안맞으면 에러남)\n",
        "# (해당 모델은 임의로 만든 모델로 성능을 보장하지 X)\n",
        "\n",
        "class MyModel(nn.Module):\n",
        "    def __init__(self):\n",
        "        super(MyModel, self).__init__()\n",
        "        \n",
        "        self.layer = nn.Sequential(\n",
        "            # 맨처음 RGB 채널 3개이므로 가장 처음 in_channels = 3\n",
        "            # img의 가장 첫 차원이 batch_size 값은 계속해서 유지\n",
        "            nn.Conv2d(in_channels=3, out_channels=16, kernel_size=3, padding=1),  # [batch_size,3,32,32] -> [batch_size,16,32,32] -> same with? - using 16 filters\n",
        "            nn.ReLU(),\n",
        "            nn.BatchNorm2d(16),\n",
        "            nn.Conv2d(in_channels=16, out_channels=16, kernel_size=3, padding=1), # [batch_size,16,32,32] -> [batch_size,32,32,32]\n",
        "            nn.ReLU(),\n",
        "            nn.BatchNorm2d(16),\n",
        "            nn.Dropout(0.30),\n",
        "            nn.MaxPool2d(kernel_size=2, stride=2),                                # [batch_size,32,32,32] -> [batch_size,32,16,16]\n",
        "            nn.Conv2d(in_channels=16, out_channels=32, kernel_size=3, padding=1), # [batch_size,32,16,16] -> [batch_size,32,16,16]\n",
        "            nn.ReLU(),\n",
        "            nn.BatchNorm2d(32),\n",
        "            nn.Dropout(0.20),\n",
        "            nn.Conv2d(in_channels=32, out_channels=32, kernel_size=3, padding=1), # [batch_size,32,16,16] -> [batch_size,64,16,16]\n",
        "            nn.ReLU(),\n",
        "            nn.BatchNorm2d(32),\n",
        "            nn.Dropout(0.25),\n",
        "            nn.Conv2d(in_channels=32, out_channels=32, kernel_size=3, padding=1), # [batch_size,64,16,16] -> [batch_size,64,16,16]\n",
        "            nn.ReLU(),\n",
        "            nn.BatchNorm2d(32),\n",
        "            nn.MaxPool2d(kernel_size=2, stride=2)                                 # [batch_size,64,16,16] -> [batch_size,64,8,8]\n",
        "        )\n",
        "        self.fc_layer = nn.Sequential(\n",
        "            nn.Linear(32*8*8,100),\n",
        "            nn.ReLU(),\n",
        "            nn.Linear(100, 10)\n",
        "        )\n",
        "\n",
        "    def forward(self, x):\n",
        "        # forward pass 과정\n",
        "        out = self.layer(x)\n",
        "        out = out.view(out.size(0),-1)  # FC layer에 들어가기전, flatten! - view 함수 활용\n",
        "                                        # 가장 첫 차원인 batch_size는 유지하고 나머지 차원들을 하나로 합치기 - [batch_size,16,5,5] -> [batch_size,16*5*5]\n",
        "        out = self.fc_layer(out)\n",
        "        return out"
      ],
      "metadata": {
        "id": "Kpvu7SJtAyUH"
      },
      "execution_count": 47,
      "outputs": []
    },
    {
      "cell_type": "code",
      "source": [
        "# torchsummary로 모델 차원 어떻게 나오는지 돌려보기\n",
        "# !pip install torchsummary\n",
        "\n",
        "from torchsummary import summary\n",
        "test_model = MyModel().to(device) # 모델 객체 선언\n",
        "summary(test_model, (3,32,32), batch_size=16)         # Recall) Tensor는 C, H, W 순서로 이미지 가짐"
      ],
      "metadata": {
        "id": "K_AvhGgTCXO7",
        "colab": {
          "base_uri": "https://localhost:8080/"
        },
        "outputId": "ff4f2308-b312-4e9e-a803-9f02f105dce1"
      },
      "execution_count": 48,
      "outputs": [
        {
          "output_type": "stream",
          "name": "stdout",
          "text": [
            "----------------------------------------------------------------\n",
            "        Layer (type)               Output Shape         Param #\n",
            "================================================================\n",
            "            Conv2d-1           [16, 16, 32, 32]             448\n",
            "              ReLU-2           [16, 16, 32, 32]               0\n",
            "       BatchNorm2d-3           [16, 16, 32, 32]              32\n",
            "            Conv2d-4           [16, 16, 32, 32]           2,320\n",
            "              ReLU-5           [16, 16, 32, 32]               0\n",
            "       BatchNorm2d-6           [16, 16, 32, 32]              32\n",
            "           Dropout-7           [16, 16, 32, 32]               0\n",
            "         MaxPool2d-8           [16, 16, 16, 16]               0\n",
            "            Conv2d-9           [16, 32, 16, 16]           4,640\n",
            "             ReLU-10           [16, 32, 16, 16]               0\n",
            "      BatchNorm2d-11           [16, 32, 16, 16]              64\n",
            "          Dropout-12           [16, 32, 16, 16]               0\n",
            "           Conv2d-13           [16, 32, 16, 16]           9,248\n",
            "             ReLU-14           [16, 32, 16, 16]               0\n",
            "      BatchNorm2d-15           [16, 32, 16, 16]              64\n",
            "          Dropout-16           [16, 32, 16, 16]               0\n",
            "           Conv2d-17           [16, 32, 16, 16]           9,248\n",
            "             ReLU-18           [16, 32, 16, 16]               0\n",
            "      BatchNorm2d-19           [16, 32, 16, 16]              64\n",
            "        MaxPool2d-20             [16, 32, 8, 8]               0\n",
            "           Linear-21                  [16, 100]         204,900\n",
            "             ReLU-22                  [16, 100]               0\n",
            "           Linear-23                   [16, 10]           1,010\n",
            "================================================================\n",
            "Total params: 232,070\n",
            "Trainable params: 232,070\n",
            "Non-trainable params: 0\n",
            "----------------------------------------------------------------\n",
            "Input size (MB): 0.19\n",
            "Forward/backward pass size (MB): 25.78\n",
            "Params size (MB): 0.89\n",
            "Estimated Total Size (MB): 26.85\n",
            "----------------------------------------------------------------\n"
          ]
        }
      ]
    },
    {
      "cell_type": "code",
      "source": [
        "# Device 선언 (GPU 권장)\n",
        "device = torch.device(\"cuda:0\" if torch.cuda.is_available() else \"cpu\")\n",
        "device"
      ],
      "metadata": {
        "id": "A99ALViSCbmI",
        "colab": {
          "base_uri": "https://localhost:8080/"
        },
        "outputId": "971fe4bd-10d1-4fb7-ac29-75a4df8b5f25"
      },
      "execution_count": 49,
      "outputs": [
        {
          "output_type": "execute_result",
          "data": {
            "text/plain": [
              "device(type='cpu')"
            ]
          },
          "metadata": {},
          "execution_count": 49
        }
      ]
    },
    {
      "cell_type": "code",
      "source": [
        "# 모델 객체 선언\n",
        "mymodel = MyModel().to(device)\n",
        "mymodel"
      ],
      "metadata": {
        "id": "FmZYSSBFCfOU",
        "colab": {
          "base_uri": "https://localhost:8080/"
        },
        "outputId": "271325d3-3d3d-4090-b11a-e6dad962245c"
      },
      "execution_count": 50,
      "outputs": [
        {
          "output_type": "execute_result",
          "data": {
            "text/plain": [
              "MyModel(\n",
              "  (layer): Sequential(\n",
              "    (0): Conv2d(3, 16, kernel_size=(3, 3), stride=(1, 1), padding=(1, 1))\n",
              "    (1): ReLU()\n",
              "    (2): BatchNorm2d(16, eps=1e-05, momentum=0.1, affine=True, track_running_stats=True)\n",
              "    (3): Conv2d(16, 16, kernel_size=(3, 3), stride=(1, 1), padding=(1, 1))\n",
              "    (4): ReLU()\n",
              "    (5): BatchNorm2d(16, eps=1e-05, momentum=0.1, affine=True, track_running_stats=True)\n",
              "    (6): Dropout(p=0.3, inplace=False)\n",
              "    (7): MaxPool2d(kernel_size=2, stride=2, padding=0, dilation=1, ceil_mode=False)\n",
              "    (8): Conv2d(16, 32, kernel_size=(3, 3), stride=(1, 1), padding=(1, 1))\n",
              "    (9): ReLU()\n",
              "    (10): BatchNorm2d(32, eps=1e-05, momentum=0.1, affine=True, track_running_stats=True)\n",
              "    (11): Dropout(p=0.2, inplace=False)\n",
              "    (12): Conv2d(32, 32, kernel_size=(3, 3), stride=(1, 1), padding=(1, 1))\n",
              "    (13): ReLU()\n",
              "    (14): BatchNorm2d(32, eps=1e-05, momentum=0.1, affine=True, track_running_stats=True)\n",
              "    (15): Dropout(p=0.25, inplace=False)\n",
              "    (16): Conv2d(32, 32, kernel_size=(3, 3), stride=(1, 1), padding=(1, 1))\n",
              "    (17): ReLU()\n",
              "    (18): BatchNorm2d(32, eps=1e-05, momentum=0.1, affine=True, track_running_stats=True)\n",
              "    (19): MaxPool2d(kernel_size=2, stride=2, padding=0, dilation=1, ceil_mode=False)\n",
              "  )\n",
              "  (fc_layer): Sequential(\n",
              "    (0): Linear(in_features=2048, out_features=100, bias=True)\n",
              "    (1): ReLU()\n",
              "    (2): Linear(in_features=100, out_features=10, bias=True)\n",
              "  )\n",
              ")"
            ]
          },
          "metadata": {},
          "execution_count": 50
        }
      ]
    },
    {
      "cell_type": "code",
      "source": [
        "# loss func, optimizer 정의\n",
        "criterion = nn.CrossEntropyLoss().to(device) # criterion (loss func)도 device 위에서\n",
        "optimizer = torch.optim.Adam(mymodel.parameters(), lr=0.001, weight_decay=0.0001) # 보통 Adam의 learning rate로 0.001 사용\n",
        "                                                                                  # weight_decay = L2 Regularization의 lambda값 (가중치 제한 정도)"
      ],
      "metadata": {
        "id": "CFk7o_fuCgc7"
      },
      "execution_count": 51,
      "outputs": []
    },
    {
      "cell_type": "code",
      "source": [
        "# train 함수 정의\n",
        "seq_train_loss = []\n",
        "seq_test_loss = []\n",
        "seq_train_acc = []\n",
        "seq_test_acc = []\n",
        "\n",
        "def train(epoch):\n",
        "    print(f'\\n[ Train epoch: {epoch+1} ]')\n",
        "\n",
        "    mymodel.train() # train은 항상 이걸 지정하고 시작! - Dropout, Batch Normalization 등의 효과를 적용하고 진행하기 위함\n",
        "\n",
        "    running_loss = 0.0\n",
        "    batch_losses = []\n",
        "    total = 0\n",
        "    correct = 0\n",
        "\n",
        "    for batch_idx, (inputs, targets) in enumerate(trainloader):\n",
        "        inputs, targets = inputs.to(device), targets.to(device) # dataloader의 input image와 label도 device에 넣어줘야됨\n",
        "        \n",
        "        # DL 학습 기본 코드\n",
        "        optimizer.zero_grad() # gradient 초기화\n",
        "        outputs = mymodel(inputs) # 현재 batch의 inputs을 모델에 넣어 outputs 추출 (확률값)\n",
        "        loss = criterion(outputs, targets) # 추출한 outputs와 원래 label인 targets 사이 loss 계산\n",
        "        loss.backward() # 계산한 loss 기반으로 gradient 값 계산\n",
        "        optimizer.step() # weight parameter update\n",
        "\n",
        "        total += targets.size(0) # batch 데이터 개수 더하기\n",
        "        running_loss += loss.item()\n",
        "        batch_losses.append(loss.item())\n",
        "        \n",
        "        _, predicted = outputs.max(1) # 확률값 가장 높게 나타난 클래스\n",
        "        correct += (predicted == targets).sum().item() # 현재 batch 내에서 알맞게 분류한 이미지 개수 더하기\n",
        "        \n",
        "        if batch_idx % 300 == 299:\n",
        "            print(f'\\nCurrent batch: {str(batch_idx+1)}')\n",
        "            print(f'Average train loss of recent 300 batches: {running_loss / 300}') # 이렇게 출력하는 것이 꼭 필요한 것은 아니지만, 중간중간 확인을 위해 매우 권장\n",
        "            running_loss = 0.0\n",
        "\n",
        "    avg_loss = sum(batch_losses) / len(batch_losses)\n",
        "    seq_train_loss.append(avg_loss)\n",
        "    seq_train_acc.append(100*correct/total)\n",
        "    print('\\nTotal train accuarcy:', 100. * correct / total) # 전체 데이터 개수에서 맞게 예측한 비율\n",
        "    print('Total train loss:', avg_loss)"
      ],
      "metadata": {
        "id": "jSNWvarfD01l"
      },
      "execution_count": 52,
      "outputs": []
    },
    {
      "cell_type": "code",
      "source": [
        "# test 함수 정의\n",
        "def test(epoch):\n",
        "    print(f'\\n[ Test epoch: {epoch+1} ]')\n",
        "\n",
        "    mymodel.eval() # eval은 항상 이걸 지정하고 시작! - Dropout, Batch Normalization 등의 효과를 적용하지 않기 위함!\n",
        "                   # ex. evaluation 할때는 Dropout 없이 지금까지 학습한 모든 node를 활용해서 진행해야됨\n",
        "\n",
        "    loss = 0\n",
        "    batch_losses = []\n",
        "    correct = 0\n",
        "    total = 0\n",
        "\n",
        "    with torch.no_grad(): # gradient update 안함 - eval과 torch.no_grad는 하나의 세트\n",
        "        for batch_idx, (inputs, targets) in enumerate(testloader):\n",
        "            inputs, targets = inputs.to(device), targets.to(device)\n",
        "\n",
        "            outputs = mymodel(inputs)\n",
        "            loss = criterion(outputs, targets)\n",
        "            batch_losses.append(loss.item())\n",
        "\n",
        "            total += targets.size(0)\n",
        "            _, predicted = outputs.max(1)\n",
        "            correct += (predicted == targets).sum().item()\n",
        "\n",
        "    avg_loss = sum(batch_losses) / len(batch_losses)\n",
        "    seq_test_loss.append(avg_loss)\n",
        "    seq_test_acc.append(100 * correct / total)\n",
        "    print('\\nTest accuarcy:', 100. * correct / total)\n",
        "    print('Test average loss:', avg_loss)"
      ],
      "metadata": {
        "id": "zxKTZ7oACnGs"
      },
      "execution_count": 53,
      "outputs": []
    },
    {
      "cell_type": "code",
      "source": [
        "# training\n",
        "\n",
        "num_epoch = 15\n",
        "\n",
        "for epoch in range(0, num_epoch):\n",
        "    train(epoch)\n",
        "    test(epoch)\n",
        "\n",
        "# model 저장! - parameter값 저장\n",
        "torch.save(mymodel.state_dict(), '/content/drive/MyDrive/data/mymodel_animals.pt')\n",
        "print('Model Saved!')"
      ],
      "metadata": {
        "id": "Y2AB6X97Cx4s",
        "colab": {
          "base_uri": "https://localhost:8080/"
        },
        "outputId": "1e0f948a-6391-4107-c515-ae7bf9d90e33"
      },
      "execution_count": 54,
      "outputs": [
        {
          "output_type": "stream",
          "name": "stdout",
          "text": [
            "\n",
            "[ Train epoch: 1 ]\n",
            "\n",
            "Current batch: 300\n",
            "Average train loss of recent 300 batches: 1.9321231842041016\n",
            "\n",
            "Total train accuarcy: 36.36016371077763\n",
            "Total train loss: 1.8142867406625398\n",
            "\n",
            "[ Test epoch: 1 ]\n",
            "\n",
            "Test accuarcy: 47.03335879806468\n",
            "Test average loss: 1.5854518951439276\n",
            "\n",
            "[ Train epoch: 2 ]\n",
            "\n",
            "Current batch: 300\n",
            "Average train loss of recent 300 batches: 1.5534663152694703\n",
            "\n",
            "Total train accuarcy: 47.43792633015007\n",
            "Total train loss: 1.5139720591783108\n",
            "\n",
            "[ Test epoch: 2 ]\n",
            "\n",
            "Test accuarcy: 50.85306850012732\n",
            "Test average loss: 1.4290000149389592\n",
            "\n",
            "[ Train epoch: 3 ]\n",
            "\n",
            "Current batch: 300\n",
            "Average train loss of recent 300 batches: 1.4088027350107828\n",
            "\n",
            "Total train accuarcy: 52.24010914051842\n",
            "Total train loss: 1.3846926043170908\n",
            "\n",
            "[ Test epoch: 3 ]\n",
            "\n",
            "Test accuarcy: 54.112554112554115\n",
            "Test average loss: 1.3231657822199954\n",
            "\n",
            "[ Train epoch: 4 ]\n",
            "\n",
            "Current batch: 300\n",
            "Average train loss of recent 300 batches: 1.3116158016522725\n",
            "\n",
            "Total train accuarcy: 55.356070941336974\n",
            "Total train loss: 1.2978182601471013\n",
            "\n",
            "[ Test epoch: 4 ]\n",
            "\n",
            "Test accuarcy: 56.85001273236568\n",
            "Test average loss: 1.2449776392157486\n",
            "\n",
            "[ Train epoch: 5 ]\n",
            "\n",
            "Current batch: 300\n",
            "Average train loss of recent 300 batches: 1.2300180751085281\n",
            "\n",
            "Total train accuarcy: 57.560709413369715\n",
            "Total train loss: 1.2352964210260602\n",
            "\n",
            "[ Test epoch: 5 ]\n",
            "\n",
            "Test accuarcy: 59.40921823274765\n",
            "Test average loss: 1.1924097864487306\n",
            "\n",
            "[ Train epoch: 6 ]\n",
            "\n",
            "Current batch: 300\n",
            "Average train loss of recent 300 batches: 1.190808366338412\n",
            "\n",
            "Total train accuarcy: 59.7980900409277\n",
            "Total train loss: 1.181343456317409\n",
            "\n",
            "[ Test epoch: 6 ]\n",
            "\n",
            "Test accuarcy: 60.63152533740769\n",
            "Test average loss: 1.1720084439569372\n",
            "\n",
            "[ Train epoch: 7 ]\n",
            "\n",
            "Current batch: 300\n",
            "Average train loss of recent 300 batches: 1.1609525205691655\n",
            "\n",
            "Total train accuarcy: 60.24010914051842\n",
            "Total train loss: 1.1486230394811114\n",
            "\n",
            "[ Test epoch: 7 ]\n",
            "\n",
            "Test accuarcy: 60.325948561242676\n",
            "Test average loss: 1.1688021859986994\n",
            "\n",
            "[ Train epoch: 8 ]\n",
            "\n",
            "Current batch: 300\n",
            "Average train loss of recent 300 batches: 1.1122921107212702\n",
            "\n",
            "Total train accuarcy: 61.391541609822646\n",
            "Total train loss: 1.1101699521404287\n",
            "\n",
            "[ Test epoch: 8 ]\n",
            "\n",
            "Test accuarcy: 62.846956964604026\n",
            "Test average loss: 1.1053143013420144\n",
            "\n",
            "[ Train epoch: 9 ]\n",
            "\n",
            "Current batch: 300\n",
            "Average train loss of recent 300 batches: 1.077433405717214\n",
            "\n",
            "Total train accuarcy: 63.11050477489768\n",
            "Total train loss: 1.0793414197563085\n",
            "\n",
            "[ Test epoch: 9 ]\n",
            "\n",
            "Test accuarcy: 61.777438248026485\n",
            "Test average loss: 1.1288609158217422\n",
            "\n",
            "[ Train epoch: 10 ]\n",
            "\n",
            "Current batch: 300\n",
            "Average train loss of recent 300 batches: 1.0467594506343205\n",
            "\n",
            "Total train accuarcy: 64.15279672578444\n",
            "Total train loss: 1.0435234995308555\n",
            "\n",
            "[ Test epoch: 10 ]\n",
            "\n",
            "Test accuarcy: 61.96842373312962\n",
            "Test average loss: 1.125025179691431\n",
            "\n",
            "[ Train epoch: 11 ]\n",
            "\n",
            "Current batch: 300\n",
            "Average train loss of recent 300 batches: 1.0153693413734437\n",
            "\n",
            "Total train accuarcy: 65.05866302864939\n",
            "Total train loss: 1.0225893161267718\n",
            "\n",
            "[ Test epoch: 11 ]\n",
            "\n",
            "Test accuarcy: 63.67456073338426\n",
            "Test average loss: 1.0508960532705958\n",
            "\n",
            "[ Train epoch: 12 ]\n",
            "\n",
            "Current batch: 300\n",
            "Average train loss of recent 300 batches: 0.9944466461737951\n",
            "\n",
            "Total train accuarcy: 65.39154160982265\n",
            "Total train loss: 0.9989239269214151\n",
            "\n",
            "[ Test epoch: 12 ]\n",
            "\n",
            "Test accuarcy: 65.43162719633308\n",
            "Test average loss: 1.0435541238847788\n",
            "\n",
            "[ Train epoch: 13 ]\n",
            "\n",
            "Current batch: 300\n",
            "Average train loss of recent 300 batches: 0.9750594385464986\n",
            "\n",
            "Total train accuarcy: 66.6193724420191\n",
            "Total train loss: 0.9829127074952317\n",
            "\n",
            "[ Test epoch: 13 ]\n",
            "\n",
            "Test accuarcy: 65.50802139037434\n",
            "Test average loss: 1.0484896860713881\n",
            "\n",
            "[ Train epoch: 14 ]\n",
            "\n",
            "Current batch: 300\n",
            "Average train loss of recent 300 batches: 0.9668416538834572\n",
            "\n",
            "Total train accuarcy: 67.13778990450204\n",
            "Total train loss: 0.9578228640202661\n",
            "\n",
            "[ Test epoch: 14 ]\n",
            "\n",
            "Test accuarcy: 64.8332060096766\n",
            "Test average loss: 1.0662728916338788\n",
            "\n",
            "[ Train epoch: 15 ]\n",
            "\n",
            "Current batch: 300\n",
            "Average train loss of recent 300 batches: 0.9285052172342936\n",
            "\n",
            "Total train accuarcy: 67.30695770804911\n",
            "Total train loss: 0.942135881847112\n",
            "\n",
            "[ Test epoch: 15 ]\n",
            "\n",
            "Test accuarcy: 65.3170359052712\n",
            "Test average loss: 1.0477523718907582\n",
            "Model Saved!\n"
          ]
        }
      ]
    },
    {
      "cell_type": "code",
      "source": [
        "# loss, accuracy 추이 확인 with plt.plot\n",
        "\n",
        "plt.plot(range(num_epoch), seq_train_loss, label=\"Train loss\")\n",
        "plt.plot(range(num_epoch), seq_test_loss, label=\"Test loss\")\n",
        "plt.legend()\n",
        "plt.xlabel('Epoch')\n",
        "plt.ylabel('Loss')\n",
        "plt.show()"
      ],
      "metadata": {
        "id": "ZwJHGOY9Czzh",
        "colab": {
          "base_uri": "https://localhost:8080/",
          "height": 279
        },
        "outputId": "d5261169-dba5-4e0b-a7da-4bf2dc57f968"
      },
      "execution_count": 55,
      "outputs": [
        {
          "output_type": "display_data",
          "data": {
            "text/plain": [
              "<Figure size 432x288 with 1 Axes>"
            ],
            "image/png": "[encoded data removed]"
          },
          "metadata": {
            "needs_background": "light"
          }
        }
      ]
    },
    {
      "cell_type": "code",
      "source": [
        "plt.plot(range(num_epoch), seq_train_acc, label=\"Train Accuracy\")\n",
        "plt.plot(range(num_epoch), seq_test_acc, label=\"Test Accuracy\")\n",
        "plt.legend()\n",
        "plt.xlabel('Epoch')\n",
        "plt.ylabel('Accuracy')\n",
        "plt.show()"
      ],
      "metadata": {
        "colab": {
          "base_uri": "https://localhost:8080/",
          "height": 279
        },
        "id": "sIUHJE0hZlWJ",
        "outputId": "db2b398b-878f-4dc8-84da-ec7b37ae839d"
      },
      "execution_count": 56,
      "outputs": [
        {
          "output_type": "display_data",
          "data": {
            "text/plain": [
              "<Figure size 432x288 with 1 Axes>"
            ],
            "image/png": "[encoded data removed]"
          },
          "metadata": {
            "needs_background": "light"
          }
        }
      ]
    },
    {
      "cell_type": "markdown",
      "source": [
        "#### 결과물 총평\n",
        "\n",
        "* 최종 Test Accuracy: 65.31% (Epoch 15)\n",
        "* 최고 Test Accuracy: 65.50% (Epoch 13)\n",
        "* Epoch 8 즈음 Overfitting이 일어나는 듯 Test Accuracy가 정체를 보였으나 Epoch 10 이후 소폭 반등함\n",
        "* 그러나 Epoch 12 이후로는 계속 65%대의 정확도에서 올라가지 못하는 것으로 보아, Overfitting이 발생했다고 추측할 수 있음\n",
        "\n",
        "<해결책>\n",
        "\n",
        "* Epoch 수를 늘려 본다: Overfitting 여부를 조금 더 확실히 확인 가능\n",
        "* Hyperparameter 수정: out_channnel 수, conv2d layer 수, filter 개수 등\n",
        "* 첫 input 크기 조절: 현재는 32x32로 input size를 설정했는데 이를 키운다."
      ],
      "metadata": {
        "id": "YsPYGnDFrTnw"
      }
    }
  ]
}