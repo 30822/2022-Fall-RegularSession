{
  "nbformat": 4,
  "nbformat_minor": 0,
  "metadata": {
    "colab": {
      "name": "[7기_이승주]_CNN_과제.ipynb",
      "provenance": [],
      "collapsed_sections": [],
      "toc_visible": true
    },
    "kernelspec": {
      "name": "python3",
      "display_name": "Python 3"
    },
    "language_info": {
      "name": "python"
    },
    "accelerator": "GPU",
    "gpuClass": "standard"
  },
  "cells": [
    {
      "cell_type": "markdown",
      "source": [
        "# 1. 폴더 정리\n",
        "\n",
        "* 제공해드린 animals10.zip의 압축을 풀어 그 내용을 살펴보시고, 폴더 구조를 학습에 알맞도록 재구성해주세요\n",
        "* 특히 각 클래스마다 약 30% 정도의 이미지를 test 폴더에 할당해주세요\n",
        "* 중간중간 헷갈리다면 이것저것 확인하는 코드를 거쳐보세요 (ex. flat_test[:5]로 앞의 다섯값 확인)\n",
        "* 궁금한 점이 있을 경우, 슬랙 질문 채널 활용을 적극 권장합니다."
      ],
      "metadata": {
        "id": "d2ENRS4E9_xy"
      }
    },
    {
      "cell_type": "code",
      "source": [
        "from google.colab import drive\n",
        "drive.mount('/content/drive')"
      ],
      "metadata": {
        "colab": {
          "base_uri": "https://localhost:8080/"
        },
        "id": "tUuVrMNHQ4ii",
        "outputId": "a1f2889d-a592-4522-e2a3-7c68a5255653"
      },
      "execution_count": 1,
      "outputs": [
        {
          "output_type": "stream",
          "name": "stdout",
          "text": [
            "Mounted at /content/drive\n"
          ]
        }
      ]
    },
    {
      "cell_type": "code",
      "source": [
        "import glob\n",
        "%cd /content/drive/MyDrive/RegularSession/[0823] CNN/"
      ],
      "metadata": {
        "id": "Q99-LoGJ1G-t",
        "colab": {
          "base_uri": "https://localhost:8080/"
        },
        "outputId": "4315737f-2caf-4b9a-e563-85b0bbcd11ab"
      },
      "execution_count": 2,
      "outputs": [
        {
          "output_type": "stream",
          "name": "stdout",
          "text": [
            "/content/drive/MyDrive/RegularSession/[0823] CNN\n"
          ]
        }
      ]
    },
    {
      "cell_type": "code",
      "execution_count": 3,
      "metadata": {
        "id": "u7tlWm3L9KoV"
      },
      "outputs": [],
      "source": [
        "### Guideline for convenience ###\n",
        "# 압축 풀기\n",
        "\n",
        "!unzip -qq \"animals10.zip\""
      ]
    },
    {
      "cell_type": "code",
      "source": [
        "# 각 클래스별 파일 개수 확인 -> 변수로 해당 개수 저장\n",
        "# Tip) 클래스가 10개이므로 각 클래스마다 똑같은 내용의 코드를 계속 써야할까요? 클래스 이름을 리스트로 저장해 for문을 돌리면서 코드를 재사용하는건 어떨까요?\n",
        "# 앗... 이걸 못보고 그냥 손으로 하나하나 다했네요...\n",
        "\n",
        "# glob.glob로 파일 개수 확인\n",
        "butterfly = sorted(glob.glob('./Animals-10/butterfly/*'))\n",
        "cat = sorted(glob.glob('./Animals-10/cat/*'))\n",
        "chicken = sorted(glob.glob('./Animals-10/chicken/*'))\n",
        "cow = sorted(glob.glob('./Animals-10/cow/*'))\n",
        "dog = sorted(glob.glob('./Animals-10/dog/*'))\n",
        "elephant = sorted(glob.glob('./Animals-10/elephant/*'))\n",
        "horse = sorted(glob.glob('./Animals-10/horse/*'))\n",
        "sheep = sorted(glob.glob('./Animals-10/sheep/*'))\n",
        "spider = sorted(glob.glob('./Animals-10/spider/*'))\n",
        "squirrel = sorted(glob.glob('./Animals-10/squirrel/*'))\n",
        "\n",
        "print(len(butterfly))\n",
        "print(len(cat))\n",
        "print(len(chicken))\n",
        "print(len(cow))\n",
        "print(len(dog))\n",
        "print(len(elephant))\n",
        "print(len(horse))\n",
        "print(len(sheep))\n",
        "print(len(spider))\n",
        "print(len(squirrel))"
      ],
      "metadata": {
        "id": "RPXh3srt-1Rx",
        "colab": {
          "base_uri": "https://localhost:8080/"
        },
        "outputId": "efccf2cb-4617-4ed5-8b4b-0a06912d72a3"
      },
      "execution_count": 4,
      "outputs": [
        {
          "output_type": "stream",
          "name": "stdout",
          "text": [
            "2112\n",
            "1668\n",
            "3098\n",
            "1866\n",
            "4863\n",
            "1446\n",
            "2623\n",
            "1820\n",
            "4821\n",
            "1862\n"
          ]
        }
      ]
    },
    {
      "cell_type": "code",
      "source": [
        "cat[:5]"
      ],
      "metadata": {
        "id": "9Jikw6Rp_BQI",
        "colab": {
          "base_uri": "https://localhost:8080/"
        },
        "outputId": "c8c0233a-e049-4780-f98b-57d9dc20614c"
      },
      "execution_count": 5,
      "outputs": [
        {
          "output_type": "execute_result",
          "data": {
            "text/plain": [
              "['./Animals-10/cat/cat (1).jpeg',\n",
              " './Animals-10/cat/cat (1).jpg',\n",
              " './Animals-10/cat/cat (1).png',\n",
              " './Animals-10/cat/cat (10).jpeg',\n",
              " './Animals-10/cat/cat (10).jpg']"
            ]
          },
          "metadata": {},
          "execution_count": 5
        }
      ]
    },
    {
      "cell_type": "code",
      "source": [
        "# test에 넣을 이미지 개수 계산\n",
        "\n",
        "butterfly_test_count = round(len(butterfly)*0.3)\n",
        "cat_test_count = round(len(cat)*0.3)\n",
        "chicken_test_count = round(len(chicken)*0.3)\n",
        "cow_test_count = round(len(cow)*0.3)\n",
        "dog_test_count = round(len(dog)*0.3)\n",
        "elephant_test_count = round(len(elephant)*0.3)\n",
        "horse_test_count = round(len(horse)*0.3)\n",
        "sheep_test_count = round(len(sheep)*0.3)\n",
        "spider_test_count = round(len(spider)*0.3)\n",
        "squirrel_test_count = round(len(squirrel)*0.3)"
      ],
      "metadata": {
        "id": "Qx28qyZAbmAJ"
      },
      "execution_count": 6,
      "outputs": []
    },
    {
      "cell_type": "code",
      "source": [
        "# train, test 폴더 경로 선언 & 만들기\n",
        "import random\n",
        "import os \n",
        "import shutil\n",
        "\n",
        "def split(img_list, test_count, train_path, test_path):\n",
        "  # img_list : 이미지 경로 리스트\n",
        "  # test_count : test에 할당할 이미지 개수\n",
        "  # train_path : train 데이터 넣을 경로\n",
        "  # test_path : test 데이터 넣을 경로\n",
        "  \n",
        "  # 랜덤으로 test_count만큼 이미지 img_list에서 고르기\n",
        "  # test 담을 이미지 리스트 저장\n",
        "  test_files=[]\n",
        "  for i in random.sample(img_list, test_count):\n",
        "    test_files.append(i)\n",
        "\n",
        "  # 위에서 고르지 않은 이미지들을 train 담을 이미지 리스트로 저장\n",
        "  train_files = [x for x in img_list if x not in test_files]\n",
        "\n",
        "  # 고른 이미지를 train_path, test_path폴더에 폭사\n",
        "  for k in train_files:\n",
        "    shutil.copy(k, train_path)\n",
        "  \n",
        "  for c in test_files:\n",
        "    shutil.copy(c, test_path)\n",
        "\n",
        "  print('train 폴더 이미지 개수 : {}\\ntest 폴더 이미지 개수 : {}'.format(len(glob.glob(train_path+'/*')),len(glob.glob(test_path+'/*'))))"
      ],
      "metadata": {
        "id": "bb2XMrAe_Fl8"
      },
      "execution_count": 7,
      "outputs": []
    },
    {
      "cell_type": "code",
      "source": [
        "# train, test 폴더로 이미지 split해서 알맞게 집어넣기\n",
        "# 폴더 경로 선언 & 만들기\n",
        "butterfly_train_path='./train/butterfly'\n",
        "butterfly_test_path='./test/butterfly'\n",
        "os.makedirs(butterfly_train_path, exist_ok=True)\n",
        "os.makedirs(butterfly_test_path, exist_ok=True)\n",
        "\n",
        "cat_train_path='./train/cat'\n",
        "cat_test_path='./test/cat'\n",
        "os.makedirs(cat_train_path, exist_ok=True)\n",
        "os.makedirs(cat_test_path, exist_ok=True)\n",
        "\n",
        "chicken_train_path='./train/chicken'\n",
        "chicken_test_path='./test/chicken'\n",
        "os.makedirs(chicken_train_path, exist_ok=True)\n",
        "os.makedirs(chicken_test_path, exist_ok=True)\n",
        "\n",
        "\n",
        "cow_train_path='./train/cow'\n",
        "cow_test_path='./test/cow'\n",
        "os.makedirs(cow_train_path, exist_ok=True)\n",
        "os.makedirs(cow_test_path, exist_ok=True)\n",
        "\n",
        "dog_train_path='./train/dog'\n",
        "dog_test_path='./test/dog'\n",
        "os.makedirs(dog_train_path, exist_ok=True)\n",
        "os.makedirs(dog_test_path, exist_ok=True)\n",
        "\n",
        "elephant_train_path='./train/elephant'\n",
        "elephant_test_path='./test/elephant'\n",
        "os.makedirs(elephant_train_path, exist_ok=True)\n",
        "os.makedirs(elephant_test_path, exist_ok=True)\n",
        "\n",
        "\n",
        "horse_train_path='./train/horse'\n",
        "horse_test_path='./test/horse'\n",
        "os.makedirs(horse_train_path, exist_ok=True)\n",
        "os.makedirs(horse_test_path, exist_ok=True)\n",
        "\n",
        "sheep_train_path='./train/sheep'\n",
        "sheep_test_path='./test/sheep'\n",
        "os.makedirs(sheep_train_path, exist_ok=True)\n",
        "os.makedirs(sheep_test_path, exist_ok=True)\n",
        "\n",
        "spider_train_path='./train/spider'\n",
        "spider_test_path='./test/spider'\n",
        "os.makedirs(spider_train_path, exist_ok=True)\n",
        "os.makedirs(spider_test_path, exist_ok=True)\n",
        "\n",
        "squirrel_train_path='./train/squirrel'\n",
        "squirrel_test_path='./test/squirrel'\n",
        "os.makedirs(squirrel_train_path, exist_ok=True)\n",
        "os.makedirs(squirrel_test_path, exist_ok=True)\n"
      ],
      "metadata": {
        "id": "BaAXh57G_srE"
      },
      "execution_count": 8,
      "outputs": []
    },
    {
      "cell_type": "code",
      "source": [
        "split(butterfly, butterfly_test_count, butterfly_train_path, butterfly_test_path)\n",
        "split(cat, cat_test_count, cat_train_path, cat_test_path)\n",
        "split(chicken, chicken_test_count, chicken_train_path, chicken_test_path)\n",
        "split(cow, cow_test_count, cow_train_path, cow_test_path)\n",
        "split(dog, dog_test_count, dog_train_path, dog_test_path)\n",
        "split(elephant, elephant_test_count, elephant_train_path, elephant_test_path)\n",
        "split(horse,horse_test_count, horse_train_path, horse_test_path)\n",
        "split(sheep, sheep_test_count, sheep_train_path, sheep_test_path)\n",
        "split(spider, spider_test_count,spider_train_path, spider_test_path)\n",
        "split(squirrel, squirrel_test_count, squirrel_train_path,squirrel_test_path)"
      ],
      "metadata": {
        "colab": {
          "base_uri": "https://localhost:8080/"
        },
        "id": "QP5HyhEjjV8M",
        "outputId": "0a9899b8-42f5-4a4c-e79f-3dbf78f40b63"
      },
      "execution_count": 9,
      "outputs": [
        {
          "output_type": "stream",
          "name": "stdout",
          "text": [
            "train 폴더 이미지 개수 : 1478\n",
            "test 폴더 이미지 개수 : 634\n",
            "train 폴더 이미지 개수 : 1168\n",
            "test 폴더 이미지 개수 : 500\n",
            "train 폴더 이미지 개수 : 2169\n",
            "test 폴더 이미지 개수 : 929\n",
            "train 폴더 이미지 개수 : 1306\n",
            "test 폴더 이미지 개수 : 560\n",
            "train 폴더 이미지 개수 : 3404\n",
            "test 폴더 이미지 개수 : 1459\n",
            "train 폴더 이미지 개수 : 1012\n",
            "test 폴더 이미지 개수 : 434\n",
            "train 폴더 이미지 개수 : 1836\n",
            "test 폴더 이미지 개수 : 787\n",
            "train 폴더 이미지 개수 : 1274\n",
            "test 폴더 이미지 개수 : 546\n",
            "train 폴더 이미지 개수 : 3375\n",
            "test 폴더 이미지 개수 : 1446\n",
            "train 폴더 이미지 개수 : 1303\n",
            "test 폴더 이미지 개수 : 559\n"
          ]
        }
      ]
    },
    {
      "cell_type": "markdown",
      "source": [
        "# 2. CNN 모델\n",
        "수업 코드에 '모델 성능에 대한 고민!!' 부분을 참고해서 **test 이미지 기준 최소 80% 이상**의 모델이 나올 수 있도록 학습을 진행해주세요.\n",
        "* 중간중간 헷갈리다면 이것저것 확인하는 코드를 거쳐보세요\n",
        "* 90% 이상의 모델이 이상적이긴 합니다\n",
        "* 궁금한 점이 있을 경우, 슬랙 질문 채널 활용을 적극 권장합니다."
      ],
      "metadata": {
        "id": "UKa7LZ4RAXxA"
      }
    },
    {
      "cell_type": "markdown",
      "source": [
        "전반적으로 수업 코드와 비슷하게 짜면 되는데, 생각해봐야 할 것은\n",
        "* 모든 이미지를 내가 정의하는 하나의 모델에 넣어야함\n",
        "* 그말은 input 데이터의 차원이 항상 동일해야 된다는 말\n",
        "* 그런데 과연 내가 가지고 있는 이미지들의 사이즈가 모두 같을까? - 대략 얼마정도 사이즈 가지고 있는지 코드로 확인해보면 더 좋음 (shape 확인)\n",
        "* 이미지 사이즈를 통일시키기 위해서는 어떻게 해야할까? - transforms의 Resize, RandomCrop 써볼까?\n",
        "* 동물 이미지에 적합한 Augmentation은 무엇이 있을까?"
      ],
      "metadata": {
        "id": "31hFiKNBD48l"
      }
    },
    {
      "cell_type": "code",
      "source": [
        "import torch\n",
        "import torchvision\n",
        "import torchvision.transforms as transforms\n",
        "import torch.nn as nn"
      ],
      "metadata": {
        "id": "ANeJ8xv7esWb"
      },
      "execution_count": 10,
      "outputs": []
    },
    {
      "cell_type": "code",
      "source": [
        "from google.colab import drive\n",
        "drive.mount('/content/drive')"
      ],
      "metadata": {
        "id": "Zxpne0NpyYPb"
      },
      "execution_count": null,
      "outputs": []
    },
    {
      "cell_type": "code",
      "source": [
        "import glob\n",
        "%cd /content/drive/MyDrive/RegularSession/[0823] CNN/"
      ],
      "metadata": {
        "id": "WKuluhN8ydIN"
      },
      "execution_count": null,
      "outputs": []
    },
    {
      "cell_type": "markdown",
      "source": [
        "## ResNet18\n",
        "참고 : https://github.com/ndb796/Deep-Learning-Paper-Review-and-Practice/blob/master/code_practices/ResNet18_CIFAR10_Train.ipynb "
      ],
      "metadata": {
        "id": "T5WcSbrkx0xo"
      }
    },
    {
      "cell_type": "code",
      "source": [
        "# train, test 이미지를 위한 transforms function 정의\n",
        "# 위에서 말한 포인트들 생각해보기 - 차원에 유의하자!\n",
        "\n",
        "# normalize는 ImageNet의 mean, std로\n",
        "\n",
        "transform_resnet_train = transforms.Compose([\n",
        "    #transforms.Resize(256),\n",
        "    #transforms.CenterCrop(224),\n",
        "    transforms.RandomCrop(32, padding=4),\n",
        "    transforms.RandomHorizontalFlip(),\n",
        "    transforms.ToTensor(),\n",
        "    transforms.Normalize((0.485, 0.456, 0.406), (0.229, 0.224, 0.225))\n",
        "])\n",
        "\n",
        "\n",
        "transform_resnet_test = transforms.Compose([\n",
        "    #transforms.Resize(256),\n",
        "    #transforms.CenterCrop(224),\n",
        "    transforms.CenterCrop(32),\n",
        "    transforms.ToTensor(),\n",
        "    transforms.Normalize((0.485, 0.456, 0.406), (0.229, 0.224, 0.225))\n",
        "])\n",
        "\n"
      ],
      "metadata": {
        "id": "9ClBOzD1ymm-"
      },
      "execution_count": null,
      "outputs": []
    },
    {
      "cell_type": "code",
      "source": [
        "# ImageFolder와 앞서 정의한 transforms function을 활용해 Dataset 객체 (train, test에 대해) 선언\n",
        "\n",
        "train_resnet_data = torchvision.datasets.ImageFolder(\n",
        "    root = './train', # 바로 train 폴더 지정\n",
        "    transform = transform_resnet_train\n",
        ")\n",
        "test_resnet_data = torchvision.datasets.ImageFolder(\n",
        "    root = './test',\n",
        "    transform = transform_resnet_test\n",
        ")"
      ],
      "metadata": {
        "id": "HEM-oObfzUYo"
      },
      "execution_count": null,
      "outputs": []
    },
    {
      "cell_type": "code",
      "source": [
        "import torch.backends.cudnn as cudnn\n",
        "import torch.optim as optim\n",
        "import os\n",
        "import torch.nn as nn\n",
        "\n",
        "class BasicBlock(nn.Module):\n",
        "    def __init__(self, in_planes, planes, stride=1):\n",
        "        super(BasicBlock, self).__init__()\n",
        "\n",
        "        # 3x3 필터를 사용 (너비와 높이를 줄일 때는 stride 값 조절)\n",
        "        self.conv1 = nn.Conv2d(in_planes, planes, kernel_size=3, stride=stride, padding=1, bias=False)\n",
        "        self.bn1 = nn.BatchNorm2d(planes) # 배치 정규화(batch normalization)\n",
        "\n",
        "        # 3x3 필터를 사용 (패딩을 1만큼 주기 때문에 너비와 높이가 동일)\n",
        "        self.conv2 = nn.Conv2d(planes, planes, kernel_size=3, stride=1, padding=1, bias=False)\n",
        "        self.bn2 = nn.BatchNorm2d(planes) # 배치 정규화(batch normalization)\n",
        "\n",
        "        self.shortcut = nn.Sequential() # identity인 경우\n",
        "        if stride != 1: # stride가 1이 아니라면, Identity mapping이 아닌 경우\n",
        "            self.shortcut = nn.Sequential(\n",
        "                nn.Conv2d(in_planes, planes, kernel_size=1, stride=stride, bias=False),\n",
        "                nn.BatchNorm2d(planes)\n",
        "            )\n",
        "\n",
        "    def forward(self, x):\n",
        "        out = F.relu(self.bn1(self.conv1(x)))\n",
        "        out = self.bn2(self.conv2(out))\n",
        "        out += self.shortcut(x) # (핵심) skip connection\n",
        "        out = F.relu(out)\n",
        "        return out\n",
        "\n",
        "# ResNet 클래스 정의\n",
        "class ResNet(nn.Module):\n",
        "    def __init__(self, block, num_blocks, num_classes=10):\n",
        "        super(ResNet, self).__init__()\n",
        "        self.in_planes = 64\n",
        "\n",
        "        # 64개의 3x3 필터(filter)를 사용\n",
        "        self.conv1 = nn.Conv2d(3, 64, kernel_size=3, stride=1, padding=1, bias=False)\n",
        "        self.bn1 = nn.BatchNorm2d(64)\n",
        "        self.layer1 = self._make_layer(block, 64, num_blocks[0], stride=1)\n",
        "        self.layer2 = self._make_layer(block, 128, num_blocks[1], stride=2)\n",
        "        self.layer3 = self._make_layer(block, 256, num_blocks[2], stride=2)\n",
        "        self.layer4 = self._make_layer(block, 512, num_blocks[3], stride=2)\n",
        "        self.linear = nn.Linear(512, num_classes)\n",
        "\n",
        "    def _make_layer(self, block, planes, num_blocks, stride):\n",
        "        strides = [stride] + [1] * (num_blocks - 1)\n",
        "        layers = []\n",
        "        for stride in strides:\n",
        "            layers.append(block(self.in_planes, planes, stride))\n",
        "            self.in_planes = planes # 다음 레이어를 위해 채널 수 변경\n",
        "        return nn.Sequential(*layers)\n",
        "\n",
        "    def forward(self, x):\n",
        "        out = F.relu(self.bn1(self.conv1(x)))\n",
        "        out = self.layer1(out)\n",
        "        out = self.layer2(out)\n",
        "        out = self.layer3(out)\n",
        "        out = self.layer4(out)\n",
        "        out = F.avg_pool2d(out, 4)\n",
        "        out = out.view(out.size(0), -1)\n",
        "        out = self.linear(out)\n",
        "        return out\n",
        "\n",
        "\n",
        "# ResNet18 함수 정의\n",
        "def ResNet18():\n",
        "    return ResNet(BasicBlock, [2, 2, 2, 2])"
      ],
      "metadata": {
        "id": "FGCzbBj1zd3T"
      },
      "execution_count": null,
      "outputs": []
    },
    {
      "cell_type": "code",
      "source": [
        "# Device 선언 (GPU 권장)\n",
        "# 아래 코드가 보통 device 할당하는 방식\n",
        "# colab일 경우, 무거운 모델을 돌린다면 런타임 -> 런타임 유형 변경 -> GPU 로 설정하고 돌리는걸 강추\n",
        "device = torch.device(\"cuda:0\" if torch.cuda.is_available() else \"cpu\")\n",
        "device"
      ],
      "metadata": {
        "colab": {
          "base_uri": "https://localhost:8080/"
        },
        "id": "lDpWZPyB02-P",
        "outputId": "65c6a177-f751-4942-af02-76052fae5077"
      },
      "execution_count": null,
      "outputs": [
        {
          "output_type": "execute_result",
          "data": {
            "text/plain": [
              "device(type='cuda', index=0)"
            ]
          },
          "metadata": {},
          "execution_count": 56
        }
      ]
    },
    {
      "cell_type": "code",
      "source": [
        "from torchsummary import summary\n",
        "test_model = ResNet18().to(device) # 모델 객체 선언\n",
        "summary(test_model, (3,32,32), batch_size=32) # Recall) Tensor는 C, H, W 순서로 이미지 가짐"
      ],
      "metadata": {
        "colab": {
          "base_uri": "https://localhost:8080/"
        },
        "id": "M8qOZJwH02UN",
        "outputId": "f79ef7bf-6b31-475f-ce75-dcebfe1e8735"
      },
      "execution_count": null,
      "outputs": [
        {
          "output_type": "stream",
          "name": "stdout",
          "text": [
            "----------------------------------------------------------------\n",
            "        Layer (type)               Output Shape         Param #\n",
            "================================================================\n",
            "            Conv2d-1           [32, 64, 32, 32]           1,728\n",
            "       BatchNorm2d-2           [32, 64, 32, 32]             128\n",
            "            Conv2d-3           [32, 64, 32, 32]          36,864\n",
            "       BatchNorm2d-4           [32, 64, 32, 32]             128\n",
            "            Conv2d-5           [32, 64, 32, 32]          36,864\n",
            "       BatchNorm2d-6           [32, 64, 32, 32]             128\n",
            "        BasicBlock-7           [32, 64, 32, 32]               0\n",
            "            Conv2d-8           [32, 64, 32, 32]          36,864\n",
            "       BatchNorm2d-9           [32, 64, 32, 32]             128\n",
            "           Conv2d-10           [32, 64, 32, 32]          36,864\n",
            "      BatchNorm2d-11           [32, 64, 32, 32]             128\n",
            "       BasicBlock-12           [32, 64, 32, 32]               0\n",
            "           Conv2d-13          [32, 128, 16, 16]          73,728\n",
            "      BatchNorm2d-14          [32, 128, 16, 16]             256\n",
            "           Conv2d-15          [32, 128, 16, 16]         147,456\n",
            "      BatchNorm2d-16          [32, 128, 16, 16]             256\n",
            "           Conv2d-17          [32, 128, 16, 16]           8,192\n",
            "      BatchNorm2d-18          [32, 128, 16, 16]             256\n",
            "       BasicBlock-19          [32, 128, 16, 16]               0\n",
            "           Conv2d-20          [32, 128, 16, 16]         147,456\n",
            "      BatchNorm2d-21          [32, 128, 16, 16]             256\n",
            "           Conv2d-22          [32, 128, 16, 16]         147,456\n",
            "      BatchNorm2d-23          [32, 128, 16, 16]             256\n",
            "       BasicBlock-24          [32, 128, 16, 16]               0\n",
            "           Conv2d-25            [32, 256, 8, 8]         294,912\n",
            "      BatchNorm2d-26            [32, 256, 8, 8]             512\n",
            "           Conv2d-27            [32, 256, 8, 8]         589,824\n",
            "      BatchNorm2d-28            [32, 256, 8, 8]             512\n",
            "           Conv2d-29            [32, 256, 8, 8]          32,768\n",
            "      BatchNorm2d-30            [32, 256, 8, 8]             512\n",
            "       BasicBlock-31            [32, 256, 8, 8]               0\n",
            "           Conv2d-32            [32, 256, 8, 8]         589,824\n",
            "      BatchNorm2d-33            [32, 256, 8, 8]             512\n",
            "           Conv2d-34            [32, 256, 8, 8]         589,824\n",
            "      BatchNorm2d-35            [32, 256, 8, 8]             512\n",
            "       BasicBlock-36            [32, 256, 8, 8]               0\n",
            "           Conv2d-37            [32, 512, 4, 4]       1,179,648\n",
            "      BatchNorm2d-38            [32, 512, 4, 4]           1,024\n",
            "           Conv2d-39            [32, 512, 4, 4]       2,359,296\n",
            "      BatchNorm2d-40            [32, 512, 4, 4]           1,024\n",
            "           Conv2d-41            [32, 512, 4, 4]         131,072\n",
            "      BatchNorm2d-42            [32, 512, 4, 4]           1,024\n",
            "       BasicBlock-43            [32, 512, 4, 4]               0\n",
            "           Conv2d-44            [32, 512, 4, 4]       2,359,296\n",
            "      BatchNorm2d-45            [32, 512, 4, 4]           1,024\n",
            "           Conv2d-46            [32, 512, 4, 4]       2,359,296\n",
            "      BatchNorm2d-47            [32, 512, 4, 4]           1,024\n",
            "       BasicBlock-48            [32, 512, 4, 4]               0\n",
            "           Linear-49                   [32, 10]           5,130\n",
            "================================================================\n",
            "Total params: 11,173,962\n",
            "Trainable params: 11,173,962\n",
            "Non-trainable params: 0\n",
            "----------------------------------------------------------------\n",
            "Input size (MB): 0.38\n",
            "Forward/backward pass size (MB): 360.00\n",
            "Params size (MB): 42.63\n",
            "Estimated Total Size (MB): 403.00\n",
            "----------------------------------------------------------------\n"
          ]
        }
      ]
    },
    {
      "cell_type": "code",
      "source": [
        "# 모델 객체 선언\n",
        "mymodel = ResNet18().to(device)"
      ],
      "metadata": {
        "id": "vYcGOoRPz1Ik"
      },
      "execution_count": null,
      "outputs": []
    },
    {
      "cell_type": "code",
      "source": [
        "# loss func, optimizer 정의\n",
        "criterion = nn.CrossEntropyLoss().to(device) # criterion (loss func)도 device 위에서\n",
        "optimizer = torch.optim.Adam(mymodel.parameters(), lr=0.001) # 보통 Adam의 learning rate로 0.001 사용"
      ],
      "metadata": {
        "id": "EmcJS8Ru0Di1"
      },
      "execution_count": null,
      "outputs": []
    },
    {
      "cell_type": "code",
      "source": [
        "# 추후 시각화를 위해 매 epoch마다 loss, accuracy 값을 저장할 리스트\n",
        "\n",
        "seq_train_loss = []\n",
        "seq_test_loss = []\n",
        "seq_train_acc = []\n",
        "seq_test_acc = []"
      ],
      "metadata": {
        "id": "hlKCKtG90Nzr"
      },
      "execution_count": null,
      "outputs": []
    },
    {
      "cell_type": "code",
      "source": [
        "# train 함수 정의\n",
        "def train(epoch):\n",
        "    print(f'\\n[ Train epoch: {epoch+1} ]')\n",
        "\n",
        "    mymodel.train() # train은 항상 이걸 지정하고 시작! - Dropout, Batch Normalization 등의 효과를 적용하고 진행하기 위함\n",
        "\n",
        "    running_loss = 0.0\n",
        "    batch_losses = []\n",
        "    total = 0\n",
        "    correct = 0\n",
        "\n",
        "    for batch_idx, (inputs, targets) in enumerate(trainloader_vgg16):\n",
        "        inputs, targets = inputs.to(device), targets.to(device) # dataloader의 input image와 label도 device에 넣어줘야됨\n",
        "        \n",
        "        # DL 학습 기본 코드\n",
        "        optimizer.zero_grad() # gradient 초기화\n",
        "        outputs = mymodel(inputs) # 현재 batch의 inputs을 모델에 넣어 outputs 추출 (확률값)\n",
        "        loss = criterion(outputs, targets) # 추출한 outputs와 원래 label인 targets 사이 loss 계산\n",
        "        loss.backward() # 계산한 loss 기반으로 gradient 값 계산\n",
        "        optimizer.step() # weight parameter update\n",
        "\n",
        "        ##여기서부터는 어떻게 돌아가고 있는지 확인하기 위해서 출력하는...\n",
        "\n",
        "        total += targets.size(0) # batch 데이터 개수 더하기\n",
        "        running_loss += loss.item()\n",
        "        batch_losses.append(loss.item())\n",
        "        \n",
        "        _, predicted = outputs.max(1) # 확률값 가장 높게 나타난 클래스\n",
        "        correct += (predicted == targets).sum().item() # 현재 batch 내에서 알맞게 분류한 이미지 개수 더하기\n",
        "        \n",
        "        if batch_idx % 250 == 249:\n",
        "            print(f'\\nCurrent batch: {str(batch_idx+1)}')\n",
        "            print(f'Average train loss of recent 250 batches: {running_loss / 250}') # 이렇게 출력하는 것이 꼭 필요한 것은 아니지만, 중간중간 확인을 위해 매우 권장\n",
        "            running_loss = 0.0\n",
        "\n",
        "    avg_loss = sum(batch_losses) / len(batch_losses)\n",
        "    seq_train_loss.append(avg_loss)\n",
        "    seq_train_acc.append(100*correct/total)\n",
        "    print('\\nTotal train accuarcy:', 100. * correct / total) # 전체 데이터 개수에서 맞게 예측한 비율\n",
        "    print('Total train loss:', avg_loss)"
      ],
      "metadata": {
        "id": "_rjUl_dw0OS7"
      },
      "execution_count": null,
      "outputs": []
    },
    {
      "cell_type": "code",
      "source": [
        "# test 함수 정의\n",
        "def test(epoch):\n",
        "    print(f'\\n[ Test epoch: {epoch+1} ]')\n",
        "\n",
        "    mymodel.eval() # eval은 항상 이걸 지정하고 시작! - Dropout, Batch Normalization 등의 효과를 적용하지 않기 위함!\n",
        "                   # ex. evaluation 할때는 Dropout 없이 지금까지 학습한 모든 node를 활용해서 진행해야됨\n",
        "\n",
        "    loss = 0\n",
        "    batch_losses = []\n",
        "    correct = 0\n",
        "    total = 0\n",
        "\n",
        "    with torch.no_grad(): # gradient update 안함 - eval과 torch.no_grad는 하나의 세트\n",
        "        for batch_idx, (inputs, targets) in enumerate(testloader_vgg16):\n",
        "            inputs, targets = inputs.to(device), targets.to(device)\n",
        "\n",
        "            outputs = mymodel(inputs)\n",
        "            loss = criterion(outputs, targets)\n",
        "            batch_losses.append(loss.item())\n",
        "\n",
        "            total += targets.size(0)\n",
        "            _, predicted = outputs.max(1)\n",
        "            correct += (predicted == targets).sum().item()\n",
        "\n",
        "    avg_loss = sum(batch_losses) / len(batch_losses)\n",
        "    seq_test_loss.append(avg_loss)\n",
        "    seq_test_acc.append(100 * correct / total)\n",
        "    print('\\nTest accuarcy:', 100. * correct / total)\n",
        "    print('Test average loss:', avg_loss)"
      ],
      "metadata": {
        "id": "_DwKUGUY0RfH"
      },
      "execution_count": null,
      "outputs": []
    },
    {
      "cell_type": "code",
      "source": [
        "# training\n",
        "# 실제로 훈련할때는 올바른 epoch 설정 필요\n",
        "num_epoch = 50\n",
        "\n",
        "for epoch in range(0, num_epoch):\n",
        "    train(epoch)\n",
        "    test(epoch)\n",
        "\n",
        "# model 저장! - parameter값 저장\n",
        "torch.save(mymodel.state_dict(), './mymodel_ResNet18.pt')\n",
        "print('Model Saved!')"
      ],
      "metadata": {
        "colab": {
          "base_uri": "https://localhost:8080/",
          "height": 1000
        },
        "id": "kN4SG3J_0XvE",
        "outputId": "40acd843-a730-4d64-d123-df959f8517fd"
      },
      "execution_count": null,
      "outputs": [
        {
          "output_type": "stream",
          "name": "stdout",
          "text": [
            "\n",
            "[ Train epoch: 1 ]\n",
            "\n",
            "Current batch: 250\n",
            "Average train loss of recent 250 batches: 2.0934354238510133\n",
            "\n",
            "Current batch: 500\n",
            "Average train loss of recent 250 batches: 1.8618154463768006\n",
            "\n",
            "Total train accuarcy: 31.394270122783084\n",
            "Total train loss: 1.948806986342758\n",
            "\n",
            "[ Test epoch: 1 ]\n",
            "\n",
            "Test accuarcy: 33.34606569900688\n",
            "Test average loss: 2.1605191407649498\n",
            "\n",
            "[ Train epoch: 2 ]\n",
            "\n",
            "Current batch: 250\n",
            "Average train loss of recent 250 batches: 1.628137345314026\n",
            "\n",
            "Current batch: 500\n",
            "Average train loss of recent 250 batches: 1.4808357465267181\n",
            "\n",
            "Total train accuarcy: 46.72851296043656\n",
            "Total train loss: 1.540556127176235\n",
            "\n",
            "[ Test epoch: 2 ]\n",
            "\n",
            "Test accuarcy: 47.50445632798574\n",
            "Test average loss: 1.5122881624999085\n",
            "\n",
            "[ Train epoch: 3 ]\n",
            "\n",
            "Current batch: 250\n",
            "Average train loss of recent 250 batches: 1.3404919717311858\n",
            "\n",
            "Current batch: 500\n",
            "Average train loss of recent 250 batches: 1.29495352268219\n",
            "\n",
            "Total train accuarcy: 55.00682128240109\n",
            "Total train loss: 1.3135670311163858\n",
            "\n",
            "[ Test epoch: 3 ]\n",
            "\n",
            "Test accuarcy: 58.30150241914948\n",
            "Test average loss: 1.2120467680014246\n",
            "\n",
            "[ Train epoch: 4 ]\n",
            "\n",
            "Current batch: 250\n",
            "Average train loss of recent 250 batches: 1.2076324787139892\n",
            "\n",
            "Current batch: 500\n",
            "Average train loss of recent 250 batches: 1.1635126841068268\n",
            "\n",
            "Total train accuarcy: 59.7162346521146\n",
            "Total train loss: 1.1787278683397782\n",
            "\n",
            "[ Test epoch: 4 ]\n",
            "\n",
            "Test accuarcy: 55.678635090399794\n",
            "Test average loss: 1.35618354122692\n",
            "\n",
            "[ Train epoch: 5 ]\n",
            "\n",
            "Current batch: 250\n",
            "Average train loss of recent 250 batches: 1.061518404483795\n",
            "\n",
            "Current batch: 500\n",
            "Average train loss of recent 250 batches: 1.0494194946289062\n",
            "\n",
            "Total train accuarcy: 64.41473396998636\n",
            "Total train loss: 1.04851935213565\n",
            "\n",
            "[ Test epoch: 5 ]\n",
            "\n",
            "Test accuarcy: 64.96052966641201\n",
            "Test average loss: 1.0289851649384187\n",
            "\n",
            "[ Train epoch: 6 ]\n",
            "\n",
            "Current batch: 250\n",
            "Average train loss of recent 250 batches: 0.9650332379341126\n",
            "\n",
            "Current batch: 500\n",
            "Average train loss of recent 250 batches: 0.9523107823133469\n",
            "\n",
            "Total train accuarcy: 67.13778990450204\n",
            "Total train loss: 0.9537093941557886\n",
            "\n",
            "[ Test epoch: 6 ]\n",
            "\n",
            "Test accuarcy: 61.67557932263814\n",
            "Test average loss: 1.1611586019275635\n",
            "\n",
            "[ Train epoch: 7 ]\n",
            "\n",
            "Current batch: 250\n",
            "Average train loss of recent 250 batches: 0.8688001941442489\n",
            "\n",
            "Current batch: 500\n",
            "Average train loss of recent 250 batches: 0.8427020050287247\n",
            "\n",
            "Total train accuarcy: 71.13778990450204\n",
            "Total train loss: 0.8550887166101478\n",
            "\n",
            "[ Test epoch: 7 ]\n",
            "\n",
            "Test accuarcy: 64.23478482302012\n",
            "Test average loss: 1.0861873287798427\n",
            "\n",
            "[ Train epoch: 8 ]\n",
            "\n",
            "Current batch: 250\n",
            "Average train loss of recent 250 batches: 0.737461846113205\n",
            "\n",
            "Current batch: 500\n",
            "Average train loss of recent 250 batches: 0.796440727353096\n",
            "\n",
            "Total train accuarcy: 73.70259208731241\n",
            "Total train loss: 0.7724826645892744\n",
            "\n",
            "[ Test epoch: 8 ]\n",
            "\n",
            "Test accuarcy: 70.35905271199388\n",
            "Test average loss: 0.898825240692472\n",
            "\n",
            "[ Train epoch: 9 ]\n",
            "\n",
            "Current batch: 250\n",
            "Average train loss of recent 250 batches: 0.660400428891182\n",
            "\n",
            "Current batch: 500\n",
            "Average train loss of recent 250 batches: 0.7057419891357422\n",
            "\n",
            "Total train accuarcy: 76.51841746248294\n",
            "Total train loss: 0.6892714792729256\n",
            "\n",
            "[ Test epoch: 9 ]\n",
            "\n",
            "Test accuarcy: 68.58925388337153\n",
            "Test average loss: 0.9947018489483895\n",
            "\n",
            "[ Train epoch: 10 ]\n",
            "\n",
            "Current batch: 250\n",
            "Average train loss of recent 250 batches: 0.574647763311863\n",
            "\n",
            "Current batch: 500\n",
            "Average train loss of recent 250 batches: 0.6202661089301109\n",
            "\n",
            "Total train accuarcy: 79.66166439290586\n",
            "Total train loss: 0.6021374291358402\n",
            "\n",
            "[ Test epoch: 10 ]\n",
            "\n",
            "Test accuarcy: 69.13674560733384\n",
            "Test average loss: 0.9553350852878113\n",
            "\n",
            "[ Train epoch: 11 ]\n",
            "\n",
            "Current batch: 250\n",
            "Average train loss of recent 250 batches: 0.4910805465579033\n",
            "\n",
            "Current batch: 500\n",
            "Average train loss of recent 250 batches: 0.5233010091185569\n",
            "\n",
            "Total train accuarcy: 82.537517053206\n",
            "Total train loss: 0.5157346712201053\n",
            "\n",
            "[ Test epoch: 11 ]\n",
            "\n",
            "Test accuarcy: 70.86834733893558\n",
            "Test average loss: 0.9241561222124876\n",
            "\n",
            "[ Train epoch: 12 ]\n",
            "\n",
            "Current batch: 250\n",
            "Average train loss of recent 250 batches: 0.4133041572570801\n",
            "\n",
            "Current batch: 500\n",
            "Average train loss of recent 250 batches: 0.45482965689897537\n",
            "\n",
            "Total train accuarcy: 85.21691678035471\n",
            "Total train loss: 0.43911950061354543\n",
            "\n",
            "[ Test epoch: 12 ]\n",
            "\n",
            "Test accuarcy: 70.40998217468805\n",
            "Test average loss: 1.011267121002926\n",
            "\n",
            "[ Train epoch: 13 ]\n",
            "\n",
            "Current batch: 250\n",
            "Average train loss of recent 250 batches: 0.3607726949900389\n",
            "\n",
            "Current batch: 500\n",
            "Average train loss of recent 250 batches: 0.3646930454969406\n",
            "\n",
            "Total train accuarcy: 87.63983628922237\n",
            "Total train loss: 0.36296157118251604\n",
            "\n",
            "[ Test epoch: 13 ]\n",
            "\n",
            "Test accuarcy: 72.99465240641712\n",
            "Test average loss: 0.9648072253761253\n",
            "\n",
            "[ Train epoch: 14 ]\n",
            "\n",
            "Current batch: 250\n",
            "Average train loss of recent 250 batches: 0.27066852246969936\n",
            "\n",
            "Current batch: 500\n",
            "Average train loss of recent 250 batches: 0.3103111318349838\n",
            "\n",
            "Total train accuarcy: 89.84993178717599\n",
            "Total train loss: 0.29476882731558246\n",
            "\n",
            "[ Test epoch: 14 ]\n",
            "\n",
            "Test accuarcy: 71.67048637636873\n",
            "Test average loss: 0.9939089408977245\n",
            "\n",
            "[ Train epoch: 15 ]\n",
            "\n",
            "Current batch: 250\n",
            "Average train loss of recent 250 batches: 0.22103069207072257\n",
            "\n",
            "Current batch: 500\n",
            "Average train loss of recent 250 batches: 0.2494837178736925\n",
            "\n",
            "Total train accuarcy: 91.82537517053206\n",
            "Total train loss: 0.23980285147331773\n",
            "\n",
            "[ Test epoch: 15 ]\n",
            "\n",
            "Test accuarcy: 70.6646294881589\n",
            "Test average loss: 1.269590122367793\n",
            "\n",
            "[ Train epoch: 16 ]\n"
          ]
        },
        {
          "output_type": "error",
          "ename": "KeyboardInterrupt",
          "evalue": "ignored",
          "traceback": [
            "\u001b[0;31m---------------------------------------------------------------------------\u001b[0m",
            "\u001b[0;31mKeyboardInterrupt\u001b[0m                         Traceback (most recent call last)",
            "\u001b[0;32m<ipython-input-62-5c23fe61055b>\u001b[0m in \u001b[0;36m<module>\u001b[0;34m\u001b[0m\n\u001b[1;32m      4\u001b[0m \u001b[0;34m\u001b[0m\u001b[0m\n\u001b[1;32m      5\u001b[0m \u001b[0;32mfor\u001b[0m \u001b[0mepoch\u001b[0m \u001b[0;32min\u001b[0m \u001b[0mrange\u001b[0m\u001b[0;34m(\u001b[0m\u001b[0;36m0\u001b[0m\u001b[0;34m,\u001b[0m \u001b[0mnum_epoch\u001b[0m\u001b[0;34m)\u001b[0m\u001b[0;34m:\u001b[0m\u001b[0;34m\u001b[0m\u001b[0;34m\u001b[0m\u001b[0m\n\u001b[0;32m----> 6\u001b[0;31m     \u001b[0mtrain\u001b[0m\u001b[0;34m(\u001b[0m\u001b[0mepoch\u001b[0m\u001b[0;34m)\u001b[0m\u001b[0;34m\u001b[0m\u001b[0;34m\u001b[0m\u001b[0m\n\u001b[0m\u001b[1;32m      7\u001b[0m     \u001b[0mtest\u001b[0m\u001b[0;34m(\u001b[0m\u001b[0mepoch\u001b[0m\u001b[0;34m)\u001b[0m\u001b[0;34m\u001b[0m\u001b[0;34m\u001b[0m\u001b[0m\n\u001b[1;32m      8\u001b[0m \u001b[0;34m\u001b[0m\u001b[0m\n",
            "\u001b[0;32m<ipython-input-60-a1a8f8021ba9>\u001b[0m in \u001b[0;36mtrain\u001b[0;34m(epoch)\u001b[0m\n\u001b[1;32m     10\u001b[0m     \u001b[0mcorrect\u001b[0m \u001b[0;34m=\u001b[0m \u001b[0;36m0\u001b[0m\u001b[0;34m\u001b[0m\u001b[0;34m\u001b[0m\u001b[0m\n\u001b[1;32m     11\u001b[0m \u001b[0;34m\u001b[0m\u001b[0m\n\u001b[0;32m---> 12\u001b[0;31m     \u001b[0;32mfor\u001b[0m \u001b[0mbatch_idx\u001b[0m\u001b[0;34m,\u001b[0m \u001b[0;34m(\u001b[0m\u001b[0minputs\u001b[0m\u001b[0;34m,\u001b[0m \u001b[0mtargets\u001b[0m\u001b[0;34m)\u001b[0m \u001b[0;32min\u001b[0m \u001b[0menumerate\u001b[0m\u001b[0;34m(\u001b[0m\u001b[0mtrainloader_vgg16\u001b[0m\u001b[0;34m)\u001b[0m\u001b[0;34m:\u001b[0m\u001b[0;34m\u001b[0m\u001b[0;34m\u001b[0m\u001b[0m\n\u001b[0m\u001b[1;32m     13\u001b[0m         \u001b[0minputs\u001b[0m\u001b[0;34m,\u001b[0m \u001b[0mtargets\u001b[0m \u001b[0;34m=\u001b[0m \u001b[0minputs\u001b[0m\u001b[0;34m.\u001b[0m\u001b[0mto\u001b[0m\u001b[0;34m(\u001b[0m\u001b[0mdevice\u001b[0m\u001b[0;34m)\u001b[0m\u001b[0;34m,\u001b[0m \u001b[0mtargets\u001b[0m\u001b[0;34m.\u001b[0m\u001b[0mto\u001b[0m\u001b[0;34m(\u001b[0m\u001b[0mdevice\u001b[0m\u001b[0;34m)\u001b[0m \u001b[0;31m# dataloader의 input image와 label도 device에 넣어줘야됨\u001b[0m\u001b[0;34m\u001b[0m\u001b[0;34m\u001b[0m\u001b[0m\n\u001b[1;32m     14\u001b[0m \u001b[0;34m\u001b[0m\u001b[0m\n",
            "\u001b[0;32m/usr/local/lib/python3.7/dist-packages/torch/utils/data/dataloader.py\u001b[0m in \u001b[0;36m__next__\u001b[0;34m(self)\u001b[0m\n\u001b[1;32m    679\u001b[0m                 \u001b[0;31m# TODO(https://github.com/pytorch/pytorch/issues/76750)\u001b[0m\u001b[0;34m\u001b[0m\u001b[0;34m\u001b[0m\u001b[0;34m\u001b[0m\u001b[0m\n\u001b[1;32m    680\u001b[0m                 \u001b[0mself\u001b[0m\u001b[0;34m.\u001b[0m\u001b[0m_reset\u001b[0m\u001b[0;34m(\u001b[0m\u001b[0;34m)\u001b[0m  \u001b[0;31m# type: ignore[call-arg]\u001b[0m\u001b[0;34m\u001b[0m\u001b[0;34m\u001b[0m\u001b[0m\n\u001b[0;32m--> 681\u001b[0;31m             \u001b[0mdata\u001b[0m \u001b[0;34m=\u001b[0m \u001b[0mself\u001b[0m\u001b[0;34m.\u001b[0m\u001b[0m_next_data\u001b[0m\u001b[0;34m(\u001b[0m\u001b[0;34m)\u001b[0m\u001b[0;34m\u001b[0m\u001b[0;34m\u001b[0m\u001b[0m\n\u001b[0m\u001b[1;32m    682\u001b[0m             \u001b[0mself\u001b[0m\u001b[0;34m.\u001b[0m\u001b[0m_num_yielded\u001b[0m \u001b[0;34m+=\u001b[0m \u001b[0;36m1\u001b[0m\u001b[0;34m\u001b[0m\u001b[0;34m\u001b[0m\u001b[0m\n\u001b[1;32m    683\u001b[0m             \u001b[0;32mif\u001b[0m \u001b[0mself\u001b[0m\u001b[0;34m.\u001b[0m\u001b[0m_dataset_kind\u001b[0m \u001b[0;34m==\u001b[0m \u001b[0m_DatasetKind\u001b[0m\u001b[0;34m.\u001b[0m\u001b[0mIterable\u001b[0m \u001b[0;32mand\u001b[0m\u001b[0;31m \u001b[0m\u001b[0;31m\\\u001b[0m\u001b[0;34m\u001b[0m\u001b[0;34m\u001b[0m\u001b[0m\n",
            "\u001b[0;32m/usr/local/lib/python3.7/dist-packages/torch/utils/data/dataloader.py\u001b[0m in \u001b[0;36m_next_data\u001b[0;34m(self)\u001b[0m\n\u001b[1;32m   1357\u001b[0m \u001b[0;34m\u001b[0m\u001b[0m\n\u001b[1;32m   1358\u001b[0m             \u001b[0;32massert\u001b[0m \u001b[0;32mnot\u001b[0m \u001b[0mself\u001b[0m\u001b[0;34m.\u001b[0m\u001b[0m_shutdown\u001b[0m \u001b[0;32mand\u001b[0m \u001b[0mself\u001b[0m\u001b[0;34m.\u001b[0m\u001b[0m_tasks_outstanding\u001b[0m \u001b[0;34m>\u001b[0m \u001b[0;36m0\u001b[0m\u001b[0;34m\u001b[0m\u001b[0;34m\u001b[0m\u001b[0m\n\u001b[0;32m-> 1359\u001b[0;31m             \u001b[0midx\u001b[0m\u001b[0;34m,\u001b[0m \u001b[0mdata\u001b[0m \u001b[0;34m=\u001b[0m \u001b[0mself\u001b[0m\u001b[0;34m.\u001b[0m\u001b[0m_get_data\u001b[0m\u001b[0;34m(\u001b[0m\u001b[0;34m)\u001b[0m\u001b[0;34m\u001b[0m\u001b[0;34m\u001b[0m\u001b[0m\n\u001b[0m\u001b[1;32m   1360\u001b[0m             \u001b[0mself\u001b[0m\u001b[0;34m.\u001b[0m\u001b[0m_tasks_outstanding\u001b[0m \u001b[0;34m-=\u001b[0m \u001b[0;36m1\u001b[0m\u001b[0;34m\u001b[0m\u001b[0;34m\u001b[0m\u001b[0m\n\u001b[1;32m   1361\u001b[0m             \u001b[0;32mif\u001b[0m \u001b[0mself\u001b[0m\u001b[0;34m.\u001b[0m\u001b[0m_dataset_kind\u001b[0m \u001b[0;34m==\u001b[0m \u001b[0m_DatasetKind\u001b[0m\u001b[0;34m.\u001b[0m\u001b[0mIterable\u001b[0m\u001b[0;34m:\u001b[0m\u001b[0;34m\u001b[0m\u001b[0;34m\u001b[0m\u001b[0m\n",
            "\u001b[0;32m/usr/local/lib/python3.7/dist-packages/torch/utils/data/dataloader.py\u001b[0m in \u001b[0;36m_get_data\u001b[0;34m(self)\u001b[0m\n\u001b[1;32m   1323\u001b[0m         \u001b[0;32melse\u001b[0m\u001b[0;34m:\u001b[0m\u001b[0;34m\u001b[0m\u001b[0;34m\u001b[0m\u001b[0m\n\u001b[1;32m   1324\u001b[0m             \u001b[0;32mwhile\u001b[0m \u001b[0;32mTrue\u001b[0m\u001b[0;34m:\u001b[0m\u001b[0;34m\u001b[0m\u001b[0;34m\u001b[0m\u001b[0m\n\u001b[0;32m-> 1325\u001b[0;31m                 \u001b[0msuccess\u001b[0m\u001b[0;34m,\u001b[0m \u001b[0mdata\u001b[0m \u001b[0;34m=\u001b[0m \u001b[0mself\u001b[0m\u001b[0;34m.\u001b[0m\u001b[0m_try_get_data\u001b[0m\u001b[0;34m(\u001b[0m\u001b[0;34m)\u001b[0m\u001b[0;34m\u001b[0m\u001b[0;34m\u001b[0m\u001b[0m\n\u001b[0m\u001b[1;32m   1326\u001b[0m                 \u001b[0;32mif\u001b[0m \u001b[0msuccess\u001b[0m\u001b[0;34m:\u001b[0m\u001b[0;34m\u001b[0m\u001b[0;34m\u001b[0m\u001b[0m\n\u001b[1;32m   1327\u001b[0m                     \u001b[0;32mreturn\u001b[0m \u001b[0mdata\u001b[0m\u001b[0;34m\u001b[0m\u001b[0;34m\u001b[0m\u001b[0m\n",
            "\u001b[0;32m/usr/local/lib/python3.7/dist-packages/torch/utils/data/dataloader.py\u001b[0m in \u001b[0;36m_try_get_data\u001b[0;34m(self, timeout)\u001b[0m\n\u001b[1;32m   1161\u001b[0m         \u001b[0;31m#   (bool: whether successfully get data, any: data if successful else None)\u001b[0m\u001b[0;34m\u001b[0m\u001b[0;34m\u001b[0m\u001b[0;34m\u001b[0m\u001b[0m\n\u001b[1;32m   1162\u001b[0m         \u001b[0;32mtry\u001b[0m\u001b[0;34m:\u001b[0m\u001b[0;34m\u001b[0m\u001b[0;34m\u001b[0m\u001b[0m\n\u001b[0;32m-> 1163\u001b[0;31m             \u001b[0mdata\u001b[0m \u001b[0;34m=\u001b[0m \u001b[0mself\u001b[0m\u001b[0;34m.\u001b[0m\u001b[0m_data_queue\u001b[0m\u001b[0;34m.\u001b[0m\u001b[0mget\u001b[0m\u001b[0;34m(\u001b[0m\u001b[0mtimeout\u001b[0m\u001b[0;34m=\u001b[0m\u001b[0mtimeout\u001b[0m\u001b[0;34m)\u001b[0m\u001b[0;34m\u001b[0m\u001b[0;34m\u001b[0m\u001b[0m\n\u001b[0m\u001b[1;32m   1164\u001b[0m             \u001b[0;32mreturn\u001b[0m \u001b[0;34m(\u001b[0m\u001b[0;32mTrue\u001b[0m\u001b[0;34m,\u001b[0m \u001b[0mdata\u001b[0m\u001b[0;34m)\u001b[0m\u001b[0;34m\u001b[0m\u001b[0;34m\u001b[0m\u001b[0m\n\u001b[1;32m   1165\u001b[0m         \u001b[0;32mexcept\u001b[0m \u001b[0mException\u001b[0m \u001b[0;32mas\u001b[0m \u001b[0me\u001b[0m\u001b[0;34m:\u001b[0m\u001b[0;34m\u001b[0m\u001b[0;34m\u001b[0m\u001b[0m\n",
            "\u001b[0;32m/usr/lib/python3.7/multiprocessing/queues.py\u001b[0m in \u001b[0;36mget\u001b[0;34m(self, block, timeout)\u001b[0m\n\u001b[1;32m    102\u001b[0m                 \u001b[0;32mif\u001b[0m \u001b[0mblock\u001b[0m\u001b[0;34m:\u001b[0m\u001b[0;34m\u001b[0m\u001b[0;34m\u001b[0m\u001b[0m\n\u001b[1;32m    103\u001b[0m                     \u001b[0mtimeout\u001b[0m \u001b[0;34m=\u001b[0m \u001b[0mdeadline\u001b[0m \u001b[0;34m-\u001b[0m \u001b[0mtime\u001b[0m\u001b[0;34m.\u001b[0m\u001b[0mmonotonic\u001b[0m\u001b[0;34m(\u001b[0m\u001b[0;34m)\u001b[0m\u001b[0;34m\u001b[0m\u001b[0;34m\u001b[0m\u001b[0m\n\u001b[0;32m--> 104\u001b[0;31m                     \u001b[0;32mif\u001b[0m \u001b[0;32mnot\u001b[0m \u001b[0mself\u001b[0m\u001b[0;34m.\u001b[0m\u001b[0m_poll\u001b[0m\u001b[0;34m(\u001b[0m\u001b[0mtimeout\u001b[0m\u001b[0;34m)\u001b[0m\u001b[0;34m:\u001b[0m\u001b[0;34m\u001b[0m\u001b[0;34m\u001b[0m\u001b[0m\n\u001b[0m\u001b[1;32m    105\u001b[0m                         \u001b[0;32mraise\u001b[0m \u001b[0mEmpty\u001b[0m\u001b[0;34m\u001b[0m\u001b[0;34m\u001b[0m\u001b[0m\n\u001b[1;32m    106\u001b[0m                 \u001b[0;32melif\u001b[0m \u001b[0;32mnot\u001b[0m \u001b[0mself\u001b[0m\u001b[0;34m.\u001b[0m\u001b[0m_poll\u001b[0m\u001b[0;34m(\u001b[0m\u001b[0;34m)\u001b[0m\u001b[0;34m:\u001b[0m\u001b[0;34m\u001b[0m\u001b[0;34m\u001b[0m\u001b[0m\n",
            "\u001b[0;32m/usr/lib/python3.7/multiprocessing/connection.py\u001b[0m in \u001b[0;36mpoll\u001b[0;34m(self, timeout)\u001b[0m\n\u001b[1;32m    255\u001b[0m         \u001b[0mself\u001b[0m\u001b[0;34m.\u001b[0m\u001b[0m_check_closed\u001b[0m\u001b[0;34m(\u001b[0m\u001b[0;34m)\u001b[0m\u001b[0;34m\u001b[0m\u001b[0;34m\u001b[0m\u001b[0m\n\u001b[1;32m    256\u001b[0m         \u001b[0mself\u001b[0m\u001b[0;34m.\u001b[0m\u001b[0m_check_readable\u001b[0m\u001b[0;34m(\u001b[0m\u001b[0;34m)\u001b[0m\u001b[0;34m\u001b[0m\u001b[0;34m\u001b[0m\u001b[0m\n\u001b[0;32m--> 257\u001b[0;31m         \u001b[0;32mreturn\u001b[0m \u001b[0mself\u001b[0m\u001b[0;34m.\u001b[0m\u001b[0m_poll\u001b[0m\u001b[0;34m(\u001b[0m\u001b[0mtimeout\u001b[0m\u001b[0;34m)\u001b[0m\u001b[0;34m\u001b[0m\u001b[0;34m\u001b[0m\u001b[0m\n\u001b[0m\u001b[1;32m    258\u001b[0m \u001b[0;34m\u001b[0m\u001b[0m\n\u001b[1;32m    259\u001b[0m     \u001b[0;32mdef\u001b[0m \u001b[0m__enter__\u001b[0m\u001b[0;34m(\u001b[0m\u001b[0mself\u001b[0m\u001b[0;34m)\u001b[0m\u001b[0;34m:\u001b[0m\u001b[0;34m\u001b[0m\u001b[0;34m\u001b[0m\u001b[0m\n",
            "\u001b[0;32m/usr/lib/python3.7/multiprocessing/connection.py\u001b[0m in \u001b[0;36m_poll\u001b[0;34m(self, timeout)\u001b[0m\n\u001b[1;32m    412\u001b[0m \u001b[0;34m\u001b[0m\u001b[0m\n\u001b[1;32m    413\u001b[0m     \u001b[0;32mdef\u001b[0m \u001b[0m_poll\u001b[0m\u001b[0;34m(\u001b[0m\u001b[0mself\u001b[0m\u001b[0;34m,\u001b[0m \u001b[0mtimeout\u001b[0m\u001b[0;34m)\u001b[0m\u001b[0;34m:\u001b[0m\u001b[0;34m\u001b[0m\u001b[0;34m\u001b[0m\u001b[0m\n\u001b[0;32m--> 414\u001b[0;31m         \u001b[0mr\u001b[0m \u001b[0;34m=\u001b[0m \u001b[0mwait\u001b[0m\u001b[0;34m(\u001b[0m\u001b[0;34m[\u001b[0m\u001b[0mself\u001b[0m\u001b[0;34m]\u001b[0m\u001b[0;34m,\u001b[0m \u001b[0mtimeout\u001b[0m\u001b[0;34m)\u001b[0m\u001b[0;34m\u001b[0m\u001b[0;34m\u001b[0m\u001b[0m\n\u001b[0m\u001b[1;32m    415\u001b[0m         \u001b[0;32mreturn\u001b[0m \u001b[0mbool\u001b[0m\u001b[0;34m(\u001b[0m\u001b[0mr\u001b[0m\u001b[0;34m)\u001b[0m\u001b[0;34m\u001b[0m\u001b[0;34m\u001b[0m\u001b[0m\n\u001b[1;32m    416\u001b[0m \u001b[0;34m\u001b[0m\u001b[0m\n",
            "\u001b[0;32m/usr/lib/python3.7/multiprocessing/connection.py\u001b[0m in \u001b[0;36mwait\u001b[0;34m(object_list, timeout)\u001b[0m\n\u001b[1;32m    919\u001b[0m \u001b[0;34m\u001b[0m\u001b[0m\n\u001b[1;32m    920\u001b[0m             \u001b[0;32mwhile\u001b[0m \u001b[0;32mTrue\u001b[0m\u001b[0;34m:\u001b[0m\u001b[0;34m\u001b[0m\u001b[0;34m\u001b[0m\u001b[0m\n\u001b[0;32m--> 921\u001b[0;31m                 \u001b[0mready\u001b[0m \u001b[0;34m=\u001b[0m \u001b[0mselector\u001b[0m\u001b[0;34m.\u001b[0m\u001b[0mselect\u001b[0m\u001b[0;34m(\u001b[0m\u001b[0mtimeout\u001b[0m\u001b[0;34m)\u001b[0m\u001b[0;34m\u001b[0m\u001b[0;34m\u001b[0m\u001b[0m\n\u001b[0m\u001b[1;32m    922\u001b[0m                 \u001b[0;32mif\u001b[0m \u001b[0mready\u001b[0m\u001b[0;34m:\u001b[0m\u001b[0;34m\u001b[0m\u001b[0;34m\u001b[0m\u001b[0m\n\u001b[1;32m    923\u001b[0m                     \u001b[0;32mreturn\u001b[0m \u001b[0;34m[\u001b[0m\u001b[0mkey\u001b[0m\u001b[0;34m.\u001b[0m\u001b[0mfileobj\u001b[0m \u001b[0;32mfor\u001b[0m \u001b[0;34m(\u001b[0m\u001b[0mkey\u001b[0m\u001b[0;34m,\u001b[0m \u001b[0mevents\u001b[0m\u001b[0;34m)\u001b[0m \u001b[0;32min\u001b[0m \u001b[0mready\u001b[0m\u001b[0;34m]\u001b[0m\u001b[0;34m\u001b[0m\u001b[0;34m\u001b[0m\u001b[0m\n",
            "\u001b[0;32m/usr/lib/python3.7/selectors.py\u001b[0m in \u001b[0;36mselect\u001b[0;34m(self, timeout)\u001b[0m\n\u001b[1;32m    413\u001b[0m         \u001b[0mready\u001b[0m \u001b[0;34m=\u001b[0m \u001b[0;34m[\u001b[0m\u001b[0;34m]\u001b[0m\u001b[0;34m\u001b[0m\u001b[0;34m\u001b[0m\u001b[0m\n\u001b[1;32m    414\u001b[0m         \u001b[0;32mtry\u001b[0m\u001b[0;34m:\u001b[0m\u001b[0;34m\u001b[0m\u001b[0;34m\u001b[0m\u001b[0m\n\u001b[0;32m--> 415\u001b[0;31m             \u001b[0mfd_event_list\u001b[0m \u001b[0;34m=\u001b[0m \u001b[0mself\u001b[0m\u001b[0;34m.\u001b[0m\u001b[0m_selector\u001b[0m\u001b[0;34m.\u001b[0m\u001b[0mpoll\u001b[0m\u001b[0;34m(\u001b[0m\u001b[0mtimeout\u001b[0m\u001b[0;34m)\u001b[0m\u001b[0;34m\u001b[0m\u001b[0;34m\u001b[0m\u001b[0m\n\u001b[0m\u001b[1;32m    416\u001b[0m         \u001b[0;32mexcept\u001b[0m \u001b[0mInterruptedError\u001b[0m\u001b[0;34m:\u001b[0m\u001b[0;34m\u001b[0m\u001b[0;34m\u001b[0m\u001b[0m\n\u001b[1;32m    417\u001b[0m             \u001b[0;32mreturn\u001b[0m \u001b[0mready\u001b[0m\u001b[0;34m\u001b[0m\u001b[0;34m\u001b[0m\u001b[0m\n",
            "\u001b[0;31mKeyboardInterrupt\u001b[0m: "
          ]
        }
      ]
    },
    {
      "cell_type": "code",
      "source": [
        "import matplotlib.pyplot as plt\n",
        "\n",
        "# loss, accuracy 추이 확인 with plt.plot\n",
        "plt.plot(range(15), seq_train_loss, label=\"Train loss\")\n",
        "plt.plot(range(15), seq_test_loss, label=\"Test loss\")\n",
        "plt.legend()\n",
        "plt.xlabel('Epoch')\n",
        "plt.ylabel('Loss')\n",
        "plt.show()"
      ],
      "metadata": {
        "colab": {
          "base_uri": "https://localhost:8080/",
          "height": 283
        },
        "id": "aAPucwto0bnt",
        "outputId": "55ab7a8a-bee4-4eea-e908-4789d28a23cc"
      },
      "execution_count": null,
      "outputs": [
        {
          "output_type": "display_data",
          "data": {
            "text/plain": [
              "<Figure size 432x288 with 1 Axes>"
            ],
            "image/png": "[encoded data removed]"
          },
          "metadata": {
            "needs_background": "light"
          }
        }
      ]
    },
    {
      "cell_type": "code",
      "source": [
        "import matplotlib.pyplot as plt\n",
        "\n",
        "# loss, accuracy 추이 확인 with plt.plot\n",
        "plt.plot(range(15), seq_train_acc, label=\"Train Accuracy\")\n",
        "plt.plot(range(15), seq_test_acc, label=\"Test Accuracy\")\n",
        "plt.legend()\n",
        "plt.xlabel('Epoch')\n",
        "plt.ylabel('Accuracy')\n",
        "plt.show()"
      ],
      "metadata": {
        "colab": {
          "base_uri": "https://localhost:8080/",
          "height": 279
        },
        "id": "JVWIEVDMJyTN",
        "outputId": "30701b04-ef10-4c55-c5b7-f908eaddebe6"
      },
      "execution_count": null,
      "outputs": [
        {
          "output_type": "display_data",
          "data": {
            "text/plain": [
              "<Figure size 432x288 with 1 Axes>"
            ],
            "image/png": "[encoded data removed]"
          },
          "metadata": {
            "needs_background": "light"
          }
        }
      ]
    },
    {
      "cell_type": "code",
      "source": [
        "import torch\n",
        "import torchvision\n",
        "import torchvision.transforms as transforms"
      ],
      "metadata": {
        "id": "EgCVb8r1PzCh"
      },
      "execution_count": null,
      "outputs": []
    },
    {
      "cell_type": "code",
      "source": [
        "# train, test 이미지를 위한 transforms function 정의\n",
        "# 위에서 말한 포인트들 생각해보기 - 차원에 유의하자!\n",
        "\n",
        "# normalize는 ImageNet의 mean, std로\n",
        "# 일단 vgg16을 써보자...\n",
        "# 알고보니 이걸 resnet에 썼는데 차원은 같아서 상관없음!!\n",
        "\n",
        "\n",
        "transform_vgg16_train = transforms.Compose([\n",
        "    #transforms.Resize(256),\n",
        "    #transforms.CenterCrop(224),\n",
        "    #transforms.RandomCrop(32, padding=4),\n",
        "    transforms.Resize((32,32)),\n",
        "    transforms.RandomHorizontalFlip(),\n",
        "    transforms.ToTensor(),\n",
        "    transforms.Normalize((0.485, 0.456, 0.406), (0.229, 0.224, 0.225))\n",
        "])\n",
        "\n",
        "\n",
        "transform_vgg16_test = transforms.Compose([\n",
        "    #transforms.Resize(256),\n",
        "    #transforms.CenterCrop(32),\n",
        "    transforms.Resize((32,32)),\n",
        "    transforms.ToTensor(),\n",
        "    transforms.Normalize((0.485, 0.456, 0.406), (0.229, 0.224, 0.225))\n",
        "])\n",
        "\n",
        "# ImageFolder와 앞서 정의한 transforms function을 활용해 Dataset 객체 (train, test에 대해) 선언\n",
        "\n",
        "train_vgg16_data = torchvision.datasets.ImageFolder(\n",
        "    root = './train', # 바로 train 폴더 지정\n",
        "    transform = transform_vgg16_train\n",
        ")\n",
        "test_vgg16_data = torchvision.datasets.ImageFolder(\n",
        "    root = './test',\n",
        "    transform = transform_vgg16_test\n",
        ")\n",
        "\n",
        "# train, test에 대해 DataLoader 정의\n",
        "trainloader_vgg16 = torch.utils.data.DataLoader(\n",
        "    train_vgg16_data,\n",
        "    batch_size = 32,      # 일반적으로 batch size = 16, 32\n",
        "    shuffle=True,         # train dataloader는 epoch마다 데이터 다시 섞어서 batch 만들고 학습! - 학습 효율 up\n",
        "    num_workers=2\n",
        ")\n",
        "\n",
        "testloader_vgg16 = torch.utils.data.DataLoader(\n",
        "    test_vgg16_data,\n",
        "    batch_size = 32,      # 일반적으로 batch size = 16, 32\n",
        "    shuffle=False,        # test dataloader는 데이터 매번 섞을 이유가 없음 - 어차피 확인 용도\n",
        "    num_workers=2\n",
        ")"
      ],
      "metadata": {
        "id": "-K8MGj49fkso"
      },
      "execution_count": null,
      "outputs": []
    },
    {
      "cell_type": "markdown",
      "source": [
        "## 최종) VGGNet custom model"
      ],
      "metadata": {
        "id": "rnZTMPyKZIcd"
      }
    },
    {
      "cell_type": "code",
      "source": [
        "# train, test 이미지를 위한 transforms function 정의\n",
        "# 위에서 말한 포인트들 생각해보기 - 차원에 유의하자!\n",
        "\n",
        "# normalize는 ImageNet의 mean, std로\n",
        "# CNN 세션 자료에 있는 VGGNET을 실제로 구현해보기!!!\n",
        "\n",
        "\n",
        "transform_custom_train = transforms.Compose([\n",
        "    transforms.Resize(256),\n",
        "    transforms.CenterCrop(224),\n",
        "    transforms.RandomHorizontalFlip(),\n",
        "    transforms.ToTensor(),\n",
        "    transforms.Normalize((0.485, 0.456, 0.406), (0.229, 0.224, 0.225))\n",
        "])\n",
        "\n",
        "\n",
        "transform_custom_test = transforms.Compose([\n",
        "    transforms.Resize(256),\n",
        "    transforms.CenterCrop(224),\n",
        "    transforms.ToTensor(),\n",
        "    transforms.Normalize((0.485, 0.456, 0.406), (0.229, 0.224, 0.225))\n",
        "])\n",
        "\n",
        "# ImageFolder와 앞서 정의한 transforms function을 활용해 Dataset 객체 (train, test에 대해) 선언\n",
        "\n",
        "train_custom_data = torchvision.datasets.ImageFolder(\n",
        "    root = './train', # 바로 train 폴더 지정\n",
        "    transform = transform_custom_train\n",
        ")\n",
        "test_custom_data = torchvision.datasets.ImageFolder(\n",
        "    root = './test',\n",
        "    transform = transform_custom_test\n",
        ")\n",
        "\n",
        "# train, test에 대해 DataLoader 정의\n",
        "trainloader_custom = torch.utils.data.DataLoader(\n",
        "    train_custom_data,\n",
        "    batch_size = 32,      # 일반적으로 batch size = 16, 32\n",
        "    shuffle=True,         # train dataloader는 epoch마다 데이터 다시 섞어서 batch 만들고 학습! - 학습 효율 up\n",
        "    num_workers=2\n",
        ")\n",
        "\n",
        "testloader_custom = torch.utils.data.DataLoader(\n",
        "    test_custom_data,\n",
        "    batch_size = 32,      # 일반적으로 batch size = 16, 32\n",
        "    shuffle=False,        # test dataloader는 데이터 매번 섞을 이유가 없음 - 어차피 확인 용도\n",
        "    num_workers=2\n",
        ")"
      ],
      "metadata": {
        "id": "jeYCXGaULvH2"
      },
      "execution_count": 11,
      "outputs": []
    },
    {
      "cell_type": "code",
      "source": [
        "### Model 클래스 정의 - 차원에 유의하자!\n",
        "# 10개의 클래스를 분류해야 하는 꽤나 복잡한 task - 모델 구조를 어느 정도로 복잡하게 짜볼까?\n",
        "# 가장 마지막 Linear의 out_features는 얼마로 해야할까?\n",
        "\n",
        "class VGGcustom(nn.Module):\n",
        "    def __init__(self):\n",
        "        super(VGGcustom, self).__init__()\n",
        "        self.conv = nn.Sequential(\n",
        "            #3 224 224\n",
        "            nn.Conv2d(3, 64, 3, padding=1),nn.LeakyReLU(0.2),\n",
        "            nn.Conv2d(64, 64, 3, padding=1),nn.LeakyReLU(0.2),\n",
        "            nn.BatchNorm2d(64),\n",
        "            nn.MaxPool2d(2, 2),\n",
        "            #64 112 112\n",
        "            nn.Conv2d(64, 128, 3, padding=1),nn.LeakyReLU(0.2),\n",
        "            nn.Conv2d(128, 128, 3, padding=1),nn.LeakyReLU(0.2),\n",
        "            nn.BatchNorm2d(128),\n",
        "            nn.MaxPool2d(2, 2),\n",
        "            #128 56 56\n",
        "            nn.Conv2d(128, 256, 3, padding=1),nn.LeakyReLU(0.2),\n",
        "            nn.Conv2d(256, 256, 3, padding=1),nn.LeakyReLU(0.2),\n",
        "            nn.Conv2d(256, 256, 3, padding=1),nn.LeakyReLU(0.2),\n",
        "            nn.BatchNorm2d(256),\n",
        "            nn.MaxPool2d(2, 2),\n",
        "            \n",
        "            #256 28 28\n",
        "            nn.Conv2d(256, 512, 3, padding=1),nn.LeakyReLU(0.2),\n",
        "            nn.Conv2d(512, 512, 3, padding=1),nn.LeakyReLU(0.2),\n",
        "            nn.Conv2d(512, 512, 3, padding=1),nn.LeakyReLU(0.2),\n",
        "            nn.BatchNorm2d(512),\n",
        "            nn.MaxPool2d(2, 2),\n",
        "            #512 14 14\n",
        "            nn.Conv2d(512, 512, 3, padding=1),nn.LeakyReLU(0.2),\n",
        "            nn.Conv2d(512, 512, 3, padding=1),nn.LeakyReLU(0.2),\n",
        "            nn.Conv2d(512, 512, 3, padding=1),nn.LeakyReLU(0.2),\n",
        "            nn.BatchNorm2d(512),\n",
        "            nn.MaxPool2d(2, 2)\n",
        "        )\n",
        "        #512 7 7\n",
        "\n",
        "        self.avg_pool = nn.AdaptiveAvgPool2d((1,1))\n",
        "        #512 1 1\n",
        "        \n",
        "        self.fc1 = nn.Linear(512*1*1,100)\n",
        "        self.fc2 = nn.Linear(100,10)\n",
        "        \n",
        "\n",
        "    def forward(self, x):\n",
        "        #print(x.size())\n",
        "        features = self.conv(x)\n",
        "        #print(features.size())\n",
        "        x = self.avg_pool(features)\n",
        "        #print(avg_pool.size())\n",
        "        x = x.view(features.size(0), -1)\n",
        "        #print(flatten.size())\n",
        "        x = self.fc1(x)\n",
        "        x = self.fc2(x)\n",
        "\n",
        "        #x = self.softmax(x)\n",
        "        return x"
      ],
      "metadata": {
        "id": "eAPwgJ06ZEQ1"
      },
      "execution_count": 12,
      "outputs": []
    },
    {
      "cell_type": "code",
      "source": [
        "# Device 선언 (GPU 권장)\n",
        "# 아래 코드가 보통 device 할당하는 방식\n",
        "# colab일 경우, 무거운 모델을 돌린다면 런타임 -> 런타임 유형 변경 -> GPU 로 설정하고 돌리는걸 강추\n",
        "device = torch.device(\"cuda:0\" if torch.cuda.is_available() else \"cpu\")\n",
        "device"
      ],
      "metadata": {
        "colab": {
          "base_uri": "https://localhost:8080/"
        },
        "id": "mBgZd7_797T9",
        "outputId": "cc4fc46c-8290-4a46-fa6b-77274d374178"
      },
      "execution_count": 13,
      "outputs": [
        {
          "output_type": "execute_result",
          "data": {
            "text/plain": [
              "device(type='cuda', index=0)"
            ]
          },
          "metadata": {},
          "execution_count": 13
        }
      ]
    },
    {
      "cell_type": "code",
      "source": [
        "!pip install torchsummary\n",
        "from torchsummary import summary\n",
        "test_model = VGGcustom().to(device) # 모델 객체 선언\n",
        "summary(test_model, (3,224,224), batch_size=32) # Recall) Tensor는 C, H, W 순서로 이미지 가짐"
      ],
      "metadata": {
        "colab": {
          "base_uri": "https://localhost:8080/"
        },
        "id": "uHV-_udiZSaj",
        "outputId": "3a7067ce-0bb6-498e-b5f8-9040608f4451"
      },
      "execution_count": 14,
      "outputs": [
        {
          "output_type": "stream",
          "name": "stdout",
          "text": [
            "Looking in indexes: https://pypi.org/simple, https://us-python.pkg.dev/colab-wheels/public/simple/\n",
            "Requirement already satisfied: torchsummary in /usr/local/lib/python3.7/dist-packages (1.5.1)\n",
            "----------------------------------------------------------------\n",
            "        Layer (type)               Output Shape         Param #\n",
            "================================================================\n",
            "            Conv2d-1         [32, 64, 224, 224]           1,792\n",
            "         LeakyReLU-2         [32, 64, 224, 224]               0\n",
            "            Conv2d-3         [32, 64, 224, 224]          36,928\n",
            "         LeakyReLU-4         [32, 64, 224, 224]               0\n",
            "       BatchNorm2d-5         [32, 64, 224, 224]             128\n",
            "         MaxPool2d-6         [32, 64, 112, 112]               0\n",
            "            Conv2d-7        [32, 128, 112, 112]          73,856\n",
            "         LeakyReLU-8        [32, 128, 112, 112]               0\n",
            "            Conv2d-9        [32, 128, 112, 112]         147,584\n",
            "        LeakyReLU-10        [32, 128, 112, 112]               0\n",
            "      BatchNorm2d-11        [32, 128, 112, 112]             256\n",
            "        MaxPool2d-12          [32, 128, 56, 56]               0\n",
            "           Conv2d-13          [32, 256, 56, 56]         295,168\n",
            "        LeakyReLU-14          [32, 256, 56, 56]               0\n",
            "           Conv2d-15          [32, 256, 56, 56]         590,080\n",
            "        LeakyReLU-16          [32, 256, 56, 56]               0\n",
            "           Conv2d-17          [32, 256, 56, 56]         590,080\n",
            "        LeakyReLU-18          [32, 256, 56, 56]               0\n",
            "      BatchNorm2d-19          [32, 256, 56, 56]             512\n",
            "        MaxPool2d-20          [32, 256, 28, 28]               0\n",
            "           Conv2d-21          [32, 512, 28, 28]       1,180,160\n",
            "        LeakyReLU-22          [32, 512, 28, 28]               0\n",
            "           Conv2d-23          [32, 512, 28, 28]       2,359,808\n",
            "        LeakyReLU-24          [32, 512, 28, 28]               0\n",
            "           Conv2d-25          [32, 512, 28, 28]       2,359,808\n",
            "        LeakyReLU-26          [32, 512, 28, 28]               0\n",
            "      BatchNorm2d-27          [32, 512, 28, 28]           1,024\n",
            "        MaxPool2d-28          [32, 512, 14, 14]               0\n",
            "           Conv2d-29          [32, 512, 14, 14]       2,359,808\n",
            "        LeakyReLU-30          [32, 512, 14, 14]               0\n",
            "           Conv2d-31          [32, 512, 14, 14]       2,359,808\n",
            "        LeakyReLU-32          [32, 512, 14, 14]               0\n",
            "           Conv2d-33          [32, 512, 14, 14]       2,359,808\n",
            "        LeakyReLU-34          [32, 512, 14, 14]               0\n",
            "      BatchNorm2d-35          [32, 512, 14, 14]           1,024\n",
            "        MaxPool2d-36            [32, 512, 7, 7]               0\n",
            "AdaptiveAvgPool2d-37            [32, 512, 1, 1]               0\n",
            "           Linear-38                  [32, 100]          51,300\n",
            "           Linear-39                   [32, 10]           1,010\n",
            "================================================================\n",
            "Total params: 14,769,942\n",
            "Trainable params: 14,769,942\n",
            "Non-trainable params: 0\n",
            "----------------------------------------------------------------\n",
            "Input size (MB): 18.38\n",
            "Forward/backward pass size (MB): 8483.28\n",
            "Params size (MB): 56.34\n",
            "Estimated Total Size (MB): 8557.99\n",
            "----------------------------------------------------------------\n"
          ]
        }
      ]
    },
    {
      "cell_type": "code",
      "source": [
        "# 모델 객체 선언\n",
        "mymodel = VGGcustom().to(device)"
      ],
      "metadata": {
        "id": "GffsaAzYZdCt"
      },
      "execution_count": 15,
      "outputs": []
    },
    {
      "cell_type": "code",
      "source": [
        "# loss func, optimizer 정의\n",
        "criterion = nn.CrossEntropyLoss().to(device) # criterion (loss func)도 device 위에서\n",
        "optimizer = torch.optim.Adam(mymodel.parameters(), lr=0.001) # 보통 Adam의 learning rate로 0.001 사용\n",
        "                                                                                  # weight_decay = L2 Regularization의 lambda값 (가중치 제한 정도)\n",
        "                                                                                  # weight_decay 나중에 추가해도 괜찮음. 오버피팅 발생하고 나서 추가"
      ],
      "metadata": {
        "id": "Xi6ntOGWZgOt"
      },
      "execution_count": 16,
      "outputs": []
    },
    {
      "cell_type": "code",
      "source": [
        "# 추후 시각화를 위해 매 epoch마다 loss, accuracy 값을 저장할 리스트\n",
        "\n",
        "seq_train_loss = []\n",
        "seq_test_loss = []\n",
        "seq_train_acc = []\n",
        "seq_test_acc = []"
      ],
      "metadata": {
        "id": "lcR8jl8DZohg"
      },
      "execution_count": 17,
      "outputs": []
    },
    {
      "cell_type": "code",
      "source": [
        "# train 함수 정의\n",
        "def train(epoch):\n",
        "    print(f'\\n[ Train epoch: {epoch+1} ]')\n",
        "\n",
        "    mymodel.train() # train은 항상 이걸 지정하고 시작! - Dropout, Batch Normalization 등의 효과를 적용하고 진행하기 위함\n",
        "\n",
        "    running_loss = 0.0\n",
        "    batch_losses = []\n",
        "    total = 0\n",
        "    correct = 0\n",
        "\n",
        "    for batch_idx, (inputs, targets) in enumerate(trainloader_custom):\n",
        "        inputs, targets = inputs.to(device), targets.to(device) # dataloader의 input image와 label도 device에 넣어줘야됨\n",
        "        \n",
        "        # DL 학습 기본 코드\n",
        "        optimizer.zero_grad() # gradient 초기화\n",
        "        outputs = mymodel(inputs) # 현재 batch의 inputs을 모델에 넣어 outputs 추출 (확률값)\n",
        "        loss = criterion(outputs, targets) # 추출한 outputs와 원래 label인 targets 사이 loss 계산\n",
        "        loss.backward() # 계산한 loss 기반으로 gradient 값 계산\n",
        "        optimizer.step() # weight parameter update\n",
        "\n",
        "        ##여기서부터는 어떻게 돌아가고 있는지 확인하기 위해서 출력하는...\n",
        "\n",
        "        total += targets.size(0) # batch 데이터 개수 더하기\n",
        "        running_loss += loss.item()\n",
        "        batch_losses.append(loss.item())\n",
        "        \n",
        "        _, predicted = outputs.max(1) # 확률값 가장 높게 나타난 클래스\n",
        "        correct += (predicted == targets).sum().item() # 현재 batch 내에서 알맞게 분류한 이미지 개수 더하기\n",
        "        \n",
        "        if batch_idx % 250 == 249:\n",
        "            print(f'\\nCurrent batch: {str(batch_idx+1)}')\n",
        "            print(f'Average train loss of recent 250 batches: {running_loss / 250}') # 이렇게 출력하는 것이 꼭 필요한 것은 아니지만, 중간중간 확인을 위해 매우 권장\n",
        "            running_loss = 0.0\n",
        "\n",
        "    avg_loss = sum(batch_losses) / len(batch_losses)\n",
        "    seq_train_loss.append(avg_loss)\n",
        "    seq_train_acc.append(100*correct/total)\n",
        "    print('\\nTotal train accuarcy:', 100. * correct / total) # 전체 데이터 개수에서 맞게 예측한 비율\n",
        "    print('Total train loss:', avg_loss)\n",
        "\n",
        "\n",
        "\n",
        "# test 함수 정의\n",
        "def test(epoch):\n",
        "    print(f'\\n[ Test epoch: {epoch+1} ]')\n",
        "\n",
        "    mymodel.eval() # eval은 항상 이걸 지정하고 시작! - Dropout, Batch Normalization 등의 효과를 적용하지 않기 위함!\n",
        "                   # ex. evaluation 할때는 Dropout 없이 지금까지 학습한 모든 node를 활용해서 진행해야됨\n",
        "\n",
        "    loss = 0\n",
        "    batch_losses = []\n",
        "    correct = 0\n",
        "    total = 0\n",
        "\n",
        "    with torch.no_grad(): # gradient update 안함 - eval과 torch.no_grad는 하나의 세트\n",
        "        for batch_idx, (inputs, targets) in enumerate(testloader_custom):\n",
        "            inputs, targets = inputs.to(device), targets.to(device)\n",
        "\n",
        "            outputs = mymodel(inputs)\n",
        "            loss = criterion(outputs, targets)\n",
        "            batch_losses.append(loss.item())\n",
        "\n",
        "            total += targets.size(0)\n",
        "            _, predicted = outputs.max(1)\n",
        "            correct += (predicted == targets).sum().item()\n",
        "\n",
        "    avg_loss = sum(batch_losses) / len(batch_losses)\n",
        "    seq_test_loss.append(avg_loss)\n",
        "    seq_test_acc.append(100 * correct / total)\n",
        "    print('\\nTest accuarcy:', 100. * correct / total)\n",
        "    print('Test average loss:', avg_loss)"
      ],
      "metadata": {
        "id": "wBetvP0JZpBy"
      },
      "execution_count": 18,
      "outputs": []
    },
    {
      "cell_type": "code",
      "source": [
        "# training\n",
        "# 실제로 훈련할때는 올바른 epoch 설정 필요\n",
        "num_epoch = 15\n",
        "\n",
        "for epoch in range(0, num_epoch):\n",
        "    train(epoch)\n",
        "    test(epoch)\n",
        "\n",
        "# model 저장! - parameter값 저장\n",
        "torch.save(mymodel.state_dict(), './mymodel_custom.pt')\n",
        "print('Model Saved!')"
      ],
      "metadata": {
        "colab": {
          "base_uri": "https://localhost:8080/"
        },
        "id": "epv28m6KZ6B7",
        "outputId": "58d0a364-9cd0-4702-cb27-100bc30b7848"
      },
      "execution_count": 19,
      "outputs": [
        {
          "output_type": "stream",
          "name": "stdout",
          "text": [
            "\n",
            "[ Train epoch: 1 ]\n",
            "\n",
            "Current batch: 250\n",
            "Average train loss of recent 250 batches: 2.1648299140930174\n",
            "\n",
            "Current batch: 500\n",
            "Average train loss of recent 250 batches: 2.0398449869155884\n",
            "\n",
            "Total train accuarcy: 24.96043656207367\n",
            "Total train loss: 2.0917290738323806\n",
            "\n",
            "[ Test epoch: 1 ]\n",
            "\n",
            "Test accuarcy: 26.8270944741533\n",
            "Test average loss: 2.1562079229975133\n",
            "\n",
            "[ Train epoch: 2 ]\n",
            "\n",
            "Current batch: 250\n",
            "Average train loss of recent 250 batches: 1.9595215401649475\n",
            "\n",
            "Current batch: 500\n",
            "Average train loss of recent 250 batches: 1.8907338829040528\n",
            "\n",
            "Total train accuarcy: 32.68758526603001\n",
            "Total train loss: 1.9157256487152339\n",
            "\n",
            "[ Test epoch: 2 ]\n",
            "\n",
            "Test accuarcy: 35.68882098293863\n",
            "Test average loss: 1.869606402104463\n",
            "\n",
            "[ Train epoch: 3 ]\n",
            "\n",
            "Current batch: 250\n",
            "Average train loss of recent 250 batches: 1.741815320968628\n",
            "\n",
            "Current batch: 500\n",
            "Average train loss of recent 250 batches: 1.6141856184005738\n",
            "\n",
            "Total train accuarcy: 42.924965893587995\n",
            "Total train loss: 1.6636644576856603\n",
            "\n",
            "[ Test epoch: 3 ]\n",
            "\n",
            "Test accuarcy: 40.654443595620066\n",
            "Test average loss: 1.8290351763731096\n",
            "\n",
            "[ Train epoch: 4 ]\n",
            "\n",
            "Current batch: 250\n",
            "Average train loss of recent 250 batches: 1.4797171165943146\n",
            "\n",
            "Current batch: 500\n",
            "Average train loss of recent 250 batches: 1.4040517218112945\n",
            "\n",
            "Total train accuarcy: 51.06139154160982\n",
            "Total train loss: 1.4326569199770116\n",
            "\n",
            "[ Test epoch: 4 ]\n",
            "\n",
            "Test accuarcy: 50.3310415075121\n",
            "Test average loss: 1.485995673551792\n",
            "\n",
            "[ Train epoch: 5 ]\n",
            "\n",
            "Current batch: 250\n",
            "Average train loss of recent 250 batches: 1.3164164876937867\n",
            "\n",
            "Current batch: 500\n",
            "Average train loss of recent 250 batches: 1.2870082261562348\n",
            "\n",
            "Total train accuarcy: 55.59618008185539\n",
            "Total train loss: 1.2903849829970022\n",
            "\n",
            "[ Test epoch: 5 ]\n",
            "\n",
            "Test accuarcy: 56.799083269671506\n",
            "Test average loss: 1.2641650720582744\n",
            "\n",
            "[ Train epoch: 6 ]\n",
            "\n",
            "Current batch: 250\n",
            "Average train loss of recent 250 batches: 1.21416406083107\n",
            "\n",
            "Current batch: 500\n",
            "Average train loss of recent 250 batches: 1.1774167025089264\n",
            "\n",
            "Total train accuarcy: 59.1268758526603\n",
            "Total train loss: 1.1940412616022387\n",
            "\n",
            "[ Test epoch: 6 ]\n",
            "\n",
            "Test accuarcy: 60.89890501655208\n",
            "Test average loss: 1.1646523855444861\n",
            "\n",
            "[ Train epoch: 7 ]\n",
            "\n",
            "Current batch: 250\n",
            "Average train loss of recent 250 batches: 1.109878491640091\n",
            "\n",
            "Current batch: 500\n",
            "Average train loss of recent 250 batches: 1.0843607993125917\n",
            "\n",
            "Total train accuarcy: 62.679399727148706\n",
            "Total train loss: 1.096467804742317\n",
            "\n",
            "[ Test epoch: 7 ]\n",
            "\n",
            "Test accuarcy: 62.93608352431882\n",
            "Test average loss: 1.0918325279059449\n",
            "\n",
            "[ Train epoch: 8 ]\n",
            "\n",
            "Current batch: 250\n",
            "Average train loss of recent 250 batches: 1.0529775130748749\n",
            "\n",
            "Current batch: 500\n",
            "Average train loss of recent 250 batches: 1.004502373456955\n",
            "\n",
            "Total train accuarcy: 65.24420190995907\n",
            "Total train loss: 1.0282957346859611\n",
            "\n",
            "[ Test epoch: 8 ]\n",
            "\n",
            "Test accuarcy: 63.012477718360074\n",
            "Test average loss: 1.088325882769697\n",
            "\n",
            "[ Train epoch: 9 ]\n",
            "\n",
            "Current batch: 250\n",
            "Average train loss of recent 250 batches: 0.9472199800014496\n",
            "\n",
            "Current batch: 500\n",
            "Average train loss of recent 250 batches: 0.9366819142103195\n",
            "\n",
            "Total train accuarcy: 67.92905866302866\n",
            "Total train loss: 0.9453943744691878\n",
            "\n",
            "[ Test epoch: 9 ]\n",
            "\n",
            "Test accuarcy: 64.80774127832952\n",
            "Test average loss: 1.0739948927629284\n",
            "\n",
            "[ Train epoch: 10 ]\n",
            "\n",
            "Current batch: 250\n",
            "Average train loss of recent 250 batches: 0.8673697152137756\n",
            "\n",
            "Current batch: 500\n",
            "Average train loss of recent 250 batches: 0.8824170397520066\n",
            "\n",
            "Total train accuarcy: 70.60300136425649\n",
            "Total train loss: 0.8762606887397134\n",
            "\n",
            "[ Test epoch: 10 ]\n",
            "\n",
            "Test accuarcy: 68.23274764451234\n",
            "Test average loss: 0.9276435311005368\n",
            "\n",
            "[ Train epoch: 11 ]\n",
            "\n",
            "Current batch: 250\n",
            "Average train loss of recent 250 batches: 0.8071506998538971\n",
            "\n",
            "Current batch: 500\n",
            "Average train loss of recent 250 batches: 0.8267751649618149\n",
            "\n",
            "Total train accuarcy: 72.62210095497953\n",
            "Total train loss: 0.8128403822580973\n",
            "\n",
            "[ Test epoch: 11 ]\n",
            "\n",
            "Test accuarcy: 73.84772090654444\n",
            "Test average loss: 0.794388484845801\n",
            "\n",
            "[ Train epoch: 12 ]\n",
            "\n",
            "Current batch: 250\n",
            "Average train loss of recent 250 batches: 0.7681006704568862\n",
            "\n",
            "Current batch: 500\n",
            "Average train loss of recent 250 batches: 0.7298746868371964\n",
            "\n",
            "Total train accuarcy: 74.82673942701228\n",
            "Total train loss: 0.7492987480775224\n",
            "\n",
            "[ Test epoch: 12 ]\n",
            "\n",
            "Test accuarcy: 74.08963585434174\n",
            "Test average loss: 0.7910619688227893\n",
            "\n",
            "[ Train epoch: 13 ]\n",
            "\n",
            "Current batch: 250\n",
            "Average train loss of recent 250 batches: 0.6997388433218003\n",
            "\n",
            "Current batch: 500\n",
            "Average train loss of recent 250 batches: 0.709198583483696\n",
            "\n",
            "Total train accuarcy: 76.64392905866303\n",
            "Total train loss: 0.7053951127991003\n",
            "\n",
            "[ Test epoch: 13 ]\n",
            "\n",
            "Test accuarcy: 74.57346574993633\n",
            "Test average loss: 0.7543245360134093\n",
            "\n",
            "[ Train epoch: 14 ]\n",
            "\n",
            "Current batch: 250\n",
            "Average train loss of recent 250 batches: 0.6591738153696061\n",
            "\n",
            "Current batch: 500\n",
            "Average train loss of recent 250 batches: 0.6623893951773644\n",
            "\n",
            "Total train accuarcy: 78.01909959072306\n",
            "Total train loss: 0.6624014683158818\n",
            "\n",
            "[ Test epoch: 14 ]\n",
            "\n",
            "Test accuarcy: 71.18665648077413\n",
            "Test average loss: 0.9476710900785478\n",
            "\n",
            "[ Train epoch: 15 ]\n",
            "\n",
            "Current batch: 250\n",
            "Average train loss of recent 250 batches: 0.6074334218502044\n",
            "\n",
            "Current batch: 500\n",
            "Average train loss of recent 250 batches: 0.6079948004484177\n",
            "\n",
            "Total train accuarcy: 79.69986357435198\n",
            "Total train loss: 0.6079582360558485\n",
            "\n",
            "[ Test epoch: 15 ]\n",
            "\n",
            "Test accuarcy: 76.50878533231474\n",
            "Test average loss: 0.7208021948704633\n",
            "Model Saved!\n"
          ]
        }
      ]
    },
    {
      "cell_type": "code",
      "source": [
        "import matplotlib.pyplot as plt\n",
        "\n",
        "# loss, accuracy 추이 확인 with plt.plot\n",
        "plt.plot(range(15), seq_train_loss, label=\"Train loss\")\n",
        "plt.plot(range(15), seq_test_loss, label=\"Test loss\")\n",
        "plt.legend()\n",
        "plt.xlabel('Epoch')\n",
        "plt.ylabel('Loss')\n",
        "plt.show()"
      ],
      "metadata": {
        "id": "CF-riXElZ6te",
        "colab": {
          "base_uri": "https://localhost:8080/",
          "height": 279
        },
        "outputId": "bc7adee8-30b8-42ed-ddef-59cff7e210a6"
      },
      "execution_count": 20,
      "outputs": [
        {
          "output_type": "display_data",
          "data": {
            "text/plain": [
              "<Figure size 432x288 with 1 Axes>"
            ],
            "image/png": "[encoded data removed]"
          },
          "metadata": {
            "needs_background": "light"
          }
        }
      ]
    },
    {
      "cell_type": "code",
      "source": [
        "#import matplotlib.pyplot as plt\n",
        "\n",
        "# loss, accuracy 추이 확인 with plt.plot\n",
        "plt.plot(range(15), seq_train_acc, label=\"Train Accuracy\")\n",
        "plt.plot(range(15), seq_test_acc, label=\"Test Accuracy\")\n",
        "plt.legend()\n",
        "plt.xlabel('Epoch')\n",
        "plt.ylabel('Accuracy')\n",
        "plt.show()"
      ],
      "metadata": {
        "id": "EzDo-z1raEpB",
        "colab": {
          "base_uri": "https://localhost:8080/",
          "height": 279
        },
        "outputId": "9179ca48-df21-43d7-e758-d82504c38872"
      },
      "execution_count": 21,
      "outputs": [
        {
          "output_type": "display_data",
          "data": {
            "text/plain": [
              "<Figure size 432x288 with 1 Axes>"
            ],
            "image/png": "[encoded data removed]"
          },
          "metadata": {
            "needs_background": "light"
          }
        }
      ]
    },
    {
      "cell_type": "markdown",
      "source": [
        "GPU 문제 상 15번의 epoch을 실행하였으나, epoch을 더욱 늘리면 더 좋은 accuracy를 기대해볼 수 있을 듯하다.\n",
        "파일이 너무 커져 삭제하였는데, 기존에는 마지막 fc layer를 512 -> 4096 -> 4096 -> 10 차원으로 구성하였는데, 너무 parameter 수가 많아져 512 -> 100 -> 10으로 수정하였더니 비교적 잘 학습이 되는 것을 확인하였다. 또한 기존에는 없는 batchnormalization을 추가하였다."
      ],
      "metadata": {
        "id": "C4rRvbJiNt-7"
      }
    }
  ]
}