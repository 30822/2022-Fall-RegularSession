{
 "cells": [
  {
   "cell_type": "markdown",
   "metadata": {
    "id": "d2ENRS4E9_xy"
   },
   "source": [
    "# 1. 폴더 정리\n",
    "\n",
    "* 제공해드린 animals10.zip의 압축을 풀어 그 내용을 살펴보시고, 폴더 구조를 학습에 알맞도록 재구성해주세요\n",
    "* 특히 각 클래스마다 약 30% 정도의 이미지를 test 폴더에 할당해주세요\n",
    "* 중간중간 헷갈리다면 이것저것 확인하는 코드를 거쳐보세요 (ex. flat_test[:5]로 앞의 다섯값 확인)\n",
    "* 궁금한 점이 있을 경우, 슬랙 질문 채널 활용을 적극 권장합니다."
   ]
  },
  {
   "cell_type": "code",
   "execution_count": 1,
   "metadata": {
    "id": "u7tlWm3L9KoV"
   },
   "outputs": [],
   "source": [
    "### Guideline for convenience ###\n",
    "# 압축 풀기\n",
    "import os \n",
    "\n",
    "path_db = 'tire/tire-dataset'"
   ]
  },
  {
   "cell_type": "code",
   "execution_count": 2,
   "metadata": {},
   "outputs": [
    {
     "data": {
      "text/plain": [
       "['flat.class', 'full.class', 'no-tire.class']"
      ]
     },
     "execution_count": 2,
     "metadata": {},
     "output_type": "execute_result"
    }
   ],
   "source": [
    "class_names = os.listdir(path_db)[:3]\n",
    "class_names"
   ]
  },
  {
   "cell_type": "code",
   "execution_count": 3,
   "metadata": {
    "id": "RPXh3srt-1Rx"
   },
   "outputs": [],
   "source": [
    "# 각 클래스별 파일 개수 확인 -> 변수로 해당 개수 저장\n",
    "# Tip) 클래스가 10개이므로 각 클래스마다 똑같은 내용의 코드를 계속 써야할까요? 클래스 이름을 리스트로 저장해 for문을 돌리면서 코드를 재사용하는건 어떨까요?"
   ]
  },
  {
   "cell_type": "code",
   "execution_count": 4,
   "metadata": {},
   "outputs": [],
   "source": [
    "from collections import defaultdict"
   ]
  },
  {
   "cell_type": "code",
   "execution_count": 5,
   "metadata": {},
   "outputs": [],
   "source": [
    "class_info = defaultdict(dict)\n",
    "\n",
    "for class_name in class_names:\n",
    "    class_info[class_name]['len'] = len(os.listdir(f'{path_db}/{class_name}'))"
   ]
  },
  {
   "cell_type": "code",
   "execution_count": 6,
   "metadata": {},
   "outputs": [
    {
     "name": "stdout",
     "output_type": "stream",
     "text": [
      "defaultdict(<class 'dict'>,\n",
      "            {'flat.class': {'len': 300},\n",
      "             'full.class': {'len': 300},\n",
      "             'no-tire.class': {'len': 300}})\n"
     ]
    }
   ],
   "source": [
    "from pprint import pprint\n",
    "\n",
    "pprint(class_info)"
   ]
  },
  {
   "cell_type": "code",
   "execution_count": 7,
   "metadata": {
    "id": "9Jikw6Rp_BQI"
   },
   "outputs": [],
   "source": [
    "# test에 넣을 이미지 개수 계산\n",
    "\n",
    "for class_name in class_names:    \n",
    "    class_info[class_name]['test_size'] = int(class_info[class_name]['len']*0.3)"
   ]
  },
  {
   "cell_type": "code",
   "execution_count": 8,
   "metadata": {},
   "outputs": [
    {
     "name": "stdout",
     "output_type": "stream",
     "text": [
      "defaultdict(<class 'dict'>,\n",
      "            {'flat.class': {'len': 300, 'test_size': 90},\n",
      "             'full.class': {'len': 300, 'test_size': 90},\n",
      "             'no-tire.class': {'len': 300, 'test_size': 90}})\n"
     ]
    }
   ],
   "source": [
    "pprint(class_info)"
   ]
  },
  {
   "cell_type": "code",
   "execution_count": 12,
   "metadata": {
    "id": "bb2XMrAe_Fl8"
   },
   "outputs": [
    {
     "name": "stdout",
     "output_type": "stream",
     "text": [
      "mk\n"
     ]
    }
   ],
   "source": [
    "# train, test 폴더 경로 선언 & 만들기\n",
    "\n",
    "def check_mkdir(path):\n",
    "    if not os.path.isdir(path):\n",
    "        os.mkdir(path)\n",
    "        print(\"mk\")\n",
    "\n",
    "path_train = f\"{path_db}/train\" \n",
    "path_test = f\"{path_db}/test\"\n",
    "check_mkdir(path_train)\n",
    "check_mkdir(path_test)"
   ]
  },
  {
   "cell_type": "code",
   "execution_count": 13,
   "metadata": {},
   "outputs": [],
   "source": [
    "import shutil"
   ]
  },
  {
   "cell_type": "code",
   "execution_count": 14,
   "metadata": {},
   "outputs": [
    {
     "name": "stdout",
     "output_type": "stream",
     "text": [
      "mk\n",
      "mk\n",
      "mk\n",
      "mk\n",
      "mk\n"
     ]
    }
   ],
   "source": [
    "for class_name in class_names:\n",
    "    check_mkdir(f\"{path_db}/train/{class_name}\")\n",
    "    check_mkdir(f\"{path_db}/test/{class_name}\")"
   ]
  },
  {
   "cell_type": "code",
   "execution_count": 15,
   "metadata": {
    "id": "BaAXh57G_srE",
    "scrolled": true
   },
   "outputs": [
    {
     "name": "stdout",
     "output_type": "stream",
     "text": [
      "defaultdict(<class 'dict'>,\n",
      "            {'flat.class': {'len': 300, 'test_size': 90},\n",
      "             'full.class': {'len': 300, 'test_size': 90},\n",
      "             'no-tire.class': {'len': 300, 'test_size': 90}})\n"
     ]
    }
   ],
   "source": [
    "# train, test 폴더로 이미지 split해서 알맞게 집어넣기\n",
    "\n",
    "import numpy as np\n",
    "\n",
    "for class_name in class_names:    \n",
    "    class_sp = class_info[class_name]\n",
    "    test_idx = np.random.choice(list(range(class_sp['len'])), class_sp['test_size'], replace=False)\n",
    "    train_idx = [i for i in range(class_sp['len']) if i not in test_idx]\n",
    "    \n",
    "    instance_names = np.array(os.listdir(f\"{path_db}/{class_name}\"))\n",
    "    \n",
    "    for k in instance_names[train_idx]:\n",
    "        shutil.copy(f\"{path_db}/{class_name}/{k}\", f\"{path_db}/train/{class_name}\")\n",
    "    for k in instance_names[test_idx]:\n",
    "        shutil.copy(f\"{path_db}/{class_name}/{k}\", f\"{path_db}/test/{class_name}\")\n",
    "pprint(class_info)"
   ]
  },
  {
   "cell_type": "code",
   "execution_count": null,
   "metadata": {},
   "outputs": [],
   "source": []
  },
  {
   "cell_type": "markdown",
   "metadata": {
    "id": "UKa7LZ4RAXxA"
   },
   "source": [
    "# 2. CNN 모델\n",
    "수업 코드에 '모델 성능에 대한 고민!!' 부분을 참고해서 **test 이미지 기준 최소 80% 이상**의 모델이 나올 수 있도록 학습을 진행해주세요.\n",
    "* 중간중간 헷갈리다면 이것저것 확인하는 코드를 거쳐보세요\n",
    "* 90% 이상의 모델이 이상적이긴 합니다\n",
    "* 궁금한 점이 있을 경우, 슬랙 질문 채널 활용을 적극 권장합니다."
   ]
  },
  {
   "cell_type": "markdown",
   "metadata": {
    "id": "31hFiKNBD48l"
   },
   "source": [
    "전반적으로 수업 코드와 비슷하게 짜면 되는데, 생각해봐야 할 것은\n",
    "* 모든 이미지를 내가 정의하는 하나의 모델에 넣어야함\n",
    "* 그말은 input 데이터의 차원이 항상 동일해야 된다는 말\n",
    "* 그런데 과연 내가 가지고 있는 이미지들의 사이즈가 모두 같을까? - 대략 얼마정도 사이즈 가지고 있는지 코드로 확인해보면 더 좋음 (shape 확인)\n",
    "* 이미지 사이즈를 통일시키기 위해서는 어떻게 해야할까? - transforms의 Resize, RandomCrop 써볼까?\n",
    "* 동물 이미지에 적합한 Augmentation은 무엇이 있을까?"
   ]
  },
  {
   "cell_type": "code",
   "execution_count": 27,
   "metadata": {},
   "outputs": [],
   "source": [
    "import torch\n",
    "import torch.nn as nn\n",
    "import torchvision\n",
    "import torchvision.transforms as transforms"
   ]
  },
  {
   "cell_type": "code",
   "execution_count": 29,
   "metadata": {
    "id": "UM1CiMcdAfas"
   },
   "outputs": [],
   "source": [
    "# train, test 이미지를 위한 transforms function 정의\n",
    "# 위에서 말한 포인트들 생각해보기 - 차원에 유의하자!\n",
    "trans_tr = transforms.Compose([\n",
    "    transforms.Resize(300),\n",
    "    transforms.ColorJitter(brightness=0.5),\n",
    "    transforms.RandomHorizontalFlip(p=0.5),\n",
    "    transforms.RandomRotation(20),\n",
    "    transforms.ToTensor(),\n",
    "    transforms.Normalize((0.485, 0.456, 0.406), (0.229, 0.224, 0.225))\n",
    "])"
   ]
  },
  {
   "cell_type": "code",
   "execution_count": 30,
   "metadata": {},
   "outputs": [],
   "source": [
    "trans_te = transforms.Compose([\n",
    "    transforms.Resize(300),\n",
    "    transforms.ToTensor(),\n",
    "    transforms.Normalize((0.485, 0.456, 0.406), (0.229, 0.224, 0.225))\n",
    "])"
   ]
  },
  {
   "cell_type": "code",
   "execution_count": 31,
   "metadata": {
    "id": "QAYc35vdAlHk"
   },
   "outputs": [],
   "source": [
    "# ImageFolder와 앞서 정의한 transforms function을 활용해 Dataset 객체 (train, test에 대해) 선언\n",
    "train_data = torchvision.datasets.ImageFolder(\n",
    "    root = f\"{path_db}/train\", # 바로 train 폴더 지정\n",
    "    transform = trans_tr # transform은 그냥 편의상 cifar에서 썼던거 그대로\n",
    ")\n",
    "test_data = torchvision.datasets.ImageFolder(\n",
    "    root = f\"{path_db}/test\",\n",
    "    transform = trans_te\n",
    ")"
   ]
  },
  {
   "cell_type": "code",
   "execution_count": 33,
   "metadata": {
    "id": "gHF4PaUQAvzJ"
   },
   "outputs": [],
   "source": [
    "# train, test에 대해 DataLoader 정의\n",
    "loader_tr = torch.utils.data.DataLoader(\n",
    "    train_data,\n",
    "    batch_size = 32,      # 일반적으로 batch size = 16, 32\n",
    "    shuffle=True,         # train dataloader는 epoch마다 데이터 다시 섞어서 batch 만들고 학습! - 학습 효율 up\n",
    "    num_workers=2\n",
    ")\n",
    "\n",
    "loader_te = torch.utils.data.DataLoader(\n",
    "    test_data,\n",
    "    batch_size = 32,      # 일반적으로 batch size = 16, 32\n",
    "    shuffle=False,        # test dataloader는 데이터 매번 섞을 이유가 없음 - 어차피 확인 용도\n",
    "    num_workers=2\n",
    ")"
   ]
  },
  {
   "cell_type": "code",
   "execution_count": 78,
   "metadata": {
    "id": "Kpvu7SJtAyUH"
   },
   "outputs": [],
   "source": [
    "### Model 클래스 정의 - 차원에 유의하자!\n",
    "# 10개의 클래스를 분류해야 하는 꽤나 복잡한 task - 모델 구조를 어느 정도로 복잡하게 짜볼까?\n",
    "# 가장 마지막 Linear의 out_features는 얼마로 해야할까?\n",
    "#### 모델 정의 시 유념해야할 건 각 층의 결과물의 차원!\n",
    "#### 모델이 복잡해지면 복잡해질수록 이는 더욱 중요해지므로 레이어별로 도출되는 데이터의 크기를 써넣는 것을 추천 (안맞으면 에러남)\n",
    "# (해당 모델은 임의로 만든 모델로 성능을 보장하지 X)\n",
    "\n",
    "class MyModel(nn.Module):\n",
    "    def __init__(self):\n",
    "        super(MyModel, self).__init__()\n",
    "        \n",
    "        ##### Layer 정의 #####\n",
    "        self.layer = nn.Sequential(\n",
    "            # 맨처음 RGB 채널 3개이므로 가장 처음 in_channels = 3\n",
    "            # img의 가장 첫 차원이 batch_size 값은 계속해서 유지\n",
    "            nn.Conv2d(in_channels=3, out_channels=16, kernel_size=5),             # [batch_size,3,32,32] -> [batch_size,16,28,28] -> same with? - using 16 filters\n",
    "            nn.ReLU(),\n",
    "            nn.Conv2d(in_channels=16, out_channels=32, kernel_size=5),            # [batch_size,16,28,28] -> [batch_size,32,24,24]\n",
    "            nn.ReLU(),\n",
    "            nn.Dropout(0.2), # 0.2 확률로 Dropout\n",
    "            nn.MaxPool2d(kernel_size=2, stride=2),                                # [batch_size,32,24,24] -> [batch_size,32,12,12]\n",
    "            nn.Conv2d(in_channels=32, out_channels=32, kernel_size=5, padding=2), # [batch_size,32,12,12] -> [batch_size,32,12,12] -> padding*2 주의!\n",
    "            nn.ReLU(),\n",
    "            nn.Conv2d(in_channels=32, out_channels=32, kernel_size=3),            # [batch_size,32,12,12] -> [batch_size,32,10,10]\n",
    "            nn.ReLU(),\n",
    "            nn.Dropout(0.2),\n",
    "            nn.MaxPool2d(kernel_size=2, stride=2)                                 # [batch_size,32,10,10] -> [batch_size,32,5,5]\n",
    "        )\n",
    "        self.fc_layer = nn.Sequential(\n",
    "            nn.Linear(32*72*72,100),                                                # [batch_size,32*5*5] -> [batch_size,100]\n",
    "            nn.ReLU(),\n",
    "            nn.Linear(100,10)\n",
    "        )\n",
    "\n",
    "    def forward(self, x):\n",
    "        # forward pass 과정\n",
    "        out = self.layer(x)\n",
    "        out = out.view(out.size(0),-1)  # FC layer에 들어가기전, flatten! - view 함수 활용\n",
    "                                        # 가장 첫 차원인 batch_size는 유지하고 나머지 차원들을 하나로 합치기 - [batch_size,16,5,5] -> [batch_size,16*5*5]\n",
    "        out = self.fc_layer(out)\n",
    "        return out"
   ]
  },
  {
   "cell_type": "code",
   "execution_count": 79,
   "metadata": {
    "id": "K_AvhGgTCXO7",
    "scrolled": true
   },
   "outputs": [
    {
     "name": "stdout",
     "output_type": "stream",
     "text": [
      "----------------------------------------------------------------\n",
      "        Layer (type)               Output Shape         Param #\n",
      "================================================================\n",
      "            Conv2d-1         [32, 16, 296, 296]           1,216\n",
      "              ReLU-2         [32, 16, 296, 296]               0\n",
      "            Conv2d-3         [32, 32, 292, 292]          12,832\n",
      "              ReLU-4         [32, 32, 292, 292]               0\n",
      "           Dropout-5         [32, 32, 292, 292]               0\n",
      "         MaxPool2d-6         [32, 32, 146, 146]               0\n",
      "            Conv2d-7         [32, 32, 146, 146]          25,632\n",
      "              ReLU-8         [32, 32, 146, 146]               0\n",
      "            Conv2d-9         [32, 32, 144, 144]           9,248\n",
      "             ReLU-10         [32, 32, 144, 144]               0\n",
      "          Dropout-11         [32, 32, 144, 144]               0\n",
      "        MaxPool2d-12           [32, 32, 72, 72]               0\n",
      "           Linear-13                  [32, 100]      16,588,900\n",
      "             ReLU-14                  [32, 100]               0\n",
      "           Linear-15                   [32, 10]           1,010\n",
      "================================================================\n",
      "Total params: 16,638,838\n",
      "Trainable params: 16,638,838\n",
      "Non-trainable params: 0\n",
      "----------------------------------------------------------------\n",
      "Input size (MB): 32.96\n",
      "Forward/backward pass size (MB): 3709.02\n",
      "Params size (MB): 63.47\n",
      "Estimated Total Size (MB): 3805.45\n",
      "----------------------------------------------------------------\n"
     ]
    }
   ],
   "source": [
    "# torchsummary로 모델 차원 어떻게 나오는지 돌려보기\n",
    "from torchsummary import summary\n",
    "model = MyModel().cuda() # 모델 객체 선언\n",
    "summary(model, (3,300,300), batch_size=32)"
   ]
  },
  {
   "cell_type": "code",
   "execution_count": 80,
   "metadata": {},
   "outputs": [],
   "source": [
    "device = 'cuda'"
   ]
  },
  {
   "cell_type": "code",
   "execution_count": 81,
   "metadata": {
    "id": "CFk7o_fuCgc7"
   },
   "outputs": [],
   "source": [
    "# loss func, optimizer 정의\n",
    "criterion = nn.CrossEntropyLoss().cuda() # criterion (loss func)도 device 위에서\n",
    "optimizer = torch.optim.Adam(model.parameters(), lr=0.001, weight_decay=0.0001) # 보통 Adam의 learning rate로 0.001 사용\n",
    "                                                                                  # weight_decay = L2 Regularization의 lambda값 (가중치 제한 정도)"
   ]
  },
  {
   "cell_type": "code",
   "execution_count": 82,
   "metadata": {
    "scrolled": false
   },
   "outputs": [
    {
     "name": "stdout",
     "output_type": "stream",
     "text": [
      "torch.Size([32, 3, 300, 300])\n",
      "torch.Size([32])\n",
      "torch.Size([32, 10])\n",
      "torch.Size([32])\n",
      "2.305614948272705\n",
      "tensor([6, 6, 6, 6, 6, 6, 6, 6, 6, 6, 6, 6, 6, 6, 6, 6, 6, 6, 6, 6, 6, 6, 6, 6,\n",
      "        6, 6, 0, 6, 6, 6, 6, 6], device='cuda:0')\n",
      "tensor([2, 0, 1, 2, 0, 0, 0, 2, 2, 1, 1, 0, 0, 0, 1, 0, 2, 2, 1, 2, 1, 0, 2, 1,\n",
      "        1, 1, 1, 1, 0, 1, 2, 2], device='cuda:0')\n",
      "0\n"
     ]
    }
   ],
   "source": [
    "with torch.no_grad():\n",
    "    for i, (inputs, targets) in enumerate(loader_tr):\n",
    "        inputs, targets = inputs.cuda(), targets.cuda()\n",
    "        print(inputs.shape)  # batch_size개의 이미지\n",
    "        print(targets.shape) # batch_size개의 클래스\n",
    "\n",
    "        outputs = model(inputs)\n",
    "        print(outputs.shape) # outputs는 32, 10 차원 (32개 data의 확률 10개씩)\n",
    "        print(targets.shape) # targets는 32차원 (32개 data의 실제 클래스)\n",
    "\n",
    "        loss = criterion(outputs, targets)  # -> cross entropy 식에 넣을때 이런 형태로 넣으면됨 (outputs, targets의 차원을 맞출 필요가 없음)\n",
    "        print(loss.item())\n",
    "\n",
    "        print(outputs.max(1)[1]) # 예측한 클래스\n",
    "        print(targets) # 실제 클래스\n",
    "        correct = (outputs.max(1)[1] == targets).sum().item() # 맞게 예측한 클래스 개수\n",
    "        print(correct)\n",
    "        break"
   ]
  },
  {
   "cell_type": "code",
   "execution_count": 87,
   "metadata": {},
   "outputs": [],
   "source": [
    "seq_train_loss = []\n",
    "seq_test_loss = []\n",
    "seq_train_acc = []\n",
    "seq_test_acc = []"
   ]
  },
  {
   "cell_type": "code",
   "execution_count": 88,
   "metadata": {
    "id": "-ENGsLI3CksA"
   },
   "outputs": [],
   "source": [
    "# train 함수 정의\n",
    "def train(epoch, loader):\n",
    "    print(f'\\n[ Train epoch: {epoch+1} ]')\n",
    "\n",
    "    model.train() # train은 항상 이걸 지정하고 시작! - Dropout, Batch Normalization 등의 효과를 적용하고 진행하기 위함\n",
    "\n",
    "    running_loss = 0.0\n",
    "    batch_losses = []\n",
    "    total = 0\n",
    "    correct = 0\n",
    "\n",
    "    for batch_idx, (inputs, targets) in enumerate(loader):\n",
    "        inputs, targets = inputs.to(device), targets.to(device) # dataloader의 input image와 label도 device에 넣어줘야됨\n",
    "        \n",
    "        # DL 학습 기본 코드\n",
    "        optimizer.zero_grad() # gradient 초기화\n",
    "        outputs = model(inputs) # 현재 batch의 inputs을 모델에 넣어 outputs 추출 (확률값)\n",
    "        loss = criterion(outputs, targets) # 추출한 outputs와 원래 label인 targets 사이 loss 계산\n",
    "        loss.backward() # 계산한 loss 기반으로 gradient 값 계산\n",
    "        optimizer.step() # weight parameter update\n",
    "\n",
    "        total += targets.size(0) # batch 데이터 개수 더하기\n",
    "        running_loss += loss.item()\n",
    "        batch_losses.append(loss.item())\n",
    "        \n",
    "        _, predicted = outputs.max(1) # 확률값 가장 높게 나타난 클래스\n",
    "        correct += (predicted == targets).sum().item() # 현재 batch 내에서 알맞게 분류한 이미지 개수 더하기\n",
    "        \n",
    "        if batch_idx % 300 == 299:\n",
    "            print(f'\\nCurrent batch: {str(batch_idx+1)}')\n",
    "            print(f'Average train loss of recent 300 batches: {running_loss / 300}') # 이렇게 출력하는 것이 꼭 필요한 것은 아니지만, 중간중간 확인을 위해 매우 권장\n",
    "            running_loss = 0.0\n",
    "\n",
    "    avg_loss = sum(batch_losses) / len(batch_losses)\n",
    "    seq_train_loss.append(avg_loss)\n",
    "    seq_train_acc.append(100*correct/total)\n",
    "    print('\\nTotal train accuarcy:', 100. * correct / total) # 전체 데이터 개수에서 맞게 예측한 비율\n",
    "    print('Total train loss:', avg_loss)"
   ]
  },
  {
   "cell_type": "code",
   "execution_count": 89,
   "metadata": {
    "id": "zxKTZ7oACnGs"
   },
   "outputs": [],
   "source": [
    "# test 함수 정의\n",
    "def test(epoch, loader):\n",
    "    print(f'\\n[ Test epoch: {epoch+1} ]')\n",
    "\n",
    "    model.eval() # eval은 항상 이걸 지정하고 시작! - Dropout, Batch Normalization 등의 효과를 적용하지 않기 위함!\n",
    "                   # ex. evaluation 할때는 Dropout 없이 지금까지 학습한 모든 node를 활용해서 진행해야됨\n",
    "\n",
    "    loss = 0\n",
    "    batch_losses = []\n",
    "    correct = 0\n",
    "    total = 0\n",
    "\n",
    "    with torch.no_grad(): # gradient update 안함 - eval과 torch.no_grad는 하나의 세트\n",
    "        for batch_idx, (inputs, targets) in enumerate(loader):\n",
    "            inputs, targets = inputs.to(device), targets.to(device)\n",
    "\n",
    "            outputs = model(inputs)\n",
    "            loss = criterion(outputs, targets)\n",
    "            batch_losses.append(loss.item())\n",
    "\n",
    "            total += targets.size(0)\n",
    "            _, predicted = outputs.max(1)\n",
    "            correct += (predicted == targets).sum().item()\n",
    "\n",
    "    avg_loss = sum(batch_losses) / len(batch_losses)\n",
    "    seq_test_loss.append(avg_loss)\n",
    "    seq_test_acc.append(100 * correct / total)\n",
    "    print('\\nTest accuarcy:', 100. * correct / total)\n",
    "    print('Test average loss:', avg_loss)"
   ]
  },
  {
   "cell_type": "code",
   "execution_count": 93,
   "metadata": {},
   "outputs": [
    {
     "name": "stdout",
     "output_type": "stream",
     "text": [
      "\n",
      "[ Train epoch: 1 ]\n",
      "\n",
      "Total train accuarcy: 97.77777777777777\n",
      "Total train loss: 0.06433671666309237\n",
      "\n",
      "[ Test epoch: 1 ]\n",
      "\n",
      "Test accuarcy: 97.77777777777777\n",
      "Test average loss: 0.06125032565452986\n",
      "\n",
      "[ Train epoch: 2 ]\n",
      "\n",
      "Total train accuarcy: 98.0952380952381\n",
      "Total train loss: 0.06084524893667549\n",
      "\n",
      "[ Test epoch: 2 ]\n",
      "\n",
      "Test accuarcy: 98.88888888888889\n",
      "Test average loss: 0.04397206303353111\n",
      "\n",
      "[ Train epoch: 3 ]\n",
      "\n",
      "Total train accuarcy: 96.34920634920636\n",
      "Total train loss: 0.09408117306884378\n",
      "\n",
      "[ Test epoch: 3 ]\n",
      "\n",
      "Test accuarcy: 98.51851851851852\n",
      "Test average loss: 0.04468852586837278\n",
      "\n",
      "[ Train epoch: 4 ]\n",
      "\n",
      "Total train accuarcy: 97.3015873015873\n",
      "Total train loss: 0.061917351675219834\n",
      "\n",
      "[ Test epoch: 4 ]\n",
      "\n",
      "Test accuarcy: 98.14814814814815\n",
      "Test average loss: 0.05630693394212156\n",
      "\n",
      "[ Train epoch: 5 ]\n",
      "\n",
      "Total train accuarcy: 97.93650793650794\n",
      "Total train loss: 0.052498600957915184\n",
      "\n",
      "[ Test epoch: 5 ]\n",
      "\n",
      "Test accuarcy: 98.51851851851852\n",
      "Test average loss: 0.053638755780411884\n",
      "Model Saved!\n"
     ]
    }
   ],
   "source": [
    "for epoch in range(0, num_epoch):\n",
    "    train(epoch, loader_tr)\n",
    "    test(epoch, loader_te)\n",
    "\n",
    "# model 저장! - parameter값 저장\n",
    "torch.save(model.state_dict(), './model.pt')\n",
    "print('Model Saved!')"
   ]
  },
  {
   "cell_type": "code",
   "execution_count": 86,
   "metadata": {
    "id": "ZwJHGOY9Czzh"
   },
   "outputs": [],
   "source": [
    "# loss, accuracy 추이 확인 with plt.plot"
   ]
  },
  {
   "cell_type": "code",
   "execution_count": 94,
   "metadata": {},
   "outputs": [],
   "source": [
    "import matplotlib.pyplot as plt"
   ]
  },
  {
   "cell_type": "code",
   "execution_count": 95,
   "metadata": {},
   "outputs": [
    {
     "data": {
      "image/png": "[encoded data removed]",
      "text/plain": [
       "<Figure size 720x720 with 1 Axes>"
      ]
     },
     "metadata": {
      "needs_background": "light"
     },
     "output_type": "display_data"
    }
   ],
   "source": [
    "plt.figure(figsize=(10,10))\n",
    "plt.plot(seq_train_loss, label='Train')\n",
    "plt.plot(seq_test_loss, label='Test')\n",
    "plt.legend()\n",
    "plt.show()"
   ]
  },
  {
   "cell_type": "code",
   "execution_count": 96,
   "metadata": {},
   "outputs": [
    {
     "data": {
      "image/png": "[encoded data removed]",
      "text/plain": [
       "<Figure size 720x720 with 1 Axes>"
      ]
     },
     "metadata": {
      "needs_background": "light"
     },
     "output_type": "display_data"
    }
   ],
   "source": [
    "plt.figure(figsize=(10,10))\n",
    "plt.plot(seq_train_acc, label='Train')\n",
    "plt.plot(seq_test_acc, label='Test')\n",
    "plt.legend()\n",
    "plt.show()"
   ]
  },
  {
   "cell_type": "code",
   "execution_count": null,
   "metadata": {},
   "outputs": [],
   "source": []
  },
  {
   "cell_type": "code",
   "execution_count": null,
   "metadata": {},
   "outputs": [],
   "source": []
  },
  {
   "cell_type": "code",
   "execution_count": null,
   "metadata": {},
   "outputs": [],
   "source": []
  },
  {
   "cell_type": "code",
   "execution_count": null,
   "metadata": {},
   "outputs": [],
   "source": []
  },
  {
   "cell_type": "code",
   "execution_count": null,
   "metadata": {},
   "outputs": [],
   "source": []
  },
  {
   "cell_type": "code",
   "execution_count": null,
   "metadata": {},
   "outputs": [],
   "source": []
  },
  {
   "cell_type": "code",
   "execution_count": null,
   "metadata": {},
   "outputs": [],
   "source": []
  },
  {
   "cell_type": "code",
   "execution_count": null,
   "metadata": {},
   "outputs": [],
   "source": []
  },
  {
   "cell_type": "code",
   "execution_count": null,
   "metadata": {},
   "outputs": [],
   "source": []
  },
  {
   "cell_type": "code",
   "execution_count": null,
   "metadata": {},
   "outputs": [],
   "source": []
  }
 ],
 "metadata": {
  "colab": {
   "authorship_tag": "ABX9TyPyT1TsTwC1Btb17NjPyv2x",
   "collapsed_sections": [],
   "name": "[0823] CNN 과제.ipynb",
   "provenance": [],
   "toc_visible": true
  },
  "kernelspec": {
   "display_name": "dsl",
   "language": "python",
   "name": "dsl"
  },
  "language_info": {
   "codemirror_mode": {
    "name": "ipython",
    "version": 3
   },
   "file_extension": ".py",
   "mimetype": "text/x-python",
   "name": "python",
   "nbconvert_exporter": "python",
   "pygments_lexer": "ipython3",
   "version": "3.7.11"
  },
  "toc": {
   "base_numbering": 1,
   "nav_menu": {},
   "number_sections": true,
   "sideBar": true,
   "skip_h1_title": false,
   "title_cell": "Table of Contents",
   "title_sidebar": "Contents",
   "toc_cell": false,
   "toc_position": {},
   "toc_section_display": true,
   "toc_window_display": false
  }
 },
 "nbformat": 4,
 "nbformat_minor": 1
}
