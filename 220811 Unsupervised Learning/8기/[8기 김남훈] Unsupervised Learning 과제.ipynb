{
  "cells": [
    {
      "cell_type": "markdown",
      "metadata": {
        "id": "Xf7gDXF7Ufn4"
      },
      "source": [
        "# 정규세션: Unsupervised Learing 과제"
      ]
    },
    {
      "cell_type": "markdown",
      "metadata": {
        "id": "HC4mC3MAbNbx"
      },
      "source": [
        "MNIST 데이터와 PCA 기법을 활용해 차원 축소에 대해 알아 봅시다!"
      ]
    },
    {
      "cell_type": "code",
      "execution_count": 1,
      "metadata": {
        "id": "WO4qu-6_UkSQ"
      },
      "outputs": [],
      "source": [
        "# 메인 라이브러리 불러오기\n",
        "import numpy as np\n",
        "import pandas as pd\n",
        "import os\n",
        "import time\n",
        "import pickle\n",
        "import gzip\n",
        "\n",
        "# 시각화 관련 라이브러리 불러오기\n",
        "import matplotlib.pyplot as plt\n",
        "import seaborn as sns\n",
        "color = sns.color_palette()\n",
        "import matplotlib as mpl\n",
        "\n",
        "%matplotlib inline\n",
        "\n",
        "# 데이터 준비, 모델 평가 관련 라이브러리\n",
        "from sklearn import preprocessing as ppp\n",
        "from scipy.stats import pearsonr\n",
        "from numpy.testing import assert_array_almost_equal\n",
        "from sklearn.model_selection import train_test_split\n",
        "from sklearn.model_selection import StratifiedKFold\n",
        "from sklearn.metrics import log_loss\n",
        "from sklearn.metrics import precision_recall_curve, average_precision_score\n",
        "from sklearn.metrics import roc_curve, auc, roc_auc_score\n",
        "from sklearn.metrics import confusion_matrix, classification_report\n",
        "\n",
        "# 알고리즘 관련 라이브러리 불러오기\n",
        "from sklearn.linear_model import LogisticRegression\n",
        "from sklearn.ensemble import RandomForestClassifier\n",
        "import xgboost as xgb\n",
        "import lightgbm as lgb"
      ]
    },
    {
      "cell_type": "code",
      "execution_count": 3,
      "metadata": {
        "id": "qXfUDDkCVM47"
      },
      "outputs": [],
      "source": [
        "# MNIST data load\n",
        "\n",
        "current_path = os.getcwd()\n",
        "file = os.path.sep.join(['','mnist.pkl.gz'])\n",
        "# 본인의 구글 드라이브(현재 디렉토리)에 mnist.pkl.gz 파일이 올라가 있어야 함!\n",
        "# colab의 경우 content 폴더 바로 아래에 들어가면 됨\n",
        "\n",
        "f = gzip.open(current_path+file, 'rb')\n",
        "\n",
        "train_set, validation_set, test_set = pickle.load(f, encoding='latin1')\n",
        "f.close()\n",
        "\n",
        "X_train, y_train = train_set[0], train_set[1]\n",
        "X_validation, y_validation = validation_set[0], validation_set[1]\n",
        "X_test, y_test = test_set[0], test_set[1]"
      ]
    },
    {
      "cell_type": "markdown",
      "metadata": {
        "id": "SRnLAjzWPhaa"
      },
      "source": [
        "## 1] MNIST 데이터 알아보기\n",
        "\n",
        "train용 데이터는 X_train, y_train,<br>\n",
        "validation용 데이터는 X_validation, y_validation,<br>\n",
        "test용 데이터는 X_test, y_test로 저장된 상태입니다.\n",
        "\n",
        "각각이 몇 개의 데이터로 이루어져 있는지,<br>\n",
        "그리고 하나의 데이터는 몇 차원인지 알아 봅시다!\n",
        "\n",
        "X_train, y_train 을 예시로 작성해 두었으니,<br>\n",
        "이를 바탕으로 validation/test 데이터의 shape도 확인해 보세요!"
      ]
    },
    {
      "cell_type": "code",
      "execution_count": 5,
      "metadata": {
        "colab": {
          "base_uri": "https://localhost:8080/"
        },
        "id": "dXtQl39FVXvM",
        "outputId": "0924c7b4-627b-4ea8-c3d2-3f01f5e76389"
      },
      "outputs": [
        {
          "name": "stdout",
          "output_type": "stream",
          "text": [
            "Shape of X_train:       (50000, 784)\n",
            "Shape of y_train:       (50000,)\n",
            "Shape of X_validation:  (10000, 784)\n",
            "Shape of y_validation:  (10000,)\n",
            "Shape of X_test:        (10000, 784)\n",
            "Shape of y_test:        (10000,)\n"
          ]
        }
      ],
      "source": [
        "# .shape을 활용해 각각의 데이터 크기를 확인합니다!\n",
        "\n",
        "# X_train, y_train\n",
        "print(\"Shape of X_train:      \", X_train.shape)\n",
        "print(\"Shape of y_train:      \", y_train.shape)\n",
        "\n",
        "# X_validation, y_validation (DIY!)\n",
        "print(\"Shape of X_validation: \", X_validation.shape)\n",
        "print(\"Shape of y_validation: \", y_validation.shape)\n",
        "\n",
        "# X_test, y_test (DIY!)\n",
        "print(\"Shape of X_test:       \", X_test.shape)\n",
        "print(\"Shape of y_test:       \", y_test.shape)"
      ]
    },
    {
      "cell_type": "code",
      "execution_count": 6,
      "metadata": {
        "id": "xktihIxnXVn9"
      },
      "outputs": [],
      "source": [
        "# Pandas dataframe 형태로 데이터를 변환합니다.\n",
        "\n",
        "train_index = range(0, len(X_train))\n",
        "validation_index = range(len(X_train), len(X_train) + len(X_validation))\n",
        "test_index = range(len(X_train)+len(X_validation),\n",
        "                   len(X_train)+len(X_validation)+len(X_test))\n",
        "\n",
        "X_train = pd.DataFrame(data=X_train, index=train_index)\n",
        "y_train = pd.Series(data=y_train, index=train_index)\n",
        "\n",
        "X_validation = pd.DataFrame(data=X_validation, index=validation_index)\n",
        "y_validation = pd.Series(data=y_validation, index=validation_index)\n",
        "\n",
        "X_test = pd.DataFrame(data=X_test, index=test_index)\n",
        "y_test = pd.Series(data=y_test, index=test_index)"
      ]
    },
    {
      "cell_type": "markdown",
      "metadata": {
        "id": "_Z_ZUZLCRF6z"
      },
      "source": [
        "X는 input, y는 label을 의미합니다.\n",
        "\n",
        "즉, X_train 내의 이미지가 어떤 숫자의 손글씨인지는 y_train에 담겨 있습니다."
      ]
    },
    {
      "cell_type": "markdown",
      "metadata": {
        "id": "2QFdfCcbRY8x"
      },
      "source": [
        "## 2] Label 확인해 보기\n",
        "\n",
        "X_train 내의 첫 5개 Data의 올바른 label을 확인해 봅시다!\n",
        "\n",
        "Hint] Label은 y_train에 담겨 있고,<br>\n",
        ".head()를 통해 데이터의 첫 5개 값을 확인할 수 있습니다."
      ]
    },
    {
      "cell_type": "code",
      "execution_count": 7,
      "metadata": {
        "colab": {
          "base_uri": "https://localhost:8080/"
        },
        "id": "72YcDseDX_zw",
        "outputId": "ecc9c278-03e4-4c9e-fbe1-160d76938c4a"
      },
      "outputs": [
        {
          "data": {
            "text/plain": [
              "0    5\n",
              "1    0\n",
              "2    4\n",
              "3    1\n",
              "4    9\n",
              "dtype: int64"
            ]
          },
          "execution_count": 7,
          "metadata": {},
          "output_type": "execute_result"
        }
      ],
      "source": [
        "# Label 확인해 보기 (DIY!)\n",
        "\n",
        "y_train.head()"
      ]
    },
    {
      "cell_type": "markdown",
      "metadata": {
        "id": "0gNB2klmR7Lo"
      },
      "source": [
        "## 3] X_train 이미지 하나하나 열어 보기\n",
        "\n",
        "아래에 새롭게 정의된 view_digit() 함수를 통해<br>\n",
        "앞서 확인한 Label이 정말 정확한지 확인해 봅시다!"
      ]
    },
    {
      "cell_type": "code",
      "execution_count": 10,
      "metadata": {
        "id": "GiYWKgsMYKAF"
      },
      "outputs": [],
      "source": [
        "# 이미지 시각화 함수 view_digit()\n",
        "def view_digit(example):\n",
        "    label = y_train.loc[example]\n",
        "    image = X_train.loc[example,:].values.reshape([28, 28])\n",
        "    plt.title('Example: %d     /     Label: %d'%(example, label))\n",
        "    plt.imshow(image, cmap=plt.get_cmap('gray'))\n",
        "    plt.show()"
      ]
    },
    {
      "cell_type": "code",
      "execution_count": 11,
      "metadata": {
        "colab": {
          "base_uri": "https://localhost:8080/",
          "height": 281
        },
        "id": "shAnPZAoYdBn",
        "outputId": "e2dfd944-016e-476c-c633-3e2a3aca501e"
      },
      "outputs": [
        {
          "data": {
            "image/png": "[encoded data removed]",
            "text/plain": [
              "<Figure size 432x288 with 1 Axes>"
            ]
          },
          "metadata": {
            "needs_background": "light"
          },
          "output_type": "display_data"
        }
      ],
      "source": [
        "# 첫번째 X_train 이미지 열기\n",
        "\n",
        "# 제대로 함수가 정의됐다면 '5' 를 손으로 쓴 이미지가 보여야 합니다!\n",
        "view_digit(0) # 0번째 train-data를 확인해보자.\n",
        "# image = X\n",
        "# number = y"
      ]
    },
    {
      "cell_type": "markdown",
      "metadata": {
        "id": "cEc3ELOjSUpH"
      },
      "source": [
        "그렇다면 5번째 Data는 뭘까요?"
      ]
    },
    {
      "cell_type": "code",
      "execution_count": 12,
      "metadata": {
        "colab": {
          "base_uri": "https://localhost:8080/",
          "height": 281
        },
        "id": "aEjVov5RSW4c",
        "outputId": "e845386a-dde6-4604-e347-5f1cdefb4aa6"
      },
      "outputs": [
        {
          "data": {
            "image/png": "[encoded data removed]",
            "text/plain": [
              "<Figure size 432x288 with 1 Axes>"
            ]
          },
          "metadata": {
            "needs_background": "light"
          },
          "output_type": "display_data"
        }
      ],
      "source": [
        "# 다섯번째 X_train 이미지 열기 (DIY!)\n",
        "\n",
        "view_digit(4)"
      ]
    },
    {
      "cell_type": "markdown",
      "metadata": {
        "id": "cg9AQjdtbC9H"
      },
      "source": [
        "## 4] PCA\n",
        "\n",
        "PCA를 통해 만들어 낸 주성분 별로 얼마만큼의 분산을 설명하는지 확인할 수 있습니다!\n",
        "\n",
        "해당 데이터는 pca.explained_variance_ratio_ 를 통해 확인할 수 있습니다."
      ]
    },
    {
      "cell_type": "code",
      "execution_count": 13,
      "metadata": {
        "id": "MXe7vpZFbHfN"
      },
      "outputs": [],
      "source": [
        "from sklearn.decomposition import PCA\n",
        "\n",
        "pca = PCA(n_components = 784)"
      ]
    },
    {
      "cell_type": "code",
      "execution_count": 18,
      "metadata": {
        "colab": {
          "base_uri": "https://localhost:8080/",
          "height": 174
        },
        "id": "mMngYRXWcLNo",
        "outputId": "0cd70337-60ed-41d5-b3b2-b7ee7837763e"
      },
      "outputs": [
        {
          "data": {
            "text/html": [
              "\n",
              "  <div id=\"df-ac842b26-b3fb-4264-a151-9873d46e2a8b\">\n",
              "    <div class=\"colab-df-container\">\n",
              "      <div>\n",
              "<style scoped>\n",
              "    .dataframe tbody tr th:only-of-type {\n",
              "        vertical-align: middle;\n",
              "    }\n",
              "\n",
              "    .dataframe tbody tr th {\n",
              "        vertical-align: top;\n",
              "    }\n",
              "\n",
              "    .dataframe thead th {\n",
              "        text-align: right;\n",
              "    }\n",
              "</style>\n",
              "<table border=\"1\" class=\"dataframe\">\n",
              "  <thead>\n",
              "    <tr style=\"text-align: right;\">\n",
              "      <th></th>\n",
              "      <th>0</th>\n",
              "      <th>1</th>\n",
              "      <th>2</th>\n",
              "      <th>3</th>\n",
              "      <th>4</th>\n",
              "      <th>5</th>\n",
              "      <th>6</th>\n",
              "      <th>7</th>\n",
              "      <th>8</th>\n",
              "      <th>9</th>\n",
              "      <th>...</th>\n",
              "      <th>774</th>\n",
              "      <th>775</th>\n",
              "      <th>776</th>\n",
              "      <th>777</th>\n",
              "      <th>778</th>\n",
              "      <th>779</th>\n",
              "      <th>780</th>\n",
              "      <th>781</th>\n",
              "      <th>782</th>\n",
              "      <th>783</th>\n",
              "    </tr>\n",
              "  </thead>\n",
              "  <tbody>\n",
              "    <tr>\n",
              "      <th>0</th>\n",
              "      <td>0.461509</td>\n",
              "      <td>-1.246863</td>\n",
              "      <td>0.046376</td>\n",
              "      <td>-2.151914</td>\n",
              "      <td>-0.247399</td>\n",
              "      <td>-0.925442</td>\n",
              "      <td>0.889334</td>\n",
              "      <td>0.507082</td>\n",
              "      <td>-1.541721</td>\n",
              "      <td>0.689375</td>\n",
              "      <td>...</td>\n",
              "      <td>0.0</td>\n",
              "      <td>0.0</td>\n",
              "      <td>0.0</td>\n",
              "      <td>0.000018</td>\n",
              "      <td>-0.0</td>\n",
              "      <td>0.0</td>\n",
              "      <td>-0.0</td>\n",
              "      <td>-0.0</td>\n",
              "      <td>0.0</td>\n",
              "      <td>-0.0</td>\n",
              "    </tr>\n",
              "  </tbody>\n",
              "</table>\n",
              "<p>1 rows × 784 columns</p>\n",
              "</div>\n",
              "      <button class=\"colab-df-convert\" onclick=\"convertToInteractive('df-ac842b26-b3fb-4264-a151-9873d46e2a8b')\"\n",
              "              title=\"Convert this dataframe to an interactive table.\"\n",
              "              style=\"display:none;\">\n",
              "        \n",
              "  <svg xmlns=\"http://www.w3.org/2000/svg\" height=\"24px\"viewBox=\"0 0 24 24\"\n",
              "       width=\"24px\">\n",
              "    <path d=\"M0 0h24v24H0V0z\" fill=\"none\"/>\n",
              "    <path d=\"M18.56 5.44l.94 2.06.94-2.06 2.06-.94-2.06-.94-.94-2.06-.94 2.06-2.06.94zm-11 1L8.5 8.5l.94-2.06 2.06-.94-2.06-.94L8.5 2.5l-.94 2.06-2.06.94zm10 10l.94 2.06.94-2.06 2.06-.94-2.06-.94-.94-2.06-.94 2.06-2.06.94z\"/><path d=\"M17.41 7.96l-1.37-1.37c-.4-.4-.92-.59-1.43-.59-.52 0-1.04.2-1.43.59L10.3 9.45l-7.72 7.72c-.78.78-.78 2.05 0 2.83L4 21.41c.39.39.9.59 1.41.59.51 0 1.02-.2 1.41-.59l7.78-7.78 2.81-2.81c.8-.78.8-2.07 0-2.86zM5.41 20L4 18.59l7.72-7.72 1.47 1.35L5.41 20z\"/>\n",
              "  </svg>\n",
              "      </button>\n",
              "      \n",
              "  <style>\n",
              "    .colab-df-container {\n",
              "      display:flex;\n",
              "      flex-wrap:wrap;\n",
              "      gap: 12px;\n",
              "    }\n",
              "\n",
              "    .colab-df-convert {\n",
              "      background-color: #E8F0FE;\n",
              "      border: none;\n",
              "      border-radius: 50%;\n",
              "      cursor: pointer;\n",
              "      display: none;\n",
              "      fill: #1967D2;\n",
              "      height: 32px;\n",
              "      padding: 0 0 0 0;\n",
              "      width: 32px;\n",
              "    }\n",
              "\n",
              "    .colab-df-convert:hover {\n",
              "      background-color: #E2EBFA;\n",
              "      box-shadow: 0px 1px 2px rgba(60, 64, 67, 0.3), 0px 1px 3px 1px rgba(60, 64, 67, 0.15);\n",
              "      fill: #174EA6;\n",
              "    }\n",
              "\n",
              "    [theme=dark] .colab-df-convert {\n",
              "      background-color: #3B4455;\n",
              "      fill: #D2E3FC;\n",
              "    }\n",
              "\n",
              "    [theme=dark] .colab-df-convert:hover {\n",
              "      background-color: #434B5C;\n",
              "      box-shadow: 0px 1px 3px 1px rgba(0, 0, 0, 0.15);\n",
              "      filter: drop-shadow(0px 1px 2px rgba(0, 0, 0, 0.3));\n",
              "      fill: #FFFFFF;\n",
              "    }\n",
              "  </style>\n",
              "\n",
              "      <script>\n",
              "        const buttonEl =\n",
              "          document.querySelector('#df-ac842b26-b3fb-4264-a151-9873d46e2a8b button.colab-df-convert');\n",
              "        buttonEl.style.display =\n",
              "          google.colab.kernel.accessAllowed ? 'block' : 'none';\n",
              "\n",
              "        async function convertToInteractive(key) {\n",
              "          const element = document.querySelector('#df-ac842b26-b3fb-4264-a151-9873d46e2a8b');\n",
              "          const dataTable =\n",
              "            await google.colab.kernel.invokeFunction('convertToInteractive',\n",
              "                                                     [key], {});\n",
              "          if (!dataTable) return;\n",
              "\n",
              "          const docLinkHtml = 'Like what you see? Visit the ' +\n",
              "            '<a target=\"_blank\" href=https://colab.research.google.com/notebooks/data_table.ipynb>data table notebook</a>'\n",
              "            + ' to learn more about interactive tables.';\n",
              "          element.innerHTML = '';\n",
              "          dataTable['output_type'] = 'display_data';\n",
              "          await google.colab.output.renderOutput(dataTable, element);\n",
              "          const docLink = document.createElement('div');\n",
              "          docLink.innerHTML = docLinkHtml;\n",
              "          element.appendChild(docLink);\n",
              "        }\n",
              "      </script>\n",
              "    </div>\n",
              "  </div>\n",
              "  "
            ],
            "text/plain": [
              "        0         1         2         3         4         5         6    \\\n",
              "0  0.461509 -1.246863  0.046376 -2.151914 -0.247399 -0.925442  0.889334   \n",
              "\n",
              "        7         8         9    ...  774  775  776       777  778  779  780  \\\n",
              "0  0.507082 -1.541721  0.689375  ...  0.0  0.0  0.0  0.000018 -0.0  0.0 -0.0   \n",
              "\n",
              "   781  782  783  \n",
              "0 -0.0  0.0 -0.0  \n",
              "\n",
              "[1 rows x 784 columns]"
            ]
          },
          "execution_count": 18,
          "metadata": {},
          "output_type": "execute_result"
        }
      ],
      "source": [
        "# 여기서부터 이제 모델 학습이 들어감으로 시간이 걸릴 수 있다.\n",
        "\n",
        "X_train_PCA = pca.fit_transform(X_train)\n",
        "X_train_PCA = pd.DataFrame(data=X_train_PCA, index=train_index)\n",
        "X_train_PCA.head(1)"
      ]
    },
    {
      "cell_type": "code",
      "execution_count": 19,
      "metadata": {
        "colab": {
          "base_uri": "https://localhost:8080/"
        },
        "id": "SmynSJ2EcUPw",
        "outputId": "3a468b00-8fda-4ece-e646-fdce38f20a40"
      },
      "outputs": [
        {
          "name": "stdout",
          "output_type": "stream",
          "text": [
            "전체 784개의 주성분에 의해 설명되는 분산(정보량)의 비율은,  0.9999999871732004 입니다.\n"
          ]
        }
      ],
      "source": [
        "# pca.explained_variance_ratio_\n",
        "# 전체 주성분을 모두 사용하는 경우\n",
        "\n",
        "print(\"전체 784개의 주성분에 의해 설명되는 분산(정보량)의 비율은, \",\n",
        "      sum(pca.explained_variance_ratio_), \"입니다.\") # 거의 1에 가까움."
      ]
    },
    {
      "cell_type": "markdown",
      "metadata": {
        "id": "x0Yk49qAS2FI"
      },
      "source": [
        "이론상, 전체 784개 주성분을 모두 사용하면 전체 정보량 전부를 유지해야 합니다.\n",
        "\n",
        "그렇다면, 그 중 **일부만** 사용할 경우는 어떨까요?\n",
        "\n",
        "아래에 첫 10개의 주성분에 의해 설명되는 정보량의 비율을 계산할 수 있는 코드를 작성해 두었습니다.\n",
        "\n",
        "이를 바탕으로 20개, 50개, 100개, 200개, 300개를 사용할 때는 얼마만큼의 정보량을 보존하는지 확인해 보세요!\n",
        "\n",
        "(importanceOfPrincipalComponents: pca.explained_variance_ratio_를 Pandas data frame으로 변환한 것입니다.)"
      ]
    },
    {
      "cell_type": "code",
      "execution_count": 26,
      "metadata": {
        "colab": {
          "base_uri": "https://localhost:8080/"
        },
        "id": "W4t3flducg8r",
        "outputId": "7a6169b2-3d6f-4c4e-9714-975fc592ffbb"
      },
      "outputs": [
        {
          "name": "stdout",
          "output_type": "stream",
          "text": [
            "첫 10개의 주성분에 의해 설명되는 분산(정보량)의 비율은, [0.48876226] 입니다.\n",
            "첫 20개의 주성분에 의해 설명되는 분산(정보량)의 비율은, [0.6439802] 입니다.\n",
            "첫 50개의 주성분에 의해 설명되는 분산(정보량)의 비율은, [0.8248609] 입니다.\n",
            "첫 100개의 주성분에 의해 설명되는 분산(정보량)의 비율은, [0.9146585] 입니다.\n",
            "첫 200개의 주성분에 의해 설명되는 분산(정보량)의 비율은, [0.9665007] 입니다.\n",
            "첫 300개의 주성분에 의해 설명되는 분산(정보량)의 비율은, [0.9862489] 입니다.\n"
          ]
        }
      ],
      "source": [
        "# If X is not 784,\n",
        "\n",
        "importanceOfPrincipalComponents = pd.DataFrame(data=pca.explained_variance_ratio_)\n",
        "\n",
        "importanceOfPrincipalComponents = importanceOfPrincipalComponents.T\n",
        "\n",
        "print(\"첫 10개의 주성분에 의해 설명되는 분산(정보량)의 비율은,\",\n",
        "      importanceOfPrincipalComponents.loc[:, 0:9].sum(axis=1).values, \"입니다.\")\n",
        "\n",
        "# DIY! (???를 채워 주세요.)\n",
        "print(\"첫 20개의 주성분에 의해 설명되는 분산(정보량)의 비율은,\",\n",
        "      importanceOfPrincipalComponents.loc[:, 0:19].sum(axis=1).values, \"입니다.\")\n",
        "print(\"첫 50개의 주성분에 의해 설명되는 분산(정보량)의 비율은,\",\n",
        "      importanceOfPrincipalComponents.loc[:, 0:49].sum(axis=1).values, \"입니다.\")\n",
        "print(\"첫 100개의 주성분에 의해 설명되는 분산(정보량)의 비율은,\",\n",
        "      importanceOfPrincipalComponents.loc[:, 0:99].sum(axis=1).values, \"입니다.\")\n",
        "print(\"첫 200개의 주성분에 의해 설명되는 분산(정보량)의 비율은,\",\n",
        "      importanceOfPrincipalComponents.loc[:, 0:199].sum(axis=1).values, \"입니다.\")\n",
        "print(\"첫 300개의 주성분에 의해 설명되는 분산(정보량)의 비율은,\",\n",
        "      importanceOfPrincipalComponents.loc[:, 0:299].sum(axis=1).values, \"입니다.\")"
      ]
    },
    {
      "cell_type": "markdown",
      "metadata": {
        "id": "4dygTFFYTlp6"
      },
      "source": [
        "## 5] 주성분 정보량 시각화\n",
        "\n",
        "상위 20개의 주성분이 갖고 있는 정보량은 어느 정도인지,\n",
        "\n",
        "importanceOfPrincipalComponents와<br>\n",
        "sns.barplot() 함수를 이용해 그래프를 그려 보세요!"
      ]
    },
    {
      "cell_type": "code",
      "execution_count": null,
      "metadata": {
        "colab": {
          "base_uri": "https://localhost:8080/",
          "height": 265
        },
        "id": "bc-DPIs1deKL",
        "outputId": "e446c2a0-296b-4951-917e-90892acef0e8"
      },
      "outputs": [
        {
          "data": {
            "image/png": "[encoded data removed]",
            "text/plain": [
              "<Figure size 432x288 with 1 Axes>"
            ]
          },
          "metadata": {
            "needs_background": "light"
          },
          "output_type": "display_data"
        }
      ],
      "source": [
        "# data = ___________________ 부분을 채워 주세요!\n",
        "sns.barplot(\n",
        "    data = importanceOfPrincipalComponents.sort_index(axis = 1).iloc[:,0:20]\n",
        ")\n",
        "plt.show()"
      ]
    },
    {
      "cell_type": "markdown",
      "metadata": {
        "id": "oQIjL1yMT2pT"
      },
      "source": [
        "Optional]<br>\n",
        "이번에는 누적 정보량을 확인해 봅니다.\n",
        "\n",
        "pca.explained_variance_ratio_ 혹은<br>\n",
        "importanceOfPrincipalComponent를 통해\n",
        "\n",
        "누적 정보량을 나타내는<br>\n",
        "CumulativeImportanceOfPrincipalComponents 를 정의해 주세요.\n",
        "\n",
        "그리고 위에서처럼, 상위 20개까지 barplot에 표시해 주세요!"
      ]
    },
    {
      "cell_type": "code",
      "execution_count": null,
      "metadata": {
        "id": "gjpS4_t0ebsD"
      },
      "outputs": [],
      "source": [
        "# 참고!\n",
        "# 저는 아래와 같은 코드를 사용했으며, 더 좋은 방식이 있을 수 있습니다!\n",
        "# ??? 부분을 채워 주세요!\n",
        "\n",
        "cumulative = []\n",
        "temp = 0\n",
        "for i in range(0, 784):\n",
        "    temp += ???\n",
        "    cumulative.append(temp)\n",
        "\n",
        "cumulative = pd.DataFrame(data=cumulative)\n",
        "CumulativeImportanceOfPrincipalComponents = cumulative.T\n"
      ]
    },
    {
      "cell_type": "code",
      "execution_count": null,
      "metadata": {
        "colab": {
          "base_uri": "https://localhost:8080/",
          "height": 265
        },
        "id": "zvNogNDFfI08",
        "outputId": "8f94ebf9-c746-4743-acf7-0e254f8a8016"
      },
      "outputs": [
        {
          "data": {
            "image/png": "[encoded data removed]",
            "text/plain": [
              "<Figure size 432x288 with 1 Axes>"
            ]
          },
          "metadata": {
            "needs_background": "light"
          },
          "output_type": "display_data"
        }
      ],
      "source": [
        "sns.barplot(\n",
        "    data= CumulativeImportanceOfPrincipalComponents.loc[:, 0:19]\n",
        ")\n",
        "plt.show()"
      ]
    },
    {
      "cell_type": "markdown",
      "metadata": {
        "id": "_DyPZVXYEr5m"
      },
      "source": [
        "## 6] Clustering\n",
        "k-means Clustering의 결과를 시각적으로 확인해 봅시다!\n",
        "\n",
        "6]번 문제는 MNIST 데이터를 사용하지 않고,<br>\n",
        "scikit-learn의 make_blobs 함수를 사용해 연습용 데이터를 만들겠습니다.\n",
        "\n",
        "아래의 코드를 실행해 연습용 데이터를 생성하고, 이를 시각화해 주세요!<br>\n",
        "주의] 실행할 때마다 연습용 데이터가 달라지므로, **데이터가 너무 겹쳐 있는 경우 재실행**해 주세요."
      ]
    },
    {
      "cell_type": "code",
      "execution_count": 43,
      "metadata": {
        "colab": {
          "base_uri": "https://localhost:8080/",
          "height": 283
        },
        "id": "K5G3kNjkDMep",
        "outputId": "d8386a1c-e146-4d4f-d2ee-13f6d23c7489"
      },
      "outputs": [
        {
          "data": {
            "text/plain": [
              "<matplotlib.collections.PathCollection at 0x7f4b6a07cdd0>"
            ]
          },
          "execution_count": 43,
          "metadata": {},
          "output_type": "execute_result"
        },
        {
          "data": {
            "image/png": "[encoded data removed]",
            "text/plain": [
              "<Figure size 432x288 with 1 Axes>"
            ]
          },
          "metadata": {
            "needs_background": "light"
          },
          "output_type": "display_data"
        }
      ],
      "source": [
        "import matplotlib.pyplot as plt\n",
        "from sklearn.cluster import KMeans\n",
        "from sklearn.datasets import make_blobs\n",
        "\n",
        "n_center = 5\n",
        "\n",
        "# Example Data 생성\n",
        "X, y = make_blobs(n_samples=1000, centers=n_center, cluster_std=1.0)\n",
        "plt.scatter(X[:, 0], X[:, 1], marker='.')"
      ]
    },
    {
      "cell_type": "markdown",
      "metadata": {
        "id": "8f35Uhe0VZey"
      },
      "source": [
        "아래의 코드를 실행해 Clustering을 적용해 봅니다."
      ]
    },
    {
      "cell_type": "code",
      "execution_count": 44,
      "metadata": {
        "colab": {
          "base_uri": "https://localhost:8080/"
        },
        "id": "nG1GaaVvExuc",
        "outputId": "f337629e-b85e-48c4-9070-613af9dfdaff"
      },
      "outputs": [
        {
          "name": "stdout",
          "output_type": "stream",
          "text": [
            "k_means_labels :  [0 3 0 4 2 2 2 1 0 2 1 2 4 0 3 4 3 2 1 2 2 4 0 2 1 4 4 2 2 1 2 2 1 3 3 3 3\n",
            " 0 4 4 3 0 1 3 3 4 0 0 0 4 1 2 0 3 1 4 1 0 3 0 0 0 3 3 2 3 1 1 1 4 4 0 1 0\n",
            " 0 1 1 2 3 0 0 4 3 3 2 1 4 0 3 0 3 1 2 4 1 3 3 4 1 0 4 1 0 3 2 2 3 1 0 3 4\n",
            " 2 3 0 4 0 2 4 4 1 2 0 4 0 1 1 4 3 4 2 0 1 0 1 3 3 0 4 1 1 1 0 1 1 2 1 1 1\n",
            " 4 2 0 4 2 4 2 3 0 1 1 3 3 0 3 0 1 0 3 4 0 2 2 0 0 0 3 0 1 4 1 4 0 0 2 3 1\n",
            " 1 1 0 2 2 4 1 4 3 4 1 0 2 2 2 2 1 1 1 0 3 3 4 3 3 1 4 1 2 1 2 2 1 0 2 1 4\n",
            " 2 4 3 3 0 2 1 3 1 2 2 2 1 1 2 3 0 4 4 3 1 1 0 0 1 3 2 0 1 4 3 3 0 1 0 3 3\n",
            " 1 0 1 2 3 3 0 2 3 4 4 1 4 3 4 0 0 4 1 0 0 0 1 2 4 1 0 0 4 3 0 2 2 4 0 3 3\n",
            " 1 3 1 4 4 0 1 2 0 3 1 0 1 0 4 1 4 3 4 1 2 3 3 2 1 3 0 0 3 0 1 3 3 4 2 2 1\n",
            " 0 0 0 1 3 1 0 4 3 3 4 1 3 0 2 2 1 4 3 3 2 1 3 4 0 0 0 4 0 4 4 4 4 1 3 1 2\n",
            " 2 2 3 0 2 3 3 2 3 2 3 3 3 4 0 3 4 4 2 4 2 4 1 0 1 2 2 3 3 0 1 3 4 0 1 0 3\n",
            " 0 3 3 4 3 0 2 3 4 4 2 3 3 3 0 1 4 2 2 2 0 2 1 4 0 0 0 2 4 4 0 0 2 2 4 1 4\n",
            " 2 0 0 2 3 0 4 2 2 3 3 2 3 4 1 2 0 3 0 3 4 3 2 3 0 3 3 3 4 2 0 4 1 2 3 4 4\n",
            " 1 0 2 2 1 3 1 2 0 4 2 4 4 3 0 3 1 3 3 0 2 2 1 0 1 1 0 2 0 4 2 1 0 3 3 1 0\n",
            " 2 4 3 4 4 0 1 0 2 1 1 4 2 2 3 0 2 2 0 2 3 3 1 4 0 4 0 3 0 1 2 1 4 0 2 2 3\n",
            " 3 4 2 4 1 4 4 1 3 2 0 0 1 1 3 3 4 3 4 3 3 2 1 2 0 4 0 3 1 0 4 1 1 3 4 1 2\n",
            " 2 4 3 2 2 4 0 1 1 4 1 1 3 1 4 0 1 1 0 4 4 2 0 3 1 0 1 3 4 0 0 3 4 0 4 4 2\n",
            " 0 0 4 1 2 4 0 1 0 3 2 0 4 4 3 3 0 4 1 0 3 0 0 4 1 4 4 4 4 1 0 3 3 0 2 2 4\n",
            " 0 1 2 0 2 1 1 4 2 4 4 3 4 1 1 2 3 4 2 2 2 2 1 1 1 0 3 2 2 3 2 1 1 4 4 2 2\n",
            " 4 0 2 2 0 0 1 4 4 3 2 2 0 0 4 1 2 4 1 2 2 1 1 3 3 0 4 0 3 2 0 1 0 4 2 3 3\n",
            " 4 3 0 3 3 4 0 4 3 3 2 2 1 2 1 3 2 1 3 4 3 3 2 2 0 0 4 0 0 3 3 2 2 3 2 1 2\n",
            " 2 1 2 0 3 3 2 4 2 0 3 4 1 1 0 2 1 2 1 1 1 0 4 3 2 2 1 0 0 0 1 0 1 1 2 4 3\n",
            " 0 3 1 1 0 0 0 3 3 2 1 3 3 0 2 0 1 4 3 4 4 0 1 0 0 1 2 1 4 1 0 2 3 2 1 1 0\n",
            " 3 2 1 2 3 3 2 3 4 1 0 2 1 0 1 3 2 4 1 3 3 3 1 2 4 0 2 4 2 2 3 3 0 4 3 4 1\n",
            " 4 0 4 3 0 4 2 4 2 1 1 4 4 1 2 1 3 4 1 1 2 2 3 4 3 4 3 4 2 4 3 4 1 2 4 2 4\n",
            " 1 4 0 4 0 0 4 3 1 2 3 4 4 0 1 2 4 4 3 2 0 2 4 0 3 0 0 0 2 1 2 4 0 1 4 4 0\n",
            " 0 2 4 1 4 4 2 0 1 2 4 0 2 2 2 3 4 1 4 2 3 0 4 1 2 1 3 2 4 2 3 3 3 1 4 4 2\n",
            " 2]\n",
            "k_means_cluster_centers :  [[ 8.89166912  9.43687197]\n",
            " [-0.65250423  1.92504844]\n",
            " [ 2.06246327 -1.81925203]\n",
            " [-6.40535787  4.83727682]\n",
            " [ 5.06839652  9.5840283 ]]\n"
          ]
        }
      ],
      "source": [
        "# Cluster 생성\n",
        "\n",
        "k_means = KMeans(n_clusters=n_center, n_init=12)\n",
        "k_means.fit(X)\n",
        "\n",
        "k_means_labels = k_means.labels_\n",
        "print('k_means_labels : ', k_means_labels)\n",
        "\n",
        "k_means_cluster_centers = k_means.cluster_centers_\n",
        "print('k_means_cluster_centers : ', k_means_cluster_centers)"
      ]
    },
    {
      "cell_type": "markdown",
      "metadata": {
        "id": "l10AAagiVd_E"
      },
      "source": [
        "마지막으로, 아래의 코드를 실행해<br>\n",
        "k-means clustering의 결과물을 시각화해 주세요!"
      ]
    },
    {
      "cell_type": "code",
      "execution_count": 45,
      "metadata": {
        "colab": {
          "base_uri": "https://localhost:8080/",
          "height": 268
        },
        "id": "AS7tyJXRE9mM",
        "outputId": "972cb1cb-e38b-4129-dd3c-5b917455c494"
      },
      "outputs": [
        {
          "data": {
            "image/png": "[encoded data removed]",
            "text/plain": [
              "<Figure size 432x288 with 1 Axes>"
            ]
          },
          "metadata": {},
          "output_type": "display_data"
        }
      ],
      "source": [
        "# 지정된 크기로 초기화\n",
        "fig = plt.figure(figsize=(6, 4))\n",
        "\n",
        "# 레이블 수에 따라 색상 배열 생성, 고유한 색상을 얻기 위해 set(k_means_labels) 설정\n",
        "colors = plt.cm.Spectral(np.linspace(0, 1, len(set(k_means_labels))))\n",
        "\n",
        "# plot 생성\n",
        "ax = fig.add_subplot(1, 1, 1)\n",
        "\n",
        "for k, col in zip(range(n_center), colors):\n",
        "    my_members = (k_means_labels == k)\n",
        "\n",
        "    # 중심 정의\n",
        "    cluster_center = k_means_cluster_centers[k]\n",
        "\n",
        "    # 중심 그리기\n",
        "    ax.plot(X[my_members, 0], X[my_members, 1], 'w', markerfacecolor=col, marker='.')\n",
        "    ax.plot(cluster_center[0], cluster_center[1], 'o', markerfacecolor=col, markeredgecolor='k', markersize=6)\n",
        "\n",
        "ax.set_title('K-Means')\n",
        "ax.set_xticks(())\n",
        "ax.set_yticks(())\n",
        "plt.show()"
      ]
    },
    {
      "cell_type": "markdown",
      "metadata": {
        "id": "xkI49GsiVjz2"
      },
      "source": [
        "-- 수고하셨습니다 --"
      ]
    }
  ],
  "metadata": {
    "colab": {
      "collapsed_sections": [],
      "name": "[0811]_Unsupervised_Learning_과제.ipynb",
      "provenance": []
    },
    "kernelspec": {
      "display_name": "Python 3.9.12 ('base')",
      "language": "python",
      "name": "python3"
    },
    "language_info": {
      "codemirror_mode": {
        "name": "ipython",
        "version": 3
      },
      "file_extension": ".py",
      "mimetype": "text/x-python",
      "name": "python",
      "nbconvert_exporter": "python",
      "pygments_lexer": "ipython3",
      "version": "3.9.12"
    },
    "vscode": {
      "interpreter": {
        "hash": "90773d48d8f3de564d575445eb81bd5f5e8cf63be66c049c71e8d5c51598a4f0"
      }
    }
  },
  "nbformat": 4,
  "nbformat_minor": 0
}
