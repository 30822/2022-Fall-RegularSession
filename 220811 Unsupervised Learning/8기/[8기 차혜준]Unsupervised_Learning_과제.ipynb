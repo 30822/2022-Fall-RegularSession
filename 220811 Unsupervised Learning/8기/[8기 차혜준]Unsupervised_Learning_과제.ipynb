{
  "nbformat": 4,
  "nbformat_minor": 0,
  "metadata": {
    "colab": {
      "name": "[8기 차혜준]Unsupervised_Learning_과제.ipynb",
      "provenance": [],
      "collapsed_sections": []
    },
    "kernelspec": {
      "name": "python3",
      "display_name": "Python 3"
    },
    "language_info": {
      "name": "python"
    }
  },
  "cells": [
    {
      "cell_type": "markdown",
      "source": [
        "# 정규세션: Unsupervised Learing 과제"
      ],
      "metadata": {
        "id": "Xf7gDXF7Ufn4"
      }
    },
    {
      "cell_type": "markdown",
      "source": [
        "MNIST 데이터와 PCA 기법을 활용해 차원 축소에 대해 알아 봅시다!"
      ],
      "metadata": {
        "id": "HC4mC3MAbNbx"
      }
    },
    {
      "cell_type": "code",
      "source": [
        "# 메인 라이브러리 불러오기\n",
        "import numpy as np\n",
        "import pandas as pd\n",
        "import os\n",
        "import time\n",
        "import pickle\n",
        "import gzip\n",
        "\n",
        "# 시각화 관련 라이브러리 불러오기\n",
        "import matplotlib.pyplot as plt\n",
        "import seaborn as sns\n",
        "color = sns.color_palette()\n",
        "import matplotlib as mpl\n",
        "\n",
        "%matplotlib inline\n",
        "\n",
        "# 데이터 준비, 모델 평가 관련 라이브러리\n",
        "from sklearn import preprocessing as ppp\n",
        "from scipy.stats import pearsonr\n",
        "from numpy.testing import assert_array_almost_equal\n",
        "from sklearn.model_selection import train_test_split\n",
        "from sklearn.model_selection import StratifiedKFold\n",
        "from sklearn.metrics import log_loss\n",
        "from sklearn.metrics import precision_recall_curve, average_precision_score\n",
        "from sklearn.metrics import roc_curve, auc, roc_auc_score\n",
        "from sklearn.metrics import confusion_matrix, classification_report\n",
        "\n",
        "# 알고리즘 관련 라이브러리 불러오기\n",
        "from sklearn.linear_model import LogisticRegression\n",
        "from sklearn.ensemble import RandomForestClassifier\n",
        "import xgboost as xgb\n",
        "import lightgbm as lgb"
      ],
      "metadata": {
        "id": "WO4qu-6_UkSQ"
      },
      "execution_count": null,
      "outputs": []
    },
    {
      "cell_type": "code",
      "source": [
        "# MNIST data load\n",
        "\n",
        "current_path = os.getcwd()\n",
        "file = os.path.sep.join(['','mnist.pkl.gz'])\n",
        "\n",
        "# 본인의 구글 드라이브(현재 디렉토리)에 mnist.pkl.gz 파일이 올라가 있어야 함!\n",
        "# colab의 경우 content 폴더 바로 아래에 들어가면 됨\n",
        "\n",
        "f = gzip.open(current_path+file, 'rb')\n",
        "\n",
        "train_set, validation_set, test_set = pickle.load(f, encoding='latin1')\n",
        "f.close()\n",
        "\n",
        "X_train, y_train = train_set[0], train_set[1]\n",
        "X_validation, y_validation = validation_set[0], validation_set[1]\n",
        "X_test, y_test = test_set[0], test_set[1]"
      ],
      "metadata": {
        "id": "qXfUDDkCVM47"
      },
      "execution_count": null,
      "outputs": []
    },
    {
      "cell_type": "markdown",
      "source": [
        "## 1] MNIST 데이터 알아보기\n",
        "\n",
        "train용 데이터는 X_train, y_train,<br>\n",
        "validation용 데이터는 X_validation, y_validation,<br>\n",
        "test용 데이터는 X_test, y_test로 저장된 상태입니다.\n",
        "\n",
        "각각이 몇 개의 데이터로 이루어져 있는지,<br>\n",
        "그리고 하나의 데이터는 몇 차원인지 알아 봅시다!\n",
        "\n",
        "X_train, y_train 을 예시로 작성해 두었으니,<br>\n",
        "이를 바탕으로 validation/test 데이터의 shape도 확인해 보세요!"
      ],
      "metadata": {
        "id": "SRnLAjzWPhaa"
      }
    },
    {
      "cell_type": "code",
      "source": [
        "# .shape을 활용해 각각의 데이터 크기를 확인합니다!\n",
        "\n",
        "# X_train, y_train\n",
        "print(\"Shape of X_train:      \", X_train.shape)\n",
        "print(\"Shape of y_train:      \", y_train.shape)\n",
        "\n",
        "# X_validation, y_validation (DIY!)\n",
        "print(\"Shape of X_validation: \", X_validation.shape)\n",
        "print(\"Shape of y_validation: \", y_validation.shape)\n",
        "\n",
        "# X_test, y_test (DIY!)\n",
        "print(\"Shape of X_test:       \", X_test.shape)\n",
        "print(\"Shape of y_test:       \", y_train.shape)"
      ],
      "metadata": {
        "colab": {
          "base_uri": "https://localhost:8080/"
        },
        "id": "dXtQl39FVXvM",
        "outputId": "de49de86-cfc3-4271-a483-bc6dc72d3694"
      },
      "execution_count": null,
      "outputs": [
        {
          "output_type": "stream",
          "name": "stdout",
          "text": [
            "Shape of X_train:       (50000, 784)\n",
            "Shape of y_train:       (50000,)\n",
            "Shape of X_validation:  (10000, 784)\n",
            "Shape of y_validation:  (10000,)\n",
            "Shape of X_test:        (10000, 784)\n",
            "Shape of y_test:        (50000,)\n"
          ]
        }
      ]
    },
    {
      "cell_type": "code",
      "source": [
        "# Pandas dataframe 형태로 데이터를 변환합니다.\n",
        "\n",
        "train_index = range(0, len(X_train))\n",
        "validation_index = range(len(X_train), len(X_train) + len(X_validation))\n",
        "test_index = range(len(X_train)+len(X_validation),\n",
        "                   len(X_train)+len(X_validation)+len(X_test))\n",
        "\n",
        "X_train = pd.DataFrame(data=X_train, index=train_index)\n",
        "y_train = pd.Series(data=y_train, index=train_index)\n",
        "\n",
        "X_validation = pd.DataFrame(data=X_validation, index=validation_index)\n",
        "y_validation = pd.Series(data=y_validation, index=validation_index)\n",
        "\n",
        "X_test = pd.DataFrame(data=X_test, index=test_index)\n",
        "y_test = pd.Series(data=y_test, index=test_index)"
      ],
      "metadata": {
        "id": "xktihIxnXVn9"
      },
      "execution_count": null,
      "outputs": []
    },
    {
      "cell_type": "markdown",
      "source": [
        "X는 input, y는 label을 의미합니다.\n",
        "\n",
        "즉, X_train 내의 이미지가 어떤 숫자의 손글씨인지는 y_train에 담겨 있습니다."
      ],
      "metadata": {
        "id": "_Z_ZUZLCRF6z"
      }
    },
    {
      "cell_type": "markdown",
      "source": [
        "## 2] Label 확인해 보기\n",
        "\n",
        "X_train 내의 첫 5개 Data의 올바른 label을 확인해 봅시다!\n",
        "\n",
        "Hint] Label은 y_train에 담겨 있고,<br>\n",
        ".head()를 통해 데이터의 첫 5개 값을 확인할 수 있습니다."
      ],
      "metadata": {
        "id": "2QFdfCcbRY8x"
      }
    },
    {
      "cell_type": "code",
      "source": [
        "# Label 확인해 보기 (DIY!)\n",
        "\n",
        "y_train.head()"
      ],
      "metadata": {
        "id": "72YcDseDX_zw",
        "colab": {
          "base_uri": "https://localhost:8080/"
        },
        "outputId": "08d7ed92-428e-4854-eb25-9e6754d8e612"
      },
      "execution_count": null,
      "outputs": [
        {
          "output_type": "execute_result",
          "data": {
            "text/plain": [
              "0    5\n",
              "1    0\n",
              "2    4\n",
              "3    1\n",
              "4    9\n",
              "dtype: int64"
            ]
          },
          "metadata": {},
          "execution_count": 12
        }
      ]
    },
    {
      "cell_type": "markdown",
      "source": [
        "## 3] X_train 이미지 하나하나 열어 보기\n",
        "\n",
        "아래에 새롭게 정의된 view_digit() 함수를 통해<br>\n",
        "앞서 확인한 Label이 정말 정확한지 확인해 봅시다!"
      ],
      "metadata": {
        "id": "0gNB2klmR7Lo"
      }
    },
    {
      "cell_type": "code",
      "source": [
        "# 이미지 시각화 함수 view_digit()\n",
        "def view_digit(example):\n",
        "    label = y_train.loc[example]\n",
        "    image = X_train.loc[example,:].values.reshape([28, 28])\n",
        "    plt.title('Example: %d     /     Label: %d'%(example, label))\n",
        "    plt.imshow(image, cmap=plt.get_cmap('gray'))\n",
        "    plt.show()"
      ],
      "metadata": {
        "id": "GiYWKgsMYKAF"
      },
      "execution_count": null,
      "outputs": []
    },
    {
      "cell_type": "code",
      "source": [
        "# 첫번째 X_train 이미지 열기\n",
        "\n",
        "# 제대로 함수가 정의됐다면 '5' 를 손으로 쓴 이미지가 보여야 합니다!\n",
        "view_digit(0)"
      ],
      "metadata": {
        "colab": {
          "base_uri": "https://localhost:8080/",
          "height": 281
        },
        "id": "shAnPZAoYdBn",
        "outputId": "5105646c-ad20-4fdb-8810-287848d73558"
      },
      "execution_count": null,
      "outputs": [
        {
          "output_type": "display_data",
          "data": {
            "text/plain": [
              "<Figure size 432x288 with 1 Axes>"
            ],
            "image/png": "[encoded data removed]"
          },
          "metadata": {
            "needs_background": "light"
          }
        }
      ]
    },
    {
      "cell_type": "markdown",
      "source": [
        "그렇다면 5번째 Data는 뭘까요?"
      ],
      "metadata": {
        "id": "cEc3ELOjSUpH"
      }
    },
    {
      "cell_type": "code",
      "source": [
        "# 다섯번째 X_train 이미지 열기 (DIY!)\n",
        "\n",
        "view_digit(4)"
      ],
      "metadata": {
        "id": "aEjVov5RSW4c",
        "colab": {
          "base_uri": "https://localhost:8080/",
          "height": 281
        },
        "outputId": "7e36db3a-dc1f-488e-e18d-4117290aaafb"
      },
      "execution_count": null,
      "outputs": [
        {
          "output_type": "display_data",
          "data": {
            "text/plain": [
              "<Figure size 432x288 with 1 Axes>"
            ],
            "image/png": "[encoded data removed]"
          },
          "metadata": {
            "needs_background": "light"
          }
        }
      ]
    },
    {
      "cell_type": "markdown",
      "source": [
        "## 4] PCA\n",
        "\n",
        "PCA를 통해 만들어 낸 주성분 별로 얼마만큼의 분산을 설명하는지 확인할 수 있습니다!\n",
        "\n",
        "해당 데이터는 pca.explained_variance_ratio_ 를 통해 확인할 수 있습니다."
      ],
      "metadata": {
        "id": "cg9AQjdtbC9H"
      }
    },
    {
      "cell_type": "code",
      "source": [
        "from sklearn.decomposition import PCA\n",
        "\n",
        "pca = PCA(n_components = 784)"
      ],
      "metadata": {
        "id": "MXe7vpZFbHfN"
      },
      "execution_count": null,
      "outputs": []
    },
    {
      "cell_type": "code",
      "source": [
        "X_train_PCA = pca.fit_transform(X_train)\n",
        "X_train_PCA = pd.DataFrame(data=X_train_PCA, index=train_index)"
      ],
      "metadata": {
        "id": "mMngYRXWcLNo"
      },
      "execution_count": null,
      "outputs": []
    },
    {
      "cell_type": "code",
      "source": [
        "# pca.explained_variance_ratio_\n",
        "# 전체 주성분을 모두 사용하는 경우\n",
        "\n",
        "print(\"전체 784개의 주성분에 의해 설명되는 분산(정보량)의 비율은, \",\n",
        "      sum(pca.explained_variance_ratio_), \"입니다.\")"
      ],
      "metadata": {
        "id": "SmynSJ2EcUPw",
        "colab": {
          "base_uri": "https://localhost:8080/"
        },
        "outputId": "55085968-52d8-4990-ca45-27350efba544"
      },
      "execution_count": null,
      "outputs": [
        {
          "output_type": "stream",
          "name": "stdout",
          "text": [
            "전체 784개의 주성분에 의해 설명되는 분산(정보량)의 비율은,  0.9999999871732004 입니다.\n"
          ]
        }
      ]
    },
    {
      "cell_type": "markdown",
      "source": [
        "이론상, 전체 784개 주성분을 모두 사용하면 전체 정보량 전부를 유지해야 합니다.\n",
        "\n",
        "그렇다면, 그 중 **일부만** 사용할 경우는 어떨까요?\n",
        "\n",
        "아래에 첫 10개의 주성분에 의해 설명되는 정보량의 비율을 계산할 수 있는 코드를 작성해 두었습니다.\n",
        "\n",
        "이를 바탕으로 20개, 50개, 100개, 200개, 300개를 사용할 때는 얼마만큼의 정보량을 보존하는지 확인해 보세요!\n",
        "\n",
        "(importanceOfPrincipalComponents: pca.explained_variance_ratio_를 Pandas data frame으로 변환한 것입니다.)"
      ],
      "metadata": {
        "id": "x0Yk49qAS2FI"
      }
    },
    {
      "cell_type": "code",
      "source": [
        "# If X is not 784,\n",
        "\n",
        "importanceOfPrincipalComponents = pd.DataFrame(data=pca.explained_variance_ratio_)\n",
        "\n",
        "importanceOfPrincipalComponents = importanceOfPrincipalComponents.T\n",
        "\n",
        "print(\"첫 10개의 주성분에 의해 설명되는 분산(정보량)의 비율은,\",\n",
        "      importanceOfPrincipalComponents.loc[:, 0:9].sum(axis=1).values, \"입니다.\")\n",
        "\n",
        "# DIY! (???를 채워 주세요.)\n",
        "print(\"첫 20개의 주성분에 의해 설명되는 분산(정보량)의 비율은,\",\n",
        "      importanceOfPrincipalComponents.loc[:, 0:19].sum(axis=1).values, \"입니다.\")\n",
        "print(\"첫 50개의 주성분에 의해 설명되는 분산(정보량)의 비율은,\",\n",
        "      importanceOfPrincipalComponents.loc[:, 0:49].sum(axis=1).values, \"입니다.\")\n",
        "print(\"첫 100개의 주성분에 의해 설명되는 분산(정보량)의 비율은,\",\n",
        "      importanceOfPrincipalComponents.loc[:, 0:99].sum(axis=1).values, \"입니다.\")\n",
        "print(\"첫 200개의 주성분에 의해 설명되는 분산(정보량)의 비율은,\",\n",
        "      importanceOfPrincipalComponents.loc[:, 0:199].sum(axis=1).values, \"입니다.\")\n",
        "print(\"첫 300개의 주성분에 의해 설명되는 분산(정보량)의 비율은,\",\n",
        "      importanceOfPrincipalComponents.loc[:, 0:299].sum(axis=1).values, \"입니다.\")"
      ],
      "metadata": {
        "id": "W4t3flducg8r",
        "colab": {
          "base_uri": "https://localhost:8080/"
        },
        "outputId": "76e71806-9651-496a-b13c-e3a4443de7d7"
      },
      "execution_count": null,
      "outputs": [
        {
          "output_type": "stream",
          "name": "stdout",
          "text": [
            "첫 10개의 주성분에 의해 설명되는 분산(정보량)의 비율은, [0.48876226] 입니다.\n",
            "첫 20개의 주성분에 의해 설명되는 분산(정보량)의 비율은, [0.6439802] 입니다.\n",
            "첫 50개의 주성분에 의해 설명되는 분산(정보량)의 비율은, [0.8248609] 입니다.\n",
            "첫 100개의 주성분에 의해 설명되는 분산(정보량)의 비율은, [0.9146585] 입니다.\n",
            "첫 200개의 주성분에 의해 설명되는 분산(정보량)의 비율은, [0.9665007] 입니다.\n",
            "첫 300개의 주성분에 의해 설명되는 분산(정보량)의 비율은, [0.9862489] 입니다.\n"
          ]
        }
      ]
    },
    {
      "cell_type": "markdown",
      "source": [
        "## 5] 주성분 정보량 시각화\n",
        "\n",
        "상위 20개의 주성분이 갖고 있는 정보량은 어느 정도인지,\n",
        "\n",
        "importanceOfPrincipalComponents와<br>\n",
        "sns.barplot() 함수를 이용해 그래프를 그려 보세요!"
      ],
      "metadata": {
        "id": "4dygTFFYTlp6"
      }
    },
    {
      "cell_type": "code",
      "source": [
        "# data = ___________________ 부분을 채워 주세요!\n",
        "sns.barplot(\n",
        "    data= importanceOfPrincipalComponents.loc[:, 0:19]\n",
        ")\n",
        "plt.show()"
      ],
      "metadata": {
        "id": "bc-DPIs1deKL",
        "colab": {
          "base_uri": "https://localhost:8080/",
          "height": 265
        },
        "outputId": "c0006ae6-0e82-4542-ca09-944d8db42a95"
      },
      "execution_count": null,
      "outputs": [
        {
          "output_type": "display_data",
          "data": {
            "text/plain": [
              "<Figure size 432x288 with 1 Axes>"
            ],
            "image/png": "[encoded data removed]"
          },
          "metadata": {
            "needs_background": "light"
          }
        }
      ]
    },
    {
      "cell_type": "markdown",
      "source": [
        "Optional]<br>\n",
        "이번에는 누적 정보량을 확인해 봅니다.\n",
        "\n",
        "pca.explained_variance_ratio_ 혹은<br>\n",
        "importanceOfPrincipalComponent를 통해\n",
        "\n",
        "누적 정보량을 나타내는<br>\n",
        "CumulativeImportanceOfPrincipalComponents 를 정의해 주세요.\n",
        "\n",
        "그리고 위에서처럼, 상위 20개까지 barplot에 표시해 주세요!"
      ],
      "metadata": {
        "id": "oQIjL1yMT2pT"
      }
    },
    {
      "cell_type": "code",
      "source": [
        "# 참고!\n",
        "# 저는 아래와 같은 코드를 사용했으며, 더 좋은 방식이 있을 수 있습니다!\n",
        "# ??? 부분을 채워 주세요!\n",
        "\n",
        "cumulative = []\n",
        "temp = 0\n",
        "for i in range(0, 784):\n",
        "    temp += pca.explained_variance_ratio_[i]\n",
        "    cumulative.append(temp)\n",
        "\n",
        "cumulative = pd.DataFrame(data=cumulative)\n",
        "CumulativeImportanceOfPrincipalComponents = cumulative.T\n"
      ],
      "metadata": {
        "id": "gjpS4_t0ebsD"
      },
      "execution_count": null,
      "outputs": []
    },
    {
      "cell_type": "code",
      "source": [
        "sns.barplot(\n",
        "    data= CumulativeImportanceOfPrincipalComponents.loc[:, 0:19]\n",
        ")\n",
        "plt.show()"
      ],
      "metadata": {
        "id": "zvNogNDFfI08",
        "colab": {
          "base_uri": "https://localhost:8080/",
          "height": 265
        },
        "outputId": "8f94ebf9-c746-4743-acf7-0e254f8a8016"
      },
      "execution_count": null,
      "outputs": [
        {
          "output_type": "display_data",
          "data": {
            "text/plain": [
              "<Figure size 432x288 with 1 Axes>"
            ],
            "image/png": "[encoded data removed]"
          },
          "metadata": {
            "needs_background": "light"
          }
        }
      ]
    },
    {
      "cell_type": "markdown",
      "source": [
        "## 6] Clustering\n",
        "k-means Clustering의 결과를 시각적으로 확인해 봅시다!\n",
        "\n",
        "6]번 문제는 MNIST 데이터를 사용하지 않고,<br>\n",
        "scikit-learn의 make_blobs 함수를 사용해 연습용 데이터를 만들겠습니다.\n",
        "\n",
        "아래의 코드를 실행해 연습용 데이터를 생성하고, 이를 시각화해 주세요!<br>\n",
        "주의] 실행할 때마다 연습용 데이터가 달라지므로, **데이터가 너무 겹쳐 있는 경우 재실행**해 주세요."
      ],
      "metadata": {
        "id": "_DyPZVXYEr5m"
      }
    },
    {
      "cell_type": "code",
      "source": [
        "import matplotlib.pyplot as plt\n",
        "from sklearn.cluster import KMeans\n",
        "from sklearn.datasets import make_blobs\n",
        "\n",
        "n_center = 5\n",
        "\n",
        "# Example Data 생성\n",
        "X, y = make_blobs(n_samples=1000, centers=n_center, cluster_std=1.0)\n",
        "plt.scatter(X[:, 0], X[:, 1], marker='.')"
      ],
      "metadata": {
        "colab": {
          "base_uri": "https://localhost:8080/",
          "height": 283
        },
        "id": "K5G3kNjkDMep",
        "outputId": "be96a4cd-ed0a-4a43-f412-c35118858826"
      },
      "execution_count": null,
      "outputs": [
        {
          "output_type": "execute_result",
          "data": {
            "text/plain": [
              "<matplotlib.collections.PathCollection at 0x7f8cbfa62810>"
            ]
          },
          "metadata": {},
          "execution_count": 35
        },
        {
          "output_type": "display_data",
          "data": {
            "text/plain": [
              "<Figure size 432x288 with 1 Axes>"
            ],
            "image/png": "[encoded data removed]"
          },
          "metadata": {
            "needs_background": "light"
          }
        }
      ]
    },
    {
      "cell_type": "markdown",
      "source": [
        "아래의 코드를 실행해 Clustering을 적용해 봅니다."
      ],
      "metadata": {
        "id": "8f35Uhe0VZey"
      }
    },
    {
      "cell_type": "code",
      "source": [
        "# Cluster 생성\n",
        "\n",
        "k_means = KMeans(n_clusters=n_center, n_init=12)\n",
        "k_means.fit(X)\n",
        "\n",
        "k_means_labels = k_means.labels_\n",
        "print('k_means_labels : ', k_means_labels)\n",
        "\n",
        "k_means_cluster_centers = k_means.cluster_centers_\n",
        "print('k_means_cluster_centers : ', k_means_cluster_centers)"
      ],
      "metadata": {
        "colab": {
          "base_uri": "https://localhost:8080/"
        },
        "id": "nG1GaaVvExuc",
        "outputId": "b1706432-2879-4a98-e22d-7fbcd0681b72"
      },
      "execution_count": null,
      "outputs": [
        {
          "output_type": "stream",
          "name": "stdout",
          "text": [
            "k_means_labels :  [4 4 2 4 3 3 3 2 0 4 3 4 3 2 0 1 2 4 0 1 3 2 0 4 2 0 2 4 4 2 2 4 0 0 1 3 0\n",
            " 4 4 0 4 1 1 3 2 2 1 1 4 1 4 4 4 4 1 0 4 0 0 4 2 0 1 0 3 3 3 3 2 0 1 0 4 1\n",
            " 4 0 2 2 4 4 3 2 0 4 3 2 0 3 0 1 0 3 0 1 4 4 0 0 1 0 4 1 4 4 3 4 3 1 0 0 1\n",
            " 3 4 2 0 0 1 4 4 3 0 3 2 4 2 1 3 4 2 0 4 0 4 1 1 1 2 4 1 0 2 0 1 1 0 2 0 4\n",
            " 0 1 0 3 1 4 0 4 4 2 3 0 2 4 1 2 4 1 0 2 1 1 4 2 0 3 1 3 3 0 3 3 0 1 2 0 4\n",
            " 4 3 4 3 4 4 0 0 1 3 3 2 0 0 0 2 2 1 1 2 4 1 0 1 1 3 4 2 2 0 0 1 0 4 3 3 4\n",
            " 1 1 4 4 3 1 2 4 2 4 0 1 4 3 4 0 2 0 1 3 4 1 1 1 4 3 0 3 1 3 1 4 4 3 4 0 4\n",
            " 4 4 0 2 3 2 0 4 2 1 0 3 4 3 0 1 3 3 4 2 0 2 2 1 0 3 0 0 3 3 3 2 3 1 0 1 2\n",
            " 3 1 3 2 3 3 3 1 4 1 2 0 2 2 4 0 3 4 1 2 3 1 1 4 1 4 3 3 3 2 3 2 4 4 0 2 2\n",
            " 2 0 4 1 4 4 1 0 2 3 4 4 0 3 1 0 0 4 1 0 1 0 4 4 4 2 2 0 3 2 4 2 1 2 4 4 2\n",
            " 0 0 0 2 2 1 0 1 0 4 2 1 2 3 1 4 3 0 4 4 3 2 4 1 3 3 4 2 1 1 3 2 3 0 2 3 4\n",
            " 2 3 4 0 1 1 3 2 0 2 3 0 3 3 2 1 1 2 2 2 3 3 2 1 4 3 0 0 0 3 3 3 3 4 0 4 4\n",
            " 0 3 1 3 0 1 1 4 2 3 0 1 3 2 2 3 1 2 3 2 0 1 4 0 3 3 0 1 4 1 0 2 3 2 1 0 0\n",
            " 2 1 3 4 1 2 3 2 0 4 4 1 2 3 4 4 2 3 3 1 1 4 2 1 3 1 2 3 3 2 0 4 1 1 2 4 2\n",
            " 1 0 2 2 1 0 0 4 1 0 0 1 3 4 2 3 1 3 2 4 3 0 2 3 2 2 3 3 4 2 4 2 1 2 2 2 1\n",
            " 3 1 2 0 4 1 0 3 3 4 2 2 4 4 2 0 4 2 4 4 4 0 1 1 4 4 4 0 4 2 3 0 0 1 3 1 3\n",
            " 0 3 0 4 0 1 4 1 2 3 1 1 4 1 4 1 0 0 1 2 1 3 1 4 4 2 3 0 2 3 3 0 0 3 0 0 3\n",
            " 4 3 1 2 2 4 2 0 1 2 0 3 3 1 1 2 3 1 4 1 0 4 2 3 0 2 1 0 0 2 1 0 3 3 4 2 3\n",
            " 4 0 4 1 3 2 1 2 2 4 1 0 1 0 1 0 1 1 1 0 4 0 2 0 1 1 4 0 0 3 1 3 3 0 1 2 0\n",
            " 0 2 1 3 3 3 0 3 0 2 2 2 4 1 1 1 0 3 0 4 2 1 1 1 2 4 1 2 0 4 4 3 0 3 2 3 1\n",
            " 1 2 3 1 0 4 3 0 2 2 2 2 4 3 2 1 0 3 3 2 3 4 1 2 2 1 0 1 1 0 1 2 4 2 3 2 3\n",
            " 2 2 3 3 1 1 2 3 1 0 2 3 1 1 1 4 1 3 4 3 2 1 1 3 3 2 3 2 3 3 0 4 0 3 4 4 3\n",
            " 4 0 3 4 4 2 2 3 0 0 0 0 1 4 2 4 3 1 0 3 0 2 3 1 4 2 4 3 2 0 3 2 0 2 2 2 3\n",
            " 0 0 2 0 3 3 4 3 2 4 3 0 0 4 4 0 2 3 1 3 0 2 3 0 0 3 0 1 4 2 1 2 2 4 1 2 0\n",
            " 4 2 2 3 2 4 4 4 2 4 3 2 4 1 0 4 3 3 0 2 2 3 0 4 0 1 3 2 0 1 4 1 2 2 1 4 2\n",
            " 1 1 0 4 3 3 0 1 2 3 1 0 0 2 4 0 0 0 3 1 4 3 3 1 2 4 2 0 2 0 4 1 4 0 1 3 2\n",
            " 4 1 1 3 4 3 1 2 3 1 2 4 3 0 4 1 2 4 2 1 1 4 0 3 4 0 0 1 2 2 2 4 3 3 3 3 3\n",
            " 0]\n",
            "k_means_cluster_centers :  [[-2.38767251 -9.91550852]\n",
            " [ 2.09687861  0.30490433]\n",
            " [ 2.34133642  8.83993415]\n",
            " [ 3.56033975 -2.80530796]\n",
            " [ 4.8818838   8.88888856]]\n"
          ]
        }
      ]
    },
    {
      "cell_type": "markdown",
      "source": [
        "마지막으로, 아래의 코드를 실행해<br>\n",
        "k-means clustering의 결과물을 시각화해 주세요!"
      ],
      "metadata": {
        "id": "l10AAagiVd_E"
      }
    },
    {
      "cell_type": "code",
      "source": [
        "# 지정된 크기로 초기화\n",
        "fig = plt.figure(figsize=(6, 4))\n",
        "\n",
        "# 레이블 수에 따라 색상 배열 생성, 고유한 색상을 얻기 위해 set(k_means_labels) 설정\n",
        "colors = plt.cm.Spectral(np.linspace(0, 1, len(set(k_means_labels))))\n",
        "\n",
        "# plot 생성\n",
        "ax = fig.add_subplot(1, 1, 1)\n",
        "\n",
        "for k, col in zip(range(n_center), colors):\n",
        "    my_members = (k_means_labels == k)\n",
        "\n",
        "    # 중심 정의\n",
        "    cluster_center = k_means_cluster_centers[k]\n",
        "\n",
        "    # 중심 그리기\n",
        "    ax.plot(X[my_members, 0], X[my_members, 1], 'w', markerfacecolor=col, marker='.')\n",
        "    ax.plot(cluster_center[0], cluster_center[1], 'o', markerfacecolor=col, markeredgecolor='k', markersize=6)\n",
        "\n",
        "ax.set_title('K-Means')\n",
        "ax.set_xticks(())\n",
        "ax.set_yticks(())\n",
        "plt.show()"
      ],
      "metadata": {
        "colab": {
          "base_uri": "https://localhost:8080/",
          "height": 268
        },
        "id": "AS7tyJXRE9mM",
        "outputId": "beb09bd4-3be7-4e0a-d67c-ab71ca02dc98"
      },
      "execution_count": null,
      "outputs": [
        {
          "output_type": "display_data",
          "data": {
            "text/plain": [
              "<Figure size 432x288 with 1 Axes>"
            ],
            "image/png": "[encoded data removed]"
          },
          "metadata": {}
        }
      ]
    },
    {
      "cell_type": "markdown",
      "source": [
        "-- 수고하셨습니다 --"
      ],
      "metadata": {
        "id": "xkI49GsiVjz2"
      }
    }
  ]
}