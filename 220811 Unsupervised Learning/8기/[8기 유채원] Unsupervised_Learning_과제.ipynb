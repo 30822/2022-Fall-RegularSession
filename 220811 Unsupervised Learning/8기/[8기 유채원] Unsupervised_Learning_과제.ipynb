{
 "cells": [
  {
   "cell_type": "markdown",
   "metadata": {
    "id": "Xf7gDXF7Ufn4"
   },
   "source": [
    "# 정규세션: Unsupervised Learing 과제"
   ]
  },
  {
   "cell_type": "markdown",
   "metadata": {
    "id": "HC4mC3MAbNbx"
   },
   "source": [
    "MNIST 데이터와 PCA 기법을 활용해 차원 축소에 대해 알아 봅시다!"
   ]
  },
  {
   "cell_type": "code",
   "execution_count": 2,
   "metadata": {
    "scrolled": true
   },
   "outputs": [
    {
     "name": "stdout",
     "output_type": "stream",
     "text": [
      "Collecting xgboost\n",
      "  Downloading xgboost-1.6.1-py3-none-win_amd64.whl (125.4 MB)\n",
      "Requirement already satisfied: scipy in c:\\users\\elina\\anaconda3\\lib\\site-packages (from xgboost) (1.7.1)\n",
      "Requirement already satisfied: numpy in c:\\users\\elina\\anaconda3\\lib\\site-packages (from xgboost) (1.20.3)\n",
      "Installing collected packages: xgboost\n",
      "Successfully installed xgboost-1.6.1\n",
      "Note: you may need to restart the kernel to use updated packages.\n"
     ]
    }
   ],
   "source": [
    "pip install xgboost"
   ]
  },
  {
   "cell_type": "code",
   "execution_count": 4,
   "metadata": {},
   "outputs": [
    {
     "name": "stdout",
     "output_type": "stream",
     "text": [
      "Collecting lightgbm\n",
      "  Downloading lightgbm-3.3.2-py3-none-win_amd64.whl (1.0 MB)\n",
      "Requirement already satisfied: scikit-learn!=0.22.0 in c:\\users\\elina\\anaconda3\\lib\\site-packages (from lightgbm) (0.24.2)\n",
      "Requirement already satisfied: scipy in c:\\users\\elina\\anaconda3\\lib\\site-packages (from lightgbm) (1.7.1)\n",
      "Requirement already satisfied: numpy in c:\\users\\elina\\anaconda3\\lib\\site-packages (from lightgbm) (1.20.3)\n",
      "Requirement already satisfied: wheel in c:\\users\\elina\\anaconda3\\lib\\site-packages (from lightgbm) (0.37.0)\n",
      "Requirement already satisfied: joblib>=0.11 in c:\\users\\elina\\anaconda3\\lib\\site-packages (from scikit-learn!=0.22.0->lightgbm) (1.1.0)\n",
      "Requirement already satisfied: threadpoolctl>=2.0.0 in c:\\users\\elina\\anaconda3\\lib\\site-packages (from scikit-learn!=0.22.0->lightgbm) (2.2.0)\n",
      "Installing collected packages: lightgbm\n",
      "Successfully installed lightgbm-3.3.2\n",
      "Note: you may need to restart the kernel to use updated packages.\n"
     ]
    }
   ],
   "source": [
    "pip install lightgbm"
   ]
  },
  {
   "cell_type": "code",
   "execution_count": 5,
   "metadata": {
    "id": "WO4qu-6_UkSQ"
   },
   "outputs": [],
   "source": [
    "# 메인 라이브러리 불러오기\n",
    "import numpy as np\n",
    "import pandas as pd\n",
    "import os\n",
    "import time\n",
    "import pickle\n",
    "import gzip\n",
    "\n",
    "# 시각화 관련 라이브러리 불러오기\n",
    "import matplotlib.pyplot as plt\n",
    "import seaborn as sns\n",
    "color = sns.color_palette()\n",
    "import matplotlib as mpl\n",
    "\n",
    "%matplotlib inline\n",
    "\n",
    "# 데이터 준비, 모델 평가 관련 라이브러리\n",
    "from sklearn import preprocessing as ppp\n",
    "from scipy.stats import pearsonr\n",
    "from numpy.testing import assert_array_almost_equal\n",
    "from sklearn.model_selection import train_test_split\n",
    "from sklearn.model_selection import StratifiedKFold\n",
    "from sklearn.metrics import log_loss\n",
    "from sklearn.metrics import precision_recall_curve, average_precision_score\n",
    "from sklearn.metrics import roc_curve, auc, roc_auc_score\n",
    "from sklearn.metrics import confusion_matrix, classification_report\n",
    "\n",
    "# 알고리즘 관련 라이브러리 불러오기\n",
    "from sklearn.linear_model import LogisticRegression\n",
    "from sklearn.ensemble import RandomForestClassifier\n",
    "import xgboost as xgb\n",
    "import lightgbm as lgb"
   ]
  },
  {
   "cell_type": "code",
   "execution_count": 6,
   "metadata": {
    "id": "qXfUDDkCVM47"
   },
   "outputs": [],
   "source": [
    "# MNIST data load\n",
    "\n",
    "current_path = os.getcwd()\n",
    "file = os.path.sep.join(['','mnist.pkl.gz'])\n",
    "\n",
    "# 본인의 구글 드라이브(현재 디렉토리)에 mnist.pkl.gz 파일이 올라가 있어야 함!\n",
    "# colab의 경우 content 폴더 바로 아래에 들어가면 됨\n",
    "\n",
    "f = gzip.open(current_path+file, 'rb')\n",
    "\n",
    "train_set, validation_set, test_set = pickle.load(f, encoding='latin1')\n",
    "f.close()\n",
    "\n",
    "X_train, y_train = train_set[0], train_set[1]\n",
    "X_validation, y_validation = validation_set[0], validation_set[1]\n",
    "X_test, y_test = test_set[0], test_set[1]"
   ]
  },
  {
   "cell_type": "markdown",
   "metadata": {
    "id": "SRnLAjzWPhaa"
   },
   "source": [
    "## 1] MNIST 데이터 알아보기\n",
    "\n",
    "train용 데이터는 X_train, y_train,<br>\n",
    "validation용 데이터는 X_validation, y_validation,<br>\n",
    "test용 데이터는 X_test, y_test로 저장된 상태입니다.\n",
    "\n",
    "각각이 몇 개의 데이터로 이루어져 있는지,<br>\n",
    "그리고 하나의 데이터는 몇 차원인지 알아 봅시다!\n",
    "\n",
    "X_train, y_train 을 예시로 작성해 두었으니,<br>\n",
    "이를 바탕으로 validation/test 데이터의 shape도 확인해 보세요!"
   ]
  },
  {
   "cell_type": "code",
   "execution_count": 13,
   "metadata": {
    "colab": {
     "base_uri": "https://localhost:8080/"
    },
    "id": "dXtQl39FVXvM",
    "outputId": "cbc88c02-acc5-4192-b7be-94cdacb11ac7"
   },
   "outputs": [
    {
     "name": "stdout",
     "output_type": "stream",
     "text": [
      "Shape of X_train:       (50000, 784)\n",
      "Shape of y_train:       (50000,)\n",
      "Shape of X_validation:  (10000, 784)\n",
      "Shape of y_validation:  (10000,)\n",
      "Shape of X_test:        (10000, 784)\n",
      "Shape of y_test:        (10000,)\n"
     ]
    }
   ],
   "source": [
    "# .shape을 활용해 각각의 데이터 크기를 확인합니다!\n",
    "\n",
    "# X_train, y_train\n",
    "print(\"Shape of X_train:      \", X_train.shape)\n",
    "print(\"Shape of y_train:      \", y_train.shape)\n",
    "\n",
    "# X_validation, y_validation (DIY!)\n",
    "print(\"Shape of X_validation: \", X_validation.shape)\n",
    "print(\"Shape of y_validation: \", y_validation.shape)\n",
    "\n",
    "# X_test, y_test (DIY!)\n",
    "print(\"Shape of X_test:       \", X_test.shape)\n",
    "print(\"Shape of y_test:       \", y_test.shape)"
   ]
  },
  {
   "cell_type": "code",
   "execution_count": 14,
   "metadata": {
    "id": "xktihIxnXVn9"
   },
   "outputs": [],
   "source": [
    "# Pandas dataframe 형태로 데이터를 변환합니다.\n",
    "\n",
    "train_index = range(0, len(X_train))\n",
    "validation_index = range(len(X_train), len(X_train) + len(X_validation))\n",
    "test_index = range(len(X_train)+len(X_validation),\n",
    "                   len(X_train)+len(X_validation)+len(X_test))\n",
    "\n",
    "X_train = pd.DataFrame(data=X_train, index=train_index)\n",
    "y_train = pd.Series(data=y_train, index=train_index)\n",
    "\n",
    "X_validation = pd.DataFrame(data=X_validation, index=validation_index)\n",
    "y_validation = pd.Series(data=y_validation, index=validation_index)\n",
    "\n",
    "X_test = pd.DataFrame(data=X_test, index=test_index)\n",
    "y_test = pd.Series(data=y_test, index=test_index)"
   ]
  },
  {
   "cell_type": "markdown",
   "metadata": {
    "id": "_Z_ZUZLCRF6z"
   },
   "source": [
    "X는 input, y는 label을 의미합니다.\n",
    "\n",
    "즉, X_train 내의 이미지가 어떤 숫자의 손글씨인지는 y_train에 담겨 있습니다."
   ]
  },
  {
   "cell_type": "markdown",
   "metadata": {
    "id": "2QFdfCcbRY8x"
   },
   "source": [
    "## 2] Label 확인해 보기\n",
    "\n",
    "X_train 내의 첫 5개 Data의 올바른 label을 확인해 봅시다!\n",
    "\n",
    "Hint] Label은 y_train에 담겨 있고,<br>\n",
    ".head()를 통해 데이터의 첫 5개 값을 확인할 수 있습니다."
   ]
  },
  {
   "cell_type": "code",
   "execution_count": 17,
   "metadata": {
    "id": "72YcDseDX_zw"
   },
   "outputs": [
    {
     "data": {
      "text/plain": [
       "0    5\n",
       "1    0\n",
       "2    4\n",
       "3    1\n",
       "4    9\n",
       "dtype: int64"
      ]
     },
     "execution_count": 17,
     "metadata": {},
     "output_type": "execute_result"
    }
   ],
   "source": [
    "# Label 확인해 보기 (DIY!)\n",
    "y_train.head()\n"
   ]
  },
  {
   "cell_type": "markdown",
   "metadata": {
    "id": "0gNB2klmR7Lo"
   },
   "source": [
    "## 3] X_train 이미지 하나하나 열어 보기\n",
    "\n",
    "아래에 새롭게 정의된 view_digit() 함수를 통해<br>\n",
    "앞서 확인한 Label이 정말 정확한지 확인해 봅시다!"
   ]
  },
  {
   "cell_type": "code",
   "execution_count": 19,
   "metadata": {
    "id": "GiYWKgsMYKAF"
   },
   "outputs": [],
   "source": [
    "# 이미지 시각화 함수 view_digit()\n",
    "def view_digit(example):\n",
    "    label = y_train.loc[example]\n",
    "    image = X_train.loc[example,:].values.reshape([28, 28])\n",
    "    plt.title('Example: %d     /     Label: %d'%(example, label))\n",
    "    plt.imshow(image, cmap=plt.get_cmap('gray'))\n",
    "    plt.show()"
   ]
  },
  {
   "cell_type": "code",
   "execution_count": 20,
   "metadata": {
    "colab": {
     "base_uri": "https://localhost:8080/",
     "height": 281
    },
    "id": "shAnPZAoYdBn",
    "outputId": "ed067dbb-e648-4432-a8d2-dd855c48cd6e"
   },
   "outputs": [
    {
     "data": {
      "image/png": "[encoded data removed]",
      "text/plain": [
       "<Figure size 432x288 with 1 Axes>"
      ]
     },
     "metadata": {
      "needs_background": "light"
     },
     "output_type": "display_data"
    }
   ],
   "source": [
    "# 첫번째 X_train 이미지 열기\n",
    "\n",
    "# 제대로 함수가 정의됐다면 '5' 를 손으로 쓴 이미지가 보여야 합니다!\n",
    "view_digit(0)"
   ]
  },
  {
   "cell_type": "markdown",
   "metadata": {
    "id": "cEc3ELOjSUpH"
   },
   "source": [
    "그렇다면 5번째 Data는 뭘까요?"
   ]
  },
  {
   "cell_type": "code",
   "execution_count": 21,
   "metadata": {
    "id": "aEjVov5RSW4c"
   },
   "outputs": [
    {
     "data": {
      "image/png": "[encoded data removed]",
      "text/plain": [
       "<Figure size 432x288 with 1 Axes>"
      ]
     },
     "metadata": {
      "needs_background": "light"
     },
     "output_type": "display_data"
    }
   ],
   "source": [
    "# 다섯번째 X_train 이미지 열기 (DIY!)\n",
    "\n",
    "view_digit(4)"
   ]
  },
  {
   "cell_type": "markdown",
   "metadata": {
    "id": "cg9AQjdtbC9H"
   },
   "source": [
    "## 4] PCA\n",
    "\n",
    "PCA를 통해 만들어 낸 주성분 별로 얼마만큼의 분산을 설명하는지 확인할 수 있습니다!\n",
    "\n",
    "해당 데이터는 pca.explained_variance_ratio_ 를 통해 확인할 수 있습니다."
   ]
  },
  {
   "cell_type": "code",
   "execution_count": 22,
   "metadata": {
    "id": "MXe7vpZFbHfN"
   },
   "outputs": [],
   "source": [
    "from sklearn.decomposition import PCA\n",
    "\n",
    "pca = PCA(n_components = 784)"
   ]
  },
  {
   "cell_type": "code",
   "execution_count": 23,
   "metadata": {
    "id": "mMngYRXWcLNo"
   },
   "outputs": [],
   "source": [
    "X_train_PCA = pca.fit_transform(X_train)\n",
    "X_train_PCA = pd.DataFrame(data=X_train_PCA, index=train_index)"
   ]
  },
  {
   "cell_type": "code",
   "execution_count": 24,
   "metadata": {
    "colab": {
     "base_uri": "https://localhost:8080/"
    },
    "id": "SmynSJ2EcUPw",
    "outputId": "c02163d8-1fac-472b-85b9-9d83475d45d9"
   },
   "outputs": [
    {
     "name": "stdout",
     "output_type": "stream",
     "text": [
      "전체 784개의 주성분에 의해 설명되는 분산(정보량)의 비율은,  0.9999999817343119 입니다.\n"
     ]
    }
   ],
   "source": [
    "# pca.explained_variance_ratio_\n",
    "# 전체 주성분을 모두 사용하는 경우\n",
    "\n",
    "print(\"전체 784개의 주성분에 의해 설명되는 분산(정보량)의 비율은, \",\n",
    "      sum(pca.explained_variance_ratio_), \"입니다.\")"
   ]
  },
  {
   "cell_type": "code",
   "execution_count": 25,
   "metadata": {},
   "outputs": [
    {
     "data": {
      "text/plain": [
       "array([9.74435136e-02, 7.05982074e-02, 6.21607155e-02, 5.37951142e-02,\n",
       "       4.85805236e-02, 4.31960858e-02, 3.27757746e-02, 2.88639124e-02,\n",
       "       2.76883934e-02, 2.36592814e-02, 2.09952015e-02, 2.02041157e-02,\n",
       "       1.71579160e-02, 1.68179870e-02, 1.57926660e-02, 1.49275577e-02,\n",
       "       1.31816594e-02, 1.27655370e-02, 1.18651530e-02, 1.15101766e-02,\n",
       "       1.06910896e-02, 1.00750150e-02, 9.53631662e-03, 9.07864049e-03,\n",
       "       8.82789586e-03, 8.36952589e-03, 8.17540661e-03, 7.84796663e-03,\n",
       "       7.42015429e-03, 6.90708868e-03, 6.58566132e-03, 6.43654820e-03,\n",
       "       6.02718350e-03, 5.85304666e-03, 5.69431437e-03, 5.41853346e-03,\n",
       "       5.07309940e-03, 4.88394080e-03, 4.82056336e-03, 4.73351870e-03,\n",
       "       4.55973251e-03, 4.41411324e-03, 4.16429574e-03, 3.96221736e-03,\n",
       "       3.85332457e-03, 3.74064222e-03, 3.61330900e-03, 3.50470562e-03,\n",
       "       3.40270274e-03, 3.21048149e-03, 3.18202493e-03, 3.10987374e-03,\n",
       "       2.94572581e-03, 2.88293115e-03, 2.85742804e-03, 2.70759338e-03,\n",
       "       2.69223982e-03, 2.56372406e-03, 2.53896997e-03, 2.43535312e-03,\n",
       "       2.40497780e-03, 2.37760390e-03, 2.29129638e-03, 2.21730606e-03,\n",
       "       2.12807790e-03, 2.06765346e-03, 2.03552889e-03, 1.96811487e-03,\n",
       "       1.92868884e-03, 1.88608747e-03, 1.87148759e-03, 1.81140460e-03,\n",
       "       1.77256519e-03, 1.74637430e-03, 1.64976611e-03, 1.63644901e-03,\n",
       "       1.61479902e-03, 1.53505604e-03, 1.47433963e-03, 1.43104850e-03,\n",
       "       1.41426001e-03, 1.40905008e-03, 1.39827258e-03, 1.35518319e-03,\n",
       "       1.33949972e-03, 1.32056465e-03, 1.29866309e-03, 1.25902193e-03,\n",
       "       1.22277788e-03, 1.21112401e-03, 1.16708537e-03, 1.14417961e-03,\n",
       "       1.13496499e-03, 1.10590621e-03, 1.08787406e-03, 1.06929638e-03,\n",
       "       1.04107254e-03, 1.03594060e-03, 1.01137639e-03, 1.00724841e-03,\n",
       "       9.79715376e-04, 9.46161745e-04, 9.39560123e-04, 9.12713818e-04,\n",
       "       9.08465474e-04, 8.95734935e-04, 8.65808106e-04, 8.52214172e-04,\n",
       "       8.43848276e-04, 8.26152391e-04, 7.88951584e-04, 7.83876400e-04,\n",
       "       7.80839880e-04, 7.69344915e-04, 7.64518743e-04, 7.52495660e-04,\n",
       "       7.38718663e-04, 7.30597647e-04, 7.18580268e-04, 7.06076098e-04,\n",
       "       6.95885450e-04, 6.90120680e-04, 6.83290884e-04, 6.70802547e-04,\n",
       "       6.70141366e-04, 6.45631459e-04, 6.36517128e-04, 6.33772521e-04,\n",
       "       6.22391235e-04, 6.07969938e-04, 6.01846143e-04, 5.98338316e-04,\n",
       "       5.89112053e-04, 5.84580877e-04, 5.79372514e-04, 5.78175765e-04,\n",
       "       5.67127485e-04, 5.53852762e-04, 5.35490341e-04, 5.26004529e-04,\n",
       "       5.23213297e-04, 5.12568629e-04, 5.06187964e-04, 5.03299059e-04,\n",
       "       4.98812704e-04, 4.93307423e-04, 4.85739060e-04, 4.82313568e-04,\n",
       "       4.75945533e-04, 4.68916376e-04, 4.65978490e-04, 4.64700686e-04,\n",
       "       4.56857146e-04, 4.50840511e-04, 4.49830084e-04, 4.42989141e-04,\n",
       "       4.37759678e-04, 4.28798026e-04, 4.26366285e-04, 4.24793514e-04,\n",
       "       4.15271817e-04, 4.11194604e-04, 4.03457321e-04, 3.98437143e-04,\n",
       "       3.92905989e-04, 3.90698668e-04, 3.87208158e-04, 3.81761667e-04,\n",
       "       3.78012570e-04, 3.75475298e-04, 3.69905989e-04, 3.65576649e-04,\n",
       "       3.64754145e-04, 3.60667560e-04, 3.55941011e-04, 3.53935146e-04,\n",
       "       3.49828391e-04, 3.45506618e-04, 3.41573206e-04, 3.37962905e-04,\n",
       "       3.36697092e-04, 3.29704257e-04, 3.28673224e-04, 3.27079819e-04,\n",
       "       3.23581567e-04, 3.22579785e-04, 3.17538448e-04, 3.15534475e-04,\n",
       "       3.11395328e-04, 3.09804193e-04, 3.07155278e-04, 3.04333604e-04,\n",
       "       3.02690751e-04, 3.00594111e-04, 2.96458456e-04, 2.96134531e-04,\n",
       "       2.93439574e-04, 2.93044373e-04, 2.88605690e-04, 2.83187343e-04,\n",
       "       2.82510213e-04, 2.79167056e-04, 2.75993196e-04, 2.74078280e-04,\n",
       "       2.69259821e-04, 2.66113377e-04, 2.64193368e-04, 2.62490008e-04,\n",
       "       2.62345071e-04, 2.60707602e-04, 2.56879604e-04, 2.56480911e-04,\n",
       "       2.55116465e-04, 2.52497994e-04, 2.51455524e-04, 2.49979203e-04,\n",
       "       2.48090510e-04, 2.46170006e-04, 2.44948606e-04, 2.40256588e-04,\n",
       "       2.39923291e-04, 2.39277637e-04, 2.38061737e-04, 2.35224710e-04,\n",
       "       2.32111328e-04, 2.30403093e-04, 2.30323349e-04, 2.27700555e-04,\n",
       "       2.26478078e-04, 2.23025549e-04, 2.21755443e-04, 2.19664173e-04,\n",
       "       2.17572131e-04, 2.15673732e-04, 2.14893735e-04, 2.14062602e-04,\n",
       "       2.12992891e-04, 2.10160142e-04, 2.09853053e-04, 2.06902536e-04,\n",
       "       2.04182652e-04, 2.03949094e-04, 2.01269315e-04, 1.99806178e-04,\n",
       "       1.99086848e-04, 1.97668851e-04, 1.96118577e-04, 1.93341431e-04,\n",
       "       1.92041305e-04, 1.91760817e-04, 1.90759005e-04, 1.88256963e-04,\n",
       "       1.87958169e-04, 1.86245990e-04, 1.84992532e-04, 1.84471486e-04,\n",
       "       1.82719101e-04, 1.81721203e-04, 1.81630807e-04, 1.79719849e-04,\n",
       "       1.77191308e-04, 1.76900430e-04, 1.75132067e-04, 1.74087501e-04,\n",
       "       1.72530068e-04, 1.72192857e-04, 1.71823383e-04, 1.70226878e-04,\n",
       "       1.69696650e-04, 1.67548482e-04, 1.66445083e-04, 1.65512858e-04,\n",
       "       1.64244280e-04, 1.63541859e-04, 1.61806136e-04, 1.60990778e-04,\n",
       "       1.60430689e-04, 1.60178941e-04, 1.58844850e-04, 1.57854549e-04,\n",
       "       1.56434762e-04, 1.54233174e-04, 1.53460584e-04, 1.52750596e-04,\n",
       "       1.51647109e-04, 1.49420390e-04, 1.48761814e-04, 1.47661747e-04,\n",
       "       1.47250990e-04, 1.45368336e-04, 1.44759833e-04, 1.42714227e-04,\n",
       "       1.42488338e-04, 1.41966884e-04, 1.41421988e-04, 1.40158489e-04,\n",
       "       1.38401563e-04, 1.37888535e-04, 1.35900947e-04, 1.35826427e-04,\n",
       "       1.35095834e-04, 1.33934314e-04, 1.33240144e-04, 1.32147121e-04,\n",
       "       1.31024237e-04, 1.30168817e-04, 1.29097854e-04, 1.29055901e-04,\n",
       "       1.27095103e-04, 1.26913073e-04, 1.26300874e-04, 1.25293605e-04,\n",
       "       1.24733022e-04, 1.23215592e-04, 1.21883648e-04, 1.21146601e-04,\n",
       "       1.20597360e-04, 1.19897173e-04, 1.18970907e-04, 1.18261079e-04,\n",
       "       1.17720738e-04, 1.17166324e-04, 1.16271847e-04, 1.15603201e-04,\n",
       "       1.14598115e-04, 1.13493101e-04, 1.12416295e-04, 1.11410765e-04,\n",
       "       1.10392117e-04, 1.10250359e-04, 1.09360561e-04, 1.08690365e-04,\n",
       "       1.08181965e-04, 1.07085492e-04, 1.06189720e-04, 1.05820589e-04,\n",
       "       1.05568506e-04, 1.04384249e-04, 1.03396931e-04, 1.02763377e-04,\n",
       "       1.01798010e-04, 1.00844496e-04, 1.00304387e-04, 9.96236995e-05,\n",
       "       9.92290006e-05, 9.77860473e-05, 9.75319272e-05, 9.67332817e-05,\n",
       "       9.55302894e-05, 9.44469939e-05, 9.39701495e-05, 9.28495720e-05,\n",
       "       9.22574764e-05, 9.15361816e-05, 9.11516036e-05, 9.08665534e-05,\n",
       "       8.97858627e-05, 8.95203848e-05, 8.90724696e-05, 8.79853615e-05,\n",
       "       8.75022452e-05, 8.67340859e-05, 8.55035105e-05, 8.47298434e-05,\n",
       "       8.40938083e-05, 8.36167455e-05, 8.32250735e-05, 8.24516319e-05,\n",
       "       8.21360882e-05, 8.09389094e-05, 8.02973300e-05, 7.96451568e-05,\n",
       "       7.89739570e-05, 7.86289747e-05, 7.80107002e-05, 7.72085405e-05,\n",
       "       7.65880759e-05, 7.62994750e-05, 7.46754158e-05, 7.40786127e-05,\n",
       "       7.35517824e-05, 7.30846223e-05, 7.26074068e-05, 7.22242112e-05,\n",
       "       7.15568676e-05, 7.07130748e-05, 6.99657830e-05, 6.93046459e-05,\n",
       "       6.86073035e-05, 6.82542450e-05, 6.69218207e-05, 6.63374813e-05,\n",
       "       6.55516051e-05, 6.40865765e-05, 6.35509350e-05, 6.30285213e-05,\n",
       "       6.21610234e-05, 6.11681753e-05, 6.06481444e-05, 5.97971375e-05,\n",
       "       5.91569296e-05, 5.85894559e-05, 5.84923655e-05, 5.78245272e-05,\n",
       "       5.69815638e-05, 5.65569826e-05, 5.59468062e-05, 5.48101052e-05,\n",
       "       5.44367140e-05, 5.41613954e-05, 5.31873629e-05, 5.29490790e-05,\n",
       "       5.26495751e-05, 5.24066454e-05, 5.13807463e-05, 5.06863980e-05,\n",
       "       5.01472205e-05, 4.92578583e-05, 4.91081191e-05, 4.89188533e-05,\n",
       "       4.75991692e-05, 4.72472238e-05, 4.66251258e-05, 4.64195109e-05,\n",
       "       4.50317348e-05, 4.49517756e-05, 4.36913178e-05, 4.31303342e-05,\n",
       "       4.24819191e-05, 4.20406977e-05, 4.16678959e-05, 4.14569804e-05,\n",
       "       4.08180858e-05, 4.03404592e-05, 3.90628556e-05, 3.85981657e-05,\n",
       "       3.83515944e-05, 3.80595302e-05, 3.75196141e-05, 3.73228431e-05,\n",
       "       3.70126581e-05, 3.68126930e-05, 3.56854325e-05, 3.53168689e-05,\n",
       "       3.50240662e-05, 3.48914436e-05, 3.46948400e-05, 3.42144303e-05,\n",
       "       3.32629388e-05, 3.29600771e-05, 3.23087334e-05, 3.19356914e-05,\n",
       "       3.16478327e-05, 3.10075520e-05, 3.05740832e-05, 2.98635714e-05,\n",
       "       2.92520290e-05, 2.88757201e-05, 2.84802536e-05, 2.80221211e-05,\n",
       "       2.76786268e-05, 2.74656177e-05, 2.71950485e-05, 2.62369049e-05,\n",
       "       2.60199740e-05, 2.56742333e-05, 2.53145627e-05, 2.51105012e-05,\n",
       "       2.49705190e-05, 2.48267170e-05, 2.42946971e-05, 2.40871104e-05,\n",
       "       2.37765089e-05, 2.33760784e-05, 2.32263646e-05, 2.29579382e-05,\n",
       "       2.22562285e-05, 2.18486002e-05, 2.16455192e-05, 2.12583000e-05,\n",
       "       2.10043854e-05, 2.04389980e-05, 2.03005457e-05, 2.00514896e-05,\n",
       "       1.98648977e-05, 1.95900884e-05, 1.92775897e-05, 1.86806592e-05,\n",
       "       1.84003493e-05, 1.80274092e-05, 1.80202278e-05, 1.78127866e-05,\n",
       "       1.76246067e-05, 1.72142227e-05, 1.64344601e-05, 1.63271179e-05,\n",
       "       1.61996195e-05, 1.59244119e-05, 1.54357895e-05, 1.52896118e-05,\n",
       "       1.51687018e-05, 1.45991717e-05, 1.44940896e-05, 1.44304013e-05,\n",
       "       1.43486022e-05, 1.42947456e-05, 1.40875700e-05, 1.39537387e-05,\n",
       "       1.37449706e-05, 1.35754426e-05, 1.33790309e-05, 1.29905848e-05,\n",
       "       1.28739393e-05, 1.21988187e-05, 1.19514634e-05, 1.18632579e-05,\n",
       "       1.15920484e-05, 1.15293224e-05, 1.13472370e-05, 1.11959689e-05,\n",
       "       1.11794525e-05, 1.09360972e-05, 1.07504402e-05, 1.07014403e-05,\n",
       "       1.06149873e-05, 1.02198092e-05, 1.01649166e-05, 9.47256558e-06,\n",
       "       9.38240100e-06, 9.34338459e-06, 9.22441268e-06, 8.86887392e-06,\n",
       "       8.45338764e-06, 8.24794733e-06, 8.17887121e-06, 8.11283462e-06,\n",
       "       7.92386345e-06, 7.89183741e-06, 7.67210622e-06, 7.60380908e-06,\n",
       "       7.52749929e-06, 7.41734038e-06, 7.36907350e-06, 7.30192914e-06,\n",
       "       7.10202994e-06, 7.00937198e-06, 6.73064551e-06, 6.61918284e-06,\n",
       "       6.33265699e-06, 6.20610354e-06, 5.99297209e-06, 5.79483640e-06,\n",
       "       5.72512727e-06, 5.64018364e-06, 5.33791172e-06, 5.29895578e-06,\n",
       "       5.23356312e-06, 5.10440941e-06, 5.02795319e-06, 5.01141540e-06,\n",
       "       5.00712622e-06, 4.81860934e-06, 4.77566527e-06, 4.75167690e-06,\n",
       "       4.72869442e-06, 4.52766199e-06, 4.39544056e-06, 4.30853834e-06,\n",
       "       4.05589117e-06, 4.04073216e-06, 3.90481227e-06, 3.87520595e-06,\n",
       "       3.67226812e-06, 3.32584546e-06, 3.26538611e-06, 3.17893091e-06,\n",
       "       3.15253374e-06, 3.13058968e-06, 3.03311162e-06, 3.01801560e-06,\n",
       "       2.99428484e-06, 2.92674463e-06, 2.82490782e-06, 2.79170013e-06,\n",
       "       2.73268415e-06, 2.71960334e-06, 2.59743797e-06, 2.46906325e-06,\n",
       "       2.40262602e-06, 2.31161721e-06, 2.27640612e-06, 2.24748010e-06,\n",
       "       2.16925127e-06, 2.16880085e-06, 2.11985457e-06, 1.90182232e-06,\n",
       "       1.88601518e-06, 1.88033289e-06, 1.87508942e-06, 1.86034003e-06,\n",
       "       1.77003744e-06, 1.68824363e-06, 1.58570390e-06, 1.55055977e-06,\n",
       "       1.53791098e-06, 1.52825214e-06, 1.50182154e-06, 1.40090731e-06,\n",
       "       1.39854762e-06, 1.33215428e-06, 1.32660603e-06, 1.18498360e-06,\n",
       "       1.10290830e-06, 1.07297717e-06, 1.06278969e-06, 1.05261120e-06,\n",
       "       1.04169203e-06, 9.89344358e-07, 9.77859258e-07, 9.74038926e-07,\n",
       "       9.59146973e-07, 9.42427107e-07, 9.01081080e-07, 8.83958876e-07,\n",
       "       8.46739056e-07, 8.26692997e-07, 8.06836965e-07, 7.80490325e-07,\n",
       "       7.47375964e-07, 7.11859570e-07, 6.72453325e-07, 6.70061866e-07,\n",
       "       6.36510777e-07, 5.95907636e-07, 5.40637416e-07, 5.39996734e-07,\n",
       "       5.33935236e-07, 5.17023750e-07, 5.02403168e-07, 5.01107479e-07,\n",
       "       4.99550595e-07, 4.67022716e-07, 4.52104132e-07, 4.48468938e-07,\n",
       "       4.07284006e-07, 3.97844133e-07, 3.87607002e-07, 3.41298659e-07,\n",
       "       3.41110422e-07, 3.37005474e-07, 2.99004114e-07, 2.94886718e-07,\n",
       "       2.81070982e-07, 2.47324948e-07, 2.43149401e-07, 2.37416174e-07,\n",
       "       2.22612130e-07, 2.07047847e-07, 2.05726266e-07, 2.01983724e-07,\n",
       "       1.85510316e-07, 1.74170978e-07, 1.72266198e-07, 1.71673662e-07,\n",
       "       1.60408419e-07, 1.51016238e-07, 1.38974073e-07, 1.28078881e-07,\n",
       "       1.19122745e-07, 1.08032033e-07, 9.72017560e-08, 9.61309468e-08,\n",
       "       9.15375509e-08, 8.19504109e-08, 7.48708331e-08, 6.87498911e-08,\n",
       "       6.34261568e-08, 5.84303130e-08, 5.42627738e-08, 5.15958227e-08,\n",
       "       4.42510171e-08, 4.29982876e-08, 4.21296313e-08, 3.96196107e-08,\n",
       "       3.87547452e-08, 3.39010988e-08, 3.03956043e-08, 2.98589349e-08,\n",
       "       2.08831619e-08, 2.06318962e-08, 1.98546228e-08, 1.90492724e-08,\n",
       "       1.51099062e-08, 1.43837005e-08, 1.23017720e-08, 1.16773577e-08,\n",
       "       1.02494422e-08, 9.52248058e-09, 8.26046431e-09, 8.13459433e-09,\n",
       "       6.45429843e-09, 5.94386096e-09, 4.27043778e-09, 2.12672613e-09,\n",
       "       8.85938989e-10, 8.39151193e-10, 2.76285800e-10, 7.90389282e-11,\n",
       "       3.99404398e-11, 1.76856706e-11, 1.07832329e-13, 9.76672822e-16,\n",
       "       5.47668475e-16, 5.25411890e-16, 3.62091312e-16, 3.29978255e-16,\n",
       "       1.28336953e-16, 1.25497606e-16, 1.25497606e-16, 1.25497606e-16,\n",
       "       1.25497606e-16, 1.25497606e-16, 1.25497606e-16, 1.25497606e-16,\n",
       "       1.25497606e-16, 1.25497606e-16, 1.25497606e-16, 1.25497606e-16,\n",
       "       1.25497606e-16, 1.25497606e-16, 1.25497606e-16, 1.25497606e-16,\n",
       "       1.25497606e-16, 1.25497606e-16, 1.25497606e-16, 1.25497606e-16,\n",
       "       1.25497606e-16, 1.25497606e-16, 1.25497606e-16, 1.25497606e-16,\n",
       "       1.25497606e-16, 1.25497606e-16, 1.25497606e-16, 1.25497606e-16,\n",
       "       1.25497606e-16, 1.25497606e-16, 1.25497606e-16, 1.25497606e-16,\n",
       "       1.25497606e-16, 1.25497606e-16, 1.25497606e-16, 1.25497606e-16,\n",
       "       1.25497606e-16, 1.25497606e-16, 1.25497606e-16, 1.25497606e-16,\n",
       "       1.25497606e-16, 1.25497606e-16, 1.25497606e-16, 1.25497606e-16,\n",
       "       1.25497606e-16, 1.25497606e-16, 1.25497606e-16, 1.25497606e-16,\n",
       "       1.25497606e-16, 1.25497606e-16, 1.25497606e-16, 1.25497606e-16,\n",
       "       1.25497606e-16, 1.25497606e-16, 1.25497606e-16, 1.25497606e-16,\n",
       "       1.25497606e-16, 1.25497606e-16, 1.25497606e-16, 1.25497606e-16,\n",
       "       1.25497606e-16, 1.25497606e-16, 1.25497606e-16, 1.25497606e-16,\n",
       "       1.22475088e-16, 5.81171937e-17, 4.77293537e-17, 1.30650589e-17],\n",
       "      dtype=float32)"
      ]
     },
     "execution_count": 25,
     "metadata": {},
     "output_type": "execute_result"
    }
   ],
   "source": [
    "pca.explained_variance_ratio_"
   ]
  },
  {
   "cell_type": "markdown",
   "metadata": {
    "id": "x0Yk49qAS2FI"
   },
   "source": [
    "이론상, 전체 784개 주성분을 모두 사용하면 전체 정보량 전부를 유지해야 합니다.\n",
    "\n",
    "그렇다면, 그 중 **일부만** 사용할 경우는 어떨까요?\n",
    "\n",
    "아래에 첫 10개의 주성분에 의해 설명되는 정보량의 비율을 계산할 수 있는 코드를 작성해 두었습니다.\n",
    "\n",
    "이를 바탕으로 20개, 50개, 100개, 200개, 300개를 사용할 때는 얼마만큼의 정보량을 보존하는지 확인해 보세요!\n",
    "\n",
    "(importanceOfPrincipalComponents: pca.explained_variance_ratio_를 Pandas data frame으로 변환한 것입니다.)"
   ]
  },
  {
   "cell_type": "code",
   "execution_count": 26,
   "metadata": {
    "colab": {
     "base_uri": "https://localhost:8080/"
    },
    "id": "W4t3flducg8r",
    "outputId": "39aff25d-05d4-424a-b508-9f4387e09224",
    "scrolled": true
   },
   "outputs": [
    {
     "name": "stdout",
     "output_type": "stream",
     "text": [
      "첫 10개의 주성분에 의해 설명되는 분산(정보량)의 비율은, [0.4887615] 입니다.\n",
      "첫 20개의 주성분에 의해 설명되는 분산(정보량)의 비율은, [0.6439795] 입니다.\n",
      "첫 50개의 주성분에 의해 설명되는 분산(정보량)의 비율은, [0.8248605] 입니다.\n",
      "첫 100개의 주성분에 의해 설명되는 분산(정보량)의 비율은, [0.91465837] 입니다.\n",
      "첫 200개의 주성분에 의해 설명되는 분산(정보량)의 비율은, [0.9665007] 입니다.\n",
      "첫 300개의 주성분에 의해 설명되는 분산(정보량)의 비율은, [0.9862489] 입니다.\n"
     ]
    }
   ],
   "source": [
    "# If X is not 784,\n",
    "\n",
    "importanceOfPrincipalComponents = pd.DataFrame(data=pca.explained_variance_ratio_)\n",
    "\n",
    "importanceOfPrincipalComponents = importanceOfPrincipalComponents.T\n",
    "\n",
    "print(\"첫 10개의 주성분에 의해 설명되는 분산(정보량)의 비율은,\",\n",
    "      importanceOfPrincipalComponents.loc[:, 0:9].sum(axis=1).values, \"입니다.\")\n",
    "\n",
    "# DIY! (???를 채워 주세요.)\n",
    "print(\"첫 20개의 주성분에 의해 설명되는 분산(정보량)의 비율은,\",\n",
    "      importanceOfPrincipalComponents.loc[:, 0:19].sum(axis=1).values, \"입니다.\")\n",
    "print(\"첫 50개의 주성분에 의해 설명되는 분산(정보량)의 비율은,\",\n",
    "      importanceOfPrincipalComponents.loc[:, 0:49].sum(axis=1).values, \"입니다.\")\n",
    "print(\"첫 100개의 주성분에 의해 설명되는 분산(정보량)의 비율은,\",\n",
    "      importanceOfPrincipalComponents.loc[:, 0:99].sum(axis=1).values, \"입니다.\")\n",
    "print(\"첫 200개의 주성분에 의해 설명되는 분산(정보량)의 비율은,\",\n",
    "      importanceOfPrincipalComponents.loc[:, 0:199].sum(axis=1).values, \"입니다.\")\n",
    "print(\"첫 300개의 주성분에 의해 설명되는 분산(정보량)의 비율은,\",\n",
    "      importanceOfPrincipalComponents.loc[:, 0:299].sum(axis=1).values, \"입니다.\")"
   ]
  },
  {
   "cell_type": "code",
   "execution_count": 41,
   "metadata": {},
   "outputs": [
    {
     "data": {
      "text/html": [
       "<div>\n",
       "<style scoped>\n",
       "    .dataframe tbody tr th:only-of-type {\n",
       "        vertical-align: middle;\n",
       "    }\n",
       "\n",
       "    .dataframe tbody tr th {\n",
       "        vertical-align: top;\n",
       "    }\n",
       "\n",
       "    .dataframe thead th {\n",
       "        text-align: right;\n",
       "    }\n",
       "</style>\n",
       "<table border=\"1\" class=\"dataframe\">\n",
       "  <thead>\n",
       "    <tr style=\"text-align: right;\">\n",
       "      <th></th>\n",
       "      <th>0</th>\n",
       "      <th>1</th>\n",
       "      <th>2</th>\n",
       "      <th>3</th>\n",
       "      <th>4</th>\n",
       "      <th>5</th>\n",
       "      <th>6</th>\n",
       "      <th>7</th>\n",
       "      <th>8</th>\n",
       "      <th>9</th>\n",
       "      <th>...</th>\n",
       "      <th>774</th>\n",
       "      <th>775</th>\n",
       "      <th>776</th>\n",
       "      <th>777</th>\n",
       "      <th>778</th>\n",
       "      <th>779</th>\n",
       "      <th>780</th>\n",
       "      <th>781</th>\n",
       "      <th>782</th>\n",
       "      <th>783</th>\n",
       "    </tr>\n",
       "  </thead>\n",
       "  <tbody>\n",
       "    <tr>\n",
       "      <th>0</th>\n",
       "      <td>1.306506e-17</td>\n",
       "      <td>4.772935e-17</td>\n",
       "      <td>5.811719e-17</td>\n",
       "      <td>1.224751e-16</td>\n",
       "      <td>1.254976e-16</td>\n",
       "      <td>1.254976e-16</td>\n",
       "      <td>1.254976e-16</td>\n",
       "      <td>1.254976e-16</td>\n",
       "      <td>1.254976e-16</td>\n",
       "      <td>1.254976e-16</td>\n",
       "      <td>...</td>\n",
       "      <td>0.023659</td>\n",
       "      <td>0.027688</td>\n",
       "      <td>0.028864</td>\n",
       "      <td>0.032776</td>\n",
       "      <td>0.043196</td>\n",
       "      <td>0.048581</td>\n",
       "      <td>0.053795</td>\n",
       "      <td>0.062161</td>\n",
       "      <td>0.070598</td>\n",
       "      <td>0.097444</td>\n",
       "    </tr>\n",
       "  </tbody>\n",
       "</table>\n",
       "<p>1 rows × 784 columns</p>\n",
       "</div>"
      ],
      "text/plain": [
       "            0             1             2             3             4    \\\n",
       "0  1.306506e-17  4.772935e-17  5.811719e-17  1.224751e-16  1.254976e-16   \n",
       "\n",
       "            5             6             7             8             9    ...  \\\n",
       "0  1.254976e-16  1.254976e-16  1.254976e-16  1.254976e-16  1.254976e-16  ...   \n",
       "\n",
       "        774       775       776       777       778       779       780  \\\n",
       "0  0.023659  0.027688  0.028864  0.032776  0.043196  0.048581  0.053795   \n",
       "\n",
       "        781       782       783  \n",
       "0  0.062161  0.070598  0.097444  \n",
       "\n",
       "[1 rows x 784 columns]"
      ]
     },
     "execution_count": 41,
     "metadata": {},
     "output_type": "execute_result"
    }
   ],
   "source": [
    "importanceOfPrincipalComponents"
   ]
  },
  {
   "cell_type": "code",
   "execution_count": 64,
   "metadata": {
    "scrolled": true
   },
   "outputs": [
    {
     "data": {
      "text/html": [
       "<div>\n",
       "<style scoped>\n",
       "    .dataframe tbody tr th:only-of-type {\n",
       "        vertical-align: middle;\n",
       "    }\n",
       "\n",
       "    .dataframe tbody tr th {\n",
       "        vertical-align: top;\n",
       "    }\n",
       "\n",
       "    .dataframe thead th {\n",
       "        text-align: right;\n",
       "    }\n",
       "</style>\n",
       "<table border=\"1\" class=\"dataframe\">\n",
       "  <thead>\n",
       "    <tr style=\"text-align: right;\">\n",
       "      <th></th>\n",
       "      <th>783</th>\n",
       "      <th>782</th>\n",
       "      <th>781</th>\n",
       "      <th>780</th>\n",
       "      <th>779</th>\n",
       "      <th>778</th>\n",
       "      <th>777</th>\n",
       "      <th>776</th>\n",
       "      <th>775</th>\n",
       "      <th>774</th>\n",
       "      <th>...</th>\n",
       "      <th>42</th>\n",
       "      <th>41</th>\n",
       "      <th>40</th>\n",
       "      <th>39</th>\n",
       "      <th>38</th>\n",
       "      <th>5</th>\n",
       "      <th>3</th>\n",
       "      <th>2</th>\n",
       "      <th>1</th>\n",
       "      <th>0</th>\n",
       "    </tr>\n",
       "  </thead>\n",
       "  <tbody>\n",
       "    <tr>\n",
       "      <th>0</th>\n",
       "      <td>0.097444</td>\n",
       "      <td>0.070598</td>\n",
       "      <td>0.062161</td>\n",
       "      <td>0.053795</td>\n",
       "      <td>0.048581</td>\n",
       "      <td>0.043196</td>\n",
       "      <td>0.032776</td>\n",
       "      <td>0.028864</td>\n",
       "      <td>0.027688</td>\n",
       "      <td>0.023659</td>\n",
       "      <td>...</td>\n",
       "      <td>1.254976e-16</td>\n",
       "      <td>1.254976e-16</td>\n",
       "      <td>1.254976e-16</td>\n",
       "      <td>1.254976e-16</td>\n",
       "      <td>1.254976e-16</td>\n",
       "      <td>1.254976e-16</td>\n",
       "      <td>1.224751e-16</td>\n",
       "      <td>5.811719e-17</td>\n",
       "      <td>4.772935e-17</td>\n",
       "      <td>1.306506e-17</td>\n",
       "    </tr>\n",
       "  </tbody>\n",
       "</table>\n",
       "<p>1 rows × 784 columns</p>\n",
       "</div>"
      ],
      "text/plain": [
       "        783       782       781       780       779       778       777  \\\n",
       "0  0.097444  0.070598  0.062161  0.053795  0.048581  0.043196  0.032776   \n",
       "\n",
       "        776       775       774  ...           42            41   \\\n",
       "0  0.028864  0.027688  0.023659  ...  1.254976e-16  1.254976e-16   \n",
       "\n",
       "            40            39            38            5             3    \\\n",
       "0  1.254976e-16  1.254976e-16  1.254976e-16  1.254976e-16  1.224751e-16   \n",
       "\n",
       "            2             1             0    \n",
       "0  5.811719e-17  4.772935e-17  1.306506e-17  \n",
       "\n",
       "[1 rows x 784 columns]"
      ]
     },
     "execution_count": 64,
     "metadata": {},
     "output_type": "execute_result"
    }
   ],
   "source": [
    "importanceOfPrincipalComponents.sort_values(by= 0, axis=1, ascending=False)"
   ]
  },
  {
   "cell_type": "markdown",
   "metadata": {
    "id": "4dygTFFYTlp6"
   },
   "source": [
    "## 5] 주성분 정보량 시각화\n",
    "\n",
    "상위 20개의 주성분이 갖고 있는 정보량은 어느 정도인지,\n",
    "\n",
    "importanceOfPrincipalComponents와<br>\n",
    "sns.barplot() 함수를 이용해 그래프를 그려 보세요!"
   ]
  },
  {
   "cell_type": "code",
   "execution_count": 63,
   "metadata": {
    "colab": {
     "base_uri": "https://localhost:8080/",
     "height": 265
    },
    "id": "bc-DPIs1deKL",
    "outputId": "e446c2a0-296b-4951-917e-90892acef0e8"
   },
   "outputs": [
    {
     "data": {
      "image/png": "[encoded data removed]",
      "text/plain": [
       "<Figure size 432x288 with 1 Axes>"
      ]
     },
     "metadata": {
      "needs_background": "light"
     },
     "output_type": "display_data"
    }
   ],
   "source": [
    "# data = ___________________ 부분을 채워 주세요!\n",
    "sns.barplot(\n",
    "    data= importanceOfPrincipalComponents.sort_values(by= 0, axis=1, ascending=False).iloc[:,0:20].T.reset_index(drop=True).T\n",
    ")\n",
    "plt.show()"
   ]
  },
  {
   "cell_type": "markdown",
   "metadata": {
    "id": "oQIjL1yMT2pT"
   },
   "source": [
    "Optional]<br>\n",
    "이번에는 누적 정보량을 확인해 봅니다.\n",
    "\n",
    "pca.explained_variance_ratio_ 혹은<br>\n",
    "importanceOfPrincipalComponent를 통해\n",
    "\n",
    "누적 정보량을 나타내는<br>\n",
    "CumulativeImportanceOfPrincipalComponents 를 정의해 주세요.\n",
    "\n",
    "그리고 위에서처럼, 상위 20개까지 barplot에 표시해 주세요!"
   ]
  },
  {
   "cell_type": "code",
   "execution_count": 73,
   "metadata": {},
   "outputs": [
    {
     "data": {
      "text/plain": [
       "0.07059821"
      ]
     },
     "execution_count": 73,
     "metadata": {},
     "output_type": "execute_result"
    }
   ],
   "source": [
    "importanceOfPrincipalComponents.sort_values(by= 0, axis=1, ascending=False).values[0][1]"
   ]
  },
  {
   "cell_type": "code",
   "execution_count": 75,
   "metadata": {
    "id": "gjpS4_t0ebsD"
   },
   "outputs": [],
   "source": [
    "# 참고!\n",
    "# 저는 아래와 같은 코드를 사용했으며, 더 좋은 방식이 있을 수 있습니다!\n",
    "# ??? 부분을 채워 주세요!\n",
    "\n",
    "cumulative = []\n",
    "temp = 0\n",
    "for i in range(0, 784):\n",
    "    temp += importanceOfPrincipalComponents.sort_values(by= 0, axis=1, ascending=False).values[0][i]\n",
    "    cumulative.append(temp)\n",
    "\n",
    "cumulative = pd.DataFrame(data=cumulative)\n",
    "CumulativeImportanceOfPrincipalComponents = cumulative.T\n"
   ]
  },
  {
   "cell_type": "code",
   "execution_count": 76,
   "metadata": {
    "colab": {
     "base_uri": "https://localhost:8080/",
     "height": 265
    },
    "id": "zvNogNDFfI08",
    "outputId": "8f94ebf9-c746-4743-acf7-0e254f8a8016"
   },
   "outputs": [
    {
     "data": {
      "image/png": "[encoded data removed]",
      "text/plain": [
       "<Figure size 432x288 with 1 Axes>"
      ]
     },
     "metadata": {
      "needs_background": "light"
     },
     "output_type": "display_data"
    }
   ],
   "source": [
    "sns.barplot(\n",
    "    data= CumulativeImportanceOfPrincipalComponents.loc[:, 0:19]\n",
    ")\n",
    "plt.show()"
   ]
  },
  {
   "cell_type": "markdown",
   "metadata": {
    "id": "_DyPZVXYEr5m"
   },
   "source": [
    "## 6] Clustering\n",
    "k-means Clustering의 결과를 시각적으로 확인해 봅시다!\n",
    "\n",
    "6]번 문제는 MNIST 데이터를 사용하지 않고,<br>\n",
    "scikit-learn의 make_blobs 함수를 사용해 연습용 데이터를 만들겠습니다.\n",
    "\n",
    "아래의 코드를 실행해 연습용 데이터를 생성하고, 이를 시각화해 주세요!<br>\n",
    "주의] 실행할 때마다 연습용 데이터가 달라지므로, **데이터가 너무 겹쳐 있는 경우 재실행**해 주세요."
   ]
  },
  {
   "cell_type": "code",
   "execution_count": 79,
   "metadata": {
    "colab": {
     "base_uri": "https://localhost:8080/",
     "height": 284
    },
    "id": "K5G3kNjkDMep",
    "outputId": "6d3a6d8a-4167-4a0a-d1b7-47b154384642"
   },
   "outputs": [
    {
     "data": {
      "text/plain": [
       "<matplotlib.collections.PathCollection at 0x16834793160>"
      ]
     },
     "execution_count": 79,
     "metadata": {},
     "output_type": "execute_result"
    },
    {
     "data": {
      "image/png": "[encoded data removed]",
      "text/plain": [
       "<Figure size 432x288 with 1 Axes>"
      ]
     },
     "metadata": {
      "needs_background": "light"
     },
     "output_type": "display_data"
    }
   ],
   "source": [
    "import matplotlib.pyplot as plt\n",
    "from sklearn.cluster import KMeans\n",
    "from sklearn.datasets import make_blobs\n",
    "\n",
    "n_center = 5\n",
    "\n",
    "# Example Data 생성\n",
    "X, y = make_blobs(n_samples=1000, centers=n_center, cluster_std=1.0)\n",
    "plt.scatter(X[:, 0], X[:, 1], marker='.')"
   ]
  },
  {
   "cell_type": "markdown",
   "metadata": {
    "id": "8f35Uhe0VZey"
   },
   "source": [
    "아래의 코드를 실행해 Clustering을 적용해 봅니다."
   ]
  },
  {
   "cell_type": "code",
   "execution_count": 80,
   "metadata": {
    "colab": {
     "base_uri": "https://localhost:8080/"
    },
    "id": "nG1GaaVvExuc",
    "outputId": "b9bf03be-e744-4232-a2cd-addd2b62dab9"
   },
   "outputs": [
    {
     "name": "stdout",
     "output_type": "stream",
     "text": [
      "k_means_labels :  [4 2 4 1 3 1 2 4 0 0 4 0 4 4 1 1 3 3 4 3 3 0 4 2 2 1 1 3 0 2 3 3 0 4 3 3 3\n",
      " 2 0 0 0 2 4 2 2 1 4 4 4 3 3 2 1 3 1 4 4 3 0 1 1 0 0 2 4 0 4 1 3 3 3 0 4 4\n",
      " 3 3 1 4 4 4 4 1 4 4 1 2 2 3 3 2 2 1 2 1 2 2 3 4 2 3 3 1 0 0 1 1 3 1 0 4 3\n",
      " 1 1 3 0 2 1 3 0 1 4 0 4 0 2 2 3 4 1 0 2 4 0 4 3 0 2 1 0 3 3 1 4 2 2 1 3 4\n",
      " 1 1 4 3 3 1 4 1 4 3 2 1 4 4 1 0 0 1 2 4 4 2 2 2 1 4 4 1 3 1 3 1 2 4 3 2 3\n",
      " 3 2 3 4 2 2 3 2 4 4 4 3 3 4 1 0 0 2 0 4 0 3 3 2 1 2 0 1 2 3 1 1 3 2 3 4 0\n",
      " 2 3 1 1 1 2 2 4 2 4 3 1 0 3 3 2 3 3 4 4 2 2 3 2 1 1 4 3 2 1 0 4 2 4 2 3 0\n",
      " 2 2 0 2 0 2 0 1 3 4 1 1 2 1 4 2 3 1 4 0 3 3 2 0 2 4 4 2 3 2 2 3 1 1 3 4 0\n",
      " 1 3 3 1 2 1 2 2 2 2 2 1 3 4 0 4 1 1 3 1 0 2 0 1 2 4 2 3 1 3 2 4 3 0 0 2 1\n",
      " 1 3 2 2 2 2 0 1 2 1 1 0 1 2 1 0 1 4 2 3 3 4 2 3 2 1 2 1 0 2 3 0 1 4 1 4 1\n",
      " 1 0 4 1 4 4 0 4 3 3 3 2 3 3 1 3 0 3 4 1 0 3 1 4 3 4 4 3 1 1 3 1 0 4 0 1 1\n",
      " 4 0 0 2 4 0 0 4 2 3 3 2 1 1 4 4 2 2 0 1 2 0 3 0 3 0 1 3 3 1 0 3 3 0 3 0 3\n",
      " 4 1 1 0 4 3 3 2 4 1 0 0 2 3 0 0 1 3 3 3 4 3 4 3 0 2 0 1 1 1 0 1 1 1 4 4 2\n",
      " 1 2 1 0 4 4 2 4 0 0 0 0 3 3 3 4 1 3 0 4 3 1 4 0 0 1 0 2 1 1 0 1 1 4 4 1 4\n",
      " 3 2 2 0 3 4 2 2 3 2 1 1 3 4 3 2 1 4 4 2 0 4 2 1 4 3 4 0 1 0 3 2 0 3 2 1 3\n",
      " 0 2 3 2 3 4 2 4 3 0 2 1 4 0 0 4 3 3 2 0 4 3 0 4 2 0 2 1 2 0 4 1 2 1 0 3 4\n",
      " 2 3 0 1 3 2 1 0 4 3 0 0 0 3 2 1 2 2 1 1 1 0 2 0 3 2 4 3 2 3 1 1 1 4 0 0 0\n",
      " 0 4 3 1 2 1 4 1 1 4 2 2 1 4 2 3 4 3 1 2 4 3 2 1 3 3 4 0 3 4 0 2 4 4 1 2 0\n",
      " 4 2 0 4 0 3 3 0 3 3 3 2 4 1 3 4 1 0 2 2 2 0 4 0 2 2 0 2 2 3 0 1 2 4 0 4 3\n",
      " 2 4 3 2 1 1 3 0 4 2 3 3 0 3 4 3 1 1 0 0 0 4 1 3 2 3 2 1 2 0 4 3 3 2 2 1 4\n",
      " 0 3 4 3 0 4 3 3 0 1 1 0 2 3 3 2 0 4 0 4 2 4 0 1 0 4 1 1 2 4 2 0 4 4 4 1 0\n",
      " 3 2 2 3 0 1 1 2 3 2 1 4 4 1 0 2 1 0 4 0 0 4 1 1 0 4 4 3 3 4 3 3 3 1 3 4 4\n",
      " 4 4 4 3 2 1 0 4 3 4 3 1 0 1 0 0 0 2 1 1 3 3 1 1 3 4 1 4 1 2 4 3 3 0 3 1 2\n",
      " 4 2 1 0 1 4 1 2 0 0 2 0 1 3 3 2 2 3 0 3 2 3 2 3 0 1 3 4 1 4 1 0 1 2 2 3 4\n",
      " 2 4 3 0 2 2 3 1 3 4 1 1 3 4 2 4 3 4 2 4 0 1 3 0 4 2 4 2 2 4 3 0 2 4 3 2 3\n",
      " 1 3 0 0 3 0 4 3 2 4 2 2 2 3 3 3 2 3 2 1 4 4 1 1 3 2 4 2 3 4 3 3 4 4 3 0 3\n",
      " 3 3 3 0 4 4 3 2 0 2 2 1 0 3 1 0 2 3 3 1 2 2 0 3 0 3 2 4 4 3 1 3 1 1 4 3 1\n",
      " 3]\n",
      "k_means_cluster_centers :  [[ 1.88401778  3.77972982]\n",
      " [-1.24600392 -8.07269664]\n",
      " [ 7.32867902  8.01039463]\n",
      " [ 2.36322193  5.76453342]\n",
      " [-0.04226474 -0.30314099]]\n"
     ]
    }
   ],
   "source": [
    "# Cluster 생성\n",
    "\n",
    "k_means = KMeans(n_clusters=n_center, n_init=12)\n",
    "k_means.fit(X)\n",
    "\n",
    "k_means_labels = k_means.labels_\n",
    "print('k_means_labels : ', k_means_labels)\n",
    "\n",
    "k_means_cluster_centers = k_means.cluster_centers_\n",
    "print('k_means_cluster_centers : ', k_means_cluster_centers)"
   ]
  },
  {
   "cell_type": "markdown",
   "metadata": {
    "id": "l10AAagiVd_E"
   },
   "source": [
    "마지막으로, 아래의 코드를 실행해<br>\n",
    "k-means clustering의 결과물을 시각화해 주세요!"
   ]
  },
  {
   "cell_type": "code",
   "execution_count": 81,
   "metadata": {
    "colab": {
     "base_uri": "https://localhost:8080/",
     "height": 268
    },
    "id": "AS7tyJXRE9mM",
    "outputId": "e419cff9-bec1-4ad9-9595-3e16b6ad2243"
   },
   "outputs": [
    {
     "data": {
      "image/png": "[encoded data removed]",
      "text/plain": [
       "<Figure size 432x288 with 1 Axes>"
      ]
     },
     "metadata": {},
     "output_type": "display_data"
    }
   ],
   "source": [
    "# 지정된 크기로 초기화\n",
    "fig = plt.figure(figsize=(6, 4))\n",
    "\n",
    "# 레이블 수에 따라 색상 배열 생성, 고유한 색상을 얻기 위해 set(k_means_labels) 설정\n",
    "colors = plt.cm.Spectral(np.linspace(0, 1, len(set(k_means_labels))))\n",
    "\n",
    "# plot 생성\n",
    "ax = fig.add_subplot(1, 1, 1)\n",
    "\n",
    "for k, col in zip(range(n_center), colors):\n",
    "    my_members = (k_means_labels == k)\n",
    "\n",
    "    # 중심 정의\n",
    "    cluster_center = k_means_cluster_centers[k]\n",
    "\n",
    "    # 중심 그리기\n",
    "    ax.plot(X[my_members, 0], X[my_members, 1], 'w', markerfacecolor=col, marker='.')\n",
    "    ax.plot(cluster_center[0], cluster_center[1], 'o', markerfacecolor=col, markeredgecolor='k', markersize=6)\n",
    "\n",
    "ax.set_title('K-Means')\n",
    "ax.set_xticks(())\n",
    "ax.set_yticks(())\n",
    "plt.show()"
   ]
  },
  {
   "cell_type": "markdown",
   "metadata": {
    "id": "xkI49GsiVjz2"
   },
   "source": [
    "-- 수고하셨습니다 --"
   ]
  }
 ],
 "metadata": {
  "colab": {
   "collapsed_sections": [],
   "name": "[0811] Unsupervised Learning 과제",
   "provenance": [],
   "toc_visible": true
  },
  "kernelspec": {
   "display_name": "Python 3 (ipykernel)",
   "language": "python",
   "name": "python3"
  },
  "language_info": {
   "codemirror_mode": {
    "name": "ipython",
    "version": 3
   },
   "file_extension": ".py",
   "mimetype": "text/x-python",
   "name": "python",
   "nbconvert_exporter": "python",
   "pygments_lexer": "ipython3",
   "version": "3.9.7"
  }
 },
 "nbformat": 4,
 "nbformat_minor": 1
}
