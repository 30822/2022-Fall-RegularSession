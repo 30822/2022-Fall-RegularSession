{
  "nbformat": 4,
  "nbformat_minor": 0,
  "metadata": {
    "colab": {
      "name": "[0825]_CNN_Implementation_HW (1).ipynb",
      "provenance": [],
      "collapsed_sections": [
        "Sd8bNbBtG7MN",
        "3LgGgWEgHGGu",
        "BeNI_9V6MU2n",
        "rboi4fYVMlEx",
        "Sv55PC9pOHrP",
        "FMapVOiIUeR8",
        "Vxx2AuRzUyLa",
        "1QOgMhGoVETS"
      ]
    },
    "kernelspec": {
      "name": "python3",
      "display_name": "Python 3"
    },
    "language_info": {
      "name": "python"
    },
    "widgets": {
      "application/vnd.jupyter.widget-state+json": {
        "c1e1eb2a661147c4a841410bfce19de6": {
          "model_module": "@jupyter-widgets/controls",
          "model_name": "HBoxModel",
          "model_module_version": "1.5.0",
          "state": {
            "_dom_classes": [],
            "_model_module": "@jupyter-widgets/controls",
            "_model_module_version": "1.5.0",
            "_model_name": "HBoxModel",
            "_view_count": null,
            "_view_module": "@jupyter-widgets/controls",
            "_view_module_version": "1.5.0",
            "_view_name": "HBoxView",
            "box_style": "",
            "children": [
              "IPY_MODEL_9233c65c74dd4345b7f687f8d3dfbbcf",
              "IPY_MODEL_00a1318d07384a0f84578d7c4973e245",
              "IPY_MODEL_73f94d50e8104a4caf17d4dbc2711418"
            ],
            "layout": "IPY_MODEL_ad80a6083a5346c49141bd569ad91e4c"
          }
        },
        "9233c65c74dd4345b7f687f8d3dfbbcf": {
          "model_module": "@jupyter-widgets/controls",
          "model_name": "HTMLModel",
          "model_module_version": "1.5.0",
          "state": {
            "_dom_classes": [],
            "_model_module": "@jupyter-widgets/controls",
            "_model_module_version": "1.5.0",
            "_model_name": "HTMLModel",
            "_view_count": null,
            "_view_module": "@jupyter-widgets/controls",
            "_view_module_version": "1.5.0",
            "_view_name": "HTMLView",
            "description": "",
            "description_tooltip": null,
            "layout": "IPY_MODEL_515acaea033841e9a2892bb635b212d3",
            "placeholder": "​",
            "style": "IPY_MODEL_8e37877534704d3a954498db44f90419",
            "value": "100%"
          }
        },
        "00a1318d07384a0f84578d7c4973e245": {
          "model_module": "@jupyter-widgets/controls",
          "model_name": "FloatProgressModel",
          "model_module_version": "1.5.0",
          "state": {
            "_dom_classes": [],
            "_model_module": "@jupyter-widgets/controls",
            "_model_module_version": "1.5.0",
            "_model_name": "FloatProgressModel",
            "_view_count": null,
            "_view_module": "@jupyter-widgets/controls",
            "_view_module_version": "1.5.0",
            "_view_name": "ProgressView",
            "bar_style": "success",
            "description": "",
            "description_tooltip": null,
            "layout": "IPY_MODEL_b07723a944714736b1b15fab6aef2357",
            "max": 46830571,
            "min": 0,
            "orientation": "horizontal",
            "style": "IPY_MODEL_2b03d35849964d18bab65b7f7c8a4881",
            "value": 46830571
          }
        },
        "73f94d50e8104a4caf17d4dbc2711418": {
          "model_module": "@jupyter-widgets/controls",
          "model_name": "HTMLModel",
          "model_module_version": "1.5.0",
          "state": {
            "_dom_classes": [],
            "_model_module": "@jupyter-widgets/controls",
            "_model_module_version": "1.5.0",
            "_model_name": "HTMLModel",
            "_view_count": null,
            "_view_module": "@jupyter-widgets/controls",
            "_view_module_version": "1.5.0",
            "_view_name": "HTMLView",
            "description": "",
            "description_tooltip": null,
            "layout": "IPY_MODEL_08ce9068938147bbbbb2e8065f4c822f",
            "placeholder": "​",
            "style": "IPY_MODEL_8f2fd8abf936454fa3467d5c87a00b20",
            "value": " 44.7M/44.7M [00:00&lt;00:00, 103MB/s]"
          }
        },
        "ad80a6083a5346c49141bd569ad91e4c": {
          "model_module": "@jupyter-widgets/base",
          "model_name": "LayoutModel",
          "model_module_version": "1.2.0",
          "state": {
            "_model_module": "@jupyter-widgets/base",
            "_model_module_version": "1.2.0",
            "_model_name": "LayoutModel",
            "_view_count": null,
            "_view_module": "@jupyter-widgets/base",
            "_view_module_version": "1.2.0",
            "_view_name": "LayoutView",
            "align_content": null,
            "align_items": null,
            "align_self": null,
            "border": null,
            "bottom": null,
            "display": null,
            "flex": null,
            "flex_flow": null,
            "grid_area": null,
            "grid_auto_columns": null,
            "grid_auto_flow": null,
            "grid_auto_rows": null,
            "grid_column": null,
            "grid_gap": null,
            "grid_row": null,
            "grid_template_areas": null,
            "grid_template_columns": null,
            "grid_template_rows": null,
            "height": null,
            "justify_content": null,
            "justify_items": null,
            "left": null,
            "margin": null,
            "max_height": null,
            "max_width": null,
            "min_height": null,
            "min_width": null,
            "object_fit": null,
            "object_position": null,
            "order": null,
            "overflow": null,
            "overflow_x": null,
            "overflow_y": null,
            "padding": null,
            "right": null,
            "top": null,
            "visibility": null,
            "width": null
          }
        },
        "515acaea033841e9a2892bb635b212d3": {
          "model_module": "@jupyter-widgets/base",
          "model_name": "LayoutModel",
          "model_module_version": "1.2.0",
          "state": {
            "_model_module": "@jupyter-widgets/base",
            "_model_module_version": "1.2.0",
            "_model_name": "LayoutModel",
            "_view_count": null,
            "_view_module": "@jupyter-widgets/base",
            "_view_module_version": "1.2.0",
            "_view_name": "LayoutView",
            "align_content": null,
            "align_items": null,
            "align_self": null,
            "border": null,
            "bottom": null,
            "display": null,
            "flex": null,
            "flex_flow": null,
            "grid_area": null,
            "grid_auto_columns": null,
            "grid_auto_flow": null,
            "grid_auto_rows": null,
            "grid_column": null,
            "grid_gap": null,
            "grid_row": null,
            "grid_template_areas": null,
            "grid_template_columns": null,
            "grid_template_rows": null,
            "height": null,
            "justify_content": null,
            "justify_items": null,
            "left": null,
            "margin": null,
            "max_height": null,
            "max_width": null,
            "min_height": null,
            "min_width": null,
            "object_fit": null,
            "object_position": null,
            "order": null,
            "overflow": null,
            "overflow_x": null,
            "overflow_y": null,
            "padding": null,
            "right": null,
            "top": null,
            "visibility": null,
            "width": null
          }
        },
        "8e37877534704d3a954498db44f90419": {
          "model_module": "@jupyter-widgets/controls",
          "model_name": "DescriptionStyleModel",
          "model_module_version": "1.5.0",
          "state": {
            "_model_module": "@jupyter-widgets/controls",
            "_model_module_version": "1.5.0",
            "_model_name": "DescriptionStyleModel",
            "_view_count": null,
            "_view_module": "@jupyter-widgets/base",
            "_view_module_version": "1.2.0",
            "_view_name": "StyleView",
            "description_width": ""
          }
        },
        "b07723a944714736b1b15fab6aef2357": {
          "model_module": "@jupyter-widgets/base",
          "model_name": "LayoutModel",
          "model_module_version": "1.2.0",
          "state": {
            "_model_module": "@jupyter-widgets/base",
            "_model_module_version": "1.2.0",
            "_model_name": "LayoutModel",
            "_view_count": null,
            "_view_module": "@jupyter-widgets/base",
            "_view_module_version": "1.2.0",
            "_view_name": "LayoutView",
            "align_content": null,
            "align_items": null,
            "align_self": null,
            "border": null,
            "bottom": null,
            "display": null,
            "flex": null,
            "flex_flow": null,
            "grid_area": null,
            "grid_auto_columns": null,
            "grid_auto_flow": null,
            "grid_auto_rows": null,
            "grid_column": null,
            "grid_gap": null,
            "grid_row": null,
            "grid_template_areas": null,
            "grid_template_columns": null,
            "grid_template_rows": null,
            "height": null,
            "justify_content": null,
            "justify_items": null,
            "left": null,
            "margin": null,
            "max_height": null,
            "max_width": null,
            "min_height": null,
            "min_width": null,
            "object_fit": null,
            "object_position": null,
            "order": null,
            "overflow": null,
            "overflow_x": null,
            "overflow_y": null,
            "padding": null,
            "right": null,
            "top": null,
            "visibility": null,
            "width": null
          }
        },
        "2b03d35849964d18bab65b7f7c8a4881": {
          "model_module": "@jupyter-widgets/controls",
          "model_name": "ProgressStyleModel",
          "model_module_version": "1.5.0",
          "state": {
            "_model_module": "@jupyter-widgets/controls",
            "_model_module_version": "1.5.0",
            "_model_name": "ProgressStyleModel",
            "_view_count": null,
            "_view_module": "@jupyter-widgets/base",
            "_view_module_version": "1.2.0",
            "_view_name": "StyleView",
            "bar_color": null,
            "description_width": ""
          }
        },
        "08ce9068938147bbbbb2e8065f4c822f": {
          "model_module": "@jupyter-widgets/base",
          "model_name": "LayoutModel",
          "model_module_version": "1.2.0",
          "state": {
            "_model_module": "@jupyter-widgets/base",
            "_model_module_version": "1.2.0",
            "_model_name": "LayoutModel",
            "_view_count": null,
            "_view_module": "@jupyter-widgets/base",
            "_view_module_version": "1.2.0",
            "_view_name": "LayoutView",
            "align_content": null,
            "align_items": null,
            "align_self": null,
            "border": null,
            "bottom": null,
            "display": null,
            "flex": null,
            "flex_flow": null,
            "grid_area": null,
            "grid_auto_columns": null,
            "grid_auto_flow": null,
            "grid_auto_rows": null,
            "grid_column": null,
            "grid_gap": null,
            "grid_row": null,
            "grid_template_areas": null,
            "grid_template_columns": null,
            "grid_template_rows": null,
            "height": null,
            "justify_content": null,
            "justify_items": null,
            "left": null,
            "margin": null,
            "max_height": null,
            "max_width": null,
            "min_height": null,
            "min_width": null,
            "object_fit": null,
            "object_position": null,
            "order": null,
            "overflow": null,
            "overflow_x": null,
            "overflow_y": null,
            "padding": null,
            "right": null,
            "top": null,
            "visibility": null,
            "width": null
          }
        },
        "8f2fd8abf936454fa3467d5c87a00b20": {
          "model_module": "@jupyter-widgets/controls",
          "model_name": "DescriptionStyleModel",
          "model_module_version": "1.5.0",
          "state": {
            "_model_module": "@jupyter-widgets/controls",
            "_model_module_version": "1.5.0",
            "_model_name": "DescriptionStyleModel",
            "_view_count": null,
            "_view_module": "@jupyter-widgets/base",
            "_view_module_version": "1.2.0",
            "_view_name": "StyleView",
            "description_width": ""
          }
        }
      }
    },
    "gpuClass": "standard",
    "accelerator": "GPU"
  },
  "cells": [
    {
      "cell_type": "markdown",
      "source": [
        "# HomeWork"
      ],
      "metadata": {
        "id": "thbD34rU6cIX"
      }
    },
    {
      "cell_type": "markdown",
      "source": [
        "과제는 다음과 같습니다.\n",
        "\n",
        "1. 이미지 최종 embedding size 맞도록 계산 및 코드 수정하기\n",
        "2. 좋은 성능이 나오도록 자유롭게 Resnet Fine tunning 실험해보기"
      ],
      "metadata": {
        "id": "p_yTxwPk6feE"
      }
    },
    {
      "cell_type": "code",
      "source": [
        "## 필요한 모듈 import\n",
        "\n",
        "import torch\n",
        "import torch.nn as nn\n",
        "import torch.nn.functional as F\n",
        "import torch.optim as optim\n",
        "\n",
        "import torchvision \n",
        "from torchvision import datasets, models, transforms\n",
        "\n",
        "from torchsummary import summary\n",
        "\n",
        "import matplotlib.pyplot as plt\n",
        "import numpy as np\n",
        "import time\n",
        "import copy"
      ],
      "metadata": {
        "id": "suJnhMLTGTqD"
      },
      "execution_count": 1,
      "outputs": []
    },
    {
      "cell_type": "markdown",
      "source": [
        "## 1. 데이터 로드"
      ],
      "metadata": {
        "id": "Sd8bNbBtG7MN"
      }
    },
    {
      "cell_type": "code",
      "source": [
        "# Pre-trained ResNet 가져오기\n",
        "Resnet = torchvision.models.resnet18(pretrained=True) # 해당 부분을 False로 바꾸면 구조만 가져온다"
      ],
      "metadata": {
        "colab": {
          "base_uri": "https://localhost:8080/",
          "height": 0,
          "referenced_widgets": [
            "c1e1eb2a661147c4a841410bfce19de6",
            "9233c65c74dd4345b7f687f8d3dfbbcf",
            "00a1318d07384a0f84578d7c4973e245",
            "73f94d50e8104a4caf17d4dbc2711418",
            "ad80a6083a5346c49141bd569ad91e4c",
            "515acaea033841e9a2892bb635b212d3",
            "8e37877534704d3a954498db44f90419",
            "b07723a944714736b1b15fab6aef2357",
            "2b03d35849964d18bab65b7f7c8a4881",
            "08ce9068938147bbbbb2e8065f4c822f",
            "8f2fd8abf936454fa3467d5c87a00b20"
          ]
        },
        "id": "RNXomtvNGUbX",
        "outputId": "15519219-fdfb-4300-ebdd-ba7e0c711f87"
      },
      "execution_count": 2,
      "outputs": [
        {
          "output_type": "stream",
          "name": "stderr",
          "text": [
            "/usr/local/lib/python3.7/dist-packages/torchvision/models/_utils.py:209: UserWarning: The parameter 'pretrained' is deprecated since 0.13 and will be removed in 0.15, please use 'weights' instead.\n",
            "  f\"The parameter '{pretrained_param}' is deprecated since 0.13 and will be removed in 0.15, \"\n",
            "/usr/local/lib/python3.7/dist-packages/torchvision/models/_utils.py:223: UserWarning: Arguments other than a weight enum or `None` for 'weights' are deprecated since 0.13 and will be removed in 0.15. The current behavior is equivalent to passing `weights=ResNet18_Weights.IMAGENET1K_V1`. You can also use `weights=ResNet18_Weights.DEFAULT` to get the most up-to-date weights.\n",
            "  warnings.warn(msg)\n",
            "Downloading: \"https://download.pytorch.org/models/resnet18-f37072fd.pth\" to /root/.cache/torch/hub/checkpoints/resnet18-f37072fd.pth\n"
          ]
        },
        {
          "output_type": "display_data",
          "data": {
            "text/plain": [
              "  0%|          | 0.00/44.7M [00:00<?, ?B/s]"
            ],
            "application/vnd.jupyter.widget-view+json": {
              "version_major": 2,
              "version_minor": 0,
              "model_id": "c1e1eb2a661147c4a841410bfce19de6"
            }
          },
          "metadata": {}
        }
      ]
    },
    {
      "cell_type": "code",
      "source": [
        "from google.colab import drive\n",
        "drive.mount('/content/drive')"
      ],
      "metadata": {
        "colab": {
          "base_uri": "https://localhost:8080/"
        },
        "id": "QDMyGL7LGZSc",
        "outputId": "d0d457f0-930c-4941-c294-aa01f8602f5e"
      },
      "execution_count": 3,
      "outputs": [
        {
          "output_type": "stream",
          "name": "stdout",
          "text": [
            "Mounted at /content/drive\n"
          ]
        }
      ]
    },
    {
      "cell_type": "code",
      "source": [
        "!unzip -qq \"/content/drive/MyDrive/0825_CNN_Implementation/face_dataset-20220825T022545Z-001.zip\""
      ],
      "metadata": {
        "id": "emGMAYzaGhf-"
      },
      "execution_count": 4,
      "outputs": []
    },
    {
      "cell_type": "code",
      "source": [
        "## 데이터셋 로드 \n",
        "## 제공된 사람 얼굴 이미지를 사용할 것\n",
        "from torchvision.datasets import ImageFolder\n",
        "import os\n",
        "\n",
        "data_dir = 'face_dataset'\n",
        "path = {x: os.path.join('/content/',data_dir,'facescrub_'+x) for x in ['train', 'test'] } # Train, Test 경로 지정\n",
        "## local에 이미지를 저장했으면 저장한 경로만 찾아서 붙여넣어 주기\n",
        "print(path)\n",
        "train_data = ImageFolder(path['train'], transforms.Compose([transforms.ToTensor()]))\n",
        "test_data = ImageFolder(path['test'], transforms.Compose([transforms.ToTensor()]))"
      ],
      "metadata": {
        "colab": {
          "base_uri": "https://localhost:8080/"
        },
        "id": "Um5NLgxBGoy1",
        "outputId": "b2357a3d-4b2c-488c-fcfe-3a7a0e01d128"
      },
      "execution_count": 5,
      "outputs": [
        {
          "output_type": "stream",
          "name": "stdout",
          "text": [
            "{'train': '/content/face_dataset/facescrub_train', 'test': '/content/face_dataset/facescrub_test'}\n"
          ]
        }
      ]
    },
    {
      "cell_type": "code",
      "source": [
        "## Train data의 개수 확인 \n",
        "len(train_data)"
      ],
      "metadata": {
        "colab": {
          "base_uri": "https://localhost:8080/"
        },
        "id": "rVTckLxdGrC7",
        "outputId": "5135ad82-14e8-4568-a514-4857292037f6"
      },
      "execution_count": 6,
      "outputs": [
        {
          "output_type": "execute_result",
          "data": {
            "text/plain": [
              "4000"
            ]
          },
          "metadata": {},
          "execution_count": 6
        }
      ]
    },
    {
      "cell_type": "code",
      "source": [
        "## Test data의 개수 확인 \n",
        "len(test_data)"
      ],
      "metadata": {
        "colab": {
          "base_uri": "https://localhost:8080/"
        },
        "id": "Y6kR39uDGuNj",
        "outputId": "8f5e8f57-0421-4126-88c6-65139ed534c6"
      },
      "execution_count": 7,
      "outputs": [
        {
          "output_type": "execute_result",
          "data": {
            "text/plain": [
              "1000"
            ]
          },
          "metadata": {},
          "execution_count": 7
        }
      ]
    },
    {
      "cell_type": "markdown",
      "source": [
        "## 2. 데이터 전처리 설정"
      ],
      "metadata": {
        "id": "3LgGgWEgHGGu"
      }
    },
    {
      "cell_type": "code",
      "source": [
        "avgR = 0.6565039 \n",
        "avgG = 0.4843807\n",
        "avgB = 0.4084822\n",
        "stdR = 0.20245129\n",
        "stdG = 0.17317267\n",
        "stdB = 0.1622832"
      ],
      "metadata": {
        "id": "Dqyv2kdjIIRV"
      },
      "execution_count": 8,
      "outputs": []
    },
    {
      "cell_type": "code",
      "source": [
        "## 데이터 전처리를 위한 과정 <- trial(resize,crop을 사용하지 않음)\n",
        "\n",
        "data_transforms_trial = {\n",
        "    'facescrub_train': transforms.Compose([\n",
        "     \n",
        "        transforms.RandomHorizontalFlip(), # 수평으로 뒤집기\n",
        "        transforms.RandomVerticalFlip(), # 수직으로 뒤집기\n",
        "        # 이미지를 텐서로 변경\n",
        "        transforms.ToTensor(),\n",
        "        # Input 값 Normalize 해주기 ( 각 채널의 평균 값과 표준편차 값으로 정규화 해줌 )\n",
        "        transforms.Normalize([avgR, avgG, avgB], [stdR, stdG, stdB])\n",
        "    ]),\n",
        "    # 위와 동일한 과정 Test set에 대해 진행하기\n",
        "    'facescrub_test': transforms.Compose([\n",
        "        \n",
        "        transforms.ToTensor(),\n",
        "        transforms.Normalize([avgR, avgG, avgB], [stdR, stdG, stdB])\n",
        "    ]),\n",
        "}"
      ],
      "metadata": {
        "id": "fgrzVcpYHmWa"
      },
      "execution_count": 9,
      "outputs": []
    },
    {
      "cell_type": "markdown",
      "source": [
        "## 3. 데이터 전처리 및 Dataset 객체선언; ImageFolder"
      ],
      "metadata": {
        "id": "BeNI_9V6MU2n"
      }
    },
    {
      "cell_type": "code",
      "source": [
        "## 앞서 정의한 data_transforms를 이용해 실제 train과 test 이미지셋을 만들어 준다\n",
        "image_datasets = {x: datasets.ImageFolder(os.path.join('/content/face_dataset/', x),\n",
        "                                          data_transforms_trial[x]) for x in ['facescrub_train', 'facescrub_test']}"
      ],
      "metadata": {
        "id": "dak7wx1pHicY"
      },
      "execution_count": 10,
      "outputs": []
    },
    {
      "cell_type": "code",
      "source": [
        "## Train과 Testset의 크기 확인\n",
        "data_sizes = {x: len(image_datasets[x]) for x in ['facescrub_train', 'facescrub_test']}\n",
        "print(data_sizes['facescrub_train'])\n",
        "print(data_sizes['facescrub_test'])"
      ],
      "metadata": {
        "colab": {
          "base_uri": "https://localhost:8080/"
        },
        "id": "C3Et-MmPHknM",
        "outputId": "5051d9c4-d5c1-430a-ae1f-6a7e7f8dd58a"
      },
      "execution_count": 11,
      "outputs": [
        {
          "output_type": "stream",
          "name": "stdout",
          "text": [
            "4000\n",
            "1000\n"
          ]
        }
      ]
    },
    {
      "cell_type": "code",
      "source": [
        "## 데이터의 resize, crop을 하지 않은 데이터의 크기를 확인\n",
        "\n",
        "image_datasets['facescrub_train'][0][0].shape"
      ],
      "metadata": {
        "colab": {
          "base_uri": "https://localhost:8080/"
        },
        "id": "UMmfCOTvIiF8",
        "outputId": "a14b0830-b781-4d1a-eb12-be0238276089"
      },
      "execution_count": 12,
      "outputs": [
        {
          "output_type": "execute_result",
          "data": {
            "text/plain": [
              "torch.Size([3, 64, 64])"
            ]
          },
          "metadata": {},
          "execution_count": 12
        }
      ]
    },
    {
      "cell_type": "markdown",
      "source": [
        "## 4. DataLoader 정의"
      ],
      "metadata": {
        "id": "rboi4fYVMlEx"
      }
    },
    {
      "cell_type": "code",
      "source": [
        "## Dataloader를 설정해 준다\n",
        "dataloaders = {x: torch.utils.data.DataLoader(\n",
        "                       image_datasets[x], batch_size=16, # 이 부분에서 batch_size를 설정할 수 있음 \n",
        "                       shuffle=True, # train data를 batch로 묶을 때 섞을 것인지 결정\n",
        "                       num_workers=2) # Dataloader가 data를 읽어들일 때 사용할 스레드의 개수 (GPU 사용량을 결정)\n",
        "                                            for x in ['facescrub_train', 'facescrub_test']}\n",
        "## class 이름 설정 \n",
        "class_names = image_datasets['facescrub_train'].classes \n",
        "\n",
        "## 어떤 device를 이용할 것인지 결정한다 (gpu 불가능하면 cpu)\n",
        "device = torch.device(\"cuda:0\" if torch.cuda.is_available() else \"cpu\")"
      ],
      "metadata": {
        "id": "Duu5YjNPMkQb"
      },
      "execution_count": 13,
      "outputs": []
    },
    {
      "cell_type": "code",
      "source": [
        "print('Train입장')\n",
        "print('Dataloader를 사용한 batch의 갯수 :',len(dataloaders['facescrub_train']))\n",
        "print('직접 계산 :', data_sizes['facescrub_train']/16)\n",
        "print('-'*100)\n",
        "print('Test입장')\n",
        "print('Dataloader를 사용한 batch의 갯수 :',len(dataloaders['facescrub_test']))\n",
        "print('직접 계산 :', data_sizes['facescrub_test']/16)"
      ],
      "metadata": {
        "colab": {
          "base_uri": "https://localhost:8080/"
        },
        "id": "RS9-baBxM1Op",
        "outputId": "2d3a3b08-272d-452f-f77d-2be85135080b"
      },
      "execution_count": 14,
      "outputs": [
        {
          "output_type": "stream",
          "name": "stdout",
          "text": [
            "Train입장\n",
            "Dataloader를 사용한 batch의 갯수 : 250\n",
            "직접 계산 : 250.0\n",
            "----------------------------------------------------------------------------------------------------\n",
            "Test입장\n",
            "Dataloader를 사용한 batch의 갯수 : 63\n",
            "직접 계산 : 62.5\n"
          ]
        }
      ]
    },
    {
      "cell_type": "markdown",
      "source": [
        "## 5. Resnet모델 가져오기"
      ],
      "metadata": {
        "id": "Sv55PC9pOHrP"
      }
    },
    {
      "cell_type": "code",
      "source": [
        "# Pre-trained ResNet 가져오기\n",
        "Resnet_ready = torchvision.models.resnet18(pretrained=True) # 해당 부분을 False로 바꾸면 구조만 가져온다"
      ],
      "metadata": {
        "id": "v--zbInJOMT7"
      },
      "execution_count": 71,
      "outputs": []
    },
    {
      "cell_type": "code",
      "source": [
        "# ResNet18의 layer이름을 확인 ( 이후 layer 고칠 때 찾기 쉬우라고 함 )\n",
        "for name,child in Resnet_ready.named_children(): \n",
        "  print('Layer Name : ',name) # 각 layer의 이름 확인\n",
        "  print('Layer Info. : ',child) # 각 layer의 정보 확인\n",
        "  print()"
      ],
      "metadata": {
        "id": "bkef9YoIOPeO",
        "colab": {
          "base_uri": "https://localhost:8080/"
        },
        "outputId": "08f4993d-07e3-4c7c-c063-3d28c9a959f8"
      },
      "execution_count": 72,
      "outputs": [
        {
          "output_type": "stream",
          "name": "stdout",
          "text": [
            "Layer Name :  conv1\n",
            "Layer Info. :  Conv2d(3, 64, kernel_size=(7, 7), stride=(2, 2), padding=(3, 3), bias=False)\n",
            "\n",
            "Layer Name :  bn1\n",
            "Layer Info. :  BatchNorm2d(64, eps=1e-05, momentum=0.1, affine=True, track_running_stats=True)\n",
            "\n",
            "Layer Name :  relu\n",
            "Layer Info. :  ReLU(inplace=True)\n",
            "\n",
            "Layer Name :  maxpool\n",
            "Layer Info. :  MaxPool2d(kernel_size=3, stride=2, padding=1, dilation=1, ceil_mode=False)\n",
            "\n",
            "Layer Name :  layer1\n",
            "Layer Info. :  Sequential(\n",
            "  (0): BasicBlock(\n",
            "    (conv1): Conv2d(64, 64, kernel_size=(3, 3), stride=(1, 1), padding=(1, 1), bias=False)\n",
            "    (bn1): BatchNorm2d(64, eps=1e-05, momentum=0.1, affine=True, track_running_stats=True)\n",
            "    (relu): ReLU(inplace=True)\n",
            "    (conv2): Conv2d(64, 64, kernel_size=(3, 3), stride=(1, 1), padding=(1, 1), bias=False)\n",
            "    (bn2): BatchNorm2d(64, eps=1e-05, momentum=0.1, affine=True, track_running_stats=True)\n",
            "  )\n",
            "  (1): BasicBlock(\n",
            "    (conv1): Conv2d(64, 64, kernel_size=(3, 3), stride=(1, 1), padding=(1, 1), bias=False)\n",
            "    (bn1): BatchNorm2d(64, eps=1e-05, momentum=0.1, affine=True, track_running_stats=True)\n",
            "    (relu): ReLU(inplace=True)\n",
            "    (conv2): Conv2d(64, 64, kernel_size=(3, 3), stride=(1, 1), padding=(1, 1), bias=False)\n",
            "    (bn2): BatchNorm2d(64, eps=1e-05, momentum=0.1, affine=True, track_running_stats=True)\n",
            "  )\n",
            ")\n",
            "\n",
            "Layer Name :  layer2\n",
            "Layer Info. :  Sequential(\n",
            "  (0): BasicBlock(\n",
            "    (conv1): Conv2d(64, 128, kernel_size=(3, 3), stride=(2, 2), padding=(1, 1), bias=False)\n",
            "    (bn1): BatchNorm2d(128, eps=1e-05, momentum=0.1, affine=True, track_running_stats=True)\n",
            "    (relu): ReLU(inplace=True)\n",
            "    (conv2): Conv2d(128, 128, kernel_size=(3, 3), stride=(1, 1), padding=(1, 1), bias=False)\n",
            "    (bn2): BatchNorm2d(128, eps=1e-05, momentum=0.1, affine=True, track_running_stats=True)\n",
            "    (downsample): Sequential(\n",
            "      (0): Conv2d(64, 128, kernel_size=(1, 1), stride=(2, 2), bias=False)\n",
            "      (1): BatchNorm2d(128, eps=1e-05, momentum=0.1, affine=True, track_running_stats=True)\n",
            "    )\n",
            "  )\n",
            "  (1): BasicBlock(\n",
            "    (conv1): Conv2d(128, 128, kernel_size=(3, 3), stride=(1, 1), padding=(1, 1), bias=False)\n",
            "    (bn1): BatchNorm2d(128, eps=1e-05, momentum=0.1, affine=True, track_running_stats=True)\n",
            "    (relu): ReLU(inplace=True)\n",
            "    (conv2): Conv2d(128, 128, kernel_size=(3, 3), stride=(1, 1), padding=(1, 1), bias=False)\n",
            "    (bn2): BatchNorm2d(128, eps=1e-05, momentum=0.1, affine=True, track_running_stats=True)\n",
            "  )\n",
            ")\n",
            "\n",
            "Layer Name :  layer3\n",
            "Layer Info. :  Sequential(\n",
            "  (0): BasicBlock(\n",
            "    (conv1): Conv2d(128, 256, kernel_size=(3, 3), stride=(2, 2), padding=(1, 1), bias=False)\n",
            "    (bn1): BatchNorm2d(256, eps=1e-05, momentum=0.1, affine=True, track_running_stats=True)\n",
            "    (relu): ReLU(inplace=True)\n",
            "    (conv2): Conv2d(256, 256, kernel_size=(3, 3), stride=(1, 1), padding=(1, 1), bias=False)\n",
            "    (bn2): BatchNorm2d(256, eps=1e-05, momentum=0.1, affine=True, track_running_stats=True)\n",
            "    (downsample): Sequential(\n",
            "      (0): Conv2d(128, 256, kernel_size=(1, 1), stride=(2, 2), bias=False)\n",
            "      (1): BatchNorm2d(256, eps=1e-05, momentum=0.1, affine=True, track_running_stats=True)\n",
            "    )\n",
            "  )\n",
            "  (1): BasicBlock(\n",
            "    (conv1): Conv2d(256, 256, kernel_size=(3, 3), stride=(1, 1), padding=(1, 1), bias=False)\n",
            "    (bn1): BatchNorm2d(256, eps=1e-05, momentum=0.1, affine=True, track_running_stats=True)\n",
            "    (relu): ReLU(inplace=True)\n",
            "    (conv2): Conv2d(256, 256, kernel_size=(3, 3), stride=(1, 1), padding=(1, 1), bias=False)\n",
            "    (bn2): BatchNorm2d(256, eps=1e-05, momentum=0.1, affine=True, track_running_stats=True)\n",
            "  )\n",
            ")\n",
            "\n",
            "Layer Name :  layer4\n",
            "Layer Info. :  Sequential(\n",
            "  (0): BasicBlock(\n",
            "    (conv1): Conv2d(256, 512, kernel_size=(3, 3), stride=(2, 2), padding=(1, 1), bias=False)\n",
            "    (bn1): BatchNorm2d(512, eps=1e-05, momentum=0.1, affine=True, track_running_stats=True)\n",
            "    (relu): ReLU(inplace=True)\n",
            "    (conv2): Conv2d(512, 512, kernel_size=(3, 3), stride=(1, 1), padding=(1, 1), bias=False)\n",
            "    (bn2): BatchNorm2d(512, eps=1e-05, momentum=0.1, affine=True, track_running_stats=True)\n",
            "    (downsample): Sequential(\n",
            "      (0): Conv2d(256, 512, kernel_size=(1, 1), stride=(2, 2), bias=False)\n",
            "      (1): BatchNorm2d(512, eps=1e-05, momentum=0.1, affine=True, track_running_stats=True)\n",
            "    )\n",
            "  )\n",
            "  (1): BasicBlock(\n",
            "    (conv1): Conv2d(512, 512, kernel_size=(3, 3), stride=(1, 1), padding=(1, 1), bias=False)\n",
            "    (bn1): BatchNorm2d(512, eps=1e-05, momentum=0.1, affine=True, track_running_stats=True)\n",
            "    (relu): ReLU(inplace=True)\n",
            "    (conv2): Conv2d(512, 512, kernel_size=(3, 3), stride=(1, 1), padding=(1, 1), bias=False)\n",
            "    (bn2): BatchNorm2d(512, eps=1e-05, momentum=0.1, affine=True, track_running_stats=True)\n",
            "  )\n",
            ")\n",
            "\n",
            "Layer Name :  avgpool\n",
            "Layer Info. :  AdaptiveAvgPool2d(output_size=(1, 1))\n",
            "\n",
            "Layer Name :  fc\n",
            "Layer Info. :  Linear(in_features=512, out_features=1000, bias=True)\n",
            "\n"
          ]
        }
      ]
    },
    {
      "cell_type": "code",
      "source": [
        "# 결과값\n",
        "\n",
        "summary(Resnet_ready.cuda(), (3,224,224), batch_size=32)"
      ],
      "metadata": {
        "colab": {
          "base_uri": "https://localhost:8080/"
        },
        "id": "7z-y2Y17m5LZ",
        "outputId": "626747e9-4cc0-4134-d51d-4420427eb58e"
      },
      "execution_count": 73,
      "outputs": [
        {
          "output_type": "stream",
          "name": "stdout",
          "text": [
            "----------------------------------------------------------------\n",
            "        Layer (type)               Output Shape         Param #\n",
            "================================================================\n",
            "            Conv2d-1         [32, 64, 112, 112]           9,408\n",
            "       BatchNorm2d-2         [32, 64, 112, 112]             128\n",
            "              ReLU-3         [32, 64, 112, 112]               0\n",
            "         MaxPool2d-4           [32, 64, 56, 56]               0\n",
            "            Conv2d-5           [32, 64, 56, 56]          36,864\n",
            "       BatchNorm2d-6           [32, 64, 56, 56]             128\n",
            "              ReLU-7           [32, 64, 56, 56]               0\n",
            "            Conv2d-8           [32, 64, 56, 56]          36,864\n",
            "       BatchNorm2d-9           [32, 64, 56, 56]             128\n",
            "             ReLU-10           [32, 64, 56, 56]               0\n",
            "       BasicBlock-11           [32, 64, 56, 56]               0\n",
            "           Conv2d-12           [32, 64, 56, 56]          36,864\n",
            "      BatchNorm2d-13           [32, 64, 56, 56]             128\n",
            "             ReLU-14           [32, 64, 56, 56]               0\n",
            "           Conv2d-15           [32, 64, 56, 56]          36,864\n",
            "      BatchNorm2d-16           [32, 64, 56, 56]             128\n",
            "             ReLU-17           [32, 64, 56, 56]               0\n",
            "       BasicBlock-18           [32, 64, 56, 56]               0\n",
            "           Conv2d-19          [32, 128, 28, 28]          73,728\n",
            "      BatchNorm2d-20          [32, 128, 28, 28]             256\n",
            "             ReLU-21          [32, 128, 28, 28]               0\n",
            "           Conv2d-22          [32, 128, 28, 28]         147,456\n",
            "      BatchNorm2d-23          [32, 128, 28, 28]             256\n",
            "           Conv2d-24          [32, 128, 28, 28]           8,192\n",
            "      BatchNorm2d-25          [32, 128, 28, 28]             256\n",
            "             ReLU-26          [32, 128, 28, 28]               0\n",
            "       BasicBlock-27          [32, 128, 28, 28]               0\n",
            "           Conv2d-28          [32, 128, 28, 28]         147,456\n",
            "      BatchNorm2d-29          [32, 128, 28, 28]             256\n",
            "             ReLU-30          [32, 128, 28, 28]               0\n",
            "           Conv2d-31          [32, 128, 28, 28]         147,456\n",
            "      BatchNorm2d-32          [32, 128, 28, 28]             256\n",
            "             ReLU-33          [32, 128, 28, 28]               0\n",
            "       BasicBlock-34          [32, 128, 28, 28]               0\n",
            "           Conv2d-35          [32, 256, 14, 14]         294,912\n",
            "      BatchNorm2d-36          [32, 256, 14, 14]             512\n",
            "             ReLU-37          [32, 256, 14, 14]               0\n",
            "           Conv2d-38          [32, 256, 14, 14]         589,824\n",
            "      BatchNorm2d-39          [32, 256, 14, 14]             512\n",
            "           Conv2d-40          [32, 256, 14, 14]          32,768\n",
            "      BatchNorm2d-41          [32, 256, 14, 14]             512\n",
            "             ReLU-42          [32, 256, 14, 14]               0\n",
            "       BasicBlock-43          [32, 256, 14, 14]               0\n",
            "           Conv2d-44          [32, 256, 14, 14]         589,824\n",
            "      BatchNorm2d-45          [32, 256, 14, 14]             512\n",
            "             ReLU-46          [32, 256, 14, 14]               0\n",
            "           Conv2d-47          [32, 256, 14, 14]         589,824\n",
            "      BatchNorm2d-48          [32, 256, 14, 14]             512\n",
            "             ReLU-49          [32, 256, 14, 14]               0\n",
            "       BasicBlock-50          [32, 256, 14, 14]               0\n",
            "           Conv2d-51            [32, 512, 7, 7]       1,179,648\n",
            "      BatchNorm2d-52            [32, 512, 7, 7]           1,024\n",
            "             ReLU-53            [32, 512, 7, 7]               0\n",
            "           Conv2d-54            [32, 512, 7, 7]       2,359,296\n",
            "      BatchNorm2d-55            [32, 512, 7, 7]           1,024\n",
            "           Conv2d-56            [32, 512, 7, 7]         131,072\n",
            "      BatchNorm2d-57            [32, 512, 7, 7]           1,024\n",
            "             ReLU-58            [32, 512, 7, 7]               0\n",
            "       BasicBlock-59            [32, 512, 7, 7]               0\n",
            "           Conv2d-60            [32, 512, 7, 7]       2,359,296\n",
            "      BatchNorm2d-61            [32, 512, 7, 7]           1,024\n",
            "             ReLU-62            [32, 512, 7, 7]               0\n",
            "           Conv2d-63            [32, 512, 7, 7]       2,359,296\n",
            "      BatchNorm2d-64            [32, 512, 7, 7]           1,024\n",
            "             ReLU-65            [32, 512, 7, 7]               0\n",
            "       BasicBlock-66            [32, 512, 7, 7]               0\n",
            "AdaptiveAvgPool2d-67            [32, 512, 1, 1]               0\n",
            "           Linear-68                 [32, 1000]         513,000\n",
            "================================================================\n",
            "Total params: 11,689,512\n",
            "Trainable params: 11,689,512\n",
            "Non-trainable params: 0\n",
            "----------------------------------------------------------------\n",
            "Input size (MB): 18.38\n",
            "Forward/backward pass size (MB): 2009.37\n",
            "Params size (MB): 44.59\n",
            "Estimated Total Size (MB): 2072.34\n",
            "----------------------------------------------------------------\n"
          ]
        }
      ]
    },
    {
      "cell_type": "markdown",
      "source": [
        "## 6. Resnet모델에 이미지 크기 조절 추가 ** 핵심 포인트 **"
      ],
      "metadata": {
        "id": "zQTF9XYZosdF"
      }
    },
    {
      "cell_type": "markdown",
      "source": [
        "즉, 224*224가 아닌,\n",
        "\n",
        " 우리의 이미지 크기 64*64가 ResNet으로 들어가 \n",
        "\n",
        " 최종 layer에서 7*7의 차원을 갖도록 output size를 조절해가며 stride, padding 및 kernel size등을 조정해 보시면 됩니다."
      ],
      "metadata": {
        "id": "azMiUrNqud3M"
      }
    },
    {
      "cell_type": "code",
      "source": [
        "# input data size\n",
        "\n",
        "image_datasets['facescrub_train'][0][0].shape"
      ],
      "metadata": {
        "colab": {
          "base_uri": "https://localhost:8080/"
        },
        "id": "aHUM3MoDRZ0M",
        "outputId": "dd6c5984-93a9-47cb-d076-fbdff173e948"
      },
      "execution_count": 74,
      "outputs": [
        {
          "output_type": "execute_result",
          "data": {
            "text/plain": [
              "torch.Size([3, 64, 64])"
            ]
          },
          "metadata": {},
          "execution_count": 74
        }
      ]
    },
    {
      "cell_type": "code",
      "source": [
        "## 해당 cell을 실행시키면 Resnet 의 layer3의 conv1, downsample과 layer4의 conv1, downsample의 stride가 변경됩니다.\n",
        "# Resnet_ready.layer2[0].conv1.stride = (1, 1)\n",
        "\n",
        "Resnet_ready.layer3[0].conv1.stride = (1, 1)\n",
        "Resnet_ready.layer3[0].downsample[0].stride = (1, 1)\n",
        "Resnet_ready.layer4[0].conv1.stride = (1, 1)\n",
        "Resnet_ready.layer4[0].downsample[0].stride = (1, 1)\n",
        "Resnet_ready.layer4[1].conv1.kernel_size = (4, 4) # kernel_size를 1 늘려서 차원을 1 줄이려하는데 되지 않음... 그래서 그냥 진행...\n",
        "\n",
        "Resnet_ready.layer1[1].conv1.kernel_size = (7, 7) # kernel_size를 1 늘려서 차원을 1 줄이려하는데 되지 않음... 그래서 그냥 진행...\n",
        "\n"
      ],
      "metadata": {
        "id": "r-3I3WOWm_Cw"
      },
      "execution_count": 75,
      "outputs": []
    },
    {
      "cell_type": "code",
      "source": [
        "# 결과값\n",
        "\n",
        "summary(Resnet_ready.cuda(), (3,64,64), batch_size=16)"
      ],
      "metadata": {
        "colab": {
          "base_uri": "https://localhost:8080/"
        },
        "id": "ER9PrET8l6oI",
        "outputId": "6b171b3e-eea5-4889-d84a-447d9dcb0e93"
      },
      "execution_count": 76,
      "outputs": [
        {
          "output_type": "stream",
          "name": "stdout",
          "text": [
            "----------------------------------------------------------------\n",
            "        Layer (type)               Output Shape         Param #\n",
            "================================================================\n",
            "            Conv2d-1           [16, 64, 32, 32]           9,408\n",
            "       BatchNorm2d-2           [16, 64, 32, 32]             128\n",
            "              ReLU-3           [16, 64, 32, 32]               0\n",
            "         MaxPool2d-4           [16, 64, 16, 16]               0\n",
            "            Conv2d-5           [16, 64, 16, 16]          36,864\n",
            "       BatchNorm2d-6           [16, 64, 16, 16]             128\n",
            "              ReLU-7           [16, 64, 16, 16]               0\n",
            "            Conv2d-8           [16, 64, 16, 16]          36,864\n",
            "       BatchNorm2d-9           [16, 64, 16, 16]             128\n",
            "             ReLU-10           [16, 64, 16, 16]               0\n",
            "       BasicBlock-11           [16, 64, 16, 16]               0\n",
            "           Conv2d-12           [16, 64, 16, 16]          36,864\n",
            "      BatchNorm2d-13           [16, 64, 16, 16]             128\n",
            "             ReLU-14           [16, 64, 16, 16]               0\n",
            "           Conv2d-15           [16, 64, 16, 16]          36,864\n",
            "      BatchNorm2d-16           [16, 64, 16, 16]             128\n",
            "             ReLU-17           [16, 64, 16, 16]               0\n",
            "       BasicBlock-18           [16, 64, 16, 16]               0\n",
            "           Conv2d-19            [16, 128, 8, 8]          73,728\n",
            "      BatchNorm2d-20            [16, 128, 8, 8]             256\n",
            "             ReLU-21            [16, 128, 8, 8]               0\n",
            "           Conv2d-22            [16, 128, 8, 8]         147,456\n",
            "      BatchNorm2d-23            [16, 128, 8, 8]             256\n",
            "           Conv2d-24            [16, 128, 8, 8]           8,192\n",
            "      BatchNorm2d-25            [16, 128, 8, 8]             256\n",
            "             ReLU-26            [16, 128, 8, 8]               0\n",
            "       BasicBlock-27            [16, 128, 8, 8]               0\n",
            "           Conv2d-28            [16, 128, 8, 8]         147,456\n",
            "      BatchNorm2d-29            [16, 128, 8, 8]             256\n",
            "             ReLU-30            [16, 128, 8, 8]               0\n",
            "           Conv2d-31            [16, 128, 8, 8]         147,456\n",
            "      BatchNorm2d-32            [16, 128, 8, 8]             256\n",
            "             ReLU-33            [16, 128, 8, 8]               0\n",
            "       BasicBlock-34            [16, 128, 8, 8]               0\n",
            "           Conv2d-35            [16, 256, 8, 8]         294,912\n",
            "      BatchNorm2d-36            [16, 256, 8, 8]             512\n",
            "             ReLU-37            [16, 256, 8, 8]               0\n",
            "           Conv2d-38            [16, 256, 8, 8]         589,824\n",
            "      BatchNorm2d-39            [16, 256, 8, 8]             512\n",
            "           Conv2d-40            [16, 256, 8, 8]          32,768\n",
            "      BatchNorm2d-41            [16, 256, 8, 8]             512\n",
            "             ReLU-42            [16, 256, 8, 8]               0\n",
            "       BasicBlock-43            [16, 256, 8, 8]               0\n",
            "           Conv2d-44            [16, 256, 8, 8]         589,824\n",
            "      BatchNorm2d-45            [16, 256, 8, 8]             512\n",
            "             ReLU-46            [16, 256, 8, 8]               0\n",
            "           Conv2d-47            [16, 256, 8, 8]         589,824\n",
            "      BatchNorm2d-48            [16, 256, 8, 8]             512\n",
            "             ReLU-49            [16, 256, 8, 8]               0\n",
            "       BasicBlock-50            [16, 256, 8, 8]               0\n",
            "           Conv2d-51            [16, 512, 8, 8]       1,179,648\n",
            "      BatchNorm2d-52            [16, 512, 8, 8]           1,024\n",
            "             ReLU-53            [16, 512, 8, 8]               0\n",
            "           Conv2d-54            [16, 512, 8, 8]       2,359,296\n",
            "      BatchNorm2d-55            [16, 512, 8, 8]           1,024\n",
            "           Conv2d-56            [16, 512, 8, 8]         131,072\n",
            "      BatchNorm2d-57            [16, 512, 8, 8]           1,024\n",
            "             ReLU-58            [16, 512, 8, 8]               0\n",
            "       BasicBlock-59            [16, 512, 8, 8]               0\n",
            "           Conv2d-60            [16, 512, 8, 8]       2,359,296\n",
            "      BatchNorm2d-61            [16, 512, 8, 8]           1,024\n",
            "             ReLU-62            [16, 512, 8, 8]               0\n",
            "           Conv2d-63            [16, 512, 8, 8]       2,359,296\n",
            "      BatchNorm2d-64            [16, 512, 8, 8]           1,024\n",
            "             ReLU-65            [16, 512, 8, 8]               0\n",
            "       BasicBlock-66            [16, 512, 8, 8]               0\n",
            "AdaptiveAvgPool2d-67            [16, 512, 1, 1]               0\n",
            "           Linear-68                 [16, 1000]         513,000\n",
            "================================================================\n",
            "Total params: 11,689,512\n",
            "Trainable params: 11,689,512\n",
            "Non-trainable params: 0\n",
            "----------------------------------------------------------------\n",
            "Input size (MB): 0.75\n",
            "Forward/backward pass size (MB): 166.18\n",
            "Params size (MB): 44.59\n",
            "Estimated Total Size (MB): 211.53\n",
            "----------------------------------------------------------------\n"
          ]
        }
      ]
    },
    {
      "cell_type": "code",
      "source": [
        "# 변경된 정보를 확인해 보세요\n",
        "\n",
        "for name,child in Resnet_ready.named_children(): \n",
        "  print('Layer Name : ',name) \n",
        "  print('Layer Info. : ',child) \n",
        "  print()"
      ],
      "metadata": {
        "colab": {
          "base_uri": "https://localhost:8080/"
        },
        "id": "i4AEMiEsPeoi",
        "outputId": "763e13c4-08d8-4918-accf-9b1c1db1e168"
      },
      "execution_count": 77,
      "outputs": [
        {
          "output_type": "stream",
          "name": "stdout",
          "text": [
            "Layer Name :  conv1\n",
            "Layer Info. :  Conv2d(3, 64, kernel_size=(7, 7), stride=(2, 2), padding=(3, 3), bias=False)\n",
            "\n",
            "Layer Name :  bn1\n",
            "Layer Info. :  BatchNorm2d(64, eps=1e-05, momentum=0.1, affine=True, track_running_stats=True)\n",
            "\n",
            "Layer Name :  relu\n",
            "Layer Info. :  ReLU(inplace=True)\n",
            "\n",
            "Layer Name :  maxpool\n",
            "Layer Info. :  MaxPool2d(kernel_size=3, stride=2, padding=1, dilation=1, ceil_mode=False)\n",
            "\n",
            "Layer Name :  layer1\n",
            "Layer Info. :  Sequential(\n",
            "  (0): BasicBlock(\n",
            "    (conv1): Conv2d(64, 64, kernel_size=(3, 3), stride=(1, 1), padding=(1, 1), bias=False)\n",
            "    (bn1): BatchNorm2d(64, eps=1e-05, momentum=0.1, affine=True, track_running_stats=True)\n",
            "    (relu): ReLU(inplace=True)\n",
            "    (conv2): Conv2d(64, 64, kernel_size=(3, 3), stride=(1, 1), padding=(1, 1), bias=False)\n",
            "    (bn2): BatchNorm2d(64, eps=1e-05, momentum=0.1, affine=True, track_running_stats=True)\n",
            "  )\n",
            "  (1): BasicBlock(\n",
            "    (conv1): Conv2d(64, 64, kernel_size=(7, 7), stride=(1, 1), padding=(1, 1), bias=False)\n",
            "    (bn1): BatchNorm2d(64, eps=1e-05, momentum=0.1, affine=True, track_running_stats=True)\n",
            "    (relu): ReLU(inplace=True)\n",
            "    (conv2): Conv2d(64, 64, kernel_size=(3, 3), stride=(1, 1), padding=(1, 1), bias=False)\n",
            "    (bn2): BatchNorm2d(64, eps=1e-05, momentum=0.1, affine=True, track_running_stats=True)\n",
            "  )\n",
            ")\n",
            "\n",
            "Layer Name :  layer2\n",
            "Layer Info. :  Sequential(\n",
            "  (0): BasicBlock(\n",
            "    (conv1): Conv2d(64, 128, kernel_size=(3, 3), stride=(2, 2), padding=(1, 1), bias=False)\n",
            "    (bn1): BatchNorm2d(128, eps=1e-05, momentum=0.1, affine=True, track_running_stats=True)\n",
            "    (relu): ReLU(inplace=True)\n",
            "    (conv2): Conv2d(128, 128, kernel_size=(3, 3), stride=(1, 1), padding=(1, 1), bias=False)\n",
            "    (bn2): BatchNorm2d(128, eps=1e-05, momentum=0.1, affine=True, track_running_stats=True)\n",
            "    (downsample): Sequential(\n",
            "      (0): Conv2d(64, 128, kernel_size=(1, 1), stride=(2, 2), bias=False)\n",
            "      (1): BatchNorm2d(128, eps=1e-05, momentum=0.1, affine=True, track_running_stats=True)\n",
            "    )\n",
            "  )\n",
            "  (1): BasicBlock(\n",
            "    (conv1): Conv2d(128, 128, kernel_size=(3, 3), stride=(1, 1), padding=(1, 1), bias=False)\n",
            "    (bn1): BatchNorm2d(128, eps=1e-05, momentum=0.1, affine=True, track_running_stats=True)\n",
            "    (relu): ReLU(inplace=True)\n",
            "    (conv2): Conv2d(128, 128, kernel_size=(3, 3), stride=(1, 1), padding=(1, 1), bias=False)\n",
            "    (bn2): BatchNorm2d(128, eps=1e-05, momentum=0.1, affine=True, track_running_stats=True)\n",
            "  )\n",
            ")\n",
            "\n",
            "Layer Name :  layer3\n",
            "Layer Info. :  Sequential(\n",
            "  (0): BasicBlock(\n",
            "    (conv1): Conv2d(128, 256, kernel_size=(3, 3), stride=(1, 1), padding=(1, 1), bias=False)\n",
            "    (bn1): BatchNorm2d(256, eps=1e-05, momentum=0.1, affine=True, track_running_stats=True)\n",
            "    (relu): ReLU(inplace=True)\n",
            "    (conv2): Conv2d(256, 256, kernel_size=(3, 3), stride=(1, 1), padding=(1, 1), bias=False)\n",
            "    (bn2): BatchNorm2d(256, eps=1e-05, momentum=0.1, affine=True, track_running_stats=True)\n",
            "    (downsample): Sequential(\n",
            "      (0): Conv2d(128, 256, kernel_size=(1, 1), stride=(1, 1), bias=False)\n",
            "      (1): BatchNorm2d(256, eps=1e-05, momentum=0.1, affine=True, track_running_stats=True)\n",
            "    )\n",
            "  )\n",
            "  (1): BasicBlock(\n",
            "    (conv1): Conv2d(256, 256, kernel_size=(3, 3), stride=(1, 1), padding=(1, 1), bias=False)\n",
            "    (bn1): BatchNorm2d(256, eps=1e-05, momentum=0.1, affine=True, track_running_stats=True)\n",
            "    (relu): ReLU(inplace=True)\n",
            "    (conv2): Conv2d(256, 256, kernel_size=(3, 3), stride=(1, 1), padding=(1, 1), bias=False)\n",
            "    (bn2): BatchNorm2d(256, eps=1e-05, momentum=0.1, affine=True, track_running_stats=True)\n",
            "  )\n",
            ")\n",
            "\n",
            "Layer Name :  layer4\n",
            "Layer Info. :  Sequential(\n",
            "  (0): BasicBlock(\n",
            "    (conv1): Conv2d(256, 512, kernel_size=(3, 3), stride=(1, 1), padding=(1, 1), bias=False)\n",
            "    (bn1): BatchNorm2d(512, eps=1e-05, momentum=0.1, affine=True, track_running_stats=True)\n",
            "    (relu): ReLU(inplace=True)\n",
            "    (conv2): Conv2d(512, 512, kernel_size=(3, 3), stride=(1, 1), padding=(1, 1), bias=False)\n",
            "    (bn2): BatchNorm2d(512, eps=1e-05, momentum=0.1, affine=True, track_running_stats=True)\n",
            "    (downsample): Sequential(\n",
            "      (0): Conv2d(256, 512, kernel_size=(1, 1), stride=(1, 1), bias=False)\n",
            "      (1): BatchNorm2d(512, eps=1e-05, momentum=0.1, affine=True, track_running_stats=True)\n",
            "    )\n",
            "  )\n",
            "  (1): BasicBlock(\n",
            "    (conv1): Conv2d(512, 512, kernel_size=(4, 4), stride=(1, 1), padding=(1, 1), bias=False)\n",
            "    (bn1): BatchNorm2d(512, eps=1e-05, momentum=0.1, affine=True, track_running_stats=True)\n",
            "    (relu): ReLU(inplace=True)\n",
            "    (conv2): Conv2d(512, 512, kernel_size=(3, 3), stride=(1, 1), padding=(1, 1), bias=False)\n",
            "    (bn2): BatchNorm2d(512, eps=1e-05, momentum=0.1, affine=True, track_running_stats=True)\n",
            "  )\n",
            ")\n",
            "\n",
            "Layer Name :  avgpool\n",
            "Layer Info. :  AdaptiveAvgPool2d(output_size=(1, 1))\n",
            "\n",
            "Layer Name :  fc\n",
            "Layer Info. :  Linear(in_features=512, out_features=1000, bias=True)\n",
            "\n"
          ]
        }
      ]
    },
    {
      "cell_type": "markdown",
      "source": [
        "## 7. Train / Test 함수 정의"
      ],
      "metadata": {
        "id": "FMapVOiIUeR8"
      }
    },
    {
      "cell_type": "code",
      "source": [
        "## Train 함수 정의\n",
        "\n",
        "def train(model,epoch,optimizer,criterion,scheduler=None,save_every=None):\n",
        "    ## 각 단계의 loss 및 accuracy 저장할 list 생성\n",
        "\n",
        "    print(f'\\n[ Train epoch: {epoch+1} ]')\n",
        "\n",
        "    model.train() # Train 단계임을 선업\n",
        "\n",
        "    running_loss = 0.0\n",
        "    batch_losses = []\n",
        "    total = 0\n",
        "    correct = 0\n",
        "\n",
        "    for batch_idx, (inputs, targets) in enumerate(dataloaders['facescrub_train']): # Train data 가져오기\n",
        "        inputs, targets = inputs.to(device), targets.to(device) # dataloader의 input image와 label도 device에 넣어준다\n",
        "      \n",
        "        optimizer.zero_grad() # gradient 초기화\n",
        "        outputs = model(inputs) # Prediction value 계산 (Output 계산)\n",
        "        loss = criterion(outputs, targets) # outputs와 원래 label인 targets 사이 loss 계산\n",
        "        loss.backward() # 계산한 loss 기반으로 gradient 값 계산\n",
        "        optimizer.step() # weight parameter update\n",
        "        if scheduler != None:\n",
        "            if batch_idx in [80, 160, 200]:\n",
        "                scheduler.step() # Scheduler update\n",
        "\n",
        "        total += targets.size(0) # batch 데이터 개수 더하기\n",
        "        running_loss += loss.item()\n",
        "        batch_losses.append(loss.item())\n",
        "        \n",
        "        _, predicted = outputs.max(1) # 확률값 가장 높게 나타난 클래스\n",
        "        correct += (predicted == targets).sum().item() # 현재 batch 내에서 알맞게 분류한 이미지 개수 더하기\n",
        "        \n",
        "        if batch_idx % 50 == 49:\n",
        "            ## 학습 중간 성능 확인\n",
        "            print(f'\\nCurrent batch: {str(batch_idx+1)}')\n",
        "            print(f'Average train loss of recent 50 batches: {running_loss / 50}') \n",
        "            running_loss = 0.0\n",
        "\n",
        "        if save_every != None:\n",
        "         if (batch_idx % save_every == 0): # 얼마만큼의 iteration마다 저장할 것인지를 설정\n",
        "              directory = os.path.join(save_path, 'Resnet') # 경로 설정\n",
        "              if not os.path.exists(directory): # 경로가 없다면 새로 만듦\n",
        "                  os.makedirs(directory)\n",
        "              torch.save({ \n",
        "                  # 학습 중간에 저장하려 하는 모든 것들을 dict로 서술\n",
        "                  'epoch': epoch, \n",
        "                  'iteration': batch_idx,\n",
        "                  'model': model.state_dict(),\n",
        "                  'opt': optimizer.state_dict(),\n",
        "                  'loss': loss\n",
        "                  #,'sch': scheduler.state_dict()\n",
        "                  }, os.path.join(directory, '{}ep_{}iter_{}.tar'.format(epoch,batch_idx,'checkpoint')))\n",
        "\n",
        "    avg_loss = sum(batch_losses) / len(batch_losses)\n",
        "    seq_train_loss.append(avg_loss)\n",
        "    seq_train_acc.append(100*correct/total)\n",
        "    print('\\nTotal train accuarcy:', 100. * correct / total) # 전체 데이터 개수에서 맞게 예측한 비율\n",
        "    print('Total train loss:', avg_loss)"
      ],
      "metadata": {
        "id": "6fTtCzY0Un4j"
      },
      "execution_count": 78,
      "outputs": []
    },
    {
      "cell_type": "code",
      "source": [
        "def test(model,epoch,criterion):\n",
        "    print(f'\\n[ Test epoch: {epoch+1} ]')\n",
        "\n",
        "    model.eval() # Test time임을 선언\n",
        "\n",
        "    loss = 0\n",
        "    batch_losses = []\n",
        "    correct = 0\n",
        "    total = 0\n",
        "\n",
        "    with torch.no_grad(): # gradient update 안함 - eval과 torch.no_grad는 하나의 세트\n",
        "        for batch_idx, (inputs, targets) in enumerate(dataloaders['facescrub_test']):\n",
        "            inputs, targets = inputs.to(device), targets.to(device)\n",
        "\n",
        "            outputs = model(inputs)\n",
        "            loss = criterion(outputs, targets)\n",
        "            batch_losses.append(loss.item())\n",
        "\n",
        "            total += targets.size(0)\n",
        "            _, predicted = outputs.max(1)\n",
        "            correct += (predicted == targets).sum().item()\n",
        "\n",
        "    avg_loss = sum(batch_losses) / len(batch_losses)\n",
        "    seq_test_loss.append(avg_loss)\n",
        "    seq_test_acc.append(100 * correct / total)\n",
        "    print('\\nTest accuarcy:', 100. * correct / total)\n",
        "    print('Test average loss:', avg_loss)"
      ],
      "metadata": {
        "id": "nU3DW_elUqlj"
      },
      "execution_count": 79,
      "outputs": []
    },
    {
      "cell_type": "markdown",
      "source": [
        "## 8. 기타 학습 전 설정"
      ],
      "metadata": {
        "id": "Vxx2AuRzUyLa"
      }
    },
    {
      "cell_type": "code",
      "source": [
        "## fine-tunning 하고싶은 부분을 제외하고 update를 얼려 주세요\n",
        "for name,child in Resnet_ready.named_children():\n",
        "  for param in child.parameters():\n",
        "    if name not in ['layer4','fc']:   # 'fc' 이름의 layer만 제외\n",
        "        param.requires_grad = False # 제외된 layer 이외 모든 layer의 parameter 얼리기"
      ],
      "metadata": {
        "id": "RLwfkUQJU3HD"
      },
      "execution_count": 80,
      "outputs": []
    },
    {
      "cell_type": "code",
      "source": [
        "## 지정한 device에 학습시킬 모델 얹어주기\n",
        "Resnet_ready.to(device)"
      ],
      "metadata": {
        "id": "o6Fu4RDtUxvu",
        "colab": {
          "base_uri": "https://localhost:8080/"
        },
        "outputId": "ce43b62c-83eb-4bef-f564-f14c3578bdc9"
      },
      "execution_count": 81,
      "outputs": [
        {
          "output_type": "execute_result",
          "data": {
            "text/plain": [
              "ResNet(\n",
              "  (conv1): Conv2d(3, 64, kernel_size=(7, 7), stride=(2, 2), padding=(3, 3), bias=False)\n",
              "  (bn1): BatchNorm2d(64, eps=1e-05, momentum=0.1, affine=True, track_running_stats=True)\n",
              "  (relu): ReLU(inplace=True)\n",
              "  (maxpool): MaxPool2d(kernel_size=3, stride=2, padding=1, dilation=1, ceil_mode=False)\n",
              "  (layer1): Sequential(\n",
              "    (0): BasicBlock(\n",
              "      (conv1): Conv2d(64, 64, kernel_size=(3, 3), stride=(1, 1), padding=(1, 1), bias=False)\n",
              "      (bn1): BatchNorm2d(64, eps=1e-05, momentum=0.1, affine=True, track_running_stats=True)\n",
              "      (relu): ReLU(inplace=True)\n",
              "      (conv2): Conv2d(64, 64, kernel_size=(3, 3), stride=(1, 1), padding=(1, 1), bias=False)\n",
              "      (bn2): BatchNorm2d(64, eps=1e-05, momentum=0.1, affine=True, track_running_stats=True)\n",
              "    )\n",
              "    (1): BasicBlock(\n",
              "      (conv1): Conv2d(64, 64, kernel_size=(7, 7), stride=(1, 1), padding=(1, 1), bias=False)\n",
              "      (bn1): BatchNorm2d(64, eps=1e-05, momentum=0.1, affine=True, track_running_stats=True)\n",
              "      (relu): ReLU(inplace=True)\n",
              "      (conv2): Conv2d(64, 64, kernel_size=(3, 3), stride=(1, 1), padding=(1, 1), bias=False)\n",
              "      (bn2): BatchNorm2d(64, eps=1e-05, momentum=0.1, affine=True, track_running_stats=True)\n",
              "    )\n",
              "  )\n",
              "  (layer2): Sequential(\n",
              "    (0): BasicBlock(\n",
              "      (conv1): Conv2d(64, 128, kernel_size=(3, 3), stride=(2, 2), padding=(1, 1), bias=False)\n",
              "      (bn1): BatchNorm2d(128, eps=1e-05, momentum=0.1, affine=True, track_running_stats=True)\n",
              "      (relu): ReLU(inplace=True)\n",
              "      (conv2): Conv2d(128, 128, kernel_size=(3, 3), stride=(1, 1), padding=(1, 1), bias=False)\n",
              "      (bn2): BatchNorm2d(128, eps=1e-05, momentum=0.1, affine=True, track_running_stats=True)\n",
              "      (downsample): Sequential(\n",
              "        (0): Conv2d(64, 128, kernel_size=(1, 1), stride=(2, 2), bias=False)\n",
              "        (1): BatchNorm2d(128, eps=1e-05, momentum=0.1, affine=True, track_running_stats=True)\n",
              "      )\n",
              "    )\n",
              "    (1): BasicBlock(\n",
              "      (conv1): Conv2d(128, 128, kernel_size=(3, 3), stride=(1, 1), padding=(1, 1), bias=False)\n",
              "      (bn1): BatchNorm2d(128, eps=1e-05, momentum=0.1, affine=True, track_running_stats=True)\n",
              "      (relu): ReLU(inplace=True)\n",
              "      (conv2): Conv2d(128, 128, kernel_size=(3, 3), stride=(1, 1), padding=(1, 1), bias=False)\n",
              "      (bn2): BatchNorm2d(128, eps=1e-05, momentum=0.1, affine=True, track_running_stats=True)\n",
              "    )\n",
              "  )\n",
              "  (layer3): Sequential(\n",
              "    (0): BasicBlock(\n",
              "      (conv1): Conv2d(128, 256, kernel_size=(3, 3), stride=(1, 1), padding=(1, 1), bias=False)\n",
              "      (bn1): BatchNorm2d(256, eps=1e-05, momentum=0.1, affine=True, track_running_stats=True)\n",
              "      (relu): ReLU(inplace=True)\n",
              "      (conv2): Conv2d(256, 256, kernel_size=(3, 3), stride=(1, 1), padding=(1, 1), bias=False)\n",
              "      (bn2): BatchNorm2d(256, eps=1e-05, momentum=0.1, affine=True, track_running_stats=True)\n",
              "      (downsample): Sequential(\n",
              "        (0): Conv2d(128, 256, kernel_size=(1, 1), stride=(1, 1), bias=False)\n",
              "        (1): BatchNorm2d(256, eps=1e-05, momentum=0.1, affine=True, track_running_stats=True)\n",
              "      )\n",
              "    )\n",
              "    (1): BasicBlock(\n",
              "      (conv1): Conv2d(256, 256, kernel_size=(3, 3), stride=(1, 1), padding=(1, 1), bias=False)\n",
              "      (bn1): BatchNorm2d(256, eps=1e-05, momentum=0.1, affine=True, track_running_stats=True)\n",
              "      (relu): ReLU(inplace=True)\n",
              "      (conv2): Conv2d(256, 256, kernel_size=(3, 3), stride=(1, 1), padding=(1, 1), bias=False)\n",
              "      (bn2): BatchNorm2d(256, eps=1e-05, momentum=0.1, affine=True, track_running_stats=True)\n",
              "    )\n",
              "  )\n",
              "  (layer4): Sequential(\n",
              "    (0): BasicBlock(\n",
              "      (conv1): Conv2d(256, 512, kernel_size=(3, 3), stride=(1, 1), padding=(1, 1), bias=False)\n",
              "      (bn1): BatchNorm2d(512, eps=1e-05, momentum=0.1, affine=True, track_running_stats=True)\n",
              "      (relu): ReLU(inplace=True)\n",
              "      (conv2): Conv2d(512, 512, kernel_size=(3, 3), stride=(1, 1), padding=(1, 1), bias=False)\n",
              "      (bn2): BatchNorm2d(512, eps=1e-05, momentum=0.1, affine=True, track_running_stats=True)\n",
              "      (downsample): Sequential(\n",
              "        (0): Conv2d(256, 512, kernel_size=(1, 1), stride=(1, 1), bias=False)\n",
              "        (1): BatchNorm2d(512, eps=1e-05, momentum=0.1, affine=True, track_running_stats=True)\n",
              "      )\n",
              "    )\n",
              "    (1): BasicBlock(\n",
              "      (conv1): Conv2d(512, 512, kernel_size=(4, 4), stride=(1, 1), padding=(1, 1), bias=False)\n",
              "      (bn1): BatchNorm2d(512, eps=1e-05, momentum=0.1, affine=True, track_running_stats=True)\n",
              "      (relu): ReLU(inplace=True)\n",
              "      (conv2): Conv2d(512, 512, kernel_size=(3, 3), stride=(1, 1), padding=(1, 1), bias=False)\n",
              "      (bn2): BatchNorm2d(512, eps=1e-05, momentum=0.1, affine=True, track_running_stats=True)\n",
              "    )\n",
              "  )\n",
              "  (avgpool): AdaptiveAvgPool2d(output_size=(1, 1))\n",
              "  (fc): Linear(in_features=512, out_features=1000, bias=True)\n",
              ")"
            ]
          },
          "metadata": {},
          "execution_count": 81
        }
      ]
    },
    {
      "cell_type": "code",
      "source": [
        "## Optimizer, Scheduler, Cost Function 등을 직접 설정해서 사용해 보세요\n",
        "\n",
        "## Cost Function과 Optimizer 설정\n",
        "criterion = nn.CrossEntropyLoss()\n",
        "optimizer = optim.Adam(Resnet_ready.parameters(), lr=0.001)\n",
        "exp_lr_scheduler =optim.lr_scheduler.StepLR(optimizer, step_size=10, gamma=0.1)"
      ],
      "metadata": {
        "id": "3qeFEPlhU90m"
      },
      "execution_count": 82,
      "outputs": []
    },
    {
      "cell_type": "code",
      "source": [
        "## Checkpoint를 저장할 경로를 설정해 주세요\n",
        "save_path = '/content/'"
      ],
      "metadata": {
        "id": "vgedDlbFVAWh"
      },
      "execution_count": 83,
      "outputs": []
    },
    {
      "cell_type": "markdown",
      "source": [
        "## 9. 학습시작"
      ],
      "metadata": {
        "id": "1QOgMhGoVETS"
      }
    },
    {
      "cell_type": "code",
      "source": [
        "# 'Epoch 수를 지정해 주세요'\n",
        "\n",
        "num_epochs = 10\n",
        "\n",
        "# 저장할 장소\n",
        "\n",
        "seq_train_loss = []\n",
        "seq_test_loss = []\n",
        "seq_train_acc = []\n",
        "seq_test_acc = []"
      ],
      "metadata": {
        "id": "qF0pCTVG5tcX"
      },
      "execution_count": 86,
      "outputs": []
    },
    {
      "cell_type": "code",
      "source": [
        "## 학습을 진행해 주세요 (GPU로 돌려야 합니다 CPU는 너무 느려요)\n",
        "for epoch in range(0,num_epochs):\n",
        "  train(Resnet_ready, epoch,optimizer,criterion,save_every=10)\n",
        "  test(Resnet_ready, epoch,criterion)"
      ],
      "metadata": {
        "id": "R1oSu9xkVD5T",
        "colab": {
          "base_uri": "https://localhost:8080/"
        },
        "outputId": "ff7bf40c-0a64-4038-a087-8e903551fcd6"
      },
      "execution_count": 87,
      "outputs": [
        {
          "output_type": "stream",
          "name": "stdout",
          "text": [
            "\n",
            "[ Train epoch: 1 ]\n",
            "\n",
            "Current batch: 50\n",
            "Average train loss of recent 50 batches: 1.9551940703392028\n",
            "\n",
            "Current batch: 100\n",
            "Average train loss of recent 50 batches: 1.8378900241851808\n",
            "\n",
            "Current batch: 150\n",
            "Average train loss of recent 50 batches: 1.9332040548324585\n",
            "\n",
            "Current batch: 200\n",
            "Average train loss of recent 50 batches: 1.7891557550430297\n",
            "\n",
            "Current batch: 250\n",
            "Average train loss of recent 50 batches: 1.590460993051529\n",
            "\n",
            "Total train accuarcy: 53.575\n",
            "Total train loss: 1.8211809794902802\n",
            "\n",
            "[ Test epoch: 1 ]\n",
            "\n",
            "Test accuarcy: 58.5\n",
            "Test average loss: 1.701500878447578\n",
            "\n",
            "[ Train epoch: 2 ]\n",
            "\n",
            "Current batch: 50\n",
            "Average train loss of recent 50 batches: 1.1549979859590531\n",
            "\n",
            "Current batch: 100\n",
            "Average train loss of recent 50 batches: 1.230589088201523\n",
            "\n",
            "Current batch: 150\n",
            "Average train loss of recent 50 batches: 1.3640367710590362\n",
            "\n",
            "Current batch: 200\n",
            "Average train loss of recent 50 batches: 1.341895672082901\n",
            "\n",
            "Current batch: 250\n",
            "Average train loss of recent 50 batches: 1.3182742631435393\n",
            "\n",
            "Total train accuarcy: 65.3\n",
            "Total train loss: 1.2819587560892105\n",
            "\n",
            "[ Test epoch: 2 ]\n",
            "\n",
            "Test accuarcy: 59.8\n",
            "Test average loss: 1.616290791640206\n",
            "\n",
            "[ Train epoch: 3 ]\n",
            "\n",
            "Current batch: 50\n",
            "Average train loss of recent 50 batches: 1.0104693746566773\n",
            "\n",
            "Current batch: 100\n",
            "Average train loss of recent 50 batches: 0.9085869646072388\n",
            "\n",
            "Current batch: 150\n",
            "Average train loss of recent 50 batches: 1.0555676555633544\n",
            "\n",
            "Current batch: 200\n",
            "Average train loss of recent 50 batches: 0.8970996141433716\n",
            "\n",
            "Current batch: 250\n",
            "Average train loss of recent 50 batches: 0.8850495839118957\n",
            "\n",
            "Total train accuarcy: 74.3\n",
            "Total train loss: 0.9513546385765076\n",
            "\n",
            "[ Test epoch: 3 ]\n",
            "\n",
            "Test accuarcy: 66.0\n",
            "Test average loss: 1.3765784099934593\n",
            "\n",
            "[ Train epoch: 4 ]\n",
            "\n",
            "Current batch: 50\n",
            "Average train loss of recent 50 batches: 0.6291323658823967\n",
            "\n",
            "Current batch: 100\n",
            "Average train loss of recent 50 batches: 0.7274682548642158\n",
            "\n",
            "Current batch: 150\n",
            "Average train loss of recent 50 batches: 0.826484594643116\n",
            "\n",
            "Current batch: 200\n",
            "Average train loss of recent 50 batches: 0.8179496338963509\n",
            "\n",
            "Current batch: 250\n",
            "Average train loss of recent 50 batches: 0.8457006266713143\n",
            "\n",
            "Total train accuarcy: 78.4\n",
            "Total train loss: 0.7693470951914787\n",
            "\n",
            "[ Test epoch: 4 ]\n",
            "\n",
            "Test accuarcy: 68.1\n",
            "Test average loss: 1.3197040094269648\n",
            "\n",
            "[ Train epoch: 5 ]\n",
            "\n",
            "Current batch: 50\n",
            "Average train loss of recent 50 batches: 0.5789995388686657\n",
            "\n",
            "Current batch: 100\n",
            "Average train loss of recent 50 batches: 0.5088526114821434\n",
            "\n",
            "Current batch: 150\n",
            "Average train loss of recent 50 batches: 0.5752543246746064\n",
            "\n",
            "Current batch: 200\n",
            "Average train loss of recent 50 batches: 0.7127074649930001\n",
            "\n",
            "Current batch: 250\n",
            "Average train loss of recent 50 batches: 0.6886108994483948\n",
            "\n",
            "Total train accuarcy: 83.2\n",
            "Total train loss: 0.612884967893362\n",
            "\n",
            "[ Test epoch: 5 ]\n",
            "\n",
            "Test accuarcy: 71.1\n",
            "Test average loss: 1.2545391046811665\n",
            "\n",
            "[ Train epoch: 6 ]\n",
            "\n",
            "Current batch: 50\n",
            "Average train loss of recent 50 batches: 0.48046679228544237\n",
            "\n",
            "Current batch: 100\n",
            "Average train loss of recent 50 batches: 0.4490206153690815\n",
            "\n",
            "Current batch: 150\n",
            "Average train loss of recent 50 batches: 0.5200197806954384\n",
            "\n",
            "Current batch: 200\n",
            "Average train loss of recent 50 batches: 0.5582799419760704\n",
            "\n",
            "Current batch: 250\n",
            "Average train loss of recent 50 batches: 0.6712279092520476\n",
            "\n",
            "Total train accuarcy: 84.35\n",
            "Total train loss: 0.5358030079156161\n",
            "\n",
            "[ Test epoch: 6 ]\n",
            "\n",
            "Test accuarcy: 71.7\n",
            "Test average loss: 1.2055359558453635\n",
            "\n",
            "[ Train epoch: 7 ]\n",
            "\n",
            "Current batch: 50\n",
            "Average train loss of recent 50 batches: 0.3960320143401623\n",
            "\n",
            "Current batch: 100\n",
            "Average train loss of recent 50 batches: 0.38742841497063635\n",
            "\n",
            "Current batch: 150\n",
            "Average train loss of recent 50 batches: 0.46360872738063336\n",
            "\n",
            "Current batch: 200\n",
            "Average train loss of recent 50 batches: 0.5430535435676574\n",
            "\n",
            "Current batch: 250\n",
            "Average train loss of recent 50 batches: 0.4957545083761215\n",
            "\n",
            "Total train accuarcy: 87.0\n",
            "Total train loss: 0.4571754417270422\n",
            "\n",
            "[ Test epoch: 7 ]\n",
            "\n",
            "Test accuarcy: 69.1\n",
            "Test average loss: 1.3784838579003773\n",
            "\n",
            "[ Train epoch: 8 ]\n",
            "\n",
            "Current batch: 50\n",
            "Average train loss of recent 50 batches: 0.33536045521497726\n",
            "\n",
            "Current batch: 100\n",
            "Average train loss of recent 50 batches: 0.4035946662724018\n",
            "\n",
            "Current batch: 150\n",
            "Average train loss of recent 50 batches: 0.41728023916482926\n",
            "\n",
            "Current batch: 200\n",
            "Average train loss of recent 50 batches: 0.40128940865397456\n",
            "\n",
            "Current batch: 250\n",
            "Average train loss of recent 50 batches: 0.39987410947680474\n",
            "\n",
            "Total train accuarcy: 88.15\n",
            "Total train loss: 0.39147977575659754\n",
            "\n",
            "[ Test epoch: 8 ]\n",
            "\n",
            "Test accuarcy: 74.2\n",
            "Test average loss: 1.125550538301468\n",
            "\n",
            "[ Train epoch: 9 ]\n",
            "\n",
            "Current batch: 50\n",
            "Average train loss of recent 50 batches: 0.305834684073925\n",
            "\n",
            "Current batch: 100\n",
            "Average train loss of recent 50 batches: 0.32053229279816153\n",
            "\n",
            "Current batch: 150\n",
            "Average train loss of recent 50 batches: 0.2970140901952982\n",
            "\n",
            "Current batch: 200\n",
            "Average train loss of recent 50 batches: 0.31119098000228407\n",
            "\n",
            "Current batch: 250\n",
            "Average train loss of recent 50 batches: 0.34714100606739523\n",
            "\n",
            "Total train accuarcy: 90.675\n",
            "Total train loss: 0.3163426106274128\n",
            "\n",
            "[ Test epoch: 9 ]\n",
            "\n",
            "Test accuarcy: 72.3\n",
            "Test average loss: 1.207265447293009\n",
            "\n",
            "[ Train epoch: 10 ]\n",
            "\n",
            "Current batch: 50\n",
            "Average train loss of recent 50 batches: 0.24176954288035632\n",
            "\n",
            "Current batch: 100\n",
            "Average train loss of recent 50 batches: 0.27826432943344115\n",
            "\n",
            "Current batch: 150\n",
            "Average train loss of recent 50 batches: 0.3201246067881584\n",
            "\n",
            "Current batch: 200\n",
            "Average train loss of recent 50 batches: 0.2968639200925827\n",
            "\n",
            "Current batch: 250\n",
            "Average train loss of recent 50 batches: 0.3148574996739626\n",
            "\n",
            "Total train accuarcy: 91.375\n",
            "Total train loss: 0.2903759797737002\n",
            "\n",
            "[ Test epoch: 10 ]\n",
            "\n",
            "Test accuarcy: 73.8\n",
            "Test average loss: 1.2333441086941295\n"
          ]
        }
      ]
    },
    {
      "cell_type": "markdown",
      "source": [
        "## 10. 평가 및 시각화"
      ],
      "metadata": {
        "id": "RrQ9TR88VLBl"
      }
    },
    {
      "cell_type": "code",
      "source": [
        "## 저장이 진행되었는지 확인해 보시고 성능 그래프를 그려주세요\n",
        "plt.plot(range(num_epochs), seq_train_loss, label=\"Train loss\")\n",
        "plt.plot(range(num_epochs), seq_test_loss, label=\"Test loss\")\n",
        "plt.legend()\n",
        "plt.grid()\n",
        "plt.xlabel('Epoch')\n",
        "plt.ylabel('Loss')\n",
        "plt.show()"
      ],
      "metadata": {
        "id": "hCr4IjdhVNPw",
        "colab": {
          "base_uri": "https://localhost:8080/",
          "height": 279
        },
        "outputId": "b81a27da-ccde-411c-a909-27385af84117"
      },
      "execution_count": 88,
      "outputs": [
        {
          "output_type": "display_data",
          "data": {
            "text/plain": [
              "<Figure size 432x288 with 1 Axes>"
            ],
            "image/png": "[encoded data removed]"
          },
          "metadata": {
            "needs_background": "light"
          }
        }
      ]
    },
    {
      "cell_type": "code",
      "source": [
        "plt.plot(range(num_epochs), seq_train_acc, label=\"Train Accuracy\")\n",
        "plt.plot(range(num_epochs), seq_test_acc, label=\"Test Accuracy\")\n",
        "plt.legend()\n",
        "plt.grid()\n",
        "plt.xlabel('Epoch')\n",
        "plt.ylabel('Loss')\n",
        "plt.show()"
      ],
      "metadata": {
        "id": "Tgs_cPESVOhB",
        "colab": {
          "base_uri": "https://localhost:8080/",
          "height": 279
        },
        "outputId": "ec9ebab1-3d29-48d3-d806-2c36e80edafb"
      },
      "execution_count": 89,
      "outputs": [
        {
          "output_type": "display_data",
          "data": {
            "text/plain": [
              "<Figure size 432x288 with 1 Axes>"
            ],
            "image/png": "[encoded data removed]"
          },
          "metadata": {
            "needs_background": "light"
          }
        }
      ]
    }
  ]
}