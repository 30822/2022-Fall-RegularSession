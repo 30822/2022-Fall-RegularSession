{
  "nbformat": 4,
  "nbformat_minor": 0,
  "metadata": {
    "colab": {
      "name": "[0825] CNN Implementation 세션",
      "provenance": [],
      "collapsed_sections": [],
      "toc_visible": true
    },
    "kernelspec": {
      "name": "python3",
      "display_name": "Python 3"
    },
    "language_info": {
      "name": "python"
    },
    "gpuClass": "standard",
    "accelerator": "GPU",
    "widgets": {
      "application/vnd.jupyter.widget-state+json": {
        "597cf5f977bc420fa0a55a221799713a": {
          "model_module": "@jupyter-widgets/controls",
          "model_name": "HBoxModel",
          "model_module_version": "1.5.0",
          "state": {
            "_dom_classes": [],
            "_model_module": "@jupyter-widgets/controls",
            "_model_module_version": "1.5.0",
            "_model_name": "HBoxModel",
            "_view_count": null,
            "_view_module": "@jupyter-widgets/controls",
            "_view_module_version": "1.5.0",
            "_view_name": "HBoxView",
            "box_style": "",
            "children": [
              "IPY_MODEL_fe21efeff1b14d6da18833fc761c3347",
              "IPY_MODEL_775cb0cfea2b4d6d818254fbf56b974b",
              "IPY_MODEL_12f3d8e1e77147999e527b026b3d3f53"
            ],
            "layout": "IPY_MODEL_b459b5f72f7e4f3b9406a48ce79ac6e0"
          }
        },
        "fe21efeff1b14d6da18833fc761c3347": {
          "model_module": "@jupyter-widgets/controls",
          "model_name": "HTMLModel",
          "model_module_version": "1.5.0",
          "state": {
            "_dom_classes": [],
            "_model_module": "@jupyter-widgets/controls",
            "_model_module_version": "1.5.0",
            "_model_name": "HTMLModel",
            "_view_count": null,
            "_view_module": "@jupyter-widgets/controls",
            "_view_module_version": "1.5.0",
            "_view_name": "HTMLView",
            "description": "",
            "description_tooltip": null,
            "layout": "IPY_MODEL_2bbcf1771fe84f71a9222560723b8792",
            "placeholder": "​",
            "style": "IPY_MODEL_3400131cadc5442a9db83320628acbb8",
            "value": "100%"
          }
        },
        "775cb0cfea2b4d6d818254fbf56b974b": {
          "model_module": "@jupyter-widgets/controls",
          "model_name": "FloatProgressModel",
          "model_module_version": "1.5.0",
          "state": {
            "_dom_classes": [],
            "_model_module": "@jupyter-widgets/controls",
            "_model_module_version": "1.5.0",
            "_model_name": "FloatProgressModel",
            "_view_count": null,
            "_view_module": "@jupyter-widgets/controls",
            "_view_module_version": "1.5.0",
            "_view_name": "ProgressView",
            "bar_style": "success",
            "description": "",
            "description_tooltip": null,
            "layout": "IPY_MODEL_e83a6782cbb946b5b798597b8024e68e",
            "max": 46830571,
            "min": 0,
            "orientation": "horizontal",
            "style": "IPY_MODEL_a8f0fc41cd6f42e5a47c79db82c26ee6",
            "value": 46830571
          }
        },
        "12f3d8e1e77147999e527b026b3d3f53": {
          "model_module": "@jupyter-widgets/controls",
          "model_name": "HTMLModel",
          "model_module_version": "1.5.0",
          "state": {
            "_dom_classes": [],
            "_model_module": "@jupyter-widgets/controls",
            "_model_module_version": "1.5.0",
            "_model_name": "HTMLModel",
            "_view_count": null,
            "_view_module": "@jupyter-widgets/controls",
            "_view_module_version": "1.5.0",
            "_view_name": "HTMLView",
            "description": "",
            "description_tooltip": null,
            "layout": "IPY_MODEL_8947a35008814712a477bdede38b440e",
            "placeholder": "​",
            "style": "IPY_MODEL_057bc4ba492b43d5a4e95ccdd7c44ffd",
            "value": " 44.7M/44.7M [00:00&lt;00:00, 68.4MB/s]"
          }
        },
        "b459b5f72f7e4f3b9406a48ce79ac6e0": {
          "model_module": "@jupyter-widgets/base",
          "model_name": "LayoutModel",
          "model_module_version": "1.2.0",
          "state": {
            "_model_module": "@jupyter-widgets/base",
            "_model_module_version": "1.2.0",
            "_model_name": "LayoutModel",
            "_view_count": null,
            "_view_module": "@jupyter-widgets/base",
            "_view_module_version": "1.2.0",
            "_view_name": "LayoutView",
            "align_content": null,
            "align_items": null,
            "align_self": null,
            "border": null,
            "bottom": null,
            "display": null,
            "flex": null,
            "flex_flow": null,
            "grid_area": null,
            "grid_auto_columns": null,
            "grid_auto_flow": null,
            "grid_auto_rows": null,
            "grid_column": null,
            "grid_gap": null,
            "grid_row": null,
            "grid_template_areas": null,
            "grid_template_columns": null,
            "grid_template_rows": null,
            "height": null,
            "justify_content": null,
            "justify_items": null,
            "left": null,
            "margin": null,
            "max_height": null,
            "max_width": null,
            "min_height": null,
            "min_width": null,
            "object_fit": null,
            "object_position": null,
            "order": null,
            "overflow": null,
            "overflow_x": null,
            "overflow_y": null,
            "padding": null,
            "right": null,
            "top": null,
            "visibility": null,
            "width": null
          }
        },
        "2bbcf1771fe84f71a9222560723b8792": {
          "model_module": "@jupyter-widgets/base",
          "model_name": "LayoutModel",
          "model_module_version": "1.2.0",
          "state": {
            "_model_module": "@jupyter-widgets/base",
            "_model_module_version": "1.2.0",
            "_model_name": "LayoutModel",
            "_view_count": null,
            "_view_module": "@jupyter-widgets/base",
            "_view_module_version": "1.2.0",
            "_view_name": "LayoutView",
            "align_content": null,
            "align_items": null,
            "align_self": null,
            "border": null,
            "bottom": null,
            "display": null,
            "flex": null,
            "flex_flow": null,
            "grid_area": null,
            "grid_auto_columns": null,
            "grid_auto_flow": null,
            "grid_auto_rows": null,
            "grid_column": null,
            "grid_gap": null,
            "grid_row": null,
            "grid_template_areas": null,
            "grid_template_columns": null,
            "grid_template_rows": null,
            "height": null,
            "justify_content": null,
            "justify_items": null,
            "left": null,
            "margin": null,
            "max_height": null,
            "max_width": null,
            "min_height": null,
            "min_width": null,
            "object_fit": null,
            "object_position": null,
            "order": null,
            "overflow": null,
            "overflow_x": null,
            "overflow_y": null,
            "padding": null,
            "right": null,
            "top": null,
            "visibility": null,
            "width": null
          }
        },
        "3400131cadc5442a9db83320628acbb8": {
          "model_module": "@jupyter-widgets/controls",
          "model_name": "DescriptionStyleModel",
          "model_module_version": "1.5.0",
          "state": {
            "_model_module": "@jupyter-widgets/controls",
            "_model_module_version": "1.5.0",
            "_model_name": "DescriptionStyleModel",
            "_view_count": null,
            "_view_module": "@jupyter-widgets/base",
            "_view_module_version": "1.2.0",
            "_view_name": "StyleView",
            "description_width": ""
          }
        },
        "e83a6782cbb946b5b798597b8024e68e": {
          "model_module": "@jupyter-widgets/base",
          "model_name": "LayoutModel",
          "model_module_version": "1.2.0",
          "state": {
            "_model_module": "@jupyter-widgets/base",
            "_model_module_version": "1.2.0",
            "_model_name": "LayoutModel",
            "_view_count": null,
            "_view_module": "@jupyter-widgets/base",
            "_view_module_version": "1.2.0",
            "_view_name": "LayoutView",
            "align_content": null,
            "align_items": null,
            "align_self": null,
            "border": null,
            "bottom": null,
            "display": null,
            "flex": null,
            "flex_flow": null,
            "grid_area": null,
            "grid_auto_columns": null,
            "grid_auto_flow": null,
            "grid_auto_rows": null,
            "grid_column": null,
            "grid_gap": null,
            "grid_row": null,
            "grid_template_areas": null,
            "grid_template_columns": null,
            "grid_template_rows": null,
            "height": null,
            "justify_content": null,
            "justify_items": null,
            "left": null,
            "margin": null,
            "max_height": null,
            "max_width": null,
            "min_height": null,
            "min_width": null,
            "object_fit": null,
            "object_position": null,
            "order": null,
            "overflow": null,
            "overflow_x": null,
            "overflow_y": null,
            "padding": null,
            "right": null,
            "top": null,
            "visibility": null,
            "width": null
          }
        },
        "a8f0fc41cd6f42e5a47c79db82c26ee6": {
          "model_module": "@jupyter-widgets/controls",
          "model_name": "ProgressStyleModel",
          "model_module_version": "1.5.0",
          "state": {
            "_model_module": "@jupyter-widgets/controls",
            "_model_module_version": "1.5.0",
            "_model_name": "ProgressStyleModel",
            "_view_count": null,
            "_view_module": "@jupyter-widgets/base",
            "_view_module_version": "1.2.0",
            "_view_name": "StyleView",
            "bar_color": null,
            "description_width": ""
          }
        },
        "8947a35008814712a477bdede38b440e": {
          "model_module": "@jupyter-widgets/base",
          "model_name": "LayoutModel",
          "model_module_version": "1.2.0",
          "state": {
            "_model_module": "@jupyter-widgets/base",
            "_model_module_version": "1.2.0",
            "_model_name": "LayoutModel",
            "_view_count": null,
            "_view_module": "@jupyter-widgets/base",
            "_view_module_version": "1.2.0",
            "_view_name": "LayoutView",
            "align_content": null,
            "align_items": null,
            "align_self": null,
            "border": null,
            "bottom": null,
            "display": null,
            "flex": null,
            "flex_flow": null,
            "grid_area": null,
            "grid_auto_columns": null,
            "grid_auto_flow": null,
            "grid_auto_rows": null,
            "grid_column": null,
            "grid_gap": null,
            "grid_row": null,
            "grid_template_areas": null,
            "grid_template_columns": null,
            "grid_template_rows": null,
            "height": null,
            "justify_content": null,
            "justify_items": null,
            "left": null,
            "margin": null,
            "max_height": null,
            "max_width": null,
            "min_height": null,
            "min_width": null,
            "object_fit": null,
            "object_position": null,
            "order": null,
            "overflow": null,
            "overflow_x": null,
            "overflow_y": null,
            "padding": null,
            "right": null,
            "top": null,
            "visibility": null,
            "width": null
          }
        },
        "057bc4ba492b43d5a4e95ccdd7c44ffd": {
          "model_module": "@jupyter-widgets/controls",
          "model_name": "DescriptionStyleModel",
          "model_module_version": "1.5.0",
          "state": {
            "_model_module": "@jupyter-widgets/controls",
            "_model_module_version": "1.5.0",
            "_model_name": "DescriptionStyleModel",
            "_view_count": null,
            "_view_module": "@jupyter-widgets/base",
            "_view_module_version": "1.2.0",
            "_view_name": "StyleView",
            "description_width": ""
          }
        }
      }
    }
  },
  "cells": [
    {
      "cell_type": "markdown",
      "source": [
        "#1. Pretrained Model Loading"
      ],
      "metadata": {
        "id": "J9Es9_KuG60P"
      }
    },
    {
      "cell_type": "markdown",
      "source": [
        "##1.1. Load Pretrained Model"
      ],
      "metadata": {
        "id": "Nn9guTcVLklM"
      }
    },
    {
      "cell_type": "code",
      "source": [
        "## 필요한 모듈 import\n",
        "\n",
        "import torch\n",
        "import torch.nn as nn\n",
        "import torch.nn.functional as F\n",
        "import torch.optim as optim\n",
        "\n",
        "import torchvision \n",
        "from torchvision import datasets, models, transforms\n",
        "\n",
        "import matplotlib.pyplot as plt\n",
        "import numpy as np\n",
        "import time\n",
        "import copy"
      ],
      "metadata": {
        "id": "5YpCWnacLglY"
      },
      "execution_count": null,
      "outputs": []
    },
    {
      "cell_type": "code",
      "source": [
        "# Pre-trained ResNet 가져오기\n",
        "Resnet = torchvision.models.resnet18(pretrained=True) # 해당 부분을 False로 바꾸면 구조만 가져온다"
      ],
      "metadata": {
        "colab": {
          "base_uri": "https://localhost:8080/",
          "height": 162,
          "referenced_widgets": [
            "597cf5f977bc420fa0a55a221799713a",
            "fe21efeff1b14d6da18833fc761c3347",
            "775cb0cfea2b4d6d818254fbf56b974b",
            "12f3d8e1e77147999e527b026b3d3f53",
            "b459b5f72f7e4f3b9406a48ce79ac6e0",
            "2bbcf1771fe84f71a9222560723b8792",
            "3400131cadc5442a9db83320628acbb8",
            "e83a6782cbb946b5b798597b8024e68e",
            "a8f0fc41cd6f42e5a47c79db82c26ee6",
            "8947a35008814712a477bdede38b440e",
            "057bc4ba492b43d5a4e95ccdd7c44ffd"
          ]
        },
        "id": "0W1pbZY4Ld5d",
        "outputId": "4ba990eb-01db-4281-fcb0-d6f38fc977ab"
      },
      "execution_count": null,
      "outputs": [
        {
          "output_type": "stream",
          "name": "stderr",
          "text": [
            "/usr/local/lib/python3.7/dist-packages/torchvision/models/_utils.py:209: UserWarning: The parameter 'pretrained' is deprecated since 0.13 and will be removed in 0.15, please use 'weights' instead.\n",
            "  f\"The parameter '{pretrained_param}' is deprecated since 0.13 and will be removed in 0.15, \"\n",
            "/usr/local/lib/python3.7/dist-packages/torchvision/models/_utils.py:223: UserWarning: Arguments other than a weight enum or `None` for 'weights' are deprecated since 0.13 and will be removed in 0.15. The current behavior is equivalent to passing `weights=ResNet18_Weights.IMAGENET1K_V1`. You can also use `weights=ResNet18_Weights.DEFAULT` to get the most up-to-date weights.\n",
            "  warnings.warn(msg)\n",
            "Downloading: \"https://download.pytorch.org/models/resnet18-f37072fd.pth\" to /root/.cache/torch/hub/checkpoints/resnet18-f37072fd.pth\n"
          ]
        },
        {
          "output_type": "display_data",
          "data": {
            "text/plain": [
              "  0%|          | 0.00/44.7M [00:00<?, ?B/s]"
            ],
            "application/vnd.jupyter.widget-view+json": {
              "version_major": 2,
              "version_minor": 0,
              "model_id": "597cf5f977bc420fa0a55a221799713a"
            }
          },
          "metadata": {}
        }
      ]
    },
    {
      "cell_type": "markdown",
      "source": [
        "**Structure of ResNet18**"
      ],
      "metadata": {
        "id": "xk91IvkQNLh2"
      }
    },
    {
      "cell_type": "markdown",
      "source": [
        "![image.png](data:image/png;base64,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![image.png](data:image/png;base64,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))![image.png](data:image/png;base64,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)"
      ],
      "metadata": {
        "id": "4a0wRy60NImo"
      }
    },
    {
      "cell_type": "code",
      "source": [
        "# 위의 사진과 맞는지 불러온 ResNet 구조 확인\n",
        "for name,child in Resnet.named_children(): # ResNet에서는 named_children 객체를 통해 각 layer의 이름과 정보를 가져올 수 있음\n",
        "  print('Layer Name : ',name) # 각 layer의 이름 확인\n",
        "  print('Layer Info. : ',child) # 각 layer의 정보 확인\n",
        "  print()"
      ],
      "metadata": {
        "colab": {
          "base_uri": "https://localhost:8080/"
        },
        "id": "PI0Gx-vLMoLe",
        "outputId": "7fc6a996-facc-4e3b-8d3a-251d0f91fdf0"
      },
      "execution_count": null,
      "outputs": [
        {
          "output_type": "stream",
          "name": "stdout",
          "text": [
            "Layer Name :  conv1\n",
            "Layer Info. :  Conv2d(3, 64, kernel_size=(7, 7), stride=(2, 2), padding=(3, 3), bias=False)\n",
            "\n",
            "Layer Name :  bn1\n",
            "Layer Info. :  BatchNorm2d(64, eps=1e-05, momentum=0.1, affine=True, track_running_stats=True)\n",
            "\n",
            "Layer Name :  relu\n",
            "Layer Info. :  ReLU(inplace=True)\n",
            "\n",
            "Layer Name :  maxpool\n",
            "Layer Info. :  MaxPool2d(kernel_size=3, stride=2, padding=1, dilation=1, ceil_mode=False)\n",
            "\n",
            "Layer Name :  layer1\n",
            "Layer Info. :  Sequential(\n",
            "  (0): BasicBlock(\n",
            "    (conv1): Conv2d(64, 64, kernel_size=(3, 3), stride=(1, 1), padding=(1, 1), bias=False)\n",
            "    (bn1): BatchNorm2d(64, eps=1e-05, momentum=0.1, affine=True, track_running_stats=True)\n",
            "    (relu): ReLU(inplace=True)\n",
            "    (conv2): Conv2d(64, 64, kernel_size=(3, 3), stride=(1, 1), padding=(1, 1), bias=False)\n",
            "    (bn2): BatchNorm2d(64, eps=1e-05, momentum=0.1, affine=True, track_running_stats=True)\n",
            "  )\n",
            "  (1): BasicBlock(\n",
            "    (conv1): Conv2d(64, 64, kernel_size=(3, 3), stride=(1, 1), padding=(1, 1), bias=False)\n",
            "    (bn1): BatchNorm2d(64, eps=1e-05, momentum=0.1, affine=True, track_running_stats=True)\n",
            "    (relu): ReLU(inplace=True)\n",
            "    (conv2): Conv2d(64, 64, kernel_size=(3, 3), stride=(1, 1), padding=(1, 1), bias=False)\n",
            "    (bn2): BatchNorm2d(64, eps=1e-05, momentum=0.1, affine=True, track_running_stats=True)\n",
            "  )\n",
            ")\n",
            "\n",
            "Layer Name :  layer2\n",
            "Layer Info. :  Sequential(\n",
            "  (0): BasicBlock(\n",
            "    (conv1): Conv2d(64, 128, kernel_size=(3, 3), stride=(2, 2), padding=(1, 1), bias=False)\n",
            "    (bn1): BatchNorm2d(128, eps=1e-05, momentum=0.1, affine=True, track_running_stats=True)\n",
            "    (relu): ReLU(inplace=True)\n",
            "    (conv2): Conv2d(128, 128, kernel_size=(3, 3), stride=(1, 1), padding=(1, 1), bias=False)\n",
            "    (bn2): BatchNorm2d(128, eps=1e-05, momentum=0.1, affine=True, track_running_stats=True)\n",
            "    (downsample): Sequential(\n",
            "      (0): Conv2d(64, 128, kernel_size=(1, 1), stride=(2, 2), bias=False)\n",
            "      (1): BatchNorm2d(128, eps=1e-05, momentum=0.1, affine=True, track_running_stats=True)\n",
            "    )\n",
            "  )\n",
            "  (1): BasicBlock(\n",
            "    (conv1): Conv2d(128, 128, kernel_size=(3, 3), stride=(1, 1), padding=(1, 1), bias=False)\n",
            "    (bn1): BatchNorm2d(128, eps=1e-05, momentum=0.1, affine=True, track_running_stats=True)\n",
            "    (relu): ReLU(inplace=True)\n",
            "    (conv2): Conv2d(128, 128, kernel_size=(3, 3), stride=(1, 1), padding=(1, 1), bias=False)\n",
            "    (bn2): BatchNorm2d(128, eps=1e-05, momentum=0.1, affine=True, track_running_stats=True)\n",
            "  )\n",
            ")\n",
            "\n",
            "Layer Name :  layer3\n",
            "Layer Info. :  Sequential(\n",
            "  (0): BasicBlock(\n",
            "    (conv1): Conv2d(128, 256, kernel_size=(3, 3), stride=(2, 2), padding=(1, 1), bias=False)\n",
            "    (bn1): BatchNorm2d(256, eps=1e-05, momentum=0.1, affine=True, track_running_stats=True)\n",
            "    (relu): ReLU(inplace=True)\n",
            "    (conv2): Conv2d(256, 256, kernel_size=(3, 3), stride=(1, 1), padding=(1, 1), bias=False)\n",
            "    (bn2): BatchNorm2d(256, eps=1e-05, momentum=0.1, affine=True, track_running_stats=True)\n",
            "    (downsample): Sequential(\n",
            "      (0): Conv2d(128, 256, kernel_size=(1, 1), stride=(2, 2), bias=False)\n",
            "      (1): BatchNorm2d(256, eps=1e-05, momentum=0.1, affine=True, track_running_stats=True)\n",
            "    )\n",
            "  )\n",
            "  (1): BasicBlock(\n",
            "    (conv1): Conv2d(256, 256, kernel_size=(3, 3), stride=(1, 1), padding=(1, 1), bias=False)\n",
            "    (bn1): BatchNorm2d(256, eps=1e-05, momentum=0.1, affine=True, track_running_stats=True)\n",
            "    (relu): ReLU(inplace=True)\n",
            "    (conv2): Conv2d(256, 256, kernel_size=(3, 3), stride=(1, 1), padding=(1, 1), bias=False)\n",
            "    (bn2): BatchNorm2d(256, eps=1e-05, momentum=0.1, affine=True, track_running_stats=True)\n",
            "  )\n",
            ")\n",
            "\n",
            "Layer Name :  layer4\n",
            "Layer Info. :  Sequential(\n",
            "  (0): BasicBlock(\n",
            "    (conv1): Conv2d(256, 512, kernel_size=(3, 3), stride=(2, 2), padding=(1, 1), bias=False)\n",
            "    (bn1): BatchNorm2d(512, eps=1e-05, momentum=0.1, affine=True, track_running_stats=True)\n",
            "    (relu): ReLU(inplace=True)\n",
            "    (conv2): Conv2d(512, 512, kernel_size=(3, 3), stride=(1, 1), padding=(1, 1), bias=False)\n",
            "    (bn2): BatchNorm2d(512, eps=1e-05, momentum=0.1, affine=True, track_running_stats=True)\n",
            "    (downsample): Sequential(\n",
            "      (0): Conv2d(256, 512, kernel_size=(1, 1), stride=(2, 2), bias=False)\n",
            "      (1): BatchNorm2d(512, eps=1e-05, momentum=0.1, affine=True, track_running_stats=True)\n",
            "    )\n",
            "  )\n",
            "  (1): BasicBlock(\n",
            "    (conv1): Conv2d(512, 512, kernel_size=(3, 3), stride=(1, 1), padding=(1, 1), bias=False)\n",
            "    (bn1): BatchNorm2d(512, eps=1e-05, momentum=0.1, affine=True, track_running_stats=True)\n",
            "    (relu): ReLU(inplace=True)\n",
            "    (conv2): Conv2d(512, 512, kernel_size=(3, 3), stride=(1, 1), padding=(1, 1), bias=False)\n",
            "    (bn2): BatchNorm2d(512, eps=1e-05, momentum=0.1, affine=True, track_running_stats=True)\n",
            "  )\n",
            ")\n",
            "\n",
            "Layer Name :  avgpool\n",
            "Layer Info. :  AdaptiveAvgPool2d(output_size=(1, 1))\n",
            "\n",
            "Layer Name :  fc\n",
            "Layer Info. :  Linear(in_features=512, out_features=1000, bias=True)\n",
            "\n"
          ]
        }
      ]
    },
    {
      "cell_type": "markdown",
      "source": [
        "##1.2. Load Dataset"
      ],
      "metadata": {
        "id": "tp1qeo8GOTKx"
      }
    },
    {
      "cell_type": "code",
      "source": [
        "## 데이터셋 로드 \n",
        "## 제공된 사람 얼굴 이미지를 사용할 것\n",
        "from torchvision.datasets import ImageFolder\n",
        "import os\n",
        "\n",
        "data_dir = 'face_dataset'\n",
        "path = {x: os.path.join('/content/drive/MyDrive/',data_dir,'facescrub_'+x) for x in ['train', 'test'] } # Train, Test 경로 지정\n",
        "## local에 이미지를 저장했으면 저장한 경로만 찾아서 붙여넣어 주기\n",
        "print(path)\n",
        "train_data = ImageFolder(path['train'], transforms.Compose([transforms.ToTensor()]))"
      ],
      "metadata": {
        "colab": {
          "base_uri": "https://localhost:8080/"
        },
        "id": "_VFfpBkbZJ-7",
        "outputId": "c856ca8b-52f4-45bf-c701-dc369096f5a6"
      },
      "execution_count": null,
      "outputs": [
        {
          "output_type": "stream",
          "name": "stdout",
          "text": [
            "{'train': '/content/drive/MyDrive/face_dataset/facescrub_train', 'test': '/content/drive/MyDrive/face_dataset/facescrub_test'}\n"
          ]
        }
      ]
    },
    {
      "cell_type": "code",
      "source": [
        "## Train data의 개수 확인 \n",
        "len(train_data)"
      ],
      "metadata": {
        "colab": {
          "base_uri": "https://localhost:8080/"
        },
        "id": "rdNvZ5IbjRdE",
        "outputId": "59e61d6e-ad05-44d4-8d98-92cf607b69a0"
      },
      "execution_count": null,
      "outputs": [
        {
          "output_type": "execute_result",
          "data": {
            "text/plain": [
              "4000"
            ]
          },
          "metadata": {},
          "execution_count": 5
        }
      ]
    },
    {
      "cell_type": "markdown",
      "source": [
        "##1.3. Data Preprocessing"
      ],
      "metadata": {
        "id": "ivKu6Di9z-LL"
      }
    },
    {
      "cell_type": "code",
      "source": [
        "## Input Normalize를 위해 train data의 평균과 표준편차를 구한다\n",
        "avgRGB = [np.mean(x.numpy(), axis=(1,2)) for x,_ in train_data]\n",
        "# train_data[i] : 이미지 폴더를 통해 만들어진 train data의 [i]는 실제 텐서로 바뀐 이미지의 픽셀값이 저장되어 있음\n",
        "# train_data[i][0] : [i][0]에는 각 이미지의 label이 들어가 있음\n",
        "stdRGB = [np.std(x.numpy(), axis=(1,2)) for x,_ in train_data]\n",
        "avgR = np.mean([avg[0] for avg in avgRGB])\n",
        "avgG = np.mean([avg[1] for avg in avgRGB])\n",
        "avgB = np.mean([avg[2] for avg in avgRGB])\n",
        "stdR = np.mean([std[0] for std in stdRGB])\n",
        "stdG = np.mean([std[1] for std in stdRGB])\n",
        "stdB = np.mean([std[2] for std in stdRGB])"
      ],
      "metadata": {
        "id": "oec4LRJxZsTz"
      },
      "execution_count": null,
      "outputs": []
    },
    {
      "cell_type": "code",
      "source": [
        "## 위의 평균, 표준편차 연산 코드는 시간이 매우 오래걸리므로 과제 및 사용 시 해당 셀의 값 사용\n",
        "print('Average of Each Channel : ',avgR,avgG,avgB)\n",
        "print('Standard Deviation of Each Channel : ',stdR,stdG,stdB)"
      ],
      "metadata": {
        "colab": {
          "base_uri": "https://localhost:8080/"
        },
        "id": "mBxdM-Cyb9Dr",
        "outputId": "8b47eea5-a58f-47d4-d8ad-471573888e4b"
      },
      "execution_count": null,
      "outputs": [
        {
          "output_type": "stream",
          "name": "stdout",
          "text": [
            "Average of Each Channel :  0.6565039 0.4843807 0.4084822\n",
            "Standard Deviation of Each Channel :  0.20245129 0.17317267 0.1622832\n"
          ]
        }
      ]
    },
    {
      "cell_type": "code",
      "source": [
        "avgR = 0.6565039 \n",
        "avgG = 0.4843807\n",
        "avgB = 0.4084822\n",
        "stdR = 0.20245129\n",
        "stdG = 0.17317267\n",
        "stdB = 0.1622832"
      ],
      "metadata": {
        "id": "C443r_RPsn19"
      },
      "execution_count": null,
      "outputs": []
    },
    {
      "cell_type": "code",
      "source": [
        "## 데이터 전처리를 위한 과정\n",
        "\n",
        "data_transforms = {\n",
        "    'facescrub_train': transforms.Compose([\n",
        "        # 이미지의 크기를 바꿔준다. (Pre-trained 시 이용된 이미지의 크기와 현재 데이터의 크기가 다름)\n",
        "        # 과제에서는 Input Size를 변경하지 않고, Stride와 Kernel Size를 바꿔서 해보기\n",
        "        transforms.Resize((224,224)), # 비율에 맞게 Resize해주기\n",
        "        #transforms.CenterCrop(224), # 가운데 부분만 가져오기\n",
        "        # 이미지 증강\n",
        "        transforms.RandomHorizontalFlip(), # 수평으로 뒤집기\n",
        "        transforms.RandomVerticalFlip(), # 수직으로 뒤집기\n",
        "        # 이미지를 텐서로 변경\n",
        "        transforms.ToTensor(),\n",
        "        # Input 값 Normalize 해주기 ( 각 채널의 평균 값과 표준편차 값으로 정규화 해줌 )\n",
        "        transforms.Normalize([avgR, avgG, avgB], [stdR, stdG, stdB])\n",
        "    ]),\n",
        "    # 위와 동일한 과정 Test set에 대해 진행하기\n",
        "    'facescrub_test': transforms.Compose([\n",
        "        transforms.Resize((224,224)),\n",
        "        transforms.CenterCrop(224),\n",
        "        transforms.ToTensor(),\n",
        "        transforms.Normalize([avgR, avgG, avgB], [stdR, stdG, stdB])\n",
        "    ]),\n",
        "}"
      ],
      "metadata": {
        "id": "oxtLcw1NQNhk"
      },
      "execution_count": null,
      "outputs": []
    },
    {
      "cell_type": "code",
      "source": [
        "## 앞서 정의한 data_transforms를 이용해 실제 train과 test 이미지셋을 만들어 준다\n",
        "image_datasets = {x: datasets.ImageFolder(os.path.join('/content/drive/MyDrive/face_dataset/', x),\n",
        "                                          data_transforms[x]) for x in ['facescrub_train', 'facescrub_test']}"
      ],
      "metadata": {
        "id": "gtLp3p81CWmX"
      },
      "execution_count": null,
      "outputs": []
    },
    {
      "cell_type": "code",
      "source": [
        "## Train과 Testset의 크기 확인\n",
        "data_sizes = {x: len(image_datasets[x]) for x in ['facescrub_train', 'facescrub_test']}\n",
        "print(data_sizes['facescrub_train'])\n",
        "print(data_sizes['facescrub_test'])"
      ],
      "metadata": {
        "colab": {
          "base_uri": "https://localhost:8080/"
        },
        "id": "T5siPg6fkA4G",
        "outputId": "94385c2c-2718-4f2f-8198-395fd1162b1e"
      },
      "execution_count": null,
      "outputs": [
        {
          "output_type": "stream",
          "name": "stdout",
          "text": [
            "4000\n",
            "1000\n"
          ]
        }
      ]
    },
    {
      "cell_type": "code",
      "source": [
        "## Dataloader를 설정해 준다\n",
        "dataloaders = {x: torch.utils.data.DataLoader(\n",
        "                       image_datasets[x], batch_size=16, # 이 부분에서 batch_size를 설정할 수 있음 \n",
        "                       shuffle=True, # train data를 batch로 묶을 때 섞을 것인지 결정\n",
        "                       num_workers=2) # Dataloader가 data를 읽어들일 때 사용할 스레드의 개수 (GPU 사용량을 결정)\n",
        "                                            for x in ['facescrub_train', 'facescrub_test']}\n",
        "## class 이름 설정 \n",
        "class_names = image_datasets['facescrub_train'].classes \n",
        "\n",
        "## 어떤 device를 이용할 것인지 결정한다 (gpu 불가능하면 cpu)\n",
        "device = torch.device(\"cuda:0\" if torch.cuda.is_available() else \"cpu\")"
      ],
      "metadata": {
        "id": "tj0LuHRAh4K8"
      },
      "execution_count": null,
      "outputs": []
    },
    {
      "cell_type": "code",
      "source": [
        "print(device)"
      ],
      "metadata": {
        "colab": {
          "base_uri": "https://localhost:8080/"
        },
        "id": "kryuIBudKW4O",
        "outputId": "d260cf20-846f-490d-e540-992d3f34509a"
      },
      "execution_count": null,
      "outputs": [
        {
          "output_type": "stream",
          "name": "stdout",
          "text": [
            "cuda:0\n"
          ]
        }
      ]
    },
    {
      "cell_type": "markdown",
      "source": [
        "#2. Model Fine-Tune"
      ],
      "metadata": {
        "id": "iUPxcoHBIcXz"
      }
    },
    {
      "cell_type": "markdown",
      "source": [
        "세 가지의 전이학습을 진행할 것임\n",
        "\n",
        "1. Pre-trained ResNet 그대로 이미지만 바꿔서 사용\n",
        "2. Conv layer4 포함 fine tunning하여 사용\n",
        "3. FC layer를 추가하여 사용"
      ],
      "metadata": {
        "id": "MO88OFKHE6uF"
      }
    },
    {
      "cell_type": "markdown",
      "source": [
        "##2.1. Common Task"
      ],
      "metadata": {
        "id": "WKYtN2uZNb_4"
      }
    },
    {
      "cell_type": "code",
      "source": [
        "## 세 전이학습에 사용할 ResNet 각각 load\n",
        "Resnet_1 = torchvision.models.resnet18(pretrained=True) \n",
        "Resnet_2 = torchvision.models.resnet18(pretrained=True)\n",
        "Resnet_3 = torchvision.models.resnet18(pretrained=True)"
      ],
      "metadata": {
        "colab": {
          "base_uri": "https://localhost:8080/"
        },
        "id": "VtfVrnKr0ERK",
        "outputId": "ee06b5f8-b823-44d2-9904-90510223371b"
      },
      "execution_count": null,
      "outputs": [
        {
          "output_type": "stream",
          "name": "stderr",
          "text": [
            "/usr/local/lib/python3.7/dist-packages/torchvision/models/_utils.py:209: UserWarning: The parameter 'pretrained' is deprecated since 0.13 and will be removed in 0.15, please use 'weights' instead.\n",
            "  f\"The parameter '{pretrained_param}' is deprecated since 0.13 and will be removed in 0.15, \"\n",
            "/usr/local/lib/python3.7/dist-packages/torchvision/models/_utils.py:223: UserWarning: Arguments other than a weight enum or `None` for 'weights' are deprecated since 0.13 and will be removed in 0.15. The current behavior is equivalent to passing `weights=ResNet18_Weights.IMAGENET1K_V1`. You can also use `weights=ResNet18_Weights.DEFAULT` to get the most up-to-date weights.\n",
            "  warnings.warn(msg)\n"
          ]
        }
      ]
    },
    {
      "cell_type": "code",
      "source": [
        "## Fine Tunning위해 ResNet model layer의 이름 다시 확인\n",
        "for name,child in Resnet.named_children(): \n",
        "  print('Layer Name : ',name)"
      ],
      "metadata": {
        "colab": {
          "base_uri": "https://localhost:8080/"
        },
        "id": "byVYLNh7K1es",
        "outputId": "3b210635-c356-410c-852b-59a41de6448e"
      },
      "execution_count": null,
      "outputs": [
        {
          "output_type": "stream",
          "name": "stdout",
          "text": [
            "Layer Name :  conv1\n",
            "Layer Name :  bn1\n",
            "Layer Name :  relu\n",
            "Layer Name :  maxpool\n",
            "Layer Name :  layer1\n",
            "Layer Name :  layer2\n",
            "Layer Name :  layer3\n",
            "Layer Name :  layer4\n",
            "Layer Name :  avgpool\n",
            "Layer Name :  fc\n"
          ]
        }
      ]
    },
    {
      "cell_type": "markdown",
      "source": [
        "###(1) Output Layer Handling"
      ],
      "metadata": {
        "id": "ePRccwHvNi_2"
      }
    },
    {
      "cell_type": "code",
      "source": [
        "## 현재 이미지 데이터의 class 수에 맞게 fc layer 조절\n",
        "num_ftrs = Resnet.fc.in_features # ResNet의 'fc' 라는 layer에 들어오는 feature 확인\n",
        "# class_names 에는 우리 이미지의 class들이 들어가 있음 (위에서 할당해 놓음)\n",
        "Resnet_1.fc = nn.Linear(num_ftrs,len(class_names)) # 'fc' layer의 input은 feature size로 output은 우리 이미지의 class 개수로\n",
        "Resnet_2.fc = nn.Linear(num_ftrs,len(class_names)) # 위와 동일\n",
        "Resnet_3.fc = nn.Linear(num_ftrs,len(class_names)) # 위와 동일"
      ],
      "metadata": {
        "id": "oZa7jSXEKiHm"
      },
      "execution_count": null,
      "outputs": []
    },
    {
      "cell_type": "code",
      "source": [
        "## 그대로 가져왔던 Resnet과 fc layer의 weight 개수 비교\n",
        "print(Resnet_1.fc.weight.shape)\n",
        "print(Resnet.fc.weight.shape)"
      ],
      "metadata": {
        "colab": {
          "base_uri": "https://localhost:8080/"
        },
        "id": "KKJpAQ_JRppp",
        "outputId": "20e70a39-15ed-4e15-fd19-f605c0307bbd"
      },
      "execution_count": null,
      "outputs": [
        {
          "output_type": "stream",
          "name": "stdout",
          "text": [
            "torch.Size([100, 512])\n",
            "torch.Size([1000, 512])\n"
          ]
        }
      ]
    },
    {
      "cell_type": "markdown",
      "source": [
        "### (2) Weight Initialization"
      ],
      "metadata": {
        "id": "_Hlt2jXoNNcS"
      }
    },
    {
      "cell_type": "code",
      "source": [
        "## Weight Initialization \n",
        "'''\n",
        "위의 cell에서 지정해 준 Resnet_1, 2, 3의 output layer에 대해 가중치 초기화를 진행할 수 있음.\n",
        "기본적으로 torch는 Kaiming he 초기화를 defalt로 갖고 있음\n",
        "세 fc layer 모두 Kaiming 초기화를 수동으로 시켜줄 것 \n",
        "'''\n",
        "torch.nn.init.kaiming_normal_(Resnet_1.fc.weight)\n",
        "torch.nn.init.kaiming_normal_(Resnet_2.fc.weight)\n",
        "torch.nn.init.kaiming_normal_(Resnet_3.fc.weight) \n",
        "\n",
        "## 물론 다른 종류의 초기화도 가능하다\n",
        "\n",
        "# Normal distribution\n",
        "#torch.nn.init.normal_(Resnet_1.weight)\n",
        "# Xavier initialization\n",
        "#torch.nn.init.xavier_uniform_(Resnet_1.weight)\n",
        "# Kaiming initialization\n",
        "#torch.nn.init.kaiming_uniform_(Resnet_1.weight)"
      ],
      "metadata": {
        "colab": {
          "base_uri": "https://localhost:8080/"
        },
        "id": "Yf4L5eblMGEH",
        "outputId": "24aa6f86-23b0-468f-9d43-ba2b9db02c70"
      },
      "execution_count": null,
      "outputs": [
        {
          "output_type": "execute_result",
          "data": {
            "text/plain": [
              "Parameter containing:\n",
              "tensor([[ 0.0280,  0.0440,  0.0242,  ...,  0.0441, -0.0116,  0.0191],\n",
              "        [-0.0117, -0.1360, -0.0157,  ...,  0.0892,  0.0234, -0.0769],\n",
              "        [ 0.0237,  0.0710,  0.0207,  ..., -0.0232,  0.0295,  0.0035],\n",
              "        ...,\n",
              "        [-0.1310, -0.0365,  0.0022,  ...,  0.0312, -0.0932, -0.1128],\n",
              "        [-0.0591, -0.0393,  0.0106,  ...,  0.0196,  0.0478, -0.0557],\n",
              "        [-0.0354, -0.0278,  0.0827,  ..., -0.0039,  0.0512,  0.0245]],\n",
              "       requires_grad=True)"
            ]
          },
          "metadata": {},
          "execution_count": 16
        }
      ]
    },
    {
      "cell_type": "code",
      "source": [
        "## 초기화 확인\n",
        "print('Original ResNet fc layer weights')\n",
        "print(Resnet.fc.weight)\n",
        "print('Modified ResNet fc layer weights')\n",
        "print(Resnet_1.fc.weight)"
      ],
      "metadata": {
        "colab": {
          "base_uri": "https://localhost:8080/"
        },
        "id": "YetV8DpMTk63",
        "outputId": "55ad9530-03ac-45a6-db65-2f014972d2a7"
      },
      "execution_count": null,
      "outputs": [
        {
          "output_type": "stream",
          "name": "stdout",
          "text": [
            "Original ResNet fc layer weights\n",
            "Parameter containing:\n",
            "tensor([[-0.0185, -0.0705, -0.0518,  ..., -0.0390,  0.1735, -0.0410],\n",
            "        [-0.0818, -0.0944,  0.0174,  ...,  0.2028, -0.0248,  0.0372],\n",
            "        [-0.0332, -0.0566, -0.0242,  ..., -0.0344, -0.0227,  0.0197],\n",
            "        ...,\n",
            "        [-0.0103,  0.0033, -0.0359,  ..., -0.0279, -0.0115,  0.0128],\n",
            "        [-0.0359, -0.0353, -0.0296,  ..., -0.0330, -0.0110, -0.0513],\n",
            "        [ 0.0021, -0.0248, -0.0829,  ...,  0.0417, -0.0500,  0.0663]],\n",
            "       requires_grad=True)\n",
            "Modified ResNet fc layer weights\n",
            "Parameter containing:\n",
            "tensor([[-0.0203, -0.0287, -0.0715,  ..., -0.1063,  0.0128, -0.0600],\n",
            "        [ 0.0088, -0.0983, -0.0127,  ...,  0.0072,  0.0209, -0.0305],\n",
            "        [ 0.0745, -0.1597, -0.0175,  ..., -0.0459, -0.0154,  0.1317],\n",
            "        ...,\n",
            "        [ 0.2165,  0.0167, -0.0168,  ..., -0.0107, -0.0844,  0.0968],\n",
            "        [-0.0778, -0.0480,  0.0135,  ..., -0.1119, -0.0093,  0.0743],\n",
            "        [-0.0038,  0.0337,  0.0661,  ..., -0.1335,  0.0822,  0.0398]],\n",
            "       requires_grad=True)\n"
          ]
        }
      ]
    },
    {
      "cell_type": "markdown",
      "source": [
        "###(3) Train, Test Functions"
      ],
      "metadata": {
        "id": "hqgwvt7_f0fM"
      }
    },
    {
      "cell_type": "code",
      "source": [
        "seq_train_loss = []\n",
        "seq_test_loss = []\n",
        "seq_train_acc = []\n",
        "seq_test_acc = []"
      ],
      "metadata": {
        "id": "oeI0K07KfKV8"
      },
      "execution_count": null,
      "outputs": []
    },
    {
      "cell_type": "code",
      "source": [
        "## Train 함수 정의\n",
        "\n",
        "def train(model,epoch,optimizer,criterion,scheduler=None,save_every=None):\n",
        "    ## 각 단계의 loss 및 accuracy 저장할 list 생성\n",
        "\n",
        "    print(f'\\n[ Train epoch: {epoch+1} ]')\n",
        "\n",
        "    model.train() # Train 단계임을 선업\n",
        "\n",
        "    running_loss = 0.0\n",
        "    batch_losses = []\n",
        "    total = 0\n",
        "    correct = 0\n",
        "\n",
        "    for batch_idx, (inputs, targets) in enumerate(dataloaders['facescrub_train']): # Train data 가져오기\n",
        "        inputs, targets = inputs.to(device), targets.to(device) # dataloader의 input image와 label도 device에 넣어준다\n",
        "      \n",
        "        optimizer.zero_grad() # gradient 초기화\n",
        "        outputs = model(inputs) # Prediction value 계산 (Output 계산)\n",
        "        loss = criterion(outputs, targets) # outputs와 원래 label인 targets 사이 loss 계산\n",
        "        loss.backward() # 계산한 loss 기반으로 gradient 값 계산\n",
        "        optimizer.step() # weight parameter update\n",
        "        if scheduler != None:\n",
        "            if batch_idx in [80, 160, 200]:\n",
        "                scheduler.step() # Scheduler update\n",
        "\n",
        "        total += targets.size(0) # batch 데이터 개수 더하기\n",
        "        running_loss += loss.item()\n",
        "        batch_losses.append(loss.item())\n",
        "        \n",
        "        _, predicted = outputs.max(1) # 확률값 가장 높게 나타난 클래스\n",
        "        correct += (predicted == targets).sum().item() # 현재 batch 내에서 알맞게 분류한 이미지 개수 더하기\n",
        "        \n",
        "        if batch_idx % 50 == 49:\n",
        "            ## 학습 중간 성능 확인\n",
        "            print(f'\\nCurrent batch: {str(batch_idx+1)}')\n",
        "            print(f'Average train loss of recent 50 batches: {running_loss / 50}') \n",
        "            running_loss = 0.0\n",
        "\n",
        "        if save_every != None:\n",
        "         if (batch_idx % save_every == 0): # 얼마만큼의 iteration마다 저장할 것인지를 설정\n",
        "              directory = os.path.join(save_path, 'Resnet') # 경로 설정\n",
        "              if not os.path.exists(directory): # 경로가 없다면 새로 만듦\n",
        "                  os.makedirs(directory)\n",
        "              torch.save({ \n",
        "                  # 학습 중간에 저장하려 하는 모든 것들을 dict로 서술\n",
        "                  'epoch': epoch, \n",
        "                  'iteration': batch_idx,\n",
        "                  'model': model.state_dict(),\n",
        "                  'opt': optimizer.state_dict(),\n",
        "                  'loss': loss\n",
        "                  #,'sch': scheduler.state_dict()\n",
        "                  }, os.path.join(directory, '{}ep_{}iter_{}.tar'.format(epoch,batch_idx,'checkpoint')))\n",
        "\n",
        "    avg_loss = sum(batch_losses) / len(batch_losses)\n",
        "    seq_train_loss.append(avg_loss)\n",
        "    seq_train_acc.append(100*correct/total)\n",
        "    print('\\nTotal train accuarcy:', 100. * correct / total) # 전체 데이터 개수에서 맞게 예측한 비율\n",
        "    print('Total train loss:', avg_loss)"
      ],
      "metadata": {
        "id": "FtiS32Z5ag2-"
      },
      "execution_count": null,
      "outputs": []
    },
    {
      "cell_type": "code",
      "source": [
        "def test(model,epoch,criterion):\n",
        "    print(f'\\n[ Test epoch: {epoch+1} ]')\n",
        "\n",
        "    model.eval() # Test time임을 선언\n",
        "\n",
        "    loss = 0\n",
        "    batch_losses = []\n",
        "    correct = 0\n",
        "    total = 0\n",
        "\n",
        "    with torch.no_grad(): # gradient update 안함 - eval과 torch.no_grad는 하나의 세트\n",
        "        for batch_idx, (inputs, targets) in enumerate(dataloaders['facescrub_test']):\n",
        "            inputs, targets = inputs.to(device), targets.to(device)\n",
        "\n",
        "            outputs = model(inputs)\n",
        "            loss = criterion(outputs, targets)\n",
        "            batch_losses.append(loss.item())\n",
        "\n",
        "            total += targets.size(0)\n",
        "            _, predicted = outputs.max(1)\n",
        "            correct += (predicted == targets).sum().item()\n",
        "\n",
        "    avg_loss = sum(batch_losses) / len(batch_losses)\n",
        "    seq_test_loss.append(avg_loss)\n",
        "    seq_test_acc.append(100 * correct / total)\n",
        "    print('\\nTest accuarcy:', 100. * correct / total)\n",
        "    print('Test average loss:', avg_loss)"
      ],
      "metadata": {
        "id": "nXsvlQwWazv6"
      },
      "execution_count": null,
      "outputs": []
    },
    {
      "cell_type": "markdown",
      "source": [
        "##2.2. Baseline Model "
      ],
      "metadata": {
        "id": "OB1mf3ZTKWn0"
      }
    },
    {
      "cell_type": "markdown",
      "source": [
        "여기서는 Pre-trained ResNet 그대로 사용할 것"
      ],
      "metadata": {
        "id": "-IGllBpVFbd_"
      }
    },
    {
      "cell_type": "markdown",
      "source": [
        "###(1) Freeze the Other Layers"
      ],
      "metadata": {
        "id": "af5QNFQoqHtA"
      }
    },
    {
      "cell_type": "code",
      "source": [
        "## 새로 정의한 마지막 output layer 제외하고 다른 parameter 얼리기\n",
        "for name,child in Resnet_1.named_children():\n",
        "  for param in child.parameters():\n",
        "    if name != 'fc':   # 'fc' 이름의 layer만 제외\n",
        "      param.requires_grad = False # 제외된 layer 이외 모든 layer의 parameter 얼리기"
      ],
      "metadata": {
        "id": "Z_4q0khvf9QL"
      },
      "execution_count": null,
      "outputs": []
    },
    {
      "cell_type": "code",
      "source": [
        "## 다른 parameter가 얼었는지 확인\n",
        "for name,child in Resnet_1.named_children():\n",
        "  for param in child.parameters():\n",
        "    if name == 'layer4' or name == 'fc':# 비교확인을 위해 layer4의 parameter도 출력\n",
        "      print(name,param)\n",
        "## 얼지 않은 layer의 parameter는 마지막 부분에\n",
        "## 'requires_grad = True' 라고 써있음"
      ],
      "metadata": {
        "colab": {
          "base_uri": "https://localhost:8080/"
        },
        "id": "7j2LCv8mg_Xv",
        "outputId": "a1233809-8d0c-4c95-cfe4-0178fdcf678e"
      },
      "execution_count": null,
      "outputs": [
        {
          "output_type": "stream",
          "name": "stdout",
          "text": [
            "layer4 Parameter containing:\n",
            "tensor([[[[-1.1645e-02, -1.9010e-02, -2.1876e-02],\n",
            "          [ 2.0482e-02,  2.3962e-02,  2.9161e-02],\n",
            "          [ 4.3672e-02,  3.3278e-02,  4.9908e-02]],\n",
            "\n",
            "         [[-7.4040e-03,  2.8083e-03, -4.7339e-03],\n",
            "          [ 6.9030e-03,  1.4271e-02, -3.6954e-03],\n",
            "          [-3.1341e-03,  1.3736e-02,  1.6127e-03]],\n",
            "\n",
            "         [[ 1.8676e-02, -1.0553e-02, -1.4233e-02],\n",
            "          [ 8.9944e-03, -2.5068e-03, -1.2145e-02],\n",
            "          [-4.9455e-03, -2.9206e-02, -9.6385e-03]],\n",
            "\n",
            "         ...,\n",
            "\n",
            "         [[-1.2655e-02,  1.7691e-02,  9.8264e-04],\n",
            "          [ 7.4271e-03,  7.6115e-03,  1.1135e-02],\n",
            "          [ 2.3242e-02,  1.1058e-02,  4.0498e-03]],\n",
            "\n",
            "         [[ 1.8557e-02,  1.2472e-02,  1.7220e-02],\n",
            "          [-4.8544e-03,  8.3627e-03,  2.2811e-02],\n",
            "          [-5.1675e-03,  2.3264e-02,  3.4068e-02]],\n",
            "\n",
            "         [[ 2.4934e-02,  2.2373e-02,  4.2614e-02],\n",
            "          [ 1.3486e-02,  1.6760e-03,  1.3019e-02],\n",
            "          [-6.2821e-03, -1.5112e-03, -8.9229e-03]]],\n",
            "\n",
            "\n",
            "        [[[-9.8089e-04, -6.3011e-03,  5.9932e-03],\n",
            "          [ 1.5936e-02,  1.3394e-02,  2.9934e-02],\n",
            "          [ 2.3149e-02,  2.0709e-02,  2.5485e-02]],\n",
            "\n",
            "         [[-2.0015e-02, -3.3349e-02, -8.0396e-03],\n",
            "          [-7.2800e-03, -1.2187e-02, -2.0389e-04],\n",
            "          [-1.3138e-02, -2.0427e-02, -1.6286e-02]],\n",
            "\n",
            "         [[-6.7681e-03,  5.0045e-03, -2.6683e-03],\n",
            "          [-2.1073e-02,  2.8275e-04, -1.8205e-02],\n",
            "          [-1.7382e-02, -5.0244e-03, -3.0386e-03]],\n",
            "\n",
            "         ...,\n",
            "\n",
            "         [[-1.1035e-02, -2.2964e-02, -1.1028e-02],\n",
            "          [-6.3256e-03, -4.1667e-03, -1.7323e-02],\n",
            "          [-1.3611e-02, -2.3468e-02, -1.6436e-02]],\n",
            "\n",
            "         [[ 7.3663e-03,  6.6219e-03,  5.2776e-03],\n",
            "          [-3.5464e-03,  3.2750e-03, -9.1126e-03],\n",
            "          [ 3.5593e-04, -1.0151e-02, -1.9123e-02]],\n",
            "\n",
            "         [[ 1.8193e-03,  8.8087e-03,  5.1361e-03],\n",
            "          [ 3.1915e-03,  2.5287e-02,  2.4939e-02],\n",
            "          [ 1.3968e-02,  1.9613e-02,  2.2382e-02]]],\n",
            "\n",
            "\n",
            "        [[[-4.1548e-03,  8.8964e-03,  2.0143e-03],\n",
            "          [ 1.1327e-02,  1.3251e-02,  1.4014e-02],\n",
            "          [ 7.2196e-03,  1.3045e-02,  2.4827e-02]],\n",
            "\n",
            "         [[-1.5025e-02,  5.0530e-03,  7.4766e-03],\n",
            "          [-2.4685e-02, -1.6732e-02, -1.0888e-02],\n",
            "          [-2.8064e-02, -1.1875e-02, -3.4120e-03]],\n",
            "\n",
            "         [[ 2.8449e-02,  1.4594e-02,  6.9441e-03],\n",
            "          [ 2.4799e-02,  1.9453e-02,  1.1294e-02],\n",
            "          [-1.0787e-02, -2.1006e-02, -1.0372e-02]],\n",
            "\n",
            "         ...,\n",
            "\n",
            "         [[ 1.4967e-02,  8.2449e-03,  2.0244e-03],\n",
            "          [ 1.4287e-02, -6.3867e-03, -8.0757e-03],\n",
            "          [ 2.7547e-02,  1.0791e-02,  1.6567e-02]],\n",
            "\n",
            "         [[ 3.6191e-02,  3.8918e-02,  3.9028e-02],\n",
            "          [-8.3489e-04,  1.3273e-02,  2.0172e-02],\n",
            "          [-2.0652e-02, -5.4010e-03,  1.7147e-03]],\n",
            "\n",
            "         [[ 2.0373e-04,  3.5919e-03,  8.5592e-03],\n",
            "          [ 6.2363e-03, -9.3086e-05,  1.2940e-02],\n",
            "          [ 1.3152e-02,  1.0732e-02,  1.9896e-02]]],\n",
            "\n",
            "\n",
            "        ...,\n",
            "\n",
            "\n",
            "        [[[-1.7400e-02, -6.7019e-03, -9.1787e-03],\n",
            "          [-9.9672e-03,  2.6298e-04,  3.3439e-03],\n",
            "          [ 1.5721e-02,  1.4216e-02,  2.0509e-02]],\n",
            "\n",
            "         [[ 2.1410e-02,  3.6914e-02,  2.8239e-02],\n",
            "          [ 3.8158e-02,  4.8944e-02,  3.4652e-02],\n",
            "          [ 3.1723e-02,  4.4208e-02,  4.0035e-02]],\n",
            "\n",
            "         [[-3.3437e-03, -1.0482e-02, -5.3990e-03],\n",
            "          [-5.3186e-03,  1.1394e-02,  1.7593e-03],\n",
            "          [-5.6652e-03, -6.6373e-03, -1.3492e-02]],\n",
            "\n",
            "         ...,\n",
            "\n",
            "         [[-1.7099e-02, -1.8145e-03, -1.3040e-02],\n",
            "          [-2.2750e-02, -3.6062e-03, -8.0294e-03],\n",
            "          [-1.6087e-02, -1.0175e-02, -1.3529e-02]],\n",
            "\n",
            "         [[ 4.1701e-04, -5.1785e-03, -2.1884e-02],\n",
            "          [ 2.6919e-03,  8.9139e-03, -1.4217e-04],\n",
            "          [-7.3746e-03, -6.6853e-03, -2.3725e-02]],\n",
            "\n",
            "         [[ 1.9425e-02,  1.3175e-02,  1.7511e-02],\n",
            "          [ 1.8235e-02,  4.4286e-02,  2.3767e-02],\n",
            "          [ 2.6504e-02,  3.3104e-02,  1.9696e-02]]],\n",
            "\n",
            "\n",
            "        [[[-1.0177e-02, -1.0701e-02, -2.0428e-02],\n",
            "          [-1.7986e-02,  5.9928e-03, -1.0584e-03],\n",
            "          [-1.8794e-02, -1.8773e-03, -6.9449e-03]],\n",
            "\n",
            "         [[-2.8498e-03,  1.6427e-03,  1.4575e-04],\n",
            "          [-5.4403e-03,  8.3667e-03, -9.4164e-03],\n",
            "          [-4.4999e-03,  5.4902e-03,  2.4863e-03]],\n",
            "\n",
            "         [[-1.3356e-02, -2.1525e-02,  5.3421e-04],\n",
            "          [-1.9160e-02, -2.4645e-02, -1.3791e-02],\n",
            "          [-6.1991e-03, -1.3174e-02, -3.6783e-03]],\n",
            "\n",
            "         ...,\n",
            "\n",
            "         [[-3.3993e-03, -2.7823e-03,  7.6715e-03],\n",
            "          [-2.0649e-02, -1.2731e-02, -9.4138e-03],\n",
            "          [-1.3678e-03, -3.4410e-02, -2.6984e-02]],\n",
            "\n",
            "         [[-3.5651e-04,  2.0102e-03,  1.4130e-02],\n",
            "          [-1.3073e-02, -1.6616e-02, -1.2690e-02],\n",
            "          [-3.5934e-02, -4.1700e-02, -3.3968e-02]],\n",
            "\n",
            "         [[ 2.0470e-02,  8.0159e-04, -1.1607e-03],\n",
            "          [ 9.5101e-03,  3.0336e-02,  2.7362e-02],\n",
            "          [ 1.5588e-02,  3.2851e-02,  1.3015e-02]]],\n",
            "\n",
            "\n",
            "        [[[-1.5574e-02, -3.2971e-02, -3.1939e-02],\n",
            "          [-2.2502e-02, -5.7187e-03, -5.6729e-03],\n",
            "          [-2.7309e-02, -1.6981e-02,  1.2832e-04]],\n",
            "\n",
            "         [[-1.1925e-02, -2.9479e-02, -2.0437e-02],\n",
            "          [-2.4408e-02, -2.2069e-02, -1.9965e-03],\n",
            "          [-2.3279e-02, -5.5140e-03,  2.5630e-02]],\n",
            "\n",
            "         [[-1.6100e-02, -8.2417e-03,  1.5266e-04],\n",
            "          [-2.6195e-03, -8.2754e-03, -2.9435e-02],\n",
            "          [-2.7493e-03, -2.4889e-02, -2.3583e-02]],\n",
            "\n",
            "         ...,\n",
            "\n",
            "         [[ 1.7985e-02,  1.8594e-02,  8.9198e-04],\n",
            "          [-1.7319e-02,  7.8735e-03, -2.8659e-03],\n",
            "          [ 3.8596e-03,  2.9061e-02,  2.4188e-02]],\n",
            "\n",
            "         [[-2.6735e-02, -1.4391e-02, -4.0148e-02],\n",
            "          [-2.6728e-02, -2.4455e-02, -6.9176e-03],\n",
            "          [-5.7244e-02, -2.1995e-04,  5.5438e-02]],\n",
            "\n",
            "         [[ 2.3487e-02,  2.7157e-03, -8.4719e-04],\n",
            "          [ 1.7886e-02,  5.4860e-03,  2.8059e-02],\n",
            "          [ 4.6468e-03,  1.8598e-02,  1.3761e-03]]]], device='cuda:0')\n",
            "layer4 Parameter containing:\n",
            "tensor([0.2427, 0.2232, 0.2511, 0.2288, 0.2074, 0.2905, 0.2482, 0.3102, 0.2749,\n",
            "        0.2892, 0.2448, 0.1759, 0.2426, 0.2780, 0.2315, 0.2631, 0.3383, 0.2785,\n",
            "        0.2536, 0.2989, 0.2335, 0.2812, 0.3486, 0.2778, 0.2280, 0.2547, 0.3032,\n",
            "        0.2468, 0.2512, 0.2973, 0.2577, 0.3200, 0.2385, 0.2714, 0.2532, 0.2625,\n",
            "        0.3344, 0.2626, 0.1838, 0.2839, 0.2187, 0.2666, 0.2858, 0.2471, 0.2915,\n",
            "        0.2332, 0.2637, 0.2691, 0.2432, 0.2384, 0.2356, 0.2525, 0.2564, 0.2451,\n",
            "        0.2529, 0.2522, 0.2800, 0.3165, 0.2340, 0.2634, 0.2569, 0.1942, 0.2621,\n",
            "        0.2205, 0.2301, 0.2323, 0.2811, 0.1897, 0.2280, 0.3472, 0.2717, 0.3191,\n",
            "        0.2440, 0.2719, 0.2781, 0.2262, 0.3444, 0.2648, 0.2725, 0.2851, 0.2039,\n",
            "        0.2935, 0.2742, 0.2774, 0.2654, 0.2430, 0.2721, 0.2708, 0.3085, 0.2895,\n",
            "        0.2596, 0.2147, 0.3119, 0.3449, 0.2262, 0.2814, 0.2326, 0.2712, 0.2637,\n",
            "        0.2323, 0.3333, 0.2714, 0.2991, 0.2747, 0.2515, 0.2394, 0.2709, 0.2836,\n",
            "        0.2866, 0.2408, 0.2560, 0.2048, 0.2394, 0.2813, 0.3267, 0.2761, 0.2123,\n",
            "        0.2715, 0.2540, 0.2771, 0.3209, 0.1905, 0.3989, 0.2676, 0.2357, 0.2169,\n",
            "        0.3216, 0.3596, 0.2838, 0.2648, 0.2702, 0.2469, 0.2442, 0.2553, 0.2599,\n",
            "        0.2693, 0.2399, 0.2700, 0.2063, 0.2711, 0.2834, 0.2781, 0.2529, 0.2013,\n",
            "        0.2343, 0.2082, 0.3063, 0.1635, 0.2673, 0.2197, 0.2787, 0.2724, 0.2744,\n",
            "        0.2287, 0.2969, 0.2662, 0.2982, 0.2396, 0.3039, 0.2319, 0.2773, 0.2661,\n",
            "        0.2898, 0.2489, 0.3060, 0.2612, 0.2937, 0.3045, 0.2999, 0.2580, 0.2093,\n",
            "        0.2714, 0.2993, 0.2679, 0.2963, 0.2754, 0.2580, 0.2566, 0.2634, 0.2325,\n",
            "        0.2442, 0.2934, 0.2398, 0.2631, 0.2851, 0.2870, 0.2239, 0.2410, 0.2676,\n",
            "        0.2681, 0.2638, 0.2732, 0.2812, 0.2203, 0.2670, 0.2764, 0.2550, 0.3160,\n",
            "        0.2888, 0.2615, 0.2178, 0.2485, 0.2414, 0.2798, 0.2872, 0.2767, 0.2551,\n",
            "        0.2429, 0.2459, 0.3288, 0.3024, 0.2912, 0.2625, 0.3019, 0.2643, 0.2721,\n",
            "        0.2108, 0.2368, 0.2269, 0.1988, 0.2830, 0.2569, 0.2349, 0.2755, 0.2442,\n",
            "        0.2717, 0.2747, 0.2785, 0.2516, 0.2227, 0.2783, 0.2465, 0.2652, 0.2641,\n",
            "        0.2960, 0.2671, 0.2679, 0.2537, 0.2847, 0.2507, 0.2525, 0.2024, 0.2311,\n",
            "        0.2618, 0.2764, 0.3031, 0.2452, 0.2716, 0.2273, 0.2295, 0.2611, 0.2329,\n",
            "        0.2690, 0.2753, 0.2737, 0.2590, 0.2421, 0.2685, 0.3392, 0.3073, 0.1371,\n",
            "        0.3650, 0.2980, 0.2460, 0.2487, 0.2912, 0.2704, 0.2560, 0.2213, 0.2569,\n",
            "        0.2661, 0.2367, 0.2742, 0.2847, 0.3055, 0.2671, 0.2819, 0.2791, 0.2401,\n",
            "        0.2549, 0.2210, 0.3507, 0.2852, 0.2162, 0.2821, 0.2369, 0.2905, 0.2826,\n",
            "        0.2300, 0.2745, 0.2437, 0.2522, 0.2489, 0.2395, 0.2851, 0.2887, 0.2621,\n",
            "        0.2500, 0.2689, 0.2427, 0.3010, 0.3067, 0.2861, 0.2387, 0.2462, 0.2859,\n",
            "        0.2550, 0.2630, 0.2442, 0.2145, 0.2898, 0.2282, 0.2327, 0.2242, 0.2738,\n",
            "        0.2485, 0.2379, 0.3058, 0.2798, 0.2761, 0.2252, 0.2866, 0.2660, 0.3250,\n",
            "        0.2612, 0.2767, 0.3205, 0.2932, 0.3183, 0.2939, 0.3103, 0.2553, 0.2981,\n",
            "        0.3667, 0.3086, 0.2254, 0.2352, 0.2348, 0.2555, 0.2597, 0.2369, 0.3017,\n",
            "        0.2776, 0.2728, 0.3174, 0.2785, 0.2721, 0.2637, 0.2702, 0.3633, 0.2869,\n",
            "        0.2675, 0.3405, 0.2587, 0.2732, 0.2747, 0.2821, 0.2750, 0.2630, 0.2018,\n",
            "        0.2358, 0.3034, 0.3155, 0.3013, 0.2775, 0.2511, 0.2945, 0.1605, 0.2825,\n",
            "        0.2964, 0.2194, 0.2061, 0.2332, 0.2348, 0.2663, 0.2543, 0.2927, 0.2215,\n",
            "        0.2521, 0.2827, 0.1993, 0.2453, 0.2597, 0.2654, 0.2757, 0.2650, 0.2444,\n",
            "        0.2949, 0.2308, 0.3071, 0.1904, 0.3024, 0.2786, 0.3659, 0.2966, 0.2746,\n",
            "        0.2449, 0.2201, 0.2564, 0.2853, 0.2392, 0.2457, 0.2467, 0.2374, 0.2664,\n",
            "        0.2460, 0.3182, 0.1793, 0.2379, 0.2596, 0.2847, 0.2452, 0.1974, 0.2388,\n",
            "        0.2949, 0.2879, 0.2786, 0.2765, 0.3296, 0.2530, 0.2690, 0.2547, 0.2333,\n",
            "        0.2348, 0.2690, 0.2718, 0.2679, 0.2516, 0.2710, 0.2366, 0.2601, 0.2764,\n",
            "        0.2880, 0.2008, 0.2637, 0.2263, 0.2511, 0.2604, 0.2805, 0.2989, 0.2965,\n",
            "        0.2597, 0.2767, 0.2553, 0.2959, 0.2512, 0.2925, 0.3008, 0.2423, 0.2394,\n",
            "        0.2708, 0.3704, 0.2879, 0.2532, 0.2248, 0.2023, 0.2279, 0.2366, 0.3082,\n",
            "        0.2980, 0.2909, 0.2777, 0.4293, 0.2658, 0.2940, 0.2418, 0.2816, 0.3247,\n",
            "        0.2647, 0.2216, 0.2758, 0.2421, 0.2078, 0.2332, 0.2271, 0.2611, 0.3650,\n",
            "        0.2017, 0.2598, 0.2160, 0.2641, 0.1408, 0.2664, 0.2502, 0.2553, 0.2227,\n",
            "        0.2417, 0.2696, 0.2388, 0.2833, 0.2333, 0.2667, 0.2224, 0.2691, 0.2710,\n",
            "        0.2459, 0.2674, 0.2430, 0.2593, 0.1851, 0.2950, 0.3664, 0.2212, 0.3026,\n",
            "        0.1840, 0.3443, 0.2140, 0.3717, 0.2360, 0.3081, 0.2638, 0.2233],\n",
            "       device='cuda:0')\n",
            "layer4 Parameter containing:\n",
            "tensor([-0.1986, -0.1593, -0.2054, -0.1598, -0.1268, -0.3226, -0.1597, -0.3477,\n",
            "        -0.2497, -0.2730, -0.2319, -0.0286, -0.1899, -0.2813, -0.1733, -0.2412,\n",
            "        -0.3712, -0.2747, -0.2053, -0.2585, -0.1535, -0.2748, -0.3241, -0.2525,\n",
            "        -0.1906, -0.2252, -0.3436, -0.2202, -0.1664, -0.2716, -0.1920, -0.3399,\n",
            "        -0.2026, -0.2972, -0.2616, -0.2238, -0.2486, -0.2606, -0.0893, -0.3572,\n",
            "        -0.1283, -0.2583, -0.2450, -0.1523, -0.3165, -0.1445, -0.2522, -0.1963,\n",
            "        -0.1794, -0.1071, -0.1662, -0.2053, -0.2530, -0.1447, -0.2517, -0.2062,\n",
            "        -0.2817, -0.3376, -0.1382, -0.2389, -0.2557, -0.0156, -0.2169, -0.1763,\n",
            "        -0.1486, -0.2122, -0.2002, -0.0716, -0.2089, -0.3580, -0.2588, -0.3599,\n",
            "        -0.1528, -0.2107, -0.2925, -0.1855, -0.3970, -0.1257, -0.2574, -0.2412,\n",
            "        -0.0863, -0.3065, -0.2701, -0.3380, -0.2485, -0.1935, -0.2987, -0.2279,\n",
            "        -0.3600, -0.2764, -0.2480, -0.1208, -0.3378, -0.2661, -0.1677, -0.2470,\n",
            "        -0.2152, -0.2591, -0.1936, -0.1543, -0.4117, -0.1570, -0.2372, -0.2997,\n",
            "        -0.2124, -0.2034, -0.1848, -0.3070, -0.3438, -0.1839, -0.1937, -0.0916,\n",
            "        -0.2338, -0.3558, -0.1967, -0.3303, -0.1398, -0.2177, -0.1665, -0.1857,\n",
            "        -0.3115, -0.1049, -0.4229, -0.2408, -0.1320, -0.1631, -0.3378, -0.3300,\n",
            "        -0.3183, -0.2268, -0.2787, -0.1950, -0.1950, -0.1463, -0.2437, -0.2297,\n",
            "        -0.1282, -0.2164, -0.1179, -0.2437, -0.2611, -0.2656, -0.1948, -0.1208,\n",
            "        -0.1668, -0.1351, -0.2713, -0.0560, -0.2243, -0.1318, -0.2356, -0.2720,\n",
            "        -0.2051, -0.1736, -0.2891, -0.2627, -0.3358, -0.1779, -0.2309, -0.1477,\n",
            "        -0.2685, -0.1882, -0.2629, -0.1983, -0.3522, -0.1905, -0.2778, -0.3395,\n",
            "        -0.2895, -0.2240, -0.1150, -0.2462, -0.2426, -0.2581, -0.3133, -0.2315,\n",
            "        -0.2271, -0.2077, -0.2109, -0.1371, -0.1323, -0.2529, -0.1716, -0.2532,\n",
            "        -0.2277, -0.2084, -0.1803, -0.1868, -0.2404, -0.2166, -0.2197, -0.2870,\n",
            "        -0.3062, -0.1507, -0.1054, -0.2199, -0.2415, -0.3310, -0.2700, -0.1568,\n",
            "        -0.1449, -0.2610, -0.1828, -0.2648, -0.3134, -0.2937, -0.2687, -0.2115,\n",
            "        -0.2164, -0.4522, -0.2999, -0.3032, -0.2292, -0.3099, -0.2642, -0.2695,\n",
            "        -0.1441, -0.1671, -0.1570, -0.1415, -0.2222, -0.1736, -0.1481, -0.2573,\n",
            "        -0.2060, -0.1703, -0.2360, -0.1770, -0.2132, -0.2016, -0.3001, -0.1518,\n",
            "        -0.2086, -0.2805, -0.2698, -0.2292, -0.1293, -0.2514, -0.2600, -0.2454,\n",
            "        -0.1744, -0.1029, -0.1679, -0.2353, -0.2007, -0.3363, -0.1640, -0.2430,\n",
            "        -0.1699, -0.1697, -0.1837, -0.1625, -0.2415, -0.2687, -0.2305, -0.2029,\n",
            "        -0.2209, -0.2240, -0.2675, -0.3233,  0.1462, -0.4777, -0.2376, -0.1489,\n",
            "        -0.1462, -0.3055, -0.2234, -0.1697, -0.1952, -0.2131, -0.2340, -0.2039,\n",
            "        -0.3054, -0.2596, -0.3470, -0.2176, -0.2706, -0.2897, -0.1729, -0.2300,\n",
            "        -0.1066, -0.3556, -0.2912, -0.1777, -0.2007, -0.1699, -0.3009, -0.3046,\n",
            "        -0.1693, -0.2602, -0.2053, -0.1810, -0.1808, -0.1730, -0.3757, -0.1808,\n",
            "        -0.1805, -0.1895, -0.2643, -0.2075, -0.2365, -0.1975, -0.3064, -0.1984,\n",
            "        -0.1811, -0.3676, -0.1198, -0.1485, -0.1770, -0.0781, -0.2052, -0.1360,\n",
            "        -0.1417, -0.1691, -0.2395, -0.1785, -0.1747, -0.2484, -0.2717, -0.3096,\n",
            "        -0.1465, -0.2239, -0.2584, -0.3572, -0.2311, -0.2878, -0.3841, -0.3475,\n",
            "        -0.3896, -0.1891, -0.2861, -0.2431, -0.2837, -0.4365, -0.3353, -0.1802,\n",
            "        -0.1976, -0.1529, -0.1978, -0.2535, -0.1954, -0.2667, -0.2813, -0.2487,\n",
            "        -0.3070, -0.2339, -0.2212, -0.1925, -0.2224, -0.4178, -0.3151, -0.2663,\n",
            "        -0.3581, -0.1935, -0.2385, -0.2424, -0.1850, -0.2265, -0.1803, -0.0777,\n",
            "        -0.1492, -0.3361, -0.4133, -0.3123, -0.2745, -0.1247, -0.3102,  0.0041,\n",
            "        -0.1981, -0.3301, -0.2047, -0.1053, -0.1653, -0.1634, -0.1116, -0.2314,\n",
            "        -0.3191, -0.1818, -0.2657, -0.2220, -0.1029, -0.1999, -0.2702, -0.2139,\n",
            "        -0.2256, -0.2653, -0.1630, -0.3322, -0.1617, -0.3446,  0.0288, -0.2456,\n",
            "        -0.3171, -0.3580, -0.2857, -0.2520, -0.2031, -0.1522, -0.2203, -0.3490,\n",
            "        -0.1685, -0.1424, -0.1602, -0.1553, -0.3057, -0.2420, -0.3536, -0.0551,\n",
            "        -0.0987, -0.2272, -0.2619, -0.2035, -0.0906, -0.1976, -0.3040, -0.2732,\n",
            "        -0.3161, -0.2102, -0.3384, -0.1740, -0.1475, -0.1842, -0.1823, -0.1151,\n",
            "        -0.2183, -0.2010, -0.2659, -0.2205, -0.2567, -0.1633, -0.2213, -0.2658,\n",
            "        -0.2938, -0.1069, -0.2522, -0.1103, -0.2216, -0.2244, -0.2908, -0.2176,\n",
            "        -0.3605, -0.2374, -0.2391, -0.2251, -0.2256, -0.1339, -0.1970, -0.2970,\n",
            "        -0.2206, -0.2051, -0.2229, -0.3602, -0.2923, -0.2498, -0.1466, -0.0979,\n",
            "        -0.1686, -0.2158, -0.2881, -0.3002, -0.2760, -0.2496, -0.3536, -0.2868,\n",
            "        -0.3251, -0.1847, -0.3062, -0.3861, -0.2650, -0.1339, -0.1846, -0.1630,\n",
            "        -0.0630, -0.1717, -0.1415, -0.1906, -0.4611, -0.1391, -0.1920, -0.1369,\n",
            "        -0.1647, -0.0055, -0.2598, -0.2653, -0.2319, -0.1780, -0.1913, -0.2055,\n",
            "        -0.1891, -0.2625, -0.1633, -0.2497, -0.1696, -0.1907, -0.2431, -0.1825,\n",
            "        -0.2607, -0.1943, -0.2361, -0.0581, -0.2758, -0.2593, -0.1466, -0.3589,\n",
            "        -0.0439, -0.3440, -0.1089, -0.4219, -0.1503, -0.2792, -0.3035, -0.1156],\n",
            "       device='cuda:0')\n",
            "layer4 Parameter containing:\n",
            "tensor([[[[ 1.6218e-04, -1.4720e-02, -1.7000e-02],\n",
            "          [-1.2850e-02, -3.3085e-02, -3.6656e-02],\n",
            "          [ 2.7812e-02,  1.7691e-02, -1.8369e-02]],\n",
            "\n",
            "         [[ 1.0528e-02,  3.1379e-02,  2.4801e-02],\n",
            "          [-1.2698e-02, -2.9453e-02, -1.1834e-02],\n",
            "          [-9.4094e-03, -8.9462e-03, -3.1349e-02]],\n",
            "\n",
            "         [[-7.8447e-03, -2.9256e-02,  5.3590e-03],\n",
            "          [-1.3791e-02, -1.1116e-02,  5.0388e-03],\n",
            "          [-2.4919e-03,  7.3514e-03,  5.4013e-03]],\n",
            "\n",
            "         ...,\n",
            "\n",
            "         [[-1.0276e-03, -1.0275e-02, -2.9986e-02],\n",
            "          [-3.8465e-03,  1.9549e-03, -1.6291e-02],\n",
            "          [-1.8100e-03,  8.3778e-03, -8.5481e-03]],\n",
            "\n",
            "         [[-1.8196e-02, -1.3533e-02, -1.7457e-02],\n",
            "          [ 2.2457e-02,  5.7402e-02,  1.9325e-02],\n",
            "          [-2.4977e-02, -3.2113e-02, -8.1780e-03]],\n",
            "\n",
            "         [[ 3.6550e-03,  4.9358e-03, -5.7597e-03],\n",
            "          [-1.6875e-02,  1.3999e-04,  3.7629e-04],\n",
            "          [-2.6272e-03,  1.0947e-03,  1.1145e-03]]],\n",
            "\n",
            "\n",
            "        [[[ 1.4018e-02,  3.9198e-03, -1.7189e-03],\n",
            "          [-1.3175e-03,  4.3503e-04, -1.1798e-02],\n",
            "          [-9.8003e-03, -1.7693e-02, -1.9910e-02]],\n",
            "\n",
            "         [[-1.4957e-02, -1.9796e-02, -2.8724e-02],\n",
            "          [ 5.8908e-03, -1.5228e-02, -5.6715e-03],\n",
            "          [ 2.9284e-03, -1.8028e-02, -7.1433e-03]],\n",
            "\n",
            "         [[-1.1625e-02, -3.3804e-02, -1.0025e-02],\n",
            "          [-1.6606e-02, -5.5716e-02, -2.3204e-02],\n",
            "          [-2.5758e-02, -4.3135e-02, -2.5901e-02]],\n",
            "\n",
            "         ...,\n",
            "\n",
            "         [[-1.5007e-02, -1.4333e-02, -2.5937e-03],\n",
            "          [-2.3078e-02, -1.5820e-02, -2.2818e-03],\n",
            "          [-4.1318e-03, -8.0353e-03, -2.3236e-03]],\n",
            "\n",
            "         [[-1.8531e-02, -1.8004e-02, -2.8084e-02],\n",
            "          [-3.6680e-02, -6.8641e-02, -5.2469e-02],\n",
            "          [-1.1712e-02, -2.4334e-02, -1.6733e-02]],\n",
            "\n",
            "         [[-2.2078e-02, -2.9163e-02, -3.8717e-03],\n",
            "          [-7.0301e-03,  1.6718e-02,  5.4339e-03],\n",
            "          [-1.3131e-02,  1.1999e-02, -1.7480e-02]]],\n",
            "\n",
            "\n",
            "        [[[-5.2378e-03, -3.4890e-03, -2.0851e-03],\n",
            "          [ 1.5306e-02, -2.1752e-02, -8.7682e-03],\n",
            "          [ 2.2460e-02,  9.9175e-03, -3.3635e-03]],\n",
            "\n",
            "         [[ 7.4677e-03, -9.1762e-03, -9.2569e-05],\n",
            "          [ 1.9441e-04,  1.2344e-03, -8.9978e-03],\n",
            "          [-5.1243e-04,  2.1850e-04, -4.8828e-03]],\n",
            "\n",
            "         [[ 1.7078e-02,  3.3955e-03,  9.3503e-03],\n",
            "          [ 2.0334e-02, -1.0621e-04, -8.2017e-05],\n",
            "          [ 1.0706e-02, -1.8414e-03,  1.0828e-02]],\n",
            "\n",
            "         ...,\n",
            "\n",
            "         [[ 3.2008e-02,  2.3494e-02,  2.5386e-02],\n",
            "          [ 1.9307e-02,  2.3924e-02,  2.8972e-02],\n",
            "          [ 9.9003e-03,  2.0158e-02,  2.2655e-02]],\n",
            "\n",
            "         [[-9.8395e-03, -1.1114e-02, -3.7696e-03],\n",
            "          [-2.9508e-02, -3.6956e-02, -1.8228e-02],\n",
            "          [-1.3663e-03, -2.5845e-03,  1.0352e-02]],\n",
            "\n",
            "         [[-7.3867e-03, -2.5413e-02, -2.1942e-02],\n",
            "          [-1.6699e-02, -1.5133e-02, -1.3030e-02],\n",
            "          [-2.0090e-02,  3.7970e-03, -1.0341e-02]]],\n",
            "\n",
            "\n",
            "        ...,\n",
            "\n",
            "\n",
            "        [[[-1.6157e-02, -1.6883e-02, -2.8328e-04],\n",
            "          [-7.7759e-03, -2.4465e-03, -1.4641e-02],\n",
            "          [ 2.4639e-02,  3.9862e-02,  2.1048e-02]],\n",
            "\n",
            "         [[ 2.4491e-03, -9.3885e-03, -1.1786e-02],\n",
            "          [ 2.5301e-02,  2.5625e-04,  7.1335e-03],\n",
            "          [ 2.2342e-02,  1.9042e-02,  7.2526e-03]],\n",
            "\n",
            "         [[-1.4652e-02, -2.7802e-02, -4.3564e-03],\n",
            "          [-1.7961e-02, -4.3846e-02,  2.7409e-03],\n",
            "          [-4.7968e-03, -8.4231e-03,  1.2070e-02]],\n",
            "\n",
            "         ...,\n",
            "\n",
            "         [[-2.0171e-02, -3.3546e-02, -1.6728e-02],\n",
            "          [-1.7847e-02, -5.1713e-02, -2.6780e-02],\n",
            "          [-1.3145e-03, -4.3181e-03, -9.6373e-03]],\n",
            "\n",
            "         [[-5.3917e-03, -2.0410e-04,  2.7798e-03],\n",
            "          [-9.6882e-04, -2.5141e-02,  1.4804e-02],\n",
            "          [ 2.8748e-02,  9.0832e-03,  4.2548e-02]],\n",
            "\n",
            "         [[-1.5698e-02, -1.9303e-02, -9.1469e-03],\n",
            "          [-2.0025e-02, -1.1131e-02, -3.3902e-02],\n",
            "          [-5.7436e-03, -7.3640e-03, -1.0044e-02]]],\n",
            "\n",
            "\n",
            "        [[[-8.8612e-03, -4.5370e-03, -1.2354e-02],\n",
            "          [-5.9245e-03, -1.7058e-02, -2.8041e-02],\n",
            "          [-1.0435e-02,  7.6695e-04, -1.0578e-02]],\n",
            "\n",
            "         [[ 9.5200e-03, -5.1975e-03,  1.2947e-02],\n",
            "          [ 4.4305e-03, -2.3992e-02, -8.4569e-04],\n",
            "          [ 4.6608e-03,  9.6787e-03,  8.2174e-03]],\n",
            "\n",
            "         [[ 5.1559e-03,  4.4635e-04, -7.9934e-03],\n",
            "          [ 3.3069e-03,  1.4450e-02,  8.9234e-03],\n",
            "          [ 6.3402e-03,  1.9043e-02,  1.9021e-02]],\n",
            "\n",
            "         ...,\n",
            "\n",
            "         [[ 7.6964e-03, -1.3777e-02,  6.0539e-03],\n",
            "          [-1.5745e-03, -2.3391e-02, -1.0052e-02],\n",
            "          [ 9.5183e-03, -1.2251e-02,  2.2436e-03]],\n",
            "\n",
            "         [[ 1.0375e-02,  3.5875e-03, -5.7940e-04],\n",
            "          [ 7.0412e-03, -1.0673e-02, -4.9120e-03],\n",
            "          [-2.6034e-03,  1.1306e-02,  7.0696e-03]],\n",
            "\n",
            "         [[-1.7509e-02, -2.3182e-02, -1.7897e-02],\n",
            "          [-1.7769e-03,  1.9672e-03, -7.3220e-03],\n",
            "          [-6.6833e-03,  9.8286e-03,  2.0653e-03]]],\n",
            "\n",
            "\n",
            "        [[[ 2.8375e-02, -8.1936e-03,  1.8009e-02],\n",
            "          [ 1.5829e-02, -1.3571e-02, -1.9335e-02],\n",
            "          [ 4.0766e-03, -1.5722e-02, -5.0620e-02]],\n",
            "\n",
            "         [[-5.5310e-03, -1.8996e-02, -7.9436e-03],\n",
            "          [ 1.3825e-03, -4.9608e-02,  1.7256e-03],\n",
            "          [ 7.6629e-03, -7.6101e-03,  1.2541e-02]],\n",
            "\n",
            "         [[ 1.8052e-02,  3.1718e-02,  4.2556e-03],\n",
            "          [-3.6760e-03,  3.0490e-03, -1.2264e-02],\n",
            "          [-8.9404e-03, -1.6604e-02,  1.6348e-03]],\n",
            "\n",
            "         ...,\n",
            "\n",
            "         [[ 5.3192e-03,  1.8204e-02,  1.8114e-02],\n",
            "          [-6.1202e-03,  1.5905e-03,  2.0264e-02],\n",
            "          [-1.1471e-02, -1.5697e-02,  9.0871e-03]],\n",
            "\n",
            "         [[ 3.7707e-03,  8.0599e-03,  1.8290e-02],\n",
            "          [ 1.7257e-02,  6.9638e-03,  1.8746e-02],\n",
            "          [ 1.0751e-02,  1.3663e-02, -1.0081e-03]],\n",
            "\n",
            "         [[ 1.9711e-02, -1.4569e-02, -2.4663e-02],\n",
            "          [ 2.5966e-03, -2.4807e-02,  9.3861e-03],\n",
            "          [-1.2876e-03,  1.3974e-03,  1.3434e-02]]]], device='cuda:0')\n",
            "layer4 Parameter containing:\n",
            "tensor([0.4474, 0.5138, 0.4335, 0.3421, 0.3855, 0.3495, 0.3741, 0.5836, 0.4327,\n",
            "        0.5043, 0.4618, 0.3866, 0.3498, 0.4798, 0.3310, 0.3913, 0.3880, 0.5225,\n",
            "        0.3975, 0.3292, 0.4151, 0.4458, 0.3970, 0.3614, 0.3914, 0.4633, 0.3463,\n",
            "        0.3644, 0.3272, 0.4584, 0.4280, 0.4538, 0.4030, 0.4673, 0.4209, 0.3987,\n",
            "        0.4233, 0.3876, 0.4212, 0.3460, 0.3522, 0.3744, 0.4550, 0.2888, 0.4590,\n",
            "        0.4817, 0.4450, 0.5110, 0.4052, 0.4247, 0.3558, 0.3075, 0.4462, 0.4724,\n",
            "        0.4253, 0.3884, 0.4492, 0.3727, 0.4630, 0.3985, 0.3512, 0.3665, 0.3860,\n",
            "        0.5082, 0.4022, 0.3458, 0.4805, 0.5390, 0.4223, 0.4275, 0.4590, 0.4736,\n",
            "        0.3673, 0.5405, 0.3243, 0.5178, 0.4743, 0.3506, 0.3759, 0.4328, 0.3867,\n",
            "        0.4591, 0.3843, 0.4982, 0.5288, 0.3946, 0.4589, 0.3197, 0.4676, 0.4806,\n",
            "        0.4308, 0.4235, 0.3284, 0.3877, 0.4140, 0.4469, 0.4041, 0.4407, 0.4356,\n",
            "        0.5120, 0.5059, 0.4628, 0.4585, 0.3311, 0.3424, 0.4150, 0.5170, 0.4593,\n",
            "        0.5228, 0.4252, 0.4214, 0.4995, 0.4098, 0.5380, 0.4874, 0.3719, 0.4649,\n",
            "        0.4320, 0.3277, 0.3743, 0.4360, 0.4838, 0.4399, 0.3763, 0.4150, 0.5147,\n",
            "        0.5012, 0.4382, 0.3655, 0.4037, 0.4498, 0.4720, 0.3914, 0.3237, 0.3208,\n",
            "        0.3224, 0.4291, 0.4009, 0.3947, 0.3779, 0.4349, 0.4120, 0.3274, 0.4334,\n",
            "        0.3740, 0.4189, 0.4288, 0.3071, 0.4260, 0.3410, 0.4375, 0.4407, 0.3750,\n",
            "        0.5853, 0.4518, 0.5045, 0.3005, 0.4968, 0.4155, 0.3755, 0.5514, 0.4146,\n",
            "        0.4677, 0.1404, 0.5001, 0.4193, 0.4246, 0.4452, 0.5109, 0.4488, 0.4574,\n",
            "        0.3896, 0.4145, 0.4497, 0.4245, 0.3971, 0.3957, 0.4072, 0.5305, 0.4986,\n",
            "        0.3733, 0.4280, 0.3469, 0.4178, 0.3766, 0.4029, 0.3814, 0.4493, 0.5132,\n",
            "        0.4080, 0.4155, 0.3635, 0.4391, 0.3489, 0.4228, 0.4833, 0.3494, 0.4406,\n",
            "        0.3795, 0.4298, 0.4910, 0.3878, 0.6299, 0.4322, 0.5436, 0.4140, 0.4312,\n",
            "        0.3161, 0.3612, 0.3597, 0.4281, 0.4506, 0.4294, 0.3646, 0.4110, 0.4038,\n",
            "        0.4098, 0.3901, 0.3928, 0.5421, 0.3629, 0.4078, 0.4586, 0.4217, 0.3953,\n",
            "        0.3997, 0.3838, 0.4374, 0.3576, 0.4217, 0.4128, 0.3904, 0.4137, 0.5145,\n",
            "        0.4039, 0.3577, 0.4429, 0.5639, 0.3848, 0.6104, 0.4482, 0.6203, 0.5336,\n",
            "        0.3480, 0.5401, 0.6044, 0.4077, 0.3469, 0.4281, 0.4631, 0.5948, 0.3479,\n",
            "        0.3689, 0.3658, 0.3191, 0.5492, 0.3410, 0.5386, 0.4041, 0.3373, 0.4186,\n",
            "        0.5187, 0.3933, 0.3188, 0.3502, 0.3736, 0.4238, 0.4752, 0.3322, 0.5078,\n",
            "        0.4317, 0.5318, 0.4413, 0.5510, 0.5648, 0.4130, 0.4017, 0.4304, 0.4077,\n",
            "        0.4285, 0.4360, 0.3749, 0.4261, 0.3905, 0.3030, 0.3412, 0.3768, 0.4507,\n",
            "        0.3127, 0.4592, 0.4298, 0.3936, 0.3106, 0.3869, 0.3594, 0.4046, 0.4722,\n",
            "        0.4373, 0.3902, 0.3515, 0.4448, 0.4299, 0.4347, 0.4693, 0.4807, 0.2549,\n",
            "        0.4171, 0.4387, 0.4156, 0.3976, 0.4092, 0.4953, 0.4824, 0.3468, 0.4382,\n",
            "        0.4179, 0.4668, 0.3299, 0.5986, 0.4949, 0.4167, 0.4996, 0.4528, 0.4550,\n",
            "        0.4945, 0.3415, 0.4658, 0.4356, 0.3976, 0.5439, 0.4643, 0.5122, 0.4669,\n",
            "        0.4463, 0.4810, 0.3492, 0.3961, 0.3593, 0.4053, 0.3878, 0.3959, 0.5001,\n",
            "        0.2808, 0.5470, 0.4448, 0.4894, 0.4621, 0.3417, 0.3485, 0.5060, 0.3637,\n",
            "        0.3774, 0.3248, 0.4520, 0.3936, 0.3403, 0.4660, 0.4114, 0.3643, 0.4196,\n",
            "        0.3903, 0.5128, 0.4221, 0.4115, 0.4240, 0.3610, 0.4999, 0.3672, 0.4721,\n",
            "        0.4252, 0.5590, 0.4694, 0.7322, 0.5849, 0.4749, 0.4426, 0.3934, 0.3909,\n",
            "        0.4576, 0.3636, 0.4146, 0.4129, 0.5081, 0.3681, 0.3652, 0.4254, 0.2945,\n",
            "        0.4142, 0.3145, 0.4304, 0.4252, 0.3493, 0.4257, 0.5133, 0.3261, 0.4367,\n",
            "        0.3637, 0.3712, 0.4183, 0.3772, 0.4418, 0.4231, 0.4133, 0.4731, 0.4955,\n",
            "        0.4046, 0.4079, 0.4719, 0.3875, 0.4673, 0.4129, 0.4569, 0.3530, 0.4793,\n",
            "        0.3844, 0.3785, 0.3343, 0.4351, 0.6512, 0.4295, 0.4122, 0.3788, 0.3692,\n",
            "        0.4343, 0.4214, 0.3873, 0.4566, 0.4456, 0.4107, 0.4596, 0.7082, 0.4452,\n",
            "        0.3515, 0.4785, 0.4217, 0.5756, 0.4312, 0.4047, 0.4043, 0.4764, 0.5489,\n",
            "        0.4430, 0.5559, 0.3744, 0.3951, 0.4376, 0.4752, 0.4340, 0.4399, 0.3586,\n",
            "        0.4161, 0.3930, 0.4599, 0.4354, 0.3448, 0.4649, 0.4442, 0.4275, 0.3881,\n",
            "        0.3247, 0.4909, 0.3426, 0.3989, 0.4320, 0.3363, 0.3991, 0.4732, 0.3514,\n",
            "        0.4736, 0.4244, 0.4603, 0.3298, 0.4357, 0.4353, 0.3742, 0.4191, 0.3880,\n",
            "        0.4212, 0.4527, 0.7213, 0.3969, 0.5217, 0.3786, 0.3512, 0.5318, 0.4138,\n",
            "        0.3243, 0.3244, 0.3652, 0.4774, 0.3997, 0.2800, 0.4562, 0.4463, 0.4816,\n",
            "        0.4290, 0.4399, 0.4633, 0.3575, 0.4774, 0.3105, 0.4356, 0.3797, 0.4304,\n",
            "        0.4261, 0.3740, 0.3370, 0.3917, 0.3637, 0.4347, 0.5235, 0.3845],\n",
            "       device='cuda:0')\n",
            "layer4 Parameter containing:\n",
            "tensor([-0.1759, -0.2156, -0.2047, -0.1695, -0.1628, -0.1473, -0.2158, -0.2905,\n",
            "        -0.1112, -0.2196, -0.1020, -0.1549, -0.1989, -0.0445, -0.1508, -0.1920,\n",
            "        -0.2114, -0.1655, -0.1854, -0.1733, -0.1289, -0.2376, -0.1965, -0.1965,\n",
            "        -0.1776, -0.1774, -0.1760, -0.1546, -0.1648, -0.2599, -0.1752, -0.2498,\n",
            "        -0.1741, -0.2410, -0.2498, -0.2938, -0.1496, -0.1578, -0.1800, -0.1851,\n",
            "        -0.1516, -0.1345, -0.2746, -0.1248, -0.2246, -0.2531, -0.2398, -0.1859,\n",
            "        -0.1739, -0.2393, -0.1214, -0.1803, -0.2729, -0.2617, -0.1855, -0.2316,\n",
            "        -0.2333, -0.1860, -0.2097, -0.0692, -0.1912, -0.2078, -0.1084, -0.2810,\n",
            "        -0.1303, -0.1654, -0.2119, -0.3641, -0.2951, -0.2384, -0.1632, -0.1892,\n",
            "        -0.1792, -0.2031, -0.1770, -0.2738, -0.3324, -0.1725, -0.1793, -0.2638,\n",
            "        -0.2207, -0.1609, -0.1534, -0.1414, -0.2992, -0.1450, -0.1838, -0.1779,\n",
            "        -0.1422, -0.2198, -0.1900, -0.1580, -0.1666, -0.2490, -0.1569, -0.1718,\n",
            "        -0.1660, -0.1972, -0.2287, -0.2366, -0.2230, -0.1543, -0.2030, -0.1431,\n",
            "        -0.1363, -0.2015, -0.1804, -0.2093, -0.2964, -0.1984, -0.2683, -0.2216,\n",
            "        -0.2147, -0.3404, -0.2668, -0.1890, -0.1733, -0.2226, -0.1772, -0.1698,\n",
            "        -0.1095, -0.2180, -0.1154, -0.1654, -0.1910, -0.3535, -0.3112, -0.2161,\n",
            "        -0.1496, -0.1667, -0.2849, -0.2207, -0.1529, -0.1807, -0.2118, -0.1869,\n",
            "        -0.1376, -0.1770, -0.1861, -0.1969, -0.1741, -0.3011, -0.0787, -0.2017,\n",
            "        -0.1947, -0.2247, -0.2459, -0.1058, -0.1401, -0.1213, -0.1199, -0.1760,\n",
            "        -0.2156, -0.3307, -0.3515, -0.2366, -0.1185, -0.2155, -0.1751, -0.1892,\n",
            "        -0.3365, -0.1598, -0.2554,  0.0644, -0.2856, -0.1198, -0.1583, -0.2297,\n",
            "        -0.3352, -0.1987, -0.2686, -0.1632, -0.2461, -0.2900, -0.2428, -0.1449,\n",
            "        -0.1900, -0.2149, -0.1541, -0.2917, -0.2504, -0.2213, -0.0463, -0.1547,\n",
            "        -0.1511, -0.1527, -0.1735, -0.1931, -0.1987, -0.2239, -0.2086, -0.2688,\n",
            "        -0.1845, -0.1797, -0.1833, -0.3880, -0.1539, -0.1553, -0.1567, -0.2238,\n",
            "        -0.1511, -0.2540, -0.2849, -0.1826, -0.2687, -0.2328, -0.2108, -0.2410,\n",
            "        -0.1022, -0.1507, -0.1978, -0.1734, -0.2282, -0.0985, -0.1847, -0.1770,\n",
            "        -0.1576, -0.1937, -0.1643, -0.2822, -0.1866, -0.2754, -0.2266, -0.2169,\n",
            "        -0.1352, -0.2194, -0.1060, -0.2139, -0.1322, -0.1889, -0.2130, -0.1913,\n",
            "        -0.2364, -0.1402, -0.2228, -0.2354, -0.1632, -0.1905, -0.1428, -0.1177,\n",
            "        -0.2419, -0.2733, -0.2963, -0.1600, -0.3558, -0.3673, -0.2201, -0.1505,\n",
            "        -0.2084, -0.0870, -0.2052, -0.2070, -0.1986, -0.2299, -0.0745, -0.1765,\n",
            "        -0.1412, -0.2180, -0.1450, -0.1426, -0.1452, -0.2916, -0.0871, -0.1359,\n",
            "        -0.2003, -0.1125, -0.2588, -0.1988, -0.2028, -0.2443, -0.0864, -0.3415,\n",
            "        -0.2579, -0.2343, -0.3552, -0.1859, -0.1153, -0.1732, -0.1780, -0.1909,\n",
            "        -0.2018, -0.1886, -0.2751, -0.1501,  0.1165, -0.1891, -0.1845, -0.2037,\n",
            "        -0.0339, -0.3464, -0.1956, -0.1962, -0.1537, -0.1902, -0.1431, -0.3022,\n",
            "        -0.1780, -0.1971, -0.2118, -0.0952, -0.1711, -0.2409, -0.2184, -0.2114,\n",
            "        -0.2042, -0.0566, -0.0700, -0.2081, -0.1872, -0.2079, -0.1540, -0.2266,\n",
            "        -0.1981, -0.1679, -0.2022, -0.2010, -0.1051, -0.1705, -0.2139,  0.0396,\n",
            "        -0.1077, -0.2745, -0.2690, -0.2603, -0.2819, -0.1917, -0.1940, -0.2944,\n",
            "        -0.1822, -0.2903, -0.1064, -0.2076, -0.2648, -0.3032, -0.2878, -0.1579,\n",
            "        -0.0071, -0.2142, -0.2022, -0.1516, -0.1123,  0.0246, -0.0978, -0.1382,\n",
            "        -0.1800, -0.3214, -0.2179, -0.1369, -0.0800,  0.0117, -0.1839, -0.1926,\n",
            "        -0.1614, -0.2769, -0.1909, -0.2101, -0.2305, -0.2055, -0.2017, -0.2741,\n",
            "        -0.1005, -0.3152, -0.1121, -0.1700, -0.1364, -0.2157, -0.2673, -0.1584,\n",
            "        -0.1997, -0.1745, -0.1886, -0.2307, -0.2024, -0.3376, -0.2266, -0.2355,\n",
            "        -0.2133, -0.2346, -0.2412, -0.2358, -0.1265, -0.2341, -0.1887, -0.1646,\n",
            "        -0.1417, -0.1882, -0.1076, -0.3048, -0.1162, -0.1651, -0.2046, -0.1833,\n",
            "        -0.3102, -0.1778, -0.1575, -0.2676, -0.1777, -0.1569, -0.1741, -0.1892,\n",
            "        -0.3028, -0.1457, -0.2179, -0.2226, -0.1609, -0.1423, -0.2683, -0.2920,\n",
            "        -0.1740, -0.2079, -0.1940, -0.2679, -0.1973, -0.1951, -0.1665, -0.2286,\n",
            "        -0.1903, -0.2667, -0.4010, -0.2550, -0.1817, -0.2025, -0.1589, -0.2476,\n",
            "        -0.0573, -0.2203, -0.2084, -0.1587, -0.1212, -0.1795, -0.3449, -0.1662,\n",
            "        -0.2523, -0.2435, -0.2878, -0.2797, -0.1897, -0.2113, -0.1943, -0.2050,\n",
            "        -0.1694, -0.2243, -0.2987, -0.1328, -0.1428, -0.2399, -0.1593, -0.1999,\n",
            "        -0.3225, -0.1860, -0.1763, -0.2691, -0.2097, -0.2396, -0.1140, -0.1897,\n",
            "        -0.1870, -0.1829, -0.2615, -0.2073, -0.1858, -0.0598, -0.1915, -0.2183,\n",
            "        -0.2088, -0.1742, -0.2715, -0.1999, -0.2117, -0.2492, -0.1717, -0.1566,\n",
            "        -0.1669, -0.3015, -0.1685, -0.2434, -0.2297, -0.1947, -0.2860, -0.3288,\n",
            "        -0.2197, -0.1862, -0.1755, -0.0987, -0.1756, -0.1304, -0.1555, -0.1679,\n",
            "        -0.2222, -0.2819, -0.2652, -0.0947, -0.2412, -0.2731, -0.2572, -0.2604,\n",
            "        -0.2934, -0.2470, -0.1820, -0.2740, -0.1336, -0.1698, -0.1919, -0.1796,\n",
            "        -0.2325, -0.1352, -0.1077, -0.2184, -0.1539, -0.2015, -0.3243, -0.1713],\n",
            "       device='cuda:0')\n",
            "layer4 Parameter containing:\n",
            "tensor([[[[ 0.0057]],\n",
            "\n",
            "         [[ 0.0020]],\n",
            "\n",
            "         [[ 0.0167]],\n",
            "\n",
            "         ...,\n",
            "\n",
            "         [[ 0.0085]],\n",
            "\n",
            "         [[-0.0274]],\n",
            "\n",
            "         [[ 0.0097]]],\n",
            "\n",
            "\n",
            "        [[[-0.0271]],\n",
            "\n",
            "         [[-0.0157]],\n",
            "\n",
            "         [[ 0.0543]],\n",
            "\n",
            "         ...,\n",
            "\n",
            "         [[-0.0206]],\n",
            "\n",
            "         [[-0.0308]],\n",
            "\n",
            "         [[ 0.0013]]],\n",
            "\n",
            "\n",
            "        [[[-0.0523]],\n",
            "\n",
            "         [[-0.0353]],\n",
            "\n",
            "         [[ 0.0394]],\n",
            "\n",
            "         ...,\n",
            "\n",
            "         [[-0.0382]],\n",
            "\n",
            "         [[-0.0264]],\n",
            "\n",
            "         [[-0.0443]]],\n",
            "\n",
            "\n",
            "        ...,\n",
            "\n",
            "\n",
            "        [[[ 0.0494]],\n",
            "\n",
            "         [[ 0.0436]],\n",
            "\n",
            "         [[ 0.0103]],\n",
            "\n",
            "         ...,\n",
            "\n",
            "         [[ 0.0072]],\n",
            "\n",
            "         [[ 0.0014]],\n",
            "\n",
            "         [[-0.0669]]],\n",
            "\n",
            "\n",
            "        [[[ 0.0533]],\n",
            "\n",
            "         [[-0.0148]],\n",
            "\n",
            "         [[-0.0480]],\n",
            "\n",
            "         ...,\n",
            "\n",
            "         [[ 0.0055]],\n",
            "\n",
            "         [[ 0.0429]],\n",
            "\n",
            "         [[ 0.0129]]],\n",
            "\n",
            "\n",
            "        [[[ 0.0300]],\n",
            "\n",
            "         [[-0.0092]],\n",
            "\n",
            "         [[ 0.0090]],\n",
            "\n",
            "         ...,\n",
            "\n",
            "         [[ 0.0101]],\n",
            "\n",
            "         [[-0.0111]],\n",
            "\n",
            "         [[-0.0080]]]], device='cuda:0')\n",
            "layer4 Parameter containing:\n",
            "tensor([ 0.1694,  0.3368,  0.2993,  0.3745,  0.1513,  0.1781,  0.3167,  0.3947,\n",
            "         0.1858,  0.2068,  0.1090,  0.2042,  0.2955,  0.0765,  0.2023,  0.2487,\n",
            "         0.3295,  0.3349,  0.2532,  0.2739,  0.1661,  0.3432,  0.3424,  0.2969,\n",
            "         0.2226,  0.0993,  0.3328,  0.2349,  0.2894,  0.2296,  0.2719,  0.3945,\n",
            "         0.1990,  0.2564,  0.2557,  0.3541,  0.1848,  0.2513,  0.3101,  0.2782,\n",
            "         0.2109,  0.2441,  0.3282,  0.3248,  0.2499,  0.1873,  0.2643,  0.3949,\n",
            "         0.1962,  0.2587,  0.1708,  0.3381,  0.2238,  0.2498,  0.2787,  0.3783,\n",
            "         0.3445,  0.2681,  0.2956,  0.1146,  0.2688,  0.3479,  0.1295,  0.2843,\n",
            "         0.1552,  0.3026,  0.2738,  0.1891,  0.3568,  0.2302,  0.2199,  0.2070,\n",
            "         0.2119,  0.0971,  0.2482,  0.2264,  0.3555,  0.3113,  0.2386,  0.2654,\n",
            "         0.2975,  0.2666,  0.2180,  0.1451,  0.2460,  0.1734,  0.2358,  0.2891,\n",
            "         0.2091,  0.1971,  0.2185,  0.2008,  0.2461,  0.3726,  0.2028,  0.1993,\n",
            "         0.3652,  0.2258,  0.2606,  0.1900,  0.2764,  0.2011,  0.1973,  0.2958,\n",
            "         0.3222,  0.4117,  0.1475,  0.2674,  0.1928,  0.3615,  0.2774,  0.2143,\n",
            "         0.2688,  0.4286,  0.2560,  0.2777,  0.1339,  0.5103,  0.3238,  0.2417,\n",
            "         0.1529,  0.1843,  0.0579,  0.2288,  0.1797,  0.2803,  0.2279,  0.1579,\n",
            "         0.3196,  0.1842,  0.3378,  0.1688,  0.1654,  0.3049,  0.3533,  0.2948,\n",
            "         0.1140,  0.2503,  0.1892,  0.2647,  0.2405,  0.3880,  0.1933,  0.1918,\n",
            "         0.2511,  0.2901,  0.3151,  0.3252,  0.1296,  0.2491,  0.1417,  0.1295,\n",
            "         0.3062,  0.2836,  0.3483,  0.2306,  0.2741,  0.2700,  0.1873,  0.2431,\n",
            "         0.3526,  0.3546,  0.2721,  0.2708,  0.3065,  0.0832,  0.2968,  0.2286,\n",
            "         0.3276,  0.2695,  0.2452,  0.2444,  0.2857,  0.3365,  0.2784,  0.2933,\n",
            "         0.3397,  0.2231,  0.2330,  0.1486,  0.3846,  0.3104,  0.1724,  0.1724,\n",
            "         0.3466,  0.2978,  0.2582,  0.1879,  0.2419,  0.2249,  0.2720,  0.3735,\n",
            "         0.4259,  0.3754,  0.1731,  0.3698,  0.2349,  0.2694,  0.3148,  0.1658,\n",
            "         0.1181,  0.2994,  0.4018,  0.2126,  0.3864,  0.2955,  0.1848,  0.3686,\n",
            "         0.1972,  0.3265,  0.2319,  0.1676,  0.1756,  0.2367,  0.2139,  0.1974,\n",
            "         0.2561,  0.2619,  0.2170,  0.2284,  0.3486,  0.4500,  0.2563,  0.2559,\n",
            "         0.2814,  0.1797,  0.1736,  0.2013,  0.3411,  0.2245,  0.1385,  0.2284,\n",
            "         0.2230,  0.2566,  0.2301,  0.3639,  0.1380,  0.2381,  0.2590,  0.0830,\n",
            "         0.1863,  0.1267,  0.4501,  0.2741,  0.2590,  0.2782,  0.2248,  0.2718,\n",
            "         0.1949,  0.1815,  0.2969,  0.3168,  0.3389,  0.2790,  0.1594,  0.2752,\n",
            "         0.2947,  0.2909,  0.1418,  0.3336,  0.1953,  0.2646,  0.0879,  0.2553,\n",
            "         0.3335,  0.1943,  0.2777,  0.2386,  0.3676,  0.3042,  0.1234,  0.2615,\n",
            "         0.2548,  0.3224,  0.3462,  0.2090,  0.2142,  0.2054,  0.2115,  0.2153,\n",
            "         0.2163,  0.2509,  0.2429,  0.3326, -0.0527,  0.2244,  0.2319,  0.2674,\n",
            "         0.1103,  0.2320,  0.2822,  0.3234,  0.2818,  0.2093,  0.2261,  0.2900,\n",
            "         0.3127,  0.3456,  0.2592,  0.1677,  0.3924,  0.2694,  0.1997,  0.2973,\n",
            "         0.3324,  0.2270,  0.0656,  0.2964,  0.1948,  0.2383,  0.3021,  0.2510,\n",
            "         0.3117,  0.3185,  0.1721,  0.1867,  0.1665,  0.2851,  0.3512, -0.0486,\n",
            "         0.1558,  0.2213,  0.3281,  0.3861,  0.2375,  0.3057,  0.1178,  0.2681,\n",
            "         0.1921,  0.2211,  0.1679,  0.2877,  0.2495,  0.2451,  0.2678,  0.2393,\n",
            "         0.0988,  0.2778,  0.2465,  0.1747,  0.1005,  0.0502,  0.2809,  0.2810,\n",
            "         0.1716,  0.2114,  0.2213,  0.2817,  0.1506,  0.0769,  0.2381,  0.2411,\n",
            "         0.2942,  0.2543,  0.2556,  0.3451,  0.2948,  0.3040,  0.3204,  0.2757,\n",
            "         0.1657,  0.2941,  0.1301,  0.1854,  0.2866,  0.3198,  0.2127,  0.3608,\n",
            "         0.3440,  0.0954,  0.2586,  0.1709,  0.2007,  0.1967,  0.1972,  0.1942,\n",
            "         0.3201,  0.3484,  0.3437,  0.3153,  0.2020,  0.3251,  0.3227,  0.3038,\n",
            "         0.2634,  0.2364,  0.2492,  0.3080,  0.2591,  0.2391,  0.2720,  0.2601,\n",
            "         0.3210,  0.1818,  0.3526,  0.3579,  0.2861,  0.2526,  0.1642,  0.2897,\n",
            "         0.3996,  0.2651,  0.2031,  0.2502,  0.3694,  0.2085,  0.2804,  0.2233,\n",
            "         0.2309,  0.1609,  0.2369,  0.2116,  0.3549,  0.1635,  0.1642,  0.3072,\n",
            "         0.3077,  0.2152,  0.2821,  0.2857,  0.1701,  0.2305,  0.2134,  0.3189,\n",
            "         0.1061,  0.2628,  0.2608,  0.1749,  0.0820,  0.1815,  0.3566,  0.1204,\n",
            "         0.3159,  0.1595,  0.3790,  0.3272,  0.2086,  0.3096,  0.2253,  0.1456,\n",
            "         0.1346,  0.2304,  0.2913,  0.2727,  0.2027,  0.2688,  0.1958,  0.2277,\n",
            "         0.3036,  0.3250,  0.3000,  0.3328,  0.2417,  0.2665,  0.2473,  0.0913,\n",
            "         0.2503,  0.2543,  0.3710,  0.3321,  0.3693,  0.1099,  0.1701,  0.1758,\n",
            "         0.3888,  0.2206,  0.2766,  0.2813,  0.1755,  0.2616,  0.1544,  0.2519,\n",
            "         0.1945,  0.2452,  0.3405,  0.2446,  0.2426,  0.1822,  0.3002,  0.3037,\n",
            "         0.3118,  0.2414,  0.2326,  0.1303,  0.3081,  0.0979,  0.2776,  0.2918,\n",
            "         0.3848,  0.1789,  0.3622,  0.3005,  0.1923,  0.2672,  0.1663,  0.2998,\n",
            "         0.2710,  0.2040,  0.2565,  0.2289,  0.2552,  0.2121,  0.3532,  0.2293,\n",
            "         0.2510,  0.3085,  0.2368,  0.3000,  0.2111,  0.3456,  0.3422,  0.1576],\n",
            "       device='cuda:0')\n",
            "layer4 Parameter containing:\n",
            "tensor([-0.1759, -0.2156, -0.2047, -0.1695, -0.1628, -0.1473, -0.2158, -0.2905,\n",
            "        -0.1112, -0.2196, -0.1020, -0.1549, -0.1989, -0.0445, -0.1508, -0.1920,\n",
            "        -0.2114, -0.1655, -0.1854, -0.1733, -0.1289, -0.2376, -0.1965, -0.1965,\n",
            "        -0.1776, -0.1774, -0.1760, -0.1546, -0.1648, -0.2599, -0.1752, -0.2498,\n",
            "        -0.1741, -0.2410, -0.2498, -0.2938, -0.1496, -0.1578, -0.1800, -0.1851,\n",
            "        -0.1516, -0.1345, -0.2746, -0.1248, -0.2246, -0.2531, -0.2398, -0.1859,\n",
            "        -0.1739, -0.2393, -0.1214, -0.1803, -0.2729, -0.2617, -0.1855, -0.2316,\n",
            "        -0.2333, -0.1860, -0.2097, -0.0692, -0.1912, -0.2078, -0.1084, -0.2810,\n",
            "        -0.1303, -0.1654, -0.2119, -0.3641, -0.2951, -0.2384, -0.1632, -0.1892,\n",
            "        -0.1792, -0.2031, -0.1770, -0.2738, -0.3324, -0.1725, -0.1793, -0.2638,\n",
            "        -0.2207, -0.1609, -0.1534, -0.1414, -0.2992, -0.1450, -0.1838, -0.1779,\n",
            "        -0.1422, -0.2198, -0.1900, -0.1580, -0.1666, -0.2490, -0.1569, -0.1718,\n",
            "        -0.1660, -0.1972, -0.2287, -0.2366, -0.2230, -0.1543, -0.2030, -0.1431,\n",
            "        -0.1363, -0.2015, -0.1804, -0.2093, -0.2964, -0.1984, -0.2683, -0.2216,\n",
            "        -0.2147, -0.3404, -0.2668, -0.1890, -0.1733, -0.2226, -0.1772, -0.1698,\n",
            "        -0.1095, -0.2180, -0.1154, -0.1654, -0.1910, -0.3535, -0.3112, -0.2161,\n",
            "        -0.1496, -0.1667, -0.2849, -0.2207, -0.1529, -0.1807, -0.2118, -0.1869,\n",
            "        -0.1376, -0.1770, -0.1861, -0.1969, -0.1741, -0.3011, -0.0787, -0.2017,\n",
            "        -0.1947, -0.2247, -0.2459, -0.1058, -0.1401, -0.1213, -0.1199, -0.1760,\n",
            "        -0.2156, -0.3307, -0.3515, -0.2366, -0.1185, -0.2155, -0.1751, -0.1892,\n",
            "        -0.3365, -0.1598, -0.2554,  0.0644, -0.2856, -0.1198, -0.1583, -0.2297,\n",
            "        -0.3352, -0.1987, -0.2686, -0.1632, -0.2461, -0.2900, -0.2428, -0.1449,\n",
            "        -0.1900, -0.2149, -0.1541, -0.2917, -0.2504, -0.2213, -0.0463, -0.1547,\n",
            "        -0.1511, -0.1527, -0.1735, -0.1931, -0.1987, -0.2239, -0.2086, -0.2688,\n",
            "        -0.1845, -0.1797, -0.1833, -0.3880, -0.1539, -0.1553, -0.1567, -0.2238,\n",
            "        -0.1511, -0.2540, -0.2849, -0.1826, -0.2687, -0.2328, -0.2108, -0.2410,\n",
            "        -0.1022, -0.1507, -0.1978, -0.1734, -0.2282, -0.0985, -0.1847, -0.1770,\n",
            "        -0.1576, -0.1937, -0.1643, -0.2822, -0.1866, -0.2754, -0.2266, -0.2169,\n",
            "        -0.1352, -0.2194, -0.1060, -0.2139, -0.1322, -0.1889, -0.2130, -0.1913,\n",
            "        -0.2364, -0.1402, -0.2228, -0.2354, -0.1632, -0.1905, -0.1428, -0.1177,\n",
            "        -0.2419, -0.2733, -0.2963, -0.1600, -0.3558, -0.3673, -0.2201, -0.1505,\n",
            "        -0.2084, -0.0870, -0.2052, -0.2070, -0.1986, -0.2299, -0.0745, -0.1765,\n",
            "        -0.1412, -0.2180, -0.1450, -0.1426, -0.1452, -0.2916, -0.0871, -0.1359,\n",
            "        -0.2003, -0.1125, -0.2588, -0.1988, -0.2028, -0.2443, -0.0864, -0.3415,\n",
            "        -0.2579, -0.2343, -0.3552, -0.1859, -0.1153, -0.1732, -0.1780, -0.1909,\n",
            "        -0.2018, -0.1886, -0.2751, -0.1501,  0.1165, -0.1891, -0.1845, -0.2037,\n",
            "        -0.0339, -0.3464, -0.1956, -0.1962, -0.1537, -0.1902, -0.1431, -0.3022,\n",
            "        -0.1780, -0.1971, -0.2118, -0.0952, -0.1711, -0.2409, -0.2184, -0.2114,\n",
            "        -0.2042, -0.0566, -0.0700, -0.2081, -0.1872, -0.2079, -0.1540, -0.2266,\n",
            "        -0.1981, -0.1679, -0.2022, -0.2010, -0.1051, -0.1705, -0.2139,  0.0396,\n",
            "        -0.1077, -0.2745, -0.2690, -0.2603, -0.2819, -0.1917, -0.1940, -0.2944,\n",
            "        -0.1822, -0.2903, -0.1064, -0.2076, -0.2648, -0.3032, -0.2878, -0.1579,\n",
            "        -0.0071, -0.2142, -0.2022, -0.1516, -0.1123,  0.0246, -0.0978, -0.1382,\n",
            "        -0.1800, -0.3214, -0.2179, -0.1369, -0.0800,  0.0117, -0.1839, -0.1926,\n",
            "        -0.1614, -0.2769, -0.1909, -0.2101, -0.2305, -0.2055, -0.2017, -0.2741,\n",
            "        -0.1005, -0.3152, -0.1121, -0.1700, -0.1364, -0.2157, -0.2673, -0.1584,\n",
            "        -0.1997, -0.1745, -0.1886, -0.2307, -0.2024, -0.3376, -0.2266, -0.2355,\n",
            "        -0.2133, -0.2346, -0.2412, -0.2358, -0.1265, -0.2341, -0.1887, -0.1646,\n",
            "        -0.1417, -0.1882, -0.1076, -0.3048, -0.1162, -0.1651, -0.2046, -0.1833,\n",
            "        -0.3102, -0.1778, -0.1575, -0.2676, -0.1777, -0.1569, -0.1741, -0.1892,\n",
            "        -0.3028, -0.1457, -0.2179, -0.2226, -0.1609, -0.1423, -0.2683, -0.2920,\n",
            "        -0.1740, -0.2079, -0.1940, -0.2679, -0.1973, -0.1951, -0.1665, -0.2286,\n",
            "        -0.1903, -0.2667, -0.4010, -0.2550, -0.1817, -0.2025, -0.1589, -0.2476,\n",
            "        -0.0573, -0.2203, -0.2084, -0.1587, -0.1212, -0.1795, -0.3449, -0.1662,\n",
            "        -0.2523, -0.2435, -0.2878, -0.2797, -0.1897, -0.2113, -0.1943, -0.2050,\n",
            "        -0.1694, -0.2243, -0.2987, -0.1328, -0.1428, -0.2399, -0.1593, -0.1999,\n",
            "        -0.3225, -0.1860, -0.1763, -0.2691, -0.2097, -0.2396, -0.1140, -0.1897,\n",
            "        -0.1870, -0.1829, -0.2615, -0.2073, -0.1858, -0.0598, -0.1915, -0.2183,\n",
            "        -0.2088, -0.1742, -0.2715, -0.1999, -0.2117, -0.2492, -0.1717, -0.1566,\n",
            "        -0.1669, -0.3015, -0.1685, -0.2434, -0.2297, -0.1947, -0.2860, -0.3288,\n",
            "        -0.2197, -0.1862, -0.1755, -0.0987, -0.1756, -0.1304, -0.1555, -0.1679,\n",
            "        -0.2222, -0.2819, -0.2652, -0.0947, -0.2412, -0.2731, -0.2572, -0.2604,\n",
            "        -0.2934, -0.2470, -0.1820, -0.2740, -0.1336, -0.1698, -0.1919, -0.1796,\n",
            "        -0.2325, -0.1352, -0.1077, -0.2184, -0.1539, -0.2015, -0.3243, -0.1713],\n",
            "       device='cuda:0')\n",
            "layer4 Parameter containing:\n",
            "tensor([[[[-8.0284e-03, -5.7776e-03,  6.4154e-03],\n",
            "          [ 5.0498e-03, -6.7796e-03,  1.2691e-02],\n",
            "          [ 1.3331e-02,  1.4523e-02,  2.4522e-02]],\n",
            "\n",
            "         [[-1.9876e-03,  1.2466e-02,  1.0494e-02],\n",
            "          [-1.9364e-02, -1.6696e-02, -1.1857e-02],\n",
            "          [-1.1569e-02, -3.7674e-03, -3.4679e-03]],\n",
            "\n",
            "         [[-1.1440e-02, -1.3884e-02,  1.1559e-03],\n",
            "          [-1.7906e-02, -2.9349e-02, -1.3876e-02],\n",
            "          [-1.4057e-02, -2.6989e-02, -2.3963e-02]],\n",
            "\n",
            "         ...,\n",
            "\n",
            "         [[-6.3040e-03, -3.1167e-03, -1.3304e-02],\n",
            "          [ 7.1623e-03,  6.4669e-03,  1.6063e-02],\n",
            "          [-1.0750e-02, -1.0480e-02, -6.1070e-03]],\n",
            "\n",
            "         [[ 7.4484e-03,  6.3878e-03, -1.2579e-02],\n",
            "          [-7.7356e-03,  1.8112e-03, -1.7890e-02],\n",
            "          [-2.9142e-03,  7.7705e-03, -9.7314e-03]],\n",
            "\n",
            "         [[ 2.1760e-02,  2.2364e-02,  2.2731e-02],\n",
            "          [ 2.6681e-02,  2.9127e-02,  3.3356e-02],\n",
            "          [ 1.2892e-02, -3.5818e-03,  5.3022e-03]]],\n",
            "\n",
            "\n",
            "        [[[-1.0597e-02, -9.1551e-03, -2.3418e-02],\n",
            "          [-1.0768e-02, -3.3171e-03, -1.8559e-02],\n",
            "          [-1.8607e-02, -4.2634e-03, -1.5591e-02]],\n",
            "\n",
            "         [[-2.6090e-02, -2.2517e-02, -3.0593e-02],\n",
            "          [-3.9406e-02, -2.6639e-02, -2.8202e-02],\n",
            "          [-2.6143e-02, -1.9647e-02, -2.1466e-02]],\n",
            "\n",
            "         [[-3.5259e-03,  1.6623e-03, -6.5624e-03],\n",
            "          [-5.0597e-03, -8.7162e-04, -5.3742e-03],\n",
            "          [-7.9651e-03, -9.7778e-03, -1.0736e-02]],\n",
            "\n",
            "         ...,\n",
            "\n",
            "         [[ 1.8492e-02, -3.6799e-03,  1.0043e-02],\n",
            "          [-5.2974e-03, -2.0757e-02, -1.5120e-02],\n",
            "          [ 2.1435e-02,  6.4916e-03,  4.7660e-03]],\n",
            "\n",
            "         [[-1.8810e-02, -6.0469e-04, -7.6999e-03],\n",
            "          [-1.7697e-02, -7.8692e-03, -1.6543e-02],\n",
            "          [-1.7206e-02, -2.4746e-02, -3.0270e-02]],\n",
            "\n",
            "         [[-3.1191e-02, -1.4363e-02,  2.2032e-03],\n",
            "          [-1.2033e-02, -2.3699e-03, -1.6630e-02],\n",
            "          [-1.2905e-02, -1.5363e-02, -3.6297e-03]]],\n",
            "\n",
            "\n",
            "        [[[-3.2648e-02, -4.8158e-03, -2.0476e-02],\n",
            "          [-2.5846e-02, -1.4660e-03, -2.8170e-02],\n",
            "          [-2.6640e-02,  4.3022e-03, -2.7636e-02]],\n",
            "\n",
            "         [[-6.3289e-03, -1.5401e-02, -1.3096e-03],\n",
            "          [-1.7499e-02, -2.6212e-02, -2.3646e-02],\n",
            "          [-7.3207e-03, -1.5592e-02, -8.9578e-03]],\n",
            "\n",
            "         [[ 8.9701e-04, -6.6914e-03, -5.3129e-03],\n",
            "          [-1.1727e-03, -1.0726e-02, -9.0103e-03],\n",
            "          [ 3.2311e-03, -4.5854e-03,  4.3512e-03]],\n",
            "\n",
            "         ...,\n",
            "\n",
            "         [[-2.1822e-02, -3.6889e-02, -2.2588e-02],\n",
            "          [-1.3054e-02, -3.4191e-02, -2.7238e-02],\n",
            "          [-1.2383e-02, -2.3452e-02, -2.2486e-02]],\n",
            "\n",
            "         [[ 6.8177e-03,  2.1561e-02,  1.3674e-02],\n",
            "          [ 3.1192e-03,  1.0660e-02,  1.0409e-02],\n",
            "          [ 8.0477e-03, -4.6817e-03, -4.3912e-03]],\n",
            "\n",
            "         [[-1.1983e-02, -1.6201e-02, -2.2626e-02],\n",
            "          [-1.3461e-02, -7.0928e-03, -1.4384e-02],\n",
            "          [-2.4456e-02,  1.4885e-02,  1.2247e-02]]],\n",
            "\n",
            "\n",
            "        ...,\n",
            "\n",
            "\n",
            "        [[[-2.6347e-02, -2.9923e-02, -3.7810e-02],\n",
            "          [-1.5663e-02, -4.1126e-03, -1.1482e-02],\n",
            "          [-1.3415e-02, -1.5432e-02, -1.8204e-02]],\n",
            "\n",
            "         [[-3.8392e-03, -1.1093e-02, -8.0841e-04],\n",
            "          [-5.9634e-03, -5.9165e-03, -9.3332e-03],\n",
            "          [-2.2761e-03,  5.4781e-03, -5.6050e-03]],\n",
            "\n",
            "         [[-1.8406e-03, -2.8134e-03,  8.3246e-03],\n",
            "          [-1.2453e-03,  2.1453e-04,  7.4868e-03],\n",
            "          [ 1.3450e-02,  3.0599e-02,  2.6405e-02]],\n",
            "\n",
            "         ...,\n",
            "\n",
            "         [[ 3.5268e-04,  2.3897e-03,  6.2558e-03],\n",
            "          [-1.4338e-02, -2.3146e-02, -1.9024e-02],\n",
            "          [-2.7306e-02, -3.0079e-02, -3.1762e-02]],\n",
            "\n",
            "         [[ 1.4584e-02,  4.3430e-03,  1.2053e-02],\n",
            "          [-6.1130e-03, -2.8539e-02, -1.8268e-02],\n",
            "          [-1.6844e-02, -4.7816e-02, -2.6274e-02]],\n",
            "\n",
            "         [[-1.8850e-02, -9.3396e-03,  7.8905e-03],\n",
            "          [-1.5322e-03,  8.3153e-03,  1.7783e-02],\n",
            "          [-8.3318e-03, -1.5759e-02, -1.2061e-02]]],\n",
            "\n",
            "\n",
            "        [[[ 9.9578e-03,  7.4573e-03, -1.8738e-03],\n",
            "          [-1.7752e-03, -6.8015e-04, -7.4443e-03],\n",
            "          [-1.8319e-02, -1.4264e-02, -7.1446e-03]],\n",
            "\n",
            "         [[ 7.8524e-03, -2.6520e-03, -1.7556e-02],\n",
            "          [ 4.5240e-03, -4.8661e-03, -1.5215e-02],\n",
            "          [-5.0211e-03, -1.1864e-02, -1.4846e-02]],\n",
            "\n",
            "         [[ 2.9163e-02,  1.0344e-02,  2.4736e-02],\n",
            "          [ 1.2012e-02, -1.0346e-02,  3.5472e-03],\n",
            "          [ 8.2238e-03, -1.8237e-02, -5.4892e-03]],\n",
            "\n",
            "         ...,\n",
            "\n",
            "         [[-8.8434e-03, -4.3184e-03, -5.7536e-03],\n",
            "          [ 7.7230e-03, -4.1936e-04,  7.7260e-03],\n",
            "          [ 1.3536e-02,  1.5705e-02,  2.0893e-02]],\n",
            "\n",
            "         [[ 1.6743e-03,  1.9720e-03,  2.1567e-02],\n",
            "          [-8.0074e-03, -4.6606e-03,  4.0560e-03],\n",
            "          [-1.6688e-02, -1.3754e-02, -1.1708e-02]],\n",
            "\n",
            "         [[-9.7959e-03, -9.4502e-03, -9.3443e-03],\n",
            "          [ 6.9547e-03, -3.9134e-05,  6.2691e-03],\n",
            "          [-1.3193e-02,  9.3272e-04,  1.4579e-02]]],\n",
            "\n",
            "\n",
            "        [[[-1.4963e-03,  5.5133e-04,  1.1571e-02],\n",
            "          [ 1.0174e-02,  1.7889e-03,  1.1035e-02],\n",
            "          [ 7.0212e-03,  1.4651e-03,  1.2769e-03]],\n",
            "\n",
            "         [[-1.3021e-02,  6.4109e-03, -1.5199e-02],\n",
            "          [ 2.4775e-02,  2.1926e-02,  3.3679e-02],\n",
            "          [ 2.6471e-04, -3.0235e-03,  1.1690e-02]],\n",
            "\n",
            "         [[-2.9665e-02, -1.5314e-02, -1.7500e-02],\n",
            "          [-1.8339e-02, -2.0845e-02, -1.5494e-02],\n",
            "          [-1.6086e-03,  1.0831e-02, -1.4309e-02]],\n",
            "\n",
            "         ...,\n",
            "\n",
            "         [[-7.7044e-03, -2.1100e-02, -2.2816e-02],\n",
            "          [ 5.7688e-03,  1.9362e-04,  7.7105e-04],\n",
            "          [-6.1357e-03,  9.7275e-03, -2.5464e-03]],\n",
            "\n",
            "         [[ 1.1043e-02,  2.4205e-02,  3.4213e-02],\n",
            "          [ 2.9181e-02,  2.6904e-02,  4.5372e-02],\n",
            "          [-2.1594e-02, -1.1072e-03, -7.8312e-03]],\n",
            "\n",
            "         [[-8.3287e-03, -7.9521e-03, -5.3358e-03],\n",
            "          [-6.2527e-04, -5.3243e-03, -8.6296e-03],\n",
            "          [ 3.6094e-03, -1.2544e-03, -4.3801e-03]]]], device='cuda:0')\n",
            "layer4 Parameter containing:\n",
            "tensor([0.2587, 0.3073, 0.2595, 0.3223, 0.2662, 0.2652, 0.2575, 0.2660, 0.2766,\n",
            "        0.2414, 0.3045, 0.2853, 0.2821, 0.2880, 0.3094, 0.3444, 0.3155, 0.4129,\n",
            "        0.2110, 0.2903, 0.2496, 0.2601, 0.2967, 0.3033, 0.4152, 0.2719, 0.3661,\n",
            "        0.3251, 0.3898, 0.3346, 0.2753, 0.2712, 0.2414, 0.3351, 0.3394, 0.3167,\n",
            "        0.3360, 0.2666, 0.2109, 0.2705, 0.2587, 0.3070, 0.2720, 0.2316, 0.2885,\n",
            "        0.2884, 0.2955, 0.3057, 0.3043, 0.2596, 0.2673, 0.1929, 0.3136, 0.3593,\n",
            "        0.2622, 0.2931, 0.3295, 0.2514, 0.3208, 0.2798, 0.3259, 0.2939, 0.2390,\n",
            "        0.3105, 0.3471, 0.2812, 0.2148, 0.2997, 0.3061, 0.2740, 0.2791, 0.3790,\n",
            "        0.3592, 0.3247, 0.2995, 0.2735, 0.3356, 0.2703, 0.3255, 0.3127, 0.2783,\n",
            "        0.2702, 0.3900, 0.2942, 0.2899, 0.3461, 0.3432, 0.4685, 0.2634, 0.2553,\n",
            "        0.3019, 0.3961, 0.2742, 0.2995, 0.3858, 0.2785, 0.3212, 0.3109, 0.3642,\n",
            "        0.2193, 0.2643, 0.2333, 0.3151, 0.3102, 0.2936, 0.2374, 0.2419, 0.2976,\n",
            "        0.3335, 0.2619, 0.3984, 0.2721, 0.2718, 0.2678, 0.2757, 0.2445, 0.3508,\n",
            "        0.2174, 0.3309, 0.2653, 0.2564, 0.1748, 0.3177, 0.2751, 0.2067, 0.2905,\n",
            "        0.2762, 0.3329, 0.2738, 0.3224, 0.2199, 0.2997, 0.2206, 0.3213, 0.2760,\n",
            "        0.3927, 0.3174, 0.2698, 0.2988, 0.2610, 0.2550, 0.2788, 0.4445, 0.2862,\n",
            "        0.3606, 0.3279, 0.2869, 0.3294, 0.2244, 0.2338, 0.1754, 0.2318, 0.3186,\n",
            "        0.3322, 0.2255, 0.3041, 0.2837, 0.3276, 0.2392, 0.3668, 0.1971, 0.2946,\n",
            "        0.3613, 0.2736, 0.2554, 0.2860, 0.2511, 0.3490, 0.3253, 0.2934, 0.2027,\n",
            "        0.2580, 0.2200, 0.3089, 0.3074, 0.3332, 0.2943, 0.3375, 0.2330, 0.2611,\n",
            "        0.3383, 0.2837, 0.3546, 0.3093, 0.3791, 0.2197, 0.2648, 0.2830, 0.2587,\n",
            "        0.3588, 0.2830, 0.3971, 0.3194, 0.3066, 0.2754, 0.2647, 0.0970, 0.2182,\n",
            "        0.2334, 0.2624, 0.1829, 0.2933, 0.2747, 0.3001, 0.2996, 0.3107, 0.3256,\n",
            "        0.2940, 0.3901, 0.2790, 0.3030, 0.2838, 0.3010, 0.3044, 0.3479, 0.3087,\n",
            "        0.2611, 0.1958, 0.2941, 0.2558, 0.2889, 0.3148, 0.2516, 0.2664, 0.2862,\n",
            "        0.3940, 0.2933, 0.2781, 0.3796, 0.3022, 0.2583, 0.3021, 0.2784, 0.2967,\n",
            "        0.2994, 0.3856, 0.3277, 0.2587, 0.2539, 0.2824, 0.2634, 0.1489, 0.2205,\n",
            "        0.3929, 0.3401, 0.2717, 0.2789, 0.2917, 0.3177, 0.1992, 0.3684, 0.3120,\n",
            "        0.3201, 0.2810, 0.2302, 0.2779, 0.2865, 0.2858, 0.2713, 0.1601, 0.2496,\n",
            "        0.2895, 0.3154, 0.3443, 0.3285, 0.3444, 0.3251, 0.3235, 0.3375, 0.2282,\n",
            "        0.2128, 0.1795, 0.3077, 0.3005, 0.2775, 0.3054, 0.2914, 0.3535, 0.2871,\n",
            "        0.2669, 0.3961, 0.2674, 0.3898, 0.3183, 0.3242, 0.2789, 0.1911, 0.2569,\n",
            "        0.3427, 0.2464, 0.2778, 0.2098, 0.3019, 0.3145, 0.3271, 0.2914, 0.2619,\n",
            "        0.2643, 0.3039, 0.2520, 0.2099, 0.3643, 0.2915, 0.1957, 0.3286, 0.2355,\n",
            "        0.3210, 0.2982, 0.3388, 0.3450, 0.3716, 0.2898, 0.2846, 0.2805, 0.2219,\n",
            "        0.2910, 0.2681, 0.3163, 0.1964, 0.3176, 0.3092, 0.2706, 0.2505, 0.2508,\n",
            "        0.3166, 0.3583, 0.1563, 0.2608, 0.2892, 0.3401, 0.2891, 0.3126, 0.2172,\n",
            "        0.2459, 0.2651, 0.4052, 0.2986, 0.3026, 0.3773, 0.2262, 0.2675, 0.2900,\n",
            "        0.3759, 0.3201, 0.2567, 0.3443, 0.2348, 0.3057, 0.2347, 0.3277, 0.2938,\n",
            "        0.2746, 0.2805, 0.2421, 0.3590, 0.2622, 0.2773, 0.2396, 0.2134, 0.2727,\n",
            "        0.2984, 0.2744, 0.2591, 0.2628, 0.3568, 0.2009, 0.3220, 0.2868, 0.2561,\n",
            "        0.3113, 0.2138, 0.3136, 0.2745, 0.3046, 0.3042, 0.1972, 0.2815, 0.2542,\n",
            "        0.2983, 0.2613, 0.2668, 0.3142, 0.2930, 0.3800, 0.1966, 0.2948, 0.3363,\n",
            "        0.2713, 0.3625, 0.2909, 0.2695, 0.3111, 0.3242, 0.3009, 0.3231, 0.3051,\n",
            "        0.2012, 0.2716, 0.3692, 0.2694, 0.1481, 0.2858, 0.2819, 0.2391, 0.2867,\n",
            "        0.3466, 0.3431, 0.2365, 0.3357, 0.1685, 0.2925, 0.3092, 0.3127, 0.1883,\n",
            "        0.2561, 0.3086, 0.1732, 0.2989, 0.3235, 0.2693, 0.2630, 0.2913, 0.2786,\n",
            "        0.3124, 0.3098, 0.2695, 0.2403, 0.2906, 0.2784, 0.2654, 0.3485, 0.3939,\n",
            "        0.3033, 0.3145, 0.2622, 0.1540, 0.2790, 0.2967, 0.1954, 0.2632, 0.2957,\n",
            "        0.2581, 0.3231, 0.2795, 0.2859, 0.3139, 0.2488, 0.2404, 0.3714, 0.2649,\n",
            "        0.2267, 0.2878, 0.3462, 0.3063, 0.3180, 0.1726, 0.3153, 0.2625, 0.3020,\n",
            "        0.2996, 0.3632, 0.1541, 0.3192, 0.2200, 0.2894, 0.2622, 0.2534, 0.2935,\n",
            "        0.3208, 0.2231, 0.2743, 0.3023, 0.2829, 0.2394, 0.2506, 0.3512, 0.3366,\n",
            "        0.2666, 0.2930, 0.3049, 0.2321, 0.3397, 0.2727, 0.2900, 0.3146, 0.2682,\n",
            "        0.3094, 0.3718, 0.3387, 0.3202, 0.2423, 0.2745, 0.2966, 0.2500, 0.2329,\n",
            "        0.3419, 0.2928, 0.3536, 0.3739, 0.1935, 0.2670, 0.2846, 0.2583, 0.3783,\n",
            "        0.2826, 0.2929, 0.2728, 0.3645, 0.2770, 0.2756, 0.2523, 0.2500],\n",
            "       device='cuda:0')\n",
            "layer4 Parameter containing:\n",
            "tensor([-0.1668, -0.3019, -0.2187, -0.2917, -0.1971, -0.2325, -0.1869, -0.1857,\n",
            "        -0.2474, -0.1629, -0.2448, -0.2508, -0.1895, -0.2651, -0.3250, -0.3811,\n",
            "        -0.2953, -0.4963, -0.0294, -0.2724, -0.2007, -0.2220, -0.2945, -0.2579,\n",
            "        -0.5152, -0.1994, -0.5016, -0.2736, -0.4528, -0.3968, -0.2281, -0.1772,\n",
            "        -0.1293, -0.2655, -0.3252, -0.3232, -0.3337, -0.1901, -0.0692, -0.2196,\n",
            "        -0.2132, -0.2565, -0.1646, -0.1567, -0.2087, -0.2178, -0.2480, -0.2767,\n",
            "        -0.3071, -0.1988, -0.1985, -0.0235, -0.2458, -0.4156, -0.1660, -0.1923,\n",
            "        -0.3328, -0.1481, -0.3047, -0.2277, -0.3182, -0.2744, -0.1643, -0.3365,\n",
            "        -0.4050, -0.2082, -0.0621, -0.2671, -0.2809, -0.2185, -0.2148, -0.4465,\n",
            "        -0.3376, -0.3213, -0.2921, -0.1998, -0.3369, -0.2092, -0.2831, -0.2893,\n",
            "        -0.1719, -0.2189, -0.4016, -0.2484, -0.2070, -0.3849, -0.3753, -0.5874,\n",
            "        -0.1637, -0.1748, -0.2217, -0.5067, -0.2496, -0.2117, -0.4291, -0.1944,\n",
            "        -0.3089, -0.2621, -0.4096, -0.0602, -0.2009, -0.1316, -0.3336, -0.2627,\n",
            "        -0.2320, -0.0910, -0.1560, -0.2889, -0.3286, -0.1628, -0.5128, -0.2036,\n",
            "        -0.1726, -0.1844, -0.2285, -0.1925, -0.3432, -0.0929, -0.3138, -0.1912,\n",
            "        -0.1926, -0.0342, -0.3268, -0.1699, -0.0828, -0.2417, -0.2069, -0.3870,\n",
            "        -0.2210, -0.2867, -0.0526, -0.3092, -0.0655, -0.2594, -0.2160, -0.5062,\n",
            "        -0.2905, -0.2125, -0.3124, -0.2128, -0.1946, -0.2520, -0.5475, -0.2321,\n",
            "        -0.3350, -0.3473, -0.2158, -0.3603, -0.0759, -0.1472, -0.0327, -0.1404,\n",
            "        -0.3128, -0.3063, -0.1120, -0.2664, -0.2700, -0.3112, -0.1519, -0.3843,\n",
            "        -0.0645, -0.2373, -0.4227, -0.2546, -0.1611, -0.2350, -0.1524, -0.3494,\n",
            "        -0.3453, -0.2081, -0.0918, -0.2025, -0.1246, -0.2533, -0.2768, -0.3156,\n",
            "        -0.2530, -0.3957, -0.0981, -0.1257, -0.3697, -0.2333, -0.3664, -0.2829,\n",
            "        -0.4320, -0.0836, -0.1583, -0.2395, -0.1818, -0.4408, -0.2376, -0.4450,\n",
            "        -0.3232, -0.2787, -0.1858, -0.2137,  0.0481, -0.1058, -0.1093, -0.2035,\n",
            "        -0.0496, -0.2117, -0.1598, -0.2389, -0.2830, -0.2878, -0.3406, -0.2560,\n",
            "        -0.4468, -0.2444, -0.2492, -0.2222, -0.2792, -0.3005, -0.4180, -0.2568,\n",
            "        -0.1872, -0.0270, -0.2645, -0.1873, -0.3022, -0.3400, -0.1803, -0.1810,\n",
            "        -0.2079, -0.4775, -0.2047, -0.1878, -0.4504, -0.2516, -0.1657, -0.2765,\n",
            "        -0.2329, -0.2446, -0.2956, -0.4163, -0.2816, -0.1571, -0.2199, -0.2125,\n",
            "        -0.1684,  0.0356, -0.0914, -0.4484, -0.3535, -0.2212, -0.2550, -0.2509,\n",
            "        -0.2702, -0.0599, -0.3505, -0.2924, -0.2360, -0.2339, -0.1259, -0.2597,\n",
            "        -0.2267, -0.1978, -0.1371, -0.0129, -0.1175, -0.2527, -0.3099, -0.3231,\n",
            "        -0.3468, -0.3553, -0.3537, -0.3315, -0.3713, -0.1091, -0.0959, -0.0258,\n",
            "        -0.2756, -0.2808, -0.2012, -0.2812, -0.1991, -0.3948, -0.2257, -0.2469,\n",
            "        -0.4211, -0.2110, -0.4670, -0.3069, -0.3549, -0.2337, -0.0612, -0.1321,\n",
            "        -0.2968, -0.1870, -0.2316, -0.0686, -0.3113, -0.2895, -0.3149, -0.2686,\n",
            "        -0.2081, -0.2096, -0.3011, -0.1810, -0.0227, -0.3873, -0.2665, -0.0225,\n",
            "        -0.2973, -0.0973, -0.2980, -0.3219, -0.2926, -0.3196, -0.4332, -0.1980,\n",
            "        -0.2117, -0.2302, -0.0980, -0.2344, -0.2154, -0.2921, -0.0350, -0.3361,\n",
            "        -0.2620, -0.2188, -0.1566, -0.1795, -0.2726, -0.4103,  0.0413, -0.1507,\n",
            "        -0.2552, -0.3137, -0.2466, -0.2961, -0.0938, -0.1481, -0.2129, -0.5480,\n",
            "        -0.2915, -0.2802, -0.5077, -0.1306, -0.1862, -0.2400, -0.4362, -0.3017,\n",
            "        -0.1633, -0.3447, -0.1047, -0.2846, -0.1244, -0.3036, -0.2404, -0.2333,\n",
            "        -0.2494, -0.1866, -0.3294, -0.1677, -0.2540, -0.1295, -0.0512, -0.1966,\n",
            "        -0.2801, -0.1702, -0.1879, -0.1850, -0.3274, -0.0369, -0.2979, -0.2612,\n",
            "        -0.1889, -0.3270, -0.1377, -0.2787, -0.2201, -0.2417, -0.2834, -0.0555,\n",
            "        -0.2538, -0.1040, -0.2660, -0.1644, -0.1723, -0.2672, -0.2797, -0.4214,\n",
            "        -0.0378, -0.2386, -0.3498, -0.2435, -0.4348, -0.2554, -0.1719, -0.2836,\n",
            "        -0.3316, -0.2787, -0.2879, -0.2640, -0.0560, -0.1789, -0.4195, -0.2152,\n",
            "         0.0567, -0.2359, -0.2249, -0.0911, -0.2644, -0.3875, -0.3317, -0.1415,\n",
            "        -0.3425, -0.0020, -0.1941, -0.2821, -0.2809, -0.0965, -0.1841, -0.2971,\n",
            "        -0.0173, -0.3043, -0.3013, -0.1729, -0.1872, -0.2683, -0.2033, -0.3059,\n",
            "        -0.2939, -0.2163, -0.1889, -0.2581, -0.2296, -0.2066, -0.3462, -0.4298,\n",
            "        -0.2600, -0.3095, -0.1800, -0.0116, -0.2124, -0.2552, -0.0523, -0.2216,\n",
            "        -0.2605, -0.2134, -0.2867, -0.2556, -0.2275, -0.3437, -0.1698, -0.1560,\n",
            "        -0.4120, -0.2067, -0.1159, -0.2408, -0.3093, -0.2621, -0.2593, -0.0135,\n",
            "        -0.3099, -0.2179, -0.2766, -0.2400, -0.3934,  0.0072, -0.2982, -0.0930,\n",
            "        -0.2166, -0.1635, -0.1827, -0.2308, -0.2525, -0.0991, -0.2325, -0.2938,\n",
            "        -0.2480, -0.0934, -0.1911, -0.3772, -0.3369, -0.1606, -0.2752, -0.3005,\n",
            "        -0.1372, -0.2990, -0.2156, -0.2622, -0.3160, -0.1342, -0.2903, -0.3865,\n",
            "        -0.2916, -0.3243, -0.2051, -0.2656, -0.2359, -0.1508, -0.1063, -0.3595,\n",
            "        -0.2312, -0.3046, -0.4178, -0.0276, -0.2204, -0.2426, -0.1616, -0.4789,\n",
            "        -0.1713, -0.2802, -0.2305, -0.4327, -0.2413, -0.1862, -0.1486, -0.1507],\n",
            "       device='cuda:0')\n",
            "layer4 Parameter containing:\n",
            "tensor([[[[ 2.8729e-04,  4.2632e-03, -2.0266e-03],\n",
            "          [ 1.9513e-04,  2.4381e-03, -5.8632e-03],\n",
            "          [ 4.4803e-03,  8.6577e-03,  8.5538e-04]],\n",
            "\n",
            "         [[-1.1335e-02, -1.3195e-02, -1.0305e-02],\n",
            "          [-4.9507e-03, -4.5898e-03, -3.1041e-03],\n",
            "          [-7.5883e-03, -8.3795e-03, -8.9239e-03]],\n",
            "\n",
            "         [[-1.1914e-02, -1.2104e-02, -1.0167e-02],\n",
            "          [-1.2093e-02, -1.1557e-02, -8.9600e-03],\n",
            "          [-1.2515e-02, -9.3296e-03, -6.4079e-03]],\n",
            "\n",
            "         ...,\n",
            "\n",
            "         [[-9.3573e-03, -1.0662e-02, -1.2672e-02],\n",
            "          [-8.0600e-03, -8.5423e-03, -1.2121e-02],\n",
            "          [-8.1498e-03, -8.8037e-03, -1.0611e-02]],\n",
            "\n",
            "         [[ 4.2632e-03,  5.6461e-03,  2.8460e-03],\n",
            "          [ 4.7070e-03,  6.2550e-03,  7.5862e-03],\n",
            "          [ 1.1504e-02,  1.1518e-02,  1.0728e-02]],\n",
            "\n",
            "         [[-6.2455e-03, -9.1693e-03, -9.6664e-03],\n",
            "          [-4.2935e-03, -6.5311e-03, -5.0513e-03],\n",
            "          [-3.1141e-03, -5.0124e-03, -5.8122e-03]]],\n",
            "\n",
            "\n",
            "        [[[ 2.7483e-03,  3.7146e-04,  3.3262e-05],\n",
            "          [-4.5675e-03, -6.6689e-03, -6.4447e-03],\n",
            "          [-6.7610e-03, -7.3204e-03, -9.5855e-03]],\n",
            "\n",
            "         [[-1.4630e-02, -1.2320e-02, -1.4457e-02],\n",
            "          [-8.6197e-03, -5.8059e-03, -1.1075e-02],\n",
            "          [-6.2154e-03, -6.8218e-03, -9.3805e-03]],\n",
            "\n",
            "         [[ 1.0879e-03,  4.3850e-04, -1.9456e-03],\n",
            "          [-1.2517e-03,  3.2917e-04, -2.1435e-03],\n",
            "          [ 4.8136e-03,  2.5333e-03,  5.1504e-03]],\n",
            "\n",
            "         ...,\n",
            "\n",
            "         [[ 2.4644e-02,  1.7434e-02,  2.0734e-02],\n",
            "          [ 2.3101e-02,  1.3487e-02,  2.0728e-02],\n",
            "          [ 1.9381e-02,  1.5243e-02,  1.7340e-02]],\n",
            "\n",
            "         [[ 1.2212e-02,  1.2448e-02,  1.5048e-02],\n",
            "          [ 5.2993e-03,  4.0090e-03,  9.3927e-03],\n",
            "          [ 6.6766e-03,  2.4941e-03,  8.3288e-03]],\n",
            "\n",
            "         [[ 3.1040e-02,  2.8243e-02,  3.2319e-02],\n",
            "          [ 3.8608e-02,  3.3099e-02,  3.8652e-02],\n",
            "          [ 2.5839e-02,  2.6524e-02,  2.4995e-02]]],\n",
            "\n",
            "\n",
            "        [[[-2.1761e-03,  4.5553e-03,  2.0612e-03],\n",
            "          [ 4.9747e-03,  1.1420e-02,  8.5734e-03],\n",
            "          [ 4.8583e-03,  1.1469e-02,  1.0039e-02]],\n",
            "\n",
            "         [[-6.2547e-05,  6.5336e-04,  9.4747e-04],\n",
            "          [ 5.0603e-03,  7.7136e-03,  6.5484e-03],\n",
            "          [-4.8432e-04,  2.3057e-03,  2.9219e-03]],\n",
            "\n",
            "         [[-3.2788e-02, -2.7615e-02, -3.2608e-02],\n",
            "          [-3.6296e-02, -2.8170e-02, -3.0277e-02],\n",
            "          [-3.6814e-02, -3.1547e-02, -3.0231e-02]],\n",
            "\n",
            "         ...,\n",
            "\n",
            "         [[-5.2998e-03, -2.8590e-04, -4.9266e-03],\n",
            "          [-7.0530e-03, -2.3684e-04, -1.5838e-03],\n",
            "          [-6.9291e-03,  4.8084e-04, -3.1548e-03]],\n",
            "\n",
            "         [[ 1.1854e-02,  8.4836e-03,  1.3839e-02],\n",
            "          [ 2.8741e-03, -9.7358e-05,  4.4888e-03],\n",
            "          [-2.5515e-03, -2.7788e-03, -3.2464e-03]],\n",
            "\n",
            "         [[-1.2408e-02, -1.5001e-02, -1.3377e-02],\n",
            "          [-1.4540e-02, -1.8537e-02, -1.7392e-02],\n",
            "          [-6.7315e-03, -9.5205e-03, -9.0692e-03]]],\n",
            "\n",
            "\n",
            "        ...,\n",
            "\n",
            "\n",
            "        [[[ 3.0369e-03,  1.9542e-03,  1.7140e-03],\n",
            "          [-7.6240e-03, -2.8765e-03, -5.1760e-03],\n",
            "          [-9.3019e-03, -4.8800e-03, -4.2932e-03]],\n",
            "\n",
            "         [[ 4.4836e-03,  2.4909e-03,  1.5746e-03],\n",
            "          [ 1.2065e-02,  1.2936e-02,  1.0344e-02],\n",
            "          [ 1.9010e-02,  1.7459e-02,  1.5988e-02]],\n",
            "\n",
            "         [[-1.4914e-03, -8.1727e-03, -8.0671e-03],\n",
            "          [-6.6247e-03, -6.2421e-03, -9.2717e-03],\n",
            "          [-8.7991e-03, -7.7528e-03, -8.6336e-03]],\n",
            "\n",
            "         ...,\n",
            "\n",
            "         [[-1.8040e-02, -1.5366e-02, -1.5334e-02],\n",
            "          [-1.3148e-02, -1.2180e-02, -1.0915e-02],\n",
            "          [-1.4545e-02, -1.4756e-02, -1.1787e-02]],\n",
            "\n",
            "         [[ 3.5762e-03,  6.6073e-03, -1.4055e-03],\n",
            "          [ 4.3975e-03,  7.8375e-03,  8.8085e-05],\n",
            "          [-5.0697e-03, -5.6633e-04, -5.9284e-03]],\n",
            "\n",
            "         [[-1.9234e-03, -8.8012e-03, -5.8821e-03],\n",
            "          [ 3.6685e-03, -1.3784e-03, -3.2117e-03],\n",
            "          [-4.7037e-04,  1.5340e-04, -3.4046e-03]]],\n",
            "\n",
            "\n",
            "        [[[-1.8305e-02, -1.7735e-02, -2.1683e-02],\n",
            "          [-1.6598e-02, -1.2508e-02, -2.0530e-02],\n",
            "          [-1.0800e-02, -9.8670e-03, -1.7195e-02]],\n",
            "\n",
            "         [[ 2.0721e-02,  2.2466e-02,  2.5049e-02],\n",
            "          [ 1.8682e-02,  1.3160e-02,  2.3696e-02],\n",
            "          [ 2.2104e-02,  1.7261e-02,  2.4877e-02]],\n",
            "\n",
            "         [[-5.7091e-03, -2.6876e-03, -9.2260e-04],\n",
            "          [-9.4530e-03, -7.0543e-03, -6.2770e-03],\n",
            "          [-4.5806e-03, -2.7182e-03, -2.5823e-03]],\n",
            "\n",
            "         ...,\n",
            "\n",
            "         [[ 2.4150e-02,  1.4002e-02,  1.6559e-02],\n",
            "          [ 2.1363e-02,  1.4359e-02,  1.5854e-02],\n",
            "          [ 2.5786e-02,  2.7233e-02,  2.5104e-02]],\n",
            "\n",
            "         [[-4.6450e-03,  1.2419e-03, -1.8768e-03],\n",
            "          [ 1.3005e-03,  4.0888e-03, -6.5483e-04],\n",
            "          [-7.9783e-03, -6.6539e-03, -8.9957e-03]],\n",
            "\n",
            "         [[ 1.1494e-02,  2.6621e-02,  1.5649e-02],\n",
            "          [ 6.5960e-03,  1.7290e-02,  7.5466e-03],\n",
            "          [-8.0256e-03,  4.6246e-03, -5.7808e-03]]],\n",
            "\n",
            "\n",
            "        [[[ 1.4232e-02,  1.1769e-02,  9.4342e-03],\n",
            "          [ 6.2592e-03,  5.1087e-03,  2.3311e-03],\n",
            "          [-1.9694e-03,  2.7110e-03, -2.8945e-03]],\n",
            "\n",
            "         [[-7.0772e-03,  1.0365e-03, -5.8451e-03],\n",
            "          [-9.1879e-03, -3.1388e-03, -8.1517e-03],\n",
            "          [-8.0300e-03, -5.1313e-03, -9.5734e-03]],\n",
            "\n",
            "         [[ 2.4314e-02,  1.8942e-02,  2.4256e-02],\n",
            "          [ 2.0090e-02,  1.1472e-02,  1.5993e-02],\n",
            "          [ 2.2910e-02,  2.0622e-02,  2.3820e-02]],\n",
            "\n",
            "         ...,\n",
            "\n",
            "         [[-1.6375e-02, -1.6928e-02, -1.9019e-02],\n",
            "          [-9.7367e-03, -1.1274e-02, -1.0261e-02],\n",
            "          [-1.2310e-02, -1.5931e-02, -1.4151e-02]],\n",
            "\n",
            "         [[ 4.7098e-03, -4.5205e-04,  2.8042e-03],\n",
            "          [ 2.1428e-03, -4.6175e-03, -1.6818e-03],\n",
            "          [-1.3336e-03, -5.5009e-03, -2.6237e-03]],\n",
            "\n",
            "         [[-1.4367e-02, -1.3520e-02, -1.1387e-02],\n",
            "          [-4.7420e-03, -1.7309e-03, -2.6426e-03],\n",
            "          [ 5.1448e-03,  7.0428e-03,  5.0202e-03]]]], device='cuda:0')\n",
            "layer4 Parameter containing:\n",
            "tensor([1.8419, 1.8307, 1.7650, 1.8288, 1.9505, 1.8026, 1.9536, 2.2790, 1.7662,\n",
            "        1.8902, 1.7768, 1.7749, 1.9055, 1.7328, 1.8762, 1.8211, 1.7967, 2.3428,\n",
            "        1.7985, 1.7271, 1.7915, 1.9512, 1.8928, 1.9017, 1.8784, 1.9809, 1.8569,\n",
            "        1.7830, 1.8911, 1.8859, 1.7764, 1.9832, 1.8389, 1.7616, 1.8728, 1.8753,\n",
            "        1.9008, 1.8209, 1.7039, 1.7377, 1.7786, 1.6944, 1.7829, 1.7815, 1.7594,\n",
            "        1.8428, 1.9238, 2.0871, 1.8980, 1.8413, 1.8471, 1.8584, 1.7640, 1.8453,\n",
            "        1.7606, 1.9504, 1.9620, 1.8755, 1.9424, 1.8731, 1.8674, 1.9422, 1.8750,\n",
            "        1.9208, 1.7464, 1.8558, 1.6539, 2.0660, 2.0298, 1.9174, 1.8972, 1.7589,\n",
            "        1.7551, 1.9560, 1.7909, 1.7971, 1.7851, 1.7733, 1.8061, 1.7949, 1.8169,\n",
            "        1.8089, 1.8641, 2.1542, 1.7739, 1.7913, 1.8022, 1.7155, 1.7679, 1.7704,\n",
            "        1.6266, 1.8645, 1.9076, 1.8576, 1.6924, 1.8020, 1.7100, 1.7713, 1.8572,\n",
            "        1.7103, 2.0664, 1.9054, 1.9422, 1.8078, 1.7412, 1.6061, 1.9105, 1.8947,\n",
            "        1.7954, 1.8989, 1.8239, 1.7619, 1.7951, 1.8149, 1.8539, 1.8502, 1.7095,\n",
            "        2.1831, 1.8599, 1.8252, 1.8193, 1.8460, 1.7968, 1.6229, 1.8450, 1.8290,\n",
            "        1.8706, 1.9293, 1.6881, 1.9725, 1.8981, 1.8925, 1.8851, 1.8445, 1.9764,\n",
            "        2.0674, 1.8384, 1.8414, 1.8762, 1.7931, 1.7131, 1.9644, 1.7854, 1.9369,\n",
            "        1.8972, 1.8940, 1.8700, 1.7967, 1.8775, 1.9409, 1.7391, 1.7944, 1.9678,\n",
            "        1.7678, 1.6851, 1.9414, 1.9663, 1.9882, 1.7915, 1.8141, 1.8325, 2.1200,\n",
            "        1.9256, 2.3592, 2.0304, 1.9594, 1.7334, 1.9048, 1.8221, 1.7811, 1.9084,\n",
            "        1.8053, 1.9171, 1.9644, 1.8256, 1.6432, 1.9173, 1.9094, 1.9923, 1.7963,\n",
            "        1.9077, 1.7619, 2.1724, 1.7931, 1.7564, 1.8889, 1.9832, 1.9136, 1.8035,\n",
            "        1.8419, 1.8278, 1.8057, 1.9063, 1.8646, 1.7848, 1.8230, 1.7986, 1.7091,\n",
            "        1.7724, 1.7939, 1.7611, 1.9325, 2.0162, 1.7295, 2.0196, 1.8876, 1.8325,\n",
            "        1.8225, 1.7870, 1.9160, 1.7197, 1.7170, 1.9133, 1.7770, 1.9943, 1.8389,\n",
            "        1.8070, 1.8516, 1.7857, 1.9648, 1.9553, 1.9232, 1.8086, 1.8114, 1.7141,\n",
            "        1.8058, 1.8532, 1.9255, 1.7682, 1.8314, 1.8495, 1.8296, 1.8278, 1.8819,\n",
            "        1.7698, 1.7838, 1.7807, 1.9974, 1.6994, 1.9483, 1.7793, 1.8029, 2.2210,\n",
            "        1.6455, 1.8357, 2.1706, 1.9204, 1.7414, 1.7809, 1.8648, 1.9145, 1.8849,\n",
            "        1.8346, 1.9368, 1.8169, 2.2302, 1.8262, 2.0651, 1.9888, 1.8169, 1.8462,\n",
            "        1.9681, 1.8083, 1.8595, 1.8539, 1.7699, 1.9001, 1.7285, 1.7553, 1.8924,\n",
            "        1.7829, 1.9428, 1.8724, 1.7228, 2.0548, 1.7732, 1.8561, 1.7699, 1.9269,\n",
            "        1.8171, 2.4075, 1.7257, 1.7819, 1.7244, 1.8521, 1.8302, 1.8797, 1.7617,\n",
            "        1.9650, 1.9807, 1.7102, 1.7486, 1.8350, 1.9919, 1.8505, 1.9000, 1.8269,\n",
            "        1.9787, 1.7635, 1.6071, 1.7998, 1.9545, 1.7348, 1.7140, 1.8851, 1.7981,\n",
            "        1.9100, 1.8315, 1.7864, 1.9165, 1.8839, 1.9017, 1.9334, 1.7405, 1.7661,\n",
            "        1.8015, 1.9987, 1.7622, 1.9107, 1.8444, 1.7128, 1.8726, 1.8529, 1.9270,\n",
            "        1.8769, 1.7261, 1.8393, 1.9075, 1.7953, 1.8246, 1.7605, 2.0470, 1.9221,\n",
            "        1.9205, 1.8910, 1.7666, 1.6801, 1.8308, 1.8845, 1.8339, 1.8238, 1.7616,\n",
            "        1.6114, 1.8411, 1.7437, 1.8423, 1.9540, 1.7465, 1.7741, 1.8746, 1.8856,\n",
            "        1.7740, 1.7603, 1.7682, 1.8396, 1.6869, 1.8080, 1.8836, 1.8283, 1.8341,\n",
            "        1.8522, 1.9749, 1.8707, 1.7719, 1.8993, 1.8108, 1.8480, 1.8267, 1.8731,\n",
            "        1.9576, 1.8347, 1.9509, 1.9641, 1.7997, 1.7652, 1.9253, 1.7126, 1.7551,\n",
            "        1.9427, 1.8559, 1.9163, 1.7681, 1.7803, 1.8500, 1.8535, 1.8865, 1.7599,\n",
            "        2.0692, 1.8021, 1.7077, 1.8890, 1.9457, 1.8516, 1.7882, 1.8356, 1.8472,\n",
            "        1.6708, 1.7435, 1.9080, 1.9653, 2.0401, 1.8935, 1.8450, 1.7536, 1.7733,\n",
            "        1.8135, 1.8534, 1.9368, 1.7348, 1.8738, 1.9632, 1.9033, 1.7422, 1.7842,\n",
            "        1.8516, 2.0218, 1.7044, 1.8793, 1.8655, 1.8516, 1.8002, 1.8687, 1.8460,\n",
            "        1.7589, 1.8174, 1.9830, 1.9034, 2.1222, 1.8460, 1.9209, 1.8893, 1.9422,\n",
            "        1.8489, 1.8396, 1.9953, 2.0865, 1.8253, 1.7700, 1.8035, 1.7535, 1.8923,\n",
            "        1.8620, 1.8627, 1.7264, 1.8140, 1.9613, 1.8812, 1.8729, 2.0050, 1.7092,\n",
            "        1.7726, 1.9410, 1.8381, 1.8366, 1.7276, 1.8796, 1.7548, 1.9536, 1.8062,\n",
            "        1.8883, 2.0278, 1.8775, 1.9446, 1.8676, 1.8423, 1.7798, 1.9403, 1.8375,\n",
            "        2.0473, 1.9507, 1.8337, 1.8184, 1.7791, 1.8993, 1.8781, 1.8691, 1.8493,\n",
            "        1.7623, 1.9458, 1.7564, 1.7448, 1.8633, 1.6863, 1.8062, 1.8702, 2.0048,\n",
            "        1.8504, 1.8964, 1.9489, 1.8264, 1.9019, 1.8196, 1.9712, 1.8969, 1.8652,\n",
            "        1.8709, 1.6984, 1.8677, 1.8846, 1.9256, 1.8620, 1.6366, 1.8434, 1.7506,\n",
            "        1.8438, 1.5788, 1.9316, 1.9535, 1.7878, 1.7354, 2.0920, 1.9456],\n",
            "       device='cuda:0')\n",
            "layer4 Parameter containing:\n",
            "tensor([0.2371, 0.3433, 0.3279, 0.4642, 0.2233, 0.2370, 0.2176, 0.3793, 0.3140,\n",
            "        0.2803, 0.2434, 0.2116, 0.2478, 0.2435, 0.2298, 0.3172, 0.2725, 0.6511,\n",
            "        0.2925, 0.2281, 0.2279, 0.4254, 0.2342, 0.3328, 0.2632, 0.2176, 0.3180,\n",
            "        0.3893, 0.1387, 0.2274, 0.3379, 0.0767, 0.2253, 0.2504, 0.1990, 0.1951,\n",
            "        0.2566, 0.3253, 0.2797, 0.3149, 0.2373, 0.2533, 0.1956, 0.3236, 0.2093,\n",
            "        0.2333, 0.2300, 0.5019, 0.2830, 0.1885, 0.3264, 0.2722, 0.2369, 0.2430,\n",
            "        0.3625, 0.2165, 0.4700, 0.3047, 0.3675, 0.2641, 0.1979, 0.2664, 0.3448,\n",
            "        0.2005, 0.2450, 0.4351, 0.2689, 0.1632, 0.3087, 0.1209, 0.2153, 0.1592,\n",
            "        0.2960, 0.1423, 0.2951, 0.2706, 0.2007, 0.2939, 0.2210, 0.2243, 0.2465,\n",
            "        0.3910, 0.4599, 0.5417, 0.2147, 0.3469, 0.2703, 0.2229, 0.3645, 0.2647,\n",
            "        0.2421, 0.2492, 0.1666, 0.2763, 0.2560, 0.2151, 0.3363, 0.2767, 0.2516,\n",
            "        0.2988, 0.2622, 0.3499, 0.3001, 0.3907, 0.3184, 0.2233, 0.2649, 0.2110,\n",
            "        0.2034, 0.2752, 0.2314, 0.3480, 0.2238, 0.2892, 0.1991, 0.2923, 0.3259,\n",
            "        0.0722, 0.3039, 0.3041, 0.3803, 0.2568, 0.2382, 0.3057, 0.2652, 0.1532,\n",
            "        0.2110, 0.2567, 0.3148, 0.2746, 0.1833, 0.1950, 0.1116, 0.2279, 0.3705,\n",
            "        0.2477, 0.2000, 0.3060, 0.2548, 0.2468, 0.3028, 0.1921, 0.2952, 0.1980,\n",
            "        0.2135, 0.1583, 0.1586, 0.3944, 0.2352, 0.3947, 0.2740, 0.2861, 0.1856,\n",
            "        0.2702, 0.2986, 0.1728, 0.2658, 0.2696, 0.2028, 0.1838, 0.3176, 0.6246,\n",
            "        0.2631, 0.3855, 0.2074, 0.2317, 0.4171, 0.2044, 0.2926, 0.3506, 0.2305,\n",
            "        0.2400, 0.1420, 0.1093, 0.2757, 0.3253, 0.2334, 0.1650, 0.4026, 0.2066,\n",
            "        0.1790, 0.3032, 0.5658, 0.3246, 0.3834, 0.3254, 0.1772, 0.2909, 0.2350,\n",
            "        0.2519, 0.1968, 0.2003, 0.3213, 0.4802, 0.2543, 0.2578, 0.3280, 0.2270,\n",
            "        0.3044, 0.2273, 0.2447, 0.2527, 0.4136, 0.2588, 0.3589, 0.2688, 0.2115,\n",
            "        0.2022, 0.3186, 0.3740, 0.1785, 0.2074, 0.2346, 0.3566, 0.2623, 0.2620,\n",
            "        0.2880, 0.1462, 0.1896, 0.2777, 0.1852, 0.3240, 0.2748, 0.2164, 0.3066,\n",
            "        0.1845, 0.3992, 0.1695, 0.4411, 0.2812, 0.2730, 0.2784, 0.1861, 0.3589,\n",
            "        0.1934, 0.3320, 0.3350, 0.2655, 0.2740, 0.3185, 0.2633, 0.2458, 0.2003,\n",
            "        0.2809, 0.3049, 0.2050, 0.2904, 0.2381, 0.3278, 0.3484, 0.4293, 0.2422,\n",
            "        0.2859, 0.1864, 0.2954, 0.5634, 0.2081, 0.3743, 0.2902, 0.3820, 0.3069,\n",
            "        0.2101, 0.2750, 0.2878, 0.1870, 0.3015, 0.1661, 0.2998, 0.3101, 0.2522,\n",
            "        0.2419, 0.1758, 0.2681, 0.2812, 0.1495, 0.2868, 0.3157, 0.2587, 0.2437,\n",
            "        0.1467, 0.5416, 0.2490, 0.2831, 0.2783, 0.1614, 0.1963, 0.2034, 0.2364,\n",
            "        0.2527, 0.1573, 0.3184, 0.2841, 0.1613, 0.1489, 0.2850, 0.1625, 0.3277,\n",
            "        0.4936, 0.2780, 0.3178, 0.1743, 0.2158, 0.2222, 0.2821, 0.4267, 0.2713,\n",
            "        0.1778, 0.3067, 0.2270, 0.1772, 0.3897, 0.2923, 0.4843, 0.2345, 0.2327,\n",
            "        0.2740, 0.2700, 0.2804, 0.4035, 0.1501, 0.3329, 0.3286, 0.2803, 0.2309,\n",
            "        0.1738, 0.3270, 0.3097, 0.1808, 0.2384, 0.2107, 0.3240, 0.3346, 0.2236,\n",
            "        0.2061, 0.2687, 0.2360, 0.3338, 0.2694, 0.3203, 0.2895, 0.1884, 0.1491,\n",
            "        0.3957, 0.5167, 0.3407, 0.1854, 0.1816, 0.2626, 0.1855, 0.2219, 0.1482,\n",
            "        0.2584, 0.2458, 0.2616, 0.2396, 0.2402, 0.2423, 0.3463, 0.2731, 0.1524,\n",
            "        0.2514, 0.2760, 0.1734, 0.2715, 0.4052, 0.2252, 0.3676, 0.3070, 0.3127,\n",
            "        0.1836, 0.4330, 0.2203, 0.2073, 0.2803, 0.2984, 0.2191, 0.3272, 0.2267,\n",
            "        0.2749, 0.3056, 0.4566, 0.2962, 0.3528, 0.3236, 0.4220, 0.2715, 0.2256,\n",
            "        0.2903, 0.1829, 0.3994, 0.2820, 0.2471, 0.1647, 0.3654, 0.4504, 0.2685,\n",
            "        0.2992, 0.2825, 0.2435, 0.2212, 0.4300, 0.4342, 0.1988, 0.2863, 0.3398,\n",
            "        0.2444, 0.2905, 0.2559, 0.2586, 0.1702, 0.1906, 0.2536, 0.2978, 0.2498,\n",
            "        0.3777, 0.2252, 0.2472, 0.2243, 0.1732, 0.2194, 0.2091, 0.2820, 0.2898,\n",
            "        0.2887, 0.3292, 0.1644, 0.2962, 0.3279, 0.2535, 0.2795, 0.2238, 0.2607,\n",
            "        0.1937, 0.2680, 0.2418, 0.5193, 0.2502, 0.3147, 0.2166, 0.2313, 0.2027,\n",
            "        0.1880, 0.2180, 0.3826, 0.3871, 0.2358, 0.3556, 0.2272, 0.3272, 0.3442,\n",
            "        0.3154, 0.1993, 0.3135, 0.2254, 0.3048, 0.2658, 0.3337, 0.2679, 0.2670,\n",
            "        0.2363, 0.4347, 0.1931, 0.1995, 0.2072, 0.3202, 0.2667, 0.2305, 0.2383,\n",
            "        0.2246, 0.2562, 0.2837, 0.4046, 0.2786, 0.2243, 0.1591, 0.1923, 0.1894,\n",
            "        0.2496, 0.1140, 0.3128, 0.3197, 0.3530, 0.2999, 0.2115, 0.4718, 0.2979,\n",
            "        0.3472, 0.2890, 0.4740, 0.2230, 0.3630, 0.4015, 0.2446, 0.1897, 0.1460,\n",
            "        0.1874, 0.2734, 0.2366, 0.3001, 0.2359, 0.2688, 0.3256, 0.2749, 0.2848,\n",
            "        0.2299, 0.3001, 0.4818, 0.3074, 0.3164, 0.3114, 0.3549, 0.2859],\n",
            "       device='cuda:0')\n",
            "fc Parameter containing:\n",
            "tensor([[-0.0437, -0.0224, -0.0812,  ..., -0.0973,  0.0108, -0.0570],\n",
            "        [ 0.0183, -0.0912, -0.0174,  ...,  0.0156,  0.0183, -0.0315],\n",
            "        [ 0.0750, -0.1533, -0.0295,  ..., -0.0559, -0.0370,  0.1270],\n",
            "        ...,\n",
            "        [ 0.2259,  0.0213, -0.0165,  ..., -0.0127, -0.0842,  0.0877],\n",
            "        [-0.0942, -0.0502,  0.0282,  ..., -0.1112, -0.0123,  0.0858],\n",
            "        [-0.0121,  0.0319,  0.0596,  ..., -0.1394,  0.0710,  0.0051]],\n",
            "       device='cuda:0', requires_grad=True)\n",
            "fc Parameter containing:\n",
            "tensor([-0.0176,  0.0200,  0.0183,  0.0336, -0.0378, -0.0281, -0.0264, -0.0049,\n",
            "        -0.0181,  0.0332, -0.0125, -0.0127, -0.0173,  0.0370,  0.0045, -0.0357,\n",
            "        -0.0422,  0.0008,  0.0383, -0.0337, -0.0150, -0.0106, -0.0374, -0.0008,\n",
            "         0.0341, -0.0264, -0.0405,  0.0157, -0.0240,  0.0043, -0.0332,  0.0232,\n",
            "        -0.0315,  0.0184, -0.0280, -0.0274, -0.0094, -0.0475,  0.0384,  0.0214,\n",
            "        -0.0124, -0.0390,  0.0262,  0.0026,  0.0250, -0.0365, -0.0155, -0.0205,\n",
            "        -0.0394, -0.0283,  0.0010, -0.0001, -0.0280, -0.0326,  0.0158, -0.0235,\n",
            "         0.0187, -0.0361,  0.0302, -0.0207, -0.0403, -0.0468, -0.0251, -0.0146,\n",
            "        -0.0308,  0.0147, -0.0253,  0.0101,  0.0262,  0.0031,  0.0202, -0.0254,\n",
            "         0.0255, -0.0169,  0.0176, -0.0111,  0.0094,  0.0148,  0.0092,  0.0327,\n",
            "         0.0171, -0.0027, -0.0284,  0.0008, -0.0125,  0.0366,  0.0318,  0.0020,\n",
            "         0.0429,  0.0015,  0.0300,  0.0188, -0.0171, -0.0265, -0.0074,  0.0201,\n",
            "         0.0220, -0.0231, -0.0087, -0.0155], device='cuda:0',\n",
            "       requires_grad=True)\n"
          ]
        }
      ]
    },
    {
      "cell_type": "code",
      "source": [
        "## 지정한 device에 학습시킬 모델 얹어주기\n",
        "Resnet_1.to(device)\n",
        "Resnet_1"
      ],
      "metadata": {
        "colab": {
          "base_uri": "https://localhost:8080/"
        },
        "id": "--TMbHmiVMOE",
        "outputId": "5b63eac8-05a1-4bb4-eacb-0ed73252a457"
      },
      "execution_count": null,
      "outputs": [
        {
          "output_type": "execute_result",
          "data": {
            "text/plain": [
              "ResNet(\n",
              "  (conv1): Conv2d(3, 64, kernel_size=(7, 7), stride=(2, 2), padding=(3, 3), bias=False)\n",
              "  (bn1): BatchNorm2d(64, eps=1e-05, momentum=0.1, affine=True, track_running_stats=True)\n",
              "  (relu): ReLU(inplace=True)\n",
              "  (maxpool): MaxPool2d(kernel_size=3, stride=2, padding=1, dilation=1, ceil_mode=False)\n",
              "  (layer1): Sequential(\n",
              "    (0): BasicBlock(\n",
              "      (conv1): Conv2d(64, 64, kernel_size=(3, 3), stride=(1, 1), padding=(1, 1), bias=False)\n",
              "      (bn1): BatchNorm2d(64, eps=1e-05, momentum=0.1, affine=True, track_running_stats=True)\n",
              "      (relu): ReLU(inplace=True)\n",
              "      (conv2): Conv2d(64, 64, kernel_size=(3, 3), stride=(1, 1), padding=(1, 1), bias=False)\n",
              "      (bn2): BatchNorm2d(64, eps=1e-05, momentum=0.1, affine=True, track_running_stats=True)\n",
              "    )\n",
              "    (1): BasicBlock(\n",
              "      (conv1): Conv2d(64, 64, kernel_size=(3, 3), stride=(1, 1), padding=(1, 1), bias=False)\n",
              "      (bn1): BatchNorm2d(64, eps=1e-05, momentum=0.1, affine=True, track_running_stats=True)\n",
              "      (relu): ReLU(inplace=True)\n",
              "      (conv2): Conv2d(64, 64, kernel_size=(3, 3), stride=(1, 1), padding=(1, 1), bias=False)\n",
              "      (bn2): BatchNorm2d(64, eps=1e-05, momentum=0.1, affine=True, track_running_stats=True)\n",
              "    )\n",
              "  )\n",
              "  (layer2): Sequential(\n",
              "    (0): BasicBlock(\n",
              "      (conv1): Conv2d(64, 128, kernel_size=(3, 3), stride=(2, 2), padding=(1, 1), bias=False)\n",
              "      (bn1): BatchNorm2d(128, eps=1e-05, momentum=0.1, affine=True, track_running_stats=True)\n",
              "      (relu): ReLU(inplace=True)\n",
              "      (conv2): Conv2d(128, 128, kernel_size=(3, 3), stride=(1, 1), padding=(1, 1), bias=False)\n",
              "      (bn2): BatchNorm2d(128, eps=1e-05, momentum=0.1, affine=True, track_running_stats=True)\n",
              "      (downsample): Sequential(\n",
              "        (0): Conv2d(64, 128, kernel_size=(1, 1), stride=(2, 2), bias=False)\n",
              "        (1): BatchNorm2d(128, eps=1e-05, momentum=0.1, affine=True, track_running_stats=True)\n",
              "      )\n",
              "    )\n",
              "    (1): BasicBlock(\n",
              "      (conv1): Conv2d(128, 128, kernel_size=(3, 3), stride=(1, 1), padding=(1, 1), bias=False)\n",
              "      (bn1): BatchNorm2d(128, eps=1e-05, momentum=0.1, affine=True, track_running_stats=True)\n",
              "      (relu): ReLU(inplace=True)\n",
              "      (conv2): Conv2d(128, 128, kernel_size=(3, 3), stride=(1, 1), padding=(1, 1), bias=False)\n",
              "      (bn2): BatchNorm2d(128, eps=1e-05, momentum=0.1, affine=True, track_running_stats=True)\n",
              "    )\n",
              "  )\n",
              "  (layer3): Sequential(\n",
              "    (0): BasicBlock(\n",
              "      (conv1): Conv2d(128, 256, kernel_size=(3, 3), stride=(2, 2), padding=(1, 1), bias=False)\n",
              "      (bn1): BatchNorm2d(256, eps=1e-05, momentum=0.1, affine=True, track_running_stats=True)\n",
              "      (relu): ReLU(inplace=True)\n",
              "      (conv2): Conv2d(256, 256, kernel_size=(3, 3), stride=(1, 1), padding=(1, 1), bias=False)\n",
              "      (bn2): BatchNorm2d(256, eps=1e-05, momentum=0.1, affine=True, track_running_stats=True)\n",
              "      (downsample): Sequential(\n",
              "        (0): Conv2d(128, 256, kernel_size=(1, 1), stride=(2, 2), bias=False)\n",
              "        (1): BatchNorm2d(256, eps=1e-05, momentum=0.1, affine=True, track_running_stats=True)\n",
              "      )\n",
              "    )\n",
              "    (1): BasicBlock(\n",
              "      (conv1): Conv2d(256, 256, kernel_size=(3, 3), stride=(1, 1), padding=(1, 1), bias=False)\n",
              "      (bn1): BatchNorm2d(256, eps=1e-05, momentum=0.1, affine=True, track_running_stats=True)\n",
              "      (relu): ReLU(inplace=True)\n",
              "      (conv2): Conv2d(256, 256, kernel_size=(3, 3), stride=(1, 1), padding=(1, 1), bias=False)\n",
              "      (bn2): BatchNorm2d(256, eps=1e-05, momentum=0.1, affine=True, track_running_stats=True)\n",
              "    )\n",
              "  )\n",
              "  (layer4): Sequential(\n",
              "    (0): BasicBlock(\n",
              "      (conv1): Conv2d(256, 512, kernel_size=(3, 3), stride=(2, 2), padding=(1, 1), bias=False)\n",
              "      (bn1): BatchNorm2d(512, eps=1e-05, momentum=0.1, affine=True, track_running_stats=True)\n",
              "      (relu): ReLU(inplace=True)\n",
              "      (conv2): Conv2d(512, 512, kernel_size=(3, 3), stride=(1, 1), padding=(1, 1), bias=False)\n",
              "      (bn2): BatchNorm2d(512, eps=1e-05, momentum=0.1, affine=True, track_running_stats=True)\n",
              "      (downsample): Sequential(\n",
              "        (0): Conv2d(256, 512, kernel_size=(1, 1), stride=(2, 2), bias=False)\n",
              "        (1): BatchNorm2d(512, eps=1e-05, momentum=0.1, affine=True, track_running_stats=True)\n",
              "      )\n",
              "    )\n",
              "    (1): BasicBlock(\n",
              "      (conv1): Conv2d(512, 512, kernel_size=(3, 3), stride=(1, 1), padding=(1, 1), bias=False)\n",
              "      (bn1): BatchNorm2d(512, eps=1e-05, momentum=0.1, affine=True, track_running_stats=True)\n",
              "      (relu): ReLU(inplace=True)\n",
              "      (conv2): Conv2d(512, 512, kernel_size=(3, 3), stride=(1, 1), padding=(1, 1), bias=False)\n",
              "      (bn2): BatchNorm2d(512, eps=1e-05, momentum=0.1, affine=True, track_running_stats=True)\n",
              "    )\n",
              "  )\n",
              "  (avgpool): AdaptiveAvgPool2d(output_size=(1, 1))\n",
              "  (fc): Linear(in_features=512, out_features=100, bias=True)\n",
              ")"
            ]
          },
          "metadata": {},
          "execution_count": 51
        }
      ]
    },
    {
      "cell_type": "markdown",
      "source": [
        "###(2) Cost Function, Opimizer"
      ],
      "metadata": {
        "id": "W9k-oTefqXHg"
      }
    },
    {
      "cell_type": "code",
      "source": [
        "## Cost Function과 Optimizer 설정\n",
        "criterion = nn.CrossEntropyLoss()\n",
        "optimizer = optim.Adam(Resnet_1.parameters(), lr=0.001)"
      ],
      "metadata": {
        "id": "PnMw3Nxafu6z"
      },
      "execution_count": null,
      "outputs": []
    },
    {
      "cell_type": "markdown",
      "source": [
        "###(3) Learning Rate Scheduler"
      ],
      "metadata": {
        "id": "FuWFvhsBqQEj"
      }
    },
    {
      "cell_type": "code",
      "source": [
        "## Learning Rate Scheduler 설정 (선택사항)\n",
        "'''\n",
        "exp_lr_scheduler =optim.lr_scheduler.StepLR(optimizer, step_size=10, gamma=0.1)\n",
        "# 역시 더 많은 lr scheduler가 존재함 \n",
        "# Cosine Warm Restarts \n",
        "lr = optim.lr_scheduler.CosineAnnealingWarmRestarts(optimizer,T_0=,T_mult=) \n",
        "'''"
      ],
      "metadata": {
        "colab": {
          "base_uri": "https://localhost:8080/",
          "height": 54
        },
        "id": "RHsRUY1LfusX",
        "outputId": "9ef51ab5-d712-4060-feb8-f19afc7b85d3"
      },
      "execution_count": null,
      "outputs": [
        {
          "output_type": "execute_result",
          "data": {
            "text/plain": [
              "'\\nexp_lr_scheduler =optim.lr_scheduler.StepLR(optimizer, step_size=10, gamma=0.1)\\n# 역시 더 많은 lr scheduler가 존재함 \\n# Cosine Warm Restarts \\nlr = optim.lr_scheduler.CosineAnnealingWarmRestarts(optimizer,T_0=,T_mult=) \\n'"
            ],
            "application/vnd.google.colaboratory.intrinsic+json": {
              "type": "string"
            }
          },
          "metadata": {},
          "execution_count": 53
        }
      ]
    },
    {
      "cell_type": "code",
      "source": [
        "num_epochs = 2"
      ],
      "metadata": {
        "id": "DQJSmFW2qy0N"
      },
      "execution_count": null,
      "outputs": []
    },
    {
      "cell_type": "code",
      "source": [
        "for epoch in range(0,num_epochs):\n",
        "  train(Resnet_1,epoch,optimizer,criterion,save_every=10)\n",
        "  test(Resnet_1,epoch,criterion)"
      ],
      "metadata": {
        "colab": {
          "base_uri": "https://localhost:8080/",
          "height": 461
        },
        "id": "_684YLxQquBq",
        "outputId": "f3684c91-f0be-4aa3-ee6d-4955a4eea171"
      },
      "execution_count": null,
      "outputs": [
        {
          "output_type": "stream",
          "name": "stdout",
          "text": [
            "\n",
            "[ Train epoch: 1 ]\n",
            "\n",
            "Current batch: 50\n",
            "Average train loss of recent 50 batches: 4.225871648788452\n"
          ]
        },
        {
          "output_type": "error",
          "ename": "KeyboardInterrupt",
          "evalue": "ignored",
          "traceback": [
            "\u001b[0;31m---------------------------------------------------------------------------\u001b[0m",
            "\u001b[0;31mKeyboardInterrupt\u001b[0m                         Traceback (most recent call last)",
            "\u001b[0;32m<ipython-input-91-4ad906e90a2c>\u001b[0m in \u001b[0;36m<module>\u001b[0;34m\u001b[0m\n\u001b[1;32m      1\u001b[0m \u001b[0;32mfor\u001b[0m \u001b[0mepoch\u001b[0m \u001b[0;32min\u001b[0m \u001b[0mrange\u001b[0m\u001b[0;34m(\u001b[0m\u001b[0;36m0\u001b[0m\u001b[0;34m,\u001b[0m\u001b[0mnum_epochs\u001b[0m\u001b[0;34m)\u001b[0m\u001b[0;34m:\u001b[0m\u001b[0;34m\u001b[0m\u001b[0;34m\u001b[0m\u001b[0m\n\u001b[0;32m----> 2\u001b[0;31m   \u001b[0mtrain\u001b[0m\u001b[0;34m(\u001b[0m\u001b[0mResnet_1\u001b[0m\u001b[0;34m,\u001b[0m\u001b[0mepoch\u001b[0m\u001b[0;34m,\u001b[0m\u001b[0moptimizer\u001b[0m\u001b[0;34m,\u001b[0m\u001b[0mcriterion\u001b[0m\u001b[0;34m,\u001b[0m\u001b[0msave_every\u001b[0m\u001b[0;34m=\u001b[0m\u001b[0;36m10\u001b[0m\u001b[0;34m)\u001b[0m\u001b[0;34m\u001b[0m\u001b[0;34m\u001b[0m\u001b[0m\n\u001b[0m\u001b[1;32m      3\u001b[0m   \u001b[0mtest\u001b[0m\u001b[0;34m(\u001b[0m\u001b[0mResnet_1\u001b[0m\u001b[0;34m,\u001b[0m\u001b[0mepoch\u001b[0m\u001b[0;34m,\u001b[0m\u001b[0mcriterion\u001b[0m\u001b[0;34m)\u001b[0m\u001b[0;34m\u001b[0m\u001b[0;34m\u001b[0m\u001b[0m\n",
            "\u001b[0;32m<ipython-input-90-29a47c010500>\u001b[0m in \u001b[0;36mtrain\u001b[0;34m(model, epoch, optimizer, criterion, scheduler, save_every)\u001b[0m\n\u001b[1;32m     13\u001b[0m     \u001b[0mcorrect\u001b[0m \u001b[0;34m=\u001b[0m \u001b[0;36m0\u001b[0m\u001b[0;34m\u001b[0m\u001b[0;34m\u001b[0m\u001b[0m\n\u001b[1;32m     14\u001b[0m \u001b[0;34m\u001b[0m\u001b[0m\n\u001b[0;32m---> 15\u001b[0;31m     \u001b[0;32mfor\u001b[0m \u001b[0mbatch_idx\u001b[0m\u001b[0;34m,\u001b[0m \u001b[0;34m(\u001b[0m\u001b[0minputs\u001b[0m\u001b[0;34m,\u001b[0m \u001b[0mtargets\u001b[0m\u001b[0;34m)\u001b[0m \u001b[0;32min\u001b[0m \u001b[0menumerate\u001b[0m\u001b[0;34m(\u001b[0m\u001b[0mdataloaders\u001b[0m\u001b[0;34m[\u001b[0m\u001b[0;34m'facescrub_train'\u001b[0m\u001b[0;34m]\u001b[0m\u001b[0;34m)\u001b[0m\u001b[0;34m:\u001b[0m \u001b[0;31m# Train data 가져오기\u001b[0m\u001b[0;34m\u001b[0m\u001b[0;34m\u001b[0m\u001b[0m\n\u001b[0m\u001b[1;32m     16\u001b[0m         \u001b[0minputs\u001b[0m\u001b[0;34m,\u001b[0m \u001b[0mtargets\u001b[0m \u001b[0;34m=\u001b[0m \u001b[0minputs\u001b[0m\u001b[0;34m.\u001b[0m\u001b[0mto\u001b[0m\u001b[0;34m(\u001b[0m\u001b[0mdevice\u001b[0m\u001b[0;34m)\u001b[0m\u001b[0;34m,\u001b[0m \u001b[0mtargets\u001b[0m\u001b[0;34m.\u001b[0m\u001b[0mto\u001b[0m\u001b[0;34m(\u001b[0m\u001b[0mdevice\u001b[0m\u001b[0;34m)\u001b[0m \u001b[0;31m# dataloader의 input image와 label도 device에 넣어준다\u001b[0m\u001b[0;34m\u001b[0m\u001b[0;34m\u001b[0m\u001b[0m\n\u001b[1;32m     17\u001b[0m \u001b[0;34m\u001b[0m\u001b[0m\n",
            "\u001b[0;32m/usr/local/lib/python3.7/dist-packages/torch/utils/data/dataloader.py\u001b[0m in \u001b[0;36m__next__\u001b[0;34m(self)\u001b[0m\n\u001b[1;32m    679\u001b[0m                 \u001b[0;31m# TODO(https://github.com/pytorch/pytorch/issues/76750)\u001b[0m\u001b[0;34m\u001b[0m\u001b[0;34m\u001b[0m\u001b[0;34m\u001b[0m\u001b[0m\n\u001b[1;32m    680\u001b[0m                 \u001b[0mself\u001b[0m\u001b[0;34m.\u001b[0m\u001b[0m_reset\u001b[0m\u001b[0;34m(\u001b[0m\u001b[0;34m)\u001b[0m  \u001b[0;31m# type: ignore[call-arg]\u001b[0m\u001b[0;34m\u001b[0m\u001b[0;34m\u001b[0m\u001b[0m\n\u001b[0;32m--> 681\u001b[0;31m             \u001b[0mdata\u001b[0m \u001b[0;34m=\u001b[0m \u001b[0mself\u001b[0m\u001b[0;34m.\u001b[0m\u001b[0m_next_data\u001b[0m\u001b[0;34m(\u001b[0m\u001b[0;34m)\u001b[0m\u001b[0;34m\u001b[0m\u001b[0;34m\u001b[0m\u001b[0m\n\u001b[0m\u001b[1;32m    682\u001b[0m             \u001b[0mself\u001b[0m\u001b[0;34m.\u001b[0m\u001b[0m_num_yielded\u001b[0m \u001b[0;34m+=\u001b[0m \u001b[0;36m1\u001b[0m\u001b[0;34m\u001b[0m\u001b[0;34m\u001b[0m\u001b[0m\n\u001b[1;32m    683\u001b[0m             \u001b[0;32mif\u001b[0m \u001b[0mself\u001b[0m\u001b[0;34m.\u001b[0m\u001b[0m_dataset_kind\u001b[0m \u001b[0;34m==\u001b[0m \u001b[0m_DatasetKind\u001b[0m\u001b[0;34m.\u001b[0m\u001b[0mIterable\u001b[0m \u001b[0;32mand\u001b[0m\u001b[0;31m \u001b[0m\u001b[0;31m\\\u001b[0m\u001b[0;34m\u001b[0m\u001b[0;34m\u001b[0m\u001b[0m\n",
            "\u001b[0;32m/usr/local/lib/python3.7/dist-packages/torch/utils/data/dataloader.py\u001b[0m in \u001b[0;36m_next_data\u001b[0;34m(self)\u001b[0m\n\u001b[1;32m   1357\u001b[0m \u001b[0;34m\u001b[0m\u001b[0m\n\u001b[1;32m   1358\u001b[0m             \u001b[0;32massert\u001b[0m \u001b[0;32mnot\u001b[0m \u001b[0mself\u001b[0m\u001b[0;34m.\u001b[0m\u001b[0m_shutdown\u001b[0m \u001b[0;32mand\u001b[0m \u001b[0mself\u001b[0m\u001b[0;34m.\u001b[0m\u001b[0m_tasks_outstanding\u001b[0m \u001b[0;34m>\u001b[0m \u001b[0;36m0\u001b[0m\u001b[0;34m\u001b[0m\u001b[0;34m\u001b[0m\u001b[0m\n\u001b[0;32m-> 1359\u001b[0;31m             \u001b[0midx\u001b[0m\u001b[0;34m,\u001b[0m \u001b[0mdata\u001b[0m \u001b[0;34m=\u001b[0m \u001b[0mself\u001b[0m\u001b[0;34m.\u001b[0m\u001b[0m_get_data\u001b[0m\u001b[0;34m(\u001b[0m\u001b[0;34m)\u001b[0m\u001b[0;34m\u001b[0m\u001b[0;34m\u001b[0m\u001b[0m\n\u001b[0m\u001b[1;32m   1360\u001b[0m             \u001b[0mself\u001b[0m\u001b[0;34m.\u001b[0m\u001b[0m_tasks_outstanding\u001b[0m \u001b[0;34m-=\u001b[0m \u001b[0;36m1\u001b[0m\u001b[0;34m\u001b[0m\u001b[0;34m\u001b[0m\u001b[0m\n\u001b[1;32m   1361\u001b[0m             \u001b[0;32mif\u001b[0m \u001b[0mself\u001b[0m\u001b[0;34m.\u001b[0m\u001b[0m_dataset_kind\u001b[0m \u001b[0;34m==\u001b[0m \u001b[0m_DatasetKind\u001b[0m\u001b[0;34m.\u001b[0m\u001b[0mIterable\u001b[0m\u001b[0;34m:\u001b[0m\u001b[0;34m\u001b[0m\u001b[0;34m\u001b[0m\u001b[0m\n",
            "\u001b[0;32m/usr/local/lib/python3.7/dist-packages/torch/utils/data/dataloader.py\u001b[0m in \u001b[0;36m_get_data\u001b[0;34m(self)\u001b[0m\n\u001b[1;32m   1323\u001b[0m         \u001b[0;32melse\u001b[0m\u001b[0;34m:\u001b[0m\u001b[0;34m\u001b[0m\u001b[0;34m\u001b[0m\u001b[0m\n\u001b[1;32m   1324\u001b[0m             \u001b[0;32mwhile\u001b[0m \u001b[0;32mTrue\u001b[0m\u001b[0;34m:\u001b[0m\u001b[0;34m\u001b[0m\u001b[0;34m\u001b[0m\u001b[0m\n\u001b[0;32m-> 1325\u001b[0;31m                 \u001b[0msuccess\u001b[0m\u001b[0;34m,\u001b[0m \u001b[0mdata\u001b[0m \u001b[0;34m=\u001b[0m \u001b[0mself\u001b[0m\u001b[0;34m.\u001b[0m\u001b[0m_try_get_data\u001b[0m\u001b[0;34m(\u001b[0m\u001b[0;34m)\u001b[0m\u001b[0;34m\u001b[0m\u001b[0;34m\u001b[0m\u001b[0m\n\u001b[0m\u001b[1;32m   1326\u001b[0m                 \u001b[0;32mif\u001b[0m \u001b[0msuccess\u001b[0m\u001b[0;34m:\u001b[0m\u001b[0;34m\u001b[0m\u001b[0;34m\u001b[0m\u001b[0m\n\u001b[1;32m   1327\u001b[0m                     \u001b[0;32mreturn\u001b[0m \u001b[0mdata\u001b[0m\u001b[0;34m\u001b[0m\u001b[0;34m\u001b[0m\u001b[0m\n",
            "\u001b[0;32m/usr/local/lib/python3.7/dist-packages/torch/utils/data/dataloader.py\u001b[0m in \u001b[0;36m_try_get_data\u001b[0;34m(self, timeout)\u001b[0m\n\u001b[1;32m   1161\u001b[0m         \u001b[0;31m#   (bool: whether successfully get data, any: data if successful else None)\u001b[0m\u001b[0;34m\u001b[0m\u001b[0;34m\u001b[0m\u001b[0;34m\u001b[0m\u001b[0m\n\u001b[1;32m   1162\u001b[0m         \u001b[0;32mtry\u001b[0m\u001b[0;34m:\u001b[0m\u001b[0;34m\u001b[0m\u001b[0;34m\u001b[0m\u001b[0m\n\u001b[0;32m-> 1163\u001b[0;31m             \u001b[0mdata\u001b[0m \u001b[0;34m=\u001b[0m \u001b[0mself\u001b[0m\u001b[0;34m.\u001b[0m\u001b[0m_data_queue\u001b[0m\u001b[0;34m.\u001b[0m\u001b[0mget\u001b[0m\u001b[0;34m(\u001b[0m\u001b[0mtimeout\u001b[0m\u001b[0;34m=\u001b[0m\u001b[0mtimeout\u001b[0m\u001b[0;34m)\u001b[0m\u001b[0;34m\u001b[0m\u001b[0;34m\u001b[0m\u001b[0m\n\u001b[0m\u001b[1;32m   1164\u001b[0m             \u001b[0;32mreturn\u001b[0m \u001b[0;34m(\u001b[0m\u001b[0;32mTrue\u001b[0m\u001b[0;34m,\u001b[0m \u001b[0mdata\u001b[0m\u001b[0;34m)\u001b[0m\u001b[0;34m\u001b[0m\u001b[0;34m\u001b[0m\u001b[0m\n\u001b[1;32m   1165\u001b[0m         \u001b[0;32mexcept\u001b[0m \u001b[0mException\u001b[0m \u001b[0;32mas\u001b[0m \u001b[0me\u001b[0m\u001b[0;34m:\u001b[0m\u001b[0;34m\u001b[0m\u001b[0;34m\u001b[0m\u001b[0m\n",
            "\u001b[0;32m/usr/lib/python3.7/multiprocessing/queues.py\u001b[0m in \u001b[0;36mget\u001b[0;34m(self, block, timeout)\u001b[0m\n\u001b[1;32m    102\u001b[0m                 \u001b[0;32mif\u001b[0m \u001b[0mblock\u001b[0m\u001b[0;34m:\u001b[0m\u001b[0;34m\u001b[0m\u001b[0;34m\u001b[0m\u001b[0m\n\u001b[1;32m    103\u001b[0m                     \u001b[0mtimeout\u001b[0m \u001b[0;34m=\u001b[0m \u001b[0mdeadline\u001b[0m \u001b[0;34m-\u001b[0m \u001b[0mtime\u001b[0m\u001b[0;34m.\u001b[0m\u001b[0mmonotonic\u001b[0m\u001b[0;34m(\u001b[0m\u001b[0;34m)\u001b[0m\u001b[0;34m\u001b[0m\u001b[0;34m\u001b[0m\u001b[0m\n\u001b[0;32m--> 104\u001b[0;31m                     \u001b[0;32mif\u001b[0m \u001b[0;32mnot\u001b[0m \u001b[0mself\u001b[0m\u001b[0;34m.\u001b[0m\u001b[0m_poll\u001b[0m\u001b[0;34m(\u001b[0m\u001b[0mtimeout\u001b[0m\u001b[0;34m)\u001b[0m\u001b[0;34m:\u001b[0m\u001b[0;34m\u001b[0m\u001b[0;34m\u001b[0m\u001b[0m\n\u001b[0m\u001b[1;32m    105\u001b[0m                         \u001b[0;32mraise\u001b[0m \u001b[0mEmpty\u001b[0m\u001b[0;34m\u001b[0m\u001b[0;34m\u001b[0m\u001b[0m\n\u001b[1;32m    106\u001b[0m                 \u001b[0;32melif\u001b[0m \u001b[0;32mnot\u001b[0m \u001b[0mself\u001b[0m\u001b[0;34m.\u001b[0m\u001b[0m_poll\u001b[0m\u001b[0;34m(\u001b[0m\u001b[0;34m)\u001b[0m\u001b[0;34m:\u001b[0m\u001b[0;34m\u001b[0m\u001b[0;34m\u001b[0m\u001b[0m\n",
            "\u001b[0;32m/usr/lib/python3.7/multiprocessing/connection.py\u001b[0m in \u001b[0;36mpoll\u001b[0;34m(self, timeout)\u001b[0m\n\u001b[1;32m    255\u001b[0m         \u001b[0mself\u001b[0m\u001b[0;34m.\u001b[0m\u001b[0m_check_closed\u001b[0m\u001b[0;34m(\u001b[0m\u001b[0;34m)\u001b[0m\u001b[0;34m\u001b[0m\u001b[0;34m\u001b[0m\u001b[0m\n\u001b[1;32m    256\u001b[0m         \u001b[0mself\u001b[0m\u001b[0;34m.\u001b[0m\u001b[0m_check_readable\u001b[0m\u001b[0;34m(\u001b[0m\u001b[0;34m)\u001b[0m\u001b[0;34m\u001b[0m\u001b[0;34m\u001b[0m\u001b[0m\n\u001b[0;32m--> 257\u001b[0;31m         \u001b[0;32mreturn\u001b[0m \u001b[0mself\u001b[0m\u001b[0;34m.\u001b[0m\u001b[0m_poll\u001b[0m\u001b[0;34m(\u001b[0m\u001b[0mtimeout\u001b[0m\u001b[0;34m)\u001b[0m\u001b[0;34m\u001b[0m\u001b[0;34m\u001b[0m\u001b[0m\n\u001b[0m\u001b[1;32m    258\u001b[0m \u001b[0;34m\u001b[0m\u001b[0m\n\u001b[1;32m    259\u001b[0m     \u001b[0;32mdef\u001b[0m \u001b[0m__enter__\u001b[0m\u001b[0;34m(\u001b[0m\u001b[0mself\u001b[0m\u001b[0;34m)\u001b[0m\u001b[0;34m:\u001b[0m\u001b[0;34m\u001b[0m\u001b[0;34m\u001b[0m\u001b[0m\n",
            "\u001b[0;32m/usr/lib/python3.7/multiprocessing/connection.py\u001b[0m in \u001b[0;36m_poll\u001b[0;34m(self, timeout)\u001b[0m\n\u001b[1;32m    412\u001b[0m \u001b[0;34m\u001b[0m\u001b[0m\n\u001b[1;32m    413\u001b[0m     \u001b[0;32mdef\u001b[0m \u001b[0m_poll\u001b[0m\u001b[0;34m(\u001b[0m\u001b[0mself\u001b[0m\u001b[0;34m,\u001b[0m \u001b[0mtimeout\u001b[0m\u001b[0;34m)\u001b[0m\u001b[0;34m:\u001b[0m\u001b[0;34m\u001b[0m\u001b[0;34m\u001b[0m\u001b[0m\n\u001b[0;32m--> 414\u001b[0;31m         \u001b[0mr\u001b[0m \u001b[0;34m=\u001b[0m \u001b[0mwait\u001b[0m\u001b[0;34m(\u001b[0m\u001b[0;34m[\u001b[0m\u001b[0mself\u001b[0m\u001b[0;34m]\u001b[0m\u001b[0;34m,\u001b[0m \u001b[0mtimeout\u001b[0m\u001b[0;34m)\u001b[0m\u001b[0;34m\u001b[0m\u001b[0;34m\u001b[0m\u001b[0m\n\u001b[0m\u001b[1;32m    415\u001b[0m         \u001b[0;32mreturn\u001b[0m \u001b[0mbool\u001b[0m\u001b[0;34m(\u001b[0m\u001b[0mr\u001b[0m\u001b[0;34m)\u001b[0m\u001b[0;34m\u001b[0m\u001b[0;34m\u001b[0m\u001b[0m\n\u001b[1;32m    416\u001b[0m \u001b[0;34m\u001b[0m\u001b[0m\n",
            "\u001b[0;32m/usr/lib/python3.7/multiprocessing/connection.py\u001b[0m in \u001b[0;36mwait\u001b[0;34m(object_list, timeout)\u001b[0m\n\u001b[1;32m    919\u001b[0m \u001b[0;34m\u001b[0m\u001b[0m\n\u001b[1;32m    920\u001b[0m             \u001b[0;32mwhile\u001b[0m \u001b[0;32mTrue\u001b[0m\u001b[0;34m:\u001b[0m\u001b[0;34m\u001b[0m\u001b[0;34m\u001b[0m\u001b[0m\n\u001b[0;32m--> 921\u001b[0;31m                 \u001b[0mready\u001b[0m \u001b[0;34m=\u001b[0m \u001b[0mselector\u001b[0m\u001b[0;34m.\u001b[0m\u001b[0mselect\u001b[0m\u001b[0;34m(\u001b[0m\u001b[0mtimeout\u001b[0m\u001b[0;34m)\u001b[0m\u001b[0;34m\u001b[0m\u001b[0;34m\u001b[0m\u001b[0m\n\u001b[0m\u001b[1;32m    922\u001b[0m                 \u001b[0;32mif\u001b[0m \u001b[0mready\u001b[0m\u001b[0;34m:\u001b[0m\u001b[0;34m\u001b[0m\u001b[0;34m\u001b[0m\u001b[0m\n\u001b[1;32m    923\u001b[0m                     \u001b[0;32mreturn\u001b[0m \u001b[0;34m[\u001b[0m\u001b[0mkey\u001b[0m\u001b[0;34m.\u001b[0m\u001b[0mfileobj\u001b[0m \u001b[0;32mfor\u001b[0m \u001b[0;34m(\u001b[0m\u001b[0mkey\u001b[0m\u001b[0;34m,\u001b[0m \u001b[0mevents\u001b[0m\u001b[0;34m)\u001b[0m \u001b[0;32min\u001b[0m \u001b[0mready\u001b[0m\u001b[0;34m]\u001b[0m\u001b[0;34m\u001b[0m\u001b[0;34m\u001b[0m\u001b[0m\n",
            "\u001b[0;32m/usr/lib/python3.7/selectors.py\u001b[0m in \u001b[0;36mselect\u001b[0;34m(self, timeout)\u001b[0m\n\u001b[1;32m    413\u001b[0m         \u001b[0mready\u001b[0m \u001b[0;34m=\u001b[0m \u001b[0;34m[\u001b[0m\u001b[0;34m]\u001b[0m\u001b[0;34m\u001b[0m\u001b[0;34m\u001b[0m\u001b[0m\n\u001b[1;32m    414\u001b[0m         \u001b[0;32mtry\u001b[0m\u001b[0;34m:\u001b[0m\u001b[0;34m\u001b[0m\u001b[0;34m\u001b[0m\u001b[0m\n\u001b[0;32m--> 415\u001b[0;31m             \u001b[0mfd_event_list\u001b[0m \u001b[0;34m=\u001b[0m \u001b[0mself\u001b[0m\u001b[0;34m.\u001b[0m\u001b[0m_selector\u001b[0m\u001b[0;34m.\u001b[0m\u001b[0mpoll\u001b[0m\u001b[0;34m(\u001b[0m\u001b[0mtimeout\u001b[0m\u001b[0;34m)\u001b[0m\u001b[0;34m\u001b[0m\u001b[0;34m\u001b[0m\u001b[0m\n\u001b[0m\u001b[1;32m    416\u001b[0m         \u001b[0;32mexcept\u001b[0m \u001b[0mInterruptedError\u001b[0m\u001b[0;34m:\u001b[0m\u001b[0;34m\u001b[0m\u001b[0;34m\u001b[0m\u001b[0m\n\u001b[1;32m    417\u001b[0m             \u001b[0;32mreturn\u001b[0m \u001b[0mready\u001b[0m\u001b[0;34m\u001b[0m\u001b[0;34m\u001b[0m\u001b[0m\n",
            "\u001b[0;31mKeyboardInterrupt\u001b[0m: "
          ]
        }
      ]
    },
    {
      "cell_type": "code",
      "source": [
        "Resnet_1.fc.weight"
      ],
      "metadata": {
        "colab": {
          "base_uri": "https://localhost:8080/"
        },
        "id": "Vj1Pa_ClvlLY",
        "outputId": "8964f731-63a5-461b-8956-b67e1e3cd1a4"
      },
      "execution_count": null,
      "outputs": [
        {
          "output_type": "execute_result",
          "data": {
            "text/plain": [
              "Parameter containing:\n",
              "tensor([[-0.0490, -0.0292, -0.0987,  ..., -0.0993,  0.0062, -0.0621],\n",
              "        [ 0.0179, -0.0901, -0.0228,  ...,  0.0100,  0.0161, -0.0381],\n",
              "        [ 0.0768, -0.1511, -0.0246,  ..., -0.0500, -0.0344,  0.1243],\n",
              "        ...,\n",
              "        [ 0.2217,  0.0180, -0.0203,  ..., -0.0194, -0.0884,  0.0841],\n",
              "        [-0.0976, -0.0581,  0.0269,  ..., -0.1191, -0.0131,  0.0872],\n",
              "        [-0.0120,  0.0355,  0.0565,  ..., -0.1414,  0.0689, -0.0025]],\n",
              "       device='cuda:0', requires_grad=True)"
            ]
          },
          "metadata": {},
          "execution_count": 92
        }
      ]
    },
    {
      "cell_type": "code",
      "source": [
        "## 성능 확인\n",
        "plt.plot(range(num_epochs), seq_train_loss, label=\"Train loss\")\n",
        "plt.plot(range(num_epochs), seq_test_loss, label=\"Test loss\")\n",
        "plt.legend()\n",
        "plt.grid()\n",
        "plt.xlabel('Epoch')\n",
        "plt.ylabel('Loss')\n",
        "plt.show()"
      ],
      "metadata": {
        "id": "1h1OKNAxrzOR"
      },
      "execution_count": null,
      "outputs": []
    },
    {
      "cell_type": "code",
      "source": [
        "## 성능 확인\n",
        "plt.plot(range(num_epochs), seq_train_acc['Resnet_1'], label=\"Train Accuracy\")\n",
        "plt.plot(range(num_epochs), seq_test_acc['Resnet_1'], label=\"Test Accuracy\")\n",
        "plt.legend()\n",
        "plt.grid()\n",
        "plt.xlabel('Epoch')\n",
        "plt.ylabel('Loss')\n",
        "plt.show()"
      ],
      "metadata": {
        "id": "Njqt0DhmsLq9"
      },
      "execution_count": null,
      "outputs": []
    },
    {
      "cell_type": "markdown",
      "source": [
        "##2.3. Model2 "
      ],
      "metadata": {
        "id": "dBz9Yfn1MEHl"
      }
    },
    {
      "cell_type": "markdown",
      "source": [
        "Model2는 fc layer와 conv4 (layer4)를 fine-tunning 할 것"
      ],
      "metadata": {
        "id": "zA4pMZ7HtyNt"
      }
    },
    {
      "cell_type": "code",
      "source": [
        "## 해당되는 layer 제외하고 다른 parameter 얼리기\n",
        "for name,child in Resnet_2.named_children():\n",
        "  for param in child.parameters():\n",
        "    if name != 'fc' and name != 'layer4':   # 'fc', 'layer4' 이름의 layer만 제외\n",
        "      param.requires_grad = False # 제외된 layer 이외 모든 layer의 parameter 얼리기"
      ],
      "metadata": {
        "id": "1Y389BJTqeXj"
      },
      "execution_count": null,
      "outputs": []
    },
    {
      "cell_type": "code",
      "source": [
        "## 지정한 device에 학습시킬 모델 얹어주기\n",
        "Resnet_2.to(device)\n",
        "Resnet_2"
      ],
      "metadata": {
        "id": "YZK6ao_TuFAu"
      },
      "execution_count": null,
      "outputs": []
    },
    {
      "cell_type": "code",
      "source": [
        "## Learning Rate Scheduler 설정 (선택사항)\n",
        "#exp_lr_scheduler =optim.lr_scheduler.StepLR(optimizer, step_size=10, gamma=0.1)"
      ],
      "metadata": {
        "id": "YLEdA5f7wbLO"
      },
      "execution_count": null,
      "outputs": []
    },
    {
      "cell_type": "code",
      "source": [
        "seq_train_loss = []\n",
        "seq_test_loss = []\n",
        "seq_train_acc = []\n",
        "seq_test_acc = []"
      ],
      "metadata": {
        "id": "7xguHIFALkPL"
      },
      "execution_count": null,
      "outputs": []
    },
    {
      "cell_type": "code",
      "source": [
        "for epoch in range(0,num_epochs):\n",
        "  train(Resnet_2,epoch,optimizer,criterion)\n",
        "  test(Resnet_2,epoch,criterion)"
      ],
      "metadata": {
        "id": "pp5qvxeHwiqB"
      },
      "execution_count": null,
      "outputs": []
    },
    {
      "cell_type": "code",
      "source": [
        "## 성능 확인\n",
        "plt.plot(range(num_epochs), seq_train_loss, label=\"Train loss\")\n",
        "plt.plot(range(num_epochs), seq_test_loss, label=\"Test loss\")\n",
        "plt.legend()\n",
        "plt.grid()\n",
        "plt.xlabel('Epoch')\n",
        "plt.ylabel('Loss')\n",
        "plt.show()"
      ],
      "metadata": {
        "id": "8fKskxgpws_P"
      },
      "execution_count": null,
      "outputs": []
    },
    {
      "cell_type": "code",
      "source": [
        "## 성능 확인\n",
        "plt.plot(range(num_epochs), seq_train_acc['Resnet_2'], label=\"Train Accuracy\")\n",
        "plt.plot(range(num_epochs), seq_test_acc['Resnet_2'], label=\"Test Accuracy\")\n",
        "plt.legend()\n",
        "plt.grid()\n",
        "plt.xlabel('Epoch')\n",
        "plt.ylabel('Loss')\n",
        "plt.show()"
      ],
      "metadata": {
        "id": "16rPnT_Dwt6p"
      },
      "execution_count": null,
      "outputs": []
    },
    {
      "cell_type": "markdown",
      "source": [
        "##2.4. Model3"
      ],
      "metadata": {
        "id": "Ch4NxmM5aZTh"
      }
    },
    {
      "cell_type": "markdown",
      "source": [
        "Model3는 마지막에 fc layer를 추가할 것임"
      ],
      "metadata": {
        "id": "eM76RQWdNhgu"
      }
    },
    {
      "cell_type": "code",
      "source": [
        "## Sequential을 이용해 fc layer를 새롭게 구성 (2개를 덧붙임)\n",
        "new_FC = nn.Sequential(\n",
        " nn.Linear(in_features = num_ftrs, out_features = num_ftrs),\n",
        " nn.ReLU(),\n",
        " nn.Linear(in_features = num_ftrs, out_features = num_ftrs),\n",
        " nn.ReLU(),\n",
        " nn.Linear(in_features = num_ftrs, out_features = len(class_names))\n",
        ")\n",
        "Resnet_3.fc = new_FC"
      ],
      "metadata": {
        "id": "f2R6WMQaNvMu"
      },
      "execution_count": null,
      "outputs": []
    },
    {
      "cell_type": "code",
      "source": [
        "## 해당되는 layer 제외하고 다른 parameter 얼리기\n",
        "for name,child in Resnet_3.named_children():\n",
        "  for param in child.parameters():\n",
        "    if name != 'fc':   # 'fc' 이름의 layer만 제외\n",
        "      param.requires_grad = False # 제외된 layer 이외 모든 layer의 parameter 얼리기"
      ],
      "metadata": {
        "id": "tcqy-MImqewE"
      },
      "execution_count": null,
      "outputs": []
    },
    {
      "cell_type": "code",
      "source": [
        "## 지정한 device에 학습시킬 모델 얹어주기\n",
        "Resnet_3.to(device)\n",
        "Resnet_3"
      ],
      "metadata": {
        "colab": {
          "base_uri": "https://localhost:8080/"
        },
        "id": "0IuJSEX-wP4B",
        "outputId": "e663deac-f466-4a0e-cb67-f89e335bfcc9"
      },
      "execution_count": null,
      "outputs": [
        {
          "output_type": "execute_result",
          "data": {
            "text/plain": [
              "ResNet(\n",
              "  (conv1): Conv2d(3, 64, kernel_size=(7, 7), stride=(2, 2), padding=(3, 3), bias=False)\n",
              "  (bn1): BatchNorm2d(64, eps=1e-05, momentum=0.1, affine=True, track_running_stats=True)\n",
              "  (relu): ReLU(inplace=True)\n",
              "  (maxpool): MaxPool2d(kernel_size=3, stride=2, padding=1, dilation=1, ceil_mode=False)\n",
              "  (layer1): Sequential(\n",
              "    (0): BasicBlock(\n",
              "      (conv1): Conv2d(64, 64, kernel_size=(3, 3), stride=(1, 1), padding=(1, 1), bias=False)\n",
              "      (bn1): BatchNorm2d(64, eps=1e-05, momentum=0.1, affine=True, track_running_stats=True)\n",
              "      (relu): ReLU(inplace=True)\n",
              "      (conv2): Conv2d(64, 64, kernel_size=(3, 3), stride=(1, 1), padding=(1, 1), bias=False)\n",
              "      (bn2): BatchNorm2d(64, eps=1e-05, momentum=0.1, affine=True, track_running_stats=True)\n",
              "    )\n",
              "    (1): BasicBlock(\n",
              "      (conv1): Conv2d(64, 64, kernel_size=(3, 3), stride=(1, 1), padding=(1, 1), bias=False)\n",
              "      (bn1): BatchNorm2d(64, eps=1e-05, momentum=0.1, affine=True, track_running_stats=True)\n",
              "      (relu): ReLU(inplace=True)\n",
              "      (conv2): Conv2d(64, 64, kernel_size=(3, 3), stride=(1, 1), padding=(1, 1), bias=False)\n",
              "      (bn2): BatchNorm2d(64, eps=1e-05, momentum=0.1, affine=True, track_running_stats=True)\n",
              "    )\n",
              "  )\n",
              "  (layer2): Sequential(\n",
              "    (0): BasicBlock(\n",
              "      (conv1): Conv2d(64, 128, kernel_size=(3, 3), stride=(2, 2), padding=(1, 1), bias=False)\n",
              "      (bn1): BatchNorm2d(128, eps=1e-05, momentum=0.1, affine=True, track_running_stats=True)\n",
              "      (relu): ReLU(inplace=True)\n",
              "      (conv2): Conv2d(128, 128, kernel_size=(3, 3), stride=(1, 1), padding=(1, 1), bias=False)\n",
              "      (bn2): BatchNorm2d(128, eps=1e-05, momentum=0.1, affine=True, track_running_stats=True)\n",
              "      (downsample): Sequential(\n",
              "        (0): Conv2d(64, 128, kernel_size=(1, 1), stride=(2, 2), bias=False)\n",
              "        (1): BatchNorm2d(128, eps=1e-05, momentum=0.1, affine=True, track_running_stats=True)\n",
              "      )\n",
              "    )\n",
              "    (1): BasicBlock(\n",
              "      (conv1): Conv2d(128, 128, kernel_size=(3, 3), stride=(1, 1), padding=(1, 1), bias=False)\n",
              "      (bn1): BatchNorm2d(128, eps=1e-05, momentum=0.1, affine=True, track_running_stats=True)\n",
              "      (relu): ReLU(inplace=True)\n",
              "      (conv2): Conv2d(128, 128, kernel_size=(3, 3), stride=(1, 1), padding=(1, 1), bias=False)\n",
              "      (bn2): BatchNorm2d(128, eps=1e-05, momentum=0.1, affine=True, track_running_stats=True)\n",
              "    )\n",
              "  )\n",
              "  (layer3): Sequential(\n",
              "    (0): BasicBlock(\n",
              "      (conv1): Conv2d(128, 256, kernel_size=(3, 3), stride=(2, 2), padding=(1, 1), bias=False)\n",
              "      (bn1): BatchNorm2d(256, eps=1e-05, momentum=0.1, affine=True, track_running_stats=True)\n",
              "      (relu): ReLU(inplace=True)\n",
              "      (conv2): Conv2d(256, 256, kernel_size=(3, 3), stride=(1, 1), padding=(1, 1), bias=False)\n",
              "      (bn2): BatchNorm2d(256, eps=1e-05, momentum=0.1, affine=True, track_running_stats=True)\n",
              "      (downsample): Sequential(\n",
              "        (0): Conv2d(128, 256, kernel_size=(1, 1), stride=(2, 2), bias=False)\n",
              "        (1): BatchNorm2d(256, eps=1e-05, momentum=0.1, affine=True, track_running_stats=True)\n",
              "      )\n",
              "    )\n",
              "    (1): BasicBlock(\n",
              "      (conv1): Conv2d(256, 256, kernel_size=(3, 3), stride=(1, 1), padding=(1, 1), bias=False)\n",
              "      (bn1): BatchNorm2d(256, eps=1e-05, momentum=0.1, affine=True, track_running_stats=True)\n",
              "      (relu): ReLU(inplace=True)\n",
              "      (conv2): Conv2d(256, 256, kernel_size=(3, 3), stride=(1, 1), padding=(1, 1), bias=False)\n",
              "      (bn2): BatchNorm2d(256, eps=1e-05, momentum=0.1, affine=True, track_running_stats=True)\n",
              "    )\n",
              "  )\n",
              "  (layer4): Sequential(\n",
              "    (0): BasicBlock(\n",
              "      (conv1): Conv2d(256, 512, kernel_size=(3, 3), stride=(2, 2), padding=(1, 1), bias=False)\n",
              "      (bn1): BatchNorm2d(512, eps=1e-05, momentum=0.1, affine=True, track_running_stats=True)\n",
              "      (relu): ReLU(inplace=True)\n",
              "      (conv2): Conv2d(512, 512, kernel_size=(3, 3), stride=(1, 1), padding=(1, 1), bias=False)\n",
              "      (bn2): BatchNorm2d(512, eps=1e-05, momentum=0.1, affine=True, track_running_stats=True)\n",
              "      (downsample): Sequential(\n",
              "        (0): Conv2d(256, 512, kernel_size=(1, 1), stride=(2, 2), bias=False)\n",
              "        (1): BatchNorm2d(512, eps=1e-05, momentum=0.1, affine=True, track_running_stats=True)\n",
              "      )\n",
              "    )\n",
              "    (1): BasicBlock(\n",
              "      (conv1): Conv2d(512, 512, kernel_size=(3, 3), stride=(1, 1), padding=(1, 1), bias=False)\n",
              "      (bn1): BatchNorm2d(512, eps=1e-05, momentum=0.1, affine=True, track_running_stats=True)\n",
              "      (relu): ReLU(inplace=True)\n",
              "      (conv2): Conv2d(512, 512, kernel_size=(3, 3), stride=(1, 1), padding=(1, 1), bias=False)\n",
              "      (bn2): BatchNorm2d(512, eps=1e-05, momentum=0.1, affine=True, track_running_stats=True)\n",
              "    )\n",
              "  )\n",
              "  (avgpool): AdaptiveAvgPool2d(output_size=(1, 1))\n",
              "  (fc): Sequential(\n",
              "    (0): Linear(in_features=512, out_features=512, bias=True)\n",
              "    (1): ReLU()\n",
              "    (2): Linear(in_features=512, out_features=512, bias=True)\n",
              "    (3): ReLU()\n",
              "    (4): Linear(in_features=512, out_features=100, bias=True)\n",
              "  )\n",
              ")"
            ]
          },
          "metadata": {},
          "execution_count": 105
        }
      ]
    },
    {
      "cell_type": "code",
      "source": [
        "## Cost Function과 Optimizer 설정\n",
        "criterion = nn.CrossEntropyLoss()\n",
        "optimizer = optim.Adam(Resnet_2.parameters(), lr=0.001)"
      ],
      "metadata": {
        "id": "0pW57BXywVFS"
      },
      "execution_count": null,
      "outputs": []
    },
    {
      "cell_type": "code",
      "source": [
        "## Learning Rate Scheduler 설정 (선택사항)\n",
        "#exp_lr_scheduler =optim.lr_scheduler.StepLR(optimizer, step_size=10, gamma=0.1)"
      ],
      "metadata": {
        "id": "4lx5f9w4wW7O"
      },
      "execution_count": null,
      "outputs": []
    },
    {
      "cell_type": "code",
      "source": [
        "seq_train_loss = []\n",
        "seq_test_loss = []\n",
        "seq_train_acc = []\n",
        "seq_test_acc = []"
      ],
      "metadata": {
        "id": "jYnwxOIJLuS7"
      },
      "execution_count": null,
      "outputs": []
    },
    {
      "cell_type": "code",
      "source": [
        "for epoch in range(0,num_epochs):\n",
        "  train(Resnet_3,epoch,optimizer,criterion)\n",
        "  test(Resnet_3,epoch,criterion)"
      ],
      "metadata": {
        "id": "I_G1vh-qwkx7"
      },
      "execution_count": null,
      "outputs": []
    },
    {
      "cell_type": "code",
      "source": [
        "## 성능 확인\n",
        "plt.plot(range(num_epochs), seq_train_acc['Resnet_3'], label=\"Train Accuracy\")\n",
        "plt.plot(range(num_epochs), seq_test_acc['Resnet_3'], label=\"Test Accuracy\")\n",
        "plt.legend()\n",
        "plt.grid()\n",
        "plt.xlabel('Epoch')\n",
        "plt.ylabel('Loss')\n",
        "plt.show()"
      ],
      "metadata": {
        "id": "56ZKI5jTw0I5"
      },
      "execution_count": null,
      "outputs": []
    },
    {
      "cell_type": "code",
      "source": [
        "## 성능 확인\n",
        "plt.plot(range(num_epochs), seq_train_acc['Resnet_3'], label=\"Train Accuracy\")\n",
        "plt.plot(range(num_epochs), seq_test_acc['Resnet_3'], label=\"Test Accuracy\")\n",
        "plt.legend()\n",
        "plt.grid()\n",
        "plt.xlabel('Epoch')\n",
        "plt.ylabel('Loss')\n",
        "plt.show()"
      ],
      "metadata": {
        "id": "wKTVs38qw0B5"
      },
      "execution_count": null,
      "outputs": []
    },
    {
      "cell_type": "markdown",
      "source": [
        "#3. Model Saving"
      ],
      "metadata": {
        "id": "QkTVC3mgH965"
      }
    },
    {
      "cell_type": "markdown",
      "source": [
        "두 가지 방법으로 저장을 할 것\n",
        "\n",
        "1. 학습이 끝난 모델을 저장할 때\n",
        "2. 학습 도중에 모델을 저장할 때 "
      ],
      "metadata": {
        "id": "z1LHQxCeyxwf"
      }
    },
    {
      "cell_type": "markdown",
      "source": [
        "###(1) Save the Model (after training)"
      ],
      "metadata": {
        "id": "gOVzhASPy7d5"
      }
    },
    {
      "cell_type": "code",
      "source": [
        "## 저장할 경로 설정\n",
        "save_path = '/content/drive/MyDrive/save'"
      ],
      "metadata": {
        "id": "rE4wz6xsw7vV"
      },
      "execution_count": null,
      "outputs": []
    },
    {
      "cell_type": "code",
      "source": [
        "## 모델 저장\n",
        "torch.save(Resnet_1.state_dict(), save_path)"
      ],
      "metadata": {
        "id": "i_AQgG45Mtth"
      },
      "execution_count": null,
      "outputs": []
    },
    {
      "cell_type": "markdown",
      "source": [
        "###(2) Save the Model (on training)"
      ],
      "metadata": {
        "id": "pS7VCkCqzDbr"
      }
    },
    {
      "cell_type": "code",
      "source": [
        "## 모델 저장\n",
        "## 해당 코드는 train코드 내부에 들어가 있어야 함\n",
        "## 설명을 위해 이 부분만 따로 빼놓음\n",
        "'''\n",
        "if (batch_idx % save_every == 0): # 얼마만큼의 iteration마다 저장할 것인지를 설정\n",
        "            directory = os.path.join(save_path, model) # 경로 설정\n",
        "            if not os.path.exists(directory): # 경로가 없다면 새로 만듦\n",
        "                os.makedirs(directory)\n",
        "            torch.save({\n",
        "                # 학습 중간에 저장하려 하는 모든 것들을 dict로 서술\n",
        "                'epoch': epoch \n",
        "                'iteration': batch_idx,\n",
        "                'model': model.state_dict()\n",
        "                'opt': optimizer.state_dict(),\n",
        "                'loss': loss,\n",
        "                'sch': scheduler.state_dict()\n",
        "            }, os.path.join(directory, '{}ep_{}iter_{}.tar'.format(epoch,batch_idx,'checkpoint')))\n",
        "            # 저장할 이름 바로 위에서 설정\n",
        "            # 본인이 알아보기 편한 이름으로 설정하면 됨\n",
        "'''"
      ],
      "metadata": {
        "id": "jLHT8esJzH0Q"
      },
      "execution_count": null,
      "outputs": []
    },
    {
      "cell_type": "markdown",
      "source": [
        "#4. Model Load"
      ],
      "metadata": {
        "id": "aYdMQaxIIAhW"
      }
    },
    {
      "cell_type": "code",
      "source": [
        "## Load 할 모델에 대한 정보 입력\n",
        "checkpoint_ep = 1\n",
        "checkpoint_iter = 50\n",
        "\n",
        "model_name = 'Resnet'\n",
        "loadFilename = os.path.join(save_path, model_name,\n",
        "                          '{}ep_{}iter_checkpoint.tar'.format(checkpoint_ep-1,checkpoint_iter))\n",
        "\n",
        "# loadFilename이 있을 때 모델 불러오기\n",
        "if loadFilename:\n",
        "    # 모델을 학습할 때와 같은 기기에서 불러오는 경우\n",
        "    checkpoint = torch.load(loadFilename)\n",
        "    # GPU에서 학습한 모델을 CPU로 불러오는 경우\n",
        "    #checkpoint = torch.load(loadFilename, map_location=torch.device('cpu'))\n",
        "    optimizer_sd = checkpoint['opt']\n",
        "    model_sd = checkpoint['model']\n",
        "    #scheduler_sd = checkpoint['sch']\n",
        "    epoch_sd = checkpoint['epoch']\n",
        "    loss_sd = checkpoint['loss']\n",
        "\n",
        "# Model 및 Optimizer 초기화 \n",
        "model = copy.deepcopy(Resnet_1)\n",
        "optimizer = optim.Adam(model.parameters(), lr=0.001)\n",
        "\n",
        "# 불러온 값들로 변경\n",
        "model.load_state_dict(model_sd) # 불러온 모델로 변경\n",
        "optimizer.load_state_dict(optimizer_sd) # 불러온 optimizer로 변경\n",
        "epoch = checkpoint['epoch'] # 불러온 epoch 설정 \n",
        "loss = checkpoint['loss'] # 불러온 loss 설정\n",
        "\n",
        "# 원하는 mode로 진행\n",
        "model.eval()\n",
        "# - or -\n",
        "#model.train()"
      ],
      "metadata": {
        "colab": {
          "base_uri": "https://localhost:8080/"
        },
        "id": "3HsBrvUc5wRJ",
        "outputId": "3ab9bed6-96c6-40e4-e6e1-357d683da026"
      },
      "execution_count": null,
      "outputs": [
        {
          "output_type": "execute_result",
          "data": {
            "text/plain": [
              "ResNet(\n",
              "  (conv1): Conv2d(3, 64, kernel_size=(7, 7), stride=(2, 2), padding=(3, 3), bias=False)\n",
              "  (bn1): BatchNorm2d(64, eps=1e-05, momentum=0.1, affine=True, track_running_stats=True)\n",
              "  (relu): ReLU(inplace=True)\n",
              "  (maxpool): MaxPool2d(kernel_size=3, stride=2, padding=1, dilation=1, ceil_mode=False)\n",
              "  (layer1): Sequential(\n",
              "    (0): BasicBlock(\n",
              "      (conv1): Conv2d(64, 64, kernel_size=(3, 3), stride=(1, 1), padding=(1, 1), bias=False)\n",
              "      (bn1): BatchNorm2d(64, eps=1e-05, momentum=0.1, affine=True, track_running_stats=True)\n",
              "      (relu): ReLU(inplace=True)\n",
              "      (conv2): Conv2d(64, 64, kernel_size=(3, 3), stride=(1, 1), padding=(1, 1), bias=False)\n",
              "      (bn2): BatchNorm2d(64, eps=1e-05, momentum=0.1, affine=True, track_running_stats=True)\n",
              "    )\n",
              "    (1): BasicBlock(\n",
              "      (conv1): Conv2d(64, 64, kernel_size=(3, 3), stride=(1, 1), padding=(1, 1), bias=False)\n",
              "      (bn1): BatchNorm2d(64, eps=1e-05, momentum=0.1, affine=True, track_running_stats=True)\n",
              "      (relu): ReLU(inplace=True)\n",
              "      (conv2): Conv2d(64, 64, kernel_size=(3, 3), stride=(1, 1), padding=(1, 1), bias=False)\n",
              "      (bn2): BatchNorm2d(64, eps=1e-05, momentum=0.1, affine=True, track_running_stats=True)\n",
              "    )\n",
              "  )\n",
              "  (layer2): Sequential(\n",
              "    (0): BasicBlock(\n",
              "      (conv1): Conv2d(64, 128, kernel_size=(3, 3), stride=(2, 2), padding=(1, 1), bias=False)\n",
              "      (bn1): BatchNorm2d(128, eps=1e-05, momentum=0.1, affine=True, track_running_stats=True)\n",
              "      (relu): ReLU(inplace=True)\n",
              "      (conv2): Conv2d(128, 128, kernel_size=(3, 3), stride=(1, 1), padding=(1, 1), bias=False)\n",
              "      (bn2): BatchNorm2d(128, eps=1e-05, momentum=0.1, affine=True, track_running_stats=True)\n",
              "      (downsample): Sequential(\n",
              "        (0): Conv2d(64, 128, kernel_size=(1, 1), stride=(2, 2), bias=False)\n",
              "        (1): BatchNorm2d(128, eps=1e-05, momentum=0.1, affine=True, track_running_stats=True)\n",
              "      )\n",
              "    )\n",
              "    (1): BasicBlock(\n",
              "      (conv1): Conv2d(128, 128, kernel_size=(3, 3), stride=(1, 1), padding=(1, 1), bias=False)\n",
              "      (bn1): BatchNorm2d(128, eps=1e-05, momentum=0.1, affine=True, track_running_stats=True)\n",
              "      (relu): ReLU(inplace=True)\n",
              "      (conv2): Conv2d(128, 128, kernel_size=(3, 3), stride=(1, 1), padding=(1, 1), bias=False)\n",
              "      (bn2): BatchNorm2d(128, eps=1e-05, momentum=0.1, affine=True, track_running_stats=True)\n",
              "    )\n",
              "  )\n",
              "  (layer3): Sequential(\n",
              "    (0): BasicBlock(\n",
              "      (conv1): Conv2d(128, 256, kernel_size=(3, 3), stride=(2, 2), padding=(1, 1), bias=False)\n",
              "      (bn1): BatchNorm2d(256, eps=1e-05, momentum=0.1, affine=True, track_running_stats=True)\n",
              "      (relu): ReLU(inplace=True)\n",
              "      (conv2): Conv2d(256, 256, kernel_size=(3, 3), stride=(1, 1), padding=(1, 1), bias=False)\n",
              "      (bn2): BatchNorm2d(256, eps=1e-05, momentum=0.1, affine=True, track_running_stats=True)\n",
              "      (downsample): Sequential(\n",
              "        (0): Conv2d(128, 256, kernel_size=(1, 1), stride=(2, 2), bias=False)\n",
              "        (1): BatchNorm2d(256, eps=1e-05, momentum=0.1, affine=True, track_running_stats=True)\n",
              "      )\n",
              "    )\n",
              "    (1): BasicBlock(\n",
              "      (conv1): Conv2d(256, 256, kernel_size=(3, 3), stride=(1, 1), padding=(1, 1), bias=False)\n",
              "      (bn1): BatchNorm2d(256, eps=1e-05, momentum=0.1, affine=True, track_running_stats=True)\n",
              "      (relu): ReLU(inplace=True)\n",
              "      (conv2): Conv2d(256, 256, kernel_size=(3, 3), stride=(1, 1), padding=(1, 1), bias=False)\n",
              "      (bn2): BatchNorm2d(256, eps=1e-05, momentum=0.1, affine=True, track_running_stats=True)\n",
              "    )\n",
              "  )\n",
              "  (layer4): Sequential(\n",
              "    (0): BasicBlock(\n",
              "      (conv1): Conv2d(256, 512, kernel_size=(3, 3), stride=(2, 2), padding=(1, 1), bias=False)\n",
              "      (bn1): BatchNorm2d(512, eps=1e-05, momentum=0.1, affine=True, track_running_stats=True)\n",
              "      (relu): ReLU(inplace=True)\n",
              "      (conv2): Conv2d(512, 512, kernel_size=(3, 3), stride=(1, 1), padding=(1, 1), bias=False)\n",
              "      (bn2): BatchNorm2d(512, eps=1e-05, momentum=0.1, affine=True, track_running_stats=True)\n",
              "      (downsample): Sequential(\n",
              "        (0): Conv2d(256, 512, kernel_size=(1, 1), stride=(2, 2), bias=False)\n",
              "        (1): BatchNorm2d(512, eps=1e-05, momentum=0.1, affine=True, track_running_stats=True)\n",
              "      )\n",
              "    )\n",
              "    (1): BasicBlock(\n",
              "      (conv1): Conv2d(512, 512, kernel_size=(3, 3), stride=(1, 1), padding=(1, 1), bias=False)\n",
              "      (bn1): BatchNorm2d(512, eps=1e-05, momentum=0.1, affine=True, track_running_stats=True)\n",
              "      (relu): ReLU(inplace=True)\n",
              "      (conv2): Conv2d(512, 512, kernel_size=(3, 3), stride=(1, 1), padding=(1, 1), bias=False)\n",
              "      (bn2): BatchNorm2d(512, eps=1e-05, momentum=0.1, affine=True, track_running_stats=True)\n",
              "    )\n",
              "  )\n",
              "  (avgpool): AdaptiveAvgPool2d(output_size=(1, 1))\n",
              "  (fc): Linear(in_features=512, out_features=100, bias=True)\n",
              ")"
            ]
          },
          "metadata": {},
          "execution_count": 95
        }
      ]
    },
    {
      "cell_type": "code",
      "source": [
        "# 50번째 iter에서 학습을 멈추고 저장 후 불러옴\n",
        "model.fc.weight"
      ],
      "metadata": {
        "colab": {
          "base_uri": "https://localhost:8080/"
        },
        "id": "G6qpR9295wHl",
        "outputId": "2e44725d-24a4-4489-8ecc-be4f6d89d7de"
      },
      "execution_count": null,
      "outputs": [
        {
          "output_type": "execute_result",
          "data": {
            "text/plain": [
              "Parameter containing:\n",
              "tensor([[-0.0490, -0.0292, -0.0987,  ..., -0.0993,  0.0062, -0.0621],\n",
              "        [ 0.0179, -0.0901, -0.0228,  ...,  0.0100,  0.0161, -0.0381],\n",
              "        [ 0.0768, -0.1511, -0.0246,  ..., -0.0500, -0.0344,  0.1243],\n",
              "        ...,\n",
              "        [ 0.2217,  0.0180, -0.0203,  ..., -0.0194, -0.0884,  0.0841],\n",
              "        [-0.0976, -0.0581,  0.0269,  ..., -0.1191, -0.0131,  0.0872],\n",
              "        [-0.0120,  0.0355,  0.0565,  ..., -0.1414,  0.0689, -0.0025]],\n",
              "       device='cuda:0', requires_grad=True)"
            ]
          },
          "metadata": {},
          "execution_count": 96
        }
      ]
    },
    {
      "cell_type": "code",
      "source": [
        "# 50번째 iter에서 멈춘 학습 불러온 것과 동일함을 알 수 있음\n",
        "Resnet_1.fc.weight"
      ],
      "metadata": {
        "colab": {
          "base_uri": "https://localhost:8080/"
        },
        "id": "WTFcVRYjJCYE",
        "outputId": "7a446e16-8f5e-4a77-a29f-b030f54cdcbf"
      },
      "execution_count": null,
      "outputs": [
        {
          "output_type": "execute_result",
          "data": {
            "text/plain": [
              "Parameter containing:\n",
              "tensor([[-0.0490, -0.0292, -0.0987,  ..., -0.0993,  0.0062, -0.0621],\n",
              "        [ 0.0179, -0.0901, -0.0228,  ...,  0.0100,  0.0161, -0.0381],\n",
              "        [ 0.0768, -0.1511, -0.0246,  ..., -0.0500, -0.0344,  0.1243],\n",
              "        ...,\n",
              "        [ 0.2217,  0.0180, -0.0203,  ..., -0.0194, -0.0884,  0.0841],\n",
              "        [-0.0976, -0.0581,  0.0269,  ..., -0.1191, -0.0131,  0.0872],\n",
              "        [-0.0120,  0.0355,  0.0565,  ..., -0.1414,  0.0689, -0.0025]],\n",
              "       device='cuda:0', requires_grad=True)"
            ]
          },
          "metadata": {},
          "execution_count": 97
        }
      ]
    },
    {
      "cell_type": "code",
      "source": [],
      "metadata": {
        "id": "9TXqyxhBL9Sj"
      },
      "execution_count": null,
      "outputs": []
    }
  ]
}