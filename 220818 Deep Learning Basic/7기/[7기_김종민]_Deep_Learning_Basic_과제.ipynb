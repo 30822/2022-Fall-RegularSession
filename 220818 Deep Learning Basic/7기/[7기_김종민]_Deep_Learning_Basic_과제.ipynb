{
  "nbformat": 4,
  "nbformat_minor": 0,
  "metadata": {
    "colab": {
      "name": "[7기 김종민]_Deep_Learning_Basic_과제.ipynb",
      "provenance": [],
      "collapsed_sections": [
        "_rjuQY9f2mdS",
        "wz8Hi0Rc2-yJ",
        "twf-R8s-34zT",
        "WaqqRzF73oBu"
      ]
    },
    "kernelspec": {
      "name": "python3",
      "display_name": "Python 3"
    },
    "language_info": {
      "name": "python"
    },
    "accelerator": "GPU",
    "gpuClass": "standard",
    "widgets": {
      "application/vnd.jupyter.widget-state+json": {
        "28067bcba20d4f0fa680795801f78c82": {
          "model_module": "@jupyter-widgets/controls",
          "model_name": "HBoxModel",
          "model_module_version": "1.5.0",
          "state": {
            "_dom_classes": [],
            "_model_module": "@jupyter-widgets/controls",
            "_model_module_version": "1.5.0",
            "_model_name": "HBoxModel",
            "_view_count": null,
            "_view_module": "@jupyter-widgets/controls",
            "_view_module_version": "1.5.0",
            "_view_name": "HBoxView",
            "box_style": "",
            "children": [
              "IPY_MODEL_d95623e2193f47ef8f9adc78d154e0d4",
              "IPY_MODEL_c7ccebb67110465b8409cc7b6b6ccb76",
              "IPY_MODEL_832b334762044dcfb06f98e056d2753a"
            ],
            "layout": "IPY_MODEL_c6de17ad4c9b49548a8dfcb9c910265b"
          }
        },
        "d95623e2193f47ef8f9adc78d154e0d4": {
          "model_module": "@jupyter-widgets/controls",
          "model_name": "HTMLModel",
          "model_module_version": "1.5.0",
          "state": {
            "_dom_classes": [],
            "_model_module": "@jupyter-widgets/controls",
            "_model_module_version": "1.5.0",
            "_model_name": "HTMLModel",
            "_view_count": null,
            "_view_module": "@jupyter-widgets/controls",
            "_view_module_version": "1.5.0",
            "_view_name": "HTMLView",
            "description": "",
            "description_tooltip": null,
            "layout": "IPY_MODEL_5ed971e46d6641c4b68a0a0a188cb5af",
            "placeholder": "​",
            "style": "IPY_MODEL_6cd27d7517b64506965f2f2c5a709d37",
            "value": "100%"
          }
        },
        "c7ccebb67110465b8409cc7b6b6ccb76": {
          "model_module": "@jupyter-widgets/controls",
          "model_name": "FloatProgressModel",
          "model_module_version": "1.5.0",
          "state": {
            "_dom_classes": [],
            "_model_module": "@jupyter-widgets/controls",
            "_model_module_version": "1.5.0",
            "_model_name": "FloatProgressModel",
            "_view_count": null,
            "_view_module": "@jupyter-widgets/controls",
            "_view_module_version": "1.5.0",
            "_view_name": "ProgressView",
            "bar_style": "success",
            "description": "",
            "description_tooltip": null,
            "layout": "IPY_MODEL_be6f8b9cf00d431b9ba2ed8fff0d8551",
            "max": 9912422,
            "min": 0,
            "orientation": "horizontal",
            "style": "IPY_MODEL_bc4b92bc273a47ea8186f0280f43ec32",
            "value": 9912422
          }
        },
        "832b334762044dcfb06f98e056d2753a": {
          "model_module": "@jupyter-widgets/controls",
          "model_name": "HTMLModel",
          "model_module_version": "1.5.0",
          "state": {
            "_dom_classes": [],
            "_model_module": "@jupyter-widgets/controls",
            "_model_module_version": "1.5.0",
            "_model_name": "HTMLModel",
            "_view_count": null,
            "_view_module": "@jupyter-widgets/controls",
            "_view_module_version": "1.5.0",
            "_view_name": "HTMLView",
            "description": "",
            "description_tooltip": null,
            "layout": "IPY_MODEL_3eab57a078464072a1965d06e7c7f951",
            "placeholder": "​",
            "style": "IPY_MODEL_6935d978081543dca7d09769f4545b21",
            "value": " 9912422/9912422 [00:00&lt;00:00, 33922086.73it/s]"
          }
        },
        "c6de17ad4c9b49548a8dfcb9c910265b": {
          "model_module": "@jupyter-widgets/base",
          "model_name": "LayoutModel",
          "model_module_version": "1.2.0",
          "state": {
            "_model_module": "@jupyter-widgets/base",
            "_model_module_version": "1.2.0",
            "_model_name": "LayoutModel",
            "_view_count": null,
            "_view_module": "@jupyter-widgets/base",
            "_view_module_version": "1.2.0",
            "_view_name": "LayoutView",
            "align_content": null,
            "align_items": null,
            "align_self": null,
            "border": null,
            "bottom": null,
            "display": null,
            "flex": null,
            "flex_flow": null,
            "grid_area": null,
            "grid_auto_columns": null,
            "grid_auto_flow": null,
            "grid_auto_rows": null,
            "grid_column": null,
            "grid_gap": null,
            "grid_row": null,
            "grid_template_areas": null,
            "grid_template_columns": null,
            "grid_template_rows": null,
            "height": null,
            "justify_content": null,
            "justify_items": null,
            "left": null,
            "margin": null,
            "max_height": null,
            "max_width": null,
            "min_height": null,
            "min_width": null,
            "object_fit": null,
            "object_position": null,
            "order": null,
            "overflow": null,
            "overflow_x": null,
            "overflow_y": null,
            "padding": null,
            "right": null,
            "top": null,
            "visibility": null,
            "width": null
          }
        },
        "5ed971e46d6641c4b68a0a0a188cb5af": {
          "model_module": "@jupyter-widgets/base",
          "model_name": "LayoutModel",
          "model_module_version": "1.2.0",
          "state": {
            "_model_module": "@jupyter-widgets/base",
            "_model_module_version": "1.2.0",
            "_model_name": "LayoutModel",
            "_view_count": null,
            "_view_module": "@jupyter-widgets/base",
            "_view_module_version": "1.2.0",
            "_view_name": "LayoutView",
            "align_content": null,
            "align_items": null,
            "align_self": null,
            "border": null,
            "bottom": null,
            "display": null,
            "flex": null,
            "flex_flow": null,
            "grid_area": null,
            "grid_auto_columns": null,
            "grid_auto_flow": null,
            "grid_auto_rows": null,
            "grid_column": null,
            "grid_gap": null,
            "grid_row": null,
            "grid_template_areas": null,
            "grid_template_columns": null,
            "grid_template_rows": null,
            "height": null,
            "justify_content": null,
            "justify_items": null,
            "left": null,
            "margin": null,
            "max_height": null,
            "max_width": null,
            "min_height": null,
            "min_width": null,
            "object_fit": null,
            "object_position": null,
            "order": null,
            "overflow": null,
            "overflow_x": null,
            "overflow_y": null,
            "padding": null,
            "right": null,
            "top": null,
            "visibility": null,
            "width": null
          }
        },
        "6cd27d7517b64506965f2f2c5a709d37": {
          "model_module": "@jupyter-widgets/controls",
          "model_name": "DescriptionStyleModel",
          "model_module_version": "1.5.0",
          "state": {
            "_model_module": "@jupyter-widgets/controls",
            "_model_module_version": "1.5.0",
            "_model_name": "DescriptionStyleModel",
            "_view_count": null,
            "_view_module": "@jupyter-widgets/base",
            "_view_module_version": "1.2.0",
            "_view_name": "StyleView",
            "description_width": ""
          }
        },
        "be6f8b9cf00d431b9ba2ed8fff0d8551": {
          "model_module": "@jupyter-widgets/base",
          "model_name": "LayoutModel",
          "model_module_version": "1.2.0",
          "state": {
            "_model_module": "@jupyter-widgets/base",
            "_model_module_version": "1.2.0",
            "_model_name": "LayoutModel",
            "_view_count": null,
            "_view_module": "@jupyter-widgets/base",
            "_view_module_version": "1.2.0",
            "_view_name": "LayoutView",
            "align_content": null,
            "align_items": null,
            "align_self": null,
            "border": null,
            "bottom": null,
            "display": null,
            "flex": null,
            "flex_flow": null,
            "grid_area": null,
            "grid_auto_columns": null,
            "grid_auto_flow": null,
            "grid_auto_rows": null,
            "grid_column": null,
            "grid_gap": null,
            "grid_row": null,
            "grid_template_areas": null,
            "grid_template_columns": null,
            "grid_template_rows": null,
            "height": null,
            "justify_content": null,
            "justify_items": null,
            "left": null,
            "margin": null,
            "max_height": null,
            "max_width": null,
            "min_height": null,
            "min_width": null,
            "object_fit": null,
            "object_position": null,
            "order": null,
            "overflow": null,
            "overflow_x": null,
            "overflow_y": null,
            "padding": null,
            "right": null,
            "top": null,
            "visibility": null,
            "width": null
          }
        },
        "bc4b92bc273a47ea8186f0280f43ec32": {
          "model_module": "@jupyter-widgets/controls",
          "model_name": "ProgressStyleModel",
          "model_module_version": "1.5.0",
          "state": {
            "_model_module": "@jupyter-widgets/controls",
            "_model_module_version": "1.5.0",
            "_model_name": "ProgressStyleModel",
            "_view_count": null,
            "_view_module": "@jupyter-widgets/base",
            "_view_module_version": "1.2.0",
            "_view_name": "StyleView",
            "bar_color": null,
            "description_width": ""
          }
        },
        "3eab57a078464072a1965d06e7c7f951": {
          "model_module": "@jupyter-widgets/base",
          "model_name": "LayoutModel",
          "model_module_version": "1.2.0",
          "state": {
            "_model_module": "@jupyter-widgets/base",
            "_model_module_version": "1.2.0",
            "_model_name": "LayoutModel",
            "_view_count": null,
            "_view_module": "@jupyter-widgets/base",
            "_view_module_version": "1.2.0",
            "_view_name": "LayoutView",
            "align_content": null,
            "align_items": null,
            "align_self": null,
            "border": null,
            "bottom": null,
            "display": null,
            "flex": null,
            "flex_flow": null,
            "grid_area": null,
            "grid_auto_columns": null,
            "grid_auto_flow": null,
            "grid_auto_rows": null,
            "grid_column": null,
            "grid_gap": null,
            "grid_row": null,
            "grid_template_areas": null,
            "grid_template_columns": null,
            "grid_template_rows": null,
            "height": null,
            "justify_content": null,
            "justify_items": null,
            "left": null,
            "margin": null,
            "max_height": null,
            "max_width": null,
            "min_height": null,
            "min_width": null,
            "object_fit": null,
            "object_position": null,
            "order": null,
            "overflow": null,
            "overflow_x": null,
            "overflow_y": null,
            "padding": null,
            "right": null,
            "top": null,
            "visibility": null,
            "width": null
          }
        },
        "6935d978081543dca7d09769f4545b21": {
          "model_module": "@jupyter-widgets/controls",
          "model_name": "DescriptionStyleModel",
          "model_module_version": "1.5.0",
          "state": {
            "_model_module": "@jupyter-widgets/controls",
            "_model_module_version": "1.5.0",
            "_model_name": "DescriptionStyleModel",
            "_view_count": null,
            "_view_module": "@jupyter-widgets/base",
            "_view_module_version": "1.2.0",
            "_view_name": "StyleView",
            "description_width": ""
          }
        },
        "e62f44e6c256428f87927098da94494f": {
          "model_module": "@jupyter-widgets/controls",
          "model_name": "HBoxModel",
          "model_module_version": "1.5.0",
          "state": {
            "_dom_classes": [],
            "_model_module": "@jupyter-widgets/controls",
            "_model_module_version": "1.5.0",
            "_model_name": "HBoxModel",
            "_view_count": null,
            "_view_module": "@jupyter-widgets/controls",
            "_view_module_version": "1.5.0",
            "_view_name": "HBoxView",
            "box_style": "",
            "children": [
              "IPY_MODEL_b616b5a5d6684b1d8f999b9f01c10244",
              "IPY_MODEL_4e6bbb499e904f14b6a3a86a0e7da1e9",
              "IPY_MODEL_70ef700b5f414c8bb82fd84d07bd0828"
            ],
            "layout": "IPY_MODEL_8b76b4a77e5740e08b197d2472f1d50f"
          }
        },
        "b616b5a5d6684b1d8f999b9f01c10244": {
          "model_module": "@jupyter-widgets/controls",
          "model_name": "HTMLModel",
          "model_module_version": "1.5.0",
          "state": {
            "_dom_classes": [],
            "_model_module": "@jupyter-widgets/controls",
            "_model_module_version": "1.5.0",
            "_model_name": "HTMLModel",
            "_view_count": null,
            "_view_module": "@jupyter-widgets/controls",
            "_view_module_version": "1.5.0",
            "_view_name": "HTMLView",
            "description": "",
            "description_tooltip": null,
            "layout": "IPY_MODEL_9f1f7bdab78f4f0ca79ea430f34c08fc",
            "placeholder": "​",
            "style": "IPY_MODEL_da02999cec10463e9bf1dfe7048e260d",
            "value": "100%"
          }
        },
        "4e6bbb499e904f14b6a3a86a0e7da1e9": {
          "model_module": "@jupyter-widgets/controls",
          "model_name": "FloatProgressModel",
          "model_module_version": "1.5.0",
          "state": {
            "_dom_classes": [],
            "_model_module": "@jupyter-widgets/controls",
            "_model_module_version": "1.5.0",
            "_model_name": "FloatProgressModel",
            "_view_count": null,
            "_view_module": "@jupyter-widgets/controls",
            "_view_module_version": "1.5.0",
            "_view_name": "ProgressView",
            "bar_style": "success",
            "description": "",
            "description_tooltip": null,
            "layout": "IPY_MODEL_ebba1d84d0f3410c9e37038d8b5e2be1",
            "max": 28881,
            "min": 0,
            "orientation": "horizontal",
            "style": "IPY_MODEL_f1d5f78a052341eba93050baab467595",
            "value": 28881
          }
        },
        "70ef700b5f414c8bb82fd84d07bd0828": {
          "model_module": "@jupyter-widgets/controls",
          "model_name": "HTMLModel",
          "model_module_version": "1.5.0",
          "state": {
            "_dom_classes": [],
            "_model_module": "@jupyter-widgets/controls",
            "_model_module_version": "1.5.0",
            "_model_name": "HTMLModel",
            "_view_count": null,
            "_view_module": "@jupyter-widgets/controls",
            "_view_module_version": "1.5.0",
            "_view_name": "HTMLView",
            "description": "",
            "description_tooltip": null,
            "layout": "IPY_MODEL_90b331449c6f48369e606aacfb31a3e1",
            "placeholder": "​",
            "style": "IPY_MODEL_06b5f907a1c74903b457bdb6a2d85832",
            "value": " 28881/28881 [00:00&lt;00:00, 825068.24it/s]"
          }
        },
        "8b76b4a77e5740e08b197d2472f1d50f": {
          "model_module": "@jupyter-widgets/base",
          "model_name": "LayoutModel",
          "model_module_version": "1.2.0",
          "state": {
            "_model_module": "@jupyter-widgets/base",
            "_model_module_version": "1.2.0",
            "_model_name": "LayoutModel",
            "_view_count": null,
            "_view_module": "@jupyter-widgets/base",
            "_view_module_version": "1.2.0",
            "_view_name": "LayoutView",
            "align_content": null,
            "align_items": null,
            "align_self": null,
            "border": null,
            "bottom": null,
            "display": null,
            "flex": null,
            "flex_flow": null,
            "grid_area": null,
            "grid_auto_columns": null,
            "grid_auto_flow": null,
            "grid_auto_rows": null,
            "grid_column": null,
            "grid_gap": null,
            "grid_row": null,
            "grid_template_areas": null,
            "grid_template_columns": null,
            "grid_template_rows": null,
            "height": null,
            "justify_content": null,
            "justify_items": null,
            "left": null,
            "margin": null,
            "max_height": null,
            "max_width": null,
            "min_height": null,
            "min_width": null,
            "object_fit": null,
            "object_position": null,
            "order": null,
            "overflow": null,
            "overflow_x": null,
            "overflow_y": null,
            "padding": null,
            "right": null,
            "top": null,
            "visibility": null,
            "width": null
          }
        },
        "9f1f7bdab78f4f0ca79ea430f34c08fc": {
          "model_module": "@jupyter-widgets/base",
          "model_name": "LayoutModel",
          "model_module_version": "1.2.0",
          "state": {
            "_model_module": "@jupyter-widgets/base",
            "_model_module_version": "1.2.0",
            "_model_name": "LayoutModel",
            "_view_count": null,
            "_view_module": "@jupyter-widgets/base",
            "_view_module_version": "1.2.0",
            "_view_name": "LayoutView",
            "align_content": null,
            "align_items": null,
            "align_self": null,
            "border": null,
            "bottom": null,
            "display": null,
            "flex": null,
            "flex_flow": null,
            "grid_area": null,
            "grid_auto_columns": null,
            "grid_auto_flow": null,
            "grid_auto_rows": null,
            "grid_column": null,
            "grid_gap": null,
            "grid_row": null,
            "grid_template_areas": null,
            "grid_template_columns": null,
            "grid_template_rows": null,
            "height": null,
            "justify_content": null,
            "justify_items": null,
            "left": null,
            "margin": null,
            "max_height": null,
            "max_width": null,
            "min_height": null,
            "min_width": null,
            "object_fit": null,
            "object_position": null,
            "order": null,
            "overflow": null,
            "overflow_x": null,
            "overflow_y": null,
            "padding": null,
            "right": null,
            "top": null,
            "visibility": null,
            "width": null
          }
        },
        "da02999cec10463e9bf1dfe7048e260d": {
          "model_module": "@jupyter-widgets/controls",
          "model_name": "DescriptionStyleModel",
          "model_module_version": "1.5.0",
          "state": {
            "_model_module": "@jupyter-widgets/controls",
            "_model_module_version": "1.5.0",
            "_model_name": "DescriptionStyleModel",
            "_view_count": null,
            "_view_module": "@jupyter-widgets/base",
            "_view_module_version": "1.2.0",
            "_view_name": "StyleView",
            "description_width": ""
          }
        },
        "ebba1d84d0f3410c9e37038d8b5e2be1": {
          "model_module": "@jupyter-widgets/base",
          "model_name": "LayoutModel",
          "model_module_version": "1.2.0",
          "state": {
            "_model_module": "@jupyter-widgets/base",
            "_model_module_version": "1.2.0",
            "_model_name": "LayoutModel",
            "_view_count": null,
            "_view_module": "@jupyter-widgets/base",
            "_view_module_version": "1.2.0",
            "_view_name": "LayoutView",
            "align_content": null,
            "align_items": null,
            "align_self": null,
            "border": null,
            "bottom": null,
            "display": null,
            "flex": null,
            "flex_flow": null,
            "grid_area": null,
            "grid_auto_columns": null,
            "grid_auto_flow": null,
            "grid_auto_rows": null,
            "grid_column": null,
            "grid_gap": null,
            "grid_row": null,
            "grid_template_areas": null,
            "grid_template_columns": null,
            "grid_template_rows": null,
            "height": null,
            "justify_content": null,
            "justify_items": null,
            "left": null,
            "margin": null,
            "max_height": null,
            "max_width": null,
            "min_height": null,
            "min_width": null,
            "object_fit": null,
            "object_position": null,
            "order": null,
            "overflow": null,
            "overflow_x": null,
            "overflow_y": null,
            "padding": null,
            "right": null,
            "top": null,
            "visibility": null,
            "width": null
          }
        },
        "f1d5f78a052341eba93050baab467595": {
          "model_module": "@jupyter-widgets/controls",
          "model_name": "ProgressStyleModel",
          "model_module_version": "1.5.0",
          "state": {
            "_model_module": "@jupyter-widgets/controls",
            "_model_module_version": "1.5.0",
            "_model_name": "ProgressStyleModel",
            "_view_count": null,
            "_view_module": "@jupyter-widgets/base",
            "_view_module_version": "1.2.0",
            "_view_name": "StyleView",
            "bar_color": null,
            "description_width": ""
          }
        },
        "90b331449c6f48369e606aacfb31a3e1": {
          "model_module": "@jupyter-widgets/base",
          "model_name": "LayoutModel",
          "model_module_version": "1.2.0",
          "state": {
            "_model_module": "@jupyter-widgets/base",
            "_model_module_version": "1.2.0",
            "_model_name": "LayoutModel",
            "_view_count": null,
            "_view_module": "@jupyter-widgets/base",
            "_view_module_version": "1.2.0",
            "_view_name": "LayoutView",
            "align_content": null,
            "align_items": null,
            "align_self": null,
            "border": null,
            "bottom": null,
            "display": null,
            "flex": null,
            "flex_flow": null,
            "grid_area": null,
            "grid_auto_columns": null,
            "grid_auto_flow": null,
            "grid_auto_rows": null,
            "grid_column": null,
            "grid_gap": null,
            "grid_row": null,
            "grid_template_areas": null,
            "grid_template_columns": null,
            "grid_template_rows": null,
            "height": null,
            "justify_content": null,
            "justify_items": null,
            "left": null,
            "margin": null,
            "max_height": null,
            "max_width": null,
            "min_height": null,
            "min_width": null,
            "object_fit": null,
            "object_position": null,
            "order": null,
            "overflow": null,
            "overflow_x": null,
            "overflow_y": null,
            "padding": null,
            "right": null,
            "top": null,
            "visibility": null,
            "width": null
          }
        },
        "06b5f907a1c74903b457bdb6a2d85832": {
          "model_module": "@jupyter-widgets/controls",
          "model_name": "DescriptionStyleModel",
          "model_module_version": "1.5.0",
          "state": {
            "_model_module": "@jupyter-widgets/controls",
            "_model_module_version": "1.5.0",
            "_model_name": "DescriptionStyleModel",
            "_view_count": null,
            "_view_module": "@jupyter-widgets/base",
            "_view_module_version": "1.2.0",
            "_view_name": "StyleView",
            "description_width": ""
          }
        },
        "e500160044e947c6af154cc222476f6e": {
          "model_module": "@jupyter-widgets/controls",
          "model_name": "HBoxModel",
          "model_module_version": "1.5.0",
          "state": {
            "_dom_classes": [],
            "_model_module": "@jupyter-widgets/controls",
            "_model_module_version": "1.5.0",
            "_model_name": "HBoxModel",
            "_view_count": null,
            "_view_module": "@jupyter-widgets/controls",
            "_view_module_version": "1.5.0",
            "_view_name": "HBoxView",
            "box_style": "",
            "children": [
              "IPY_MODEL_3835df1a9b2d4a17831d77762456377d",
              "IPY_MODEL_4441d4cd321d422491b2f4497b0c9f6c",
              "IPY_MODEL_ab15e189cb8e4f7a91fc20487073c9d7"
            ],
            "layout": "IPY_MODEL_e4a08e1ba0cb4b40b1629fc1de36e7c5"
          }
        },
        "3835df1a9b2d4a17831d77762456377d": {
          "model_module": "@jupyter-widgets/controls",
          "model_name": "HTMLModel",
          "model_module_version": "1.5.0",
          "state": {
            "_dom_classes": [],
            "_model_module": "@jupyter-widgets/controls",
            "_model_module_version": "1.5.0",
            "_model_name": "HTMLModel",
            "_view_count": null,
            "_view_module": "@jupyter-widgets/controls",
            "_view_module_version": "1.5.0",
            "_view_name": "HTMLView",
            "description": "",
            "description_tooltip": null,
            "layout": "IPY_MODEL_17c073a0b48844eead77502a64959ee3",
            "placeholder": "​",
            "style": "IPY_MODEL_012a668399ee472a8637661b7a738d0b",
            "value": "100%"
          }
        },
        "4441d4cd321d422491b2f4497b0c9f6c": {
          "model_module": "@jupyter-widgets/controls",
          "model_name": "FloatProgressModel",
          "model_module_version": "1.5.0",
          "state": {
            "_dom_classes": [],
            "_model_module": "@jupyter-widgets/controls",
            "_model_module_version": "1.5.0",
            "_model_name": "FloatProgressModel",
            "_view_count": null,
            "_view_module": "@jupyter-widgets/controls",
            "_view_module_version": "1.5.0",
            "_view_name": "ProgressView",
            "bar_style": "success",
            "description": "",
            "description_tooltip": null,
            "layout": "IPY_MODEL_fc36bdc012df4fbb8e1c39390422583a",
            "max": 1648877,
            "min": 0,
            "orientation": "horizontal",
            "style": "IPY_MODEL_7fbc106744a04231966a2e550e5da0fd",
            "value": 1648877
          }
        },
        "ab15e189cb8e4f7a91fc20487073c9d7": {
          "model_module": "@jupyter-widgets/controls",
          "model_name": "HTMLModel",
          "model_module_version": "1.5.0",
          "state": {
            "_dom_classes": [],
            "_model_module": "@jupyter-widgets/controls",
            "_model_module_version": "1.5.0",
            "_model_name": "HTMLModel",
            "_view_count": null,
            "_view_module": "@jupyter-widgets/controls",
            "_view_module_version": "1.5.0",
            "_view_name": "HTMLView",
            "description": "",
            "description_tooltip": null,
            "layout": "IPY_MODEL_a74d17428b6d42eb8e88763e2dfeea9e",
            "placeholder": "​",
            "style": "IPY_MODEL_0c1499ea40f2439a8fd052b549a572a8",
            "value": " 1648877/1648877 [00:00&lt;00:00, 2897260.45it/s]"
          }
        },
        "e4a08e1ba0cb4b40b1629fc1de36e7c5": {
          "model_module": "@jupyter-widgets/base",
          "model_name": "LayoutModel",
          "model_module_version": "1.2.0",
          "state": {
            "_model_module": "@jupyter-widgets/base",
            "_model_module_version": "1.2.0",
            "_model_name": "LayoutModel",
            "_view_count": null,
            "_view_module": "@jupyter-widgets/base",
            "_view_module_version": "1.2.0",
            "_view_name": "LayoutView",
            "align_content": null,
            "align_items": null,
            "align_self": null,
            "border": null,
            "bottom": null,
            "display": null,
            "flex": null,
            "flex_flow": null,
            "grid_area": null,
            "grid_auto_columns": null,
            "grid_auto_flow": null,
            "grid_auto_rows": null,
            "grid_column": null,
            "grid_gap": null,
            "grid_row": null,
            "grid_template_areas": null,
            "grid_template_columns": null,
            "grid_template_rows": null,
            "height": null,
            "justify_content": null,
            "justify_items": null,
            "left": null,
            "margin": null,
            "max_height": null,
            "max_width": null,
            "min_height": null,
            "min_width": null,
            "object_fit": null,
            "object_position": null,
            "order": null,
            "overflow": null,
            "overflow_x": null,
            "overflow_y": null,
            "padding": null,
            "right": null,
            "top": null,
            "visibility": null,
            "width": null
          }
        },
        "17c073a0b48844eead77502a64959ee3": {
          "model_module": "@jupyter-widgets/base",
          "model_name": "LayoutModel",
          "model_module_version": "1.2.0",
          "state": {
            "_model_module": "@jupyter-widgets/base",
            "_model_module_version": "1.2.0",
            "_model_name": "LayoutModel",
            "_view_count": null,
            "_view_module": "@jupyter-widgets/base",
            "_view_module_version": "1.2.0",
            "_view_name": "LayoutView",
            "align_content": null,
            "align_items": null,
            "align_self": null,
            "border": null,
            "bottom": null,
            "display": null,
            "flex": null,
            "flex_flow": null,
            "grid_area": null,
            "grid_auto_columns": null,
            "grid_auto_flow": null,
            "grid_auto_rows": null,
            "grid_column": null,
            "grid_gap": null,
            "grid_row": null,
            "grid_template_areas": null,
            "grid_template_columns": null,
            "grid_template_rows": null,
            "height": null,
            "justify_content": null,
            "justify_items": null,
            "left": null,
            "margin": null,
            "max_height": null,
            "max_width": null,
            "min_height": null,
            "min_width": null,
            "object_fit": null,
            "object_position": null,
            "order": null,
            "overflow": null,
            "overflow_x": null,
            "overflow_y": null,
            "padding": null,
            "right": null,
            "top": null,
            "visibility": null,
            "width": null
          }
        },
        "012a668399ee472a8637661b7a738d0b": {
          "model_module": "@jupyter-widgets/controls",
          "model_name": "DescriptionStyleModel",
          "model_module_version": "1.5.0",
          "state": {
            "_model_module": "@jupyter-widgets/controls",
            "_model_module_version": "1.5.0",
            "_model_name": "DescriptionStyleModel",
            "_view_count": null,
            "_view_module": "@jupyter-widgets/base",
            "_view_module_version": "1.2.0",
            "_view_name": "StyleView",
            "description_width": ""
          }
        },
        "fc36bdc012df4fbb8e1c39390422583a": {
          "model_module": "@jupyter-widgets/base",
          "model_name": "LayoutModel",
          "model_module_version": "1.2.0",
          "state": {
            "_model_module": "@jupyter-widgets/base",
            "_model_module_version": "1.2.0",
            "_model_name": "LayoutModel",
            "_view_count": null,
            "_view_module": "@jupyter-widgets/base",
            "_view_module_version": "1.2.0",
            "_view_name": "LayoutView",
            "align_content": null,
            "align_items": null,
            "align_self": null,
            "border": null,
            "bottom": null,
            "display": null,
            "flex": null,
            "flex_flow": null,
            "grid_area": null,
            "grid_auto_columns": null,
            "grid_auto_flow": null,
            "grid_auto_rows": null,
            "grid_column": null,
            "grid_gap": null,
            "grid_row": null,
            "grid_template_areas": null,
            "grid_template_columns": null,
            "grid_template_rows": null,
            "height": null,
            "justify_content": null,
            "justify_items": null,
            "left": null,
            "margin": null,
            "max_height": null,
            "max_width": null,
            "min_height": null,
            "min_width": null,
            "object_fit": null,
            "object_position": null,
            "order": null,
            "overflow": null,
            "overflow_x": null,
            "overflow_y": null,
            "padding": null,
            "right": null,
            "top": null,
            "visibility": null,
            "width": null
          }
        },
        "7fbc106744a04231966a2e550e5da0fd": {
          "model_module": "@jupyter-widgets/controls",
          "model_name": "ProgressStyleModel",
          "model_module_version": "1.5.0",
          "state": {
            "_model_module": "@jupyter-widgets/controls",
            "_model_module_version": "1.5.0",
            "_model_name": "ProgressStyleModel",
            "_view_count": null,
            "_view_module": "@jupyter-widgets/base",
            "_view_module_version": "1.2.0",
            "_view_name": "StyleView",
            "bar_color": null,
            "description_width": ""
          }
        },
        "a74d17428b6d42eb8e88763e2dfeea9e": {
          "model_module": "@jupyter-widgets/base",
          "model_name": "LayoutModel",
          "model_module_version": "1.2.0",
          "state": {
            "_model_module": "@jupyter-widgets/base",
            "_model_module_version": "1.2.0",
            "_model_name": "LayoutModel",
            "_view_count": null,
            "_view_module": "@jupyter-widgets/base",
            "_view_module_version": "1.2.0",
            "_view_name": "LayoutView",
            "align_content": null,
            "align_items": null,
            "align_self": null,
            "border": null,
            "bottom": null,
            "display": null,
            "flex": null,
            "flex_flow": null,
            "grid_area": null,
            "grid_auto_columns": null,
            "grid_auto_flow": null,
            "grid_auto_rows": null,
            "grid_column": null,
            "grid_gap": null,
            "grid_row": null,
            "grid_template_areas": null,
            "grid_template_columns": null,
            "grid_template_rows": null,
            "height": null,
            "justify_content": null,
            "justify_items": null,
            "left": null,
            "margin": null,
            "max_height": null,
            "max_width": null,
            "min_height": null,
            "min_width": null,
            "object_fit": null,
            "object_position": null,
            "order": null,
            "overflow": null,
            "overflow_x": null,
            "overflow_y": null,
            "padding": null,
            "right": null,
            "top": null,
            "visibility": null,
            "width": null
          }
        },
        "0c1499ea40f2439a8fd052b549a572a8": {
          "model_module": "@jupyter-widgets/controls",
          "model_name": "DescriptionStyleModel",
          "model_module_version": "1.5.0",
          "state": {
            "_model_module": "@jupyter-widgets/controls",
            "_model_module_version": "1.5.0",
            "_model_name": "DescriptionStyleModel",
            "_view_count": null,
            "_view_module": "@jupyter-widgets/base",
            "_view_module_version": "1.2.0",
            "_view_name": "StyleView",
            "description_width": ""
          }
        },
        "b1adf73633744395b095be580ce1fb74": {
          "model_module": "@jupyter-widgets/controls",
          "model_name": "HBoxModel",
          "model_module_version": "1.5.0",
          "state": {
            "_dom_classes": [],
            "_model_module": "@jupyter-widgets/controls",
            "_model_module_version": "1.5.0",
            "_model_name": "HBoxModel",
            "_view_count": null,
            "_view_module": "@jupyter-widgets/controls",
            "_view_module_version": "1.5.0",
            "_view_name": "HBoxView",
            "box_style": "",
            "children": [
              "IPY_MODEL_843db00ae7c146929013f22638a4e9b1",
              "IPY_MODEL_552ba766794f40ef9a67aab129855bba",
              "IPY_MODEL_5d76b4716e314ba9896616dafcd00b98"
            ],
            "layout": "IPY_MODEL_72fbe7d0d5c8469ab7c451cf72a4601e"
          }
        },
        "843db00ae7c146929013f22638a4e9b1": {
          "model_module": "@jupyter-widgets/controls",
          "model_name": "HTMLModel",
          "model_module_version": "1.5.0",
          "state": {
            "_dom_classes": [],
            "_model_module": "@jupyter-widgets/controls",
            "_model_module_version": "1.5.0",
            "_model_name": "HTMLModel",
            "_view_count": null,
            "_view_module": "@jupyter-widgets/controls",
            "_view_module_version": "1.5.0",
            "_view_name": "HTMLView",
            "description": "",
            "description_tooltip": null,
            "layout": "IPY_MODEL_7b51be1cc3974f6497dc26cd6884f729",
            "placeholder": "​",
            "style": "IPY_MODEL_a4a7d5b3e4714defafb83a1f83d5614d",
            "value": "100%"
          }
        },
        "552ba766794f40ef9a67aab129855bba": {
          "model_module": "@jupyter-widgets/controls",
          "model_name": "FloatProgressModel",
          "model_module_version": "1.5.0",
          "state": {
            "_dom_classes": [],
            "_model_module": "@jupyter-widgets/controls",
            "_model_module_version": "1.5.0",
            "_model_name": "FloatProgressModel",
            "_view_count": null,
            "_view_module": "@jupyter-widgets/controls",
            "_view_module_version": "1.5.0",
            "_view_name": "ProgressView",
            "bar_style": "success",
            "description": "",
            "description_tooltip": null,
            "layout": "IPY_MODEL_160ff609011e46e39c004283235c3fc7",
            "max": 4542,
            "min": 0,
            "orientation": "horizontal",
            "style": "IPY_MODEL_2f2f04becf814965b6e83911143d6ed5",
            "value": 4542
          }
        },
        "5d76b4716e314ba9896616dafcd00b98": {
          "model_module": "@jupyter-widgets/controls",
          "model_name": "HTMLModel",
          "model_module_version": "1.5.0",
          "state": {
            "_dom_classes": [],
            "_model_module": "@jupyter-widgets/controls",
            "_model_module_version": "1.5.0",
            "_model_name": "HTMLModel",
            "_view_count": null,
            "_view_module": "@jupyter-widgets/controls",
            "_view_module_version": "1.5.0",
            "_view_name": "HTMLView",
            "description": "",
            "description_tooltip": null,
            "layout": "IPY_MODEL_b5fd4059539f4d37a09de12fb747a40b",
            "placeholder": "​",
            "style": "IPY_MODEL_89b8736453d04bc29e81a10c122c8c07",
            "value": " 4542/4542 [00:00&lt;00:00, 154307.77it/s]"
          }
        },
        "72fbe7d0d5c8469ab7c451cf72a4601e": {
          "model_module": "@jupyter-widgets/base",
          "model_name": "LayoutModel",
          "model_module_version": "1.2.0",
          "state": {
            "_model_module": "@jupyter-widgets/base",
            "_model_module_version": "1.2.0",
            "_model_name": "LayoutModel",
            "_view_count": null,
            "_view_module": "@jupyter-widgets/base",
            "_view_module_version": "1.2.0",
            "_view_name": "LayoutView",
            "align_content": null,
            "align_items": null,
            "align_self": null,
            "border": null,
            "bottom": null,
            "display": null,
            "flex": null,
            "flex_flow": null,
            "grid_area": null,
            "grid_auto_columns": null,
            "grid_auto_flow": null,
            "grid_auto_rows": null,
            "grid_column": null,
            "grid_gap": null,
            "grid_row": null,
            "grid_template_areas": null,
            "grid_template_columns": null,
            "grid_template_rows": null,
            "height": null,
            "justify_content": null,
            "justify_items": null,
            "left": null,
            "margin": null,
            "max_height": null,
            "max_width": null,
            "min_height": null,
            "min_width": null,
            "object_fit": null,
            "object_position": null,
            "order": null,
            "overflow": null,
            "overflow_x": null,
            "overflow_y": null,
            "padding": null,
            "right": null,
            "top": null,
            "visibility": null,
            "width": null
          }
        },
        "7b51be1cc3974f6497dc26cd6884f729": {
          "model_module": "@jupyter-widgets/base",
          "model_name": "LayoutModel",
          "model_module_version": "1.2.0",
          "state": {
            "_model_module": "@jupyter-widgets/base",
            "_model_module_version": "1.2.0",
            "_model_name": "LayoutModel",
            "_view_count": null,
            "_view_module": "@jupyter-widgets/base",
            "_view_module_version": "1.2.0",
            "_view_name": "LayoutView",
            "align_content": null,
            "align_items": null,
            "align_self": null,
            "border": null,
            "bottom": null,
            "display": null,
            "flex": null,
            "flex_flow": null,
            "grid_area": null,
            "grid_auto_columns": null,
            "grid_auto_flow": null,
            "grid_auto_rows": null,
            "grid_column": null,
            "grid_gap": null,
            "grid_row": null,
            "grid_template_areas": null,
            "grid_template_columns": null,
            "grid_template_rows": null,
            "height": null,
            "justify_content": null,
            "justify_items": null,
            "left": null,
            "margin": null,
            "max_height": null,
            "max_width": null,
            "min_height": null,
            "min_width": null,
            "object_fit": null,
            "object_position": null,
            "order": null,
            "overflow": null,
            "overflow_x": null,
            "overflow_y": null,
            "padding": null,
            "right": null,
            "top": null,
            "visibility": null,
            "width": null
          }
        },
        "a4a7d5b3e4714defafb83a1f83d5614d": {
          "model_module": "@jupyter-widgets/controls",
          "model_name": "DescriptionStyleModel",
          "model_module_version": "1.5.0",
          "state": {
            "_model_module": "@jupyter-widgets/controls",
            "_model_module_version": "1.5.0",
            "_model_name": "DescriptionStyleModel",
            "_view_count": null,
            "_view_module": "@jupyter-widgets/base",
            "_view_module_version": "1.2.0",
            "_view_name": "StyleView",
            "description_width": ""
          }
        },
        "160ff609011e46e39c004283235c3fc7": {
          "model_module": "@jupyter-widgets/base",
          "model_name": "LayoutModel",
          "model_module_version": "1.2.0",
          "state": {
            "_model_module": "@jupyter-widgets/base",
            "_model_module_version": "1.2.0",
            "_model_name": "LayoutModel",
            "_view_count": null,
            "_view_module": "@jupyter-widgets/base",
            "_view_module_version": "1.2.0",
            "_view_name": "LayoutView",
            "align_content": null,
            "align_items": null,
            "align_self": null,
            "border": null,
            "bottom": null,
            "display": null,
            "flex": null,
            "flex_flow": null,
            "grid_area": null,
            "grid_auto_columns": null,
            "grid_auto_flow": null,
            "grid_auto_rows": null,
            "grid_column": null,
            "grid_gap": null,
            "grid_row": null,
            "grid_template_areas": null,
            "grid_template_columns": null,
            "grid_template_rows": null,
            "height": null,
            "justify_content": null,
            "justify_items": null,
            "left": null,
            "margin": null,
            "max_height": null,
            "max_width": null,
            "min_height": null,
            "min_width": null,
            "object_fit": null,
            "object_position": null,
            "order": null,
            "overflow": null,
            "overflow_x": null,
            "overflow_y": null,
            "padding": null,
            "right": null,
            "top": null,
            "visibility": null,
            "width": null
          }
        },
        "2f2f04becf814965b6e83911143d6ed5": {
          "model_module": "@jupyter-widgets/controls",
          "model_name": "ProgressStyleModel",
          "model_module_version": "1.5.0",
          "state": {
            "_model_module": "@jupyter-widgets/controls",
            "_model_module_version": "1.5.0",
            "_model_name": "ProgressStyleModel",
            "_view_count": null,
            "_view_module": "@jupyter-widgets/base",
            "_view_module_version": "1.2.0",
            "_view_name": "StyleView",
            "bar_color": null,
            "description_width": ""
          }
        },
        "b5fd4059539f4d37a09de12fb747a40b": {
          "model_module": "@jupyter-widgets/base",
          "model_name": "LayoutModel",
          "model_module_version": "1.2.0",
          "state": {
            "_model_module": "@jupyter-widgets/base",
            "_model_module_version": "1.2.0",
            "_model_name": "LayoutModel",
            "_view_count": null,
            "_view_module": "@jupyter-widgets/base",
            "_view_module_version": "1.2.0",
            "_view_name": "LayoutView",
            "align_content": null,
            "align_items": null,
            "align_self": null,
            "border": null,
            "bottom": null,
            "display": null,
            "flex": null,
            "flex_flow": null,
            "grid_area": null,
            "grid_auto_columns": null,
            "grid_auto_flow": null,
            "grid_auto_rows": null,
            "grid_column": null,
            "grid_gap": null,
            "grid_row": null,
            "grid_template_areas": null,
            "grid_template_columns": null,
            "grid_template_rows": null,
            "height": null,
            "justify_content": null,
            "justify_items": null,
            "left": null,
            "margin": null,
            "max_height": null,
            "max_width": null,
            "min_height": null,
            "min_width": null,
            "object_fit": null,
            "object_position": null,
            "order": null,
            "overflow": null,
            "overflow_x": null,
            "overflow_y": null,
            "padding": null,
            "right": null,
            "top": null,
            "visibility": null,
            "width": null
          }
        },
        "89b8736453d04bc29e81a10c122c8c07": {
          "model_module": "@jupyter-widgets/controls",
          "model_name": "DescriptionStyleModel",
          "model_module_version": "1.5.0",
          "state": {
            "_model_module": "@jupyter-widgets/controls",
            "_model_module_version": "1.5.0",
            "_model_name": "DescriptionStyleModel",
            "_view_count": null,
            "_view_module": "@jupyter-widgets/base",
            "_view_module_version": "1.2.0",
            "_view_name": "StyleView",
            "description_width": ""
          }
        }
      }
    }
  },
  "cells": [
    {
      "cell_type": "markdown",
      "metadata": {
        "id": "_rjuQY9f2mdS"
      },
      "source": [
        "## 과제 1\n",
        "ReLu activation function과 derivative function을 구현해보세요\n",
        "- Hint : np.maximum 함수 사용하면 편리합니다\n",
        "- 다른 방법 사용하셔도 무방합니다\n"
      ]
    },
    {
      "cell_type": "code",
      "source": [
        "import torch\n",
        "import torch.nn as nn\n",
        "import torch.optim as optim\n",
        "\n",
        "import numpy as np\n",
        "import matplotlib.pyplot as plt"
      ],
      "metadata": {
        "id": "DktWQ-7ZZcLe"
      },
      "execution_count": null,
      "outputs": []
    },
    {
      "cell_type": "code",
      "metadata": {
        "id": "puH0YVGI2uLz"
      },
      "source": [
        "def relu(x):\n",
        "    out = np.maximum(0, x)\n",
        "    return out"
      ],
      "execution_count": null,
      "outputs": []
    },
    {
      "cell_type": "code",
      "source": [
        "def d_relu(x):\n",
        "    if relu(x) != 0:\n",
        "        out = 1\n",
        "    else:\n",
        "        out = 0\n",
        "    return out"
      ],
      "metadata": {
        "id": "Esm4jmTVijro"
      },
      "execution_count": null,
      "outputs": []
    },
    {
      "cell_type": "markdown",
      "metadata": {
        "id": "wz8Hi0Rc2-yJ"
      },
      "source": [
        "## 과제 2\n",
        "Deep Learning Basic 코드 파일의 MLP implementation with Numpy library using MNIST dataset 코드 참고해서\n",
        "Three layer MLP 일 때의 backward_pass 함수를 완성해주세요.   \n",
        "- Hint : 코드 파일의 예시는 Two layer MLP\n"
      ]
    },
    {
      "cell_type": "code",
      "metadata": {
        "id": "fusEy49j3uhs"
      },
      "source": [
        "def backward_pass(x, y_true, params):\n",
        "  dS3 = params[\"A3\"] - y_true\n",
        "\n",
        "  grads = {}\n",
        "\n",
        "  grads[\"dW3\"] =  np.dot(dS3, params[\"A2\"].T)/x.shape[1]\n",
        "  grads[\"db3\"] =  (1/x.shape[1])*np.sum(dS3, axis=1, keepdims=True)/x.shape[1]\n",
        "\n",
        "  dA2 = np.dot(params[\"W3\"].T, dS3)\n",
        "  dS2 = dA2 * d_sigmoid(params[\"S2\"])\n",
        "\n",
        "  grads[\"dW2\"] = np.dot(dS2, x.T)/x.shape[1]\n",
        "  grads[\"db2\"] = np.sum(dS2, axis=1, keepdims=True)/x.shape[1]\n",
        "\n",
        "  dA1 = np.dot(params[\"W2\"].T, dS2)\n",
        "  dS1 = dA1 * d_sigmoid(params[\"S1\"])\n",
        "\n",
        "  grads[\"dW1\"] = np.dot(dS1, x.T)/x.shape[1]\n",
        "  grads[\"db1\"] = np.sum(dS1, axis=1, keepdims=True)/x.shape[1] \n",
        "\n",
        "  return grads"
      ],
      "execution_count": null,
      "outputs": []
    },
    {
      "cell_type": "markdown",
      "metadata": {
        "id": "twf-R8s-34zT"
      },
      "source": [
        "## 과제 3\n",
        "Deep Learning Basic 코드 파일의 MLP implementation with Pytorch library using MNIST dataset 코드 참고해서\n",
        "Three layer MLP를 구한후, 학습을 돌려 보세요\n",
        "\n",
        "hyperparameter는 다음과 같이 설정\n",
        "\n",
        "- epochs : 100\n",
        "- hiddensize : 128, 64 (two layer)\n",
        "- learning_rate : 0.5"
      ]
    },
    {
      "cell_type": "code",
      "source": [
        "from torchvision import transforms, datasets\n",
        "import torch\n",
        "import torch.nn as nn\n",
        "import torch.optim as optim\n",
        "from torch.utils.data import Dataset\n",
        "from torch.utils.data import DataLoader"
      ],
      "metadata": {
        "id": "Cls5P-ZHae32"
      },
      "execution_count": null,
      "outputs": []
    },
    {
      "cell_type": "code",
      "source": [
        "transform = transforms.Compose([\n",
        "    transforms.ToTensor()\n",
        "])"
      ],
      "metadata": {
        "id": "T9x89RaZahhu"
      },
      "execution_count": null,
      "outputs": []
    },
    {
      "cell_type": "code",
      "source": [
        "trainset = datasets.MNIST(\n",
        "    root      = './.data/', \n",
        "    train     = True,\n",
        "    download  = True,\n",
        "    transform = transform\n",
        ")\n",
        "testset = datasets.MNIST(\n",
        "    root      = './.data/', \n",
        "    train     = False,\n",
        "    download  = True,\n",
        "    transform = transform\n",
        ")"
      ],
      "metadata": {
        "colab": {
          "base_uri": "https://localhost:8080/",
          "height": 437,
          "referenced_widgets": [
            "28067bcba20d4f0fa680795801f78c82",
            "d95623e2193f47ef8f9adc78d154e0d4",
            "c7ccebb67110465b8409cc7b6b6ccb76",
            "832b334762044dcfb06f98e056d2753a",
            "c6de17ad4c9b49548a8dfcb9c910265b",
            "5ed971e46d6641c4b68a0a0a188cb5af",
            "6cd27d7517b64506965f2f2c5a709d37",
            "be6f8b9cf00d431b9ba2ed8fff0d8551",
            "bc4b92bc273a47ea8186f0280f43ec32",
            "3eab57a078464072a1965d06e7c7f951",
            "6935d978081543dca7d09769f4545b21",
            "e62f44e6c256428f87927098da94494f",
            "b616b5a5d6684b1d8f999b9f01c10244",
            "4e6bbb499e904f14b6a3a86a0e7da1e9",
            "70ef700b5f414c8bb82fd84d07bd0828",
            "8b76b4a77e5740e08b197d2472f1d50f",
            "9f1f7bdab78f4f0ca79ea430f34c08fc",
            "da02999cec10463e9bf1dfe7048e260d",
            "ebba1d84d0f3410c9e37038d8b5e2be1",
            "f1d5f78a052341eba93050baab467595",
            "90b331449c6f48369e606aacfb31a3e1",
            "06b5f907a1c74903b457bdb6a2d85832",
            "e500160044e947c6af154cc222476f6e",
            "3835df1a9b2d4a17831d77762456377d",
            "4441d4cd321d422491b2f4497b0c9f6c",
            "ab15e189cb8e4f7a91fc20487073c9d7",
            "e4a08e1ba0cb4b40b1629fc1de36e7c5",
            "17c073a0b48844eead77502a64959ee3",
            "012a668399ee472a8637661b7a738d0b",
            "fc36bdc012df4fbb8e1c39390422583a",
            "7fbc106744a04231966a2e550e5da0fd",
            "a74d17428b6d42eb8e88763e2dfeea9e",
            "0c1499ea40f2439a8fd052b549a572a8",
            "b1adf73633744395b095be580ce1fb74",
            "843db00ae7c146929013f22638a4e9b1",
            "552ba766794f40ef9a67aab129855bba",
            "5d76b4716e314ba9896616dafcd00b98",
            "72fbe7d0d5c8469ab7c451cf72a4601e",
            "7b51be1cc3974f6497dc26cd6884f729",
            "a4a7d5b3e4714defafb83a1f83d5614d",
            "160ff609011e46e39c004283235c3fc7",
            "2f2f04becf814965b6e83911143d6ed5",
            "b5fd4059539f4d37a09de12fb747a40b",
            "89b8736453d04bc29e81a10c122c8c07"
          ]
        },
        "id": "axpHz0mHahkL",
        "outputId": "33f06a78-e0f1-4600-f599-2a9f41bd8f81"
      },
      "execution_count": null,
      "outputs": [
        {
          "output_type": "stream",
          "name": "stdout",
          "text": [
            "Downloading http://yann.lecun.com/exdb/mnist/train-images-idx3-ubyte.gz\n",
            "Downloading http://yann.lecun.com/exdb/mnist/train-images-idx3-ubyte.gz to ./.data/MNIST/raw/train-images-idx3-ubyte.gz\n"
          ]
        },
        {
          "output_type": "display_data",
          "data": {
            "text/plain": [
              "  0%|          | 0/9912422 [00:00<?, ?it/s]"
            ],
            "application/vnd.jupyter.widget-view+json": {
              "version_major": 2,
              "version_minor": 0,
              "model_id": "28067bcba20d4f0fa680795801f78c82"
            }
          },
          "metadata": {}
        },
        {
          "output_type": "stream",
          "name": "stdout",
          "text": [
            "Extracting ./.data/MNIST/raw/train-images-idx3-ubyte.gz to ./.data/MNIST/raw\n",
            "\n",
            "Downloading http://yann.lecun.com/exdb/mnist/train-labels-idx1-ubyte.gz\n",
            "Downloading http://yann.lecun.com/exdb/mnist/train-labels-idx1-ubyte.gz to ./.data/MNIST/raw/train-labels-idx1-ubyte.gz\n"
          ]
        },
        {
          "output_type": "display_data",
          "data": {
            "text/plain": [
              "  0%|          | 0/28881 [00:00<?, ?it/s]"
            ],
            "application/vnd.jupyter.widget-view+json": {
              "version_major": 2,
              "version_minor": 0,
              "model_id": "e62f44e6c256428f87927098da94494f"
            }
          },
          "metadata": {}
        },
        {
          "output_type": "stream",
          "name": "stdout",
          "text": [
            "Extracting ./.data/MNIST/raw/train-labels-idx1-ubyte.gz to ./.data/MNIST/raw\n",
            "\n",
            "Downloading http://yann.lecun.com/exdb/mnist/t10k-images-idx3-ubyte.gz\n",
            "Downloading http://yann.lecun.com/exdb/mnist/t10k-images-idx3-ubyte.gz to ./.data/MNIST/raw/t10k-images-idx3-ubyte.gz\n"
          ]
        },
        {
          "output_type": "display_data",
          "data": {
            "text/plain": [
              "  0%|          | 0/1648877 [00:00<?, ?it/s]"
            ],
            "application/vnd.jupyter.widget-view+json": {
              "version_major": 2,
              "version_minor": 0,
              "model_id": "e500160044e947c6af154cc222476f6e"
            }
          },
          "metadata": {}
        },
        {
          "output_type": "stream",
          "name": "stdout",
          "text": [
            "Extracting ./.data/MNIST/raw/t10k-images-idx3-ubyte.gz to ./.data/MNIST/raw\n",
            "\n",
            "Downloading http://yann.lecun.com/exdb/mnist/t10k-labels-idx1-ubyte.gz\n",
            "Downloading http://yann.lecun.com/exdb/mnist/t10k-labels-idx1-ubyte.gz to ./.data/MNIST/raw/t10k-labels-idx1-ubyte.gz\n"
          ]
        },
        {
          "output_type": "display_data",
          "data": {
            "text/plain": [
              "  0%|          | 0/4542 [00:00<?, ?it/s]"
            ],
            "application/vnd.jupyter.widget-view+json": {
              "version_major": 2,
              "version_minor": 0,
              "model_id": "b1adf73633744395b095be580ce1fb74"
            }
          },
          "metadata": {}
        },
        {
          "output_type": "stream",
          "name": "stdout",
          "text": [
            "Extracting ./.data/MNIST/raw/t10k-labels-idx1-ubyte.gz to ./.data/MNIST/raw\n",
            "\n"
          ]
        }
      ]
    },
    {
      "cell_type": "code",
      "source": [
        "BATCH_SIZE = 512\n",
        "train_loader = DataLoader(trainset, batch_size=BATCH_SIZE, shuffle=True)\n",
        "test_loader =  DataLoader(testset, batch_size=BATCH_SIZE, shuffle=True)"
      ],
      "metadata": {
        "id": "2VWq7C-wahmi"
      },
      "execution_count": null,
      "outputs": []
    },
    {
      "cell_type": "code",
      "metadata": {
        "id": "bxJO249A3jhk"
      },
      "source": [
        "# Assignment 3 구현은 여기서 ()\n"
      ],
      "execution_count": null,
      "outputs": []
    },
    {
      "cell_type": "code",
      "source": [
        "class Net(nn.Module):\n",
        "    def __init__(self):\n",
        "        super(Net, self).__init__()\n",
        "        self.layer1 = nn.Linear(784,128)\n",
        "        self.layer2 = nn.Linear(128,64)\n",
        "        self.layer3 = nn.Linear(64,10)\n",
        "        self.relu = nn.ReLU()\n",
        "        \n",
        "    def forward(self, x):\n",
        "        x = x.view(-1, 784)\n",
        "        out = self.layer1(x)\n",
        "        out = self.relu(out)\n",
        "        out = self.layer2(out)\n",
        "        out = self.relu(out)\n",
        "        out = self.layer3(out)\n",
        "\n",
        "        return out"
      ],
      "metadata": {
        "id": "oW3nD_qpaho8"
      },
      "execution_count": null,
      "outputs": []
    },
    {
      "cell_type": "code",
      "source": [
        "model = Net()\n",
        "model"
      ],
      "metadata": {
        "colab": {
          "base_uri": "https://localhost:8080/"
        },
        "id": "nNvXBTYAahrc",
        "outputId": "173ed6ab-fc6e-4125-cf20-c0dddc12b5ba"
      },
      "execution_count": null,
      "outputs": [
        {
          "output_type": "execute_result",
          "data": {
            "text/plain": [
              "Net(\n",
              "  (layer1): Linear(in_features=784, out_features=128, bias=True)\n",
              "  (layer2): Linear(in_features=128, out_features=64, bias=True)\n",
              "  (layer3): Linear(in_features=64, out_features=10, bias=True)\n",
              "  (relu): ReLU()\n",
              ")"
            ]
          },
          "metadata": {},
          "execution_count": 27
        }
      ]
    },
    {
      "cell_type": "code",
      "source": [
        "criterion = nn.CrossEntropyLoss()\n",
        "optimizer = optim.SGD(model.parameters(), lr=0.5)"
      ],
      "metadata": {
        "id": "L1tGRgwVahts"
      },
      "execution_count": null,
      "outputs": []
    },
    {
      "cell_type": "code",
      "source": [
        "def train(model, train_loader, optimizer):\n",
        "    model.train()\n",
        "    # 배치 당 loss 값을 담을 리스트 생성\n",
        "    batch_losses = []\n",
        "\n",
        "    for data, target in train_loader:\n",
        "        # 옵티마이저의 기울기 초기화\n",
        "        optimizer.zero_grad()\n",
        "\n",
        "        # y pred 값 산출\n",
        "        output = model(data)\n",
        "        # loss 계산\n",
        "        # 정답 데이터와의 cross entropy loss 계산\n",
        "        # 이 loss를 배치 당 loss로 보관\n",
        "        loss = criterion(output, target)\n",
        "        batch_losses.append(loss)\n",
        "\n",
        "        # 기울기 계산\n",
        "        loss.backward()\n",
        "\n",
        "        # 가중치 업데이트!\n",
        "        optimizer.step()\n",
        "        \n",
        "    # 배치당 평균 loss 계산\n",
        "    avg_loss = sum(batch_losses) / len(batch_losses)\n",
        "    \n",
        "    return avg_loss"
      ],
      "metadata": {
        "id": "aORzCURybdoK"
      },
      "execution_count": null,
      "outputs": []
    },
    {
      "cell_type": "code",
      "source": [
        "def evaluate(model, test_loader):\n",
        "    # 모델을 평가 모드로 전환\n",
        "    model.eval()\n",
        "\n",
        "    batch_losses = []\n",
        "    correct = 0 \n",
        "\n",
        "    with torch.no_grad(): \n",
        "        for data, target in test_loader:\n",
        "            # 예측값 생성\n",
        "            output = model(data)\n",
        "\n",
        "            # loss 계산 (이전과 동일)\n",
        "            loss = criterion(output, target)\n",
        "            batch_losses.append(loss)\n",
        "\n",
        "           # Accuracy 계산\n",
        "           # y pred와 y가 일치하면 correct에 1을 더해주기\n",
        "            pred = output.max(1, keepdim=True)[1]\n",
        "\n",
        "            # eq() 함수는 값이 일치하면 1을, 아니면 0을 출력.\n",
        "            correct += pred.eq(target.view_as(pred)).sum().item()\n",
        "\n",
        "    # 배치 당 평균 loss 계산 \n",
        "    avg_loss =  sum(batch_losses) / len(batch_losses)\n",
        "\n",
        "    #정확도 계산\n",
        "    accuracy = 100. * correct / len(test_loader.dataset)\n",
        "\n",
        "    return avg_loss, accuracy"
      ],
      "metadata": {
        "id": "aKlWQCHfbdqb"
      },
      "execution_count": null,
      "outputs": []
    },
    {
      "cell_type": "code",
      "source": [
        "EPOCHS = 100\n",
        "\n",
        "for epoch in range(1, EPOCHS + 1):\n",
        "    train_loss = train(model, train_loader, optimizer)\n",
        "    test_loss, test_accuracy = evaluate(model, test_loader)\n",
        "    \n",
        "    print(f'[{epoch}] Train Loss: {train_loss:.4f}\\tTest Loss: {test_loss:.4f}\\tAccuracy: {test_accuracy:.2f}%')"
      ],
      "metadata": {
        "colab": {
          "base_uri": "https://localhost:8080/"
        },
        "id": "trUdvs6pbdv-",
        "outputId": "337c2fb0-42aa-496c-b1ba-e8329e8f5465"
      },
      "execution_count": null,
      "outputs": [
        {
          "output_type": "stream",
          "name": "stdout",
          "text": [
            "[1] Train Loss: 0.8467\tTest Loss: 0.3062\tAccuracy: 90.71%\n",
            "[2] Train Loss: 0.2365\tTest Loss: 0.2033\tAccuracy: 93.57%\n",
            "[3] Train Loss: 0.1640\tTest Loss: 0.1803\tAccuracy: 94.27%\n",
            "[4] Train Loss: 0.1315\tTest Loss: 0.1520\tAccuracy: 94.87%\n",
            "[5] Train Loss: 0.1096\tTest Loss: 0.1075\tAccuracy: 96.73%\n",
            "[6] Train Loss: 0.0904\tTest Loss: 0.0976\tAccuracy: 96.78%\n",
            "[7] Train Loss: 0.0788\tTest Loss: 0.2918\tAccuracy: 90.84%\n",
            "[8] Train Loss: 0.0837\tTest Loss: 0.1005\tAccuracy: 96.96%\n",
            "[9] Train Loss: 0.0605\tTest Loss: 0.0919\tAccuracy: 97.16%\n",
            "[10] Train Loss: 0.0530\tTest Loss: 0.0883\tAccuracy: 97.13%\n",
            "[11] Train Loss: 0.0484\tTest Loss: 0.1813\tAccuracy: 94.21%\n",
            "[12] Train Loss: 0.1624\tTest Loss: 0.1175\tAccuracy: 96.40%\n",
            "[13] Train Loss: 0.0522\tTest Loss: 0.1238\tAccuracy: 96.06%\n",
            "[14] Train Loss: 0.1043\tTest Loss: 0.0844\tAccuracy: 97.42%\n",
            "[15] Train Loss: 0.0436\tTest Loss: 0.0740\tAccuracy: 97.55%\n",
            "[16] Train Loss: 0.0371\tTest Loss: 0.0753\tAccuracy: 97.71%\n",
            "[17] Train Loss: 0.0323\tTest Loss: 0.0787\tAccuracy: 97.54%\n",
            "[18] Train Loss: 0.0285\tTest Loss: 0.0710\tAccuracy: 97.69%\n",
            "[19] Train Loss: 0.0251\tTest Loss: 0.3237\tAccuracy: 90.62%\n",
            "[20] Train Loss: 0.1323\tTest Loss: 0.0770\tAccuracy: 97.64%\n",
            "[21] Train Loss: 0.0338\tTest Loss: 0.0970\tAccuracy: 97.19%\n",
            "[22] Train Loss: 0.0278\tTest Loss: 0.0818\tAccuracy: 97.49%\n",
            "[23] Train Loss: 0.0243\tTest Loss: 0.0833\tAccuracy: 97.51%\n",
            "[24] Train Loss: 0.0210\tTest Loss: 0.0694\tAccuracy: 97.99%\n",
            "[25] Train Loss: 0.0195\tTest Loss: 0.2339\tAccuracy: 93.68%\n",
            "[26] Train Loss: 0.0191\tTest Loss: 0.0685\tAccuracy: 98.08%\n",
            "[27] Train Loss: 0.0143\tTest Loss: 0.0738\tAccuracy: 97.94%\n",
            "[28] Train Loss: 0.0125\tTest Loss: 0.0804\tAccuracy: 97.83%\n",
            "[29] Train Loss: 0.0114\tTest Loss: 0.0797\tAccuracy: 97.81%\n",
            "[30] Train Loss: 0.0099\tTest Loss: 0.0731\tAccuracy: 97.91%\n",
            "[31] Train Loss: 0.0090\tTest Loss: 0.0751\tAccuracy: 98.00%\n",
            "[32] Train Loss: 0.0080\tTest Loss: 0.0748\tAccuracy: 97.96%\n",
            "[33] Train Loss: 0.0071\tTest Loss: 0.0829\tAccuracy: 97.71%\n",
            "[34] Train Loss: 0.0065\tTest Loss: 0.0773\tAccuracy: 98.01%\n",
            "[35] Train Loss: 0.0060\tTest Loss: 0.0778\tAccuracy: 97.95%\n",
            "[36] Train Loss: 0.0053\tTest Loss: 0.0758\tAccuracy: 97.96%\n",
            "[37] Train Loss: 0.0046\tTest Loss: 0.0802\tAccuracy: 97.93%\n",
            "[38] Train Loss: 0.0042\tTest Loss: 0.0809\tAccuracy: 97.98%\n",
            "[39] Train Loss: 0.0040\tTest Loss: 0.0792\tAccuracy: 97.90%\n",
            "[40] Train Loss: 0.0036\tTest Loss: 0.0780\tAccuracy: 98.01%\n",
            "[41] Train Loss: 0.0032\tTest Loss: 0.0803\tAccuracy: 97.96%\n",
            "[42] Train Loss: 0.0030\tTest Loss: 0.0792\tAccuracy: 98.00%\n",
            "[43] Train Loss: 0.0028\tTest Loss: 0.0795\tAccuracy: 98.05%\n",
            "[44] Train Loss: 0.0026\tTest Loss: 0.0840\tAccuracy: 97.95%\n",
            "[45] Train Loss: 0.0024\tTest Loss: 0.0823\tAccuracy: 97.99%\n",
            "[46] Train Loss: 0.0022\tTest Loss: 0.0828\tAccuracy: 98.01%\n",
            "[47] Train Loss: 0.0020\tTest Loss: 0.0829\tAccuracy: 98.01%\n",
            "[48] Train Loss: 0.0019\tTest Loss: 0.0817\tAccuracy: 98.05%\n",
            "[49] Train Loss: 0.0018\tTest Loss: 0.0843\tAccuracy: 98.03%\n",
            "[50] Train Loss: 0.0017\tTest Loss: 0.0827\tAccuracy: 98.08%\n",
            "[51] Train Loss: 0.0016\tTest Loss: 0.0850\tAccuracy: 98.01%\n",
            "[52] Train Loss: 0.0016\tTest Loss: 0.0952\tAccuracy: 97.80%\n",
            "[53] Train Loss: 0.0016\tTest Loss: 0.0882\tAccuracy: 97.99%\n",
            "[54] Train Loss: 0.0014\tTest Loss: 0.0843\tAccuracy: 98.06%\n",
            "[55] Train Loss: 0.0013\tTest Loss: 0.0864\tAccuracy: 98.03%\n",
            "[56] Train Loss: 0.0013\tTest Loss: 0.0864\tAccuracy: 97.97%\n",
            "[57] Train Loss: 0.0012\tTest Loss: 0.0861\tAccuracy: 98.04%\n",
            "[58] Train Loss: 0.0012\tTest Loss: 0.0870\tAccuracy: 98.06%\n",
            "[59] Train Loss: 0.0011\tTest Loss: 0.0883\tAccuracy: 98.06%\n",
            "[60] Train Loss: 0.0011\tTest Loss: 0.0909\tAccuracy: 98.06%\n",
            "[61] Train Loss: 0.0010\tTest Loss: 0.0891\tAccuracy: 98.02%\n",
            "[62] Train Loss: 0.0010\tTest Loss: 0.0878\tAccuracy: 98.02%\n",
            "[63] Train Loss: 0.0010\tTest Loss: 0.0886\tAccuracy: 98.05%\n",
            "[64] Train Loss: 0.0009\tTest Loss: 0.0908\tAccuracy: 98.00%\n",
            "[65] Train Loss: 0.0009\tTest Loss: 0.0907\tAccuracy: 98.02%\n",
            "[66] Train Loss: 0.0009\tTest Loss: 0.0902\tAccuracy: 98.03%\n",
            "[67] Train Loss: 0.0008\tTest Loss: 0.0907\tAccuracy: 98.02%\n",
            "[68] Train Loss: 0.0008\tTest Loss: 0.0902\tAccuracy: 98.01%\n",
            "[69] Train Loss: 0.0008\tTest Loss: 0.0913\tAccuracy: 98.03%\n",
            "[70] Train Loss: 0.0008\tTest Loss: 0.0913\tAccuracy: 98.01%\n",
            "[71] Train Loss: 0.0007\tTest Loss: 0.0940\tAccuracy: 97.99%\n",
            "[72] Train Loss: 0.0007\tTest Loss: 0.0914\tAccuracy: 98.03%\n",
            "[73] Train Loss: 0.0007\tTest Loss: 0.0915\tAccuracy: 98.02%\n",
            "[74] Train Loss: 0.0007\tTest Loss: 0.0914\tAccuracy: 98.02%\n",
            "[75] Train Loss: 0.0007\tTest Loss: 0.0922\tAccuracy: 98.01%\n",
            "[76] Train Loss: 0.0006\tTest Loss: 0.0932\tAccuracy: 98.02%\n",
            "[77] Train Loss: 0.0006\tTest Loss: 0.0918\tAccuracy: 98.03%\n",
            "[78] Train Loss: 0.0006\tTest Loss: 0.0944\tAccuracy: 98.02%\n",
            "[79] Train Loss: 0.0006\tTest Loss: 0.0966\tAccuracy: 98.03%\n",
            "[80] Train Loss: 0.0006\tTest Loss: 0.0963\tAccuracy: 98.02%\n",
            "[81] Train Loss: 0.0006\tTest Loss: 0.0962\tAccuracy: 98.03%\n",
            "[82] Train Loss: 0.0006\tTest Loss: 0.0965\tAccuracy: 98.04%\n",
            "[83] Train Loss: 0.0006\tTest Loss: 0.0964\tAccuracy: 97.99%\n",
            "[84] Train Loss: 0.0005\tTest Loss: 0.0949\tAccuracy: 98.01%\n",
            "[85] Train Loss: 0.0005\tTest Loss: 0.0950\tAccuracy: 98.04%\n",
            "[86] Train Loss: 0.0005\tTest Loss: 0.0931\tAccuracy: 97.98%\n",
            "[87] Train Loss: 0.0005\tTest Loss: 0.0980\tAccuracy: 98.04%\n",
            "[88] Train Loss: 0.0005\tTest Loss: 0.0951\tAccuracy: 98.02%\n",
            "[89] Train Loss: 0.0005\tTest Loss: 0.0959\tAccuracy: 98.00%\n",
            "[90] Train Loss: 0.0005\tTest Loss: 0.0979\tAccuracy: 98.02%\n",
            "[91] Train Loss: 0.0005\tTest Loss: 0.0969\tAccuracy: 98.03%\n",
            "[92] Train Loss: 0.0005\tTest Loss: 0.0969\tAccuracy: 98.01%\n",
            "[93] Train Loss: 0.0004\tTest Loss: 0.0981\tAccuracy: 98.00%\n",
            "[94] Train Loss: 0.0004\tTest Loss: 0.0963\tAccuracy: 98.00%\n",
            "[95] Train Loss: 0.0004\tTest Loss: 0.0992\tAccuracy: 98.02%\n",
            "[96] Train Loss: 0.0004\tTest Loss: 0.0986\tAccuracy: 98.04%\n",
            "[97] Train Loss: 0.0004\tTest Loss: 0.0977\tAccuracy: 97.99%\n",
            "[98] Train Loss: 0.0004\tTest Loss: 0.0964\tAccuracy: 98.02%\n",
            "[99] Train Loss: 0.0004\tTest Loss: 0.0988\tAccuracy: 98.02%\n",
            "[100] Train Loss: 0.0004\tTest Loss: 0.0999\tAccuracy: 98.00%\n"
          ]
        }
      ]
    },
    {
      "cell_type": "markdown",
      "metadata": {
        "id": "WaqqRzF73oBu"
      },
      "source": [
        "## 과제 4\n",
        "과제 3 부분의 성능을 지금까지 배운 지식을 바탕으로 향상시켜보세요\n",
        "\n",
        "- Hint : Activation function, hyperparameter setting"
      ]
    },
    {
      "cell_type": "code",
      "metadata": {
        "id": "k6b82DZG6W3j"
      },
      "source": [
        "# Assignment 4 구현은 여기서 ()\n",
        "# optimizer Adam , lr 수정\n",
        "criterion = nn.CrossEntropyLoss()\n",
        "optimizer = optim.Adam(model.parameters(), lr=0.1)"
      ],
      "execution_count": null,
      "outputs": []
    },
    {
      "cell_type": "code",
      "source": [
        "EPOCHS = 15\n",
        "\n",
        "for epoch in range(1, EPOCHS + 1):\n",
        "    train_loss = train(model, train_loader, optimizer)\n",
        "    test_loss, test_accuracy = evaluate(model, test_loader)\n",
        "    \n",
        "    print(f'[{epoch}] Train Loss: {train_loss:.4f}\\tTest Loss: {test_loss:.4f}\\tAccuracy: {test_accuracy:.2f}%')"
      ],
      "metadata": {
        "colab": {
          "base_uri": "https://localhost:8080/"
        },
        "id": "EdzJD4xueg7J",
        "outputId": "16586f1d-3b12-42d1-d816-8499a49d346d"
      },
      "execution_count": null,
      "outputs": [
        {
          "output_type": "stream",
          "name": "stdout",
          "text": [
            "[1] Train Loss: 7.9618\tTest Loss: 0.4892\tAccuracy: 86.80%\n",
            "[2] Train Loss: 0.4161\tTest Loss: 0.3805\tAccuracy: 89.24%\n",
            "[3] Train Loss: 0.3332\tTest Loss: 0.3107\tAccuracy: 91.41%\n",
            "[4] Train Loss: 0.2962\tTest Loss: 0.3020\tAccuracy: 91.26%\n",
            "[5] Train Loss: 0.2754\tTest Loss: 0.3250\tAccuracy: 91.31%\n",
            "[6] Train Loss: 0.2715\tTest Loss: 0.3346\tAccuracy: 90.92%\n",
            "[7] Train Loss: 0.2561\tTest Loss: 0.2855\tAccuracy: 91.86%\n",
            "[8] Train Loss: 0.2509\tTest Loss: 0.2843\tAccuracy: 92.17%\n",
            "[9] Train Loss: 0.2425\tTest Loss: 0.2846\tAccuracy: 92.08%\n",
            "[10] Train Loss: 0.2494\tTest Loss: 0.3026\tAccuracy: 91.88%\n",
            "[11] Train Loss: 0.2410\tTest Loss: 0.3169\tAccuracy: 91.88%\n",
            "[12] Train Loss: 0.2295\tTest Loss: 0.2725\tAccuracy: 92.98%\n",
            "[13] Train Loss: 0.2218\tTest Loss: 0.2666\tAccuracy: 92.99%\n",
            "[14] Train Loss: 0.2221\tTest Loss: 0.2679\tAccuracy: 92.63%\n",
            "[15] Train Loss: 0.2148\tTest Loss: 0.2441\tAccuracy: 94.01%\n"
          ]
        }
      ]
    },
    {
      "cell_type": "code",
      "source": [
        "# hidden layer의 node 수 변경"
      ],
      "metadata": {
        "id": "eKRfpBLPfFPt"
      },
      "execution_count": null,
      "outputs": []
    },
    {
      "cell_type": "code",
      "source": [
        "class Net(nn.Module):\n",
        "    def __init__(self):\n",
        "        super(Net, self).__init__()\n",
        "        self.layer1 = nn.Linear(784,256)\n",
        "        self.layer2 = nn.Linear(256,128)\n",
        "        self.layer3 = nn.Linear(128,10)\n",
        "        self.relu = nn.ReLU()\n",
        "        \n",
        "    def forward(self, x):\n",
        "        x = x.view(-1, 784)\n",
        "        out = self.layer1(x)\n",
        "        out = self.relu(out)\n",
        "        out = self.layer2(out)\n",
        "        out = self.relu(out)\n",
        "        out = self.layer3(out)\n",
        "\n",
        "        return out"
      ],
      "metadata": {
        "id": "hqfo-1HxfY73"
      },
      "execution_count": null,
      "outputs": []
    },
    {
      "cell_type": "code",
      "source": [
        "model = Net()\n",
        "model"
      ],
      "metadata": {
        "colab": {
          "base_uri": "https://localhost:8080/"
        },
        "outputId": "1b74700a-63de-4176-a828-87d48cb1e180",
        "id": "N4QQcie6fY8D"
      },
      "execution_count": null,
      "outputs": [
        {
          "output_type": "execute_result",
          "data": {
            "text/plain": [
              "Net(\n",
              "  (layer1): Linear(in_features=784, out_features=256, bias=True)\n",
              "  (layer2): Linear(in_features=256, out_features=128, bias=True)\n",
              "  (layer3): Linear(in_features=128, out_features=10, bias=True)\n",
              "  (relu): ReLU()\n",
              ")"
            ]
          },
          "metadata": {},
          "execution_count": 53
        }
      ]
    },
    {
      "cell_type": "code",
      "source": [
        "criterion = nn.CrossEntropyLoss()\n",
        "optimizer = optim.SGD(model.parameters(), lr=0.5)"
      ],
      "metadata": {
        "id": "y4MK0FC5fY8E"
      },
      "execution_count": null,
      "outputs": []
    },
    {
      "cell_type": "code",
      "source": [
        "EPOCHS = 15\n",
        "\n",
        "for epoch in range(1, EPOCHS + 1):\n",
        "    train_loss = train(model, train_loader, optimizer)\n",
        "    test_loss, test_accuracy = evaluate(model, test_loader)\n",
        "    \n",
        "    print(f'[{epoch}] Train Loss: {train_loss:.4f}\\tTest Loss: {test_loss:.4f}\\tAccuracy: {test_accuracy:.2f}%')"
      ],
      "metadata": {
        "colab": {
          "base_uri": "https://localhost:8080/"
        },
        "outputId": "9cc8a17b-3101-4258-f28f-bdfb43cb4b42",
        "id": "LtViYAqZfY8E"
      },
      "execution_count": null,
      "outputs": [
        {
          "output_type": "stream",
          "name": "stdout",
          "text": [
            "[1] Train Loss: 0.8936\tTest Loss: 0.3561\tAccuracy: 88.57%\n",
            "[2] Train Loss: 0.2375\tTest Loss: 0.2120\tAccuracy: 93.53%\n",
            "[3] Train Loss: 0.1647\tTest Loss: 0.1870\tAccuracy: 93.89%\n",
            "[4] Train Loss: 0.1284\tTest Loss: 0.2238\tAccuracy: 92.64%\n",
            "[5] Train Loss: 0.1048\tTest Loss: 0.1300\tAccuracy: 95.96%\n",
            "[6] Train Loss: 0.0875\tTest Loss: 0.1049\tAccuracy: 96.77%\n",
            "[7] Train Loss: 0.0757\tTest Loss: 0.1162\tAccuracy: 96.09%\n",
            "[8] Train Loss: 0.0643\tTest Loss: 0.0946\tAccuracy: 97.00%\n",
            "[9] Train Loss: 0.0560\tTest Loss: 0.0829\tAccuracy: 97.54%\n",
            "[10] Train Loss: 0.0489\tTest Loss: 0.1038\tAccuracy: 96.65%\n",
            "[11] Train Loss: 0.0433\tTest Loss: 0.0759\tAccuracy: 97.63%\n",
            "[12] Train Loss: 0.0373\tTest Loss: 0.0927\tAccuracy: 96.95%\n",
            "[13] Train Loss: 0.0337\tTest Loss: 0.0670\tAccuracy: 98.02%\n",
            "[14] Train Loss: 0.0289\tTest Loss: 0.2166\tAccuracy: 93.66%\n",
            "[15] Train Loss: 0.1717\tTest Loss: 0.1339\tAccuracy: 95.77%\n"
          ]
        }
      ]
    },
    {
      "cell_type": "code",
      "source": [
        "model = Net()\n",
        "model"
      ],
      "metadata": {
        "colab": {
          "base_uri": "https://localhost:8080/"
        },
        "id": "CVB9W4vuhD3F",
        "outputId": "12686002-27b0-454a-a4f2-0e2e21187022"
      },
      "execution_count": null,
      "outputs": [
        {
          "output_type": "execute_result",
          "data": {
            "text/plain": [
              "Net(\n",
              "  (layer1): Linear(in_features=784, out_features=256, bias=True)\n",
              "  (layer2): Linear(in_features=256, out_features=128, bias=True)\n",
              "  (layer3): Linear(in_features=128, out_features=10, bias=True)\n",
              "  (relu): ReLU()\n",
              ")"
            ]
          },
          "metadata": {},
          "execution_count": 56
        }
      ]
    },
    {
      "cell_type": "markdown",
      "metadata": {
        "id": "pboMIBQq7onH"
      },
      "source": [
        "**무엇을 보완하였고, 왜 보완되었는지에 대한 자유 서술 (아래에)**"
      ]
    },
    {
      "cell_type": "code",
      "metadata": {
        "id": "ux7mPf6E78d4"
      },
      "source": [
        "# 첫번째로 optimizer와 learning rate 수정하였으나 가장 처음 것보다 좋지 않았다.\n",
        "# 두번째로 second hidden layer의 node 수를 128개로 늘리고 나머지는 그대로 유지하였는데 \n",
        "# loss가 더 빨리 줄어들면서 약간 더 좋은 성능을 보였다. \n",
        "# parameter수가 조금 늘어나서 복잡한 모델이 만들어졌기 때문이라고 생각한다."
      ],
      "execution_count": null,
      "outputs": []
    },
    {
      "cell_type": "markdown",
      "source": [
        ""
      ],
      "metadata": {
        "id": "LkST2ZGfhlh_"
      }
    }
  ]
}