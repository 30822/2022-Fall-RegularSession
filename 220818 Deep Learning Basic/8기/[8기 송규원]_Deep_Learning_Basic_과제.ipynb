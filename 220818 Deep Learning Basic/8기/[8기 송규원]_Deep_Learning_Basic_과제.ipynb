{
 "cells": [
  {
   "cell_type": "code",
   "execution_count": 21,
   "metadata": {},
   "outputs": [],
   "source": [
    "import numpy as np\n",
    "import pandas as pd\n",
    "import matplotlib.pyplot as plt"
   ]
  },
  {
   "cell_type": "markdown",
   "metadata": {
    "id": "_rjuQY9f2mdS"
   },
   "source": [
    "## 과제 1\n",
    "ReLu activation function과 derivative function을 구현해보세요\n",
    "- Hint : np.maximum 함수 사용하면 편리합니다\n",
    "- 다른 방법 사용하셔도 무방합니다\n"
   ]
  },
  {
   "cell_type": "code",
   "execution_count": 12,
   "metadata": {},
   "outputs": [],
   "source": [
    "def relu(x) :\n",
    "    \n",
    "    result = np.maximum(0,x)\n",
    "    \n",
    "    return result"
   ]
  },
  {
   "cell_type": "code",
   "execution_count": 13,
   "metadata": {},
   "outputs": [
    {
     "data": {
      "image/png": "[encoded data removed]",
      "text/plain": [
       "<Figure size 432x288 with 1 Axes>"
      ]
     },
     "metadata": {
      "needs_background": "light"
     },
     "output_type": "display_data"
    }
   ],
   "source": [
    "x = np.arange(-10,10)\n",
    "y = relu(x)\n",
    "\n",
    "plt.plot(x,y)\n",
    "plt.show()"
   ]
  },
  {
   "cell_type": "code",
   "execution_count": 16,
   "metadata": {},
   "outputs": [],
   "source": [
    "def d_relu(x) :\n",
    "    \n",
    "    if x >=0 :\n",
    "        \n",
    "        result = 1\n",
    "        \n",
    "    else :\n",
    "        \n",
    "        result = 0\n",
    "        \n",
    "    return result"
   ]
  },
  {
   "cell_type": "markdown",
   "metadata": {
    "id": "wz8Hi0Rc2-yJ"
   },
   "source": [
    "## 과제 2\n",
    "Deep Learning Basic 코드 파일의 MLP implementation with Numpy library using MNIST dataset 코드 참고해서\n",
    "Three layer MLP 일 때의 backward_pass 함수를 완성해주세요.   \n",
    "- Hint : 코드 파일의 예시는 Two layer MLP\n"
   ]
  },
  {
   "cell_type": "code",
   "execution_count": null,
   "metadata": {},
   "outputs": [],
   "source": [
    "def backward_pass(x, y_true, params) :\n",
    "\n",
    "    dS3 = params[\"A3\"] - y_true\n",
    "\n",
    "    grads = {}\n",
    "    \n",
    "    grads[\"dW3\"] =  np.dot(dS3, params[\"A2\"].T)/x.shape[1]\n",
    "    grads[\"db3\"] =  (1/x.shape[1])*np.sum(dS3, axis=1, keepdims=True)/x.shape[1]\n",
    "\n",
    "    grads[\"dW2\"] =  np.dot(dS2, params[\"A1\"].T)/x.shape[1]\n",
    "    grads[\"db2\"] =  (1/x.shape[1])*np.sum(dS2, axis=1, keepdims=True)/x.shape[1]\n",
    "\n",
    "    dA1 = np.dot(params[\"W2\"].T, dS2)\n",
    "    dS1 = dA1 * d_sigmoid(params[\"S1\"])\n",
    "\n",
    "    grads[\"dW1\"] = np.dot(dS1, x.T)/x.shape[1]\n",
    "    grads[\"db1\"] = np.sum(dS1, axis=1, keepdims=True)/x.shape[1]\n",
    "\n",
    "    return grads"
   ]
  },
  {
   "cell_type": "markdown",
   "metadata": {
    "id": "twf-R8s-34zT"
   },
   "source": [
    "## 과제 3\n",
    "Deep Learning Basic 코드 파일의 MLP implementation with Pytorch library using MNIST dataset 코드 참고해서\n",
    "Three layer MLP를 구한후, 학습을 돌려 보세요\n",
    "\n",
    "hyperparameter는 다음과 같이 설정\n",
    "\n",
    "- epochs : 100\n",
    "- hiddensize : 128, 64 (two layer)\n",
    "- learning_rate : 0.5"
   ]
  },
  {
   "cell_type": "code",
   "execution_count": null,
   "metadata": {},
   "outputs": [],
   "source": [
    "class Net(nn.Module) :\n",
    "    \n",
    "    def __init__(self) :\n",
    "        \n",
    "        super(Net, self).__init__()\n",
    "        self.layer1 = nn.Linear(784, 128)\n",
    "        self.layer2 = nn.Linear(128, 64)\n",
    "        self.layer3 = nn.Linear(64, 10)\n",
    "        self.relu = nn.ReLU()\n",
    "        \n",
    "    def forward(self, x):\n",
    "        x = x.view(-1, 784)\n",
    "        out = self.layer1(x)\n",
    "        out = self.relu(out)\n",
    "        out = self.layer2(out)\n",
    "        out = self.relu(out)\n",
    "        out = self.layer3(out)\n",
    "\n",
    "        return out"
   ]
  },
  {
   "cell_type": "code",
   "execution_count": null,
   "metadata": {},
   "outputs": [],
   "source": [
    "epochs = 100\n",
    "learning_rate = 0.5\n",
    "\n",
    "for i in range(epochs) :\n",
    "\n",
    "    if i == 0 :\n",
    "        \n",
    "        params = foward_pass(x_train, params)\n",
    "    \n",
    "    grads = backward_pass(x_train, y_train, params)\n",
    "\n",
    "    params[\"W1\"] -= learning_rate * grads[\"dW1\"]\n",
    "    params[\"b1\"] -= learning_rate * grads[\"db1\"]\n",
    "    params[\"W2\"] -= learning_rate * grads[\"dW2\"]\n",
    "    params[\"b2\"] -= learning_rate * grads[\"db2\"]\n",
    "\n",
    "    params = foward_pass(x_train, params)\n",
    "    train_loss = compute_loss(y_train, params[\"A2\"])\n",
    "    train_acc = compute_accuracy(y_train, params[\"A2\"])\n",
    "\n",
    "    params_test = foward_pass_test(x_test, params)\n",
    "    test_loss = compute_loss(y_test, params_test[\"A2\"])\n",
    "    test_acc = compute_accuracy(y_test, params_test[\"A2\"])\n",
    "\n",
    "    print(\"Epoch {}: training loss = {}, training acuracy = {}%, test loss = {}, training acuracy = {}%\"\n",
    "    .format(i + 1, np.round(train_loss, 6), np.round(train_acc, 2), np.round(test_loss, 6), np.round(test_acc, 2)))"
   ]
  },
  {
   "cell_type": "markdown",
   "metadata": {
    "id": "WaqqRzF73oBu"
   },
   "source": [
    "## 과제 4\n",
    "과제 3 부분의 성능을 지금까지 배운 지식을 바탕으로 향상시켜보세요\n",
    "\n",
    "- Hint : Activation function, hyperparameter setting"
   ]
  },
  {
   "cell_type": "code",
   "execution_count": null,
   "metadata": {
    "id": "k6b82DZG6W3j"
   },
   "outputs": [],
   "source": [
    "epochs = 100\n",
    "\n",
    "for learning_rate in np.arange(0,1,0.1) :\n",
    "    \n",
    "    for i in range(epochs) :\n",
    "\n",
    "        if i == 0 :\n",
    "        \n",
    "            params = foward_pass(x_train, params)\n",
    "    \n",
    "        grads = backward_pass(x_train, y_train, params)\n",
    "\n",
    "        params[\"W1\"] -= learning_rate * grads[\"dW1\"]\n",
    "        params[\"b1\"] -= learning_rate * grads[\"db1\"]\n",
    "        params[\"W2\"] -= learning_rate * grads[\"dW2\"]\n",
    "        params[\"b2\"] -= learning_rate * grads[\"db2\"]\n",
    "\n",
    "        params = foward_pass(x_train, params)\n",
    "        train_loss = compute_loss(y_train, params[\"A2\"])\n",
    "        train_acc = compute_accuracy(y_train, params[\"A2\"])\n",
    "\n",
    "        params_test = foward_pass_test(x_test, params)\n",
    "        test_loss = compute_loss(y_test, params_test[\"A2\"])\n",
    "        test_acc = compute_accuracy(y_test, params_test[\"A2\"])\n",
    "\n",
    "        print(\"Epoch {}:, Learning_rate = {} , training loss = {}, training acuracy = {}%, test loss = {}, training acuracy = {}%\"\n",
    "        .format(i + 1, learning_rate , np.round(train_loss, 6), np.round(train_acc, 2), np.round(test_loss, 6), np.round(test_acc, 2)))"
   ]
  },
  {
   "cell_type": "markdown",
   "metadata": {
    "id": "pboMIBQq7onH"
   },
   "source": [
    "**무엇을 보완하였고, 왜 보완되었는지에 대한 자유 서술 (아래에)**"
   ]
  },
  {
   "cell_type": "markdown",
   "metadata": {
    "id": "ux7mPf6E78d4"
   },
   "source": [
    "**A. 학습률을 0.1 ~ 0.9까지 변경해가면서 성능을 확인하고자 하였음**"
   ]
  }
 ],
 "metadata": {
  "colab": {
   "name": "[0818] Deep Learning Basic_과제.ipynb",
   "provenance": []
  },
  "kernelspec": {
   "display_name": "Python 3 (ipykernel)",
   "language": "python",
   "name": "python3"
  },
  "language_info": {
   "codemirror_mode": {
    "name": "ipython",
    "version": 3
   },
   "file_extension": ".py",
   "mimetype": "text/x-python",
   "name": "python",
   "nbconvert_exporter": "python",
   "pygments_lexer": "ipython3",
   "version": "3.9.12"
  }
 },
 "nbformat": 4,
 "nbformat_minor": 1
}
