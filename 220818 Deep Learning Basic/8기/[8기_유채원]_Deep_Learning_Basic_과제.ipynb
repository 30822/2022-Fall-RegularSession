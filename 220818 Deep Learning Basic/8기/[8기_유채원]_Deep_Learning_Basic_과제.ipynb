{
  "cells": [
    {
      "cell_type": "markdown",
      "metadata": {
        "id": "_rjuQY9f2mdS"
      },
      "source": [
        "## 과제 1\n",
        "ReLu activation function과 derivative function을 구현해보세요\n",
        "- Hint : np.maximum 함수 사용하면 편리합니다\n",
        "- 다른 방법 사용하셔도 무방합니다\n"
      ]
    },
    {
      "cell_type": "code",
      "execution_count": 1,
      "metadata": {
        "id": "puH0YVGI2uLz"
      },
      "outputs": [],
      "source": [
        "def relu(x):\n",
        "    return np.maximum(0,x)"
      ]
    },
    {
      "cell_type": "code",
      "execution_count": 1,
      "metadata": {
        "id": "Esm4jmTVijro"
      },
      "outputs": [],
      "source": [
        "def d_relu(x):\n",
        "    if x>0:\n",
        "        d= 1\n",
        "    elif x<0:\n",
        "        d=0\n",
        "    else:\n",
        "        d = None\n",
        "    return d"
      ]
    },
    {
      "cell_type": "markdown",
      "metadata": {
        "id": "wz8Hi0Rc2-yJ"
      },
      "source": [
        "## 과제 2\n",
        "Deep Learning Basic 코드 파일의 MLP implementation with Numpy library using MNIST dataset 코드 참고해서\n",
        "Three layer MLP 일 때의 backward_pass 함수를 완성해주세요.   \n",
        "- Hint : 코드 파일의 예시는 Two layer MLP\n"
      ]
    },
    {
      "cell_type": "code",
      "execution_count": 2,
      "metadata": {
        "id": "fusEy49j3uhs"
      },
      "outputs": [],
      "source": [
        "def backward_pass(x, y_true, params):\n",
        "\n",
        "    dS3 = params[\"A3\"] - y_true\n",
        "\n",
        "    grads = {}\n",
        "\n",
        "    grads['dW3'] = np.dot(dS3, params[\"A2\"].T)/x.shape[1]\n",
        "    grads['db3'] = (1/x.shape[1])*np.sum(dS3, axis=1, keepdims=True)/x.shape[1]\n",
        "    \n",
        "    dA2= np.dot(params[\"W3\"].T, dS3)\n",
        "    dS2= dA2 * d_sigmoid(params[\"S2\"])\n",
        "    \n",
        "    grads[\"dW2\"] =  np.dot(dS2, params[\"A1\"].T)/x.shape[1]\n",
        "    grads[\"db2\"] =  (1/x.shape[1])*np.sum(dS2, axis=1, keepdims=True)/x.shape[1]\n",
        "\n",
        "    dA1 = np.dot(params[\"W2\"].T, dS2)\n",
        "    dS1 = dA1 * d_sigmoid(params[\"S1\"])\n",
        "\n",
        "    grads[\"dW1\"] = np.dot(dS1, x.T)/x.shape[1]\n",
        "    grads[\"db1\"] = np.sum(dS1, axis=1, keepdims=True)/x.shape[1]\n",
        "\n",
        "    return grads"
      ]
    },
    {
      "cell_type": "markdown",
      "metadata": {
        "id": "twf-R8s-34zT"
      },
      "source": [
        "## 과제 3\n",
        "Deep Learning Basic 코드 파일의 MLP implementation with Pytorch library using MNIST dataset 코드 참고해서\n",
        "Three layer MLP를 구한후, 학습을 돌려 보세요\n",
        "\n",
        "hyperparameter는 다음과 같이 설정\n",
        "\n",
        "- epochs : 100\n",
        "- hiddensize : 128, 64 (two layer)\n",
        "- learning_rate : 0.5"
      ]
    },
    {
      "cell_type": "code",
      "execution_count": null,
      "metadata": {
        "id": "bxJO249A3jhk"
      },
      "outputs": [],
      "source": [
        "# Assignment 3 구현은 여기서 ()"
      ]
    },
    {
      "cell_type": "code",
      "execution_count": 3,
      "metadata": {
        "id": "VHZFjb4POOuT"
      },
      "outputs": [],
      "source": [
        "from torchvision import transforms, datasets\n",
        "import torch\n",
        "import torch.nn as nn\n",
        "import torch.optim as optim\n",
        "from torch.utils.data import Dataset\n",
        "from torch.utils.data import DataLoader"
      ]
    },
    {
      "cell_type": "code",
      "execution_count": 5,
      "metadata": {
        "id": "St3EOrGSOOuU"
      },
      "outputs": [],
      "source": [
        "transform = transforms.Compose([\n",
        "    transforms.ToTensor()\n",
        "])"
      ]
    },
    {
      "cell_type": "code",
      "execution_count": 6,
      "metadata": {
        "colab": {
          "base_uri": "https://localhost:8080/",
          "height": 435,
          "referenced_widgets": [
            "f739164e4c564344b72afc8c06169634",
            "e40743d29d6742dd81a1ad9da2ffb8ae",
            "eefa7481b76c40fdab257b0f75149e27",
            "25a11dde09c243f79011d7389a3b4835",
            "fe61a0650dd64934a45f70cb606f4914",
            "e432c1a78ff14f1cbcb02abe1a4e46c0",
            "a264ea17249d4f80aefd00831e408b81",
            "116986fa8e1648ae8066138f8ce74937",
            "dc652718031f4664b78a49eaae441d26",
            "9c215c3242714f5ea412950dbef80302",
            "5560b06a5e854f758ffc896e5f9ed05d",
            "dae581b9337349989a7e6fc9409ce969",
            "5ea15485507945e4b9b0d6b747a1df5d",
            "f9f9f27e9609437aa8cfbd48834a468c",
            "f52417c2a55140209cdfd96ab3a182f5",
            "02c747265ca44ff5b3540edc8479fdfb",
            "0393225698cb41578cc2d8f5c6878ce7",
            "7c89c45682164484ab4a3a7e6e260918",
            "9ae8b374507e46679e303fdfc6b952a7",
            "c3b51256749f45f88ec7f4a843569bbf",
            "56f5638fb6ef40699cf55acf49392ccb",
            "5440d16beb2b4a9e83bf165c726744b6",
            "356d2c5b1f3f4870906c9484e45150ac",
            "278f1046b22e4220a9b753869589256a",
            "faf12f8cc3e542198525be7165508c5d",
            "ed7c4629ab714054b9fa1ab89695fec3",
            "a41992eb9124450cb2efd7491362788a",
            "b7df4290bd0e4f36812b0b580aee1b87",
            "28388db2684644f3a542c8946fe7e518",
            "3a9d4e950cb1466587975b60768e3cc1",
            "39260a0ef43a485694d31e1019ecf99a",
            "7fbd08ed7e5346b295f1dfc93a042563",
            "b8fd69c9c7b7429090816da279444d09",
            "c41df2be358a4ebeb79419208e4b1e70",
            "6fc8fa8645574402ade56116c010ee8b",
            "7b4b36c3fb3541ed8f74955cb7dd9684",
            "189c34a8179a42f3b1ce5057f6d4f7e0",
            "4a6105f5fd794231942b433418f7b94c",
            "5092577517b448c4b8b82147f855c580",
            "0008d5795aa9413eb6176b41a524f3ab",
            "fdba1363938249d8b1d9dbe20b2df042",
            "b97ada11c906403a99d0ed26587bfbe6",
            "deba01628e09424f81cd61b1619128b9",
            "9266e33b44a1413db5350c97997e7ece"
          ]
        },
        "id": "EF7R84S-OOuU",
        "outputId": "3528d4fb-f403-478f-a60c-6f1bf4058c30"
      },
      "outputs": [
        {
          "output_type": "stream",
          "name": "stdout",
          "text": [
            "Downloading http://yann.lecun.com/exdb/mnist/train-images-idx3-ubyte.gz\n",
            "Downloading http://yann.lecun.com/exdb/mnist/train-images-idx3-ubyte.gz to ./.data/MNIST/raw/train-images-idx3-ubyte.gz\n"
          ]
        },
        {
          "output_type": "display_data",
          "data": {
            "text/plain": [
              "  0%|          | 0/9912422 [00:00<?, ?it/s]"
            ],
            "application/vnd.jupyter.widget-view+json": {
              "version_major": 2,
              "version_minor": 0,
              "model_id": "f739164e4c564344b72afc8c06169634"
            }
          },
          "metadata": {}
        },
        {
          "output_type": "stream",
          "name": "stdout",
          "text": [
            "Extracting ./.data/MNIST/raw/train-images-idx3-ubyte.gz to ./.data/MNIST/raw\n",
            "\n",
            "Downloading http://yann.lecun.com/exdb/mnist/train-labels-idx1-ubyte.gz\n",
            "Downloading http://yann.lecun.com/exdb/mnist/train-labels-idx1-ubyte.gz to ./.data/MNIST/raw/train-labels-idx1-ubyte.gz\n"
          ]
        },
        {
          "output_type": "display_data",
          "data": {
            "text/plain": [
              "  0%|          | 0/28881 [00:00<?, ?it/s]"
            ],
            "application/vnd.jupyter.widget-view+json": {
              "version_major": 2,
              "version_minor": 0,
              "model_id": "dae581b9337349989a7e6fc9409ce969"
            }
          },
          "metadata": {}
        },
        {
          "output_type": "stream",
          "name": "stdout",
          "text": [
            "Extracting ./.data/MNIST/raw/train-labels-idx1-ubyte.gz to ./.data/MNIST/raw\n",
            "\n",
            "Downloading http://yann.lecun.com/exdb/mnist/t10k-images-idx3-ubyte.gz\n",
            "Downloading http://yann.lecun.com/exdb/mnist/t10k-images-idx3-ubyte.gz to ./.data/MNIST/raw/t10k-images-idx3-ubyte.gz\n"
          ]
        },
        {
          "output_type": "display_data",
          "data": {
            "text/plain": [
              "  0%|          | 0/1648877 [00:00<?, ?it/s]"
            ],
            "application/vnd.jupyter.widget-view+json": {
              "version_major": 2,
              "version_minor": 0,
              "model_id": "356d2c5b1f3f4870906c9484e45150ac"
            }
          },
          "metadata": {}
        },
        {
          "output_type": "stream",
          "name": "stdout",
          "text": [
            "Extracting ./.data/MNIST/raw/t10k-images-idx3-ubyte.gz to ./.data/MNIST/raw\n",
            "\n",
            "Downloading http://yann.lecun.com/exdb/mnist/t10k-labels-idx1-ubyte.gz\n",
            "Downloading http://yann.lecun.com/exdb/mnist/t10k-labels-idx1-ubyte.gz to ./.data/MNIST/raw/t10k-labels-idx1-ubyte.gz\n"
          ]
        },
        {
          "output_type": "display_data",
          "data": {
            "text/plain": [
              "  0%|          | 0/4542 [00:00<?, ?it/s]"
            ],
            "application/vnd.jupyter.widget-view+json": {
              "version_major": 2,
              "version_minor": 0,
              "model_id": "c41df2be358a4ebeb79419208e4b1e70"
            }
          },
          "metadata": {}
        },
        {
          "output_type": "stream",
          "name": "stdout",
          "text": [
            "Extracting ./.data/MNIST/raw/t10k-labels-idx1-ubyte.gz to ./.data/MNIST/raw\n",
            "\n"
          ]
        }
      ],
      "source": [
        "trainset = datasets.MNIST(\n",
        "    root      = './.data/', \n",
        "    train     = True,\n",
        "    download  = True,\n",
        "    transform = transform\n",
        ")\n",
        "testset = datasets.MNIST(\n",
        "    root      = './.data/', \n",
        "    train     = False,\n",
        "    download  = True,\n",
        "    transform = transform\n",
        ")"
      ]
    },
    {
      "cell_type": "code",
      "execution_count": 7,
      "metadata": {
        "id": "ciuG_O6ZOOuV"
      },
      "outputs": [],
      "source": [
        "BATCH_SIZE = 512\n",
        "train_loader = DataLoader(trainset, batch_size=BATCH_SIZE, shuffle=True)\n",
        "test_loader =  DataLoader(testset, batch_size=BATCH_SIZE, shuffle=True)"
      ]
    },
    {
      "cell_type": "code",
      "execution_count": 8,
      "metadata": {
        "id": "_bJcyMSoOOuV"
      },
      "outputs": [],
      "source": [
        "class Net(nn.Module):\n",
        "    def __init__(self):\n",
        "        super(Net, self).__init__()\n",
        "        self.layer1 = nn.Linear(784,128)\n",
        "        self.layer2 = nn.Linear(128,64)\n",
        "        self.layer3 = nn.Linear(64,10)\n",
        "        self.relu = nn.ReLU()\n",
        "        \n",
        "    def forward(self, x):\n",
        "        x = x.view(-1, 784)\n",
        "        out = self.layer1(x)\n",
        "        out = self.relu(out)\n",
        "        out = self.layer2(out)\n",
        "        out = self.relu(out)\n",
        "        out = self.layer3(out)\n",
        "\n",
        "        return out"
      ]
    },
    {
      "cell_type": "code",
      "execution_count": 9,
      "metadata": {
        "colab": {
          "base_uri": "https://localhost:8080/"
        },
        "id": "c5RN0Nt0OOuW",
        "outputId": "226d20f8-5b3e-4c1e-c5fc-b81fe8422287"
      },
      "outputs": [
        {
          "output_type": "execute_result",
          "data": {
            "text/plain": [
              "Net(\n",
              "  (layer1): Linear(in_features=784, out_features=128, bias=True)\n",
              "  (layer2): Linear(in_features=128, out_features=64, bias=True)\n",
              "  (layer3): Linear(in_features=64, out_features=10, bias=True)\n",
              "  (relu): ReLU()\n",
              ")"
            ]
          },
          "metadata": {},
          "execution_count": 9
        }
      ],
      "source": [
        "model = Net()\n",
        "model"
      ]
    },
    {
      "cell_type": "code",
      "execution_count": 10,
      "metadata": {
        "id": "w_SpzwFmOOuW"
      },
      "outputs": [],
      "source": [
        "criterion = nn.CrossEntropyLoss()\n",
        "optimizer = optim.SGD(model.parameters(), lr=0.5)"
      ]
    },
    {
      "cell_type": "code",
      "execution_count": 11,
      "metadata": {
        "id": "sY60rzxnOOuW"
      },
      "outputs": [],
      "source": [
        "def train(model, train_loader, optimizer):\n",
        "    model.train()\n",
        "    # 배치 당 loss 값을 담을 리스트 생성\n",
        "    batch_losses = []\n",
        "\n",
        "    for data, target in train_loader:\n",
        "        # 옵티마이저의 기울기 초기화\n",
        "        optimizer.zero_grad()\n",
        "\n",
        "        # y pred 값 산출\n",
        "        output = model(data)\n",
        "        # loss 계산\n",
        "        # 정답 데이터와의 cross entropy loss 계산\n",
        "        # 이 loss를 배치 당 loss로 보관\n",
        "        loss = criterion(output, target)\n",
        "        batch_losses.append(loss)\n",
        "\n",
        "        # 기울기 계산\n",
        "        loss.backward()\n",
        "\n",
        "        # 가중치 업데이트!\n",
        "        optimizer.step()\n",
        "        \n",
        "    # 배치당 평균 loss 계산\n",
        "    avg_loss = sum(batch_losses) / len(batch_losses)\n",
        "    \n",
        "    return avg_loss"
      ]
    },
    {
      "cell_type": "code",
      "execution_count": 12,
      "metadata": {
        "id": "Eg_3muRzOOuX"
      },
      "outputs": [],
      "source": [
        "def evaluate(model, test_loader):\n",
        "    # 모델을 평가 모드로 전환\n",
        "    model.eval()\n",
        "\n",
        "    batch_losses = []\n",
        "    correct = 0 \n",
        "\n",
        "    with torch.no_grad(): \n",
        "        for data, target in test_loader:\n",
        "            # 예측값 생성\n",
        "            output = model(data)\n",
        "\n",
        "            # loss 계산 (이전과 동일)\n",
        "            loss = criterion(output, target)\n",
        "            batch_losses.append(loss)\n",
        "\n",
        "           # Accuracy 계산\n",
        "           # y pred와 y가 일치하면 correct에 1을 더해주기\n",
        "            pred = output.max(1, keepdim=True)[1]\n",
        "\n",
        "            # eq() 함수는 값이 일치하면 1을, 아니면 0을 출력.\n",
        "            correct += pred.eq(target.view_as(pred)).sum().item()\n",
        "\n",
        "    # 배치 당 평균 loss 계산 \n",
        "    avg_loss =  sum(batch_losses) / len(batch_losses)\n",
        "\n",
        "    #정확도 계산\n",
        "    accuracy = 100. * correct / len(test_loader.dataset)\n",
        "\n",
        "    return avg_loss, accuracy"
      ]
    },
    {
      "cell_type": "code",
      "execution_count": 15,
      "metadata": {
        "colab": {
          "base_uri": "https://localhost:8080/"
        },
        "id": "Url-USewOOuY",
        "outputId": "e3201af1-27ee-46ac-ef6a-1aed5f0e7d0a"
      },
      "outputs": [
        {
          "output_type": "stream",
          "name": "stdout",
          "text": [
            "[1] Train Loss: 0.0318\tTest Loss: 0.1443\tAccuracy: 96.38%\n",
            "[2] Train Loss: 0.0316\tTest Loss: 0.1580\tAccuracy: 96.31%\n",
            "[3] Train Loss: 0.0320\tTest Loss: 0.1608\tAccuracy: 96.14%\n",
            "[4] Train Loss: 0.0306\tTest Loss: 0.1503\tAccuracy: 96.62%\n",
            "[5] Train Loss: 0.0303\tTest Loss: 0.1924\tAccuracy: 95.63%\n",
            "[6] Train Loss: 0.0302\tTest Loss: 0.1723\tAccuracy: 96.19%\n",
            "[7] Train Loss: 0.0279\tTest Loss: 0.1533\tAccuracy: 96.52%\n",
            "[8] Train Loss: 0.0271\tTest Loss: 0.1593\tAccuracy: 96.38%\n",
            "[9] Train Loss: 0.0261\tTest Loss: 0.1512\tAccuracy: 96.55%\n",
            "[10] Train Loss: 0.0251\tTest Loss: 0.1618\tAccuracy: 96.49%\n",
            "[11] Train Loss: 0.0254\tTest Loss: 0.1646\tAccuracy: 96.31%\n",
            "[12] Train Loss: 0.0253\tTest Loss: 0.1570\tAccuracy: 96.52%\n",
            "[13] Train Loss: 0.0241\tTest Loss: 0.1533\tAccuracy: 96.50%\n",
            "[14] Train Loss: 0.0217\tTest Loss: 0.3655\tAccuracy: 92.90%\n",
            "[15] Train Loss: 1.1921\tTest Loss: 0.3907\tAccuracy: 88.37%\n",
            "[16] Train Loss: 0.2624\tTest Loss: 0.2576\tAccuracy: 92.30%\n",
            "[17] Train Loss: 0.1989\tTest Loss: 0.2279\tAccuracy: 93.09%\n",
            "[18] Train Loss: 0.1698\tTest Loss: 0.2181\tAccuracy: 93.68%\n",
            "[19] Train Loss: 0.1491\tTest Loss: 0.2012\tAccuracy: 94.31%\n",
            "[20] Train Loss: 0.1392\tTest Loss: 0.2083\tAccuracy: 94.19%\n",
            "[21] Train Loss: 0.1282\tTest Loss: 0.3393\tAccuracy: 90.68%\n",
            "[22] Train Loss: 0.1244\tTest Loss: 0.2577\tAccuracy: 92.93%\n",
            "[23] Train Loss: 0.1189\tTest Loss: 0.2011\tAccuracy: 94.44%\n",
            "[24] Train Loss: 0.1099\tTest Loss: 0.1755\tAccuracy: 95.15%\n",
            "[25] Train Loss: 0.1071\tTest Loss: 0.2446\tAccuracy: 93.09%\n",
            "[26] Train Loss: 0.1444\tTest Loss: 0.1832\tAccuracy: 94.98%\n",
            "[27] Train Loss: 0.1021\tTest Loss: 0.1677\tAccuracy: 95.46%\n",
            "[28] Train Loss: 0.0969\tTest Loss: 0.1880\tAccuracy: 94.82%\n",
            "[29] Train Loss: 0.0943\tTest Loss: 0.1800\tAccuracy: 95.05%\n",
            "[30] Train Loss: 0.0910\tTest Loss: 0.1659\tAccuracy: 95.49%\n",
            "[31] Train Loss: 0.0894\tTest Loss: 0.1758\tAccuracy: 95.17%\n",
            "[32] Train Loss: 0.0871\tTest Loss: 0.2035\tAccuracy: 94.43%\n",
            "[33] Train Loss: 0.0867\tTest Loss: 0.1719\tAccuracy: 95.38%\n",
            "[34] Train Loss: 0.0849\tTest Loss: 0.2157\tAccuracy: 94.27%\n",
            "[35] Train Loss: 0.0827\tTest Loss: 0.1624\tAccuracy: 95.85%\n",
            "[36] Train Loss: 0.0803\tTest Loss: 0.1648\tAccuracy: 95.63%\n",
            "[37] Train Loss: 0.0788\tTest Loss: 0.1597\tAccuracy: 95.69%\n",
            "[38] Train Loss: 0.0791\tTest Loss: 0.1635\tAccuracy: 95.68%\n",
            "[39] Train Loss: 0.0756\tTest Loss: 0.1765\tAccuracy: 95.49%\n",
            "[40] Train Loss: 0.0758\tTest Loss: 0.1547\tAccuracy: 95.96%\n",
            "[41] Train Loss: 0.0731\tTest Loss: 0.2621\tAccuracy: 93.49%\n",
            "[42] Train Loss: 0.0750\tTest Loss: 0.2086\tAccuracy: 94.72%\n",
            "[43] Train Loss: 0.0756\tTest Loss: 0.2371\tAccuracy: 93.84%\n",
            "[44] Train Loss: 0.0728\tTest Loss: 0.1883\tAccuracy: 95.16%\n",
            "[45] Train Loss: 0.0689\tTest Loss: 0.1589\tAccuracy: 95.92%\n",
            "[46] Train Loss: 0.0693\tTest Loss: 0.1748\tAccuracy: 95.45%\n",
            "[47] Train Loss: 0.0670\tTest Loss: 0.1642\tAccuracy: 95.71%\n",
            "[48] Train Loss: 0.0672\tTest Loss: 0.1749\tAccuracy: 95.63%\n",
            "[49] Train Loss: 0.0652\tTest Loss: 0.7384\tAccuracy: 86.11%\n",
            "[50] Train Loss: 0.0878\tTest Loss: 0.2089\tAccuracy: 94.55%\n",
            "[51] Train Loss: 0.0663\tTest Loss: 0.2498\tAccuracy: 93.78%\n",
            "[52] Train Loss: 0.0632\tTest Loss: 0.2252\tAccuracy: 94.35%\n",
            "[53] Train Loss: 0.0620\tTest Loss: 0.1772\tAccuracy: 95.64%\n",
            "[54] Train Loss: 0.0627\tTest Loss: 0.2451\tAccuracy: 94.03%\n",
            "[55] Train Loss: 0.0612\tTest Loss: 0.2602\tAccuracy: 93.42%\n",
            "[56] Train Loss: 0.0601\tTest Loss: 0.1796\tAccuracy: 95.73%\n",
            "[57] Train Loss: 0.0592\tTest Loss: 0.1725\tAccuracy: 95.96%\n",
            "[58] Train Loss: 0.0607\tTest Loss: 0.1822\tAccuracy: 95.49%\n",
            "[59] Train Loss: 0.0575\tTest Loss: 0.2700\tAccuracy: 93.78%\n",
            "[60] Train Loss: 0.0599\tTest Loss: 0.2573\tAccuracy: 94.06%\n",
            "[61] Train Loss: 0.0585\tTest Loss: 0.1966\tAccuracy: 95.30%\n",
            "[62] Train Loss: 0.0560\tTest Loss: 0.2141\tAccuracy: 95.10%\n",
            "[63] Train Loss: 0.0537\tTest Loss: 0.1771\tAccuracy: 95.74%\n",
            "[64] Train Loss: 0.0535\tTest Loss: 0.1768\tAccuracy: 95.73%\n",
            "[65] Train Loss: 0.0538\tTest Loss: 0.2553\tAccuracy: 93.87%\n",
            "[66] Train Loss: 0.0539\tTest Loss: 0.2701\tAccuracy: 93.82%\n",
            "[67] Train Loss: 0.0522\tTest Loss: 0.1970\tAccuracy: 95.24%\n",
            "[68] Train Loss: 0.0515\tTest Loss: 0.1789\tAccuracy: 95.87%\n",
            "[69] Train Loss: 0.0526\tTest Loss: 0.2460\tAccuracy: 94.17%\n",
            "[70] Train Loss: 0.0511\tTest Loss: 0.1781\tAccuracy: 95.70%\n",
            "[71] Train Loss: 0.0501\tTest Loss: 0.1921\tAccuracy: 95.55%\n",
            "[72] Train Loss: 0.0481\tTest Loss: 0.1950\tAccuracy: 95.52%\n",
            "[73] Train Loss: 0.0476\tTest Loss: 0.2024\tAccuracy: 95.25%\n",
            "[74] Train Loss: 0.0493\tTest Loss: 0.2071\tAccuracy: 95.40%\n",
            "[75] Train Loss: 0.0483\tTest Loss: 0.1923\tAccuracy: 95.66%\n",
            "[76] Train Loss: 0.0457\tTest Loss: 0.1978\tAccuracy: 95.42%\n",
            "[77] Train Loss: 0.0467\tTest Loss: 0.1851\tAccuracy: 96.06%\n",
            "[78] Train Loss: 0.0450\tTest Loss: 0.2011\tAccuracy: 95.59%\n",
            "[79] Train Loss: 0.0456\tTest Loss: 0.1862\tAccuracy: 95.89%\n",
            "[80] Train Loss: 0.0435\tTest Loss: 0.1872\tAccuracy: 95.78%\n",
            "[81] Train Loss: 0.0458\tTest Loss: 0.2196\tAccuracy: 95.10%\n",
            "[82] Train Loss: 0.0466\tTest Loss: 0.2210\tAccuracy: 94.87%\n",
            "[83] Train Loss: 0.0431\tTest Loss: 0.2262\tAccuracy: 95.16%\n",
            "[84] Train Loss: 0.0422\tTest Loss: 0.1915\tAccuracy: 95.82%\n",
            "[85] Train Loss: 0.0429\tTest Loss: 0.2105\tAccuracy: 95.55%\n",
            "[86] Train Loss: 0.0435\tTest Loss: 0.1998\tAccuracy: 95.66%\n",
            "[87] Train Loss: 0.0407\tTest Loss: 0.2313\tAccuracy: 94.80%\n",
            "[88] Train Loss: 0.0419\tTest Loss: 0.2234\tAccuracy: 95.19%\n",
            "[89] Train Loss: 0.0443\tTest Loss: 0.1931\tAccuracy: 95.84%\n",
            "[90] Train Loss: 0.0398\tTest Loss: 0.2085\tAccuracy: 95.72%\n",
            "[91] Train Loss: 0.0386\tTest Loss: 0.2055\tAccuracy: 95.62%\n",
            "[92] Train Loss: 0.0385\tTest Loss: 0.2163\tAccuracy: 95.51%\n",
            "[93] Train Loss: 0.0406\tTest Loss: 0.2372\tAccuracy: 95.12%\n",
            "[94] Train Loss: 0.0392\tTest Loss: 0.2157\tAccuracy: 95.45%\n",
            "[95] Train Loss: 0.0376\tTest Loss: 0.2185\tAccuracy: 95.48%\n",
            "[96] Train Loss: 0.0389\tTest Loss: 0.2344\tAccuracy: 95.35%\n",
            "[97] Train Loss: 0.0378\tTest Loss: 0.1958\tAccuracy: 95.84%\n",
            "[98] Train Loss: 0.0368\tTest Loss: 0.2335\tAccuracy: 95.18%\n",
            "[99] Train Loss: 0.0343\tTest Loss: 0.2167\tAccuracy: 95.50%\n",
            "[100] Train Loss: 0.0376\tTest Loss: 0.2050\tAccuracy: 95.99%\n"
          ]
        }
      ],
      "source": [
        "EPOCHS = 100\n",
        "test_loss_lst=[]\n",
        "for epoch in range(1, EPOCHS + 1):\n",
        "    train_loss = train(model, train_loader, optimizer)\n",
        "    test_loss, test_accuracy = evaluate(model, test_loader)\n",
        "    \n",
        "    print('[{}] Train Loss: {:.4f}\\tTest Loss: {:.4f}\\tAccuracy: {:.2f}%'.format(\n",
        "          epoch, train_loss, test_loss, test_accuracy))\n",
        "    test_loss_lst.append(test_loss)"
      ]
    },
    {
      "cell_type": "code",
      "execution_count": null,
      "metadata": {
        "id": "3OhezFsgOOuY"
      },
      "outputs": [],
      "source": [
        ""
      ]
    },
    {
      "cell_type": "markdown",
      "metadata": {
        "id": "WaqqRzF73oBu"
      },
      "source": [
        "## 과제 4\n",
        "과제 3 부분의 성능을 지금까지 배운 지식을 바탕으로 향상시켜보세요\n",
        "\n",
        "- Hint : Activation function, hyperparameter setting"
      ]
    },
    {
      "cell_type": "code",
      "execution_count": 14,
      "metadata": {
        "id": "k6b82DZG6W3j"
      },
      "outputs": [],
      "source": [
        "# Assignment 4 구현은 여기서 ()"
      ]
    },
    {
      "cell_type": "code",
      "source": [
        "test_loss_lst[0].item()"
      ],
      "metadata": {
        "colab": {
          "base_uri": "https://localhost:8080/"
        },
        "id": "-d5p_eBJY5UL",
        "outputId": "c305c8bf-3b98-46f8-b1c9-4cd032a8fa71"
      },
      "execution_count": 30,
      "outputs": [
        {
          "output_type": "execute_result",
          "data": {
            "text/plain": [
              "0.14432890713214874"
            ]
          },
          "metadata": {},
          "execution_count": 30
        }
      ]
    },
    {
      "cell_type": "code",
      "source": [
        "for index in range(0,len(test_loss_lst)):\n",
        "  test_loss_lst[index] = test_loss_lst[index].item()"
      ],
      "metadata": {
        "id": "Ko__RbNkYilU"
      },
      "execution_count": 32,
      "outputs": []
    },
    {
      "cell_type": "code",
      "source": [
        "import matplotlib.pyplot as plt"
      ],
      "metadata": {
        "id": "gYtuqMmtVlZ2"
      },
      "execution_count": 35,
      "outputs": []
    },
    {
      "cell_type": "code",
      "source": [
        "plt.plot(test_loss_lst)"
      ],
      "metadata": {
        "colab": {
          "base_uri": "https://localhost:8080/",
          "height": 283
        },
        "id": "kb7MV8h8VpaU",
        "outputId": "8381775b-c63a-4d16-a6d0-d2f891a0c05c"
      },
      "execution_count": 36,
      "outputs": [
        {
          "output_type": "execute_result",
          "data": {
            "text/plain": [
              "[<matplotlib.lines.Line2D at 0x7f74d0a63dd0>]"
            ]
          },
          "metadata": {},
          "execution_count": 36
        },
        {
          "output_type": "display_data",
          "data": {
            "text/plain": [
              "<Figure size 432x288 with 1 Axes>"
            ],
            "image/png": "[encoded data removed]"
          },
          "metadata": {
            "needs_background": "light"
          }
        }
      ]
    },
    {
      "cell_type": "code",
      "source": [
        "class Net(nn.Module):\n",
        "    def __init__(self):\n",
        "        super(Net, self).__init__()\n",
        "        self.layer1 = nn.Linear(784,128)\n",
        "        self.layer2 = nn.Linear(128,64)\n",
        "        self.layer3 = nn.Linear(64,10)\n",
        "        self.leaky_relu = nn.LeakyReLU(0.1)\n",
        "        \n",
        "    def forward(self, x):\n",
        "        x = x.view(-1, 784)\n",
        "        out = self.layer1(x)\n",
        "        out = self.leaky_relu(out)\n",
        "        out = self.layer2(out)\n",
        "        out = self.leaky_relu(out)\n",
        "        out = self.layer3(out)\n",
        "\n",
        "        return out"
      ],
      "metadata": {
        "id": "Ib7qRp7PVpQh"
      },
      "execution_count": 42,
      "outputs": []
    },
    {
      "cell_type": "code",
      "source": [
        "model = Net()\n",
        "model"
      ],
      "metadata": {
        "colab": {
          "base_uri": "https://localhost:8080/"
        },
        "id": "-mCBh3hpVpDQ",
        "outputId": "019b3492-777a-42e5-c3a1-16fa045450fb"
      },
      "execution_count": 43,
      "outputs": [
        {
          "output_type": "execute_result",
          "data": {
            "text/plain": [
              "Net(\n",
              "  (layer1): Linear(in_features=784, out_features=128, bias=True)\n",
              "  (layer2): Linear(in_features=128, out_features=64, bias=True)\n",
              "  (layer3): Linear(in_features=64, out_features=10, bias=True)\n",
              "  (leaky_relu): LeakyReLU(negative_slope=0.1)\n",
              ")"
            ]
          },
          "metadata": {},
          "execution_count": 43
        }
      ]
    },
    {
      "cell_type": "code",
      "source": [
        "criterion = nn.CrossEntropyLoss()\n",
        "optimizer = optim.SGD(model.parameters(), lr=0.1)"
      ],
      "metadata": {
        "id": "6Lp_kQSTai6W"
      },
      "execution_count": 44,
      "outputs": []
    },
    {
      "cell_type": "code",
      "source": [
        "def train(model, train_loader, optimizer):\n",
        "    model.train()\n",
        "    # 배치 당 loss 값을 담을 리스트 생성\n",
        "    batch_losses = []\n",
        "\n",
        "    for data, target in train_loader:\n",
        "        # 옵티마이저의 기울기 초기화\n",
        "        optimizer.zero_grad()\n",
        "\n",
        "        # y pred 값 산출\n",
        "        output = model(data)\n",
        "        # loss 계산\n",
        "        # 정답 데이터와의 cross entropy loss 계산\n",
        "        # 이 loss를 배치 당 loss로 보관\n",
        "        loss = criterion(output, target)\n",
        "        batch_losses.append(loss)\n",
        "\n",
        "        # 기울기 계산\n",
        "        loss.backward()\n",
        "\n",
        "        # 가중치 업데이트!\n",
        "        optimizer.step()\n",
        "        \n",
        "    # 배치당 평균 loss 계산\n",
        "    avg_loss = sum(batch_losses) / len(batch_losses)\n",
        "    \n",
        "    return avg_loss"
      ],
      "metadata": {
        "id": "oxMgDE4Bai4c"
      },
      "execution_count": 45,
      "outputs": []
    },
    {
      "cell_type": "code",
      "source": [
        "def evaluate(model, test_loader):\n",
        "    # 모델을 평가 모드로 전환\n",
        "    model.eval()\n",
        "\n",
        "    batch_losses = []\n",
        "    correct = 0 \n",
        "\n",
        "    with torch.no_grad(): \n",
        "        for data, target in test_loader:\n",
        "            # 예측값 생성\n",
        "            output = model(data)\n",
        "\n",
        "            # loss 계산 (이전과 동일)\n",
        "            loss = criterion(output, target)\n",
        "            batch_losses.append(loss)\n",
        "\n",
        "           # Accuracy 계산\n",
        "           # y pred와 y가 일치하면 correct에 1을 더해주기\n",
        "            pred = output.max(1, keepdim=True)[1]\n",
        "\n",
        "            # eq() 함수는 값이 일치하면 1을, 아니면 0을 출력.\n",
        "            correct += pred.eq(target.view_as(pred)).sum().item()\n",
        "\n",
        "    # 배치 당 평균 loss 계산 \n",
        "    avg_loss =  sum(batch_losses) / len(batch_losses)\n",
        "\n",
        "    #정확도 계산\n",
        "    accuracy = 100. * correct / len(test_loader.dataset)\n",
        "\n",
        "    return avg_loss, accuracy"
      ],
      "metadata": {
        "id": "LzcJADS0ai1t"
      },
      "execution_count": 46,
      "outputs": []
    },
    {
      "cell_type": "code",
      "source": [
        "EPOCHS = 100\n",
        "test_loss_lst=[]\n",
        "for epoch in range(1, EPOCHS + 1):\n",
        "    train_loss = train(model, train_loader, optimizer)\n",
        "    test_loss, test_accuracy = evaluate(model, test_loader)\n",
        "    \n",
        "    print('[{}] Train Loss: {:.4f}\\tTest Loss: {:.4f}\\tAccuracy: {:.2f}%'.format(\n",
        "          epoch, train_loss, test_loss, test_accuracy))\n",
        "    test_loss_lst.append(test_loss)"
      ],
      "metadata": {
        "colab": {
          "base_uri": "https://localhost:8080/"
        },
        "id": "QdvQjIk4aizk",
        "outputId": "289d6d04-694b-42d2-d0ff-98febc0eb391"
      },
      "execution_count": 47,
      "outputs": [
        {
          "output_type": "stream",
          "name": "stdout",
          "text": [
            "[1] Train Loss: 1.5013\tTest Loss: 0.6370\tAccuracy: 81.62%\n",
            "[2] Train Loss: 0.4957\tTest Loss: 0.3975\tAccuracy: 88.94%\n",
            "[3] Train Loss: 0.3762\tTest Loss: 0.3451\tAccuracy: 90.01%\n",
            "[4] Train Loss: 0.3289\tTest Loss: 0.3302\tAccuracy: 90.06%\n",
            "[5] Train Loss: 0.2992\tTest Loss: 0.2783\tAccuracy: 92.06%\n",
            "[6] Train Loss: 0.2754\tTest Loss: 0.2728\tAccuracy: 92.06%\n",
            "[7] Train Loss: 0.2555\tTest Loss: 0.2449\tAccuracy: 92.69%\n",
            "[8] Train Loss: 0.2388\tTest Loss: 0.2780\tAccuracy: 91.48%\n",
            "[9] Train Loss: 0.2230\tTest Loss: 0.2174\tAccuracy: 93.66%\n",
            "[10] Train Loss: 0.2126\tTest Loss: 0.2497\tAccuracy: 92.56%\n",
            "[11] Train Loss: 0.1980\tTest Loss: 0.1988\tAccuracy: 94.15%\n",
            "[12] Train Loss: 0.1881\tTest Loss: 0.1918\tAccuracy: 94.18%\n",
            "[13] Train Loss: 0.1774\tTest Loss: 0.1738\tAccuracy: 94.96%\n",
            "[14] Train Loss: 0.1686\tTest Loss: 0.1722\tAccuracy: 94.73%\n",
            "[15] Train Loss: 0.1596\tTest Loss: 0.1648\tAccuracy: 95.20%\n",
            "[16] Train Loss: 0.1519\tTest Loss: 0.1578\tAccuracy: 95.31%\n",
            "[17] Train Loss: 0.1449\tTest Loss: 0.1496\tAccuracy: 95.70%\n",
            "[18] Train Loss: 0.1370\tTest Loss: 0.1555\tAccuracy: 95.25%\n",
            "[19] Train Loss: 0.1312\tTest Loss: 0.1456\tAccuracy: 95.59%\n",
            "[20] Train Loss: 0.1260\tTest Loss: 0.1352\tAccuracy: 95.90%\n",
            "[21] Train Loss: 0.1193\tTest Loss: 0.1263\tAccuracy: 96.20%\n",
            "[22] Train Loss: 0.1147\tTest Loss: 0.1403\tAccuracy: 95.62%\n",
            "[23] Train Loss: 0.1103\tTest Loss: 0.1307\tAccuracy: 96.29%\n",
            "[24] Train Loss: 0.1050\tTest Loss: 0.1193\tAccuracy: 96.38%\n",
            "[25] Train Loss: 0.1013\tTest Loss: 0.1140\tAccuracy: 96.40%\n",
            "[26] Train Loss: 0.0979\tTest Loss: 0.1148\tAccuracy: 96.59%\n",
            "[27] Train Loss: 0.0935\tTest Loss: 0.1118\tAccuracy: 96.51%\n",
            "[28] Train Loss: 0.0898\tTest Loss: 0.1100\tAccuracy: 96.54%\n",
            "[29] Train Loss: 0.0872\tTest Loss: 0.1061\tAccuracy: 96.60%\n",
            "[30] Train Loss: 0.0839\tTest Loss: 0.1008\tAccuracy: 96.92%\n",
            "[31] Train Loss: 0.0806\tTest Loss: 0.1145\tAccuracy: 96.47%\n",
            "[32] Train Loss: 0.0781\tTest Loss: 0.1008\tAccuracy: 96.71%\n",
            "[33] Train Loss: 0.0753\tTest Loss: 0.0985\tAccuracy: 96.95%\n",
            "[34] Train Loss: 0.0729\tTest Loss: 0.1057\tAccuracy: 96.67%\n",
            "[35] Train Loss: 0.0707\tTest Loss: 0.0965\tAccuracy: 97.03%\n",
            "[36] Train Loss: 0.0683\tTest Loss: 0.0920\tAccuracy: 97.03%\n",
            "[37] Train Loss: 0.0663\tTest Loss: 0.1270\tAccuracy: 96.07%\n",
            "[38] Train Loss: 0.0643\tTest Loss: 0.1055\tAccuracy: 96.76%\n",
            "[39] Train Loss: 0.0621\tTest Loss: 0.1105\tAccuracy: 96.37%\n",
            "[40] Train Loss: 0.0601\tTest Loss: 0.0910\tAccuracy: 97.13%\n",
            "[41] Train Loss: 0.0576\tTest Loss: 0.0886\tAccuracy: 97.29%\n",
            "[42] Train Loss: 0.0565\tTest Loss: 0.0912\tAccuracy: 97.28%\n",
            "[43] Train Loss: 0.0545\tTest Loss: 0.0873\tAccuracy: 97.30%\n",
            "[44] Train Loss: 0.0529\tTest Loss: 0.0861\tAccuracy: 97.41%\n",
            "[45] Train Loss: 0.0516\tTest Loss: 0.0954\tAccuracy: 96.77%\n",
            "[46] Train Loss: 0.0496\tTest Loss: 0.0786\tAccuracy: 97.56%\n",
            "[47] Train Loss: 0.0481\tTest Loss: 0.0840\tAccuracy: 97.41%\n",
            "[48] Train Loss: 0.0465\tTest Loss: 0.0825\tAccuracy: 97.42%\n",
            "[49] Train Loss: 0.0454\tTest Loss: 0.0779\tAccuracy: 97.69%\n",
            "[50] Train Loss: 0.0442\tTest Loss: 0.0815\tAccuracy: 97.46%\n",
            "[51] Train Loss: 0.0427\tTest Loss: 0.0782\tAccuracy: 97.61%\n",
            "[52] Train Loss: 0.0422\tTest Loss: 0.0924\tAccuracy: 97.11%\n",
            "[53] Train Loss: 0.0404\tTest Loss: 0.0738\tAccuracy: 97.72%\n",
            "[54] Train Loss: 0.0393\tTest Loss: 0.0751\tAccuracy: 97.72%\n",
            "[55] Train Loss: 0.0377\tTest Loss: 0.0743\tAccuracy: 97.70%\n",
            "[56] Train Loss: 0.0370\tTest Loss: 0.0889\tAccuracy: 97.29%\n",
            "[57] Train Loss: 0.0361\tTest Loss: 0.0722\tAccuracy: 97.73%\n",
            "[58] Train Loss: 0.0348\tTest Loss: 0.0782\tAccuracy: 97.65%\n",
            "[59] Train Loss: 0.0338\tTest Loss: 0.0722\tAccuracy: 97.70%\n",
            "[60] Train Loss: 0.0330\tTest Loss: 0.0760\tAccuracy: 97.70%\n",
            "[61] Train Loss: 0.0320\tTest Loss: 0.0753\tAccuracy: 97.62%\n",
            "[62] Train Loss: 0.0309\tTest Loss: 0.0730\tAccuracy: 97.74%\n",
            "[63] Train Loss: 0.0306\tTest Loss: 0.0726\tAccuracy: 97.80%\n",
            "[64] Train Loss: 0.0291\tTest Loss: 0.0769\tAccuracy: 97.68%\n",
            "[65] Train Loss: 0.0287\tTest Loss: 0.0799\tAccuracy: 97.64%\n",
            "[66] Train Loss: 0.0278\tTest Loss: 0.0704\tAccuracy: 97.73%\n",
            "[67] Train Loss: 0.0268\tTest Loss: 0.0717\tAccuracy: 97.78%\n",
            "[68] Train Loss: 0.0264\tTest Loss: 0.0860\tAccuracy: 97.41%\n",
            "[69] Train Loss: 0.0261\tTest Loss: 0.0999\tAccuracy: 96.96%\n",
            "[70] Train Loss: 0.0249\tTest Loss: 0.0732\tAccuracy: 97.74%\n",
            "[71] Train Loss: 0.0246\tTest Loss: 0.1096\tAccuracy: 96.62%\n",
            "[72] Train Loss: 0.0237\tTest Loss: 0.0693\tAccuracy: 97.91%\n",
            "[73] Train Loss: 0.0230\tTest Loss: 0.0754\tAccuracy: 97.81%\n",
            "[74] Train Loss: 0.0223\tTest Loss: 0.0758\tAccuracy: 97.85%\n",
            "[75] Train Loss: 0.0216\tTest Loss: 0.0695\tAccuracy: 97.91%\n",
            "[76] Train Loss: 0.0208\tTest Loss: 0.0715\tAccuracy: 97.82%\n",
            "[77] Train Loss: 0.0204\tTest Loss: 0.0870\tAccuracy: 97.53%\n",
            "[78] Train Loss: 0.0199\tTest Loss: 0.0703\tAccuracy: 97.90%\n",
            "[79] Train Loss: 0.0192\tTest Loss: 0.0695\tAccuracy: 97.92%\n",
            "[80] Train Loss: 0.0189\tTest Loss: 0.0727\tAccuracy: 97.85%\n",
            "[81] Train Loss: 0.0184\tTest Loss: 0.0720\tAccuracy: 97.75%\n",
            "[82] Train Loss: 0.0177\tTest Loss: 0.0692\tAccuracy: 97.90%\n",
            "[83] Train Loss: 0.0175\tTest Loss: 0.0771\tAccuracy: 97.79%\n",
            "[84] Train Loss: 0.0170\tTest Loss: 0.0740\tAccuracy: 97.76%\n",
            "[85] Train Loss: 0.0164\tTest Loss: 0.0727\tAccuracy: 97.87%\n",
            "[86] Train Loss: 0.0161\tTest Loss: 0.0712\tAccuracy: 97.90%\n",
            "[87] Train Loss: 0.0159\tTest Loss: 0.0684\tAccuracy: 98.02%\n",
            "[88] Train Loss: 0.0152\tTest Loss: 0.0699\tAccuracy: 97.85%\n",
            "[89] Train Loss: 0.0148\tTest Loss: 0.0709\tAccuracy: 97.90%\n",
            "[90] Train Loss: 0.0144\tTest Loss: 0.0708\tAccuracy: 97.95%\n",
            "[91] Train Loss: 0.0141\tTest Loss: 0.0712\tAccuracy: 97.81%\n",
            "[92] Train Loss: 0.0138\tTest Loss: 0.0708\tAccuracy: 97.88%\n",
            "[93] Train Loss: 0.0133\tTest Loss: 0.0737\tAccuracy: 97.85%\n",
            "[94] Train Loss: 0.0131\tTest Loss: 0.0788\tAccuracy: 97.80%\n",
            "[95] Train Loss: 0.0127\tTest Loss: 0.0695\tAccuracy: 97.90%\n",
            "[96] Train Loss: 0.0123\tTest Loss: 0.0722\tAccuracy: 97.83%\n",
            "[97] Train Loss: 0.0120\tTest Loss: 0.0771\tAccuracy: 97.64%\n",
            "[98] Train Loss: 0.0118\tTest Loss: 0.0719\tAccuracy: 97.88%\n",
            "[99] Train Loss: 0.0122\tTest Loss: 0.0864\tAccuracy: 97.66%\n",
            "[100] Train Loss: 0.0113\tTest Loss: 0.0713\tAccuracy: 97.95%\n"
          ]
        }
      ]
    },
    {
      "cell_type": "code",
      "source": [
        "plt.plot(test_loss_lst)"
      ],
      "metadata": {
        "colab": {
          "base_uri": "https://localhost:8080/",
          "height": 283
        },
        "id": "K0VE48JCaivf",
        "outputId": "d67b3d8e-72ee-44b6-ac38-9245076d3c73"
      },
      "execution_count": 48,
      "outputs": [
        {
          "output_type": "execute_result",
          "data": {
            "text/plain": [
              "[<matplotlib.lines.Line2D at 0x7f74d0dd6950>]"
            ]
          },
          "metadata": {},
          "execution_count": 48
        },
        {
          "output_type": "display_data",
          "data": {
            "text/plain": [
              "<Figure size 432x288 with 1 Axes>"
            ],
            "image/png": "[encoded data removed]"
          },
          "metadata": {
            "needs_background": "light"
          }
        }
      ]
    },
    {
      "cell_type": "markdown",
      "metadata": {
        "id": "pboMIBQq7onH"
      },
      "source": [
        "**무엇을 보완하였고, 왜 보완되었는지에 대한 자유 서술 (아래에)**"
      ]
    },
    {
      "cell_type": "markdown",
      "source": [
        "leaky relu로 시도 ,  test loss 가 점점 커지는 경향성을 보임->learning rate 너무 빠른 것 같아 0.1로 시도"
      ],
      "metadata": {
        "id": "hEgtI1A8a3ss"
      }
    }
  ],
  "metadata": {
    "colab": {
      "name": "[8기 유채원]_Deep_Learning_Basic_과제.ipynb",
      "provenance": [],
      "collapsed_sections": []
    },
    "kernelspec": {
      "display_name": "Python 3 (ipykernel)",
      "language": "python",
      "name": "python3"
    },
    "language_info": {
      "codemirror_mode": {
        "name": "ipython",
        "version": 3
      },
      "file_extension": ".py",
      "mimetype": "text/x-python",
      "name": "python",
      "nbconvert_exporter": "python",
      "pygments_lexer": "ipython3",
      "version": "3.9.7"
    },
    "accelerator": "GPU",
    "gpuClass": "standard",
    "widgets": {
      "application/vnd.jupyter.widget-state+json": {
        "f739164e4c564344b72afc8c06169634": {
          "model_module": "@jupyter-widgets/controls",
          "model_name": "HBoxModel",
          "model_module_version": "1.5.0",
          "state": {
            "_dom_classes": [],
            "_model_module": "@jupyter-widgets/controls",
            "_model_module_version": "1.5.0",
            "_model_name": "HBoxModel",
            "_view_count": null,
            "_view_module": "@jupyter-widgets/controls",
            "_view_module_version": "1.5.0",
            "_view_name": "HBoxView",
            "box_style": "",
            "children": [
              "IPY_MODEL_e40743d29d6742dd81a1ad9da2ffb8ae",
              "IPY_MODEL_eefa7481b76c40fdab257b0f75149e27",
              "IPY_MODEL_25a11dde09c243f79011d7389a3b4835"
            ],
            "layout": "IPY_MODEL_fe61a0650dd64934a45f70cb606f4914"
          }
        },
        "e40743d29d6742dd81a1ad9da2ffb8ae": {
          "model_module": "@jupyter-widgets/controls",
          "model_name": "HTMLModel",
          "model_module_version": "1.5.0",
          "state": {
            "_dom_classes": [],
            "_model_module": "@jupyter-widgets/controls",
            "_model_module_version": "1.5.0",
            "_model_name": "HTMLModel",
            "_view_count": null,
            "_view_module": "@jupyter-widgets/controls",
            "_view_module_version": "1.5.0",
            "_view_name": "HTMLView",
            "description": "",
            "description_tooltip": null,
            "layout": "IPY_MODEL_e432c1a78ff14f1cbcb02abe1a4e46c0",
            "placeholder": "​",
            "style": "IPY_MODEL_a264ea17249d4f80aefd00831e408b81",
            "value": "100%"
          }
        },
        "eefa7481b76c40fdab257b0f75149e27": {
          "model_module": "@jupyter-widgets/controls",
          "model_name": "FloatProgressModel",
          "model_module_version": "1.5.0",
          "state": {
            "_dom_classes": [],
            "_model_module": "@jupyter-widgets/controls",
            "_model_module_version": "1.5.0",
            "_model_name": "FloatProgressModel",
            "_view_count": null,
            "_view_module": "@jupyter-widgets/controls",
            "_view_module_version": "1.5.0",
            "_view_name": "ProgressView",
            "bar_style": "success",
            "description": "",
            "description_tooltip": null,
            "layout": "IPY_MODEL_116986fa8e1648ae8066138f8ce74937",
            "max": 9912422,
            "min": 0,
            "orientation": "horizontal",
            "style": "IPY_MODEL_dc652718031f4664b78a49eaae441d26",
            "value": 9912422
          }
        },
        "25a11dde09c243f79011d7389a3b4835": {
          "model_module": "@jupyter-widgets/controls",
          "model_name": "HTMLModel",
          "model_module_version": "1.5.0",
          "state": {
            "_dom_classes": [],
            "_model_module": "@jupyter-widgets/controls",
            "_model_module_version": "1.5.0",
            "_model_name": "HTMLModel",
            "_view_count": null,
            "_view_module": "@jupyter-widgets/controls",
            "_view_module_version": "1.5.0",
            "_view_name": "HTMLView",
            "description": "",
            "description_tooltip": null,
            "layout": "IPY_MODEL_9c215c3242714f5ea412950dbef80302",
            "placeholder": "​",
            "style": "IPY_MODEL_5560b06a5e854f758ffc896e5f9ed05d",
            "value": " 9912422/9912422 [00:00&lt;00:00, 48077396.73it/s]"
          }
        },
        "fe61a0650dd64934a45f70cb606f4914": {
          "model_module": "@jupyter-widgets/base",
          "model_name": "LayoutModel",
          "model_module_version": "1.2.0",
          "state": {
            "_model_module": "@jupyter-widgets/base",
            "_model_module_version": "1.2.0",
            "_model_name": "LayoutModel",
            "_view_count": null,
            "_view_module": "@jupyter-widgets/base",
            "_view_module_version": "1.2.0",
            "_view_name": "LayoutView",
            "align_content": null,
            "align_items": null,
            "align_self": null,
            "border": null,
            "bottom": null,
            "display": null,
            "flex": null,
            "flex_flow": null,
            "grid_area": null,
            "grid_auto_columns": null,
            "grid_auto_flow": null,
            "grid_auto_rows": null,
            "grid_column": null,
            "grid_gap": null,
            "grid_row": null,
            "grid_template_areas": null,
            "grid_template_columns": null,
            "grid_template_rows": null,
            "height": null,
            "justify_content": null,
            "justify_items": null,
            "left": null,
            "margin": null,
            "max_height": null,
            "max_width": null,
            "min_height": null,
            "min_width": null,
            "object_fit": null,
            "object_position": null,
            "order": null,
            "overflow": null,
            "overflow_x": null,
            "overflow_y": null,
            "padding": null,
            "right": null,
            "top": null,
            "visibility": null,
            "width": null
          }
        },
        "e432c1a78ff14f1cbcb02abe1a4e46c0": {
          "model_module": "@jupyter-widgets/base",
          "model_name": "LayoutModel",
          "model_module_version": "1.2.0",
          "state": {
            "_model_module": "@jupyter-widgets/base",
            "_model_module_version": "1.2.0",
            "_model_name": "LayoutModel",
            "_view_count": null,
            "_view_module": "@jupyter-widgets/base",
            "_view_module_version": "1.2.0",
            "_view_name": "LayoutView",
            "align_content": null,
            "align_items": null,
            "align_self": null,
            "border": null,
            "bottom": null,
            "display": null,
            "flex": null,
            "flex_flow": null,
            "grid_area": null,
            "grid_auto_columns": null,
            "grid_auto_flow": null,
            "grid_auto_rows": null,
            "grid_column": null,
            "grid_gap": null,
            "grid_row": null,
            "grid_template_areas": null,
            "grid_template_columns": null,
            "grid_template_rows": null,
            "height": null,
            "justify_content": null,
            "justify_items": null,
            "left": null,
            "margin": null,
            "max_height": null,
            "max_width": null,
            "min_height": null,
            "min_width": null,
            "object_fit": null,
            "object_position": null,
            "order": null,
            "overflow": null,
            "overflow_x": null,
            "overflow_y": null,
            "padding": null,
            "right": null,
            "top": null,
            "visibility": null,
            "width": null
          }
        },
        "a264ea17249d4f80aefd00831e408b81": {
          "model_module": "@jupyter-widgets/controls",
          "model_name": "DescriptionStyleModel",
          "model_module_version": "1.5.0",
          "state": {
            "_model_module": "@jupyter-widgets/controls",
            "_model_module_version": "1.5.0",
            "_model_name": "DescriptionStyleModel",
            "_view_count": null,
            "_view_module": "@jupyter-widgets/base",
            "_view_module_version": "1.2.0",
            "_view_name": "StyleView",
            "description_width": ""
          }
        },
        "116986fa8e1648ae8066138f8ce74937": {
          "model_module": "@jupyter-widgets/base",
          "model_name": "LayoutModel",
          "model_module_version": "1.2.0",
          "state": {
            "_model_module": "@jupyter-widgets/base",
            "_model_module_version": "1.2.0",
            "_model_name": "LayoutModel",
            "_view_count": null,
            "_view_module": "@jupyter-widgets/base",
            "_view_module_version": "1.2.0",
            "_view_name": "LayoutView",
            "align_content": null,
            "align_items": null,
            "align_self": null,
            "border": null,
            "bottom": null,
            "display": null,
            "flex": null,
            "flex_flow": null,
            "grid_area": null,
            "grid_auto_columns": null,
            "grid_auto_flow": null,
            "grid_auto_rows": null,
            "grid_column": null,
            "grid_gap": null,
            "grid_row": null,
            "grid_template_areas": null,
            "grid_template_columns": null,
            "grid_template_rows": null,
            "height": null,
            "justify_content": null,
            "justify_items": null,
            "left": null,
            "margin": null,
            "max_height": null,
            "max_width": null,
            "min_height": null,
            "min_width": null,
            "object_fit": null,
            "object_position": null,
            "order": null,
            "overflow": null,
            "overflow_x": null,
            "overflow_y": null,
            "padding": null,
            "right": null,
            "top": null,
            "visibility": null,
            "width": null
          }
        },
        "dc652718031f4664b78a49eaae441d26": {
          "model_module": "@jupyter-widgets/controls",
          "model_name": "ProgressStyleModel",
          "model_module_version": "1.5.0",
          "state": {
            "_model_module": "@jupyter-widgets/controls",
            "_model_module_version": "1.5.0",
            "_model_name": "ProgressStyleModel",
            "_view_count": null,
            "_view_module": "@jupyter-widgets/base",
            "_view_module_version": "1.2.0",
            "_view_name": "StyleView",
            "bar_color": null,
            "description_width": ""
          }
        },
        "9c215c3242714f5ea412950dbef80302": {
          "model_module": "@jupyter-widgets/base",
          "model_name": "LayoutModel",
          "model_module_version": "1.2.0",
          "state": {
            "_model_module": "@jupyter-widgets/base",
            "_model_module_version": "1.2.0",
            "_model_name": "LayoutModel",
            "_view_count": null,
            "_view_module": "@jupyter-widgets/base",
            "_view_module_version": "1.2.0",
            "_view_name": "LayoutView",
            "align_content": null,
            "align_items": null,
            "align_self": null,
            "border": null,
            "bottom": null,
            "display": null,
            "flex": null,
            "flex_flow": null,
            "grid_area": null,
            "grid_auto_columns": null,
            "grid_auto_flow": null,
            "grid_auto_rows": null,
            "grid_column": null,
            "grid_gap": null,
            "grid_row": null,
            "grid_template_areas": null,
            "grid_template_columns": null,
            "grid_template_rows": null,
            "height": null,
            "justify_content": null,
            "justify_items": null,
            "left": null,
            "margin": null,
            "max_height": null,
            "max_width": null,
            "min_height": null,
            "min_width": null,
            "object_fit": null,
            "object_position": null,
            "order": null,
            "overflow": null,
            "overflow_x": null,
            "overflow_y": null,
            "padding": null,
            "right": null,
            "top": null,
            "visibility": null,
            "width": null
          }
        },
        "5560b06a5e854f758ffc896e5f9ed05d": {
          "model_module": "@jupyter-widgets/controls",
          "model_name": "DescriptionStyleModel",
          "model_module_version": "1.5.0",
          "state": {
            "_model_module": "@jupyter-widgets/controls",
            "_model_module_version": "1.5.0",
            "_model_name": "DescriptionStyleModel",
            "_view_count": null,
            "_view_module": "@jupyter-widgets/base",
            "_view_module_version": "1.2.0",
            "_view_name": "StyleView",
            "description_width": ""
          }
        },
        "dae581b9337349989a7e6fc9409ce969": {
          "model_module": "@jupyter-widgets/controls",
          "model_name": "HBoxModel",
          "model_module_version": "1.5.0",
          "state": {
            "_dom_classes": [],
            "_model_module": "@jupyter-widgets/controls",
            "_model_module_version": "1.5.0",
            "_model_name": "HBoxModel",
            "_view_count": null,
            "_view_module": "@jupyter-widgets/controls",
            "_view_module_version": "1.5.0",
            "_view_name": "HBoxView",
            "box_style": "",
            "children": [
              "IPY_MODEL_5ea15485507945e4b9b0d6b747a1df5d",
              "IPY_MODEL_f9f9f27e9609437aa8cfbd48834a468c",
              "IPY_MODEL_f52417c2a55140209cdfd96ab3a182f5"
            ],
            "layout": "IPY_MODEL_02c747265ca44ff5b3540edc8479fdfb"
          }
        },
        "5ea15485507945e4b9b0d6b747a1df5d": {
          "model_module": "@jupyter-widgets/controls",
          "model_name": "HTMLModel",
          "model_module_version": "1.5.0",
          "state": {
            "_dom_classes": [],
            "_model_module": "@jupyter-widgets/controls",
            "_model_module_version": "1.5.0",
            "_model_name": "HTMLModel",
            "_view_count": null,
            "_view_module": "@jupyter-widgets/controls",
            "_view_module_version": "1.5.0",
            "_view_name": "HTMLView",
            "description": "",
            "description_tooltip": null,
            "layout": "IPY_MODEL_0393225698cb41578cc2d8f5c6878ce7",
            "placeholder": "​",
            "style": "IPY_MODEL_7c89c45682164484ab4a3a7e6e260918",
            "value": "100%"
          }
        },
        "f9f9f27e9609437aa8cfbd48834a468c": {
          "model_module": "@jupyter-widgets/controls",
          "model_name": "FloatProgressModel",
          "model_module_version": "1.5.0",
          "state": {
            "_dom_classes": [],
            "_model_module": "@jupyter-widgets/controls",
            "_model_module_version": "1.5.0",
            "_model_name": "FloatProgressModel",
            "_view_count": null,
            "_view_module": "@jupyter-widgets/controls",
            "_view_module_version": "1.5.0",
            "_view_name": "ProgressView",
            "bar_style": "success",
            "description": "",
            "description_tooltip": null,
            "layout": "IPY_MODEL_9ae8b374507e46679e303fdfc6b952a7",
            "max": 28881,
            "min": 0,
            "orientation": "horizontal",
            "style": "IPY_MODEL_c3b51256749f45f88ec7f4a843569bbf",
            "value": 28881
          }
        },
        "f52417c2a55140209cdfd96ab3a182f5": {
          "model_module": "@jupyter-widgets/controls",
          "model_name": "HTMLModel",
          "model_module_version": "1.5.0",
          "state": {
            "_dom_classes": [],
            "_model_module": "@jupyter-widgets/controls",
            "_model_module_version": "1.5.0",
            "_model_name": "HTMLModel",
            "_view_count": null,
            "_view_module": "@jupyter-widgets/controls",
            "_view_module_version": "1.5.0",
            "_view_name": "HTMLView",
            "description": "",
            "description_tooltip": null,
            "layout": "IPY_MODEL_56f5638fb6ef40699cf55acf49392ccb",
            "placeholder": "​",
            "style": "IPY_MODEL_5440d16beb2b4a9e83bf165c726744b6",
            "value": " 28881/28881 [00:00&lt;00:00, 844951.97it/s]"
          }
        },
        "02c747265ca44ff5b3540edc8479fdfb": {
          "model_module": "@jupyter-widgets/base",
          "model_name": "LayoutModel",
          "model_module_version": "1.2.0",
          "state": {
            "_model_module": "@jupyter-widgets/base",
            "_model_module_version": "1.2.0",
            "_model_name": "LayoutModel",
            "_view_count": null,
            "_view_module": "@jupyter-widgets/base",
            "_view_module_version": "1.2.0",
            "_view_name": "LayoutView",
            "align_content": null,
            "align_items": null,
            "align_self": null,
            "border": null,
            "bottom": null,
            "display": null,
            "flex": null,
            "flex_flow": null,
            "grid_area": null,
            "grid_auto_columns": null,
            "grid_auto_flow": null,
            "grid_auto_rows": null,
            "grid_column": null,
            "grid_gap": null,
            "grid_row": null,
            "grid_template_areas": null,
            "grid_template_columns": null,
            "grid_template_rows": null,
            "height": null,
            "justify_content": null,
            "justify_items": null,
            "left": null,
            "margin": null,
            "max_height": null,
            "max_width": null,
            "min_height": null,
            "min_width": null,
            "object_fit": null,
            "object_position": null,
            "order": null,
            "overflow": null,
            "overflow_x": null,
            "overflow_y": null,
            "padding": null,
            "right": null,
            "top": null,
            "visibility": null,
            "width": null
          }
        },
        "0393225698cb41578cc2d8f5c6878ce7": {
          "model_module": "@jupyter-widgets/base",
          "model_name": "LayoutModel",
          "model_module_version": "1.2.0",
          "state": {
            "_model_module": "@jupyter-widgets/base",
            "_model_module_version": "1.2.0",
            "_model_name": "LayoutModel",
            "_view_count": null,
            "_view_module": "@jupyter-widgets/base",
            "_view_module_version": "1.2.0",
            "_view_name": "LayoutView",
            "align_content": null,
            "align_items": null,
            "align_self": null,
            "border": null,
            "bottom": null,
            "display": null,
            "flex": null,
            "flex_flow": null,
            "grid_area": null,
            "grid_auto_columns": null,
            "grid_auto_flow": null,
            "grid_auto_rows": null,
            "grid_column": null,
            "grid_gap": null,
            "grid_row": null,
            "grid_template_areas": null,
            "grid_template_columns": null,
            "grid_template_rows": null,
            "height": null,
            "justify_content": null,
            "justify_items": null,
            "left": null,
            "margin": null,
            "max_height": null,
            "max_width": null,
            "min_height": null,
            "min_width": null,
            "object_fit": null,
            "object_position": null,
            "order": null,
            "overflow": null,
            "overflow_x": null,
            "overflow_y": null,
            "padding": null,
            "right": null,
            "top": null,
            "visibility": null,
            "width": null
          }
        },
        "7c89c45682164484ab4a3a7e6e260918": {
          "model_module": "@jupyter-widgets/controls",
          "model_name": "DescriptionStyleModel",
          "model_module_version": "1.5.0",
          "state": {
            "_model_module": "@jupyter-widgets/controls",
            "_model_module_version": "1.5.0",
            "_model_name": "DescriptionStyleModel",
            "_view_count": null,
            "_view_module": "@jupyter-widgets/base",
            "_view_module_version": "1.2.0",
            "_view_name": "StyleView",
            "description_width": ""
          }
        },
        "9ae8b374507e46679e303fdfc6b952a7": {
          "model_module": "@jupyter-widgets/base",
          "model_name": "LayoutModel",
          "model_module_version": "1.2.0",
          "state": {
            "_model_module": "@jupyter-widgets/base",
            "_model_module_version": "1.2.0",
            "_model_name": "LayoutModel",
            "_view_count": null,
            "_view_module": "@jupyter-widgets/base",
            "_view_module_version": "1.2.0",
            "_view_name": "LayoutView",
            "align_content": null,
            "align_items": null,
            "align_self": null,
            "border": null,
            "bottom": null,
            "display": null,
            "flex": null,
            "flex_flow": null,
            "grid_area": null,
            "grid_auto_columns": null,
            "grid_auto_flow": null,
            "grid_auto_rows": null,
            "grid_column": null,
            "grid_gap": null,
            "grid_row": null,
            "grid_template_areas": null,
            "grid_template_columns": null,
            "grid_template_rows": null,
            "height": null,
            "justify_content": null,
            "justify_items": null,
            "left": null,
            "margin": null,
            "max_height": null,
            "max_width": null,
            "min_height": null,
            "min_width": null,
            "object_fit": null,
            "object_position": null,
            "order": null,
            "overflow": null,
            "overflow_x": null,
            "overflow_y": null,
            "padding": null,
            "right": null,
            "top": null,
            "visibility": null,
            "width": null
          }
        },
        "c3b51256749f45f88ec7f4a843569bbf": {
          "model_module": "@jupyter-widgets/controls",
          "model_name": "ProgressStyleModel",
          "model_module_version": "1.5.0",
          "state": {
            "_model_module": "@jupyter-widgets/controls",
            "_model_module_version": "1.5.0",
            "_model_name": "ProgressStyleModel",
            "_view_count": null,
            "_view_module": "@jupyter-widgets/base",
            "_view_module_version": "1.2.0",
            "_view_name": "StyleView",
            "bar_color": null,
            "description_width": ""
          }
        },
        "56f5638fb6ef40699cf55acf49392ccb": {
          "model_module": "@jupyter-widgets/base",
          "model_name": "LayoutModel",
          "model_module_version": "1.2.0",
          "state": {
            "_model_module": "@jupyter-widgets/base",
            "_model_module_version": "1.2.0",
            "_model_name": "LayoutModel",
            "_view_count": null,
            "_view_module": "@jupyter-widgets/base",
            "_view_module_version": "1.2.0",
            "_view_name": "LayoutView",
            "align_content": null,
            "align_items": null,
            "align_self": null,
            "border": null,
            "bottom": null,
            "display": null,
            "flex": null,
            "flex_flow": null,
            "grid_area": null,
            "grid_auto_columns": null,
            "grid_auto_flow": null,
            "grid_auto_rows": null,
            "grid_column": null,
            "grid_gap": null,
            "grid_row": null,
            "grid_template_areas": null,
            "grid_template_columns": null,
            "grid_template_rows": null,
            "height": null,
            "justify_content": null,
            "justify_items": null,
            "left": null,
            "margin": null,
            "max_height": null,
            "max_width": null,
            "min_height": null,
            "min_width": null,
            "object_fit": null,
            "object_position": null,
            "order": null,
            "overflow": null,
            "overflow_x": null,
            "overflow_y": null,
            "padding": null,
            "right": null,
            "top": null,
            "visibility": null,
            "width": null
          }
        },
        "5440d16beb2b4a9e83bf165c726744b6": {
          "model_module": "@jupyter-widgets/controls",
          "model_name": "DescriptionStyleModel",
          "model_module_version": "1.5.0",
          "state": {
            "_model_module": "@jupyter-widgets/controls",
            "_model_module_version": "1.5.0",
            "_model_name": "DescriptionStyleModel",
            "_view_count": null,
            "_view_module": "@jupyter-widgets/base",
            "_view_module_version": "1.2.0",
            "_view_name": "StyleView",
            "description_width": ""
          }
        },
        "356d2c5b1f3f4870906c9484e45150ac": {
          "model_module": "@jupyter-widgets/controls",
          "model_name": "HBoxModel",
          "model_module_version": "1.5.0",
          "state": {
            "_dom_classes": [],
            "_model_module": "@jupyter-widgets/controls",
            "_model_module_version": "1.5.0",
            "_model_name": "HBoxModel",
            "_view_count": null,
            "_view_module": "@jupyter-widgets/controls",
            "_view_module_version": "1.5.0",
            "_view_name": "HBoxView",
            "box_style": "",
            "children": [
              "IPY_MODEL_278f1046b22e4220a9b753869589256a",
              "IPY_MODEL_faf12f8cc3e542198525be7165508c5d",
              "IPY_MODEL_ed7c4629ab714054b9fa1ab89695fec3"
            ],
            "layout": "IPY_MODEL_a41992eb9124450cb2efd7491362788a"
          }
        },
        "278f1046b22e4220a9b753869589256a": {
          "model_module": "@jupyter-widgets/controls",
          "model_name": "HTMLModel",
          "model_module_version": "1.5.0",
          "state": {
            "_dom_classes": [],
            "_model_module": "@jupyter-widgets/controls",
            "_model_module_version": "1.5.0",
            "_model_name": "HTMLModel",
            "_view_count": null,
            "_view_module": "@jupyter-widgets/controls",
            "_view_module_version": "1.5.0",
            "_view_name": "HTMLView",
            "description": "",
            "description_tooltip": null,
            "layout": "IPY_MODEL_b7df4290bd0e4f36812b0b580aee1b87",
            "placeholder": "​",
            "style": "IPY_MODEL_28388db2684644f3a542c8946fe7e518",
            "value": "100%"
          }
        },
        "faf12f8cc3e542198525be7165508c5d": {
          "model_module": "@jupyter-widgets/controls",
          "model_name": "FloatProgressModel",
          "model_module_version": "1.5.0",
          "state": {
            "_dom_classes": [],
            "_model_module": "@jupyter-widgets/controls",
            "_model_module_version": "1.5.0",
            "_model_name": "FloatProgressModel",
            "_view_count": null,
            "_view_module": "@jupyter-widgets/controls",
            "_view_module_version": "1.5.0",
            "_view_name": "ProgressView",
            "bar_style": "success",
            "description": "",
            "description_tooltip": null,
            "layout": "IPY_MODEL_3a9d4e950cb1466587975b60768e3cc1",
            "max": 1648877,
            "min": 0,
            "orientation": "horizontal",
            "style": "IPY_MODEL_39260a0ef43a485694d31e1019ecf99a",
            "value": 1648877
          }
        },
        "ed7c4629ab714054b9fa1ab89695fec3": {
          "model_module": "@jupyter-widgets/controls",
          "model_name": "HTMLModel",
          "model_module_version": "1.5.0",
          "state": {
            "_dom_classes": [],
            "_model_module": "@jupyter-widgets/controls",
            "_model_module_version": "1.5.0",
            "_model_name": "HTMLModel",
            "_view_count": null,
            "_view_module": "@jupyter-widgets/controls",
            "_view_module_version": "1.5.0",
            "_view_name": "HTMLView",
            "description": "",
            "description_tooltip": null,
            "layout": "IPY_MODEL_7fbd08ed7e5346b295f1dfc93a042563",
            "placeholder": "​",
            "style": "IPY_MODEL_b8fd69c9c7b7429090816da279444d09",
            "value": " 1648877/1648877 [00:00&lt;00:00, 4246328.46it/s]"
          }
        },
        "a41992eb9124450cb2efd7491362788a": {
          "model_module": "@jupyter-widgets/base",
          "model_name": "LayoutModel",
          "model_module_version": "1.2.0",
          "state": {
            "_model_module": "@jupyter-widgets/base",
            "_model_module_version": "1.2.0",
            "_model_name": "LayoutModel",
            "_view_count": null,
            "_view_module": "@jupyter-widgets/base",
            "_view_module_version": "1.2.0",
            "_view_name": "LayoutView",
            "align_content": null,
            "align_items": null,
            "align_self": null,
            "border": null,
            "bottom": null,
            "display": null,
            "flex": null,
            "flex_flow": null,
            "grid_area": null,
            "grid_auto_columns": null,
            "grid_auto_flow": null,
            "grid_auto_rows": null,
            "grid_column": null,
            "grid_gap": null,
            "grid_row": null,
            "grid_template_areas": null,
            "grid_template_columns": null,
            "grid_template_rows": null,
            "height": null,
            "justify_content": null,
            "justify_items": null,
            "left": null,
            "margin": null,
            "max_height": null,
            "max_width": null,
            "min_height": null,
            "min_width": null,
            "object_fit": null,
            "object_position": null,
            "order": null,
            "overflow": null,
            "overflow_x": null,
            "overflow_y": null,
            "padding": null,
            "right": null,
            "top": null,
            "visibility": null,
            "width": null
          }
        },
        "b7df4290bd0e4f36812b0b580aee1b87": {
          "model_module": "@jupyter-widgets/base",
          "model_name": "LayoutModel",
          "model_module_version": "1.2.0",
          "state": {
            "_model_module": "@jupyter-widgets/base",
            "_model_module_version": "1.2.0",
            "_model_name": "LayoutModel",
            "_view_count": null,
            "_view_module": "@jupyter-widgets/base",
            "_view_module_version": "1.2.0",
            "_view_name": "LayoutView",
            "align_content": null,
            "align_items": null,
            "align_self": null,
            "border": null,
            "bottom": null,
            "display": null,
            "flex": null,
            "flex_flow": null,
            "grid_area": null,
            "grid_auto_columns": null,
            "grid_auto_flow": null,
            "grid_auto_rows": null,
            "grid_column": null,
            "grid_gap": null,
            "grid_row": null,
            "grid_template_areas": null,
            "grid_template_columns": null,
            "grid_template_rows": null,
            "height": null,
            "justify_content": null,
            "justify_items": null,
            "left": null,
            "margin": null,
            "max_height": null,
            "max_width": null,
            "min_height": null,
            "min_width": null,
            "object_fit": null,
            "object_position": null,
            "order": null,
            "overflow": null,
            "overflow_x": null,
            "overflow_y": null,
            "padding": null,
            "right": null,
            "top": null,
            "visibility": null,
            "width": null
          }
        },
        "28388db2684644f3a542c8946fe7e518": {
          "model_module": "@jupyter-widgets/controls",
          "model_name": "DescriptionStyleModel",
          "model_module_version": "1.5.0",
          "state": {
            "_model_module": "@jupyter-widgets/controls",
            "_model_module_version": "1.5.0",
            "_model_name": "DescriptionStyleModel",
            "_view_count": null,
            "_view_module": "@jupyter-widgets/base",
            "_view_module_version": "1.2.0",
            "_view_name": "StyleView",
            "description_width": ""
          }
        },
        "3a9d4e950cb1466587975b60768e3cc1": {
          "model_module": "@jupyter-widgets/base",
          "model_name": "LayoutModel",
          "model_module_version": "1.2.0",
          "state": {
            "_model_module": "@jupyter-widgets/base",
            "_model_module_version": "1.2.0",
            "_model_name": "LayoutModel",
            "_view_count": null,
            "_view_module": "@jupyter-widgets/base",
            "_view_module_version": "1.2.0",
            "_view_name": "LayoutView",
            "align_content": null,
            "align_items": null,
            "align_self": null,
            "border": null,
            "bottom": null,
            "display": null,
            "flex": null,
            "flex_flow": null,
            "grid_area": null,
            "grid_auto_columns": null,
            "grid_auto_flow": null,
            "grid_auto_rows": null,
            "grid_column": null,
            "grid_gap": null,
            "grid_row": null,
            "grid_template_areas": null,
            "grid_template_columns": null,
            "grid_template_rows": null,
            "height": null,
            "justify_content": null,
            "justify_items": null,
            "left": null,
            "margin": null,
            "max_height": null,
            "max_width": null,
            "min_height": null,
            "min_width": null,
            "object_fit": null,
            "object_position": null,
            "order": null,
            "overflow": null,
            "overflow_x": null,
            "overflow_y": null,
            "padding": null,
            "right": null,
            "top": null,
            "visibility": null,
            "width": null
          }
        },
        "39260a0ef43a485694d31e1019ecf99a": {
          "model_module": "@jupyter-widgets/controls",
          "model_name": "ProgressStyleModel",
          "model_module_version": "1.5.0",
          "state": {
            "_model_module": "@jupyter-widgets/controls",
            "_model_module_version": "1.5.0",
            "_model_name": "ProgressStyleModel",
            "_view_count": null,
            "_view_module": "@jupyter-widgets/base",
            "_view_module_version": "1.2.0",
            "_view_name": "StyleView",
            "bar_color": null,
            "description_width": ""
          }
        },
        "7fbd08ed7e5346b295f1dfc93a042563": {
          "model_module": "@jupyter-widgets/base",
          "model_name": "LayoutModel",
          "model_module_version": "1.2.0",
          "state": {
            "_model_module": "@jupyter-widgets/base",
            "_model_module_version": "1.2.0",
            "_model_name": "LayoutModel",
            "_view_count": null,
            "_view_module": "@jupyter-widgets/base",
            "_view_module_version": "1.2.0",
            "_view_name": "LayoutView",
            "align_content": null,
            "align_items": null,
            "align_self": null,
            "border": null,
            "bottom": null,
            "display": null,
            "flex": null,
            "flex_flow": null,
            "grid_area": null,
            "grid_auto_columns": null,
            "grid_auto_flow": null,
            "grid_auto_rows": null,
            "grid_column": null,
            "grid_gap": null,
            "grid_row": null,
            "grid_template_areas": null,
            "grid_template_columns": null,
            "grid_template_rows": null,
            "height": null,
            "justify_content": null,
            "justify_items": null,
            "left": null,
            "margin": null,
            "max_height": null,
            "max_width": null,
            "min_height": null,
            "min_width": null,
            "object_fit": null,
            "object_position": null,
            "order": null,
            "overflow": null,
            "overflow_x": null,
            "overflow_y": null,
            "padding": null,
            "right": null,
            "top": null,
            "visibility": null,
            "width": null
          }
        },
        "b8fd69c9c7b7429090816da279444d09": {
          "model_module": "@jupyter-widgets/controls",
          "model_name": "DescriptionStyleModel",
          "model_module_version": "1.5.0",
          "state": {
            "_model_module": "@jupyter-widgets/controls",
            "_model_module_version": "1.5.0",
            "_model_name": "DescriptionStyleModel",
            "_view_count": null,
            "_view_module": "@jupyter-widgets/base",
            "_view_module_version": "1.2.0",
            "_view_name": "StyleView",
            "description_width": ""
          }
        },
        "c41df2be358a4ebeb79419208e4b1e70": {
          "model_module": "@jupyter-widgets/controls",
          "model_name": "HBoxModel",
          "model_module_version": "1.5.0",
          "state": {
            "_dom_classes": [],
            "_model_module": "@jupyter-widgets/controls",
            "_model_module_version": "1.5.0",
            "_model_name": "HBoxModel",
            "_view_count": null,
            "_view_module": "@jupyter-widgets/controls",
            "_view_module_version": "1.5.0",
            "_view_name": "HBoxView",
            "box_style": "",
            "children": [
              "IPY_MODEL_6fc8fa8645574402ade56116c010ee8b",
              "IPY_MODEL_7b4b36c3fb3541ed8f74955cb7dd9684",
              "IPY_MODEL_189c34a8179a42f3b1ce5057f6d4f7e0"
            ],
            "layout": "IPY_MODEL_4a6105f5fd794231942b433418f7b94c"
          }
        },
        "6fc8fa8645574402ade56116c010ee8b": {
          "model_module": "@jupyter-widgets/controls",
          "model_name": "HTMLModel",
          "model_module_version": "1.5.0",
          "state": {
            "_dom_classes": [],
            "_model_module": "@jupyter-widgets/controls",
            "_model_module_version": "1.5.0",
            "_model_name": "HTMLModel",
            "_view_count": null,
            "_view_module": "@jupyter-widgets/controls",
            "_view_module_version": "1.5.0",
            "_view_name": "HTMLView",
            "description": "",
            "description_tooltip": null,
            "layout": "IPY_MODEL_5092577517b448c4b8b82147f855c580",
            "placeholder": "​",
            "style": "IPY_MODEL_0008d5795aa9413eb6176b41a524f3ab",
            "value": "100%"
          }
        },
        "7b4b36c3fb3541ed8f74955cb7dd9684": {
          "model_module": "@jupyter-widgets/controls",
          "model_name": "FloatProgressModel",
          "model_module_version": "1.5.0",
          "state": {
            "_dom_classes": [],
            "_model_module": "@jupyter-widgets/controls",
            "_model_module_version": "1.5.0",
            "_model_name": "FloatProgressModel",
            "_view_count": null,
            "_view_module": "@jupyter-widgets/controls",
            "_view_module_version": "1.5.0",
            "_view_name": "ProgressView",
            "bar_style": "success",
            "description": "",
            "description_tooltip": null,
            "layout": "IPY_MODEL_fdba1363938249d8b1d9dbe20b2df042",
            "max": 4542,
            "min": 0,
            "orientation": "horizontal",
            "style": "IPY_MODEL_b97ada11c906403a99d0ed26587bfbe6",
            "value": 4542
          }
        },
        "189c34a8179a42f3b1ce5057f6d4f7e0": {
          "model_module": "@jupyter-widgets/controls",
          "model_name": "HTMLModel",
          "model_module_version": "1.5.0",
          "state": {
            "_dom_classes": [],
            "_model_module": "@jupyter-widgets/controls",
            "_model_module_version": "1.5.0",
            "_model_name": "HTMLModel",
            "_view_count": null,
            "_view_module": "@jupyter-widgets/controls",
            "_view_module_version": "1.5.0",
            "_view_name": "HTMLView",
            "description": "",
            "description_tooltip": null,
            "layout": "IPY_MODEL_deba01628e09424f81cd61b1619128b9",
            "placeholder": "​",
            "style": "IPY_MODEL_9266e33b44a1413db5350c97997e7ece",
            "value": " 4542/4542 [00:00&lt;00:00, 144243.51it/s]"
          }
        },
        "4a6105f5fd794231942b433418f7b94c": {
          "model_module": "@jupyter-widgets/base",
          "model_name": "LayoutModel",
          "model_module_version": "1.2.0",
          "state": {
            "_model_module": "@jupyter-widgets/base",
            "_model_module_version": "1.2.0",
            "_model_name": "LayoutModel",
            "_view_count": null,
            "_view_module": "@jupyter-widgets/base",
            "_view_module_version": "1.2.0",
            "_view_name": "LayoutView",
            "align_content": null,
            "align_items": null,
            "align_self": null,
            "border": null,
            "bottom": null,
            "display": null,
            "flex": null,
            "flex_flow": null,
            "grid_area": null,
            "grid_auto_columns": null,
            "grid_auto_flow": null,
            "grid_auto_rows": null,
            "grid_column": null,
            "grid_gap": null,
            "grid_row": null,
            "grid_template_areas": null,
            "grid_template_columns": null,
            "grid_template_rows": null,
            "height": null,
            "justify_content": null,
            "justify_items": null,
            "left": null,
            "margin": null,
            "max_height": null,
            "max_width": null,
            "min_height": null,
            "min_width": null,
            "object_fit": null,
            "object_position": null,
            "order": null,
            "overflow": null,
            "overflow_x": null,
            "overflow_y": null,
            "padding": null,
            "right": null,
            "top": null,
            "visibility": null,
            "width": null
          }
        },
        "5092577517b448c4b8b82147f855c580": {
          "model_module": "@jupyter-widgets/base",
          "model_name": "LayoutModel",
          "model_module_version": "1.2.0",
          "state": {
            "_model_module": "@jupyter-widgets/base",
            "_model_module_version": "1.2.0",
            "_model_name": "LayoutModel",
            "_view_count": null,
            "_view_module": "@jupyter-widgets/base",
            "_view_module_version": "1.2.0",
            "_view_name": "LayoutView",
            "align_content": null,
            "align_items": null,
            "align_self": null,
            "border": null,
            "bottom": null,
            "display": null,
            "flex": null,
            "flex_flow": null,
            "grid_area": null,
            "grid_auto_columns": null,
            "grid_auto_flow": null,
            "grid_auto_rows": null,
            "grid_column": null,
            "grid_gap": null,
            "grid_row": null,
            "grid_template_areas": null,
            "grid_template_columns": null,
            "grid_template_rows": null,
            "height": null,
            "justify_content": null,
            "justify_items": null,
            "left": null,
            "margin": null,
            "max_height": null,
            "max_width": null,
            "min_height": null,
            "min_width": null,
            "object_fit": null,
            "object_position": null,
            "order": null,
            "overflow": null,
            "overflow_x": null,
            "overflow_y": null,
            "padding": null,
            "right": null,
            "top": null,
            "visibility": null,
            "width": null
          }
        },
        "0008d5795aa9413eb6176b41a524f3ab": {
          "model_module": "@jupyter-widgets/controls",
          "model_name": "DescriptionStyleModel",
          "model_module_version": "1.5.0",
          "state": {
            "_model_module": "@jupyter-widgets/controls",
            "_model_module_version": "1.5.0",
            "_model_name": "DescriptionStyleModel",
            "_view_count": null,
            "_view_module": "@jupyter-widgets/base",
            "_view_module_version": "1.2.0",
            "_view_name": "StyleView",
            "description_width": ""
          }
        },
        "fdba1363938249d8b1d9dbe20b2df042": {
          "model_module": "@jupyter-widgets/base",
          "model_name": "LayoutModel",
          "model_module_version": "1.2.0",
          "state": {
            "_model_module": "@jupyter-widgets/base",
            "_model_module_version": "1.2.0",
            "_model_name": "LayoutModel",
            "_view_count": null,
            "_view_module": "@jupyter-widgets/base",
            "_view_module_version": "1.2.0",
            "_view_name": "LayoutView",
            "align_content": null,
            "align_items": null,
            "align_self": null,
            "border": null,
            "bottom": null,
            "display": null,
            "flex": null,
            "flex_flow": null,
            "grid_area": null,
            "grid_auto_columns": null,
            "grid_auto_flow": null,
            "grid_auto_rows": null,
            "grid_column": null,
            "grid_gap": null,
            "grid_row": null,
            "grid_template_areas": null,
            "grid_template_columns": null,
            "grid_template_rows": null,
            "height": null,
            "justify_content": null,
            "justify_items": null,
            "left": null,
            "margin": null,
            "max_height": null,
            "max_width": null,
            "min_height": null,
            "min_width": null,
            "object_fit": null,
            "object_position": null,
            "order": null,
            "overflow": null,
            "overflow_x": null,
            "overflow_y": null,
            "padding": null,
            "right": null,
            "top": null,
            "visibility": null,
            "width": null
          }
        },
        "b97ada11c906403a99d0ed26587bfbe6": {
          "model_module": "@jupyter-widgets/controls",
          "model_name": "ProgressStyleModel",
          "model_module_version": "1.5.0",
          "state": {
            "_model_module": "@jupyter-widgets/controls",
            "_model_module_version": "1.5.0",
            "_model_name": "ProgressStyleModel",
            "_view_count": null,
            "_view_module": "@jupyter-widgets/base",
            "_view_module_version": "1.2.0",
            "_view_name": "StyleView",
            "bar_color": null,
            "description_width": ""
          }
        },
        "deba01628e09424f81cd61b1619128b9": {
          "model_module": "@jupyter-widgets/base",
          "model_name": "LayoutModel",
          "model_module_version": "1.2.0",
          "state": {
            "_model_module": "@jupyter-widgets/base",
            "_model_module_version": "1.2.0",
            "_model_name": "LayoutModel",
            "_view_count": null,
            "_view_module": "@jupyter-widgets/base",
            "_view_module_version": "1.2.0",
            "_view_name": "LayoutView",
            "align_content": null,
            "align_items": null,
            "align_self": null,
            "border": null,
            "bottom": null,
            "display": null,
            "flex": null,
            "flex_flow": null,
            "grid_area": null,
            "grid_auto_columns": null,
            "grid_auto_flow": null,
            "grid_auto_rows": null,
            "grid_column": null,
            "grid_gap": null,
            "grid_row": null,
            "grid_template_areas": null,
            "grid_template_columns": null,
            "grid_template_rows": null,
            "height": null,
            "justify_content": null,
            "justify_items": null,
            "left": null,
            "margin": null,
            "max_height": null,
            "max_width": null,
            "min_height": null,
            "min_width": null,
            "object_fit": null,
            "object_position": null,
            "order": null,
            "overflow": null,
            "overflow_x": null,
            "overflow_y": null,
            "padding": null,
            "right": null,
            "top": null,
            "visibility": null,
            "width": null
          }
        },
        "9266e33b44a1413db5350c97997e7ece": {
          "model_module": "@jupyter-widgets/controls",
          "model_name": "DescriptionStyleModel",
          "model_module_version": "1.5.0",
          "state": {
            "_model_module": "@jupyter-widgets/controls",
            "_model_module_version": "1.5.0",
            "_model_name": "DescriptionStyleModel",
            "_view_count": null,
            "_view_module": "@jupyter-widgets/base",
            "_view_module_version": "1.2.0",
            "_view_name": "StyleView",
            "description_width": ""
          }
        }
      }
    }
  },
  "nbformat": 4,
  "nbformat_minor": 0
}