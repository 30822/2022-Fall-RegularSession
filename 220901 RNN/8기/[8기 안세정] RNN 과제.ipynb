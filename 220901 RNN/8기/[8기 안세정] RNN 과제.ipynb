{
  "cells": [
    {
      "cell_type": "markdown",
      "metadata": {
        "id": "XhqgooEJc3ml"
      },
      "source": [
        "# PATH"
      ]
    },
    {
      "cell_type": "markdown",
      "metadata": {
        "id": "a6JAywISdMna"
      },
      "source": [
        "구글 드라이브"
      ]
    },
    {
      "cell_type": "code",
      "execution_count": 1,
      "metadata": {
        "colab": {
          "base_uri": "https://localhost:8080/"
        },
        "id": "4KzgUpIpcORE",
        "outputId": "fe147c63-8a0a-41bc-ba71-e067bdf3e589"
      },
      "outputs": [
        {
          "output_type": "stream",
          "name": "stdout",
          "text": [
            "Drive already mounted at /content/drive; to attempt to forcibly remount, call drive.mount(\"/content/drive\", force_remount=True).\n"
          ]
        }
      ],
      "source": [
        "import os\n",
        "import sys\n",
        "from google.colab import drive\n",
        "\n",
        "drive.mount('/content/drive')\n",
        "# 지금 RNN이란 폴더에서 작업해서 RNN으로 맞춘 상태입니다! \n",
        "os.chdir('/content/drive/MyDrive/RNN 과제')"
      ]
    },
    {
      "cell_type": "code",
      "execution_count": 2,
      "metadata": {
        "colab": {
          "base_uri": "https://localhost:8080/",
          "height": 35
        },
        "id": "TK1fCrA9fHwN",
        "outputId": "74f8f911-61ef-4a27-f925-cf641469b5cc"
      },
      "outputs": [
        {
          "output_type": "execute_result",
          "data": {
            "text/plain": [
              "'/content/drive/MyDrive/RNN 과제'"
            ],
            "application/vnd.google.colaboratory.intrinsic+json": {
              "type": "string"
            }
          },
          "metadata": {},
          "execution_count": 2
        }
      ],
      "source": [
        "os.getcwd()"
      ]
    },
    {
      "cell_type": "code",
      "execution_count": 3,
      "metadata": {
        "colab": {
          "base_uri": "https://localhost:8080/",
          "height": 35
        },
        "id": "yR9lFnfZMQ8k",
        "outputId": "c7f3dc73-bd3a-4f5b-d36e-a6106066494c"
      },
      "outputs": [
        {
          "output_type": "execute_result",
          "data": {
            "text/plain": [
              "'/content/drive/MyDrive/RNN 과제/data/data_hw'"
            ],
            "application/vnd.google.colaboratory.intrinsic+json": {
              "type": "string"
            }
          },
          "metadata": {},
          "execution_count": 3
        }
      ],
      "source": [
        "root_data = f\"{os.getcwd()}/data/data_hw\"\n",
        "root_data"
      ]
    },
    {
      "cell_type": "code",
      "execution_count": 4,
      "metadata": {
        "id": "eUaOJiEaP8t9"
      },
      "outputs": [],
      "source": [
        "# 데이터 불러올 때 사용할 경로로 이후에 있을 unzip과 연동되는 내용입니다! \n",
        "path_train_data = \"data/data_hw/1.Training/원천데이터/일상생활및구어체_영한_train_set.json\"\n",
        "\n",
        "path_val_data = \"data/data_hw/2.Validation/원천데이터/일상생활및구어체_영한_valid_set.json\"\n"
      ]
    },
    {
      "cell_type": "markdown",
      "metadata": {
        "id": "lllM7QIsLKHG"
      },
      "source": [
        "# 사전 준비 사항"
      ]
    },
    {
      "cell_type": "code",
      "execution_count": 5,
      "metadata": {
        "id": "N4M6g36zarsi"
      },
      "outputs": [],
      "source": [
        "import torch"
      ]
    },
    {
      "cell_type": "code",
      "execution_count": 6,
      "metadata": {
        "id": "8nWTk5MXatC-"
      },
      "outputs": [],
      "source": [
        "device = 'cuda' if torch.cuda.is_available() else \"cpu\""
      ]
    },
    {
      "cell_type": "code",
      "execution_count": 7,
      "metadata": {
        "colab": {
          "base_uri": "https://localhost:8080/",
          "height": 35
        },
        "id": "oV91g9Tqa0V0",
        "outputId": "7cb39c7a-a68f-448b-a748-71b1a854f5ee"
      },
      "outputs": [
        {
          "output_type": "execute_result",
          "data": {
            "text/plain": [
              "'cuda'"
            ],
            "application/vnd.google.colaboratory.intrinsic+json": {
              "type": "string"
            }
          },
          "metadata": {},
          "execution_count": 7
        }
      ],
      "source": [
        "device"
      ]
    },
    {
      "cell_type": "markdown",
      "metadata": {
        "id": "SdN8CiTlc7xF"
      },
      "source": [
        "# Data\n",
        "\n",
        "실습에서 사용했던 영어-프랑스어와 달리 현재 사용할 데이터 셋은 영어-한국어 데이터 셋입니다. \n",
        "\n",
        "특히 압축을 풀어야 사용하실 수 있으니 유의하여 진행해주시길 바랍니다.\n",
        "\n",
        "다행인 점은 용량이 그리 크지 않을겁니다!\n",
        "\n",
        "저장 경로는 위에서 path_train_data와 path_val_data와 동일하게 맞췄습니다."
      ]
    },
    {
      "cell_type": "code",
      "execution_count": 8,
      "metadata": {
        "colab": {
          "base_uri": "https://localhost:8080/"
        },
        "id": "4bGHHia2LnOo",
        "outputId": "8a1ba9a1-a2f9-4723-c8de-6bcf4ae80ae1"
      },
      "outputs": [
        {
          "output_type": "stream",
          "name": "stdout",
          "text": [
            "replace data/data_hw/1.Training/원천데이터/일상생활및구어체_영한_train_set.json? [y]es, [n]o, [A]ll, [N]one, [r]ename: y\n",
            "replace data/data_hw/2.Validation/원천데이터/일상생활및구어체_영한_valid_set.json? [y]es, [n]o, [A]ll, [N]one, [r]ename: y\n",
            "replace data/data_hw/2.Validation/원천데이터/일상생활및구어체_한영_valid_set.json? [y]es, [n]o, [A]ll, [N]one, [r]ename: y\n"
          ]
        }
      ],
      "source": [
        "!unzip -qq data/data_hw/1.Training/원천데이터/TS1.zip -d data/data_hw/1.Training/원천데이터\n",
        "\n",
        "!unzip -qq data/data_hw/2.Validation/원천데이터/VS1.zip -d data/data_hw/2.Validation/원천데이터\n"
      ]
    },
    {
      "cell_type": "markdown",
      "metadata": {
        "id": "tfrW60WrP0rn"
      },
      "source": [
        "## 데이터 구조 확인"
      ]
    },
    {
      "cell_type": "code",
      "execution_count": 9,
      "metadata": {
        "id": "SDeLynUqP0Jr"
      },
      "outputs": [],
      "source": [
        "import json"
      ]
    },
    {
      "cell_type": "code",
      "execution_count": 10,
      "metadata": {
        "id": "2VEmaNPbP5hr"
      },
      "outputs": [],
      "source": [
        "# 경로는 앞서 PATH에서 선언했고 unzip에서도 경로를 지정했습니다. 만약 여기에 변화가 생기신다면 에러가 생길 수 있으니 유의하셔야 합니다.\n",
        "with open(path_train_data, 'r') as f:\n",
        "  raw_train_data = json.load(f)\n",
        "\n",
        "with open(path_val_data, 'r') as f:\n",
        "  raw_val_data = json.load(f)\n"
      ]
    },
    {
      "cell_type": "code",
      "execution_count": 11,
      "metadata": {
        "id": "jNhgtA6iR2HG",
        "colab": {
          "base_uri": "https://localhost:8080/"
        },
        "outputId": "ea13f6bc-91fc-4f10-e400-721ffdaf092e"
      },
      "outputs": [
        {
          "output_type": "execute_result",
          "data": {
            "text/plain": [
              "dict_keys(['data'])"
            ]
          },
          "metadata": {},
          "execution_count": 11
        }
      ],
      "source": [
        "# 현재 데이터의 구조가 {'data':~~~ }로 되어있는것을 알 수 있습니다.\n",
        "raw_train_data.keys()"
      ]
    },
    {
      "cell_type": "code",
      "execution_count": 12,
      "metadata": {
        "id": "uMcJ230kRgJ_",
        "colab": {
          "base_uri": "https://localhost:8080/"
        },
        "outputId": "d4f0b89a-fef4-4d3d-f095-5d54b15c36c6"
      },
      "outputs": [
        {
          "output_type": "execute_result",
          "data": {
            "text/plain": [
              "1200307"
            ]
          },
          "metadata": {},
          "execution_count": 12
        }
      ],
      "source": [
        "# 학습 데이터 개수 확인\n",
        "len(raw_train_data['data'])"
      ]
    },
    {
      "cell_type": "markdown",
      "metadata": {
        "id": "pOcoZtgOYicO"
      },
      "source": [
        "지금 데이터가 너무 많아서 전처리만 해도 1,2시간 걸릴 수 있습니다. 그래서 숙제에서는 매우 일부 데이터만 이용하도록 하겠습니다."
      ]
    },
    {
      "cell_type": "code",
      "execution_count": 13,
      "metadata": {
        "id": "OXGulbjhYg-o"
      },
      "outputs": [],
      "source": [
        "raw_train_data = raw_train_data['data'][:10000]\n",
        "raw_val_data = raw_val_data['data'][:1000]"
      ]
    },
    {
      "cell_type": "code",
      "execution_count": 14,
      "metadata": {
        "id": "GMFaFQF0SJb4"
      },
      "outputs": [],
      "source": [
        "# 샘플로 하나 확인\n",
        "sample_data = raw_train_data[0]"
      ]
    },
    {
      "cell_type": "code",
      "execution_count": 15,
      "metadata": {
        "id": "I68Quh9gSRag",
        "colab": {
          "base_uri": "https://localhost:8080/"
        },
        "outputId": "0f664a67-988d-4643-ea92-8a86dd170334"
      },
      "outputs": [
        {
          "output_type": "execute_result",
          "data": {
            "text/plain": [
              "{'sn': 'ECOAR1A00003',\n",
              " 'data_set': '일상생활및구어체',\n",
              " 'domain': '해외고객과의채팅',\n",
              " 'subdomain': '숙박,음식점',\n",
              " 'en_original': \"I'm glad to hear that, and I hope you do consider doing business with us.\",\n",
              " 'en': \"I'm glad to hear that, and I hope you do consider doing business with us.\",\n",
              " 'mt': '그 소식을 들으니 기쁩니다. 우리와 거래하는 것을 고려해 보시기 바랍니다.',\n",
              " 'ko': '그 말을 들으니 기쁘고, 저희와 거래하는 것을 고려해 주셨으면 합니다.',\n",
              " 'source_language': 'en',\n",
              " 'target_language': 'ko',\n",
              " 'word_count_ko': 10.0,\n",
              " 'word_count_en': 15.0,\n",
              " 'word_ratio': 0.667,\n",
              " 'file_name': '해외고객과의채팅_숙박,음식점.xlsx',\n",
              " 'source': '크라우드 소싱',\n",
              " 'license': 'open',\n",
              " 'style': '구어체',\n",
              " 'included_unknown_words': False,\n",
              " 'ner': None}"
            ]
          },
          "metadata": {},
          "execution_count": 15
        }
      ],
      "source": [
        "# 아래의 예시를 보고 데이터를 어떻게 처리할지 잘 생각하셔야 합니다!\n",
        "# 보았을 때 우리가 사용해야 하는 건 ko와 en가 되고\n",
        "# 실제 데이터를 사용한다고 할 때 이 외에 필요한 데이터가 더 있을 수 있습니다.\n",
        "# 모델링 과정에서는 어떻게 데이터들이 저장되어 있는지 주의해서 처리하시면 됩니다.\n",
        "sample_data"
      ]
    },
    {
      "cell_type": "markdown",
      "metadata": {
        "id": "LoZkQRO3l20O"
      },
      "source": [
        "# Preprocess\n",
        "\n",
        "세션 설명 코드에서는 알파벳 하나하나 사용했지만, 이번 과정에서는 토큰화를 진행하여 사용하는 과정을 Dataset에 바로 적용해보고자 합니다! \n",
        "\n",
        "토큰화는 앞서 word embedding 세션에서 사용한 것들을 그대로 이용하고자 합니다. 세부 커스터마이징은 자유롭습니다.\n",
        "\n",
        "전처리 과정에서 중요한 점은, 앞의 구현 코드에서 여러 개의 for loop을 이용해서 구현했었지만, 실제 데이터를 사용한다면 매우 오래 걸리게 됩니다. 실제 데이터를 사용할 때엔 결국 얼마나 효율적으로 빠르게 정리할 수 있을지 고민해보시면서 접근하시길 바랍니다.\n",
        "\n",
        "즉, 전처리에서 챙길 통찰은 얼마나 \"효율적\"으로 할 수 있는가? 입니다."
      ]
    },
    {
      "cell_type": "markdown",
      "metadata": {
        "id": "IngQKWx3VRtO"
      },
      "source": [
        "## Tokenizer"
      ]
    },
    {
      "cell_type": "code",
      "execution_count": 16,
      "metadata": {
        "id": "ttmiDFAEU_BK",
        "colab": {
          "base_uri": "https://localhost:8080/"
        },
        "outputId": "1a3f602a-cf86-47b2-9e57-3c3a379ff010"
      },
      "outputs": [
        {
          "output_type": "stream",
          "name": "stdout",
          "text": [
            "Hit:1 https://cloud.r-project.org/bin/linux/ubuntu bionic-cran40/ InRelease\n",
            "Hit:2 http://security.ubuntu.com/ubuntu bionic-security InRelease\n",
            "Hit:3 http://ppa.launchpad.net/c2d4u.team/c2d4u4.0+/ubuntu bionic InRelease\n",
            "Hit:4 http://archive.ubuntu.com/ubuntu bionic InRelease\n",
            "Hit:5 http://ppa.launchpad.net/cran/libgit2/ubuntu bionic InRelease\n",
            "Hit:6 http://archive.ubuntu.com/ubuntu bionic-updates InRelease\n",
            "Ign:7 https://developer.download.nvidia.com/compute/machine-learning/repos/ubuntu1804/x86_64  InRelease\n",
            "Hit:8 https://developer.download.nvidia.com/compute/cuda/repos/ubuntu1804/x86_64  InRelease\n",
            "Hit:9 https://developer.download.nvidia.com/compute/machine-learning/repos/ubuntu1804/x86_64  Release\n",
            "Hit:10 http://archive.ubuntu.com/ubuntu bionic-backports InRelease\n",
            "Hit:11 http://ppa.launchpad.net/deadsnakes/ppa/ubuntu bionic InRelease\n",
            "Hit:12 http://ppa.launchpad.net/graphics-drivers/ppa/ubuntu bionic InRelease\n",
            "Reading package lists...\n",
            "Reading package lists...\n",
            "Building dependency tree...\n",
            "Reading state information...\n",
            "python-dev is already the newest version (2.7.15~rc1-1).\n",
            "g++ is already the newest version (4:7.4.0-1ubuntu2.3).\n",
            "python3-dev is already the newest version (3.6.7-1~18.04).\n",
            "openjdk-8-jdk is already the newest version (8u342-b07-0ubuntu1~18.04).\n",
            "The following package was automatically installed and is no longer required:\n",
            "  libnvidia-common-460\n",
            "Use 'apt autoremove' to remove it.\n",
            "0 upgraded, 0 newly installed, 0 to remove and 40 not upgraded.\n",
            "Looking in indexes: https://pypi.org/simple, https://us-python.pkg.dev/colab-wheels/public/simple/\n",
            "Requirement already satisfied: JPype1 in /usr/local/lib/python3.7/dist-packages (1.4.0)\n",
            "Requirement already satisfied: typing-extensions in /usr/local/lib/python3.7/dist-packages (from JPype1) (4.1.1)\n",
            "Looking in indexes: https://pypi.org/simple, https://us-python.pkg.dev/colab-wheels/public/simple/\n",
            "Requirement already satisfied: konlpy in /usr/local/lib/python3.7/dist-packages (0.6.0)\n",
            "Requirement already satisfied: numpy>=1.6 in /usr/local/lib/python3.7/dist-packages (from konlpy) (1.21.6)\n",
            "Requirement already satisfied: JPype1>=0.7.0 in /usr/local/lib/python3.7/dist-packages (from konlpy) (1.4.0)\n",
            "Requirement already satisfied: lxml>=4.1.0 in /usr/local/lib/python3.7/dist-packages (from konlpy) (4.9.1)\n",
            "Requirement already satisfied: typing-extensions in /usr/local/lib/python3.7/dist-packages (from JPype1>=0.7.0->konlpy) (4.1.1)\n"
          ]
        }
      ],
      "source": [
        "# konlpy 설치 (mecab 제외). 3~40초 정도 소요\n",
        "%%bash\n",
        "apt-get update\n",
        "apt-get install g++ openjdk-8-jdk python-dev python3-dev\n",
        "pip3 install JPype1\n",
        "pip3 install konlpy"
      ]
    },
    {
      "cell_type": "code",
      "execution_count": 17,
      "metadata": {
        "id": "gV7CNL2KVDqN",
        "colab": {
          "base_uri": "https://localhost:8080/"
        },
        "outputId": "3bb732f4-f79a-4741-abf5-20cb37203bb7"
      },
      "outputs": [
        {
          "output_type": "stream",
          "name": "stdout",
          "text": [
            "env: JAVA_HOME=\"/usr/lib/jvm/java-8-openjdk-amd64\"\n"
          ]
        }
      ],
      "source": [
        "# java 경로 설정\n",
        "%env JAVA_HOME \"/usr/lib/jvm/java-8-openjdk-amd64\""
      ]
    },
    {
      "cell_type": "code",
      "execution_count": 18,
      "metadata": {
        "id": "S0aHtzksVPOT"
      },
      "outputs": [],
      "source": [
        "from konlpy.tag import Okt"
      ]
    },
    {
      "cell_type": "code",
      "execution_count": 19,
      "metadata": {
        "id": "ly1Fg2bXVYVF"
      },
      "outputs": [],
      "source": [
        "okt = Okt()"
      ]
    },
    {
      "cell_type": "code",
      "execution_count": 20,
      "metadata": {
        "id": "UcXNpcUaVtIA"
      },
      "outputs": [],
      "source": [
        "def CustomTokenizer(corpus):\n",
        "    stop = ['Conjunction', 'Josa', 'Number', 'Punctuation', 'Suffix']\n",
        "    tokenized = []\n",
        "    for word, pos in okt.pos(corpus, norm=True, stem=True):\n",
        "      if (pos in stop) and word not in ['!', '?']:\n",
        "        continue\n",
        "      else: tokenized.append(word)\n",
        "    return tokenized"
      ]
    },
    {
      "cell_type": "code",
      "execution_count": 21,
      "metadata": {
        "colab": {
          "base_uri": "https://localhost:8080/"
        },
        "id": "aGMdyWtdWF31",
        "outputId": "08398bf6-0a67-4a03-aee7-3df3d40b630e"
      },
      "outputs": [
        {
          "output_type": "execute_result",
          "data": {
            "text/plain": [
              "['그', '말', '들다', '기쁘다', '저희', '거래', '하다', '것', '고려', '하다', '주다', '하다']"
            ]
          },
          "metadata": {},
          "execution_count": 21
        }
      ],
      "source": [
        "# 한국어 처리 어떻게 되고 있는지 확인\n",
        "CustomTokenizer(sample_data['ko'])"
      ]
    },
    {
      "cell_type": "code",
      "execution_count": 22,
      "metadata": {
        "colab": {
          "base_uri": "https://localhost:8080/"
        },
        "id": "G7vMH186WJUp",
        "outputId": "4cd4c841-fc14-442b-e36f-efa16cf7d572"
      },
      "outputs": [
        {
          "output_type": "execute_result",
          "data": {
            "text/plain": [
              "['I',\n",
              " 'm',\n",
              " 'glad',\n",
              " 'to',\n",
              " 'hear',\n",
              " 'that',\n",
              " 'and',\n",
              " 'I',\n",
              " 'hope',\n",
              " 'you',\n",
              " 'do',\n",
              " 'consider',\n",
              " 'doing',\n",
              " 'business',\n",
              " 'with',\n",
              " 'us']"
            ]
          },
          "metadata": {},
          "execution_count": 22
        }
      ],
      "source": [
        "# 영어도 일단 토큰화가 되고 있으니 사용해보도록 합시다\n",
        "CustomTokenizer(sample_data['en'])"
      ]
    },
    {
      "cell_type": "markdown",
      "metadata": {
        "id": "L9_z0sVcW7Cy"
      },
      "source": [
        "## 본격적인 전처리 과정\n",
        "\n",
        "전처리를 할 때 주의할 점은, 우리가 가지고 있는 것은 train 데이터 뿐이라는 점입니다.\n",
        "\n",
        "토큰화를 하고, token들을 수집할 때 평가데이터(혹은 테스트 데이터)에 대한 정보는 가지고 있을 수 없습니다. 그렇기 때문에 train data를 기준으로 전처리가 진행되어야 합니다."
      ]
    },
    {
      "cell_type": "markdown",
      "metadata": {
        "id": "HgfddQJuaQe-"
      },
      "source": [
        "### Tokenization"
      ]
    },
    {
      "cell_type": "code",
      "execution_count": 23,
      "metadata": {
        "id": "zPHGhgX4YXJR"
      },
      "outputs": [],
      "source": [
        "from tqdm import tqdm"
      ]
    },
    {
      "cell_type": "code",
      "source": [
        "src_vocab = set()\n",
        "tar_vocab = set()\n",
        "\n",
        "src_seq_tr = []\n",
        "tar_seq_tr = []\n",
        "\n",
        "# 전체 raw data에서 문장하나씩 loop 돌아가는 것\n",
        "for raw_tr_dat in tqdm(raw_train_data):\n",
        "  # 문장별 tokenization\n",
        "  src_tmp = CustomTokenizer(raw_tr_dat['en'])\n",
        "  tar_tmp = CustomTokenizer(raw_tr_dat['ko'])\n",
        "\n",
        "  # 입력 시퀀스에서 문장의 끝을 알리는 <EOS> 토큰 추가\n",
        "  # 출력 시퀀스에서 시작과 끝을 알리는 <SOS>, <EOS> 토큰 추가\n",
        "  src_tmp.append('<EOS>')\n",
        "  tar_tmp.insert(0,'<SOS>')\n",
        "  tar_tmp.append('<EOS>')\n",
        "\n",
        "  # 한국어, 영어 단어집합 구성\n",
        "  src_vocab.update(src_tmp)\n",
        "  tar_vocab.update(tar_tmp)\n",
        "\n",
        "  # tokenization 끝난 문장 보관\n",
        "  src_seq_tr.append(src_vocab)\n",
        "  tar_seq_tr.append(tar_vocab)"
      ],
      "metadata": {
        "colab": {
          "base_uri": "https://localhost:8080/"
        },
        "id": "o1JPF_WsOh2f",
        "outputId": "feeaa926-a559-4656-b12d-2c624b8b19e8"
      },
      "execution_count": 24,
      "outputs": [
        {
          "output_type": "stream",
          "name": "stderr",
          "text": [
            "100%|██████████| 10000/10000 [00:57<00:00, 174.83it/s]\n"
          ]
        }
      ]
    },
    {
      "cell_type": "markdown",
      "metadata": {
        "id": "PtNW4DUIyEbN"
      },
      "source": [
        "고민해볼 점: 과연 한국어 단어집합에 한국어만 있을까요?\n",
        "\n",
        "지금 단계에서는 시간 상 체크하진 않지만 고민해볼 부분이기도 합니다."
      ]
    },
    {
      "cell_type": "markdown",
      "metadata": {
        "id": "cK_E98-daSy7"
      },
      "source": [
        "### token - index 정리"
      ]
    },
    {
      "cell_type": "code",
      "execution_count": 25,
      "metadata": {
        "id": "Iz3i3MtRZ-P-"
      },
      "outputs": [],
      "source": [
        "# 최종 정수 인코딩 하기 전 보기 편하기 위해 sort\n",
        "src_vocab = sorted(list(src_vocab))\n",
        "tar_vocab = sorted(list(tar_vocab))"
      ]
    },
    {
      "cell_type": "code",
      "execution_count": 26,
      "metadata": {
        "colab": {
          "base_uri": "https://localhost:8080/"
        },
        "id": "xrGkd41Has-Q",
        "outputId": "ceb6f103-e96c-47fe-d514-724f020b434e"
      },
      "outputs": [
        {
          "output_type": "stream",
          "name": "stdout",
          "text": [
            "{'!': 1, ',': 2, '.': 3, '<EOS>': 4, '?': 5, 'A': 6, 'AAA': 7, 'AAA1@BBB1.com.': 8, 'AAA@BBB.com': 9, 'ABCDE': 10, 'AI': 11, 'ANRs': 12, 'ATM': 13, 'ATMs': 14, 'Absolutely': 15, 'Accidents': 16, 'According': 17, 'Actually': 18, 'Additionally': 19, 'Ads': 20, 'African': 21, 'After': 22, 'Afterwards': 23, 'Again': 24, 'Agency': 25, 'Ah': 26, 'Airport': 27, 'All': 28, 'Allow': 29, 'Almost': 30, 'Along': 31, 'Alright': 32, 'Also': 33, 'Alternatively': 34, 'Although': 35, 'Am': 36, 'America': 37, 'American': 38, 'Among': 39, 'Amsterdam': 40, 'An': 41, 'And': 42, 'Angel': 43, 'Another': 44, 'Any': 45, 'Anyone': 46, 'Anything': 47, 'Anyway': 48, 'Apart': 49, 'Apologies': 50, 'Apparently': 51, 'Appraisal': 52, 'April': 53, 'Are': 54, 'Argentina': 55, 'Around': 56, 'Articles': 57, 'Artificial': 58, 'As': 59, 'Asia': 60, 'Asian': 61, 'Aside': 62, 'Associates': 63, 'Assume': 64, 'At': 65, 'August': 66, 'Australia': 67, 'Australian': 68, 'Available': 69, 'Avatars': 70, 'Avoid': 71, 'Awesome': 72, 'B': 73, 'BBB': 74, 'BBB@email.com.': 75, 'BBQ': 76, 'BSE': 77, 'Back': 78, 'Bank': 79, 'Barbados': 80, 'Based': 81, 'Basically': 82, 'Be': 83, 'Bear': 84, 'Because': 85, 'Beef': 86, 'Before': 87, 'Being': 88, 'Besides': 89, 'Board': 90, 'Bohemian': 91, 'Bokkeumbap': 92, 'Bossam': 93, 'Both': 94, 'Brazil': 95, 'Breakfast': 96, 'Bringing': 97, 'Broadcast': 98, 'Broadcasting': 99, 'Browsing': 100, 'Brunei': 101, 'Buddha': 102, 'Buddhism': 103, 'Buddhist': 104, 'Building': 105, 'Bulgogi': 106, 'Bungeoppang': 107, 'Bunsen': 108, 'Busan': 109, 'Business': 110, 'But': 111, 'Buying': 112, 'By': 113, 'C': 114, 'CCTV': 115, 'CCTVs': 116, 'CEO': 117, 'CFM': 118, 'CMS': 119, 'COVID': 120, 'CSS': 121, 'CT': 122, 'California': 123, 'Call': 124, 'Camp': 125, 'Camping': 126, 'Can': 127, 'Canada': 128, 'Canal': 129, 'Capital': 130, 'Catering': 131, 'Center': 132, 'Certainly': 133, 'Change': 134, 'Chapter': 135, 'Chicago': 136, 'Chief': 137, 'Children': 138, 'China': 139, 'Chinese': 140, 'Choosing': 141, 'Chosun': 142, 'Christmas': 143, 'Chuseok': 144, 'City': 145, 'Class': 146, 'Click': 147, 'Clothing': 148, 'Cloud': 149, 'Come': 150, 'Company': 151, 'Compatible': 152, 'Completion': 153, 'Consider': 154, 'Considering': 155, 'Contact': 156, 'Content': 157, 'Continental': 158, 'Continue': 159, 'Control': 160, 'Convention': 161, 'Cool': 162, 'Copyright': 163, 'Corp': 164, 'Corporation': 165, 'Correct': 166, 'Could': 167, 'Court': 168, 'Crowdfunding': 169, 'Cryptocurrency': 170, 'Currently': 171, 'D': 172, 'DCA': 173, 'DVR': 174, 'Daegu': 175, 'Dak': 176, 'Dear': 177, 'December': 178, 'Definitely': 179, 'Denmark': 180, 'Department': 181, 'Depends': 182, 'Design': 183, 'Despite': 184, 'Details': 185, 'Devices': 186, 'Did': 187, 'Didn': 188, 'Different': 189, 'Disclosing': 190, 'District': 191, 'Do': 192, 'Documents': 193, 'Does': 194, 'Don': 195, 'Download': 196, 'Dr': 197, 'Drive': 198, 'Due': 199, 'Duly': 200, 'During': 201, 'E': 202, 'EOB': 203, 'EPP': 204, 'ESG': 205, 'EST': 206, 'ETF': 207, 'ETFs': 208, 'EVA': 209, 'Each': 210, 'Earth': 211, 'East': 212, 'Eastern': 213, 'Egyptian': 214, 'Eh': 215, 'Emerald': 216, 'Emerging': 217, 'Emily': 218, 'Encryption': 219, 'Engine': 220, 'Engines': 221, 'England': 222, 'English': 223, 'Equipment': 224, 'Especially': 225, 'Essentially': 226, 'Europe': 227, 'European': 228, 'Euros': 229, 'Even': 230, 'Events': 231, 'Every': 232, 'Everyone': 233, 'Everything': 234, 'Exactly': 235, 'Excellent': 236, 'Exchange': 237, 'Excuse': 238, 'Exit': 239, 'Expect': 240, 'Expo': 241, 'FDI': 242, 'FFF': 243, 'FOMO': 244, 'Factors': 245, 'Failure': 246, 'Fantastic': 247, 'February': 248, 'Federal': 249, 'Feel': 250, 'Festival': 251, 'Fi': 252, 'Fifth': 253, 'Filipino': 254, 'Finally': 255, 'Financial': 256, 'Find': 257, 'Fine': 258, 'Fingers': 259, 'First': 260, 'Firstly': 261, 'Five': 262, 'Flashes': 263, 'Flexibility': 264, 'Food': 265, 'For': 266, 'Foreigners': 267, 'Fortunately': 268, 'Fourth': 269, 'France': 270, 'Francisco': 271, 'French': 272, 'Friday': 273, 'From': 274, 'Fu': 275, 'Furthermore': 276, 'Futons': 277, 'Futures': 278, 'G': 279, 'GB': 280, 'GPS': 281, 'GVWR': 282, 'Gains': 283, 'Gangnam': 284, 'Gangneung': 285, 'Gas': 286, 'Generally': 287, 'Georgia': 288, 'Germany': 289, 'Get': 290, 'Ginseng': 291, 'Give': 292, 'Given': 293, 'Giving': 294, 'Go': 295, 'Good': 296, 'Got': 297, 'Graphic': 298, 'Great': 299, 'Greek': 300, 'Greetings': 301, 'Group': 302, 'Guam': 303, 'Gujeolpan': 304, 'Gyeonggi': 305, 'HDD': 306, 'HR': 307, 'HTML': 308, 'Hackers': 309, 'Halal': 310, 'Hanok': 311, 'Has': 312, 'Have': 313, 'Having': 314, 'Hawaii': 315, 'He': 316, 'Helllo': 317, 'Hello': 318, 'Hence': 319, 'Her': 320, 'Here': 321, 'Hey': 322, 'Hi': 323, 'Hmm': 324, 'Hokkaido': 325, 'Hold': 326, 'Hopefully': 327, 'Hotel': 328, 'How': 329, 'However': 330, 'I': 331, 'ID': 332, 'IDs': 333, 'IP': 334, 'IPO': 335, 'IPOs': 336, 'IT': 337, 'IVR': 338, 'IaaS': 339, 'If': 340, 'Ilsan': 341, 'In': 342, 'Incentives': 343, 'Incheon': 344, 'Incorporation': 345, 'Indeed': 346, 'Independent': 347, 'India': 348, 'Indian': 349, 'Indonesia': 350, 'Indonesian': 351, 'Inflation': 352, 'Influencer': 353, 'Innovations': 354, 'Installing': 355, 'Instant': 356, 'Insurance': 357, 'Interesting': 358, 'International': 359, 'Internet': 360, 'Intraday': 361, 'Invest': 362, 'Investments': 363, 'Investors': 364, 'IoT': 365, 'Is': 366, 'Isn': 367, 'It': 368, 'Italian': 369, 'Italy': 370, 'JLPT': 371, 'January': 372, 'Japan': 373, 'Japanese': 374, 'Jeju': 375, 'Jeonbyeong': 376, 'Jjimjilbang': 377, 'Jongno': 378, 'July': 379, 'Jun': 380, 'June': 381, 'Just': 382, 'K': 383, 'KOSDAQ': 384, 'KST': 385, 'Kabsat': 386, 'Keep': 387, 'Kimchi': 388, 'Kindly': 389, 'Kingdom': 390, 'Know': 391, 'Knowing': 392, 'Kolkata': 393, 'Korea': 394, 'Korean': 395, 'Koreans': 396, 'Kuala': 397, 'LED': 398, 'Language': 399, 'Last': 400, 'Lastly': 401, 'Later': 402, 'Latest': 403, 'Law': 404, 'Learning': 405, 'Let': 406, 'Life': 407, 'Like': 408, 'Likewise': 409, 'Limited': 410, 'Listen': 411, 'Little': 412, 'Liverpool': 413, 'Loans': 414, 'Locust': 415, 'Log': 416, 'London': 417, 'Looking': 418, 'Losers': 419, 'Loss': 420, 'Lovely': 421, 'Low': 422, 'Luckily': 423, 'Lumpur': 424, 'M': 425, 'MAR': 426, 'MMS': 427, 'MOU': 428, 'Ma': 429, 'Madrid': 430, 'Mainly': 431, 'Maintaining': 432, 'Make': 433, 'Making': 434, 'Malaysia': 435, 'Management': 436, 'Manali': 437, 'Mandarin': 438, 'Manila': 439, 'Many': 440, 'Mapo': 441, 'Mapping': 442, 'March': 443, 'Marketing': 444, 'May': 445, 'Maybe': 446, 'Me': 447, 'Meaning': 448, 'Meanwhile': 449, 'Mechanical': 450, 'Media': 451, 'Medical': 452, 'Members': 453, 'Metaverse': 454, 'Michelin': 455, 'Minting': 456, 'Mobile': 457, 'Monday': 458, 'Month': 459, 'More': 460, 'Moreover': 461, 'Most': 462, 'Moving': 463, 'Mr': 464, 'Mrs': 465, 'Ms': 466, 'Music': 467, 'My': 468, 'Myanmar': 469, 'NFT': 470, 'NFTs': 471, 'NI': 472, 'NSE': 473, 'NTFS': 474, 'Naturally': 475, 'Needles': 476, 'Network': 477, 'Never': 478, 'New': 479, 'News': 480, 'Next': 481, 'Nigeria': 482, 'No': 483, 'Nobody': 484, 'Non': 485, 'None': 486, 'Normally': 487, 'North': 488, 'Not': 489, 'Noted': 490, 'Nothing': 491, 'November': 492, 'Now': 493, 'Nowadays': 494, 'OK': 495, 'OKK': 496, 'OS': 497, 'October': 498, 'Of': 499, 'Off': 500, 'Offering': 501, 'Office': 502, 'Officer': 503, 'Oh': 504, 'Ohio': 505, 'Ok': 506, 'Okay': 507, 'Omji': 508, 'On': 509, 'Once': 510, 'One': 511, 'Only': 512, 'Ontario': 513, 'Optimization': 514, 'Or': 515, 'Originally': 516, 'Others': 517, 'Otherwise': 518, 'Our': 519, 'Out': 520, 'Over': 521, 'Overall': 522, 'PDA': 523, 'PDF': 524, 'PM': 525, 'PPE': 526, 'PR': 527, 'PRO': 528, 'PSAs': 529, 'PVP': 530, 'Pakistan': 531, 'Palm': 532, 'Paper': 533, 'Paris': 534, 'Paying': 535, 'Payment': 536, 'Pelmeni': 537, 'People': 538, 'Perfect': 539, 'Perhaps': 540, 'Philippines': 541, 'Place': 542, 'Please': 543, 'Plenty': 544, 'Plummer': 545, 'Plus': 546, 'Pohang': 547, 'Pot': 548, 'Precisely': 549, 'Precision': 550, 'Predicting': 551, 'President': 552, 'Prices': 553, 'Private': 554, 'Probably': 555, 'Product': 556, 'Publishing': 557, 'Python': 558, 'QR': 559, 'Quality': 560, 'RAM': 561, 'RV': 562, 'Radio': 563, 'Recently': 564, 'Red': 565, 'Regarding': 566, 'Regardless': 567, 'Regrettably': 568, 'Resolution': 569, 'Rest': 570, 'Retailers': 571, 'Right': 572, 'Room': 573, 'SD': 574, 'SEO': 575, 'SIM': 576, 'SKUs': 577, 'SPV': 578, 'SSD': 579, 'SSL': 580, 'Sadly': 581, 'Saeng': 582, 'Sakyamuni': 583, 'Salalah': 584, 'San': 585, 'Sashimi': 586, 'Saturday': 587, 'Sauna': 588, 'Say': 589, 'Schools': 590, 'Search': 591, 'Second': 592, 'Security': 593, 'See': 594, 'Send': 595, 'Seoul': 596, 'September': 597, 'Series': 598, 'Services': 599, 'Several': 600, 'Shall': 601, 'Shampoo': 602, 'Shanghai': 603, 'She': 604, 'Shop': 605, 'Should': 606, 'Signals': 607, 'Signature': 608, 'Similar': 609, 'Simply': 610, 'Since': 611, 'Singapore': 612, 'Singaporean': 613, 'Sir': 614, 'Skim': 615, 'So': 616, 'Social': 617, 'Soju': 618, 'Solar': 619, 'Some': 620, 'Someone': 621, 'Something': 622, 'Sometimes': 623, 'Soon': 624, 'Sorry': 625, 'Sounds': 626, 'South': 627, 'Southeast': 628, 'Spain': 629, 'Spanish': 630, 'Speaking': 631, 'Specifically': 632, 'Springs': 633, 'Square': 634, 'Starting': 635, 'States': 636, 'Station': 637, 'Stay': 638, 'Staying': 639, 'Still': 640, 'Stock': 641, 'Street': 642, 'Stroganoff': 643, 'Submit': 644, 'Submitting': 645, 'Such': 646, 'Sudan': 647, 'Suez': 648, 'Suite': 649, 'Sun': 650, 'Sunday': 651, 'Sure': 652, 'TPU': 653, 'TV': 654, 'Taegeuk': 655, 'Taeguekgi': 656, 'Taiwan': 657, 'Take': 658, 'Task': 659, 'Team': 660, 'Tech': 661, 'Technical': 662, 'Technology': 663, 'Tell': 664, 'Temple': 665, 'Ten': 666, 'Thai': 667, 'Thailand': 668, 'Thank': 669, 'Thanks': 670, 'That': 671, 'The': 672, 'Their': 673, 'Then': 674, 'There': 675, 'Therefore': 676, 'These': 677, 'They': 678, 'Things': 679, 'Third': 680, 'Thirdly': 681, 'This': 682, 'Those': 683, 'Three': 684, 'Through': 685, 'Thursday': 686, 'Thursdays': 687, 'Thus': 688, 'Times': 689, 'To': 690, 'Today': 691, 'Tokens': 692, 'Tokyo': 693, 'Tong': 694, 'Tongdosa': 695, 'Topics': 696, 'Touch': 697, 'Trade': 698, 'Trust': 699, 'Truth': 700, 'Try': 701, 'Tuesday': 702, 'Turkish': 703, 'UI': 704, 'UN': 705, 'US': 706, 'USA': 707, 'USB': 708, 'USBs': 709, 'Ukraine': 710, 'Ulsan': 711, 'Ultimately': 712, 'Under': 713, 'Unfortunately': 714, 'United': 715, 'Universal': 716, 'University': 717, 'Unless': 718, 'Unlike': 719, 'Until': 720, 'Upon': 721, 'Users': 722, 'Using': 723, 'Usually': 724, 'VC': 725, 'VIP': 726, 'VPN': 727, 'VR': 728, 'VVIP': 729, 'Vacationing': 730, 'Various': 731, 'Vegetables': 732, 'Venezuela': 733, 'Very': 734, 'Vietnam': 735, 'View': 736, 'Virtual': 737, 'Visual': 738, 'Visualization': 739, 'WIFI': 740, 'WTO': 741, 'Wait': 742, 'Was': 743, 'We': 744, 'Webcasting': 745, 'Wednesday': 746, 'Welcome': 747, 'Well': 748, 'Were': 749, 'Weren': 750, 'What': 751, 'Whatever': 752, 'WhatsApp': 753, 'When': 754, 'Where': 755, 'Which': 756, 'While': 757, 'Who': 758, 'Whom': 759, 'Why': 760, 'Wi': 761, 'Will': 762, 'Wishing': 763, 'With': 764, 'Without': 765, 'Won': 766, 'Wonderful': 767, 'Wonju': 768, 'Would': 769, 'Wouldn': 770, 'Wow': 771, 'X': 772, 'Yeah': 773, 'Yebool': 774, 'Yellowknife': 775, 'Yes': 776, 'Yet': 777, 'York': 778, 'Yorkshire': 779, 'You': 780, 'Your': 781, 'Yukhoe': 782, 'Yup': 783, 'Zealand': 784, 'a': 785, 'abbreviation': 786, 'ability': 787, 'able': 788, 'about': 789, 'above': 790, 'abroad': 791, 'absent': 792, 'absolutely': 793, 'absorption': 794, 'academe': 795, 'academic': 796, 'accelerate': 797, 'accept': 798, 'acceptable': 799, 'acceptance': 800, 'accepted': 801, 'accepting': 802, 'access': 803, 'accessed': 804, 'accessibility': 805, 'accessible': 806, 'accessing': 807, 'accessories': 808, 'accidental': 809, 'accidentally': 810, 'accidents': 811, 'accommodate': 812, 'accommodating': 813, 'accommodation': 814, 'accommodations': 815, 'accomodating': 816, 'accomplish': 817, 'accomplished': 818, 'accordance': 819, 'according': 820, 'accordingly': 821, 'account': 822, 'accountancy': 823, 'accountant': 824, 'accounted': 825, 'accounting': 826, 'accounts': 827, 'accrual': 828, 'accumulated': 829, 'accuracy': 830, 'accurate': 831, 'accurately': 832, 'achieve': 833, 'achieved': 834, 'achievement': 835, 'achievements': 836, 'achieving': 837, 'acknowledge': 838, 'acne': 839, 'acoustic': 840, 'acoustics': 841, 'acquaint': 842, 'acquire': 843, 'acquired': 844, 'acquiring': 845, 'acquisition': 846, 'across': 847, 'act': 848, 'action': 849, 'actions': 850, 'activate': 851, 'activated': 852, 'active': 853, 'activities': 854, 'activity': 855, 'actors': 856, 'actual': 857, 'actualize': 858, 'actually': 859, 'acute': 860, 'ad': 861, 'adaptations': 862, 'adapter': 863, 'adaptive': 864, 'adaptor': 865, 'adaptors': 866, 'add': 867, 'added': 868, 'addendum': 869, 'adding': 870, 'addition': 871, 'additional': 872, 'address': 873, 'addressed': 874, 'addresses': 875, 'addressing': 876, 'adequately': 877, 'adhere': 878, 'adhesive': 879, 'adjust': 880, 'adjustable': 881, 'adjusted': 882, 'adjustment': 883, 'adjustments': 884, 'administration': 885, 'administrative': 886, 'administrators': 887, 'admission': 888, 'adopt': 889, 'ads': 890, 'adult': 891, 'adults': 892, 'advance': 893, 'advanced': 894, 'advancement': 895, 'advancing': 896, 'advantage': 897, 'advantageous': 898, 'advantages': 899, 'adventure': 900, 'advertise': 901, 'advertisement': 902, 'advertisements': 903, 'advertising': 904, 'adverts': 905, 'advice': 906, 'advisable': 907, 'advise': 908, 'advised': 909, 'advisers': 910, 'advises': 911, 'advisor': 912, 'advisory': 913, 'aesthetic': 914, 'affairs': 915, 'affect': 916, 'affected': 917, 'affecting': 918, 'affects': 919, 'affiliate': 920, 'affiliated': 921, 'affluent': 922, 'afford': 923, 'affordability': 924, 'affordable': 925, 'afloat': 926, 'aforementioned': 927, 'afraid': 928, 'after': 929, 'afternoon': 930, 'afterward': 931, 'again': 932, 'against': 933, 'age': 934, 'aged': 935, 'agencies': 936, 'agency': 937, 'agenda': 938, 'agent': 939, 'ages': 940, 'ago': 941, 'agree': 942, 'agreed': 943, 'agreeing': 944, 'agreement': 945, 'agrees': 946, 'agricultural': 947, 'agriculture': 948, 'ahead': 949, 'aid': 950, 'aids': 951, 'aim': 952, 'aims': 953, 'air': 954, 'aircraft': 955, 'airing': 956, 'airlines': 957, 'airport': 958, 'airports': 959, 'airtime': 960, 'alarm': 961, 'albeit': 962, 'album': 963, 'albums': 964, 'alcohol': 965, 'alcoholic': 966, 'alert': 967, 'algorithm': 968, 'algorithms': 969, 'aligned': 970, 'alkaline': 971, 'all': 972, 'allegations': 973, 'allergic': 974, 'allergies': 975, 'alliance': 976, 'allocate': 977, 'allocation': 978, 'allocations': 979, 'allow': 980, 'allowed': 981, 'allowing': 982, 'allows': 983, 'almost': 984, 'alone': 985, 'along': 986, 'already': 987, 'alright': 988, 'also': 989, 'alternative': 990, 'alternatives': 991, 'although': 992, 'aluminum': 993, 'always': 994, 'am': 995, 'amazing': 996, 'ambassador': 997, 'ambiance': 998, 'ambulation': 999, 'ambulatory': 1000, 'amend': 1001, 'amends': 1002, 'amenities': 1003, 'amenity': 1004, 'among': 1005, 'amongst': 1006, 'amount': 1007, 'amounted': 1008, 'amounts': 1009, 'amplifier': 1010, 'amplify': 1011, 'an': 1012, 'analysis': 1013, 'analytics': 1014, 'analyze': 1015, 'analyzing': 1016, 'anchor': 1017, 'ancient': 1018, 'and': 1019, 'android': 1020, 'angel': 1021, 'angle': 1022, 'angry': 1023, 'animal': 1024, 'animated': 1025, 'animations': 1026, 'animators': 1027, 'ankle': 1028, 'anniversary': 1029, 'announce': 1030, 'announcement': 1031, 'announcements': 1032, 'announcers': 1033, 'annual': 1034, 'annually': 1035, 'annum': 1036, 'another': 1037, 'answer': 1038, 'answered': 1039, 'answering': 1040, 'antenna': 1041, 'antivirus': 1042, 'any': 1043, 'anybody': 1044, 'anymore': 1045, 'anyone': 1046, 'anything': 1047, 'anytime': 1048, 'anyway': 1049, 'anywhere': 1050, 'apart': 1051, 'apartment': 1052, 'apartments': 1053, 'apologies': 1054, 'apologize': 1055, 'apology': 1056, 'app': 1057, 'apparent': 1058, 'appeal': 1059, 'appealing': 1060, 'appeals': 1061, 'appear': 1062, 'appearance': 1063, 'appeared': 1064, 'appears': 1065, 'appended': 1066, 'appetizer': 1067, 'apple': 1068, 'appliances': 1069, 'applicable': 1070, 'application': 1071, 'applications': 1072, 'applied': 1073, 'applies': 1074, 'apply': 1075, 'applying': 1076, 'appointment': 1077, 'appraisal': 1078, 'appreciate': 1079, 'appreciated': 1080, 'appreciating': 1081, 'appreciation': 1082, 'approach': 1083, 'approached': 1084, 'appropriate': 1085, 'appropriately': 1086, 'approval': 1087, 'approve': 1088, 'approved': 1089, 'approximately': 1090, 'apps': 1091, 'aprtner': 1092, 'architectural': 1093, 'architecture': 1094, 'archives': 1095, 'are': 1096, 'area': 1097, 'areas': 1098, 'aren': 1099, 'arena': 1100, 'arises': 1101, 'aromatherapy': 1102, 'around': 1103, 'arrange': 1104, 'arranged': 1105, 'arrangement': 1106, 'arrangements': 1107, 'arranger': 1108, 'arrangers': 1109, 'arranging': 1110, 'array': 1111, 'arrival': 1112, 'arrive': 1113, 'arrived': 1114, 'arriving': 1115, 'art': 1116, 'article': 1117, 'articles': 1118, 'artificial': 1119, 'artillery': 1120, 'artist': 1121, 'artists': 1122, 'arts': 1123, 'artwork': 1124, 'artworks': 1125, 'as': 1126, 'asap': 1127, 'ashamed': 1128, 'aside': 1129, 'ask': 1130, 'asked': 1131, 'asking': 1132, 'asks': 1133, 'asleep': 1134, 'asparagus': 1135, 'aspect': 1136, 'aspects': 1137, 'asphalt': 1138, 'assembly': 1139, 'assessing': 1140, 'assessment': 1141, 'asset': 1142, 'assets': 1143, 'assign': 1144, 'assigned': 1145, 'assist': 1146, 'assistance': 1147, 'assistant': 1148, 'assisting': 1149, 'assistive': 1150, 'associate': 1151, 'associated': 1152, 'associates': 1153, 'association': 1154, 'assumed': 1155, 'assuming': 1156, 'assurance': 1157, 'assure': 1158, 'assured': 1159, 'assures': 1160, 'assuring': 1161, 'at': 1162, 'ate': 1163, 'atmosphere': 1164, 'attach': 1165, 'attached': 1166, 'attack': 1167, 'attacks': 1168, 'attain': 1169, 'attains': 1170, 'attempted': 1171, 'attend': 1172, 'attendance': 1173, 'attended': 1174, 'attending': 1175, 'attention': 1176, 'attest': 1177, 'attorney': 1178, 'attract': 1179, 'attracted': 1180, 'attributes': 1181, 'attrition': 1182, 'audience': 1183, 'audiences': 1184, 'audio': 1185, 'audiovisual': 1186, 'audit': 1187, 'audited': 1188, 'auditing': 1189, 'authentic': 1190, 'author': 1191, 'authored': 1192, 'authorities': 1193, 'authority': 1194, 'authorization': 1195, 'authorized': 1196, 'authors': 1197, 'auto': 1198, 'autobiographies': 1199, 'autoclave': 1200, 'automate': 1201, 'automated': 1202, 'automatic': 1203, 'automatically': 1204, 'automation': 1205, 'automobile': 1206, 'automotive': 1207, 'autumn': 1208, 'auxiliary': 1209, 'avail': 1210, 'availability': 1211, 'available': 1212, 'availed': 1213, 'availing': 1214, 'avenue': 1215, 'average': 1216, 'avoid': 1217, 'await': 1218, 'awake': 1219, 'awarded': 1220, 'aware': 1221, 'awareness': 1222, 'away': 1223, 'awesome': 1224, 'ay': 1225, 'babies': 1226, 'baby': 1227, 'back': 1228, 'backdrops': 1229, 'backers': 1230, 'background': 1231, 'backgrounds': 1232, 'backhoe': 1233, 'backing': 1234, 'backlinks': 1235, 'backlog': 1236, 'backup': 1237, 'backward': 1238, 'backyard': 1239, 'bacteria': 1240, 'bad': 1241, 'baffling': 1242, 'baker': 1243, 'bakery': 1244, 'baking': 1245, 'balance': 1246, 'ball': 1247, 'ballpark': 1248, 'bamboo': 1249, 'ban': 1250, 'banana': 1251, 'banchan': 1252, 'band': 1253, 'bands': 1254, 'bandwidth': 1255, 'bank': 1256, 'banker': 1257, 'banking': 1258, 'bankruptcy': 1259, 'banks': 1260, 'banner': 1261, 'banners': 1262, 'banquet': 1263, 'bar': 1264, 'barbecue': 1265, 'barbeque': 1266, 'bare': 1267, 'barely': 1268, 'bargain': 1269, 'barrier': 1270, 'bars': 1271, 'base': 1272, 'based': 1273, 'basement': 1274, 'basic': 1275, 'basically': 1276, 'basics': 1277, 'basis': 1278, 'bass': 1279, 'batch': 1280, 'bath': 1281, 'bathhouses': 1282, 'bathroom': 1283, 'bathrooms': 1284, 'baths': 1285, 'bathtub': 1286, 'batteries': 1287, 'battery': 1288, 'battling': 1289, 'bay': 1290, 'be': 1291, 'beach': 1292, 'beaches': 1293, 'beachside': 1294, 'beakers': 1295, 'beam': 1296, 'bean': 1297, 'bear': 1298, 'bearer': 1299, 'bearing': 1300, 'beats': 1301, 'beautiful': 1302, 'beauty': 1303, 'became': 1304, 'because': 1305, 'become': 1306, 'becomes': 1307, 'becoming': 1308, 'bed': 1309, 'bedroom': 1310, 'bedrooms': 1311, 'beds': 1312, 'beef': 1313, 'been': 1314, 'beeps': 1315, 'beer': 1316, 'before': 1317, 'beforehand': 1318, 'beg': 1319, 'began': 1320, 'begging': 1321, 'begin': 1322, 'beginning': 1323, 'behalf': 1324, 'behavior': 1325, 'behind': 1326, 'being': 1327, 'believe': 1328, 'believes': 1329, 'belly': 1330, 'belongs': 1331, 'below': 1332, 'belts': 1333, 'benchtop': 1334, 'bending': 1335, 'beneficial': 1336, 'beneficiaries': 1337, 'benefit': 1338, 'benefits': 1339, 'bento': 1340, 'berthing': 1341, 'beside': 1342, 'besides': 1343, 'best': 1344, 'bet': 1345, 'beta': 1346, 'better': 1347, 'between': 1348, 'bevel': 1349, 'beverage': 1350, 'beverages': 1351, 'beyond': 1352, 'biannual': 1353, 'bibimbap': 1354, 'bibimnaengmyun': 1355, 'bid': 1356, 'bidding': 1357, 'big': 1358, 'bigger': 1359, 'biggest': 1360, 'bikes': 1361, 'bill': 1362, 'billboards': 1363, 'billed': 1364, 'billing': 1365, 'billion': 1366, 'bills': 1367, 'bins': 1368, 'biodata': 1369, 'biodegradable': 1370, 'biometrics': 1371, 'bird': 1372, 'birds': 1373, 'birthday': 1374, 'biryani': 1375, 'biscuits': 1376, 'bistro': 1377, 'bit': 1378, 'bitcoin': 1379, 'bite': 1380, 'black': 1381, 'blackout': 1382, 'blades': 1383, 'blanks': 1384, 'blending': 1385, 'blends': 1386, 'blessed': 1387, 'blind': 1388, 'blinking': 1389, 'bliss': 1390, 'block': 1391, 'blockchain': 1392, 'blog': 1393, 'blood': 1394, 'blow': 1395, 'blown': 1396, 'blue': 1397, 'blueprint': 1398, 'blurry': 1399, 'board': 1400, 'boarding': 1401, 'boards': 1402, 'boats': 1403, 'bodies': 1404, 'body': 1405, 'bodysuit': 1406, 'bohemian': 1407, 'boiled': 1408, 'boiling': 1409, 'bokkeum': 1410, 'bold': 1411, 'bolder': 1412, 'bond': 1413, 'bonding': 1414, 'bonds': 1415, 'book': 1416, 'booked': 1417, 'booking': 1418, 'bookings': 1419, 'bookrunners': 1420, 'books': 1421, 'bookstores': 1422, 'boom': 1423, 'boost': 1424, 'booting': 1425, 'boots': 1426, 'border': 1427, 'bore': 1428, 'bored': 1429, 'boring': 1430, 'born': 1431, 'borrow': 1432, 'borrower': 1433, 'borrowing': 1434, 'boss': 1435, 'bot': 1436, 'both': 1437, 'bothering': 1438, 'bottle': 1439, 'bottles': 1440, 'bottom': 1441, 'bought': 1442, 'bow': 1443, 'bowl': 1444, 'bowls': 1445, 'box': 1446, 'boxes': 1447, 'boy': 1448, 'bragging': 1449, 'braille': 1450, 'brainstorm': 1451, 'brake': 1452, 'branch': 1453, 'branches': 1454, 'brand': 1455, 'branded': 1456, 'branding': 1457, 'brands': 1458, 'brave': 1459, 'breach': 1460, 'breached': 1461, 'breaches': 1462, 'bread': 1463, 'break': 1464, 'breakdown': 1465, 'breakdowns': 1466, 'breakeven': 1467, 'breakfast': 1468, 'breast': 1469, 'breathing': 1470, 'breathtaking': 1471, 'breeding': 1472, 'breeze': 1473, 'brewed': 1474, 'bride': 1475, 'bridge': 1476, 'brief': 1477, 'briefing': 1478, 'brilliant': 1479, 'bring': 1480, 'bringer': 1481, 'bringing': 1482, 'brings': 1483, 'broadband': 1484, 'broadcast': 1485, 'broadcasted': 1486, 'broadcasting': 1487, 'brochure': 1488, 'brochures': 1489, 'broken': 1490, 'broker': 1491, 'brokerage': 1492, 'brokerages': 1493, 'brokers': 1494, 'bronze': 1495, 'broth': 1496, 'brother': 1497, 'brought': 1498, 'browse': 1499, 'browser': 1500, 'browsers': 1501, 'browsing': 1502, 'bubble': 1503, 'bucks': 1504, 'budget': 1505, 'buffet': 1506, 'bug': 1507, 'bugs': 1508, 'build': 1509, 'building': 1510, 'builds': 1511, 'built': 1512, 'bulgogi': 1513, 'bulk': 1514, 'bull': 1515, 'bulldozer': 1516, 'bunch': 1517, 'bundle': 1518, 'burners': 1519, 'bus': 1520, 'buses': 1521, 'business': 1522, 'businesses': 1523, 'businessman': 1524, 'businesswoman': 1525, 'busy': 1526, 'but': 1527, 'butterfly': 1528, 'button': 1529, 'buttons': 1530, 'buy': 1531, 'buyer': 1532, 'buyers': 1533, 'buying': 1534, 'by': 1535, 'bye': 1536, 'bytes': 1537, 'cabin': 1538, 'cabinets': 1539, 'cable': 1540, 'caching': 1541, 'caf': 1542, 'cafe': 1543, 'cafeteria': 1544, 'cake': 1545, 'calculate': 1546, 'calculated': 1547, 'calculations': 1548, 'calendar': 1549, 'call': 1550, 'called': 1551, 'calligraphy': 1552, 'calling': 1553, 'calls': 1554, 'calm': 1555, 'calming': 1556, 'cam': 1557, 'came': 1558, 'camera': 1559, 'cameras': 1560, 'camp': 1561, 'campaign': 1562, 'campaigns': 1563, 'camper': 1564, 'campfire': 1565, 'campground': 1566, 'camping': 1567, 'campsite': 1568, 'campsites': 1569, 'campus': 1570, 'can': 1571, 'cancel': 1572, 'cancelation': 1573, 'cancelations': 1574, 'canceled': 1575, 'canceling': 1576, 'cancellation': 1577, 'cancellations': 1578, 'cancelled': 1579, 'candies': 1580, 'candles': 1581, 'cannot': 1582, 'canteen': 1583, 'cap': 1584, 'capable': 1585, 'capacity': 1586, 'capital': 1587, 'capitalists': 1588, 'capture': 1589, 'capturing': 1590, 'car': 1591, 'carbon': 1592, 'carburetor': 1593, 'carburetors': 1594, 'card': 1595, 'cardiac': 1596, 'cards': 1597, 'care': 1598, 'career': 1599, 'careers': 1600, 'careful': 1601, 'carefully': 1602, 'cargo': 1603, 'carpeted': 1604, 'carried': 1605, 'carrier': 1606, 'carrot': 1607, 'carry': 1608, 'carrying': 1609, 'cars': 1610, 'cart': 1611, 'carton': 1612, 'cartoon': 1613, 'carts': 1614, 'case': 1615, 'cases': 1616, 'cash': 1617, 'cashier': 1618, 'cashless': 1619, 'casino': 1620, 'cast': 1621, 'casual': 1622, 'casualties': 1623, 'cat': 1624, 'catalog': 1625, 'catalogue': 1626, 'catastrophe': 1627, 'catch': 1628, 'categories': 1629, 'category': 1630, 'cater': 1631, 'caterers': 1632, 'catering': 1633, 'caterpillar': 1634, 'caught': 1635, 'cause': 1636, 'caused': 1637, 'causes': 1638, 'causing': 1639, 'cautious': 1640, 'cautiously': 1641, 'ceiling': 1642, 'ceilings': 1643, 'celebrate': 1644, 'celebration': 1645, 'celebrities': 1646, 'celebrity': 1647, 'celeriac': 1648, 'cell': 1649, 'center': 1650, 'centers': 1651, 'centimeter': 1652, 'centrifugal': 1653, 'centrifuge': 1654, 'centrifuges': 1655, 'cents': 1656, 'century': 1657, 'ceremonies': 1658, 'ceremony': 1659, 'certain': 1660, 'certainly': 1661, 'certificate': 1662, 'certificates': 1663, 'certification': 1664, 'certified': 1665, 'chain': 1666, 'chair': 1667, 'chairman': 1668, 'chairs': 1669, 'challenge': 1670, 'challenged': 1671, 'challenges': 1672, 'challenging': 1673, 'chamber': 1674, 'champagne': 1675, 'chance': 1676, 'chances': 1677, 'change': 1678, 'changed': 1679, 'changes': 1680, 'changing': 1681, 'channel': 1682, 'channels': 1683, 'chapbooks': 1684, 'characteristics': 1685, 'characters': 1686, 'charcoal': 1687, 'charge': 1688, 'charged': 1689, 'charger': 1690, 'charges': 1691, 'charging': 1692, 'charitable': 1693, 'charity': 1694, 'charm': 1695, 'chart': 1696, 'chasing': 1697, 'chat': 1698, 'chatroom': 1699, 'cheap': 1700, 'cheaper': 1701, 'cheapest': 1702, 'check': 1703, 'checked': 1704, 'checking': 1705, 'checklist': 1706, 'checkout': 1707, 'checks': 1708, 'checkup': 1709, 'cheerful': 1710, 'cheers': 1711, 'cheesecakes': 1712, 'chef': 1713, 'chefs': 1714, 'chemistry': 1715, 'cheque': 1716, 'chew': 1717, 'chicken': 1718, 'child': 1719, 'childhood': 1720, 'children': 1721, 'chili': 1722, 'chill': 1723, 'chilled': 1724, 'chimaek': 1725, 'chip': 1726, 'chips': 1727, 'chipsets': 1728, 'chitchat': 1729, 'chocolate': 1730, 'choice': 1731, 'choices': 1732, 'choose': 1733, 'choosing': 1734, 'chopstick': 1735, 'chopsticks': 1736, 'chores': 1737, 'chose': 1738, 'chosen': 1739, 'ciphertext': 1740, 'circuits': 1741, 'circulation': 1742, 'circumstance': 1743, 'circumstances': 1744, 'cities': 1745, 'citizen': 1746, 'citizens': 1747, 'citizenship': 1748, 'city': 1749, 'civil': 1750, 'claim': 1751, 'claiming': 1752, 'claims': 1753, 'clarify': 1754, 'clarifying': 1755, 'clarity': 1756, 'class': 1757, 'classes': 1758, 'classification': 1759, 'classmates': 1760, 'classroom': 1761, 'classrooms': 1762, 'clauses': 1763, 'clean': 1764, 'cleaner': 1765, 'cleaners': 1766, 'cleaning': 1767, 'cleansing': 1768, 'clear': 1769, 'clearance': 1770, 'cleared': 1771, 'clearer': 1772, 'clearly': 1773, 'clerk': 1774, 'clever': 1775, 'click': 1776, 'client': 1777, 'clientele': 1778, 'clients': 1779, 'climate': 1780, 'clinic': 1781, 'clinical': 1782, 'clip': 1783, 'clips': 1784, 'clock': 1785, 'clogged': 1786, 'close': 1787, 'closed': 1788, 'closely': 1789, 'closer': 1790, 'closes': 1791, 'closest': 1792, 'closet': 1793, 'closing': 1794, 'clothes': 1795, 'clothing': 1796, 'cloud': 1797, 'clouds': 1798, 'clubhouse': 1799, 'cluster': 1800, 'co': 1801, 'coach': 1802, 'coaches': 1803, 'coaching': 1804, 'coarrangers': 1805, 'coastal': 1806, 'cocks': 1807, 'cocktails': 1808, 'coconut': 1809, 'code': 1810, 'codebreaker': 1811, 'codes': 1812, 'coding': 1813, 'coffee': 1814, 'cogent': 1815, 'coins': 1816, 'cold': 1817, 'coliving': 1818, 'collaborate': 1819, 'collaborating': 1820, 'collaboration': 1821, 'collar': 1822, 'collateral': 1823, 'colleague': 1824, 'colleagues': 1825, 'collect': 1826, 'collectibles': 1827, 'collecting': 1828, 'collection': 1829, 'collective': 1830, 'collects': 1831, 'college': 1832, 'colleges': 1833, 'color': 1834, 'colored': 1835, 'colors': 1836, 'column': 1837, 'combination': 1838, 'combinations': 1839, 'combine': 1840, 'combustion': 1841, 'come': 1842, 'comes': 1843, 'comfort': 1844, 'comfortable': 1845, 'comfortably': 1846, 'coming': 1847, 'comm': 1848, 'commemorative': 1849, 'comment': 1850, 'comments': 1851, 'commerce': 1852, 'commercial': 1853, 'commission': 1854, 'commissioned': 1855, 'commissions': 1856, 'commit': 1857, 'commitment': 1858, 'commitments': 1859, 'committed': 1860, 'commodity': 1861, 'common': 1862, 'commonly': 1863, 'communal': 1864, 'communicate': 1865, 'communicated': 1866, 'communicating': 1867, 'communication': 1868, 'communications': 1869, 'communicative': 1870, 'communicator': 1871, 'communities': 1872, 'community': 1873, 'commuting': 1874, 'companies': 1875, 'company': 1876, 'compare': 1877, 'compared': 1878, 'comparison': 1879, 'compartments': 1880, 'compassionate': 1881, 'compatible': 1882, 'compelling': 1883, 'compensate': 1884, 'compensated': 1885, 'compensation': 1886, 'compete': 1887, 'competition': 1888, 'competitive': 1889, 'competitiveness': 1890, 'competitors': 1891, 'compiling': 1892, 'complain': 1893, 'complained': 1894, 'complaining': 1895, 'complaint': 1896, 'complaints': 1897, 'complete': 1898, 'completed': 1899, 'completely': 1900, 'completion': 1901, 'complex': 1902, 'compliance': 1903, 'complicated': 1904, 'complied': 1905, 'compliment': 1906, 'complimentary': 1907, 'compliments': 1908, 'comply': 1909, 'component': 1910, 'components': 1911, 'composed': 1912, 'composer': 1913, 'compound': 1914, 'comprehension': 1915, 'comprehensive': 1916, 'compressed': 1917, 'compression': 1918, 'compressor': 1919, 'compressors': 1920, 'compromise': 1921, 'compromising': 1922, 'computer': 1923, 'computers': 1924, 'computing': 1925, 'concentrate': 1926, 'concept': 1927, 'concepts': 1928, 'conceptual': 1929, 'concern': 1930, 'concerned': 1931, 'concerning': 1932, 'concerns': 1933, 'concert': 1934, 'concerts': 1935, 'concessions': 1936, 'conclusion': 1937, 'concrete': 1938, 'concretely': 1939, 'condenser': 1940, 'condiments': 1941, 'condition': 1942, 'conditioned': 1943, 'conditioner': 1944, 'conditioning': 1945, 'conditions': 1946, 'condo': 1947, 'conduct': 1948, 'conducted': 1949, 'conducting': 1950, 'conductors': 1951, 'conference': 1952, 'conferences': 1953, 'conferencing': 1954, 'confidence': 1955, 'confident': 1956, 'confidential': 1957, 'confidentiality': 1958, 'configurations': 1959, 'configure': 1960, 'confirm': 1961, 'confirmation': 1962, 'confirmed': 1963, 'confirming': 1964, 'confused': 1965, 'congested': 1966, 'congestion': 1967, 'congrats': 1968, 'congratulate': 1969, 'congratulations': 1970, 'connect': 1971, 'connected': 1972, 'connecting': 1973, 'connection': 1974, 'connections': 1975, 'connectivity': 1976, 'connects': 1977, 'cons': 1978, 'conscientious': 1979, 'conscious': 1980, 'consciousness': 1981, 'consequences': 1982, 'consider': 1983, 'considerable': 1984, 'consideration': 1985, 'considered': 1986, 'considering': 1987, 'consignment': 1988, 'consist': 1989, 'consistent': 1990, 'consists': 1991, 'consoles': 1992, 'consolidate': 1993, 'constant': 1994, 'constantly': 1995, 'construct': 1996, 'constructed': 1997, 'construction': 1998, 'constructive': 1999, 'consult': 2000, 'consultancy': 2001, 'consultant': 2002, 'consultants': 2003, 'consultation': 2004, 'consulted': 2005, 'consulting': 2006, 'consume': 2007, 'consumers': 2008, 'consuming': 2009, 'consumption': 2010, 'contact': 2011, 'contacted': 2012, 'contacting': 2013, 'contacts': 2014, 'contain': 2015, 'container': 2016, 'containers': 2017, 'containing': 2018, 'contains': 2019, 'contemplate': 2020, 'contemporary': 2021, 'contenders': 2022, 'content': 2023, 'contents': 2024, 'context': 2025, 'continent': 2026, 'continental': 2027, 'continue': 2028, 'continuous': 2029, 'continuously': 2030, 'contract': 2031, 'contracted': 2032, 'contracts': 2033, 'contrary': 2034, 'contribute': 2035, 'contributed': 2036, 'contributes': 2037, 'contribution': 2038, 'contributors': 2039, 'control': 2040, 'controlled': 2041, 'controversial': 2042, 'convenience': 2043, 'convenient': 2044, 'conventional': 2045, 'conversation': 2046, 'conversational': 2047, 'conversations': 2048, 'conversion': 2049, 'conversions': 2050, 'converted': 2051, 'converting': 2052, 'convey': 2053, 'conveyor': 2054, 'conveyors': 2055, 'convince': 2056, 'convincing': 2057, 'cook': 2058, 'cooked': 2059, 'cookies': 2060, 'cooking': 2061, 'cooks': 2062, 'cool': 2063, 'cooldown': 2064, 'coolers': 2065, 'cooling': 2066, 'cooperation': 2067, 'cooperative': 2068, 'cooperatives': 2069, 'coordinate': 2070, 'coordinates': 2071, 'copay': 2072, 'copiers': 2073, 'copies': 2074, 'copy': 2075, 'copyediting': 2076, 'copyright': 2077, 'copyrighted': 2078, 'copyrights': 2079, 'cords': 2080, 'core': 2081, 'corkage': 2082, 'corn': 2083, 'corner': 2084, 'coronavirus': 2085, 'corporate': 2086, 'corporation': 2087, 'corporations': 2088, 'correct': 2089, 'correctly': 2090, 'cosigner': 2091, 'cosmetic': 2092, 'cosmetics': 2093, 'cosmic': 2094, 'cost': 2095, 'costs': 2096, 'cotton': 2097, 'could': 2098, 'couldn': 2099, 'council': 2100, 'counseling': 2101, 'count': 2102, 'countdown': 2103, 'counterpart': 2104, 'counting': 2105, 'countries': 2106, 'country': 2107, 'countryside': 2108, 'couple': 2109, 'coupled': 2110, 'coupon': 2111, 'courier': 2112, 'course': 2113, 'coursed': 2114, 'courses': 2115, 'court': 2116, 'cousin': 2117, 'cover': 2118, 'coverage': 2119, 'covered': 2120, 'covers': 2121, 'cozy': 2122, 'crab': 2123, 'cracks': 2124, 'crane': 2125, 'cranes': 2126, 'crash': 2127, 'crashed': 2128, 'crashing': 2129, 'cream': 2130, 'create': 2131, 'created': 2132, 'creates': 2133, 'creating': 2134, 'creation': 2135, 'creative': 2136, 'creatives': 2137, 'creator': 2138, 'creators': 2139, 'credentials': 2140, 'credit': 2141, 'credited': 2142, 'creditor': 2143, 'creditors': 2144, 'credits': 2145, 'creditworthy': 2146, 'crib': 2147, 'crime': 2148, 'crimes': 2149, 'criminals': 2150, 'criteria': 2151, 'critical': 2152, 'critics': 2153, 'croissants': 2154, 'crooks': 2155, 'crop': 2156, 'crops': 2157, 'cross': 2158, 'crossed': 2159, 'crowd': 2160, 'crowdfunding': 2161, 'crucial': 2162, 'crude': 2163, 'crux': 2164, 'crypto': 2165, 'cryptocurrencies': 2166, 'cryptocurrency': 2167, 'cryptography': 2168, 'cues': 2169, 'cuisine': 2170, 'culinary': 2171, 'culprits': 2172, 'cultivating': 2173, 'cultural': 2174, 'culture': 2175, 'cumbersome': 2176, 'cup': 2177, 'curious': 2178, 'currencies': 2179, 'currency': 2180, 'current': 2181, 'currently': 2182, 'cursive': 2183, 'curtains': 2184, 'curve': 2185, 'cushion': 2186, 'custom': 2187, 'customer': 2188, 'customers': 2189, 'customizable': 2190, 'customization': 2191, 'customize': 2192, 'customized': 2193, 'customs': 2194, 'cut': 2195, 'cutlery': 2196, 'cuts': 2197, 'cutter': 2198, 'cutters': 2199, 'cutting': 2200, 'cyber': 2201, 'cybercrime': 2202, 'cybersecurity': 2203, 'cycle': 2204, 'cylinder': 2205, 'cylinders': 2206, 'd': 2207, 'daily': 2208, 'dairy': 2209, 'damage': 2210, 'damaged': 2211, 'damages': 2212, 'dancing': 2213, 'dangerous': 2214, 'dangers': 2215, 'dark': 2216, 'data': 2217, 'database': 2218, 'date': 2219, 'dated': 2220, 'dates': 2221, 'dating': 2222, 'daunting': 2223, 'day': 2224, 'days': 2225, 'deadline': 2226, 'deadlines': 2227, 'deaf': 2228, 'deal': 2229, 'dealer': 2230, 'dealers': 2231, 'dealership': 2232, 'dealing': 2233, 'deals': 2234, 'debit': 2235, 'debt': 2236, 'debtee': 2237, 'debtor': 2238, 'debtors': 2239, 'debts': 2240, 'debut': 2241, 'decade': 2242, 'decades': 2243, 'decent': 2244, 'decide': 2245, 'decided': 2246, 'decides': 2247, 'deciding': 2248, 'decision': 2249, 'decisions': 2250, 'deck': 2251, 'decks': 2252, 'declare': 2253, 'decline': 2254, 'declined': 2255, 'declining': 2256, 'decode': 2257, 'decorate': 2258, 'decorations': 2259, 'decrease': 2260, 'decryption': 2261, 'dedicate': 2262, 'dedicated': 2263, 'deduct': 2264, 'deducted': 2265, 'deducting': 2266, 'deeds': 2267, 'deep': 2268, 'deeply': 2269, 'default': 2270, 'defaulter': 2271, 'defect': 2272, 'defective': 2273, 'defects': 2274, 'defense': 2275, 'deficit': 2276, 'deficits': 2277, 'defined': 2278, 'definite': 2279, 'definitely': 2280, 'definition': 2281, 'degree': 2282, 'dehydration': 2283, 'delay': 2284, 'delayed': 2285, 'delays': 2286, 'delegates': 2287, 'delete': 2288, 'deleted': 2289, 'delicious': 2290, 'delight': 2291, 'delighted': 2292, 'delightful': 2293, 'delineates': 2294, 'deliver': 2295, 'delivered': 2296, 'deliveries': 2297, 'delivering': 2298, 'delivers': 2299, 'delivery': 2300, 'deluxe': 2301, 'demand': 2302, 'demanded': 2303, 'demanding': 2304, 'demands': 2305, 'demat': 2306, 'demerits': 2307, 'demographics': 2308, 'demonstration': 2309, 'demos': 2310, 'dental': 2311, 'deny': 2312, 'department': 2313, 'departments': 2314, 'depend': 2315, 'dependable': 2316, 'dependents': 2317, 'depending': 2318, 'depends': 2319, 'deploy': 2320, 'deployment': 2321, 'deposit': 2322, 'deposited': 2323, 'depositing': 2324, 'deposits': 2325, 'derrick': 2326, 'describe': 2327, 'description': 2328, 'descriptions': 2329, 'deserve': 2330, 'design': 2331, 'designation': 2332, 'designed': 2333, 'designer': 2334, 'designers': 2335, 'designs': 2336, 'desire': 2337, 'desired': 2338, 'desk': 2339, 'desktop': 2340, 'desperately': 2341, 'despite': 2342, 'dessert': 2343, 'desserts': 2344, 'destination': 2345, 'destinations': 2346, 'destroys': 2347, 'detail': 2348, 'detailed': 2349, 'detailing': 2350, 'details': 2351, 'detected': 2352, 'detects': 2353, 'determine': 2354, 'determined': 2355, 'determines': 2356, 'determining': 2357, 'develop': 2358, 'developed': 2359, 'developer': 2360, 'developers': 2361, 'developing': 2362, 'development': 2363, 'developments': 2364, 'develops': 2365, 'deviate': 2366, 'device': 2367, 'devices': 2368, 'devoted': 2369, 'devoting': 2370, 'diagnosis': 2371, 'diagnostics': 2372, 'dial': 2373, 'dialed': 2374, 'diameter': 2375, 'did': 2376, 'didn': 2377, 'diesel': 2378, 'diet': 2379, 'dietary': 2380, 'differ': 2381, 'difference': 2382, 'differences': 2383, 'different': 2384, 'differentiates': 2385, 'differently': 2386, 'difficult': 2387, 'difficulties': 2388, 'difficulty': 2389, 'digital': 2390, 'digitalize': 2391, 'digits': 2392, 'diligence': 2393, 'diligently': 2394, 'dimension': 2395, 'dimensions': 2396, 'dine': 2397, 'dining': 2398, 'dinner': 2399, 'dinning': 2400, 'dip': 2401, 'diplomas': 2402, 'dipped': 2403, 'direct': 2404, 'directed': 2405, 'direction': 2406, 'directly': 2407, 'director': 2408, 'directors': 2409, 'disabilities': 2410, 'disabled': 2411, 'disagree': 2412, 'disappointed': 2413, 'disappointment': 2414, 'disaster': 2415, 'disasters': 2416, 'disc': 2417, 'discount': 2418, 'discounted': 2419, 'discounts': 2420, 'discover': 2421, 'discovered': 2422, 'discovery': 2423, 'discrepancies': 2424, 'discuss': 2425, 'discussed': 2426, 'discussing': 2427, 'discussion': 2428, 'discussions': 2429, 'disease': 2430, 'diseases': 2431, 'dish': 2432, 'dishe': 2433, 'dishes': 2434, 'dismantle': 2435, 'dispatch': 2436, 'dispatched': 2437, 'dispatching': 2438, 'dispersing': 2439, 'display': 2440, 'displayed': 2441, 'displaying': 2442, 'disposal': 2443, 'disputes': 2444, 'disruption': 2445, 'distance': 2446, 'distinct': 2447, 'distinction': 2448, 'distinguish': 2449, 'distract': 2450, 'distress': 2451, 'distribute': 2452, 'distributed': 2453, 'distributing': 2454, 'distribution': 2455, 'distributor': 2456, 'distributorship': 2457, 'district': 2458, 'disturb': 2459, 'disturbed': 2460, 'disturbing': 2461, 'diverse': 2462, 'diversify': 2463, 'diversity': 2464, 'diverting': 2465, 'divide': 2466, 'divided': 2467, 'dividend': 2468, 'division': 2469, 'do': 2470, 'doable': 2471, 'doctor': 2472, 'doctors': 2473, 'document': 2474, 'documentaries': 2475, 'documentary': 2476, 'documentation': 2477, 'documenting': 2478, 'documents': 2479, 'does': 2480, 'doesn': 2481, 'dog': 2482, 'dogs': 2483, 'doing': 2484, 'doings': 2485, 'doljanchi': 2486, 'dollar': 2487, 'dollars': 2488, 'domain': 2489, 'dome': 2490, 'domestic': 2491, 'don': 2492, 'donate': 2493, 'donation': 2494, 'donations': 2495, 'done': 2496, 'donut': 2497, 'door': 2498, 'doors': 2499, 'dorm': 2500, 'dormitory': 2501, 'dosirak': 2502, 'double': 2503, 'doubled': 2504, 'doubt': 2505, 'doubts': 2506, 'down': 2507, 'downhill': 2508, 'download': 2509, 'downloaded': 2510, 'downpayment': 2511, 'downs': 2512, 'downside': 2513, 'downtown': 2514, 'downturn': 2515, 'dozers': 2516, 'draft': 2517, 'drafted': 2518, 'drafting': 2519, 'drafts': 2520, 'drain': 2521, 'dramas': 2522, 'dramatically': 2523, 'draw': 2524, 'drawer': 2525, 'drawing': 2526, 'drawings': 2527, 'draws': 2528, 'dress': 2529, 'dressers': 2530, 'dressing': 2531, 'drilling': 2532, 'drink': 2533, 'drinking': 2534, 'drinks': 2535, 'drive': 2536, 'driven': 2537, 'driver': 2538, 'drivers': 2539, 'driving': 2540, 'drop': 2541, 'dropped': 2542, 'dropping': 2543, 'drops': 2544, 'drug': 2545, 'drum': 2546, 'dry': 2547, 'dryer': 2548, 'dual': 2549, 'dude': 2550, 'due': 2551, 'duly': 2552, 'dump': 2553, 'dumpling': 2554, 'duplicate': 2555, 'durable': 2556, 'duration': 2557, 'during': 2558, 'dust': 2559, 'duties': 2560, 'duty': 2561, 'dyeing': 2562, 'dying': 2563, 'e': 2564, 'each': 2565, 'eager': 2566, 'eagerly': 2567, 'earlier': 2568, 'earliest': 2569, 'early': 2570, 'earn': 2571, 'earnings': 2572, 'ears': 2573, 'earth': 2574, 'ease': 2575, 'eased': 2576, 'easier': 2577, 'easiest': 2578, 'easily': 2579, 'easing': 2580, 'easy': 2581, 'eat': 2582, 'eaten': 2583, 'eating': 2584, 'echo': 2585, 'eclectic': 2586, 'eco': 2587, 'economy': 2588, 'ecstatic': 2589, 'edge': 2590, 'edit': 2591, 'edited': 2592, 'editing': 2593, 'edition': 2594, 'editorial': 2595, 'editors': 2596, 'educate': 2597, 'educated': 2598, 'educating': 2599, 'education': 2600, 'educational': 2601, 'edutainment': 2602, 'effect': 2603, 'effective': 2604, 'effectively': 2605, 'effectiveness': 2606, 'effects': 2607, 'efficiency': 2608, 'efficient': 2609, 'efficiently': 2610, 'effort': 2611, 'efforts': 2612, 'egg': 2613, 'eggs': 2614, 'eight': 2615, 'either': 2616, 'ejection': 2617, 'elaborate': 2618, 'elder': 2619, 'elders': 2620, 'eldest': 2621, 'electric': 2622, 'electrical': 2623, 'electricity': 2624, 'electro': 2625, 'electroencephalography': 2626, 'electromagnetic': 2627, 'electronic': 2628, 'electronically': 2629, 'electronics': 2630, 'elegant': 2631, 'element': 2632, 'elements': 2633, 'elevated': 2634, 'eligibility': 2635, 'eligible': 2636, 'eliminate': 2637, 'elliptical': 2638, 'else': 2639, 'elsewhere': 2640, 'email': 2641, 'emailed': 2642, 'emailing': 2643, 'emails': 2644, 'embarrassed': 2645, 'embody': 2646, 'embossing': 2647, 'embroidery': 2648, 'emergencies': 2649, 'emergency': 2650, 'emerging': 2651, 'emotions': 2652, 'emphasis': 2653, 'employ': 2654, 'employed': 2655, 'employee': 2656, 'employees': 2657, 'employers': 2658, 'employing': 2659, 'empty': 2660, 'emulsion': 2661, 'enable': 2662, 'enabled': 2663, 'enables': 2664, 'encapsulation': 2665, 'encoded': 2666, 'encounter': 2667, 'encountered': 2668, 'encourage': 2669, 'encourages': 2670, 'encrypt': 2671, 'encrypted': 2672, 'encryption': 2673, 'end': 2674, 'endangering': 2675, 'ended': 2676, 'ending': 2677, 'ends': 2678, 'energy': 2679, 'enforce': 2680, 'enforced': 2681, 'enforcements': 2682, 'engage': 2683, 'engaged': 2684, 'engagements': 2685, 'engaging': 2686, 'engine': 2687, 'engineer': 2688, 'engineering': 2689, 'engineers': 2690, 'engines': 2691, 'enhance': 2692, 'enhanced': 2693, 'enhancement': 2694, 'enhances': 2695, 'enjoy': 2696, 'enjoyed': 2697, 'enjoying': 2698, 'enlighten': 2699, 'enlist': 2700, 'enormously': 2701, 'enough': 2702, 'enquire': 2703, 'enroll': 2704, 'enrolled': 2705, 'ensure': 2706, 'ensured': 2707, 'ensures': 2708, 'entail': 2709, 'enter': 2710, 'entered': 2711, 'entering': 2712, 'enterprise': 2713, 'enterprises': 2714, 'enters': 2715, 'entertain': 2716, 'entertained': 2717, 'entertaining': 2718, 'entertainment': 2719, 'entire': 2720, 'entirely': 2721, 'entitled': 2722, 'entity': 2723, 'entrance': 2724, 'entree': 2725, 'entrees': 2726, 'entrepreneur': 2727, 'entrepreneurship': 2728, 'entries': 2729, 'environment': 2730, 'environmental': 2731, 'environments': 2732, 'episode': 2733, 'episodes': 2734, 'equal': 2735, 'equals': 2736, 'equipment': 2737, 'equipments': 2738, 'equipped': 2739, 'equity': 2740, 'equivalent': 2741, 'erased': 2742, 'erecting': 2743, 'error': 2744, 'errors': 2745, 'escalated': 2746, 'escaping': 2747, 'especially': 2748, 'essential': 2749, 'essentially': 2750, 'establish': 2751, 'established': 2752, 'establishing': 2753, 'establishment': 2754, 'establishments': 2755, 'estate': 2756, 'estimate': 2757, 'estimated': 2758, 'estimates': 2759, 'etc': 2760, 'ethical': 2761, 'etiquette': 2762, 'evacuation': 2763, 'evading': 2764, 'evaluate': 2765, 'evaluated': 2766, 'evaluating': 2767, 'evaluation': 2768, 'evaporator': 2769, 'evasion': 2770, 'even': 2771, 'evening': 2772, 'event': 2773, 'events': 2774, 'eventuality': 2775, 'eventually': 2776, 'ever': 2777, 'every': 2778, 'everyday': 2779, 'everyone': 2780, 'everything': 2781, 'evidence': 2782, 'evidentiary': 2783, 'evil': 2784, 'evolution': 2785, 'evolved': 2786, 'evolving': 2787, 'exact': 2788, 'exactly': 2789, 'exam': 2790, 'examined': 2791, 'example': 2792, 'examples': 2793, 'exams': 2794, 'excavator': 2795, 'excavators': 2796, 'exceeded': 2797, 'exceeds': 2798, 'excellent': 2799, 'except': 2800, 'exceptional': 2801, 'excess': 2802, 'exchange': 2803, 'exchanges': 2804, 'exchanging': 2805, 'excited': 2806, 'exciting': 2807, 'exclude': 2808, 'excluding': 2809, 'exclusive': 2810, 'exclusively': 2811, 'excuse': 2812, 'excused': 2813, 'excuses': 2814, 'execute': 2815, 'executes': 2816, 'execution': 2817, 'executive': 2818, 'executives': 2819, 'executor': 2820, 'exerting': 2821, 'exhausted': 2822, 'exhibit': 2823, 'exhibition': 2824, 'exihibit': 2825, 'exist': 2826, 'existing': 2827, 'exit': 2828, 'exotic': 2829, 'expand': 2830, 'expandable': 2831, 'expanded': 2832, 'expanding': 2833, 'expansion': 2834, 'expat': 2835, 'expect': 2836, 'expectations': 2837, 'expected': 2838, 'expecting': 2839, 'expedition': 2840, 'expenditure': 2841, 'expenditures': 2842, 'expense': 2843, 'expenses': 2844, 'expensive': 2845, 'experience': 2846, 'experienced': 2847, 'experiences': 2848, 'experiencing': 2849, 'experimental': 2850, 'expert': 2851, 'expertise': 2852, 'experts': 2853, 'expire': 2854, 'expires': 2855, 'explain': 2856, 'explained': 2857, 'explaining': 2858, 'explains': 2859, 'explanation': 2860, 'explanations': 2861, 'exploration': 2862, 'explore': 2863, 'expo': 2864, 'export': 2865, 'exported': 2866, 'exporter': 2867, 'exporting': 2868, 'exports': 2869, 'exposes': 2870, 'exposure': 2871, 'express': 2872, 'expressions': 2873, 'exquisite': 2874, 'extend': 2875, 'extended': 2876, 'extender': 2877, 'extenders': 2878, 'extending': 2879, 'extends': 2880, 'extension': 2881, 'extensive': 2882, 'exterior': 2883, 'external': 2884, 'externally': 2885, 'extra': 2886, 'extract': 2887, 'extraction': 2888, 'extracts': 2889, 'extremely': 2890, 'extruder': 2891, 'extruders': 2892, 'eye': 2893, 'eyes': 2894, 'fabric': 2895, 'fabrication': 2896, 'face': 2897, 'faced': 2898, 'faces': 2899, 'facial': 2900, 'facilitate': 2901, 'facilities': 2902, 'facility': 2903, 'facing': 2904, 'fact': 2905, 'factor': 2906, 'factors': 2907, 'factory': 2908, 'factual': 2909, 'factually': 2910, 'faculty': 2911, 'fail': 2912, 'failed': 2913, 'fails': 2914, 'failure': 2915, 'fair': 2916, 'fairly': 2917, 'fall': 2918, 'fallen': 2919, 'falling': 2920, 'fallout': 2921, 'falls': 2922, 'familiar': 2923, 'families': 2924, 'family': 2925, 'famous': 2926, 'fan': 2927, 'fanbase': 2928, 'fancy': 2929, 'fans': 2930, 'fantastic': 2931, 'far': 2932, 'fare': 2933, 'farm': 2934, 'farmers': 2935, 'farthest': 2936, 'fascinating': 2937, 'fashion': 2938, 'fast': 2939, 'fasteners': 2940, 'faster': 2941, 'fastest': 2942, 'fat': 2943, 'father': 2944, 'fault': 2945, 'faulty': 2946, 'favor': 2947, 'favorable': 2948, 'favorite': 2949, 'favorites': 2950, 'favoritism': 2951, 'fax': 2952, 'fear': 2953, 'feasibility': 2954, 'feasible': 2955, 'feature': 2956, 'featured': 2957, 'features': 2958, 'featuring': 2959, 'fee': 2960, 'feeble': 2961, 'feedback': 2962, 'feel': 2963, 'feeling': 2964, 'feelings': 2965, 'feels': 2966, 'fees': 2967, 'feet': 2968, 'fellow': 2969, 'female': 2970, 'fertilizing': 2971, 'fetch': 2972, 'few': 2973, 'fiat': 2974, 'fiber': 2975, 'fibers': 2976, 'fibrous': 2977, 'fiction': 2978, 'field': 2979, 'fields': 2980, 'figurative': 2981, 'figures': 2982, 'file': 2983, 'filed': 2984, 'files': 2985, 'filing': 2986, 'fill': 2987, 'filled': 2988, 'filling': 2989, 'fills': 2990, 'film': 2991, 'films': 2992, 'filter': 2993, 'filtered': 2994, 'filters': 2995, 'filtration': 2996, 'final': 2997, 'finalize': 2998, 'finalized': 2999, 'finalizing': 3000, 'finally': 3001, 'finance': 3002, 'financed': 3003, 'financer': 3004, 'finances': 3005, 'financial': 3006, 'financially': 3007, 'financiers': 3008, 'financing': 3009, 'find': 3010, 'finding': 3011, 'finds': 3012, 'fine': 3013, 'finer': 3014, 'finest': 3015, 'fingerprint': 3016, 'finish': 3017, 'finished': 3018, 'fire': 3019, 'fired': 3020, 'fireplace': 3021, 'firewall': 3022, 'firewalls': 3023, 'firm': 3024, 'firms': 3025, 'first': 3026, 'fish': 3027, 'fit': 3028, 'fitness': 3029, 'fits': 3030, 'five': 3031, 'fiver': 3032, 'fix': 3033, 'fixed': 3034, 'flag': 3035, 'flame': 3036, 'flanged': 3037, 'flare': 3038, 'flash': 3039, 'flat': 3040, 'flatmates': 3041, 'flatten': 3042, 'flavor': 3043, 'flavored': 3044, 'flavorful': 3045, 'flavors': 3046, 'flew': 3047, 'flexibility': 3048, 'flexible': 3049, 'flight': 3050, 'flights': 3051, 'flip': 3052, 'float': 3053, 'floating': 3054, 'floor': 3055, 'floors': 3056, 'flour': 3057, 'flowchart': 3058, 'flows': 3059, 'fluctuate': 3060, 'fluctuations': 3061, 'fly': 3062, 'flying': 3063, 'flywheel': 3064, 'fo': 3065, 'foam': 3066, 'focus': 3067, 'focused': 3068, 'focuses': 3069, 'focusing': 3070, 'fold': 3071, 'folder': 3072, 'folders': 3073, 'follow': 3074, 'followed': 3075, 'followers': 3076, 'following': 3077, 'follows': 3078, 'font': 3079, 'fonts': 3080, 'food': 3081, 'foods': 3082, 'fooled': 3083, 'foot': 3084, 'footage': 3085, 'footprint': 3086, 'footsteps': 3087, 'for': 3088, 'forbidden': 3089, 'forced': 3090, 'forecast': 3091, 'forecasted': 3092, 'foreign': 3093, 'foreigner': 3094, 'foreigners': 3095, 'forever': 3096, 'forget': 3097, 'forgot': 3098, 'forklift': 3099, 'forklifts': 3100, 'form': 3101, 'formal': 3102, 'formalities': 3103, 'format': 3104, 'former': 3105, 'forms': 3106, 'formula': 3107, 'forths': 3108, 'fortunate': 3109, 'forward': 3110, 'forwarded': 3111, 'forwarder': 3112, 'found': 3113, 'foundation': 3114, 'founders': 3115, 'four': 3116, 'frame': 3117, 'frames': 3118, 'framework': 3119, 'franchise': 3120, 'fraud': 3121, 'fraudulent': 3122, 'free': 3123, 'freebie': 3124, 'freelancer': 3125, 'freight': 3126, 'frequency': 3127, 'frequent': 3128, 'frequently': 3129, 'fresh': 3130, 'freshwater': 3131, 'fried': 3132, 'friend': 3133, 'friendly': 3134, 'friends': 3135, 'from': 3136, 'front': 3137, 'frugal': 3138, 'fruit': 3139, 'fruitful': 3140, 'fruity': 3141, 'frustrating': 3142, 'fuel': 3143, 'fulfill': 3144, 'fulfilled': 3145, 'fulfilling': 3146, 'full': 3147, 'fully': 3148, 'fun': 3149, 'function': 3150, 'functional': 3151, 'functioning': 3152, 'functions': 3153, 'fund': 3154, 'fundamental': 3155, 'fundamentals': 3156, 'funded': 3157, 'funding': 3158, 'fundraisers': 3159, 'fundraising': 3160, 'funds': 3161, 'fungible': 3162, 'funny': 3163, 'furnish': 3164, 'furnished': 3165, 'furnishings': 3166, 'furniture': 3167, 'further': 3168, 'fusion': 3169, 'fuss': 3170, 'future': 3171, 'futures': 3172, 'futuristic': 3173, 'g': 3174, 'gadgets': 3175, 'gain': 3176, 'gained': 3177, 'gaining': 3178, 'gains': 3179, 'galbi': 3180, 'game': 3181, 'games': 3182, 'gaming': 3183, 'gap': 3184, 'gaps': 3185, 'garage': 3186, 'garden': 3187, 'gardening': 3188, 'gardens': 3189, 'garlic': 3190, 'garments': 3191, 'garnering': 3192, 'gas': 3193, 'gasoline': 3194, 'gate': 3195, 'gates': 3196, 'gather': 3197, 'gathered': 3198, 'gathering': 3199, 'gathers': 3200, 'gauge': 3201, 'gave': 3202, 'gazebo': 3203, 'gear': 3204, 'geared': 3205, 'gears': 3206, 'general': 3207, 'generally': 3208, 'generate': 3209, 'generated': 3210, 'generating': 3211, 'generation': 3212, 'generations': 3213, 'generic': 3214, 'generous': 3215, 'genre': 3216, 'genres': 3217, 'gentle': 3218, 'gentlemen': 3219, 'genuinely': 3220, 'geographic': 3221, 'geography': 3222, 'gesture': 3223, 'get': 3224, 'gets': 3225, 'getting': 3226, 'gift': 3227, 'gifts': 3228, 'gigabyte': 3229, 'gigabytes': 3230, 'gimbap': 3231, 'ginger': 3232, 'ginseng': 3233, 'girl': 3234, 'girls': 3235, 'give': 3236, 'giveaways': 3237, 'given': 3238, 'gives': 3239, 'giving': 3240, 'glad': 3241, 'gladly': 3242, 'glance': 3243, 'glass': 3244, 'glasses': 3245, 'glitch': 3246, 'global': 3247, 'globally': 3248, 'globe': 3249, 'glossy': 3250, 'gloves': 3251, 'gluten': 3252, 'go': 3253, 'goal': 3254, 'goals': 3255, 'goes': 3256, 'going': 3257, 'gold': 3258, 'golf': 3259, 'gone': 3260, 'gonna': 3261, 'good': 3262, 'goodbye': 3263, 'goods': 3264, 'goodwill': 3265, 'gorgeous': 3266, 'got': 3267, 'gotten': 3268, 'governance': 3269, 'government': 3270, 'grab': 3271, 'grace': 3272, 'grade': 3273, 'gradual': 3274, 'gradually': 3275, 'graduates': 3276, 'grain': 3277, 'grains': 3278, 'grammable': 3279, 'grand': 3280, 'grandkids': 3281, 'grandmother': 3282, 'grant': 3283, 'granted': 3284, 'granting': 3285, 'graph': 3286, 'graphic': 3287, 'graphics': 3288, 'grass': 3289, 'grateful': 3290, 'gravity': 3291, 'gravlax': 3292, 'great': 3293, 'greater': 3294, 'greatly': 3295, 'green': 3296, 'greens': 3297, 'greet': 3298, 'greeting': 3299, 'greetings': 3300, 'grew': 3301, 'grid': 3302, 'grill': 3303, 'grilled': 3304, 'grills': 3305, 'grinder': 3306, 'gripping': 3307, 'groom': 3308, 'ground': 3309, 'groundbreaking': 3310, 'grounds': 3311, 'group': 3312, 'groups': 3313, 'grow': 3314, 'growing': 3315, 'growth': 3316, 'guarantee': 3317, 'guaranteed': 3318, 'guarantor': 3319, 'guess': 3320, 'guest': 3321, 'guesthouses': 3322, 'guests': 3323, 'guidance': 3324, 'guide': 3325, 'guided': 3326, 'guides': 3327, 'guilty': 3328, 'guitar': 3329, 'gun': 3330, 'gunfire': 3331, 'gut': 3332, 'guy': 3333, 'guys': 3334, 'gym': 3335, 'gyms': 3336, 'hack': 3337, 'hacked': 3338, 'hacking': 3339, 'had': 3340, 'hairdryer': 3341, 'half': 3342, 'hall': 3343, 'halls': 3344, 'halting': 3345, 'hand': 3346, 'handed': 3347, 'handheld': 3348, 'handiwork': 3349, 'handle': 3350, 'handled': 3351, 'handles': 3352, 'handling': 3353, 'handouts': 3354, 'handpicked': 3355, 'hands': 3356, 'handshake': 3357, 'hanging': 3358, 'hanji': 3359, 'hanok': 3360, 'happen': 3361, 'happened': 3362, 'happening': 3363, 'happens': 3364, 'happily': 3365, 'happy': 3366, 'hard': 3367, 'harder': 3368, 'hardware': 3369, 'hardworking': 3370, 'harmful': 3371, 'harmony': 3372, 'harshest': 3373, 'harvesting': 3374, 'has': 3375, 'hasn': 3376, 'hassle': 3377, 'hat': 3378, 'hate': 3379, 'have': 3380, 'haven': 3381, 'having': 3382, 'he': 3383, 'head': 3384, 'headhunters': 3385, 'heading': 3386, 'headquarters': 3387, 'heads': 3388, 'health': 3389, 'healthy': 3390, 'hear': 3391, 'heard': 3392, 'hearing': 3393, 'hearsay': 3394, 'heart': 3395, 'heartily': 3396, 'heat': 3397, 'heated': 3398, 'heater': 3399, 'heating': 3400, 'heavier': 3401, 'heavily': 3402, 'heavy': 3403, 'hedge': 3404, 'height': 3405, 'held': 3406, 'hello': 3407, 'help': 3408, 'helped': 3409, 'helpful': 3410, 'helping': 3411, 'helps': 3412, 'hence': 3413, 'her': 3414, 'herbal': 3415, 'here': 3416, 'hereditary': 3417, 'heritage': 3418, 'hesitate': 3419, 'hidden': 3420, 'high': 3421, 'higher': 3422, 'highest': 3423, 'highlighted': 3424, 'highlights': 3425, 'highly': 3426, 'hijacking': 3427, 'hiking': 3428, 'hill': 3429, 'him': 3430, 'hint': 3431, 'hire': 3432, 'hired': 3433, 'hiring': 3434, 'his': 3435, 'historical': 3436, 'historically': 3437, 'hit': 3438, 'hitch': 3439, 'hits': 3440, 'hoarding': 3441, 'hobby': 3442, 'hoc': 3443, 'hold': 3444, 'holder': 3445, 'holding': 3446, 'holds': 3447, 'holidays': 3448, 'home': 3449, 'homemade': 3450, 'homes': 3451, 'homestays': 3452, 'honed': 3453, 'honest': 3454, 'honestly': 3455, 'honey': 3456, 'honored': 3457, 'hope': 3458, 'hoped': 3459, 'hopefully': 3460, 'hoping': 3461, 'horizontal': 3462, 'horrible': 3463, 'horsepower': 3464, 'horsepowers': 3465, 'hospital': 3466, 'hospitalization': 3467, 'hospitals': 3468, 'host': 3469, 'hosting': 3470, 'hosts': 3471, 'hot': 3472, 'hotel': 3473, 'hotels': 3474, 'hotspot': 3475, 'hour': 3476, 'hourly': 3477, 'hours': 3478, 'house': 3479, 'household': 3480, 'households': 3481, 'houses': 3482, 'housing': 3483, 'housings': 3484, 'how': 3485, 'however': 3486, 'hub': 3487, 'huddle': 3488, 'hues': 3489, 'huge': 3490, 'hull': 3491, 'human': 3492, 'humble': 3493, 'humor': 3494, 'hundred': 3495, 'hungry': 3496, 'hunt': 3497, 'hurry': 3498, 'hurt': 3499, 'husband': 3500, 'hustle': 3501, 'hwajeon': 3502, 'hydraulic': 3503, 'hydraulics': 3504, 'hydrojet': 3505, 'hype': 3506, 'ibul': 3507, 'ice': 3508, 'icons': 3509, 'idea': 3510, 'ideal': 3511, 'ideas': 3512, 'identical': 3513, 'identification': 3514, 'identified': 3515, 'identify': 3516, 'identities': 3517, 'identity': 3518, 'idols': 3519, 'if': 3520, 'ignition': 3521, 'ignorance': 3522, 'ignore': 3523, 'ignored': 3524, 'illness': 3525, 'illnesses': 3526, 'illustration': 3527, 'illustrations': 3528, 'image': 3529, 'images': 3530, 'imaginative': 3531, 'imagine': 3532, 'imaging': 3533, 'immediate': 3534, 'immediately': 3535, 'immensely': 3536, 'immigrant': 3537, 'immunity': 3538, 'immutable': 3539, 'impact': 3540, 'impart': 3541, 'impeller': 3542, 'impending': 3543, 'implantation': 3544, 'implement': 3545, 'implementation': 3546, 'implementing': 3547, 'implements': 3548, 'implied': 3549, 'implies': 3550, 'import': 3551, 'importance': 3552, 'important': 3553, 'importantly': 3554, 'imported': 3555, 'imports': 3556, 'imposed': 3557, 'imposes': 3558, 'impossible': 3559, 'impress': 3560, 'impressed': 3561, 'impression': 3562, 'impressions': 3563, 'impressive': 3564, 'improve': 3565, 'improved': 3566, 'improvement': 3567, 'improvements': 3568, 'improving': 3569, 'in': 3570, 'inbox': 3571, 'incentives': 3572, 'inch': 3573, 'incident': 3574, 'include': 3575, 'included': 3576, 'includes': 3577, 'including': 3578, 'inclusion': 3579, 'inclusions': 3580, 'inclusive': 3581, 'income': 3582, 'incompatible': 3583, 'incomplete': 3584, 'inconvenience': 3585, 'inconvenient': 3586, 'incorporate': 3587, 'incorporating': 3588, 'incorporation': 3589, 'incorrect': 3590, 'increase': 3591, 'increased': 3592, 'increasing': 3593, 'incredible': 3594, 'incredibly': 3595, 'incubator': 3596, 'incubators': 3597, 'incur': 3598, 'incurred': 3599, 'incurring': 3600, 'indeed': 3601, 'independently': 3602, 'index': 3603, 'indexation': 3604, 'indicate': 3605, 'indicated': 3606, 'indicating': 3607, 'indicator': 3608, 'indicators': 3609, 'indices': 3610, 'individual': 3611, 'individually': 3612, 'individuals': 3613, 'indoor': 3614, 'indoors': 3615, 'indulge': 3616, 'industrial': 3617, 'industries': 3618, 'industry': 3619, 'inevitable': 3620, 'infections': 3621, 'infectious': 3622, 'inferior': 3623, 'inflation': 3624, 'influence': 3625, 'influenced': 3626, 'influencer': 3627, 'influencers': 3628, 'info': 3629, 'infographic': 3630, 'infographics': 3631, 'inform': 3632, 'informal': 3633, 'information': 3634, 'informed': 3635, 'informing': 3636, 'infrastructure': 3637, 'infringed': 3638, 'infringement': 3639, 'ingredients': 3640, 'inheritance': 3641, 'initial': 3642, 'initially': 3643, 'initiate': 3644, 'initiative': 3645, 'injection': 3646, 'injunction': 3647, 'injury': 3648, 'inner': 3649, 'innovation': 3650, 'innovations': 3651, 'innovative': 3652, 'input': 3653, 'inputs': 3654, 'inquire': 3655, 'inquired': 3656, 'inquiries': 3657, 'inquiring': 3658, 'inquiry': 3659, 'ins': 3660, 'inside': 3661, 'insight': 3662, 'insist': 3663, 'inspect': 3664, 'inspected': 3665, 'inspecting': 3666, 'inspection': 3667, 'inspections': 3668, 'inspire': 3669, 'inspired': 3670, 'install': 3671, 'installation': 3672, 'installed': 3673, 'installing': 3674, 'installment': 3675, 'installments': 3676, 'instance': 3677, 'instant': 3678, 'instead': 3679, 'institute': 3680, 'institution': 3681, 'instruction': 3682, 'instructions': 3683, 'instrument': 3684, 'instruments': 3685, 'insulation': 3686, 'insult': 3687, 'insurance': 3688, 'insurances': 3689, 'insure': 3690, 'insured': 3691, 'insuring': 3692, 'insurmountable': 3693, 'integrated': 3694, 'integration': 3695, 'integrations': 3696, 'intellectual': 3697, 'intelligence': 3698, 'intelligent': 3699, 'intend': 3700, 'intended': 3701, 'intends': 3702, 'intense': 3703, 'intensity': 3704, 'intent': 3705, 'intention': 3706, 'interact': 3707, 'interactions': 3708, 'interactive': 3709, 'intercept': 3710, 'interest': 3711, 'interested': 3712, 'interesting': 3713, 'interface': 3714, 'interior': 3715, 'interiors': 3716, 'intermediaries': 3717, 'intermediary': 3718, 'intern': 3719, 'internal': 3720, 'internally': 3721, 'international': 3722, 'internationally': 3723, 'internet': 3724, 'interns': 3725, 'interpretation': 3726, 'interpreter': 3727, 'interpreting': 3728, 'interrupt': 3729, 'interrupted': 3730, 'interview': 3731, 'interviews': 3732, 'into': 3733, 'intrigue': 3734, 'intriguing': 3735, 'introduce': 3736, 'introduced': 3737, 'introducing': 3738, 'introduction': 3739, 'intrusion': 3740, 'invaluable': 3741, 'inventory': 3742, 'invest': 3743, 'invested': 3744, 'investigate': 3745, 'investigating': 3746, 'investigation': 3747, 'investing': 3748, 'investment': 3749, 'investments': 3750, 'investor': 3751, 'investors': 3752, 'invitation': 3753, 'invite': 3754, 'invited': 3755, 'invites': 3756, 'inviting': 3757, 'invoice': 3758, 'invoices': 3759, 'involve': 3760, 'involved': 3761, 'involves': 3762, 'involving': 3763, 'iron': 3764, 'irregular': 3765, 'is': 3766, 'isn': 3767, 'issuance': 3768, 'issue': 3769, 'issued': 3770, 'issues': 3771, 'issuing': 3772, 'it': 3773, 'item': 3774, 'items': 3775, 'its': 3776, 'itself': 3777, 'jacuzzi': 3778, 'japchae': 3779, 'jeeps': 3780, 'jeon': 3781, 'jet': 3782, 'jingle': 3783, 'job': 3784, 'jobs': 3785, 'join': 3786, 'joining': 3787, 'joint': 3788, 'jokbal': 3789, 'joke': 3790, 'journalists': 3791, 'journey': 3792, 'juice': 3793, 'junction': 3794, 'just': 3795, 'kanji': 3796, 'karaoke': 3797, 'keen': 3798, 'keep': 3799, 'keeping': 3800, 'keeps': 3801, 'kept': 3802, 'key': 3803, 'keyboard': 3804, 'keyboards': 3805, 'keys': 3806, 'keywords': 3807, 'kicks': 3808, 'kids': 3809, 'kilograms': 3810, 'kilometers': 3811, 'kilowatts': 3812, 'kimchi': 3813, 'kind': 3814, 'kindly': 3815, 'kindness': 3816, 'kinds': 3817, 'king': 3818, 'kiosk': 3819, 'kit': 3820, 'kitchen': 3821, 'kitchens': 3822, 'kits': 3823, 'knew': 3824, 'knife': 3825, 'knitting': 3826, 'knocked': 3827, 'know': 3828, 'knowing': 3829, 'knowledge': 3830, 'knowledgeable': 3831, 'known': 3832, 'knows': 3833, 'l': 3834, 'label': 3835, 'labels': 3836, 'labor': 3837, 'laboratories': 3838, 'laboratory': 3839, 'lack': 3840, 'lacking': 3841, 'ladies': 3842, 'lag': 3843, 'laid': 3844, 'lamination': 3845, 'land': 3846, 'landed': 3847, 'landline': 3848, 'landlord': 3849, 'landowner': 3850, 'lands': 3851, 'language': 3852, 'languages': 3853, 'laptop': 3854, 'large': 3855, 'largely': 3856, 'larger': 3857, 'largest': 3858, 'last': 3859, 'lasting': 3860, 'lasts': 3861, 'late': 3862, 'lately': 3863, 'latency': 3864, 'later': 3865, 'latest': 3866, 'launch': 3867, 'launched': 3868, 'launching': 3869, 'laundering': 3870, 'laundry': 3871, 'lavalier': 3872, 'law': 3873, 'laws': 3874, 'lawsuit': 3875, 'lawyer': 3876, 'lawyers': 3877, 'laxative': 3878, 'lay': 3879, 'layers': 3880, 'layout': 3881, 'lazy': 3882, 'lead': 3883, 'leaders': 3884, 'leading': 3885, 'leaf': 3886, 'leaks': 3887, 'leaning': 3888, 'learn': 3889, 'learned': 3890, 'learning': 3891, 'least': 3892, 'leave': 3893, 'leaves': 3894, 'lecture': 3895, 'led': 3896, 'left': 3897, 'legal': 3898, 'legally': 3899, 'legitimate': 3900, 'lenders': 3901, 'length': 3902, 'lengthy': 3903, 'lens': 3904, 'lentil': 3905, 'less': 3906, 'lesser': 3907, 'lessons': 3908, 'let': 3909, 'lets': 3910, 'letter': 3911, 'letters': 3912, 'letting': 3913, 'lettuce': 3914, 'level': 3915, 'levelers': 3916, 'levels': 3917, 'leverage': 3918, 'liabilities': 3919, 'liability': 3920, 'liable': 3921, 'liaison': 3922, 'library': 3923, 'license': 3924, 'licensed': 3925, 'licenses': 3926, 'lie': 3927, 'life': 3928, 'lifeguards': 3929, 'lifelong': 3930, 'lifestyle': 3931, 'lift': 3932, 'light': 3933, 'lightning': 3934, 'lights': 3935, 'lightweight': 3936, 'like': 3937, 'liked': 3938, 'likely': 3939, 'likes': 3940, 'limit': 3941, 'limitations': 3942, 'limited': 3943, 'limits': 3944, 'line': 3945, 'lines': 3946, 'lining': 3947, 'link': 3948, 'linked': 3949, 'links': 3950, 'liquid': 3951, 'liquidating': 3952, 'liquors': 3953, 'list': 3954, 'listed': 3955, 'listen': 3956, 'listener': 3957, 'listeners': 3958, 'listening': 3959, 'listing': 3960, 'listings': 3961, 'lists': 3962, 'literature': 3963, 'little': 3964, 'live': 3965, 'lived': 3966, 'lively': 3967, 'liver': 3968, 'lives': 3969, 'living': 3970, 'll': 3971, 'load': 3972, 'loaded': 3973, 'loader': 3974, 'loaders': 3975, 'loading': 3976, 'loan': 3977, 'loans': 3978, 'lobby': 3979, 'local': 3980, 'locales': 3981, 'locality': 3982, 'localization': 3983, 'localized': 3984, 'locally': 3985, 'locals': 3986, 'located': 3987, 'location': 3988, 'locations': 3989, 'lock': 3990, 'lockdown': 3991, 'lockdowns': 3992, 'lodge': 3993, 'lodging': 3994, 'lodgings': 3995, 'log': 3996, 'logged': 3997, 'logging': 3998, 'login': 3999, 'logistics': 4000, 'logo': 4001, 'logos': 4002, 'logs': 4003, 'long': 4004, 'longer': 4005, 'look': 4006, 'looked': 4007, 'looking': 4008, 'looks': 4009, 'loose': 4010, 'lose': 4011, 'loss': 4012, 'losses': 4013, 'lost': 4014, 'lot': 4015, 'lots': 4016, 'loud': 4017, 'lounge': 4018, 'love': 4019, 'loved': 4020, 'lovely': 4021, 'loving': 4022, 'low': 4023, 'lower': 4024, 'lowered': 4025, 'lowest': 4026, 'loyal': 4027, 'luck': 4028, 'luckily': 4029, 'lucky': 4030, 'lucrative': 4031, 'luggage': 4032, 'lunch': 4033, 'luxurious': 4034, 'luxury': 4035, 'm': 4036, 'ma': 4037, 'machine': 4038, 'machinery': 4039, 'machines': 4040, 'mackerels': 4041, 'macro': 4042, 'madam': 4043, 'made': 4044, 'magazine': 4045, 'magazines': 4046, 'magical': 4047, 'mail': 4048, 'main': 4049, 'mainly': 4050, 'mains': 4051, 'maintain': 4052, 'maintained': 4053, 'maintaining': 4054, 'maintenance': 4055, 'major': 4056, 'majority': 4057, 'make': 4058, 'maker': 4059, 'makers': 4060, 'makes': 4061, 'makeup': 4062, 'makgeolli': 4063, 'making': 4064, 'mall': 4065, 'malware': 4066, 'manage': 4067, 'manageable': 4068, 'managed': 4069, 'management': 4070, 'manager': 4071, 'managers': 4072, 'manages': 4073, 'managing': 4074, 'mandatory': 4075, 'mandu': 4076, 'manned': 4077, 'manner': 4078, 'manners': 4079, 'manual': 4080, 'manually': 4081, 'manufacture': 4082, 'manufactured': 4083, 'manufacturer': 4084, 'manufacturers': 4085, 'manufactures': 4086, 'manufacturing': 4087, 'manuscript': 4088, 'many': 4089, 'marinated': 4090, 'marinates': 4091, 'market': 4092, 'marketer': 4093, 'marketing': 4094, 'markets': 4095, 'married': 4096, 'mascots': 4097, 'mask': 4098, 'mass': 4099, 'massage': 4100, 'massages': 4101, 'masseuse': 4102, 'massive': 4103, 'master': 4104, 'mat': 4105, 'match': 4106, 'material': 4107, 'materialistic': 4108, 'materials': 4109, 'maternity': 4110, 'mathematics': 4111, 'mats': 4112, 'matte': 4113, 'matter': 4114, 'matters': 4115, 'mattress': 4116, 'maturing': 4117, 'maximize': 4118, 'maximum': 4119, 'may': 4120, 'maybe': 4121, 'me': 4122, 'meal': 4123, 'meals': 4124, 'mean': 4125, 'meaning': 4126, 'meaningful': 4127, 'meaningless': 4128, 'means': 4129, 'meant': 4130, 'meantime': 4131, 'measure': 4132, 'measures': 4133, 'measuring': 4134, 'meat': 4135, 'mechanic': 4136, 'mechanical': 4137, 'mechanism': 4138, 'media': 4139, 'mediator': 4140, 'medical': 4141, 'medicine': 4142, 'meditation': 4143, 'medium': 4144, 'meet': 4145, 'meeting': 4146, 'meetings': 4147, 'megabits': 4148, 'megabytes': 4149, 'megapixel': 4150, 'megapixels': 4151, 'melon': 4152, 'melt': 4153, 'member': 4154, 'members': 4155, 'membership': 4156, 'memorandum': 4157, 'memories': 4158, 'memory': 4159, 'men': 4160, 'mending': 4161, 'mental': 4162, 'mention': 4163, 'mentioned': 4164, 'mentioning': 4165, 'menu': 4166, 'menus': 4167, 'merch': 4168, 'merchant': 4169, 'merged': 4170, 'message': 4171, 'messages': 4172, 'messaging': 4173, 'messy': 4174, 'met': 4175, 'meta': 4176, 'metal': 4177, 'metallurgical': 4178, 'metals': 4179, 'meters': 4180, 'method': 4181, 'methods': 4182, 'meticulously': 4183, 'microlenders': 4184, 'microphone': 4185, 'microphones': 4186, 'microscopes': 4187, 'microwave': 4188, 'middle': 4189, 'midst': 4190, 'might': 4191, 'mild': 4192, 'milestone': 4193, 'milk': 4194, 'millennials': 4195, 'millimeters': 4196, 'million': 4197, 'millions': 4198, 'mind': 4199, 'minded': 4200, 'mine': 4201, 'miner': 4202, 'mini': 4203, 'minibar': 4204, 'minimal': 4205, 'minimalism': 4206, 'minimum': 4207, 'ministry': 4208, 'minor': 4209, 'minute': 4210, 'minuted': 4211, 'minutes': 4212, 'miscarriage': 4213, 'miscommunication': 4214, 'mishap': 4215, 'mismanagement': 4216, 'mismatch': 4217, 'misplaced': 4218, 'miss': 4219, 'missed': 4220, 'missiles': 4221, 'missing': 4222, 'mission': 4223, 'mistake': 4224, 'mistakenly': 4225, 'mistakes': 4226, 'misunderstanding': 4227, 'misuse': 4228, 'misuses': 4229, 'mitigate': 4230, 'mix': 4231, 'mixer': 4232, 'mixing': 4233, 'mm': 4234, 'mmHg': 4235, 'mobile': 4236, 'mobiles': 4237, 'mock': 4238, 'mocks': 4239, 'modality': 4240, 'mode': 4241, 'model': 4242, 'models': 4243, 'modem': 4244, 'modems': 4245, 'moderately': 4246, 'modern': 4247, 'modes': 4248, 'modifications': 4249, 'modified': 4250, 'modify': 4251, 'modifying': 4252, 'modular': 4253, 'module': 4254, 'mold': 4255, 'molding': 4256, 'moldings': 4257, 'moment': 4258, 'momentary': 4259, 'moments': 4260, 'monastery': 4261, 'monastic': 4262, 'monetary': 4263, 'monetizing': 4264, 'money': 4265, 'monitor': 4266, 'monitoring': 4267, 'monitors': 4268, 'monk': 4269, 'monks': 4270, 'monsoon': 4271, 'month': 4272, 'monthly': 4273, 'months': 4274, 'mood': 4275, 'more': 4276, 'morning': 4277, 'mortar': 4278, 'mortgage': 4279, 'mosquitos': 4280, 'most': 4281, 'mostly': 4282, 'motels': 4283, 'mother': 4284, 'motif': 4285, 'motions': 4286, 'motivate': 4287, 'motivation': 4288, 'motor': 4289, 'motorboats': 4290, 'motors': 4291, 'mountain': 4292, 'mountains': 4293, 'mouse': 4294, 'mouses': 4295, 'mouth': 4296, 'move': 4297, 'moved': 4298, 'movement': 4299, 'movers': 4300, 'movie': 4301, 'movies': 4302, 'moving': 4303, 'much': 4304, 'mud': 4305, 'mukbang': 4306, 'multi': 4307, 'multidisciplinary': 4308, 'multinational': 4309, 'multiplatform': 4310, 'multiple': 4311, 'multiplying': 4312, 'multipurpose': 4313, 'museum': 4314, 'music': 4315, 'musical': 4316, 'musky': 4317, 'must': 4318, 'mutual': 4319, 'my': 4320, 'myself': 4321, 'mysterious': 4322, 'naira': 4323, 'name': 4324, 'names': 4325, 'napkin': 4326, 'napping': 4327, 'narratives': 4328, 'narrow': 4329, 'nation': 4330, 'national': 4331, 'nationals': 4332, 'nations': 4333, 'native': 4334, 'natural': 4335, 'nature': 4336, 'navigation': 4337, 'near': 4338, 'nearby': 4339, 'nearest': 4340, 'neat': 4341, 'nebulizers': 4342, 'necessary': 4343, 'need': 4344, 'needed': 4345, 'needing': 4346, 'needs': 4347, 'negative': 4348, 'negatively': 4349, 'neglect': 4350, 'negotiable': 4351, 'negotiate': 4352, 'neighbors': 4353, 'neotraditional': 4354, 'nephew': 4355, 'nervous': 4356, 'net': 4357, 'network': 4358, 'networking': 4359, 'networks': 4360, 'never': 4361, 'new': 4362, 'newbie': 4363, 'newborn': 4364, 'newest': 4365, 'newly': 4366, 'news': 4367, 'newsletters': 4368, 'newspaper': 4369, 'next': 4370, 'nice': 4371, 'niche': 4372, 'night': 4373, 'nightclub': 4374, 'nights': 4375, 'nighttime': 4376, 'nine': 4377, 'ninety': 4378, 'no': 4379, 'noble': 4380, 'nobody': 4381, 'nodular': 4382, 'non': 4383, 'nondelivery': 4384, 'none': 4385, 'nonfiction': 4386, 'nonfungible': 4387, 'nonpayments': 4388, 'nonprofits': 4389, 'nonsense': 4390, 'nonspicy': 4391, 'noodle': 4392, 'noodles': 4393, 'noon': 4394, 'norm': 4395, 'normal': 4396, 'normally': 4397, 'northern': 4398, 'nose': 4399, 'nostalgia': 4400, 'not': 4401, 'notch': 4402, 'note': 4403, 'notebook': 4404, 'noted': 4405, 'notes': 4406, 'nothing': 4407, 'notice': 4408, 'noticed': 4409, 'notices': 4410, 'notification': 4411, 'notified': 4412, 'notify': 4413, 'notifying': 4414, 'novel': 4415, 'novels': 4416, 'now': 4417, 'nowadays': 4418, 'number': 4419, 'numbers': 4420, 'numerous': 4421, 'nurse': 4422, 'nutritional': 4423, 'nutty': 4424, 'nylon': 4425, 'o': 4426, 'object': 4427, 'objection': 4428, 'objections': 4429, 'objective': 4430, 'obligation': 4431, 'obligations': 4432, 'oblige': 4433, 'observations': 4434, 'observing': 4435, 'obstacles': 4436, 'obtain': 4437, 'obtaining': 4438, 'obviously': 4439, 'occasion': 4440, 'occupation': 4441, 'occupied': 4442, 'occupy': 4443, 'occur': 4444, 'occurrence': 4445, 'occurs': 4446, 'ocean': 4447, 'of': 4448, 'off': 4449, 'offend': 4450, 'offer': 4451, 'offered': 4452, 'offering': 4453, 'offerings': 4454, 'offers': 4455, 'office': 4456, 'officer': 4457, 'officers': 4458, 'offices': 4459, 'official': 4460, 'officially': 4461, 'offline': 4462, 'offshore': 4463, 'often': 4464, 'oh': 4465, 'oil': 4466, 'oils': 4467, 'okay': 4468, 'old': 4469, 'older': 4470, 'oldest': 4471, 'on': 4472, 'once': 4473, 'ondol': 4474, 'one': 4475, 'ones': 4476, 'ongoing': 4477, 'onions': 4478, 'online': 4479, 'only': 4480, 'onto': 4481, 'onwards': 4482, 'open': 4483, 'opened': 4484, 'opening': 4485, 'openly': 4486, 'opens': 4487, 'operate': 4488, 'operated': 4489, 'operating': 4490, 'operation': 4491, 'operational': 4492, 'operations': 4493, 'operative': 4494, 'operator': 4495, 'operators': 4496, 'opinion': 4497, 'opinions': 4498, 'opportunities': 4499, 'opportunity': 4500, 'opt': 4501, 'optimal': 4502, 'optimization': 4503, 'optimize': 4504, 'optimized': 4505, 'optimizer': 4506, 'option': 4507, 'optional': 4508, 'options': 4509, 'optometry': 4510, 'or': 4511, 'orange': 4512, 'order': 4513, 'ordered': 4514, 'ordering': 4515, 'orderly': 4516, 'orders': 4517, 'ordinary': 4518, 'ore': 4519, 'organic': 4520, 'organization': 4521, 'organizational': 4522, 'organizations': 4523, 'organize': 4524, 'organizing': 4525, 'orientation': 4526, 'oriented': 4527, 'original': 4528, 'originally': 4529, 'origins': 4530, 'other': 4531, 'others': 4532, 'ought': 4533, 'ounce': 4534, 'our': 4535, 'ours': 4536, 'ourselves': 4537, 'out': 4538, 'outbreak': 4539, 'outcome': 4540, 'outdated': 4541, 'outdoor': 4542, 'outdoors': 4543, 'outgoing': 4544, 'outings': 4545, 'outlets': 4546, 'outnumber': 4547, 'output': 4548, 'outputs': 4549, 'outreach': 4550, 'outright': 4551, 'outside': 4552, 'outsiders': 4553, 'outsmart': 4554, 'outsource': 4555, 'outstanding': 4556, 'oven': 4557, 'ovens': 4558, 'over': 4559, 'overall': 4560, 'overcharge': 4561, 'overcharged': 4562, 'overdue': 4563, 'overflow': 4564, 'overhang': 4565, 'overheads': 4566, 'overlook': 4567, 'overlooked': 4568, 'overnight': 4569, 'overpriced': 4570, 'overseas': 4571, 'oversees': 4572, 'overstated': 4573, 'overview': 4574, 'overwhelmed': 4575, 'owe': 4576, 'owing': 4577, 'own': 4578, 'owner': 4579, 'owners': 4580, 'ownership': 4581, 'owning': 4582, 'oxblood': 4583, 'p': 4584, 'pace': 4585, 'pacemaker': 4586, 'pack': 4587, 'package': 4588, 'packaged': 4589, 'packages': 4590, 'packaging': 4591, 'packed': 4592, 'packers': 4593, 'packing': 4594, 'packs': 4595, 'page': 4596, 'pages': 4597, 'pagodas': 4598, 'paid': 4599, 'pains': 4600, 'painted': 4601, 'painter': 4602, 'painters': 4603, 'painting': 4604, 'paintings': 4605, 'pair': 4606, 'pairs': 4607, 'pajamas': 4608, 'palaces': 4609, 'palate': 4610, 'palates': 4611, 'palette': 4612, 'palettes': 4613, 'palm': 4614, 'pals': 4615, 'pamphlet': 4616, 'pan': 4617, 'pancakes': 4618, 'pandemic': 4619, 'panel': 4620, 'panels': 4621, 'pans': 4622, 'pantry': 4623, 'papaya': 4624, 'paper': 4625, 'papers': 4626, 'paperwork': 4627, 'par': 4628, 'parcel': 4629, 'parents': 4630, 'park': 4631, 'parking': 4632, 'part': 4633, 'partake': 4634, 'partial': 4635, 'partially': 4636, 'participant': 4637, 'participants': 4638, 'participate': 4639, 'participating': 4640, 'particular': 4641, 'particularly': 4642, 'parties': 4643, 'partner': 4644, 'partnering': 4645, 'partners': 4646, 'partnership': 4647, 'parts': 4648, 'party': 4649, 'pass': 4650, 'passed': 4651, 'passing': 4652, 'passion': 4653, 'passive': 4654, 'passport': 4655, 'passports': 4656, 'password': 4657, 'past': 4658, 'pasta': 4659, 'paste': 4660, 'patch': 4661, 'patches': 4662, 'patent': 4663, 'patents': 4664, 'path': 4665, 'patience': 4666, 'patient': 4667, 'patients': 4668, 'patronage': 4669, 'patronize': 4670, 'patrons': 4671, 'pattern': 4672, 'patterns': 4673, 'paving': 4674, 'pay': 4675, 'payable': 4676, 'paying': 4677, 'payment': 4678, 'payments': 4679, 'payroll': 4680, 'pays': 4681, 'payslip': 4682, 'pdf': 4683, 'peace': 4684, 'peak': 4685, 'pencil': 4686, 'pending': 4687, 'pension': 4688, 'people': 4689, 'per': 4690, 'percent': 4691, 'percentage': 4692, 'perfect': 4693, 'perform': 4694, 'performance': 4695, 'performed': 4696, 'performing': 4697, 'perhaps': 4698, 'perilla': 4699, 'period': 4700, 'permanent': 4701, 'permanently': 4702, 'permission': 4703, 'permit': 4704, 'permitted': 4705, 'persistent': 4706, 'person': 4707, 'personal': 4708, 'personality': 4709, 'personalized': 4710, 'personally': 4711, 'personnel': 4712, 'persons': 4713, 'persuade': 4714, 'pertinent': 4715, 'perusal': 4716, 'pesky': 4717, 'pet': 4718, 'petition': 4719, 'petrol': 4720, 'pets': 4721, 'phase': 4722, 'phases': 4723, 'phenomena': 4724, 'philosophy': 4725, 'phone': 4726, 'phones': 4727, 'phoning': 4728, 'photo': 4729, 'photobooks': 4730, 'photocopier': 4731, 'photographer': 4732, 'photographers': 4733, 'photographs': 4734, 'photography': 4735, 'photos': 4736, 'physical': 4737, 'physically': 4738, 'piano': 4739, 'pick': 4740, 'picked': 4741, 'picking': 4742, 'picture': 4743, 'pictures': 4744, 'pie': 4745, 'piece': 4746, 'pieces': 4747, 'pier': 4748, 'piling': 4749, 'pillars': 4750, 'pills': 4751, 'pin': 4752, 'pink': 4753, 'pioneers': 4754, 'pipe': 4755, 'pipeline': 4756, 'pipelines': 4757, 'pipes': 4758, 'piqued': 4759, 'piques': 4760, 'piston': 4761, 'pitch': 4762, 'pitching': 4763, 'pity': 4764, 'pixels': 4765, 'place': 4766, 'placed': 4767, 'placement': 4768, 'placements': 4769, 'places': 4770, 'placing': 4771, 'plagiarized': 4772, 'plain': 4773, 'plan': 4774, 'plane': 4775, 'planned': 4776, 'planning': 4777, 'plans': 4778, 'plant': 4779, 'planting': 4780, 'plants': 4781, 'plastic': 4782, 'plastics': 4783, 'plate': 4784, 'plates': 4785, 'platform': 4786, 'platforms': 4787, 'platinum': 4788, 'platters': 4789, 'play': 4790, 'played': 4791, 'player': 4792, 'players': 4793, 'playground': 4794, 'playing': 4795, 'plays': 4796, 'plaza': 4797, 'pleasant': 4798, 'please': 4799, 'pleased': 4800, 'pleasure': 4801, 'plotter': 4802, 'plowing': 4803, 'plug': 4804, 'plugins': 4805, 'plus': 4806, 'pm': 4807, 'pneumatic': 4808, 'pocket': 4809, 'pockets': 4810, 'podcast': 4811, 'podcasts': 4812, 'point': 4813, 'pointing': 4814, 'points': 4815, 'policies': 4816, 'policy': 4817, 'policyholders': 4818, 'policymakers': 4819, 'polite': 4820, 'political': 4821, 'politicians': 4822, 'polystyrene': 4823, 'polyurethane': 4824, 'pool': 4825, 'pools': 4826, 'poor': 4827, 'pop': 4828, 'popular': 4829, 'popularity': 4830, 'population': 4831, 'poring': 4832, 'pork': 4833, 'porridge': 4834, 'port': 4835, 'portal': 4836, 'portals': 4837, 'portfolio': 4838, 'portfolios': 4839, 'portion': 4840, 'portraits': 4841, 'ports': 4842, 'posh': 4843, 'position': 4844, 'positioning': 4845, 'positions': 4846, 'positive': 4847, 'positives': 4848, 'possess': 4849, 'possibility': 4850, 'possible': 4851, 'possibly': 4852, 'post': 4853, 'postal': 4854, 'posted': 4855, 'poster': 4856, 'posters': 4857, 'posting': 4858, 'postings': 4859, 'postpaid': 4860, 'posts': 4861, 'potato': 4862, 'potential': 4863, 'pots': 4864, 'power': 4865, 'powered': 4866, 'practically': 4867, 'practice': 4868, 'practices': 4869, 'praised': 4870, 'praises': 4871, 'pray': 4872, 'prays': 4873, 'precise': 4874, 'precisely': 4875, 'precision': 4876, 'predict': 4877, 'predictable': 4878, 'prediction': 4879, 'prefer': 4880, 'preferably': 4881, 'preference': 4882, 'preferences': 4883, 'preferred': 4884, 'premises': 4885, 'premium': 4886, 'premiums': 4887, 'preoccupied': 4888, 'preorder': 4889, 'preparation': 4890, 'prepare': 4891, 'prepared': 4892, 'preparedness': 4893, 'preparing': 4894, 'prescription': 4895, 'prescriptions': 4896, 'presence': 4897, 'present': 4898, 'presentation': 4899, 'presented': 4900, 'presenting': 4901, 'presents': 4902, 'preservation': 4903, 'preserve': 4904, 'president': 4905, 'press': 4906, 'pressed': 4907, 'pressing': 4908, 'pressure': 4909, 'pretty': 4910, 'prevent': 4911, 'prevented': 4912, 'prevention': 4913, 'preview': 4914, 'previous': 4915, 'previously': 4916, 'price': 4917, 'priced': 4918, 'priceless': 4919, 'prices': 4920, 'pricing': 4921, 'priest': 4922, 'primarily': 4923, 'primary': 4924, 'prime': 4925, 'principal': 4926, 'principle': 4927, 'print': 4928, 'printed': 4929, 'printers': 4930, 'printing': 4931, 'prints': 4932, 'prior': 4933, 'prioritize': 4934, 'prioritized': 4935, 'priority': 4936, 'privacy': 4937, 'private': 4938, 'privilege': 4939, 'prize': 4940, 'prized': 4941, 'probably': 4942, 'problem': 4943, 'problematic': 4944, 'problems': 4945, 'procedure': 4946, 'procedures': 4947, 'proceed': 4948, 'proceedings': 4949, 'proceeds': 4950, 'process': 4951, 'processed': 4952, 'processes': 4953, 'processing': 4954, 'processor': 4955, 'processors': 4956, 'procurement': 4957, 'produce': 4958, 'produced': 4959, 'producer': 4960, 'produces': 4961, 'producing': 4962, 'product': 4963, 'production': 4964, 'productions': 4965, 'productivity': 4966, 'products': 4967, 'profession': 4968, 'professional': 4969, 'professionally': 4970, 'professionals': 4971, 'professions': 4972, 'professor': 4973, 'professors': 4974, 'proficiency': 4975, 'profile': 4976, 'profit': 4977, 'profitability': 4978, 'profitable': 4979, 'profits': 4980, 'program': 4981, 'programmed': 4982, 'programmer': 4983, 'programmers': 4984, 'programming': 4985, 'programs': 4986, 'progress': 4987, 'progressing': 4988, 'project': 4989, 'projections': 4990, 'projector': 4991, 'projectors': 4992, 'projects': 4993, 'prominent': 4994, 'prominently': 4995, 'promise': 4996, 'promised': 4997, 'promises': 4998, 'promising': 4999, 'promo': 5000, 'promos': 5001, 'promote': 5002, 'promoting': 5003, 'promotion': 5004, 'promotional': 5005, 'promotions': 5006, 'prompt': 5007, 'promptly': 5008, 'prompts': 5009, 'proof': 5010, 'proofs': 5011, 'propelled': 5012, 'proper': 5013, 'properly': 5014, 'properties': 5015, 'property': 5016, 'proportion': 5017, 'proposal': 5018, 'proposals': 5019, 'propose': 5020, 'proposed': 5021, 'proposing': 5022, 'proposition': 5023, 'pros': 5024, 'prospective': 5025, 'prosperous': 5026, 'prosthetics': 5027, 'prostrations': 5028, 'protect': 5029, 'protected': 5030, 'protection': 5031, 'protectionism': 5032, 'protections': 5033, 'protective': 5034, 'protects': 5035, 'protein': 5036, 'protocol': 5037, 'protocols': 5038, 'prototype': 5039, 'proud': 5040, 'prove': 5041, 'proven': 5042, 'provide': 5043, 'provided': 5044, 'provider': 5045, 'providers': 5046, 'provides': 5047, 'providing': 5048, 'province': 5049, 'proximity': 5050, 'pub': 5051, 'public': 5052, 'publication': 5053, 'publications': 5054, 'publicly': 5055, 'publish': 5056, 'published': 5057, 'publishers': 5058, 'publishing': 5059, 'pull': 5060, 'pulse': 5061, 'pump': 5062, 'pumps': 5063, 'punctual': 5064, 'purchase': 5065, 'purchased': 5066, 'purchases': 5067, 'purchasing': 5068, 'purely': 5069, 'purified': 5070, 'purifiers': 5071, 'purify': 5072, 'purpose': 5073, 'purposes': 5074, 'pursue': 5075, 'push': 5076, 'pushed': 5077, 'put': 5078, 'puts': 5079, 'putting': 5080, 'quadrupled': 5081, 'qualified': 5082, 'qualify': 5083, 'qualities': 5084, 'quality': 5085, 'quantities': 5086, 'quantity': 5087, 'quarter': 5088, 'quarterly': 5089, 'queries': 5090, 'query': 5091, 'question': 5092, 'questionnaire': 5093, 'questions': 5094, 'queue': 5095, 'quick': 5096, 'quickly': 5097, 'quilt': 5098, 'quite': 5099, 'quotation': 5100, 'quotations': 5101, 'quote': 5102, 'radio': 5103, 'radioactive': 5104, 'railway': 5105, 'rain': 5106, 'raise': 5107, 'raising': 5108, 'rally': 5109, 'rambling': 5110, 'ramen': 5111, 'ran': 5112, 'random': 5113, 'randomly': 5114, 'rang': 5115, 'range': 5116, 'ranger': 5117, 'ranges': 5118, 'ranging': 5119, 'rank': 5120, 'ranked': 5121, 'ranking': 5122, 'ranks': 5123, 'rapidly': 5124, 'rapport': 5125, 'rare': 5126, 'rate': 5127, 'rates': 5128, 'rather': 5129, 'rating': 5130, 'ratings': 5131, 'ratio': 5132, 'rational': 5133, 'raw': 5134, 'ray': 5135, 'rd': 5136, 're': 5137, 'reach': 5138, 'reached': 5139, 'reaches': 5140, 'reaching': 5141, 'react': 5142, 'reaction': 5143, 'read': 5144, 'readers': 5145, 'reading': 5146, 'reads': 5147, 'ready': 5148, 'real': 5149, 'realistic': 5150, 'reality': 5151, 'realize': 5152, 'really': 5153, 'realtor': 5154, 'reap': 5155, 'rear': 5156, 'reason': 5157, 'reasonable': 5158, 'reasons': 5159, 'reassuring': 5160, 'rebook': 5161, 'recall': 5162, 'receipt': 5163, 'receipts': 5164, 'receivable': 5165, 'receive': 5166, 'received': 5167, 'receiver': 5168, 'receiving': 5169, 'recent': 5170, 'recently': 5171, 'reception': 5172, 'receptionist': 5173, 'recharge': 5174, 'recharging': 5175, 'recipe': 5176, 'recipes': 5177, 'recipients': 5178, 'recognize': 5179, 'recognized': 5180, 'recommend': 5181, 'recommendation': 5182, 'recommendations': 5183, 'recommended': 5184, 'recommending': 5185, 'reconfirm': 5186, 'reconsider': 5187, 'record': 5188, 'recorded': 5189, 'recording': 5190, 'recordings': 5191, 'records': 5192, 'recover': 5193, 'recovery': 5194, 'recreation': 5195, 'rectified': 5196, 'recuperate': 5197, 'red': 5198, 'redemption': 5199, 'redirect': 5200, 'redownloaded': 5201, 'redrafting': 5202, 'reduce': 5203, 'reduced': 5204, 'reduces': 5205, 'reducing': 5206, 'reefer': 5207, 'reefers': 5208, 'reels': 5209, 'refer': 5210, 'reference': 5211, 'referred': 5212, 'referring': 5213, 'refers': 5214, 'refine': 5215, 'reflected': 5216, 'refrain': 5217, 'refresher': 5218, 'refund': 5219, 'refunded': 5220, 'refunds': 5221, 'refuse': 5222, 'refuses': 5223, 'regard': 5224, 'regarded': 5225, 'regarding': 5226, 'regardless': 5227, 'regards': 5228, 'region': 5229, 'regional': 5230, 'register': 5231, 'registered': 5232, 'registration': 5233, 'registry': 5234, 'regret': 5235, 'regretting': 5236, 'regular': 5237, 'regularly': 5238, 'regulated': 5239, 'regulations': 5240, 'regulatory': 5241, 'rehearsal': 5242, 'reheated': 5243, 'reimbursed': 5244, 'reimbursement': 5245, 'reimbursing': 5246, 'reinstalled': 5247, 'reject': 5248, 'rejected': 5249, 'relatable': 5250, 'relate': 5251, 'related': 5252, 'relations': 5253, 'relationship': 5254, 'relationships': 5255, 'relative': 5256, 'relatively': 5257, 'relatives': 5258, 'relax': 5259, 'relaxation': 5260, 'relaxing': 5261, 'relay': 5262, 'release': 5263, 'released': 5264, 'releases': 5265, 'releasing': 5266, 'relentlessly': 5267, 'relevant': 5268, 'reliable': 5269, 'relief': 5270, 'relies': 5271, 'relieved': 5272, 'religious': 5273, 'relocate': 5274, 'rely': 5275, 'remain': 5276, 'remaining': 5277, 'remains': 5278, 'remarks': 5279, 'remember': 5280, 'remembered': 5281, 'remind': 5282, 'reminder': 5283, 'reminders': 5284, 'reminding': 5285, 'reminds': 5286, 'reminisce': 5287, 'remittance': 5288, 'remote': 5289, 'remotely': 5290, 'removable': 5291, 'remove': 5292, 'removers': 5293, 'removing': 5294, 'render': 5295, 'rendered': 5296, 'renders': 5297, 'renege': 5298, 'renew': 5299, 'renewable': 5300, 'renewal': 5301, 'renewed': 5302, 'renewing': 5303, 'renovate': 5304, 'renovated': 5305, 'renovation': 5306, 'renowned': 5307, 'rent': 5308, 'rental': 5309, 'rentals': 5310, 'rented': 5311, 'renting': 5312, 'reorder': 5313, 'repair': 5314, 'repay': 5315, 'repayment': 5316, 'repeat': 5317, 'replace': 5318, 'replaced': 5319, 'replacement': 5320, 'replacements': 5321, 'replacing': 5322, 'reply': 5323, 'report': 5324, 'reported': 5325, 'reports': 5326, 'representative': 5327, 'representing': 5328, 'represents': 5329, 'reputable': 5330, 'reputation': 5331, 'reputed': 5332, 'request': 5333, 'requested': 5334, 'requesting': 5335, 'requests': 5336, 'require': 5337, 'required': 5338, 'requirement': 5339, 'requirements': 5340, 'requires': 5341, 'rescheduled': 5342, 'rescission': 5343, 'research': 5344, 'researched': 5345, 'researching': 5346, 'resellers': 5347, 'resending': 5348, 'reservation': 5349, 'reservations': 5350, 'reserve': 5351, 'reserved': 5352, 'reserving': 5353, 'reset': 5354, 'reside': 5355, 'residence': 5356, 'resident': 5357, 'residents': 5358, 'residing': 5359, 'resistant': 5360, 'resistors': 5361, 'resolve': 5362, 'resolved': 5363, 'resolving': 5364, 'resort': 5365, 'resorting': 5366, 'resorts': 5367, 'resource': 5368, 'resources': 5369, 'respect': 5370, 'respected': 5371, 'respective': 5372, 'respectively': 5373, 'respects': 5374, 'respond': 5375, 'responding': 5376, 'response': 5377, 'responsibility': 5378, 'responsible': 5379, 'responsive': 5380, 'rest': 5381, 'restart': 5382, 'restaurant': 5383, 'restaurants': 5384, 'restocked': 5385, 'restore': 5386, 'restoring': 5387, 'restricted': 5388, 'restriction': 5389, 'restrictions': 5390, 'restroom': 5391, 'restrooms': 5392, 'result': 5393, 'resulted': 5394, 'results': 5395, 'resume': 5396, 'resumes': 5397, 'retail': 5398, 'retailer': 5399, 'retails': 5400, 'retain': 5401, 'retains': 5402, 'retirement': 5403, 'retract': 5404, 'retreat': 5405, 'retreats': 5406, 'retrieve': 5407, 'return': 5408, 'returned': 5409, 'returning': 5410, 'returns': 5411, 'reuploading': 5412, 'reusable': 5413, 'revamp': 5414, 'revealing': 5415, 'revenue': 5416, 'revenues': 5417, 'revert': 5418, 'review': 5419, 'reviewed': 5420, 'reviewers': 5421, 'reviewing': 5422, 'revise': 5423, 'revised': 5424, 'revision': 5425, 'revisions': 5426, 'revoke': 5427, 'revolving': 5428, 'reward': 5429, 'rewarding': 5430, 'rewards': 5431, 'rib': 5432, 'ribs': 5433, 'rice': 5434, 'rich': 5435, 'rid': 5436, 'ride': 5437, 'rides': 5438, 'right': 5439, 'rights': 5440, 'rigid': 5441, 'rim': 5442, 'ring': 5443, 'rise': 5444, 'risen': 5445, 'risk': 5446, 'risking': 5447, 'risks': 5448, 'risky': 5449, 'ritual': 5450, 'road': 5451, 'roadblock': 5452, 'roadmap': 5453, 'roasted': 5454, 'robot': 5455, 'rock': 5456, 'rocky': 5457, 'role': 5458, 'roleplaying': 5459, 'roles': 5460, 'roll': 5461, 'roller': 5462, 'rolls': 5463, 'roof': 5464, 'roofing': 5465, 'rooftop': 5466, 'room': 5467, 'roommate': 5468, 'rooms': 5469, 'root': 5470, 'roots': 5471, 'ropes': 5472, 'rotary': 5473, 'rough': 5474, 'round': 5475, 'rounds': 5476, 'router': 5477, 'routine': 5478, 'royalty': 5479, 'rude': 5480, 'ruin': 5481, 'ruined': 5482, 'rules': 5483, 'rumor': 5484, 'run': 5485, 'running': 5486, 'runs': 5487, 'rural': 5488, 'rush': 5489, 'rushing': 5490, 's': 5491, 'sacrificing': 5492, 'sad': 5493, 'safe': 5494, 'safeguard': 5495, 'safely': 5496, 'safer': 5497, 'safety': 5498, 'said': 5499, 'sake': 5500, 'salad': 5501, 'salary': 5502, 'sale': 5503, 'sales': 5504, 'salesmen': 5505, 'salt': 5506, 'saltwater': 5507, 'same': 5508, 'samgyeopsal': 5509, 'samgyupsal': 5510, 'sample': 5511, 'sampler': 5512, 'samples': 5513, 'sampling': 5514, 'sanctioning': 5515, 'sandwich': 5516, 'sandwiches': 5517, 'sanitary': 5518, 'satellite': 5519, 'satin': 5520, 'satisfied': 5521, 'satisfy': 5522, 'sauce': 5523, 'sauna': 5524, 'sausage': 5525, 'save': 5526, 'saved': 5527, 'saver': 5528, 'saves': 5529, 'saving': 5530, 'savings': 5531, 'savory': 5532, 'savvy': 5533, 'saw': 5534, 'say': 5535, 'saying': 5536, 'says': 5537, 'scaffolding': 5538, 'scale': 5539, 'scammed': 5540, 'scan': 5541, 'scanner': 5542, 'scanners': 5543, 'scanning': 5544, 'scarcity': 5545, 'scared': 5546, 'scavenger': 5547, 'scenario': 5548, 'scenarios': 5549, 'scenic': 5550, 'scent': 5551, 'schedule': 5552, 'scheduled': 5553, 'scheduler': 5554, 'schedules': 5555, 'scheme': 5556, 'scholar': 5557, 'scholarships': 5558, 'school': 5559, 'schooling': 5560, 'science': 5561, 'sciences': 5562, 'scientific': 5563, 'scientists': 5564, 'scooters': 5565, 'score': 5566, 'scores': 5567, 'scratch': 5568, 'screen': 5569, 'screening': 5570, 'screenplay': 5571, 'screens': 5572, 'screenshot': 5573, 'screenshots': 5574, 'screw': 5575, 'screws': 5576, 'script': 5577, 'scrub': 5578, 'sculptors': 5579, 'sea': 5580, 'seal': 5581, 'search': 5582, 'searching': 5583, 'seared': 5584, 'season': 5585, 'seasons': 5586, 'seat': 5587, 'seats': 5588, 'seaweed': 5589, 'seaworthiness': 5590, 'second': 5591, 'secondary': 5592, 'secondhand': 5593, 'seconds': 5594, 'secret': 5595, 'secretary': 5596, 'section': 5597, 'sector': 5598, 'secure': 5599, 'secured': 5600, 'secures': 5601, 'securing': 5602, 'securities': 5603, 'security': 5604, 'see': 5605, 'seedlings': 5606, 'seeing': 5607, 'seek': 5608, 'seeking': 5609, 'seem': 5610, 'seems': 5611, 'seen': 5612, 'select': 5613, 'selected': 5614, 'selection': 5615, 'selections': 5616, 'self': 5617, 'sell': 5618, 'seller': 5619, 'sellers': 5620, 'selling': 5621, 'sells': 5622, 'selves': 5623, 'semester': 5624, 'semiconductor': 5625, 'semiconductors': 5626, 'seminar': 5627, 'seminars': 5628, 'send': 5629, 'sender': 5630, 'sending': 5631, 'senior': 5632, 'seniors': 5633, 'sense': 5634, 'sensor': 5635, 'sensors': 5636, 'sent': 5637, 'separate': 5638, 'separately': 5639, 'serial': 5640, 'series': 5641, 'serious': 5642, 'serve': 5643, 'served': 5644, 'server': 5645, 'servers': 5646, 'serves': 5647, 'service': 5648, 'serviced': 5649, 'services': 5650, 'servicing': 5651, 'serving': 5652, 'servings': 5653, 'servo': 5654, 'session': 5655, 'sessions': 5656, 'set': 5657, 'sets': 5658, 'setting': 5659, 'settings': 5660, 'settle': 5661, 'settled': 5662, 'setup': 5663, 'setups': 5664, 'seven': 5665, 'several': 5666, 'severe': 5667, 'sewer': 5668, 'sewing': 5669, 'shaded': 5670, 'shaft': 5671, 'shafts': 5672, 'shake': 5673, 'shall': 5674, 'shape': 5675, 'shaped': 5676, 'shapes': 5677, 'share': 5678, 'shared': 5679, 'shares': 5680, 'sharing': 5681, 'sharpened': 5682, 'sharply': 5683, 'she': 5684, 'sheet': 5685, 'shelter': 5686, 'shift': 5687, 'shifted': 5688, 'ship': 5689, 'shipment': 5690, 'shipments': 5691, 'shipped': 5692, 'shipping': 5693, 'ships': 5694, 'shock': 5695, 'shoddy': 5696, 'shoe': 5697, 'shoes': 5698, 'shoot': 5699, 'shooting': 5700, 'shop': 5701, 'shopping': 5702, 'shops': 5703, 'short': 5704, 'shortly': 5705, 'shot': 5706, 'shots': 5707, 'should': 5708, 'shoulder': 5709, 'shouldn': 5710, 'shovel': 5711, 'shovels': 5712, 'show': 5713, 'showcase': 5714, 'showcases': 5715, 'showcasing': 5716, 'showed': 5717, 'shower': 5718, 'showing': 5719, 'shown': 5720, 'showroom': 5721, 'shows': 5722, 'shredder': 5723, 'shredders': 5724, 'shrimp': 5725, 'shutting': 5726, 'shy': 5727, 'sibling': 5728, 'side': 5729, 'sides': 5730, 'sign': 5731, 'signal': 5732, 'signals': 5733, 'signatory': 5734, 'signature': 5735, 'signatures': 5736, 'signed': 5737, 'significance': 5738, 'significant': 5739, 'significantly': 5740, 'signify': 5741, 'signing': 5742, 'silent': 5743, 'silk': 5744, 'silver': 5745, 'silverware': 5746, 'similar': 5747, 'simmered': 5748, 'simmering': 5749, 'simple': 5750, 'simpler': 5751, 'simply': 5752, 'simultaneously': 5753, 'since': 5754, 'sincere': 5755, 'sincerely': 5756, 'sing': 5757, 'single': 5758, 'sink': 5759, 'sir': 5760, 'sister': 5761, 'sit': 5762, 'site': 5763, 'sited': 5764, 'sites': 5765, 'sitting': 5766, 'situation': 5767, 'situations': 5768, 'six': 5769, 'sixth': 5770, 'sizable': 5771, 'size': 5772, 'sized': 5773, 'sizes': 5774, 'sketches': 5775, 'skill': 5776, 'skilled': 5777, 'skills': 5778, 'skin': 5779, 'skincare': 5780, 'skyline': 5781, 'skyrocket': 5782, 'sleep': 5783, 'sleeping': 5784, 'slept': 5785, 'slice': 5786, 'slide': 5787, 'slides': 5788, 'sliding': 5789, 'slightly': 5790, 'slip': 5791, 'slippers': 5792, 'slot': 5793, 'slots': 5794, 'slow': 5795, 'slurp': 5796, 'small': 5797, 'smaller': 5798, 'smallest': 5799, 'smart': 5800, 'smartphone': 5801, 'smartphones': 5802, 'smartwatches': 5803, 'smile': 5804, 'smoke': 5805, 'smooth': 5806, 'smoothly': 5807, 'snack': 5808, 'snacks': 5809, 'snap': 5810, 'sneakers': 5811, 'snob': 5812, 'snorkeling': 5813, 'so': 5814, 'soap': 5815, 'soaps': 5816, 'soaring': 5817, 'social': 5818, 'societal': 5819, 'socket': 5820, 'socks': 5821, 'sof': 5822, 'sofa': 5823, 'soft': 5824, 'software': 5825, 'softwares': 5826, 'soil': 5827, 'soju': 5828, 'sold': 5829, 'sole': 5830, 'solely': 5831, 'solid': 5832, 'solitary': 5833, 'solo': 5834, 'solution': 5835, 'solutions': 5836, 'solve': 5837, 'solving': 5838, 'some': 5839, 'somebody': 5840, 'someday': 5841, 'somehow': 5842, 'someone': 5843, 'something': 5844, 'sometime': 5845, 'sometimes': 5846, 'somewhere': 5847, 'son': 5848, 'song': 5849, 'songs': 5850, 'soon': 5851, 'sooner': 5852, 'sophisticated': 5853, 'sorry': 5854, 'sort': 5855, 'sorted': 5856, 'sorts': 5857, 'sound': 5858, 'soundbite': 5859, 'sounded': 5860, 'sounds': 5861, 'soundtrack': 5862, 'soup': 5863, 'source': 5864, 'sources': 5865, 'sous': 5866, 'southeast': 5867, 'souvenirs': 5868, 'soy': 5869, 'spa': 5870, 'space': 5871, 'spaces': 5872, 'spacious': 5873, 'spaghetti': 5874, 'spam': 5875, 'spare': 5876, 'spark': 5877, 'spas': 5878, 'speak': 5879, 'speaker': 5880, 'speakers': 5881, 'speaking': 5882, 'speaks': 5883, 'special': 5884, 'specialize': 5885, 'specialized': 5886, 'specializes': 5887, 'specialties': 5888, 'specialty': 5889, 'specific': 5890, 'specifically': 5891, 'specification': 5892, 'specifications': 5893, 'specifics': 5894, 'spectacular': 5895, 'spectrophotometer': 5896, 'spectrum': 5897, 'speed': 5898, 'speeds': 5899, 'spend': 5900, 'spending': 5901, 'spent': 5902, 'spices': 5903, 'spicy': 5904, 'spike': 5905, 'spinners': 5906, 'spinning': 5907, 'spiral': 5908, 'split': 5909, 'spoke': 5910, 'spoken': 5911, 'sponsor': 5912, 'sponsored': 5913, 'spoons': 5914, 'sports': 5915, 'spot': 5916, 'spots': 5917, 'spouse': 5918, 'sprained': 5919, 'spray': 5920, 'spread': 5921, 'spreader': 5922, 'spreading': 5923, 'spring': 5924, 'springs': 5925, 'sprout': 5926, 'sprouts': 5927, 'spyware': 5928, 'square': 5929, 'squeeze': 5930, 'squid': 5931, 'ssambap': 5932, 'ssamjang': 5933, 'st': 5934, 'stable': 5935, 'stacking': 5936, 'staff': 5937, 'staffs': 5938, 'stage': 5939, 'stages': 5940, 'staggered': 5941, 'stainless': 5942, 'stake': 5943, 'stalls': 5944, 'stand': 5945, 'standard': 5946, 'standards': 5947, 'standing': 5948, 'stands': 5949, 'star': 5950, 'starch': 5951, 'starred': 5952, 'stars': 5953, 'start': 5954, 'started': 5955, 'starters': 5956, 'starting': 5957, 'starts': 5958, 'startup': 5959, 'startups': 5960, 'state': 5961, 'stated': 5962, 'statement': 5963, 'statements': 5964, 'states': 5965, 'static': 5966, 'station': 5967, 'stationary': 5968, 'stationed': 5969, 'stations': 5970, 'statistics': 5971, 'statue': 5972, 'status': 5973, 'stay': 5974, 'stayed': 5975, 'staying': 5976, 'stays': 5977, 'steadier': 5978, 'steady': 5979, 'steak': 5980, 'steal': 5981, 'steamed': 5982, 'steamers': 5983, 'steel': 5984, 'steering': 5985, 'stems': 5986, 'step': 5987, 'stepped': 5988, 'steps': 5989, 'sterilizers': 5990, 'stew': 5991, 'stick': 5992, 'sticker': 5993, 'stickers': 5994, 'sticky': 5995, 'still': 5996, 'stipulated': 5997, 'stir': 5998, 'stitches': 5999, 'stock': 6000, 'stockbroker': 6001, 'stocks': 6002, 'stolen': 6003, 'stones': 6004, 'stop': 6005, 'stoppers': 6006, 'stops': 6007, 'storage': 6008, 'store': 6009, 'stored': 6010, 'stores': 6011, 'storey': 6012, 'stories': 6013, 'storm': 6014, 'story': 6015, 'stoves': 6016, 'straight': 6017, 'straighten': 6018, 'strain': 6019, 'strands': 6020, 'strange': 6021, 'strategic': 6022, 'strategies': 6023, 'strategize': 6024, 'strategy': 6025, 'straw': 6026, 'stream': 6027, 'streamed': 6028, 'streaming': 6029, 'street': 6030, 'strength': 6031, 'strengthen': 6032, 'stress': 6033, 'strict': 6034, 'strictly': 6035, 'strictness': 6036, 'strips': 6037, 'strive': 6038, 'striving': 6039, 'stroganoff': 6040, 'strong': 6041, 'stronger': 6042, 'strongly': 6043, 'structure': 6044, 'structures': 6045, 'struggle': 6046, 'stub': 6047, 'stuck': 6048, 'student': 6049, 'students': 6050, 'studied': 6051, 'studies': 6052, 'studio': 6053, 'study': 6054, 'studying': 6055, 'stuff': 6056, 'stumped': 6057, 'stunning': 6058, 'stupendous': 6059, 'stuttering': 6060, 'style': 6061, 'subcription': 6062, 'subdivision': 6063, 'submersible': 6064, 'submission': 6065, 'submissions': 6066, 'submit': 6067, 'submitted': 6068, 'subscribe': 6069, 'subscribed': 6070, 'subscriber': 6071, 'subscribers': 6072, 'subscribing': 6073, 'subscription': 6074, 'subscriptions': 6075, 'subsidiaries': 6076, 'subsidiary': 6077, 'substantial': 6078, 'subtitles': 6079, 'subway': 6080, 'succeed': 6081, 'succeeded': 6082, 'success': 6083, 'successful': 6084, 'succinctly': 6085, 'such': 6086, 'suction': 6087, 'sudden': 6088, 'suddenly': 6089, 'suffer': 6090, 'suffered': 6091, 'suffice': 6092, 'sufficient': 6093, 'sugar': 6094, 'suggest': 6095, 'suggested': 6096, 'suggesting': 6097, 'suggestion': 6098, 'suggestions': 6099, 'suit': 6100, 'suitable': 6101, 'suite': 6102, 'suites': 6103, 'sujeonggwa': 6104, 'sukju': 6105, 'sum': 6106, 'summary': 6107, 'summer': 6108, 'sun': 6109, 'sunrise': 6110, 'superintendent': 6111, 'superiors': 6112, 'supermarket': 6113, 'supervisor': 6114, 'supervisory': 6115, 'supplements': 6116, 'supplied': 6117, 'supplier': 6118, 'suppliers': 6119, 'supplies': 6120, 'supply': 6121, 'supplying': 6122, 'support': 6123, 'supporters': 6124, 'supporting': 6125, 'supportive': 6126, 'suppose': 6127, 'supposed': 6128, 'sure': 6129, 'surely': 6130, 'surface': 6131, 'surge': 6132, 'surpass': 6133, 'surplus': 6134, 'surprise': 6135, 'surprised': 6136, 'surround': 6137, 'surveillance': 6138, 'survey': 6139, 'surveyed': 6140, 'suspect': 6141, 'suspicious': 6142, 'sustainable': 6143, 'sweat': 6144, 'sweet': 6145, 'sweets': 6146, 'swift': 6147, 'swiftly': 6148, 'swimming': 6149, 'switch': 6150, 'switched': 6151, 'switching': 6152, 'symbols': 6153, 'symmetric': 6154, 'syndicated': 6155, 'synopsis': 6156, 'synthesizing': 6157, 'synthetic': 6158, 'syringes': 6159, 'system': 6160, 'systems': 6161, 't': 6162, 'tab': 6163, 'table': 6164, 'tables': 6165, 'tablet': 6166, 'tablets': 6167, 'tabulate': 6168, 'tackled': 6169, 'tactics': 6170, 'tagline': 6171, 'tags': 6172, 'tainted': 6173, 'take': 6174, 'taken': 6175, 'takeover': 6176, 'taker': 6177, 'takes': 6178, 'taking': 6179, 'talent': 6180, 'talents': 6181, 'talk': 6182, 'talked': 6183, 'talking': 6184, 'talks': 6185, 'tap': 6186, 'tape': 6187, 'taps': 6188, 'target': 6189, 'targeted': 6190, 'targeting': 6191, 'targets': 6192, 'tariff': 6193, 'tariffs': 6194, 'task': 6195, 'tasked': 6196, 'tasks': 6197, 'taste': 6198, 'tasted': 6199, 'tastes': 6200, 'tasty': 6201, 'tattoo': 6202, 'taught': 6203, 'tax': 6204, 'taxation': 6205, 'taxed': 6206, 'taxes': 6207, 'tea': 6208, 'teach': 6209, 'teacher': 6210, 'teachers': 6211, 'teaching': 6212, 'team': 6213, 'teammates': 6214, 'teams': 6215, 'teas': 6216, 'teaser': 6217, 'tech': 6218, 'technical': 6219, 'technically': 6220, 'technician': 6221, 'technicians': 6222, 'techniques': 6223, 'technological': 6224, 'technologies': 6225, 'technologist': 6226, 'technology': 6227, 'tedious': 6228, 'teenagers': 6229, 'telecommunication': 6230, 'telecommunications': 6231, 'teleconference': 6232, 'telephone': 6233, 'television': 6234, 'televisions': 6235, 'tell': 6236, 'telling': 6237, 'temperature': 6238, 'temperatures': 6239, 'template': 6240, 'templates': 6241, 'temple': 6242, 'temples': 6243, 'temporarily': 6244, 'temporary': 6245, 'ten': 6246, 'tenants': 6247, 'tend': 6248, 'tendency': 6249, 'tender': 6250, 'tent': 6251, 'tentative': 6252, 'tents': 6253, 'tenure': 6254, 'terabyte': 6255, 'terabytes': 6256, 'term': 6257, 'terminal': 6258, 'terminate': 6259, 'terms': 6260, 'terrace': 6261, 'terrible': 6262, 'terribly': 6263, 'test': 6264, 'tested': 6265, 'tester': 6266, 'testers': 6267, 'testing': 6268, 'tests': 6269, 'text': 6270, 'textbook': 6271, 'textbooks': 6272, 'textile': 6273, 'textiles': 6274, 'texts': 6275, 'texture': 6276, 'textures': 6277, 'th': 6278, 'than': 6279, 'thank': 6280, 'thanks': 6281, 'that': 6282, 'the': 6283, 'theater': 6284, 'their': 6285, 'theirs': 6286, 'them': 6287, 'theme': 6288, 'themes': 6289, 'themselves': 6290, 'then': 6291, 'therapy': 6292, 'there': 6293, 'thereby': 6294, 'therefore': 6295, 'thermoforming': 6296, 'thermoplastic': 6297, 'thermostat': 6298, 'these': 6299, 'they': 6300, 'thick': 6301, 'thickened': 6302, 'thin': 6303, 'thing': 6304, 'things': 6305, 'think': 6306, 'thinking': 6307, 'thinks': 6308, 'third': 6309, 'this': 6310, 'thorough': 6311, 'thoroughly': 6312, 'those': 6313, 'though': 6314, 'thought': 6315, 'thoughts': 6316, 'thousand': 6317, 'thousands': 6318, 'threads': 6319, 'threat': 6320, 'threaten': 6321, 'threatening': 6322, 'three': 6323, 'thriller': 6324, 'thrives': 6325, 'through': 6326, 'throughout': 6327, 'thus': 6328, 'ticket': 6329, 'tickets': 6330, 'tie': 6331, 'tied': 6332, 'tier': 6333, 'tight': 6334, 'tightly': 6335, 'till': 6336, 'time': 6337, 'timeline': 6338, 'timelines': 6339, 'timely': 6340, 'timer': 6341, 'times': 6342, 'timespan': 6343, 'timetable': 6344, 'timing': 6345, 'tiny': 6346, 'tip': 6347, 'tipping': 6348, 'tips': 6349, 'tire': 6350, 'tissue': 6351, 'title': 6352, 'to': 6353, 'toast': 6354, 'toasters': 6355, 'tobacco': 6356, 'today': 6357, 'toddlers': 6358, 'toe': 6359, 'together': 6360, 'toilet': 6361, 'token': 6362, 'tokens': 6363, 'told': 6364, 'tolerant': 6365, 'tolerated': 6366, 'tomorrow': 6367, 'ton': 6368, 'tone': 6369, 'toner': 6370, 'tones': 6371, 'tonight': 6372, 'too': 6373, 'took': 6374, 'tool': 6375, 'tools': 6376, 'top': 6377, 'topic': 6378, 'topics': 6379, 'topmost': 6380, 'torn': 6381, 'tortilla': 6382, 'total': 6383, 'totally': 6384, 'touch': 6385, 'touchscreen': 6386, 'tough': 6387, 'tour': 6388, 'tourism': 6389, 'tourist': 6390, 'tourists': 6391, 'tours': 6392, 'tow': 6393, 'toward': 6394, 'towards': 6395, 'towel': 6396, 'towels': 6397, 'town': 6398, 'townhouse': 6399, 'track': 6400, 'trackballs': 6401, 'tracking': 6402, 'trackpad': 6403, 'tractor': 6404, 'trade': 6405, 'trademark': 6406, 'trader': 6407, 'trades': 6408, 'trading': 6409, 'traditional': 6410, 'traditionally': 6411, 'traditions': 6412, 'traffic': 6413, 'trailer': 6414, 'trailers': 6415, 'train': 6416, 'training': 6417, 'trainings': 6418, 'trains': 6419, 'tranche': 6420, 'transact': 6421, 'transaction': 6422, 'transactions': 6423, 'transfer': 6424, 'transferred': 6425, 'transferring': 6426, 'transfers': 6427, 'translations': 6428, 'translators': 6429, 'transmission': 6430, 'transmit': 6431, 'transmitted': 6432, 'transparency': 6433, 'transport': 6434, 'transportation': 6435, 'transportations': 6436, 'trash': 6437, 'travel': 6438, 'traveled': 6439, 'travelers': 6440, 'traveling': 6441, 'travelled': 6442, 'tread': 6443, 'treat': 6444, 'treated': 6445, 'treatment': 6446, 'treatments': 6447, 'tremendously': 6448, 'trend': 6449, 'trending': 6450, 'trends': 6451, 'trendy': 6452, 'tri': 6453, 'trial': 6454, 'trials': 6455, 'tricky': 6456, 'tried': 6457, 'tries': 6458, 'trigger': 6459, 'trip': 6460, 'triple': 6461, 'trips': 6462, 'trouble': 6463, 'troubles': 6464, 'troubleshooting': 6465, 'truck': 6466, 'trucks': 6467, 'true': 6468, 'truly': 6469, 'trust': 6470, 'trusted': 6471, 'trustee': 6472, 'trusting': 6473, 'trustworthy': 6474, 'truth': 6475, 'try': 6476, 'trying': 6477, 'tteokbokki': 6478, 'tub': 6479, 'tube': 6480, 'tubes': 6481, 'tubing': 6482, 'tubs': 6483, 'tuned': 6484, 'tunnels': 6485, 'turn': 6486, 'turnaround': 6487, 'turned': 6488, 'turning': 6489, 'turnkey': 6490, 'turns': 6491, 'tutorials': 6492, 'tweaks': 6493, 'twenty': 6494, 'twice': 6495, 'twin': 6496, 'two': 6497, 'type': 6498, 'types': 6499, 'typewriter': 6500, 'typical': 6501, 'typically': 6502, 'ultimately': 6503, 'ultrasonic': 6504, 'ultrasound': 6505, 'umbrella': 6506, 'unable': 6507, 'unacceptable': 6508, 'unauthorized': 6509, 'unavailable': 6510, 'unaware': 6511, 'unboxed': 6512, 'unboxing': 6513, 'unbreakable': 6514, 'unchanged': 6515, 'uncomfortable': 6516, 'under': 6517, 'undergoing': 6518, 'underlying': 6519, 'underneath': 6520, 'underreported': 6521, 'understaffed': 6522, 'understand': 6523, 'understandable': 6524, 'understanding': 6525, 'undervalued': 6526, 'underwriting': 6527, 'undoubtedly': 6528, 'undress': 6529, 'unemployed': 6530, 'unending': 6531, 'unequal': 6532, 'unexpected': 6533, 'unfair': 6534, 'unfamiliar': 6535, 'unfold': 6536, 'unforeseen': 6537, 'unfortunate': 6538, 'unfortunately': 6539, 'unhappy': 6540, 'unintentional': 6541, 'unique': 6542, 'unit': 6543, 'units': 6544, 'unity': 6545, 'universal': 6546, 'universities': 6547, 'university': 6548, 'unless': 6549, 'unlike': 6550, 'unlimited': 6551, 'unloading': 6552, 'unnecessary': 6553, 'unpleasant': 6554, 'unpredictable': 6555, 'unprofessional': 6556, 'unquantifiable': 6557, 'unrealized': 6558, 'unsecured': 6559, 'unstable': 6560, 'unsure': 6561, 'unsustainable': 6562, 'until': 6563, 'untouched': 6564, 'unused': 6565, 'up': 6566, 'upcoming': 6567, 'update': 6568, 'updated': 6569, 'updates': 6570, 'updating': 6571, 'upfront': 6572, 'upgrade': 6573, 'upgraded': 6574, 'upgrades': 6575, 'upgrading': 6576, 'upkeep': 6577, 'upload': 6578, 'uploaded': 6579, 'uploading': 6580, 'upon': 6581, 'upper': 6582, 'ups': 6583, 'upset': 6584, 'urge': 6585, 'urged': 6586, 'urgent': 6587, 'urgently': 6588, 'us': 6589, 'usability': 6590, 'usage': 6591, 'use': 6592, 'used': 6593, 'useful': 6594, 'user': 6595, 'users': 6596, 'uses': 6597, 'using': 6598, 'usual': 6599, 'usually': 6600, 'utensils': 6601, 'utilities': 6602, 'utility': 6603, 'utilize': 6604, 'utilized': 6605, 'utilizing': 6606, 'vacation': 6607, 'vaccination': 6608, 'vaccine': 6609, 'vacuum': 6610, 'valid': 6611, 'validates': 6612, 'validating': 6613, 'validity': 6614, 'valuable': 6615, 'valuables': 6616, 'value': 6617, 'values': 6618, 'valve': 6619, 'valves': 6620, 'van': 6621, 'vans': 6622, 'variable': 6623, 'variables': 6624, 'variation': 6625, 'varies': 6626, 'varieties': 6627, 'variety': 6628, 'various': 6629, 'vary': 6630, 'varying': 6631, 've': 6632, 'vector': 6633, 'vectors': 6634, 'vegan': 6635, 'vegetable': 6636, 'vegetables': 6637, 'vegetarian': 6638, 'veggies': 6639, 'vehicle': 6640, 'vehicles': 6641, 'vending': 6642, 'vendor': 6643, 'vendors': 6644, 'venture': 6645, 'ventures': 6646, 'venturi': 6647, 'venturing': 6648, 'venue': 6649, 'verification': 6650, 'verified': 6651, 'verify': 6652, 'versatile': 6653, 'version': 6654, 'versions': 6655, 'very': 6656, 'veteran': 6657, 'via': 6658, 'viable': 6659, 'viand': 6660, 'vibes': 6661, 'vibrations': 6662, 'victim': 6663, 'vide': 6664, 'video': 6665, 'videoconferencing': 6666, 'videos': 6667, 'view': 6668, 'viewers': 6669, 'views': 6670, 'villa': 6671, 'village': 6672, 'villas': 6673, 'vine': 6674, 'vinegar': 6675, 'vintage': 6676, 'violated': 6677, 'violation': 6678, 'violent': 6679, 'viral': 6680, 'virtual': 6681, 'virtualization': 6682, 'virtually': 6683, 'virus': 6684, 'viruses': 6685, 'visas': 6686, 'viscosity': 6687, 'visibility': 6688, 'visible': 6689, 'vision': 6690, 'visit': 6691, 'visited': 6692, 'visiting': 6693, 'visitors': 6694, 'visits': 6695, 'visual': 6696, 'visualization': 6697, 'visualizations': 6698, 'visualize': 6699, 'visually': 6700, 'visuals': 6701, 'vital': 6702, 'vitals': 6703, 'vlog': 6704, 'vocabulary': 6705, 'voice': 6706, 'volatile': 6707, 'volume': 6708, 'voluminous': 6709, 'vulnerable': 6710, 'wafer': 6711, 'wage': 6712, 'wages': 6713, 'wait': 6714, 'waited': 6715, 'waiters': 6716, 'waiting': 6717, 'waive': 6718, 'waived': 6719, 'wake': 6720, 'walk': 6721, 'walking': 6722, 'wallet': 6723, 'wallpapers': 6724, 'walls': 6725, 'want': 6726, 'wanted': 6727, 'wanting': 6728, 'wants': 6729, 'warehouse': 6730, 'warm': 6731, 'warn': 6732, 'warning': 6733, 'warping': 6734, 'warrant': 6735, 'warrants': 6736, 'warranty': 6737, 'wary': 6738, 'was': 6739, 'washer': 6740, 'washers': 6741, 'wasn': 6742, 'waste': 6743, 'wasting': 6744, 'watch': 6745, 'watched': 6746, 'watching': 6747, 'water': 6748, 'watering': 6749, 'watermelon': 6750, 'waterproof': 6751, 'waterways': 6752, 'watts': 6753, 'way': 6754, 'ways': 6755, 'we': 6756, 'wealth': 6757, 'wealthy': 6758, 'wear': 6759, 'weather': 6760, 'web': 6761, 'webinar': 6762, 'webinars': 6763, 'webpage': 6764, 'website': 6765, 'websites': 6766, 'wedding': 6767, 'weddings': 6768, 'week': 6769, 'weekdays': 6770, 'weekend': 6771, 'weekends': 6772, 'weekly': 6773, 'weeks': 6774, 'weight': 6775, 'welcome': 6776, 'welcomes': 6777, 'well': 6778, 'went': 6779, 'were': 6780, 'weren': 6781, 'west': 6782, 'western': 6783, 'what': 6784, 'whatever': 6785, 'wheat': 6786, 'wheel': 6787, 'wheels': 6788, 'when': 6789, 'whenever': 6790, 'where': 6791, 'whereabouts': 6792, 'wherever': 6793, 'whether': 6794, 'which': 6795, 'while': 6796, 'white': 6797, 'who': 6798, 'whoever': 6799, 'whole': 6800, 'wholesale': 6801, 'whom': 6802, 'whose': 6803, 'why': 6804, 'wide': 6805, 'widely': 6806, 'widened': 6807, 'wider': 6808, 'widest': 6809, 'wife': 6810, 'wild': 6811, 'wildlife': 6812, 'will': 6813, 'willing': 6814, 'win': 6815, 'wind': 6816, 'window': 6817, 'windows': 6818, 'wine': 6819, 'wines': 6820, 'wing': 6821, 'winner': 6822, 'winter': 6823, 'wipe': 6824, 'wire': 6825, 'wired': 6826, 'wireless': 6827, 'wires': 6828, 'wise': 6829, 'wisely': 6830, 'wish': 6831, 'wished': 6832, 'wishes': 6833, 'with': 6834, 'withdraw': 6835, 'withdrawal': 6836, 'withhold': 6837, 'within': 6838, 'without': 6839, 'witness': 6840, 'women': 6841, 'won': 6842, 'wonder': 6843, 'wonderful': 6844, 'wondering': 6845, 'wonders': 6846, 'wood': 6847, 'word': 6848, 'words': 6849, 'work': 6850, 'worked': 6851, 'worker': 6852, 'workers': 6853, 'workforce': 6854, 'working': 6855, 'workplace': 6856, 'works': 6857, 'workshop': 6858, 'world': 6859, 'worldwide': 6860, 'worm': 6861, 'worms': 6862, 'worried': 6863, 'worries': 6864, 'worry': 6865, 'worrying': 6866, 'worse': 6867, 'worst': 6868, 'worth': 6869, 'worthwhile': 6870, 'worthy': 6871, 'would': 6872, 'wouldn': 6873, 'wow': 6874, 'wrap': 6875, 'wrapping': 6876, 'wraps': 6877, 'write': 6878, 'writers': 6879, 'writing': 6880, 'written': 6881, 'wrong': 6882, 'yacht': 6883, 'yang': 6884, 'yard': 6885, 'yarn': 6886, 'year': 6887, 'yearly': 6888, 'years': 6889, 'yell': 6890, 'yellow': 6891, 'yen': 6892, 'yes': 6893, 'yesterday': 6894, 'yet': 6895, 'yield': 6896, 'yields': 6897, 'yin': 6898, 'yo': 6899, 'you': 6900, 'young': 6901, 'youngsters': 6902, 'your': 6903, 'yours': 6904, 'yourself': 6905, 'yourselves': 6906, 'youth': 6907, 'yurt': 6908, 'zero': 6909, 'zones': 6910, 'zoom': 6911, 'é': 6912}\n",
            "{'!': 1, ',': 2, '<EOS>': 3, '<SOS>': 4, '?': 5, 'A': 6, 'AAA': 7, 'AAA1@BBB1.com': 8, 'AAA@BBB.com': 9, 'ABCDE': 10, 'AI': 11, 'ANR': 12, 'ATM': 13, 'Associates': 14, 'B': 15, 'BBB': 16, 'BBB@email.com': 17, 'BSE': 18, 'Bank': 19, 'C': 20, 'CCTV': 21, 'CEO': 22, 'CFM': 23, 'CMS': 24, 'COVID': 25, 'CSS': 26, 'CT': 27, 'Company': 28, 'Corporation': 29, 'D': 30, 'DCA': 31, 'DVR': 32, 'Drive': 33, 'E': 34, 'EOB': 35, 'EPP': 36, 'ESG': 37, 'ETF': 38, 'EVA': 39, 'Enter': 40, 'Expo': 41, 'FFF': 42, 'FFFF': 43, 'FOMO': 44, 'Fair': 45, 'Fi': 46, 'Food': 47, 'Fu': 48, 'G': 49, 'GB': 50, 'GPS': 51, 'GVWR': 52, 'HDD': 53, 'HTML': 54, 'ID': 55, 'IP': 56, 'IPO': 57, 'IT': 58, 'IVR': 59, 'IaaS': 60, 'International': 61, 'IoT': 62, 'JLPT': 63, 'K': 64, 'Kabsat': 65, 'Korea': 66, 'LED': 67, 'Limited': 68, 'Locust': 69, 'M': 70, 'MAR': 71, 'MMS': 72, 'MOU': 73, 'Medical': 74, 'NFT': 75, 'NI': 76, 'NSE': 77, 'NTFS': 78, 'PDA': 79, 'PDF': 80, 'PPE': 81, 'PRO': 82, 'PSA': 83, 'PVP': 84, 'Precision': 85, 'Private': 86, 'QR': 87, 'RAM': 88, 'ROI': 89, 'RV': 90, 'SD': 91, 'SEO': 92, 'SIM': 93, 'SKU': 94, 'SNS': 95, 'SPV': 96, 'SSD': 97, 'SSL': 98, 'Salalah': 99, 'South': 100, 'TPU': 101, 'TV': 102, 'Touch': 103, 'UI': 104, 'UN': 105, 'USB': 106, 'VC': 107, 'VIP': 108, 'VPN': 109, 'VR': 110, 'VVIP': 111, 'View': 112, 'WIFI': 113, 'WTO': 114, 'Web': 115, 'Wi': 116, 'by': 117, 'car': 118, 'cm': 119, 'demat': 120, 'e': 121, 'found': 122, 'km': 123, 'm': 124, 'mm': 125, 'mmHg': 126, 'not': 127, 'pdf': 128, 'x': 129, '㎡': 130, '가': 131, '가게': 132, '가격': 133, '가격표': 134, '가공': 135, '가교': 136, '가구': 137, '가급적': 138, '가기': 139, '가까워지다': 140, '가까이': 141, '가깝다': 142, '가꾸다': 143, '가끔': 144, '가능': 145, '가능성': 146, '가능하다': 147, '가다': 148, '가닥': 149, '가득': 150, '가득하다': 151, '가든': 152, '가령': 153, '가로': 154, '가르다': 155, '가르치다': 156, '가리키다': 157, '가면': 158, '가미': 159, '가변': 160, '가볍다': 161, '가보다': 162, '가상': 163, '가상화': 164, '가세': 165, '가소성': 166, '가솔린': 167, '가스': 168, '가스나': 169, '가스레인지': 170, '가슴': 171, '가시': 172, '가야': 173, '가열': 174, '가옥': 175, '가요': 176, '가용성': 177, '가을': 178, '가의': 179, '가이드': 180, '가이드북': 181, '가입': 182, '가입자': 183, '가장': 184, '가전': 185, '가전제품': 186, '가정': 187, '가정식': 188, '가젯': 189, '가져가다': 190, '가져다주다': 191, '가져오다': 192, '가족': 193, '가지': 194, '가지다': 195, '가차': 196, '가치': 197, '가판': 198, '각': 199, '각각': 200, '각국': 201, '각도': 202, '각본': 203, '각서': 204, '각자': 205, '각종': 206, '간': 207, '간격': 208, '간결하다': 209, '간과': 210, '간극': 211, '간단하다': 212, '간략하다': 213, '간사': 214, '간은': 215, '간의': 216, '간이며': 217, '간장': 218, '간접비': 219, '간주': 220, '간행물': 221, '간호사': 222, '갇히다': 223, '갈다': 224, '갈래': 225, '갈비': 226, '갈아타다': 227, '감': 228, '감당': 229, '감독': 230, '감동': 231, '감명': 232, '감사': 233, '감사하다': 234, '감소': 235, '감수': 236, '감시': 237, '감싸다': 238, '감안': 239, '감염': 240, '감정': 241, '감지': 242, '갑자기': 243, '갑작스럽다': 244, '값': 245, '갓': 246, '강남': 247, '강남역': 248, '강도': 249, '강력하다': 250, '강릉': 251, '강세': 252, '강아지': 253, '강연': 254, '강의': 255, '강의실': 256, '강점': 257, '강제': 258, '강조': 259, '강좌': 260, '강철': 261, '강하다': 262, '강화하다': 263, '갖다': 264, '갖추다': 265, '같다': 266, '같이': 267, '갚다': 268, '개': 269, '개구': 270, '개국': 271, '개념': 272, '개다': 273, '개도': 274, '개발': 275, '개발자': 276, '개방': 277, '개별': 278, '개봉': 279, '개선': 280, '개설': 281, '개시': 282, '개업': 283, '개요': 284, '개월': 285, '개월치': 286, '개인': 287, '개인실': 288, '개인정보': 289, '개인화': 290, '개입': 291, '개정': 292, '개조': 293, '개척': 294, '개체': 295, '개최': 296, '개회': 297, '객': 298, '객관': 299, '객실': 300, '갱신': 301, '거': 302, '거고': 303, '거기': 304, '거나': 305, '거대하다': 306, '거도': 307, '거들다': 308, '거뜬하다': 309, '거란': 310, '거래': 311, '거래소': 312, '거래처': 313, '거론': 314, '거리': 315, '거버넌스': 316, '거부': 317, '거셨나': 318, '거슬러': 319, '거신': 320, '거실': 321, '거야': 322, '거의': 323, '거절': 324, '거점': 325, '거주': 326, '거주지': 327, '거처': 328, '거치다': 329, '거품': 330, '걱정': 331, '걱정거리': 332, '건': 333, '건가': 334, '건강': 335, '건강하다': 336, '건너다': 337, '건너편': 338, '건네주다': 339, '건대': 340, '건물': 341, '건배': 342, '건설': 343, '건설업': 344, '건의': 345, '건조기': 346, '건지다': 347, '건축': 348, '건축물': 349, '걸': 350, '걸다': 351, '걸리다': 352, '걸음걸이': 353, '걸쭉하다': 354, '걸치다': 355, '검': 356, '검다': 357, '검사': 358, '검색': 359, '검수': 360, '검안': 361, '검은색': 362, '검증': 363, '검토': 364, '겁': 365, '겁니다': 366, '것': 367, '것이므': 368, '것입': 369, '게': 370, '게다가': 371, '게스트': 372, '게스트하우스': 373, '게시': 374, '게시판': 375, '게으르다': 376, '게이': 377, '게이트': 378, '게임': 379, '게장': 380, '게재': 381, '겠다': 382, '겨울': 383, '겨울철': 384, '격려': 385, '격식': 386, '격자': 387, '겪다': 388, '견과류': 389, '견본': 390, '견인차': 391, '견적': 392, '견학': 393, '결과': 394, '결국': 395, '결기': 396, '결론': 397, '결절': 398, '결정': 399, '결제': 400, '결코': 401, '결함': 402, '결합': 403, '결혼': 404, '결혼식': 405, '경': 406, '경고': 407, '경과': 408, '경기도': 409, '경량': 410, '경력': 411, '경로': 412, '경보': 413, '경비원': 414, '경시': 415, '경영': 416, '경우': 417, '경의': 418, '경작': 419, '경쟁': 420, '경쟁력': 421, '경쟁자': 422, '경제': 423, '경청': 424, '경치': 425, '경품': 426, '경향': 427, '경험': 428, '곁들이다': 429, '계란': 430, '계란빵': 431, '계란찜': 432, '계산': 433, '계산서': 434, '계세': 435, '계속': 436, '계시': 437, '계시다': 438, '계약': 439, '계약금': 440, '계약서': 441, '계열': 442, '계절': 443, '계정': 444, '계정은': 445, '계좌': 446, '계층': 447, '계획': 448, '고': 449, '고가': 450, '고개': 451, '고객': 452, '고구마': 453, '고귀하다': 454, '고급': 455, '고급스럽다': 456, '고기': 457, '고대': 458, '고도': 459, '고등어': 460, '고려': 461, '고려인삼': 462, '고르다': 463, '고맙다': 464, '고문': 465, '고민': 466, '고소하다': 467, '고속': 468, '고압': 469, '고양이': 470, '고여': 471, '고요': 472, '고용': 473, '고용주': 474, '고위': 475, '고유': 476, '고장': 477, '고정': 478, '고정기': 479, '고집': 480, '고추장': 481, '고치다': 482, '고통': 483, '고프다': 484, '고향': 485, '고화질': 486, '곡': 487, '곡물': 488, '곤경': 489, '곤혹': 490, '곧': 491, '곧다': 492, '골드': 493, '골프': 494, '곰팡이': 495, '곱': 496, '곳': 497, '곳곳': 498, '곳도': 499, '공': 500, '공간': 501, '공감': 502, '공개': 503, '공격': 504, '공공': 505, '공과금': 506, '공급': 507, '공기': 508, '공기업': 509, '공동': 510, '공동체': 511, '공략': 512, '공모': 513, '공백': 514, '공부': 515, '공사': 516, '공식': 517, '공압': 518, '공연': 519, '공용': 520, '공유': 521, '공인': 522, '공자': 523, '공장': 524, '공정': 525, '공정하다': 526, '공제': 527, '공지': 528, '공짜': 529, '공통': 530, '공통점': 531, '공학': 532, '공함': 533, '공항': 534, '과': 535, '과감': 536, '과거': 537, '과대': 538, '과세': 539, '과소': 540, '과실': 541, '과업': 542, '과일': 543, '과자': 544, '과장': 545, '과정': 546, '과제': 547, '과학': 548, '과학자': 549, '관': 550, '관계': 551, '관계없이': 552, '관광': 553, '관광객': 554, '관광지': 555, '관대하다': 556, '관련': 557, '관리': 558, '관리자': 559, '관세': 560, '관세청': 561, '관습': 562, '관심': 563, '관심사': 564, '관용': 565, '관점': 566, '관찰': 567, '관할': 568, '관해': 569, '관행': 570, '괌': 571, '광': 572, '광고': 573, '광대역': 574, '광도': 575, '광범위하다': 576, '광석': 577, '광택': 578, '괜': 579, '괜찮다': 580, '괴롭히다': 581, '굉장하다': 582, '교대': 583, '교류': 584, '교사': 585, '교수': 586, '교실': 587, '교육': 588, '교재': 589, '교직원': 590, '교체': 591, '교통': 592, '교환': 593, '교환학생': 594, '교훈': 595, '구': 596, '구가': 597, '구경': 598, '구독': 599, '구독료': 600, '구동': 601, '구름': 602, '구매': 603, '구별': 604, '구비': 605, '구상': 606, '구석구석': 607, '구성': 608, '구역': 609, '구이': 610, '구입': 611, '구절판': 612, '구조': 613, '구조원': 614, '구체': 615, '구축': 616, '구축함': 617, '구현': 618, '구형': 619, '국': 620, '국가': 621, '국경': 622, '국내': 623, '국내선': 624, '국내외': 625, '국물': 626, '국법': 627, '국수': 628, '국적': 629, '국제': 630, '국제공항': 631, '국한': 632, '군데': 633, '굴삭기': 634, '굴착기': 635, '굵다': 636, '굽다': 637, '궁궐': 638, '궁극': 639, '궁금하다': 640, '권': 641, '권리': 642, '권장': 643, '권하다': 644, '권한': 645, '귀': 646, '귀국': 647, '귀사': 648, '귀중': 649, '귀중하다': 650, '귀하': 651, '귀하다': 652, '규모': 653, '규정': 654, '규제': 655, '규칙': 656, '균열': 657, '균형': 658, '그': 659, '그거': 660, '그건': 661, '그걸': 662, '그걿': 663, '그것': 664, '그게': 665, '그날': 666, '그냥': 667, '그녀': 668, '그늘': 669, '그다음': 670, '그대로': 671, '그동안': 672, '그때': 673, '그땐': 674, '그라브락스': 675, '그래도': 676, '그래서': 677, '그래프': 678, '그래픽': 679, '그러니까': 680, '그러면': 681, '그러하다': 682, '그렇게': 683, '그렇다': 684, '그룹': 685, '그릇': 686, '그리다': 687, '그리스': 688, '그린': 689, '그릴': 690, '그림': 691, '그만하다': 692, '그저': 693, '그중': 694, '극구': 695, '극복': 696, '극장': 697, '극적': 698, '근거': 699, '근데': 700, '근로자': 701, '근무': 702, '근원': 703, '근접하다': 704, '근처': 705, '글': 706, '글꼴': 707, '글로벌': 708, '글루텐': 709, '글쎄': 710, '글쎄요': 711, '글씨': 712, '금': 713, '금기': 714, '금년': 715, '금리': 716, '금색': 717, '금속': 718, '금액': 719, '금요일': 720, '금융': 721, '금융감독원': 722, '금은': 723, '금전': 724, '금제': 725, '금지': 726, '급': 727, '급등': 728, '급성': 729, '급여': 730, '급우': 731, '급증': 732, '급하다': 733, '긍정': 734, '기': 735, '기가바이트': 736, '기간': 737, '기계': 738, '기공식': 739, '기관': 740, '기구': 741, '기금': 742, '기기': 743, '기꺼이': 744, '기념': 745, '기념일': 746, '기능': 747, '기다': 748, '기다리다': 749, '기대': 750, '기대하다': 751, '기도': 752, '기둥': 753, '기록': 754, '기르다': 755, '기밀': 756, '기반': 757, '기본': 758, '기부': 759, '기분': 760, '기쁘다': 761, '기사': 762, '기숙사': 763, '기술': 764, '기술자': 765, '기어': 766, '기억': 767, '기억나다': 768, '기업': 769, '기업가': 770, '기업은행': 771, '기업인': 772, '기에': 773, '기여': 774, '기온': 775, '기와': 776, '기울이다': 777, '기원': 778, '기입': 779, '기자': 780, '기재': 781, '기적': 782, '기존': 783, '기준': 784, '기중기': 785, '기차': 786, '기차역': 787, '기차표': 788, '기초': 789, '기타': 790, '기표': 791, '기한': 792, '기호': 793, '기혼': 794, '기회': 795, '기획': 796, '기후변화': 797, '긴급': 798, '긴급하다': 799, '긴밀하다': 800, '길': 801, '길다': 802, '길어지다': 803, '길이': 804, '김': 805, '김밥': 806, '김치': 807, '김치볶음밥': 808, '깊다': 809, '깊이': 810, '까다롭다': 811, '까맣다': 812, '까지': 813, '까지의': 814, '깔끔하다': 815, '깔리다': 816, '깜박이다': 817, '깜빡': 818, '깜짝': 819, '깨끗하다': 820, '깨다': 821, '깨우치다': 822, '깨지다': 823, '깻잎': 824, '꺼내다': 825, '꺼지다': 826, '꼭': 827, '꼼꼼하다': 828, '꽉': 829, '꽤': 830, '꾸미다': 831, '꾸준하다': 832, '꿀': 833, '꿈': 834, '꿰매다': 835, '끄다': 836, '끊다': 837, '끌': 838, '끌다': 839, '끌리다': 840, '끓는점': 841, '끓다': 842, '끓이다': 843, '끔찍하다': 844, '끝': 845, '끝나다': 846, '끝내기': 847, '끝내다': 848, '끼치다': 849, '나': 850, '나가다': 851, '나나': 852, '나누다': 853, '나뉘다': 854, '나다': 855, '나라': 856, '나르다': 857, '나머지': 858, '나무': 859, '나빠지다': 860, '나쁘다': 861, '나사': 862, '나서다': 863, '나아': 864, '나아가다': 865, '나아지다': 866, '나열': 867, '나오다': 868, '나은': 869, '나은지': 870, '나이': 871, '나이라': 872, '나이지리아': 873, '나이트클럽': 874, '나일론': 875, '나중': 876, '나타나다': 877, '나타내다': 878, '나흘': 879, '난': 880, '난방': 881, '난이도': 882, '날': 883, '날리다': 884, '날씨': 885, '날아가다': 886, '날짜': 887, '날카로워지다': 888, '남기다': 889, '남다': 890, '남동쪽': 891, '남미': 892, '남성': 893, '남아': 894, '남아시아': 895, '남용': 896, '남지': 897, '남편': 898, '납부': 899, '납품': 900, '낫': 901, '낫다': 902, '낭비': 903, '낭비하다': 904, '낮다': 905, '낮아지다': 906, '낮잠': 907, '낮추다': 908, '낯설다': 909, '내': 910, '내기': 911, '내내': 912, '내년': 913, '내놓다': 914, '내다': 915, '내려가다': 916, '내려오다': 917, '내리다': 918, '내면': 919, '내미다': 920, '내부': 921, '내시': 922, '내야': 923, '내연': 924, '내용': 925, '내일': 926, '내장': 927, '내주다': 928, '내지': 929, '낸싱': 930, '낼': 931, '냄비': 932, '냅킨': 933, '냉각': 934, '냉동고': 935, '냉면': 936, '냉장': 937, '너': 938, '너무': 939, '너무나': 940, '너무하다': 941, '너비': 942, '너희': 943, '널': 944, '널리': 945, '넓다': 946, '넓히다': 947, '넘기다': 948, '넘다': 949, '넘버': 950, '넘어가다': 951, '넘어서다': 952, '넘어지다': 953, '넘치다': 954, '넣기': 955, '넣다': 956, '네': 957, '네가지': 958, '네트워크': 959, '네트워킹': 960, '넷째': 961, '년': 962, '노': 963, '노고': 964, '노동자': 965, '노란색': 966, '노래': 967, '노래방': 968, '노력': 969, '노인': 970, '노점': 971, '노출': 972, '노트북': 973, '노프': 974, '녹색': 975, '녹음': 976, '녹이다': 977, '녹차': 978, '녹화': 979, '논란': 980, '논문': 981, '논의': 982, '논픽션': 983, '놀': 984, '놀라다': 985, '놀랍다': 986, '놀이터': 987, '농': 988, '농기': 989, '농기구': 990, '농담': 991, '농부': 992, '농어': 993, '농업': 994, '농작물': 995, '높다': 996, '높아지다': 997, '높이': 998, '높이다': 999, '놓다': 1000, '놓이다': 1001, '놓치다': 1002, '뇌파': 1003, '누가': 1004, '누구': 1005, '누구신지': 1006, '누군가': 1007, '누군지': 1008, '누락': 1009, '누르다': 1010, '누리': 1011, '누리다': 1012, '누수': 1013, '눈': 1014, '눌릴': 1015, '뉴스': 1016, '뉴스레터': 1017, '뉴욕': 1018, '뉴질랜드': 1019, '느껴지다': 1020, '느끼다': 1021, '느낌': 1022, '느리다': 1023, '느슨하다': 1024, '늘': 1025, '늘다': 1026, '늘리다': 1027, '늘어나다': 1028, '늙다': 1029, '능력': 1030, '늦': 1031, '늦다': 1032, '늦어지다': 1033, '니': 1034, '님': 1035, '다': 1036, '다가': 1037, '다가가다': 1038, '다가오다': 1039, '다국적': 1040, '다녀오다': 1041, '다년': 1042, '다니다': 1043, '다단계': 1044, '다도': 1045, '다듬다': 1046, '다량': 1047, '다루다': 1048, '다루어지다': 1049, '다르다': 1050, '다른': 1051, '다리미': 1052, '다만': 1053, '다섯': 1054, '다섯째': 1055, '다소': 1056, '다시': 1057, '다시다': 1058, '다양성': 1059, '다양하다': 1060, '다용': 1061, '다운': 1062, '다운로드': 1063, '다음': 1064, '다음주': 1065, '다이닝': 1066, '다인': 1067, '다채로웠으': 1068, '다큐멘터리': 1069, '다해': 1070, '다행': 1071, '다행하다': 1072, '단': 1073, '단가': 1074, '단거리': 1075, '단계': 1076, '단골': 1077, '단기': 1078, '단기간': 1079, '단단하다': 1080, '단독': 1081, '단돈': 1082, '단말기': 1083, '단백질': 1084, '단순하다': 1085, '단어': 1086, '단열': 1087, '단위': 1088, '단일': 1089, '단점': 1090, '단정하다': 1091, '단지': 1092, '단체': 1093, '단편': 1094, '단합': 1095, '닫다': 1096, '달': 1097, '달다': 1098, '달라': 1099, '달라지다': 1100, '달러': 1101, '달리': 1102, '달리다': 1103, '달성': 1104, '달이': 1105, '달콤하다': 1106, '닭': 1107, '닭고기': 1108, '닭발': 1109, '담': 1110, '담그다': 1111, '담기다': 1112, '담다': 1113, '담당': 1114, '담당자': 1115, '담배': 1116, '담백하다': 1117, '담보': 1118, '답': 1119, '답니': 1120, '답답하다': 1121, '답변': 1122, '답장': 1123, '답지': 1124, '당': 1125, '당국': 1126, '당근': 1127, '당분간': 1128, '당사': 1129, '당사자': 1130, '당시': 1131, '당신': 1132, '당연하다': 1133, '당일': 1134, '당장': 1135, '당하다': 1136, '당황': 1137, '대': 1138, '대가': 1139, '대고': 1140, '대구': 1141, '대규모': 1142, '대금': 1143, '대기': 1144, '대기업': 1145, '대나무': 1146, '대다': 1147, '대다수': 1148, '대단하다': 1149, '대답': 1150, '대략': 1151, '대량': 1152, '대로': 1153, '대륙': 1154, '대리인': 1155, '대리점': 1156, '대만': 1157, '대박': 1158, '대본': 1159, '대부분': 1160, '대비': 1161, '대상': 1162, '대상자': 1163, '대신': 1164, '대안': 1165, '대야': 1166, '대여': 1167, '대역': 1168, '대역폭': 1169, '대요': 1170, '대유행': 1171, '대응': 1172, '대의': 1173, '대입': 1174, '대적': 1175, '대접': 1176, '대중': 1177, '대지': 1178, '대책': 1179, '대처': 1180, '대체': 1181, '대출': 1182, '대출받다': 1183, '대충': 1184, '대치': 1185, '대칭': 1186, '대통령': 1187, '대폭': 1188, '대표': 1189, '대피소': 1190, '대학': 1191, '대학교': 1192, '대한': 1193, '대한민국': 1194, '대해': 1195, '대행': 1196, '대형': 1197, '대화': 1198, '댓글': 1199, '더': 1200, '더듬다': 1201, '더디다': 1202, '더라도': 1203, '더블': 1204, '더욱': 1205, '더위': 1206, '더하다': 1207, '덕분': 1208, '덜': 1209, '덜다': 1210, '덤프': 1211, '덤프트럭': 1212, '덥다': 1213, '덧붙이다': 1214, '덩굴': 1215, '데': 1216, '데도': 1217, '데려가다': 1218, '데려오다': 1219, '데리': 1220, '데리다': 1221, '데모': 1222, '데뷔': 1223, '데스크': 1224, '데스크탑': 1225, '데우다': 1226, '데이터': 1227, '데이터베이스': 1228, '데이트': 1229, '데코': 1230, '데크': 1231, '덴마크': 1232, '도': 1233, '도구': 1234, '도넛': 1235, '도달': 1236, '도대체': 1237, '도로': 1238, '도록': 1239, '도르다': 1240, '도매': 1241, '도메인': 1242, '도서관': 1243, '도시': 1244, '도시락': 1245, '도안': 1246, '도어': 1247, '도와주다': 1248, '도용': 1249, '도우': 1250, '도우미': 1251, '도울': 1252, '도움': 1253, '도움말': 1254, '도입': 1255, '도전': 1256, '도착': 1257, '도체': 1258, '도쿄': 1259, '독립': 1260, '독방': 1261, '독일': 1262, '독자': 1263, '독점': 1264, '독촉': 1265, '독특하다': 1266, '돈': 1267, '돈벌이': 1268, '돋보이다': 1269, '돌려주다': 1270, '돌리다': 1271, '돌보다': 1272, '돌아가다': 1273, '돌아오다': 1274, '돌잔치': 1275, '돌파': 1276, '돔': 1277, '돕기': 1278, '돕다': 1279, '동': 1280, '동감': 1281, '동거': 1282, '동기': 1283, '동남아시아': 1284, '동네': 1285, '동등': 1286, '동료': 1287, '동물': 1288, '동물성': 1289, '동반': 1290, '동부': 1291, '동생': 1292, '동시': 1293, '동안': 1294, '동양': 1295, '동영상': 1296, '동의': 1297, '동인': 1298, '동일': 1299, '동일시': 1300, '동일하다': 1301, '동전': 1302, '동참': 1303, '동행': 1304, '동향': 1305, '돼다': 1306, '돼지': 1307, '돼지고기': 1308, '되게': 1309, '되다': 1310, '되돌리다': 1311, '되어다': 1312, '되찾다': 1313, '두': 1314, '두기': 1315, '두껍다': 1316, '두다': 1317, '두드리다': 1318, '두렵다': 1319, '두시': 1320, '두운': 1321, '둘': 1322, '둘러보다': 1323, '둘러싸다': 1324, '둘째': 1325, '뒤': 1326, '뒷': 1327, '뒷마당': 1328, '뒷받침': 1329, '듀얼': 1330, '드': 1331, '드나': 1332, '드디어': 1333, '드라마': 1334, '드라이브': 1335, '드러나다': 1336, '드럼': 1337, '드레스': 1338, '드레싱': 1339, '드로잉': 1340, '드리다': 1341, '드릴': 1342, '듣기': 1343, '듣다': 1344, '들': 1345, '들다': 1346, '들뜨다': 1347, '들려주다': 1348, '들르다': 1349, '들리다': 1350, '들어가다': 1351, '들어서다': 1352, '들어오다': 1353, '들어주다': 1354, '들이다': 1355, '듭': 1356, '듭니': 1357, '등': 1358, '등급': 1359, '등등': 1360, '등록': 1361, '등록증': 1362, '등본': 1363, '등장': 1364, '디네': 1365, '디럭스': 1366, '디바이스': 1367, '디스크': 1368, '디스플레이': 1369, '디시': 1370, '디자이너': 1371, '디자인': 1372, '디저스터': 1373, '디저트': 1374, '디젤': 1375, '디지털': 1376, '디지털로': 1377, '딜러': 1378, '딥': 1379, '딩기': 1380, '따내다': 1381, '따뜻하다': 1382, '따라가다': 1383, '따라서': 1384, '따라오다': 1385, '따로': 1386, '따르다': 1387, '딱': 1388, '딱이다': 1389, '딸리다': 1390, '땀': 1391, '때': 1392, '때때로': 1393, '때로는': 1394, '때문': 1395, '떠나다': 1396, '떠오르다': 1397, '떡': 1398, '떡볶이': 1399, '떨다': 1400, '떨어뜨리다': 1401, '떨어지다': 1402, '또': 1403, '또는': 1404, '또래': 1405, '또한': 1406, '똑같다': 1407, '똑똑하다': 1408, '똑바로': 1409, '뚜렷하다': 1410, '뛰어나다': 1411, '뛰어들다': 1412, '뜨개질': 1413, '뜨다': 1414, '뜰': 1415, '뜻': 1416, '뜻입': 1417, '띄다': 1418, '라디오': 1419, '라면': 1420, '라발': 1421, '라서': 1422, '라우터': 1423, '라운드': 1424, '라운지': 1425, '라이': 1426, '라이브': 1427, '라이브러리': 1428, '라이선스': 1429, '라이센스': 1430, '라이트': 1431, '라이트닝': 1432, '라이프스타일': 1433, '라인': 1434, '라인업': 1435, '란': 1436, '랍니': 1437, '래야': 1438, '랙티브': 1439, '랜드': 1440, '랩': 1441, '랩톱': 1442, '량': 1443, '러': 1444, '러너': 1445, '러닝': 1446, '러시': 1447, '럭셔리': 1448, '런가': 1449, '런던': 1450, '런칭': 1451, '레드': 1452, '레벨': 1453, '레스토랑': 1454, '레시피': 1455, '레어': 1456, '레이': 1457, '레이블': 1458, '레이아웃': 1459, '레인': 1460, '레지스트리': 1461, '레코드': 1462, '레크리에이션': 1463, '레터': 1464, '렌더링': 1465, '렌즈': 1466, '렌탈': 1467, '렌터카': 1468, '렌틸': 1469, '려고': 1470, '려면': 1471, '령': 1472, '로': 1473, '로고': 1474, '로그': 1475, '로그아웃': 1476, '로그온': 1477, '로그인': 1478, '로더': 1479, '로드': 1480, '로드맵': 1481, '로만': 1482, '로봇': 1483, '로부터': 1484, '로비': 1485, '로서': 1486, '로열티': 1487, '로터리': 1488, '로트': 1489, '록': 1490, '론': 1491, '론칭': 1492, '롤': 1493, '롤러': 1494, '롤플레잉': 1495, '롭': 1496, '료': 1497, '루프': 1498, '룸': 1499, '룸메이트': 1500, '룸서비스': 1501, '룸셰어': 1502, '륜': 1503, '률': 1504, '를': 1505, '리': 1506, '리가': 1507, '리기': 1508, '리뉴얼': 1509, '리더': 1510, '리드': 1511, '리디렉션': 1512, '리버풀': 1513, '리뷰': 1514, '리셉션': 1515, '리소스': 1516, '리스크': 1517, '리스트': 1518, '리조트': 1519, '리지': 1520, '리캐': 1521, '리커버리': 1522, '리테일': 1523, '리퍼': 1524, '리프트': 1525, '리허설': 1526, '린다': 1527, '릴': 1528, '링': 1529, '링스': 1530, '링크': 1531, '마': 1532, '마감': 1533, '마개': 1534, '마늘': 1535, '마닐라': 1536, '마다': 1537, '마당': 1538, '마드리드': 1539, '마땅치': 1540, '마력': 1541, '마련': 1542, '마리': 1543, '마무리': 1544, '마법': 1545, '마사지': 1546, '마스코트': 1547, '마스크': 1548, '마스터': 1549, '마시기': 1550, '마시다': 1551, '마우스': 1552, '마을': 1553, '마음': 1554, '마이너스': 1555, '마이크': 1556, '마인더': 1557, '마인드': 1558, '마중': 1559, '마지막': 1560, '마차': 1561, '마찬가지': 1562, '마치다': 1563, '마침': 1564, '마침내': 1565, '마케터': 1566, '마케터입니': 1567, '마케팅': 1568, '마포구': 1569, '막': 1570, '막걸리': 1571, '막다': 1572, '막대': 1573, '막히다': 1574, '만': 1575, '만기': 1576, '만기일': 1577, '만나다': 1578, '만난': 1579, '만날': 1580, '만도': 1581, '만두': 1582, '만드나': 1583, '만들기': 1584, '만들다': 1585, '만들어지다': 1586, '만듭니': 1587, '만료': 1588, '만약': 1589, '만이': 1590, '만일': 1591, '만족': 1592, '만족스럽다': 1593, '만족하다': 1594, '만찬': 1595, '만큼': 1596, '만화': 1597, '만회': 1598, '많다': 1599, '많아지다': 1600, '많이': 1601, '말': 1602, '말다': 1603, '말레이시아': 1604, '말씀': 1605, '말씀드리다': 1606, '맙소사': 1607, '맛': 1608, '맛보다': 1609, '맛있다': 1610, '맛집': 1611, '맜있는': 1612, '망치다': 1613, '맞다': 1614, '맞서다': 1615, '맞추다': 1616, '맞춤': 1617, '맡기다': 1618, '맡다': 1619, '매': 1620, '매각': 1621, '매끄럽다': 1622, '매너': 1623, '매년': 1624, '매니저': 1625, '매다': 1626, '매달': 1627, '매도': 1628, '매력': 1629, '매료': 1630, '매매': 1631, '매물': 1632, '매번': 1633, '매수': 1634, '매우': 1635, '매월': 1636, '매일': 1637, '매입': 1638, '매장': 1639, '매점': 1640, '매주': 1641, '매진': 1642, '매체': 1643, '매출': 1644, '매치': 1645, '매크로': 1646, '매트': 1647, '매트리스': 1648, '매핑': 1649, '맥락': 1650, '맥주': 1651, '맨': 1652, '맬웨어': 1653, '맵': 1654, '맵다': 1655, '맵핑': 1656, '맺다': 1657, '머': 1658, '머드': 1659, '머리': 1660, '머무르다': 1661, '머물다': 1662, '머신': 1663, '먹기': 1664, '먹다': 1665, '먹방': 1666, '먹이': 1667, '먼저': 1668, '먼지': 1669, '멀다': 1670, '멀리': 1671, '멈추다': 1672, '멋지다': 1673, '멎다': 1674, '메가바이트': 1675, '메가비트': 1676, '메뉴': 1677, '메뉴판': 1678, '메모': 1679, '메시': 1680, '메시지': 1681, '메이커': 1682, '메이크업': 1683, '메인': 1684, '메일': 1685, '메커니즘': 1686, '메타': 1687, '멜론': 1688, '멤버': 1689, '멤버십': 1690, '며칠': 1691, '면': 1692, '면역': 1693, '면적': 1694, '면접': 1695, '면제': 1696, '면직물': 1697, '면책': 1698, '면허': 1699, '면허증': 1700, '명': 1701, '명과': 1702, '명당': 1703, '명령': 1704, '명백하다': 1705, '명분': 1706, '명상': 1707, '명세서': 1708, '명시': 1709, '명의': 1710, '명인': 1711, '명칭': 1712, '명품': 1713, '명함': 1714, '명확하다': 1715, '몇': 1716, '몇대': 1717, '몇몇': 1718, '모': 1719, '모국': 1720, '모국어': 1721, '모금': 1722, '모기': 1723, '모기지': 1724, '모기지론': 1725, '모니터': 1726, '모니터링': 1727, '모델': 1728, '모뎀': 1729, '모두': 1730, '모듈': 1731, '모드': 1732, '모든': 1733, '모레': 1734, '모르다': 1735, '모르타르': 1736, '모바일': 1737, '모범': 1738, '모색': 1739, '모서리': 1740, '모습': 1741, '모시': 1742, '모시다': 1743, '모양': 1744, '모욕': 1745, '모으다': 1746, '모의고사': 1747, '모이다': 1748, '모임': 1749, '모자': 1750, '모터': 1751, '모터보트': 1752, '모텔': 1753, '모티브': 1754, '모험': 1755, '모형': 1756, '목걸이': 1757, '목격': 1758, '목록': 1759, '목별': 1760, '목소리': 1761, '목요일': 1762, '목욕': 1763, '목욕탕': 1764, '목적': 1765, '목적지': 1766, '목표': 1767, '몫': 1768, '몬순': 1769, '몰다': 1770, '몰두하다': 1771, '몰이': 1772, '몸': 1773, '못': 1774, '묘목': 1775, '무': 1776, '무겁다': 1777, '무게': 1778, '무너지다': 1779, '무늬': 1780, '무대': 1781, '무드': 1782, '무례하다': 1783, '무료': 1784, '무리': 1785, '무사하다': 1786, '무선': 1787, '무섭다': 1788, '무슨': 1789, '무시': 1790, '무언가': 1791, '무엇': 1792, '무었': 1793, '무역': 1794, '무역수지': 1795, '무용': 1796, '무의미하다': 1797, '무작위': 1798, '무제한': 1799, '무중력': 1800, '무지': 1801, '묵': 1802, '묵고': 1803, '묵다': 1804, '묵시': 1805, '묶음': 1806, '문': 1807, '문득': 1808, '문법': 1809, '문서': 1810, '문신': 1811, '문의': 1812, '문의사항': 1813, '문자': 1814, '문제': 1815, '문제점': 1816, '문하': 1817, '문화': 1818, '묻다': 1819, '물': 1820, '물가상승률': 1821, '물건': 1822, '물고기': 1823, '물다': 1824, '물론': 1825, '물류': 1826, '물리': 1827, '물속': 1828, '물어보다': 1829, '물의': 1830, '물이': 1831, '물질': 1832, '물체': 1833, '물품': 1834, '뭐': 1835, '뭐라다': 1836, '뭔가': 1837, '뭘': 1838, '뮤직': 1839, '뮤추얼': 1840, '므': 1841, '미결': 1842, '미국': 1843, '미국법': 1844, '미끼': 1845, '미납': 1846, '미니': 1847, '미니멀리즘': 1848, '미니바': 1849, '미디어': 1850, '미디엄': 1851, '미래': 1852, '미리': 1853, '미만': 1854, '미세하다': 1855, '미수': 1856, '미슐랭': 1857, '미스': 1858, '미안하다': 1859, '미약': 1860, '미얀마': 1861, '미용': 1862, '미적': 1863, '미지': 1864, '미치나': 1865, '미치다': 1866, '미터': 1867, '미팅': 1868, '미혼': 1869, '믹서': 1870, '민간': 1871, '민물': 1872, '민원': 1873, '민팅': 1874, '믿다': 1875, '밀가루': 1876, '밀고': 1877, '밀다': 1878, '밀레': 1879, '밀리다': 1880, '밀크티숍': 1881, '밀회': 1882, '밉다': 1883, '및': 1884, '밑': 1885, '바': 1886, '바꾸다': 1887, '바뀌다': 1888, '바나나': 1889, '바늘': 1890, '바다': 1891, '바닥': 1892, '바닥나다': 1893, '바닷물': 1894, '바디': 1895, '바라다': 1896, '바라보다': 1897, '바라지': 1898, '바람': 1899, '바람직하다': 1900, '바램': 1901, '바로': 1902, '바르다': 1903, '바베이도스': 1904, '바베큐': 1905, '바비큐': 1906, '바쁘다': 1907, '바위': 1908, '바이': 1909, '바이러스': 1910, '바이오': 1911, '바이트': 1912, '바치다': 1913, '바퀴': 1914, '바탕': 1915, '박': 1916, '박람회': 1917, '박물관': 1918, '박사': 1919, '박스': 1920, '밖': 1921, '밖에': 1922, '반': 1923, '반갑다': 1924, '반기다': 1925, '반납': 1926, '반년': 1927, '반대': 1928, '반대편': 1929, '반도체': 1930, '반드시': 1931, '반려': 1932, '반려견': 1933, '반려동물': 1934, '반면': 1935, '반영': 1936, '반응': 1937, '반찬': 1938, '반품': 1939, '받다': 1940, '받아들이다': 1941, '발견': 1942, '발급': 1943, '발끝': 1944, '발복': 1945, '발생': 1946, '발송': 1947, '발신': 1948, '발자국': 1949, '발전': 1950, '발주': 1951, '발표': 1952, '발행': 1953, '발효': 1954, '발휘': 1955, '밝혀내다': 1956, '밝혀지다': 1957, '밟다': 1958, '밤': 1959, '밤낮': 1960, '밤늦다': 1961, '밤새다': 1962, '밥': 1963, '밥그릇': 1964, '밧줄': 1965, '방': 1966, '방과': 1967, '방금': 1968, '방대하다': 1969, '방문': 1970, '방문객': 1971, '방법': 1972, '방사성': 1973, '방송': 1974, '방송국': 1975, '방수': 1976, '방식': 1977, '방안': 1978, '방어': 1979, '방이': 1980, '방적': 1981, '방적기': 1982, '방지': 1983, '방출': 1984, '방침': 1985, '방해': 1986, '방향': 1987, '방화벽': 1988, '밭': 1989, '배': 1990, '배경': 1991, '배경음악': 1992, '배너': 1993, '배다': 1994, '배달': 1995, '배당금': 1996, '배려': 1997, '배분': 1998, '배색': 1999, '배송': 2000, '배송비': 2001, '배송지': 2002, '배수': 2003, '배우': 2004, '배우다': 2005, '배우자': 2006, '배움': 2007, '배정': 2008, '배출': 2009, '배치': 2010, '배터리': 2011, '배포': 2012, '백': 2013, '백만': 2014, '백신': 2015, '백업': 2016, '백엔드': 2017, '밴드': 2018, '밸브': 2019, '뱅크': 2020, '뱅킹': 2021, '버': 2022, '버그': 2023, '버너': 2024, '버네': 2025, '버는': 2026, '버드': 2027, '버리다': 2028, '버블': 2029, '버스': 2030, '버스정류장': 2031, '버전': 2032, '버터플라이': 2033, '버튼': 2034, '번': 2035, '번가': 2036, '번거롭다': 2037, '번식': 2038, '번역': 2039, '번역가': 2040, '번의': 2041, '번지': 2042, '번창': 2043, '번호': 2044, '벌': 2045, '벌다': 2046, '벌써': 2047, '벌어지다': 2048, '벌이': 2049, '범': 2050, '범위': 2051, '범인': 2052, '범죄': 2053, '범죄자': 2054, '범주': 2055, '법': 2056, '법률': 2057, '법원': 2058, '법인': 2059, '법인세': 2060, '법적': 2061, '법정': 2062, '벗다': 2063, '벗어나다': 2064, '베네수엘라': 2065, '베다': 2066, '베벨': 2067, '베스트셀러': 2068, '베어링': 2069, '베이스': 2070, '베타': 2071, '베테': 2072, '베트남': 2073, '벡터': 2074, '벤딩': 2075, '벤처캐피털': 2076, '벤츄리': 2077, '벤치': 2078, '벨': 2079, '벨트': 2080, '벽': 2081, '벽난로': 2082, '벽지': 2083, '변경': 2084, '변동': 2085, '변동성': 2086, '변명': 2087, '변속기': 2088, '변수': 2089, '변하다': 2090, '변호사': 2091, '변화': 2092, '변환': 2093, '별': 2094, '별관': 2095, '별도': 2096, '별로': 2097, '별장': 2098, '병': 2099, '병동': 2100, '병원': 2101, '병합': 2102, '보': 2103, '보건': 2104, '보고': 2105, '보고서': 2106, '보관': 2107, '보기': 2108, '보내다': 2109, '보내오다': 2110, '보다': 2111, '보도': 2112, '보드': 2113, '보람': 2114, '보류': 2115, '보물': 2116, '보살피다': 2117, '보상': 2118, '보수': 2119, '보시': 2120, '보쌈': 2121, '보안': 2122, '보여주다': 2123, '보유': 2124, '보이': 2125, '보이다': 2126, '보이지': 2127, '보장': 2128, '보조': 2129, '보존': 2130, '보증': 2131, '보증금': 2132, '보증인': 2133, '보지': 2134, '보철물': 2135, '보청기': 2136, '보통': 2137, '보트': 2138, '보행': 2139, '보험': 2140, '보험금': 2141, '보험료': 2142, '보험사': 2143, '보헤미안': 2144, '보호': 2145, '보호복': 2146, '복': 2147, '복구': 2148, '복사기': 2149, '복원': 2150, '복잡하다': 2151, '복장': 2152, '복판': 2153, '복호화': 2154, '볶음': 2155, '볶음밥': 2156, '본': 2157, '본드': 2158, '본론': 2159, '본부': 2160, '본사': 2161, '본인': 2162, '본체': 2163, '볼': 2164, '볼륨': 2165, '볼일': 2166, '봄판': 2167, '봇': 2168, '봉쇄': 2169, '뵈다': 2170, '뵙다': 2171, '부': 2172, '부과': 2173, '부금': 2174, '부끄럽다': 2175, '부다': 2176, '부담': 2177, '부당하다': 2178, '부대': 2179, '부동산': 2180, '부두': 2181, '부드럽다': 2182, '부딪치다': 2183, '부딪히다': 2184, '부로': 2185, '부록': 2186, '부르다': 2187, '부모': 2188, '부모님': 2189, '부문': 2190, '부분': 2191, '부산': 2192, '부상': 2193, '부서': 2194, '부속품': 2195, '부수': 2196, '부양가족': 2197, '부업': 2198, '부엌': 2199, '부여': 2200, '부위': 2201, '부유하다': 2202, '부응': 2203, '부의': 2204, '부인': 2205, '부자': 2206, '부작용': 2207, '부적': 2208, '부정': 2209, '부족': 2210, '부족하다': 2211, '부지': 2212, '부착': 2213, '부채': 2214, '부처': 2215, '부츠': 2216, '부침개': 2217, '부탁': 2218, '부탁드리다': 2219, '부터': 2220, '부팅': 2221, '부품': 2222, '부합': 2223, '부호화': 2224, '북': 2225, '북경어': 2226, '북미': 2227, '북부': 2228, '분': 2229, '분과': 2230, '분광': 2231, '분기': 2232, '분기점': 2233, '분당': 2234, '분류': 2235, '분리': 2236, '분명': 2237, '분명하다': 2238, '분사': 2239, '분산': 2240, '분석': 2241, '분쇄기': 2242, '분식점': 2243, '분실': 2244, '분야': 2245, '분위기': 2246, '분쟁': 2247, '분젠': 2248, '분지': 2249, '분포': 2250, '분할': 2251, '분해': 2252, '불': 2253, '불가능': 2254, '불가능하다': 2255, '불고기': 2256, '불과': 2257, '불과하다': 2258, '불교': 2259, '불구': 2260, '불규칙하다': 2261, '불금': 2262, '불다': 2263, '불당': 2264, '불도저': 2265, '불량': 2266, '불량품': 2267, '불러일으키다': 2268, '불리다': 2269, '불만': 2270, '불문': 2271, '불빛': 2272, '불안정하다': 2273, '불안하다': 2274, '불쾌하다': 2275, '불편': 2276, '불편하다': 2277, '불평': 2278, '불평등하다': 2279, '불필요하다': 2280, '불행하다': 2281, '붉은빛': 2282, '붐': 2283, '붕괴': 2284, '붕어빵': 2285, '붙다': 2286, '붙박다': 2287, '붙이다': 2288, '뷔페': 2289, '뷸': 2290, '브라우저': 2291, '브라우징': 2292, '브라질': 2293, '브랜드': 2294, '브랜딩': 2295, '브레이커': 2296, '브레이크': 2297, '브레인스토밍': 2298, '브로': 2299, '브로드밴드': 2300, '브로셔': 2301, '브로커': 2302, '브루나이': 2303, '브이': 2304, '블랙': 2305, '블레이드': 2306, '블렌드': 2307, '블렌딩': 2308, '블로그': 2309, '블록': 2310, '블루': 2311, '블루칩': 2312, '블룸': 2313, '비': 2314, '비간': 2315, '비건': 2316, '비계': 2317, '비공개': 2318, '비공식': 2319, '비교': 2320, '비누': 2321, '비다': 2322, '비도': 2323, '비디오': 2324, '비록': 2325, '비롯': 2326, '비료': 2327, '비밀': 2328, '비밀번호': 2329, '비빔냉면': 2330, '비빔밥': 2331, '비상': 2332, '비서': 2333, '비스킷': 2334, '비스트': 2335, '비슷하다': 2336, '비실': 2337, '비싸다': 2338, '비어': 2339, '비영리': 2340, '비용': 2341, '비우다': 2342, '비율': 2343, '비자': 2344, '비주': 2345, '비즈니스': 2346, '비축': 2347, '비커': 2348, '비트': 2349, '비트코인': 2350, '비평가': 2351, '비프': 2352, '비행': 2353, '비행기': 2354, '빅데이터': 2355, '빈': 2356, '빈방': 2357, '빈번': 2358, '빈손': 2359, '빈티': 2360, '빌드되': 2361, '빌딩': 2362, '빌라': 2363, '빌리다': 2364, '빌보드': 2365, '빌트': 2366, '빔': 2367, '빗': 2368, '빙': 2369, '빚': 2370, '빠듯': 2371, '빠듯합니': 2372, '빠르다': 2373, '빠지다': 2374, '빡빡': 2375, '빨간색': 2376, '빨갛다': 2377, '빨르다': 2378, '빨리': 2379, '빵': 2380, '빵집': 2381, '빼다': 2382, '뽑다': 2383, '뿌리': 2384, '뿐': 2385, '뿐이다': 2386, '삐었': 2387, '사': 2388, '사건': 2389, '사격': 2390, '사계절': 2391, '사고': 2392, '사과': 2393, '사기': 2394, '사기꾼': 2395, '사다': 2396, '사람': 2397, '사람과': 2398, '사랑': 2399, '사려': 2400, '사례': 2401, '사르다': 2402, '사면': 2403, '사명': 2404, '사모펀드': 2405, '사무': 2406, '사무기기': 2407, '사무소': 2408, '사무실': 2409, '사물': 2410, '사물인터넷': 2411, '사본': 2412, '사생활': 2413, '사서': 2414, '사소하다': 2415, '사시미': 2416, '사실': 2417, '사안': 2418, '사양': 2419, '사업': 2420, '사업가': 2421, '사업자': 2422, '사오다': 2423, '사옥': 2424, '사용': 2425, '사용성': 2426, '사용자': 2427, '사우나': 2428, '사운드': 2429, '사운드트랙': 2430, '사원': 2431, '사유': 2432, '사은': 2433, '사의': 2434, '사이': 2435, '사이드': 2436, '사이버': 2437, '사이일': 2438, '사이즈': 2439, '사이트': 2440, '사인': 2441, '사인회': 2442, '사장': 2443, '사전': 2444, '사주다': 2445, '사지': 2446, '사진': 2447, '사진사': 2448, '사진작가': 2449, '사찰': 2450, '사촌': 2451, '사출': 2452, '사탕': 2453, '사태': 2454, '사하다': 2455, '사항': 2456, '사회': 2457, '삭제': 2458, '산': 2459, '산나물': 2460, '산업': 2461, '산이': 2462, '산출': 2463, '살': 2464, '살균': 2465, '살기': 2466, '살다': 2467, '살이': 2468, '살펴보다': 2469, '삶': 2470, '삶다': 2471, '삼': 2472, '삼겹살': 2473, '삼고': 2474, '삽': 2475, '삽화가': 2476, '상거래': 2477, '상관': 2478, '상관없다': 2479, '상급': 2480, '상기': 2481, '상단': 2482, '상담': 2483, '상당': 2484, '상당하다': 2485, '상대': 2486, '상대로': 2487, '상대방': 2488, '상무': 2489, '상사': 2490, '상상': 2491, '상상력': 2492, '상세': 2493, '상속': 2494, '상승': 2495, '상업': 2496, '상위': 2497, '상응': 2498, '상의': 2499, '상이': 2500, '상인': 2501, '상자': 2502, '상장': 2503, '상점': 2504, '상주': 2505, '상징': 2506, '상추': 2507, '상치': 2508, '상태': 2509, '상표': 2510, '상품': 2511, '상하': 2512, '상하이': 2513, '상호': 2514, '상환': 2515, '상황': 2516, '새': 2517, '새롭다': 2518, '새벽': 2519, '새우': 2520, '새틴': 2521, '새해': 2522, '색': 2523, '색상': 2524, '색인': 2525, '색조': 2526, '샌드위치': 2527, '샌프란시스코': 2528, '샐러드': 2529, '샘플': 2530, '샘플러': 2531, '샘플링': 2532, '생': 2533, '생각': 2534, '생각나다': 2535, '생강': 2536, '생기다': 2537, '생기지': 2538, '생동감': 2539, '생명': 2540, '생명보험': 2541, '생물': 2542, '생방송': 2543, '생산': 2544, '생산량': 2545, '생생하다': 2546, '생선': 2547, '생선전': 2548, '생소하다': 2549, '생신': 2550, '생이니': 2551, '생일': 2552, '생체': 2553, '생활': 2554, '생활용품': 2555, '샤워': 2556, '샤워실': 2557, '샤프트': 2558, '샴페인': 2559, '샴푸': 2560, '샵': 2561, '서': 2562, '서기': 2563, '서나': 2564, '서다': 2565, '서도': 2566, '서두르다': 2567, '서든': 2568, '서라운드': 2569, '서랍': 2570, '서로': 2571, '서류': 2572, '서면': 2573, '서명': 2574, '서버': 2575, '서버룸': 2576, '서브': 2577, '서비스': 2578, '서빙': 2579, '서울': 2580, '서재': 2581, '서점': 2582, '서지': 2583, '서쪽': 2584, '석가모니': 2585, '섞다': 2586, '선': 2587, '선구자': 2588, '선명하다': 2589, '선물': 2590, '선물거래': 2591, '선박': 2592, '선보이다': 2593, '선불': 2594, '선생님': 2595, '선적': 2596, '선정': 2597, '선착순': 2598, '선체': 2599, '선택': 2600, '선호': 2601, '설': 2602, '설계': 2603, '설득': 2604, '설렁탕': 2605, '설레다': 2606, '설립': 2607, '설명': 2608, '설문': 2609, '설문조사': 2610, '설문지': 2611, '설비': 2612, '설정': 2613, '설치': 2614, '설치다': 2615, '설탕': 2616, '섬광': 2617, '섬유': 2618, '섬유질': 2619, '성': 2620, '성가시다': 2621, '성격': 2622, '성공': 2623, '성공하다': 2624, '성과': 2625, '성능': 2626, '성도': 2627, '성분': 2628, '성사': 2629, '성실하다': 2630, '성은': 2631, '성인': 2632, '성장': 2633, '성장하다': 2634, '성전': 2635, '성취': 2636, '성하다': 2637, '성함': 2638, '성형': 2639, '세': 2640, '세계': 2641, '세관': 2642, '세균': 2643, '세금': 2644, '세기': 2645, '세다': 2646, '세대': 2647, '세련': 2648, '세로': 2649, '세면대': 2650, '세미나': 2651, '세법': 2652, '세부': 2653, '세상': 2654, '세션': 2655, '세안': 2656, '세액': 2657, '세요': 2658, '세우다': 2659, '세율': 2660, '세척': 2661, '세척제': 2662, '세탁': 2663, '세탁기': 2664, '세탁실': 2665, '세트': 2666, '세팅': 2667, '세포': 2668, '센서': 2669, '센터': 2670, '센트': 2671, '셀러': 2672, '셀러리': 2673, '셋': 2674, '셋째': 2675, '셔블': 2676, '션': 2677, '셨었': 2678, '셰어': 2679, '소': 2680, '소갈비': 2681, '소개': 2682, '소개팅': 2683, '소고기': 2684, '소금': 2685, '소녀': 2686, '소득': 2687, '소리': 2688, '소리치다': 2689, '소매': 2690, '소매업자': 2691, '소모': 2692, '소문': 2693, '소비': 2694, '소비자': 2695, '소설': 2696, '소셜': 2697, '소셜미디어': 2698, '소속': 2699, '소송': 2700, '소스': 2701, '소시지': 2702, '소식': 2703, '소액': 2704, '소요': 2705, '소유': 2706, '소유권': 2707, '소유자': 2708, '소의': 2709, '소일': 2710, '소재': 2711, '소주': 2712, '소중하다': 2713, '소지': 2714, '소질': 2715, '소켓': 2716, '소통': 2717, '소파': 2718, '소포': 2719, '소풍': 2720, '소프': 2721, '소프트': 2722, '소프트웨어': 2723, '소형': 2724, '소형견': 2725, '속': 2726, '속달': 2727, '속도': 2728, '속물': 2729, '손': 2730, '손님': 2731, '손상': 2732, '손쉽다': 2733, '손실': 2734, '손익': 2735, '손익계산서': 2736, '손주': 2737, '손해': 2738, '손해배상': 2739, '솔루션': 2740, '솔직하다': 2741, '송금': 2742, '송료': 2743, '송신': 2744, '송장': 2745, '쇄신': 2746, '쇠고기': 2747, '쇼': 2748, '쇼룸': 2749, '쇼핑': 2750, '수': 2751, '수가': 2752, '수강': 2753, '수건': 2754, '수고': 2755, '수년': 2756, '수다': 2757, '수단': 2758, '수도': 2759, '수도꼭지': 2760, '수도원': 2761, '수동': 2762, '수락': 2763, '수량': 2764, '수련': 2765, '수령': 2766, '수로': 2767, '수료': 2768, '수료증': 2769, '수리': 2770, '수많다': 2771, '수면': 2772, '수박': 2773, '수반': 2774, '수백만': 2775, '수비드': 2776, '수석': 2777, '수선': 2778, '수속': 2779, '수수료': 2780, '수술': 2781, '수시로': 2782, '수신기': 2783, '수십': 2784, '수압': 2785, '수업': 2786, '수에즈': 2787, '수영': 2788, '수영장': 2789, '수요': 2790, '수요일': 2791, '수용': 2792, '수익': 2793, '수익금': 2794, '수익률': 2795, '수입': 2796, '수입품': 2797, '수정': 2798, '수정과': 2799, '수제': 2800, '수준': 2801, '수집': 2802, '수천': 2803, '수출': 2804, '수출입': 2805, '수평': 2806, '수표': 2807, '수표로': 2808, '수프': 2809, '수학': 2810, '수행': 2811, '수혜자': 2812, '수확': 2813, '숙련': 2814, '숙박': 2815, '숙박시설': 2816, '숙박업소': 2817, '숙성': 2818, '숙소': 2819, '숙이다': 2820, '숙주': 2821, '숙지': 2822, '순': 2823, '순간': 2824, '순위': 2825, '순이익': 2826, '순전하다': 2827, '숟가락': 2828, '술': 2829, '술집': 2830, '숨': 2831, '숨기다': 2832, '숫자': 2833, '숯불': 2834, '쉬다': 2835, '쉽다': 2836, '슈': 2837, '슈트': 2838, '슈팅': 2839, '슈퍼마켓': 2840, '스': 2841, '스낵': 2842, '스노클링': 2843, '스니커즈': 2844, '스님': 2845, '스럽다': 2846, '스레드': 2847, '스릴러': 2848, '스마트': 2849, '스마트폰': 2850, '스마트홈': 2851, '스스로': 2852, '스위트': 2853, '스위트룸': 2854, '스카이라인': 2855, '스캐너': 2856, '스캔': 2857, '스케': 2858, '스케줄': 2859, '스케줄러': 2860, '스케치': 2861, '스쿠터': 2862, '스크럽': 2863, '스크류': 2864, '스크리닝': 2865, '스크린': 2866, '스크린샷': 2867, '스키': 2868, '스킨': 2869, '스킬': 2870, '스타': 2871, '스타일': 2872, '스타트업': 2873, '스테이': 2874, '스테이션': 2875, '스테이크': 2876, '스테인레스': 2877, '스토리': 2878, '스토브': 2879, '스토어': 2880, '스토퍼': 2881, '스톤': 2882, '스튜디오': 2883, '스트레스': 2884, '스트레이트': 2885, '스트로': 2886, '스트리밍': 2887, '스트림': 2888, '스티': 2889, '스티커': 2890, '스틸': 2891, '스파': 2892, '스파게티': 2893, '스파이럴': 2894, '스파이웨어': 2895, '스파크': 2896, '스팸': 2897, '스페셜': 2898, '스페인': 2899, '스펙트럼': 2900, '스포츠': 2901, '스프': 2902, '스프레드': 2903, '스프레이': 2904, '스피커': 2905, '스피킹': 2906, '슬라이드': 2907, '슬롯': 2908, '슬리퍼': 2909, '슬프다': 2910, '습': 2911, '습니': 2912, '승려': 2913, '승인': 2914, '시': 2915, '시각': 2916, '시각장애인': 2917, '시간': 2918, '시간대': 2919, '시계': 2920, '시골': 2921, '시급하다': 2922, '시기': 2923, '시끄럽다': 2924, '시나리오': 2925, '시내': 2926, '시대': 2927, '시도': 2928, '시리즈': 2929, '시마': 2930, '시민권': 2931, '시설': 2932, '시세': 2933, '시스템': 2934, '시연': 2935, '시오': 2936, '시일': 2937, '시작': 2938, '시장': 2939, '시장조사': 2940, '시저': 2941, '시절': 2942, '시점': 2943, '시즌': 2944, '시차': 2945, '시청': 2946, '시청각': 2947, '시청자': 2948, '시카고': 2949, '시큐리티': 2950, '시키다': 2951, '시티': 2952, '시행': 2953, '시험': 2954, '시험관': 2955, '식': 2956, '식기': 2957, '식단': 2958, '식당': 2959, '식물': 2960, '식사': 2961, '식이': 2962, '식초': 2963, '식탁': 2964, '식품': 2965, '신': 2966, '신간': 2967, '신경': 2968, '신고': 2969, '신곡': 2970, '신규': 2971, '신나요': 2972, '신다': 2973, '신디케이트': 2974, '신랑': 2975, '신뢰': 2976, '신문': 2977, '신발': 2978, '신부': 2979, '신분': 2980, '신분증': 2981, '신비롭다': 2982, '신사': 2983, '신생': 2984, '신선하다': 2985, '신세대': 2986, '신속하다': 2987, '신용': 2988, '신용등급': 2989, '신용장': 2990, '신용카드': 2991, '신원': 2992, '신입': 2993, '신입사원': 2994, '신입생': 2995, '신제품': 2996, '신종교': 2997, '신중': 2998, '신지': 2999, '신청': 3000, '신청서': 3001, '신체': 3002, '신탁': 3003, '신호': 3004, '신흥': 3005, '싣다': 3006, '실': 3007, '실내': 3008, '실력': 3009, '실례': 3010, '실로': 3011, '실린더': 3012, '실망': 3013, '실망하다': 3014, '실버': 3015, '실사': 3016, '실생활': 3017, '실수': 3018, '실시': 3019, '실시간': 3020, '실업자': 3021, '실외': 3022, '실용': 3023, '실적': 3024, '실제': 3025, '실질': 3026, '실천': 3027, '실크': 3028, '실패': 3029, '실패하다': 3030, '실행': 3031, '실험': 3032, '실험실': 3033, '실현': 3034, '싫다': 3035, '싫어하다': 3036, '심': 3037, '심각하다': 3038, '심기': 3039, '심란하다': 3040, '심박': 3041, '심장': 3042, '심지어': 3043, '심하다': 3044, '십': 3045, '십대': 3046, '싱가포르': 3047, '싱가폴': 3048, '싱글': 3049, '싱글룸': 3050, '싶다': 3051, '싸다': 3052, '싸우다': 3053, '쌀': 3054, '쌈': 3055, '쌈밥': 3056, '쌈장': 3057, '쌍': 3058, '쌓다': 3059, '쌓이다': 3060, '써다': 3061, '쓰다': 3062, '쓰레기통': 3063, '쓰이다': 3064, '쓸다': 3065, '쓸모': 3066, '씨': 3067, '씹다': 3068, '아': 3069, '아기': 3070, '아깝다': 3071, '아끼다': 3072, '아나운서': 3073, '아내': 3074, '아뇨': 3075, '아늑하다': 3076, '아니다': 3077, '아동': 3078, '아들': 3079, '아래': 3080, '아로마': 3081, '아르헨티나': 3082, '아름답다': 3083, '아마': 3084, '아마도': 3085, '아무': 3086, '아무나': 3087, '아무렇다': 3088, '아무리': 3089, '아무튼': 3090, '아바타': 3091, '아빠': 3092, '아쉽다': 3093, '아스파라거스': 3094, '아스팔트': 3095, '아시아': 3096, '아웃소싱': 3097, '아이': 3098, '아이덴티티': 3099, '아이돌': 3100, '아이디': 3101, '아이디어': 3102, '아이스크림': 3103, '아이콘': 3104, '아이템': 3105, '아주': 3106, '아직': 3107, '아직도': 3108, '아침': 3109, '아침식사': 3110, '아키텍처': 3111, '아트': 3112, '아트워크': 3113, '아트웍': 3114, '아티스트': 3115, '아파트': 3116, '아프다': 3117, '아프리카': 3118, '악': 3119, '악기': 3120, '악성코드': 3121, '악세사리': 3122, '악수': 3123, '악행': 3124, '악화': 3125, '안': 3126, '안건': 3127, '안나': 3128, '안내': 3129, '안내받다': 3130, '안녕': 3131, '안녕하다': 3132, '안다': 3133, '안되다': 3134, '안드로이드': 3135, '안방': 3136, '안성맞춤': 3137, '안심': 3138, '안이': 3139, '안전': 3140, '안전성': 3141, '안전하다': 3142, '안정': 3143, '안좋다': 3144, '안타깝다': 3145, '안테나': 3146, '안티바이러스': 3147, '안팎': 3148, '앉다': 3149, '않다': 3150, '알': 3151, '알고리즘': 3152, '알다': 3153, '알람': 3154, '알레르기': 3155, '알려지다': 3156, '알루미늄': 3157, '알리다': 3158, '알림': 3159, '알아내다': 3160, '알아듣다': 3161, '알아보다': 3162, '알아차리다': 3163, '알아채다': 3164, '알약': 3165, '알칼리성': 3166, '암': 3167, '암석': 3168, '암스테르담': 3169, '암호': 3170, '압니': 3171, '압도': 3172, '압력': 3173, '압축': 3174, '압축기': 3175, '압출기': 3176, '았습니': 3177, '앙': 3178, '앞': 3179, '앞두다': 3180, '앞서': 3181, '앞치마': 3182, '애': 3183, '애니메이션': 3184, '애니메이터': 3185, '애비뉴': 3186, '애완동물': 3187, '애프터': 3188, '애플리케이션': 3189, '애피타이저': 3190, '액': 3191, '액세서리': 3192, '액세스': 3193, '액션': 3194, '액체': 3195, '앤': 3196, '앨범': 3197, '앰버': 3198, '앰뷸런스': 3199, '앰프': 3200, '앱': 3201, '앵글': 3202, '앵커': 3203, '야간': 3204, '야구장': 3205, '야금': 3206, '야단법석': 3207, '야생': 3208, '야식': 3209, '야영지': 3210, '야외': 3211, '야유회': 3212, '야채': 3213, '야합': 3214, '약': 3215, '약간': 3216, '약관': 3217, '약물': 3218, '약속': 3219, '약자': 3220, '약점': 3221, '약정': 3222, '약하다': 3223, '얇다': 3224, '양': 3225, '양념': 3226, '양념장': 3227, '양도': 3228, '양립': 3229, '양말': 3230, '양사': 3231, '양식': 3232, '양자': 3233, '양초': 3234, '양해': 3235, '양호': 3236, '얘기': 3237, '어': 3238, '어긋나다': 3239, '어기': 3240, '어느': 3241, '어댑터': 3242, '어디': 3243, '어디서': 3244, '어떠하다': 3245, '어떤': 3246, '어떻': 3247, '어떻다': 3248, '어려움': 3249, '어렵다': 3250, '어르신': 3251, '어른': 3252, '어리다': 3253, '어린이': 3254, '어머니': 3255, '어메니티': 3256, '어묵': 3257, '어보': 3258, '어서': 3259, '어우러지다': 3260, '어울리다': 3261, '어제': 3262, '어젯밤': 3263, '어조': 3264, '어쨌든': 3265, '어쩌': 3266, '어쩐': 3267, '어쩔': 3268, '어치': 3269, '어플': 3270, '어필': 3271, '어휘': 3272, '언': 3273, '언급': 3274, '언니': 3275, '언덕': 3276, '언론': 3277, '언박싱': 3278, '언어': 3279, '언제': 3280, '언제나': 3281, '언젠가': 3282, '얻다': 3283, '얼': 3284, '얼굴': 3285, '얼리다': 3286, '얼마': 3287, '얼마나': 3288, '엄격하다': 3289, '엄선': 3290, '엄수': 3291, '엄청': 3292, '엄청나다': 3293, '업계': 3294, '업그레이드': 3295, '업데이트': 3296, '업로드': 3297, '업무': 3298, '업자': 3299, '업주': 3300, '업체': 3301, '없다': 3302, '없애다': 3303, '없이': 3304, '엇갈리다': 3305, '엉': 3306, '에': 3307, '에너지': 3308, '에는': 3309, '에러': 3310, '에멀션': 3311, '에멀젼': 3312, '에메랄드': 3313, '에밀리': 3314, '에서': 3315, '에센셜': 3316, '에어': 3317, '에어컨': 3318, '에이전시': 3319, '에이전트': 3320, '에코': 3321, '에티켓': 3322, '에피소드': 3323, '엑세스': 3324, '엑스레이': 3325, '엑스포': 3326, '엔': 3327, '엔드': 3328, '엔젤': 3329, '엔지니어': 3330, '엔지니어링': 3331, '엔진': 3332, '엔터테인먼트': 3333, '엠보싱': 3334, '여': 3335, '여겨지다': 3336, '여권': 3337, '여기': 3338, '여기다': 3339, '여느': 3340, '여드름': 3341, '여러': 3342, '여러분': 3343, '여름': 3344, '여보': 3345, '여보세요': 3346, '여부': 3347, '여분': 3348, '여사': 3349, '여성': 3350, '여야': 3351, '여유': 3352, '여자': 3353, '여전하다': 3354, '여지': 3355, '여쭈다': 3356, '여행': 3357, '여행사': 3358, '여행자': 3359, '역': 3360, '역사': 3361, '역서': 3362, '역시': 3363, '역외': 3364, '역할': 3365, '연': 3366, '연간': 3367, '연결': 3368, '연결하다': 3369, '연관': 3370, '연구': 3371, '연구개발': 3372, '연구소': 3373, '연기': 3374, '연다': 3375, '연달': 3376, '연동': 3377, '연락': 3378, '연락처': 3379, '연령': 3380, '연례': 3381, '연료': 3382, '연마': 3383, '연말': 3384, '연민': 3385, '연방': 3386, '연봉': 3387, '연비': 3388, '연사': 3389, '연수': 3390, '연장': 3391, '연중': 3392, '연체': 3393, '연회': 3394, '연휴': 3395, '열': 3396, '열광': 3397, '열기': 3398, '열다': 3399, '열람': 3400, '열리다': 3401, '열쇠': 3402, '열심히': 3403, '열악하다': 3404, '열정': 3405, '열차': 3406, '염두': 3407, '염려': 3408, '염색': 3409, '엽': 3410, '영': 3411, '영감': 3412, '영광': 3413, '영구': 3414, '영국': 3415, '영리하다': 3416, '영상': 3417, '영상통화': 3418, '영수증': 3419, '영양': 3420, '영어': 3421, '영업': 3422, '영업일': 3423, '영역': 3424, '영원하다': 3425, '영진': 3426, '영향': 3427, '영향력': 3428, '영화': 3429, '옆': 3430, '예': 3431, '예견': 3432, '예고편': 3433, '예금': 3434, '예방': 3435, '예배': 3436, '예쁘다': 3437, '예산': 3438, '예산안': 3439, '예상': 3440, '예술': 3441, '예술가': 3442, '예약': 3443, '예요': 3444, '예의': 3445, '예입': 3446, '예전': 3447, '예절': 3448, '예정': 3449, '예정일': 3450, '예측': 3451, '옐로나이프': 3452, '오': 3453, '오늘': 3454, '오늘날': 3455, '오늘이': 3456, '오다': 3457, '오디오': 3458, '오락가락': 3459, '오래': 3460, '오래되다': 3461, '오랜': 3462, '오랫동안': 3463, '오렌지': 3464, '오류': 3465, '오르다': 3466, '오른': 3467, '오른쪽': 3468, '오리엔테이션': 3469, '오버': 3470, '오븐': 3471, '오스': 3472, '오시': 3473, '오신': 3474, '오용': 3475, '오인': 3476, '오일': 3477, '오일도': 3478, '오전': 3479, '오지': 3480, '오직': 3481, '오징어': 3482, '오토': 3483, '오프': 3484, '오프라인': 3485, '오픈': 3486, '오피스': 3487, '오하이오주': 3488, '오해': 3489, '오후': 3490, '오히려': 3491, '옥': 3492, '옥상': 3493, '옥집': 3494, '온': 3495, '온도': 3496, '온돌': 3497, '온라인': 3498, '온라인과': 3499, '온스': 3500, '온천': 3501, '온타리오': 3502, '올': 3503, '올라가다': 3504, '올려놓다': 3505, '올려주다': 3506, '올리다': 3507, '올바르다': 3508, '올해': 3509, '옮기다': 3510, '옳다': 3511, '옴': 3512, '옵니다': 3513, '옵션': 3514, '옷': 3515, '옷장': 3516, '와우': 3517, '와이어': 3518, '와이파이': 3519, '와인': 3520, '와트': 3521, '완납': 3522, '완료': 3523, '완벽하다': 3524, '완비': 3525, '완성': 3526, '완전': 3527, '완전하다': 3528, '완화': 3529, '왓츠앱': 3530, '왕복': 3531, '왕새우': 3532, '왜': 3533, '왜냐면': 3534, '왜냐하면': 3535, '외': 3536, '외관': 3537, '외국': 3538, '외국인': 3539, '외다': 3540, '외부': 3541, '외주': 3542, '외출': 3543, '외향': 3544, '외화': 3545, '외환은행': 3546, '왼쪽': 3547, '요': 3548, '요건': 3549, '요격': 3550, '요구': 3551, '요구사항': 3552, '요금': 3553, '요리': 3554, '요리법': 3555, '요리사': 3556, '요법': 3557, '요소': 3558, '요약': 3559, '요원': 3560, '요인': 3561, '요점': 3562, '요즘': 3563, '요청': 3564, '요크셔': 3565, '요트': 3566, '욕구': 3567, '욕실': 3568, '욕조': 3569, '용': 3570, '용건': 3571, '용납': 3572, '용다': 3573, '용도': 3574, '용량': 3575, '용무': 3576, '용법': 3577, '용어': 3578, '용의': 3579, '용이': 3580, '용이하다': 3581, '용인': 3582, '용판': 3583, '용품': 3584, '우': 3585, '우드': 3586, '우려': 3587, '우리': 3588, '우리나라': 3589, '우리은행': 3590, '우린': 3591, '우산': 3592, '우선': 3593, '우수하다': 3594, '우승자': 3595, '우아하다': 3596, '우여곡절': 3597, '우연히': 3598, '우와': 3599, '우위': 3600, '우유': 3601, '우주': 3602, '우크라이나': 3603, '우편': 3604, '우편물': 3605, '운': 3606, '운동': 3607, '운반': 3608, '운송': 3609, '운송업': 3610, '운영': 3611, '운영자': 3612, '운영체제': 3613, '운용': 3614, '운전': 3615, '운전기사': 3616, '운전자': 3617, '운하': 3618, '울리다': 3619, '울산': 3620, '움직이다': 3621, '움직임': 3622, '웃음': 3623, '웅장': 3624, '워': 3625, '워드': 3626, '워치': 3627, '워크샵': 3628, '워크숍': 3629, '워터': 3630, '원': 3631, '원격': 3632, '원고': 3633, '원금': 3634, '원래': 3635, '원리': 3636, '원본': 3637, '원사': 3638, '원스톱': 3639, '원심': 3640, '원심분리기': 3641, '원인': 3642, '원장': 3643, '원점': 3644, '원주공항': 3645, '원칙': 3646, '원통': 3647, '원하다': 3648, '원화': 3649, '원화도': 3650, '원활하다': 3651, '월': 3652, '월간': 3653, '월급': 3654, '월말': 3655, '월세': 3656, '월요일': 3657, '웜': 3658, '웠습': 3659, '웨딩': 3660, '웨비': 3661, '웨어': 3662, '웨이터': 3663, '웨이퍼': 3664, '웹': 3665, '웹디자인': 3666, '웹사이트': 3667, '웹캐스트': 3668, '웹페이지': 3669, '위': 3670, '위로': 3671, '위반': 3672, '위생': 3673, '위성': 3674, '위안': 3675, '위치': 3676, '위탁': 3677, '위태롭': 3678, '위태롭기': 3679, '위함': 3680, '위해': 3681, '위험': 3682, '위험하다': 3683, '위협': 3684, '윗': 3685, '윗사람': 3686, '유가': 3687, '유감': 3688, '유감스럽게': 3689, '유기': 3690, '유기농': 3691, '유닛': 3692, '유동': 3693, '유럽': 3694, '유로': 3695, '유료': 3696, '유르트': 3697, '유리하다': 3698, '유망': 3699, '유머': 3700, '유명': 3701, '유명인사': 3702, '유명하다': 3703, '유사하다': 3704, '유산': 3705, '유선': 3706, '유아': 3707, '유압': 3708, '유연성': 3709, '유연하다': 3710, '유예': 3711, '유용하다': 3712, '유의': 3713, '유익하다': 3714, '유인': 3715, '유인물': 3716, '유일하다': 3717, '유전': 3718, '유제품': 3719, '유지': 3720, '유치하다': 3721, '유통': 3722, '유통업': 3723, '유통업체': 3724, '유틸리티': 3725, '유학': 3726, '유학생': 3727, '유해하다': 3728, '유행': 3729, '유행병': 3730, '유형': 3731, '유효': 3732, '유효하다': 3733, '육류': 3734, '육성': 3735, '육수': 3736, '육지': 3737, '육회': 3738, '윤리': 3739, '율': 3740, '율기': 3741, '융자': 3742, '융통성': 3743, '으로': 3744, '은': 3745, '은은하다': 3746, '은퇴': 3747, '은행': 3748, '은행원': 3749, '을': 3750, '음': 3751, '음료': 3752, '음료수': 3753, '음반': 3754, '음반사': 3755, '음성': 3756, '음식': 3757, '음식점': 3758, '음악': 3759, '음원': 3760, '음질': 3761, '음향': 3762, '음향효과': 3763, '응': 3764, '응급': 3765, '응답': 3766, '응대': 3767, '응용': 3768, '응원': 3769, '의': 3770, '의견': 3771, '의논': 3772, '의도': 3773, '의뢰': 3774, '의료': 3775, '의류': 3776, '의무': 3777, '의문': 3778, '의미': 3779, '의사': 3780, '의사소통': 3781, '의상': 3782, '의식': 3783, '의심': 3784, '의심스럽다': 3785, '의약품': 3786, '의원': 3787, '의자': 3788, '의존': 3789, '의하다': 3790, '의향': 3791, '의회': 3792, '이': 3793, '이겠다': 3794, '이고': 3795, '이기': 3796, '이끌다': 3797, '이내': 3798, '이다': 3799, '이대로': 3800, '이동': 3801, '이동식': 3802, '이동해': 3803, '이드': 3804, '이득': 3805, '이따': 3806, '이러하다': 3807, '이런': 3808, '이렇게': 3809, '이렇다': 3810, '이력서': 3811, '이로': 3812, '이루어지다': 3813, '이뤄지다': 3814, '이르다': 3815, '이름': 3816, '이만': 3817, '이메일': 3818, '이며': 3819, '이면': 3820, '이목': 3821, '이미': 3822, '이미지': 3823, '이민자': 3824, '이번': 3825, '이벤트': 3826, '이보': 3827, '이불': 3828, '이브': 3829, '이사': 3830, '이사회': 3831, '이상': 3832, '이상은': 3833, '이서': 3834, '이세': 3835, '이송': 3836, '이수': 3837, '이슈': 3838, '이식': 3839, '이십': 3840, '이싼': 3841, '이야기': 3842, '이어지다': 3843, '이에요': 3844, '이외': 3845, '이요': 3846, '이용': 3847, '이용자': 3848, '이웃': 3849, '이유': 3850, '이율': 3851, '이음': 3852, '이의': 3853, '이익': 3854, '이자': 3855, '이자율': 3856, '이장': 3857, '이전': 3858, '이점': 3859, '이정표': 3860, '이제': 3861, '이중': 3862, '이중과세': 3863, '이지': 3864, '이지만': 3865, '이집트': 3866, '이체': 3867, '이탈': 3868, '이탈리아': 3869, '이탈리아어': 3870, '이틀': 3871, '이해': 3872, '이해만': 3873, '이해해': 3874, '이행': 3875, '이후': 3876, '익숙하다': 3877, '익숙해지다': 3878, '익스텐더': 3879, '익일': 3880, '익히다': 3881, '인': 3882, '인간': 3883, '인건비': 3884, '인걸': 3885, '인공': 3886, '인구': 3887, '인기': 3888, '인내': 3889, '인내심': 3890, '인덱스': 3891, '인도': 3892, '인도네시아': 3893, '인력': 3894, '인명': 3895, '인보이스': 3896, '인분': 3897, '인사': 3898, '인삼': 3899, '인상': 3900, '인생': 3901, '인센티브': 3902, '인쇄': 3903, '인쇄기': 3904, '인쇄판': 3905, '인수': 3906, '인스턴트': 3907, '인식': 3908, '인용': 3909, '인원': 3910, '인정': 3911, '인정받다': 3912, '인조섬유': 3913, '인증': 3914, '인증서': 3915, '인지': 3916, '인지도': 3917, '인천': 3918, '인치': 3919, '인코딩': 3920, '인큐베이터': 3921, '인터': 3922, '인터넷': 3923, '인터뷰': 3924, '인터페이스': 3925, '인턴': 3926, '인테리어': 3927, '인파': 3928, '인포그래픽': 3929, '인프라': 3930, '인플레이션': 3931, '인플레이션율': 3932, '인하': 3933, '인하다': 3934, '일': 3935, '일과': 3936, '일관': 3937, '일단': 3938, '일러스트': 3939, '일러스트레이션': 3940, '일련': 3941, '일련번호': 3942, '일로': 3943, '일류': 3944, '일반': 3945, '일반인': 3946, '일별': 3947, '일본': 3948, '일본어': 3949, '일부': 3950, '일부러': 3951, '일산': 3952, '일상': 3953, '일상생활': 3954, '일수': 3955, '일시': 3956, '일어나고': 3957, '일어나다': 3958, '일어나지': 3959, '일요일': 3960, '일으키다': 3961, '일이': 3962, '일인': 3963, '일일': 3964, '일자리': 3965, '일정': 3966, '일정하다': 3967, '일종': 3968, '일주일': 3969, '일찍': 3970, '일체': 3971, '일치': 3972, '일해': 3973, '일행': 3974, '일환': 3975, '일회용': 3976, '읽다': 3977, '잃다': 3978, '잃어버리다': 3979, '임': 3980, '임기': 3981, '임대': 3982, '임대료': 3983, '임무': 3984, '임박': 3985, '임베디드': 3986, '임상시험': 3987, '임시': 3988, '임원': 3989, '임원진': 3990, '임의': 3991, '임차': 3992, '임펠러': 3993, '입': 3994, '입금': 3995, '입니다': 3996, '입다': 3997, '입력': 3998, '입맛': 3999, '입사': 4000, '입안': 4001, '입원': 4002, '입자': 4003, '입장': 4004, '입장료': 4005, '입지': 4006, '입찰': 4007, '입출': 4008, '입학': 4009, '있다': 4010, '잊다': 4011, '잊어버리다': 4012, '잎': 4013, '자': 4014, '자게': 4015, '자격': 4016, '자고': 4017, '자국': 4018, '자극': 4019, '자금': 4020, '자기': 4021, '자꾸': 4022, '자녀': 4023, '자다': 4024, '자동': 4025, '자동차': 4026, '자동화': 4027, '자라다': 4028, '자랑': 4029, '자랑스럽다': 4030, '자로': 4031, '자료': 4032, '자르다': 4033, '자리': 4034, '자마자': 4035, '자막': 4036, '자문': 4037, '자본': 4038, '자사': 4039, '자산': 4040, '자서전': 4041, '자선단체': 4042, '자세하다': 4043, '자수': 4044, '자식': 4045, '자신': 4046, '자신감': 4047, '자연': 4048, '자연계': 4049, '자연어': 4050, '자영': 4051, '자원': 4052, '자유': 4053, '자유롭다': 4054, '자재': 4055, '자전거': 4056, '자주': 4057, '자질': 4058, '자체': 4059, '자쿠': 4060, '자쿠지': 4061, '자택': 4062, '자판기': 4063, '자회사': 4064, '작': 4065, '작가': 4066, '작고': 4067, '작곡가': 4068, '작년': 4069, '작다': 4070, '작동': 4071, '작문': 4072, '작성': 4073, '작업': 4074, '작용': 4075, '작품': 4076, '잔': 4077, '잔고': 4078, '잔금': 4079, '잔디': 4080, '잔액': 4081, '잘': 4082, '잘못': 4083, '잘해야': 4084, '잠': 4085, '잠그다': 4086, '잠깐': 4087, '잠수': 4088, '잠시': 4089, '잠옷': 4090, '잠재': 4091, '잠재력': 4092, '잠정': 4093, '잡': 4094, '잡기': 4095, '잡다': 4096, '잡지': 4097, '잡채': 4098, '잡히다': 4099, '장': 4100, '장갑': 4101, '장거리': 4102, '장공': 4103, '장기': 4104, '장님': 4105, '장담': 4106, '장래': 4107, '장르': 4108, '장모님': 4109, '장바구니': 4110, '장벽': 4111, '장부': 4112, '장비': 4113, '장소': 4114, '장식': 4115, '장애': 4116, '장애물': 4117, '장애인': 4118, '장용': 4119, '장의': 4120, '장점': 4121, '장착': 4122, '장치': 4123, '장학금': 4124, '재': 4125, '재개': 4126, '재고': 4127, '재교육': 4128, '재난': 4129, '재능': 4130, '재단': 4131, '재료': 4132, '재무': 4133, '재무부': 4134, '재무제표': 4135, '재미': 4136, '재미있다': 4137, '재밌다': 4138, '재발': 4139, '재봉틀': 4140, '재사용': 4141, '재산': 4142, '재산권': 4143, '재생': 4144, '재우다': 4145, '재정': 4146, '재택근무': 4147, '재해': 4148, '재활': 4149, '쟁기질': 4150, '저': 4151, '저녁': 4152, '저녁식사': 4153, '저렴하다': 4154, '저만': 4155, '저만큼': 4156, '저명하다': 4157, '저번': 4158, '저속': 4159, '저자': 4160, '저작권': 4161, '저작권법': 4162, '저장': 4163, '저절로': 4164, '저지르다': 4165, '저쪽': 4166, '저축': 4167, '저항기': 4168, '저희': 4169, '적': 4170, '적격': 4171, '적극': 4172, '적기': 4173, '적다': 4174, '적당하다': 4175, '적도': 4176, '적립': 4177, '적어도': 4178, '적용': 4179, '적응': 4180, '적자': 4181, '적재': 4182, '적절하다': 4183, '적정': 4184, '적합하다': 4185, '적히다': 4186, '전': 4187, '전개': 4188, '전공': 4189, '전기': 4190, '전기자전거': 4191, '전날': 4192, '전념': 4193, '전달': 4194, '전동': 4195, '전략': 4196, '전력': 4197, '전류': 4198, '전망': 4199, '전면': 4200, '전무': 4201, '전문': 4202, '전문가': 4203, '전문성': 4204, '전문점': 4205, '전문직': 4206, '전반': 4207, '전병': 4208, '전부': 4209, '전분': 4210, '전선': 4211, '전세계': 4212, '전송': 4213, '전술': 4214, '전시': 4215, '전시장': 4216, '전시회': 4217, '전신': 4218, '전액': 4219, '전역': 4220, '전염병': 4221, '전용': 4222, '전원': 4223, '전이': 4224, '전자': 4225, '전자기': 4226, '전자기기': 4227, '전자레인지': 4228, '전자상거래': 4229, '전자제품': 4230, '전자책': 4231, '전적': 4232, '전체': 4233, '전통': 4234, '전통문화': 4235, '전표': 4236, '전하': 4237, '전해': 4238, '전혀': 4239, '전화': 4240, '전화기': 4241, '전화번호': 4242, '전화하다': 4243, '전환': 4244, '전후': 4245, '젇': 4246, '절': 4247, '절감': 4248, '절기': 4249, '절단': 4250, '절대': 4251, '절반': 4252, '절삭기': 4253, '절실': 4254, '절약': 4255, '절차': 4256, '젊다': 4257, '젊은이': 4258, '점': 4259, '점검': 4260, '점도': 4261, '점수': 4262, '점심': 4263, '점유': 4264, '점자': 4265, '점점': 4266, '점진': 4267, '점화': 4268, '접': 4269, '접근': 4270, '접근성': 4271, '접대': 4272, '접속': 4273, '접수': 4274, '접시': 4275, '접종': 4276, '접착': 4277, '접합': 4278, '젓가락': 4279, '정': 4280, '정관': 4281, '정규': 4282, '정규직': 4283, '정기': 4284, '정기예금': 4285, '정당하다': 4286, '정도': 4287, '정독': 4288, '정류장': 4289, '정리': 4290, '정말': 4291, '정말로': 4292, '정밀도': 4293, '정박': 4294, '정보': 4295, '정보기술': 4296, '정본': 4297, '정부': 4298, '정비': 4299, '정비사': 4300, '정산': 4301, '정상': 4302, '정상인': 4303, '정상화': 4304, '정성': 4305, '정수': 4306, '정수기': 4307, '정식': 4308, '정신': 4309, '정원': 4310, '정육점': 4311, '정의': 4312, '정이': 4313, '정적': 4314, '정전': 4315, '정직하다': 4316, '정착': 4317, '정책': 4318, '정체': 4319, '정치': 4320, '정치인': 4321, '정통': 4322, '정통하다': 4323, '정해': 4324, '정해지다': 4325, '정해진': 4326, '정화': 4327, '정확도': 4328, '정확하다': 4329, '제': 4330, '제거': 4331, '제곱': 4332, '제곱미터': 4333, '제공': 4334, '제기': 4335, '제대로': 4336, '제도': 4337, '제때': 4338, '제로': 4339, '제목': 4340, '제발': 4341, '제보': 4342, '제빵': 4343, '제빵사': 4344, '제삼자': 4345, '제시': 4346, '제안': 4347, '제어': 4348, '제외': 4349, '제일': 4350, '제입': 4351, '제작': 4352, '제작자': 4353, '제작회사': 4354, '제재': 4355, '제적': 4356, '제조': 4357, '제조업': 4358, '제조업체': 4359, '제주': 4360, '제출': 4361, '제품': 4362, '제품군': 4363, '제한': 4364, '제휴': 4365, '젠': 4366, '젯': 4367, '조': 4368, '조각': 4369, '조각가': 4370, '조각상': 4371, '조건': 4372, '조국': 4373, '조금': 4374, '조달': 4375, '조도': 4376, '조로': 4377, '조리': 4378, '조립': 4379, '조만간': 4380, '조명': 4381, '조명탄': 4382, '조물': 4383, '조미료': 4384, '조사': 4385, '조사해': 4386, '조선': 4387, '조수': 4388, '조식': 4389, '조심': 4390, '조심하다': 4391, '조언': 4392, '조용하다': 4393, '조잡하다': 4394, '조장': 4395, '조절': 4396, '조정': 4397, '조정은': 4398, '조지아': 4399, '조직': 4400, '조취': 4401, '조치': 4402, '조카': 4403, '조합': 4404, '조항': 4405, '조화': 4406, '조회': 4407, '족발': 4408, '존경': 4409, '존재': 4410, '존중': 4411, '졸업장': 4412, '좀': 4413, '좁히다': 4414, '종': 4415, '종교': 4416, '종단': 4417, '종도': 4418, '종로': 4419, '종료': 4420, '종류': 4421, '종사': 4422, '종습니': 4423, '종신': 4424, '종업원': 4425, '종이': 4426, '종일': 4427, '종합': 4428, '좋다': 4429, '좋아지다': 4430, '좋아하다': 4431, '좌석': 4432, '좌우': 4433, '죄송하다': 4434, '주': 4435, '주가': 4436, '주간': 4437, '주간지': 4438, '주거': 4439, '주고받다': 4440, '주기': 4441, '주다': 4442, '주된': 4443, '주렴': 4444, '주로': 4445, '주류': 4446, '주말': 4447, '주머니': 4448, '주목': 4449, '주무시다': 4450, '주문': 4451, '주민': 4452, '주민등록': 4453, '주방': 4454, '주변': 4455, '주사기': 4456, '주선': 4457, '주소': 4458, '주스': 4459, '주시': 4460, '주식': 4461, '주식시장': 4462, '주신': 4463, '주어지다': 4464, '주얼': 4465, '주요': 4466, '주의': 4467, '주인': 4468, '주일': 4469, '주임': 4470, '주자': 4471, '주장': 4472, '주저': 4473, '주제': 4474, '주제가': 4475, '주지': 4476, '주차': 4477, '주차장': 4478, '주철': 4479, '주택': 4480, '주파수': 4481, '죽': 4482, '준': 4483, '준비': 4484, '준수': 4485, '줄': 4486, '줄기': 4487, '줄다': 4488, '줄어들다': 4489, '줄이다': 4490, '줌': 4491, '줍다': 4492, '중': 4493, '중간': 4494, '중개': 4495, '중개사': 4496, '중개인': 4497, '중고': 4498, '중고품': 4499, '중공업': 4500, '중국': 4501, '중국집': 4502, '중단': 4503, '중등교육': 4504, '중복': 4505, '중소기업': 4506, '중시': 4507, '중심': 4508, '중심부': 4509, '중요성': 4510, '중요하다': 4511, '중이': 4512, '중인': 4513, '중장비': 4514, '중재': 4515, '중점': 4516, '중형견': 4517, '중환자': 4518, '즉': 4519, '즉각': 4520, '즉석': 4521, '즉시': 4522, '즐거움': 4523, '즐겁다': 4524, '즐기다': 4525, '증가': 4526, '증거': 4527, '증권': 4528, '증권사': 4529, '증명': 4530, '증명서': 4531, '증발기': 4532, '증빙': 4533, '증서': 4534, '증세': 4535, '증진': 4536, '증폭': 4537, '증폭기': 4538, '지': 4539, '지갑': 4540, '지게': 4541, '지게차': 4542, '지고': 4543, '지구': 4544, '지금': 4545, '지급': 4546, '지나다': 4547, '지난': 4548, '지난달': 4549, '지난번': 4550, '지난주': 4551, '지난해': 4552, '지남': 4553, '지내다': 4554, '지능': 4555, '지다': 4556, '지도': 4557, '지독하다': 4558, '지루하다': 4559, '지루함': 4560, '지르다': 4561, '지리': 4562, '지면': 4563, '지명': 4564, '지문': 4565, '지방': 4566, '지불': 4567, '지붕': 4568, '지사': 4569, '지속': 4570, '지수': 4571, '지시': 4572, '지식': 4573, '지역': 4574, '지역성': 4575, '지연': 4576, '지용': 4577, '지우다': 4578, '지원': 4579, '지원이': 4580, '지인': 4581, '지저분하다': 4582, '지적': 4583, '지점': 4584, '지정': 4585, '지주': 4586, '지지': 4587, '지체': 4588, '지출': 4589, '지침': 4590, '지켜보다': 4591, '지키다': 4592, '지폐': 4593, '지표': 4594, '지프': 4595, '지하실': 4596, '지하철': 4597, '지향': 4598, '직': 4599, '직감': 4600, '직경': 4601, '직급': 4602, '직도': 4603, '직면': 4604, '직물': 4605, '직불': 4606, '직업': 4607, '직원': 4608, '직장': 4609, '직접': 4610, '직접투자': 4611, '직책': 4612, '진': 4613, '진공': 4614, '진과': 4615, '진단': 4616, '진동': 4617, '진상': 4618, '진실': 4619, '진실하다': 4620, '진심': 4621, '진의': 4622, '진입': 4623, '진정': 4624, '진정하다': 4625, '진지하다': 4626, '진짜': 4627, '진출': 4628, '진행': 4629, '진행자': 4630, '진화': 4631, '진흥': 4632, '질': 4633, '질감': 4634, '질문': 4635, '질병': 4636, '질환': 4637, '짐': 4638, '집': 4639, '집값': 4640, '집다': 4641, '집단': 4642, '집세': 4643, '집안일': 4644, '집의': 4645, '집주인': 4646, '집중': 4647, '집하장': 4648, '집합': 4649, '집행': 4650, '집행자': 4651, '짓다': 4652, '징': 4653, '징글링': 4654, '짚': 4655, '짜다': 4656, '짜리': 4657, '짜장': 4658, '짤': 4659, '짧다': 4660, '쪽': 4661, '쫓아내다': 4662, '쯤': 4663, '찌개': 4664, '찍다': 4665, '찍히다': 4666, '찜': 4667, '찜질방': 4668, '찢어지다': 4669, '차': 4670, '차감': 4671, '차갑다': 4672, '차고': 4673, '차기': 4674, '차다': 4675, '차단': 4676, '차도': 4677, '차등': 4678, '차라리': 4679, '차량': 4680, '차례': 4681, '차리다': 4682, '차별': 4683, '차서': 4684, '차용': 4685, '차원': 4686, '차이': 4687, '차이다': 4688, '차이점': 4689, '차입': 4690, '차지': 4691, '차질': 4692, '차트': 4693, '찬': 4694, '참가': 4695, '참가자': 4696, '참고': 4697, '참배': 4698, '참석': 4699, '참석자': 4700, '참여': 4701, '참으로': 4702, '참조': 4703, '찹쌀': 4704, '창': 4705, '창가': 4706, '창고': 4707, '창구': 4708, '창립': 4709, '창문': 4710, '창업': 4711, '창의': 4712, '찾기': 4713, '찾다': 4714, '찾아보다': 4715, '찾아오다': 4716, '채': 4717, '채굴': 4718, '채권': 4719, '채권자': 4720, '채널': 4721, '채다': 4722, '채무': 4723, '채무자': 4724, '채색': 4725, '채소': 4726, '채식': 4727, '채식주의자': 4728, '채용': 4729, '채우다': 4730, '채취': 4731, '채택': 4732, '채팅': 4733, '책': 4734, '책임': 4735, '책임감': 4736, '책임자': 4737, '책임지다': 4738, '책자': 4739, '책정': 4740, '챔버입니': 4741, '처': 4742, '처가': 4743, '처리': 4744, '처리기': 4745, '처방': 4746, '처분': 4747, '처음': 4748, '천만': 4749, '천연': 4750, '천연가스': 4751, '천장': 4752, '천천히': 4753, '철': 4754, '철강': 4755, '철도': 4756, '철저하다': 4757, '철제': 4758, '철학': 4759, '철회': 4760, '첨부': 4761, '첫': 4762, '첫날': 4763, '첫인상': 4764, '첫째': 4765, '청': 4766, '청각장애': 4767, '청구': 4768, '청년': 4769, '청동': 4770, '청문회': 4771, '청사진': 4772, '청소': 4773, '청소년': 4774, '청정': 4775, '청정기': 4776, '청중': 4777, '청취': 4778, '체결': 4779, '체납': 4780, '체류': 4781, '체육관': 4782, '체인': 4783, '체인점': 4784, '체제': 4785, '체크': 4786, '체크아웃': 4787, '체험': 4788, '초': 4789, '초고': 4790, '초과': 4791, '초기': 4792, '초당': 4793, '초대': 4794, '초대장': 4795, '초래': 4796, '초상화': 4797, '초안': 4798, '초음파': 4799, '초입': 4800, '초점': 4801, '초청': 4802, '초콜릿': 4803, '촉구': 4804, '촉박하다': 4805, '총': 4806, '총수': 4807, '총칭': 4808, '촬영': 4809, '최': 4810, '최고': 4811, '최고급': 4812, '최근': 4813, '최대': 4814, '최대한': 4815, '최상': 4816, '최선': 4817, '최선일': 4818, '최소': 4819, '최소한': 4820, '최신': 4821, '최악': 4822, '최저': 4823, '최적': 4824, '최적화': 4825, '최종': 4826, '최첨단': 4827, '최초': 4828, '추가': 4829, '추구': 4830, '추다': 4831, '추석': 4832, '추세': 4833, '추억': 4834, '추적': 4835, '추정': 4836, '추진': 4837, '추천': 4838, '추출': 4839, '추후': 4840, '축': 4841, '축배': 4842, '축소': 4843, '축하': 4844, '출구': 4845, '출금': 4846, '출두': 4847, '출력': 4848, '출발점': 4849, '출산': 4850, '출시': 4851, '출연': 4852, '출장': 4853, '출퇴근': 4854, '출판': 4855, '출판물': 4856, '출판사': 4857, '출하': 4858, '춤': 4859, '충': 4860, '충격': 4861, '충당': 4862, '충돌': 4863, '충분하다': 4864, '충실하다': 4865, '충전': 4866, '충전기': 4867, '충족': 4868, '취': 4869, '취급': 4870, '취득': 4871, '취미': 4872, '취사': 4873, '취소': 4874, '취약': 4875, '취재': 4876, '취직': 4877, '취하': 4878, '취한': 4879, '취할': 4880, '취해': 4881, '취향': 4882, '측': 4883, '측면': 4884, '측정': 4885, '측정기': 4886, '층': 4887, '치': 4888, '치가': 4889, '치과': 4890, '치다': 4891, '치료': 4892, '치르다': 4893, '치맥': 4894, '치솟다': 4895, '치수': 4896, '치열하다': 4897, '치즈': 4898, '치킨': 4899, '친': 4900, '친구': 4901, '친절하다': 4902, '친척': 4903, '친하다': 4904, '친환경': 4905, '칠': 4906, '칠하다': 4907, '침': 4908, '침대': 4909, '침실': 4910, '침입': 4911, '침체': 4912, '침해': 4913, '칩': 4914, '칩셋': 4915, '칭찬': 4916, '카드': 4917, '카메라': 4918, '카뷰': 4919, '카운터': 4920, '카운트다운': 4921, '카지노': 4922, '카탈로그': 4923, '카테고리': 4924, '카트': 4925, '카페': 4926, '카페테리아': 4927, '카펫': 4928, '카피': 4929, '칵테일': 4930, '칸': 4931, '칼': 4932, '칼리': 4933, '캐': 4934, '캐나다': 4935, '캐리어': 4936, '캐릭터': 4937, '캐비닛': 4938, '캐빈': 4939, '캐싱': 4940, '캐터필러': 4941, '캐피탈': 4942, '캐피털': 4943, '캘리포니아': 4944, '캘린더': 4945, '캠': 4946, '캠퍼스': 4947, '캠페인': 4948, '캠프': 4949, '캠프장': 4950, '캠프파이어': 4951, '캠핑': 4952, '캠핑장': 4953, '캠핑카': 4954, '캡슐화': 4955, '캡처': 4956, '커뮤니케이션': 4957, '커뮤니티': 4958, '커미션': 4959, '커버': 4960, '커지다': 4961, '커터': 4962, '커튼': 4963, '커플': 4964, '커피': 4965, '커피메이커': 4966, '컨디셔닝': 4967, '컨베이어': 4968, '컨설턴트': 4969, '컨설팅': 4970, '컨셉': 4971, '컨테이너': 4972, '컨텐츠': 4973, '컬래버레이션': 4974, '컬러': 4975, '컴퍼니': 4976, '컴포트룸': 4977, '컴퓨터': 4978, '컴퓨팅': 4979, '컴프레서': 4980, '컷': 4981, '케어': 4982, '케이': 4983, '케이블': 4984, '케이스': 4985, '케이크': 4986, '코': 4987, '코너': 4988, '코드': 4989, '코딩': 4990, '코로나': 4991, '코르크': 4992, '코리아': 4993, '코리안': 4994, '코멘트': 4995, '코스': 4996, '코스닥': 4997, '코인': 4998, '코치': 4999, '코칭': 5000, '코코넛': 5001, '코퍼레이션': 5002, '콕': 5003, '콘덴서': 5004, '콘도': 5005, '콘도그': 5006, '콘서트': 5007, '콘셉': 5008, '콘셉트': 5009, '콘솔': 5010, '콘크리트': 5011, '콘텐츠': 5012, '콜리': 5013, '콜링': 5014, '콜카타': 5015, '콩나물': 5016, '쾌적하다': 5017, '쿠션': 5018, '쿠알라룸푸르': 5019, '쿠키': 5020, '쿠폰': 5021, '쿨': 5022, '쿨러': 5023, '퀼트': 5024, '큐': 5025, '크게': 5026, '크기': 5027, '크다': 5028, '크레딧': 5029, '크레인': 5030, '크루아상': 5031, '크류': 5032, '크리스마스': 5033, '크리에이터': 5034, '크리에이티브': 5035, '크립': 5036, '클라우드': 5037, '클라이언트': 5038, '클래스': 5039, '클러스터': 5040, '클럽': 5041, '클레': 5042, '클리': 5043, '클릭': 5044, '클릭률': 5045, '클립': 5046, '큼': 5047, '키': 5048, '키란': 5049, '키우다': 5050, '키트': 5051, '킬로그램': 5052, '킬로미터': 5053, '킬로와트': 5054, '타': 5055, '타겟': 5056, '타고': 5057, '타깃': 5058, '타다': 5059, '타당': 5060, '타운하우스': 5061, '타원곡선': 5062, '타이머': 5063, '타이밍': 5064, '타이어': 5065, '타이틀곡': 5066, '타임': 5067, '타임스퀘어': 5068, '타입': 5069, '타자기': 5070, '타협': 5071, '탁월하다': 5072, '탁자': 5073, '탄소': 5074, '탄원서': 5075, '탈': 5076, '탈세': 5077, '탈수': 5078, '탈퇴': 5079, '탐구': 5080, '탐방': 5081, '탐색': 5082, '탐험': 5083, '탑': 5084, '탑승': 5085, '탑재': 5086, '탕': 5087, '탕감': 5088, '태국': 5089, '태국어': 5090, '태그': 5091, '태극': 5092, '태극기': 5093, '태도': 5094, '태블릿': 5095, '태양': 5096, '택배': 5097, '탤런트': 5098, '탭': 5099, '터': 5100, '터널': 5101, '터링': 5102, '터미널': 5103, '터북': 5104, '터치': 5105, '터치스크린': 5106, '터키': 5107, '턴': 5108, '턴키': 5109, '테': 5110, '테니스': 5111, '테라': 5112, '테라바이트': 5113, '테라스': 5114, '테마': 5115, '테스': 5116, '테스트': 5117, '테이': 5118, '테이블': 5119, '테이프': 5120, '테크놀로지': 5121, '텍스처': 5122, '텍스트': 5123, '텐데': 5124, '텐데요': 5125, '텐트': 5126, '텔레비전': 5127, '템플': 5128, '템플릿': 5129, '템플스테이': 5130, '토너': 5131, '토론': 5132, '토르티야': 5133, '토목': 5134, '토스터': 5135, '토스트': 5136, '토요일': 5137, '토지': 5138, '토큰': 5139, '톤': 5140, '통': 5141, '통계': 5142, '통과': 5143, '통관': 5144, '통닭': 5145, '통도사': 5146, '통보': 5147, '통상': 5148, '통신': 5149, '통신망': 5150, '통신사': 5151, '통역': 5152, '통역관': 5153, '통장': 5154, '통제': 5155, '통지': 5156, '통지서': 5157, '통째': 5158, '통찰': 5159, '통한': 5160, '통합': 5161, '통해': 5162, '통화': 5163, '퇴근': 5164, '퇴사': 5165, '투': 5166, '투명': 5167, '투명하다': 5168, '투숙': 5169, '투어': 5170, '투자': 5171, '투자가': 5172, '투자수익률': 5173, '투자자': 5174, '툴': 5175, '튀기다': 5176, '튀김': 5177, '튜브': 5178, '튜토리얼': 5179, '트': 5180, '트래킹': 5181, '트래픽': 5182, '트랙볼': 5183, '트랙터': 5184, '트랙패드': 5185, '트랜치': 5186, '트러블': 5187, '트럭': 5188, '트레인': 5189, '트레일러': 5190, '트렌드': 5191, '트리': 5192, '트리트먼트': 5193, '트리플': 5194, '트윈': 5195, '트이다': 5196, '특권': 5197, '특급': 5198, '특기': 5199, '특별': 5200, '특별하다': 5201, '특산': 5202, '특선': 5203, '특성': 5204, '특수': 5205, '특수하다': 5206, '특정': 5207, '특정하다': 5208, '특제': 5209, '특집': 5210, '특징': 5211, '특허': 5212, '특히': 5213, '튼튼하다': 5214, '틀다': 5215, '틀림없다': 5216, '틀림없이': 5217, '틀어놓다': 5218, '틈': 5219, '틈새': 5220, '티': 5221, '티슈': 5222, '티저': 5223, '티켓': 5224, '팀': 5225, '팀원': 5226, '팁': 5227, '팅': 5228, '파견': 5229, '파괴': 5230, '파다': 5231, '파란색': 5232, '파로': 5233, '파리': 5234, '파산': 5235, '파산하다': 5236, '파손': 5237, '파스타': 5238, '파악': 5239, '파워': 5240, '파이': 5241, '파이다': 5242, '파이썬': 5243, '파이프': 5244, '파이프라인': 5245, '파일': 5246, '파키스탄': 5247, '파트너': 5248, '파트너쉽': 5249, '파티': 5250, '파파야': 5251, '판': 5252, '판금': 5253, '판단': 5254, '판매': 5255, '판매량': 5256, '판매업': 5257, '판명': 5258, '판촉': 5259, '팔': 5260, '팔고': 5261, '팔다': 5262, '팔레트': 5263, '팔로우': 5264, '팔로워': 5265, '팔리다': 5266, '팔지': 5267, '팜스프링스': 5268, '팜유': 5269, '팝': 5270, '팟캐스트': 5271, '패널': 5272, '패션': 5273, '패스': 5274, '패스트': 5275, '패스트푸드': 5276, '패자': 5277, '패치': 5278, '패키지': 5279, '패턴': 5280, '팩': 5281, '팩스': 5282, '팬': 5283, '팬데믹': 5284, '팬케이크': 5285, '팸플릿': 5286, '퍼센트': 5287, '퍼지다': 5288, '펀드': 5289, '펀딩': 5290, '펄스': 5291, '펌프': 5292, '페스티벌': 5293, '페이': 5294, '페이스': 5295, '페이지': 5296, '펜션': 5297, '펠메니': 5298, '펴다': 5299, '편': 5300, '편곡': 5301, '편도': 5302, '편리하다': 5303, '편물': 5304, '편안하다': 5305, '편안함': 5306, '편애': 5307, '편의': 5308, '편의점': 5309, '편이': 5310, '편입': 5311, '편지': 5312, '편지함': 5313, '편집': 5314, '편집자': 5315, '편하다': 5316, '평가': 5317, '평가판': 5318, '평균': 5319, '평면도': 5320, '평방': 5321, '평범하다': 5322, '평생': 5323, '평일': 5324, '평점': 5325, '평판': 5326, '평편': 5327, '평평하다': 5328, '평화': 5329, '폐가': 5330, '폐기물': 5331, '폐쇄': 5332, '폐쇄되어': 5333, '폐쇄하': 5334, '포': 5335, '포격': 5336, '포괄': 5337, '포기': 5338, '포스터': 5339, '포스트': 5340, '포스팅': 5341, '포인트': 5342, '포장': 5343, '포지셔닝': 5344, '포지션': 5345, '포켓': 5346, '포탄': 5347, '포털': 5348, '포토': 5349, '포트': 5350, '포트폴리오': 5351, '포함': 5352, '포항': 5353, '폭': 5354, '폭력': 5355, '폰': 5356, '폰트': 5357, '폴더': 5358, '폴리스티렌': 5359, '폴리오': 5360, '폴리우레탄': 5361, '폼': 5362, '표': 5363, '표면': 5364, '표시': 5365, '표절': 5366, '표정': 5367, '표준': 5368, '표지': 5369, '표현': 5370, '푸드': 5371, '풀': 5372, '풀다': 5373, '품': 5374, '품다': 5375, '품목': 5376, '품절': 5377, '품종': 5378, '품질': 5379, '풍': 5380, '풍부하다': 5381, '풍향': 5382, '퓨전': 5383, '프라이': 5384, '프라이드': 5385, '프라이머리': 5386, '프랑스': 5387, '프랑스어': 5388, '프랜차이즈': 5389, '프레': 5390, '프레임': 5391, '프레임워크': 5392, '프로': 5393, '프로그래머': 5394, '프로그래밍': 5395, '프로그램': 5396, '프로듀서': 5397, '프로모션': 5398, '프로세서': 5399, '프로세스': 5400, '프로젝터': 5401, '프로젝트': 5402, '프로토콜': 5403, '프로토타입': 5404, '프로필': 5405, '프루티': 5406, '프리랜서': 5407, '프리미엄': 5408, '프리뷰': 5409, '프린터': 5410, '플': 5411, '플라스틱': 5412, '플라이': 5413, '플라자': 5414, '플래닝': 5415, '플래시': 5416, '플래티넘': 5417, '플랜': 5418, '플랫폼': 5419, '플러그인': 5420, '플러머': 5421, '플러스': 5422, '플레이': 5423, '플레이어': 5424, '플로우': 5425, '플로터': 5426, '플루': 5427, '플립': 5428, '피': 5429, '피나': 5430, '피니쉬': 5431, '피드백': 5432, '피로연': 5433, '피부': 5434, '피스톤': 5435, '피아노': 5436, '피우다': 5437, '피칭팀': 5438, '피크': 5439, '피트': 5440, '피트니스': 5441, '피하': 5442, '피해': 5443, '피해자': 5444, '픽셀': 5445, '픽업': 5446, '핀': 5447, '필기체': 5448, '필드': 5449, '필름': 5450, '필리핀': 5451, '필수': 5452, '필요': 5453, '필요성': 5454, '필요없다': 5455, '필요하다': 5456, '필욘': 5457, '필터': 5458, '핑크': 5459, '하': 5460, '하기는': 5461, '하나': 5462, '하나로': 5463, '하나요': 5464, '하니': 5465, '하다': 5466, '하단': 5467, '하드': 5468, '하드웨어': 5469, '하락': 5470, '하루': 5471, '하루나': 5472, '하룻밤': 5473, '하므다': 5474, '하수': 5475, '하숙집': 5476, '하얀색': 5477, '하오니': 5478, '하와이': 5479, '하우': 5480, '하우스': 5481, '하이재킹': 5482, '하이킹': 5483, '하이테크': 5484, '하자': 5485, '학': 5486, '학과': 5487, '학교': 5488, '학기': 5489, '학년': 5490, '학문': 5491, '학생': 5492, '학술': 5493, '학습': 5494, '학업': 5495, '학원': 5496, '학위': 5497, '학자': 5498, '학자금': 5499, '한': 5500, '한가하다': 5501, '한계': 5502, '한국': 5503, '한국어': 5504, '한국은행': 5505, '한국인': 5506, '한다는': 5507, '한도': 5508, '한두': 5509, '한마디': 5510, '한번': 5511, '한식': 5512, '한식당': 5513, '한옥호텔': 5514, '한우': 5515, '한자': 5516, '한잔': 5517, '한정': 5518, '한정식': 5519, '한정판': 5520, '한지': 5521, '한창': 5522, '한층': 5523, '한편': 5524, '할당': 5525, '할랄': 5526, '할머니': 5527, '할부': 5528, '할애': 5529, '할인': 5530, '함': 5531, '함께': 5532, '합': 5533, '합격': 5534, '합계': 5535, '합류': 5536, '합리': 5537, '합법': 5538, '합성': 5539, '합의': 5540, '합작': 5541, '합치다': 5542, '합판': 5543, '핫': 5544, '핫스팟': 5545, '항': 5546, '항공': 5547, '항공사': 5548, '항구': 5549, '항목': 5550, '항상': 5551, '항성': 5552, '항의': 5553, '해': 5554, '해결': 5555, '해고': 5556, '해당': 5557, '해도': 5558, '해독': 5559, '해드리다': 5560, '해명': 5561, '해변': 5562, '해보다': 5563, '해봤다': 5564, '해상도': 5565, '해석': 5566, '해소': 5567, '해심': 5568, '해안': 5569, '해오다': 5570, '해외': 5571, '해외여행': 5572, '해주다': 5573, '해주시': 5574, '해지': 5575, '해초': 5576, '해커': 5577, '해킹': 5578, '해피': 5579, '핵심': 5580, '핸드폰': 5581, '행': 5582, '행동': 5583, '행복': 5584, '행복하다': 5585, '행사': 5586, '행운': 5587, '행해지다': 5588, '향': 5589, '향상': 5590, '향수': 5591, '향신료': 5592, '향후': 5593, '허가': 5594, '허가증': 5595, '허락': 5596, '허브': 5597, '허브차': 5598, '허슬': 5599, '허용': 5600, '허튼': 5601, '허풍': 5602, '헌신': 5603, '헐벗': 5604, '헤드헌터': 5605, '헤어드라이어': 5606, '헤지': 5607, '헬': 5608, '헬스장': 5609, '헷갈리다': 5610, '혁신': 5611, '현': 5612, '현금': 5613, '현대': 5614, '현명하다': 5615, '현미경': 5616, '현상': 5617, '현수막': 5618, '현장': 5619, '현재': 5620, '현지': 5621, '현행': 5622, '현황': 5623, '혈압': 5624, '혈액': 5625, '혐의': 5626, '협동': 5627, '협력': 5628, '협상': 5629, '협약': 5630, '협연': 5631, '협의': 5632, '협정': 5633, '협조': 5634, '협찬': 5635, '협회': 5636, '형': 5637, '형기': 5638, '형성': 5639, '형식': 5640, '형제': 5641, '형태': 5642, '혜택': 5643, '호도': 5644, '호법': 5645, '호스팅': 5646, '호실': 5647, '호의': 5648, '호주': 5649, '호출': 5650, '호텔': 5651, '호환': 5652, '호환성': 5653, '호흡': 5654, '혹독하다': 5655, '혹시': 5656, '혹은': 5657, '혼란': 5658, '혼자': 5659, '혼잡하다': 5660, '혼합': 5661, '홀': 5662, '홈': 5663, '홈스테이': 5664, '홈페이지': 5665, '홋카이도': 5666, '홍보': 5667, '화가': 5668, '화거': 5669, '화기': 5670, '화나다': 5671, '화면': 5672, '화물': 5673, '화물선': 5674, '화보': 5675, '화상': 5676, '화상통화': 5677, '화상회의': 5678, '화소': 5679, '화요일': 5680, '화의': 5681, '화이트': 5682, '화장실': 5683, '화장품': 5684, '화전': 5685, '화폐': 5686, '화하다': 5687, '화학': 5688, '화합': 5689, '화해': 5690, '확고하다': 5691, '확답': 5692, '확대': 5693, '확보': 5694, '확신': 5695, '확실하다': 5696, '확인': 5697, '확장': 5698, '확정': 5699, '환': 5700, '환경': 5701, '환급': 5702, '환불': 5703, '환상': 5704, '환영': 5705, '환율': 5706, '환자': 5707, '환전': 5708, '환호': 5709, '활': 5710, '활동': 5711, '활발하다': 5712, '활성화': 5713, '활용': 5714, '회': 5715, '회계': 5716, '회계법인': 5717, '회계사': 5718, '회도': 5719, '회로': 5720, '회복': 5721, '회복하다': 5722, '회비': 5723, '회사': 5724, '회수': 5725, '회신': 5726, '회원': 5727, '회의': 5728, '회의실': 5729, '회의장': 5730, '회장': 5731, '회전': 5732, '회차': 5733, '회화': 5734, '횡설수설': 5735, '효과': 5736, '효율': 5737, '후': 5738, '후루룩': 5739, '후불': 5740, '후속': 5741, '후송': 5742, '후식': 5743, '후원': 5744, '후원자': 5745, '후의': 5746, '후회': 5747, '훈련': 5748, '훌륭하다': 5749, '훑다': 5750, '훨씬': 5751, '훼손': 5752, '휘': 5753, '휘발유': 5754, '휠': 5755, '휩쓸다': 5756, '휴': 5757, '휴가': 5758, '휴대': 5759, '휴대전화': 5760, '휴대폰': 5761, '휴식': 5762, '휴양': 5763, '흐름': 5764, '흐릿하': 5765, '흑자': 5766, '흔하다': 5767, '흘리다': 5768, '흙': 5769, '흙빛': 5770, '흡사하다': 5771, '흡수': 5772, '흡입': 5773, '흥미': 5774, '흥미롭다': 5775, '흥분': 5776, '흥분하다': 5777, '희망': 5778, '흰색': 5779, '히': 5780, '히트': 5781, '힘': 5782, '힘들다': 5783, '힘쓰다': 5784}\n"
          ]
        }
      ],
      "source": [
        "# token - idx dictionary\n",
        "# 여기서도 동일하게 i+1로 해줘야 padding에 사용할 token을 0으로 사용할 수 있습니다!\n",
        "src_to_index = dict([(word, i+1) for i, word in enumerate(src_vocab)])\n",
        "tar_to_index = dict([(word, i+1) for i, word in enumerate(tar_vocab)])\n",
        "print(src_to_index)\n",
        "print(tar_to_index)"
      ]
    },
    {
      "cell_type": "markdown",
      "metadata": {
        "id": "tWUdLA1eanaz"
      },
      "source": [
        "### 정수 인코딩"
      ]
    },
    {
      "cell_type": "code",
      "execution_count": 27,
      "metadata": {
        "id": "ocvHdAzp0B3Q"
      },
      "outputs": [],
      "source": [
        "# 앞서 token-index dictionary로 정리한 것을 이용해서 각각의 토큰들을 정수인코딩을 진행해봅니다.\n",
        "# 이 과정에서 유의할 점은, 기존의 구현 코드에서 여러개의 for loop을 사용했습니다.\n",
        "# 이보다 빨리 진행하기 위해 어떻게 코딩할 수 있을까요?\n",
        "# 시간이 충분하시다면 for loop을 그대로 이용하셔도 좋습니다만, 다른 방법도 고민하셔도 좋습니다.\n",
        "# hint: Pandas에서 apply와 비슷한 것들을 이용해보면 어떨까요?\n",
        "\n",
        "# encoder의 입력값 정수 인코딩 진행\n",
        "encoder_input = list(map(lambda line: torch.Tensor(list(map(lambda word: src_to_index[word], line))).long(), src_seq_tr))\n",
        "\n",
        "# 우선 decoder에서 사용하는 문장에 대해 정수인코딩 진행\n",
        "decoder_input = list(map(lambda line: torch.Tensor(list(map(lambda word: tar_to_index[word], line))[:-1]).long(), tar_seq_tr))\n",
        "\n",
        "# 다만 decoder의 출력값은 <SOS>가 들어가면 안되니 첫번째 토큰은 빼주기\n",
        "decoder_target = list(map(lambda line: torch.Tensor(list(map(lambda word: tar_to_index[word], line))[1:]).long(), tar_seq_tr))\n",
        "\n",
        "# decoder의 입력값은 마지막 <EOS>가 들어가면 안되니 마지막 토큰은 빼주기\n",
        "# 위에서 이미 했어요!"
      ]
    },
    {
      "cell_type": "code",
      "execution_count": 28,
      "metadata": {
        "id": "fT3x1SL_l1pY"
      },
      "outputs": [],
      "source": [
        "from torch.nn.utils.rnn import pad_sequence"
      ]
    },
    {
      "cell_type": "markdown",
      "metadata": {
        "id": "ibj8DeCqbvZG"
      },
      "source": [
        "### Padding"
      ]
    },
    {
      "cell_type": "code",
      "execution_count": 29,
      "metadata": {
        "id": "sSNmdbEwuQR5"
      },
      "outputs": [],
      "source": [
        "# 현재 길이가 제각각인 정수화된 문장이 있습니다. padding을 통해 길이를 맞춰봅시다\n",
        "# 주의사항: 여기에 사용된 값들은 정수일까요?\n",
        "batch_first = True\n",
        "\n",
        "encoder_input_tr = pad_sequence(encoder_input, batch_first=batch_first).long()\n",
        "decoder_input_tr = pad_sequence(decoder_input, batch_first=batch_first).long()\n",
        "decoder_target_tr = pad_sequence(decoder_target, batch_first=batch_first).long()"
      ]
    },
    {
      "cell_type": "markdown",
      "metadata": {
        "id": "FQ_AHRQPmfZX"
      },
      "source": [
        "## Train data\n",
        "\n",
        "tuple type으로,  (encoder_input, decoder_input, decoder_target)의 순서를 가지게 됩니다. 이는 tuple assignment를 이용하려고 하는 것이니 자유롭게 사용하셔도 좋습니다."
      ]
    },
    {
      "cell_type": "code",
      "execution_count": 30,
      "metadata": {
        "id": "YXqi5dV-mjQD"
      },
      "outputs": [],
      "source": [
        "train_data = tuple([encoder_input_tr, decoder_input_tr, decoder_target_tr])"
      ]
    },
    {
      "cell_type": "markdown",
      "metadata": {
        "id": "nXhsP4O3mhih"
      },
      "source": [
        "## Eval data\n",
        "\n",
        "지금까지 진행한 것은 학습 데이터에 대한 전처리입니다.\n",
        "\n",
        "그런데 말입니다, 과연 평가 데이터는 학습데이터랑 동일한 형태일까요?\n",
        "\n",
        "사용하는 단어도 동일할까요?\n",
        "\n",
        "게다가 실제 데이터라면 문장 속에 이메일이나, 전화번호등 다른 것들로 대체해야할 게 있지 않을까요?\n",
        "\n",
        "참으로 고민할 게 많습니다. 이 모든 것들을 고려하면 좋겠지만, 현재 과제에서는 학습 데이터의 단어 집합에는 없는데 평가 데이터에서 등장하는 단어들은 어떻게 처리할지 한번 고민해봅시다.\n",
        "\n",
        "**핵심 TODO**:만약에 본 적이 없는 token이 나온다면 어떻게 될까요?\n",
        "\n",
        "--> Out of Vocabulary !  =지금까지 단어 집합에 없던 아이들!<br>\n",
        "\n",
        "이를 한번에 처리해주는 토큰으로 \\<UNK\\>(=unknown token) 을 사용\n",
        "\n",
        "EX)\n",
        "\n",
        "train data : \"나는 밥을 먹는다.\"<br>\n",
        "\\>> [\"나\", \"밥\", \"먹다\"]<br>\n",
        "\\>> [\\<SOS\\>, 나, 밥, 먹다, \\<EOS\\>] <BR>\n",
        "\\>> {\\<SOS\\>:0, \\<EOS\\>:1, \\<UNK\\>: 2, 나:3, 밥:4, 먹다:5}  <bR>\n",
        "\\>> [0, 3, 4, 5, 1] <BR>\n",
        "\n",
        "val data: \"나는 고기를 먹는다\"<br>\n",
        "\\>> ['나', '고기' '먹다']<BR>\n",
        "\\>> [\\<SOS\\>, 나, \\<UNK\\>, 먹다, \\<EOS\\>] <BR>\n",
        "\\>> [0, 3, 2, 5, 1] <BR>"
      ]
    },
    {
      "cell_type": "code",
      "execution_count": 31,
      "metadata": {
        "colab": {
          "base_uri": "https://localhost:8080/"
        },
        "id": "tvlFP0Q94rU3",
        "outputId": "0873e6b9-8ba9-4834-a818-901d10abf3d3"
      },
      "outputs": [
        {
          "output_type": "stream",
          "name": "stderr",
          "text": [
            "100%|██████████| 1000/1000 [00:07<00:00, 130.34it/s]\n"
          ]
        }
      ],
      "source": [
        "src_seq_val = []\n",
        "tar_seq_val = []\n",
        "\n",
        "for raw_val_dat in tqdm(raw_val_data):\n",
        "  # 문장별 tokenization\n",
        "  src_tmp = CustomTokenizer(raw_val_dat['en'])\n",
        "  tar_tmp = CustomTokenizer(raw_val_dat['ko'])\n",
        "\n",
        "  # 입력 시퀀스에서 문장의 끝을 알리는 <EOS> 토큰 추가\n",
        "  # 출력 시퀀스에서 시작과 끝을 알리는 <SOS>, <EOS> 토큰 추가\n",
        "  src_tmp.append('<EOS>')\n",
        "  tar_tmp.insert(0,'<SOS>')\n",
        "  tar_tmp.append('<EOS>')\n",
        "\n",
        "  # 처음보는 단어들은 일단 모르는 단어(OOV)로 표시해놓기  \n",
        "  # 해당 과정에서는 지금 얻은 token들(src_tmp와 tar_tmp)들 중에서 학습 데이터의 단어 집합(src_vocab과 tar_vocab)에 없는 단어들을 찾아야 합니다.\n",
        "  # 즉 위의 예시에서 \"고기\"에 해당하는 token을 찾아야 하고, 이를 list로 저장해봅시다.\n",
        "  src_oov = list(filter(lambda x: x not in src_vocab, src_tmp))\n",
        "  tar_oov = list(filter(lambda x: x not in tar_vocab, tar_tmp))\n",
        "\n",
        "  # OOV들은 <UNK>로 바꾸는 과정입니다.\n",
        "  # 지금 문장을 tokenization되어 있고, 앞서 구한 모르는 단어(OOV)들의 리스트(src_oov와 tar_oov)가 있는 상황에서\n",
        "  # 해당 리스트에 속한 토큰들은 <UNK>토큰으로 바꿔주는 것을 구현하는 파트입니다.\n",
        "  # 위의 예시에서 본다면 [<SOS>, 나, 고기, 먹다, <EOS>]를 [<SOS>, 나, <UNK>, 먹다, <EOS>]로 만들어주는 과정입니다.\n",
        "  src_tmp = ['<UNK>' if word in src_oov else word for word in src_tmp]\n",
        "  tar_tmp = ['<UNK>' if word in tar_oov else word for word in tar_tmp]\n",
        "\n",
        "  # tokenization 끝난 문장 보관\n",
        "  src_seq_val.append(src_tmp)\n",
        "  tar_seq_val.append(tar_tmp)"
      ]
    },
    {
      "cell_type": "code",
      "source": [
        "src_vocab = set()\n",
        "tar_vocab = set()\n",
        "\n",
        "src_seq_tr = []\n",
        "tar_seq_tr = []\n",
        "\n",
        "# 전체 raw data에서 문장하나씩 loop 돌아가는 것\n",
        "for raw_tr_dat in tqdm(raw_train_data):\n",
        "  # 문장별 tokenization\n",
        "  src_tmp = CustomTokenizer(raw_tr_dat['en'])\n",
        "  tar_tmp = CustomTokenizer(raw_tr_dat['ko'])\n",
        "\n",
        "  # 입력 시퀀스에서 문장의 끝을 알리는 <EOS> 토큰 추가\n",
        "  # 출력 시퀀스에서 시작과 끝을 알리는 <SOS>, <EOS> 토큰 추가\n",
        "  src_tmp.append('<EOS>')\n",
        "  tar_tmp.insert(0,'<SOS>')\n",
        "  tar_tmp.append('<EOS>')\n",
        "\n",
        "  # 한국어, 영어 단어집합 구성\n",
        "  src_vocab.update(src_tmp)\n",
        "  tar_vocab.update(tar_tmp)\n",
        "\n",
        "  # tokenization 끝난 문장 보관\n",
        "  src_seq_tr.append(src_vocab)\n",
        "  tar_seq_tr.append(tar_vocab)"
      ],
      "metadata": {
        "id": "FJIlgL2_qLM5",
        "colab": {
          "base_uri": "https://localhost:8080/"
        },
        "outputId": "9adcfd63-0530-406a-a2a8-fc8dc30cef0c"
      },
      "execution_count": 32,
      "outputs": [
        {
          "output_type": "stream",
          "name": "stderr",
          "text": [
            "100%|██████████| 10000/10000 [00:47<00:00, 209.81it/s]\n"
          ]
        }
      ]
    },
    {
      "cell_type": "code",
      "execution_count": 33,
      "metadata": {
        "colab": {
          "base_uri": "https://localhost:8080/"
        },
        "id": "s7x2S0t08dfe",
        "outputId": "ab15b1fc-c0f1-40fb-b872-6f82679d39aa"
      },
      "outputs": [
        {
          "output_type": "execute_result",
          "data": {
            "text/plain": [
              "['<SOS>', '더', '부드럽다', '<UNK>', '고르다', '톤', '피부', '<UNK>', '하다', '<EOS>']"
            ]
          },
          "metadata": {},
          "execution_count": 33
        }
      ],
      "source": [
        "tar_seq_val[5]"
      ]
    },
    {
      "cell_type": "markdown",
      "metadata": {
        "id": "70nzuKIPf3nX"
      },
      "source": [
        "위의 샘플을 보면 생각보다 너무 많은 단어들이 UNK로 바뀌었습니다. 이게 과연 성능에 어떤 영향을 끼칠까요? 이를 방지할 수 있는 대책은 무엇일까요?\n",
        "\n",
        "정답은 없습니다. 자유롭게 고민해보셔도 좋을 것 같습니다."
      ]
    },
    {
      "cell_type": "markdown",
      "metadata": {
        "id": "KoH1M8GofxwV"
      },
      "source": [
        "### UNK 토큰 추가 및 단어집합, token-index 업데이트"
      ]
    },
    {
      "cell_type": "code",
      "execution_count": 34,
      "metadata": {
        "id": "lE3iIu_W8-78"
      },
      "outputs": [],
      "source": [
        "# UNK가 추가되면서 vocab과 index도 업데이트를 해야합니다.\n",
        "# 즉 지금 방식으로 처리한다면, 지금 단어 집합에는 <UNK>라는 토큰이 없습니다.\n",
        "# 그래서 UNK 토큰에도 정수를 할당해줘야 합니다.\n",
        "# 지금 0은 padding에서 사용하고 있으니 아래의 과정은 마지막에 <UNK>를 추가해보는 것입니다."
      ]
    },
    {
      "cell_type": "code",
      "execution_count": 35,
      "metadata": {
        "colab": {
          "base_uri": "https://localhost:8080/"
        },
        "id": "KRl3l4bE9cVh",
        "outputId": "362125c7-6854-4ac8-d3db-6ab868e43eef"
      },
      "outputs": [
        {
          "output_type": "execute_result",
          "data": {
            "text/plain": [
              "('é', 6912)"
            ]
          },
          "metadata": {},
          "execution_count": 35
        }
      ],
      "source": [
        "# 입력 시퀀스의 마지막 토큰과 정수인코딩값 확인\n",
        "list(src_to_index.items())[-1]"
      ]
    },
    {
      "cell_type": "code",
      "execution_count": 36,
      "metadata": {
        "colab": {
          "base_uri": "https://localhost:8080/"
        },
        "id": "yRuj2FNmgfA3",
        "outputId": "0338fc07-a4ab-45d5-b494-dc162d3d7abb"
      },
      "outputs": [
        {
          "output_type": "execute_result",
          "data": {
            "text/plain": [
              "6912"
            ]
          },
          "metadata": {},
          "execution_count": 36
        }
      ],
      "source": [
        "# 현재 입력 시퀀스에 사용된 token들의 개수 확인\n",
        "len(src_vocab)"
      ]
    },
    {
      "cell_type": "code",
      "execution_count": 37,
      "metadata": {
        "id": "2hQsCc5i9aw2"
      },
      "outputs": [],
      "source": [
        "# 우리는 마지막 토큰 뒤에 UNK 토큰을 추가해봅시다\n",
        "# 이 때 입력 시퀀스(src_to_index)와 출력시퀀스(tar_to_index)에 모두 사용해줘야 합니다.\n",
        "src_to_index[\"<UNK>\"] = len(src_vocab)+1\n",
        "tar_to_index[\"<UNK>\"] = len(tar_vocab)+1"
      ]
    },
    {
      "cell_type": "code",
      "execution_count": 38,
      "metadata": {
        "colab": {
          "base_uri": "https://localhost:8080/"
        },
        "id": "09pOS9MtaUVJ",
        "outputId": "86eef203-db13-4ce2-bcc9-0680f2404669"
      },
      "outputs": [
        {
          "output_type": "stream",
          "name": "stdout",
          "text": [
            "[('!', 1), (',', 2), ('<EOS>', 3), ('<SOS>', 4), ('?', 5)]\n",
            "[('<UNK>', 5785), ('힘쓰다', 5784), ('힘들다', 5783), ('힘', 5782)]\n"
          ]
        }
      ],
      "source": [
        "# 입력시퀀스의 단어집합 확인\n",
        "print(list(tar_to_index.items())[:5])\n",
        "print(list(tar_to_index.items())[-1:-5:-1])"
      ]
    },
    {
      "cell_type": "code",
      "execution_count": 39,
      "metadata": {
        "colab": {
          "base_uri": "https://localhost:8080/"
        },
        "id": "ZZqYpbTe-AK1",
        "outputId": "2686db88-2003-4b90-e334-e3d03fa2b584"
      },
      "outputs": [
        {
          "output_type": "stream",
          "name": "stdout",
          "text": [
            "[('!', 1), (',', 2), ('.', 3), ('<EOS>', 4), ('?', 5)]\n",
            "[('<UNK>', 6913), ('é', 6912), ('zoom', 6911), ('zones', 6910)]\n"
          ]
        }
      ],
      "source": [
        "# 출력시퀀스의 단어집합 확인\n",
        "print(list(src_to_index.items())[:5])\n",
        "print(list(src_to_index.items())[-1:-5:-1])"
      ]
    },
    {
      "cell_type": "markdown",
      "metadata": {
        "id": "-E5zRRZuhQa_"
      },
      "source": [
        "### 정수 인코딩"
      ]
    },
    {
      "cell_type": "code",
      "execution_count": 40,
      "metadata": {
        "id": "LHRGJgfs-axo"
      },
      "outputs": [],
      "source": [
        "# 평가 데이터에 대해서  정수 인코딩을 진행해주세요!\n",
        "# 이 과정에서 중요한 점은 우린 학습데이터만 가지고 있으니 학습 데이터에서 사용했던 toekn-index로 인코딩을 진행해야 합니다!\n",
        "# 참고 : 어떻게 하면 효율적 혹은 빠르게 할까요?\n",
        "\n",
        "# encoder의 입력값 정수 인코딩 진행\n",
        "encoder_input_val = list(map(lambda line: torch.Tensor(list(map(lambda word: src_to_index[word], line))).long(), src_seq_val))\n",
        "\n",
        "# 우선 decoder에서 사용하는 문장에 대해 정수 인코딩 진행\n",
        "decoder_input_val = list(map(lambda line: torch.Tensor(list(map(lambda word: tar_to_index[word], line))[:-1]).long(), tar_seq_val))\n",
        "\n",
        "# 다만 decoder의 출력값은 <SOS>들어가면 안되니 첫번째 토큰은 빼주기\n",
        "decoder_target_val = list(map(lambda line: torch.Tensor(list(map(lambda word: tar_to_index[word], line))[1:]).long(), tar_seq_val))\n",
        "\n",
        "# decoder의 입력값은 마지막 <EOS>가 들어가면 안되니 마지막 토큰은 빼주기\n",
        "# 위에서 해줌!"
      ]
    },
    {
      "cell_type": "markdown",
      "metadata": {
        "id": "ws8RA6UThh0t"
      },
      "source": [
        "### Padding"
      ]
    },
    {
      "cell_type": "code",
      "execution_count": 41,
      "metadata": {
        "id": "4Qc_bb02-s6_"
      },
      "outputs": [],
      "source": [
        "# 주의사항: 여기에 사용된 값은 정수일까요?\n",
        "batch_first = True\n",
        "\n",
        "encoder_input_val = pad_sequence(encoder_input_val, batch_first=batch_first).long()\n",
        "decoder_input_val = pad_sequence(decoder_input_val, batch_first=batch_first).long()\n",
        "decoder_target_val = pad_sequence(decoder_target_val, batch_first=batch_first).long()"
      ]
    },
    {
      "cell_type": "code",
      "execution_count": 42,
      "metadata": {
        "id": "E7DOj62GnAfX"
      },
      "outputs": [],
      "source": [
        "val_data = tuple([encoder_input_val, decoder_input_val, decoder_target_val])"
      ]
    },
    {
      "cell_type": "markdown",
      "metadata": {
        "id": "WlZl7q5cxscM"
      },
      "source": [
        "# Dataset\n",
        "\n",
        "실습코드에서 사용한 것과 동일한 구조입니다! \n",
        "\n",
        "사실 앞서 처리가 진행되었던 모든 과정은 Dataset에서 __get_item__ 함수 내에서 처리해서 값을 리턴할 수도 있습니다.\n",
        "\n",
        "다만 설명을 위해 이번 과제에서는 과정을 단계별로 설명 드렸습니다. 추후에 진행하실 때엔 __get_item__에서 구현해보셔도 좋을 것 같아요!\n",
        "\n",
        "그리고 일부 단계의 경우 임의로 처리된 것들이 있습니다.(tokenization부터 stopwords 등등) 가령 이메일, 전화번호와 같은 단어들은 \\<UNK\\>처럼 새로운 토큰을 이용해서 처리할 수도 있으며 목적에 따라서 다른 tokenziation을 사용할 수 있습니다.\n",
        "\n",
        "**(참고)**\n",
        "\n",
        " __get_item__말고 사전에 전처리를 다한 상태로 사용할 경우 사실 사용할 모든 데이터를 메모리에 올려놓고 사용하는 것과 같습니다.(변수에 할당되어 있으니)\n",
        "\n",
        "그런데 우리가 데이터가 매매매매매우 많아진다면, 메모리가 부족해질 수도 있지 않을까요? 그렇기 때문에 때에 따라 data를 필요할 때 전처리를 하고 반환하기도 합니다. 여기서 data가 필요할때란 결국 __get_item__을 호출할 때가 될 것입니다.\n",
        "\n",
        "정리하자면, 꼭 모든 데이터를 한번에 다 전처리해놓도 준비해놓지 않고도, 필요할 때 마다(get_item이 호출될 때마다) 전처리해서 결과를 전달하는 방법도 있습니다.\n",
        "\n",
        "다만 해당 과제에서는 Seq2Seq에 익숙해지는 것을 목표로 하기에 이러한 점만 알고 가셔도 충분하기도 하고, 오히려 사전에 다 처리해놓는 현재 방식이 더 효율적일 수도 있습니다. 그렇기 때문에 이 점만 알고 가셔도 좋을 것 같습니다!"
      ]
    },
    {
      "cell_type": "code",
      "execution_count": 43,
      "metadata": {
        "id": "j5lj6ZOPxpcj"
      },
      "outputs": [],
      "source": [
        "from torch.utils.data import Dataset, DataLoader"
      ]
    },
    {
      "cell_type": "code",
      "execution_count": 44,
      "metadata": {
        "id": "xc7ZqjGmx1dk"
      },
      "outputs": [],
      "source": [
        "class textDataset(Dataset):\n",
        "  def __init__(self, data, batch_first=True):\n",
        "    super(textDataset, self).__init__()\n",
        "    # tuple asgginment를 활용한다면 굳이 argument로 모든 데이터를 받지 않아도 됩니다!\n",
        "    enc_inp, dec_inp, dec_out = data\n",
        "\n",
        "    # 내부에서 사용할 변수들 정리하는 것으로, 모든 데이터가 torch.LongTensor로 정리된 값들이 저장됩니다.\n",
        "    self.enc_inp = enc_inp\n",
        "    self.batch_first = batch_first\n",
        "    self.dec_inp = dec_inp\n",
        "    self.dec_out = dec_out\n",
        "\n",
        "  def __getitem__(self, idx):\n",
        "     return self.enc_inp[idx], self.dec_inp[idx], self.dec_out[idx]\n",
        "\n",
        "  def __len__(self):\n",
        "    return self.enc_inp.size(int(~self.batch_first))"
      ]
    },
    {
      "cell_type": "code",
      "execution_count": 45,
      "metadata": {
        "id": "Z30_EO0uxrgH"
      },
      "outputs": [],
      "source": [
        "train_dataset = textDataset(train_data, batch_first=batch_first)\n",
        "val_dataset = textDataset(val_data, batch_first=batch_first)"
      ]
    },
    {
      "cell_type": "code",
      "execution_count": 46,
      "metadata": {
        "colab": {
          "base_uri": "https://localhost:8080/"
        },
        "id": "J_AqR38AoB5n",
        "outputId": "f50300f4-4441-4c4b-afbe-3dcc22f13824"
      },
      "outputs": [
        {
          "output_type": "execute_result",
          "data": {
            "text/plain": [
              "(tensor([6913, 3575, 3395, 5127, 4267, 2224, 1288, 3928, 4315, 4790, 2040, 2440,\n",
              "         5783, 1019, 6913, 6402, 6751, 5800, 6913,    4,    0,    0,    0,    0,\n",
              "            0,    0,    0,    0,    0,    0]),\n",
              " tensor([   4, 5785, 1727, 2011, 5785, 3759, 5423, 4348, 1369, 2772, 1884, 2788,\n",
              "         5181, 1976, 2849, 3159,  747, 4010,    0,    0,    0,    0,    0,    0,\n",
              "            0,    0,    0,    0,    0,    0,    0,    0]),\n",
              " tensor([5785, 1727, 2011, 5785, 3759, 5423, 4348, 1369, 2772, 1884, 2788, 5181,\n",
              "         1976, 2849, 3159,  747, 4010,    3,    0,    0,    0,    0,    0,    0,\n",
              "            0,    0,    0,    0,    0,    0,    0,    0]))"
            ]
          },
          "metadata": {},
          "execution_count": 46
        }
      ],
      "source": [
        "val_dataset[0]"
      ]
    },
    {
      "cell_type": "markdown",
      "metadata": {
        "id": "rYq6eGm0qaOh"
      },
      "source": [
        "# Model"
      ]
    },
    {
      "cell_type": "code",
      "execution_count": 47,
      "metadata": {
        "id": "ce3NfbA2qfSV"
      },
      "outputs": [],
      "source": [
        "import torch.nn as nn\n",
        "import torch.functional as F"
      ]
    },
    {
      "cell_type": "markdown",
      "metadata": {
        "id": "zcThBf_DqbuT"
      },
      "source": [
        "## Encoder\n",
        "\n",
        "본 모델에서는 LSTM를 기본 단위로 가지는 Seq2Seq 모델을 구성할 것\n",
        "\n",
        "참고 [레퍼런스](https://pytorch.org/docs/stable/generated/torch.nn.LSTM.html)"
      ]
    },
    {
      "cell_type": "code",
      "execution_count": 48,
      "metadata": {
        "id": "A719R9uZqZG2"
      },
      "outputs": [],
      "source": [
        "class Encoder(nn.Module):\n",
        "  def __init__(self, in_size, hid_size, tok_size, bat_first=True, num_lay=1, bidirect=False):\n",
        "    super(Encoder, self).__init__()\n",
        "    self.hidden_size = hid_size\n",
        "    self.embedding = nn.Embedding(tok_size, in_size)\n",
        "    self.num_layers = num_lay\n",
        "    self.num_directional = 2 if bidirect else 1\n",
        "    self.batch_first = bat_first\n",
        "    self.lstm = nn.LSTM(in_size,\n",
        "                        hid_size,\n",
        "                        num_layers = num_lay,\n",
        "                        batch_first = bat_first,\n",
        "                        bidirectional = bidirect)\n",
        "\n",
        "  def forward(self, x, hidden):\n",
        "    \"\"\"\n",
        "    x: (batch_size, seq_len)\n",
        "    hidden: (batch_size, seq_len, hidden_size)\n",
        "    \"\"\"\n",
        "\n",
        "    # emb : (batch_size, seq_len, input_size)\n",
        "    emb = self.embedding(x)\n",
        "\n",
        "    # out : (batch_size, seq_len, hidden_size)\n",
        "    # hidden: (num_layers, batch_size, hidden_size)\n",
        "    out, hidden = self.lstm(emb, hidden)\n",
        "    return out, hidden"
      ]
    },
    {
      "cell_type": "markdown",
      "metadata": {
        "id": "Yu4CMe_5JN2I"
      },
      "source": [
        "## Decoder\n",
        "\n",
        "decoder의 hidden이 아닌 out으로 예측하고, 그 값 하나를 이용해서 다음 값 계산에 사용하기 때문에 seq_len =1이 된다."
      ]
    },
    {
      "cell_type": "code",
      "execution_count": 49,
      "metadata": {
        "id": "Wc1u4z_k4RKp"
      },
      "outputs": [],
      "source": [
        "class Decoder(nn.Module):\n",
        "  def __init__(self, in_size, hid_size, tok_size, bat_first=True, num_lay=1, bidirect=False):\n",
        "    super(Decoder, self).__init__()\n",
        "    self.hidden_size = hid_size\n",
        "    self.embedding = nn.Embedding(tok_size, in_size)\n",
        "    self.num_layers = num_lay\n",
        "    self.num_directional = 2 if bidirect else 1\n",
        "    self.batch_first = bat_first\n",
        "    self.lstm = nn.LSTM(in_size,\n",
        "                        hid_size,\n",
        "                        num_layers = num_lay,\n",
        "                        batch_first = bat_first,\n",
        "                        bidirectional = bidirect)\n",
        "    self.relu = nn.ReLU()\n",
        "    self.fc1 = nn.Linear(hidden_size, tok_size)\n",
        "    \n",
        "  def forward(self, x, hidden):\n",
        "    \"\"\"\n",
        "    x: (batch_size, seq_len=1)\n",
        "    hidden: (num_directional*num_layers, batch_size, hidden_size)\n",
        "    \"\"\"\n",
        "\n",
        "    # emb: (batch_size, seq_len=1, input_size)\n",
        "    emb = self.embedding(x[:, 0]).unsqueeze(1)\n",
        "\n",
        "    # out : (batch_size, seq_len=1, hidden_size)\n",
        "    # hidden: (num_layers, batch_size, hidden_size)\n",
        "    out, hidden = self.lstm(out, hidden)\n",
        "\n",
        "    # out: (batch_size, tok_size) : batch의 element별로 token에 대해 예측값을 반환\n",
        "    out = self.fc1(out.squeeze(1))\n",
        "    return out, hidden"
      ]
    },
    {
      "cell_type": "code",
      "execution_count": 50,
      "metadata": {
        "id": "X1qHG3DT4dSH"
      },
      "outputs": [],
      "source": [
        "def init_hidden(self, x):\n",
        "  \"\"\"\n",
        "  레퍼런스 참고\n",
        "  when batch_first=True (num_directional*num_layers, batch_size, hidden_size)\n",
        "  \"\"\"\n",
        "  batch_size = x.size(0) if self.batch_first else x.size(1)\n",
        "  h0 = torch.zeros(self.num_layers*self.num_directional, batch_size, self.hidden_size).to(device)\n",
        "  c0 = torch.zeros(self.num_layers*self.num_directional, batch_size, self.hidden_size).to(device)\n",
        "  return h0, c0"
      ]
    },
    {
      "cell_type": "markdown",
      "metadata": {
        "id": "toqV7UDhPqN6"
      },
      "source": [
        "## Seq2Seq"
      ]
    },
    {
      "cell_type": "code",
      "execution_count": 51,
      "metadata": {
        "id": "YIzlUzPlJK3W"
      },
      "outputs": [],
      "source": [
        "class Seq2Seq(nn.Module):\n",
        "  def __init__(self, enc, dec):\n",
        "    super(Seq2Seq, self).__init__()\n",
        "    assert enc.hidden_size == dec.hidden_size\n",
        "    assert enc.num_layers == dec.num_layers\n",
        "\n",
        "    self.encoder = enc\n",
        "    self.decoder = dec\n",
        "\n",
        "  def forward(self, enc_inp, dec_inp, use_teacher_force=True):\n",
        "    \"\"\"\n",
        "    enc_inp : (batch_size, enc_seq_len)\n",
        "    dec_inp : (batch_size, dec_seq_len)\n",
        "    \"\"\"\n",
        "\n",
        "    # 어떤 값을 써야할까요?\n",
        "    batch_size = enc_inp.size(0)\n",
        "    enc_seq_len = enc_inp.size(1)\n",
        "    dec_seq_len = dec_inp.size(1)\n",
        "    token_size =  self.decoder.fc1.out_features\n",
        "\n",
        "    # decoder 확률(점수) 예측값 저장\n",
        "    # outputs: (batch_size, seq_len, token_size)\n",
        "    outputs = torch.zeros(batch_size, dec_seq_len, token_size)\n",
        "\n",
        "    # Step 0: Encoder의 forward에 필요한 초기 hidden, cell state 계산\n",
        "    enc_init_hidden = init_hidden(self.encoder, enc_inp)\n",
        "\n",
        "    # Step 1: Encoder를 이용하여 context 벡터 생성\n",
        "    # 참고: context 벡터는 output가 아님\n",
        "    _, context = self.encoder(enc_inp, enc_init_hidden)\n",
        "\n",
        "    # Step 2: Decoder의 초기 입력값을 먼저 할당\n",
        "    # 참고: 첫 입력값으로 decoder의 입력값을 이용할 수 있음\n",
        "    # 주의할 사항 \n",
        "    #    - (batch_size, dec_seq_len)의 차원을 맞추기 \n",
        "    #    - 이렇게 하는 이유는 decoder에서 forward에 들어가야하는 input의 구조(차원)이 정해져 있기 때문\n",
        "    dec_inp_t = dec_inp[:, 0].unsqueeze(-1)\n",
        "\n",
        "    # Step 3: Decoder를 이용하여 하나하나 계산(예측)하고, 입력값 업데이트하기\n",
        "    # 주의사항\n",
        "    #    - Encoder의 최종 리턴한 hidden state가 context 벡터고 이게 decoder에서 init_hidden에 해당\n",
        "    #    - 앞서 첫 입력값은 직접 확인했으니 다음 입력값부터 하기에 range는 1부터 시작하는 구조로?!\n",
        "    dec_hidden = context\n",
        "    for t in range(1, dec_seq_len):\n",
        "      out, dec_hidden = self.decoder(dec_inp_t, dec_hidden)\n",
        "      outputs[:, t, :] = out\n",
        "\n",
        "      if use_teacher_force:\n",
        "        # 주의사항 : 차원 맞추기 \n",
        "        # 해당 경우 decoder의 입력값을 가져다가 사용해야 합\n",
        "        dec_inp_t = dec_inp[:, t].unsqueeze(-1)\n",
        "      else:\n",
        "        # 주의사항 : 차원 맞추기 \n",
        "        # 해당 경우 이번 시점의 예측값을 다음 시점의 입력값으로 해야함\n",
        "        dec_inp_t = out.argmax(1, keepdim=True)\n",
        "\n",
        "    return outputs"
      ]
    },
    {
      "cell_type": "markdown",
      "metadata": {
        "id": "kSfBWsX0Po1I"
      },
      "source": [
        "# Setup"
      ]
    },
    {
      "cell_type": "code",
      "execution_count": 52,
      "metadata": {
        "id": "2VSNdoUUPoMS"
      },
      "outputs": [],
      "source": [
        "# padding에 해당하는 token도 고려하기\n",
        "enc_token_size = len(src_to_index)+1\n",
        "dec_token_size = len(tar_to_index)+1\n",
        "\n",
        "# Hyper-parameter!!\n",
        "# RAM 메모리 이슈로 다운 되는 경우 때문에 줄였습니다.\n",
        "input_size = 4\n",
        "hidden_size = 4"
      ]
    },
    {
      "cell_type": "code",
      "execution_count": 53,
      "metadata": {
        "id": "edfUD7SOP6pM"
      },
      "outputs": [],
      "source": [
        "encoder = Encoder(input_size, hidden_size, enc_token_size)\n",
        "decoder = Decoder(input_size, hidden_size, dec_token_size)\n",
        "\n",
        "model = Seq2Seq(encoder, decoder).to(device)"
      ]
    },
    {
      "cell_type": "markdown",
      "metadata": {
        "id": "s3wAllAwQQbc"
      },
      "source": [
        "## 생략된 내용들\n",
        "\n",
        "모델 생성하는 과정에서 초기값이나 등등 부수적인 부분들은 현재 과제 코드상에서 생략되었습니다. 모델 개선에 관심있으신 분들은 수행하셔도 좋습니다."
      ]
    },
    {
      "cell_type": "code",
      "execution_count": 54,
      "metadata": {
        "id": "nNlOosmzQP4W"
      },
      "outputs": [],
      "source": [
        "# 네....."
      ]
    },
    {
      "cell_type": "markdown",
      "metadata": {
        "id": "ofoXIctbQigu"
      },
      "source": [
        "# Train"
      ]
    },
    {
      "cell_type": "code",
      "execution_count": 55,
      "metadata": {
        "id": "NUnTP6xbQlV1"
      },
      "outputs": [],
      "source": [
        "def train(model, loader, optimizer, cri):\n",
        "  model.train()\n",
        "  loss_ep = 0\n",
        "\n",
        "  for enc_input, dec_input, dec_target in loader:\n",
        "    optimizer.zero_grad()\n",
        "\n",
        "    # output: (batch_size, seq_len, token_size)\n",
        "    output = model(enc_input.to(device), dec_input.to(device), use_teacher_force=True)\n",
        "    token_size = output.size(-1)\n",
        "\n",
        "    # 지금 [문장, 문장, ...] 구조에서 문장들을 그냥 순서대로 이어 붙인 것\n",
        "    # loss 계산을 위한 조정\n",
        "    # output : (batch_size * seq_len, toekn_size)\n",
        "    output = output.view(-1, token_size)\n",
        "\n",
        "    # 위와 동일한 방식으로 label 값도 조정\n",
        "    # dec_target: (batch_size, seq_len)\n",
        "    # target (batch_size*seq_len,)\n",
        "    target = dec_target.view(-1)\n",
        "\n",
        "    loss = cri(output, target)\n",
        "\n",
        "    loss.backward()\n",
        "    optimizer.step()\n",
        "\n",
        "    loss_ep += loss.item()\n",
        "  return loss_ep/len(loader)"
      ]
    },
    {
      "cell_type": "markdown",
      "metadata": {
        "id": "E-g8kExh9V87"
      },
      "source": [
        "# Evaluation"
      ]
    },
    {
      "cell_type": "code",
      "execution_count": 56,
      "metadata": {
        "id": "OM_5gT6uCXMh"
      },
      "outputs": [],
      "source": [
        "import pandas as pd"
      ]
    },
    {
      "cell_type": "code",
      "execution_count": 57,
      "metadata": {
        "id": "y6mXBkq69VSW"
      },
      "outputs": [],
      "source": [
        "def val(model, loader, cri):\n",
        "  # 예측값도 확인하기 위해 예측값 저장하는 값\n",
        "  result = torch.Tensor()\n",
        "\n",
        "  model.eval()\n",
        "  loss_ep = 0\n",
        "  with torch.no_grad():\n",
        "    for enc_input, dec_input, dec_target in loader:\n",
        "      # 여기서 output은 en/decoder가 아닌 seq2seq의 결과값\n",
        "      # output: (batch_size, seq_len, token_size)\n",
        "      output = model(enc_input.to(device), dec_input.to(device), use_teacher_force=False)\n",
        "\n",
        "      # 평가할 땐 loss 말고 예측값도 반환하기 위해 저장\n",
        "      # decode_idx = 해당 시점에서 예측한 token의 정수인코딩값. \n",
        "      # 주어진 확률(점수)값에서 최대값을 선택하기\n",
        "      decode_idx = output.argmax(2).detach().cpu()\n",
        "      result = torch.cat((result, decode_idx), dim=0)\n",
        "  \n",
        "      # loss 계산을 위한 조정\n",
        "      # output : (batch_size * seq_len, toekn_size)\n",
        "      token_size = output.size(-1)\n",
        "      output = output.view(-1, token_size)\n",
        "\n",
        "      # 위와 동일한 방식으로 label 값도 조정\n",
        "      # dec_target: (batch_size, seq_len)\n",
        "      # target (batch_size*seq_len,)\n",
        "      target = dec_target.view(-1)\n",
        "\n",
        "      loss = cri(output, target)\n",
        "      loss_ep += loss.item()\n",
        "  return loss_ep/len(loader), result"
      ]
    },
    {
      "cell_type": "code",
      "execution_count": 58,
      "metadata": {
        "id": "9m6F7hknAqtm"
      },
      "outputs": [],
      "source": [
        "# 아래의 dictionary는 정수 인코딩 값을 넣으면 해당하는 원래 알파벳이 나옴\n",
        "# padding에 사용한 0도 decode해줘야 하고 이 때 ''으로 decode해주기\n",
        "index_to_src = dict((i, char) for char, i in src_to_index.items())\n",
        "index_to_tar = dict((i, char) for char, i in tar_to_index.items())\n",
        "index_to_tar[0] = ''\n",
        "index_to_src[0] = ''"
      ]
    },
    {
      "cell_type": "code",
      "execution_count": 59,
      "metadata": {
        "id": "F9c8z_7BAncv"
      },
      "outputs": [],
      "source": [
        "def decode(model, sample):\n",
        "  enc_input, dec_input, dec_output = sample\n",
        "  enc_input = enc_input.unsqueeze(0)\n",
        "  dec_input = dec_input.unsqueeze(0)\n",
        "  \n",
        "  model.eval()\n",
        "  with torch.no_grad():\n",
        "    output = model(enc_input.to(device), dec_input.to(device), use_teacher_force=False)\n",
        "    decode_idx = output.argmax(2)\n",
        "\n",
        "  sentence_inp = pd.Series(enc_input.squeeze(0).detach().cpu().numpy()).apply(lambda x: index_to_src[x])\n",
        "  sentence_out = pd.Series(decode_idx.squeeze(0).detach().cpu().numpy()).apply(lambda x: index_to_tar[x])\n",
        "  sentence_act = pd.Series(dec_output.detach().cpu().numpy()).apply(lambda x: index_to_tar[x])\n",
        "\n",
        "  print(f\"입력 문장 : {' '.join(sentence_inp.tolist())}\")\n",
        "  print(f\"실제 문장 : {' '.join(sentence_act.tolist())}\")\n",
        "  print(f\"예측 문장 : {' '.join(sentence_out.tolist())}\")"
      ]
    },
    {
      "cell_type": "code",
      "execution_count": 60,
      "metadata": {
        "id": "9lARsr3wSyX8"
      },
      "outputs": [],
      "source": [
        "import time\n",
        "from tqdm import tqdm\n",
        "from torch import optim"
      ]
    },
    {
      "cell_type": "code",
      "execution_count": null,
      "metadata": {
        "colab": {
          "base_uri": "https://localhost:8080/"
        },
        "id": "WIuESkCQSsSm",
        "outputId": "9f0f8b9b-7400-4b15-c452-fbba5b5c60b8"
      },
      "outputs": [
        {
          "output_type": "stream",
          "name": "stderr",
          "text": [
            "\r  0%|          | 0/10 [00:00<?, ?it/s]"
          ]
        }
      ],
      "source": [
        "# 학습은 아래의 코드를 이용하여 진행\n",
        "# RAM을 다 써버려서 학습 진행이 안됩니다..😭\n",
        "\n",
        "train_lodaer = DataLoader(train_dataset, batch_size=1024)\n",
        "val_loader = DataLoader(val_dataset, batch_size=1024, shuffle=False)\n",
        "\n",
        "optimizer = optim.Adam(model.parameters(), lr=1e-2)\n",
        "criterion = nn.CrossEntropyLoss()\n",
        "\n",
        "train_loss = []\n",
        "val_loss = []\n",
        "\n",
        "epochs = 10\n",
        "for epoch in tqdm(range(epochs)):\n",
        "  start = time.time()\n",
        "\n",
        "  train_loss_ep = train(model,train_lodaer,optimizer, criterion)\n",
        "  val_loss_ep, val_token = val(model, val_loader, criterion)\n",
        "\n",
        "  train_loss.append(train_loss_ep)\n",
        "  val_loss.append(val_loss_ep)\n",
        "  if epoch % 2 == 0:\n",
        "    print(f\"Epoch : {epoch}\")\n",
        "    print(f\"Train Loss : {train_loss_ep:.4f}\")\n",
        "    print(f\"Val Loss : {val_loss_ep:.4f}\")\n",
        "    decode(model, val_dataset[100])\n"
      ]
    },
    {
      "cell_type": "code",
      "execution_count": null,
      "metadata": {
        "id": "Yaj3MORtbsNi"
      },
      "outputs": [],
      "source": [
        "# 학습을 진행한 다음, 모델 백업해놓기\n",
        "torch.save(model.state_dict(), 'model_hw.pt')"
      ]
    }
  ],
  "metadata": {
    "accelerator": "GPU",
    "colab": {
      "collapsed_sections": [
        "XhqgooEJc3ml"
      ],
      "provenance": []
    },
    "gpuClass": "standard",
    "kernelspec": {
      "display_name": "Python 3",
      "name": "python3"
    },
    "language_info": {
      "name": "python"
    }
  },
  "nbformat": 4,
  "nbformat_minor": 0
}