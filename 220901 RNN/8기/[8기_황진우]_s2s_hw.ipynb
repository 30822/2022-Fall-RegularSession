{
  "cells": [
    {
      "cell_type": "markdown",
      "metadata": {
        "id": "XhqgooEJc3ml"
      },
      "source": [
        "# PATH"
      ]
    },
    {
      "cell_type": "markdown",
      "metadata": {
        "id": "a6JAywISdMna"
      },
      "source": [
        "구글 드라이브"
      ]
    },
    {
      "cell_type": "code",
      "execution_count": 1,
      "metadata": {
        "colab": {
          "base_uri": "https://localhost:8080/"
        },
        "id": "4KzgUpIpcORE",
        "outputId": "a27bf081-e1dc-4807-c740-58eeac4a91e8"
      },
      "outputs": [
        {
          "output_type": "stream",
          "name": "stdout",
          "text": [
            "Mounted at /content/drive\n"
          ]
        }
      ],
      "source": [
        "import os\n",
        "import sys\n",
        "from google.colab import drive\n",
        "\n",
        "drive.mount('/content/drive')\n",
        "# 지금 RNN이란 폴더에서 작업해서 RNN으로 맞춘 상태입니다! \n",
        "os.chdir('/content/drive/MyDrive/Colab Notebooks/RNN 과제')"
      ]
    },
    {
      "cell_type": "code",
      "execution_count": 2,
      "metadata": {
        "colab": {
          "base_uri": "https://localhost:8080/",
          "height": 35
        },
        "id": "TK1fCrA9fHwN",
        "outputId": "d3456d75-d7ee-4983-c4d1-384d0ba9ed14"
      },
      "outputs": [
        {
          "output_type": "execute_result",
          "data": {
            "text/plain": [
              "'/content/drive/MyDrive/Colab Notebooks/RNN 과제'"
            ],
            "application/vnd.google.colaboratory.intrinsic+json": {
              "type": "string"
            }
          },
          "metadata": {},
          "execution_count": 2
        }
      ],
      "source": [
        "os.getcwd()"
      ]
    },
    {
      "cell_type": "code",
      "source": [
        "root_data = f\"{os.getcwd()}/data/data_hw\"\n",
        "root_data"
      ],
      "metadata": {
        "colab": {
          "base_uri": "https://localhost:8080/",
          "height": 35
        },
        "id": "yR9lFnfZMQ8k",
        "outputId": "66836b50-ceff-473b-b1fb-6be5bbec459b"
      },
      "execution_count": 3,
      "outputs": [
        {
          "output_type": "execute_result",
          "data": {
            "text/plain": [
              "'/content/drive/MyDrive/Colab Notebooks/RNN 과제/data/data_hw'"
            ],
            "application/vnd.google.colaboratory.intrinsic+json": {
              "type": "string"
            }
          },
          "metadata": {},
          "execution_count": 3
        }
      ]
    },
    {
      "cell_type": "code",
      "source": [
        "# 데이터 불러올 때 사용할 경로로 이후에 있을 unzip과 연동되는 내용입니다! \n",
        "path_train_data = \"data/data_hw/1.Training/원천데이터/일상생활및구어체_영한_train_set.json\"\n",
        "\n",
        "path_val_data = \"data/data_hw/2.Validation/원천데이터/일상생활및구어체_영한_valid_set.json\"\n"
      ],
      "metadata": {
        "id": "eUaOJiEaP8t9"
      },
      "execution_count": 4,
      "outputs": []
    },
    {
      "cell_type": "markdown",
      "source": [
        "# 사전 준비 사항"
      ],
      "metadata": {
        "id": "lllM7QIsLKHG"
      }
    },
    {
      "cell_type": "code",
      "execution_count": 5,
      "metadata": {
        "id": "N4M6g36zarsi"
      },
      "outputs": [],
      "source": [
        "import torch"
      ]
    },
    {
      "cell_type": "code",
      "execution_count": 6,
      "metadata": {
        "id": "8nWTk5MXatC-"
      },
      "outputs": [],
      "source": [
        "device = 'cuda' if torch.cuda.is_available() else \"cpu\""
      ]
    },
    {
      "cell_type": "code",
      "execution_count": 7,
      "metadata": {
        "colab": {
          "base_uri": "https://localhost:8080/",
          "height": 35
        },
        "id": "oV91g9Tqa0V0",
        "outputId": "ec833357-5097-4640-8305-aa4450c3f9e8"
      },
      "outputs": [
        {
          "output_type": "execute_result",
          "data": {
            "text/plain": [
              "'cuda'"
            ],
            "application/vnd.google.colaboratory.intrinsic+json": {
              "type": "string"
            }
          },
          "metadata": {},
          "execution_count": 7
        }
      ],
      "source": [
        "device"
      ]
    },
    {
      "cell_type": "markdown",
      "metadata": {
        "id": "SdN8CiTlc7xF"
      },
      "source": [
        "# Data\n",
        "\n",
        "실습에서 사용했던 영어-프랑스어와 달리 현재 사용할 데이터 셋은 영어-한국어 데이터 셋입니다. \n",
        "\n",
        "특히 압축을 풀어야 사용하실 수 있으니 유의하여 진행해주시길 바랍니다.\n",
        "\n",
        "다행인 점은 용량이 그리 크지 않을겁니다!\n",
        "\n",
        "저장 경로는 위에서 path_train_data와 path_val_data와 동일하게 맞췄습니다."
      ]
    },
    {
      "cell_type": "code",
      "source": [
        "#!unzip -qq data/data_hw/1.Training/원천데이터/TS1.zip -d data/data_hw/1.Training/원천데이터\n",
        "\n",
        "#!unzip -qq data/data_hw/2.Validation/원천데이터/VS1.zip -d data/data_hw/2.Validation/원천데이터\n"
      ],
      "metadata": {
        "id": "4bGHHia2LnOo"
      },
      "execution_count": 8,
      "outputs": []
    },
    {
      "cell_type": "markdown",
      "source": [
        "## 데이터 구조 확인"
      ],
      "metadata": {
        "id": "tfrW60WrP0rn"
      }
    },
    {
      "cell_type": "code",
      "source": [
        "import json"
      ],
      "metadata": {
        "id": "SDeLynUqP0Jr"
      },
      "execution_count": 9,
      "outputs": []
    },
    {
      "cell_type": "code",
      "source": [
        "# 경로는 앞서 PATH에서 선언했고 unzip에서도 경로를 지정했습니다. 만약 여기에 변화가 생기신다면 에러가 생길 수 있으니 유의하셔야 합니다.\n",
        "with open(path_train_data, 'r') as f:\n",
        "  raw_train_data = json.load(f)\n",
        "\n",
        "with open(path_val_data, 'r') as f:\n",
        "  raw_val_data = json.load(f)\n"
      ],
      "metadata": {
        "id": "2VEmaNPbP5hr"
      },
      "execution_count": 10,
      "outputs": []
    },
    {
      "cell_type": "code",
      "source": [
        "# 현재 데이터의 구조가 {'data':~~~ }로 되어있는것을 알 수 있습니다.\n",
        "raw_train_data.keys()"
      ],
      "metadata": {
        "colab": {
          "base_uri": "https://localhost:8080/"
        },
        "id": "jNhgtA6iR2HG",
        "outputId": "5fa0fd99-7b25-4c34-a77d-8601036cfaa7"
      },
      "execution_count": 11,
      "outputs": [
        {
          "output_type": "execute_result",
          "data": {
            "text/plain": [
              "dict_keys(['data'])"
            ]
          },
          "metadata": {},
          "execution_count": 11
        }
      ]
    },
    {
      "cell_type": "code",
      "source": [
        "# 학습 데이터 개수 확인\n",
        "len(raw_train_data['data'])"
      ],
      "metadata": {
        "colab": {
          "base_uri": "https://localhost:8080/"
        },
        "id": "uMcJ230kRgJ_",
        "outputId": "a8e26ace-54aa-46a6-ba5a-a2c9726db844"
      },
      "execution_count": 12,
      "outputs": [
        {
          "output_type": "execute_result",
          "data": {
            "text/plain": [
              "1200307"
            ]
          },
          "metadata": {},
          "execution_count": 12
        }
      ]
    },
    {
      "cell_type": "markdown",
      "source": [
        "지금 데이터가 너무 많아서 전처리만 해도 1,2시간 걸릴 수 있습니다. 그래서 숙제에서는 매우 일부 데이터만 이용하도록 하겠습니다."
      ],
      "metadata": {
        "id": "pOcoZtgOYicO"
      }
    },
    {
      "cell_type": "code",
      "source": [
        "raw_train_data = raw_train_data['data'][:10000]\n",
        "raw_val_data = raw_val_data['data'][:1000]"
      ],
      "metadata": {
        "id": "OXGulbjhYg-o"
      },
      "execution_count": 13,
      "outputs": []
    },
    {
      "cell_type": "code",
      "source": [
        "# 샘플로 하나 확인\n",
        "sample_data = raw_train_data[0]"
      ],
      "metadata": {
        "id": "GMFaFQF0SJb4"
      },
      "execution_count": 14,
      "outputs": []
    },
    {
      "cell_type": "code",
      "source": [
        "# 아래의 예시를 보고 데이터를 어떻게 처리할지 잘 생각하셔야 합니다!\n",
        "# 보았을 때 우리가 사용해야 하는 건 ko와 en가 되고\n",
        "# 실제 데이터를 사용한다고 할 때 이 외에 필요한 데이터가 더 있을 수 있습니다.\n",
        "# 모델링 과정에서는 어떻게 데이터들이 저장되어 있는지 주의해서 처리하시면 됩니다.\n",
        "sample_data"
      ],
      "metadata": {
        "colab": {
          "base_uri": "https://localhost:8080/"
        },
        "id": "I68Quh9gSRag",
        "outputId": "a10f1164-30db-4d77-d2d2-984b0be154ba"
      },
      "execution_count": 15,
      "outputs": [
        {
          "output_type": "execute_result",
          "data": {
            "text/plain": [
              "{'sn': 'ECOAR1A00003',\n",
              " 'data_set': '일상생활및구어체',\n",
              " 'domain': '해외고객과의채팅',\n",
              " 'subdomain': '숙박,음식점',\n",
              " 'en_original': \"I'm glad to hear that, and I hope you do consider doing business with us.\",\n",
              " 'en': \"I'm glad to hear that, and I hope you do consider doing business with us.\",\n",
              " 'mt': '그 소식을 들으니 기쁩니다. 우리와 거래하는 것을 고려해 보시기 바랍니다.',\n",
              " 'ko': '그 말을 들으니 기쁘고, 저희와 거래하는 것을 고려해 주셨으면 합니다.',\n",
              " 'source_language': 'en',\n",
              " 'target_language': 'ko',\n",
              " 'word_count_ko': 10.0,\n",
              " 'word_count_en': 15.0,\n",
              " 'word_ratio': 0.667,\n",
              " 'file_name': '해외고객과의채팅_숙박,음식점.xlsx',\n",
              " 'source': '크라우드 소싱',\n",
              " 'license': 'open',\n",
              " 'style': '구어체',\n",
              " 'included_unknown_words': False,\n",
              " 'ner': None}"
            ]
          },
          "metadata": {},
          "execution_count": 15
        }
      ]
    },
    {
      "cell_type": "markdown",
      "metadata": {
        "id": "LoZkQRO3l20O"
      },
      "source": [
        "# Preprocess\n",
        "\n",
        "세션 설명 코드에서는 알파벳 하나하나 사용했지만, 이번 과정에서는 토큰화를 진행하여 사용하는 과정을 Dataset에 바로 적용해보고자 합니다! \n",
        "\n",
        "토큰화는 앞서 word embedding 세션에서 사용한 것들을 그대로 이용하고자 합니다. 세부 커스터마이징은 자유롭습니다.\n",
        "\n",
        "전처리 과정에서 중요한 점은, 앞의 구현 코드에서 여러 개의 for loop을 이용해서 구현했었지만, 실제 데이터를 사용한다면 매우 오래 걸리게 됩니다. 실제 데이터를 사용할 때엔 결국 얼마나 효율적으로 빠르게 정리할 수 있을지 고민해보시면서 접근하시길 바랍니다.\n",
        "\n",
        "즉, 전처리에서 챙길 통찰은 얼마나 \"효율적\"으로 할 수 있는가? 입니다."
      ]
    },
    {
      "cell_type": "markdown",
      "source": [
        "## Tokenizer"
      ],
      "metadata": {
        "id": "IngQKWx3VRtO"
      }
    },
    {
      "cell_type": "code",
      "source": [
        "#konlpy 설치 (mecab 제외). 3~40초 정도 소요\n",
        "%%bash\n",
        "apt-get update\n",
        "apt-get install g++ openjdk-8-jdk python-dev python3-dev\n",
        "pip3 install JPype1\n",
        "pip3 install konlpy"
      ],
      "metadata": {
        "colab": {
          "base_uri": "https://localhost:8080/"
        },
        "id": "ttmiDFAEU_BK",
        "outputId": "26224724-f733-4c68-9b94-7c9e04ca2869"
      },
      "execution_count": 16,
      "outputs": [
        {
          "output_type": "stream",
          "name": "stdout",
          "text": [
            "Get:1 https://cloud.r-project.org/bin/linux/ubuntu bionic-cran40/ InRelease [3,626 B]\n",
            "Hit:2 http://archive.ubuntu.com/ubuntu bionic InRelease\n",
            "Get:3 http://archive.ubuntu.com/ubuntu bionic-updates InRelease [88.7 kB]\n",
            "Ign:4 https://developer.download.nvidia.com/compute/machine-learning/repos/ubuntu1804/x86_64  InRelease\n",
            "Hit:5 https://developer.download.nvidia.com/compute/cuda/repos/ubuntu1804/x86_64  InRelease\n",
            "Hit:6 https://developer.download.nvidia.com/compute/machine-learning/repos/ubuntu1804/x86_64  Release\n",
            "Get:7 http://ppa.launchpad.net/c2d4u.team/c2d4u4.0+/ubuntu bionic InRelease [15.9 kB]\n",
            "Get:8 http://security.ubuntu.com/ubuntu bionic-security InRelease [88.7 kB]\n",
            "Get:9 http://archive.ubuntu.com/ubuntu bionic-backports InRelease [74.6 kB]\n",
            "Get:10 https://cloud.r-project.org/bin/linux/ubuntu bionic-cran40/ Packages [91.7 kB]\n",
            "Hit:11 http://ppa.launchpad.net/cran/libgit2/ubuntu bionic InRelease\n",
            "Get:12 http://ppa.launchpad.net/deadsnakes/ppa/ubuntu bionic InRelease [15.9 kB]\n",
            "Get:14 http://archive.ubuntu.com/ubuntu bionic-updates/restricted amd64 Packages [1,172 kB]\n",
            "Hit:15 http://ppa.launchpad.net/graphics-drivers/ppa/ubuntu bionic InRelease\n",
            "Get:16 http://archive.ubuntu.com/ubuntu bionic-updates/main amd64 Packages [3,396 kB]\n",
            "Get:17 http://ppa.launchpad.net/c2d4u.team/c2d4u4.0+/ubuntu bionic/main Sources [2,105 kB]\n",
            "Get:18 http://security.ubuntu.com/ubuntu bionic-security/main amd64 Packages [2,965 kB]\n",
            "Get:19 http://ppa.launchpad.net/c2d4u.team/c2d4u4.0+/ubuntu bionic/main amd64 Packages [1,079 kB]\n",
            "Get:20 http://security.ubuntu.com/ubuntu bionic-security/universe amd64 Packages [1,540 kB]\n",
            "Get:21 http://security.ubuntu.com/ubuntu bionic-security/restricted amd64 Packages [1,131 kB]\n",
            "Get:22 http://ppa.launchpad.net/deadsnakes/ppa/ubuntu bionic/main amd64 Packages [45.2 kB]\n",
            "Fetched 13.8 MB in 4s (3,915 kB/s)\n",
            "Reading package lists...\n",
            "Reading package lists...\n",
            "Building dependency tree...\n",
            "Reading state information...\n",
            "python-dev is already the newest version (2.7.15~rc1-1).\n",
            "g++ is already the newest version (4:7.4.0-1ubuntu2.3).\n",
            "g++ set to manually installed.\n",
            "python3-dev is already the newest version (3.6.7-1~18.04).\n",
            "python3-dev set to manually installed.\n",
            "The following package was automatically installed and is no longer required:\n",
            "  libnvidia-common-460\n",
            "Use 'apt autoremove' to remove it.\n",
            "The following additional packages will be installed:\n",
            "  fonts-dejavu-core fonts-dejavu-extra libatk-wrapper-java\n",
            "  libatk-wrapper-java-jni libgail-common libgail18 libgtk2.0-0 libgtk2.0-bin\n",
            "  libgtk2.0-common libxxf86dga1 openjdk-8-jdk-headless openjdk-8-jre\n",
            "  openjdk-8-jre-headless x11-utils\n",
            "Suggested packages:\n",
            "  gvfs openjdk-8-demo openjdk-8-source visualvm libnss-mdns\n",
            "  fonts-ipafont-gothic fonts-ipafont-mincho fonts-wqy-microhei\n",
            "  fonts-wqy-zenhei fonts-indic mesa-utils\n",
            "The following NEW packages will be installed:\n",
            "  fonts-dejavu-core fonts-dejavu-extra libatk-wrapper-java\n",
            "  libatk-wrapper-java-jni libgail-common libgail18 libgtk2.0-0 libgtk2.0-bin\n",
            "  libgtk2.0-common libxxf86dga1 openjdk-8-jdk openjdk-8-jdk-headless\n",
            "  openjdk-8-jre openjdk-8-jre-headless x11-utils\n",
            "0 upgraded, 15 newly installed, 0 to remove and 43 not upgraded.\n",
            "Need to get 46.0 MB of archives.\n",
            "After this operation, 166 MB of additional disk space will be used.\n",
            "Get:1 http://archive.ubuntu.com/ubuntu bionic/main amd64 libxxf86dga1 amd64 2:1.1.4-1 [13.7 kB]\n",
            "Get:2 http://archive.ubuntu.com/ubuntu bionic/main amd64 fonts-dejavu-core all 2.37-1 [1,041 kB]\n",
            "Get:3 http://archive.ubuntu.com/ubuntu bionic/main amd64 fonts-dejavu-extra all 2.37-1 [1,953 kB]\n",
            "Get:4 http://archive.ubuntu.com/ubuntu bionic/main amd64 x11-utils amd64 7.7+3build1 [196 kB]\n",
            "Get:5 http://archive.ubuntu.com/ubuntu bionic/main amd64 libatk-wrapper-java all 0.33.3-20ubuntu0.1 [34.7 kB]\n",
            "Get:6 http://archive.ubuntu.com/ubuntu bionic/main amd64 libatk-wrapper-java-jni amd64 0.33.3-20ubuntu0.1 [28.3 kB]\n",
            "Get:7 http://archive.ubuntu.com/ubuntu bionic/main amd64 libgtk2.0-common all 2.24.32-1ubuntu1 [125 kB]\n",
            "Get:8 http://archive.ubuntu.com/ubuntu bionic/main amd64 libgtk2.0-0 amd64 2.24.32-1ubuntu1 [1,769 kB]\n",
            "Get:9 http://archive.ubuntu.com/ubuntu bionic/main amd64 libgail18 amd64 2.24.32-1ubuntu1 [14.2 kB]\n",
            "Get:10 http://archive.ubuntu.com/ubuntu bionic/main amd64 libgail-common amd64 2.24.32-1ubuntu1 [112 kB]\n",
            "Get:11 http://archive.ubuntu.com/ubuntu bionic/main amd64 libgtk2.0-bin amd64 2.24.32-1ubuntu1 [7,536 B]\n",
            "Get:12 http://archive.ubuntu.com/ubuntu bionic-updates/universe amd64 openjdk-8-jre-headless amd64 8u342-b07-0ubuntu1~18.04 [28.3 MB]\n",
            "Get:13 http://archive.ubuntu.com/ubuntu bionic-updates/universe amd64 openjdk-8-jre amd64 8u342-b07-0ubuntu1~18.04 [69.6 kB]\n",
            "Get:14 http://archive.ubuntu.com/ubuntu bionic-updates/universe amd64 openjdk-8-jdk-headless amd64 8u342-b07-0ubuntu1~18.04 [8,300 kB]\n",
            "Get:15 http://archive.ubuntu.com/ubuntu bionic-updates/universe amd64 openjdk-8-jdk amd64 8u342-b07-0ubuntu1~18.04 [4,032 kB]\n",
            "Fetched 46.0 MB in 1s (47.7 MB/s)\n",
            "Selecting previously unselected package libxxf86dga1:amd64.\r\n",
            "(Reading database ... \r(Reading database ... 5%\r(Reading database ... 10%\r(Reading database ... 15%\r(Reading database ... 20%\r(Reading database ... 25%\r(Reading database ... 30%\r(Reading database ... 35%\r(Reading database ... 40%\r(Reading database ... 45%\r(Reading database ... 50%\r(Reading database ... 55%\r(Reading database ... 60%\r(Reading database ... 65%\r(Reading database ... 70%\r(Reading database ... 75%\r(Reading database ... 80%\r(Reading database ... 85%\r(Reading database ... 90%\r(Reading database ... 95%\r(Reading database ... 100%\r(Reading database ... 155685 files and directories currently installed.)\r\n",
            "Preparing to unpack .../00-libxxf86dga1_2%3a1.1.4-1_amd64.deb ...\r\n",
            "Unpacking libxxf86dga1:amd64 (2:1.1.4-1) ...\r\n",
            "Selecting previously unselected package fonts-dejavu-core.\r\n",
            "Preparing to unpack .../01-fonts-dejavu-core_2.37-1_all.deb ...\r\n",
            "Unpacking fonts-dejavu-core (2.37-1) ...\r\n",
            "Selecting previously unselected package fonts-dejavu-extra.\r\n",
            "Preparing to unpack .../02-fonts-dejavu-extra_2.37-1_all.deb ...\r\n",
            "Unpacking fonts-dejavu-extra (2.37-1) ...\r\n",
            "Selecting previously unselected package x11-utils.\r\n",
            "Preparing to unpack .../03-x11-utils_7.7+3build1_amd64.deb ...\r\n",
            "Unpacking x11-utils (7.7+3build1) ...\r\n",
            "Selecting previously unselected package libatk-wrapper-java.\r\n",
            "Preparing to unpack .../04-libatk-wrapper-java_0.33.3-20ubuntu0.1_all.deb ...\r\n",
            "Unpacking libatk-wrapper-java (0.33.3-20ubuntu0.1) ...\r\n",
            "Selecting previously unselected package libatk-wrapper-java-jni:amd64.\r\n",
            "Preparing to unpack .../05-libatk-wrapper-java-jni_0.33.3-20ubuntu0.1_amd64.deb ...\r\n",
            "Unpacking libatk-wrapper-java-jni:amd64 (0.33.3-20ubuntu0.1) ...\r\n",
            "Selecting previously unselected package libgtk2.0-common.\r\n",
            "Preparing to unpack .../06-libgtk2.0-common_2.24.32-1ubuntu1_all.deb ...\r\n",
            "Unpacking libgtk2.0-common (2.24.32-1ubuntu1) ...\r\n",
            "Selecting previously unselected package libgtk2.0-0:amd64.\r\n",
            "Preparing to unpack .../07-libgtk2.0-0_2.24.32-1ubuntu1_amd64.deb ...\r\n",
            "Unpacking libgtk2.0-0:amd64 (2.24.32-1ubuntu1) ...\r\n",
            "Selecting previously unselected package libgail18:amd64.\r\n",
            "Preparing to unpack .../08-libgail18_2.24.32-1ubuntu1_amd64.deb ...\r\n",
            "Unpacking libgail18:amd64 (2.24.32-1ubuntu1) ...\r\n",
            "Selecting previously unselected package libgail-common:amd64.\r\n",
            "Preparing to unpack .../09-libgail-common_2.24.32-1ubuntu1_amd64.deb ...\r\n",
            "Unpacking libgail-common:amd64 (2.24.32-1ubuntu1) ...\r\n",
            "Selecting previously unselected package libgtk2.0-bin.\r\n",
            "Preparing to unpack .../10-libgtk2.0-bin_2.24.32-1ubuntu1_amd64.deb ...\r\n",
            "Unpacking libgtk2.0-bin (2.24.32-1ubuntu1) ...\r\n",
            "Selecting previously unselected package openjdk-8-jre-headless:amd64.\r\n",
            "Preparing to unpack .../11-openjdk-8-jre-headless_8u342-b07-0ubuntu1~18.04_amd64.deb ...\r\n",
            "Unpacking openjdk-8-jre-headless:amd64 (8u342-b07-0ubuntu1~18.04) ...\r\n",
            "Selecting previously unselected package openjdk-8-jre:amd64.\r\n",
            "Preparing to unpack .../12-openjdk-8-jre_8u342-b07-0ubuntu1~18.04_amd64.deb ...\r\n",
            "Unpacking openjdk-8-jre:amd64 (8u342-b07-0ubuntu1~18.04) ...\r\n",
            "Selecting previously unselected package openjdk-8-jdk-headless:amd64.\r\n",
            "Preparing to unpack .../13-openjdk-8-jdk-headless_8u342-b07-0ubuntu1~18.04_amd64.deb ...\r\n",
            "Unpacking openjdk-8-jdk-headless:amd64 (8u342-b07-0ubuntu1~18.04) ...\r\n",
            "Selecting previously unselected package openjdk-8-jdk:amd64.\r\n",
            "Preparing to unpack .../14-openjdk-8-jdk_8u342-b07-0ubuntu1~18.04_amd64.deb ...\r\n",
            "Unpacking openjdk-8-jdk:amd64 (8u342-b07-0ubuntu1~18.04) ...\r\n",
            "Setting up libgtk2.0-common (2.24.32-1ubuntu1) ...\r\n",
            "Setting up fonts-dejavu-core (2.37-1) ...\r\n",
            "Setting up libxxf86dga1:amd64 (2:1.1.4-1) ...\r\n",
            "Setting up fonts-dejavu-extra (2.37-1) ...\r\n",
            "Setting up openjdk-8-jre-headless:amd64 (8u342-b07-0ubuntu1~18.04) ...\r\n",
            "update-alternatives: using /usr/lib/jvm/java-8-openjdk-amd64/jre/bin/orbd to provide /usr/bin/orbd (orbd) in auto mode\r\n",
            "update-alternatives: using /usr/lib/jvm/java-8-openjdk-amd64/jre/bin/servertool to provide /usr/bin/servertool (servertool) in auto mode\r\n",
            "update-alternatives: using /usr/lib/jvm/java-8-openjdk-amd64/jre/bin/tnameserv to provide /usr/bin/tnameserv (tnameserv) in auto mode\r\n",
            "Setting up libgtk2.0-0:amd64 (2.24.32-1ubuntu1) ...\r\n",
            "Setting up libgail18:amd64 (2.24.32-1ubuntu1) ...\r\n",
            "Setting up openjdk-8-jdk-headless:amd64 (8u342-b07-0ubuntu1~18.04) ...\r\n",
            "update-alternatives: using /usr/lib/jvm/java-8-openjdk-amd64/bin/idlj to provide /usr/bin/idlj (idlj) in auto mode\r\n",
            "update-alternatives: using /usr/lib/jvm/java-8-openjdk-amd64/bin/wsimport to provide /usr/bin/wsimport (wsimport) in auto mode\r\n",
            "update-alternatives: using /usr/lib/jvm/java-8-openjdk-amd64/bin/jsadebugd to provide /usr/bin/jsadebugd (jsadebugd) in auto mode\r\n",
            "update-alternatives: using /usr/lib/jvm/java-8-openjdk-amd64/bin/native2ascii to provide /usr/bin/native2ascii (native2ascii) in auto mode\r\n",
            "update-alternatives: using /usr/lib/jvm/java-8-openjdk-amd64/bin/javah to provide /usr/bin/javah (javah) in auto mode\r\n",
            "update-alternatives: using /usr/lib/jvm/java-8-openjdk-amd64/bin/clhsdb to provide /usr/bin/clhsdb (clhsdb) in auto mode\r\n",
            "update-alternatives: using /usr/lib/jvm/java-8-openjdk-amd64/bin/xjc to provide /usr/bin/xjc (xjc) in auto mode\r\n",
            "update-alternatives: using /usr/lib/jvm/java-8-openjdk-amd64/bin/hsdb to provide /usr/bin/hsdb (hsdb) in auto mode\r\n",
            "update-alternatives: using /usr/lib/jvm/java-8-openjdk-amd64/bin/schemagen to provide /usr/bin/schemagen (schemagen) in auto mode\r\n",
            "update-alternatives: using /usr/lib/jvm/java-8-openjdk-amd64/bin/extcheck to provide /usr/bin/extcheck (extcheck) in auto mode\r\n",
            "update-alternatives: using /usr/lib/jvm/java-8-openjdk-amd64/bin/jhat to provide /usr/bin/jhat (jhat) in auto mode\r\n",
            "update-alternatives: using /usr/lib/jvm/java-8-openjdk-amd64/bin/wsgen to provide /usr/bin/wsgen (wsgen) in auto mode\r\n",
            "Setting up x11-utils (7.7+3build1) ...\r\n",
            "Setting up libgail-common:amd64 (2.24.32-1ubuntu1) ...\r\n",
            "Setting up libatk-wrapper-java (0.33.3-20ubuntu0.1) ...\r\n",
            "Setting up libgtk2.0-bin (2.24.32-1ubuntu1) ...\r\n",
            "Setting up libatk-wrapper-java-jni:amd64 (0.33.3-20ubuntu0.1) ...\r\n",
            "Setting up openjdk-8-jre:amd64 (8u342-b07-0ubuntu1~18.04) ...\r\n",
            "update-alternatives: using /usr/lib/jvm/java-8-openjdk-amd64/jre/bin/policytool to provide /usr/bin/policytool (policytool) in auto mode\r\n",
            "Setting up openjdk-8-jdk:amd64 (8u342-b07-0ubuntu1~18.04) ...\r\n",
            "update-alternatives: using /usr/lib/jvm/java-8-openjdk-amd64/bin/appletviewer to provide /usr/bin/appletviewer (appletviewer) in auto mode\r\n",
            "update-alternatives: using /usr/lib/jvm/java-8-openjdk-amd64/bin/jconsole to provide /usr/bin/jconsole (jconsole) in auto mode\r\n",
            "Processing triggers for man-db (2.8.3-2ubuntu0.1) ...\r\n",
            "Processing triggers for hicolor-icon-theme (0.17-2) ...\r\n",
            "Processing triggers for fontconfig (2.12.6-0ubuntu2) ...\r\n",
            "Processing triggers for mime-support (3.60ubuntu1) ...\r\n",
            "Processing triggers for libc-bin (2.27-3ubuntu1.5) ...\r\n",
            "Looking in indexes: https://pypi.org/simple, https://us-python.pkg.dev/colab-wheels/public/simple/\n",
            "Collecting JPype1\n",
            "  Downloading JPype1-1.4.0-cp37-cp37m-manylinux_2_5_x86_64.manylinux1_x86_64.whl (453 kB)\n",
            "Requirement already satisfied: typing-extensions in /usr/local/lib/python3.7/dist-packages (from JPype1) (4.1.1)\n",
            "Installing collected packages: JPype1\n",
            "Successfully installed JPype1-1.4.0\n",
            "Looking in indexes: https://pypi.org/simple, https://us-python.pkg.dev/colab-wheels/public/simple/\n",
            "Collecting konlpy\n",
            "  Downloading konlpy-0.6.0-py2.py3-none-any.whl (19.4 MB)\n",
            "Requirement already satisfied: numpy>=1.6 in /usr/local/lib/python3.7/dist-packages (from konlpy) (1.21.6)\n",
            "Requirement already satisfied: JPype1>=0.7.0 in /usr/local/lib/python3.7/dist-packages (from konlpy) (1.4.0)\n",
            "Requirement already satisfied: lxml>=4.1.0 in /usr/local/lib/python3.7/dist-packages (from konlpy) (4.9.1)\n",
            "Requirement already satisfied: typing-extensions in /usr/local/lib/python3.7/dist-packages (from JPype1>=0.7.0->konlpy) (4.1.1)\n",
            "Installing collected packages: konlpy\n",
            "Successfully installed konlpy-0.6.0\n"
          ]
        }
      ]
    },
    {
      "cell_type": "code",
      "source": [
        "# java 경로 설정\n",
        "%env JAVA_HOME \"/usr/lib/jvm/java-8-openjdk-amd64\""
      ],
      "metadata": {
        "colab": {
          "base_uri": "https://localhost:8080/"
        },
        "id": "gV7CNL2KVDqN",
        "outputId": "be5e38d3-6944-4c40-b80c-92b8e322d81e"
      },
      "execution_count": 17,
      "outputs": [
        {
          "output_type": "stream",
          "name": "stdout",
          "text": [
            "env: JAVA_HOME=\"/usr/lib/jvm/java-8-openjdk-amd64\"\n"
          ]
        }
      ]
    },
    {
      "cell_type": "code",
      "source": [
        "from konlpy.tag import Okt"
      ],
      "metadata": {
        "id": "S0aHtzksVPOT"
      },
      "execution_count": 18,
      "outputs": []
    },
    {
      "cell_type": "code",
      "source": [
        "okt = Okt()"
      ],
      "metadata": {
        "id": "ly1Fg2bXVYVF"
      },
      "execution_count": 19,
      "outputs": []
    },
    {
      "cell_type": "code",
      "source": [
        "def CustomTokenizer(corpus):\n",
        "    stop = ['Josa','Punctuation', 'Foreign', 'Number']\n",
        "    tokenized = []\n",
        "    for i, j in okt.pos(corpus, stem = True, norm = True):\n",
        "      if (j in stop) and (i not in ['!', '?']):\n",
        "        continue\n",
        "      else:\n",
        "        tokenized.append(i) \n",
        "\n",
        "    return tokenized      "
      ],
      "metadata": {
        "id": "UcXNpcUaVtIA"
      },
      "execution_count": 20,
      "outputs": []
    },
    {
      "cell_type": "code",
      "source": [
        "# 한국어 처리 어떻게 되고 있는지 확인\n",
        "CustomTokenizer(sample_data['ko'])"
      ],
      "metadata": {
        "colab": {
          "base_uri": "https://localhost:8080/"
        },
        "id": "aGMdyWtdWF31",
        "outputId": "b26c19a7-71ef-4a7a-f53e-872d892ce1d4"
      },
      "execution_count": 21,
      "outputs": [
        {
          "output_type": "execute_result",
          "data": {
            "text/plain": [
              "['그', '말', '들다', '기쁘다', '저희', '거래', '하다', '것', '고려', '하다', '주다', '하다']"
            ]
          },
          "metadata": {},
          "execution_count": 21
        }
      ]
    },
    {
      "cell_type": "code",
      "source": [
        "# 영어도 일단 토큰화가 되고 있으니 사용해보도록 합시다\n",
        "CustomTokenizer(sample_data['en'])"
      ],
      "metadata": {
        "colab": {
          "base_uri": "https://localhost:8080/"
        },
        "id": "G7vMH186WJUp",
        "outputId": "9e1d8fc1-5841-4fbd-d30e-09f9327daf58"
      },
      "execution_count": 22,
      "outputs": [
        {
          "output_type": "execute_result",
          "data": {
            "text/plain": [
              "['I',\n",
              " 'm',\n",
              " 'glad',\n",
              " 'to',\n",
              " 'hear',\n",
              " 'that',\n",
              " 'and',\n",
              " 'I',\n",
              " 'hope',\n",
              " 'you',\n",
              " 'do',\n",
              " 'consider',\n",
              " 'doing',\n",
              " 'business',\n",
              " 'with',\n",
              " 'us']"
            ]
          },
          "metadata": {},
          "execution_count": 22
        }
      ]
    },
    {
      "cell_type": "markdown",
      "source": [
        "## 본격적인 전처리 과정\n",
        "\n",
        "전처리릏 할 때 주의할 점은, 우리가 가지고 있는 것은 train 데이터 뿐이라는 점입니다.\n",
        "\n",
        "토큰화를 하고, token들을 수집할 때 평가데이터(혹은 테스트 데이터)에 대한 정보는 가지고 있을 수 없습니다. 그렇기 때문에 train data를 기준으로 전처리가 진행되어야 합니다."
      ],
      "metadata": {
        "id": "L9_z0sVcW7Cy"
      }
    },
    {
      "cell_type": "markdown",
      "source": [
        "### Tokenization"
      ],
      "metadata": {
        "id": "HgfddQJuaQe-"
      }
    },
    {
      "cell_type": "code",
      "source": [
        "from tqdm import tqdm"
      ],
      "metadata": {
        "id": "zPHGhgX4YXJR"
      },
      "execution_count": 23,
      "outputs": []
    },
    {
      "cell_type": "code",
      "source": [
        "src_vocab = set()\n",
        "tar_vocab = set()\n",
        "\n",
        "src_seq_tr = []\n",
        "tar_seq_tr = []\n",
        "\n",
        "# 전체 raw data에서 문장하나씩 loop 돌아가는 것\n",
        "for raw_tr_dat in tqdm(raw_train_data):\n",
        "  # 문장별 tokenization\n",
        "  src_tmp = CustomTokenizer(raw_tr_dat['ko'])\n",
        "  tar_tmp = CustomTokenizer(raw_tr_dat['en'])\n",
        "\n",
        "  # 입력 시퀀스에서 문장의 끝을 알리는 <EOS> 토큰 추가\n",
        "  # 출력 시퀀스에서 시작과 끝을 알리는 <SOS>, <EOS> 토큰 추가\n",
        "  src_tmp.append('<EOS>')\n",
        "  tar_tmp.insert(0, '<SOS>')\n",
        "  tar_tmp.append('<EOS>')\n",
        "\n",
        "  # 한국어, 영어 단어집합 구성\n",
        "  src_vocab.update(src_tmp)\n",
        "  tar_vocab.update(tar_tmp)\n",
        "\n",
        "  # tokenization 끝난 문장 보관\n",
        "  src_seq_tr.append(src_tmp)\n",
        "  tar_seq_tr.append(tar_tmp)"
      ],
      "metadata": {
        "colab": {
          "base_uri": "https://localhost:8080/"
        },
        "id": "sJjWUAipWPsN",
        "outputId": "6e10f33a-83fe-4cf1-86d5-ab73b597ebb9"
      },
      "execution_count": 24,
      "outputs": [
        {
          "output_type": "stream",
          "name": "stderr",
          "text": [
            "100%|██████████| 10000/10000 [00:33<00:00, 298.72it/s]\n"
          ]
        }
      ]
    },
    {
      "cell_type": "code",
      "source": [
        "src_vocab"
      ],
      "metadata": {
        "id": "T5wpuhb2kjlw",
        "colab": {
          "base_uri": "https://localhost:8080/"
        },
        "outputId": "553175c9-e7c5-42ba-fb6a-62fd0d151f85"
      },
      "execution_count": 25,
      "outputs": [
        {
          "output_type": "execute_result",
          "data": {
            "text/plain": [
              "{'불행하다',\n",
              " '오늘이',\n",
              " '육성',\n",
              " '흥미',\n",
              " '요크셔',\n",
              " '우주',\n",
              " '주선',\n",
              " '훑다',\n",
              " '크리에이티브',\n",
              " '웹디자인',\n",
              " '개시',\n",
              " '대접',\n",
              " '묵시',\n",
              " '급등',\n",
              " '종로',\n",
              " '컴프레서',\n",
              " '신호',\n",
              " '인증서',\n",
              " '태블릿',\n",
              " '팀',\n",
              " '표면',\n",
              " '상의',\n",
              " 'PDA',\n",
              " '견인차',\n",
              " '속',\n",
              " '쇼룸',\n",
              " '자식',\n",
              " '단순하다',\n",
              " '만드나',\n",
              " '궁궐',\n",
              " '모범',\n",
              " '디스크',\n",
              " '드라이브',\n",
              " '깻잎',\n",
              " '침체',\n",
              " '서나',\n",
              " '경',\n",
              " '앞',\n",
              " '내려가다',\n",
              " '거점',\n",
              " '여러',\n",
              " '참가자',\n",
              " '유머',\n",
              " '디스플레이',\n",
              " '공정',\n",
              " '렌즈',\n",
              " '노래',\n",
              " '메타',\n",
              " '뒷받침',\n",
              " '핫스팟',\n",
              " '어긋나다',\n",
              " '유연성',\n",
              " '급하다',\n",
              " '정규',\n",
              " '습니',\n",
              " '환자',\n",
              " '하와이',\n",
              " '중고',\n",
              " '워크숍',\n",
              " '회차',\n",
              " '흙빛',\n",
              " '표준',\n",
              " '동의',\n",
              " '용이하다',\n",
              " '개다',\n",
              " '조심하다',\n",
              " '풍',\n",
              " '블렌드',\n",
              " 'Private',\n",
              " '유리하다',\n",
              " '구매',\n",
              " '까다롭다',\n",
              " '편',\n",
              " '치르다',\n",
              " '축하',\n",
              " '특급',\n",
              " '마우스',\n",
              " '살이',\n",
              " '이유',\n",
              " '일련',\n",
              " '자연',\n",
              " '파티',\n",
              " '사본',\n",
              " '각본',\n",
              " '우산',\n",
              " '강제',\n",
              " '평점',\n",
              " '조도',\n",
              " '아침식사',\n",
              " '발급',\n",
              " '부탁',\n",
              " '출장',\n",
              " '매수',\n",
              " '주어지다',\n",
              " '더하다',\n",
              " '분당',\n",
              " '정리',\n",
              " '컬래버레이션',\n",
              " '시험관',\n",
              " '콘솔',\n",
              " 'Food',\n",
              " '월요일',\n",
              " '양도',\n",
              " '분류',\n",
              " '존경',\n",
              " '우린',\n",
              " '심기',\n",
              " '춤',\n",
              " '제품',\n",
              " '그랬더니',\n",
              " '침',\n",
              " '불량',\n",
              " '예술',\n",
              " '몇몇',\n",
              " '웜',\n",
              " '라이',\n",
              " '플래닝',\n",
              " '사태',\n",
              " '쿠션',\n",
              " '남편',\n",
              " '산출',\n",
              " '고구마',\n",
              " '타겟',\n",
              " '고개',\n",
              " '가스',\n",
              " '강남역',\n",
              " '빌트',\n",
              " '식단',\n",
              " '포스터',\n",
              " '담당',\n",
              " '세척',\n",
              " '문의',\n",
              " '협조',\n",
              " '알아듣다',\n",
              " '두렵다',\n",
              " '칩셋',\n",
              " 'RV',\n",
              " '늦다',\n",
              " '끊다',\n",
              " '점화',\n",
              " '인터넷',\n",
              " '아스파라거스',\n",
              " '분할',\n",
              " '또',\n",
              " '물어보다',\n",
              " '허풍',\n",
              " '쿠키',\n",
              " '음반사',\n",
              " '아니다',\n",
              " '인하',\n",
              " '주머니',\n",
              " '칠하다',\n",
              " '풍향',\n",
              " '방출',\n",
              " '주다',\n",
              " '요원',\n",
              " '들려주다',\n",
              " '청중',\n",
              " '보수',\n",
              " '소시지',\n",
              " '지방',\n",
              " '잘해야',\n",
              " '추가',\n",
              " '상사',\n",
              " '덤프',\n",
              " '신종교',\n",
              " '기재',\n",
              " '집',\n",
              " '기업',\n",
              " '강연',\n",
              " '기어',\n",
              " '탈퇴',\n",
              " '블루',\n",
              " '성공하다',\n",
              " '도메인',\n",
              " '들이다',\n",
              " '비슷하다',\n",
              " '충돌',\n",
              " '업무',\n",
              " '치가',\n",
              " '발표',\n",
              " '구입',\n",
              " '차트',\n",
              " '이루어지다',\n",
              " '칼리',\n",
              " '구조원',\n",
              " '박사',\n",
              " '조선',\n",
              " '어떻',\n",
              " '다리미',\n",
              " '안전성',\n",
              " '그래프',\n",
              " '버',\n",
              " '안전하다',\n",
              " '청사진',\n",
              " '매주',\n",
              " '책임감',\n",
              " 'BBB@email.com',\n",
              " '평평하다',\n",
              " '터치',\n",
              " '증빙',\n",
              " '접수',\n",
              " '대중',\n",
              " '스케줄',\n",
              " '샤프트',\n",
              " '독립',\n",
              " '디저스터',\n",
              " '설득',\n",
              " '안',\n",
              " '초당',\n",
              " '방화벽',\n",
              " '즉',\n",
              " '똑똑하다',\n",
              " '알려지다',\n",
              " '대기',\n",
              " '집행',\n",
              " '이웃',\n",
              " '폐쇄되어',\n",
              " '이점',\n",
              " '다루다',\n",
              " '비다',\n",
              " '국내외',\n",
              " '소형',\n",
              " '로그아웃',\n",
              " '방지',\n",
              " '에코',\n",
              " '호스팅',\n",
              " '능력',\n",
              " '이용',\n",
              " '몬순',\n",
              " '빚',\n",
              " '알레르기',\n",
              " '답니',\n",
              " '난방',\n",
              " '부양가족',\n",
              " '사진사',\n",
              " '새해',\n",
              " '조절',\n",
              " '구독',\n",
              " '균열',\n",
              " '담배',\n",
              " '현금',\n",
              " '아프리카',\n",
              " '구축함',\n",
              " '연방',\n",
              " '유압',\n",
              " '환율',\n",
              " '창고',\n",
              " '회전',\n",
              " '콘덴서',\n",
              " '울산',\n",
              " '피우다',\n",
              " '사진',\n",
              " '건너다',\n",
              " '기회',\n",
              " '어기',\n",
              " '평방',\n",
              " '알다',\n",
              " '사기꾼',\n",
              " '상자',\n",
              " '비',\n",
              " '기온',\n",
              " '엉',\n",
              " '허용',\n",
              " '타입',\n",
              " '창구',\n",
              " '잠깐',\n",
              " '다년',\n",
              " '스크류',\n",
              " '엑세스',\n",
              " '범위',\n",
              " '충전기',\n",
              " '딜러',\n",
              " '밟다',\n",
              " '트렌드',\n",
              " '유명',\n",
              " '일러스트',\n",
              " '탐색',\n",
              " '웨비',\n",
              " '공략',\n",
              " '영향',\n",
              " '무료',\n",
              " '노란색',\n",
              " '박',\n",
              " '정전',\n",
              " '테크놀로지',\n",
              " '도구',\n",
              " '공정하다',\n",
              " '사시미',\n",
              " '트이다',\n",
              " '합의',\n",
              " '농작물',\n",
              " '제작회사',\n",
              " '오시',\n",
              " '미디엄',\n",
              " '이서',\n",
              " '어쩐',\n",
              " '건강',\n",
              " '없다',\n",
              " '구역',\n",
              " '어린이',\n",
              " '감수',\n",
              " '포스팅',\n",
              " '발생',\n",
              " '표지',\n",
              " '비건',\n",
              " '우려',\n",
              " '안녕',\n",
              " '확신',\n",
              " '서로',\n",
              " '사업자',\n",
              " '오피스',\n",
              " '주저',\n",
              " '불평등하다',\n",
              " '편지함',\n",
              " '지나다',\n",
              " '소스',\n",
              " '긴급하다',\n",
              " '재능',\n",
              " '웨이터',\n",
              " '사은',\n",
              " '미만',\n",
              " '부모님',\n",
              " '일자리',\n",
              " '비공식',\n",
              " '코스닥',\n",
              " '프로듀서',\n",
              " '부지',\n",
              " '하기는',\n",
              " '가로',\n",
              " '만듭니',\n",
              " '작동',\n",
              " '회계사',\n",
              " '집주인',\n",
              " '해오다',\n",
              " '깊이',\n",
              " '집안일',\n",
              " '액션',\n",
              " '어제',\n",
              " '머드',\n",
              " '중등교육',\n",
              " '남미',\n",
              " '아쉽다',\n",
              " '불당',\n",
              " '어느',\n",
              " '튀기다',\n",
              " '확정',\n",
              " '팔다',\n",
              " '예배',\n",
              " '기계',\n",
              " '한도',\n",
              " '서울',\n",
              " '의상',\n",
              " '지표',\n",
              " '최소',\n",
              " '자쿠',\n",
              " '유행병',\n",
              " '존중',\n",
              " '등급',\n",
              " '보트',\n",
              " '급우',\n",
              " '모뎀',\n",
              " '편집',\n",
              " '영수증',\n",
              " '나가다',\n",
              " '한국은행',\n",
              " '조심',\n",
              " '용법',\n",
              " '설치다',\n",
              " '의뢰',\n",
              " 'PVP',\n",
              " '오르다',\n",
              " '프로토콜',\n",
              " '마인더',\n",
              " '이중과세',\n",
              " '매',\n",
              " '유료',\n",
              " '방침',\n",
              " '시스템',\n",
              " '머신',\n",
              " '선',\n",
              " '시큐리티',\n",
              " '프라이드',\n",
              " '객실',\n",
              " '뭐',\n",
              " '특제',\n",
              " '세대',\n",
              " '책',\n",
              " '증권사',\n",
              " '깊다',\n",
              " '서재',\n",
              " '거기',\n",
              " '참석',\n",
              " '장용',\n",
              " '가상',\n",
              " '답지',\n",
              " '부팅',\n",
              " '사전',\n",
              " '업그레이드',\n",
              " '치즈',\n",
              " '없애다',\n",
              " '회로',\n",
              " '실패하다',\n",
              " '학습',\n",
              " '옆',\n",
              " '학과',\n",
              " '캐터필러',\n",
              " '모국어',\n",
              " '되돌리다',\n",
              " '그러면',\n",
              " '반드시',\n",
              " '지정',\n",
              " '같다',\n",
              " '귀하다',\n",
              " '조취',\n",
              " '수십',\n",
              " '훨씬',\n",
              " '경치',\n",
              " '번가',\n",
              " '반려동물',\n",
              " '한정판',\n",
              " '보류',\n",
              " '선물거래',\n",
              " '브레인스토밍',\n",
              " '성능',\n",
              " '거나',\n",
              " '스낵',\n",
              " '잔디',\n",
              " '모욕',\n",
              " '영역',\n",
              " '태극',\n",
              " '무례하다',\n",
              " '첫날',\n",
              " '랍니',\n",
              " '주말',\n",
              " '룸',\n",
              " '코딩',\n",
              " '늦어지다',\n",
              " '모터보트',\n",
              " '빈손',\n",
              " '더듬다',\n",
              " '주무시다',\n",
              " '스포츠',\n",
              " '신선하다',\n",
              " '출발점',\n",
              " '두드리다',\n",
              " '차례',\n",
              " '가르다',\n",
              " '함',\n",
              " '킬로와트',\n",
              " '한식당',\n",
              " '인하다',\n",
              " '라이브러리',\n",
              " '국',\n",
              " '아바타',\n",
              " '강의',\n",
              " '평균',\n",
              " '공사',\n",
              " '점진',\n",
              " '절',\n",
              " '나쁘다',\n",
              " '고통',\n",
              " '경우',\n",
              " '불량품',\n",
              " '와우',\n",
              " '아무튼',\n",
              " '만들어지다',\n",
              " '관세청',\n",
              " '영원하다',\n",
              " '버네',\n",
              " '출판',\n",
              " '인지도',\n",
              " '틈',\n",
              " '무의미하다',\n",
              " '홈',\n",
              " '코리아',\n",
              " '깨끗하다',\n",
              " '기밀',\n",
              " '가세',\n",
              " '빗',\n",
              " '여행사',\n",
              " '불교',\n",
              " '더욱',\n",
              " '수석',\n",
              " '종신',\n",
              " '반납',\n",
              " '워치',\n",
              " '실제',\n",
              " '마찬가지',\n",
              " '우유',\n",
              " '정보기술',\n",
              " '추출',\n",
              " '특별하다',\n",
              " '평편',\n",
              " '템플스테이',\n",
              " '복사기',\n",
              " '하드',\n",
              " '말다',\n",
              " '결과',\n",
              " '전화기',\n",
              " '컨셉',\n",
              " '지사',\n",
              " '덴마크',\n",
              " '물',\n",
              " '휴양',\n",
              " '찢어지다',\n",
              " '치',\n",
              " '채용',\n",
              " '깜박이다',\n",
              " '웨딩',\n",
              " '시일',\n",
              " '따로',\n",
              " '봉쇄',\n",
              " '자체',\n",
              " '휴',\n",
              " '복',\n",
              " 'SSD',\n",
              " '결절',\n",
              " '분석',\n",
              " '토론',\n",
              " '적재',\n",
              " '기차',\n",
              " '그렇게',\n",
              " '부착',\n",
              " '단체',\n",
              " '프레임워크',\n",
              " '별관',\n",
              " '징',\n",
              " '곤경',\n",
              " '손익계산서',\n",
              " '분실',\n",
              " '유통업체',\n",
              " '만두',\n",
              " '전역',\n",
              " '신흥',\n",
              " '차량',\n",
              " '달리',\n",
              " '앰프',\n",
              " '이탈리아',\n",
              " '신원',\n",
              " '경의',\n",
              " '시오',\n",
              " '청년',\n",
              " '골드',\n",
              " '히',\n",
              " '저장',\n",
              " '운',\n",
              " '이외',\n",
              " '바이오',\n",
              " '가능',\n",
              " '요트',\n",
              " '가솔린',\n",
              " 'VC',\n",
              " '당근',\n",
              " '오후',\n",
              " '낫다',\n",
              " '연수',\n",
              " '검토',\n",
              " '방사성',\n",
              " '이내',\n",
              " '문제점',\n",
              " '메시지',\n",
              " '배분',\n",
              " '다양하다',\n",
              " '당연하다',\n",
              " '팔레트',\n",
              " '도입',\n",
              " '사이즈',\n",
              " '흔하다',\n",
              " '케이스',\n",
              " '데우다',\n",
              " '찜',\n",
              " '재미',\n",
              " '주얼',\n",
              " '글',\n",
              " '구경',\n",
              " '텔레비전',\n",
              " '컷',\n",
              " '조금',\n",
              " '늘',\n",
              " 'CFM',\n",
              " '숙지',\n",
              " 'SEO',\n",
              " '가판',\n",
              " '특기',\n",
              " '그늘',\n",
              " '후',\n",
              " '환급',\n",
              " '수량',\n",
              " '상당하다',\n",
              " 'Bank',\n",
              " '따라가다',\n",
              " '올해',\n",
              " 'CT',\n",
              " '시',\n",
              " '골프',\n",
              " '롤러',\n",
              " '부채',\n",
              " '여성',\n",
              " '매각',\n",
              " '이동',\n",
              " '냄비',\n",
              " '젠',\n",
              " '군데',\n",
              " '유예',\n",
              " '주기',\n",
              " '상관없다',\n",
              " '장갑',\n",
              " '과장',\n",
              " '터',\n",
              " '유행',\n",
              " '를',\n",
              " '트래픽',\n",
              " '아직도',\n",
              " '갈아타다',\n",
              " '코로나',\n",
              " '터링',\n",
              " '사원',\n",
              " '겪다',\n",
              " '화학',\n",
              " '폴더',\n",
              " '알고리즘',\n",
              " '부엌',\n",
              " '검증',\n",
              " '심장',\n",
              " '무드',\n",
              " '금리',\n",
              " '쇼',\n",
              " '올바르다',\n",
              " '프랜차이즈',\n",
              " '공통',\n",
              " '저녁',\n",
              " '침실',\n",
              " '육회',\n",
              " '리프트',\n",
              " '타운하우스',\n",
              " '거도',\n",
              " '데스크탑',\n",
              " '개입',\n",
              " '원본',\n",
              " '공학',\n",
              " '다듬다',\n",
              " '부동산',\n",
              " '이미',\n",
              " '그릴',\n",
              " 'Expo',\n",
              " '고르다',\n",
              " '놀랍다',\n",
              " '젊은이',\n",
              " '욕구',\n",
              " 'SKU',\n",
              " '개인정보',\n",
              " '얼마',\n",
              " '제목',\n",
              " '방대하다',\n",
              " '단합',\n",
              " '감사',\n",
              " 'HTML',\n",
              " '나아가다',\n",
              " '애프터',\n",
              " '뵙다',\n",
              " '대적',\n",
              " '하므다',\n",
              " '번창',\n",
              " '여보',\n",
              " '특수하다',\n",
              " '매트',\n",
              " '온돌',\n",
              " '위성',\n",
              " '거들다',\n",
              " 'EVA',\n",
              " '체크',\n",
              " '일이',\n",
              " '곳곳',\n",
              " '에티켓',\n",
              " '피해',\n",
              " '야채',\n",
              " '악성코드',\n",
              " '공제',\n",
              " '공기업',\n",
              " '가다',\n",
              " '결혼식',\n",
              " '모르타르',\n",
              " '전',\n",
              " '토스터',\n",
              " '팔',\n",
              " '편하다',\n",
              " '가든',\n",
              " '뜨개질',\n",
              " '리버풀',\n",
              " '한정',\n",
              " '탄소',\n",
              " '리캐',\n",
              " '바라다',\n",
              " '파이프',\n",
              " '아늑하다',\n",
              " '본부',\n",
              " '가용성',\n",
              " '두기',\n",
              " '잃어버리다',\n",
              " '행운',\n",
              " '교훈',\n",
              " '연령',\n",
              " '영국',\n",
              " '김치볶음밥',\n",
              " '여보세요',\n",
              " '심각하다',\n",
              " '필기체',\n",
              " '예금',\n",
              " '뽑다',\n",
              " '대유행',\n",
              " 'PSA',\n",
              " '파견',\n",
              " '닭',\n",
              " '응답',\n",
              " '감사하다',\n",
              " '임원진',\n",
              " 'cm',\n",
              " '고장',\n",
              " '해명',\n",
              " '기후변화',\n",
              " '블루칩',\n",
              " '마스코트',\n",
              " '특성',\n",
              " '희망',\n",
              " '친절하다',\n",
              " '나빠지다',\n",
              " '물질',\n",
              " '가격',\n",
              " '징글링',\n",
              " '리소스',\n",
              " '마스터',\n",
              " '양호',\n",
              " '만족',\n",
              " '언론',\n",
              " '부족',\n",
              " '의무',\n",
              " '명',\n",
              " '붕어빵',\n",
              " '정성',\n",
              " '읽다',\n",
              " '버너',\n",
              " '궁금하다',\n",
              " '전하',\n",
              " '광대역',\n",
              " '방적',\n",
              " '어디서',\n",
              " '웹캐스트',\n",
              " '반년',\n",
              " '이렇게',\n",
              " '부족하다',\n",
              " '내야',\n",
              " '커지다',\n",
              " '역시',\n",
              " '가요',\n",
              " '커플',\n",
              " '동전',\n",
              " '신발',\n",
              " '분리',\n",
              " '공개',\n",
              " '계시',\n",
              " '디바이스',\n",
              " '헬스장',\n",
              " '포인트',\n",
              " '대통령',\n",
              " '합작',\n",
              " '지우다',\n",
              " '폴리오',\n",
              " '자택',\n",
              " '하숙집',\n",
              " '포켓',\n",
              " '일련번호',\n",
              " '열람',\n",
              " '원심',\n",
              " '사인회',\n",
              " '스토리',\n",
              " '교직원',\n",
              " '회계',\n",
              " '배너',\n",
              " '모티브',\n",
              " '사다',\n",
              " '연휴',\n",
              " '떡볶이',\n",
              " '다채로웠으',\n",
              " '신부',\n",
              " '조카',\n",
              " '확장',\n",
              " '연간',\n",
              " '딸리다',\n",
              " '요인',\n",
              " '증권',\n",
              " '일정하다',\n",
              " '발송',\n",
              " '현미경',\n",
              " '주차장',\n",
              " '의심',\n",
              " '시마',\n",
              " '힘들다',\n",
              " '숯불',\n",
              " '판단',\n",
              " '자신감',\n",
              " '식사',\n",
              " '높이',\n",
              " '밧줄',\n",
              " '이정표',\n",
              " '연락처',\n",
              " '툴',\n",
              " '배우다',\n",
              " '자라다',\n",
              " '몰두하다',\n",
              " '잘',\n",
              " '상하이',\n",
              " '젊다',\n",
              " '정체',\n",
              " '다음',\n",
              " '프로세서',\n",
              " '나르다',\n",
              " '빠르다',\n",
              " '냅킨',\n",
              " '한국어',\n",
              " '띄다',\n",
              " '얘기',\n",
              " '옥상',\n",
              " '최적화',\n",
              " '명세서',\n",
              " '미용',\n",
              " '하이테크',\n",
              " '글쎄',\n",
              " '결기',\n",
              " '불편',\n",
              " '마당',\n",
              " '부정',\n",
              " '면직물',\n",
              " '넣기',\n",
              " '심박',\n",
              " '화기',\n",
              " '공항',\n",
              " '역',\n",
              " '고려인삼',\n",
              " '보도',\n",
              " '묵고',\n",
              " '숙주',\n",
              " '식탁',\n",
              " '도안',\n",
              " '양해',\n",
              " '빨갛다',\n",
              " '뉴질랜드',\n",
              " '취득',\n",
              " '지명',\n",
              " '탕감',\n",
              " '안좋다',\n",
              " '블록',\n",
              " '참조',\n",
              " '년',\n",
              " '귀중하다',\n",
              " '귀국',\n",
              " '텍스트',\n",
              " '전부',\n",
              " '신입사원',\n",
              " '발복',\n",
              " '발행',\n",
              " '대본',\n",
              " '퀼트',\n",
              " '내내',\n",
              " '굴착기',\n",
              " '전문',\n",
              " '축',\n",
              " '빌보드',\n",
              " '전세계',\n",
              " '익숙하다',\n",
              " '기차역',\n",
              " '남동쪽',\n",
              " '렌탈',\n",
              " '서류',\n",
              " '축배',\n",
              " '음원',\n",
              " '삭제',\n",
              " '인용',\n",
              " '자로',\n",
              " '전화번호',\n",
              " '주장',\n",
              " '대출',\n",
              " '용무',\n",
              " '장거리',\n",
              " '사이일',\n",
              " '커피',\n",
              " '접근성',\n",
              " '배포',\n",
              " '문제',\n",
              " '주목',\n",
              " '자르다',\n",
              " '수표',\n",
              " '체인',\n",
              " '건설업',\n",
              " '개발',\n",
              " '당분간',\n",
              " '조만간',\n",
              " '작가',\n",
              " '입장료',\n",
              " '오하이오주',\n",
              " '수출',\n",
              " '평판',\n",
              " '동영상',\n",
              " '확보',\n",
              " '비빔냉면',\n",
              " '마법',\n",
              " '플랫폼',\n",
              " '스니커즈',\n",
              " '버스정류장',\n",
              " '인터페이스',\n",
              " '약속',\n",
              " '불필요하다',\n",
              " '동물성',\n",
              " '본체',\n",
              " '형',\n",
              " '나뉘다',\n",
              " '하나로',\n",
              " '투자수익률',\n",
              " '과소',\n",
              " '상대로',\n",
              " '해초',\n",
              " '장',\n",
              " '별장',\n",
              " '제조업체',\n",
              " '신입생',\n",
              " '묵다',\n",
              " '충실하다',\n",
              " '이동식',\n",
              " '캐싱',\n",
              " '최첨단',\n",
              " '지폐',\n",
              " '리퍼',\n",
              " '연락',\n",
              " '앙',\n",
              " '인플레이션율',\n",
              " '수수료',\n",
              " '안타깝다',\n",
              " '녹이다',\n",
              " '전자상거래',\n",
              " '부침개',\n",
              " '그리스',\n",
              " '게장',\n",
              " '고객',\n",
              " '음악',\n",
              " '많아지다',\n",
              " '안내받다',\n",
              " '법',\n",
              " '대학교',\n",
              " '환불',\n",
              " '스케줄러',\n",
              " '대표',\n",
              " '재발',\n",
              " '아이디어',\n",
              " '실외',\n",
              " '통도사',\n",
              " '신경',\n",
              " '리셉션',\n",
              " '불편하다',\n",
              " '국내선',\n",
              " '디지털로',\n",
              " '고용주',\n",
              " '불러일으키다',\n",
              " '카테고리',\n",
              " '주지',\n",
              " '개도',\n",
              " '간의',\n",
              " '병',\n",
              " '부',\n",
              " '주',\n",
              " '펀드',\n",
              " '슬라이드',\n",
              " '셀러',\n",
              " '타다',\n",
              " '준',\n",
              " '편리하다',\n",
              " '원고',\n",
              " '남지',\n",
              " '마닐라',\n",
              " '절기',\n",
              " '정박',\n",
              " '미국법',\n",
              " '베다',\n",
              " '열다',\n",
              " '다인',\n",
              " '캘린더',\n",
              " '효율',\n",
              " '알아보다',\n",
              " '가정',\n",
              " 'IP',\n",
              " '수비드',\n",
              " '내려오다',\n",
              " '디시',\n",
              " '태극기',\n",
              " '송장',\n",
              " '이후',\n",
              " '각서',\n",
              " '스카이라인',\n",
              " '회복하다',\n",
              " '바비큐',\n",
              " '접종',\n",
              " ...}"
            ]
          },
          "metadata": {},
          "execution_count": 25
        }
      ]
    },
    {
      "cell_type": "code",
      "source": [
        "src_tmp"
      ],
      "metadata": {
        "colab": {
          "base_uri": "https://localhost:8080/"
        },
        "id": "U5sthiruV5rN",
        "outputId": "477cab9a-ad99-4479-f992-f12e2d423886"
      },
      "execution_count": 26,
      "outputs": [
        {
          "output_type": "execute_result",
          "data": {
            "text/plain": [
              "['안녕하다',\n",
              " '저희',\n",
              " '한국',\n",
              " '있다',\n",
              " '저희',\n",
              " '회사',\n",
              " '새',\n",
              " '사무실',\n",
              " '위',\n",
              " '인테리어',\n",
              " '디자이너',\n",
              " '찾다',\n",
              " '있다',\n",
              " '<EOS>']"
            ]
          },
          "metadata": {},
          "execution_count": 26
        }
      ]
    },
    {
      "cell_type": "markdown",
      "source": [
        "고민해볼 점: 과연 한국어 단어집합에 한국어만 있을까요?\n",
        "\n",
        "지금 단계에서는 시간 상 체크하진 않지만 고민해볼 부분이기도 합니다."
      ],
      "metadata": {
        "id": "PtNW4DUIyEbN"
      }
    },
    {
      "cell_type": "markdown",
      "source": [
        "### token - index 정리"
      ],
      "metadata": {
        "id": "cK_E98-daSy7"
      }
    },
    {
      "cell_type": "code",
      "source": [
        "# 최종 정수 인코딩 하기 전 보기 편하기 위해 sort\n",
        "src_vocab = sorted(list(src_vocab))\n",
        "tar_vocab = sorted(list(tar_vocab))"
      ],
      "metadata": {
        "id": "Iz3i3MtRZ-P-"
      },
      "execution_count": 27,
      "outputs": []
    },
    {
      "cell_type": "code",
      "source": [
        "# token - idx dictionary\n",
        "# 여기서도 동일하게 i+1로 해줘야 padding에 사용할 token을 0으로 사용할 수 있습니다!\n",
        "src_to_index = dict([(word, i+1) for i, word in enumerate(src_vocab)])\n",
        "tar_to_index = dict([(word, i+1) for i, word in enumerate(tar_vocab)])\n",
        "print(src_to_index)\n",
        "print(tar_to_index)"
      ],
      "metadata": {
        "colab": {
          "base_uri": "https://localhost:8080/"
        },
        "id": "xrGkd41Has-Q",
        "outputId": "95268f34-ee4e-49aa-ac4a-61eb535c84ce"
      },
      "execution_count": 28,
      "outputs": [
        {
          "output_type": "stream",
          "name": "stdout",
          "text": [
            "{'!': 1, '<EOS>': 2, '?': 3, 'A': 4, 'AAA': 5, 'AAA1@BBB1.com': 6, 'AAA@BBB.com': 7, 'ABCDE': 8, 'AI': 9, 'ANR': 10, 'ATM': 11, 'Associates': 12, 'B': 13, 'BBB': 14, 'BBB@email.com': 15, 'BSE': 16, 'Bank': 17, 'C': 18, 'CCTV': 19, 'CEO': 20, 'CFM': 21, 'CMS': 22, 'COVID': 23, 'CSS': 24, 'CT': 25, 'Company': 26, 'Corporation': 27, 'D': 28, 'DCA': 29, 'DVR': 30, 'Drive': 31, 'E': 32, 'EOB': 33, 'EPP': 34, 'ESG': 35, 'ETF': 36, 'EVA': 37, 'Enter': 38, 'Expo': 39, 'FFF': 40, 'FFFF': 41, 'FOMO': 42, 'Fair': 43, 'Fi': 44, 'Food': 45, 'Fu': 46, 'G': 47, 'GB': 48, 'GPS': 49, 'GVWR': 50, 'HDD': 51, 'HTML': 52, 'ID': 53, 'IP': 54, 'IPO': 55, 'IT': 56, 'IVR': 57, 'IaaS': 58, 'International': 59, 'IoT': 60, 'JLPT': 61, 'K': 62, 'Kabsat': 63, 'Korea': 64, 'LED': 65, 'Limited': 66, 'Locust': 67, 'M': 68, 'MAR': 69, 'MMS': 70, 'MOU': 71, 'Medical': 72, 'NFT': 73, 'NI': 74, 'NSE': 75, 'NTFS': 76, 'PDA': 77, 'PDF': 78, 'PPE': 79, 'PRO': 80, 'PSA': 81, 'PVP': 82, 'Precision': 83, 'Private': 84, 'QR': 85, 'RAM': 86, 'ROI': 87, 'RV': 88, 'SD': 89, 'SEO': 90, 'SIM': 91, 'SKU': 92, 'SNS': 93, 'SPV': 94, 'SSD': 95, 'SSL': 96, 'Salalah': 97, 'South': 98, 'TPU': 99, 'TV': 100, 'Touch': 101, 'UI': 102, 'UN': 103, 'USB': 104, 'VC': 105, 'VIP': 106, 'VPN': 107, 'VR': 108, 'VVIP': 109, 'View': 110, 'WIFI': 111, 'WTO': 112, 'Web': 113, 'Wi': 114, 'by': 115, 'car': 116, 'cm': 117, 'demat': 118, 'e': 119, 'found': 120, 'km': 121, 'm': 122, 'mm': 123, 'mmHg': 124, 'not': 125, 'pdf': 126, 'x': 127, '가게': 128, '가격': 129, '가격표': 130, '가공': 131, '가교': 132, '가구': 133, '가급적': 134, '가기': 135, '가까워지다': 136, '가까이': 137, '가깝다': 138, '가꾸다': 139, '가끔': 140, '가능': 141, '가능성': 142, '가능하다': 143, '가다': 144, '가닥': 145, '가득': 146, '가득하다': 147, '가든': 148, '가령': 149, '가로': 150, '가르다': 151, '가르치다': 152, '가리키다': 153, '가면': 154, '가미': 155, '가변': 156, '가볍다': 157, '가보다': 158, '가상': 159, '가상화': 160, '가세': 161, '가소성': 162, '가솔린': 163, '가스': 164, '가스나': 165, '가스레인지': 166, '가슴': 167, '가시': 168, '가야': 169, '가열': 170, '가옥': 171, '가요': 172, '가용성': 173, '가을': 174, '가의': 175, '가이드': 176, '가이드북': 177, '가입': 178, '가입자': 179, '가장': 180, '가전': 181, '가전제품': 182, '가정': 183, '가정식': 184, '가젯': 185, '가져가다': 186, '가져다주다': 187, '가져오다': 188, '가족': 189, '가지': 190, '가지다': 191, '가차': 192, '가치': 193, '가판': 194, '각': 195, '각각': 196, '각국': 197, '각도': 198, '각본': 199, '각서': 200, '각자': 201, '각종': 202, '간': 203, '간격': 204, '간결하다': 205, '간과': 206, '간극': 207, '간단하다': 208, '간략하다': 209, '간사': 210, '간의': 211, '간장': 212, '간접비': 213, '간주': 214, '간행물': 215, '간호사': 216, '갇히다': 217, '갈다': 218, '갈래': 219, '갈비': 220, '갈아타다': 221, '감': 222, '감당': 223, '감독': 224, '감동': 225, '감명': 226, '감사': 227, '감사하다': 228, '감소': 229, '감수': 230, '감시': 231, '감싸다': 232, '감안': 233, '감염': 234, '감정': 235, '감지': 236, '갑자기': 237, '갑작스럽다': 238, '값': 239, '갓': 240, '강남': 241, '강남역': 242, '강도': 243, '강력하다': 244, '강릉': 245, '강세': 246, '강아지': 247, '강연': 248, '강의': 249, '강의실': 250, '강점': 251, '강제': 252, '강조': 253, '강좌': 254, '강철': 255, '강하다': 256, '강화하다': 257, '갖다': 258, '갖추다': 259, '같다': 260, '같이': 261, '갚다': 262, '개': 263, '개구': 264, '개국': 265, '개념': 266, '개다': 267, '개도': 268, '개발': 269, '개발자': 270, '개방': 271, '개별': 272, '개봉': 273, '개선': 274, '개설': 275, '개시': 276, '개업': 277, '개요': 278, '개월': 279, '개월치': 280, '개인': 281, '개인실': 282, '개인정보': 283, '개인화': 284, '개입': 285, '개정': 286, '개조': 287, '개척': 288, '개체': 289, '개최': 290, '개회': 291, '객': 292, '객관': 293, '객실': 294, '갱신': 295, '거': 296, '거고': 297, '거기': 298, '거나': 299, '거대하다': 300, '거도': 301, '거들다': 302, '거뜬하다': 303, '거란': 304, '거래': 305, '거래소': 306, '거래처': 307, '거론': 308, '거리': 309, '거버넌스': 310, '거부': 311, '거셨나': 312, '거슬러': 313, '거신': 314, '거실': 315, '거야': 316, '거의': 317, '거절': 318, '거점': 319, '거주': 320, '거주지': 321, '거처': 322, '거치다': 323, '거품': 324, '걱정': 325, '걱정거리': 326, '건': 327, '건가': 328, '건강': 329, '건강하다': 330, '건너다': 331, '건너편': 332, '건네주다': 333, '건대': 334, '건물': 335, '건배': 336, '건설': 337, '건설업': 338, '건의': 339, '건조기': 340, '건지다': 341, '건축': 342, '건축물': 343, '걸': 344, '걸다': 345, '걸리다': 346, '걸음걸이': 347, '걸쭉하다': 348, '걸치다': 349, '검': 350, '검다': 351, '검사': 352, '검색': 353, '검수': 354, '검안': 355, '검은색': 356, '검증': 357, '검토': 358, '겁': 359, '겁니다': 360, '것': 361, '것이므': 362, '것입': 363, '게': 364, '게다가': 365, '게스트': 366, '게스트하우스': 367, '게시': 368, '게시판': 369, '게으르다': 370, '게이': 371, '게이트': 372, '게임': 373, '게장': 374, '게재': 375, '겠다': 376, '겨울': 377, '겨울철': 378, '격려': 379, '격식': 380, '격자': 381, '겪다': 382, '견과류': 383, '견본': 384, '견인차': 385, '견적': 386, '견학': 387, '결과': 388, '결국': 389, '결기': 390, '결론': 391, '결절': 392, '결정': 393, '결제': 394, '결코': 395, '결함': 396, '결합': 397, '결혼': 398, '결혼식': 399, '경': 400, '경고': 401, '경과': 402, '경기도': 403, '경량': 404, '경력': 405, '경로': 406, '경보': 407, '경비원': 408, '경시': 409, '경영': 410, '경우': 411, '경의': 412, '경작': 413, '경쟁': 414, '경쟁력': 415, '경쟁자': 416, '경제': 417, '경청': 418, '경치': 419, '경품': 420, '경향': 421, '경험': 422, '곁들이다': 423, '계': 424, '계란': 425, '계란빵': 426, '계란찜': 427, '계산': 428, '계산서': 429, '계세': 430, '계속': 431, '계시': 432, '계시다': 433, '계약': 434, '계약금': 435, '계약서': 436, '계열': 437, '계절': 438, '계정': 439, '계정은': 440, '계좌': 441, '계층': 442, '계획': 443, '고': 444, '고가': 445, '고개': 446, '고객': 447, '고구마': 448, '고귀하다': 449, '고급': 450, '고급스럽다': 451, '고기': 452, '고대': 453, '고도': 454, '고등어': 455, '고려': 456, '고려인삼': 457, '고르다': 458, '고맙다': 459, '고문': 460, '고민': 461, '고소하다': 462, '고속': 463, '고압': 464, '고양이': 465, '고여': 466, '고요': 467, '고용': 468, '고용주': 469, '고위': 470, '고유': 471, '고장': 472, '고정': 473, '고정기': 474, '고집': 475, '고추장': 476, '고치다': 477, '고통': 478, '고프다': 479, '고향': 480, '고화질': 481, '곡': 482, '곡물': 483, '곤경': 484, '곤혹': 485, '곧': 486, '곧다': 487, '골드': 488, '골프': 489, '곰팡이': 490, '곱': 491, '곳': 492, '곳곳': 493, '곳도': 494, '공': 495, '공간': 496, '공감': 497, '공개': 498, '공격': 499, '공공': 500, '공과금': 501, '공급': 502, '공기': 503, '공기업': 504, '공동': 505, '공동체': 506, '공략': 507, '공모': 508, '공백': 509, '공부': 510, '공사': 511, '공식': 512, '공압': 513, '공연': 514, '공용': 515, '공유': 516, '공인': 517, '공자': 518, '공장': 519, '공정': 520, '공정하다': 521, '공제': 522, '공지': 523, '공짜': 524, '공통': 525, '공통점': 526, '공학': 527, '공함': 528, '공항': 529, '과': 530, '과감': 531, '과거': 532, '과대': 533, '과세': 534, '과소': 535, '과실': 536, '과업': 537, '과일': 538, '과자': 539, '과장': 540, '과정': 541, '과제': 542, '과학': 543, '과학자': 544, '관': 545, '관계': 546, '관계없이': 547, '관광': 548, '관광객': 549, '관광지': 550, '관대하다': 551, '관련': 552, '관리': 553, '관리자': 554, '관세': 555, '관세청': 556, '관습': 557, '관심': 558, '관심사': 559, '관용': 560, '관점': 561, '관찰': 562, '관할': 563, '관해': 564, '관행': 565, '괌': 566, '광': 567, '광고': 568, '광대역': 569, '광도': 570, '광범위하다': 571, '광석': 572, '광택': 573, '괜': 574, '괜찮다': 575, '괴롭히다': 576, '굉장하다': 577, '교대': 578, '교류': 579, '교사': 580, '교수': 581, '교실': 582, '교육': 583, '교재': 584, '교직원': 585, '교체': 586, '교통': 587, '교환': 588, '교환학생': 589, '교훈': 590, '구': 591, '구가': 592, '구경': 593, '구독': 594, '구독료': 595, '구동': 596, '구름': 597, '구매': 598, '구별': 599, '구비': 600, '구상': 601, '구석구석': 602, '구성': 603, '구역': 604, '구이': 605, '구입': 606, '구절판': 607, '구조': 608, '구조원': 609, '구체': 610, '구축': 611, '구축함': 612, '구현': 613, '구형': 614, '국': 615, '국가': 616, '국경': 617, '국내': 618, '국내선': 619, '국내외': 620, '국물': 621, '국법': 622, '국수': 623, '국적': 624, '국제': 625, '국제공항': 626, '국한': 627, '군': 628, '군데': 629, '굴삭기': 630, '굴착기': 631, '굵다': 632, '굽다': 633, '궁궐': 634, '궁극': 635, '궁금하다': 636, '권': 637, '권리': 638, '권장': 639, '권하다': 640, '권한': 641, '귀': 642, '귀국': 643, '귀사': 644, '귀중': 645, '귀중하다': 646, '귀하': 647, '귀하다': 648, '규모': 649, '규정': 650, '규제': 651, '규칙': 652, '균열': 653, '균형': 654, '그': 655, '그거': 656, '그건': 657, '그걸': 658, '그걿': 659, '그것': 660, '그게': 661, '그날': 662, '그냥': 663, '그녀': 664, '그늘': 665, '그다음': 666, '그대로': 667, '그동안': 668, '그때': 669, '그땐': 670, '그라브락스': 671, '그래도': 672, '그래서': 673, '그래프': 674, '그래픽': 675, '그랬는데': 676, '그랬더니': 677, '그러나': 678, '그러니까': 679, '그러면': 680, '그러므로': 681, '그러하다': 682, '그런데': 683, '그렇게': 684, '그렇다': 685, '그렇다고': 686, '그렇지만': 687, '그룹': 688, '그릇': 689, '그리고': 690, '그리다': 691, '그리스': 692, '그린': 693, '그릴': 694, '그림': 695, '그만하다': 696, '그저': 697, '그중': 698, '극구': 699, '극복': 700, '극장': 701, '극적': 702, '근거': 703, '근데': 704, '근로자': 705, '근무': 706, '근원': 707, '근접하다': 708, '근처': 709, '글': 710, '글꼴': 711, '글로벌': 712, '글루텐': 713, '글쎄': 714, '글쎄요': 715, '글씨': 716, '금': 717, '금기': 718, '금년': 719, '금리': 720, '금색': 721, '금속': 722, '금액': 723, '금요일': 724, '금융': 725, '금융감독원': 726, '금은': 727, '금전': 728, '금제': 729, '금지': 730, '급': 731, '급등': 732, '급성': 733, '급여': 734, '급우': 735, '급증': 736, '급하다': 737, '긍정': 738, '기': 739, '기가바이트': 740, '기간': 741, '기계': 742, '기공식': 743, '기관': 744, '기구': 745, '기금': 746, '기기': 747, '기꺼이': 748, '기념': 749, '기념일': 750, '기능': 751, '기다': 752, '기다리다': 753, '기대': 754, '기대하다': 755, '기도': 756, '기둥': 757, '기록': 758, '기르다': 759, '기밀': 760, '기반': 761, '기본': 762, '기부': 763, '기분': 764, '기쁘다': 765, '기사': 766, '기숙사': 767, '기술': 768, '기술자': 769, '기어': 770, '기억': 771, '기억나다': 772, '기업': 773, '기업가': 774, '기업은행': 775, '기업인': 776, '기여': 777, '기온': 778, '기와': 779, '기울이다': 780, '기원': 781, '기입': 782, '기자': 783, '기재': 784, '기적': 785, '기존': 786, '기준': 787, '기중기': 788, '기차': 789, '기차역': 790, '기차표': 791, '기초': 792, '기타': 793, '기표': 794, '기한': 795, '기호': 796, '기혼': 797, '기회': 798, '기획': 799, '기후변화': 800, '긴급': 801, '긴급하다': 802, '긴밀하다': 803, '길': 804, '길다': 805, '길어지다': 806, '길이': 807, '김': 808, '김밥': 809, '김치': 810, '김치볶음밥': 811, '깊다': 812, '깊이': 813, '까다롭다': 814, '까맣다': 815, '깔끔하다': 816, '깔리다': 817, '깜박이다': 818, '깜빡': 819, '깜짝': 820, '깨끗하다': 821, '깨다': 822, '깨우치다': 823, '깨지다': 824, '깻잎': 825, '꺼내다': 826, '꺼지다': 827, '꼭': 828, '꼼꼼하다': 829, '꽉': 830, '꽤': 831, '꾸미다': 832, '꾸준하다': 833, '꿀': 834, '꿈': 835, '꿰매다': 836, '끄다': 837, '끊다': 838, '끌': 839, '끌다': 840, '끌리다': 841, '끓는점': 842, '끓다': 843, '끓이다': 844, '끔찍하다': 845, '끝': 846, '끝나다': 847, '끝내기': 848, '끝내다': 849, '끼치다': 850, '나': 851, '나가다': 852, '나나': 853, '나누다': 854, '나뉘다': 855, '나다': 856, '나라': 857, '나르다': 858, '나머지': 859, '나무': 860, '나빠지다': 861, '나쁘다': 862, '나사': 863, '나서다': 864, '나아': 865, '나아가다': 866, '나아지다': 867, '나열': 868, '나오다': 869, '나은': 870, '나은지': 871, '나이': 872, '나이라': 873, '나이지리아': 874, '나이트클럽': 875, '나일론': 876, '나중': 877, '나타나다': 878, '나타내다': 879, '나흘': 880, '난': 881, '난방': 882, '난이도': 883, '날': 884, '날리다': 885, '날씨': 886, '날아가다': 887, '날짜': 888, '날카로워지다': 889, '남기다': 890, '남다': 891, '남동쪽': 892, '남미': 893, '남성': 894, '남아': 895, '남아시아': 896, '남용': 897, '남지': 898, '남편': 899, '납부': 900, '납품': 901, '낫': 902, '낫다': 903, '낭비': 904, '낭비하다': 905, '낮다': 906, '낮아지다': 907, '낮잠': 908, '낮추다': 909, '낯설다': 910, '내': 911, '내기': 912, '내내': 913, '내년': 914, '내놓다': 915, '내다': 916, '내려가다': 917, '내려오다': 918, '내리다': 919, '내면': 920, '내미다': 921, '내부': 922, '내시': 923, '내야': 924, '내연': 925, '내용': 926, '내일': 927, '내장': 928, '내주다': 929, '내지': 930, '낸싱': 931, '낼': 932, '냄비': 933, '냅킨': 934, '냉각': 935, '냉동고': 936, '냉면': 937, '냉장': 938, '너': 939, '너무': 940, '너무나': 941, '너무하다': 942, '너비': 943, '너희': 944, '널': 945, '널리': 946, '넓다': 947, '넓히다': 948, '넘기다': 949, '넘다': 950, '넘버': 951, '넘어가다': 952, '넘어서다': 953, '넘어지다': 954, '넘치다': 955, '넣기': 956, '넣다': 957, '네': 958, '네가지': 959, '네트워크': 960, '네트워킹': 961, '넷째': 962, '년': 963, '노': 964, '노고': 965, '노동자': 966, '노란색': 967, '노래': 968, '노래방': 969, '노력': 970, '노인': 971, '노점': 972, '노출': 973, '노트북': 974, '노프': 975, '녹색': 976, '녹음': 977, '녹이다': 978, '녹차': 979, '녹화': 980, '논란': 981, '논문': 982, '논의': 983, '논픽션': 984, '놀': 985, '놀라다': 986, '놀랍다': 987, '놀이터': 988, '농': 989, '농기': 990, '농기구': 991, '농담': 992, '농부': 993, '농어': 994, '농업': 995, '농작물': 996, '높다': 997, '높아지다': 998, '높이': 999, '높이다': 1000, '놓다': 1001, '놓이다': 1002, '놓치다': 1003, '뇌파': 1004, '누가': 1005, '누구': 1006, '누구신지': 1007, '누군가': 1008, '누군지': 1009, '누락': 1010, '누르다': 1011, '누리': 1012, '누리다': 1013, '누수': 1014, '눈': 1015, '눌릴': 1016, '뉴스': 1017, '뉴스레터': 1018, '뉴욕': 1019, '뉴질랜드': 1020, '느껴지다': 1021, '느끼다': 1022, '느낌': 1023, '느리다': 1024, '느슨하다': 1025, '늘': 1026, '늘다': 1027, '늘리다': 1028, '늘어나다': 1029, '늙다': 1030, '능력': 1031, '늦': 1032, '늦다': 1033, '늦어지다': 1034, '니': 1035, '님': 1036, '다': 1037, '다가': 1038, '다가가다': 1039, '다가오다': 1040, '다국적': 1041, '다녀오다': 1042, '다년': 1043, '다니다': 1044, '다단계': 1045, '다도': 1046, '다듬다': 1047, '다량': 1048, '다루다': 1049, '다루어지다': 1050, '다르다': 1051, '다른': 1052, '다리미': 1053, '다만': 1054, '다섯': 1055, '다섯째': 1056, '다소': 1057, '다시': 1058, '다시다': 1059, '다양성': 1060, '다양하다': 1061, '다용': 1062, '다운': 1063, '다운로드': 1064, '다음': 1065, '다음주': 1066, '다이닝': 1067, '다인': 1068, '다채로웠으': 1069, '다큐멘터리': 1070, '다해': 1071, '다행': 1072, '다행하다': 1073, '단': 1074, '단가': 1075, '단거리': 1076, '단계': 1077, '단골': 1078, '단기': 1079, '단기간': 1080, '단단하다': 1081, '단독': 1082, '단돈': 1083, '단말기': 1084, '단백질': 1085, '단순하다': 1086, '단어': 1087, '단열': 1088, '단위': 1089, '단일': 1090, '단점': 1091, '단정하다': 1092, '단지': 1093, '단체': 1094, '단편': 1095, '단합': 1096, '닫다': 1097, '달': 1098, '달다': 1099, '달라': 1100, '달라지다': 1101, '달러': 1102, '달리': 1103, '달리다': 1104, '달성': 1105, '달이': 1106, '달콤하다': 1107, '닭': 1108, '닭고기': 1109, '닭발': 1110, '담': 1111, '담그다': 1112, '담기다': 1113, '담다': 1114, '담당': 1115, '담당자': 1116, '담배': 1117, '담백하다': 1118, '담보': 1119, '답': 1120, '답니': 1121, '답답하다': 1122, '답변': 1123, '답장': 1124, '답지': 1125, '당': 1126, '당국': 1127, '당근': 1128, '당분간': 1129, '당사': 1130, '당사자': 1131, '당시': 1132, '당신': 1133, '당연하다': 1134, '당일': 1135, '당장': 1136, '당하다': 1137, '당황': 1138, '대': 1139, '대가': 1140, '대고': 1141, '대구': 1142, '대규모': 1143, '대금': 1144, '대기': 1145, '대기업': 1146, '대나무': 1147, '대다': 1148, '대다수': 1149, '대단하다': 1150, '대답': 1151, '대략': 1152, '대량': 1153, '대로': 1154, '대륙': 1155, '대리인': 1156, '대리점': 1157, '대만': 1158, '대박': 1159, '대본': 1160, '대부분': 1161, '대비': 1162, '대상': 1163, '대상자': 1164, '대신': 1165, '대안': 1166, '대야': 1167, '대여': 1168, '대역': 1169, '대역폭': 1170, '대요': 1171, '대유행': 1172, '대응': 1173, '대의': 1174, '대입': 1175, '대적': 1176, '대접': 1177, '대중': 1178, '대지': 1179, '대책': 1180, '대처': 1181, '대체': 1182, '대출': 1183, '대출받다': 1184, '대충': 1185, '대치': 1186, '대칭': 1187, '대통령': 1188, '대폭': 1189, '대표': 1190, '대피소': 1191, '대학': 1192, '대학교': 1193, '대한': 1194, '대한민국': 1195, '대해': 1196, '대행': 1197, '대형': 1198, '대화': 1199, '댓글': 1200, '더': 1201, '더듬다': 1202, '더디다': 1203, '더라도': 1204, '더블': 1205, '더욱': 1206, '더위': 1207, '더하다': 1208, '덕분': 1209, '덜': 1210, '덜다': 1211, '덤프': 1212, '덤프트럭': 1213, '덥다': 1214, '덧붙이다': 1215, '덩굴': 1216, '데': 1217, '데도': 1218, '데려가다': 1219, '데려오다': 1220, '데리': 1221, '데리다': 1222, '데모': 1223, '데뷔': 1224, '데스크': 1225, '데스크탑': 1226, '데우다': 1227, '데이터': 1228, '데이터베이스': 1229, '데이트': 1230, '데코': 1231, '데크': 1232, '덴마크': 1233, '도': 1234, '도구': 1235, '도넛': 1236, '도달': 1237, '도대체': 1238, '도로': 1239, '도록': 1240, '도르다': 1241, '도매': 1242, '도메인': 1243, '도서관': 1244, '도시': 1245, '도시락': 1246, '도안': 1247, '도어': 1248, '도와주다': 1249, '도용': 1250, '도우': 1251, '도우미': 1252, '도울': 1253, '도움': 1254, '도움말': 1255, '도입': 1256, '도전': 1257, '도착': 1258, '도체': 1259, '도쿄': 1260, '독립': 1261, '독방': 1262, '독일': 1263, '독자': 1264, '독점': 1265, '독촉': 1266, '독특하다': 1267, '돈': 1268, '돈벌이': 1269, '돋보이다': 1270, '돌려주다': 1271, '돌리다': 1272, '돌보다': 1273, '돌아가다': 1274, '돌아오다': 1275, '돌잔치': 1276, '돌파': 1277, '돔': 1278, '돕기': 1279, '돕다': 1280, '동': 1281, '동감': 1282, '동거': 1283, '동기': 1284, '동남아시아': 1285, '동네': 1286, '동등': 1287, '동료': 1288, '동물': 1289, '동물성': 1290, '동반': 1291, '동부': 1292, '동생': 1293, '동시': 1294, '동안': 1295, '동양': 1296, '동영상': 1297, '동의': 1298, '동인': 1299, '동일': 1300, '동일시': 1301, '동일하다': 1302, '동전': 1303, '동참': 1304, '동행': 1305, '동향': 1306, '돼다': 1307, '돼지': 1308, '돼지고기': 1309, '되게': 1310, '되다': 1311, '되돌리다': 1312, '되어다': 1313, '되찾다': 1314, '두': 1315, '두기': 1316, '두껍다': 1317, '두다': 1318, '두드리다': 1319, '두렵다': 1320, '두시': 1321, '두운': 1322, '둘': 1323, '둘러보다': 1324, '둘러싸다': 1325, '둘째': 1326, '뒤': 1327, '뒷': 1328, '뒷마당': 1329, '뒷받침': 1330, '듀얼': 1331, '드': 1332, '드나': 1333, '드디어': 1334, '드라마': 1335, '드라이브': 1336, '드러나다': 1337, '드럼': 1338, '드레스': 1339, '드레싱': 1340, '드로잉': 1341, '드리다': 1342, '드릴': 1343, '듣기': 1344, '듣다': 1345, '들': 1346, '들다': 1347, '들뜨다': 1348, '들려주다': 1349, '들르다': 1350, '들리다': 1351, '들어가다': 1352, '들어서다': 1353, '들어오다': 1354, '들어주다': 1355, '들이다': 1356, '듭': 1357, '듭니': 1358, '등': 1359, '등급': 1360, '등등': 1361, '등록': 1362, '등록증': 1363, '등본': 1364, '등장': 1365, '디네': 1366, '디럭스': 1367, '디바이스': 1368, '디스크': 1369, '디스플레이': 1370, '디시': 1371, '디자이너': 1372, '디자인': 1373, '디저스터': 1374, '디저트': 1375, '디젤': 1376, '디지털': 1377, '디지털로': 1378, '딜러': 1379, '딥': 1380, '딩기': 1381, '따내다': 1382, '따뜻하다': 1383, '따라가다': 1384, '따라서': 1385, '따라오다': 1386, '따로': 1387, '따르다': 1388, '딱': 1389, '딱이다': 1390, '딸리다': 1391, '땀': 1392, '때': 1393, '때때로': 1394, '때로는': 1395, '때문': 1396, '떠나다': 1397, '떠오르다': 1398, '떡': 1399, '떡볶이': 1400, '떨다': 1401, '떨어뜨리다': 1402, '떨어지다': 1403, '또': 1404, '또는': 1405, '또래': 1406, '또한': 1407, '똑같다': 1408, '똑똑하다': 1409, '똑바로': 1410, '뚜렷하다': 1411, '뛰어나다': 1412, '뛰어들다': 1413, '뜨개질': 1414, '뜨다': 1415, '뜰': 1416, '뜻': 1417, '뜻입': 1418, '띄다': 1419, '라디오': 1420, '라면': 1421, '라발': 1422, '라서': 1423, '라우터': 1424, '라운드': 1425, '라운지': 1426, '라이': 1427, '라이브': 1428, '라이브러리': 1429, '라이선스': 1430, '라이센스': 1431, '라이트': 1432, '라이트닝': 1433, '라이프스타일': 1434, '라인': 1435, '라인업': 1436, '란': 1437, '랍니': 1438, '래야': 1439, '랙티브': 1440, '랜드': 1441, '랩': 1442, '랩톱': 1443, '량': 1444, '러': 1445, '러너': 1446, '러닝': 1447, '러시': 1448, '럭셔리': 1449, '런가': 1450, '런던': 1451, '런칭': 1452, '레드': 1453, '레벨': 1454, '레스토랑': 1455, '레시피': 1456, '레어': 1457, '레이': 1458, '레이블': 1459, '레이아웃': 1460, '레인': 1461, '레지스트리': 1462, '레코드': 1463, '레크리에이션': 1464, '레터': 1465, '렌더링': 1466, '렌즈': 1467, '렌탈': 1468, '렌터카': 1469, '렌틸': 1470, '려고': 1471, '려면': 1472, '력': 1473, '령': 1474, '로': 1475, '로고': 1476, '로그': 1477, '로그아웃': 1478, '로그온': 1479, '로그인': 1480, '로더': 1481, '로드': 1482, '로드맵': 1483, '로만': 1484, '로봇': 1485, '로부터': 1486, '로비': 1487, '로서': 1488, '로열티': 1489, '로터리': 1490, '로트': 1491, '록': 1492, '론': 1493, '론칭': 1494, '롤': 1495, '롤러': 1496, '롤플레잉': 1497, '롭': 1498, '료': 1499, '루프': 1500, '룸': 1501, '룸메이트': 1502, '룸서비스': 1503, '룸셰어': 1504, '륜': 1505, '률': 1506, '를': 1507, '리': 1508, '리가': 1509, '리기': 1510, '리뉴얼': 1511, '리더': 1512, '리드': 1513, '리디렉션': 1514, '리버풀': 1515, '리뷰': 1516, '리셉션': 1517, '리소스': 1518, '리스크': 1519, '리스트': 1520, '리조트': 1521, '리지': 1522, '리캐': 1523, '리커버리': 1524, '리테일': 1525, '리퍼': 1526, '리프트': 1527, '리허설': 1528, '린다': 1529, '릴': 1530, '링': 1531, '링스': 1532, '링크': 1533, '마': 1534, '마감': 1535, '마개': 1536, '마늘': 1537, '마닐라': 1538, '마다': 1539, '마당': 1540, '마드리드': 1541, '마땅치': 1542, '마력': 1543, '마련': 1544, '마리': 1545, '마무리': 1546, '마법': 1547, '마사지': 1548, '마스코트': 1549, '마스크': 1550, '마스터': 1551, '마시기': 1552, '마시다': 1553, '마우스': 1554, '마을': 1555, '마음': 1556, '마이너스': 1557, '마이크': 1558, '마인더': 1559, '마인드': 1560, '마중': 1561, '마지막': 1562, '마차': 1563, '마찬가지': 1564, '마치다': 1565, '마침': 1566, '마침내': 1567, '마케터': 1568, '마케터입니': 1569, '마케팅': 1570, '마포구': 1571, '막': 1572, '막걸리': 1573, '막다': 1574, '막대': 1575, '막히다': 1576, '만': 1577, '만기': 1578, '만기일': 1579, '만나다': 1580, '만난': 1581, '만날': 1582, '만도': 1583, '만두': 1584, '만드나': 1585, '만들기': 1586, '만들다': 1587, '만들어지다': 1588, '만듭니': 1589, '만료': 1590, '만약': 1591, '만이': 1592, '만일': 1593, '만족': 1594, '만족스럽다': 1595, '만족하다': 1596, '만찬': 1597, '만큼': 1598, '만화': 1599, '만회': 1600, '많다': 1601, '많아지다': 1602, '많이': 1603, '말': 1604, '말다': 1605, '말레이시아': 1606, '말씀': 1607, '말씀드리다': 1608, '맙소사': 1609, '맛': 1610, '맛보다': 1611, '맛있다': 1612, '맛집': 1613, '맜있는': 1614, '망치다': 1615, '맞다': 1616, '맞서다': 1617, '맞추다': 1618, '맞춤': 1619, '맡기다': 1620, '맡다': 1621, '매': 1622, '매각': 1623, '매끄럽다': 1624, '매너': 1625, '매년': 1626, '매니저': 1627, '매다': 1628, '매달': 1629, '매도': 1630, '매력': 1631, '매료': 1632, '매매': 1633, '매물': 1634, '매번': 1635, '매수': 1636, '매우': 1637, '매월': 1638, '매일': 1639, '매입': 1640, '매장': 1641, '매점': 1642, '매주': 1643, '매진': 1644, '매체': 1645, '매출': 1646, '매치': 1647, '매크로': 1648, '매트': 1649, '매트리스': 1650, '매핑': 1651, '맥락': 1652, '맥주': 1653, '맨': 1654, '맬웨어': 1655, '맵': 1656, '맵다': 1657, '맵핑': 1658, '맺다': 1659, '머': 1660, '머드': 1661, '머리': 1662, '머무르다': 1663, '머물다': 1664, '머신': 1665, '먹기': 1666, '먹다': 1667, '먹방': 1668, '먹이': 1669, '먼저': 1670, '먼지': 1671, '멀다': 1672, '멀리': 1673, '멈추다': 1674, '멋지다': 1675, '멎다': 1676, '메가바이트': 1677, '메가비트': 1678, '메뉴': 1679, '메뉴판': 1680, '메모': 1681, '메시': 1682, '메시지': 1683, '메이커': 1684, '메이크업': 1685, '메인': 1686, '메일': 1687, '메커니즘': 1688, '메타': 1689, '멜론': 1690, '멤버': 1691, '멤버십': 1692, '며칠': 1693, '면': 1694, '면역': 1695, '면적': 1696, '면접': 1697, '면제': 1698, '면직물': 1699, '면책': 1700, '면허': 1701, '면허증': 1702, '명': 1703, '명과': 1704, '명당': 1705, '명령': 1706, '명백하다': 1707, '명분': 1708, '명상': 1709, '명세서': 1710, '명시': 1711, '명의': 1712, '명인': 1713, '명칭': 1714, '명품': 1715, '명함': 1716, '명확하다': 1717, '몇': 1718, '몇대': 1719, '몇몇': 1720, '모': 1721, '모국': 1722, '모국어': 1723, '모금': 1724, '모기': 1725, '모기지': 1726, '모기지론': 1727, '모니터': 1728, '모니터링': 1729, '모델': 1730, '모뎀': 1731, '모두': 1732, '모듈': 1733, '모드': 1734, '모든': 1735, '모레': 1736, '모르다': 1737, '모르타르': 1738, '모바일': 1739, '모범': 1740, '모색': 1741, '모서리': 1742, '모습': 1743, '모시': 1744, '모시다': 1745, '모양': 1746, '모욕': 1747, '모으다': 1748, '모의고사': 1749, '모이다': 1750, '모임': 1751, '모자': 1752, '모터': 1753, '모터보트': 1754, '모텔': 1755, '모티브': 1756, '모험': 1757, '모형': 1758, '목걸이': 1759, '목격': 1760, '목록': 1761, '목별': 1762, '목소리': 1763, '목요일': 1764, '목욕': 1765, '목욕탕': 1766, '목적': 1767, '목적지': 1768, '목표': 1769, '몫': 1770, '몬순': 1771, '몰다': 1772, '몰두하다': 1773, '몰이': 1774, '몸': 1775, '못': 1776, '묘목': 1777, '무': 1778, '무겁다': 1779, '무게': 1780, '무너지다': 1781, '무늬': 1782, '무대': 1783, '무드': 1784, '무례하다': 1785, '무료': 1786, '무리': 1787, '무사하다': 1788, '무선': 1789, '무섭다': 1790, '무슨': 1791, '무시': 1792, '무언가': 1793, '무엇': 1794, '무었': 1795, '무역': 1796, '무역수지': 1797, '무용': 1798, '무의미하다': 1799, '무작위': 1800, '무제한': 1801, '무중력': 1802, '무지': 1803, '묵': 1804, '묵고': 1805, '묵다': 1806, '묵시': 1807, '묶음': 1808, '문': 1809, '문득': 1810, '문법': 1811, '문서': 1812, '문신': 1813, '문의': 1814, '문의사항': 1815, '문자': 1816, '문제': 1817, '문제점': 1818, '문하': 1819, '문화': 1820, '묻다': 1821, '물': 1822, '물가상승률': 1823, '물건': 1824, '물고기': 1825, '물다': 1826, '물론': 1827, '물류': 1828, '물리': 1829, '물속': 1830, '물어보다': 1831, '물의': 1832, '물이': 1833, '물질': 1834, '물체': 1835, '물품': 1836, '뭐': 1837, '뭐라다': 1838, '뭔가': 1839, '뭘': 1840, '뮤직': 1841, '뮤추얼': 1842, '므': 1843, '미결': 1844, '미국': 1845, '미국법': 1846, '미끼': 1847, '미납': 1848, '미니': 1849, '미니멀리즘': 1850, '미니바': 1851, '미디어': 1852, '미디엄': 1853, '미래': 1854, '미리': 1855, '미만': 1856, '미세하다': 1857, '미수': 1858, '미슐랭': 1859, '미스': 1860, '미안하다': 1861, '미약': 1862, '미얀마': 1863, '미용': 1864, '미적': 1865, '미지': 1866, '미치나': 1867, '미치다': 1868, '미터': 1869, '미팅': 1870, '미혼': 1871, '믹서': 1872, '민간': 1873, '민물': 1874, '민원': 1875, '민팅': 1876, '믿다': 1877, '밀가루': 1878, '밀고': 1879, '밀다': 1880, '밀레': 1881, '밀리다': 1882, '밀크티숍': 1883, '밀회': 1884, '밉다': 1885, '및': 1886, '밑': 1887, '바': 1888, '바꾸다': 1889, '바뀌다': 1890, '바나나': 1891, '바늘': 1892, '바다': 1893, '바닥': 1894, '바닥나다': 1895, '바닷물': 1896, '바디': 1897, '바라다': 1898, '바라보다': 1899, '바라지': 1900, '바람': 1901, '바람직하다': 1902, '바램': 1903, '바로': 1904, '바르다': 1905, '바베이도스': 1906, '바베큐': 1907, '바비큐': 1908, '바쁘다': 1909, '바위': 1910, '바이': 1911, '바이러스': 1912, '바이오': 1913, '바이트': 1914, '바치다': 1915, '바퀴': 1916, '바탕': 1917, '박': 1918, '박람회': 1919, '박물관': 1920, '박사': 1921, '박스': 1922, '밖': 1923, '반': 1924, '반갑다': 1925, '반기다': 1926, '반납': 1927, '반년': 1928, '반대': 1929, '반대편': 1930, '반도체': 1931, '반드시': 1932, '반려': 1933, '반려견': 1934, '반려동물': 1935, '반면': 1936, '반영': 1937, '반응': 1938, '반찬': 1939, '반품': 1940, '받다': 1941, '받아들이다': 1942, '발견': 1943, '발급': 1944, '발끝': 1945, '발복': 1946, '발생': 1947, '발송': 1948, '발신': 1949, '발자국': 1950, '발전': 1951, '발주': 1952, '발표': 1953, '발행': 1954, '발효': 1955, '발휘': 1956, '밝혀내다': 1957, '밝혀지다': 1958, '밟다': 1959, '밤': 1960, '밤낮': 1961, '밤늦다': 1962, '밤새다': 1963, '밥': 1964, '밥그릇': 1965, '밧줄': 1966, '방': 1967, '방과': 1968, '방금': 1969, '방대하다': 1970, '방문': 1971, '방문객': 1972, '방법': 1973, '방사성': 1974, '방송': 1975, '방송국': 1976, '방수': 1977, '방식': 1978, '방안': 1979, '방어': 1980, '방이': 1981, '방적': 1982, '방적기': 1983, '방지': 1984, '방출': 1985, '방침': 1986, '방해': 1987, '방향': 1988, '방화벽': 1989, '밭': 1990, '배': 1991, '배경': 1992, '배경음악': 1993, '배너': 1994, '배다': 1995, '배달': 1996, '배당금': 1997, '배려': 1998, '배분': 1999, '배색': 2000, '배송': 2001, '배송비': 2002, '배송지': 2003, '배수': 2004, '배우': 2005, '배우다': 2006, '배우자': 2007, '배움': 2008, '배정': 2009, '배출': 2010, '배치': 2011, '배터리': 2012, '배포': 2013, '백': 2014, '백만': 2015, '백신': 2016, '백업': 2017, '백엔드': 2018, '밴드': 2019, '밸브': 2020, '뱅크': 2021, '뱅킹': 2022, '버': 2023, '버그': 2024, '버너': 2025, '버네': 2026, '버는': 2027, '버드': 2028, '버리다': 2029, '버블': 2030, '버스': 2031, '버스정류장': 2032, '버전': 2033, '버터플라이': 2034, '버튼': 2035, '번': 2036, '번가': 2037, '번거롭다': 2038, '번식': 2039, '번역': 2040, '번역가': 2041, '번의': 2042, '번지': 2043, '번째': 2044, '번창': 2045, '번호': 2046, '벌': 2047, '벌다': 2048, '벌써': 2049, '벌어지다': 2050, '벌이': 2051, '범': 2052, '범위': 2053, '범인': 2054, '범죄': 2055, '범죄자': 2056, '범주': 2057, '법': 2058, '법률': 2059, '법원': 2060, '법인': 2061, '법인세': 2062, '법적': 2063, '법정': 2064, '벗다': 2065, '벗어나다': 2066, '베네수엘라': 2067, '베다': 2068, '베벨': 2069, '베스트셀러': 2070, '베어링': 2071, '베이스': 2072, '베타': 2073, '베테': 2074, '베트남': 2075, '벡터': 2076, '벤딩': 2077, '벤처캐피털': 2078, '벤츄리': 2079, '벤치': 2080, '벨': 2081, '벨트': 2082, '벽': 2083, '벽난로': 2084, '벽지': 2085, '변경': 2086, '변동': 2087, '변동성': 2088, '변명': 2089, '변속기': 2090, '변수': 2091, '변하다': 2092, '변호사': 2093, '변화': 2094, '변환': 2095, '별': 2096, '별관': 2097, '별도': 2098, '별로': 2099, '별장': 2100, '병': 2101, '병동': 2102, '병원': 2103, '병합': 2104, '보': 2105, '보건': 2106, '보고': 2107, '보고서': 2108, '보관': 2109, '보기': 2110, '보내다': 2111, '보내오다': 2112, '보다': 2113, '보도': 2114, '보드': 2115, '보람': 2116, '보류': 2117, '보물': 2118, '보살피다': 2119, '보상': 2120, '보수': 2121, '보시': 2122, '보쌈': 2123, '보안': 2124, '보여주다': 2125, '보유': 2126, '보이': 2127, '보이다': 2128, '보이지': 2129, '보장': 2130, '보조': 2131, '보존': 2132, '보증': 2133, '보증금': 2134, '보증인': 2135, '보지': 2136, '보철물': 2137, '보청기': 2138, '보통': 2139, '보트': 2140, '보행': 2141, '보험': 2142, '보험금': 2143, '보험료': 2144, '보험사': 2145, '보헤미안': 2146, '보호': 2147, '보호복': 2148, '복': 2149, '복구': 2150, '복사기': 2151, '복원': 2152, '복잡하다': 2153, '복장': 2154, '복판': 2155, '복호화': 2156, '볶음': 2157, '볶음밥': 2158, '본': 2159, '본드': 2160, '본론': 2161, '본부': 2162, '본사': 2163, '본인': 2164, '본체': 2165, '볼': 2166, '볼륨': 2167, '볼일': 2168, '봄판': 2169, '봇': 2170, '봉쇄': 2171, '뵈다': 2172, '뵙다': 2173, '부': 2174, '부과': 2175, '부금': 2176, '부끄럽다': 2177, '부다': 2178, '부담': 2179, '부당하다': 2180, '부대': 2181, '부동산': 2182, '부두': 2183, '부드럽다': 2184, '부딪치다': 2185, '부딪히다': 2186, '부로': 2187, '부록': 2188, '부르다': 2189, '부모': 2190, '부모님': 2191, '부문': 2192, '부분': 2193, '부산': 2194, '부상': 2195, '부서': 2196, '부속품': 2197, '부수': 2198, '부양가족': 2199, '부업': 2200, '부엌': 2201, '부여': 2202, '부위': 2203, '부유하다': 2204, '부응': 2205, '부의': 2206, '부인': 2207, '부자': 2208, '부작용': 2209, '부적': 2210, '부정': 2211, '부족': 2212, '부족하다': 2213, '부지': 2214, '부착': 2215, '부채': 2216, '부처': 2217, '부츠': 2218, '부침개': 2219, '부탁': 2220, '부탁드리다': 2221, '부터': 2222, '부팅': 2223, '부품': 2224, '부합': 2225, '부호화': 2226, '북': 2227, '북경어': 2228, '북미': 2229, '북부': 2230, '분': 2231, '분과': 2232, '분광': 2233, '분기': 2234, '분기점': 2235, '분당': 2236, '분들': 2237, '분류': 2238, '분리': 2239, '분명': 2240, '분명하다': 2241, '분사': 2242, '분산': 2243, '분석': 2244, '분쇄기': 2245, '분식점': 2246, '분실': 2247, '분야': 2248, '분위기': 2249, '분쟁': 2250, '분젠': 2251, '분지': 2252, '분포': 2253, '분할': 2254, '분해': 2255, '불': 2256, '불가능': 2257, '불가능하다': 2258, '불고기': 2259, '불과': 2260, '불과하다': 2261, '불교': 2262, '불구': 2263, '불규칙하다': 2264, '불금': 2265, '불다': 2266, '불당': 2267, '불도저': 2268, '불량': 2269, '불량품': 2270, '불러일으키다': 2271, '불리다': 2272, '불만': 2273, '불문': 2274, '불빛': 2275, '불안정하다': 2276, '불안하다': 2277, '불쾌하다': 2278, '불편': 2279, '불편하다': 2280, '불평': 2281, '불평등하다': 2282, '불필요하다': 2283, '불행하다': 2284, '붉은빛': 2285, '붐': 2286, '붕괴': 2287, '붕어빵': 2288, '붙다': 2289, '붙박다': 2290, '붙이다': 2291, '뷔페': 2292, '뷸': 2293, '브라우저': 2294, '브라우징': 2295, '브라질': 2296, '브랜드': 2297, '브랜딩': 2298, '브레이커': 2299, '브레이크': 2300, '브레인스토밍': 2301, '브로': 2302, '브로드밴드': 2303, '브로셔': 2304, '브로커': 2305, '브루나이': 2306, '브이': 2307, '블랙': 2308, '블레이드': 2309, '블렌드': 2310, '블렌딩': 2311, '블로그': 2312, '블록': 2313, '블루': 2314, '블루칩': 2315, '블룸': 2316, '비': 2317, '비간': 2318, '비건': 2319, '비계': 2320, '비공개': 2321, '비공식': 2322, '비교': 2323, '비누': 2324, '비다': 2325, '비도': 2326, '비디오': 2327, '비록': 2328, '비롯': 2329, '비료': 2330, '비밀': 2331, '비밀번호': 2332, '비빔냉면': 2333, '비빔밥': 2334, '비상': 2335, '비서': 2336, '비스킷': 2337, '비스트': 2338, '비슷하다': 2339, '비실': 2340, '비싸다': 2341, '비어': 2342, '비영리': 2343, '비용': 2344, '비우다': 2345, '비율': 2346, '비자': 2347, '비주': 2348, '비즈니스': 2349, '비축': 2350, '비커': 2351, '비트': 2352, '비트코인': 2353, '비평가': 2354, '비프': 2355, '비행': 2356, '비행기': 2357, '빅데이터': 2358, '빈': 2359, '빈방': 2360, '빈번': 2361, '빈손': 2362, '빈티': 2363, '빌드되': 2364, '빌딩': 2365, '빌라': 2366, '빌리다': 2367, '빌보드': 2368, '빌트': 2369, '빔': 2370, '빗': 2371, '빙': 2372, '빚': 2373, '빠듯': 2374, '빠듯합니': 2375, '빠르다': 2376, '빠지다': 2377, '빡빡': 2378, '빨간색': 2379, '빨갛다': 2380, '빨르다': 2381, '빨리': 2382, '빵': 2383, '빵집': 2384, '빼다': 2385, '뽑다': 2386, '뿌리': 2387, '뿐': 2388, '뿐이다': 2389, '삐었': 2390, '사': 2391, '사건': 2392, '사격': 2393, '사계절': 2394, '사고': 2395, '사과': 2396, '사기': 2397, '사기꾼': 2398, '사다': 2399, '사람': 2400, '사람과': 2401, '사랑': 2402, '사려': 2403, '사례': 2404, '사르다': 2405, '사면': 2406, '사명': 2407, '사모펀드': 2408, '사무': 2409, '사무기기': 2410, '사무소': 2411, '사무실': 2412, '사물': 2413, '사물인터넷': 2414, '사본': 2415, '사생활': 2416, '사서': 2417, '사소하다': 2418, '사시미': 2419, '사실': 2420, '사안': 2421, '사양': 2422, '사업': 2423, '사업가': 2424, '사업자': 2425, '사오다': 2426, '사옥': 2427, '사용': 2428, '사용성': 2429, '사용자': 2430, '사우나': 2431, '사운드': 2432, '사운드트랙': 2433, '사원': 2434, '사유': 2435, '사은': 2436, '사의': 2437, '사이': 2438, '사이드': 2439, '사이버': 2440, '사이일': 2441, '사이즈': 2442, '사이트': 2443, '사인': 2444, '사인회': 2445, '사장': 2446, '사전': 2447, '사주다': 2448, '사지': 2449, '사진': 2450, '사진사': 2451, '사진작가': 2452, '사찰': 2453, '사촌': 2454, '사출': 2455, '사탕': 2456, '사태': 2457, '사하다': 2458, '사항': 2459, '사회': 2460, '삭제': 2461, '산': 2462, '산나물': 2463, '산업': 2464, '산이': 2465, '산출': 2466, '살': 2467, '살균': 2468, '살기': 2469, '살다': 2470, '살이': 2471, '살펴보다': 2472, '삶': 2473, '삶다': 2474, '삼': 2475, '삼겹살': 2476, '삼고': 2477, '삽': 2478, '삽화가': 2479, '상': 2480, '상거래': 2481, '상관': 2482, '상관없다': 2483, '상급': 2484, '상기': 2485, '상단': 2486, '상담': 2487, '상당': 2488, '상당하다': 2489, '상대': 2490, '상대로': 2491, '상대방': 2492, '상무': 2493, '상사': 2494, '상상': 2495, '상상력': 2496, '상세': 2497, '상속': 2498, '상승': 2499, '상업': 2500, '상위': 2501, '상응': 2502, '상의': 2503, '상이': 2504, '상인': 2505, '상자': 2506, '상장': 2507, '상점': 2508, '상주': 2509, '상징': 2510, '상추': 2511, '상치': 2512, '상태': 2513, '상표': 2514, '상품': 2515, '상하': 2516, '상하이': 2517, '상호': 2518, '상환': 2519, '상황': 2520, '새': 2521, '새롭다': 2522, '새벽': 2523, '새우': 2524, '새틴': 2525, '새해': 2526, '색': 2527, '색상': 2528, '색인': 2529, '색조': 2530, '샌드위치': 2531, '샌프란시스코': 2532, '샐러드': 2533, '샘플': 2534, '샘플러': 2535, '샘플링': 2536, '생': 2537, '생각': 2538, '생각나다': 2539, '생강': 2540, '생기다': 2541, '생기지': 2542, '생동감': 2543, '생명': 2544, '생명보험': 2545, '생물': 2546, '생방송': 2547, '생산': 2548, '생산량': 2549, '생생하다': 2550, '생선': 2551, '생선전': 2552, '생소하다': 2553, '생신': 2554, '생일': 2555, '생체': 2556, '생활': 2557, '생활용품': 2558, '샤워': 2559, '샤워실': 2560, '샤프트': 2561, '샴페인': 2562, '샴푸': 2563, '샵': 2564, '서': 2565, '서기': 2566, '서나': 2567, '서다': 2568, '서도': 2569, '서두르다': 2570, '서든': 2571, '서라운드': 2572, '서랍': 2573, '서로': 2574, '서류': 2575, '서면': 2576, '서명': 2577, '서버': 2578, '서버룸': 2579, '서브': 2580, '서비스': 2581, '서빙': 2582, '서울': 2583, '서재': 2584, '서점': 2585, '서지': 2586, '서쪽': 2587, '석가모니': 2588, '섞다': 2589, '선': 2590, '선구자': 2591, '선명하다': 2592, '선물': 2593, '선물거래': 2594, '선박': 2595, '선보이다': 2596, '선불': 2597, '선생님': 2598, '선적': 2599, '선정': 2600, '선착순': 2601, '선체': 2602, '선택': 2603, '선호': 2604, '설': 2605, '설계': 2606, '설득': 2607, '설렁탕': 2608, '설레다': 2609, '설립': 2610, '설명': 2611, '설문': 2612, '설문조사': 2613, '설문지': 2614, '설비': 2615, '설정': 2616, '설치': 2617, '설치다': 2618, '설탕': 2619, '섬광': 2620, '섬유': 2621, '섬유질': 2622, '성': 2623, '성가시다': 2624, '성격': 2625, '성공': 2626, '성공하다': 2627, '성과': 2628, '성능': 2629, '성도': 2630, '성분': 2631, '성사': 2632, '성실하다': 2633, '성은': 2634, '성인': 2635, '성장': 2636, '성장하다': 2637, '성전': 2638, '성취': 2639, '성하다': 2640, '성함': 2641, '성형': 2642, '세': 2643, '세계': 2644, '세관': 2645, '세균': 2646, '세금': 2647, '세기': 2648, '세다': 2649, '세대': 2650, '세련': 2651, '세로': 2652, '세면대': 2653, '세미나': 2654, '세법': 2655, '세부': 2656, '세상': 2657, '세션': 2658, '세안': 2659, '세액': 2660, '세요': 2661, '세우다': 2662, '세율': 2663, '세척': 2664, '세척제': 2665, '세탁': 2666, '세탁기': 2667, '세탁실': 2668, '세트': 2669, '세팅': 2670, '세포': 2671, '센서': 2672, '센터': 2673, '센트': 2674, '셀러': 2675, '셀러리': 2676, '셋': 2677, '셋째': 2678, '셔블': 2679, '션': 2680, '셨었': 2681, '셰어': 2682, '소': 2683, '소갈비': 2684, '소개': 2685, '소개팅': 2686, '소고기': 2687, '소금': 2688, '소녀': 2689, '소득': 2690, '소리': 2691, '소리치다': 2692, '소매': 2693, '소매업자': 2694, '소모': 2695, '소문': 2696, '소비': 2697, '소비자': 2698, '소설': 2699, '소셜': 2700, '소셜미디어': 2701, '소속': 2702, '소송': 2703, '소스': 2704, '소시지': 2705, '소식': 2706, '소액': 2707, '소요': 2708, '소유': 2709, '소유권': 2710, '소유자': 2711, '소의': 2712, '소일': 2713, '소재': 2714, '소주': 2715, '소중하다': 2716, '소지': 2717, '소질': 2718, '소켓': 2719, '소통': 2720, '소파': 2721, '소포': 2722, '소풍': 2723, '소프': 2724, '소프트': 2725, '소프트웨어': 2726, '소형': 2727, '소형견': 2728, '속': 2729, '속달': 2730, '속도': 2731, '속물': 2732, '손': 2733, '손님': 2734, '손상': 2735, '손쉽다': 2736, '손실': 2737, '손익': 2738, '손익계산서': 2739, '손주': 2740, '손해': 2741, '손해배상': 2742, '솔루션': 2743, '솔직하다': 2744, '송금': 2745, '송료': 2746, '송신': 2747, '송장': 2748, '쇄신': 2749, '쇠고기': 2750, '쇼': 2751, '쇼룸': 2752, '쇼핑': 2753, '수': 2754, '수가': 2755, '수강': 2756, '수건': 2757, '수고': 2758, '수년': 2759, '수다': 2760, '수단': 2761, '수도': 2762, '수도꼭지': 2763, '수도원': 2764, '수동': 2765, '수락': 2766, '수량': 2767, '수련': 2768, '수령': 2769, '수로': 2770, '수료': 2771, '수료증': 2772, '수리': 2773, '수많다': 2774, '수면': 2775, '수박': 2776, '수반': 2777, '수백만': 2778, '수비드': 2779, '수석': 2780, '수선': 2781, '수속': 2782, '수수료': 2783, '수술': 2784, '수시로': 2785, '수신기': 2786, '수십': 2787, '수압': 2788, '수업': 2789, '수에즈': 2790, '수영': 2791, '수영장': 2792, '수요': 2793, '수요일': 2794, '수용': 2795, '수익': 2796, '수익금': 2797, '수익률': 2798, '수입': 2799, '수입품': 2800, '수정': 2801, '수정과': 2802, '수제': 2803, '수준': 2804, '수집': 2805, '수천': 2806, '수출': 2807, '수출입': 2808, '수평': 2809, '수표': 2810, '수표로': 2811, '수프': 2812, '수학': 2813, '수행': 2814, '수혜자': 2815, '수확': 2816, '숙련': 2817, '숙박': 2818, '숙박시설': 2819, '숙박업소': 2820, '숙성': 2821, '숙소': 2822, '숙이다': 2823, '숙주': 2824, '숙지': 2825, '순': 2826, '순간': 2827, '순위': 2828, '순이익': 2829, '순전하다': 2830, '숟가락': 2831, '술': 2832, '술집': 2833, '숨': 2834, '숨기다': 2835, '숫자': 2836, '숯불': 2837, '쉬다': 2838, '쉽다': 2839, '슈': 2840, '슈트': 2841, '슈팅': 2842, '슈퍼마켓': 2843, '스': 2844, '스낵': 2845, '스노클링': 2846, '스니커즈': 2847, '스님': 2848, '스럽다': 2849, '스레드': 2850, '스릴러': 2851, '스마트': 2852, '스마트폰': 2853, '스마트홈': 2854, '스스로': 2855, '스위트': 2856, '스위트룸': 2857, '스카이라인': 2858, '스캐너': 2859, '스캔': 2860, '스케': 2861, '스케줄': 2862, '스케줄러': 2863, '스케치': 2864, '스쿠터': 2865, '스크럽': 2866, '스크류': 2867, '스크리닝': 2868, '스크린': 2869, '스크린샷': 2870, '스키': 2871, '스킨': 2872, '스킬': 2873, '스타': 2874, '스타일': 2875, '스타트업': 2876, '스테이': 2877, '스테이션': 2878, '스테이크': 2879, '스테인레스': 2880, '스토리': 2881, '스토브': 2882, '스토어': 2883, '스토퍼': 2884, '스톤': 2885, '스튜디오': 2886, '스트레스': 2887, '스트레이트': 2888, '스트로': 2889, '스트리밍': 2890, '스트림': 2891, '스티': 2892, '스티커': 2893, '스틸': 2894, '스파': 2895, '스파게티': 2896, '스파이럴': 2897, '스파이웨어': 2898, '스파크': 2899, '스팸': 2900, '스페셜': 2901, '스페인': 2902, '스펙트럼': 2903, '스포츠': 2904, '스프': 2905, '스프레드': 2906, '스프레이': 2907, '스피커': 2908, '스피킹': 2909, '슬라이드': 2910, '슬롯': 2911, '슬리퍼': 2912, '슬프다': 2913, '습': 2914, '습니': 2915, '승려': 2916, '승인': 2917, '시': 2918, '시각': 2919, '시각장애인': 2920, '시간': 2921, '시간대': 2922, '시계': 2923, '시골': 2924, '시급하다': 2925, '시기': 2926, '시끄럽다': 2927, '시나리오': 2928, '시내': 2929, '시대': 2930, '시도': 2931, '시리즈': 2932, '시마': 2933, '시민권': 2934, '시설': 2935, '시세': 2936, '시스템': 2937, '시연': 2938, '시오': 2939, '시일': 2940, '시작': 2941, '시장': 2942, '시장조사': 2943, '시저': 2944, '시절': 2945, '시점': 2946, '시즌': 2947, '시차': 2948, '시청': 2949, '시청각': 2950, '시청자': 2951, '시카고': 2952, '시큐리티': 2953, '시키다': 2954, '시티': 2955, '시행': 2956, '시험': 2957, '시험관': 2958, '식': 2959, '식기': 2960, '식단': 2961, '식당': 2962, '식물': 2963, '식사': 2964, '식이': 2965, '식초': 2966, '식탁': 2967, '식품': 2968, '신': 2969, '신간': 2970, '신경': 2971, '신고': 2972, '신곡': 2973, '신규': 2974, '신나요': 2975, '신다': 2976, '신디케이트': 2977, '신랑': 2978, '신뢰': 2979, '신문': 2980, '신발': 2981, '신부': 2982, '신분': 2983, '신분증': 2984, '신비롭다': 2985, '신사': 2986, '신생': 2987, '신선하다': 2988, '신세대': 2989, '신속하다': 2990, '신용': 2991, '신용등급': 2992, '신용장': 2993, '신용카드': 2994, '신원': 2995, '신입': 2996, '신입사원': 2997, '신입생': 2998, '신제품': 2999, '신종교': 3000, '신중': 3001, '신지': 3002, '신청': 3003, '신청서': 3004, '신체': 3005, '신탁': 3006, '신호': 3007, '신흥': 3008, '싣다': 3009, '실': 3010, '실내': 3011, '실력': 3012, '실례': 3013, '실로': 3014, '실린더': 3015, '실망': 3016, '실망하다': 3017, '실버': 3018, '실사': 3019, '실생활': 3020, '실수': 3021, '실시': 3022, '실시간': 3023, '실업자': 3024, '실외': 3025, '실용': 3026, '실적': 3027, '실제': 3028, '실질': 3029, '실천': 3030, '실크': 3031, '실패': 3032, '실패하다': 3033, '실행': 3034, '실험': 3035, '실험실': 3036, '실현': 3037, '싫다': 3038, '싫어하다': 3039, '심': 3040, '심각하다': 3041, '심기': 3042, '심란하다': 3043, '심박': 3044, '심장': 3045, '심지어': 3046, '심하다': 3047, '십': 3048, '십대': 3049, '싱가포르': 3050, '싱가폴': 3051, '싱글': 3052, '싱글룸': 3053, '싶다': 3054, '싸다': 3055, '싸우다': 3056, '쌀': 3057, '쌈': 3058, '쌈밥': 3059, '쌈장': 3060, '쌍': 3061, '쌓다': 3062, '쌓이다': 3063, '써다': 3064, '쓰다': 3065, '쓰레기통': 3066, '쓰이다': 3067, '쓸다': 3068, '쓸모': 3069, '씨': 3070, '씩': 3071, '씹다': 3072, '아': 3073, '아기': 3074, '아깝다': 3075, '아끼다': 3076, '아나운서': 3077, '아내': 3078, '아뇨': 3079, '아늑하다': 3080, '아니다': 3081, '아동': 3082, '아들': 3083, '아래': 3084, '아로마': 3085, '아르헨티나': 3086, '아름답다': 3087, '아마': 3088, '아마도': 3089, '아무': 3090, '아무나': 3091, '아무렇다': 3092, '아무리': 3093, '아무튼': 3094, '아바타': 3095, '아빠': 3096, '아쉽다': 3097, '아스파라거스': 3098, '아스팔트': 3099, '아시아': 3100, '아웃소싱': 3101, '아이': 3102, '아이덴티티': 3103, '아이돌': 3104, '아이디': 3105, '아이디어': 3106, '아이스크림': 3107, '아이콘': 3108, '아이템': 3109, '아주': 3110, '아직': 3111, '아직도': 3112, '아침': 3113, '아침식사': 3114, '아키텍처': 3115, '아트': 3116, '아트워크': 3117, '아트웍': 3118, '아티스트': 3119, '아파트': 3120, '아프다': 3121, '아프리카': 3122, '악': 3123, '악기': 3124, '악성코드': 3125, '악세사리': 3126, '악수': 3127, '악행': 3128, '악화': 3129, '안': 3130, '안건': 3131, '안나': 3132, '안내': 3133, '안내받다': 3134, '안녕': 3135, '안녕하다': 3136, '안다': 3137, '안되다': 3138, '안드로이드': 3139, '안방': 3140, '안성맞춤': 3141, '안심': 3142, '안이': 3143, '안전': 3144, '안전성': 3145, '안전하다': 3146, '안정': 3147, '안좋다': 3148, '안타깝다': 3149, '안테나': 3150, '안티바이러스': 3151, '안팎': 3152, '앉다': 3153, '않다': 3154, '알': 3155, '알고리즘': 3156, '알다': 3157, '알람': 3158, '알레르기': 3159, '알려지다': 3160, '알루미늄': 3161, '알리다': 3162, '알림': 3163, '알아내다': 3164, '알아듣다': 3165, '알아보다': 3166, '알아차리다': 3167, '알아채다': 3168, '알약': 3169, '알칼리성': 3170, '암': 3171, '암석': 3172, '암스테르담': 3173, '암호': 3174, '압니': 3175, '압도': 3176, '압력': 3177, '압축': 3178, '압축기': 3179, '압출기': 3180, '았습니': 3181, '앙': 3182, '앞': 3183, '앞두다': 3184, '앞서': 3185, '앞치마': 3186, '애': 3187, '애니메이션': 3188, '애니메이터': 3189, '애비뉴': 3190, '애완동물': 3191, '애프터': 3192, '애플리케이션': 3193, '애피타이저': 3194, '액': 3195, '액세서리': 3196, '액세스': 3197, '액션': 3198, '액체': 3199, '앤': 3200, '앨범': 3201, '앰버': 3202, '앰뷸런스': 3203, '앰프': 3204, '앱': 3205, '앵글': 3206, '앵커': 3207, '야간': 3208, '야구장': 3209, '야금': 3210, '야단법석': 3211, '야생': 3212, '야식': 3213, '야영지': 3214, '야외': 3215, '야유회': 3216, '야채': 3217, '야합': 3218, '약': 3219, '약간': 3220, '약관': 3221, '약물': 3222, '약속': 3223, '약자': 3224, '약점': 3225, '약정': 3226, '약하다': 3227, '얇다': 3228, '양': 3229, '양념': 3230, '양념장': 3231, '양도': 3232, '양립': 3233, '양말': 3234, '양사': 3235, '양식': 3236, '양자': 3237, '양초': 3238, '양해': 3239, '양호': 3240, '얘기': 3241, '어': 3242, '어긋나다': 3243, '어기': 3244, '어느': 3245, '어댑터': 3246, '어디': 3247, '어디서': 3248, '어떠하다': 3249, '어떤': 3250, '어떻': 3251, '어떻다': 3252, '어려움': 3253, '어렵다': 3254, '어르신': 3255, '어른': 3256, '어리다': 3257, '어린이': 3258, '어머니': 3259, '어메니티': 3260, '어묵': 3261, '어보': 3262, '어서': 3263, '어우러지다': 3264, '어울리다': 3265, '어제': 3266, '어젯밤': 3267, '어조': 3268, '어쨌든': 3269, '어쩌': 3270, '어쩐': 3271, '어쩔': 3272, '어플': 3273, '어필': 3274, '어휘': 3275, '언': 3276, '언급': 3277, '언니': 3278, '언덕': 3279, '언론': 3280, '언박싱': 3281, '언어': 3282, '언제': 3283, '언제나': 3284, '언젠가': 3285, '얻다': 3286, '얼': 3287, '얼굴': 3288, '얼리다': 3289, '얼마': 3290, '얼마나': 3291, '엄격하다': 3292, '엄선': 3293, '엄수': 3294, '엄청': 3295, '엄청나다': 3296, '업계': 3297, '업그레이드': 3298, '업데이트': 3299, '업로드': 3300, '업무': 3301, '업자': 3302, '업주': 3303, '업체': 3304, '없다': 3305, '없애다': 3306, '없이': 3307, '엇갈리다': 3308, '엉': 3309, '에너지': 3310, '에러': 3311, '에멀션': 3312, '에멀젼': 3313, '에메랄드': 3314, '에밀리': 3315, '에센셜': 3316, '에어': 3317, '에어컨': 3318, '에이전시': 3319, '에이전트': 3320, '에코': 3321, '에티켓': 3322, '에피소드': 3323, '엑세스': 3324, '엑스레이': 3325, '엑스포': 3326, '엔': 3327, '엔드': 3328, '엔젤': 3329, '엔지니어': 3330, '엔지니어링': 3331, '엔진': 3332, '엔터테인먼트': 3333, '엠보싱': 3334, '여': 3335, '여겨지다': 3336, '여권': 3337, '여기': 3338, '여기다': 3339, '여느': 3340, '여드름': 3341, '여러': 3342, '여러분': 3343, '여름': 3344, '여보': 3345, '여보세요': 3346, '여부': 3347, '여분': 3348, '여사': 3349, '여성': 3350, '여야': 3351, '여유': 3352, '여자': 3353, '여전하다': 3354, '여지': 3355, '여쭈다': 3356, '여행': 3357, '여행사': 3358, '여행자': 3359, '역': 3360, '역사': 3361, '역서': 3362, '역시': 3363, '역외': 3364, '역할': 3365, '연': 3366, '연간': 3367, '연결': 3368, '연결하다': 3369, '연관': 3370, '연구': 3371, '연구개발': 3372, '연구소': 3373, '연기': 3374, '연다': 3375, '연달': 3376, '연동': 3377, '연락': 3378, '연락처': 3379, '연령': 3380, '연례': 3381, '연료': 3382, '연마': 3383, '연말': 3384, '연민': 3385, '연방': 3386, '연봉': 3387, '연비': 3388, '연사': 3389, '연수': 3390, '연장': 3391, '연중': 3392, '연체': 3393, '연회': 3394, '연휴': 3395, '열': 3396, '열광': 3397, '열기': 3398, '열다': 3399, '열람': 3400, '열리다': 3401, '열쇠': 3402, '열심히': 3403, '열악하다': 3404, '열정': 3405, '열차': 3406, '염두': 3407, '염려': 3408, '염색': 3409, '엽': 3410, '영': 3411, '영감': 3412, '영광': 3413, '영구': 3414, '영국': 3415, '영리하다': 3416, '영상': 3417, '영상통화': 3418, '영수증': 3419, '영양': 3420, '영어': 3421, '영업': 3422, '영업일': 3423, '영역': 3424, '영원하다': 3425, '영진': 3426, '영향': 3427, '영향력': 3428, '영화': 3429, '옆': 3430, '예': 3431, '예견': 3432, '예고편': 3433, '예금': 3434, '예방': 3435, '예배': 3436, '예쁘다': 3437, '예산': 3438, '예산안': 3439, '예상': 3440, '예술': 3441, '예술가': 3442, '예약': 3443, '예의': 3444, '예입': 3445, '예전': 3446, '예절': 3447, '예정': 3448, '예정일': 3449, '예측': 3450, '옐로나이프': 3451, '오': 3452, '오늘': 3453, '오늘날': 3454, '오늘이': 3455, '오다': 3456, '오디오': 3457, '오락가락': 3458, '오래': 3459, '오래되다': 3460, '오랜': 3461, '오랫동안': 3462, '오렌지': 3463, '오류': 3464, '오르다': 3465, '오른': 3466, '오른쪽': 3467, '오리엔테이션': 3468, '오버': 3469, '오븐': 3470, '오스': 3471, '오시': 3472, '오신': 3473, '오용': 3474, '오인': 3475, '오일': 3476, '오일도': 3477, '오전': 3478, '오지': 3479, '오직': 3480, '오징어': 3481, '오토': 3482, '오프': 3483, '오프라인': 3484, '오픈': 3485, '오피스': 3486, '오하이오주': 3487, '오해': 3488, '오후': 3489, '오히려': 3490, '옥': 3491, '옥상': 3492, '옥집': 3493, '온': 3494, '온도': 3495, '온돌': 3496, '온라인': 3497, '온라인과': 3498, '온스': 3499, '온천': 3500, '온타리오': 3501, '올': 3502, '올라가다': 3503, '올려놓다': 3504, '올려주다': 3505, '올리다': 3506, '올바르다': 3507, '올해': 3508, '옮기다': 3509, '옳다': 3510, '옴': 3511, '옵니다': 3512, '옵션': 3513, '옷': 3514, '옷장': 3515, '와우': 3516, '와이어': 3517, '와이파이': 3518, '와인': 3519, '와트': 3520, '완납': 3521, '완료': 3522, '완벽하다': 3523, '완비': 3524, '완성': 3525, '완전': 3526, '완전하다': 3527, '완화': 3528, '왓츠앱': 3529, '왕복': 3530, '왕새우': 3531, '왜': 3532, '왜냐면': 3533, '왜냐하면': 3534, '외': 3535, '외관': 3536, '외국': 3537, '외국인': 3538, '외다': 3539, '외부': 3540, '외주': 3541, '외출': 3542, '외향': 3543, '외화': 3544, '외환은행': 3545, '왼쪽': 3546, '요': 3547, '요건': 3548, '요격': 3549, '요구': 3550, '요구사항': 3551, '요금': 3552, '요리': 3553, '요리법': 3554, '요리사': 3555, '요법': 3556, '요소': 3557, '요약': 3558, '요원': 3559, '요인': 3560, '요점': 3561, '요즘': 3562, '요청': 3563, '요크셔': 3564, '요트': 3565, '욕구': 3566, '욕실': 3567, '욕조': 3568, '용': 3569, '용건': 3570, '용납': 3571, '용다': 3572, '용도': 3573, '용량': 3574, '용무': 3575, '용법': 3576, '용어': 3577, '용의': 3578, '용이': 3579, '용이하다': 3580, '용인': 3581, '용판': 3582, '용품': 3583, '우': 3584, '우드': 3585, '우려': 3586, '우리': 3587, '우리나라': 3588, '우리은행': 3589, '우린': 3590, '우산': 3591, '우선': 3592, '우수하다': 3593, '우승자': 3594, '우아하다': 3595, '우여곡절': 3596, '우연히': 3597, '우와': 3598, '우위': 3599, '우유': 3600, '우주': 3601, '우크라이나': 3602, '우편': 3603, '우편물': 3604, '운': 3605, '운동': 3606, '운반': 3607, '운송': 3608, '운송업': 3609, '운영': 3610, '운영자': 3611, '운영체제': 3612, '운용': 3613, '운전': 3614, '운전기사': 3615, '운전자': 3616, '운하': 3617, '울리다': 3618, '울산': 3619, '움직이다': 3620, '움직임': 3621, '웃음': 3622, '웅장': 3623, '워': 3624, '워드': 3625, '워치': 3626, '워크샵': 3627, '워크숍': 3628, '워터': 3629, '원': 3630, '원격': 3631, '원고': 3632, '원금': 3633, '원래': 3634, '원리': 3635, '원본': 3636, '원사': 3637, '원스톱': 3638, '원심': 3639, '원심분리기': 3640, '원인': 3641, '원장': 3642, '원점': 3643, '원주공항': 3644, '원칙': 3645, '원통': 3646, '원하다': 3647, '원화': 3648, '원화도': 3649, '원활하다': 3650, '월': 3651, '월간': 3652, '월급': 3653, '월말': 3654, '월세': 3655, '월요일': 3656, '웜': 3657, '웠습': 3658, '웨딩': 3659, '웨비': 3660, '웨어': 3661, '웨이터': 3662, '웨이퍼': 3663, '웹': 3664, '웹디자인': 3665, '웹사이트': 3666, '웹캐스트': 3667, '웹페이지': 3668, '위': 3669, '위로': 3670, '위반': 3671, '위생': 3672, '위성': 3673, '위안': 3674, '위치': 3675, '위탁': 3676, '위태롭': 3677, '위태롭기': 3678, '위함': 3679, '위해': 3680, '위험': 3681, '위험하다': 3682, '위협': 3683, '윗': 3684, '윗사람': 3685, '유가': 3686, '유감': 3687, '유감스럽게': 3688, '유기': 3689, '유기농': 3690, '유닛': 3691, '유동': 3692, '유럽': 3693, '유로': 3694, '유료': 3695, '유르트': 3696, '유리하다': 3697, '유망': 3698, '유머': 3699, '유명': 3700, '유명인사': 3701, '유명하다': 3702, '유사하다': 3703, '유산': 3704, '유선': 3705, '유아': 3706, '유압': 3707, '유연성': 3708, '유연하다': 3709, '유예': 3710, '유용하다': 3711, '유의': 3712, '유익하다': 3713, '유인': 3714, '유인물': 3715, '유일하다': 3716, '유전': 3717, '유제품': 3718, '유지': 3719, '유치하다': 3720, '유통': 3721, '유통업': 3722, '유통업체': 3723, '유틸리티': 3724, '유학': 3725, '유학생': 3726, '유해하다': 3727, '유행': 3728, '유행병': 3729, '유형': 3730, '유효': 3731, '유효하다': 3732, '육류': 3733, '육성': 3734, '육수': 3735, '육지': 3736, '육회': 3737, '윤리': 3738, '율': 3739, '율기': 3740, '융자': 3741, '융통성': 3742, '은': 3743, '은은하다': 3744, '은퇴': 3745, '은행': 3746, '은행원': 3747, '을': 3748, '음': 3749, '음료': 3750, '음료수': 3751, '음반': 3752, '음반사': 3753, '음성': 3754, '음식': 3755, '음식점': 3756, '음악': 3757, '음원': 3758, '음질': 3759, '음향': 3760, '음향효과': 3761, '응': 3762, '응급': 3763, '응답': 3764, '응대': 3765, '응용': 3766, '응원': 3767, '의': 3768, '의견': 3769, '의논': 3770, '의도': 3771, '의뢰': 3772, '의료': 3773, '의류': 3774, '의무': 3775, '의문': 3776, '의미': 3777, '의사': 3778, '의사소통': 3779, '의상': 3780, '의식': 3781, '의심': 3782, '의심스럽다': 3783, '의약품': 3784, '의원': 3785, '의자': 3786, '의존': 3787, '의하다': 3788, '의향': 3789, '의회': 3790, '이': 3791, '이겠다': 3792, '이기': 3793, '이끌다': 3794, '이내': 3795, '이다': 3796, '이대로': 3797, '이동': 3798, '이동식': 3799, '이동해': 3800, '이드': 3801, '이득': 3802, '이따': 3803, '이러하다': 3804, '이런': 3805, '이렇게': 3806, '이렇다': 3807, '이력서': 3808, '이로': 3809, '이루어지다': 3810, '이뤄지다': 3811, '이르다': 3812, '이름': 3813, '이만': 3814, '이메일': 3815, '이면': 3816, '이목': 3817, '이미': 3818, '이미지': 3819, '이민자': 3820, '이번': 3821, '이벤트': 3822, '이보': 3823, '이불': 3824, '이브': 3825, '이사': 3826, '이사회': 3827, '이상': 3828, '이상은': 3829, '이서': 3830, '이세': 3831, '이송': 3832, '이수': 3833, '이슈': 3834, '이식': 3835, '이십': 3836, '이싼': 3837, '이야기': 3838, '이어지다': 3839, '이외': 3840, '이요': 3841, '이용': 3842, '이용자': 3843, '이웃': 3844, '이유': 3845, '이율': 3846, '이음': 3847, '이의': 3848, '이익': 3849, '이자': 3850, '이자율': 3851, '이장': 3852, '이전': 3853, '이점': 3854, '이정표': 3855, '이제': 3856, '이중': 3857, '이중과세': 3858, '이지': 3859, '이집트': 3860, '이체': 3861, '이탈': 3862, '이탈리아': 3863, '이탈리아어': 3864, '이틀': 3865, '이해': 3866, '이해만': 3867, '이해해': 3868, '이행': 3869, '이후': 3870, '익숙하다': 3871, '익숙해지다': 3872, '익스텐더': 3873, '익일': 3874, '익히다': 3875, '인': 3876, '인간': 3877, '인건비': 3878, '인걸': 3879, '인공': 3880, '인구': 3881, '인기': 3882, '인내': 3883, '인내심': 3884, '인덱스': 3885, '인도': 3886, '인도네시아': 3887, '인력': 3888, '인명': 3889, '인보이스': 3890, '인분': 3891, '인사': 3892, '인삼': 3893, '인상': 3894, '인생': 3895, '인센티브': 3896, '인쇄': 3897, '인쇄기': 3898, '인쇄판': 3899, '인수': 3900, '인스턴트': 3901, '인식': 3902, '인용': 3903, '인원': 3904, '인정': 3905, '인정받다': 3906, '인조섬유': 3907, '인증': 3908, '인증서': 3909, '인지': 3910, '인지도': 3911, '인천': 3912, '인치': 3913, '인코딩': 3914, '인큐베이터': 3915, '인터': 3916, '인터넷': 3917, '인터뷰': 3918, '인터페이스': 3919, '인턴': 3920, '인테리어': 3921, '인파': 3922, '인포그래픽': 3923, '인프라': 3924, '인플레이션': 3925, '인플레이션율': 3926, '인하': 3927, '인하다': 3928, '일': 3929, '일과': 3930, '일관': 3931, '일단': 3932, '일러스트': 3933, '일러스트레이션': 3934, '일련': 3935, '일련번호': 3936, '일로': 3937, '일류': 3938, '일반': 3939, '일반인': 3940, '일별': 3941, '일본': 3942, '일본어': 3943, '일부': 3944, '일부러': 3945, '일산': 3946, '일상': 3947, '일상생활': 3948, '일수': 3949, '일시': 3950, '일어나고': 3951, '일어나다': 3952, '일어나지': 3953, '일요일': 3954, '일으키다': 3955, '일이': 3956, '일인': 3957, '일일': 3958, '일자리': 3959, '일정': 3960, '일정하다': 3961, '일종': 3962, '일주일': 3963, '일찍': 3964, '일체': 3965, '일치': 3966, '일해': 3967, '일행': 3968, '일환': 3969, '일회용': 3970, '읽다': 3971, '잃다': 3972, '잃어버리다': 3973, '임': 3974, '임기': 3975, '임대': 3976, '임대료': 3977, '임무': 3978, '임박': 3979, '임베디드': 3980, '임상시험': 3981, '임시': 3982, '임원': 3983, '임원진': 3984, '임의': 3985, '임차': 3986, '임펠러': 3987, '입': 3988, '입금': 3989, '입다': 3990, '입력': 3991, '입맛': 3992, '입사': 3993, '입안': 3994, '입원': 3995, '입자': 3996, '입장': 3997, '입장료': 3998, '입지': 3999, '입찰': 4000, '입출': 4001, '입학': 4002, '있다': 4003, '잊다': 4004, '잊어버리다': 4005, '잎': 4006, '자': 4007, '자게': 4008, '자격': 4009, '자고': 4010, '자국': 4011, '자극': 4012, '자금': 4013, '자기': 4014, '자꾸': 4015, '자녀': 4016, '자다': 4017, '자동': 4018, '자동차': 4019, '자동화': 4020, '자라다': 4021, '자랑': 4022, '자랑스럽다': 4023, '자로': 4024, '자료': 4025, '자르다': 4026, '자리': 4027, '자마자': 4028, '자막': 4029, '자문': 4030, '자본': 4031, '자사': 4032, '자산': 4033, '자서전': 4034, '자선단체': 4035, '자세하다': 4036, '자수': 4037, '자식': 4038, '자신': 4039, '자신감': 4040, '자연': 4041, '자연계': 4042, '자연어': 4043, '자영': 4044, '자원': 4045, '자유': 4046, '자유롭다': 4047, '자재': 4048, '자전거': 4049, '자주': 4050, '자질': 4051, '자체': 4052, '자쿠': 4053, '자쿠지': 4054, '자택': 4055, '자판기': 4056, '자회사': 4057, '작': 4058, '작가': 4059, '작고': 4060, '작곡가': 4061, '작년': 4062, '작다': 4063, '작동': 4064, '작문': 4065, '작성': 4066, '작업': 4067, '작용': 4068, '작품': 4069, '잔': 4070, '잔고': 4071, '잔금': 4072, '잔디': 4073, '잔액': 4074, '잘': 4075, '잘못': 4076, '잘해야': 4077, '잠': 4078, '잠그다': 4079, '잠깐': 4080, '잠수': 4081, '잠시': 4082, '잠옷': 4083, '잠재': 4084, '잠재력': 4085, '잠정': 4086, '잡': 4087, '잡기': 4088, '잡다': 4089, '잡지': 4090, '잡채': 4091, '잡히다': 4092, '장': 4093, '장갑': 4094, '장거리': 4095, '장공': 4096, '장기': 4097, '장님': 4098, '장담': 4099, '장래': 4100, '장르': 4101, '장모님': 4102, '장바구니': 4103, '장벽': 4104, '장부': 4105, '장비': 4106, '장소': 4107, '장식': 4108, '장애': 4109, '장애물': 4110, '장애인': 4111, '장용': 4112, '장의': 4113, '장이': 4114, '장점': 4115, '장착': 4116, '장치': 4117, '장학금': 4118, '재': 4119, '재개': 4120, '재고': 4121, '재교육': 4122, '재난': 4123, '재능': 4124, '재단': 4125, '재료': 4126, '재무': 4127, '재무부': 4128, '재무제표': 4129, '재미': 4130, '재미있다': 4131, '재밌다': 4132, '재발': 4133, '재봉틀': 4134, '재사용': 4135, '재산': 4136, '재산권': 4137, '재생': 4138, '재우다': 4139, '재정': 4140, '재택근무': 4141, '재해': 4142, '재활': 4143, '쟁기질': 4144, '저': 4145, '저녁': 4146, '저녁식사': 4147, '저렴하다': 4148, '저만': 4149, '저만큼': 4150, '저명하다': 4151, '저번': 4152, '저속': 4153, '저자': 4154, '저작권': 4155, '저작권법': 4156, '저장': 4157, '저절로': 4158, '저지르다': 4159, '저쪽': 4160, '저축': 4161, '저항기': 4162, '저희': 4163, '적': 4164, '적격': 4165, '적극': 4166, '적기': 4167, '적다': 4168, '적당하다': 4169, '적도': 4170, '적립': 4171, '적어도': 4172, '적용': 4173, '적응': 4174, '적자': 4175, '적재': 4176, '적절하다': 4177, '적정': 4178, '적합하다': 4179, '적히다': 4180, '전': 4181, '전개': 4182, '전공': 4183, '전기': 4184, '전기자전거': 4185, '전날': 4186, '전념': 4187, '전달': 4188, '전동': 4189, '전략': 4190, '전력': 4191, '전류': 4192, '전망': 4193, '전면': 4194, '전무': 4195, '전문': 4196, '전문가': 4197, '전문성': 4198, '전문점': 4199, '전문직': 4200, '전반': 4201, '전병': 4202, '전부': 4203, '전분': 4204, '전선': 4205, '전세계': 4206, '전송': 4207, '전술': 4208, '전시': 4209, '전시장': 4210, '전시회': 4211, '전신': 4212, '전액': 4213, '전역': 4214, '전염병': 4215, '전용': 4216, '전원': 4217, '전이': 4218, '전자': 4219, '전자기': 4220, '전자기기': 4221, '전자레인지': 4222, '전자상거래': 4223, '전자제품': 4224, '전자책': 4225, '전적': 4226, '전체': 4227, '전통': 4228, '전통문화': 4229, '전표': 4230, '전하': 4231, '전해': 4232, '전혀': 4233, '전화': 4234, '전화기': 4235, '전화번호': 4236, '전화하다': 4237, '전환': 4238, '전후': 4239, '젇': 4240, '절': 4241, '절감': 4242, '절기': 4243, '절단': 4244, '절대': 4245, '절반': 4246, '절삭기': 4247, '절실': 4248, '절약': 4249, '절차': 4250, '젊다': 4251, '젊은이': 4252, '점': 4253, '점검': 4254, '점도': 4255, '점수': 4256, '점심': 4257, '점유': 4258, '점자': 4259, '점점': 4260, '점진': 4261, '점화': 4262, '접': 4263, '접근': 4264, '접근성': 4265, '접대': 4266, '접속': 4267, '접수': 4268, '접시': 4269, '접종': 4270, '접착': 4271, '접합': 4272, '젓가락': 4273, '정': 4274, '정관': 4275, '정규': 4276, '정규직': 4277, '정기': 4278, '정기예금': 4279, '정당하다': 4280, '정도': 4281, '정독': 4282, '정류장': 4283, '정리': 4284, '정말': 4285, '정말로': 4286, '정밀도': 4287, '정박': 4288, '정보': 4289, '정보기술': 4290, '정본': 4291, '정부': 4292, '정비': 4293, '정비사': 4294, '정산': 4295, '정상': 4296, '정상인': 4297, '정상화': 4298, '정성': 4299, '정수': 4300, '정수기': 4301, '정식': 4302, '정신': 4303, '정원': 4304, '정육점': 4305, '정의': 4306, '정이': 4307, '정적': 4308, '정전': 4309, '정직하다': 4310, '정착': 4311, '정책': 4312, '정체': 4313, '정치': 4314, '정치인': 4315, '정통': 4316, '정통하다': 4317, '정해': 4318, '정해지다': 4319, '정해진': 4320, '정화': 4321, '정확도': 4322, '정확하다': 4323, '제': 4324, '제거': 4325, '제곱': 4326, '제곱미터': 4327, '제공': 4328, '제기': 4329, '제대로': 4330, '제도': 4331, '제때': 4332, '제로': 4333, '제목': 4334, '제발': 4335, '제보': 4336, '제빵': 4337, '제빵사': 4338, '제삼자': 4339, '제시': 4340, '제안': 4341, '제어': 4342, '제외': 4343, '제일': 4344, '제입': 4345, '제작': 4346, '제작자': 4347, '제작회사': 4348, '제재': 4349, '제적': 4350, '제조': 4351, '제조업': 4352, '제조업체': 4353, '제주': 4354, '제출': 4355, '제품': 4356, '제품군': 4357, '제한': 4358, '제휴': 4359, '젠': 4360, '젯': 4361, '조': 4362, '조각': 4363, '조각가': 4364, '조각상': 4365, '조건': 4366, '조국': 4367, '조금': 4368, '조달': 4369, '조도': 4370, '조로': 4371, '조리': 4372, '조립': 4373, '조만간': 4374, '조명': 4375, '조명탄': 4376, '조물': 4377, '조미료': 4378, '조사': 4379, '조사해': 4380, '조선': 4381, '조수': 4382, '조식': 4383, '조심': 4384, '조심하다': 4385, '조언': 4386, '조용하다': 4387, '조잡하다': 4388, '조장': 4389, '조절': 4390, '조정': 4391, '조정은': 4392, '조지아': 4393, '조직': 4394, '조취': 4395, '조치': 4396, '조카': 4397, '조합': 4398, '조항': 4399, '조화': 4400, '조회': 4401, '족발': 4402, '존경': 4403, '존재': 4404, '존중': 4405, '졸업장': 4406, '좀': 4407, '좁히다': 4408, '종': 4409, '종교': 4410, '종단': 4411, '종도': 4412, '종로': 4413, '종료': 4414, '종류': 4415, '종사': 4416, '종습니': 4417, '종신': 4418, '종업원': 4419, '종이': 4420, '종일': 4421, '종합': 4422, '좋다': 4423, '좋아지다': 4424, '좋아하다': 4425, '좌석': 4426, '좌우': 4427, '죄송하다': 4428, '주': 4429, '주가': 4430, '주간': 4431, '주간지': 4432, '주거': 4433, '주고받다': 4434, '주기': 4435, '주다': 4436, '주된': 4437, '주렴': 4438, '주로': 4439, '주류': 4440, '주말': 4441, '주머니': 4442, '주목': 4443, '주무시다': 4444, '주문': 4445, '주민': 4446, '주민등록': 4447, '주방': 4448, '주변': 4449, '주사기': 4450, '주선': 4451, '주소': 4452, '주스': 4453, '주시': 4454, '주식': 4455, '주식시장': 4456, '주신': 4457, '주어지다': 4458, '주얼': 4459, '주요': 4460, '주의': 4461, '주인': 4462, '주일': 4463, '주임': 4464, '주자': 4465, '주장': 4466, '주저': 4467, '주제': 4468, '주제가': 4469, '주지': 4470, '주차': 4471, '주차장': 4472, '주철': 4473, '주택': 4474, '주파수': 4475, '죽': 4476, '준': 4477, '준비': 4478, '준수': 4479, '줄': 4480, '줄기': 4481, '줄다': 4482, '줄어들다': 4483, '줄이다': 4484, '줌': 4485, '줍다': 4486, '중': 4487, '중간': 4488, '중개': 4489, '중개사': 4490, '중개인': 4491, '중고': 4492, '중고품': 4493, '중공업': 4494, '중국': 4495, '중국집': 4496, '중단': 4497, '중등교육': 4498, '중복': 4499, '중소기업': 4500, '중시': 4501, '중심': 4502, '중심부': 4503, '중요성': 4504, '중요하다': 4505, '중이': 4506, '중인': 4507, '중장비': 4508, '중재': 4509, '중점': 4510, '중형견': 4511, '중환자': 4512, '즉': 4513, '즉각': 4514, '즉석': 4515, '즉시': 4516, '즐거움': 4517, '즐겁다': 4518, '즐기다': 4519, '증가': 4520, '증거': 4521, '증권': 4522, '증권사': 4523, '증명': 4524, '증명서': 4525, '증발기': 4526, '증빙': 4527, '증서': 4528, '증세': 4529, '증진': 4530, '증폭': 4531, '증폭기': 4532, '지': 4533, '지갑': 4534, '지게': 4535, '지게차': 4536, '지고': 4537, '지구': 4538, '지금': 4539, '지급': 4540, '지나다': 4541, '지난': 4542, '지난달': 4543, '지난번': 4544, '지난주': 4545, '지난해': 4546, '지남': 4547, '지내다': 4548, '지능': 4549, '지다': 4550, '지도': 4551, '지독하다': 4552, '지루하다': 4553, '지루함': 4554, '지르다': 4555, '지리': 4556, '지면': 4557, '지명': 4558, '지문': 4559, '지방': 4560, '지불': 4561, '지붕': 4562, '지사': 4563, '지속': 4564, '지수': 4565, '지시': 4566, '지식': 4567, '지역': 4568, '지역성': 4569, '지연': 4570, '지용': 4571, '지우다': 4572, '지원': 4573, '지원이': 4574, '지인': 4575, '지저분하다': 4576, '지적': 4577, '지점': 4578, '지정': 4579, '지주': 4580, '지지': 4581, '지체': 4582, '지출': 4583, '지침': 4584, '지켜보다': 4585, '지키다': 4586, '지폐': 4587, '지표': 4588, '지프': 4589, '지하실': 4590, '지하철': 4591, '지향': 4592, '직': 4593, '직감': 4594, '직경': 4595, '직급': 4596, '직도': 4597, '직면': 4598, '직물': 4599, '직불': 4600, '직업': 4601, '직원': 4602, '직장': 4603, '직접': 4604, '직접투자': 4605, '직책': 4606, '진': 4607, '진공': 4608, '진과': 4609, '진단': 4610, '진동': 4611, '진상': 4612, '진실': 4613, '진실하다': 4614, '진심': 4615, '진의': 4616, '진입': 4617, '진정': 4618, '진정하다': 4619, '진지하다': 4620, '진짜': 4621, '진출': 4622, '진행': 4623, '진행자': 4624, '진화': 4625, '진흥': 4626, '질': 4627, '질감': 4628, '질문': 4629, '질병': 4630, '질환': 4631, '짐': 4632, '집': 4633, '집값': 4634, '집다': 4635, '집단': 4636, '집세': 4637, '집안일': 4638, '집의': 4639, '집주인': 4640, '집중': 4641, '집하장': 4642, '집합': 4643, '집행': 4644, '집행자': 4645, '짓다': 4646, '징': 4647, '징글링': 4648, '짚': 4649, '짜다': 4650, '짜장': 4651, '짤': 4652, '짧다': 4653, '째': 4654, '쪽': 4655, '쫓아내다': 4656, '쯤': 4657, '찌개': 4658, '찍다': 4659, '찍히다': 4660, '찜': 4661, '찜질방': 4662, '찢어지다': 4663, '차': 4664, '차감': 4665, '차갑다': 4666, '차고': 4667, '차기': 4668, '차다': 4669, '차단': 4670, '차도': 4671, '차등': 4672, '차라리': 4673, '차량': 4674, '차례': 4675, '차리다': 4676, '차별': 4677, '차서': 4678, '차용': 4679, '차원': 4680, '차이': 4681, '차이다': 4682, '차이점': 4683, '차입': 4684, '차지': 4685, '차질': 4686, '차트': 4687, '찬': 4688, '참가': 4689, '참가자': 4690, '참고': 4691, '참배': 4692, '참석': 4693, '참석자': 4694, '참여': 4695, '참으로': 4696, '참조': 4697, '찹쌀': 4698, '창': 4699, '창가': 4700, '창고': 4701, '창구': 4702, '창립': 4703, '창문': 4704, '창업': 4705, '창의': 4706, '찾기': 4707, '찾다': 4708, '찾아보다': 4709, '찾아오다': 4710, '채': 4711, '채굴': 4712, '채권': 4713, '채권자': 4714, '채널': 4715, '채다': 4716, '채무': 4717, '채무자': 4718, '채색': 4719, '채소': 4720, '채식': 4721, '채식주의자': 4722, '채용': 4723, '채우다': 4724, '채취': 4725, '채택': 4726, '채팅': 4727, '책': 4728, '책임': 4729, '책임감': 4730, '책임자': 4731, '책임지다': 4732, '책자': 4733, '책정': 4734, '챔버입니': 4735, '처': 4736, '처가': 4737, '처리': 4738, '처리기': 4739, '처방': 4740, '처분': 4741, '처음': 4742, '천만': 4743, '천연': 4744, '천연가스': 4745, '천장': 4746, '천천히': 4747, '철': 4748, '철강': 4749, '철도': 4750, '철저하다': 4751, '철제': 4752, '철학': 4753, '철회': 4754, '첨부': 4755, '첫': 4756, '첫날': 4757, '첫인상': 4758, '첫째': 4759, '청': 4760, '청각장애': 4761, '청구': 4762, '청년': 4763, '청동': 4764, '청문회': 4765, '청사진': 4766, '청소': 4767, '청소년': 4768, '청정': 4769, '청정기': 4770, '청중': 4771, '청취': 4772, '체결': 4773, '체납': 4774, '체류': 4775, '체육관': 4776, '체인': 4777, '체인점': 4778, '체제': 4779, '체크': 4780, '체크아웃': 4781, '체험': 4782, '초': 4783, '초고': 4784, '초과': 4785, '초기': 4786, '초당': 4787, '초대': 4788, '초대장': 4789, '초래': 4790, '초상화': 4791, '초안': 4792, '초음파': 4793, '초입': 4794, '초점': 4795, '초청': 4796, '초콜릿': 4797, '촉구': 4798, '촉박하다': 4799, '총': 4800, '총수': 4801, '총칭': 4802, '촬영': 4803, '최': 4804, '최고': 4805, '최고급': 4806, '최근': 4807, '최대': 4808, '최대한': 4809, '최상': 4810, '최선': 4811, '최선일': 4812, '최소': 4813, '최소한': 4814, '최신': 4815, '최악': 4816, '최저': 4817, '최적': 4818, '최적화': 4819, '최종': 4820, '최첨단': 4821, '최초': 4822, '추가': 4823, '추구': 4824, '추다': 4825, '추석': 4826, '추세': 4827, '추억': 4828, '추적': 4829, '추정': 4830, '추진': 4831, '추천': 4832, '추출': 4833, '추후': 4834, '축': 4835, '축배': 4836, '축소': 4837, '축하': 4838, '출구': 4839, '출금': 4840, '출두': 4841, '출력': 4842, '출발점': 4843, '출산': 4844, '출시': 4845, '출연': 4846, '출장': 4847, '출퇴근': 4848, '출판': 4849, '출판물': 4850, '출판사': 4851, '출하': 4852, '춤': 4853, '충': 4854, '충격': 4855, '충당': 4856, '충돌': 4857, '충분하다': 4858, '충실하다': 4859, '충전': 4860, '충전기': 4861, '충족': 4862, '취': 4863, '취급': 4864, '취득': 4865, '취미': 4866, '취사': 4867, '취소': 4868, '취약': 4869, '취재': 4870, '취직': 4871, '취하': 4872, '취한': 4873, '취할': 4874, '취해': 4875, '취향': 4876, '측': 4877, '측면': 4878, '측정': 4879, '측정기': 4880, '층': 4881, '치': 4882, '치가': 4883, '치과': 4884, '치다': 4885, '치료': 4886, '치르다': 4887, '치맥': 4888, '치솟다': 4889, '치수': 4890, '치열하다': 4891, '치즈': 4892, '치킨': 4893, '친': 4894, '친구': 4895, '친절하다': 4896, '친척': 4897, '친하다': 4898, '친환경': 4899, '칠': 4900, '칠하다': 4901, '침': 4902, '침대': 4903, '침실': 4904, '침입': 4905, '침체': 4906, '침해': 4907, '칩': 4908, '칩셋': 4909, '칭찬': 4910, '카드': 4911, '카메라': 4912, '카뷰': 4913, '카운터': 4914, '카운트다운': 4915, '카지노': 4916, '카탈로그': 4917, '카테고리': 4918, '카트': 4919, '카페': 4920, '카페테리아': 4921, '카펫': 4922, '카피': 4923, '칵테일': 4924, '칸': 4925, '칼': 4926, '칼리': 4927, '캐': 4928, '캐나다': 4929, '캐리어': 4930, '캐릭터': 4931, '캐비닛': 4932, '캐빈': 4933, '캐싱': 4934, '캐터필러': 4935, '캐피탈': 4936, '캐피털': 4937, '캘리포니아': 4938, '캘린더': 4939, '캠': 4940, '캠퍼스': 4941, '캠페인': 4942, '캠프': 4943, '캠프장': 4944, '캠프파이어': 4945, '캠핑': 4946, '캠핑장': 4947, '캠핑카': 4948, '캡슐화': 4949, '캡처': 4950, '커뮤니케이션': 4951, '커뮤니티': 4952, '커미션': 4953, '커버': 4954, '커지다': 4955, '커터': 4956, '커튼': 4957, '커플': 4958, '커피': 4959, '커피메이커': 4960, '컨디셔닝': 4961, '컨베이어': 4962, '컨설턴트': 4963, '컨설팅': 4964, '컨셉': 4965, '컨테이너': 4966, '컨텐츠': 4967, '컬래버레이션': 4968, '컬러': 4969, '컴퍼니': 4970, '컴포트룸': 4971, '컴퓨터': 4972, '컴퓨팅': 4973, '컴프레서': 4974, '컷': 4975, '케어': 4976, '케이': 4977, '케이블': 4978, '케이스': 4979, '케이크': 4980, '코': 4981, '코너': 4982, '코드': 4983, '코딩': 4984, '코로나': 4985, '코르크': 4986, '코리아': 4987, '코리안': 4988, '코멘트': 4989, '코스': 4990, '코스닥': 4991, '코인': 4992, '코치': 4993, '코칭': 4994, '코코넛': 4995, '코퍼레이션': 4996, '콕': 4997, '콘덴서': 4998, '콘도': 4999, '콘도그': 5000, '콘서트': 5001, '콘셉': 5002, '콘셉트': 5003, '콘솔': 5004, '콘크리트': 5005, '콘텐츠': 5006, '콜리': 5007, '콜링': 5008, '콜카타': 5009, '콩나물': 5010, '쾌적하다': 5011, '쿠션': 5012, '쿠알라룸푸르': 5013, '쿠키': 5014, '쿠폰': 5015, '쿨': 5016, '쿨러': 5017, '퀼트': 5018, '큐': 5019, '크게': 5020, '크기': 5021, '크다': 5022, '크레딧': 5023, '크레인': 5024, '크루아상': 5025, '크류': 5026, '크리스마스': 5027, '크리에이터': 5028, '크리에이티브': 5029, '크립': 5030, '클라우드': 5031, '클라이언트': 5032, '클래스': 5033, '클러스터': 5034, '클럽': 5035, '클레': 5036, '클리': 5037, '클릭': 5038, '클릭률': 5039, '클립': 5040, '키': 5041, '키란': 5042, '키우다': 5043, '키트': 5044, '킬로그램': 5045, '킬로미터': 5046, '킬로와트': 5047, '타': 5048, '타겟': 5049, '타고': 5050, '타깃': 5051, '타다': 5052, '타당': 5053, '타운하우스': 5054, '타원곡선': 5055, '타이머': 5056, '타이밍': 5057, '타이어': 5058, '타이틀곡': 5059, '타임': 5060, '타임스퀘어': 5061, '타입': 5062, '타자기': 5063, '타협': 5064, '탁월하다': 5065, '탁자': 5066, '탄소': 5067, '탄원서': 5068, '탈': 5069, '탈세': 5070, '탈수': 5071, '탈퇴': 5072, '탐구': 5073, '탐방': 5074, '탐색': 5075, '탐험': 5076, '탑': 5077, '탑승': 5078, '탑재': 5079, '탕': 5080, '탕감': 5081, '태국': 5082, '태국어': 5083, '태그': 5084, '태극': 5085, '태극기': 5086, '태도': 5087, '태블릿': 5088, '태양': 5089, '택배': 5090, '탤런트': 5091, '탭': 5092, '터': 5093, '터널': 5094, '터링': 5095, '터미널': 5096, '터북': 5097, '터치': 5098, '터치스크린': 5099, '터키': 5100, '턴': 5101, '턴키': 5102, '테': 5103, '테니스': 5104, '테라': 5105, '테라바이트': 5106, '테라스': 5107, '테마': 5108, '테스': 5109, '테스트': 5110, '테이': 5111, '테이블': 5112, '테이프': 5113, '테크놀로지': 5114, '텍스처': 5115, '텍스트': 5116, '텐데': 5117, '텐데요': 5118, '텐트': 5119, '텔레비전': 5120, '템플': 5121, '템플릿': 5122, '템플스테이': 5123, '토너': 5124, '토론': 5125, '토르티야': 5126, '토목': 5127, '토스터': 5128, '토스트': 5129, '토요일': 5130, '토지': 5131, '토큰': 5132, '톤': 5133, '통': 5134, '통계': 5135, '통과': 5136, '통관': 5137, '통닭': 5138, '통도사': 5139, '통보': 5140, '통상': 5141, '통신': 5142, '통신망': 5143, '통신사': 5144, '통역': 5145, '통역관': 5146, '통장': 5147, '통제': 5148, '통지': 5149, '통지서': 5150, '통째': 5151, '통찰': 5152, '통한': 5153, '통합': 5154, '통해': 5155, '통화': 5156, '퇴근': 5157, '퇴사': 5158, '투': 5159, '투명': 5160, '투명하다': 5161, '투숙': 5162, '투어': 5163, '투자': 5164, '투자가': 5165, '투자수익률': 5166, '투자자': 5167, '툴': 5168, '튀기다': 5169, '튀김': 5170, '튜브': 5171, '튜토리얼': 5172, '트': 5173, '트래킹': 5174, '트래픽': 5175, '트랙볼': 5176, '트랙터': 5177, '트랙패드': 5178, '트랜치': 5179, '트러블': 5180, '트럭': 5181, '트레인': 5182, '트레일러': 5183, '트렌드': 5184, '트리': 5185, '트리트먼트': 5186, '트리플': 5187, '트윈': 5188, '트이다': 5189, '특권': 5190, '특급': 5191, '특기': 5192, '특별': 5193, '특별하다': 5194, '특산': 5195, '특선': 5196, '특성': 5197, '특수': 5198, '특수하다': 5199, '특정': 5200, '특정하다': 5201, '특제': 5202, '특집': 5203, '특징': 5204, '특허': 5205, '특히': 5206, '튼튼하다': 5207, '틀다': 5208, '틀림없다': 5209, '틀림없이': 5210, '틀어놓다': 5211, '틈': 5212, '틈새': 5213, '티': 5214, '티슈': 5215, '티저': 5216, '티켓': 5217, '팀': 5218, '팀원': 5219, '팁': 5220, '팅': 5221, '파견': 5222, '파괴': 5223, '파다': 5224, '파란색': 5225, '파로': 5226, '파리': 5227, '파산': 5228, '파산하다': 5229, '파손': 5230, '파스타': 5231, '파악': 5232, '파워': 5233, '파이': 5234, '파이다': 5235, '파이썬': 5236, '파이프': 5237, '파이프라인': 5238, '파일': 5239, '파키스탄': 5240, '파트너': 5241, '파트너쉽': 5242, '파티': 5243, '파파야': 5244, '판': 5245, '판금': 5246, '판단': 5247, '판매': 5248, '판매량': 5249, '판매업': 5250, '판명': 5251, '판촉': 5252, '팔': 5253, '팔고': 5254, '팔다': 5255, '팔레트': 5256, '팔로우': 5257, '팔로워': 5258, '팔리다': 5259, '팔지': 5260, '팜스프링스': 5261, '팜유': 5262, '팝': 5263, '팟캐스트': 5264, '패널': 5265, '패션': 5266, '패스': 5267, '패스트': 5268, '패스트푸드': 5269, '패자': 5270, '패치': 5271, '패키지': 5272, '패턴': 5273, '팩': 5274, '팩스': 5275, '팬': 5276, '팬데믹': 5277, '팬케이크': 5278, '팸플릿': 5279, '퍼센트': 5280, '퍼지다': 5281, '펀드': 5282, '펀딩': 5283, '펄스': 5284, '펌프': 5285, '페스티벌': 5286, '페이': 5287, '페이스': 5288, '페이지': 5289, '펜션': 5290, '펠메니': 5291, '펴다': 5292, '편': 5293, '편곡': 5294, '편도': 5295, '편리하다': 5296, '편물': 5297, '편안하다': 5298, '편안함': 5299, '편애': 5300, '편의': 5301, '편의점': 5302, '편이': 5303, '편입': 5304, '편지': 5305, '편지함': 5306, '편집': 5307, '편집자': 5308, '편하다': 5309, '평가': 5310, '평가판': 5311, '평균': 5312, '평면도': 5313, '평방': 5314, '평범하다': 5315, '평생': 5316, '평일': 5317, '평점': 5318, '평판': 5319, '평편': 5320, '평평하다': 5321, '평화': 5322, '폐가': 5323, '폐기물': 5324, '폐쇄': 5325, '폐쇄되어': 5326, '폐쇄하': 5327, '포': 5328, '포격': 5329, '포괄': 5330, '포기': 5331, '포스터': 5332, '포스트': 5333, '포스팅': 5334, '포인트': 5335, '포장': 5336, '포지셔닝': 5337, '포지션': 5338, '포켓': 5339, '포탄': 5340, '포털': 5341, '포토': 5342, '포트': 5343, '포트폴리오': 5344, '포함': 5345, '포항': 5346, '폭': 5347, '폭력': 5348, '폰': 5349, '폰트': 5350, '폴더': 5351, '폴리스티렌': 5352, '폴리오': 5353, '폴리우레탄': 5354, '폼': 5355, '표': 5356, '표면': 5357, '표시': 5358, '표절': 5359, '표정': 5360, '표준': 5361, '표지': 5362, '표현': 5363, '푸드': 5364, '풀': 5365, '풀다': 5366, '품': 5367, '품다': 5368, '품목': 5369, '품절': 5370, '품종': 5371, '품질': 5372, '풍': 5373, '풍부하다': 5374, '풍향': 5375, '퓨전': 5376, '프라이': 5377, '프라이드': 5378, '프라이머리': 5379, '프랑스': 5380, '프랑스어': 5381, '프랜차이즈': 5382, '프레': 5383, '프레임': 5384, '프레임워크': 5385, '프로': 5386, '프로그래머': 5387, '프로그래밍': 5388, '프로그램': 5389, '프로듀서': 5390, '프로모션': 5391, '프로세서': 5392, '프로세스': 5393, '프로젝터': 5394, '프로젝트': 5395, '프로토콜': 5396, '프로토타입': 5397, '프로필': 5398, '프루티': 5399, '프리랜서': 5400, '프리미엄': 5401, '프리뷰': 5402, '프린터': 5403, '플': 5404, '플라스틱': 5405, '플라이': 5406, '플라자': 5407, '플래닝': 5408, '플래시': 5409, '플래티넘': 5410, '플랜': 5411, '플랫폼': 5412, '플러그인': 5413, '플러머': 5414, '플러스': 5415, '플레이': 5416, '플레이어': 5417, '플로우': 5418, '플로터': 5419, '플루': 5420, '플립': 5421, '피': 5422, '피나': 5423, '피니쉬': 5424, '피드백': 5425, '피로연': 5426, '피부': 5427, '피스톤': 5428, '피아노': 5429, '피우다': 5430, '피칭팀': 5431, '피크': 5432, '피트': 5433, '피트니스': 5434, '피하': 5435, '피해': 5436, '피해자': 5437, '픽셀': 5438, '픽업': 5439, '핀': 5440, '필기체': 5441, '필드': 5442, '필름': 5443, '필리핀': 5444, '필수': 5445, '필요': 5446, '필요성': 5447, '필요없다': 5448, '필요하다': 5449, '필욘': 5450, '필터': 5451, '핑크': 5452, '하': 5453, '하기는': 5454, '하나': 5455, '하나로': 5456, '하나요': 5457, '하니': 5458, '하다': 5459, '하단': 5460, '하드': 5461, '하드웨어': 5462, '하락': 5463, '하루': 5464, '하루나': 5465, '하룻밤': 5466, '하므다': 5467, '하수': 5468, '하숙집': 5469, '하얀색': 5470, '하오니': 5471, '하와이': 5472, '하우': 5473, '하우스': 5474, '하이재킹': 5475, '하이킹': 5476, '하이테크': 5477, '하자': 5478, '하지만': 5479, '학': 5480, '학과': 5481, '학교': 5482, '학기': 5483, '학년': 5484, '학문': 5485, '학생': 5486, '학술': 5487, '학습': 5488, '학업': 5489, '학원': 5490, '학위': 5491, '학자': 5492, '학자금': 5493, '한': 5494, '한가하다': 5495, '한계': 5496, '한국': 5497, '한국어': 5498, '한국은행': 5499, '한국인': 5500, '한다는': 5501, '한도': 5502, '한두': 5503, '한마디': 5504, '한번': 5505, '한식': 5506, '한식당': 5507, '한옥호텔': 5508, '한우': 5509, '한자': 5510, '한잔': 5511, '한정': 5512, '한정식': 5513, '한정판': 5514, '한지': 5515, '한창': 5516, '한층': 5517, '한편': 5518, '할당': 5519, '할랄': 5520, '할머니': 5521, '할부': 5522, '할애': 5523, '할인': 5524, '함': 5525, '함께': 5526, '합': 5527, '합격': 5528, '합계': 5529, '합류': 5530, '합리': 5531, '합법': 5532, '합성': 5533, '합의': 5534, '합작': 5535, '합치다': 5536, '합판': 5537, '핫': 5538, '핫스팟': 5539, '항': 5540, '항공': 5541, '항공사': 5542, '항구': 5543, '항목': 5544, '항상': 5545, '항성': 5546, '항의': 5547, '해': 5548, '해결': 5549, '해고': 5550, '해당': 5551, '해도': 5552, '해독': 5553, '해드리다': 5554, '해명': 5555, '해변': 5556, '해보다': 5557, '해봤다': 5558, '해상도': 5559, '해석': 5560, '해소': 5561, '해심': 5562, '해안': 5563, '해오다': 5564, '해외': 5565, '해외여행': 5566, '해주다': 5567, '해주시': 5568, '해지': 5569, '해초': 5570, '해커': 5571, '해킹': 5572, '해피': 5573, '핵심': 5574, '핸드폰': 5575, '행': 5576, '행동': 5577, '행복': 5578, '행복하다': 5579, '행사': 5580, '행운': 5581, '행해지다': 5582, '향': 5583, '향상': 5584, '향수': 5585, '향신료': 5586, '향후': 5587, '허가': 5588, '허가증': 5589, '허락': 5590, '허브': 5591, '허브차': 5592, '허슬': 5593, '허용': 5594, '허튼': 5595, '허풍': 5596, '헌신': 5597, '헐벗': 5598, '헤드헌터': 5599, '헤어드라이어': 5600, '헤지': 5601, '헬': 5602, '헬스장': 5603, '헷갈리다': 5604, '혁신': 5605, '현': 5606, '현금': 5607, '현대': 5608, '현명하다': 5609, '현미경': 5610, '현상': 5611, '현수막': 5612, '현장': 5613, '현재': 5614, '현지': 5615, '현행': 5616, '현황': 5617, '혈압': 5618, '혈액': 5619, '혐의': 5620, '협동': 5621, '협력': 5622, '협상': 5623, '협약': 5624, '협연': 5625, '협의': 5626, '협정': 5627, '협조': 5628, '협찬': 5629, '협회': 5630, '형': 5631, '형기': 5632, '형성': 5633, '형식': 5634, '형제': 5635, '형태': 5636, '혜택': 5637, '호도': 5638, '호법': 5639, '호스팅': 5640, '호실': 5641, '호의': 5642, '호주': 5643, '호출': 5644, '호텔': 5645, '호환': 5646, '호환성': 5647, '호흡': 5648, '혹독하다': 5649, '혹시': 5650, '혹은': 5651, '혼란': 5652, '혼자': 5653, '혼잡하다': 5654, '혼합': 5655, '홀': 5656, '홈': 5657, '홈스테이': 5658, '홈페이지': 5659, '홋카이도': 5660, '홍보': 5661, '화': 5662, '화가': 5663, '화거': 5664, '화기': 5665, '화나다': 5666, '화면': 5667, '화물': 5668, '화물선': 5669, '화보': 5670, '화상': 5671, '화상통화': 5672, '화상회의': 5673, '화소': 5674, '화요일': 5675, '화의': 5676, '화이트': 5677, '화장실': 5678, '화장품': 5679, '화전': 5680, '화폐': 5681, '화하다': 5682, '화학': 5683, '화합': 5684, '화해': 5685, '확고하다': 5686, '확답': 5687, '확대': 5688, '확보': 5689, '확신': 5690, '확실하다': 5691, '확인': 5692, '확장': 5693, '확정': 5694, '환': 5695, '환경': 5696, '환급': 5697, '환불': 5698, '환상': 5699, '환영': 5700, '환율': 5701, '환자': 5702, '환전': 5703, '환호': 5704, '활': 5705, '활동': 5706, '활발하다': 5707, '활성화': 5708, '활용': 5709, '회': 5710, '회계': 5711, '회계법인': 5712, '회계사': 5713, '회도': 5714, '회로': 5715, '회복': 5716, '회복하다': 5717, '회비': 5718, '회사': 5719, '회수': 5720, '회신': 5721, '회원': 5722, '회의': 5723, '회의실': 5724, '회의장': 5725, '회장': 5726, '회전': 5727, '회차': 5728, '회화': 5729, '횡설수설': 5730, '효과': 5731, '효율': 5732, '후': 5733, '후루룩': 5734, '후불': 5735, '후속': 5736, '후송': 5737, '후식': 5738, '후원': 5739, '후원자': 5740, '후의': 5741, '후회': 5742, '훈련': 5743, '훌륭하다': 5744, '훑다': 5745, '훨씬': 5746, '훼손': 5747, '휘': 5748, '휘발유': 5749, '휠': 5750, '휩쓸다': 5751, '휴': 5752, '휴가': 5753, '휴대': 5754, '휴대전화': 5755, '휴대폰': 5756, '휴식': 5757, '휴양': 5758, '흐름': 5759, '흐릿하': 5760, '흑자': 5761, '흔하다': 5762, '흘리다': 5763, '흙': 5764, '흙빛': 5765, '흡사하다': 5766, '흡수': 5767, '흡입': 5768, '흥미': 5769, '흥미롭다': 5770, '흥분': 5771, '흥분하다': 5772, '희망': 5773, '흰색': 5774, '히': 5775, '히트': 5776, '힘': 5777, '힘들다': 5778, '힘쓰다': 5779}\n",
            "{'!': 1, '<EOS>': 2, '<SOS>': 3, '?': 4, 'A': 5, 'AAA': 6, 'AAA1@BBB1.com.': 7, 'AAA@BBB.com': 8, 'ABCDE': 9, 'AI': 10, 'ANRs': 11, 'ATM': 12, 'ATMs': 13, 'Absolutely': 14, 'Accidents': 15, 'According': 16, 'Actually': 17, 'Additionally': 18, 'Ads': 19, 'African': 20, 'After': 21, 'Afterwards': 22, 'Again': 23, 'Agency': 24, 'Ah': 25, 'Airport': 26, 'All': 27, 'Allow': 28, 'Almost': 29, 'Along': 30, 'Alright': 31, 'Also': 32, 'Alternatively': 33, 'Although': 34, 'Am': 35, 'America': 36, 'American': 37, 'Among': 38, 'Amsterdam': 39, 'An': 40, 'And': 41, 'Angel': 42, 'Another': 43, 'Any': 44, 'Anyone': 45, 'Anything': 46, 'Anyway': 47, 'Apart': 48, 'Apologies': 49, 'Apparently': 50, 'Appraisal': 51, 'April': 52, 'Are': 53, 'Argentina': 54, 'Around': 55, 'Articles': 56, 'Artificial': 57, 'As': 58, 'Asia': 59, 'Asian': 60, 'Aside': 61, 'Associates': 62, 'Assume': 63, 'At': 64, 'August': 65, 'Australia': 66, 'Australian': 67, 'Available': 68, 'Avatars': 69, 'Avoid': 70, 'Awesome': 71, 'B': 72, 'BBB': 73, 'BBB@email.com.': 74, 'BBQ': 75, 'BSE': 76, 'Back': 77, 'Bank': 78, 'Barbados': 79, 'Based': 80, 'Basically': 81, 'Be': 82, 'Bear': 83, 'Because': 84, 'Beef': 85, 'Before': 86, 'Being': 87, 'Besides': 88, 'Board': 89, 'Bohemian': 90, 'Bokkeumbap': 91, 'Bossam': 92, 'Both': 93, 'Brazil': 94, 'Breakfast': 95, 'Bringing': 96, 'Broadcast': 97, 'Broadcasting': 98, 'Browsing': 99, 'Brunei': 100, 'Buddha': 101, 'Buddhism': 102, 'Buddhist': 103, 'Building': 104, 'Bulgogi': 105, 'Bungeoppang': 106, 'Bunsen': 107, 'Busan': 108, 'Business': 109, 'But': 110, 'Buying': 111, 'By': 112, 'C': 113, 'CCTV': 114, 'CCTVs': 115, 'CEO': 116, 'CFM': 117, 'CMS': 118, 'COVID': 119, 'CSS': 120, 'CT': 121, 'California': 122, 'Call': 123, 'Camp': 124, 'Camping': 125, 'Can': 126, 'Canada': 127, 'Canal': 128, 'Capital': 129, 'Catering': 130, 'Center': 131, 'Certainly': 132, 'Change': 133, 'Chapter': 134, 'Chicago': 135, 'Chief': 136, 'Children': 137, 'China': 138, 'Chinese': 139, 'Choosing': 140, 'Chosun': 141, 'Christmas': 142, 'Chuseok': 143, 'City': 144, 'Class': 145, 'Click': 146, 'Clothing': 147, 'Cloud': 148, 'Come': 149, 'Company': 150, 'Compatible': 151, 'Completion': 152, 'Consider': 153, 'Considering': 154, 'Contact': 155, 'Content': 156, 'Continental': 157, 'Continue': 158, 'Control': 159, 'Convention': 160, 'Cool': 161, 'Copyright': 162, 'Corp': 163, 'Corporation': 164, 'Correct': 165, 'Could': 166, 'Court': 167, 'Crowdfunding': 168, 'Cryptocurrency': 169, 'Currently': 170, 'D': 171, 'DCA': 172, 'DVR': 173, 'Daegu': 174, 'Dak': 175, 'Dear': 176, 'December': 177, 'Definitely': 178, 'Denmark': 179, 'Department': 180, 'Depends': 181, 'Design': 182, 'Despite': 183, 'Details': 184, 'Devices': 185, 'Did': 186, 'Didn': 187, 'Different': 188, 'Disclosing': 189, 'District': 190, 'Do': 191, 'Documents': 192, 'Does': 193, 'Don': 194, 'Download': 195, 'Dr': 196, 'Drive': 197, 'Due': 198, 'Duly': 199, 'During': 200, 'E': 201, 'EOB': 202, 'EPP': 203, 'ESG': 204, 'EST': 205, 'ETF': 206, 'ETFs': 207, 'EVA': 208, 'Each': 209, 'Earth': 210, 'East': 211, 'Eastern': 212, 'Egyptian': 213, 'Eh': 214, 'Emerald': 215, 'Emerging': 216, 'Emily': 217, 'Encryption': 218, 'Engine': 219, 'Engines': 220, 'England': 221, 'English': 222, 'Equipment': 223, 'Especially': 224, 'Essentially': 225, 'Europe': 226, 'European': 227, 'Euros': 228, 'Even': 229, 'Events': 230, 'Every': 231, 'Everyone': 232, 'Everything': 233, 'Exactly': 234, 'Excellent': 235, 'Exchange': 236, 'Excuse': 237, 'Exit': 238, 'Expect': 239, 'Expo': 240, 'FDI': 241, 'FFF': 242, 'FOMO': 243, 'Factors': 244, 'Failure': 245, 'Fantastic': 246, 'February': 247, 'Federal': 248, 'Feel': 249, 'Festival': 250, 'Fi': 251, 'Fifth': 252, 'Filipino': 253, 'Finally': 254, 'Financial': 255, 'Find': 256, 'Fine': 257, 'Fingers': 258, 'First': 259, 'Firstly': 260, 'Five': 261, 'Flashes': 262, 'Flexibility': 263, 'Food': 264, 'For': 265, 'Foreigners': 266, 'Fortunately': 267, 'Fourth': 268, 'France': 269, 'Francisco': 270, 'French': 271, 'Friday': 272, 'From': 273, 'Fu': 274, 'Furthermore': 275, 'Futons': 276, 'Futures': 277, 'G': 278, 'GB': 279, 'GPS': 280, 'GVWR': 281, 'Gains': 282, 'Gangnam': 283, 'Gangneung': 284, 'Gas': 285, 'Generally': 286, 'Georgia': 287, 'Germany': 288, 'Get': 289, 'Ginseng': 290, 'Give': 291, 'Given': 292, 'Giving': 293, 'Go': 294, 'Good': 295, 'Got': 296, 'Graphic': 297, 'Great': 298, 'Greek': 299, 'Greetings': 300, 'Group': 301, 'Guam': 302, 'Gujeolpan': 303, 'Gyeonggi': 304, 'HDD': 305, 'HR': 306, 'HTML': 307, 'Hackers': 308, 'Halal': 309, 'Hanok': 310, 'Has': 311, 'Have': 312, 'Having': 313, 'Hawaii': 314, 'He': 315, 'Helllo': 316, 'Hello': 317, 'Hence': 318, 'Her': 319, 'Here': 320, 'Hey': 321, 'Hi': 322, 'Hmm': 323, 'Hokkaido': 324, 'Hold': 325, 'Hopefully': 326, 'Hotel': 327, 'How': 328, 'However': 329, 'I': 330, 'ID': 331, 'IDs': 332, 'IP': 333, 'IPO': 334, 'IPOs': 335, 'IT': 336, 'IVR': 337, 'IaaS': 338, 'If': 339, 'Ilsan': 340, 'In': 341, 'Incentives': 342, 'Incheon': 343, 'Incorporation': 344, 'Indeed': 345, 'Independent': 346, 'India': 347, 'Indian': 348, 'Indonesia': 349, 'Indonesian': 350, 'Inflation': 351, 'Influencer': 352, 'Innovations': 353, 'Installing': 354, 'Instant': 355, 'Insurance': 356, 'Interesting': 357, 'International': 358, 'Internet': 359, 'Intraday': 360, 'Invest': 361, 'Investments': 362, 'Investors': 363, 'IoT': 364, 'Is': 365, 'Isn': 366, 'It': 367, 'Italian': 368, 'Italy': 369, 'JLPT': 370, 'January': 371, 'Japan': 372, 'Japanese': 373, 'Jeju': 374, 'Jeonbyeong': 375, 'Jjimjilbang': 376, 'Jongno': 377, 'July': 378, 'Jun': 379, 'June': 380, 'Just': 381, 'K': 382, 'KOSDAQ': 383, 'KST': 384, 'Kabsat': 385, 'Keep': 386, 'Kimchi': 387, 'Kindly': 388, 'Kingdom': 389, 'Know': 390, 'Knowing': 391, 'Kolkata': 392, 'Korea': 393, 'Korean': 394, 'Koreans': 395, 'Kuala': 396, 'LED': 397, 'Language': 398, 'Last': 399, 'Lastly': 400, 'Later': 401, 'Latest': 402, 'Law': 403, 'Learning': 404, 'Let': 405, 'Life': 406, 'Like': 407, 'Likewise': 408, 'Limited': 409, 'Listen': 410, 'Little': 411, 'Liverpool': 412, 'Loans': 413, 'Locust': 414, 'Log': 415, 'London': 416, 'Looking': 417, 'Losers': 418, 'Loss': 419, 'Lovely': 420, 'Low': 421, 'Luckily': 422, 'Lumpur': 423, 'M': 424, 'MAR': 425, 'MMS': 426, 'MOU': 427, 'Ma': 428, 'Madrid': 429, 'Mainly': 430, 'Maintaining': 431, 'Make': 432, 'Making': 433, 'Malaysia': 434, 'Management': 435, 'Manali': 436, 'Mandarin': 437, 'Manila': 438, 'Many': 439, 'Mapo': 440, 'Mapping': 441, 'March': 442, 'Marketing': 443, 'May': 444, 'Maybe': 445, 'Me': 446, 'Meaning': 447, 'Meanwhile': 448, 'Mechanical': 449, 'Media': 450, 'Medical': 451, 'Members': 452, 'Metaverse': 453, 'Michelin': 454, 'Minting': 455, 'Mobile': 456, 'Monday': 457, 'Month': 458, 'More': 459, 'Moreover': 460, 'Most': 461, 'Moving': 462, 'Mr': 463, 'Mrs': 464, 'Ms': 465, 'Music': 466, 'My': 467, 'Myanmar': 468, 'NFT': 469, 'NFTs': 470, 'NI': 471, 'NSE': 472, 'NTFS': 473, 'Naturally': 474, 'Needles': 475, 'Network': 476, 'Never': 477, 'New': 478, 'News': 479, 'Next': 480, 'Nigeria': 481, 'No': 482, 'Nobody': 483, 'Non': 484, 'None': 485, 'Normally': 486, 'North': 487, 'Not': 488, 'Noted': 489, 'Nothing': 490, 'November': 491, 'Now': 492, 'Nowadays': 493, 'OK': 494, 'OKK': 495, 'OS': 496, 'October': 497, 'Of': 498, 'Off': 499, 'Offering': 500, 'Office': 501, 'Officer': 502, 'Oh': 503, 'Ohio': 504, 'Ok': 505, 'Okay': 506, 'Omji': 507, 'On': 508, 'Once': 509, 'One': 510, 'Only': 511, 'Ontario': 512, 'Optimization': 513, 'Or': 514, 'Originally': 515, 'Others': 516, 'Otherwise': 517, 'Our': 518, 'Out': 519, 'Over': 520, 'Overall': 521, 'PDA': 522, 'PDF': 523, 'PM': 524, 'PPE': 525, 'PR': 526, 'PRO': 527, 'PSAs': 528, 'PVP': 529, 'Pakistan': 530, 'Palm': 531, 'Paper': 532, 'Paris': 533, 'Paying': 534, 'Payment': 535, 'Pelmeni': 536, 'People': 537, 'Perfect': 538, 'Perhaps': 539, 'Philippines': 540, 'Place': 541, 'Please': 542, 'Plenty': 543, 'Plummer': 544, 'Plus': 545, 'Pohang': 546, 'Pot': 547, 'Precisely': 548, 'Precision': 549, 'Predicting': 550, 'President': 551, 'Prices': 552, 'Private': 553, 'Probably': 554, 'Product': 555, 'Publishing': 556, 'Python': 557, 'QR': 558, 'Quality': 559, 'RAM': 560, 'RV': 561, 'Radio': 562, 'Recently': 563, 'Red': 564, 'Regarding': 565, 'Regardless': 566, 'Regrettably': 567, 'Resolution': 568, 'Rest': 569, 'Retailers': 570, 'Right': 571, 'Room': 572, 'SD': 573, 'SEO': 574, 'SIM': 575, 'SKUs': 576, 'SPV': 577, 'SSD': 578, 'SSL': 579, 'Sadly': 580, 'Saeng': 581, 'Sakyamuni': 582, 'Salalah': 583, 'San': 584, 'Sashimi': 585, 'Saturday': 586, 'Sauna': 587, 'Say': 588, 'Schools': 589, 'Search': 590, 'Second': 591, 'Security': 592, 'See': 593, 'Send': 594, 'Seoul': 595, 'September': 596, 'Series': 597, 'Services': 598, 'Several': 599, 'Shall': 600, 'Shampoo': 601, 'Shanghai': 602, 'She': 603, 'Shop': 604, 'Should': 605, 'Signals': 606, 'Signature': 607, 'Similar': 608, 'Simply': 609, 'Since': 610, 'Singapore': 611, 'Singaporean': 612, 'Sir': 613, 'Skim': 614, 'So': 615, 'Social': 616, 'Soju': 617, 'Solar': 618, 'Some': 619, 'Someone': 620, 'Something': 621, 'Sometimes': 622, 'Soon': 623, 'Sorry': 624, 'Sounds': 625, 'South': 626, 'Southeast': 627, 'Spain': 628, 'Spanish': 629, 'Speaking': 630, 'Specifically': 631, 'Springs': 632, 'Square': 633, 'Starting': 634, 'States': 635, 'Station': 636, 'Stay': 637, 'Staying': 638, 'Still': 639, 'Stock': 640, 'Street': 641, 'Stroganoff': 642, 'Submit': 643, 'Submitting': 644, 'Such': 645, 'Sudan': 646, 'Suez': 647, 'Suite': 648, 'Sun': 649, 'Sunday': 650, 'Sure': 651, 'TPU': 652, 'TV': 653, 'Taegeuk': 654, 'Taeguekgi': 655, 'Taiwan': 656, 'Take': 657, 'Task': 658, 'Team': 659, 'Tech': 660, 'Technical': 661, 'Technology': 662, 'Tell': 663, 'Temple': 664, 'Ten': 665, 'Thai': 666, 'Thailand': 667, 'Thank': 668, 'Thanks': 669, 'That': 670, 'The': 671, 'Their': 672, 'Then': 673, 'There': 674, 'Therefore': 675, 'These': 676, 'They': 677, 'Things': 678, 'Third': 679, 'Thirdly': 680, 'This': 681, 'Those': 682, 'Three': 683, 'Through': 684, 'Thursday': 685, 'Thursdays': 686, 'Thus': 687, 'Times': 688, 'To': 689, 'Today': 690, 'Tokens': 691, 'Tokyo': 692, 'Tong': 693, 'Tongdosa': 694, 'Topics': 695, 'Touch': 696, 'Trade': 697, 'Trust': 698, 'Truth': 699, 'Try': 700, 'Tuesday': 701, 'Turkish': 702, 'UI': 703, 'UN': 704, 'US': 705, 'USA': 706, 'USB': 707, 'USBs': 708, 'Ukraine': 709, 'Ulsan': 710, 'Ultimately': 711, 'Under': 712, 'Unfortunately': 713, 'United': 714, 'Universal': 715, 'University': 716, 'Unless': 717, 'Unlike': 718, 'Until': 719, 'Upon': 720, 'Users': 721, 'Using': 722, 'Usually': 723, 'VC': 724, 'VIP': 725, 'VPN': 726, 'VR': 727, 'VVIP': 728, 'Vacationing': 729, 'Various': 730, 'Vegetables': 731, 'Venezuela': 732, 'Very': 733, 'Vietnam': 734, 'View': 735, 'Virtual': 736, 'Visual': 737, 'Visualization': 738, 'WIFI': 739, 'WTO': 740, 'Wait': 741, 'Was': 742, 'We': 743, 'Webcasting': 744, 'Wednesday': 745, 'Welcome': 746, 'Well': 747, 'Were': 748, 'Weren': 749, 'What': 750, 'Whatever': 751, 'WhatsApp': 752, 'When': 753, 'Where': 754, 'Which': 755, 'While': 756, 'Who': 757, 'Whom': 758, 'Why': 759, 'Wi': 760, 'Will': 761, 'Wishing': 762, 'With': 763, 'Without': 764, 'Won': 765, 'Wonderful': 766, 'Wonju': 767, 'Would': 768, 'Wouldn': 769, 'Wow': 770, 'X': 771, 'Yeah': 772, 'Yebool': 773, 'Yellowknife': 774, 'Yes': 775, 'Yet': 776, 'York': 777, 'Yorkshire': 778, 'You': 779, 'Your': 780, 'Yukhoe': 781, 'Yup': 782, 'Zealand': 783, 'a': 784, 'abbreviation': 785, 'ability': 786, 'able': 787, 'about': 788, 'above': 789, 'abroad': 790, 'absent': 791, 'absolutely': 792, 'absorption': 793, 'academe': 794, 'academic': 795, 'accelerate': 796, 'accept': 797, 'acceptable': 798, 'acceptance': 799, 'accepted': 800, 'accepting': 801, 'access': 802, 'accessed': 803, 'accessibility': 804, 'accessible': 805, 'accessing': 806, 'accessories': 807, 'accidental': 808, 'accidentally': 809, 'accidents': 810, 'accommodate': 811, 'accommodating': 812, 'accommodation': 813, 'accommodations': 814, 'accomodating': 815, 'accomplish': 816, 'accomplished': 817, 'accordance': 818, 'according': 819, 'accordingly': 820, 'account': 821, 'accountancy': 822, 'accountant': 823, 'accounted': 824, 'accounting': 825, 'accounts': 826, 'accrual': 827, 'accumulated': 828, 'accuracy': 829, 'accurate': 830, 'accurately': 831, 'achieve': 832, 'achieved': 833, 'achievement': 834, 'achievements': 835, 'achieving': 836, 'acknowledge': 837, 'acne': 838, 'acoustic': 839, 'acoustics': 840, 'acquaint': 841, 'acquire': 842, 'acquired': 843, 'acquiring': 844, 'acquisition': 845, 'across': 846, 'act': 847, 'action': 848, 'actions': 849, 'activate': 850, 'activated': 851, 'active': 852, 'activities': 853, 'activity': 854, 'actors': 855, 'actual': 856, 'actualize': 857, 'actually': 858, 'acute': 859, 'ad': 860, 'adaptations': 861, 'adapter': 862, 'adaptive': 863, 'adaptor': 864, 'adaptors': 865, 'add': 866, 'added': 867, 'addendum': 868, 'adding': 869, 'addition': 870, 'additional': 871, 'address': 872, 'addressed': 873, 'addresses': 874, 'addressing': 875, 'adequately': 876, 'adhere': 877, 'adhesive': 878, 'adjust': 879, 'adjustable': 880, 'adjusted': 881, 'adjustment': 882, 'adjustments': 883, 'administration': 884, 'administrative': 885, 'administrators': 886, 'admission': 887, 'adopt': 888, 'ads': 889, 'adult': 890, 'adults': 891, 'advance': 892, 'advanced': 893, 'advancement': 894, 'advancing': 895, 'advantage': 896, 'advantageous': 897, 'advantages': 898, 'adventure': 899, 'advertise': 900, 'advertisement': 901, 'advertisements': 902, 'advertising': 903, 'adverts': 904, 'advice': 905, 'advisable': 906, 'advise': 907, 'advised': 908, 'advisers': 909, 'advises': 910, 'advisor': 911, 'advisory': 912, 'aesthetic': 913, 'affairs': 914, 'affect': 915, 'affected': 916, 'affecting': 917, 'affects': 918, 'affiliate': 919, 'affiliated': 920, 'affluent': 921, 'afford': 922, 'affordability': 923, 'affordable': 924, 'afloat': 925, 'aforementioned': 926, 'afraid': 927, 'after': 928, 'afternoon': 929, 'afterward': 930, 'again': 931, 'against': 932, 'age': 933, 'aged': 934, 'agencies': 935, 'agency': 936, 'agenda': 937, 'agent': 938, 'ages': 939, 'ago': 940, 'agree': 941, 'agreed': 942, 'agreeing': 943, 'agreement': 944, 'agrees': 945, 'agricultural': 946, 'agriculture': 947, 'ahead': 948, 'aid': 949, 'aids': 950, 'aim': 951, 'aims': 952, 'air': 953, 'aircraft': 954, 'airing': 955, 'airlines': 956, 'airport': 957, 'airports': 958, 'airtime': 959, 'alarm': 960, 'albeit': 961, 'album': 962, 'albums': 963, 'alcohol': 964, 'alcoholic': 965, 'alert': 966, 'algorithm': 967, 'algorithms': 968, 'aligned': 969, 'alkaline': 970, 'all': 971, 'allegations': 972, 'allergic': 973, 'allergies': 974, 'alliance': 975, 'allocate': 976, 'allocation': 977, 'allocations': 978, 'allow': 979, 'allowed': 980, 'allowing': 981, 'allows': 982, 'almost': 983, 'alone': 984, 'along': 985, 'already': 986, 'alright': 987, 'also': 988, 'alternative': 989, 'alternatives': 990, 'although': 991, 'aluminum': 992, 'always': 993, 'am': 994, 'amazing': 995, 'ambassador': 996, 'ambiance': 997, 'ambulation': 998, 'ambulatory': 999, 'amend': 1000, 'amends': 1001, 'amenities': 1002, 'amenity': 1003, 'among': 1004, 'amongst': 1005, 'amount': 1006, 'amounted': 1007, 'amounts': 1008, 'amplifier': 1009, 'amplify': 1010, 'an': 1011, 'analysis': 1012, 'analytics': 1013, 'analyze': 1014, 'analyzing': 1015, 'anchor': 1016, 'ancient': 1017, 'and': 1018, 'android': 1019, 'angel': 1020, 'angle': 1021, 'angry': 1022, 'animal': 1023, 'animated': 1024, 'animations': 1025, 'animators': 1026, 'ankle': 1027, 'anniversary': 1028, 'announce': 1029, 'announcement': 1030, 'announcements': 1031, 'announcers': 1032, 'annual': 1033, 'annually': 1034, 'annum': 1035, 'another': 1036, 'answer': 1037, 'answered': 1038, 'answering': 1039, 'antenna': 1040, 'antivirus': 1041, 'any': 1042, 'anybody': 1043, 'anymore': 1044, 'anyone': 1045, 'anything': 1046, 'anytime': 1047, 'anyway': 1048, 'anywhere': 1049, 'apart': 1050, 'apartment': 1051, 'apartments': 1052, 'apologies': 1053, 'apologize': 1054, 'apology': 1055, 'app': 1056, 'apparent': 1057, 'appeal': 1058, 'appealing': 1059, 'appeals': 1060, 'appear': 1061, 'appearance': 1062, 'appeared': 1063, 'appears': 1064, 'appended': 1065, 'appetizer': 1066, 'apple': 1067, 'appliances': 1068, 'applicable': 1069, 'application': 1070, 'applications': 1071, 'applied': 1072, 'applies': 1073, 'apply': 1074, 'applying': 1075, 'appointment': 1076, 'appraisal': 1077, 'appreciate': 1078, 'appreciated': 1079, 'appreciating': 1080, 'appreciation': 1081, 'approach': 1082, 'approached': 1083, 'appropriate': 1084, 'appropriately': 1085, 'approval': 1086, 'approve': 1087, 'approved': 1088, 'approximately': 1089, 'apps': 1090, 'aprtner': 1091, 'architectural': 1092, 'architecture': 1093, 'archives': 1094, 'are': 1095, 'area': 1096, 'areas': 1097, 'aren': 1098, 'arena': 1099, 'arises': 1100, 'aromatherapy': 1101, 'around': 1102, 'arrange': 1103, 'arranged': 1104, 'arrangement': 1105, 'arrangements': 1106, 'arranger': 1107, 'arrangers': 1108, 'arranging': 1109, 'array': 1110, 'arrival': 1111, 'arrive': 1112, 'arrived': 1113, 'arriving': 1114, 'art': 1115, 'article': 1116, 'articles': 1117, 'artificial': 1118, 'artillery': 1119, 'artist': 1120, 'artists': 1121, 'arts': 1122, 'artwork': 1123, 'artworks': 1124, 'as': 1125, 'asap': 1126, 'ashamed': 1127, 'aside': 1128, 'ask': 1129, 'asked': 1130, 'asking': 1131, 'asks': 1132, 'asleep': 1133, 'asparagus': 1134, 'aspect': 1135, 'aspects': 1136, 'asphalt': 1137, 'assembly': 1138, 'assessing': 1139, 'assessment': 1140, 'asset': 1141, 'assets': 1142, 'assign': 1143, 'assigned': 1144, 'assist': 1145, 'assistance': 1146, 'assistant': 1147, 'assisting': 1148, 'assistive': 1149, 'associate': 1150, 'associated': 1151, 'associates': 1152, 'association': 1153, 'assumed': 1154, 'assuming': 1155, 'assurance': 1156, 'assure': 1157, 'assured': 1158, 'assures': 1159, 'assuring': 1160, 'at': 1161, 'ate': 1162, 'atmosphere': 1163, 'attach': 1164, 'attached': 1165, 'attack': 1166, 'attacks': 1167, 'attain': 1168, 'attains': 1169, 'attempted': 1170, 'attend': 1171, 'attendance': 1172, 'attended': 1173, 'attending': 1174, 'attention': 1175, 'attest': 1176, 'attorney': 1177, 'attract': 1178, 'attracted': 1179, 'attributes': 1180, 'attrition': 1181, 'audience': 1182, 'audiences': 1183, 'audio': 1184, 'audiovisual': 1185, 'audit': 1186, 'audited': 1187, 'auditing': 1188, 'authentic': 1189, 'author': 1190, 'authored': 1191, 'authorities': 1192, 'authority': 1193, 'authorization': 1194, 'authorized': 1195, 'authors': 1196, 'auto': 1197, 'autobiographies': 1198, 'autoclave': 1199, 'automate': 1200, 'automated': 1201, 'automatic': 1202, 'automatically': 1203, 'automation': 1204, 'automobile': 1205, 'automotive': 1206, 'autumn': 1207, 'auxiliary': 1208, 'avail': 1209, 'availability': 1210, 'available': 1211, 'availed': 1212, 'availing': 1213, 'avenue': 1214, 'average': 1215, 'avoid': 1216, 'await': 1217, 'awake': 1218, 'awarded': 1219, 'aware': 1220, 'awareness': 1221, 'away': 1222, 'awesome': 1223, 'ay': 1224, 'babies': 1225, 'baby': 1226, 'back': 1227, 'backdrops': 1228, 'backers': 1229, 'background': 1230, 'backgrounds': 1231, 'backhoe': 1232, 'backing': 1233, 'backlinks': 1234, 'backlog': 1235, 'backup': 1236, 'backward': 1237, 'backyard': 1238, 'bacteria': 1239, 'bad': 1240, 'baffling': 1241, 'baker': 1242, 'bakery': 1243, 'baking': 1244, 'balance': 1245, 'ball': 1246, 'ballpark': 1247, 'bamboo': 1248, 'ban': 1249, 'banana': 1250, 'banchan': 1251, 'band': 1252, 'bands': 1253, 'bandwidth': 1254, 'bank': 1255, 'banker': 1256, 'banking': 1257, 'bankruptcy': 1258, 'banks': 1259, 'banner': 1260, 'banners': 1261, 'banquet': 1262, 'bar': 1263, 'barbecue': 1264, 'barbeque': 1265, 'bare': 1266, 'barely': 1267, 'bargain': 1268, 'barrier': 1269, 'bars': 1270, 'base': 1271, 'based': 1272, 'basement': 1273, 'basic': 1274, 'basically': 1275, 'basics': 1276, 'basis': 1277, 'bass': 1278, 'batch': 1279, 'bath': 1280, 'bathhouses': 1281, 'bathroom': 1282, 'bathrooms': 1283, 'baths': 1284, 'bathtub': 1285, 'batteries': 1286, 'battery': 1287, 'battling': 1288, 'bay': 1289, 'be': 1290, 'beach': 1291, 'beaches': 1292, 'beachside': 1293, 'beakers': 1294, 'beam': 1295, 'bean': 1296, 'bear': 1297, 'bearer': 1298, 'bearing': 1299, 'beats': 1300, 'beautiful': 1301, 'beauty': 1302, 'became': 1303, 'because': 1304, 'become': 1305, 'becomes': 1306, 'becoming': 1307, 'bed': 1308, 'bedroom': 1309, 'bedrooms': 1310, 'beds': 1311, 'beef': 1312, 'been': 1313, 'beeps': 1314, 'beer': 1315, 'before': 1316, 'beforehand': 1317, 'beg': 1318, 'began': 1319, 'begging': 1320, 'begin': 1321, 'beginning': 1322, 'behalf': 1323, 'behavior': 1324, 'behind': 1325, 'being': 1326, 'believe': 1327, 'believes': 1328, 'belly': 1329, 'belongs': 1330, 'below': 1331, 'belts': 1332, 'benchtop': 1333, 'bending': 1334, 'beneficial': 1335, 'beneficiaries': 1336, 'benefit': 1337, 'benefits': 1338, 'bento': 1339, 'berthing': 1340, 'beside': 1341, 'besides': 1342, 'best': 1343, 'bet': 1344, 'beta': 1345, 'better': 1346, 'between': 1347, 'bevel': 1348, 'beverage': 1349, 'beverages': 1350, 'beyond': 1351, 'biannual': 1352, 'bibimbap': 1353, 'bibimnaengmyun': 1354, 'bid': 1355, 'bidding': 1356, 'big': 1357, 'bigger': 1358, 'biggest': 1359, 'bikes': 1360, 'bill': 1361, 'billboards': 1362, 'billed': 1363, 'billing': 1364, 'billion': 1365, 'bills': 1366, 'bins': 1367, 'biodata': 1368, 'biodegradable': 1369, 'biometrics': 1370, 'bird': 1371, 'birds': 1372, 'birthday': 1373, 'biryani': 1374, 'biscuits': 1375, 'bistro': 1376, 'bit': 1377, 'bitcoin': 1378, 'bite': 1379, 'black': 1380, 'blackout': 1381, 'blades': 1382, 'blanks': 1383, 'blending': 1384, 'blends': 1385, 'blessed': 1386, 'blind': 1387, 'blinking': 1388, 'bliss': 1389, 'block': 1390, 'blockchain': 1391, 'blog': 1392, 'blood': 1393, 'blow': 1394, 'blown': 1395, 'blue': 1396, 'blueprint': 1397, 'blurry': 1398, 'board': 1399, 'boarding': 1400, 'boards': 1401, 'boats': 1402, 'bodies': 1403, 'body': 1404, 'bodysuit': 1405, 'bohemian': 1406, 'boiled': 1407, 'boiling': 1408, 'bokkeum': 1409, 'bold': 1410, 'bolder': 1411, 'bond': 1412, 'bonding': 1413, 'bonds': 1414, 'book': 1415, 'booked': 1416, 'booking': 1417, 'bookings': 1418, 'bookrunners': 1419, 'books': 1420, 'bookstores': 1421, 'boom': 1422, 'boost': 1423, 'booting': 1424, 'boots': 1425, 'border': 1426, 'bore': 1427, 'bored': 1428, 'boring': 1429, 'born': 1430, 'borrow': 1431, 'borrower': 1432, 'borrowing': 1433, 'boss': 1434, 'bot': 1435, 'both': 1436, 'bothering': 1437, 'bottle': 1438, 'bottles': 1439, 'bottom': 1440, 'bought': 1441, 'bow': 1442, 'bowl': 1443, 'bowls': 1444, 'box': 1445, 'boxes': 1446, 'boy': 1447, 'bragging': 1448, 'braille': 1449, 'brainstorm': 1450, 'brake': 1451, 'branch': 1452, 'branches': 1453, 'brand': 1454, 'branded': 1455, 'branding': 1456, 'brands': 1457, 'brave': 1458, 'breach': 1459, 'breached': 1460, 'breaches': 1461, 'bread': 1462, 'break': 1463, 'breakdown': 1464, 'breakdowns': 1465, 'breakeven': 1466, 'breakfast': 1467, 'breast': 1468, 'breathing': 1469, 'breathtaking': 1470, 'breeding': 1471, 'breeze': 1472, 'brewed': 1473, 'bride': 1474, 'bridge': 1475, 'brief': 1476, 'briefing': 1477, 'brilliant': 1478, 'bring': 1479, 'bringer': 1480, 'bringing': 1481, 'brings': 1482, 'broadband': 1483, 'broadcast': 1484, 'broadcasted': 1485, 'broadcasting': 1486, 'brochure': 1487, 'brochures': 1488, 'broken': 1489, 'broker': 1490, 'brokerage': 1491, 'brokerages': 1492, 'brokers': 1493, 'bronze': 1494, 'broth': 1495, 'brother': 1496, 'brought': 1497, 'browse': 1498, 'browser': 1499, 'browsers': 1500, 'browsing': 1501, 'bubble': 1502, 'bucks': 1503, 'budget': 1504, 'buffet': 1505, 'bug': 1506, 'bugs': 1507, 'build': 1508, 'building': 1509, 'builds': 1510, 'built': 1511, 'bulgogi': 1512, 'bulk': 1513, 'bull': 1514, 'bulldozer': 1515, 'bunch': 1516, 'bundle': 1517, 'burners': 1518, 'bus': 1519, 'buses': 1520, 'business': 1521, 'businesses': 1522, 'businessman': 1523, 'businesswoman': 1524, 'busy': 1525, 'but': 1526, 'butterfly': 1527, 'button': 1528, 'buttons': 1529, 'buy': 1530, 'buyer': 1531, 'buyers': 1532, 'buying': 1533, 'by': 1534, 'bye': 1535, 'bytes': 1536, 'cabin': 1537, 'cabinets': 1538, 'cable': 1539, 'caching': 1540, 'caf': 1541, 'cafe': 1542, 'cafeteria': 1543, 'cake': 1544, 'calculate': 1545, 'calculated': 1546, 'calculations': 1547, 'calendar': 1548, 'call': 1549, 'called': 1550, 'calligraphy': 1551, 'calling': 1552, 'calls': 1553, 'calm': 1554, 'calming': 1555, 'cam': 1556, 'came': 1557, 'camera': 1558, 'cameras': 1559, 'camp': 1560, 'campaign': 1561, 'campaigns': 1562, 'camper': 1563, 'campfire': 1564, 'campground': 1565, 'camping': 1566, 'campsite': 1567, 'campsites': 1568, 'campus': 1569, 'can': 1570, 'cancel': 1571, 'cancelation': 1572, 'cancelations': 1573, 'canceled': 1574, 'canceling': 1575, 'cancellation': 1576, 'cancellations': 1577, 'cancelled': 1578, 'candies': 1579, 'candles': 1580, 'cannot': 1581, 'canteen': 1582, 'cap': 1583, 'capable': 1584, 'capacity': 1585, 'capital': 1586, 'capitalists': 1587, 'capture': 1588, 'capturing': 1589, 'car': 1590, 'carbon': 1591, 'carburetor': 1592, 'carburetors': 1593, 'card': 1594, 'cardiac': 1595, 'cards': 1596, 'care': 1597, 'career': 1598, 'careers': 1599, 'careful': 1600, 'carefully': 1601, 'cargo': 1602, 'carpeted': 1603, 'carried': 1604, 'carrier': 1605, 'carrot': 1606, 'carry': 1607, 'carrying': 1608, 'cars': 1609, 'cart': 1610, 'carton': 1611, 'cartoon': 1612, 'carts': 1613, 'case': 1614, 'cases': 1615, 'cash': 1616, 'cashier': 1617, 'cashless': 1618, 'casino': 1619, 'cast': 1620, 'casual': 1621, 'casualties': 1622, 'cat': 1623, 'catalog': 1624, 'catalogue': 1625, 'catastrophe': 1626, 'catch': 1627, 'categories': 1628, 'category': 1629, 'cater': 1630, 'caterers': 1631, 'catering': 1632, 'caterpillar': 1633, 'caught': 1634, 'cause': 1635, 'caused': 1636, 'causes': 1637, 'causing': 1638, 'cautious': 1639, 'cautiously': 1640, 'ceiling': 1641, 'ceilings': 1642, 'celebrate': 1643, 'celebration': 1644, 'celebrities': 1645, 'celebrity': 1646, 'celeriac': 1647, 'cell': 1648, 'center': 1649, 'centers': 1650, 'centimeter': 1651, 'centrifugal': 1652, 'centrifuge': 1653, 'centrifuges': 1654, 'cents': 1655, 'century': 1656, 'ceremonies': 1657, 'ceremony': 1658, 'certain': 1659, 'certainly': 1660, 'certificate': 1661, 'certificates': 1662, 'certification': 1663, 'certified': 1664, 'chain': 1665, 'chair': 1666, 'chairman': 1667, 'chairs': 1668, 'challenge': 1669, 'challenged': 1670, 'challenges': 1671, 'challenging': 1672, 'chamber': 1673, 'champagne': 1674, 'chance': 1675, 'chances': 1676, 'change': 1677, 'changed': 1678, 'changes': 1679, 'changing': 1680, 'channel': 1681, 'channels': 1682, 'chapbooks': 1683, 'characteristics': 1684, 'characters': 1685, 'charcoal': 1686, 'charge': 1687, 'charged': 1688, 'charger': 1689, 'charges': 1690, 'charging': 1691, 'charitable': 1692, 'charity': 1693, 'charm': 1694, 'chart': 1695, 'chasing': 1696, 'chat': 1697, 'chatroom': 1698, 'cheap': 1699, 'cheaper': 1700, 'cheapest': 1701, 'check': 1702, 'checked': 1703, 'checking': 1704, 'checklist': 1705, 'checkout': 1706, 'checks': 1707, 'checkup': 1708, 'cheerful': 1709, 'cheers': 1710, 'cheesecakes': 1711, 'chef': 1712, 'chefs': 1713, 'chemistry': 1714, 'cheque': 1715, 'chew': 1716, 'chicken': 1717, 'child': 1718, 'childhood': 1719, 'children': 1720, 'chili': 1721, 'chill': 1722, 'chilled': 1723, 'chimaek': 1724, 'chip': 1725, 'chips': 1726, 'chipsets': 1727, 'chitchat': 1728, 'chocolate': 1729, 'choice': 1730, 'choices': 1731, 'choose': 1732, 'choosing': 1733, 'chopstick': 1734, 'chopsticks': 1735, 'chores': 1736, 'chose': 1737, 'chosen': 1738, 'ciphertext': 1739, 'circuits': 1740, 'circulation': 1741, 'circumstance': 1742, 'circumstances': 1743, 'cities': 1744, 'citizen': 1745, 'citizens': 1746, 'citizenship': 1747, 'city': 1748, 'civil': 1749, 'claim': 1750, 'claiming': 1751, 'claims': 1752, 'clarify': 1753, 'clarifying': 1754, 'clarity': 1755, 'class': 1756, 'classes': 1757, 'classification': 1758, 'classmates': 1759, 'classroom': 1760, 'classrooms': 1761, 'clauses': 1762, 'clean': 1763, 'cleaner': 1764, 'cleaners': 1765, 'cleaning': 1766, 'cleansing': 1767, 'clear': 1768, 'clearance': 1769, 'cleared': 1770, 'clearer': 1771, 'clearly': 1772, 'clerk': 1773, 'clever': 1774, 'click': 1775, 'client': 1776, 'clientele': 1777, 'clients': 1778, 'climate': 1779, 'clinic': 1780, 'clinical': 1781, 'clip': 1782, 'clips': 1783, 'clock': 1784, 'clogged': 1785, 'close': 1786, 'closed': 1787, 'closely': 1788, 'closer': 1789, 'closes': 1790, 'closest': 1791, 'closet': 1792, 'closing': 1793, 'clothes': 1794, 'clothing': 1795, 'cloud': 1796, 'clouds': 1797, 'clubhouse': 1798, 'cluster': 1799, 'co': 1800, 'coach': 1801, 'coaches': 1802, 'coaching': 1803, 'coarrangers': 1804, 'coastal': 1805, 'cocks': 1806, 'cocktails': 1807, 'coconut': 1808, 'code': 1809, 'codebreaker': 1810, 'codes': 1811, 'coding': 1812, 'coffee': 1813, 'cogent': 1814, 'coins': 1815, 'cold': 1816, 'coliving': 1817, 'collaborate': 1818, 'collaborating': 1819, 'collaboration': 1820, 'collar': 1821, 'collateral': 1822, 'colleague': 1823, 'colleagues': 1824, 'collect': 1825, 'collectibles': 1826, 'collecting': 1827, 'collection': 1828, 'collective': 1829, 'collects': 1830, 'college': 1831, 'colleges': 1832, 'color': 1833, 'colored': 1834, 'colors': 1835, 'column': 1836, 'combination': 1837, 'combinations': 1838, 'combine': 1839, 'combustion': 1840, 'come': 1841, 'comes': 1842, 'comfort': 1843, 'comfortable': 1844, 'comfortably': 1845, 'coming': 1846, 'comm': 1847, 'commemorative': 1848, 'comment': 1849, 'comments': 1850, 'commerce': 1851, 'commercial': 1852, 'commission': 1853, 'commissioned': 1854, 'commissions': 1855, 'commit': 1856, 'commitment': 1857, 'commitments': 1858, 'committed': 1859, 'commodity': 1860, 'common': 1861, 'commonly': 1862, 'communal': 1863, 'communicate': 1864, 'communicated': 1865, 'communicating': 1866, 'communication': 1867, 'communications': 1868, 'communicative': 1869, 'communicator': 1870, 'communities': 1871, 'community': 1872, 'commuting': 1873, 'companies': 1874, 'company': 1875, 'compare': 1876, 'compared': 1877, 'comparison': 1878, 'compartments': 1879, 'compassionate': 1880, 'compatible': 1881, 'compelling': 1882, 'compensate': 1883, 'compensated': 1884, 'compensation': 1885, 'compete': 1886, 'competition': 1887, 'competitive': 1888, 'competitiveness': 1889, 'competitors': 1890, 'compiling': 1891, 'complain': 1892, 'complained': 1893, 'complaining': 1894, 'complaint': 1895, 'complaints': 1896, 'complete': 1897, 'completed': 1898, 'completely': 1899, 'completion': 1900, 'complex': 1901, 'compliance': 1902, 'complicated': 1903, 'complied': 1904, 'compliment': 1905, 'complimentary': 1906, 'compliments': 1907, 'comply': 1908, 'component': 1909, 'components': 1910, 'composed': 1911, 'composer': 1912, 'compound': 1913, 'comprehension': 1914, 'comprehensive': 1915, 'compressed': 1916, 'compression': 1917, 'compressor': 1918, 'compressors': 1919, 'compromise': 1920, 'compromising': 1921, 'computer': 1922, 'computers': 1923, 'computing': 1924, 'concentrate': 1925, 'concept': 1926, 'concepts': 1927, 'conceptual': 1928, 'concern': 1929, 'concerned': 1930, 'concerning': 1931, 'concerns': 1932, 'concert': 1933, 'concerts': 1934, 'concessions': 1935, 'conclusion': 1936, 'concrete': 1937, 'concretely': 1938, 'condenser': 1939, 'condiments': 1940, 'condition': 1941, 'conditioned': 1942, 'conditioner': 1943, 'conditioning': 1944, 'conditions': 1945, 'condo': 1946, 'conduct': 1947, 'conducted': 1948, 'conducting': 1949, 'conductors': 1950, 'conference': 1951, 'conferences': 1952, 'conferencing': 1953, 'confidence': 1954, 'confident': 1955, 'confidential': 1956, 'confidentiality': 1957, 'configurations': 1958, 'configure': 1959, 'confirm': 1960, 'confirmation': 1961, 'confirmed': 1962, 'confirming': 1963, 'confused': 1964, 'congested': 1965, 'congestion': 1966, 'congrats': 1967, 'congratulate': 1968, 'congratulations': 1969, 'connect': 1970, 'connected': 1971, 'connecting': 1972, 'connection': 1973, 'connections': 1974, 'connectivity': 1975, 'connects': 1976, 'cons': 1977, 'conscientious': 1978, 'conscious': 1979, 'consciousness': 1980, 'consequences': 1981, 'consider': 1982, 'considerable': 1983, 'consideration': 1984, 'considered': 1985, 'considering': 1986, 'consignment': 1987, 'consist': 1988, 'consistent': 1989, 'consists': 1990, 'consoles': 1991, 'consolidate': 1992, 'constant': 1993, 'constantly': 1994, 'construct': 1995, 'constructed': 1996, 'construction': 1997, 'constructive': 1998, 'consult': 1999, 'consultancy': 2000, 'consultant': 2001, 'consultants': 2002, 'consultation': 2003, 'consulted': 2004, 'consulting': 2005, 'consume': 2006, 'consumers': 2007, 'consuming': 2008, 'consumption': 2009, 'contact': 2010, 'contacted': 2011, 'contacting': 2012, 'contacts': 2013, 'contain': 2014, 'container': 2015, 'containers': 2016, 'containing': 2017, 'contains': 2018, 'contemplate': 2019, 'contemporary': 2020, 'contenders': 2021, 'content': 2022, 'contents': 2023, 'context': 2024, 'continent': 2025, 'continental': 2026, 'continue': 2027, 'continuous': 2028, 'continuously': 2029, 'contract': 2030, 'contracted': 2031, 'contracts': 2032, 'contrary': 2033, 'contribute': 2034, 'contributed': 2035, 'contributes': 2036, 'contribution': 2037, 'contributors': 2038, 'control': 2039, 'controlled': 2040, 'controversial': 2041, 'convenience': 2042, 'convenient': 2043, 'conventional': 2044, 'conversation': 2045, 'conversational': 2046, 'conversations': 2047, 'conversion': 2048, 'conversions': 2049, 'converted': 2050, 'converting': 2051, 'convey': 2052, 'conveyor': 2053, 'conveyors': 2054, 'convince': 2055, 'convincing': 2056, 'cook': 2057, 'cooked': 2058, 'cookies': 2059, 'cooking': 2060, 'cooks': 2061, 'cool': 2062, 'cooldown': 2063, 'coolers': 2064, 'cooling': 2065, 'cooperation': 2066, 'cooperative': 2067, 'cooperatives': 2068, 'coordinate': 2069, 'coordinates': 2070, 'copay': 2071, 'copiers': 2072, 'copies': 2073, 'copy': 2074, 'copyediting': 2075, 'copyright': 2076, 'copyrighted': 2077, 'copyrights': 2078, 'cords': 2079, 'core': 2080, 'corkage': 2081, 'corn': 2082, 'corner': 2083, 'coronavirus': 2084, 'corporate': 2085, 'corporation': 2086, 'corporations': 2087, 'correct': 2088, 'correctly': 2089, 'cosigner': 2090, 'cosmetic': 2091, 'cosmetics': 2092, 'cosmic': 2093, 'cost': 2094, 'costs': 2095, 'cotton': 2096, 'could': 2097, 'couldn': 2098, 'council': 2099, 'counseling': 2100, 'count': 2101, 'countdown': 2102, 'counterpart': 2103, 'counting': 2104, 'countries': 2105, 'country': 2106, 'countryside': 2107, 'couple': 2108, 'coupled': 2109, 'coupon': 2110, 'courier': 2111, 'course': 2112, 'coursed': 2113, 'courses': 2114, 'court': 2115, 'cousin': 2116, 'cover': 2117, 'coverage': 2118, 'covered': 2119, 'covers': 2120, 'cozy': 2121, 'crab': 2122, 'cracks': 2123, 'crane': 2124, 'cranes': 2125, 'crash': 2126, 'crashed': 2127, 'crashing': 2128, 'cream': 2129, 'create': 2130, 'created': 2131, 'creates': 2132, 'creating': 2133, 'creation': 2134, 'creative': 2135, 'creatives': 2136, 'creator': 2137, 'creators': 2138, 'credentials': 2139, 'credit': 2140, 'credited': 2141, 'creditor': 2142, 'creditors': 2143, 'credits': 2144, 'creditworthy': 2145, 'crib': 2146, 'crime': 2147, 'crimes': 2148, 'criminals': 2149, 'criteria': 2150, 'critical': 2151, 'critics': 2152, 'croissants': 2153, 'crooks': 2154, 'crop': 2155, 'crops': 2156, 'cross': 2157, 'crossed': 2158, 'crowd': 2159, 'crowdfunding': 2160, 'crucial': 2161, 'crude': 2162, 'crux': 2163, 'crypto': 2164, 'cryptocurrencies': 2165, 'cryptocurrency': 2166, 'cryptography': 2167, 'cues': 2168, 'cuisine': 2169, 'culinary': 2170, 'culprits': 2171, 'cultivating': 2172, 'cultural': 2173, 'culture': 2174, 'cumbersome': 2175, 'cup': 2176, 'curious': 2177, 'currencies': 2178, 'currency': 2179, 'current': 2180, 'currently': 2181, 'cursive': 2182, 'curtains': 2183, 'curve': 2184, 'cushion': 2185, 'custom': 2186, 'customer': 2187, 'customers': 2188, 'customizable': 2189, 'customization': 2190, 'customize': 2191, 'customized': 2192, 'customs': 2193, 'cut': 2194, 'cutlery': 2195, 'cuts': 2196, 'cutter': 2197, 'cutters': 2198, 'cutting': 2199, 'cyber': 2200, 'cybercrime': 2201, 'cybersecurity': 2202, 'cycle': 2203, 'cylinder': 2204, 'cylinders': 2205, 'd': 2206, 'daily': 2207, 'dairy': 2208, 'damage': 2209, 'damaged': 2210, 'damages': 2211, 'dancing': 2212, 'dangerous': 2213, 'dangers': 2214, 'dark': 2215, 'data': 2216, 'database': 2217, 'date': 2218, 'dated': 2219, 'dates': 2220, 'dating': 2221, 'daunting': 2222, 'day': 2223, 'days': 2224, 'deadline': 2225, 'deadlines': 2226, 'deaf': 2227, 'deal': 2228, 'dealer': 2229, 'dealers': 2230, 'dealership': 2231, 'dealing': 2232, 'deals': 2233, 'debit': 2234, 'debt': 2235, 'debtee': 2236, 'debtor': 2237, 'debtors': 2238, 'debts': 2239, 'debut': 2240, 'decade': 2241, 'decades': 2242, 'decent': 2243, 'decide': 2244, 'decided': 2245, 'decides': 2246, 'deciding': 2247, 'decision': 2248, 'decisions': 2249, 'deck': 2250, 'decks': 2251, 'declare': 2252, 'decline': 2253, 'declined': 2254, 'declining': 2255, 'decode': 2256, 'decorate': 2257, 'decorations': 2258, 'decrease': 2259, 'decryption': 2260, 'dedicate': 2261, 'dedicated': 2262, 'deduct': 2263, 'deducted': 2264, 'deducting': 2265, 'deeds': 2266, 'deep': 2267, 'deeply': 2268, 'default': 2269, 'defaulter': 2270, 'defect': 2271, 'defective': 2272, 'defects': 2273, 'defense': 2274, 'deficit': 2275, 'deficits': 2276, 'defined': 2277, 'definite': 2278, 'definitely': 2279, 'definition': 2280, 'degree': 2281, 'dehydration': 2282, 'delay': 2283, 'delayed': 2284, 'delays': 2285, 'delegates': 2286, 'delete': 2287, 'deleted': 2288, 'delicious': 2289, 'delight': 2290, 'delighted': 2291, 'delightful': 2292, 'delineates': 2293, 'deliver': 2294, 'delivered': 2295, 'deliveries': 2296, 'delivering': 2297, 'delivers': 2298, 'delivery': 2299, 'deluxe': 2300, 'demand': 2301, 'demanded': 2302, 'demanding': 2303, 'demands': 2304, 'demat': 2305, 'demerits': 2306, 'demographics': 2307, 'demonstration': 2308, 'demos': 2309, 'dental': 2310, 'deny': 2311, 'department': 2312, 'departments': 2313, 'depend': 2314, 'dependable': 2315, 'dependents': 2316, 'depending': 2317, 'depends': 2318, 'deploy': 2319, 'deployment': 2320, 'deposit': 2321, 'deposited': 2322, 'depositing': 2323, 'deposits': 2324, 'derrick': 2325, 'describe': 2326, 'description': 2327, 'descriptions': 2328, 'deserve': 2329, 'design': 2330, 'designation': 2331, 'designed': 2332, 'designer': 2333, 'designers': 2334, 'designs': 2335, 'desire': 2336, 'desired': 2337, 'desk': 2338, 'desktop': 2339, 'desperately': 2340, 'despite': 2341, 'dessert': 2342, 'desserts': 2343, 'destination': 2344, 'destinations': 2345, 'destroys': 2346, 'detail': 2347, 'detailed': 2348, 'detailing': 2349, 'details': 2350, 'detected': 2351, 'detects': 2352, 'determine': 2353, 'determined': 2354, 'determines': 2355, 'determining': 2356, 'develop': 2357, 'developed': 2358, 'developer': 2359, 'developers': 2360, 'developing': 2361, 'development': 2362, 'developments': 2363, 'develops': 2364, 'deviate': 2365, 'device': 2366, 'devices': 2367, 'devoted': 2368, 'devoting': 2369, 'diagnosis': 2370, 'diagnostics': 2371, 'dial': 2372, 'dialed': 2373, 'diameter': 2374, 'did': 2375, 'didn': 2376, 'diesel': 2377, 'diet': 2378, 'dietary': 2379, 'differ': 2380, 'difference': 2381, 'differences': 2382, 'different': 2383, 'differentiates': 2384, 'differently': 2385, 'difficult': 2386, 'difficulties': 2387, 'difficulty': 2388, 'digital': 2389, 'digitalize': 2390, 'digits': 2391, 'diligence': 2392, 'diligently': 2393, 'dimension': 2394, 'dimensions': 2395, 'dine': 2396, 'dining': 2397, 'dinner': 2398, 'dinning': 2399, 'dip': 2400, 'diplomas': 2401, 'dipped': 2402, 'direct': 2403, 'directed': 2404, 'direction': 2405, 'directly': 2406, 'director': 2407, 'directors': 2408, 'disabilities': 2409, 'disabled': 2410, 'disagree': 2411, 'disappointed': 2412, 'disappointment': 2413, 'disaster': 2414, 'disasters': 2415, 'disc': 2416, 'discount': 2417, 'discounted': 2418, 'discounts': 2419, 'discover': 2420, 'discovered': 2421, 'discovery': 2422, 'discrepancies': 2423, 'discuss': 2424, 'discussed': 2425, 'discussing': 2426, 'discussion': 2427, 'discussions': 2428, 'disease': 2429, 'diseases': 2430, 'dish': 2431, 'dishe': 2432, 'dishes': 2433, 'dismantle': 2434, 'dispatch': 2435, 'dispatched': 2436, 'dispatching': 2437, 'dispersing': 2438, 'display': 2439, 'displayed': 2440, 'displaying': 2441, 'disposal': 2442, 'disputes': 2443, 'disruption': 2444, 'distance': 2445, 'distinct': 2446, 'distinction': 2447, 'distinguish': 2448, 'distract': 2449, 'distress': 2450, 'distribute': 2451, 'distributed': 2452, 'distributing': 2453, 'distribution': 2454, 'distributor': 2455, 'distributorship': 2456, 'district': 2457, 'disturb': 2458, 'disturbed': 2459, 'disturbing': 2460, 'diverse': 2461, 'diversify': 2462, 'diversity': 2463, 'diverting': 2464, 'divide': 2465, 'divided': 2466, 'dividend': 2467, 'division': 2468, 'do': 2469, 'doable': 2470, 'doctor': 2471, 'doctors': 2472, 'document': 2473, 'documentaries': 2474, 'documentary': 2475, 'documentation': 2476, 'documenting': 2477, 'documents': 2478, 'does': 2479, 'doesn': 2480, 'dog': 2481, 'dogs': 2482, 'doing': 2483, 'doings': 2484, 'doljanchi': 2485, 'dollar': 2486, 'dollars': 2487, 'domain': 2488, 'dome': 2489, 'domestic': 2490, 'don': 2491, 'donate': 2492, 'donation': 2493, 'donations': 2494, 'done': 2495, 'donut': 2496, 'door': 2497, 'doors': 2498, 'dorm': 2499, 'dormitory': 2500, 'dosirak': 2501, 'double': 2502, 'doubled': 2503, 'doubt': 2504, 'doubts': 2505, 'down': 2506, 'downhill': 2507, 'download': 2508, 'downloaded': 2509, 'downpayment': 2510, 'downs': 2511, 'downside': 2512, 'downtown': 2513, 'downturn': 2514, 'dozers': 2515, 'draft': 2516, 'drafted': 2517, 'drafting': 2518, 'drafts': 2519, 'drain': 2520, 'dramas': 2521, 'dramatically': 2522, 'draw': 2523, 'drawer': 2524, 'drawing': 2525, 'drawings': 2526, 'draws': 2527, 'dress': 2528, 'dressers': 2529, 'dressing': 2530, 'drilling': 2531, 'drink': 2532, 'drinking': 2533, 'drinks': 2534, 'drive': 2535, 'driven': 2536, 'driver': 2537, 'drivers': 2538, 'driving': 2539, 'drop': 2540, 'dropped': 2541, 'dropping': 2542, 'drops': 2543, 'drug': 2544, 'drum': 2545, 'dry': 2546, 'dryer': 2547, 'dual': 2548, 'dude': 2549, 'due': 2550, 'duly': 2551, 'dump': 2552, 'dumpling': 2553, 'duplicate': 2554, 'durable': 2555, 'duration': 2556, 'during': 2557, 'dust': 2558, 'duties': 2559, 'duty': 2560, 'dyeing': 2561, 'dying': 2562, 'e': 2563, 'each': 2564, 'eager': 2565, 'eagerly': 2566, 'earlier': 2567, 'earliest': 2568, 'early': 2569, 'earn': 2570, 'earnings': 2571, 'ears': 2572, 'earth': 2573, 'ease': 2574, 'eased': 2575, 'easier': 2576, 'easiest': 2577, 'easily': 2578, 'easing': 2579, 'easy': 2580, 'eat': 2581, 'eaten': 2582, 'eating': 2583, 'echo': 2584, 'eclectic': 2585, 'eco': 2586, 'economy': 2587, 'ecstatic': 2588, 'edge': 2589, 'edit': 2590, 'edited': 2591, 'editing': 2592, 'edition': 2593, 'editorial': 2594, 'editors': 2595, 'educate': 2596, 'educated': 2597, 'educating': 2598, 'education': 2599, 'educational': 2600, 'edutainment': 2601, 'effect': 2602, 'effective': 2603, 'effectively': 2604, 'effectiveness': 2605, 'effects': 2606, 'efficiency': 2607, 'efficient': 2608, 'efficiently': 2609, 'effort': 2610, 'efforts': 2611, 'egg': 2612, 'eggs': 2613, 'eight': 2614, 'either': 2615, 'ejection': 2616, 'elaborate': 2617, 'elder': 2618, 'elders': 2619, 'eldest': 2620, 'electric': 2621, 'electrical': 2622, 'electricity': 2623, 'electro': 2624, 'electroencephalography': 2625, 'electromagnetic': 2626, 'electronic': 2627, 'electronically': 2628, 'electronics': 2629, 'elegant': 2630, 'element': 2631, 'elements': 2632, 'elevated': 2633, 'eligibility': 2634, 'eligible': 2635, 'eliminate': 2636, 'elliptical': 2637, 'else': 2638, 'elsewhere': 2639, 'email': 2640, 'emailed': 2641, 'emailing': 2642, 'emails': 2643, 'embarrassed': 2644, 'embody': 2645, 'embossing': 2646, 'embroidery': 2647, 'emergencies': 2648, 'emergency': 2649, 'emerging': 2650, 'emotions': 2651, 'emphasis': 2652, 'employ': 2653, 'employed': 2654, 'employee': 2655, 'employees': 2656, 'employers': 2657, 'employing': 2658, 'empty': 2659, 'emulsion': 2660, 'enable': 2661, 'enabled': 2662, 'enables': 2663, 'encapsulation': 2664, 'encoded': 2665, 'encounter': 2666, 'encountered': 2667, 'encourage': 2668, 'encourages': 2669, 'encrypt': 2670, 'encrypted': 2671, 'encryption': 2672, 'end': 2673, 'endangering': 2674, 'ended': 2675, 'ending': 2676, 'ends': 2677, 'energy': 2678, 'enforce': 2679, 'enforced': 2680, 'enforcements': 2681, 'engage': 2682, 'engaged': 2683, 'engagements': 2684, 'engaging': 2685, 'engine': 2686, 'engineer': 2687, 'engineering': 2688, 'engineers': 2689, 'engines': 2690, 'enhance': 2691, 'enhanced': 2692, 'enhancement': 2693, 'enhances': 2694, 'enjoy': 2695, 'enjoyed': 2696, 'enjoying': 2697, 'enlighten': 2698, 'enlist': 2699, 'enormously': 2700, 'enough': 2701, 'enquire': 2702, 'enroll': 2703, 'enrolled': 2704, 'ensure': 2705, 'ensured': 2706, 'ensures': 2707, 'entail': 2708, 'enter': 2709, 'entered': 2710, 'entering': 2711, 'enterprise': 2712, 'enterprises': 2713, 'enters': 2714, 'entertain': 2715, 'entertained': 2716, 'entertaining': 2717, 'entertainment': 2718, 'entire': 2719, 'entirely': 2720, 'entitled': 2721, 'entity': 2722, 'entrance': 2723, 'entree': 2724, 'entrees': 2725, 'entrepreneur': 2726, 'entrepreneurship': 2727, 'entries': 2728, 'environment': 2729, 'environmental': 2730, 'environments': 2731, 'episode': 2732, 'episodes': 2733, 'equal': 2734, 'equals': 2735, 'equipment': 2736, 'equipments': 2737, 'equipped': 2738, 'equity': 2739, 'equivalent': 2740, 'erased': 2741, 'erecting': 2742, 'error': 2743, 'errors': 2744, 'escalated': 2745, 'escaping': 2746, 'especially': 2747, 'essential': 2748, 'essentially': 2749, 'establish': 2750, 'established': 2751, 'establishing': 2752, 'establishment': 2753, 'establishments': 2754, 'estate': 2755, 'estimate': 2756, 'estimated': 2757, 'estimates': 2758, 'etc': 2759, 'ethical': 2760, 'etiquette': 2761, 'evacuation': 2762, 'evading': 2763, 'evaluate': 2764, 'evaluated': 2765, 'evaluating': 2766, 'evaluation': 2767, 'evaporator': 2768, 'evasion': 2769, 'even': 2770, 'evening': 2771, 'event': 2772, 'events': 2773, 'eventuality': 2774, 'eventually': 2775, 'ever': 2776, 'every': 2777, 'everyday': 2778, 'everyone': 2779, 'everything': 2780, 'evidence': 2781, 'evidentiary': 2782, 'evil': 2783, 'evolution': 2784, 'evolved': 2785, 'evolving': 2786, 'exact': 2787, 'exactly': 2788, 'exam': 2789, 'examined': 2790, 'example': 2791, 'examples': 2792, 'exams': 2793, 'excavator': 2794, 'excavators': 2795, 'exceeded': 2796, 'exceeds': 2797, 'excellent': 2798, 'except': 2799, 'exceptional': 2800, 'excess': 2801, 'exchange': 2802, 'exchanges': 2803, 'exchanging': 2804, 'excited': 2805, 'exciting': 2806, 'exclude': 2807, 'excluding': 2808, 'exclusive': 2809, 'exclusively': 2810, 'excuse': 2811, 'excused': 2812, 'excuses': 2813, 'execute': 2814, 'executes': 2815, 'execution': 2816, 'executive': 2817, 'executives': 2818, 'executor': 2819, 'exerting': 2820, 'exhausted': 2821, 'exhibit': 2822, 'exhibition': 2823, 'exihibit': 2824, 'exist': 2825, 'existing': 2826, 'exit': 2827, 'exotic': 2828, 'expand': 2829, 'expandable': 2830, 'expanded': 2831, 'expanding': 2832, 'expansion': 2833, 'expat': 2834, 'expect': 2835, 'expectations': 2836, 'expected': 2837, 'expecting': 2838, 'expedition': 2839, 'expenditure': 2840, 'expenditures': 2841, 'expense': 2842, 'expenses': 2843, 'expensive': 2844, 'experience': 2845, 'experienced': 2846, 'experiences': 2847, 'experiencing': 2848, 'experimental': 2849, 'expert': 2850, 'expertise': 2851, 'experts': 2852, 'expire': 2853, 'expires': 2854, 'explain': 2855, 'explained': 2856, 'explaining': 2857, 'explains': 2858, 'explanation': 2859, 'explanations': 2860, 'exploration': 2861, 'explore': 2862, 'expo': 2863, 'export': 2864, 'exported': 2865, 'exporter': 2866, 'exporting': 2867, 'exports': 2868, 'exposes': 2869, 'exposure': 2870, 'express': 2871, 'expressions': 2872, 'exquisite': 2873, 'extend': 2874, 'extended': 2875, 'extender': 2876, 'extenders': 2877, 'extending': 2878, 'extends': 2879, 'extension': 2880, 'extensive': 2881, 'exterior': 2882, 'external': 2883, 'externally': 2884, 'extra': 2885, 'extract': 2886, 'extraction': 2887, 'extracts': 2888, 'extremely': 2889, 'extruder': 2890, 'extruders': 2891, 'eye': 2892, 'eyes': 2893, 'fabric': 2894, 'fabrication': 2895, 'face': 2896, 'faced': 2897, 'faces': 2898, 'facial': 2899, 'facilitate': 2900, 'facilities': 2901, 'facility': 2902, 'facing': 2903, 'fact': 2904, 'factor': 2905, 'factors': 2906, 'factory': 2907, 'factual': 2908, 'factually': 2909, 'faculty': 2910, 'fail': 2911, 'failed': 2912, 'fails': 2913, 'failure': 2914, 'fair': 2915, 'fairly': 2916, 'fall': 2917, 'fallen': 2918, 'falling': 2919, 'fallout': 2920, 'falls': 2921, 'familiar': 2922, 'families': 2923, 'family': 2924, 'famous': 2925, 'fan': 2926, 'fanbase': 2927, 'fancy': 2928, 'fans': 2929, 'fantastic': 2930, 'far': 2931, 'fare': 2932, 'farm': 2933, 'farmers': 2934, 'farthest': 2935, 'fascinating': 2936, 'fashion': 2937, 'fast': 2938, 'fasteners': 2939, 'faster': 2940, 'fastest': 2941, 'fat': 2942, 'father': 2943, 'fault': 2944, 'faulty': 2945, 'favor': 2946, 'favorable': 2947, 'favorite': 2948, 'favorites': 2949, 'favoritism': 2950, 'fax': 2951, 'fear': 2952, 'feasibility': 2953, 'feasible': 2954, 'feature': 2955, 'featured': 2956, 'features': 2957, 'featuring': 2958, 'fee': 2959, 'feeble': 2960, 'feedback': 2961, 'feel': 2962, 'feeling': 2963, 'feelings': 2964, 'feels': 2965, 'fees': 2966, 'feet': 2967, 'fellow': 2968, 'female': 2969, 'fertilizing': 2970, 'fetch': 2971, 'few': 2972, 'fiat': 2973, 'fiber': 2974, 'fibers': 2975, 'fibrous': 2976, 'fiction': 2977, 'field': 2978, 'fields': 2979, 'figurative': 2980, 'figures': 2981, 'file': 2982, 'filed': 2983, 'files': 2984, 'filing': 2985, 'fill': 2986, 'filled': 2987, 'filling': 2988, 'fills': 2989, 'film': 2990, 'films': 2991, 'filter': 2992, 'filtered': 2993, 'filters': 2994, 'filtration': 2995, 'final': 2996, 'finalize': 2997, 'finalized': 2998, 'finalizing': 2999, 'finally': 3000, 'finance': 3001, 'financed': 3002, 'financer': 3003, 'finances': 3004, 'financial': 3005, 'financially': 3006, 'financiers': 3007, 'financing': 3008, 'find': 3009, 'finding': 3010, 'finds': 3011, 'fine': 3012, 'finer': 3013, 'finest': 3014, 'fingerprint': 3015, 'finish': 3016, 'finished': 3017, 'fire': 3018, 'fired': 3019, 'fireplace': 3020, 'firewall': 3021, 'firewalls': 3022, 'firm': 3023, 'firms': 3024, 'first': 3025, 'fish': 3026, 'fit': 3027, 'fitness': 3028, 'fits': 3029, 'five': 3030, 'fiver': 3031, 'fix': 3032, 'fixed': 3033, 'flag': 3034, 'flame': 3035, 'flanged': 3036, 'flare': 3037, 'flash': 3038, 'flat': 3039, 'flatmates': 3040, 'flatten': 3041, 'flavor': 3042, 'flavored': 3043, 'flavorful': 3044, 'flavors': 3045, 'flew': 3046, 'flexibility': 3047, 'flexible': 3048, 'flight': 3049, 'flights': 3050, 'flip': 3051, 'float': 3052, 'floating': 3053, 'floor': 3054, 'floors': 3055, 'flour': 3056, 'flowchart': 3057, 'flows': 3058, 'fluctuate': 3059, 'fluctuations': 3060, 'fly': 3061, 'flying': 3062, 'flywheel': 3063, 'fo': 3064, 'foam': 3065, 'focus': 3066, 'focused': 3067, 'focuses': 3068, 'focusing': 3069, 'fold': 3070, 'folder': 3071, 'folders': 3072, 'follow': 3073, 'followed': 3074, 'followers': 3075, 'following': 3076, 'follows': 3077, 'font': 3078, 'fonts': 3079, 'food': 3080, 'foods': 3081, 'fooled': 3082, 'foot': 3083, 'footage': 3084, 'footprint': 3085, 'footsteps': 3086, 'for': 3087, 'forbidden': 3088, 'forced': 3089, 'forecast': 3090, 'forecasted': 3091, 'foreign': 3092, 'foreigner': 3093, 'foreigners': 3094, 'forever': 3095, 'forget': 3096, 'forgot': 3097, 'forklift': 3098, 'forklifts': 3099, 'form': 3100, 'formal': 3101, 'formalities': 3102, 'format': 3103, 'former': 3104, 'forms': 3105, 'formula': 3106, 'forths': 3107, 'fortunate': 3108, 'forward': 3109, 'forwarded': 3110, 'forwarder': 3111, 'found': 3112, 'foundation': 3113, 'founders': 3114, 'four': 3115, 'frame': 3116, 'frames': 3117, 'framework': 3118, 'franchise': 3119, 'fraud': 3120, 'fraudulent': 3121, 'free': 3122, 'freebie': 3123, 'freelancer': 3124, 'freight': 3125, 'frequency': 3126, 'frequent': 3127, 'frequently': 3128, 'fresh': 3129, 'freshwater': 3130, 'fried': 3131, 'friend': 3132, 'friendly': 3133, 'friends': 3134, 'from': 3135, 'front': 3136, 'frugal': 3137, 'fruit': 3138, 'fruitful': 3139, 'fruity': 3140, 'frustrating': 3141, 'fuel': 3142, 'fulfill': 3143, 'fulfilled': 3144, 'fulfilling': 3145, 'full': 3146, 'fully': 3147, 'fun': 3148, 'function': 3149, 'functional': 3150, 'functioning': 3151, 'functions': 3152, 'fund': 3153, 'fundamental': 3154, 'fundamentals': 3155, 'funded': 3156, 'funding': 3157, 'fundraisers': 3158, 'fundraising': 3159, 'funds': 3160, 'fungible': 3161, 'funny': 3162, 'furnish': 3163, 'furnished': 3164, 'furnishings': 3165, 'furniture': 3166, 'further': 3167, 'fusion': 3168, 'fuss': 3169, 'future': 3170, 'futures': 3171, 'futuristic': 3172, 'g': 3173, 'gadgets': 3174, 'gain': 3175, 'gained': 3176, 'gaining': 3177, 'gains': 3178, 'galbi': 3179, 'game': 3180, 'games': 3181, 'gaming': 3182, 'gap': 3183, 'gaps': 3184, 'garage': 3185, 'garden': 3186, 'gardening': 3187, 'gardens': 3188, 'garlic': 3189, 'garments': 3190, 'garnering': 3191, 'gas': 3192, 'gasoline': 3193, 'gate': 3194, 'gates': 3195, 'gather': 3196, 'gathered': 3197, 'gathering': 3198, 'gathers': 3199, 'gauge': 3200, 'gave': 3201, 'gazebo': 3202, 'gear': 3203, 'geared': 3204, 'gears': 3205, 'general': 3206, 'generally': 3207, 'generate': 3208, 'generated': 3209, 'generating': 3210, 'generation': 3211, 'generations': 3212, 'generic': 3213, 'generous': 3214, 'genre': 3215, 'genres': 3216, 'gentle': 3217, 'gentlemen': 3218, 'genuinely': 3219, 'geographic': 3220, 'geography': 3221, 'gesture': 3222, 'get': 3223, 'gets': 3224, 'getting': 3225, 'gift': 3226, 'gifts': 3227, 'gigabyte': 3228, 'gigabytes': 3229, 'gimbap': 3230, 'ginger': 3231, 'ginseng': 3232, 'girl': 3233, 'girls': 3234, 'give': 3235, 'giveaways': 3236, 'given': 3237, 'gives': 3238, 'giving': 3239, 'glad': 3240, 'gladly': 3241, 'glance': 3242, 'glass': 3243, 'glasses': 3244, 'glitch': 3245, 'global': 3246, 'globally': 3247, 'globe': 3248, 'glossy': 3249, 'gloves': 3250, 'gluten': 3251, 'go': 3252, 'goal': 3253, 'goals': 3254, 'goes': 3255, 'going': 3256, 'gold': 3257, 'golf': 3258, 'gone': 3259, 'gonna': 3260, 'good': 3261, 'goodbye': 3262, 'goods': 3263, 'goodwill': 3264, 'gorgeous': 3265, 'got': 3266, 'gotten': 3267, 'governance': 3268, 'government': 3269, 'grab': 3270, 'grace': 3271, 'grade': 3272, 'gradual': 3273, 'gradually': 3274, 'graduates': 3275, 'grain': 3276, 'grains': 3277, 'grammable': 3278, 'grand': 3279, 'grandkids': 3280, 'grandmother': 3281, 'grant': 3282, 'granted': 3283, 'granting': 3284, 'graph': 3285, 'graphic': 3286, 'graphics': 3287, 'grass': 3288, 'grateful': 3289, 'gravity': 3290, 'gravlax': 3291, 'great': 3292, 'greater': 3293, 'greatly': 3294, 'green': 3295, 'greens': 3296, 'greet': 3297, 'greeting': 3298, 'greetings': 3299, 'grew': 3300, 'grid': 3301, 'grill': 3302, 'grilled': 3303, 'grills': 3304, 'grinder': 3305, 'gripping': 3306, 'groom': 3307, 'ground': 3308, 'groundbreaking': 3309, 'grounds': 3310, 'group': 3311, 'groups': 3312, 'grow': 3313, 'growing': 3314, 'growth': 3315, 'guarantee': 3316, 'guaranteed': 3317, 'guarantor': 3318, 'guess': 3319, 'guest': 3320, 'guesthouses': 3321, 'guests': 3322, 'guidance': 3323, 'guide': 3324, 'guided': 3325, 'guides': 3326, 'guilty': 3327, 'guitar': 3328, 'gun': 3329, 'gunfire': 3330, 'gut': 3331, 'guy': 3332, 'guys': 3333, 'gym': 3334, 'gyms': 3335, 'hack': 3336, 'hacked': 3337, 'hacking': 3338, 'had': 3339, 'hairdryer': 3340, 'half': 3341, 'hall': 3342, 'halls': 3343, 'halting': 3344, 'hand': 3345, 'handed': 3346, 'handheld': 3347, 'handiwork': 3348, 'handle': 3349, 'handled': 3350, 'handles': 3351, 'handling': 3352, 'handouts': 3353, 'handpicked': 3354, 'hands': 3355, 'handshake': 3356, 'hanging': 3357, 'hanji': 3358, 'hanok': 3359, 'happen': 3360, 'happened': 3361, 'happening': 3362, 'happens': 3363, 'happily': 3364, 'happy': 3365, 'hard': 3366, 'harder': 3367, 'hardware': 3368, 'hardworking': 3369, 'harmful': 3370, 'harmony': 3371, 'harshest': 3372, 'harvesting': 3373, 'has': 3374, 'hasn': 3375, 'hassle': 3376, 'hat': 3377, 'hate': 3378, 'have': 3379, 'haven': 3380, 'having': 3381, 'he': 3382, 'head': 3383, 'headhunters': 3384, 'heading': 3385, 'headquarters': 3386, 'heads': 3387, 'health': 3388, 'healthy': 3389, 'hear': 3390, 'heard': 3391, 'hearing': 3392, 'hearsay': 3393, 'heart': 3394, 'heartily': 3395, 'heat': 3396, 'heated': 3397, 'heater': 3398, 'heating': 3399, 'heavier': 3400, 'heavily': 3401, 'heavy': 3402, 'hedge': 3403, 'height': 3404, 'held': 3405, 'hello': 3406, 'help': 3407, 'helped': 3408, 'helpful': 3409, 'helping': 3410, 'helps': 3411, 'hence': 3412, 'her': 3413, 'herbal': 3414, 'here': 3415, 'hereditary': 3416, 'heritage': 3417, 'hesitate': 3418, 'hidden': 3419, 'high': 3420, 'higher': 3421, 'highest': 3422, 'highlighted': 3423, 'highlights': 3424, 'highly': 3425, 'hijacking': 3426, 'hiking': 3427, 'hill': 3428, 'him': 3429, 'hint': 3430, 'hire': 3431, 'hired': 3432, 'hiring': 3433, 'his': 3434, 'historical': 3435, 'historically': 3436, 'hit': 3437, 'hitch': 3438, 'hits': 3439, 'hoarding': 3440, 'hobby': 3441, 'hoc': 3442, 'hold': 3443, 'holder': 3444, 'holding': 3445, 'holds': 3446, 'holidays': 3447, 'home': 3448, 'homemade': 3449, 'homes': 3450, 'homestays': 3451, 'honed': 3452, 'honest': 3453, 'honestly': 3454, 'honey': 3455, 'honored': 3456, 'hope': 3457, 'hoped': 3458, 'hopefully': 3459, 'hoping': 3460, 'horizontal': 3461, 'horrible': 3462, 'horsepower': 3463, 'horsepowers': 3464, 'hospital': 3465, 'hospitalization': 3466, 'hospitals': 3467, 'host': 3468, 'hosting': 3469, 'hosts': 3470, 'hot': 3471, 'hotel': 3472, 'hotels': 3473, 'hotspot': 3474, 'hour': 3475, 'hourly': 3476, 'hours': 3477, 'house': 3478, 'household': 3479, 'households': 3480, 'houses': 3481, 'housing': 3482, 'housings': 3483, 'how': 3484, 'however': 3485, 'hub': 3486, 'huddle': 3487, 'hues': 3488, 'huge': 3489, 'hull': 3490, 'human': 3491, 'humble': 3492, 'humor': 3493, 'hundred': 3494, 'hungry': 3495, 'hunt': 3496, 'hurry': 3497, 'hurt': 3498, 'husband': 3499, 'hustle': 3500, 'hwajeon': 3501, 'hydraulic': 3502, 'hydraulics': 3503, 'hydrojet': 3504, 'hype': 3505, 'ibul': 3506, 'ice': 3507, 'icons': 3508, 'idea': 3509, 'ideal': 3510, 'ideas': 3511, 'identical': 3512, 'identification': 3513, 'identified': 3514, 'identify': 3515, 'identities': 3516, 'identity': 3517, 'idols': 3518, 'if': 3519, 'ignition': 3520, 'ignorance': 3521, 'ignore': 3522, 'ignored': 3523, 'illness': 3524, 'illnesses': 3525, 'illustration': 3526, 'illustrations': 3527, 'image': 3528, 'images': 3529, 'imaginative': 3530, 'imagine': 3531, 'imaging': 3532, 'immediate': 3533, 'immediately': 3534, 'immensely': 3535, 'immigrant': 3536, 'immunity': 3537, 'immutable': 3538, 'impact': 3539, 'impart': 3540, 'impeller': 3541, 'impending': 3542, 'implantation': 3543, 'implement': 3544, 'implementation': 3545, 'implementing': 3546, 'implements': 3547, 'implied': 3548, 'implies': 3549, 'import': 3550, 'importance': 3551, 'important': 3552, 'importantly': 3553, 'imported': 3554, 'imports': 3555, 'imposed': 3556, 'imposes': 3557, 'impossible': 3558, 'impress': 3559, 'impressed': 3560, 'impression': 3561, 'impressions': 3562, 'impressive': 3563, 'improve': 3564, 'improved': 3565, 'improvement': 3566, 'improvements': 3567, 'improving': 3568, 'in': 3569, 'inbox': 3570, 'incentives': 3571, 'inch': 3572, 'incident': 3573, 'include': 3574, 'included': 3575, 'includes': 3576, 'including': 3577, 'inclusion': 3578, 'inclusions': 3579, 'inclusive': 3580, 'income': 3581, 'incompatible': 3582, 'incomplete': 3583, 'inconvenience': 3584, 'inconvenient': 3585, 'incorporate': 3586, 'incorporating': 3587, 'incorporation': 3588, 'incorrect': 3589, 'increase': 3590, 'increased': 3591, 'increasing': 3592, 'incredible': 3593, 'incredibly': 3594, 'incubator': 3595, 'incubators': 3596, 'incur': 3597, 'incurred': 3598, 'incurring': 3599, 'indeed': 3600, 'independently': 3601, 'index': 3602, 'indexation': 3603, 'indicate': 3604, 'indicated': 3605, 'indicating': 3606, 'indicator': 3607, 'indicators': 3608, 'indices': 3609, 'individual': 3610, 'individually': 3611, 'individuals': 3612, 'indoor': 3613, 'indoors': 3614, 'indulge': 3615, 'industrial': 3616, 'industries': 3617, 'industry': 3618, 'inevitable': 3619, 'infections': 3620, 'infectious': 3621, 'inferior': 3622, 'inflation': 3623, 'influence': 3624, 'influenced': 3625, 'influencer': 3626, 'influencers': 3627, 'info': 3628, 'infographic': 3629, 'infographics': 3630, 'inform': 3631, 'informal': 3632, 'information': 3633, 'informed': 3634, 'informing': 3635, 'infrastructure': 3636, 'infringed': 3637, 'infringement': 3638, 'ingredients': 3639, 'inheritance': 3640, 'initial': 3641, 'initially': 3642, 'initiate': 3643, 'initiative': 3644, 'injection': 3645, 'injunction': 3646, 'injury': 3647, 'inner': 3648, 'innovation': 3649, 'innovations': 3650, 'innovative': 3651, 'input': 3652, 'inputs': 3653, 'inquire': 3654, 'inquired': 3655, 'inquiries': 3656, 'inquiring': 3657, 'inquiry': 3658, 'ins': 3659, 'inside': 3660, 'insight': 3661, 'insist': 3662, 'inspect': 3663, 'inspected': 3664, 'inspecting': 3665, 'inspection': 3666, 'inspections': 3667, 'inspire': 3668, 'inspired': 3669, 'install': 3670, 'installation': 3671, 'installed': 3672, 'installing': 3673, 'installment': 3674, 'installments': 3675, 'instance': 3676, 'instant': 3677, 'instead': 3678, 'institute': 3679, 'institution': 3680, 'instruction': 3681, 'instructions': 3682, 'instrument': 3683, 'instruments': 3684, 'insulation': 3685, 'insult': 3686, 'insurance': 3687, 'insurances': 3688, 'insure': 3689, 'insured': 3690, 'insuring': 3691, 'insurmountable': 3692, 'integrated': 3693, 'integration': 3694, 'integrations': 3695, 'intellectual': 3696, 'intelligence': 3697, 'intelligent': 3698, 'intend': 3699, 'intended': 3700, 'intends': 3701, 'intense': 3702, 'intensity': 3703, 'intent': 3704, 'intention': 3705, 'interact': 3706, 'interactions': 3707, 'interactive': 3708, 'intercept': 3709, 'interest': 3710, 'interested': 3711, 'interesting': 3712, 'interface': 3713, 'interior': 3714, 'interiors': 3715, 'intermediaries': 3716, 'intermediary': 3717, 'intern': 3718, 'internal': 3719, 'internally': 3720, 'international': 3721, 'internationally': 3722, 'internet': 3723, 'interns': 3724, 'interpretation': 3725, 'interpreter': 3726, 'interpreting': 3727, 'interrupt': 3728, 'interrupted': 3729, 'interview': 3730, 'interviews': 3731, 'into': 3732, 'intrigue': 3733, 'intriguing': 3734, 'introduce': 3735, 'introduced': 3736, 'introducing': 3737, 'introduction': 3738, 'intrusion': 3739, 'invaluable': 3740, 'inventory': 3741, 'invest': 3742, 'invested': 3743, 'investigate': 3744, 'investigating': 3745, 'investigation': 3746, 'investing': 3747, 'investment': 3748, 'investments': 3749, 'investor': 3750, 'investors': 3751, 'invitation': 3752, 'invite': 3753, 'invited': 3754, 'invites': 3755, 'inviting': 3756, 'invoice': 3757, 'invoices': 3758, 'involve': 3759, 'involved': 3760, 'involves': 3761, 'involving': 3762, 'iron': 3763, 'irregular': 3764, 'is': 3765, 'isn': 3766, 'issuance': 3767, 'issue': 3768, 'issued': 3769, 'issues': 3770, 'issuing': 3771, 'it': 3772, 'item': 3773, 'items': 3774, 'its': 3775, 'itself': 3776, 'jacuzzi': 3777, 'japchae': 3778, 'jeeps': 3779, 'jeon': 3780, 'jet': 3781, 'jingle': 3782, 'job': 3783, 'jobs': 3784, 'join': 3785, 'joining': 3786, 'joint': 3787, 'jokbal': 3788, 'joke': 3789, 'journalists': 3790, 'journey': 3791, 'juice': 3792, 'junction': 3793, 'just': 3794, 'kanji': 3795, 'karaoke': 3796, 'keen': 3797, 'keep': 3798, 'keeping': 3799, 'keeps': 3800, 'kept': 3801, 'key': 3802, 'keyboard': 3803, 'keyboards': 3804, 'keys': 3805, 'keywords': 3806, 'kicks': 3807, 'kids': 3808, 'kilograms': 3809, 'kilometers': 3810, 'kilowatts': 3811, 'kimchi': 3812, 'kind': 3813, 'kindly': 3814, 'kindness': 3815, 'kinds': 3816, 'king': 3817, 'kiosk': 3818, 'kit': 3819, 'kitchen': 3820, 'kitchens': 3821, 'kits': 3822, 'knew': 3823, 'knife': 3824, 'knitting': 3825, 'knocked': 3826, 'know': 3827, 'knowing': 3828, 'knowledge': 3829, 'knowledgeable': 3830, 'known': 3831, 'knows': 3832, 'l': 3833, 'label': 3834, 'labels': 3835, 'labor': 3836, 'laboratories': 3837, 'laboratory': 3838, 'lack': 3839, 'lacking': 3840, 'ladies': 3841, 'lag': 3842, 'laid': 3843, 'lamination': 3844, 'land': 3845, 'landed': 3846, 'landline': 3847, 'landlord': 3848, 'landowner': 3849, 'lands': 3850, 'language': 3851, 'languages': 3852, 'laptop': 3853, 'large': 3854, 'largely': 3855, 'larger': 3856, 'largest': 3857, 'last': 3858, 'lasting': 3859, 'lasts': 3860, 'late': 3861, 'lately': 3862, 'latency': 3863, 'later': 3864, 'latest': 3865, 'launch': 3866, 'launched': 3867, 'launching': 3868, 'laundering': 3869, 'laundry': 3870, 'lavalier': 3871, 'law': 3872, 'laws': 3873, 'lawsuit': 3874, 'lawyer': 3875, 'lawyers': 3876, 'laxative': 3877, 'lay': 3878, 'layers': 3879, 'layout': 3880, 'lazy': 3881, 'lead': 3882, 'leaders': 3883, 'leading': 3884, 'leaf': 3885, 'leaks': 3886, 'leaning': 3887, 'learn': 3888, 'learned': 3889, 'learning': 3890, 'least': 3891, 'leave': 3892, 'leaves': 3893, 'lecture': 3894, 'led': 3895, 'left': 3896, 'legal': 3897, 'legally': 3898, 'legitimate': 3899, 'lenders': 3900, 'length': 3901, 'lengthy': 3902, 'lens': 3903, 'lentil': 3904, 'less': 3905, 'lesser': 3906, 'lessons': 3907, 'let': 3908, 'lets': 3909, 'letter': 3910, 'letters': 3911, 'letting': 3912, 'lettuce': 3913, 'level': 3914, 'levelers': 3915, 'levels': 3916, 'leverage': 3917, 'liabilities': 3918, 'liability': 3919, 'liable': 3920, 'liaison': 3921, 'library': 3922, 'license': 3923, 'licensed': 3924, 'licenses': 3925, 'lie': 3926, 'life': 3927, 'lifeguards': 3928, 'lifelong': 3929, 'lifestyle': 3930, 'lift': 3931, 'light': 3932, 'lightning': 3933, 'lights': 3934, 'lightweight': 3935, 'like': 3936, 'liked': 3937, 'likely': 3938, 'likes': 3939, 'limit': 3940, 'limitations': 3941, 'limited': 3942, 'limits': 3943, 'line': 3944, 'lines': 3945, 'lining': 3946, 'link': 3947, 'linked': 3948, 'links': 3949, 'liquid': 3950, 'liquidating': 3951, 'liquors': 3952, 'list': 3953, 'listed': 3954, 'listen': 3955, 'listener': 3956, 'listeners': 3957, 'listening': 3958, 'listing': 3959, 'listings': 3960, 'lists': 3961, 'literature': 3962, 'little': 3963, 'live': 3964, 'lived': 3965, 'lively': 3966, 'liver': 3967, 'lives': 3968, 'living': 3969, 'll': 3970, 'load': 3971, 'loaded': 3972, 'loader': 3973, 'loaders': 3974, 'loading': 3975, 'loan': 3976, 'loans': 3977, 'lobby': 3978, 'local': 3979, 'locales': 3980, 'locality': 3981, 'localization': 3982, 'localized': 3983, 'locally': 3984, 'locals': 3985, 'located': 3986, 'location': 3987, 'locations': 3988, 'lock': 3989, 'lockdown': 3990, 'lockdowns': 3991, 'lodge': 3992, 'lodging': 3993, 'lodgings': 3994, 'log': 3995, 'logged': 3996, 'logging': 3997, 'login': 3998, 'logistics': 3999, 'logo': 4000, 'logos': 4001, 'logs': 4002, 'long': 4003, 'longer': 4004, 'look': 4005, 'looked': 4006, 'looking': 4007, 'looks': 4008, 'loose': 4009, 'lose': 4010, 'loss': 4011, 'losses': 4012, 'lost': 4013, 'lot': 4014, 'lots': 4015, 'loud': 4016, 'lounge': 4017, 'love': 4018, 'loved': 4019, 'lovely': 4020, 'loving': 4021, 'low': 4022, 'lower': 4023, 'lowered': 4024, 'lowest': 4025, 'loyal': 4026, 'luck': 4027, 'luckily': 4028, 'lucky': 4029, 'lucrative': 4030, 'luggage': 4031, 'lunch': 4032, 'luxurious': 4033, 'luxury': 4034, 'm': 4035, 'ma': 4036, 'machine': 4037, 'machinery': 4038, 'machines': 4039, 'mackerels': 4040, 'macro': 4041, 'madam': 4042, 'made': 4043, 'magazine': 4044, 'magazines': 4045, 'magical': 4046, 'mail': 4047, 'main': 4048, 'mainly': 4049, 'mains': 4050, 'maintain': 4051, 'maintained': 4052, 'maintaining': 4053, 'maintenance': 4054, 'major': 4055, 'majority': 4056, 'make': 4057, 'maker': 4058, 'makers': 4059, 'makes': 4060, 'makeup': 4061, 'makgeolli': 4062, 'making': 4063, 'mall': 4064, 'malware': 4065, 'manage': 4066, 'manageable': 4067, 'managed': 4068, 'management': 4069, 'manager': 4070, 'managers': 4071, 'manages': 4072, 'managing': 4073, 'mandatory': 4074, 'mandu': 4075, 'manned': 4076, 'manner': 4077, 'manners': 4078, 'manual': 4079, 'manually': 4080, 'manufacture': 4081, 'manufactured': 4082, 'manufacturer': 4083, 'manufacturers': 4084, 'manufactures': 4085, 'manufacturing': 4086, 'manuscript': 4087, 'many': 4088, 'marinated': 4089, 'marinates': 4090, 'market': 4091, 'marketer': 4092, 'marketing': 4093, 'markets': 4094, 'married': 4095, 'mascots': 4096, 'mask': 4097, 'mass': 4098, 'massage': 4099, 'massages': 4100, 'masseuse': 4101, 'massive': 4102, 'master': 4103, 'mat': 4104, 'match': 4105, 'material': 4106, 'materialistic': 4107, 'materials': 4108, 'maternity': 4109, 'mathematics': 4110, 'mats': 4111, 'matte': 4112, 'matter': 4113, 'matters': 4114, 'mattress': 4115, 'maturing': 4116, 'maximize': 4117, 'maximum': 4118, 'may': 4119, 'maybe': 4120, 'me': 4121, 'meal': 4122, 'meals': 4123, 'mean': 4124, 'meaning': 4125, 'meaningful': 4126, 'meaningless': 4127, 'means': 4128, 'meant': 4129, 'meantime': 4130, 'measure': 4131, 'measures': 4132, 'measuring': 4133, 'meat': 4134, 'mechanic': 4135, 'mechanical': 4136, 'mechanism': 4137, 'media': 4138, 'mediator': 4139, 'medical': 4140, 'medicine': 4141, 'meditation': 4142, 'medium': 4143, 'meet': 4144, 'meeting': 4145, 'meetings': 4146, 'megabits': 4147, 'megabytes': 4148, 'megapixel': 4149, 'megapixels': 4150, 'melon': 4151, 'melt': 4152, 'member': 4153, 'members': 4154, 'membership': 4155, 'memorandum': 4156, 'memories': 4157, 'memory': 4158, 'men': 4159, 'mending': 4160, 'mental': 4161, 'mention': 4162, 'mentioned': 4163, 'mentioning': 4164, 'menu': 4165, 'menus': 4166, 'merch': 4167, 'merchant': 4168, 'merged': 4169, 'message': 4170, 'messages': 4171, 'messaging': 4172, 'messy': 4173, 'met': 4174, 'meta': 4175, 'metal': 4176, 'metallurgical': 4177, 'metals': 4178, 'meters': 4179, 'method': 4180, 'methods': 4181, 'meticulously': 4182, 'microlenders': 4183, 'microphone': 4184, 'microphones': 4185, 'microscopes': 4186, 'microwave': 4187, 'middle': 4188, 'midst': 4189, 'might': 4190, 'mild': 4191, 'milestone': 4192, 'milk': 4193, 'millennials': 4194, 'millimeters': 4195, 'million': 4196, 'millions': 4197, 'mind': 4198, 'minded': 4199, 'mine': 4200, 'miner': 4201, 'mini': 4202, 'minibar': 4203, 'minimal': 4204, 'minimalism': 4205, 'minimum': 4206, 'ministry': 4207, 'minor': 4208, 'minute': 4209, 'minuted': 4210, 'minutes': 4211, 'miscarriage': 4212, 'miscommunication': 4213, 'mishap': 4214, 'mismanagement': 4215, 'mismatch': 4216, 'misplaced': 4217, 'miss': 4218, 'missed': 4219, 'missiles': 4220, 'missing': 4221, 'mission': 4222, 'mistake': 4223, 'mistakenly': 4224, 'mistakes': 4225, 'misunderstanding': 4226, 'misuse': 4227, 'misuses': 4228, 'mitigate': 4229, 'mix': 4230, 'mixer': 4231, 'mixing': 4232, 'mm': 4233, 'mmHg': 4234, 'mobile': 4235, 'mobiles': 4236, 'mock': 4237, 'mocks': 4238, 'modality': 4239, 'mode': 4240, 'model': 4241, 'models': 4242, 'modem': 4243, 'modems': 4244, 'moderately': 4245, 'modern': 4246, 'modes': 4247, 'modifications': 4248, 'modified': 4249, 'modify': 4250, 'modifying': 4251, 'modular': 4252, 'module': 4253, 'mold': 4254, 'molding': 4255, 'moldings': 4256, 'moment': 4257, 'momentary': 4258, 'moments': 4259, 'monastery': 4260, 'monastic': 4261, 'monetary': 4262, 'monetizing': 4263, 'money': 4264, 'monitor': 4265, 'monitoring': 4266, 'monitors': 4267, 'monk': 4268, 'monks': 4269, 'monsoon': 4270, 'month': 4271, 'monthly': 4272, 'months': 4273, 'mood': 4274, 'more': 4275, 'morning': 4276, 'mortar': 4277, 'mortgage': 4278, 'mosquitos': 4279, 'most': 4280, 'mostly': 4281, 'motels': 4282, 'mother': 4283, 'motif': 4284, 'motions': 4285, 'motivate': 4286, 'motivation': 4287, 'motor': 4288, 'motorboats': 4289, 'motors': 4290, 'mountain': 4291, 'mountains': 4292, 'mouse': 4293, 'mouses': 4294, 'mouth': 4295, 'move': 4296, 'moved': 4297, 'movement': 4298, 'movers': 4299, 'movie': 4300, 'movies': 4301, 'moving': 4302, 'much': 4303, 'mud': 4304, 'mukbang': 4305, 'multi': 4306, 'multidisciplinary': 4307, 'multinational': 4308, 'multiplatform': 4309, 'multiple': 4310, 'multiplying': 4311, 'multipurpose': 4312, 'museum': 4313, 'music': 4314, 'musical': 4315, 'musky': 4316, 'must': 4317, 'mutual': 4318, 'my': 4319, 'myself': 4320, 'mysterious': 4321, 'naira': 4322, 'name': 4323, 'names': 4324, 'napkin': 4325, 'napping': 4326, 'narratives': 4327, 'narrow': 4328, 'nation': 4329, 'national': 4330, 'nationals': 4331, 'nations': 4332, 'native': 4333, 'natural': 4334, 'nature': 4335, 'navigation': 4336, 'near': 4337, 'nearby': 4338, 'nearest': 4339, 'neat': 4340, 'nebulizers': 4341, 'necessary': 4342, 'need': 4343, 'needed': 4344, 'needing': 4345, 'needs': 4346, 'negative': 4347, 'negatively': 4348, 'neglect': 4349, 'negotiable': 4350, 'negotiate': 4351, 'neighbors': 4352, 'neotraditional': 4353, 'nephew': 4354, 'nervous': 4355, 'net': 4356, 'network': 4357, 'networking': 4358, 'networks': 4359, 'never': 4360, 'new': 4361, 'newbie': 4362, 'newborn': 4363, 'newest': 4364, 'newly': 4365, 'news': 4366, 'newsletters': 4367, 'newspaper': 4368, 'next': 4369, 'nice': 4370, 'niche': 4371, 'night': 4372, 'nightclub': 4373, 'nights': 4374, 'nighttime': 4375, 'nine': 4376, 'ninety': 4377, 'no': 4378, 'noble': 4379, 'nobody': 4380, 'nodular': 4381, 'non': 4382, 'nondelivery': 4383, 'none': 4384, 'nonfiction': 4385, 'nonfungible': 4386, 'nonpayments': 4387, 'nonprofits': 4388, 'nonsense': 4389, 'nonspicy': 4390, 'noodle': 4391, 'noodles': 4392, 'noon': 4393, 'norm': 4394, 'normal': 4395, 'normally': 4396, 'northern': 4397, 'nose': 4398, 'nostalgia': 4399, 'not': 4400, 'notch': 4401, 'note': 4402, 'notebook': 4403, 'noted': 4404, 'notes': 4405, 'nothing': 4406, 'notice': 4407, 'noticed': 4408, 'notices': 4409, 'notification': 4410, 'notified': 4411, 'notify': 4412, 'notifying': 4413, 'novel': 4414, 'novels': 4415, 'now': 4416, 'nowadays': 4417, 'number': 4418, 'numbers': 4419, 'numerous': 4420, 'nurse': 4421, 'nutritional': 4422, 'nutty': 4423, 'nylon': 4424, 'o': 4425, 'object': 4426, 'objection': 4427, 'objections': 4428, 'objective': 4429, 'obligation': 4430, 'obligations': 4431, 'oblige': 4432, 'observations': 4433, 'observing': 4434, 'obstacles': 4435, 'obtain': 4436, 'obtaining': 4437, 'obviously': 4438, 'occasion': 4439, 'occupation': 4440, 'occupied': 4441, 'occupy': 4442, 'occur': 4443, 'occurrence': 4444, 'occurs': 4445, 'ocean': 4446, 'of': 4447, 'off': 4448, 'offend': 4449, 'offer': 4450, 'offered': 4451, 'offering': 4452, 'offerings': 4453, 'offers': 4454, 'office': 4455, 'officer': 4456, 'officers': 4457, 'offices': 4458, 'official': 4459, 'officially': 4460, 'offline': 4461, 'offshore': 4462, 'often': 4463, 'oh': 4464, 'oil': 4465, 'oils': 4466, 'okay': 4467, 'old': 4468, 'older': 4469, 'oldest': 4470, 'on': 4471, 'once': 4472, 'ondol': 4473, 'one': 4474, 'ones': 4475, 'ongoing': 4476, 'onions': 4477, 'online': 4478, 'only': 4479, 'onto': 4480, 'onwards': 4481, 'open': 4482, 'opened': 4483, 'opening': 4484, 'openly': 4485, 'opens': 4486, 'operate': 4487, 'operated': 4488, 'operating': 4489, 'operation': 4490, 'operational': 4491, 'operations': 4492, 'operative': 4493, 'operator': 4494, 'operators': 4495, 'opinion': 4496, 'opinions': 4497, 'opportunities': 4498, 'opportunity': 4499, 'opt': 4500, 'optimal': 4501, 'optimization': 4502, 'optimize': 4503, 'optimized': 4504, 'optimizer': 4505, 'option': 4506, 'optional': 4507, 'options': 4508, 'optometry': 4509, 'or': 4510, 'orange': 4511, 'order': 4512, 'ordered': 4513, 'ordering': 4514, 'orderly': 4515, 'orders': 4516, 'ordinary': 4517, 'ore': 4518, 'organic': 4519, 'organization': 4520, 'organizational': 4521, 'organizations': 4522, 'organize': 4523, 'organizing': 4524, 'orientation': 4525, 'oriented': 4526, 'original': 4527, 'originally': 4528, 'origins': 4529, 'other': 4530, 'others': 4531, 'ought': 4532, 'ounce': 4533, 'our': 4534, 'ours': 4535, 'ourselves': 4536, 'out': 4537, 'outbreak': 4538, 'outcome': 4539, 'outdated': 4540, 'outdoor': 4541, 'outdoors': 4542, 'outgoing': 4543, 'outings': 4544, 'outlets': 4545, 'outnumber': 4546, 'output': 4547, 'outputs': 4548, 'outreach': 4549, 'outright': 4550, 'outside': 4551, 'outsiders': 4552, 'outsmart': 4553, 'outsource': 4554, 'outstanding': 4555, 'oven': 4556, 'ovens': 4557, 'over': 4558, 'overall': 4559, 'overcharge': 4560, 'overcharged': 4561, 'overdue': 4562, 'overflow': 4563, 'overhang': 4564, 'overheads': 4565, 'overlook': 4566, 'overlooked': 4567, 'overnight': 4568, 'overpriced': 4569, 'overseas': 4570, 'oversees': 4571, 'overstated': 4572, 'overview': 4573, 'overwhelmed': 4574, 'owe': 4575, 'owing': 4576, 'own': 4577, 'owner': 4578, 'owners': 4579, 'ownership': 4580, 'owning': 4581, 'oxblood': 4582, 'p': 4583, 'pace': 4584, 'pacemaker': 4585, 'pack': 4586, 'package': 4587, 'packaged': 4588, 'packages': 4589, 'packaging': 4590, 'packed': 4591, 'packers': 4592, 'packing': 4593, 'packs': 4594, 'page': 4595, 'pages': 4596, 'pagodas': 4597, 'paid': 4598, 'pains': 4599, 'painted': 4600, 'painter': 4601, 'painters': 4602, 'painting': 4603, 'paintings': 4604, 'pair': 4605, 'pairs': 4606, 'pajamas': 4607, 'palaces': 4608, 'palate': 4609, 'palates': 4610, 'palette': 4611, 'palettes': 4612, 'palm': 4613, 'pals': 4614, 'pamphlet': 4615, 'pan': 4616, 'pancakes': 4617, 'pandemic': 4618, 'panel': 4619, 'panels': 4620, 'pans': 4621, 'pantry': 4622, 'papaya': 4623, 'paper': 4624, 'papers': 4625, 'paperwork': 4626, 'par': 4627, 'parcel': 4628, 'parents': 4629, 'park': 4630, 'parking': 4631, 'part': 4632, 'partake': 4633, 'partial': 4634, 'partially': 4635, 'participant': 4636, 'participants': 4637, 'participate': 4638, 'participating': 4639, 'particular': 4640, 'particularly': 4641, 'parties': 4642, 'partner': 4643, 'partnering': 4644, 'partners': 4645, 'partnership': 4646, 'parts': 4647, 'party': 4648, 'pass': 4649, 'passed': 4650, 'passing': 4651, 'passion': 4652, 'passive': 4653, 'passport': 4654, 'passports': 4655, 'password': 4656, 'past': 4657, 'pasta': 4658, 'paste': 4659, 'patch': 4660, 'patches': 4661, 'patent': 4662, 'patents': 4663, 'path': 4664, 'patience': 4665, 'patient': 4666, 'patients': 4667, 'patronage': 4668, 'patronize': 4669, 'patrons': 4670, 'pattern': 4671, 'patterns': 4672, 'paving': 4673, 'pay': 4674, 'payable': 4675, 'paying': 4676, 'payment': 4677, 'payments': 4678, 'payroll': 4679, 'pays': 4680, 'payslip': 4681, 'pdf': 4682, 'peace': 4683, 'peak': 4684, 'pencil': 4685, 'pending': 4686, 'pension': 4687, 'people': 4688, 'per': 4689, 'percent': 4690, 'percentage': 4691, 'perfect': 4692, 'perform': 4693, 'performance': 4694, 'performed': 4695, 'performing': 4696, 'perhaps': 4697, 'perilla': 4698, 'period': 4699, 'permanent': 4700, 'permanently': 4701, 'permission': 4702, 'permit': 4703, 'permitted': 4704, 'persistent': 4705, 'person': 4706, 'personal': 4707, 'personality': 4708, 'personalized': 4709, 'personally': 4710, 'personnel': 4711, 'persons': 4712, 'persuade': 4713, 'pertinent': 4714, 'perusal': 4715, 'pesky': 4716, 'pet': 4717, 'petition': 4718, 'petrol': 4719, 'pets': 4720, 'phase': 4721, 'phases': 4722, 'phenomena': 4723, 'philosophy': 4724, 'phone': 4725, 'phones': 4726, 'phoning': 4727, 'photo': 4728, 'photobooks': 4729, 'photocopier': 4730, 'photographer': 4731, 'photographers': 4732, 'photographs': 4733, 'photography': 4734, 'photos': 4735, 'physical': 4736, 'physically': 4737, 'piano': 4738, 'pick': 4739, 'picked': 4740, 'picking': 4741, 'picture': 4742, 'pictures': 4743, 'pie': 4744, 'piece': 4745, 'pieces': 4746, 'pier': 4747, 'piling': 4748, 'pillars': 4749, 'pills': 4750, 'pin': 4751, 'pink': 4752, 'pioneers': 4753, 'pipe': 4754, 'pipeline': 4755, 'pipelines': 4756, 'pipes': 4757, 'piqued': 4758, 'piques': 4759, 'piston': 4760, 'pitch': 4761, 'pitching': 4762, 'pity': 4763, 'pixels': 4764, 'place': 4765, 'placed': 4766, 'placement': 4767, 'placements': 4768, 'places': 4769, 'placing': 4770, 'plagiarized': 4771, 'plain': 4772, 'plan': 4773, 'plane': 4774, 'planned': 4775, 'planning': 4776, 'plans': 4777, 'plant': 4778, 'planting': 4779, 'plants': 4780, 'plastic': 4781, 'plastics': 4782, 'plate': 4783, 'plates': 4784, 'platform': 4785, 'platforms': 4786, 'platinum': 4787, 'platters': 4788, 'play': 4789, 'played': 4790, 'player': 4791, 'players': 4792, 'playground': 4793, 'playing': 4794, 'plays': 4795, 'plaza': 4796, 'pleasant': 4797, 'please': 4798, 'pleased': 4799, 'pleasure': 4800, 'plotter': 4801, 'plowing': 4802, 'plug': 4803, 'plugins': 4804, 'plus': 4805, 'pm': 4806, 'pneumatic': 4807, 'pocket': 4808, 'pockets': 4809, 'podcast': 4810, 'podcasts': 4811, 'point': 4812, 'pointing': 4813, 'points': 4814, 'policies': 4815, 'policy': 4816, 'policyholders': 4817, 'policymakers': 4818, 'polite': 4819, 'political': 4820, 'politicians': 4821, 'polystyrene': 4822, 'polyurethane': 4823, 'pool': 4824, 'pools': 4825, 'poor': 4826, 'pop': 4827, 'popular': 4828, 'popularity': 4829, 'population': 4830, 'poring': 4831, 'pork': 4832, 'porridge': 4833, 'port': 4834, 'portal': 4835, 'portals': 4836, 'portfolio': 4837, 'portfolios': 4838, 'portion': 4839, 'portraits': 4840, 'ports': 4841, 'posh': 4842, 'position': 4843, 'positioning': 4844, 'positions': 4845, 'positive': 4846, 'positives': 4847, 'possess': 4848, 'possibility': 4849, 'possible': 4850, 'possibly': 4851, 'post': 4852, 'postal': 4853, 'posted': 4854, 'poster': 4855, 'posters': 4856, 'posting': 4857, 'postings': 4858, 'postpaid': 4859, 'posts': 4860, 'potato': 4861, 'potential': 4862, 'pots': 4863, 'power': 4864, 'powered': 4865, 'practically': 4866, 'practice': 4867, 'practices': 4868, 'praised': 4869, 'praises': 4870, 'pray': 4871, 'prays': 4872, 'precise': 4873, 'precisely': 4874, 'precision': 4875, 'predict': 4876, 'predictable': 4877, 'prediction': 4878, 'prefer': 4879, 'preferably': 4880, 'preference': 4881, 'preferences': 4882, 'preferred': 4883, 'premises': 4884, 'premium': 4885, 'premiums': 4886, 'preoccupied': 4887, 'preorder': 4888, 'preparation': 4889, 'prepare': 4890, 'prepared': 4891, 'preparedness': 4892, 'preparing': 4893, 'prescription': 4894, 'prescriptions': 4895, 'presence': 4896, 'present': 4897, 'presentation': 4898, 'presented': 4899, 'presenting': 4900, 'presents': 4901, 'preservation': 4902, 'preserve': 4903, 'president': 4904, 'press': 4905, 'pressed': 4906, 'pressing': 4907, 'pressure': 4908, 'pretty': 4909, 'prevent': 4910, 'prevented': 4911, 'prevention': 4912, 'preview': 4913, 'previous': 4914, 'previously': 4915, 'price': 4916, 'priced': 4917, 'priceless': 4918, 'prices': 4919, 'pricing': 4920, 'priest': 4921, 'primarily': 4922, 'primary': 4923, 'prime': 4924, 'principal': 4925, 'principle': 4926, 'print': 4927, 'printed': 4928, 'printers': 4929, 'printing': 4930, 'prints': 4931, 'prior': 4932, 'prioritize': 4933, 'prioritized': 4934, 'priority': 4935, 'privacy': 4936, 'private': 4937, 'privilege': 4938, 'prize': 4939, 'prized': 4940, 'probably': 4941, 'problem': 4942, 'problematic': 4943, 'problems': 4944, 'procedure': 4945, 'procedures': 4946, 'proceed': 4947, 'proceedings': 4948, 'proceeds': 4949, 'process': 4950, 'processed': 4951, 'processes': 4952, 'processing': 4953, 'processor': 4954, 'processors': 4955, 'procurement': 4956, 'produce': 4957, 'produced': 4958, 'producer': 4959, 'produces': 4960, 'producing': 4961, 'product': 4962, 'production': 4963, 'productions': 4964, 'productivity': 4965, 'products': 4966, 'profession': 4967, 'professional': 4968, 'professionally': 4969, 'professionals': 4970, 'professions': 4971, 'professor': 4972, 'professors': 4973, 'proficiency': 4974, 'profile': 4975, 'profit': 4976, 'profitability': 4977, 'profitable': 4978, 'profits': 4979, 'program': 4980, 'programmed': 4981, 'programmer': 4982, 'programmers': 4983, 'programming': 4984, 'programs': 4985, 'progress': 4986, 'progressing': 4987, 'project': 4988, 'projections': 4989, 'projector': 4990, 'projectors': 4991, 'projects': 4992, 'prominent': 4993, 'prominently': 4994, 'promise': 4995, 'promised': 4996, 'promises': 4997, 'promising': 4998, 'promo': 4999, 'promos': 5000, 'promote': 5001, 'promoting': 5002, 'promotion': 5003, 'promotional': 5004, 'promotions': 5005, 'prompt': 5006, 'promptly': 5007, 'prompts': 5008, 'proof': 5009, 'proofs': 5010, 'propelled': 5011, 'proper': 5012, 'properly': 5013, 'properties': 5014, 'property': 5015, 'proportion': 5016, 'proposal': 5017, 'proposals': 5018, 'propose': 5019, 'proposed': 5020, 'proposing': 5021, 'proposition': 5022, 'pros': 5023, 'prospective': 5024, 'prosperous': 5025, 'prosthetics': 5026, 'prostrations': 5027, 'protect': 5028, 'protected': 5029, 'protection': 5030, 'protectionism': 5031, 'protections': 5032, 'protective': 5033, 'protects': 5034, 'protein': 5035, 'protocol': 5036, 'protocols': 5037, 'prototype': 5038, 'proud': 5039, 'prove': 5040, 'proven': 5041, 'provide': 5042, 'provided': 5043, 'provider': 5044, 'providers': 5045, 'provides': 5046, 'providing': 5047, 'province': 5048, 'proximity': 5049, 'pub': 5050, 'public': 5051, 'publication': 5052, 'publications': 5053, 'publicly': 5054, 'publish': 5055, 'published': 5056, 'publishers': 5057, 'publishing': 5058, 'pull': 5059, 'pulse': 5060, 'pump': 5061, 'pumps': 5062, 'punctual': 5063, 'purchase': 5064, 'purchased': 5065, 'purchases': 5066, 'purchasing': 5067, 'purely': 5068, 'purified': 5069, 'purifiers': 5070, 'purify': 5071, 'purpose': 5072, 'purposes': 5073, 'pursue': 5074, 'push': 5075, 'pushed': 5076, 'put': 5077, 'puts': 5078, 'putting': 5079, 'quadrupled': 5080, 'qualified': 5081, 'qualify': 5082, 'qualities': 5083, 'quality': 5084, 'quantities': 5085, 'quantity': 5086, 'quarter': 5087, 'quarterly': 5088, 'queries': 5089, 'query': 5090, 'question': 5091, 'questionnaire': 5092, 'questions': 5093, 'queue': 5094, 'quick': 5095, 'quickly': 5096, 'quilt': 5097, 'quite': 5098, 'quotation': 5099, 'quotations': 5100, 'quote': 5101, 'radio': 5102, 'radioactive': 5103, 'railway': 5104, 'rain': 5105, 'raise': 5106, 'raising': 5107, 'rally': 5108, 'rambling': 5109, 'ramen': 5110, 'ran': 5111, 'random': 5112, 'randomly': 5113, 'rang': 5114, 'range': 5115, 'ranger': 5116, 'ranges': 5117, 'ranging': 5118, 'rank': 5119, 'ranked': 5120, 'ranking': 5121, 'ranks': 5122, 'rapidly': 5123, 'rapport': 5124, 'rare': 5125, 'rate': 5126, 'rates': 5127, 'rather': 5128, 'rating': 5129, 'ratings': 5130, 'ratio': 5131, 'rational': 5132, 'raw': 5133, 'ray': 5134, 'rd': 5135, 're': 5136, 'reach': 5137, 'reached': 5138, 'reaches': 5139, 'reaching': 5140, 'react': 5141, 'reaction': 5142, 'read': 5143, 'readers': 5144, 'reading': 5145, 'reads': 5146, 'ready': 5147, 'real': 5148, 'realistic': 5149, 'reality': 5150, 'realize': 5151, 'really': 5152, 'realtor': 5153, 'reap': 5154, 'rear': 5155, 'reason': 5156, 'reasonable': 5157, 'reasons': 5158, 'reassuring': 5159, 'rebook': 5160, 'recall': 5161, 'receipt': 5162, 'receipts': 5163, 'receivable': 5164, 'receive': 5165, 'received': 5166, 'receiver': 5167, 'receiving': 5168, 'recent': 5169, 'recently': 5170, 'reception': 5171, 'receptionist': 5172, 'recharge': 5173, 'recharging': 5174, 'recipe': 5175, 'recipes': 5176, 'recipients': 5177, 'recognize': 5178, 'recognized': 5179, 'recommend': 5180, 'recommendation': 5181, 'recommendations': 5182, 'recommended': 5183, 'recommending': 5184, 'reconfirm': 5185, 'reconsider': 5186, 'record': 5187, 'recorded': 5188, 'recording': 5189, 'recordings': 5190, 'records': 5191, 'recover': 5192, 'recovery': 5193, 'recreation': 5194, 'rectified': 5195, 'recuperate': 5196, 'red': 5197, 'redemption': 5198, 'redirect': 5199, 'redownloaded': 5200, 'redrafting': 5201, 'reduce': 5202, 'reduced': 5203, 'reduces': 5204, 'reducing': 5205, 'reefer': 5206, 'reefers': 5207, 'reels': 5208, 'refer': 5209, 'reference': 5210, 'referred': 5211, 'referring': 5212, 'refers': 5213, 'refine': 5214, 'reflected': 5215, 'refrain': 5216, 'refresher': 5217, 'refund': 5218, 'refunded': 5219, 'refunds': 5220, 'refuse': 5221, 'refuses': 5222, 'regard': 5223, 'regarded': 5224, 'regarding': 5225, 'regardless': 5226, 'regards': 5227, 'region': 5228, 'regional': 5229, 'register': 5230, 'registered': 5231, 'registration': 5232, 'registry': 5233, 'regret': 5234, 'regretting': 5235, 'regular': 5236, 'regularly': 5237, 'regulated': 5238, 'regulations': 5239, 'regulatory': 5240, 'rehearsal': 5241, 'reheated': 5242, 'reimbursed': 5243, 'reimbursement': 5244, 'reimbursing': 5245, 'reinstalled': 5246, 'reject': 5247, 'rejected': 5248, 'relatable': 5249, 'relate': 5250, 'related': 5251, 'relations': 5252, 'relationship': 5253, 'relationships': 5254, 'relative': 5255, 'relatively': 5256, 'relatives': 5257, 'relax': 5258, 'relaxation': 5259, 'relaxing': 5260, 'relay': 5261, 'release': 5262, 'released': 5263, 'releases': 5264, 'releasing': 5265, 'relentlessly': 5266, 'relevant': 5267, 'reliable': 5268, 'relief': 5269, 'relies': 5270, 'relieved': 5271, 'religious': 5272, 'relocate': 5273, 'rely': 5274, 'remain': 5275, 'remaining': 5276, 'remains': 5277, 'remarks': 5278, 'remember': 5279, 'remembered': 5280, 'remind': 5281, 'reminder': 5282, 'reminders': 5283, 'reminding': 5284, 'reminds': 5285, 'reminisce': 5286, 'remittance': 5287, 'remote': 5288, 'remotely': 5289, 'removable': 5290, 'remove': 5291, 'removers': 5292, 'removing': 5293, 'render': 5294, 'rendered': 5295, 'renders': 5296, 'renege': 5297, 'renew': 5298, 'renewable': 5299, 'renewal': 5300, 'renewed': 5301, 'renewing': 5302, 'renovate': 5303, 'renovated': 5304, 'renovation': 5305, 'renowned': 5306, 'rent': 5307, 'rental': 5308, 'rentals': 5309, 'rented': 5310, 'renting': 5311, 'reorder': 5312, 'repair': 5313, 'repay': 5314, 'repayment': 5315, 'repeat': 5316, 'replace': 5317, 'replaced': 5318, 'replacement': 5319, 'replacements': 5320, 'replacing': 5321, 'reply': 5322, 'report': 5323, 'reported': 5324, 'reports': 5325, 'representative': 5326, 'representing': 5327, 'represents': 5328, 'reputable': 5329, 'reputation': 5330, 'reputed': 5331, 'request': 5332, 'requested': 5333, 'requesting': 5334, 'requests': 5335, 'require': 5336, 'required': 5337, 'requirement': 5338, 'requirements': 5339, 'requires': 5340, 'rescheduled': 5341, 'rescission': 5342, 'research': 5343, 'researched': 5344, 'researching': 5345, 'resellers': 5346, 'resending': 5347, 'reservation': 5348, 'reservations': 5349, 'reserve': 5350, 'reserved': 5351, 'reserving': 5352, 'reset': 5353, 'reside': 5354, 'residence': 5355, 'resident': 5356, 'residents': 5357, 'residing': 5358, 'resistant': 5359, 'resistors': 5360, 'resolve': 5361, 'resolved': 5362, 'resolving': 5363, 'resort': 5364, 'resorting': 5365, 'resorts': 5366, 'resource': 5367, 'resources': 5368, 'respect': 5369, 'respected': 5370, 'respective': 5371, 'respectively': 5372, 'respects': 5373, 'respond': 5374, 'responding': 5375, 'response': 5376, 'responsibility': 5377, 'responsible': 5378, 'responsive': 5379, 'rest': 5380, 'restart': 5381, 'restaurant': 5382, 'restaurants': 5383, 'restocked': 5384, 'restore': 5385, 'restoring': 5386, 'restricted': 5387, 'restriction': 5388, 'restrictions': 5389, 'restroom': 5390, 'restrooms': 5391, 'result': 5392, 'resulted': 5393, 'results': 5394, 'resume': 5395, 'resumes': 5396, 'retail': 5397, 'retailer': 5398, 'retails': 5399, 'retain': 5400, 'retains': 5401, 'retirement': 5402, 'retract': 5403, 'retreat': 5404, 'retreats': 5405, 'retrieve': 5406, 'return': 5407, 'returned': 5408, 'returning': 5409, 'returns': 5410, 'reuploading': 5411, 'reusable': 5412, 'revamp': 5413, 'revealing': 5414, 'revenue': 5415, 'revenues': 5416, 'revert': 5417, 'review': 5418, 'reviewed': 5419, 'reviewers': 5420, 'reviewing': 5421, 'revise': 5422, 'revised': 5423, 'revision': 5424, 'revisions': 5425, 'revoke': 5426, 'revolving': 5427, 'reward': 5428, 'rewarding': 5429, 'rewards': 5430, 'rib': 5431, 'ribs': 5432, 'rice': 5433, 'rich': 5434, 'rid': 5435, 'ride': 5436, 'rides': 5437, 'right': 5438, 'rights': 5439, 'rigid': 5440, 'rim': 5441, 'ring': 5442, 'rise': 5443, 'risen': 5444, 'risk': 5445, 'risking': 5446, 'risks': 5447, 'risky': 5448, 'ritual': 5449, 'road': 5450, 'roadblock': 5451, 'roadmap': 5452, 'roasted': 5453, 'robot': 5454, 'rock': 5455, 'rocky': 5456, 'role': 5457, 'roleplaying': 5458, 'roles': 5459, 'roll': 5460, 'roller': 5461, 'rolls': 5462, 'roof': 5463, 'roofing': 5464, 'rooftop': 5465, 'room': 5466, 'roommate': 5467, 'rooms': 5468, 'root': 5469, 'roots': 5470, 'ropes': 5471, 'rotary': 5472, 'rough': 5473, 'round': 5474, 'rounds': 5475, 'router': 5476, 'routine': 5477, 'royalty': 5478, 'rude': 5479, 'ruin': 5480, 'ruined': 5481, 'rules': 5482, 'rumor': 5483, 'run': 5484, 'running': 5485, 'runs': 5486, 'rural': 5487, 'rush': 5488, 'rushing': 5489, 's': 5490, 'sacrificing': 5491, 'sad': 5492, 'safe': 5493, 'safeguard': 5494, 'safely': 5495, 'safer': 5496, 'safety': 5497, 'said': 5498, 'sake': 5499, 'salad': 5500, 'salary': 5501, 'sale': 5502, 'sales': 5503, 'salesmen': 5504, 'salt': 5505, 'saltwater': 5506, 'same': 5507, 'samgyeopsal': 5508, 'samgyupsal': 5509, 'sample': 5510, 'sampler': 5511, 'samples': 5512, 'sampling': 5513, 'sanctioning': 5514, 'sandwich': 5515, 'sandwiches': 5516, 'sanitary': 5517, 'satellite': 5518, 'satin': 5519, 'satisfied': 5520, 'satisfy': 5521, 'sauce': 5522, 'sauna': 5523, 'sausage': 5524, 'save': 5525, 'saved': 5526, 'saver': 5527, 'saves': 5528, 'saving': 5529, 'savings': 5530, 'savory': 5531, 'savvy': 5532, 'saw': 5533, 'say': 5534, 'saying': 5535, 'says': 5536, 'scaffolding': 5537, 'scale': 5538, 'scammed': 5539, 'scan': 5540, 'scanner': 5541, 'scanners': 5542, 'scanning': 5543, 'scarcity': 5544, 'scared': 5545, 'scavenger': 5546, 'scenario': 5547, 'scenarios': 5548, 'scenic': 5549, 'scent': 5550, 'schedule': 5551, 'scheduled': 5552, 'scheduler': 5553, 'schedules': 5554, 'scheme': 5555, 'scholar': 5556, 'scholarships': 5557, 'school': 5558, 'schooling': 5559, 'science': 5560, 'sciences': 5561, 'scientific': 5562, 'scientists': 5563, 'scooters': 5564, 'score': 5565, 'scores': 5566, 'scratch': 5567, 'screen': 5568, 'screening': 5569, 'screenplay': 5570, 'screens': 5571, 'screenshot': 5572, 'screenshots': 5573, 'screw': 5574, 'screws': 5575, 'script': 5576, 'scrub': 5577, 'sculptors': 5578, 'sea': 5579, 'seal': 5580, 'search': 5581, 'searching': 5582, 'seared': 5583, 'season': 5584, 'seasons': 5585, 'seat': 5586, 'seats': 5587, 'seaweed': 5588, 'seaworthiness': 5589, 'second': 5590, 'secondary': 5591, 'secondhand': 5592, 'seconds': 5593, 'secret': 5594, 'secretary': 5595, 'section': 5596, 'sector': 5597, 'secure': 5598, 'secured': 5599, 'secures': 5600, 'securing': 5601, 'securities': 5602, 'security': 5603, 'see': 5604, 'seedlings': 5605, 'seeing': 5606, 'seek': 5607, 'seeking': 5608, 'seem': 5609, 'seems': 5610, 'seen': 5611, 'select': 5612, 'selected': 5613, 'selection': 5614, 'selections': 5615, 'self': 5616, 'sell': 5617, 'seller': 5618, 'sellers': 5619, 'selling': 5620, 'sells': 5621, 'selves': 5622, 'semester': 5623, 'semiconductor': 5624, 'semiconductors': 5625, 'seminar': 5626, 'seminars': 5627, 'send': 5628, 'sender': 5629, 'sending': 5630, 'senior': 5631, 'seniors': 5632, 'sense': 5633, 'sensor': 5634, 'sensors': 5635, 'sent': 5636, 'separate': 5637, 'separately': 5638, 'serial': 5639, 'series': 5640, 'serious': 5641, 'serve': 5642, 'served': 5643, 'server': 5644, 'servers': 5645, 'serves': 5646, 'service': 5647, 'serviced': 5648, 'services': 5649, 'servicing': 5650, 'serving': 5651, 'servings': 5652, 'servo': 5653, 'session': 5654, 'sessions': 5655, 'set': 5656, 'sets': 5657, 'setting': 5658, 'settings': 5659, 'settle': 5660, 'settled': 5661, 'setup': 5662, 'setups': 5663, 'seven': 5664, 'several': 5665, 'severe': 5666, 'sewer': 5667, 'sewing': 5668, 'shaded': 5669, 'shaft': 5670, 'shafts': 5671, 'shake': 5672, 'shall': 5673, 'shape': 5674, 'shaped': 5675, 'shapes': 5676, 'share': 5677, 'shared': 5678, 'shares': 5679, 'sharing': 5680, 'sharpened': 5681, 'sharply': 5682, 'she': 5683, 'sheet': 5684, 'shelter': 5685, 'shift': 5686, 'shifted': 5687, 'ship': 5688, 'shipment': 5689, 'shipments': 5690, 'shipped': 5691, 'shipping': 5692, 'ships': 5693, 'shock': 5694, 'shoddy': 5695, 'shoe': 5696, 'shoes': 5697, 'shoot': 5698, 'shooting': 5699, 'shop': 5700, 'shopping': 5701, 'shops': 5702, 'short': 5703, 'shortly': 5704, 'shot': 5705, 'shots': 5706, 'should': 5707, 'shoulder': 5708, 'shouldn': 5709, 'shovel': 5710, 'shovels': 5711, 'show': 5712, 'showcase': 5713, 'showcases': 5714, 'showcasing': 5715, 'showed': 5716, 'shower': 5717, 'showing': 5718, 'shown': 5719, 'showroom': 5720, 'shows': 5721, 'shredder': 5722, 'shredders': 5723, 'shrimp': 5724, 'shutting': 5725, 'shy': 5726, 'sibling': 5727, 'side': 5728, 'sides': 5729, 'sign': 5730, 'signal': 5731, 'signals': 5732, 'signatory': 5733, 'signature': 5734, 'signatures': 5735, 'signed': 5736, 'significance': 5737, 'significant': 5738, 'significantly': 5739, 'signify': 5740, 'signing': 5741, 'silent': 5742, 'silk': 5743, 'silver': 5744, 'silverware': 5745, 'similar': 5746, 'simmered': 5747, 'simmering': 5748, 'simple': 5749, 'simpler': 5750, 'simply': 5751, 'simultaneously': 5752, 'since': 5753, 'sincere': 5754, 'sincerely': 5755, 'sing': 5756, 'single': 5757, 'sink': 5758, 'sir': 5759, 'sister': 5760, 'sit': 5761, 'site': 5762, 'sited': 5763, 'sites': 5764, 'sitting': 5765, 'situation': 5766, 'situations': 5767, 'six': 5768, 'sixth': 5769, 'sizable': 5770, 'size': 5771, 'sized': 5772, 'sizes': 5773, 'sketches': 5774, 'skill': 5775, 'skilled': 5776, 'skills': 5777, 'skin': 5778, 'skincare': 5779, 'skyline': 5780, 'skyrocket': 5781, 'sleep': 5782, 'sleeping': 5783, 'slept': 5784, 'slice': 5785, 'slide': 5786, 'slides': 5787, 'sliding': 5788, 'slightly': 5789, 'slip': 5790, 'slippers': 5791, 'slot': 5792, 'slots': 5793, 'slow': 5794, 'slurp': 5795, 'small': 5796, 'smaller': 5797, 'smallest': 5798, 'smart': 5799, 'smartphone': 5800, 'smartphones': 5801, 'smartwatches': 5802, 'smile': 5803, 'smoke': 5804, 'smooth': 5805, 'smoothly': 5806, 'snack': 5807, 'snacks': 5808, 'snap': 5809, 'sneakers': 5810, 'snob': 5811, 'snorkeling': 5812, 'so': 5813, 'soap': 5814, 'soaps': 5815, 'soaring': 5816, 'social': 5817, 'societal': 5818, 'socket': 5819, 'socks': 5820, 'sof': 5821, 'sofa': 5822, 'soft': 5823, 'software': 5824, 'softwares': 5825, 'soil': 5826, 'soju': 5827, 'sold': 5828, 'sole': 5829, 'solely': 5830, 'solid': 5831, 'solitary': 5832, 'solo': 5833, 'solution': 5834, 'solutions': 5835, 'solve': 5836, 'solving': 5837, 'some': 5838, 'somebody': 5839, 'someday': 5840, 'somehow': 5841, 'someone': 5842, 'something': 5843, 'sometime': 5844, 'sometimes': 5845, 'somewhere': 5846, 'son': 5847, 'song': 5848, 'songs': 5849, 'soon': 5850, 'sooner': 5851, 'sophisticated': 5852, 'sorry': 5853, 'sort': 5854, 'sorted': 5855, 'sorts': 5856, 'sound': 5857, 'soundbite': 5858, 'sounded': 5859, 'sounds': 5860, 'soundtrack': 5861, 'soup': 5862, 'source': 5863, 'sources': 5864, 'sous': 5865, 'southeast': 5866, 'souvenirs': 5867, 'soy': 5868, 'spa': 5869, 'space': 5870, 'spaces': 5871, 'spacious': 5872, 'spaghetti': 5873, 'spam': 5874, 'spare': 5875, 'spark': 5876, 'spas': 5877, 'speak': 5878, 'speaker': 5879, 'speakers': 5880, 'speaking': 5881, 'speaks': 5882, 'special': 5883, 'specialize': 5884, 'specialized': 5885, 'specializes': 5886, 'specialties': 5887, 'specialty': 5888, 'specific': 5889, 'specifically': 5890, 'specification': 5891, 'specifications': 5892, 'specifics': 5893, 'spectacular': 5894, 'spectrophotometer': 5895, 'spectrum': 5896, 'speed': 5897, 'speeds': 5898, 'spend': 5899, 'spending': 5900, 'spent': 5901, 'spices': 5902, 'spicy': 5903, 'spike': 5904, 'spinners': 5905, 'spinning': 5906, 'spiral': 5907, 'split': 5908, 'spoke': 5909, 'spoken': 5910, 'sponsor': 5911, 'sponsored': 5912, 'spoons': 5913, 'sports': 5914, 'spot': 5915, 'spots': 5916, 'spouse': 5917, 'sprained': 5918, 'spray': 5919, 'spread': 5920, 'spreader': 5921, 'spreading': 5922, 'spring': 5923, 'springs': 5924, 'sprout': 5925, 'sprouts': 5926, 'spyware': 5927, 'square': 5928, 'squeeze': 5929, 'squid': 5930, 'ssambap': 5931, 'ssamjang': 5932, 'st': 5933, 'stable': 5934, 'stacking': 5935, 'staff': 5936, 'staffs': 5937, 'stage': 5938, 'stages': 5939, 'staggered': 5940, 'stainless': 5941, 'stake': 5942, 'stalls': 5943, 'stand': 5944, 'standard': 5945, 'standards': 5946, 'standing': 5947, 'stands': 5948, 'star': 5949, 'starch': 5950, 'starred': 5951, 'stars': 5952, 'start': 5953, 'started': 5954, 'starters': 5955, 'starting': 5956, 'starts': 5957, 'startup': 5958, 'startups': 5959, 'state': 5960, 'stated': 5961, 'statement': 5962, 'statements': 5963, 'states': 5964, 'static': 5965, 'station': 5966, 'stationary': 5967, 'stationed': 5968, 'stations': 5969, 'statistics': 5970, 'statue': 5971, 'status': 5972, 'stay': 5973, 'stayed': 5974, 'staying': 5975, 'stays': 5976, 'steadier': 5977, 'steady': 5978, 'steak': 5979, 'steal': 5980, 'steamed': 5981, 'steamers': 5982, 'steel': 5983, 'steering': 5984, 'stems': 5985, 'step': 5986, 'stepped': 5987, 'steps': 5988, 'sterilizers': 5989, 'stew': 5990, 'stick': 5991, 'sticker': 5992, 'stickers': 5993, 'sticky': 5994, 'still': 5995, 'stipulated': 5996, 'stir': 5997, 'stitches': 5998, 'stock': 5999, 'stockbroker': 6000, 'stocks': 6001, 'stolen': 6002, 'stones': 6003, 'stop': 6004, 'stoppers': 6005, 'stops': 6006, 'storage': 6007, 'store': 6008, 'stored': 6009, 'stores': 6010, 'storey': 6011, 'stories': 6012, 'storm': 6013, 'story': 6014, 'stoves': 6015, 'straight': 6016, 'straighten': 6017, 'strain': 6018, 'strands': 6019, 'strange': 6020, 'strategic': 6021, 'strategies': 6022, 'strategize': 6023, 'strategy': 6024, 'straw': 6025, 'stream': 6026, 'streamed': 6027, 'streaming': 6028, 'street': 6029, 'strength': 6030, 'strengthen': 6031, 'stress': 6032, 'strict': 6033, 'strictly': 6034, 'strictness': 6035, 'strips': 6036, 'strive': 6037, 'striving': 6038, 'stroganoff': 6039, 'strong': 6040, 'stronger': 6041, 'strongly': 6042, 'structure': 6043, 'structures': 6044, 'struggle': 6045, 'stub': 6046, 'stuck': 6047, 'student': 6048, 'students': 6049, 'studied': 6050, 'studies': 6051, 'studio': 6052, 'study': 6053, 'studying': 6054, 'stuff': 6055, 'stumped': 6056, 'stunning': 6057, 'stupendous': 6058, 'stuttering': 6059, 'style': 6060, 'subcription': 6061, 'subdivision': 6062, 'submersible': 6063, 'submission': 6064, 'submissions': 6065, 'submit': 6066, 'submitted': 6067, 'subscribe': 6068, 'subscribed': 6069, 'subscriber': 6070, 'subscribers': 6071, 'subscribing': 6072, 'subscription': 6073, 'subscriptions': 6074, 'subsidiaries': 6075, 'subsidiary': 6076, 'substantial': 6077, 'subtitles': 6078, 'subway': 6079, 'succeed': 6080, 'succeeded': 6081, 'success': 6082, 'successful': 6083, 'succinctly': 6084, 'such': 6085, 'suction': 6086, 'sudden': 6087, 'suddenly': 6088, 'suffer': 6089, 'suffered': 6090, 'suffice': 6091, 'sufficient': 6092, 'sugar': 6093, 'suggest': 6094, 'suggested': 6095, 'suggesting': 6096, 'suggestion': 6097, 'suggestions': 6098, 'suit': 6099, 'suitable': 6100, 'suite': 6101, 'suites': 6102, 'sujeonggwa': 6103, 'sukju': 6104, 'sum': 6105, 'summary': 6106, 'summer': 6107, 'sun': 6108, 'sunrise': 6109, 'superintendent': 6110, 'superiors': 6111, 'supermarket': 6112, 'supervisor': 6113, 'supervisory': 6114, 'supplements': 6115, 'supplied': 6116, 'supplier': 6117, 'suppliers': 6118, 'supplies': 6119, 'supply': 6120, 'supplying': 6121, 'support': 6122, 'supporters': 6123, 'supporting': 6124, 'supportive': 6125, 'suppose': 6126, 'supposed': 6127, 'sure': 6128, 'surely': 6129, 'surface': 6130, 'surge': 6131, 'surpass': 6132, 'surplus': 6133, 'surprise': 6134, 'surprised': 6135, 'surround': 6136, 'surveillance': 6137, 'survey': 6138, 'surveyed': 6139, 'suspect': 6140, 'suspicious': 6141, 'sustainable': 6142, 'sweat': 6143, 'sweet': 6144, 'sweets': 6145, 'swift': 6146, 'swiftly': 6147, 'swimming': 6148, 'switch': 6149, 'switched': 6150, 'switching': 6151, 'symbols': 6152, 'symmetric': 6153, 'syndicated': 6154, 'synopsis': 6155, 'synthesizing': 6156, 'synthetic': 6157, 'syringes': 6158, 'system': 6159, 'systems': 6160, 't': 6161, 'tab': 6162, 'table': 6163, 'tables': 6164, 'tablet': 6165, 'tablets': 6166, 'tabulate': 6167, 'tackled': 6168, 'tactics': 6169, 'tagline': 6170, 'tags': 6171, 'tainted': 6172, 'take': 6173, 'taken': 6174, 'takeover': 6175, 'taker': 6176, 'takes': 6177, 'taking': 6178, 'talent': 6179, 'talents': 6180, 'talk': 6181, 'talked': 6182, 'talking': 6183, 'talks': 6184, 'tap': 6185, 'tape': 6186, 'taps': 6187, 'target': 6188, 'targeted': 6189, 'targeting': 6190, 'targets': 6191, 'tariff': 6192, 'tariffs': 6193, 'task': 6194, 'tasked': 6195, 'tasks': 6196, 'taste': 6197, 'tasted': 6198, 'tastes': 6199, 'tasty': 6200, 'tattoo': 6201, 'taught': 6202, 'tax': 6203, 'taxation': 6204, 'taxed': 6205, 'taxes': 6206, 'tea': 6207, 'teach': 6208, 'teacher': 6209, 'teachers': 6210, 'teaching': 6211, 'team': 6212, 'teammates': 6213, 'teams': 6214, 'teas': 6215, 'teaser': 6216, 'tech': 6217, 'technical': 6218, 'technically': 6219, 'technician': 6220, 'technicians': 6221, 'techniques': 6222, 'technological': 6223, 'technologies': 6224, 'technologist': 6225, 'technology': 6226, 'tedious': 6227, 'teenagers': 6228, 'telecommunication': 6229, 'telecommunications': 6230, 'teleconference': 6231, 'telephone': 6232, 'television': 6233, 'televisions': 6234, 'tell': 6235, 'telling': 6236, 'temperature': 6237, 'temperatures': 6238, 'template': 6239, 'templates': 6240, 'temple': 6241, 'temples': 6242, 'temporarily': 6243, 'temporary': 6244, 'ten': 6245, 'tenants': 6246, 'tend': 6247, 'tendency': 6248, 'tender': 6249, 'tent': 6250, 'tentative': 6251, 'tents': 6252, 'tenure': 6253, 'terabyte': 6254, 'terabytes': 6255, 'term': 6256, 'terminal': 6257, 'terminate': 6258, 'terms': 6259, 'terrace': 6260, 'terrible': 6261, 'terribly': 6262, 'test': 6263, 'tested': 6264, 'tester': 6265, 'testers': 6266, 'testing': 6267, 'tests': 6268, 'text': 6269, 'textbook': 6270, 'textbooks': 6271, 'textile': 6272, 'textiles': 6273, 'texts': 6274, 'texture': 6275, 'textures': 6276, 'th': 6277, 'than': 6278, 'thank': 6279, 'thanks': 6280, 'that': 6281, 'the': 6282, 'theater': 6283, 'their': 6284, 'theirs': 6285, 'them': 6286, 'theme': 6287, 'themes': 6288, 'themselves': 6289, 'then': 6290, 'therapy': 6291, 'there': 6292, 'thereby': 6293, 'therefore': 6294, 'thermoforming': 6295, 'thermoplastic': 6296, 'thermostat': 6297, 'these': 6298, 'they': 6299, 'thick': 6300, 'thickened': 6301, 'thin': 6302, 'thing': 6303, 'things': 6304, 'think': 6305, 'thinking': 6306, 'thinks': 6307, 'third': 6308, 'this': 6309, 'thorough': 6310, 'thoroughly': 6311, 'those': 6312, 'though': 6313, 'thought': 6314, 'thoughts': 6315, 'thousand': 6316, 'thousands': 6317, 'threads': 6318, 'threat': 6319, 'threaten': 6320, 'threatening': 6321, 'three': 6322, 'thriller': 6323, 'thrives': 6324, 'through': 6325, 'throughout': 6326, 'thus': 6327, 'ticket': 6328, 'tickets': 6329, 'tie': 6330, 'tied': 6331, 'tier': 6332, 'tight': 6333, 'tightly': 6334, 'till': 6335, 'time': 6336, 'timeline': 6337, 'timelines': 6338, 'timely': 6339, 'timer': 6340, 'times': 6341, 'timespan': 6342, 'timetable': 6343, 'timing': 6344, 'tiny': 6345, 'tip': 6346, 'tipping': 6347, 'tips': 6348, 'tire': 6349, 'tissue': 6350, 'title': 6351, 'to': 6352, 'toast': 6353, 'toasters': 6354, 'tobacco': 6355, 'today': 6356, 'toddlers': 6357, 'toe': 6358, 'together': 6359, 'toilet': 6360, 'token': 6361, 'tokens': 6362, 'told': 6363, 'tolerant': 6364, 'tolerated': 6365, 'tomorrow': 6366, 'ton': 6367, 'tone': 6368, 'toner': 6369, 'tones': 6370, 'tonight': 6371, 'too': 6372, 'took': 6373, 'tool': 6374, 'tools': 6375, 'top': 6376, 'topic': 6377, 'topics': 6378, 'topmost': 6379, 'torn': 6380, 'tortilla': 6381, 'total': 6382, 'totally': 6383, 'touch': 6384, 'touchscreen': 6385, 'tough': 6386, 'tour': 6387, 'tourism': 6388, 'tourist': 6389, 'tourists': 6390, 'tours': 6391, 'tow': 6392, 'toward': 6393, 'towards': 6394, 'towel': 6395, 'towels': 6396, 'town': 6397, 'townhouse': 6398, 'track': 6399, 'trackballs': 6400, 'tracking': 6401, 'trackpad': 6402, 'tractor': 6403, 'trade': 6404, 'trademark': 6405, 'trader': 6406, 'trades': 6407, 'trading': 6408, 'traditional': 6409, 'traditionally': 6410, 'traditions': 6411, 'traffic': 6412, 'trailer': 6413, 'trailers': 6414, 'train': 6415, 'training': 6416, 'trainings': 6417, 'trains': 6418, 'tranche': 6419, 'transact': 6420, 'transaction': 6421, 'transactions': 6422, 'transfer': 6423, 'transferred': 6424, 'transferring': 6425, 'transfers': 6426, 'translations': 6427, 'translators': 6428, 'transmission': 6429, 'transmit': 6430, 'transmitted': 6431, 'transparency': 6432, 'transport': 6433, 'transportation': 6434, 'transportations': 6435, 'trash': 6436, 'travel': 6437, 'traveled': 6438, 'travelers': 6439, 'traveling': 6440, 'travelled': 6441, 'tread': 6442, 'treat': 6443, 'treated': 6444, 'treatment': 6445, 'treatments': 6446, 'tremendously': 6447, 'trend': 6448, 'trending': 6449, 'trends': 6450, 'trendy': 6451, 'tri': 6452, 'trial': 6453, 'trials': 6454, 'tricky': 6455, 'tried': 6456, 'tries': 6457, 'trigger': 6458, 'trip': 6459, 'triple': 6460, 'trips': 6461, 'trouble': 6462, 'troubles': 6463, 'troubleshooting': 6464, 'truck': 6465, 'trucks': 6466, 'true': 6467, 'truly': 6468, 'trust': 6469, 'trusted': 6470, 'trustee': 6471, 'trusting': 6472, 'trustworthy': 6473, 'truth': 6474, 'try': 6475, 'trying': 6476, 'tteokbokki': 6477, 'tub': 6478, 'tube': 6479, 'tubes': 6480, 'tubing': 6481, 'tubs': 6482, 'tuned': 6483, 'tunnels': 6484, 'turn': 6485, 'turnaround': 6486, 'turned': 6487, 'turning': 6488, 'turnkey': 6489, 'turns': 6490, 'tutorials': 6491, 'tweaks': 6492, 'twenty': 6493, 'twice': 6494, 'twin': 6495, 'two': 6496, 'type': 6497, 'types': 6498, 'typewriter': 6499, 'typical': 6500, 'typically': 6501, 'ultimately': 6502, 'ultrasonic': 6503, 'ultrasound': 6504, 'umbrella': 6505, 'unable': 6506, 'unacceptable': 6507, 'unauthorized': 6508, 'unavailable': 6509, 'unaware': 6510, 'unboxed': 6511, 'unboxing': 6512, 'unbreakable': 6513, 'unchanged': 6514, 'uncomfortable': 6515, 'under': 6516, 'undergoing': 6517, 'underlying': 6518, 'underneath': 6519, 'underreported': 6520, 'understaffed': 6521, 'understand': 6522, 'understandable': 6523, 'understanding': 6524, 'undervalued': 6525, 'underwriting': 6526, 'undoubtedly': 6527, 'undress': 6528, 'unemployed': 6529, 'unending': 6530, 'unequal': 6531, 'unexpected': 6532, 'unfair': 6533, 'unfamiliar': 6534, 'unfold': 6535, 'unforeseen': 6536, 'unfortunate': 6537, 'unfortunately': 6538, 'unhappy': 6539, 'unintentional': 6540, 'unique': 6541, 'unit': 6542, 'units': 6543, 'unity': 6544, 'universal': 6545, 'universities': 6546, 'university': 6547, 'unless': 6548, 'unlike': 6549, 'unlimited': 6550, 'unloading': 6551, 'unnecessary': 6552, 'unpleasant': 6553, 'unpredictable': 6554, 'unprofessional': 6555, 'unquantifiable': 6556, 'unrealized': 6557, 'unsecured': 6558, 'unstable': 6559, 'unsure': 6560, 'unsustainable': 6561, 'until': 6562, 'untouched': 6563, 'unused': 6564, 'up': 6565, 'upcoming': 6566, 'update': 6567, 'updated': 6568, 'updates': 6569, 'updating': 6570, 'upfront': 6571, 'upgrade': 6572, 'upgraded': 6573, 'upgrades': 6574, 'upgrading': 6575, 'upkeep': 6576, 'upload': 6577, 'uploaded': 6578, 'uploading': 6579, 'upon': 6580, 'upper': 6581, 'ups': 6582, 'upset': 6583, 'urge': 6584, 'urged': 6585, 'urgent': 6586, 'urgently': 6587, 'us': 6588, 'usability': 6589, 'usage': 6590, 'use': 6591, 'used': 6592, 'useful': 6593, 'user': 6594, 'users': 6595, 'uses': 6596, 'using': 6597, 'usual': 6598, 'usually': 6599, 'utensils': 6600, 'utilities': 6601, 'utility': 6602, 'utilize': 6603, 'utilized': 6604, 'utilizing': 6605, 'vacation': 6606, 'vaccination': 6607, 'vaccine': 6608, 'vacuum': 6609, 'valid': 6610, 'validates': 6611, 'validating': 6612, 'validity': 6613, 'valuable': 6614, 'valuables': 6615, 'value': 6616, 'values': 6617, 'valve': 6618, 'valves': 6619, 'van': 6620, 'vans': 6621, 'variable': 6622, 'variables': 6623, 'variation': 6624, 'varies': 6625, 'varieties': 6626, 'variety': 6627, 'various': 6628, 'vary': 6629, 'varying': 6630, 've': 6631, 'vector': 6632, 'vectors': 6633, 'vegan': 6634, 'vegetable': 6635, 'vegetables': 6636, 'vegetarian': 6637, 'veggies': 6638, 'vehicle': 6639, 'vehicles': 6640, 'vending': 6641, 'vendor': 6642, 'vendors': 6643, 'venture': 6644, 'ventures': 6645, 'venturi': 6646, 'venturing': 6647, 'venue': 6648, 'verification': 6649, 'verified': 6650, 'verify': 6651, 'versatile': 6652, 'version': 6653, 'versions': 6654, 'very': 6655, 'veteran': 6656, 'via': 6657, 'viable': 6658, 'viand': 6659, 'vibes': 6660, 'vibrations': 6661, 'victim': 6662, 'vide': 6663, 'video': 6664, 'videoconferencing': 6665, 'videos': 6666, 'view': 6667, 'viewers': 6668, 'views': 6669, 'villa': 6670, 'village': 6671, 'villas': 6672, 'vine': 6673, 'vinegar': 6674, 'vintage': 6675, 'violated': 6676, 'violation': 6677, 'violent': 6678, 'viral': 6679, 'virtual': 6680, 'virtualization': 6681, 'virtually': 6682, 'virus': 6683, 'viruses': 6684, 'visas': 6685, 'viscosity': 6686, 'visibility': 6687, 'visible': 6688, 'vision': 6689, 'visit': 6690, 'visited': 6691, 'visiting': 6692, 'visitors': 6693, 'visits': 6694, 'visual': 6695, 'visualization': 6696, 'visualizations': 6697, 'visualize': 6698, 'visually': 6699, 'visuals': 6700, 'vital': 6701, 'vitals': 6702, 'vlog': 6703, 'vocabulary': 6704, 'voice': 6705, 'volatile': 6706, 'volume': 6707, 'voluminous': 6708, 'vulnerable': 6709, 'wafer': 6710, 'wage': 6711, 'wages': 6712, 'wait': 6713, 'waited': 6714, 'waiters': 6715, 'waiting': 6716, 'waive': 6717, 'waived': 6718, 'wake': 6719, 'walk': 6720, 'walking': 6721, 'wallet': 6722, 'wallpapers': 6723, 'walls': 6724, 'want': 6725, 'wanted': 6726, 'wanting': 6727, 'wants': 6728, 'warehouse': 6729, 'warm': 6730, 'warn': 6731, 'warning': 6732, 'warping': 6733, 'warrant': 6734, 'warrants': 6735, 'warranty': 6736, 'wary': 6737, 'was': 6738, 'washer': 6739, 'washers': 6740, 'wasn': 6741, 'waste': 6742, 'wasting': 6743, 'watch': 6744, 'watched': 6745, 'watching': 6746, 'water': 6747, 'watering': 6748, 'watermelon': 6749, 'waterproof': 6750, 'waterways': 6751, 'watts': 6752, 'way': 6753, 'ways': 6754, 'we': 6755, 'wealth': 6756, 'wealthy': 6757, 'wear': 6758, 'weather': 6759, 'web': 6760, 'webinar': 6761, 'webinars': 6762, 'webpage': 6763, 'website': 6764, 'websites': 6765, 'wedding': 6766, 'weddings': 6767, 'week': 6768, 'weekdays': 6769, 'weekend': 6770, 'weekends': 6771, 'weekly': 6772, 'weeks': 6773, 'weight': 6774, 'welcome': 6775, 'welcomes': 6776, 'well': 6777, 'went': 6778, 'were': 6779, 'weren': 6780, 'west': 6781, 'western': 6782, 'what': 6783, 'whatever': 6784, 'wheat': 6785, 'wheel': 6786, 'wheels': 6787, 'when': 6788, 'whenever': 6789, 'where': 6790, 'whereabouts': 6791, 'wherever': 6792, 'whether': 6793, 'which': 6794, 'while': 6795, 'white': 6796, 'who': 6797, 'whoever': 6798, 'whole': 6799, 'wholesale': 6800, 'whom': 6801, 'whose': 6802, 'why': 6803, 'wide': 6804, 'widely': 6805, 'widened': 6806, 'wider': 6807, 'widest': 6808, 'wife': 6809, 'wild': 6810, 'wildlife': 6811, 'will': 6812, 'willing': 6813, 'win': 6814, 'wind': 6815, 'window': 6816, 'windows': 6817, 'wine': 6818, 'wines': 6819, 'wing': 6820, 'winner': 6821, 'winter': 6822, 'wipe': 6823, 'wire': 6824, 'wired': 6825, 'wireless': 6826, 'wires': 6827, 'wise': 6828, 'wisely': 6829, 'wish': 6830, 'wished': 6831, 'wishes': 6832, 'with': 6833, 'withdraw': 6834, 'withdrawal': 6835, 'withhold': 6836, 'within': 6837, 'without': 6838, 'witness': 6839, 'women': 6840, 'won': 6841, 'wonder': 6842, 'wonderful': 6843, 'wondering': 6844, 'wonders': 6845, 'wood': 6846, 'word': 6847, 'words': 6848, 'work': 6849, 'worked': 6850, 'worker': 6851, 'workers': 6852, 'workforce': 6853, 'working': 6854, 'workplace': 6855, 'works': 6856, 'workshop': 6857, 'world': 6858, 'worldwide': 6859, 'worm': 6860, 'worms': 6861, 'worried': 6862, 'worries': 6863, 'worry': 6864, 'worrying': 6865, 'worse': 6866, 'worst': 6867, 'worth': 6868, 'worthwhile': 6869, 'worthy': 6870, 'would': 6871, 'wouldn': 6872, 'wow': 6873, 'wrap': 6874, 'wrapping': 6875, 'wraps': 6876, 'write': 6877, 'writers': 6878, 'writing': 6879, 'written': 6880, 'wrong': 6881, 'yacht': 6882, 'yang': 6883, 'yard': 6884, 'yarn': 6885, 'year': 6886, 'yearly': 6887, 'years': 6888, 'yell': 6889, 'yellow': 6890, 'yen': 6891, 'yes': 6892, 'yesterday': 6893, 'yet': 6894, 'yield': 6895, 'yields': 6896, 'yin': 6897, 'yo': 6898, 'you': 6899, 'young': 6900, 'youngsters': 6901, 'your': 6902, 'yours': 6903, 'yourself': 6904, 'yourselves': 6905, 'youth': 6906, 'yurt': 6907, 'zero': 6908, 'zones': 6909, 'zoom': 6910}\n"
          ]
        }
      ]
    },
    {
      "cell_type": "markdown",
      "source": [
        "### 정수 인코딩"
      ],
      "metadata": {
        "id": "tWUdLA1eanaz"
      }
    },
    {
      "cell_type": "code",
      "source": [
        "# 앞서 toekn-index dictionary로 정리한 것을 이용해서 각각의 토큰들을 정수인코딩을 진행해봅니다.\n",
        "# 이 과정에서 유의할 점은, 기존의 구현 코드에서 여러개의 for loop을 사용했습니다.\n",
        "# 이보다 빨리 진행하기 위해 어떻게 코딩할 수 있을까요?\n",
        "# 시간이 충분하시다면 for loop을 그대로 이용하셔도 좋습니다만, 다른 방법도 고민하셔도 좋습니다.\n",
        "# hint: Pandas에서 apply와 비슷한 것들을 이용해보면 어떨까요?\n",
        "\n",
        "# encoder의 입력값 정수 인코딩 진행\n",
        "encoder_input = list(map(lambda words: torch.Tensor(list(map(lambda c: src_to_index[c], words))).long(), src_seq_tr))\n",
        "# 우선 decoder에서 사용하는 문장에 대해 정수인코딩 진행\n",
        "# decoder의 입력값은 마지막 <EOS>가 들어가면 안되니 마지막 토큰은 빼주기\n",
        "decoder_input = list(map(lambda words: torch.Tensor(list(map(lambda c: tar_to_index[c], words))[:-1]).long(), tar_seq_tr))\n",
        "# 다만 decoder의 출력값은 <SOS>들어가면 안되니 첫번째 토큰은 빼주기\n",
        "decoder_target = list(map(lambda words: torch.Tensor(list(map(lambda c: tar_to_index[c], words))[1:]).long(), tar_seq_tr))"
      ],
      "metadata": {
        "id": "ocvHdAzp0B3Q"
      },
      "execution_count": 29,
      "outputs": []
    },
    {
      "cell_type": "code",
      "source": [
        "src_seq_tr[1]"
      ],
      "metadata": {
        "colab": {
          "base_uri": "https://localhost:8080/"
        },
        "id": "ykLmqHRFrKdv",
        "outputId": "eb37b6e0-4829-4b70-8823-6e716a1e114e"
      },
      "execution_count": 30,
      "outputs": [
        {
          "output_type": "execute_result",
          "data": {
            "text/plain": [
              "['확실하다', '생각', '있다', '몇', '가지', '여쭈다', '보고', '싶다', '게', '있다', '<EOS>']"
            ]
          },
          "metadata": {},
          "execution_count": 30
        }
      ]
    },
    {
      "cell_type": "code",
      "execution_count": 31,
      "metadata": {
        "id": "fT3x1SL_l1pY"
      },
      "outputs": [],
      "source": [
        "from torch.nn.utils.rnn import pad_sequence"
      ]
    },
    {
      "cell_type": "markdown",
      "source": [
        "### Padding"
      ],
      "metadata": {
        "id": "ibj8DeCqbvZG"
      }
    },
    {
      "cell_type": "code",
      "execution_count": 32,
      "metadata": {
        "id": "sSNmdbEwuQR5"
      },
      "outputs": [],
      "source": [
        "# 현재 길이가 제각각인 정수화된 문장이 있습니다. padding을 통해 길이를 맞춰봅시다\n",
        "# 주의사항: 여기에 사용된 값을은 정수일까요?\n",
        "batch_first = True\n",
        "\n",
        "encoder_input_tr =  pad_sequence(encoder_input, batch_first=batch_first).long()\n",
        "decoder_input_tr = pad_sequence(decoder_input, batch_first=batch_first).long()\n",
        "decoder_target_tr = pad_sequence(decoder_target, batch_first=batch_first).long()"
      ]
    },
    {
      "cell_type": "markdown",
      "metadata": {
        "id": "FQ_AHRQPmfZX"
      },
      "source": [
        "## Train data\n",
        "\n",
        "tuple type으로,  (encoder_input, decoder_input, decoder_target)의 순서를 가지게 됩니다. 이는 tuple assignment를 이용하려고 하는 것이니 자유롭게 사용하셔도 좋습니다."
      ]
    },
    {
      "cell_type": "code",
      "execution_count": 33,
      "metadata": {
        "id": "YXqi5dV-mjQD"
      },
      "outputs": [],
      "source": [
        "train_data = tuple([encoder_input_tr, decoder_input_tr, decoder_target_tr])"
      ]
    },
    {
      "cell_type": "markdown",
      "metadata": {
        "id": "nXhsP4O3mhih"
      },
      "source": [
        "## Eval data\n",
        "\n",
        "지금까지 진행한 것은 학습 데이터에 대한 전처리입니다.\n",
        "\n",
        "그런데 말입니다, 과연 평가 데이터는 학습데이터랑 동일한 형태일까요?\n",
        "\n",
        "사용하는 단어도 동일할까요?\n",
        "\n",
        "게다가 실제 데이터라면 문장 속에 이메일이나, 전화번호등 다른 것들로 대체해야할 게 있지 않을까요?\n",
        "\n",
        "참으로 고민할 게 많습니다. 이 모든 것들을 고려하면 좋겠지만, 현재 과제에서는 학습 데이터의 단어 집합에는 없는데 평가 데이터에서 등장하는 단어들은 어떻게 처리할지 한번 고민해봅시다.\n",
        "\n",
        "**핵심 TODO**:만약에 본 적이 없는 token이 나온다면 어떻게 될까요?\n",
        "\n",
        "--> Out of Vocabulary !  =지금까지 단어 집합에 없던 아이들!<br>\n",
        "\n",
        "이를 한번에 처리해주는 토큰으로 \\<UNK\\>(=unknown token) 을 사용\n",
        "\n",
        "EX)\n",
        "\n",
        "train data : \"나는 밥을 먹는다.\"<br>\n",
        "\\>> [\"나\", \"밥\", \"먹다\"]<br>\n",
        "\\>> [\\<SOS\\>, 나, 밥, 먹다, \\<EOS\\>] <BR>\n",
        "\\>> {\\<SOS\\>:0, \\<EOS\\>:1, \\<UNK\\>: 2, 나:3, 밥:4, 먹다:5}  <bR>\n",
        "\\>> [0, 3, 4, 5, 1] <BR>\n",
        "\n",
        "val data: \"나는 고기를 먹는다\"<br>\n",
        "\\>> ['나', '고기' '먹다']<BR>\n",
        "\\>> [\\<SOS\\>, 나, \\<UNK\\>, 먹다, \\<EOS\\>] <BR>\n",
        "\\>> [0, 3, 2, 5, 1] <BR>"
      ]
    },
    {
      "cell_type": "code",
      "source": [
        "target = [1, 2, 3, 4, 5, 6, 7, 8, 9, 10]\n",
        "result = filter(lambda x : x%2==0, target)\n",
        "print(list(result))"
      ],
      "metadata": {
        "colab": {
          "base_uri": "https://localhost:8080/"
        },
        "id": "IQl85mi-Hp8m",
        "outputId": "7ac73759-87d5-4a55-b590-c3854d1884a4"
      },
      "execution_count": 34,
      "outputs": [
        {
          "output_type": "stream",
          "name": "stdout",
          "text": [
            "[2, 4, 6, 8, 10]\n"
          ]
        }
      ]
    },
    {
      "cell_type": "code",
      "source": [
        "src_seq_val = []\n",
        "tar_seq_val = []\n",
        "\n",
        "\n",
        "for raw_val_dat in tqdm(raw_val_data):\n",
        "  # 문장별 tokenization\n",
        "  src_tmp = CustomTokenizer(raw_val_dat['ko'])\n",
        "  tar_tmp = CustomTokenizer(raw_val_dat['en'])\n",
        "\n",
        "  # 입력 시퀀스에서 문장의 끝을 알리는 <EOS> 토큰 추가\n",
        "  # 출력 시퀀스에서 시작과 끝을 알리는 <SOS>, <EOS> 토큰 추가\n",
        "  src_tmp.append('<EOS>')\n",
        "  tar_tmp.insert(0, '<SOS>')\n",
        "  tar_tmp.append('<EOS>')\n",
        "\n",
        "  # 처음보는 단어들은 일단 모르는 단어(OOV)로 표시해놓기  \n",
        "  # 해당 과정에서는 지금 얻은 toekn들(src_tmp와 tar_tmp)들 중에서 학습 데이터의 단어 집합(src_vocab과 tar_vocab)에 없는 단어들을 찾아야 합니다.\n",
        "  # 즉 위의 예시에서 \"고기\"에 해당하는 token을 찾아야 하고, 이를 list로 저장해봅시다.\n",
        "  src_oov = list(filter(lambda x: x not in src_vocab, src_tmp))\n",
        "  tar_oov = list(filter(lambda x: x not in tar_vocab, tar_tmp))\n",
        "\n",
        "  # OOV들은 <UNK>로 바꾸는 과정입니다.\n",
        "  # 지금 문장을 tokenization되어 있고, 앞서 구한 모르는 단어(OOV)들의 리스트(src_oov와 tar_oov)가 있는 상황에서\n",
        "  # 해당 리스트에 속한 토큰들은 <UNK>토큰으로 바꿔주는 것을 구현하는 파트입니다.\n",
        "  # 위의 예시에서 본다면 [<SOS>, 나, 고기, 먹다, <EOS>]를 [<SOS>, 나, <UNK>, 먹다, <EOS>]로 만들어주는 과정입니다.\n",
        "  src_tmp = list(map(lambda x: '<UNK>' if x in src_oov else x, src_tmp))\n",
        "  tar_tmp = list(map(lambda x: '<UNK>' if x in tar_oov else x, tar_tmp))\n",
        "  \n",
        "  # tokenization 끝난 문장 보관\n",
        "  src_seq_val.append(src_tmp)\n",
        "  tar_seq_val.append(tar_tmp)"
      ],
      "metadata": {
        "colab": {
          "base_uri": "https://localhost:8080/"
        },
        "id": "tvlFP0Q94rU3",
        "outputId": "7f7be9c6-aab7-45cd-92e8-8051fe3dd799"
      },
      "execution_count": 35,
      "outputs": [
        {
          "output_type": "stream",
          "name": "stderr",
          "text": [
            "100%|██████████| 1000/1000 [00:06<00:00, 149.80it/s]\n"
          ]
        }
      ]
    },
    {
      "cell_type": "code",
      "source": [
        "tar_seq_val[5]"
      ],
      "metadata": {
        "colab": {
          "base_uri": "https://localhost:8080/"
        },
        "id": "s7x2S0t08dfe",
        "outputId": "7fb0105f-b6b9-4591-d83f-d8d7dc51f099"
      },
      "execution_count": 36,
      "outputs": [
        {
          "output_type": "execute_result",
          "data": {
            "text/plain": [
              "['<SOS>', '<UNK>', '<UNK>', '<UNK>', 'and', 'even', '<UNK>', 'skin', '<EOS>']"
            ]
          },
          "metadata": {},
          "execution_count": 36
        }
      ]
    },
    {
      "cell_type": "markdown",
      "source": [
        "위의 샘플을 보면 생각보다 너무 많은 단어들이 UNK로 바뀌었습니다. 이게 과연 성능에 어떤 영향을 끼칠까요? 이를 방지할 수 있는 대책은 무엇일까요?\n",
        "\n",
        "정답은 없습니다. 자유롭게 고민해보셔도 좋을 것 같습니다."
      ],
      "metadata": {
        "id": "70nzuKIPf3nX"
      }
    },
    {
      "cell_type": "markdown",
      "source": [
        "### UNK 토큰 추가 및 단어집합, token-index 업데이트"
      ],
      "metadata": {
        "id": "KoH1M8GofxwV"
      }
    },
    {
      "cell_type": "code",
      "source": [
        "# UNK가 추가되면서 vocab과 index도 업데이트를 해야합니다.\n",
        "# 즉 지금 방식으로 처리한다면, 지금 단어 집합에는 <UNK>라는 토큰이 없습니다.\n",
        "# 그래서 UNK 토큰에도 정수를 할당해줘야 합니다.\n",
        "# 지금 0은 padding에서 사용하고 있으니 아래의 과정은 마지막에 <UNK>를 추가해보는 것입니다."
      ],
      "metadata": {
        "id": "lE3iIu_W8-78"
      },
      "execution_count": 37,
      "outputs": []
    },
    {
      "cell_type": "code",
      "source": [
        "# 입력 시퀀스의 마지막 토큰과 정수인코딩값 확인\n",
        "list(src_to_index.items())[-1]"
      ],
      "metadata": {
        "colab": {
          "base_uri": "https://localhost:8080/"
        },
        "id": "KRl3l4bE9cVh",
        "outputId": "def6d16e-e10b-4d99-ff1f-2b2c71117fd3"
      },
      "execution_count": 38,
      "outputs": [
        {
          "output_type": "execute_result",
          "data": {
            "text/plain": [
              "('힘쓰다', 5779)"
            ]
          },
          "metadata": {},
          "execution_count": 38
        }
      ]
    },
    {
      "cell_type": "code",
      "source": [
        "# 현재 입력 시퀀스에 사용된 token들의 개수 확인\n",
        "len(src_vocab)"
      ],
      "metadata": {
        "colab": {
          "base_uri": "https://localhost:8080/"
        },
        "id": "yRuj2FNmgfA3",
        "outputId": "ebc6ec71-ec2f-4ce2-d90d-47b557461fc1"
      },
      "execution_count": 39,
      "outputs": [
        {
          "output_type": "execute_result",
          "data": {
            "text/plain": [
              "5779"
            ]
          },
          "metadata": {},
          "execution_count": 39
        }
      ]
    },
    {
      "cell_type": "code",
      "source": [
        "list(tar_to_index.items())[-1]"
      ],
      "metadata": {
        "colab": {
          "base_uri": "https://localhost:8080/"
        },
        "id": "1ZMP6bI1IOMp",
        "outputId": "2a145d60-1250-410a-82f2-41a9f1eb0551"
      },
      "execution_count": 40,
      "outputs": [
        {
          "output_type": "execute_result",
          "data": {
            "text/plain": [
              "('zoom', 6910)"
            ]
          },
          "metadata": {},
          "execution_count": 40
        }
      ]
    },
    {
      "cell_type": "code",
      "source": [
        "# 우리는 마지막 토큰 뒤에 UNK 토큰을 추가해봅시다\n",
        "# 이 때 입력 시퀀스(src_to_index)와 출력시퀀스(tar_to_index)에 모두 사용해줘야 합니다.\n",
        "src_to_index[\"<UNK>\"] = 5780\n",
        "tar_to_index[\"<UNK>\"] = 6911"
      ],
      "metadata": {
        "id": "2hQsCc5i9aw2"
      },
      "execution_count": 41,
      "outputs": []
    },
    {
      "cell_type": "code",
      "source": [
        "# 입력시퀀스의 단어집합 확인\n",
        "print(list(tar_to_index.items())[:5])\n",
        "print(list(tar_to_index.items())[-1:-5:-1])"
      ],
      "metadata": {
        "colab": {
          "base_uri": "https://localhost:8080/"
        },
        "id": "09pOS9MtaUVJ",
        "outputId": "2fde1ba5-821e-46a7-eb3b-52c758523e76"
      },
      "execution_count": 42,
      "outputs": [
        {
          "output_type": "stream",
          "name": "stdout",
          "text": [
            "[('!', 1), ('<EOS>', 2), ('<SOS>', 3), ('?', 4), ('A', 5)]\n",
            "[('<UNK>', 6911), ('zoom', 6910), ('zones', 6909), ('zero', 6908)]\n"
          ]
        }
      ]
    },
    {
      "cell_type": "code",
      "source": [
        "# 출력시퀀스의 단어집합 확인\n",
        "print(list(src_to_index.items())[:5])\n",
        "print(list(src_to_index.items())[-1:-5:-1])"
      ],
      "metadata": {
        "colab": {
          "base_uri": "https://localhost:8080/"
        },
        "id": "ZZqYpbTe-AK1",
        "outputId": "d3ddfe0f-be9f-4413-cbd8-9d2e8dd14deb"
      },
      "execution_count": 43,
      "outputs": [
        {
          "output_type": "stream",
          "name": "stdout",
          "text": [
            "[('!', 1), ('<EOS>', 2), ('?', 3), ('A', 4), ('AAA', 5)]\n",
            "[('<UNK>', 5780), ('힘쓰다', 5779), ('힘들다', 5778), ('힘', 5777)]\n"
          ]
        }
      ]
    },
    {
      "cell_type": "markdown",
      "source": [
        "### 정수 인코딩"
      ],
      "metadata": {
        "id": "-E5zRRZuhQa_"
      }
    },
    {
      "cell_type": "code",
      "source": [
        "# 평가 데이터에 대해서  정수 인코딩을 진행해주세요!\n",
        "# 이 과정에서 중요한 점은 우린 학습데이터만 가지고 있으니 학습 데이터에서 사용했던 toekn-index로 인코딩을 진행해야 합니다!\n",
        "# 참고 : 어떻게 하면 효율적 혹은 빠르게 할까요?\n",
        "\n",
        "# encoder의 입력값 정수 인코딩 진행\n",
        "encoder_input_val = list(map(lambda words: torch.Tensor(list(map(lambda c: src_to_index[c], words))).long(), src_seq_val))\n",
        "# 우선 decoder에서 사용하는 문장에 대해 정수인코딩 진행\n",
        "# decoder의 입력값은 마지막 <EOS>가 들어가면 안되니 마지막 토큰은 빼주기\n",
        "decoder_input_val = list(map(lambda words: torch.Tensor(list(map(lambda c: tar_to_index[c], words))[:-1]).long(), tar_seq_val))\n",
        "# 다만 decoder의 출력값은 <SOS>들어가면 안되니 첫번째 토큰은 빼주기\n",
        "decoder_target_val = list(map(lambda words: torch.Tensor(list(map(lambda c: tar_to_index[c], words))[1:]).long(), tar_seq_val))\n"
      ],
      "metadata": {
        "id": "LHRGJgfs-axo"
      },
      "execution_count": 44,
      "outputs": []
    },
    {
      "cell_type": "markdown",
      "source": [
        "### Padding"
      ],
      "metadata": {
        "id": "ws8RA6UThh0t"
      }
    },
    {
      "cell_type": "code",
      "source": [
        "# 주의사항: 여기에 사용된 값을은 정수일까요?\n",
        "batch_first = True\n",
        "\n",
        "encoder_input_val = pad_sequence(encoder_input_val, batch_first=batch_first).long()\n",
        "decoder_input_val = pad_sequence(encoder_input_val, batch_first=batch_first).long()\n",
        "decoder_target_val = pad_sequence(encoder_input_val, batch_first=batch_first).long()"
      ],
      "metadata": {
        "id": "4Qc_bb02-s6_"
      },
      "execution_count": 45,
      "outputs": []
    },
    {
      "cell_type": "code",
      "execution_count": 46,
      "metadata": {
        "id": "E7DOj62GnAfX"
      },
      "outputs": [],
      "source": [
        "val_data = tuple([encoder_input_val, decoder_input_val, decoder_target_val])"
      ]
    },
    {
      "cell_type": "markdown",
      "metadata": {
        "id": "WlZl7q5cxscM"
      },
      "source": [
        "# Dataset\n",
        "\n",
        "실습코드에서 사용한 것과 동일한 구조입니다! \n",
        "\n",
        "사실 앞서 처리가 진행되었던 모든 과정은 Dataset에서 __get_item__ 함수 내에서 처리해서 값을 리턴할 수도 있습니다.\n",
        "\n",
        "다만 설명을 위해 이번 과제에서는 과정을 단계별로 설명 드렸습니다. 추후에 진행하실 때엔 __get_item__에서 구현해보셔도 좋을 것 같아요!\n",
        "\n",
        "그리고 일부 단계의 경우 임의로 처리된 것들이 있습니다.(tokenization부터 stopwords 등등) 가령 이메일, 전화번호와 같은 단어들은 \\<UNK\\>처럼 새로운 토큰을 이용해서 처리할 수도 있으며 목적에 따라서 다른 tokenziation을 사용할 수 있습니다.\n",
        "\n",
        "**(참고)**\n",
        "\n",
        " __get_item__말고 사전에 전처리를 다한 상태로 사용할 경우 사실 사용할 모든 데이터를 메모리에 올려놓고 사용하는 것과 같습니다.(변수에 할당되어 있으니)\n",
        "\n",
        "그런데 우리가 데이터가 매매매매매우 많아진다면, 메모리가 부족해질 수도 있지 않을까요? 그렇기 때문에 때에 따라 data를 필요할 때 전처리를 하고 반환하기도 합니다. 여기서 data가 필요할때란 결국 __get_item__을 호출할 때가 될 것입니다.\n",
        "\n",
        "정리하자면, 꼭 모든 데이터를 한번에 다 전처리해놓도 준비해놓지 않고도, 필요할 때 마다(get_item이 호출될 때마다) 전처리해서 결과를 전달하는 방법도 있습니다.\n",
        "\n",
        "다만 해당 과제에서는 Seq2Seq에 익숙해지는 것을 목표로 하기에 이러한 점만 알고 가셔도 충분하기도 하고, 오히려 사전에 다 처리해놓는 현재 방식이 더 효율적일 수도 있습니다. 그렇기 때문에 이 점만 알고 가셔도 좋을 것 같습니다!"
      ]
    },
    {
      "cell_type": "code",
      "execution_count": 47,
      "metadata": {
        "id": "j5lj6ZOPxpcj"
      },
      "outputs": [],
      "source": [
        "from torch.utils.data import Dataset, DataLoader"
      ]
    },
    {
      "cell_type": "code",
      "execution_count": 48,
      "metadata": {
        "id": "xc7ZqjGmx1dk"
      },
      "outputs": [],
      "source": [
        "class textDataset(Dataset):\n",
        "  def __init__(self, data, batch_first=True):\n",
        "    super(textDataset, self).__init__()\n",
        "    # tuple asgginment를 활용한다면 굳이 argument로 모든 데이터를 받지 않아도 됩니다!\n",
        "    enc_inp, dec_inp, dec_out = data\n",
        "\n",
        "    # 내부에서 사용할 변수들 정리하는 것으로, 모든 데이터가 torch.LongTensor로 정리된 값들이 저장됩니다.\n",
        "    self.enc_inp = enc_inp\n",
        "    self.batch_first= batch_first\n",
        "    self.dec_inp = dec_inp\n",
        "    self.dec_out = dec_out\n",
        "\n",
        "  def __getitem__(self, idx):\n",
        "     return self.enc_inp[idx], self.dec_inp[idx],self.dec_out[idx]\n",
        "\n",
        "  def __len__(self):\n",
        "    return self.enc_inp.size(int(~self.batch_first))"
      ]
    },
    {
      "cell_type": "code",
      "execution_count": 49,
      "metadata": {
        "id": "Z30_EO0uxrgH"
      },
      "outputs": [],
      "source": [
        "train_dataset = textDataset(train_data, batch_first=batch_first)\n",
        "val_dataset = textDataset(val_data, batch_first=batch_first)"
      ]
    },
    {
      "cell_type": "code",
      "execution_count": 50,
      "metadata": {
        "colab": {
          "base_uri": "https://localhost:8080/"
        },
        "id": "J_AqR38AoB5n",
        "outputId": "c118a972-8830-48c4-e927-ceeece001a0c"
      },
      "outputs": [
        {
          "output_type": "execute_result",
          "data": {
            "text/plain": [
              "(tensor([5780, 1729, 2012, 5780, 3757, 5416, 4342, 1370, 2775, 1886, 2791, 5174,\n",
              "         1977, 2852, 3163,  751, 4003,    2,    0,    0,    0,    0,    0,    0,\n",
              "            0,    0,    0,    0,    0,    0,    0,    0]),\n",
              " tensor([5780, 1729, 2012, 5780, 3757, 5416, 4342, 1370, 2775, 1886, 2791, 5174,\n",
              "         1977, 2852, 3163,  751, 4003,    2,    0,    0,    0,    0,    0,    0,\n",
              "            0,    0,    0,    0,    0,    0,    0,    0]),\n",
              " tensor([5780, 1729, 2012, 5780, 3757, 5416, 4342, 1370, 2775, 1886, 2791, 5174,\n",
              "         1977, 2852, 3163,  751, 4003,    2,    0,    0,    0,    0,    0,    0,\n",
              "            0,    0,    0,    0,    0,    0,    0,    0]))"
            ]
          },
          "metadata": {},
          "execution_count": 50
        }
      ],
      "source": [
        "val_dataset[0]"
      ]
    },
    {
      "cell_type": "markdown",
      "metadata": {
        "id": "rYq6eGm0qaOh"
      },
      "source": [
        "# Model"
      ]
    },
    {
      "cell_type": "code",
      "execution_count": 51,
      "metadata": {
        "id": "ce3NfbA2qfSV"
      },
      "outputs": [],
      "source": [
        "import torch.nn as nn\n",
        "import torch.functional as F"
      ]
    },
    {
      "cell_type": "markdown",
      "metadata": {
        "id": "zcThBf_DqbuT"
      },
      "source": [
        "## Encoder\n",
        "\n",
        "본 모델에서는 LSTM를 기본 단위로 가지는 Seq2Seq 모델을 구성할 것\n",
        "\n",
        "참고 [레퍼런스](https://pytorch.org/docs/stable/generated/torch.nn.LSTM.html)"
      ]
    },
    {
      "cell_type": "code",
      "execution_count": 52,
      "metadata": {
        "id": "A719R9uZqZG2"
      },
      "outputs": [],
      "source": [
        "class Encoder(nn.Module):\n",
        "  def __init__(self, in_size, hid_size, tok_size, bat_first=True, num_lay=1, bidirect=False):\n",
        "    super(Encoder, self).__init__()\n",
        "    # 여기서 hidden_size는 LSTM의 hidden_size로 embedding vector를 몇차원의 벡터로 transform할 것인지 말합니다!\n",
        "    self.hidden_size = hid_size\n",
        "   \n",
        "    # 앞서 설명한 내용대로 전체 사용하는 token의 수를 embedding_num에 해당하고, 이를 몇차원의 embedding dim으로 표현할 것인지 말합니다.\n",
        "    # 이 때 LSTM의 관점에서 embedding dim은 input_size에 해당해서 개념적으로 embedding_dim=in_size입니다.\n",
        "    self.embedding = nn.Embedding(tok_size, in_size)\n",
        "\n",
        "    # layer를 구성할 때 LSTM 내부의 layer의 개수도 조정할 수 있습니다.\n",
        "    self.num_layers = num_lay\n",
        "\n",
        "    # 이것은 bidirectional 방식을 사용할 것인지를 얘기하는데,\n",
        "    # 이는 현재 과정에서 고려하지 않는 값이지만 LSTM 레이어를 설정할 때 필요한 값이라 기록하긴 했습니다.\n",
        "    self.num_directional = 2 if bidirect else 1\n",
        "\n",
        "    self.batch_first = bat_first\n",
        "    self.lstm = nn.LSTM(in_size, \n",
        "                        hid_size, \n",
        "                        num_layers = num_lay,\n",
        "                        batch_first = bat_first,\n",
        "                        bidirectional=bidirect)\n",
        "\n",
        "\n",
        "  def forward(self, x, hidden):\n",
        "    \"\"\"\n",
        "    x: (batch_size, seq_len)\n",
        "    hidden: (batch_size, seq_len, hidden_size)\n",
        "    \"\"\"\n",
        "\n",
        "    # emb : (batch_size, seq_len, input_size)\n",
        "    emb = self.embedding(x)\n",
        "\n",
        "    # out : (batch_size, seq_len, hidden_size)\n",
        "    # hidden: (num_layers, batch_size, hidden_size)\n",
        "    out, hidden = out, hidden = self.lstm(emb, hidden)\n",
        "    return out, hidden"
      ]
    },
    {
      "cell_type": "markdown",
      "metadata": {
        "id": "Yu4CMe_5JN2I"
      },
      "source": [
        "## Decoder\n",
        "\n",
        "decoder의 hidden이 아닌 out으로 예측하고, 그 값 하나를 이용해서 다음 값 계산에 사용하기 때문에 seq_len =1이 된다."
      ]
    },
    {
      "cell_type": "code",
      "execution_count": 53,
      "metadata": {
        "id": "Wc1u4z_k4RKp"
      },
      "outputs": [],
      "source": [
        "class Decoder(nn.Module):\n",
        "  def __init__(self, in_size, hid_size, tok_size, bat_first=True, num_lay=1, bidirect=False):\n",
        "    super(Decoder, self).__init__()\n",
        "\n",
        "    # 대부분의 방식은 사실 Encoder와 비슷하게 흘러갑니다.\n",
        "\n",
        "    # LSTM이 embedding을 몇차원의 벡터로 변환할지 정하는 값입니다.\n",
        "    self.hidden_size = hid_size\n",
        "\n",
        "    # 여기서도 번역해야하는 언어의 token을 embedding 해야하고 이  때 embedding vector의 차원이 결국 LSTM입장에서의 Input size가 됩니다.\n",
        "    self.embedding = nn.Embedding(tok_size, in_size)\n",
        "\n",
        "    self.num_layers = num_lay\n",
        "    self.num_directional = 2 if bidirect else 1\n",
        "    self.batch_first = bat_first\n",
        "    self.lstm = nn.LSTM(in_size, \n",
        "                        hid_size, \n",
        "                        num_layers = num_lay,\n",
        "                        batch_first = bat_first,\n",
        "                        bidirectional=bidirect)\n",
        "    self.relu =  nn.ReLU()\n",
        "    self.fc1 = nn.Linear(hidden_size, tok_size)\n",
        "\n",
        "  def forward(self, x, hidden):\n",
        "    \"\"\"\n",
        "    x: (batch_size, seq_len=1)\n",
        "    hidden: (num_directional*num_layers, batch_size, hidden_size)\n",
        "    \"\"\"\n",
        "\n",
        "    # emb: (batch_size, seq_len=1, input_size)\n",
        "    emb = self.embedding(x[:, 0]).unsqueeze(1)\n",
        "\n",
        "    # out : (batch_size, seq_len=1, hidden_size)\n",
        "    # hidden: (num_layers, batch_size, hidden_size)\n",
        "    out = self.relu(emb)\n",
        "    out, hidden = self.lstm(out, hidden)\n",
        "\n",
        "    # out: (batch_size, tok_size) : batch의 element별로 token에 대해 예측값을 반환\n",
        "    out = self.fc1(out.squeeze(1))\n",
        "    return out, hidden"
      ]
    },
    {
      "cell_type": "code",
      "execution_count": 54,
      "metadata": {
        "id": "X1qHG3DT4dSH"
      },
      "outputs": [],
      "source": [
        "def init_hidden(self, x):\n",
        "  \"\"\"\n",
        "  레퍼런스 참고\n",
        "  when batch_first=True (num_directional*num_layers, batch_size, hidden_size)\n",
        "  \"\"\"\n",
        "  batch_size = x.size(0) if self.batch_first else x.size(1)\n",
        "  h0 = torch.zeros(self.num_layers*self.num_directional, batch_size, self.hidden_size).to(device)\n",
        "  c0 = torch.zeros(self.num_layers*self.num_directional, batch_size, self.hidden_size).to(device)\n",
        "  return h0, c0"
      ]
    },
    {
      "cell_type": "markdown",
      "metadata": {
        "id": "toqV7UDhPqN6"
      },
      "source": [
        "## Seq2Seq"
      ]
    },
    {
      "cell_type": "code",
      "execution_count": 55,
      "metadata": {
        "id": "YIzlUzPlJK3W"
      },
      "outputs": [],
      "source": [
        "class Seq2Seq(nn.Module):\n",
        "  def __init__(self, enc, dec):\n",
        "    super(Seq2Seq, self).__init__()\n",
        "    assert enc.hidden_size == dec.hidden_size\n",
        "    assert enc.num_layers == dec.num_layers\n",
        "\n",
        "    self.encoder = enc\n",
        "    self.decoder = dec\n",
        "\n",
        "  def forward(self, enc_inp, dec_inp, use_teacher_force=True):\n",
        "    \"\"\"\n",
        "    enc_inp : (batch_size, enc_seq_len)\n",
        "    dec_inp : (batch_size, dec_seq_len)\n",
        "    \"\"\"\n",
        "\n",
        "    # 어떤 값을 써야할까요?\n",
        "    batch_size = enc_inp.size(0)\n",
        "    enc_seq_len = enc_inp.size(1)\n",
        "    dec_seq_len = dec_inp.size(1)\n",
        "    # 최종 반환하는 것은 \"토큰 별\" score 값이니 이 점을 이용해서 token 개수 확인\n",
        "    token_size =  self.decoder.fc1.out_features\n",
        "\n",
        "    # decoder 확률(점수) 예측값 저장\n",
        "    # outputs: (batch_size, seq_len, token_size)\n",
        "    outputs = torch.zeros(batch_size, dec_seq_len, token_size)\n",
        "\n",
        "    # Step 0: Encoder의 forward에 필요한 초기 hidden, cell state 계산\n",
        "    enc_init_hidden = init_hidden(self.encoder, enc_inp)\n",
        "\n",
        "    # Step 1: Encoder를 이용하여 context 벡터 생성\n",
        "    # 참고: context 벡터는 output가 아님\n",
        "    _, context = self.encoder(enc_inp, enc_init_hidden)\n",
        "\n",
        "    # Step 2: Decoder의 초기 입력값을 먼저 할당\n",
        "    # 참고: 첫 입력값으로 decoder의 입력값을 이용할 수 있음\n",
        "    # 주의할 사항 \n",
        "    #    - (batch_size, dec_seq_len)의 차원을 맞추기 \n",
        "    #    - 이렇게 하는 이유는 decoder에서 forward에 들어가야하는 input의 구조(차원)이 정해져 있기 때문\n",
        "    dec_inp_t = dec_inp[:, 0].unsqueeze(-1)\n",
        "\n",
        "    # Step 3: Decoder를 이용하여 하나하나 계산(예측)하고, 입력값 업데이트하기\n",
        "    # 주의사항\n",
        "    #    - Encoder의 최종 리턴한 hidden state가 context 벡터고 이게 decoder에서 init_hidden에 해당\n",
        "    #    - 앞서 첫 입력값은 직접 확인했으니 다음 입력값부터 하기에 range는 1부터 시작하는 구조로?!\n",
        "    dec_hidden = context\n",
        "    for t in range(1, dec_seq_len):\n",
        "      out, dec_hidden = self.decoder(dec_inp_t, dec_hidden)\n",
        "      outputs[:, t, :] = out\n",
        "\n",
        "      if use_teacher_force:\n",
        "        # 주의사항 : 차원 맞추기 \n",
        "        # 해당 경우 decoder의 입력값을 가져다가 사용해야 합\n",
        "        dec_inp_t = dec_inp[:, t].unsqueeze(-1)\n",
        "      else:\n",
        "        # 주의사항 : 차원 맞추기 \n",
        "        # 해당 경우 이번 시점의 예측값을 다음 시점의 입력값으로 해야함\n",
        "        dec_inp_t = out.argmax(1, keepdim=True)\n",
        "\n",
        "    return outputs"
      ]
    },
    {
      "cell_type": "markdown",
      "metadata": {
        "id": "kSfBWsX0Po1I"
      },
      "source": [
        "# Setup"
      ]
    },
    {
      "cell_type": "code",
      "execution_count": 56,
      "metadata": {
        "id": "2VSNdoUUPoMS"
      },
      "outputs": [],
      "source": [
        "# padding에 해당하는 token도 고려하기\n",
        "enc_token_size = len(src_to_index)+1\n",
        "dec_token_size = len(tar_to_index)+1\n",
        "\n",
        "# Hyper-parameter!!\n",
        "# RAM 메모리 이슈로 다운 되는 경우 때문에 줄였습니다.\n",
        "input_size = 4\n",
        "hidden_size = 4"
      ]
    },
    {
      "cell_type": "code",
      "execution_count": 57,
      "metadata": {
        "id": "edfUD7SOP6pM"
      },
      "outputs": [],
      "source": [
        "encoder = Encoder(input_size, hidden_size, enc_token_size)\n",
        "decoder = Decoder(input_size, hidden_size, dec_token_size)\n",
        "\n",
        "model = Seq2Seq(encoder, decoder).to(device)"
      ]
    },
    {
      "cell_type": "markdown",
      "metadata": {
        "id": "s3wAllAwQQbc"
      },
      "source": [
        "## 생략된 내용들\n",
        "\n",
        "모델 생성하는 과정에서 초기값이나 등등 부수적인 부분들은 현재 과제 코드상에서 생략되었습니다. 모델 개선에 관심있으신 분들은 수행하셔도 좋습니다."
      ]
    },
    {
      "cell_type": "code",
      "execution_count": 58,
      "metadata": {
        "id": "nNlOosmzQP4W"
      },
      "outputs": [],
      "source": [
        "# ~~~"
      ]
    },
    {
      "cell_type": "markdown",
      "metadata": {
        "id": "ofoXIctbQigu"
      },
      "source": [
        "# Train"
      ]
    },
    {
      "cell_type": "code",
      "execution_count": 59,
      "metadata": {
        "id": "NUnTP6xbQlV1"
      },
      "outputs": [],
      "source": [
        "def train(model, loader, optimizer, cri):\n",
        "  model.train()\n",
        "  loss_ep = 0\n",
        "\n",
        "  for enc_input, dec_input, dec_target in loader:\n",
        "    optimizer.zero_grad()\n",
        "\n",
        "    # output: (batch_size, seq_len, token_size)\n",
        "    output = model(enc_input.to(device), dec_input.to(device), use_teacher_force=True)\n",
        "    token_size = output.size(-1)\n",
        "\n",
        "    # 지금 [문장, 문장, ...] 구조에서 문장들을 그냥 순서대로 이어 붙인 것\n",
        "    # loss 계산을 위한 조정\n",
        "    # output : (batch_size * seq_len, toekn_size)\n",
        "    output = output.view(-1, token_size)\n",
        "\n",
        "    # 위와 동일한 방식으로 label 값도 조정\n",
        "    # dec_target: (batch_size, seq_len)\n",
        "    # target (batch_size*seq_len,)\n",
        "    target = dec_target.view(-1)\n",
        "    \n",
        "    loss = cri(output, target)\n",
        "\n",
        "    loss.backward()\n",
        "    optimizer.step()\n",
        "\n",
        "    loss_ep += loss.item()\n",
        "  return loss_ep/len(loader)"
      ]
    },
    {
      "cell_type": "markdown",
      "metadata": {
        "id": "E-g8kExh9V87"
      },
      "source": [
        "# Evaluation"
      ]
    },
    {
      "cell_type": "code",
      "execution_count": 60,
      "metadata": {
        "id": "OM_5gT6uCXMh"
      },
      "outputs": [],
      "source": [
        "import pandas as pd"
      ]
    },
    {
      "cell_type": "code",
      "execution_count": 61,
      "metadata": {
        "id": "y6mXBkq69VSW"
      },
      "outputs": [],
      "source": [
        "def val(model, loader, cri):\n",
        "  # 예측값도 확인하기 위해 예측값 저장하는 값\n",
        "  result = torch.Tensor()\n",
        "\n",
        "  model.eval()\n",
        "  loss_ep = 0\n",
        "  with torch.no_grad():\n",
        "    for enc_input, dec_input, dec_target in loader:\n",
        "      # 여기서 output은 en/decoder가 아닌 seq2seq의 결과값\n",
        "      # output: (batch_size, seq_len, token_size)\n",
        "      output = model(enc_input.to(device), dec_input.to(device), use_teacher_force=False)\n",
        "\n",
        "      # 평가할 땐 loss 말고 예측값도 반환하기 위해 저장\n",
        "      # decode_idx = 해당 시점에서 예측한 token의 정수인코딩값. \n",
        "      # 주어진 확률(점수)값에서 최대값을 선택하기\n",
        "      decode_idx = output.argmax(2).detach().cpu()\n",
        "      result = torch.cat((result, decode_idx), dim=0)\n",
        "  \n",
        "      # loss 계산을 위한 조정\n",
        "      # output : (batch_size * seq_len, toekn_size)\n",
        "      token_size = output.size(-1)\n",
        "      output = output.view(-1, token_size)\n",
        "\n",
        "      # 위와 동일한 방식으로 label 값도 조정\n",
        "      # dec_target: (batch_size, seq_len)\n",
        "      # target (batch_size*seq_len,)\n",
        "      target = dec_target.view(-1)\n",
        "\n",
        "      loss = cri(output, target)\n",
        "      loss_ep += loss.item()\n",
        "  return loss_ep/len(loader), result"
      ]
    },
    {
      "cell_type": "code",
      "execution_count": 62,
      "metadata": {
        "id": "9m6F7hknAqtm"
      },
      "outputs": [],
      "source": [
        "# 아래의 dictionary는 정수 인코딩 값을 넣으면 해당하는 원래 알파벳이 나옴\n",
        "# padding에 사용한 0도 decode해줘야 하고 이 때 ''으로 decode해주기\n",
        "index_to_src = dict((i, char) for char, i in src_to_index.items())\n",
        "index_to_tar = dict((i, char) for char, i in tar_to_index.items())\n",
        "index_to_tar[0] = ''\n",
        "index_to_src[0] = ''"
      ]
    },
    {
      "cell_type": "code",
      "execution_count": 63,
      "metadata": {
        "id": "F9c8z_7BAncv"
      },
      "outputs": [],
      "source": [
        "def decode(model, sample):\n",
        "  enc_input, dec_input, dec_output = sample\n",
        "  enc_input = enc_input.unsqueeze(0)\n",
        "  dec_input = dec_input.unsqueeze(0)\n",
        "  \n",
        "  model.eval()\n",
        "  with torch.no_grad():\n",
        "    output = model(enc_input.to(device), dec_input.to(device), use_teacher_force=False)\n",
        "    decode_idx = output.argmax(2)\n",
        "\n",
        "  sentence_inp = pd.Series(enc_input.squeeze(0).detach().cpu().numpy()).apply(lambda x: index_to_src[x])\n",
        "  sentence_out = pd.Series(decode_idx.squeeze(0).detach().cpu().numpy()).apply(lambda x: index_to_tar[x])\n",
        "  sentence_act = pd.Series(dec_output.detach().cpu().numpy()).apply(lambda x: index_to_tar[x])\n",
        "\n",
        "  print(f\"입력 문장 : {' '.join(sentence_inp.tolist())}\")\n",
        "  print(f\"실제 문장 : {' '.join(sentence_act.tolist())}\")\n",
        "  print(f\"예측 문장 : {' '.join(sentence_out.tolist())}\")"
      ]
    },
    {
      "cell_type": "code",
      "execution_count": 64,
      "metadata": {
        "id": "9lARsr3wSyX8"
      },
      "outputs": [],
      "source": [
        "import time\n",
        "from tqdm import tqdm\n",
        "from torch import optim"
      ]
    },
    {
      "cell_type": "code",
      "execution_count": 65,
      "metadata": {
        "id": "WIuESkCQSsSm",
        "colab": {
          "base_uri": "https://localhost:8080/"
        },
        "outputId": "c4036fb9-0e70-4598-d34b-5bc805c52b2a"
      },
      "outputs": [
        {
          "output_type": "stream",
          "name": "stderr",
          "text": [
            " 10%|█         | 1/10 [02:09<19:23, 129.24s/it]"
          ]
        },
        {
          "output_type": "stream",
          "name": "stdout",
          "text": [
            "Epoch : 0\n",
            "Train Loss : 8.8570\n",
            "Val Loss : 8.5490\n",
            "입력 문장 : 저 <UNK> <UNK> 스마트 <UNK> <UNK> <UNK> 및 온도 센서 <UNK> 사용 무료 앱 제품 소개 하다 하다 <EOS>             \n",
            "실제 문장 : meeting skyline skyline experts skyline skyline skyline compete hungry encryption skyline discussions close gears net engaging roles roles <EOS>             \n",
            "예측 문장 :  know s can s can can s can can s can can s can can s can can s can can s can can s can can s can can s\n"
          ]
        },
        {
          "output_type": "stream",
          "name": "stderr",
          "text": [
            " 30%|███       | 3/10 [06:16<14:34, 124.88s/it]"
          ]
        },
        {
          "output_type": "stream",
          "name": "stdout",
          "text": [
            "Epoch : 2\n",
            "Train Loss : 7.3479\n",
            "Val Loss : 7.1401\n",
            "입력 문장 : 저 <UNK> <UNK> 스마트 <UNK> <UNK> <UNK> 및 온도 센서 <UNK> 사용 무료 앱 제품 소개 하다 하다 <EOS>             \n",
            "실제 문장 : meeting skyline skyline experts skyline skyline skyline compete hungry encryption skyline discussions close gears net engaging roles roles <EOS>             \n",
            "예측 문장 :  s s s s s s s s s s s s s s s s s s s s s s s s s s s s s s s\n"
          ]
        },
        {
          "output_type": "stream",
          "name": "stderr",
          "text": [
            " 50%|█████     | 5/10 [10:23<10:19, 123.92s/it]"
          ]
        },
        {
          "output_type": "stream",
          "name": "stdout",
          "text": [
            "Epoch : 4\n",
            "Train Loss : 5.2758\n",
            "Val Loss : 5.5586\n",
            "입력 문장 : 저 <UNK> <UNK> 스마트 <UNK> <UNK> <UNK> 및 온도 센서 <UNK> 사용 무료 앱 제품 소개 하다 하다 <EOS>             \n",
            "실제 문장 : meeting skyline skyline experts skyline skyline skyline compete hungry encryption skyline discussions close gears net engaging roles roles <EOS>             \n",
            "예측 문장 :  <EOS> <EOS> <EOS> <EOS> <EOS> <EOS> <EOS> <EOS> <EOS> <EOS> <EOS> <EOS> <EOS> <EOS> <EOS> <EOS> <EOS> <EOS> <EOS> <EOS> <EOS> <EOS> <EOS> <EOS> <EOS> <EOS> <EOS> <EOS> <EOS> <EOS> <EOS>\n"
          ]
        },
        {
          "output_type": "stream",
          "name": "stderr",
          "text": [
            " 70%|███████   | 7/10 [14:28<06:09, 123.25s/it]"
          ]
        },
        {
          "output_type": "stream",
          "name": "stdout",
          "text": [
            "Epoch : 6\n",
            "Train Loss : 3.6938\n",
            "Val Loss : 4.2912\n",
            "입력 문장 : 저 <UNK> <UNK> 스마트 <UNK> <UNK> <UNK> 및 온도 센서 <UNK> 사용 무료 앱 제품 소개 하다 하다 <EOS>             \n",
            "실제 문장 : meeting skyline skyline experts skyline skyline skyline compete hungry encryption skyline discussions close gears net engaging roles roles <EOS>             \n",
            "예측 문장 :                                \n"
          ]
        },
        {
          "output_type": "stream",
          "name": "stderr",
          "text": [
            " 90%|█████████ | 9/10 [18:34<02:03, 123.21s/it]"
          ]
        },
        {
          "output_type": "stream",
          "name": "stdout",
          "text": [
            "Epoch : 8\n",
            "Train Loss : 2.8305\n",
            "Val Loss : 3.7198\n",
            "입력 문장 : 저 <UNK> <UNK> 스마트 <UNK> <UNK> <UNK> 및 온도 센서 <UNK> 사용 무료 앱 제품 소개 하다 하다 <EOS>             \n",
            "실제 문장 : meeting skyline skyline experts skyline skyline skyline compete hungry encryption skyline discussions close gears net engaging roles roles <EOS>             \n",
            "예측 문장 :                                \n"
          ]
        },
        {
          "output_type": "stream",
          "name": "stderr",
          "text": [
            "100%|██████████| 10/10 [20:38<00:00, 123.86s/it]\n"
          ]
        }
      ],
      "source": [
        "# 학습은 아래의 코드를 이용하여 진행\n",
        "\n",
        "train_lodaer = DataLoader(train_dataset, batch_size=1024)\n",
        "val_loader = DataLoader(val_dataset, batch_size=1024, shuffle=False)\n",
        "\n",
        "optimizer = optim.Adam(model.parameters(), lr=1e-2)\n",
        "criterion = nn.CrossEntropyLoss()\n",
        "\n",
        "train_loss = []\n",
        "val_loss = []\n",
        "\n",
        "epochs = 10\n",
        "for epoch in tqdm(range(epochs)):\n",
        "  start = time.time()\n",
        "\n",
        "  train_loss_ep = train(model,train_lodaer,optimizer, criterion)\n",
        "  val_loss_ep, val_token = val(model, val_loader, criterion)\n",
        "\n",
        "  train_loss.append(train_loss_ep)\n",
        "  val_loss.append(val_loss_ep)\n",
        "  if epoch % 2 == 0:\n",
        "    print(f\"Epoch : {epoch}\")\n",
        "    print(f\"Train Loss : {train_loss_ep:.4f}\")\n",
        "    print(f\"Val Loss : {val_loss_ep:.4f}\")\n",
        "    decode(model, val_dataset[100])\n"
      ]
    },
    {
      "cell_type": "code",
      "execution_count": 66,
      "metadata": {
        "id": "Yaj3MORtbsNi"
      },
      "outputs": [],
      "source": [
        "# 학습을 진행한 다음, 모델 백업해놓기\n",
        "torch.save(model.state_dict(), 'model_hw.pt')"
      ]
    }
  ],
  "metadata": {
    "accelerator": "GPU",
    "colab": {
      "collapsed_sections": [],
      "provenance": []
    },
    "gpuClass": "standard",
    "kernelspec": {
      "display_name": "Python 3",
      "name": "python3"
    },
    "language_info": {
      "name": "python"
    }
  },
  "nbformat": 4,
  "nbformat_minor": 0
}