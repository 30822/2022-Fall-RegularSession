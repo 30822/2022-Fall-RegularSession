{
  "cells": [
    {
      "cell_type": "markdown",
      "metadata": {
        "id": "XhqgooEJc3ml"
      },
      "source": [
        "# PATH"
      ]
    },
    {
      "cell_type": "markdown",
      "metadata": {
        "id": "a6JAywISdMna"
      },
      "source": [
        "구글 드라이브"
      ]
    },
    {
      "cell_type": "code",
      "execution_count": 1,
      "metadata": {
        "colab": {
          "base_uri": "https://localhost:8080/"
        },
        "id": "4KzgUpIpcORE",
        "outputId": "03700ec4-0539-4d8b-db13-ab0ef2fbc7f1"
      },
      "outputs": [
        {
          "output_type": "stream",
          "name": "stdout",
          "text": [
            "Mounted at /content/drive\n"
          ]
        }
      ],
      "source": [
        "import os\n",
        "import sys\n",
        "from google.colab import drive\n",
        "\n",
        "drive.mount('/content/drive')\n",
        "# 지금 RNN이란 폴더에서 작업해서 RNN으로 맞춘 상태입니다! \n",
        "os.chdir('/content/drive/MyDrive/RNN 과제')"
      ]
    },
    {
      "cell_type": "code",
      "execution_count": 2,
      "metadata": {
        "colab": {
          "base_uri": "https://localhost:8080/",
          "height": 35
        },
        "id": "TK1fCrA9fHwN",
        "outputId": "26d04e6c-89b2-4be6-e7fd-32c83c9e3042"
      },
      "outputs": [
        {
          "output_type": "execute_result",
          "data": {
            "text/plain": [
              "'/content/drive/MyDrive/RNN 과제'"
            ],
            "application/vnd.google.colaboratory.intrinsic+json": {
              "type": "string"
            }
          },
          "metadata": {},
          "execution_count": 2
        }
      ],
      "source": [
        "os.getcwd()"
      ]
    },
    {
      "cell_type": "code",
      "source": [
        "root_data = f\"{os.getcwd()}/data/data_hw\"\n",
        "root_data"
      ],
      "metadata": {
        "colab": {
          "base_uri": "https://localhost:8080/",
          "height": 35
        },
        "id": "yR9lFnfZMQ8k",
        "outputId": "860228e8-e64a-46a9-ca2c-46a2bdd0121f"
      },
      "execution_count": 3,
      "outputs": [
        {
          "output_type": "execute_result",
          "data": {
            "text/plain": [
              "'/content/drive/MyDrive/RNN 과제/data/data_hw'"
            ],
            "application/vnd.google.colaboratory.intrinsic+json": {
              "type": "string"
            }
          },
          "metadata": {},
          "execution_count": 3
        }
      ]
    },
    {
      "cell_type": "code",
      "source": [
        "# 데이터 불러올 때 사용할 경로로 이후에 있을 unzip과 연동되는 내용입니다! \n",
        "path_train_data = \"data/data_hw/1.Training/원천데이터/일상생활및구어체_영한_train_set.json\"\n",
        "\n",
        "path_val_data = \"data/data_hw/2.Validation/원천데이터/일상생활및구어체_영한_valid_set.json\"\n"
      ],
      "metadata": {
        "id": "eUaOJiEaP8t9"
      },
      "execution_count": 4,
      "outputs": []
    },
    {
      "cell_type": "markdown",
      "source": [
        "# 사전 준비 사항"
      ],
      "metadata": {
        "id": "lllM7QIsLKHG"
      }
    },
    {
      "cell_type": "code",
      "execution_count": 5,
      "metadata": {
        "id": "N4M6g36zarsi"
      },
      "outputs": [],
      "source": [
        "import torch"
      ]
    },
    {
      "cell_type": "code",
      "execution_count": 6,
      "metadata": {
        "id": "8nWTk5MXatC-"
      },
      "outputs": [],
      "source": [
        "device = 'cuda' if torch.cuda.is_available() else \"cpu\""
      ]
    },
    {
      "cell_type": "code",
      "execution_count": 7,
      "metadata": {
        "colab": {
          "base_uri": "https://localhost:8080/",
          "height": 35
        },
        "id": "oV91g9Tqa0V0",
        "outputId": "3d712ba9-b22e-4d99-8da2-8c067357c7bf"
      },
      "outputs": [
        {
          "output_type": "execute_result",
          "data": {
            "text/plain": [
              "'cuda'"
            ],
            "application/vnd.google.colaboratory.intrinsic+json": {
              "type": "string"
            }
          },
          "metadata": {},
          "execution_count": 7
        }
      ],
      "source": [
        "device"
      ]
    },
    {
      "cell_type": "markdown",
      "metadata": {
        "id": "SdN8CiTlc7xF"
      },
      "source": [
        "# Data\n",
        "\n",
        "실습에서 사용했던 영어-프랑스어와 달리 현재 사용할 데이터 셋은 영어-한국어 데이터 셋입니다. \n",
        "\n",
        "특히 압축을 풀어야 사용하실 수 있으니 유의하여 진행해주시길 바랍니다.\n",
        "\n",
        "다행인 점은 용량이 그리 크지 않을겁니다!\n",
        "\n",
        "저장 경로는 위에서 path_train_data와 path_val_data와 동일하게 맞췄습니다."
      ]
    },
    {
      "cell_type": "code",
      "source": [
        "!unzip -qq data/data_hw/1.Training/원천데이터/TS1.zip -d data/data_hw/1.Training/원천데이터\n",
        "\n",
        "!unzip -qq data/data_hw/2.Validation/원천데이터/VS1.zip -d data/data_hw/2.Validation/원천데이터\n"
      ],
      "metadata": {
        "id": "4bGHHia2LnOo",
        "colab": {
          "base_uri": "https://localhost:8080/"
        },
        "outputId": "c47627d7-0bc6-4bbb-edb2-53bb37a5754a"
      },
      "execution_count": null,
      "outputs": [
        {
          "output_type": "stream",
          "name": "stdout",
          "text": [
            "replace data/data_hw/1.Training/원천데이터/일상생활및구어체_영한_train_set.json? [y]es, [n]o, [A]ll, [N]one, [r]ename: replace data/data_hw/2.Validation/원천데이터/일상생활및구어체_영한_valid_set.json? [y]es, [n]o, [A]ll, [N]one, [r]ename: "
          ]
        }
      ]
    },
    {
      "cell_type": "markdown",
      "source": [
        "## 데이터 구조 확인"
      ],
      "metadata": {
        "id": "tfrW60WrP0rn"
      }
    },
    {
      "cell_type": "code",
      "source": [
        "import json"
      ],
      "metadata": {
        "id": "SDeLynUqP0Jr"
      },
      "execution_count": 8,
      "outputs": []
    },
    {
      "cell_type": "code",
      "source": [
        "# 경로는 앞서 PATH에서 선언했고 unzip에서도 경로를 지정했습니다. 만약 여기에 변화가 생기신다면 에러가 생길 수 있으니 유의하셔야 합니다.\n",
        "with open(path_train_data, 'r') as f:\n",
        "  raw_train_data = json.load(f)\n",
        "\n",
        "with open(path_val_data, 'r') as f:\n",
        "  raw_val_data = json.load(f)\n"
      ],
      "metadata": {
        "id": "2VEmaNPbP5hr"
      },
      "execution_count": 9,
      "outputs": []
    },
    {
      "cell_type": "code",
      "source": [
        "# 현재 데이터의 구조가 {'data':~~~ }로 되어있는것을 알 수 있습니다.\n",
        "raw_train_data.keys()"
      ],
      "metadata": {
        "colab": {
          "base_uri": "https://localhost:8080/"
        },
        "id": "jNhgtA6iR2HG",
        "outputId": "8ab87119-44cb-4be8-a710-16d39e9635f1"
      },
      "execution_count": 10,
      "outputs": [
        {
          "output_type": "execute_result",
          "data": {
            "text/plain": [
              "dict_keys(['data'])"
            ]
          },
          "metadata": {},
          "execution_count": 10
        }
      ]
    },
    {
      "cell_type": "code",
      "source": [
        "# 학습 데이터 개수 확인\n",
        "len(raw_train_data['data'])"
      ],
      "metadata": {
        "colab": {
          "base_uri": "https://localhost:8080/"
        },
        "id": "uMcJ230kRgJ_",
        "outputId": "6b542baa-34c9-49d0-ad32-35d713ad4632"
      },
      "execution_count": 11,
      "outputs": [
        {
          "output_type": "execute_result",
          "data": {
            "text/plain": [
              "1200307"
            ]
          },
          "metadata": {},
          "execution_count": 11
        }
      ]
    },
    {
      "cell_type": "markdown",
      "source": [
        "지금 데이터가 너무 많아서 전처리만 해도 1,2시간 걸릴 수 있습니다. 그래서 숙제에서는 매우 일부 데이터만 이용하도록 하겠습니다."
      ],
      "metadata": {
        "id": "pOcoZtgOYicO"
      }
    },
    {
      "cell_type": "code",
      "source": [
        "raw_train_data = raw_train_data['data'][:10000]\n",
        "raw_val_data = raw_val_data['data'][:1000]"
      ],
      "metadata": {
        "id": "OXGulbjhYg-o"
      },
      "execution_count": 12,
      "outputs": []
    },
    {
      "cell_type": "code",
      "source": [
        "# 샘플로 하나 확인\n",
        "sample_data = raw_train_data[0]"
      ],
      "metadata": {
        "id": "GMFaFQF0SJb4"
      },
      "execution_count": 13,
      "outputs": []
    },
    {
      "cell_type": "code",
      "source": [
        "# 아래의 예시를 보고 데이터를 어떻게 처리할지 잘 생각하셔야 합니다!\n",
        "# 보았을 때 우리가 사용해야 하는 건 ko와 en가 되고\n",
        "# 실제 데이터를 사용한다고 할 때 이 외에 필요한 데이터가 더 있을 수 있습니다.\n",
        "# 모델링 과정에서는 어떻게 데이터들이 저장되어 있는지 주의해서 처리하시면 됩니다.\n",
        "sample_data"
      ],
      "metadata": {
        "colab": {
          "base_uri": "https://localhost:8080/"
        },
        "id": "I68Quh9gSRag",
        "outputId": "db38ac0d-0492-4fa1-e0c0-c78786d0946a"
      },
      "execution_count": 14,
      "outputs": [
        {
          "output_type": "execute_result",
          "data": {
            "text/plain": [
              "{'sn': 'ECOAR1A00003',\n",
              " 'data_set': '일상생활및구어체',\n",
              " 'domain': '해외고객과의채팅',\n",
              " 'subdomain': '숙박,음식점',\n",
              " 'en_original': \"I'm glad to hear that, and I hope you do consider doing business with us.\",\n",
              " 'en': \"I'm glad to hear that, and I hope you do consider doing business with us.\",\n",
              " 'mt': '그 소식을 들으니 기쁩니다. 우리와 거래하는 것을 고려해 보시기 바랍니다.',\n",
              " 'ko': '그 말을 들으니 기쁘고, 저희와 거래하는 것을 고려해 주셨으면 합니다.',\n",
              " 'source_language': 'en',\n",
              " 'target_language': 'ko',\n",
              " 'word_count_ko': 10.0,\n",
              " 'word_count_en': 15.0,\n",
              " 'word_ratio': 0.667,\n",
              " 'file_name': '해외고객과의채팅_숙박,음식점.xlsx',\n",
              " 'source': '크라우드 소싱',\n",
              " 'license': 'open',\n",
              " 'style': '구어체',\n",
              " 'included_unknown_words': False,\n",
              " 'ner': None}"
            ]
          },
          "metadata": {},
          "execution_count": 14
        }
      ]
    },
    {
      "cell_type": "code",
      "source": [
        "sample_data['ko']"
      ],
      "metadata": {
        "colab": {
          "base_uri": "https://localhost:8080/",
          "height": 35
        },
        "id": "ncz2buMbDmlZ",
        "outputId": "6bf873ad-2ab9-44ed-91db-991001985e57"
      },
      "execution_count": 15,
      "outputs": [
        {
          "output_type": "execute_result",
          "data": {
            "text/plain": [
              "'그 말을 들으니 기쁘고, 저희와 거래하는 것을 고려해 주셨으면 합니다.'"
            ],
            "application/vnd.google.colaboratory.intrinsic+json": {
              "type": "string"
            }
          },
          "metadata": {},
          "execution_count": 15
        }
      ]
    },
    {
      "cell_type": "code",
      "source": [
        "sample_data['en']"
      ],
      "metadata": {
        "colab": {
          "base_uri": "https://localhost:8080/",
          "height": 35
        },
        "id": "ucsxCdNBDpuW",
        "outputId": "52dbb6e4-832a-41b9-b0b1-7d12ac22e15a"
      },
      "execution_count": 16,
      "outputs": [
        {
          "output_type": "execute_result",
          "data": {
            "text/plain": [
              "\"I'm glad to hear that, and I hope you do consider doing business with us.\""
            ],
            "application/vnd.google.colaboratory.intrinsic+json": {
              "type": "string"
            }
          },
          "metadata": {},
          "execution_count": 16
        }
      ]
    },
    {
      "cell_type": "markdown",
      "metadata": {
        "id": "LoZkQRO3l20O"
      },
      "source": [
        "# Preprocess\n",
        "\n",
        "세션 설명 코드에서는 알파벳 하나하나 사용했지만, 이번 과정에서는 토큰화를 진행하여 사용하는 과정을 Dataset에 바로 적용해보고자 합니다! \n",
        "\n",
        "토큰화는 앞서 word embedding 세션에서 사용한 것들을 그대로 이용하고자 합니다. 세부 커스터마이징은 자유롭습니다.\n",
        "\n",
        "전처리 과정에서 중요한 점은, 앞의 구현 코드에서 여러 개의 for loop을 이용해서 구현했었지만, 실제 데이터를 사용한다면 매우 오래 걸리게 됩니다. 실제 데이터를 사용할 때엔 결국 얼마나 효율적으로 빠르게 정리할 수 있을지 고민해보시면서 접근하시길 바랍니다.\n",
        "\n",
        "즉, 전처리에서 챙길 통찰은 얼마나 \"효율적\"으로 할 수 있는가? 입니다."
      ]
    },
    {
      "cell_type": "markdown",
      "source": [
        "## Tokenizer"
      ],
      "metadata": {
        "id": "IngQKWx3VRtO"
      }
    },
    {
      "cell_type": "code",
      "source": [
        "#konlpy 설치 (mecab 제외). 3~40초 정도 소요\n",
        "%%bash\n",
        "apt-get update\n",
        "apt-get install g++ openjdk-8-jdk python-dev python3-dev\n",
        "pip3 install JPype1\n",
        "pip3 install konlpy"
      ],
      "metadata": {
        "id": "ttmiDFAEU_BK",
        "colab": {
          "base_uri": "https://localhost:8080/"
        },
        "outputId": "a3d68f41-d0ba-410d-ce76-731f60edde20"
      },
      "execution_count": 17,
      "outputs": [
        {
          "output_type": "stream",
          "name": "stdout",
          "text": [
            "Hit:1 http://archive.ubuntu.com/ubuntu bionic InRelease\n",
            "Get:2 http://archive.ubuntu.com/ubuntu bionic-updates InRelease [88.7 kB]\n",
            "Get:3 https://cloud.r-project.org/bin/linux/ubuntu bionic-cran40/ InRelease [3,626 B]\n",
            "Ign:4 https://developer.download.nvidia.com/compute/machine-learning/repos/ubuntu1804/x86_64  InRelease\n",
            "Get:5 http://security.ubuntu.com/ubuntu bionic-security InRelease [88.7 kB]\n",
            "Get:6 http://ppa.launchpad.net/c2d4u.team/c2d4u4.0+/ubuntu bionic InRelease [15.9 kB]\n",
            "Hit:7 https://developer.download.nvidia.com/compute/cuda/repos/ubuntu1804/x86_64  InRelease\n",
            "Get:8 http://archive.ubuntu.com/ubuntu bionic-backports InRelease [74.6 kB]\n",
            "Hit:9 https://developer.download.nvidia.com/compute/machine-learning/repos/ubuntu1804/x86_64  Release\n",
            "Hit:10 http://ppa.launchpad.net/cran/libgit2/ubuntu bionic InRelease\n",
            "Get:11 https://cloud.r-project.org/bin/linux/ubuntu bionic-cran40/ Packages [91.7 kB]\n",
            "Get:12 http://ppa.launchpad.net/deadsnakes/ppa/ubuntu bionic InRelease [15.9 kB]\n",
            "Get:13 http://archive.ubuntu.com/ubuntu bionic-updates/main amd64 Packages [3,397 kB]\n",
            "Hit:14 http://ppa.launchpad.net/graphics-drivers/ppa/ubuntu bionic InRelease\n",
            "Get:15 http://archive.ubuntu.com/ubuntu bionic-updates/restricted amd64 Packages [1,172 kB]\n",
            "Get:17 http://ppa.launchpad.net/c2d4u.team/c2d4u4.0+/ubuntu bionic/main Sources [2,105 kB]\n",
            "Get:18 http://security.ubuntu.com/ubuntu bionic-security/universe amd64 Packages [1,540 kB]\n",
            "Get:19 http://security.ubuntu.com/ubuntu bionic-security/main amd64 Packages [2,965 kB]\n",
            "Get:20 http://security.ubuntu.com/ubuntu bionic-security/restricted amd64 Packages [1,131 kB]\n",
            "Get:21 http://ppa.launchpad.net/c2d4u.team/c2d4u4.0+/ubuntu bionic/main amd64 Packages [1,079 kB]\n",
            "Get:22 http://ppa.launchpad.net/deadsnakes/ppa/ubuntu bionic/main amd64 Packages [45.2 kB]\n",
            "Fetched 13.8 MB in 4s (3,854 kB/s)\n",
            "Reading package lists...\n",
            "Reading package lists...\n",
            "Building dependency tree...\n",
            "Reading state information...\n",
            "python-dev is already the newest version (2.7.15~rc1-1).\n",
            "g++ is already the newest version (4:7.4.0-1ubuntu2.3).\n",
            "g++ set to manually installed.\n",
            "python3-dev is already the newest version (3.6.7-1~18.04).\n",
            "python3-dev set to manually installed.\n",
            "The following package was automatically installed and is no longer required:\n",
            "  libnvidia-common-460\n",
            "Use 'apt autoremove' to remove it.\n",
            "The following additional packages will be installed:\n",
            "  fonts-dejavu-core fonts-dejavu-extra libatk-wrapper-java\n",
            "  libatk-wrapper-java-jni libgail-common libgail18 libgtk2.0-0 libgtk2.0-bin\n",
            "  libgtk2.0-common libxxf86dga1 openjdk-8-jdk-headless openjdk-8-jre\n",
            "  openjdk-8-jre-headless x11-utils\n",
            "Suggested packages:\n",
            "  gvfs openjdk-8-demo openjdk-8-source visualvm libnss-mdns\n",
            "  fonts-ipafont-gothic fonts-ipafont-mincho fonts-wqy-microhei\n",
            "  fonts-wqy-zenhei fonts-indic mesa-utils\n",
            "The following NEW packages will be installed:\n",
            "  fonts-dejavu-core fonts-dejavu-extra libatk-wrapper-java\n",
            "  libatk-wrapper-java-jni libgail-common libgail18 libgtk2.0-0 libgtk2.0-bin\n",
            "  libgtk2.0-common libxxf86dga1 openjdk-8-jdk openjdk-8-jdk-headless\n",
            "  openjdk-8-jre openjdk-8-jre-headless x11-utils\n",
            "0 upgraded, 15 newly installed, 0 to remove and 47 not upgraded.\n",
            "Need to get 46.0 MB of archives.\n",
            "After this operation, 166 MB of additional disk space will be used.\n",
            "Get:1 http://archive.ubuntu.com/ubuntu bionic/main amd64 libxxf86dga1 amd64 2:1.1.4-1 [13.7 kB]\n",
            "Get:2 http://archive.ubuntu.com/ubuntu bionic/main amd64 fonts-dejavu-core all 2.37-1 [1,041 kB]\n",
            "Get:3 http://archive.ubuntu.com/ubuntu bionic/main amd64 fonts-dejavu-extra all 2.37-1 [1,953 kB]\n",
            "Get:4 http://archive.ubuntu.com/ubuntu bionic/main amd64 x11-utils amd64 7.7+3build1 [196 kB]\n",
            "Get:5 http://archive.ubuntu.com/ubuntu bionic/main amd64 libatk-wrapper-java all 0.33.3-20ubuntu0.1 [34.7 kB]\n",
            "Get:6 http://archive.ubuntu.com/ubuntu bionic/main amd64 libatk-wrapper-java-jni amd64 0.33.3-20ubuntu0.1 [28.3 kB]\n",
            "Get:7 http://archive.ubuntu.com/ubuntu bionic/main amd64 libgtk2.0-common all 2.24.32-1ubuntu1 [125 kB]\n",
            "Get:8 http://archive.ubuntu.com/ubuntu bionic/main amd64 libgtk2.0-0 amd64 2.24.32-1ubuntu1 [1,769 kB]\n",
            "Get:9 http://archive.ubuntu.com/ubuntu bionic/main amd64 libgail18 amd64 2.24.32-1ubuntu1 [14.2 kB]\n",
            "Get:10 http://archive.ubuntu.com/ubuntu bionic/main amd64 libgail-common amd64 2.24.32-1ubuntu1 [112 kB]\n",
            "Get:11 http://archive.ubuntu.com/ubuntu bionic/main amd64 libgtk2.0-bin amd64 2.24.32-1ubuntu1 [7,536 B]\n",
            "Get:12 http://archive.ubuntu.com/ubuntu bionic-updates/universe amd64 openjdk-8-jre-headless amd64 8u342-b07-0ubuntu1~18.04 [28.3 MB]\n",
            "Get:13 http://archive.ubuntu.com/ubuntu bionic-updates/universe amd64 openjdk-8-jre amd64 8u342-b07-0ubuntu1~18.04 [69.6 kB]\n",
            "Get:14 http://archive.ubuntu.com/ubuntu bionic-updates/universe amd64 openjdk-8-jdk-headless amd64 8u342-b07-0ubuntu1~18.04 [8,300 kB]\n",
            "Get:15 http://archive.ubuntu.com/ubuntu bionic-updates/universe amd64 openjdk-8-jdk amd64 8u342-b07-0ubuntu1~18.04 [4,032 kB]\n",
            "Fetched 46.0 MB in 2s (20.1 MB/s)\n",
            "Selecting previously unselected package libxxf86dga1:amd64.\r\n",
            "(Reading database ... \r(Reading database ... 5%\r(Reading database ... 10%\r(Reading database ... 15%\r(Reading database ... 20%\r(Reading database ... 25%\r(Reading database ... 30%\r(Reading database ... 35%\r(Reading database ... 40%\r(Reading database ... 45%\r(Reading database ... 50%\r(Reading database ... 55%\r(Reading database ... 60%\r(Reading database ... 65%\r(Reading database ... 70%\r(Reading database ... 75%\r(Reading database ... 80%\r(Reading database ... 85%\r(Reading database ... 90%\r(Reading database ... 95%\r(Reading database ... 100%\r(Reading database ... 155685 files and directories currently installed.)\r\n",
            "Preparing to unpack .../00-libxxf86dga1_2%3a1.1.4-1_amd64.deb ...\r\n",
            "Unpacking libxxf86dga1:amd64 (2:1.1.4-1) ...\r\n",
            "Selecting previously unselected package fonts-dejavu-core.\r\n",
            "Preparing to unpack .../01-fonts-dejavu-core_2.37-1_all.deb ...\r\n",
            "Unpacking fonts-dejavu-core (2.37-1) ...\r\n",
            "Selecting previously unselected package fonts-dejavu-extra.\r\n",
            "Preparing to unpack .../02-fonts-dejavu-extra_2.37-1_all.deb ...\r\n",
            "Unpacking fonts-dejavu-extra (2.37-1) ...\r\n",
            "Selecting previously unselected package x11-utils.\r\n",
            "Preparing to unpack .../03-x11-utils_7.7+3build1_amd64.deb ...\r\n",
            "Unpacking x11-utils (7.7+3build1) ...\r\n",
            "Selecting previously unselected package libatk-wrapper-java.\r\n",
            "Preparing to unpack .../04-libatk-wrapper-java_0.33.3-20ubuntu0.1_all.deb ...\r\n",
            "Unpacking libatk-wrapper-java (0.33.3-20ubuntu0.1) ...\r\n",
            "Selecting previously unselected package libatk-wrapper-java-jni:amd64.\r\n",
            "Preparing to unpack .../05-libatk-wrapper-java-jni_0.33.3-20ubuntu0.1_amd64.deb ...\r\n",
            "Unpacking libatk-wrapper-java-jni:amd64 (0.33.3-20ubuntu0.1) ...\r\n",
            "Selecting previously unselected package libgtk2.0-common.\r\n",
            "Preparing to unpack .../06-libgtk2.0-common_2.24.32-1ubuntu1_all.deb ...\r\n",
            "Unpacking libgtk2.0-common (2.24.32-1ubuntu1) ...\r\n",
            "Selecting previously unselected package libgtk2.0-0:amd64.\r\n",
            "Preparing to unpack .../07-libgtk2.0-0_2.24.32-1ubuntu1_amd64.deb ...\r\n",
            "Unpacking libgtk2.0-0:amd64 (2.24.32-1ubuntu1) ...\r\n",
            "Selecting previously unselected package libgail18:amd64.\r\n",
            "Preparing to unpack .../08-libgail18_2.24.32-1ubuntu1_amd64.deb ...\r\n",
            "Unpacking libgail18:amd64 (2.24.32-1ubuntu1) ...\r\n",
            "Selecting previously unselected package libgail-common:amd64.\r\n",
            "Preparing to unpack .../09-libgail-common_2.24.32-1ubuntu1_amd64.deb ...\r\n",
            "Unpacking libgail-common:amd64 (2.24.32-1ubuntu1) ...\r\n",
            "Selecting previously unselected package libgtk2.0-bin.\r\n",
            "Preparing to unpack .../10-libgtk2.0-bin_2.24.32-1ubuntu1_amd64.deb ...\r\n",
            "Unpacking libgtk2.0-bin (2.24.32-1ubuntu1) ...\r\n",
            "Selecting previously unselected package openjdk-8-jre-headless:amd64.\r\n",
            "Preparing to unpack .../11-openjdk-8-jre-headless_8u342-b07-0ubuntu1~18.04_amd64.deb ...\r\n",
            "Unpacking openjdk-8-jre-headless:amd64 (8u342-b07-0ubuntu1~18.04) ...\r\n",
            "Selecting previously unselected package openjdk-8-jre:amd64.\r\n",
            "Preparing to unpack .../12-openjdk-8-jre_8u342-b07-0ubuntu1~18.04_amd64.deb ...\r\n",
            "Unpacking openjdk-8-jre:amd64 (8u342-b07-0ubuntu1~18.04) ...\r\n",
            "Selecting previously unselected package openjdk-8-jdk-headless:amd64.\r\n",
            "Preparing to unpack .../13-openjdk-8-jdk-headless_8u342-b07-0ubuntu1~18.04_amd64.deb ...\r\n",
            "Unpacking openjdk-8-jdk-headless:amd64 (8u342-b07-0ubuntu1~18.04) ...\r\n",
            "Selecting previously unselected package openjdk-8-jdk:amd64.\r\n",
            "Preparing to unpack .../14-openjdk-8-jdk_8u342-b07-0ubuntu1~18.04_amd64.deb ...\r\n",
            "Unpacking openjdk-8-jdk:amd64 (8u342-b07-0ubuntu1~18.04) ...\r\n",
            "Setting up libgtk2.0-common (2.24.32-1ubuntu1) ...\r\n",
            "Setting up fonts-dejavu-core (2.37-1) ...\r\n",
            "Setting up libxxf86dga1:amd64 (2:1.1.4-1) ...\r\n",
            "Setting up fonts-dejavu-extra (2.37-1) ...\r\n",
            "Setting up openjdk-8-jre-headless:amd64 (8u342-b07-0ubuntu1~18.04) ...\r\n",
            "update-alternatives: using /usr/lib/jvm/java-8-openjdk-amd64/jre/bin/orbd to provide /usr/bin/orbd (orbd) in auto mode\r\n",
            "update-alternatives: using /usr/lib/jvm/java-8-openjdk-amd64/jre/bin/servertool to provide /usr/bin/servertool (servertool) in auto mode\r\n",
            "update-alternatives: using /usr/lib/jvm/java-8-openjdk-amd64/jre/bin/tnameserv to provide /usr/bin/tnameserv (tnameserv) in auto mode\r\n",
            "Setting up libgtk2.0-0:amd64 (2.24.32-1ubuntu1) ...\r\n",
            "Setting up libgail18:amd64 (2.24.32-1ubuntu1) ...\r\n",
            "Setting up openjdk-8-jdk-headless:amd64 (8u342-b07-0ubuntu1~18.04) ...\r\n",
            "update-alternatives: using /usr/lib/jvm/java-8-openjdk-amd64/bin/idlj to provide /usr/bin/idlj (idlj) in auto mode\r\n",
            "update-alternatives: using /usr/lib/jvm/java-8-openjdk-amd64/bin/wsimport to provide /usr/bin/wsimport (wsimport) in auto mode\r\n",
            "update-alternatives: using /usr/lib/jvm/java-8-openjdk-amd64/bin/jsadebugd to provide /usr/bin/jsadebugd (jsadebugd) in auto mode\r\n",
            "update-alternatives: using /usr/lib/jvm/java-8-openjdk-amd64/bin/native2ascii to provide /usr/bin/native2ascii (native2ascii) in auto mode\r\n",
            "update-alternatives: using /usr/lib/jvm/java-8-openjdk-amd64/bin/javah to provide /usr/bin/javah (javah) in auto mode\r\n",
            "update-alternatives: using /usr/lib/jvm/java-8-openjdk-amd64/bin/clhsdb to provide /usr/bin/clhsdb (clhsdb) in auto mode\r\n",
            "update-alternatives: using /usr/lib/jvm/java-8-openjdk-amd64/bin/xjc to provide /usr/bin/xjc (xjc) in auto mode\r\n",
            "update-alternatives: using /usr/lib/jvm/java-8-openjdk-amd64/bin/hsdb to provide /usr/bin/hsdb (hsdb) in auto mode\r\n",
            "update-alternatives: using /usr/lib/jvm/java-8-openjdk-amd64/bin/schemagen to provide /usr/bin/schemagen (schemagen) in auto mode\r\n",
            "update-alternatives: using /usr/lib/jvm/java-8-openjdk-amd64/bin/extcheck to provide /usr/bin/extcheck (extcheck) in auto mode\r\n",
            "update-alternatives: using /usr/lib/jvm/java-8-openjdk-amd64/bin/jhat to provide /usr/bin/jhat (jhat) in auto mode\r\n",
            "update-alternatives: using /usr/lib/jvm/java-8-openjdk-amd64/bin/wsgen to provide /usr/bin/wsgen (wsgen) in auto mode\r\n",
            "Setting up x11-utils (7.7+3build1) ...\r\n",
            "Setting up libgail-common:amd64 (2.24.32-1ubuntu1) ...\r\n",
            "Setting up libatk-wrapper-java (0.33.3-20ubuntu0.1) ...\r\n",
            "Setting up libgtk2.0-bin (2.24.32-1ubuntu1) ...\r\n",
            "Setting up libatk-wrapper-java-jni:amd64 (0.33.3-20ubuntu0.1) ...\r\n",
            "Setting up openjdk-8-jre:amd64 (8u342-b07-0ubuntu1~18.04) ...\r\n",
            "update-alternatives: using /usr/lib/jvm/java-8-openjdk-amd64/jre/bin/policytool to provide /usr/bin/policytool (policytool) in auto mode\r\n",
            "Setting up openjdk-8-jdk:amd64 (8u342-b07-0ubuntu1~18.04) ...\r\n",
            "update-alternatives: using /usr/lib/jvm/java-8-openjdk-amd64/bin/appletviewer to provide /usr/bin/appletviewer (appletviewer) in auto mode\r\n",
            "update-alternatives: using /usr/lib/jvm/java-8-openjdk-amd64/bin/jconsole to provide /usr/bin/jconsole (jconsole) in auto mode\r\n",
            "Processing triggers for man-db (2.8.3-2ubuntu0.1) ...\r\n",
            "Processing triggers for hicolor-icon-theme (0.17-2) ...\r\n",
            "Processing triggers for fontconfig (2.12.6-0ubuntu2) ...\r\n",
            "Processing triggers for mime-support (3.60ubuntu1) ...\r\n",
            "Processing triggers for libc-bin (2.27-3ubuntu1.5) ...\r\n",
            "Looking in indexes: https://pypi.org/simple, https://us-python.pkg.dev/colab-wheels/public/simple/\n",
            "Collecting JPype1\n",
            "  Downloading JPype1-1.4.0-cp37-cp37m-manylinux_2_5_x86_64.manylinux1_x86_64.whl (453 kB)\n",
            "Requirement already satisfied: typing-extensions in /usr/local/lib/python3.7/dist-packages (from JPype1) (4.1.1)\n",
            "Installing collected packages: JPype1\n",
            "Successfully installed JPype1-1.4.0\n",
            "Looking in indexes: https://pypi.org/simple, https://us-python.pkg.dev/colab-wheels/public/simple/\n",
            "Collecting konlpy\n",
            "  Downloading konlpy-0.6.0-py2.py3-none-any.whl (19.4 MB)\n",
            "Requirement already satisfied: JPype1>=0.7.0 in /usr/local/lib/python3.7/dist-packages (from konlpy) (1.4.0)\n",
            "Requirement already satisfied: lxml>=4.1.0 in /usr/local/lib/python3.7/dist-packages (from konlpy) (4.9.1)\n",
            "Requirement already satisfied: numpy>=1.6 in /usr/local/lib/python3.7/dist-packages (from konlpy) (1.21.6)\n",
            "Requirement already satisfied: typing-extensions in /usr/local/lib/python3.7/dist-packages (from JPype1>=0.7.0->konlpy) (4.1.1)\n",
            "Installing collected packages: konlpy\n",
            "Successfully installed konlpy-0.6.0\n"
          ]
        }
      ]
    },
    {
      "cell_type": "code",
      "source": [
        "# java 경로 설정\n",
        "%env JAVA_HOME \"/usr/lib/jvm/java-8-openjdk-amd64\""
      ],
      "metadata": {
        "colab": {
          "base_uri": "https://localhost:8080/"
        },
        "id": "gV7CNL2KVDqN",
        "outputId": "b8b87d78-fbf0-408e-f5e4-ea398a5d2801"
      },
      "execution_count": 18,
      "outputs": [
        {
          "output_type": "stream",
          "name": "stdout",
          "text": [
            "env: JAVA_HOME=\"/usr/lib/jvm/java-8-openjdk-amd64\"\n"
          ]
        }
      ]
    },
    {
      "cell_type": "code",
      "source": [
        "from konlpy.tag import Okt"
      ],
      "metadata": {
        "id": "S0aHtzksVPOT"
      },
      "execution_count": 19,
      "outputs": []
    },
    {
      "cell_type": "code",
      "source": [
        "okt = Okt()"
      ],
      "metadata": {
        "id": "ly1Fg2bXVYVF"
      },
      "execution_count": 20,
      "outputs": []
    },
    {
      "cell_type": "code",
      "source": [
        "def CustomTokenizer(corpus):\n",
        "    stop = ['Josa','Suffix','Punctuation', 'Foreign']\n",
        "    tokenized = []\n",
        "    for i, j in okt.pos(corpus, stem = True, norm = True):\n",
        "        if j in stop:\n",
        "          continue\n",
        "        tokenized.append(i)\n",
        "    return tokenized      "
      ],
      "metadata": {
        "id": "UcXNpcUaVtIA"
      },
      "execution_count": 21,
      "outputs": []
    },
    {
      "cell_type": "code",
      "source": [
        "# 한국어 처리 어떻게 되고 있는지 확인\n",
        "CustomTokenizer(sample_data['ko'])"
      ],
      "metadata": {
        "colab": {
          "base_uri": "https://localhost:8080/"
        },
        "id": "aGMdyWtdWF31",
        "outputId": "af60593d-58a7-42a0-8747-9d9106943b2b"
      },
      "execution_count": 22,
      "outputs": [
        {
          "output_type": "execute_result",
          "data": {
            "text/plain": [
              "['그', '말', '들다', '기쁘다', '저희', '거래', '하다', '것', '고려', '하다', '주다', '하다']"
            ]
          },
          "metadata": {},
          "execution_count": 22
        }
      ]
    },
    {
      "cell_type": "code",
      "source": [
        "# 영어도 일단 토큰화가 되고 있으니 사용해보도록 합시다\n",
        "CustomTokenizer(sample_data['en'])"
      ],
      "metadata": {
        "colab": {
          "base_uri": "https://localhost:8080/"
        },
        "id": "G7vMH186WJUp",
        "outputId": "28801892-cfc3-45ed-92ec-0281d6e59583"
      },
      "execution_count": 23,
      "outputs": [
        {
          "output_type": "execute_result",
          "data": {
            "text/plain": [
              "['I',\n",
              " 'm',\n",
              " 'glad',\n",
              " 'to',\n",
              " 'hear',\n",
              " 'that',\n",
              " 'and',\n",
              " 'I',\n",
              " 'hope',\n",
              " 'you',\n",
              " 'do',\n",
              " 'consider',\n",
              " 'doing',\n",
              " 'business',\n",
              " 'with',\n",
              " 'us']"
            ]
          },
          "metadata": {},
          "execution_count": 23
        }
      ]
    },
    {
      "cell_type": "markdown",
      "source": [
        "## 본격적인 전처리 과정\n",
        "\n",
        "전처리릏 할 때 주의할 점은, 우리가 가지고 있는 것은 train 데이터 뿐이라는 점입니다.\n",
        "\n",
        "토큰화를 하고, token들을 수집할 때 평가데이터(혹은 테스트 데이터)에 대한 정보는 가지고 있을 수 없습니다. 그렇기 때문에 train data를 기준으로 전처리가 진행되어야 합니다."
      ],
      "metadata": {
        "id": "L9_z0sVcW7Cy"
      }
    },
    {
      "cell_type": "markdown",
      "source": [
        "### Tokenization"
      ],
      "metadata": {
        "id": "HgfddQJuaQe-"
      }
    },
    {
      "cell_type": "code",
      "source": [
        "from tqdm import tqdm"
      ],
      "metadata": {
        "id": "zPHGhgX4YXJR"
      },
      "execution_count": 24,
      "outputs": []
    },
    {
      "cell_type": "code",
      "source": [
        "src_vocab = set()\n",
        "tar_vocab = set()\n",
        "\n",
        "src_seq_tr = []\n",
        "tar_seq_tr = []\n",
        "\n",
        "# 전체 raw data에서 문장하나씩 loop 돌아가는 것\n",
        "for raw_tr_dat in tqdm(raw_train_data):\n",
        "  # 문장별 tokenization\n",
        "  src_tmp = CustomTokenizer(raw_tr_dat['ko'])\n",
        "  tar_tmp = CustomTokenizer(raw_tr_dat['en'])\n",
        "  src_tmp.append('<EOS>')\n",
        "  tar_tmp.insert(0, '<SOS>')\n",
        "  tar_tmp.append('<EOS>')\n",
        "\n",
        "  # 한국어, 영어 단어집합 구성  \n",
        "  # update를 사용해서 문장 집합에 넣기\n",
        "  src_vocab.update(src_tmp)\n",
        "  tar_vocab.update(tar_tmp)\n",
        "\n",
        "  # tokenization 끝난 문장 보관 아니 문장을 넣어야 되는데.. \n",
        "  src_seq_tr.append(src_tmp)\n",
        "  tar_seq_tr.append(tar_tmp)"
      ],
      "metadata": {
        "colab": {
          "base_uri": "https://localhost:8080/"
        },
        "id": "yXsFXCVDwACu",
        "outputId": "26482211-5538-4b57-f866-65349ce0b5de"
      },
      "execution_count": 25,
      "outputs": [
        {
          "output_type": "stream",
          "name": "stderr",
          "text": [
            "100%|██████████| 10000/10000 [00:30<00:00, 329.36it/s]\n"
          ]
        }
      ]
    },
    {
      "cell_type": "markdown",
      "source": [
        "고민해볼 점: 과연 한국어 단어집합에 한국어만 있을까요?\n",
        "\n",
        "지금 단계에서는 시간 상 체크하진 않지만 고민해볼 부분이기도 합니다."
      ],
      "metadata": {
        "id": "PtNW4DUIyEbN"
      }
    },
    {
      "cell_type": "markdown",
      "source": [
        "### token - index 정리"
      ],
      "metadata": {
        "id": "cK_E98-daSy7"
      }
    },
    {
      "cell_type": "code",
      "source": [
        "# 최종 정수 인코딩 하기 전 보기 편하기 위해 sort\n",
        "src_vocab = sorted(list(src_vocab))\n",
        "tar_vocab = sorted(list(tar_vocab))"
      ],
      "metadata": {
        "id": "Iz3i3MtRZ-P-"
      },
      "execution_count": 27,
      "outputs": []
    },
    {
      "cell_type": "code",
      "source": [
        "src_vocab[-1]"
      ],
      "metadata": {
        "colab": {
          "base_uri": "https://localhost:8080/",
          "height": 35
        },
        "id": "i-MdQ488z-TE",
        "outputId": "3bd0c005-095c-4a77-ef93-b69e41d0eb19"
      },
      "execution_count": null,
      "outputs": [
        {
          "output_type": "execute_result",
          "data": {
            "text/plain": [
              "'힘쓰다'"
            ],
            "application/vnd.google.colaboratory.intrinsic+json": {
              "type": "string"
            }
          },
          "metadata": {},
          "execution_count": 30
        }
      ]
    },
    {
      "cell_type": "code",
      "source": [
        "# token - idx dictionary\n",
        "# 여기서도 동일하게 i+1로 해줘야 padding에 사용할 token을 0으로 사용할 수 있습니다!\n",
        "src_to_index = dict([(word, i+1) for i, word in enumerate(src_vocab)])\n",
        "tar_to_index = dict([(word, i+1) for i, word in enumerate(tar_vocab)])\n",
        "print(src_to_index)\n",
        "print(tar_to_index)"
      ],
      "metadata": {
        "colab": {
          "base_uri": "https://localhost:8080/"
        },
        "id": "xrGkd41Has-Q",
        "outputId": "51910b2f-23fa-4d53-e650-654ba9b65560"
      },
      "execution_count": 30,
      "outputs": [
        {
          "output_type": "stream",
          "name": "stdout",
          "text": [
            "{'$10,000': 1, '$10,000만': 2, '$100': 3, '$100,000': 4, '$120': 5, '$20': 6, '$21': 7, '$5': 8, '$50,000': 9, '$500,000': 10, '$6,000': 11, '0': 12, '0.006': 13, '0.2': 14, '0.26%': 15, '0.5%': 16, '0.95%': 17, '0000000': 18, '1': 19, '1%': 20, '1,000': 21, '1,000,000원': 22, '1,000달러': 23, '1,000만': 24, '1,000원': 25, '1,200달러': 26, '1,250,000원': 27, '1,500': 28, '1,500달러': 29, '1,700,000원': 30, '1.50%': 31, '10': 32, '10%': 33, '10,000': 34, '10,000달러': 35, '10.9%': 36, '100': 37, '100%': 38, '100,000달러': 39, '1000': 40, '1000만': 41, '1000억원': 42, '100달러': 43, '100만': 44, '100만달러': 45, '100만원': 46, '10~14일': 47, '10년': 48, '10달러': 49, '10만': 50, '10분': 51, '10시': 52, '10월': 53, '10일': 54, '10초': 55, '11': 56, '1100': 57, '11시': 58, '11월': 59, '11일': 60, '12': 61, '12%': 62, '12.99달러': 63, '1200만': 64, '123': 65, '123-456': 66, '1234': 67, '1234-5678': 68, '123456': 69, '1234567': 70, '12345678': 71, '123456789': 72, '123546789': 73, '125달러': 74, '128': 75, '12년': 76, '12월': 77, '12일': 78, '13': 79, '135': 80, '13일': 81, '140,000원': 82, '140달러': 83, '142': 84, '144': 85, '14일': 86, '15': 87, '15%': 88, '15,000': 89, '15,000달러': 90, '150': 91, '150달러': 92, '15~20': 93, '15년': 94, '15달러': 95, '15만': 96, '15분': 97, '15일': 98, '16': 99, '1600만': 100, '16달러': 101, '16일': 102, '17일': 103, '18': 104, '18,000,000,000원': 105, '18일': 106, '19': 107, '1952년': 108, '19일': 109, '1:1': 110, '1~2년': 111, '1년': 112, '1분': 113, '1시': 114, '1시간': 115, '1억': 116, '1억원': 117, '1월': 118, '1일': 119, '2': 120, '2%': 121, '2,000,000달러': 122, '2,000달러': 123, '2,500달러': 124, '2,500만': 125, '2-4': 126, '2.5%': 127, '20': 128, '20%': 129, '20,000,000원': 130, '20,000달러': 131, '200': 132, '2000년': 133, '2000달러': 134, '2002년': 135, '200569978005': 136, '200달러': 137, '200만': 138, '2019년': 139, '2021': 140, '2021년': 141, '2022년': 142, '2070만': 143, '20년': 144, '20달러': 145, '20분': 146, '20일': 147, '21일': 148, '22달러': 149, '22일': 150, '23일': 151, '24시간': 152, '25': 153, '25%': 154, '2500달러': 155, '250달러': 156, '25년': 157, '25달러': 158, '25만': 159, '25분': 160, '27일': 161, '280': 162, '2929달러': 163, '29일': 164, '2~3': 165, '2년': 166, '2달러': 167, '2만': 168, '2분': 169, '2시': 170, '2시간': 171, '2월': 172, '2일': 173, '2천만': 174, '3': 175, '3%': 176, '3,000': 177, '3,000달러': 178, '3,500': 179, '3,500달러': 180, '3-5시간': 181, '3-7': 182, '3.5%': 183, '30': 184, '300': 185, '3000': 186, '3000달러': 187, '300달러': 188, '30년': 189, '30분': 190, '30시간': 191, '30일': 192, '30회': 193, '31': 194, '31일': 195, '320달러': 196, '34.5': 197, '350': 198, '35년': 199, '365일': 200, '370': 201, '3~4': 202, '3~4일': 203, '3~5%': 204, '3~5일': 205, '3년': 206, '3시': 207, '3시간': 208, '3월': 209, '3일': 210, '3천': 211, '4': 212, '4%': 213, '4,000달러': 214, '4.99달러': 215, '40': 216, '40%': 217, '40,000달러': 218, '4000': 219, '400달러': 220, '404': 221, '40만': 222, '40분': 223, '40초': 224, '420': 225, '45.5': 226, '450': 227, '45만': 228, '45분': 229, '475달러': 230, '48시간': 231, '4달러': 232, '4시': 233, '4시간': 234, '4월': 235, '4일': 236, '5': 237, '5%': 238, '5,200': 239, '5.0': 240, '50': 241, '50%': 242, '50,000,000': 243, '50,000,000달러': 244, '50,000달러': 245, '50-60%': 246, '500': 247, '500,000': 248, '500,000원': 249, '500달러': 250, '500만': 251, '500만원': 252, '50달러': 253, '50만': 254, '50분': 255, '50억': 256, '51.5': 257, '52': 258, '55,000원': 259, '550': 260, '550달러': 261, '58,000,000달러': 262, '5900달러': 263, '5년': 264, '5달러': 265, '5만': 266, '5분': 267, '5시': 268, '5월': 269, '5일': 270, '6': 271, '6%': 272, '6.4': 273, '60': 274, '600만': 275, '60~90분': 276, '60만': 277, '60일': 278, '60초': 279, '63': 280, '6시': 281, '6월': 282, '6일': 283, '7': 284, '7%': 285, '7,000달러': 286, '7,200': 287, '70': 288, '700달러': 289, '70달러': 290, '72': 291, '75%': 292, '750': 293, '7500': 294, '7500만원': 295, '750달러': 296, '7~10일': 297, '7~8시간': 298, '7시': 299, '7월': 300, '7일': 301, '8': 302, '8%': 303, '8,000달러': 304, '8,400달러': 305, '80%': 306, '800': 307, '80달러': 308, '8~9': 309, '8달러': 310, '8만': 311, '8시': 312, '8월': 313, '8일': 314, '8회': 315, '9': 316, '9,500달러': 317, '9.99달러': 318, '900달러': 319, '90만': 320, '90분': 321, '93': 322, '99%': 323, '9:16': 324, '9만': 325, '9시': 326, '9월': 327, '9일': 328, '<EOS>': 329, 'A': 330, 'AAA': 331, 'AAA1@BBB1.com': 332, 'AAA@BBB.com': 333, 'ABCDE': 334, 'AI': 335, 'ANR': 336, 'ATM': 337, 'Associates': 338, 'B': 339, 'BBB': 340, 'BBB@email.com': 341, 'BSE': 342, 'Bank': 343, 'C': 344, 'CCTV': 345, 'CEO': 346, 'CFM': 347, 'CMS': 348, 'COVID': 349, 'CSS': 350, 'CT': 351, 'Company': 352, 'Corporation': 353, 'D': 354, 'DCA': 355, 'DVR': 356, 'Drive': 357, 'E': 358, 'EOB': 359, 'EPP': 360, 'ESG': 361, 'ETF': 362, 'EVA': 363, 'Enter': 364, 'Expo': 365, 'FFF': 366, 'FFFF': 367, 'FOMO': 368, 'Fair': 369, 'Fi': 370, 'Food': 371, 'Fu': 372, 'G': 373, 'GB': 374, 'GPS': 375, 'GVWR': 376, 'HDD': 377, 'HTML': 378, 'ID': 379, 'IP': 380, 'IPO': 381, 'IT': 382, 'IVR': 383, 'IaaS': 384, 'International': 385, 'IoT': 386, 'JLPT': 387, 'K': 388, 'Kabsat': 389, 'Korea': 390, 'LED': 391, 'Limited': 392, 'Locust': 393, 'M': 394, 'MAR': 395, 'MMS': 396, 'MOU': 397, 'Medical': 398, 'NFT': 399, 'NI': 400, 'NSE': 401, 'NTFS': 402, 'PDA': 403, 'PDF': 404, 'PPE': 405, 'PRO': 406, 'PSA': 407, 'PVP': 408, 'Precision': 409, 'Private': 410, 'QR': 411, 'RAM': 412, 'ROI': 413, 'RV': 414, 'SD': 415, 'SEO': 416, 'SIM': 417, 'SKU': 418, 'SNS': 419, 'SPV': 420, 'SSD': 421, 'SSL': 422, 'Salalah': 423, 'South': 424, 'TPU': 425, 'TV': 426, 'Touch': 427, 'UI': 428, 'UN': 429, 'USB': 430, 'VC': 431, 'VIP': 432, 'VPN': 433, 'VR': 434, 'VVIP': 435, 'View': 436, 'WIFI': 437, 'WTO': 438, 'Web': 439, 'Wi': 440, 'by': 441, 'car': 442, 'cm': 443, 'demat': 444, 'e': 445, 'found': 446, 'km': 447, 'm': 448, 'mm': 449, 'mmHg': 450, 'not': 451, 'pdf': 452, 'x': 453, '가게': 454, '가격': 455, '가격표': 456, '가공': 457, '가교': 458, '가구': 459, '가급적': 460, '가기': 461, '가까워지다': 462, '가까이': 463, '가깝다': 464, '가꾸다': 465, '가끔': 466, '가능': 467, '가능성': 468, '가능하다': 469, '가다': 470, '가닥': 471, '가득': 472, '가득하다': 473, '가든': 474, '가령': 475, '가로': 476, '가르다': 477, '가르치다': 478, '가리키다': 479, '가면': 480, '가미': 481, '가변': 482, '가볍다': 483, '가보다': 484, '가상': 485, '가상화': 486, '가세': 487, '가소성': 488, '가솔린': 489, '가스': 490, '가스나': 491, '가스레인지': 492, '가슴': 493, '가시': 494, '가야': 495, '가열': 496, '가옥': 497, '가요': 498, '가용성': 499, '가을': 500, '가의': 501, '가이드': 502, '가이드북': 503, '가입': 504, '가입자': 505, '가장': 506, '가전': 507, '가전제품': 508, '가정': 509, '가정식': 510, '가젯': 511, '가져가다': 512, '가져다주다': 513, '가져오다': 514, '가족': 515, '가지': 516, '가지다': 517, '가차': 518, '가치': 519, '가판': 520, '각': 521, '각각': 522, '각국': 523, '각도': 524, '각본': 525, '각서': 526, '각자': 527, '각종': 528, '간': 529, '간격': 530, '간결하다': 531, '간과': 532, '간극': 533, '간단하다': 534, '간략하다': 535, '간사': 536, '간의': 537, '간장': 538, '간접비': 539, '간주': 540, '간행물': 541, '간호사': 542, '갇히다': 543, '갈다': 544, '갈래': 545, '갈비': 546, '갈아타다': 547, '감': 548, '감당': 549, '감독': 550, '감동': 551, '감명': 552, '감사': 553, '감사하다': 554, '감소': 555, '감수': 556, '감시': 557, '감싸다': 558, '감안': 559, '감염': 560, '감정': 561, '감지': 562, '갑자기': 563, '갑작스럽다': 564, '값': 565, '갓': 566, '강남': 567, '강남역': 568, '강도': 569, '강력하다': 570, '강릉': 571, '강세': 572, '강아지': 573, '강연': 574, '강의': 575, '강의실': 576, '강점': 577, '강제': 578, '강조': 579, '강좌': 580, '강철': 581, '강하다': 582, '강화하다': 583, '갖다': 584, '갖추다': 585, '같다': 586, '같이': 587, '갚다': 588, '개': 589, '개구': 590, '개국': 591, '개념': 592, '개다': 593, '개도': 594, '개발': 595, '개발자': 596, '개방': 597, '개별': 598, '개봉': 599, '개선': 600, '개설': 601, '개시': 602, '개업': 603, '개요': 604, '개월': 605, '개월치': 606, '개인': 607, '개인실': 608, '개인정보': 609, '개인화': 610, '개입': 611, '개정': 612, '개조': 613, '개척': 614, '개체': 615, '개최': 616, '개회': 617, '객': 618, '객관': 619, '객실': 620, '갱신': 621, '거': 622, '거고': 623, '거기': 624, '거나': 625, '거대하다': 626, '거도': 627, '거들다': 628, '거뜬하다': 629, '거란': 630, '거래': 631, '거래소': 632, '거래처': 633, '거론': 634, '거리': 635, '거버넌스': 636, '거부': 637, '거셨나': 638, '거슬러': 639, '거신': 640, '거실': 641, '거야': 642, '거의': 643, '거절': 644, '거점': 645, '거주': 646, '거주지': 647, '거처': 648, '거치다': 649, '거품': 650, '걱정': 651, '걱정거리': 652, '건': 653, '건가': 654, '건강': 655, '건강하다': 656, '건너다': 657, '건너편': 658, '건네주다': 659, '건대': 660, '건물': 661, '건배': 662, '건설': 663, '건설업': 664, '건의': 665, '건조기': 666, '건지다': 667, '건축': 668, '건축물': 669, '걸': 670, '걸다': 671, '걸리다': 672, '걸음걸이': 673, '걸쭉하다': 674, '걸치다': 675, '검': 676, '검다': 677, '검사': 678, '검색': 679, '검수': 680, '검안': 681, '검은색': 682, '검증': 683, '검토': 684, '겁': 685, '겁니다': 686, '것': 687, '것이므': 688, '것입': 689, '게': 690, '게다가': 691, '게스트': 692, '게스트하우스': 693, '게시': 694, '게시판': 695, '게으르다': 696, '게이': 697, '게이트': 698, '게임': 699, '게장': 700, '게재': 701, '겠다': 702, '겨울': 703, '겨울철': 704, '격려': 705, '격식': 706, '격자': 707, '겪다': 708, '견과류': 709, '견본': 710, '견인차': 711, '견적': 712, '견학': 713, '결과': 714, '결국': 715, '결기': 716, '결론': 717, '결절': 718, '결정': 719, '결제': 720, '결코': 721, '결함': 722, '결합': 723, '결혼': 724, '결혼식': 725, '경': 726, '경고': 727, '경과': 728, '경기도': 729, '경량': 730, '경력': 731, '경로': 732, '경보': 733, '경비원': 734, '경시': 735, '경영': 736, '경우': 737, '경의': 738, '경작': 739, '경쟁': 740, '경쟁력': 741, '경쟁자': 742, '경제': 743, '경청': 744, '경치': 745, '경품': 746, '경향': 747, '경험': 748, '곁들이다': 749, '계란': 750, '계란빵': 751, '계란찜': 752, '계산': 753, '계산서': 754, '계세': 755, '계속': 756, '계시': 757, '계시다': 758, '계약': 759, '계약금': 760, '계약서': 761, '계열': 762, '계절': 763, '계정': 764, '계정은': 765, '계좌': 766, '계층': 767, '계획': 768, '고': 769, '고가': 770, '고개': 771, '고객': 772, '고구마': 773, '고귀하다': 774, '고급': 775, '고급스럽다': 776, '고기': 777, '고대': 778, '고도': 779, '고등어': 780, '고려': 781, '고려인삼': 782, '고르다': 783, '고맙다': 784, '고문': 785, '고민': 786, '고소하다': 787, '고속': 788, '고압': 789, '고양이': 790, '고여': 791, '고요': 792, '고용': 793, '고용주': 794, '고위': 795, '고유': 796, '고장': 797, '고정': 798, '고정기': 799, '고집': 800, '고추장': 801, '고치다': 802, '고통': 803, '고프다': 804, '고향': 805, '고화질': 806, '곡': 807, '곡물': 808, '곤경': 809, '곤혹': 810, '곧': 811, '곧다': 812, '골드': 813, '골프': 814, '곰팡이': 815, '곱': 816, '곳': 817, '곳곳': 818, '곳도': 819, '공': 820, '공간': 821, '공감': 822, '공개': 823, '공격': 824, '공공': 825, '공과금': 826, '공급': 827, '공기': 828, '공기업': 829, '공동': 830, '공동체': 831, '공략': 832, '공모': 833, '공백': 834, '공부': 835, '공사': 836, '공식': 837, '공압': 838, '공연': 839, '공용': 840, '공유': 841, '공인': 842, '공자': 843, '공장': 844, '공정': 845, '공정하다': 846, '공제': 847, '공지': 848, '공짜': 849, '공통': 850, '공통점': 851, '공학': 852, '공함': 853, '공항': 854, '과': 855, '과감': 856, '과거': 857, '과대': 858, '과세': 859, '과소': 860, '과실': 861, '과업': 862, '과일': 863, '과자': 864, '과장': 865, '과정': 866, '과제': 867, '과학': 868, '과학자': 869, '관': 870, '관계': 871, '관계없이': 872, '관광': 873, '관광객': 874, '관광지': 875, '관대하다': 876, '관련': 877, '관리': 878, '관리자': 879, '관세': 880, '관세청': 881, '관습': 882, '관심': 883, '관심사': 884, '관용': 885, '관점': 886, '관찰': 887, '관할': 888, '관해': 889, '관행': 890, '괌': 891, '광': 892, '광고': 893, '광대역': 894, '광도': 895, '광범위하다': 896, '광석': 897, '광택': 898, '괜': 899, '괜찮다': 900, '괴롭히다': 901, '굉장하다': 902, '교대': 903, '교류': 904, '교사': 905, '교수': 906, '교실': 907, '교육': 908, '교재': 909, '교직원': 910, '교체': 911, '교통': 912, '교환': 913, '교환학생': 914, '교훈': 915, '구': 916, '구가': 917, '구경': 918, '구독': 919, '구독료': 920, '구동': 921, '구름': 922, '구매': 923, '구별': 924, '구비': 925, '구상': 926, '구석구석': 927, '구성': 928, '구역': 929, '구이': 930, '구입': 931, '구절판': 932, '구조': 933, '구조원': 934, '구체': 935, '구축': 936, '구축함': 937, '구현': 938, '구형': 939, '국': 940, '국가': 941, '국경': 942, '국내': 943, '국내선': 944, '국내외': 945, '국물': 946, '국법': 947, '국수': 948, '국적': 949, '국제': 950, '국제공항': 951, '국한': 952, '군데': 953, '굴삭기': 954, '굴착기': 955, '굵다': 956, '굽다': 957, '궁궐': 958, '궁극': 959, '궁금하다': 960, '권': 961, '권리': 962, '권장': 963, '권하다': 964, '권한': 965, '귀': 966, '귀국': 967, '귀사': 968, '귀중': 969, '귀중하다': 970, '귀하': 971, '귀하다': 972, '규모': 973, '규정': 974, '규제': 975, '규칙': 976, '균열': 977, '균형': 978, '그': 979, '그거': 980, '그건': 981, '그걸': 982, '그걿': 983, '그것': 984, '그게': 985, '그날': 986, '그냥': 987, '그녀': 988, '그늘': 989, '그다음': 990, '그대로': 991, '그동안': 992, '그때': 993, '그땐': 994, '그라브락스': 995, '그래도': 996, '그래서': 997, '그래프': 998, '그래픽': 999, '그랬는데': 1000, '그랬더니': 1001, '그러나': 1002, '그러니까': 1003, '그러면': 1004, '그러므로': 1005, '그러하다': 1006, '그런데': 1007, '그렇게': 1008, '그렇다': 1009, '그렇다고': 1010, '그렇지만': 1011, '그룹': 1012, '그릇': 1013, '그리고': 1014, '그리다': 1015, '그리스': 1016, '그린': 1017, '그릴': 1018, '그림': 1019, '그만하다': 1020, '그저': 1021, '그중': 1022, '극구': 1023, '극복': 1024, '극장': 1025, '극적': 1026, '근거': 1027, '근데': 1028, '근로자': 1029, '근무': 1030, '근원': 1031, '근접하다': 1032, '근처': 1033, '글': 1034, '글꼴': 1035, '글로벌': 1036, '글루텐': 1037, '글쎄': 1038, '글쎄요': 1039, '글씨': 1040, '금': 1041, '금기': 1042, '금년': 1043, '금리': 1044, '금색': 1045, '금속': 1046, '금액': 1047, '금요일': 1048, '금융': 1049, '금융감독원': 1050, '금은': 1051, '금전': 1052, '금제': 1053, '금지': 1054, '급': 1055, '급등': 1056, '급성': 1057, '급여': 1058, '급우': 1059, '급증': 1060, '급하다': 1061, '긍정': 1062, '기': 1063, '기가바이트': 1064, '기간': 1065, '기계': 1066, '기공식': 1067, '기관': 1068, '기구': 1069, '기금': 1070, '기기': 1071, '기꺼이': 1072, '기념': 1073, '기념일': 1074, '기능': 1075, '기다': 1076, '기다리다': 1077, '기대': 1078, '기대하다': 1079, '기도': 1080, '기둥': 1081, '기록': 1082, '기르다': 1083, '기밀': 1084, '기반': 1085, '기본': 1086, '기부': 1087, '기분': 1088, '기쁘다': 1089, '기사': 1090, '기숙사': 1091, '기술': 1092, '기술자': 1093, '기어': 1094, '기억': 1095, '기억나다': 1096, '기업': 1097, '기업가': 1098, '기업은행': 1099, '기업인': 1100, '기여': 1101, '기온': 1102, '기와': 1103, '기울이다': 1104, '기원': 1105, '기입': 1106, '기자': 1107, '기재': 1108, '기적': 1109, '기존': 1110, '기준': 1111, '기중기': 1112, '기차': 1113, '기차역': 1114, '기차표': 1115, '기초': 1116, '기타': 1117, '기표': 1118, '기한': 1119, '기호': 1120, '기혼': 1121, '기회': 1122, '기획': 1123, '기후변화': 1124, '긴급': 1125, '긴급하다': 1126, '긴밀하다': 1127, '길': 1128, '길다': 1129, '길어지다': 1130, '길이': 1131, '김': 1132, '김밥': 1133, '김치': 1134, '김치볶음밥': 1135, '깊다': 1136, '깊이': 1137, '까다롭다': 1138, '까맣다': 1139, '깔끔하다': 1140, '깔리다': 1141, '깜박이다': 1142, '깜빡': 1143, '깜짝': 1144, '깨끗하다': 1145, '깨다': 1146, '깨우치다': 1147, '깨지다': 1148, '깻잎': 1149, '꺼내다': 1150, '꺼지다': 1151, '꼭': 1152, '꼼꼼하다': 1153, '꽉': 1154, '꽤': 1155, '꾸미다': 1156, '꾸준하다': 1157, '꿀': 1158, '꿈': 1159, '꿰매다': 1160, '끄다': 1161, '끊다': 1162, '끌': 1163, '끌다': 1164, '끌리다': 1165, '끓는점': 1166, '끓다': 1167, '끓이다': 1168, '끔찍하다': 1169, '끝': 1170, '끝나다': 1171, '끝내기': 1172, '끝내다': 1173, '끼치다': 1174, '나': 1175, '나가다': 1176, '나나': 1177, '나누다': 1178, '나뉘다': 1179, '나다': 1180, '나라': 1181, '나르다': 1182, '나머지': 1183, '나무': 1184, '나빠지다': 1185, '나쁘다': 1186, '나사': 1187, '나서다': 1188, '나아': 1189, '나아가다': 1190, '나아지다': 1191, '나열': 1192, '나오다': 1193, '나은': 1194, '나은지': 1195, '나이': 1196, '나이라': 1197, '나이지리아': 1198, '나이트클럽': 1199, '나일론': 1200, '나중': 1201, '나타나다': 1202, '나타내다': 1203, '나흘': 1204, '난': 1205, '난방': 1206, '난이도': 1207, '날': 1208, '날리다': 1209, '날씨': 1210, '날아가다': 1211, '날짜': 1212, '날카로워지다': 1213, '남기다': 1214, '남다': 1215, '남동쪽': 1216, '남미': 1217, '남성': 1218, '남아': 1219, '남아시아': 1220, '남용': 1221, '남지': 1222, '남편': 1223, '납부': 1224, '납품': 1225, '낫': 1226, '낫다': 1227, '낭비': 1228, '낭비하다': 1229, '낮다': 1230, '낮아지다': 1231, '낮잠': 1232, '낮추다': 1233, '낯설다': 1234, '내': 1235, '내기': 1236, '내내': 1237, '내년': 1238, '내놓다': 1239, '내다': 1240, '내려가다': 1241, '내려오다': 1242, '내리다': 1243, '내면': 1244, '내미다': 1245, '내부': 1246, '내시': 1247, '내야': 1248, '내연': 1249, '내용': 1250, '내일': 1251, '내장': 1252, '내주다': 1253, '내지': 1254, '낸싱': 1255, '낼': 1256, '냄비': 1257, '냅킨': 1258, '냉각': 1259, '냉동고': 1260, '냉면': 1261, '냉장': 1262, '너': 1263, '너무': 1264, '너무나': 1265, '너무하다': 1266, '너비': 1267, '너희': 1268, '널': 1269, '널리': 1270, '넓다': 1271, '넓히다': 1272, '넘기다': 1273, '넘다': 1274, '넘버': 1275, '넘어가다': 1276, '넘어서다': 1277, '넘어지다': 1278, '넘치다': 1279, '넣기': 1280, '넣다': 1281, '네': 1282, '네가지': 1283, '네트워크': 1284, '네트워킹': 1285, '넷째': 1286, '년': 1287, '노': 1288, '노고': 1289, '노동자': 1290, '노란색': 1291, '노래': 1292, '노래방': 1293, '노력': 1294, '노인': 1295, '노점': 1296, '노출': 1297, '노트북': 1298, '노프': 1299, '녹색': 1300, '녹음': 1301, '녹이다': 1302, '녹차': 1303, '녹화': 1304, '논란': 1305, '논문': 1306, '논의': 1307, '논픽션': 1308, '놀': 1309, '놀라다': 1310, '놀랍다': 1311, '놀이터': 1312, '농': 1313, '농기': 1314, '농기구': 1315, '농담': 1316, '농부': 1317, '농어': 1318, '농업': 1319, '농작물': 1320, '높다': 1321, '높아지다': 1322, '높이': 1323, '높이다': 1324, '놓다': 1325, '놓이다': 1326, '놓치다': 1327, '뇌파': 1328, '누가': 1329, '누구': 1330, '누구신지': 1331, '누군가': 1332, '누군지': 1333, '누락': 1334, '누르다': 1335, '누리': 1336, '누리다': 1337, '누수': 1338, '눈': 1339, '눌릴': 1340, '뉴스': 1341, '뉴스레터': 1342, '뉴욕': 1343, '뉴질랜드': 1344, '느껴지다': 1345, '느끼다': 1346, '느낌': 1347, '느리다': 1348, '느슨하다': 1349, '늘': 1350, '늘다': 1351, '늘리다': 1352, '늘어나다': 1353, '늙다': 1354, '능력': 1355, '늦': 1356, '늦다': 1357, '늦어지다': 1358, '니': 1359, '님': 1360, '다': 1361, '다가': 1362, '다가가다': 1363, '다가오다': 1364, '다국적': 1365, '다녀오다': 1366, '다년': 1367, '다니다': 1368, '다단계': 1369, '다도': 1370, '다듬다': 1371, '다량': 1372, '다루다': 1373, '다루어지다': 1374, '다르다': 1375, '다른': 1376, '다리미': 1377, '다만': 1378, '다섯': 1379, '다섯째': 1380, '다소': 1381, '다시': 1382, '다시다': 1383, '다양성': 1384, '다양하다': 1385, '다용': 1386, '다운': 1387, '다운로드': 1388, '다음': 1389, '다음주': 1390, '다이닝': 1391, '다인': 1392, '다채로웠으': 1393, '다큐멘터리': 1394, '다해': 1395, '다행': 1396, '다행하다': 1397, '단': 1398, '단가': 1399, '단거리': 1400, '단계': 1401, '단골': 1402, '단기': 1403, '단기간': 1404, '단단하다': 1405, '단독': 1406, '단돈': 1407, '단말기': 1408, '단백질': 1409, '단순하다': 1410, '단어': 1411, '단열': 1412, '단위': 1413, '단일': 1414, '단점': 1415, '단정하다': 1416, '단지': 1417, '단체': 1418, '단편': 1419, '단합': 1420, '닫다': 1421, '달': 1422, '달다': 1423, '달라': 1424, '달라지다': 1425, '달러': 1426, '달리': 1427, '달리다': 1428, '달성': 1429, '달이': 1430, '달콤하다': 1431, '닭': 1432, '닭고기': 1433, '닭발': 1434, '담': 1435, '담그다': 1436, '담기다': 1437, '담다': 1438, '담당': 1439, '담당자': 1440, '담배': 1441, '담백하다': 1442, '담보': 1443, '답': 1444, '답니': 1445, '답답하다': 1446, '답변': 1447, '답장': 1448, '답지': 1449, '당': 1450, '당국': 1451, '당근': 1452, '당분간': 1453, '당사': 1454, '당사자': 1455, '당시': 1456, '당신': 1457, '당연하다': 1458, '당일': 1459, '당장': 1460, '당하다': 1461, '당황': 1462, '대': 1463, '대가': 1464, '대고': 1465, '대구': 1466, '대규모': 1467, '대금': 1468, '대기': 1469, '대기업': 1470, '대나무': 1471, '대다': 1472, '대다수': 1473, '대단하다': 1474, '대답': 1475, '대략': 1476, '대량': 1477, '대로': 1478, '대륙': 1479, '대리인': 1480, '대리점': 1481, '대만': 1482, '대박': 1483, '대본': 1484, '대부분': 1485, '대비': 1486, '대상': 1487, '대상자': 1488, '대신': 1489, '대안': 1490, '대야': 1491, '대여': 1492, '대역': 1493, '대역폭': 1494, '대요': 1495, '대유행': 1496, '대응': 1497, '대의': 1498, '대입': 1499, '대적': 1500, '대접': 1501, '대중': 1502, '대지': 1503, '대책': 1504, '대처': 1505, '대체': 1506, '대출': 1507, '대출받다': 1508, '대충': 1509, '대치': 1510, '대칭': 1511, '대통령': 1512, '대폭': 1513, '대표': 1514, '대피소': 1515, '대학': 1516, '대학교': 1517, '대한': 1518, '대한민국': 1519, '대해': 1520, '대행': 1521, '대형': 1522, '대화': 1523, '댓글': 1524, '더': 1525, '더듬다': 1526, '더디다': 1527, '더라도': 1528, '더블': 1529, '더욱': 1530, '더위': 1531, '더하다': 1532, '덕분': 1533, '덜': 1534, '덜다': 1535, '덤프': 1536, '덤프트럭': 1537, '덥다': 1538, '덧붙이다': 1539, '덩굴': 1540, '데': 1541, '데도': 1542, '데려가다': 1543, '데려오다': 1544, '데리': 1545, '데리다': 1546, '데모': 1547, '데뷔': 1548, '데스크': 1549, '데스크탑': 1550, '데우다': 1551, '데이터': 1552, '데이터베이스': 1553, '데이트': 1554, '데코': 1555, '데크': 1556, '덴마크': 1557, '도': 1558, '도구': 1559, '도넛': 1560, '도달': 1561, '도대체': 1562, '도로': 1563, '도록': 1564, '도르다': 1565, '도매': 1566, '도메인': 1567, '도서관': 1568, '도시': 1569, '도시락': 1570, '도안': 1571, '도어': 1572, '도와주다': 1573, '도용': 1574, '도우': 1575, '도우미': 1576, '도울': 1577, '도움': 1578, '도움말': 1579, '도입': 1580, '도전': 1581, '도착': 1582, '도체': 1583, '도쿄': 1584, '독립': 1585, '독방': 1586, '독일': 1587, '독자': 1588, '독점': 1589, '독촉': 1590, '독특하다': 1591, '돈': 1592, '돈벌이': 1593, '돋보이다': 1594, '돌려주다': 1595, '돌리다': 1596, '돌보다': 1597, '돌아가다': 1598, '돌아오다': 1599, '돌잔치': 1600, '돌파': 1601, '돔': 1602, '돕기': 1603, '돕다': 1604, '동': 1605, '동감': 1606, '동거': 1607, '동기': 1608, '동남아시아': 1609, '동네': 1610, '동등': 1611, '동료': 1612, '동물': 1613, '동물성': 1614, '동반': 1615, '동부': 1616, '동생': 1617, '동시': 1618, '동안': 1619, '동양': 1620, '동영상': 1621, '동의': 1622, '동인': 1623, '동일': 1624, '동일시': 1625, '동일하다': 1626, '동전': 1627, '동참': 1628, '동행': 1629, '동향': 1630, '돼다': 1631, '돼지': 1632, '돼지고기': 1633, '되게': 1634, '되다': 1635, '되돌리다': 1636, '되어다': 1637, '되찾다': 1638, '두': 1639, '두기': 1640, '두껍다': 1641, '두다': 1642, '두드리다': 1643, '두렵다': 1644, '두시': 1645, '두운': 1646, '둘': 1647, '둘러보다': 1648, '둘러싸다': 1649, '둘째': 1650, '뒤': 1651, '뒷': 1652, '뒷마당': 1653, '뒷받침': 1654, '듀얼': 1655, '드': 1656, '드나': 1657, '드디어': 1658, '드라마': 1659, '드라이브': 1660, '드러나다': 1661, '드럼': 1662, '드레스': 1663, '드레싱': 1664, '드로잉': 1665, '드리다': 1666, '드릴': 1667, '듣기': 1668, '듣다': 1669, '들': 1670, '들다': 1671, '들뜨다': 1672, '들려주다': 1673, '들르다': 1674, '들리다': 1675, '들어가다': 1676, '들어서다': 1677, '들어오다': 1678, '들어주다': 1679, '들이다': 1680, '듭': 1681, '듭니': 1682, '등': 1683, '등급': 1684, '등등': 1685, '등록': 1686, '등록증': 1687, '등본': 1688, '등장': 1689, '디네': 1690, '디럭스': 1691, '디바이스': 1692, '디스크': 1693, '디스플레이': 1694, '디시': 1695, '디자이너': 1696, '디자인': 1697, '디저스터': 1698, '디저트': 1699, '디젤': 1700, '디지털': 1701, '디지털로': 1702, '딜러': 1703, '딥': 1704, '딩기': 1705, '따내다': 1706, '따뜻하다': 1707, '따라가다': 1708, '따라서': 1709, '따라오다': 1710, '따로': 1711, '따르다': 1712, '딱': 1713, '딱이다': 1714, '딸리다': 1715, '땀': 1716, '때': 1717, '때때로': 1718, '때로는': 1719, '때문': 1720, '떠나다': 1721, '떠오르다': 1722, '떡': 1723, '떡볶이': 1724, '떨다': 1725, '떨어뜨리다': 1726, '떨어지다': 1727, '또': 1728, '또는': 1729, '또래': 1730, '또한': 1731, '똑같다': 1732, '똑똑하다': 1733, '똑바로': 1734, '뚜렷하다': 1735, '뛰어나다': 1736, '뛰어들다': 1737, '뜨개질': 1738, '뜨다': 1739, '뜰': 1740, '뜻': 1741, '뜻입': 1742, '띄다': 1743, '라디오': 1744, '라면': 1745, '라발': 1746, '라서': 1747, '라우터': 1748, '라운드': 1749, '라운지': 1750, '라이': 1751, '라이브': 1752, '라이브러리': 1753, '라이선스': 1754, '라이센스': 1755, '라이트': 1756, '라이트닝': 1757, '라이프스타일': 1758, '라인': 1759, '라인업': 1760, '란': 1761, '랍니': 1762, '래야': 1763, '랙티브': 1764, '랜드': 1765, '랩': 1766, '랩톱': 1767, '량': 1768, '러': 1769, '러너': 1770, '러닝': 1771, '러시': 1772, '럭셔리': 1773, '런가': 1774, '런던': 1775, '런칭': 1776, '레드': 1777, '레벨': 1778, '레스토랑': 1779, '레시피': 1780, '레어': 1781, '레이': 1782, '레이블': 1783, '레이아웃': 1784, '레인': 1785, '레지스트리': 1786, '레코드': 1787, '레크리에이션': 1788, '레터': 1789, '렌더링': 1790, '렌즈': 1791, '렌탈': 1792, '렌터카': 1793, '렌틸': 1794, '려고': 1795, '려면': 1796, '령': 1797, '로': 1798, '로고': 1799, '로그': 1800, '로그아웃': 1801, '로그온': 1802, '로그인': 1803, '로더': 1804, '로드': 1805, '로드맵': 1806, '로만': 1807, '로봇': 1808, '로부터': 1809, '로비': 1810, '로서': 1811, '로열티': 1812, '로터리': 1813, '로트': 1814, '록': 1815, '론': 1816, '론칭': 1817, '롤': 1818, '롤러': 1819, '롤플레잉': 1820, '롭': 1821, '료': 1822, '루프': 1823, '룸': 1824, '룸메이트': 1825, '룸서비스': 1826, '룸셰어': 1827, '륜': 1828, '률': 1829, '를': 1830, '리': 1831, '리가': 1832, '리기': 1833, '리뉴얼': 1834, '리더': 1835, '리드': 1836, '리디렉션': 1837, '리버풀': 1838, '리뷰': 1839, '리셉션': 1840, '리소스': 1841, '리스크': 1842, '리스트': 1843, '리조트': 1844, '리지': 1845, '리캐': 1846, '리커버리': 1847, '리테일': 1848, '리퍼': 1849, '리프트': 1850, '리허설': 1851, '린다': 1852, '릴': 1853, '링': 1854, '링스': 1855, '링크': 1856, '마': 1857, '마감': 1858, '마개': 1859, '마늘': 1860, '마닐라': 1861, '마다': 1862, '마당': 1863, '마드리드': 1864, '마땅치': 1865, '마력': 1866, '마련': 1867, '마리': 1868, '마무리': 1869, '마법': 1870, '마사지': 1871, '마스코트': 1872, '마스크': 1873, '마스터': 1874, '마시기': 1875, '마시다': 1876, '마우스': 1877, '마을': 1878, '마음': 1879, '마이너스': 1880, '마이크': 1881, '마인더': 1882, '마인드': 1883, '마중': 1884, '마지막': 1885, '마차': 1886, '마찬가지': 1887, '마치다': 1888, '마침': 1889, '마침내': 1890, '마케터': 1891, '마케터입니': 1892, '마케팅': 1893, '마포구': 1894, '막': 1895, '막걸리': 1896, '막다': 1897, '막대': 1898, '막히다': 1899, '만': 1900, '만기': 1901, '만기일': 1902, '만나다': 1903, '만난': 1904, '만날': 1905, '만도': 1906, '만두': 1907, '만드나': 1908, '만들기': 1909, '만들다': 1910, '만들어지다': 1911, '만듭니': 1912, '만료': 1913, '만약': 1914, '만이': 1915, '만일': 1916, '만족': 1917, '만족스럽다': 1918, '만족하다': 1919, '만찬': 1920, '만큼': 1921, '만화': 1922, '만회': 1923, '많다': 1924, '많아지다': 1925, '많이': 1926, '말': 1927, '말다': 1928, '말레이시아': 1929, '말씀': 1930, '말씀드리다': 1931, '맙소사': 1932, '맛': 1933, '맛보다': 1934, '맛있다': 1935, '맛집': 1936, '맜있는': 1937, '망치다': 1938, '맞다': 1939, '맞서다': 1940, '맞추다': 1941, '맞춤': 1942, '맡기다': 1943, '맡다': 1944, '매': 1945, '매각': 1946, '매끄럽다': 1947, '매너': 1948, '매년': 1949, '매니저': 1950, '매다': 1951, '매달': 1952, '매도': 1953, '매력': 1954, '매료': 1955, '매매': 1956, '매물': 1957, '매번': 1958, '매수': 1959, '매우': 1960, '매월': 1961, '매일': 1962, '매입': 1963, '매장': 1964, '매점': 1965, '매주': 1966, '매진': 1967, '매체': 1968, '매출': 1969, '매치': 1970, '매크로': 1971, '매트': 1972, '매트리스': 1973, '매핑': 1974, '맥락': 1975, '맥주': 1976, '맨': 1977, '맬웨어': 1978, '맵': 1979, '맵다': 1980, '맵핑': 1981, '맺다': 1982, '머': 1983, '머드': 1984, '머리': 1985, '머무르다': 1986, '머물다': 1987, '머신': 1988, '먹기': 1989, '먹다': 1990, '먹방': 1991, '먹이': 1992, '먼저': 1993, '먼지': 1994, '멀다': 1995, '멀리': 1996, '멈추다': 1997, '멋지다': 1998, '멎다': 1999, '메가바이트': 2000, '메가비트': 2001, '메뉴': 2002, '메뉴판': 2003, '메모': 2004, '메시': 2005, '메시지': 2006, '메이커': 2007, '메이크업': 2008, '메인': 2009, '메일': 2010, '메커니즘': 2011, '메타': 2012, '멜론': 2013, '멤버': 2014, '멤버십': 2015, '며칠': 2016, '면': 2017, '면역': 2018, '면적': 2019, '면접': 2020, '면제': 2021, '면직물': 2022, '면책': 2023, '면허': 2024, '면허증': 2025, '명': 2026, '명과': 2027, '명당': 2028, '명령': 2029, '명백하다': 2030, '명분': 2031, '명상': 2032, '명세서': 2033, '명시': 2034, '명의': 2035, '명인': 2036, '명칭': 2037, '명품': 2038, '명함': 2039, '명확하다': 2040, '몇': 2041, '몇대': 2042, '몇몇': 2043, '모': 2044, '모국': 2045, '모국어': 2046, '모금': 2047, '모기': 2048, '모기지': 2049, '모기지론': 2050, '모니터': 2051, '모니터링': 2052, '모델': 2053, '모뎀': 2054, '모두': 2055, '모듈': 2056, '모드': 2057, '모든': 2058, '모레': 2059, '모르다': 2060, '모르타르': 2061, '모바일': 2062, '모범': 2063, '모색': 2064, '모서리': 2065, '모습': 2066, '모시': 2067, '모시다': 2068, '모양': 2069, '모욕': 2070, '모으다': 2071, '모의고사': 2072, '모이다': 2073, '모임': 2074, '모자': 2075, '모터': 2076, '모터보트': 2077, '모텔': 2078, '모티브': 2079, '모험': 2080, '모형': 2081, '목걸이': 2082, '목격': 2083, '목록': 2084, '목별': 2085, '목소리': 2086, '목요일': 2087, '목욕': 2088, '목욕탕': 2089, '목적': 2090, '목적지': 2091, '목표': 2092, '몫': 2093, '몬순': 2094, '몰다': 2095, '몰두하다': 2096, '몰이': 2097, '몸': 2098, '못': 2099, '묘목': 2100, '무': 2101, '무겁다': 2102, '무게': 2103, '무너지다': 2104, '무늬': 2105, '무대': 2106, '무드': 2107, '무례하다': 2108, '무료': 2109, '무리': 2110, '무사하다': 2111, '무선': 2112, '무섭다': 2113, '무슨': 2114, '무시': 2115, '무언가': 2116, '무엇': 2117, '무었': 2118, '무역': 2119, '무역수지': 2120, '무용': 2121, '무의미하다': 2122, '무작위': 2123, '무제한': 2124, '무중력': 2125, '무지': 2126, '묵': 2127, '묵고': 2128, '묵다': 2129, '묵시': 2130, '묶음': 2131, '문': 2132, '문득': 2133, '문법': 2134, '문서': 2135, '문신': 2136, '문의': 2137, '문의사항': 2138, '문자': 2139, '문제': 2140, '문제점': 2141, '문하': 2142, '문화': 2143, '묻다': 2144, '물': 2145, '물가상승률': 2146, '물건': 2147, '물고기': 2148, '물다': 2149, '물론': 2150, '물류': 2151, '물리': 2152, '물속': 2153, '물어보다': 2154, '물의': 2155, '물이': 2156, '물질': 2157, '물체': 2158, '물품': 2159, '뭐': 2160, '뭐라다': 2161, '뭔가': 2162, '뭘': 2163, '뮤직': 2164, '뮤추얼': 2165, '므': 2166, '미결': 2167, '미국': 2168, '미국법': 2169, '미끼': 2170, '미납': 2171, '미니': 2172, '미니멀리즘': 2173, '미니바': 2174, '미디어': 2175, '미디엄': 2176, '미래': 2177, '미리': 2178, '미만': 2179, '미세하다': 2180, '미수': 2181, '미슐랭': 2182, '미스': 2183, '미안하다': 2184, '미약': 2185, '미얀마': 2186, '미용': 2187, '미적': 2188, '미지': 2189, '미치나': 2190, '미치다': 2191, '미터': 2192, '미팅': 2193, '미혼': 2194, '믹서': 2195, '민간': 2196, '민물': 2197, '민원': 2198, '민팅': 2199, '믿다': 2200, '밀가루': 2201, '밀고': 2202, '밀다': 2203, '밀레': 2204, '밀리다': 2205, '밀크티숍': 2206, '밀회': 2207, '밉다': 2208, '및': 2209, '밑': 2210, '바': 2211, '바꾸다': 2212, '바뀌다': 2213, '바나나': 2214, '바늘': 2215, '바다': 2216, '바닥': 2217, '바닥나다': 2218, '바닷물': 2219, '바디': 2220, '바라다': 2221, '바라보다': 2222, '바라지': 2223, '바람': 2224, '바람직하다': 2225, '바램': 2226, '바로': 2227, '바르다': 2228, '바베이도스': 2229, '바베큐': 2230, '바비큐': 2231, '바쁘다': 2232, '바위': 2233, '바이': 2234, '바이러스': 2235, '바이오': 2236, '바이트': 2237, '바치다': 2238, '바퀴': 2239, '바탕': 2240, '박': 2241, '박람회': 2242, '박물관': 2243, '박사': 2244, '박스': 2245, '밖': 2246, '반': 2247, '반갑다': 2248, '반기다': 2249, '반납': 2250, '반년': 2251, '반대': 2252, '반대편': 2253, '반도체': 2254, '반드시': 2255, '반려': 2256, '반려견': 2257, '반려동물': 2258, '반면': 2259, '반영': 2260, '반응': 2261, '반찬': 2262, '반품': 2263, '받다': 2264, '받아들이다': 2265, '발견': 2266, '발급': 2267, '발끝': 2268, '발복': 2269, '발생': 2270, '발송': 2271, '발신': 2272, '발자국': 2273, '발전': 2274, '발주': 2275, '발표': 2276, '발행': 2277, '발효': 2278, '발휘': 2279, '밝혀내다': 2280, '밝혀지다': 2281, '밟다': 2282, '밤': 2283, '밤낮': 2284, '밤늦다': 2285, '밤새다': 2286, '밥': 2287, '밥그릇': 2288, '밧줄': 2289, '방': 2290, '방과': 2291, '방금': 2292, '방대하다': 2293, '방문': 2294, '방문객': 2295, '방법': 2296, '방사성': 2297, '방송': 2298, '방송국': 2299, '방수': 2300, '방식': 2301, '방안': 2302, '방어': 2303, '방이': 2304, '방적': 2305, '방적기': 2306, '방지': 2307, '방출': 2308, '방침': 2309, '방해': 2310, '방향': 2311, '방화벽': 2312, '밭': 2313, '배': 2314, '배경': 2315, '배경음악': 2316, '배너': 2317, '배다': 2318, '배달': 2319, '배당금': 2320, '배려': 2321, '배분': 2322, '배색': 2323, '배송': 2324, '배송비': 2325, '배송지': 2326, '배수': 2327, '배우': 2328, '배우다': 2329, '배우자': 2330, '배움': 2331, '배정': 2332, '배출': 2333, '배치': 2334, '배터리': 2335, '배포': 2336, '백': 2337, '백만': 2338, '백신': 2339, '백업': 2340, '백엔드': 2341, '밴드': 2342, '밸브': 2343, '뱅크': 2344, '뱅킹': 2345, '버': 2346, '버그': 2347, '버너': 2348, '버네': 2349, '버는': 2350, '버드': 2351, '버리다': 2352, '버블': 2353, '버스': 2354, '버스정류장': 2355, '버전': 2356, '버터플라이': 2357, '버튼': 2358, '번': 2359, '번가': 2360, '번거롭다': 2361, '번식': 2362, '번역': 2363, '번역가': 2364, '번의': 2365, '번지': 2366, '번창': 2367, '번호': 2368, '벌': 2369, '벌다': 2370, '벌써': 2371, '벌어지다': 2372, '벌이': 2373, '범': 2374, '범위': 2375, '범인': 2376, '범죄': 2377, '범죄자': 2378, '범주': 2379, '법': 2380, '법률': 2381, '법원': 2382, '법인': 2383, '법인세': 2384, '법적': 2385, '법정': 2386, '벗다': 2387, '벗어나다': 2388, '베네수엘라': 2389, '베다': 2390, '베벨': 2391, '베스트셀러': 2392, '베어링': 2393, '베이스': 2394, '베타': 2395, '베테': 2396, '베트남': 2397, '벡터': 2398, '벤딩': 2399, '벤처캐피털': 2400, '벤츄리': 2401, '벤치': 2402, '벨': 2403, '벨트': 2404, '벽': 2405, '벽난로': 2406, '벽지': 2407, '변경': 2408, '변동': 2409, '변동성': 2410, '변명': 2411, '변속기': 2412, '변수': 2413, '변하다': 2414, '변호사': 2415, '변화': 2416, '변환': 2417, '별': 2418, '별관': 2419, '별도': 2420, '별로': 2421, '별장': 2422, '병': 2423, '병동': 2424, '병원': 2425, '병합': 2426, '보': 2427, '보건': 2428, '보고': 2429, '보고서': 2430, '보관': 2431, '보기': 2432, '보내다': 2433, '보내오다': 2434, '보다': 2435, '보도': 2436, '보드': 2437, '보람': 2438, '보류': 2439, '보물': 2440, '보살피다': 2441, '보상': 2442, '보수': 2443, '보시': 2444, '보쌈': 2445, '보안': 2446, '보여주다': 2447, '보유': 2448, '보이': 2449, '보이다': 2450, '보이지': 2451, '보장': 2452, '보조': 2453, '보존': 2454, '보증': 2455, '보증금': 2456, '보증인': 2457, '보지': 2458, '보철물': 2459, '보청기': 2460, '보통': 2461, '보트': 2462, '보행': 2463, '보험': 2464, '보험금': 2465, '보험료': 2466, '보험사': 2467, '보헤미안': 2468, '보호': 2469, '보호복': 2470, '복': 2471, '복구': 2472, '복사기': 2473, '복원': 2474, '복잡하다': 2475, '복장': 2476, '복판': 2477, '복호화': 2478, '볶음': 2479, '볶음밥': 2480, '본': 2481, '본드': 2482, '본론': 2483, '본부': 2484, '본사': 2485, '본인': 2486, '본체': 2487, '볼': 2488, '볼륨': 2489, '볼일': 2490, '봄판': 2491, '봇': 2492, '봉쇄': 2493, '뵈다': 2494, '뵙다': 2495, '부': 2496, '부과': 2497, '부금': 2498, '부끄럽다': 2499, '부다': 2500, '부담': 2501, '부당하다': 2502, '부대': 2503, '부동산': 2504, '부두': 2505, '부드럽다': 2506, '부딪치다': 2507, '부딪히다': 2508, '부로': 2509, '부록': 2510, '부르다': 2511, '부모': 2512, '부모님': 2513, '부문': 2514, '부분': 2515, '부산': 2516, '부상': 2517, '부서': 2518, '부속품': 2519, '부수': 2520, '부양가족': 2521, '부업': 2522, '부엌': 2523, '부여': 2524, '부위': 2525, '부유하다': 2526, '부응': 2527, '부의': 2528, '부인': 2529, '부자': 2530, '부작용': 2531, '부적': 2532, '부정': 2533, '부족': 2534, '부족하다': 2535, '부지': 2536, '부착': 2537, '부채': 2538, '부처': 2539, '부츠': 2540, '부침개': 2541, '부탁': 2542, '부탁드리다': 2543, '부터': 2544, '부팅': 2545, '부품': 2546, '부합': 2547, '부호화': 2548, '북': 2549, '북경어': 2550, '북미': 2551, '북부': 2552, '분': 2553, '분과': 2554, '분광': 2555, '분기': 2556, '분기점': 2557, '분당': 2558, '분류': 2559, '분리': 2560, '분명': 2561, '분명하다': 2562, '분사': 2563, '분산': 2564, '분석': 2565, '분쇄기': 2566, '분식점': 2567, '분실': 2568, '분야': 2569, '분위기': 2570, '분쟁': 2571, '분젠': 2572, '분지': 2573, '분포': 2574, '분할': 2575, '분해': 2576, '불': 2577, '불가능': 2578, '불가능하다': 2579, '불고기': 2580, '불과': 2581, '불과하다': 2582, '불교': 2583, '불구': 2584, '불규칙하다': 2585, '불금': 2586, '불다': 2587, '불당': 2588, '불도저': 2589, '불량': 2590, '불량품': 2591, '불러일으키다': 2592, '불리다': 2593, '불만': 2594, '불문': 2595, '불빛': 2596, '불안정하다': 2597, '불안하다': 2598, '불쾌하다': 2599, '불편': 2600, '불편하다': 2601, '불평': 2602, '불평등하다': 2603, '불필요하다': 2604, '불행하다': 2605, '붉은빛': 2606, '붐': 2607, '붕괴': 2608, '붕어빵': 2609, '붙다': 2610, '붙박다': 2611, '붙이다': 2612, '뷔페': 2613, '뷸': 2614, '브라우저': 2615, '브라우징': 2616, '브라질': 2617, '브랜드': 2618, '브랜딩': 2619, '브레이커': 2620, '브레이크': 2621, '브레인스토밍': 2622, '브로': 2623, '브로드밴드': 2624, '브로셔': 2625, '브로커': 2626, '브루나이': 2627, '브이': 2628, '블랙': 2629, '블레이드': 2630, '블렌드': 2631, '블렌딩': 2632, '블로그': 2633, '블록': 2634, '블루': 2635, '블루칩': 2636, '블룸': 2637, '비': 2638, '비간': 2639, '비건': 2640, '비계': 2641, '비공개': 2642, '비공식': 2643, '비교': 2644, '비누': 2645, '비다': 2646, '비도': 2647, '비디오': 2648, '비록': 2649, '비롯': 2650, '비료': 2651, '비밀': 2652, '비밀번호': 2653, '비빔냉면': 2654, '비빔밥': 2655, '비상': 2656, '비서': 2657, '비스킷': 2658, '비스트': 2659, '비슷하다': 2660, '비실': 2661, '비싸다': 2662, '비어': 2663, '비영리': 2664, '비용': 2665, '비우다': 2666, '비율': 2667, '비자': 2668, '비주': 2669, '비즈니스': 2670, '비축': 2671, '비커': 2672, '비트': 2673, '비트코인': 2674, '비평가': 2675, '비프': 2676, '비행': 2677, '비행기': 2678, '빅데이터': 2679, '빈': 2680, '빈방': 2681, '빈번': 2682, '빈손': 2683, '빈티': 2684, '빌드되': 2685, '빌딩': 2686, '빌라': 2687, '빌리다': 2688, '빌보드': 2689, '빌트': 2690, '빔': 2691, '빗': 2692, '빙': 2693, '빚': 2694, '빠듯': 2695, '빠듯합니': 2696, '빠르다': 2697, '빠지다': 2698, '빡빡': 2699, '빨간색': 2700, '빨갛다': 2701, '빨르다': 2702, '빨리': 2703, '빵': 2704, '빵집': 2705, '빼다': 2706, '뽑다': 2707, '뿌리': 2708, '뿐': 2709, '뿐이다': 2710, '삐었': 2711, '사': 2712, '사건': 2713, '사격': 2714, '사계절': 2715, '사고': 2716, '사과': 2717, '사기': 2718, '사기꾼': 2719, '사다': 2720, '사람': 2721, '사람과': 2722, '사랑': 2723, '사려': 2724, '사례': 2725, '사르다': 2726, '사면': 2727, '사명': 2728, '사모펀드': 2729, '사무': 2730, '사무기기': 2731, '사무소': 2732, '사무실': 2733, '사물': 2734, '사물인터넷': 2735, '사본': 2736, '사생활': 2737, '사서': 2738, '사소하다': 2739, '사시미': 2740, '사실': 2741, '사안': 2742, '사양': 2743, '사업': 2744, '사업가': 2745, '사업자': 2746, '사오다': 2747, '사옥': 2748, '사용': 2749, '사용성': 2750, '사용자': 2751, '사우나': 2752, '사운드': 2753, '사운드트랙': 2754, '사원': 2755, '사유': 2756, '사은': 2757, '사의': 2758, '사이': 2759, '사이드': 2760, '사이버': 2761, '사이일': 2762, '사이즈': 2763, '사이트': 2764, '사인': 2765, '사인회': 2766, '사장': 2767, '사전': 2768, '사주다': 2769, '사지': 2770, '사진': 2771, '사진사': 2772, '사진작가': 2773, '사찰': 2774, '사촌': 2775, '사출': 2776, '사탕': 2777, '사태': 2778, '사하다': 2779, '사항': 2780, '사회': 2781, '삭제': 2782, '산': 2783, '산나물': 2784, '산업': 2785, '산이': 2786, '산출': 2787, '살': 2788, '살균': 2789, '살기': 2790, '살다': 2791, '살이': 2792, '살펴보다': 2793, '삶': 2794, '삶다': 2795, '삼': 2796, '삼겹살': 2797, '삼고': 2798, '삽': 2799, '삽화가': 2800, '상거래': 2801, '상관': 2802, '상관없다': 2803, '상급': 2804, '상기': 2805, '상단': 2806, '상담': 2807, '상당': 2808, '상당하다': 2809, '상대': 2810, '상대로': 2811, '상대방': 2812, '상무': 2813, '상사': 2814, '상상': 2815, '상상력': 2816, '상세': 2817, '상속': 2818, '상승': 2819, '상업': 2820, '상위': 2821, '상응': 2822, '상의': 2823, '상이': 2824, '상인': 2825, '상자': 2826, '상장': 2827, '상점': 2828, '상주': 2829, '상징': 2830, '상추': 2831, '상치': 2832, '상태': 2833, '상표': 2834, '상품': 2835, '상하': 2836, '상하이': 2837, '상호': 2838, '상환': 2839, '상황': 2840, '새': 2841, '새롭다': 2842, '새벽': 2843, '새우': 2844, '새틴': 2845, '새해': 2846, '색': 2847, '색상': 2848, '색인': 2849, '색조': 2850, '샌드위치': 2851, '샌프란시스코': 2852, '샐러드': 2853, '샘플': 2854, '샘플러': 2855, '샘플링': 2856, '생': 2857, '생각': 2858, '생각나다': 2859, '생강': 2860, '생기다': 2861, '생기지': 2862, '생동감': 2863, '생명': 2864, '생명보험': 2865, '생물': 2866, '생방송': 2867, '생산': 2868, '생산량': 2869, '생생하다': 2870, '생선': 2871, '생선전': 2872, '생소하다': 2873, '생신': 2874, '생일': 2875, '생체': 2876, '생활': 2877, '생활용품': 2878, '샤워': 2879, '샤워실': 2880, '샤프트': 2881, '샴페인': 2882, '샴푸': 2883, '샵': 2884, '서': 2885, '서기': 2886, '서나': 2887, '서다': 2888, '서도': 2889, '서두르다': 2890, '서든': 2891, '서라운드': 2892, '서랍': 2893, '서로': 2894, '서류': 2895, '서면': 2896, '서명': 2897, '서버': 2898, '서버룸': 2899, '서브': 2900, '서비스': 2901, '서빙': 2902, '서울': 2903, '서재': 2904, '서점': 2905, '서지': 2906, '서쪽': 2907, '석가모니': 2908, '섞다': 2909, '선': 2910, '선구자': 2911, '선명하다': 2912, '선물': 2913, '선물거래': 2914, '선박': 2915, '선보이다': 2916, '선불': 2917, '선생님': 2918, '선적': 2919, '선정': 2920, '선착순': 2921, '선체': 2922, '선택': 2923, '선호': 2924, '설': 2925, '설계': 2926, '설득': 2927, '설렁탕': 2928, '설레다': 2929, '설립': 2930, '설명': 2931, '설문': 2932, '설문조사': 2933, '설문지': 2934, '설비': 2935, '설정': 2936, '설치': 2937, '설치다': 2938, '설탕': 2939, '섬광': 2940, '섬유': 2941, '섬유질': 2942, '성': 2943, '성가시다': 2944, '성격': 2945, '성공': 2946, '성공하다': 2947, '성과': 2948, '성능': 2949, '성도': 2950, '성분': 2951, '성사': 2952, '성실하다': 2953, '성은': 2954, '성인': 2955, '성장': 2956, '성장하다': 2957, '성전': 2958, '성취': 2959, '성하다': 2960, '성함': 2961, '성형': 2962, '세': 2963, '세계': 2964, '세관': 2965, '세균': 2966, '세금': 2967, '세기': 2968, '세다': 2969, '세대': 2970, '세련': 2971, '세로': 2972, '세면대': 2973, '세미나': 2974, '세법': 2975, '세부': 2976, '세상': 2977, '세션': 2978, '세안': 2979, '세액': 2980, '세요': 2981, '세우다': 2982, '세율': 2983, '세척': 2984, '세척제': 2985, '세탁': 2986, '세탁기': 2987, '세탁실': 2988, '세트': 2989, '세팅': 2990, '세포': 2991, '센서': 2992, '센터': 2993, '센트': 2994, '셀러': 2995, '셀러리': 2996, '셋': 2997, '셋째': 2998, '셔블': 2999, '션': 3000, '셨었': 3001, '셰어': 3002, '소': 3003, '소갈비': 3004, '소개': 3005, '소개팅': 3006, '소고기': 3007, '소금': 3008, '소녀': 3009, '소득': 3010, '소리': 3011, '소리치다': 3012, '소매': 3013, '소매업자': 3014, '소모': 3015, '소문': 3016, '소비': 3017, '소비자': 3018, '소설': 3019, '소셜': 3020, '소셜미디어': 3021, '소속': 3022, '소송': 3023, '소스': 3024, '소시지': 3025, '소식': 3026, '소액': 3027, '소요': 3028, '소유': 3029, '소유권': 3030, '소유자': 3031, '소의': 3032, '소일': 3033, '소재': 3034, '소주': 3035, '소중하다': 3036, '소지': 3037, '소질': 3038, '소켓': 3039, '소통': 3040, '소파': 3041, '소포': 3042, '소풍': 3043, '소프': 3044, '소프트': 3045, '소프트웨어': 3046, '소형': 3047, '소형견': 3048, '속': 3049, '속달': 3050, '속도': 3051, '속물': 3052, '손': 3053, '손님': 3054, '손상': 3055, '손쉽다': 3056, '손실': 3057, '손익': 3058, '손익계산서': 3059, '손주': 3060, '손해': 3061, '손해배상': 3062, '솔루션': 3063, '솔직하다': 3064, '송금': 3065, '송료': 3066, '송신': 3067, '송장': 3068, '쇄신': 3069, '쇠고기': 3070, '쇼': 3071, '쇼룸': 3072, '쇼핑': 3073, '수': 3074, '수가': 3075, '수강': 3076, '수건': 3077, '수고': 3078, '수년': 3079, '수다': 3080, '수단': 3081, '수도': 3082, '수도꼭지': 3083, '수도원': 3084, '수동': 3085, '수락': 3086, '수량': 3087, '수련': 3088, '수령': 3089, '수로': 3090, '수료': 3091, '수료증': 3092, '수리': 3093, '수많다': 3094, '수면': 3095, '수박': 3096, '수반': 3097, '수백만': 3098, '수비드': 3099, '수석': 3100, '수선': 3101, '수속': 3102, '수수료': 3103, '수술': 3104, '수시로': 3105, '수신기': 3106, '수십': 3107, '수압': 3108, '수업': 3109, '수에즈': 3110, '수영': 3111, '수영장': 3112, '수요': 3113, '수요일': 3114, '수용': 3115, '수익': 3116, '수익금': 3117, '수익률': 3118, '수입': 3119, '수입품': 3120, '수정': 3121, '수정과': 3122, '수제': 3123, '수준': 3124, '수집': 3125, '수천': 3126, '수출': 3127, '수출입': 3128, '수평': 3129, '수표': 3130, '수표로': 3131, '수프': 3132, '수학': 3133, '수행': 3134, '수혜자': 3135, '수확': 3136, '숙련': 3137, '숙박': 3138, '숙박시설': 3139, '숙박업소': 3140, '숙성': 3141, '숙소': 3142, '숙이다': 3143, '숙주': 3144, '숙지': 3145, '순': 3146, '순간': 3147, '순위': 3148, '순이익': 3149, '순전하다': 3150, '숟가락': 3151, '술': 3152, '술집': 3153, '숨': 3154, '숨기다': 3155, '숫자': 3156, '숯불': 3157, '쉬다': 3158, '쉽다': 3159, '슈': 3160, '슈트': 3161, '슈팅': 3162, '슈퍼마켓': 3163, '스': 3164, '스낵': 3165, '스노클링': 3166, '스니커즈': 3167, '스님': 3168, '스럽다': 3169, '스레드': 3170, '스릴러': 3171, '스마트': 3172, '스마트폰': 3173, '스마트홈': 3174, '스스로': 3175, '스위트': 3176, '스위트룸': 3177, '스카이라인': 3178, '스캐너': 3179, '스캔': 3180, '스케': 3181, '스케줄': 3182, '스케줄러': 3183, '스케치': 3184, '스쿠터': 3185, '스크럽': 3186, '스크류': 3187, '스크리닝': 3188, '스크린': 3189, '스크린샷': 3190, '스키': 3191, '스킨': 3192, '스킬': 3193, '스타': 3194, '스타일': 3195, '스타트업': 3196, '스테이': 3197, '스테이션': 3198, '스테이크': 3199, '스테인레스': 3200, '스토리': 3201, '스토브': 3202, '스토어': 3203, '스토퍼': 3204, '스톤': 3205, '스튜디오': 3206, '스트레스': 3207, '스트레이트': 3208, '스트로': 3209, '스트리밍': 3210, '스트림': 3211, '스티': 3212, '스티커': 3213, '스틸': 3214, '스파': 3215, '스파게티': 3216, '스파이럴': 3217, '스파이웨어': 3218, '스파크': 3219, '스팸': 3220, '스페셜': 3221, '스페인': 3222, '스펙트럼': 3223, '스포츠': 3224, '스프': 3225, '스프레드': 3226, '스프레이': 3227, '스피커': 3228, '스피킹': 3229, '슬라이드': 3230, '슬롯': 3231, '슬리퍼': 3232, '슬프다': 3233, '습': 3234, '습니': 3235, '승려': 3236, '승인': 3237, '시': 3238, '시각': 3239, '시각장애인': 3240, '시간': 3241, '시간대': 3242, '시계': 3243, '시골': 3244, '시급하다': 3245, '시기': 3246, '시끄럽다': 3247, '시나리오': 3248, '시내': 3249, '시대': 3250, '시도': 3251, '시리즈': 3252, '시마': 3253, '시민권': 3254, '시설': 3255, '시세': 3256, '시스템': 3257, '시연': 3258, '시오': 3259, '시일': 3260, '시작': 3261, '시장': 3262, '시장조사': 3263, '시저': 3264, '시절': 3265, '시점': 3266, '시즌': 3267, '시차': 3268, '시청': 3269, '시청각': 3270, '시청자': 3271, '시카고': 3272, '시큐리티': 3273, '시키다': 3274, '시티': 3275, '시행': 3276, '시험': 3277, '시험관': 3278, '식': 3279, '식기': 3280, '식단': 3281, '식당': 3282, '식물': 3283, '식사': 3284, '식이': 3285, '식초': 3286, '식탁': 3287, '식품': 3288, '신': 3289, '신간': 3290, '신경': 3291, '신고': 3292, '신곡': 3293, '신규': 3294, '신나요': 3295, '신다': 3296, '신디케이트': 3297, '신랑': 3298, '신뢰': 3299, '신문': 3300, '신발': 3301, '신부': 3302, '신분': 3303, '신분증': 3304, '신비롭다': 3305, '신사': 3306, '신생': 3307, '신선하다': 3308, '신세대': 3309, '신속하다': 3310, '신용': 3311, '신용등급': 3312, '신용장': 3313, '신용카드': 3314, '신원': 3315, '신입': 3316, '신입사원': 3317, '신입생': 3318, '신제품': 3319, '신종교': 3320, '신중': 3321, '신지': 3322, '신청': 3323, '신청서': 3324, '신체': 3325, '신탁': 3326, '신호': 3327, '신흥': 3328, '싣다': 3329, '실': 3330, '실내': 3331, '실력': 3332, '실례': 3333, '실로': 3334, '실린더': 3335, '실망': 3336, '실망하다': 3337, '실버': 3338, '실사': 3339, '실생활': 3340, '실수': 3341, '실시': 3342, '실시간': 3343, '실업자': 3344, '실외': 3345, '실용': 3346, '실적': 3347, '실제': 3348, '실질': 3349, '실천': 3350, '실크': 3351, '실패': 3352, '실패하다': 3353, '실행': 3354, '실험': 3355, '실험실': 3356, '실현': 3357, '싫다': 3358, '싫어하다': 3359, '심': 3360, '심각하다': 3361, '심기': 3362, '심란하다': 3363, '심박': 3364, '심장': 3365, '심지어': 3366, '심하다': 3367, '십': 3368, '십대': 3369, '싱가포르': 3370, '싱가폴': 3371, '싱글': 3372, '싱글룸': 3373, '싶다': 3374, '싸다': 3375, '싸우다': 3376, '쌀': 3377, '쌈': 3378, '쌈밥': 3379, '쌈장': 3380, '쌍': 3381, '쌓다': 3382, '쌓이다': 3383, '써다': 3384, '쓰다': 3385, '쓰레기통': 3386, '쓰이다': 3387, '쓸다': 3388, '쓸모': 3389, '씨': 3390, '씹다': 3391, '아': 3392, '아기': 3393, '아깝다': 3394, '아끼다': 3395, '아나운서': 3396, '아내': 3397, '아뇨': 3398, '아늑하다': 3399, '아니다': 3400, '아동': 3401, '아들': 3402, '아래': 3403, '아로마': 3404, '아르헨티나': 3405, '아름답다': 3406, '아마': 3407, '아마도': 3408, '아무': 3409, '아무나': 3410, '아무렇다': 3411, '아무리': 3412, '아무튼': 3413, '아바타': 3414, '아빠': 3415, '아쉽다': 3416, '아스파라거스': 3417, '아스팔트': 3418, '아시아': 3419, '아웃소싱': 3420, '아이': 3421, '아이덴티티': 3422, '아이돌': 3423, '아이디': 3424, '아이디어': 3425, '아이스크림': 3426, '아이콘': 3427, '아이템': 3428, '아주': 3429, '아직': 3430, '아직도': 3431, '아침': 3432, '아침식사': 3433, '아키텍처': 3434, '아트': 3435, '아트워크': 3436, '아트웍': 3437, '아티스트': 3438, '아파트': 3439, '아프다': 3440, '아프리카': 3441, '악': 3442, '악기': 3443, '악성코드': 3444, '악세사리': 3445, '악수': 3446, '악행': 3447, '악화': 3448, '안': 3449, '안건': 3450, '안나': 3451, '안내': 3452, '안내받다': 3453, '안녕': 3454, '안녕하다': 3455, '안다': 3456, '안되다': 3457, '안드로이드': 3458, '안방': 3459, '안성맞춤': 3460, '안심': 3461, '안이': 3462, '안전': 3463, '안전성': 3464, '안전하다': 3465, '안정': 3466, '안좋다': 3467, '안타깝다': 3468, '안테나': 3469, '안티바이러스': 3470, '안팎': 3471, '앉다': 3472, '않다': 3473, '알': 3474, '알고리즘': 3475, '알다': 3476, '알람': 3477, '알레르기': 3478, '알려지다': 3479, '알루미늄': 3480, '알리다': 3481, '알림': 3482, '알아내다': 3483, '알아듣다': 3484, '알아보다': 3485, '알아차리다': 3486, '알아채다': 3487, '알약': 3488, '알칼리성': 3489, '암': 3490, '암석': 3491, '암스테르담': 3492, '암호': 3493, '압니': 3494, '압도': 3495, '압력': 3496, '압축': 3497, '압축기': 3498, '압출기': 3499, '았습니': 3500, '앙': 3501, '앞': 3502, '앞두다': 3503, '앞서': 3504, '앞치마': 3505, '애': 3506, '애니메이션': 3507, '애니메이터': 3508, '애비뉴': 3509, '애완동물': 3510, '애프터': 3511, '애플리케이션': 3512, '애피타이저': 3513, '액': 3514, '액세서리': 3515, '액세스': 3516, '액션': 3517, '액체': 3518, '앤': 3519, '앨범': 3520, '앰버': 3521, '앰뷸런스': 3522, '앰프': 3523, '앱': 3524, '앵글': 3525, '앵커': 3526, '야간': 3527, '야구장': 3528, '야금': 3529, '야단법석': 3530, '야생': 3531, '야식': 3532, '야영지': 3533, '야외': 3534, '야유회': 3535, '야채': 3536, '야합': 3537, '약': 3538, '약간': 3539, '약관': 3540, '약물': 3541, '약속': 3542, '약자': 3543, '약점': 3544, '약정': 3545, '약하다': 3546, '얇다': 3547, '양': 3548, '양념': 3549, '양념장': 3550, '양도': 3551, '양립': 3552, '양말': 3553, '양사': 3554, '양식': 3555, '양자': 3556, '양초': 3557, '양해': 3558, '양호': 3559, '얘기': 3560, '어': 3561, '어긋나다': 3562, '어기': 3563, '어느': 3564, '어댑터': 3565, '어디': 3566, '어디서': 3567, '어떠하다': 3568, '어떤': 3569, '어떻': 3570, '어떻다': 3571, '어려움': 3572, '어렵다': 3573, '어르신': 3574, '어른': 3575, '어리다': 3576, '어린이': 3577, '어머니': 3578, '어메니티': 3579, '어묵': 3580, '어보': 3581, '어서': 3582, '어우러지다': 3583, '어울리다': 3584, '어제': 3585, '어젯밤': 3586, '어조': 3587, '어쨌든': 3588, '어쩌': 3589, '어쩐': 3590, '어쩔': 3591, '어플': 3592, '어필': 3593, '어휘': 3594, '언': 3595, '언급': 3596, '언니': 3597, '언덕': 3598, '언론': 3599, '언박싱': 3600, '언어': 3601, '언제': 3602, '언제나': 3603, '언젠가': 3604, '얻다': 3605, '얼': 3606, '얼굴': 3607, '얼리다': 3608, '얼마': 3609, '얼마나': 3610, '엄격하다': 3611, '엄선': 3612, '엄수': 3613, '엄청': 3614, '엄청나다': 3615, '업계': 3616, '업그레이드': 3617, '업데이트': 3618, '업로드': 3619, '업무': 3620, '업자': 3621, '업주': 3622, '업체': 3623, '없다': 3624, '없애다': 3625, '없이': 3626, '엇갈리다': 3627, '엉': 3628, '에너지': 3629, '에러': 3630, '에멀션': 3631, '에멀젼': 3632, '에메랄드': 3633, '에밀리': 3634, '에센셜': 3635, '에어': 3636, '에어컨': 3637, '에이전시': 3638, '에이전트': 3639, '에코': 3640, '에티켓': 3641, '에피소드': 3642, '엑세스': 3643, '엑스레이': 3644, '엑스포': 3645, '엔': 3646, '엔드': 3647, '엔젤': 3648, '엔지니어': 3649, '엔지니어링': 3650, '엔진': 3651, '엔터테인먼트': 3652, '엠보싱': 3653, '여': 3654, '여겨지다': 3655, '여권': 3656, '여기': 3657, '여기다': 3658, '여느': 3659, '여드름': 3660, '여러': 3661, '여러분': 3662, '여름': 3663, '여보': 3664, '여보세요': 3665, '여부': 3666, '여분': 3667, '여사': 3668, '여성': 3669, '여야': 3670, '여유': 3671, '여자': 3672, '여전하다': 3673, '여지': 3674, '여쭈다': 3675, '여행': 3676, '여행사': 3677, '여행자': 3678, '역': 3679, '역사': 3680, '역서': 3681, '역시': 3682, '역외': 3683, '역할': 3684, '연': 3685, '연간': 3686, '연결': 3687, '연결하다': 3688, '연관': 3689, '연구': 3690, '연구개발': 3691, '연구소': 3692, '연기': 3693, '연다': 3694, '연달': 3695, '연동': 3696, '연락': 3697, '연락처': 3698, '연령': 3699, '연례': 3700, '연료': 3701, '연마': 3702, '연말': 3703, '연민': 3704, '연방': 3705, '연봉': 3706, '연비': 3707, '연사': 3708, '연수': 3709, '연장': 3710, '연중': 3711, '연체': 3712, '연회': 3713, '연휴': 3714, '열': 3715, '열광': 3716, '열기': 3717, '열다': 3718, '열람': 3719, '열리다': 3720, '열쇠': 3721, '열심히': 3722, '열악하다': 3723, '열정': 3724, '열차': 3725, '염두': 3726, '염려': 3727, '염색': 3728, '엽': 3729, '영': 3730, '영감': 3731, '영광': 3732, '영구': 3733, '영국': 3734, '영리하다': 3735, '영상': 3736, '영상통화': 3737, '영수증': 3738, '영양': 3739, '영어': 3740, '영업': 3741, '영업일': 3742, '영역': 3743, '영원하다': 3744, '영진': 3745, '영향': 3746, '영향력': 3747, '영화': 3748, '옆': 3749, '예': 3750, '예견': 3751, '예고편': 3752, '예금': 3753, '예방': 3754, '예배': 3755, '예쁘다': 3756, '예산': 3757, '예산안': 3758, '예상': 3759, '예술': 3760, '예술가': 3761, '예약': 3762, '예의': 3763, '예입': 3764, '예전': 3765, '예절': 3766, '예정': 3767, '예정일': 3768, '예측': 3769, '옐로나이프': 3770, '오': 3771, '오늘': 3772, '오늘날': 3773, '오늘이': 3774, '오다': 3775, '오디오': 3776, '오락가락': 3777, '오래': 3778, '오래되다': 3779, '오랜': 3780, '오랫동안': 3781, '오렌지': 3782, '오류': 3783, '오르다': 3784, '오른': 3785, '오른쪽': 3786, '오리엔테이션': 3787, '오버': 3788, '오븐': 3789, '오스': 3790, '오시': 3791, '오신': 3792, '오용': 3793, '오인': 3794, '오일': 3795, '오일도': 3796, '오전': 3797, '오지': 3798, '오직': 3799, '오징어': 3800, '오토': 3801, '오프': 3802, '오프라인': 3803, '오픈': 3804, '오피스': 3805, '오하이오주': 3806, '오해': 3807, '오후': 3808, '오히려': 3809, '옥': 3810, '옥상': 3811, '옥집': 3812, '온': 3813, '온도': 3814, '온돌': 3815, '온라인': 3816, '온라인과': 3817, '온스': 3818, '온천': 3819, '온타리오': 3820, '올': 3821, '올라가다': 3822, '올려놓다': 3823, '올려주다': 3824, '올리다': 3825, '올바르다': 3826, '올해': 3827, '옮기다': 3828, '옳다': 3829, '옴': 3830, '옵니다': 3831, '옵션': 3832, '옷': 3833, '옷장': 3834, '와우': 3835, '와이어': 3836, '와이파이': 3837, '와인': 3838, '와트': 3839, '완납': 3840, '완료': 3841, '완벽하다': 3842, '완비': 3843, '완성': 3844, '완전': 3845, '완전하다': 3846, '완화': 3847, '왓츠앱': 3848, '왕복': 3849, '왕새우': 3850, '왜': 3851, '왜냐면': 3852, '왜냐하면': 3853, '외': 3854, '외관': 3855, '외국': 3856, '외국인': 3857, '외다': 3858, '외부': 3859, '외주': 3860, '외출': 3861, '외향': 3862, '외화': 3863, '외환은행': 3864, '왼쪽': 3865, '요': 3866, '요건': 3867, '요격': 3868, '요구': 3869, '요구사항': 3870, '요금': 3871, '요리': 3872, '요리법': 3873, '요리사': 3874, '요법': 3875, '요소': 3876, '요약': 3877, '요원': 3878, '요인': 3879, '요점': 3880, '요즘': 3881, '요청': 3882, '요크셔': 3883, '요트': 3884, '욕구': 3885, '욕실': 3886, '욕조': 3887, '용': 3888, '용건': 3889, '용납': 3890, '용다': 3891, '용도': 3892, '용량': 3893, '용무': 3894, '용법': 3895, '용어': 3896, '용의': 3897, '용이': 3898, '용이하다': 3899, '용인': 3900, '용판': 3901, '용품': 3902, '우': 3903, '우드': 3904, '우려': 3905, '우리': 3906, '우리나라': 3907, '우리은행': 3908, '우린': 3909, '우산': 3910, '우선': 3911, '우수하다': 3912, '우승자': 3913, '우아하다': 3914, '우여곡절': 3915, '우연히': 3916, '우와': 3917, '우위': 3918, '우유': 3919, '우주': 3920, '우크라이나': 3921, '우편': 3922, '우편물': 3923, '운': 3924, '운동': 3925, '운반': 3926, '운송': 3927, '운송업': 3928, '운영': 3929, '운영자': 3930, '운영체제': 3931, '운용': 3932, '운전': 3933, '운전기사': 3934, '운전자': 3935, '운하': 3936, '울리다': 3937, '울산': 3938, '움직이다': 3939, '움직임': 3940, '웃음': 3941, '웅장': 3942, '워': 3943, '워드': 3944, '워치': 3945, '워크샵': 3946, '워크숍': 3947, '워터': 3948, '원': 3949, '원격': 3950, '원고': 3951, '원금': 3952, '원래': 3953, '원리': 3954, '원본': 3955, '원사': 3956, '원스톱': 3957, '원심': 3958, '원심분리기': 3959, '원인': 3960, '원장': 3961, '원점': 3962, '원주공항': 3963, '원칙': 3964, '원통': 3965, '원하다': 3966, '원화': 3967, '원화도': 3968, '원활하다': 3969, '월': 3970, '월간': 3971, '월급': 3972, '월말': 3973, '월세': 3974, '월요일': 3975, '웜': 3976, '웠습': 3977, '웨딩': 3978, '웨비': 3979, '웨어': 3980, '웨이터': 3981, '웨이퍼': 3982, '웹': 3983, '웹디자인': 3984, '웹사이트': 3985, '웹캐스트': 3986, '웹페이지': 3987, '위': 3988, '위로': 3989, '위반': 3990, '위생': 3991, '위성': 3992, '위안': 3993, '위치': 3994, '위탁': 3995, '위태롭': 3996, '위태롭기': 3997, '위함': 3998, '위해': 3999, '위험': 4000, '위험하다': 4001, '위협': 4002, '윗': 4003, '윗사람': 4004, '유가': 4005, '유감': 4006, '유감스럽게': 4007, '유기': 4008, '유기농': 4009, '유닛': 4010, '유동': 4011, '유럽': 4012, '유로': 4013, '유료': 4014, '유르트': 4015, '유리하다': 4016, '유망': 4017, '유머': 4018, '유명': 4019, '유명인사': 4020, '유명하다': 4021, '유사하다': 4022, '유산': 4023, '유선': 4024, '유아': 4025, '유압': 4026, '유연성': 4027, '유연하다': 4028, '유예': 4029, '유용하다': 4030, '유의': 4031, '유익하다': 4032, '유인': 4033, '유인물': 4034, '유일하다': 4035, '유전': 4036, '유제품': 4037, '유지': 4038, '유치하다': 4039, '유통': 4040, '유통업': 4041, '유통업체': 4042, '유틸리티': 4043, '유학': 4044, '유학생': 4045, '유해하다': 4046, '유행': 4047, '유행병': 4048, '유형': 4049, '유효': 4050, '유효하다': 4051, '육류': 4052, '육성': 4053, '육수': 4054, '육지': 4055, '육회': 4056, '윤리': 4057, '율': 4058, '율기': 4059, '융자': 4060, '융통성': 4061, '은': 4062, '은은하다': 4063, '은퇴': 4064, '은행': 4065, '은행원': 4066, '을': 4067, '음': 4068, '음료': 4069, '음료수': 4070, '음반': 4071, '음반사': 4072, '음성': 4073, '음식': 4074, '음식점': 4075, '음악': 4076, '음원': 4077, '음질': 4078, '음향': 4079, '음향효과': 4080, '응': 4081, '응급': 4082, '응답': 4083, '응대': 4084, '응용': 4085, '응원': 4086, '의': 4087, '의견': 4088, '의논': 4089, '의도': 4090, '의뢰': 4091, '의료': 4092, '의류': 4093, '의무': 4094, '의문': 4095, '의미': 4096, '의사': 4097, '의사소통': 4098, '의상': 4099, '의식': 4100, '의심': 4101, '의심스럽다': 4102, '의약품': 4103, '의원': 4104, '의자': 4105, '의존': 4106, '의하다': 4107, '의향': 4108, '의회': 4109, '이': 4110, '이겠다': 4111, '이기': 4112, '이끌다': 4113, '이내': 4114, '이다': 4115, '이대로': 4116, '이동': 4117, '이동식': 4118, '이동해': 4119, '이드': 4120, '이득': 4121, '이따': 4122, '이러하다': 4123, '이런': 4124, '이렇게': 4125, '이렇다': 4126, '이력서': 4127, '이로': 4128, '이루어지다': 4129, '이뤄지다': 4130, '이르다': 4131, '이름': 4132, '이만': 4133, '이메일': 4134, '이면': 4135, '이목': 4136, '이미': 4137, '이미지': 4138, '이민자': 4139, '이번': 4140, '이벤트': 4141, '이보': 4142, '이불': 4143, '이브': 4144, '이사': 4145, '이사회': 4146, '이상': 4147, '이상은': 4148, '이서': 4149, '이세': 4150, '이송': 4151, '이수': 4152, '이슈': 4153, '이식': 4154, '이십': 4155, '이싼': 4156, '이야기': 4157, '이어지다': 4158, '이외': 4159, '이요': 4160, '이용': 4161, '이용자': 4162, '이웃': 4163, '이유': 4164, '이율': 4165, '이음': 4166, '이의': 4167, '이익': 4168, '이자': 4169, '이자율': 4170, '이장': 4171, '이전': 4172, '이점': 4173, '이정표': 4174, '이제': 4175, '이중': 4176, '이중과세': 4177, '이지': 4178, '이집트': 4179, '이체': 4180, '이탈': 4181, '이탈리아': 4182, '이탈리아어': 4183, '이틀': 4184, '이해': 4185, '이해만': 4186, '이해해': 4187, '이행': 4188, '이후': 4189, '익숙하다': 4190, '익숙해지다': 4191, '익스텐더': 4192, '익일': 4193, '익히다': 4194, '인': 4195, '인간': 4196, '인건비': 4197, '인걸': 4198, '인공': 4199, '인구': 4200, '인기': 4201, '인내': 4202, '인내심': 4203, '인덱스': 4204, '인도': 4205, '인도네시아': 4206, '인력': 4207, '인명': 4208, '인보이스': 4209, '인분': 4210, '인사': 4211, '인삼': 4212, '인상': 4213, '인생': 4214, '인센티브': 4215, '인쇄': 4216, '인쇄기': 4217, '인쇄판': 4218, '인수': 4219, '인스턴트': 4220, '인식': 4221, '인용': 4222, '인원': 4223, '인정': 4224, '인정받다': 4225, '인조섬유': 4226, '인증': 4227, '인증서': 4228, '인지': 4229, '인지도': 4230, '인천': 4231, '인치': 4232, '인코딩': 4233, '인큐베이터': 4234, '인터': 4235, '인터넷': 4236, '인터뷰': 4237, '인터페이스': 4238, '인턴': 4239, '인테리어': 4240, '인파': 4241, '인포그래픽': 4242, '인프라': 4243, '인플레이션': 4244, '인플레이션율': 4245, '인하': 4246, '인하다': 4247, '일': 4248, '일과': 4249, '일관': 4250, '일단': 4251, '일러스트': 4252, '일러스트레이션': 4253, '일련': 4254, '일련번호': 4255, '일로': 4256, '일류': 4257, '일반': 4258, '일반인': 4259, '일별': 4260, '일본': 4261, '일본어': 4262, '일부': 4263, '일부러': 4264, '일산': 4265, '일상': 4266, '일상생활': 4267, '일수': 4268, '일시': 4269, '일어나고': 4270, '일어나다': 4271, '일어나지': 4272, '일요일': 4273, '일으키다': 4274, '일이': 4275, '일인': 4276, '일일': 4277, '일자리': 4278, '일정': 4279, '일정하다': 4280, '일종': 4281, '일주일': 4282, '일찍': 4283, '일체': 4284, '일치': 4285, '일해': 4286, '일행': 4287, '일환': 4288, '일회용': 4289, '읽다': 4290, '잃다': 4291, '잃어버리다': 4292, '임': 4293, '임기': 4294, '임대': 4295, '임대료': 4296, '임무': 4297, '임박': 4298, '임베디드': 4299, '임상시험': 4300, '임시': 4301, '임원': 4302, '임원진': 4303, '임의': 4304, '임차': 4305, '임펠러': 4306, '입': 4307, '입금': 4308, '입다': 4309, '입력': 4310, '입맛': 4311, '입사': 4312, '입안': 4313, '입원': 4314, '입자': 4315, '입장': 4316, '입장료': 4317, '입지': 4318, '입찰': 4319, '입출': 4320, '입학': 4321, '있다': 4322, '잊다': 4323, '잊어버리다': 4324, '잎': 4325, '자': 4326, '자게': 4327, '자격': 4328, '자고': 4329, '자국': 4330, '자극': 4331, '자금': 4332, '자기': 4333, '자꾸': 4334, '자녀': 4335, '자다': 4336, '자동': 4337, '자동차': 4338, '자동화': 4339, '자라다': 4340, '자랑': 4341, '자랑스럽다': 4342, '자로': 4343, '자료': 4344, '자르다': 4345, '자리': 4346, '자마자': 4347, '자막': 4348, '자문': 4349, '자본': 4350, '자사': 4351, '자산': 4352, '자서전': 4353, '자선단체': 4354, '자세하다': 4355, '자수': 4356, '자식': 4357, '자신': 4358, '자신감': 4359, '자연': 4360, '자연계': 4361, '자연어': 4362, '자영': 4363, '자원': 4364, '자유': 4365, '자유롭다': 4366, '자재': 4367, '자전거': 4368, '자주': 4369, '자질': 4370, '자체': 4371, '자쿠': 4372, '자쿠지': 4373, '자택': 4374, '자판기': 4375, '자회사': 4376, '작': 4377, '작가': 4378, '작고': 4379, '작곡가': 4380, '작년': 4381, '작다': 4382, '작동': 4383, '작문': 4384, '작성': 4385, '작업': 4386, '작용': 4387, '작품': 4388, '잔': 4389, '잔고': 4390, '잔금': 4391, '잔디': 4392, '잔액': 4393, '잘': 4394, '잘못': 4395, '잘해야': 4396, '잠': 4397, '잠그다': 4398, '잠깐': 4399, '잠수': 4400, '잠시': 4401, '잠옷': 4402, '잠재': 4403, '잠재력': 4404, '잠정': 4405, '잡': 4406, '잡기': 4407, '잡다': 4408, '잡지': 4409, '잡채': 4410, '잡히다': 4411, '장': 4412, '장갑': 4413, '장거리': 4414, '장공': 4415, '장기': 4416, '장님': 4417, '장담': 4418, '장래': 4419, '장르': 4420, '장모님': 4421, '장바구니': 4422, '장벽': 4423, '장부': 4424, '장비': 4425, '장소': 4426, '장식': 4427, '장애': 4428, '장애물': 4429, '장애인': 4430, '장용': 4431, '장의': 4432, '장점': 4433, '장착': 4434, '장치': 4435, '장학금': 4436, '재': 4437, '재개': 4438, '재고': 4439, '재교육': 4440, '재난': 4441, '재능': 4442, '재단': 4443, '재료': 4444, '재무': 4445, '재무부': 4446, '재무제표': 4447, '재미': 4448, '재미있다': 4449, '재밌다': 4450, '재발': 4451, '재봉틀': 4452, '재사용': 4453, '재산': 4454, '재산권': 4455, '재생': 4456, '재우다': 4457, '재정': 4458, '재택근무': 4459, '재해': 4460, '재활': 4461, '쟁기질': 4462, '저': 4463, '저녁': 4464, '저녁식사': 4465, '저렴하다': 4466, '저만': 4467, '저만큼': 4468, '저명하다': 4469, '저번': 4470, '저속': 4471, '저자': 4472, '저작권': 4473, '저작권법': 4474, '저장': 4475, '저절로': 4476, '저지르다': 4477, '저쪽': 4478, '저축': 4479, '저항기': 4480, '저희': 4481, '적': 4482, '적격': 4483, '적극': 4484, '적기': 4485, '적다': 4486, '적당하다': 4487, '적도': 4488, '적립': 4489, '적어도': 4490, '적용': 4491, '적응': 4492, '적자': 4493, '적재': 4494, '적절하다': 4495, '적정': 4496, '적합하다': 4497, '적히다': 4498, '전': 4499, '전개': 4500, '전공': 4501, '전기': 4502, '전기자전거': 4503, '전날': 4504, '전념': 4505, '전달': 4506, '전동': 4507, '전략': 4508, '전력': 4509, '전류': 4510, '전망': 4511, '전면': 4512, '전무': 4513, '전문': 4514, '전문가': 4515, '전문성': 4516, '전문점': 4517, '전문직': 4518, '전반': 4519, '전병': 4520, '전부': 4521, '전분': 4522, '전선': 4523, '전세계': 4524, '전송': 4525, '전술': 4526, '전시': 4527, '전시장': 4528, '전시회': 4529, '전신': 4530, '전액': 4531, '전역': 4532, '전염병': 4533, '전용': 4534, '전원': 4535, '전이': 4536, '전자': 4537, '전자기': 4538, '전자기기': 4539, '전자레인지': 4540, '전자상거래': 4541, '전자제품': 4542, '전자책': 4543, '전적': 4544, '전체': 4545, '전통': 4546, '전통문화': 4547, '전표': 4548, '전하': 4549, '전해': 4550, '전혀': 4551, '전화': 4552, '전화기': 4553, '전화번호': 4554, '전화하다': 4555, '전환': 4556, '전후': 4557, '젇': 4558, '절': 4559, '절감': 4560, '절기': 4561, '절단': 4562, '절대': 4563, '절반': 4564, '절삭기': 4565, '절실': 4566, '절약': 4567, '절차': 4568, '젊다': 4569, '젊은이': 4570, '점': 4571, '점검': 4572, '점도': 4573, '점수': 4574, '점심': 4575, '점유': 4576, '점자': 4577, '점점': 4578, '점진': 4579, '점화': 4580, '접': 4581, '접근': 4582, '접근성': 4583, '접대': 4584, '접속': 4585, '접수': 4586, '접시': 4587, '접종': 4588, '접착': 4589, '접합': 4590, '젓가락': 4591, '정': 4592, '정관': 4593, '정규': 4594, '정규직': 4595, '정기': 4596, '정기예금': 4597, '정당하다': 4598, '정도': 4599, '정독': 4600, '정류장': 4601, '정리': 4602, '정말': 4603, '정말로': 4604, '정밀도': 4605, '정박': 4606, '정보': 4607, '정보기술': 4608, '정본': 4609, '정부': 4610, '정비': 4611, '정비사': 4612, '정산': 4613, '정상': 4614, '정상인': 4615, '정상화': 4616, '정성': 4617, '정수': 4618, '정수기': 4619, '정식': 4620, '정신': 4621, '정원': 4622, '정육점': 4623, '정의': 4624, '정이': 4625, '정적': 4626, '정전': 4627, '정직하다': 4628, '정착': 4629, '정책': 4630, '정체': 4631, '정치': 4632, '정치인': 4633, '정통': 4634, '정통하다': 4635, '정해': 4636, '정해지다': 4637, '정해진': 4638, '정화': 4639, '정확도': 4640, '정확하다': 4641, '제': 4642, '제거': 4643, '제곱': 4644, '제곱미터': 4645, '제공': 4646, '제기': 4647, '제대로': 4648, '제도': 4649, '제때': 4650, '제로': 4651, '제목': 4652, '제발': 4653, '제보': 4654, '제빵': 4655, '제빵사': 4656, '제삼자': 4657, '제시': 4658, '제안': 4659, '제어': 4660, '제외': 4661, '제일': 4662, '제입': 4663, '제작': 4664, '제작자': 4665, '제작회사': 4666, '제재': 4667, '제적': 4668, '제조': 4669, '제조업': 4670, '제조업체': 4671, '제주': 4672, '제출': 4673, '제품': 4674, '제품군': 4675, '제한': 4676, '제휴': 4677, '젠': 4678, '젯': 4679, '조': 4680, '조각': 4681, '조각가': 4682, '조각상': 4683, '조건': 4684, '조국': 4685, '조금': 4686, '조달': 4687, '조도': 4688, '조로': 4689, '조리': 4690, '조립': 4691, '조만간': 4692, '조명': 4693, '조명탄': 4694, '조물': 4695, '조미료': 4696, '조사': 4697, '조사해': 4698, '조선': 4699, '조수': 4700, '조식': 4701, '조심': 4702, '조심하다': 4703, '조언': 4704, '조용하다': 4705, '조잡하다': 4706, '조장': 4707, '조절': 4708, '조정': 4709, '조정은': 4710, '조지아': 4711, '조직': 4712, '조취': 4713, '조치': 4714, '조카': 4715, '조합': 4716, '조항': 4717, '조화': 4718, '조회': 4719, '족발': 4720, '존경': 4721, '존재': 4722, '존중': 4723, '졸업장': 4724, '좀': 4725, '좁히다': 4726, '종': 4727, '종교': 4728, '종단': 4729, '종도': 4730, '종로': 4731, '종료': 4732, '종류': 4733, '종사': 4734, '종습니': 4735, '종신': 4736, '종업원': 4737, '종이': 4738, '종일': 4739, '종합': 4740, '좋다': 4741, '좋아지다': 4742, '좋아하다': 4743, '좌석': 4744, '좌우': 4745, '죄송하다': 4746, '주': 4747, '주가': 4748, '주간': 4749, '주간지': 4750, '주거': 4751, '주고받다': 4752, '주기': 4753, '주다': 4754, '주된': 4755, '주렴': 4756, '주로': 4757, '주류': 4758, '주말': 4759, '주머니': 4760, '주목': 4761, '주무시다': 4762, '주문': 4763, '주민': 4764, '주민등록': 4765, '주방': 4766, '주변': 4767, '주사기': 4768, '주선': 4769, '주소': 4770, '주스': 4771, '주시': 4772, '주식': 4773, '주식시장': 4774, '주신': 4775, '주어지다': 4776, '주얼': 4777, '주요': 4778, '주의': 4779, '주인': 4780, '주일': 4781, '주임': 4782, '주자': 4783, '주장': 4784, '주저': 4785, '주제': 4786, '주제가': 4787, '주지': 4788, '주차': 4789, '주차장': 4790, '주철': 4791, '주택': 4792, '주파수': 4793, '죽': 4794, '준': 4795, '준비': 4796, '준수': 4797, '줄': 4798, '줄기': 4799, '줄다': 4800, '줄어들다': 4801, '줄이다': 4802, '줌': 4803, '줍다': 4804, '중': 4805, '중간': 4806, '중개': 4807, '중개사': 4808, '중개인': 4809, '중고': 4810, '중고품': 4811, '중공업': 4812, '중국': 4813, '중국집': 4814, '중단': 4815, '중등교육': 4816, '중복': 4817, '중소기업': 4818, '중시': 4819, '중심': 4820, '중심부': 4821, '중요성': 4822, '중요하다': 4823, '중이': 4824, '중인': 4825, '중장비': 4826, '중재': 4827, '중점': 4828, '중형견': 4829, '중환자': 4830, '즉': 4831, '즉각': 4832, '즉석': 4833, '즉시': 4834, '즐거움': 4835, '즐겁다': 4836, '즐기다': 4837, '증가': 4838, '증거': 4839, '증권': 4840, '증권사': 4841, '증명': 4842, '증명서': 4843, '증발기': 4844, '증빙': 4845, '증서': 4846, '증세': 4847, '증진': 4848, '증폭': 4849, '증폭기': 4850, '지': 4851, '지갑': 4852, '지게': 4853, '지게차': 4854, '지고': 4855, '지구': 4856, '지금': 4857, '지급': 4858, '지나다': 4859, '지난': 4860, '지난달': 4861, '지난번': 4862, '지난주': 4863, '지난해': 4864, '지남': 4865, '지내다': 4866, '지능': 4867, '지다': 4868, '지도': 4869, '지독하다': 4870, '지루하다': 4871, '지루함': 4872, '지르다': 4873, '지리': 4874, '지면': 4875, '지명': 4876, '지문': 4877, '지방': 4878, '지불': 4879, '지붕': 4880, '지사': 4881, '지속': 4882, '지수': 4883, '지시': 4884, '지식': 4885, '지역': 4886, '지역성': 4887, '지연': 4888, '지용': 4889, '지우다': 4890, '지원': 4891, '지원이': 4892, '지인': 4893, '지저분하다': 4894, '지적': 4895, '지점': 4896, '지정': 4897, '지주': 4898, '지지': 4899, '지체': 4900, '지출': 4901, '지침': 4902, '지켜보다': 4903, '지키다': 4904, '지폐': 4905, '지표': 4906, '지프': 4907, '지하실': 4908, '지하철': 4909, '지향': 4910, '직': 4911, '직감': 4912, '직경': 4913, '직급': 4914, '직도': 4915, '직면': 4916, '직물': 4917, '직불': 4918, '직업': 4919, '직원': 4920, '직장': 4921, '직접': 4922, '직접투자': 4923, '직책': 4924, '진': 4925, '진공': 4926, '진과': 4927, '진단': 4928, '진동': 4929, '진상': 4930, '진실': 4931, '진실하다': 4932, '진심': 4933, '진의': 4934, '진입': 4935, '진정': 4936, '진정하다': 4937, '진지하다': 4938, '진짜': 4939, '진출': 4940, '진행': 4941, '진행자': 4942, '진화': 4943, '진흥': 4944, '질': 4945, '질감': 4946, '질문': 4947, '질병': 4948, '질환': 4949, '짐': 4950, '집': 4951, '집값': 4952, '집다': 4953, '집단': 4954, '집세': 4955, '집안일': 4956, '집의': 4957, '집주인': 4958, '집중': 4959, '집하장': 4960, '집합': 4961, '집행': 4962, '집행자': 4963, '짓다': 4964, '징': 4965, '징글링': 4966, '짚': 4967, '짜다': 4968, '짜장': 4969, '짤': 4970, '짧다': 4971, '쪽': 4972, '쫓아내다': 4973, '쯤': 4974, '찌개': 4975, '찍다': 4976, '찍히다': 4977, '찜': 4978, '찜질방': 4979, '찢어지다': 4980, '차': 4981, '차감': 4982, '차갑다': 4983, '차고': 4984, '차기': 4985, '차다': 4986, '차단': 4987, '차도': 4988, '차등': 4989, '차라리': 4990, '차량': 4991, '차례': 4992, '차리다': 4993, '차별': 4994, '차서': 4995, '차용': 4996, '차원': 4997, '차이': 4998, '차이다': 4999, '차이점': 5000, '차입': 5001, '차지': 5002, '차질': 5003, '차트': 5004, '찬': 5005, '참가': 5006, '참가자': 5007, '참고': 5008, '참배': 5009, '참석': 5010, '참석자': 5011, '참여': 5012, '참으로': 5013, '참조': 5014, '찹쌀': 5015, '창': 5016, '창가': 5017, '창고': 5018, '창구': 5019, '창립': 5020, '창문': 5021, '창업': 5022, '창의': 5023, '찾기': 5024, '찾다': 5025, '찾아보다': 5026, '찾아오다': 5027, '채': 5028, '채굴': 5029, '채권': 5030, '채권자': 5031, '채널': 5032, '채다': 5033, '채무': 5034, '채무자': 5035, '채색': 5036, '채소': 5037, '채식': 5038, '채식주의자': 5039, '채용': 5040, '채우다': 5041, '채취': 5042, '채택': 5043, '채팅': 5044, '책': 5045, '책임': 5046, '책임감': 5047, '책임자': 5048, '책임지다': 5049, '책자': 5050, '책정': 5051, '챔버입니': 5052, '처': 5053, '처가': 5054, '처리': 5055, '처리기': 5056, '처방': 5057, '처분': 5058, '처음': 5059, '천만': 5060, '천연': 5061, '천연가스': 5062, '천장': 5063, '천천히': 5064, '철': 5065, '철강': 5066, '철도': 5067, '철저하다': 5068, '철제': 5069, '철학': 5070, '철회': 5071, '첨부': 5072, '첫': 5073, '첫날': 5074, '첫인상': 5075, '첫째': 5076, '청': 5077, '청각장애': 5078, '청구': 5079, '청년': 5080, '청동': 5081, '청문회': 5082, '청사진': 5083, '청소': 5084, '청소년': 5085, '청정': 5086, '청정기': 5087, '청중': 5088, '청취': 5089, '체결': 5090, '체납': 5091, '체류': 5092, '체육관': 5093, '체인': 5094, '체인점': 5095, '체제': 5096, '체크': 5097, '체크아웃': 5098, '체험': 5099, '초': 5100, '초고': 5101, '초과': 5102, '초기': 5103, '초당': 5104, '초대': 5105, '초대장': 5106, '초래': 5107, '초상화': 5108, '초안': 5109, '초음파': 5110, '초입': 5111, '초점': 5112, '초청': 5113, '초콜릿': 5114, '촉구': 5115, '촉박하다': 5116, '총': 5117, '총수': 5118, '총칭': 5119, '촬영': 5120, '최': 5121, '최고': 5122, '최고급': 5123, '최근': 5124, '최대': 5125, '최대한': 5126, '최상': 5127, '최선': 5128, '최선일': 5129, '최소': 5130, '최소한': 5131, '최신': 5132, '최악': 5133, '최저': 5134, '최적': 5135, '최적화': 5136, '최종': 5137, '최첨단': 5138, '최초': 5139, '추가': 5140, '추구': 5141, '추다': 5142, '추석': 5143, '추세': 5144, '추억': 5145, '추적': 5146, '추정': 5147, '추진': 5148, '추천': 5149, '추출': 5150, '추후': 5151, '축': 5152, '축배': 5153, '축소': 5154, '축하': 5155, '출구': 5156, '출금': 5157, '출두': 5158, '출력': 5159, '출발점': 5160, '출산': 5161, '출시': 5162, '출연': 5163, '출장': 5164, '출퇴근': 5165, '출판': 5166, '출판물': 5167, '출판사': 5168, '출하': 5169, '춤': 5170, '충': 5171, '충격': 5172, '충당': 5173, '충돌': 5174, '충분하다': 5175, '충실하다': 5176, '충전': 5177, '충전기': 5178, '충족': 5179, '취': 5180, '취급': 5181, '취득': 5182, '취미': 5183, '취사': 5184, '취소': 5185, '취약': 5186, '취재': 5187, '취직': 5188, '취하': 5189, '취한': 5190, '취할': 5191, '취해': 5192, '취향': 5193, '측': 5194, '측면': 5195, '측정': 5196, '측정기': 5197, '층': 5198, '치': 5199, '치가': 5200, '치과': 5201, '치다': 5202, '치료': 5203, '치르다': 5204, '치맥': 5205, '치솟다': 5206, '치수': 5207, '치열하다': 5208, '치즈': 5209, '치킨': 5210, '친': 5211, '친구': 5212, '친절하다': 5213, '친척': 5214, '친하다': 5215, '친환경': 5216, '칠': 5217, '칠하다': 5218, '침': 5219, '침대': 5220, '침실': 5221, '침입': 5222, '침체': 5223, '침해': 5224, '칩': 5225, '칩셋': 5226, '칭찬': 5227, '카드': 5228, '카메라': 5229, '카뷰': 5230, '카운터': 5231, '카운트다운': 5232, '카지노': 5233, '카탈로그': 5234, '카테고리': 5235, '카트': 5236, '카페': 5237, '카페테리아': 5238, '카펫': 5239, '카피': 5240, '칵테일': 5241, '칸': 5242, '칼': 5243, '칼리': 5244, '캐': 5245, '캐나다': 5246, '캐리어': 5247, '캐릭터': 5248, '캐비닛': 5249, '캐빈': 5250, '캐싱': 5251, '캐터필러': 5252, '캐피탈': 5253, '캐피털': 5254, '캘리포니아': 5255, '캘린더': 5256, '캠': 5257, '캠퍼스': 5258, '캠페인': 5259, '캠프': 5260, '캠프장': 5261, '캠프파이어': 5262, '캠핑': 5263, '캠핑장': 5264, '캠핑카': 5265, '캡슐화': 5266, '캡처': 5267, '커뮤니케이션': 5268, '커뮤니티': 5269, '커미션': 5270, '커버': 5271, '커지다': 5272, '커터': 5273, '커튼': 5274, '커플': 5275, '커피': 5276, '커피메이커': 5277, '컨디셔닝': 5278, '컨베이어': 5279, '컨설턴트': 5280, '컨설팅': 5281, '컨셉': 5282, '컨테이너': 5283, '컨텐츠': 5284, '컬래버레이션': 5285, '컬러': 5286, '컴퍼니': 5287, '컴포트룸': 5288, '컴퓨터': 5289, '컴퓨팅': 5290, '컴프레서': 5291, '컷': 5292, '케어': 5293, '케이': 5294, '케이블': 5295, '케이스': 5296, '케이크': 5297, '코': 5298, '코너': 5299, '코드': 5300, '코딩': 5301, '코로나': 5302, '코르크': 5303, '코리아': 5304, '코리안': 5305, '코멘트': 5306, '코스': 5307, '코스닥': 5308, '코인': 5309, '코치': 5310, '코칭': 5311, '코코넛': 5312, '코퍼레이션': 5313, '콕': 5314, '콘덴서': 5315, '콘도': 5316, '콘도그': 5317, '콘서트': 5318, '콘셉': 5319, '콘셉트': 5320, '콘솔': 5321, '콘크리트': 5322, '콘텐츠': 5323, '콜리': 5324, '콜링': 5325, '콜카타': 5326, '콩나물': 5327, '쾌적하다': 5328, '쿠션': 5329, '쿠알라룸푸르': 5330, '쿠키': 5331, '쿠폰': 5332, '쿨': 5333, '쿨러': 5334, '퀼트': 5335, '큐': 5336, '크게': 5337, '크기': 5338, '크다': 5339, '크레딧': 5340, '크레인': 5341, '크루아상': 5342, '크류': 5343, '크리스마스': 5344, '크리에이터': 5345, '크리에이티브': 5346, '크립': 5347, '클라우드': 5348, '클라이언트': 5349, '클래스': 5350, '클러스터': 5351, '클럽': 5352, '클레': 5353, '클리': 5354, '클릭': 5355, '클릭률': 5356, '클립': 5357, '키': 5358, '키란': 5359, '키우다': 5360, '키트': 5361, '킬로그램': 5362, '킬로미터': 5363, '킬로와트': 5364, '타': 5365, '타겟': 5366, '타고': 5367, '타깃': 5368, '타다': 5369, '타당': 5370, '타운하우스': 5371, '타원곡선': 5372, '타이머': 5373, '타이밍': 5374, '타이어': 5375, '타이틀곡': 5376, '타임': 5377, '타임스퀘어': 5378, '타입': 5379, '타자기': 5380, '타협': 5381, '탁월하다': 5382, '탁자': 5383, '탄소': 5384, '탄원서': 5385, '탈': 5386, '탈세': 5387, '탈수': 5388, '탈퇴': 5389, '탐구': 5390, '탐방': 5391, '탐색': 5392, '탐험': 5393, '탑': 5394, '탑승': 5395, '탑재': 5396, '탕': 5397, '탕감': 5398, '태국': 5399, '태국어': 5400, '태그': 5401, '태극': 5402, '태극기': 5403, '태도': 5404, '태블릿': 5405, '태양': 5406, '택배': 5407, '탤런트': 5408, '탭': 5409, '터': 5410, '터널': 5411, '터링': 5412, '터미널': 5413, '터북': 5414, '터치': 5415, '터치스크린': 5416, '터키': 5417, '턴': 5418, '턴키': 5419, '테': 5420, '테니스': 5421, '테라': 5422, '테라바이트': 5423, '테라스': 5424, '테마': 5425, '테스': 5426, '테스트': 5427, '테이': 5428, '테이블': 5429, '테이프': 5430, '테크놀로지': 5431, '텍스처': 5432, '텍스트': 5433, '텐데': 5434, '텐데요': 5435, '텐트': 5436, '텔레비전': 5437, '템플': 5438, '템플릿': 5439, '템플스테이': 5440, '토너': 5441, '토론': 5442, '토르티야': 5443, '토목': 5444, '토스터': 5445, '토스트': 5446, '토요일': 5447, '토지': 5448, '토큰': 5449, '톤': 5450, '통': 5451, '통계': 5452, '통과': 5453, '통관': 5454, '통닭': 5455, '통도사': 5456, '통보': 5457, '통상': 5458, '통신': 5459, '통신망': 5460, '통신사': 5461, '통역': 5462, '통역관': 5463, '통장': 5464, '통제': 5465, '통지': 5466, '통지서': 5467, '통째': 5468, '통찰': 5469, '통한': 5470, '통합': 5471, '통해': 5472, '통화': 5473, '퇴근': 5474, '퇴사': 5475, '투': 5476, '투명': 5477, '투명하다': 5478, '투숙': 5479, '투어': 5480, '투자': 5481, '투자가': 5482, '투자수익률': 5483, '투자자': 5484, '툴': 5485, '튀기다': 5486, '튀김': 5487, '튜브': 5488, '튜토리얼': 5489, '트': 5490, '트래킹': 5491, '트래픽': 5492, '트랙볼': 5493, '트랙터': 5494, '트랙패드': 5495, '트랜치': 5496, '트러블': 5497, '트럭': 5498, '트레인': 5499, '트레일러': 5500, '트렌드': 5501, '트리': 5502, '트리트먼트': 5503, '트리플': 5504, '트윈': 5505, '트이다': 5506, '특권': 5507, '특급': 5508, '특기': 5509, '특별': 5510, '특별하다': 5511, '특산': 5512, '특선': 5513, '특성': 5514, '특수': 5515, '특수하다': 5516, '특정': 5517, '특정하다': 5518, '특제': 5519, '특집': 5520, '특징': 5521, '특허': 5522, '특히': 5523, '튼튼하다': 5524, '틀다': 5525, '틀림없다': 5526, '틀림없이': 5527, '틀어놓다': 5528, '틈': 5529, '틈새': 5530, '티': 5531, '티슈': 5532, '티저': 5533, '티켓': 5534, '팀': 5535, '팀원': 5536, '팁': 5537, '팅': 5538, '파견': 5539, '파괴': 5540, '파다': 5541, '파란색': 5542, '파로': 5543, '파리': 5544, '파산': 5545, '파산하다': 5546, '파손': 5547, '파스타': 5548, '파악': 5549, '파워': 5550, '파이': 5551, '파이다': 5552, '파이썬': 5553, '파이프': 5554, '파이프라인': 5555, '파일': 5556, '파키스탄': 5557, '파트너': 5558, '파트너쉽': 5559, '파티': 5560, '파파야': 5561, '판': 5562, '판금': 5563, '판단': 5564, '판매': 5565, '판매량': 5566, '판매업': 5567, '판명': 5568, '판촉': 5569, '팔': 5570, '팔고': 5571, '팔다': 5572, '팔레트': 5573, '팔로우': 5574, '팔로워': 5575, '팔리다': 5576, '팔지': 5577, '팜스프링스': 5578, '팜유': 5579, '팝': 5580, '팟캐스트': 5581, '패널': 5582, '패션': 5583, '패스': 5584, '패스트': 5585, '패스트푸드': 5586, '패자': 5587, '패치': 5588, '패키지': 5589, '패턴': 5590, '팩': 5591, '팩스': 5592, '팬': 5593, '팬데믹': 5594, '팬케이크': 5595, '팸플릿': 5596, '퍼센트': 5597, '퍼지다': 5598, '펀드': 5599, '펀딩': 5600, '펄스': 5601, '펌프': 5602, '페스티벌': 5603, '페이': 5604, '페이스': 5605, '페이지': 5606, '펜션': 5607, '펠메니': 5608, '펴다': 5609, '편': 5610, '편곡': 5611, '편도': 5612, '편리하다': 5613, '편물': 5614, '편안하다': 5615, '편안함': 5616, '편애': 5617, '편의': 5618, '편의점': 5619, '편이': 5620, '편입': 5621, '편지': 5622, '편지함': 5623, '편집': 5624, '편집자': 5625, '편하다': 5626, '평가': 5627, '평가판': 5628, '평균': 5629, '평면도': 5630, '평방': 5631, '평범하다': 5632, '평생': 5633, '평일': 5634, '평점': 5635, '평판': 5636, '평편': 5637, '평평하다': 5638, '평화': 5639, '폐가': 5640, '폐기물': 5641, '폐쇄': 5642, '폐쇄되어': 5643, '폐쇄하': 5644, '포': 5645, '포격': 5646, '포괄': 5647, '포기': 5648, '포스터': 5649, '포스트': 5650, '포스팅': 5651, '포인트': 5652, '포장': 5653, '포지셔닝': 5654, '포지션': 5655, '포켓': 5656, '포탄': 5657, '포털': 5658, '포토': 5659, '포트': 5660, '포트폴리오': 5661, '포함': 5662, '포항': 5663, '폭': 5664, '폭력': 5665, '폰': 5666, '폰트': 5667, '폴더': 5668, '폴리스티렌': 5669, '폴리오': 5670, '폴리우레탄': 5671, '폼': 5672, '표': 5673, '표면': 5674, '표시': 5675, '표절': 5676, '표정': 5677, '표준': 5678, '표지': 5679, '표현': 5680, '푸드': 5681, '풀': 5682, '풀다': 5683, '품': 5684, '품다': 5685, '품목': 5686, '품절': 5687, '품종': 5688, '품질': 5689, '풍': 5690, '풍부하다': 5691, '풍향': 5692, '퓨전': 5693, '프라이': 5694, '프라이드': 5695, '프라이머리': 5696, '프랑스': 5697, '프랑스어': 5698, '프랜차이즈': 5699, '프레': 5700, '프레임': 5701, '프레임워크': 5702, '프로': 5703, '프로그래머': 5704, '프로그래밍': 5705, '프로그램': 5706, '프로듀서': 5707, '프로모션': 5708, '프로세서': 5709, '프로세스': 5710, '프로젝터': 5711, '프로젝트': 5712, '프로토콜': 5713, '프로토타입': 5714, '프로필': 5715, '프루티': 5716, '프리랜서': 5717, '프리미엄': 5718, '프리뷰': 5719, '프린터': 5720, '플': 5721, '플라스틱': 5722, '플라이': 5723, '플라자': 5724, '플래닝': 5725, '플래시': 5726, '플래티넘': 5727, '플랜': 5728, '플랫폼': 5729, '플러그인': 5730, '플러머': 5731, '플러스': 5732, '플레이': 5733, '플레이어': 5734, '플로우': 5735, '플로터': 5736, '플루': 5737, '플립': 5738, '피': 5739, '피나': 5740, '피니쉬': 5741, '피드백': 5742, '피로연': 5743, '피부': 5744, '피스톤': 5745, '피아노': 5746, '피우다': 5747, '피칭팀': 5748, '피크': 5749, '피트': 5750, '피트니스': 5751, '피하': 5752, '피해': 5753, '피해자': 5754, '픽셀': 5755, '픽업': 5756, '핀': 5757, '필기체': 5758, '필드': 5759, '필름': 5760, '필리핀': 5761, '필수': 5762, '필요': 5763, '필요성': 5764, '필요없다': 5765, '필요하다': 5766, '필욘': 5767, '필터': 5768, '핑크': 5769, '하': 5770, '하기는': 5771, '하나': 5772, '하나로': 5773, '하나요': 5774, '하니': 5775, '하다': 5776, '하단': 5777, '하드': 5778, '하드웨어': 5779, '하락': 5780, '하루': 5781, '하루나': 5782, '하룻밤': 5783, '하므다': 5784, '하수': 5785, '하숙집': 5786, '하얀색': 5787, '하오니': 5788, '하와이': 5789, '하우': 5790, '하우스': 5791, '하이재킹': 5792, '하이킹': 5793, '하이테크': 5794, '하자': 5795, '하지만': 5796, '학': 5797, '학과': 5798, '학교': 5799, '학기': 5800, '학년': 5801, '학문': 5802, '학생': 5803, '학술': 5804, '학습': 5805, '학업': 5806, '학원': 5807, '학위': 5808, '학자': 5809, '학자금': 5810, '한': 5811, '한가하다': 5812, '한계': 5813, '한국': 5814, '한국어': 5815, '한국은행': 5816, '한국인': 5817, '한다는': 5818, '한도': 5819, '한두': 5820, '한마디': 5821, '한번': 5822, '한식': 5823, '한식당': 5824, '한옥호텔': 5825, '한우': 5826, '한자': 5827, '한잔': 5828, '한정': 5829, '한정식': 5830, '한정판': 5831, '한지': 5832, '한창': 5833, '한층': 5834, '한편': 5835, '할당': 5836, '할랄': 5837, '할머니': 5838, '할부': 5839, '할애': 5840, '할인': 5841, '함': 5842, '함께': 5843, '합': 5844, '합격': 5845, '합계': 5846, '합류': 5847, '합리': 5848, '합법': 5849, '합성': 5850, '합의': 5851, '합작': 5852, '합치다': 5853, '합판': 5854, '핫': 5855, '핫스팟': 5856, '항': 5857, '항공': 5858, '항공사': 5859, '항구': 5860, '항목': 5861, '항상': 5862, '항성': 5863, '항의': 5864, '해': 5865, '해결': 5866, '해고': 5867, '해당': 5868, '해도': 5869, '해독': 5870, '해드리다': 5871, '해명': 5872, '해변': 5873, '해보다': 5874, '해봤다': 5875, '해상도': 5876, '해석': 5877, '해소': 5878, '해심': 5879, '해안': 5880, '해오다': 5881, '해외': 5882, '해외여행': 5883, '해주다': 5884, '해주시': 5885, '해지': 5886, '해초': 5887, '해커': 5888, '해킹': 5889, '해피': 5890, '핵심': 5891, '핸드폰': 5892, '행': 5893, '행동': 5894, '행복': 5895, '행복하다': 5896, '행사': 5897, '행운': 5898, '행해지다': 5899, '향': 5900, '향상': 5901, '향수': 5902, '향신료': 5903, '향후': 5904, '허가': 5905, '허가증': 5906, '허락': 5907, '허브': 5908, '허브차': 5909, '허슬': 5910, '허용': 5911, '허튼': 5912, '허풍': 5913, '헌신': 5914, '헐벗': 5915, '헤드헌터': 5916, '헤어드라이어': 5917, '헤지': 5918, '헬': 5919, '헬스장': 5920, '헷갈리다': 5921, '혁신': 5922, '현': 5923, '현금': 5924, '현대': 5925, '현명하다': 5926, '현미경': 5927, '현상': 5928, '현수막': 5929, '현장': 5930, '현재': 5931, '현지': 5932, '현행': 5933, '현황': 5934, '혈압': 5935, '혈액': 5936, '혐의': 5937, '협동': 5938, '협력': 5939, '협상': 5940, '협약': 5941, '협연': 5942, '협의': 5943, '협정': 5944, '협조': 5945, '협찬': 5946, '협회': 5947, '형': 5948, '형기': 5949, '형성': 5950, '형식': 5951, '형제': 5952, '형태': 5953, '혜택': 5954, '호도': 5955, '호법': 5956, '호스팅': 5957, '호실': 5958, '호의': 5959, '호주': 5960, '호출': 5961, '호텔': 5962, '호환': 5963, '호환성': 5964, '호흡': 5965, '혹독하다': 5966, '혹시': 5967, '혹은': 5968, '혼란': 5969, '혼자': 5970, '혼잡하다': 5971, '혼합': 5972, '홀': 5973, '홈': 5974, '홈스테이': 5975, '홈페이지': 5976, '홋카이도': 5977, '홍보': 5978, '화가': 5979, '화거': 5980, '화기': 5981, '화나다': 5982, '화면': 5983, '화물': 5984, '화물선': 5985, '화보': 5986, '화상': 5987, '화상통화': 5988, '화상회의': 5989, '화소': 5990, '화요일': 5991, '화의': 5992, '화이트': 5993, '화장실': 5994, '화장품': 5995, '화전': 5996, '화폐': 5997, '화하다': 5998, '화학': 5999, '화합': 6000, '화해': 6001, '확고하다': 6002, '확답': 6003, '확대': 6004, '확보': 6005, '확신': 6006, '확실하다': 6007, '확인': 6008, '확장': 6009, '확정': 6010, '환': 6011, '환경': 6012, '환급': 6013, '환불': 6014, '환상': 6015, '환영': 6016, '환율': 6017, '환자': 6018, '환전': 6019, '환호': 6020, '활': 6021, '활동': 6022, '활발하다': 6023, '활성화': 6024, '활용': 6025, '회': 6026, '회계': 6027, '회계법인': 6028, '회계사': 6029, '회도': 6030, '회로': 6031, '회복': 6032, '회복하다': 6033, '회비': 6034, '회사': 6035, '회수': 6036, '회신': 6037, '회원': 6038, '회의': 6039, '회의실': 6040, '회의장': 6041, '회장': 6042, '회전': 6043, '회차': 6044, '회화': 6045, '횡설수설': 6046, '효과': 6047, '효율': 6048, '후': 6049, '후루룩': 6050, '후불': 6051, '후속': 6052, '후송': 6053, '후식': 6054, '후원': 6055, '후원자': 6056, '후의': 6057, '후회': 6058, '훈련': 6059, '훌륭하다': 6060, '훑다': 6061, '훨씬': 6062, '훼손': 6063, '휘': 6064, '휘발유': 6065, '휠': 6066, '휩쓸다': 6067, '휴': 6068, '휴가': 6069, '휴대': 6070, '휴대전화': 6071, '휴대폰': 6072, '휴식': 6073, '휴양': 6074, '흐름': 6075, '흐릿하': 6076, '흑자': 6077, '흔하다': 6078, '흘리다': 6079, '흙': 6080, '흙빛': 6081, '흡사하다': 6082, '흡수': 6083, '흡입': 6084, '흥미': 6085, '흥미롭다': 6086, '흥분': 6087, '흥분하다': 6088, '희망': 6089, '흰색': 6090, '히': 6091, '히트': 6092, '힘': 6093, '힘들다': 6094, '힘쓰다': 6095}\n",
            "{'$1,000,000': 1, '$100': 2, '$30': 3, '0.2': 4, '0.26%': 5, '0.5%': 6, '0.95': 7, '0000000': 8, '006': 9, '1': 10, '1%': 11, '1,000': 12, '1,000,000': 13, '1,200': 14, '1,250,000': 15, '1,500': 16, '1,700,000': 17, '1.50%': 18, '10': 19, '10%': 20, '10,000': 21, '10.9%': 22, '100': 23, '100%': 24, '100,000': 25, '1000': 26, '10:00': 27, '11': 28, '1100': 29, '11:00': 30, '12': 31, '12%': 32, '12.99': 33, '120': 34, '123': 35, '123-456': 36, '1234': 37, '1234-5678': 38, '123456': 39, '1234567': 40, '12345678': 41, '123456789': 42, '123456789012': 43, '123546789': 44, '125': 45, '128': 46, '13': 47, '135': 48, '14': 49, '140': 50, '140,000': 51, '142': 52, '144': 53, '15': 54, '15%': 55, '15,000': 56, '150': 57, '150,000': 58, '1500': 59, '16': 60, '17': 61, '18': 62, '18,000,000,000': 63, '19': 64, '1952': 65, '1:00': 66, '1:1': 67, '2': 68, '2%': 69, '2,000': 70, '2,000,000': 71, '2,500': 72, '2.5%': 73, '20': 74, '20%': 75, '20,000': 76, '20.70': 77, '200': 78, '2000': 79, '2002': 80, '2019': 81, '2021': 82, '2022': 83, '21': 84, '22': 85, '23': 86, '24': 87, '24/7': 88, '25': 89, '25%': 90, '250': 91, '250,000': 92, '2500': 93, '27': 94, '280': 95, '29': 96, '2929': 97, '2:00': 98, '3': 99, '3%': 100, '3,000': 101, '3,500': 102, '3.5%': 103, '30': 104, '300': 105, '3000': 106, '31': 107, '320': 108, '34.5': 109, '35': 110, '350': 111, '365': 112, '370': 113, '3:00': 114, '3:30': 115, '4': 116, '4%': 117, '4,000': 118, '4.99': 119, '40': 120, '40%': 121, '40,000': 122, '400': 123, '400,000': 124, '4000': 125, '404': 126, '420': 127, '45.5': 128, '450': 129, '450,000': 130, '475': 131, '48': 132, '4:00': 133, '4:45': 134, '5': 135, '5%': 136, '5,200': 137, '5.0': 138, '50': 139, '50%': 140, '50,000': 141, '50,000,000': 142, '500': 143, '500,000': 144, '51.5': 145, '52': 146, '55,000': 147, '550': 148, '58,000,000': 149, '5900': 150, '5:00': 151, '6': 152, '6%': 153, '6,000': 154, '6.4': 155, '60': 156, '60%': 157, '600,000': 158, '63': 159, '6:00': 160, '7': 161, '7%': 162, '7,000': 163, '7,200': 164, '70': 165, '700': 166, '72': 167, '75': 168, '75%': 169, '750': 170, '7500': 171, '7:00': 172, '7:50': 173, '8': 174, '8%': 175, '8,000': 176, '8,400': 177, '80': 178, '80%': 179, '80,000': 180, '800': 181, '8:00': 182, '9': 183, '9,500': 184, '9.99': 185, '90': 186, '90,000': 187, '900': 188, '900,000': 189, '93': 190, '99%': 191, '9:16': 192, '<EOS>': 193, '<SOS>': 194, 'A': 195, 'AAA': 196, 'AAA1@BBB1.com.': 197, 'AAA@BBB.com': 198, 'ABCDE': 199, 'AI': 200, 'ANRs': 201, 'ATM': 202, 'ATMs': 203, 'Absolutely': 204, 'Accidents': 205, 'According': 206, 'Actually': 207, 'Additionally': 208, 'Ads': 209, 'African': 210, 'After': 211, 'Afterwards': 212, 'Again': 213, 'Agency': 214, 'Ah': 215, 'Airport': 216, 'All': 217, 'Allow': 218, 'Almost': 219, 'Along': 220, 'Alright': 221, 'Also': 222, 'Alternatively': 223, 'Although': 224, 'Am': 225, 'America': 226, 'American': 227, 'Among': 228, 'Amsterdam': 229, 'An': 230, 'And': 231, 'Angel': 232, 'Another': 233, 'Any': 234, 'Anyone': 235, 'Anything': 236, 'Anyway': 237, 'Apart': 238, 'Apologies': 239, 'Apparently': 240, 'Appraisal': 241, 'April': 242, 'Are': 243, 'Argentina': 244, 'Around': 245, 'Articles': 246, 'Artificial': 247, 'As': 248, 'Asia': 249, 'Asian': 250, 'Aside': 251, 'Associates': 252, 'Assume': 253, 'At': 254, 'August': 255, 'Australia': 256, 'Australian': 257, 'Available': 258, 'Avatars': 259, 'Avoid': 260, 'Awesome': 261, 'B': 262, 'BBB': 263, 'BBB@email.com.': 264, 'BBQ': 265, 'BSE': 266, 'Back': 267, 'Bank': 268, 'Barbados': 269, 'Based': 270, 'Basically': 271, 'Be': 272, 'Bear': 273, 'Because': 274, 'Beef': 275, 'Before': 276, 'Being': 277, 'Besides': 278, 'Board': 279, 'Bohemian': 280, 'Bokkeumbap': 281, 'Bossam': 282, 'Both': 283, 'Brazil': 284, 'Breakfast': 285, 'Bringing': 286, 'Broadcast': 287, 'Broadcasting': 288, 'Browsing': 289, 'Brunei': 290, 'Buddha': 291, 'Buddhism': 292, 'Buddhist': 293, 'Building': 294, 'Bulgogi': 295, 'Bungeoppang': 296, 'Bunsen': 297, 'Busan': 298, 'Business': 299, 'But': 300, 'Buying': 301, 'By': 302, 'C': 303, 'CCTV': 304, 'CCTVs': 305, 'CEO': 306, 'CFM': 307, 'CMS': 308, 'COVID': 309, 'CSS': 310, 'CT': 311, 'California': 312, 'Call': 313, 'Camp': 314, 'Camping': 315, 'Can': 316, 'Canada': 317, 'Canal': 318, 'Capital': 319, 'Catering': 320, 'Center': 321, 'Certainly': 322, 'Change': 323, 'Chapter': 324, 'Chicago': 325, 'Chief': 326, 'Children': 327, 'China': 328, 'Chinese': 329, 'Choosing': 330, 'Chosun': 331, 'Christmas': 332, 'Chuseok': 333, 'City': 334, 'Class': 335, 'Click': 336, 'Clothing': 337, 'Cloud': 338, 'Come': 339, 'Company': 340, 'Compatible': 341, 'Completion': 342, 'Consider': 343, 'Considering': 344, 'Contact': 345, 'Content': 346, 'Continental': 347, 'Continue': 348, 'Control': 349, 'Convention': 350, 'Cool': 351, 'Copyright': 352, 'Corp': 353, 'Corporation': 354, 'Correct': 355, 'Could': 356, 'Court': 357, 'Crowdfunding': 358, 'Cryptocurrency': 359, 'Currently': 360, 'D': 361, 'DCA': 362, 'DVR': 363, 'Daegu': 364, 'Dak': 365, 'Dear': 366, 'December': 367, 'Definitely': 368, 'Denmark': 369, 'Department': 370, 'Depends': 371, 'Design': 372, 'Despite': 373, 'Details': 374, 'Devices': 375, 'Did': 376, 'Didn': 377, 'Different': 378, 'Disclosing': 379, 'District': 380, 'Do': 381, 'Documents': 382, 'Does': 383, 'Don': 384, 'Download': 385, 'Dr': 386, 'Drive': 387, 'Due': 388, 'Duly': 389, 'During': 390, 'E': 391, 'EOB': 392, 'EPP': 393, 'ESG': 394, 'EST': 395, 'ETF': 396, 'ETFs': 397, 'EVA': 398, 'Each': 399, 'Earth': 400, 'East': 401, 'Eastern': 402, 'Egyptian': 403, 'Eh': 404, 'Emerald': 405, 'Emerging': 406, 'Emily': 407, 'Encryption': 408, 'Engine': 409, 'Engines': 410, 'England': 411, 'English': 412, 'Equipment': 413, 'Especially': 414, 'Essentially': 415, 'Europe': 416, 'European': 417, 'Euros': 418, 'Even': 419, 'Events': 420, 'Every': 421, 'Everyone': 422, 'Everything': 423, 'Exactly': 424, 'Excellent': 425, 'Exchange': 426, 'Excuse': 427, 'Exit': 428, 'Expect': 429, 'Expo': 430, 'FDI': 431, 'FFF': 432, 'FOMO': 433, 'Factors': 434, 'Failure': 435, 'Fantastic': 436, 'February': 437, 'Federal': 438, 'Feel': 439, 'Festival': 440, 'Fi': 441, 'Fifth': 442, 'Filipino': 443, 'Finally': 444, 'Financial': 445, 'Find': 446, 'Fine': 447, 'Fingers': 448, 'First': 449, 'Firstly': 450, 'Five': 451, 'Flashes': 452, 'Flexibility': 453, 'Food': 454, 'For': 455, 'Foreigners': 456, 'Fortunately': 457, 'Fourth': 458, 'France': 459, 'Francisco': 460, 'French': 461, 'Friday': 462, 'From': 463, 'Fu': 464, 'Furthermore': 465, 'Futons': 466, 'Futures': 467, 'G': 468, 'GB': 469, 'GPS': 470, 'GVWR': 471, 'Gains': 472, 'Gangnam': 473, 'Gangneung': 474, 'Gas': 475, 'Generally': 476, 'Georgia': 477, 'Germany': 478, 'Get': 479, 'Ginseng': 480, 'Give': 481, 'Given': 482, 'Giving': 483, 'Go': 484, 'Good': 485, 'Got': 486, 'Graphic': 487, 'Great': 488, 'Greek': 489, 'Greetings': 490, 'Group': 491, 'Guam': 492, 'Gujeolpan': 493, 'Gyeonggi': 494, 'HDD': 495, 'HR': 496, 'HTML': 497, 'Hackers': 498, 'Halal': 499, 'Hanok': 500, 'Has': 501, 'Have': 502, 'Having': 503, 'Hawaii': 504, 'He': 505, 'Helllo': 506, 'Hello': 507, 'Hence': 508, 'Her': 509, 'Here': 510, 'Hey': 511, 'Hi': 512, 'Hmm': 513, 'Hokkaido': 514, 'Hold': 515, 'Hopefully': 516, 'Hotel': 517, 'How': 518, 'However': 519, 'I': 520, 'ID': 521, 'IDs': 522, 'IP': 523, 'IPO': 524, 'IPOs': 525, 'IT': 526, 'IVR': 527, 'IaaS': 528, 'If': 529, 'Ilsan': 530, 'In': 531, 'Incentives': 532, 'Incheon': 533, 'Incorporation': 534, 'Indeed': 535, 'Independent': 536, 'India': 537, 'Indian': 538, 'Indonesia': 539, 'Indonesian': 540, 'Inflation': 541, 'Influencer': 542, 'Innovations': 543, 'Installing': 544, 'Instant': 545, 'Insurance': 546, 'Interesting': 547, 'International': 548, 'Internet': 549, 'Intraday': 550, 'Invest': 551, 'Investments': 552, 'Investors': 553, 'IoT': 554, 'Is': 555, 'Isn': 556, 'It': 557, 'Italian': 558, 'Italy': 559, 'JLPT': 560, 'January': 561, 'Japan': 562, 'Japanese': 563, 'Jeju': 564, 'Jeonbyeong': 565, 'Jjimjilbang': 566, 'Jongno': 567, 'July': 568, 'Jun': 569, 'June': 570, 'Just': 571, 'K': 572, 'KOSDAQ': 573, 'KST': 574, 'Kabsat': 575, 'Keep': 576, 'Kimchi': 577, 'Kindly': 578, 'Kingdom': 579, 'Know': 580, 'Knowing': 581, 'Kolkata': 582, 'Korea': 583, 'Korean': 584, 'Koreans': 585, 'Kuala': 586, 'LED': 587, 'Language': 588, 'Last': 589, 'Lastly': 590, 'Later': 591, 'Latest': 592, 'Law': 593, 'Learning': 594, 'Let': 595, 'Life': 596, 'Like': 597, 'Likewise': 598, 'Limited': 599, 'Listen': 600, 'Little': 601, 'Liverpool': 602, 'Loans': 603, 'Locust': 604, 'Log': 605, 'London': 606, 'Looking': 607, 'Losers': 608, 'Loss': 609, 'Lovely': 610, 'Low': 611, 'Luckily': 612, 'Lumpur': 613, 'M': 614, 'MAR': 615, 'MMS': 616, 'MOU': 617, 'Ma': 618, 'Madrid': 619, 'Mainly': 620, 'Maintaining': 621, 'Make': 622, 'Making': 623, 'Malaysia': 624, 'Management': 625, 'Manali': 626, 'Mandarin': 627, 'Manila': 628, 'Many': 629, 'Mapo': 630, 'Mapping': 631, 'March': 632, 'Marketing': 633, 'May': 634, 'Maybe': 635, 'Me': 636, 'Meaning': 637, 'Meanwhile': 638, 'Mechanical': 639, 'Media': 640, 'Medical': 641, 'Members': 642, 'Metaverse': 643, 'Michelin': 644, 'Minting': 645, 'Mobile': 646, 'Monday': 647, 'Month': 648, 'More': 649, 'Moreover': 650, 'Most': 651, 'Moving': 652, 'Mr': 653, 'Mrs': 654, 'Ms': 655, 'Music': 656, 'My': 657, 'Myanmar': 658, 'NFT': 659, 'NFTs': 660, 'NI': 661, 'NSE': 662, 'NTFS': 663, 'Naturally': 664, 'Needles': 665, 'Network': 666, 'Never': 667, 'New': 668, 'News': 669, 'Next': 670, 'Nigeria': 671, 'No': 672, 'Nobody': 673, 'Non': 674, 'None': 675, 'Normally': 676, 'North': 677, 'Not': 678, 'Noted': 679, 'Nothing': 680, 'November': 681, 'Now': 682, 'Nowadays': 683, 'OK': 684, 'OKK': 685, 'OS': 686, 'October': 687, 'Of': 688, 'Off': 689, 'Offering': 690, 'Office': 691, 'Officer': 692, 'Oh': 693, 'Ohio': 694, 'Ok': 695, 'Okay': 696, 'Omji': 697, 'On': 698, 'Once': 699, 'One': 700, 'Only': 701, 'Ontario': 702, 'Optimization': 703, 'Or': 704, 'Originally': 705, 'Others': 706, 'Otherwise': 707, 'Our': 708, 'Out': 709, 'Over': 710, 'Overall': 711, 'PDA': 712, 'PDF': 713, 'PM': 714, 'PPE': 715, 'PR': 716, 'PRO': 717, 'PSAs': 718, 'PVP': 719, 'Pakistan': 720, 'Palm': 721, 'Paper': 722, 'Paris': 723, 'Paying': 724, 'Payment': 725, 'Pelmeni': 726, 'People': 727, 'Perfect': 728, 'Perhaps': 729, 'Philippines': 730, 'Place': 731, 'Please': 732, 'Plenty': 733, 'Plummer': 734, 'Plus': 735, 'Pohang': 736, 'Pot': 737, 'Precisely': 738, 'Precision': 739, 'Predicting': 740, 'President': 741, 'Prices': 742, 'Private': 743, 'Probably': 744, 'Product': 745, 'Publishing': 746, 'Python': 747, 'QR': 748, 'Quality': 749, 'RAM': 750, 'RV': 751, 'Radio': 752, 'Recently': 753, 'Red': 754, 'Regarding': 755, 'Regardless': 756, 'Regrettably': 757, 'Resolution': 758, 'Rest': 759, 'Retailers': 760, 'Right': 761, 'Room': 762, 'SD': 763, 'SEO': 764, 'SIM': 765, 'SKUs': 766, 'SPV': 767, 'SSD': 768, 'SSL': 769, 'Sadly': 770, 'Saeng': 771, 'Sakyamuni': 772, 'Salalah': 773, 'San': 774, 'Sashimi': 775, 'Saturday': 776, 'Sauna': 777, 'Say': 778, 'Schools': 779, 'Search': 780, 'Second': 781, 'Security': 782, 'See': 783, 'Send': 784, 'Seoul': 785, 'September': 786, 'Series': 787, 'Services': 788, 'Several': 789, 'Shall': 790, 'Shampoo': 791, 'Shanghai': 792, 'She': 793, 'Shop': 794, 'Should': 795, 'Signals': 796, 'Signature': 797, 'Similar': 798, 'Simply': 799, 'Since': 800, 'Singapore': 801, 'Singaporean': 802, 'Sir': 803, 'Skim': 804, 'So': 805, 'Social': 806, 'Soju': 807, 'Solar': 808, 'Some': 809, 'Someone': 810, 'Something': 811, 'Sometimes': 812, 'Soon': 813, 'Sorry': 814, 'Sounds': 815, 'South': 816, 'Southeast': 817, 'Spain': 818, 'Spanish': 819, 'Speaking': 820, 'Specifically': 821, 'Springs': 822, 'Square': 823, 'Starting': 824, 'States': 825, 'Station': 826, 'Stay': 827, 'Staying': 828, 'Still': 829, 'Stock': 830, 'Street': 831, 'Stroganoff': 832, 'Submit': 833, 'Submitting': 834, 'Such': 835, 'Sudan': 836, 'Suez': 837, 'Suite': 838, 'Sun': 839, 'Sunday': 840, 'Sure': 841, 'TPU': 842, 'TV': 843, 'Taegeuk': 844, 'Taeguekgi': 845, 'Taiwan': 846, 'Take': 847, 'Task': 848, 'Team': 849, 'Tech': 850, 'Technical': 851, 'Technology': 852, 'Tell': 853, 'Temple': 854, 'Ten': 855, 'Thai': 856, 'Thailand': 857, 'Thank': 858, 'Thanks': 859, 'That': 860, 'The': 861, 'Their': 862, 'Then': 863, 'There': 864, 'Therefore': 865, 'These': 866, 'They': 867, 'Things': 868, 'Third': 869, 'Thirdly': 870, 'This': 871, 'Those': 872, 'Three': 873, 'Through': 874, 'Thursday': 875, 'Thursdays': 876, 'Thus': 877, 'Times': 878, 'To': 879, 'Today': 880, 'Tokens': 881, 'Tokyo': 882, 'Tong': 883, 'Tongdosa': 884, 'Topics': 885, 'Touch': 886, 'Trade': 887, 'Trust': 888, 'Truth': 889, 'Try': 890, 'Tuesday': 891, 'Turkish': 892, 'UI': 893, 'UN': 894, 'US': 895, 'USA': 896, 'USB': 897, 'USBs': 898, 'Ukraine': 899, 'Ulsan': 900, 'Ultimately': 901, 'Under': 902, 'Unfortunately': 903, 'United': 904, 'Universal': 905, 'University': 906, 'Unless': 907, 'Unlike': 908, 'Until': 909, 'Upon': 910, 'Users': 911, 'Using': 912, 'Usually': 913, 'VC': 914, 'VIP': 915, 'VPN': 916, 'VR': 917, 'VVIP': 918, 'Vacationing': 919, 'Various': 920, 'Vegetables': 921, 'Venezuela': 922, 'Very': 923, 'Vietnam': 924, 'View': 925, 'Virtual': 926, 'Visual': 927, 'Visualization': 928, 'WIFI': 929, 'WTO': 930, 'Wait': 931, 'Was': 932, 'We': 933, 'Webcasting': 934, 'Wednesday': 935, 'Welcome': 936, 'Well': 937, 'Were': 938, 'Weren': 939, 'What': 940, 'Whatever': 941, 'WhatsApp': 942, 'When': 943, 'Where': 944, 'Which': 945, 'While': 946, 'Who': 947, 'Whom': 948, 'Why': 949, 'Wi': 950, 'Will': 951, 'Wishing': 952, 'With': 953, 'Without': 954, 'Won': 955, 'Wonderful': 956, 'Wonju': 957, 'Would': 958, 'Wouldn': 959, 'Wow': 960, 'X': 961, 'Yeah': 962, 'Yebool': 963, 'Yellowknife': 964, 'Yes': 965, 'Yet': 966, 'York': 967, 'Yorkshire': 968, 'You': 969, 'Your': 970, 'Yukhoe': 971, 'Yup': 972, 'Zealand': 973, 'a': 974, 'abbreviation': 975, 'ability': 976, 'able': 977, 'about': 978, 'above': 979, 'abroad': 980, 'absent': 981, 'absolutely': 982, 'absorption': 983, 'academe': 984, 'academic': 985, 'accelerate': 986, 'accept': 987, 'acceptable': 988, 'acceptance': 989, 'accepted': 990, 'accepting': 991, 'access': 992, 'accessed': 993, 'accessibility': 994, 'accessible': 995, 'accessing': 996, 'accessories': 997, 'accidental': 998, 'accidentally': 999, 'accidents': 1000, 'accommodate': 1001, 'accommodating': 1002, 'accommodation': 1003, 'accommodations': 1004, 'accomodating': 1005, 'accomplish': 1006, 'accomplished': 1007, 'accordance': 1008, 'according': 1009, 'accordingly': 1010, 'account': 1011, 'accountancy': 1012, 'accountant': 1013, 'accounted': 1014, 'accounting': 1015, 'accounts': 1016, 'accrual': 1017, 'accumulated': 1018, 'accuracy': 1019, 'accurate': 1020, 'accurately': 1021, 'achieve': 1022, 'achieved': 1023, 'achievement': 1024, 'achievements': 1025, 'achieving': 1026, 'acknowledge': 1027, 'acne': 1028, 'acoustic': 1029, 'acoustics': 1030, 'acquaint': 1031, 'acquire': 1032, 'acquired': 1033, 'acquiring': 1034, 'acquisition': 1035, 'across': 1036, 'act': 1037, 'action': 1038, 'actions': 1039, 'activate': 1040, 'activated': 1041, 'active': 1042, 'activities': 1043, 'activity': 1044, 'actors': 1045, 'actual': 1046, 'actualize': 1047, 'actually': 1048, 'acute': 1049, 'ad': 1050, 'adaptations': 1051, 'adapter': 1052, 'adaptive': 1053, 'adaptor': 1054, 'adaptors': 1055, 'add': 1056, 'added': 1057, 'addendum': 1058, 'adding': 1059, 'addition': 1060, 'additional': 1061, 'address': 1062, 'addressed': 1063, 'addresses': 1064, 'addressing': 1065, 'adequately': 1066, 'adhere': 1067, 'adhesive': 1068, 'adjust': 1069, 'adjustable': 1070, 'adjusted': 1071, 'adjustment': 1072, 'adjustments': 1073, 'administration': 1074, 'administrative': 1075, 'administrators': 1076, 'admission': 1077, 'adopt': 1078, 'ads': 1079, 'adult': 1080, 'adults': 1081, 'advance': 1082, 'advanced': 1083, 'advancement': 1084, 'advancing': 1085, 'advantage': 1086, 'advantageous': 1087, 'advantages': 1088, 'adventure': 1089, 'advertise': 1090, 'advertisement': 1091, 'advertisements': 1092, 'advertising': 1093, 'adverts': 1094, 'advice': 1095, 'advisable': 1096, 'advise': 1097, 'advised': 1098, 'advisers': 1099, 'advises': 1100, 'advisor': 1101, 'advisory': 1102, 'aesthetic': 1103, 'affairs': 1104, 'affect': 1105, 'affected': 1106, 'affecting': 1107, 'affects': 1108, 'affiliate': 1109, 'affiliated': 1110, 'affluent': 1111, 'afford': 1112, 'affordability': 1113, 'affordable': 1114, 'afloat': 1115, 'aforementioned': 1116, 'afraid': 1117, 'after': 1118, 'afternoon': 1119, 'afterward': 1120, 'again': 1121, 'against': 1122, 'age': 1123, 'aged': 1124, 'agencies': 1125, 'agency': 1126, 'agenda': 1127, 'agent': 1128, 'ages': 1129, 'ago': 1130, 'agree': 1131, 'agreed': 1132, 'agreeing': 1133, 'agreement': 1134, 'agrees': 1135, 'agricultural': 1136, 'agriculture': 1137, 'ahead': 1138, 'aid': 1139, 'aids': 1140, 'aim': 1141, 'aims': 1142, 'air': 1143, 'aircraft': 1144, 'airing': 1145, 'airlines': 1146, 'airport': 1147, 'airports': 1148, 'airtime': 1149, 'alarm': 1150, 'albeit': 1151, 'album': 1152, 'albums': 1153, 'alcohol': 1154, 'alcoholic': 1155, 'alert': 1156, 'algorithm': 1157, 'algorithms': 1158, 'aligned': 1159, 'alkaline': 1160, 'all': 1161, 'allegations': 1162, 'allergic': 1163, 'allergies': 1164, 'alliance': 1165, 'allocate': 1166, 'allocation': 1167, 'allocations': 1168, 'allow': 1169, 'allowed': 1170, 'allowing': 1171, 'allows': 1172, 'almost': 1173, 'alone': 1174, 'along': 1175, 'already': 1176, 'alright': 1177, 'also': 1178, 'alternative': 1179, 'alternatives': 1180, 'although': 1181, 'aluminum': 1182, 'always': 1183, 'am': 1184, 'amazing': 1185, 'ambassador': 1186, 'ambiance': 1187, 'ambulation': 1188, 'ambulatory': 1189, 'amend': 1190, 'amends': 1191, 'amenities': 1192, 'amenity': 1193, 'among': 1194, 'amongst': 1195, 'amount': 1196, 'amounted': 1197, 'amounts': 1198, 'amplifier': 1199, 'amplify': 1200, 'an': 1201, 'analysis': 1202, 'analytics': 1203, 'analyze': 1204, 'analyzing': 1205, 'anchor': 1206, 'ancient': 1207, 'and': 1208, 'android': 1209, 'angel': 1210, 'angle': 1211, 'angry': 1212, 'animal': 1213, 'animated': 1214, 'animations': 1215, 'animators': 1216, 'ankle': 1217, 'anniversary': 1218, 'announce': 1219, 'announcement': 1220, 'announcements': 1221, 'announcers': 1222, 'annual': 1223, 'annually': 1224, 'annum': 1225, 'another': 1226, 'answer': 1227, 'answered': 1228, 'answering': 1229, 'antenna': 1230, 'antivirus': 1231, 'any': 1232, 'anybody': 1233, 'anymore': 1234, 'anyone': 1235, 'anything': 1236, 'anytime': 1237, 'anyway': 1238, 'anywhere': 1239, 'apart': 1240, 'apartment': 1241, 'apartments': 1242, 'apologies': 1243, 'apologize': 1244, 'apology': 1245, 'app': 1246, 'apparent': 1247, 'appeal': 1248, 'appealing': 1249, 'appeals': 1250, 'appear': 1251, 'appearance': 1252, 'appeared': 1253, 'appears': 1254, 'appended': 1255, 'appetizer': 1256, 'apple': 1257, 'appliances': 1258, 'applicable': 1259, 'application': 1260, 'applications': 1261, 'applied': 1262, 'applies': 1263, 'apply': 1264, 'applying': 1265, 'appointment': 1266, 'appraisal': 1267, 'appreciate': 1268, 'appreciated': 1269, 'appreciating': 1270, 'appreciation': 1271, 'approach': 1272, 'approached': 1273, 'appropriate': 1274, 'appropriately': 1275, 'approval': 1276, 'approve': 1277, 'approved': 1278, 'approximately': 1279, 'apps': 1280, 'aprtner': 1281, 'architectural': 1282, 'architecture': 1283, 'archives': 1284, 'are': 1285, 'area': 1286, 'areas': 1287, 'aren': 1288, 'arena': 1289, 'arises': 1290, 'aromatherapy': 1291, 'around': 1292, 'arrange': 1293, 'arranged': 1294, 'arrangement': 1295, 'arrangements': 1296, 'arranger': 1297, 'arrangers': 1298, 'arranging': 1299, 'array': 1300, 'arrival': 1301, 'arrive': 1302, 'arrived': 1303, 'arriving': 1304, 'art': 1305, 'article': 1306, 'articles': 1307, 'artificial': 1308, 'artillery': 1309, 'artist': 1310, 'artists': 1311, 'arts': 1312, 'artwork': 1313, 'artworks': 1314, 'as': 1315, 'asap': 1316, 'ashamed': 1317, 'aside': 1318, 'ask': 1319, 'asked': 1320, 'asking': 1321, 'asks': 1322, 'asleep': 1323, 'asparagus': 1324, 'aspect': 1325, 'aspects': 1326, 'asphalt': 1327, 'assembly': 1328, 'assessing': 1329, 'assessment': 1330, 'asset': 1331, 'assets': 1332, 'assign': 1333, 'assigned': 1334, 'assist': 1335, 'assistance': 1336, 'assistant': 1337, 'assisting': 1338, 'assistive': 1339, 'associate': 1340, 'associated': 1341, 'associates': 1342, 'association': 1343, 'assumed': 1344, 'assuming': 1345, 'assurance': 1346, 'assure': 1347, 'assured': 1348, 'assures': 1349, 'assuring': 1350, 'at': 1351, 'ate': 1352, 'atmosphere': 1353, 'attach': 1354, 'attached': 1355, 'attack': 1356, 'attacks': 1357, 'attain': 1358, 'attains': 1359, 'attempted': 1360, 'attend': 1361, 'attendance': 1362, 'attended': 1363, 'attending': 1364, 'attention': 1365, 'attest': 1366, 'attorney': 1367, 'attract': 1368, 'attracted': 1369, 'attributes': 1370, 'attrition': 1371, 'audience': 1372, 'audiences': 1373, 'audio': 1374, 'audiovisual': 1375, 'audit': 1376, 'audited': 1377, 'auditing': 1378, 'authentic': 1379, 'author': 1380, 'authored': 1381, 'authorities': 1382, 'authority': 1383, 'authorization': 1384, 'authorized': 1385, 'authors': 1386, 'auto': 1387, 'autobiographies': 1388, 'autoclave': 1389, 'automate': 1390, 'automated': 1391, 'automatic': 1392, 'automatically': 1393, 'automation': 1394, 'automobile': 1395, 'automotive': 1396, 'autumn': 1397, 'auxiliary': 1398, 'avail': 1399, 'availability': 1400, 'available': 1401, 'availed': 1402, 'availing': 1403, 'avenue': 1404, 'average': 1405, 'avoid': 1406, 'await': 1407, 'awake': 1408, 'awarded': 1409, 'aware': 1410, 'awareness': 1411, 'away': 1412, 'awesome': 1413, 'ay': 1414, 'babies': 1415, 'baby': 1416, 'back': 1417, 'backdrops': 1418, 'backers': 1419, 'background': 1420, 'backgrounds': 1421, 'backhoe': 1422, 'backing': 1423, 'backlinks': 1424, 'backlog': 1425, 'backup': 1426, 'backward': 1427, 'backyard': 1428, 'bacteria': 1429, 'bad': 1430, 'baffling': 1431, 'baker': 1432, 'bakery': 1433, 'baking': 1434, 'balance': 1435, 'ball': 1436, 'ballpark': 1437, 'bamboo': 1438, 'ban': 1439, 'banana': 1440, 'banchan': 1441, 'band': 1442, 'bands': 1443, 'bandwidth': 1444, 'bank': 1445, 'banker': 1446, 'banking': 1447, 'bankruptcy': 1448, 'banks': 1449, 'banner': 1450, 'banners': 1451, 'banquet': 1452, 'bar': 1453, 'barbecue': 1454, 'barbeque': 1455, 'bare': 1456, 'barely': 1457, 'bargain': 1458, 'barrier': 1459, 'bars': 1460, 'base': 1461, 'based': 1462, 'basement': 1463, 'basic': 1464, 'basically': 1465, 'basics': 1466, 'basis': 1467, 'bass': 1468, 'batch': 1469, 'bath': 1470, 'bathhouses': 1471, 'bathroom': 1472, 'bathrooms': 1473, 'baths': 1474, 'bathtub': 1475, 'batteries': 1476, 'battery': 1477, 'battling': 1478, 'bay': 1479, 'be': 1480, 'beach': 1481, 'beaches': 1482, 'beachside': 1483, 'beakers': 1484, 'beam': 1485, 'bean': 1486, 'bear': 1487, 'bearer': 1488, 'bearing': 1489, 'beats': 1490, 'beautiful': 1491, 'beauty': 1492, 'became': 1493, 'because': 1494, 'become': 1495, 'becomes': 1496, 'becoming': 1497, 'bed': 1498, 'bedroom': 1499, 'bedrooms': 1500, 'beds': 1501, 'beef': 1502, 'been': 1503, 'beeps': 1504, 'beer': 1505, 'before': 1506, 'beforehand': 1507, 'beg': 1508, 'began': 1509, 'begging': 1510, 'begin': 1511, 'beginning': 1512, 'behalf': 1513, 'behavior': 1514, 'behind': 1515, 'being': 1516, 'believe': 1517, 'believes': 1518, 'belly': 1519, 'belongs': 1520, 'below': 1521, 'belts': 1522, 'benchtop': 1523, 'bending': 1524, 'beneficial': 1525, 'beneficiaries': 1526, 'benefit': 1527, 'benefits': 1528, 'bento': 1529, 'berthing': 1530, 'beside': 1531, 'besides': 1532, 'best': 1533, 'bet': 1534, 'beta': 1535, 'better': 1536, 'between': 1537, 'bevel': 1538, 'beverage': 1539, 'beverages': 1540, 'beyond': 1541, 'biannual': 1542, 'bibimbap': 1543, 'bibimnaengmyun': 1544, 'bid': 1545, 'bidding': 1546, 'big': 1547, 'bigger': 1548, 'biggest': 1549, 'bikes': 1550, 'bill': 1551, 'billboards': 1552, 'billed': 1553, 'billing': 1554, 'billion': 1555, 'bills': 1556, 'bins': 1557, 'biodata': 1558, 'biodegradable': 1559, 'biometrics': 1560, 'bird': 1561, 'birds': 1562, 'birthday': 1563, 'biryani': 1564, 'biscuits': 1565, 'bistro': 1566, 'bit': 1567, 'bitcoin': 1568, 'bite': 1569, 'black': 1570, 'blackout': 1571, 'blades': 1572, 'blanks': 1573, 'blending': 1574, 'blends': 1575, 'blessed': 1576, 'blind': 1577, 'blinking': 1578, 'bliss': 1579, 'block': 1580, 'blockchain': 1581, 'blog': 1582, 'blood': 1583, 'blow': 1584, 'blown': 1585, 'blue': 1586, 'blueprint': 1587, 'blurry': 1588, 'board': 1589, 'boarding': 1590, 'boards': 1591, 'boats': 1592, 'bodies': 1593, 'body': 1594, 'bodysuit': 1595, 'bohemian': 1596, 'boiled': 1597, 'boiling': 1598, 'bokkeum': 1599, 'bold': 1600, 'bolder': 1601, 'bond': 1602, 'bonding': 1603, 'bonds': 1604, 'book': 1605, 'booked': 1606, 'booking': 1607, 'bookings': 1608, 'bookrunners': 1609, 'books': 1610, 'bookstores': 1611, 'boom': 1612, 'boost': 1613, 'booting': 1614, 'boots': 1615, 'border': 1616, 'bore': 1617, 'bored': 1618, 'boring': 1619, 'born': 1620, 'borrow': 1621, 'borrower': 1622, 'borrowing': 1623, 'boss': 1624, 'bot': 1625, 'both': 1626, 'bothering': 1627, 'bottle': 1628, 'bottles': 1629, 'bottom': 1630, 'bought': 1631, 'bow': 1632, 'bowl': 1633, 'bowls': 1634, 'box': 1635, 'boxes': 1636, 'boy': 1637, 'bragging': 1638, 'braille': 1639, 'brainstorm': 1640, 'brake': 1641, 'branch': 1642, 'branches': 1643, 'brand': 1644, 'branded': 1645, 'branding': 1646, 'brands': 1647, 'brave': 1648, 'breach': 1649, 'breached': 1650, 'breaches': 1651, 'bread': 1652, 'break': 1653, 'breakdown': 1654, 'breakdowns': 1655, 'breakeven': 1656, 'breakfast': 1657, 'breast': 1658, 'breathing': 1659, 'breathtaking': 1660, 'breeding': 1661, 'breeze': 1662, 'brewed': 1663, 'bride': 1664, 'bridge': 1665, 'brief': 1666, 'briefing': 1667, 'brilliant': 1668, 'bring': 1669, 'bringer': 1670, 'bringing': 1671, 'brings': 1672, 'broadband': 1673, 'broadcast': 1674, 'broadcasted': 1675, 'broadcasting': 1676, 'brochure': 1677, 'brochures': 1678, 'broken': 1679, 'broker': 1680, 'brokerage': 1681, 'brokerages': 1682, 'brokers': 1683, 'bronze': 1684, 'broth': 1685, 'brother': 1686, 'brought': 1687, 'browse': 1688, 'browser': 1689, 'browsers': 1690, 'browsing': 1691, 'bubble': 1692, 'bucks': 1693, 'budget': 1694, 'buffet': 1695, 'bug': 1696, 'bugs': 1697, 'build': 1698, 'building': 1699, 'builds': 1700, 'built': 1701, 'bulgogi': 1702, 'bulk': 1703, 'bull': 1704, 'bulldozer': 1705, 'bunch': 1706, 'bundle': 1707, 'burners': 1708, 'bus': 1709, 'buses': 1710, 'business': 1711, 'businesses': 1712, 'businessman': 1713, 'businesswoman': 1714, 'busy': 1715, 'but': 1716, 'butterfly': 1717, 'button': 1718, 'buttons': 1719, 'buy': 1720, 'buyer': 1721, 'buyers': 1722, 'buying': 1723, 'by': 1724, 'bye': 1725, 'bytes': 1726, 'cabin': 1727, 'cabinets': 1728, 'cable': 1729, 'caching': 1730, 'caf': 1731, 'cafe': 1732, 'cafeteria': 1733, 'cake': 1734, 'calculate': 1735, 'calculated': 1736, 'calculations': 1737, 'calendar': 1738, 'call': 1739, 'called': 1740, 'calligraphy': 1741, 'calling': 1742, 'calls': 1743, 'calm': 1744, 'calming': 1745, 'cam': 1746, 'came': 1747, 'camera': 1748, 'cameras': 1749, 'camp': 1750, 'campaign': 1751, 'campaigns': 1752, 'camper': 1753, 'campfire': 1754, 'campground': 1755, 'camping': 1756, 'campsite': 1757, 'campsites': 1758, 'campus': 1759, 'can': 1760, 'cancel': 1761, 'cancelation': 1762, 'cancelations': 1763, 'canceled': 1764, 'canceling': 1765, 'cancellation': 1766, 'cancellations': 1767, 'cancelled': 1768, 'candies': 1769, 'candles': 1770, 'cannot': 1771, 'canteen': 1772, 'cap': 1773, 'capable': 1774, 'capacity': 1775, 'capital': 1776, 'capitalists': 1777, 'capture': 1778, 'capturing': 1779, 'car': 1780, 'carbon': 1781, 'carburetor': 1782, 'carburetors': 1783, 'card': 1784, 'cardiac': 1785, 'cards': 1786, 'care': 1787, 'career': 1788, 'careers': 1789, 'careful': 1790, 'carefully': 1791, 'cargo': 1792, 'carpeted': 1793, 'carried': 1794, 'carrier': 1795, 'carrot': 1796, 'carry': 1797, 'carrying': 1798, 'cars': 1799, 'cart': 1800, 'carton': 1801, 'cartoon': 1802, 'carts': 1803, 'case': 1804, 'cases': 1805, 'cash': 1806, 'cashier': 1807, 'cashless': 1808, 'casino': 1809, 'cast': 1810, 'casual': 1811, 'casualties': 1812, 'cat': 1813, 'catalog': 1814, 'catalogue': 1815, 'catastrophe': 1816, 'catch': 1817, 'categories': 1818, 'category': 1819, 'cater': 1820, 'caterers': 1821, 'catering': 1822, 'caterpillar': 1823, 'caught': 1824, 'cause': 1825, 'caused': 1826, 'causes': 1827, 'causing': 1828, 'cautious': 1829, 'cautiously': 1830, 'ceiling': 1831, 'ceilings': 1832, 'celebrate': 1833, 'celebration': 1834, 'celebrities': 1835, 'celebrity': 1836, 'celeriac': 1837, 'cell': 1838, 'center': 1839, 'centers': 1840, 'centimeter': 1841, 'centrifugal': 1842, 'centrifuge': 1843, 'centrifuges': 1844, 'cents': 1845, 'century': 1846, 'ceremonies': 1847, 'ceremony': 1848, 'certain': 1849, 'certainly': 1850, 'certificate': 1851, 'certificates': 1852, 'certification': 1853, 'certified': 1854, 'chain': 1855, 'chair': 1856, 'chairman': 1857, 'chairs': 1858, 'challenge': 1859, 'challenged': 1860, 'challenges': 1861, 'challenging': 1862, 'chamber': 1863, 'champagne': 1864, 'chance': 1865, 'chances': 1866, 'change': 1867, 'changed': 1868, 'changes': 1869, 'changing': 1870, 'channel': 1871, 'channels': 1872, 'chapbooks': 1873, 'characteristics': 1874, 'characters': 1875, 'charcoal': 1876, 'charge': 1877, 'charged': 1878, 'charger': 1879, 'charges': 1880, 'charging': 1881, 'charitable': 1882, 'charity': 1883, 'charm': 1884, 'chart': 1885, 'chasing': 1886, 'chat': 1887, 'chatroom': 1888, 'cheap': 1889, 'cheaper': 1890, 'cheapest': 1891, 'check': 1892, 'checked': 1893, 'checking': 1894, 'checklist': 1895, 'checkout': 1896, 'checks': 1897, 'checkup': 1898, 'cheerful': 1899, 'cheers': 1900, 'cheesecakes': 1901, 'chef': 1902, 'chefs': 1903, 'chemistry': 1904, 'cheque': 1905, 'chew': 1906, 'chicken': 1907, 'child': 1908, 'childhood': 1909, 'children': 1910, 'chili': 1911, 'chill': 1912, 'chilled': 1913, 'chimaek': 1914, 'chip': 1915, 'chips': 1916, 'chipsets': 1917, 'chitchat': 1918, 'chocolate': 1919, 'choice': 1920, 'choices': 1921, 'choose': 1922, 'choosing': 1923, 'chopstick': 1924, 'chopsticks': 1925, 'chores': 1926, 'chose': 1927, 'chosen': 1928, 'ciphertext': 1929, 'circuits': 1930, 'circulation': 1931, 'circumstance': 1932, 'circumstances': 1933, 'cities': 1934, 'citizen': 1935, 'citizens': 1936, 'citizenship': 1937, 'city': 1938, 'civil': 1939, 'claim': 1940, 'claiming': 1941, 'claims': 1942, 'clarify': 1943, 'clarifying': 1944, 'clarity': 1945, 'class': 1946, 'classes': 1947, 'classification': 1948, 'classmates': 1949, 'classroom': 1950, 'classrooms': 1951, 'clauses': 1952, 'clean': 1953, 'cleaner': 1954, 'cleaners': 1955, 'cleaning': 1956, 'cleansing': 1957, 'clear': 1958, 'clearance': 1959, 'cleared': 1960, 'clearer': 1961, 'clearly': 1962, 'clerk': 1963, 'clever': 1964, 'click': 1965, 'client': 1966, 'clientele': 1967, 'clients': 1968, 'climate': 1969, 'clinic': 1970, 'clinical': 1971, 'clip': 1972, 'clips': 1973, 'clock': 1974, 'clogged': 1975, 'close': 1976, 'closed': 1977, 'closely': 1978, 'closer': 1979, 'closes': 1980, 'closest': 1981, 'closet': 1982, 'closing': 1983, 'clothes': 1984, 'clothing': 1985, 'cloud': 1986, 'clouds': 1987, 'clubhouse': 1988, 'cluster': 1989, 'co': 1990, 'coach': 1991, 'coaches': 1992, 'coaching': 1993, 'coarrangers': 1994, 'coastal': 1995, 'cocks': 1996, 'cocktails': 1997, 'coconut': 1998, 'code': 1999, 'codebreaker': 2000, 'codes': 2001, 'coding': 2002, 'coffee': 2003, 'cogent': 2004, 'coins': 2005, 'cold': 2006, 'coliving': 2007, 'collaborate': 2008, 'collaborating': 2009, 'collaboration': 2010, 'collar': 2011, 'collateral': 2012, 'colleague': 2013, 'colleagues': 2014, 'collect': 2015, 'collectibles': 2016, 'collecting': 2017, 'collection': 2018, 'collective': 2019, 'collects': 2020, 'college': 2021, 'colleges': 2022, 'color': 2023, 'colored': 2024, 'colors': 2025, 'column': 2026, 'combination': 2027, 'combinations': 2028, 'combine': 2029, 'combustion': 2030, 'come': 2031, 'comes': 2032, 'comfort': 2033, 'comfortable': 2034, 'comfortably': 2035, 'coming': 2036, 'comm': 2037, 'commemorative': 2038, 'comment': 2039, 'comments': 2040, 'commerce': 2041, 'commercial': 2042, 'commission': 2043, 'commissioned': 2044, 'commissions': 2045, 'commit': 2046, 'commitment': 2047, 'commitments': 2048, 'committed': 2049, 'commodity': 2050, 'common': 2051, 'commonly': 2052, 'communal': 2053, 'communicate': 2054, 'communicated': 2055, 'communicating': 2056, 'communication': 2057, 'communications': 2058, 'communicative': 2059, 'communicator': 2060, 'communities': 2061, 'community': 2062, 'commuting': 2063, 'companies': 2064, 'company': 2065, 'compare': 2066, 'compared': 2067, 'comparison': 2068, 'compartments': 2069, 'compassionate': 2070, 'compatible': 2071, 'compelling': 2072, 'compensate': 2073, 'compensated': 2074, 'compensation': 2075, 'compete': 2076, 'competition': 2077, 'competitive': 2078, 'competitiveness': 2079, 'competitors': 2080, 'compiling': 2081, 'complain': 2082, 'complained': 2083, 'complaining': 2084, 'complaint': 2085, 'complaints': 2086, 'complete': 2087, 'completed': 2088, 'completely': 2089, 'completion': 2090, 'complex': 2091, 'compliance': 2092, 'complicated': 2093, 'complied': 2094, 'compliment': 2095, 'complimentary': 2096, 'compliments': 2097, 'comply': 2098, 'component': 2099, 'components': 2100, 'composed': 2101, 'composer': 2102, 'compound': 2103, 'comprehension': 2104, 'comprehensive': 2105, 'compressed': 2106, 'compression': 2107, 'compressor': 2108, 'compressors': 2109, 'compromise': 2110, 'compromising': 2111, 'computer': 2112, 'computers': 2113, 'computing': 2114, 'concentrate': 2115, 'concept': 2116, 'concepts': 2117, 'conceptual': 2118, 'concern': 2119, 'concerned': 2120, 'concerning': 2121, 'concerns': 2122, 'concert': 2123, 'concerts': 2124, 'concessions': 2125, 'conclusion': 2126, 'concrete': 2127, 'concretely': 2128, 'condenser': 2129, 'condiments': 2130, 'condition': 2131, 'conditioned': 2132, 'conditioner': 2133, 'conditioning': 2134, 'conditions': 2135, 'condo': 2136, 'conduct': 2137, 'conducted': 2138, 'conducting': 2139, 'conductors': 2140, 'conference': 2141, 'conferences': 2142, 'conferencing': 2143, 'confidence': 2144, 'confident': 2145, 'confidential': 2146, 'confidentiality': 2147, 'configurations': 2148, 'configure': 2149, 'confirm': 2150, 'confirmation': 2151, 'confirmed': 2152, 'confirming': 2153, 'confused': 2154, 'congested': 2155, 'congestion': 2156, 'congrats': 2157, 'congratulate': 2158, 'congratulations': 2159, 'connect': 2160, 'connected': 2161, 'connecting': 2162, 'connection': 2163, 'connections': 2164, 'connectivity': 2165, 'connects': 2166, 'cons': 2167, 'conscientious': 2168, 'conscious': 2169, 'consciousness': 2170, 'consequences': 2171, 'consider': 2172, 'considerable': 2173, 'consideration': 2174, 'considered': 2175, 'considering': 2176, 'consignment': 2177, 'consist': 2178, 'consistent': 2179, 'consists': 2180, 'consoles': 2181, 'consolidate': 2182, 'constant': 2183, 'constantly': 2184, 'construct': 2185, 'constructed': 2186, 'construction': 2187, 'constructive': 2188, 'consult': 2189, 'consultancy': 2190, 'consultant': 2191, 'consultants': 2192, 'consultation': 2193, 'consulted': 2194, 'consulting': 2195, 'consume': 2196, 'consumers': 2197, 'consuming': 2198, 'consumption': 2199, 'contact': 2200, 'contacted': 2201, 'contacting': 2202, 'contacts': 2203, 'contain': 2204, 'container': 2205, 'containers': 2206, 'containing': 2207, 'contains': 2208, 'contemplate': 2209, 'contemporary': 2210, 'contenders': 2211, 'content': 2212, 'contents': 2213, 'context': 2214, 'continent': 2215, 'continental': 2216, 'continue': 2217, 'continuous': 2218, 'continuously': 2219, 'contract': 2220, 'contracted': 2221, 'contracts': 2222, 'contrary': 2223, 'contribute': 2224, 'contributed': 2225, 'contributes': 2226, 'contribution': 2227, 'contributors': 2228, 'control': 2229, 'controlled': 2230, 'controversial': 2231, 'convenience': 2232, 'convenient': 2233, 'conventional': 2234, 'conversation': 2235, 'conversational': 2236, 'conversations': 2237, 'conversion': 2238, 'conversions': 2239, 'converted': 2240, 'converting': 2241, 'convey': 2242, 'conveyor': 2243, 'conveyors': 2244, 'convince': 2245, 'convincing': 2246, 'cook': 2247, 'cooked': 2248, 'cookies': 2249, 'cooking': 2250, 'cooks': 2251, 'cool': 2252, 'cooldown': 2253, 'coolers': 2254, 'cooling': 2255, 'cooperation': 2256, 'cooperative': 2257, 'cooperatives': 2258, 'coordinate': 2259, 'coordinates': 2260, 'copay': 2261, 'copiers': 2262, 'copies': 2263, 'copy': 2264, 'copyediting': 2265, 'copyright': 2266, 'copyrighted': 2267, 'copyrights': 2268, 'cords': 2269, 'core': 2270, 'corkage': 2271, 'corn': 2272, 'corner': 2273, 'coronavirus': 2274, 'corporate': 2275, 'corporation': 2276, 'corporations': 2277, 'correct': 2278, 'correctly': 2279, 'cosigner': 2280, 'cosmetic': 2281, 'cosmetics': 2282, 'cosmic': 2283, 'cost': 2284, 'costs': 2285, 'cotton': 2286, 'could': 2287, 'couldn': 2288, 'council': 2289, 'counseling': 2290, 'count': 2291, 'countdown': 2292, 'counterpart': 2293, 'counting': 2294, 'countries': 2295, 'country': 2296, 'countryside': 2297, 'couple': 2298, 'coupled': 2299, 'coupon': 2300, 'courier': 2301, 'course': 2302, 'coursed': 2303, 'courses': 2304, 'court': 2305, 'cousin': 2306, 'cover': 2307, 'coverage': 2308, 'covered': 2309, 'covers': 2310, 'cozy': 2311, 'crab': 2312, 'cracks': 2313, 'crane': 2314, 'cranes': 2315, 'crash': 2316, 'crashed': 2317, 'crashing': 2318, 'cream': 2319, 'create': 2320, 'created': 2321, 'creates': 2322, 'creating': 2323, 'creation': 2324, 'creative': 2325, 'creatives': 2326, 'creator': 2327, 'creators': 2328, 'credentials': 2329, 'credit': 2330, 'credited': 2331, 'creditor': 2332, 'creditors': 2333, 'credits': 2334, 'creditworthy': 2335, 'crib': 2336, 'crime': 2337, 'crimes': 2338, 'criminals': 2339, 'criteria': 2340, 'critical': 2341, 'critics': 2342, 'croissants': 2343, 'crooks': 2344, 'crop': 2345, 'crops': 2346, 'cross': 2347, 'crossed': 2348, 'crowd': 2349, 'crowdfunding': 2350, 'crucial': 2351, 'crude': 2352, 'crux': 2353, 'crypto': 2354, 'cryptocurrencies': 2355, 'cryptocurrency': 2356, 'cryptography': 2357, 'cues': 2358, 'cuisine': 2359, 'culinary': 2360, 'culprits': 2361, 'cultivating': 2362, 'cultural': 2363, 'culture': 2364, 'cumbersome': 2365, 'cup': 2366, 'curious': 2367, 'currencies': 2368, 'currency': 2369, 'current': 2370, 'currently': 2371, 'cursive': 2372, 'curtains': 2373, 'curve': 2374, 'cushion': 2375, 'custom': 2376, 'customer': 2377, 'customers': 2378, 'customizable': 2379, 'customization': 2380, 'customize': 2381, 'customized': 2382, 'customs': 2383, 'cut': 2384, 'cutlery': 2385, 'cuts': 2386, 'cutter': 2387, 'cutters': 2388, 'cutting': 2389, 'cyber': 2390, 'cybercrime': 2391, 'cybersecurity': 2392, 'cycle': 2393, 'cylinder': 2394, 'cylinders': 2395, 'd': 2396, 'daily': 2397, 'dairy': 2398, 'damage': 2399, 'damaged': 2400, 'damages': 2401, 'dancing': 2402, 'dangerous': 2403, 'dangers': 2404, 'dark': 2405, 'data': 2406, 'database': 2407, 'date': 2408, 'dated': 2409, 'dates': 2410, 'dating': 2411, 'daunting': 2412, 'day': 2413, 'days': 2414, 'deadline': 2415, 'deadlines': 2416, 'deaf': 2417, 'deal': 2418, 'dealer': 2419, 'dealers': 2420, 'dealership': 2421, 'dealing': 2422, 'deals': 2423, 'debit': 2424, 'debt': 2425, 'debtee': 2426, 'debtor': 2427, 'debtors': 2428, 'debts': 2429, 'debut': 2430, 'decade': 2431, 'decades': 2432, 'decent': 2433, 'decide': 2434, 'decided': 2435, 'decides': 2436, 'deciding': 2437, 'decision': 2438, 'decisions': 2439, 'deck': 2440, 'decks': 2441, 'declare': 2442, 'decline': 2443, 'declined': 2444, 'declining': 2445, 'decode': 2446, 'decorate': 2447, 'decorations': 2448, 'decrease': 2449, 'decryption': 2450, 'dedicate': 2451, 'dedicated': 2452, 'deduct': 2453, 'deducted': 2454, 'deducting': 2455, 'deeds': 2456, 'deep': 2457, 'deeply': 2458, 'default': 2459, 'defaulter': 2460, 'defect': 2461, 'defective': 2462, 'defects': 2463, 'defense': 2464, 'deficit': 2465, 'deficits': 2466, 'defined': 2467, 'definite': 2468, 'definitely': 2469, 'definition': 2470, 'degree': 2471, 'dehydration': 2472, 'delay': 2473, 'delayed': 2474, 'delays': 2475, 'delegates': 2476, 'delete': 2477, 'deleted': 2478, 'delicious': 2479, 'delight': 2480, 'delighted': 2481, 'delightful': 2482, 'delineates': 2483, 'deliver': 2484, 'delivered': 2485, 'deliveries': 2486, 'delivering': 2487, 'delivers': 2488, 'delivery': 2489, 'deluxe': 2490, 'demand': 2491, 'demanded': 2492, 'demanding': 2493, 'demands': 2494, 'demat': 2495, 'demerits': 2496, 'demographics': 2497, 'demonstration': 2498, 'demos': 2499, 'dental': 2500, 'deny': 2501, 'department': 2502, 'departments': 2503, 'depend': 2504, 'dependable': 2505, 'dependents': 2506, 'depending': 2507, 'depends': 2508, 'deploy': 2509, 'deployment': 2510, 'deposit': 2511, 'deposited': 2512, 'depositing': 2513, 'deposits': 2514, 'derrick': 2515, 'describe': 2516, 'description': 2517, 'descriptions': 2518, 'deserve': 2519, 'design': 2520, 'designation': 2521, 'designed': 2522, 'designer': 2523, 'designers': 2524, 'designs': 2525, 'desire': 2526, 'desired': 2527, 'desk': 2528, 'desktop': 2529, 'desperately': 2530, 'despite': 2531, 'dessert': 2532, 'desserts': 2533, 'destination': 2534, 'destinations': 2535, 'destroys': 2536, 'detail': 2537, 'detailed': 2538, 'detailing': 2539, 'details': 2540, 'detected': 2541, 'detects': 2542, 'determine': 2543, 'determined': 2544, 'determines': 2545, 'determining': 2546, 'develop': 2547, 'developed': 2548, 'developer': 2549, 'developers': 2550, 'developing': 2551, 'development': 2552, 'developments': 2553, 'develops': 2554, 'deviate': 2555, 'device': 2556, 'devices': 2557, 'devoted': 2558, 'devoting': 2559, 'diagnosis': 2560, 'diagnostics': 2561, 'dial': 2562, 'dialed': 2563, 'diameter': 2564, 'did': 2565, 'didn': 2566, 'diesel': 2567, 'diet': 2568, 'dietary': 2569, 'differ': 2570, 'difference': 2571, 'differences': 2572, 'different': 2573, 'differentiates': 2574, 'differently': 2575, 'difficult': 2576, 'difficulties': 2577, 'difficulty': 2578, 'digital': 2579, 'digitalize': 2580, 'digits': 2581, 'diligence': 2582, 'diligently': 2583, 'dimension': 2584, 'dimensions': 2585, 'dine': 2586, 'dining': 2587, 'dinner': 2588, 'dinning': 2589, 'dip': 2590, 'diplomas': 2591, 'dipped': 2592, 'direct': 2593, 'directed': 2594, 'direction': 2595, 'directly': 2596, 'director': 2597, 'directors': 2598, 'disabilities': 2599, 'disabled': 2600, 'disagree': 2601, 'disappointed': 2602, 'disappointment': 2603, 'disaster': 2604, 'disasters': 2605, 'disc': 2606, 'discount': 2607, 'discounted': 2608, 'discounts': 2609, 'discover': 2610, 'discovered': 2611, 'discovery': 2612, 'discrepancies': 2613, 'discuss': 2614, 'discussed': 2615, 'discussing': 2616, 'discussion': 2617, 'discussions': 2618, 'disease': 2619, 'diseases': 2620, 'dish': 2621, 'dishe': 2622, 'dishes': 2623, 'dismantle': 2624, 'dispatch': 2625, 'dispatched': 2626, 'dispatching': 2627, 'dispersing': 2628, 'display': 2629, 'displayed': 2630, 'displaying': 2631, 'disposal': 2632, 'disputes': 2633, 'disruption': 2634, 'distance': 2635, 'distinct': 2636, 'distinction': 2637, 'distinguish': 2638, 'distract': 2639, 'distress': 2640, 'distribute': 2641, 'distributed': 2642, 'distributing': 2643, 'distribution': 2644, 'distributor': 2645, 'distributorship': 2646, 'district': 2647, 'disturb': 2648, 'disturbed': 2649, 'disturbing': 2650, 'diverse': 2651, 'diversify': 2652, 'diversity': 2653, 'diverting': 2654, 'divide': 2655, 'divided': 2656, 'dividend': 2657, 'division': 2658, 'do': 2659, 'doable': 2660, 'doctor': 2661, 'doctors': 2662, 'document': 2663, 'documentaries': 2664, 'documentary': 2665, 'documentation': 2666, 'documenting': 2667, 'documents': 2668, 'does': 2669, 'doesn': 2670, 'dog': 2671, 'dogs': 2672, 'doing': 2673, 'doings': 2674, 'doljanchi': 2675, 'dollar': 2676, 'dollars': 2677, 'domain': 2678, 'dome': 2679, 'domestic': 2680, 'don': 2681, 'donate': 2682, 'donation': 2683, 'donations': 2684, 'done': 2685, 'donut': 2686, 'door': 2687, 'doors': 2688, 'dorm': 2689, 'dormitory': 2690, 'dosirak': 2691, 'double': 2692, 'doubled': 2693, 'doubt': 2694, 'doubts': 2695, 'down': 2696, 'downhill': 2697, 'download': 2698, 'downloaded': 2699, 'downpayment': 2700, 'downs': 2701, 'downside': 2702, 'downtown': 2703, 'downturn': 2704, 'dozers': 2705, 'draft': 2706, 'drafted': 2707, 'drafting': 2708, 'drafts': 2709, 'drain': 2710, 'dramas': 2711, 'dramatically': 2712, 'draw': 2713, 'drawer': 2714, 'drawing': 2715, 'drawings': 2716, 'draws': 2717, 'dress': 2718, 'dressers': 2719, 'dressing': 2720, 'drilling': 2721, 'drink': 2722, 'drinking': 2723, 'drinks': 2724, 'drive': 2725, 'driven': 2726, 'driver': 2727, 'drivers': 2728, 'driving': 2729, 'drop': 2730, 'dropped': 2731, 'dropping': 2732, 'drops': 2733, 'drug': 2734, 'drum': 2735, 'dry': 2736, 'dryer': 2737, 'dual': 2738, 'dude': 2739, 'due': 2740, 'duly': 2741, 'dump': 2742, 'dumpling': 2743, 'duplicate': 2744, 'durable': 2745, 'duration': 2746, 'during': 2747, 'dust': 2748, 'duties': 2749, 'duty': 2750, 'dyeing': 2751, 'dying': 2752, 'e': 2753, 'each': 2754, 'eager': 2755, 'eagerly': 2756, 'earlier': 2757, 'earliest': 2758, 'early': 2759, 'earn': 2760, 'earnings': 2761, 'ears': 2762, 'earth': 2763, 'ease': 2764, 'eased': 2765, 'easier': 2766, 'easiest': 2767, 'easily': 2768, 'easing': 2769, 'easy': 2770, 'eat': 2771, 'eaten': 2772, 'eating': 2773, 'echo': 2774, 'eclectic': 2775, 'eco': 2776, 'economy': 2777, 'ecstatic': 2778, 'edge': 2779, 'edit': 2780, 'edited': 2781, 'editing': 2782, 'edition': 2783, 'editorial': 2784, 'editors': 2785, 'educate': 2786, 'educated': 2787, 'educating': 2788, 'education': 2789, 'educational': 2790, 'edutainment': 2791, 'effect': 2792, 'effective': 2793, 'effectively': 2794, 'effectiveness': 2795, 'effects': 2796, 'efficiency': 2797, 'efficient': 2798, 'efficiently': 2799, 'effort': 2800, 'efforts': 2801, 'egg': 2802, 'eggs': 2803, 'eight': 2804, 'either': 2805, 'ejection': 2806, 'elaborate': 2807, 'elder': 2808, 'elders': 2809, 'eldest': 2810, 'electric': 2811, 'electrical': 2812, 'electricity': 2813, 'electro': 2814, 'electroencephalography': 2815, 'electromagnetic': 2816, 'electronic': 2817, 'electronically': 2818, 'electronics': 2819, 'elegant': 2820, 'element': 2821, 'elements': 2822, 'elevated': 2823, 'eligibility': 2824, 'eligible': 2825, 'eliminate': 2826, 'elliptical': 2827, 'else': 2828, 'elsewhere': 2829, 'email': 2830, 'emailed': 2831, 'emailing': 2832, 'emails': 2833, 'embarrassed': 2834, 'embody': 2835, 'embossing': 2836, 'embroidery': 2837, 'emergencies': 2838, 'emergency': 2839, 'emerging': 2840, 'emotions': 2841, 'emphasis': 2842, 'employ': 2843, 'employed': 2844, 'employee': 2845, 'employees': 2846, 'employers': 2847, 'employing': 2848, 'empty': 2849, 'emulsion': 2850, 'enable': 2851, 'enabled': 2852, 'enables': 2853, 'encapsulation': 2854, 'encoded': 2855, 'encounter': 2856, 'encountered': 2857, 'encourage': 2858, 'encourages': 2859, 'encrypt': 2860, 'encrypted': 2861, 'encryption': 2862, 'end': 2863, 'endangering': 2864, 'ended': 2865, 'ending': 2866, 'ends': 2867, 'energy': 2868, 'enforce': 2869, 'enforced': 2870, 'enforcements': 2871, 'engage': 2872, 'engaged': 2873, 'engagements': 2874, 'engaging': 2875, 'engine': 2876, 'engineer': 2877, 'engineering': 2878, 'engineers': 2879, 'engines': 2880, 'enhance': 2881, 'enhanced': 2882, 'enhancement': 2883, 'enhances': 2884, 'enjoy': 2885, 'enjoyed': 2886, 'enjoying': 2887, 'enlighten': 2888, 'enlist': 2889, 'enormously': 2890, 'enough': 2891, 'enquire': 2892, 'enroll': 2893, 'enrolled': 2894, 'ensure': 2895, 'ensured': 2896, 'ensures': 2897, 'entail': 2898, 'enter': 2899, 'entered': 2900, 'entering': 2901, 'enterprise': 2902, 'enterprises': 2903, 'enters': 2904, 'entertain': 2905, 'entertained': 2906, 'entertaining': 2907, 'entertainment': 2908, 'entire': 2909, 'entirely': 2910, 'entitled': 2911, 'entity': 2912, 'entrance': 2913, 'entree': 2914, 'entrees': 2915, 'entrepreneur': 2916, 'entrepreneurship': 2917, 'entries': 2918, 'environment': 2919, 'environmental': 2920, 'environments': 2921, 'episode': 2922, 'episodes': 2923, 'equal': 2924, 'equals': 2925, 'equipment': 2926, 'equipments': 2927, 'equipped': 2928, 'equity': 2929, 'equivalent': 2930, 'erased': 2931, 'erecting': 2932, 'error': 2933, 'errors': 2934, 'escalated': 2935, 'escaping': 2936, 'especially': 2937, 'essential': 2938, 'essentially': 2939, 'establish': 2940, 'established': 2941, 'establishing': 2942, 'establishment': 2943, 'establishments': 2944, 'estate': 2945, 'estimate': 2946, 'estimated': 2947, 'estimates': 2948, 'etc': 2949, 'ethical': 2950, 'etiquette': 2951, 'evacuation': 2952, 'evading': 2953, 'evaluate': 2954, 'evaluated': 2955, 'evaluating': 2956, 'evaluation': 2957, 'evaporator': 2958, 'evasion': 2959, 'even': 2960, 'evening': 2961, 'event': 2962, 'events': 2963, 'eventuality': 2964, 'eventually': 2965, 'ever': 2966, 'every': 2967, 'everyday': 2968, 'everyone': 2969, 'everything': 2970, 'evidence': 2971, 'evidentiary': 2972, 'evil': 2973, 'evolution': 2974, 'evolved': 2975, 'evolving': 2976, 'exact': 2977, 'exactly': 2978, 'exam': 2979, 'examined': 2980, 'example': 2981, 'examples': 2982, 'exams': 2983, 'excavator': 2984, 'excavators': 2985, 'exceeded': 2986, 'exceeds': 2987, 'excellent': 2988, 'except': 2989, 'exceptional': 2990, 'excess': 2991, 'exchange': 2992, 'exchanges': 2993, 'exchanging': 2994, 'excited': 2995, 'exciting': 2996, 'exclude': 2997, 'excluding': 2998, 'exclusive': 2999, 'exclusively': 3000, 'excuse': 3001, 'excused': 3002, 'excuses': 3003, 'execute': 3004, 'executes': 3005, 'execution': 3006, 'executive': 3007, 'executives': 3008, 'executor': 3009, 'exerting': 3010, 'exhausted': 3011, 'exhibit': 3012, 'exhibition': 3013, 'exihibit': 3014, 'exist': 3015, 'existing': 3016, 'exit': 3017, 'exotic': 3018, 'expand': 3019, 'expandable': 3020, 'expanded': 3021, 'expanding': 3022, 'expansion': 3023, 'expat': 3024, 'expect': 3025, 'expectations': 3026, 'expected': 3027, 'expecting': 3028, 'expedition': 3029, 'expenditure': 3030, 'expenditures': 3031, 'expense': 3032, 'expenses': 3033, 'expensive': 3034, 'experience': 3035, 'experienced': 3036, 'experiences': 3037, 'experiencing': 3038, 'experimental': 3039, 'expert': 3040, 'expertise': 3041, 'experts': 3042, 'expire': 3043, 'expires': 3044, 'explain': 3045, 'explained': 3046, 'explaining': 3047, 'explains': 3048, 'explanation': 3049, 'explanations': 3050, 'exploration': 3051, 'explore': 3052, 'expo': 3053, 'export': 3054, 'exported': 3055, 'exporter': 3056, 'exporting': 3057, 'exports': 3058, 'exposes': 3059, 'exposure': 3060, 'express': 3061, 'expressions': 3062, 'exquisite': 3063, 'extend': 3064, 'extended': 3065, 'extender': 3066, 'extenders': 3067, 'extending': 3068, 'extends': 3069, 'extension': 3070, 'extensive': 3071, 'exterior': 3072, 'external': 3073, 'externally': 3074, 'extra': 3075, 'extract': 3076, 'extraction': 3077, 'extracts': 3078, 'extremely': 3079, 'extruder': 3080, 'extruders': 3081, 'eye': 3082, 'eyes': 3083, 'fabric': 3084, 'fabrication': 3085, 'face': 3086, 'faced': 3087, 'faces': 3088, 'facial': 3089, 'facilitate': 3090, 'facilities': 3091, 'facility': 3092, 'facing': 3093, 'fact': 3094, 'factor': 3095, 'factors': 3096, 'factory': 3097, 'factual': 3098, 'factually': 3099, 'faculty': 3100, 'fail': 3101, 'failed': 3102, 'fails': 3103, 'failure': 3104, 'fair': 3105, 'fairly': 3106, 'fall': 3107, 'fallen': 3108, 'falling': 3109, 'fallout': 3110, 'falls': 3111, 'familiar': 3112, 'families': 3113, 'family': 3114, 'famous': 3115, 'fan': 3116, 'fanbase': 3117, 'fancy': 3118, 'fans': 3119, 'fantastic': 3120, 'far': 3121, 'fare': 3122, 'farm': 3123, 'farmers': 3124, 'farthest': 3125, 'fascinating': 3126, 'fashion': 3127, 'fast': 3128, 'fasteners': 3129, 'faster': 3130, 'fastest': 3131, 'fat': 3132, 'father': 3133, 'fault': 3134, 'faulty': 3135, 'favor': 3136, 'favorable': 3137, 'favorite': 3138, 'favorites': 3139, 'favoritism': 3140, 'fax': 3141, 'fear': 3142, 'feasibility': 3143, 'feasible': 3144, 'feature': 3145, 'featured': 3146, 'features': 3147, 'featuring': 3148, 'fee': 3149, 'feeble': 3150, 'feedback': 3151, 'feel': 3152, 'feeling': 3153, 'feelings': 3154, 'feels': 3155, 'fees': 3156, 'feet': 3157, 'fellow': 3158, 'female': 3159, 'fertilizing': 3160, 'fetch': 3161, 'few': 3162, 'fiat': 3163, 'fiber': 3164, 'fibers': 3165, 'fibrous': 3166, 'fiction': 3167, 'field': 3168, 'fields': 3169, 'figurative': 3170, 'figures': 3171, 'file': 3172, 'filed': 3173, 'files': 3174, 'filing': 3175, 'fill': 3176, 'filled': 3177, 'filling': 3178, 'fills': 3179, 'film': 3180, 'films': 3181, 'filter': 3182, 'filtered': 3183, 'filters': 3184, 'filtration': 3185, 'final': 3186, 'finalize': 3187, 'finalized': 3188, 'finalizing': 3189, 'finally': 3190, 'finance': 3191, 'financed': 3192, 'financer': 3193, 'finances': 3194, 'financial': 3195, 'financially': 3196, 'financiers': 3197, 'financing': 3198, 'find': 3199, 'finding': 3200, 'finds': 3201, 'fine': 3202, 'finer': 3203, 'finest': 3204, 'fingerprint': 3205, 'finish': 3206, 'finished': 3207, 'fire': 3208, 'fired': 3209, 'fireplace': 3210, 'firewall': 3211, 'firewalls': 3212, 'firm': 3213, 'firms': 3214, 'first': 3215, 'fish': 3216, 'fit': 3217, 'fitness': 3218, 'fits': 3219, 'five': 3220, 'fiver': 3221, 'fix': 3222, 'fixed': 3223, 'flag': 3224, 'flame': 3225, 'flanged': 3226, 'flare': 3227, 'flash': 3228, 'flat': 3229, 'flatmates': 3230, 'flatten': 3231, 'flavor': 3232, 'flavored': 3233, 'flavorful': 3234, 'flavors': 3235, 'flew': 3236, 'flexibility': 3237, 'flexible': 3238, 'flight': 3239, 'flights': 3240, 'flip': 3241, 'float': 3242, 'floating': 3243, 'floor': 3244, 'floors': 3245, 'flour': 3246, 'flowchart': 3247, 'flows': 3248, 'fluctuate': 3249, 'fluctuations': 3250, 'fly': 3251, 'flying': 3252, 'flywheel': 3253, 'fo': 3254, 'foam': 3255, 'focus': 3256, 'focused': 3257, 'focuses': 3258, 'focusing': 3259, 'fold': 3260, 'folder': 3261, 'folders': 3262, 'follow': 3263, 'followed': 3264, 'followers': 3265, 'following': 3266, 'follows': 3267, 'font': 3268, 'fonts': 3269, 'food': 3270, 'foods': 3271, 'fooled': 3272, 'foot': 3273, 'footage': 3274, 'footprint': 3275, 'footsteps': 3276, 'for': 3277, 'forbidden': 3278, 'forced': 3279, 'forecast': 3280, 'forecasted': 3281, 'foreign': 3282, 'foreigner': 3283, 'foreigners': 3284, 'forever': 3285, 'forget': 3286, 'forgot': 3287, 'forklift': 3288, 'forklifts': 3289, 'form': 3290, 'formal': 3291, 'formalities': 3292, 'format': 3293, 'former': 3294, 'forms': 3295, 'formula': 3296, 'forths': 3297, 'fortunate': 3298, 'forward': 3299, 'forwarded': 3300, 'forwarder': 3301, 'found': 3302, 'foundation': 3303, 'founders': 3304, 'four': 3305, 'frame': 3306, 'frames': 3307, 'framework': 3308, 'franchise': 3309, 'fraud': 3310, 'fraudulent': 3311, 'free': 3312, 'freebie': 3313, 'freelancer': 3314, 'freight': 3315, 'frequency': 3316, 'frequent': 3317, 'frequently': 3318, 'fresh': 3319, 'freshwater': 3320, 'fried': 3321, 'friend': 3322, 'friendly': 3323, 'friends': 3324, 'from': 3325, 'front': 3326, 'frugal': 3327, 'fruit': 3328, 'fruitful': 3329, 'fruity': 3330, 'frustrating': 3331, 'fuel': 3332, 'fulfill': 3333, 'fulfilled': 3334, 'fulfilling': 3335, 'full': 3336, 'fully': 3337, 'fun': 3338, 'function': 3339, 'functional': 3340, 'functioning': 3341, 'functions': 3342, 'fund': 3343, 'fundamental': 3344, 'fundamentals': 3345, 'funded': 3346, 'funding': 3347, 'fundraisers': 3348, 'fundraising': 3349, 'funds': 3350, 'fungible': 3351, 'funny': 3352, 'furnish': 3353, 'furnished': 3354, 'furnishings': 3355, 'furniture': 3356, 'further': 3357, 'fusion': 3358, 'fuss': 3359, 'future': 3360, 'futures': 3361, 'futuristic': 3362, 'g': 3363, 'gadgets': 3364, 'gain': 3365, 'gained': 3366, 'gaining': 3367, 'gains': 3368, 'galbi': 3369, 'game': 3370, 'games': 3371, 'gaming': 3372, 'gap': 3373, 'gaps': 3374, 'garage': 3375, 'garden': 3376, 'gardening': 3377, 'gardens': 3378, 'garlic': 3379, 'garments': 3380, 'garnering': 3381, 'gas': 3382, 'gasoline': 3383, 'gate': 3384, 'gates': 3385, 'gather': 3386, 'gathered': 3387, 'gathering': 3388, 'gathers': 3389, 'gauge': 3390, 'gave': 3391, 'gazebo': 3392, 'gear': 3393, 'geared': 3394, 'gears': 3395, 'general': 3396, 'generally': 3397, 'generate': 3398, 'generated': 3399, 'generating': 3400, 'generation': 3401, 'generations': 3402, 'generic': 3403, 'generous': 3404, 'genre': 3405, 'genres': 3406, 'gentle': 3407, 'gentlemen': 3408, 'genuinely': 3409, 'geographic': 3410, 'geography': 3411, 'gesture': 3412, 'get': 3413, 'gets': 3414, 'getting': 3415, 'gift': 3416, 'gifts': 3417, 'gigabyte': 3418, 'gigabytes': 3419, 'gimbap': 3420, 'ginger': 3421, 'ginseng': 3422, 'girl': 3423, 'girls': 3424, 'give': 3425, 'giveaways': 3426, 'given': 3427, 'gives': 3428, 'giving': 3429, 'glad': 3430, 'gladly': 3431, 'glance': 3432, 'glass': 3433, 'glasses': 3434, 'glitch': 3435, 'global': 3436, 'globally': 3437, 'globe': 3438, 'glossy': 3439, 'gloves': 3440, 'gluten': 3441, 'go': 3442, 'goal': 3443, 'goals': 3444, 'goes': 3445, 'going': 3446, 'gold': 3447, 'golf': 3448, 'gone': 3449, 'gonna': 3450, 'good': 3451, 'goodbye': 3452, 'goods': 3453, 'goodwill': 3454, 'gorgeous': 3455, 'got': 3456, 'gotten': 3457, 'governance': 3458, 'government': 3459, 'grab': 3460, 'grace': 3461, 'grade': 3462, 'gradual': 3463, 'gradually': 3464, 'graduates': 3465, 'grain': 3466, 'grains': 3467, 'grammable': 3468, 'grand': 3469, 'grandkids': 3470, 'grandmother': 3471, 'grant': 3472, 'granted': 3473, 'granting': 3474, 'graph': 3475, 'graphic': 3476, 'graphics': 3477, 'grass': 3478, 'grateful': 3479, 'gravity': 3480, 'gravlax': 3481, 'great': 3482, 'greater': 3483, 'greatly': 3484, 'green': 3485, 'greens': 3486, 'greet': 3487, 'greeting': 3488, 'greetings': 3489, 'grew': 3490, 'grid': 3491, 'grill': 3492, 'grilled': 3493, 'grills': 3494, 'grinder': 3495, 'gripping': 3496, 'groom': 3497, 'ground': 3498, 'groundbreaking': 3499, 'grounds': 3500, 'group': 3501, 'groups': 3502, 'grow': 3503, 'growing': 3504, 'growth': 3505, 'guarantee': 3506, 'guaranteed': 3507, 'guarantor': 3508, 'guess': 3509, 'guest': 3510, 'guesthouses': 3511, 'guests': 3512, 'guidance': 3513, 'guide': 3514, 'guided': 3515, 'guides': 3516, 'guilty': 3517, 'guitar': 3518, 'gun': 3519, 'gunfire': 3520, 'gut': 3521, 'guy': 3522, 'guys': 3523, 'gym': 3524, 'gyms': 3525, 'hack': 3526, 'hacked': 3527, 'hacking': 3528, 'had': 3529, 'hairdryer': 3530, 'half': 3531, 'hall': 3532, 'halls': 3533, 'halting': 3534, 'hand': 3535, 'handed': 3536, 'handheld': 3537, 'handiwork': 3538, 'handle': 3539, 'handled': 3540, 'handles': 3541, 'handling': 3542, 'handouts': 3543, 'handpicked': 3544, 'hands': 3545, 'handshake': 3546, 'hanging': 3547, 'hanji': 3548, 'hanok': 3549, 'happen': 3550, 'happened': 3551, 'happening': 3552, 'happens': 3553, 'happily': 3554, 'happy': 3555, 'hard': 3556, 'harder': 3557, 'hardware': 3558, 'hardworking': 3559, 'harmful': 3560, 'harmony': 3561, 'harshest': 3562, 'harvesting': 3563, 'has': 3564, 'hasn': 3565, 'hassle': 3566, 'hat': 3567, 'hate': 3568, 'have': 3569, 'haven': 3570, 'having': 3571, 'he': 3572, 'head': 3573, 'headhunters': 3574, 'heading': 3575, 'headquarters': 3576, 'heads': 3577, 'health': 3578, 'healthy': 3579, 'hear': 3580, 'heard': 3581, 'hearing': 3582, 'hearsay': 3583, 'heart': 3584, 'heartily': 3585, 'heat': 3586, 'heated': 3587, 'heater': 3588, 'heating': 3589, 'heavier': 3590, 'heavily': 3591, 'heavy': 3592, 'hedge': 3593, 'height': 3594, 'held': 3595, 'hello': 3596, 'help': 3597, 'helped': 3598, 'helpful': 3599, 'helping': 3600, 'helps': 3601, 'hence': 3602, 'her': 3603, 'herbal': 3604, 'here': 3605, 'hereditary': 3606, 'heritage': 3607, 'hesitate': 3608, 'hidden': 3609, 'high': 3610, 'higher': 3611, 'highest': 3612, 'highlighted': 3613, 'highlights': 3614, 'highly': 3615, 'hijacking': 3616, 'hiking': 3617, 'hill': 3618, 'him': 3619, 'hint': 3620, 'hire': 3621, 'hired': 3622, 'hiring': 3623, 'his': 3624, 'historical': 3625, 'historically': 3626, 'hit': 3627, 'hitch': 3628, 'hits': 3629, 'hoarding': 3630, 'hobby': 3631, 'hoc': 3632, 'hold': 3633, 'holder': 3634, 'holding': 3635, 'holds': 3636, 'holidays': 3637, 'home': 3638, 'homemade': 3639, 'homes': 3640, 'homestays': 3641, 'honed': 3642, 'honest': 3643, 'honestly': 3644, 'honey': 3645, 'honored': 3646, 'hope': 3647, 'hoped': 3648, 'hopefully': 3649, 'hoping': 3650, 'horizontal': 3651, 'horrible': 3652, 'horsepower': 3653, 'horsepowers': 3654, 'hospital': 3655, 'hospitalization': 3656, 'hospitals': 3657, 'host': 3658, 'hosting': 3659, 'hosts': 3660, 'hot': 3661, 'hotel': 3662, 'hotels': 3663, 'hotspot': 3664, 'hour': 3665, 'hourly': 3666, 'hours': 3667, 'house': 3668, 'household': 3669, 'households': 3670, 'houses': 3671, 'housing': 3672, 'housings': 3673, 'how': 3674, 'however': 3675, 'hub': 3676, 'huddle': 3677, 'hues': 3678, 'huge': 3679, 'hull': 3680, 'human': 3681, 'humble': 3682, 'humor': 3683, 'hundred': 3684, 'hungry': 3685, 'hunt': 3686, 'hurry': 3687, 'hurt': 3688, 'husband': 3689, 'hustle': 3690, 'hwajeon': 3691, 'hydraulic': 3692, 'hydraulics': 3693, 'hydrojet': 3694, 'hype': 3695, 'ibul': 3696, 'ice': 3697, 'icons': 3698, 'idea': 3699, 'ideal': 3700, 'ideas': 3701, 'identical': 3702, 'identification': 3703, 'identified': 3704, 'identify': 3705, 'identities': 3706, 'identity': 3707, 'idols': 3708, 'if': 3709, 'ignition': 3710, 'ignorance': 3711, 'ignore': 3712, 'ignored': 3713, 'illness': 3714, 'illnesses': 3715, 'illustration': 3716, 'illustrations': 3717, 'image': 3718, 'images': 3719, 'imaginative': 3720, 'imagine': 3721, 'imaging': 3722, 'immediate': 3723, 'immediately': 3724, 'immensely': 3725, 'immigrant': 3726, 'immunity': 3727, 'immutable': 3728, 'impact': 3729, 'impart': 3730, 'impeller': 3731, 'impending': 3732, 'implantation': 3733, 'implement': 3734, 'implementation': 3735, 'implementing': 3736, 'implements': 3737, 'implied': 3738, 'implies': 3739, 'import': 3740, 'importance': 3741, 'important': 3742, 'importantly': 3743, 'imported': 3744, 'imports': 3745, 'imposed': 3746, 'imposes': 3747, 'impossible': 3748, 'impress': 3749, 'impressed': 3750, 'impression': 3751, 'impressions': 3752, 'impressive': 3753, 'improve': 3754, 'improved': 3755, 'improvement': 3756, 'improvements': 3757, 'improving': 3758, 'in': 3759, 'inbox': 3760, 'incentives': 3761, 'inch': 3762, 'incident': 3763, 'include': 3764, 'included': 3765, 'includes': 3766, 'including': 3767, 'inclusion': 3768, 'inclusions': 3769, 'inclusive': 3770, 'income': 3771, 'incompatible': 3772, 'incomplete': 3773, 'inconvenience': 3774, 'inconvenient': 3775, 'incorporate': 3776, 'incorporating': 3777, 'incorporation': 3778, 'incorrect': 3779, 'increase': 3780, 'increased': 3781, 'increasing': 3782, 'incredible': 3783, 'incredibly': 3784, 'incubator': 3785, 'incubators': 3786, 'incur': 3787, 'incurred': 3788, 'incurring': 3789, 'indeed': 3790, 'independently': 3791, 'index': 3792, 'indexation': 3793, 'indicate': 3794, 'indicated': 3795, 'indicating': 3796, 'indicator': 3797, 'indicators': 3798, 'indices': 3799, 'individual': 3800, 'individually': 3801, 'individuals': 3802, 'indoor': 3803, 'indoors': 3804, 'indulge': 3805, 'industrial': 3806, 'industries': 3807, 'industry': 3808, 'inevitable': 3809, 'infections': 3810, 'infectious': 3811, 'inferior': 3812, 'inflation': 3813, 'influence': 3814, 'influenced': 3815, 'influencer': 3816, 'influencers': 3817, 'info': 3818, 'infographic': 3819, 'infographics': 3820, 'inform': 3821, 'informal': 3822, 'information': 3823, 'informed': 3824, 'informing': 3825, 'infrastructure': 3826, 'infringed': 3827, 'infringement': 3828, 'ingredients': 3829, 'inheritance': 3830, 'initial': 3831, 'initially': 3832, 'initiate': 3833, 'initiative': 3834, 'injection': 3835, 'injunction': 3836, 'injury': 3837, 'inner': 3838, 'innovation': 3839, 'innovations': 3840, 'innovative': 3841, 'input': 3842, 'inputs': 3843, 'inquire': 3844, 'inquired': 3845, 'inquiries': 3846, 'inquiring': 3847, 'inquiry': 3848, 'ins': 3849, 'inside': 3850, 'insight': 3851, 'insist': 3852, 'inspect': 3853, 'inspected': 3854, 'inspecting': 3855, 'inspection': 3856, 'inspections': 3857, 'inspire': 3858, 'inspired': 3859, 'install': 3860, 'installation': 3861, 'installed': 3862, 'installing': 3863, 'installment': 3864, 'installments': 3865, 'instance': 3866, 'instant': 3867, 'instead': 3868, 'institute': 3869, 'institution': 3870, 'instruction': 3871, 'instructions': 3872, 'instrument': 3873, 'instruments': 3874, 'insulation': 3875, 'insult': 3876, 'insurance': 3877, 'insurances': 3878, 'insure': 3879, 'insured': 3880, 'insuring': 3881, 'insurmountable': 3882, 'integrated': 3883, 'integration': 3884, 'integrations': 3885, 'intellectual': 3886, 'intelligence': 3887, 'intelligent': 3888, 'intend': 3889, 'intended': 3890, 'intends': 3891, 'intense': 3892, 'intensity': 3893, 'intent': 3894, 'intention': 3895, 'interact': 3896, 'interactions': 3897, 'interactive': 3898, 'intercept': 3899, 'interest': 3900, 'interested': 3901, 'interesting': 3902, 'interface': 3903, 'interior': 3904, 'interiors': 3905, 'intermediaries': 3906, 'intermediary': 3907, 'intern': 3908, 'internal': 3909, 'internally': 3910, 'international': 3911, 'internationally': 3912, 'internet': 3913, 'interns': 3914, 'interpretation': 3915, 'interpreter': 3916, 'interpreting': 3917, 'interrupt': 3918, 'interrupted': 3919, 'interview': 3920, 'interviews': 3921, 'into': 3922, 'intrigue': 3923, 'intriguing': 3924, 'introduce': 3925, 'introduced': 3926, 'introducing': 3927, 'introduction': 3928, 'intrusion': 3929, 'invaluable': 3930, 'inventory': 3931, 'invest': 3932, 'invested': 3933, 'investigate': 3934, 'investigating': 3935, 'investigation': 3936, 'investing': 3937, 'investment': 3938, 'investments': 3939, 'investor': 3940, 'investors': 3941, 'invitation': 3942, 'invite': 3943, 'invited': 3944, 'invites': 3945, 'inviting': 3946, 'invoice': 3947, 'invoices': 3948, 'involve': 3949, 'involved': 3950, 'involves': 3951, 'involving': 3952, 'iron': 3953, 'irregular': 3954, 'is': 3955, 'isn': 3956, 'issuance': 3957, 'issue': 3958, 'issued': 3959, 'issues': 3960, 'issuing': 3961, 'it': 3962, 'item': 3963, 'items': 3964, 'its': 3965, 'itself': 3966, 'jacuzzi': 3967, 'japchae': 3968, 'jeeps': 3969, 'jeon': 3970, 'jet': 3971, 'jingle': 3972, 'job': 3973, 'jobs': 3974, 'join': 3975, 'joining': 3976, 'joint': 3977, 'jokbal': 3978, 'joke': 3979, 'journalists': 3980, 'journey': 3981, 'juice': 3982, 'junction': 3983, 'just': 3984, 'kanji': 3985, 'karaoke': 3986, 'keen': 3987, 'keep': 3988, 'keeping': 3989, 'keeps': 3990, 'kept': 3991, 'key': 3992, 'keyboard': 3993, 'keyboards': 3994, 'keys': 3995, 'keywords': 3996, 'kicks': 3997, 'kids': 3998, 'kilograms': 3999, 'kilometers': 4000, 'kilowatts': 4001, 'kimchi': 4002, 'kind': 4003, 'kindly': 4004, 'kindness': 4005, 'kinds': 4006, 'king': 4007, 'kiosk': 4008, 'kit': 4009, 'kitchen': 4010, 'kitchens': 4011, 'kits': 4012, 'knew': 4013, 'knife': 4014, 'knitting': 4015, 'knocked': 4016, 'know': 4017, 'knowing': 4018, 'knowledge': 4019, 'knowledgeable': 4020, 'known': 4021, 'knows': 4022, 'l': 4023, 'label': 4024, 'labels': 4025, 'labor': 4026, 'laboratories': 4027, 'laboratory': 4028, 'lack': 4029, 'lacking': 4030, 'ladies': 4031, 'lag': 4032, 'laid': 4033, 'lamination': 4034, 'land': 4035, 'landed': 4036, 'landline': 4037, 'landlord': 4038, 'landowner': 4039, 'lands': 4040, 'language': 4041, 'languages': 4042, 'laptop': 4043, 'large': 4044, 'largely': 4045, 'larger': 4046, 'largest': 4047, 'last': 4048, 'lasting': 4049, 'lasts': 4050, 'late': 4051, 'lately': 4052, 'latency': 4053, 'later': 4054, 'latest': 4055, 'launch': 4056, 'launched': 4057, 'launching': 4058, 'laundering': 4059, 'laundry': 4060, 'lavalier': 4061, 'law': 4062, 'laws': 4063, 'lawsuit': 4064, 'lawyer': 4065, 'lawyers': 4066, 'laxative': 4067, 'lay': 4068, 'layers': 4069, 'layout': 4070, 'lazy': 4071, 'lead': 4072, 'leaders': 4073, 'leading': 4074, 'leaf': 4075, 'leaks': 4076, 'leaning': 4077, 'learn': 4078, 'learned': 4079, 'learning': 4080, 'least': 4081, 'leave': 4082, 'leaves': 4083, 'lecture': 4084, 'led': 4085, 'left': 4086, 'legal': 4087, 'legally': 4088, 'legitimate': 4089, 'lenders': 4090, 'length': 4091, 'lengthy': 4092, 'lens': 4093, 'lentil': 4094, 'less': 4095, 'lesser': 4096, 'lessons': 4097, 'let': 4098, 'lets': 4099, 'letter': 4100, 'letters': 4101, 'letting': 4102, 'lettuce': 4103, 'level': 4104, 'levelers': 4105, 'levels': 4106, 'leverage': 4107, 'liabilities': 4108, 'liability': 4109, 'liable': 4110, 'liaison': 4111, 'library': 4112, 'license': 4113, 'licensed': 4114, 'licenses': 4115, 'lie': 4116, 'life': 4117, 'lifeguards': 4118, 'lifelong': 4119, 'lifestyle': 4120, 'lift': 4121, 'light': 4122, 'lightning': 4123, 'lights': 4124, 'lightweight': 4125, 'like': 4126, 'liked': 4127, 'likely': 4128, 'likes': 4129, 'limit': 4130, 'limitations': 4131, 'limited': 4132, 'limits': 4133, 'line': 4134, 'lines': 4135, 'lining': 4136, 'link': 4137, 'linked': 4138, 'links': 4139, 'liquid': 4140, 'liquidating': 4141, 'liquors': 4142, 'list': 4143, 'listed': 4144, 'listen': 4145, 'listener': 4146, 'listeners': 4147, 'listening': 4148, 'listing': 4149, 'listings': 4150, 'lists': 4151, 'literature': 4152, 'little': 4153, 'live': 4154, 'lived': 4155, 'lively': 4156, 'liver': 4157, 'lives': 4158, 'living': 4159, 'll': 4160, 'load': 4161, 'loaded': 4162, 'loader': 4163, 'loaders': 4164, 'loading': 4165, 'loan': 4166, 'loans': 4167, 'lobby': 4168, 'local': 4169, 'locales': 4170, 'locality': 4171, 'localization': 4172, 'localized': 4173, 'locally': 4174, 'locals': 4175, 'located': 4176, 'location': 4177, 'locations': 4178, 'lock': 4179, 'lockdown': 4180, 'lockdowns': 4181, 'lodge': 4182, 'lodging': 4183, 'lodgings': 4184, 'log': 4185, 'logged': 4186, 'logging': 4187, 'login': 4188, 'logistics': 4189, 'logo': 4190, 'logos': 4191, 'logs': 4192, 'long': 4193, 'longer': 4194, 'look': 4195, 'looked': 4196, 'looking': 4197, 'looks': 4198, 'loose': 4199, 'lose': 4200, 'loss': 4201, 'losses': 4202, 'lost': 4203, 'lot': 4204, 'lots': 4205, 'loud': 4206, 'lounge': 4207, 'love': 4208, 'loved': 4209, 'lovely': 4210, 'loving': 4211, 'low': 4212, 'lower': 4213, 'lowered': 4214, 'lowest': 4215, 'loyal': 4216, 'luck': 4217, 'luckily': 4218, 'lucky': 4219, 'lucrative': 4220, 'luggage': 4221, 'lunch': 4222, 'luxurious': 4223, 'luxury': 4224, 'm': 4225, 'ma': 4226, 'machine': 4227, 'machinery': 4228, 'machines': 4229, 'mackerels': 4230, 'macro': 4231, 'madam': 4232, 'made': 4233, 'magazine': 4234, 'magazines': 4235, 'magical': 4236, 'mail': 4237, 'main': 4238, 'mainly': 4239, 'mains': 4240, 'maintain': 4241, 'maintained': 4242, 'maintaining': 4243, 'maintenance': 4244, 'major': 4245, 'majority': 4246, 'make': 4247, 'maker': 4248, 'makers': 4249, 'makes': 4250, 'makeup': 4251, 'makgeolli': 4252, 'making': 4253, 'mall': 4254, 'malware': 4255, 'manage': 4256, 'manageable': 4257, 'managed': 4258, 'management': 4259, 'manager': 4260, 'managers': 4261, 'manages': 4262, 'managing': 4263, 'mandatory': 4264, 'mandu': 4265, 'manned': 4266, 'manner': 4267, 'manners': 4268, 'manual': 4269, 'manually': 4270, 'manufacture': 4271, 'manufactured': 4272, 'manufacturer': 4273, 'manufacturers': 4274, 'manufactures': 4275, 'manufacturing': 4276, 'manuscript': 4277, 'many': 4278, 'marinated': 4279, 'marinates': 4280, 'market': 4281, 'marketer': 4282, 'marketing': 4283, 'markets': 4284, 'married': 4285, 'mascots': 4286, 'mask': 4287, 'mass': 4288, 'massage': 4289, 'massages': 4290, 'masseuse': 4291, 'massive': 4292, 'master': 4293, 'mat': 4294, 'match': 4295, 'material': 4296, 'materialistic': 4297, 'materials': 4298, 'maternity': 4299, 'mathematics': 4300, 'mats': 4301, 'matte': 4302, 'matter': 4303, 'matters': 4304, 'mattress': 4305, 'maturing': 4306, 'maximize': 4307, 'maximum': 4308, 'may': 4309, 'maybe': 4310, 'me': 4311, 'meal': 4312, 'meals': 4313, 'mean': 4314, 'meaning': 4315, 'meaningful': 4316, 'meaningless': 4317, 'means': 4318, 'meant': 4319, 'meantime': 4320, 'measure': 4321, 'measures': 4322, 'measuring': 4323, 'meat': 4324, 'mechanic': 4325, 'mechanical': 4326, 'mechanism': 4327, 'media': 4328, 'mediator': 4329, 'medical': 4330, 'medicine': 4331, 'meditation': 4332, 'medium': 4333, 'meet': 4334, 'meeting': 4335, 'meetings': 4336, 'megabits': 4337, 'megabytes': 4338, 'megapixel': 4339, 'megapixels': 4340, 'melon': 4341, 'melt': 4342, 'member': 4343, 'members': 4344, 'membership': 4345, 'memorandum': 4346, 'memories': 4347, 'memory': 4348, 'men': 4349, 'mending': 4350, 'mental': 4351, 'mention': 4352, 'mentioned': 4353, 'mentioning': 4354, 'menu': 4355, 'menus': 4356, 'merch': 4357, 'merchant': 4358, 'merged': 4359, 'message': 4360, 'messages': 4361, 'messaging': 4362, 'messy': 4363, 'met': 4364, 'meta': 4365, 'metal': 4366, 'metallurgical': 4367, 'metals': 4368, 'meters': 4369, 'method': 4370, 'methods': 4371, 'meticulously': 4372, 'microlenders': 4373, 'microphone': 4374, 'microphones': 4375, 'microscopes': 4376, 'microwave': 4377, 'middle': 4378, 'midst': 4379, 'might': 4380, 'mild': 4381, 'milestone': 4382, 'milk': 4383, 'millennials': 4384, 'millimeters': 4385, 'million': 4386, 'millions': 4387, 'mind': 4388, 'minded': 4389, 'mine': 4390, 'miner': 4391, 'mini': 4392, 'minibar': 4393, 'minimal': 4394, 'minimalism': 4395, 'minimum': 4396, 'ministry': 4397, 'minor': 4398, 'minute': 4399, 'minuted': 4400, 'minutes': 4401, 'miscarriage': 4402, 'miscommunication': 4403, 'mishap': 4404, 'mismanagement': 4405, 'mismatch': 4406, 'misplaced': 4407, 'miss': 4408, 'missed': 4409, 'missiles': 4410, 'missing': 4411, 'mission': 4412, 'mistake': 4413, 'mistakenly': 4414, 'mistakes': 4415, 'misunderstanding': 4416, 'misuse': 4417, 'misuses': 4418, 'mitigate': 4419, 'mix': 4420, 'mixer': 4421, 'mixing': 4422, 'mm': 4423, 'mmHg': 4424, 'mobile': 4425, 'mobiles': 4426, 'mock': 4427, 'mocks': 4428, 'modality': 4429, 'mode': 4430, 'model': 4431, 'models': 4432, 'modem': 4433, 'modems': 4434, 'moderately': 4435, 'modern': 4436, 'modes': 4437, 'modifications': 4438, 'modified': 4439, 'modify': 4440, 'modifying': 4441, 'modular': 4442, 'module': 4443, 'mold': 4444, 'molding': 4445, 'moldings': 4446, 'moment': 4447, 'momentary': 4448, 'moments': 4449, 'monastery': 4450, 'monastic': 4451, 'monetary': 4452, 'monetizing': 4453, 'money': 4454, 'monitor': 4455, 'monitoring': 4456, 'monitors': 4457, 'monk': 4458, 'monks': 4459, 'monsoon': 4460, 'month': 4461, 'monthly': 4462, 'months': 4463, 'mood': 4464, 'more': 4465, 'morning': 4466, 'mortar': 4467, 'mortgage': 4468, 'mosquitos': 4469, 'most': 4470, 'mostly': 4471, 'motels': 4472, 'mother': 4473, 'motif': 4474, 'motions': 4475, 'motivate': 4476, 'motivation': 4477, 'motor': 4478, 'motorboats': 4479, 'motors': 4480, 'mountain': 4481, 'mountains': 4482, 'mouse': 4483, 'mouses': 4484, 'mouth': 4485, 'move': 4486, 'moved': 4487, 'movement': 4488, 'movers': 4489, 'movie': 4490, 'movies': 4491, 'moving': 4492, 'much': 4493, 'mud': 4494, 'mukbang': 4495, 'multi': 4496, 'multidisciplinary': 4497, 'multinational': 4498, 'multiplatform': 4499, 'multiple': 4500, 'multiplying': 4501, 'multipurpose': 4502, 'museum': 4503, 'music': 4504, 'musical': 4505, 'musky': 4506, 'must': 4507, 'mutual': 4508, 'my': 4509, 'myself': 4510, 'mysterious': 4511, 'naira': 4512, 'name': 4513, 'names': 4514, 'napkin': 4515, 'napping': 4516, 'narratives': 4517, 'narrow': 4518, 'nation': 4519, 'national': 4520, 'nationals': 4521, 'nations': 4522, 'native': 4523, 'natural': 4524, 'nature': 4525, 'navigation': 4526, 'near': 4527, 'nearby': 4528, 'nearest': 4529, 'neat': 4530, 'nebulizers': 4531, 'necessary': 4532, 'need': 4533, 'needed': 4534, 'needing': 4535, 'needs': 4536, 'negative': 4537, 'negatively': 4538, 'neglect': 4539, 'negotiable': 4540, 'negotiate': 4541, 'neighbors': 4542, 'neotraditional': 4543, 'nephew': 4544, 'nervous': 4545, 'net': 4546, 'network': 4547, 'networking': 4548, 'networks': 4549, 'never': 4550, 'new': 4551, 'newbie': 4552, 'newborn': 4553, 'newest': 4554, 'newly': 4555, 'news': 4556, 'newsletters': 4557, 'newspaper': 4558, 'next': 4559, 'nice': 4560, 'niche': 4561, 'night': 4562, 'nightclub': 4563, 'nights': 4564, 'nighttime': 4565, 'nine': 4566, 'ninety': 4567, 'no': 4568, 'noble': 4569, 'nobody': 4570, 'nodular': 4571, 'non': 4572, 'nondelivery': 4573, 'none': 4574, 'nonfiction': 4575, 'nonfungible': 4576, 'nonpayments': 4577, 'nonprofits': 4578, 'nonsense': 4579, 'nonspicy': 4580, 'noodle': 4581, 'noodles': 4582, 'noon': 4583, 'norm': 4584, 'normal': 4585, 'normally': 4586, 'northern': 4587, 'nose': 4588, 'nostalgia': 4589, 'not': 4590, 'notch': 4591, 'note': 4592, 'notebook': 4593, 'noted': 4594, 'notes': 4595, 'nothing': 4596, 'notice': 4597, 'noticed': 4598, 'notices': 4599, 'notification': 4600, 'notified': 4601, 'notify': 4602, 'notifying': 4603, 'novel': 4604, 'novels': 4605, 'now': 4606, 'nowadays': 4607, 'number': 4608, 'numbers': 4609, 'numerous': 4610, 'nurse': 4611, 'nutritional': 4612, 'nutty': 4613, 'nylon': 4614, 'o': 4615, 'object': 4616, 'objection': 4617, 'objections': 4618, 'objective': 4619, 'obligation': 4620, 'obligations': 4621, 'oblige': 4622, 'observations': 4623, 'observing': 4624, 'obstacles': 4625, 'obtain': 4626, 'obtaining': 4627, 'obviously': 4628, 'occasion': 4629, 'occupation': 4630, 'occupied': 4631, 'occupy': 4632, 'occur': 4633, 'occurrence': 4634, 'occurs': 4635, 'ocean': 4636, 'of': 4637, 'off': 4638, 'offend': 4639, 'offer': 4640, 'offered': 4641, 'offering': 4642, 'offerings': 4643, 'offers': 4644, 'office': 4645, 'officer': 4646, 'officers': 4647, 'offices': 4648, 'official': 4649, 'officially': 4650, 'offline': 4651, 'offshore': 4652, 'often': 4653, 'oh': 4654, 'oil': 4655, 'oils': 4656, 'okay': 4657, 'old': 4658, 'older': 4659, 'oldest': 4660, 'on': 4661, 'once': 4662, 'ondol': 4663, 'one': 4664, 'ones': 4665, 'ongoing': 4666, 'onions': 4667, 'online': 4668, 'only': 4669, 'onto': 4670, 'onwards': 4671, 'open': 4672, 'opened': 4673, 'opening': 4674, 'openly': 4675, 'opens': 4676, 'operate': 4677, 'operated': 4678, 'operating': 4679, 'operation': 4680, 'operational': 4681, 'operations': 4682, 'operative': 4683, 'operator': 4684, 'operators': 4685, 'opinion': 4686, 'opinions': 4687, 'opportunities': 4688, 'opportunity': 4689, 'opt': 4690, 'optimal': 4691, 'optimization': 4692, 'optimize': 4693, 'optimized': 4694, 'optimizer': 4695, 'option': 4696, 'optional': 4697, 'options': 4698, 'optometry': 4699, 'or': 4700, 'orange': 4701, 'order': 4702, 'ordered': 4703, 'ordering': 4704, 'orderly': 4705, 'orders': 4706, 'ordinary': 4707, 'ore': 4708, 'organic': 4709, 'organization': 4710, 'organizational': 4711, 'organizations': 4712, 'organize': 4713, 'organizing': 4714, 'orientation': 4715, 'oriented': 4716, 'original': 4717, 'originally': 4718, 'origins': 4719, 'other': 4720, 'others': 4721, 'ought': 4722, 'ounce': 4723, 'our': 4724, 'ours': 4725, 'ourselves': 4726, 'out': 4727, 'outbreak': 4728, 'outcome': 4729, 'outdated': 4730, 'outdoor': 4731, 'outdoors': 4732, 'outgoing': 4733, 'outings': 4734, 'outlets': 4735, 'outnumber': 4736, 'output': 4737, 'outputs': 4738, 'outreach': 4739, 'outright': 4740, 'outside': 4741, 'outsiders': 4742, 'outsmart': 4743, 'outsource': 4744, 'outstanding': 4745, 'oven': 4746, 'ovens': 4747, 'over': 4748, 'overall': 4749, 'overcharge': 4750, 'overcharged': 4751, 'overdue': 4752, 'overflow': 4753, 'overhang': 4754, 'overheads': 4755, 'overlook': 4756, 'overlooked': 4757, 'overnight': 4758, 'overpriced': 4759, 'overseas': 4760, 'oversees': 4761, 'overstated': 4762, 'overview': 4763, 'overwhelmed': 4764, 'owe': 4765, 'owing': 4766, 'own': 4767, 'owner': 4768, 'owners': 4769, 'ownership': 4770, 'owning': 4771, 'oxblood': 4772, 'p': 4773, 'pace': 4774, 'pacemaker': 4775, 'pack': 4776, 'package': 4777, 'packaged': 4778, 'packages': 4779, 'packaging': 4780, 'packed': 4781, 'packers': 4782, 'packing': 4783, 'packs': 4784, 'page': 4785, 'pages': 4786, 'pagodas': 4787, 'paid': 4788, 'pains': 4789, 'painted': 4790, 'painter': 4791, 'painters': 4792, 'painting': 4793, 'paintings': 4794, 'pair': 4795, 'pairs': 4796, 'pajamas': 4797, 'palaces': 4798, 'palate': 4799, 'palates': 4800, 'palette': 4801, 'palettes': 4802, 'palm': 4803, 'pals': 4804, 'pamphlet': 4805, 'pan': 4806, 'pancakes': 4807, 'pandemic': 4808, 'panel': 4809, 'panels': 4810, 'pans': 4811, 'pantry': 4812, 'papaya': 4813, 'paper': 4814, 'papers': 4815, 'paperwork': 4816, 'par': 4817, 'parcel': 4818, 'parents': 4819, 'park': 4820, 'parking': 4821, 'part': 4822, 'partake': 4823, 'partial': 4824, 'partially': 4825, 'participant': 4826, 'participants': 4827, 'participate': 4828, 'participating': 4829, 'particular': 4830, 'particularly': 4831, 'parties': 4832, 'partner': 4833, 'partnering': 4834, 'partners': 4835, 'partnership': 4836, 'parts': 4837, 'party': 4838, 'pass': 4839, 'passed': 4840, 'passing': 4841, 'passion': 4842, 'passive': 4843, 'passport': 4844, 'passports': 4845, 'password': 4846, 'past': 4847, 'pasta': 4848, 'paste': 4849, 'patch': 4850, 'patches': 4851, 'patent': 4852, 'patents': 4853, 'path': 4854, 'patience': 4855, 'patient': 4856, 'patients': 4857, 'patronage': 4858, 'patronize': 4859, 'patrons': 4860, 'pattern': 4861, 'patterns': 4862, 'paving': 4863, 'pay': 4864, 'payable': 4865, 'paying': 4866, 'payment': 4867, 'payments': 4868, 'payroll': 4869, 'pays': 4870, 'payslip': 4871, 'pdf': 4872, 'peace': 4873, 'peak': 4874, 'pencil': 4875, 'pending': 4876, 'pension': 4877, 'people': 4878, 'per': 4879, 'percent': 4880, 'percentage': 4881, 'perfect': 4882, 'perform': 4883, 'performance': 4884, 'performed': 4885, 'performing': 4886, 'perhaps': 4887, 'perilla': 4888, 'period': 4889, 'permanent': 4890, 'permanently': 4891, 'permission': 4892, 'permit': 4893, 'permitted': 4894, 'persistent': 4895, 'person': 4896, 'personal': 4897, 'personality': 4898, 'personalized': 4899, 'personally': 4900, 'personnel': 4901, 'persons': 4902, 'persuade': 4903, 'pertinent': 4904, 'perusal': 4905, 'pesky': 4906, 'pet': 4907, 'petition': 4908, 'petrol': 4909, 'pets': 4910, 'phase': 4911, 'phases': 4912, 'phenomena': 4913, 'philosophy': 4914, 'phone': 4915, 'phones': 4916, 'phoning': 4917, 'photo': 4918, 'photobooks': 4919, 'photocopier': 4920, 'photographer': 4921, 'photographers': 4922, 'photographs': 4923, 'photography': 4924, 'photos': 4925, 'physical': 4926, 'physically': 4927, 'piano': 4928, 'pick': 4929, 'picked': 4930, 'picking': 4931, 'picture': 4932, 'pictures': 4933, 'pie': 4934, 'piece': 4935, 'pieces': 4936, 'pier': 4937, 'piling': 4938, 'pillars': 4939, 'pills': 4940, 'pin': 4941, 'pink': 4942, 'pioneers': 4943, 'pipe': 4944, 'pipeline': 4945, 'pipelines': 4946, 'pipes': 4947, 'piqued': 4948, 'piques': 4949, 'piston': 4950, 'pitch': 4951, 'pitching': 4952, 'pity': 4953, 'pixels': 4954, 'place': 4955, 'placed': 4956, 'placement': 4957, 'placements': 4958, 'places': 4959, 'placing': 4960, 'plagiarized': 4961, 'plain': 4962, 'plan': 4963, 'plane': 4964, 'planned': 4965, 'planning': 4966, 'plans': 4967, 'plant': 4968, 'planting': 4969, 'plants': 4970, 'plastic': 4971, 'plastics': 4972, 'plate': 4973, 'plates': 4974, 'platform': 4975, 'platforms': 4976, 'platinum': 4977, 'platters': 4978, 'play': 4979, 'played': 4980, 'player': 4981, 'players': 4982, 'playground': 4983, 'playing': 4984, 'plays': 4985, 'plaza': 4986, 'pleasant': 4987, 'please': 4988, 'pleased': 4989, 'pleasure': 4990, 'plotter': 4991, 'plowing': 4992, 'plug': 4993, 'plugins': 4994, 'plus': 4995, 'pm': 4996, 'pneumatic': 4997, 'pocket': 4998, 'pockets': 4999, 'podcast': 5000, 'podcasts': 5001, 'point': 5002, 'pointing': 5003, 'points': 5004, 'policies': 5005, 'policy': 5006, 'policyholders': 5007, 'policymakers': 5008, 'polite': 5009, 'political': 5010, 'politicians': 5011, 'polystyrene': 5012, 'polyurethane': 5013, 'pool': 5014, 'pools': 5015, 'poor': 5016, 'pop': 5017, 'popular': 5018, 'popularity': 5019, 'population': 5020, 'poring': 5021, 'pork': 5022, 'porridge': 5023, 'port': 5024, 'portal': 5025, 'portals': 5026, 'portfolio': 5027, 'portfolios': 5028, 'portion': 5029, 'portraits': 5030, 'ports': 5031, 'posh': 5032, 'position': 5033, 'positioning': 5034, 'positions': 5035, 'positive': 5036, 'positives': 5037, 'possess': 5038, 'possibility': 5039, 'possible': 5040, 'possibly': 5041, 'post': 5042, 'postal': 5043, 'posted': 5044, 'poster': 5045, 'posters': 5046, 'posting': 5047, 'postings': 5048, 'postpaid': 5049, 'posts': 5050, 'potato': 5051, 'potential': 5052, 'pots': 5053, 'power': 5054, 'powered': 5055, 'practically': 5056, 'practice': 5057, 'practices': 5058, 'praised': 5059, 'praises': 5060, 'pray': 5061, 'prays': 5062, 'precise': 5063, 'precisely': 5064, 'precision': 5065, 'predict': 5066, 'predictable': 5067, 'prediction': 5068, 'prefer': 5069, 'preferably': 5070, 'preference': 5071, 'preferences': 5072, 'preferred': 5073, 'premises': 5074, 'premium': 5075, 'premiums': 5076, 'preoccupied': 5077, 'preorder': 5078, 'preparation': 5079, 'prepare': 5080, 'prepared': 5081, 'preparedness': 5082, 'preparing': 5083, 'prescription': 5084, 'prescriptions': 5085, 'presence': 5086, 'present': 5087, 'presentation': 5088, 'presented': 5089, 'presenting': 5090, 'presents': 5091, 'preservation': 5092, 'preserve': 5093, 'president': 5094, 'press': 5095, 'pressed': 5096, 'pressing': 5097, 'pressure': 5098, 'pretty': 5099, 'prevent': 5100, 'prevented': 5101, 'prevention': 5102, 'preview': 5103, 'previous': 5104, 'previously': 5105, 'price': 5106, 'priced': 5107, 'priceless': 5108, 'prices': 5109, 'pricing': 5110, 'priest': 5111, 'primarily': 5112, 'primary': 5113, 'prime': 5114, 'principal': 5115, 'principle': 5116, 'print': 5117, 'printed': 5118, 'printers': 5119, 'printing': 5120, 'prints': 5121, 'prior': 5122, 'prioritize': 5123, 'prioritized': 5124, 'priority': 5125, 'privacy': 5126, 'private': 5127, 'privilege': 5128, 'prize': 5129, 'prized': 5130, 'probably': 5131, 'problem': 5132, 'problematic': 5133, 'problems': 5134, 'procedure': 5135, 'procedures': 5136, 'proceed': 5137, 'proceedings': 5138, 'proceeds': 5139, 'process': 5140, 'processed': 5141, 'processes': 5142, 'processing': 5143, 'processor': 5144, 'processors': 5145, 'procurement': 5146, 'produce': 5147, 'produced': 5148, 'producer': 5149, 'produces': 5150, 'producing': 5151, 'product': 5152, 'production': 5153, 'productions': 5154, 'productivity': 5155, 'products': 5156, 'profession': 5157, 'professional': 5158, 'professionally': 5159, 'professionals': 5160, 'professions': 5161, 'professor': 5162, 'professors': 5163, 'proficiency': 5164, 'profile': 5165, 'profit': 5166, 'profitability': 5167, 'profitable': 5168, 'profits': 5169, 'program': 5170, 'programmed': 5171, 'programmer': 5172, 'programmers': 5173, 'programming': 5174, 'programs': 5175, 'progress': 5176, 'progressing': 5177, 'project': 5178, 'projections': 5179, 'projector': 5180, 'projectors': 5181, 'projects': 5182, 'prominent': 5183, 'prominently': 5184, 'promise': 5185, 'promised': 5186, 'promises': 5187, 'promising': 5188, 'promo': 5189, 'promos': 5190, 'promote': 5191, 'promoting': 5192, 'promotion': 5193, 'promotional': 5194, 'promotions': 5195, 'prompt': 5196, 'promptly': 5197, 'prompts': 5198, 'proof': 5199, 'proofs': 5200, 'propelled': 5201, 'proper': 5202, 'properly': 5203, 'properties': 5204, 'property': 5205, 'proportion': 5206, 'proposal': 5207, 'proposals': 5208, 'propose': 5209, 'proposed': 5210, 'proposing': 5211, 'proposition': 5212, 'pros': 5213, 'prospective': 5214, 'prosperous': 5215, 'prosthetics': 5216, 'prostrations': 5217, 'protect': 5218, 'protected': 5219, 'protection': 5220, 'protectionism': 5221, 'protections': 5222, 'protective': 5223, 'protects': 5224, 'protein': 5225, 'protocol': 5226, 'protocols': 5227, 'prototype': 5228, 'proud': 5229, 'prove': 5230, 'proven': 5231, 'provide': 5232, 'provided': 5233, 'provider': 5234, 'providers': 5235, 'provides': 5236, 'providing': 5237, 'province': 5238, 'proximity': 5239, 'pub': 5240, 'public': 5241, 'publication': 5242, 'publications': 5243, 'publicly': 5244, 'publish': 5245, 'published': 5246, 'publishers': 5247, 'publishing': 5248, 'pull': 5249, 'pulse': 5250, 'pump': 5251, 'pumps': 5252, 'punctual': 5253, 'purchase': 5254, 'purchased': 5255, 'purchases': 5256, 'purchasing': 5257, 'purely': 5258, 'purified': 5259, 'purifiers': 5260, 'purify': 5261, 'purpose': 5262, 'purposes': 5263, 'pursue': 5264, 'push': 5265, 'pushed': 5266, 'put': 5267, 'puts': 5268, 'putting': 5269, 'quadrupled': 5270, 'qualified': 5271, 'qualify': 5272, 'qualities': 5273, 'quality': 5274, 'quantities': 5275, 'quantity': 5276, 'quarter': 5277, 'quarterly': 5278, 'queries': 5279, 'query': 5280, 'question': 5281, 'questionnaire': 5282, 'questions': 5283, 'queue': 5284, 'quick': 5285, 'quickly': 5286, 'quilt': 5287, 'quite': 5288, 'quotation': 5289, 'quotations': 5290, 'quote': 5291, 'radio': 5292, 'radioactive': 5293, 'railway': 5294, 'rain': 5295, 'raise': 5296, 'raising': 5297, 'rally': 5298, 'rambling': 5299, 'ramen': 5300, 'ran': 5301, 'random': 5302, 'randomly': 5303, 'rang': 5304, 'range': 5305, 'ranger': 5306, 'ranges': 5307, 'ranging': 5308, 'rank': 5309, 'ranked': 5310, 'ranking': 5311, 'ranks': 5312, 'rapidly': 5313, 'rapport': 5314, 'rare': 5315, 'rate': 5316, 'rates': 5317, 'rather': 5318, 'rating': 5319, 'ratings': 5320, 'ratio': 5321, 'rational': 5322, 'raw': 5323, 'ray': 5324, 'rd': 5325, 're': 5326, 'reach': 5327, 'reached': 5328, 'reaches': 5329, 'reaching': 5330, 'react': 5331, 'reaction': 5332, 'read': 5333, 'readers': 5334, 'reading': 5335, 'reads': 5336, 'ready': 5337, 'real': 5338, 'realistic': 5339, 'reality': 5340, 'realize': 5341, 'really': 5342, 'realtor': 5343, 'reap': 5344, 'rear': 5345, 'reason': 5346, 'reasonable': 5347, 'reasons': 5348, 'reassuring': 5349, 'rebook': 5350, 'recall': 5351, 'receipt': 5352, 'receipts': 5353, 'receivable': 5354, 'receive': 5355, 'received': 5356, 'receiver': 5357, 'receiving': 5358, 'recent': 5359, 'recently': 5360, 'reception': 5361, 'receptionist': 5362, 'recharge': 5363, 'recharging': 5364, 'recipe': 5365, 'recipes': 5366, 'recipients': 5367, 'recognize': 5368, 'recognized': 5369, 'recommend': 5370, 'recommendation': 5371, 'recommendations': 5372, 'recommended': 5373, 'recommending': 5374, 'reconfirm': 5375, 'reconsider': 5376, 'record': 5377, 'recorded': 5378, 'recording': 5379, 'recordings': 5380, 'records': 5381, 'recover': 5382, 'recovery': 5383, 'recreation': 5384, 'rectified': 5385, 'recuperate': 5386, 'red': 5387, 'redemption': 5388, 'redirect': 5389, 'redownloaded': 5390, 'redrafting': 5391, 'reduce': 5392, 'reduced': 5393, 'reduces': 5394, 'reducing': 5395, 'reefer': 5396, 'reefers': 5397, 'reels': 5398, 'refer': 5399, 'reference': 5400, 'referred': 5401, 'referring': 5402, 'refers': 5403, 'refine': 5404, 'reflected': 5405, 'refrain': 5406, 'refresher': 5407, 'refund': 5408, 'refunded': 5409, 'refunds': 5410, 'refuse': 5411, 'refuses': 5412, 'regard': 5413, 'regarded': 5414, 'regarding': 5415, 'regardless': 5416, 'regards': 5417, 'region': 5418, 'regional': 5419, 'register': 5420, 'registered': 5421, 'registration': 5422, 'registry': 5423, 'regret': 5424, 'regretting': 5425, 'regular': 5426, 'regularly': 5427, 'regulated': 5428, 'regulations': 5429, 'regulatory': 5430, 'rehearsal': 5431, 'reheated': 5432, 'reimbursed': 5433, 'reimbursement': 5434, 'reimbursing': 5435, 'reinstalled': 5436, 'reject': 5437, 'rejected': 5438, 'relatable': 5439, 'relate': 5440, 'related': 5441, 'relations': 5442, 'relationship': 5443, 'relationships': 5444, 'relative': 5445, 'relatively': 5446, 'relatives': 5447, 'relax': 5448, 'relaxation': 5449, 'relaxing': 5450, 'relay': 5451, 'release': 5452, 'released': 5453, 'releases': 5454, 'releasing': 5455, 'relentlessly': 5456, 'relevant': 5457, 'reliable': 5458, 'relief': 5459, 'relies': 5460, 'relieved': 5461, 'religious': 5462, 'relocate': 5463, 'rely': 5464, 'remain': 5465, 'remaining': 5466, 'remains': 5467, 'remarks': 5468, 'remember': 5469, 'remembered': 5470, 'remind': 5471, 'reminder': 5472, 'reminders': 5473, 'reminding': 5474, 'reminds': 5475, 'reminisce': 5476, 'remittance': 5477, 'remote': 5478, 'remotely': 5479, 'removable': 5480, 'remove': 5481, 'removers': 5482, 'removing': 5483, 'render': 5484, 'rendered': 5485, 'renders': 5486, 'renege': 5487, 'renew': 5488, 'renewable': 5489, 'renewal': 5490, 'renewed': 5491, 'renewing': 5492, 'renovate': 5493, 'renovated': 5494, 'renovation': 5495, 'renowned': 5496, 'rent': 5497, 'rental': 5498, 'rentals': 5499, 'rented': 5500, 'renting': 5501, 'reorder': 5502, 'repair': 5503, 'repay': 5504, 'repayment': 5505, 'repeat': 5506, 'replace': 5507, 'replaced': 5508, 'replacement': 5509, 'replacements': 5510, 'replacing': 5511, 'reply': 5512, 'report': 5513, 'reported': 5514, 'reports': 5515, 'representative': 5516, 'representing': 5517, 'represents': 5518, 'reputable': 5519, 'reputation': 5520, 'reputed': 5521, 'request': 5522, 'requested': 5523, 'requesting': 5524, 'requests': 5525, 'require': 5526, 'required': 5527, 'requirement': 5528, 'requirements': 5529, 'requires': 5530, 'rescheduled': 5531, 'rescission': 5532, 'research': 5533, 'researched': 5534, 'researching': 5535, 'resellers': 5536, 'resending': 5537, 'reservation': 5538, 'reservations': 5539, 'reserve': 5540, 'reserved': 5541, 'reserving': 5542, 'reset': 5543, 'reside': 5544, 'residence': 5545, 'resident': 5546, 'residents': 5547, 'residing': 5548, 'resistant': 5549, 'resistors': 5550, 'resolve': 5551, 'resolved': 5552, 'resolving': 5553, 'resort': 5554, 'resorting': 5555, 'resorts': 5556, 'resource': 5557, 'resources': 5558, 'respect': 5559, 'respected': 5560, 'respective': 5561, 'respectively': 5562, 'respects': 5563, 'respond': 5564, 'responding': 5565, 'response': 5566, 'responsibility': 5567, 'responsible': 5568, 'responsive': 5569, 'rest': 5570, 'restart': 5571, 'restaurant': 5572, 'restaurants': 5573, 'restocked': 5574, 'restore': 5575, 'restoring': 5576, 'restricted': 5577, 'restriction': 5578, 'restrictions': 5579, 'restroom': 5580, 'restrooms': 5581, 'result': 5582, 'resulted': 5583, 'results': 5584, 'resume': 5585, 'resumes': 5586, 'retail': 5587, 'retailer': 5588, 'retails': 5589, 'retain': 5590, 'retains': 5591, 'retirement': 5592, 'retract': 5593, 'retreat': 5594, 'retreats': 5595, 'retrieve': 5596, 'return': 5597, 'returned': 5598, 'returning': 5599, 'returns': 5600, 'reuploading': 5601, 'reusable': 5602, 'revamp': 5603, 'revealing': 5604, 'revenue': 5605, 'revenues': 5606, 'revert': 5607, 'review': 5608, 'reviewed': 5609, 'reviewers': 5610, 'reviewing': 5611, 'revise': 5612, 'revised': 5613, 'revision': 5614, 'revisions': 5615, 'revoke': 5616, 'revolving': 5617, 'reward': 5618, 'rewarding': 5619, 'rewards': 5620, 'rib': 5621, 'ribs': 5622, 'rice': 5623, 'rich': 5624, 'rid': 5625, 'ride': 5626, 'rides': 5627, 'right': 5628, 'rights': 5629, 'rigid': 5630, 'rim': 5631, 'ring': 5632, 'rise': 5633, 'risen': 5634, 'risk': 5635, 'risking': 5636, 'risks': 5637, 'risky': 5638, 'ritual': 5639, 'road': 5640, 'roadblock': 5641, 'roadmap': 5642, 'roasted': 5643, 'robot': 5644, 'rock': 5645, 'rocky': 5646, 'role': 5647, 'roleplaying': 5648, 'roles': 5649, 'roll': 5650, 'roller': 5651, 'rolls': 5652, 'roof': 5653, 'roofing': 5654, 'rooftop': 5655, 'room': 5656, 'roommate': 5657, 'rooms': 5658, 'root': 5659, 'roots': 5660, 'ropes': 5661, 'rotary': 5662, 'rough': 5663, 'round': 5664, 'rounds': 5665, 'router': 5666, 'routine': 5667, 'royalty': 5668, 'rude': 5669, 'ruin': 5670, 'ruined': 5671, 'rules': 5672, 'rumor': 5673, 'run': 5674, 'running': 5675, 'runs': 5676, 'rural': 5677, 'rush': 5678, 'rushing': 5679, 's': 5680, 'sacrificing': 5681, 'sad': 5682, 'safe': 5683, 'safeguard': 5684, 'safely': 5685, 'safer': 5686, 'safety': 5687, 'said': 5688, 'sake': 5689, 'salad': 5690, 'salary': 5691, 'sale': 5692, 'sales': 5693, 'salesmen': 5694, 'salt': 5695, 'saltwater': 5696, 'same': 5697, 'samgyeopsal': 5698, 'samgyupsal': 5699, 'sample': 5700, 'sampler': 5701, 'samples': 5702, 'sampling': 5703, 'sanctioning': 5704, 'sandwich': 5705, 'sandwiches': 5706, 'sanitary': 5707, 'satellite': 5708, 'satin': 5709, 'satisfied': 5710, 'satisfy': 5711, 'sauce': 5712, 'sauna': 5713, 'sausage': 5714, 'save': 5715, 'saved': 5716, 'saver': 5717, 'saves': 5718, 'saving': 5719, 'savings': 5720, 'savory': 5721, 'savvy': 5722, 'saw': 5723, 'say': 5724, 'saying': 5725, 'says': 5726, 'scaffolding': 5727, 'scale': 5728, 'scammed': 5729, 'scan': 5730, 'scanner': 5731, 'scanners': 5732, 'scanning': 5733, 'scarcity': 5734, 'scared': 5735, 'scavenger': 5736, 'scenario': 5737, 'scenarios': 5738, 'scenic': 5739, 'scent': 5740, 'schedule': 5741, 'scheduled': 5742, 'scheduler': 5743, 'schedules': 5744, 'scheme': 5745, 'scholar': 5746, 'scholarships': 5747, 'school': 5748, 'schooling': 5749, 'science': 5750, 'sciences': 5751, 'scientific': 5752, 'scientists': 5753, 'scooters': 5754, 'score': 5755, 'scores': 5756, 'scratch': 5757, 'screen': 5758, 'screening': 5759, 'screenplay': 5760, 'screens': 5761, 'screenshot': 5762, 'screenshots': 5763, 'screw': 5764, 'screws': 5765, 'script': 5766, 'scrub': 5767, 'sculptors': 5768, 'sea': 5769, 'seal': 5770, 'search': 5771, 'searching': 5772, 'seared': 5773, 'season': 5774, 'seasons': 5775, 'seat': 5776, 'seats': 5777, 'seaweed': 5778, 'seaworthiness': 5779, 'second': 5780, 'secondary': 5781, 'secondhand': 5782, 'seconds': 5783, 'secret': 5784, 'secretary': 5785, 'section': 5786, 'sector': 5787, 'secure': 5788, 'secured': 5789, 'secures': 5790, 'securing': 5791, 'securities': 5792, 'security': 5793, 'see': 5794, 'seedlings': 5795, 'seeing': 5796, 'seek': 5797, 'seeking': 5798, 'seem': 5799, 'seems': 5800, 'seen': 5801, 'select': 5802, 'selected': 5803, 'selection': 5804, 'selections': 5805, 'self': 5806, 'sell': 5807, 'seller': 5808, 'sellers': 5809, 'selling': 5810, 'sells': 5811, 'selves': 5812, 'semester': 5813, 'semiconductor': 5814, 'semiconductors': 5815, 'seminar': 5816, 'seminars': 5817, 'send': 5818, 'sender': 5819, 'sending': 5820, 'senior': 5821, 'seniors': 5822, 'sense': 5823, 'sensor': 5824, 'sensors': 5825, 'sent': 5826, 'separate': 5827, 'separately': 5828, 'serial': 5829, 'series': 5830, 'serious': 5831, 'serve': 5832, 'served': 5833, 'server': 5834, 'servers': 5835, 'serves': 5836, 'service': 5837, 'serviced': 5838, 'services': 5839, 'servicing': 5840, 'serving': 5841, 'servings': 5842, 'servo': 5843, 'session': 5844, 'sessions': 5845, 'set': 5846, 'sets': 5847, 'setting': 5848, 'settings': 5849, 'settle': 5850, 'settled': 5851, 'setup': 5852, 'setups': 5853, 'seven': 5854, 'several': 5855, 'severe': 5856, 'sewer': 5857, 'sewing': 5858, 'shaded': 5859, 'shaft': 5860, 'shafts': 5861, 'shake': 5862, 'shall': 5863, 'shape': 5864, 'shaped': 5865, 'shapes': 5866, 'share': 5867, 'shared': 5868, 'shares': 5869, 'sharing': 5870, 'sharpened': 5871, 'sharply': 5872, 'she': 5873, 'sheet': 5874, 'shelter': 5875, 'shift': 5876, 'shifted': 5877, 'ship': 5878, 'shipment': 5879, 'shipments': 5880, 'shipped': 5881, 'shipping': 5882, 'ships': 5883, 'shock': 5884, 'shoddy': 5885, 'shoe': 5886, 'shoes': 5887, 'shoot': 5888, 'shooting': 5889, 'shop': 5890, 'shopping': 5891, 'shops': 5892, 'short': 5893, 'shortly': 5894, 'shot': 5895, 'shots': 5896, 'should': 5897, 'shoulder': 5898, 'shouldn': 5899, 'shovel': 5900, 'shovels': 5901, 'show': 5902, 'showcase': 5903, 'showcases': 5904, 'showcasing': 5905, 'showed': 5906, 'shower': 5907, 'showing': 5908, 'shown': 5909, 'showroom': 5910, 'shows': 5911, 'shredder': 5912, 'shredders': 5913, 'shrimp': 5914, 'shutting': 5915, 'shy': 5916, 'sibling': 5917, 'side': 5918, 'sides': 5919, 'sign': 5920, 'signal': 5921, 'signals': 5922, 'signatory': 5923, 'signature': 5924, 'signatures': 5925, 'signed': 5926, 'significance': 5927, 'significant': 5928, 'significantly': 5929, 'signify': 5930, 'signing': 5931, 'silent': 5932, 'silk': 5933, 'silver': 5934, 'silverware': 5935, 'similar': 5936, 'simmered': 5937, 'simmering': 5938, 'simple': 5939, 'simpler': 5940, 'simply': 5941, 'simultaneously': 5942, 'since': 5943, 'sincere': 5944, 'sincerely': 5945, 'sing': 5946, 'single': 5947, 'sink': 5948, 'sir': 5949, 'sister': 5950, 'sit': 5951, 'site': 5952, 'sited': 5953, 'sites': 5954, 'sitting': 5955, 'situation': 5956, 'situations': 5957, 'six': 5958, 'sixth': 5959, 'sizable': 5960, 'size': 5961, 'sized': 5962, 'sizes': 5963, 'sketches': 5964, 'skill': 5965, 'skilled': 5966, 'skills': 5967, 'skin': 5968, 'skincare': 5969, 'skyline': 5970, 'skyrocket': 5971, 'sleep': 5972, 'sleeping': 5973, 'slept': 5974, 'slice': 5975, 'slide': 5976, 'slides': 5977, 'sliding': 5978, 'slightly': 5979, 'slip': 5980, 'slippers': 5981, 'slot': 5982, 'slots': 5983, 'slow': 5984, 'slurp': 5985, 'small': 5986, 'smaller': 5987, 'smallest': 5988, 'smart': 5989, 'smartphone': 5990, 'smartphones': 5991, 'smartwatches': 5992, 'smile': 5993, 'smoke': 5994, 'smooth': 5995, 'smoothly': 5996, 'snack': 5997, 'snacks': 5998, 'snap': 5999, 'sneakers': 6000, 'snob': 6001, 'snorkeling': 6002, 'so': 6003, 'soap': 6004, 'soaps': 6005, 'soaring': 6006, 'social': 6007, 'societal': 6008, 'socket': 6009, 'socks': 6010, 'sof': 6011, 'sofa': 6012, 'soft': 6013, 'software': 6014, 'softwares': 6015, 'soil': 6016, 'soju': 6017, 'sold': 6018, 'sole': 6019, 'solely': 6020, 'solid': 6021, 'solitary': 6022, 'solo': 6023, 'solution': 6024, 'solutions': 6025, 'solve': 6026, 'solving': 6027, 'some': 6028, 'somebody': 6029, 'someday': 6030, 'somehow': 6031, 'someone': 6032, 'something': 6033, 'sometime': 6034, 'sometimes': 6035, 'somewhere': 6036, 'son': 6037, 'song': 6038, 'songs': 6039, 'soon': 6040, 'sooner': 6041, 'sophisticated': 6042, 'sorry': 6043, 'sort': 6044, 'sorted': 6045, 'sorts': 6046, 'sound': 6047, 'soundbite': 6048, 'sounded': 6049, 'sounds': 6050, 'soundtrack': 6051, 'soup': 6052, 'source': 6053, 'sources': 6054, 'sous': 6055, 'southeast': 6056, 'souvenirs': 6057, 'soy': 6058, 'spa': 6059, 'space': 6060, 'spaces': 6061, 'spacious': 6062, 'spaghetti': 6063, 'spam': 6064, 'spare': 6065, 'spark': 6066, 'spas': 6067, 'speak': 6068, 'speaker': 6069, 'speakers': 6070, 'speaking': 6071, 'speaks': 6072, 'special': 6073, 'specialize': 6074, 'specialized': 6075, 'specializes': 6076, 'specialties': 6077, 'specialty': 6078, 'specific': 6079, 'specifically': 6080, 'specification': 6081, 'specifications': 6082, 'specifics': 6083, 'spectacular': 6084, 'spectrophotometer': 6085, 'spectrum': 6086, 'speed': 6087, 'speeds': 6088, 'spend': 6089, 'spending': 6090, 'spent': 6091, 'spices': 6092, 'spicy': 6093, 'spike': 6094, 'spinners': 6095, 'spinning': 6096, 'spiral': 6097, 'split': 6098, 'spoke': 6099, 'spoken': 6100, 'sponsor': 6101, 'sponsored': 6102, 'spoons': 6103, 'sports': 6104, 'spot': 6105, 'spots': 6106, 'spouse': 6107, 'sprained': 6108, 'spray': 6109, 'spread': 6110, 'spreader': 6111, 'spreading': 6112, 'spring': 6113, 'springs': 6114, 'sprout': 6115, 'sprouts': 6116, 'spyware': 6117, 'square': 6118, 'squeeze': 6119, 'squid': 6120, 'ssambap': 6121, 'ssamjang': 6122, 'st': 6123, 'stable': 6124, 'stacking': 6125, 'staff': 6126, 'staffs': 6127, 'stage': 6128, 'stages': 6129, 'staggered': 6130, 'stainless': 6131, 'stake': 6132, 'stalls': 6133, 'stand': 6134, 'standard': 6135, 'standards': 6136, 'standing': 6137, 'stands': 6138, 'star': 6139, 'starch': 6140, 'starred': 6141, 'stars': 6142, 'start': 6143, 'started': 6144, 'starters': 6145, 'starting': 6146, 'starts': 6147, 'startup': 6148, 'startups': 6149, 'state': 6150, 'stated': 6151, 'statement': 6152, 'statements': 6153, 'states': 6154, 'static': 6155, 'station': 6156, 'stationary': 6157, 'stationed': 6158, 'stations': 6159, 'statistics': 6160, 'statue': 6161, 'status': 6162, 'stay': 6163, 'stayed': 6164, 'staying': 6165, 'stays': 6166, 'steadier': 6167, 'steady': 6168, 'steak': 6169, 'steal': 6170, 'steamed': 6171, 'steamers': 6172, 'steel': 6173, 'steering': 6174, 'stems': 6175, 'step': 6176, 'stepped': 6177, 'steps': 6178, 'sterilizers': 6179, 'stew': 6180, 'stick': 6181, 'sticker': 6182, 'stickers': 6183, 'sticky': 6184, 'still': 6185, 'stipulated': 6186, 'stir': 6187, 'stitches': 6188, 'stock': 6189, 'stockbroker': 6190, 'stocks': 6191, 'stolen': 6192, 'stones': 6193, 'stop': 6194, 'stoppers': 6195, 'stops': 6196, 'storage': 6197, 'store': 6198, 'stored': 6199, 'stores': 6200, 'storey': 6201, 'stories': 6202, 'storm': 6203, 'story': 6204, 'stoves': 6205, 'straight': 6206, 'straighten': 6207, 'strain': 6208, 'strands': 6209, 'strange': 6210, 'strategic': 6211, 'strategies': 6212, 'strategize': 6213, 'strategy': 6214, 'straw': 6215, 'stream': 6216, 'streamed': 6217, 'streaming': 6218, 'street': 6219, 'strength': 6220, 'strengthen': 6221, 'stress': 6222, 'strict': 6223, 'strictly': 6224, 'strictness': 6225, 'strips': 6226, 'strive': 6227, 'striving': 6228, 'stroganoff': 6229, 'strong': 6230, 'stronger': 6231, 'strongly': 6232, 'structure': 6233, 'structures': 6234, 'struggle': 6235, 'stub': 6236, 'stuck': 6237, 'student': 6238, 'students': 6239, 'studied': 6240, 'studies': 6241, 'studio': 6242, 'study': 6243, 'studying': 6244, 'stuff': 6245, 'stumped': 6246, 'stunning': 6247, 'stupendous': 6248, 'stuttering': 6249, 'style': 6250, 'subcription': 6251, 'subdivision': 6252, 'submersible': 6253, 'submission': 6254, 'submissions': 6255, 'submit': 6256, 'submitted': 6257, 'subscribe': 6258, 'subscribed': 6259, 'subscriber': 6260, 'subscribers': 6261, 'subscribing': 6262, 'subscription': 6263, 'subscriptions': 6264, 'subsidiaries': 6265, 'subsidiary': 6266, 'substantial': 6267, 'subtitles': 6268, 'subway': 6269, 'succeed': 6270, 'succeeded': 6271, 'success': 6272, 'successful': 6273, 'succinctly': 6274, 'such': 6275, 'suction': 6276, 'sudden': 6277, 'suddenly': 6278, 'suffer': 6279, 'suffered': 6280, 'suffice': 6281, 'sufficient': 6282, 'sugar': 6283, 'suggest': 6284, 'suggested': 6285, 'suggesting': 6286, 'suggestion': 6287, 'suggestions': 6288, 'suit': 6289, 'suitable': 6290, 'suite': 6291, 'suites': 6292, 'sujeonggwa': 6293, 'sukju': 6294, 'sum': 6295, 'summary': 6296, 'summer': 6297, 'sun': 6298, 'sunrise': 6299, 'superintendent': 6300, 'superiors': 6301, 'supermarket': 6302, 'supervisor': 6303, 'supervisory': 6304, 'supplements': 6305, 'supplied': 6306, 'supplier': 6307, 'suppliers': 6308, 'supplies': 6309, 'supply': 6310, 'supplying': 6311, 'support': 6312, 'supporters': 6313, 'supporting': 6314, 'supportive': 6315, 'suppose': 6316, 'supposed': 6317, 'sure': 6318, 'surely': 6319, 'surface': 6320, 'surge': 6321, 'surpass': 6322, 'surplus': 6323, 'surprise': 6324, 'surprised': 6325, 'surround': 6326, 'surveillance': 6327, 'survey': 6328, 'surveyed': 6329, 'suspect': 6330, 'suspicious': 6331, 'sustainable': 6332, 'sweat': 6333, 'sweet': 6334, 'sweets': 6335, 'swift': 6336, 'swiftly': 6337, 'swimming': 6338, 'switch': 6339, 'switched': 6340, 'switching': 6341, 'symbols': 6342, 'symmetric': 6343, 'syndicated': 6344, 'synopsis': 6345, 'synthesizing': 6346, 'synthetic': 6347, 'syringes': 6348, 'system': 6349, 'systems': 6350, 't': 6351, 'tab': 6352, 'table': 6353, 'tables': 6354, 'tablet': 6355, 'tablets': 6356, 'tabulate': 6357, 'tackled': 6358, 'tactics': 6359, 'tagline': 6360, 'tags': 6361, 'tainted': 6362, 'take': 6363, 'taken': 6364, 'takeover': 6365, 'taker': 6366, 'takes': 6367, 'taking': 6368, 'talent': 6369, 'talents': 6370, 'talk': 6371, 'talked': 6372, 'talking': 6373, 'talks': 6374, 'tap': 6375, 'tape': 6376, 'taps': 6377, 'target': 6378, 'targeted': 6379, 'targeting': 6380, 'targets': 6381, 'tariff': 6382, 'tariffs': 6383, 'task': 6384, 'tasked': 6385, 'tasks': 6386, 'taste': 6387, 'tasted': 6388, 'tastes': 6389, 'tasty': 6390, 'tattoo': 6391, 'taught': 6392, 'tax': 6393, 'taxation': 6394, 'taxed': 6395, 'taxes': 6396, 'tea': 6397, 'teach': 6398, 'teacher': 6399, 'teachers': 6400, 'teaching': 6401, 'team': 6402, 'teammates': 6403, 'teams': 6404, 'teas': 6405, 'teaser': 6406, 'tech': 6407, 'technical': 6408, 'technically': 6409, 'technician': 6410, 'technicians': 6411, 'techniques': 6412, 'technological': 6413, 'technologies': 6414, 'technologist': 6415, 'technology': 6416, 'tedious': 6417, 'teenagers': 6418, 'telecommunication': 6419, 'telecommunications': 6420, 'teleconference': 6421, 'telephone': 6422, 'television': 6423, 'televisions': 6424, 'tell': 6425, 'telling': 6426, 'temperature': 6427, 'temperatures': 6428, 'template': 6429, 'templates': 6430, 'temple': 6431, 'temples': 6432, 'temporarily': 6433, 'temporary': 6434, 'ten': 6435, 'tenants': 6436, 'tend': 6437, 'tendency': 6438, 'tender': 6439, 'tent': 6440, 'tentative': 6441, 'tents': 6442, 'tenure': 6443, 'terabyte': 6444, 'terabytes': 6445, 'term': 6446, 'terminal': 6447, 'terminate': 6448, 'terms': 6449, 'terrace': 6450, 'terrible': 6451, 'terribly': 6452, 'test': 6453, 'tested': 6454, 'tester': 6455, 'testers': 6456, 'testing': 6457, 'tests': 6458, 'text': 6459, 'textbook': 6460, 'textbooks': 6461, 'textile': 6462, 'textiles': 6463, 'texts': 6464, 'texture': 6465, 'textures': 6466, 'th': 6467, 'than': 6468, 'thank': 6469, 'thanks': 6470, 'that': 6471, 'the': 6472, 'theater': 6473, 'their': 6474, 'theirs': 6475, 'them': 6476, 'theme': 6477, 'themes': 6478, 'themselves': 6479, 'then': 6480, 'therapy': 6481, 'there': 6482, 'thereby': 6483, 'therefore': 6484, 'thermoforming': 6485, 'thermoplastic': 6486, 'thermostat': 6487, 'these': 6488, 'they': 6489, 'thick': 6490, 'thickened': 6491, 'thin': 6492, 'thing': 6493, 'things': 6494, 'think': 6495, 'thinking': 6496, 'thinks': 6497, 'third': 6498, 'this': 6499, 'thorough': 6500, 'thoroughly': 6501, 'those': 6502, 'though': 6503, 'thought': 6504, 'thoughts': 6505, 'thousand': 6506, 'thousands': 6507, 'threads': 6508, 'threat': 6509, 'threaten': 6510, 'threatening': 6511, 'three': 6512, 'thriller': 6513, 'thrives': 6514, 'through': 6515, 'throughout': 6516, 'thus': 6517, 'ticket': 6518, 'tickets': 6519, 'tie': 6520, 'tied': 6521, 'tier': 6522, 'tight': 6523, 'tightly': 6524, 'till': 6525, 'time': 6526, 'timeline': 6527, 'timelines': 6528, 'timely': 6529, 'timer': 6530, 'times': 6531, 'timespan': 6532, 'timetable': 6533, 'timing': 6534, 'tiny': 6535, 'tip': 6536, 'tipping': 6537, 'tips': 6538, 'tire': 6539, 'tissue': 6540, 'title': 6541, 'to': 6542, 'toast': 6543, 'toasters': 6544, 'tobacco': 6545, 'today': 6546, 'toddlers': 6547, 'toe': 6548, 'together': 6549, 'toilet': 6550, 'token': 6551, 'tokens': 6552, 'told': 6553, 'tolerant': 6554, 'tolerated': 6555, 'tomorrow': 6556, 'ton': 6557, 'tone': 6558, 'toner': 6559, 'tones': 6560, 'tonight': 6561, 'too': 6562, 'took': 6563, 'tool': 6564, 'tools': 6565, 'top': 6566, 'topic': 6567, 'topics': 6568, 'topmost': 6569, 'torn': 6570, 'tortilla': 6571, 'total': 6572, 'totally': 6573, 'touch': 6574, 'touchscreen': 6575, 'tough': 6576, 'tour': 6577, 'tourism': 6578, 'tourist': 6579, 'tourists': 6580, 'tours': 6581, 'tow': 6582, 'toward': 6583, 'towards': 6584, 'towel': 6585, 'towels': 6586, 'town': 6587, 'townhouse': 6588, 'track': 6589, 'trackballs': 6590, 'tracking': 6591, 'trackpad': 6592, 'tractor': 6593, 'trade': 6594, 'trademark': 6595, 'trader': 6596, 'trades': 6597, 'trading': 6598, 'traditional': 6599, 'traditionally': 6600, 'traditions': 6601, 'traffic': 6602, 'trailer': 6603, 'trailers': 6604, 'train': 6605, 'training': 6606, 'trainings': 6607, 'trains': 6608, 'tranche': 6609, 'transact': 6610, 'transaction': 6611, 'transactions': 6612, 'transfer': 6613, 'transferred': 6614, 'transferring': 6615, 'transfers': 6616, 'translations': 6617, 'translators': 6618, 'transmission': 6619, 'transmit': 6620, 'transmitted': 6621, 'transparency': 6622, 'transport': 6623, 'transportation': 6624, 'transportations': 6625, 'trash': 6626, 'travel': 6627, 'traveled': 6628, 'travelers': 6629, 'traveling': 6630, 'travelled': 6631, 'tread': 6632, 'treat': 6633, 'treated': 6634, 'treatment': 6635, 'treatments': 6636, 'tremendously': 6637, 'trend': 6638, 'trending': 6639, 'trends': 6640, 'trendy': 6641, 'tri': 6642, 'trial': 6643, 'trials': 6644, 'tricky': 6645, 'tried': 6646, 'tries': 6647, 'trigger': 6648, 'trip': 6649, 'triple': 6650, 'trips': 6651, 'trouble': 6652, 'troubles': 6653, 'troubleshooting': 6654, 'truck': 6655, 'trucks': 6656, 'true': 6657, 'truly': 6658, 'trust': 6659, 'trusted': 6660, 'trustee': 6661, 'trusting': 6662, 'trustworthy': 6663, 'truth': 6664, 'try': 6665, 'trying': 6666, 'tteokbokki': 6667, 'tub': 6668, 'tube': 6669, 'tubes': 6670, 'tubing': 6671, 'tubs': 6672, 'tuned': 6673, 'tunnels': 6674, 'turn': 6675, 'turnaround': 6676, 'turned': 6677, 'turning': 6678, 'turnkey': 6679, 'turns': 6680, 'tutorials': 6681, 'tweaks': 6682, 'twenty': 6683, 'twice': 6684, 'twin': 6685, 'two': 6686, 'type': 6687, 'types': 6688, 'typewriter': 6689, 'typical': 6690, 'typically': 6691, 'ultimately': 6692, 'ultrasonic': 6693, 'ultrasound': 6694, 'umbrella': 6695, 'unable': 6696, 'unacceptable': 6697, 'unauthorized': 6698, 'unavailable': 6699, 'unaware': 6700, 'unboxed': 6701, 'unboxing': 6702, 'unbreakable': 6703, 'unchanged': 6704, 'uncomfortable': 6705, 'under': 6706, 'undergoing': 6707, 'underlying': 6708, 'underneath': 6709, 'underreported': 6710, 'understaffed': 6711, 'understand': 6712, 'understandable': 6713, 'understanding': 6714, 'undervalued': 6715, 'underwriting': 6716, 'undoubtedly': 6717, 'undress': 6718, 'unemployed': 6719, 'unending': 6720, 'unequal': 6721, 'unexpected': 6722, 'unfair': 6723, 'unfamiliar': 6724, 'unfold': 6725, 'unforeseen': 6726, 'unfortunate': 6727, 'unfortunately': 6728, 'unhappy': 6729, 'unintentional': 6730, 'unique': 6731, 'unit': 6732, 'units': 6733, 'unity': 6734, 'universal': 6735, 'universities': 6736, 'university': 6737, 'unless': 6738, 'unlike': 6739, 'unlimited': 6740, 'unloading': 6741, 'unnecessary': 6742, 'unpleasant': 6743, 'unpredictable': 6744, 'unprofessional': 6745, 'unquantifiable': 6746, 'unrealized': 6747, 'unsecured': 6748, 'unstable': 6749, 'unsure': 6750, 'unsustainable': 6751, 'until': 6752, 'untouched': 6753, 'unused': 6754, 'up': 6755, 'upcoming': 6756, 'update': 6757, 'updated': 6758, 'updates': 6759, 'updating': 6760, 'upfront': 6761, 'upgrade': 6762, 'upgraded': 6763, 'upgrades': 6764, 'upgrading': 6765, 'upkeep': 6766, 'upload': 6767, 'uploaded': 6768, 'uploading': 6769, 'upon': 6770, 'upper': 6771, 'ups': 6772, 'upset': 6773, 'urge': 6774, 'urged': 6775, 'urgent': 6776, 'urgently': 6777, 'us': 6778, 'usability': 6779, 'usage': 6780, 'use': 6781, 'used': 6782, 'useful': 6783, 'user': 6784, 'users': 6785, 'uses': 6786, 'using': 6787, 'usual': 6788, 'usually': 6789, 'utensils': 6790, 'utilities': 6791, 'utility': 6792, 'utilize': 6793, 'utilized': 6794, 'utilizing': 6795, 'vacation': 6796, 'vaccination': 6797, 'vaccine': 6798, 'vacuum': 6799, 'valid': 6800, 'validates': 6801, 'validating': 6802, 'validity': 6803, 'valuable': 6804, 'valuables': 6805, 'value': 6806, 'values': 6807, 'valve': 6808, 'valves': 6809, 'van': 6810, 'vans': 6811, 'variable': 6812, 'variables': 6813, 'variation': 6814, 'varies': 6815, 'varieties': 6816, 'variety': 6817, 'various': 6818, 'vary': 6819, 'varying': 6820, 've': 6821, 'vector': 6822, 'vectors': 6823, 'vegan': 6824, 'vegetable': 6825, 'vegetables': 6826, 'vegetarian': 6827, 'veggies': 6828, 'vehicle': 6829, 'vehicles': 6830, 'vending': 6831, 'vendor': 6832, 'vendors': 6833, 'venture': 6834, 'ventures': 6835, 'venturi': 6836, 'venturing': 6837, 'venue': 6838, 'verification': 6839, 'verified': 6840, 'verify': 6841, 'versatile': 6842, 'version': 6843, 'versions': 6844, 'very': 6845, 'veteran': 6846, 'via': 6847, 'viable': 6848, 'viand': 6849, 'vibes': 6850, 'vibrations': 6851, 'victim': 6852, 'vide': 6853, 'video': 6854, 'videoconferencing': 6855, 'videos': 6856, 'view': 6857, 'viewers': 6858, 'views': 6859, 'villa': 6860, 'village': 6861, 'villas': 6862, 'vine': 6863, 'vinegar': 6864, 'vintage': 6865, 'violated': 6866, 'violation': 6867, 'violent': 6868, 'viral': 6869, 'virtual': 6870, 'virtualization': 6871, 'virtually': 6872, 'virus': 6873, 'viruses': 6874, 'visas': 6875, 'viscosity': 6876, 'visibility': 6877, 'visible': 6878, 'vision': 6879, 'visit': 6880, 'visited': 6881, 'visiting': 6882, 'visitors': 6883, 'visits': 6884, 'visual': 6885, 'visualization': 6886, 'visualizations': 6887, 'visualize': 6888, 'visually': 6889, 'visuals': 6890, 'vital': 6891, 'vitals': 6892, 'vlog': 6893, 'vocabulary': 6894, 'voice': 6895, 'volatile': 6896, 'volume': 6897, 'voluminous': 6898, 'vulnerable': 6899, 'wafer': 6900, 'wage': 6901, 'wages': 6902, 'wait': 6903, 'waited': 6904, 'waiters': 6905, 'waiting': 6906, 'waive': 6907, 'waived': 6908, 'wake': 6909, 'walk': 6910, 'walking': 6911, 'wallet': 6912, 'wallpapers': 6913, 'walls': 6914, 'want': 6915, 'wanted': 6916, 'wanting': 6917, 'wants': 6918, 'warehouse': 6919, 'warm': 6920, 'warn': 6921, 'warning': 6922, 'warping': 6923, 'warrant': 6924, 'warrants': 6925, 'warranty': 6926, 'wary': 6927, 'was': 6928, 'washer': 6929, 'washers': 6930, 'wasn': 6931, 'waste': 6932, 'wasting': 6933, 'watch': 6934, 'watched': 6935, 'watching': 6936, 'water': 6937, 'watering': 6938, 'watermelon': 6939, 'waterproof': 6940, 'waterways': 6941, 'watts': 6942, 'way': 6943, 'ways': 6944, 'we': 6945, 'wealth': 6946, 'wealthy': 6947, 'wear': 6948, 'weather': 6949, 'web': 6950, 'webinar': 6951, 'webinars': 6952, 'webpage': 6953, 'website': 6954, 'websites': 6955, 'wedding': 6956, 'weddings': 6957, 'week': 6958, 'weekdays': 6959, 'weekend': 6960, 'weekends': 6961, 'weekly': 6962, 'weeks': 6963, 'weight': 6964, 'welcome': 6965, 'welcomes': 6966, 'well': 6967, 'went': 6968, 'were': 6969, 'weren': 6970, 'west': 6971, 'western': 6972, 'what': 6973, 'whatever': 6974, 'wheat': 6975, 'wheel': 6976, 'wheels': 6977, 'when': 6978, 'whenever': 6979, 'where': 6980, 'whereabouts': 6981, 'wherever': 6982, 'whether': 6983, 'which': 6984, 'while': 6985, 'white': 6986, 'who': 6987, 'whoever': 6988, 'whole': 6989, 'wholesale': 6990, 'whom': 6991, 'whose': 6992, 'why': 6993, 'wide': 6994, 'widely': 6995, 'widened': 6996, 'wider': 6997, 'widest': 6998, 'wife': 6999, 'wild': 7000, 'wildlife': 7001, 'will': 7002, 'willing': 7003, 'win': 7004, 'wind': 7005, 'window': 7006, 'windows': 7007, 'wine': 7008, 'wines': 7009, 'wing': 7010, 'winner': 7011, 'winter': 7012, 'wipe': 7013, 'wire': 7014, 'wired': 7015, 'wireless': 7016, 'wires': 7017, 'wise': 7018, 'wisely': 7019, 'wish': 7020, 'wished': 7021, 'wishes': 7022, 'with': 7023, 'withdraw': 7024, 'withdrawal': 7025, 'withhold': 7026, 'within': 7027, 'without': 7028, 'witness': 7029, 'women': 7030, 'won': 7031, 'wonder': 7032, 'wonderful': 7033, 'wondering': 7034, 'wonders': 7035, 'wood': 7036, 'word': 7037, 'words': 7038, 'work': 7039, 'worked': 7040, 'worker': 7041, 'workers': 7042, 'workforce': 7043, 'working': 7044, 'workplace': 7045, 'works': 7046, 'workshop': 7047, 'world': 7048, 'worldwide': 7049, 'worm': 7050, 'worms': 7051, 'worried': 7052, 'worries': 7053, 'worry': 7054, 'worrying': 7055, 'worse': 7056, 'worst': 7057, 'worth': 7058, 'worthwhile': 7059, 'worthy': 7060, 'would': 7061, 'wouldn': 7062, 'wow': 7063, 'wrap': 7064, 'wrapping': 7065, 'wraps': 7066, 'write': 7067, 'writers': 7068, 'writing': 7069, 'written': 7070, 'wrong': 7071, 'yacht': 7072, 'yang': 7073, 'yard': 7074, 'yarn': 7075, 'year': 7076, 'yearly': 7077, 'years': 7078, 'yell': 7079, 'yellow': 7080, 'yen': 7081, 'yes': 7082, 'yesterday': 7083, 'yet': 7084, 'yield': 7085, 'yields': 7086, 'yin': 7087, 'yo': 7088, 'you': 7089, 'young': 7090, 'youngsters': 7091, 'your': 7092, 'yours': 7093, 'yourself': 7094, 'yourselves': 7095, 'youth': 7096, 'yurt': 7097, 'zero': 7098, 'zones': 7099, 'zoom': 7100}\n"
          ]
        }
      ]
    },
    {
      "cell_type": "code",
      "source": [
        "print(src_to_index['<EOS>']) #<EOS> 329번째\n",
        "print(tar_to_index['<SOS>']) #<SOS> 194번째 \n",
        "print(tar_to_index['<EOS>']) #<EOS> 193번째 "
      ],
      "metadata": {
        "colab": {
          "base_uri": "https://localhost:8080/"
        },
        "id": "c_wAJ4xRsc_4",
        "outputId": "b4d73851-4791-417e-f61e-6acde38d7096"
      },
      "execution_count": 35,
      "outputs": [
        {
          "output_type": "stream",
          "name": "stdout",
          "text": [
            "329\n",
            "194\n",
            "193\n"
          ]
        }
      ]
    },
    {
      "cell_type": "markdown",
      "source": [
        "### 정수 인코딩"
      ],
      "metadata": {
        "id": "tWUdLA1eanaz"
      }
    },
    {
      "cell_type": "code",
      "source": [
        "# encoder의 입력값 정수 인코딩 진행\n",
        "encoder_input = [torch.Tensor([src_to_index[i] for i in seq]).long() for seq in src_seq_tr]\n",
        "# 다만 decoder의 출력값은 <SOS>들어가면 안되니 첫번째 토큰은 빼주기\n",
        "decoder_target = [torch.Tensor([tar_to_index[i] for i in seq if i != '<SOS>']).long() for seq in tar_seq_tr]\n",
        "# decoder의 입력값은 마지막 <EOS>가 들어가면 안되니 마지막 토큰은 빼주기\n",
        "decoder_input = [torch.Tensor([tar_to_index[i] for i in seq if i != '<EOS>']).long() for seq in tar_seq_tr]"
      ],
      "metadata": {
        "id": "2O_jIeoPr7Gm"
      },
      "execution_count": 31,
      "outputs": []
    },
    {
      "cell_type": "code",
      "source": [
        "\n",
        "'''\n",
        "# 앞서 toekn-index dictionary로 정리한 것을 이용해서 각각의 토큰들을 정수인코딩을 진행해봅니다.\n",
        "# 이 과정에서 유의할 점은, 기존의 구현 코드에서 여러개의 for loop을 사용했습니다.\n",
        "# 이보다 빨리 진행하기 위해 어떻게 코딩할 수 있을까요?\n",
        "# 시간이 충분하시다면 for loop을 그대로 이용하셔도 좋습니다만, 다른 방법도 고민하셔도 좋습니다.\n",
        "# hint: Pandas에서 apply와 비슷한 것들을 이용해보면 어떨까요?\n",
        "# 영상 참고\n",
        "\n",
        "\n",
        "# encoder의 입력값 정수 인코딩 진행\n",
        "encoder_input = list(map(lambda x: src_to_index[x], src_vocab))\n",
        "# 우선 decoder에서 사용하는 문장에 대해 정수인코딩 진행\n",
        "decoder_input = list(map(lambda x: tar_to_index[x], tar_vocab))\n",
        "# 다만 decoder의 출력값은 <SOS>들어가면 안되니 첫번째 토큰은 빼주기\n",
        "decoder_target = decoder_input.pop(0)\n",
        "# decoder의 입력값은 마지막 <EOS>가 들어가면 안되니 마지막 토큰은 빼주기\n",
        "decoder_input = decoder_input.pop(-1)\n",
        "'''"
      ],
      "metadata": {
        "id": "ocvHdAzp0B3Q"
      },
      "execution_count": null,
      "outputs": []
    },
    {
      "cell_type": "code",
      "source": [
        "'''\n",
        "# 현재 2가지 언어에 대해서 각각 단어집합을 만든 상태입니다. 즉 사용하는 언어들마다 단어집합도 다르고, index도 다릅니다.\n",
        "# 그래서 입력 시퀀스 출력 시퀀스별로 token에 정수형의 숫자들을 할당해놓은 것이 바로 src_to_index, tar_to_index입니다.\n",
        "\n",
        "# 아래의 코드에서는 이를 이용해서 문자 --> 숫자로 바꿔주는 과정입니다.\n",
        "\n",
        "# 입력 시퀀스를 먼저 처리하겠습니다.\n",
        "# 입력 시퀀스는 encoder에 들어가는 값이기에 encoder_input이라고 해보겠습니다.\n",
        "encoder_input = []\n",
        "\n",
        "# 1개의 문장\n",
        "for line in src_seq_tr:\n",
        "  encoded_line = []\n",
        "  # 각 줄에서 1개의 알파벳별로 처리. 앞서서 동일한 방식으로 tokenization을 했기 때문!\n",
        "  for char in line:\n",
        "    # 각 알파벳을 정수로 바꾸어야합니다. 왜 하필 정수형이냐에 대해선 이후에 있을 Embedding과 관련 있습니다.\n",
        "    # 우선 각 알파벳을 숫자로 바꿔줍니다.\n",
        "    encoded_line.append(src_to_index[char])\n",
        "  # 위에서 사용한 index도 정수형이긴한데, 결국 torch.Tensor를 사용해야 하고, Tensor에서 정수형에 해당하는 type이 LongTensor이기 때문에\n",
        "  # .long()을 이용하여 정수형으로 만들어 줍니다.\n",
        "  encoder_input.append(torch.Tensor(encoded_line).long())\n",
        "print('source 문장의 정수 인코딩 :\\n',encoder_input[:5], '\\n')\n",
        "'''"
      ],
      "metadata": {
        "colab": {
          "base_uri": "https://localhost:8080/"
        },
        "id": "bljiIWS37jwl",
        "outputId": "5082e62b-752a-4ff5-ef7c-36645d60ead6"
      },
      "execution_count": null,
      "outputs": [
        {
          "output_type": "stream",
          "name": "stdout",
          "text": [
            "source 문장의 정수 인코딩 :\n",
            " [tensor([ 766, 3386,  847,  ..., 5379, 5540, 5590]), tensor([ 766, 3386,  847,  ..., 5379, 5540, 5590]), tensor([ 766, 3386,  847,  ..., 5379, 5540, 5590]), tensor([ 766, 3386,  847,  ..., 5379, 5540, 5590]), tensor([ 766, 3386,  847,  ..., 5379, 5540, 5590])] \n",
            "\n"
          ]
        }
      ]
    },
    {
      "cell_type": "code",
      "source": [
        "'''\n",
        "# decoder에 사용할 입력값도 숫자로 바꾸는 과정이 들어갑니다.\n",
        "# 또한 Decoder의 경우 입력 데이터와 출력 데이터의 형태가 1 step씩 차이가 나는 구조입니다!\n",
        "# 이를 유의하여 보셔야 합니다.\n",
        "\n",
        "\n",
        "# 현재 데이터는 \"<SOS> 문장 <EOS>\" 구조입니다.\n",
        "# 아래의 코드는 Decoder의 입력 데이터를 만드는 코드이기에 EOS가 제외되어야합니다.\n",
        "# 그리고 EOS는 문장(list)에서 맨 마.지.막.에 있습니다!\n",
        "\n",
        "decoder_input = []\n",
        "# 여기서 line은 문자열에 해당합니다. \n",
        "for line in tar_seq_tr:\n",
        "  encoded_line = []\n",
        "  for char in line:\n",
        "    encoded_line.append(tar_to_index[char])\n",
        "  # 현재 데이터 상 문장 맨 마지막에는 <EOS>가 들어가 있는데, decoder를 학습할 때 <EOS>를 넣지 않으니 마지막의 값을 pop하여 제외합니다.\n",
        "  encoded_line.pop(-1)\n",
        "\n",
        "  # 여기서 .long()은 정수 인코딩된 문장들의 type을 정하는 것으로, 이후에 Embedding layer를 사용할 때 해당 타입을 사용해야하기 때문에 사용한 것입니다.\n",
        "  decoder_input.append(torch.Tensor(encoded_line).long())  \n",
        "print('target 문장의 정수 인코딩 :\\n',decoder_input[:5],'\\n')\n",
        "\n",
        "# 결과에서 3은 띄어쓰기에 해당 2가 문장 종료를 의미하는 것이었는데 pop으로 삭제되었음\n",
        "'''"
      ],
      "metadata": {
        "colab": {
          "base_uri": "https://localhost:8080/"
        },
        "id": "mT1EHaSZ9aRr",
        "outputId": "8ae51625-dbba-4777-c65f-f879f181c8b2"
      },
      "execution_count": null,
      "outputs": [
        {
          "output_type": "stream",
          "name": "stdout",
          "text": [
            "target 문장의 정수 인코딩 :\n",
            " [tensor([6202, 4339, 2632,  ...,  439,  318, 6029]), tensor([6202, 4339, 2632,  ...,  439,  318, 6029]), tensor([6202, 4339, 2632,  ...,  439,  318, 6029]), tensor([6202, 4339, 2632,  ...,  439,  318, 6029]), tensor([6202, 4339, 2632,  ...,  439,  318, 6029])] \n",
            "\n"
          ]
        }
      ]
    },
    {
      "cell_type": "code",
      "source": [
        "'''\n",
        "encoder_input\n",
        "'''"
      ],
      "metadata": {
        "id": "VpeOkFPTmJgh"
      },
      "execution_count": null,
      "outputs": []
    },
    {
      "cell_type": "code",
      "execution_count": 32,
      "metadata": {
        "id": "fT3x1SL_l1pY"
      },
      "outputs": [],
      "source": [
        "from torch.nn.utils.rnn import pad_sequence"
      ]
    },
    {
      "cell_type": "markdown",
      "source": [
        "### Padding"
      ],
      "metadata": {
        "id": "ibj8DeCqbvZG"
      }
    },
    {
      "cell_type": "code",
      "execution_count": 33,
      "metadata": {
        "id": "sSNmdbEwuQR5"
      },
      "outputs": [],
      "source": [
        "# 현재 길이가 제각각인 정수화된 문장이 있습니다. padding을 통해 길이를 맞춰봅시다\n",
        "# 주의사항: 여기에 사용된 값을은 정수일까요?\n",
        "batch_first = True\n",
        "\n",
        "encoder_input_tr = pad_sequence(encoder_input, batch_first=batch_first).long()\n",
        "decoder_input_tr = pad_sequence(decoder_input, batch_first=batch_first).long()\n",
        "decoder_target_tr = pad_sequence(decoder_target, batch_first=batch_first).long()\n"
      ]
    },
    {
      "cell_type": "markdown",
      "metadata": {
        "id": "FQ_AHRQPmfZX"
      },
      "source": [
        "## Train data\n",
        "\n",
        "tuple type으로,  (encoder_input, decoder_input, decoder_target)의 순서를 가지게 됩니다. 이는 tuple assignment를 이용하려고 하는 것이니 자유롭게 사용하셔도 좋습니다."
      ]
    },
    {
      "cell_type": "code",
      "execution_count": 36,
      "metadata": {
        "id": "YXqi5dV-mjQD"
      },
      "outputs": [],
      "source": [
        "train_data = tuple([encoder_input_tr, decoder_input_tr, decoder_target_tr])"
      ]
    },
    {
      "cell_type": "markdown",
      "metadata": {
        "id": "nXhsP4O3mhih"
      },
      "source": [
        "## Eval data\n",
        "\n",
        "지금까지 진행한 것은 학습 데이터에 대한 전처리입니다.\n",
        "\n",
        "그런데 말입니다, 과연 평가 데이터는 학습데이터랑 동일한 형태일까요?\n",
        "\n",
        "사용하는 단어도 동일할까요?\n",
        "\n",
        "게다가 실제 데이터라면 문장 속에 이메일이나, 전화번호등 다른 것들로 대체해야할 게 있지 않을까요?\n",
        "\n",
        "참으로 고민할 게 많습니다. 이 모든 것들을 고려하면 좋겠지만, 현재 과제에서는 학습 데이터의 단어 집합에는 없는데 평가 데이터에서 등장하는 단어들은 어떻게 처리할지 한번 고민해봅시다.\n",
        "\n",
        "**핵심 TODO**:만약에 본 적이 없는 token이 나온다면 어떻게 될까요?\n",
        "\n",
        "--> Out of Vocabulary !  =지금까지 단어 집합에 없던 아이들!<br>\n",
        "\n",
        "이를 한번에 처리해주는 토큰으로 \\<UNK\\>(=unknown token) 을 사용\n",
        "\n",
        "EX)\n",
        "\n",
        "train data : \"나는 밥을 먹는다.\"<br>\n",
        "\\>> [\"나\", \"밥\", \"먹다\"]<br>\n",
        "\\>> [\\<SOS\\>, 나, 밥, 먹다, \\<EOS\\>] <BR>\n",
        "\\>> {\\<SOS\\>:0, \\<EOS\\>:1, \\<UNK\\>: 2, 나:3, 밥:4, 먹다:5}  <bR>\n",
        "\\>> [0, 3, 4, 5, 1] <BR>\n",
        "\n",
        "val data: \"나는 고기를 먹는다\"<br>\n",
        "\\>> ['나', '고기' '먹다']<BR>\n",
        "\\>> [\\<SOS\\>, 나, \\<UNK\\>, 먹다, \\<EOS\\>] <BR>\n",
        "\\>> [0, 3, 2, 5, 1] <BR>"
      ]
    },
    {
      "cell_type": "code",
      "source": [
        "src_seq_val = []\n",
        "tar_seq_val = []\n",
        "\n",
        "\n",
        "for raw_val_dat in tqdm(raw_val_data):\n",
        "  # 문장별 tokenization\n",
        "  src_tmp = CustomTokenizer(raw_val_dat['ko'])\n",
        "  tar_tmp = CustomTokenizer(raw_val_dat['en'])\n",
        "  \n",
        "  # 입력 시퀀스에서 문장의 끝을 알리는 <EOS> 토큰 추가\n",
        "  # 출력 시퀀스에서 시작과 끝을 알리는 <SOS>, <EOS> 토큰 추가\n",
        "  src_tmp.append('<EOS>')\n",
        "  tar_tmp.insert(0, '<SOS>')\n",
        "  tar_tmp.append('<EOS>')\n",
        "\n",
        "\n",
        "  # 처음보는 단어들은 일단 모르는 단어(OOV)로 표시해놓기  \n",
        "  # 해당 과정에서는 지금 얻은 toekn들(src_tmp와 tar_tmp)들 중에서 학습 데이터의 단어 집합(src_vocab과 tar_vocab)에 없는 단어들을 찾아야 합니다.\n",
        "  # 즉 위의 예시에서 \"고기\"에 해당하는 token을 찾아야 하고, 이를 list로 저장해봅시다.\n",
        "  src_oov = list(set(src_tmp) - set(src_vocab))\n",
        "  tar_oov = list(set(tar_tmp) - set(tar_vocab))\n",
        "\n",
        "  # OOV들은 <UNK>로 바꾸는 과정입니다.\n",
        "  # 지금 문장을 tokenization되어 있고, 앞서 구한 모르는 단어(OOV)들의 리스트(src_oov와 tar_oov)가 있는 상황에서\n",
        "  # 해당 리스트에 속한 토큰들은 <UNK>토큰으로 바꿔주는 것을 구현하는 파트입니다.\n",
        "  # 위의 예시에서 본다면 [<SOS>, 나, 고기, 먹다, <EOS>]를 [<SOS>, 나, <UNK>, 먹다, <EOS>]로 만들어주는 과정입니다.\n",
        "  src_tmp = list(map(lambda x: '<UNK>' if x in src_oov else x, src_tmp))\n",
        "  tar_tmp = list(map(lambda x: '<UNK>' if x in tar_oov else x, tar_tmp))\n",
        "  \n",
        "  # tokenization 끝난 문장 보관\n",
        "  src_seq_val.append(src_tmp)\n",
        "  tar_seq_val.append(tar_tmp)"
      ],
      "metadata": {
        "colab": {
          "base_uri": "https://localhost:8080/"
        },
        "id": "tvlFP0Q94rU3",
        "outputId": "d2066ffa-2b78-4098-a3de-b4bb9c8fcfb1"
      },
      "execution_count": 37,
      "outputs": [
        {
          "output_type": "stream",
          "name": "stderr",
          "text": [
            "100%|██████████| 1000/1000 [00:04<00:00, 238.74it/s]\n"
          ]
        }
      ]
    },
    {
      "cell_type": "code",
      "source": [
        "tar_seq_val[5]"
      ],
      "metadata": {
        "colab": {
          "base_uri": "https://localhost:8080/"
        },
        "id": "s7x2S0t08dfe",
        "outputId": "d00c19ad-82a9-4e73-fb0b-dfef0964a946"
      },
      "execution_count": 38,
      "outputs": [
        {
          "output_type": "execute_result",
          "data": {
            "text/plain": [
              "['<SOS>', '<UNK>', '<UNK>', '<UNK>', 'and', 'even', '<UNK>', 'skin', '<EOS>']"
            ]
          },
          "metadata": {},
          "execution_count": 38
        }
      ]
    },
    {
      "cell_type": "markdown",
      "source": [
        "위의 샘플을 보면 생각보다 너무 많은 단어들이 UNK로 바뀌었습니다. 이게 과연 성능에 어떤 영향을 끼칠까요? 이를 방지할 수 있는 대책은 무엇일까요?\n",
        "\n",
        "정답은 없습니다. 자유롭게 고민해보셔도 좋을 것 같습니다."
      ],
      "metadata": {
        "id": "70nzuKIPf3nX"
      }
    },
    {
      "cell_type": "markdown",
      "source": [
        "### UNK 토큰 추가 및 단어집합, token-index 업데이트"
      ],
      "metadata": {
        "id": "KoH1M8GofxwV"
      }
    },
    {
      "cell_type": "code",
      "source": [
        "# UNK가 추가되면서 vocab과 index도 업데이트를 해야합니다.\n",
        "# 즉 지금 방식으로 처리한다면, 지금 단어 집합에는 <UNK>라는 토큰이 없습니다.\n",
        "# 그래서 UNK 토큰에도 정수를 할당해줘야 합니다.\n",
        "# 지금 0은 padding에서 사용하고 있으니 아래의 과정은 마지막에 <UNK>를 추가해보는 것입니다."
      ],
      "metadata": {
        "id": "lE3iIu_W8-78"
      },
      "execution_count": null,
      "outputs": []
    },
    {
      "cell_type": "code",
      "source": [
        "# 입력 시퀀스의 마지막 토큰과 정수인코딩값 확인\n",
        "list(src_to_index.items())[-1]"
      ],
      "metadata": {
        "colab": {
          "base_uri": "https://localhost:8080/"
        },
        "id": "KRl3l4bE9cVh",
        "outputId": "b2841dd3-8dc0-4b5c-8912-1cfc0742d930"
      },
      "execution_count": 39,
      "outputs": [
        {
          "output_type": "execute_result",
          "data": {
            "text/plain": [
              "('힘쓰다', 6095)"
            ]
          },
          "metadata": {},
          "execution_count": 39
        }
      ]
    },
    {
      "cell_type": "code",
      "source": [
        "# 현재 입력 시퀀스에 사용된 token들의 개수 확인\n",
        "len(src_vocab)"
      ],
      "metadata": {
        "colab": {
          "base_uri": "https://localhost:8080/"
        },
        "id": "yRuj2FNmgfA3",
        "outputId": "200d9ad9-ab0e-441f-db91-ecc2c0c2d43d"
      },
      "execution_count": 40,
      "outputs": [
        {
          "output_type": "execute_result",
          "data": {
            "text/plain": [
              "6095"
            ]
          },
          "metadata": {},
          "execution_count": 40
        }
      ]
    },
    {
      "cell_type": "code",
      "source": [
        "len(tar_vocab)"
      ],
      "metadata": {
        "colab": {
          "base_uri": "https://localhost:8080/"
        },
        "id": "2uFIOx0OuSVM",
        "outputId": "660d7508-afab-4807-e162-0beca1e864e4"
      },
      "execution_count": 42,
      "outputs": [
        {
          "output_type": "execute_result",
          "data": {
            "text/plain": [
              "7100"
            ]
          },
          "metadata": {},
          "execution_count": 42
        }
      ]
    },
    {
      "cell_type": "code",
      "source": [
        "# 우리는 마지막 토큰 뒤에 UNK 토큰을 추가해봅시다\n",
        "# 이 때 입력 시퀀스(src_to_index)와 출력시퀀스(tar_to_index)에 모두 사용해줘야 합니다.\n",
        "src_to_index[\"<UNK>\"] = len(src_vocab) + 1\n",
        "tar_to_index[\"<UNK>\"] = len(tar_vocab) + 1"
      ],
      "metadata": {
        "id": "2hQsCc5i9aw2"
      },
      "execution_count": 43,
      "outputs": []
    },
    {
      "cell_type": "code",
      "source": [
        "# 입력시퀀스의 단어집합 확인\n",
        "print(list(tar_to_index.items())[:5])\n",
        "print(list(tar_to_index.items())[-1:-5:-1])"
      ],
      "metadata": {
        "colab": {
          "base_uri": "https://localhost:8080/"
        },
        "id": "09pOS9MtaUVJ",
        "outputId": "d328f012-4d46-4e82-ac1b-64e1486d86c6"
      },
      "execution_count": 44,
      "outputs": [
        {
          "output_type": "stream",
          "name": "stdout",
          "text": [
            "[('$1,000,000', 1), ('$100', 2), ('$30', 3), ('0.2', 4), ('0.26%', 5)]\n",
            "[('<UNK>', 7101), ('zoom', 7100), ('zones', 7099), ('zero', 7098)]\n"
          ]
        }
      ]
    },
    {
      "cell_type": "code",
      "source": [
        "# 출력시퀀스의 단어집합 확인\n",
        "print(list(src_to_index.items())[:5])\n",
        "print(list(src_to_index.items())[-1:-5:-1])"
      ],
      "metadata": {
        "colab": {
          "base_uri": "https://localhost:8080/"
        },
        "id": "ZZqYpbTe-AK1",
        "outputId": "8cc22f34-d352-4aef-cd12-31802ef95aeb"
      },
      "execution_count": 45,
      "outputs": [
        {
          "output_type": "stream",
          "name": "stdout",
          "text": [
            "[('$10,000', 1), ('$10,000만', 2), ('$100', 3), ('$100,000', 4), ('$120', 5)]\n",
            "[('<UNK>', 6096), ('힘쓰다', 6095), ('힘들다', 6094), ('힘', 6093)]\n"
          ]
        }
      ]
    },
    {
      "cell_type": "markdown",
      "source": [
        "### 정수 인코딩"
      ],
      "metadata": {
        "id": "-E5zRRZuhQa_"
      }
    },
    {
      "cell_type": "code",
      "source": [
        "# 평가 데이터에 대해서  정수 인코딩을 진행해주세요!\n",
        "# 이 과정에서 중요한 점은 우린 학습데이터만 가지고 있으니 학습 데이터에서 사용했던 toekn-index로 인코딩을 진행해야 합니다!\n",
        "# 참고 : 어떻게 하면 효율적 혹은 빠르게 할까요?\n",
        "\n",
        "# encoder의 입력값 정수 인코딩 진행\n",
        "encoder_input_val = [torch.Tensor([src_to_index[i] for i in seq]).long() for seq in src_seq_val]\n",
        "# 우선 decoder에서 사용하는 문장에 대해 정수인코딩 진행\n",
        "decoder_input_val = [torch.Tensor([tar_to_index[i] for i in seq]).long() for seq in tar_seq_val]\n",
        "# 다만 decoder의 출력값은 <SOS>들어가면 안되니 첫번째 토큰은 빼주기\n",
        "decoder_target_val = [torch.Tensor([tar_to_index[i] for i in seq if i != '<SOS>']).long() for seq in tar_seq_val]\n",
        "# decoder의 입력값은 마지막 <EOS>가 들어가면 안되니 마지막 토큰은 빼주기\n",
        "decoder_input_val = [torch.Tensor([tar_to_index[i] for i in seq if i != '<EOS>']).long() for seq in tar_seq_val]"
      ],
      "metadata": {
        "id": "LHRGJgfs-axo"
      },
      "execution_count": 46,
      "outputs": []
    },
    {
      "cell_type": "markdown",
      "source": [
        "### Padding"
      ],
      "metadata": {
        "id": "ws8RA6UThh0t"
      }
    },
    {
      "cell_type": "code",
      "source": [
        "# 주의사항: 여기에 사용된 값을은 정수일까요?\n",
        "barch_first = True\n",
        "encoder_input_val = pad_sequence(encoder_input_val, batch_first=batch_first).long()\n",
        "decoder_input_val = pad_sequence(decoder_input_val, batch_first=batch_first).long()\n",
        "decoder_target_val = pad_sequence(decoder_target_val, batch_first=batch_first).long()"
      ],
      "metadata": {
        "id": "4Qc_bb02-s6_"
      },
      "execution_count": 47,
      "outputs": []
    },
    {
      "cell_type": "code",
      "execution_count": 48,
      "metadata": {
        "id": "E7DOj62GnAfX"
      },
      "outputs": [],
      "source": [
        "val_data = tuple([encoder_input_val, decoder_input_val, decoder_target_val])"
      ]
    },
    {
      "cell_type": "markdown",
      "metadata": {
        "id": "WlZl7q5cxscM"
      },
      "source": [
        "# Dataset\n",
        "\n",
        "실습코드에서 사용한 것과 동일한 구조입니다! \n",
        "\n",
        "사실 앞서 처리가 진행되었던 모든 과정은 Dataset에서 __get_item__ 함수 내에서 처리해서 값을 리턴할 수도 있습니다.\n",
        "\n",
        "다만 설명을 위해 이번 과제에서는 과정을 단계별로 설명 드렸습니다. 추후에 진행하실 때엔 __get_item__에서 구현해보셔도 좋을 것 같아요!\n",
        "\n",
        "그리고 일부 단계의 경우 임의로 처리된 것들이 있습니다.(tokenization부터 stopwords 등등) 가령 이메일, 전화번호와 같은 단어들은 \\<UNK\\>처럼 새로운 토큰을 이용해서 처리할 수도 있으며 목적에 따라서 다른 tokenziation을 사용할 수 있습니다.\n",
        "\n",
        "**(참고)**\n",
        "\n",
        " __get_item__말고 사전에 전처리를 다한 상태로 사용할 경우 사실 사용할 모든 데이터를 메모리에 올려놓고 사용하는 것과 같습니다.(변수에 할당되어 있으니)\n",
        "\n",
        "그런데 우리가 데이터가 매매매매매우 많아진다면, 메모리가 부족해질 수도 있지 않을까요? 그렇기 때문에 때에 따라 data를 필요할 때 전처리를 하고 반환하기도 합니다. 여기서 data가 필요할때란 결국 __get_item__을 호출할 때가 될 것입니다.\n",
        "\n",
        "정리하자면, 꼭 모든 데이터를 한번에 다 전처리해놓도 준비해놓지 않고도, 필요할 때 마다(get_item이 호출될 때마다) 전처리해서 결과를 전달하는 방법도 있습니다.\n",
        "\n",
        "다만 해당 과제에서는 Seq2Seq에 익숙해지는 것을 목표로 하기에 이러한 점만 알고 가셔도 충분하기도 하고, 오히려 사전에 다 처리해놓는 현재 방식이 더 효율적일 수도 있습니다. 그렇기 때문에 이 점만 알고 가셔도 좋을 것 같습니다!"
      ]
    },
    {
      "cell_type": "code",
      "execution_count": 49,
      "metadata": {
        "id": "j5lj6ZOPxpcj"
      },
      "outputs": [],
      "source": [
        "from torch.utils.data import Dataset, DataLoader"
      ]
    },
    {
      "cell_type": "code",
      "execution_count": 50,
      "metadata": {
        "id": "xc7ZqjGmx1dk"
      },
      "outputs": [],
      "source": [
        "class textDataset(Dataset):\n",
        "  def __init__(self, data, batch_first=True):\n",
        "    super(textDataset, self).__init__()\n",
        "    # tuple asgginment를 활용한다면 굳이 argument로 모든 데이터를 받지 않아도 됩니다!\n",
        "    enc_inp, dec_inp, dec_out = data\n",
        "\n",
        "    # 내부에서 사용할 변수들 정리하는 것으로, 모든 데이터가 torch.LongTensor로 정리된 값들이 저장됩니다.\n",
        "    self.enc_inp = enc_inp\n",
        "    self.dec_inp = dec_inp\n",
        "    self.dec_out = dec_out\n",
        "\n",
        "  def __getitem__(self, idx):\n",
        "     return self.enc_inp[idx], self.dec_inp[idx], self.dec_out[idx]\n",
        "\n",
        "  def __len__(self):\n",
        "    return len(self.enc_inp)"
      ]
    },
    {
      "cell_type": "code",
      "execution_count": 51,
      "metadata": {
        "id": "Z30_EO0uxrgH"
      },
      "outputs": [],
      "source": [
        "train_dataset = textDataset(train_data, batch_first=batch_first)\n",
        "val_dataset = textDataset(val_data, batch_first=batch_first)"
      ]
    },
    {
      "cell_type": "code",
      "execution_count": 52,
      "metadata": {
        "colab": {
          "base_uri": "https://localhost:8080/"
        },
        "id": "J_AqR38AoB5n",
        "outputId": "7e3f4e7c-23fb-4f67-a8db-f27c51689ddb"
      },
      "outputs": [
        {
          "output_type": "execute_result",
          "data": {
            "text/plain": [
              "(tensor([6096, 2052,   86, 2335, 6096, 4076, 5733, 4660, 1694, 3095, 2209, 3111,\n",
              "         5491, 2300, 3172, 3482, 1075, 4322,  329,    0,    0,    0,    0,    0,\n",
              "            0,    0,    0,    0,    0,    0,    0,    0]),\n",
              " tensor([ 194, 7101, 3764, 3584, 5316, 4456,   49, 2413, 1477, 4117, 4504, 4979,\n",
              "         2229, 2629, 5972, 1208, 7101, 6591, 6940, 5989, 7101,    0,    0,    0,\n",
              "            0,    0,    0,    0,    0,    0]),\n",
              " tensor([7101, 3764, 3584, 5316, 4456,   49, 2413, 1477, 4117, 4504, 4979, 2229,\n",
              "         2629, 5972, 1208, 7101, 6591, 6940, 5989, 7101,  193,    0,    0,    0,\n",
              "            0,    0,    0,    0,    0,    0]))"
            ]
          },
          "metadata": {},
          "execution_count": 52
        }
      ],
      "source": [
        "val_dataset[0]"
      ]
    },
    {
      "cell_type": "markdown",
      "metadata": {
        "id": "rYq6eGm0qaOh"
      },
      "source": [
        "# Model"
      ]
    },
    {
      "cell_type": "code",
      "execution_count": 53,
      "metadata": {
        "id": "ce3NfbA2qfSV"
      },
      "outputs": [],
      "source": [
        "import torch.nn as nn\n",
        "import torch.functional as F"
      ]
    },
    {
      "cell_type": "markdown",
      "metadata": {
        "id": "zcThBf_DqbuT"
      },
      "source": [
        "## Encoder\n",
        "\n",
        "본 모델에서는 LSTM를 기본 단위로 가지는 Seq2Seq 모델을 구성할 것\n",
        "\n",
        "참고 [레퍼런스](https://pytorch.org/docs/stable/generated/torch.nn.LSTM.html)"
      ]
    },
    {
      "cell_type": "code",
      "execution_count": 54,
      "metadata": {
        "id": "A719R9uZqZG2"
      },
      "outputs": [],
      "source": [
        "class Encoder(nn.Module):\n",
        "  def __init__(self, in_size, hid_size, tok_size, bat_first=True, num_lay=1, bidirect=False):\n",
        "    super(Encoder, self).__init__()\n",
        "    self.hidden_size = hid_size\n",
        "    self.embedding = nn.Embedding(tok_size, in_size)\n",
        "    self.num_layers = num_lay\n",
        "    self.num_directional = 2 if bidirect else 1\n",
        "    self.batch_first = bat_first\n",
        "    self.lstm = nn.LSTM(in_size,  \n",
        "                        hid_size,\n",
        "                        num_layers = num_lay,\n",
        "                        batch_first = bat_first,\n",
        "                        bidirectional=bidirect)\n",
        "\n",
        "  def forward(self, x, hidden):\n",
        "    \"\"\"\n",
        "    x: (batch_size, seq_len)\n",
        "    hidden: (batch_size, seq_len, hidden_size)\n",
        "    \"\"\"\n",
        "\n",
        "    # emb : (batch_size, seq_len, input_size)\n",
        "    emb = self.embedding(x)\n",
        "\n",
        "    # out : (batch_size, seq_len, hidden_size)\n",
        "    # hidden: (num_layers, batch_size, hidden_size)\n",
        "    out, hidden = self.lstm(emb, hidden)\n",
        "    return out, hidden"
      ]
    },
    {
      "cell_type": "markdown",
      "metadata": {
        "id": "Yu4CMe_5JN2I"
      },
      "source": [
        "## Decoder\n",
        "\n",
        "decoder의 hidden이 아닌 out으로 예측하고, 그 값 하나를 이용해서 다음 값 계산에 사용하기 때문에 seq_len =1이 된다."
      ]
    },
    {
      "cell_type": "code",
      "execution_count": 68,
      "metadata": {
        "id": "Wc1u4z_k4RKp"
      },
      "outputs": [],
      "source": [
        "class Decoder(nn.Module):\n",
        "  def __init__(self, in_size, hid_size, tok_size, bat_first=True, num_lay=1, bidirect=False):\n",
        "    super(Decoder, self).__init__()\n",
        "    self.hidden_size = hid_size\n",
        "    self.embedding = nn.Embedding(tok_size, in_size)\n",
        "    self.num_layers = num_lay\n",
        "    self.num_directional = 2 if bidirect else 1\n",
        "    self.batch_first = bat_first\n",
        "    self.lstm = nn.LSTM(in_size,\n",
        "                        hid_size,\n",
        "                        num_layers = num_lay,\n",
        "                        batch_first = bat_first,\n",
        "                        bidirectional = bidirect)\n",
        "    self.relu = nn.ReLU()\n",
        "    self.fc1 = nn.Linear(hid_size, tok_size)\n",
        "    \n",
        "  def forward(self, x, hidden):\n",
        "    \"\"\"\n",
        "    x: (batch_size, seq_len=1)\n",
        "    hidden: (num_directional*num_layers, batch_size, hidden_size)\n",
        "    \"\"\"\n",
        "\n",
        "    # emb: (batch_size, seq_len=1, input_size)\n",
        "    emb = self.embedding(x[:,0]).unsqueeze(1)\n",
        "    out = self.relu(emb)\n",
        "\n",
        "    # out : (batch_size, seq_len=1, hidden_size)\n",
        "    # hidden: (num_layers, batch_size, hidden_size)\n",
        "    out, hidden = self.lstm(out, hidden)\n",
        "\n",
        "    # out: (batch_size, tok_size) : batch의 element별로 token에 대해 예측값을 반환\n",
        "    out = self.fc1(out.squeeze(1))\n",
        "    return out, hidden"
      ]
    },
    {
      "cell_type": "code",
      "execution_count": 69,
      "metadata": {
        "id": "X1qHG3DT4dSH"
      },
      "outputs": [],
      "source": [
        "def init_hidden(self, x):\n",
        "  \"\"\"\n",
        "  레퍼런스 참고\n",
        "  when batch_first=True (num_directional*num_layers, batch_size, hidden_size)\n",
        "  \"\"\"\n",
        "  batch_size = x.size(0) if self.batch_first else x.size(1)\n",
        "  h0 = torch.zeros(self.num_layers*self.num_directional, batch_size, self.hidden_size).to(device)\n",
        "  c0 = torch.zeros(self.num_layers*self.num_directional, batch_size, self.hidden_size).to(device)\n",
        "  return h0, c0"
      ]
    },
    {
      "cell_type": "markdown",
      "metadata": {
        "id": "toqV7UDhPqN6"
      },
      "source": [
        "## Seq2Seq"
      ]
    },
    {
      "cell_type": "code",
      "execution_count": 80,
      "metadata": {
        "id": "YIzlUzPlJK3W"
      },
      "outputs": [],
      "source": [
        "class Seq2Seq(nn.Module):\n",
        "  def __init__(self, enc, dec):\n",
        "    super(Seq2Seq, self).__init__()\n",
        "    assert enc.hidden_size == dec.hidden_size\n",
        "    assert enc.num_layers == dec.num_layers\n",
        "\n",
        "    self.encoder = enc\n",
        "    self.decoder = dec\n",
        "\n",
        "  def forward(self, enc_inp, dec_inp, use_teacher_force=True):\n",
        "    \"\"\"\n",
        "    enc_inp : (batch_size, enc_seq_len)\n",
        "    dec_inp : (batch_size, dec_seq_len)\n",
        "    \"\"\"\n",
        "\n",
        "    # 어떤 값을 써야할까요?\n",
        "    batch_size = enc_inp.size(0)\n",
        "    enc_seq_len = enc_inp.size(1)\n",
        "    dec_seq_len = dec_inp.size(1)\n",
        "    token_size =  self.decoder.fc1.out_features\n",
        "\n",
        "\n",
        "    # decoder 확률(점수) 예측값 저장\n",
        "    # outputs: (batch_size, seq_len, token_size)\n",
        "    outputs = torch.zeros(batch_size, dec_seq_len, token_size)\n",
        "\n",
        "    # Step 0: Encoder의 forward에 필요한 초기 hidden, cell state 계산\n",
        "    enc_init_hidden = init_hidden(self.encoder, enc_inp)\n",
        "\n",
        "    # Step 1: Encoder를 이용하여 context 벡터 생성\n",
        "    # 참고: context 벡터는 output가 아님\n",
        "    _, context = self.encoder(enc_inp, enc_init_hidden)\n",
        "\n",
        "    # Step 2: Decoder의 초기 입력값을 먼저 할당\n",
        "    # 참고: 첫 입력값으로 decoder의 입력값을 이용할 수 있음\n",
        "    # 주의할 사항 \n",
        "    #    - (batch_size, dec_seq_len)의 차원을 맞추기 \n",
        "    #    - 이렇게 하는 이유는 decoder에서 forward에 들어가야하는 input의 구조(차원)이 정해져 있기 때문\n",
        "    dec_inp_t = dec_inp[:, 0].unsqueeze(-1)\n",
        "\n",
        "    # Step 3: Decoder를 이용하여 하나하나 계산(예측)하고, 입력값 업데이트하기\n",
        "    # 주의사항\n",
        "    #    - Encoder의 최종 리턴한 hidden state가 context 벡터고 이게 decoder에서 init_hidden에 해당\n",
        "    #    - 앞서 첫 입력값은 직접 확인했으니 다음 입력값부터 하기에 range는 1부터 시작하는 구조로?!\n",
        "    dec_hidden = context\n",
        "    for t in range(1, dec_seq_len):\n",
        "      out, dec_hidden = self.decoder(dec_inp_t, dec_hidden)\n",
        "      outputs[:, t, :] = out\n",
        "\n",
        "      if use_teacher_force:\n",
        "        # 주의사항 : 차원 맞추기 \n",
        "        # 해당 경우 decoder의 입력값을 가져다가 사용해야 합\n",
        "        dec_inp_t = dec_inp[:, t].unsqueeze(-1)\n",
        "      else:\n",
        "        # 주의사항 : 차원 맞추기 \n",
        "        # 해당 경우 이번 시점의 예측값을 다음 시점의 입력값으로 해야함\n",
        "        dec_inp_t = out.argmax(1, keepdim=True)\n",
        "\n",
        "    return outputs"
      ]
    },
    {
      "cell_type": "markdown",
      "metadata": {
        "id": "kSfBWsX0Po1I"
      },
      "source": [
        "# Setup"
      ]
    },
    {
      "cell_type": "code",
      "execution_count": 81,
      "metadata": {
        "id": "2VSNdoUUPoMS"
      },
      "outputs": [],
      "source": [
        "# padding에 해당하는 token도 고려하기\n",
        "enc_token_size = len(src_to_index)+1\n",
        "dec_token_size = len(tar_to_index)+1\n",
        "\n",
        "# Hyper-parameter!!\n",
        "# RAM 메모리 이슈로 다운 되는 경우 때문에 줄였습니다.\n",
        "input_size = 4\n",
        "hidden_size = 4"
      ]
    },
    {
      "cell_type": "code",
      "execution_count": 82,
      "metadata": {
        "id": "edfUD7SOP6pM"
      },
      "outputs": [],
      "source": [
        "encoder = Encoder(input_size, hidden_size, enc_token_size)\n",
        "decoder = Decoder(input_size, hidden_size, dec_token_size)\n",
        "\n",
        "model = Seq2Seq(encoder, decoder).to(device)"
      ]
    },
    {
      "cell_type": "markdown",
      "metadata": {
        "id": "s3wAllAwQQbc"
      },
      "source": [
        "## 생략된 내용들\n",
        "\n",
        "모델 생성하는 과정에서 초기값이나 등등 부수적인 부분들은 현재 과제 코드상에서 생략되었습니다. 모델 개선에 관심있으신 분들은 수행하셔도 좋습니다."
      ]
    },
    {
      "cell_type": "code",
      "execution_count": null,
      "metadata": {
        "id": "nNlOosmzQP4W"
      },
      "outputs": [],
      "source": [
        "# ~~~"
      ]
    },
    {
      "cell_type": "markdown",
      "metadata": {
        "id": "ofoXIctbQigu"
      },
      "source": [
        "# Train"
      ]
    },
    {
      "cell_type": "code",
      "execution_count": 83,
      "metadata": {
        "id": "NUnTP6xbQlV1"
      },
      "outputs": [],
      "source": [
        "def train(model, loader, optimizer, cri):\n",
        "  model.train()\n",
        "  loss_ep = 0\n",
        "\n",
        "  for enc_input, dec_input, dec_target in loader:\n",
        "    optimizer.zero_grad()\n",
        "\n",
        "    # output: (batch_size, seq_len, token_size)\n",
        "    output = model(enc_input.to(device), dec_input.to(device), use_teacher_force=True)\n",
        "    token_size = output.size(-1)\n",
        "\n",
        "    # 지금 [문장, 문장, ...] 구조에서 문장들을 그냥 순서대로 이어 붙인 것\n",
        "    # loss 계산을 위한 조정\n",
        "    # output : (batch_size * seq_len, toekn_size)\n",
        "    output = output.view(-1, token_size)\n",
        "\n",
        "    # 위와 동일한 방식으로 label 값도 조정\n",
        "    # dec_target: (batch_size, seq_len)\n",
        "    # target (batch_size*seq_len,)\n",
        "    target = dec_target.view(-1)\n",
        "\n",
        "    loss = cri(output, target)\n",
        "\n",
        "    loss.backward()\n",
        "    optimizer.step()\n",
        "\n",
        "    loss_ep += loss.item()\n",
        "  return loss_ep/len(loader)"
      ]
    },
    {
      "cell_type": "markdown",
      "metadata": {
        "id": "E-g8kExh9V87"
      },
      "source": [
        "# Evaluation"
      ]
    },
    {
      "cell_type": "code",
      "execution_count": 84,
      "metadata": {
        "id": "OM_5gT6uCXMh"
      },
      "outputs": [],
      "source": [
        "import pandas as pd"
      ]
    },
    {
      "cell_type": "code",
      "execution_count": 85,
      "metadata": {
        "id": "y6mXBkq69VSW"
      },
      "outputs": [],
      "source": [
        "def val(model, loader, cri):\n",
        "  # 예측값도 확인하기 위해 예측값 저장하는 값\n",
        "  result = torch.Tensor()\n",
        "\n",
        "  model.eval()\n",
        "  loss_ep = 0\n",
        "  with torch.no_grad():\n",
        "    for enc_input, dec_input, dec_target in loader:\n",
        "      # 여기서 output은 en/decoder가 아닌 seq2seq의 결과값\n",
        "      # output: (batch_size, seq_len, token_size)\n",
        "      output = model(enc_input.to(device), dec_input.to(device), use_teacher_force=False)\n",
        "\n",
        "      # 평가할 땐 loss 말고 예측값도 반환하기 위해 저장\n",
        "      # decode_idx = 해당 시점에서 예측한 token의 정수인코딩값. \n",
        "      # 주어진 확률(점수)값에서 최대값을 선택하기\n",
        "      decode_idx = output.argmax(2).detach().cpu()\n",
        "      result = torch.cat((result, decode_idx), dim=0)\n",
        "  \n",
        "      # loss 계산을 위한 조정\n",
        "      # output : (batch_size * seq_len, toekn_size)\n",
        "      token_size = output.size(-1)\n",
        "      output = output.view(-1, token_size)\n",
        "\n",
        "      # 위와 동일한 방식으로 label 값도 조정\n",
        "      # dec_target: (batch_size, seq_len)\n",
        "      # target (batch_size*seq_len,)\n",
        "      target = dec_target.view(-1)\n",
        "\n",
        "      loss = cri(output, target)\n",
        "      loss_ep += loss.item()\n",
        "  return loss_ep/len(loader), result"
      ]
    },
    {
      "cell_type": "code",
      "execution_count": 86,
      "metadata": {
        "id": "9m6F7hknAqtm"
      },
      "outputs": [],
      "source": [
        "# 아래의 dictionary는 정수 인코딩 값을 넣으면 해당하는 원래 알파벳이 나옴\n",
        "# padding에 사용한 0도 decode해줘야 하고 이 때 ''으로 decode해주기\n",
        "index_to_src = dict((i, char) for char, i in src_to_index.items())\n",
        "index_to_tar = dict((i, char) for char, i in tar_to_index.items())\n",
        "index_to_tar[0] = ''\n",
        "index_to_src[0] = ''"
      ]
    },
    {
      "cell_type": "code",
      "execution_count": 87,
      "metadata": {
        "id": "F9c8z_7BAncv"
      },
      "outputs": [],
      "source": [
        "def decode(model, sample):\n",
        "  enc_input, dec_input, dec_output = sample\n",
        "  enc_input = enc_input.unsqueeze(0)\n",
        "  dec_input = dec_input.unsqueeze(0)\n",
        "  \n",
        "  model.eval()\n",
        "  with torch.no_grad():\n",
        "    output = model(enc_input.to(device), dec_input.to(device), use_teacher_force=False)\n",
        "    decode_idx = output.argmax(2)\n",
        "\n",
        "  sentence_inp = pd.Series(enc_input.squeeze(0).detach().cpu().numpy()).apply(lambda x: index_to_src[x])\n",
        "  sentence_out = pd.Series(decode_idx.squeeze(0).detach().cpu().numpy()).apply(lambda x: index_to_tar[x])\n",
        "  sentence_act = pd.Series(dec_output.detach().cpu().numpy()).apply(lambda x: index_to_tar[x])\n",
        "\n",
        "  print(f\"입력 문장 : {' '.join(sentence_inp.tolist())}\")\n",
        "  print(f\"실제 문장 : {' '.join(sentence_act.tolist())}\")\n",
        "  print(f\"예측 문장 : {' '.join(sentence_out.tolist())}\")"
      ]
    },
    {
      "cell_type": "code",
      "execution_count": 78,
      "metadata": {
        "id": "9lARsr3wSyX8"
      },
      "outputs": [],
      "source": [
        "import time\n",
        "from tqdm import tqdm\n",
        "from torch import optim"
      ]
    },
    {
      "cell_type": "code",
      "execution_count": 88,
      "metadata": {
        "colab": {
          "base_uri": "https://localhost:8080/"
        },
        "id": "WIuESkCQSsSm",
        "outputId": "69f38c44-2221-40ec-8cb8-83a4fc9ae59e"
      },
      "outputs": [
        {
          "output_type": "stream",
          "name": "stderr",
          "text": [
            " 10%|█         | 1/10 [02:18<20:48, 138.72s/it]"
          ]
        },
        {
          "output_type": "stream",
          "name": "stdout",
          "text": [
            "Epoch : 0\n",
            "Train Loss : 8.9401\n",
            "Val Loss : 8.6602\n",
            "입력 문장 : 저 <UNK> <UNK> 스마트 <UNK> <UNK> <UNK> 및 온도 센서 <UNK> 사용 무료 앱 제품 소개 하다 하다 <EOS>             \n",
            "실제 문장 : I would like to introduce a <UNK> <UNK> smart <UNK> <UNK> <UNK> and temperature sensor easy to use free app product <EOS>        \n",
            "예측 문장 :  us like like like like like like like like like like like like like like like like like like like like like like like like like like like like\n"
          ]
        },
        {
          "output_type": "stream",
          "name": "stderr",
          "text": [
            " 30%|███       | 3/10 [06:49<15:53, 136.24s/it]"
          ]
        },
        {
          "output_type": "stream",
          "name": "stdout",
          "text": [
            "Epoch : 2\n",
            "Train Loss : 7.2052\n",
            "Val Loss : 6.9117\n",
            "입력 문장 : 저 <UNK> <UNK> 스마트 <UNK> <UNK> <UNK> 및 온도 센서 <UNK> 사용 무료 앱 제품 소개 하다 하다 <EOS>             \n",
            "실제 문장 : I would like to introduce a <UNK> <UNK> smart <UNK> <UNK> <UNK> and temperature sensor easy to use free app product <EOS>        \n",
            "예측 문장 :  is I we we we we we we we we we we we we we we we we we we we we we we we we we we we\n"
          ]
        },
        {
          "output_type": "stream",
          "name": "stderr",
          "text": [
            " 50%|█████     | 5/10 [11:20<11:18, 135.79s/it]"
          ]
        },
        {
          "output_type": "stream",
          "name": "stdout",
          "text": [
            "Epoch : 4\n",
            "Train Loss : 5.2941\n",
            "Val Loss : 5.3254\n",
            "입력 문장 : 저 <UNK> <UNK> 스마트 <UNK> <UNK> <UNK> 및 온도 센서 <UNK> 사용 무료 앱 제품 소개 하다 하다 <EOS>             \n",
            "실제 문장 : I would like to introduce a <UNK> <UNK> smart <UNK> <UNK> <UNK> and temperature sensor easy to use free app product <EOS>        \n",
            "예측 문장 :                              \n"
          ]
        },
        {
          "output_type": "stream",
          "name": "stderr",
          "text": [
            " 70%|███████   | 7/10 [15:52<06:47, 135.85s/it]"
          ]
        },
        {
          "output_type": "stream",
          "name": "stdout",
          "text": [
            "Epoch : 6\n",
            "Train Loss : 3.8500\n",
            "Val Loss : 4.2111\n",
            "입력 문장 : 저 <UNK> <UNK> 스마트 <UNK> <UNK> <UNK> 및 온도 센서 <UNK> 사용 무료 앱 제품 소개 하다 하다 <EOS>             \n",
            "실제 문장 : I would like to introduce a <UNK> <UNK> smart <UNK> <UNK> <UNK> and temperature sensor easy to use free app product <EOS>        \n",
            "예측 문장 :                              \n"
          ]
        },
        {
          "output_type": "stream",
          "name": "stderr",
          "text": [
            " 90%|█████████ | 9/10 [20:24<02:15, 135.95s/it]"
          ]
        },
        {
          "output_type": "stream",
          "name": "stdout",
          "text": [
            "Epoch : 8\n",
            "Train Loss : 2.9417\n",
            "Val Loss : 3.6742\n",
            "입력 문장 : 저 <UNK> <UNK> 스마트 <UNK> <UNK> <UNK> 및 온도 센서 <UNK> 사용 무료 앱 제품 소개 하다 하다 <EOS>             \n",
            "실제 문장 : I would like to introduce a <UNK> <UNK> smart <UNK> <UNK> <UNK> and temperature sensor easy to use free app product <EOS>        \n",
            "예측 문장 :                              \n"
          ]
        },
        {
          "output_type": "stream",
          "name": "stderr",
          "text": [
            "100%|██████████| 10/10 [22:40<00:00, 136.07s/it]\n"
          ]
        }
      ],
      "source": [
        "# 학습은 아래의 코드를 이용하여 진행\n",
        "\n",
        "train_lodaer = DataLoader(train_dataset, batch_size=1024)\n",
        "val_loader = DataLoader(val_dataset, batch_size=1024, shuffle=False)\n",
        "\n",
        "optimizer = optim.Adam(model.parameters(), lr=1e-2)\n",
        "criterion = nn.CrossEntropyLoss()\n",
        "\n",
        "train_loss = []\n",
        "val_loss = []\n",
        "\n",
        "epochs = 10\n",
        "for epoch in tqdm(range(epochs)):\n",
        "  start = time.time()\n",
        "\n",
        "  train_loss_ep = train(model,train_lodaer,optimizer, criterion)\n",
        "  val_loss_ep, val_token = val(model, val_loader, criterion)\n",
        "\n",
        "  train_loss.append(train_loss_ep)\n",
        "  val_loss.append(val_loss_ep)\n",
        "  if epoch % 2 == 0:\n",
        "    print(f\"Epoch : {epoch}\")\n",
        "    print(f\"Train Loss : {train_loss_ep:.4f}\")\n",
        "    print(f\"Val Loss : {val_loss_ep:.4f}\")\n",
        "    decode(model, val_dataset[100])\n"
      ]
    },
    {
      "cell_type": "code",
      "execution_count": null,
      "metadata": {
        "id": "Yaj3MORtbsNi"
      },
      "outputs": [],
      "source": [
        "# 학습을 진행한 다음, 모델 백업해놓기\n",
        "torch.save(model.state_dict(), 'model_hw.pt')"
      ]
    }
  ],
  "metadata": {
    "accelerator": "GPU",
    "colab": {
      "collapsed_sections": [],
      "provenance": []
    },
    "gpuClass": "standard",
    "kernelspec": {
      "display_name": "Python 3",
      "name": "python3"
    },
    "language_info": {
      "name": "python"
    }
  },
  "nbformat": 4,
  "nbformat_minor": 0
}