{
  "cells": [
    {
      "cell_type": "markdown",
      "metadata": {
        "id": "XhqgooEJc3ml"
      },
      "source": [
        "# PATH"
      ]
    },
    {
      "cell_type": "markdown",
      "metadata": {
        "id": "a6JAywISdMna"
      },
      "source": [
        "구글 드라이브"
      ]
    },
    {
      "cell_type": "code",
      "execution_count": 1,
      "metadata": {
        "colab": {
          "base_uri": "https://localhost:8080/"
        },
        "id": "4KzgUpIpcORE",
        "outputId": "ba94d9a2-a161-41a4-d9b5-469aabf4d6b7"
      },
      "outputs": [
        {
          "output_type": "stream",
          "name": "stdout",
          "text": [
            "Drive already mounted at /content/drive; to attempt to forcibly remount, call drive.mount(\"/content/drive\", force_remount=True).\n"
          ]
        }
      ],
      "source": [
        "import os\n",
        "import sys\n",
        "from google.colab import drive\n",
        "\n",
        "drive.mount('/content/drive')\n",
        "# 지금 RNN이란 폴더에서 작업해서 RNN으로 맞춘 상태입니다! \n",
        "os.chdir('/content/drive/My Drive/Colab Notebooks/RNN')"
      ]
    },
    {
      "cell_type": "code",
      "execution_count": 2,
      "metadata": {
        "colab": {
          "base_uri": "https://localhost:8080/",
          "height": 36
        },
        "id": "TK1fCrA9fHwN",
        "outputId": "d337555d-a6f9-4bfb-9908-4c21b4f55325"
      },
      "outputs": [
        {
          "output_type": "execute_result",
          "data": {
            "text/plain": [
              "'/content/drive/My Drive/Colab Notebooks/RNN'"
            ],
            "application/vnd.google.colaboratory.intrinsic+json": {
              "type": "string"
            }
          },
          "metadata": {},
          "execution_count": 2
        }
      ],
      "source": [
        "os.getcwd()"
      ]
    },
    {
      "cell_type": "code",
      "execution_count": 3,
      "metadata": {
        "colab": {
          "base_uri": "https://localhost:8080/",
          "height": 36
        },
        "id": "yR9lFnfZMQ8k",
        "outputId": "bd4f4f86-ce8c-4440-a33a-7ed701c250fc"
      },
      "outputs": [
        {
          "output_type": "execute_result",
          "data": {
            "text/plain": [
              "'/content/drive/My Drive/Colab Notebooks/RNN/data/data_hw'"
            ],
            "application/vnd.google.colaboratory.intrinsic+json": {
              "type": "string"
            }
          },
          "metadata": {},
          "execution_count": 3
        }
      ],
      "source": [
        "root_data = f\"{os.getcwd()}/data/data_hw\"\n",
        "root_data"
      ]
    },
    {
      "cell_type": "code",
      "execution_count": 4,
      "metadata": {
        "id": "eUaOJiEaP8t9"
      },
      "outputs": [],
      "source": [
        "# 데이터 불러올 때 사용할 경로로 이후에 있을 unzip과 연동되는 내용입니다! \n",
        "path_train_data = \"data/data_hw/1.Training/원천데이터/일상생활및구어체_영한_train_set.json\"\n",
        "\n",
        "path_val_data = \"data/data_hw/2.Validation/원천데이터/일상생활및구어체_영한_valid_set.json\"\n"
      ]
    },
    {
      "cell_type": "markdown",
      "metadata": {
        "id": "lllM7QIsLKHG"
      },
      "source": [
        "# 사전 준비 사항"
      ]
    },
    {
      "cell_type": "code",
      "execution_count": 5,
      "metadata": {
        "id": "N4M6g36zarsi"
      },
      "outputs": [],
      "source": [
        "import torch"
      ]
    },
    {
      "cell_type": "code",
      "execution_count": 6,
      "metadata": {
        "id": "8nWTk5MXatC-"
      },
      "outputs": [],
      "source": [
        "device = 'cuda' if torch.cuda.is_available() else \"cpu\""
      ]
    },
    {
      "cell_type": "code",
      "execution_count": 7,
      "metadata": {
        "colab": {
          "base_uri": "https://localhost:8080/",
          "height": 36
        },
        "id": "oV91g9Tqa0V0",
        "outputId": "576f01f3-d344-4e4b-ca3b-afd2bfee5826"
      },
      "outputs": [
        {
          "output_type": "execute_result",
          "data": {
            "text/plain": [
              "'cpu'"
            ],
            "application/vnd.google.colaboratory.intrinsic+json": {
              "type": "string"
            }
          },
          "metadata": {},
          "execution_count": 7
        }
      ],
      "source": [
        "device"
      ]
    },
    {
      "cell_type": "markdown",
      "metadata": {
        "id": "SdN8CiTlc7xF"
      },
      "source": [
        "# Data\n",
        "\n",
        "실습에서 사용했던 영어-프랑스어와 달리 현재 사용할 데이터 셋은 영어-한국어 데이터 셋입니다. \n",
        "\n",
        "특히 압축을 풀어야 사용하실 수 있으니 유의하여 진행해주시길 바랍니다.\n",
        "\n",
        "다행인 점은 용량이 그리 크지 않을겁니다!\n",
        "\n",
        "저장 경로는 위에서 path_train_data와 path_val_data와 동일하게 맞췄습니다."
      ]
    },
    {
      "cell_type": "markdown",
      "metadata": {
        "id": "tfrW60WrP0rn"
      },
      "source": [
        "## 데이터 구조 확인"
      ]
    },
    {
      "cell_type": "code",
      "source": [
        "!unzip -qq data/data_hw/1.Training/원천데이터/TS1.zip -d data/data_hw/1.Training/원천데이터\n",
        "\n",
        "!unzip -qq data/data_hw/2.Validation/원천데이터/VS1.zip -d data/data_hw/2.Validation/원천데이터\n"
      ],
      "metadata": {
        "colab": {
          "base_uri": "https://localhost:8080/"
        },
        "id": "3sOAy10p-tvL",
        "outputId": "8e8ceca2-75d9-4bbf-8cf8-a86fcbd4fb66"
      },
      "execution_count": 8,
      "outputs": [
        {
          "output_type": "stream",
          "name": "stdout",
          "text": [
            "replace data/data_hw/1.Training/원천데이터/일상생활및구어체_영한_train_set.json? [y]es, [n]o, [A]ll, [N]one, [r]ename: A,n\n",
            "replace data/data_hw/2.Validation/원천데이터/일상생활및구어체_영한_valid_set.json? [y]es, [n]o, [A]ll, [N]one, [r]ename: A,n\n"
          ]
        }
      ]
    },
    {
      "cell_type": "code",
      "execution_count": 9,
      "metadata": {
        "id": "SDeLynUqP0Jr"
      },
      "outputs": [],
      "source": [
        "import json"
      ]
    },
    {
      "cell_type": "code",
      "execution_count": 10,
      "metadata": {
        "id": "2VEmaNPbP5hr"
      },
      "outputs": [],
      "source": [
        "# 경로는 앞서 PATH에서 선언했고 unzip에서도 경로를 지정했습니다. 만약 여기에 변화가 생기신다면 에러가 생길 수 있으니 유의하셔야 합니다.\n",
        "with open(path_train_data, 'r') as f:\n",
        "  raw_train_data = json.load(f)\n",
        "\n",
        "with open(path_val_data, 'r') as f:\n",
        "  raw_val_data = json.load(f)\n"
      ]
    },
    {
      "cell_type": "code",
      "execution_count": 11,
      "metadata": {
        "colab": {
          "base_uri": "https://localhost:8080/"
        },
        "id": "jNhgtA6iR2HG",
        "outputId": "a62c2dab-b1e4-415d-860c-689c36a6baae"
      },
      "outputs": [
        {
          "output_type": "execute_result",
          "data": {
            "text/plain": [
              "dict_keys(['data'])"
            ]
          },
          "metadata": {},
          "execution_count": 11
        }
      ],
      "source": [
        "# 현재 데이터의 구조가 {'data':~~~ }로 되어있는것을 알 수 있습니다.\n",
        "raw_train_data.keys()"
      ]
    },
    {
      "cell_type": "code",
      "execution_count": 12,
      "metadata": {
        "colab": {
          "base_uri": "https://localhost:8080/"
        },
        "id": "uMcJ230kRgJ_",
        "outputId": "c2bd4c7d-4b0b-418f-d361-1e7da3a603d0"
      },
      "outputs": [
        {
          "output_type": "execute_result",
          "data": {
            "text/plain": [
              "1200307"
            ]
          },
          "metadata": {},
          "execution_count": 12
        }
      ],
      "source": [
        "# 학습 데이터 개수 확인\n",
        "len(raw_train_data['data'])"
      ]
    },
    {
      "cell_type": "markdown",
      "metadata": {
        "id": "pOcoZtgOYicO"
      },
      "source": [
        "지금 데이터가 너무 많아서 전처리만 해도 1,2시간 걸릴 수 있습니다. 그래서 숙제에서는 매우 일부 데이터만 이용하도록 하겠습니다."
      ]
    },
    {
      "cell_type": "code",
      "execution_count": 13,
      "metadata": {
        "id": "OXGulbjhYg-o"
      },
      "outputs": [],
      "source": [
        "raw_train_data = raw_train_data['data'][:10000]\n",
        "raw_val_data = raw_val_data['data'][:1000]"
      ]
    },
    {
      "cell_type": "code",
      "execution_count": 14,
      "metadata": {
        "id": "GMFaFQF0SJb4"
      },
      "outputs": [],
      "source": [
        "# 샘플로 하나 확인\n",
        "sample_data = raw_train_data[0]"
      ]
    },
    {
      "cell_type": "code",
      "execution_count": 15,
      "metadata": {
        "colab": {
          "base_uri": "https://localhost:8080/"
        },
        "id": "I68Quh9gSRag",
        "outputId": "d47e56cc-1f46-48db-87a5-f03065c7442d"
      },
      "outputs": [
        {
          "output_type": "execute_result",
          "data": {
            "text/plain": [
              "{'sn': 'ECOAR1A00003',\n",
              " 'data_set': '일상생활및구어체',\n",
              " 'domain': '해외고객과의채팅',\n",
              " 'subdomain': '숙박,음식점',\n",
              " 'en_original': \"I'm glad to hear that, and I hope you do consider doing business with us.\",\n",
              " 'en': \"I'm glad to hear that, and I hope you do consider doing business with us.\",\n",
              " 'mt': '그 소식을 들으니 기쁩니다. 우리와 거래하는 것을 고려해 보시기 바랍니다.',\n",
              " 'ko': '그 말을 들으니 기쁘고, 저희와 거래하는 것을 고려해 주셨으면 합니다.',\n",
              " 'source_language': 'en',\n",
              " 'target_language': 'ko',\n",
              " 'word_count_ko': 10.0,\n",
              " 'word_count_en': 15.0,\n",
              " 'word_ratio': 0.667,\n",
              " 'file_name': '해외고객과의채팅_숙박,음식점.xlsx',\n",
              " 'source': '크라우드 소싱',\n",
              " 'license': 'open',\n",
              " 'style': '구어체',\n",
              " 'included_unknown_words': False,\n",
              " 'ner': None}"
            ]
          },
          "metadata": {},
          "execution_count": 15
        }
      ],
      "source": [
        "# 아래의 예시를 보고 데이터를 어떻게 처리할지 잘 생각하셔야 합니다!\n",
        "# 보았을 때 우리가 사용해야 하는 건 ko와 en가 되고\n",
        "# 실제 데이터를 사용한다고 할 때 이 외에 필요한 데이터가 더 있을 수 있습니다.\n",
        "# 모델링 과정에서는 어떻게 데이터들이 저장되어 있는지 주의해서 처리하시면 됩니다.\n",
        "sample_data"
      ]
    },
    {
      "cell_type": "markdown",
      "metadata": {
        "id": "LoZkQRO3l20O"
      },
      "source": [
        "# Preprocess\n",
        "\n",
        "세션 설명 코드에서는 알파벳 하나하나 사용했지만, 이번 과정에서는 토큰화를 진행하여 사용하는 과정을 Dataset에 바로 적용해보고자 합니다! \n",
        "\n",
        "토큰화는 앞서 word embedding 세션에서 사용한 것들을 그대로 이용하고자 합니다. 세부 커스터마이징은 자유롭습니다.\n",
        "\n",
        "전처리 과정에서 중요한 점은, 앞의 구현 코드에서 여러 개의 for loop을 이용해서 구현했었지만, 실제 데이터를 사용한다면 매우 오래 걸리게 됩니다. 실제 데이터를 사용할 때엔 결국 얼마나 효율적으로 빠르게 정리할 수 있을지 고민해보시면서 접근하시길 바랍니다.\n",
        "\n",
        "즉, 전처리에서 챙길 통찰은 얼마나 \"효율적\"으로 할 수 있는가? 입니다."
      ]
    },
    {
      "cell_type": "markdown",
      "metadata": {
        "id": "IngQKWx3VRtO"
      },
      "source": [
        "## Tokenizer"
      ]
    },
    {
      "cell_type": "code",
      "execution_count": 16,
      "metadata": {
        "colab": {
          "base_uri": "https://localhost:8080/"
        },
        "id": "ttmiDFAEU_BK",
        "outputId": "bed9e37d-4251-46a9-f7d8-48dc8a180191"
      },
      "outputs": [
        {
          "output_type": "stream",
          "name": "stdout",
          "text": [
            "Hit:1 https://cloud.r-project.org/bin/linux/ubuntu bionic-cran40/ InRelease\n",
            "Hit:2 http://ppa.launchpad.net/c2d4u.team/c2d4u4.0+/ubuntu bionic InRelease\n",
            "Hit:3 http://security.ubuntu.com/ubuntu bionic-security InRelease\n",
            "Ign:4 https://developer.download.nvidia.com/compute/machine-learning/repos/ubuntu1804/x86_64  InRelease\n",
            "Hit:5 https://developer.download.nvidia.com/compute/cuda/repos/ubuntu1804/x86_64  InRelease\n",
            "Hit:6 http://archive.ubuntu.com/ubuntu bionic InRelease\n",
            "Hit:7 https://developer.download.nvidia.com/compute/machine-learning/repos/ubuntu1804/x86_64  Release\n",
            "Hit:8 http://ppa.launchpad.net/cran/libgit2/ubuntu bionic InRelease\n",
            "Hit:9 http://archive.ubuntu.com/ubuntu bionic-updates InRelease\n",
            "Hit:10 http://archive.ubuntu.com/ubuntu bionic-backports InRelease\n",
            "Hit:11 http://ppa.launchpad.net/deadsnakes/ppa/ubuntu bionic InRelease\n",
            "Hit:12 http://ppa.launchpad.net/graphics-drivers/ppa/ubuntu bionic InRelease\n",
            "Reading package lists...\n",
            "Reading package lists...\n",
            "Building dependency tree...\n",
            "Reading state information...\n",
            "python-dev is already the newest version (2.7.15~rc1-1).\n",
            "g++ is already the newest version (4:7.4.0-1ubuntu2.3).\n",
            "python3-dev is already the newest version (3.6.7-1~18.04).\n",
            "openjdk-8-jdk is already the newest version (8u342-b07-0ubuntu1~18.04).\n",
            "The following package was automatically installed and is no longer required:\n",
            "  libnvidia-common-460\n",
            "Use 'apt autoremove' to remove it.\n",
            "0 upgraded, 0 newly installed, 0 to remove and 47 not upgraded.\n",
            "Looking in indexes: https://pypi.org/simple, https://us-python.pkg.dev/colab-wheels/public/simple/\n",
            "Requirement already satisfied: JPype1 in /usr/local/lib/python3.7/dist-packages (1.4.0)\n",
            "Requirement already satisfied: typing-extensions in /usr/local/lib/python3.7/dist-packages (from JPype1) (4.1.1)\n",
            "Looking in indexes: https://pypi.org/simple, https://us-python.pkg.dev/colab-wheels/public/simple/\n",
            "Requirement already satisfied: konlpy in /usr/local/lib/python3.7/dist-packages (0.6.0)\n",
            "Requirement already satisfied: numpy>=1.6 in /usr/local/lib/python3.7/dist-packages (from konlpy) (1.21.6)\n",
            "Requirement already satisfied: lxml>=4.1.0 in /usr/local/lib/python3.7/dist-packages (from konlpy) (4.9.1)\n",
            "Requirement already satisfied: JPype1>=0.7.0 in /usr/local/lib/python3.7/dist-packages (from konlpy) (1.4.0)\n",
            "Requirement already satisfied: typing-extensions in /usr/local/lib/python3.7/dist-packages (from JPype1>=0.7.0->konlpy) (4.1.1)\n"
          ]
        }
      ],
      "source": [
        "#konlpy 설치 (mecab 제외). 3~40초 정도 소요\n",
        "%%bash\n",
        "apt-get update\n",
        "apt-get install g++ openjdk-8-jdk python-dev python3-dev\n",
        "pip3 install JPype1\n",
        "pip3 install konlpy"
      ]
    },
    {
      "cell_type": "code",
      "execution_count": 17,
      "metadata": {
        "colab": {
          "base_uri": "https://localhost:8080/"
        },
        "id": "gV7CNL2KVDqN",
        "outputId": "0fa17f8a-57a4-443d-a560-44ef8d8a19b9"
      },
      "outputs": [
        {
          "output_type": "stream",
          "name": "stdout",
          "text": [
            "env: JAVA_HOME=\"/usr/lib/jvm/java-8-openjdk-amd64\"\n"
          ]
        }
      ],
      "source": [
        "# java 경로 설정\n",
        "%env JAVA_HOME \"/usr/lib/jvm/java-8-openjdk-amd64\""
      ]
    },
    {
      "cell_type": "code",
      "execution_count": 18,
      "metadata": {
        "id": "S0aHtzksVPOT"
      },
      "outputs": [],
      "source": [
        "from konlpy.tag import Okt"
      ]
    },
    {
      "cell_type": "code",
      "execution_count": 19,
      "metadata": {
        "id": "ly1Fg2bXVYVF"
      },
      "outputs": [],
      "source": [
        "okt = Okt()"
      ]
    },
    {
      "cell_type": "code",
      "execution_count": 20,
      "metadata": {
        "id": "UcXNpcUaVtIA"
      },
      "outputs": [],
      "source": [
        "def CustomTokenization(sentence):\n",
        "  tokenizing = []\n",
        "  stop = ['Punctuation','Josa','Number']\n",
        "  \n",
        "  for i, j in okt.pos(sentence, stem = True, norm= True):\n",
        "      if j in stop:\n",
        "           continue\n",
        "      tokenizing.append(i)\n",
        "  return tokenizing"
      ]
    },
    {
      "cell_type": "code",
      "execution_count": 21,
      "metadata": {
        "colab": {
          "base_uri": "https://localhost:8080/"
        },
        "id": "aGMdyWtdWF31",
        "outputId": "d3f409b8-e57c-4462-da58-54cc052a63fe"
      },
      "outputs": [
        {
          "output_type": "execute_result",
          "data": {
            "text/plain": [
              "['그', '말', '들다', '기쁘다', '저희', '거래', '하다', '것', '고려', '하다', '주다', '하다']"
            ]
          },
          "metadata": {},
          "execution_count": 21
        }
      ],
      "source": [
        "# 한국어 처리 어떻게 되고 있는지 확인\n",
        "CustomTokenization(sample_data['ko'])"
      ]
    },
    {
      "cell_type": "code",
      "execution_count": 22,
      "metadata": {
        "colab": {
          "base_uri": "https://localhost:8080/"
        },
        "id": "G7vMH186WJUp",
        "outputId": "814b4788-4b8b-41cd-f5a0-8f2b546aa80e"
      },
      "outputs": [
        {
          "output_type": "execute_result",
          "data": {
            "text/plain": [
              "['I',\n",
              " 'm',\n",
              " 'glad',\n",
              " 'to',\n",
              " 'hear',\n",
              " 'that',\n",
              " 'and',\n",
              " 'I',\n",
              " 'hope',\n",
              " 'you',\n",
              " 'do',\n",
              " 'consider',\n",
              " 'doing',\n",
              " 'business',\n",
              " 'with',\n",
              " 'us']"
            ]
          },
          "metadata": {},
          "execution_count": 22
        }
      ],
      "source": [
        "# 영어도 일단 토큰화가 되고 있으니 사용해보도록 합시다\n",
        "CustomTokenization(sample_data['en'])"
      ]
    },
    {
      "cell_type": "markdown",
      "metadata": {
        "id": "L9_z0sVcW7Cy"
      },
      "source": [
        "## 본격적인 전처리 과정\n",
        "\n",
        "전처리릏 할 때 주의할 점은, 우리가 가지고 있는 것은 train 데이터 뿐이라는 점입니다.\n",
        "\n",
        "토큰화를 하고, token들을 수집할 때 평가데이터(혹은 테스트 데이터)에 대한 정보는 가지고 있을 수 없습니다. 그렇기 때문에 train data를 기준으로 전처리가 진행되어야 합니다."
      ]
    },
    {
      "cell_type": "markdown",
      "metadata": {
        "id": "HgfddQJuaQe-"
      },
      "source": [
        "### Tokenization"
      ]
    },
    {
      "cell_type": "code",
      "execution_count": 23,
      "metadata": {
        "id": "zPHGhgX4YXJR"
      },
      "outputs": [],
      "source": [
        "from tqdm import tqdm"
      ]
    },
    {
      "cell_type": "code",
      "execution_count": 24,
      "metadata": {
        "colab": {
          "base_uri": "https://localhost:8080/"
        },
        "id": "sJjWUAipWPsN",
        "outputId": "69fca2c3-7c67-4788-fb27-913b79f484c3"
      },
      "outputs": [
        {
          "output_type": "stream",
          "name": "stderr",
          "text": [
            "100%|██████████| 10000/10000 [01:09<00:00, 144.05it/s]\n"
          ]
        }
      ],
      "source": [
        "src_vocab = set()\n",
        "tar_vocab = set()\n",
        "\n",
        "src_seq_tr = []\n",
        "tar_seq_tr = []\n",
        "\n",
        "# 전체 raw data에서 문장하나씩 loop 돌아가는 것\n",
        "for raw_tr_dat in tqdm(raw_train_data):\n",
        "  # 문장별 tokenization\n",
        "  src_tmp = CustomTokenization(raw_tr_dat['en'])\n",
        "  tar_tmp = CustomTokenization(raw_tr_dat['ko'])\n",
        "\n",
        "  # 입력 시퀀스에서 문장의 끝을 알리는 <EOS> 토큰 추가\n",
        "  # 출력 시퀀스에서 시작과 끝을 알리는 <SOS>, <EOS> 토큰 추가\n",
        "  src_tmp.append('<EOS>')\n",
        "  tar_tmp.insert(0,'<SOS>')\n",
        "  tar_tmp.append('<EOS>')\n",
        "\n",
        "  # 한국어, 영어 단어집합 구성\n",
        "  src_vocab.update(src_tmp)\n",
        "  tar_vocab.update(tar_tmp)\n",
        "\n",
        "  # tokenization 끝난 문장 보관\n",
        "  src_seq_tr.append(src_vocab)\n",
        "  tar_seq_tr.append(tar_vocab)"
      ]
    },
    {
      "cell_type": "markdown",
      "metadata": {
        "id": "PtNW4DUIyEbN"
      },
      "source": [
        "고민해볼 점: 과연 한국어 단어집합에 한국어만 있을까요?\n",
        "\n",
        "지금 단계에서는 시간 상 체크하진 않지만 고민해볼 부분이기도 합니다."
      ]
    },
    {
      "cell_type": "markdown",
      "metadata": {
        "id": "cK_E98-daSy7"
      },
      "source": [
        "### token - index 정리"
      ]
    },
    {
      "cell_type": "code",
      "execution_count": 25,
      "metadata": {
        "id": "Iz3i3MtRZ-P-"
      },
      "outputs": [],
      "source": [
        "# 최종 정수 인코딩 하기 전 보기 편하기 위해 sort\n",
        "src_vocab = sorted(list(src_vocab))\n",
        "tar_vocab = sorted(list(tar_vocab))"
      ]
    },
    {
      "cell_type": "code",
      "execution_count": 26,
      "metadata": {
        "colab": {
          "base_uri": "https://localhost:8080/"
        },
        "id": "xrGkd41Has-Q",
        "outputId": "470a50d2-77c6-4df8-ed6b-e9dd79ffb8ef"
      },
      "outputs": [
        {
          "output_type": "stream",
          "name": "stdout",
          "text": [
            "{',': 1, '.': 2, '<EOS>': 3, 'A': 4, 'AAA': 5, 'AAA1@BBB1.com.': 6, 'AAA@BBB.com': 7, 'ABCDE': 8, 'AI': 9, 'ANRs': 10, 'ATM': 11, 'ATMs': 12, 'Absolutely': 13, 'Accidents': 14, 'According': 15, 'Actually': 16, 'Additionally': 17, 'Ads': 18, 'African': 19, 'After': 20, 'Afterwards': 21, 'Again': 22, 'Agency': 23, 'Ah': 24, 'Airport': 25, 'All': 26, 'Allow': 27, 'Almost': 28, 'Along': 29, 'Alright': 30, 'Also': 31, 'Alternatively': 32, 'Although': 33, 'Am': 34, 'America': 35, 'American': 36, 'Among': 37, 'Amsterdam': 38, 'An': 39, 'And': 40, 'Angel': 41, 'Another': 42, 'Any': 43, 'Anyone': 44, 'Anything': 45, 'Anyway': 46, 'Apart': 47, 'Apologies': 48, 'Apparently': 49, 'Appraisal': 50, 'April': 51, 'Are': 52, 'Argentina': 53, 'Around': 54, 'Articles': 55, 'Artificial': 56, 'As': 57, 'Asia': 58, 'Asian': 59, 'Aside': 60, 'Associates': 61, 'Assume': 62, 'At': 63, 'August': 64, 'Australia': 65, 'Australian': 66, 'Available': 67, 'Avatars': 68, 'Avoid': 69, 'Awesome': 70, 'B': 71, 'BBB': 72, 'BBB@email.com.': 73, 'BBQ': 74, 'BSE': 75, 'Back': 76, 'Bank': 77, 'Barbados': 78, 'Based': 79, 'Basically': 80, 'Be': 81, 'Bear': 82, 'Because': 83, 'Beef': 84, 'Before': 85, 'Being': 86, 'Besides': 87, 'Board': 88, 'Bohemian': 89, 'Bokkeumbap': 90, 'Bossam': 91, 'Both': 92, 'Brazil': 93, 'Breakfast': 94, 'Bringing': 95, 'Broadcast': 96, 'Broadcasting': 97, 'Browsing': 98, 'Brunei': 99, 'Buddha': 100, 'Buddhism': 101, 'Buddhist': 102, 'Building': 103, 'Bulgogi': 104, 'Bungeoppang': 105, 'Bunsen': 106, 'Busan': 107, 'Business': 108, 'But': 109, 'Buying': 110, 'By': 111, 'C': 112, 'CCTV': 113, 'CCTVs': 114, 'CEO': 115, 'CFM': 116, 'CMS': 117, 'COVID': 118, 'CSS': 119, 'CT': 120, 'California': 121, 'Call': 122, 'Camp': 123, 'Camping': 124, 'Can': 125, 'Canada': 126, 'Canal': 127, 'Capital': 128, 'Catering': 129, 'Center': 130, 'Certainly': 131, 'Change': 132, 'Chapter': 133, 'Chicago': 134, 'Chief': 135, 'Children': 136, 'China': 137, 'Chinese': 138, 'Choosing': 139, 'Chosun': 140, 'Christmas': 141, 'Chuseok': 142, 'City': 143, 'Class': 144, 'Click': 145, 'Clothing': 146, 'Cloud': 147, 'Come': 148, 'Company': 149, 'Compatible': 150, 'Completion': 151, 'Consider': 152, 'Considering': 153, 'Contact': 154, 'Content': 155, 'Continental': 156, 'Continue': 157, 'Control': 158, 'Convention': 159, 'Cool': 160, 'Copyright': 161, 'Corp': 162, 'Corporation': 163, 'Correct': 164, 'Could': 165, 'Court': 166, 'Crowdfunding': 167, 'Cryptocurrency': 168, 'Currently': 169, 'D': 170, 'DCA': 171, 'DVR': 172, 'Daegu': 173, 'Dak': 174, 'Dear': 175, 'December': 176, 'Definitely': 177, 'Denmark': 178, 'Department': 179, 'Depends': 180, 'Design': 181, 'Despite': 182, 'Details': 183, 'Devices': 184, 'Did': 185, 'Didn': 186, 'Different': 187, 'Disclosing': 188, 'District': 189, 'Do': 190, 'Documents': 191, 'Does': 192, 'Don': 193, 'Download': 194, 'Dr': 195, 'Drive': 196, 'Due': 197, 'Duly': 198, 'During': 199, 'E': 200, 'EOB': 201, 'EPP': 202, 'ESG': 203, 'EST': 204, 'ETF': 205, 'ETFs': 206, 'EVA': 207, 'Each': 208, 'Earth': 209, 'East': 210, 'Eastern': 211, 'Egyptian': 212, 'Eh': 213, 'Emerald': 214, 'Emerging': 215, 'Emily': 216, 'Encryption': 217, 'Engine': 218, 'Engines': 219, 'England': 220, 'English': 221, 'Equipment': 222, 'Especially': 223, 'Essentially': 224, 'Europe': 225, 'European': 226, 'Euros': 227, 'Even': 228, 'Events': 229, 'Every': 230, 'Everyone': 231, 'Everything': 232, 'Exactly': 233, 'Excellent': 234, 'Exchange': 235, 'Excuse': 236, 'Exit': 237, 'Expect': 238, 'Expo': 239, 'FDI': 240, 'FFF': 241, 'FOMO': 242, 'Factors': 243, 'Failure': 244, 'Fantastic': 245, 'February': 246, 'Federal': 247, 'Feel': 248, 'Festival': 249, 'Fi': 250, 'Fifth': 251, 'Filipino': 252, 'Finally': 253, 'Financial': 254, 'Find': 255, 'Fine': 256, 'Fingers': 257, 'First': 258, 'Firstly': 259, 'Five': 260, 'Flashes': 261, 'Flexibility': 262, 'Food': 263, 'For': 264, 'Foreigners': 265, 'Fortunately': 266, 'Fourth': 267, 'France': 268, 'Francisco': 269, 'French': 270, 'Friday': 271, 'From': 272, 'Fu': 273, 'Furthermore': 274, 'Futons': 275, 'Futures': 276, 'G': 277, 'GB': 278, 'GPS': 279, 'GVWR': 280, 'Gains': 281, 'Gangnam': 282, 'Gangneung': 283, 'Gas': 284, 'Generally': 285, 'Georgia': 286, 'Germany': 287, 'Get': 288, 'Ginseng': 289, 'Give': 290, 'Given': 291, 'Giving': 292, 'Go': 293, 'Good': 294, 'Got': 295, 'Graphic': 296, 'Great': 297, 'Greek': 298, 'Greetings': 299, 'Group': 300, 'Guam': 301, 'Gujeolpan': 302, 'Gyeonggi': 303, 'HDD': 304, 'HR': 305, 'HTML': 306, 'Hackers': 307, 'Halal': 308, 'Hanok': 309, 'Has': 310, 'Have': 311, 'Having': 312, 'Hawaii': 313, 'He': 314, 'Helllo': 315, 'Hello': 316, 'Hence': 317, 'Her': 318, 'Here': 319, 'Hey': 320, 'Hi': 321, 'Hmm': 322, 'Hokkaido': 323, 'Hold': 324, 'Hopefully': 325, 'Hotel': 326, 'How': 327, 'However': 328, 'I': 329, 'ID': 330, 'IDs': 331, 'IP': 332, 'IPO': 333, 'IPOs': 334, 'IT': 335, 'IVR': 336, 'IaaS': 337, 'If': 338, 'Ilsan': 339, 'In': 340, 'Incentives': 341, 'Incheon': 342, 'Incorporation': 343, 'Indeed': 344, 'Independent': 345, 'India': 346, 'Indian': 347, 'Indonesia': 348, 'Indonesian': 349, 'Inflation': 350, 'Influencer': 351, 'Innovations': 352, 'Installing': 353, 'Instant': 354, 'Insurance': 355, 'Interesting': 356, 'International': 357, 'Internet': 358, 'Intraday': 359, 'Invest': 360, 'Investments': 361, 'Investors': 362, 'IoT': 363, 'Is': 364, 'Isn': 365, 'It': 366, 'Italian': 367, 'Italy': 368, 'JLPT': 369, 'January': 370, 'Japan': 371, 'Japanese': 372, 'Jeju': 373, 'Jeonbyeong': 374, 'Jjimjilbang': 375, 'Jongno': 376, 'July': 377, 'Jun': 378, 'June': 379, 'Just': 380, 'K': 381, 'KOSDAQ': 382, 'KST': 383, 'Kabsat': 384, 'Keep': 385, 'Kimchi': 386, 'Kindly': 387, 'Kingdom': 388, 'Know': 389, 'Knowing': 390, 'Kolkata': 391, 'Korea': 392, 'Korean': 393, 'Koreans': 394, 'Kuala': 395, 'LED': 396, 'Language': 397, 'Last': 398, 'Lastly': 399, 'Later': 400, 'Latest': 401, 'Law': 402, 'Learning': 403, 'Let': 404, 'Life': 405, 'Like': 406, 'Likewise': 407, 'Limited': 408, 'Listen': 409, 'Little': 410, 'Liverpool': 411, 'Loans': 412, 'Locust': 413, 'Log': 414, 'London': 415, 'Looking': 416, 'Losers': 417, 'Loss': 418, 'Lovely': 419, 'Low': 420, 'Luckily': 421, 'Lumpur': 422, 'M': 423, 'MAR': 424, 'MMS': 425, 'MOU': 426, 'Ma': 427, 'Madrid': 428, 'Mainly': 429, 'Maintaining': 430, 'Make': 431, 'Making': 432, 'Malaysia': 433, 'Management': 434, 'Manali': 435, 'Mandarin': 436, 'Manila': 437, 'Many': 438, 'Mapo': 439, 'Mapping': 440, 'March': 441, 'Marketing': 442, 'May': 443, 'Maybe': 444, 'Me': 445, 'Meaning': 446, 'Meanwhile': 447, 'Mechanical': 448, 'Media': 449, 'Medical': 450, 'Members': 451, 'Metaverse': 452, 'Michelin': 453, 'Minting': 454, 'Mobile': 455, 'Monday': 456, 'Month': 457, 'More': 458, 'Moreover': 459, 'Most': 460, 'Moving': 461, 'Mr': 462, 'Mrs': 463, 'Ms': 464, 'Music': 465, 'My': 466, 'Myanmar': 467, 'NFT': 468, 'NFTs': 469, 'NI': 470, 'NSE': 471, 'NTFS': 472, 'Naturally': 473, 'Needles': 474, 'Network': 475, 'Never': 476, 'New': 477, 'News': 478, 'Next': 479, 'Nigeria': 480, 'No': 481, 'Nobody': 482, 'Non': 483, 'None': 484, 'Normally': 485, 'North': 486, 'Not': 487, 'Noted': 488, 'Nothing': 489, 'November': 490, 'Now': 491, 'Nowadays': 492, 'OK': 493, 'OKK': 494, 'OS': 495, 'October': 496, 'Of': 497, 'Off': 498, 'Offering': 499, 'Office': 500, 'Officer': 501, 'Oh': 502, 'Ohio': 503, 'Ok': 504, 'Okay': 505, 'Omji': 506, 'On': 507, 'Once': 508, 'One': 509, 'Only': 510, 'Ontario': 511, 'Optimization': 512, 'Or': 513, 'Originally': 514, 'Others': 515, 'Otherwise': 516, 'Our': 517, 'Out': 518, 'Over': 519, 'Overall': 520, 'PDA': 521, 'PDF': 522, 'PM': 523, 'PPE': 524, 'PR': 525, 'PRO': 526, 'PSAs': 527, 'PVP': 528, 'Pakistan': 529, 'Palm': 530, 'Paper': 531, 'Paris': 532, 'Paying': 533, 'Payment': 534, 'Pelmeni': 535, 'People': 536, 'Perfect': 537, 'Perhaps': 538, 'Philippines': 539, 'Place': 540, 'Please': 541, 'Plenty': 542, 'Plummer': 543, 'Plus': 544, 'Pohang': 545, 'Pot': 546, 'Precisely': 547, 'Precision': 548, 'Predicting': 549, 'President': 550, 'Prices': 551, 'Private': 552, 'Probably': 553, 'Product': 554, 'Publishing': 555, 'Python': 556, 'QR': 557, 'Quality': 558, 'RAM': 559, 'RV': 560, 'Radio': 561, 'Recently': 562, 'Red': 563, 'Regarding': 564, 'Regardless': 565, 'Regrettably': 566, 'Resolution': 567, 'Rest': 568, 'Retailers': 569, 'Right': 570, 'Room': 571, 'SD': 572, 'SEO': 573, 'SIM': 574, 'SKUs': 575, 'SPV': 576, 'SSD': 577, 'SSL': 578, 'Sadly': 579, 'Saeng': 580, 'Sakyamuni': 581, 'Salalah': 582, 'San': 583, 'Sashimi': 584, 'Saturday': 585, 'Sauna': 586, 'Say': 587, 'Schools': 588, 'Search': 589, 'Second': 590, 'Security': 591, 'See': 592, 'Send': 593, 'Seoul': 594, 'September': 595, 'Series': 596, 'Services': 597, 'Several': 598, 'Shall': 599, 'Shampoo': 600, 'Shanghai': 601, 'She': 602, 'Shop': 603, 'Should': 604, 'Signals': 605, 'Signature': 606, 'Similar': 607, 'Simply': 608, 'Since': 609, 'Singapore': 610, 'Singaporean': 611, 'Sir': 612, 'Skim': 613, 'So': 614, 'Social': 615, 'Soju': 616, 'Solar': 617, 'Some': 618, 'Someone': 619, 'Something': 620, 'Sometimes': 621, 'Soon': 622, 'Sorry': 623, 'Sounds': 624, 'South': 625, 'Southeast': 626, 'Spain': 627, 'Spanish': 628, 'Speaking': 629, 'Specifically': 630, 'Springs': 631, 'Square': 632, 'Starting': 633, 'States': 634, 'Station': 635, 'Stay': 636, 'Staying': 637, 'Still': 638, 'Stock': 639, 'Street': 640, 'Stroganoff': 641, 'Submit': 642, 'Submitting': 643, 'Such': 644, 'Sudan': 645, 'Suez': 646, 'Suite': 647, 'Sun': 648, 'Sunday': 649, 'Sure': 650, 'TPU': 651, 'TV': 652, 'Taegeuk': 653, 'Taeguekgi': 654, 'Taiwan': 655, 'Take': 656, 'Task': 657, 'Team': 658, 'Tech': 659, 'Technical': 660, 'Technology': 661, 'Tell': 662, 'Temple': 663, 'Ten': 664, 'Thai': 665, 'Thailand': 666, 'Thank': 667, 'Thanks': 668, 'That': 669, 'The': 670, 'Their': 671, 'Then': 672, 'There': 673, 'Therefore': 674, 'These': 675, 'They': 676, 'Things': 677, 'Third': 678, 'Thirdly': 679, 'This': 680, 'Those': 681, 'Three': 682, 'Through': 683, 'Thursday': 684, 'Thursdays': 685, 'Thus': 686, 'Times': 687, 'To': 688, 'Today': 689, 'Tokens': 690, 'Tokyo': 691, 'Tong': 692, 'Tongdosa': 693, 'Topics': 694, 'Touch': 695, 'Trade': 696, 'Trust': 697, 'Truth': 698, 'Try': 699, 'Tuesday': 700, 'Turkish': 701, 'UI': 702, 'UN': 703, 'US': 704, 'USA': 705, 'USB': 706, 'USBs': 707, 'Ukraine': 708, 'Ulsan': 709, 'Ultimately': 710, 'Under': 711, 'Unfortunately': 712, 'United': 713, 'Universal': 714, 'University': 715, 'Unless': 716, 'Unlike': 717, 'Until': 718, 'Upon': 719, 'Users': 720, 'Using': 721, 'Usually': 722, 'VC': 723, 'VIP': 724, 'VPN': 725, 'VR': 726, 'VVIP': 727, 'Vacationing': 728, 'Various': 729, 'Vegetables': 730, 'Venezuela': 731, 'Very': 732, 'Vietnam': 733, 'View': 734, 'Virtual': 735, 'Visual': 736, 'Visualization': 737, 'WIFI': 738, 'WTO': 739, 'Wait': 740, 'Was': 741, 'We': 742, 'Webcasting': 743, 'Wednesday': 744, 'Welcome': 745, 'Well': 746, 'Were': 747, 'Weren': 748, 'What': 749, 'Whatever': 750, 'WhatsApp': 751, 'When': 752, 'Where': 753, 'Which': 754, 'While': 755, 'Who': 756, 'Whom': 757, 'Why': 758, 'Wi': 759, 'Will': 760, 'Wishing': 761, 'With': 762, 'Without': 763, 'Won': 764, 'Wonderful': 765, 'Wonju': 766, 'Would': 767, 'Wouldn': 768, 'Wow': 769, 'X': 770, 'Yeah': 771, 'Yebool': 772, 'Yellowknife': 773, 'Yes': 774, 'Yet': 775, 'York': 776, 'Yorkshire': 777, 'You': 778, 'Your': 779, 'Yukhoe': 780, 'Yup': 781, 'Zealand': 782, 'a': 783, 'abbreviation': 784, 'ability': 785, 'able': 786, 'about': 787, 'above': 788, 'abroad': 789, 'absent': 790, 'absolutely': 791, 'absorption': 792, 'academe': 793, 'academic': 794, 'accelerate': 795, 'accept': 796, 'acceptable': 797, 'acceptance': 798, 'accepted': 799, 'accepting': 800, 'access': 801, 'accessed': 802, 'accessibility': 803, 'accessible': 804, 'accessing': 805, 'accessories': 806, 'accidental': 807, 'accidentally': 808, 'accidents': 809, 'accommodate': 810, 'accommodating': 811, 'accommodation': 812, 'accommodations': 813, 'accomodating': 814, 'accomplish': 815, 'accomplished': 816, 'accordance': 817, 'according': 818, 'accordingly': 819, 'account': 820, 'accountancy': 821, 'accountant': 822, 'accounted': 823, 'accounting': 824, 'accounts': 825, 'accrual': 826, 'accumulated': 827, 'accuracy': 828, 'accurate': 829, 'accurately': 830, 'achieve': 831, 'achieved': 832, 'achievement': 833, 'achievements': 834, 'achieving': 835, 'acknowledge': 836, 'acne': 837, 'acoustic': 838, 'acoustics': 839, 'acquaint': 840, 'acquire': 841, 'acquired': 842, 'acquiring': 843, 'acquisition': 844, 'across': 845, 'act': 846, 'action': 847, 'actions': 848, 'activate': 849, 'activated': 850, 'active': 851, 'activities': 852, 'activity': 853, 'actors': 854, 'actual': 855, 'actualize': 856, 'actually': 857, 'acute': 858, 'ad': 859, 'adaptations': 860, 'adapter': 861, 'adaptive': 862, 'adaptor': 863, 'adaptors': 864, 'add': 865, 'added': 866, 'addendum': 867, 'adding': 868, 'addition': 869, 'additional': 870, 'address': 871, 'addressed': 872, 'addresses': 873, 'addressing': 874, 'adequately': 875, 'adhere': 876, 'adhesive': 877, 'adjust': 878, 'adjustable': 879, 'adjusted': 880, 'adjustment': 881, 'adjustments': 882, 'administration': 883, 'administrative': 884, 'administrators': 885, 'admission': 886, 'adopt': 887, 'ads': 888, 'adult': 889, 'adults': 890, 'advance': 891, 'advanced': 892, 'advancement': 893, 'advancing': 894, 'advantage': 895, 'advantageous': 896, 'advantages': 897, 'adventure': 898, 'advertise': 899, 'advertisement': 900, 'advertisements': 901, 'advertising': 902, 'adverts': 903, 'advice': 904, 'advisable': 905, 'advise': 906, 'advised': 907, 'advisers': 908, 'advises': 909, 'advisor': 910, 'advisory': 911, 'aesthetic': 912, 'affairs': 913, 'affect': 914, 'affected': 915, 'affecting': 916, 'affects': 917, 'affiliate': 918, 'affiliated': 919, 'affluent': 920, 'afford': 921, 'affordability': 922, 'affordable': 923, 'afloat': 924, 'aforementioned': 925, 'afraid': 926, 'after': 927, 'afternoon': 928, 'afterward': 929, 'again': 930, 'against': 931, 'age': 932, 'aged': 933, 'agencies': 934, 'agency': 935, 'agenda': 936, 'agent': 937, 'ages': 938, 'ago': 939, 'agree': 940, 'agreed': 941, 'agreeing': 942, 'agreement': 943, 'agrees': 944, 'agricultural': 945, 'agriculture': 946, 'ahead': 947, 'aid': 948, 'aids': 949, 'aim': 950, 'aims': 951, 'air': 952, 'aircraft': 953, 'airing': 954, 'airlines': 955, 'airport': 956, 'airports': 957, 'airtime': 958, 'alarm': 959, 'albeit': 960, 'album': 961, 'albums': 962, 'alcohol': 963, 'alcoholic': 964, 'alert': 965, 'algorithm': 966, 'algorithms': 967, 'aligned': 968, 'alkaline': 969, 'all': 970, 'allegations': 971, 'allergic': 972, 'allergies': 973, 'alliance': 974, 'allocate': 975, 'allocation': 976, 'allocations': 977, 'allow': 978, 'allowed': 979, 'allowing': 980, 'allows': 981, 'almost': 982, 'alone': 983, 'along': 984, 'already': 985, 'alright': 986, 'also': 987, 'alternative': 988, 'alternatives': 989, 'although': 990, 'aluminum': 991, 'always': 992, 'am': 993, 'amazing': 994, 'ambassador': 995, 'ambiance': 996, 'ambulation': 997, 'ambulatory': 998, 'amend': 999, 'amends': 1000, 'amenities': 1001, 'amenity': 1002, 'among': 1003, 'amongst': 1004, 'amount': 1005, 'amounted': 1006, 'amounts': 1007, 'amplifier': 1008, 'amplify': 1009, 'an': 1010, 'analysis': 1011, 'analytics': 1012, 'analyze': 1013, 'analyzing': 1014, 'anchor': 1015, 'ancient': 1016, 'and': 1017, 'android': 1018, 'angel': 1019, 'angle': 1020, 'angry': 1021, 'animal': 1022, 'animated': 1023, 'animations': 1024, 'animators': 1025, 'ankle': 1026, 'anniversary': 1027, 'announce': 1028, 'announcement': 1029, 'announcements': 1030, 'announcers': 1031, 'annual': 1032, 'annually': 1033, 'annum': 1034, 'another': 1035, 'answer': 1036, 'answered': 1037, 'answering': 1038, 'antenna': 1039, 'antivirus': 1040, 'any': 1041, 'anybody': 1042, 'anymore': 1043, 'anyone': 1044, 'anything': 1045, 'anytime': 1046, 'anyway': 1047, 'anywhere': 1048, 'apart': 1049, 'apartment': 1050, 'apartments': 1051, 'apologies': 1052, 'apologize': 1053, 'apology': 1054, 'app': 1055, 'apparent': 1056, 'appeal': 1057, 'appealing': 1058, 'appeals': 1059, 'appear': 1060, 'appearance': 1061, 'appeared': 1062, 'appears': 1063, 'appended': 1064, 'appetizer': 1065, 'apple': 1066, 'appliances': 1067, 'applicable': 1068, 'application': 1069, 'applications': 1070, 'applied': 1071, 'applies': 1072, 'apply': 1073, 'applying': 1074, 'appointment': 1075, 'appraisal': 1076, 'appreciate': 1077, 'appreciated': 1078, 'appreciating': 1079, 'appreciation': 1080, 'approach': 1081, 'approached': 1082, 'appropriate': 1083, 'appropriately': 1084, 'approval': 1085, 'approve': 1086, 'approved': 1087, 'approximately': 1088, 'apps': 1089, 'aprtner': 1090, 'architectural': 1091, 'architecture': 1092, 'archives': 1093, 'are': 1094, 'area': 1095, 'areas': 1096, 'aren': 1097, 'arena': 1098, 'arises': 1099, 'aromatherapy': 1100, 'around': 1101, 'arrange': 1102, 'arranged': 1103, 'arrangement': 1104, 'arrangements': 1105, 'arranger': 1106, 'arrangers': 1107, 'arranging': 1108, 'array': 1109, 'arrival': 1110, 'arrive': 1111, 'arrived': 1112, 'arriving': 1113, 'art': 1114, 'article': 1115, 'articles': 1116, 'artificial': 1117, 'artillery': 1118, 'artist': 1119, 'artists': 1120, 'arts': 1121, 'artwork': 1122, 'artworks': 1123, 'as': 1124, 'asap': 1125, 'ashamed': 1126, 'aside': 1127, 'ask': 1128, 'asked': 1129, 'asking': 1130, 'asks': 1131, 'asleep': 1132, 'asparagus': 1133, 'aspect': 1134, 'aspects': 1135, 'asphalt': 1136, 'assembly': 1137, 'assessing': 1138, 'assessment': 1139, 'asset': 1140, 'assets': 1141, 'assign': 1142, 'assigned': 1143, 'assist': 1144, 'assistance': 1145, 'assistant': 1146, 'assisting': 1147, 'assistive': 1148, 'associate': 1149, 'associated': 1150, 'associates': 1151, 'association': 1152, 'assumed': 1153, 'assuming': 1154, 'assurance': 1155, 'assure': 1156, 'assured': 1157, 'assures': 1158, 'assuring': 1159, 'at': 1160, 'ate': 1161, 'atmosphere': 1162, 'attach': 1163, 'attached': 1164, 'attack': 1165, 'attacks': 1166, 'attain': 1167, 'attains': 1168, 'attempted': 1169, 'attend': 1170, 'attendance': 1171, 'attended': 1172, 'attending': 1173, 'attention': 1174, 'attest': 1175, 'attorney': 1176, 'attract': 1177, 'attracted': 1178, 'attributes': 1179, 'attrition': 1180, 'audience': 1181, 'audiences': 1182, 'audio': 1183, 'audiovisual': 1184, 'audit': 1185, 'audited': 1186, 'auditing': 1187, 'authentic': 1188, 'author': 1189, 'authored': 1190, 'authorities': 1191, 'authority': 1192, 'authorization': 1193, 'authorized': 1194, 'authors': 1195, 'auto': 1196, 'autobiographies': 1197, 'autoclave': 1198, 'automate': 1199, 'automated': 1200, 'automatic': 1201, 'automatically': 1202, 'automation': 1203, 'automobile': 1204, 'automotive': 1205, 'autumn': 1206, 'auxiliary': 1207, 'avail': 1208, 'availability': 1209, 'available': 1210, 'availed': 1211, 'availing': 1212, 'avenue': 1213, 'average': 1214, 'avoid': 1215, 'await': 1216, 'awake': 1217, 'awarded': 1218, 'aware': 1219, 'awareness': 1220, 'away': 1221, 'awesome': 1222, 'ay': 1223, 'babies': 1224, 'baby': 1225, 'back': 1226, 'backdrops': 1227, 'backers': 1228, 'background': 1229, 'backgrounds': 1230, 'backhoe': 1231, 'backing': 1232, 'backlinks': 1233, 'backlog': 1234, 'backup': 1235, 'backward': 1236, 'backyard': 1237, 'bacteria': 1238, 'bad': 1239, 'baffling': 1240, 'baker': 1241, 'bakery': 1242, 'baking': 1243, 'balance': 1244, 'ball': 1245, 'ballpark': 1246, 'bamboo': 1247, 'ban': 1248, 'banana': 1249, 'banchan': 1250, 'band': 1251, 'bands': 1252, 'bandwidth': 1253, 'bank': 1254, 'banker': 1255, 'banking': 1256, 'bankruptcy': 1257, 'banks': 1258, 'banner': 1259, 'banners': 1260, 'banquet': 1261, 'bar': 1262, 'barbecue': 1263, 'barbeque': 1264, 'bare': 1265, 'barely': 1266, 'bargain': 1267, 'barrier': 1268, 'bars': 1269, 'base': 1270, 'based': 1271, 'basement': 1272, 'basic': 1273, 'basically': 1274, 'basics': 1275, 'basis': 1276, 'bass': 1277, 'batch': 1278, 'bath': 1279, 'bathhouses': 1280, 'bathroom': 1281, 'bathrooms': 1282, 'baths': 1283, 'bathtub': 1284, 'batteries': 1285, 'battery': 1286, 'battling': 1287, 'bay': 1288, 'be': 1289, 'beach': 1290, 'beaches': 1291, 'beachside': 1292, 'beakers': 1293, 'beam': 1294, 'bean': 1295, 'bear': 1296, 'bearer': 1297, 'bearing': 1298, 'beats': 1299, 'beautiful': 1300, 'beauty': 1301, 'became': 1302, 'because': 1303, 'become': 1304, 'becomes': 1305, 'becoming': 1306, 'bed': 1307, 'bedroom': 1308, 'bedrooms': 1309, 'beds': 1310, 'beef': 1311, 'been': 1312, 'beeps': 1313, 'beer': 1314, 'before': 1315, 'beforehand': 1316, 'beg': 1317, 'began': 1318, 'begging': 1319, 'begin': 1320, 'beginning': 1321, 'behalf': 1322, 'behavior': 1323, 'behind': 1324, 'being': 1325, 'believe': 1326, 'believes': 1327, 'belly': 1328, 'belongs': 1329, 'below': 1330, 'belts': 1331, 'benchtop': 1332, 'bending': 1333, 'beneficial': 1334, 'beneficiaries': 1335, 'benefit': 1336, 'benefits': 1337, 'bento': 1338, 'berthing': 1339, 'beside': 1340, 'besides': 1341, 'best': 1342, 'bet': 1343, 'beta': 1344, 'better': 1345, 'between': 1346, 'bevel': 1347, 'beverage': 1348, 'beverages': 1349, 'beyond': 1350, 'biannual': 1351, 'bibimbap': 1352, 'bibimnaengmyun': 1353, 'bid': 1354, 'bidding': 1355, 'big': 1356, 'bigger': 1357, 'biggest': 1358, 'bikes': 1359, 'bill': 1360, 'billboards': 1361, 'billed': 1362, 'billing': 1363, 'billion': 1364, 'bills': 1365, 'bins': 1366, 'biodata': 1367, 'biodegradable': 1368, 'biometrics': 1369, 'bird': 1370, 'birds': 1371, 'birthday': 1372, 'biryani': 1373, 'biscuits': 1374, 'bistro': 1375, 'bit': 1376, 'bitcoin': 1377, 'bite': 1378, 'black': 1379, 'blackout': 1380, 'blades': 1381, 'blanks': 1382, 'blending': 1383, 'blends': 1384, 'blessed': 1385, 'blind': 1386, 'blinking': 1387, 'bliss': 1388, 'block': 1389, 'blockchain': 1390, 'blog': 1391, 'blood': 1392, 'blow': 1393, 'blown': 1394, 'blue': 1395, 'blueprint': 1396, 'blurry': 1397, 'board': 1398, 'boarding': 1399, 'boards': 1400, 'boats': 1401, 'bodies': 1402, 'body': 1403, 'bodysuit': 1404, 'bohemian': 1405, 'boiled': 1406, 'boiling': 1407, 'bokkeum': 1408, 'bold': 1409, 'bolder': 1410, 'bond': 1411, 'bonding': 1412, 'bonds': 1413, 'book': 1414, 'booked': 1415, 'booking': 1416, 'bookings': 1417, 'bookrunners': 1418, 'books': 1419, 'bookstores': 1420, 'boom': 1421, 'boost': 1422, 'booting': 1423, 'boots': 1424, 'border': 1425, 'bore': 1426, 'bored': 1427, 'boring': 1428, 'born': 1429, 'borrow': 1430, 'borrower': 1431, 'borrowing': 1432, 'boss': 1433, 'bot': 1434, 'both': 1435, 'bothering': 1436, 'bottle': 1437, 'bottles': 1438, 'bottom': 1439, 'bought': 1440, 'bow': 1441, 'bowl': 1442, 'bowls': 1443, 'box': 1444, 'boxes': 1445, 'boy': 1446, 'bragging': 1447, 'braille': 1448, 'brainstorm': 1449, 'brake': 1450, 'branch': 1451, 'branches': 1452, 'brand': 1453, 'branded': 1454, 'branding': 1455, 'brands': 1456, 'brave': 1457, 'breach': 1458, 'breached': 1459, 'breaches': 1460, 'bread': 1461, 'break': 1462, 'breakdown': 1463, 'breakdowns': 1464, 'breakeven': 1465, 'breakfast': 1466, 'breast': 1467, 'breathing': 1468, 'breathtaking': 1469, 'breeding': 1470, 'breeze': 1471, 'brewed': 1472, 'bride': 1473, 'bridge': 1474, 'brief': 1475, 'briefing': 1476, 'brilliant': 1477, 'bring': 1478, 'bringer': 1479, 'bringing': 1480, 'brings': 1481, 'broadband': 1482, 'broadcast': 1483, 'broadcasted': 1484, 'broadcasting': 1485, 'brochure': 1486, 'brochures': 1487, 'broken': 1488, 'broker': 1489, 'brokerage': 1490, 'brokerages': 1491, 'brokers': 1492, 'bronze': 1493, 'broth': 1494, 'brother': 1495, 'brought': 1496, 'browse': 1497, 'browser': 1498, 'browsers': 1499, 'browsing': 1500, 'bubble': 1501, 'bucks': 1502, 'budget': 1503, 'buffet': 1504, 'bug': 1505, 'bugs': 1506, 'build': 1507, 'building': 1508, 'builds': 1509, 'built': 1510, 'bulgogi': 1511, 'bulk': 1512, 'bull': 1513, 'bulldozer': 1514, 'bunch': 1515, 'bundle': 1516, 'burners': 1517, 'bus': 1518, 'buses': 1519, 'business': 1520, 'businesses': 1521, 'businessman': 1522, 'businesswoman': 1523, 'busy': 1524, 'but': 1525, 'butterfly': 1526, 'button': 1527, 'buttons': 1528, 'buy': 1529, 'buyer': 1530, 'buyers': 1531, 'buying': 1532, 'by': 1533, 'bye': 1534, 'bytes': 1535, 'cabin': 1536, 'cabinets': 1537, 'cable': 1538, 'caching': 1539, 'caf': 1540, 'cafe': 1541, 'cafeteria': 1542, 'cake': 1543, 'calculate': 1544, 'calculated': 1545, 'calculations': 1546, 'calendar': 1547, 'call': 1548, 'called': 1549, 'calligraphy': 1550, 'calling': 1551, 'calls': 1552, 'calm': 1553, 'calming': 1554, 'cam': 1555, 'came': 1556, 'camera': 1557, 'cameras': 1558, 'camp': 1559, 'campaign': 1560, 'campaigns': 1561, 'camper': 1562, 'campfire': 1563, 'campground': 1564, 'camping': 1565, 'campsite': 1566, 'campsites': 1567, 'campus': 1568, 'can': 1569, 'cancel': 1570, 'cancelation': 1571, 'cancelations': 1572, 'canceled': 1573, 'canceling': 1574, 'cancellation': 1575, 'cancellations': 1576, 'cancelled': 1577, 'candies': 1578, 'candles': 1579, 'cannot': 1580, 'canteen': 1581, 'cap': 1582, 'capable': 1583, 'capacity': 1584, 'capital': 1585, 'capitalists': 1586, 'capture': 1587, 'capturing': 1588, 'car': 1589, 'carbon': 1590, 'carburetor': 1591, 'carburetors': 1592, 'card': 1593, 'cardiac': 1594, 'cards': 1595, 'care': 1596, 'career': 1597, 'careers': 1598, 'careful': 1599, 'carefully': 1600, 'cargo': 1601, 'carpeted': 1602, 'carried': 1603, 'carrier': 1604, 'carrot': 1605, 'carry': 1606, 'carrying': 1607, 'cars': 1608, 'cart': 1609, 'carton': 1610, 'cartoon': 1611, 'carts': 1612, 'case': 1613, 'cases': 1614, 'cash': 1615, 'cashier': 1616, 'cashless': 1617, 'casino': 1618, 'cast': 1619, 'casual': 1620, 'casualties': 1621, 'cat': 1622, 'catalog': 1623, 'catalogue': 1624, 'catastrophe': 1625, 'catch': 1626, 'categories': 1627, 'category': 1628, 'cater': 1629, 'caterers': 1630, 'catering': 1631, 'caterpillar': 1632, 'caught': 1633, 'cause': 1634, 'caused': 1635, 'causes': 1636, 'causing': 1637, 'cautious': 1638, 'cautiously': 1639, 'ceiling': 1640, 'ceilings': 1641, 'celebrate': 1642, 'celebration': 1643, 'celebrities': 1644, 'celebrity': 1645, 'celeriac': 1646, 'cell': 1647, 'center': 1648, 'centers': 1649, 'centimeter': 1650, 'centrifugal': 1651, 'centrifuge': 1652, 'centrifuges': 1653, 'cents': 1654, 'century': 1655, 'ceremonies': 1656, 'ceremony': 1657, 'certain': 1658, 'certainly': 1659, 'certificate': 1660, 'certificates': 1661, 'certification': 1662, 'certified': 1663, 'chain': 1664, 'chair': 1665, 'chairman': 1666, 'chairs': 1667, 'challenge': 1668, 'challenged': 1669, 'challenges': 1670, 'challenging': 1671, 'chamber': 1672, 'champagne': 1673, 'chance': 1674, 'chances': 1675, 'change': 1676, 'changed': 1677, 'changes': 1678, 'changing': 1679, 'channel': 1680, 'channels': 1681, 'chapbooks': 1682, 'characteristics': 1683, 'characters': 1684, 'charcoal': 1685, 'charge': 1686, 'charged': 1687, 'charger': 1688, 'charges': 1689, 'charging': 1690, 'charitable': 1691, 'charity': 1692, 'charm': 1693, 'chart': 1694, 'chasing': 1695, 'chat': 1696, 'chatroom': 1697, 'cheap': 1698, 'cheaper': 1699, 'cheapest': 1700, 'check': 1701, 'checked': 1702, 'checking': 1703, 'checklist': 1704, 'checkout': 1705, 'checks': 1706, 'checkup': 1707, 'cheerful': 1708, 'cheers': 1709, 'cheesecakes': 1710, 'chef': 1711, 'chefs': 1712, 'chemistry': 1713, 'cheque': 1714, 'chew': 1715, 'chicken': 1716, 'child': 1717, 'childhood': 1718, 'children': 1719, 'chili': 1720, 'chill': 1721, 'chilled': 1722, 'chimaek': 1723, 'chip': 1724, 'chips': 1725, 'chipsets': 1726, 'chitchat': 1727, 'chocolate': 1728, 'choice': 1729, 'choices': 1730, 'choose': 1731, 'choosing': 1732, 'chopstick': 1733, 'chopsticks': 1734, 'chores': 1735, 'chose': 1736, 'chosen': 1737, 'ciphertext': 1738, 'circuits': 1739, 'circulation': 1740, 'circumstance': 1741, 'circumstances': 1742, 'cities': 1743, 'citizen': 1744, 'citizens': 1745, 'citizenship': 1746, 'city': 1747, 'civil': 1748, 'claim': 1749, 'claiming': 1750, 'claims': 1751, 'clarify': 1752, 'clarifying': 1753, 'clarity': 1754, 'class': 1755, 'classes': 1756, 'classification': 1757, 'classmates': 1758, 'classroom': 1759, 'classrooms': 1760, 'clauses': 1761, 'clean': 1762, 'cleaner': 1763, 'cleaners': 1764, 'cleaning': 1765, 'cleansing': 1766, 'clear': 1767, 'clearance': 1768, 'cleared': 1769, 'clearer': 1770, 'clearly': 1771, 'clerk': 1772, 'clever': 1773, 'click': 1774, 'client': 1775, 'clientele': 1776, 'clients': 1777, 'climate': 1778, 'clinic': 1779, 'clinical': 1780, 'clip': 1781, 'clips': 1782, 'clock': 1783, 'clogged': 1784, 'close': 1785, 'closed': 1786, 'closely': 1787, 'closer': 1788, 'closes': 1789, 'closest': 1790, 'closet': 1791, 'closing': 1792, 'clothes': 1793, 'clothing': 1794, 'cloud': 1795, 'clouds': 1796, 'clubhouse': 1797, 'cluster': 1798, 'co': 1799, 'coach': 1800, 'coaches': 1801, 'coaching': 1802, 'coarrangers': 1803, 'coastal': 1804, 'cocks': 1805, 'cocktails': 1806, 'coconut': 1807, 'code': 1808, 'codebreaker': 1809, 'codes': 1810, 'coding': 1811, 'coffee': 1812, 'cogent': 1813, 'coins': 1814, 'cold': 1815, 'coliving': 1816, 'collaborate': 1817, 'collaborating': 1818, 'collaboration': 1819, 'collar': 1820, 'collateral': 1821, 'colleague': 1822, 'colleagues': 1823, 'collect': 1824, 'collectibles': 1825, 'collecting': 1826, 'collection': 1827, 'collective': 1828, 'collects': 1829, 'college': 1830, 'colleges': 1831, 'color': 1832, 'colored': 1833, 'colors': 1834, 'column': 1835, 'combination': 1836, 'combinations': 1837, 'combine': 1838, 'combustion': 1839, 'come': 1840, 'comes': 1841, 'comfort': 1842, 'comfortable': 1843, 'comfortably': 1844, 'coming': 1845, 'comm': 1846, 'commemorative': 1847, 'comment': 1848, 'comments': 1849, 'commerce': 1850, 'commercial': 1851, 'commission': 1852, 'commissioned': 1853, 'commissions': 1854, 'commit': 1855, 'commitment': 1856, 'commitments': 1857, 'committed': 1858, 'commodity': 1859, 'common': 1860, 'commonly': 1861, 'communal': 1862, 'communicate': 1863, 'communicated': 1864, 'communicating': 1865, 'communication': 1866, 'communications': 1867, 'communicative': 1868, 'communicator': 1869, 'communities': 1870, 'community': 1871, 'commuting': 1872, 'companies': 1873, 'company': 1874, 'compare': 1875, 'compared': 1876, 'comparison': 1877, 'compartments': 1878, 'compassionate': 1879, 'compatible': 1880, 'compelling': 1881, 'compensate': 1882, 'compensated': 1883, 'compensation': 1884, 'compete': 1885, 'competition': 1886, 'competitive': 1887, 'competitiveness': 1888, 'competitors': 1889, 'compiling': 1890, 'complain': 1891, 'complained': 1892, 'complaining': 1893, 'complaint': 1894, 'complaints': 1895, 'complete': 1896, 'completed': 1897, 'completely': 1898, 'completion': 1899, 'complex': 1900, 'compliance': 1901, 'complicated': 1902, 'complied': 1903, 'compliment': 1904, 'complimentary': 1905, 'compliments': 1906, 'comply': 1907, 'component': 1908, 'components': 1909, 'composed': 1910, 'composer': 1911, 'compound': 1912, 'comprehension': 1913, 'comprehensive': 1914, 'compressed': 1915, 'compression': 1916, 'compressor': 1917, 'compressors': 1918, 'compromise': 1919, 'compromising': 1920, 'computer': 1921, 'computers': 1922, 'computing': 1923, 'concentrate': 1924, 'concept': 1925, 'concepts': 1926, 'conceptual': 1927, 'concern': 1928, 'concerned': 1929, 'concerning': 1930, 'concerns': 1931, 'concert': 1932, 'concerts': 1933, 'concessions': 1934, 'conclusion': 1935, 'concrete': 1936, 'concretely': 1937, 'condenser': 1938, 'condiments': 1939, 'condition': 1940, 'conditioned': 1941, 'conditioner': 1942, 'conditioning': 1943, 'conditions': 1944, 'condo': 1945, 'conduct': 1946, 'conducted': 1947, 'conducting': 1948, 'conductors': 1949, 'conference': 1950, 'conferences': 1951, 'conferencing': 1952, 'confidence': 1953, 'confident': 1954, 'confidential': 1955, 'confidentiality': 1956, 'configurations': 1957, 'configure': 1958, 'confirm': 1959, 'confirmation': 1960, 'confirmed': 1961, 'confirming': 1962, 'confused': 1963, 'congested': 1964, 'congestion': 1965, 'congrats': 1966, 'congratulate': 1967, 'congratulations': 1968, 'connect': 1969, 'connected': 1970, 'connecting': 1971, 'connection': 1972, 'connections': 1973, 'connectivity': 1974, 'connects': 1975, 'cons': 1976, 'conscientious': 1977, 'conscious': 1978, 'consciousness': 1979, 'consequences': 1980, 'consider': 1981, 'considerable': 1982, 'consideration': 1983, 'considered': 1984, 'considering': 1985, 'consignment': 1986, 'consist': 1987, 'consistent': 1988, 'consists': 1989, 'consoles': 1990, 'consolidate': 1991, 'constant': 1992, 'constantly': 1993, 'construct': 1994, 'constructed': 1995, 'construction': 1996, 'constructive': 1997, 'consult': 1998, 'consultancy': 1999, 'consultant': 2000, 'consultants': 2001, 'consultation': 2002, 'consulted': 2003, 'consulting': 2004, 'consume': 2005, 'consumers': 2006, 'consuming': 2007, 'consumption': 2008, 'contact': 2009, 'contacted': 2010, 'contacting': 2011, 'contacts': 2012, 'contain': 2013, 'container': 2014, 'containers': 2015, 'containing': 2016, 'contains': 2017, 'contemplate': 2018, 'contemporary': 2019, 'contenders': 2020, 'content': 2021, 'contents': 2022, 'context': 2023, 'continent': 2024, 'continental': 2025, 'continue': 2026, 'continuous': 2027, 'continuously': 2028, 'contract': 2029, 'contracted': 2030, 'contracts': 2031, 'contrary': 2032, 'contribute': 2033, 'contributed': 2034, 'contributes': 2035, 'contribution': 2036, 'contributors': 2037, 'control': 2038, 'controlled': 2039, 'controversial': 2040, 'convenience': 2041, 'convenient': 2042, 'conventional': 2043, 'conversation': 2044, 'conversational': 2045, 'conversations': 2046, 'conversion': 2047, 'conversions': 2048, 'converted': 2049, 'converting': 2050, 'convey': 2051, 'conveyor': 2052, 'conveyors': 2053, 'convince': 2054, 'convincing': 2055, 'cook': 2056, 'cooked': 2057, 'cookies': 2058, 'cooking': 2059, 'cooks': 2060, 'cool': 2061, 'cooldown': 2062, 'coolers': 2063, 'cooling': 2064, 'cooperation': 2065, 'cooperative': 2066, 'cooperatives': 2067, 'coordinate': 2068, 'coordinates': 2069, 'copay': 2070, 'copiers': 2071, 'copies': 2072, 'copy': 2073, 'copyediting': 2074, 'copyright': 2075, 'copyrighted': 2076, 'copyrights': 2077, 'cords': 2078, 'core': 2079, 'corkage': 2080, 'corn': 2081, 'corner': 2082, 'coronavirus': 2083, 'corporate': 2084, 'corporation': 2085, 'corporations': 2086, 'correct': 2087, 'correctly': 2088, 'cosigner': 2089, 'cosmetic': 2090, 'cosmetics': 2091, 'cosmic': 2092, 'cost': 2093, 'costs': 2094, 'cotton': 2095, 'could': 2096, 'couldn': 2097, 'council': 2098, 'counseling': 2099, 'count': 2100, 'countdown': 2101, 'counterpart': 2102, 'counting': 2103, 'countries': 2104, 'country': 2105, 'countryside': 2106, 'couple': 2107, 'coupled': 2108, 'coupon': 2109, 'courier': 2110, 'course': 2111, 'coursed': 2112, 'courses': 2113, 'court': 2114, 'cousin': 2115, 'cover': 2116, 'coverage': 2117, 'covered': 2118, 'covers': 2119, 'cozy': 2120, 'crab': 2121, 'cracks': 2122, 'crane': 2123, 'cranes': 2124, 'crash': 2125, 'crashed': 2126, 'crashing': 2127, 'cream': 2128, 'create': 2129, 'created': 2130, 'creates': 2131, 'creating': 2132, 'creation': 2133, 'creative': 2134, 'creatives': 2135, 'creator': 2136, 'creators': 2137, 'credentials': 2138, 'credit': 2139, 'credited': 2140, 'creditor': 2141, 'creditors': 2142, 'credits': 2143, 'creditworthy': 2144, 'crib': 2145, 'crime': 2146, 'crimes': 2147, 'criminals': 2148, 'criteria': 2149, 'critical': 2150, 'critics': 2151, 'croissants': 2152, 'crooks': 2153, 'crop': 2154, 'crops': 2155, 'cross': 2156, 'crossed': 2157, 'crowd': 2158, 'crowdfunding': 2159, 'crucial': 2160, 'crude': 2161, 'crux': 2162, 'crypto': 2163, 'cryptocurrencies': 2164, 'cryptocurrency': 2165, 'cryptography': 2166, 'cues': 2167, 'cuisine': 2168, 'culinary': 2169, 'culprits': 2170, 'cultivating': 2171, 'cultural': 2172, 'culture': 2173, 'cumbersome': 2174, 'cup': 2175, 'curious': 2176, 'currencies': 2177, 'currency': 2178, 'current': 2179, 'currently': 2180, 'cursive': 2181, 'curtains': 2182, 'curve': 2183, 'cushion': 2184, 'custom': 2185, 'customer': 2186, 'customers': 2187, 'customizable': 2188, 'customization': 2189, 'customize': 2190, 'customized': 2191, 'customs': 2192, 'cut': 2193, 'cutlery': 2194, 'cuts': 2195, 'cutter': 2196, 'cutters': 2197, 'cutting': 2198, 'cyber': 2199, 'cybercrime': 2200, 'cybersecurity': 2201, 'cycle': 2202, 'cylinder': 2203, 'cylinders': 2204, 'd': 2205, 'daily': 2206, 'dairy': 2207, 'damage': 2208, 'damaged': 2209, 'damages': 2210, 'dancing': 2211, 'dangerous': 2212, 'dangers': 2213, 'dark': 2214, 'data': 2215, 'database': 2216, 'date': 2217, 'dated': 2218, 'dates': 2219, 'dating': 2220, 'daunting': 2221, 'day': 2222, 'days': 2223, 'deadline': 2224, 'deadlines': 2225, 'deaf': 2226, 'deal': 2227, 'dealer': 2228, 'dealers': 2229, 'dealership': 2230, 'dealing': 2231, 'deals': 2232, 'debit': 2233, 'debt': 2234, 'debtee': 2235, 'debtor': 2236, 'debtors': 2237, 'debts': 2238, 'debut': 2239, 'decade': 2240, 'decades': 2241, 'decent': 2242, 'decide': 2243, 'decided': 2244, 'decides': 2245, 'deciding': 2246, 'decision': 2247, 'decisions': 2248, 'deck': 2249, 'decks': 2250, 'declare': 2251, 'decline': 2252, 'declined': 2253, 'declining': 2254, 'decode': 2255, 'decorate': 2256, 'decorations': 2257, 'decrease': 2258, 'decryption': 2259, 'dedicate': 2260, 'dedicated': 2261, 'deduct': 2262, 'deducted': 2263, 'deducting': 2264, 'deeds': 2265, 'deep': 2266, 'deeply': 2267, 'default': 2268, 'defaulter': 2269, 'defect': 2270, 'defective': 2271, 'defects': 2272, 'defense': 2273, 'deficit': 2274, 'deficits': 2275, 'defined': 2276, 'definite': 2277, 'definitely': 2278, 'definition': 2279, 'degree': 2280, 'dehydration': 2281, 'delay': 2282, 'delayed': 2283, 'delays': 2284, 'delegates': 2285, 'delete': 2286, 'deleted': 2287, 'delicious': 2288, 'delight': 2289, 'delighted': 2290, 'delightful': 2291, 'delineates': 2292, 'deliver': 2293, 'delivered': 2294, 'deliveries': 2295, 'delivering': 2296, 'delivers': 2297, 'delivery': 2298, 'deluxe': 2299, 'demand': 2300, 'demanded': 2301, 'demanding': 2302, 'demands': 2303, 'demat': 2304, 'demerits': 2305, 'demographics': 2306, 'demonstration': 2307, 'demos': 2308, 'dental': 2309, 'deny': 2310, 'department': 2311, 'departments': 2312, 'depend': 2313, 'dependable': 2314, 'dependents': 2315, 'depending': 2316, 'depends': 2317, 'deploy': 2318, 'deployment': 2319, 'deposit': 2320, 'deposited': 2321, 'depositing': 2322, 'deposits': 2323, 'derrick': 2324, 'describe': 2325, 'description': 2326, 'descriptions': 2327, 'deserve': 2328, 'design': 2329, 'designation': 2330, 'designed': 2331, 'designer': 2332, 'designers': 2333, 'designs': 2334, 'desire': 2335, 'desired': 2336, 'desk': 2337, 'desktop': 2338, 'desperately': 2339, 'despite': 2340, 'dessert': 2341, 'desserts': 2342, 'destination': 2343, 'destinations': 2344, 'destroys': 2345, 'detail': 2346, 'detailed': 2347, 'detailing': 2348, 'details': 2349, 'detected': 2350, 'detects': 2351, 'determine': 2352, 'determined': 2353, 'determines': 2354, 'determining': 2355, 'develop': 2356, 'developed': 2357, 'developer': 2358, 'developers': 2359, 'developing': 2360, 'development': 2361, 'developments': 2362, 'develops': 2363, 'deviate': 2364, 'device': 2365, 'devices': 2366, 'devoted': 2367, 'devoting': 2368, 'diagnosis': 2369, 'diagnostics': 2370, 'dial': 2371, 'dialed': 2372, 'diameter': 2373, 'did': 2374, 'didn': 2375, 'diesel': 2376, 'diet': 2377, 'dietary': 2378, 'differ': 2379, 'difference': 2380, 'differences': 2381, 'different': 2382, 'differentiates': 2383, 'differently': 2384, 'difficult': 2385, 'difficulties': 2386, 'difficulty': 2387, 'digital': 2388, 'digitalize': 2389, 'digits': 2390, 'diligence': 2391, 'diligently': 2392, 'dimension': 2393, 'dimensions': 2394, 'dine': 2395, 'dining': 2396, 'dinner': 2397, 'dinning': 2398, 'dip': 2399, 'diplomas': 2400, 'dipped': 2401, 'direct': 2402, 'directed': 2403, 'direction': 2404, 'directly': 2405, 'director': 2406, 'directors': 2407, 'disabilities': 2408, 'disabled': 2409, 'disagree': 2410, 'disappointed': 2411, 'disappointment': 2412, 'disaster': 2413, 'disasters': 2414, 'disc': 2415, 'discount': 2416, 'discounted': 2417, 'discounts': 2418, 'discover': 2419, 'discovered': 2420, 'discovery': 2421, 'discrepancies': 2422, 'discuss': 2423, 'discussed': 2424, 'discussing': 2425, 'discussion': 2426, 'discussions': 2427, 'disease': 2428, 'diseases': 2429, 'dish': 2430, 'dishe': 2431, 'dishes': 2432, 'dismantle': 2433, 'dispatch': 2434, 'dispatched': 2435, 'dispatching': 2436, 'dispersing': 2437, 'display': 2438, 'displayed': 2439, 'displaying': 2440, 'disposal': 2441, 'disputes': 2442, 'disruption': 2443, 'distance': 2444, 'distinct': 2445, 'distinction': 2446, 'distinguish': 2447, 'distract': 2448, 'distress': 2449, 'distribute': 2450, 'distributed': 2451, 'distributing': 2452, 'distribution': 2453, 'distributor': 2454, 'distributorship': 2455, 'district': 2456, 'disturb': 2457, 'disturbed': 2458, 'disturbing': 2459, 'diverse': 2460, 'diversify': 2461, 'diversity': 2462, 'diverting': 2463, 'divide': 2464, 'divided': 2465, 'dividend': 2466, 'division': 2467, 'do': 2468, 'doable': 2469, 'doctor': 2470, 'doctors': 2471, 'document': 2472, 'documentaries': 2473, 'documentary': 2474, 'documentation': 2475, 'documenting': 2476, 'documents': 2477, 'does': 2478, 'doesn': 2479, 'dog': 2480, 'dogs': 2481, 'doing': 2482, 'doings': 2483, 'doljanchi': 2484, 'dollar': 2485, 'dollars': 2486, 'domain': 2487, 'dome': 2488, 'domestic': 2489, 'don': 2490, 'donate': 2491, 'donation': 2492, 'donations': 2493, 'done': 2494, 'donut': 2495, 'door': 2496, 'doors': 2497, 'dorm': 2498, 'dormitory': 2499, 'dosirak': 2500, 'double': 2501, 'doubled': 2502, 'doubt': 2503, 'doubts': 2504, 'down': 2505, 'downhill': 2506, 'download': 2507, 'downloaded': 2508, 'downpayment': 2509, 'downs': 2510, 'downside': 2511, 'downtown': 2512, 'downturn': 2513, 'dozers': 2514, 'draft': 2515, 'drafted': 2516, 'drafting': 2517, 'drafts': 2518, 'drain': 2519, 'dramas': 2520, 'dramatically': 2521, 'draw': 2522, 'drawer': 2523, 'drawing': 2524, 'drawings': 2525, 'draws': 2526, 'dress': 2527, 'dressers': 2528, 'dressing': 2529, 'drilling': 2530, 'drink': 2531, 'drinking': 2532, 'drinks': 2533, 'drive': 2534, 'driven': 2535, 'driver': 2536, 'drivers': 2537, 'driving': 2538, 'drop': 2539, 'dropped': 2540, 'dropping': 2541, 'drops': 2542, 'drug': 2543, 'drum': 2544, 'dry': 2545, 'dryer': 2546, 'dual': 2547, 'dude': 2548, 'due': 2549, 'duly': 2550, 'dump': 2551, 'dumpling': 2552, 'duplicate': 2553, 'durable': 2554, 'duration': 2555, 'during': 2556, 'dust': 2557, 'duties': 2558, 'duty': 2559, 'dyeing': 2560, 'dying': 2561, 'e': 2562, 'each': 2563, 'eager': 2564, 'eagerly': 2565, 'earlier': 2566, 'earliest': 2567, 'early': 2568, 'earn': 2569, 'earnings': 2570, 'ears': 2571, 'earth': 2572, 'ease': 2573, 'eased': 2574, 'easier': 2575, 'easiest': 2576, 'easily': 2577, 'easing': 2578, 'easy': 2579, 'eat': 2580, 'eaten': 2581, 'eating': 2582, 'echo': 2583, 'eclectic': 2584, 'eco': 2585, 'economy': 2586, 'ecstatic': 2587, 'edge': 2588, 'edit': 2589, 'edited': 2590, 'editing': 2591, 'edition': 2592, 'editorial': 2593, 'editors': 2594, 'educate': 2595, 'educated': 2596, 'educating': 2597, 'education': 2598, 'educational': 2599, 'edutainment': 2600, 'effect': 2601, 'effective': 2602, 'effectively': 2603, 'effectiveness': 2604, 'effects': 2605, 'efficiency': 2606, 'efficient': 2607, 'efficiently': 2608, 'effort': 2609, 'efforts': 2610, 'egg': 2611, 'eggs': 2612, 'eight': 2613, 'either': 2614, 'ejection': 2615, 'elaborate': 2616, 'elder': 2617, 'elders': 2618, 'eldest': 2619, 'electric': 2620, 'electrical': 2621, 'electricity': 2622, 'electro': 2623, 'electroencephalography': 2624, 'electromagnetic': 2625, 'electronic': 2626, 'electronically': 2627, 'electronics': 2628, 'elegant': 2629, 'element': 2630, 'elements': 2631, 'elevated': 2632, 'eligibility': 2633, 'eligible': 2634, 'eliminate': 2635, 'elliptical': 2636, 'else': 2637, 'elsewhere': 2638, 'email': 2639, 'emailed': 2640, 'emailing': 2641, 'emails': 2642, 'embarrassed': 2643, 'embody': 2644, 'embossing': 2645, 'embroidery': 2646, 'emergencies': 2647, 'emergency': 2648, 'emerging': 2649, 'emotions': 2650, 'emphasis': 2651, 'employ': 2652, 'employed': 2653, 'employee': 2654, 'employees': 2655, 'employers': 2656, 'employing': 2657, 'empty': 2658, 'emulsion': 2659, 'enable': 2660, 'enabled': 2661, 'enables': 2662, 'encapsulation': 2663, 'encoded': 2664, 'encounter': 2665, 'encountered': 2666, 'encourage': 2667, 'encourages': 2668, 'encrypt': 2669, 'encrypted': 2670, 'encryption': 2671, 'end': 2672, 'endangering': 2673, 'ended': 2674, 'ending': 2675, 'ends': 2676, 'energy': 2677, 'enforce': 2678, 'enforced': 2679, 'enforcements': 2680, 'engage': 2681, 'engaged': 2682, 'engagements': 2683, 'engaging': 2684, 'engine': 2685, 'engineer': 2686, 'engineering': 2687, 'engineers': 2688, 'engines': 2689, 'enhance': 2690, 'enhanced': 2691, 'enhancement': 2692, 'enhances': 2693, 'enjoy': 2694, 'enjoyed': 2695, 'enjoying': 2696, 'enlighten': 2697, 'enlist': 2698, 'enormously': 2699, 'enough': 2700, 'enquire': 2701, 'enroll': 2702, 'enrolled': 2703, 'ensure': 2704, 'ensured': 2705, 'ensures': 2706, 'entail': 2707, 'enter': 2708, 'entered': 2709, 'entering': 2710, 'enterprise': 2711, 'enterprises': 2712, 'enters': 2713, 'entertain': 2714, 'entertained': 2715, 'entertaining': 2716, 'entertainment': 2717, 'entire': 2718, 'entirely': 2719, 'entitled': 2720, 'entity': 2721, 'entrance': 2722, 'entree': 2723, 'entrees': 2724, 'entrepreneur': 2725, 'entrepreneurship': 2726, 'entries': 2727, 'environment': 2728, 'environmental': 2729, 'environments': 2730, 'episode': 2731, 'episodes': 2732, 'equal': 2733, 'equals': 2734, 'equipment': 2735, 'equipments': 2736, 'equipped': 2737, 'equity': 2738, 'equivalent': 2739, 'erased': 2740, 'erecting': 2741, 'error': 2742, 'errors': 2743, 'escalated': 2744, 'escaping': 2745, 'especially': 2746, 'essential': 2747, 'essentially': 2748, 'establish': 2749, 'established': 2750, 'establishing': 2751, 'establishment': 2752, 'establishments': 2753, 'estate': 2754, 'estimate': 2755, 'estimated': 2756, 'estimates': 2757, 'etc': 2758, 'ethical': 2759, 'etiquette': 2760, 'evacuation': 2761, 'evading': 2762, 'evaluate': 2763, 'evaluated': 2764, 'evaluating': 2765, 'evaluation': 2766, 'evaporator': 2767, 'evasion': 2768, 'even': 2769, 'evening': 2770, 'event': 2771, 'events': 2772, 'eventuality': 2773, 'eventually': 2774, 'ever': 2775, 'every': 2776, 'everyday': 2777, 'everyone': 2778, 'everything': 2779, 'evidence': 2780, 'evidentiary': 2781, 'evil': 2782, 'evolution': 2783, 'evolved': 2784, 'evolving': 2785, 'exact': 2786, 'exactly': 2787, 'exam': 2788, 'examined': 2789, 'example': 2790, 'examples': 2791, 'exams': 2792, 'excavator': 2793, 'excavators': 2794, 'exceeded': 2795, 'exceeds': 2796, 'excellent': 2797, 'except': 2798, 'exceptional': 2799, 'excess': 2800, 'exchange': 2801, 'exchanges': 2802, 'exchanging': 2803, 'excited': 2804, 'exciting': 2805, 'exclude': 2806, 'excluding': 2807, 'exclusive': 2808, 'exclusively': 2809, 'excuse': 2810, 'excused': 2811, 'excuses': 2812, 'execute': 2813, 'executes': 2814, 'execution': 2815, 'executive': 2816, 'executives': 2817, 'executor': 2818, 'exerting': 2819, 'exhausted': 2820, 'exhibit': 2821, 'exhibition': 2822, 'exihibit': 2823, 'exist': 2824, 'existing': 2825, 'exit': 2826, 'exotic': 2827, 'expand': 2828, 'expandable': 2829, 'expanded': 2830, 'expanding': 2831, 'expansion': 2832, 'expat': 2833, 'expect': 2834, 'expectations': 2835, 'expected': 2836, 'expecting': 2837, 'expedition': 2838, 'expenditure': 2839, 'expenditures': 2840, 'expense': 2841, 'expenses': 2842, 'expensive': 2843, 'experience': 2844, 'experienced': 2845, 'experiences': 2846, 'experiencing': 2847, 'experimental': 2848, 'expert': 2849, 'expertise': 2850, 'experts': 2851, 'expire': 2852, 'expires': 2853, 'explain': 2854, 'explained': 2855, 'explaining': 2856, 'explains': 2857, 'explanation': 2858, 'explanations': 2859, 'exploration': 2860, 'explore': 2861, 'expo': 2862, 'export': 2863, 'exported': 2864, 'exporter': 2865, 'exporting': 2866, 'exports': 2867, 'exposes': 2868, 'exposure': 2869, 'express': 2870, 'expressions': 2871, 'exquisite': 2872, 'extend': 2873, 'extended': 2874, 'extender': 2875, 'extenders': 2876, 'extending': 2877, 'extends': 2878, 'extension': 2879, 'extensive': 2880, 'exterior': 2881, 'external': 2882, 'externally': 2883, 'extra': 2884, 'extract': 2885, 'extraction': 2886, 'extracts': 2887, 'extremely': 2888, 'extruder': 2889, 'extruders': 2890, 'eye': 2891, 'eyes': 2892, 'fabric': 2893, 'fabrication': 2894, 'face': 2895, 'faced': 2896, 'faces': 2897, 'facial': 2898, 'facilitate': 2899, 'facilities': 2900, 'facility': 2901, 'facing': 2902, 'fact': 2903, 'factor': 2904, 'factors': 2905, 'factory': 2906, 'factual': 2907, 'factually': 2908, 'faculty': 2909, 'fail': 2910, 'failed': 2911, 'fails': 2912, 'failure': 2913, 'fair': 2914, 'fairly': 2915, 'fall': 2916, 'fallen': 2917, 'falling': 2918, 'fallout': 2919, 'falls': 2920, 'familiar': 2921, 'families': 2922, 'family': 2923, 'famous': 2924, 'fan': 2925, 'fanbase': 2926, 'fancy': 2927, 'fans': 2928, 'fantastic': 2929, 'far': 2930, 'fare': 2931, 'farm': 2932, 'farmers': 2933, 'farthest': 2934, 'fascinating': 2935, 'fashion': 2936, 'fast': 2937, 'fasteners': 2938, 'faster': 2939, 'fastest': 2940, 'fat': 2941, 'father': 2942, 'fault': 2943, 'faulty': 2944, 'favor': 2945, 'favorable': 2946, 'favorite': 2947, 'favorites': 2948, 'favoritism': 2949, 'fax': 2950, 'fear': 2951, 'feasibility': 2952, 'feasible': 2953, 'feature': 2954, 'featured': 2955, 'features': 2956, 'featuring': 2957, 'fee': 2958, 'feeble': 2959, 'feedback': 2960, 'feel': 2961, 'feeling': 2962, 'feelings': 2963, 'feels': 2964, 'fees': 2965, 'feet': 2966, 'fellow': 2967, 'female': 2968, 'fertilizing': 2969, 'fetch': 2970, 'few': 2971, 'fiat': 2972, 'fiber': 2973, 'fibers': 2974, 'fibrous': 2975, 'fiction': 2976, 'field': 2977, 'fields': 2978, 'figurative': 2979, 'figures': 2980, 'file': 2981, 'filed': 2982, 'files': 2983, 'filing': 2984, 'fill': 2985, 'filled': 2986, 'filling': 2987, 'fills': 2988, 'film': 2989, 'films': 2990, 'filter': 2991, 'filtered': 2992, 'filters': 2993, 'filtration': 2994, 'final': 2995, 'finalize': 2996, 'finalized': 2997, 'finalizing': 2998, 'finally': 2999, 'finance': 3000, 'financed': 3001, 'financer': 3002, 'finances': 3003, 'financial': 3004, 'financially': 3005, 'financiers': 3006, 'financing': 3007, 'find': 3008, 'finding': 3009, 'finds': 3010, 'fine': 3011, 'finer': 3012, 'finest': 3013, 'fingerprint': 3014, 'finish': 3015, 'finished': 3016, 'fire': 3017, 'fired': 3018, 'fireplace': 3019, 'firewall': 3020, 'firewalls': 3021, 'firm': 3022, 'firms': 3023, 'first': 3024, 'fish': 3025, 'fit': 3026, 'fitness': 3027, 'fits': 3028, 'five': 3029, 'fiver': 3030, 'fix': 3031, 'fixed': 3032, 'flag': 3033, 'flame': 3034, 'flanged': 3035, 'flare': 3036, 'flash': 3037, 'flat': 3038, 'flatmates': 3039, 'flatten': 3040, 'flavor': 3041, 'flavored': 3042, 'flavorful': 3043, 'flavors': 3044, 'flew': 3045, 'flexibility': 3046, 'flexible': 3047, 'flight': 3048, 'flights': 3049, 'flip': 3050, 'float': 3051, 'floating': 3052, 'floor': 3053, 'floors': 3054, 'flour': 3055, 'flowchart': 3056, 'flows': 3057, 'fluctuate': 3058, 'fluctuations': 3059, 'fly': 3060, 'flying': 3061, 'flywheel': 3062, 'fo': 3063, 'foam': 3064, 'focus': 3065, 'focused': 3066, 'focuses': 3067, 'focusing': 3068, 'fold': 3069, 'folder': 3070, 'folders': 3071, 'follow': 3072, 'followed': 3073, 'followers': 3074, 'following': 3075, 'follows': 3076, 'font': 3077, 'fonts': 3078, 'food': 3079, 'foods': 3080, 'fooled': 3081, 'foot': 3082, 'footage': 3083, 'footprint': 3084, 'footsteps': 3085, 'for': 3086, 'forbidden': 3087, 'forced': 3088, 'forecast': 3089, 'forecasted': 3090, 'foreign': 3091, 'foreigner': 3092, 'foreigners': 3093, 'forever': 3094, 'forget': 3095, 'forgot': 3096, 'forklift': 3097, 'forklifts': 3098, 'form': 3099, 'formal': 3100, 'formalities': 3101, 'format': 3102, 'former': 3103, 'forms': 3104, 'formula': 3105, 'forths': 3106, 'fortunate': 3107, 'forward': 3108, 'forwarded': 3109, 'forwarder': 3110, 'found': 3111, 'foundation': 3112, 'founders': 3113, 'four': 3114, 'frame': 3115, 'frames': 3116, 'framework': 3117, 'franchise': 3118, 'fraud': 3119, 'fraudulent': 3120, 'free': 3121, 'freebie': 3122, 'freelancer': 3123, 'freight': 3124, 'frequency': 3125, 'frequent': 3126, 'frequently': 3127, 'fresh': 3128, 'freshwater': 3129, 'fried': 3130, 'friend': 3131, 'friendly': 3132, 'friends': 3133, 'from': 3134, 'front': 3135, 'frugal': 3136, 'fruit': 3137, 'fruitful': 3138, 'fruity': 3139, 'frustrating': 3140, 'fuel': 3141, 'fulfill': 3142, 'fulfilled': 3143, 'fulfilling': 3144, 'full': 3145, 'fully': 3146, 'fun': 3147, 'function': 3148, 'functional': 3149, 'functioning': 3150, 'functions': 3151, 'fund': 3152, 'fundamental': 3153, 'fundamentals': 3154, 'funded': 3155, 'funding': 3156, 'fundraisers': 3157, 'fundraising': 3158, 'funds': 3159, 'fungible': 3160, 'funny': 3161, 'furnish': 3162, 'furnished': 3163, 'furnishings': 3164, 'furniture': 3165, 'further': 3166, 'fusion': 3167, 'fuss': 3168, 'future': 3169, 'futures': 3170, 'futuristic': 3171, 'g': 3172, 'gadgets': 3173, 'gain': 3174, 'gained': 3175, 'gaining': 3176, 'gains': 3177, 'galbi': 3178, 'game': 3179, 'games': 3180, 'gaming': 3181, 'gap': 3182, 'gaps': 3183, 'garage': 3184, 'garden': 3185, 'gardening': 3186, 'gardens': 3187, 'garlic': 3188, 'garments': 3189, 'garnering': 3190, 'gas': 3191, 'gasoline': 3192, 'gate': 3193, 'gates': 3194, 'gather': 3195, 'gathered': 3196, 'gathering': 3197, 'gathers': 3198, 'gauge': 3199, 'gave': 3200, 'gazebo': 3201, 'gear': 3202, 'geared': 3203, 'gears': 3204, 'general': 3205, 'generally': 3206, 'generate': 3207, 'generated': 3208, 'generating': 3209, 'generation': 3210, 'generations': 3211, 'generic': 3212, 'generous': 3213, 'genre': 3214, 'genres': 3215, 'gentle': 3216, 'gentlemen': 3217, 'genuinely': 3218, 'geographic': 3219, 'geography': 3220, 'gesture': 3221, 'get': 3222, 'gets': 3223, 'getting': 3224, 'gift': 3225, 'gifts': 3226, 'gigabyte': 3227, 'gigabytes': 3228, 'gimbap': 3229, 'ginger': 3230, 'ginseng': 3231, 'girl': 3232, 'girls': 3233, 'give': 3234, 'giveaways': 3235, 'given': 3236, 'gives': 3237, 'giving': 3238, 'glad': 3239, 'gladly': 3240, 'glance': 3241, 'glass': 3242, 'glasses': 3243, 'glitch': 3244, 'global': 3245, 'globally': 3246, 'globe': 3247, 'glossy': 3248, 'gloves': 3249, 'gluten': 3250, 'go': 3251, 'goal': 3252, 'goals': 3253, 'goes': 3254, 'going': 3255, 'gold': 3256, 'golf': 3257, 'gone': 3258, 'gonna': 3259, 'good': 3260, 'goodbye': 3261, 'goods': 3262, 'goodwill': 3263, 'gorgeous': 3264, 'got': 3265, 'gotten': 3266, 'governance': 3267, 'government': 3268, 'grab': 3269, 'grace': 3270, 'grade': 3271, 'gradual': 3272, 'gradually': 3273, 'graduates': 3274, 'grain': 3275, 'grains': 3276, 'grammable': 3277, 'grand': 3278, 'grandkids': 3279, 'grandmother': 3280, 'grant': 3281, 'granted': 3282, 'granting': 3283, 'graph': 3284, 'graphic': 3285, 'graphics': 3286, 'grass': 3287, 'grateful': 3288, 'gravity': 3289, 'gravlax': 3290, 'great': 3291, 'greater': 3292, 'greatly': 3293, 'green': 3294, 'greens': 3295, 'greet': 3296, 'greeting': 3297, 'greetings': 3298, 'grew': 3299, 'grid': 3300, 'grill': 3301, 'grilled': 3302, 'grills': 3303, 'grinder': 3304, 'gripping': 3305, 'groom': 3306, 'ground': 3307, 'groundbreaking': 3308, 'grounds': 3309, 'group': 3310, 'groups': 3311, 'grow': 3312, 'growing': 3313, 'growth': 3314, 'guarantee': 3315, 'guaranteed': 3316, 'guarantor': 3317, 'guess': 3318, 'guest': 3319, 'guesthouses': 3320, 'guests': 3321, 'guidance': 3322, 'guide': 3323, 'guided': 3324, 'guides': 3325, 'guilty': 3326, 'guitar': 3327, 'gun': 3328, 'gunfire': 3329, 'gut': 3330, 'guy': 3331, 'guys': 3332, 'gym': 3333, 'gyms': 3334, 'hack': 3335, 'hacked': 3336, 'hacking': 3337, 'had': 3338, 'hairdryer': 3339, 'half': 3340, 'hall': 3341, 'halls': 3342, 'halting': 3343, 'hand': 3344, 'handed': 3345, 'handheld': 3346, 'handiwork': 3347, 'handle': 3348, 'handled': 3349, 'handles': 3350, 'handling': 3351, 'handouts': 3352, 'handpicked': 3353, 'hands': 3354, 'handshake': 3355, 'hanging': 3356, 'hanji': 3357, 'hanok': 3358, 'happen': 3359, 'happened': 3360, 'happening': 3361, 'happens': 3362, 'happily': 3363, 'happy': 3364, 'hard': 3365, 'harder': 3366, 'hardware': 3367, 'hardworking': 3368, 'harmful': 3369, 'harmony': 3370, 'harshest': 3371, 'harvesting': 3372, 'has': 3373, 'hasn': 3374, 'hassle': 3375, 'hat': 3376, 'hate': 3377, 'have': 3378, 'haven': 3379, 'having': 3380, 'he': 3381, 'head': 3382, 'headhunters': 3383, 'heading': 3384, 'headquarters': 3385, 'heads': 3386, 'health': 3387, 'healthy': 3388, 'hear': 3389, 'heard': 3390, 'hearing': 3391, 'hearsay': 3392, 'heart': 3393, 'heartily': 3394, 'heat': 3395, 'heated': 3396, 'heater': 3397, 'heating': 3398, 'heavier': 3399, 'heavily': 3400, 'heavy': 3401, 'hedge': 3402, 'height': 3403, 'held': 3404, 'hello': 3405, 'help': 3406, 'helped': 3407, 'helpful': 3408, 'helping': 3409, 'helps': 3410, 'hence': 3411, 'her': 3412, 'herbal': 3413, 'here': 3414, 'hereditary': 3415, 'heritage': 3416, 'hesitate': 3417, 'hidden': 3418, 'high': 3419, 'higher': 3420, 'highest': 3421, 'highlighted': 3422, 'highlights': 3423, 'highly': 3424, 'hijacking': 3425, 'hiking': 3426, 'hill': 3427, 'him': 3428, 'hint': 3429, 'hire': 3430, 'hired': 3431, 'hiring': 3432, 'his': 3433, 'historical': 3434, 'historically': 3435, 'hit': 3436, 'hitch': 3437, 'hits': 3438, 'hoarding': 3439, 'hobby': 3440, 'hoc': 3441, 'hold': 3442, 'holder': 3443, 'holding': 3444, 'holds': 3445, 'holidays': 3446, 'home': 3447, 'homemade': 3448, 'homes': 3449, 'homestays': 3450, 'honed': 3451, 'honest': 3452, 'honestly': 3453, 'honey': 3454, 'honored': 3455, 'hope': 3456, 'hoped': 3457, 'hopefully': 3458, 'hoping': 3459, 'horizontal': 3460, 'horrible': 3461, 'horsepower': 3462, 'horsepowers': 3463, 'hospital': 3464, 'hospitalization': 3465, 'hospitals': 3466, 'host': 3467, 'hosting': 3468, 'hosts': 3469, 'hot': 3470, 'hotel': 3471, 'hotels': 3472, 'hotspot': 3473, 'hour': 3474, 'hourly': 3475, 'hours': 3476, 'house': 3477, 'household': 3478, 'households': 3479, 'houses': 3480, 'housing': 3481, 'housings': 3482, 'how': 3483, 'however': 3484, 'hub': 3485, 'huddle': 3486, 'hues': 3487, 'huge': 3488, 'hull': 3489, 'human': 3490, 'humble': 3491, 'humor': 3492, 'hundred': 3493, 'hungry': 3494, 'hunt': 3495, 'hurry': 3496, 'hurt': 3497, 'husband': 3498, 'hustle': 3499, 'hwajeon': 3500, 'hydraulic': 3501, 'hydraulics': 3502, 'hydrojet': 3503, 'hype': 3504, 'ibul': 3505, 'ice': 3506, 'icons': 3507, 'idea': 3508, 'ideal': 3509, 'ideas': 3510, 'identical': 3511, 'identification': 3512, 'identified': 3513, 'identify': 3514, 'identities': 3515, 'identity': 3516, 'idols': 3517, 'if': 3518, 'ignition': 3519, 'ignorance': 3520, 'ignore': 3521, 'ignored': 3522, 'illness': 3523, 'illnesses': 3524, 'illustration': 3525, 'illustrations': 3526, 'image': 3527, 'images': 3528, 'imaginative': 3529, 'imagine': 3530, 'imaging': 3531, 'immediate': 3532, 'immediately': 3533, 'immensely': 3534, 'immigrant': 3535, 'immunity': 3536, 'immutable': 3537, 'impact': 3538, 'impart': 3539, 'impeller': 3540, 'impending': 3541, 'implantation': 3542, 'implement': 3543, 'implementation': 3544, 'implementing': 3545, 'implements': 3546, 'implied': 3547, 'implies': 3548, 'import': 3549, 'importance': 3550, 'important': 3551, 'importantly': 3552, 'imported': 3553, 'imports': 3554, 'imposed': 3555, 'imposes': 3556, 'impossible': 3557, 'impress': 3558, 'impressed': 3559, 'impression': 3560, 'impressions': 3561, 'impressive': 3562, 'improve': 3563, 'improved': 3564, 'improvement': 3565, 'improvements': 3566, 'improving': 3567, 'in': 3568, 'inbox': 3569, 'incentives': 3570, 'inch': 3571, 'incident': 3572, 'include': 3573, 'included': 3574, 'includes': 3575, 'including': 3576, 'inclusion': 3577, 'inclusions': 3578, 'inclusive': 3579, 'income': 3580, 'incompatible': 3581, 'incomplete': 3582, 'inconvenience': 3583, 'inconvenient': 3584, 'incorporate': 3585, 'incorporating': 3586, 'incorporation': 3587, 'incorrect': 3588, 'increase': 3589, 'increased': 3590, 'increasing': 3591, 'incredible': 3592, 'incredibly': 3593, 'incubator': 3594, 'incubators': 3595, 'incur': 3596, 'incurred': 3597, 'incurring': 3598, 'indeed': 3599, 'independently': 3600, 'index': 3601, 'indexation': 3602, 'indicate': 3603, 'indicated': 3604, 'indicating': 3605, 'indicator': 3606, 'indicators': 3607, 'indices': 3608, 'individual': 3609, 'individually': 3610, 'individuals': 3611, 'indoor': 3612, 'indoors': 3613, 'indulge': 3614, 'industrial': 3615, 'industries': 3616, 'industry': 3617, 'inevitable': 3618, 'infections': 3619, 'infectious': 3620, 'inferior': 3621, 'inflation': 3622, 'influence': 3623, 'influenced': 3624, 'influencer': 3625, 'influencers': 3626, 'info': 3627, 'infographic': 3628, 'infographics': 3629, 'inform': 3630, 'informal': 3631, 'information': 3632, 'informed': 3633, 'informing': 3634, 'infrastructure': 3635, 'infringed': 3636, 'infringement': 3637, 'ingredients': 3638, 'inheritance': 3639, 'initial': 3640, 'initially': 3641, 'initiate': 3642, 'initiative': 3643, 'injection': 3644, 'injunction': 3645, 'injury': 3646, 'inner': 3647, 'innovation': 3648, 'innovations': 3649, 'innovative': 3650, 'input': 3651, 'inputs': 3652, 'inquire': 3653, 'inquired': 3654, 'inquiries': 3655, 'inquiring': 3656, 'inquiry': 3657, 'ins': 3658, 'inside': 3659, 'insight': 3660, 'insist': 3661, 'inspect': 3662, 'inspected': 3663, 'inspecting': 3664, 'inspection': 3665, 'inspections': 3666, 'inspire': 3667, 'inspired': 3668, 'install': 3669, 'installation': 3670, 'installed': 3671, 'installing': 3672, 'installment': 3673, 'installments': 3674, 'instance': 3675, 'instant': 3676, 'instead': 3677, 'institute': 3678, 'institution': 3679, 'instruction': 3680, 'instructions': 3681, 'instrument': 3682, 'instruments': 3683, 'insulation': 3684, 'insult': 3685, 'insurance': 3686, 'insurances': 3687, 'insure': 3688, 'insured': 3689, 'insuring': 3690, 'insurmountable': 3691, 'integrated': 3692, 'integration': 3693, 'integrations': 3694, 'intellectual': 3695, 'intelligence': 3696, 'intelligent': 3697, 'intend': 3698, 'intended': 3699, 'intends': 3700, 'intense': 3701, 'intensity': 3702, 'intent': 3703, 'intention': 3704, 'interact': 3705, 'interactions': 3706, 'interactive': 3707, 'intercept': 3708, 'interest': 3709, 'interested': 3710, 'interesting': 3711, 'interface': 3712, 'interior': 3713, 'interiors': 3714, 'intermediaries': 3715, 'intermediary': 3716, 'intern': 3717, 'internal': 3718, 'internally': 3719, 'international': 3720, 'internationally': 3721, 'internet': 3722, 'interns': 3723, 'interpretation': 3724, 'interpreter': 3725, 'interpreting': 3726, 'interrupt': 3727, 'interrupted': 3728, 'interview': 3729, 'interviews': 3730, 'into': 3731, 'intrigue': 3732, 'intriguing': 3733, 'introduce': 3734, 'introduced': 3735, 'introducing': 3736, 'introduction': 3737, 'intrusion': 3738, 'invaluable': 3739, 'inventory': 3740, 'invest': 3741, 'invested': 3742, 'investigate': 3743, 'investigating': 3744, 'investigation': 3745, 'investing': 3746, 'investment': 3747, 'investments': 3748, 'investor': 3749, 'investors': 3750, 'invitation': 3751, 'invite': 3752, 'invited': 3753, 'invites': 3754, 'inviting': 3755, 'invoice': 3756, 'invoices': 3757, 'involve': 3758, 'involved': 3759, 'involves': 3760, 'involving': 3761, 'iron': 3762, 'irregular': 3763, 'is': 3764, 'isn': 3765, 'issuance': 3766, 'issue': 3767, 'issued': 3768, 'issues': 3769, 'issuing': 3770, 'it': 3771, 'item': 3772, 'items': 3773, 'its': 3774, 'itself': 3775, 'jacuzzi': 3776, 'japchae': 3777, 'jeeps': 3778, 'jeon': 3779, 'jet': 3780, 'jingle': 3781, 'job': 3782, 'jobs': 3783, 'join': 3784, 'joining': 3785, 'joint': 3786, 'jokbal': 3787, 'joke': 3788, 'journalists': 3789, 'journey': 3790, 'juice': 3791, 'junction': 3792, 'just': 3793, 'kanji': 3794, 'karaoke': 3795, 'keen': 3796, 'keep': 3797, 'keeping': 3798, 'keeps': 3799, 'kept': 3800, 'key': 3801, 'keyboard': 3802, 'keyboards': 3803, 'keys': 3804, 'keywords': 3805, 'kicks': 3806, 'kids': 3807, 'kilograms': 3808, 'kilometers': 3809, 'kilowatts': 3810, 'kimchi': 3811, 'kind': 3812, 'kindly': 3813, 'kindness': 3814, 'kinds': 3815, 'king': 3816, 'kiosk': 3817, 'kit': 3818, 'kitchen': 3819, 'kitchens': 3820, 'kits': 3821, 'knew': 3822, 'knife': 3823, 'knitting': 3824, 'knocked': 3825, 'know': 3826, 'knowing': 3827, 'knowledge': 3828, 'knowledgeable': 3829, 'known': 3830, 'knows': 3831, 'l': 3832, 'label': 3833, 'labels': 3834, 'labor': 3835, 'laboratories': 3836, 'laboratory': 3837, 'lack': 3838, 'lacking': 3839, 'ladies': 3840, 'lag': 3841, 'laid': 3842, 'lamination': 3843, 'land': 3844, 'landed': 3845, 'landline': 3846, 'landlord': 3847, 'landowner': 3848, 'lands': 3849, 'language': 3850, 'languages': 3851, 'laptop': 3852, 'large': 3853, 'largely': 3854, 'larger': 3855, 'largest': 3856, 'last': 3857, 'lasting': 3858, 'lasts': 3859, 'late': 3860, 'lately': 3861, 'latency': 3862, 'later': 3863, 'latest': 3864, 'launch': 3865, 'launched': 3866, 'launching': 3867, 'laundering': 3868, 'laundry': 3869, 'lavalier': 3870, 'law': 3871, 'laws': 3872, 'lawsuit': 3873, 'lawyer': 3874, 'lawyers': 3875, 'laxative': 3876, 'lay': 3877, 'layers': 3878, 'layout': 3879, 'lazy': 3880, 'lead': 3881, 'leaders': 3882, 'leading': 3883, 'leaf': 3884, 'leaks': 3885, 'leaning': 3886, 'learn': 3887, 'learned': 3888, 'learning': 3889, 'least': 3890, 'leave': 3891, 'leaves': 3892, 'lecture': 3893, 'led': 3894, 'left': 3895, 'legal': 3896, 'legally': 3897, 'legitimate': 3898, 'lenders': 3899, 'length': 3900, 'lengthy': 3901, 'lens': 3902, 'lentil': 3903, 'less': 3904, 'lesser': 3905, 'lessons': 3906, 'let': 3907, 'lets': 3908, 'letter': 3909, 'letters': 3910, 'letting': 3911, 'lettuce': 3912, 'level': 3913, 'levelers': 3914, 'levels': 3915, 'leverage': 3916, 'liabilities': 3917, 'liability': 3918, 'liable': 3919, 'liaison': 3920, 'library': 3921, 'license': 3922, 'licensed': 3923, 'licenses': 3924, 'lie': 3925, 'life': 3926, 'lifeguards': 3927, 'lifelong': 3928, 'lifestyle': 3929, 'lift': 3930, 'light': 3931, 'lightning': 3932, 'lights': 3933, 'lightweight': 3934, 'like': 3935, 'liked': 3936, 'likely': 3937, 'likes': 3938, 'limit': 3939, 'limitations': 3940, 'limited': 3941, 'limits': 3942, 'line': 3943, 'lines': 3944, 'lining': 3945, 'link': 3946, 'linked': 3947, 'links': 3948, 'liquid': 3949, 'liquidating': 3950, 'liquors': 3951, 'list': 3952, 'listed': 3953, 'listen': 3954, 'listener': 3955, 'listeners': 3956, 'listening': 3957, 'listing': 3958, 'listings': 3959, 'lists': 3960, 'literature': 3961, 'little': 3962, 'live': 3963, 'lived': 3964, 'lively': 3965, 'liver': 3966, 'lives': 3967, 'living': 3968, 'll': 3969, 'load': 3970, 'loaded': 3971, 'loader': 3972, 'loaders': 3973, 'loading': 3974, 'loan': 3975, 'loans': 3976, 'lobby': 3977, 'local': 3978, 'locales': 3979, 'locality': 3980, 'localization': 3981, 'localized': 3982, 'locally': 3983, 'locals': 3984, 'located': 3985, 'location': 3986, 'locations': 3987, 'lock': 3988, 'lockdown': 3989, 'lockdowns': 3990, 'lodge': 3991, 'lodging': 3992, 'lodgings': 3993, 'log': 3994, 'logged': 3995, 'logging': 3996, 'login': 3997, 'logistics': 3998, 'logo': 3999, 'logos': 4000, 'logs': 4001, 'long': 4002, 'longer': 4003, 'look': 4004, 'looked': 4005, 'looking': 4006, 'looks': 4007, 'loose': 4008, 'lose': 4009, 'loss': 4010, 'losses': 4011, 'lost': 4012, 'lot': 4013, 'lots': 4014, 'loud': 4015, 'lounge': 4016, 'love': 4017, 'loved': 4018, 'lovely': 4019, 'loving': 4020, 'low': 4021, 'lower': 4022, 'lowered': 4023, 'lowest': 4024, 'loyal': 4025, 'luck': 4026, 'luckily': 4027, 'lucky': 4028, 'lucrative': 4029, 'luggage': 4030, 'lunch': 4031, 'luxurious': 4032, 'luxury': 4033, 'm': 4034, 'ma': 4035, 'machine': 4036, 'machinery': 4037, 'machines': 4038, 'mackerels': 4039, 'macro': 4040, 'madam': 4041, 'made': 4042, 'magazine': 4043, 'magazines': 4044, 'magical': 4045, 'mail': 4046, 'main': 4047, 'mainly': 4048, 'mains': 4049, 'maintain': 4050, 'maintained': 4051, 'maintaining': 4052, 'maintenance': 4053, 'major': 4054, 'majority': 4055, 'make': 4056, 'maker': 4057, 'makers': 4058, 'makes': 4059, 'makeup': 4060, 'makgeolli': 4061, 'making': 4062, 'mall': 4063, 'malware': 4064, 'manage': 4065, 'manageable': 4066, 'managed': 4067, 'management': 4068, 'manager': 4069, 'managers': 4070, 'manages': 4071, 'managing': 4072, 'mandatory': 4073, 'mandu': 4074, 'manned': 4075, 'manner': 4076, 'manners': 4077, 'manual': 4078, 'manually': 4079, 'manufacture': 4080, 'manufactured': 4081, 'manufacturer': 4082, 'manufacturers': 4083, 'manufactures': 4084, 'manufacturing': 4085, 'manuscript': 4086, 'many': 4087, 'marinated': 4088, 'marinates': 4089, 'market': 4090, 'marketer': 4091, 'marketing': 4092, 'markets': 4093, 'married': 4094, 'mascots': 4095, 'mask': 4096, 'mass': 4097, 'massage': 4098, 'massages': 4099, 'masseuse': 4100, 'massive': 4101, 'master': 4102, 'mat': 4103, 'match': 4104, 'material': 4105, 'materialistic': 4106, 'materials': 4107, 'maternity': 4108, 'mathematics': 4109, 'mats': 4110, 'matte': 4111, 'matter': 4112, 'matters': 4113, 'mattress': 4114, 'maturing': 4115, 'maximize': 4116, 'maximum': 4117, 'may': 4118, 'maybe': 4119, 'me': 4120, 'meal': 4121, 'meals': 4122, 'mean': 4123, 'meaning': 4124, 'meaningful': 4125, 'meaningless': 4126, 'means': 4127, 'meant': 4128, 'meantime': 4129, 'measure': 4130, 'measures': 4131, 'measuring': 4132, 'meat': 4133, 'mechanic': 4134, 'mechanical': 4135, 'mechanism': 4136, 'media': 4137, 'mediator': 4138, 'medical': 4139, 'medicine': 4140, 'meditation': 4141, 'medium': 4142, 'meet': 4143, 'meeting': 4144, 'meetings': 4145, 'megabits': 4146, 'megabytes': 4147, 'megapixel': 4148, 'megapixels': 4149, 'melon': 4150, 'melt': 4151, 'member': 4152, 'members': 4153, 'membership': 4154, 'memorandum': 4155, 'memories': 4156, 'memory': 4157, 'men': 4158, 'mending': 4159, 'mental': 4160, 'mention': 4161, 'mentioned': 4162, 'mentioning': 4163, 'menu': 4164, 'menus': 4165, 'merch': 4166, 'merchant': 4167, 'merged': 4168, 'message': 4169, 'messages': 4170, 'messaging': 4171, 'messy': 4172, 'met': 4173, 'meta': 4174, 'metal': 4175, 'metallurgical': 4176, 'metals': 4177, 'meters': 4178, 'method': 4179, 'methods': 4180, 'meticulously': 4181, 'microlenders': 4182, 'microphone': 4183, 'microphones': 4184, 'microscopes': 4185, 'microwave': 4186, 'middle': 4187, 'midst': 4188, 'might': 4189, 'mild': 4190, 'milestone': 4191, 'milk': 4192, 'millennials': 4193, 'millimeters': 4194, 'million': 4195, 'millions': 4196, 'mind': 4197, 'minded': 4198, 'mine': 4199, 'miner': 4200, 'mini': 4201, 'minibar': 4202, 'minimal': 4203, 'minimalism': 4204, 'minimum': 4205, 'ministry': 4206, 'minor': 4207, 'minute': 4208, 'minuted': 4209, 'minutes': 4210, 'miscarriage': 4211, 'miscommunication': 4212, 'mishap': 4213, 'mismanagement': 4214, 'mismatch': 4215, 'misplaced': 4216, 'miss': 4217, 'missed': 4218, 'missiles': 4219, 'missing': 4220, 'mission': 4221, 'mistake': 4222, 'mistakenly': 4223, 'mistakes': 4224, 'misunderstanding': 4225, 'misuse': 4226, 'misuses': 4227, 'mitigate': 4228, 'mix': 4229, 'mixer': 4230, 'mixing': 4231, 'mm': 4232, 'mmHg': 4233, 'mobile': 4234, 'mobiles': 4235, 'mock': 4236, 'mocks': 4237, 'modality': 4238, 'mode': 4239, 'model': 4240, 'models': 4241, 'modem': 4242, 'modems': 4243, 'moderately': 4244, 'modern': 4245, 'modes': 4246, 'modifications': 4247, 'modified': 4248, 'modify': 4249, 'modifying': 4250, 'modular': 4251, 'module': 4252, 'mold': 4253, 'molding': 4254, 'moldings': 4255, 'moment': 4256, 'momentary': 4257, 'moments': 4258, 'monastery': 4259, 'monastic': 4260, 'monetary': 4261, 'monetizing': 4262, 'money': 4263, 'monitor': 4264, 'monitoring': 4265, 'monitors': 4266, 'monk': 4267, 'monks': 4268, 'monsoon': 4269, 'month': 4270, 'monthly': 4271, 'months': 4272, 'mood': 4273, 'more': 4274, 'morning': 4275, 'mortar': 4276, 'mortgage': 4277, 'mosquitos': 4278, 'most': 4279, 'mostly': 4280, 'motels': 4281, 'mother': 4282, 'motif': 4283, 'motions': 4284, 'motivate': 4285, 'motivation': 4286, 'motor': 4287, 'motorboats': 4288, 'motors': 4289, 'mountain': 4290, 'mountains': 4291, 'mouse': 4292, 'mouses': 4293, 'mouth': 4294, 'move': 4295, 'moved': 4296, 'movement': 4297, 'movers': 4298, 'movie': 4299, 'movies': 4300, 'moving': 4301, 'much': 4302, 'mud': 4303, 'mukbang': 4304, 'multi': 4305, 'multidisciplinary': 4306, 'multinational': 4307, 'multiplatform': 4308, 'multiple': 4309, 'multiplying': 4310, 'multipurpose': 4311, 'museum': 4312, 'music': 4313, 'musical': 4314, 'musky': 4315, 'must': 4316, 'mutual': 4317, 'my': 4318, 'myself': 4319, 'mysterious': 4320, 'naira': 4321, 'name': 4322, 'names': 4323, 'napkin': 4324, 'napping': 4325, 'narratives': 4326, 'narrow': 4327, 'nation': 4328, 'national': 4329, 'nationals': 4330, 'nations': 4331, 'native': 4332, 'natural': 4333, 'nature': 4334, 'navigation': 4335, 'near': 4336, 'nearby': 4337, 'nearest': 4338, 'neat': 4339, 'nebulizers': 4340, 'necessary': 4341, 'need': 4342, 'needed': 4343, 'needing': 4344, 'needs': 4345, 'negative': 4346, 'negatively': 4347, 'neglect': 4348, 'negotiable': 4349, 'negotiate': 4350, 'neighbors': 4351, 'neotraditional': 4352, 'nephew': 4353, 'nervous': 4354, 'net': 4355, 'network': 4356, 'networking': 4357, 'networks': 4358, 'never': 4359, 'new': 4360, 'newbie': 4361, 'newborn': 4362, 'newest': 4363, 'newly': 4364, 'news': 4365, 'newsletters': 4366, 'newspaper': 4367, 'next': 4368, 'nice': 4369, 'niche': 4370, 'night': 4371, 'nightclub': 4372, 'nights': 4373, 'nighttime': 4374, 'nine': 4375, 'ninety': 4376, 'no': 4377, 'noble': 4378, 'nobody': 4379, 'nodular': 4380, 'non': 4381, 'nondelivery': 4382, 'none': 4383, 'nonfiction': 4384, 'nonfungible': 4385, 'nonpayments': 4386, 'nonprofits': 4387, 'nonsense': 4388, 'nonspicy': 4389, 'noodle': 4390, 'noodles': 4391, 'noon': 4392, 'norm': 4393, 'normal': 4394, 'normally': 4395, 'northern': 4396, 'nose': 4397, 'nostalgia': 4398, 'not': 4399, 'notch': 4400, 'note': 4401, 'notebook': 4402, 'noted': 4403, 'notes': 4404, 'nothing': 4405, 'notice': 4406, 'noticed': 4407, 'notices': 4408, 'notification': 4409, 'notified': 4410, 'notify': 4411, 'notifying': 4412, 'novel': 4413, 'novels': 4414, 'now': 4415, 'nowadays': 4416, 'number': 4417, 'numbers': 4418, 'numerous': 4419, 'nurse': 4420, 'nutritional': 4421, 'nutty': 4422, 'nylon': 4423, 'o': 4424, 'object': 4425, 'objection': 4426, 'objections': 4427, 'objective': 4428, 'obligation': 4429, 'obligations': 4430, 'oblige': 4431, 'observations': 4432, 'observing': 4433, 'obstacles': 4434, 'obtain': 4435, 'obtaining': 4436, 'obviously': 4437, 'occasion': 4438, 'occupation': 4439, 'occupied': 4440, 'occupy': 4441, 'occur': 4442, 'occurrence': 4443, 'occurs': 4444, 'ocean': 4445, 'of': 4446, 'off': 4447, 'offend': 4448, 'offer': 4449, 'offered': 4450, 'offering': 4451, 'offerings': 4452, 'offers': 4453, 'office': 4454, 'officer': 4455, 'officers': 4456, 'offices': 4457, 'official': 4458, 'officially': 4459, 'offline': 4460, 'offshore': 4461, 'often': 4462, 'oh': 4463, 'oil': 4464, 'oils': 4465, 'okay': 4466, 'old': 4467, 'older': 4468, 'oldest': 4469, 'on': 4470, 'once': 4471, 'ondol': 4472, 'one': 4473, 'ones': 4474, 'ongoing': 4475, 'onions': 4476, 'online': 4477, 'only': 4478, 'onto': 4479, 'onwards': 4480, 'open': 4481, 'opened': 4482, 'opening': 4483, 'openly': 4484, 'opens': 4485, 'operate': 4486, 'operated': 4487, 'operating': 4488, 'operation': 4489, 'operational': 4490, 'operations': 4491, 'operative': 4492, 'operator': 4493, 'operators': 4494, 'opinion': 4495, 'opinions': 4496, 'opportunities': 4497, 'opportunity': 4498, 'opt': 4499, 'optimal': 4500, 'optimization': 4501, 'optimize': 4502, 'optimized': 4503, 'optimizer': 4504, 'option': 4505, 'optional': 4506, 'options': 4507, 'optometry': 4508, 'or': 4509, 'orange': 4510, 'order': 4511, 'ordered': 4512, 'ordering': 4513, 'orderly': 4514, 'orders': 4515, 'ordinary': 4516, 'ore': 4517, 'organic': 4518, 'organization': 4519, 'organizational': 4520, 'organizations': 4521, 'organize': 4522, 'organizing': 4523, 'orientation': 4524, 'oriented': 4525, 'original': 4526, 'originally': 4527, 'origins': 4528, 'other': 4529, 'others': 4530, 'ought': 4531, 'ounce': 4532, 'our': 4533, 'ours': 4534, 'ourselves': 4535, 'out': 4536, 'outbreak': 4537, 'outcome': 4538, 'outdated': 4539, 'outdoor': 4540, 'outdoors': 4541, 'outgoing': 4542, 'outings': 4543, 'outlets': 4544, 'outnumber': 4545, 'output': 4546, 'outputs': 4547, 'outreach': 4548, 'outright': 4549, 'outside': 4550, 'outsiders': 4551, 'outsmart': 4552, 'outsource': 4553, 'outstanding': 4554, 'oven': 4555, 'ovens': 4556, 'over': 4557, 'overall': 4558, 'overcharge': 4559, 'overcharged': 4560, 'overdue': 4561, 'overflow': 4562, 'overhang': 4563, 'overheads': 4564, 'overlook': 4565, 'overlooked': 4566, 'overnight': 4567, 'overpriced': 4568, 'overseas': 4569, 'oversees': 4570, 'overstated': 4571, 'overview': 4572, 'overwhelmed': 4573, 'owe': 4574, 'owing': 4575, 'own': 4576, 'owner': 4577, 'owners': 4578, 'ownership': 4579, 'owning': 4580, 'oxblood': 4581, 'p': 4582, 'pace': 4583, 'pacemaker': 4584, 'pack': 4585, 'package': 4586, 'packaged': 4587, 'packages': 4588, 'packaging': 4589, 'packed': 4590, 'packers': 4591, 'packing': 4592, 'packs': 4593, 'page': 4594, 'pages': 4595, 'pagodas': 4596, 'paid': 4597, 'pains': 4598, 'painted': 4599, 'painter': 4600, 'painters': 4601, 'painting': 4602, 'paintings': 4603, 'pair': 4604, 'pairs': 4605, 'pajamas': 4606, 'palaces': 4607, 'palate': 4608, 'palates': 4609, 'palette': 4610, 'palettes': 4611, 'palm': 4612, 'pals': 4613, 'pamphlet': 4614, 'pan': 4615, 'pancakes': 4616, 'pandemic': 4617, 'panel': 4618, 'panels': 4619, 'pans': 4620, 'pantry': 4621, 'papaya': 4622, 'paper': 4623, 'papers': 4624, 'paperwork': 4625, 'par': 4626, 'parcel': 4627, 'parents': 4628, 'park': 4629, 'parking': 4630, 'part': 4631, 'partake': 4632, 'partial': 4633, 'partially': 4634, 'participant': 4635, 'participants': 4636, 'participate': 4637, 'participating': 4638, 'particular': 4639, 'particularly': 4640, 'parties': 4641, 'partner': 4642, 'partnering': 4643, 'partners': 4644, 'partnership': 4645, 'parts': 4646, 'party': 4647, 'pass': 4648, 'passed': 4649, 'passing': 4650, 'passion': 4651, 'passive': 4652, 'passport': 4653, 'passports': 4654, 'password': 4655, 'past': 4656, 'pasta': 4657, 'paste': 4658, 'patch': 4659, 'patches': 4660, 'patent': 4661, 'patents': 4662, 'path': 4663, 'patience': 4664, 'patient': 4665, 'patients': 4666, 'patronage': 4667, 'patronize': 4668, 'patrons': 4669, 'pattern': 4670, 'patterns': 4671, 'paving': 4672, 'pay': 4673, 'payable': 4674, 'paying': 4675, 'payment': 4676, 'payments': 4677, 'payroll': 4678, 'pays': 4679, 'payslip': 4680, 'pdf': 4681, 'peace': 4682, 'peak': 4683, 'pencil': 4684, 'pending': 4685, 'pension': 4686, 'people': 4687, 'per': 4688, 'percent': 4689, 'percentage': 4690, 'perfect': 4691, 'perform': 4692, 'performance': 4693, 'performed': 4694, 'performing': 4695, 'perhaps': 4696, 'perilla': 4697, 'period': 4698, 'permanent': 4699, 'permanently': 4700, 'permission': 4701, 'permit': 4702, 'permitted': 4703, 'persistent': 4704, 'person': 4705, 'personal': 4706, 'personality': 4707, 'personalized': 4708, 'personally': 4709, 'personnel': 4710, 'persons': 4711, 'persuade': 4712, 'pertinent': 4713, 'perusal': 4714, 'pesky': 4715, 'pet': 4716, 'petition': 4717, 'petrol': 4718, 'pets': 4719, 'phase': 4720, 'phases': 4721, 'phenomena': 4722, 'philosophy': 4723, 'phone': 4724, 'phones': 4725, 'phoning': 4726, 'photo': 4727, 'photobooks': 4728, 'photocopier': 4729, 'photographer': 4730, 'photographers': 4731, 'photographs': 4732, 'photography': 4733, 'photos': 4734, 'physical': 4735, 'physically': 4736, 'piano': 4737, 'pick': 4738, 'picked': 4739, 'picking': 4740, 'picture': 4741, 'pictures': 4742, 'pie': 4743, 'piece': 4744, 'pieces': 4745, 'pier': 4746, 'piling': 4747, 'pillars': 4748, 'pills': 4749, 'pin': 4750, 'pink': 4751, 'pioneers': 4752, 'pipe': 4753, 'pipeline': 4754, 'pipelines': 4755, 'pipes': 4756, 'piqued': 4757, 'piques': 4758, 'piston': 4759, 'pitch': 4760, 'pitching': 4761, 'pity': 4762, 'pixels': 4763, 'place': 4764, 'placed': 4765, 'placement': 4766, 'placements': 4767, 'places': 4768, 'placing': 4769, 'plagiarized': 4770, 'plain': 4771, 'plan': 4772, 'plane': 4773, 'planned': 4774, 'planning': 4775, 'plans': 4776, 'plant': 4777, 'planting': 4778, 'plants': 4779, 'plastic': 4780, 'plastics': 4781, 'plate': 4782, 'plates': 4783, 'platform': 4784, 'platforms': 4785, 'platinum': 4786, 'platters': 4787, 'play': 4788, 'played': 4789, 'player': 4790, 'players': 4791, 'playground': 4792, 'playing': 4793, 'plays': 4794, 'plaza': 4795, 'pleasant': 4796, 'please': 4797, 'pleased': 4798, 'pleasure': 4799, 'plotter': 4800, 'plowing': 4801, 'plug': 4802, 'plugins': 4803, 'plus': 4804, 'pm': 4805, 'pneumatic': 4806, 'pocket': 4807, 'pockets': 4808, 'podcast': 4809, 'podcasts': 4810, 'point': 4811, 'pointing': 4812, 'points': 4813, 'policies': 4814, 'policy': 4815, 'policyholders': 4816, 'policymakers': 4817, 'polite': 4818, 'political': 4819, 'politicians': 4820, 'polystyrene': 4821, 'polyurethane': 4822, 'pool': 4823, 'pools': 4824, 'poor': 4825, 'pop': 4826, 'popular': 4827, 'popularity': 4828, 'population': 4829, 'poring': 4830, 'pork': 4831, 'porridge': 4832, 'port': 4833, 'portal': 4834, 'portals': 4835, 'portfolio': 4836, 'portfolios': 4837, 'portion': 4838, 'portraits': 4839, 'ports': 4840, 'posh': 4841, 'position': 4842, 'positioning': 4843, 'positions': 4844, 'positive': 4845, 'positives': 4846, 'possess': 4847, 'possibility': 4848, 'possible': 4849, 'possibly': 4850, 'post': 4851, 'postal': 4852, 'posted': 4853, 'poster': 4854, 'posters': 4855, 'posting': 4856, 'postings': 4857, 'postpaid': 4858, 'posts': 4859, 'potato': 4860, 'potential': 4861, 'pots': 4862, 'power': 4863, 'powered': 4864, 'practically': 4865, 'practice': 4866, 'practices': 4867, 'praised': 4868, 'praises': 4869, 'pray': 4870, 'prays': 4871, 'precise': 4872, 'precisely': 4873, 'precision': 4874, 'predict': 4875, 'predictable': 4876, 'prediction': 4877, 'prefer': 4878, 'preferably': 4879, 'preference': 4880, 'preferences': 4881, 'preferred': 4882, 'premises': 4883, 'premium': 4884, 'premiums': 4885, 'preoccupied': 4886, 'preorder': 4887, 'preparation': 4888, 'prepare': 4889, 'prepared': 4890, 'preparedness': 4891, 'preparing': 4892, 'prescription': 4893, 'prescriptions': 4894, 'presence': 4895, 'present': 4896, 'presentation': 4897, 'presented': 4898, 'presenting': 4899, 'presents': 4900, 'preservation': 4901, 'preserve': 4902, 'president': 4903, 'press': 4904, 'pressed': 4905, 'pressing': 4906, 'pressure': 4907, 'pretty': 4908, 'prevent': 4909, 'prevented': 4910, 'prevention': 4911, 'preview': 4912, 'previous': 4913, 'previously': 4914, 'price': 4915, 'priced': 4916, 'priceless': 4917, 'prices': 4918, 'pricing': 4919, 'priest': 4920, 'primarily': 4921, 'primary': 4922, 'prime': 4923, 'principal': 4924, 'principle': 4925, 'print': 4926, 'printed': 4927, 'printers': 4928, 'printing': 4929, 'prints': 4930, 'prior': 4931, 'prioritize': 4932, 'prioritized': 4933, 'priority': 4934, 'privacy': 4935, 'private': 4936, 'privilege': 4937, 'prize': 4938, 'prized': 4939, 'probably': 4940, 'problem': 4941, 'problematic': 4942, 'problems': 4943, 'procedure': 4944, 'procedures': 4945, 'proceed': 4946, 'proceedings': 4947, 'proceeds': 4948, 'process': 4949, 'processed': 4950, 'processes': 4951, 'processing': 4952, 'processor': 4953, 'processors': 4954, 'procurement': 4955, 'produce': 4956, 'produced': 4957, 'producer': 4958, 'produces': 4959, 'producing': 4960, 'product': 4961, 'production': 4962, 'productions': 4963, 'productivity': 4964, 'products': 4965, 'profession': 4966, 'professional': 4967, 'professionally': 4968, 'professionals': 4969, 'professions': 4970, 'professor': 4971, 'professors': 4972, 'proficiency': 4973, 'profile': 4974, 'profit': 4975, 'profitability': 4976, 'profitable': 4977, 'profits': 4978, 'program': 4979, 'programmed': 4980, 'programmer': 4981, 'programmers': 4982, 'programming': 4983, 'programs': 4984, 'progress': 4985, 'progressing': 4986, 'project': 4987, 'projections': 4988, 'projector': 4989, 'projectors': 4990, 'projects': 4991, 'prominent': 4992, 'prominently': 4993, 'promise': 4994, 'promised': 4995, 'promises': 4996, 'promising': 4997, 'promo': 4998, 'promos': 4999, 'promote': 5000, 'promoting': 5001, 'promotion': 5002, 'promotional': 5003, 'promotions': 5004, 'prompt': 5005, 'promptly': 5006, 'prompts': 5007, 'proof': 5008, 'proofs': 5009, 'propelled': 5010, 'proper': 5011, 'properly': 5012, 'properties': 5013, 'property': 5014, 'proportion': 5015, 'proposal': 5016, 'proposals': 5017, 'propose': 5018, 'proposed': 5019, 'proposing': 5020, 'proposition': 5021, 'pros': 5022, 'prospective': 5023, 'prosperous': 5024, 'prosthetics': 5025, 'prostrations': 5026, 'protect': 5027, 'protected': 5028, 'protection': 5029, 'protectionism': 5030, 'protections': 5031, 'protective': 5032, 'protects': 5033, 'protein': 5034, 'protocol': 5035, 'protocols': 5036, 'prototype': 5037, 'proud': 5038, 'prove': 5039, 'proven': 5040, 'provide': 5041, 'provided': 5042, 'provider': 5043, 'providers': 5044, 'provides': 5045, 'providing': 5046, 'province': 5047, 'proximity': 5048, 'pub': 5049, 'public': 5050, 'publication': 5051, 'publications': 5052, 'publicly': 5053, 'publish': 5054, 'published': 5055, 'publishers': 5056, 'publishing': 5057, 'pull': 5058, 'pulse': 5059, 'pump': 5060, 'pumps': 5061, 'punctual': 5062, 'purchase': 5063, 'purchased': 5064, 'purchases': 5065, 'purchasing': 5066, 'purely': 5067, 'purified': 5068, 'purifiers': 5069, 'purify': 5070, 'purpose': 5071, 'purposes': 5072, 'pursue': 5073, 'push': 5074, 'pushed': 5075, 'put': 5076, 'puts': 5077, 'putting': 5078, 'quadrupled': 5079, 'qualified': 5080, 'qualify': 5081, 'qualities': 5082, 'quality': 5083, 'quantities': 5084, 'quantity': 5085, 'quarter': 5086, 'quarterly': 5087, 'queries': 5088, 'query': 5089, 'question': 5090, 'questionnaire': 5091, 'questions': 5092, 'queue': 5093, 'quick': 5094, 'quickly': 5095, 'quilt': 5096, 'quite': 5097, 'quotation': 5098, 'quotations': 5099, 'quote': 5100, 'radio': 5101, 'radioactive': 5102, 'railway': 5103, 'rain': 5104, 'raise': 5105, 'raising': 5106, 'rally': 5107, 'rambling': 5108, 'ramen': 5109, 'ran': 5110, 'random': 5111, 'randomly': 5112, 'rang': 5113, 'range': 5114, 'ranger': 5115, 'ranges': 5116, 'ranging': 5117, 'rank': 5118, 'ranked': 5119, 'ranking': 5120, 'ranks': 5121, 'rapidly': 5122, 'rapport': 5123, 'rare': 5124, 'rate': 5125, 'rates': 5126, 'rather': 5127, 'rating': 5128, 'ratings': 5129, 'ratio': 5130, 'rational': 5131, 'raw': 5132, 'ray': 5133, 'rd': 5134, 're': 5135, 'reach': 5136, 'reached': 5137, 'reaches': 5138, 'reaching': 5139, 'react': 5140, 'reaction': 5141, 'read': 5142, 'readers': 5143, 'reading': 5144, 'reads': 5145, 'ready': 5146, 'real': 5147, 'realistic': 5148, 'reality': 5149, 'realize': 5150, 'really': 5151, 'realtor': 5152, 'reap': 5153, 'rear': 5154, 'reason': 5155, 'reasonable': 5156, 'reasons': 5157, 'reassuring': 5158, 'rebook': 5159, 'recall': 5160, 'receipt': 5161, 'receipts': 5162, 'receivable': 5163, 'receive': 5164, 'received': 5165, 'receiver': 5166, 'receiving': 5167, 'recent': 5168, 'recently': 5169, 'reception': 5170, 'receptionist': 5171, 'recharge': 5172, 'recharging': 5173, 'recipe': 5174, 'recipes': 5175, 'recipients': 5176, 'recognize': 5177, 'recognized': 5178, 'recommend': 5179, 'recommendation': 5180, 'recommendations': 5181, 'recommended': 5182, 'recommending': 5183, 'reconfirm': 5184, 'reconsider': 5185, 'record': 5186, 'recorded': 5187, 'recording': 5188, 'recordings': 5189, 'records': 5190, 'recover': 5191, 'recovery': 5192, 'recreation': 5193, 'rectified': 5194, 'recuperate': 5195, 'red': 5196, 'redemption': 5197, 'redirect': 5198, 'redownloaded': 5199, 'redrafting': 5200, 'reduce': 5201, 'reduced': 5202, 'reduces': 5203, 'reducing': 5204, 'reefer': 5205, 'reefers': 5206, 'reels': 5207, 'refer': 5208, 'reference': 5209, 'referred': 5210, 'referring': 5211, 'refers': 5212, 'refine': 5213, 'reflected': 5214, 'refrain': 5215, 'refresher': 5216, 'refund': 5217, 'refunded': 5218, 'refunds': 5219, 'refuse': 5220, 'refuses': 5221, 'regard': 5222, 'regarded': 5223, 'regarding': 5224, 'regardless': 5225, 'regards': 5226, 'region': 5227, 'regional': 5228, 'register': 5229, 'registered': 5230, 'registration': 5231, 'registry': 5232, 'regret': 5233, 'regretting': 5234, 'regular': 5235, 'regularly': 5236, 'regulated': 5237, 'regulations': 5238, 'regulatory': 5239, 'rehearsal': 5240, 'reheated': 5241, 'reimbursed': 5242, 'reimbursement': 5243, 'reimbursing': 5244, 'reinstalled': 5245, 'reject': 5246, 'rejected': 5247, 'relatable': 5248, 'relate': 5249, 'related': 5250, 'relations': 5251, 'relationship': 5252, 'relationships': 5253, 'relative': 5254, 'relatively': 5255, 'relatives': 5256, 'relax': 5257, 'relaxation': 5258, 'relaxing': 5259, 'relay': 5260, 'release': 5261, 'released': 5262, 'releases': 5263, 'releasing': 5264, 'relentlessly': 5265, 'relevant': 5266, 'reliable': 5267, 'relief': 5268, 'relies': 5269, 'relieved': 5270, 'religious': 5271, 'relocate': 5272, 'rely': 5273, 'remain': 5274, 'remaining': 5275, 'remains': 5276, 'remarks': 5277, 'remember': 5278, 'remembered': 5279, 'remind': 5280, 'reminder': 5281, 'reminders': 5282, 'reminding': 5283, 'reminds': 5284, 'reminisce': 5285, 'remittance': 5286, 'remote': 5287, 'remotely': 5288, 'removable': 5289, 'remove': 5290, 'removers': 5291, 'removing': 5292, 'render': 5293, 'rendered': 5294, 'renders': 5295, 'renege': 5296, 'renew': 5297, 'renewable': 5298, 'renewal': 5299, 'renewed': 5300, 'renewing': 5301, 'renovate': 5302, 'renovated': 5303, 'renovation': 5304, 'renowned': 5305, 'rent': 5306, 'rental': 5307, 'rentals': 5308, 'rented': 5309, 'renting': 5310, 'reorder': 5311, 'repair': 5312, 'repay': 5313, 'repayment': 5314, 'repeat': 5315, 'replace': 5316, 'replaced': 5317, 'replacement': 5318, 'replacements': 5319, 'replacing': 5320, 'reply': 5321, 'report': 5322, 'reported': 5323, 'reports': 5324, 'representative': 5325, 'representing': 5326, 'represents': 5327, 'reputable': 5328, 'reputation': 5329, 'reputed': 5330, 'request': 5331, 'requested': 5332, 'requesting': 5333, 'requests': 5334, 'require': 5335, 'required': 5336, 'requirement': 5337, 'requirements': 5338, 'requires': 5339, 'rescheduled': 5340, 'rescission': 5341, 'research': 5342, 'researched': 5343, 'researching': 5344, 'resellers': 5345, 'resending': 5346, 'reservation': 5347, 'reservations': 5348, 'reserve': 5349, 'reserved': 5350, 'reserving': 5351, 'reset': 5352, 'reside': 5353, 'residence': 5354, 'resident': 5355, 'residents': 5356, 'residing': 5357, 'resistant': 5358, 'resistors': 5359, 'resolve': 5360, 'resolved': 5361, 'resolving': 5362, 'resort': 5363, 'resorting': 5364, 'resorts': 5365, 'resource': 5366, 'resources': 5367, 'respect': 5368, 'respected': 5369, 'respective': 5370, 'respectively': 5371, 'respects': 5372, 'respond': 5373, 'responding': 5374, 'response': 5375, 'responsibility': 5376, 'responsible': 5377, 'responsive': 5378, 'rest': 5379, 'restart': 5380, 'restaurant': 5381, 'restaurants': 5382, 'restocked': 5383, 'restore': 5384, 'restoring': 5385, 'restricted': 5386, 'restriction': 5387, 'restrictions': 5388, 'restroom': 5389, 'restrooms': 5390, 'result': 5391, 'resulted': 5392, 'results': 5393, 'resume': 5394, 'resumes': 5395, 'retail': 5396, 'retailer': 5397, 'retails': 5398, 'retain': 5399, 'retains': 5400, 'retirement': 5401, 'retract': 5402, 'retreat': 5403, 'retreats': 5404, 'retrieve': 5405, 'return': 5406, 'returned': 5407, 'returning': 5408, 'returns': 5409, 'reuploading': 5410, 'reusable': 5411, 'revamp': 5412, 'revealing': 5413, 'revenue': 5414, 'revenues': 5415, 'revert': 5416, 'review': 5417, 'reviewed': 5418, 'reviewers': 5419, 'reviewing': 5420, 'revise': 5421, 'revised': 5422, 'revision': 5423, 'revisions': 5424, 'revoke': 5425, 'revolving': 5426, 'reward': 5427, 'rewarding': 5428, 'rewards': 5429, 'rib': 5430, 'ribs': 5431, 'rice': 5432, 'rich': 5433, 'rid': 5434, 'ride': 5435, 'rides': 5436, 'right': 5437, 'rights': 5438, 'rigid': 5439, 'rim': 5440, 'ring': 5441, 'rise': 5442, 'risen': 5443, 'risk': 5444, 'risking': 5445, 'risks': 5446, 'risky': 5447, 'ritual': 5448, 'road': 5449, 'roadblock': 5450, 'roadmap': 5451, 'roasted': 5452, 'robot': 5453, 'rock': 5454, 'rocky': 5455, 'role': 5456, 'roleplaying': 5457, 'roles': 5458, 'roll': 5459, 'roller': 5460, 'rolls': 5461, 'roof': 5462, 'roofing': 5463, 'rooftop': 5464, 'room': 5465, 'roommate': 5466, 'rooms': 5467, 'root': 5468, 'roots': 5469, 'ropes': 5470, 'rotary': 5471, 'rough': 5472, 'round': 5473, 'rounds': 5474, 'router': 5475, 'routine': 5476, 'royalty': 5477, 'rude': 5478, 'ruin': 5479, 'ruined': 5480, 'rules': 5481, 'rumor': 5482, 'run': 5483, 'running': 5484, 'runs': 5485, 'rural': 5486, 'rush': 5487, 'rushing': 5488, 's': 5489, 'sacrificing': 5490, 'sad': 5491, 'safe': 5492, 'safeguard': 5493, 'safely': 5494, 'safer': 5495, 'safety': 5496, 'said': 5497, 'sake': 5498, 'salad': 5499, 'salary': 5500, 'sale': 5501, 'sales': 5502, 'salesmen': 5503, 'salt': 5504, 'saltwater': 5505, 'same': 5506, 'samgyeopsal': 5507, 'samgyupsal': 5508, 'sample': 5509, 'sampler': 5510, 'samples': 5511, 'sampling': 5512, 'sanctioning': 5513, 'sandwich': 5514, 'sandwiches': 5515, 'sanitary': 5516, 'satellite': 5517, 'satin': 5518, 'satisfied': 5519, 'satisfy': 5520, 'sauce': 5521, 'sauna': 5522, 'sausage': 5523, 'save': 5524, 'saved': 5525, 'saver': 5526, 'saves': 5527, 'saving': 5528, 'savings': 5529, 'savory': 5530, 'savvy': 5531, 'saw': 5532, 'say': 5533, 'saying': 5534, 'says': 5535, 'scaffolding': 5536, 'scale': 5537, 'scammed': 5538, 'scan': 5539, 'scanner': 5540, 'scanners': 5541, 'scanning': 5542, 'scarcity': 5543, 'scared': 5544, 'scavenger': 5545, 'scenario': 5546, 'scenarios': 5547, 'scenic': 5548, 'scent': 5549, 'schedule': 5550, 'scheduled': 5551, 'scheduler': 5552, 'schedules': 5553, 'scheme': 5554, 'scholar': 5555, 'scholarships': 5556, 'school': 5557, 'schooling': 5558, 'science': 5559, 'sciences': 5560, 'scientific': 5561, 'scientists': 5562, 'scooters': 5563, 'score': 5564, 'scores': 5565, 'scratch': 5566, 'screen': 5567, 'screening': 5568, 'screenplay': 5569, 'screens': 5570, 'screenshot': 5571, 'screenshots': 5572, 'screw': 5573, 'screws': 5574, 'script': 5575, 'scrub': 5576, 'sculptors': 5577, 'sea': 5578, 'seal': 5579, 'search': 5580, 'searching': 5581, 'seared': 5582, 'season': 5583, 'seasons': 5584, 'seat': 5585, 'seats': 5586, 'seaweed': 5587, 'seaworthiness': 5588, 'second': 5589, 'secondary': 5590, 'secondhand': 5591, 'seconds': 5592, 'secret': 5593, 'secretary': 5594, 'section': 5595, 'sector': 5596, 'secure': 5597, 'secured': 5598, 'secures': 5599, 'securing': 5600, 'securities': 5601, 'security': 5602, 'see': 5603, 'seedlings': 5604, 'seeing': 5605, 'seek': 5606, 'seeking': 5607, 'seem': 5608, 'seems': 5609, 'seen': 5610, 'select': 5611, 'selected': 5612, 'selection': 5613, 'selections': 5614, 'self': 5615, 'sell': 5616, 'seller': 5617, 'sellers': 5618, 'selling': 5619, 'sells': 5620, 'selves': 5621, 'semester': 5622, 'semiconductor': 5623, 'semiconductors': 5624, 'seminar': 5625, 'seminars': 5626, 'send': 5627, 'sender': 5628, 'sending': 5629, 'senior': 5630, 'seniors': 5631, 'sense': 5632, 'sensor': 5633, 'sensors': 5634, 'sent': 5635, 'separate': 5636, 'separately': 5637, 'serial': 5638, 'series': 5639, 'serious': 5640, 'serve': 5641, 'served': 5642, 'server': 5643, 'servers': 5644, 'serves': 5645, 'service': 5646, 'serviced': 5647, 'services': 5648, 'servicing': 5649, 'serving': 5650, 'servings': 5651, 'servo': 5652, 'session': 5653, 'sessions': 5654, 'set': 5655, 'sets': 5656, 'setting': 5657, 'settings': 5658, 'settle': 5659, 'settled': 5660, 'setup': 5661, 'setups': 5662, 'seven': 5663, 'several': 5664, 'severe': 5665, 'sewer': 5666, 'sewing': 5667, 'shaded': 5668, 'shaft': 5669, 'shafts': 5670, 'shake': 5671, 'shall': 5672, 'shape': 5673, 'shaped': 5674, 'shapes': 5675, 'share': 5676, 'shared': 5677, 'shares': 5678, 'sharing': 5679, 'sharpened': 5680, 'sharply': 5681, 'she': 5682, 'sheet': 5683, 'shelter': 5684, 'shift': 5685, 'shifted': 5686, 'ship': 5687, 'shipment': 5688, 'shipments': 5689, 'shipped': 5690, 'shipping': 5691, 'ships': 5692, 'shock': 5693, 'shoddy': 5694, 'shoe': 5695, 'shoes': 5696, 'shoot': 5697, 'shooting': 5698, 'shop': 5699, 'shopping': 5700, 'shops': 5701, 'short': 5702, 'shortly': 5703, 'shot': 5704, 'shots': 5705, 'should': 5706, 'shoulder': 5707, 'shouldn': 5708, 'shovel': 5709, 'shovels': 5710, 'show': 5711, 'showcase': 5712, 'showcases': 5713, 'showcasing': 5714, 'showed': 5715, 'shower': 5716, 'showing': 5717, 'shown': 5718, 'showroom': 5719, 'shows': 5720, 'shredder': 5721, 'shredders': 5722, 'shrimp': 5723, 'shutting': 5724, 'shy': 5725, 'sibling': 5726, 'side': 5727, 'sides': 5728, 'sign': 5729, 'signal': 5730, 'signals': 5731, 'signatory': 5732, 'signature': 5733, 'signatures': 5734, 'signed': 5735, 'significance': 5736, 'significant': 5737, 'significantly': 5738, 'signify': 5739, 'signing': 5740, 'silent': 5741, 'silk': 5742, 'silver': 5743, 'silverware': 5744, 'similar': 5745, 'simmered': 5746, 'simmering': 5747, 'simple': 5748, 'simpler': 5749, 'simply': 5750, 'simultaneously': 5751, 'since': 5752, 'sincere': 5753, 'sincerely': 5754, 'sing': 5755, 'single': 5756, 'sink': 5757, 'sir': 5758, 'sister': 5759, 'sit': 5760, 'site': 5761, 'sited': 5762, 'sites': 5763, 'sitting': 5764, 'situation': 5765, 'situations': 5766, 'six': 5767, 'sixth': 5768, 'sizable': 5769, 'size': 5770, 'sized': 5771, 'sizes': 5772, 'sketches': 5773, 'skill': 5774, 'skilled': 5775, 'skills': 5776, 'skin': 5777, 'skincare': 5778, 'skyline': 5779, 'skyrocket': 5780, 'sleep': 5781, 'sleeping': 5782, 'slept': 5783, 'slice': 5784, 'slide': 5785, 'slides': 5786, 'sliding': 5787, 'slightly': 5788, 'slip': 5789, 'slippers': 5790, 'slot': 5791, 'slots': 5792, 'slow': 5793, 'slurp': 5794, 'small': 5795, 'smaller': 5796, 'smallest': 5797, 'smart': 5798, 'smartphone': 5799, 'smartphones': 5800, 'smartwatches': 5801, 'smile': 5802, 'smoke': 5803, 'smooth': 5804, 'smoothly': 5805, 'snack': 5806, 'snacks': 5807, 'snap': 5808, 'sneakers': 5809, 'snob': 5810, 'snorkeling': 5811, 'so': 5812, 'soap': 5813, 'soaps': 5814, 'soaring': 5815, 'social': 5816, 'societal': 5817, 'socket': 5818, 'socks': 5819, 'sof': 5820, 'sofa': 5821, 'soft': 5822, 'software': 5823, 'softwares': 5824, 'soil': 5825, 'soju': 5826, 'sold': 5827, 'sole': 5828, 'solely': 5829, 'solid': 5830, 'solitary': 5831, 'solo': 5832, 'solution': 5833, 'solutions': 5834, 'solve': 5835, 'solving': 5836, 'some': 5837, 'somebody': 5838, 'someday': 5839, 'somehow': 5840, 'someone': 5841, 'something': 5842, 'sometime': 5843, 'sometimes': 5844, 'somewhere': 5845, 'son': 5846, 'song': 5847, 'songs': 5848, 'soon': 5849, 'sooner': 5850, 'sophisticated': 5851, 'sorry': 5852, 'sort': 5853, 'sorted': 5854, 'sorts': 5855, 'sound': 5856, 'soundbite': 5857, 'sounded': 5858, 'sounds': 5859, 'soundtrack': 5860, 'soup': 5861, 'source': 5862, 'sources': 5863, 'sous': 5864, 'southeast': 5865, 'souvenirs': 5866, 'soy': 5867, 'spa': 5868, 'space': 5869, 'spaces': 5870, 'spacious': 5871, 'spaghetti': 5872, 'spam': 5873, 'spare': 5874, 'spark': 5875, 'spas': 5876, 'speak': 5877, 'speaker': 5878, 'speakers': 5879, 'speaking': 5880, 'speaks': 5881, 'special': 5882, 'specialize': 5883, 'specialized': 5884, 'specializes': 5885, 'specialties': 5886, 'specialty': 5887, 'specific': 5888, 'specifically': 5889, 'specification': 5890, 'specifications': 5891, 'specifics': 5892, 'spectacular': 5893, 'spectrophotometer': 5894, 'spectrum': 5895, 'speed': 5896, 'speeds': 5897, 'spend': 5898, 'spending': 5899, 'spent': 5900, 'spices': 5901, 'spicy': 5902, 'spike': 5903, 'spinners': 5904, 'spinning': 5905, 'spiral': 5906, 'split': 5907, 'spoke': 5908, 'spoken': 5909, 'sponsor': 5910, 'sponsored': 5911, 'spoons': 5912, 'sports': 5913, 'spot': 5914, 'spots': 5915, 'spouse': 5916, 'sprained': 5917, 'spray': 5918, 'spread': 5919, 'spreader': 5920, 'spreading': 5921, 'spring': 5922, 'springs': 5923, 'sprout': 5924, 'sprouts': 5925, 'spyware': 5926, 'square': 5927, 'squeeze': 5928, 'squid': 5929, 'ssambap': 5930, 'ssamjang': 5931, 'st': 5932, 'stable': 5933, 'stacking': 5934, 'staff': 5935, 'staffs': 5936, 'stage': 5937, 'stages': 5938, 'staggered': 5939, 'stainless': 5940, 'stake': 5941, 'stalls': 5942, 'stand': 5943, 'standard': 5944, 'standards': 5945, 'standing': 5946, 'stands': 5947, 'star': 5948, 'starch': 5949, 'starred': 5950, 'stars': 5951, 'start': 5952, 'started': 5953, 'starters': 5954, 'starting': 5955, 'starts': 5956, 'startup': 5957, 'startups': 5958, 'state': 5959, 'stated': 5960, 'statement': 5961, 'statements': 5962, 'states': 5963, 'static': 5964, 'station': 5965, 'stationary': 5966, 'stationed': 5967, 'stations': 5968, 'statistics': 5969, 'statue': 5970, 'status': 5971, 'stay': 5972, 'stayed': 5973, 'staying': 5974, 'stays': 5975, 'steadier': 5976, 'steady': 5977, 'steak': 5978, 'steal': 5979, 'steamed': 5980, 'steamers': 5981, 'steel': 5982, 'steering': 5983, 'stems': 5984, 'step': 5985, 'stepped': 5986, 'steps': 5987, 'sterilizers': 5988, 'stew': 5989, 'stick': 5990, 'sticker': 5991, 'stickers': 5992, 'sticky': 5993, 'still': 5994, 'stipulated': 5995, 'stir': 5996, 'stitches': 5997, 'stock': 5998, 'stockbroker': 5999, 'stocks': 6000, 'stolen': 6001, 'stones': 6002, 'stop': 6003, 'stoppers': 6004, 'stops': 6005, 'storage': 6006, 'store': 6007, 'stored': 6008, 'stores': 6009, 'storey': 6010, 'stories': 6011, 'storm': 6012, 'story': 6013, 'stoves': 6014, 'straight': 6015, 'straighten': 6016, 'strain': 6017, 'strands': 6018, 'strange': 6019, 'strategic': 6020, 'strategies': 6021, 'strategize': 6022, 'strategy': 6023, 'straw': 6024, 'stream': 6025, 'streamed': 6026, 'streaming': 6027, 'street': 6028, 'strength': 6029, 'strengthen': 6030, 'stress': 6031, 'strict': 6032, 'strictly': 6033, 'strictness': 6034, 'strips': 6035, 'strive': 6036, 'striving': 6037, 'stroganoff': 6038, 'strong': 6039, 'stronger': 6040, 'strongly': 6041, 'structure': 6042, 'structures': 6043, 'struggle': 6044, 'stub': 6045, 'stuck': 6046, 'student': 6047, 'students': 6048, 'studied': 6049, 'studies': 6050, 'studio': 6051, 'study': 6052, 'studying': 6053, 'stuff': 6054, 'stumped': 6055, 'stunning': 6056, 'stupendous': 6057, 'stuttering': 6058, 'style': 6059, 'subcription': 6060, 'subdivision': 6061, 'submersible': 6062, 'submission': 6063, 'submissions': 6064, 'submit': 6065, 'submitted': 6066, 'subscribe': 6067, 'subscribed': 6068, 'subscriber': 6069, 'subscribers': 6070, 'subscribing': 6071, 'subscription': 6072, 'subscriptions': 6073, 'subsidiaries': 6074, 'subsidiary': 6075, 'substantial': 6076, 'subtitles': 6077, 'subway': 6078, 'succeed': 6079, 'succeeded': 6080, 'success': 6081, 'successful': 6082, 'succinctly': 6083, 'such': 6084, 'suction': 6085, 'sudden': 6086, 'suddenly': 6087, 'suffer': 6088, 'suffered': 6089, 'suffice': 6090, 'sufficient': 6091, 'sugar': 6092, 'suggest': 6093, 'suggested': 6094, 'suggesting': 6095, 'suggestion': 6096, 'suggestions': 6097, 'suit': 6098, 'suitable': 6099, 'suite': 6100, 'suites': 6101, 'sujeonggwa': 6102, 'sukju': 6103, 'sum': 6104, 'summary': 6105, 'summer': 6106, 'sun': 6107, 'sunrise': 6108, 'superintendent': 6109, 'superiors': 6110, 'supermarket': 6111, 'supervisor': 6112, 'supervisory': 6113, 'supplements': 6114, 'supplied': 6115, 'supplier': 6116, 'suppliers': 6117, 'supplies': 6118, 'supply': 6119, 'supplying': 6120, 'support': 6121, 'supporters': 6122, 'supporting': 6123, 'supportive': 6124, 'suppose': 6125, 'supposed': 6126, 'sure': 6127, 'surely': 6128, 'surface': 6129, 'surge': 6130, 'surpass': 6131, 'surplus': 6132, 'surprise': 6133, 'surprised': 6134, 'surround': 6135, 'surveillance': 6136, 'survey': 6137, 'surveyed': 6138, 'suspect': 6139, 'suspicious': 6140, 'sustainable': 6141, 'sweat': 6142, 'sweet': 6143, 'sweets': 6144, 'swift': 6145, 'swiftly': 6146, 'swimming': 6147, 'switch': 6148, 'switched': 6149, 'switching': 6150, 'symbols': 6151, 'symmetric': 6152, 'syndicated': 6153, 'synopsis': 6154, 'synthesizing': 6155, 'synthetic': 6156, 'syringes': 6157, 'system': 6158, 'systems': 6159, 't': 6160, 'tab': 6161, 'table': 6162, 'tables': 6163, 'tablet': 6164, 'tablets': 6165, 'tabulate': 6166, 'tackled': 6167, 'tactics': 6168, 'tagline': 6169, 'tags': 6170, 'tainted': 6171, 'take': 6172, 'taken': 6173, 'takeover': 6174, 'taker': 6175, 'takes': 6176, 'taking': 6177, 'talent': 6178, 'talents': 6179, 'talk': 6180, 'talked': 6181, 'talking': 6182, 'talks': 6183, 'tap': 6184, 'tape': 6185, 'taps': 6186, 'target': 6187, 'targeted': 6188, 'targeting': 6189, 'targets': 6190, 'tariff': 6191, 'tariffs': 6192, 'task': 6193, 'tasked': 6194, 'tasks': 6195, 'taste': 6196, 'tasted': 6197, 'tastes': 6198, 'tasty': 6199, 'tattoo': 6200, 'taught': 6201, 'tax': 6202, 'taxation': 6203, 'taxed': 6204, 'taxes': 6205, 'tea': 6206, 'teach': 6207, 'teacher': 6208, 'teachers': 6209, 'teaching': 6210, 'team': 6211, 'teammates': 6212, 'teams': 6213, 'teas': 6214, 'teaser': 6215, 'tech': 6216, 'technical': 6217, 'technically': 6218, 'technician': 6219, 'technicians': 6220, 'techniques': 6221, 'technological': 6222, 'technologies': 6223, 'technologist': 6224, 'technology': 6225, 'tedious': 6226, 'teenagers': 6227, 'telecommunication': 6228, 'telecommunications': 6229, 'teleconference': 6230, 'telephone': 6231, 'television': 6232, 'televisions': 6233, 'tell': 6234, 'telling': 6235, 'temperature': 6236, 'temperatures': 6237, 'template': 6238, 'templates': 6239, 'temple': 6240, 'temples': 6241, 'temporarily': 6242, 'temporary': 6243, 'ten': 6244, 'tenants': 6245, 'tend': 6246, 'tendency': 6247, 'tender': 6248, 'tent': 6249, 'tentative': 6250, 'tents': 6251, 'tenure': 6252, 'terabyte': 6253, 'terabytes': 6254, 'term': 6255, 'terminal': 6256, 'terminate': 6257, 'terms': 6258, 'terrace': 6259, 'terrible': 6260, 'terribly': 6261, 'test': 6262, 'tested': 6263, 'tester': 6264, 'testers': 6265, 'testing': 6266, 'tests': 6267, 'text': 6268, 'textbook': 6269, 'textbooks': 6270, 'textile': 6271, 'textiles': 6272, 'texts': 6273, 'texture': 6274, 'textures': 6275, 'th': 6276, 'than': 6277, 'thank': 6278, 'thanks': 6279, 'that': 6280, 'the': 6281, 'theater': 6282, 'their': 6283, 'theirs': 6284, 'them': 6285, 'theme': 6286, 'themes': 6287, 'themselves': 6288, 'then': 6289, 'therapy': 6290, 'there': 6291, 'thereby': 6292, 'therefore': 6293, 'thermoforming': 6294, 'thermoplastic': 6295, 'thermostat': 6296, 'these': 6297, 'they': 6298, 'thick': 6299, 'thickened': 6300, 'thin': 6301, 'thing': 6302, 'things': 6303, 'think': 6304, 'thinking': 6305, 'thinks': 6306, 'third': 6307, 'this': 6308, 'thorough': 6309, 'thoroughly': 6310, 'those': 6311, 'though': 6312, 'thought': 6313, 'thoughts': 6314, 'thousand': 6315, 'thousands': 6316, 'threads': 6317, 'threat': 6318, 'threaten': 6319, 'threatening': 6320, 'three': 6321, 'thriller': 6322, 'thrives': 6323, 'through': 6324, 'throughout': 6325, 'thus': 6326, 'ticket': 6327, 'tickets': 6328, 'tie': 6329, 'tied': 6330, 'tier': 6331, 'tight': 6332, 'tightly': 6333, 'till': 6334, 'time': 6335, 'timeline': 6336, 'timelines': 6337, 'timely': 6338, 'timer': 6339, 'times': 6340, 'timespan': 6341, 'timetable': 6342, 'timing': 6343, 'tiny': 6344, 'tip': 6345, 'tipping': 6346, 'tips': 6347, 'tire': 6348, 'tissue': 6349, 'title': 6350, 'to': 6351, 'toast': 6352, 'toasters': 6353, 'tobacco': 6354, 'today': 6355, 'toddlers': 6356, 'toe': 6357, 'together': 6358, 'toilet': 6359, 'token': 6360, 'tokens': 6361, 'told': 6362, 'tolerant': 6363, 'tolerated': 6364, 'tomorrow': 6365, 'ton': 6366, 'tone': 6367, 'toner': 6368, 'tones': 6369, 'tonight': 6370, 'too': 6371, 'took': 6372, 'tool': 6373, 'tools': 6374, 'top': 6375, 'topic': 6376, 'topics': 6377, 'topmost': 6378, 'torn': 6379, 'tortilla': 6380, 'total': 6381, 'totally': 6382, 'touch': 6383, 'touchscreen': 6384, 'tough': 6385, 'tour': 6386, 'tourism': 6387, 'tourist': 6388, 'tourists': 6389, 'tours': 6390, 'tow': 6391, 'toward': 6392, 'towards': 6393, 'towel': 6394, 'towels': 6395, 'town': 6396, 'townhouse': 6397, 'track': 6398, 'trackballs': 6399, 'tracking': 6400, 'trackpad': 6401, 'tractor': 6402, 'trade': 6403, 'trademark': 6404, 'trader': 6405, 'trades': 6406, 'trading': 6407, 'traditional': 6408, 'traditionally': 6409, 'traditions': 6410, 'traffic': 6411, 'trailer': 6412, 'trailers': 6413, 'train': 6414, 'training': 6415, 'trainings': 6416, 'trains': 6417, 'tranche': 6418, 'transact': 6419, 'transaction': 6420, 'transactions': 6421, 'transfer': 6422, 'transferred': 6423, 'transferring': 6424, 'transfers': 6425, 'translations': 6426, 'translators': 6427, 'transmission': 6428, 'transmit': 6429, 'transmitted': 6430, 'transparency': 6431, 'transport': 6432, 'transportation': 6433, 'transportations': 6434, 'trash': 6435, 'travel': 6436, 'traveled': 6437, 'travelers': 6438, 'traveling': 6439, 'travelled': 6440, 'tread': 6441, 'treat': 6442, 'treated': 6443, 'treatment': 6444, 'treatments': 6445, 'tremendously': 6446, 'trend': 6447, 'trending': 6448, 'trends': 6449, 'trendy': 6450, 'tri': 6451, 'trial': 6452, 'trials': 6453, 'tricky': 6454, 'tried': 6455, 'tries': 6456, 'trigger': 6457, 'trip': 6458, 'triple': 6459, 'trips': 6460, 'trouble': 6461, 'troubles': 6462, 'troubleshooting': 6463, 'truck': 6464, 'trucks': 6465, 'true': 6466, 'truly': 6467, 'trust': 6468, 'trusted': 6469, 'trustee': 6470, 'trusting': 6471, 'trustworthy': 6472, 'truth': 6473, 'try': 6474, 'trying': 6475, 'tteokbokki': 6476, 'tub': 6477, 'tube': 6478, 'tubes': 6479, 'tubing': 6480, 'tubs': 6481, 'tuned': 6482, 'tunnels': 6483, 'turn': 6484, 'turnaround': 6485, 'turned': 6486, 'turning': 6487, 'turnkey': 6488, 'turns': 6489, 'tutorials': 6490, 'tweaks': 6491, 'twenty': 6492, 'twice': 6493, 'twin': 6494, 'two': 6495, 'type': 6496, 'types': 6497, 'typewriter': 6498, 'typical': 6499, 'typically': 6500, 'ultimately': 6501, 'ultrasonic': 6502, 'ultrasound': 6503, 'umbrella': 6504, 'unable': 6505, 'unacceptable': 6506, 'unauthorized': 6507, 'unavailable': 6508, 'unaware': 6509, 'unboxed': 6510, 'unboxing': 6511, 'unbreakable': 6512, 'unchanged': 6513, 'uncomfortable': 6514, 'under': 6515, 'undergoing': 6516, 'underlying': 6517, 'underneath': 6518, 'underreported': 6519, 'understaffed': 6520, 'understand': 6521, 'understandable': 6522, 'understanding': 6523, 'undervalued': 6524, 'underwriting': 6525, 'undoubtedly': 6526, 'undress': 6527, 'unemployed': 6528, 'unending': 6529, 'unequal': 6530, 'unexpected': 6531, 'unfair': 6532, 'unfamiliar': 6533, 'unfold': 6534, 'unforeseen': 6535, 'unfortunate': 6536, 'unfortunately': 6537, 'unhappy': 6538, 'unintentional': 6539, 'unique': 6540, 'unit': 6541, 'units': 6542, 'unity': 6543, 'universal': 6544, 'universities': 6545, 'university': 6546, 'unless': 6547, 'unlike': 6548, 'unlimited': 6549, 'unloading': 6550, 'unnecessary': 6551, 'unpleasant': 6552, 'unpredictable': 6553, 'unprofessional': 6554, 'unquantifiable': 6555, 'unrealized': 6556, 'unsecured': 6557, 'unstable': 6558, 'unsure': 6559, 'unsustainable': 6560, 'until': 6561, 'untouched': 6562, 'unused': 6563, 'up': 6564, 'upcoming': 6565, 'update': 6566, 'updated': 6567, 'updates': 6568, 'updating': 6569, 'upfront': 6570, 'upgrade': 6571, 'upgraded': 6572, 'upgrades': 6573, 'upgrading': 6574, 'upkeep': 6575, 'upload': 6576, 'uploaded': 6577, 'uploading': 6578, 'upon': 6579, 'upper': 6580, 'ups': 6581, 'upset': 6582, 'urge': 6583, 'urged': 6584, 'urgent': 6585, 'urgently': 6586, 'us': 6587, 'usability': 6588, 'usage': 6589, 'use': 6590, 'used': 6591, 'useful': 6592, 'user': 6593, 'users': 6594, 'uses': 6595, 'using': 6596, 'usual': 6597, 'usually': 6598, 'utensils': 6599, 'utilities': 6600, 'utility': 6601, 'utilize': 6602, 'utilized': 6603, 'utilizing': 6604, 'vacation': 6605, 'vaccination': 6606, 'vaccine': 6607, 'vacuum': 6608, 'valid': 6609, 'validates': 6610, 'validating': 6611, 'validity': 6612, 'valuable': 6613, 'valuables': 6614, 'value': 6615, 'values': 6616, 'valve': 6617, 'valves': 6618, 'van': 6619, 'vans': 6620, 'variable': 6621, 'variables': 6622, 'variation': 6623, 'varies': 6624, 'varieties': 6625, 'variety': 6626, 'various': 6627, 'vary': 6628, 'varying': 6629, 've': 6630, 'vector': 6631, 'vectors': 6632, 'vegan': 6633, 'vegetable': 6634, 'vegetables': 6635, 'vegetarian': 6636, 'veggies': 6637, 'vehicle': 6638, 'vehicles': 6639, 'vending': 6640, 'vendor': 6641, 'vendors': 6642, 'venture': 6643, 'ventures': 6644, 'venturi': 6645, 'venturing': 6646, 'venue': 6647, 'verification': 6648, 'verified': 6649, 'verify': 6650, 'versatile': 6651, 'version': 6652, 'versions': 6653, 'very': 6654, 'veteran': 6655, 'via': 6656, 'viable': 6657, 'viand': 6658, 'vibes': 6659, 'vibrations': 6660, 'victim': 6661, 'vide': 6662, 'video': 6663, 'videoconferencing': 6664, 'videos': 6665, 'view': 6666, 'viewers': 6667, 'views': 6668, 'villa': 6669, 'village': 6670, 'villas': 6671, 'vine': 6672, 'vinegar': 6673, 'vintage': 6674, 'violated': 6675, 'violation': 6676, 'violent': 6677, 'viral': 6678, 'virtual': 6679, 'virtualization': 6680, 'virtually': 6681, 'virus': 6682, 'viruses': 6683, 'visas': 6684, 'viscosity': 6685, 'visibility': 6686, 'visible': 6687, 'vision': 6688, 'visit': 6689, 'visited': 6690, 'visiting': 6691, 'visitors': 6692, 'visits': 6693, 'visual': 6694, 'visualization': 6695, 'visualizations': 6696, 'visualize': 6697, 'visually': 6698, 'visuals': 6699, 'vital': 6700, 'vitals': 6701, 'vlog': 6702, 'vocabulary': 6703, 'voice': 6704, 'volatile': 6705, 'volume': 6706, 'voluminous': 6707, 'vulnerable': 6708, 'wafer': 6709, 'wage': 6710, 'wages': 6711, 'wait': 6712, 'waited': 6713, 'waiters': 6714, 'waiting': 6715, 'waive': 6716, 'waived': 6717, 'wake': 6718, 'walk': 6719, 'walking': 6720, 'wallet': 6721, 'wallpapers': 6722, 'walls': 6723, 'want': 6724, 'wanted': 6725, 'wanting': 6726, 'wants': 6727, 'warehouse': 6728, 'warm': 6729, 'warn': 6730, 'warning': 6731, 'warping': 6732, 'warrant': 6733, 'warrants': 6734, 'warranty': 6735, 'wary': 6736, 'was': 6737, 'washer': 6738, 'washers': 6739, 'wasn': 6740, 'waste': 6741, 'wasting': 6742, 'watch': 6743, 'watched': 6744, 'watching': 6745, 'water': 6746, 'watering': 6747, 'watermelon': 6748, 'waterproof': 6749, 'waterways': 6750, 'watts': 6751, 'way': 6752, 'ways': 6753, 'we': 6754, 'wealth': 6755, 'wealthy': 6756, 'wear': 6757, 'weather': 6758, 'web': 6759, 'webinar': 6760, 'webinars': 6761, 'webpage': 6762, 'website': 6763, 'websites': 6764, 'wedding': 6765, 'weddings': 6766, 'week': 6767, 'weekdays': 6768, 'weekend': 6769, 'weekends': 6770, 'weekly': 6771, 'weeks': 6772, 'weight': 6773, 'welcome': 6774, 'welcomes': 6775, 'well': 6776, 'went': 6777, 'were': 6778, 'weren': 6779, 'west': 6780, 'western': 6781, 'what': 6782, 'whatever': 6783, 'wheat': 6784, 'wheel': 6785, 'wheels': 6786, 'when': 6787, 'whenever': 6788, 'where': 6789, 'whereabouts': 6790, 'wherever': 6791, 'whether': 6792, 'which': 6793, 'while': 6794, 'white': 6795, 'who': 6796, 'whoever': 6797, 'whole': 6798, 'wholesale': 6799, 'whom': 6800, 'whose': 6801, 'why': 6802, 'wide': 6803, 'widely': 6804, 'widened': 6805, 'wider': 6806, 'widest': 6807, 'wife': 6808, 'wild': 6809, 'wildlife': 6810, 'will': 6811, 'willing': 6812, 'win': 6813, 'wind': 6814, 'window': 6815, 'windows': 6816, 'wine': 6817, 'wines': 6818, 'wing': 6819, 'winner': 6820, 'winter': 6821, 'wipe': 6822, 'wire': 6823, 'wired': 6824, 'wireless': 6825, 'wires': 6826, 'wise': 6827, 'wisely': 6828, 'wish': 6829, 'wished': 6830, 'wishes': 6831, 'with': 6832, 'withdraw': 6833, 'withdrawal': 6834, 'withhold': 6835, 'within': 6836, 'without': 6837, 'witness': 6838, 'women': 6839, 'won': 6840, 'wonder': 6841, 'wonderful': 6842, 'wondering': 6843, 'wonders': 6844, 'wood': 6845, 'word': 6846, 'words': 6847, 'work': 6848, 'worked': 6849, 'worker': 6850, 'workers': 6851, 'workforce': 6852, 'working': 6853, 'workplace': 6854, 'works': 6855, 'workshop': 6856, 'world': 6857, 'worldwide': 6858, 'worm': 6859, 'worms': 6860, 'worried': 6861, 'worries': 6862, 'worry': 6863, 'worrying': 6864, 'worse': 6865, 'worst': 6866, 'worth': 6867, 'worthwhile': 6868, 'worthy': 6869, 'would': 6870, 'wouldn': 6871, 'wow': 6872, 'wrap': 6873, 'wrapping': 6874, 'wraps': 6875, 'write': 6876, 'writers': 6877, 'writing': 6878, 'written': 6879, 'wrong': 6880, 'yacht': 6881, 'yang': 6882, 'yard': 6883, 'yarn': 6884, 'year': 6885, 'yearly': 6886, 'years': 6887, 'yell': 6888, 'yellow': 6889, 'yen': 6890, 'yes': 6891, 'yesterday': 6892, 'yet': 6893, 'yield': 6894, 'yields': 6895, 'yin': 6896, 'yo': 6897, 'you': 6898, 'young': 6899, 'youngsters': 6900, 'your': 6901, 'yours': 6902, 'yourself': 6903, 'yourselves': 6904, 'youth': 6905, 'yurt': 6906, 'zero': 6907, 'zones': 6908, 'zoom': 6909, 'é': 6910}\n",
            "{',': 1, '<EOS>': 2, '<SOS>': 3, 'A': 4, 'AAA': 5, 'AAA1@BBB1.com': 6, 'AAA@BBB.com': 7, 'ABCDE': 8, 'AI': 9, 'ANR': 10, 'ATM': 11, 'Associates': 12, 'B': 13, 'BBB': 14, 'BBB@email.com': 15, 'BSE': 16, 'Bank': 17, 'C': 18, 'CCTV': 19, 'CEO': 20, 'CFM': 21, 'CMS': 22, 'COVID': 23, 'CSS': 24, 'CT': 25, 'Company': 26, 'Corporation': 27, 'D': 28, 'DCA': 29, 'DVR': 30, 'Drive': 31, 'E': 32, 'EOB': 33, 'EPP': 34, 'ESG': 35, 'ETF': 36, 'EVA': 37, 'Enter': 38, 'Expo': 39, 'FFF': 40, 'FFFF': 41, 'FOMO': 42, 'Fair': 43, 'Fi': 44, 'Food': 45, 'Fu': 46, 'G': 47, 'GB': 48, 'GPS': 49, 'GVWR': 50, 'HDD': 51, 'HTML': 52, 'ID': 53, 'IP': 54, 'IPO': 55, 'IT': 56, 'IVR': 57, 'IaaS': 58, 'International': 59, 'IoT': 60, 'JLPT': 61, 'K': 62, 'Kabsat': 63, 'Korea': 64, 'LED': 65, 'Limited': 66, 'Locust': 67, 'M': 68, 'MAR': 69, 'MMS': 70, 'MOU': 71, 'Medical': 72, 'NFT': 73, 'NI': 74, 'NSE': 75, 'NTFS': 76, 'PDA': 77, 'PDF': 78, 'PPE': 79, 'PRO': 80, 'PSA': 81, 'PVP': 82, 'Precision': 83, 'Private': 84, 'QR': 85, 'RAM': 86, 'ROI': 87, 'RV': 88, 'SD': 89, 'SEO': 90, 'SIM': 91, 'SKU': 92, 'SNS': 93, 'SPV': 94, 'SSD': 95, 'SSL': 96, 'Salalah': 97, 'South': 98, 'TPU': 99, 'TV': 100, 'Touch': 101, 'UI': 102, 'UN': 103, 'USB': 104, 'VC': 105, 'VIP': 106, 'VPN': 107, 'VR': 108, 'VVIP': 109, 'View': 110, 'WIFI': 111, 'WTO': 112, 'Web': 113, 'Wi': 114, 'by': 115, 'car': 116, 'cm': 117, 'demat': 118, 'e': 119, 'found': 120, 'km': 121, 'm': 122, 'mm': 123, 'mmHg': 124, 'not': 125, 'pdf': 126, 'x': 127, '㎡': 128, '가': 129, '가게': 130, '가격': 131, '가격표': 132, '가공': 133, '가교': 134, '가구': 135, '가급적': 136, '가기': 137, '가까워지다': 138, '가까이': 139, '가깝다': 140, '가꾸다': 141, '가끔': 142, '가능': 143, '가능성': 144, '가능하다': 145, '가다': 146, '가닥': 147, '가득': 148, '가득하다': 149, '가든': 150, '가령': 151, '가로': 152, '가르다': 153, '가르치다': 154, '가리키다': 155, '가면': 156, '가미': 157, '가변': 158, '가볍다': 159, '가보다': 160, '가상': 161, '가상화': 162, '가세': 163, '가소성': 164, '가솔린': 165, '가스': 166, '가스나': 167, '가스레인지': 168, '가슴': 169, '가시': 170, '가야': 171, '가열': 172, '가옥': 173, '가요': 174, '가용성': 175, '가을': 176, '가의': 177, '가이드': 178, '가이드북': 179, '가입': 180, '가입자': 181, '가장': 182, '가전': 183, '가전제품': 184, '가정': 185, '가정식': 186, '가젯': 187, '가져가다': 188, '가져다주다': 189, '가져오다': 190, '가족': 191, '가지': 192, '가지다': 193, '가차': 194, '가치': 195, '가판': 196, '각': 197, '각각': 198, '각국': 199, '각도': 200, '각본': 201, '각서': 202, '각자': 203, '각종': 204, '간': 205, '간격': 206, '간결하다': 207, '간과': 208, '간극': 209, '간단하다': 210, '간략하다': 211, '간사': 212, '간은': 213, '간의': 214, '간이며': 215, '간장': 216, '간접비': 217, '간주': 218, '간행물': 219, '간호사': 220, '갇히다': 221, '갈다': 222, '갈래': 223, '갈비': 224, '갈아타다': 225, '감': 226, '감당': 227, '감독': 228, '감동': 229, '감명': 230, '감사': 231, '감사하다': 232, '감소': 233, '감수': 234, '감시': 235, '감싸다': 236, '감안': 237, '감염': 238, '감정': 239, '감지': 240, '갑자기': 241, '갑작스럽다': 242, '값': 243, '갓': 244, '강남': 245, '강남역': 246, '강도': 247, '강력하다': 248, '강릉': 249, '강세': 250, '강아지': 251, '강연': 252, '강의': 253, '강의실': 254, '강점': 255, '강제': 256, '강조': 257, '강좌': 258, '강철': 259, '강하다': 260, '강화하다': 261, '갖다': 262, '갖추다': 263, '같다': 264, '같이': 265, '갚다': 266, '개': 267, '개구': 268, '개국': 269, '개념': 270, '개다': 271, '개도': 272, '개발': 273, '개발자': 274, '개방': 275, '개별': 276, '개봉': 277, '개선': 278, '개설': 279, '개시': 280, '개업': 281, '개요': 282, '개월': 283, '개월치': 284, '개인': 285, '개인실': 286, '개인정보': 287, '개인화': 288, '개입': 289, '개정': 290, '개조': 291, '개척': 292, '개체': 293, '개최': 294, '개회': 295, '객': 296, '객관': 297, '객실': 298, '갱신': 299, '거': 300, '거고': 301, '거기': 302, '거나': 303, '거대하다': 304, '거도': 305, '거들다': 306, '거뜬하다': 307, '거란': 308, '거래': 309, '거래소': 310, '거래처': 311, '거론': 312, '거리': 313, '거버넌스': 314, '거부': 315, '거셨나': 316, '거슬러': 317, '거신': 318, '거실': 319, '거야': 320, '거의': 321, '거절': 322, '거점': 323, '거주': 324, '거주지': 325, '거처': 326, '거치다': 327, '거품': 328, '걱정': 329, '걱정거리': 330, '건': 331, '건가': 332, '건강': 333, '건강하다': 334, '건너다': 335, '건너편': 336, '건네주다': 337, '건대': 338, '건물': 339, '건배': 340, '건설': 341, '건설업': 342, '건의': 343, '건조기': 344, '건지다': 345, '건축': 346, '건축물': 347, '걸': 348, '걸다': 349, '걸리다': 350, '걸음걸이': 351, '걸쭉하다': 352, '걸치다': 353, '검': 354, '검다': 355, '검사': 356, '검색': 357, '검수': 358, '검안': 359, '검은색': 360, '검증': 361, '검토': 362, '겁': 363, '겁니다': 364, '것': 365, '것이므': 366, '것입': 367, '게': 368, '게다가': 369, '게스트': 370, '게스트하우스': 371, '게시': 372, '게시판': 373, '게으르다': 374, '게이': 375, '게이트': 376, '게임': 377, '게장': 378, '게재': 379, '겠다': 380, '겨울': 381, '겨울철': 382, '격려': 383, '격식': 384, '격자': 385, '겪다': 386, '견과류': 387, '견본': 388, '견인차': 389, '견적': 390, '견학': 391, '결과': 392, '결국': 393, '결기': 394, '결론': 395, '결절': 396, '결정': 397, '결제': 398, '결코': 399, '결함': 400, '결합': 401, '결혼': 402, '결혼식': 403, '경': 404, '경고': 405, '경과': 406, '경기도': 407, '경량': 408, '경력': 409, '경로': 410, '경보': 411, '경비원': 412, '경시': 413, '경영': 414, '경우': 415, '경의': 416, '경작': 417, '경쟁': 418, '경쟁력': 419, '경쟁자': 420, '경제': 421, '경청': 422, '경치': 423, '경품': 424, '경향': 425, '경험': 426, '곁들이다': 427, '계': 428, '계란': 429, '계란빵': 430, '계란찜': 431, '계산': 432, '계산서': 433, '계세': 434, '계속': 435, '계시': 436, '계시다': 437, '계약': 438, '계약금': 439, '계약서': 440, '계열': 441, '계절': 442, '계정': 443, '계정은': 444, '계좌': 445, '계층': 446, '계획': 447, '고': 448, '고가': 449, '고개': 450, '고객': 451, '고구마': 452, '고귀하다': 453, '고급': 454, '고급스럽다': 455, '고기': 456, '고대': 457, '고도': 458, '고등어': 459, '고려': 460, '고려인삼': 461, '고르다': 462, '고맙다': 463, '고문': 464, '고민': 465, '고소하다': 466, '고속': 467, '고압': 468, '고양이': 469, '고여': 470, '고요': 471, '고용': 472, '고용주': 473, '고위': 474, '고유': 475, '고장': 476, '고정': 477, '고정기': 478, '고집': 479, '고추장': 480, '고치다': 481, '고통': 482, '고프다': 483, '고향': 484, '고화질': 485, '곡': 486, '곡물': 487, '곤경': 488, '곤혹': 489, '곧': 490, '곧다': 491, '골드': 492, '골프': 493, '곰팡이': 494, '곱': 495, '곳': 496, '곳곳': 497, '곳도': 498, '공': 499, '공간': 500, '공감': 501, '공개': 502, '공격': 503, '공공': 504, '공과금': 505, '공급': 506, '공기': 507, '공기업': 508, '공동': 509, '공동체': 510, '공략': 511, '공모': 512, '공백': 513, '공부': 514, '공사': 515, '공식': 516, '공압': 517, '공연': 518, '공용': 519, '공유': 520, '공인': 521, '공자': 522, '공장': 523, '공정': 524, '공정하다': 525, '공제': 526, '공지': 527, '공짜': 528, '공통': 529, '공통점': 530, '공학': 531, '공함': 532, '공항': 533, '과': 534, '과감': 535, '과거': 536, '과대': 537, '과세': 538, '과소': 539, '과실': 540, '과업': 541, '과일': 542, '과자': 543, '과장': 544, '과정': 545, '과제': 546, '과학': 547, '과학자': 548, '관': 549, '관계': 550, '관계없이': 551, '관광': 552, '관광객': 553, '관광지': 554, '관대하다': 555, '관련': 556, '관리': 557, '관리자': 558, '관세': 559, '관세청': 560, '관습': 561, '관심': 562, '관심사': 563, '관용': 564, '관점': 565, '관찰': 566, '관할': 567, '관해': 568, '관행': 569, '괌': 570, '광': 571, '광고': 572, '광대역': 573, '광도': 574, '광범위하다': 575, '광석': 576, '광택': 577, '괜': 578, '괜찮다': 579, '괴롭히다': 580, '굉장하다': 581, '교대': 582, '교류': 583, '교사': 584, '교수': 585, '교실': 586, '교육': 587, '교재': 588, '교직원': 589, '교체': 590, '교통': 591, '교환': 592, '교환학생': 593, '교훈': 594, '구': 595, '구가': 596, '구경': 597, '구독': 598, '구독료': 599, '구동': 600, '구름': 601, '구매': 602, '구별': 603, '구비': 604, '구상': 605, '구석구석': 606, '구성': 607, '구역': 608, '구이': 609, '구입': 610, '구절판': 611, '구조': 612, '구조원': 613, '구체': 614, '구축': 615, '구축함': 616, '구현': 617, '구형': 618, '국': 619, '국가': 620, '국경': 621, '국내': 622, '국내선': 623, '국내외': 624, '국물': 625, '국법': 626, '국수': 627, '국적': 628, '국제': 629, '국제공항': 630, '국한': 631, '군': 632, '군데': 633, '굴삭기': 634, '굴착기': 635, '굵다': 636, '굽다': 637, '궁궐': 638, '궁극': 639, '궁금하다': 640, '권': 641, '권리': 642, '권장': 643, '권하다': 644, '권한': 645, '귀': 646, '귀국': 647, '귀사': 648, '귀중': 649, '귀중하다': 650, '귀하': 651, '귀하다': 652, '규모': 653, '규정': 654, '규제': 655, '규칙': 656, '균열': 657, '균형': 658, '그': 659, '그거': 660, '그건': 661, '그걸': 662, '그걿': 663, '그것': 664, '그게': 665, '그날': 666, '그냥': 667, '그녀': 668, '그늘': 669, '그다음': 670, '그대로': 671, '그동안': 672, '그때': 673, '그땐': 674, '그라브락스': 675, '그래도': 676, '그래서': 677, '그래프': 678, '그래픽': 679, '그랬는데': 680, '그랬더니': 681, '그러나': 682, '그러니까': 683, '그러면': 684, '그러므로': 685, '그러하다': 686, '그런데': 687, '그렇게': 688, '그렇다': 689, '그렇다고': 690, '그렇지만': 691, '그룹': 692, '그릇': 693, '그리고': 694, '그리다': 695, '그리스': 696, '그린': 697, '그릴': 698, '그림': 699, '그만하다': 700, '그저': 701, '그중': 702, '극구': 703, '극복': 704, '극장': 705, '극적': 706, '근거': 707, '근데': 708, '근로자': 709, '근무': 710, '근원': 711, '근접하다': 712, '근처': 713, '글': 714, '글꼴': 715, '글로벌': 716, '글루텐': 717, '글쎄': 718, '글쎄요': 719, '글씨': 720, '금': 721, '금기': 722, '금년': 723, '금리': 724, '금색': 725, '금속': 726, '금액': 727, '금요일': 728, '금융': 729, '금융감독원': 730, '금은': 731, '금전': 732, '금제': 733, '금지': 734, '급': 735, '급등': 736, '급성': 737, '급여': 738, '급우': 739, '급증': 740, '급하다': 741, '긍정': 742, '기': 743, '기가바이트': 744, '기간': 745, '기계': 746, '기공식': 747, '기관': 748, '기구': 749, '기금': 750, '기기': 751, '기꺼이': 752, '기념': 753, '기념일': 754, '기능': 755, '기다': 756, '기다리다': 757, '기대': 758, '기대하다': 759, '기도': 760, '기둥': 761, '기록': 762, '기르다': 763, '기밀': 764, '기반': 765, '기본': 766, '기부': 767, '기분': 768, '기쁘다': 769, '기사': 770, '기숙사': 771, '기술': 772, '기술자': 773, '기어': 774, '기억': 775, '기억나다': 776, '기업': 777, '기업가': 778, '기업은행': 779, '기업인': 780, '기에': 781, '기여': 782, '기온': 783, '기와': 784, '기울이다': 785, '기원': 786, '기입': 787, '기자': 788, '기재': 789, '기적': 790, '기존': 791, '기준': 792, '기중기': 793, '기차': 794, '기차역': 795, '기차표': 796, '기초': 797, '기타': 798, '기표': 799, '기한': 800, '기호': 801, '기혼': 802, '기회': 803, '기획': 804, '기후변화': 805, '긴급': 806, '긴급하다': 807, '긴밀하다': 808, '길': 809, '길다': 810, '길어지다': 811, '길이': 812, '김': 813, '김밥': 814, '김치': 815, '김치볶음밥': 816, '깊다': 817, '깊이': 818, '까다롭다': 819, '까맣다': 820, '까지': 821, '까지의': 822, '깔끔하다': 823, '깔리다': 824, '깜박이다': 825, '깜빡': 826, '깜짝': 827, '깨끗하다': 828, '깨다': 829, '깨우치다': 830, '깨지다': 831, '깻잎': 832, '꺼내다': 833, '꺼지다': 834, '꼭': 835, '꼼꼼하다': 836, '꽉': 837, '꽤': 838, '꾸미다': 839, '꾸준하다': 840, '꿀': 841, '꿈': 842, '꿰매다': 843, '끄다': 844, '끊다': 845, '끌': 846, '끌다': 847, '끌리다': 848, '끓는점': 849, '끓다': 850, '끓이다': 851, '끔찍하다': 852, '끝': 853, '끝나다': 854, '끝내기': 855, '끝내다': 856, '끼치다': 857, '나': 858, '나가다': 859, '나나': 860, '나누다': 861, '나뉘다': 862, '나다': 863, '나라': 864, '나르다': 865, '나머지': 866, '나무': 867, '나빠지다': 868, '나쁘다': 869, '나사': 870, '나서다': 871, '나아': 872, '나아가다': 873, '나아지다': 874, '나열': 875, '나오다': 876, '나은': 877, '나은지': 878, '나이': 879, '나이라': 880, '나이지리아': 881, '나이트클럽': 882, '나일론': 883, '나중': 884, '나타나다': 885, '나타내다': 886, '나흘': 887, '난': 888, '난방': 889, '난이도': 890, '날': 891, '날리다': 892, '날씨': 893, '날아가다': 894, '날짜': 895, '날카로워지다': 896, '남기다': 897, '남다': 898, '남동쪽': 899, '남미': 900, '남성': 901, '남아': 902, '남아시아': 903, '남용': 904, '남지': 905, '남편': 906, '납부': 907, '납품': 908, '낫': 909, '낫다': 910, '낭비': 911, '낭비하다': 912, '낮다': 913, '낮아지다': 914, '낮잠': 915, '낮추다': 916, '낯설다': 917, '내': 918, '내기': 919, '내내': 920, '내년': 921, '내놓다': 922, '내다': 923, '내려가다': 924, '내려오다': 925, '내리다': 926, '내면': 927, '내미다': 928, '내부': 929, '내시': 930, '내야': 931, '내연': 932, '내용': 933, '내일': 934, '내장': 935, '내주다': 936, '내지': 937, '낸싱': 938, '낼': 939, '냄비': 940, '냅킨': 941, '냉각': 942, '냉동고': 943, '냉면': 944, '냉장': 945, '너': 946, '너무': 947, '너무나': 948, '너무하다': 949, '너비': 950, '너희': 951, '널': 952, '널리': 953, '넓다': 954, '넓히다': 955, '넘기다': 956, '넘다': 957, '넘버': 958, '넘어가다': 959, '넘어서다': 960, '넘어지다': 961, '넘치다': 962, '넣기': 963, '넣다': 964, '네': 965, '네가지': 966, '네트워크': 967, '네트워킹': 968, '넷째': 969, '년': 970, '노': 971, '노고': 972, '노동자': 973, '노란색': 974, '노래': 975, '노래방': 976, '노력': 977, '노인': 978, '노점': 979, '노출': 980, '노트북': 981, '노프': 982, '녹색': 983, '녹음': 984, '녹이다': 985, '녹차': 986, '녹화': 987, '논란': 988, '논문': 989, '논의': 990, '논픽션': 991, '놀': 992, '놀라다': 993, '놀랍다': 994, '놀이터': 995, '농': 996, '농기': 997, '농기구': 998, '농담': 999, '농부': 1000, '농어': 1001, '농업': 1002, '농작물': 1003, '높다': 1004, '높아지다': 1005, '높이': 1006, '높이다': 1007, '놓다': 1008, '놓이다': 1009, '놓치다': 1010, '뇌파': 1011, '누가': 1012, '누구': 1013, '누구신지': 1014, '누군가': 1015, '누군지': 1016, '누락': 1017, '누르다': 1018, '누리': 1019, '누리다': 1020, '누수': 1021, '눈': 1022, '눌릴': 1023, '뉴스': 1024, '뉴스레터': 1025, '뉴욕': 1026, '뉴질랜드': 1027, '느껴지다': 1028, '느끼다': 1029, '느낌': 1030, '느리다': 1031, '느슨하다': 1032, '늘': 1033, '늘다': 1034, '늘리다': 1035, '늘어나다': 1036, '늙다': 1037, '능력': 1038, '늦': 1039, '늦다': 1040, '늦어지다': 1041, '니': 1042, '님': 1043, '다': 1044, '다가': 1045, '다가가다': 1046, '다가오다': 1047, '다국적': 1048, '다녀오다': 1049, '다년': 1050, '다니다': 1051, '다단계': 1052, '다도': 1053, '다듬다': 1054, '다량': 1055, '다루다': 1056, '다루어지다': 1057, '다르다': 1058, '다른': 1059, '다리미': 1060, '다만': 1061, '다섯': 1062, '다섯째': 1063, '다소': 1064, '다시': 1065, '다시다': 1066, '다양성': 1067, '다양하다': 1068, '다용': 1069, '다운': 1070, '다운로드': 1071, '다음': 1072, '다음주': 1073, '다이닝': 1074, '다인': 1075, '다채로웠으': 1076, '다큐멘터리': 1077, '다해': 1078, '다행': 1079, '다행하다': 1080, '단': 1081, '단가': 1082, '단거리': 1083, '단계': 1084, '단골': 1085, '단기': 1086, '단기간': 1087, '단단하다': 1088, '단독': 1089, '단돈': 1090, '단말기': 1091, '단백질': 1092, '단순하다': 1093, '단어': 1094, '단열': 1095, '단위': 1096, '단일': 1097, '단점': 1098, '단정하다': 1099, '단지': 1100, '단체': 1101, '단편': 1102, '단합': 1103, '닫다': 1104, '달': 1105, '달다': 1106, '달라': 1107, '달라지다': 1108, '달러': 1109, '달리': 1110, '달리다': 1111, '달성': 1112, '달이': 1113, '달콤하다': 1114, '닭': 1115, '닭고기': 1116, '닭발': 1117, '담': 1118, '담그다': 1119, '담기다': 1120, '담다': 1121, '담당': 1122, '담당자': 1123, '담배': 1124, '담백하다': 1125, '담보': 1126, '답': 1127, '답니': 1128, '답답하다': 1129, '답변': 1130, '답장': 1131, '답지': 1132, '당': 1133, '당국': 1134, '당근': 1135, '당분간': 1136, '당사': 1137, '당사자': 1138, '당시': 1139, '당신': 1140, '당연하다': 1141, '당일': 1142, '당장': 1143, '당하다': 1144, '당황': 1145, '대': 1146, '대가': 1147, '대고': 1148, '대구': 1149, '대규모': 1150, '대금': 1151, '대기': 1152, '대기업': 1153, '대나무': 1154, '대다': 1155, '대다수': 1156, '대단하다': 1157, '대답': 1158, '대략': 1159, '대량': 1160, '대로': 1161, '대륙': 1162, '대리인': 1163, '대리점': 1164, '대만': 1165, '대박': 1166, '대본': 1167, '대부분': 1168, '대비': 1169, '대상': 1170, '대상자': 1171, '대신': 1172, '대안': 1173, '대야': 1174, '대여': 1175, '대역': 1176, '대역폭': 1177, '대요': 1178, '대유행': 1179, '대응': 1180, '대의': 1181, '대입': 1182, '대적': 1183, '대접': 1184, '대중': 1185, '대지': 1186, '대책': 1187, '대처': 1188, '대체': 1189, '대출': 1190, '대출받다': 1191, '대충': 1192, '대치': 1193, '대칭': 1194, '대통령': 1195, '대폭': 1196, '대표': 1197, '대피소': 1198, '대학': 1199, '대학교': 1200, '대한': 1201, '대한민국': 1202, '대해': 1203, '대행': 1204, '대형': 1205, '대화': 1206, '댓글': 1207, '더': 1208, '더듬다': 1209, '더디다': 1210, '더라도': 1211, '더블': 1212, '더욱': 1213, '더위': 1214, '더하다': 1215, '덕분': 1216, '덜': 1217, '덜다': 1218, '덤프': 1219, '덤프트럭': 1220, '덥다': 1221, '덧붙이다': 1222, '덩굴': 1223, '데': 1224, '데도': 1225, '데려가다': 1226, '데려오다': 1227, '데리': 1228, '데리다': 1229, '데모': 1230, '데뷔': 1231, '데스크': 1232, '데스크탑': 1233, '데우다': 1234, '데이터': 1235, '데이터베이스': 1236, '데이트': 1237, '데코': 1238, '데크': 1239, '덴마크': 1240, '도': 1241, '도구': 1242, '도넛': 1243, '도달': 1244, '도대체': 1245, '도로': 1246, '도록': 1247, '도르다': 1248, '도매': 1249, '도메인': 1250, '도서관': 1251, '도시': 1252, '도시락': 1253, '도안': 1254, '도어': 1255, '도와주다': 1256, '도용': 1257, '도우': 1258, '도우미': 1259, '도울': 1260, '도움': 1261, '도움말': 1262, '도입': 1263, '도전': 1264, '도착': 1265, '도체': 1266, '도쿄': 1267, '독립': 1268, '독방': 1269, '독일': 1270, '독자': 1271, '독점': 1272, '독촉': 1273, '독특하다': 1274, '돈': 1275, '돈벌이': 1276, '돋보이다': 1277, '돌려주다': 1278, '돌리다': 1279, '돌보다': 1280, '돌아가다': 1281, '돌아오다': 1282, '돌잔치': 1283, '돌파': 1284, '돔': 1285, '돕기': 1286, '돕다': 1287, '동': 1288, '동감': 1289, '동거': 1290, '동기': 1291, '동남아시아': 1292, '동네': 1293, '동등': 1294, '동료': 1295, '동물': 1296, '동물성': 1297, '동반': 1298, '동부': 1299, '동생': 1300, '동시': 1301, '동안': 1302, '동양': 1303, '동영상': 1304, '동의': 1305, '동인': 1306, '동일': 1307, '동일시': 1308, '동일하다': 1309, '동전': 1310, '동참': 1311, '동행': 1312, '동향': 1313, '돼다': 1314, '돼지': 1315, '돼지고기': 1316, '되게': 1317, '되다': 1318, '되돌리다': 1319, '되어다': 1320, '되찾다': 1321, '두': 1322, '두기': 1323, '두껍다': 1324, '두다': 1325, '두드리다': 1326, '두렵다': 1327, '두시': 1328, '두운': 1329, '둘': 1330, '둘러보다': 1331, '둘러싸다': 1332, '둘째': 1333, '뒤': 1334, '뒷': 1335, '뒷마당': 1336, '뒷받침': 1337, '듀얼': 1338, '드': 1339, '드나': 1340, '드디어': 1341, '드라마': 1342, '드라이브': 1343, '드러나다': 1344, '드럼': 1345, '드레스': 1346, '드레싱': 1347, '드로잉': 1348, '드리다': 1349, '드릴': 1350, '듣기': 1351, '듣다': 1352, '들': 1353, '들다': 1354, '들뜨다': 1355, '들려주다': 1356, '들르다': 1357, '들리다': 1358, '들어가다': 1359, '들어서다': 1360, '들어오다': 1361, '들어주다': 1362, '들이다': 1363, '듭': 1364, '듭니': 1365, '등': 1366, '등급': 1367, '등등': 1368, '등록': 1369, '등록증': 1370, '등본': 1371, '등장': 1372, '디네': 1373, '디럭스': 1374, '디바이스': 1375, '디스크': 1376, '디스플레이': 1377, '디시': 1378, '디자이너': 1379, '디자인': 1380, '디저스터': 1381, '디저트': 1382, '디젤': 1383, '디지털': 1384, '디지털로': 1385, '딜러': 1386, '딥': 1387, '딩기': 1388, '따내다': 1389, '따뜻하다': 1390, '따라가다': 1391, '따라서': 1392, '따라오다': 1393, '따로': 1394, '따르다': 1395, '딱': 1396, '딱이다': 1397, '딸리다': 1398, '땀': 1399, '때': 1400, '때때로': 1401, '때로는': 1402, '때문': 1403, '떠나다': 1404, '떠오르다': 1405, '떡': 1406, '떡볶이': 1407, '떨다': 1408, '떨어뜨리다': 1409, '떨어지다': 1410, '또': 1411, '또는': 1412, '또래': 1413, '또한': 1414, '똑같다': 1415, '똑똑하다': 1416, '똑바로': 1417, '뚜렷하다': 1418, '뛰어나다': 1419, '뛰어들다': 1420, '뜨개질': 1421, '뜨다': 1422, '뜰': 1423, '뜻': 1424, '뜻입': 1425, '띄다': 1426, '라디오': 1427, '라면': 1428, '라발': 1429, '라서': 1430, '라우터': 1431, '라운드': 1432, '라운지': 1433, '라이': 1434, '라이브': 1435, '라이브러리': 1436, '라이선스': 1437, '라이센스': 1438, '라이트': 1439, '라이트닝': 1440, '라이프스타일': 1441, '라인': 1442, '라인업': 1443, '란': 1444, '랍니': 1445, '래야': 1446, '랙티브': 1447, '랜드': 1448, '랩': 1449, '랩톱': 1450, '량': 1451, '러': 1452, '러너': 1453, '러닝': 1454, '러시': 1455, '럭셔리': 1456, '런가': 1457, '런던': 1458, '런칭': 1459, '레드': 1460, '레벨': 1461, '레스토랑': 1462, '레시피': 1463, '레어': 1464, '레이': 1465, '레이블': 1466, '레이아웃': 1467, '레인': 1468, '레지스트리': 1469, '레코드': 1470, '레크리에이션': 1471, '레터': 1472, '렌더링': 1473, '렌즈': 1474, '렌탈': 1475, '렌터카': 1476, '렌틸': 1477, '려고': 1478, '려면': 1479, '력': 1480, '령': 1481, '로': 1482, '로고': 1483, '로그': 1484, '로그아웃': 1485, '로그온': 1486, '로그인': 1487, '로더': 1488, '로드': 1489, '로드맵': 1490, '로만': 1491, '로봇': 1492, '로부터': 1493, '로비': 1494, '로서': 1495, '로열티': 1496, '로터리': 1497, '로트': 1498, '록': 1499, '론': 1500, '론칭': 1501, '롤': 1502, '롤러': 1503, '롤플레잉': 1504, '롭': 1505, '료': 1506, '루프': 1507, '룸': 1508, '룸메이트': 1509, '룸서비스': 1510, '룸셰어': 1511, '륜': 1512, '률': 1513, '를': 1514, '리': 1515, '리가': 1516, '리기': 1517, '리뉴얼': 1518, '리더': 1519, '리드': 1520, '리디렉션': 1521, '리버풀': 1522, '리뷰': 1523, '리셉션': 1524, '리소스': 1525, '리스크': 1526, '리스트': 1527, '리조트': 1528, '리지': 1529, '리캐': 1530, '리커버리': 1531, '리테일': 1532, '리퍼': 1533, '리프트': 1534, '리허설': 1535, '린다': 1536, '릴': 1537, '링': 1538, '링스': 1539, '링크': 1540, '마': 1541, '마감': 1542, '마개': 1543, '마늘': 1544, '마닐라': 1545, '마다': 1546, '마당': 1547, '마드리드': 1548, '마땅치': 1549, '마력': 1550, '마련': 1551, '마리': 1552, '마무리': 1553, '마법': 1554, '마사지': 1555, '마스코트': 1556, '마스크': 1557, '마스터': 1558, '마시기': 1559, '마시다': 1560, '마우스': 1561, '마을': 1562, '마음': 1563, '마이너스': 1564, '마이크': 1565, '마인더': 1566, '마인드': 1567, '마중': 1568, '마지막': 1569, '마차': 1570, '마찬가지': 1571, '마치다': 1572, '마침': 1573, '마침내': 1574, '마케터': 1575, '마케터입니': 1576, '마케팅': 1577, '마포구': 1578, '막': 1579, '막걸리': 1580, '막다': 1581, '막대': 1582, '막히다': 1583, '만': 1584, '만기': 1585, '만기일': 1586, '만나다': 1587, '만난': 1588, '만날': 1589, '만도': 1590, '만두': 1591, '만드나': 1592, '만들기': 1593, '만들다': 1594, '만들어지다': 1595, '만듭니': 1596, '만료': 1597, '만약': 1598, '만이': 1599, '만일': 1600, '만족': 1601, '만족스럽다': 1602, '만족하다': 1603, '만찬': 1604, '만큼': 1605, '만화': 1606, '만회': 1607, '많다': 1608, '많아지다': 1609, '많이': 1610, '말': 1611, '말다': 1612, '말레이시아': 1613, '말씀': 1614, '말씀드리다': 1615, '맙소사': 1616, '맛': 1617, '맛보다': 1618, '맛있다': 1619, '맛집': 1620, '맜있는': 1621, '망치다': 1622, '맞다': 1623, '맞서다': 1624, '맞추다': 1625, '맞춤': 1626, '맡기다': 1627, '맡다': 1628, '매': 1629, '매각': 1630, '매끄럽다': 1631, '매너': 1632, '매년': 1633, '매니저': 1634, '매다': 1635, '매달': 1636, '매도': 1637, '매력': 1638, '매료': 1639, '매매': 1640, '매물': 1641, '매번': 1642, '매수': 1643, '매우': 1644, '매월': 1645, '매일': 1646, '매입': 1647, '매장': 1648, '매점': 1649, '매주': 1650, '매진': 1651, '매체': 1652, '매출': 1653, '매치': 1654, '매크로': 1655, '매트': 1656, '매트리스': 1657, '매핑': 1658, '맥락': 1659, '맥주': 1660, '맨': 1661, '맬웨어': 1662, '맵': 1663, '맵다': 1664, '맵핑': 1665, '맺다': 1666, '머': 1667, '머드': 1668, '머리': 1669, '머무르다': 1670, '머물다': 1671, '머신': 1672, '먹기': 1673, '먹다': 1674, '먹방': 1675, '먹이': 1676, '먼저': 1677, '먼지': 1678, '멀다': 1679, '멀리': 1680, '멈추다': 1681, '멋지다': 1682, '멎다': 1683, '메가바이트': 1684, '메가비트': 1685, '메뉴': 1686, '메뉴판': 1687, '메모': 1688, '메시': 1689, '메시지': 1690, '메이커': 1691, '메이크업': 1692, '메인': 1693, '메일': 1694, '메커니즘': 1695, '메타': 1696, '멜론': 1697, '멤버': 1698, '멤버십': 1699, '며칠': 1700, '면': 1701, '면역': 1702, '면적': 1703, '면접': 1704, '면제': 1705, '면직물': 1706, '면책': 1707, '면허': 1708, '면허증': 1709, '명': 1710, '명과': 1711, '명당': 1712, '명령': 1713, '명백하다': 1714, '명분': 1715, '명상': 1716, '명세서': 1717, '명시': 1718, '명의': 1719, '명인': 1720, '명칭': 1721, '명품': 1722, '명함': 1723, '명확하다': 1724, '몇': 1725, '몇대': 1726, '몇몇': 1727, '모': 1728, '모국': 1729, '모국어': 1730, '모금': 1731, '모기': 1732, '모기지': 1733, '모기지론': 1734, '모니터': 1735, '모니터링': 1736, '모델': 1737, '모뎀': 1738, '모두': 1739, '모듈': 1740, '모드': 1741, '모든': 1742, '모레': 1743, '모르다': 1744, '모르타르': 1745, '모바일': 1746, '모범': 1747, '모색': 1748, '모서리': 1749, '모습': 1750, '모시': 1751, '모시다': 1752, '모양': 1753, '모욕': 1754, '모으다': 1755, '모의고사': 1756, '모이다': 1757, '모임': 1758, '모자': 1759, '모터': 1760, '모터보트': 1761, '모텔': 1762, '모티브': 1763, '모험': 1764, '모형': 1765, '목걸이': 1766, '목격': 1767, '목록': 1768, '목별': 1769, '목소리': 1770, '목요일': 1771, '목욕': 1772, '목욕탕': 1773, '목적': 1774, '목적지': 1775, '목표': 1776, '몫': 1777, '몬순': 1778, '몰다': 1779, '몰두하다': 1780, '몰이': 1781, '몸': 1782, '못': 1783, '묘목': 1784, '무': 1785, '무겁다': 1786, '무게': 1787, '무너지다': 1788, '무늬': 1789, '무대': 1790, '무드': 1791, '무례하다': 1792, '무료': 1793, '무리': 1794, '무사하다': 1795, '무선': 1796, '무섭다': 1797, '무슨': 1798, '무시': 1799, '무언가': 1800, '무엇': 1801, '무었': 1802, '무역': 1803, '무역수지': 1804, '무용': 1805, '무의미하다': 1806, '무작위': 1807, '무제한': 1808, '무중력': 1809, '무지': 1810, '묵': 1811, '묵고': 1812, '묵다': 1813, '묵시': 1814, '묶음': 1815, '문': 1816, '문득': 1817, '문법': 1818, '문서': 1819, '문신': 1820, '문의': 1821, '문의사항': 1822, '문자': 1823, '문제': 1824, '문제점': 1825, '문하': 1826, '문화': 1827, '묻다': 1828, '물': 1829, '물가상승률': 1830, '물건': 1831, '물고기': 1832, '물다': 1833, '물론': 1834, '물류': 1835, '물리': 1836, '물속': 1837, '물어보다': 1838, '물의': 1839, '물이': 1840, '물질': 1841, '물체': 1842, '물품': 1843, '뭐': 1844, '뭐라다': 1845, '뭔가': 1846, '뭘': 1847, '뮤직': 1848, '뮤추얼': 1849, '므': 1850, '미결': 1851, '미국': 1852, '미국법': 1853, '미끼': 1854, '미납': 1855, '미니': 1856, '미니멀리즘': 1857, '미니바': 1858, '미디어': 1859, '미디엄': 1860, '미래': 1861, '미리': 1862, '미만': 1863, '미세하다': 1864, '미수': 1865, '미슐랭': 1866, '미스': 1867, '미안하다': 1868, '미약': 1869, '미얀마': 1870, '미용': 1871, '미적': 1872, '미지': 1873, '미치나': 1874, '미치다': 1875, '미터': 1876, '미팅': 1877, '미혼': 1878, '믹서': 1879, '민간': 1880, '민물': 1881, '민원': 1882, '민팅': 1883, '믿다': 1884, '밀가루': 1885, '밀고': 1886, '밀다': 1887, '밀레': 1888, '밀리다': 1889, '밀크티숍': 1890, '밀회': 1891, '밉다': 1892, '및': 1893, '밑': 1894, '바': 1895, '바꾸다': 1896, '바뀌다': 1897, '바나나': 1898, '바늘': 1899, '바다': 1900, '바닥': 1901, '바닥나다': 1902, '바닷물': 1903, '바디': 1904, '바라다': 1905, '바라보다': 1906, '바라지': 1907, '바람': 1908, '바람직하다': 1909, '바램': 1910, '바로': 1911, '바르다': 1912, '바베이도스': 1913, '바베큐': 1914, '바비큐': 1915, '바쁘다': 1916, '바위': 1917, '바이': 1918, '바이러스': 1919, '바이오': 1920, '바이트': 1921, '바치다': 1922, '바퀴': 1923, '바탕': 1924, '박': 1925, '박람회': 1926, '박물관': 1927, '박사': 1928, '박스': 1929, '밖': 1930, '밖에': 1931, '반': 1932, '반갑다': 1933, '반기다': 1934, '반납': 1935, '반년': 1936, '반대': 1937, '반대편': 1938, '반도체': 1939, '반드시': 1940, '반려': 1941, '반려견': 1942, '반려동물': 1943, '반면': 1944, '반영': 1945, '반응': 1946, '반찬': 1947, '반품': 1948, '받다': 1949, '받아들이다': 1950, '발견': 1951, '발급': 1952, '발끝': 1953, '발복': 1954, '발생': 1955, '발송': 1956, '발신': 1957, '발자국': 1958, '발전': 1959, '발주': 1960, '발표': 1961, '발행': 1962, '발효': 1963, '발휘': 1964, '밝혀내다': 1965, '밝혀지다': 1966, '밟다': 1967, '밤': 1968, '밤낮': 1969, '밤늦다': 1970, '밤새다': 1971, '밥': 1972, '밥그릇': 1973, '밧줄': 1974, '방': 1975, '방과': 1976, '방금': 1977, '방대하다': 1978, '방문': 1979, '방문객': 1980, '방법': 1981, '방사성': 1982, '방송': 1983, '방송국': 1984, '방수': 1985, '방식': 1986, '방안': 1987, '방어': 1988, '방이': 1989, '방적': 1990, '방적기': 1991, '방지': 1992, '방출': 1993, '방침': 1994, '방해': 1995, '방향': 1996, '방화벽': 1997, '밭': 1998, '배': 1999, '배경': 2000, '배경음악': 2001, '배너': 2002, '배다': 2003, '배달': 2004, '배당금': 2005, '배려': 2006, '배분': 2007, '배색': 2008, '배송': 2009, '배송비': 2010, '배송지': 2011, '배수': 2012, '배우': 2013, '배우다': 2014, '배우자': 2015, '배움': 2016, '배정': 2017, '배출': 2018, '배치': 2019, '배터리': 2020, '배포': 2021, '백': 2022, '백만': 2023, '백신': 2024, '백업': 2025, '백엔드': 2026, '밴드': 2027, '밸브': 2028, '뱅크': 2029, '뱅킹': 2030, '버': 2031, '버그': 2032, '버너': 2033, '버네': 2034, '버는': 2035, '버드': 2036, '버리다': 2037, '버블': 2038, '버스': 2039, '버스정류장': 2040, '버전': 2041, '버터플라이': 2042, '버튼': 2043, '번': 2044, '번가': 2045, '번거롭다': 2046, '번식': 2047, '번역': 2048, '번역가': 2049, '번의': 2050, '번지': 2051, '번째': 2052, '번창': 2053, '번호': 2054, '벌': 2055, '벌다': 2056, '벌써': 2057, '벌어지다': 2058, '벌이': 2059, '범': 2060, '범위': 2061, '범인': 2062, '범죄': 2063, '범죄자': 2064, '범주': 2065, '법': 2066, '법률': 2067, '법원': 2068, '법인': 2069, '법인세': 2070, '법적': 2071, '법정': 2072, '벗다': 2073, '벗어나다': 2074, '베네수엘라': 2075, '베다': 2076, '베벨': 2077, '베스트셀러': 2078, '베어링': 2079, '베이스': 2080, '베타': 2081, '베테': 2082, '베트남': 2083, '벡터': 2084, '벤딩': 2085, '벤처캐피털': 2086, '벤츄리': 2087, '벤치': 2088, '벨': 2089, '벨트': 2090, '벽': 2091, '벽난로': 2092, '벽지': 2093, '변경': 2094, '변동': 2095, '변동성': 2096, '변명': 2097, '변속기': 2098, '변수': 2099, '변하다': 2100, '변호사': 2101, '변화': 2102, '변환': 2103, '별': 2104, '별관': 2105, '별도': 2106, '별로': 2107, '별장': 2108, '병': 2109, '병동': 2110, '병원': 2111, '병합': 2112, '보': 2113, '보건': 2114, '보고': 2115, '보고서': 2116, '보관': 2117, '보기': 2118, '보내다': 2119, '보내오다': 2120, '보다': 2121, '보도': 2122, '보드': 2123, '보람': 2124, '보류': 2125, '보물': 2126, '보살피다': 2127, '보상': 2128, '보수': 2129, '보시': 2130, '보쌈': 2131, '보안': 2132, '보여주다': 2133, '보유': 2134, '보이': 2135, '보이다': 2136, '보이지': 2137, '보장': 2138, '보조': 2139, '보존': 2140, '보증': 2141, '보증금': 2142, '보증인': 2143, '보지': 2144, '보철물': 2145, '보청기': 2146, '보통': 2147, '보트': 2148, '보행': 2149, '보험': 2150, '보험금': 2151, '보험료': 2152, '보험사': 2153, '보헤미안': 2154, '보호': 2155, '보호복': 2156, '복': 2157, '복구': 2158, '복사기': 2159, '복원': 2160, '복잡하다': 2161, '복장': 2162, '복판': 2163, '복호화': 2164, '볶음': 2165, '볶음밥': 2166, '본': 2167, '본드': 2168, '본론': 2169, '본부': 2170, '본사': 2171, '본인': 2172, '본체': 2173, '볼': 2174, '볼륨': 2175, '볼일': 2176, '봄판': 2177, '봇': 2178, '봉쇄': 2179, '뵈다': 2180, '뵙다': 2181, '부': 2182, '부과': 2183, '부금': 2184, '부끄럽다': 2185, '부다': 2186, '부담': 2187, '부당하다': 2188, '부대': 2189, '부동산': 2190, '부두': 2191, '부드럽다': 2192, '부딪치다': 2193, '부딪히다': 2194, '부로': 2195, '부록': 2196, '부르다': 2197, '부모': 2198, '부모님': 2199, '부문': 2200, '부분': 2201, '부산': 2202, '부상': 2203, '부서': 2204, '부속품': 2205, '부수': 2206, '부양가족': 2207, '부업': 2208, '부엌': 2209, '부여': 2210, '부위': 2211, '부유하다': 2212, '부응': 2213, '부의': 2214, '부인': 2215, '부자': 2216, '부작용': 2217, '부적': 2218, '부정': 2219, '부족': 2220, '부족하다': 2221, '부지': 2222, '부착': 2223, '부채': 2224, '부처': 2225, '부츠': 2226, '부침개': 2227, '부탁': 2228, '부탁드리다': 2229, '부터': 2230, '부팅': 2231, '부품': 2232, '부합': 2233, '부호화': 2234, '북': 2235, '북경어': 2236, '북미': 2237, '북부': 2238, '분': 2239, '분과': 2240, '분광': 2241, '분기': 2242, '분기점': 2243, '분당': 2244, '분들': 2245, '분류': 2246, '분리': 2247, '분명': 2248, '분명하다': 2249, '분사': 2250, '분산': 2251, '분석': 2252, '분쇄기': 2253, '분식점': 2254, '분실': 2255, '분야': 2256, '분위기': 2257, '분쟁': 2258, '분젠': 2259, '분지': 2260, '분포': 2261, '분할': 2262, '분해': 2263, '불': 2264, '불가능': 2265, '불가능하다': 2266, '불고기': 2267, '불과': 2268, '불과하다': 2269, '불교': 2270, '불구': 2271, '불규칙하다': 2272, '불금': 2273, '불다': 2274, '불당': 2275, '불도저': 2276, '불량': 2277, '불량품': 2278, '불러일으키다': 2279, '불리다': 2280, '불만': 2281, '불문': 2282, '불빛': 2283, '불안정하다': 2284, '불안하다': 2285, '불쾌하다': 2286, '불편': 2287, '불편하다': 2288, '불평': 2289, '불평등하다': 2290, '불필요하다': 2291, '불행하다': 2292, '붉은빛': 2293, '붐': 2294, '붕괴': 2295, '붕어빵': 2296, '붙다': 2297, '붙박다': 2298, '붙이다': 2299, '뷔페': 2300, '뷸': 2301, '브라우저': 2302, '브라우징': 2303, '브라질': 2304, '브랜드': 2305, '브랜딩': 2306, '브레이커': 2307, '브레이크': 2308, '브레인스토밍': 2309, '브로': 2310, '브로드밴드': 2311, '브로셔': 2312, '브로커': 2313, '브루나이': 2314, '브이': 2315, '블랙': 2316, '블레이드': 2317, '블렌드': 2318, '블렌딩': 2319, '블로그': 2320, '블록': 2321, '블루': 2322, '블루칩': 2323, '블룸': 2324, '비': 2325, '비간': 2326, '비건': 2327, '비계': 2328, '비공개': 2329, '비공식': 2330, '비교': 2331, '비누': 2332, '비다': 2333, '비도': 2334, '비디오': 2335, '비록': 2336, '비롯': 2337, '비료': 2338, '비밀': 2339, '비밀번호': 2340, '비빔냉면': 2341, '비빔밥': 2342, '비상': 2343, '비서': 2344, '비스킷': 2345, '비스트': 2346, '비슷하다': 2347, '비실': 2348, '비싸다': 2349, '비어': 2350, '비영리': 2351, '비용': 2352, '비우다': 2353, '비율': 2354, '비자': 2355, '비주': 2356, '비즈니스': 2357, '비축': 2358, '비커': 2359, '비트': 2360, '비트코인': 2361, '비평가': 2362, '비프': 2363, '비행': 2364, '비행기': 2365, '빅데이터': 2366, '빈': 2367, '빈방': 2368, '빈번': 2369, '빈손': 2370, '빈티': 2371, '빌드되': 2372, '빌딩': 2373, '빌라': 2374, '빌리다': 2375, '빌보드': 2376, '빌트': 2377, '빔': 2378, '빗': 2379, '빙': 2380, '빚': 2381, '빠듯': 2382, '빠듯합니': 2383, '빠르다': 2384, '빠지다': 2385, '빡빡': 2386, '빨간색': 2387, '빨갛다': 2388, '빨르다': 2389, '빨리': 2390, '빵': 2391, '빵집': 2392, '빼다': 2393, '뽑다': 2394, '뿌리': 2395, '뿐': 2396, '뿐이다': 2397, '삐었': 2398, '사': 2399, '사건': 2400, '사격': 2401, '사계절': 2402, '사고': 2403, '사과': 2404, '사기': 2405, '사기꾼': 2406, '사다': 2407, '사람': 2408, '사람과': 2409, '사랑': 2410, '사려': 2411, '사례': 2412, '사르다': 2413, '사면': 2414, '사명': 2415, '사모펀드': 2416, '사무': 2417, '사무기기': 2418, '사무소': 2419, '사무실': 2420, '사물': 2421, '사물인터넷': 2422, '사본': 2423, '사생활': 2424, '사서': 2425, '사소하다': 2426, '사시미': 2427, '사실': 2428, '사안': 2429, '사양': 2430, '사업': 2431, '사업가': 2432, '사업자': 2433, '사오다': 2434, '사옥': 2435, '사용': 2436, '사용성': 2437, '사용자': 2438, '사우나': 2439, '사운드': 2440, '사운드트랙': 2441, '사원': 2442, '사유': 2443, '사은': 2444, '사의': 2445, '사이': 2446, '사이드': 2447, '사이버': 2448, '사이일': 2449, '사이즈': 2450, '사이트': 2451, '사인': 2452, '사인회': 2453, '사장': 2454, '사전': 2455, '사주다': 2456, '사지': 2457, '사진': 2458, '사진사': 2459, '사진작가': 2460, '사찰': 2461, '사촌': 2462, '사출': 2463, '사탕': 2464, '사태': 2465, '사하다': 2466, '사항': 2467, '사회': 2468, '삭제': 2469, '산': 2470, '산나물': 2471, '산업': 2472, '산이': 2473, '산출': 2474, '살': 2475, '살균': 2476, '살기': 2477, '살다': 2478, '살이': 2479, '살펴보다': 2480, '삶': 2481, '삶다': 2482, '삼': 2483, '삼겹살': 2484, '삼고': 2485, '삽': 2486, '삽화가': 2487, '상': 2488, '상거래': 2489, '상관': 2490, '상관없다': 2491, '상급': 2492, '상기': 2493, '상단': 2494, '상담': 2495, '상당': 2496, '상당하다': 2497, '상대': 2498, '상대로': 2499, '상대방': 2500, '상무': 2501, '상사': 2502, '상상': 2503, '상상력': 2504, '상세': 2505, '상속': 2506, '상승': 2507, '상업': 2508, '상위': 2509, '상응': 2510, '상의': 2511, '상이': 2512, '상인': 2513, '상자': 2514, '상장': 2515, '상점': 2516, '상주': 2517, '상징': 2518, '상추': 2519, '상치': 2520, '상태': 2521, '상표': 2522, '상품': 2523, '상하': 2524, '상하이': 2525, '상호': 2526, '상환': 2527, '상황': 2528, '새': 2529, '새롭다': 2530, '새벽': 2531, '새우': 2532, '새틴': 2533, '새해': 2534, '색': 2535, '색상': 2536, '색인': 2537, '색조': 2538, '샌드위치': 2539, '샌프란시스코': 2540, '샐러드': 2541, '샘플': 2542, '샘플러': 2543, '샘플링': 2544, '생': 2545, '생각': 2546, '생각나다': 2547, '생강': 2548, '생기다': 2549, '생기지': 2550, '생동감': 2551, '생명': 2552, '생명보험': 2553, '생물': 2554, '생방송': 2555, '생산': 2556, '생산량': 2557, '생생하다': 2558, '생선': 2559, '생선전': 2560, '생소하다': 2561, '생신': 2562, '생이니': 2563, '생일': 2564, '생체': 2565, '생활': 2566, '생활용품': 2567, '샤워': 2568, '샤워실': 2569, '샤프트': 2570, '샴페인': 2571, '샴푸': 2572, '샵': 2573, '서': 2574, '서기': 2575, '서나': 2576, '서다': 2577, '서도': 2578, '서두르다': 2579, '서든': 2580, '서라운드': 2581, '서랍': 2582, '서로': 2583, '서류': 2584, '서면': 2585, '서명': 2586, '서버': 2587, '서버룸': 2588, '서브': 2589, '서비스': 2590, '서빙': 2591, '서울': 2592, '서재': 2593, '서점': 2594, '서지': 2595, '서쪽': 2596, '석가모니': 2597, '섞다': 2598, '선': 2599, '선구자': 2600, '선명하다': 2601, '선물': 2602, '선물거래': 2603, '선박': 2604, '선보이다': 2605, '선불': 2606, '선생님': 2607, '선적': 2608, '선정': 2609, '선착순': 2610, '선체': 2611, '선택': 2612, '선호': 2613, '설': 2614, '설계': 2615, '설득': 2616, '설렁탕': 2617, '설레다': 2618, '설립': 2619, '설명': 2620, '설문': 2621, '설문조사': 2622, '설문지': 2623, '설비': 2624, '설정': 2625, '설치': 2626, '설치다': 2627, '설탕': 2628, '섬광': 2629, '섬유': 2630, '섬유질': 2631, '성': 2632, '성가시다': 2633, '성격': 2634, '성공': 2635, '성공하다': 2636, '성과': 2637, '성능': 2638, '성도': 2639, '성분': 2640, '성사': 2641, '성실하다': 2642, '성은': 2643, '성인': 2644, '성장': 2645, '성장하다': 2646, '성전': 2647, '성취': 2648, '성하다': 2649, '성함': 2650, '성형': 2651, '세': 2652, '세계': 2653, '세관': 2654, '세균': 2655, '세금': 2656, '세기': 2657, '세다': 2658, '세대': 2659, '세련': 2660, '세로': 2661, '세면대': 2662, '세미나': 2663, '세법': 2664, '세부': 2665, '세상': 2666, '세션': 2667, '세안': 2668, '세액': 2669, '세요': 2670, '세우다': 2671, '세율': 2672, '세척': 2673, '세척제': 2674, '세탁': 2675, '세탁기': 2676, '세탁실': 2677, '세트': 2678, '세팅': 2679, '세포': 2680, '센서': 2681, '센터': 2682, '센트': 2683, '셀러': 2684, '셀러리': 2685, '셋': 2686, '셋째': 2687, '셔블': 2688, '션': 2689, '셨었': 2690, '셰어': 2691, '소': 2692, '소갈비': 2693, '소개': 2694, '소개팅': 2695, '소고기': 2696, '소금': 2697, '소녀': 2698, '소득': 2699, '소리': 2700, '소리치다': 2701, '소매': 2702, '소매업자': 2703, '소모': 2704, '소문': 2705, '소비': 2706, '소비자': 2707, '소설': 2708, '소셜': 2709, '소셜미디어': 2710, '소속': 2711, '소송': 2712, '소스': 2713, '소시지': 2714, '소식': 2715, '소액': 2716, '소요': 2717, '소유': 2718, '소유권': 2719, '소유자': 2720, '소의': 2721, '소일': 2722, '소재': 2723, '소주': 2724, '소중하다': 2725, '소지': 2726, '소질': 2727, '소켓': 2728, '소통': 2729, '소파': 2730, '소포': 2731, '소풍': 2732, '소프': 2733, '소프트': 2734, '소프트웨어': 2735, '소형': 2736, '소형견': 2737, '속': 2738, '속달': 2739, '속도': 2740, '속물': 2741, '손': 2742, '손님': 2743, '손상': 2744, '손쉽다': 2745, '손실': 2746, '손익': 2747, '손익계산서': 2748, '손주': 2749, '손해': 2750, '손해배상': 2751, '솔루션': 2752, '솔직하다': 2753, '송금': 2754, '송료': 2755, '송신': 2756, '송장': 2757, '쇄신': 2758, '쇠고기': 2759, '쇼': 2760, '쇼룸': 2761, '쇼핑': 2762, '수': 2763, '수가': 2764, '수강': 2765, '수건': 2766, '수고': 2767, '수년': 2768, '수다': 2769, '수단': 2770, '수도': 2771, '수도꼭지': 2772, '수도원': 2773, '수동': 2774, '수락': 2775, '수량': 2776, '수련': 2777, '수령': 2778, '수로': 2779, '수료': 2780, '수료증': 2781, '수리': 2782, '수많다': 2783, '수면': 2784, '수박': 2785, '수반': 2786, '수백만': 2787, '수비드': 2788, '수석': 2789, '수선': 2790, '수속': 2791, '수수료': 2792, '수술': 2793, '수시로': 2794, '수신기': 2795, '수십': 2796, '수압': 2797, '수업': 2798, '수에즈': 2799, '수영': 2800, '수영장': 2801, '수요': 2802, '수요일': 2803, '수용': 2804, '수익': 2805, '수익금': 2806, '수익률': 2807, '수입': 2808, '수입품': 2809, '수정': 2810, '수정과': 2811, '수제': 2812, '수준': 2813, '수집': 2814, '수천': 2815, '수출': 2816, '수출입': 2817, '수평': 2818, '수표': 2819, '수표로': 2820, '수프': 2821, '수학': 2822, '수행': 2823, '수혜자': 2824, '수확': 2825, '숙련': 2826, '숙박': 2827, '숙박시설': 2828, '숙박업소': 2829, '숙성': 2830, '숙소': 2831, '숙이다': 2832, '숙주': 2833, '숙지': 2834, '순': 2835, '순간': 2836, '순위': 2837, '순이익': 2838, '순전하다': 2839, '숟가락': 2840, '술': 2841, '술집': 2842, '숨': 2843, '숨기다': 2844, '숫자': 2845, '숯불': 2846, '쉬다': 2847, '쉽다': 2848, '슈': 2849, '슈트': 2850, '슈팅': 2851, '슈퍼마켓': 2852, '스': 2853, '스낵': 2854, '스노클링': 2855, '스니커즈': 2856, '스님': 2857, '스럽다': 2858, '스레드': 2859, '스릴러': 2860, '스마트': 2861, '스마트폰': 2862, '스마트홈': 2863, '스스로': 2864, '스위트': 2865, '스위트룸': 2866, '스카이라인': 2867, '스캐너': 2868, '스캔': 2869, '스케': 2870, '스케줄': 2871, '스케줄러': 2872, '스케치': 2873, '스쿠터': 2874, '스크럽': 2875, '스크류': 2876, '스크리닝': 2877, '스크린': 2878, '스크린샷': 2879, '스키': 2880, '스킨': 2881, '스킬': 2882, '스타': 2883, '스타일': 2884, '스타트업': 2885, '스테이': 2886, '스테이션': 2887, '스테이크': 2888, '스테인레스': 2889, '스토리': 2890, '스토브': 2891, '스토어': 2892, '스토퍼': 2893, '스톤': 2894, '스튜디오': 2895, '스트레스': 2896, '스트레이트': 2897, '스트로': 2898, '스트리밍': 2899, '스트림': 2900, '스티': 2901, '스티커': 2902, '스틸': 2903, '스파': 2904, '스파게티': 2905, '스파이럴': 2906, '스파이웨어': 2907, '스파크': 2908, '스팸': 2909, '스페셜': 2910, '스페인': 2911, '스펙트럼': 2912, '스포츠': 2913, '스프': 2914, '스프레드': 2915, '스프레이': 2916, '스피커': 2917, '스피킹': 2918, '슬라이드': 2919, '슬롯': 2920, '슬리퍼': 2921, '슬프다': 2922, '습': 2923, '습니': 2924, '승려': 2925, '승인': 2926, '시': 2927, '시각': 2928, '시각장애인': 2929, '시간': 2930, '시간대': 2931, '시계': 2932, '시골': 2933, '시급하다': 2934, '시기': 2935, '시끄럽다': 2936, '시나리오': 2937, '시내': 2938, '시대': 2939, '시도': 2940, '시리즈': 2941, '시마': 2942, '시민권': 2943, '시설': 2944, '시세': 2945, '시스템': 2946, '시연': 2947, '시오': 2948, '시일': 2949, '시작': 2950, '시장': 2951, '시장조사': 2952, '시저': 2953, '시절': 2954, '시점': 2955, '시즌': 2956, '시차': 2957, '시청': 2958, '시청각': 2959, '시청자': 2960, '시카고': 2961, '시큐리티': 2962, '시키다': 2963, '시티': 2964, '시행': 2965, '시험': 2966, '시험관': 2967, '식': 2968, '식기': 2969, '식단': 2970, '식당': 2971, '식물': 2972, '식사': 2973, '식이': 2974, '식초': 2975, '식탁': 2976, '식품': 2977, '신': 2978, '신간': 2979, '신경': 2980, '신고': 2981, '신곡': 2982, '신규': 2983, '신나요': 2984, '신다': 2985, '신디케이트': 2986, '신랑': 2987, '신뢰': 2988, '신문': 2989, '신발': 2990, '신부': 2991, '신분': 2992, '신분증': 2993, '신비롭다': 2994, '신사': 2995, '신생': 2996, '신선하다': 2997, '신세대': 2998, '신속하다': 2999, '신용': 3000, '신용등급': 3001, '신용장': 3002, '신용카드': 3003, '신원': 3004, '신입': 3005, '신입사원': 3006, '신입생': 3007, '신제품': 3008, '신종교': 3009, '신중': 3010, '신지': 3011, '신청': 3012, '신청서': 3013, '신체': 3014, '신탁': 3015, '신호': 3016, '신흥': 3017, '싣다': 3018, '실': 3019, '실내': 3020, '실력': 3021, '실례': 3022, '실로': 3023, '실린더': 3024, '실망': 3025, '실망하다': 3026, '실버': 3027, '실사': 3028, '실생활': 3029, '실수': 3030, '실시': 3031, '실시간': 3032, '실업자': 3033, '실외': 3034, '실용': 3035, '실적': 3036, '실제': 3037, '실질': 3038, '실천': 3039, '실크': 3040, '실패': 3041, '실패하다': 3042, '실행': 3043, '실험': 3044, '실험실': 3045, '실현': 3046, '싫다': 3047, '싫어하다': 3048, '심': 3049, '심각하다': 3050, '심기': 3051, '심란하다': 3052, '심박': 3053, '심장': 3054, '심지어': 3055, '심하다': 3056, '십': 3057, '십대': 3058, '싱가포르': 3059, '싱가폴': 3060, '싱글': 3061, '싱글룸': 3062, '싶다': 3063, '싸다': 3064, '싸우다': 3065, '쌀': 3066, '쌈': 3067, '쌈밥': 3068, '쌈장': 3069, '쌍': 3070, '쌓다': 3071, '쌓이다': 3072, '써다': 3073, '쓰다': 3074, '쓰레기통': 3075, '쓰이다': 3076, '쓸다': 3077, '쓸모': 3078, '씨': 3079, '씩': 3080, '씹다': 3081, '아': 3082, '아기': 3083, '아깝다': 3084, '아끼다': 3085, '아나운서': 3086, '아내': 3087, '아뇨': 3088, '아늑하다': 3089, '아니다': 3090, '아동': 3091, '아들': 3092, '아래': 3093, '아로마': 3094, '아르헨티나': 3095, '아름답다': 3096, '아마': 3097, '아마도': 3098, '아무': 3099, '아무나': 3100, '아무렇다': 3101, '아무리': 3102, '아무튼': 3103, '아바타': 3104, '아빠': 3105, '아쉽다': 3106, '아스파라거스': 3107, '아스팔트': 3108, '아시아': 3109, '아웃소싱': 3110, '아이': 3111, '아이덴티티': 3112, '아이돌': 3113, '아이디': 3114, '아이디어': 3115, '아이스크림': 3116, '아이콘': 3117, '아이템': 3118, '아주': 3119, '아직': 3120, '아직도': 3121, '아침': 3122, '아침식사': 3123, '아키텍처': 3124, '아트': 3125, '아트워크': 3126, '아트웍': 3127, '아티스트': 3128, '아파트': 3129, '아프다': 3130, '아프리카': 3131, '악': 3132, '악기': 3133, '악성코드': 3134, '악세사리': 3135, '악수': 3136, '악행': 3137, '악화': 3138, '안': 3139, '안건': 3140, '안나': 3141, '안내': 3142, '안내받다': 3143, '안녕': 3144, '안녕하다': 3145, '안다': 3146, '안되다': 3147, '안드로이드': 3148, '안방': 3149, '안성맞춤': 3150, '안심': 3151, '안이': 3152, '안전': 3153, '안전성': 3154, '안전하다': 3155, '안정': 3156, '안좋다': 3157, '안타깝다': 3158, '안테나': 3159, '안티바이러스': 3160, '안팎': 3161, '앉다': 3162, '않다': 3163, '알': 3164, '알고리즘': 3165, '알다': 3166, '알람': 3167, '알레르기': 3168, '알려지다': 3169, '알루미늄': 3170, '알리다': 3171, '알림': 3172, '알아내다': 3173, '알아듣다': 3174, '알아보다': 3175, '알아차리다': 3176, '알아채다': 3177, '알약': 3178, '알칼리성': 3179, '암': 3180, '암석': 3181, '암스테르담': 3182, '암호': 3183, '압니': 3184, '압도': 3185, '압력': 3186, '압축': 3187, '압축기': 3188, '압출기': 3189, '았습니': 3190, '앙': 3191, '앞': 3192, '앞두다': 3193, '앞서': 3194, '앞치마': 3195, '애': 3196, '애니메이션': 3197, '애니메이터': 3198, '애비뉴': 3199, '애완동물': 3200, '애프터': 3201, '애플리케이션': 3202, '애피타이저': 3203, '액': 3204, '액세서리': 3205, '액세스': 3206, '액션': 3207, '액체': 3208, '앤': 3209, '앨범': 3210, '앰버': 3211, '앰뷸런스': 3212, '앰프': 3213, '앱': 3214, '앵글': 3215, '앵커': 3216, '야간': 3217, '야구장': 3218, '야금': 3219, '야단법석': 3220, '야생': 3221, '야식': 3222, '야영지': 3223, '야외': 3224, '야유회': 3225, '야채': 3226, '야합': 3227, '약': 3228, '약간': 3229, '약관': 3230, '약물': 3231, '약속': 3232, '약자': 3233, '약점': 3234, '약정': 3235, '약하다': 3236, '얇다': 3237, '양': 3238, '양념': 3239, '양념장': 3240, '양도': 3241, '양립': 3242, '양말': 3243, '양사': 3244, '양식': 3245, '양자': 3246, '양초': 3247, '양해': 3248, '양호': 3249, '얘기': 3250, '어': 3251, '어긋나다': 3252, '어기': 3253, '어느': 3254, '어댑터': 3255, '어디': 3256, '어디서': 3257, '어떠하다': 3258, '어떤': 3259, '어떻': 3260, '어떻다': 3261, '어려움': 3262, '어렵다': 3263, '어르신': 3264, '어른': 3265, '어리다': 3266, '어린이': 3267, '어머니': 3268, '어메니티': 3269, '어묵': 3270, '어보': 3271, '어서': 3272, '어우러지다': 3273, '어울리다': 3274, '어제': 3275, '어젯밤': 3276, '어조': 3277, '어쨌든': 3278, '어쩌': 3279, '어쩐': 3280, '어쩔': 3281, '어치': 3282, '어플': 3283, '어필': 3284, '어휘': 3285, '언': 3286, '언급': 3287, '언니': 3288, '언덕': 3289, '언론': 3290, '언박싱': 3291, '언어': 3292, '언제': 3293, '언제나': 3294, '언젠가': 3295, '얻다': 3296, '얼': 3297, '얼굴': 3298, '얼리다': 3299, '얼마': 3300, '얼마나': 3301, '엄격하다': 3302, '엄선': 3303, '엄수': 3304, '엄청': 3305, '엄청나다': 3306, '업계': 3307, '업그레이드': 3308, '업데이트': 3309, '업로드': 3310, '업무': 3311, '업자': 3312, '업주': 3313, '업체': 3314, '없다': 3315, '없애다': 3316, '없이': 3317, '엇갈리다': 3318, '엉': 3319, '에': 3320, '에너지': 3321, '에는': 3322, '에러': 3323, '에멀션': 3324, '에멀젼': 3325, '에메랄드': 3326, '에밀리': 3327, '에서': 3328, '에센셜': 3329, '에어': 3330, '에어컨': 3331, '에이전시': 3332, '에이전트': 3333, '에코': 3334, '에티켓': 3335, '에피소드': 3336, '엑세스': 3337, '엑스레이': 3338, '엑스포': 3339, '엔': 3340, '엔드': 3341, '엔젤': 3342, '엔지니어': 3343, '엔지니어링': 3344, '엔진': 3345, '엔터테인먼트': 3346, '엠보싱': 3347, '여': 3348, '여겨지다': 3349, '여권': 3350, '여기': 3351, '여기다': 3352, '여느': 3353, '여드름': 3354, '여러': 3355, '여러분': 3356, '여름': 3357, '여보': 3358, '여보세요': 3359, '여부': 3360, '여분': 3361, '여사': 3362, '여성': 3363, '여야': 3364, '여유': 3365, '여자': 3366, '여전하다': 3367, '여지': 3368, '여쭈다': 3369, '여행': 3370, '여행사': 3371, '여행자': 3372, '역': 3373, '역사': 3374, '역서': 3375, '역시': 3376, '역외': 3377, '역할': 3378, '연': 3379, '연간': 3380, '연결': 3381, '연결하다': 3382, '연관': 3383, '연구': 3384, '연구개발': 3385, '연구소': 3386, '연기': 3387, '연다': 3388, '연달': 3389, '연동': 3390, '연락': 3391, '연락처': 3392, '연령': 3393, '연례': 3394, '연료': 3395, '연마': 3396, '연말': 3397, '연민': 3398, '연방': 3399, '연봉': 3400, '연비': 3401, '연사': 3402, '연수': 3403, '연장': 3404, '연중': 3405, '연체': 3406, '연회': 3407, '연휴': 3408, '열': 3409, '열광': 3410, '열기': 3411, '열다': 3412, '열람': 3413, '열리다': 3414, '열쇠': 3415, '열심히': 3416, '열악하다': 3417, '열정': 3418, '열차': 3419, '염두': 3420, '염려': 3421, '염색': 3422, '엽': 3423, '영': 3424, '영감': 3425, '영광': 3426, '영구': 3427, '영국': 3428, '영리하다': 3429, '영상': 3430, '영상통화': 3431, '영수증': 3432, '영양': 3433, '영어': 3434, '영업': 3435, '영업일': 3436, '영역': 3437, '영원하다': 3438, '영진': 3439, '영향': 3440, '영향력': 3441, '영화': 3442, '옆': 3443, '예': 3444, '예견': 3445, '예고편': 3446, '예금': 3447, '예방': 3448, '예배': 3449, '예쁘다': 3450, '예산': 3451, '예산안': 3452, '예상': 3453, '예술': 3454, '예술가': 3455, '예약': 3456, '예요': 3457, '예의': 3458, '예입': 3459, '예전': 3460, '예절': 3461, '예정': 3462, '예정일': 3463, '예측': 3464, '옐로나이프': 3465, '오': 3466, '오늘': 3467, '오늘날': 3468, '오늘이': 3469, '오다': 3470, '오디오': 3471, '오락가락': 3472, '오래': 3473, '오래되다': 3474, '오랜': 3475, '오랫동안': 3476, '오렌지': 3477, '오류': 3478, '오르다': 3479, '오른': 3480, '오른쪽': 3481, '오리엔테이션': 3482, '오버': 3483, '오븐': 3484, '오스': 3485, '오시': 3486, '오신': 3487, '오용': 3488, '오인': 3489, '오일': 3490, '오일도': 3491, '오전': 3492, '오지': 3493, '오직': 3494, '오징어': 3495, '오토': 3496, '오프': 3497, '오프라인': 3498, '오픈': 3499, '오피스': 3500, '오하이오주': 3501, '오해': 3502, '오후': 3503, '오히려': 3504, '옥': 3505, '옥상': 3506, '옥집': 3507, '온': 3508, '온도': 3509, '온돌': 3510, '온라인': 3511, '온라인과': 3512, '온스': 3513, '온천': 3514, '온타리오': 3515, '올': 3516, '올라가다': 3517, '올려놓다': 3518, '올려주다': 3519, '올리다': 3520, '올바르다': 3521, '올해': 3522, '옮기다': 3523, '옳다': 3524, '옴': 3525, '옵니다': 3526, '옵션': 3527, '옷': 3528, '옷장': 3529, '와우': 3530, '와이어': 3531, '와이파이': 3532, '와인': 3533, '와트': 3534, '완납': 3535, '완료': 3536, '완벽하다': 3537, '완비': 3538, '완성': 3539, '완전': 3540, '완전하다': 3541, '완화': 3542, '왓츠앱': 3543, '왕복': 3544, '왕새우': 3545, '왜': 3546, '왜냐면': 3547, '왜냐하면': 3548, '외': 3549, '외관': 3550, '외국': 3551, '외국인': 3552, '외다': 3553, '외부': 3554, '외주': 3555, '외출': 3556, '외향': 3557, '외화': 3558, '외환은행': 3559, '왼쪽': 3560, '요': 3561, '요건': 3562, '요격': 3563, '요구': 3564, '요구사항': 3565, '요금': 3566, '요리': 3567, '요리법': 3568, '요리사': 3569, '요법': 3570, '요소': 3571, '요약': 3572, '요원': 3573, '요인': 3574, '요점': 3575, '요즘': 3576, '요청': 3577, '요크셔': 3578, '요트': 3579, '욕구': 3580, '욕실': 3581, '욕조': 3582, '용': 3583, '용건': 3584, '용납': 3585, '용다': 3586, '용도': 3587, '용량': 3588, '용무': 3589, '용법': 3590, '용어': 3591, '용의': 3592, '용이': 3593, '용이하다': 3594, '용인': 3595, '용판': 3596, '용품': 3597, '우': 3598, '우드': 3599, '우려': 3600, '우리': 3601, '우리나라': 3602, '우리은행': 3603, '우린': 3604, '우산': 3605, '우선': 3606, '우수하다': 3607, '우승자': 3608, '우아하다': 3609, '우여곡절': 3610, '우연히': 3611, '우와': 3612, '우위': 3613, '우유': 3614, '우주': 3615, '우크라이나': 3616, '우편': 3617, '우편물': 3618, '운': 3619, '운동': 3620, '운반': 3621, '운송': 3622, '운송업': 3623, '운영': 3624, '운영자': 3625, '운영체제': 3626, '운용': 3627, '운전': 3628, '운전기사': 3629, '운전자': 3630, '운하': 3631, '울리다': 3632, '울산': 3633, '움직이다': 3634, '움직임': 3635, '웃음': 3636, '웅장': 3637, '워': 3638, '워드': 3639, '워치': 3640, '워크샵': 3641, '워크숍': 3642, '워터': 3643, '원': 3644, '원격': 3645, '원고': 3646, '원금': 3647, '원래': 3648, '원리': 3649, '원본': 3650, '원사': 3651, '원스톱': 3652, '원심': 3653, '원심분리기': 3654, '원인': 3655, '원장': 3656, '원점': 3657, '원주공항': 3658, '원칙': 3659, '원통': 3660, '원하다': 3661, '원화': 3662, '원화도': 3663, '원활하다': 3664, '월': 3665, '월간': 3666, '월급': 3667, '월말': 3668, '월세': 3669, '월요일': 3670, '웜': 3671, '웠습': 3672, '웨딩': 3673, '웨비': 3674, '웨어': 3675, '웨이터': 3676, '웨이퍼': 3677, '웹': 3678, '웹디자인': 3679, '웹사이트': 3680, '웹캐스트': 3681, '웹페이지': 3682, '위': 3683, '위로': 3684, '위반': 3685, '위생': 3686, '위성': 3687, '위안': 3688, '위치': 3689, '위탁': 3690, '위태롭': 3691, '위태롭기': 3692, '위함': 3693, '위해': 3694, '위험': 3695, '위험하다': 3696, '위협': 3697, '윗': 3698, '윗사람': 3699, '유가': 3700, '유감': 3701, '유감스럽게': 3702, '유기': 3703, '유기농': 3704, '유닛': 3705, '유동': 3706, '유럽': 3707, '유로': 3708, '유료': 3709, '유르트': 3710, '유리하다': 3711, '유망': 3712, '유머': 3713, '유명': 3714, '유명인사': 3715, '유명하다': 3716, '유사하다': 3717, '유산': 3718, '유선': 3719, '유아': 3720, '유압': 3721, '유연성': 3722, '유연하다': 3723, '유예': 3724, '유용하다': 3725, '유의': 3726, '유익하다': 3727, '유인': 3728, '유인물': 3729, '유일하다': 3730, '유전': 3731, '유제품': 3732, '유지': 3733, '유치하다': 3734, '유통': 3735, '유통업': 3736, '유통업체': 3737, '유틸리티': 3738, '유학': 3739, '유학생': 3740, '유해하다': 3741, '유행': 3742, '유행병': 3743, '유형': 3744, '유효': 3745, '유효하다': 3746, '육류': 3747, '육성': 3748, '육수': 3749, '육지': 3750, '육회': 3751, '윤리': 3752, '율': 3753, '율기': 3754, '융자': 3755, '융통성': 3756, '으로': 3757, '은': 3758, '은은하다': 3759, '은퇴': 3760, '은행': 3761, '은행원': 3762, '을': 3763, '음': 3764, '음료': 3765, '음료수': 3766, '음반': 3767, '음반사': 3768, '음성': 3769, '음식': 3770, '음식점': 3771, '음악': 3772, '음원': 3773, '음질': 3774, '음향': 3775, '음향효과': 3776, '응': 3777, '응급': 3778, '응답': 3779, '응대': 3780, '응용': 3781, '응원': 3782, '의': 3783, '의견': 3784, '의논': 3785, '의도': 3786, '의뢰': 3787, '의료': 3788, '의류': 3789, '의무': 3790, '의문': 3791, '의미': 3792, '의사': 3793, '의사소통': 3794, '의상': 3795, '의식': 3796, '의심': 3797, '의심스럽다': 3798, '의약품': 3799, '의원': 3800, '의자': 3801, '의존': 3802, '의하다': 3803, '의향': 3804, '의회': 3805, '이': 3806, '이겠다': 3807, '이고': 3808, '이기': 3809, '이끌다': 3810, '이내': 3811, '이다': 3812, '이대로': 3813, '이동': 3814, '이동식': 3815, '이동해': 3816, '이드': 3817, '이득': 3818, '이따': 3819, '이러하다': 3820, '이런': 3821, '이렇게': 3822, '이렇다': 3823, '이력서': 3824, '이로': 3825, '이루어지다': 3826, '이뤄지다': 3827, '이르다': 3828, '이름': 3829, '이만': 3830, '이메일': 3831, '이며': 3832, '이면': 3833, '이목': 3834, '이미': 3835, '이미지': 3836, '이민자': 3837, '이번': 3838, '이벤트': 3839, '이보': 3840, '이불': 3841, '이브': 3842, '이사': 3843, '이사회': 3844, '이상': 3845, '이상은': 3846, '이서': 3847, '이세': 3848, '이송': 3849, '이수': 3850, '이슈': 3851, '이식': 3852, '이십': 3853, '이싼': 3854, '이야기': 3855, '이어지다': 3856, '이에요': 3857, '이외': 3858, '이요': 3859, '이용': 3860, '이용자': 3861, '이웃': 3862, '이유': 3863, '이율': 3864, '이음': 3865, '이의': 3866, '이익': 3867, '이자': 3868, '이자율': 3869, '이장': 3870, '이전': 3871, '이점': 3872, '이정표': 3873, '이제': 3874, '이중': 3875, '이중과세': 3876, '이지': 3877, '이지만': 3878, '이집트': 3879, '이체': 3880, '이탈': 3881, '이탈리아': 3882, '이탈리아어': 3883, '이틀': 3884, '이해': 3885, '이해만': 3886, '이해해': 3887, '이행': 3888, '이후': 3889, '익숙하다': 3890, '익숙해지다': 3891, '익스텐더': 3892, '익일': 3893, '익히다': 3894, '인': 3895, '인간': 3896, '인건비': 3897, '인걸': 3898, '인공': 3899, '인구': 3900, '인기': 3901, '인내': 3902, '인내심': 3903, '인덱스': 3904, '인도': 3905, '인도네시아': 3906, '인력': 3907, '인명': 3908, '인보이스': 3909, '인분': 3910, '인사': 3911, '인삼': 3912, '인상': 3913, '인생': 3914, '인센티브': 3915, '인쇄': 3916, '인쇄기': 3917, '인쇄판': 3918, '인수': 3919, '인스턴트': 3920, '인식': 3921, '인용': 3922, '인원': 3923, '인정': 3924, '인정받다': 3925, '인조섬유': 3926, '인증': 3927, '인증서': 3928, '인지': 3929, '인지도': 3930, '인천': 3931, '인치': 3932, '인코딩': 3933, '인큐베이터': 3934, '인터': 3935, '인터넷': 3936, '인터뷰': 3937, '인터페이스': 3938, '인턴': 3939, '인테리어': 3940, '인파': 3941, '인포그래픽': 3942, '인프라': 3943, '인플레이션': 3944, '인플레이션율': 3945, '인하': 3946, '인하다': 3947, '일': 3948, '일과': 3949, '일관': 3950, '일단': 3951, '일러스트': 3952, '일러스트레이션': 3953, '일련': 3954, '일련번호': 3955, '일로': 3956, '일류': 3957, '일반': 3958, '일반인': 3959, '일별': 3960, '일본': 3961, '일본어': 3962, '일부': 3963, '일부러': 3964, '일산': 3965, '일상': 3966, '일상생활': 3967, '일수': 3968, '일시': 3969, '일어나고': 3970, '일어나다': 3971, '일어나지': 3972, '일요일': 3973, '일으키다': 3974, '일이': 3975, '일인': 3976, '일일': 3977, '일자리': 3978, '일정': 3979, '일정하다': 3980, '일종': 3981, '일주일': 3982, '일찍': 3983, '일체': 3984, '일치': 3985, '일해': 3986, '일행': 3987, '일환': 3988, '일회용': 3989, '읽다': 3990, '잃다': 3991, '잃어버리다': 3992, '임': 3993, '임기': 3994, '임대': 3995, '임대료': 3996, '임무': 3997, '임박': 3998, '임베디드': 3999, '임상시험': 4000, '임시': 4001, '임원': 4002, '임원진': 4003, '임의': 4004, '임차': 4005, '임펠러': 4006, '입': 4007, '입금': 4008, '입니다': 4009, '입다': 4010, '입력': 4011, '입맛': 4012, '입사': 4013, '입안': 4014, '입원': 4015, '입자': 4016, '입장': 4017, '입장료': 4018, '입지': 4019, '입찰': 4020, '입출': 4021, '입학': 4022, '있다': 4023, '잊다': 4024, '잊어버리다': 4025, '잎': 4026, '자': 4027, '자게': 4028, '자격': 4029, '자고': 4030, '자국': 4031, '자극': 4032, '자금': 4033, '자기': 4034, '자꾸': 4035, '자녀': 4036, '자다': 4037, '자동': 4038, '자동차': 4039, '자동화': 4040, '자라다': 4041, '자랑': 4042, '자랑스럽다': 4043, '자로': 4044, '자료': 4045, '자르다': 4046, '자리': 4047, '자마자': 4048, '자막': 4049, '자문': 4050, '자본': 4051, '자사': 4052, '자산': 4053, '자서전': 4054, '자선단체': 4055, '자세하다': 4056, '자수': 4057, '자식': 4058, '자신': 4059, '자신감': 4060, '자연': 4061, '자연계': 4062, '자연어': 4063, '자영': 4064, '자원': 4065, '자유': 4066, '자유롭다': 4067, '자재': 4068, '자전거': 4069, '자주': 4070, '자질': 4071, '자체': 4072, '자쿠': 4073, '자쿠지': 4074, '자택': 4075, '자판기': 4076, '자회사': 4077, '작': 4078, '작가': 4079, '작고': 4080, '작곡가': 4081, '작년': 4082, '작다': 4083, '작동': 4084, '작문': 4085, '작성': 4086, '작업': 4087, '작용': 4088, '작품': 4089, '잔': 4090, '잔고': 4091, '잔금': 4092, '잔디': 4093, '잔액': 4094, '잘': 4095, '잘못': 4096, '잘해야': 4097, '잠': 4098, '잠그다': 4099, '잠깐': 4100, '잠수': 4101, '잠시': 4102, '잠옷': 4103, '잠재': 4104, '잠재력': 4105, '잠정': 4106, '잡': 4107, '잡기': 4108, '잡다': 4109, '잡지': 4110, '잡채': 4111, '잡히다': 4112, '장': 4113, '장갑': 4114, '장거리': 4115, '장공': 4116, '장기': 4117, '장님': 4118, '장담': 4119, '장래': 4120, '장르': 4121, '장모님': 4122, '장바구니': 4123, '장벽': 4124, '장부': 4125, '장비': 4126, '장소': 4127, '장식': 4128, '장애': 4129, '장애물': 4130, '장애인': 4131, '장용': 4132, '장의': 4133, '장이': 4134, '장점': 4135, '장착': 4136, '장치': 4137, '장학금': 4138, '재': 4139, '재개': 4140, '재고': 4141, '재교육': 4142, '재난': 4143, '재능': 4144, '재단': 4145, '재료': 4146, '재무': 4147, '재무부': 4148, '재무제표': 4149, '재미': 4150, '재미있다': 4151, '재밌다': 4152, '재발': 4153, '재봉틀': 4154, '재사용': 4155, '재산': 4156, '재산권': 4157, '재생': 4158, '재우다': 4159, '재정': 4160, '재택근무': 4161, '재해': 4162, '재활': 4163, '쟁기질': 4164, '저': 4165, '저녁': 4166, '저녁식사': 4167, '저렴하다': 4168, '저만': 4169, '저만큼': 4170, '저명하다': 4171, '저번': 4172, '저속': 4173, '저자': 4174, '저작권': 4175, '저작권법': 4176, '저장': 4177, '저절로': 4178, '저지르다': 4179, '저쪽': 4180, '저축': 4181, '저항기': 4182, '저희': 4183, '적': 4184, '적격': 4185, '적극': 4186, '적기': 4187, '적다': 4188, '적당하다': 4189, '적도': 4190, '적립': 4191, '적어도': 4192, '적용': 4193, '적응': 4194, '적자': 4195, '적재': 4196, '적절하다': 4197, '적정': 4198, '적합하다': 4199, '적히다': 4200, '전': 4201, '전개': 4202, '전공': 4203, '전기': 4204, '전기자전거': 4205, '전날': 4206, '전념': 4207, '전달': 4208, '전동': 4209, '전략': 4210, '전력': 4211, '전류': 4212, '전망': 4213, '전면': 4214, '전무': 4215, '전문': 4216, '전문가': 4217, '전문성': 4218, '전문점': 4219, '전문직': 4220, '전반': 4221, '전병': 4222, '전부': 4223, '전분': 4224, '전선': 4225, '전세계': 4226, '전송': 4227, '전술': 4228, '전시': 4229, '전시장': 4230, '전시회': 4231, '전신': 4232, '전액': 4233, '전역': 4234, '전염병': 4235, '전용': 4236, '전원': 4237, '전이': 4238, '전자': 4239, '전자기': 4240, '전자기기': 4241, '전자레인지': 4242, '전자상거래': 4243, '전자제품': 4244, '전자책': 4245, '전적': 4246, '전체': 4247, '전통': 4248, '전통문화': 4249, '전표': 4250, '전하': 4251, '전해': 4252, '전혀': 4253, '전화': 4254, '전화기': 4255, '전화번호': 4256, '전화하다': 4257, '전환': 4258, '전후': 4259, '젇': 4260, '절': 4261, '절감': 4262, '절기': 4263, '절단': 4264, '절대': 4265, '절반': 4266, '절삭기': 4267, '절실': 4268, '절약': 4269, '절차': 4270, '젊다': 4271, '젊은이': 4272, '점': 4273, '점검': 4274, '점도': 4275, '점수': 4276, '점심': 4277, '점유': 4278, '점자': 4279, '점점': 4280, '점진': 4281, '점화': 4282, '접': 4283, '접근': 4284, '접근성': 4285, '접대': 4286, '접속': 4287, '접수': 4288, '접시': 4289, '접종': 4290, '접착': 4291, '접합': 4292, '젓가락': 4293, '정': 4294, '정관': 4295, '정규': 4296, '정규직': 4297, '정기': 4298, '정기예금': 4299, '정당하다': 4300, '정도': 4301, '정독': 4302, '정류장': 4303, '정리': 4304, '정말': 4305, '정말로': 4306, '정밀도': 4307, '정박': 4308, '정보': 4309, '정보기술': 4310, '정본': 4311, '정부': 4312, '정비': 4313, '정비사': 4314, '정산': 4315, '정상': 4316, '정상인': 4317, '정상화': 4318, '정성': 4319, '정수': 4320, '정수기': 4321, '정식': 4322, '정신': 4323, '정원': 4324, '정육점': 4325, '정의': 4326, '정이': 4327, '정적': 4328, '정전': 4329, '정직하다': 4330, '정착': 4331, '정책': 4332, '정체': 4333, '정치': 4334, '정치인': 4335, '정통': 4336, '정통하다': 4337, '정해': 4338, '정해지다': 4339, '정해진': 4340, '정화': 4341, '정확도': 4342, '정확하다': 4343, '제': 4344, '제거': 4345, '제곱': 4346, '제곱미터': 4347, '제공': 4348, '제기': 4349, '제대로': 4350, '제도': 4351, '제때': 4352, '제로': 4353, '제목': 4354, '제발': 4355, '제보': 4356, '제빵': 4357, '제빵사': 4358, '제삼자': 4359, '제시': 4360, '제안': 4361, '제어': 4362, '제외': 4363, '제일': 4364, '제입': 4365, '제작': 4366, '제작자': 4367, '제작회사': 4368, '제재': 4369, '제적': 4370, '제조': 4371, '제조업': 4372, '제조업체': 4373, '제주': 4374, '제출': 4375, '제품': 4376, '제품군': 4377, '제한': 4378, '제휴': 4379, '젠': 4380, '젯': 4381, '조': 4382, '조각': 4383, '조각가': 4384, '조각상': 4385, '조건': 4386, '조국': 4387, '조금': 4388, '조달': 4389, '조도': 4390, '조로': 4391, '조리': 4392, '조립': 4393, '조만간': 4394, '조명': 4395, '조명탄': 4396, '조물': 4397, '조미료': 4398, '조사': 4399, '조사해': 4400, '조선': 4401, '조수': 4402, '조식': 4403, '조심': 4404, '조심하다': 4405, '조언': 4406, '조용하다': 4407, '조잡하다': 4408, '조장': 4409, '조절': 4410, '조정': 4411, '조정은': 4412, '조지아': 4413, '조직': 4414, '조취': 4415, '조치': 4416, '조카': 4417, '조합': 4418, '조항': 4419, '조화': 4420, '조회': 4421, '족발': 4422, '존경': 4423, '존재': 4424, '존중': 4425, '졸업장': 4426, '좀': 4427, '좁히다': 4428, '종': 4429, '종교': 4430, '종단': 4431, '종도': 4432, '종로': 4433, '종료': 4434, '종류': 4435, '종사': 4436, '종습니': 4437, '종신': 4438, '종업원': 4439, '종이': 4440, '종일': 4441, '종합': 4442, '좋다': 4443, '좋아지다': 4444, '좋아하다': 4445, '좌석': 4446, '좌우': 4447, '죄송하다': 4448, '주': 4449, '주가': 4450, '주간': 4451, '주간지': 4452, '주거': 4453, '주고받다': 4454, '주기': 4455, '주다': 4456, '주된': 4457, '주렴': 4458, '주로': 4459, '주류': 4460, '주말': 4461, '주머니': 4462, '주목': 4463, '주무시다': 4464, '주문': 4465, '주민': 4466, '주민등록': 4467, '주방': 4468, '주변': 4469, '주사기': 4470, '주선': 4471, '주소': 4472, '주스': 4473, '주시': 4474, '주식': 4475, '주식시장': 4476, '주신': 4477, '주어지다': 4478, '주얼': 4479, '주요': 4480, '주의': 4481, '주인': 4482, '주일': 4483, '주임': 4484, '주자': 4485, '주장': 4486, '주저': 4487, '주제': 4488, '주제가': 4489, '주지': 4490, '주차': 4491, '주차장': 4492, '주철': 4493, '주택': 4494, '주파수': 4495, '죽': 4496, '준': 4497, '준비': 4498, '준수': 4499, '줄': 4500, '줄기': 4501, '줄다': 4502, '줄어들다': 4503, '줄이다': 4504, '줌': 4505, '줍다': 4506, '중': 4507, '중간': 4508, '중개': 4509, '중개사': 4510, '중개인': 4511, '중고': 4512, '중고품': 4513, '중공업': 4514, '중국': 4515, '중국집': 4516, '중단': 4517, '중등교육': 4518, '중복': 4519, '중소기업': 4520, '중시': 4521, '중심': 4522, '중심부': 4523, '중요성': 4524, '중요하다': 4525, '중이': 4526, '중인': 4527, '중장비': 4528, '중재': 4529, '중점': 4530, '중형견': 4531, '중환자': 4532, '즉': 4533, '즉각': 4534, '즉석': 4535, '즉시': 4536, '즐거움': 4537, '즐겁다': 4538, '즐기다': 4539, '증가': 4540, '증거': 4541, '증권': 4542, '증권사': 4543, '증명': 4544, '증명서': 4545, '증발기': 4546, '증빙': 4547, '증서': 4548, '증세': 4549, '증진': 4550, '증폭': 4551, '증폭기': 4552, '지': 4553, '지갑': 4554, '지게': 4555, '지게차': 4556, '지고': 4557, '지구': 4558, '지금': 4559, '지급': 4560, '지나다': 4561, '지난': 4562, '지난달': 4563, '지난번': 4564, '지난주': 4565, '지난해': 4566, '지남': 4567, '지내다': 4568, '지능': 4569, '지다': 4570, '지도': 4571, '지독하다': 4572, '지루하다': 4573, '지루함': 4574, '지르다': 4575, '지리': 4576, '지면': 4577, '지명': 4578, '지문': 4579, '지방': 4580, '지불': 4581, '지붕': 4582, '지사': 4583, '지속': 4584, '지수': 4585, '지시': 4586, '지식': 4587, '지역': 4588, '지역성': 4589, '지연': 4590, '지용': 4591, '지우다': 4592, '지원': 4593, '지원이': 4594, '지인': 4595, '지저분하다': 4596, '지적': 4597, '지점': 4598, '지정': 4599, '지주': 4600, '지지': 4601, '지체': 4602, '지출': 4603, '지침': 4604, '지켜보다': 4605, '지키다': 4606, '지폐': 4607, '지표': 4608, '지프': 4609, '지하실': 4610, '지하철': 4611, '지향': 4612, '직': 4613, '직감': 4614, '직경': 4615, '직급': 4616, '직도': 4617, '직면': 4618, '직물': 4619, '직불': 4620, '직업': 4621, '직원': 4622, '직장': 4623, '직접': 4624, '직접투자': 4625, '직책': 4626, '진': 4627, '진공': 4628, '진과': 4629, '진단': 4630, '진동': 4631, '진상': 4632, '진실': 4633, '진실하다': 4634, '진심': 4635, '진의': 4636, '진입': 4637, '진정': 4638, '진정하다': 4639, '진지하다': 4640, '진짜': 4641, '진출': 4642, '진행': 4643, '진행자': 4644, '진화': 4645, '진흥': 4646, '질': 4647, '질감': 4648, '질문': 4649, '질병': 4650, '질환': 4651, '짐': 4652, '집': 4653, '집값': 4654, '집다': 4655, '집단': 4656, '집세': 4657, '집안일': 4658, '집의': 4659, '집주인': 4660, '집중': 4661, '집하장': 4662, '집합': 4663, '집행': 4664, '집행자': 4665, '짓다': 4666, '징': 4667, '징글링': 4668, '짚': 4669, '짜다': 4670, '짜리': 4671, '짜장': 4672, '짤': 4673, '짧다': 4674, '째': 4675, '쪽': 4676, '쫓아내다': 4677, '쯤': 4678, '찌개': 4679, '찍다': 4680, '찍히다': 4681, '찜': 4682, '찜질방': 4683, '찢어지다': 4684, '차': 4685, '차감': 4686, '차갑다': 4687, '차고': 4688, '차기': 4689, '차다': 4690, '차단': 4691, '차도': 4692, '차등': 4693, '차라리': 4694, '차량': 4695, '차례': 4696, '차리다': 4697, '차별': 4698, '차서': 4699, '차용': 4700, '차원': 4701, '차이': 4702, '차이다': 4703, '차이점': 4704, '차입': 4705, '차지': 4706, '차질': 4707, '차트': 4708, '찬': 4709, '참가': 4710, '참가자': 4711, '참고': 4712, '참배': 4713, '참석': 4714, '참석자': 4715, '참여': 4716, '참으로': 4717, '참조': 4718, '찹쌀': 4719, '창': 4720, '창가': 4721, '창고': 4722, '창구': 4723, '창립': 4724, '창문': 4725, '창업': 4726, '창의': 4727, '찾기': 4728, '찾다': 4729, '찾아보다': 4730, '찾아오다': 4731, '채': 4732, '채굴': 4733, '채권': 4734, '채권자': 4735, '채널': 4736, '채다': 4737, '채무': 4738, '채무자': 4739, '채색': 4740, '채소': 4741, '채식': 4742, '채식주의자': 4743, '채용': 4744, '채우다': 4745, '채취': 4746, '채택': 4747, '채팅': 4748, '책': 4749, '책임': 4750, '책임감': 4751, '책임자': 4752, '책임지다': 4753, '책자': 4754, '책정': 4755, '챔버입니': 4756, '처': 4757, '처가': 4758, '처리': 4759, '처리기': 4760, '처방': 4761, '처분': 4762, '처음': 4763, '천만': 4764, '천연': 4765, '천연가스': 4766, '천장': 4767, '천천히': 4768, '철': 4769, '철강': 4770, '철도': 4771, '철저하다': 4772, '철제': 4773, '철학': 4774, '철회': 4775, '첨부': 4776, '첫': 4777, '첫날': 4778, '첫인상': 4779, '첫째': 4780, '청': 4781, '청각장애': 4782, '청구': 4783, '청년': 4784, '청동': 4785, '청문회': 4786, '청사진': 4787, '청소': 4788, '청소년': 4789, '청정': 4790, '청정기': 4791, '청중': 4792, '청취': 4793, '체결': 4794, '체납': 4795, '체류': 4796, '체육관': 4797, '체인': 4798, '체인점': 4799, '체제': 4800, '체크': 4801, '체크아웃': 4802, '체험': 4803, '초': 4804, '초고': 4805, '초과': 4806, '초기': 4807, '초당': 4808, '초대': 4809, '초대장': 4810, '초래': 4811, '초상화': 4812, '초안': 4813, '초음파': 4814, '초입': 4815, '초점': 4816, '초청': 4817, '초콜릿': 4818, '촉구': 4819, '촉박하다': 4820, '총': 4821, '총수': 4822, '총칭': 4823, '촬영': 4824, '최': 4825, '최고': 4826, '최고급': 4827, '최근': 4828, '최대': 4829, '최대한': 4830, '최상': 4831, '최선': 4832, '최선일': 4833, '최소': 4834, '최소한': 4835, '최신': 4836, '최악': 4837, '최저': 4838, '최적': 4839, '최적화': 4840, '최종': 4841, '최첨단': 4842, '최초': 4843, '추가': 4844, '추구': 4845, '추다': 4846, '추석': 4847, '추세': 4848, '추억': 4849, '추적': 4850, '추정': 4851, '추진': 4852, '추천': 4853, '추출': 4854, '추후': 4855, '축': 4856, '축배': 4857, '축소': 4858, '축하': 4859, '출구': 4860, '출금': 4861, '출두': 4862, '출력': 4863, '출발점': 4864, '출산': 4865, '출시': 4866, '출연': 4867, '출장': 4868, '출퇴근': 4869, '출판': 4870, '출판물': 4871, '출판사': 4872, '출하': 4873, '춤': 4874, '충': 4875, '충격': 4876, '충당': 4877, '충돌': 4878, '충분하다': 4879, '충실하다': 4880, '충전': 4881, '충전기': 4882, '충족': 4883, '취': 4884, '취급': 4885, '취득': 4886, '취미': 4887, '취사': 4888, '취소': 4889, '취약': 4890, '취재': 4891, '취직': 4892, '취하': 4893, '취한': 4894, '취할': 4895, '취해': 4896, '취향': 4897, '측': 4898, '측면': 4899, '측정': 4900, '측정기': 4901, '층': 4902, '치': 4903, '치가': 4904, '치과': 4905, '치다': 4906, '치료': 4907, '치르다': 4908, '치맥': 4909, '치솟다': 4910, '치수': 4911, '치열하다': 4912, '치즈': 4913, '치킨': 4914, '친': 4915, '친구': 4916, '친절하다': 4917, '친척': 4918, '친하다': 4919, '친환경': 4920, '칠': 4921, '칠하다': 4922, '침': 4923, '침대': 4924, '침실': 4925, '침입': 4926, '침체': 4927, '침해': 4928, '칩': 4929, '칩셋': 4930, '칭찬': 4931, '카드': 4932, '카메라': 4933, '카뷰': 4934, '카운터': 4935, '카운트다운': 4936, '카지노': 4937, '카탈로그': 4938, '카테고리': 4939, '카트': 4940, '카페': 4941, '카페테리아': 4942, '카펫': 4943, '카피': 4944, '칵테일': 4945, '칸': 4946, '칼': 4947, '칼리': 4948, '캐': 4949, '캐나다': 4950, '캐리어': 4951, '캐릭터': 4952, '캐비닛': 4953, '캐빈': 4954, '캐싱': 4955, '캐터필러': 4956, '캐피탈': 4957, '캐피털': 4958, '캘리포니아': 4959, '캘린더': 4960, '캠': 4961, '캠퍼스': 4962, '캠페인': 4963, '캠프': 4964, '캠프장': 4965, '캠프파이어': 4966, '캠핑': 4967, '캠핑장': 4968, '캠핑카': 4969, '캡슐화': 4970, '캡처': 4971, '커뮤니케이션': 4972, '커뮤니티': 4973, '커미션': 4974, '커버': 4975, '커지다': 4976, '커터': 4977, '커튼': 4978, '커플': 4979, '커피': 4980, '커피메이커': 4981, '컨디셔닝': 4982, '컨베이어': 4983, '컨설턴트': 4984, '컨설팅': 4985, '컨셉': 4986, '컨테이너': 4987, '컨텐츠': 4988, '컬래버레이션': 4989, '컬러': 4990, '컴퍼니': 4991, '컴포트룸': 4992, '컴퓨터': 4993, '컴퓨팅': 4994, '컴프레서': 4995, '컷': 4996, '케어': 4997, '케이': 4998, '케이블': 4999, '케이스': 5000, '케이크': 5001, '코': 5002, '코너': 5003, '코드': 5004, '코딩': 5005, '코로나': 5006, '코르크': 5007, '코리아': 5008, '코리안': 5009, '코멘트': 5010, '코스': 5011, '코스닥': 5012, '코인': 5013, '코치': 5014, '코칭': 5015, '코코넛': 5016, '코퍼레이션': 5017, '콕': 5018, '콘덴서': 5019, '콘도': 5020, '콘도그': 5021, '콘서트': 5022, '콘셉': 5023, '콘셉트': 5024, '콘솔': 5025, '콘크리트': 5026, '콘텐츠': 5027, '콜리': 5028, '콜링': 5029, '콜카타': 5030, '콩나물': 5031, '쾌적하다': 5032, '쿠션': 5033, '쿠알라룸푸르': 5034, '쿠키': 5035, '쿠폰': 5036, '쿨': 5037, '쿨러': 5038, '퀼트': 5039, '큐': 5040, '크게': 5041, '크기': 5042, '크다': 5043, '크레딧': 5044, '크레인': 5045, '크루아상': 5046, '크류': 5047, '크리스마스': 5048, '크리에이터': 5049, '크리에이티브': 5050, '크립': 5051, '클라우드': 5052, '클라이언트': 5053, '클래스': 5054, '클러스터': 5055, '클럽': 5056, '클레': 5057, '클리': 5058, '클릭': 5059, '클릭률': 5060, '클립': 5061, '큼': 5062, '키': 5063, '키란': 5064, '키우다': 5065, '키트': 5066, '킬로그램': 5067, '킬로미터': 5068, '킬로와트': 5069, '타': 5070, '타겟': 5071, '타고': 5072, '타깃': 5073, '타다': 5074, '타당': 5075, '타운하우스': 5076, '타원곡선': 5077, '타이머': 5078, '타이밍': 5079, '타이어': 5080, '타이틀곡': 5081, '타임': 5082, '타임스퀘어': 5083, '타입': 5084, '타자기': 5085, '타협': 5086, '탁월하다': 5087, '탁자': 5088, '탄소': 5089, '탄원서': 5090, '탈': 5091, '탈세': 5092, '탈수': 5093, '탈퇴': 5094, '탐구': 5095, '탐방': 5096, '탐색': 5097, '탐험': 5098, '탑': 5099, '탑승': 5100, '탑재': 5101, '탕': 5102, '탕감': 5103, '태국': 5104, '태국어': 5105, '태그': 5106, '태극': 5107, '태극기': 5108, '태도': 5109, '태블릿': 5110, '태양': 5111, '택배': 5112, '탤런트': 5113, '탭': 5114, '터': 5115, '터널': 5116, '터링': 5117, '터미널': 5118, '터북': 5119, '터치': 5120, '터치스크린': 5121, '터키': 5122, '턴': 5123, '턴키': 5124, '테': 5125, '테니스': 5126, '테라': 5127, '테라바이트': 5128, '테라스': 5129, '테마': 5130, '테스': 5131, '테스트': 5132, '테이': 5133, '테이블': 5134, '테이프': 5135, '테크놀로지': 5136, '텍스처': 5137, '텍스트': 5138, '텐데': 5139, '텐데요': 5140, '텐트': 5141, '텔레비전': 5142, '템플': 5143, '템플릿': 5144, '템플스테이': 5145, '토너': 5146, '토론': 5147, '토르티야': 5148, '토목': 5149, '토스터': 5150, '토스트': 5151, '토요일': 5152, '토지': 5153, '토큰': 5154, '톤': 5155, '통': 5156, '통계': 5157, '통과': 5158, '통관': 5159, '통닭': 5160, '통도사': 5161, '통보': 5162, '통상': 5163, '통신': 5164, '통신망': 5165, '통신사': 5166, '통역': 5167, '통역관': 5168, '통장': 5169, '통제': 5170, '통지': 5171, '통지서': 5172, '통째': 5173, '통찰': 5174, '통한': 5175, '통합': 5176, '통해': 5177, '통화': 5178, '퇴근': 5179, '퇴사': 5180, '투': 5181, '투명': 5182, '투명하다': 5183, '투숙': 5184, '투어': 5185, '투자': 5186, '투자가': 5187, '투자수익률': 5188, '투자자': 5189, '툴': 5190, '튀기다': 5191, '튀김': 5192, '튜브': 5193, '튜토리얼': 5194, '트': 5195, '트래킹': 5196, '트래픽': 5197, '트랙볼': 5198, '트랙터': 5199, '트랙패드': 5200, '트랜치': 5201, '트러블': 5202, '트럭': 5203, '트레인': 5204, '트레일러': 5205, '트렌드': 5206, '트리': 5207, '트리트먼트': 5208, '트리플': 5209, '트윈': 5210, '트이다': 5211, '특권': 5212, '특급': 5213, '특기': 5214, '특별': 5215, '특별하다': 5216, '특산': 5217, '특선': 5218, '특성': 5219, '특수': 5220, '특수하다': 5221, '특정': 5222, '특정하다': 5223, '특제': 5224, '특집': 5225, '특징': 5226, '특허': 5227, '특히': 5228, '튼튼하다': 5229, '틀다': 5230, '틀림없다': 5231, '틀림없이': 5232, '틀어놓다': 5233, '틈': 5234, '틈새': 5235, '티': 5236, '티슈': 5237, '티저': 5238, '티켓': 5239, '팀': 5240, '팀원': 5241, '팁': 5242, '팅': 5243, '파견': 5244, '파괴': 5245, '파다': 5246, '파란색': 5247, '파로': 5248, '파리': 5249, '파산': 5250, '파산하다': 5251, '파손': 5252, '파스타': 5253, '파악': 5254, '파워': 5255, '파이': 5256, '파이다': 5257, '파이썬': 5258, '파이프': 5259, '파이프라인': 5260, '파일': 5261, '파키스탄': 5262, '파트너': 5263, '파트너쉽': 5264, '파티': 5265, '파파야': 5266, '판': 5267, '판금': 5268, '판단': 5269, '판매': 5270, '판매량': 5271, '판매업': 5272, '판명': 5273, '판촉': 5274, '팔': 5275, '팔고': 5276, '팔다': 5277, '팔레트': 5278, '팔로우': 5279, '팔로워': 5280, '팔리다': 5281, '팔지': 5282, '팜스프링스': 5283, '팜유': 5284, '팝': 5285, '팟캐스트': 5286, '패널': 5287, '패션': 5288, '패스': 5289, '패스트': 5290, '패스트푸드': 5291, '패자': 5292, '패치': 5293, '패키지': 5294, '패턴': 5295, '팩': 5296, '팩스': 5297, '팬': 5298, '팬데믹': 5299, '팬케이크': 5300, '팸플릿': 5301, '퍼센트': 5302, '퍼지다': 5303, '펀드': 5304, '펀딩': 5305, '펄스': 5306, '펌프': 5307, '페스티벌': 5308, '페이': 5309, '페이스': 5310, '페이지': 5311, '펜션': 5312, '펠메니': 5313, '펴다': 5314, '편': 5315, '편곡': 5316, '편도': 5317, '편리하다': 5318, '편물': 5319, '편안하다': 5320, '편안함': 5321, '편애': 5322, '편의': 5323, '편의점': 5324, '편이': 5325, '편입': 5326, '편지': 5327, '편지함': 5328, '편집': 5329, '편집자': 5330, '편하다': 5331, '평가': 5332, '평가판': 5333, '평균': 5334, '평면도': 5335, '평방': 5336, '평범하다': 5337, '평생': 5338, '평일': 5339, '평점': 5340, '평판': 5341, '평편': 5342, '평평하다': 5343, '평화': 5344, '폐가': 5345, '폐기물': 5346, '폐쇄': 5347, '폐쇄되어': 5348, '폐쇄하': 5349, '포': 5350, '포격': 5351, '포괄': 5352, '포기': 5353, '포스터': 5354, '포스트': 5355, '포스팅': 5356, '포인트': 5357, '포장': 5358, '포지셔닝': 5359, '포지션': 5360, '포켓': 5361, '포탄': 5362, '포털': 5363, '포토': 5364, '포트': 5365, '포트폴리오': 5366, '포함': 5367, '포항': 5368, '폭': 5369, '폭력': 5370, '폰': 5371, '폰트': 5372, '폴더': 5373, '폴리스티렌': 5374, '폴리오': 5375, '폴리우레탄': 5376, '폼': 5377, '표': 5378, '표면': 5379, '표시': 5380, '표절': 5381, '표정': 5382, '표준': 5383, '표지': 5384, '표현': 5385, '푸드': 5386, '풀': 5387, '풀다': 5388, '품': 5389, '품다': 5390, '품목': 5391, '품절': 5392, '품종': 5393, '품질': 5394, '풍': 5395, '풍부하다': 5396, '풍향': 5397, '퓨전': 5398, '프라이': 5399, '프라이드': 5400, '프라이머리': 5401, '프랑스': 5402, '프랑스어': 5403, '프랜차이즈': 5404, '프레': 5405, '프레임': 5406, '프레임워크': 5407, '프로': 5408, '프로그래머': 5409, '프로그래밍': 5410, '프로그램': 5411, '프로듀서': 5412, '프로모션': 5413, '프로세서': 5414, '프로세스': 5415, '프로젝터': 5416, '프로젝트': 5417, '프로토콜': 5418, '프로토타입': 5419, '프로필': 5420, '프루티': 5421, '프리랜서': 5422, '프리미엄': 5423, '프리뷰': 5424, '프린터': 5425, '플': 5426, '플라스틱': 5427, '플라이': 5428, '플라자': 5429, '플래닝': 5430, '플래시': 5431, '플래티넘': 5432, '플랜': 5433, '플랫폼': 5434, '플러그인': 5435, '플러머': 5436, '플러스': 5437, '플레이': 5438, '플레이어': 5439, '플로우': 5440, '플로터': 5441, '플루': 5442, '플립': 5443, '피': 5444, '피나': 5445, '피니쉬': 5446, '피드백': 5447, '피로연': 5448, '피부': 5449, '피스톤': 5450, '피아노': 5451, '피우다': 5452, '피칭팀': 5453, '피크': 5454, '피트': 5455, '피트니스': 5456, '피하': 5457, '피해': 5458, '피해자': 5459, '픽셀': 5460, '픽업': 5461, '핀': 5462, '필기체': 5463, '필드': 5464, '필름': 5465, '필리핀': 5466, '필수': 5467, '필요': 5468, '필요성': 5469, '필요없다': 5470, '필요하다': 5471, '필욘': 5472, '필터': 5473, '핑크': 5474, '하': 5475, '하기는': 5476, '하나': 5477, '하나로': 5478, '하나요': 5479, '하니': 5480, '하다': 5481, '하단': 5482, '하드': 5483, '하드웨어': 5484, '하락': 5485, '하루': 5486, '하루나': 5487, '하룻밤': 5488, '하므다': 5489, '하수': 5490, '하숙집': 5491, '하얀색': 5492, '하오니': 5493, '하와이': 5494, '하우': 5495, '하우스': 5496, '하이재킹': 5497, '하이킹': 5498, '하이테크': 5499, '하자': 5500, '하지만': 5501, '학': 5502, '학과': 5503, '학교': 5504, '학기': 5505, '학년': 5506, '학문': 5507, '학생': 5508, '학술': 5509, '학습': 5510, '학업': 5511, '학원': 5512, '학위': 5513, '학자': 5514, '학자금': 5515, '한': 5516, '한가하다': 5517, '한계': 5518, '한국': 5519, '한국어': 5520, '한국은행': 5521, '한국인': 5522, '한다는': 5523, '한도': 5524, '한두': 5525, '한마디': 5526, '한번': 5527, '한식': 5528, '한식당': 5529, '한옥호텔': 5530, '한우': 5531, '한자': 5532, '한잔': 5533, '한정': 5534, '한정식': 5535, '한정판': 5536, '한지': 5537, '한창': 5538, '한층': 5539, '한편': 5540, '할당': 5541, '할랄': 5542, '할머니': 5543, '할부': 5544, '할애': 5545, '할인': 5546, '함': 5547, '함께': 5548, '합': 5549, '합격': 5550, '합계': 5551, '합류': 5552, '합리': 5553, '합법': 5554, '합성': 5555, '합의': 5556, '합작': 5557, '합치다': 5558, '합판': 5559, '핫': 5560, '핫스팟': 5561, '항': 5562, '항공': 5563, '항공사': 5564, '항구': 5565, '항목': 5566, '항상': 5567, '항성': 5568, '항의': 5569, '해': 5570, '해결': 5571, '해고': 5572, '해당': 5573, '해도': 5574, '해독': 5575, '해드리다': 5576, '해명': 5577, '해변': 5578, '해보다': 5579, '해봤다': 5580, '해상도': 5581, '해석': 5582, '해소': 5583, '해심': 5584, '해안': 5585, '해오다': 5586, '해외': 5587, '해외여행': 5588, '해주다': 5589, '해주시': 5590, '해지': 5591, '해초': 5592, '해커': 5593, '해킹': 5594, '해피': 5595, '핵심': 5596, '핸드폰': 5597, '행': 5598, '행동': 5599, '행복': 5600, '행복하다': 5601, '행사': 5602, '행운': 5603, '행해지다': 5604, '향': 5605, '향상': 5606, '향수': 5607, '향신료': 5608, '향후': 5609, '허가': 5610, '허가증': 5611, '허락': 5612, '허브': 5613, '허브차': 5614, '허슬': 5615, '허용': 5616, '허튼': 5617, '허풍': 5618, '헌신': 5619, '헐벗': 5620, '헤드헌터': 5621, '헤어드라이어': 5622, '헤지': 5623, '헬': 5624, '헬스장': 5625, '헷갈리다': 5626, '혁신': 5627, '현': 5628, '현금': 5629, '현대': 5630, '현명하다': 5631, '현미경': 5632, '현상': 5633, '현수막': 5634, '현장': 5635, '현재': 5636, '현지': 5637, '현행': 5638, '현황': 5639, '혈압': 5640, '혈액': 5641, '혐의': 5642, '협동': 5643, '협력': 5644, '협상': 5645, '협약': 5646, '협연': 5647, '협의': 5648, '협정': 5649, '협조': 5650, '협찬': 5651, '협회': 5652, '형': 5653, '형기': 5654, '형성': 5655, '형식': 5656, '형제': 5657, '형태': 5658, '혜택': 5659, '호도': 5660, '호법': 5661, '호스팅': 5662, '호실': 5663, '호의': 5664, '호주': 5665, '호출': 5666, '호텔': 5667, '호환': 5668, '호환성': 5669, '호흡': 5670, '혹독하다': 5671, '혹시': 5672, '혹은': 5673, '혼란': 5674, '혼자': 5675, '혼잡하다': 5676, '혼합': 5677, '홀': 5678, '홈': 5679, '홈스테이': 5680, '홈페이지': 5681, '홋카이도': 5682, '홍보': 5683, '화': 5684, '화가': 5685, '화거': 5686, '화기': 5687, '화나다': 5688, '화면': 5689, '화물': 5690, '화물선': 5691, '화보': 5692, '화상': 5693, '화상통화': 5694, '화상회의': 5695, '화소': 5696, '화요일': 5697, '화의': 5698, '화이트': 5699, '화장실': 5700, '화장품': 5701, '화전': 5702, '화폐': 5703, '화하다': 5704, '화학': 5705, '화합': 5706, '화해': 5707, '확고하다': 5708, '확답': 5709, '확대': 5710, '확보': 5711, '확신': 5712, '확실하다': 5713, '확인': 5714, '확장': 5715, '확정': 5716, '환': 5717, '환경': 5718, '환급': 5719, '환불': 5720, '환상': 5721, '환영': 5722, '환율': 5723, '환자': 5724, '환전': 5725, '환호': 5726, '활': 5727, '활동': 5728, '활발하다': 5729, '활성화': 5730, '활용': 5731, '회': 5732, '회계': 5733, '회계법인': 5734, '회계사': 5735, '회도': 5736, '회로': 5737, '회복': 5738, '회복하다': 5739, '회비': 5740, '회사': 5741, '회수': 5742, '회신': 5743, '회원': 5744, '회의': 5745, '회의실': 5746, '회의장': 5747, '회장': 5748, '회전': 5749, '회차': 5750, '회화': 5751, '횡설수설': 5752, '효과': 5753, '효율': 5754, '후': 5755, '후루룩': 5756, '후불': 5757, '후속': 5758, '후송': 5759, '후식': 5760, '후원': 5761, '후원자': 5762, '후의': 5763, '후회': 5764, '훈련': 5765, '훌륭하다': 5766, '훑다': 5767, '훨씬': 5768, '훼손': 5769, '휘': 5770, '휘발유': 5771, '휠': 5772, '휩쓸다': 5773, '휴': 5774, '휴가': 5775, '휴대': 5776, '휴대전화': 5777, '휴대폰': 5778, '휴식': 5779, '휴양': 5780, '흐름': 5781, '흐릿하': 5782, '흑자': 5783, '흔하다': 5784, '흘리다': 5785, '흙': 5786, '흙빛': 5787, '흡사하다': 5788, '흡수': 5789, '흡입': 5790, '흥미': 5791, '흥미롭다': 5792, '흥분': 5793, '흥분하다': 5794, '희망': 5795, '흰색': 5796, '히': 5797, '히트': 5798, '힘': 5799, '힘들다': 5800, '힘쓰다': 5801}\n"
          ]
        }
      ],
      "source": [
        "# token - idx dictionary\n",
        "# 여기서도 동일하게 i+1로 해줘야 padding에 사용할 token을 0으로 사용할 수 있습니다!\n",
        "src_to_index = dict([(word, i+1) for i, word in enumerate(src_vocab)])\n",
        "tar_to_index = dict([(word, i+1) for i, word in enumerate(tar_vocab)])\n",
        "print(src_to_index)\n",
        "print(tar_to_index)"
      ]
    },
    {
      "cell_type": "markdown",
      "metadata": {
        "id": "tWUdLA1eanaz"
      },
      "source": [
        "### 정수 인코딩"
      ]
    },
    {
      "cell_type": "code",
      "execution_count": 27,
      "metadata": {
        "id": "ocvHdAzp0B3Q",
        "colab": {
          "base_uri": "https://localhost:8080/"
        },
        "outputId": "ea4975ec-4511-464d-d208-90c4db2b32aa"
      },
      "outputs": [
        {
          "output_type": "stream",
          "name": "stdout",
          "text": [
            "source 문장의 정수 인코딩 :\n",
            " [tensor([3230, 4556, 4884,  ..., 5314, 5472, 1392]), tensor([3230, 4556, 4884,  ..., 5314, 5472, 1392]), tensor([3230, 4556, 4884,  ..., 5314, 5472, 1392]), tensor([3230, 4556, 4884,  ..., 5314, 5472, 1392]), tensor([3230, 4556, 4884,  ..., 5314, 5472, 1392])] \n",
            "\n"
          ]
        }
      ],
      "source": [
        "# 앞서 toekn-index dictionary로 정리한 것을 이용해서 각각의 토큰들을 정수인코딩을 진행해봅니다.\n",
        "# 이 과정에서 유의할 점은, 기존의 구현 코드에서 여러개의 for loop을 사용했습니다.\n",
        "# 이보다 빨리 진행하기 위해 어떻게 코딩할 수 있을까요?\n",
        "# 시간이 충분하시다면 for loop을 그대로 이용하셔도 좋습니다만, 다른 방법도 고민하셔도 좋습니다.\n",
        "# hint: Pandas에서 apply와 비슷한 것들을 이용해보면 어떨까요?\n",
        "\n",
        "encoder_input = []\n",
        "\n",
        "# 1개의 문장\n",
        "for line in src_seq_tr:\n",
        "  encoded_line = []\n",
        "  # 각 줄에서 1개의 알파벳별로 처리. 앞서서 동일한 방식으로 tokenization을 했기 때문!\n",
        "  for char in line:\n",
        "    # 각 알파벳을 정수로 바꾸어야합니다. 왜 하필 정수형이냐에 대해선 이후에 있을 Embedding과 관련 있습니다.\n",
        "    # 우선 각 알파벳을 숫자로 바꿔줍니다.\n",
        "    encoded_line.append(src_to_index[char])\n",
        "  # 위에서 사용한 index도 정수형이긴한데, 결국 torch.Tensor를 사용해야 하고, Tensor에서 정수형에 해당하는 type이 LongTensor이기 때문에\n",
        "  # .long()을 이용하여 정수형으로 만들어 줍니다.\n",
        "  encoder_input.append(torch.Tensor(encoded_line).long())\n",
        "print('source 문장의 정수 인코딩 :\\n',encoder_input[:5], '\\n')\n"
      ]
    },
    {
      "cell_type": "code",
      "source": [
        "decoder_input = []\n",
        "# 여기서 line은 문자열에 해당합니다. \n",
        "for line in tar_seq_tr:\n",
        "  encoded_line = []\n",
        "  for char in line:\n",
        "    encoded_line.append(tar_to_index[char])\n",
        "  # 현재 데이터 상 문장 맨 마지막에는 <EOS>가 들어가 있는데, decoder를 학습할 때 <EOS>를 넣지 않으니 마지막의 값을 pop하여 제외합니다.\n",
        "  encoded_line.pop(-1)\n",
        "\n",
        "  # 여기서 .long()은 정수 인코딩된 문장들의 type을 정하는 것으로, 이후에 Embedding layer를 사용할 때 해당 타입을 사용해야하기 때문에 사용한 것입니다.\n",
        "  decoder_input.append(torch.Tensor(encoded_line).long())  \n",
        "print('target 문장의 정수 인코딩 :\\n',decoder_input[:5],'\\n')"
      ],
      "metadata": {
        "colab": {
          "base_uri": "https://localhost:8080/"
        },
        "id": "vqeM0-wuzqO1",
        "outputId": "4e1e8864-7233-49eb-8428-dd47f18bd5c6"
      },
      "execution_count": 28,
      "outputs": [
        {
          "output_type": "stream",
          "name": "stdout",
          "text": [
            "target 문장의 정수 인코딩 :\n",
            " [tensor([1114, 2526, 2304,  ..., 4682, 4216, 4059]), tensor([1114, 2526, 2304,  ..., 4682, 4216, 4059]), tensor([1114, 2526, 2304,  ..., 4682, 4216, 4059]), tensor([1114, 2526, 2304,  ..., 4682, 4216, 4059]), tensor([1114, 2526, 2304,  ..., 4682, 4216, 4059])] \n",
            "\n"
          ]
        }
      ]
    },
    {
      "cell_type": "code",
      "source": [
        "decoder_target = []\n",
        "for line in tar_seq_tr:\n",
        "  # 여기서 timestep은 시퀀스 상 몇번째 값인지 알려주는 값입니다.\n",
        "  timestep = 0\n",
        "  encoded_line = []\n",
        "  for char in line:\n",
        "    # Decoder가 출력하는 값에서 문장의 시작을 알리는 값(SOS)가 들어가면 안됩니다.\n",
        "    # 반면 현재 데이터는 SOS로 시작하는 형태입니다. \n",
        "    # 그래서 시퀀스에서 0번째를 제외한 경우만 추가를 하게 된다면 적절히 제외될 것입니다. \n",
        "    if timestep > 0:\n",
        "      encoded_line.append(tar_to_index[char])\n",
        "    timestep = timestep + 1\n",
        "  \n",
        "  decoder_target.append(torch.Tensor(encoded_line).long())\n",
        "print('target 문장 레이블의 정수 인코딩 :\\n',decoder_target[:5],'\\n')"
      ],
      "metadata": {
        "colab": {
          "base_uri": "https://localhost:8080/"
        },
        "id": "5KrtvLn6HNSl",
        "outputId": "2fc73c17-85aa-44e6-f253-23eefb1523a7"
      },
      "execution_count": 29,
      "outputs": [
        {
          "output_type": "stream",
          "name": "stdout",
          "text": [
            "target 문장 레이블의 정수 인코딩 :\n",
            " [tensor([2526, 2304, 5313,  ..., 4216, 4059, 4236]), tensor([2526, 2304, 5313,  ..., 4216, 4059, 4236]), tensor([2526, 2304, 5313,  ..., 4216, 4059, 4236]), tensor([2526, 2304, 5313,  ..., 4216, 4059, 4236]), tensor([2526, 2304, 5313,  ..., 4216, 4059, 4236])] \n",
            "\n"
          ]
        }
      ]
    },
    {
      "cell_type": "code",
      "source": [
        "max_src_len = max([len(line) for line in src_seq_tr])\n",
        "max_tar_len = max([len(line) for line in tar_seq_tr])\n",
        "print('source 문장의 최대 길이 :',max_src_len)\n",
        "print('target 문장의 최대 길이 :',max_tar_len)"
      ],
      "metadata": {
        "colab": {
          "base_uri": "https://localhost:8080/"
        },
        "id": "ZDEGT4IvHpJF",
        "outputId": "4b550b6e-a54c-4f9c-c534-d33b068a5563"
      },
      "execution_count": 30,
      "outputs": [
        {
          "output_type": "stream",
          "name": "stdout",
          "text": [
            "source 문장의 최대 길이 : 6910\n",
            "target 문장의 최대 길이 : 5801\n"
          ]
        }
      ]
    },
    {
      "cell_type": "code",
      "execution_count": 31,
      "metadata": {
        "id": "fT3x1SL_l1pY"
      },
      "outputs": [],
      "source": [
        "from torch.nn.utils.rnn import pad_sequence"
      ]
    },
    {
      "cell_type": "markdown",
      "metadata": {
        "id": "ibj8DeCqbvZG"
      },
      "source": [
        "### Padding"
      ]
    },
    {
      "cell_type": "code",
      "execution_count": 32,
      "metadata": {
        "id": "sSNmdbEwuQR5"
      },
      "outputs": [],
      "source": [
        "# 현재 길이가 제각각인 정수화된 문장이 있습니다. padding을 통해 길이를 맞춰봅시다\n",
        "# 주의사항: 여기에 사용된 값을은 정수일까요?\n",
        "batch_first = True\n",
        "\n",
        "encoder_input = pad_sequence(encoder_input, batch_first=batch_first).long()\n",
        "decoder_input = pad_sequence(decoder_input, batch_first=batch_first).long()\n",
        "decoder_target = pad_sequence(decoder_target, batch_first=batch_first).long()"
      ]
    },
    {
      "cell_type": "markdown",
      "metadata": {
        "id": "FQ_AHRQPmfZX"
      },
      "source": [
        "## Train data\n",
        "\n",
        "tuple type으로,  (encoder_input, decoder_input, decoder_target)의 순서를 가지게 됩니다. 이는 tuple assignment를 이용하려고 하는 것이니 자유롭게 사용하셔도 좋습니다."
      ]
    },
    {
      "cell_type": "code",
      "execution_count": 33,
      "metadata": {
        "id": "YXqi5dV-mjQD"
      },
      "outputs": [],
      "source": [
        "train_data = tuple([encoder_input, decoder_input, decoder_target])"
      ]
    },
    {
      "cell_type": "markdown",
      "metadata": {
        "id": "nXhsP4O3mhih"
      },
      "source": [
        "## Eval data\n",
        "\n",
        "지금까지 진행한 것은 학습 데이터에 대한 전처리입니다.\n",
        "\n",
        "그런데 말입니다, 과연 평가 데이터는 학습데이터랑 동일한 형태일까요?\n",
        "\n",
        "사용하는 단어도 동일할까요?\n",
        "\n",
        "게다가 실제 데이터라면 문장 속에 이메일이나, 전화번호등 다른 것들로 대체해야할 게 있지 않을까요?\n",
        "\n",
        "참으로 고민할 게 많습니다. 이 모든 것들을 고려하면 좋겠지만, 현재 과제에서는 학습 데이터의 단어 집합에는 없는데 평가 데이터에서 등장하는 단어들은 어떻게 처리할지 한번 고민해봅시다.\n",
        "\n",
        "**핵심 TODO**:만약에 본 적이 없는 token이 나온다면 어떻게 될까요?\n",
        "\n",
        "--> Out of Vocabulary !  =지금까지 단어 집합에 없던 아이들!<br>\n",
        "\n",
        "이를 한번에 처리해주는 토큰으로 \\<UNK\\>(=unknown token) 을 사용\n",
        "\n",
        "EX)\n",
        "\n",
        "train data : \"나는 밥을 먹는다.\"<br>\n",
        "\\>> [\"나\", \"밥\", \"먹다\"]<br>\n",
        "\\>> [\\<SOS\\>, 나, 밥, 먹다, \\<EOS\\>] <BR>\n",
        "\\>> {\\<SOS\\>:0, \\<EOS\\>:1, \\<UNK\\>: 2, 나:3, 밥:4, 먹다:5}  <bR>\n",
        "\\>> [0, 3, 4, 5, 1] <BR>\n",
        "\n",
        "val data: \"나는 고기를 먹는다\"<br>\n",
        "\\>> ['나', '고기' '먹다']<BR>\n",
        "\\>> [\\<SOS\\>, 나, \\<UNK\\>, 먹다, \\<EOS\\>] <BR>\n",
        "\\>> [0, 3, 2, 5, 1] <BR>"
      ]
    },
    {
      "cell_type": "code",
      "execution_count": 34,
      "metadata": {
        "colab": {
          "base_uri": "https://localhost:8080/"
        },
        "id": "tvlFP0Q94rU3",
        "outputId": "02477134-c0c4-492a-ce14-a79bf9bc378d"
      },
      "outputs": [
        {
          "output_type": "stream",
          "name": "stderr",
          "text": [
            "100%|██████████| 1000/1000 [00:11<00:00, 87.84it/s]\n"
          ]
        }
      ],
      "source": [
        "src_seq_val = []\n",
        "tar_seq_val = []\n",
        "\n",
        "for raw_val_dat in tqdm(raw_val_data):\n",
        "  # 문장별 tokenization\n",
        "  src_tmp = CustomTokenization(raw_val_dat['ko'])\n",
        "  tar_tmp = CustomTokenization(raw_val_dat['en'])\n",
        "\n",
        "  # 입력 시퀀스에서 문장의 끝을 알리는 <EOS> 토큰 추가\n",
        "  # 출력 시퀀스에서 시작과 끝을 알리는 <SOS>, <EOS> 토큰 추가\n",
        "  src_tmp.append('\\n')\n",
        "  \n",
        "  tar_tmp.insert(0, '\\t')\n",
        "  tar_tmp.append('\\n')\n",
        "\n",
        "  # 처음보는 단어들은 일단 모르는 단어(OOV)로 표시해놓기  \n",
        "  # 해당 과정에서는 지금 얻은 toekn들(src_tmp와 tar_tmp)들 중에서 학습 데이터의 단어 집합(src_vocab과 tar_vocab)에 없는 단어들을 찾아야 합니다.\n",
        "  # 즉 위의 예시에서 \"고기\"에 해당하는 token을 찾아야 하고, 이를 list로 저장해봅시다.\n",
        "  src_oov = list(filter(lambda x : x not in src_vocab , src_tmp))\n",
        "  tar_oov = list(filter(lambda x : x not in tar_vocab , tar_tmp))\n",
        "\n",
        "  # OOV들은 <UNK>로 바꾸는 과정입니다.\n",
        "  # 지금 문장을 tokenization되어 있고, 앞서 구한 모르는 단어(OOV)들의 리스트(src_oov와 tar_oov)가 있는 상황에서\n",
        "  # 해당 리스트에 속한 토큰들은 <UNK>토큰으로 바꿔주는 것을 구현하는 파트입니다.\n",
        "  # 위의 예시에서 본다면 [<SOS>, 나, 고기, 먹다, <EOS>]를 [<SOS>, 나, <UNK>, 먹다, <EOS>]로 만들어주는 과정입니다.\n",
        "  for index, value in enumerate(src_tmp):\n",
        "    \n",
        "    if value in src_oov :\n",
        "      \n",
        "      src_tmp[index] = '<UNK>'\n",
        "\n",
        "  for index, value in enumerate(tar_tmp):\n",
        "    \n",
        "    if value in tar_oov :\n",
        "      \n",
        "      tar_tmp[index] = '<UNK>'\n",
        "  \n",
        "  # tokenization 끝난 문장 보관\n",
        "  src_seq_val.append(src_tmp)\n",
        "  tar_seq_val.append(tar_tmp)"
      ]
    },
    {
      "cell_type": "code",
      "execution_count": 35,
      "metadata": {
        "colab": {
          "base_uri": "https://localhost:8080/"
        },
        "id": "s7x2S0t08dfe",
        "outputId": "8a24d803-7b51-438d-ccb9-fc77d1bb732b"
      },
      "outputs": [
        {
          "output_type": "execute_result",
          "data": {
            "text/plain": [
              "['<UNK>',\n",
              " '<UNK>',\n",
              " '<UNK>',\n",
              " '<UNK>',\n",
              " '<UNK>',\n",
              " '<UNK>',\n",
              " '<UNK>',\n",
              " '<UNK>',\n",
              " '<UNK>']"
            ]
          },
          "metadata": {},
          "execution_count": 35
        }
      ],
      "source": [
        "tar_seq_val[5]"
      ]
    },
    {
      "cell_type": "markdown",
      "metadata": {
        "id": "70nzuKIPf3nX"
      },
      "source": [
        "위의 샘플을 보면 생각보다 너무 많은 단어들이 UNK로 바뀌었습니다. 이게 과연 성능에 어떤 영향을 끼칠까요? 이를 방지할 수 있는 대책은 무엇일까요?\n",
        "\n",
        "정답은 없습니다. 자유롭게 고민해보셔도 좋을 것 같습니다."
      ]
    },
    {
      "cell_type": "markdown",
      "metadata": {
        "id": "KoH1M8GofxwV"
      },
      "source": [
        "### UNK 토큰 추가 및 단어집합, token-index 업데이트"
      ]
    },
    {
      "cell_type": "code",
      "execution_count": 36,
      "metadata": {
        "id": "lE3iIu_W8-78"
      },
      "outputs": [],
      "source": [
        "# UNK가 추가되면서 vocab과 index도 업데이트를 해야합니다.\n",
        "# 즉 지금 방식으로 처리한다면, 지금 단어 집합에는 <UNK>라는 토큰이 없습니다.\n",
        "# 그래서 UNK 토큰에도 정수를 할당해줘야 합니다.\n",
        "# 지금 0은 padding에서 사용하고 있으니 아래의 과정은 마지막에 <UNK>를 추가해보는 것입니다."
      ]
    },
    {
      "cell_type": "code",
      "execution_count": 37,
      "metadata": {
        "colab": {
          "base_uri": "https://localhost:8080/"
        },
        "id": "KRl3l4bE9cVh",
        "outputId": "0e8514e4-dd49-4c63-f62c-867884faf614"
      },
      "outputs": [
        {
          "output_type": "execute_result",
          "data": {
            "text/plain": [
              "('é', 6910)"
            ]
          },
          "metadata": {},
          "execution_count": 37
        }
      ],
      "source": [
        "# 입력 시퀀스의 마지막 토큰과 정수인코딩값 확인\n",
        "list(src_to_index.items())[-1]"
      ]
    },
    {
      "cell_type": "code",
      "source": [
        "list(tar_to_index.items())[-1]"
      ],
      "metadata": {
        "colab": {
          "base_uri": "https://localhost:8080/"
        },
        "id": "0kwLa0FWLsaR",
        "outputId": "3e873389-7c87-473c-9682-5833b3dd2315"
      },
      "execution_count": 38,
      "outputs": [
        {
          "output_type": "execute_result",
          "data": {
            "text/plain": [
              "('힘쓰다', 5801)"
            ]
          },
          "metadata": {},
          "execution_count": 38
        }
      ]
    },
    {
      "cell_type": "code",
      "execution_count": 39,
      "metadata": {
        "colab": {
          "base_uri": "https://localhost:8080/"
        },
        "id": "yRuj2FNmgfA3",
        "outputId": "1e816da8-08e9-4530-8033-64f53a9710c6"
      },
      "outputs": [
        {
          "output_type": "execute_result",
          "data": {
            "text/plain": [
              "6910"
            ]
          },
          "metadata": {},
          "execution_count": 39
        }
      ],
      "source": [
        "# 현재 입력 시퀀스에 사용된 token들의 개수 확인\n",
        "len(src_vocab)"
      ]
    },
    {
      "cell_type": "code",
      "source": [
        "len(tar_vocab)"
      ],
      "metadata": {
        "colab": {
          "base_uri": "https://localhost:8080/"
        },
        "id": "vj3JfpAWLxmk",
        "outputId": "49fe616f-2aaf-4431-b937-964503e657e7"
      },
      "execution_count": 40,
      "outputs": [
        {
          "output_type": "execute_result",
          "data": {
            "text/plain": [
              "5801"
            ]
          },
          "metadata": {},
          "execution_count": 40
        }
      ]
    },
    {
      "cell_type": "code",
      "execution_count": 41,
      "metadata": {
        "id": "2hQsCc5i9aw2"
      },
      "outputs": [],
      "source": [
        "# 우리는 마지막 토큰 뒤에 UNK 토큰을 추가해봅시다\n",
        "# 이 때 입력 시퀀스(src_to_index)와 출력시퀀스(tar_to_index)에 모두 사용해줘야 합니다.\n",
        "src_to_index[\"<UNK>\"] = 6911\n",
        "tar_to_index[\"<UNK>\"] = 5802"
      ]
    },
    {
      "cell_type": "code",
      "execution_count": 42,
      "metadata": {
        "colab": {
          "base_uri": "https://localhost:8080/"
        },
        "id": "09pOS9MtaUVJ",
        "outputId": "935534df-5397-4c12-e57d-44130e4210de"
      },
      "outputs": [
        {
          "output_type": "stream",
          "name": "stdout",
          "text": [
            "[(',', 1), ('<EOS>', 2), ('<SOS>', 3), ('A', 4), ('AAA', 5)]\n",
            "[('<UNK>', 5802), ('힘쓰다', 5801), ('힘들다', 5800), ('힘', 5799)]\n"
          ]
        }
      ],
      "source": [
        "# 입력시퀀스의 단어집합 확인\n",
        "print(list(tar_to_index.items())[:5])\n",
        "print(list(tar_to_index.items())[-1:-5:-1])"
      ]
    },
    {
      "cell_type": "code",
      "execution_count": 43,
      "metadata": {
        "colab": {
          "base_uri": "https://localhost:8080/"
        },
        "id": "ZZqYpbTe-AK1",
        "outputId": "dbc348b3-1e59-4d5d-c1a5-4689741055a3"
      },
      "outputs": [
        {
          "output_type": "stream",
          "name": "stdout",
          "text": [
            "[(',', 1), ('.', 2), ('<EOS>', 3), ('A', 4), ('AAA', 5)]\n",
            "[('<UNK>', 6911), ('é', 6910), ('zoom', 6909), ('zones', 6908)]\n"
          ]
        }
      ],
      "source": [
        "# 출력시퀀스의 단어집합 확인\n",
        "print(list(src_to_index.items())[:5])\n",
        "print(list(src_to_index.items())[-1:-5:-1])"
      ]
    },
    {
      "cell_type": "markdown",
      "metadata": {
        "id": "-E5zRRZuhQa_"
      },
      "source": [
        "### 정수 인코딩"
      ]
    },
    {
      "cell_type": "code",
      "execution_count": 44,
      "metadata": {
        "id": "LHRGJgfs-axo",
        "colab": {
          "base_uri": "https://localhost:8080/"
        },
        "outputId": "2f39ccee-669b-4abb-ad56-cc1a218b0ec0"
      },
      "outputs": [
        {
          "output_type": "stream",
          "name": "stdout",
          "text": [
            "source 문장의 정수 인코딩 :\n",
            " [tensor([6911, 6911, 6911, 6911, 6911, 6911, 6911, 6911, 6911, 6911, 6911, 6911,\n",
            "        6911, 6911, 6911, 6911, 6911, 6911]), tensor([6911, 6911, 6911, 6911, 6911, 6911, 6911, 6911, 6911]), tensor([6911, 6911, 6911, 6911, 6911, 6911]), tensor([6911,   72, 6911,    5, 6911, 6911]), tensor([6911, 6911, 6911, 6911, 6911, 6911, 6911, 6911, 6911, 6911, 6911, 6911,\n",
            "        6911, 6911])] \n",
            "\n"
          ]
        }
      ],
      "source": [
        "# 평가 데이터에 대해서  정수 인코딩을 진행해주세요!\n",
        "# 이 과정에서 중요한 점은 우린 학습데이터만 가지고 있으니 학습 데이터에서 사용했던 toekn-index로 인코딩을 진행해야 합니다!\n",
        "# 참고 : 어떻게 하면 효율적 혹은 빠르게 할까요?\n",
        "\n",
        "\n",
        "encoder_input_val = []\n",
        "for sentence in src_seq_val :\n",
        "  encoded_line = []\n",
        "  for char in sentence :\n",
        "    encoded_line.append(src_to_index[char])\n",
        "  encoder_input_val.append(torch.Tensor(encoded_line).long())\n",
        "print('source 문장의 정수 인코딩 :\\n',encoder_input_val[:5], '\\n')"
      ]
    },
    {
      "cell_type": "code",
      "source": [
        "decoder_input_val = []\n",
        "\n",
        "for sentence in tar_seq_val :\n",
        "  encoded_line = []\n",
        "  for word in sentence :\n",
        "    encoded_line.append(tar_to_index[word])\n",
        "  encoded_line.pop(-1)\n",
        "  decoder_input_val.append(torch.Tensor(encoded_line).long())  \n",
        "print('target 문장의 정수 인코딩 :\\n',decoder_input_val[:5],'\\n')"
      ],
      "metadata": {
        "colab": {
          "base_uri": "https://localhost:8080/"
        },
        "id": "JnyUCt-kXmTx",
        "outputId": "8a647959-6079-4f01-80c0-f60c4272b6c1"
      },
      "execution_count": 45,
      "outputs": [
        {
          "output_type": "stream",
          "name": "stdout",
          "text": [
            "target 문장의 정수 인코딩 :\n",
            " [tensor([5802, 5802, 5802, 5802, 5802, 5802, 5802, 5802, 5802, 5802, 5802, 5802,\n",
            "        5802, 5802, 5802, 5802, 5802, 5802, 5802, 5802]), tensor([5802, 5802, 5802, 5802, 5802, 5802, 5802, 5802, 5802, 5802, 5802, 5802,\n",
            "        5802, 5802]), tensor([5802, 5802, 5802, 5802, 5802, 5802, 5802, 5802, 5802]), tensor([5802, 5802,   14, 5802,    5]), tensor([5802, 5802, 5802, 5802, 5802, 5802, 5802, 5802, 5802, 5802, 5802, 5802,\n",
            "        5802])] \n",
            "\n"
          ]
        }
      ]
    },
    {
      "cell_type": "code",
      "source": [
        "decoder_target_val = []\n",
        "\n",
        "for sentence in tar_seq_val :\n",
        "  timestep = 0\n",
        "  encoded_line = []\n",
        "  for word in sentence :\n",
        "    if timestep > 0 :\n",
        "      encoded_line.append(tar_to_index[word])\n",
        "    timestep = timestep + 1\n",
        "  decoder_target_val.append(torch.Tensor(encoded_line).long())\n",
        "print('target 문장 레이블의 정수 인코딩 :\\n',decoder_target_val[:5],'\\n')"
      ],
      "metadata": {
        "colab": {
          "base_uri": "https://localhost:8080/"
        },
        "id": "S1jZ6fnnXso0",
        "outputId": "f1fc718f-e2e0-4d0a-ee97-a1210e6523c7"
      },
      "execution_count": 46,
      "outputs": [
        {
          "output_type": "stream",
          "name": "stdout",
          "text": [
            "target 문장 레이블의 정수 인코딩 :\n",
            " [tensor([5802, 5802, 5802, 5802, 5802, 5802, 5802, 5802, 5802, 5802, 5802, 5802,\n",
            "        5802, 5802, 5802, 5802, 5802, 5802, 5802, 5802]), tensor([5802, 5802, 5802, 5802, 5802, 5802, 5802, 5802, 5802, 5802, 5802, 5802,\n",
            "        5802, 5802]), tensor([5802, 5802, 5802, 5802, 5802, 5802, 5802, 5802, 5802]), tensor([5802,   14, 5802,    5, 5802]), tensor([5802, 5802, 5802, 5802, 5802, 5802, 5802, 5802, 5802, 5802, 5802, 5802,\n",
            "        5802])] \n",
            "\n"
          ]
        }
      ]
    },
    {
      "cell_type": "markdown",
      "metadata": {
        "id": "ws8RA6UThh0t"
      },
      "source": [
        "### Padding"
      ]
    },
    {
      "cell_type": "code",
      "execution_count": 47,
      "metadata": {
        "id": "4Qc_bb02-s6_"
      },
      "outputs": [],
      "source": [
        "# 주의사항: 여기에 사용된 값을은 정수일까요?\n",
        "encoder_input_val = pad_sequence(encoder_input_val, batch_first=batch_first).long()\n",
        "decoder_input_val = pad_sequence(decoder_input_val, batch_first=batch_first).long()\n",
        "decoder_target_val = pad_sequence(decoder_target_val, batch_first=batch_first).long()"
      ]
    },
    {
      "cell_type": "code",
      "execution_count": 48,
      "metadata": {
        "id": "E7DOj62GnAfX"
      },
      "outputs": [],
      "source": [
        "val_data = tuple([encoder_input_val, decoder_input_val, decoder_target_val])"
      ]
    },
    {
      "cell_type": "markdown",
      "metadata": {
        "id": "WlZl7q5cxscM"
      },
      "source": [
        "# Dataset\n",
        "\n",
        "실습코드에서 사용한 것과 동일한 구조입니다! \n",
        "\n",
        "사실 앞서 처리가 진행되었던 모든 과정은 Dataset에서 __get_item__ 함수 내에서 처리해서 값을 리턴할 수도 있습니다.\n",
        "\n",
        "다만 설명을 위해 이번 과제에서는 과정을 단계별로 설명 드렸습니다. 추후에 진행하실 때엔 __get_item__에서 구현해보셔도 좋을 것 같아요!\n",
        "\n",
        "그리고 일부 단계의 경우 임의로 처리된 것들이 있습니다.(tokenization부터 stopwords 등등) 가령 이메일, 전화번호와 같은 단어들은 \\<UNK\\>처럼 새로운 토큰을 이용해서 처리할 수도 있으며 목적에 따라서 다른 tokenziation을 사용할 수 있습니다.\n",
        "\n",
        "**(참고)**\n",
        "\n",
        " __get_item__말고 사전에 전처리를 다한 상태로 사용할 경우 사실 사용할 모든 데이터를 메모리에 올려놓고 사용하는 것과 같습니다.(변수에 할당되어 있으니)\n",
        "\n",
        "그런데 우리가 데이터가 매매매매매우 많아진다면, 메모리가 부족해질 수도 있지 않을까요? 그렇기 때문에 때에 따라 data를 필요할 때 전처리를 하고 반환하기도 합니다. 여기서 data가 필요할때란 결국 __get_item__을 호출할 때가 될 것입니다.\n",
        "\n",
        "정리하자면, 꼭 모든 데이터를 한번에 다 전처리해놓도 준비해놓지 않고도, 필요할 때 마다(get_item이 호출될 때마다) 전처리해서 결과를 전달하는 방법도 있습니다.\n",
        "\n",
        "다만 해당 과제에서는 Seq2Seq에 익숙해지는 것을 목표로 하기에 이러한 점만 알고 가셔도 충분하기도 하고, 오히려 사전에 다 처리해놓는 현재 방식이 더 효율적일 수도 있습니다. 그렇기 때문에 이 점만 알고 가셔도 좋을 것 같습니다!"
      ]
    },
    {
      "cell_type": "code",
      "execution_count": 49,
      "metadata": {
        "id": "j5lj6ZOPxpcj"
      },
      "outputs": [],
      "source": [
        "from torch.utils.data import Dataset, DataLoader"
      ]
    },
    {
      "cell_type": "code",
      "execution_count": 50,
      "metadata": {
        "id": "xc7ZqjGmx1dk"
      },
      "outputs": [],
      "source": [
        "class textDataset(Dataset):\n",
        "  def __init__(self, data, batch_first=True):\n",
        "    super(textDataset, self).__init__()\n",
        "    # tuple asgginment를 활용한다면 굳이 argument로 모든 데이터를 받지 않아도 됩니다!\n",
        "    enc_inp, dec_inp, dec_out = data\n",
        "\n",
        "    # 내부에서 사용할 변수들 정리하는 것으로, 모든 데이터가 torch.LongTensor로 정리된 값들이 저장됩니다.\n",
        "    self.enc_inp = enc_inp\n",
        "    self.batch_first= batch_first\n",
        "    self.dec_inp = dec_inp\n",
        "    self.dec_out = dec_out\n",
        "\n",
        "\n",
        "  def __getitem__(self, idx):\n",
        "    return self.enc_inp[idx], self.dec_inp[idx],self.dec_out[idx]\n",
        "\n",
        "  def __len__(self):\n",
        "    return self.enc_inp.size(int(~self.batch_first))"
      ]
    },
    {
      "cell_type": "code",
      "execution_count": 51,
      "metadata": {
        "id": "Z30_EO0uxrgH"
      },
      "outputs": [],
      "source": [
        "train_dataset = textDataset(train_data, batch_first=batch_first)\n",
        "val_dataset = textDataset(val_data, batch_first=batch_first)"
      ]
    },
    {
      "cell_type": "code",
      "execution_count": 52,
      "metadata": {
        "colab": {
          "base_uri": "https://localhost:8080/"
        },
        "id": "J_AqR38AoB5n",
        "outputId": "7c77da86-ec6c-43b0-a7e1-f0487b3e1e77"
      },
      "outputs": [
        {
          "output_type": "execute_result",
          "data": {
            "text/plain": [
              "(tensor([6911, 6911, 6911, 6911, 6911, 6911, 6911, 6911, 6911, 6911, 6911, 6911,\n",
              "         6911, 6911, 6911, 6911, 6911, 6911,    0,    0,    0,    0,    0,    0,\n",
              "            0,    0,    0,    0,    0,    0,    0,    0]),\n",
              " tensor([5802, 5802, 5802, 5802, 5802, 5802, 5802, 5802, 5802, 5802, 5802, 5802,\n",
              "         5802, 5802, 5802, 5802, 5802, 5802, 5802, 5802,    0,    0,    0,    0,\n",
              "            0,    0,    0,    0,    0,    0]),\n",
              " tensor([5802, 5802, 5802, 5802, 5802, 5802, 5802, 5802, 5802, 5802, 5802, 5802,\n",
              "         5802, 5802, 5802, 5802, 5802, 5802, 5802, 5802,    0,    0,    0,    0,\n",
              "            0,    0,    0,    0,    0,    0]))"
            ]
          },
          "metadata": {},
          "execution_count": 52
        }
      ],
      "source": [
        "val_dataset[0]"
      ]
    },
    {
      "cell_type": "markdown",
      "metadata": {
        "id": "rYq6eGm0qaOh"
      },
      "source": [
        "# Model"
      ]
    },
    {
      "cell_type": "code",
      "execution_count": 53,
      "metadata": {
        "id": "ce3NfbA2qfSV"
      },
      "outputs": [],
      "source": [
        "import torch.nn as nn\n",
        "import torch.functional as F"
      ]
    },
    {
      "cell_type": "markdown",
      "metadata": {
        "id": "zcThBf_DqbuT"
      },
      "source": [
        "## Encoder\n",
        "\n",
        "본 모델에서는 LSTM를 기본 단위로 가지는 Seq2Seq 모델을 구성할 것\n",
        "\n",
        "참고 [레퍼런스](https://pytorch.org/docs/stable/generated/torch.nn.LSTM.html)"
      ]
    },
    {
      "cell_type": "code",
      "execution_count": 54,
      "metadata": {
        "id": "A719R9uZqZG2"
      },
      "outputs": [],
      "source": [
        "class Encoder(nn.Module):\n",
        "  def __init__(self, in_size, hid_size, tok_size, bat_first=True, num_lay=1, bidirect=False):\n",
        "    super(Encoder, self).__init__()\n",
        "    self.hidden_size = hid_size\n",
        "    self.embedding = nn.Embedding(tok_size, in_size)\n",
        "    self.num_layers = num_lay\n",
        "    self.num_directional = 2 if bidirect else 1\n",
        "    self.batch_first = bat_first\n",
        "    self.lstm = nn.LSTM(in_size, \n",
        "                        hid_size, \n",
        "                        num_layers = num_lay,\n",
        "                        batch_first = bat_first,\n",
        "                        bidirectional=bidirect)\n",
        "\n",
        "  def forward(self, x, hidden):\n",
        "    \"\"\"\n",
        "    x: (batch_size, seq_len)\n",
        "    hidden: (batch_size, seq_len, hidden_size)\n",
        "    \"\"\"\n",
        "\n",
        "    # emb : (batch_size, seq_len, input_size)\n",
        "    emb = self.embedding(x)\n",
        "\n",
        "\n",
        "    # out : (batch_size, seq_len, hidden_size)\n",
        "    # hidden: (num_layers, batch_size, hidden_size)\n",
        "    out, hidden = self.lstm(emb, hidden)\n",
        "    return out, hidden"
      ]
    },
    {
      "cell_type": "markdown",
      "metadata": {
        "id": "Yu4CMe_5JN2I"
      },
      "source": [
        "## Decoder\n",
        "\n",
        "decoder의 hidden이 아닌 out으로 예측하고, 그 값 하나를 이용해서 다음 값 계산에 사용하기 때문에 seq_len =1이 된다."
      ]
    },
    {
      "cell_type": "code",
      "execution_count": 55,
      "metadata": {
        "id": "Wc1u4z_k4RKp"
      },
      "outputs": [],
      "source": [
        "class Decoder(nn.Module):\n",
        "  def __init__(self, in_size, hid_size, tok_size, bat_first=True, num_lay=1, bidirect=False):\n",
        "    super(Decoder, self).__init__()\n",
        "    self.hidden_size = hid_size\n",
        "    self.embedding = nn.Embedding(tok_size, in_size)\n",
        "\n",
        "    self.num_layers = num_lay\n",
        "    self.num_directional = 2 if bidirect else 1\n",
        "    self.batch_first = bat_first\n",
        "    self.lstm = nn.LSTM(in_size, \n",
        "                        hid_size, \n",
        "                        num_layers = num_lay,\n",
        "                        batch_first = bat_first,\n",
        "                        bidirectional=bidirect)\n",
        "    self.relu =  nn.ReLU()\n",
        "    self.fc1 = nn.Linear(hidden_size, tok_size)\n",
        "\n",
        "\n",
        "    \n",
        "  def forward(self, x, hidden):\n",
        "    \"\"\"\n",
        "    x: (batch_size, seq_len=1)\n",
        "    hidden: (num_directional*num_layers, batch_size, hidden_size)\n",
        "    \"\"\"\n",
        "\n",
        "    # emb: (batch_size, seq_len=1, input_size)\n",
        "    emb = self.embedding(x[:, 0]).unsqueeze(1)\n",
        "    out = self.relu(emb)\n",
        "    # out : (batch_size, seq_len=1, hidden_size)\n",
        "    # hidden: (num_layers, batch_size, hidden_size)\n",
        "    out, hidden = self.lstm(out, hidden)\n",
        "\n",
        "    # out: (batch_size, tok_size) : batch의 element별로 token에 대해 예측값을 반환\n",
        "    out = self.fc1(out.squeeze(1))\n",
        "    return out, hidden"
      ]
    },
    {
      "cell_type": "code",
      "execution_count": 56,
      "metadata": {
        "id": "X1qHG3DT4dSH"
      },
      "outputs": [],
      "source": [
        "def init_hidden(self, x):\n",
        "  \"\"\"\n",
        "  레퍼런스 참고\n",
        "  when batch_first=True (num_directional*num_layers, batch_size, hidden_size)\n",
        "  \"\"\"\n",
        "  batch_size = x.size(0) if self.batch_first else x.size(1)\n",
        "  h0 = torch.zeros(self.num_layers*self.num_directional, batch_size, self.hidden_size).to(device)\n",
        "  c0 = torch.zeros(self.num_layers*self.num_directional, batch_size, self.hidden_size).to(device)\n",
        "  return h0, c0"
      ]
    },
    {
      "cell_type": "markdown",
      "metadata": {
        "id": "toqV7UDhPqN6"
      },
      "source": [
        "## Seq2Seq"
      ]
    },
    {
      "cell_type": "code",
      "execution_count": 57,
      "metadata": {
        "id": "YIzlUzPlJK3W"
      },
      "outputs": [],
      "source": [
        "class Seq2Seq(nn.Module):\n",
        "  def __init__(self, enc, dec):\n",
        "    super(Seq2Seq, self).__init__()\n",
        "    assert enc.hidden_size == dec.hidden_size\n",
        "    assert enc.num_layers == dec.num_layers\n",
        "\n",
        "    self.encoder = enc\n",
        "    self.decoder = dec\n",
        "  def forward(self, enc_inp, dec_inp, use_teacher_force=True):\n",
        "    \"\"\"\n",
        "    enc_inp : (batch_size, enc_seq_len)\n",
        "    dec_inp : (batch_size, dec_seq_len)\n",
        "    \"\"\"\n",
        "\n",
        "    # 어떤 값을 써야할까요?\n",
        "    batch_size = enc_inp.size(0)\n",
        "    enc_seq_len = enc_inp.size(1)\n",
        "    dec_seq_len = dec_inp.size(1)\n",
        "    token_size =  self.decoder.fc1.out_features\n",
        "\n",
        "    # decoder 확률(점수) 예측값 저장\n",
        "    # outputs: (batch_size, seq_len, token_size)\n",
        "    outputs = torch.zeros(batch_size, dec_seq_len, token_size)\n",
        "\n",
        "    # Step 0: Encoder의 forward에 필요한 초기 hidden, cell state 계산\n",
        "    enc_init_hidden = init_hidden(self.encoder, enc_inp)\n",
        "\n",
        "    # Step 1: Encoder를 이용하여 context 벡터 생성\n",
        "    # 참고: context 벡터는 output가 아님\n",
        "    _, context = self.encoder(enc_inp, enc_init_hidden)\n",
        "\n",
        "    # Step 2: Decoder의 초기 입력값을 먼저 할당\n",
        "    # 참고: 첫 입력값으로 decoder의 입력값을 이용할 수 있음\n",
        "    # 주의할 사항 \n",
        "    #    - (batch_size, dec_seq_len)의 차원을 맞추기 \n",
        "    #    - 이렇게 하는 이유는 decoder에서 forward에 들어가야하는 input의 구조(차원)이 정해져 있기 때문\n",
        "    dec_inp_t = dec_inp[:, 0].unsqueeze(-1)\n",
        "\n",
        "    # Step 3: Decoder를 이용하여 하나하나 계산(예측)하고, 입력값 업데이트하기\n",
        "    # 주의사항\n",
        "    #    - Encoder의 최종 리턴한 hidden state가 context 벡터고 이게 decoder에서 init_hidden에 해당\n",
        "    #    - 앞서 첫 입력값은 직접 확인했으니 다음 입력값부터 하기에 range는 1부터 시작하는 구조로?!\n",
        "    dec_hidden = context\n",
        "    for t in range(1, dec_seq_len):\n",
        "      out, dec_hidden = self.decoder(dec_inp_t, dec_hidden)\n",
        "      outputs[:, t, :] = out\n",
        "\n",
        "      if use_teacher_force:\n",
        "        # 주의사항 : 차원 맞추기 \n",
        "        # 해당 경우 decoder의 입력값을 가져다가 사용해야 합\n",
        "        dec_inp_t = dec_inp[:, t].unsqueeze(-1)\n",
        "      else:\n",
        "        # 주의사항 : 차원 맞추기 \n",
        "        # 해당 경우 이번 시점의 예측값을 다음 시점의 입력값으로 해야함\n",
        "        dec_inp_t = out.argmax(1, keepdim=True)\n",
        "\n",
        "    return outputs"
      ]
    },
    {
      "cell_type": "markdown",
      "metadata": {
        "id": "kSfBWsX0Po1I"
      },
      "source": [
        "# Setup"
      ]
    },
    {
      "cell_type": "code",
      "execution_count": 58,
      "metadata": {
        "id": "2VSNdoUUPoMS"
      },
      "outputs": [],
      "source": [
        "# padding에 해당하는 token도 고려하기\n",
        "enc_token_size = len(src_to_index)+1\n",
        "dec_token_size = len(tar_to_index)+1\n",
        "# Hyper-parameter!!\n",
        "# RAM 메모리 이슈로 다운 되는 경우 때문에 줄였습니다.\n",
        "input_size = 4\n",
        "hidden_size = 4"
      ]
    },
    {
      "cell_type": "code",
      "execution_count": 59,
      "metadata": {
        "id": "edfUD7SOP6pM"
      },
      "outputs": [],
      "source": [
        "encoder = Encoder(input_size, hidden_size, enc_token_size)\n",
        "decoder = Decoder(input_size, hidden_size, dec_token_size)\n",
        "\n",
        "model = Seq2Seq(encoder, decoder).to(device)"
      ]
    },
    {
      "cell_type": "markdown",
      "metadata": {
        "id": "ofoXIctbQigu"
      },
      "source": [
        "# Train"
      ]
    },
    {
      "cell_type": "code",
      "execution_count": 60,
      "metadata": {
        "id": "NUnTP6xbQlV1"
      },
      "outputs": [],
      "source": [
        "def train(model, loader, optimizer, cri):\n",
        "  model.train()\n",
        "  loss_ep = 0\n",
        "\n",
        "  for enc_input, dec_input, dec_target in loader:\n",
        "    optimizer.zero_grad()\n",
        "\n",
        "    # output: (batch_size, seq_len, token_size)\n",
        "    output = model(enc_input.to(device), dec_input.to(device), use_teacher_force=True)\n",
        "    token_size = output.size(-1)\n",
        "\n",
        "    # 지금 [문장, 문장, ...] 구조에서 문장들을 그냥 순서대로 이어 붙인 것\n",
        "    # loss 계산을 위한 조정\n",
        "    # output : (batch_size * seq_len, toekn_size)\n",
        "    output = output.view(-1, token_size)\n",
        "\n",
        "    # 위와 동일한 방식으로 label 값도 조정\n",
        "    # dec_target: (batch_size, seq_len)\n",
        "    # target (batch_size*seq_len,)\n",
        "    target = dec_target.view(-1)\n",
        "\n",
        "    loss = cri(output, target)\n",
        "\n",
        "    loss.backward()\n",
        "    optimizer.step()\n",
        "\n",
        "    loss_ep += loss.item()\n",
        "  return loss_ep/len(loader)"
      ]
    },
    {
      "cell_type": "markdown",
      "metadata": {
        "id": "E-g8kExh9V87"
      },
      "source": [
        "# Evaluation"
      ]
    },
    {
      "cell_type": "code",
      "execution_count": 61,
      "metadata": {
        "id": "OM_5gT6uCXMh"
      },
      "outputs": [],
      "source": [
        "import pandas as pd"
      ]
    },
    {
      "cell_type": "code",
      "execution_count": 62,
      "metadata": {
        "id": "y6mXBkq69VSW"
      },
      "outputs": [],
      "source": [
        "def val(model, loader, cri):\n",
        "  # 예측값도 확인하기 위해 예측값 저장하는 값\n",
        "  result = torch.Tensor()\n",
        "\n",
        "  model.eval()\n",
        "  loss_ep = 0\n",
        "  with torch.no_grad():\n",
        "    for enc_input, dec_input, dec_target in loader:\n",
        "      # 여기서 output은 en/decoder가 아닌 seq2seq의 결과값\n",
        "      # output: (batch_size, seq_len, token_size)\n",
        "      output = model(enc_input.to(device), dec_input.to(device), use_teacher_force=False)\n",
        "\n",
        "      # 평가할 땐 loss 말고 예측값도 반환하기 위해 저장\n",
        "      # decode_idx = 해당 시점에서 예측한 token의 정수인코딩값. \n",
        "      # 주어진 확률(점수)값에서 최대값을 선택하기\n",
        "      decode_idx = output.argmax(2).detach().cpu()\n",
        "      result = torch.cat((result,decode_idx),dim=0)\n",
        "  \n",
        "      # loss 계산을 위한 조정\n",
        "      # output : (batch_size * seq_len, toekn_size)\n",
        "      token_size = output.size(-1)\n",
        "      output = output.view(-1,token_size)\n",
        "\n",
        "      # 위와 동일한 방식으로 label 값도 조정\n",
        "      # dec_target: (batch_size, seq_len)\n",
        "      # target (batch_size*seq_len,)\n",
        "      target = dec_target.view(-1)\n",
        "\n",
        "      loss = cri(output, target)\n",
        "      loss_ep += loss.item()\n",
        "  return loss_ep/len(loader), result"
      ]
    },
    {
      "cell_type": "code",
      "execution_count": 63,
      "metadata": {
        "id": "9m6F7hknAqtm"
      },
      "outputs": [],
      "source": [
        "# 아래의 dictionary는 정수 인코딩 값을 넣으면 해당하는 원래 알파벳이 나옴\n",
        "# padding에 사용한 0도 decode해줘야 하고 이 때 ''으로 decode해주기\n",
        "index_to_src = dict((i, char) for char, i in src_to_index.items())\n",
        "index_to_tar = dict((i, char) for char, i in tar_to_index.items())\n",
        "index_to_tar[0] = ''\n",
        "index_to_src[0] = ''"
      ]
    },
    {
      "cell_type": "code",
      "execution_count": 64,
      "metadata": {
        "id": "F9c8z_7BAncv"
      },
      "outputs": [],
      "source": [
        "def decode(model, sample):\n",
        "  enc_input, dec_input, dec_output = sample\n",
        "  enc_input = enc_input.unsqueeze(0)\n",
        "  dec_input = dec_input.unsqueeze(0)\n",
        "  \n",
        "  model.eval()\n",
        "  with torch.no_grad():\n",
        "    output = model(enc_input.to(device), dec_input.to(device), use_teacher_force=False)\n",
        "    decode_idx = output.argmax(2)\n",
        "\n",
        "  sentence_inp = pd.Series(enc_input.squeeze(0).detach().cpu().numpy()).apply(lambda x: index_to_src[x])\n",
        "  sentence_out = pd.Series(decode_idx.squeeze(0).detach().cpu().numpy()).apply(lambda x: index_to_tar[x])\n",
        "  sentence_act = pd.Series(dec_output.detach().cpu().numpy()).apply(lambda x: index_to_tar[x])\n",
        "\n",
        "  print(f\"입력 문장 : {' '.join(sentence_inp.tolist())}\")\n",
        "  print(f\"실제 문장 : {' '.join(sentence_act.tolist())}\")\n",
        "  print(f\"예측 문장 : {' '.join(sentence_out.tolist())}\")"
      ]
    },
    {
      "cell_type": "code",
      "execution_count": 65,
      "metadata": {
        "id": "9lARsr3wSyX8"
      },
      "outputs": [],
      "source": [
        "import time\n",
        "from tqdm import tqdm\n",
        "from torch import optim"
      ]
    },
    {
      "cell_type": "code",
      "execution_count": 1,
      "metadata": {
        "colab": {
          "base_uri": "https://localhost:8080/",
          "height": 251
        },
        "id": "WIuESkCQSsSm",
        "outputId": "066d8efa-2913-4201-a47b-ba7748058b2b"
      },
      "outputs": [
        {
          "output_type": "error",
          "ename": "NameError",
          "evalue": "ignored",
          "traceback": [
            "\u001b[0;31m---------------------------------------------------------------------------\u001b[0m",
            "\u001b[0;31mNameError\u001b[0m                                 Traceback (most recent call last)",
            "\u001b[0;32m<ipython-input-1-d6302feca2d7>\u001b[0m in \u001b[0;36m<module>\u001b[0;34m\u001b[0m\n\u001b[1;32m      1\u001b[0m \u001b[0;31m# 학습은 아래의 코드를 이용하여 진행\u001b[0m\u001b[0;34m\u001b[0m\u001b[0;34m\u001b[0m\u001b[0;34m\u001b[0m\u001b[0m\n\u001b[1;32m      2\u001b[0m \u001b[0;34m\u001b[0m\u001b[0m\n\u001b[0;32m----> 3\u001b[0;31m \u001b[0mtrain_lodaer\u001b[0m \u001b[0;34m=\u001b[0m \u001b[0mDataLoader\u001b[0m\u001b[0;34m(\u001b[0m\u001b[0mtrain_dataset\u001b[0m\u001b[0;34m,\u001b[0m \u001b[0mbatch_size\u001b[0m\u001b[0;34m=\u001b[0m\u001b[0;36m1024\u001b[0m\u001b[0;34m)\u001b[0m\u001b[0;34m\u001b[0m\u001b[0;34m\u001b[0m\u001b[0m\n\u001b[0m\u001b[1;32m      4\u001b[0m \u001b[0mval_loader\u001b[0m \u001b[0;34m=\u001b[0m \u001b[0mDataLoader\u001b[0m\u001b[0;34m(\u001b[0m\u001b[0mval_dataset\u001b[0m\u001b[0;34m,\u001b[0m \u001b[0mbatch_size\u001b[0m\u001b[0;34m=\u001b[0m\u001b[0;36m1024\u001b[0m\u001b[0;34m,\u001b[0m \u001b[0mshuffle\u001b[0m\u001b[0;34m=\u001b[0m\u001b[0;32mFalse\u001b[0m\u001b[0;34m)\u001b[0m\u001b[0;34m\u001b[0m\u001b[0;34m\u001b[0m\u001b[0m\n\u001b[1;32m      5\u001b[0m \u001b[0;34m\u001b[0m\u001b[0m\n",
            "\u001b[0;31mNameError\u001b[0m: name 'DataLoader' is not defined"
          ]
        }
      ],
      "source": [
        "# 학습은 아래의 코드를 이용하여 진행\n",
        "\n",
        "train_lodaer = DataLoader(train_dataset, batch_size=1024)\n",
        "val_loader = DataLoader(val_dataset, batch_size=1024, shuffle=False)\n",
        "\n",
        "optimizer = optim.Adam(model.parameters(), lr=1e-2)\n",
        "criterion = nn.CrossEntropyLoss()\n",
        "\n",
        "train_loss = []\n",
        "val_loss = []\n",
        "\n",
        "epochs = 5\n",
        "for epoch in tqdm(range(epochs)):\n",
        "  start = time.time()\n",
        "\n",
        "  train_loss_ep = train(model,train_lodaer,optimizer, criterion)\n",
        "  val_loss_ep, val_token = val(model, val_loader, criterion)\n",
        "\n",
        "  train_loss.append(train_loss_ep)\n",
        "  val_loss.append(val_loss_ep)\n",
        "  if epoch % 2 == 0:\n",
        "    print(f\"Epoch : {epoch}\")\n",
        "    print(f\"Train Loss : {train_loss_ep:.4f}\")\n",
        "    print(f\"Val Loss : {val_loss_ep:.4f}\")\n",
        "    decode(model, val_dataset[100])\n"
      ]
    },
    {
      "cell_type": "markdown",
      "source": [
        "계속해서 사용 가능한 RAM 을 모두 사용했다고 하며 강제 종료 되는 문제가 있습니다..."
      ],
      "metadata": {
        "id": "5AWeiQMPj6PK"
      }
    },
    {
      "cell_type": "code",
      "execution_count": null,
      "metadata": {
        "id": "Yaj3MORtbsNi"
      },
      "outputs": [],
      "source": [
        "# 학습을 진행한 다음, 모델 백업해놓기\n",
        "torch.save(model.state_dict(), 'model_hw.pt')"
      ]
    }
  ],
  "metadata": {
    "colab": {
      "collapsed_sections": [],
      "provenance": []
    },
    "gpuClass": "standard",
    "kernelspec": {
      "display_name": "Python 3 (ipykernel)",
      "language": "python",
      "name": "python3"
    },
    "language_info": {
      "codemirror_mode": {
        "name": "ipython",
        "version": 3
      },
      "file_extension": ".py",
      "mimetype": "text/x-python",
      "name": "python",
      "nbconvert_exporter": "python",
      "pygments_lexer": "ipython3",
      "version": "3.9.12"
    }
  },
  "nbformat": 4,
  "nbformat_minor": 0
}