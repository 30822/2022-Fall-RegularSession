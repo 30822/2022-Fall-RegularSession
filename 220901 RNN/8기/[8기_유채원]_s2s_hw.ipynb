{
  "cells": [
    {
      "cell_type": "markdown",
      "metadata": {
        "id": "XhqgooEJc3ml"
      },
      "source": [
        "# PATH"
      ]
    },
    {
      "cell_type": "markdown",
      "metadata": {
        "id": "a6JAywISdMna"
      },
      "source": [
        "구글 드라이브"
      ]
    },
    {
      "cell_type": "code",
      "execution_count": null,
      "metadata": {
        "colab": {
          "base_uri": "https://localhost:8080/"
        },
        "id": "4KzgUpIpcORE",
        "outputId": "486dadb7-524b-4580-d3f7-450da127c7d0"
      },
      "outputs": [
        {
          "output_type": "stream",
          "name": "stdout",
          "text": [
            "Mounted at /content/drive\n"
          ]
        }
      ],
      "source": [
        "import os\n",
        "import sys\n",
        "from google.colab import drive\n",
        "\n",
        "drive.mount('/content/drive')\n",
        "# 지금 RNN이란 폴더에서 작업해서 RNN으로 맞춘 상태입니다! \n"
      ]
    },
    {
      "cell_type": "code",
      "source": [
        "os.chdir('/content/drive/My Drive/Colab Notebooks/DSL')"
      ],
      "metadata": {
        "id": "LF9Gp7Nf823e"
      },
      "execution_count": null,
      "outputs": []
    },
    {
      "cell_type": "code",
      "execution_count": null,
      "metadata": {
        "colab": {
          "base_uri": "https://localhost:8080/",
          "height": 35
        },
        "id": "TK1fCrA9fHwN",
        "outputId": "ce24773c-772c-4e0f-cfa5-edcb3b16703f"
      },
      "outputs": [
        {
          "output_type": "execute_result",
          "data": {
            "text/plain": [
              "'/content/drive/My Drive/Colab Notebooks/DSL'"
            ],
            "application/vnd.google.colaboratory.intrinsic+json": {
              "type": "string"
            }
          },
          "metadata": {},
          "execution_count": 4
        }
      ],
      "source": [
        "os.getcwd()"
      ]
    },
    {
      "cell_type": "code",
      "source": [
        "root_data = f\"{os.getcwd()}/data/data_hw\"\n",
        "root_data"
      ],
      "metadata": {
        "colab": {
          "base_uri": "https://localhost:8080/",
          "height": 35
        },
        "id": "yR9lFnfZMQ8k",
        "outputId": "e06aa72b-de24-44b7-d210-15991102b016"
      },
      "execution_count": null,
      "outputs": [
        {
          "output_type": "execute_result",
          "data": {
            "text/plain": [
              "'/content/drive/My Drive/Colab Notebooks/DSL/data/data_hw'"
            ],
            "application/vnd.google.colaboratory.intrinsic+json": {
              "type": "string"
            }
          },
          "metadata": {},
          "execution_count": 5
        }
      ]
    },
    {
      "cell_type": "code",
      "source": [
        "# 데이터 불러올 때 사용할 경로로 이후에 있을 unzip과 연동되는 내용입니다! \n",
        "path_train_data = \"data/data_hw/1.Training/원천데이터/일상생활및구어체_영한_train_set.json\"\n",
        "\n",
        "path_val_data = \"data/data_hw/2.Validation/원천데이터/일상생활및구어체_영한_valid_set.json\"\n"
      ],
      "metadata": {
        "id": "eUaOJiEaP8t9"
      },
      "execution_count": null,
      "outputs": []
    },
    {
      "cell_type": "markdown",
      "source": [
        "# 사전 준비 사항"
      ],
      "metadata": {
        "id": "lllM7QIsLKHG"
      }
    },
    {
      "cell_type": "code",
      "execution_count": null,
      "metadata": {
        "id": "N4M6g36zarsi"
      },
      "outputs": [],
      "source": [
        "import torch"
      ]
    },
    {
      "cell_type": "code",
      "execution_count": null,
      "metadata": {
        "id": "8nWTk5MXatC-"
      },
      "outputs": [],
      "source": [
        "device = 'cuda' if torch.cuda.is_available() else \"cpu\""
      ]
    },
    {
      "cell_type": "code",
      "execution_count": null,
      "metadata": {
        "colab": {
          "base_uri": "https://localhost:8080/",
          "height": 35
        },
        "id": "oV91g9Tqa0V0",
        "outputId": "9f11b7d1-8e94-4985-a4d2-eaa8cfa4c7b8"
      },
      "outputs": [
        {
          "output_type": "execute_result",
          "data": {
            "text/plain": [
              "'cuda'"
            ],
            "application/vnd.google.colaboratory.intrinsic+json": {
              "type": "string"
            }
          },
          "metadata": {},
          "execution_count": 9
        }
      ],
      "source": [
        "device"
      ]
    },
    {
      "cell_type": "markdown",
      "metadata": {
        "id": "SdN8CiTlc7xF"
      },
      "source": [
        "# Data\n",
        "\n",
        "실습에서 사용했던 영어-프랑스어와 달리 현재 사용할 데이터 셋은 영어-한국어 데이터 셋입니다. \n",
        "\n",
        "특히 압축을 풀어야 사용하실 수 있으니 유의하여 진행해주시길 바랍니다.\n",
        "\n",
        "다행인 점은 용량이 그리 크지 않을겁니다!\n",
        "\n",
        "저장 경로는 위에서 path_train_data와 path_val_data와 동일하게 맞췄습니다."
      ]
    },
    {
      "cell_type": "code",
      "source": [
        "!unzip -qq data/data_hw/1.Training/원천데이터/TS1.zip -d data/data_hw/1.Training/원천데이터\n",
        "\n",
        "!unzip -qq data/data_hw/2.Validation/원천데이터/VS1.zip -d data/data_hw/2.Validation/원천데이터\n"
      ],
      "metadata": {
        "id": "4bGHHia2LnOo"
      },
      "execution_count": null,
      "outputs": []
    },
    {
      "cell_type": "markdown",
      "source": [
        "## 데이터 구조 확인"
      ],
      "metadata": {
        "id": "tfrW60WrP0rn"
      }
    },
    {
      "cell_type": "code",
      "source": [
        "import json"
      ],
      "metadata": {
        "id": "SDeLynUqP0Jr"
      },
      "execution_count": null,
      "outputs": []
    },
    {
      "cell_type": "code",
      "source": [
        "# 경로는 앞서 PATH에서 선언했고 unzip에서도 경로를 지정했습니다. 만약 여기에 변화가 생기신다면 에러가 생길 수 있으니 유의하셔야 합니다.\n",
        "with open(path_train_data, 'r') as f:\n",
        "  raw_train_data = json.load(f)\n",
        "\n",
        "with open(path_val_data, 'r') as f:\n",
        "  raw_val_data = json.load(f)\n"
      ],
      "metadata": {
        "id": "2VEmaNPbP5hr"
      },
      "execution_count": null,
      "outputs": []
    },
    {
      "cell_type": "code",
      "source": [
        "# 현재 데이터의 구조가 {'data':~~~ }로 되어있는것을 알 수 있습니다.\n",
        "raw_train_data.keys()"
      ],
      "metadata": {
        "colab": {
          "base_uri": "https://localhost:8080/"
        },
        "id": "jNhgtA6iR2HG",
        "outputId": "73b20976-3eb1-47cc-e80a-b71300b0044a"
      },
      "execution_count": null,
      "outputs": [
        {
          "output_type": "execute_result",
          "data": {
            "text/plain": [
              "dict_keys(['data'])"
            ]
          },
          "metadata": {},
          "execution_count": 12
        }
      ]
    },
    {
      "cell_type": "code",
      "source": [
        "# 학습 데이터 개수 확인\n",
        "len(raw_train_data['data'])"
      ],
      "metadata": {
        "colab": {
          "base_uri": "https://localhost:8080/"
        },
        "id": "uMcJ230kRgJ_",
        "outputId": "32102006-79d4-4fec-d0f2-33b241691494"
      },
      "execution_count": null,
      "outputs": [
        {
          "output_type": "execute_result",
          "data": {
            "text/plain": [
              "1200307"
            ]
          },
          "metadata": {},
          "execution_count": 13
        }
      ]
    },
    {
      "cell_type": "markdown",
      "source": [
        "지금 데이터가 너무 많아서 전처리만 해도 1,2시간 걸릴 수 있습니다. 그래서 숙제에서는 매우 일부 데이터만 이용하도록 하겠습니다."
      ],
      "metadata": {
        "id": "pOcoZtgOYicO"
      }
    },
    {
      "cell_type": "code",
      "source": [
        "raw_train_data = raw_train_data['data'][:10000]\n",
        "raw_val_data = raw_val_data['data'][:1000]"
      ],
      "metadata": {
        "id": "OXGulbjhYg-o"
      },
      "execution_count": null,
      "outputs": []
    },
    {
      "cell_type": "code",
      "source": [
        "# 샘플로 하나 확인\n",
        "sample_data = raw_train_data[0]"
      ],
      "metadata": {
        "id": "GMFaFQF0SJb4"
      },
      "execution_count": null,
      "outputs": []
    },
    {
      "cell_type": "code",
      "source": [
        "# 아래의 예시를 보고 데이터를 어떻게 처리할지 잘 생각하셔야 합니다!\n",
        "# 보았을 때 우리가 사용해야 하는 건 ko와 en가 되고\n",
        "# 실제 데이터를 사용한다고 할 때 이 외에 필요한 데이터가 더 있을 수 있습니다.\n",
        "# 모델링 과정에서는 어떻게 데이터들이 저장되어 있는지 주의해서 처리하시면 됩니다.\n",
        "sample_data"
      ],
      "metadata": {
        "colab": {
          "base_uri": "https://localhost:8080/"
        },
        "id": "I68Quh9gSRag",
        "outputId": "846596ee-c07c-4293-bac8-d5a14f041d47"
      },
      "execution_count": null,
      "outputs": [
        {
          "output_type": "execute_result",
          "data": {
            "text/plain": [
              "{'sn': 'ECOAR1A00003',\n",
              " 'data_set': '일상생활및구어체',\n",
              " 'domain': '해외고객과의채팅',\n",
              " 'subdomain': '숙박,음식점',\n",
              " 'en_original': \"I'm glad to hear that, and I hope you do consider doing business with us.\",\n",
              " 'en': \"I'm glad to hear that, and I hope you do consider doing business with us.\",\n",
              " 'mt': '그 소식을 들으니 기쁩니다. 우리와 거래하는 것을 고려해 보시기 바랍니다.',\n",
              " 'ko': '그 말을 들으니 기쁘고, 저희와 거래하는 것을 고려해 주셨으면 합니다.',\n",
              " 'source_language': 'en',\n",
              " 'target_language': 'ko',\n",
              " 'word_count_ko': 10.0,\n",
              " 'word_count_en': 15.0,\n",
              " 'word_ratio': 0.667,\n",
              " 'file_name': '해외고객과의채팅_숙박,음식점.xlsx',\n",
              " 'source': '크라우드 소싱',\n",
              " 'license': 'open',\n",
              " 'style': '구어체',\n",
              " 'included_unknown_words': False,\n",
              " 'ner': None}"
            ]
          },
          "metadata": {},
          "execution_count": 16
        }
      ]
    },
    {
      "cell_type": "code",
      "source": [
        "raw_train_data[0]['en']"
      ],
      "metadata": {
        "colab": {
          "base_uri": "https://localhost:8080/",
          "height": 35
        },
        "id": "DzP1-i5kighg",
        "outputId": "c6187a35-ba80-4ae9-bd2f-a4caf4ed492a"
      },
      "execution_count": null,
      "outputs": [
        {
          "output_type": "execute_result",
          "data": {
            "text/plain": [
              "\"I'm glad to hear that, and I hope you do consider doing business with us.\""
            ],
            "application/vnd.google.colaboratory.intrinsic+json": {
              "type": "string"
            }
          },
          "metadata": {},
          "execution_count": 32
        }
      ]
    },
    {
      "cell_type": "markdown",
      "metadata": {
        "id": "LoZkQRO3l20O"
      },
      "source": [
        "# Preprocess\n",
        "\n",
        "세션 설명 코드에서는 알파벳 하나하나 사용했지만, 이번 과정에서는 토큰화를 진행하여 사용하는 과정을 Dataset에 바로 적용해보고자 합니다! \n",
        "\n",
        "토큰화는 앞서 word embedding 세션에서 사용한 것들을 그대로 이용하고자 합니다. 세부 커스터마이징은 자유롭습니다.\n",
        "\n",
        "전처리 과정에서 중요한 점은, 앞의 구현 코드에서 여러 개의 for loop을 이용해서 구현했었지만, 실제 데이터를 사용한다면 매우 오래 걸리게 됩니다. 실제 데이터를 사용할 때엔 결국 얼마나 효율적으로 빠르게 정리할 수 있을지 고민해보시면서 접근하시길 바랍니다.\n",
        "\n",
        "즉, 전처리에서 챙길 통찰은 얼마나 \"효율적\"으로 할 수 있는가? 입니다."
      ]
    },
    {
      "cell_type": "markdown",
      "source": [
        "## Tokenizer"
      ],
      "metadata": {
        "id": "IngQKWx3VRtO"
      }
    },
    {
      "cell_type": "code",
      "source": [
        "#konlpy 설치 (mecab 제외). 3~40초 정도 소요\n",
        "%%bash\n",
        "apt-get update\n",
        "apt-get install g++ openjdk-8-jdk python-dev python3-dev\n",
        "pip3 install JPype1\n",
        "pip3 install konlpy"
      ],
      "metadata": {
        "colab": {
          "base_uri": "https://localhost:8080/"
        },
        "id": "ttmiDFAEU_BK",
        "outputId": "3e56f140-9c00-402a-f84f-deecba08af2f"
      },
      "execution_count": null,
      "outputs": [
        {
          "output_type": "stream",
          "name": "stdout",
          "text": [
            "Get:1 https://cloud.r-project.org/bin/linux/ubuntu bionic-cran40/ InRelease [3,626 B]\n",
            "Get:2 https://cloud.r-project.org/bin/linux/ubuntu bionic-cran40/ Packages [91.7 kB]\n",
            "Ign:3 https://developer.download.nvidia.com/compute/machine-learning/repos/ubuntu1804/x86_64  InRelease\n",
            "Hit:4 https://developer.download.nvidia.com/compute/cuda/repos/ubuntu1804/x86_64  InRelease\n",
            "Hit:5 https://developer.download.nvidia.com/compute/machine-learning/repos/ubuntu1804/x86_64  Release\n",
            "Get:6 http://security.ubuntu.com/ubuntu bionic-security InRelease [88.7 kB]\n",
            "Get:8 http://ppa.launchpad.net/c2d4u.team/c2d4u4.0+/ubuntu bionic InRelease [15.9 kB]\n",
            "Hit:9 http://archive.ubuntu.com/ubuntu bionic InRelease\n",
            "Get:10 http://archive.ubuntu.com/ubuntu bionic-updates InRelease [88.7 kB]\n",
            "Hit:11 http://ppa.launchpad.net/cran/libgit2/ubuntu bionic InRelease\n",
            "Get:12 http://security.ubuntu.com/ubuntu bionic-security/universe amd64 Packages [1,540 kB]\n",
            "Get:13 http://ppa.launchpad.net/deadsnakes/ppa/ubuntu bionic InRelease [15.9 kB]\n",
            "Get:14 http://archive.ubuntu.com/ubuntu bionic-backports InRelease [74.6 kB]\n",
            "Get:15 http://archive.ubuntu.com/ubuntu bionic-updates/restricted amd64 Packages [1,172 kB]\n",
            "Hit:16 http://ppa.launchpad.net/graphics-drivers/ppa/ubuntu bionic InRelease\n",
            "Get:17 http://security.ubuntu.com/ubuntu bionic-security/main amd64 Packages [2,965 kB]\n",
            "Get:18 http://ppa.launchpad.net/c2d4u.team/c2d4u4.0+/ubuntu bionic/main Sources [2,105 kB]\n",
            "Get:19 http://security.ubuntu.com/ubuntu bionic-security/restricted amd64 Packages [1,131 kB]\n",
            "Get:20 http://archive.ubuntu.com/ubuntu bionic-updates/main amd64 Packages [3,396 kB]\n",
            "Get:21 http://ppa.launchpad.net/c2d4u.team/c2d4u4.0+/ubuntu bionic/main amd64 Packages [1,079 kB]\n",
            "Get:22 http://ppa.launchpad.net/deadsnakes/ppa/ubuntu bionic/main amd64 Packages [45.2 kB]\n",
            "Fetched 13.8 MB in 7s (2,095 kB/s)\n",
            "Reading package lists...\n",
            "Reading package lists...\n",
            "Building dependency tree...\n",
            "Reading state information...\n",
            "python-dev is already the newest version (2.7.15~rc1-1).\n",
            "g++ is already the newest version (4:7.4.0-1ubuntu2.3).\n",
            "g++ set to manually installed.\n",
            "python3-dev is already the newest version (3.6.7-1~18.04).\n",
            "python3-dev set to manually installed.\n",
            "The following package was automatically installed and is no longer required:\n",
            "  libnvidia-common-460\n",
            "Use 'apt autoremove' to remove it.\n",
            "The following additional packages will be installed:\n",
            "  fonts-dejavu-core fonts-dejavu-extra libatk-wrapper-java\n",
            "  libatk-wrapper-java-jni libgail-common libgail18 libgtk2.0-0 libgtk2.0-bin\n",
            "  libgtk2.0-common libxxf86dga1 openjdk-8-jdk-headless openjdk-8-jre\n",
            "  openjdk-8-jre-headless x11-utils\n",
            "Suggested packages:\n",
            "  gvfs openjdk-8-demo openjdk-8-source visualvm libnss-mdns\n",
            "  fonts-ipafont-gothic fonts-ipafont-mincho fonts-wqy-microhei\n",
            "  fonts-wqy-zenhei fonts-indic mesa-utils\n",
            "The following NEW packages will be installed:\n",
            "  fonts-dejavu-core fonts-dejavu-extra libatk-wrapper-java\n",
            "  libatk-wrapper-java-jni libgail-common libgail18 libgtk2.0-0 libgtk2.0-bin\n",
            "  libgtk2.0-common libxxf86dga1 openjdk-8-jdk openjdk-8-jdk-headless\n",
            "  openjdk-8-jre openjdk-8-jre-headless x11-utils\n",
            "0 upgraded, 15 newly installed, 0 to remove and 47 not upgraded.\n",
            "Need to get 46.0 MB of archives.\n",
            "After this operation, 166 MB of additional disk space will be used.\n",
            "Get:1 http://archive.ubuntu.com/ubuntu bionic/main amd64 libxxf86dga1 amd64 2:1.1.4-1 [13.7 kB]\n",
            "Get:2 http://archive.ubuntu.com/ubuntu bionic/main amd64 fonts-dejavu-core all 2.37-1 [1,041 kB]\n",
            "Get:3 http://archive.ubuntu.com/ubuntu bionic/main amd64 fonts-dejavu-extra all 2.37-1 [1,953 kB]\n",
            "Get:4 http://archive.ubuntu.com/ubuntu bionic/main amd64 x11-utils amd64 7.7+3build1 [196 kB]\n",
            "Get:5 http://archive.ubuntu.com/ubuntu bionic/main amd64 libatk-wrapper-java all 0.33.3-20ubuntu0.1 [34.7 kB]\n",
            "Get:6 http://archive.ubuntu.com/ubuntu bionic/main amd64 libatk-wrapper-java-jni amd64 0.33.3-20ubuntu0.1 [28.3 kB]\n",
            "Get:7 http://archive.ubuntu.com/ubuntu bionic/main amd64 libgtk2.0-common all 2.24.32-1ubuntu1 [125 kB]\n",
            "Get:8 http://archive.ubuntu.com/ubuntu bionic/main amd64 libgtk2.0-0 amd64 2.24.32-1ubuntu1 [1,769 kB]\n",
            "Get:9 http://archive.ubuntu.com/ubuntu bionic/main amd64 libgail18 amd64 2.24.32-1ubuntu1 [14.2 kB]\n",
            "Get:10 http://archive.ubuntu.com/ubuntu bionic/main amd64 libgail-common amd64 2.24.32-1ubuntu1 [112 kB]\n",
            "Get:11 http://archive.ubuntu.com/ubuntu bionic/main amd64 libgtk2.0-bin amd64 2.24.32-1ubuntu1 [7,536 B]\n",
            "Get:12 http://archive.ubuntu.com/ubuntu bionic-updates/universe amd64 openjdk-8-jre-headless amd64 8u342-b07-0ubuntu1~18.04 [28.3 MB]\n",
            "Get:13 http://archive.ubuntu.com/ubuntu bionic-updates/universe amd64 openjdk-8-jre amd64 8u342-b07-0ubuntu1~18.04 [69.6 kB]\n",
            "Get:14 http://archive.ubuntu.com/ubuntu bionic-updates/universe amd64 openjdk-8-jdk-headless amd64 8u342-b07-0ubuntu1~18.04 [8,300 kB]\n",
            "Get:15 http://archive.ubuntu.com/ubuntu bionic-updates/universe amd64 openjdk-8-jdk amd64 8u342-b07-0ubuntu1~18.04 [4,032 kB]\n",
            "Fetched 46.0 MB in 5s (8,418 kB/s)\n",
            "Selecting previously unselected package libxxf86dga1:amd64.\r\n",
            "(Reading database ... \r(Reading database ... 5%\r(Reading database ... 10%\r(Reading database ... 15%\r(Reading database ... 20%\r(Reading database ... 25%\r(Reading database ... 30%\r(Reading database ... 35%\r(Reading database ... 40%\r(Reading database ... 45%\r(Reading database ... 50%\r(Reading database ... 55%\r(Reading database ... 60%\r(Reading database ... 65%\r(Reading database ... 70%\r(Reading database ... 75%\r(Reading database ... 80%\r(Reading database ... 85%\r(Reading database ... 90%\r(Reading database ... 95%\r(Reading database ... 100%\r(Reading database ... 155685 files and directories currently installed.)\r\n",
            "Preparing to unpack .../00-libxxf86dga1_2%3a1.1.4-1_amd64.deb ...\r\n",
            "Unpacking libxxf86dga1:amd64 (2:1.1.4-1) ...\r\n",
            "Selecting previously unselected package fonts-dejavu-core.\r\n",
            "Preparing to unpack .../01-fonts-dejavu-core_2.37-1_all.deb ...\r\n",
            "Unpacking fonts-dejavu-core (2.37-1) ...\r\n",
            "Selecting previously unselected package fonts-dejavu-extra.\r\n",
            "Preparing to unpack .../02-fonts-dejavu-extra_2.37-1_all.deb ...\r\n",
            "Unpacking fonts-dejavu-extra (2.37-1) ...\r\n",
            "Selecting previously unselected package x11-utils.\r\n",
            "Preparing to unpack .../03-x11-utils_7.7+3build1_amd64.deb ...\r\n",
            "Unpacking x11-utils (7.7+3build1) ...\r\n",
            "Selecting previously unselected package libatk-wrapper-java.\r\n",
            "Preparing to unpack .../04-libatk-wrapper-java_0.33.3-20ubuntu0.1_all.deb ...\r\n",
            "Unpacking libatk-wrapper-java (0.33.3-20ubuntu0.1) ...\r\n",
            "Selecting previously unselected package libatk-wrapper-java-jni:amd64.\r\n",
            "Preparing to unpack .../05-libatk-wrapper-java-jni_0.33.3-20ubuntu0.1_amd64.deb ...\r\n",
            "Unpacking libatk-wrapper-java-jni:amd64 (0.33.3-20ubuntu0.1) ...\r\n",
            "Selecting previously unselected package libgtk2.0-common.\r\n",
            "Preparing to unpack .../06-libgtk2.0-common_2.24.32-1ubuntu1_all.deb ...\r\n",
            "Unpacking libgtk2.0-common (2.24.32-1ubuntu1) ...\r\n",
            "Selecting previously unselected package libgtk2.0-0:amd64.\r\n",
            "Preparing to unpack .../07-libgtk2.0-0_2.24.32-1ubuntu1_amd64.deb ...\r\n",
            "Unpacking libgtk2.0-0:amd64 (2.24.32-1ubuntu1) ...\r\n",
            "Selecting previously unselected package libgail18:amd64.\r\n",
            "Preparing to unpack .../08-libgail18_2.24.32-1ubuntu1_amd64.deb ...\r\n",
            "Unpacking libgail18:amd64 (2.24.32-1ubuntu1) ...\r\n",
            "Selecting previously unselected package libgail-common:amd64.\r\n",
            "Preparing to unpack .../09-libgail-common_2.24.32-1ubuntu1_amd64.deb ...\r\n",
            "Unpacking libgail-common:amd64 (2.24.32-1ubuntu1) ...\r\n",
            "Selecting previously unselected package libgtk2.0-bin.\r\n",
            "Preparing to unpack .../10-libgtk2.0-bin_2.24.32-1ubuntu1_amd64.deb ...\r\n",
            "Unpacking libgtk2.0-bin (2.24.32-1ubuntu1) ...\r\n",
            "Selecting previously unselected package openjdk-8-jre-headless:amd64.\r\n",
            "Preparing to unpack .../11-openjdk-8-jre-headless_8u342-b07-0ubuntu1~18.04_amd64.deb ...\r\n",
            "Unpacking openjdk-8-jre-headless:amd64 (8u342-b07-0ubuntu1~18.04) ...\r\n",
            "Selecting previously unselected package openjdk-8-jre:amd64.\r\n",
            "Preparing to unpack .../12-openjdk-8-jre_8u342-b07-0ubuntu1~18.04_amd64.deb ...\r\n",
            "Unpacking openjdk-8-jre:amd64 (8u342-b07-0ubuntu1~18.04) ...\r\n",
            "Selecting previously unselected package openjdk-8-jdk-headless:amd64.\r\n",
            "Preparing to unpack .../13-openjdk-8-jdk-headless_8u342-b07-0ubuntu1~18.04_amd64.deb ...\r\n",
            "Unpacking openjdk-8-jdk-headless:amd64 (8u342-b07-0ubuntu1~18.04) ...\r\n",
            "Selecting previously unselected package openjdk-8-jdk:amd64.\r\n",
            "Preparing to unpack .../14-openjdk-8-jdk_8u342-b07-0ubuntu1~18.04_amd64.deb ...\r\n",
            "Unpacking openjdk-8-jdk:amd64 (8u342-b07-0ubuntu1~18.04) ...\r\n",
            "Setting up libgtk2.0-common (2.24.32-1ubuntu1) ...\r\n",
            "Setting up fonts-dejavu-core (2.37-1) ...\r\n",
            "Setting up libxxf86dga1:amd64 (2:1.1.4-1) ...\r\n",
            "Setting up fonts-dejavu-extra (2.37-1) ...\r\n",
            "Setting up openjdk-8-jre-headless:amd64 (8u342-b07-0ubuntu1~18.04) ...\r\n",
            "update-alternatives: using /usr/lib/jvm/java-8-openjdk-amd64/jre/bin/orbd to provide /usr/bin/orbd (orbd) in auto mode\r\n",
            "update-alternatives: using /usr/lib/jvm/java-8-openjdk-amd64/jre/bin/servertool to provide /usr/bin/servertool (servertool) in auto mode\r\n",
            "update-alternatives: using /usr/lib/jvm/java-8-openjdk-amd64/jre/bin/tnameserv to provide /usr/bin/tnameserv (tnameserv) in auto mode\r\n",
            "Setting up libgtk2.0-0:amd64 (2.24.32-1ubuntu1) ...\r\n",
            "Setting up libgail18:amd64 (2.24.32-1ubuntu1) ...\r\n",
            "Setting up openjdk-8-jdk-headless:amd64 (8u342-b07-0ubuntu1~18.04) ...\r\n",
            "update-alternatives: using /usr/lib/jvm/java-8-openjdk-amd64/bin/idlj to provide /usr/bin/idlj (idlj) in auto mode\r\n",
            "update-alternatives: using /usr/lib/jvm/java-8-openjdk-amd64/bin/wsimport to provide /usr/bin/wsimport (wsimport) in auto mode\r\n",
            "update-alternatives: using /usr/lib/jvm/java-8-openjdk-amd64/bin/jsadebugd to provide /usr/bin/jsadebugd (jsadebugd) in auto mode\r\n",
            "update-alternatives: using /usr/lib/jvm/java-8-openjdk-amd64/bin/native2ascii to provide /usr/bin/native2ascii (native2ascii) in auto mode\r\n",
            "update-alternatives: using /usr/lib/jvm/java-8-openjdk-amd64/bin/javah to provide /usr/bin/javah (javah) in auto mode\r\n",
            "update-alternatives: using /usr/lib/jvm/java-8-openjdk-amd64/bin/clhsdb to provide /usr/bin/clhsdb (clhsdb) in auto mode\r\n",
            "update-alternatives: using /usr/lib/jvm/java-8-openjdk-amd64/bin/xjc to provide /usr/bin/xjc (xjc) in auto mode\r\n",
            "update-alternatives: using /usr/lib/jvm/java-8-openjdk-amd64/bin/hsdb to provide /usr/bin/hsdb (hsdb) in auto mode\r\n",
            "update-alternatives: using /usr/lib/jvm/java-8-openjdk-amd64/bin/schemagen to provide /usr/bin/schemagen (schemagen) in auto mode\r\n",
            "update-alternatives: using /usr/lib/jvm/java-8-openjdk-amd64/bin/extcheck to provide /usr/bin/extcheck (extcheck) in auto mode\r\n",
            "update-alternatives: using /usr/lib/jvm/java-8-openjdk-amd64/bin/jhat to provide /usr/bin/jhat (jhat) in auto mode\r\n",
            "update-alternatives: using /usr/lib/jvm/java-8-openjdk-amd64/bin/wsgen to provide /usr/bin/wsgen (wsgen) in auto mode\r\n",
            "Setting up x11-utils (7.7+3build1) ...\r\n",
            "Setting up libgail-common:amd64 (2.24.32-1ubuntu1) ...\r\n",
            "Setting up libatk-wrapper-java (0.33.3-20ubuntu0.1) ...\r\n",
            "Setting up libgtk2.0-bin (2.24.32-1ubuntu1) ...\r\n",
            "Setting up libatk-wrapper-java-jni:amd64 (0.33.3-20ubuntu0.1) ...\r\n",
            "Setting up openjdk-8-jre:amd64 (8u342-b07-0ubuntu1~18.04) ...\r\n",
            "update-alternatives: using /usr/lib/jvm/java-8-openjdk-amd64/jre/bin/policytool to provide /usr/bin/policytool (policytool) in auto mode\r\n",
            "Setting up openjdk-8-jdk:amd64 (8u342-b07-0ubuntu1~18.04) ...\r\n",
            "update-alternatives: using /usr/lib/jvm/java-8-openjdk-amd64/bin/appletviewer to provide /usr/bin/appletviewer (appletviewer) in auto mode\r\n",
            "update-alternatives: using /usr/lib/jvm/java-8-openjdk-amd64/bin/jconsole to provide /usr/bin/jconsole (jconsole) in auto mode\r\n",
            "Processing triggers for man-db (2.8.3-2ubuntu0.1) ...\r\n",
            "Processing triggers for hicolor-icon-theme (0.17-2) ...\r\n",
            "Processing triggers for fontconfig (2.12.6-0ubuntu2) ...\r\n",
            "Processing triggers for mime-support (3.60ubuntu1) ...\r\n",
            "Processing triggers for libc-bin (2.27-3ubuntu1.5) ...\r\n",
            "Looking in indexes: https://pypi.org/simple, https://us-python.pkg.dev/colab-wheels/public/simple/\n",
            "Collecting JPype1\n",
            "  Downloading JPype1-1.4.0-cp37-cp37m-manylinux_2_5_x86_64.manylinux1_x86_64.whl (453 kB)\n",
            "Requirement already satisfied: typing-extensions in /usr/local/lib/python3.7/dist-packages (from JPype1) (4.1.1)\n",
            "Installing collected packages: JPype1\n",
            "Successfully installed JPype1-1.4.0\n",
            "Looking in indexes: https://pypi.org/simple, https://us-python.pkg.dev/colab-wheels/public/simple/\n",
            "Collecting konlpy\n",
            "  Downloading konlpy-0.6.0-py2.py3-none-any.whl (19.4 MB)\n",
            "Requirement already satisfied: JPype1>=0.7.0 in /usr/local/lib/python3.7/dist-packages (from konlpy) (1.4.0)\n",
            "Requirement already satisfied: numpy>=1.6 in /usr/local/lib/python3.7/dist-packages (from konlpy) (1.21.6)\n",
            "Requirement already satisfied: lxml>=4.1.0 in /usr/local/lib/python3.7/dist-packages (from konlpy) (4.9.1)\n",
            "Requirement already satisfied: typing-extensions in /usr/local/lib/python3.7/dist-packages (from JPype1>=0.7.0->konlpy) (4.1.1)\n",
            "Installing collected packages: konlpy\n",
            "Successfully installed konlpy-0.6.0\n"
          ]
        }
      ]
    },
    {
      "cell_type": "code",
      "source": [
        "# java 경로 설정\n",
        "%env JAVA_HOME \"/usr/lib/jvm/java-8-openjdk-amd64\""
      ],
      "metadata": {
        "colab": {
          "base_uri": "https://localhost:8080/"
        },
        "id": "gV7CNL2KVDqN",
        "outputId": "9b95527f-82cd-4c32-f59d-c116bfd820e9"
      },
      "execution_count": null,
      "outputs": [
        {
          "output_type": "stream",
          "name": "stdout",
          "text": [
            "env: JAVA_HOME=\"/usr/lib/jvm/java-8-openjdk-amd64\"\n"
          ]
        }
      ]
    },
    {
      "cell_type": "code",
      "source": [
        "from konlpy.tag import Okt"
      ],
      "metadata": {
        "id": "S0aHtzksVPOT"
      },
      "execution_count": null,
      "outputs": []
    },
    {
      "cell_type": "code",
      "source": [
        "okt = Okt()"
      ],
      "metadata": {
        "id": "ly1Fg2bXVYVF"
      },
      "execution_count": null,
      "outputs": []
    },
    {
      "cell_type": "code",
      "source": [
        "def CustomTokenizer(corpus):\n",
        "    stop = ['Josa','Suffix','Punctuation', 'Number']\n",
        "    tokenized = []\n",
        "    for i, j in okt.pos(corpus, stem = True, norm = True):\n",
        "        if j in stop:\n",
        "            continue\n",
        "        tokenized.append(i)\n",
        "    return tokenized         "
      ],
      "metadata": {
        "id": "UcXNpcUaVtIA"
      },
      "execution_count": null,
      "outputs": []
    },
    {
      "cell_type": "code",
      "source": [
        "sample_data['ko']"
      ],
      "metadata": {
        "colab": {
          "base_uri": "https://localhost:8080/",
          "height": 35
        },
        "id": "0GLAZGtAhF3d",
        "outputId": "35db9011-906f-4894-fe7a-067c3aa64e5a"
      },
      "execution_count": null,
      "outputs": [
        {
          "output_type": "execute_result",
          "data": {
            "text/plain": [
              "'그 말을 들으니 기쁘고, 저희와 거래하는 것을 고려해 주셨으면 합니다.'"
            ],
            "application/vnd.google.colaboratory.intrinsic+json": {
              "type": "string"
            }
          },
          "metadata": {},
          "execution_count": 26
        }
      ]
    },
    {
      "cell_type": "code",
      "source": [
        "# 한국어 처리 어떻게 되고 있는지 확인\n",
        "CustomTokenizer(sample_data['ko'])"
      ],
      "metadata": {
        "colab": {
          "base_uri": "https://localhost:8080/"
        },
        "id": "aGMdyWtdWF31",
        "outputId": "3e62ade0-1ae2-4180-da74-9febfac5a61d"
      },
      "execution_count": null,
      "outputs": [
        {
          "output_type": "execute_result",
          "data": {
            "text/plain": [
              "['그', '말', '들다', '기쁘다', '저희', '거래', '하다', '것', '고려', '하다', '주다', '하다']"
            ]
          },
          "metadata": {},
          "execution_count": 25
        }
      ]
    },
    {
      "cell_type": "code",
      "source": [
        "# 영어도 일단 토큰화가 되고 있으니 사용해보도록 합시다\n",
        "CustomTokenizer(sample_data['en'])"
      ],
      "metadata": {
        "colab": {
          "base_uri": "https://localhost:8080/"
        },
        "id": "G7vMH186WJUp",
        "outputId": "3447758b-2fa3-4565-e5eb-33f920352f81"
      },
      "execution_count": null,
      "outputs": [
        {
          "output_type": "execute_result",
          "data": {
            "text/plain": [
              "['I',\n",
              " 'm',\n",
              " 'glad',\n",
              " 'to',\n",
              " 'hear',\n",
              " 'that',\n",
              " 'and',\n",
              " 'I',\n",
              " 'hope',\n",
              " 'you',\n",
              " 'do',\n",
              " 'consider',\n",
              " 'doing',\n",
              " 'business',\n",
              " 'with',\n",
              " 'us']"
            ]
          },
          "metadata": {},
          "execution_count": 27
        }
      ]
    },
    {
      "cell_type": "code",
      "source": [
        "x = CustomTokenizer(sample_data['en'])\n",
        "x.insert(0,'a')\n",
        "x.append('c')\n",
        "x"
      ],
      "metadata": {
        "colab": {
          "base_uri": "https://localhost:8080/"
        },
        "id": "awwgdYu23KHf",
        "outputId": "b20f1b7e-d8a1-4d91-9a28-704b6cc706ef"
      },
      "execution_count": null,
      "outputs": [
        {
          "output_type": "execute_result",
          "data": {
            "text/plain": [
              "['a',\n",
              " 'I',\n",
              " 'm',\n",
              " 'glad',\n",
              " 'to',\n",
              " 'hear',\n",
              " 'that',\n",
              " 'and',\n",
              " 'I',\n",
              " 'hope',\n",
              " 'you',\n",
              " 'do',\n",
              " 'consider',\n",
              " 'doing',\n",
              " 'business',\n",
              " 'with',\n",
              " 'us',\n",
              " 'c']"
            ]
          },
          "metadata": {},
          "execution_count": 45
        }
      ]
    },
    {
      "cell_type": "markdown",
      "source": [
        "## 본격적인 전처리 과정\n",
        "\n",
        "전처리릏 할 때 주의할 점은, 우리가 가지고 있는 것은 train 데이터 뿐이라는 점입니다.\n",
        "\n",
        "토큰화를 하고, token들을 수집할 때 평가데이터(혹은 테스트 데이터)에 대한 정보는 가지고 있을 수 없습니다. 그렇기 때문에 train data를 기준으로 전처리가 진행되어야 합니다."
      ],
      "metadata": {
        "id": "L9_z0sVcW7Cy"
      }
    },
    {
      "cell_type": "markdown",
      "source": [
        "### Tokenization"
      ],
      "metadata": {
        "id": "HgfddQJuaQe-"
      }
    },
    {
      "cell_type": "code",
      "source": [
        "from tqdm import tqdm"
      ],
      "metadata": {
        "id": "zPHGhgX4YXJR"
      },
      "execution_count": null,
      "outputs": []
    },
    {
      "cell_type": "code",
      "source": [
        "src_vocab = set()\n",
        "tar_vocab = set()\n",
        "\n",
        "src_seq_tr = []\n",
        "tar_seq_tr = []\n",
        "\n",
        "# 전체 raw data에서 문장하나씩 loop 돌아가는 것\n",
        "for raw_tr_dat in tqdm(raw_train_data):\n",
        "  # 문장별 tokenization\n",
        "  src_tmp = CustomTokenizer(raw_tr_dat['ko'])\n",
        "  tar_tmp = CustomTokenizer(raw_tr_dat['en'])\n",
        "\n",
        "  # 입력 시퀀스에서 문장의 끝을 알리는 <EOS> 토큰 추가\n",
        "  # 출력 시퀀스에서 시작과 끝을 알리는 <SOS>, <EOS> 토큰 추가\n",
        "  src_tmp.insert(0,'\\n')\n",
        "  tar_tmp.insert(0,'\\t')\n",
        "  tar_tmp.append('\\n')\n",
        "\n",
        "  # 한국어, 영어 단어집합 구성\n",
        "  src_vocab.update(src_tmp)\n",
        "  tar_vocab.update(tar_tmp)\n",
        "\n",
        "  # tokenization 끝난 문장 보관\n",
        "  src_seq_tr.append(src_tmp)\n",
        "  tar_seq_tr.append(tar_tmp)"
      ],
      "metadata": {
        "colab": {
          "base_uri": "https://localhost:8080/"
        },
        "id": "sJjWUAipWPsN",
        "outputId": "3a465bd9-7c5a-4cb6-8793-14402aa975ee"
      },
      "execution_count": 58,
      "outputs": [
        {
          "output_type": "stream",
          "name": "stderr",
          "text": [
            "\n",
            "  0%|          | 0/10000 [00:00<?, ?it/s]\u001b[A\n",
            "  0%|          | 47/10000 [00:00<01:59, 83.45it/s]\u001b[A\n",
            "  1%|          | 56/10000 [00:00<02:43, 60.72it/s]\u001b[A\n",
            "  1%|          | 103/10000 [00:00<01:15, 130.69it/s]\u001b[A\n",
            "  1%|▏         | 146/10000 [00:01<00:52, 189.40it/s]\u001b[A\n",
            "  2%|▏         | 178/10000 [00:01<01:09, 141.55it/s]\u001b[A\n",
            "  2%|▏         | 234/10000 [00:01<00:46, 211.56it/s]\u001b[A\n",
            "  3%|▎         | 284/10000 [00:01<00:55, 176.56it/s]\u001b[A\n",
            "  3%|▎         | 334/10000 [00:01<00:42, 225.88it/s]\u001b[A\n",
            "  4%|▍         | 382/10000 [00:02<00:35, 271.54it/s]\u001b[A\n",
            "  4%|▍         | 421/10000 [00:02<00:49, 193.34it/s]\u001b[A\n",
            "  5%|▍         | 474/10000 [00:02<00:38, 246.48it/s]\u001b[A\n",
            "  5%|▌         | 522/10000 [00:02<00:48, 195.16it/s]\u001b[A\n",
            "  6%|▌         | 574/10000 [00:03<00:38, 244.23it/s]\u001b[A\n",
            "  6%|▋         | 627/10000 [00:03<00:31, 294.58it/s]\u001b[A\n",
            "  7%|▋         | 669/10000 [00:03<00:44, 208.32it/s]\u001b[A\n",
            "  7%|▋         | 723/10000 [00:03<00:35, 260.06it/s]\u001b[A\n",
            "  8%|▊         | 767/10000 [00:03<00:47, 194.70it/s]\u001b[A\n",
            "  8%|▊         | 821/10000 [00:04<00:37, 245.56it/s]\u001b[A\n",
            "  9%|▊         | 871/10000 [00:04<00:31, 289.64it/s]\u001b[A\n",
            "  9%|▉         | 912/10000 [00:04<00:43, 207.59it/s]\u001b[A\n",
            " 10%|▉         | 966/10000 [00:04<00:34, 260.33it/s]\u001b[A\n",
            " 10%|█         | 1016/10000 [00:04<00:43, 204.82it/s]\u001b[A\n",
            " 11%|█         | 1063/10000 [00:05<00:36, 244.77it/s]\u001b[A\n",
            " 11%|█         | 1116/10000 [00:05<00:30, 295.25it/s]\u001b[A\n",
            " 12%|█▏        | 1158/10000 [00:05<00:42, 208.25it/s]\u001b[A\n",
            " 12%|█▏        | 1210/10000 [00:05<00:34, 257.05it/s]\u001b[A\n",
            " 13%|█▎        | 1256/10000 [00:05<00:29, 293.64it/s]\u001b[A\n",
            " 13%|█▎        | 1297/10000 [00:06<00:42, 205.19it/s]\u001b[A\n",
            " 13%|█▎        | 1344/10000 [00:06<00:34, 247.69it/s]\u001b[A\n",
            " 14%|█▍        | 1381/10000 [00:06<00:47, 180.95it/s]\u001b[A\n",
            " 14%|█▍        | 1435/10000 [00:06<00:36, 234.89it/s]\u001b[A\n",
            " 15%|█▍        | 1485/10000 [00:06<00:30, 281.94it/s]\u001b[A\n",
            " 15%|█▌        | 1526/10000 [00:07<00:42, 201.39it/s]\u001b[A\n",
            " 16%|█▌        | 1572/10000 [00:07<00:34, 242.29it/s]\u001b[A\n",
            " 16%|█▌        | 1611/10000 [00:07<00:47, 178.47it/s]\u001b[A\n",
            " 17%|█▋        | 1656/10000 [00:07<00:38, 218.57it/s]\u001b[A\n",
            " 17%|█▋        | 1704/10000 [00:07<00:31, 262.86it/s]\u001b[A\n",
            " 17%|█▋        | 1742/10000 [00:08<00:43, 189.26it/s]\u001b[A\n",
            " 18%|█▊        | 1786/10000 [00:08<00:35, 228.83it/s]\u001b[A\n",
            " 18%|█▊        | 1833/10000 [00:08<00:30, 272.05it/s]\u001b[A\n",
            " 19%|█▊        | 1871/10000 [00:08<00:42, 189.13it/s]\u001b[A\n",
            " 19%|█▉        | 1920/10000 [00:08<00:34, 236.58it/s]\u001b[A\n",
            " 20%|█▉        | 1958/10000 [00:09<00:45, 175.11it/s]\u001b[A\n",
            " 20%|██        | 2006/10000 [00:09<00:36, 220.42it/s]\u001b[A\n",
            " 21%|██        | 2055/10000 [00:09<00:29, 267.48it/s]\u001b[A\n",
            " 21%|██        | 2093/10000 [00:09<00:42, 187.62it/s]\u001b[A\n",
            " 21%|██▏       | 2137/10000 [00:09<00:34, 226.82it/s]\u001b[A\n",
            " 22%|██▏       | 2185/10000 [00:09<00:28, 272.47it/s]\u001b[A\n",
            " 22%|██▏       | 2223/10000 [00:10<00:41, 186.26it/s]\u001b[A\n",
            " 23%|██▎       | 2270/10000 [00:10<00:33, 230.03it/s]\u001b[A\n",
            " 23%|██▎       | 2305/10000 [00:10<00:45, 169.02it/s]\u001b[A\n",
            " 23%|██▎       | 2347/10000 [00:10<00:37, 206.21it/s]\u001b[A\n",
            " 24%|██▍       | 2388/10000 [00:11<00:31, 241.89it/s]\u001b[A\n",
            " 24%|██▍       | 2423/10000 [00:11<00:44, 170.25it/s]\u001b[A\n",
            " 25%|██▍       | 2478/10000 [00:11<00:32, 229.23it/s]\u001b[A\n",
            " 25%|██▌       | 2514/10000 [00:11<00:43, 171.75it/s]\u001b[A\n",
            " 26%|██▌       | 2569/10000 [00:11<00:32, 227.96it/s]\u001b[A\n",
            " 26%|██▌       | 2621/10000 [00:12<00:26, 279.34it/s]\u001b[A\n",
            " 27%|██▋       | 2662/10000 [00:12<00:38, 192.18it/s]\u001b[A\n",
            " 27%|██▋       | 2709/10000 [00:12<00:31, 234.20it/s]\u001b[A\n",
            " 27%|██▋       | 2747/10000 [00:12<00:41, 176.09it/s]\u001b[A\n",
            " 28%|██▊       | 2795/10000 [00:13<00:32, 220.84it/s]\u001b[A\n",
            " 28%|██▊       | 2835/10000 [00:13<00:28, 251.86it/s]\u001b[A\n",
            " 29%|██▊       | 2871/10000 [00:13<00:39, 179.76it/s]\u001b[A\n",
            " 29%|██▉       | 2916/10000 [00:13<00:31, 222.28it/s]\u001b[A\n",
            " 30%|██▉       | 2957/10000 [00:13<00:41, 171.38it/s]\u001b[A\n",
            " 30%|██▉       | 2993/10000 [00:14<00:35, 199.16it/s]\u001b[A\n",
            " 30%|███       | 3037/10000 [00:14<00:28, 240.16it/s]\u001b[A\n",
            " 31%|███       | 3071/10000 [00:14<00:41, 167.60it/s]\u001b[A\n",
            " 31%|███       | 3113/10000 [00:14<00:33, 206.05it/s]\u001b[A\n",
            " 32%|███▏      | 3150/10000 [00:14<00:29, 235.70it/s]\u001b[A\n",
            " 32%|███▏      | 3183/10000 [00:15<00:40, 167.51it/s]\u001b[A\n",
            " 32%|███▏      | 3231/10000 [00:15<00:31, 217.68it/s]\u001b[A\n",
            " 33%|███▎      | 3264/10000 [00:15<00:41, 161.82it/s]\u001b[A\n",
            " 33%|███▎      | 3306/10000 [00:15<00:33, 201.25it/s]\u001b[A\n",
            " 33%|███▎      | 3347/10000 [00:15<00:28, 237.41it/s]\u001b[A\n",
            " 34%|███▍      | 3381/10000 [00:16<00:38, 171.60it/s]\u001b[A\n",
            " 34%|███▍      | 3425/10000 [00:16<00:30, 214.85it/s]\u001b[A\n",
            " 35%|███▍      | 3465/10000 [00:16<00:39, 166.34it/s]\u001b[A\n",
            " 35%|███▌      | 3506/10000 [00:16<00:32, 202.78it/s]\u001b[A\n",
            " 36%|███▌      | 3550/10000 [00:16<00:26, 244.50it/s]\u001b[A\n",
            " 36%|███▌      | 3584/10000 [00:17<00:36, 175.38it/s]\u001b[A\n",
            " 36%|███▋      | 3625/10000 [00:17<00:29, 212.85it/s]\u001b[A\n",
            " 37%|███▋      | 3669/10000 [00:17<00:24, 254.34it/s]\u001b[A\n",
            " 37%|███▋      | 3704/10000 [00:17<00:35, 177.78it/s]\u001b[A\n",
            " 37%|███▋      | 3744/10000 [00:17<00:29, 213.08it/s]\u001b[A\n",
            " 38%|███▊      | 3775/10000 [00:18<00:39, 158.38it/s]\u001b[A\n",
            " 38%|███▊      | 3824/10000 [00:18<00:29, 209.35it/s]\u001b[A\n",
            " 39%|███▊      | 3873/10000 [00:18<00:23, 259.36it/s]\u001b[A\n",
            " 39%|███▉      | 3910/10000 [00:18<00:33, 182.30it/s]\u001b[A\n",
            " 40%|███▉      | 3957/10000 [00:18<00:26, 227.54it/s]\u001b[A\n",
            " 40%|███▉      | 3992/10000 [00:19<00:35, 168.58it/s]\u001b[A\n",
            " 40%|████      | 4036/10000 [00:19<00:28, 209.11it/s]\u001b[A\n",
            " 41%|████      | 4082/10000 [00:19<00:23, 253.23it/s]\u001b[A\n",
            " 41%|████      | 4118/10000 [00:19<00:33, 177.90it/s]\u001b[A\n",
            " 42%|████▏     | 4165/10000 [00:19<00:26, 223.57it/s]\u001b[A\n",
            " 42%|████▏     | 4214/10000 [00:20<00:31, 182.71it/s]\u001b[A\n",
            " 43%|████▎     | 4270/10000 [00:20<00:24, 238.55it/s]\u001b[A\n",
            " 43%|████▎     | 4310/10000 [00:20<00:21, 266.27it/s]\u001b[A\n",
            " 43%|████▎     | 4347/10000 [00:20<00:29, 189.83it/s]\u001b[A\n",
            " 44%|████▍     | 4404/10000 [00:20<00:22, 249.58it/s]\u001b[A\n",
            " 45%|████▍     | 4451/10000 [00:21<00:28, 194.44it/s]\u001b[A\n",
            " 45%|████▍     | 4499/10000 [00:21<00:23, 237.18it/s]\u001b[A\n",
            " 46%|████▌     | 4559/10000 [00:21<00:18, 300.05it/s]\u001b[A\n",
            " 46%|████▌     | 4602/10000 [00:21<00:26, 207.59it/s]\u001b[A\n",
            " 46%|████▋     | 4646/10000 [00:21<00:21, 243.41it/s]\u001b[A\n",
            " 47%|████▋     | 4683/10000 [00:22<00:29, 181.35it/s]\u001b[A\n",
            " 47%|████▋     | 4729/10000 [00:22<00:23, 222.77it/s]\u001b[A\n",
            " 48%|████▊     | 4776/10000 [00:22<00:19, 266.21it/s]\u001b[A\n",
            " 48%|████▊     | 4814/10000 [00:22<00:27, 187.94it/s]\u001b[A\n",
            " 49%|████▊     | 4862/10000 [00:22<00:21, 233.75it/s]\u001b[A\n",
            " 49%|████▉     | 4897/10000 [00:23<00:29, 174.18it/s]\u001b[A\n",
            " 49%|████▉     | 4946/10000 [00:23<00:22, 222.04it/s]\u001b[A\n",
            " 50%|████▉     | 4990/10000 [00:23<00:19, 260.84it/s]\u001b[A\n",
            " 50%|█████     | 5027/10000 [00:24<00:32, 154.76it/s]\u001b[A\n",
            " 51%|█████     | 5072/10000 [00:24<00:25, 194.34it/s]\u001b[A\n",
            " 51%|█████     | 5105/10000 [00:24<00:36, 135.31it/s]\u001b[A\n",
            " 52%|█████▏    | 5151/10000 [00:24<00:27, 175.68it/s]\u001b[A\n",
            " 52%|█████▏    | 5193/10000 [00:24<00:22, 212.59it/s]\u001b[A\n",
            " 52%|█████▏    | 5227/10000 [00:25<00:29, 161.72it/s]\u001b[A\n",
            " 53%|█████▎    | 5273/10000 [00:25<00:22, 205.55it/s]\u001b[A\n",
            " 53%|█████▎    | 5316/10000 [00:25<00:28, 164.38it/s]\u001b[A\n",
            " 54%|█████▎    | 5353/10000 [00:25<00:24, 193.60it/s]\u001b[A\n",
            " 54%|█████▍    | 5395/10000 [00:25<00:19, 231.86it/s]\u001b[A\n",
            " 54%|█████▍    | 5428/10000 [00:26<00:26, 170.16it/s]\u001b[A\n",
            " 55%|█████▍    | 5479/10000 [00:26<00:20, 224.17it/s]\u001b[A\n",
            " 55%|█████▌    | 5522/10000 [00:26<00:17, 261.84it/s]\u001b[A\n",
            " 56%|█████▌    | 5559/10000 [00:26<00:23, 186.53it/s]\u001b[A\n",
            " 56%|█████▌    | 5602/10000 [00:26<00:19, 225.85it/s]\u001b[A\n",
            " 56%|█████▋    | 5647/10000 [00:27<00:24, 174.50it/s]\u001b[A\n",
            " 57%|█████▋    | 5687/10000 [00:27<00:20, 207.77it/s]\u001b[A\n",
            " 57%|█████▋    | 5728/10000 [00:27<00:17, 242.30it/s]\u001b[A\n",
            " 58%|█████▊    | 5762/10000 [00:27<00:25, 169.38it/s]\u001b[A\n",
            " 58%|█████▊    | 5800/10000 [00:27<00:20, 201.95it/s]\u001b[A\n",
            " 58%|█████▊    | 5840/10000 [00:28<00:26, 159.50it/s]\u001b[A\n",
            " 59%|█████▉    | 5884/10000 [00:28<00:20, 200.50it/s]\u001b[A\n",
            " 59%|█████▉    | 5931/10000 [00:28<00:16, 246.82it/s]\u001b[A\n",
            " 60%|█████▉    | 5966/10000 [00:28<00:22, 175.99it/s]\u001b[A\n",
            " 60%|██████    | 6010/10000 [00:28<00:18, 217.30it/s]\u001b[A\n",
            " 61%|██████    | 6059/10000 [00:29<00:22, 177.59it/s]\u001b[A\n",
            " 61%|██████    | 6116/10000 [00:29<00:16, 235.35it/s]\u001b[A\n",
            " 62%|██████▏   | 6163/10000 [00:29<00:13, 275.35it/s]\u001b[A\n",
            " 62%|██████▏   | 6202/10000 [00:29<00:19, 194.34it/s]\u001b[A\n",
            " 62%|██████▏   | 6245/10000 [00:29<00:16, 230.72it/s]\u001b[A\n",
            " 63%|██████▎   | 6279/10000 [00:30<00:22, 168.81it/s]\u001b[A\n",
            " 63%|██████▎   | 6323/10000 [00:30<00:17, 208.92it/s]\u001b[A\n",
            " 64%|██████▎   | 6369/10000 [00:30<00:14, 252.81it/s]\u001b[A\n",
            " 64%|██████▍   | 6405/10000 [00:30<00:19, 180.04it/s]\u001b[A\n",
            " 65%|██████▍   | 6455/10000 [00:31<00:15, 230.56it/s]\u001b[A\n",
            " 65%|██████▌   | 6509/10000 [00:31<00:18, 190.91it/s]\u001b[A\n",
            " 66%|██████▌   | 6552/10000 [00:31<00:15, 226.09it/s]\u001b[A\n",
            " 66%|██████▌   | 6590/10000 [00:31<00:13, 252.89it/s]\u001b[A\n",
            " 66%|██████▋   | 6625/10000 [00:31<00:19, 176.66it/s]\u001b[A\n",
            " 67%|██████▋   | 6668/10000 [00:32<00:15, 215.62it/s]\u001b[A\n",
            " 67%|██████▋   | 6700/10000 [00:32<00:20, 159.26it/s]\u001b[A\n",
            " 67%|██████▋   | 6742/10000 [00:32<00:16, 197.74it/s]\u001b[A\n",
            " 68%|██████▊   | 6783/10000 [00:32<00:13, 234.99it/s]\u001b[A\n",
            " 68%|██████▊   | 6816/10000 [00:32<00:19, 165.29it/s]\u001b[A\n",
            " 69%|██████▊   | 6858/10000 [00:33<00:15, 204.85it/s]\u001b[A\n",
            " 69%|██████▉   | 6899/10000 [00:33<00:18, 163.84it/s]\u001b[A\n",
            " 69%|██████▉   | 6940/10000 [00:33<00:15, 200.65it/s]\u001b[A\n",
            " 70%|██████▉   | 6984/10000 [00:33<00:12, 242.26it/s]\u001b[A\n",
            " 70%|███████   | 7018/10000 [00:34<00:17, 169.79it/s]\u001b[A\n",
            " 71%|███████   | 7068/10000 [00:34<00:13, 220.52it/s]\u001b[A\n",
            " 71%|███████   | 7108/10000 [00:34<00:16, 172.02it/s]\u001b[A\n",
            " 72%|███████▏  | 7153/10000 [00:34<00:13, 213.68it/s]\u001b[A\n",
            " 72%|███████▏  | 7201/10000 [00:34<00:10, 260.13it/s]\u001b[A\n",
            " 72%|███████▏  | 7238/10000 [00:35<00:15, 183.36it/s]\u001b[A\n",
            " 73%|███████▎  | 7286/10000 [00:35<00:11, 230.02it/s]\u001b[A\n",
            " 73%|███████▎  | 7324/10000 [00:35<00:15, 174.83it/s]\u001b[A\n",
            " 74%|███████▎  | 7371/10000 [00:35<00:11, 219.39it/s]\u001b[A\n",
            " 74%|███████▍  | 7413/10000 [00:35<00:10, 254.94it/s]\u001b[A\n",
            " 74%|███████▍  | 7449/10000 [00:36<00:14, 174.20it/s]\u001b[A\n",
            " 75%|███████▍  | 7488/10000 [00:36<00:12, 207.02it/s]\u001b[A\n",
            " 75%|███████▌  | 7537/10000 [00:36<00:09, 257.26it/s]\u001b[A\n",
            " 76%|███████▌  | 7574/10000 [00:36<00:13, 177.12it/s]\u001b[A\n",
            " 76%|███████▌  | 7613/10000 [00:36<00:11, 209.94it/s]\u001b[A\n",
            " 76%|███████▋  | 7645/10000 [00:37<00:15, 156.11it/s]\u001b[A\n",
            " 77%|███████▋  | 7694/10000 [00:37<00:11, 205.81it/s]\u001b[A\n",
            " 77%|███████▋  | 7736/10000 [00:37<00:09, 242.44it/s]\u001b[A\n",
            " 78%|███████▊  | 7771/10000 [00:37<00:12, 173.44it/s]\u001b[A\n",
            " 78%|███████▊  | 7806/10000 [00:37<00:10, 200.69it/s]\u001b[A\n",
            " 79%|███████▊  | 7859/10000 [00:38<00:12, 172.48it/s]\u001b[A\n",
            " 79%|███████▉  | 7904/10000 [00:38<00:09, 212.97it/s]\u001b[A\n",
            " 79%|███████▉  | 7945/10000 [00:38<00:08, 246.67it/s]\u001b[A\n",
            " 80%|███████▉  | 7979/10000 [00:38<00:11, 172.54it/s]\u001b[A\n",
            " 80%|████████  | 8022/10000 [00:38<00:09, 212.32it/s]\u001b[A\n",
            " 81%|████████  | 8061/10000 [00:38<00:07, 244.26it/s]\u001b[A\n",
            " 81%|████████  | 8095/10000 [00:39<00:11, 172.38it/s]\u001b[A\n",
            " 82%|████████▏ | 8150/10000 [00:39<00:07, 233.13it/s]\u001b[A\n",
            " 82%|████████▏ | 8185/10000 [00:39<00:10, 172.86it/s]\u001b[A\n",
            " 82%|████████▏ | 8229/10000 [00:39<00:08, 213.50it/s]\u001b[A\n",
            " 83%|████████▎ | 8276/10000 [00:39<00:06, 259.31it/s]\u001b[A\n",
            " 83%|████████▎ | 8313/10000 [00:40<00:09, 186.18it/s]\u001b[A\n",
            " 84%|████████▎ | 8368/10000 [00:40<00:06, 244.43it/s]\u001b[A\n",
            " 84%|████████▍ | 8418/10000 [00:40<00:08, 192.07it/s]\u001b[A\n",
            " 85%|████████▍ | 8465/10000 [00:40<00:06, 232.78it/s]\u001b[A\n",
            " 85%|████████▌ | 8516/10000 [00:41<00:05, 280.55it/s]\u001b[A\n",
            " 86%|████████▌ | 8556/10000 [00:41<00:07, 199.50it/s]\u001b[A\n",
            " 86%|████████▌ | 8610/10000 [00:41<00:05, 252.80it/s]\u001b[A\n",
            " 87%|████████▋ | 8658/10000 [00:41<00:06, 194.10it/s]\u001b[A\n",
            " 87%|████████▋ | 8698/10000 [00:41<00:05, 221.06it/s]\u001b[A\n",
            " 87%|████████▋ | 8730/10000 [00:42<00:05, 215.67it/s]\u001b[A\n",
            " 88%|████████▊ | 8763/10000 [00:42<00:07, 159.62it/s]\u001b[A\n",
            " 88%|████████▊ | 8809/10000 [00:42<00:05, 204.35it/s]\u001b[A\n",
            " 89%|████████▊ | 8856/10000 [00:42<00:04, 250.61it/s]\u001b[A\n",
            " 89%|████████▉ | 8891/10000 [00:43<00:07, 155.76it/s]\u001b[A\n",
            " 89%|████████▉ | 8936/10000 [00:43<00:05, 197.10it/s]\u001b[A\n",
            " 90%|████████▉ | 8982/10000 [00:43<00:04, 240.79it/s]\u001b[A\n",
            " 90%|█████████ | 9018/10000 [00:43<00:06, 158.96it/s]\u001b[A\n",
            " 91%|█████████ | 9064/10000 [00:43<00:04, 201.52it/s]\u001b[A\n",
            " 91%|█████████ | 9108/10000 [00:44<00:05, 167.17it/s]\u001b[A\n",
            " 92%|█████████▏| 9160/10000 [00:44<00:03, 217.12it/s]\u001b[A\n",
            " 92%|█████████▏| 9213/10000 [00:44<00:02, 269.88it/s]\u001b[A\n",
            " 93%|█████████▎| 9253/10000 [00:44<00:03, 192.53it/s]\u001b[A\n",
            " 93%|█████████▎| 9289/10000 [00:44<00:03, 218.11it/s]\u001b[A\n",
            " 93%|█████████▎| 9339/10000 [00:45<00:03, 181.92it/s]\u001b[A\n",
            " 94%|█████████▍| 9383/10000 [00:45<00:02, 220.05it/s]\u001b[A\n",
            " 94%|█████████▍| 9426/10000 [00:45<00:02, 255.58it/s]\u001b[A\n",
            " 95%|█████████▍| 9461/10000 [00:45<00:02, 180.12it/s]\u001b[A\n",
            " 95%|█████████▌| 9501/10000 [00:45<00:02, 214.46it/s]\u001b[A\n",
            " 95%|█████████▌| 9549/10000 [00:46<00:01, 262.27it/s]\u001b[A\n",
            " 96%|█████████▌| 9585/10000 [00:46<00:02, 184.00it/s]\u001b[A\n",
            " 96%|█████████▋| 9632/10000 [00:46<00:01, 229.81it/s]\u001b[A\n",
            " 97%|█████████▋| 9677/10000 [00:46<00:01, 268.30it/s]\u001b[A\n",
            " 97%|█████████▋| 9714/10000 [00:47<00:01, 184.31it/s]\u001b[A\n",
            " 98%|█████████▊| 9764/10000 [00:47<00:01, 234.60it/s]\u001b[A\n",
            " 98%|█████████▊| 9799/10000 [00:47<00:01, 172.64it/s]\u001b[A\n",
            " 99%|█████████▊| 9851/10000 [00:47<00:00, 225.32it/s]\u001b[A\n",
            " 99%|█████████▉| 9901/10000 [00:47<00:00, 274.01it/s]\u001b[A\n",
            " 99%|█████████▉| 9941/10000 [00:48<00:00, 189.70it/s]\u001b[A\n",
            "100%|██████████| 10000/10000 [00:48<00:00, 207.37it/s]\n"
          ]
        }
      ]
    },
    {
      "cell_type": "markdown",
      "source": [
        "고민해볼 점: 과연 한국어 단어집합에 한국어만 있을까요?\n",
        "\n",
        "지금 단계에서는 시간 상 체크하진 않지만 고민해볼 부분이기도 합니다."
      ],
      "metadata": {
        "id": "PtNW4DUIyEbN"
      }
    },
    {
      "cell_type": "markdown",
      "source": [
        "### token - index 정리"
      ],
      "metadata": {
        "id": "cK_E98-daSy7"
      }
    },
    {
      "cell_type": "code",
      "source": [
        "# 최종 정수 인코딩 하기 전 보기 편하기 위해 sort\n",
        "src_vocab = sorted(list(src_vocab))\n",
        "tar_vocab = sorted(list(tar_vocab))"
      ],
      "metadata": {
        "id": "Iz3i3MtRZ-P-"
      },
      "execution_count": 59,
      "outputs": []
    },
    {
      "cell_type": "code",
      "source": [
        "# token - idx dictionary\n",
        "# 여기서도 동일하게 i+1로 해줘야 padding에 사용할 token을 0으로 사용할 수 있습니다!\n",
        "src_to_index = dict([(word, i+1) for i, word in enumerate(src_vocab)])\n",
        "tar_to_index = dict([(word, i+1) for i, word in enumerate(tar_vocab)])\n",
        "print(src_to_index)\n",
        "print(tar_to_index)"
      ],
      "metadata": {
        "colab": {
          "base_uri": "https://localhost:8080/"
        },
        "id": "xrGkd41Has-Q",
        "outputId": "0e8f3eb0-435c-4eaa-ea72-d68f8861196a"
      },
      "execution_count": 60,
      "outputs": [
        {
          "output_type": "stream",
          "name": "stdout",
          "text": [
            "{'\\n': 1, ',': 2, 'A': 3, 'AAA': 4, 'AAA1@BBB1.com': 5, 'AAA@BBB.com': 6, 'ABCDE': 7, 'AI': 8, 'ANR': 9, 'ATM': 10, 'Associates': 11, 'B': 12, 'BBB': 13, 'BBB@email.com': 14, 'BSE': 15, 'Bank': 16, 'C': 17, 'CCTV': 18, 'CEO': 19, 'CFM': 20, 'CMS': 21, 'COVID': 22, 'CSS': 23, 'CT': 24, 'Company': 25, 'Corporation': 26, 'D': 27, 'DCA': 28, 'DVR': 29, 'Drive': 30, 'E': 31, 'EOB': 32, 'EPP': 33, 'ESG': 34, 'ETF': 35, 'EVA': 36, 'Enter': 37, 'Expo': 38, 'FFF': 39, 'FFFF': 40, 'FOMO': 41, 'Fair': 42, 'Fi': 43, 'Food': 44, 'Fu': 45, 'G': 46, 'GB': 47, 'GPS': 48, 'GVWR': 49, 'HDD': 50, 'HTML': 51, 'ID': 52, 'IP': 53, 'IPO': 54, 'IT': 55, 'IVR': 56, 'IaaS': 57, 'International': 58, 'IoT': 59, 'JLPT': 60, 'K': 61, 'Kabsat': 62, 'Korea': 63, 'LED': 64, 'Limited': 65, 'Locust': 66, 'M': 67, 'MAR': 68, 'MMS': 69, 'MOU': 70, 'Medical': 71, 'NFT': 72, 'NI': 73, 'NSE': 74, 'NTFS': 75, 'PDA': 76, 'PDF': 77, 'PPE': 78, 'PRO': 79, 'PSA': 80, 'PVP': 81, 'Precision': 82, 'Private': 83, 'QR': 84, 'RAM': 85, 'ROI': 86, 'RV': 87, 'SD': 88, 'SEO': 89, 'SIM': 90, 'SKU': 91, 'SNS': 92, 'SPV': 93, 'SSD': 94, 'SSL': 95, 'Salalah': 96, 'South': 97, 'TPU': 98, 'TV': 99, 'Touch': 100, 'UI': 101, 'UN': 102, 'USB': 103, 'VC': 104, 'VIP': 105, 'VPN': 106, 'VR': 107, 'VVIP': 108, 'View': 109, 'WIFI': 110, 'WTO': 111, 'Web': 112, 'Wi': 113, 'by': 114, 'car': 115, 'cm': 116, 'demat': 117, 'e': 118, 'found': 119, 'km': 120, 'm': 121, 'mm': 122, 'mmHg': 123, 'not': 124, 'pdf': 125, 'x': 126, '㎡': 127, '가': 128, '가게': 129, '가격': 130, '가격표': 131, '가공': 132, '가교': 133, '가구': 134, '가급적': 135, '가기': 136, '가까워지다': 137, '가까이': 138, '가깝다': 139, '가꾸다': 140, '가끔': 141, '가능': 142, '가능성': 143, '가능하다': 144, '가다': 145, '가닥': 146, '가득': 147, '가득하다': 148, '가든': 149, '가령': 150, '가로': 151, '가르다': 152, '가르치다': 153, '가리키다': 154, '가면': 155, '가미': 156, '가변': 157, '가볍다': 158, '가보다': 159, '가상': 160, '가상화': 161, '가세': 162, '가소성': 163, '가솔린': 164, '가스': 165, '가스나': 166, '가스레인지': 167, '가슴': 168, '가시': 169, '가야': 170, '가열': 171, '가옥': 172, '가요': 173, '가용성': 174, '가을': 175, '가의': 176, '가이드': 177, '가이드북': 178, '가입': 179, '가입자': 180, '가장': 181, '가전': 182, '가전제품': 183, '가정': 184, '가정식': 185, '가젯': 186, '가져가다': 187, '가져다주다': 188, '가져오다': 189, '가족': 190, '가지': 191, '가지다': 192, '가차': 193, '가치': 194, '가판': 195, '각': 196, '각각': 197, '각국': 198, '각도': 199, '각본': 200, '각서': 201, '각자': 202, '각종': 203, '간': 204, '간격': 205, '간결하다': 206, '간과': 207, '간극': 208, '간단하다': 209, '간략하다': 210, '간사': 211, '간은': 212, '간의': 213, '간이며': 214, '간장': 215, '간접비': 216, '간주': 217, '간행물': 218, '간호사': 219, '갇히다': 220, '갈다': 221, '갈래': 222, '갈비': 223, '갈아타다': 224, '감': 225, '감당': 226, '감독': 227, '감동': 228, '감명': 229, '감사': 230, '감사하다': 231, '감소': 232, '감수': 233, '감시': 234, '감싸다': 235, '감안': 236, '감염': 237, '감정': 238, '감지': 239, '갑자기': 240, '갑작스럽다': 241, '값': 242, '갓': 243, '강남': 244, '강남역': 245, '강도': 246, '강력하다': 247, '강릉': 248, '강세': 249, '강아지': 250, '강연': 251, '강의': 252, '강의실': 253, '강점': 254, '강제': 255, '강조': 256, '강좌': 257, '강철': 258, '강하다': 259, '강화하다': 260, '갖다': 261, '갖추다': 262, '같다': 263, '같이': 264, '갚다': 265, '개': 266, '개구': 267, '개국': 268, '개념': 269, '개다': 270, '개도': 271, '개발': 272, '개발자': 273, '개방': 274, '개별': 275, '개봉': 276, '개선': 277, '개설': 278, '개시': 279, '개업': 280, '개요': 281, '개월': 282, '개월치': 283, '개인': 284, '개인실': 285, '개인정보': 286, '개인화': 287, '개입': 288, '개정': 289, '개조': 290, '개척': 291, '개체': 292, '개최': 293, '개회': 294, '객': 295, '객관': 296, '객실': 297, '갱신': 298, '거': 299, '거고': 300, '거기': 301, '거나': 302, '거대하다': 303, '거도': 304, '거들다': 305, '거뜬하다': 306, '거란': 307, '거래': 308, '거래소': 309, '거래처': 310, '거론': 311, '거리': 312, '거버넌스': 313, '거부': 314, '거셨나': 315, '거슬러': 316, '거신': 317, '거실': 318, '거야': 319, '거의': 320, '거절': 321, '거점': 322, '거주': 323, '거주지': 324, '거처': 325, '거치다': 326, '거품': 327, '걱정': 328, '걱정거리': 329, '건': 330, '건가': 331, '건강': 332, '건강하다': 333, '건너다': 334, '건너편': 335, '건네주다': 336, '건대': 337, '건물': 338, '건배': 339, '건설': 340, '건설업': 341, '건의': 342, '건조기': 343, '건지다': 344, '건축': 345, '건축물': 346, '걸': 347, '걸다': 348, '걸리다': 349, '걸음걸이': 350, '걸쭉하다': 351, '걸치다': 352, '검': 353, '검다': 354, '검사': 355, '검색': 356, '검수': 357, '검안': 358, '검은색': 359, '검증': 360, '검토': 361, '겁': 362, '겁니다': 363, '것': 364, '것이므': 365, '것입': 366, '게': 367, '게다가': 368, '게스트': 369, '게스트하우스': 370, '게시': 371, '게시판': 372, '게으르다': 373, '게이': 374, '게이트': 375, '게임': 376, '게장': 377, '게재': 378, '겠다': 379, '겨울': 380, '겨울철': 381, '격려': 382, '격식': 383, '격자': 384, '겪다': 385, '견과류': 386, '견본': 387, '견인차': 388, '견적': 389, '견학': 390, '결과': 391, '결국': 392, '결기': 393, '결론': 394, '결절': 395, '결정': 396, '결제': 397, '결코': 398, '결함': 399, '결합': 400, '결혼': 401, '결혼식': 402, '경': 403, '경고': 404, '경과': 405, '경기도': 406, '경량': 407, '경력': 408, '경로': 409, '경보': 410, '경비원': 411, '경시': 412, '경영': 413, '경우': 414, '경의': 415, '경작': 416, '경쟁': 417, '경쟁력': 418, '경쟁자': 419, '경제': 420, '경청': 421, '경치': 422, '경품': 423, '경향': 424, '경험': 425, '곁들이다': 426, '계란': 427, '계란빵': 428, '계란찜': 429, '계산': 430, '계산서': 431, '계세': 432, '계속': 433, '계시': 434, '계시다': 435, '계약': 436, '계약금': 437, '계약서': 438, '계열': 439, '계절': 440, '계정': 441, '계정은': 442, '계좌': 443, '계층': 444, '계획': 445, '고': 446, '고가': 447, '고개': 448, '고객': 449, '고구마': 450, '고귀하다': 451, '고급': 452, '고급스럽다': 453, '고기': 454, '고대': 455, '고도': 456, '고등어': 457, '고려': 458, '고려인삼': 459, '고르다': 460, '고맙다': 461, '고문': 462, '고민': 463, '고소하다': 464, '고속': 465, '고압': 466, '고양이': 467, '고여': 468, '고요': 469, '고용': 470, '고용주': 471, '고위': 472, '고유': 473, '고장': 474, '고정': 475, '고정기': 476, '고집': 477, '고추장': 478, '고치다': 479, '고통': 480, '고프다': 481, '고향': 482, '고화질': 483, '곡': 484, '곡물': 485, '곤경': 486, '곤혹': 487, '곧': 488, '곧다': 489, '골드': 490, '골프': 491, '곰팡이': 492, '곱': 493, '곳': 494, '곳곳': 495, '곳도': 496, '공': 497, '공간': 498, '공감': 499, '공개': 500, '공격': 501, '공공': 502, '공과금': 503, '공급': 504, '공기': 505, '공기업': 506, '공동': 507, '공동체': 508, '공략': 509, '공모': 510, '공백': 511, '공부': 512, '공사': 513, '공식': 514, '공압': 515, '공연': 516, '공용': 517, '공유': 518, '공인': 519, '공자': 520, '공장': 521, '공정': 522, '공정하다': 523, '공제': 524, '공지': 525, '공짜': 526, '공통': 527, '공통점': 528, '공학': 529, '공함': 530, '공항': 531, '과': 532, '과감': 533, '과거': 534, '과대': 535, '과세': 536, '과소': 537, '과실': 538, '과업': 539, '과일': 540, '과자': 541, '과장': 542, '과정': 543, '과제': 544, '과학': 545, '과학자': 546, '관': 547, '관계': 548, '관계없이': 549, '관광': 550, '관광객': 551, '관광지': 552, '관대하다': 553, '관련': 554, '관리': 555, '관리자': 556, '관세': 557, '관세청': 558, '관습': 559, '관심': 560, '관심사': 561, '관용': 562, '관점': 563, '관찰': 564, '관할': 565, '관해': 566, '관행': 567, '괌': 568, '광': 569, '광고': 570, '광대역': 571, '광도': 572, '광범위하다': 573, '광석': 574, '광택': 575, '괜': 576, '괜찮다': 577, '괴롭히다': 578, '굉장하다': 579, '교대': 580, '교류': 581, '교사': 582, '교수': 583, '교실': 584, '교육': 585, '교재': 586, '교직원': 587, '교체': 588, '교통': 589, '교환': 590, '교환학생': 591, '교훈': 592, '구': 593, '구가': 594, '구경': 595, '구독': 596, '구독료': 597, '구동': 598, '구름': 599, '구매': 600, '구별': 601, '구비': 602, '구상': 603, '구석구석': 604, '구성': 605, '구역': 606, '구이': 607, '구입': 608, '구절판': 609, '구조': 610, '구조원': 611, '구체': 612, '구축': 613, '구축함': 614, '구현': 615, '구형': 616, '국': 617, '국가': 618, '국경': 619, '국내': 620, '국내선': 621, '국내외': 622, '국물': 623, '국법': 624, '국수': 625, '국적': 626, '국제': 627, '국제공항': 628, '국한': 629, '군데': 630, '굴삭기': 631, '굴착기': 632, '굵다': 633, '굽다': 634, '궁궐': 635, '궁극': 636, '궁금하다': 637, '권': 638, '권리': 639, '권장': 640, '권하다': 641, '권한': 642, '귀': 643, '귀국': 644, '귀사': 645, '귀중': 646, '귀중하다': 647, '귀하': 648, '귀하다': 649, '규모': 650, '규정': 651, '규제': 652, '규칙': 653, '균열': 654, '균형': 655, '그': 656, '그거': 657, '그건': 658, '그걸': 659, '그걿': 660, '그것': 661, '그게': 662, '그날': 663, '그냥': 664, '그녀': 665, '그늘': 666, '그다음': 667, '그대로': 668, '그동안': 669, '그때': 670, '그땐': 671, '그라브락스': 672, '그래도': 673, '그래서': 674, '그래프': 675, '그래픽': 676, '그랬는데': 677, '그랬더니': 678, '그러나': 679, '그러니까': 680, '그러면': 681, '그러므로': 682, '그러하다': 683, '그런데': 684, '그렇게': 685, '그렇다': 686, '그렇다고': 687, '그렇지만': 688, '그룹': 689, '그릇': 690, '그리고': 691, '그리다': 692, '그리스': 693, '그린': 694, '그릴': 695, '그림': 696, '그만하다': 697, '그저': 698, '그중': 699, '극구': 700, '극복': 701, '극장': 702, '극적': 703, '근거': 704, '근데': 705, '근로자': 706, '근무': 707, '근원': 708, '근접하다': 709, '근처': 710, '글': 711, '글꼴': 712, '글로벌': 713, '글루텐': 714, '글쎄': 715, '글쎄요': 716, '글씨': 717, '금': 718, '금기': 719, '금년': 720, '금리': 721, '금색': 722, '금속': 723, '금액': 724, '금요일': 725, '금융': 726, '금융감독원': 727, '금은': 728, '금전': 729, '금제': 730, '금지': 731, '급': 732, '급등': 733, '급성': 734, '급여': 735, '급우': 736, '급증': 737, '급하다': 738, '긍정': 739, '기': 740, '기가바이트': 741, '기간': 742, '기계': 743, '기공식': 744, '기관': 745, '기구': 746, '기금': 747, '기기': 748, '기꺼이': 749, '기념': 750, '기념일': 751, '기능': 752, '기다': 753, '기다리다': 754, '기대': 755, '기대하다': 756, '기도': 757, '기둥': 758, '기록': 759, '기르다': 760, '기밀': 761, '기반': 762, '기본': 763, '기부': 764, '기분': 765, '기쁘다': 766, '기사': 767, '기숙사': 768, '기술': 769, '기술자': 770, '기어': 771, '기억': 772, '기억나다': 773, '기업': 774, '기업가': 775, '기업은행': 776, '기업인': 777, '기에': 778, '기여': 779, '기온': 780, '기와': 781, '기울이다': 782, '기원': 783, '기입': 784, '기자': 785, '기재': 786, '기적': 787, '기존': 788, '기준': 789, '기중기': 790, '기차': 791, '기차역': 792, '기차표': 793, '기초': 794, '기타': 795, '기표': 796, '기한': 797, '기호': 798, '기혼': 799, '기회': 800, '기획': 801, '기후변화': 802, '긴급': 803, '긴급하다': 804, '긴밀하다': 805, '길': 806, '길다': 807, '길어지다': 808, '길이': 809, '김': 810, '김밥': 811, '김치': 812, '김치볶음밥': 813, '깊다': 814, '깊이': 815, '까다롭다': 816, '까맣다': 817, '까지': 818, '까지의': 819, '깔끔하다': 820, '깔리다': 821, '깜박이다': 822, '깜빡': 823, '깜짝': 824, '깨끗하다': 825, '깨다': 826, '깨우치다': 827, '깨지다': 828, '깻잎': 829, '꺼내다': 830, '꺼지다': 831, '꼭': 832, '꼼꼼하다': 833, '꽉': 834, '꽤': 835, '꾸미다': 836, '꾸준하다': 837, '꿀': 838, '꿈': 839, '꿰매다': 840, '끄다': 841, '끊다': 842, '끌': 843, '끌다': 844, '끌리다': 845, '끓는점': 846, '끓다': 847, '끓이다': 848, '끔찍하다': 849, '끝': 850, '끝나다': 851, '끝내기': 852, '끝내다': 853, '끼치다': 854, '나': 855, '나가다': 856, '나나': 857, '나누다': 858, '나뉘다': 859, '나다': 860, '나라': 861, '나르다': 862, '나머지': 863, '나무': 864, '나빠지다': 865, '나쁘다': 866, '나사': 867, '나서다': 868, '나아': 869, '나아가다': 870, '나아지다': 871, '나열': 872, '나오다': 873, '나은': 874, '나은지': 875, '나이': 876, '나이라': 877, '나이지리아': 878, '나이트클럽': 879, '나일론': 880, '나중': 881, '나타나다': 882, '나타내다': 883, '나흘': 884, '난': 885, '난방': 886, '난이도': 887, '날': 888, '날리다': 889, '날씨': 890, '날아가다': 891, '날짜': 892, '날카로워지다': 893, '남기다': 894, '남다': 895, '남동쪽': 896, '남미': 897, '남성': 898, '남아': 899, '남아시아': 900, '남용': 901, '남지': 902, '남편': 903, '납부': 904, '납품': 905, '낫': 906, '낫다': 907, '낭비': 908, '낭비하다': 909, '낮다': 910, '낮아지다': 911, '낮잠': 912, '낮추다': 913, '낯설다': 914, '내': 915, '내기': 916, '내내': 917, '내년': 918, '내놓다': 919, '내다': 920, '내려가다': 921, '내려오다': 922, '내리다': 923, '내면': 924, '내미다': 925, '내부': 926, '내시': 927, '내야': 928, '내연': 929, '내용': 930, '내일': 931, '내장': 932, '내주다': 933, '내지': 934, '낸싱': 935, '낼': 936, '냄비': 937, '냅킨': 938, '냉각': 939, '냉동고': 940, '냉면': 941, '냉장': 942, '너': 943, '너무': 944, '너무나': 945, '너무하다': 946, '너비': 947, '너희': 948, '널': 949, '널리': 950, '넓다': 951, '넓히다': 952, '넘기다': 953, '넘다': 954, '넘버': 955, '넘어가다': 956, '넘어서다': 957, '넘어지다': 958, '넘치다': 959, '넣기': 960, '넣다': 961, '네': 962, '네가지': 963, '네트워크': 964, '네트워킹': 965, '넷째': 966, '년': 967, '노': 968, '노고': 969, '노동자': 970, '노란색': 971, '노래': 972, '노래방': 973, '노력': 974, '노인': 975, '노점': 976, '노출': 977, '노트북': 978, '노프': 979, '녹색': 980, '녹음': 981, '녹이다': 982, '녹차': 983, '녹화': 984, '논란': 985, '논문': 986, '논의': 987, '논픽션': 988, '놀': 989, '놀라다': 990, '놀랍다': 991, '놀이터': 992, '농': 993, '농기': 994, '농기구': 995, '농담': 996, '농부': 997, '농어': 998, '농업': 999, '농작물': 1000, '높다': 1001, '높아지다': 1002, '높이': 1003, '높이다': 1004, '놓다': 1005, '놓이다': 1006, '놓치다': 1007, '뇌파': 1008, '누가': 1009, '누구': 1010, '누구신지': 1011, '누군가': 1012, '누군지': 1013, '누락': 1014, '누르다': 1015, '누리': 1016, '누리다': 1017, '누수': 1018, '눈': 1019, '눌릴': 1020, '뉴스': 1021, '뉴스레터': 1022, '뉴욕': 1023, '뉴질랜드': 1024, '느껴지다': 1025, '느끼다': 1026, '느낌': 1027, '느리다': 1028, '느슨하다': 1029, '늘': 1030, '늘다': 1031, '늘리다': 1032, '늘어나다': 1033, '늙다': 1034, '능력': 1035, '늦': 1036, '늦다': 1037, '늦어지다': 1038, '니': 1039, '님': 1040, '다': 1041, '다가': 1042, '다가가다': 1043, '다가오다': 1044, '다국적': 1045, '다녀오다': 1046, '다년': 1047, '다니다': 1048, '다단계': 1049, '다도': 1050, '다듬다': 1051, '다량': 1052, '다루다': 1053, '다루어지다': 1054, '다르다': 1055, '다른': 1056, '다리미': 1057, '다만': 1058, '다섯': 1059, '다섯째': 1060, '다소': 1061, '다시': 1062, '다시다': 1063, '다양성': 1064, '다양하다': 1065, '다용': 1066, '다운': 1067, '다운로드': 1068, '다음': 1069, '다음주': 1070, '다이닝': 1071, '다인': 1072, '다채로웠으': 1073, '다큐멘터리': 1074, '다해': 1075, '다행': 1076, '다행하다': 1077, '단': 1078, '단가': 1079, '단거리': 1080, '단계': 1081, '단골': 1082, '단기': 1083, '단기간': 1084, '단단하다': 1085, '단독': 1086, '단돈': 1087, '단말기': 1088, '단백질': 1089, '단순하다': 1090, '단어': 1091, '단열': 1092, '단위': 1093, '단일': 1094, '단점': 1095, '단정하다': 1096, '단지': 1097, '단체': 1098, '단편': 1099, '단합': 1100, '닫다': 1101, '달': 1102, '달다': 1103, '달라': 1104, '달라지다': 1105, '달러': 1106, '달리': 1107, '달리다': 1108, '달성': 1109, '달이': 1110, '달콤하다': 1111, '닭': 1112, '닭고기': 1113, '닭발': 1114, '담': 1115, '담그다': 1116, '담기다': 1117, '담다': 1118, '담당': 1119, '담당자': 1120, '담배': 1121, '담백하다': 1122, '담보': 1123, '답': 1124, '답니': 1125, '답답하다': 1126, '답변': 1127, '답장': 1128, '답지': 1129, '당': 1130, '당국': 1131, '당근': 1132, '당분간': 1133, '당사': 1134, '당사자': 1135, '당시': 1136, '당신': 1137, '당연하다': 1138, '당일': 1139, '당장': 1140, '당하다': 1141, '당황': 1142, '대': 1143, '대가': 1144, '대고': 1145, '대구': 1146, '대규모': 1147, '대금': 1148, '대기': 1149, '대기업': 1150, '대나무': 1151, '대다': 1152, '대다수': 1153, '대단하다': 1154, '대답': 1155, '대략': 1156, '대량': 1157, '대로': 1158, '대륙': 1159, '대리인': 1160, '대리점': 1161, '대만': 1162, '대박': 1163, '대본': 1164, '대부분': 1165, '대비': 1166, '대상': 1167, '대상자': 1168, '대신': 1169, '대안': 1170, '대야': 1171, '대여': 1172, '대역': 1173, '대역폭': 1174, '대요': 1175, '대유행': 1176, '대응': 1177, '대의': 1178, '대입': 1179, '대적': 1180, '대접': 1181, '대중': 1182, '대지': 1183, '대책': 1184, '대처': 1185, '대체': 1186, '대출': 1187, '대출받다': 1188, '대충': 1189, '대치': 1190, '대칭': 1191, '대통령': 1192, '대폭': 1193, '대표': 1194, '대피소': 1195, '대학': 1196, '대학교': 1197, '대한': 1198, '대한민국': 1199, '대해': 1200, '대행': 1201, '대형': 1202, '대화': 1203, '댓글': 1204, '더': 1205, '더듬다': 1206, '더디다': 1207, '더라도': 1208, '더블': 1209, '더욱': 1210, '더위': 1211, '더하다': 1212, '덕분': 1213, '덜': 1214, '덜다': 1215, '덤프': 1216, '덤프트럭': 1217, '덥다': 1218, '덧붙이다': 1219, '덩굴': 1220, '데': 1221, '데도': 1222, '데려가다': 1223, '데려오다': 1224, '데리': 1225, '데리다': 1226, '데모': 1227, '데뷔': 1228, '데스크': 1229, '데스크탑': 1230, '데우다': 1231, '데이터': 1232, '데이터베이스': 1233, '데이트': 1234, '데코': 1235, '데크': 1236, '덴마크': 1237, '도': 1238, '도구': 1239, '도넛': 1240, '도달': 1241, '도대체': 1242, '도로': 1243, '도록': 1244, '도르다': 1245, '도매': 1246, '도메인': 1247, '도서관': 1248, '도시': 1249, '도시락': 1250, '도안': 1251, '도어': 1252, '도와주다': 1253, '도용': 1254, '도우': 1255, '도우미': 1256, '도울': 1257, '도움': 1258, '도움말': 1259, '도입': 1260, '도전': 1261, '도착': 1262, '도체': 1263, '도쿄': 1264, '독립': 1265, '독방': 1266, '독일': 1267, '독자': 1268, '독점': 1269, '독촉': 1270, '독특하다': 1271, '돈': 1272, '돈벌이': 1273, '돋보이다': 1274, '돌려주다': 1275, '돌리다': 1276, '돌보다': 1277, '돌아가다': 1278, '돌아오다': 1279, '돌잔치': 1280, '돌파': 1281, '돔': 1282, '돕기': 1283, '돕다': 1284, '동': 1285, '동감': 1286, '동거': 1287, '동기': 1288, '동남아시아': 1289, '동네': 1290, '동등': 1291, '동료': 1292, '동물': 1293, '동물성': 1294, '동반': 1295, '동부': 1296, '동생': 1297, '동시': 1298, '동안': 1299, '동양': 1300, '동영상': 1301, '동의': 1302, '동인': 1303, '동일': 1304, '동일시': 1305, '동일하다': 1306, '동전': 1307, '동참': 1308, '동행': 1309, '동향': 1310, '돼다': 1311, '돼지': 1312, '돼지고기': 1313, '되게': 1314, '되다': 1315, '되돌리다': 1316, '되어다': 1317, '되찾다': 1318, '두': 1319, '두기': 1320, '두껍다': 1321, '두다': 1322, '두드리다': 1323, '두렵다': 1324, '두시': 1325, '두운': 1326, '둘': 1327, '둘러보다': 1328, '둘러싸다': 1329, '둘째': 1330, '뒤': 1331, '뒷': 1332, '뒷마당': 1333, '뒷받침': 1334, '듀얼': 1335, '드': 1336, '드나': 1337, '드디어': 1338, '드라마': 1339, '드라이브': 1340, '드러나다': 1341, '드럼': 1342, '드레스': 1343, '드레싱': 1344, '드로잉': 1345, '드리다': 1346, '드릴': 1347, '듣기': 1348, '듣다': 1349, '들': 1350, '들다': 1351, '들뜨다': 1352, '들려주다': 1353, '들르다': 1354, '들리다': 1355, '들어가다': 1356, '들어서다': 1357, '들어오다': 1358, '들어주다': 1359, '들이다': 1360, '듭': 1361, '듭니': 1362, '등': 1363, '등급': 1364, '등등': 1365, '등록': 1366, '등록증': 1367, '등본': 1368, '등장': 1369, '디네': 1370, '디럭스': 1371, '디바이스': 1372, '디스크': 1373, '디스플레이': 1374, '디시': 1375, '디자이너': 1376, '디자인': 1377, '디저스터': 1378, '디저트': 1379, '디젤': 1380, '디지털': 1381, '디지털로': 1382, '딜러': 1383, '딥': 1384, '딩기': 1385, '따내다': 1386, '따뜻하다': 1387, '따라가다': 1388, '따라서': 1389, '따라오다': 1390, '따로': 1391, '따르다': 1392, '딱': 1393, '딱이다': 1394, '딸리다': 1395, '땀': 1396, '때': 1397, '때때로': 1398, '때로는': 1399, '때문': 1400, '떠나다': 1401, '떠오르다': 1402, '떡': 1403, '떡볶이': 1404, '떨다': 1405, '떨어뜨리다': 1406, '떨어지다': 1407, '또': 1408, '또는': 1409, '또래': 1410, '또한': 1411, '똑같다': 1412, '똑똑하다': 1413, '똑바로': 1414, '뚜렷하다': 1415, '뛰어나다': 1416, '뛰어들다': 1417, '뜨개질': 1418, '뜨다': 1419, '뜰': 1420, '뜻': 1421, '뜻입': 1422, '띄다': 1423, '라디오': 1424, '라면': 1425, '라발': 1426, '라서': 1427, '라우터': 1428, '라운드': 1429, '라운지': 1430, '라이': 1431, '라이브': 1432, '라이브러리': 1433, '라이선스': 1434, '라이센스': 1435, '라이트': 1436, '라이트닝': 1437, '라이프스타일': 1438, '라인': 1439, '라인업': 1440, '란': 1441, '랍니': 1442, '래야': 1443, '랙티브': 1444, '랜드': 1445, '랩': 1446, '랩톱': 1447, '량': 1448, '러': 1449, '러너': 1450, '러닝': 1451, '러시': 1452, '럭셔리': 1453, '런가': 1454, '런던': 1455, '런칭': 1456, '레드': 1457, '레벨': 1458, '레스토랑': 1459, '레시피': 1460, '레어': 1461, '레이': 1462, '레이블': 1463, '레이아웃': 1464, '레인': 1465, '레지스트리': 1466, '레코드': 1467, '레크리에이션': 1468, '레터': 1469, '렌더링': 1470, '렌즈': 1471, '렌탈': 1472, '렌터카': 1473, '렌틸': 1474, '려고': 1475, '려면': 1476, '령': 1477, '로': 1478, '로고': 1479, '로그': 1480, '로그아웃': 1481, '로그온': 1482, '로그인': 1483, '로더': 1484, '로드': 1485, '로드맵': 1486, '로만': 1487, '로봇': 1488, '로부터': 1489, '로비': 1490, '로서': 1491, '로열티': 1492, '로터리': 1493, '로트': 1494, '록': 1495, '론': 1496, '론칭': 1497, '롤': 1498, '롤러': 1499, '롤플레잉': 1500, '롭': 1501, '료': 1502, '루프': 1503, '룸': 1504, '룸메이트': 1505, '룸서비스': 1506, '룸셰어': 1507, '륜': 1508, '률': 1509, '를': 1510, '리': 1511, '리가': 1512, '리기': 1513, '리뉴얼': 1514, '리더': 1515, '리드': 1516, '리디렉션': 1517, '리버풀': 1518, '리뷰': 1519, '리셉션': 1520, '리소스': 1521, '리스크': 1522, '리스트': 1523, '리조트': 1524, '리지': 1525, '리캐': 1526, '리커버리': 1527, '리테일': 1528, '리퍼': 1529, '리프트': 1530, '리허설': 1531, '린다': 1532, '릴': 1533, '링': 1534, '링스': 1535, '링크': 1536, '마': 1537, '마감': 1538, '마개': 1539, '마늘': 1540, '마닐라': 1541, '마다': 1542, '마당': 1543, '마드리드': 1544, '마땅치': 1545, '마력': 1546, '마련': 1547, '마리': 1548, '마무리': 1549, '마법': 1550, '마사지': 1551, '마스코트': 1552, '마스크': 1553, '마스터': 1554, '마시기': 1555, '마시다': 1556, '마우스': 1557, '마을': 1558, '마음': 1559, '마이너스': 1560, '마이크': 1561, '마인더': 1562, '마인드': 1563, '마중': 1564, '마지막': 1565, '마차': 1566, '마찬가지': 1567, '마치다': 1568, '마침': 1569, '마침내': 1570, '마케터': 1571, '마케터입니': 1572, '마케팅': 1573, '마포구': 1574, '막': 1575, '막걸리': 1576, '막다': 1577, '막대': 1578, '막히다': 1579, '만': 1580, '만기': 1581, '만기일': 1582, '만나다': 1583, '만난': 1584, '만날': 1585, '만도': 1586, '만두': 1587, '만드나': 1588, '만들기': 1589, '만들다': 1590, '만들어지다': 1591, '만듭니': 1592, '만료': 1593, '만약': 1594, '만이': 1595, '만일': 1596, '만족': 1597, '만족스럽다': 1598, '만족하다': 1599, '만찬': 1600, '만큼': 1601, '만화': 1602, '만회': 1603, '많다': 1604, '많아지다': 1605, '많이': 1606, '말': 1607, '말다': 1608, '말레이시아': 1609, '말씀': 1610, '말씀드리다': 1611, '맙소사': 1612, '맛': 1613, '맛보다': 1614, '맛있다': 1615, '맛집': 1616, '맜있는': 1617, '망치다': 1618, '맞다': 1619, '맞서다': 1620, '맞추다': 1621, '맞춤': 1622, '맡기다': 1623, '맡다': 1624, '매': 1625, '매각': 1626, '매끄럽다': 1627, '매너': 1628, '매년': 1629, '매니저': 1630, '매다': 1631, '매달': 1632, '매도': 1633, '매력': 1634, '매료': 1635, '매매': 1636, '매물': 1637, '매번': 1638, '매수': 1639, '매우': 1640, '매월': 1641, '매일': 1642, '매입': 1643, '매장': 1644, '매점': 1645, '매주': 1646, '매진': 1647, '매체': 1648, '매출': 1649, '매치': 1650, '매크로': 1651, '매트': 1652, '매트리스': 1653, '매핑': 1654, '맥락': 1655, '맥주': 1656, '맨': 1657, '맬웨어': 1658, '맵': 1659, '맵다': 1660, '맵핑': 1661, '맺다': 1662, '머': 1663, '머드': 1664, '머리': 1665, '머무르다': 1666, '머물다': 1667, '머신': 1668, '먹기': 1669, '먹다': 1670, '먹방': 1671, '먹이': 1672, '먼저': 1673, '먼지': 1674, '멀다': 1675, '멀리': 1676, '멈추다': 1677, '멋지다': 1678, '멎다': 1679, '메가바이트': 1680, '메가비트': 1681, '메뉴': 1682, '메뉴판': 1683, '메모': 1684, '메시': 1685, '메시지': 1686, '메이커': 1687, '메이크업': 1688, '메인': 1689, '메일': 1690, '메커니즘': 1691, '메타': 1692, '멜론': 1693, '멤버': 1694, '멤버십': 1695, '며칠': 1696, '면': 1697, '면역': 1698, '면적': 1699, '면접': 1700, '면제': 1701, '면직물': 1702, '면책': 1703, '면허': 1704, '면허증': 1705, '명': 1706, '명과': 1707, '명당': 1708, '명령': 1709, '명백하다': 1710, '명분': 1711, '명상': 1712, '명세서': 1713, '명시': 1714, '명의': 1715, '명인': 1716, '명칭': 1717, '명품': 1718, '명함': 1719, '명확하다': 1720, '몇': 1721, '몇대': 1722, '몇몇': 1723, '모': 1724, '모국': 1725, '모국어': 1726, '모금': 1727, '모기': 1728, '모기지': 1729, '모기지론': 1730, '모니터': 1731, '모니터링': 1732, '모델': 1733, '모뎀': 1734, '모두': 1735, '모듈': 1736, '모드': 1737, '모든': 1738, '모레': 1739, '모르다': 1740, '모르타르': 1741, '모바일': 1742, '모범': 1743, '모색': 1744, '모서리': 1745, '모습': 1746, '모시': 1747, '모시다': 1748, '모양': 1749, '모욕': 1750, '모으다': 1751, '모의고사': 1752, '모이다': 1753, '모임': 1754, '모자': 1755, '모터': 1756, '모터보트': 1757, '모텔': 1758, '모티브': 1759, '모험': 1760, '모형': 1761, '목걸이': 1762, '목격': 1763, '목록': 1764, '목별': 1765, '목소리': 1766, '목요일': 1767, '목욕': 1768, '목욕탕': 1769, '목적': 1770, '목적지': 1771, '목표': 1772, '몫': 1773, '몬순': 1774, '몰다': 1775, '몰두하다': 1776, '몰이': 1777, '몸': 1778, '못': 1779, '묘목': 1780, '무': 1781, '무겁다': 1782, '무게': 1783, '무너지다': 1784, '무늬': 1785, '무대': 1786, '무드': 1787, '무례하다': 1788, '무료': 1789, '무리': 1790, '무사하다': 1791, '무선': 1792, '무섭다': 1793, '무슨': 1794, '무시': 1795, '무언가': 1796, '무엇': 1797, '무었': 1798, '무역': 1799, '무역수지': 1800, '무용': 1801, '무의미하다': 1802, '무작위': 1803, '무제한': 1804, '무중력': 1805, '무지': 1806, '묵': 1807, '묵고': 1808, '묵다': 1809, '묵시': 1810, '묶음': 1811, '문': 1812, '문득': 1813, '문법': 1814, '문서': 1815, '문신': 1816, '문의': 1817, '문의사항': 1818, '문자': 1819, '문제': 1820, '문제점': 1821, '문하': 1822, '문화': 1823, '묻다': 1824, '물': 1825, '물가상승률': 1826, '물건': 1827, '물고기': 1828, '물다': 1829, '물론': 1830, '물류': 1831, '물리': 1832, '물속': 1833, '물어보다': 1834, '물의': 1835, '물이': 1836, '물질': 1837, '물체': 1838, '물품': 1839, '뭐': 1840, '뭐라다': 1841, '뭔가': 1842, '뭘': 1843, '뮤직': 1844, '뮤추얼': 1845, '므': 1846, '미결': 1847, '미국': 1848, '미국법': 1849, '미끼': 1850, '미납': 1851, '미니': 1852, '미니멀리즘': 1853, '미니바': 1854, '미디어': 1855, '미디엄': 1856, '미래': 1857, '미리': 1858, '미만': 1859, '미세하다': 1860, '미수': 1861, '미슐랭': 1862, '미스': 1863, '미안하다': 1864, '미약': 1865, '미얀마': 1866, '미용': 1867, '미적': 1868, '미지': 1869, '미치나': 1870, '미치다': 1871, '미터': 1872, '미팅': 1873, '미혼': 1874, '믹서': 1875, '민간': 1876, '민물': 1877, '민원': 1878, '민팅': 1879, '믿다': 1880, '밀가루': 1881, '밀고': 1882, '밀다': 1883, '밀레': 1884, '밀리다': 1885, '밀크티숍': 1886, '밀회': 1887, '밉다': 1888, '및': 1889, '밑': 1890, '바': 1891, '바꾸다': 1892, '바뀌다': 1893, '바나나': 1894, '바늘': 1895, '바다': 1896, '바닥': 1897, '바닥나다': 1898, '바닷물': 1899, '바디': 1900, '바라다': 1901, '바라보다': 1902, '바라지': 1903, '바람': 1904, '바람직하다': 1905, '바램': 1906, '바로': 1907, '바르다': 1908, '바베이도스': 1909, '바베큐': 1910, '바비큐': 1911, '바쁘다': 1912, '바위': 1913, '바이': 1914, '바이러스': 1915, '바이오': 1916, '바이트': 1917, '바치다': 1918, '바퀴': 1919, '바탕': 1920, '박': 1921, '박람회': 1922, '박물관': 1923, '박사': 1924, '박스': 1925, '밖': 1926, '밖에': 1927, '반': 1928, '반갑다': 1929, '반기다': 1930, '반납': 1931, '반년': 1932, '반대': 1933, '반대편': 1934, '반도체': 1935, '반드시': 1936, '반려': 1937, '반려견': 1938, '반려동물': 1939, '반면': 1940, '반영': 1941, '반응': 1942, '반찬': 1943, '반품': 1944, '받다': 1945, '받아들이다': 1946, '발견': 1947, '발급': 1948, '발끝': 1949, '발복': 1950, '발생': 1951, '발송': 1952, '발신': 1953, '발자국': 1954, '발전': 1955, '발주': 1956, '발표': 1957, '발행': 1958, '발효': 1959, '발휘': 1960, '밝혀내다': 1961, '밝혀지다': 1962, '밟다': 1963, '밤': 1964, '밤낮': 1965, '밤늦다': 1966, '밤새다': 1967, '밥': 1968, '밥그릇': 1969, '밧줄': 1970, '방': 1971, '방과': 1972, '방금': 1973, '방대하다': 1974, '방문': 1975, '방문객': 1976, '방법': 1977, '방사성': 1978, '방송': 1979, '방송국': 1980, '방수': 1981, '방식': 1982, '방안': 1983, '방어': 1984, '방이': 1985, '방적': 1986, '방적기': 1987, '방지': 1988, '방출': 1989, '방침': 1990, '방해': 1991, '방향': 1992, '방화벽': 1993, '밭': 1994, '배': 1995, '배경': 1996, '배경음악': 1997, '배너': 1998, '배다': 1999, '배달': 2000, '배당금': 2001, '배려': 2002, '배분': 2003, '배색': 2004, '배송': 2005, '배송비': 2006, '배송지': 2007, '배수': 2008, '배우': 2009, '배우다': 2010, '배우자': 2011, '배움': 2012, '배정': 2013, '배출': 2014, '배치': 2015, '배터리': 2016, '배포': 2017, '백': 2018, '백만': 2019, '백신': 2020, '백업': 2021, '백엔드': 2022, '밴드': 2023, '밸브': 2024, '뱅크': 2025, '뱅킹': 2026, '버': 2027, '버그': 2028, '버너': 2029, '버네': 2030, '버는': 2031, '버드': 2032, '버리다': 2033, '버블': 2034, '버스': 2035, '버스정류장': 2036, '버전': 2037, '버터플라이': 2038, '버튼': 2039, '번': 2040, '번가': 2041, '번거롭다': 2042, '번식': 2043, '번역': 2044, '번역가': 2045, '번의': 2046, '번지': 2047, '번창': 2048, '번호': 2049, '벌': 2050, '벌다': 2051, '벌써': 2052, '벌어지다': 2053, '벌이': 2054, '범': 2055, '범위': 2056, '범인': 2057, '범죄': 2058, '범죄자': 2059, '범주': 2060, '법': 2061, '법률': 2062, '법원': 2063, '법인': 2064, '법인세': 2065, '법적': 2066, '법정': 2067, '벗다': 2068, '벗어나다': 2069, '베네수엘라': 2070, '베다': 2071, '베벨': 2072, '베스트셀러': 2073, '베어링': 2074, '베이스': 2075, '베타': 2076, '베테': 2077, '베트남': 2078, '벡터': 2079, '벤딩': 2080, '벤처캐피털': 2081, '벤츄리': 2082, '벤치': 2083, '벨': 2084, '벨트': 2085, '벽': 2086, '벽난로': 2087, '벽지': 2088, '변경': 2089, '변동': 2090, '변동성': 2091, '변명': 2092, '변속기': 2093, '변수': 2094, '변하다': 2095, '변호사': 2096, '변화': 2097, '변환': 2098, '별': 2099, '별관': 2100, '별도': 2101, '별로': 2102, '별장': 2103, '병': 2104, '병동': 2105, '병원': 2106, '병합': 2107, '보': 2108, '보건': 2109, '보고': 2110, '보고서': 2111, '보관': 2112, '보기': 2113, '보내다': 2114, '보내오다': 2115, '보다': 2116, '보도': 2117, '보드': 2118, '보람': 2119, '보류': 2120, '보물': 2121, '보살피다': 2122, '보상': 2123, '보수': 2124, '보시': 2125, '보쌈': 2126, '보안': 2127, '보여주다': 2128, '보유': 2129, '보이': 2130, '보이다': 2131, '보이지': 2132, '보장': 2133, '보조': 2134, '보존': 2135, '보증': 2136, '보증금': 2137, '보증인': 2138, '보지': 2139, '보철물': 2140, '보청기': 2141, '보통': 2142, '보트': 2143, '보행': 2144, '보험': 2145, '보험금': 2146, '보험료': 2147, '보험사': 2148, '보헤미안': 2149, '보호': 2150, '보호복': 2151, '복': 2152, '복구': 2153, '복사기': 2154, '복원': 2155, '복잡하다': 2156, '복장': 2157, '복판': 2158, '복호화': 2159, '볶음': 2160, '볶음밥': 2161, '본': 2162, '본드': 2163, '본론': 2164, '본부': 2165, '본사': 2166, '본인': 2167, '본체': 2168, '볼': 2169, '볼륨': 2170, '볼일': 2171, '봄판': 2172, '봇': 2173, '봉쇄': 2174, '뵈다': 2175, '뵙다': 2176, '부': 2177, '부과': 2178, '부금': 2179, '부끄럽다': 2180, '부다': 2181, '부담': 2182, '부당하다': 2183, '부대': 2184, '부동산': 2185, '부두': 2186, '부드럽다': 2187, '부딪치다': 2188, '부딪히다': 2189, '부로': 2190, '부록': 2191, '부르다': 2192, '부모': 2193, '부모님': 2194, '부문': 2195, '부분': 2196, '부산': 2197, '부상': 2198, '부서': 2199, '부속품': 2200, '부수': 2201, '부양가족': 2202, '부업': 2203, '부엌': 2204, '부여': 2205, '부위': 2206, '부유하다': 2207, '부응': 2208, '부의': 2209, '부인': 2210, '부자': 2211, '부작용': 2212, '부적': 2213, '부정': 2214, '부족': 2215, '부족하다': 2216, '부지': 2217, '부착': 2218, '부채': 2219, '부처': 2220, '부츠': 2221, '부침개': 2222, '부탁': 2223, '부탁드리다': 2224, '부터': 2225, '부팅': 2226, '부품': 2227, '부합': 2228, '부호화': 2229, '북': 2230, '북경어': 2231, '북미': 2232, '북부': 2233, '분': 2234, '분과': 2235, '분광': 2236, '분기': 2237, '분기점': 2238, '분당': 2239, '분류': 2240, '분리': 2241, '분명': 2242, '분명하다': 2243, '분사': 2244, '분산': 2245, '분석': 2246, '분쇄기': 2247, '분식점': 2248, '분실': 2249, '분야': 2250, '분위기': 2251, '분쟁': 2252, '분젠': 2253, '분지': 2254, '분포': 2255, '분할': 2256, '분해': 2257, '불': 2258, '불가능': 2259, '불가능하다': 2260, '불고기': 2261, '불과': 2262, '불과하다': 2263, '불교': 2264, '불구': 2265, '불규칙하다': 2266, '불금': 2267, '불다': 2268, '불당': 2269, '불도저': 2270, '불량': 2271, '불량품': 2272, '불러일으키다': 2273, '불리다': 2274, '불만': 2275, '불문': 2276, '불빛': 2277, '불안정하다': 2278, '불안하다': 2279, '불쾌하다': 2280, '불편': 2281, '불편하다': 2282, '불평': 2283, '불평등하다': 2284, '불필요하다': 2285, '불행하다': 2286, '붉은빛': 2287, '붐': 2288, '붕괴': 2289, '붕어빵': 2290, '붙다': 2291, '붙박다': 2292, '붙이다': 2293, '뷔페': 2294, '뷸': 2295, '브라우저': 2296, '브라우징': 2297, '브라질': 2298, '브랜드': 2299, '브랜딩': 2300, '브레이커': 2301, '브레이크': 2302, '브레인스토밍': 2303, '브로': 2304, '브로드밴드': 2305, '브로셔': 2306, '브로커': 2307, '브루나이': 2308, '브이': 2309, '블랙': 2310, '블레이드': 2311, '블렌드': 2312, '블렌딩': 2313, '블로그': 2314, '블록': 2315, '블루': 2316, '블루칩': 2317, '블룸': 2318, '비': 2319, '비간': 2320, '비건': 2321, '비계': 2322, '비공개': 2323, '비공식': 2324, '비교': 2325, '비누': 2326, '비다': 2327, '비도': 2328, '비디오': 2329, '비록': 2330, '비롯': 2331, '비료': 2332, '비밀': 2333, '비밀번호': 2334, '비빔냉면': 2335, '비빔밥': 2336, '비상': 2337, '비서': 2338, '비스킷': 2339, '비스트': 2340, '비슷하다': 2341, '비실': 2342, '비싸다': 2343, '비어': 2344, '비영리': 2345, '비용': 2346, '비우다': 2347, '비율': 2348, '비자': 2349, '비주': 2350, '비즈니스': 2351, '비축': 2352, '비커': 2353, '비트': 2354, '비트코인': 2355, '비평가': 2356, '비프': 2357, '비행': 2358, '비행기': 2359, '빅데이터': 2360, '빈': 2361, '빈방': 2362, '빈번': 2363, '빈손': 2364, '빈티': 2365, '빌드되': 2366, '빌딩': 2367, '빌라': 2368, '빌리다': 2369, '빌보드': 2370, '빌트': 2371, '빔': 2372, '빗': 2373, '빙': 2374, '빚': 2375, '빠듯': 2376, '빠듯합니': 2377, '빠르다': 2378, '빠지다': 2379, '빡빡': 2380, '빨간색': 2381, '빨갛다': 2382, '빨르다': 2383, '빨리': 2384, '빵': 2385, '빵집': 2386, '빼다': 2387, '뽑다': 2388, '뿌리': 2389, '뿐': 2390, '뿐이다': 2391, '삐었': 2392, '사': 2393, '사건': 2394, '사격': 2395, '사계절': 2396, '사고': 2397, '사과': 2398, '사기': 2399, '사기꾼': 2400, '사다': 2401, '사람': 2402, '사람과': 2403, '사랑': 2404, '사려': 2405, '사례': 2406, '사르다': 2407, '사면': 2408, '사명': 2409, '사모펀드': 2410, '사무': 2411, '사무기기': 2412, '사무소': 2413, '사무실': 2414, '사물': 2415, '사물인터넷': 2416, '사본': 2417, '사생활': 2418, '사서': 2419, '사소하다': 2420, '사시미': 2421, '사실': 2422, '사안': 2423, '사양': 2424, '사업': 2425, '사업가': 2426, '사업자': 2427, '사오다': 2428, '사옥': 2429, '사용': 2430, '사용성': 2431, '사용자': 2432, '사우나': 2433, '사운드': 2434, '사운드트랙': 2435, '사원': 2436, '사유': 2437, '사은': 2438, '사의': 2439, '사이': 2440, '사이드': 2441, '사이버': 2442, '사이일': 2443, '사이즈': 2444, '사이트': 2445, '사인': 2446, '사인회': 2447, '사장': 2448, '사전': 2449, '사주다': 2450, '사지': 2451, '사진': 2452, '사진사': 2453, '사진작가': 2454, '사찰': 2455, '사촌': 2456, '사출': 2457, '사탕': 2458, '사태': 2459, '사하다': 2460, '사항': 2461, '사회': 2462, '삭제': 2463, '산': 2464, '산나물': 2465, '산업': 2466, '산이': 2467, '산출': 2468, '살': 2469, '살균': 2470, '살기': 2471, '살다': 2472, '살이': 2473, '살펴보다': 2474, '삶': 2475, '삶다': 2476, '삼': 2477, '삼겹살': 2478, '삼고': 2479, '삽': 2480, '삽화가': 2481, '상거래': 2482, '상관': 2483, '상관없다': 2484, '상급': 2485, '상기': 2486, '상단': 2487, '상담': 2488, '상당': 2489, '상당하다': 2490, '상대': 2491, '상대로': 2492, '상대방': 2493, '상무': 2494, '상사': 2495, '상상': 2496, '상상력': 2497, '상세': 2498, '상속': 2499, '상승': 2500, '상업': 2501, '상위': 2502, '상응': 2503, '상의': 2504, '상이': 2505, '상인': 2506, '상자': 2507, '상장': 2508, '상점': 2509, '상주': 2510, '상징': 2511, '상추': 2512, '상치': 2513, '상태': 2514, '상표': 2515, '상품': 2516, '상하': 2517, '상하이': 2518, '상호': 2519, '상환': 2520, '상황': 2521, '새': 2522, '새롭다': 2523, '새벽': 2524, '새우': 2525, '새틴': 2526, '새해': 2527, '색': 2528, '색상': 2529, '색인': 2530, '색조': 2531, '샌드위치': 2532, '샌프란시스코': 2533, '샐러드': 2534, '샘플': 2535, '샘플러': 2536, '샘플링': 2537, '생': 2538, '생각': 2539, '생각나다': 2540, '생강': 2541, '생기다': 2542, '생기지': 2543, '생동감': 2544, '생명': 2545, '생명보험': 2546, '생물': 2547, '생방송': 2548, '생산': 2549, '생산량': 2550, '생생하다': 2551, '생선': 2552, '생선전': 2553, '생소하다': 2554, '생신': 2555, '생이니': 2556, '생일': 2557, '생체': 2558, '생활': 2559, '생활용품': 2560, '샤워': 2561, '샤워실': 2562, '샤프트': 2563, '샴페인': 2564, '샴푸': 2565, '샵': 2566, '서': 2567, '서기': 2568, '서나': 2569, '서다': 2570, '서도': 2571, '서두르다': 2572, '서든': 2573, '서라운드': 2574, '서랍': 2575, '서로': 2576, '서류': 2577, '서면': 2578, '서명': 2579, '서버': 2580, '서버룸': 2581, '서브': 2582, '서비스': 2583, '서빙': 2584, '서울': 2585, '서재': 2586, '서점': 2587, '서지': 2588, '서쪽': 2589, '석가모니': 2590, '섞다': 2591, '선': 2592, '선구자': 2593, '선명하다': 2594, '선물': 2595, '선물거래': 2596, '선박': 2597, '선보이다': 2598, '선불': 2599, '선생님': 2600, '선적': 2601, '선정': 2602, '선착순': 2603, '선체': 2604, '선택': 2605, '선호': 2606, '설': 2607, '설계': 2608, '설득': 2609, '설렁탕': 2610, '설레다': 2611, '설립': 2612, '설명': 2613, '설문': 2614, '설문조사': 2615, '설문지': 2616, '설비': 2617, '설정': 2618, '설치': 2619, '설치다': 2620, '설탕': 2621, '섬광': 2622, '섬유': 2623, '섬유질': 2624, '성': 2625, '성가시다': 2626, '성격': 2627, '성공': 2628, '성공하다': 2629, '성과': 2630, '성능': 2631, '성도': 2632, '성분': 2633, '성사': 2634, '성실하다': 2635, '성은': 2636, '성인': 2637, '성장': 2638, '성장하다': 2639, '성전': 2640, '성취': 2641, '성하다': 2642, '성함': 2643, '성형': 2644, '세': 2645, '세계': 2646, '세관': 2647, '세균': 2648, '세금': 2649, '세기': 2650, '세다': 2651, '세대': 2652, '세련': 2653, '세로': 2654, '세면대': 2655, '세미나': 2656, '세법': 2657, '세부': 2658, '세상': 2659, '세션': 2660, '세안': 2661, '세액': 2662, '세요': 2663, '세우다': 2664, '세율': 2665, '세척': 2666, '세척제': 2667, '세탁': 2668, '세탁기': 2669, '세탁실': 2670, '세트': 2671, '세팅': 2672, '세포': 2673, '센서': 2674, '센터': 2675, '센트': 2676, '셀러': 2677, '셀러리': 2678, '셋': 2679, '셋째': 2680, '셔블': 2681, '션': 2682, '셨었': 2683, '셰어': 2684, '소': 2685, '소갈비': 2686, '소개': 2687, '소개팅': 2688, '소고기': 2689, '소금': 2690, '소녀': 2691, '소득': 2692, '소리': 2693, '소리치다': 2694, '소매': 2695, '소매업자': 2696, '소모': 2697, '소문': 2698, '소비': 2699, '소비자': 2700, '소설': 2701, '소셜': 2702, '소셜미디어': 2703, '소속': 2704, '소송': 2705, '소스': 2706, '소시지': 2707, '소식': 2708, '소액': 2709, '소요': 2710, '소유': 2711, '소유권': 2712, '소유자': 2713, '소의': 2714, '소일': 2715, '소재': 2716, '소주': 2717, '소중하다': 2718, '소지': 2719, '소질': 2720, '소켓': 2721, '소통': 2722, '소파': 2723, '소포': 2724, '소풍': 2725, '소프': 2726, '소프트': 2727, '소프트웨어': 2728, '소형': 2729, '소형견': 2730, '속': 2731, '속달': 2732, '속도': 2733, '속물': 2734, '손': 2735, '손님': 2736, '손상': 2737, '손쉽다': 2738, '손실': 2739, '손익': 2740, '손익계산서': 2741, '손주': 2742, '손해': 2743, '손해배상': 2744, '솔루션': 2745, '솔직하다': 2746, '송금': 2747, '송료': 2748, '송신': 2749, '송장': 2750, '쇄신': 2751, '쇠고기': 2752, '쇼': 2753, '쇼룸': 2754, '쇼핑': 2755, '수': 2756, '수가': 2757, '수강': 2758, '수건': 2759, '수고': 2760, '수년': 2761, '수다': 2762, '수단': 2763, '수도': 2764, '수도꼭지': 2765, '수도원': 2766, '수동': 2767, '수락': 2768, '수량': 2769, '수련': 2770, '수령': 2771, '수로': 2772, '수료': 2773, '수료증': 2774, '수리': 2775, '수많다': 2776, '수면': 2777, '수박': 2778, '수반': 2779, '수백만': 2780, '수비드': 2781, '수석': 2782, '수선': 2783, '수속': 2784, '수수료': 2785, '수술': 2786, '수시로': 2787, '수신기': 2788, '수십': 2789, '수압': 2790, '수업': 2791, '수에즈': 2792, '수영': 2793, '수영장': 2794, '수요': 2795, '수요일': 2796, '수용': 2797, '수익': 2798, '수익금': 2799, '수익률': 2800, '수입': 2801, '수입품': 2802, '수정': 2803, '수정과': 2804, '수제': 2805, '수준': 2806, '수집': 2807, '수천': 2808, '수출': 2809, '수출입': 2810, '수평': 2811, '수표': 2812, '수표로': 2813, '수프': 2814, '수학': 2815, '수행': 2816, '수혜자': 2817, '수확': 2818, '숙련': 2819, '숙박': 2820, '숙박시설': 2821, '숙박업소': 2822, '숙성': 2823, '숙소': 2824, '숙이다': 2825, '숙주': 2826, '숙지': 2827, '순': 2828, '순간': 2829, '순위': 2830, '순이익': 2831, '순전하다': 2832, '숟가락': 2833, '술': 2834, '술집': 2835, '숨': 2836, '숨기다': 2837, '숫자': 2838, '숯불': 2839, '쉬다': 2840, '쉽다': 2841, '슈': 2842, '슈트': 2843, '슈팅': 2844, '슈퍼마켓': 2845, '스': 2846, '스낵': 2847, '스노클링': 2848, '스니커즈': 2849, '스님': 2850, '스럽다': 2851, '스레드': 2852, '스릴러': 2853, '스마트': 2854, '스마트폰': 2855, '스마트홈': 2856, '스스로': 2857, '스위트': 2858, '스위트룸': 2859, '스카이라인': 2860, '스캐너': 2861, '스캔': 2862, '스케': 2863, '스케줄': 2864, '스케줄러': 2865, '스케치': 2866, '스쿠터': 2867, '스크럽': 2868, '스크류': 2869, '스크리닝': 2870, '스크린': 2871, '스크린샷': 2872, '스키': 2873, '스킨': 2874, '스킬': 2875, '스타': 2876, '스타일': 2877, '스타트업': 2878, '스테이': 2879, '스테이션': 2880, '스테이크': 2881, '스테인레스': 2882, '스토리': 2883, '스토브': 2884, '스토어': 2885, '스토퍼': 2886, '스톤': 2887, '스튜디오': 2888, '스트레스': 2889, '스트레이트': 2890, '스트로': 2891, '스트리밍': 2892, '스트림': 2893, '스티': 2894, '스티커': 2895, '스틸': 2896, '스파': 2897, '스파게티': 2898, '스파이럴': 2899, '스파이웨어': 2900, '스파크': 2901, '스팸': 2902, '스페셜': 2903, '스페인': 2904, '스펙트럼': 2905, '스포츠': 2906, '스프': 2907, '스프레드': 2908, '스프레이': 2909, '스피커': 2910, '스피킹': 2911, '슬라이드': 2912, '슬롯': 2913, '슬리퍼': 2914, '슬프다': 2915, '습': 2916, '습니': 2917, '승려': 2918, '승인': 2919, '시': 2920, '시각': 2921, '시각장애인': 2922, '시간': 2923, '시간대': 2924, '시계': 2925, '시골': 2926, '시급하다': 2927, '시기': 2928, '시끄럽다': 2929, '시나리오': 2930, '시내': 2931, '시대': 2932, '시도': 2933, '시리즈': 2934, '시마': 2935, '시민권': 2936, '시설': 2937, '시세': 2938, '시스템': 2939, '시연': 2940, '시오': 2941, '시일': 2942, '시작': 2943, '시장': 2944, '시장조사': 2945, '시저': 2946, '시절': 2947, '시점': 2948, '시즌': 2949, '시차': 2950, '시청': 2951, '시청각': 2952, '시청자': 2953, '시카고': 2954, '시큐리티': 2955, '시키다': 2956, '시티': 2957, '시행': 2958, '시험': 2959, '시험관': 2960, '식': 2961, '식기': 2962, '식단': 2963, '식당': 2964, '식물': 2965, '식사': 2966, '식이': 2967, '식초': 2968, '식탁': 2969, '식품': 2970, '신': 2971, '신간': 2972, '신경': 2973, '신고': 2974, '신곡': 2975, '신규': 2976, '신나요': 2977, '신다': 2978, '신디케이트': 2979, '신랑': 2980, '신뢰': 2981, '신문': 2982, '신발': 2983, '신부': 2984, '신분': 2985, '신분증': 2986, '신비롭다': 2987, '신사': 2988, '신생': 2989, '신선하다': 2990, '신세대': 2991, '신속하다': 2992, '신용': 2993, '신용등급': 2994, '신용장': 2995, '신용카드': 2996, '신원': 2997, '신입': 2998, '신입사원': 2999, '신입생': 3000, '신제품': 3001, '신종교': 3002, '신중': 3003, '신지': 3004, '신청': 3005, '신청서': 3006, '신체': 3007, '신탁': 3008, '신호': 3009, '신흥': 3010, '싣다': 3011, '실': 3012, '실내': 3013, '실력': 3014, '실례': 3015, '실로': 3016, '실린더': 3017, '실망': 3018, '실망하다': 3019, '실버': 3020, '실사': 3021, '실생활': 3022, '실수': 3023, '실시': 3024, '실시간': 3025, '실업자': 3026, '실외': 3027, '실용': 3028, '실적': 3029, '실제': 3030, '실질': 3031, '실천': 3032, '실크': 3033, '실패': 3034, '실패하다': 3035, '실행': 3036, '실험': 3037, '실험실': 3038, '실현': 3039, '싫다': 3040, '싫어하다': 3041, '심': 3042, '심각하다': 3043, '심기': 3044, '심란하다': 3045, '심박': 3046, '심장': 3047, '심지어': 3048, '심하다': 3049, '십': 3050, '십대': 3051, '싱가포르': 3052, '싱가폴': 3053, '싱글': 3054, '싱글룸': 3055, '싶다': 3056, '싸다': 3057, '싸우다': 3058, '쌀': 3059, '쌈': 3060, '쌈밥': 3061, '쌈장': 3062, '쌍': 3063, '쌓다': 3064, '쌓이다': 3065, '써다': 3066, '쓰다': 3067, '쓰레기통': 3068, '쓰이다': 3069, '쓸다': 3070, '쓸모': 3071, '씨': 3072, '씹다': 3073, '아': 3074, '아기': 3075, '아깝다': 3076, '아끼다': 3077, '아나운서': 3078, '아내': 3079, '아뇨': 3080, '아늑하다': 3081, '아니다': 3082, '아동': 3083, '아들': 3084, '아래': 3085, '아로마': 3086, '아르헨티나': 3087, '아름답다': 3088, '아마': 3089, '아마도': 3090, '아무': 3091, '아무나': 3092, '아무렇다': 3093, '아무리': 3094, '아무튼': 3095, '아바타': 3096, '아빠': 3097, '아쉽다': 3098, '아스파라거스': 3099, '아스팔트': 3100, '아시아': 3101, '아웃소싱': 3102, '아이': 3103, '아이덴티티': 3104, '아이돌': 3105, '아이디': 3106, '아이디어': 3107, '아이스크림': 3108, '아이콘': 3109, '아이템': 3110, '아주': 3111, '아직': 3112, '아직도': 3113, '아침': 3114, '아침식사': 3115, '아키텍처': 3116, '아트': 3117, '아트워크': 3118, '아트웍': 3119, '아티스트': 3120, '아파트': 3121, '아프다': 3122, '아프리카': 3123, '악': 3124, '악기': 3125, '악성코드': 3126, '악세사리': 3127, '악수': 3128, '악행': 3129, '악화': 3130, '안': 3131, '안건': 3132, '안나': 3133, '안내': 3134, '안내받다': 3135, '안녕': 3136, '안녕하다': 3137, '안다': 3138, '안되다': 3139, '안드로이드': 3140, '안방': 3141, '안성맞춤': 3142, '안심': 3143, '안이': 3144, '안전': 3145, '안전성': 3146, '안전하다': 3147, '안정': 3148, '안좋다': 3149, '안타깝다': 3150, '안테나': 3151, '안티바이러스': 3152, '안팎': 3153, '앉다': 3154, '않다': 3155, '알': 3156, '알고리즘': 3157, '알다': 3158, '알람': 3159, '알레르기': 3160, '알려지다': 3161, '알루미늄': 3162, '알리다': 3163, '알림': 3164, '알아내다': 3165, '알아듣다': 3166, '알아보다': 3167, '알아차리다': 3168, '알아채다': 3169, '알약': 3170, '알칼리성': 3171, '암': 3172, '암석': 3173, '암스테르담': 3174, '암호': 3175, '압니': 3176, '압도': 3177, '압력': 3178, '압축': 3179, '압축기': 3180, '압출기': 3181, '았습니': 3182, '앙': 3183, '앞': 3184, '앞두다': 3185, '앞서': 3186, '앞치마': 3187, '애': 3188, '애니메이션': 3189, '애니메이터': 3190, '애비뉴': 3191, '애완동물': 3192, '애프터': 3193, '애플리케이션': 3194, '애피타이저': 3195, '액': 3196, '액세서리': 3197, '액세스': 3198, '액션': 3199, '액체': 3200, '앤': 3201, '앨범': 3202, '앰버': 3203, '앰뷸런스': 3204, '앰프': 3205, '앱': 3206, '앵글': 3207, '앵커': 3208, '야간': 3209, '야구장': 3210, '야금': 3211, '야단법석': 3212, '야생': 3213, '야식': 3214, '야영지': 3215, '야외': 3216, '야유회': 3217, '야채': 3218, '야합': 3219, '약': 3220, '약간': 3221, '약관': 3222, '약물': 3223, '약속': 3224, '약자': 3225, '약점': 3226, '약정': 3227, '약하다': 3228, '얇다': 3229, '양': 3230, '양념': 3231, '양념장': 3232, '양도': 3233, '양립': 3234, '양말': 3235, '양사': 3236, '양식': 3237, '양자': 3238, '양초': 3239, '양해': 3240, '양호': 3241, '얘기': 3242, '어': 3243, '어긋나다': 3244, '어기': 3245, '어느': 3246, '어댑터': 3247, '어디': 3248, '어디서': 3249, '어떠하다': 3250, '어떤': 3251, '어떻': 3252, '어떻다': 3253, '어려움': 3254, '어렵다': 3255, '어르신': 3256, '어른': 3257, '어리다': 3258, '어린이': 3259, '어머니': 3260, '어메니티': 3261, '어묵': 3262, '어보': 3263, '어서': 3264, '어우러지다': 3265, '어울리다': 3266, '어제': 3267, '어젯밤': 3268, '어조': 3269, '어쨌든': 3270, '어쩌': 3271, '어쩐': 3272, '어쩔': 3273, '어치': 3274, '어플': 3275, '어필': 3276, '어휘': 3277, '언': 3278, '언급': 3279, '언니': 3280, '언덕': 3281, '언론': 3282, '언박싱': 3283, '언어': 3284, '언제': 3285, '언제나': 3286, '언젠가': 3287, '얻다': 3288, '얼': 3289, '얼굴': 3290, '얼리다': 3291, '얼마': 3292, '얼마나': 3293, '엄격하다': 3294, '엄선': 3295, '엄수': 3296, '엄청': 3297, '엄청나다': 3298, '업계': 3299, '업그레이드': 3300, '업데이트': 3301, '업로드': 3302, '업무': 3303, '업자': 3304, '업주': 3305, '업체': 3306, '없다': 3307, '없애다': 3308, '없이': 3309, '엇갈리다': 3310, '엉': 3311, '에': 3312, '에너지': 3313, '에는': 3314, '에러': 3315, '에멀션': 3316, '에멀젼': 3317, '에메랄드': 3318, '에밀리': 3319, '에서': 3320, '에센셜': 3321, '에어': 3322, '에어컨': 3323, '에이전시': 3324, '에이전트': 3325, '에코': 3326, '에티켓': 3327, '에피소드': 3328, '엑세스': 3329, '엑스레이': 3330, '엑스포': 3331, '엔': 3332, '엔드': 3333, '엔젤': 3334, '엔지니어': 3335, '엔지니어링': 3336, '엔진': 3337, '엔터테인먼트': 3338, '엠보싱': 3339, '여': 3340, '여겨지다': 3341, '여권': 3342, '여기': 3343, '여기다': 3344, '여느': 3345, '여드름': 3346, '여러': 3347, '여러분': 3348, '여름': 3349, '여보': 3350, '여보세요': 3351, '여부': 3352, '여분': 3353, '여사': 3354, '여성': 3355, '여야': 3356, '여유': 3357, '여자': 3358, '여전하다': 3359, '여지': 3360, '여쭈다': 3361, '여행': 3362, '여행사': 3363, '여행자': 3364, '역': 3365, '역사': 3366, '역서': 3367, '역시': 3368, '역외': 3369, '역할': 3370, '연': 3371, '연간': 3372, '연결': 3373, '연결하다': 3374, '연관': 3375, '연구': 3376, '연구개발': 3377, '연구소': 3378, '연기': 3379, '연다': 3380, '연달': 3381, '연동': 3382, '연락': 3383, '연락처': 3384, '연령': 3385, '연례': 3386, '연료': 3387, '연마': 3388, '연말': 3389, '연민': 3390, '연방': 3391, '연봉': 3392, '연비': 3393, '연사': 3394, '연수': 3395, '연장': 3396, '연중': 3397, '연체': 3398, '연회': 3399, '연휴': 3400, '열': 3401, '열광': 3402, '열기': 3403, '열다': 3404, '열람': 3405, '열리다': 3406, '열쇠': 3407, '열심히': 3408, '열악하다': 3409, '열정': 3410, '열차': 3411, '염두': 3412, '염려': 3413, '염색': 3414, '엽': 3415, '영': 3416, '영감': 3417, '영광': 3418, '영구': 3419, '영국': 3420, '영리하다': 3421, '영상': 3422, '영상통화': 3423, '영수증': 3424, '영양': 3425, '영어': 3426, '영업': 3427, '영업일': 3428, '영역': 3429, '영원하다': 3430, '영진': 3431, '영향': 3432, '영향력': 3433, '영화': 3434, '옆': 3435, '예': 3436, '예견': 3437, '예고편': 3438, '예금': 3439, '예방': 3440, '예배': 3441, '예쁘다': 3442, '예산': 3443, '예산안': 3444, '예상': 3445, '예술': 3446, '예술가': 3447, '예약': 3448, '예요': 3449, '예의': 3450, '예입': 3451, '예전': 3452, '예절': 3453, '예정': 3454, '예정일': 3455, '예측': 3456, '옐로나이프': 3457, '오': 3458, '오늘': 3459, '오늘날': 3460, '오늘이': 3461, '오다': 3462, '오디오': 3463, '오락가락': 3464, '오래': 3465, '오래되다': 3466, '오랜': 3467, '오랫동안': 3468, '오렌지': 3469, '오류': 3470, '오르다': 3471, '오른': 3472, '오른쪽': 3473, '오리엔테이션': 3474, '오버': 3475, '오븐': 3476, '오스': 3477, '오시': 3478, '오신': 3479, '오용': 3480, '오인': 3481, '오일': 3482, '오일도': 3483, '오전': 3484, '오지': 3485, '오직': 3486, '오징어': 3487, '오토': 3488, '오프': 3489, '오프라인': 3490, '오픈': 3491, '오피스': 3492, '오하이오주': 3493, '오해': 3494, '오후': 3495, '오히려': 3496, '옥': 3497, '옥상': 3498, '옥집': 3499, '온': 3500, '온도': 3501, '온돌': 3502, '온라인': 3503, '온라인과': 3504, '온스': 3505, '온천': 3506, '온타리오': 3507, '올': 3508, '올라가다': 3509, '올려놓다': 3510, '올려주다': 3511, '올리다': 3512, '올바르다': 3513, '올해': 3514, '옮기다': 3515, '옳다': 3516, '옴': 3517, '옵니다': 3518, '옵션': 3519, '옷': 3520, '옷장': 3521, '와우': 3522, '와이어': 3523, '와이파이': 3524, '와인': 3525, '와트': 3526, '완납': 3527, '완료': 3528, '완벽하다': 3529, '완비': 3530, '완성': 3531, '완전': 3532, '완전하다': 3533, '완화': 3534, '왓츠앱': 3535, '왕복': 3536, '왕새우': 3537, '왜': 3538, '왜냐면': 3539, '왜냐하면': 3540, '외': 3541, '외관': 3542, '외국': 3543, '외국인': 3544, '외다': 3545, '외부': 3546, '외주': 3547, '외출': 3548, '외향': 3549, '외화': 3550, '외환은행': 3551, '왼쪽': 3552, '요': 3553, '요건': 3554, '요격': 3555, '요구': 3556, '요구사항': 3557, '요금': 3558, '요리': 3559, '요리법': 3560, '요리사': 3561, '요법': 3562, '요소': 3563, '요약': 3564, '요원': 3565, '요인': 3566, '요점': 3567, '요즘': 3568, '요청': 3569, '요크셔': 3570, '요트': 3571, '욕구': 3572, '욕실': 3573, '욕조': 3574, '용': 3575, '용건': 3576, '용납': 3577, '용다': 3578, '용도': 3579, '용량': 3580, '용무': 3581, '용법': 3582, '용어': 3583, '용의': 3584, '용이': 3585, '용이하다': 3586, '용인': 3587, '용판': 3588, '용품': 3589, '우': 3590, '우드': 3591, '우려': 3592, '우리': 3593, '우리나라': 3594, '우리은행': 3595, '우린': 3596, '우산': 3597, '우선': 3598, '우수하다': 3599, '우승자': 3600, '우아하다': 3601, '우여곡절': 3602, '우연히': 3603, '우와': 3604, '우위': 3605, '우유': 3606, '우주': 3607, '우크라이나': 3608, '우편': 3609, '우편물': 3610, '운': 3611, '운동': 3612, '운반': 3613, '운송': 3614, '운송업': 3615, '운영': 3616, '운영자': 3617, '운영체제': 3618, '운용': 3619, '운전': 3620, '운전기사': 3621, '운전자': 3622, '운하': 3623, '울리다': 3624, '울산': 3625, '움직이다': 3626, '움직임': 3627, '웃음': 3628, '웅장': 3629, '워': 3630, '워드': 3631, '워치': 3632, '워크샵': 3633, '워크숍': 3634, '워터': 3635, '원': 3636, '원격': 3637, '원고': 3638, '원금': 3639, '원래': 3640, '원리': 3641, '원본': 3642, '원사': 3643, '원스톱': 3644, '원심': 3645, '원심분리기': 3646, '원인': 3647, '원장': 3648, '원점': 3649, '원주공항': 3650, '원칙': 3651, '원통': 3652, '원하다': 3653, '원화': 3654, '원화도': 3655, '원활하다': 3656, '월': 3657, '월간': 3658, '월급': 3659, '월말': 3660, '월세': 3661, '월요일': 3662, '웜': 3663, '웠습': 3664, '웨딩': 3665, '웨비': 3666, '웨어': 3667, '웨이터': 3668, '웨이퍼': 3669, '웹': 3670, '웹디자인': 3671, '웹사이트': 3672, '웹캐스트': 3673, '웹페이지': 3674, '위': 3675, '위로': 3676, '위반': 3677, '위생': 3678, '위성': 3679, '위안': 3680, '위치': 3681, '위탁': 3682, '위태롭': 3683, '위태롭기': 3684, '위함': 3685, '위해': 3686, '위험': 3687, '위험하다': 3688, '위협': 3689, '윗': 3690, '윗사람': 3691, '유가': 3692, '유감': 3693, '유감스럽게': 3694, '유기': 3695, '유기농': 3696, '유닛': 3697, '유동': 3698, '유럽': 3699, '유로': 3700, '유료': 3701, '유르트': 3702, '유리하다': 3703, '유망': 3704, '유머': 3705, '유명': 3706, '유명인사': 3707, '유명하다': 3708, '유사하다': 3709, '유산': 3710, '유선': 3711, '유아': 3712, '유압': 3713, '유연성': 3714, '유연하다': 3715, '유예': 3716, '유용하다': 3717, '유의': 3718, '유익하다': 3719, '유인': 3720, '유인물': 3721, '유일하다': 3722, '유전': 3723, '유제품': 3724, '유지': 3725, '유치하다': 3726, '유통': 3727, '유통업': 3728, '유통업체': 3729, '유틸리티': 3730, '유학': 3731, '유학생': 3732, '유해하다': 3733, '유행': 3734, '유행병': 3735, '유형': 3736, '유효': 3737, '유효하다': 3738, '육류': 3739, '육성': 3740, '육수': 3741, '육지': 3742, '육회': 3743, '윤리': 3744, '율': 3745, '율기': 3746, '융자': 3747, '융통성': 3748, '으로': 3749, '은': 3750, '은은하다': 3751, '은퇴': 3752, '은행': 3753, '은행원': 3754, '을': 3755, '음': 3756, '음료': 3757, '음료수': 3758, '음반': 3759, '음반사': 3760, '음성': 3761, '음식': 3762, '음식점': 3763, '음악': 3764, '음원': 3765, '음질': 3766, '음향': 3767, '음향효과': 3768, '응': 3769, '응급': 3770, '응답': 3771, '응대': 3772, '응용': 3773, '응원': 3774, '의': 3775, '의견': 3776, '의논': 3777, '의도': 3778, '의뢰': 3779, '의료': 3780, '의류': 3781, '의무': 3782, '의문': 3783, '의미': 3784, '의사': 3785, '의사소통': 3786, '의상': 3787, '의식': 3788, '의심': 3789, '의심스럽다': 3790, '의약품': 3791, '의원': 3792, '의자': 3793, '의존': 3794, '의하다': 3795, '의향': 3796, '의회': 3797, '이': 3798, '이겠다': 3799, '이고': 3800, '이기': 3801, '이끌다': 3802, '이내': 3803, '이다': 3804, '이대로': 3805, '이동': 3806, '이동식': 3807, '이동해': 3808, '이드': 3809, '이득': 3810, '이따': 3811, '이러하다': 3812, '이런': 3813, '이렇게': 3814, '이렇다': 3815, '이력서': 3816, '이로': 3817, '이루어지다': 3818, '이뤄지다': 3819, '이르다': 3820, '이름': 3821, '이만': 3822, '이메일': 3823, '이며': 3824, '이면': 3825, '이목': 3826, '이미': 3827, '이미지': 3828, '이민자': 3829, '이번': 3830, '이벤트': 3831, '이보': 3832, '이불': 3833, '이브': 3834, '이사': 3835, '이사회': 3836, '이상': 3837, '이상은': 3838, '이서': 3839, '이세': 3840, '이송': 3841, '이수': 3842, '이슈': 3843, '이식': 3844, '이십': 3845, '이싼': 3846, '이야기': 3847, '이어지다': 3848, '이에요': 3849, '이외': 3850, '이요': 3851, '이용': 3852, '이용자': 3853, '이웃': 3854, '이유': 3855, '이율': 3856, '이음': 3857, '이의': 3858, '이익': 3859, '이자': 3860, '이자율': 3861, '이장': 3862, '이전': 3863, '이점': 3864, '이정표': 3865, '이제': 3866, '이중': 3867, '이중과세': 3868, '이지': 3869, '이지만': 3870, '이집트': 3871, '이체': 3872, '이탈': 3873, '이탈리아': 3874, '이탈리아어': 3875, '이틀': 3876, '이해': 3877, '이해만': 3878, '이해해': 3879, '이행': 3880, '이후': 3881, '익숙하다': 3882, '익숙해지다': 3883, '익스텐더': 3884, '익일': 3885, '익히다': 3886, '인': 3887, '인간': 3888, '인건비': 3889, '인걸': 3890, '인공': 3891, '인구': 3892, '인기': 3893, '인내': 3894, '인내심': 3895, '인덱스': 3896, '인도': 3897, '인도네시아': 3898, '인력': 3899, '인명': 3900, '인보이스': 3901, '인분': 3902, '인사': 3903, '인삼': 3904, '인상': 3905, '인생': 3906, '인센티브': 3907, '인쇄': 3908, '인쇄기': 3909, '인쇄판': 3910, '인수': 3911, '인스턴트': 3912, '인식': 3913, '인용': 3914, '인원': 3915, '인정': 3916, '인정받다': 3917, '인조섬유': 3918, '인증': 3919, '인증서': 3920, '인지': 3921, '인지도': 3922, '인천': 3923, '인치': 3924, '인코딩': 3925, '인큐베이터': 3926, '인터': 3927, '인터넷': 3928, '인터뷰': 3929, '인터페이스': 3930, '인턴': 3931, '인테리어': 3932, '인파': 3933, '인포그래픽': 3934, '인프라': 3935, '인플레이션': 3936, '인플레이션율': 3937, '인하': 3938, '인하다': 3939, '일': 3940, '일과': 3941, '일관': 3942, '일단': 3943, '일러스트': 3944, '일러스트레이션': 3945, '일련': 3946, '일련번호': 3947, '일로': 3948, '일류': 3949, '일반': 3950, '일반인': 3951, '일별': 3952, '일본': 3953, '일본어': 3954, '일부': 3955, '일부러': 3956, '일산': 3957, '일상': 3958, '일상생활': 3959, '일수': 3960, '일시': 3961, '일어나고': 3962, '일어나다': 3963, '일어나지': 3964, '일요일': 3965, '일으키다': 3966, '일이': 3967, '일인': 3968, '일일': 3969, '일자리': 3970, '일정': 3971, '일정하다': 3972, '일종': 3973, '일주일': 3974, '일찍': 3975, '일체': 3976, '일치': 3977, '일해': 3978, '일행': 3979, '일환': 3980, '일회용': 3981, '읽다': 3982, '잃다': 3983, '잃어버리다': 3984, '임': 3985, '임기': 3986, '임대': 3987, '임대료': 3988, '임무': 3989, '임박': 3990, '임베디드': 3991, '임상시험': 3992, '임시': 3993, '임원': 3994, '임원진': 3995, '임의': 3996, '임차': 3997, '임펠러': 3998, '입': 3999, '입금': 4000, '입니다': 4001, '입다': 4002, '입력': 4003, '입맛': 4004, '입사': 4005, '입안': 4006, '입원': 4007, '입자': 4008, '입장': 4009, '입장료': 4010, '입지': 4011, '입찰': 4012, '입출': 4013, '입학': 4014, '있다': 4015, '잊다': 4016, '잊어버리다': 4017, '잎': 4018, '자': 4019, '자게': 4020, '자격': 4021, '자고': 4022, '자국': 4023, '자극': 4024, '자금': 4025, '자기': 4026, '자꾸': 4027, '자녀': 4028, '자다': 4029, '자동': 4030, '자동차': 4031, '자동화': 4032, '자라다': 4033, '자랑': 4034, '자랑스럽다': 4035, '자로': 4036, '자료': 4037, '자르다': 4038, '자리': 4039, '자마자': 4040, '자막': 4041, '자문': 4042, '자본': 4043, '자사': 4044, '자산': 4045, '자서전': 4046, '자선단체': 4047, '자세하다': 4048, '자수': 4049, '자식': 4050, '자신': 4051, '자신감': 4052, '자연': 4053, '자연계': 4054, '자연어': 4055, '자영': 4056, '자원': 4057, '자유': 4058, '자유롭다': 4059, '자재': 4060, '자전거': 4061, '자주': 4062, '자질': 4063, '자체': 4064, '자쿠': 4065, '자쿠지': 4066, '자택': 4067, '자판기': 4068, '자회사': 4069, '작': 4070, '작가': 4071, '작고': 4072, '작곡가': 4073, '작년': 4074, '작다': 4075, '작동': 4076, '작문': 4077, '작성': 4078, '작업': 4079, '작용': 4080, '작품': 4081, '잔': 4082, '잔고': 4083, '잔금': 4084, '잔디': 4085, '잔액': 4086, '잘': 4087, '잘못': 4088, '잘해야': 4089, '잠': 4090, '잠그다': 4091, '잠깐': 4092, '잠수': 4093, '잠시': 4094, '잠옷': 4095, '잠재': 4096, '잠재력': 4097, '잠정': 4098, '잡': 4099, '잡기': 4100, '잡다': 4101, '잡지': 4102, '잡채': 4103, '잡히다': 4104, '장': 4105, '장갑': 4106, '장거리': 4107, '장공': 4108, '장기': 4109, '장님': 4110, '장담': 4111, '장래': 4112, '장르': 4113, '장모님': 4114, '장바구니': 4115, '장벽': 4116, '장부': 4117, '장비': 4118, '장소': 4119, '장식': 4120, '장애': 4121, '장애물': 4122, '장애인': 4123, '장용': 4124, '장의': 4125, '장점': 4126, '장착': 4127, '장치': 4128, '장학금': 4129, '재': 4130, '재개': 4131, '재고': 4132, '재교육': 4133, '재난': 4134, '재능': 4135, '재단': 4136, '재료': 4137, '재무': 4138, '재무부': 4139, '재무제표': 4140, '재미': 4141, '재미있다': 4142, '재밌다': 4143, '재발': 4144, '재봉틀': 4145, '재사용': 4146, '재산': 4147, '재산권': 4148, '재생': 4149, '재우다': 4150, '재정': 4151, '재택근무': 4152, '재해': 4153, '재활': 4154, '쟁기질': 4155, '저': 4156, '저녁': 4157, '저녁식사': 4158, '저렴하다': 4159, '저만': 4160, '저만큼': 4161, '저명하다': 4162, '저번': 4163, '저속': 4164, '저자': 4165, '저작권': 4166, '저작권법': 4167, '저장': 4168, '저절로': 4169, '저지르다': 4170, '저쪽': 4171, '저축': 4172, '저항기': 4173, '저희': 4174, '적': 4175, '적격': 4176, '적극': 4177, '적기': 4178, '적다': 4179, '적당하다': 4180, '적도': 4181, '적립': 4182, '적어도': 4183, '적용': 4184, '적응': 4185, '적자': 4186, '적재': 4187, '적절하다': 4188, '적정': 4189, '적합하다': 4190, '적히다': 4191, '전': 4192, '전개': 4193, '전공': 4194, '전기': 4195, '전기자전거': 4196, '전날': 4197, '전념': 4198, '전달': 4199, '전동': 4200, '전략': 4201, '전력': 4202, '전류': 4203, '전망': 4204, '전면': 4205, '전무': 4206, '전문': 4207, '전문가': 4208, '전문성': 4209, '전문점': 4210, '전문직': 4211, '전반': 4212, '전병': 4213, '전부': 4214, '전분': 4215, '전선': 4216, '전세계': 4217, '전송': 4218, '전술': 4219, '전시': 4220, '전시장': 4221, '전시회': 4222, '전신': 4223, '전액': 4224, '전역': 4225, '전염병': 4226, '전용': 4227, '전원': 4228, '전이': 4229, '전자': 4230, '전자기': 4231, '전자기기': 4232, '전자레인지': 4233, '전자상거래': 4234, '전자제품': 4235, '전자책': 4236, '전적': 4237, '전체': 4238, '전통': 4239, '전통문화': 4240, '전표': 4241, '전하': 4242, '전해': 4243, '전혀': 4244, '전화': 4245, '전화기': 4246, '전화번호': 4247, '전화하다': 4248, '전환': 4249, '전후': 4250, '젇': 4251, '절': 4252, '절감': 4253, '절기': 4254, '절단': 4255, '절대': 4256, '절반': 4257, '절삭기': 4258, '절실': 4259, '절약': 4260, '절차': 4261, '젊다': 4262, '젊은이': 4263, '점': 4264, '점검': 4265, '점도': 4266, '점수': 4267, '점심': 4268, '점유': 4269, '점자': 4270, '점점': 4271, '점진': 4272, '점화': 4273, '접': 4274, '접근': 4275, '접근성': 4276, '접대': 4277, '접속': 4278, '접수': 4279, '접시': 4280, '접종': 4281, '접착': 4282, '접합': 4283, '젓가락': 4284, '정': 4285, '정관': 4286, '정규': 4287, '정규직': 4288, '정기': 4289, '정기예금': 4290, '정당하다': 4291, '정도': 4292, '정독': 4293, '정류장': 4294, '정리': 4295, '정말': 4296, '정말로': 4297, '정밀도': 4298, '정박': 4299, '정보': 4300, '정보기술': 4301, '정본': 4302, '정부': 4303, '정비': 4304, '정비사': 4305, '정산': 4306, '정상': 4307, '정상인': 4308, '정상화': 4309, '정성': 4310, '정수': 4311, '정수기': 4312, '정식': 4313, '정신': 4314, '정원': 4315, '정육점': 4316, '정의': 4317, '정이': 4318, '정적': 4319, '정전': 4320, '정직하다': 4321, '정착': 4322, '정책': 4323, '정체': 4324, '정치': 4325, '정치인': 4326, '정통': 4327, '정통하다': 4328, '정해': 4329, '정해지다': 4330, '정해진': 4331, '정화': 4332, '정확도': 4333, '정확하다': 4334, '제': 4335, '제거': 4336, '제곱': 4337, '제곱미터': 4338, '제공': 4339, '제기': 4340, '제대로': 4341, '제도': 4342, '제때': 4343, '제로': 4344, '제목': 4345, '제발': 4346, '제보': 4347, '제빵': 4348, '제빵사': 4349, '제삼자': 4350, '제시': 4351, '제안': 4352, '제어': 4353, '제외': 4354, '제일': 4355, '제입': 4356, '제작': 4357, '제작자': 4358, '제작회사': 4359, '제재': 4360, '제적': 4361, '제조': 4362, '제조업': 4363, '제조업체': 4364, '제주': 4365, '제출': 4366, '제품': 4367, '제품군': 4368, '제한': 4369, '제휴': 4370, '젠': 4371, '젯': 4372, '조': 4373, '조각': 4374, '조각가': 4375, '조각상': 4376, '조건': 4377, '조국': 4378, '조금': 4379, '조달': 4380, '조도': 4381, '조로': 4382, '조리': 4383, '조립': 4384, '조만간': 4385, '조명': 4386, '조명탄': 4387, '조물': 4388, '조미료': 4389, '조사': 4390, '조사해': 4391, '조선': 4392, '조수': 4393, '조식': 4394, '조심': 4395, '조심하다': 4396, '조언': 4397, '조용하다': 4398, '조잡하다': 4399, '조장': 4400, '조절': 4401, '조정': 4402, '조정은': 4403, '조지아': 4404, '조직': 4405, '조취': 4406, '조치': 4407, '조카': 4408, '조합': 4409, '조항': 4410, '조화': 4411, '조회': 4412, '족발': 4413, '존경': 4414, '존재': 4415, '존중': 4416, '졸업장': 4417, '좀': 4418, '좁히다': 4419, '종': 4420, '종교': 4421, '종단': 4422, '종도': 4423, '종로': 4424, '종료': 4425, '종류': 4426, '종사': 4427, '종습니': 4428, '종신': 4429, '종업원': 4430, '종이': 4431, '종일': 4432, '종합': 4433, '좋다': 4434, '좋아지다': 4435, '좋아하다': 4436, '좌석': 4437, '좌우': 4438, '죄송하다': 4439, '주': 4440, '주가': 4441, '주간': 4442, '주간지': 4443, '주거': 4444, '주고받다': 4445, '주기': 4446, '주다': 4447, '주된': 4448, '주렴': 4449, '주로': 4450, '주류': 4451, '주말': 4452, '주머니': 4453, '주목': 4454, '주무시다': 4455, '주문': 4456, '주민': 4457, '주민등록': 4458, '주방': 4459, '주변': 4460, '주사기': 4461, '주선': 4462, '주소': 4463, '주스': 4464, '주시': 4465, '주식': 4466, '주식시장': 4467, '주신': 4468, '주어지다': 4469, '주얼': 4470, '주요': 4471, '주의': 4472, '주인': 4473, '주일': 4474, '주임': 4475, '주자': 4476, '주장': 4477, '주저': 4478, '주제': 4479, '주제가': 4480, '주지': 4481, '주차': 4482, '주차장': 4483, '주철': 4484, '주택': 4485, '주파수': 4486, '죽': 4487, '준': 4488, '준비': 4489, '준수': 4490, '줄': 4491, '줄기': 4492, '줄다': 4493, '줄어들다': 4494, '줄이다': 4495, '줌': 4496, '줍다': 4497, '중': 4498, '중간': 4499, '중개': 4500, '중개사': 4501, '중개인': 4502, '중고': 4503, '중고품': 4504, '중공업': 4505, '중국': 4506, '중국집': 4507, '중단': 4508, '중등교육': 4509, '중복': 4510, '중소기업': 4511, '중시': 4512, '중심': 4513, '중심부': 4514, '중요성': 4515, '중요하다': 4516, '중이': 4517, '중인': 4518, '중장비': 4519, '중재': 4520, '중점': 4521, '중형견': 4522, '중환자': 4523, '즉': 4524, '즉각': 4525, '즉석': 4526, '즉시': 4527, '즐거움': 4528, '즐겁다': 4529, '즐기다': 4530, '증가': 4531, '증거': 4532, '증권': 4533, '증권사': 4534, '증명': 4535, '증명서': 4536, '증발기': 4537, '증빙': 4538, '증서': 4539, '증세': 4540, '증진': 4541, '증폭': 4542, '증폭기': 4543, '지': 4544, '지갑': 4545, '지게': 4546, '지게차': 4547, '지고': 4548, '지구': 4549, '지금': 4550, '지급': 4551, '지나다': 4552, '지난': 4553, '지난달': 4554, '지난번': 4555, '지난주': 4556, '지난해': 4557, '지남': 4558, '지내다': 4559, '지능': 4560, '지다': 4561, '지도': 4562, '지독하다': 4563, '지루하다': 4564, '지루함': 4565, '지르다': 4566, '지리': 4567, '지면': 4568, '지명': 4569, '지문': 4570, '지방': 4571, '지불': 4572, '지붕': 4573, '지사': 4574, '지속': 4575, '지수': 4576, '지시': 4577, '지식': 4578, '지역': 4579, '지역성': 4580, '지연': 4581, '지용': 4582, '지우다': 4583, '지원': 4584, '지원이': 4585, '지인': 4586, '지저분하다': 4587, '지적': 4588, '지점': 4589, '지정': 4590, '지주': 4591, '지지': 4592, '지체': 4593, '지출': 4594, '지침': 4595, '지켜보다': 4596, '지키다': 4597, '지폐': 4598, '지표': 4599, '지프': 4600, '지하실': 4601, '지하철': 4602, '지향': 4603, '직': 4604, '직감': 4605, '직경': 4606, '직급': 4607, '직도': 4608, '직면': 4609, '직물': 4610, '직불': 4611, '직업': 4612, '직원': 4613, '직장': 4614, '직접': 4615, '직접투자': 4616, '직책': 4617, '진': 4618, '진공': 4619, '진과': 4620, '진단': 4621, '진동': 4622, '진상': 4623, '진실': 4624, '진실하다': 4625, '진심': 4626, '진의': 4627, '진입': 4628, '진정': 4629, '진정하다': 4630, '진지하다': 4631, '진짜': 4632, '진출': 4633, '진행': 4634, '진행자': 4635, '진화': 4636, '진흥': 4637, '질': 4638, '질감': 4639, '질문': 4640, '질병': 4641, '질환': 4642, '짐': 4643, '집': 4644, '집값': 4645, '집다': 4646, '집단': 4647, '집세': 4648, '집안일': 4649, '집의': 4650, '집주인': 4651, '집중': 4652, '집하장': 4653, '집합': 4654, '집행': 4655, '집행자': 4656, '짓다': 4657, '징': 4658, '징글링': 4659, '짚': 4660, '짜다': 4661, '짜리': 4662, '짜장': 4663, '짤': 4664, '짧다': 4665, '쪽': 4666, '쫓아내다': 4667, '쯤': 4668, '찌개': 4669, '찍다': 4670, '찍히다': 4671, '찜': 4672, '찜질방': 4673, '찢어지다': 4674, '차': 4675, '차감': 4676, '차갑다': 4677, '차고': 4678, '차기': 4679, '차다': 4680, '차단': 4681, '차도': 4682, '차등': 4683, '차라리': 4684, '차량': 4685, '차례': 4686, '차리다': 4687, '차별': 4688, '차서': 4689, '차용': 4690, '차원': 4691, '차이': 4692, '차이다': 4693, '차이점': 4694, '차입': 4695, '차지': 4696, '차질': 4697, '차트': 4698, '찬': 4699, '참가': 4700, '참가자': 4701, '참고': 4702, '참배': 4703, '참석': 4704, '참석자': 4705, '참여': 4706, '참으로': 4707, '참조': 4708, '찹쌀': 4709, '창': 4710, '창가': 4711, '창고': 4712, '창구': 4713, '창립': 4714, '창문': 4715, '창업': 4716, '창의': 4717, '찾기': 4718, '찾다': 4719, '찾아보다': 4720, '찾아오다': 4721, '채': 4722, '채굴': 4723, '채권': 4724, '채권자': 4725, '채널': 4726, '채다': 4727, '채무': 4728, '채무자': 4729, '채색': 4730, '채소': 4731, '채식': 4732, '채식주의자': 4733, '채용': 4734, '채우다': 4735, '채취': 4736, '채택': 4737, '채팅': 4738, '책': 4739, '책임': 4740, '책임감': 4741, '책임자': 4742, '책임지다': 4743, '책자': 4744, '책정': 4745, '챔버입니': 4746, '처': 4747, '처가': 4748, '처리': 4749, '처리기': 4750, '처방': 4751, '처분': 4752, '처음': 4753, '천만': 4754, '천연': 4755, '천연가스': 4756, '천장': 4757, '천천히': 4758, '철': 4759, '철강': 4760, '철도': 4761, '철저하다': 4762, '철제': 4763, '철학': 4764, '철회': 4765, '첨부': 4766, '첫': 4767, '첫날': 4768, '첫인상': 4769, '첫째': 4770, '청': 4771, '청각장애': 4772, '청구': 4773, '청년': 4774, '청동': 4775, '청문회': 4776, '청사진': 4777, '청소': 4778, '청소년': 4779, '청정': 4780, '청정기': 4781, '청중': 4782, '청취': 4783, '체결': 4784, '체납': 4785, '체류': 4786, '체육관': 4787, '체인': 4788, '체인점': 4789, '체제': 4790, '체크': 4791, '체크아웃': 4792, '체험': 4793, '초': 4794, '초고': 4795, '초과': 4796, '초기': 4797, '초당': 4798, '초대': 4799, '초대장': 4800, '초래': 4801, '초상화': 4802, '초안': 4803, '초음파': 4804, '초입': 4805, '초점': 4806, '초청': 4807, '초콜릿': 4808, '촉구': 4809, '촉박하다': 4810, '총': 4811, '총수': 4812, '총칭': 4813, '촬영': 4814, '최': 4815, '최고': 4816, '최고급': 4817, '최근': 4818, '최대': 4819, '최대한': 4820, '최상': 4821, '최선': 4822, '최선일': 4823, '최소': 4824, '최소한': 4825, '최신': 4826, '최악': 4827, '최저': 4828, '최적': 4829, '최적화': 4830, '최종': 4831, '최첨단': 4832, '최초': 4833, '추가': 4834, '추구': 4835, '추다': 4836, '추석': 4837, '추세': 4838, '추억': 4839, '추적': 4840, '추정': 4841, '추진': 4842, '추천': 4843, '추출': 4844, '추후': 4845, '축': 4846, '축배': 4847, '축소': 4848, '축하': 4849, '출구': 4850, '출금': 4851, '출두': 4852, '출력': 4853, '출발점': 4854, '출산': 4855, '출시': 4856, '출연': 4857, '출장': 4858, '출퇴근': 4859, '출판': 4860, '출판물': 4861, '출판사': 4862, '출하': 4863, '춤': 4864, '충': 4865, '충격': 4866, '충당': 4867, '충돌': 4868, '충분하다': 4869, '충실하다': 4870, '충전': 4871, '충전기': 4872, '충족': 4873, '취': 4874, '취급': 4875, '취득': 4876, '취미': 4877, '취사': 4878, '취소': 4879, '취약': 4880, '취재': 4881, '취직': 4882, '취하': 4883, '취한': 4884, '취할': 4885, '취해': 4886, '취향': 4887, '측': 4888, '측면': 4889, '측정': 4890, '측정기': 4891, '층': 4892, '치': 4893, '치가': 4894, '치과': 4895, '치다': 4896, '치료': 4897, '치르다': 4898, '치맥': 4899, '치솟다': 4900, '치수': 4901, '치열하다': 4902, '치즈': 4903, '치킨': 4904, '친': 4905, '친구': 4906, '친절하다': 4907, '친척': 4908, '친하다': 4909, '친환경': 4910, '칠': 4911, '칠하다': 4912, '침': 4913, '침대': 4914, '침실': 4915, '침입': 4916, '침체': 4917, '침해': 4918, '칩': 4919, '칩셋': 4920, '칭찬': 4921, '카드': 4922, '카메라': 4923, '카뷰': 4924, '카운터': 4925, '카운트다운': 4926, '카지노': 4927, '카탈로그': 4928, '카테고리': 4929, '카트': 4930, '카페': 4931, '카페테리아': 4932, '카펫': 4933, '카피': 4934, '칵테일': 4935, '칸': 4936, '칼': 4937, '칼리': 4938, '캐': 4939, '캐나다': 4940, '캐리어': 4941, '캐릭터': 4942, '캐비닛': 4943, '캐빈': 4944, '캐싱': 4945, '캐터필러': 4946, '캐피탈': 4947, '캐피털': 4948, '캘리포니아': 4949, '캘린더': 4950, '캠': 4951, '캠퍼스': 4952, '캠페인': 4953, '캠프': 4954, '캠프장': 4955, '캠프파이어': 4956, '캠핑': 4957, '캠핑장': 4958, '캠핑카': 4959, '캡슐화': 4960, '캡처': 4961, '커뮤니케이션': 4962, '커뮤니티': 4963, '커미션': 4964, '커버': 4965, '커지다': 4966, '커터': 4967, '커튼': 4968, '커플': 4969, '커피': 4970, '커피메이커': 4971, '컨디셔닝': 4972, '컨베이어': 4973, '컨설턴트': 4974, '컨설팅': 4975, '컨셉': 4976, '컨테이너': 4977, '컨텐츠': 4978, '컬래버레이션': 4979, '컬러': 4980, '컴퍼니': 4981, '컴포트룸': 4982, '컴퓨터': 4983, '컴퓨팅': 4984, '컴프레서': 4985, '컷': 4986, '케어': 4987, '케이': 4988, '케이블': 4989, '케이스': 4990, '케이크': 4991, '코': 4992, '코너': 4993, '코드': 4994, '코딩': 4995, '코로나': 4996, '코르크': 4997, '코리아': 4998, '코리안': 4999, '코멘트': 5000, '코스': 5001, '코스닥': 5002, '코인': 5003, '코치': 5004, '코칭': 5005, '코코넛': 5006, '코퍼레이션': 5007, '콕': 5008, '콘덴서': 5009, '콘도': 5010, '콘도그': 5011, '콘서트': 5012, '콘셉': 5013, '콘셉트': 5014, '콘솔': 5015, '콘크리트': 5016, '콘텐츠': 5017, '콜리': 5018, '콜링': 5019, '콜카타': 5020, '콩나물': 5021, '쾌적하다': 5022, '쿠션': 5023, '쿠알라룸푸르': 5024, '쿠키': 5025, '쿠폰': 5026, '쿨': 5027, '쿨러': 5028, '퀼트': 5029, '큐': 5030, '크게': 5031, '크기': 5032, '크다': 5033, '크레딧': 5034, '크레인': 5035, '크루아상': 5036, '크류': 5037, '크리스마스': 5038, '크리에이터': 5039, '크리에이티브': 5040, '크립': 5041, '클라우드': 5042, '클라이언트': 5043, '클래스': 5044, '클러스터': 5045, '클럽': 5046, '클레': 5047, '클리': 5048, '클릭': 5049, '클릭률': 5050, '클립': 5051, '큼': 5052, '키': 5053, '키란': 5054, '키우다': 5055, '키트': 5056, '킬로그램': 5057, '킬로미터': 5058, '킬로와트': 5059, '타': 5060, '타겟': 5061, '타고': 5062, '타깃': 5063, '타다': 5064, '타당': 5065, '타운하우스': 5066, '타원곡선': 5067, '타이머': 5068, '타이밍': 5069, '타이어': 5070, '타이틀곡': 5071, '타임': 5072, '타임스퀘어': 5073, '타입': 5074, '타자기': 5075, '타협': 5076, '탁월하다': 5077, '탁자': 5078, '탄소': 5079, '탄원서': 5080, '탈': 5081, '탈세': 5082, '탈수': 5083, '탈퇴': 5084, '탐구': 5085, '탐방': 5086, '탐색': 5087, '탐험': 5088, '탑': 5089, '탑승': 5090, '탑재': 5091, '탕': 5092, '탕감': 5093, '태국': 5094, '태국어': 5095, '태그': 5096, '태극': 5097, '태극기': 5098, '태도': 5099, '태블릿': 5100, '태양': 5101, '택배': 5102, '탤런트': 5103, '탭': 5104, '터': 5105, '터널': 5106, '터링': 5107, '터미널': 5108, '터북': 5109, '터치': 5110, '터치스크린': 5111, '터키': 5112, '턴': 5113, '턴키': 5114, '테': 5115, '테니스': 5116, '테라': 5117, '테라바이트': 5118, '테라스': 5119, '테마': 5120, '테스': 5121, '테스트': 5122, '테이': 5123, '테이블': 5124, '테이프': 5125, '테크놀로지': 5126, '텍스처': 5127, '텍스트': 5128, '텐데': 5129, '텐데요': 5130, '텐트': 5131, '텔레비전': 5132, '템플': 5133, '템플릿': 5134, '템플스테이': 5135, '토너': 5136, '토론': 5137, '토르티야': 5138, '토목': 5139, '토스터': 5140, '토스트': 5141, '토요일': 5142, '토지': 5143, '토큰': 5144, '톤': 5145, '통': 5146, '통계': 5147, '통과': 5148, '통관': 5149, '통닭': 5150, '통도사': 5151, '통보': 5152, '통상': 5153, '통신': 5154, '통신망': 5155, '통신사': 5156, '통역': 5157, '통역관': 5158, '통장': 5159, '통제': 5160, '통지': 5161, '통지서': 5162, '통째': 5163, '통찰': 5164, '통한': 5165, '통합': 5166, '통해': 5167, '통화': 5168, '퇴근': 5169, '퇴사': 5170, '투': 5171, '투명': 5172, '투명하다': 5173, '투숙': 5174, '투어': 5175, '투자': 5176, '투자가': 5177, '투자수익률': 5178, '투자자': 5179, '툴': 5180, '튀기다': 5181, '튀김': 5182, '튜브': 5183, '튜토리얼': 5184, '트': 5185, '트래킹': 5186, '트래픽': 5187, '트랙볼': 5188, '트랙터': 5189, '트랙패드': 5190, '트랜치': 5191, '트러블': 5192, '트럭': 5193, '트레인': 5194, '트레일러': 5195, '트렌드': 5196, '트리': 5197, '트리트먼트': 5198, '트리플': 5199, '트윈': 5200, '트이다': 5201, '특권': 5202, '특급': 5203, '특기': 5204, '특별': 5205, '특별하다': 5206, '특산': 5207, '특선': 5208, '특성': 5209, '특수': 5210, '특수하다': 5211, '특정': 5212, '특정하다': 5213, '특제': 5214, '특집': 5215, '특징': 5216, '특허': 5217, '특히': 5218, '튼튼하다': 5219, '틀다': 5220, '틀림없다': 5221, '틀림없이': 5222, '틀어놓다': 5223, '틈': 5224, '틈새': 5225, '티': 5226, '티슈': 5227, '티저': 5228, '티켓': 5229, '팀': 5230, '팀원': 5231, '팁': 5232, '팅': 5233, '파견': 5234, '파괴': 5235, '파다': 5236, '파란색': 5237, '파로': 5238, '파리': 5239, '파산': 5240, '파산하다': 5241, '파손': 5242, '파스타': 5243, '파악': 5244, '파워': 5245, '파이': 5246, '파이다': 5247, '파이썬': 5248, '파이프': 5249, '파이프라인': 5250, '파일': 5251, '파키스탄': 5252, '파트너': 5253, '파트너쉽': 5254, '파티': 5255, '파파야': 5256, '판': 5257, '판금': 5258, '판단': 5259, '판매': 5260, '판매량': 5261, '판매업': 5262, '판명': 5263, '판촉': 5264, '팔': 5265, '팔고': 5266, '팔다': 5267, '팔레트': 5268, '팔로우': 5269, '팔로워': 5270, '팔리다': 5271, '팔지': 5272, '팜스프링스': 5273, '팜유': 5274, '팝': 5275, '팟캐스트': 5276, '패널': 5277, '패션': 5278, '패스': 5279, '패스트': 5280, '패스트푸드': 5281, '패자': 5282, '패치': 5283, '패키지': 5284, '패턴': 5285, '팩': 5286, '팩스': 5287, '팬': 5288, '팬데믹': 5289, '팬케이크': 5290, '팸플릿': 5291, '퍼센트': 5292, '퍼지다': 5293, '펀드': 5294, '펀딩': 5295, '펄스': 5296, '펌프': 5297, '페스티벌': 5298, '페이': 5299, '페이스': 5300, '페이지': 5301, '펜션': 5302, '펠메니': 5303, '펴다': 5304, '편': 5305, '편곡': 5306, '편도': 5307, '편리하다': 5308, '편물': 5309, '편안하다': 5310, '편안함': 5311, '편애': 5312, '편의': 5313, '편의점': 5314, '편이': 5315, '편입': 5316, '편지': 5317, '편지함': 5318, '편집': 5319, '편집자': 5320, '편하다': 5321, '평가': 5322, '평가판': 5323, '평균': 5324, '평면도': 5325, '평방': 5326, '평범하다': 5327, '평생': 5328, '평일': 5329, '평점': 5330, '평판': 5331, '평편': 5332, '평평하다': 5333, '평화': 5334, '폐가': 5335, '폐기물': 5336, '폐쇄': 5337, '폐쇄되어': 5338, '폐쇄하': 5339, '포': 5340, '포격': 5341, '포괄': 5342, '포기': 5343, '포스터': 5344, '포스트': 5345, '포스팅': 5346, '포인트': 5347, '포장': 5348, '포지셔닝': 5349, '포지션': 5350, '포켓': 5351, '포탄': 5352, '포털': 5353, '포토': 5354, '포트': 5355, '포트폴리오': 5356, '포함': 5357, '포항': 5358, '폭': 5359, '폭력': 5360, '폰': 5361, '폰트': 5362, '폴더': 5363, '폴리스티렌': 5364, '폴리오': 5365, '폴리우레탄': 5366, '폼': 5367, '표': 5368, '표면': 5369, '표시': 5370, '표절': 5371, '표정': 5372, '표준': 5373, '표지': 5374, '표현': 5375, '푸드': 5376, '풀': 5377, '풀다': 5378, '품': 5379, '품다': 5380, '품목': 5381, '품절': 5382, '품종': 5383, '품질': 5384, '풍': 5385, '풍부하다': 5386, '풍향': 5387, '퓨전': 5388, '프라이': 5389, '프라이드': 5390, '프라이머리': 5391, '프랑스': 5392, '프랑스어': 5393, '프랜차이즈': 5394, '프레': 5395, '프레임': 5396, '프레임워크': 5397, '프로': 5398, '프로그래머': 5399, '프로그래밍': 5400, '프로그램': 5401, '프로듀서': 5402, '프로모션': 5403, '프로세서': 5404, '프로세스': 5405, '프로젝터': 5406, '프로젝트': 5407, '프로토콜': 5408, '프로토타입': 5409, '프로필': 5410, '프루티': 5411, '프리랜서': 5412, '프리미엄': 5413, '프리뷰': 5414, '프린터': 5415, '플': 5416, '플라스틱': 5417, '플라이': 5418, '플라자': 5419, '플래닝': 5420, '플래시': 5421, '플래티넘': 5422, '플랜': 5423, '플랫폼': 5424, '플러그인': 5425, '플러머': 5426, '플러스': 5427, '플레이': 5428, '플레이어': 5429, '플로우': 5430, '플로터': 5431, '플루': 5432, '플립': 5433, '피': 5434, '피나': 5435, '피니쉬': 5436, '피드백': 5437, '피로연': 5438, '피부': 5439, '피스톤': 5440, '피아노': 5441, '피우다': 5442, '피칭팀': 5443, '피크': 5444, '피트': 5445, '피트니스': 5446, '피하': 5447, '피해': 5448, '피해자': 5449, '픽셀': 5450, '픽업': 5451, '핀': 5452, '필기체': 5453, '필드': 5454, '필름': 5455, '필리핀': 5456, '필수': 5457, '필요': 5458, '필요성': 5459, '필요없다': 5460, '필요하다': 5461, '필욘': 5462, '필터': 5463, '핑크': 5464, '하': 5465, '하기는': 5466, '하나': 5467, '하나로': 5468, '하나요': 5469, '하니': 5470, '하다': 5471, '하단': 5472, '하드': 5473, '하드웨어': 5474, '하락': 5475, '하루': 5476, '하루나': 5477, '하룻밤': 5478, '하므다': 5479, '하수': 5480, '하숙집': 5481, '하얀색': 5482, '하오니': 5483, '하와이': 5484, '하우': 5485, '하우스': 5486, '하이재킹': 5487, '하이킹': 5488, '하이테크': 5489, '하자': 5490, '하지만': 5491, '학': 5492, '학과': 5493, '학교': 5494, '학기': 5495, '학년': 5496, '학문': 5497, '학생': 5498, '학술': 5499, '학습': 5500, '학업': 5501, '학원': 5502, '학위': 5503, '학자': 5504, '학자금': 5505, '한': 5506, '한가하다': 5507, '한계': 5508, '한국': 5509, '한국어': 5510, '한국은행': 5511, '한국인': 5512, '한다는': 5513, '한도': 5514, '한두': 5515, '한마디': 5516, '한번': 5517, '한식': 5518, '한식당': 5519, '한옥호텔': 5520, '한우': 5521, '한자': 5522, '한잔': 5523, '한정': 5524, '한정식': 5525, '한정판': 5526, '한지': 5527, '한창': 5528, '한층': 5529, '한편': 5530, '할당': 5531, '할랄': 5532, '할머니': 5533, '할부': 5534, '할애': 5535, '할인': 5536, '함': 5537, '함께': 5538, '합': 5539, '합격': 5540, '합계': 5541, '합류': 5542, '합리': 5543, '합법': 5544, '합성': 5545, '합의': 5546, '합작': 5547, '합치다': 5548, '합판': 5549, '핫': 5550, '핫스팟': 5551, '항': 5552, '항공': 5553, '항공사': 5554, '항구': 5555, '항목': 5556, '항상': 5557, '항성': 5558, '항의': 5559, '해': 5560, '해결': 5561, '해고': 5562, '해당': 5563, '해도': 5564, '해독': 5565, '해드리다': 5566, '해명': 5567, '해변': 5568, '해보다': 5569, '해봤다': 5570, '해상도': 5571, '해석': 5572, '해소': 5573, '해심': 5574, '해안': 5575, '해오다': 5576, '해외': 5577, '해외여행': 5578, '해주다': 5579, '해주시': 5580, '해지': 5581, '해초': 5582, '해커': 5583, '해킹': 5584, '해피': 5585, '핵심': 5586, '핸드폰': 5587, '행': 5588, '행동': 5589, '행복': 5590, '행복하다': 5591, '행사': 5592, '행운': 5593, '행해지다': 5594, '향': 5595, '향상': 5596, '향수': 5597, '향신료': 5598, '향후': 5599, '허가': 5600, '허가증': 5601, '허락': 5602, '허브': 5603, '허브차': 5604, '허슬': 5605, '허용': 5606, '허튼': 5607, '허풍': 5608, '헌신': 5609, '헐벗': 5610, '헤드헌터': 5611, '헤어드라이어': 5612, '헤지': 5613, '헬': 5614, '헬스장': 5615, '헷갈리다': 5616, '혁신': 5617, '현': 5618, '현금': 5619, '현대': 5620, '현명하다': 5621, '현미경': 5622, '현상': 5623, '현수막': 5624, '현장': 5625, '현재': 5626, '현지': 5627, '현행': 5628, '현황': 5629, '혈압': 5630, '혈액': 5631, '혐의': 5632, '협동': 5633, '협력': 5634, '협상': 5635, '협약': 5636, '협연': 5637, '협의': 5638, '협정': 5639, '협조': 5640, '협찬': 5641, '협회': 5642, '형': 5643, '형기': 5644, '형성': 5645, '형식': 5646, '형제': 5647, '형태': 5648, '혜택': 5649, '호도': 5650, '호법': 5651, '호스팅': 5652, '호실': 5653, '호의': 5654, '호주': 5655, '호출': 5656, '호텔': 5657, '호환': 5658, '호환성': 5659, '호흡': 5660, '혹독하다': 5661, '혹시': 5662, '혹은': 5663, '혼란': 5664, '혼자': 5665, '혼잡하다': 5666, '혼합': 5667, '홀': 5668, '홈': 5669, '홈스테이': 5670, '홈페이지': 5671, '홋카이도': 5672, '홍보': 5673, '화가': 5674, '화거': 5675, '화기': 5676, '화나다': 5677, '화면': 5678, '화물': 5679, '화물선': 5680, '화보': 5681, '화상': 5682, '화상통화': 5683, '화상회의': 5684, '화소': 5685, '화요일': 5686, '화의': 5687, '화이트': 5688, '화장실': 5689, '화장품': 5690, '화전': 5691, '화폐': 5692, '화하다': 5693, '화학': 5694, '화합': 5695, '화해': 5696, '확고하다': 5697, '확답': 5698, '확대': 5699, '확보': 5700, '확신': 5701, '확실하다': 5702, '확인': 5703, '확장': 5704, '확정': 5705, '환': 5706, '환경': 5707, '환급': 5708, '환불': 5709, '환상': 5710, '환영': 5711, '환율': 5712, '환자': 5713, '환전': 5714, '환호': 5715, '활': 5716, '활동': 5717, '활발하다': 5718, '활성화': 5719, '활용': 5720, '회': 5721, '회계': 5722, '회계법인': 5723, '회계사': 5724, '회도': 5725, '회로': 5726, '회복': 5727, '회복하다': 5728, '회비': 5729, '회사': 5730, '회수': 5731, '회신': 5732, '회원': 5733, '회의': 5734, '회의실': 5735, '회의장': 5736, '회장': 5737, '회전': 5738, '회차': 5739, '회화': 5740, '횡설수설': 5741, '효과': 5742, '효율': 5743, '후': 5744, '후루룩': 5745, '후불': 5746, '후속': 5747, '후송': 5748, '후식': 5749, '후원': 5750, '후원자': 5751, '후의': 5752, '후회': 5753, '훈련': 5754, '훌륭하다': 5755, '훑다': 5756, '훨씬': 5757, '훼손': 5758, '휘': 5759, '휘발유': 5760, '휠': 5761, '휩쓸다': 5762, '휴': 5763, '휴가': 5764, '휴대': 5765, '휴대전화': 5766, '휴대폰': 5767, '휴식': 5768, '휴양': 5769, '흐름': 5770, '흐릿하': 5771, '흑자': 5772, '흔하다': 5773, '흘리다': 5774, '흙': 5775, '흙빛': 5776, '흡사하다': 5777, '흡수': 5778, '흡입': 5779, '흥미': 5780, '흥미롭다': 5781, '흥분': 5782, '흥분하다': 5783, '희망': 5784, '흰색': 5785, '히': 5786, '히트': 5787, '힘': 5788, '힘들다': 5789, '힘쓰다': 5790}\n",
            "{'\\t': 1, '\\n': 2, ',': 3, '.': 4, 'A': 5, 'AAA': 6, 'AAA1@BBB1.com.': 7, 'AAA@BBB.com': 8, 'ABCDE': 9, 'AI': 10, 'ANRs': 11, 'ATM': 12, 'ATMs': 13, 'Absolutely': 14, 'Accidents': 15, 'According': 16, 'Actually': 17, 'Additionally': 18, 'Ads': 19, 'African': 20, 'After': 21, 'Afterwards': 22, 'Again': 23, 'Agency': 24, 'Ah': 25, 'Airport': 26, 'All': 27, 'Allow': 28, 'Almost': 29, 'Along': 30, 'Alright': 31, 'Also': 32, 'Alternatively': 33, 'Although': 34, 'Am': 35, 'America': 36, 'American': 37, 'Among': 38, 'Amsterdam': 39, 'An': 40, 'And': 41, 'Angel': 42, 'Another': 43, 'Any': 44, 'Anyone': 45, 'Anything': 46, 'Anyway': 47, 'Apart': 48, 'Apologies': 49, 'Apparently': 50, 'Appraisal': 51, 'April': 52, 'Are': 53, 'Argentina': 54, 'Around': 55, 'Articles': 56, 'Artificial': 57, 'As': 58, 'Asia': 59, 'Asian': 60, 'Aside': 61, 'Associates': 62, 'Assume': 63, 'At': 64, 'August': 65, 'Australia': 66, 'Australian': 67, 'Available': 68, 'Avatars': 69, 'Avoid': 70, 'Awesome': 71, 'B': 72, 'BBB': 73, 'BBB@email.com.': 74, 'BBQ': 75, 'BSE': 76, 'Back': 77, 'Bank': 78, 'Barbados': 79, 'Based': 80, 'Basically': 81, 'Be': 82, 'Bear': 83, 'Because': 84, 'Beef': 85, 'Before': 86, 'Being': 87, 'Besides': 88, 'Board': 89, 'Bohemian': 90, 'Bokkeumbap': 91, 'Bossam': 92, 'Both': 93, 'Brazil': 94, 'Breakfast': 95, 'Bringing': 96, 'Broadcast': 97, 'Broadcasting': 98, 'Browsing': 99, 'Brunei': 100, 'Buddha': 101, 'Buddhism': 102, 'Buddhist': 103, 'Building': 104, 'Bulgogi': 105, 'Bungeoppang': 106, 'Bunsen': 107, 'Busan': 108, 'Business': 109, 'But': 110, 'Buying': 111, 'By': 112, 'C': 113, 'CCTV': 114, 'CCTVs': 115, 'CEO': 116, 'CFM': 117, 'CMS': 118, 'COVID': 119, 'CSS': 120, 'CT': 121, 'California': 122, 'Call': 123, 'Camp': 124, 'Camping': 125, 'Can': 126, 'Canada': 127, 'Canal': 128, 'Capital': 129, 'Catering': 130, 'Center': 131, 'Certainly': 132, 'Change': 133, 'Chapter': 134, 'Chicago': 135, 'Chief': 136, 'Children': 137, 'China': 138, 'Chinese': 139, 'Choosing': 140, 'Chosun': 141, 'Christmas': 142, 'Chuseok': 143, 'City': 144, 'Class': 145, 'Click': 146, 'Clothing': 147, 'Cloud': 148, 'Come': 149, 'Company': 150, 'Compatible': 151, 'Completion': 152, 'Consider': 153, 'Considering': 154, 'Contact': 155, 'Content': 156, 'Continental': 157, 'Continue': 158, 'Control': 159, 'Convention': 160, 'Cool': 161, 'Copyright': 162, 'Corp': 163, 'Corporation': 164, 'Correct': 165, 'Could': 166, 'Court': 167, 'Crowdfunding': 168, 'Cryptocurrency': 169, 'Currently': 170, 'D': 171, 'DCA': 172, 'DVR': 173, 'Daegu': 174, 'Dak': 175, 'Dear': 176, 'December': 177, 'Definitely': 178, 'Denmark': 179, 'Department': 180, 'Depends': 181, 'Design': 182, 'Despite': 183, 'Details': 184, 'Devices': 185, 'Did': 186, 'Didn': 187, 'Different': 188, 'Disclosing': 189, 'District': 190, 'Do': 191, 'Documents': 192, 'Does': 193, 'Don': 194, 'Download': 195, 'Dr': 196, 'Drive': 197, 'Due': 198, 'Duly': 199, 'During': 200, 'E': 201, 'EOB': 202, 'EPP': 203, 'ESG': 204, 'EST': 205, 'ETF': 206, 'ETFs': 207, 'EVA': 208, 'Each': 209, 'Earth': 210, 'East': 211, 'Eastern': 212, 'Egyptian': 213, 'Eh': 214, 'Emerald': 215, 'Emerging': 216, 'Emily': 217, 'Encryption': 218, 'Engine': 219, 'Engines': 220, 'England': 221, 'English': 222, 'Equipment': 223, 'Especially': 224, 'Essentially': 225, 'Europe': 226, 'European': 227, 'Euros': 228, 'Even': 229, 'Events': 230, 'Every': 231, 'Everyone': 232, 'Everything': 233, 'Exactly': 234, 'Excellent': 235, 'Exchange': 236, 'Excuse': 237, 'Exit': 238, 'Expect': 239, 'Expo': 240, 'FDI': 241, 'FFF': 242, 'FOMO': 243, 'Factors': 244, 'Failure': 245, 'Fantastic': 246, 'February': 247, 'Federal': 248, 'Feel': 249, 'Festival': 250, 'Fi': 251, 'Fifth': 252, 'Filipino': 253, 'Finally': 254, 'Financial': 255, 'Find': 256, 'Fine': 257, 'Fingers': 258, 'First': 259, 'Firstly': 260, 'Five': 261, 'Flashes': 262, 'Flexibility': 263, 'Food': 264, 'For': 265, 'Foreigners': 266, 'Fortunately': 267, 'Fourth': 268, 'France': 269, 'Francisco': 270, 'French': 271, 'Friday': 272, 'From': 273, 'Fu': 274, 'Furthermore': 275, 'Futons': 276, 'Futures': 277, 'G': 278, 'GB': 279, 'GPS': 280, 'GVWR': 281, 'Gains': 282, 'Gangnam': 283, 'Gangneung': 284, 'Gas': 285, 'Generally': 286, 'Georgia': 287, 'Germany': 288, 'Get': 289, 'Ginseng': 290, 'Give': 291, 'Given': 292, 'Giving': 293, 'Go': 294, 'Good': 295, 'Got': 296, 'Graphic': 297, 'Great': 298, 'Greek': 299, 'Greetings': 300, 'Group': 301, 'Guam': 302, 'Gujeolpan': 303, 'Gyeonggi': 304, 'HDD': 305, 'HR': 306, 'HTML': 307, 'Hackers': 308, 'Halal': 309, 'Hanok': 310, 'Has': 311, 'Have': 312, 'Having': 313, 'Hawaii': 314, 'He': 315, 'Helllo': 316, 'Hello': 317, 'Hence': 318, 'Her': 319, 'Here': 320, 'Hey': 321, 'Hi': 322, 'Hmm': 323, 'Hokkaido': 324, 'Hold': 325, 'Hopefully': 326, 'Hotel': 327, 'How': 328, 'However': 329, 'I': 330, 'ID': 331, 'IDs': 332, 'IP': 333, 'IPO': 334, 'IPOs': 335, 'IT': 336, 'IVR': 337, 'IaaS': 338, 'If': 339, 'Ilsan': 340, 'In': 341, 'Incentives': 342, 'Incheon': 343, 'Incorporation': 344, 'Indeed': 345, 'Independent': 346, 'India': 347, 'Indian': 348, 'Indonesia': 349, 'Indonesian': 350, 'Inflation': 351, 'Influencer': 352, 'Innovations': 353, 'Installing': 354, 'Instant': 355, 'Insurance': 356, 'Interesting': 357, 'International': 358, 'Internet': 359, 'Intraday': 360, 'Invest': 361, 'Investments': 362, 'Investors': 363, 'IoT': 364, 'Is': 365, 'Isn': 366, 'It': 367, 'Italian': 368, 'Italy': 369, 'JLPT': 370, 'January': 371, 'Japan': 372, 'Japanese': 373, 'Jeju': 374, 'Jeonbyeong': 375, 'Jjimjilbang': 376, 'Jongno': 377, 'July': 378, 'Jun': 379, 'June': 380, 'Just': 381, 'K': 382, 'KOSDAQ': 383, 'KST': 384, 'Kabsat': 385, 'Keep': 386, 'Kimchi': 387, 'Kindly': 388, 'Kingdom': 389, 'Know': 390, 'Knowing': 391, 'Kolkata': 392, 'Korea': 393, 'Korean': 394, 'Koreans': 395, 'Kuala': 396, 'LED': 397, 'Language': 398, 'Last': 399, 'Lastly': 400, 'Later': 401, 'Latest': 402, 'Law': 403, 'Learning': 404, 'Let': 405, 'Life': 406, 'Like': 407, 'Likewise': 408, 'Limited': 409, 'Listen': 410, 'Little': 411, 'Liverpool': 412, 'Loans': 413, 'Locust': 414, 'Log': 415, 'London': 416, 'Looking': 417, 'Losers': 418, 'Loss': 419, 'Lovely': 420, 'Low': 421, 'Luckily': 422, 'Lumpur': 423, 'M': 424, 'MAR': 425, 'MMS': 426, 'MOU': 427, 'Ma': 428, 'Madrid': 429, 'Mainly': 430, 'Maintaining': 431, 'Make': 432, 'Making': 433, 'Malaysia': 434, 'Management': 435, 'Manali': 436, 'Mandarin': 437, 'Manila': 438, 'Many': 439, 'Mapo': 440, 'Mapping': 441, 'March': 442, 'Marketing': 443, 'May': 444, 'Maybe': 445, 'Me': 446, 'Meaning': 447, 'Meanwhile': 448, 'Mechanical': 449, 'Media': 450, 'Medical': 451, 'Members': 452, 'Metaverse': 453, 'Michelin': 454, 'Minting': 455, 'Mobile': 456, 'Monday': 457, 'Month': 458, 'More': 459, 'Moreover': 460, 'Most': 461, 'Moving': 462, 'Mr': 463, 'Mrs': 464, 'Ms': 465, 'Music': 466, 'My': 467, 'Myanmar': 468, 'NFT': 469, 'NFTs': 470, 'NI': 471, 'NSE': 472, 'NTFS': 473, 'Naturally': 474, 'Needles': 475, 'Network': 476, 'Never': 477, 'New': 478, 'News': 479, 'Next': 480, 'Nigeria': 481, 'No': 482, 'Nobody': 483, 'Non': 484, 'None': 485, 'Normally': 486, 'North': 487, 'Not': 488, 'Noted': 489, 'Nothing': 490, 'November': 491, 'Now': 492, 'Nowadays': 493, 'OK': 494, 'OKK': 495, 'OS': 496, 'October': 497, 'Of': 498, 'Off': 499, 'Offering': 500, 'Office': 501, 'Officer': 502, 'Oh': 503, 'Ohio': 504, 'Ok': 505, 'Okay': 506, 'Omji': 507, 'On': 508, 'Once': 509, 'One': 510, 'Only': 511, 'Ontario': 512, 'Optimization': 513, 'Or': 514, 'Originally': 515, 'Others': 516, 'Otherwise': 517, 'Our': 518, 'Out': 519, 'Over': 520, 'Overall': 521, 'PDA': 522, 'PDF': 523, 'PM': 524, 'PPE': 525, 'PR': 526, 'PRO': 527, 'PSAs': 528, 'PVP': 529, 'Pakistan': 530, 'Palm': 531, 'Paper': 532, 'Paris': 533, 'Paying': 534, 'Payment': 535, 'Pelmeni': 536, 'People': 537, 'Perfect': 538, 'Perhaps': 539, 'Philippines': 540, 'Place': 541, 'Please': 542, 'Plenty': 543, 'Plummer': 544, 'Plus': 545, 'Pohang': 546, 'Pot': 547, 'Precisely': 548, 'Precision': 549, 'Predicting': 550, 'President': 551, 'Prices': 552, 'Private': 553, 'Probably': 554, 'Product': 555, 'Publishing': 556, 'Python': 557, 'QR': 558, 'Quality': 559, 'RAM': 560, 'RV': 561, 'Radio': 562, 'Recently': 563, 'Red': 564, 'Regarding': 565, 'Regardless': 566, 'Regrettably': 567, 'Resolution': 568, 'Rest': 569, 'Retailers': 570, 'Right': 571, 'Room': 572, 'SD': 573, 'SEO': 574, 'SIM': 575, 'SKUs': 576, 'SPV': 577, 'SSD': 578, 'SSL': 579, 'Sadly': 580, 'Saeng': 581, 'Sakyamuni': 582, 'Salalah': 583, 'San': 584, 'Sashimi': 585, 'Saturday': 586, 'Sauna': 587, 'Say': 588, 'Schools': 589, 'Search': 590, 'Second': 591, 'Security': 592, 'See': 593, 'Send': 594, 'Seoul': 595, 'September': 596, 'Series': 597, 'Services': 598, 'Several': 599, 'Shall': 600, 'Shampoo': 601, 'Shanghai': 602, 'She': 603, 'Shop': 604, 'Should': 605, 'Signals': 606, 'Signature': 607, 'Similar': 608, 'Simply': 609, 'Since': 610, 'Singapore': 611, 'Singaporean': 612, 'Sir': 613, 'Skim': 614, 'So': 615, 'Social': 616, 'Soju': 617, 'Solar': 618, 'Some': 619, 'Someone': 620, 'Something': 621, 'Sometimes': 622, 'Soon': 623, 'Sorry': 624, 'Sounds': 625, 'South': 626, 'Southeast': 627, 'Spain': 628, 'Spanish': 629, 'Speaking': 630, 'Specifically': 631, 'Springs': 632, 'Square': 633, 'Starting': 634, 'States': 635, 'Station': 636, 'Stay': 637, 'Staying': 638, 'Still': 639, 'Stock': 640, 'Street': 641, 'Stroganoff': 642, 'Submit': 643, 'Submitting': 644, 'Such': 645, 'Sudan': 646, 'Suez': 647, 'Suite': 648, 'Sun': 649, 'Sunday': 650, 'Sure': 651, 'TPU': 652, 'TV': 653, 'Taegeuk': 654, 'Taeguekgi': 655, 'Taiwan': 656, 'Take': 657, 'Task': 658, 'Team': 659, 'Tech': 660, 'Technical': 661, 'Technology': 662, 'Tell': 663, 'Temple': 664, 'Ten': 665, 'Thai': 666, 'Thailand': 667, 'Thank': 668, 'Thanks': 669, 'That': 670, 'The': 671, 'Their': 672, 'Then': 673, 'There': 674, 'Therefore': 675, 'These': 676, 'They': 677, 'Things': 678, 'Third': 679, 'Thirdly': 680, 'This': 681, 'Those': 682, 'Three': 683, 'Through': 684, 'Thursday': 685, 'Thursdays': 686, 'Thus': 687, 'Times': 688, 'To': 689, 'Today': 690, 'Tokens': 691, 'Tokyo': 692, 'Tong': 693, 'Tongdosa': 694, 'Topics': 695, 'Touch': 696, 'Trade': 697, 'Trust': 698, 'Truth': 699, 'Try': 700, 'Tuesday': 701, 'Turkish': 702, 'UI': 703, 'UN': 704, 'US': 705, 'USA': 706, 'USB': 707, 'USBs': 708, 'Ukraine': 709, 'Ulsan': 710, 'Ultimately': 711, 'Under': 712, 'Unfortunately': 713, 'United': 714, 'Universal': 715, 'University': 716, 'Unless': 717, 'Unlike': 718, 'Until': 719, 'Upon': 720, 'Users': 721, 'Using': 722, 'Usually': 723, 'VC': 724, 'VIP': 725, 'VPN': 726, 'VR': 727, 'VVIP': 728, 'Vacationing': 729, 'Various': 730, 'Vegetables': 731, 'Venezuela': 732, 'Very': 733, 'Vietnam': 734, 'View': 735, 'Virtual': 736, 'Visual': 737, 'Visualization': 738, 'WIFI': 739, 'WTO': 740, 'Wait': 741, 'Was': 742, 'We': 743, 'Webcasting': 744, 'Wednesday': 745, 'Welcome': 746, 'Well': 747, 'Were': 748, 'Weren': 749, 'What': 750, 'Whatever': 751, 'WhatsApp': 752, 'When': 753, 'Where': 754, 'Which': 755, 'While': 756, 'Who': 757, 'Whom': 758, 'Why': 759, 'Wi': 760, 'Will': 761, 'Wishing': 762, 'With': 763, 'Without': 764, 'Won': 765, 'Wonderful': 766, 'Wonju': 767, 'Would': 768, 'Wouldn': 769, 'Wow': 770, 'X': 771, 'Yeah': 772, 'Yebool': 773, 'Yellowknife': 774, 'Yes': 775, 'Yet': 776, 'York': 777, 'Yorkshire': 778, 'You': 779, 'Your': 780, 'Yukhoe': 781, 'Yup': 782, 'Zealand': 783, 'a': 784, 'abbreviation': 785, 'ability': 786, 'able': 787, 'about': 788, 'above': 789, 'abroad': 790, 'absent': 791, 'absolutely': 792, 'absorption': 793, 'academe': 794, 'academic': 795, 'accelerate': 796, 'accept': 797, 'acceptable': 798, 'acceptance': 799, 'accepted': 800, 'accepting': 801, 'access': 802, 'accessed': 803, 'accessibility': 804, 'accessible': 805, 'accessing': 806, 'accessories': 807, 'accidental': 808, 'accidentally': 809, 'accidents': 810, 'accommodate': 811, 'accommodating': 812, 'accommodation': 813, 'accommodations': 814, 'accomodating': 815, 'accomplish': 816, 'accomplished': 817, 'accordance': 818, 'according': 819, 'accordingly': 820, 'account': 821, 'accountancy': 822, 'accountant': 823, 'accounted': 824, 'accounting': 825, 'accounts': 826, 'accrual': 827, 'accumulated': 828, 'accuracy': 829, 'accurate': 830, 'accurately': 831, 'achieve': 832, 'achieved': 833, 'achievement': 834, 'achievements': 835, 'achieving': 836, 'acknowledge': 837, 'acne': 838, 'acoustic': 839, 'acoustics': 840, 'acquaint': 841, 'acquire': 842, 'acquired': 843, 'acquiring': 844, 'acquisition': 845, 'across': 846, 'act': 847, 'action': 848, 'actions': 849, 'activate': 850, 'activated': 851, 'active': 852, 'activities': 853, 'activity': 854, 'actors': 855, 'actual': 856, 'actualize': 857, 'actually': 858, 'acute': 859, 'ad': 860, 'adaptations': 861, 'adapter': 862, 'adaptive': 863, 'adaptor': 864, 'adaptors': 865, 'add': 866, 'added': 867, 'addendum': 868, 'adding': 869, 'addition': 870, 'additional': 871, 'address': 872, 'addressed': 873, 'addresses': 874, 'addressing': 875, 'adequately': 876, 'adhere': 877, 'adhesive': 878, 'adjust': 879, 'adjustable': 880, 'adjusted': 881, 'adjustment': 882, 'adjustments': 883, 'administration': 884, 'administrative': 885, 'administrators': 886, 'admission': 887, 'adopt': 888, 'ads': 889, 'adult': 890, 'adults': 891, 'advance': 892, 'advanced': 893, 'advancement': 894, 'advancing': 895, 'advantage': 896, 'advantageous': 897, 'advantages': 898, 'adventure': 899, 'advertise': 900, 'advertisement': 901, 'advertisements': 902, 'advertising': 903, 'adverts': 904, 'advice': 905, 'advisable': 906, 'advise': 907, 'advised': 908, 'advisers': 909, 'advises': 910, 'advisor': 911, 'advisory': 912, 'aesthetic': 913, 'affairs': 914, 'affect': 915, 'affected': 916, 'affecting': 917, 'affects': 918, 'affiliate': 919, 'affiliated': 920, 'affluent': 921, 'afford': 922, 'affordability': 923, 'affordable': 924, 'afloat': 925, 'aforementioned': 926, 'afraid': 927, 'after': 928, 'afternoon': 929, 'afterward': 930, 'again': 931, 'against': 932, 'age': 933, 'aged': 934, 'agencies': 935, 'agency': 936, 'agenda': 937, 'agent': 938, 'ages': 939, 'ago': 940, 'agree': 941, 'agreed': 942, 'agreeing': 943, 'agreement': 944, 'agrees': 945, 'agricultural': 946, 'agriculture': 947, 'ahead': 948, 'aid': 949, 'aids': 950, 'aim': 951, 'aims': 952, 'air': 953, 'aircraft': 954, 'airing': 955, 'airlines': 956, 'airport': 957, 'airports': 958, 'airtime': 959, 'alarm': 960, 'albeit': 961, 'album': 962, 'albums': 963, 'alcohol': 964, 'alcoholic': 965, 'alert': 966, 'algorithm': 967, 'algorithms': 968, 'aligned': 969, 'alkaline': 970, 'all': 971, 'allegations': 972, 'allergic': 973, 'allergies': 974, 'alliance': 975, 'allocate': 976, 'allocation': 977, 'allocations': 978, 'allow': 979, 'allowed': 980, 'allowing': 981, 'allows': 982, 'almost': 983, 'alone': 984, 'along': 985, 'already': 986, 'alright': 987, 'also': 988, 'alternative': 989, 'alternatives': 990, 'although': 991, 'aluminum': 992, 'always': 993, 'am': 994, 'amazing': 995, 'ambassador': 996, 'ambiance': 997, 'ambulation': 998, 'ambulatory': 999, 'amend': 1000, 'amends': 1001, 'amenities': 1002, 'amenity': 1003, 'among': 1004, 'amongst': 1005, 'amount': 1006, 'amounted': 1007, 'amounts': 1008, 'amplifier': 1009, 'amplify': 1010, 'an': 1011, 'analysis': 1012, 'analytics': 1013, 'analyze': 1014, 'analyzing': 1015, 'anchor': 1016, 'ancient': 1017, 'and': 1018, 'android': 1019, 'angel': 1020, 'angle': 1021, 'angry': 1022, 'animal': 1023, 'animated': 1024, 'animations': 1025, 'animators': 1026, 'ankle': 1027, 'anniversary': 1028, 'announce': 1029, 'announcement': 1030, 'announcements': 1031, 'announcers': 1032, 'annual': 1033, 'annually': 1034, 'annum': 1035, 'another': 1036, 'answer': 1037, 'answered': 1038, 'answering': 1039, 'antenna': 1040, 'antivirus': 1041, 'any': 1042, 'anybody': 1043, 'anymore': 1044, 'anyone': 1045, 'anything': 1046, 'anytime': 1047, 'anyway': 1048, 'anywhere': 1049, 'apart': 1050, 'apartment': 1051, 'apartments': 1052, 'apologies': 1053, 'apologize': 1054, 'apology': 1055, 'app': 1056, 'apparent': 1057, 'appeal': 1058, 'appealing': 1059, 'appeals': 1060, 'appear': 1061, 'appearance': 1062, 'appeared': 1063, 'appears': 1064, 'appended': 1065, 'appetizer': 1066, 'apple': 1067, 'appliances': 1068, 'applicable': 1069, 'application': 1070, 'applications': 1071, 'applied': 1072, 'applies': 1073, 'apply': 1074, 'applying': 1075, 'appointment': 1076, 'appraisal': 1077, 'appreciate': 1078, 'appreciated': 1079, 'appreciating': 1080, 'appreciation': 1081, 'approach': 1082, 'approached': 1083, 'appropriate': 1084, 'appropriately': 1085, 'approval': 1086, 'approve': 1087, 'approved': 1088, 'approximately': 1089, 'apps': 1090, 'aprtner': 1091, 'architectural': 1092, 'architecture': 1093, 'archives': 1094, 'are': 1095, 'area': 1096, 'areas': 1097, 'aren': 1098, 'arena': 1099, 'arises': 1100, 'aromatherapy': 1101, 'around': 1102, 'arrange': 1103, 'arranged': 1104, 'arrangement': 1105, 'arrangements': 1106, 'arranger': 1107, 'arrangers': 1108, 'arranging': 1109, 'array': 1110, 'arrival': 1111, 'arrive': 1112, 'arrived': 1113, 'arriving': 1114, 'art': 1115, 'article': 1116, 'articles': 1117, 'artificial': 1118, 'artillery': 1119, 'artist': 1120, 'artists': 1121, 'arts': 1122, 'artwork': 1123, 'artworks': 1124, 'as': 1125, 'asap': 1126, 'ashamed': 1127, 'aside': 1128, 'ask': 1129, 'asked': 1130, 'asking': 1131, 'asks': 1132, 'asleep': 1133, 'asparagus': 1134, 'aspect': 1135, 'aspects': 1136, 'asphalt': 1137, 'assembly': 1138, 'assessing': 1139, 'assessment': 1140, 'asset': 1141, 'assets': 1142, 'assign': 1143, 'assigned': 1144, 'assist': 1145, 'assistance': 1146, 'assistant': 1147, 'assisting': 1148, 'assistive': 1149, 'associate': 1150, 'associated': 1151, 'associates': 1152, 'association': 1153, 'assumed': 1154, 'assuming': 1155, 'assurance': 1156, 'assure': 1157, 'assured': 1158, 'assures': 1159, 'assuring': 1160, 'at': 1161, 'ate': 1162, 'atmosphere': 1163, 'attach': 1164, 'attached': 1165, 'attack': 1166, 'attacks': 1167, 'attain': 1168, 'attains': 1169, 'attempted': 1170, 'attend': 1171, 'attendance': 1172, 'attended': 1173, 'attending': 1174, 'attention': 1175, 'attest': 1176, 'attorney': 1177, 'attract': 1178, 'attracted': 1179, 'attributes': 1180, 'attrition': 1181, 'audience': 1182, 'audiences': 1183, 'audio': 1184, 'audiovisual': 1185, 'audit': 1186, 'audited': 1187, 'auditing': 1188, 'authentic': 1189, 'author': 1190, 'authored': 1191, 'authorities': 1192, 'authority': 1193, 'authorization': 1194, 'authorized': 1195, 'authors': 1196, 'auto': 1197, 'autobiographies': 1198, 'autoclave': 1199, 'automate': 1200, 'automated': 1201, 'automatic': 1202, 'automatically': 1203, 'automation': 1204, 'automobile': 1205, 'automotive': 1206, 'autumn': 1207, 'auxiliary': 1208, 'avail': 1209, 'availability': 1210, 'available': 1211, 'availed': 1212, 'availing': 1213, 'avenue': 1214, 'average': 1215, 'avoid': 1216, 'await': 1217, 'awake': 1218, 'awarded': 1219, 'aware': 1220, 'awareness': 1221, 'away': 1222, 'awesome': 1223, 'ay': 1224, 'babies': 1225, 'baby': 1226, 'back': 1227, 'backdrops': 1228, 'backers': 1229, 'background': 1230, 'backgrounds': 1231, 'backhoe': 1232, 'backing': 1233, 'backlinks': 1234, 'backlog': 1235, 'backup': 1236, 'backward': 1237, 'backyard': 1238, 'bacteria': 1239, 'bad': 1240, 'baffling': 1241, 'baker': 1242, 'bakery': 1243, 'baking': 1244, 'balance': 1245, 'ball': 1246, 'ballpark': 1247, 'bamboo': 1248, 'ban': 1249, 'banana': 1250, 'banchan': 1251, 'band': 1252, 'bands': 1253, 'bandwidth': 1254, 'bank': 1255, 'banker': 1256, 'banking': 1257, 'bankruptcy': 1258, 'banks': 1259, 'banner': 1260, 'banners': 1261, 'banquet': 1262, 'bar': 1263, 'barbecue': 1264, 'barbeque': 1265, 'bare': 1266, 'barely': 1267, 'bargain': 1268, 'barrier': 1269, 'bars': 1270, 'base': 1271, 'based': 1272, 'basement': 1273, 'basic': 1274, 'basically': 1275, 'basics': 1276, 'basis': 1277, 'bass': 1278, 'batch': 1279, 'bath': 1280, 'bathhouses': 1281, 'bathroom': 1282, 'bathrooms': 1283, 'baths': 1284, 'bathtub': 1285, 'batteries': 1286, 'battery': 1287, 'battling': 1288, 'bay': 1289, 'be': 1290, 'beach': 1291, 'beaches': 1292, 'beachside': 1293, 'beakers': 1294, 'beam': 1295, 'bean': 1296, 'bear': 1297, 'bearer': 1298, 'bearing': 1299, 'beats': 1300, 'beautiful': 1301, 'beauty': 1302, 'became': 1303, 'because': 1304, 'become': 1305, 'becomes': 1306, 'becoming': 1307, 'bed': 1308, 'bedroom': 1309, 'bedrooms': 1310, 'beds': 1311, 'beef': 1312, 'been': 1313, 'beeps': 1314, 'beer': 1315, 'before': 1316, 'beforehand': 1317, 'beg': 1318, 'began': 1319, 'begging': 1320, 'begin': 1321, 'beginning': 1322, 'behalf': 1323, 'behavior': 1324, 'behind': 1325, 'being': 1326, 'believe': 1327, 'believes': 1328, 'belly': 1329, 'belongs': 1330, 'below': 1331, 'belts': 1332, 'benchtop': 1333, 'bending': 1334, 'beneficial': 1335, 'beneficiaries': 1336, 'benefit': 1337, 'benefits': 1338, 'bento': 1339, 'berthing': 1340, 'beside': 1341, 'besides': 1342, 'best': 1343, 'bet': 1344, 'beta': 1345, 'better': 1346, 'between': 1347, 'bevel': 1348, 'beverage': 1349, 'beverages': 1350, 'beyond': 1351, 'biannual': 1352, 'bibimbap': 1353, 'bibimnaengmyun': 1354, 'bid': 1355, 'bidding': 1356, 'big': 1357, 'bigger': 1358, 'biggest': 1359, 'bikes': 1360, 'bill': 1361, 'billboards': 1362, 'billed': 1363, 'billing': 1364, 'billion': 1365, 'bills': 1366, 'bins': 1367, 'biodata': 1368, 'biodegradable': 1369, 'biometrics': 1370, 'bird': 1371, 'birds': 1372, 'birthday': 1373, 'biryani': 1374, 'biscuits': 1375, 'bistro': 1376, 'bit': 1377, 'bitcoin': 1378, 'bite': 1379, 'black': 1380, 'blackout': 1381, 'blades': 1382, 'blanks': 1383, 'blending': 1384, 'blends': 1385, 'blessed': 1386, 'blind': 1387, 'blinking': 1388, 'bliss': 1389, 'block': 1390, 'blockchain': 1391, 'blog': 1392, 'blood': 1393, 'blow': 1394, 'blown': 1395, 'blue': 1396, 'blueprint': 1397, 'blurry': 1398, 'board': 1399, 'boarding': 1400, 'boards': 1401, 'boats': 1402, 'bodies': 1403, 'body': 1404, 'bodysuit': 1405, 'bohemian': 1406, 'boiled': 1407, 'boiling': 1408, 'bokkeum': 1409, 'bold': 1410, 'bolder': 1411, 'bond': 1412, 'bonding': 1413, 'bonds': 1414, 'book': 1415, 'booked': 1416, 'booking': 1417, 'bookings': 1418, 'bookrunners': 1419, 'books': 1420, 'bookstores': 1421, 'boom': 1422, 'boost': 1423, 'booting': 1424, 'boots': 1425, 'border': 1426, 'bore': 1427, 'bored': 1428, 'boring': 1429, 'born': 1430, 'borrow': 1431, 'borrower': 1432, 'borrowing': 1433, 'boss': 1434, 'bot': 1435, 'both': 1436, 'bothering': 1437, 'bottle': 1438, 'bottles': 1439, 'bottom': 1440, 'bought': 1441, 'bow': 1442, 'bowl': 1443, 'bowls': 1444, 'box': 1445, 'boxes': 1446, 'boy': 1447, 'bragging': 1448, 'braille': 1449, 'brainstorm': 1450, 'brake': 1451, 'branch': 1452, 'branches': 1453, 'brand': 1454, 'branded': 1455, 'branding': 1456, 'brands': 1457, 'brave': 1458, 'breach': 1459, 'breached': 1460, 'breaches': 1461, 'bread': 1462, 'break': 1463, 'breakdown': 1464, 'breakdowns': 1465, 'breakeven': 1466, 'breakfast': 1467, 'breast': 1468, 'breathing': 1469, 'breathtaking': 1470, 'breeding': 1471, 'breeze': 1472, 'brewed': 1473, 'bride': 1474, 'bridge': 1475, 'brief': 1476, 'briefing': 1477, 'brilliant': 1478, 'bring': 1479, 'bringer': 1480, 'bringing': 1481, 'brings': 1482, 'broadband': 1483, 'broadcast': 1484, 'broadcasted': 1485, 'broadcasting': 1486, 'brochure': 1487, 'brochures': 1488, 'broken': 1489, 'broker': 1490, 'brokerage': 1491, 'brokerages': 1492, 'brokers': 1493, 'bronze': 1494, 'broth': 1495, 'brother': 1496, 'brought': 1497, 'browse': 1498, 'browser': 1499, 'browsers': 1500, 'browsing': 1501, 'bubble': 1502, 'bucks': 1503, 'budget': 1504, 'buffet': 1505, 'bug': 1506, 'bugs': 1507, 'build': 1508, 'building': 1509, 'builds': 1510, 'built': 1511, 'bulgogi': 1512, 'bulk': 1513, 'bull': 1514, 'bulldozer': 1515, 'bunch': 1516, 'bundle': 1517, 'burners': 1518, 'bus': 1519, 'buses': 1520, 'business': 1521, 'businesses': 1522, 'businessman': 1523, 'businesswoman': 1524, 'busy': 1525, 'but': 1526, 'butterfly': 1527, 'button': 1528, 'buttons': 1529, 'buy': 1530, 'buyer': 1531, 'buyers': 1532, 'buying': 1533, 'by': 1534, 'bye': 1535, 'bytes': 1536, 'cabin': 1537, 'cabinets': 1538, 'cable': 1539, 'caching': 1540, 'caf': 1541, 'cafe': 1542, 'cafeteria': 1543, 'cake': 1544, 'calculate': 1545, 'calculated': 1546, 'calculations': 1547, 'calendar': 1548, 'call': 1549, 'called': 1550, 'calligraphy': 1551, 'calling': 1552, 'calls': 1553, 'calm': 1554, 'calming': 1555, 'cam': 1556, 'came': 1557, 'camera': 1558, 'cameras': 1559, 'camp': 1560, 'campaign': 1561, 'campaigns': 1562, 'camper': 1563, 'campfire': 1564, 'campground': 1565, 'camping': 1566, 'campsite': 1567, 'campsites': 1568, 'campus': 1569, 'can': 1570, 'cancel': 1571, 'cancelation': 1572, 'cancelations': 1573, 'canceled': 1574, 'canceling': 1575, 'cancellation': 1576, 'cancellations': 1577, 'cancelled': 1578, 'candies': 1579, 'candles': 1580, 'cannot': 1581, 'canteen': 1582, 'cap': 1583, 'capable': 1584, 'capacity': 1585, 'capital': 1586, 'capitalists': 1587, 'capture': 1588, 'capturing': 1589, 'car': 1590, 'carbon': 1591, 'carburetor': 1592, 'carburetors': 1593, 'card': 1594, 'cardiac': 1595, 'cards': 1596, 'care': 1597, 'career': 1598, 'careers': 1599, 'careful': 1600, 'carefully': 1601, 'cargo': 1602, 'carpeted': 1603, 'carried': 1604, 'carrier': 1605, 'carrot': 1606, 'carry': 1607, 'carrying': 1608, 'cars': 1609, 'cart': 1610, 'carton': 1611, 'cartoon': 1612, 'carts': 1613, 'case': 1614, 'cases': 1615, 'cash': 1616, 'cashier': 1617, 'cashless': 1618, 'casino': 1619, 'cast': 1620, 'casual': 1621, 'casualties': 1622, 'cat': 1623, 'catalog': 1624, 'catalogue': 1625, 'catastrophe': 1626, 'catch': 1627, 'categories': 1628, 'category': 1629, 'cater': 1630, 'caterers': 1631, 'catering': 1632, 'caterpillar': 1633, 'caught': 1634, 'cause': 1635, 'caused': 1636, 'causes': 1637, 'causing': 1638, 'cautious': 1639, 'cautiously': 1640, 'ceiling': 1641, 'ceilings': 1642, 'celebrate': 1643, 'celebration': 1644, 'celebrities': 1645, 'celebrity': 1646, 'celeriac': 1647, 'cell': 1648, 'center': 1649, 'centers': 1650, 'centimeter': 1651, 'centrifugal': 1652, 'centrifuge': 1653, 'centrifuges': 1654, 'cents': 1655, 'century': 1656, 'ceremonies': 1657, 'ceremony': 1658, 'certain': 1659, 'certainly': 1660, 'certificate': 1661, 'certificates': 1662, 'certification': 1663, 'certified': 1664, 'chain': 1665, 'chair': 1666, 'chairman': 1667, 'chairs': 1668, 'challenge': 1669, 'challenged': 1670, 'challenges': 1671, 'challenging': 1672, 'chamber': 1673, 'champagne': 1674, 'chance': 1675, 'chances': 1676, 'change': 1677, 'changed': 1678, 'changes': 1679, 'changing': 1680, 'channel': 1681, 'channels': 1682, 'chapbooks': 1683, 'characteristics': 1684, 'characters': 1685, 'charcoal': 1686, 'charge': 1687, 'charged': 1688, 'charger': 1689, 'charges': 1690, 'charging': 1691, 'charitable': 1692, 'charity': 1693, 'charm': 1694, 'chart': 1695, 'chasing': 1696, 'chat': 1697, 'chatroom': 1698, 'cheap': 1699, 'cheaper': 1700, 'cheapest': 1701, 'check': 1702, 'checked': 1703, 'checking': 1704, 'checklist': 1705, 'checkout': 1706, 'checks': 1707, 'checkup': 1708, 'cheerful': 1709, 'cheers': 1710, 'cheesecakes': 1711, 'chef': 1712, 'chefs': 1713, 'chemistry': 1714, 'cheque': 1715, 'chew': 1716, 'chicken': 1717, 'child': 1718, 'childhood': 1719, 'children': 1720, 'chili': 1721, 'chill': 1722, 'chilled': 1723, 'chimaek': 1724, 'chip': 1725, 'chips': 1726, 'chipsets': 1727, 'chitchat': 1728, 'chocolate': 1729, 'choice': 1730, 'choices': 1731, 'choose': 1732, 'choosing': 1733, 'chopstick': 1734, 'chopsticks': 1735, 'chores': 1736, 'chose': 1737, 'chosen': 1738, 'ciphertext': 1739, 'circuits': 1740, 'circulation': 1741, 'circumstance': 1742, 'circumstances': 1743, 'cities': 1744, 'citizen': 1745, 'citizens': 1746, 'citizenship': 1747, 'city': 1748, 'civil': 1749, 'claim': 1750, 'claiming': 1751, 'claims': 1752, 'clarify': 1753, 'clarifying': 1754, 'clarity': 1755, 'class': 1756, 'classes': 1757, 'classification': 1758, 'classmates': 1759, 'classroom': 1760, 'classrooms': 1761, 'clauses': 1762, 'clean': 1763, 'cleaner': 1764, 'cleaners': 1765, 'cleaning': 1766, 'cleansing': 1767, 'clear': 1768, 'clearance': 1769, 'cleared': 1770, 'clearer': 1771, 'clearly': 1772, 'clerk': 1773, 'clever': 1774, 'click': 1775, 'client': 1776, 'clientele': 1777, 'clients': 1778, 'climate': 1779, 'clinic': 1780, 'clinical': 1781, 'clip': 1782, 'clips': 1783, 'clock': 1784, 'clogged': 1785, 'close': 1786, 'closed': 1787, 'closely': 1788, 'closer': 1789, 'closes': 1790, 'closest': 1791, 'closet': 1792, 'closing': 1793, 'clothes': 1794, 'clothing': 1795, 'cloud': 1796, 'clouds': 1797, 'clubhouse': 1798, 'cluster': 1799, 'co': 1800, 'coach': 1801, 'coaches': 1802, 'coaching': 1803, 'coarrangers': 1804, 'coastal': 1805, 'cocks': 1806, 'cocktails': 1807, 'coconut': 1808, 'code': 1809, 'codebreaker': 1810, 'codes': 1811, 'coding': 1812, 'coffee': 1813, 'cogent': 1814, 'coins': 1815, 'cold': 1816, 'coliving': 1817, 'collaborate': 1818, 'collaborating': 1819, 'collaboration': 1820, 'collar': 1821, 'collateral': 1822, 'colleague': 1823, 'colleagues': 1824, 'collect': 1825, 'collectibles': 1826, 'collecting': 1827, 'collection': 1828, 'collective': 1829, 'collects': 1830, 'college': 1831, 'colleges': 1832, 'color': 1833, 'colored': 1834, 'colors': 1835, 'column': 1836, 'combination': 1837, 'combinations': 1838, 'combine': 1839, 'combustion': 1840, 'come': 1841, 'comes': 1842, 'comfort': 1843, 'comfortable': 1844, 'comfortably': 1845, 'coming': 1846, 'comm': 1847, 'commemorative': 1848, 'comment': 1849, 'comments': 1850, 'commerce': 1851, 'commercial': 1852, 'commission': 1853, 'commissioned': 1854, 'commissions': 1855, 'commit': 1856, 'commitment': 1857, 'commitments': 1858, 'committed': 1859, 'commodity': 1860, 'common': 1861, 'commonly': 1862, 'communal': 1863, 'communicate': 1864, 'communicated': 1865, 'communicating': 1866, 'communication': 1867, 'communications': 1868, 'communicative': 1869, 'communicator': 1870, 'communities': 1871, 'community': 1872, 'commuting': 1873, 'companies': 1874, 'company': 1875, 'compare': 1876, 'compared': 1877, 'comparison': 1878, 'compartments': 1879, 'compassionate': 1880, 'compatible': 1881, 'compelling': 1882, 'compensate': 1883, 'compensated': 1884, 'compensation': 1885, 'compete': 1886, 'competition': 1887, 'competitive': 1888, 'competitiveness': 1889, 'competitors': 1890, 'compiling': 1891, 'complain': 1892, 'complained': 1893, 'complaining': 1894, 'complaint': 1895, 'complaints': 1896, 'complete': 1897, 'completed': 1898, 'completely': 1899, 'completion': 1900, 'complex': 1901, 'compliance': 1902, 'complicated': 1903, 'complied': 1904, 'compliment': 1905, 'complimentary': 1906, 'compliments': 1907, 'comply': 1908, 'component': 1909, 'components': 1910, 'composed': 1911, 'composer': 1912, 'compound': 1913, 'comprehension': 1914, 'comprehensive': 1915, 'compressed': 1916, 'compression': 1917, 'compressor': 1918, 'compressors': 1919, 'compromise': 1920, 'compromising': 1921, 'computer': 1922, 'computers': 1923, 'computing': 1924, 'concentrate': 1925, 'concept': 1926, 'concepts': 1927, 'conceptual': 1928, 'concern': 1929, 'concerned': 1930, 'concerning': 1931, 'concerns': 1932, 'concert': 1933, 'concerts': 1934, 'concessions': 1935, 'conclusion': 1936, 'concrete': 1937, 'concretely': 1938, 'condenser': 1939, 'condiments': 1940, 'condition': 1941, 'conditioned': 1942, 'conditioner': 1943, 'conditioning': 1944, 'conditions': 1945, 'condo': 1946, 'conduct': 1947, 'conducted': 1948, 'conducting': 1949, 'conductors': 1950, 'conference': 1951, 'conferences': 1952, 'conferencing': 1953, 'confidence': 1954, 'confident': 1955, 'confidential': 1956, 'confidentiality': 1957, 'configurations': 1958, 'configure': 1959, 'confirm': 1960, 'confirmation': 1961, 'confirmed': 1962, 'confirming': 1963, 'confused': 1964, 'congested': 1965, 'congestion': 1966, 'congrats': 1967, 'congratulate': 1968, 'congratulations': 1969, 'connect': 1970, 'connected': 1971, 'connecting': 1972, 'connection': 1973, 'connections': 1974, 'connectivity': 1975, 'connects': 1976, 'cons': 1977, 'conscientious': 1978, 'conscious': 1979, 'consciousness': 1980, 'consequences': 1981, 'consider': 1982, 'considerable': 1983, 'consideration': 1984, 'considered': 1985, 'considering': 1986, 'consignment': 1987, 'consist': 1988, 'consistent': 1989, 'consists': 1990, 'consoles': 1991, 'consolidate': 1992, 'constant': 1993, 'constantly': 1994, 'construct': 1995, 'constructed': 1996, 'construction': 1997, 'constructive': 1998, 'consult': 1999, 'consultancy': 2000, 'consultant': 2001, 'consultants': 2002, 'consultation': 2003, 'consulted': 2004, 'consulting': 2005, 'consume': 2006, 'consumers': 2007, 'consuming': 2008, 'consumption': 2009, 'contact': 2010, 'contacted': 2011, 'contacting': 2012, 'contacts': 2013, 'contain': 2014, 'container': 2015, 'containers': 2016, 'containing': 2017, 'contains': 2018, 'contemplate': 2019, 'contemporary': 2020, 'contenders': 2021, 'content': 2022, 'contents': 2023, 'context': 2024, 'continent': 2025, 'continental': 2026, 'continue': 2027, 'continuous': 2028, 'continuously': 2029, 'contract': 2030, 'contracted': 2031, 'contracts': 2032, 'contrary': 2033, 'contribute': 2034, 'contributed': 2035, 'contributes': 2036, 'contribution': 2037, 'contributors': 2038, 'control': 2039, 'controlled': 2040, 'controversial': 2041, 'convenience': 2042, 'convenient': 2043, 'conventional': 2044, 'conversation': 2045, 'conversational': 2046, 'conversations': 2047, 'conversion': 2048, 'conversions': 2049, 'converted': 2050, 'converting': 2051, 'convey': 2052, 'conveyor': 2053, 'conveyors': 2054, 'convince': 2055, 'convincing': 2056, 'cook': 2057, 'cooked': 2058, 'cookies': 2059, 'cooking': 2060, 'cooks': 2061, 'cool': 2062, 'cooldown': 2063, 'coolers': 2064, 'cooling': 2065, 'cooperation': 2066, 'cooperative': 2067, 'cooperatives': 2068, 'coordinate': 2069, 'coordinates': 2070, 'copay': 2071, 'copiers': 2072, 'copies': 2073, 'copy': 2074, 'copyediting': 2075, 'copyright': 2076, 'copyrighted': 2077, 'copyrights': 2078, 'cords': 2079, 'core': 2080, 'corkage': 2081, 'corn': 2082, 'corner': 2083, 'coronavirus': 2084, 'corporate': 2085, 'corporation': 2086, 'corporations': 2087, 'correct': 2088, 'correctly': 2089, 'cosigner': 2090, 'cosmetic': 2091, 'cosmetics': 2092, 'cosmic': 2093, 'cost': 2094, 'costs': 2095, 'cotton': 2096, 'could': 2097, 'couldn': 2098, 'council': 2099, 'counseling': 2100, 'count': 2101, 'countdown': 2102, 'counterpart': 2103, 'counting': 2104, 'countries': 2105, 'country': 2106, 'countryside': 2107, 'couple': 2108, 'coupled': 2109, 'coupon': 2110, 'courier': 2111, 'course': 2112, 'coursed': 2113, 'courses': 2114, 'court': 2115, 'cousin': 2116, 'cover': 2117, 'coverage': 2118, 'covered': 2119, 'covers': 2120, 'cozy': 2121, 'crab': 2122, 'cracks': 2123, 'crane': 2124, 'cranes': 2125, 'crash': 2126, 'crashed': 2127, 'crashing': 2128, 'cream': 2129, 'create': 2130, 'created': 2131, 'creates': 2132, 'creating': 2133, 'creation': 2134, 'creative': 2135, 'creatives': 2136, 'creator': 2137, 'creators': 2138, 'credentials': 2139, 'credit': 2140, 'credited': 2141, 'creditor': 2142, 'creditors': 2143, 'credits': 2144, 'creditworthy': 2145, 'crib': 2146, 'crime': 2147, 'crimes': 2148, 'criminals': 2149, 'criteria': 2150, 'critical': 2151, 'critics': 2152, 'croissants': 2153, 'crooks': 2154, 'crop': 2155, 'crops': 2156, 'cross': 2157, 'crossed': 2158, 'crowd': 2159, 'crowdfunding': 2160, 'crucial': 2161, 'crude': 2162, 'crux': 2163, 'crypto': 2164, 'cryptocurrencies': 2165, 'cryptocurrency': 2166, 'cryptography': 2167, 'cues': 2168, 'cuisine': 2169, 'culinary': 2170, 'culprits': 2171, 'cultivating': 2172, 'cultural': 2173, 'culture': 2174, 'cumbersome': 2175, 'cup': 2176, 'curious': 2177, 'currencies': 2178, 'currency': 2179, 'current': 2180, 'currently': 2181, 'cursive': 2182, 'curtains': 2183, 'curve': 2184, 'cushion': 2185, 'custom': 2186, 'customer': 2187, 'customers': 2188, 'customizable': 2189, 'customization': 2190, 'customize': 2191, 'customized': 2192, 'customs': 2193, 'cut': 2194, 'cutlery': 2195, 'cuts': 2196, 'cutter': 2197, 'cutters': 2198, 'cutting': 2199, 'cyber': 2200, 'cybercrime': 2201, 'cybersecurity': 2202, 'cycle': 2203, 'cylinder': 2204, 'cylinders': 2205, 'd': 2206, 'daily': 2207, 'dairy': 2208, 'damage': 2209, 'damaged': 2210, 'damages': 2211, 'dancing': 2212, 'dangerous': 2213, 'dangers': 2214, 'dark': 2215, 'data': 2216, 'database': 2217, 'date': 2218, 'dated': 2219, 'dates': 2220, 'dating': 2221, 'daunting': 2222, 'day': 2223, 'days': 2224, 'deadline': 2225, 'deadlines': 2226, 'deaf': 2227, 'deal': 2228, 'dealer': 2229, 'dealers': 2230, 'dealership': 2231, 'dealing': 2232, 'deals': 2233, 'debit': 2234, 'debt': 2235, 'debtee': 2236, 'debtor': 2237, 'debtors': 2238, 'debts': 2239, 'debut': 2240, 'decade': 2241, 'decades': 2242, 'decent': 2243, 'decide': 2244, 'decided': 2245, 'decides': 2246, 'deciding': 2247, 'decision': 2248, 'decisions': 2249, 'deck': 2250, 'decks': 2251, 'declare': 2252, 'decline': 2253, 'declined': 2254, 'declining': 2255, 'decode': 2256, 'decorate': 2257, 'decorations': 2258, 'decrease': 2259, 'decryption': 2260, 'dedicate': 2261, 'dedicated': 2262, 'deduct': 2263, 'deducted': 2264, 'deducting': 2265, 'deeds': 2266, 'deep': 2267, 'deeply': 2268, 'default': 2269, 'defaulter': 2270, 'defect': 2271, 'defective': 2272, 'defects': 2273, 'defense': 2274, 'deficit': 2275, 'deficits': 2276, 'defined': 2277, 'definite': 2278, 'definitely': 2279, 'definition': 2280, 'degree': 2281, 'dehydration': 2282, 'delay': 2283, 'delayed': 2284, 'delays': 2285, 'delegates': 2286, 'delete': 2287, 'deleted': 2288, 'delicious': 2289, 'delight': 2290, 'delighted': 2291, 'delightful': 2292, 'delineates': 2293, 'deliver': 2294, 'delivered': 2295, 'deliveries': 2296, 'delivering': 2297, 'delivers': 2298, 'delivery': 2299, 'deluxe': 2300, 'demand': 2301, 'demanded': 2302, 'demanding': 2303, 'demands': 2304, 'demat': 2305, 'demerits': 2306, 'demographics': 2307, 'demonstration': 2308, 'demos': 2309, 'dental': 2310, 'deny': 2311, 'department': 2312, 'departments': 2313, 'depend': 2314, 'dependable': 2315, 'dependents': 2316, 'depending': 2317, 'depends': 2318, 'deploy': 2319, 'deployment': 2320, 'deposit': 2321, 'deposited': 2322, 'depositing': 2323, 'deposits': 2324, 'derrick': 2325, 'describe': 2326, 'description': 2327, 'descriptions': 2328, 'deserve': 2329, 'design': 2330, 'designation': 2331, 'designed': 2332, 'designer': 2333, 'designers': 2334, 'designs': 2335, 'desire': 2336, 'desired': 2337, 'desk': 2338, 'desktop': 2339, 'desperately': 2340, 'despite': 2341, 'dessert': 2342, 'desserts': 2343, 'destination': 2344, 'destinations': 2345, 'destroys': 2346, 'detail': 2347, 'detailed': 2348, 'detailing': 2349, 'details': 2350, 'detected': 2351, 'detects': 2352, 'determine': 2353, 'determined': 2354, 'determines': 2355, 'determining': 2356, 'develop': 2357, 'developed': 2358, 'developer': 2359, 'developers': 2360, 'developing': 2361, 'development': 2362, 'developments': 2363, 'develops': 2364, 'deviate': 2365, 'device': 2366, 'devices': 2367, 'devoted': 2368, 'devoting': 2369, 'diagnosis': 2370, 'diagnostics': 2371, 'dial': 2372, 'dialed': 2373, 'diameter': 2374, 'did': 2375, 'didn': 2376, 'diesel': 2377, 'diet': 2378, 'dietary': 2379, 'differ': 2380, 'difference': 2381, 'differences': 2382, 'different': 2383, 'differentiates': 2384, 'differently': 2385, 'difficult': 2386, 'difficulties': 2387, 'difficulty': 2388, 'digital': 2389, 'digitalize': 2390, 'digits': 2391, 'diligence': 2392, 'diligently': 2393, 'dimension': 2394, 'dimensions': 2395, 'dine': 2396, 'dining': 2397, 'dinner': 2398, 'dinning': 2399, 'dip': 2400, 'diplomas': 2401, 'dipped': 2402, 'direct': 2403, 'directed': 2404, 'direction': 2405, 'directly': 2406, 'director': 2407, 'directors': 2408, 'disabilities': 2409, 'disabled': 2410, 'disagree': 2411, 'disappointed': 2412, 'disappointment': 2413, 'disaster': 2414, 'disasters': 2415, 'disc': 2416, 'discount': 2417, 'discounted': 2418, 'discounts': 2419, 'discover': 2420, 'discovered': 2421, 'discovery': 2422, 'discrepancies': 2423, 'discuss': 2424, 'discussed': 2425, 'discussing': 2426, 'discussion': 2427, 'discussions': 2428, 'disease': 2429, 'diseases': 2430, 'dish': 2431, 'dishe': 2432, 'dishes': 2433, 'dismantle': 2434, 'dispatch': 2435, 'dispatched': 2436, 'dispatching': 2437, 'dispersing': 2438, 'display': 2439, 'displayed': 2440, 'displaying': 2441, 'disposal': 2442, 'disputes': 2443, 'disruption': 2444, 'distance': 2445, 'distinct': 2446, 'distinction': 2447, 'distinguish': 2448, 'distract': 2449, 'distress': 2450, 'distribute': 2451, 'distributed': 2452, 'distributing': 2453, 'distribution': 2454, 'distributor': 2455, 'distributorship': 2456, 'district': 2457, 'disturb': 2458, 'disturbed': 2459, 'disturbing': 2460, 'diverse': 2461, 'diversify': 2462, 'diversity': 2463, 'diverting': 2464, 'divide': 2465, 'divided': 2466, 'dividend': 2467, 'division': 2468, 'do': 2469, 'doable': 2470, 'doctor': 2471, 'doctors': 2472, 'document': 2473, 'documentaries': 2474, 'documentary': 2475, 'documentation': 2476, 'documenting': 2477, 'documents': 2478, 'does': 2479, 'doesn': 2480, 'dog': 2481, 'dogs': 2482, 'doing': 2483, 'doings': 2484, 'doljanchi': 2485, 'dollar': 2486, 'dollars': 2487, 'domain': 2488, 'dome': 2489, 'domestic': 2490, 'don': 2491, 'donate': 2492, 'donation': 2493, 'donations': 2494, 'done': 2495, 'donut': 2496, 'door': 2497, 'doors': 2498, 'dorm': 2499, 'dormitory': 2500, 'dosirak': 2501, 'double': 2502, 'doubled': 2503, 'doubt': 2504, 'doubts': 2505, 'down': 2506, 'downhill': 2507, 'download': 2508, 'downloaded': 2509, 'downpayment': 2510, 'downs': 2511, 'downside': 2512, 'downtown': 2513, 'downturn': 2514, 'dozers': 2515, 'draft': 2516, 'drafted': 2517, 'drafting': 2518, 'drafts': 2519, 'drain': 2520, 'dramas': 2521, 'dramatically': 2522, 'draw': 2523, 'drawer': 2524, 'drawing': 2525, 'drawings': 2526, 'draws': 2527, 'dress': 2528, 'dressers': 2529, 'dressing': 2530, 'drilling': 2531, 'drink': 2532, 'drinking': 2533, 'drinks': 2534, 'drive': 2535, 'driven': 2536, 'driver': 2537, 'drivers': 2538, 'driving': 2539, 'drop': 2540, 'dropped': 2541, 'dropping': 2542, 'drops': 2543, 'drug': 2544, 'drum': 2545, 'dry': 2546, 'dryer': 2547, 'dual': 2548, 'dude': 2549, 'due': 2550, 'duly': 2551, 'dump': 2552, 'dumpling': 2553, 'duplicate': 2554, 'durable': 2555, 'duration': 2556, 'during': 2557, 'dust': 2558, 'duties': 2559, 'duty': 2560, 'dyeing': 2561, 'dying': 2562, 'e': 2563, 'each': 2564, 'eager': 2565, 'eagerly': 2566, 'earlier': 2567, 'earliest': 2568, 'early': 2569, 'earn': 2570, 'earnings': 2571, 'ears': 2572, 'earth': 2573, 'ease': 2574, 'eased': 2575, 'easier': 2576, 'easiest': 2577, 'easily': 2578, 'easing': 2579, 'easy': 2580, 'eat': 2581, 'eaten': 2582, 'eating': 2583, 'echo': 2584, 'eclectic': 2585, 'eco': 2586, 'economy': 2587, 'ecstatic': 2588, 'edge': 2589, 'edit': 2590, 'edited': 2591, 'editing': 2592, 'edition': 2593, 'editorial': 2594, 'editors': 2595, 'educate': 2596, 'educated': 2597, 'educating': 2598, 'education': 2599, 'educational': 2600, 'edutainment': 2601, 'effect': 2602, 'effective': 2603, 'effectively': 2604, 'effectiveness': 2605, 'effects': 2606, 'efficiency': 2607, 'efficient': 2608, 'efficiently': 2609, 'effort': 2610, 'efforts': 2611, 'egg': 2612, 'eggs': 2613, 'eight': 2614, 'either': 2615, 'ejection': 2616, 'elaborate': 2617, 'elder': 2618, 'elders': 2619, 'eldest': 2620, 'electric': 2621, 'electrical': 2622, 'electricity': 2623, 'electro': 2624, 'electroencephalography': 2625, 'electromagnetic': 2626, 'electronic': 2627, 'electronically': 2628, 'electronics': 2629, 'elegant': 2630, 'element': 2631, 'elements': 2632, 'elevated': 2633, 'eligibility': 2634, 'eligible': 2635, 'eliminate': 2636, 'elliptical': 2637, 'else': 2638, 'elsewhere': 2639, 'email': 2640, 'emailed': 2641, 'emailing': 2642, 'emails': 2643, 'embarrassed': 2644, 'embody': 2645, 'embossing': 2646, 'embroidery': 2647, 'emergencies': 2648, 'emergency': 2649, 'emerging': 2650, 'emotions': 2651, 'emphasis': 2652, 'employ': 2653, 'employed': 2654, 'employee': 2655, 'employees': 2656, 'employers': 2657, 'employing': 2658, 'empty': 2659, 'emulsion': 2660, 'enable': 2661, 'enabled': 2662, 'enables': 2663, 'encapsulation': 2664, 'encoded': 2665, 'encounter': 2666, 'encountered': 2667, 'encourage': 2668, 'encourages': 2669, 'encrypt': 2670, 'encrypted': 2671, 'encryption': 2672, 'end': 2673, 'endangering': 2674, 'ended': 2675, 'ending': 2676, 'ends': 2677, 'energy': 2678, 'enforce': 2679, 'enforced': 2680, 'enforcements': 2681, 'engage': 2682, 'engaged': 2683, 'engagements': 2684, 'engaging': 2685, 'engine': 2686, 'engineer': 2687, 'engineering': 2688, 'engineers': 2689, 'engines': 2690, 'enhance': 2691, 'enhanced': 2692, 'enhancement': 2693, 'enhances': 2694, 'enjoy': 2695, 'enjoyed': 2696, 'enjoying': 2697, 'enlighten': 2698, 'enlist': 2699, 'enormously': 2700, 'enough': 2701, 'enquire': 2702, 'enroll': 2703, 'enrolled': 2704, 'ensure': 2705, 'ensured': 2706, 'ensures': 2707, 'entail': 2708, 'enter': 2709, 'entered': 2710, 'entering': 2711, 'enterprise': 2712, 'enterprises': 2713, 'enters': 2714, 'entertain': 2715, 'entertained': 2716, 'entertaining': 2717, 'entertainment': 2718, 'entire': 2719, 'entirely': 2720, 'entitled': 2721, 'entity': 2722, 'entrance': 2723, 'entree': 2724, 'entrees': 2725, 'entrepreneur': 2726, 'entrepreneurship': 2727, 'entries': 2728, 'environment': 2729, 'environmental': 2730, 'environments': 2731, 'episode': 2732, 'episodes': 2733, 'equal': 2734, 'equals': 2735, 'equipment': 2736, 'equipments': 2737, 'equipped': 2738, 'equity': 2739, 'equivalent': 2740, 'erased': 2741, 'erecting': 2742, 'error': 2743, 'errors': 2744, 'escalated': 2745, 'escaping': 2746, 'especially': 2747, 'essential': 2748, 'essentially': 2749, 'establish': 2750, 'established': 2751, 'establishing': 2752, 'establishment': 2753, 'establishments': 2754, 'estate': 2755, 'estimate': 2756, 'estimated': 2757, 'estimates': 2758, 'etc': 2759, 'ethical': 2760, 'etiquette': 2761, 'evacuation': 2762, 'evading': 2763, 'evaluate': 2764, 'evaluated': 2765, 'evaluating': 2766, 'evaluation': 2767, 'evaporator': 2768, 'evasion': 2769, 'even': 2770, 'evening': 2771, 'event': 2772, 'events': 2773, 'eventuality': 2774, 'eventually': 2775, 'ever': 2776, 'every': 2777, 'everyday': 2778, 'everyone': 2779, 'everything': 2780, 'evidence': 2781, 'evidentiary': 2782, 'evil': 2783, 'evolution': 2784, 'evolved': 2785, 'evolving': 2786, 'exact': 2787, 'exactly': 2788, 'exam': 2789, 'examined': 2790, 'example': 2791, 'examples': 2792, 'exams': 2793, 'excavator': 2794, 'excavators': 2795, 'exceeded': 2796, 'exceeds': 2797, 'excellent': 2798, 'except': 2799, 'exceptional': 2800, 'excess': 2801, 'exchange': 2802, 'exchanges': 2803, 'exchanging': 2804, 'excited': 2805, 'exciting': 2806, 'exclude': 2807, 'excluding': 2808, 'exclusive': 2809, 'exclusively': 2810, 'excuse': 2811, 'excused': 2812, 'excuses': 2813, 'execute': 2814, 'executes': 2815, 'execution': 2816, 'executive': 2817, 'executives': 2818, 'executor': 2819, 'exerting': 2820, 'exhausted': 2821, 'exhibit': 2822, 'exhibition': 2823, 'exihibit': 2824, 'exist': 2825, 'existing': 2826, 'exit': 2827, 'exotic': 2828, 'expand': 2829, 'expandable': 2830, 'expanded': 2831, 'expanding': 2832, 'expansion': 2833, 'expat': 2834, 'expect': 2835, 'expectations': 2836, 'expected': 2837, 'expecting': 2838, 'expedition': 2839, 'expenditure': 2840, 'expenditures': 2841, 'expense': 2842, 'expenses': 2843, 'expensive': 2844, 'experience': 2845, 'experienced': 2846, 'experiences': 2847, 'experiencing': 2848, 'experimental': 2849, 'expert': 2850, 'expertise': 2851, 'experts': 2852, 'expire': 2853, 'expires': 2854, 'explain': 2855, 'explained': 2856, 'explaining': 2857, 'explains': 2858, 'explanation': 2859, 'explanations': 2860, 'exploration': 2861, 'explore': 2862, 'expo': 2863, 'export': 2864, 'exported': 2865, 'exporter': 2866, 'exporting': 2867, 'exports': 2868, 'exposes': 2869, 'exposure': 2870, 'express': 2871, 'expressions': 2872, 'exquisite': 2873, 'extend': 2874, 'extended': 2875, 'extender': 2876, 'extenders': 2877, 'extending': 2878, 'extends': 2879, 'extension': 2880, 'extensive': 2881, 'exterior': 2882, 'external': 2883, 'externally': 2884, 'extra': 2885, 'extract': 2886, 'extraction': 2887, 'extracts': 2888, 'extremely': 2889, 'extruder': 2890, 'extruders': 2891, 'eye': 2892, 'eyes': 2893, 'fabric': 2894, 'fabrication': 2895, 'face': 2896, 'faced': 2897, 'faces': 2898, 'facial': 2899, 'facilitate': 2900, 'facilities': 2901, 'facility': 2902, 'facing': 2903, 'fact': 2904, 'factor': 2905, 'factors': 2906, 'factory': 2907, 'factual': 2908, 'factually': 2909, 'faculty': 2910, 'fail': 2911, 'failed': 2912, 'fails': 2913, 'failure': 2914, 'fair': 2915, 'fairly': 2916, 'fall': 2917, 'fallen': 2918, 'falling': 2919, 'fallout': 2920, 'falls': 2921, 'familiar': 2922, 'families': 2923, 'family': 2924, 'famous': 2925, 'fan': 2926, 'fanbase': 2927, 'fancy': 2928, 'fans': 2929, 'fantastic': 2930, 'far': 2931, 'fare': 2932, 'farm': 2933, 'farmers': 2934, 'farthest': 2935, 'fascinating': 2936, 'fashion': 2937, 'fast': 2938, 'fasteners': 2939, 'faster': 2940, 'fastest': 2941, 'fat': 2942, 'father': 2943, 'fault': 2944, 'faulty': 2945, 'favor': 2946, 'favorable': 2947, 'favorite': 2948, 'favorites': 2949, 'favoritism': 2950, 'fax': 2951, 'fear': 2952, 'feasibility': 2953, 'feasible': 2954, 'feature': 2955, 'featured': 2956, 'features': 2957, 'featuring': 2958, 'fee': 2959, 'feeble': 2960, 'feedback': 2961, 'feel': 2962, 'feeling': 2963, 'feelings': 2964, 'feels': 2965, 'fees': 2966, 'feet': 2967, 'fellow': 2968, 'female': 2969, 'fertilizing': 2970, 'fetch': 2971, 'few': 2972, 'fiat': 2973, 'fiber': 2974, 'fibers': 2975, 'fibrous': 2976, 'fiction': 2977, 'field': 2978, 'fields': 2979, 'figurative': 2980, 'figures': 2981, 'file': 2982, 'filed': 2983, 'files': 2984, 'filing': 2985, 'fill': 2986, 'filled': 2987, 'filling': 2988, 'fills': 2989, 'film': 2990, 'films': 2991, 'filter': 2992, 'filtered': 2993, 'filters': 2994, 'filtration': 2995, 'final': 2996, 'finalize': 2997, 'finalized': 2998, 'finalizing': 2999, 'finally': 3000, 'finance': 3001, 'financed': 3002, 'financer': 3003, 'finances': 3004, 'financial': 3005, 'financially': 3006, 'financiers': 3007, 'financing': 3008, 'find': 3009, 'finding': 3010, 'finds': 3011, 'fine': 3012, 'finer': 3013, 'finest': 3014, 'fingerprint': 3015, 'finish': 3016, 'finished': 3017, 'fire': 3018, 'fired': 3019, 'fireplace': 3020, 'firewall': 3021, 'firewalls': 3022, 'firm': 3023, 'firms': 3024, 'first': 3025, 'fish': 3026, 'fit': 3027, 'fitness': 3028, 'fits': 3029, 'five': 3030, 'fiver': 3031, 'fix': 3032, 'fixed': 3033, 'flag': 3034, 'flame': 3035, 'flanged': 3036, 'flare': 3037, 'flash': 3038, 'flat': 3039, 'flatmates': 3040, 'flatten': 3041, 'flavor': 3042, 'flavored': 3043, 'flavorful': 3044, 'flavors': 3045, 'flew': 3046, 'flexibility': 3047, 'flexible': 3048, 'flight': 3049, 'flights': 3050, 'flip': 3051, 'float': 3052, 'floating': 3053, 'floor': 3054, 'floors': 3055, 'flour': 3056, 'flowchart': 3057, 'flows': 3058, 'fluctuate': 3059, 'fluctuations': 3060, 'fly': 3061, 'flying': 3062, 'flywheel': 3063, 'fo': 3064, 'foam': 3065, 'focus': 3066, 'focused': 3067, 'focuses': 3068, 'focusing': 3069, 'fold': 3070, 'folder': 3071, 'folders': 3072, 'follow': 3073, 'followed': 3074, 'followers': 3075, 'following': 3076, 'follows': 3077, 'font': 3078, 'fonts': 3079, 'food': 3080, 'foods': 3081, 'fooled': 3082, 'foot': 3083, 'footage': 3084, 'footprint': 3085, 'footsteps': 3086, 'for': 3087, 'forbidden': 3088, 'forced': 3089, 'forecast': 3090, 'forecasted': 3091, 'foreign': 3092, 'foreigner': 3093, 'foreigners': 3094, 'forever': 3095, 'forget': 3096, 'forgot': 3097, 'forklift': 3098, 'forklifts': 3099, 'form': 3100, 'formal': 3101, 'formalities': 3102, 'format': 3103, 'former': 3104, 'forms': 3105, 'formula': 3106, 'forths': 3107, 'fortunate': 3108, 'forward': 3109, 'forwarded': 3110, 'forwarder': 3111, 'found': 3112, 'foundation': 3113, 'founders': 3114, 'four': 3115, 'frame': 3116, 'frames': 3117, 'framework': 3118, 'franchise': 3119, 'fraud': 3120, 'fraudulent': 3121, 'free': 3122, 'freebie': 3123, 'freelancer': 3124, 'freight': 3125, 'frequency': 3126, 'frequent': 3127, 'frequently': 3128, 'fresh': 3129, 'freshwater': 3130, 'fried': 3131, 'friend': 3132, 'friendly': 3133, 'friends': 3134, 'from': 3135, 'front': 3136, 'frugal': 3137, 'fruit': 3138, 'fruitful': 3139, 'fruity': 3140, 'frustrating': 3141, 'fuel': 3142, 'fulfill': 3143, 'fulfilled': 3144, 'fulfilling': 3145, 'full': 3146, 'fully': 3147, 'fun': 3148, 'function': 3149, 'functional': 3150, 'functioning': 3151, 'functions': 3152, 'fund': 3153, 'fundamental': 3154, 'fundamentals': 3155, 'funded': 3156, 'funding': 3157, 'fundraisers': 3158, 'fundraising': 3159, 'funds': 3160, 'fungible': 3161, 'funny': 3162, 'furnish': 3163, 'furnished': 3164, 'furnishings': 3165, 'furniture': 3166, 'further': 3167, 'fusion': 3168, 'fuss': 3169, 'future': 3170, 'futures': 3171, 'futuristic': 3172, 'g': 3173, 'gadgets': 3174, 'gain': 3175, 'gained': 3176, 'gaining': 3177, 'gains': 3178, 'galbi': 3179, 'game': 3180, 'games': 3181, 'gaming': 3182, 'gap': 3183, 'gaps': 3184, 'garage': 3185, 'garden': 3186, 'gardening': 3187, 'gardens': 3188, 'garlic': 3189, 'garments': 3190, 'garnering': 3191, 'gas': 3192, 'gasoline': 3193, 'gate': 3194, 'gates': 3195, 'gather': 3196, 'gathered': 3197, 'gathering': 3198, 'gathers': 3199, 'gauge': 3200, 'gave': 3201, 'gazebo': 3202, 'gear': 3203, 'geared': 3204, 'gears': 3205, 'general': 3206, 'generally': 3207, 'generate': 3208, 'generated': 3209, 'generating': 3210, 'generation': 3211, 'generations': 3212, 'generic': 3213, 'generous': 3214, 'genre': 3215, 'genres': 3216, 'gentle': 3217, 'gentlemen': 3218, 'genuinely': 3219, 'geographic': 3220, 'geography': 3221, 'gesture': 3222, 'get': 3223, 'gets': 3224, 'getting': 3225, 'gift': 3226, 'gifts': 3227, 'gigabyte': 3228, 'gigabytes': 3229, 'gimbap': 3230, 'ginger': 3231, 'ginseng': 3232, 'girl': 3233, 'girls': 3234, 'give': 3235, 'giveaways': 3236, 'given': 3237, 'gives': 3238, 'giving': 3239, 'glad': 3240, 'gladly': 3241, 'glance': 3242, 'glass': 3243, 'glasses': 3244, 'glitch': 3245, 'global': 3246, 'globally': 3247, 'globe': 3248, 'glossy': 3249, 'gloves': 3250, 'gluten': 3251, 'go': 3252, 'goal': 3253, 'goals': 3254, 'goes': 3255, 'going': 3256, 'gold': 3257, 'golf': 3258, 'gone': 3259, 'gonna': 3260, 'good': 3261, 'goodbye': 3262, 'goods': 3263, 'goodwill': 3264, 'gorgeous': 3265, 'got': 3266, 'gotten': 3267, 'governance': 3268, 'government': 3269, 'grab': 3270, 'grace': 3271, 'grade': 3272, 'gradual': 3273, 'gradually': 3274, 'graduates': 3275, 'grain': 3276, 'grains': 3277, 'grammable': 3278, 'grand': 3279, 'grandkids': 3280, 'grandmother': 3281, 'grant': 3282, 'granted': 3283, 'granting': 3284, 'graph': 3285, 'graphic': 3286, 'graphics': 3287, 'grass': 3288, 'grateful': 3289, 'gravity': 3290, 'gravlax': 3291, 'great': 3292, 'greater': 3293, 'greatly': 3294, 'green': 3295, 'greens': 3296, 'greet': 3297, 'greeting': 3298, 'greetings': 3299, 'grew': 3300, 'grid': 3301, 'grill': 3302, 'grilled': 3303, 'grills': 3304, 'grinder': 3305, 'gripping': 3306, 'groom': 3307, 'ground': 3308, 'groundbreaking': 3309, 'grounds': 3310, 'group': 3311, 'groups': 3312, 'grow': 3313, 'growing': 3314, 'growth': 3315, 'guarantee': 3316, 'guaranteed': 3317, 'guarantor': 3318, 'guess': 3319, 'guest': 3320, 'guesthouses': 3321, 'guests': 3322, 'guidance': 3323, 'guide': 3324, 'guided': 3325, 'guides': 3326, 'guilty': 3327, 'guitar': 3328, 'gun': 3329, 'gunfire': 3330, 'gut': 3331, 'guy': 3332, 'guys': 3333, 'gym': 3334, 'gyms': 3335, 'hack': 3336, 'hacked': 3337, 'hacking': 3338, 'had': 3339, 'hairdryer': 3340, 'half': 3341, 'hall': 3342, 'halls': 3343, 'halting': 3344, 'hand': 3345, 'handed': 3346, 'handheld': 3347, 'handiwork': 3348, 'handle': 3349, 'handled': 3350, 'handles': 3351, 'handling': 3352, 'handouts': 3353, 'handpicked': 3354, 'hands': 3355, 'handshake': 3356, 'hanging': 3357, 'hanji': 3358, 'hanok': 3359, 'happen': 3360, 'happened': 3361, 'happening': 3362, 'happens': 3363, 'happily': 3364, 'happy': 3365, 'hard': 3366, 'harder': 3367, 'hardware': 3368, 'hardworking': 3369, 'harmful': 3370, 'harmony': 3371, 'harshest': 3372, 'harvesting': 3373, 'has': 3374, 'hasn': 3375, 'hassle': 3376, 'hat': 3377, 'hate': 3378, 'have': 3379, 'haven': 3380, 'having': 3381, 'he': 3382, 'head': 3383, 'headhunters': 3384, 'heading': 3385, 'headquarters': 3386, 'heads': 3387, 'health': 3388, 'healthy': 3389, 'hear': 3390, 'heard': 3391, 'hearing': 3392, 'hearsay': 3393, 'heart': 3394, 'heartily': 3395, 'heat': 3396, 'heated': 3397, 'heater': 3398, 'heating': 3399, 'heavier': 3400, 'heavily': 3401, 'heavy': 3402, 'hedge': 3403, 'height': 3404, 'held': 3405, 'hello': 3406, 'help': 3407, 'helped': 3408, 'helpful': 3409, 'helping': 3410, 'helps': 3411, 'hence': 3412, 'her': 3413, 'herbal': 3414, 'here': 3415, 'hereditary': 3416, 'heritage': 3417, 'hesitate': 3418, 'hidden': 3419, 'high': 3420, 'higher': 3421, 'highest': 3422, 'highlighted': 3423, 'highlights': 3424, 'highly': 3425, 'hijacking': 3426, 'hiking': 3427, 'hill': 3428, 'him': 3429, 'hint': 3430, 'hire': 3431, 'hired': 3432, 'hiring': 3433, 'his': 3434, 'historical': 3435, 'historically': 3436, 'hit': 3437, 'hitch': 3438, 'hits': 3439, 'hoarding': 3440, 'hobby': 3441, 'hoc': 3442, 'hold': 3443, 'holder': 3444, 'holding': 3445, 'holds': 3446, 'holidays': 3447, 'home': 3448, 'homemade': 3449, 'homes': 3450, 'homestays': 3451, 'honed': 3452, 'honest': 3453, 'honestly': 3454, 'honey': 3455, 'honored': 3456, 'hope': 3457, 'hoped': 3458, 'hopefully': 3459, 'hoping': 3460, 'horizontal': 3461, 'horrible': 3462, 'horsepower': 3463, 'horsepowers': 3464, 'hospital': 3465, 'hospitalization': 3466, 'hospitals': 3467, 'host': 3468, 'hosting': 3469, 'hosts': 3470, 'hot': 3471, 'hotel': 3472, 'hotels': 3473, 'hotspot': 3474, 'hour': 3475, 'hourly': 3476, 'hours': 3477, 'house': 3478, 'household': 3479, 'households': 3480, 'houses': 3481, 'housing': 3482, 'housings': 3483, 'how': 3484, 'however': 3485, 'hub': 3486, 'huddle': 3487, 'hues': 3488, 'huge': 3489, 'hull': 3490, 'human': 3491, 'humble': 3492, 'humor': 3493, 'hundred': 3494, 'hungry': 3495, 'hunt': 3496, 'hurry': 3497, 'hurt': 3498, 'husband': 3499, 'hustle': 3500, 'hwajeon': 3501, 'hydraulic': 3502, 'hydraulics': 3503, 'hydrojet': 3504, 'hype': 3505, 'ibul': 3506, 'ice': 3507, 'icons': 3508, 'idea': 3509, 'ideal': 3510, 'ideas': 3511, 'identical': 3512, 'identification': 3513, 'identified': 3514, 'identify': 3515, 'identities': 3516, 'identity': 3517, 'idols': 3518, 'if': 3519, 'ignition': 3520, 'ignorance': 3521, 'ignore': 3522, 'ignored': 3523, 'illness': 3524, 'illnesses': 3525, 'illustration': 3526, 'illustrations': 3527, 'image': 3528, 'images': 3529, 'imaginative': 3530, 'imagine': 3531, 'imaging': 3532, 'immediate': 3533, 'immediately': 3534, 'immensely': 3535, 'immigrant': 3536, 'immunity': 3537, 'immutable': 3538, 'impact': 3539, 'impart': 3540, 'impeller': 3541, 'impending': 3542, 'implantation': 3543, 'implement': 3544, 'implementation': 3545, 'implementing': 3546, 'implements': 3547, 'implied': 3548, 'implies': 3549, 'import': 3550, 'importance': 3551, 'important': 3552, 'importantly': 3553, 'imported': 3554, 'imports': 3555, 'imposed': 3556, 'imposes': 3557, 'impossible': 3558, 'impress': 3559, 'impressed': 3560, 'impression': 3561, 'impressions': 3562, 'impressive': 3563, 'improve': 3564, 'improved': 3565, 'improvement': 3566, 'improvements': 3567, 'improving': 3568, 'in': 3569, 'inbox': 3570, 'incentives': 3571, 'inch': 3572, 'incident': 3573, 'include': 3574, 'included': 3575, 'includes': 3576, 'including': 3577, 'inclusion': 3578, 'inclusions': 3579, 'inclusive': 3580, 'income': 3581, 'incompatible': 3582, 'incomplete': 3583, 'inconvenience': 3584, 'inconvenient': 3585, 'incorporate': 3586, 'incorporating': 3587, 'incorporation': 3588, 'incorrect': 3589, 'increase': 3590, 'increased': 3591, 'increasing': 3592, 'incredible': 3593, 'incredibly': 3594, 'incubator': 3595, 'incubators': 3596, 'incur': 3597, 'incurred': 3598, 'incurring': 3599, 'indeed': 3600, 'independently': 3601, 'index': 3602, 'indexation': 3603, 'indicate': 3604, 'indicated': 3605, 'indicating': 3606, 'indicator': 3607, 'indicators': 3608, 'indices': 3609, 'individual': 3610, 'individually': 3611, 'individuals': 3612, 'indoor': 3613, 'indoors': 3614, 'indulge': 3615, 'industrial': 3616, 'industries': 3617, 'industry': 3618, 'inevitable': 3619, 'infections': 3620, 'infectious': 3621, 'inferior': 3622, 'inflation': 3623, 'influence': 3624, 'influenced': 3625, 'influencer': 3626, 'influencers': 3627, 'info': 3628, 'infographic': 3629, 'infographics': 3630, 'inform': 3631, 'informal': 3632, 'information': 3633, 'informed': 3634, 'informing': 3635, 'infrastructure': 3636, 'infringed': 3637, 'infringement': 3638, 'ingredients': 3639, 'inheritance': 3640, 'initial': 3641, 'initially': 3642, 'initiate': 3643, 'initiative': 3644, 'injection': 3645, 'injunction': 3646, 'injury': 3647, 'inner': 3648, 'innovation': 3649, 'innovations': 3650, 'innovative': 3651, 'input': 3652, 'inputs': 3653, 'inquire': 3654, 'inquired': 3655, 'inquiries': 3656, 'inquiring': 3657, 'inquiry': 3658, 'ins': 3659, 'inside': 3660, 'insight': 3661, 'insist': 3662, 'inspect': 3663, 'inspected': 3664, 'inspecting': 3665, 'inspection': 3666, 'inspections': 3667, 'inspire': 3668, 'inspired': 3669, 'install': 3670, 'installation': 3671, 'installed': 3672, 'installing': 3673, 'installment': 3674, 'installments': 3675, 'instance': 3676, 'instant': 3677, 'instead': 3678, 'institute': 3679, 'institution': 3680, 'instruction': 3681, 'instructions': 3682, 'instrument': 3683, 'instruments': 3684, 'insulation': 3685, 'insult': 3686, 'insurance': 3687, 'insurances': 3688, 'insure': 3689, 'insured': 3690, 'insuring': 3691, 'insurmountable': 3692, 'integrated': 3693, 'integration': 3694, 'integrations': 3695, 'intellectual': 3696, 'intelligence': 3697, 'intelligent': 3698, 'intend': 3699, 'intended': 3700, 'intends': 3701, 'intense': 3702, 'intensity': 3703, 'intent': 3704, 'intention': 3705, 'interact': 3706, 'interactions': 3707, 'interactive': 3708, 'intercept': 3709, 'interest': 3710, 'interested': 3711, 'interesting': 3712, 'interface': 3713, 'interior': 3714, 'interiors': 3715, 'intermediaries': 3716, 'intermediary': 3717, 'intern': 3718, 'internal': 3719, 'internally': 3720, 'international': 3721, 'internationally': 3722, 'internet': 3723, 'interns': 3724, 'interpretation': 3725, 'interpreter': 3726, 'interpreting': 3727, 'interrupt': 3728, 'interrupted': 3729, 'interview': 3730, 'interviews': 3731, 'into': 3732, 'intrigue': 3733, 'intriguing': 3734, 'introduce': 3735, 'introduced': 3736, 'introducing': 3737, 'introduction': 3738, 'intrusion': 3739, 'invaluable': 3740, 'inventory': 3741, 'invest': 3742, 'invested': 3743, 'investigate': 3744, 'investigating': 3745, 'investigation': 3746, 'investing': 3747, 'investment': 3748, 'investments': 3749, 'investor': 3750, 'investors': 3751, 'invitation': 3752, 'invite': 3753, 'invited': 3754, 'invites': 3755, 'inviting': 3756, 'invoice': 3757, 'invoices': 3758, 'involve': 3759, 'involved': 3760, 'involves': 3761, 'involving': 3762, 'iron': 3763, 'irregular': 3764, 'is': 3765, 'isn': 3766, 'issuance': 3767, 'issue': 3768, 'issued': 3769, 'issues': 3770, 'issuing': 3771, 'it': 3772, 'item': 3773, 'items': 3774, 'its': 3775, 'itself': 3776, 'jacuzzi': 3777, 'japchae': 3778, 'jeeps': 3779, 'jeon': 3780, 'jet': 3781, 'jingle': 3782, 'job': 3783, 'jobs': 3784, 'join': 3785, 'joining': 3786, 'joint': 3787, 'jokbal': 3788, 'joke': 3789, 'journalists': 3790, 'journey': 3791, 'juice': 3792, 'junction': 3793, 'just': 3794, 'kanji': 3795, 'karaoke': 3796, 'keen': 3797, 'keep': 3798, 'keeping': 3799, 'keeps': 3800, 'kept': 3801, 'key': 3802, 'keyboard': 3803, 'keyboards': 3804, 'keys': 3805, 'keywords': 3806, 'kicks': 3807, 'kids': 3808, 'kilograms': 3809, 'kilometers': 3810, 'kilowatts': 3811, 'kimchi': 3812, 'kind': 3813, 'kindly': 3814, 'kindness': 3815, 'kinds': 3816, 'king': 3817, 'kiosk': 3818, 'kit': 3819, 'kitchen': 3820, 'kitchens': 3821, 'kits': 3822, 'knew': 3823, 'knife': 3824, 'knitting': 3825, 'knocked': 3826, 'know': 3827, 'knowing': 3828, 'knowledge': 3829, 'knowledgeable': 3830, 'known': 3831, 'knows': 3832, 'l': 3833, 'label': 3834, 'labels': 3835, 'labor': 3836, 'laboratories': 3837, 'laboratory': 3838, 'lack': 3839, 'lacking': 3840, 'ladies': 3841, 'lag': 3842, 'laid': 3843, 'lamination': 3844, 'land': 3845, 'landed': 3846, 'landline': 3847, 'landlord': 3848, 'landowner': 3849, 'lands': 3850, 'language': 3851, 'languages': 3852, 'laptop': 3853, 'large': 3854, 'largely': 3855, 'larger': 3856, 'largest': 3857, 'last': 3858, 'lasting': 3859, 'lasts': 3860, 'late': 3861, 'lately': 3862, 'latency': 3863, 'later': 3864, 'latest': 3865, 'launch': 3866, 'launched': 3867, 'launching': 3868, 'laundering': 3869, 'laundry': 3870, 'lavalier': 3871, 'law': 3872, 'laws': 3873, 'lawsuit': 3874, 'lawyer': 3875, 'lawyers': 3876, 'laxative': 3877, 'lay': 3878, 'layers': 3879, 'layout': 3880, 'lazy': 3881, 'lead': 3882, 'leaders': 3883, 'leading': 3884, 'leaf': 3885, 'leaks': 3886, 'leaning': 3887, 'learn': 3888, 'learned': 3889, 'learning': 3890, 'least': 3891, 'leave': 3892, 'leaves': 3893, 'lecture': 3894, 'led': 3895, 'left': 3896, 'legal': 3897, 'legally': 3898, 'legitimate': 3899, 'lenders': 3900, 'length': 3901, 'lengthy': 3902, 'lens': 3903, 'lentil': 3904, 'less': 3905, 'lesser': 3906, 'lessons': 3907, 'let': 3908, 'lets': 3909, 'letter': 3910, 'letters': 3911, 'letting': 3912, 'lettuce': 3913, 'level': 3914, 'levelers': 3915, 'levels': 3916, 'leverage': 3917, 'liabilities': 3918, 'liability': 3919, 'liable': 3920, 'liaison': 3921, 'library': 3922, 'license': 3923, 'licensed': 3924, 'licenses': 3925, 'lie': 3926, 'life': 3927, 'lifeguards': 3928, 'lifelong': 3929, 'lifestyle': 3930, 'lift': 3931, 'light': 3932, 'lightning': 3933, 'lights': 3934, 'lightweight': 3935, 'like': 3936, 'liked': 3937, 'likely': 3938, 'likes': 3939, 'limit': 3940, 'limitations': 3941, 'limited': 3942, 'limits': 3943, 'line': 3944, 'lines': 3945, 'lining': 3946, 'link': 3947, 'linked': 3948, 'links': 3949, 'liquid': 3950, 'liquidating': 3951, 'liquors': 3952, 'list': 3953, 'listed': 3954, 'listen': 3955, 'listener': 3956, 'listeners': 3957, 'listening': 3958, 'listing': 3959, 'listings': 3960, 'lists': 3961, 'literature': 3962, 'little': 3963, 'live': 3964, 'lived': 3965, 'lively': 3966, 'liver': 3967, 'lives': 3968, 'living': 3969, 'll': 3970, 'load': 3971, 'loaded': 3972, 'loader': 3973, 'loaders': 3974, 'loading': 3975, 'loan': 3976, 'loans': 3977, 'lobby': 3978, 'local': 3979, 'locales': 3980, 'locality': 3981, 'localization': 3982, 'localized': 3983, 'locally': 3984, 'locals': 3985, 'located': 3986, 'location': 3987, 'locations': 3988, 'lock': 3989, 'lockdown': 3990, 'lockdowns': 3991, 'lodge': 3992, 'lodging': 3993, 'lodgings': 3994, 'log': 3995, 'logged': 3996, 'logging': 3997, 'login': 3998, 'logistics': 3999, 'logo': 4000, 'logos': 4001, 'logs': 4002, 'long': 4003, 'longer': 4004, 'look': 4005, 'looked': 4006, 'looking': 4007, 'looks': 4008, 'loose': 4009, 'lose': 4010, 'loss': 4011, 'losses': 4012, 'lost': 4013, 'lot': 4014, 'lots': 4015, 'loud': 4016, 'lounge': 4017, 'love': 4018, 'loved': 4019, 'lovely': 4020, 'loving': 4021, 'low': 4022, 'lower': 4023, 'lowered': 4024, 'lowest': 4025, 'loyal': 4026, 'luck': 4027, 'luckily': 4028, 'lucky': 4029, 'lucrative': 4030, 'luggage': 4031, 'lunch': 4032, 'luxurious': 4033, 'luxury': 4034, 'm': 4035, 'ma': 4036, 'machine': 4037, 'machinery': 4038, 'machines': 4039, 'mackerels': 4040, 'macro': 4041, 'madam': 4042, 'made': 4043, 'magazine': 4044, 'magazines': 4045, 'magical': 4046, 'mail': 4047, 'main': 4048, 'mainly': 4049, 'mains': 4050, 'maintain': 4051, 'maintained': 4052, 'maintaining': 4053, 'maintenance': 4054, 'major': 4055, 'majority': 4056, 'make': 4057, 'maker': 4058, 'makers': 4059, 'makes': 4060, 'makeup': 4061, 'makgeolli': 4062, 'making': 4063, 'mall': 4064, 'malware': 4065, 'manage': 4066, 'manageable': 4067, 'managed': 4068, 'management': 4069, 'manager': 4070, 'managers': 4071, 'manages': 4072, 'managing': 4073, 'mandatory': 4074, 'mandu': 4075, 'manned': 4076, 'manner': 4077, 'manners': 4078, 'manual': 4079, 'manually': 4080, 'manufacture': 4081, 'manufactured': 4082, 'manufacturer': 4083, 'manufacturers': 4084, 'manufactures': 4085, 'manufacturing': 4086, 'manuscript': 4087, 'many': 4088, 'marinated': 4089, 'marinates': 4090, 'market': 4091, 'marketer': 4092, 'marketing': 4093, 'markets': 4094, 'married': 4095, 'mascots': 4096, 'mask': 4097, 'mass': 4098, 'massage': 4099, 'massages': 4100, 'masseuse': 4101, 'massive': 4102, 'master': 4103, 'mat': 4104, 'match': 4105, 'material': 4106, 'materialistic': 4107, 'materials': 4108, 'maternity': 4109, 'mathematics': 4110, 'mats': 4111, 'matte': 4112, 'matter': 4113, 'matters': 4114, 'mattress': 4115, 'maturing': 4116, 'maximize': 4117, 'maximum': 4118, 'may': 4119, 'maybe': 4120, 'me': 4121, 'meal': 4122, 'meals': 4123, 'mean': 4124, 'meaning': 4125, 'meaningful': 4126, 'meaningless': 4127, 'means': 4128, 'meant': 4129, 'meantime': 4130, 'measure': 4131, 'measures': 4132, 'measuring': 4133, 'meat': 4134, 'mechanic': 4135, 'mechanical': 4136, 'mechanism': 4137, 'media': 4138, 'mediator': 4139, 'medical': 4140, 'medicine': 4141, 'meditation': 4142, 'medium': 4143, 'meet': 4144, 'meeting': 4145, 'meetings': 4146, 'megabits': 4147, 'megabytes': 4148, 'megapixel': 4149, 'megapixels': 4150, 'melon': 4151, 'melt': 4152, 'member': 4153, 'members': 4154, 'membership': 4155, 'memorandum': 4156, 'memories': 4157, 'memory': 4158, 'men': 4159, 'mending': 4160, 'mental': 4161, 'mention': 4162, 'mentioned': 4163, 'mentioning': 4164, 'menu': 4165, 'menus': 4166, 'merch': 4167, 'merchant': 4168, 'merged': 4169, 'message': 4170, 'messages': 4171, 'messaging': 4172, 'messy': 4173, 'met': 4174, 'meta': 4175, 'metal': 4176, 'metallurgical': 4177, 'metals': 4178, 'meters': 4179, 'method': 4180, 'methods': 4181, 'meticulously': 4182, 'microlenders': 4183, 'microphone': 4184, 'microphones': 4185, 'microscopes': 4186, 'microwave': 4187, 'middle': 4188, 'midst': 4189, 'might': 4190, 'mild': 4191, 'milestone': 4192, 'milk': 4193, 'millennials': 4194, 'millimeters': 4195, 'million': 4196, 'millions': 4197, 'mind': 4198, 'minded': 4199, 'mine': 4200, 'miner': 4201, 'mini': 4202, 'minibar': 4203, 'minimal': 4204, 'minimalism': 4205, 'minimum': 4206, 'ministry': 4207, 'minor': 4208, 'minute': 4209, 'minuted': 4210, 'minutes': 4211, 'miscarriage': 4212, 'miscommunication': 4213, 'mishap': 4214, 'mismanagement': 4215, 'mismatch': 4216, 'misplaced': 4217, 'miss': 4218, 'missed': 4219, 'missiles': 4220, 'missing': 4221, 'mission': 4222, 'mistake': 4223, 'mistakenly': 4224, 'mistakes': 4225, 'misunderstanding': 4226, 'misuse': 4227, 'misuses': 4228, 'mitigate': 4229, 'mix': 4230, 'mixer': 4231, 'mixing': 4232, 'mm': 4233, 'mmHg': 4234, 'mobile': 4235, 'mobiles': 4236, 'mock': 4237, 'mocks': 4238, 'modality': 4239, 'mode': 4240, 'model': 4241, 'models': 4242, 'modem': 4243, 'modems': 4244, 'moderately': 4245, 'modern': 4246, 'modes': 4247, 'modifications': 4248, 'modified': 4249, 'modify': 4250, 'modifying': 4251, 'modular': 4252, 'module': 4253, 'mold': 4254, 'molding': 4255, 'moldings': 4256, 'moment': 4257, 'momentary': 4258, 'moments': 4259, 'monastery': 4260, 'monastic': 4261, 'monetary': 4262, 'monetizing': 4263, 'money': 4264, 'monitor': 4265, 'monitoring': 4266, 'monitors': 4267, 'monk': 4268, 'monks': 4269, 'monsoon': 4270, 'month': 4271, 'monthly': 4272, 'months': 4273, 'mood': 4274, 'more': 4275, 'morning': 4276, 'mortar': 4277, 'mortgage': 4278, 'mosquitos': 4279, 'most': 4280, 'mostly': 4281, 'motels': 4282, 'mother': 4283, 'motif': 4284, 'motions': 4285, 'motivate': 4286, 'motivation': 4287, 'motor': 4288, 'motorboats': 4289, 'motors': 4290, 'mountain': 4291, 'mountains': 4292, 'mouse': 4293, 'mouses': 4294, 'mouth': 4295, 'move': 4296, 'moved': 4297, 'movement': 4298, 'movers': 4299, 'movie': 4300, 'movies': 4301, 'moving': 4302, 'much': 4303, 'mud': 4304, 'mukbang': 4305, 'multi': 4306, 'multidisciplinary': 4307, 'multinational': 4308, 'multiplatform': 4309, 'multiple': 4310, 'multiplying': 4311, 'multipurpose': 4312, 'museum': 4313, 'music': 4314, 'musical': 4315, 'musky': 4316, 'must': 4317, 'mutual': 4318, 'my': 4319, 'myself': 4320, 'mysterious': 4321, 'naira': 4322, 'name': 4323, 'names': 4324, 'napkin': 4325, 'napping': 4326, 'narratives': 4327, 'narrow': 4328, 'nation': 4329, 'national': 4330, 'nationals': 4331, 'nations': 4332, 'native': 4333, 'natural': 4334, 'nature': 4335, 'navigation': 4336, 'near': 4337, 'nearby': 4338, 'nearest': 4339, 'neat': 4340, 'nebulizers': 4341, 'necessary': 4342, 'need': 4343, 'needed': 4344, 'needing': 4345, 'needs': 4346, 'negative': 4347, 'negatively': 4348, 'neglect': 4349, 'negotiable': 4350, 'negotiate': 4351, 'neighbors': 4352, 'neotraditional': 4353, 'nephew': 4354, 'nervous': 4355, 'net': 4356, 'network': 4357, 'networking': 4358, 'networks': 4359, 'never': 4360, 'new': 4361, 'newbie': 4362, 'newborn': 4363, 'newest': 4364, 'newly': 4365, 'news': 4366, 'newsletters': 4367, 'newspaper': 4368, 'next': 4369, 'nice': 4370, 'niche': 4371, 'night': 4372, 'nightclub': 4373, 'nights': 4374, 'nighttime': 4375, 'nine': 4376, 'ninety': 4377, 'no': 4378, 'noble': 4379, 'nobody': 4380, 'nodular': 4381, 'non': 4382, 'nondelivery': 4383, 'none': 4384, 'nonfiction': 4385, 'nonfungible': 4386, 'nonpayments': 4387, 'nonprofits': 4388, 'nonsense': 4389, 'nonspicy': 4390, 'noodle': 4391, 'noodles': 4392, 'noon': 4393, 'norm': 4394, 'normal': 4395, 'normally': 4396, 'northern': 4397, 'nose': 4398, 'nostalgia': 4399, 'not': 4400, 'notch': 4401, 'note': 4402, 'notebook': 4403, 'noted': 4404, 'notes': 4405, 'nothing': 4406, 'notice': 4407, 'noticed': 4408, 'notices': 4409, 'notification': 4410, 'notified': 4411, 'notify': 4412, 'notifying': 4413, 'novel': 4414, 'novels': 4415, 'now': 4416, 'nowadays': 4417, 'number': 4418, 'numbers': 4419, 'numerous': 4420, 'nurse': 4421, 'nutritional': 4422, 'nutty': 4423, 'nylon': 4424, 'o': 4425, 'object': 4426, 'objection': 4427, 'objections': 4428, 'objective': 4429, 'obligation': 4430, 'obligations': 4431, 'oblige': 4432, 'observations': 4433, 'observing': 4434, 'obstacles': 4435, 'obtain': 4436, 'obtaining': 4437, 'obviously': 4438, 'occasion': 4439, 'occupation': 4440, 'occupied': 4441, 'occupy': 4442, 'occur': 4443, 'occurrence': 4444, 'occurs': 4445, 'ocean': 4446, 'of': 4447, 'off': 4448, 'offend': 4449, 'offer': 4450, 'offered': 4451, 'offering': 4452, 'offerings': 4453, 'offers': 4454, 'office': 4455, 'officer': 4456, 'officers': 4457, 'offices': 4458, 'official': 4459, 'officially': 4460, 'offline': 4461, 'offshore': 4462, 'often': 4463, 'oh': 4464, 'oil': 4465, 'oils': 4466, 'okay': 4467, 'old': 4468, 'older': 4469, 'oldest': 4470, 'on': 4471, 'once': 4472, 'ondol': 4473, 'one': 4474, 'ones': 4475, 'ongoing': 4476, 'onions': 4477, 'online': 4478, 'only': 4479, 'onto': 4480, 'onwards': 4481, 'open': 4482, 'opened': 4483, 'opening': 4484, 'openly': 4485, 'opens': 4486, 'operate': 4487, 'operated': 4488, 'operating': 4489, 'operation': 4490, 'operational': 4491, 'operations': 4492, 'operative': 4493, 'operator': 4494, 'operators': 4495, 'opinion': 4496, 'opinions': 4497, 'opportunities': 4498, 'opportunity': 4499, 'opt': 4500, 'optimal': 4501, 'optimization': 4502, 'optimize': 4503, 'optimized': 4504, 'optimizer': 4505, 'option': 4506, 'optional': 4507, 'options': 4508, 'optometry': 4509, 'or': 4510, 'orange': 4511, 'order': 4512, 'ordered': 4513, 'ordering': 4514, 'orderly': 4515, 'orders': 4516, 'ordinary': 4517, 'ore': 4518, 'organic': 4519, 'organization': 4520, 'organizational': 4521, 'organizations': 4522, 'organize': 4523, 'organizing': 4524, 'orientation': 4525, 'oriented': 4526, 'original': 4527, 'originally': 4528, 'origins': 4529, 'other': 4530, 'others': 4531, 'ought': 4532, 'ounce': 4533, 'our': 4534, 'ours': 4535, 'ourselves': 4536, 'out': 4537, 'outbreak': 4538, 'outcome': 4539, 'outdated': 4540, 'outdoor': 4541, 'outdoors': 4542, 'outgoing': 4543, 'outings': 4544, 'outlets': 4545, 'outnumber': 4546, 'output': 4547, 'outputs': 4548, 'outreach': 4549, 'outright': 4550, 'outside': 4551, 'outsiders': 4552, 'outsmart': 4553, 'outsource': 4554, 'outstanding': 4555, 'oven': 4556, 'ovens': 4557, 'over': 4558, 'overall': 4559, 'overcharge': 4560, 'overcharged': 4561, 'overdue': 4562, 'overflow': 4563, 'overhang': 4564, 'overheads': 4565, 'overlook': 4566, 'overlooked': 4567, 'overnight': 4568, 'overpriced': 4569, 'overseas': 4570, 'oversees': 4571, 'overstated': 4572, 'overview': 4573, 'overwhelmed': 4574, 'owe': 4575, 'owing': 4576, 'own': 4577, 'owner': 4578, 'owners': 4579, 'ownership': 4580, 'owning': 4581, 'oxblood': 4582, 'p': 4583, 'pace': 4584, 'pacemaker': 4585, 'pack': 4586, 'package': 4587, 'packaged': 4588, 'packages': 4589, 'packaging': 4590, 'packed': 4591, 'packers': 4592, 'packing': 4593, 'packs': 4594, 'page': 4595, 'pages': 4596, 'pagodas': 4597, 'paid': 4598, 'pains': 4599, 'painted': 4600, 'painter': 4601, 'painters': 4602, 'painting': 4603, 'paintings': 4604, 'pair': 4605, 'pairs': 4606, 'pajamas': 4607, 'palaces': 4608, 'palate': 4609, 'palates': 4610, 'palette': 4611, 'palettes': 4612, 'palm': 4613, 'pals': 4614, 'pamphlet': 4615, 'pan': 4616, 'pancakes': 4617, 'pandemic': 4618, 'panel': 4619, 'panels': 4620, 'pans': 4621, 'pantry': 4622, 'papaya': 4623, 'paper': 4624, 'papers': 4625, 'paperwork': 4626, 'par': 4627, 'parcel': 4628, 'parents': 4629, 'park': 4630, 'parking': 4631, 'part': 4632, 'partake': 4633, 'partial': 4634, 'partially': 4635, 'participant': 4636, 'participants': 4637, 'participate': 4638, 'participating': 4639, 'particular': 4640, 'particularly': 4641, 'parties': 4642, 'partner': 4643, 'partnering': 4644, 'partners': 4645, 'partnership': 4646, 'parts': 4647, 'party': 4648, 'pass': 4649, 'passed': 4650, 'passing': 4651, 'passion': 4652, 'passive': 4653, 'passport': 4654, 'passports': 4655, 'password': 4656, 'past': 4657, 'pasta': 4658, 'paste': 4659, 'patch': 4660, 'patches': 4661, 'patent': 4662, 'patents': 4663, 'path': 4664, 'patience': 4665, 'patient': 4666, 'patients': 4667, 'patronage': 4668, 'patronize': 4669, 'patrons': 4670, 'pattern': 4671, 'patterns': 4672, 'paving': 4673, 'pay': 4674, 'payable': 4675, 'paying': 4676, 'payment': 4677, 'payments': 4678, 'payroll': 4679, 'pays': 4680, 'payslip': 4681, 'pdf': 4682, 'peace': 4683, 'peak': 4684, 'pencil': 4685, 'pending': 4686, 'pension': 4687, 'people': 4688, 'per': 4689, 'percent': 4690, 'percentage': 4691, 'perfect': 4692, 'perform': 4693, 'performance': 4694, 'performed': 4695, 'performing': 4696, 'perhaps': 4697, 'perilla': 4698, 'period': 4699, 'permanent': 4700, 'permanently': 4701, 'permission': 4702, 'permit': 4703, 'permitted': 4704, 'persistent': 4705, 'person': 4706, 'personal': 4707, 'personality': 4708, 'personalized': 4709, 'personally': 4710, 'personnel': 4711, 'persons': 4712, 'persuade': 4713, 'pertinent': 4714, 'perusal': 4715, 'pesky': 4716, 'pet': 4717, 'petition': 4718, 'petrol': 4719, 'pets': 4720, 'phase': 4721, 'phases': 4722, 'phenomena': 4723, 'philosophy': 4724, 'phone': 4725, 'phones': 4726, 'phoning': 4727, 'photo': 4728, 'photobooks': 4729, 'photocopier': 4730, 'photographer': 4731, 'photographers': 4732, 'photographs': 4733, 'photography': 4734, 'photos': 4735, 'physical': 4736, 'physically': 4737, 'piano': 4738, 'pick': 4739, 'picked': 4740, 'picking': 4741, 'picture': 4742, 'pictures': 4743, 'pie': 4744, 'piece': 4745, 'pieces': 4746, 'pier': 4747, 'piling': 4748, 'pillars': 4749, 'pills': 4750, 'pin': 4751, 'pink': 4752, 'pioneers': 4753, 'pipe': 4754, 'pipeline': 4755, 'pipelines': 4756, 'pipes': 4757, 'piqued': 4758, 'piques': 4759, 'piston': 4760, 'pitch': 4761, 'pitching': 4762, 'pity': 4763, 'pixels': 4764, 'place': 4765, 'placed': 4766, 'placement': 4767, 'placements': 4768, 'places': 4769, 'placing': 4770, 'plagiarized': 4771, 'plain': 4772, 'plan': 4773, 'plane': 4774, 'planned': 4775, 'planning': 4776, 'plans': 4777, 'plant': 4778, 'planting': 4779, 'plants': 4780, 'plastic': 4781, 'plastics': 4782, 'plate': 4783, 'plates': 4784, 'platform': 4785, 'platforms': 4786, 'platinum': 4787, 'platters': 4788, 'play': 4789, 'played': 4790, 'player': 4791, 'players': 4792, 'playground': 4793, 'playing': 4794, 'plays': 4795, 'plaza': 4796, 'pleasant': 4797, 'please': 4798, 'pleased': 4799, 'pleasure': 4800, 'plotter': 4801, 'plowing': 4802, 'plug': 4803, 'plugins': 4804, 'plus': 4805, 'pm': 4806, 'pneumatic': 4807, 'pocket': 4808, 'pockets': 4809, 'podcast': 4810, 'podcasts': 4811, 'point': 4812, 'pointing': 4813, 'points': 4814, 'policies': 4815, 'policy': 4816, 'policyholders': 4817, 'policymakers': 4818, 'polite': 4819, 'political': 4820, 'politicians': 4821, 'polystyrene': 4822, 'polyurethane': 4823, 'pool': 4824, 'pools': 4825, 'poor': 4826, 'pop': 4827, 'popular': 4828, 'popularity': 4829, 'population': 4830, 'poring': 4831, 'pork': 4832, 'porridge': 4833, 'port': 4834, 'portal': 4835, 'portals': 4836, 'portfolio': 4837, 'portfolios': 4838, 'portion': 4839, 'portraits': 4840, 'ports': 4841, 'posh': 4842, 'position': 4843, 'positioning': 4844, 'positions': 4845, 'positive': 4846, 'positives': 4847, 'possess': 4848, 'possibility': 4849, 'possible': 4850, 'possibly': 4851, 'post': 4852, 'postal': 4853, 'posted': 4854, 'poster': 4855, 'posters': 4856, 'posting': 4857, 'postings': 4858, 'postpaid': 4859, 'posts': 4860, 'potato': 4861, 'potential': 4862, 'pots': 4863, 'power': 4864, 'powered': 4865, 'practically': 4866, 'practice': 4867, 'practices': 4868, 'praised': 4869, 'praises': 4870, 'pray': 4871, 'prays': 4872, 'precise': 4873, 'precisely': 4874, 'precision': 4875, 'predict': 4876, 'predictable': 4877, 'prediction': 4878, 'prefer': 4879, 'preferably': 4880, 'preference': 4881, 'preferences': 4882, 'preferred': 4883, 'premises': 4884, 'premium': 4885, 'premiums': 4886, 'preoccupied': 4887, 'preorder': 4888, 'preparation': 4889, 'prepare': 4890, 'prepared': 4891, 'preparedness': 4892, 'preparing': 4893, 'prescription': 4894, 'prescriptions': 4895, 'presence': 4896, 'present': 4897, 'presentation': 4898, 'presented': 4899, 'presenting': 4900, 'presents': 4901, 'preservation': 4902, 'preserve': 4903, 'president': 4904, 'press': 4905, 'pressed': 4906, 'pressing': 4907, 'pressure': 4908, 'pretty': 4909, 'prevent': 4910, 'prevented': 4911, 'prevention': 4912, 'preview': 4913, 'previous': 4914, 'previously': 4915, 'price': 4916, 'priced': 4917, 'priceless': 4918, 'prices': 4919, 'pricing': 4920, 'priest': 4921, 'primarily': 4922, 'primary': 4923, 'prime': 4924, 'principal': 4925, 'principle': 4926, 'print': 4927, 'printed': 4928, 'printers': 4929, 'printing': 4930, 'prints': 4931, 'prior': 4932, 'prioritize': 4933, 'prioritized': 4934, 'priority': 4935, 'privacy': 4936, 'private': 4937, 'privilege': 4938, 'prize': 4939, 'prized': 4940, 'probably': 4941, 'problem': 4942, 'problematic': 4943, 'problems': 4944, 'procedure': 4945, 'procedures': 4946, 'proceed': 4947, 'proceedings': 4948, 'proceeds': 4949, 'process': 4950, 'processed': 4951, 'processes': 4952, 'processing': 4953, 'processor': 4954, 'processors': 4955, 'procurement': 4956, 'produce': 4957, 'produced': 4958, 'producer': 4959, 'produces': 4960, 'producing': 4961, 'product': 4962, 'production': 4963, 'productions': 4964, 'productivity': 4965, 'products': 4966, 'profession': 4967, 'professional': 4968, 'professionally': 4969, 'professionals': 4970, 'professions': 4971, 'professor': 4972, 'professors': 4973, 'proficiency': 4974, 'profile': 4975, 'profit': 4976, 'profitability': 4977, 'profitable': 4978, 'profits': 4979, 'program': 4980, 'programmed': 4981, 'programmer': 4982, 'programmers': 4983, 'programming': 4984, 'programs': 4985, 'progress': 4986, 'progressing': 4987, 'project': 4988, 'projections': 4989, 'projector': 4990, 'projectors': 4991, 'projects': 4992, 'prominent': 4993, 'prominently': 4994, 'promise': 4995, 'promised': 4996, 'promises': 4997, 'promising': 4998, 'promo': 4999, 'promos': 5000, 'promote': 5001, 'promoting': 5002, 'promotion': 5003, 'promotional': 5004, 'promotions': 5005, 'prompt': 5006, 'promptly': 5007, 'prompts': 5008, 'proof': 5009, 'proofs': 5010, 'propelled': 5011, 'proper': 5012, 'properly': 5013, 'properties': 5014, 'property': 5015, 'proportion': 5016, 'proposal': 5017, 'proposals': 5018, 'propose': 5019, 'proposed': 5020, 'proposing': 5021, 'proposition': 5022, 'pros': 5023, 'prospective': 5024, 'prosperous': 5025, 'prosthetics': 5026, 'prostrations': 5027, 'protect': 5028, 'protected': 5029, 'protection': 5030, 'protectionism': 5031, 'protections': 5032, 'protective': 5033, 'protects': 5034, 'protein': 5035, 'protocol': 5036, 'protocols': 5037, 'prototype': 5038, 'proud': 5039, 'prove': 5040, 'proven': 5041, 'provide': 5042, 'provided': 5043, 'provider': 5044, 'providers': 5045, 'provides': 5046, 'providing': 5047, 'province': 5048, 'proximity': 5049, 'pub': 5050, 'public': 5051, 'publication': 5052, 'publications': 5053, 'publicly': 5054, 'publish': 5055, 'published': 5056, 'publishers': 5057, 'publishing': 5058, 'pull': 5059, 'pulse': 5060, 'pump': 5061, 'pumps': 5062, 'punctual': 5063, 'purchase': 5064, 'purchased': 5065, 'purchases': 5066, 'purchasing': 5067, 'purely': 5068, 'purified': 5069, 'purifiers': 5070, 'purify': 5071, 'purpose': 5072, 'purposes': 5073, 'pursue': 5074, 'push': 5075, 'pushed': 5076, 'put': 5077, 'puts': 5078, 'putting': 5079, 'quadrupled': 5080, 'qualified': 5081, 'qualify': 5082, 'qualities': 5083, 'quality': 5084, 'quantities': 5085, 'quantity': 5086, 'quarter': 5087, 'quarterly': 5088, 'queries': 5089, 'query': 5090, 'question': 5091, 'questionnaire': 5092, 'questions': 5093, 'queue': 5094, 'quick': 5095, 'quickly': 5096, 'quilt': 5097, 'quite': 5098, 'quotation': 5099, 'quotations': 5100, 'quote': 5101, 'radio': 5102, 'radioactive': 5103, 'railway': 5104, 'rain': 5105, 'raise': 5106, 'raising': 5107, 'rally': 5108, 'rambling': 5109, 'ramen': 5110, 'ran': 5111, 'random': 5112, 'randomly': 5113, 'rang': 5114, 'range': 5115, 'ranger': 5116, 'ranges': 5117, 'ranging': 5118, 'rank': 5119, 'ranked': 5120, 'ranking': 5121, 'ranks': 5122, 'rapidly': 5123, 'rapport': 5124, 'rare': 5125, 'rate': 5126, 'rates': 5127, 'rather': 5128, 'rating': 5129, 'ratings': 5130, 'ratio': 5131, 'rational': 5132, 'raw': 5133, 'ray': 5134, 'rd': 5135, 're': 5136, 'reach': 5137, 'reached': 5138, 'reaches': 5139, 'reaching': 5140, 'react': 5141, 'reaction': 5142, 'read': 5143, 'readers': 5144, 'reading': 5145, 'reads': 5146, 'ready': 5147, 'real': 5148, 'realistic': 5149, 'reality': 5150, 'realize': 5151, 'really': 5152, 'realtor': 5153, 'reap': 5154, 'rear': 5155, 'reason': 5156, 'reasonable': 5157, 'reasons': 5158, 'reassuring': 5159, 'rebook': 5160, 'recall': 5161, 'receipt': 5162, 'receipts': 5163, 'receivable': 5164, 'receive': 5165, 'received': 5166, 'receiver': 5167, 'receiving': 5168, 'recent': 5169, 'recently': 5170, 'reception': 5171, 'receptionist': 5172, 'recharge': 5173, 'recharging': 5174, 'recipe': 5175, 'recipes': 5176, 'recipients': 5177, 'recognize': 5178, 'recognized': 5179, 'recommend': 5180, 'recommendation': 5181, 'recommendations': 5182, 'recommended': 5183, 'recommending': 5184, 'reconfirm': 5185, 'reconsider': 5186, 'record': 5187, 'recorded': 5188, 'recording': 5189, 'recordings': 5190, 'records': 5191, 'recover': 5192, 'recovery': 5193, 'recreation': 5194, 'rectified': 5195, 'recuperate': 5196, 'red': 5197, 'redemption': 5198, 'redirect': 5199, 'redownloaded': 5200, 'redrafting': 5201, 'reduce': 5202, 'reduced': 5203, 'reduces': 5204, 'reducing': 5205, 'reefer': 5206, 'reefers': 5207, 'reels': 5208, 'refer': 5209, 'reference': 5210, 'referred': 5211, 'referring': 5212, 'refers': 5213, 'refine': 5214, 'reflected': 5215, 'refrain': 5216, 'refresher': 5217, 'refund': 5218, 'refunded': 5219, 'refunds': 5220, 'refuse': 5221, 'refuses': 5222, 'regard': 5223, 'regarded': 5224, 'regarding': 5225, 'regardless': 5226, 'regards': 5227, 'region': 5228, 'regional': 5229, 'register': 5230, 'registered': 5231, 'registration': 5232, 'registry': 5233, 'regret': 5234, 'regretting': 5235, 'regular': 5236, 'regularly': 5237, 'regulated': 5238, 'regulations': 5239, 'regulatory': 5240, 'rehearsal': 5241, 'reheated': 5242, 'reimbursed': 5243, 'reimbursement': 5244, 'reimbursing': 5245, 'reinstalled': 5246, 'reject': 5247, 'rejected': 5248, 'relatable': 5249, 'relate': 5250, 'related': 5251, 'relations': 5252, 'relationship': 5253, 'relationships': 5254, 'relative': 5255, 'relatively': 5256, 'relatives': 5257, 'relax': 5258, 'relaxation': 5259, 'relaxing': 5260, 'relay': 5261, 'release': 5262, 'released': 5263, 'releases': 5264, 'releasing': 5265, 'relentlessly': 5266, 'relevant': 5267, 'reliable': 5268, 'relief': 5269, 'relies': 5270, 'relieved': 5271, 'religious': 5272, 'relocate': 5273, 'rely': 5274, 'remain': 5275, 'remaining': 5276, 'remains': 5277, 'remarks': 5278, 'remember': 5279, 'remembered': 5280, 'remind': 5281, 'reminder': 5282, 'reminders': 5283, 'reminding': 5284, 'reminds': 5285, 'reminisce': 5286, 'remittance': 5287, 'remote': 5288, 'remotely': 5289, 'removable': 5290, 'remove': 5291, 'removers': 5292, 'removing': 5293, 'render': 5294, 'rendered': 5295, 'renders': 5296, 'renege': 5297, 'renew': 5298, 'renewable': 5299, 'renewal': 5300, 'renewed': 5301, 'renewing': 5302, 'renovate': 5303, 'renovated': 5304, 'renovation': 5305, 'renowned': 5306, 'rent': 5307, 'rental': 5308, 'rentals': 5309, 'rented': 5310, 'renting': 5311, 'reorder': 5312, 'repair': 5313, 'repay': 5314, 'repayment': 5315, 'repeat': 5316, 'replace': 5317, 'replaced': 5318, 'replacement': 5319, 'replacements': 5320, 'replacing': 5321, 'reply': 5322, 'report': 5323, 'reported': 5324, 'reports': 5325, 'representative': 5326, 'representing': 5327, 'represents': 5328, 'reputable': 5329, 'reputation': 5330, 'reputed': 5331, 'request': 5332, 'requested': 5333, 'requesting': 5334, 'requests': 5335, 'require': 5336, 'required': 5337, 'requirement': 5338, 'requirements': 5339, 'requires': 5340, 'rescheduled': 5341, 'rescission': 5342, 'research': 5343, 'researched': 5344, 'researching': 5345, 'resellers': 5346, 'resending': 5347, 'reservation': 5348, 'reservations': 5349, 'reserve': 5350, 'reserved': 5351, 'reserving': 5352, 'reset': 5353, 'reside': 5354, 'residence': 5355, 'resident': 5356, 'residents': 5357, 'residing': 5358, 'resistant': 5359, 'resistors': 5360, 'resolve': 5361, 'resolved': 5362, 'resolving': 5363, 'resort': 5364, 'resorting': 5365, 'resorts': 5366, 'resource': 5367, 'resources': 5368, 'respect': 5369, 'respected': 5370, 'respective': 5371, 'respectively': 5372, 'respects': 5373, 'respond': 5374, 'responding': 5375, 'response': 5376, 'responsibility': 5377, 'responsible': 5378, 'responsive': 5379, 'rest': 5380, 'restart': 5381, 'restaurant': 5382, 'restaurants': 5383, 'restocked': 5384, 'restore': 5385, 'restoring': 5386, 'restricted': 5387, 'restriction': 5388, 'restrictions': 5389, 'restroom': 5390, 'restrooms': 5391, 'result': 5392, 'resulted': 5393, 'results': 5394, 'resume': 5395, 'resumes': 5396, 'retail': 5397, 'retailer': 5398, 'retails': 5399, 'retain': 5400, 'retains': 5401, 'retirement': 5402, 'retract': 5403, 'retreat': 5404, 'retreats': 5405, 'retrieve': 5406, 'return': 5407, 'returned': 5408, 'returning': 5409, 'returns': 5410, 'reuploading': 5411, 'reusable': 5412, 'revamp': 5413, 'revealing': 5414, 'revenue': 5415, 'revenues': 5416, 'revert': 5417, 'review': 5418, 'reviewed': 5419, 'reviewers': 5420, 'reviewing': 5421, 'revise': 5422, 'revised': 5423, 'revision': 5424, 'revisions': 5425, 'revoke': 5426, 'revolving': 5427, 'reward': 5428, 'rewarding': 5429, 'rewards': 5430, 'rib': 5431, 'ribs': 5432, 'rice': 5433, 'rich': 5434, 'rid': 5435, 'ride': 5436, 'rides': 5437, 'right': 5438, 'rights': 5439, 'rigid': 5440, 'rim': 5441, 'ring': 5442, 'rise': 5443, 'risen': 5444, 'risk': 5445, 'risking': 5446, 'risks': 5447, 'risky': 5448, 'ritual': 5449, 'road': 5450, 'roadblock': 5451, 'roadmap': 5452, 'roasted': 5453, 'robot': 5454, 'rock': 5455, 'rocky': 5456, 'role': 5457, 'roleplaying': 5458, 'roles': 5459, 'roll': 5460, 'roller': 5461, 'rolls': 5462, 'roof': 5463, 'roofing': 5464, 'rooftop': 5465, 'room': 5466, 'roommate': 5467, 'rooms': 5468, 'root': 5469, 'roots': 5470, 'ropes': 5471, 'rotary': 5472, 'rough': 5473, 'round': 5474, 'rounds': 5475, 'router': 5476, 'routine': 5477, 'royalty': 5478, 'rude': 5479, 'ruin': 5480, 'ruined': 5481, 'rules': 5482, 'rumor': 5483, 'run': 5484, 'running': 5485, 'runs': 5486, 'rural': 5487, 'rush': 5488, 'rushing': 5489, 's': 5490, 'sacrificing': 5491, 'sad': 5492, 'safe': 5493, 'safeguard': 5494, 'safely': 5495, 'safer': 5496, 'safety': 5497, 'said': 5498, 'sake': 5499, 'salad': 5500, 'salary': 5501, 'sale': 5502, 'sales': 5503, 'salesmen': 5504, 'salt': 5505, 'saltwater': 5506, 'same': 5507, 'samgyeopsal': 5508, 'samgyupsal': 5509, 'sample': 5510, 'sampler': 5511, 'samples': 5512, 'sampling': 5513, 'sanctioning': 5514, 'sandwich': 5515, 'sandwiches': 5516, 'sanitary': 5517, 'satellite': 5518, 'satin': 5519, 'satisfied': 5520, 'satisfy': 5521, 'sauce': 5522, 'sauna': 5523, 'sausage': 5524, 'save': 5525, 'saved': 5526, 'saver': 5527, 'saves': 5528, 'saving': 5529, 'savings': 5530, 'savory': 5531, 'savvy': 5532, 'saw': 5533, 'say': 5534, 'saying': 5535, 'says': 5536, 'scaffolding': 5537, 'scale': 5538, 'scammed': 5539, 'scan': 5540, 'scanner': 5541, 'scanners': 5542, 'scanning': 5543, 'scarcity': 5544, 'scared': 5545, 'scavenger': 5546, 'scenario': 5547, 'scenarios': 5548, 'scenic': 5549, 'scent': 5550, 'schedule': 5551, 'scheduled': 5552, 'scheduler': 5553, 'schedules': 5554, 'scheme': 5555, 'scholar': 5556, 'scholarships': 5557, 'school': 5558, 'schooling': 5559, 'science': 5560, 'sciences': 5561, 'scientific': 5562, 'scientists': 5563, 'scooters': 5564, 'score': 5565, 'scores': 5566, 'scratch': 5567, 'screen': 5568, 'screening': 5569, 'screenplay': 5570, 'screens': 5571, 'screenshot': 5572, 'screenshots': 5573, 'screw': 5574, 'screws': 5575, 'script': 5576, 'scrub': 5577, 'sculptors': 5578, 'sea': 5579, 'seal': 5580, 'search': 5581, 'searching': 5582, 'seared': 5583, 'season': 5584, 'seasons': 5585, 'seat': 5586, 'seats': 5587, 'seaweed': 5588, 'seaworthiness': 5589, 'second': 5590, 'secondary': 5591, 'secondhand': 5592, 'seconds': 5593, 'secret': 5594, 'secretary': 5595, 'section': 5596, 'sector': 5597, 'secure': 5598, 'secured': 5599, 'secures': 5600, 'securing': 5601, 'securities': 5602, 'security': 5603, 'see': 5604, 'seedlings': 5605, 'seeing': 5606, 'seek': 5607, 'seeking': 5608, 'seem': 5609, 'seems': 5610, 'seen': 5611, 'select': 5612, 'selected': 5613, 'selection': 5614, 'selections': 5615, 'self': 5616, 'sell': 5617, 'seller': 5618, 'sellers': 5619, 'selling': 5620, 'sells': 5621, 'selves': 5622, 'semester': 5623, 'semiconductor': 5624, 'semiconductors': 5625, 'seminar': 5626, 'seminars': 5627, 'send': 5628, 'sender': 5629, 'sending': 5630, 'senior': 5631, 'seniors': 5632, 'sense': 5633, 'sensor': 5634, 'sensors': 5635, 'sent': 5636, 'separate': 5637, 'separately': 5638, 'serial': 5639, 'series': 5640, 'serious': 5641, 'serve': 5642, 'served': 5643, 'server': 5644, 'servers': 5645, 'serves': 5646, 'service': 5647, 'serviced': 5648, 'services': 5649, 'servicing': 5650, 'serving': 5651, 'servings': 5652, 'servo': 5653, 'session': 5654, 'sessions': 5655, 'set': 5656, 'sets': 5657, 'setting': 5658, 'settings': 5659, 'settle': 5660, 'settled': 5661, 'setup': 5662, 'setups': 5663, 'seven': 5664, 'several': 5665, 'severe': 5666, 'sewer': 5667, 'sewing': 5668, 'shaded': 5669, 'shaft': 5670, 'shafts': 5671, 'shake': 5672, 'shall': 5673, 'shape': 5674, 'shaped': 5675, 'shapes': 5676, 'share': 5677, 'shared': 5678, 'shares': 5679, 'sharing': 5680, 'sharpened': 5681, 'sharply': 5682, 'she': 5683, 'sheet': 5684, 'shelter': 5685, 'shift': 5686, 'shifted': 5687, 'ship': 5688, 'shipment': 5689, 'shipments': 5690, 'shipped': 5691, 'shipping': 5692, 'ships': 5693, 'shock': 5694, 'shoddy': 5695, 'shoe': 5696, 'shoes': 5697, 'shoot': 5698, 'shooting': 5699, 'shop': 5700, 'shopping': 5701, 'shops': 5702, 'short': 5703, 'shortly': 5704, 'shot': 5705, 'shots': 5706, 'should': 5707, 'shoulder': 5708, 'shouldn': 5709, 'shovel': 5710, 'shovels': 5711, 'show': 5712, 'showcase': 5713, 'showcases': 5714, 'showcasing': 5715, 'showed': 5716, 'shower': 5717, 'showing': 5718, 'shown': 5719, 'showroom': 5720, 'shows': 5721, 'shredder': 5722, 'shredders': 5723, 'shrimp': 5724, 'shutting': 5725, 'shy': 5726, 'sibling': 5727, 'side': 5728, 'sides': 5729, 'sign': 5730, 'signal': 5731, 'signals': 5732, 'signatory': 5733, 'signature': 5734, 'signatures': 5735, 'signed': 5736, 'significance': 5737, 'significant': 5738, 'significantly': 5739, 'signify': 5740, 'signing': 5741, 'silent': 5742, 'silk': 5743, 'silver': 5744, 'silverware': 5745, 'similar': 5746, 'simmered': 5747, 'simmering': 5748, 'simple': 5749, 'simpler': 5750, 'simply': 5751, 'simultaneously': 5752, 'since': 5753, 'sincere': 5754, 'sincerely': 5755, 'sing': 5756, 'single': 5757, 'sink': 5758, 'sir': 5759, 'sister': 5760, 'sit': 5761, 'site': 5762, 'sited': 5763, 'sites': 5764, 'sitting': 5765, 'situation': 5766, 'situations': 5767, 'six': 5768, 'sixth': 5769, 'sizable': 5770, 'size': 5771, 'sized': 5772, 'sizes': 5773, 'sketches': 5774, 'skill': 5775, 'skilled': 5776, 'skills': 5777, 'skin': 5778, 'skincare': 5779, 'skyline': 5780, 'skyrocket': 5781, 'sleep': 5782, 'sleeping': 5783, 'slept': 5784, 'slice': 5785, 'slide': 5786, 'slides': 5787, 'sliding': 5788, 'slightly': 5789, 'slip': 5790, 'slippers': 5791, 'slot': 5792, 'slots': 5793, 'slow': 5794, 'slurp': 5795, 'small': 5796, 'smaller': 5797, 'smallest': 5798, 'smart': 5799, 'smartphone': 5800, 'smartphones': 5801, 'smartwatches': 5802, 'smile': 5803, 'smoke': 5804, 'smooth': 5805, 'smoothly': 5806, 'snack': 5807, 'snacks': 5808, 'snap': 5809, 'sneakers': 5810, 'snob': 5811, 'snorkeling': 5812, 'so': 5813, 'soap': 5814, 'soaps': 5815, 'soaring': 5816, 'social': 5817, 'societal': 5818, 'socket': 5819, 'socks': 5820, 'sof': 5821, 'sofa': 5822, 'soft': 5823, 'software': 5824, 'softwares': 5825, 'soil': 5826, 'soju': 5827, 'sold': 5828, 'sole': 5829, 'solely': 5830, 'solid': 5831, 'solitary': 5832, 'solo': 5833, 'solution': 5834, 'solutions': 5835, 'solve': 5836, 'solving': 5837, 'some': 5838, 'somebody': 5839, 'someday': 5840, 'somehow': 5841, 'someone': 5842, 'something': 5843, 'sometime': 5844, 'sometimes': 5845, 'somewhere': 5846, 'son': 5847, 'song': 5848, 'songs': 5849, 'soon': 5850, 'sooner': 5851, 'sophisticated': 5852, 'sorry': 5853, 'sort': 5854, 'sorted': 5855, 'sorts': 5856, 'sound': 5857, 'soundbite': 5858, 'sounded': 5859, 'sounds': 5860, 'soundtrack': 5861, 'soup': 5862, 'source': 5863, 'sources': 5864, 'sous': 5865, 'southeast': 5866, 'souvenirs': 5867, 'soy': 5868, 'spa': 5869, 'space': 5870, 'spaces': 5871, 'spacious': 5872, 'spaghetti': 5873, 'spam': 5874, 'spare': 5875, 'spark': 5876, 'spas': 5877, 'speak': 5878, 'speaker': 5879, 'speakers': 5880, 'speaking': 5881, 'speaks': 5882, 'special': 5883, 'specialize': 5884, 'specialized': 5885, 'specializes': 5886, 'specialties': 5887, 'specialty': 5888, 'specific': 5889, 'specifically': 5890, 'specification': 5891, 'specifications': 5892, 'specifics': 5893, 'spectacular': 5894, 'spectrophotometer': 5895, 'spectrum': 5896, 'speed': 5897, 'speeds': 5898, 'spend': 5899, 'spending': 5900, 'spent': 5901, 'spices': 5902, 'spicy': 5903, 'spike': 5904, 'spinners': 5905, 'spinning': 5906, 'spiral': 5907, 'split': 5908, 'spoke': 5909, 'spoken': 5910, 'sponsor': 5911, 'sponsored': 5912, 'spoons': 5913, 'sports': 5914, 'spot': 5915, 'spots': 5916, 'spouse': 5917, 'sprained': 5918, 'spray': 5919, 'spread': 5920, 'spreader': 5921, 'spreading': 5922, 'spring': 5923, 'springs': 5924, 'sprout': 5925, 'sprouts': 5926, 'spyware': 5927, 'square': 5928, 'squeeze': 5929, 'squid': 5930, 'ssambap': 5931, 'ssamjang': 5932, 'st': 5933, 'stable': 5934, 'stacking': 5935, 'staff': 5936, 'staffs': 5937, 'stage': 5938, 'stages': 5939, 'staggered': 5940, 'stainless': 5941, 'stake': 5942, 'stalls': 5943, 'stand': 5944, 'standard': 5945, 'standards': 5946, 'standing': 5947, 'stands': 5948, 'star': 5949, 'starch': 5950, 'starred': 5951, 'stars': 5952, 'start': 5953, 'started': 5954, 'starters': 5955, 'starting': 5956, 'starts': 5957, 'startup': 5958, 'startups': 5959, 'state': 5960, 'stated': 5961, 'statement': 5962, 'statements': 5963, 'states': 5964, 'static': 5965, 'station': 5966, 'stationary': 5967, 'stationed': 5968, 'stations': 5969, 'statistics': 5970, 'statue': 5971, 'status': 5972, 'stay': 5973, 'stayed': 5974, 'staying': 5975, 'stays': 5976, 'steadier': 5977, 'steady': 5978, 'steak': 5979, 'steal': 5980, 'steamed': 5981, 'steamers': 5982, 'steel': 5983, 'steering': 5984, 'stems': 5985, 'step': 5986, 'stepped': 5987, 'steps': 5988, 'sterilizers': 5989, 'stew': 5990, 'stick': 5991, 'sticker': 5992, 'stickers': 5993, 'sticky': 5994, 'still': 5995, 'stipulated': 5996, 'stir': 5997, 'stitches': 5998, 'stock': 5999, 'stockbroker': 6000, 'stocks': 6001, 'stolen': 6002, 'stones': 6003, 'stop': 6004, 'stoppers': 6005, 'stops': 6006, 'storage': 6007, 'store': 6008, 'stored': 6009, 'stores': 6010, 'storey': 6011, 'stories': 6012, 'storm': 6013, 'story': 6014, 'stoves': 6015, 'straight': 6016, 'straighten': 6017, 'strain': 6018, 'strands': 6019, 'strange': 6020, 'strategic': 6021, 'strategies': 6022, 'strategize': 6023, 'strategy': 6024, 'straw': 6025, 'stream': 6026, 'streamed': 6027, 'streaming': 6028, 'street': 6029, 'strength': 6030, 'strengthen': 6031, 'stress': 6032, 'strict': 6033, 'strictly': 6034, 'strictness': 6035, 'strips': 6036, 'strive': 6037, 'striving': 6038, 'stroganoff': 6039, 'strong': 6040, 'stronger': 6041, 'strongly': 6042, 'structure': 6043, 'structures': 6044, 'struggle': 6045, 'stub': 6046, 'stuck': 6047, 'student': 6048, 'students': 6049, 'studied': 6050, 'studies': 6051, 'studio': 6052, 'study': 6053, 'studying': 6054, 'stuff': 6055, 'stumped': 6056, 'stunning': 6057, 'stupendous': 6058, 'stuttering': 6059, 'style': 6060, 'subcription': 6061, 'subdivision': 6062, 'submersible': 6063, 'submission': 6064, 'submissions': 6065, 'submit': 6066, 'submitted': 6067, 'subscribe': 6068, 'subscribed': 6069, 'subscriber': 6070, 'subscribers': 6071, 'subscribing': 6072, 'subscription': 6073, 'subscriptions': 6074, 'subsidiaries': 6075, 'subsidiary': 6076, 'substantial': 6077, 'subtitles': 6078, 'subway': 6079, 'succeed': 6080, 'succeeded': 6081, 'success': 6082, 'successful': 6083, 'succinctly': 6084, 'such': 6085, 'suction': 6086, 'sudden': 6087, 'suddenly': 6088, 'suffer': 6089, 'suffered': 6090, 'suffice': 6091, 'sufficient': 6092, 'sugar': 6093, 'suggest': 6094, 'suggested': 6095, 'suggesting': 6096, 'suggestion': 6097, 'suggestions': 6098, 'suit': 6099, 'suitable': 6100, 'suite': 6101, 'suites': 6102, 'sujeonggwa': 6103, 'sukju': 6104, 'sum': 6105, 'summary': 6106, 'summer': 6107, 'sun': 6108, 'sunrise': 6109, 'superintendent': 6110, 'superiors': 6111, 'supermarket': 6112, 'supervisor': 6113, 'supervisory': 6114, 'supplements': 6115, 'supplied': 6116, 'supplier': 6117, 'suppliers': 6118, 'supplies': 6119, 'supply': 6120, 'supplying': 6121, 'support': 6122, 'supporters': 6123, 'supporting': 6124, 'supportive': 6125, 'suppose': 6126, 'supposed': 6127, 'sure': 6128, 'surely': 6129, 'surface': 6130, 'surge': 6131, 'surpass': 6132, 'surplus': 6133, 'surprise': 6134, 'surprised': 6135, 'surround': 6136, 'surveillance': 6137, 'survey': 6138, 'surveyed': 6139, 'suspect': 6140, 'suspicious': 6141, 'sustainable': 6142, 'sweat': 6143, 'sweet': 6144, 'sweets': 6145, 'swift': 6146, 'swiftly': 6147, 'swimming': 6148, 'switch': 6149, 'switched': 6150, 'switching': 6151, 'symbols': 6152, 'symmetric': 6153, 'syndicated': 6154, 'synopsis': 6155, 'synthesizing': 6156, 'synthetic': 6157, 'syringes': 6158, 'system': 6159, 'systems': 6160, 't': 6161, 'tab': 6162, 'table': 6163, 'tables': 6164, 'tablet': 6165, 'tablets': 6166, 'tabulate': 6167, 'tackled': 6168, 'tactics': 6169, 'tagline': 6170, 'tags': 6171, 'tainted': 6172, 'take': 6173, 'taken': 6174, 'takeover': 6175, 'taker': 6176, 'takes': 6177, 'taking': 6178, 'talent': 6179, 'talents': 6180, 'talk': 6181, 'talked': 6182, 'talking': 6183, 'talks': 6184, 'tap': 6185, 'tape': 6186, 'taps': 6187, 'target': 6188, 'targeted': 6189, 'targeting': 6190, 'targets': 6191, 'tariff': 6192, 'tariffs': 6193, 'task': 6194, 'tasked': 6195, 'tasks': 6196, 'taste': 6197, 'tasted': 6198, 'tastes': 6199, 'tasty': 6200, 'tattoo': 6201, 'taught': 6202, 'tax': 6203, 'taxation': 6204, 'taxed': 6205, 'taxes': 6206, 'tea': 6207, 'teach': 6208, 'teacher': 6209, 'teachers': 6210, 'teaching': 6211, 'team': 6212, 'teammates': 6213, 'teams': 6214, 'teas': 6215, 'teaser': 6216, 'tech': 6217, 'technical': 6218, 'technically': 6219, 'technician': 6220, 'technicians': 6221, 'techniques': 6222, 'technological': 6223, 'technologies': 6224, 'technologist': 6225, 'technology': 6226, 'tedious': 6227, 'teenagers': 6228, 'telecommunication': 6229, 'telecommunications': 6230, 'teleconference': 6231, 'telephone': 6232, 'television': 6233, 'televisions': 6234, 'tell': 6235, 'telling': 6236, 'temperature': 6237, 'temperatures': 6238, 'template': 6239, 'templates': 6240, 'temple': 6241, 'temples': 6242, 'temporarily': 6243, 'temporary': 6244, 'ten': 6245, 'tenants': 6246, 'tend': 6247, 'tendency': 6248, 'tender': 6249, 'tent': 6250, 'tentative': 6251, 'tents': 6252, 'tenure': 6253, 'terabyte': 6254, 'terabytes': 6255, 'term': 6256, 'terminal': 6257, 'terminate': 6258, 'terms': 6259, 'terrace': 6260, 'terrible': 6261, 'terribly': 6262, 'test': 6263, 'tested': 6264, 'tester': 6265, 'testers': 6266, 'testing': 6267, 'tests': 6268, 'text': 6269, 'textbook': 6270, 'textbooks': 6271, 'textile': 6272, 'textiles': 6273, 'texts': 6274, 'texture': 6275, 'textures': 6276, 'th': 6277, 'than': 6278, 'thank': 6279, 'thanks': 6280, 'that': 6281, 'the': 6282, 'theater': 6283, 'their': 6284, 'theirs': 6285, 'them': 6286, 'theme': 6287, 'themes': 6288, 'themselves': 6289, 'then': 6290, 'therapy': 6291, 'there': 6292, 'thereby': 6293, 'therefore': 6294, 'thermoforming': 6295, 'thermoplastic': 6296, 'thermostat': 6297, 'these': 6298, 'they': 6299, 'thick': 6300, 'thickened': 6301, 'thin': 6302, 'thing': 6303, 'things': 6304, 'think': 6305, 'thinking': 6306, 'thinks': 6307, 'third': 6308, 'this': 6309, 'thorough': 6310, 'thoroughly': 6311, 'those': 6312, 'though': 6313, 'thought': 6314, 'thoughts': 6315, 'thousand': 6316, 'thousands': 6317, 'threads': 6318, 'threat': 6319, 'threaten': 6320, 'threatening': 6321, 'three': 6322, 'thriller': 6323, 'thrives': 6324, 'through': 6325, 'throughout': 6326, 'thus': 6327, 'ticket': 6328, 'tickets': 6329, 'tie': 6330, 'tied': 6331, 'tier': 6332, 'tight': 6333, 'tightly': 6334, 'till': 6335, 'time': 6336, 'timeline': 6337, 'timelines': 6338, 'timely': 6339, 'timer': 6340, 'times': 6341, 'timespan': 6342, 'timetable': 6343, 'timing': 6344, 'tiny': 6345, 'tip': 6346, 'tipping': 6347, 'tips': 6348, 'tire': 6349, 'tissue': 6350, 'title': 6351, 'to': 6352, 'toast': 6353, 'toasters': 6354, 'tobacco': 6355, 'today': 6356, 'toddlers': 6357, 'toe': 6358, 'together': 6359, 'toilet': 6360, 'token': 6361, 'tokens': 6362, 'told': 6363, 'tolerant': 6364, 'tolerated': 6365, 'tomorrow': 6366, 'ton': 6367, 'tone': 6368, 'toner': 6369, 'tones': 6370, 'tonight': 6371, 'too': 6372, 'took': 6373, 'tool': 6374, 'tools': 6375, 'top': 6376, 'topic': 6377, 'topics': 6378, 'topmost': 6379, 'torn': 6380, 'tortilla': 6381, 'total': 6382, 'totally': 6383, 'touch': 6384, 'touchscreen': 6385, 'tough': 6386, 'tour': 6387, 'tourism': 6388, 'tourist': 6389, 'tourists': 6390, 'tours': 6391, 'tow': 6392, 'toward': 6393, 'towards': 6394, 'towel': 6395, 'towels': 6396, 'town': 6397, 'townhouse': 6398, 'track': 6399, 'trackballs': 6400, 'tracking': 6401, 'trackpad': 6402, 'tractor': 6403, 'trade': 6404, 'trademark': 6405, 'trader': 6406, 'trades': 6407, 'trading': 6408, 'traditional': 6409, 'traditionally': 6410, 'traditions': 6411, 'traffic': 6412, 'trailer': 6413, 'trailers': 6414, 'train': 6415, 'training': 6416, 'trainings': 6417, 'trains': 6418, 'tranche': 6419, 'transact': 6420, 'transaction': 6421, 'transactions': 6422, 'transfer': 6423, 'transferred': 6424, 'transferring': 6425, 'transfers': 6426, 'translations': 6427, 'translators': 6428, 'transmission': 6429, 'transmit': 6430, 'transmitted': 6431, 'transparency': 6432, 'transport': 6433, 'transportation': 6434, 'transportations': 6435, 'trash': 6436, 'travel': 6437, 'traveled': 6438, 'travelers': 6439, 'traveling': 6440, 'travelled': 6441, 'tread': 6442, 'treat': 6443, 'treated': 6444, 'treatment': 6445, 'treatments': 6446, 'tremendously': 6447, 'trend': 6448, 'trending': 6449, 'trends': 6450, 'trendy': 6451, 'tri': 6452, 'trial': 6453, 'trials': 6454, 'tricky': 6455, 'tried': 6456, 'tries': 6457, 'trigger': 6458, 'trip': 6459, 'triple': 6460, 'trips': 6461, 'trouble': 6462, 'troubles': 6463, 'troubleshooting': 6464, 'truck': 6465, 'trucks': 6466, 'true': 6467, 'truly': 6468, 'trust': 6469, 'trusted': 6470, 'trustee': 6471, 'trusting': 6472, 'trustworthy': 6473, 'truth': 6474, 'try': 6475, 'trying': 6476, 'tteokbokki': 6477, 'tub': 6478, 'tube': 6479, 'tubes': 6480, 'tubing': 6481, 'tubs': 6482, 'tuned': 6483, 'tunnels': 6484, 'turn': 6485, 'turnaround': 6486, 'turned': 6487, 'turning': 6488, 'turnkey': 6489, 'turns': 6490, 'tutorials': 6491, 'tweaks': 6492, 'twenty': 6493, 'twice': 6494, 'twin': 6495, 'two': 6496, 'type': 6497, 'types': 6498, 'typewriter': 6499, 'typical': 6500, 'typically': 6501, 'ultimately': 6502, 'ultrasonic': 6503, 'ultrasound': 6504, 'umbrella': 6505, 'unable': 6506, 'unacceptable': 6507, 'unauthorized': 6508, 'unavailable': 6509, 'unaware': 6510, 'unboxed': 6511, 'unboxing': 6512, 'unbreakable': 6513, 'unchanged': 6514, 'uncomfortable': 6515, 'under': 6516, 'undergoing': 6517, 'underlying': 6518, 'underneath': 6519, 'underreported': 6520, 'understaffed': 6521, 'understand': 6522, 'understandable': 6523, 'understanding': 6524, 'undervalued': 6525, 'underwriting': 6526, 'undoubtedly': 6527, 'undress': 6528, 'unemployed': 6529, 'unending': 6530, 'unequal': 6531, 'unexpected': 6532, 'unfair': 6533, 'unfamiliar': 6534, 'unfold': 6535, 'unforeseen': 6536, 'unfortunate': 6537, 'unfortunately': 6538, 'unhappy': 6539, 'unintentional': 6540, 'unique': 6541, 'unit': 6542, 'units': 6543, 'unity': 6544, 'universal': 6545, 'universities': 6546, 'university': 6547, 'unless': 6548, 'unlike': 6549, 'unlimited': 6550, 'unloading': 6551, 'unnecessary': 6552, 'unpleasant': 6553, 'unpredictable': 6554, 'unprofessional': 6555, 'unquantifiable': 6556, 'unrealized': 6557, 'unsecured': 6558, 'unstable': 6559, 'unsure': 6560, 'unsustainable': 6561, 'until': 6562, 'untouched': 6563, 'unused': 6564, 'up': 6565, 'upcoming': 6566, 'update': 6567, 'updated': 6568, 'updates': 6569, 'updating': 6570, 'upfront': 6571, 'upgrade': 6572, 'upgraded': 6573, 'upgrades': 6574, 'upgrading': 6575, 'upkeep': 6576, 'upload': 6577, 'uploaded': 6578, 'uploading': 6579, 'upon': 6580, 'upper': 6581, 'ups': 6582, 'upset': 6583, 'urge': 6584, 'urged': 6585, 'urgent': 6586, 'urgently': 6587, 'us': 6588, 'usability': 6589, 'usage': 6590, 'use': 6591, 'used': 6592, 'useful': 6593, 'user': 6594, 'users': 6595, 'uses': 6596, 'using': 6597, 'usual': 6598, 'usually': 6599, 'utensils': 6600, 'utilities': 6601, 'utility': 6602, 'utilize': 6603, 'utilized': 6604, 'utilizing': 6605, 'vacation': 6606, 'vaccination': 6607, 'vaccine': 6608, 'vacuum': 6609, 'valid': 6610, 'validates': 6611, 'validating': 6612, 'validity': 6613, 'valuable': 6614, 'valuables': 6615, 'value': 6616, 'values': 6617, 'valve': 6618, 'valves': 6619, 'van': 6620, 'vans': 6621, 'variable': 6622, 'variables': 6623, 'variation': 6624, 'varies': 6625, 'varieties': 6626, 'variety': 6627, 'various': 6628, 'vary': 6629, 'varying': 6630, 've': 6631, 'vector': 6632, 'vectors': 6633, 'vegan': 6634, 'vegetable': 6635, 'vegetables': 6636, 'vegetarian': 6637, 'veggies': 6638, 'vehicle': 6639, 'vehicles': 6640, 'vending': 6641, 'vendor': 6642, 'vendors': 6643, 'venture': 6644, 'ventures': 6645, 'venturi': 6646, 'venturing': 6647, 'venue': 6648, 'verification': 6649, 'verified': 6650, 'verify': 6651, 'versatile': 6652, 'version': 6653, 'versions': 6654, 'very': 6655, 'veteran': 6656, 'via': 6657, 'viable': 6658, 'viand': 6659, 'vibes': 6660, 'vibrations': 6661, 'victim': 6662, 'vide': 6663, 'video': 6664, 'videoconferencing': 6665, 'videos': 6666, 'view': 6667, 'viewers': 6668, 'views': 6669, 'villa': 6670, 'village': 6671, 'villas': 6672, 'vine': 6673, 'vinegar': 6674, 'vintage': 6675, 'violated': 6676, 'violation': 6677, 'violent': 6678, 'viral': 6679, 'virtual': 6680, 'virtualization': 6681, 'virtually': 6682, 'virus': 6683, 'viruses': 6684, 'visas': 6685, 'viscosity': 6686, 'visibility': 6687, 'visible': 6688, 'vision': 6689, 'visit': 6690, 'visited': 6691, 'visiting': 6692, 'visitors': 6693, 'visits': 6694, 'visual': 6695, 'visualization': 6696, 'visualizations': 6697, 'visualize': 6698, 'visually': 6699, 'visuals': 6700, 'vital': 6701, 'vitals': 6702, 'vlog': 6703, 'vocabulary': 6704, 'voice': 6705, 'volatile': 6706, 'volume': 6707, 'voluminous': 6708, 'vulnerable': 6709, 'wafer': 6710, 'wage': 6711, 'wages': 6712, 'wait': 6713, 'waited': 6714, 'waiters': 6715, 'waiting': 6716, 'waive': 6717, 'waived': 6718, 'wake': 6719, 'walk': 6720, 'walking': 6721, 'wallet': 6722, 'wallpapers': 6723, 'walls': 6724, 'want': 6725, 'wanted': 6726, 'wanting': 6727, 'wants': 6728, 'warehouse': 6729, 'warm': 6730, 'warn': 6731, 'warning': 6732, 'warping': 6733, 'warrant': 6734, 'warrants': 6735, 'warranty': 6736, 'wary': 6737, 'was': 6738, 'washer': 6739, 'washers': 6740, 'wasn': 6741, 'waste': 6742, 'wasting': 6743, 'watch': 6744, 'watched': 6745, 'watching': 6746, 'water': 6747, 'watering': 6748, 'watermelon': 6749, 'waterproof': 6750, 'waterways': 6751, 'watts': 6752, 'way': 6753, 'ways': 6754, 'we': 6755, 'wealth': 6756, 'wealthy': 6757, 'wear': 6758, 'weather': 6759, 'web': 6760, 'webinar': 6761, 'webinars': 6762, 'webpage': 6763, 'website': 6764, 'websites': 6765, 'wedding': 6766, 'weddings': 6767, 'week': 6768, 'weekdays': 6769, 'weekend': 6770, 'weekends': 6771, 'weekly': 6772, 'weeks': 6773, 'weight': 6774, 'welcome': 6775, 'welcomes': 6776, 'well': 6777, 'went': 6778, 'were': 6779, 'weren': 6780, 'west': 6781, 'western': 6782, 'what': 6783, 'whatever': 6784, 'wheat': 6785, 'wheel': 6786, 'wheels': 6787, 'when': 6788, 'whenever': 6789, 'where': 6790, 'whereabouts': 6791, 'wherever': 6792, 'whether': 6793, 'which': 6794, 'while': 6795, 'white': 6796, 'who': 6797, 'whoever': 6798, 'whole': 6799, 'wholesale': 6800, 'whom': 6801, 'whose': 6802, 'why': 6803, 'wide': 6804, 'widely': 6805, 'widened': 6806, 'wider': 6807, 'widest': 6808, 'wife': 6809, 'wild': 6810, 'wildlife': 6811, 'will': 6812, 'willing': 6813, 'win': 6814, 'wind': 6815, 'window': 6816, 'windows': 6817, 'wine': 6818, 'wines': 6819, 'wing': 6820, 'winner': 6821, 'winter': 6822, 'wipe': 6823, 'wire': 6824, 'wired': 6825, 'wireless': 6826, 'wires': 6827, 'wise': 6828, 'wisely': 6829, 'wish': 6830, 'wished': 6831, 'wishes': 6832, 'with': 6833, 'withdraw': 6834, 'withdrawal': 6835, 'withhold': 6836, 'within': 6837, 'without': 6838, 'witness': 6839, 'women': 6840, 'won': 6841, 'wonder': 6842, 'wonderful': 6843, 'wondering': 6844, 'wonders': 6845, 'wood': 6846, 'word': 6847, 'words': 6848, 'work': 6849, 'worked': 6850, 'worker': 6851, 'workers': 6852, 'workforce': 6853, 'working': 6854, 'workplace': 6855, 'works': 6856, 'workshop': 6857, 'world': 6858, 'worldwide': 6859, 'worm': 6860, 'worms': 6861, 'worried': 6862, 'worries': 6863, 'worry': 6864, 'worrying': 6865, 'worse': 6866, 'worst': 6867, 'worth': 6868, 'worthwhile': 6869, 'worthy': 6870, 'would': 6871, 'wouldn': 6872, 'wow': 6873, 'wrap': 6874, 'wrapping': 6875, 'wraps': 6876, 'write': 6877, 'writers': 6878, 'writing': 6879, 'written': 6880, 'wrong': 6881, 'yacht': 6882, 'yang': 6883, 'yard': 6884, 'yarn': 6885, 'year': 6886, 'yearly': 6887, 'years': 6888, 'yell': 6889, 'yellow': 6890, 'yen': 6891, 'yes': 6892, 'yesterday': 6893, 'yet': 6894, 'yield': 6895, 'yields': 6896, 'yin': 6897, 'yo': 6898, 'you': 6899, 'young': 6900, 'youngsters': 6901, 'your': 6902, 'yours': 6903, 'yourself': 6904, 'yourselves': 6905, 'youth': 6906, 'yurt': 6907, 'zero': 6908, 'zones': 6909, 'zoom': 6910, 'é': 6911}\n"
          ]
        }
      ]
    },
    {
      "cell_type": "code",
      "source": [
        "len(src_vocab)"
      ],
      "metadata": {
        "colab": {
          "base_uri": "https://localhost:8080/"
        },
        "id": "x-bbP6pvCCLT",
        "outputId": "0c6fc049-4491-44d7-e1b4-61d7161f5625"
      },
      "execution_count": 75,
      "outputs": [
        {
          "output_type": "execute_result",
          "data": {
            "text/plain": [
              "5790"
            ]
          },
          "metadata": {},
          "execution_count": 75
        }
      ]
    },
    {
      "cell_type": "markdown",
      "source": [
        "### 정수 인코딩"
      ],
      "metadata": {
        "id": "tWUdLA1eanaz"
      }
    },
    {
      "cell_type": "code",
      "source": [
        "import pandas as pd\n",
        "dt = pd.DataFrame(src_seq_tr)\n",
        "dt"
      ],
      "metadata": {
        "colab": {
          "base_uri": "https://localhost:8080/",
          "height": 424
        },
        "id": "1SGoGVms99-X",
        "outputId": "e24e5225-bfe1-4c0a-cab3-f46de3c8338e"
      },
      "execution_count": 66,
      "outputs": [
        {
          "output_type": "execute_result",
          "data": {
            "text/plain": [
              "      0     1   2      3    4      5     6     7     8     9   ...    21  \\\n",
              "0     \\n     그   말     들다  기쁘다     저희    거래    하다     것    고려  ...  None   \n",
              "1     \\n  확실하다  생각     있다    몇     가지   여쭈다    보고    싶다     게  ...  None   \n",
              "2     \\n   오늘날  세계     가구    중     가구   고양이     개    또는     둘  ...  None   \n",
              "3     \\n     그   말     하다   저희      그    아이   돌보다     것    이다  ...  None   \n",
              "4     \\n    좋다  수영     어떤   가요   None  None  None  None  None  ...  None   \n",
              "...   ..   ...  ..    ...  ...    ...   ...   ...   ...   ...  ...   ...   \n",
              "9995  \\n  아늑하다  동시  다채로웠으   좋다   None  None  None  None  None  ...  None   \n",
              "9996  \\n    현재  로서      그   유닛     가치   높이다   어떻다    하다    하다  ...  None   \n",
              "9997  \\n    유닛   둘    나누다   효율  타운하우스   만들다    수도    있다  None  ...  None   \n",
              "9998  \\n    귀하  회사    로부터   받다     최근    제안    대해    논의   드리다  ...  None   \n",
              "9999  \\n  안녕하다  저희     한국   있다     저희    회사     새   사무실     위  ...  None   \n",
              "\n",
              "        22    23    24    25    26    27    28    29    30  \n",
              "0     None  None  None  None  None  None  None  None  None  \n",
              "1     None  None  None  None  None  None  None  None  None  \n",
              "2     None  None  None  None  None  None  None  None  None  \n",
              "3     None  None  None  None  None  None  None  None  None  \n",
              "4     None  None  None  None  None  None  None  None  None  \n",
              "...    ...   ...   ...   ...   ...   ...   ...   ...   ...  \n",
              "9995  None  None  None  None  None  None  None  None  None  \n",
              "9996  None  None  None  None  None  None  None  None  None  \n",
              "9997  None  None  None  None  None  None  None  None  None  \n",
              "9998  None  None  None  None  None  None  None  None  None  \n",
              "9999  None  None  None  None  None  None  None  None  None  \n",
              "\n",
              "[10000 rows x 31 columns]"
            ],
            "text/html": [
              "\n",
              "  <div id=\"df-58af124e-bac1-4f19-8ccb-30b9dbaaf056\">\n",
              "    <div class=\"colab-df-container\">\n",
              "      <div>\n",
              "<style scoped>\n",
              "    .dataframe tbody tr th:only-of-type {\n",
              "        vertical-align: middle;\n",
              "    }\n",
              "\n",
              "    .dataframe tbody tr th {\n",
              "        vertical-align: top;\n",
              "    }\n",
              "\n",
              "    .dataframe thead th {\n",
              "        text-align: right;\n",
              "    }\n",
              "</style>\n",
              "<table border=\"1\" class=\"dataframe\">\n",
              "  <thead>\n",
              "    <tr style=\"text-align: right;\">\n",
              "      <th></th>\n",
              "      <th>0</th>\n",
              "      <th>1</th>\n",
              "      <th>2</th>\n",
              "      <th>3</th>\n",
              "      <th>4</th>\n",
              "      <th>5</th>\n",
              "      <th>6</th>\n",
              "      <th>7</th>\n",
              "      <th>8</th>\n",
              "      <th>9</th>\n",
              "      <th>...</th>\n",
              "      <th>21</th>\n",
              "      <th>22</th>\n",
              "      <th>23</th>\n",
              "      <th>24</th>\n",
              "      <th>25</th>\n",
              "      <th>26</th>\n",
              "      <th>27</th>\n",
              "      <th>28</th>\n",
              "      <th>29</th>\n",
              "      <th>30</th>\n",
              "    </tr>\n",
              "  </thead>\n",
              "  <tbody>\n",
              "    <tr>\n",
              "      <th>0</th>\n",
              "      <td>\\n</td>\n",
              "      <td>그</td>\n",
              "      <td>말</td>\n",
              "      <td>들다</td>\n",
              "      <td>기쁘다</td>\n",
              "      <td>저희</td>\n",
              "      <td>거래</td>\n",
              "      <td>하다</td>\n",
              "      <td>것</td>\n",
              "      <td>고려</td>\n",
              "      <td>...</td>\n",
              "      <td>None</td>\n",
              "      <td>None</td>\n",
              "      <td>None</td>\n",
              "      <td>None</td>\n",
              "      <td>None</td>\n",
              "      <td>None</td>\n",
              "      <td>None</td>\n",
              "      <td>None</td>\n",
              "      <td>None</td>\n",
              "      <td>None</td>\n",
              "    </tr>\n",
              "    <tr>\n",
              "      <th>1</th>\n",
              "      <td>\\n</td>\n",
              "      <td>확실하다</td>\n",
              "      <td>생각</td>\n",
              "      <td>있다</td>\n",
              "      <td>몇</td>\n",
              "      <td>가지</td>\n",
              "      <td>여쭈다</td>\n",
              "      <td>보고</td>\n",
              "      <td>싶다</td>\n",
              "      <td>게</td>\n",
              "      <td>...</td>\n",
              "      <td>None</td>\n",
              "      <td>None</td>\n",
              "      <td>None</td>\n",
              "      <td>None</td>\n",
              "      <td>None</td>\n",
              "      <td>None</td>\n",
              "      <td>None</td>\n",
              "      <td>None</td>\n",
              "      <td>None</td>\n",
              "      <td>None</td>\n",
              "    </tr>\n",
              "    <tr>\n",
              "      <th>2</th>\n",
              "      <td>\\n</td>\n",
              "      <td>오늘날</td>\n",
              "      <td>세계</td>\n",
              "      <td>가구</td>\n",
              "      <td>중</td>\n",
              "      <td>가구</td>\n",
              "      <td>고양이</td>\n",
              "      <td>개</td>\n",
              "      <td>또는</td>\n",
              "      <td>둘</td>\n",
              "      <td>...</td>\n",
              "      <td>None</td>\n",
              "      <td>None</td>\n",
              "      <td>None</td>\n",
              "      <td>None</td>\n",
              "      <td>None</td>\n",
              "      <td>None</td>\n",
              "      <td>None</td>\n",
              "      <td>None</td>\n",
              "      <td>None</td>\n",
              "      <td>None</td>\n",
              "    </tr>\n",
              "    <tr>\n",
              "      <th>3</th>\n",
              "      <td>\\n</td>\n",
              "      <td>그</td>\n",
              "      <td>말</td>\n",
              "      <td>하다</td>\n",
              "      <td>저희</td>\n",
              "      <td>그</td>\n",
              "      <td>아이</td>\n",
              "      <td>돌보다</td>\n",
              "      <td>것</td>\n",
              "      <td>이다</td>\n",
              "      <td>...</td>\n",
              "      <td>None</td>\n",
              "      <td>None</td>\n",
              "      <td>None</td>\n",
              "      <td>None</td>\n",
              "      <td>None</td>\n",
              "      <td>None</td>\n",
              "      <td>None</td>\n",
              "      <td>None</td>\n",
              "      <td>None</td>\n",
              "      <td>None</td>\n",
              "    </tr>\n",
              "    <tr>\n",
              "      <th>4</th>\n",
              "      <td>\\n</td>\n",
              "      <td>좋다</td>\n",
              "      <td>수영</td>\n",
              "      <td>어떤</td>\n",
              "      <td>가요</td>\n",
              "      <td>None</td>\n",
              "      <td>None</td>\n",
              "      <td>None</td>\n",
              "      <td>None</td>\n",
              "      <td>None</td>\n",
              "      <td>...</td>\n",
              "      <td>None</td>\n",
              "      <td>None</td>\n",
              "      <td>None</td>\n",
              "      <td>None</td>\n",
              "      <td>None</td>\n",
              "      <td>None</td>\n",
              "      <td>None</td>\n",
              "      <td>None</td>\n",
              "      <td>None</td>\n",
              "      <td>None</td>\n",
              "    </tr>\n",
              "    <tr>\n",
              "      <th>...</th>\n",
              "      <td>...</td>\n",
              "      <td>...</td>\n",
              "      <td>...</td>\n",
              "      <td>...</td>\n",
              "      <td>...</td>\n",
              "      <td>...</td>\n",
              "      <td>...</td>\n",
              "      <td>...</td>\n",
              "      <td>...</td>\n",
              "      <td>...</td>\n",
              "      <td>...</td>\n",
              "      <td>...</td>\n",
              "      <td>...</td>\n",
              "      <td>...</td>\n",
              "      <td>...</td>\n",
              "      <td>...</td>\n",
              "      <td>...</td>\n",
              "      <td>...</td>\n",
              "      <td>...</td>\n",
              "      <td>...</td>\n",
              "      <td>...</td>\n",
              "    </tr>\n",
              "    <tr>\n",
              "      <th>9995</th>\n",
              "      <td>\\n</td>\n",
              "      <td>아늑하다</td>\n",
              "      <td>동시</td>\n",
              "      <td>다채로웠으</td>\n",
              "      <td>좋다</td>\n",
              "      <td>None</td>\n",
              "      <td>None</td>\n",
              "      <td>None</td>\n",
              "      <td>None</td>\n",
              "      <td>None</td>\n",
              "      <td>...</td>\n",
              "      <td>None</td>\n",
              "      <td>None</td>\n",
              "      <td>None</td>\n",
              "      <td>None</td>\n",
              "      <td>None</td>\n",
              "      <td>None</td>\n",
              "      <td>None</td>\n",
              "      <td>None</td>\n",
              "      <td>None</td>\n",
              "      <td>None</td>\n",
              "    </tr>\n",
              "    <tr>\n",
              "      <th>9996</th>\n",
              "      <td>\\n</td>\n",
              "      <td>현재</td>\n",
              "      <td>로서</td>\n",
              "      <td>그</td>\n",
              "      <td>유닛</td>\n",
              "      <td>가치</td>\n",
              "      <td>높이다</td>\n",
              "      <td>어떻다</td>\n",
              "      <td>하다</td>\n",
              "      <td>하다</td>\n",
              "      <td>...</td>\n",
              "      <td>None</td>\n",
              "      <td>None</td>\n",
              "      <td>None</td>\n",
              "      <td>None</td>\n",
              "      <td>None</td>\n",
              "      <td>None</td>\n",
              "      <td>None</td>\n",
              "      <td>None</td>\n",
              "      <td>None</td>\n",
              "      <td>None</td>\n",
              "    </tr>\n",
              "    <tr>\n",
              "      <th>9997</th>\n",
              "      <td>\\n</td>\n",
              "      <td>유닛</td>\n",
              "      <td>둘</td>\n",
              "      <td>나누다</td>\n",
              "      <td>효율</td>\n",
              "      <td>타운하우스</td>\n",
              "      <td>만들다</td>\n",
              "      <td>수도</td>\n",
              "      <td>있다</td>\n",
              "      <td>None</td>\n",
              "      <td>...</td>\n",
              "      <td>None</td>\n",
              "      <td>None</td>\n",
              "      <td>None</td>\n",
              "      <td>None</td>\n",
              "      <td>None</td>\n",
              "      <td>None</td>\n",
              "      <td>None</td>\n",
              "      <td>None</td>\n",
              "      <td>None</td>\n",
              "      <td>None</td>\n",
              "    </tr>\n",
              "    <tr>\n",
              "      <th>9998</th>\n",
              "      <td>\\n</td>\n",
              "      <td>귀하</td>\n",
              "      <td>회사</td>\n",
              "      <td>로부터</td>\n",
              "      <td>받다</td>\n",
              "      <td>최근</td>\n",
              "      <td>제안</td>\n",
              "      <td>대해</td>\n",
              "      <td>논의</td>\n",
              "      <td>드리다</td>\n",
              "      <td>...</td>\n",
              "      <td>None</td>\n",
              "      <td>None</td>\n",
              "      <td>None</td>\n",
              "      <td>None</td>\n",
              "      <td>None</td>\n",
              "      <td>None</td>\n",
              "      <td>None</td>\n",
              "      <td>None</td>\n",
              "      <td>None</td>\n",
              "      <td>None</td>\n",
              "    </tr>\n",
              "    <tr>\n",
              "      <th>9999</th>\n",
              "      <td>\\n</td>\n",
              "      <td>안녕하다</td>\n",
              "      <td>저희</td>\n",
              "      <td>한국</td>\n",
              "      <td>있다</td>\n",
              "      <td>저희</td>\n",
              "      <td>회사</td>\n",
              "      <td>새</td>\n",
              "      <td>사무실</td>\n",
              "      <td>위</td>\n",
              "      <td>...</td>\n",
              "      <td>None</td>\n",
              "      <td>None</td>\n",
              "      <td>None</td>\n",
              "      <td>None</td>\n",
              "      <td>None</td>\n",
              "      <td>None</td>\n",
              "      <td>None</td>\n",
              "      <td>None</td>\n",
              "      <td>None</td>\n",
              "      <td>None</td>\n",
              "    </tr>\n",
              "  </tbody>\n",
              "</table>\n",
              "<p>10000 rows × 31 columns</p>\n",
              "</div>\n",
              "      <button class=\"colab-df-convert\" onclick=\"convertToInteractive('df-58af124e-bac1-4f19-8ccb-30b9dbaaf056')\"\n",
              "              title=\"Convert this dataframe to an interactive table.\"\n",
              "              style=\"display:none;\">\n",
              "        \n",
              "  <svg xmlns=\"http://www.w3.org/2000/svg\" height=\"24px\"viewBox=\"0 0 24 24\"\n",
              "       width=\"24px\">\n",
              "    <path d=\"M0 0h24v24H0V0z\" fill=\"none\"/>\n",
              "    <path d=\"M18.56 5.44l.94 2.06.94-2.06 2.06-.94-2.06-.94-.94-2.06-.94 2.06-2.06.94zm-11 1L8.5 8.5l.94-2.06 2.06-.94-2.06-.94L8.5 2.5l-.94 2.06-2.06.94zm10 10l.94 2.06.94-2.06 2.06-.94-2.06-.94-.94-2.06-.94 2.06-2.06.94z\"/><path d=\"M17.41 7.96l-1.37-1.37c-.4-.4-.92-.59-1.43-.59-.52 0-1.04.2-1.43.59L10.3 9.45l-7.72 7.72c-.78.78-.78 2.05 0 2.83L4 21.41c.39.39.9.59 1.41.59.51 0 1.02-.2 1.41-.59l7.78-7.78 2.81-2.81c.8-.78.8-2.07 0-2.86zM5.41 20L4 18.59l7.72-7.72 1.47 1.35L5.41 20z\"/>\n",
              "  </svg>\n",
              "      </button>\n",
              "      \n",
              "  <style>\n",
              "    .colab-df-container {\n",
              "      display:flex;\n",
              "      flex-wrap:wrap;\n",
              "      gap: 12px;\n",
              "    }\n",
              "\n",
              "    .colab-df-convert {\n",
              "      background-color: #E8F0FE;\n",
              "      border: none;\n",
              "      border-radius: 50%;\n",
              "      cursor: pointer;\n",
              "      display: none;\n",
              "      fill: #1967D2;\n",
              "      height: 32px;\n",
              "      padding: 0 0 0 0;\n",
              "      width: 32px;\n",
              "    }\n",
              "\n",
              "    .colab-df-convert:hover {\n",
              "      background-color: #E2EBFA;\n",
              "      box-shadow: 0px 1px 2px rgba(60, 64, 67, 0.3), 0px 1px 3px 1px rgba(60, 64, 67, 0.15);\n",
              "      fill: #174EA6;\n",
              "    }\n",
              "\n",
              "    [theme=dark] .colab-df-convert {\n",
              "      background-color: #3B4455;\n",
              "      fill: #D2E3FC;\n",
              "    }\n",
              "\n",
              "    [theme=dark] .colab-df-convert:hover {\n",
              "      background-color: #434B5C;\n",
              "      box-shadow: 0px 1px 3px 1px rgba(0, 0, 0, 0.15);\n",
              "      filter: drop-shadow(0px 1px 2px rgba(0, 0, 0, 0.3));\n",
              "      fill: #FFFFFF;\n",
              "    }\n",
              "  </style>\n",
              "\n",
              "      <script>\n",
              "        const buttonEl =\n",
              "          document.querySelector('#df-58af124e-bac1-4f19-8ccb-30b9dbaaf056 button.colab-df-convert');\n",
              "        buttonEl.style.display =\n",
              "          google.colab.kernel.accessAllowed ? 'block' : 'none';\n",
              "\n",
              "        async function convertToInteractive(key) {\n",
              "          const element = document.querySelector('#df-58af124e-bac1-4f19-8ccb-30b9dbaaf056');\n",
              "          const dataTable =\n",
              "            await google.colab.kernel.invokeFunction('convertToInteractive',\n",
              "                                                     [key], {});\n",
              "          if (!dataTable) return;\n",
              "\n",
              "          const docLinkHtml = 'Like what you see? Visit the ' +\n",
              "            '<a target=\"_blank\" href=https://colab.research.google.com/notebooks/data_table.ipynb>data table notebook</a>'\n",
              "            + ' to learn more about interactive tables.';\n",
              "          element.innerHTML = '';\n",
              "          dataTable['output_type'] = 'display_data';\n",
              "          await google.colab.output.renderOutput(dataTable, element);\n",
              "          const docLink = document.createElement('div');\n",
              "          docLink.innerHTML = docLinkHtml;\n",
              "          element.appendChild(docLink);\n",
              "        }\n",
              "      </script>\n",
              "    </div>\n",
              "  </div>\n",
              "  "
            ]
          },
          "metadata": {},
          "execution_count": 66
        }
      ]
    },
    {
      "cell_type": "code",
      "source": [
        "src_to_index['저희']"
      ],
      "metadata": {
        "colab": {
          "base_uri": "https://localhost:8080/"
        },
        "id": "YIiJTSKl_XXn",
        "outputId": "35f98699-3068-46b2-c6ae-a632e3cde12c"
      },
      "execution_count": 72,
      "outputs": [
        {
          "output_type": "execute_result",
          "data": {
            "text/plain": [
              "4174"
            ]
          },
          "metadata": {},
          "execution_count": 72
        }
      ]
    },
    {
      "cell_type": "code",
      "source": [
        "dt2 = dt.apply(lambda x: src_to_index[x])"
      ],
      "metadata": {
        "colab": {
          "base_uri": "https://localhost:8080/",
          "height": 250
        },
        "id": "lwU67h_Z-shs",
        "outputId": "f2bea712-5218-4a61-801a-58a70d562f09"
      },
      "execution_count": 71,
      "outputs": [
        {
          "output_type": "error",
          "ename": "TypeError",
          "evalue": "ignored",
          "traceback": [
            "\u001b[0;31m---------------------------------------------------------------------------\u001b[0m",
            "\u001b[0;31mTypeError\u001b[0m                                 Traceback (most recent call last)",
            "\u001b[0;32m<ipython-input-71-cfedb1b117e2>\u001b[0m in \u001b[0;36m<module>\u001b[0;34m\u001b[0m\n\u001b[0;32m----> 1\u001b[0;31m \u001b[0mdt2\u001b[0m \u001b[0;34m=\u001b[0m \u001b[0mdt\u001b[0m\u001b[0;34m.\u001b[0m\u001b[0mapply\u001b[0m\u001b[0;34m(\u001b[0m\u001b[0;32mlambda\u001b[0m \u001b[0mx\u001b[0m\u001b[0;34m:\u001b[0m \u001b[0msrc_to_index\u001b[0m\u001b[0;34m[\u001b[0m\u001b[0mx\u001b[0m\u001b[0;34m]\u001b[0m\u001b[0;34m)\u001b[0m\u001b[0;34m\u001b[0m\u001b[0;34m\u001b[0m\u001b[0m\n\u001b[0m",
            "\u001b[0;32m/usr/local/lib/python3.7/dist-packages/pandas/core/frame.py\u001b[0m in \u001b[0;36mapply\u001b[0;34m(self, func, axis, raw, result_type, args, **kwargs)\u001b[0m\n\u001b[1;32m   8738\u001b[0m             \u001b[0mkwargs\u001b[0m\u001b[0;34m=\u001b[0m\u001b[0mkwargs\u001b[0m\u001b[0;34m,\u001b[0m\u001b[0;34m\u001b[0m\u001b[0;34m\u001b[0m\u001b[0m\n\u001b[1;32m   8739\u001b[0m         )\n\u001b[0;32m-> 8740\u001b[0;31m         \u001b[0;32mreturn\u001b[0m \u001b[0mop\u001b[0m\u001b[0;34m.\u001b[0m\u001b[0mapply\u001b[0m\u001b[0;34m(\u001b[0m\u001b[0;34m)\u001b[0m\u001b[0;34m\u001b[0m\u001b[0;34m\u001b[0m\u001b[0m\n\u001b[0m\u001b[1;32m   8741\u001b[0m \u001b[0;34m\u001b[0m\u001b[0m\n\u001b[1;32m   8742\u001b[0m     def applymap(\n",
            "\u001b[0;32m/usr/local/lib/python3.7/dist-packages/pandas/core/apply.py\u001b[0m in \u001b[0;36mapply\u001b[0;34m(self)\u001b[0m\n\u001b[1;32m    686\u001b[0m             \u001b[0;32mreturn\u001b[0m \u001b[0mself\u001b[0m\u001b[0;34m.\u001b[0m\u001b[0mapply_raw\u001b[0m\u001b[0;34m(\u001b[0m\u001b[0;34m)\u001b[0m\u001b[0;34m\u001b[0m\u001b[0;34m\u001b[0m\u001b[0m\n\u001b[1;32m    687\u001b[0m \u001b[0;34m\u001b[0m\u001b[0m\n\u001b[0;32m--> 688\u001b[0;31m         \u001b[0;32mreturn\u001b[0m \u001b[0mself\u001b[0m\u001b[0;34m.\u001b[0m\u001b[0mapply_standard\u001b[0m\u001b[0;34m(\u001b[0m\u001b[0;34m)\u001b[0m\u001b[0;34m\u001b[0m\u001b[0;34m\u001b[0m\u001b[0m\n\u001b[0m\u001b[1;32m    689\u001b[0m \u001b[0;34m\u001b[0m\u001b[0m\n\u001b[1;32m    690\u001b[0m     \u001b[0;32mdef\u001b[0m \u001b[0magg\u001b[0m\u001b[0;34m(\u001b[0m\u001b[0mself\u001b[0m\u001b[0;34m)\u001b[0m\u001b[0;34m:\u001b[0m\u001b[0;34m\u001b[0m\u001b[0;34m\u001b[0m\u001b[0m\n",
            "\u001b[0;32m/usr/local/lib/python3.7/dist-packages/pandas/core/apply.py\u001b[0m in \u001b[0;36mapply_standard\u001b[0;34m(self)\u001b[0m\n\u001b[1;32m    810\u001b[0m \u001b[0;34m\u001b[0m\u001b[0m\n\u001b[1;32m    811\u001b[0m     \u001b[0;32mdef\u001b[0m \u001b[0mapply_standard\u001b[0m\u001b[0;34m(\u001b[0m\u001b[0mself\u001b[0m\u001b[0;34m)\u001b[0m\u001b[0;34m:\u001b[0m\u001b[0;34m\u001b[0m\u001b[0;34m\u001b[0m\u001b[0m\n\u001b[0;32m--> 812\u001b[0;31m         \u001b[0mresults\u001b[0m\u001b[0;34m,\u001b[0m \u001b[0mres_index\u001b[0m \u001b[0;34m=\u001b[0m \u001b[0mself\u001b[0m\u001b[0;34m.\u001b[0m\u001b[0mapply_series_generator\u001b[0m\u001b[0;34m(\u001b[0m\u001b[0;34m)\u001b[0m\u001b[0;34m\u001b[0m\u001b[0;34m\u001b[0m\u001b[0m\n\u001b[0m\u001b[1;32m    813\u001b[0m \u001b[0;34m\u001b[0m\u001b[0m\n\u001b[1;32m    814\u001b[0m         \u001b[0;31m# wrap results\u001b[0m\u001b[0;34m\u001b[0m\u001b[0;34m\u001b[0m\u001b[0;34m\u001b[0m\u001b[0m\n",
            "\u001b[0;32m/usr/local/lib/python3.7/dist-packages/pandas/core/apply.py\u001b[0m in \u001b[0;36mapply_series_generator\u001b[0;34m(self)\u001b[0m\n\u001b[1;32m    826\u001b[0m             \u001b[0;32mfor\u001b[0m \u001b[0mi\u001b[0m\u001b[0;34m,\u001b[0m \u001b[0mv\u001b[0m \u001b[0;32min\u001b[0m \u001b[0menumerate\u001b[0m\u001b[0;34m(\u001b[0m\u001b[0mseries_gen\u001b[0m\u001b[0;34m)\u001b[0m\u001b[0;34m:\u001b[0m\u001b[0;34m\u001b[0m\u001b[0;34m\u001b[0m\u001b[0m\n\u001b[1;32m    827\u001b[0m                 \u001b[0;31m# ignore SettingWithCopy here in case the user mutates\u001b[0m\u001b[0;34m\u001b[0m\u001b[0;34m\u001b[0m\u001b[0;34m\u001b[0m\u001b[0m\n\u001b[0;32m--> 828\u001b[0;31m                 \u001b[0mresults\u001b[0m\u001b[0;34m[\u001b[0m\u001b[0mi\u001b[0m\u001b[0;34m]\u001b[0m \u001b[0;34m=\u001b[0m \u001b[0mself\u001b[0m\u001b[0;34m.\u001b[0m\u001b[0mf\u001b[0m\u001b[0;34m(\u001b[0m\u001b[0mv\u001b[0m\u001b[0;34m)\u001b[0m\u001b[0;34m\u001b[0m\u001b[0;34m\u001b[0m\u001b[0m\n\u001b[0m\u001b[1;32m    829\u001b[0m                 \u001b[0;32mif\u001b[0m \u001b[0misinstance\u001b[0m\u001b[0;34m(\u001b[0m\u001b[0mresults\u001b[0m\u001b[0;34m[\u001b[0m\u001b[0mi\u001b[0m\u001b[0;34m]\u001b[0m\u001b[0;34m,\u001b[0m \u001b[0mABCSeries\u001b[0m\u001b[0;34m)\u001b[0m\u001b[0;34m:\u001b[0m\u001b[0;34m\u001b[0m\u001b[0;34m\u001b[0m\u001b[0m\n\u001b[1;32m    830\u001b[0m                     \u001b[0;31m# If we have a view on v, we need to make a copy because\u001b[0m\u001b[0;34m\u001b[0m\u001b[0;34m\u001b[0m\u001b[0;34m\u001b[0m\u001b[0m\n",
            "\u001b[0;32m<ipython-input-71-cfedb1b117e2>\u001b[0m in \u001b[0;36m<lambda>\u001b[0;34m(x)\u001b[0m\n\u001b[0;32m----> 1\u001b[0;31m \u001b[0mdt2\u001b[0m \u001b[0;34m=\u001b[0m \u001b[0mdt\u001b[0m\u001b[0;34m.\u001b[0m\u001b[0mapply\u001b[0m\u001b[0;34m(\u001b[0m\u001b[0;32mlambda\u001b[0m \u001b[0mx\u001b[0m\u001b[0;34m:\u001b[0m \u001b[0msrc_to_index\u001b[0m\u001b[0;34m[\u001b[0m\u001b[0mx\u001b[0m\u001b[0;34m]\u001b[0m\u001b[0;34m)\u001b[0m\u001b[0;34m\u001b[0m\u001b[0;34m\u001b[0m\u001b[0m\n\u001b[0m",
            "\u001b[0;31mTypeError\u001b[0m: unhashable type: 'Series'"
          ]
        }
      ]
    },
    {
      "cell_type": "code",
      "source": [
        "# 앞서 toekn-index dictionary로 정리한 것을 이용해서 각각의 토큰들을 정수인코딩을 진행해봅니다.\n",
        "# 이 과정에서 유의할 점은, 기존의 구현 코드에서 여러개의 for loop을 사용했습니다.\n",
        "# 이보다 빨리 진행하기 위해 어떻게 코딩할 수 있을까요?\n",
        "# 시간이 충분하시다면 for loop을 그대로 이용하셔도 좋습니다만, 다른 방법도 고민하셔도 좋습니다.\n",
        "# hint: Pandas에서 apply와 비슷한 것들을 이용해보면 어떨까요?\n",
        "\n",
        "# encoder의 입력값 정수 인코딩 진행\n",
        "encoder_input = torch.Tensor(src_seq_tr.apply(lambda x: src_to_index[x])\n",
        "# 우선 decoder에서 사용하는 문장에 대해 정수인코딩 진행\n",
        "decoder_input = ~~~\n",
        "# 다만 decoder의 출력값은 <SOS>들어가면 안되니 첫번째 토큰은 빼주기\n",
        "decoder_target = ~~~~\n",
        "# decoder의 입력값은 마지막 <EOS>가 들어가면 안되니 마지막 토큰은 빼주기\n",
        "decoder_input = ~~~~"
      ],
      "metadata": {
        "id": "ocvHdAzp0B3Q"
      },
      "execution_count": null,
      "outputs": []
    },
    {
      "cell_type": "code",
      "execution_count": null,
      "metadata": {
        "id": "fT3x1SL_l1pY"
      },
      "outputs": [],
      "source": [
        "from torch.nn.utils.rnn import pad_sequence"
      ]
    },
    {
      "cell_type": "markdown",
      "source": [
        "### Padding"
      ],
      "metadata": {
        "id": "ibj8DeCqbvZG"
      }
    },
    {
      "cell_type": "code",
      "execution_count": null,
      "metadata": {
        "id": "sSNmdbEwuQR5"
      },
      "outputs": [],
      "source": [
        "# 현재 길이가 제각각인 정수화된 문장이 있습니다. padding을 통해 길이를 맞춰봅시다\n",
        "# 주의사항: 여기에 사용된 값을은 정수일까요?\n",
        "batch_first = True\n",
        "\n",
        "encoder_input_tr = pad_sequence(encoder_input, batch_first=batch_first).long()\n",
        "decoder_input_tr = pad_sequence(decoder_input, batch_first=batch_first).long()\n",
        "decoder_target_tr = pad_sequence(decoder_target, batch_first=batch_first).long()"
      ]
    },
    {
      "cell_type": "markdown",
      "metadata": {
        "id": "FQ_AHRQPmfZX"
      },
      "source": [
        "## Train data\n",
        "\n",
        "tuple type으로,  (encoder_input, decoder_input, decoder_target)의 순서를 가지게 됩니다. 이는 tuple assignment를 이용하려고 하는 것이니 자유롭게 사용하셔도 좋습니다."
      ]
    },
    {
      "cell_type": "code",
      "execution_count": null,
      "metadata": {
        "id": "YXqi5dV-mjQD"
      },
      "outputs": [],
      "source": [
        "train_data = tuple([encoder_input_tr, decoder_input_tr, decoder_target_tr])"
      ]
    },
    {
      "cell_type": "markdown",
      "metadata": {
        "id": "nXhsP4O3mhih"
      },
      "source": [
        "## Eval data\n",
        "\n",
        "지금까지 진행한 것은 학습 데이터에 대한 전처리입니다.\n",
        "\n",
        "그런데 말입니다, 과연 평가 데이터는 학습데이터랑 동일한 형태일까요?\n",
        "\n",
        "사용하는 단어도 동일할까요?\n",
        "\n",
        "게다가 실제 데이터라면 문장 속에 이메일이나, 전화번호등 다른 것들로 대체해야할 게 있지 않을까요?\n",
        "\n",
        "참으로 고민할 게 많습니다. 이 모든 것들을 고려하면 좋겠지만, 현재 과제에서는 학습 데이터의 단어 집합에는 없는데 평가 데이터에서 등장하는 단어들은 어떻게 처리할지 한번 고민해봅시다.\n",
        "\n",
        "**핵심 TODO**:만약에 본 적이 없는 token이 나온다면 어떻게 될까요?\n",
        "\n",
        "--> Out of Vocabulary !  =지금까지 단어 집합에 없던 아이들!<br>\n",
        "\n",
        "이를 한번에 처리해주는 토큰으로 \\<UNK\\>(=unknown token) 을 사용\n",
        "\n",
        "EX)\n",
        "\n",
        "train data : \"나는 밥을 먹는다.\"<br>\n",
        "\\>> [\"나\", \"밥\", \"먹다\"]<br>\n",
        "\\>> [\\<SOS\\>, 나, 밥, 먹다, \\<EOS\\>] <BR>\n",
        "\\>> {\\<SOS\\>:0, \\<EOS\\>:1, \\<UNK\\>: 2, 나:3, 밥:4, 먹다:5}  <bR>\n",
        "\\>> [0, 3, 4, 5, 1] <BR>\n",
        "\n",
        "val data: \"나는 고기를 먹는다\"<br>\n",
        "\\>> ['나', '고기' '먹다']<BR>\n",
        "\\>> [\\<SOS\\>, 나, \\<UNK\\>, 먹다, \\<EOS\\>] <BR>\n",
        "\\>> [0, 3, 2, 5, 1] <BR>"
      ]
    },
    {
      "cell_type": "code",
      "source": [
        "src_seq_val = []\n",
        "tar_seq_val = []\n",
        "\n",
        "\n",
        "for raw_val_dat in tqdm(raw_val_data):\n",
        "  # 문장별 tokenization\n",
        "  src_tmp = CustomTokenizer(raw_tr_dat['ko'])\n",
        "  tar_tmp = CustomTokenizer(raw_tr_dat['en'])\n",
        "\n",
        "  # 입력 시퀀스에서 문장의 끝을 알리는 <EOS> 토큰 추가\n",
        "  # 출력 시퀀스에서 시작과 끝을 알리는 <SOS>, <EOS> 토큰 추가\n",
        "  src_tmp.insert(0,'\\n')\n",
        "  tar_tmp.insert(0,'\\t')\n",
        "  tar_tmp.append('\\n')\n",
        "\n",
        "\n",
        "  # 처음보는 단어들은 일단 모르는 단어(OOV)로 표시해놓기  \n",
        "  # 해당 과정에서는 지금 얻은 toekn들(src_tmp와 tar_tmp)들 중에서 학습 데이터의 단어 집합(src_vocab과 tar_vocab)에 없는 단어들을 찾아야 합니다.\n",
        "  # 즉 위의 예시에서 \"고기\"에 해당하는 token을 찾아야 하고, 이를 list로 저장해봅시다.\n",
        "  src_oov = list(x for x in src_tmp if not in src_vocab)\n",
        "  tar_oov = list(x for x in tar_tmp if not in tar_vocab)\n",
        "\n",
        "  # OOV들은 <UNK>로 바꾸는 과정입니다.\n",
        "  # 지금 문장을 tokenization되어 있고, 앞서 구한 모르는 단어(OOV)들의 리스트(src_oov와 tar_oov)가 있는 상황에서\n",
        "  # 해당 리스트에 속한 토큰들은 <UNK>토큰으로 바꿔주는 것을 구현하는 파트입니다.\n",
        "  # 위의 예시에서 본다면 [<SOS>, 나, 고기, 먹다, <EOS>]를 [<SOS>, 나, <UNK>, 먹다, <EOS>]로 만들어주는 과정입니다.\n",
        "  for x in src_oov:\n",
        "    src_tmp.replace(x, '<UNK>')\n",
        "  for x in src_oov:\n",
        "    src_tmp.replace(x, '<UNK>')\n",
        "  \n",
        "  # tokenization 끝난 문장 보관\n",
        "  src_seq_val.append(src_tmp)\n",
        "  tar_seq_val.append(tar_tmp)"
      ],
      "metadata": {
        "colab": {
          "base_uri": "https://localhost:8080/"
        },
        "id": "tvlFP0Q94rU3",
        "outputId": "489e18c7-8c75-4d14-9e96-41ba21279d4f"
      },
      "execution_count": null,
      "outputs": [
        {
          "output_type": "stream",
          "name": "stderr",
          "text": [
            "100%|██████████| 1000/1000 [00:10<00:00, 94.94it/s]\n"
          ]
        }
      ]
    },
    {
      "cell_type": "code",
      "source": [
        "tar_seq_val[5]"
      ],
      "metadata": {
        "colab": {
          "base_uri": "https://localhost:8080/"
        },
        "id": "s7x2S0t08dfe",
        "outputId": "ac25165a-bf5e-402a-eaeb-405d887e7bd5"
      },
      "execution_count": null,
      "outputs": [
        {
          "output_type": "execute_result",
          "data": {
            "text/plain": [
              "['<SOS>', '<UNK>', '<UNK>', '<UNK>', 'and', 'even', '<UNK>', 'skin', '<EOS>']"
            ]
          },
          "metadata": {},
          "execution_count": 34
        }
      ]
    },
    {
      "cell_type": "markdown",
      "source": [
        "위의 샘플을 보면 생각보다 너무 많은 단어들이 UNK로 바뀌었습니다. 이게 과연 성능에 어떤 영향을 끼칠까요? 이를 방지할 수 있는 대책은 무엇일까요?\n",
        "\n",
        "정답은 없습니다. 자유롭게 고민해보셔도 좋을 것 같습니다."
      ],
      "metadata": {
        "id": "70nzuKIPf3nX"
      }
    },
    {
      "cell_type": "markdown",
      "source": [
        "### UNK 토큰 추가 및 단어집합, token-index 업데이트"
      ],
      "metadata": {
        "id": "KoH1M8GofxwV"
      }
    },
    {
      "cell_type": "code",
      "source": [
        "# UNK가 추가되면서 vocab과 index도 업데이트를 해야합니다.\n",
        "# 즉 지금 방식으로 처리한다면, 지금 단어 집합에는 <UNK>라는 토큰이 없습니다.\n",
        "# 그래서 UNK 토큰에도 정수를 할당해줘야 합니다.\n",
        "# 지금 0은 padding에서 사용하고 있으니 아래의 과정은 마지막에 <UNK>를 추가해보는 것입니다."
      ],
      "metadata": {
        "id": "lE3iIu_W8-78"
      },
      "execution_count": null,
      "outputs": []
    },
    {
      "cell_type": "code",
      "source": [
        "# 입력 시퀀스의 마지막 토큰과 정수인코딩값 확인\n",
        "list(src_to_index.items())[-1]"
      ],
      "metadata": {
        "colab": {
          "base_uri": "https://localhost:8080/"
        },
        "id": "KRl3l4bE9cVh",
        "outputId": "d5f3b061-a429-4ab6-b900-235b9e70f2d5"
      },
      "execution_count": null,
      "outputs": [
        {
          "output_type": "execute_result",
          "data": {
            "text/plain": [
              "('힘쓰다', 5767)"
            ]
          },
          "metadata": {},
          "execution_count": 37
        }
      ]
    },
    {
      "cell_type": "code",
      "source": [
        "# 현재 입력 시퀀스에 사용된 token들의 개수 확인\n",
        "len(src_vocab)"
      ],
      "metadata": {
        "colab": {
          "base_uri": "https://localhost:8080/"
        },
        "id": "yRuj2FNmgfA3",
        "outputId": "f560aa8b-b409-4381-9869-6435209e3c65"
      },
      "execution_count": null,
      "outputs": [
        {
          "output_type": "execute_result",
          "data": {
            "text/plain": [
              "5767"
            ]
          },
          "metadata": {},
          "execution_count": 39
        }
      ]
    },
    {
      "cell_type": "code",
      "source": [
        "# 우리는 마지막 토큰 뒤에 UNK 토큰을 추가해봅시다\n",
        "# 이 때 입력 시퀀스(src_to_index)와 출력시퀀스(tar_to_index)에 모두 사용해줘야 합니다.\n",
        "src_to_index[\"<UNK>\"] = len(src_to_index) +2\n",
        "tar_to_index[\"<UNK>\"] = len(tar_to_index) +2"
      ],
      "metadata": {
        "id": "2hQsCc5i9aw2"
      },
      "execution_count": null,
      "outputs": []
    },
    {
      "cell_type": "code",
      "source": [
        "# 입력시퀀스의 단어집합 확인\n",
        "print(list(tar_to_index.items())[:5])\n",
        "print(list(tar_to_index.items())[-1:-5:-1])"
      ],
      "metadata": {
        "colab": {
          "base_uri": "https://localhost:8080/"
        },
        "id": "09pOS9MtaUVJ",
        "outputId": "5a89673e-1de9-4209-f999-fcfe6f64de28"
      },
      "execution_count": null,
      "outputs": [
        {
          "output_type": "stream",
          "name": "stdout",
          "text": [
            "[('<EOS>', 1), ('<SOS>', 2), ('A', 3), ('AAA', 4), ('AAA1@BBB1.com.', 5)]\n",
            "[('<UNK>', 6909), ('zoom', 6908), ('zones', 6907), ('zero', 6906)]\n"
          ]
        }
      ]
    },
    {
      "cell_type": "code",
      "source": [
        "# 출력시퀀스의 단어집합 확인\n",
        "print(list(src_to_index.items())[:5])\n",
        "print(list(src_to_index.items())[-1:-5:-1])"
      ],
      "metadata": {
        "colab": {
          "base_uri": "https://localhost:8080/"
        },
        "id": "ZZqYpbTe-AK1",
        "outputId": "0b10c7c2-f208-4206-e821-d1c8eda361a4"
      },
      "execution_count": null,
      "outputs": [
        {
          "output_type": "stream",
          "name": "stdout",
          "text": [
            "[('<EOS>', 1), ('A', 2), ('AAA', 3), ('AAA1@BBB1.com', 4), ('AAA@BBB.com', 5)]\n",
            "[('<UNK>', 5768), ('힘쓰다', 5767), ('힘들다', 5766), ('힘', 5765)]\n"
          ]
        }
      ]
    },
    {
      "cell_type": "markdown",
      "source": [
        "### 정수 인코딩"
      ],
      "metadata": {
        "id": "-E5zRRZuhQa_"
      }
    },
    {
      "cell_type": "code",
      "source": [
        "# 평가 데이터에 대해서  정수 인코딩을 진행해주세요!\n",
        "# 이 과정에서 중요한 점은 우린 학습데이터만 가지고 있으니 학습 데이터에서 사용했던 toekn-index로 인코딩을 진행해야 합니다!\n",
        "# 참고 : 어떻게 하면 효율적 혹은 빠르게 할까요?\n",
        "\n",
        "# encoder의 입력값 정수 인코딩 진행\n",
        "encoder_input_val = torch.Tensor(src_seq_tr.apply(lambda x: src_to_index[x])\n",
        "# 우선 decoder에서 사용하는 문장에 대해 정수인코딩 진행\n",
        "decoder_input_val = torch.Tensor(tar_seq_tr.apply(lambda x: src_to_index[x])\n",
        "# 다만 decoder의 출력값은 <SOS>들어가면 안되니 첫번째 토큰은 빼주기\n",
        "decoder_target_val = torch.Tensor(src_seq_tr.apply(lambda x: src_to_index[x]).pop(1)\n",
        "# decoder의 입력값은 마지막 <EOS>가 들어가면 안되니 마지막 토큰은 빼주기\n",
        "decoder_input_val = torch.Tensor(src_seq_tr.apply(lambda x: src_to_index[x]).pop(-1)"
      ],
      "metadata": {
        "id": "LHRGJgfs-axo"
      },
      "execution_count": null,
      "outputs": []
    },
    {
      "cell_type": "markdown",
      "source": [
        "### Padding"
      ],
      "metadata": {
        "id": "ws8RA6UThh0t"
      }
    },
    {
      "cell_type": "code",
      "source": [
        "# 주의사항: 여기에 사용된 값을은 정수일까요?\n",
        "encoder_input_val = pad_sequence(encoder_input, batch_first=batch_first).long()\n",
        "decoder_input_val = pad_sequence(decoder_input, batch_first=batch_first).long()\n",
        "decoder_target_val =  pad_sequence(decoder_target, batch_first=batch_first).long()"
      ],
      "metadata": {
        "id": "4Qc_bb02-s6_"
      },
      "execution_count": null,
      "outputs": []
    },
    {
      "cell_type": "code",
      "execution_count": null,
      "metadata": {
        "id": "E7DOj62GnAfX"
      },
      "outputs": [],
      "source": [
        "val_data = tuple([encoder_input_val, decoder_input_val, decoder_target_val])"
      ]
    },
    {
      "cell_type": "markdown",
      "metadata": {
        "id": "WlZl7q5cxscM"
      },
      "source": [
        "# Dataset\n",
        "\n",
        "실습코드에서 사용한 것과 동일한 구조입니다! \n",
        "\n",
        "사실 앞서 처리가 진행되었던 모든 과정은 Dataset에서 __get_item__ 함수 내에서 처리해서 값을 리턴할 수도 있습니다.\n",
        "\n",
        "다만 설명을 위해 이번 과제에서는 과정을 단계별로 설명 드렸습니다. 추후에 진행하실 때엔 __get_item__에서 구현해보셔도 좋을 것 같아요!\n",
        "\n",
        "그리고 일부 단계의 경우 임의로 처리된 것들이 있습니다.(tokenization부터 stopwords 등등) 가령 이메일, 전화번호와 같은 단어들은 \\<UNK\\>처럼 새로운 토큰을 이용해서 처리할 수도 있으며 목적에 따라서 다른 tokenziation을 사용할 수 있습니다.\n",
        "\n",
        "**(참고)**\n",
        "\n",
        " __get_item__말고 사전에 전처리를 다한 상태로 사용할 경우 사실 사용할 모든 데이터를 메모리에 올려놓고 사용하는 것과 같습니다.(변수에 할당되어 있으니)\n",
        "\n",
        "그런데 우리가 데이터가 매매매매매우 많아진다면, 메모리가 부족해질 수도 있지 않을까요? 그렇기 때문에 때에 따라 data를 필요할 때 전처리를 하고 반환하기도 합니다. 여기서 data가 필요할때란 결국 __get_item__을 호출할 때가 될 것입니다.\n",
        "\n",
        "정리하자면, 꼭 모든 데이터를 한번에 다 전처리해놓도 준비해놓지 않고도, 필요할 때 마다(get_item이 호출될 때마다) 전처리해서 결과를 전달하는 방법도 있습니다.\n",
        "\n",
        "다만 해당 과제에서는 Seq2Seq에 익숙해지는 것을 목표로 하기에 이러한 점만 알고 가셔도 충분하기도 하고, 오히려 사전에 다 처리해놓는 현재 방식이 더 효율적일 수도 있습니다. 그렇기 때문에 이 점만 알고 가셔도 좋을 것 같습니다!"
      ]
    },
    {
      "cell_type": "code",
      "execution_count": null,
      "metadata": {
        "id": "j5lj6ZOPxpcj"
      },
      "outputs": [],
      "source": [
        "from torch.utils.data import Dataset, DataLoader"
      ]
    },
    {
      "cell_type": "code",
      "execution_count": null,
      "metadata": {
        "id": "xc7ZqjGmx1dk"
      },
      "outputs": [],
      "source": [
        "class textDataset(Dataset):\n",
        "  def __init__(self, data, batch_first=True):\n",
        "    super(textDataset, self).__init__()\n",
        "    # tuple asgginment를 활용한다면 굳이 argument로 모든 데이터를 받지 않아도 됩니다!\n",
        "    enc_inp, dec_inp, dec_out = data\n",
        "\n",
        "    # 내부에서 사용할 변수들 정리하는 것으로, 모든 데이터가 torch.LongTensor로 정리된 값들이 저장됩니다.\n",
        "    self.enc_inp = enc_inp\n",
        "    self.batch_first= batch_first\n",
        "    self.dec_inp = dec_inp\n",
        "    self.dec_out = dec_out\n",
        "\n",
        "\n",
        "  def __getitem__(self, idx):\n",
        "     return self.enc_inp[idx], self.dec_inp[idx],self.dec_out[idx]\n",
        "\n",
        "  def __len__(self):\n",
        "    return self.enc_inp.size(int(~self.batch_first))"
      ]
    },
    {
      "cell_type": "code",
      "execution_count": null,
      "metadata": {
        "id": "Z30_EO0uxrgH"
      },
      "outputs": [],
      "source": [
        "train_dataset = textDataset(train_data, batch_first=batch_first)\n",
        "val_dataset = textDataset(val_data, batch_first=batch_first)"
      ]
    },
    {
      "cell_type": "code",
      "execution_count": null,
      "metadata": {
        "colab": {
          "base_uri": "https://localhost:8080/"
        },
        "id": "J_AqR38AoB5n",
        "outputId": "ec57f895-4243-43e0-dd94-be366829d603"
      },
      "outputs": [
        {
          "output_type": "execute_result",
          "data": {
            "text/plain": [
              "(tensor([5768, 1724, 2007, 5768, 3748, 5405, 4332, 1366, 2767, 1881, 2783, 5163,\n",
              "         1972, 2844, 3154,  747, 3994,    1,    0,    0,    0,    0,    0,    0,\n",
              "            0,    0,    0,    0,    0,    0,    0,    0]),\n",
              " tensor([   2, 6909, 3572, 3392, 5124, 4264, 2221, 1285, 3925, 4312, 4787, 2037,\n",
              "         2437, 5780, 1016, 6909, 6399, 6748, 5797, 6909,    0,    0,    0,    0,\n",
              "            0,    0,    0,    0,    0,    0]),\n",
              " tensor([6909, 3572, 3392, 5124, 4264, 2221, 1285, 3925, 4312, 4787, 2037, 2437,\n",
              "         5780, 1016, 6909, 6399, 6748, 5797, 6909,    1,    0,    0,    0,    0,\n",
              "            0,    0,    0,    0,    0,    0]))"
            ]
          },
          "metadata": {},
          "execution_count": 51
        }
      ],
      "source": [
        "val_dataset[0]"
      ]
    },
    {
      "cell_type": "markdown",
      "metadata": {
        "id": "rYq6eGm0qaOh"
      },
      "source": [
        "# Model"
      ]
    },
    {
      "cell_type": "code",
      "execution_count": null,
      "metadata": {
        "id": "ce3NfbA2qfSV"
      },
      "outputs": [],
      "source": [
        "import torch.nn as nn\n",
        "import torch.functional as F"
      ]
    },
    {
      "cell_type": "markdown",
      "metadata": {
        "id": "zcThBf_DqbuT"
      },
      "source": [
        "## Encoder\n",
        "\n",
        "본 모델에서는 LSTM를 기본 단위로 가지는 Seq2Seq 모델을 구성할 것\n",
        "\n",
        "참고 [레퍼런스](https://pytorch.org/docs/stable/generated/torch.nn.LSTM.html)"
      ]
    },
    {
      "cell_type": "code",
      "execution_count": null,
      "metadata": {
        "id": "A719R9uZqZG2"
      },
      "outputs": [],
      "source": [
        "class Encoder(nn.Module):\n",
        "  def __init__(self, in_size, hid_size, tok_size, bat_first=True, num_lay=1, bidirect=False):\n",
        "    super(Encoder, self).__init__()\n",
        "\n",
        "    self.hidden_size = hid_size\n",
        "    self.embedding = nn.Embedding(tok_size, in_size)\n",
        "    self.num_directional = 2 if bidirect else 1\n",
        "\n",
        "    self.batch_first = bat_first\n",
        "    self.lstm = nn.LSTM(in_size, \n",
        "                        hid_size, \n",
        "                        num_layers = num_lay,\n",
        "                        batch_first = bat_first,\n",
        "                        bidirectional=bidirect)\n",
        "\n",
        "  def forward(self, x, hidden):\n",
        "    \"\"\"\n",
        "    x: (batch_size, seq_len)\n",
        "    hidden: (batch_size, seq_len, hidden_size)\n",
        "    \"\"\"\n",
        "\n",
        "    # emb : (batch_size, seq_len, input_size)\n",
        "    emb = self.embedding(x)\n",
        "\n",
        "    # out : (batch_size, seq_len, hidden_size)\n",
        "    # hidden: (num_layers, batch_size, hidden_size)\n",
        "    out, hidden = self.lstm(emb, hidden)\n",
        "    return out, hidden"
      ]
    },
    {
      "cell_type": "markdown",
      "metadata": {
        "id": "Yu4CMe_5JN2I"
      },
      "source": [
        "## Decoder\n",
        "\n",
        "decoder의 hidden이 아닌 out으로 예측하고, 그 값 하나를 이용해서 다음 값 계산에 사용하기 때문에 seq_len =1이 된다."
      ]
    },
    {
      "cell_type": "code",
      "execution_count": null,
      "metadata": {
        "id": "Wc1u4z_k4RKp"
      },
      "outputs": [],
      "source": [
        "class Decoder(nn.Module):\n",
        "  def __init__(self, in_size, hid_size, tok_size, bat_first=True, num_lay=1, bidirect=False):\n",
        "    super(Decoder, self).__init__()\n",
        "    \n",
        "    self.hidden_size = hid_size\n",
        "    self.embedding = nn.Embedding(tok_size, in_size)\n",
        "    self.num_layers = num_lay\n",
        "    self.num_directional = 2 if bidirect else 1\n",
        "    self.batch_first = bat_first\n",
        "    self.lstm = nn.LSTM(in_size, \n",
        "                        hid_size, \n",
        "                        num_layers = num_lay,\n",
        "                        batch_first = bat_first,\n",
        "                        bidirectional=bidirect)\n",
        "    self.relu =  nn.ReLU()\n",
        "\n",
        "  def forward(self, x, hidden):\n",
        "    \"\"\"\n",
        "    x: (batch_size, seq_len=1)\n",
        "    hidden: (num_directional*num_layers, batch_size, hidden_size)\n",
        "    \"\"\"\n",
        "\n",
        "    # emb: (batch_size, seq_len=1, input_size)\n",
        "    emb = self.embedding(x[:, 0]).unsqueeze(1)\n",
        "\n",
        "    # out : (batch_size, seq_len=1, hidden_size)\n",
        "    # hidden: (num_layers, batch_size, hidden_size)\n",
        "    out = self.relu(emb)\n",
        "    out, hidden = self.lstm(out, hidden)\n",
        "\n",
        "    # out: (batch_size, tok_size) : batch의 element별로 token에 대해 예측값을 반환\n",
        "    out = self.fc1(out.squeeze(1)\n",
        "    return out, hidden"
      ]
    },
    {
      "cell_type": "code",
      "execution_count": null,
      "metadata": {
        "id": "X1qHG3DT4dSH"
      },
      "outputs": [],
      "source": [
        "def init_hidden(self, x):\n",
        "  \"\"\"\n",
        "  레퍼런스 참고\n",
        "  when batch_first=True (num_directional*num_layers, batch_size, hidden_size)\n",
        "  \"\"\"\n",
        "  batch_size = x.size(0) if self.batch_first else x.size(1)\n",
        "  h0 = torch.zeros(self.num_layers*self.num_directional, batch_size, self.hidden_size).to(device)\n",
        "  c0 = torch.zeros(self.num_layers*self.num_directional, batch_size, self.hidden_size).to(device)\n",
        "  return h0, c0"
      ]
    },
    {
      "cell_type": "markdown",
      "metadata": {
        "id": "toqV7UDhPqN6"
      },
      "source": [
        "## Seq2Seq"
      ]
    },
    {
      "cell_type": "code",
      "execution_count": null,
      "metadata": {
        "id": "YIzlUzPlJK3W"
      },
      "outputs": [],
      "source": [
        "class Seq2Seq(nn.Module):\n",
        "  def __init__(self, enc, dec):\n",
        "    super(Seq2Seq, self).__init__()\n",
        "    ~~~\n",
        "\n",
        "  def forward(self, enc_inp, dec_inp, use_teacher_force=True):\n",
        "    \"\"\"\n",
        "    enc_inp : (batch_size, enc_seq_len)\n",
        "    dec_inp : (batch_size, dec_seq_len)\n",
        "    \"\"\"\n",
        "\n",
        "    # 어떤 값을 써야할까요?\n",
        "    batch_size =  enc_inp.size(0)\n",
        "    enc_seq_len = enc_inp.size(1)\n",
        "    dec_seq_len = dec_inp.size(1)\n",
        "    token_size =  self.decoder.fc1.out_features\n",
        "\n",
        "    # decoder 확률(점수) 예측값 저장\n",
        "    # outputs: (batch_size, seq_len, token_size)\n",
        "    outputs = torch.zeros(batch_size, dec_seq_len, token_size)\n",
        "\n",
        "    # Step 0: Encoder의 forward에 필요한 초기 hidden, cell state 계산\n",
        "    enc_init_hidden = init_hidden(self.encoder, enc_inp)\n",
        "\n",
        "    # Step 1: Encoder를 이용하여 context 벡터 생성\n",
        "    # 참고: context 벡터는 output가 아님\n",
        "    _, context = self.encoder(enc_inp, enc_init_hidden)\n",
        "\n",
        "    # Step 2: Decoder의 초기 입력값을 먼저 할당\n",
        "    # 참고: 첫 입력값으로 decoder의 입력값을 이용할 수 있음\n",
        "    # 주의할 사항 \n",
        "    #    - (batch_size, dec_seq_len)의 차원을 맞추기 \n",
        "    #    - 이렇게 하는 이유는 decoder에서 forward에 들어가야하는 input의 구조(차원)이 정해져 있기 때문\n",
        "    dec_inp_t = dec_inp[:, 0].unsqueeze(-1)\n",
        "\n",
        "    # Step 3: Decoder를 이용하여 하나하나 계산(예측)하고, 입력값 업데이트하기\n",
        "    # 주의사항\n",
        "    #    - Encoder의 최종 리턴한 hidden state가 context 벡터고 이게 decoder에서 init_hidden에 해당\n",
        "    #    - 앞서 첫 입력값은 직접 확인했으니 다음 입력값부터 하기에 range는 1부터 시작하는 구조로?!\n",
        "    dec_hidden = context\n",
        "    for t in range(1, dec_seq_len):\n",
        "      out, dec_hidden = self.decoder(dec_inp_t, dec_hidden)\n",
        "      outputs[:, t, :] = out\n",
        "\n",
        "      if use_teacher_force:\n",
        "        # 주의사항 : 차원 맞추기 \n",
        "        # 해당 경우 decoder의 입력값을 가져다가 사용해야 합\n",
        "        dec_inp_t = dec_inp[:, t].unsqueeze(-1)\n",
        "      else:\n",
        "        # 주의사항 : 차원 맞추기 \n",
        "        # 해당 경우 이번 시점의 예측값을 다음 시점의 입력값으로 해야함\n",
        "        dec_inp_t = out.argmax(1, keepdim=True)\n",
        "\n",
        "    return outputs"
      ]
    },
    {
      "cell_type": "markdown",
      "metadata": {
        "id": "kSfBWsX0Po1I"
      },
      "source": [
        "# Setup"
      ]
    },
    {
      "cell_type": "code",
      "execution_count": null,
      "metadata": {
        "id": "2VSNdoUUPoMS"
      },
      "outputs": [],
      "source": [
        "# padding에 해당하는 token도 고려하기\n",
        "enc_token_size = len(src_to_index)+1\n",
        "dec_token_size = len(tar_to_index)+1\n",
        "\n",
        "# Hyper-parameter!!\n",
        "# RAM 메모리 이슈로 다운 되는 경우 때문에 줄였습니다.\n",
        "input_size = 4\n",
        "hidden_size = 4"
      ]
    },
    {
      "cell_type": "code",
      "execution_count": null,
      "metadata": {
        "id": "edfUD7SOP6pM"
      },
      "outputs": [],
      "source": [
        "encoder = Encoder(input_size, hidden_size, enc_token_size)\n",
        "decoder = Decoder(input_size, hidden_size, dec_token_size)\n",
        "\n",
        "model = Seq2Seq(encoder, decoder).to(device)"
      ]
    },
    {
      "cell_type": "markdown",
      "metadata": {
        "id": "s3wAllAwQQbc"
      },
      "source": [
        "## 생략된 내용들\n",
        "\n",
        "모델 생성하는 과정에서 초기값이나 등등 부수적인 부분들은 현재 과제 코드상에서 생략되었습니다. 모델 개선에 관심있으신 분들은 수행하셔도 좋습니다."
      ]
    },
    {
      "cell_type": "code",
      "execution_count": null,
      "metadata": {
        "id": "nNlOosmzQP4W"
      },
      "outputs": [],
      "source": [
        "# ~~~"
      ]
    },
    {
      "cell_type": "markdown",
      "metadata": {
        "id": "ofoXIctbQigu"
      },
      "source": [
        "# Train"
      ]
    },
    {
      "cell_type": "code",
      "execution_count": null,
      "metadata": {
        "id": "NUnTP6xbQlV1"
      },
      "outputs": [],
      "source": [
        "def train(model, loader, optimizer, cri):\n",
        "  model.train()\n",
        "  loss_ep = 0\n",
        "\n",
        "  for enc_input, dec_input, dec_target in loader:\n",
        "    optimizer.zero_grad()\n",
        "\n",
        "    # output: (batch_size, seq_len, token_size)\n",
        "    output = model(enc_input.to(device), dec_input.to(device), use_teacher_force=True)\n",
        "    token_size = output.size(-1)\n",
        "\n",
        "\n",
        "    # 지금 [문장, 문장, ...] 구조에서 문장들을 그냥 순서대로 이어 붙인 것\n",
        "    # loss 계산을 위한 조정\n",
        "    # output : (batch_size * seq_len, toekn_size)\n",
        "    output = output.view(-1, token_size)\n",
        "\n",
        "    # 위와 동일한 방식으로 label 값도 조정\n",
        "    # dec_target: (batch_size, seq_len)\n",
        "    # target (batch_size*seq_len,)\n",
        "    target = dec_target.view(-1)\n",
        "\n",
        "    loss = cri(output, target)\n",
        "\n",
        "    loss.backward()\n",
        "    optimizer.step()\n",
        "\n",
        "    loss_ep += loss.item()\n",
        "  return loss_ep/len(loader)"
      ]
    },
    {
      "cell_type": "markdown",
      "metadata": {
        "id": "E-g8kExh9V87"
      },
      "source": [
        "# Evaluation"
      ]
    },
    {
      "cell_type": "code",
      "execution_count": null,
      "metadata": {
        "id": "OM_5gT6uCXMh"
      },
      "outputs": [],
      "source": [
        "import pandas as pd"
      ]
    },
    {
      "cell_type": "code",
      "execution_count": null,
      "metadata": {
        "id": "y6mXBkq69VSW"
      },
      "outputs": [],
      "source": [
        "def val(model, loader, cri):\n",
        "  # 예측값도 확인하기 위해 예측값 저장하는 값\n",
        "  result = torch.Tensor()\n",
        "\n",
        "  model.eval()\n",
        "  loss_ep = 0\n",
        "  with torch.no_grad():\n",
        "    for enc_input, dec_input, dec_target in loader:\n",
        "      # 여기서 output은 en/decoder가 아닌 seq2seq의 결과값\n",
        "      # output: (batch_size, seq_len, token_size)\n",
        "      output = model(enc_input.to(device), dec_input.to(device), use_teacher_force=False)\n",
        "\n",
        "\n",
        "      # 평가할 땐 loss 말고 예측값도 반환하기 위해 저장\n",
        "      # decode_idx = 해당 시점에서 예측한 token의 정수인코딩값. \n",
        "      # 주어진 확률(점수)값에서 최대값을 선택하기\n",
        "      decode_idx = output.argmax(2).detach().cpu()\n",
        "      result = torch.cat((result, decode_idx), dim=0)\n",
        "  \n",
        "      # loss 계산을 위한 조정\n",
        "      # output : (batch_size * seq_len, toekn_size)\n",
        "      token_size = output.size(-1)\n",
        "      output = output.view(-1, token_size)\n",
        "\n",
        "      # 위와 동일한 방식으로 label 값도 조정\n",
        "      # dec_target: (batch_size, seq_len)\n",
        "      # target (batch_size*seq_len,)\n",
        "      target = dec_target.view(-1)\n",
        "\n",
        "      loss = cri(output, target)\n",
        "      loss_ep += loss.item()\n",
        "  return loss_ep/len(loader), result"
      ]
    },
    {
      "cell_type": "code",
      "execution_count": null,
      "metadata": {
        "id": "9m6F7hknAqtm"
      },
      "outputs": [],
      "source": [
        "# 아래의 dictionary는 정수 인코딩 값을 넣으면 해당하는 원래 알파벳이 나옴\n",
        "# padding에 사용한 0도 decode해줘야 하고 이 때 ''으로 decode해주기\n",
        "index_to_src =  dict((i, char) for char, i in src_to_index.items())\n",
        "index_to_tar = dict((i, char) for char, i in tar_to_index.items())\n",
        "index_to_tar[0] = ''\n",
        "index_to_src[0] = ''"
      ]
    },
    {
      "cell_type": "code",
      "execution_count": null,
      "metadata": {
        "id": "F9c8z_7BAncv"
      },
      "outputs": [],
      "source": [
        "def decode(model, sample):\n",
        "  enc_input, dec_input, dec_output = sample\n",
        "  enc_input = enc_input.unsqueeze(0)\n",
        "  dec_input = dec_input.unsqueeze(0)\n",
        "  \n",
        "  model.eval()\n",
        "  with torch.no_grad():\n",
        "    output = model(enc_input.to(device), dec_input.to(device), use_teacher_force=False)\n",
        "    decode_idx = output.argmax(2)\n",
        "\n",
        "  sentence_inp = pd.Series(enc_input.squeeze(0).detach().cpu().numpy()).apply(lambda x: index_to_src[x])\n",
        "  sentence_out = pd.Series(decode_idx.squeeze(0).detach().cpu().numpy()).apply(lambda x: index_to_tar[x])\n",
        "  sentence_act = pd.Series(dec_output.detach().cpu().numpy()).apply(lambda x: index_to_tar[x])\n",
        "\n",
        "  print(f\"입력 문장 : {' '.join(sentence_inp.tolist())}\")\n",
        "  print(f\"실제 문장 : {' '.join(sentence_act.tolist())}\")\n",
        "  print(f\"예측 문장 : {' '.join(sentence_out.tolist())}\")"
      ]
    },
    {
      "cell_type": "code",
      "execution_count": null,
      "metadata": {
        "id": "9lARsr3wSyX8"
      },
      "outputs": [],
      "source": [
        "import time\n",
        "from tqdm import tqdm\n",
        "from torch import optim"
      ]
    },
    {
      "cell_type": "code",
      "execution_count": null,
      "metadata": {
        "colab": {
          "base_uri": "https://localhost:8080/",
          "height": 409
        },
        "id": "WIuESkCQSsSm",
        "outputId": "e2f32a62-d55b-4072-82b1-c2133428f4dd"
      },
      "outputs": [
        {
          "output_type": "stream",
          "name": "stderr",
          "text": [
            "  0%|          | 0/10 [00:38<?, ?it/s]\n"
          ]
        },
        {
          "output_type": "error",
          "ename": "KeyboardInterrupt",
          "evalue": "ignored",
          "traceback": [
            "\u001b[0;31m---------------------------------------------------------------------------\u001b[0m",
            "\u001b[0;31mKeyboardInterrupt\u001b[0m                         Traceback (most recent call last)",
            "\u001b[0;32m<ipython-input-66-5b8b533ff47e>\u001b[0m in \u001b[0;36m<module>\u001b[0;34m\u001b[0m\n\u001b[1;32m     14\u001b[0m   \u001b[0mstart\u001b[0m \u001b[0;34m=\u001b[0m \u001b[0mtime\u001b[0m\u001b[0;34m.\u001b[0m\u001b[0mtime\u001b[0m\u001b[0;34m(\u001b[0m\u001b[0;34m)\u001b[0m\u001b[0;34m\u001b[0m\u001b[0;34m\u001b[0m\u001b[0m\n\u001b[1;32m     15\u001b[0m \u001b[0;34m\u001b[0m\u001b[0m\n\u001b[0;32m---> 16\u001b[0;31m   \u001b[0mtrain_loss_ep\u001b[0m \u001b[0;34m=\u001b[0m \u001b[0mtrain\u001b[0m\u001b[0;34m(\u001b[0m\u001b[0mmodel\u001b[0m\u001b[0;34m,\u001b[0m\u001b[0mtrain_lodaer\u001b[0m\u001b[0;34m,\u001b[0m\u001b[0moptimizer\u001b[0m\u001b[0;34m,\u001b[0m \u001b[0mcriterion\u001b[0m\u001b[0;34m)\u001b[0m\u001b[0;34m\u001b[0m\u001b[0;34m\u001b[0m\u001b[0m\n\u001b[0m\u001b[1;32m     17\u001b[0m   \u001b[0mval_loss_ep\u001b[0m\u001b[0;34m,\u001b[0m \u001b[0mval_token\u001b[0m \u001b[0;34m=\u001b[0m \u001b[0mval\u001b[0m\u001b[0;34m(\u001b[0m\u001b[0mmodel\u001b[0m\u001b[0;34m,\u001b[0m \u001b[0mval_loader\u001b[0m\u001b[0;34m,\u001b[0m \u001b[0mcriterion\u001b[0m\u001b[0;34m)\u001b[0m\u001b[0;34m\u001b[0m\u001b[0;34m\u001b[0m\u001b[0m\n\u001b[1;32m     18\u001b[0m \u001b[0;34m\u001b[0m\u001b[0m\n",
            "\u001b[0;32m<ipython-input-60-ca339d6ea320>\u001b[0m in \u001b[0;36mtrain\u001b[0;34m(model, loader, optimizer, cri)\u001b[0m\n\u001b[1;32m     22\u001b[0m     \u001b[0mloss\u001b[0m \u001b[0;34m=\u001b[0m \u001b[0mcri\u001b[0m\u001b[0;34m(\u001b[0m\u001b[0moutput\u001b[0m\u001b[0;34m,\u001b[0m \u001b[0mtarget\u001b[0m\u001b[0;34m)\u001b[0m\u001b[0;34m\u001b[0m\u001b[0;34m\u001b[0m\u001b[0m\n\u001b[1;32m     23\u001b[0m \u001b[0;34m\u001b[0m\u001b[0m\n\u001b[0;32m---> 24\u001b[0;31m     \u001b[0mloss\u001b[0m\u001b[0;34m.\u001b[0m\u001b[0mbackward\u001b[0m\u001b[0;34m(\u001b[0m\u001b[0;34m)\u001b[0m\u001b[0;34m\u001b[0m\u001b[0;34m\u001b[0m\u001b[0m\n\u001b[0m\u001b[1;32m     25\u001b[0m     \u001b[0moptimizer\u001b[0m\u001b[0;34m.\u001b[0m\u001b[0mstep\u001b[0m\u001b[0;34m(\u001b[0m\u001b[0;34m)\u001b[0m\u001b[0;34m\u001b[0m\u001b[0;34m\u001b[0m\u001b[0m\n\u001b[1;32m     26\u001b[0m \u001b[0;34m\u001b[0m\u001b[0m\n",
            "\u001b[0;32m/usr/local/lib/python3.7/dist-packages/torch/_tensor.py\u001b[0m in \u001b[0;36mbackward\u001b[0;34m(self, gradient, retain_graph, create_graph, inputs)\u001b[0m\n\u001b[1;32m    394\u001b[0m                 \u001b[0mcreate_graph\u001b[0m\u001b[0;34m=\u001b[0m\u001b[0mcreate_graph\u001b[0m\u001b[0;34m,\u001b[0m\u001b[0;34m\u001b[0m\u001b[0;34m\u001b[0m\u001b[0m\n\u001b[1;32m    395\u001b[0m                 inputs=inputs)\n\u001b[0;32m--> 396\u001b[0;31m         \u001b[0mtorch\u001b[0m\u001b[0;34m.\u001b[0m\u001b[0mautograd\u001b[0m\u001b[0;34m.\u001b[0m\u001b[0mbackward\u001b[0m\u001b[0;34m(\u001b[0m\u001b[0mself\u001b[0m\u001b[0;34m,\u001b[0m \u001b[0mgradient\u001b[0m\u001b[0;34m,\u001b[0m \u001b[0mretain_graph\u001b[0m\u001b[0;34m,\u001b[0m \u001b[0mcreate_graph\u001b[0m\u001b[0;34m,\u001b[0m \u001b[0minputs\u001b[0m\u001b[0;34m=\u001b[0m\u001b[0minputs\u001b[0m\u001b[0;34m)\u001b[0m\u001b[0;34m\u001b[0m\u001b[0;34m\u001b[0m\u001b[0m\n\u001b[0m\u001b[1;32m    397\u001b[0m \u001b[0;34m\u001b[0m\u001b[0m\n\u001b[1;32m    398\u001b[0m     \u001b[0;32mdef\u001b[0m \u001b[0mregister_hook\u001b[0m\u001b[0;34m(\u001b[0m\u001b[0mself\u001b[0m\u001b[0;34m,\u001b[0m \u001b[0mhook\u001b[0m\u001b[0;34m)\u001b[0m\u001b[0;34m:\u001b[0m\u001b[0;34m\u001b[0m\u001b[0;34m\u001b[0m\u001b[0m\n",
            "\u001b[0;32m/usr/local/lib/python3.7/dist-packages/torch/autograd/__init__.py\u001b[0m in \u001b[0;36mbackward\u001b[0;34m(tensors, grad_tensors, retain_graph, create_graph, grad_variables, inputs)\u001b[0m\n\u001b[1;32m    173\u001b[0m     Variable._execution_engine.run_backward(  # Calls into the C++ engine to run the backward pass\n\u001b[1;32m    174\u001b[0m         \u001b[0mtensors\u001b[0m\u001b[0;34m,\u001b[0m \u001b[0mgrad_tensors_\u001b[0m\u001b[0;34m,\u001b[0m \u001b[0mretain_graph\u001b[0m\u001b[0;34m,\u001b[0m \u001b[0mcreate_graph\u001b[0m\u001b[0;34m,\u001b[0m \u001b[0minputs\u001b[0m\u001b[0;34m,\u001b[0m\u001b[0;34m\u001b[0m\u001b[0;34m\u001b[0m\u001b[0m\n\u001b[0;32m--> 175\u001b[0;31m         allow_unreachable=True, accumulate_grad=True)  # Calls into the C++ engine to run the backward pass\n\u001b[0m\u001b[1;32m    176\u001b[0m \u001b[0;34m\u001b[0m\u001b[0m\n\u001b[1;32m    177\u001b[0m def grad(\n",
            "\u001b[0;31mKeyboardInterrupt\u001b[0m: "
          ]
        }
      ],
      "source": [
        "# 학습은 아래의 코드를 이용하여 진행\n",
        "\n",
        "train_lodaer = DataLoader(train_dataset, batch_size=1024)\n",
        "val_loader = DataLoader(val_dataset, batch_size=1024, shuffle=False)\n",
        "\n",
        "optimizer = optim.Adam(model.parameters(), lr=1e-2)\n",
        "criterion = nn.CrossEntropyLoss()\n",
        "\n",
        "train_loss = []\n",
        "val_loss = []\n",
        "\n",
        "epochs = 10\n",
        "for epoch in tqdm(range(epochs)):\n",
        "  start = time.time()\n",
        "\n",
        "  train_loss_ep = train(model,train_lodaer,optimizer, criterion)\n",
        "  val_loss_ep, val_token = val(model, val_loader, criterion)\n",
        "\n",
        "  train_loss.append(train_loss_ep)\n",
        "  val_loss.append(val_loss_ep)\n",
        "  if epoch % 2 == 0:\n",
        "    print(f\"Epoch : {epoch}\")\n",
        "    print(f\"Train Loss : {train_loss_ep:.4f}\")\n",
        "    print(f\"Val Loss : {val_loss_ep:.4f}\")\n",
        "    decode(model, val_dataset[100])\n"
      ]
    },
    {
      "cell_type": "code",
      "execution_count": null,
      "metadata": {
        "id": "Yaj3MORtbsNi"
      },
      "outputs": [],
      "source": [
        "# 학습을 진행한 다음, 모델 백업해놓기\n",
        "torch.save(model.state_dict(), 'model_hw.pt')"
      ]
    }
  ],
  "metadata": {
    "accelerator": "GPU",
    "colab": {
      "collapsed_sections": [],
      "provenance": []
    },
    "gpuClass": "standard",
    "kernelspec": {
      "display_name": "Python 3",
      "name": "python3"
    },
    "language_info": {
      "name": "python"
    }
  },
  "nbformat": 4,
  "nbformat_minor": 0
}