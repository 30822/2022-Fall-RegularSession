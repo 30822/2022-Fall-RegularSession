{
  "cells": [
    {
      "cell_type": "markdown",
      "source": [
        "숙제는 동일한 seq-2seq 구현이나 데이터만 달라짐\n",
        "\n"
      ],
      "metadata": {
        "id": "fd3kZXPoGnfp"
      }
    },
    {
      "cell_type": "markdown",
      "metadata": {
        "id": "XhqgooEJc3ml"
      },
      "source": [
        "# PATH"
      ]
    },
    {
      "cell_type": "markdown",
      "metadata": {
        "id": "a6JAywISdMna"
      },
      "source": [
        "구글 드라이브"
      ]
    },
    {
      "cell_type": "code",
      "execution_count": 1,
      "metadata": {
        "colab": {
          "base_uri": "https://localhost:8080/"
        },
        "id": "4KzgUpIpcORE",
        "outputId": "6b804ff5-c0e9-4172-dbf1-358c39437bfc"
      },
      "outputs": [
        {
          "output_type": "stream",
          "name": "stdout",
          "text": [
            "Mounted at /content/drive\n"
          ]
        }
      ],
      "source": [
        "import os\n",
        "import sys\n",
        "from google.colab import drive\n",
        "\n",
        "drive.mount('/content/drive')\n",
        "# 지금 RNN이란 폴더에서 작업해서 RNN으로 맞춘 상태입니다! \n",
        "os.chdir('/content/drive/MyDrive/DSL/RNN')"
      ]
    },
    {
      "cell_type": "code",
      "execution_count": 2,
      "metadata": {
        "colab": {
          "base_uri": "https://localhost:8080/",
          "height": 35
        },
        "id": "TK1fCrA9fHwN",
        "outputId": "65d87368-650b-4087-e85a-1572a4156362"
      },
      "outputs": [
        {
          "output_type": "execute_result",
          "data": {
            "text/plain": [
              "'/content/drive/MyDrive/DSL/RNN'"
            ],
            "application/vnd.google.colaboratory.intrinsic+json": {
              "type": "string"
            }
          },
          "metadata": {},
          "execution_count": 2
        }
      ],
      "source": [
        "os.getcwd()"
      ]
    },
    {
      "cell_type": "code",
      "source": [
        "root_data = f\"{os.getcwd()}/data/data_hw\"\n",
        "root_data"
      ],
      "metadata": {
        "colab": {
          "base_uri": "https://localhost:8080/",
          "height": 35
        },
        "id": "yR9lFnfZMQ8k",
        "outputId": "50c368d0-2e9a-431c-925c-03d7b33783d2"
      },
      "execution_count": 3,
      "outputs": [
        {
          "output_type": "execute_result",
          "data": {
            "text/plain": [
              "'/content/drive/MyDrive/DSL/RNN/data/data_hw'"
            ],
            "application/vnd.google.colaboratory.intrinsic+json": {
              "type": "string"
            }
          },
          "metadata": {},
          "execution_count": 3
        }
      ]
    },
    {
      "cell_type": "code",
      "source": [
        "# 데이터 불러올 때 사용할 경로로 이후에 있을 unzip과 연동되는 내용입니다! \n",
        "path_train_data = \"data/data_hw/1.Training/원천데이터/일상생활및구어체_영한_train_set.json\"\n",
        "\n",
        "path_val_data = \"data/data_hw/2.Validation/원천데이터/일상생활및구어체_영한_valid_set.json\"\n"
      ],
      "metadata": {
        "id": "eUaOJiEaP8t9"
      },
      "execution_count": 4,
      "outputs": []
    },
    {
      "cell_type": "markdown",
      "source": [
        "# 사전 준비 사항"
      ],
      "metadata": {
        "id": "lllM7QIsLKHG"
      }
    },
    {
      "cell_type": "code",
      "execution_count": 5,
      "metadata": {
        "id": "N4M6g36zarsi"
      },
      "outputs": [],
      "source": [
        "import torch"
      ]
    },
    {
      "cell_type": "code",
      "execution_count": 6,
      "metadata": {
        "id": "8nWTk5MXatC-"
      },
      "outputs": [],
      "source": [
        "device = 'cuda' if torch.cuda.is_available() else \"cpu\""
      ]
    },
    {
      "cell_type": "code",
      "execution_count": 7,
      "metadata": {
        "colab": {
          "base_uri": "https://localhost:8080/",
          "height": 35
        },
        "id": "oV91g9Tqa0V0",
        "outputId": "aa137ae1-1c34-4014-9acf-4f6ead236cd2"
      },
      "outputs": [
        {
          "output_type": "execute_result",
          "data": {
            "text/plain": [
              "'cuda'"
            ],
            "application/vnd.google.colaboratory.intrinsic+json": {
              "type": "string"
            }
          },
          "metadata": {},
          "execution_count": 7
        }
      ],
      "source": [
        "device"
      ]
    },
    {
      "cell_type": "markdown",
      "source": [
        "첫번째 unzip부분 실행하면, 압축파일이 풀려있을 것임"
      ],
      "metadata": {
        "id": "uu2lhyHMHEd8"
      }
    },
    {
      "cell_type": "markdown",
      "metadata": {
        "id": "SdN8CiTlc7xF"
      },
      "source": [
        "# Data\n",
        "\n",
        "실습에서 사용했던 영어-프랑스어와 달리 현재 사용할 데이터 셋은 영어-한국어 데이터 셋입니다. \n",
        "\n",
        "특히 압축을 풀어야 사용하실 수 있으니 유의하여 진행해주시길 바랍니다.\n",
        "\n",
        "다행인 점은 용량이 그리 크지 않을겁니다!\n",
        "\n",
        "저장 경로는 위에서 path_train_data와 path_val_data와 동일하게 맞췄습니다."
      ]
    },
    {
      "cell_type": "code",
      "source": [
        "# !unzip -qq data/data_hw/1.Training/원천데이터/TS1.zip -d data/data_hw/1.Training/원천데이터\n",
        "\n",
        "# !unzip -qq data/data_hw/2.Validation/원천데이터/VS1.zip -d data/data_hw/2.Validation/원천데이터\n"
      ],
      "metadata": {
        "id": "4bGHHia2LnOo",
        "colab": {
          "base_uri": "https://localhost:8080/"
        },
        "outputId": "104e1df3-bc41-446e-92a8-9ab3c6f457a8"
      },
      "execution_count": 8,
      "outputs": [
        {
          "output_type": "stream",
          "name": "stdout",
          "text": [
            "replace data/data_hw/1.Training/원천데이터/일상생활및구어체_영한_train_set.json? [y]es, [n]o, [A]ll, [N]one, [r]ename: N\n",
            "replace data/data_hw/2.Validation/원천데이터/일상생활및구어체_영한_valid_set.json? [y]es, [n]o, [A]ll, [N]one, [r]ename: N\n"
          ]
        }
      ]
    },
    {
      "cell_type": "markdown",
      "source": [
        "## 데이터 구조 확인"
      ],
      "metadata": {
        "id": "tfrW60WrP0rn"
      }
    },
    {
      "cell_type": "code",
      "source": [
        "import json"
      ],
      "metadata": {
        "id": "SDeLynUqP0Jr"
      },
      "execution_count": 8,
      "outputs": []
    },
    {
      "cell_type": "code",
      "source": [
        "# 경로는 앞서 PATH에서 선언했고 unzip에서도 경로를 지정했습니다. 만약 여기에 변화가 생기신다면 에러가 생길 수 있으니 유의하셔야 합니다.\n",
        "with open(path_train_data, 'r') as f:\n",
        "  raw_train_data = json.load(f)\n",
        "\n",
        "with open(path_val_data, 'r') as f:\n",
        "  raw_val_data = json.load(f)\n"
      ],
      "metadata": {
        "id": "2VEmaNPbP5hr"
      },
      "execution_count": 9,
      "outputs": []
    },
    {
      "cell_type": "code",
      "source": [
        "# 현재 데이터의 구조가 {'data':~~~ }로 되어있는것을 알 수 있습니다.\n",
        "raw_train_data.keys()"
      ],
      "metadata": {
        "colab": {
          "base_uri": "https://localhost:8080/"
        },
        "id": "jNhgtA6iR2HG",
        "outputId": "a3014217-f024-415c-98fc-92bba265297d"
      },
      "execution_count": 10,
      "outputs": [
        {
          "output_type": "execute_result",
          "data": {
            "text/plain": [
              "dict_keys(['data'])"
            ]
          },
          "metadata": {},
          "execution_count": 10
        }
      ]
    },
    {
      "cell_type": "code",
      "source": [
        "# 학습 데이터 개수 확인 (key value 수)\n",
        "len(raw_train_data['data'])"
      ],
      "metadata": {
        "colab": {
          "base_uri": "https://localhost:8080/"
        },
        "id": "uMcJ230kRgJ_",
        "outputId": "e95fbf6c-8e4f-4db5-9181-5bc029cb2521"
      },
      "execution_count": 11,
      "outputs": [
        {
          "output_type": "execute_result",
          "data": {
            "text/plain": [
              "1200307"
            ]
          },
          "metadata": {},
          "execution_count": 11
        }
      ]
    },
    {
      "cell_type": "markdown",
      "source": [
        "지금 데이터가 너무 많아서 전처리만 해도 1,2시간 걸릴 수 있습니다. 그래서 숙제에서는 매우 일부 데이터만 이용하도록 하겠습니다."
      ],
      "metadata": {
        "id": "pOcoZtgOYicO"
      }
    },
    {
      "cell_type": "code",
      "source": [
        "raw_train_data = raw_train_data['data'][:10000]\n",
        "raw_val_data = raw_val_data['data'][:1000]"
      ],
      "metadata": {
        "id": "OXGulbjhYg-o"
      },
      "execution_count": 12,
      "outputs": []
    },
    {
      "cell_type": "code",
      "source": [
        "# 샘플로 하나 확인\n",
        "sample_data = raw_train_data[0]"
      ],
      "metadata": {
        "id": "GMFaFQF0SJb4"
      },
      "execution_count": 13,
      "outputs": []
    },
    {
      "cell_type": "code",
      "source": [
        "# 아래의 예시를 보고 데이터를 어떻게 처리할지 잘 생각하셔야 합니다!\n",
        "# 보았을 때 우리가 사용해야 하는 건 ko와 en가 되고\n",
        "# 실제 데이터를 사용한다고 할 때 이 외에 필요한 데이터가 더 있을 수 있습니다.\n",
        "# 모델링 과정에서는 어떻게 데이터들이 저장되어 있는지 주의해서 처리하시면 됩니다.\n",
        "# 필요한 데이터만 뽑아 쓰기!\n",
        "# 우리는 영어와 한국어 번역할 것!\n",
        "sample_data"
      ],
      "metadata": {
        "colab": {
          "base_uri": "https://localhost:8080/"
        },
        "id": "I68Quh9gSRag",
        "outputId": "343bbafa-bdcb-40c9-ece8-1e002982da7b"
      },
      "execution_count": 14,
      "outputs": [
        {
          "output_type": "execute_result",
          "data": {
            "text/plain": [
              "{'sn': 'ECOAR1A00003',\n",
              " 'data_set': '일상생활및구어체',\n",
              " 'domain': '해외고객과의채팅',\n",
              " 'subdomain': '숙박,음식점',\n",
              " 'en_original': \"I'm glad to hear that, and I hope you do consider doing business with us.\",\n",
              " 'en': \"I'm glad to hear that, and I hope you do consider doing business with us.\",\n",
              " 'mt': '그 소식을 들으니 기쁩니다. 우리와 거래하는 것을 고려해 보시기 바랍니다.',\n",
              " 'ko': '그 말을 들으니 기쁘고, 저희와 거래하는 것을 고려해 주셨으면 합니다.',\n",
              " 'source_language': 'en',\n",
              " 'target_language': 'ko',\n",
              " 'word_count_ko': 10.0,\n",
              " 'word_count_en': 15.0,\n",
              " 'word_ratio': 0.667,\n",
              " 'file_name': '해외고객과의채팅_숙박,음식점.xlsx',\n",
              " 'source': '크라우드 소싱',\n",
              " 'license': 'open',\n",
              " 'style': '구어체',\n",
              " 'included_unknown_words': False,\n",
              " 'ner': None}"
            ]
          },
          "metadata": {},
          "execution_count": 14
        }
      ]
    },
    {
      "cell_type": "markdown",
      "metadata": {
        "id": "LoZkQRO3l20O"
      },
      "source": [
        "# Preprocess\n",
        "\n",
        "세션 설명 코드에서는 알파벳 하나하나 사용했지만, 이번 과정에서는 토큰화를 진행하여 사용하는 과정을 Dataset에 바로 적용해보고자 합니다! \n",
        "\n",
        "토큰화는 앞서 word embedding 세션에서 사용한 것들을 그대로 이용하고자 합니다. 세부 커스터마이징은 자유롭습니다.\n",
        "\n",
        "전처리 과정에서 중요한 점은, 앞의 구현 코드에서 여러 개의 for loop을 이용해서 구현했었지만, 실제 데이터를 사용한다면 매우 오래 걸리게 됩니다. 실제 데이터를 사용할 때엔 결국 **얼마나 효율적으로 빠르게 정리할 수 있을지 **고민해보시면서 접근하시길 바랍니다.\n",
        "\n",
        "즉, 전처리에서 챙길 통찰은 얼마나 \"효율적\"으로 할 수 있는가? 입니다.\n",
        "\n",
        "우리는 한국어를 쓸테니 저번시간에 배운 tokenizatio을 할 것\n",
        "\n",
        "세부적인 커스터마이징은 자유롭게 하기\n",
        "\n"
      ]
    },
    {
      "cell_type": "markdown",
      "source": [
        "## Tokenizer"
      ],
      "metadata": {
        "id": "IngQKWx3VRtO"
      }
    },
    {
      "cell_type": "code",
      "source": [
        "#konlpy 설치 (mecab 제외). 3~40초 정도 소요\n",
        "%%bash\n",
        "apt-get update\n",
        "apt-get install g++ openjdk-8-jdk python-dev python3-dev\n",
        "pip3 install JPype1\n",
        "pip3 install konlpy"
      ],
      "metadata": {
        "colab": {
          "base_uri": "https://localhost:8080/"
        },
        "id": "ttmiDFAEU_BK",
        "outputId": "57215f2d-e3a6-4783-e408-a576ed36974e"
      },
      "execution_count": 15,
      "outputs": [
        {
          "output_type": "stream",
          "name": "stdout",
          "text": [
            "Get:1 https://cloud.r-project.org/bin/linux/ubuntu bionic-cran40/ InRelease [3,626 B]\n",
            "Get:2 https://cloud.r-project.org/bin/linux/ubuntu bionic-cran40/ Packages [91.7 kB]\n",
            "Get:3 http://ppa.launchpad.net/c2d4u.team/c2d4u4.0+/ubuntu bionic InRelease [15.9 kB]\n",
            "Get:4 http://security.ubuntu.com/ubuntu bionic-security InRelease [88.7 kB]\n",
            "Hit:5 http://archive.ubuntu.com/ubuntu bionic InRelease\n",
            "Get:6 http://archive.ubuntu.com/ubuntu bionic-updates InRelease [88.7 kB]\n",
            "Ign:7 https://developer.download.nvidia.com/compute/machine-learning/repos/ubuntu1804/x86_64  InRelease\n",
            "Hit:8 https://developer.download.nvidia.com/compute/cuda/repos/ubuntu1804/x86_64  InRelease\n",
            "Hit:9 https://developer.download.nvidia.com/compute/machine-learning/repos/ubuntu1804/x86_64  Release\n",
            "Hit:10 http://ppa.launchpad.net/cran/libgit2/ubuntu bionic InRelease\n",
            "Get:12 http://ppa.launchpad.net/deadsnakes/ppa/ubuntu bionic InRelease [15.9 kB]\n",
            "Get:13 http://archive.ubuntu.com/ubuntu bionic-backports InRelease [74.6 kB]\n",
            "Get:14 http://security.ubuntu.com/ubuntu bionic-security/universe amd64 Packages [1,540 kB]\n",
            "Hit:15 http://ppa.launchpad.net/graphics-drivers/ppa/ubuntu bionic InRelease\n",
            "Get:16 http://archive.ubuntu.com/ubuntu bionic-updates/restricted amd64 Packages [1,172 kB]\n",
            "Get:17 http://ppa.launchpad.net/c2d4u.team/c2d4u4.0+/ubuntu bionic/main Sources [2,099 kB]\n",
            "Get:18 http://archive.ubuntu.com/ubuntu bionic-updates/main amd64 Packages [3,396 kB]\n",
            "Get:19 http://security.ubuntu.com/ubuntu bionic-security/restricted amd64 Packages [1,131 kB]\n",
            "Get:20 http://security.ubuntu.com/ubuntu bionic-security/main amd64 Packages [2,965 kB]\n",
            "Get:21 http://ppa.launchpad.net/c2d4u.team/c2d4u4.0+/ubuntu bionic/main amd64 Packages [1,076 kB]\n",
            "Get:22 http://ppa.launchpad.net/deadsnakes/ppa/ubuntu bionic/main amd64 Packages [45.2 kB]\n",
            "Fetched 13.8 MB in 6s (2,440 kB/s)\n",
            "Reading package lists...\n",
            "Reading package lists...\n",
            "Building dependency tree...\n",
            "Reading state information...\n",
            "python-dev is already the newest version (2.7.15~rc1-1).\n",
            "g++ is already the newest version (4:7.4.0-1ubuntu2.3).\n",
            "g++ set to manually installed.\n",
            "python3-dev is already the newest version (3.6.7-1~18.04).\n",
            "python3-dev set to manually installed.\n",
            "The following package was automatically installed and is no longer required:\n",
            "  libnvidia-common-460\n",
            "Use 'apt autoremove' to remove it.\n",
            "The following additional packages will be installed:\n",
            "  fonts-dejavu-core fonts-dejavu-extra libatk-wrapper-java\n",
            "  libatk-wrapper-java-jni libgail-common libgail18 libgtk2.0-0 libgtk2.0-bin\n",
            "  libgtk2.0-common libxxf86dga1 openjdk-8-jdk-headless openjdk-8-jre\n",
            "  openjdk-8-jre-headless x11-utils\n",
            "Suggested packages:\n",
            "  gvfs openjdk-8-demo openjdk-8-source visualvm libnss-mdns\n",
            "  fonts-ipafont-gothic fonts-ipafont-mincho fonts-wqy-microhei\n",
            "  fonts-wqy-zenhei fonts-indic mesa-utils\n",
            "The following NEW packages will be installed:\n",
            "  fonts-dejavu-core fonts-dejavu-extra libatk-wrapper-java\n",
            "  libatk-wrapper-java-jni libgail-common libgail18 libgtk2.0-0 libgtk2.0-bin\n",
            "  libgtk2.0-common libxxf86dga1 openjdk-8-jdk openjdk-8-jdk-headless\n",
            "  openjdk-8-jre openjdk-8-jre-headless x11-utils\n",
            "0 upgraded, 15 newly installed, 0 to remove and 37 not upgraded.\n",
            "Need to get 46.0 MB of archives.\n",
            "After this operation, 166 MB of additional disk space will be used.\n",
            "Get:1 http://archive.ubuntu.com/ubuntu bionic/main amd64 libxxf86dga1 amd64 2:1.1.4-1 [13.7 kB]\n",
            "Get:2 http://archive.ubuntu.com/ubuntu bionic/main amd64 fonts-dejavu-core all 2.37-1 [1,041 kB]\n",
            "Get:3 http://archive.ubuntu.com/ubuntu bionic/main amd64 fonts-dejavu-extra all 2.37-1 [1,953 kB]\n",
            "Get:4 http://archive.ubuntu.com/ubuntu bionic/main amd64 x11-utils amd64 7.7+3build1 [196 kB]\n",
            "Get:5 http://archive.ubuntu.com/ubuntu bionic/main amd64 libatk-wrapper-java all 0.33.3-20ubuntu0.1 [34.7 kB]\n",
            "Get:6 http://archive.ubuntu.com/ubuntu bionic/main amd64 libatk-wrapper-java-jni amd64 0.33.3-20ubuntu0.1 [28.3 kB]\n",
            "Get:7 http://archive.ubuntu.com/ubuntu bionic/main amd64 libgtk2.0-common all 2.24.32-1ubuntu1 [125 kB]\n",
            "Get:8 http://archive.ubuntu.com/ubuntu bionic/main amd64 libgtk2.0-0 amd64 2.24.32-1ubuntu1 [1,769 kB]\n",
            "Get:9 http://archive.ubuntu.com/ubuntu bionic/main amd64 libgail18 amd64 2.24.32-1ubuntu1 [14.2 kB]\n",
            "Get:10 http://archive.ubuntu.com/ubuntu bionic/main amd64 libgail-common amd64 2.24.32-1ubuntu1 [112 kB]\n",
            "Get:11 http://archive.ubuntu.com/ubuntu bionic/main amd64 libgtk2.0-bin amd64 2.24.32-1ubuntu1 [7,536 B]\n",
            "Get:12 http://archive.ubuntu.com/ubuntu bionic-updates/universe amd64 openjdk-8-jre-headless amd64 8u342-b07-0ubuntu1~18.04 [28.3 MB]\n",
            "Get:13 http://archive.ubuntu.com/ubuntu bionic-updates/universe amd64 openjdk-8-jre amd64 8u342-b07-0ubuntu1~18.04 [69.6 kB]\n",
            "Get:14 http://archive.ubuntu.com/ubuntu bionic-updates/universe amd64 openjdk-8-jdk-headless amd64 8u342-b07-0ubuntu1~18.04 [8,300 kB]\n",
            "Get:15 http://archive.ubuntu.com/ubuntu bionic-updates/universe amd64 openjdk-8-jdk amd64 8u342-b07-0ubuntu1~18.04 [4,032 kB]\n",
            "Fetched 46.0 MB in 6s (8,230 kB/s)\n",
            "Selecting previously unselected package libxxf86dga1:amd64.\r\n",
            "(Reading database ... \r(Reading database ... 5%\r(Reading database ... 10%\r(Reading database ... 15%\r(Reading database ... 20%\r(Reading database ... 25%\r(Reading database ... 30%\r(Reading database ... 35%\r(Reading database ... 40%\r(Reading database ... 45%\r(Reading database ... 50%\r(Reading database ... 55%\r(Reading database ... 60%\r(Reading database ... 65%\r(Reading database ... 70%\r(Reading database ... 75%\r(Reading database ... 80%\r(Reading database ... 85%\r(Reading database ... 90%\r(Reading database ... 95%\r(Reading database ... 100%\r(Reading database ... 155685 files and directories currently installed.)\r\n",
            "Preparing to unpack .../00-libxxf86dga1_2%3a1.1.4-1_amd64.deb ...\r\n",
            "Unpacking libxxf86dga1:amd64 (2:1.1.4-1) ...\r\n",
            "Selecting previously unselected package fonts-dejavu-core.\r\n",
            "Preparing to unpack .../01-fonts-dejavu-core_2.37-1_all.deb ...\r\n",
            "Unpacking fonts-dejavu-core (2.37-1) ...\r\n",
            "Selecting previously unselected package fonts-dejavu-extra.\r\n",
            "Preparing to unpack .../02-fonts-dejavu-extra_2.37-1_all.deb ...\r\n",
            "Unpacking fonts-dejavu-extra (2.37-1) ...\r\n",
            "Selecting previously unselected package x11-utils.\r\n",
            "Preparing to unpack .../03-x11-utils_7.7+3build1_amd64.deb ...\r\n",
            "Unpacking x11-utils (7.7+3build1) ...\r\n",
            "Selecting previously unselected package libatk-wrapper-java.\r\n",
            "Preparing to unpack .../04-libatk-wrapper-java_0.33.3-20ubuntu0.1_all.deb ...\r\n",
            "Unpacking libatk-wrapper-java (0.33.3-20ubuntu0.1) ...\r\n",
            "Selecting previously unselected package libatk-wrapper-java-jni:amd64.\r\n",
            "Preparing to unpack .../05-libatk-wrapper-java-jni_0.33.3-20ubuntu0.1_amd64.deb ...\r\n",
            "Unpacking libatk-wrapper-java-jni:amd64 (0.33.3-20ubuntu0.1) ...\r\n",
            "Selecting previously unselected package libgtk2.0-common.\r\n",
            "Preparing to unpack .../06-libgtk2.0-common_2.24.32-1ubuntu1_all.deb ...\r\n",
            "Unpacking libgtk2.0-common (2.24.32-1ubuntu1) ...\r\n",
            "Selecting previously unselected package libgtk2.0-0:amd64.\r\n",
            "Preparing to unpack .../07-libgtk2.0-0_2.24.32-1ubuntu1_amd64.deb ...\r\n",
            "Unpacking libgtk2.0-0:amd64 (2.24.32-1ubuntu1) ...\r\n",
            "Selecting previously unselected package libgail18:amd64.\r\n",
            "Preparing to unpack .../08-libgail18_2.24.32-1ubuntu1_amd64.deb ...\r\n",
            "Unpacking libgail18:amd64 (2.24.32-1ubuntu1) ...\r\n",
            "Selecting previously unselected package libgail-common:amd64.\r\n",
            "Preparing to unpack .../09-libgail-common_2.24.32-1ubuntu1_amd64.deb ...\r\n",
            "Unpacking libgail-common:amd64 (2.24.32-1ubuntu1) ...\r\n",
            "Selecting previously unselected package libgtk2.0-bin.\r\n",
            "Preparing to unpack .../10-libgtk2.0-bin_2.24.32-1ubuntu1_amd64.deb ...\r\n",
            "Unpacking libgtk2.0-bin (2.24.32-1ubuntu1) ...\r\n",
            "Selecting previously unselected package openjdk-8-jre-headless:amd64.\r\n",
            "Preparing to unpack .../11-openjdk-8-jre-headless_8u342-b07-0ubuntu1~18.04_amd64.deb ...\r\n",
            "Unpacking openjdk-8-jre-headless:amd64 (8u342-b07-0ubuntu1~18.04) ...\r\n",
            "Selecting previously unselected package openjdk-8-jre:amd64.\r\n",
            "Preparing to unpack .../12-openjdk-8-jre_8u342-b07-0ubuntu1~18.04_amd64.deb ...\r\n",
            "Unpacking openjdk-8-jre:amd64 (8u342-b07-0ubuntu1~18.04) ...\r\n",
            "Selecting previously unselected package openjdk-8-jdk-headless:amd64.\r\n",
            "Preparing to unpack .../13-openjdk-8-jdk-headless_8u342-b07-0ubuntu1~18.04_amd64.deb ...\r\n",
            "Unpacking openjdk-8-jdk-headless:amd64 (8u342-b07-0ubuntu1~18.04) ...\r\n",
            "Selecting previously unselected package openjdk-8-jdk:amd64.\r\n",
            "Preparing to unpack .../14-openjdk-8-jdk_8u342-b07-0ubuntu1~18.04_amd64.deb ...\r\n",
            "Unpacking openjdk-8-jdk:amd64 (8u342-b07-0ubuntu1~18.04) ...\r\n",
            "Setting up libgtk2.0-common (2.24.32-1ubuntu1) ...\r\n",
            "Setting up fonts-dejavu-core (2.37-1) ...\r\n",
            "Setting up libxxf86dga1:amd64 (2:1.1.4-1) ...\r\n",
            "Setting up fonts-dejavu-extra (2.37-1) ...\r\n",
            "Setting up openjdk-8-jre-headless:amd64 (8u342-b07-0ubuntu1~18.04) ...\r\n",
            "update-alternatives: using /usr/lib/jvm/java-8-openjdk-amd64/jre/bin/orbd to provide /usr/bin/orbd (orbd) in auto mode\r\n",
            "update-alternatives: using /usr/lib/jvm/java-8-openjdk-amd64/jre/bin/servertool to provide /usr/bin/servertool (servertool) in auto mode\r\n",
            "update-alternatives: using /usr/lib/jvm/java-8-openjdk-amd64/jre/bin/tnameserv to provide /usr/bin/tnameserv (tnameserv) in auto mode\r\n",
            "Setting up libgtk2.0-0:amd64 (2.24.32-1ubuntu1) ...\r\n",
            "Setting up libgail18:amd64 (2.24.32-1ubuntu1) ...\r\n",
            "Setting up openjdk-8-jdk-headless:amd64 (8u342-b07-0ubuntu1~18.04) ...\r\n",
            "update-alternatives: using /usr/lib/jvm/java-8-openjdk-amd64/bin/idlj to provide /usr/bin/idlj (idlj) in auto mode\r\n",
            "update-alternatives: using /usr/lib/jvm/java-8-openjdk-amd64/bin/wsimport to provide /usr/bin/wsimport (wsimport) in auto mode\r\n",
            "update-alternatives: using /usr/lib/jvm/java-8-openjdk-amd64/bin/jsadebugd to provide /usr/bin/jsadebugd (jsadebugd) in auto mode\r\n",
            "update-alternatives: using /usr/lib/jvm/java-8-openjdk-amd64/bin/native2ascii to provide /usr/bin/native2ascii (native2ascii) in auto mode\r\n",
            "update-alternatives: using /usr/lib/jvm/java-8-openjdk-amd64/bin/javah to provide /usr/bin/javah (javah) in auto mode\r\n",
            "update-alternatives: using /usr/lib/jvm/java-8-openjdk-amd64/bin/clhsdb to provide /usr/bin/clhsdb (clhsdb) in auto mode\r\n",
            "update-alternatives: using /usr/lib/jvm/java-8-openjdk-amd64/bin/xjc to provide /usr/bin/xjc (xjc) in auto mode\r\n",
            "update-alternatives: using /usr/lib/jvm/java-8-openjdk-amd64/bin/hsdb to provide /usr/bin/hsdb (hsdb) in auto mode\r\n",
            "update-alternatives: using /usr/lib/jvm/java-8-openjdk-amd64/bin/schemagen to provide /usr/bin/schemagen (schemagen) in auto mode\r\n",
            "update-alternatives: using /usr/lib/jvm/java-8-openjdk-amd64/bin/extcheck to provide /usr/bin/extcheck (extcheck) in auto mode\r\n",
            "update-alternatives: using /usr/lib/jvm/java-8-openjdk-amd64/bin/jhat to provide /usr/bin/jhat (jhat) in auto mode\r\n",
            "update-alternatives: using /usr/lib/jvm/java-8-openjdk-amd64/bin/wsgen to provide /usr/bin/wsgen (wsgen) in auto mode\r\n",
            "Setting up x11-utils (7.7+3build1) ...\r\n",
            "Setting up libgail-common:amd64 (2.24.32-1ubuntu1) ...\r\n",
            "Setting up libatk-wrapper-java (0.33.3-20ubuntu0.1) ...\r\n",
            "Setting up libgtk2.0-bin (2.24.32-1ubuntu1) ...\r\n",
            "Setting up libatk-wrapper-java-jni:amd64 (0.33.3-20ubuntu0.1) ...\r\n",
            "Setting up openjdk-8-jre:amd64 (8u342-b07-0ubuntu1~18.04) ...\r\n",
            "update-alternatives: using /usr/lib/jvm/java-8-openjdk-amd64/jre/bin/policytool to provide /usr/bin/policytool (policytool) in auto mode\r\n",
            "Setting up openjdk-8-jdk:amd64 (8u342-b07-0ubuntu1~18.04) ...\r\n",
            "update-alternatives: using /usr/lib/jvm/java-8-openjdk-amd64/bin/appletviewer to provide /usr/bin/appletviewer (appletviewer) in auto mode\r\n",
            "update-alternatives: using /usr/lib/jvm/java-8-openjdk-amd64/bin/jconsole to provide /usr/bin/jconsole (jconsole) in auto mode\r\n",
            "Processing triggers for man-db (2.8.3-2ubuntu0.1) ...\r\n",
            "Processing triggers for hicolor-icon-theme (0.17-2) ...\r\n",
            "Processing triggers for fontconfig (2.12.6-0ubuntu2) ...\r\n",
            "Processing triggers for mime-support (3.60ubuntu1) ...\r\n",
            "Processing triggers for libc-bin (2.27-3ubuntu1.5) ...\r\n",
            "Looking in indexes: https://pypi.org/simple, https://us-python.pkg.dev/colab-wheels/public/simple/\n",
            "Collecting JPype1\n",
            "  Downloading JPype1-1.4.0-cp37-cp37m-manylinux_2_5_x86_64.manylinux1_x86_64.whl (453 kB)\n",
            "Requirement already satisfied: typing-extensions in /usr/local/lib/python3.7/dist-packages (from JPype1) (4.1.1)\n",
            "Installing collected packages: JPype1\n",
            "Successfully installed JPype1-1.4.0\n",
            "Looking in indexes: https://pypi.org/simple, https://us-python.pkg.dev/colab-wheels/public/simple/\n",
            "Collecting konlpy\n",
            "  Downloading konlpy-0.6.0-py2.py3-none-any.whl (19.4 MB)\n",
            "Requirement already satisfied: numpy>=1.6 in /usr/local/lib/python3.7/dist-packages (from konlpy) (1.21.6)\n",
            "Requirement already satisfied: lxml>=4.1.0 in /usr/local/lib/python3.7/dist-packages (from konlpy) (4.9.1)\n",
            "Requirement already satisfied: JPype1>=0.7.0 in /usr/local/lib/python3.7/dist-packages (from konlpy) (1.4.0)\n",
            "Requirement already satisfied: typing-extensions in /usr/local/lib/python3.7/dist-packages (from JPype1>=0.7.0->konlpy) (4.1.1)\n",
            "Installing collected packages: konlpy\n",
            "Successfully installed konlpy-0.6.0\n"
          ]
        }
      ]
    },
    {
      "cell_type": "code",
      "source": [
        "# java 경로 설정\n",
        "%env JAVA_HOME \"/usr/lib/jvm/java-8-openjdk-amd64\""
      ],
      "metadata": {
        "colab": {
          "base_uri": "https://localhost:8080/"
        },
        "id": "gV7CNL2KVDqN",
        "outputId": "b1169312-8c24-4c37-f949-f470f5b0cfc6"
      },
      "execution_count": 16,
      "outputs": [
        {
          "output_type": "stream",
          "name": "stdout",
          "text": [
            "env: JAVA_HOME=\"/usr/lib/jvm/java-8-openjdk-amd64\"\n"
          ]
        }
      ]
    },
    {
      "cell_type": "code",
      "source": [
        "from konlpy.tag import Okt"
      ],
      "metadata": {
        "id": "S0aHtzksVPOT"
      },
      "execution_count": 17,
      "outputs": []
    },
    {
      "cell_type": "code",
      "source": [
        "okt = Okt()"
      ],
      "metadata": {
        "id": "ly1Fg2bXVYVF"
      },
      "execution_count": 18,
      "outputs": []
    },
    {
      "cell_type": "code",
      "source": [
        "# 전에 만든 걸 그대로 사용? 불러오기\n",
        "def CustomTokenizer(corpus):\n",
        "    stop = ['Josa', 'Punctuation', 'Number', 'Foreign']\n",
        "    tokenized = []\n",
        "    for i, j in okt.pos(corpus, stem = True, norm = True):\n",
        "        if j in stop:\n",
        "            continue\n",
        "        tokenized.append(i)\n",
        "    return tokenized      "
      ],
      "metadata": {
        "id": "UcXNpcUaVtIA"
      },
      "execution_count": 19,
      "outputs": []
    },
    {
      "cell_type": "code",
      "source": [
        "# 한국어 처리 어떻게 되고 있는지 확인\n",
        "CustomTokenizer(sample_data['ko'])"
      ],
      "metadata": {
        "colab": {
          "base_uri": "https://localhost:8080/"
        },
        "id": "aGMdyWtdWF31",
        "outputId": "4e8c8d67-eb38-4c3b-ca5a-16ac69c1f2a0"
      },
      "execution_count": 20,
      "outputs": [
        {
          "output_type": "execute_result",
          "data": {
            "text/plain": [
              "['그', '말', '들다', '기쁘다', '저희', '거래', '하다', '것', '고려', '하다', '주다', '하다']"
            ]
          },
          "metadata": {},
          "execution_count": 20
        }
      ]
    },
    {
      "cell_type": "code",
      "source": [
        "# 영어도 일단 토큰화가 되고 있으니 사용해보도록 합시다\n",
        "CustomTokenizer(sample_data['en'])"
      ],
      "metadata": {
        "colab": {
          "base_uri": "https://localhost:8080/"
        },
        "id": "G7vMH186WJUp",
        "outputId": "2a3148a0-f9e7-4166-d740-06bb30ef686d"
      },
      "execution_count": 21,
      "outputs": [
        {
          "output_type": "execute_result",
          "data": {
            "text/plain": [
              "['I',\n",
              " 'm',\n",
              " 'glad',\n",
              " 'to',\n",
              " 'hear',\n",
              " 'that',\n",
              " 'and',\n",
              " 'I',\n",
              " 'hope',\n",
              " 'you',\n",
              " 'do',\n",
              " 'consider',\n",
              " 'doing',\n",
              " 'business',\n",
              " 'with',\n",
              " 'us']"
            ]
          },
          "metadata": {},
          "execution_count": 21
        }
      ]
    },
    {
      "cell_type": "markdown",
      "source": [
        "## 본격적인 전처리 과정\n",
        "\n",
        "과제 코드와 비슷함\n",
        "\n",
        "전처리릏 할 때 주의할 점은, 우리가 가지고 있는 것은 train 데이터 뿐이라는 점입니다.\n",
        "\n",
        "토큰화를 하고, token들을 수집할 때 평가데이터(혹은 테스트 데이터)에 대한 정보는 가지고 있을 수 없습니다. 그렇기 때문에 train data를 기준으로 전처리가 진행되어야 합니다."
      ],
      "metadata": {
        "id": "L9_z0sVcW7Cy"
      }
    },
    {
      "cell_type": "markdown",
      "source": [
        "### Tokenization"
      ],
      "metadata": {
        "id": "HgfddQJuaQe-"
      }
    },
    {
      "cell_type": "markdown",
      "source": [
        "여기선 하나의 token이 '가다', '사과'와 같은 하나의 형태소 이고, 문장이 하나의 훈련샘플이고, 그 문장에서 형태소를 하나씩 가져오는 것이므로, 문장의 처음에 \\<sos\\>를, 문장의 끝에 \\<eos\\>를 추가하는 형태로 구성해야 한다.\n",
        "\n",
        "이전에는 형태소가 아니라 하나의 알파벳을 token으로 본 것과 달라서 구성에 유의해야한다.\n",
        "\n",
        "그리고 우리는 이미 일반적인 tokenizaiton이 적용된 것이어서, 토큰화된 리스트 앞 뒤에 적절한 값을 appen해주기만 해도 우리가 원하는 결과물을 얻을 수 있을 것이다!??? maybe..."
      ],
      "metadata": {
        "id": "HIIr9KgsTCPd"
      }
    },
    {
      "cell_type": "code",
      "source": [
        "# # 시작, 끝 토큰 추가 방법 찾기\n",
        "# a = ['1','2', '3']\n",
        "# a.append('4')\n",
        "# a.insert(0,'0')\n",
        "# print(a)"
      ],
      "metadata": {
        "id": "f9yT_DOAS7uK"
      },
      "execution_count": 24,
      "outputs": []
    },
    {
      "cell_type": "code",
      "source": [
        "# # list를 set에 효율적으로 add하는 방법\n",
        "# sample_set = set()\n",
        "# b = CustomTokenizer(sample_data['ko'])\n",
        "# print(b)\n",
        "# list(map(lambda x:sample_set.add(x), b))\n",
        "# print(sample_set)"
      ],
      "metadata": {
        "id": "CobS1YcTWNLY"
      },
      "execution_count": 25,
      "outputs": []
    },
    {
      "cell_type": "code",
      "source": [
        "# # 리스트에 토큰화 끝난 문장 저장하기?\n",
        "\n",
        "# sample_list = []\n",
        "# sample_list.append(b)\n",
        "# sample_list"
      ],
      "metadata": {
        "id": "dxN3HVIxXxCF"
      },
      "execution_count": 26,
      "outputs": []
    },
    {
      "cell_type": "code",
      "source": [
        "from tqdm import tqdm"
      ],
      "metadata": {
        "id": "zPHGhgX4YXJR"
      },
      "execution_count": 22,
      "outputs": []
    },
    {
      "cell_type": "code",
      "source": [
        "src_vocab = set()\n",
        "tar_vocab = set()\n",
        "\n",
        "src_seq_tr = []\n",
        "tar_seq_tr = []\n",
        "\n",
        "# 전체 raw data에서 문장하나씩 loop 돌아가는 것\n",
        "for raw_tr_dat in tqdm(raw_train_data): # 데이터를 가져왔고, 트레인 데이터가 리스트 형태로 되어있는데 한 문장 가져와서 함수 이용해서 토큰화 하고\n",
        "  # 문장별 tokenization (인코더의 문장, 디코더의 문장을 각각 하기)\n",
        "  src_tmp = CustomTokenizer(raw_tr_dat['ko'])\n",
        "  tar_tmp = CustomTokenizer(raw_tr_dat['en'])\n",
        "\n",
        "  # 입력 시퀀스에서 문장의 끝을 알리는 <EOS> 토큰 추가 (이전에 사용한 구조를 유의하기)\n",
        "  # 출력 시퀀스에서 시작과 끝을 알리는 <SOS>, <EOS> 토큰 추가\n",
        "  src_tmp.append('<EOS>')\n",
        "  tar_tmp.insert(0, '<SOS>')\n",
        "  tar_tmp.append('<EOS>')\n",
        "\n",
        "  # 한국어, 영어 단어집합 구성\n",
        "  list(map(lambda x:src_vocab.add(x), src_tmp))\n",
        "  list(map(lambda x:tar_vocab.add(x), tar_tmp))\n",
        "\n",
        "  # tokenization 끝난 문장 보관 (list에다가)\n",
        "  src_seq_tr.append(src_tmp)\n",
        "  tar_seq_tr.append(tar_tmp)"
      ],
      "metadata": {
        "colab": {
          "base_uri": "https://localhost:8080/"
        },
        "id": "sJjWUAipWPsN",
        "outputId": "446a5b7b-f664-4247-ad23-d320185f018d"
      },
      "execution_count": 23,
      "outputs": [
        {
          "output_type": "stream",
          "name": "stderr",
          "text": [
            "100%|██████████| 10000/10000 [00:28<00:00, 355.63it/s]\n"
          ]
        }
      ]
    },
    {
      "cell_type": "markdown",
      "source": [
        "고민해볼 점: 과연 한국어 단어집합에 한국어만 있을까요?\n",
        "\n",
        "지금 단계에서는 시간 상 체크하진 않지만 고민해볼 부분이기도 합니다."
      ],
      "metadata": {
        "id": "PtNW4DUIyEbN"
      }
    },
    {
      "cell_type": "markdown",
      "source": [
        "### token - index 정리"
      ],
      "metadata": {
        "id": "cK_E98-daSy7"
      }
    },
    {
      "cell_type": "code",
      "source": [
        "# 최종 정수 인코딩 하기 전 보기 편하기 위해 sort\n",
        "src_vocab = sorted(list(src_vocab))\n",
        "tar_vocab = sorted(list(tar_vocab))"
      ],
      "metadata": {
        "id": "Iz3i3MtRZ-P-"
      },
      "execution_count": 24,
      "outputs": []
    },
    {
      "cell_type": "code",
      "source": [
        "# token - idx dictionary\n",
        "# 여기서도 동일하게 i+1로 해줘야 padding에 사용할 token을 0으로 사용할 수 있습니다! (패딩위해 앞에 0부분 토큰 제외하기)\n",
        "src_to_index = dict([(word, i+1) for i, word in enumerate(src_vocab)])\n",
        "tar_to_index = dict([(word, i+1) for i, word in enumerate(tar_vocab)])\n",
        "print(src_to_index) # 한국어가 들어간 단어집합에 영어도 많네? 전처리에서 없애야 해야하나?\n",
        "print(tar_to_index)"
      ],
      "metadata": {
        "colab": {
          "base_uri": "https://localhost:8080/"
        },
        "id": "xrGkd41Has-Q",
        "outputId": "49b942e6-b7e5-4ef8-c21d-862e3f1c077c"
      },
      "execution_count": 25,
      "outputs": [
        {
          "output_type": "stream",
          "name": "stdout",
          "text": [
            "{'<EOS>': 1, 'A': 2, 'AAA': 3, 'AAA1@BBB1.com': 4, 'AAA@BBB.com': 5, 'ABCDE': 6, 'AI': 7, 'ANR': 8, 'ATM': 9, 'Associates': 10, 'B': 11, 'BBB': 12, 'BBB@email.com': 13, 'BSE': 14, 'Bank': 15, 'C': 16, 'CCTV': 17, 'CEO': 18, 'CFM': 19, 'CMS': 20, 'COVID': 21, 'CSS': 22, 'CT': 23, 'Company': 24, 'Corporation': 25, 'D': 26, 'DCA': 27, 'DVR': 28, 'Drive': 29, 'E': 30, 'EOB': 31, 'EPP': 32, 'ESG': 33, 'ETF': 34, 'EVA': 35, 'Enter': 36, 'Expo': 37, 'FFF': 38, 'FFFF': 39, 'FOMO': 40, 'Fair': 41, 'Fi': 42, 'Food': 43, 'Fu': 44, 'G': 45, 'GB': 46, 'GPS': 47, 'GVWR': 48, 'HDD': 49, 'HTML': 50, 'ID': 51, 'IP': 52, 'IPO': 53, 'IT': 54, 'IVR': 55, 'IaaS': 56, 'International': 57, 'IoT': 58, 'JLPT': 59, 'K': 60, 'Kabsat': 61, 'Korea': 62, 'LED': 63, 'Limited': 64, 'Locust': 65, 'M': 66, 'MAR': 67, 'MMS': 68, 'MOU': 69, 'Medical': 70, 'NFT': 71, 'NI': 72, 'NSE': 73, 'NTFS': 74, 'PDA': 75, 'PDF': 76, 'PPE': 77, 'PRO': 78, 'PSA': 79, 'PVP': 80, 'Precision': 81, 'Private': 82, 'QR': 83, 'RAM': 84, 'ROI': 85, 'RV': 86, 'SD': 87, 'SEO': 88, 'SIM': 89, 'SKU': 90, 'SNS': 91, 'SPV': 92, 'SSD': 93, 'SSL': 94, 'Salalah': 95, 'South': 96, 'TPU': 97, 'TV': 98, 'Touch': 99, 'UI': 100, 'UN': 101, 'USB': 102, 'VC': 103, 'VIP': 104, 'VPN': 105, 'VR': 106, 'VVIP': 107, 'View': 108, 'WIFI': 109, 'WTO': 110, 'Web': 111, 'Wi': 112, 'by': 113, 'car': 114, 'cm': 115, 'demat': 116, 'e': 117, 'found': 118, 'km': 119, 'm': 120, 'mm': 121, 'mmHg': 122, 'not': 123, 'pdf': 124, 'x': 125, '가게': 126, '가격': 127, '가격표': 128, '가공': 129, '가교': 130, '가구': 131, '가급적': 132, '가기': 133, '가까워지다': 134, '가까이': 135, '가깝다': 136, '가꾸다': 137, '가끔': 138, '가능': 139, '가능성': 140, '가능하다': 141, '가다': 142, '가닥': 143, '가득': 144, '가득하다': 145, '가든': 146, '가령': 147, '가로': 148, '가르다': 149, '가르치다': 150, '가리키다': 151, '가면': 152, '가미': 153, '가변': 154, '가볍다': 155, '가보다': 156, '가상': 157, '가상화': 158, '가세': 159, '가소성': 160, '가솔린': 161, '가스': 162, '가스나': 163, '가스레인지': 164, '가슴': 165, '가시': 166, '가야': 167, '가열': 168, '가옥': 169, '가요': 170, '가용성': 171, '가을': 172, '가의': 173, '가이드': 174, '가이드북': 175, '가입': 176, '가입자': 177, '가장': 178, '가전': 179, '가전제품': 180, '가정': 181, '가정식': 182, '가젯': 183, '가져가다': 184, '가져다주다': 185, '가져오다': 186, '가족': 187, '가지': 188, '가지다': 189, '가차': 190, '가치': 191, '가판': 192, '각': 193, '각각': 194, '각국': 195, '각도': 196, '각본': 197, '각서': 198, '각자': 199, '각종': 200, '간': 201, '간격': 202, '간결하다': 203, '간과': 204, '간극': 205, '간단하다': 206, '간략하다': 207, '간사': 208, '간의': 209, '간장': 210, '간접비': 211, '간주': 212, '간행물': 213, '간호사': 214, '갇히다': 215, '갈다': 216, '갈래': 217, '갈비': 218, '갈아타다': 219, '감': 220, '감당': 221, '감독': 222, '감동': 223, '감명': 224, '감사': 225, '감사하다': 226, '감소': 227, '감수': 228, '감시': 229, '감싸다': 230, '감안': 231, '감염': 232, '감정': 233, '감지': 234, '갑자기': 235, '갑작스럽다': 236, '값': 237, '갓': 238, '강남': 239, '강남역': 240, '강도': 241, '강력하다': 242, '강릉': 243, '강세': 244, '강아지': 245, '강연': 246, '강의': 247, '강의실': 248, '강점': 249, '강제': 250, '강조': 251, '강좌': 252, '강철': 253, '강하다': 254, '강화하다': 255, '갖다': 256, '갖추다': 257, '같다': 258, '같이': 259, '갚다': 260, '개': 261, '개구': 262, '개국': 263, '개념': 264, '개다': 265, '개도': 266, '개발': 267, '개발자': 268, '개방': 269, '개별': 270, '개봉': 271, '개선': 272, '개설': 273, '개시': 274, '개업': 275, '개요': 276, '개월': 277, '개월치': 278, '개인': 279, '개인실': 280, '개인정보': 281, '개인화': 282, '개입': 283, '개정': 284, '개조': 285, '개척': 286, '개체': 287, '개최': 288, '개회': 289, '객': 290, '객관': 291, '객실': 292, '갱신': 293, '거': 294, '거고': 295, '거기': 296, '거나': 297, '거대하다': 298, '거도': 299, '거들다': 300, '거뜬하다': 301, '거란': 302, '거래': 303, '거래소': 304, '거래처': 305, '거론': 306, '거리': 307, '거버넌스': 308, '거부': 309, '거셨나': 310, '거슬러': 311, '거신': 312, '거실': 313, '거야': 314, '거의': 315, '거절': 316, '거점': 317, '거주': 318, '거주지': 319, '거처': 320, '거치다': 321, '거품': 322, '걱정': 323, '걱정거리': 324, '건': 325, '건가': 326, '건강': 327, '건강하다': 328, '건너다': 329, '건너편': 330, '건네주다': 331, '건대': 332, '건물': 333, '건배': 334, '건설': 335, '건설업': 336, '건의': 337, '건조기': 338, '건지다': 339, '건축': 340, '건축물': 341, '걸': 342, '걸다': 343, '걸리다': 344, '걸음걸이': 345, '걸쭉하다': 346, '걸치다': 347, '검': 348, '검다': 349, '검사': 350, '검색': 351, '검수': 352, '검안': 353, '검은색': 354, '검증': 355, '검토': 356, '겁': 357, '겁니다': 358, '것': 359, '것이므': 360, '것입': 361, '게': 362, '게다가': 363, '게스트': 364, '게스트하우스': 365, '게시': 366, '게시판': 367, '게으르다': 368, '게이': 369, '게이트': 370, '게임': 371, '게장': 372, '게재': 373, '겠다': 374, '겨울': 375, '겨울철': 376, '격려': 377, '격식': 378, '격자': 379, '겪다': 380, '견과류': 381, '견본': 382, '견인차': 383, '견적': 384, '견학': 385, '결과': 386, '결국': 387, '결기': 388, '결론': 389, '결절': 390, '결정': 391, '결제': 392, '결코': 393, '결함': 394, '결합': 395, '결혼': 396, '결혼식': 397, '경': 398, '경고': 399, '경과': 400, '경기도': 401, '경량': 402, '경력': 403, '경로': 404, '경보': 405, '경비원': 406, '경시': 407, '경영': 408, '경우': 409, '경의': 410, '경작': 411, '경쟁': 412, '경쟁력': 413, '경쟁자': 414, '경제': 415, '경청': 416, '경치': 417, '경품': 418, '경향': 419, '경험': 420, '곁들이다': 421, '계': 422, '계란': 423, '계란빵': 424, '계란찜': 425, '계산': 426, '계산서': 427, '계세': 428, '계속': 429, '계시': 430, '계시다': 431, '계약': 432, '계약금': 433, '계약서': 434, '계열': 435, '계절': 436, '계정': 437, '계정은': 438, '계좌': 439, '계층': 440, '계획': 441, '고': 442, '고가': 443, '고개': 444, '고객': 445, '고구마': 446, '고귀하다': 447, '고급': 448, '고급스럽다': 449, '고기': 450, '고대': 451, '고도': 452, '고등어': 453, '고려': 454, '고려인삼': 455, '고르다': 456, '고맙다': 457, '고문': 458, '고민': 459, '고소하다': 460, '고속': 461, '고압': 462, '고양이': 463, '고여': 464, '고요': 465, '고용': 466, '고용주': 467, '고위': 468, '고유': 469, '고장': 470, '고정': 471, '고정기': 472, '고집': 473, '고추장': 474, '고치다': 475, '고통': 476, '고프다': 477, '고향': 478, '고화질': 479, '곡': 480, '곡물': 481, '곤경': 482, '곤혹': 483, '곧': 484, '곧다': 485, '골드': 486, '골프': 487, '곰팡이': 488, '곱': 489, '곳': 490, '곳곳': 491, '곳도': 492, '공': 493, '공간': 494, '공감': 495, '공개': 496, '공격': 497, '공공': 498, '공과금': 499, '공급': 500, '공기': 501, '공기업': 502, '공동': 503, '공동체': 504, '공략': 505, '공모': 506, '공백': 507, '공부': 508, '공사': 509, '공식': 510, '공압': 511, '공연': 512, '공용': 513, '공유': 514, '공인': 515, '공자': 516, '공장': 517, '공정': 518, '공정하다': 519, '공제': 520, '공지': 521, '공짜': 522, '공통': 523, '공통점': 524, '공학': 525, '공함': 526, '공항': 527, '과': 528, '과감': 529, '과거': 530, '과대': 531, '과세': 532, '과소': 533, '과실': 534, '과업': 535, '과일': 536, '과자': 537, '과장': 538, '과정': 539, '과제': 540, '과학': 541, '과학자': 542, '관': 543, '관계': 544, '관계없이': 545, '관광': 546, '관광객': 547, '관광지': 548, '관대하다': 549, '관련': 550, '관리': 551, '관리자': 552, '관세': 553, '관세청': 554, '관습': 555, '관심': 556, '관심사': 557, '관용': 558, '관점': 559, '관찰': 560, '관할': 561, '관해': 562, '관행': 563, '괌': 564, '광': 565, '광고': 566, '광대역': 567, '광도': 568, '광범위하다': 569, '광석': 570, '광택': 571, '괜': 572, '괜찮다': 573, '괴롭히다': 574, '굉장하다': 575, '교대': 576, '교류': 577, '교사': 578, '교수': 579, '교실': 580, '교육': 581, '교재': 582, '교직원': 583, '교체': 584, '교통': 585, '교환': 586, '교환학생': 587, '교훈': 588, '구': 589, '구가': 590, '구경': 591, '구독': 592, '구독료': 593, '구동': 594, '구름': 595, '구매': 596, '구별': 597, '구비': 598, '구상': 599, '구석구석': 600, '구성': 601, '구역': 602, '구이': 603, '구입': 604, '구절판': 605, '구조': 606, '구조원': 607, '구체': 608, '구축': 609, '구축함': 610, '구현': 611, '구형': 612, '국': 613, '국가': 614, '국경': 615, '국내': 616, '국내선': 617, '국내외': 618, '국물': 619, '국법': 620, '국수': 621, '국적': 622, '국제': 623, '국제공항': 624, '국한': 625, '군': 626, '군데': 627, '굴삭기': 628, '굴착기': 629, '굵다': 630, '굽다': 631, '궁궐': 632, '궁극': 633, '궁금하다': 634, '권': 635, '권리': 636, '권장': 637, '권하다': 638, '권한': 639, '귀': 640, '귀국': 641, '귀사': 642, '귀중': 643, '귀중하다': 644, '귀하': 645, '귀하다': 646, '규모': 647, '규정': 648, '규제': 649, '규칙': 650, '균열': 651, '균형': 652, '그': 653, '그거': 654, '그건': 655, '그걸': 656, '그걿': 657, '그것': 658, '그게': 659, '그날': 660, '그냥': 661, '그녀': 662, '그늘': 663, '그다음': 664, '그대로': 665, '그동안': 666, '그때': 667, '그땐': 668, '그라브락스': 669, '그래도': 670, '그래서': 671, '그래프': 672, '그래픽': 673, '그랬는데': 674, '그랬더니': 675, '그러나': 676, '그러니까': 677, '그러면': 678, '그러므로': 679, '그러하다': 680, '그런데': 681, '그렇게': 682, '그렇다': 683, '그렇다고': 684, '그렇지만': 685, '그룹': 686, '그릇': 687, '그리고': 688, '그리다': 689, '그리스': 690, '그린': 691, '그릴': 692, '그림': 693, '그만하다': 694, '그저': 695, '그중': 696, '극구': 697, '극복': 698, '극장': 699, '극적': 700, '근거': 701, '근데': 702, '근로자': 703, '근무': 704, '근원': 705, '근접하다': 706, '근처': 707, '글': 708, '글꼴': 709, '글로벌': 710, '글루텐': 711, '글쎄': 712, '글쎄요': 713, '글씨': 714, '금': 715, '금기': 716, '금년': 717, '금리': 718, '금색': 719, '금속': 720, '금액': 721, '금요일': 722, '금융': 723, '금융감독원': 724, '금은': 725, '금전': 726, '금제': 727, '금지': 728, '급': 729, '급등': 730, '급성': 731, '급여': 732, '급우': 733, '급증': 734, '급하다': 735, '긍정': 736, '기': 737, '기가바이트': 738, '기간': 739, '기계': 740, '기공식': 741, '기관': 742, '기구': 743, '기금': 744, '기기': 745, '기꺼이': 746, '기념': 747, '기념일': 748, '기능': 749, '기다': 750, '기다리다': 751, '기대': 752, '기대하다': 753, '기도': 754, '기둥': 755, '기록': 756, '기르다': 757, '기밀': 758, '기반': 759, '기본': 760, '기부': 761, '기분': 762, '기쁘다': 763, '기사': 764, '기숙사': 765, '기술': 766, '기술자': 767, '기어': 768, '기억': 769, '기억나다': 770, '기업': 771, '기업가': 772, '기업은행': 773, '기업인': 774, '기여': 775, '기온': 776, '기와': 777, '기울이다': 778, '기원': 779, '기입': 780, '기자': 781, '기재': 782, '기적': 783, '기존': 784, '기준': 785, '기중기': 786, '기차': 787, '기차역': 788, '기차표': 789, '기초': 790, '기타': 791, '기표': 792, '기한': 793, '기호': 794, '기혼': 795, '기회': 796, '기획': 797, '기후변화': 798, '긴급': 799, '긴급하다': 800, '긴밀하다': 801, '길': 802, '길다': 803, '길어지다': 804, '길이': 805, '김': 806, '김밥': 807, '김치': 808, '김치볶음밥': 809, '깊다': 810, '깊이': 811, '까다롭다': 812, '까맣다': 813, '깔끔하다': 814, '깔리다': 815, '깜박이다': 816, '깜빡': 817, '깜짝': 818, '깨끗하다': 819, '깨다': 820, '깨우치다': 821, '깨지다': 822, '깻잎': 823, '꺼내다': 824, '꺼지다': 825, '꼭': 826, '꼼꼼하다': 827, '꽉': 828, '꽤': 829, '꾸미다': 830, '꾸준하다': 831, '꿀': 832, '꿈': 833, '꿰매다': 834, '끄다': 835, '끊다': 836, '끌': 837, '끌다': 838, '끌리다': 839, '끓는점': 840, '끓다': 841, '끓이다': 842, '끔찍하다': 843, '끝': 844, '끝나다': 845, '끝내기': 846, '끝내다': 847, '끼치다': 848, '나': 849, '나가다': 850, '나나': 851, '나누다': 852, '나뉘다': 853, '나다': 854, '나라': 855, '나르다': 856, '나머지': 857, '나무': 858, '나빠지다': 859, '나쁘다': 860, '나사': 861, '나서다': 862, '나아': 863, '나아가다': 864, '나아지다': 865, '나열': 866, '나오다': 867, '나은': 868, '나은지': 869, '나이': 870, '나이라': 871, '나이지리아': 872, '나이트클럽': 873, '나일론': 874, '나중': 875, '나타나다': 876, '나타내다': 877, '나흘': 878, '난': 879, '난방': 880, '난이도': 881, '날': 882, '날리다': 883, '날씨': 884, '날아가다': 885, '날짜': 886, '날카로워지다': 887, '남기다': 888, '남다': 889, '남동쪽': 890, '남미': 891, '남성': 892, '남아': 893, '남아시아': 894, '남용': 895, '남지': 896, '남편': 897, '납부': 898, '납품': 899, '낫': 900, '낫다': 901, '낭비': 902, '낭비하다': 903, '낮다': 904, '낮아지다': 905, '낮잠': 906, '낮추다': 907, '낯설다': 908, '내': 909, '내기': 910, '내내': 911, '내년': 912, '내놓다': 913, '내다': 914, '내려가다': 915, '내려오다': 916, '내리다': 917, '내면': 918, '내미다': 919, '내부': 920, '내시': 921, '내야': 922, '내연': 923, '내용': 924, '내일': 925, '내장': 926, '내주다': 927, '내지': 928, '낸싱': 929, '낼': 930, '냄비': 931, '냅킨': 932, '냉각': 933, '냉동고': 934, '냉면': 935, '냉장': 936, '너': 937, '너무': 938, '너무나': 939, '너무하다': 940, '너비': 941, '너희': 942, '널': 943, '널리': 944, '넓다': 945, '넓히다': 946, '넘기다': 947, '넘다': 948, '넘버': 949, '넘어가다': 950, '넘어서다': 951, '넘어지다': 952, '넘치다': 953, '넣기': 954, '넣다': 955, '네': 956, '네가지': 957, '네트워크': 958, '네트워킹': 959, '넷째': 960, '년': 961, '노': 962, '노고': 963, '노동자': 964, '노란색': 965, '노래': 966, '노래방': 967, '노력': 968, '노인': 969, '노점': 970, '노출': 971, '노트북': 972, '노프': 973, '녹색': 974, '녹음': 975, '녹이다': 976, '녹차': 977, '녹화': 978, '논란': 979, '논문': 980, '논의': 981, '논픽션': 982, '놀': 983, '놀라다': 984, '놀랍다': 985, '놀이터': 986, '농': 987, '농기': 988, '농기구': 989, '농담': 990, '농부': 991, '농어': 992, '농업': 993, '농작물': 994, '높다': 995, '높아지다': 996, '높이': 997, '높이다': 998, '놓다': 999, '놓이다': 1000, '놓치다': 1001, '뇌파': 1002, '누가': 1003, '누구': 1004, '누구신지': 1005, '누군가': 1006, '누군지': 1007, '누락': 1008, '누르다': 1009, '누리': 1010, '누리다': 1011, '누수': 1012, '눈': 1013, '눌릴': 1014, '뉴스': 1015, '뉴스레터': 1016, '뉴욕': 1017, '뉴질랜드': 1018, '느껴지다': 1019, '느끼다': 1020, '느낌': 1021, '느리다': 1022, '느슨하다': 1023, '늘': 1024, '늘다': 1025, '늘리다': 1026, '늘어나다': 1027, '늙다': 1028, '능력': 1029, '늦': 1030, '늦다': 1031, '늦어지다': 1032, '니': 1033, '님': 1034, '다': 1035, '다가': 1036, '다가가다': 1037, '다가오다': 1038, '다국적': 1039, '다녀오다': 1040, '다년': 1041, '다니다': 1042, '다단계': 1043, '다도': 1044, '다듬다': 1045, '다량': 1046, '다루다': 1047, '다루어지다': 1048, '다르다': 1049, '다른': 1050, '다리미': 1051, '다만': 1052, '다섯': 1053, '다섯째': 1054, '다소': 1055, '다시': 1056, '다시다': 1057, '다양성': 1058, '다양하다': 1059, '다용': 1060, '다운': 1061, '다운로드': 1062, '다음': 1063, '다음주': 1064, '다이닝': 1065, '다인': 1066, '다채로웠으': 1067, '다큐멘터리': 1068, '다해': 1069, '다행': 1070, '다행하다': 1071, '단': 1072, '단가': 1073, '단거리': 1074, '단계': 1075, '단골': 1076, '단기': 1077, '단기간': 1078, '단단하다': 1079, '단독': 1080, '단돈': 1081, '단말기': 1082, '단백질': 1083, '단순하다': 1084, '단어': 1085, '단열': 1086, '단위': 1087, '단일': 1088, '단점': 1089, '단정하다': 1090, '단지': 1091, '단체': 1092, '단편': 1093, '단합': 1094, '닫다': 1095, '달': 1096, '달다': 1097, '달라': 1098, '달라지다': 1099, '달러': 1100, '달리': 1101, '달리다': 1102, '달성': 1103, '달이': 1104, '달콤하다': 1105, '닭': 1106, '닭고기': 1107, '닭발': 1108, '담': 1109, '담그다': 1110, '담기다': 1111, '담다': 1112, '담당': 1113, '담당자': 1114, '담배': 1115, '담백하다': 1116, '담보': 1117, '답': 1118, '답니': 1119, '답답하다': 1120, '답변': 1121, '답장': 1122, '답지': 1123, '당': 1124, '당국': 1125, '당근': 1126, '당분간': 1127, '당사': 1128, '당사자': 1129, '당시': 1130, '당신': 1131, '당연하다': 1132, '당일': 1133, '당장': 1134, '당하다': 1135, '당황': 1136, '대': 1137, '대가': 1138, '대고': 1139, '대구': 1140, '대규모': 1141, '대금': 1142, '대기': 1143, '대기업': 1144, '대나무': 1145, '대다': 1146, '대다수': 1147, '대단하다': 1148, '대답': 1149, '대략': 1150, '대량': 1151, '대로': 1152, '대륙': 1153, '대리인': 1154, '대리점': 1155, '대만': 1156, '대박': 1157, '대본': 1158, '대부분': 1159, '대비': 1160, '대상': 1161, '대상자': 1162, '대신': 1163, '대안': 1164, '대야': 1165, '대여': 1166, '대역': 1167, '대역폭': 1168, '대요': 1169, '대유행': 1170, '대응': 1171, '대의': 1172, '대입': 1173, '대적': 1174, '대접': 1175, '대중': 1176, '대지': 1177, '대책': 1178, '대처': 1179, '대체': 1180, '대출': 1181, '대출받다': 1182, '대충': 1183, '대치': 1184, '대칭': 1185, '대통령': 1186, '대폭': 1187, '대표': 1188, '대피소': 1189, '대학': 1190, '대학교': 1191, '대한': 1192, '대한민국': 1193, '대해': 1194, '대행': 1195, '대형': 1196, '대화': 1197, '댓글': 1198, '더': 1199, '더듬다': 1200, '더디다': 1201, '더라도': 1202, '더블': 1203, '더욱': 1204, '더위': 1205, '더하다': 1206, '덕분': 1207, '덜': 1208, '덜다': 1209, '덤프': 1210, '덤프트럭': 1211, '덥다': 1212, '덧붙이다': 1213, '덩굴': 1214, '데': 1215, '데도': 1216, '데려가다': 1217, '데려오다': 1218, '데리': 1219, '데리다': 1220, '데모': 1221, '데뷔': 1222, '데스크': 1223, '데스크탑': 1224, '데우다': 1225, '데이터': 1226, '데이터베이스': 1227, '데이트': 1228, '데코': 1229, '데크': 1230, '덴마크': 1231, '도': 1232, '도구': 1233, '도넛': 1234, '도달': 1235, '도대체': 1236, '도로': 1237, '도록': 1238, '도르다': 1239, '도매': 1240, '도메인': 1241, '도서관': 1242, '도시': 1243, '도시락': 1244, '도안': 1245, '도어': 1246, '도와주다': 1247, '도용': 1248, '도우': 1249, '도우미': 1250, '도울': 1251, '도움': 1252, '도움말': 1253, '도입': 1254, '도전': 1255, '도착': 1256, '도체': 1257, '도쿄': 1258, '독립': 1259, '독방': 1260, '독일': 1261, '독자': 1262, '독점': 1263, '독촉': 1264, '독특하다': 1265, '돈': 1266, '돈벌이': 1267, '돋보이다': 1268, '돌려주다': 1269, '돌리다': 1270, '돌보다': 1271, '돌아가다': 1272, '돌아오다': 1273, '돌잔치': 1274, '돌파': 1275, '돔': 1276, '돕기': 1277, '돕다': 1278, '동': 1279, '동감': 1280, '동거': 1281, '동기': 1282, '동남아시아': 1283, '동네': 1284, '동등': 1285, '동료': 1286, '동물': 1287, '동물성': 1288, '동반': 1289, '동부': 1290, '동생': 1291, '동시': 1292, '동안': 1293, '동양': 1294, '동영상': 1295, '동의': 1296, '동인': 1297, '동일': 1298, '동일시': 1299, '동일하다': 1300, '동전': 1301, '동참': 1302, '동행': 1303, '동향': 1304, '돼다': 1305, '돼지': 1306, '돼지고기': 1307, '되게': 1308, '되다': 1309, '되돌리다': 1310, '되어다': 1311, '되찾다': 1312, '두': 1313, '두기': 1314, '두껍다': 1315, '두다': 1316, '두드리다': 1317, '두렵다': 1318, '두시': 1319, '두운': 1320, '둘': 1321, '둘러보다': 1322, '둘러싸다': 1323, '둘째': 1324, '뒤': 1325, '뒷': 1326, '뒷마당': 1327, '뒷받침': 1328, '듀얼': 1329, '드': 1330, '드나': 1331, '드디어': 1332, '드라마': 1333, '드라이브': 1334, '드러나다': 1335, '드럼': 1336, '드레스': 1337, '드레싱': 1338, '드로잉': 1339, '드리다': 1340, '드릴': 1341, '듣기': 1342, '듣다': 1343, '들': 1344, '들다': 1345, '들뜨다': 1346, '들려주다': 1347, '들르다': 1348, '들리다': 1349, '들어가다': 1350, '들어서다': 1351, '들어오다': 1352, '들어주다': 1353, '들이다': 1354, '듭': 1355, '듭니': 1356, '등': 1357, '등급': 1358, '등등': 1359, '등록': 1360, '등록증': 1361, '등본': 1362, '등장': 1363, '디네': 1364, '디럭스': 1365, '디바이스': 1366, '디스크': 1367, '디스플레이': 1368, '디시': 1369, '디자이너': 1370, '디자인': 1371, '디저스터': 1372, '디저트': 1373, '디젤': 1374, '디지털': 1375, '디지털로': 1376, '딜러': 1377, '딥': 1378, '딩기': 1379, '따내다': 1380, '따뜻하다': 1381, '따라가다': 1382, '따라서': 1383, '따라오다': 1384, '따로': 1385, '따르다': 1386, '딱': 1387, '딱이다': 1388, '딸리다': 1389, '땀': 1390, '때': 1391, '때때로': 1392, '때로는': 1393, '때문': 1394, '떠나다': 1395, '떠오르다': 1396, '떡': 1397, '떡볶이': 1398, '떨다': 1399, '떨어뜨리다': 1400, '떨어지다': 1401, '또': 1402, '또는': 1403, '또래': 1404, '또한': 1405, '똑같다': 1406, '똑똑하다': 1407, '똑바로': 1408, '뚜렷하다': 1409, '뛰어나다': 1410, '뛰어들다': 1411, '뜨개질': 1412, '뜨다': 1413, '뜰': 1414, '뜻': 1415, '뜻입': 1416, '띄다': 1417, '라디오': 1418, '라면': 1419, '라발': 1420, '라서': 1421, '라우터': 1422, '라운드': 1423, '라운지': 1424, '라이': 1425, '라이브': 1426, '라이브러리': 1427, '라이선스': 1428, '라이센스': 1429, '라이트': 1430, '라이트닝': 1431, '라이프스타일': 1432, '라인': 1433, '라인업': 1434, '란': 1435, '랍니': 1436, '래야': 1437, '랙티브': 1438, '랜드': 1439, '랩': 1440, '랩톱': 1441, '량': 1442, '러': 1443, '러너': 1444, '러닝': 1445, '러시': 1446, '럭셔리': 1447, '런가': 1448, '런던': 1449, '런칭': 1450, '레드': 1451, '레벨': 1452, '레스토랑': 1453, '레시피': 1454, '레어': 1455, '레이': 1456, '레이블': 1457, '레이아웃': 1458, '레인': 1459, '레지스트리': 1460, '레코드': 1461, '레크리에이션': 1462, '레터': 1463, '렌더링': 1464, '렌즈': 1465, '렌탈': 1466, '렌터카': 1467, '렌틸': 1468, '려고': 1469, '려면': 1470, '력': 1471, '령': 1472, '로': 1473, '로고': 1474, '로그': 1475, '로그아웃': 1476, '로그온': 1477, '로그인': 1478, '로더': 1479, '로드': 1480, '로드맵': 1481, '로만': 1482, '로봇': 1483, '로부터': 1484, '로비': 1485, '로서': 1486, '로열티': 1487, '로터리': 1488, '로트': 1489, '록': 1490, '론': 1491, '론칭': 1492, '롤': 1493, '롤러': 1494, '롤플레잉': 1495, '롭': 1496, '료': 1497, '루프': 1498, '룸': 1499, '룸메이트': 1500, '룸서비스': 1501, '룸셰어': 1502, '륜': 1503, '률': 1504, '를': 1505, '리': 1506, '리가': 1507, '리기': 1508, '리뉴얼': 1509, '리더': 1510, '리드': 1511, '리디렉션': 1512, '리버풀': 1513, '리뷰': 1514, '리셉션': 1515, '리소스': 1516, '리스크': 1517, '리스트': 1518, '리조트': 1519, '리지': 1520, '리캐': 1521, '리커버리': 1522, '리테일': 1523, '리퍼': 1524, '리프트': 1525, '리허설': 1526, '린다': 1527, '릴': 1528, '링': 1529, '링스': 1530, '링크': 1531, '마': 1532, '마감': 1533, '마개': 1534, '마늘': 1535, '마닐라': 1536, '마다': 1537, '마당': 1538, '마드리드': 1539, '마땅치': 1540, '마력': 1541, '마련': 1542, '마리': 1543, '마무리': 1544, '마법': 1545, '마사지': 1546, '마스코트': 1547, '마스크': 1548, '마스터': 1549, '마시기': 1550, '마시다': 1551, '마우스': 1552, '마을': 1553, '마음': 1554, '마이너스': 1555, '마이크': 1556, '마인더': 1557, '마인드': 1558, '마중': 1559, '마지막': 1560, '마차': 1561, '마찬가지': 1562, '마치다': 1563, '마침': 1564, '마침내': 1565, '마케터': 1566, '마케터입니': 1567, '마케팅': 1568, '마포구': 1569, '막': 1570, '막걸리': 1571, '막다': 1572, '막대': 1573, '막히다': 1574, '만': 1575, '만기': 1576, '만기일': 1577, '만나다': 1578, '만난': 1579, '만날': 1580, '만도': 1581, '만두': 1582, '만드나': 1583, '만들기': 1584, '만들다': 1585, '만들어지다': 1586, '만듭니': 1587, '만료': 1588, '만약': 1589, '만이': 1590, '만일': 1591, '만족': 1592, '만족스럽다': 1593, '만족하다': 1594, '만찬': 1595, '만큼': 1596, '만화': 1597, '만회': 1598, '많다': 1599, '많아지다': 1600, '많이': 1601, '말': 1602, '말다': 1603, '말레이시아': 1604, '말씀': 1605, '말씀드리다': 1606, '맙소사': 1607, '맛': 1608, '맛보다': 1609, '맛있다': 1610, '맛집': 1611, '맜있는': 1612, '망치다': 1613, '맞다': 1614, '맞서다': 1615, '맞추다': 1616, '맞춤': 1617, '맡기다': 1618, '맡다': 1619, '매': 1620, '매각': 1621, '매끄럽다': 1622, '매너': 1623, '매년': 1624, '매니저': 1625, '매다': 1626, '매달': 1627, '매도': 1628, '매력': 1629, '매료': 1630, '매매': 1631, '매물': 1632, '매번': 1633, '매수': 1634, '매우': 1635, '매월': 1636, '매일': 1637, '매입': 1638, '매장': 1639, '매점': 1640, '매주': 1641, '매진': 1642, '매체': 1643, '매출': 1644, '매치': 1645, '매크로': 1646, '매트': 1647, '매트리스': 1648, '매핑': 1649, '맥락': 1650, '맥주': 1651, '맨': 1652, '맬웨어': 1653, '맵': 1654, '맵다': 1655, '맵핑': 1656, '맺다': 1657, '머': 1658, '머드': 1659, '머리': 1660, '머무르다': 1661, '머물다': 1662, '머신': 1663, '먹기': 1664, '먹다': 1665, '먹방': 1666, '먹이': 1667, '먼저': 1668, '먼지': 1669, '멀다': 1670, '멀리': 1671, '멈추다': 1672, '멋지다': 1673, '멎다': 1674, '메가바이트': 1675, '메가비트': 1676, '메뉴': 1677, '메뉴판': 1678, '메모': 1679, '메시': 1680, '메시지': 1681, '메이커': 1682, '메이크업': 1683, '메인': 1684, '메일': 1685, '메커니즘': 1686, '메타': 1687, '멜론': 1688, '멤버': 1689, '멤버십': 1690, '며칠': 1691, '면': 1692, '면역': 1693, '면적': 1694, '면접': 1695, '면제': 1696, '면직물': 1697, '면책': 1698, '면허': 1699, '면허증': 1700, '명': 1701, '명과': 1702, '명당': 1703, '명령': 1704, '명백하다': 1705, '명분': 1706, '명상': 1707, '명세서': 1708, '명시': 1709, '명의': 1710, '명인': 1711, '명칭': 1712, '명품': 1713, '명함': 1714, '명확하다': 1715, '몇': 1716, '몇대': 1717, '몇몇': 1718, '모': 1719, '모국': 1720, '모국어': 1721, '모금': 1722, '모기': 1723, '모기지': 1724, '모기지론': 1725, '모니터': 1726, '모니터링': 1727, '모델': 1728, '모뎀': 1729, '모두': 1730, '모듈': 1731, '모드': 1732, '모든': 1733, '모레': 1734, '모르다': 1735, '모르타르': 1736, '모바일': 1737, '모범': 1738, '모색': 1739, '모서리': 1740, '모습': 1741, '모시': 1742, '모시다': 1743, '모양': 1744, '모욕': 1745, '모으다': 1746, '모의고사': 1747, '모이다': 1748, '모임': 1749, '모자': 1750, '모터': 1751, '모터보트': 1752, '모텔': 1753, '모티브': 1754, '모험': 1755, '모형': 1756, '목걸이': 1757, '목격': 1758, '목록': 1759, '목별': 1760, '목소리': 1761, '목요일': 1762, '목욕': 1763, '목욕탕': 1764, '목적': 1765, '목적지': 1766, '목표': 1767, '몫': 1768, '몬순': 1769, '몰다': 1770, '몰두하다': 1771, '몰이': 1772, '몸': 1773, '못': 1774, '묘목': 1775, '무': 1776, '무겁다': 1777, '무게': 1778, '무너지다': 1779, '무늬': 1780, '무대': 1781, '무드': 1782, '무례하다': 1783, '무료': 1784, '무리': 1785, '무사하다': 1786, '무선': 1787, '무섭다': 1788, '무슨': 1789, '무시': 1790, '무언가': 1791, '무엇': 1792, '무었': 1793, '무역': 1794, '무역수지': 1795, '무용': 1796, '무의미하다': 1797, '무작위': 1798, '무제한': 1799, '무중력': 1800, '무지': 1801, '묵': 1802, '묵고': 1803, '묵다': 1804, '묵시': 1805, '묶음': 1806, '문': 1807, '문득': 1808, '문법': 1809, '문서': 1810, '문신': 1811, '문의': 1812, '문의사항': 1813, '문자': 1814, '문제': 1815, '문제점': 1816, '문하': 1817, '문화': 1818, '묻다': 1819, '물': 1820, '물가상승률': 1821, '물건': 1822, '물고기': 1823, '물다': 1824, '물론': 1825, '물류': 1826, '물리': 1827, '물속': 1828, '물어보다': 1829, '물의': 1830, '물이': 1831, '물질': 1832, '물체': 1833, '물품': 1834, '뭐': 1835, '뭐라다': 1836, '뭔가': 1837, '뭘': 1838, '뮤직': 1839, '뮤추얼': 1840, '므': 1841, '미결': 1842, '미국': 1843, '미국법': 1844, '미끼': 1845, '미납': 1846, '미니': 1847, '미니멀리즘': 1848, '미니바': 1849, '미디어': 1850, '미디엄': 1851, '미래': 1852, '미리': 1853, '미만': 1854, '미세하다': 1855, '미수': 1856, '미슐랭': 1857, '미스': 1858, '미안하다': 1859, '미약': 1860, '미얀마': 1861, '미용': 1862, '미적': 1863, '미지': 1864, '미치나': 1865, '미치다': 1866, '미터': 1867, '미팅': 1868, '미혼': 1869, '믹서': 1870, '민간': 1871, '민물': 1872, '민원': 1873, '민팅': 1874, '믿다': 1875, '밀가루': 1876, '밀고': 1877, '밀다': 1878, '밀레': 1879, '밀리다': 1880, '밀크티숍': 1881, '밀회': 1882, '밉다': 1883, '및': 1884, '밑': 1885, '바': 1886, '바꾸다': 1887, '바뀌다': 1888, '바나나': 1889, '바늘': 1890, '바다': 1891, '바닥': 1892, '바닥나다': 1893, '바닷물': 1894, '바디': 1895, '바라다': 1896, '바라보다': 1897, '바라지': 1898, '바람': 1899, '바람직하다': 1900, '바램': 1901, '바로': 1902, '바르다': 1903, '바베이도스': 1904, '바베큐': 1905, '바비큐': 1906, '바쁘다': 1907, '바위': 1908, '바이': 1909, '바이러스': 1910, '바이오': 1911, '바이트': 1912, '바치다': 1913, '바퀴': 1914, '바탕': 1915, '박': 1916, '박람회': 1917, '박물관': 1918, '박사': 1919, '박스': 1920, '밖': 1921, '반': 1922, '반갑다': 1923, '반기다': 1924, '반납': 1925, '반년': 1926, '반대': 1927, '반대편': 1928, '반도체': 1929, '반드시': 1930, '반려': 1931, '반려견': 1932, '반려동물': 1933, '반면': 1934, '반영': 1935, '반응': 1936, '반찬': 1937, '반품': 1938, '받다': 1939, '받아들이다': 1940, '발견': 1941, '발급': 1942, '발끝': 1943, '발복': 1944, '발생': 1945, '발송': 1946, '발신': 1947, '발자국': 1948, '발전': 1949, '발주': 1950, '발표': 1951, '발행': 1952, '발효': 1953, '발휘': 1954, '밝혀내다': 1955, '밝혀지다': 1956, '밟다': 1957, '밤': 1958, '밤낮': 1959, '밤늦다': 1960, '밤새다': 1961, '밥': 1962, '밥그릇': 1963, '밧줄': 1964, '방': 1965, '방과': 1966, '방금': 1967, '방대하다': 1968, '방문': 1969, '방문객': 1970, '방법': 1971, '방사성': 1972, '방송': 1973, '방송국': 1974, '방수': 1975, '방식': 1976, '방안': 1977, '방어': 1978, '방이': 1979, '방적': 1980, '방적기': 1981, '방지': 1982, '방출': 1983, '방침': 1984, '방해': 1985, '방향': 1986, '방화벽': 1987, '밭': 1988, '배': 1989, '배경': 1990, '배경음악': 1991, '배너': 1992, '배다': 1993, '배달': 1994, '배당금': 1995, '배려': 1996, '배분': 1997, '배색': 1998, '배송': 1999, '배송비': 2000, '배송지': 2001, '배수': 2002, '배우': 2003, '배우다': 2004, '배우자': 2005, '배움': 2006, '배정': 2007, '배출': 2008, '배치': 2009, '배터리': 2010, '배포': 2011, '백': 2012, '백만': 2013, '백신': 2014, '백업': 2015, '백엔드': 2016, '밴드': 2017, '밸브': 2018, '뱅크': 2019, '뱅킹': 2020, '버': 2021, '버그': 2022, '버너': 2023, '버네': 2024, '버는': 2025, '버드': 2026, '버리다': 2027, '버블': 2028, '버스': 2029, '버스정류장': 2030, '버전': 2031, '버터플라이': 2032, '버튼': 2033, '번': 2034, '번가': 2035, '번거롭다': 2036, '번식': 2037, '번역': 2038, '번역가': 2039, '번의': 2040, '번지': 2041, '번째': 2042, '번창': 2043, '번호': 2044, '벌': 2045, '벌다': 2046, '벌써': 2047, '벌어지다': 2048, '벌이': 2049, '범': 2050, '범위': 2051, '범인': 2052, '범죄': 2053, '범죄자': 2054, '범주': 2055, '법': 2056, '법률': 2057, '법원': 2058, '법인': 2059, '법인세': 2060, '법적': 2061, '법정': 2062, '벗다': 2063, '벗어나다': 2064, '베네수엘라': 2065, '베다': 2066, '베벨': 2067, '베스트셀러': 2068, '베어링': 2069, '베이스': 2070, '베타': 2071, '베테': 2072, '베트남': 2073, '벡터': 2074, '벤딩': 2075, '벤처캐피털': 2076, '벤츄리': 2077, '벤치': 2078, '벨': 2079, '벨트': 2080, '벽': 2081, '벽난로': 2082, '벽지': 2083, '변경': 2084, '변동': 2085, '변동성': 2086, '변명': 2087, '변속기': 2088, '변수': 2089, '변하다': 2090, '변호사': 2091, '변화': 2092, '변환': 2093, '별': 2094, '별관': 2095, '별도': 2096, '별로': 2097, '별장': 2098, '병': 2099, '병동': 2100, '병원': 2101, '병합': 2102, '보': 2103, '보건': 2104, '보고': 2105, '보고서': 2106, '보관': 2107, '보기': 2108, '보내다': 2109, '보내오다': 2110, '보다': 2111, '보도': 2112, '보드': 2113, '보람': 2114, '보류': 2115, '보물': 2116, '보살피다': 2117, '보상': 2118, '보수': 2119, '보시': 2120, '보쌈': 2121, '보안': 2122, '보여주다': 2123, '보유': 2124, '보이': 2125, '보이다': 2126, '보이지': 2127, '보장': 2128, '보조': 2129, '보존': 2130, '보증': 2131, '보증금': 2132, '보증인': 2133, '보지': 2134, '보철물': 2135, '보청기': 2136, '보통': 2137, '보트': 2138, '보행': 2139, '보험': 2140, '보험금': 2141, '보험료': 2142, '보험사': 2143, '보헤미안': 2144, '보호': 2145, '보호복': 2146, '복': 2147, '복구': 2148, '복사기': 2149, '복원': 2150, '복잡하다': 2151, '복장': 2152, '복판': 2153, '복호화': 2154, '볶음': 2155, '볶음밥': 2156, '본': 2157, '본드': 2158, '본론': 2159, '본부': 2160, '본사': 2161, '본인': 2162, '본체': 2163, '볼': 2164, '볼륨': 2165, '볼일': 2166, '봄판': 2167, '봇': 2168, '봉쇄': 2169, '뵈다': 2170, '뵙다': 2171, '부': 2172, '부과': 2173, '부금': 2174, '부끄럽다': 2175, '부다': 2176, '부담': 2177, '부당하다': 2178, '부대': 2179, '부동산': 2180, '부두': 2181, '부드럽다': 2182, '부딪치다': 2183, '부딪히다': 2184, '부로': 2185, '부록': 2186, '부르다': 2187, '부모': 2188, '부모님': 2189, '부문': 2190, '부분': 2191, '부산': 2192, '부상': 2193, '부서': 2194, '부속품': 2195, '부수': 2196, '부양가족': 2197, '부업': 2198, '부엌': 2199, '부여': 2200, '부위': 2201, '부유하다': 2202, '부응': 2203, '부의': 2204, '부인': 2205, '부자': 2206, '부작용': 2207, '부적': 2208, '부정': 2209, '부족': 2210, '부족하다': 2211, '부지': 2212, '부착': 2213, '부채': 2214, '부처': 2215, '부츠': 2216, '부침개': 2217, '부탁': 2218, '부탁드리다': 2219, '부터': 2220, '부팅': 2221, '부품': 2222, '부합': 2223, '부호화': 2224, '북': 2225, '북경어': 2226, '북미': 2227, '북부': 2228, '분': 2229, '분과': 2230, '분광': 2231, '분기': 2232, '분기점': 2233, '분당': 2234, '분들': 2235, '분류': 2236, '분리': 2237, '분명': 2238, '분명하다': 2239, '분사': 2240, '분산': 2241, '분석': 2242, '분쇄기': 2243, '분식점': 2244, '분실': 2245, '분야': 2246, '분위기': 2247, '분쟁': 2248, '분젠': 2249, '분지': 2250, '분포': 2251, '분할': 2252, '분해': 2253, '불': 2254, '불가능': 2255, '불가능하다': 2256, '불고기': 2257, '불과': 2258, '불과하다': 2259, '불교': 2260, '불구': 2261, '불규칙하다': 2262, '불금': 2263, '불다': 2264, '불당': 2265, '불도저': 2266, '불량': 2267, '불량품': 2268, '불러일으키다': 2269, '불리다': 2270, '불만': 2271, '불문': 2272, '불빛': 2273, '불안정하다': 2274, '불안하다': 2275, '불쾌하다': 2276, '불편': 2277, '불편하다': 2278, '불평': 2279, '불평등하다': 2280, '불필요하다': 2281, '불행하다': 2282, '붉은빛': 2283, '붐': 2284, '붕괴': 2285, '붕어빵': 2286, '붙다': 2287, '붙박다': 2288, '붙이다': 2289, '뷔페': 2290, '뷸': 2291, '브라우저': 2292, '브라우징': 2293, '브라질': 2294, '브랜드': 2295, '브랜딩': 2296, '브레이커': 2297, '브레이크': 2298, '브레인스토밍': 2299, '브로': 2300, '브로드밴드': 2301, '브로셔': 2302, '브로커': 2303, '브루나이': 2304, '브이': 2305, '블랙': 2306, '블레이드': 2307, '블렌드': 2308, '블렌딩': 2309, '블로그': 2310, '블록': 2311, '블루': 2312, '블루칩': 2313, '블룸': 2314, '비': 2315, '비간': 2316, '비건': 2317, '비계': 2318, '비공개': 2319, '비공식': 2320, '비교': 2321, '비누': 2322, '비다': 2323, '비도': 2324, '비디오': 2325, '비록': 2326, '비롯': 2327, '비료': 2328, '비밀': 2329, '비밀번호': 2330, '비빔냉면': 2331, '비빔밥': 2332, '비상': 2333, '비서': 2334, '비스킷': 2335, '비스트': 2336, '비슷하다': 2337, '비실': 2338, '비싸다': 2339, '비어': 2340, '비영리': 2341, '비용': 2342, '비우다': 2343, '비율': 2344, '비자': 2345, '비주': 2346, '비즈니스': 2347, '비축': 2348, '비커': 2349, '비트': 2350, '비트코인': 2351, '비평가': 2352, '비프': 2353, '비행': 2354, '비행기': 2355, '빅데이터': 2356, '빈': 2357, '빈방': 2358, '빈번': 2359, '빈손': 2360, '빈티': 2361, '빌드되': 2362, '빌딩': 2363, '빌라': 2364, '빌리다': 2365, '빌보드': 2366, '빌트': 2367, '빔': 2368, '빗': 2369, '빙': 2370, '빚': 2371, '빠듯': 2372, '빠듯합니': 2373, '빠르다': 2374, '빠지다': 2375, '빡빡': 2376, '빨간색': 2377, '빨갛다': 2378, '빨르다': 2379, '빨리': 2380, '빵': 2381, '빵집': 2382, '빼다': 2383, '뽑다': 2384, '뿌리': 2385, '뿐': 2386, '뿐이다': 2387, '삐었': 2388, '사': 2389, '사건': 2390, '사격': 2391, '사계절': 2392, '사고': 2393, '사과': 2394, '사기': 2395, '사기꾼': 2396, '사다': 2397, '사람': 2398, '사람과': 2399, '사랑': 2400, '사려': 2401, '사례': 2402, '사르다': 2403, '사면': 2404, '사명': 2405, '사모펀드': 2406, '사무': 2407, '사무기기': 2408, '사무소': 2409, '사무실': 2410, '사물': 2411, '사물인터넷': 2412, '사본': 2413, '사생활': 2414, '사서': 2415, '사소하다': 2416, '사시미': 2417, '사실': 2418, '사안': 2419, '사양': 2420, '사업': 2421, '사업가': 2422, '사업자': 2423, '사오다': 2424, '사옥': 2425, '사용': 2426, '사용성': 2427, '사용자': 2428, '사우나': 2429, '사운드': 2430, '사운드트랙': 2431, '사원': 2432, '사유': 2433, '사은': 2434, '사의': 2435, '사이': 2436, '사이드': 2437, '사이버': 2438, '사이일': 2439, '사이즈': 2440, '사이트': 2441, '사인': 2442, '사인회': 2443, '사장': 2444, '사전': 2445, '사주다': 2446, '사지': 2447, '사진': 2448, '사진사': 2449, '사진작가': 2450, '사찰': 2451, '사촌': 2452, '사출': 2453, '사탕': 2454, '사태': 2455, '사하다': 2456, '사항': 2457, '사회': 2458, '삭제': 2459, '산': 2460, '산나물': 2461, '산업': 2462, '산이': 2463, '산출': 2464, '살': 2465, '살균': 2466, '살기': 2467, '살다': 2468, '살이': 2469, '살펴보다': 2470, '삶': 2471, '삶다': 2472, '삼': 2473, '삼겹살': 2474, '삼고': 2475, '삽': 2476, '삽화가': 2477, '상': 2478, '상거래': 2479, '상관': 2480, '상관없다': 2481, '상급': 2482, '상기': 2483, '상단': 2484, '상담': 2485, '상당': 2486, '상당하다': 2487, '상대': 2488, '상대로': 2489, '상대방': 2490, '상무': 2491, '상사': 2492, '상상': 2493, '상상력': 2494, '상세': 2495, '상속': 2496, '상승': 2497, '상업': 2498, '상위': 2499, '상응': 2500, '상의': 2501, '상이': 2502, '상인': 2503, '상자': 2504, '상장': 2505, '상점': 2506, '상주': 2507, '상징': 2508, '상추': 2509, '상치': 2510, '상태': 2511, '상표': 2512, '상품': 2513, '상하': 2514, '상하이': 2515, '상호': 2516, '상환': 2517, '상황': 2518, '새': 2519, '새롭다': 2520, '새벽': 2521, '새우': 2522, '새틴': 2523, '새해': 2524, '색': 2525, '색상': 2526, '색인': 2527, '색조': 2528, '샌드위치': 2529, '샌프란시스코': 2530, '샐러드': 2531, '샘플': 2532, '샘플러': 2533, '샘플링': 2534, '생': 2535, '생각': 2536, '생각나다': 2537, '생강': 2538, '생기다': 2539, '생기지': 2540, '생동감': 2541, '생명': 2542, '생명보험': 2543, '생물': 2544, '생방송': 2545, '생산': 2546, '생산량': 2547, '생생하다': 2548, '생선': 2549, '생선전': 2550, '생소하다': 2551, '생신': 2552, '생일': 2553, '생체': 2554, '생활': 2555, '생활용품': 2556, '샤워': 2557, '샤워실': 2558, '샤프트': 2559, '샴페인': 2560, '샴푸': 2561, '샵': 2562, '서': 2563, '서기': 2564, '서나': 2565, '서다': 2566, '서도': 2567, '서두르다': 2568, '서든': 2569, '서라운드': 2570, '서랍': 2571, '서로': 2572, '서류': 2573, '서면': 2574, '서명': 2575, '서버': 2576, '서버룸': 2577, '서브': 2578, '서비스': 2579, '서빙': 2580, '서울': 2581, '서재': 2582, '서점': 2583, '서지': 2584, '서쪽': 2585, '석가모니': 2586, '섞다': 2587, '선': 2588, '선구자': 2589, '선명하다': 2590, '선물': 2591, '선물거래': 2592, '선박': 2593, '선보이다': 2594, '선불': 2595, '선생님': 2596, '선적': 2597, '선정': 2598, '선착순': 2599, '선체': 2600, '선택': 2601, '선호': 2602, '설': 2603, '설계': 2604, '설득': 2605, '설렁탕': 2606, '설레다': 2607, '설립': 2608, '설명': 2609, '설문': 2610, '설문조사': 2611, '설문지': 2612, '설비': 2613, '설정': 2614, '설치': 2615, '설치다': 2616, '설탕': 2617, '섬광': 2618, '섬유': 2619, '섬유질': 2620, '성': 2621, '성가시다': 2622, '성격': 2623, '성공': 2624, '성공하다': 2625, '성과': 2626, '성능': 2627, '성도': 2628, '성분': 2629, '성사': 2630, '성실하다': 2631, '성은': 2632, '성인': 2633, '성장': 2634, '성장하다': 2635, '성전': 2636, '성취': 2637, '성하다': 2638, '성함': 2639, '성형': 2640, '세': 2641, '세계': 2642, '세관': 2643, '세균': 2644, '세금': 2645, '세기': 2646, '세다': 2647, '세대': 2648, '세련': 2649, '세로': 2650, '세면대': 2651, '세미나': 2652, '세법': 2653, '세부': 2654, '세상': 2655, '세션': 2656, '세안': 2657, '세액': 2658, '세요': 2659, '세우다': 2660, '세율': 2661, '세척': 2662, '세척제': 2663, '세탁': 2664, '세탁기': 2665, '세탁실': 2666, '세트': 2667, '세팅': 2668, '세포': 2669, '센서': 2670, '센터': 2671, '센트': 2672, '셀러': 2673, '셀러리': 2674, '셋': 2675, '셋째': 2676, '셔블': 2677, '션': 2678, '셨었': 2679, '셰어': 2680, '소': 2681, '소갈비': 2682, '소개': 2683, '소개팅': 2684, '소고기': 2685, '소금': 2686, '소녀': 2687, '소득': 2688, '소리': 2689, '소리치다': 2690, '소매': 2691, '소매업자': 2692, '소모': 2693, '소문': 2694, '소비': 2695, '소비자': 2696, '소설': 2697, '소셜': 2698, '소셜미디어': 2699, '소속': 2700, '소송': 2701, '소스': 2702, '소시지': 2703, '소식': 2704, '소액': 2705, '소요': 2706, '소유': 2707, '소유권': 2708, '소유자': 2709, '소의': 2710, '소일': 2711, '소재': 2712, '소주': 2713, '소중하다': 2714, '소지': 2715, '소질': 2716, '소켓': 2717, '소통': 2718, '소파': 2719, '소포': 2720, '소풍': 2721, '소프': 2722, '소프트': 2723, '소프트웨어': 2724, '소형': 2725, '소형견': 2726, '속': 2727, '속달': 2728, '속도': 2729, '속물': 2730, '손': 2731, '손님': 2732, '손상': 2733, '손쉽다': 2734, '손실': 2735, '손익': 2736, '손익계산서': 2737, '손주': 2738, '손해': 2739, '손해배상': 2740, '솔루션': 2741, '솔직하다': 2742, '송금': 2743, '송료': 2744, '송신': 2745, '송장': 2746, '쇄신': 2747, '쇠고기': 2748, '쇼': 2749, '쇼룸': 2750, '쇼핑': 2751, '수': 2752, '수가': 2753, '수강': 2754, '수건': 2755, '수고': 2756, '수년': 2757, '수다': 2758, '수단': 2759, '수도': 2760, '수도꼭지': 2761, '수도원': 2762, '수동': 2763, '수락': 2764, '수량': 2765, '수련': 2766, '수령': 2767, '수로': 2768, '수료': 2769, '수료증': 2770, '수리': 2771, '수많다': 2772, '수면': 2773, '수박': 2774, '수반': 2775, '수백만': 2776, '수비드': 2777, '수석': 2778, '수선': 2779, '수속': 2780, '수수료': 2781, '수술': 2782, '수시로': 2783, '수신기': 2784, '수십': 2785, '수압': 2786, '수업': 2787, '수에즈': 2788, '수영': 2789, '수영장': 2790, '수요': 2791, '수요일': 2792, '수용': 2793, '수익': 2794, '수익금': 2795, '수익률': 2796, '수입': 2797, '수입품': 2798, '수정': 2799, '수정과': 2800, '수제': 2801, '수준': 2802, '수집': 2803, '수천': 2804, '수출': 2805, '수출입': 2806, '수평': 2807, '수표': 2808, '수표로': 2809, '수프': 2810, '수학': 2811, '수행': 2812, '수혜자': 2813, '수확': 2814, '숙련': 2815, '숙박': 2816, '숙박시설': 2817, '숙박업소': 2818, '숙성': 2819, '숙소': 2820, '숙이다': 2821, '숙주': 2822, '숙지': 2823, '순': 2824, '순간': 2825, '순위': 2826, '순이익': 2827, '순전하다': 2828, '숟가락': 2829, '술': 2830, '술집': 2831, '숨': 2832, '숨기다': 2833, '숫자': 2834, '숯불': 2835, '쉬다': 2836, '쉽다': 2837, '슈': 2838, '슈트': 2839, '슈팅': 2840, '슈퍼마켓': 2841, '스': 2842, '스낵': 2843, '스노클링': 2844, '스니커즈': 2845, '스님': 2846, '스럽다': 2847, '스레드': 2848, '스릴러': 2849, '스마트': 2850, '스마트폰': 2851, '스마트홈': 2852, '스스로': 2853, '스위트': 2854, '스위트룸': 2855, '스카이라인': 2856, '스캐너': 2857, '스캔': 2858, '스케': 2859, '스케줄': 2860, '스케줄러': 2861, '스케치': 2862, '스쿠터': 2863, '스크럽': 2864, '스크류': 2865, '스크리닝': 2866, '스크린': 2867, '스크린샷': 2868, '스키': 2869, '스킨': 2870, '스킬': 2871, '스타': 2872, '스타일': 2873, '스타트업': 2874, '스테이': 2875, '스테이션': 2876, '스테이크': 2877, '스테인레스': 2878, '스토리': 2879, '스토브': 2880, '스토어': 2881, '스토퍼': 2882, '스톤': 2883, '스튜디오': 2884, '스트레스': 2885, '스트레이트': 2886, '스트로': 2887, '스트리밍': 2888, '스트림': 2889, '스티': 2890, '스티커': 2891, '스틸': 2892, '스파': 2893, '스파게티': 2894, '스파이럴': 2895, '스파이웨어': 2896, '스파크': 2897, '스팸': 2898, '스페셜': 2899, '스페인': 2900, '스펙트럼': 2901, '스포츠': 2902, '스프': 2903, '스프레드': 2904, '스프레이': 2905, '스피커': 2906, '스피킹': 2907, '슬라이드': 2908, '슬롯': 2909, '슬리퍼': 2910, '슬프다': 2911, '습': 2912, '습니': 2913, '승려': 2914, '승인': 2915, '시': 2916, '시각': 2917, '시각장애인': 2918, '시간': 2919, '시간대': 2920, '시계': 2921, '시골': 2922, '시급하다': 2923, '시기': 2924, '시끄럽다': 2925, '시나리오': 2926, '시내': 2927, '시대': 2928, '시도': 2929, '시리즈': 2930, '시마': 2931, '시민권': 2932, '시설': 2933, '시세': 2934, '시스템': 2935, '시연': 2936, '시오': 2937, '시일': 2938, '시작': 2939, '시장': 2940, '시장조사': 2941, '시저': 2942, '시절': 2943, '시점': 2944, '시즌': 2945, '시차': 2946, '시청': 2947, '시청각': 2948, '시청자': 2949, '시카고': 2950, '시큐리티': 2951, '시키다': 2952, '시티': 2953, '시행': 2954, '시험': 2955, '시험관': 2956, '식': 2957, '식기': 2958, '식단': 2959, '식당': 2960, '식물': 2961, '식사': 2962, '식이': 2963, '식초': 2964, '식탁': 2965, '식품': 2966, '신': 2967, '신간': 2968, '신경': 2969, '신고': 2970, '신곡': 2971, '신규': 2972, '신나요': 2973, '신다': 2974, '신디케이트': 2975, '신랑': 2976, '신뢰': 2977, '신문': 2978, '신발': 2979, '신부': 2980, '신분': 2981, '신분증': 2982, '신비롭다': 2983, '신사': 2984, '신생': 2985, '신선하다': 2986, '신세대': 2987, '신속하다': 2988, '신용': 2989, '신용등급': 2990, '신용장': 2991, '신용카드': 2992, '신원': 2993, '신입': 2994, '신입사원': 2995, '신입생': 2996, '신제품': 2997, '신종교': 2998, '신중': 2999, '신지': 3000, '신청': 3001, '신청서': 3002, '신체': 3003, '신탁': 3004, '신호': 3005, '신흥': 3006, '싣다': 3007, '실': 3008, '실내': 3009, '실력': 3010, '실례': 3011, '실로': 3012, '실린더': 3013, '실망': 3014, '실망하다': 3015, '실버': 3016, '실사': 3017, '실생활': 3018, '실수': 3019, '실시': 3020, '실시간': 3021, '실업자': 3022, '실외': 3023, '실용': 3024, '실적': 3025, '실제': 3026, '실질': 3027, '실천': 3028, '실크': 3029, '실패': 3030, '실패하다': 3031, '실행': 3032, '실험': 3033, '실험실': 3034, '실현': 3035, '싫다': 3036, '싫어하다': 3037, '심': 3038, '심각하다': 3039, '심기': 3040, '심란하다': 3041, '심박': 3042, '심장': 3043, '심지어': 3044, '심하다': 3045, '십': 3046, '십대': 3047, '싱가포르': 3048, '싱가폴': 3049, '싱글': 3050, '싱글룸': 3051, '싶다': 3052, '싸다': 3053, '싸우다': 3054, '쌀': 3055, '쌈': 3056, '쌈밥': 3057, '쌈장': 3058, '쌍': 3059, '쌓다': 3060, '쌓이다': 3061, '써다': 3062, '쓰다': 3063, '쓰레기통': 3064, '쓰이다': 3065, '쓸다': 3066, '쓸모': 3067, '씨': 3068, '씩': 3069, '씹다': 3070, '아': 3071, '아기': 3072, '아깝다': 3073, '아끼다': 3074, '아나운서': 3075, '아내': 3076, '아뇨': 3077, '아늑하다': 3078, '아니다': 3079, '아동': 3080, '아들': 3081, '아래': 3082, '아로마': 3083, '아르헨티나': 3084, '아름답다': 3085, '아마': 3086, '아마도': 3087, '아무': 3088, '아무나': 3089, '아무렇다': 3090, '아무리': 3091, '아무튼': 3092, '아바타': 3093, '아빠': 3094, '아쉽다': 3095, '아스파라거스': 3096, '아스팔트': 3097, '아시아': 3098, '아웃소싱': 3099, '아이': 3100, '아이덴티티': 3101, '아이돌': 3102, '아이디': 3103, '아이디어': 3104, '아이스크림': 3105, '아이콘': 3106, '아이템': 3107, '아주': 3108, '아직': 3109, '아직도': 3110, '아침': 3111, '아침식사': 3112, '아키텍처': 3113, '아트': 3114, '아트워크': 3115, '아트웍': 3116, '아티스트': 3117, '아파트': 3118, '아프다': 3119, '아프리카': 3120, '악': 3121, '악기': 3122, '악성코드': 3123, '악세사리': 3124, '악수': 3125, '악행': 3126, '악화': 3127, '안': 3128, '안건': 3129, '안나': 3130, '안내': 3131, '안내받다': 3132, '안녕': 3133, '안녕하다': 3134, '안다': 3135, '안되다': 3136, '안드로이드': 3137, '안방': 3138, '안성맞춤': 3139, '안심': 3140, '안이': 3141, '안전': 3142, '안전성': 3143, '안전하다': 3144, '안정': 3145, '안좋다': 3146, '안타깝다': 3147, '안테나': 3148, '안티바이러스': 3149, '안팎': 3150, '앉다': 3151, '않다': 3152, '알': 3153, '알고리즘': 3154, '알다': 3155, '알람': 3156, '알레르기': 3157, '알려지다': 3158, '알루미늄': 3159, '알리다': 3160, '알림': 3161, '알아내다': 3162, '알아듣다': 3163, '알아보다': 3164, '알아차리다': 3165, '알아채다': 3166, '알약': 3167, '알칼리성': 3168, '암': 3169, '암석': 3170, '암스테르담': 3171, '암호': 3172, '압니': 3173, '압도': 3174, '압력': 3175, '압축': 3176, '압축기': 3177, '압출기': 3178, '았습니': 3179, '앙': 3180, '앞': 3181, '앞두다': 3182, '앞서': 3183, '앞치마': 3184, '애': 3185, '애니메이션': 3186, '애니메이터': 3187, '애비뉴': 3188, '애완동물': 3189, '애프터': 3190, '애플리케이션': 3191, '애피타이저': 3192, '액': 3193, '액세서리': 3194, '액세스': 3195, '액션': 3196, '액체': 3197, '앤': 3198, '앨범': 3199, '앰버': 3200, '앰뷸런스': 3201, '앰프': 3202, '앱': 3203, '앵글': 3204, '앵커': 3205, '야간': 3206, '야구장': 3207, '야금': 3208, '야단법석': 3209, '야생': 3210, '야식': 3211, '야영지': 3212, '야외': 3213, '야유회': 3214, '야채': 3215, '야합': 3216, '약': 3217, '약간': 3218, '약관': 3219, '약물': 3220, '약속': 3221, '약자': 3222, '약점': 3223, '약정': 3224, '약하다': 3225, '얇다': 3226, '양': 3227, '양념': 3228, '양념장': 3229, '양도': 3230, '양립': 3231, '양말': 3232, '양사': 3233, '양식': 3234, '양자': 3235, '양초': 3236, '양해': 3237, '양호': 3238, '얘기': 3239, '어': 3240, '어긋나다': 3241, '어기': 3242, '어느': 3243, '어댑터': 3244, '어디': 3245, '어디서': 3246, '어떠하다': 3247, '어떤': 3248, '어떻': 3249, '어떻다': 3250, '어려움': 3251, '어렵다': 3252, '어르신': 3253, '어른': 3254, '어리다': 3255, '어린이': 3256, '어머니': 3257, '어메니티': 3258, '어묵': 3259, '어보': 3260, '어서': 3261, '어우러지다': 3262, '어울리다': 3263, '어제': 3264, '어젯밤': 3265, '어조': 3266, '어쨌든': 3267, '어쩌': 3268, '어쩐': 3269, '어쩔': 3270, '어플': 3271, '어필': 3272, '어휘': 3273, '언': 3274, '언급': 3275, '언니': 3276, '언덕': 3277, '언론': 3278, '언박싱': 3279, '언어': 3280, '언제': 3281, '언제나': 3282, '언젠가': 3283, '얻다': 3284, '얼': 3285, '얼굴': 3286, '얼리다': 3287, '얼마': 3288, '얼마나': 3289, '엄격하다': 3290, '엄선': 3291, '엄수': 3292, '엄청': 3293, '엄청나다': 3294, '업계': 3295, '업그레이드': 3296, '업데이트': 3297, '업로드': 3298, '업무': 3299, '업자': 3300, '업주': 3301, '업체': 3302, '없다': 3303, '없애다': 3304, '없이': 3305, '엇갈리다': 3306, '엉': 3307, '에너지': 3308, '에러': 3309, '에멀션': 3310, '에멀젼': 3311, '에메랄드': 3312, '에밀리': 3313, '에센셜': 3314, '에어': 3315, '에어컨': 3316, '에이전시': 3317, '에이전트': 3318, '에코': 3319, '에티켓': 3320, '에피소드': 3321, '엑세스': 3322, '엑스레이': 3323, '엑스포': 3324, '엔': 3325, '엔드': 3326, '엔젤': 3327, '엔지니어': 3328, '엔지니어링': 3329, '엔진': 3330, '엔터테인먼트': 3331, '엠보싱': 3332, '여': 3333, '여겨지다': 3334, '여권': 3335, '여기': 3336, '여기다': 3337, '여느': 3338, '여드름': 3339, '여러': 3340, '여러분': 3341, '여름': 3342, '여보': 3343, '여보세요': 3344, '여부': 3345, '여분': 3346, '여사': 3347, '여성': 3348, '여야': 3349, '여유': 3350, '여자': 3351, '여전하다': 3352, '여지': 3353, '여쭈다': 3354, '여행': 3355, '여행사': 3356, '여행자': 3357, '역': 3358, '역사': 3359, '역서': 3360, '역시': 3361, '역외': 3362, '역할': 3363, '연': 3364, '연간': 3365, '연결': 3366, '연결하다': 3367, '연관': 3368, '연구': 3369, '연구개발': 3370, '연구소': 3371, '연기': 3372, '연다': 3373, '연달': 3374, '연동': 3375, '연락': 3376, '연락처': 3377, '연령': 3378, '연례': 3379, '연료': 3380, '연마': 3381, '연말': 3382, '연민': 3383, '연방': 3384, '연봉': 3385, '연비': 3386, '연사': 3387, '연수': 3388, '연장': 3389, '연중': 3390, '연체': 3391, '연회': 3392, '연휴': 3393, '열': 3394, '열광': 3395, '열기': 3396, '열다': 3397, '열람': 3398, '열리다': 3399, '열쇠': 3400, '열심히': 3401, '열악하다': 3402, '열정': 3403, '열차': 3404, '염두': 3405, '염려': 3406, '염색': 3407, '엽': 3408, '영': 3409, '영감': 3410, '영광': 3411, '영구': 3412, '영국': 3413, '영리하다': 3414, '영상': 3415, '영상통화': 3416, '영수증': 3417, '영양': 3418, '영어': 3419, '영업': 3420, '영업일': 3421, '영역': 3422, '영원하다': 3423, '영진': 3424, '영향': 3425, '영향력': 3426, '영화': 3427, '옆': 3428, '예': 3429, '예견': 3430, '예고편': 3431, '예금': 3432, '예방': 3433, '예배': 3434, '예쁘다': 3435, '예산': 3436, '예산안': 3437, '예상': 3438, '예술': 3439, '예술가': 3440, '예약': 3441, '예의': 3442, '예입': 3443, '예전': 3444, '예절': 3445, '예정': 3446, '예정일': 3447, '예측': 3448, '옐로나이프': 3449, '오': 3450, '오늘': 3451, '오늘날': 3452, '오늘이': 3453, '오다': 3454, '오디오': 3455, '오락가락': 3456, '오래': 3457, '오래되다': 3458, '오랜': 3459, '오랫동안': 3460, '오렌지': 3461, '오류': 3462, '오르다': 3463, '오른': 3464, '오른쪽': 3465, '오리엔테이션': 3466, '오버': 3467, '오븐': 3468, '오스': 3469, '오시': 3470, '오신': 3471, '오용': 3472, '오인': 3473, '오일': 3474, '오일도': 3475, '오전': 3476, '오지': 3477, '오직': 3478, '오징어': 3479, '오토': 3480, '오프': 3481, '오프라인': 3482, '오픈': 3483, '오피스': 3484, '오하이오주': 3485, '오해': 3486, '오후': 3487, '오히려': 3488, '옥': 3489, '옥상': 3490, '옥집': 3491, '온': 3492, '온도': 3493, '온돌': 3494, '온라인': 3495, '온라인과': 3496, '온스': 3497, '온천': 3498, '온타리오': 3499, '올': 3500, '올라가다': 3501, '올려놓다': 3502, '올려주다': 3503, '올리다': 3504, '올바르다': 3505, '올해': 3506, '옮기다': 3507, '옳다': 3508, '옴': 3509, '옵니다': 3510, '옵션': 3511, '옷': 3512, '옷장': 3513, '와우': 3514, '와이어': 3515, '와이파이': 3516, '와인': 3517, '와트': 3518, '완납': 3519, '완료': 3520, '완벽하다': 3521, '완비': 3522, '완성': 3523, '완전': 3524, '완전하다': 3525, '완화': 3526, '왓츠앱': 3527, '왕복': 3528, '왕새우': 3529, '왜': 3530, '왜냐면': 3531, '왜냐하면': 3532, '외': 3533, '외관': 3534, '외국': 3535, '외국인': 3536, '외다': 3537, '외부': 3538, '외주': 3539, '외출': 3540, '외향': 3541, '외화': 3542, '외환은행': 3543, '왼쪽': 3544, '요': 3545, '요건': 3546, '요격': 3547, '요구': 3548, '요구사항': 3549, '요금': 3550, '요리': 3551, '요리법': 3552, '요리사': 3553, '요법': 3554, '요소': 3555, '요약': 3556, '요원': 3557, '요인': 3558, '요점': 3559, '요즘': 3560, '요청': 3561, '요크셔': 3562, '요트': 3563, '욕구': 3564, '욕실': 3565, '욕조': 3566, '용': 3567, '용건': 3568, '용납': 3569, '용다': 3570, '용도': 3571, '용량': 3572, '용무': 3573, '용법': 3574, '용어': 3575, '용의': 3576, '용이': 3577, '용이하다': 3578, '용인': 3579, '용판': 3580, '용품': 3581, '우': 3582, '우드': 3583, '우려': 3584, '우리': 3585, '우리나라': 3586, '우리은행': 3587, '우린': 3588, '우산': 3589, '우선': 3590, '우수하다': 3591, '우승자': 3592, '우아하다': 3593, '우여곡절': 3594, '우연히': 3595, '우와': 3596, '우위': 3597, '우유': 3598, '우주': 3599, '우크라이나': 3600, '우편': 3601, '우편물': 3602, '운': 3603, '운동': 3604, '운반': 3605, '운송': 3606, '운송업': 3607, '운영': 3608, '운영자': 3609, '운영체제': 3610, '운용': 3611, '운전': 3612, '운전기사': 3613, '운전자': 3614, '운하': 3615, '울리다': 3616, '울산': 3617, '움직이다': 3618, '움직임': 3619, '웃음': 3620, '웅장': 3621, '워': 3622, '워드': 3623, '워치': 3624, '워크샵': 3625, '워크숍': 3626, '워터': 3627, '원': 3628, '원격': 3629, '원고': 3630, '원금': 3631, '원래': 3632, '원리': 3633, '원본': 3634, '원사': 3635, '원스톱': 3636, '원심': 3637, '원심분리기': 3638, '원인': 3639, '원장': 3640, '원점': 3641, '원주공항': 3642, '원칙': 3643, '원통': 3644, '원하다': 3645, '원화': 3646, '원화도': 3647, '원활하다': 3648, '월': 3649, '월간': 3650, '월급': 3651, '월말': 3652, '월세': 3653, '월요일': 3654, '웜': 3655, '웠습': 3656, '웨딩': 3657, '웨비': 3658, '웨어': 3659, '웨이터': 3660, '웨이퍼': 3661, '웹': 3662, '웹디자인': 3663, '웹사이트': 3664, '웹캐스트': 3665, '웹페이지': 3666, '위': 3667, '위로': 3668, '위반': 3669, '위생': 3670, '위성': 3671, '위안': 3672, '위치': 3673, '위탁': 3674, '위태롭': 3675, '위태롭기': 3676, '위함': 3677, '위해': 3678, '위험': 3679, '위험하다': 3680, '위협': 3681, '윗': 3682, '윗사람': 3683, '유가': 3684, '유감': 3685, '유감스럽게': 3686, '유기': 3687, '유기농': 3688, '유닛': 3689, '유동': 3690, '유럽': 3691, '유로': 3692, '유료': 3693, '유르트': 3694, '유리하다': 3695, '유망': 3696, '유머': 3697, '유명': 3698, '유명인사': 3699, '유명하다': 3700, '유사하다': 3701, '유산': 3702, '유선': 3703, '유아': 3704, '유압': 3705, '유연성': 3706, '유연하다': 3707, '유예': 3708, '유용하다': 3709, '유의': 3710, '유익하다': 3711, '유인': 3712, '유인물': 3713, '유일하다': 3714, '유전': 3715, '유제품': 3716, '유지': 3717, '유치하다': 3718, '유통': 3719, '유통업': 3720, '유통업체': 3721, '유틸리티': 3722, '유학': 3723, '유학생': 3724, '유해하다': 3725, '유행': 3726, '유행병': 3727, '유형': 3728, '유효': 3729, '유효하다': 3730, '육류': 3731, '육성': 3732, '육수': 3733, '육지': 3734, '육회': 3735, '윤리': 3736, '율': 3737, '율기': 3738, '융자': 3739, '융통성': 3740, '은': 3741, '은은하다': 3742, '은퇴': 3743, '은행': 3744, '은행원': 3745, '을': 3746, '음': 3747, '음료': 3748, '음료수': 3749, '음반': 3750, '음반사': 3751, '음성': 3752, '음식': 3753, '음식점': 3754, '음악': 3755, '음원': 3756, '음질': 3757, '음향': 3758, '음향효과': 3759, '응': 3760, '응급': 3761, '응답': 3762, '응대': 3763, '응용': 3764, '응원': 3765, '의': 3766, '의견': 3767, '의논': 3768, '의도': 3769, '의뢰': 3770, '의료': 3771, '의류': 3772, '의무': 3773, '의문': 3774, '의미': 3775, '의사': 3776, '의사소통': 3777, '의상': 3778, '의식': 3779, '의심': 3780, '의심스럽다': 3781, '의약품': 3782, '의원': 3783, '의자': 3784, '의존': 3785, '의하다': 3786, '의향': 3787, '의회': 3788, '이': 3789, '이겠다': 3790, '이기': 3791, '이끌다': 3792, '이내': 3793, '이다': 3794, '이대로': 3795, '이동': 3796, '이동식': 3797, '이동해': 3798, '이드': 3799, '이득': 3800, '이따': 3801, '이러하다': 3802, '이런': 3803, '이렇게': 3804, '이렇다': 3805, '이력서': 3806, '이로': 3807, '이루어지다': 3808, '이뤄지다': 3809, '이르다': 3810, '이름': 3811, '이만': 3812, '이메일': 3813, '이면': 3814, '이목': 3815, '이미': 3816, '이미지': 3817, '이민자': 3818, '이번': 3819, '이벤트': 3820, '이보': 3821, '이불': 3822, '이브': 3823, '이사': 3824, '이사회': 3825, '이상': 3826, '이상은': 3827, '이서': 3828, '이세': 3829, '이송': 3830, '이수': 3831, '이슈': 3832, '이식': 3833, '이십': 3834, '이싼': 3835, '이야기': 3836, '이어지다': 3837, '이외': 3838, '이요': 3839, '이용': 3840, '이용자': 3841, '이웃': 3842, '이유': 3843, '이율': 3844, '이음': 3845, '이의': 3846, '이익': 3847, '이자': 3848, '이자율': 3849, '이장': 3850, '이전': 3851, '이점': 3852, '이정표': 3853, '이제': 3854, '이중': 3855, '이중과세': 3856, '이지': 3857, '이집트': 3858, '이체': 3859, '이탈': 3860, '이탈리아': 3861, '이탈리아어': 3862, '이틀': 3863, '이해': 3864, '이해만': 3865, '이해해': 3866, '이행': 3867, '이후': 3868, '익숙하다': 3869, '익숙해지다': 3870, '익스텐더': 3871, '익일': 3872, '익히다': 3873, '인': 3874, '인간': 3875, '인건비': 3876, '인걸': 3877, '인공': 3878, '인구': 3879, '인기': 3880, '인내': 3881, '인내심': 3882, '인덱스': 3883, '인도': 3884, '인도네시아': 3885, '인력': 3886, '인명': 3887, '인보이스': 3888, '인분': 3889, '인사': 3890, '인삼': 3891, '인상': 3892, '인생': 3893, '인센티브': 3894, '인쇄': 3895, '인쇄기': 3896, '인쇄판': 3897, '인수': 3898, '인스턴트': 3899, '인식': 3900, '인용': 3901, '인원': 3902, '인정': 3903, '인정받다': 3904, '인조섬유': 3905, '인증': 3906, '인증서': 3907, '인지': 3908, '인지도': 3909, '인천': 3910, '인치': 3911, '인코딩': 3912, '인큐베이터': 3913, '인터': 3914, '인터넷': 3915, '인터뷰': 3916, '인터페이스': 3917, '인턴': 3918, '인테리어': 3919, '인파': 3920, '인포그래픽': 3921, '인프라': 3922, '인플레이션': 3923, '인플레이션율': 3924, '인하': 3925, '인하다': 3926, '일': 3927, '일과': 3928, '일관': 3929, '일단': 3930, '일러스트': 3931, '일러스트레이션': 3932, '일련': 3933, '일련번호': 3934, '일로': 3935, '일류': 3936, '일반': 3937, '일반인': 3938, '일별': 3939, '일본': 3940, '일본어': 3941, '일부': 3942, '일부러': 3943, '일산': 3944, '일상': 3945, '일상생활': 3946, '일수': 3947, '일시': 3948, '일어나고': 3949, '일어나다': 3950, '일어나지': 3951, '일요일': 3952, '일으키다': 3953, '일이': 3954, '일인': 3955, '일일': 3956, '일자리': 3957, '일정': 3958, '일정하다': 3959, '일종': 3960, '일주일': 3961, '일찍': 3962, '일체': 3963, '일치': 3964, '일해': 3965, '일행': 3966, '일환': 3967, '일회용': 3968, '읽다': 3969, '잃다': 3970, '잃어버리다': 3971, '임': 3972, '임기': 3973, '임대': 3974, '임대료': 3975, '임무': 3976, '임박': 3977, '임베디드': 3978, '임상시험': 3979, '임시': 3980, '임원': 3981, '임원진': 3982, '임의': 3983, '임차': 3984, '임펠러': 3985, '입': 3986, '입금': 3987, '입다': 3988, '입력': 3989, '입맛': 3990, '입사': 3991, '입안': 3992, '입원': 3993, '입자': 3994, '입장': 3995, '입장료': 3996, '입지': 3997, '입찰': 3998, '입출': 3999, '입학': 4000, '있다': 4001, '잊다': 4002, '잊어버리다': 4003, '잎': 4004, '자': 4005, '자게': 4006, '자격': 4007, '자고': 4008, '자국': 4009, '자극': 4010, '자금': 4011, '자기': 4012, '자꾸': 4013, '자녀': 4014, '자다': 4015, '자동': 4016, '자동차': 4017, '자동화': 4018, '자라다': 4019, '자랑': 4020, '자랑스럽다': 4021, '자로': 4022, '자료': 4023, '자르다': 4024, '자리': 4025, '자마자': 4026, '자막': 4027, '자문': 4028, '자본': 4029, '자사': 4030, '자산': 4031, '자서전': 4032, '자선단체': 4033, '자세하다': 4034, '자수': 4035, '자식': 4036, '자신': 4037, '자신감': 4038, '자연': 4039, '자연계': 4040, '자연어': 4041, '자영': 4042, '자원': 4043, '자유': 4044, '자유롭다': 4045, '자재': 4046, '자전거': 4047, '자주': 4048, '자질': 4049, '자체': 4050, '자쿠': 4051, '자쿠지': 4052, '자택': 4053, '자판기': 4054, '자회사': 4055, '작': 4056, '작가': 4057, '작고': 4058, '작곡가': 4059, '작년': 4060, '작다': 4061, '작동': 4062, '작문': 4063, '작성': 4064, '작업': 4065, '작용': 4066, '작품': 4067, '잔': 4068, '잔고': 4069, '잔금': 4070, '잔디': 4071, '잔액': 4072, '잘': 4073, '잘못': 4074, '잘해야': 4075, '잠': 4076, '잠그다': 4077, '잠깐': 4078, '잠수': 4079, '잠시': 4080, '잠옷': 4081, '잠재': 4082, '잠재력': 4083, '잠정': 4084, '잡': 4085, '잡기': 4086, '잡다': 4087, '잡지': 4088, '잡채': 4089, '잡히다': 4090, '장': 4091, '장갑': 4092, '장거리': 4093, '장공': 4094, '장기': 4095, '장님': 4096, '장담': 4097, '장래': 4098, '장르': 4099, '장모님': 4100, '장바구니': 4101, '장벽': 4102, '장부': 4103, '장비': 4104, '장소': 4105, '장식': 4106, '장애': 4107, '장애물': 4108, '장애인': 4109, '장용': 4110, '장의': 4111, '장이': 4112, '장점': 4113, '장착': 4114, '장치': 4115, '장학금': 4116, '재': 4117, '재개': 4118, '재고': 4119, '재교육': 4120, '재난': 4121, '재능': 4122, '재단': 4123, '재료': 4124, '재무': 4125, '재무부': 4126, '재무제표': 4127, '재미': 4128, '재미있다': 4129, '재밌다': 4130, '재발': 4131, '재봉틀': 4132, '재사용': 4133, '재산': 4134, '재산권': 4135, '재생': 4136, '재우다': 4137, '재정': 4138, '재택근무': 4139, '재해': 4140, '재활': 4141, '쟁기질': 4142, '저': 4143, '저녁': 4144, '저녁식사': 4145, '저렴하다': 4146, '저만': 4147, '저만큼': 4148, '저명하다': 4149, '저번': 4150, '저속': 4151, '저자': 4152, '저작권': 4153, '저작권법': 4154, '저장': 4155, '저절로': 4156, '저지르다': 4157, '저쪽': 4158, '저축': 4159, '저항기': 4160, '저희': 4161, '적': 4162, '적격': 4163, '적극': 4164, '적기': 4165, '적다': 4166, '적당하다': 4167, '적도': 4168, '적립': 4169, '적어도': 4170, '적용': 4171, '적응': 4172, '적자': 4173, '적재': 4174, '적절하다': 4175, '적정': 4176, '적합하다': 4177, '적히다': 4178, '전': 4179, '전개': 4180, '전공': 4181, '전기': 4182, '전기자전거': 4183, '전날': 4184, '전념': 4185, '전달': 4186, '전동': 4187, '전략': 4188, '전력': 4189, '전류': 4190, '전망': 4191, '전면': 4192, '전무': 4193, '전문': 4194, '전문가': 4195, '전문성': 4196, '전문점': 4197, '전문직': 4198, '전반': 4199, '전병': 4200, '전부': 4201, '전분': 4202, '전선': 4203, '전세계': 4204, '전송': 4205, '전술': 4206, '전시': 4207, '전시장': 4208, '전시회': 4209, '전신': 4210, '전액': 4211, '전역': 4212, '전염병': 4213, '전용': 4214, '전원': 4215, '전이': 4216, '전자': 4217, '전자기': 4218, '전자기기': 4219, '전자레인지': 4220, '전자상거래': 4221, '전자제품': 4222, '전자책': 4223, '전적': 4224, '전체': 4225, '전통': 4226, '전통문화': 4227, '전표': 4228, '전하': 4229, '전해': 4230, '전혀': 4231, '전화': 4232, '전화기': 4233, '전화번호': 4234, '전화하다': 4235, '전환': 4236, '전후': 4237, '젇': 4238, '절': 4239, '절감': 4240, '절기': 4241, '절단': 4242, '절대': 4243, '절반': 4244, '절삭기': 4245, '절실': 4246, '절약': 4247, '절차': 4248, '젊다': 4249, '젊은이': 4250, '점': 4251, '점검': 4252, '점도': 4253, '점수': 4254, '점심': 4255, '점유': 4256, '점자': 4257, '점점': 4258, '점진': 4259, '점화': 4260, '접': 4261, '접근': 4262, '접근성': 4263, '접대': 4264, '접속': 4265, '접수': 4266, '접시': 4267, '접종': 4268, '접착': 4269, '접합': 4270, '젓가락': 4271, '정': 4272, '정관': 4273, '정규': 4274, '정규직': 4275, '정기': 4276, '정기예금': 4277, '정당하다': 4278, '정도': 4279, '정독': 4280, '정류장': 4281, '정리': 4282, '정말': 4283, '정말로': 4284, '정밀도': 4285, '정박': 4286, '정보': 4287, '정보기술': 4288, '정본': 4289, '정부': 4290, '정비': 4291, '정비사': 4292, '정산': 4293, '정상': 4294, '정상인': 4295, '정상화': 4296, '정성': 4297, '정수': 4298, '정수기': 4299, '정식': 4300, '정신': 4301, '정원': 4302, '정육점': 4303, '정의': 4304, '정이': 4305, '정적': 4306, '정전': 4307, '정직하다': 4308, '정착': 4309, '정책': 4310, '정체': 4311, '정치': 4312, '정치인': 4313, '정통': 4314, '정통하다': 4315, '정해': 4316, '정해지다': 4317, '정해진': 4318, '정화': 4319, '정확도': 4320, '정확하다': 4321, '제': 4322, '제거': 4323, '제곱': 4324, '제곱미터': 4325, '제공': 4326, '제기': 4327, '제대로': 4328, '제도': 4329, '제때': 4330, '제로': 4331, '제목': 4332, '제발': 4333, '제보': 4334, '제빵': 4335, '제빵사': 4336, '제삼자': 4337, '제시': 4338, '제안': 4339, '제어': 4340, '제외': 4341, '제일': 4342, '제입': 4343, '제작': 4344, '제작자': 4345, '제작회사': 4346, '제재': 4347, '제적': 4348, '제조': 4349, '제조업': 4350, '제조업체': 4351, '제주': 4352, '제출': 4353, '제품': 4354, '제품군': 4355, '제한': 4356, '제휴': 4357, '젠': 4358, '젯': 4359, '조': 4360, '조각': 4361, '조각가': 4362, '조각상': 4363, '조건': 4364, '조국': 4365, '조금': 4366, '조달': 4367, '조도': 4368, '조로': 4369, '조리': 4370, '조립': 4371, '조만간': 4372, '조명': 4373, '조명탄': 4374, '조물': 4375, '조미료': 4376, '조사': 4377, '조사해': 4378, '조선': 4379, '조수': 4380, '조식': 4381, '조심': 4382, '조심하다': 4383, '조언': 4384, '조용하다': 4385, '조잡하다': 4386, '조장': 4387, '조절': 4388, '조정': 4389, '조정은': 4390, '조지아': 4391, '조직': 4392, '조취': 4393, '조치': 4394, '조카': 4395, '조합': 4396, '조항': 4397, '조화': 4398, '조회': 4399, '족발': 4400, '존경': 4401, '존재': 4402, '존중': 4403, '졸업장': 4404, '좀': 4405, '좁히다': 4406, '종': 4407, '종교': 4408, '종단': 4409, '종도': 4410, '종로': 4411, '종료': 4412, '종류': 4413, '종사': 4414, '종습니': 4415, '종신': 4416, '종업원': 4417, '종이': 4418, '종일': 4419, '종합': 4420, '좋다': 4421, '좋아지다': 4422, '좋아하다': 4423, '좌석': 4424, '좌우': 4425, '죄송하다': 4426, '주': 4427, '주가': 4428, '주간': 4429, '주간지': 4430, '주거': 4431, '주고받다': 4432, '주기': 4433, '주다': 4434, '주된': 4435, '주렴': 4436, '주로': 4437, '주류': 4438, '주말': 4439, '주머니': 4440, '주목': 4441, '주무시다': 4442, '주문': 4443, '주민': 4444, '주민등록': 4445, '주방': 4446, '주변': 4447, '주사기': 4448, '주선': 4449, '주소': 4450, '주스': 4451, '주시': 4452, '주식': 4453, '주식시장': 4454, '주신': 4455, '주어지다': 4456, '주얼': 4457, '주요': 4458, '주의': 4459, '주인': 4460, '주일': 4461, '주임': 4462, '주자': 4463, '주장': 4464, '주저': 4465, '주제': 4466, '주제가': 4467, '주지': 4468, '주차': 4469, '주차장': 4470, '주철': 4471, '주택': 4472, '주파수': 4473, '죽': 4474, '준': 4475, '준비': 4476, '준수': 4477, '줄': 4478, '줄기': 4479, '줄다': 4480, '줄어들다': 4481, '줄이다': 4482, '줌': 4483, '줍다': 4484, '중': 4485, '중간': 4486, '중개': 4487, '중개사': 4488, '중개인': 4489, '중고': 4490, '중고품': 4491, '중공업': 4492, '중국': 4493, '중국집': 4494, '중단': 4495, '중등교육': 4496, '중복': 4497, '중소기업': 4498, '중시': 4499, '중심': 4500, '중심부': 4501, '중요성': 4502, '중요하다': 4503, '중이': 4504, '중인': 4505, '중장비': 4506, '중재': 4507, '중점': 4508, '중형견': 4509, '중환자': 4510, '즉': 4511, '즉각': 4512, '즉석': 4513, '즉시': 4514, '즐거움': 4515, '즐겁다': 4516, '즐기다': 4517, '증가': 4518, '증거': 4519, '증권': 4520, '증권사': 4521, '증명': 4522, '증명서': 4523, '증발기': 4524, '증빙': 4525, '증서': 4526, '증세': 4527, '증진': 4528, '증폭': 4529, '증폭기': 4530, '지': 4531, '지갑': 4532, '지게': 4533, '지게차': 4534, '지고': 4535, '지구': 4536, '지금': 4537, '지급': 4538, '지나다': 4539, '지난': 4540, '지난달': 4541, '지난번': 4542, '지난주': 4543, '지난해': 4544, '지남': 4545, '지내다': 4546, '지능': 4547, '지다': 4548, '지도': 4549, '지독하다': 4550, '지루하다': 4551, '지루함': 4552, '지르다': 4553, '지리': 4554, '지면': 4555, '지명': 4556, '지문': 4557, '지방': 4558, '지불': 4559, '지붕': 4560, '지사': 4561, '지속': 4562, '지수': 4563, '지시': 4564, '지식': 4565, '지역': 4566, '지역성': 4567, '지연': 4568, '지용': 4569, '지우다': 4570, '지원': 4571, '지원이': 4572, '지인': 4573, '지저분하다': 4574, '지적': 4575, '지점': 4576, '지정': 4577, '지주': 4578, '지지': 4579, '지체': 4580, '지출': 4581, '지침': 4582, '지켜보다': 4583, '지키다': 4584, '지폐': 4585, '지표': 4586, '지프': 4587, '지하실': 4588, '지하철': 4589, '지향': 4590, '직': 4591, '직감': 4592, '직경': 4593, '직급': 4594, '직도': 4595, '직면': 4596, '직물': 4597, '직불': 4598, '직업': 4599, '직원': 4600, '직장': 4601, '직접': 4602, '직접투자': 4603, '직책': 4604, '진': 4605, '진공': 4606, '진과': 4607, '진단': 4608, '진동': 4609, '진상': 4610, '진실': 4611, '진실하다': 4612, '진심': 4613, '진의': 4614, '진입': 4615, '진정': 4616, '진정하다': 4617, '진지하다': 4618, '진짜': 4619, '진출': 4620, '진행': 4621, '진행자': 4622, '진화': 4623, '진흥': 4624, '질': 4625, '질감': 4626, '질문': 4627, '질병': 4628, '질환': 4629, '짐': 4630, '집': 4631, '집값': 4632, '집다': 4633, '집단': 4634, '집세': 4635, '집안일': 4636, '집의': 4637, '집주인': 4638, '집중': 4639, '집하장': 4640, '집합': 4641, '집행': 4642, '집행자': 4643, '짓다': 4644, '징': 4645, '징글링': 4646, '짚': 4647, '짜다': 4648, '짜장': 4649, '짤': 4650, '짧다': 4651, '째': 4652, '쪽': 4653, '쫓아내다': 4654, '쯤': 4655, '찌개': 4656, '찍다': 4657, '찍히다': 4658, '찜': 4659, '찜질방': 4660, '찢어지다': 4661, '차': 4662, '차감': 4663, '차갑다': 4664, '차고': 4665, '차기': 4666, '차다': 4667, '차단': 4668, '차도': 4669, '차등': 4670, '차라리': 4671, '차량': 4672, '차례': 4673, '차리다': 4674, '차별': 4675, '차서': 4676, '차용': 4677, '차원': 4678, '차이': 4679, '차이다': 4680, '차이점': 4681, '차입': 4682, '차지': 4683, '차질': 4684, '차트': 4685, '찬': 4686, '참가': 4687, '참가자': 4688, '참고': 4689, '참배': 4690, '참석': 4691, '참석자': 4692, '참여': 4693, '참으로': 4694, '참조': 4695, '찹쌀': 4696, '창': 4697, '창가': 4698, '창고': 4699, '창구': 4700, '창립': 4701, '창문': 4702, '창업': 4703, '창의': 4704, '찾기': 4705, '찾다': 4706, '찾아보다': 4707, '찾아오다': 4708, '채': 4709, '채굴': 4710, '채권': 4711, '채권자': 4712, '채널': 4713, '채다': 4714, '채무': 4715, '채무자': 4716, '채색': 4717, '채소': 4718, '채식': 4719, '채식주의자': 4720, '채용': 4721, '채우다': 4722, '채취': 4723, '채택': 4724, '채팅': 4725, '책': 4726, '책임': 4727, '책임감': 4728, '책임자': 4729, '책임지다': 4730, '책자': 4731, '책정': 4732, '챔버입니': 4733, '처': 4734, '처가': 4735, '처리': 4736, '처리기': 4737, '처방': 4738, '처분': 4739, '처음': 4740, '천만': 4741, '천연': 4742, '천연가스': 4743, '천장': 4744, '천천히': 4745, '철': 4746, '철강': 4747, '철도': 4748, '철저하다': 4749, '철제': 4750, '철학': 4751, '철회': 4752, '첨부': 4753, '첫': 4754, '첫날': 4755, '첫인상': 4756, '첫째': 4757, '청': 4758, '청각장애': 4759, '청구': 4760, '청년': 4761, '청동': 4762, '청문회': 4763, '청사진': 4764, '청소': 4765, '청소년': 4766, '청정': 4767, '청정기': 4768, '청중': 4769, '청취': 4770, '체결': 4771, '체납': 4772, '체류': 4773, '체육관': 4774, '체인': 4775, '체인점': 4776, '체제': 4777, '체크': 4778, '체크아웃': 4779, '체험': 4780, '초': 4781, '초고': 4782, '초과': 4783, '초기': 4784, '초당': 4785, '초대': 4786, '초대장': 4787, '초래': 4788, '초상화': 4789, '초안': 4790, '초음파': 4791, '초입': 4792, '초점': 4793, '초청': 4794, '초콜릿': 4795, '촉구': 4796, '촉박하다': 4797, '총': 4798, '총수': 4799, '총칭': 4800, '촬영': 4801, '최': 4802, '최고': 4803, '최고급': 4804, '최근': 4805, '최대': 4806, '최대한': 4807, '최상': 4808, '최선': 4809, '최선일': 4810, '최소': 4811, '최소한': 4812, '최신': 4813, '최악': 4814, '최저': 4815, '최적': 4816, '최적화': 4817, '최종': 4818, '최첨단': 4819, '최초': 4820, '추가': 4821, '추구': 4822, '추다': 4823, '추석': 4824, '추세': 4825, '추억': 4826, '추적': 4827, '추정': 4828, '추진': 4829, '추천': 4830, '추출': 4831, '추후': 4832, '축': 4833, '축배': 4834, '축소': 4835, '축하': 4836, '출구': 4837, '출금': 4838, '출두': 4839, '출력': 4840, '출발점': 4841, '출산': 4842, '출시': 4843, '출연': 4844, '출장': 4845, '출퇴근': 4846, '출판': 4847, '출판물': 4848, '출판사': 4849, '출하': 4850, '춤': 4851, '충': 4852, '충격': 4853, '충당': 4854, '충돌': 4855, '충분하다': 4856, '충실하다': 4857, '충전': 4858, '충전기': 4859, '충족': 4860, '취': 4861, '취급': 4862, '취득': 4863, '취미': 4864, '취사': 4865, '취소': 4866, '취약': 4867, '취재': 4868, '취직': 4869, '취하': 4870, '취한': 4871, '취할': 4872, '취해': 4873, '취향': 4874, '측': 4875, '측면': 4876, '측정': 4877, '측정기': 4878, '층': 4879, '치': 4880, '치가': 4881, '치과': 4882, '치다': 4883, '치료': 4884, '치르다': 4885, '치맥': 4886, '치솟다': 4887, '치수': 4888, '치열하다': 4889, '치즈': 4890, '치킨': 4891, '친': 4892, '친구': 4893, '친절하다': 4894, '친척': 4895, '친하다': 4896, '친환경': 4897, '칠': 4898, '칠하다': 4899, '침': 4900, '침대': 4901, '침실': 4902, '침입': 4903, '침체': 4904, '침해': 4905, '칩': 4906, '칩셋': 4907, '칭찬': 4908, '카드': 4909, '카메라': 4910, '카뷰': 4911, '카운터': 4912, '카운트다운': 4913, '카지노': 4914, '카탈로그': 4915, '카테고리': 4916, '카트': 4917, '카페': 4918, '카페테리아': 4919, '카펫': 4920, '카피': 4921, '칵테일': 4922, '칸': 4923, '칼': 4924, '칼리': 4925, '캐': 4926, '캐나다': 4927, '캐리어': 4928, '캐릭터': 4929, '캐비닛': 4930, '캐빈': 4931, '캐싱': 4932, '캐터필러': 4933, '캐피탈': 4934, '캐피털': 4935, '캘리포니아': 4936, '캘린더': 4937, '캠': 4938, '캠퍼스': 4939, '캠페인': 4940, '캠프': 4941, '캠프장': 4942, '캠프파이어': 4943, '캠핑': 4944, '캠핑장': 4945, '캠핑카': 4946, '캡슐화': 4947, '캡처': 4948, '커뮤니케이션': 4949, '커뮤니티': 4950, '커미션': 4951, '커버': 4952, '커지다': 4953, '커터': 4954, '커튼': 4955, '커플': 4956, '커피': 4957, '커피메이커': 4958, '컨디셔닝': 4959, '컨베이어': 4960, '컨설턴트': 4961, '컨설팅': 4962, '컨셉': 4963, '컨테이너': 4964, '컨텐츠': 4965, '컬래버레이션': 4966, '컬러': 4967, '컴퍼니': 4968, '컴포트룸': 4969, '컴퓨터': 4970, '컴퓨팅': 4971, '컴프레서': 4972, '컷': 4973, '케어': 4974, '케이': 4975, '케이블': 4976, '케이스': 4977, '케이크': 4978, '코': 4979, '코너': 4980, '코드': 4981, '코딩': 4982, '코로나': 4983, '코르크': 4984, '코리아': 4985, '코리안': 4986, '코멘트': 4987, '코스': 4988, '코스닥': 4989, '코인': 4990, '코치': 4991, '코칭': 4992, '코코넛': 4993, '코퍼레이션': 4994, '콕': 4995, '콘덴서': 4996, '콘도': 4997, '콘도그': 4998, '콘서트': 4999, '콘셉': 5000, '콘셉트': 5001, '콘솔': 5002, '콘크리트': 5003, '콘텐츠': 5004, '콜리': 5005, '콜링': 5006, '콜카타': 5007, '콩나물': 5008, '쾌적하다': 5009, '쿠션': 5010, '쿠알라룸푸르': 5011, '쿠키': 5012, '쿠폰': 5013, '쿨': 5014, '쿨러': 5015, '퀼트': 5016, '큐': 5017, '크게': 5018, '크기': 5019, '크다': 5020, '크레딧': 5021, '크레인': 5022, '크루아상': 5023, '크류': 5024, '크리스마스': 5025, '크리에이터': 5026, '크리에이티브': 5027, '크립': 5028, '클라우드': 5029, '클라이언트': 5030, '클래스': 5031, '클러스터': 5032, '클럽': 5033, '클레': 5034, '클리': 5035, '클릭': 5036, '클릭률': 5037, '클립': 5038, '키': 5039, '키란': 5040, '키우다': 5041, '키트': 5042, '킬로그램': 5043, '킬로미터': 5044, '킬로와트': 5045, '타': 5046, '타겟': 5047, '타고': 5048, '타깃': 5049, '타다': 5050, '타당': 5051, '타운하우스': 5052, '타원곡선': 5053, '타이머': 5054, '타이밍': 5055, '타이어': 5056, '타이틀곡': 5057, '타임': 5058, '타임스퀘어': 5059, '타입': 5060, '타자기': 5061, '타협': 5062, '탁월하다': 5063, '탁자': 5064, '탄소': 5065, '탄원서': 5066, '탈': 5067, '탈세': 5068, '탈수': 5069, '탈퇴': 5070, '탐구': 5071, '탐방': 5072, '탐색': 5073, '탐험': 5074, '탑': 5075, '탑승': 5076, '탑재': 5077, '탕': 5078, '탕감': 5079, '태국': 5080, '태국어': 5081, '태그': 5082, '태극': 5083, '태극기': 5084, '태도': 5085, '태블릿': 5086, '태양': 5087, '택배': 5088, '탤런트': 5089, '탭': 5090, '터': 5091, '터널': 5092, '터링': 5093, '터미널': 5094, '터북': 5095, '터치': 5096, '터치스크린': 5097, '터키': 5098, '턴': 5099, '턴키': 5100, '테': 5101, '테니스': 5102, '테라': 5103, '테라바이트': 5104, '테라스': 5105, '테마': 5106, '테스': 5107, '테스트': 5108, '테이': 5109, '테이블': 5110, '테이프': 5111, '테크놀로지': 5112, '텍스처': 5113, '텍스트': 5114, '텐데': 5115, '텐데요': 5116, '텐트': 5117, '텔레비전': 5118, '템플': 5119, '템플릿': 5120, '템플스테이': 5121, '토너': 5122, '토론': 5123, '토르티야': 5124, '토목': 5125, '토스터': 5126, '토스트': 5127, '토요일': 5128, '토지': 5129, '토큰': 5130, '톤': 5131, '통': 5132, '통계': 5133, '통과': 5134, '통관': 5135, '통닭': 5136, '통도사': 5137, '통보': 5138, '통상': 5139, '통신': 5140, '통신망': 5141, '통신사': 5142, '통역': 5143, '통역관': 5144, '통장': 5145, '통제': 5146, '통지': 5147, '통지서': 5148, '통째': 5149, '통찰': 5150, '통한': 5151, '통합': 5152, '통해': 5153, '통화': 5154, '퇴근': 5155, '퇴사': 5156, '투': 5157, '투명': 5158, '투명하다': 5159, '투숙': 5160, '투어': 5161, '투자': 5162, '투자가': 5163, '투자수익률': 5164, '투자자': 5165, '툴': 5166, '튀기다': 5167, '튀김': 5168, '튜브': 5169, '튜토리얼': 5170, '트': 5171, '트래킹': 5172, '트래픽': 5173, '트랙볼': 5174, '트랙터': 5175, '트랙패드': 5176, '트랜치': 5177, '트러블': 5178, '트럭': 5179, '트레인': 5180, '트레일러': 5181, '트렌드': 5182, '트리': 5183, '트리트먼트': 5184, '트리플': 5185, '트윈': 5186, '트이다': 5187, '특권': 5188, '특급': 5189, '특기': 5190, '특별': 5191, '특별하다': 5192, '특산': 5193, '특선': 5194, '특성': 5195, '특수': 5196, '특수하다': 5197, '특정': 5198, '특정하다': 5199, '특제': 5200, '특집': 5201, '특징': 5202, '특허': 5203, '특히': 5204, '튼튼하다': 5205, '틀다': 5206, '틀림없다': 5207, '틀림없이': 5208, '틀어놓다': 5209, '틈': 5210, '틈새': 5211, '티': 5212, '티슈': 5213, '티저': 5214, '티켓': 5215, '팀': 5216, '팀원': 5217, '팁': 5218, '팅': 5219, '파견': 5220, '파괴': 5221, '파다': 5222, '파란색': 5223, '파로': 5224, '파리': 5225, '파산': 5226, '파산하다': 5227, '파손': 5228, '파스타': 5229, '파악': 5230, '파워': 5231, '파이': 5232, '파이다': 5233, '파이썬': 5234, '파이프': 5235, '파이프라인': 5236, '파일': 5237, '파키스탄': 5238, '파트너': 5239, '파트너쉽': 5240, '파티': 5241, '파파야': 5242, '판': 5243, '판금': 5244, '판단': 5245, '판매': 5246, '판매량': 5247, '판매업': 5248, '판명': 5249, '판촉': 5250, '팔': 5251, '팔고': 5252, '팔다': 5253, '팔레트': 5254, '팔로우': 5255, '팔로워': 5256, '팔리다': 5257, '팔지': 5258, '팜스프링스': 5259, '팜유': 5260, '팝': 5261, '팟캐스트': 5262, '패널': 5263, '패션': 5264, '패스': 5265, '패스트': 5266, '패스트푸드': 5267, '패자': 5268, '패치': 5269, '패키지': 5270, '패턴': 5271, '팩': 5272, '팩스': 5273, '팬': 5274, '팬데믹': 5275, '팬케이크': 5276, '팸플릿': 5277, '퍼센트': 5278, '퍼지다': 5279, '펀드': 5280, '펀딩': 5281, '펄스': 5282, '펌프': 5283, '페스티벌': 5284, '페이': 5285, '페이스': 5286, '페이지': 5287, '펜션': 5288, '펠메니': 5289, '펴다': 5290, '편': 5291, '편곡': 5292, '편도': 5293, '편리하다': 5294, '편물': 5295, '편안하다': 5296, '편안함': 5297, '편애': 5298, '편의': 5299, '편의점': 5300, '편이': 5301, '편입': 5302, '편지': 5303, '편지함': 5304, '편집': 5305, '편집자': 5306, '편하다': 5307, '평가': 5308, '평가판': 5309, '평균': 5310, '평면도': 5311, '평방': 5312, '평범하다': 5313, '평생': 5314, '평일': 5315, '평점': 5316, '평판': 5317, '평편': 5318, '평평하다': 5319, '평화': 5320, '폐가': 5321, '폐기물': 5322, '폐쇄': 5323, '폐쇄되어': 5324, '폐쇄하': 5325, '포': 5326, '포격': 5327, '포괄': 5328, '포기': 5329, '포스터': 5330, '포스트': 5331, '포스팅': 5332, '포인트': 5333, '포장': 5334, '포지셔닝': 5335, '포지션': 5336, '포켓': 5337, '포탄': 5338, '포털': 5339, '포토': 5340, '포트': 5341, '포트폴리오': 5342, '포함': 5343, '포항': 5344, '폭': 5345, '폭력': 5346, '폰': 5347, '폰트': 5348, '폴더': 5349, '폴리스티렌': 5350, '폴리오': 5351, '폴리우레탄': 5352, '폼': 5353, '표': 5354, '표면': 5355, '표시': 5356, '표절': 5357, '표정': 5358, '표준': 5359, '표지': 5360, '표현': 5361, '푸드': 5362, '풀': 5363, '풀다': 5364, '품': 5365, '품다': 5366, '품목': 5367, '품절': 5368, '품종': 5369, '품질': 5370, '풍': 5371, '풍부하다': 5372, '풍향': 5373, '퓨전': 5374, '프라이': 5375, '프라이드': 5376, '프라이머리': 5377, '프랑스': 5378, '프랑스어': 5379, '프랜차이즈': 5380, '프레': 5381, '프레임': 5382, '프레임워크': 5383, '프로': 5384, '프로그래머': 5385, '프로그래밍': 5386, '프로그램': 5387, '프로듀서': 5388, '프로모션': 5389, '프로세서': 5390, '프로세스': 5391, '프로젝터': 5392, '프로젝트': 5393, '프로토콜': 5394, '프로토타입': 5395, '프로필': 5396, '프루티': 5397, '프리랜서': 5398, '프리미엄': 5399, '프리뷰': 5400, '프린터': 5401, '플': 5402, '플라스틱': 5403, '플라이': 5404, '플라자': 5405, '플래닝': 5406, '플래시': 5407, '플래티넘': 5408, '플랜': 5409, '플랫폼': 5410, '플러그인': 5411, '플러머': 5412, '플러스': 5413, '플레이': 5414, '플레이어': 5415, '플로우': 5416, '플로터': 5417, '플루': 5418, '플립': 5419, '피': 5420, '피나': 5421, '피니쉬': 5422, '피드백': 5423, '피로연': 5424, '피부': 5425, '피스톤': 5426, '피아노': 5427, '피우다': 5428, '피칭팀': 5429, '피크': 5430, '피트': 5431, '피트니스': 5432, '피하': 5433, '피해': 5434, '피해자': 5435, '픽셀': 5436, '픽업': 5437, '핀': 5438, '필기체': 5439, '필드': 5440, '필름': 5441, '필리핀': 5442, '필수': 5443, '필요': 5444, '필요성': 5445, '필요없다': 5446, '필요하다': 5447, '필욘': 5448, '필터': 5449, '핑크': 5450, '하': 5451, '하기는': 5452, '하나': 5453, '하나로': 5454, '하나요': 5455, '하니': 5456, '하다': 5457, '하단': 5458, '하드': 5459, '하드웨어': 5460, '하락': 5461, '하루': 5462, '하루나': 5463, '하룻밤': 5464, '하므다': 5465, '하수': 5466, '하숙집': 5467, '하얀색': 5468, '하오니': 5469, '하와이': 5470, '하우': 5471, '하우스': 5472, '하이재킹': 5473, '하이킹': 5474, '하이테크': 5475, '하자': 5476, '하지만': 5477, '학': 5478, '학과': 5479, '학교': 5480, '학기': 5481, '학년': 5482, '학문': 5483, '학생': 5484, '학술': 5485, '학습': 5486, '학업': 5487, '학원': 5488, '학위': 5489, '학자': 5490, '학자금': 5491, '한': 5492, '한가하다': 5493, '한계': 5494, '한국': 5495, '한국어': 5496, '한국은행': 5497, '한국인': 5498, '한다는': 5499, '한도': 5500, '한두': 5501, '한마디': 5502, '한번': 5503, '한식': 5504, '한식당': 5505, '한옥호텔': 5506, '한우': 5507, '한자': 5508, '한잔': 5509, '한정': 5510, '한정식': 5511, '한정판': 5512, '한지': 5513, '한창': 5514, '한층': 5515, '한편': 5516, '할당': 5517, '할랄': 5518, '할머니': 5519, '할부': 5520, '할애': 5521, '할인': 5522, '함': 5523, '함께': 5524, '합': 5525, '합격': 5526, '합계': 5527, '합류': 5528, '합리': 5529, '합법': 5530, '합성': 5531, '합의': 5532, '합작': 5533, '합치다': 5534, '합판': 5535, '핫': 5536, '핫스팟': 5537, '항': 5538, '항공': 5539, '항공사': 5540, '항구': 5541, '항목': 5542, '항상': 5543, '항성': 5544, '항의': 5545, '해': 5546, '해결': 5547, '해고': 5548, '해당': 5549, '해도': 5550, '해독': 5551, '해드리다': 5552, '해명': 5553, '해변': 5554, '해보다': 5555, '해봤다': 5556, '해상도': 5557, '해석': 5558, '해소': 5559, '해심': 5560, '해안': 5561, '해오다': 5562, '해외': 5563, '해외여행': 5564, '해주다': 5565, '해주시': 5566, '해지': 5567, '해초': 5568, '해커': 5569, '해킹': 5570, '해피': 5571, '핵심': 5572, '핸드폰': 5573, '행': 5574, '행동': 5575, '행복': 5576, '행복하다': 5577, '행사': 5578, '행운': 5579, '행해지다': 5580, '향': 5581, '향상': 5582, '향수': 5583, '향신료': 5584, '향후': 5585, '허가': 5586, '허가증': 5587, '허락': 5588, '허브': 5589, '허브차': 5590, '허슬': 5591, '허용': 5592, '허튼': 5593, '허풍': 5594, '헌신': 5595, '헐벗': 5596, '헤드헌터': 5597, '헤어드라이어': 5598, '헤지': 5599, '헬': 5600, '헬스장': 5601, '헷갈리다': 5602, '혁신': 5603, '현': 5604, '현금': 5605, '현대': 5606, '현명하다': 5607, '현미경': 5608, '현상': 5609, '현수막': 5610, '현장': 5611, '현재': 5612, '현지': 5613, '현행': 5614, '현황': 5615, '혈압': 5616, '혈액': 5617, '혐의': 5618, '협동': 5619, '협력': 5620, '협상': 5621, '협약': 5622, '협연': 5623, '협의': 5624, '협정': 5625, '협조': 5626, '협찬': 5627, '협회': 5628, '형': 5629, '형기': 5630, '형성': 5631, '형식': 5632, '형제': 5633, '형태': 5634, '혜택': 5635, '호도': 5636, '호법': 5637, '호스팅': 5638, '호실': 5639, '호의': 5640, '호주': 5641, '호출': 5642, '호텔': 5643, '호환': 5644, '호환성': 5645, '호흡': 5646, '혹독하다': 5647, '혹시': 5648, '혹은': 5649, '혼란': 5650, '혼자': 5651, '혼잡하다': 5652, '혼합': 5653, '홀': 5654, '홈': 5655, '홈스테이': 5656, '홈페이지': 5657, '홋카이도': 5658, '홍보': 5659, '화': 5660, '화가': 5661, '화거': 5662, '화기': 5663, '화나다': 5664, '화면': 5665, '화물': 5666, '화물선': 5667, '화보': 5668, '화상': 5669, '화상통화': 5670, '화상회의': 5671, '화소': 5672, '화요일': 5673, '화의': 5674, '화이트': 5675, '화장실': 5676, '화장품': 5677, '화전': 5678, '화폐': 5679, '화하다': 5680, '화학': 5681, '화합': 5682, '화해': 5683, '확고하다': 5684, '확답': 5685, '확대': 5686, '확보': 5687, '확신': 5688, '확실하다': 5689, '확인': 5690, '확장': 5691, '확정': 5692, '환': 5693, '환경': 5694, '환급': 5695, '환불': 5696, '환상': 5697, '환영': 5698, '환율': 5699, '환자': 5700, '환전': 5701, '환호': 5702, '활': 5703, '활동': 5704, '활발하다': 5705, '활성화': 5706, '활용': 5707, '회': 5708, '회계': 5709, '회계법인': 5710, '회계사': 5711, '회도': 5712, '회로': 5713, '회복': 5714, '회복하다': 5715, '회비': 5716, '회사': 5717, '회수': 5718, '회신': 5719, '회원': 5720, '회의': 5721, '회의실': 5722, '회의장': 5723, '회장': 5724, '회전': 5725, '회차': 5726, '회화': 5727, '횡설수설': 5728, '효과': 5729, '효율': 5730, '후': 5731, '후루룩': 5732, '후불': 5733, '후속': 5734, '후송': 5735, '후식': 5736, '후원': 5737, '후원자': 5738, '후의': 5739, '후회': 5740, '훈련': 5741, '훌륭하다': 5742, '훑다': 5743, '훨씬': 5744, '훼손': 5745, '휘': 5746, '휘발유': 5747, '휠': 5748, '휩쓸다': 5749, '휴': 5750, '휴가': 5751, '휴대': 5752, '휴대전화': 5753, '휴대폰': 5754, '휴식': 5755, '휴양': 5756, '흐름': 5757, '흐릿하': 5758, '흑자': 5759, '흔하다': 5760, '흘리다': 5761, '흙': 5762, '흙빛': 5763, '흡사하다': 5764, '흡수': 5765, '흡입': 5766, '흥미': 5767, '흥미롭다': 5768, '흥분': 5769, '흥분하다': 5770, '희망': 5771, '흰색': 5772, '히': 5773, '히트': 5774, '힘': 5775, '힘들다': 5776, '힘쓰다': 5777}\n",
            "{'<EOS>': 1, '<SOS>': 2, 'A': 3, 'AAA': 4, 'AAA1@BBB1.com.': 5, 'AAA@BBB.com': 6, 'ABCDE': 7, 'AI': 8, 'ANRs': 9, 'ATM': 10, 'ATMs': 11, 'Absolutely': 12, 'Accidents': 13, 'According': 14, 'Actually': 15, 'Additionally': 16, 'Ads': 17, 'African': 18, 'After': 19, 'Afterwards': 20, 'Again': 21, 'Agency': 22, 'Ah': 23, 'Airport': 24, 'All': 25, 'Allow': 26, 'Almost': 27, 'Along': 28, 'Alright': 29, 'Also': 30, 'Alternatively': 31, 'Although': 32, 'Am': 33, 'America': 34, 'American': 35, 'Among': 36, 'Amsterdam': 37, 'An': 38, 'And': 39, 'Angel': 40, 'Another': 41, 'Any': 42, 'Anyone': 43, 'Anything': 44, 'Anyway': 45, 'Apart': 46, 'Apologies': 47, 'Apparently': 48, 'Appraisal': 49, 'April': 50, 'Are': 51, 'Argentina': 52, 'Around': 53, 'Articles': 54, 'Artificial': 55, 'As': 56, 'Asia': 57, 'Asian': 58, 'Aside': 59, 'Associates': 60, 'Assume': 61, 'At': 62, 'August': 63, 'Australia': 64, 'Australian': 65, 'Available': 66, 'Avatars': 67, 'Avoid': 68, 'Awesome': 69, 'B': 70, 'BBB': 71, 'BBB@email.com.': 72, 'BBQ': 73, 'BSE': 74, 'Back': 75, 'Bank': 76, 'Barbados': 77, 'Based': 78, 'Basically': 79, 'Be': 80, 'Bear': 81, 'Because': 82, 'Beef': 83, 'Before': 84, 'Being': 85, 'Besides': 86, 'Board': 87, 'Bohemian': 88, 'Bokkeumbap': 89, 'Bossam': 90, 'Both': 91, 'Brazil': 92, 'Breakfast': 93, 'Bringing': 94, 'Broadcast': 95, 'Broadcasting': 96, 'Browsing': 97, 'Brunei': 98, 'Buddha': 99, 'Buddhism': 100, 'Buddhist': 101, 'Building': 102, 'Bulgogi': 103, 'Bungeoppang': 104, 'Bunsen': 105, 'Busan': 106, 'Business': 107, 'But': 108, 'Buying': 109, 'By': 110, 'C': 111, 'CCTV': 112, 'CCTVs': 113, 'CEO': 114, 'CFM': 115, 'CMS': 116, 'COVID': 117, 'CSS': 118, 'CT': 119, 'California': 120, 'Call': 121, 'Camp': 122, 'Camping': 123, 'Can': 124, 'Canada': 125, 'Canal': 126, 'Capital': 127, 'Catering': 128, 'Center': 129, 'Certainly': 130, 'Change': 131, 'Chapter': 132, 'Chicago': 133, 'Chief': 134, 'Children': 135, 'China': 136, 'Chinese': 137, 'Choosing': 138, 'Chosun': 139, 'Christmas': 140, 'Chuseok': 141, 'City': 142, 'Class': 143, 'Click': 144, 'Clothing': 145, 'Cloud': 146, 'Come': 147, 'Company': 148, 'Compatible': 149, 'Completion': 150, 'Consider': 151, 'Considering': 152, 'Contact': 153, 'Content': 154, 'Continental': 155, 'Continue': 156, 'Control': 157, 'Convention': 158, 'Cool': 159, 'Copyright': 160, 'Corp': 161, 'Corporation': 162, 'Correct': 163, 'Could': 164, 'Court': 165, 'Crowdfunding': 166, 'Cryptocurrency': 167, 'Currently': 168, 'D': 169, 'DCA': 170, 'DVR': 171, 'Daegu': 172, 'Dak': 173, 'Dear': 174, 'December': 175, 'Definitely': 176, 'Denmark': 177, 'Department': 178, 'Depends': 179, 'Design': 180, 'Despite': 181, 'Details': 182, 'Devices': 183, 'Did': 184, 'Didn': 185, 'Different': 186, 'Disclosing': 187, 'District': 188, 'Do': 189, 'Documents': 190, 'Does': 191, 'Don': 192, 'Download': 193, 'Dr': 194, 'Drive': 195, 'Due': 196, 'Duly': 197, 'During': 198, 'E': 199, 'EOB': 200, 'EPP': 201, 'ESG': 202, 'EST': 203, 'ETF': 204, 'ETFs': 205, 'EVA': 206, 'Each': 207, 'Earth': 208, 'East': 209, 'Eastern': 210, 'Egyptian': 211, 'Eh': 212, 'Emerald': 213, 'Emerging': 214, 'Emily': 215, 'Encryption': 216, 'Engine': 217, 'Engines': 218, 'England': 219, 'English': 220, 'Equipment': 221, 'Especially': 222, 'Essentially': 223, 'Europe': 224, 'European': 225, 'Euros': 226, 'Even': 227, 'Events': 228, 'Every': 229, 'Everyone': 230, 'Everything': 231, 'Exactly': 232, 'Excellent': 233, 'Exchange': 234, 'Excuse': 235, 'Exit': 236, 'Expect': 237, 'Expo': 238, 'FDI': 239, 'FFF': 240, 'FOMO': 241, 'Factors': 242, 'Failure': 243, 'Fantastic': 244, 'February': 245, 'Federal': 246, 'Feel': 247, 'Festival': 248, 'Fi': 249, 'Fifth': 250, 'Filipino': 251, 'Finally': 252, 'Financial': 253, 'Find': 254, 'Fine': 255, 'Fingers': 256, 'First': 257, 'Firstly': 258, 'Five': 259, 'Flashes': 260, 'Flexibility': 261, 'Food': 262, 'For': 263, 'Foreigners': 264, 'Fortunately': 265, 'Fourth': 266, 'France': 267, 'Francisco': 268, 'French': 269, 'Friday': 270, 'From': 271, 'Fu': 272, 'Furthermore': 273, 'Futons': 274, 'Futures': 275, 'G': 276, 'GB': 277, 'GPS': 278, 'GVWR': 279, 'Gains': 280, 'Gangnam': 281, 'Gangneung': 282, 'Gas': 283, 'Generally': 284, 'Georgia': 285, 'Germany': 286, 'Get': 287, 'Ginseng': 288, 'Give': 289, 'Given': 290, 'Giving': 291, 'Go': 292, 'Good': 293, 'Got': 294, 'Graphic': 295, 'Great': 296, 'Greek': 297, 'Greetings': 298, 'Group': 299, 'Guam': 300, 'Gujeolpan': 301, 'Gyeonggi': 302, 'HDD': 303, 'HR': 304, 'HTML': 305, 'Hackers': 306, 'Halal': 307, 'Hanok': 308, 'Has': 309, 'Have': 310, 'Having': 311, 'Hawaii': 312, 'He': 313, 'Helllo': 314, 'Hello': 315, 'Hence': 316, 'Her': 317, 'Here': 318, 'Hey': 319, 'Hi': 320, 'Hmm': 321, 'Hokkaido': 322, 'Hold': 323, 'Hopefully': 324, 'Hotel': 325, 'How': 326, 'However': 327, 'I': 328, 'ID': 329, 'IDs': 330, 'IP': 331, 'IPO': 332, 'IPOs': 333, 'IT': 334, 'IVR': 335, 'IaaS': 336, 'If': 337, 'Ilsan': 338, 'In': 339, 'Incentives': 340, 'Incheon': 341, 'Incorporation': 342, 'Indeed': 343, 'Independent': 344, 'India': 345, 'Indian': 346, 'Indonesia': 347, 'Indonesian': 348, 'Inflation': 349, 'Influencer': 350, 'Innovations': 351, 'Installing': 352, 'Instant': 353, 'Insurance': 354, 'Interesting': 355, 'International': 356, 'Internet': 357, 'Intraday': 358, 'Invest': 359, 'Investments': 360, 'Investors': 361, 'IoT': 362, 'Is': 363, 'Isn': 364, 'It': 365, 'Italian': 366, 'Italy': 367, 'JLPT': 368, 'January': 369, 'Japan': 370, 'Japanese': 371, 'Jeju': 372, 'Jeonbyeong': 373, 'Jjimjilbang': 374, 'Jongno': 375, 'July': 376, 'Jun': 377, 'June': 378, 'Just': 379, 'K': 380, 'KOSDAQ': 381, 'KST': 382, 'Kabsat': 383, 'Keep': 384, 'Kimchi': 385, 'Kindly': 386, 'Kingdom': 387, 'Know': 388, 'Knowing': 389, 'Kolkata': 390, 'Korea': 391, 'Korean': 392, 'Koreans': 393, 'Kuala': 394, 'LED': 395, 'Language': 396, 'Last': 397, 'Lastly': 398, 'Later': 399, 'Latest': 400, 'Law': 401, 'Learning': 402, 'Let': 403, 'Life': 404, 'Like': 405, 'Likewise': 406, 'Limited': 407, 'Listen': 408, 'Little': 409, 'Liverpool': 410, 'Loans': 411, 'Locust': 412, 'Log': 413, 'London': 414, 'Looking': 415, 'Losers': 416, 'Loss': 417, 'Lovely': 418, 'Low': 419, 'Luckily': 420, 'Lumpur': 421, 'M': 422, 'MAR': 423, 'MMS': 424, 'MOU': 425, 'Ma': 426, 'Madrid': 427, 'Mainly': 428, 'Maintaining': 429, 'Make': 430, 'Making': 431, 'Malaysia': 432, 'Management': 433, 'Manali': 434, 'Mandarin': 435, 'Manila': 436, 'Many': 437, 'Mapo': 438, 'Mapping': 439, 'March': 440, 'Marketing': 441, 'May': 442, 'Maybe': 443, 'Me': 444, 'Meaning': 445, 'Meanwhile': 446, 'Mechanical': 447, 'Media': 448, 'Medical': 449, 'Members': 450, 'Metaverse': 451, 'Michelin': 452, 'Minting': 453, 'Mobile': 454, 'Monday': 455, 'Month': 456, 'More': 457, 'Moreover': 458, 'Most': 459, 'Moving': 460, 'Mr': 461, 'Mrs': 462, 'Ms': 463, 'Music': 464, 'My': 465, 'Myanmar': 466, 'NFT': 467, 'NFTs': 468, 'NI': 469, 'NSE': 470, 'NTFS': 471, 'Naturally': 472, 'Needles': 473, 'Network': 474, 'Never': 475, 'New': 476, 'News': 477, 'Next': 478, 'Nigeria': 479, 'No': 480, 'Nobody': 481, 'Non': 482, 'None': 483, 'Normally': 484, 'North': 485, 'Not': 486, 'Noted': 487, 'Nothing': 488, 'November': 489, 'Now': 490, 'Nowadays': 491, 'OK': 492, 'OKK': 493, 'OS': 494, 'October': 495, 'Of': 496, 'Off': 497, 'Offering': 498, 'Office': 499, 'Officer': 500, 'Oh': 501, 'Ohio': 502, 'Ok': 503, 'Okay': 504, 'Omji': 505, 'On': 506, 'Once': 507, 'One': 508, 'Only': 509, 'Ontario': 510, 'Optimization': 511, 'Or': 512, 'Originally': 513, 'Others': 514, 'Otherwise': 515, 'Our': 516, 'Out': 517, 'Over': 518, 'Overall': 519, 'PDA': 520, 'PDF': 521, 'PM': 522, 'PPE': 523, 'PR': 524, 'PRO': 525, 'PSAs': 526, 'PVP': 527, 'Pakistan': 528, 'Palm': 529, 'Paper': 530, 'Paris': 531, 'Paying': 532, 'Payment': 533, 'Pelmeni': 534, 'People': 535, 'Perfect': 536, 'Perhaps': 537, 'Philippines': 538, 'Place': 539, 'Please': 540, 'Plenty': 541, 'Plummer': 542, 'Plus': 543, 'Pohang': 544, 'Pot': 545, 'Precisely': 546, 'Precision': 547, 'Predicting': 548, 'President': 549, 'Prices': 550, 'Private': 551, 'Probably': 552, 'Product': 553, 'Publishing': 554, 'Python': 555, 'QR': 556, 'Quality': 557, 'RAM': 558, 'RV': 559, 'Radio': 560, 'Recently': 561, 'Red': 562, 'Regarding': 563, 'Regardless': 564, 'Regrettably': 565, 'Resolution': 566, 'Rest': 567, 'Retailers': 568, 'Right': 569, 'Room': 570, 'SD': 571, 'SEO': 572, 'SIM': 573, 'SKUs': 574, 'SPV': 575, 'SSD': 576, 'SSL': 577, 'Sadly': 578, 'Saeng': 579, 'Sakyamuni': 580, 'Salalah': 581, 'San': 582, 'Sashimi': 583, 'Saturday': 584, 'Sauna': 585, 'Say': 586, 'Schools': 587, 'Search': 588, 'Second': 589, 'Security': 590, 'See': 591, 'Send': 592, 'Seoul': 593, 'September': 594, 'Series': 595, 'Services': 596, 'Several': 597, 'Shall': 598, 'Shampoo': 599, 'Shanghai': 600, 'She': 601, 'Shop': 602, 'Should': 603, 'Signals': 604, 'Signature': 605, 'Similar': 606, 'Simply': 607, 'Since': 608, 'Singapore': 609, 'Singaporean': 610, 'Sir': 611, 'Skim': 612, 'So': 613, 'Social': 614, 'Soju': 615, 'Solar': 616, 'Some': 617, 'Someone': 618, 'Something': 619, 'Sometimes': 620, 'Soon': 621, 'Sorry': 622, 'Sounds': 623, 'South': 624, 'Southeast': 625, 'Spain': 626, 'Spanish': 627, 'Speaking': 628, 'Specifically': 629, 'Springs': 630, 'Square': 631, 'Starting': 632, 'States': 633, 'Station': 634, 'Stay': 635, 'Staying': 636, 'Still': 637, 'Stock': 638, 'Street': 639, 'Stroganoff': 640, 'Submit': 641, 'Submitting': 642, 'Such': 643, 'Sudan': 644, 'Suez': 645, 'Suite': 646, 'Sun': 647, 'Sunday': 648, 'Sure': 649, 'TPU': 650, 'TV': 651, 'Taegeuk': 652, 'Taeguekgi': 653, 'Taiwan': 654, 'Take': 655, 'Task': 656, 'Team': 657, 'Tech': 658, 'Technical': 659, 'Technology': 660, 'Tell': 661, 'Temple': 662, 'Ten': 663, 'Thai': 664, 'Thailand': 665, 'Thank': 666, 'Thanks': 667, 'That': 668, 'The': 669, 'Their': 670, 'Then': 671, 'There': 672, 'Therefore': 673, 'These': 674, 'They': 675, 'Things': 676, 'Third': 677, 'Thirdly': 678, 'This': 679, 'Those': 680, 'Three': 681, 'Through': 682, 'Thursday': 683, 'Thursdays': 684, 'Thus': 685, 'Times': 686, 'To': 687, 'Today': 688, 'Tokens': 689, 'Tokyo': 690, 'Tong': 691, 'Tongdosa': 692, 'Topics': 693, 'Touch': 694, 'Trade': 695, 'Trust': 696, 'Truth': 697, 'Try': 698, 'Tuesday': 699, 'Turkish': 700, 'UI': 701, 'UN': 702, 'US': 703, 'USA': 704, 'USB': 705, 'USBs': 706, 'Ukraine': 707, 'Ulsan': 708, 'Ultimately': 709, 'Under': 710, 'Unfortunately': 711, 'United': 712, 'Universal': 713, 'University': 714, 'Unless': 715, 'Unlike': 716, 'Until': 717, 'Upon': 718, 'Users': 719, 'Using': 720, 'Usually': 721, 'VC': 722, 'VIP': 723, 'VPN': 724, 'VR': 725, 'VVIP': 726, 'Vacationing': 727, 'Various': 728, 'Vegetables': 729, 'Venezuela': 730, 'Very': 731, 'Vietnam': 732, 'View': 733, 'Virtual': 734, 'Visual': 735, 'Visualization': 736, 'WIFI': 737, 'WTO': 738, 'Wait': 739, 'Was': 740, 'We': 741, 'Webcasting': 742, 'Wednesday': 743, 'Welcome': 744, 'Well': 745, 'Were': 746, 'Weren': 747, 'What': 748, 'Whatever': 749, 'WhatsApp': 750, 'When': 751, 'Where': 752, 'Which': 753, 'While': 754, 'Who': 755, 'Whom': 756, 'Why': 757, 'Wi': 758, 'Will': 759, 'Wishing': 760, 'With': 761, 'Without': 762, 'Won': 763, 'Wonderful': 764, 'Wonju': 765, 'Would': 766, 'Wouldn': 767, 'Wow': 768, 'X': 769, 'Yeah': 770, 'Yebool': 771, 'Yellowknife': 772, 'Yes': 773, 'Yet': 774, 'York': 775, 'Yorkshire': 776, 'You': 777, 'Your': 778, 'Yukhoe': 779, 'Yup': 780, 'Zealand': 781, 'a': 782, 'abbreviation': 783, 'ability': 784, 'able': 785, 'about': 786, 'above': 787, 'abroad': 788, 'absent': 789, 'absolutely': 790, 'absorption': 791, 'academe': 792, 'academic': 793, 'accelerate': 794, 'accept': 795, 'acceptable': 796, 'acceptance': 797, 'accepted': 798, 'accepting': 799, 'access': 800, 'accessed': 801, 'accessibility': 802, 'accessible': 803, 'accessing': 804, 'accessories': 805, 'accidental': 806, 'accidentally': 807, 'accidents': 808, 'accommodate': 809, 'accommodating': 810, 'accommodation': 811, 'accommodations': 812, 'accomodating': 813, 'accomplish': 814, 'accomplished': 815, 'accordance': 816, 'according': 817, 'accordingly': 818, 'account': 819, 'accountancy': 820, 'accountant': 821, 'accounted': 822, 'accounting': 823, 'accounts': 824, 'accrual': 825, 'accumulated': 826, 'accuracy': 827, 'accurate': 828, 'accurately': 829, 'achieve': 830, 'achieved': 831, 'achievement': 832, 'achievements': 833, 'achieving': 834, 'acknowledge': 835, 'acne': 836, 'acoustic': 837, 'acoustics': 838, 'acquaint': 839, 'acquire': 840, 'acquired': 841, 'acquiring': 842, 'acquisition': 843, 'across': 844, 'act': 845, 'action': 846, 'actions': 847, 'activate': 848, 'activated': 849, 'active': 850, 'activities': 851, 'activity': 852, 'actors': 853, 'actual': 854, 'actualize': 855, 'actually': 856, 'acute': 857, 'ad': 858, 'adaptations': 859, 'adapter': 860, 'adaptive': 861, 'adaptor': 862, 'adaptors': 863, 'add': 864, 'added': 865, 'addendum': 866, 'adding': 867, 'addition': 868, 'additional': 869, 'address': 870, 'addressed': 871, 'addresses': 872, 'addressing': 873, 'adequately': 874, 'adhere': 875, 'adhesive': 876, 'adjust': 877, 'adjustable': 878, 'adjusted': 879, 'adjustment': 880, 'adjustments': 881, 'administration': 882, 'administrative': 883, 'administrators': 884, 'admission': 885, 'adopt': 886, 'ads': 887, 'adult': 888, 'adults': 889, 'advance': 890, 'advanced': 891, 'advancement': 892, 'advancing': 893, 'advantage': 894, 'advantageous': 895, 'advantages': 896, 'adventure': 897, 'advertise': 898, 'advertisement': 899, 'advertisements': 900, 'advertising': 901, 'adverts': 902, 'advice': 903, 'advisable': 904, 'advise': 905, 'advised': 906, 'advisers': 907, 'advises': 908, 'advisor': 909, 'advisory': 910, 'aesthetic': 911, 'affairs': 912, 'affect': 913, 'affected': 914, 'affecting': 915, 'affects': 916, 'affiliate': 917, 'affiliated': 918, 'affluent': 919, 'afford': 920, 'affordability': 921, 'affordable': 922, 'afloat': 923, 'aforementioned': 924, 'afraid': 925, 'after': 926, 'afternoon': 927, 'afterward': 928, 'again': 929, 'against': 930, 'age': 931, 'aged': 932, 'agencies': 933, 'agency': 934, 'agenda': 935, 'agent': 936, 'ages': 937, 'ago': 938, 'agree': 939, 'agreed': 940, 'agreeing': 941, 'agreement': 942, 'agrees': 943, 'agricultural': 944, 'agriculture': 945, 'ahead': 946, 'aid': 947, 'aids': 948, 'aim': 949, 'aims': 950, 'air': 951, 'aircraft': 952, 'airing': 953, 'airlines': 954, 'airport': 955, 'airports': 956, 'airtime': 957, 'alarm': 958, 'albeit': 959, 'album': 960, 'albums': 961, 'alcohol': 962, 'alcoholic': 963, 'alert': 964, 'algorithm': 965, 'algorithms': 966, 'aligned': 967, 'alkaline': 968, 'all': 969, 'allegations': 970, 'allergic': 971, 'allergies': 972, 'alliance': 973, 'allocate': 974, 'allocation': 975, 'allocations': 976, 'allow': 977, 'allowed': 978, 'allowing': 979, 'allows': 980, 'almost': 981, 'alone': 982, 'along': 983, 'already': 984, 'alright': 985, 'also': 986, 'alternative': 987, 'alternatives': 988, 'although': 989, 'aluminum': 990, 'always': 991, 'am': 992, 'amazing': 993, 'ambassador': 994, 'ambiance': 995, 'ambulation': 996, 'ambulatory': 997, 'amend': 998, 'amends': 999, 'amenities': 1000, 'amenity': 1001, 'among': 1002, 'amongst': 1003, 'amount': 1004, 'amounted': 1005, 'amounts': 1006, 'amplifier': 1007, 'amplify': 1008, 'an': 1009, 'analysis': 1010, 'analytics': 1011, 'analyze': 1012, 'analyzing': 1013, 'anchor': 1014, 'ancient': 1015, 'and': 1016, 'android': 1017, 'angel': 1018, 'angle': 1019, 'angry': 1020, 'animal': 1021, 'animated': 1022, 'animations': 1023, 'animators': 1024, 'ankle': 1025, 'anniversary': 1026, 'announce': 1027, 'announcement': 1028, 'announcements': 1029, 'announcers': 1030, 'annual': 1031, 'annually': 1032, 'annum': 1033, 'another': 1034, 'answer': 1035, 'answered': 1036, 'answering': 1037, 'antenna': 1038, 'antivirus': 1039, 'any': 1040, 'anybody': 1041, 'anymore': 1042, 'anyone': 1043, 'anything': 1044, 'anytime': 1045, 'anyway': 1046, 'anywhere': 1047, 'apart': 1048, 'apartment': 1049, 'apartments': 1050, 'apologies': 1051, 'apologize': 1052, 'apology': 1053, 'app': 1054, 'apparent': 1055, 'appeal': 1056, 'appealing': 1057, 'appeals': 1058, 'appear': 1059, 'appearance': 1060, 'appeared': 1061, 'appears': 1062, 'appended': 1063, 'appetizer': 1064, 'apple': 1065, 'appliances': 1066, 'applicable': 1067, 'application': 1068, 'applications': 1069, 'applied': 1070, 'applies': 1071, 'apply': 1072, 'applying': 1073, 'appointment': 1074, 'appraisal': 1075, 'appreciate': 1076, 'appreciated': 1077, 'appreciating': 1078, 'appreciation': 1079, 'approach': 1080, 'approached': 1081, 'appropriate': 1082, 'appropriately': 1083, 'approval': 1084, 'approve': 1085, 'approved': 1086, 'approximately': 1087, 'apps': 1088, 'aprtner': 1089, 'architectural': 1090, 'architecture': 1091, 'archives': 1092, 'are': 1093, 'area': 1094, 'areas': 1095, 'aren': 1096, 'arena': 1097, 'arises': 1098, 'aromatherapy': 1099, 'around': 1100, 'arrange': 1101, 'arranged': 1102, 'arrangement': 1103, 'arrangements': 1104, 'arranger': 1105, 'arrangers': 1106, 'arranging': 1107, 'array': 1108, 'arrival': 1109, 'arrive': 1110, 'arrived': 1111, 'arriving': 1112, 'art': 1113, 'article': 1114, 'articles': 1115, 'artificial': 1116, 'artillery': 1117, 'artist': 1118, 'artists': 1119, 'arts': 1120, 'artwork': 1121, 'artworks': 1122, 'as': 1123, 'asap': 1124, 'ashamed': 1125, 'aside': 1126, 'ask': 1127, 'asked': 1128, 'asking': 1129, 'asks': 1130, 'asleep': 1131, 'asparagus': 1132, 'aspect': 1133, 'aspects': 1134, 'asphalt': 1135, 'assembly': 1136, 'assessing': 1137, 'assessment': 1138, 'asset': 1139, 'assets': 1140, 'assign': 1141, 'assigned': 1142, 'assist': 1143, 'assistance': 1144, 'assistant': 1145, 'assisting': 1146, 'assistive': 1147, 'associate': 1148, 'associated': 1149, 'associates': 1150, 'association': 1151, 'assumed': 1152, 'assuming': 1153, 'assurance': 1154, 'assure': 1155, 'assured': 1156, 'assures': 1157, 'assuring': 1158, 'at': 1159, 'ate': 1160, 'atmosphere': 1161, 'attach': 1162, 'attached': 1163, 'attack': 1164, 'attacks': 1165, 'attain': 1166, 'attains': 1167, 'attempted': 1168, 'attend': 1169, 'attendance': 1170, 'attended': 1171, 'attending': 1172, 'attention': 1173, 'attest': 1174, 'attorney': 1175, 'attract': 1176, 'attracted': 1177, 'attributes': 1178, 'attrition': 1179, 'audience': 1180, 'audiences': 1181, 'audio': 1182, 'audiovisual': 1183, 'audit': 1184, 'audited': 1185, 'auditing': 1186, 'authentic': 1187, 'author': 1188, 'authored': 1189, 'authorities': 1190, 'authority': 1191, 'authorization': 1192, 'authorized': 1193, 'authors': 1194, 'auto': 1195, 'autobiographies': 1196, 'autoclave': 1197, 'automate': 1198, 'automated': 1199, 'automatic': 1200, 'automatically': 1201, 'automation': 1202, 'automobile': 1203, 'automotive': 1204, 'autumn': 1205, 'auxiliary': 1206, 'avail': 1207, 'availability': 1208, 'available': 1209, 'availed': 1210, 'availing': 1211, 'avenue': 1212, 'average': 1213, 'avoid': 1214, 'await': 1215, 'awake': 1216, 'awarded': 1217, 'aware': 1218, 'awareness': 1219, 'away': 1220, 'awesome': 1221, 'ay': 1222, 'babies': 1223, 'baby': 1224, 'back': 1225, 'backdrops': 1226, 'backers': 1227, 'background': 1228, 'backgrounds': 1229, 'backhoe': 1230, 'backing': 1231, 'backlinks': 1232, 'backlog': 1233, 'backup': 1234, 'backward': 1235, 'backyard': 1236, 'bacteria': 1237, 'bad': 1238, 'baffling': 1239, 'baker': 1240, 'bakery': 1241, 'baking': 1242, 'balance': 1243, 'ball': 1244, 'ballpark': 1245, 'bamboo': 1246, 'ban': 1247, 'banana': 1248, 'banchan': 1249, 'band': 1250, 'bands': 1251, 'bandwidth': 1252, 'bank': 1253, 'banker': 1254, 'banking': 1255, 'bankruptcy': 1256, 'banks': 1257, 'banner': 1258, 'banners': 1259, 'banquet': 1260, 'bar': 1261, 'barbecue': 1262, 'barbeque': 1263, 'bare': 1264, 'barely': 1265, 'bargain': 1266, 'barrier': 1267, 'bars': 1268, 'base': 1269, 'based': 1270, 'basement': 1271, 'basic': 1272, 'basically': 1273, 'basics': 1274, 'basis': 1275, 'bass': 1276, 'batch': 1277, 'bath': 1278, 'bathhouses': 1279, 'bathroom': 1280, 'bathrooms': 1281, 'baths': 1282, 'bathtub': 1283, 'batteries': 1284, 'battery': 1285, 'battling': 1286, 'bay': 1287, 'be': 1288, 'beach': 1289, 'beaches': 1290, 'beachside': 1291, 'beakers': 1292, 'beam': 1293, 'bean': 1294, 'bear': 1295, 'bearer': 1296, 'bearing': 1297, 'beats': 1298, 'beautiful': 1299, 'beauty': 1300, 'became': 1301, 'because': 1302, 'become': 1303, 'becomes': 1304, 'becoming': 1305, 'bed': 1306, 'bedroom': 1307, 'bedrooms': 1308, 'beds': 1309, 'beef': 1310, 'been': 1311, 'beeps': 1312, 'beer': 1313, 'before': 1314, 'beforehand': 1315, 'beg': 1316, 'began': 1317, 'begging': 1318, 'begin': 1319, 'beginning': 1320, 'behalf': 1321, 'behavior': 1322, 'behind': 1323, 'being': 1324, 'believe': 1325, 'believes': 1326, 'belly': 1327, 'belongs': 1328, 'below': 1329, 'belts': 1330, 'benchtop': 1331, 'bending': 1332, 'beneficial': 1333, 'beneficiaries': 1334, 'benefit': 1335, 'benefits': 1336, 'bento': 1337, 'berthing': 1338, 'beside': 1339, 'besides': 1340, 'best': 1341, 'bet': 1342, 'beta': 1343, 'better': 1344, 'between': 1345, 'bevel': 1346, 'beverage': 1347, 'beverages': 1348, 'beyond': 1349, 'biannual': 1350, 'bibimbap': 1351, 'bibimnaengmyun': 1352, 'bid': 1353, 'bidding': 1354, 'big': 1355, 'bigger': 1356, 'biggest': 1357, 'bikes': 1358, 'bill': 1359, 'billboards': 1360, 'billed': 1361, 'billing': 1362, 'billion': 1363, 'bills': 1364, 'bins': 1365, 'biodata': 1366, 'biodegradable': 1367, 'biometrics': 1368, 'bird': 1369, 'birds': 1370, 'birthday': 1371, 'biryani': 1372, 'biscuits': 1373, 'bistro': 1374, 'bit': 1375, 'bitcoin': 1376, 'bite': 1377, 'black': 1378, 'blackout': 1379, 'blades': 1380, 'blanks': 1381, 'blending': 1382, 'blends': 1383, 'blessed': 1384, 'blind': 1385, 'blinking': 1386, 'bliss': 1387, 'block': 1388, 'blockchain': 1389, 'blog': 1390, 'blood': 1391, 'blow': 1392, 'blown': 1393, 'blue': 1394, 'blueprint': 1395, 'blurry': 1396, 'board': 1397, 'boarding': 1398, 'boards': 1399, 'boats': 1400, 'bodies': 1401, 'body': 1402, 'bodysuit': 1403, 'bohemian': 1404, 'boiled': 1405, 'boiling': 1406, 'bokkeum': 1407, 'bold': 1408, 'bolder': 1409, 'bond': 1410, 'bonding': 1411, 'bonds': 1412, 'book': 1413, 'booked': 1414, 'booking': 1415, 'bookings': 1416, 'bookrunners': 1417, 'books': 1418, 'bookstores': 1419, 'boom': 1420, 'boost': 1421, 'booting': 1422, 'boots': 1423, 'border': 1424, 'bore': 1425, 'bored': 1426, 'boring': 1427, 'born': 1428, 'borrow': 1429, 'borrower': 1430, 'borrowing': 1431, 'boss': 1432, 'bot': 1433, 'both': 1434, 'bothering': 1435, 'bottle': 1436, 'bottles': 1437, 'bottom': 1438, 'bought': 1439, 'bow': 1440, 'bowl': 1441, 'bowls': 1442, 'box': 1443, 'boxes': 1444, 'boy': 1445, 'bragging': 1446, 'braille': 1447, 'brainstorm': 1448, 'brake': 1449, 'branch': 1450, 'branches': 1451, 'brand': 1452, 'branded': 1453, 'branding': 1454, 'brands': 1455, 'brave': 1456, 'breach': 1457, 'breached': 1458, 'breaches': 1459, 'bread': 1460, 'break': 1461, 'breakdown': 1462, 'breakdowns': 1463, 'breakeven': 1464, 'breakfast': 1465, 'breast': 1466, 'breathing': 1467, 'breathtaking': 1468, 'breeding': 1469, 'breeze': 1470, 'brewed': 1471, 'bride': 1472, 'bridge': 1473, 'brief': 1474, 'briefing': 1475, 'brilliant': 1476, 'bring': 1477, 'bringer': 1478, 'bringing': 1479, 'brings': 1480, 'broadband': 1481, 'broadcast': 1482, 'broadcasted': 1483, 'broadcasting': 1484, 'brochure': 1485, 'brochures': 1486, 'broken': 1487, 'broker': 1488, 'brokerage': 1489, 'brokerages': 1490, 'brokers': 1491, 'bronze': 1492, 'broth': 1493, 'brother': 1494, 'brought': 1495, 'browse': 1496, 'browser': 1497, 'browsers': 1498, 'browsing': 1499, 'bubble': 1500, 'bucks': 1501, 'budget': 1502, 'buffet': 1503, 'bug': 1504, 'bugs': 1505, 'build': 1506, 'building': 1507, 'builds': 1508, 'built': 1509, 'bulgogi': 1510, 'bulk': 1511, 'bull': 1512, 'bulldozer': 1513, 'bunch': 1514, 'bundle': 1515, 'burners': 1516, 'bus': 1517, 'buses': 1518, 'business': 1519, 'businesses': 1520, 'businessman': 1521, 'businesswoman': 1522, 'busy': 1523, 'but': 1524, 'butterfly': 1525, 'button': 1526, 'buttons': 1527, 'buy': 1528, 'buyer': 1529, 'buyers': 1530, 'buying': 1531, 'by': 1532, 'bye': 1533, 'bytes': 1534, 'cabin': 1535, 'cabinets': 1536, 'cable': 1537, 'caching': 1538, 'caf': 1539, 'cafe': 1540, 'cafeteria': 1541, 'cake': 1542, 'calculate': 1543, 'calculated': 1544, 'calculations': 1545, 'calendar': 1546, 'call': 1547, 'called': 1548, 'calligraphy': 1549, 'calling': 1550, 'calls': 1551, 'calm': 1552, 'calming': 1553, 'cam': 1554, 'came': 1555, 'camera': 1556, 'cameras': 1557, 'camp': 1558, 'campaign': 1559, 'campaigns': 1560, 'camper': 1561, 'campfire': 1562, 'campground': 1563, 'camping': 1564, 'campsite': 1565, 'campsites': 1566, 'campus': 1567, 'can': 1568, 'cancel': 1569, 'cancelation': 1570, 'cancelations': 1571, 'canceled': 1572, 'canceling': 1573, 'cancellation': 1574, 'cancellations': 1575, 'cancelled': 1576, 'candies': 1577, 'candles': 1578, 'cannot': 1579, 'canteen': 1580, 'cap': 1581, 'capable': 1582, 'capacity': 1583, 'capital': 1584, 'capitalists': 1585, 'capture': 1586, 'capturing': 1587, 'car': 1588, 'carbon': 1589, 'carburetor': 1590, 'carburetors': 1591, 'card': 1592, 'cardiac': 1593, 'cards': 1594, 'care': 1595, 'career': 1596, 'careers': 1597, 'careful': 1598, 'carefully': 1599, 'cargo': 1600, 'carpeted': 1601, 'carried': 1602, 'carrier': 1603, 'carrot': 1604, 'carry': 1605, 'carrying': 1606, 'cars': 1607, 'cart': 1608, 'carton': 1609, 'cartoon': 1610, 'carts': 1611, 'case': 1612, 'cases': 1613, 'cash': 1614, 'cashier': 1615, 'cashless': 1616, 'casino': 1617, 'cast': 1618, 'casual': 1619, 'casualties': 1620, 'cat': 1621, 'catalog': 1622, 'catalogue': 1623, 'catastrophe': 1624, 'catch': 1625, 'categories': 1626, 'category': 1627, 'cater': 1628, 'caterers': 1629, 'catering': 1630, 'caterpillar': 1631, 'caught': 1632, 'cause': 1633, 'caused': 1634, 'causes': 1635, 'causing': 1636, 'cautious': 1637, 'cautiously': 1638, 'ceiling': 1639, 'ceilings': 1640, 'celebrate': 1641, 'celebration': 1642, 'celebrities': 1643, 'celebrity': 1644, 'celeriac': 1645, 'cell': 1646, 'center': 1647, 'centers': 1648, 'centimeter': 1649, 'centrifugal': 1650, 'centrifuge': 1651, 'centrifuges': 1652, 'cents': 1653, 'century': 1654, 'ceremonies': 1655, 'ceremony': 1656, 'certain': 1657, 'certainly': 1658, 'certificate': 1659, 'certificates': 1660, 'certification': 1661, 'certified': 1662, 'chain': 1663, 'chair': 1664, 'chairman': 1665, 'chairs': 1666, 'challenge': 1667, 'challenged': 1668, 'challenges': 1669, 'challenging': 1670, 'chamber': 1671, 'champagne': 1672, 'chance': 1673, 'chances': 1674, 'change': 1675, 'changed': 1676, 'changes': 1677, 'changing': 1678, 'channel': 1679, 'channels': 1680, 'chapbooks': 1681, 'characteristics': 1682, 'characters': 1683, 'charcoal': 1684, 'charge': 1685, 'charged': 1686, 'charger': 1687, 'charges': 1688, 'charging': 1689, 'charitable': 1690, 'charity': 1691, 'charm': 1692, 'chart': 1693, 'chasing': 1694, 'chat': 1695, 'chatroom': 1696, 'cheap': 1697, 'cheaper': 1698, 'cheapest': 1699, 'check': 1700, 'checked': 1701, 'checking': 1702, 'checklist': 1703, 'checkout': 1704, 'checks': 1705, 'checkup': 1706, 'cheerful': 1707, 'cheers': 1708, 'cheesecakes': 1709, 'chef': 1710, 'chefs': 1711, 'chemistry': 1712, 'cheque': 1713, 'chew': 1714, 'chicken': 1715, 'child': 1716, 'childhood': 1717, 'children': 1718, 'chili': 1719, 'chill': 1720, 'chilled': 1721, 'chimaek': 1722, 'chip': 1723, 'chips': 1724, 'chipsets': 1725, 'chitchat': 1726, 'chocolate': 1727, 'choice': 1728, 'choices': 1729, 'choose': 1730, 'choosing': 1731, 'chopstick': 1732, 'chopsticks': 1733, 'chores': 1734, 'chose': 1735, 'chosen': 1736, 'ciphertext': 1737, 'circuits': 1738, 'circulation': 1739, 'circumstance': 1740, 'circumstances': 1741, 'cities': 1742, 'citizen': 1743, 'citizens': 1744, 'citizenship': 1745, 'city': 1746, 'civil': 1747, 'claim': 1748, 'claiming': 1749, 'claims': 1750, 'clarify': 1751, 'clarifying': 1752, 'clarity': 1753, 'class': 1754, 'classes': 1755, 'classification': 1756, 'classmates': 1757, 'classroom': 1758, 'classrooms': 1759, 'clauses': 1760, 'clean': 1761, 'cleaner': 1762, 'cleaners': 1763, 'cleaning': 1764, 'cleansing': 1765, 'clear': 1766, 'clearance': 1767, 'cleared': 1768, 'clearer': 1769, 'clearly': 1770, 'clerk': 1771, 'clever': 1772, 'click': 1773, 'client': 1774, 'clientele': 1775, 'clients': 1776, 'climate': 1777, 'clinic': 1778, 'clinical': 1779, 'clip': 1780, 'clips': 1781, 'clock': 1782, 'clogged': 1783, 'close': 1784, 'closed': 1785, 'closely': 1786, 'closer': 1787, 'closes': 1788, 'closest': 1789, 'closet': 1790, 'closing': 1791, 'clothes': 1792, 'clothing': 1793, 'cloud': 1794, 'clouds': 1795, 'clubhouse': 1796, 'cluster': 1797, 'co': 1798, 'coach': 1799, 'coaches': 1800, 'coaching': 1801, 'coarrangers': 1802, 'coastal': 1803, 'cocks': 1804, 'cocktails': 1805, 'coconut': 1806, 'code': 1807, 'codebreaker': 1808, 'codes': 1809, 'coding': 1810, 'coffee': 1811, 'cogent': 1812, 'coins': 1813, 'cold': 1814, 'coliving': 1815, 'collaborate': 1816, 'collaborating': 1817, 'collaboration': 1818, 'collar': 1819, 'collateral': 1820, 'colleague': 1821, 'colleagues': 1822, 'collect': 1823, 'collectibles': 1824, 'collecting': 1825, 'collection': 1826, 'collective': 1827, 'collects': 1828, 'college': 1829, 'colleges': 1830, 'color': 1831, 'colored': 1832, 'colors': 1833, 'column': 1834, 'combination': 1835, 'combinations': 1836, 'combine': 1837, 'combustion': 1838, 'come': 1839, 'comes': 1840, 'comfort': 1841, 'comfortable': 1842, 'comfortably': 1843, 'coming': 1844, 'comm': 1845, 'commemorative': 1846, 'comment': 1847, 'comments': 1848, 'commerce': 1849, 'commercial': 1850, 'commission': 1851, 'commissioned': 1852, 'commissions': 1853, 'commit': 1854, 'commitment': 1855, 'commitments': 1856, 'committed': 1857, 'commodity': 1858, 'common': 1859, 'commonly': 1860, 'communal': 1861, 'communicate': 1862, 'communicated': 1863, 'communicating': 1864, 'communication': 1865, 'communications': 1866, 'communicative': 1867, 'communicator': 1868, 'communities': 1869, 'community': 1870, 'commuting': 1871, 'companies': 1872, 'company': 1873, 'compare': 1874, 'compared': 1875, 'comparison': 1876, 'compartments': 1877, 'compassionate': 1878, 'compatible': 1879, 'compelling': 1880, 'compensate': 1881, 'compensated': 1882, 'compensation': 1883, 'compete': 1884, 'competition': 1885, 'competitive': 1886, 'competitiveness': 1887, 'competitors': 1888, 'compiling': 1889, 'complain': 1890, 'complained': 1891, 'complaining': 1892, 'complaint': 1893, 'complaints': 1894, 'complete': 1895, 'completed': 1896, 'completely': 1897, 'completion': 1898, 'complex': 1899, 'compliance': 1900, 'complicated': 1901, 'complied': 1902, 'compliment': 1903, 'complimentary': 1904, 'compliments': 1905, 'comply': 1906, 'component': 1907, 'components': 1908, 'composed': 1909, 'composer': 1910, 'compound': 1911, 'comprehension': 1912, 'comprehensive': 1913, 'compressed': 1914, 'compression': 1915, 'compressor': 1916, 'compressors': 1917, 'compromise': 1918, 'compromising': 1919, 'computer': 1920, 'computers': 1921, 'computing': 1922, 'concentrate': 1923, 'concept': 1924, 'concepts': 1925, 'conceptual': 1926, 'concern': 1927, 'concerned': 1928, 'concerning': 1929, 'concerns': 1930, 'concert': 1931, 'concerts': 1932, 'concessions': 1933, 'conclusion': 1934, 'concrete': 1935, 'concretely': 1936, 'condenser': 1937, 'condiments': 1938, 'condition': 1939, 'conditioned': 1940, 'conditioner': 1941, 'conditioning': 1942, 'conditions': 1943, 'condo': 1944, 'conduct': 1945, 'conducted': 1946, 'conducting': 1947, 'conductors': 1948, 'conference': 1949, 'conferences': 1950, 'conferencing': 1951, 'confidence': 1952, 'confident': 1953, 'confidential': 1954, 'confidentiality': 1955, 'configurations': 1956, 'configure': 1957, 'confirm': 1958, 'confirmation': 1959, 'confirmed': 1960, 'confirming': 1961, 'confused': 1962, 'congested': 1963, 'congestion': 1964, 'congrats': 1965, 'congratulate': 1966, 'congratulations': 1967, 'connect': 1968, 'connected': 1969, 'connecting': 1970, 'connection': 1971, 'connections': 1972, 'connectivity': 1973, 'connects': 1974, 'cons': 1975, 'conscientious': 1976, 'conscious': 1977, 'consciousness': 1978, 'consequences': 1979, 'consider': 1980, 'considerable': 1981, 'consideration': 1982, 'considered': 1983, 'considering': 1984, 'consignment': 1985, 'consist': 1986, 'consistent': 1987, 'consists': 1988, 'consoles': 1989, 'consolidate': 1990, 'constant': 1991, 'constantly': 1992, 'construct': 1993, 'constructed': 1994, 'construction': 1995, 'constructive': 1996, 'consult': 1997, 'consultancy': 1998, 'consultant': 1999, 'consultants': 2000, 'consultation': 2001, 'consulted': 2002, 'consulting': 2003, 'consume': 2004, 'consumers': 2005, 'consuming': 2006, 'consumption': 2007, 'contact': 2008, 'contacted': 2009, 'contacting': 2010, 'contacts': 2011, 'contain': 2012, 'container': 2013, 'containers': 2014, 'containing': 2015, 'contains': 2016, 'contemplate': 2017, 'contemporary': 2018, 'contenders': 2019, 'content': 2020, 'contents': 2021, 'context': 2022, 'continent': 2023, 'continental': 2024, 'continue': 2025, 'continuous': 2026, 'continuously': 2027, 'contract': 2028, 'contracted': 2029, 'contracts': 2030, 'contrary': 2031, 'contribute': 2032, 'contributed': 2033, 'contributes': 2034, 'contribution': 2035, 'contributors': 2036, 'control': 2037, 'controlled': 2038, 'controversial': 2039, 'convenience': 2040, 'convenient': 2041, 'conventional': 2042, 'conversation': 2043, 'conversational': 2044, 'conversations': 2045, 'conversion': 2046, 'conversions': 2047, 'converted': 2048, 'converting': 2049, 'convey': 2050, 'conveyor': 2051, 'conveyors': 2052, 'convince': 2053, 'convincing': 2054, 'cook': 2055, 'cooked': 2056, 'cookies': 2057, 'cooking': 2058, 'cooks': 2059, 'cool': 2060, 'cooldown': 2061, 'coolers': 2062, 'cooling': 2063, 'cooperation': 2064, 'cooperative': 2065, 'cooperatives': 2066, 'coordinate': 2067, 'coordinates': 2068, 'copay': 2069, 'copiers': 2070, 'copies': 2071, 'copy': 2072, 'copyediting': 2073, 'copyright': 2074, 'copyrighted': 2075, 'copyrights': 2076, 'cords': 2077, 'core': 2078, 'corkage': 2079, 'corn': 2080, 'corner': 2081, 'coronavirus': 2082, 'corporate': 2083, 'corporation': 2084, 'corporations': 2085, 'correct': 2086, 'correctly': 2087, 'cosigner': 2088, 'cosmetic': 2089, 'cosmetics': 2090, 'cosmic': 2091, 'cost': 2092, 'costs': 2093, 'cotton': 2094, 'could': 2095, 'couldn': 2096, 'council': 2097, 'counseling': 2098, 'count': 2099, 'countdown': 2100, 'counterpart': 2101, 'counting': 2102, 'countries': 2103, 'country': 2104, 'countryside': 2105, 'couple': 2106, 'coupled': 2107, 'coupon': 2108, 'courier': 2109, 'course': 2110, 'coursed': 2111, 'courses': 2112, 'court': 2113, 'cousin': 2114, 'cover': 2115, 'coverage': 2116, 'covered': 2117, 'covers': 2118, 'cozy': 2119, 'crab': 2120, 'cracks': 2121, 'crane': 2122, 'cranes': 2123, 'crash': 2124, 'crashed': 2125, 'crashing': 2126, 'cream': 2127, 'create': 2128, 'created': 2129, 'creates': 2130, 'creating': 2131, 'creation': 2132, 'creative': 2133, 'creatives': 2134, 'creator': 2135, 'creators': 2136, 'credentials': 2137, 'credit': 2138, 'credited': 2139, 'creditor': 2140, 'creditors': 2141, 'credits': 2142, 'creditworthy': 2143, 'crib': 2144, 'crime': 2145, 'crimes': 2146, 'criminals': 2147, 'criteria': 2148, 'critical': 2149, 'critics': 2150, 'croissants': 2151, 'crooks': 2152, 'crop': 2153, 'crops': 2154, 'cross': 2155, 'crossed': 2156, 'crowd': 2157, 'crowdfunding': 2158, 'crucial': 2159, 'crude': 2160, 'crux': 2161, 'crypto': 2162, 'cryptocurrencies': 2163, 'cryptocurrency': 2164, 'cryptography': 2165, 'cues': 2166, 'cuisine': 2167, 'culinary': 2168, 'culprits': 2169, 'cultivating': 2170, 'cultural': 2171, 'culture': 2172, 'cumbersome': 2173, 'cup': 2174, 'curious': 2175, 'currencies': 2176, 'currency': 2177, 'current': 2178, 'currently': 2179, 'cursive': 2180, 'curtains': 2181, 'curve': 2182, 'cushion': 2183, 'custom': 2184, 'customer': 2185, 'customers': 2186, 'customizable': 2187, 'customization': 2188, 'customize': 2189, 'customized': 2190, 'customs': 2191, 'cut': 2192, 'cutlery': 2193, 'cuts': 2194, 'cutter': 2195, 'cutters': 2196, 'cutting': 2197, 'cyber': 2198, 'cybercrime': 2199, 'cybersecurity': 2200, 'cycle': 2201, 'cylinder': 2202, 'cylinders': 2203, 'd': 2204, 'daily': 2205, 'dairy': 2206, 'damage': 2207, 'damaged': 2208, 'damages': 2209, 'dancing': 2210, 'dangerous': 2211, 'dangers': 2212, 'dark': 2213, 'data': 2214, 'database': 2215, 'date': 2216, 'dated': 2217, 'dates': 2218, 'dating': 2219, 'daunting': 2220, 'day': 2221, 'days': 2222, 'deadline': 2223, 'deadlines': 2224, 'deaf': 2225, 'deal': 2226, 'dealer': 2227, 'dealers': 2228, 'dealership': 2229, 'dealing': 2230, 'deals': 2231, 'debit': 2232, 'debt': 2233, 'debtee': 2234, 'debtor': 2235, 'debtors': 2236, 'debts': 2237, 'debut': 2238, 'decade': 2239, 'decades': 2240, 'decent': 2241, 'decide': 2242, 'decided': 2243, 'decides': 2244, 'deciding': 2245, 'decision': 2246, 'decisions': 2247, 'deck': 2248, 'decks': 2249, 'declare': 2250, 'decline': 2251, 'declined': 2252, 'declining': 2253, 'decode': 2254, 'decorate': 2255, 'decorations': 2256, 'decrease': 2257, 'decryption': 2258, 'dedicate': 2259, 'dedicated': 2260, 'deduct': 2261, 'deducted': 2262, 'deducting': 2263, 'deeds': 2264, 'deep': 2265, 'deeply': 2266, 'default': 2267, 'defaulter': 2268, 'defect': 2269, 'defective': 2270, 'defects': 2271, 'defense': 2272, 'deficit': 2273, 'deficits': 2274, 'defined': 2275, 'definite': 2276, 'definitely': 2277, 'definition': 2278, 'degree': 2279, 'dehydration': 2280, 'delay': 2281, 'delayed': 2282, 'delays': 2283, 'delegates': 2284, 'delete': 2285, 'deleted': 2286, 'delicious': 2287, 'delight': 2288, 'delighted': 2289, 'delightful': 2290, 'delineates': 2291, 'deliver': 2292, 'delivered': 2293, 'deliveries': 2294, 'delivering': 2295, 'delivers': 2296, 'delivery': 2297, 'deluxe': 2298, 'demand': 2299, 'demanded': 2300, 'demanding': 2301, 'demands': 2302, 'demat': 2303, 'demerits': 2304, 'demographics': 2305, 'demonstration': 2306, 'demos': 2307, 'dental': 2308, 'deny': 2309, 'department': 2310, 'departments': 2311, 'depend': 2312, 'dependable': 2313, 'dependents': 2314, 'depending': 2315, 'depends': 2316, 'deploy': 2317, 'deployment': 2318, 'deposit': 2319, 'deposited': 2320, 'depositing': 2321, 'deposits': 2322, 'derrick': 2323, 'describe': 2324, 'description': 2325, 'descriptions': 2326, 'deserve': 2327, 'design': 2328, 'designation': 2329, 'designed': 2330, 'designer': 2331, 'designers': 2332, 'designs': 2333, 'desire': 2334, 'desired': 2335, 'desk': 2336, 'desktop': 2337, 'desperately': 2338, 'despite': 2339, 'dessert': 2340, 'desserts': 2341, 'destination': 2342, 'destinations': 2343, 'destroys': 2344, 'detail': 2345, 'detailed': 2346, 'detailing': 2347, 'details': 2348, 'detected': 2349, 'detects': 2350, 'determine': 2351, 'determined': 2352, 'determines': 2353, 'determining': 2354, 'develop': 2355, 'developed': 2356, 'developer': 2357, 'developers': 2358, 'developing': 2359, 'development': 2360, 'developments': 2361, 'develops': 2362, 'deviate': 2363, 'device': 2364, 'devices': 2365, 'devoted': 2366, 'devoting': 2367, 'diagnosis': 2368, 'diagnostics': 2369, 'dial': 2370, 'dialed': 2371, 'diameter': 2372, 'did': 2373, 'didn': 2374, 'diesel': 2375, 'diet': 2376, 'dietary': 2377, 'differ': 2378, 'difference': 2379, 'differences': 2380, 'different': 2381, 'differentiates': 2382, 'differently': 2383, 'difficult': 2384, 'difficulties': 2385, 'difficulty': 2386, 'digital': 2387, 'digitalize': 2388, 'digits': 2389, 'diligence': 2390, 'diligently': 2391, 'dimension': 2392, 'dimensions': 2393, 'dine': 2394, 'dining': 2395, 'dinner': 2396, 'dinning': 2397, 'dip': 2398, 'diplomas': 2399, 'dipped': 2400, 'direct': 2401, 'directed': 2402, 'direction': 2403, 'directly': 2404, 'director': 2405, 'directors': 2406, 'disabilities': 2407, 'disabled': 2408, 'disagree': 2409, 'disappointed': 2410, 'disappointment': 2411, 'disaster': 2412, 'disasters': 2413, 'disc': 2414, 'discount': 2415, 'discounted': 2416, 'discounts': 2417, 'discover': 2418, 'discovered': 2419, 'discovery': 2420, 'discrepancies': 2421, 'discuss': 2422, 'discussed': 2423, 'discussing': 2424, 'discussion': 2425, 'discussions': 2426, 'disease': 2427, 'diseases': 2428, 'dish': 2429, 'dishe': 2430, 'dishes': 2431, 'dismantle': 2432, 'dispatch': 2433, 'dispatched': 2434, 'dispatching': 2435, 'dispersing': 2436, 'display': 2437, 'displayed': 2438, 'displaying': 2439, 'disposal': 2440, 'disputes': 2441, 'disruption': 2442, 'distance': 2443, 'distinct': 2444, 'distinction': 2445, 'distinguish': 2446, 'distract': 2447, 'distress': 2448, 'distribute': 2449, 'distributed': 2450, 'distributing': 2451, 'distribution': 2452, 'distributor': 2453, 'distributorship': 2454, 'district': 2455, 'disturb': 2456, 'disturbed': 2457, 'disturbing': 2458, 'diverse': 2459, 'diversify': 2460, 'diversity': 2461, 'diverting': 2462, 'divide': 2463, 'divided': 2464, 'dividend': 2465, 'division': 2466, 'do': 2467, 'doable': 2468, 'doctor': 2469, 'doctors': 2470, 'document': 2471, 'documentaries': 2472, 'documentary': 2473, 'documentation': 2474, 'documenting': 2475, 'documents': 2476, 'does': 2477, 'doesn': 2478, 'dog': 2479, 'dogs': 2480, 'doing': 2481, 'doings': 2482, 'doljanchi': 2483, 'dollar': 2484, 'dollars': 2485, 'domain': 2486, 'dome': 2487, 'domestic': 2488, 'don': 2489, 'donate': 2490, 'donation': 2491, 'donations': 2492, 'done': 2493, 'donut': 2494, 'door': 2495, 'doors': 2496, 'dorm': 2497, 'dormitory': 2498, 'dosirak': 2499, 'double': 2500, 'doubled': 2501, 'doubt': 2502, 'doubts': 2503, 'down': 2504, 'downhill': 2505, 'download': 2506, 'downloaded': 2507, 'downpayment': 2508, 'downs': 2509, 'downside': 2510, 'downtown': 2511, 'downturn': 2512, 'dozers': 2513, 'draft': 2514, 'drafted': 2515, 'drafting': 2516, 'drafts': 2517, 'drain': 2518, 'dramas': 2519, 'dramatically': 2520, 'draw': 2521, 'drawer': 2522, 'drawing': 2523, 'drawings': 2524, 'draws': 2525, 'dress': 2526, 'dressers': 2527, 'dressing': 2528, 'drilling': 2529, 'drink': 2530, 'drinking': 2531, 'drinks': 2532, 'drive': 2533, 'driven': 2534, 'driver': 2535, 'drivers': 2536, 'driving': 2537, 'drop': 2538, 'dropped': 2539, 'dropping': 2540, 'drops': 2541, 'drug': 2542, 'drum': 2543, 'dry': 2544, 'dryer': 2545, 'dual': 2546, 'dude': 2547, 'due': 2548, 'duly': 2549, 'dump': 2550, 'dumpling': 2551, 'duplicate': 2552, 'durable': 2553, 'duration': 2554, 'during': 2555, 'dust': 2556, 'duties': 2557, 'duty': 2558, 'dyeing': 2559, 'dying': 2560, 'e': 2561, 'each': 2562, 'eager': 2563, 'eagerly': 2564, 'earlier': 2565, 'earliest': 2566, 'early': 2567, 'earn': 2568, 'earnings': 2569, 'ears': 2570, 'earth': 2571, 'ease': 2572, 'eased': 2573, 'easier': 2574, 'easiest': 2575, 'easily': 2576, 'easing': 2577, 'easy': 2578, 'eat': 2579, 'eaten': 2580, 'eating': 2581, 'echo': 2582, 'eclectic': 2583, 'eco': 2584, 'economy': 2585, 'ecstatic': 2586, 'edge': 2587, 'edit': 2588, 'edited': 2589, 'editing': 2590, 'edition': 2591, 'editorial': 2592, 'editors': 2593, 'educate': 2594, 'educated': 2595, 'educating': 2596, 'education': 2597, 'educational': 2598, 'edutainment': 2599, 'effect': 2600, 'effective': 2601, 'effectively': 2602, 'effectiveness': 2603, 'effects': 2604, 'efficiency': 2605, 'efficient': 2606, 'efficiently': 2607, 'effort': 2608, 'efforts': 2609, 'egg': 2610, 'eggs': 2611, 'eight': 2612, 'either': 2613, 'ejection': 2614, 'elaborate': 2615, 'elder': 2616, 'elders': 2617, 'eldest': 2618, 'electric': 2619, 'electrical': 2620, 'electricity': 2621, 'electro': 2622, 'electroencephalography': 2623, 'electromagnetic': 2624, 'electronic': 2625, 'electronically': 2626, 'electronics': 2627, 'elegant': 2628, 'element': 2629, 'elements': 2630, 'elevated': 2631, 'eligibility': 2632, 'eligible': 2633, 'eliminate': 2634, 'elliptical': 2635, 'else': 2636, 'elsewhere': 2637, 'email': 2638, 'emailed': 2639, 'emailing': 2640, 'emails': 2641, 'embarrassed': 2642, 'embody': 2643, 'embossing': 2644, 'embroidery': 2645, 'emergencies': 2646, 'emergency': 2647, 'emerging': 2648, 'emotions': 2649, 'emphasis': 2650, 'employ': 2651, 'employed': 2652, 'employee': 2653, 'employees': 2654, 'employers': 2655, 'employing': 2656, 'empty': 2657, 'emulsion': 2658, 'enable': 2659, 'enabled': 2660, 'enables': 2661, 'encapsulation': 2662, 'encoded': 2663, 'encounter': 2664, 'encountered': 2665, 'encourage': 2666, 'encourages': 2667, 'encrypt': 2668, 'encrypted': 2669, 'encryption': 2670, 'end': 2671, 'endangering': 2672, 'ended': 2673, 'ending': 2674, 'ends': 2675, 'energy': 2676, 'enforce': 2677, 'enforced': 2678, 'enforcements': 2679, 'engage': 2680, 'engaged': 2681, 'engagements': 2682, 'engaging': 2683, 'engine': 2684, 'engineer': 2685, 'engineering': 2686, 'engineers': 2687, 'engines': 2688, 'enhance': 2689, 'enhanced': 2690, 'enhancement': 2691, 'enhances': 2692, 'enjoy': 2693, 'enjoyed': 2694, 'enjoying': 2695, 'enlighten': 2696, 'enlist': 2697, 'enormously': 2698, 'enough': 2699, 'enquire': 2700, 'enroll': 2701, 'enrolled': 2702, 'ensure': 2703, 'ensured': 2704, 'ensures': 2705, 'entail': 2706, 'enter': 2707, 'entered': 2708, 'entering': 2709, 'enterprise': 2710, 'enterprises': 2711, 'enters': 2712, 'entertain': 2713, 'entertained': 2714, 'entertaining': 2715, 'entertainment': 2716, 'entire': 2717, 'entirely': 2718, 'entitled': 2719, 'entity': 2720, 'entrance': 2721, 'entree': 2722, 'entrees': 2723, 'entrepreneur': 2724, 'entrepreneurship': 2725, 'entries': 2726, 'environment': 2727, 'environmental': 2728, 'environments': 2729, 'episode': 2730, 'episodes': 2731, 'equal': 2732, 'equals': 2733, 'equipment': 2734, 'equipments': 2735, 'equipped': 2736, 'equity': 2737, 'equivalent': 2738, 'erased': 2739, 'erecting': 2740, 'error': 2741, 'errors': 2742, 'escalated': 2743, 'escaping': 2744, 'especially': 2745, 'essential': 2746, 'essentially': 2747, 'establish': 2748, 'established': 2749, 'establishing': 2750, 'establishment': 2751, 'establishments': 2752, 'estate': 2753, 'estimate': 2754, 'estimated': 2755, 'estimates': 2756, 'etc': 2757, 'ethical': 2758, 'etiquette': 2759, 'evacuation': 2760, 'evading': 2761, 'evaluate': 2762, 'evaluated': 2763, 'evaluating': 2764, 'evaluation': 2765, 'evaporator': 2766, 'evasion': 2767, 'even': 2768, 'evening': 2769, 'event': 2770, 'events': 2771, 'eventuality': 2772, 'eventually': 2773, 'ever': 2774, 'every': 2775, 'everyday': 2776, 'everyone': 2777, 'everything': 2778, 'evidence': 2779, 'evidentiary': 2780, 'evil': 2781, 'evolution': 2782, 'evolved': 2783, 'evolving': 2784, 'exact': 2785, 'exactly': 2786, 'exam': 2787, 'examined': 2788, 'example': 2789, 'examples': 2790, 'exams': 2791, 'excavator': 2792, 'excavators': 2793, 'exceeded': 2794, 'exceeds': 2795, 'excellent': 2796, 'except': 2797, 'exceptional': 2798, 'excess': 2799, 'exchange': 2800, 'exchanges': 2801, 'exchanging': 2802, 'excited': 2803, 'exciting': 2804, 'exclude': 2805, 'excluding': 2806, 'exclusive': 2807, 'exclusively': 2808, 'excuse': 2809, 'excused': 2810, 'excuses': 2811, 'execute': 2812, 'executes': 2813, 'execution': 2814, 'executive': 2815, 'executives': 2816, 'executor': 2817, 'exerting': 2818, 'exhausted': 2819, 'exhibit': 2820, 'exhibition': 2821, 'exihibit': 2822, 'exist': 2823, 'existing': 2824, 'exit': 2825, 'exotic': 2826, 'expand': 2827, 'expandable': 2828, 'expanded': 2829, 'expanding': 2830, 'expansion': 2831, 'expat': 2832, 'expect': 2833, 'expectations': 2834, 'expected': 2835, 'expecting': 2836, 'expedition': 2837, 'expenditure': 2838, 'expenditures': 2839, 'expense': 2840, 'expenses': 2841, 'expensive': 2842, 'experience': 2843, 'experienced': 2844, 'experiences': 2845, 'experiencing': 2846, 'experimental': 2847, 'expert': 2848, 'expertise': 2849, 'experts': 2850, 'expire': 2851, 'expires': 2852, 'explain': 2853, 'explained': 2854, 'explaining': 2855, 'explains': 2856, 'explanation': 2857, 'explanations': 2858, 'exploration': 2859, 'explore': 2860, 'expo': 2861, 'export': 2862, 'exported': 2863, 'exporter': 2864, 'exporting': 2865, 'exports': 2866, 'exposes': 2867, 'exposure': 2868, 'express': 2869, 'expressions': 2870, 'exquisite': 2871, 'extend': 2872, 'extended': 2873, 'extender': 2874, 'extenders': 2875, 'extending': 2876, 'extends': 2877, 'extension': 2878, 'extensive': 2879, 'exterior': 2880, 'external': 2881, 'externally': 2882, 'extra': 2883, 'extract': 2884, 'extraction': 2885, 'extracts': 2886, 'extremely': 2887, 'extruder': 2888, 'extruders': 2889, 'eye': 2890, 'eyes': 2891, 'fabric': 2892, 'fabrication': 2893, 'face': 2894, 'faced': 2895, 'faces': 2896, 'facial': 2897, 'facilitate': 2898, 'facilities': 2899, 'facility': 2900, 'facing': 2901, 'fact': 2902, 'factor': 2903, 'factors': 2904, 'factory': 2905, 'factual': 2906, 'factually': 2907, 'faculty': 2908, 'fail': 2909, 'failed': 2910, 'fails': 2911, 'failure': 2912, 'fair': 2913, 'fairly': 2914, 'fall': 2915, 'fallen': 2916, 'falling': 2917, 'fallout': 2918, 'falls': 2919, 'familiar': 2920, 'families': 2921, 'family': 2922, 'famous': 2923, 'fan': 2924, 'fanbase': 2925, 'fancy': 2926, 'fans': 2927, 'fantastic': 2928, 'far': 2929, 'fare': 2930, 'farm': 2931, 'farmers': 2932, 'farthest': 2933, 'fascinating': 2934, 'fashion': 2935, 'fast': 2936, 'fasteners': 2937, 'faster': 2938, 'fastest': 2939, 'fat': 2940, 'father': 2941, 'fault': 2942, 'faulty': 2943, 'favor': 2944, 'favorable': 2945, 'favorite': 2946, 'favorites': 2947, 'favoritism': 2948, 'fax': 2949, 'fear': 2950, 'feasibility': 2951, 'feasible': 2952, 'feature': 2953, 'featured': 2954, 'features': 2955, 'featuring': 2956, 'fee': 2957, 'feeble': 2958, 'feedback': 2959, 'feel': 2960, 'feeling': 2961, 'feelings': 2962, 'feels': 2963, 'fees': 2964, 'feet': 2965, 'fellow': 2966, 'female': 2967, 'fertilizing': 2968, 'fetch': 2969, 'few': 2970, 'fiat': 2971, 'fiber': 2972, 'fibers': 2973, 'fibrous': 2974, 'fiction': 2975, 'field': 2976, 'fields': 2977, 'figurative': 2978, 'figures': 2979, 'file': 2980, 'filed': 2981, 'files': 2982, 'filing': 2983, 'fill': 2984, 'filled': 2985, 'filling': 2986, 'fills': 2987, 'film': 2988, 'films': 2989, 'filter': 2990, 'filtered': 2991, 'filters': 2992, 'filtration': 2993, 'final': 2994, 'finalize': 2995, 'finalized': 2996, 'finalizing': 2997, 'finally': 2998, 'finance': 2999, 'financed': 3000, 'financer': 3001, 'finances': 3002, 'financial': 3003, 'financially': 3004, 'financiers': 3005, 'financing': 3006, 'find': 3007, 'finding': 3008, 'finds': 3009, 'fine': 3010, 'finer': 3011, 'finest': 3012, 'fingerprint': 3013, 'finish': 3014, 'finished': 3015, 'fire': 3016, 'fired': 3017, 'fireplace': 3018, 'firewall': 3019, 'firewalls': 3020, 'firm': 3021, 'firms': 3022, 'first': 3023, 'fish': 3024, 'fit': 3025, 'fitness': 3026, 'fits': 3027, 'five': 3028, 'fiver': 3029, 'fix': 3030, 'fixed': 3031, 'flag': 3032, 'flame': 3033, 'flanged': 3034, 'flare': 3035, 'flash': 3036, 'flat': 3037, 'flatmates': 3038, 'flatten': 3039, 'flavor': 3040, 'flavored': 3041, 'flavorful': 3042, 'flavors': 3043, 'flew': 3044, 'flexibility': 3045, 'flexible': 3046, 'flight': 3047, 'flights': 3048, 'flip': 3049, 'float': 3050, 'floating': 3051, 'floor': 3052, 'floors': 3053, 'flour': 3054, 'flowchart': 3055, 'flows': 3056, 'fluctuate': 3057, 'fluctuations': 3058, 'fly': 3059, 'flying': 3060, 'flywheel': 3061, 'fo': 3062, 'foam': 3063, 'focus': 3064, 'focused': 3065, 'focuses': 3066, 'focusing': 3067, 'fold': 3068, 'folder': 3069, 'folders': 3070, 'follow': 3071, 'followed': 3072, 'followers': 3073, 'following': 3074, 'follows': 3075, 'font': 3076, 'fonts': 3077, 'food': 3078, 'foods': 3079, 'fooled': 3080, 'foot': 3081, 'footage': 3082, 'footprint': 3083, 'footsteps': 3084, 'for': 3085, 'forbidden': 3086, 'forced': 3087, 'forecast': 3088, 'forecasted': 3089, 'foreign': 3090, 'foreigner': 3091, 'foreigners': 3092, 'forever': 3093, 'forget': 3094, 'forgot': 3095, 'forklift': 3096, 'forklifts': 3097, 'form': 3098, 'formal': 3099, 'formalities': 3100, 'format': 3101, 'former': 3102, 'forms': 3103, 'formula': 3104, 'forths': 3105, 'fortunate': 3106, 'forward': 3107, 'forwarded': 3108, 'forwarder': 3109, 'found': 3110, 'foundation': 3111, 'founders': 3112, 'four': 3113, 'frame': 3114, 'frames': 3115, 'framework': 3116, 'franchise': 3117, 'fraud': 3118, 'fraudulent': 3119, 'free': 3120, 'freebie': 3121, 'freelancer': 3122, 'freight': 3123, 'frequency': 3124, 'frequent': 3125, 'frequently': 3126, 'fresh': 3127, 'freshwater': 3128, 'fried': 3129, 'friend': 3130, 'friendly': 3131, 'friends': 3132, 'from': 3133, 'front': 3134, 'frugal': 3135, 'fruit': 3136, 'fruitful': 3137, 'fruity': 3138, 'frustrating': 3139, 'fuel': 3140, 'fulfill': 3141, 'fulfilled': 3142, 'fulfilling': 3143, 'full': 3144, 'fully': 3145, 'fun': 3146, 'function': 3147, 'functional': 3148, 'functioning': 3149, 'functions': 3150, 'fund': 3151, 'fundamental': 3152, 'fundamentals': 3153, 'funded': 3154, 'funding': 3155, 'fundraisers': 3156, 'fundraising': 3157, 'funds': 3158, 'fungible': 3159, 'funny': 3160, 'furnish': 3161, 'furnished': 3162, 'furnishings': 3163, 'furniture': 3164, 'further': 3165, 'fusion': 3166, 'fuss': 3167, 'future': 3168, 'futures': 3169, 'futuristic': 3170, 'g': 3171, 'gadgets': 3172, 'gain': 3173, 'gained': 3174, 'gaining': 3175, 'gains': 3176, 'galbi': 3177, 'game': 3178, 'games': 3179, 'gaming': 3180, 'gap': 3181, 'gaps': 3182, 'garage': 3183, 'garden': 3184, 'gardening': 3185, 'gardens': 3186, 'garlic': 3187, 'garments': 3188, 'garnering': 3189, 'gas': 3190, 'gasoline': 3191, 'gate': 3192, 'gates': 3193, 'gather': 3194, 'gathered': 3195, 'gathering': 3196, 'gathers': 3197, 'gauge': 3198, 'gave': 3199, 'gazebo': 3200, 'gear': 3201, 'geared': 3202, 'gears': 3203, 'general': 3204, 'generally': 3205, 'generate': 3206, 'generated': 3207, 'generating': 3208, 'generation': 3209, 'generations': 3210, 'generic': 3211, 'generous': 3212, 'genre': 3213, 'genres': 3214, 'gentle': 3215, 'gentlemen': 3216, 'genuinely': 3217, 'geographic': 3218, 'geography': 3219, 'gesture': 3220, 'get': 3221, 'gets': 3222, 'getting': 3223, 'gift': 3224, 'gifts': 3225, 'gigabyte': 3226, 'gigabytes': 3227, 'gimbap': 3228, 'ginger': 3229, 'ginseng': 3230, 'girl': 3231, 'girls': 3232, 'give': 3233, 'giveaways': 3234, 'given': 3235, 'gives': 3236, 'giving': 3237, 'glad': 3238, 'gladly': 3239, 'glance': 3240, 'glass': 3241, 'glasses': 3242, 'glitch': 3243, 'global': 3244, 'globally': 3245, 'globe': 3246, 'glossy': 3247, 'gloves': 3248, 'gluten': 3249, 'go': 3250, 'goal': 3251, 'goals': 3252, 'goes': 3253, 'going': 3254, 'gold': 3255, 'golf': 3256, 'gone': 3257, 'gonna': 3258, 'good': 3259, 'goodbye': 3260, 'goods': 3261, 'goodwill': 3262, 'gorgeous': 3263, 'got': 3264, 'gotten': 3265, 'governance': 3266, 'government': 3267, 'grab': 3268, 'grace': 3269, 'grade': 3270, 'gradual': 3271, 'gradually': 3272, 'graduates': 3273, 'grain': 3274, 'grains': 3275, 'grammable': 3276, 'grand': 3277, 'grandkids': 3278, 'grandmother': 3279, 'grant': 3280, 'granted': 3281, 'granting': 3282, 'graph': 3283, 'graphic': 3284, 'graphics': 3285, 'grass': 3286, 'grateful': 3287, 'gravity': 3288, 'gravlax': 3289, 'great': 3290, 'greater': 3291, 'greatly': 3292, 'green': 3293, 'greens': 3294, 'greet': 3295, 'greeting': 3296, 'greetings': 3297, 'grew': 3298, 'grid': 3299, 'grill': 3300, 'grilled': 3301, 'grills': 3302, 'grinder': 3303, 'gripping': 3304, 'groom': 3305, 'ground': 3306, 'groundbreaking': 3307, 'grounds': 3308, 'group': 3309, 'groups': 3310, 'grow': 3311, 'growing': 3312, 'growth': 3313, 'guarantee': 3314, 'guaranteed': 3315, 'guarantor': 3316, 'guess': 3317, 'guest': 3318, 'guesthouses': 3319, 'guests': 3320, 'guidance': 3321, 'guide': 3322, 'guided': 3323, 'guides': 3324, 'guilty': 3325, 'guitar': 3326, 'gun': 3327, 'gunfire': 3328, 'gut': 3329, 'guy': 3330, 'guys': 3331, 'gym': 3332, 'gyms': 3333, 'hack': 3334, 'hacked': 3335, 'hacking': 3336, 'had': 3337, 'hairdryer': 3338, 'half': 3339, 'hall': 3340, 'halls': 3341, 'halting': 3342, 'hand': 3343, 'handed': 3344, 'handheld': 3345, 'handiwork': 3346, 'handle': 3347, 'handled': 3348, 'handles': 3349, 'handling': 3350, 'handouts': 3351, 'handpicked': 3352, 'hands': 3353, 'handshake': 3354, 'hanging': 3355, 'hanji': 3356, 'hanok': 3357, 'happen': 3358, 'happened': 3359, 'happening': 3360, 'happens': 3361, 'happily': 3362, 'happy': 3363, 'hard': 3364, 'harder': 3365, 'hardware': 3366, 'hardworking': 3367, 'harmful': 3368, 'harmony': 3369, 'harshest': 3370, 'harvesting': 3371, 'has': 3372, 'hasn': 3373, 'hassle': 3374, 'hat': 3375, 'hate': 3376, 'have': 3377, 'haven': 3378, 'having': 3379, 'he': 3380, 'head': 3381, 'headhunters': 3382, 'heading': 3383, 'headquarters': 3384, 'heads': 3385, 'health': 3386, 'healthy': 3387, 'hear': 3388, 'heard': 3389, 'hearing': 3390, 'hearsay': 3391, 'heart': 3392, 'heartily': 3393, 'heat': 3394, 'heated': 3395, 'heater': 3396, 'heating': 3397, 'heavier': 3398, 'heavily': 3399, 'heavy': 3400, 'hedge': 3401, 'height': 3402, 'held': 3403, 'hello': 3404, 'help': 3405, 'helped': 3406, 'helpful': 3407, 'helping': 3408, 'helps': 3409, 'hence': 3410, 'her': 3411, 'herbal': 3412, 'here': 3413, 'hereditary': 3414, 'heritage': 3415, 'hesitate': 3416, 'hidden': 3417, 'high': 3418, 'higher': 3419, 'highest': 3420, 'highlighted': 3421, 'highlights': 3422, 'highly': 3423, 'hijacking': 3424, 'hiking': 3425, 'hill': 3426, 'him': 3427, 'hint': 3428, 'hire': 3429, 'hired': 3430, 'hiring': 3431, 'his': 3432, 'historical': 3433, 'historically': 3434, 'hit': 3435, 'hitch': 3436, 'hits': 3437, 'hoarding': 3438, 'hobby': 3439, 'hoc': 3440, 'hold': 3441, 'holder': 3442, 'holding': 3443, 'holds': 3444, 'holidays': 3445, 'home': 3446, 'homemade': 3447, 'homes': 3448, 'homestays': 3449, 'honed': 3450, 'honest': 3451, 'honestly': 3452, 'honey': 3453, 'honored': 3454, 'hope': 3455, 'hoped': 3456, 'hopefully': 3457, 'hoping': 3458, 'horizontal': 3459, 'horrible': 3460, 'horsepower': 3461, 'horsepowers': 3462, 'hospital': 3463, 'hospitalization': 3464, 'hospitals': 3465, 'host': 3466, 'hosting': 3467, 'hosts': 3468, 'hot': 3469, 'hotel': 3470, 'hotels': 3471, 'hotspot': 3472, 'hour': 3473, 'hourly': 3474, 'hours': 3475, 'house': 3476, 'household': 3477, 'households': 3478, 'houses': 3479, 'housing': 3480, 'housings': 3481, 'how': 3482, 'however': 3483, 'hub': 3484, 'huddle': 3485, 'hues': 3486, 'huge': 3487, 'hull': 3488, 'human': 3489, 'humble': 3490, 'humor': 3491, 'hundred': 3492, 'hungry': 3493, 'hunt': 3494, 'hurry': 3495, 'hurt': 3496, 'husband': 3497, 'hustle': 3498, 'hwajeon': 3499, 'hydraulic': 3500, 'hydraulics': 3501, 'hydrojet': 3502, 'hype': 3503, 'ibul': 3504, 'ice': 3505, 'icons': 3506, 'idea': 3507, 'ideal': 3508, 'ideas': 3509, 'identical': 3510, 'identification': 3511, 'identified': 3512, 'identify': 3513, 'identities': 3514, 'identity': 3515, 'idols': 3516, 'if': 3517, 'ignition': 3518, 'ignorance': 3519, 'ignore': 3520, 'ignored': 3521, 'illness': 3522, 'illnesses': 3523, 'illustration': 3524, 'illustrations': 3525, 'image': 3526, 'images': 3527, 'imaginative': 3528, 'imagine': 3529, 'imaging': 3530, 'immediate': 3531, 'immediately': 3532, 'immensely': 3533, 'immigrant': 3534, 'immunity': 3535, 'immutable': 3536, 'impact': 3537, 'impart': 3538, 'impeller': 3539, 'impending': 3540, 'implantation': 3541, 'implement': 3542, 'implementation': 3543, 'implementing': 3544, 'implements': 3545, 'implied': 3546, 'implies': 3547, 'import': 3548, 'importance': 3549, 'important': 3550, 'importantly': 3551, 'imported': 3552, 'imports': 3553, 'imposed': 3554, 'imposes': 3555, 'impossible': 3556, 'impress': 3557, 'impressed': 3558, 'impression': 3559, 'impressions': 3560, 'impressive': 3561, 'improve': 3562, 'improved': 3563, 'improvement': 3564, 'improvements': 3565, 'improving': 3566, 'in': 3567, 'inbox': 3568, 'incentives': 3569, 'inch': 3570, 'incident': 3571, 'include': 3572, 'included': 3573, 'includes': 3574, 'including': 3575, 'inclusion': 3576, 'inclusions': 3577, 'inclusive': 3578, 'income': 3579, 'incompatible': 3580, 'incomplete': 3581, 'inconvenience': 3582, 'inconvenient': 3583, 'incorporate': 3584, 'incorporating': 3585, 'incorporation': 3586, 'incorrect': 3587, 'increase': 3588, 'increased': 3589, 'increasing': 3590, 'incredible': 3591, 'incredibly': 3592, 'incubator': 3593, 'incubators': 3594, 'incur': 3595, 'incurred': 3596, 'incurring': 3597, 'indeed': 3598, 'independently': 3599, 'index': 3600, 'indexation': 3601, 'indicate': 3602, 'indicated': 3603, 'indicating': 3604, 'indicator': 3605, 'indicators': 3606, 'indices': 3607, 'individual': 3608, 'individually': 3609, 'individuals': 3610, 'indoor': 3611, 'indoors': 3612, 'indulge': 3613, 'industrial': 3614, 'industries': 3615, 'industry': 3616, 'inevitable': 3617, 'infections': 3618, 'infectious': 3619, 'inferior': 3620, 'inflation': 3621, 'influence': 3622, 'influenced': 3623, 'influencer': 3624, 'influencers': 3625, 'info': 3626, 'infographic': 3627, 'infographics': 3628, 'inform': 3629, 'informal': 3630, 'information': 3631, 'informed': 3632, 'informing': 3633, 'infrastructure': 3634, 'infringed': 3635, 'infringement': 3636, 'ingredients': 3637, 'inheritance': 3638, 'initial': 3639, 'initially': 3640, 'initiate': 3641, 'initiative': 3642, 'injection': 3643, 'injunction': 3644, 'injury': 3645, 'inner': 3646, 'innovation': 3647, 'innovations': 3648, 'innovative': 3649, 'input': 3650, 'inputs': 3651, 'inquire': 3652, 'inquired': 3653, 'inquiries': 3654, 'inquiring': 3655, 'inquiry': 3656, 'ins': 3657, 'inside': 3658, 'insight': 3659, 'insist': 3660, 'inspect': 3661, 'inspected': 3662, 'inspecting': 3663, 'inspection': 3664, 'inspections': 3665, 'inspire': 3666, 'inspired': 3667, 'install': 3668, 'installation': 3669, 'installed': 3670, 'installing': 3671, 'installment': 3672, 'installments': 3673, 'instance': 3674, 'instant': 3675, 'instead': 3676, 'institute': 3677, 'institution': 3678, 'instruction': 3679, 'instructions': 3680, 'instrument': 3681, 'instruments': 3682, 'insulation': 3683, 'insult': 3684, 'insurance': 3685, 'insurances': 3686, 'insure': 3687, 'insured': 3688, 'insuring': 3689, 'insurmountable': 3690, 'integrated': 3691, 'integration': 3692, 'integrations': 3693, 'intellectual': 3694, 'intelligence': 3695, 'intelligent': 3696, 'intend': 3697, 'intended': 3698, 'intends': 3699, 'intense': 3700, 'intensity': 3701, 'intent': 3702, 'intention': 3703, 'interact': 3704, 'interactions': 3705, 'interactive': 3706, 'intercept': 3707, 'interest': 3708, 'interested': 3709, 'interesting': 3710, 'interface': 3711, 'interior': 3712, 'interiors': 3713, 'intermediaries': 3714, 'intermediary': 3715, 'intern': 3716, 'internal': 3717, 'internally': 3718, 'international': 3719, 'internationally': 3720, 'internet': 3721, 'interns': 3722, 'interpretation': 3723, 'interpreter': 3724, 'interpreting': 3725, 'interrupt': 3726, 'interrupted': 3727, 'interview': 3728, 'interviews': 3729, 'into': 3730, 'intrigue': 3731, 'intriguing': 3732, 'introduce': 3733, 'introduced': 3734, 'introducing': 3735, 'introduction': 3736, 'intrusion': 3737, 'invaluable': 3738, 'inventory': 3739, 'invest': 3740, 'invested': 3741, 'investigate': 3742, 'investigating': 3743, 'investigation': 3744, 'investing': 3745, 'investment': 3746, 'investments': 3747, 'investor': 3748, 'investors': 3749, 'invitation': 3750, 'invite': 3751, 'invited': 3752, 'invites': 3753, 'inviting': 3754, 'invoice': 3755, 'invoices': 3756, 'involve': 3757, 'involved': 3758, 'involves': 3759, 'involving': 3760, 'iron': 3761, 'irregular': 3762, 'is': 3763, 'isn': 3764, 'issuance': 3765, 'issue': 3766, 'issued': 3767, 'issues': 3768, 'issuing': 3769, 'it': 3770, 'item': 3771, 'items': 3772, 'its': 3773, 'itself': 3774, 'jacuzzi': 3775, 'japchae': 3776, 'jeeps': 3777, 'jeon': 3778, 'jet': 3779, 'jingle': 3780, 'job': 3781, 'jobs': 3782, 'join': 3783, 'joining': 3784, 'joint': 3785, 'jokbal': 3786, 'joke': 3787, 'journalists': 3788, 'journey': 3789, 'juice': 3790, 'junction': 3791, 'just': 3792, 'kanji': 3793, 'karaoke': 3794, 'keen': 3795, 'keep': 3796, 'keeping': 3797, 'keeps': 3798, 'kept': 3799, 'key': 3800, 'keyboard': 3801, 'keyboards': 3802, 'keys': 3803, 'keywords': 3804, 'kicks': 3805, 'kids': 3806, 'kilograms': 3807, 'kilometers': 3808, 'kilowatts': 3809, 'kimchi': 3810, 'kind': 3811, 'kindly': 3812, 'kindness': 3813, 'kinds': 3814, 'king': 3815, 'kiosk': 3816, 'kit': 3817, 'kitchen': 3818, 'kitchens': 3819, 'kits': 3820, 'knew': 3821, 'knife': 3822, 'knitting': 3823, 'knocked': 3824, 'know': 3825, 'knowing': 3826, 'knowledge': 3827, 'knowledgeable': 3828, 'known': 3829, 'knows': 3830, 'l': 3831, 'label': 3832, 'labels': 3833, 'labor': 3834, 'laboratories': 3835, 'laboratory': 3836, 'lack': 3837, 'lacking': 3838, 'ladies': 3839, 'lag': 3840, 'laid': 3841, 'lamination': 3842, 'land': 3843, 'landed': 3844, 'landline': 3845, 'landlord': 3846, 'landowner': 3847, 'lands': 3848, 'language': 3849, 'languages': 3850, 'laptop': 3851, 'large': 3852, 'largely': 3853, 'larger': 3854, 'largest': 3855, 'last': 3856, 'lasting': 3857, 'lasts': 3858, 'late': 3859, 'lately': 3860, 'latency': 3861, 'later': 3862, 'latest': 3863, 'launch': 3864, 'launched': 3865, 'launching': 3866, 'laundering': 3867, 'laundry': 3868, 'lavalier': 3869, 'law': 3870, 'laws': 3871, 'lawsuit': 3872, 'lawyer': 3873, 'lawyers': 3874, 'laxative': 3875, 'lay': 3876, 'layers': 3877, 'layout': 3878, 'lazy': 3879, 'lead': 3880, 'leaders': 3881, 'leading': 3882, 'leaf': 3883, 'leaks': 3884, 'leaning': 3885, 'learn': 3886, 'learned': 3887, 'learning': 3888, 'least': 3889, 'leave': 3890, 'leaves': 3891, 'lecture': 3892, 'led': 3893, 'left': 3894, 'legal': 3895, 'legally': 3896, 'legitimate': 3897, 'lenders': 3898, 'length': 3899, 'lengthy': 3900, 'lens': 3901, 'lentil': 3902, 'less': 3903, 'lesser': 3904, 'lessons': 3905, 'let': 3906, 'lets': 3907, 'letter': 3908, 'letters': 3909, 'letting': 3910, 'lettuce': 3911, 'level': 3912, 'levelers': 3913, 'levels': 3914, 'leverage': 3915, 'liabilities': 3916, 'liability': 3917, 'liable': 3918, 'liaison': 3919, 'library': 3920, 'license': 3921, 'licensed': 3922, 'licenses': 3923, 'lie': 3924, 'life': 3925, 'lifeguards': 3926, 'lifelong': 3927, 'lifestyle': 3928, 'lift': 3929, 'light': 3930, 'lightning': 3931, 'lights': 3932, 'lightweight': 3933, 'like': 3934, 'liked': 3935, 'likely': 3936, 'likes': 3937, 'limit': 3938, 'limitations': 3939, 'limited': 3940, 'limits': 3941, 'line': 3942, 'lines': 3943, 'lining': 3944, 'link': 3945, 'linked': 3946, 'links': 3947, 'liquid': 3948, 'liquidating': 3949, 'liquors': 3950, 'list': 3951, 'listed': 3952, 'listen': 3953, 'listener': 3954, 'listeners': 3955, 'listening': 3956, 'listing': 3957, 'listings': 3958, 'lists': 3959, 'literature': 3960, 'little': 3961, 'live': 3962, 'lived': 3963, 'lively': 3964, 'liver': 3965, 'lives': 3966, 'living': 3967, 'll': 3968, 'load': 3969, 'loaded': 3970, 'loader': 3971, 'loaders': 3972, 'loading': 3973, 'loan': 3974, 'loans': 3975, 'lobby': 3976, 'local': 3977, 'locales': 3978, 'locality': 3979, 'localization': 3980, 'localized': 3981, 'locally': 3982, 'locals': 3983, 'located': 3984, 'location': 3985, 'locations': 3986, 'lock': 3987, 'lockdown': 3988, 'lockdowns': 3989, 'lodge': 3990, 'lodging': 3991, 'lodgings': 3992, 'log': 3993, 'logged': 3994, 'logging': 3995, 'login': 3996, 'logistics': 3997, 'logo': 3998, 'logos': 3999, 'logs': 4000, 'long': 4001, 'longer': 4002, 'look': 4003, 'looked': 4004, 'looking': 4005, 'looks': 4006, 'loose': 4007, 'lose': 4008, 'loss': 4009, 'losses': 4010, 'lost': 4011, 'lot': 4012, 'lots': 4013, 'loud': 4014, 'lounge': 4015, 'love': 4016, 'loved': 4017, 'lovely': 4018, 'loving': 4019, 'low': 4020, 'lower': 4021, 'lowered': 4022, 'lowest': 4023, 'loyal': 4024, 'luck': 4025, 'luckily': 4026, 'lucky': 4027, 'lucrative': 4028, 'luggage': 4029, 'lunch': 4030, 'luxurious': 4031, 'luxury': 4032, 'm': 4033, 'ma': 4034, 'machine': 4035, 'machinery': 4036, 'machines': 4037, 'mackerels': 4038, 'macro': 4039, 'madam': 4040, 'made': 4041, 'magazine': 4042, 'magazines': 4043, 'magical': 4044, 'mail': 4045, 'main': 4046, 'mainly': 4047, 'mains': 4048, 'maintain': 4049, 'maintained': 4050, 'maintaining': 4051, 'maintenance': 4052, 'major': 4053, 'majority': 4054, 'make': 4055, 'maker': 4056, 'makers': 4057, 'makes': 4058, 'makeup': 4059, 'makgeolli': 4060, 'making': 4061, 'mall': 4062, 'malware': 4063, 'manage': 4064, 'manageable': 4065, 'managed': 4066, 'management': 4067, 'manager': 4068, 'managers': 4069, 'manages': 4070, 'managing': 4071, 'mandatory': 4072, 'mandu': 4073, 'manned': 4074, 'manner': 4075, 'manners': 4076, 'manual': 4077, 'manually': 4078, 'manufacture': 4079, 'manufactured': 4080, 'manufacturer': 4081, 'manufacturers': 4082, 'manufactures': 4083, 'manufacturing': 4084, 'manuscript': 4085, 'many': 4086, 'marinated': 4087, 'marinates': 4088, 'market': 4089, 'marketer': 4090, 'marketing': 4091, 'markets': 4092, 'married': 4093, 'mascots': 4094, 'mask': 4095, 'mass': 4096, 'massage': 4097, 'massages': 4098, 'masseuse': 4099, 'massive': 4100, 'master': 4101, 'mat': 4102, 'match': 4103, 'material': 4104, 'materialistic': 4105, 'materials': 4106, 'maternity': 4107, 'mathematics': 4108, 'mats': 4109, 'matte': 4110, 'matter': 4111, 'matters': 4112, 'mattress': 4113, 'maturing': 4114, 'maximize': 4115, 'maximum': 4116, 'may': 4117, 'maybe': 4118, 'me': 4119, 'meal': 4120, 'meals': 4121, 'mean': 4122, 'meaning': 4123, 'meaningful': 4124, 'meaningless': 4125, 'means': 4126, 'meant': 4127, 'meantime': 4128, 'measure': 4129, 'measures': 4130, 'measuring': 4131, 'meat': 4132, 'mechanic': 4133, 'mechanical': 4134, 'mechanism': 4135, 'media': 4136, 'mediator': 4137, 'medical': 4138, 'medicine': 4139, 'meditation': 4140, 'medium': 4141, 'meet': 4142, 'meeting': 4143, 'meetings': 4144, 'megabits': 4145, 'megabytes': 4146, 'megapixel': 4147, 'megapixels': 4148, 'melon': 4149, 'melt': 4150, 'member': 4151, 'members': 4152, 'membership': 4153, 'memorandum': 4154, 'memories': 4155, 'memory': 4156, 'men': 4157, 'mending': 4158, 'mental': 4159, 'mention': 4160, 'mentioned': 4161, 'mentioning': 4162, 'menu': 4163, 'menus': 4164, 'merch': 4165, 'merchant': 4166, 'merged': 4167, 'message': 4168, 'messages': 4169, 'messaging': 4170, 'messy': 4171, 'met': 4172, 'meta': 4173, 'metal': 4174, 'metallurgical': 4175, 'metals': 4176, 'meters': 4177, 'method': 4178, 'methods': 4179, 'meticulously': 4180, 'microlenders': 4181, 'microphone': 4182, 'microphones': 4183, 'microscopes': 4184, 'microwave': 4185, 'middle': 4186, 'midst': 4187, 'might': 4188, 'mild': 4189, 'milestone': 4190, 'milk': 4191, 'millennials': 4192, 'millimeters': 4193, 'million': 4194, 'millions': 4195, 'mind': 4196, 'minded': 4197, 'mine': 4198, 'miner': 4199, 'mini': 4200, 'minibar': 4201, 'minimal': 4202, 'minimalism': 4203, 'minimum': 4204, 'ministry': 4205, 'minor': 4206, 'minute': 4207, 'minuted': 4208, 'minutes': 4209, 'miscarriage': 4210, 'miscommunication': 4211, 'mishap': 4212, 'mismanagement': 4213, 'mismatch': 4214, 'misplaced': 4215, 'miss': 4216, 'missed': 4217, 'missiles': 4218, 'missing': 4219, 'mission': 4220, 'mistake': 4221, 'mistakenly': 4222, 'mistakes': 4223, 'misunderstanding': 4224, 'misuse': 4225, 'misuses': 4226, 'mitigate': 4227, 'mix': 4228, 'mixer': 4229, 'mixing': 4230, 'mm': 4231, 'mmHg': 4232, 'mobile': 4233, 'mobiles': 4234, 'mock': 4235, 'mocks': 4236, 'modality': 4237, 'mode': 4238, 'model': 4239, 'models': 4240, 'modem': 4241, 'modems': 4242, 'moderately': 4243, 'modern': 4244, 'modes': 4245, 'modifications': 4246, 'modified': 4247, 'modify': 4248, 'modifying': 4249, 'modular': 4250, 'module': 4251, 'mold': 4252, 'molding': 4253, 'moldings': 4254, 'moment': 4255, 'momentary': 4256, 'moments': 4257, 'monastery': 4258, 'monastic': 4259, 'monetary': 4260, 'monetizing': 4261, 'money': 4262, 'monitor': 4263, 'monitoring': 4264, 'monitors': 4265, 'monk': 4266, 'monks': 4267, 'monsoon': 4268, 'month': 4269, 'monthly': 4270, 'months': 4271, 'mood': 4272, 'more': 4273, 'morning': 4274, 'mortar': 4275, 'mortgage': 4276, 'mosquitos': 4277, 'most': 4278, 'mostly': 4279, 'motels': 4280, 'mother': 4281, 'motif': 4282, 'motions': 4283, 'motivate': 4284, 'motivation': 4285, 'motor': 4286, 'motorboats': 4287, 'motors': 4288, 'mountain': 4289, 'mountains': 4290, 'mouse': 4291, 'mouses': 4292, 'mouth': 4293, 'move': 4294, 'moved': 4295, 'movement': 4296, 'movers': 4297, 'movie': 4298, 'movies': 4299, 'moving': 4300, 'much': 4301, 'mud': 4302, 'mukbang': 4303, 'multi': 4304, 'multidisciplinary': 4305, 'multinational': 4306, 'multiplatform': 4307, 'multiple': 4308, 'multiplying': 4309, 'multipurpose': 4310, 'museum': 4311, 'music': 4312, 'musical': 4313, 'musky': 4314, 'must': 4315, 'mutual': 4316, 'my': 4317, 'myself': 4318, 'mysterious': 4319, 'naira': 4320, 'name': 4321, 'names': 4322, 'napkin': 4323, 'napping': 4324, 'narratives': 4325, 'narrow': 4326, 'nation': 4327, 'national': 4328, 'nationals': 4329, 'nations': 4330, 'native': 4331, 'natural': 4332, 'nature': 4333, 'navigation': 4334, 'near': 4335, 'nearby': 4336, 'nearest': 4337, 'neat': 4338, 'nebulizers': 4339, 'necessary': 4340, 'need': 4341, 'needed': 4342, 'needing': 4343, 'needs': 4344, 'negative': 4345, 'negatively': 4346, 'neglect': 4347, 'negotiable': 4348, 'negotiate': 4349, 'neighbors': 4350, 'neotraditional': 4351, 'nephew': 4352, 'nervous': 4353, 'net': 4354, 'network': 4355, 'networking': 4356, 'networks': 4357, 'never': 4358, 'new': 4359, 'newbie': 4360, 'newborn': 4361, 'newest': 4362, 'newly': 4363, 'news': 4364, 'newsletters': 4365, 'newspaper': 4366, 'next': 4367, 'nice': 4368, 'niche': 4369, 'night': 4370, 'nightclub': 4371, 'nights': 4372, 'nighttime': 4373, 'nine': 4374, 'ninety': 4375, 'no': 4376, 'noble': 4377, 'nobody': 4378, 'nodular': 4379, 'non': 4380, 'nondelivery': 4381, 'none': 4382, 'nonfiction': 4383, 'nonfungible': 4384, 'nonpayments': 4385, 'nonprofits': 4386, 'nonsense': 4387, 'nonspicy': 4388, 'noodle': 4389, 'noodles': 4390, 'noon': 4391, 'norm': 4392, 'normal': 4393, 'normally': 4394, 'northern': 4395, 'nose': 4396, 'nostalgia': 4397, 'not': 4398, 'notch': 4399, 'note': 4400, 'notebook': 4401, 'noted': 4402, 'notes': 4403, 'nothing': 4404, 'notice': 4405, 'noticed': 4406, 'notices': 4407, 'notification': 4408, 'notified': 4409, 'notify': 4410, 'notifying': 4411, 'novel': 4412, 'novels': 4413, 'now': 4414, 'nowadays': 4415, 'number': 4416, 'numbers': 4417, 'numerous': 4418, 'nurse': 4419, 'nutritional': 4420, 'nutty': 4421, 'nylon': 4422, 'o': 4423, 'object': 4424, 'objection': 4425, 'objections': 4426, 'objective': 4427, 'obligation': 4428, 'obligations': 4429, 'oblige': 4430, 'observations': 4431, 'observing': 4432, 'obstacles': 4433, 'obtain': 4434, 'obtaining': 4435, 'obviously': 4436, 'occasion': 4437, 'occupation': 4438, 'occupied': 4439, 'occupy': 4440, 'occur': 4441, 'occurrence': 4442, 'occurs': 4443, 'ocean': 4444, 'of': 4445, 'off': 4446, 'offend': 4447, 'offer': 4448, 'offered': 4449, 'offering': 4450, 'offerings': 4451, 'offers': 4452, 'office': 4453, 'officer': 4454, 'officers': 4455, 'offices': 4456, 'official': 4457, 'officially': 4458, 'offline': 4459, 'offshore': 4460, 'often': 4461, 'oh': 4462, 'oil': 4463, 'oils': 4464, 'okay': 4465, 'old': 4466, 'older': 4467, 'oldest': 4468, 'on': 4469, 'once': 4470, 'ondol': 4471, 'one': 4472, 'ones': 4473, 'ongoing': 4474, 'onions': 4475, 'online': 4476, 'only': 4477, 'onto': 4478, 'onwards': 4479, 'open': 4480, 'opened': 4481, 'opening': 4482, 'openly': 4483, 'opens': 4484, 'operate': 4485, 'operated': 4486, 'operating': 4487, 'operation': 4488, 'operational': 4489, 'operations': 4490, 'operative': 4491, 'operator': 4492, 'operators': 4493, 'opinion': 4494, 'opinions': 4495, 'opportunities': 4496, 'opportunity': 4497, 'opt': 4498, 'optimal': 4499, 'optimization': 4500, 'optimize': 4501, 'optimized': 4502, 'optimizer': 4503, 'option': 4504, 'optional': 4505, 'options': 4506, 'optometry': 4507, 'or': 4508, 'orange': 4509, 'order': 4510, 'ordered': 4511, 'ordering': 4512, 'orderly': 4513, 'orders': 4514, 'ordinary': 4515, 'ore': 4516, 'organic': 4517, 'organization': 4518, 'organizational': 4519, 'organizations': 4520, 'organize': 4521, 'organizing': 4522, 'orientation': 4523, 'oriented': 4524, 'original': 4525, 'originally': 4526, 'origins': 4527, 'other': 4528, 'others': 4529, 'ought': 4530, 'ounce': 4531, 'our': 4532, 'ours': 4533, 'ourselves': 4534, 'out': 4535, 'outbreak': 4536, 'outcome': 4537, 'outdated': 4538, 'outdoor': 4539, 'outdoors': 4540, 'outgoing': 4541, 'outings': 4542, 'outlets': 4543, 'outnumber': 4544, 'output': 4545, 'outputs': 4546, 'outreach': 4547, 'outright': 4548, 'outside': 4549, 'outsiders': 4550, 'outsmart': 4551, 'outsource': 4552, 'outstanding': 4553, 'oven': 4554, 'ovens': 4555, 'over': 4556, 'overall': 4557, 'overcharge': 4558, 'overcharged': 4559, 'overdue': 4560, 'overflow': 4561, 'overhang': 4562, 'overheads': 4563, 'overlook': 4564, 'overlooked': 4565, 'overnight': 4566, 'overpriced': 4567, 'overseas': 4568, 'oversees': 4569, 'overstated': 4570, 'overview': 4571, 'overwhelmed': 4572, 'owe': 4573, 'owing': 4574, 'own': 4575, 'owner': 4576, 'owners': 4577, 'ownership': 4578, 'owning': 4579, 'oxblood': 4580, 'p': 4581, 'pace': 4582, 'pacemaker': 4583, 'pack': 4584, 'package': 4585, 'packaged': 4586, 'packages': 4587, 'packaging': 4588, 'packed': 4589, 'packers': 4590, 'packing': 4591, 'packs': 4592, 'page': 4593, 'pages': 4594, 'pagodas': 4595, 'paid': 4596, 'pains': 4597, 'painted': 4598, 'painter': 4599, 'painters': 4600, 'painting': 4601, 'paintings': 4602, 'pair': 4603, 'pairs': 4604, 'pajamas': 4605, 'palaces': 4606, 'palate': 4607, 'palates': 4608, 'palette': 4609, 'palettes': 4610, 'palm': 4611, 'pals': 4612, 'pamphlet': 4613, 'pan': 4614, 'pancakes': 4615, 'pandemic': 4616, 'panel': 4617, 'panels': 4618, 'pans': 4619, 'pantry': 4620, 'papaya': 4621, 'paper': 4622, 'papers': 4623, 'paperwork': 4624, 'par': 4625, 'parcel': 4626, 'parents': 4627, 'park': 4628, 'parking': 4629, 'part': 4630, 'partake': 4631, 'partial': 4632, 'partially': 4633, 'participant': 4634, 'participants': 4635, 'participate': 4636, 'participating': 4637, 'particular': 4638, 'particularly': 4639, 'parties': 4640, 'partner': 4641, 'partnering': 4642, 'partners': 4643, 'partnership': 4644, 'parts': 4645, 'party': 4646, 'pass': 4647, 'passed': 4648, 'passing': 4649, 'passion': 4650, 'passive': 4651, 'passport': 4652, 'passports': 4653, 'password': 4654, 'past': 4655, 'pasta': 4656, 'paste': 4657, 'patch': 4658, 'patches': 4659, 'patent': 4660, 'patents': 4661, 'path': 4662, 'patience': 4663, 'patient': 4664, 'patients': 4665, 'patronage': 4666, 'patronize': 4667, 'patrons': 4668, 'pattern': 4669, 'patterns': 4670, 'paving': 4671, 'pay': 4672, 'payable': 4673, 'paying': 4674, 'payment': 4675, 'payments': 4676, 'payroll': 4677, 'pays': 4678, 'payslip': 4679, 'pdf': 4680, 'peace': 4681, 'peak': 4682, 'pencil': 4683, 'pending': 4684, 'pension': 4685, 'people': 4686, 'per': 4687, 'percent': 4688, 'percentage': 4689, 'perfect': 4690, 'perform': 4691, 'performance': 4692, 'performed': 4693, 'performing': 4694, 'perhaps': 4695, 'perilla': 4696, 'period': 4697, 'permanent': 4698, 'permanently': 4699, 'permission': 4700, 'permit': 4701, 'permitted': 4702, 'persistent': 4703, 'person': 4704, 'personal': 4705, 'personality': 4706, 'personalized': 4707, 'personally': 4708, 'personnel': 4709, 'persons': 4710, 'persuade': 4711, 'pertinent': 4712, 'perusal': 4713, 'pesky': 4714, 'pet': 4715, 'petition': 4716, 'petrol': 4717, 'pets': 4718, 'phase': 4719, 'phases': 4720, 'phenomena': 4721, 'philosophy': 4722, 'phone': 4723, 'phones': 4724, 'phoning': 4725, 'photo': 4726, 'photobooks': 4727, 'photocopier': 4728, 'photographer': 4729, 'photographers': 4730, 'photographs': 4731, 'photography': 4732, 'photos': 4733, 'physical': 4734, 'physically': 4735, 'piano': 4736, 'pick': 4737, 'picked': 4738, 'picking': 4739, 'picture': 4740, 'pictures': 4741, 'pie': 4742, 'piece': 4743, 'pieces': 4744, 'pier': 4745, 'piling': 4746, 'pillars': 4747, 'pills': 4748, 'pin': 4749, 'pink': 4750, 'pioneers': 4751, 'pipe': 4752, 'pipeline': 4753, 'pipelines': 4754, 'pipes': 4755, 'piqued': 4756, 'piques': 4757, 'piston': 4758, 'pitch': 4759, 'pitching': 4760, 'pity': 4761, 'pixels': 4762, 'place': 4763, 'placed': 4764, 'placement': 4765, 'placements': 4766, 'places': 4767, 'placing': 4768, 'plagiarized': 4769, 'plain': 4770, 'plan': 4771, 'plane': 4772, 'planned': 4773, 'planning': 4774, 'plans': 4775, 'plant': 4776, 'planting': 4777, 'plants': 4778, 'plastic': 4779, 'plastics': 4780, 'plate': 4781, 'plates': 4782, 'platform': 4783, 'platforms': 4784, 'platinum': 4785, 'platters': 4786, 'play': 4787, 'played': 4788, 'player': 4789, 'players': 4790, 'playground': 4791, 'playing': 4792, 'plays': 4793, 'plaza': 4794, 'pleasant': 4795, 'please': 4796, 'pleased': 4797, 'pleasure': 4798, 'plotter': 4799, 'plowing': 4800, 'plug': 4801, 'plugins': 4802, 'plus': 4803, 'pm': 4804, 'pneumatic': 4805, 'pocket': 4806, 'pockets': 4807, 'podcast': 4808, 'podcasts': 4809, 'point': 4810, 'pointing': 4811, 'points': 4812, 'policies': 4813, 'policy': 4814, 'policyholders': 4815, 'policymakers': 4816, 'polite': 4817, 'political': 4818, 'politicians': 4819, 'polystyrene': 4820, 'polyurethane': 4821, 'pool': 4822, 'pools': 4823, 'poor': 4824, 'pop': 4825, 'popular': 4826, 'popularity': 4827, 'population': 4828, 'poring': 4829, 'pork': 4830, 'porridge': 4831, 'port': 4832, 'portal': 4833, 'portals': 4834, 'portfolio': 4835, 'portfolios': 4836, 'portion': 4837, 'portraits': 4838, 'ports': 4839, 'posh': 4840, 'position': 4841, 'positioning': 4842, 'positions': 4843, 'positive': 4844, 'positives': 4845, 'possess': 4846, 'possibility': 4847, 'possible': 4848, 'possibly': 4849, 'post': 4850, 'postal': 4851, 'posted': 4852, 'poster': 4853, 'posters': 4854, 'posting': 4855, 'postings': 4856, 'postpaid': 4857, 'posts': 4858, 'potato': 4859, 'potential': 4860, 'pots': 4861, 'power': 4862, 'powered': 4863, 'practically': 4864, 'practice': 4865, 'practices': 4866, 'praised': 4867, 'praises': 4868, 'pray': 4869, 'prays': 4870, 'precise': 4871, 'precisely': 4872, 'precision': 4873, 'predict': 4874, 'predictable': 4875, 'prediction': 4876, 'prefer': 4877, 'preferably': 4878, 'preference': 4879, 'preferences': 4880, 'preferred': 4881, 'premises': 4882, 'premium': 4883, 'premiums': 4884, 'preoccupied': 4885, 'preorder': 4886, 'preparation': 4887, 'prepare': 4888, 'prepared': 4889, 'preparedness': 4890, 'preparing': 4891, 'prescription': 4892, 'prescriptions': 4893, 'presence': 4894, 'present': 4895, 'presentation': 4896, 'presented': 4897, 'presenting': 4898, 'presents': 4899, 'preservation': 4900, 'preserve': 4901, 'president': 4902, 'press': 4903, 'pressed': 4904, 'pressing': 4905, 'pressure': 4906, 'pretty': 4907, 'prevent': 4908, 'prevented': 4909, 'prevention': 4910, 'preview': 4911, 'previous': 4912, 'previously': 4913, 'price': 4914, 'priced': 4915, 'priceless': 4916, 'prices': 4917, 'pricing': 4918, 'priest': 4919, 'primarily': 4920, 'primary': 4921, 'prime': 4922, 'principal': 4923, 'principle': 4924, 'print': 4925, 'printed': 4926, 'printers': 4927, 'printing': 4928, 'prints': 4929, 'prior': 4930, 'prioritize': 4931, 'prioritized': 4932, 'priority': 4933, 'privacy': 4934, 'private': 4935, 'privilege': 4936, 'prize': 4937, 'prized': 4938, 'probably': 4939, 'problem': 4940, 'problematic': 4941, 'problems': 4942, 'procedure': 4943, 'procedures': 4944, 'proceed': 4945, 'proceedings': 4946, 'proceeds': 4947, 'process': 4948, 'processed': 4949, 'processes': 4950, 'processing': 4951, 'processor': 4952, 'processors': 4953, 'procurement': 4954, 'produce': 4955, 'produced': 4956, 'producer': 4957, 'produces': 4958, 'producing': 4959, 'product': 4960, 'production': 4961, 'productions': 4962, 'productivity': 4963, 'products': 4964, 'profession': 4965, 'professional': 4966, 'professionally': 4967, 'professionals': 4968, 'professions': 4969, 'professor': 4970, 'professors': 4971, 'proficiency': 4972, 'profile': 4973, 'profit': 4974, 'profitability': 4975, 'profitable': 4976, 'profits': 4977, 'program': 4978, 'programmed': 4979, 'programmer': 4980, 'programmers': 4981, 'programming': 4982, 'programs': 4983, 'progress': 4984, 'progressing': 4985, 'project': 4986, 'projections': 4987, 'projector': 4988, 'projectors': 4989, 'projects': 4990, 'prominent': 4991, 'prominently': 4992, 'promise': 4993, 'promised': 4994, 'promises': 4995, 'promising': 4996, 'promo': 4997, 'promos': 4998, 'promote': 4999, 'promoting': 5000, 'promotion': 5001, 'promotional': 5002, 'promotions': 5003, 'prompt': 5004, 'promptly': 5005, 'prompts': 5006, 'proof': 5007, 'proofs': 5008, 'propelled': 5009, 'proper': 5010, 'properly': 5011, 'properties': 5012, 'property': 5013, 'proportion': 5014, 'proposal': 5015, 'proposals': 5016, 'propose': 5017, 'proposed': 5018, 'proposing': 5019, 'proposition': 5020, 'pros': 5021, 'prospective': 5022, 'prosperous': 5023, 'prosthetics': 5024, 'prostrations': 5025, 'protect': 5026, 'protected': 5027, 'protection': 5028, 'protectionism': 5029, 'protections': 5030, 'protective': 5031, 'protects': 5032, 'protein': 5033, 'protocol': 5034, 'protocols': 5035, 'prototype': 5036, 'proud': 5037, 'prove': 5038, 'proven': 5039, 'provide': 5040, 'provided': 5041, 'provider': 5042, 'providers': 5043, 'provides': 5044, 'providing': 5045, 'province': 5046, 'proximity': 5047, 'pub': 5048, 'public': 5049, 'publication': 5050, 'publications': 5051, 'publicly': 5052, 'publish': 5053, 'published': 5054, 'publishers': 5055, 'publishing': 5056, 'pull': 5057, 'pulse': 5058, 'pump': 5059, 'pumps': 5060, 'punctual': 5061, 'purchase': 5062, 'purchased': 5063, 'purchases': 5064, 'purchasing': 5065, 'purely': 5066, 'purified': 5067, 'purifiers': 5068, 'purify': 5069, 'purpose': 5070, 'purposes': 5071, 'pursue': 5072, 'push': 5073, 'pushed': 5074, 'put': 5075, 'puts': 5076, 'putting': 5077, 'quadrupled': 5078, 'qualified': 5079, 'qualify': 5080, 'qualities': 5081, 'quality': 5082, 'quantities': 5083, 'quantity': 5084, 'quarter': 5085, 'quarterly': 5086, 'queries': 5087, 'query': 5088, 'question': 5089, 'questionnaire': 5090, 'questions': 5091, 'queue': 5092, 'quick': 5093, 'quickly': 5094, 'quilt': 5095, 'quite': 5096, 'quotation': 5097, 'quotations': 5098, 'quote': 5099, 'radio': 5100, 'radioactive': 5101, 'railway': 5102, 'rain': 5103, 'raise': 5104, 'raising': 5105, 'rally': 5106, 'rambling': 5107, 'ramen': 5108, 'ran': 5109, 'random': 5110, 'randomly': 5111, 'rang': 5112, 'range': 5113, 'ranger': 5114, 'ranges': 5115, 'ranging': 5116, 'rank': 5117, 'ranked': 5118, 'ranking': 5119, 'ranks': 5120, 'rapidly': 5121, 'rapport': 5122, 'rare': 5123, 'rate': 5124, 'rates': 5125, 'rather': 5126, 'rating': 5127, 'ratings': 5128, 'ratio': 5129, 'rational': 5130, 'raw': 5131, 'ray': 5132, 'rd': 5133, 're': 5134, 'reach': 5135, 'reached': 5136, 'reaches': 5137, 'reaching': 5138, 'react': 5139, 'reaction': 5140, 'read': 5141, 'readers': 5142, 'reading': 5143, 'reads': 5144, 'ready': 5145, 'real': 5146, 'realistic': 5147, 'reality': 5148, 'realize': 5149, 'really': 5150, 'realtor': 5151, 'reap': 5152, 'rear': 5153, 'reason': 5154, 'reasonable': 5155, 'reasons': 5156, 'reassuring': 5157, 'rebook': 5158, 'recall': 5159, 'receipt': 5160, 'receipts': 5161, 'receivable': 5162, 'receive': 5163, 'received': 5164, 'receiver': 5165, 'receiving': 5166, 'recent': 5167, 'recently': 5168, 'reception': 5169, 'receptionist': 5170, 'recharge': 5171, 'recharging': 5172, 'recipe': 5173, 'recipes': 5174, 'recipients': 5175, 'recognize': 5176, 'recognized': 5177, 'recommend': 5178, 'recommendation': 5179, 'recommendations': 5180, 'recommended': 5181, 'recommending': 5182, 'reconfirm': 5183, 'reconsider': 5184, 'record': 5185, 'recorded': 5186, 'recording': 5187, 'recordings': 5188, 'records': 5189, 'recover': 5190, 'recovery': 5191, 'recreation': 5192, 'rectified': 5193, 'recuperate': 5194, 'red': 5195, 'redemption': 5196, 'redirect': 5197, 'redownloaded': 5198, 'redrafting': 5199, 'reduce': 5200, 'reduced': 5201, 'reduces': 5202, 'reducing': 5203, 'reefer': 5204, 'reefers': 5205, 'reels': 5206, 'refer': 5207, 'reference': 5208, 'referred': 5209, 'referring': 5210, 'refers': 5211, 'refine': 5212, 'reflected': 5213, 'refrain': 5214, 'refresher': 5215, 'refund': 5216, 'refunded': 5217, 'refunds': 5218, 'refuse': 5219, 'refuses': 5220, 'regard': 5221, 'regarded': 5222, 'regarding': 5223, 'regardless': 5224, 'regards': 5225, 'region': 5226, 'regional': 5227, 'register': 5228, 'registered': 5229, 'registration': 5230, 'registry': 5231, 'regret': 5232, 'regretting': 5233, 'regular': 5234, 'regularly': 5235, 'regulated': 5236, 'regulations': 5237, 'regulatory': 5238, 'rehearsal': 5239, 'reheated': 5240, 'reimbursed': 5241, 'reimbursement': 5242, 'reimbursing': 5243, 'reinstalled': 5244, 'reject': 5245, 'rejected': 5246, 'relatable': 5247, 'relate': 5248, 'related': 5249, 'relations': 5250, 'relationship': 5251, 'relationships': 5252, 'relative': 5253, 'relatively': 5254, 'relatives': 5255, 'relax': 5256, 'relaxation': 5257, 'relaxing': 5258, 'relay': 5259, 'release': 5260, 'released': 5261, 'releases': 5262, 'releasing': 5263, 'relentlessly': 5264, 'relevant': 5265, 'reliable': 5266, 'relief': 5267, 'relies': 5268, 'relieved': 5269, 'religious': 5270, 'relocate': 5271, 'rely': 5272, 'remain': 5273, 'remaining': 5274, 'remains': 5275, 'remarks': 5276, 'remember': 5277, 'remembered': 5278, 'remind': 5279, 'reminder': 5280, 'reminders': 5281, 'reminding': 5282, 'reminds': 5283, 'reminisce': 5284, 'remittance': 5285, 'remote': 5286, 'remotely': 5287, 'removable': 5288, 'remove': 5289, 'removers': 5290, 'removing': 5291, 'render': 5292, 'rendered': 5293, 'renders': 5294, 'renege': 5295, 'renew': 5296, 'renewable': 5297, 'renewal': 5298, 'renewed': 5299, 'renewing': 5300, 'renovate': 5301, 'renovated': 5302, 'renovation': 5303, 'renowned': 5304, 'rent': 5305, 'rental': 5306, 'rentals': 5307, 'rented': 5308, 'renting': 5309, 'reorder': 5310, 'repair': 5311, 'repay': 5312, 'repayment': 5313, 'repeat': 5314, 'replace': 5315, 'replaced': 5316, 'replacement': 5317, 'replacements': 5318, 'replacing': 5319, 'reply': 5320, 'report': 5321, 'reported': 5322, 'reports': 5323, 'representative': 5324, 'representing': 5325, 'represents': 5326, 'reputable': 5327, 'reputation': 5328, 'reputed': 5329, 'request': 5330, 'requested': 5331, 'requesting': 5332, 'requests': 5333, 'require': 5334, 'required': 5335, 'requirement': 5336, 'requirements': 5337, 'requires': 5338, 'rescheduled': 5339, 'rescission': 5340, 'research': 5341, 'researched': 5342, 'researching': 5343, 'resellers': 5344, 'resending': 5345, 'reservation': 5346, 'reservations': 5347, 'reserve': 5348, 'reserved': 5349, 'reserving': 5350, 'reset': 5351, 'reside': 5352, 'residence': 5353, 'resident': 5354, 'residents': 5355, 'residing': 5356, 'resistant': 5357, 'resistors': 5358, 'resolve': 5359, 'resolved': 5360, 'resolving': 5361, 'resort': 5362, 'resorting': 5363, 'resorts': 5364, 'resource': 5365, 'resources': 5366, 'respect': 5367, 'respected': 5368, 'respective': 5369, 'respectively': 5370, 'respects': 5371, 'respond': 5372, 'responding': 5373, 'response': 5374, 'responsibility': 5375, 'responsible': 5376, 'responsive': 5377, 'rest': 5378, 'restart': 5379, 'restaurant': 5380, 'restaurants': 5381, 'restocked': 5382, 'restore': 5383, 'restoring': 5384, 'restricted': 5385, 'restriction': 5386, 'restrictions': 5387, 'restroom': 5388, 'restrooms': 5389, 'result': 5390, 'resulted': 5391, 'results': 5392, 'resume': 5393, 'resumes': 5394, 'retail': 5395, 'retailer': 5396, 'retails': 5397, 'retain': 5398, 'retains': 5399, 'retirement': 5400, 'retract': 5401, 'retreat': 5402, 'retreats': 5403, 'retrieve': 5404, 'return': 5405, 'returned': 5406, 'returning': 5407, 'returns': 5408, 'reuploading': 5409, 'reusable': 5410, 'revamp': 5411, 'revealing': 5412, 'revenue': 5413, 'revenues': 5414, 'revert': 5415, 'review': 5416, 'reviewed': 5417, 'reviewers': 5418, 'reviewing': 5419, 'revise': 5420, 'revised': 5421, 'revision': 5422, 'revisions': 5423, 'revoke': 5424, 'revolving': 5425, 'reward': 5426, 'rewarding': 5427, 'rewards': 5428, 'rib': 5429, 'ribs': 5430, 'rice': 5431, 'rich': 5432, 'rid': 5433, 'ride': 5434, 'rides': 5435, 'right': 5436, 'rights': 5437, 'rigid': 5438, 'rim': 5439, 'ring': 5440, 'rise': 5441, 'risen': 5442, 'risk': 5443, 'risking': 5444, 'risks': 5445, 'risky': 5446, 'ritual': 5447, 'road': 5448, 'roadblock': 5449, 'roadmap': 5450, 'roasted': 5451, 'robot': 5452, 'rock': 5453, 'rocky': 5454, 'role': 5455, 'roleplaying': 5456, 'roles': 5457, 'roll': 5458, 'roller': 5459, 'rolls': 5460, 'roof': 5461, 'roofing': 5462, 'rooftop': 5463, 'room': 5464, 'roommate': 5465, 'rooms': 5466, 'root': 5467, 'roots': 5468, 'ropes': 5469, 'rotary': 5470, 'rough': 5471, 'round': 5472, 'rounds': 5473, 'router': 5474, 'routine': 5475, 'royalty': 5476, 'rude': 5477, 'ruin': 5478, 'ruined': 5479, 'rules': 5480, 'rumor': 5481, 'run': 5482, 'running': 5483, 'runs': 5484, 'rural': 5485, 'rush': 5486, 'rushing': 5487, 's': 5488, 'sacrificing': 5489, 'sad': 5490, 'safe': 5491, 'safeguard': 5492, 'safely': 5493, 'safer': 5494, 'safety': 5495, 'said': 5496, 'sake': 5497, 'salad': 5498, 'salary': 5499, 'sale': 5500, 'sales': 5501, 'salesmen': 5502, 'salt': 5503, 'saltwater': 5504, 'same': 5505, 'samgyeopsal': 5506, 'samgyupsal': 5507, 'sample': 5508, 'sampler': 5509, 'samples': 5510, 'sampling': 5511, 'sanctioning': 5512, 'sandwich': 5513, 'sandwiches': 5514, 'sanitary': 5515, 'satellite': 5516, 'satin': 5517, 'satisfied': 5518, 'satisfy': 5519, 'sauce': 5520, 'sauna': 5521, 'sausage': 5522, 'save': 5523, 'saved': 5524, 'saver': 5525, 'saves': 5526, 'saving': 5527, 'savings': 5528, 'savory': 5529, 'savvy': 5530, 'saw': 5531, 'say': 5532, 'saying': 5533, 'says': 5534, 'scaffolding': 5535, 'scale': 5536, 'scammed': 5537, 'scan': 5538, 'scanner': 5539, 'scanners': 5540, 'scanning': 5541, 'scarcity': 5542, 'scared': 5543, 'scavenger': 5544, 'scenario': 5545, 'scenarios': 5546, 'scenic': 5547, 'scent': 5548, 'schedule': 5549, 'scheduled': 5550, 'scheduler': 5551, 'schedules': 5552, 'scheme': 5553, 'scholar': 5554, 'scholarships': 5555, 'school': 5556, 'schooling': 5557, 'science': 5558, 'sciences': 5559, 'scientific': 5560, 'scientists': 5561, 'scooters': 5562, 'score': 5563, 'scores': 5564, 'scratch': 5565, 'screen': 5566, 'screening': 5567, 'screenplay': 5568, 'screens': 5569, 'screenshot': 5570, 'screenshots': 5571, 'screw': 5572, 'screws': 5573, 'script': 5574, 'scrub': 5575, 'sculptors': 5576, 'sea': 5577, 'seal': 5578, 'search': 5579, 'searching': 5580, 'seared': 5581, 'season': 5582, 'seasons': 5583, 'seat': 5584, 'seats': 5585, 'seaweed': 5586, 'seaworthiness': 5587, 'second': 5588, 'secondary': 5589, 'secondhand': 5590, 'seconds': 5591, 'secret': 5592, 'secretary': 5593, 'section': 5594, 'sector': 5595, 'secure': 5596, 'secured': 5597, 'secures': 5598, 'securing': 5599, 'securities': 5600, 'security': 5601, 'see': 5602, 'seedlings': 5603, 'seeing': 5604, 'seek': 5605, 'seeking': 5606, 'seem': 5607, 'seems': 5608, 'seen': 5609, 'select': 5610, 'selected': 5611, 'selection': 5612, 'selections': 5613, 'self': 5614, 'sell': 5615, 'seller': 5616, 'sellers': 5617, 'selling': 5618, 'sells': 5619, 'selves': 5620, 'semester': 5621, 'semiconductor': 5622, 'semiconductors': 5623, 'seminar': 5624, 'seminars': 5625, 'send': 5626, 'sender': 5627, 'sending': 5628, 'senior': 5629, 'seniors': 5630, 'sense': 5631, 'sensor': 5632, 'sensors': 5633, 'sent': 5634, 'separate': 5635, 'separately': 5636, 'serial': 5637, 'series': 5638, 'serious': 5639, 'serve': 5640, 'served': 5641, 'server': 5642, 'servers': 5643, 'serves': 5644, 'service': 5645, 'serviced': 5646, 'services': 5647, 'servicing': 5648, 'serving': 5649, 'servings': 5650, 'servo': 5651, 'session': 5652, 'sessions': 5653, 'set': 5654, 'sets': 5655, 'setting': 5656, 'settings': 5657, 'settle': 5658, 'settled': 5659, 'setup': 5660, 'setups': 5661, 'seven': 5662, 'several': 5663, 'severe': 5664, 'sewer': 5665, 'sewing': 5666, 'shaded': 5667, 'shaft': 5668, 'shafts': 5669, 'shake': 5670, 'shall': 5671, 'shape': 5672, 'shaped': 5673, 'shapes': 5674, 'share': 5675, 'shared': 5676, 'shares': 5677, 'sharing': 5678, 'sharpened': 5679, 'sharply': 5680, 'she': 5681, 'sheet': 5682, 'shelter': 5683, 'shift': 5684, 'shifted': 5685, 'ship': 5686, 'shipment': 5687, 'shipments': 5688, 'shipped': 5689, 'shipping': 5690, 'ships': 5691, 'shock': 5692, 'shoddy': 5693, 'shoe': 5694, 'shoes': 5695, 'shoot': 5696, 'shooting': 5697, 'shop': 5698, 'shopping': 5699, 'shops': 5700, 'short': 5701, 'shortly': 5702, 'shot': 5703, 'shots': 5704, 'should': 5705, 'shoulder': 5706, 'shouldn': 5707, 'shovel': 5708, 'shovels': 5709, 'show': 5710, 'showcase': 5711, 'showcases': 5712, 'showcasing': 5713, 'showed': 5714, 'shower': 5715, 'showing': 5716, 'shown': 5717, 'showroom': 5718, 'shows': 5719, 'shredder': 5720, 'shredders': 5721, 'shrimp': 5722, 'shutting': 5723, 'shy': 5724, 'sibling': 5725, 'side': 5726, 'sides': 5727, 'sign': 5728, 'signal': 5729, 'signals': 5730, 'signatory': 5731, 'signature': 5732, 'signatures': 5733, 'signed': 5734, 'significance': 5735, 'significant': 5736, 'significantly': 5737, 'signify': 5738, 'signing': 5739, 'silent': 5740, 'silk': 5741, 'silver': 5742, 'silverware': 5743, 'similar': 5744, 'simmered': 5745, 'simmering': 5746, 'simple': 5747, 'simpler': 5748, 'simply': 5749, 'simultaneously': 5750, 'since': 5751, 'sincere': 5752, 'sincerely': 5753, 'sing': 5754, 'single': 5755, 'sink': 5756, 'sir': 5757, 'sister': 5758, 'sit': 5759, 'site': 5760, 'sited': 5761, 'sites': 5762, 'sitting': 5763, 'situation': 5764, 'situations': 5765, 'six': 5766, 'sixth': 5767, 'sizable': 5768, 'size': 5769, 'sized': 5770, 'sizes': 5771, 'sketches': 5772, 'skill': 5773, 'skilled': 5774, 'skills': 5775, 'skin': 5776, 'skincare': 5777, 'skyline': 5778, 'skyrocket': 5779, 'sleep': 5780, 'sleeping': 5781, 'slept': 5782, 'slice': 5783, 'slide': 5784, 'slides': 5785, 'sliding': 5786, 'slightly': 5787, 'slip': 5788, 'slippers': 5789, 'slot': 5790, 'slots': 5791, 'slow': 5792, 'slurp': 5793, 'small': 5794, 'smaller': 5795, 'smallest': 5796, 'smart': 5797, 'smartphone': 5798, 'smartphones': 5799, 'smartwatches': 5800, 'smile': 5801, 'smoke': 5802, 'smooth': 5803, 'smoothly': 5804, 'snack': 5805, 'snacks': 5806, 'snap': 5807, 'sneakers': 5808, 'snob': 5809, 'snorkeling': 5810, 'so': 5811, 'soap': 5812, 'soaps': 5813, 'soaring': 5814, 'social': 5815, 'societal': 5816, 'socket': 5817, 'socks': 5818, 'sof': 5819, 'sofa': 5820, 'soft': 5821, 'software': 5822, 'softwares': 5823, 'soil': 5824, 'soju': 5825, 'sold': 5826, 'sole': 5827, 'solely': 5828, 'solid': 5829, 'solitary': 5830, 'solo': 5831, 'solution': 5832, 'solutions': 5833, 'solve': 5834, 'solving': 5835, 'some': 5836, 'somebody': 5837, 'someday': 5838, 'somehow': 5839, 'someone': 5840, 'something': 5841, 'sometime': 5842, 'sometimes': 5843, 'somewhere': 5844, 'son': 5845, 'song': 5846, 'songs': 5847, 'soon': 5848, 'sooner': 5849, 'sophisticated': 5850, 'sorry': 5851, 'sort': 5852, 'sorted': 5853, 'sorts': 5854, 'sound': 5855, 'soundbite': 5856, 'sounded': 5857, 'sounds': 5858, 'soundtrack': 5859, 'soup': 5860, 'source': 5861, 'sources': 5862, 'sous': 5863, 'southeast': 5864, 'souvenirs': 5865, 'soy': 5866, 'spa': 5867, 'space': 5868, 'spaces': 5869, 'spacious': 5870, 'spaghetti': 5871, 'spam': 5872, 'spare': 5873, 'spark': 5874, 'spas': 5875, 'speak': 5876, 'speaker': 5877, 'speakers': 5878, 'speaking': 5879, 'speaks': 5880, 'special': 5881, 'specialize': 5882, 'specialized': 5883, 'specializes': 5884, 'specialties': 5885, 'specialty': 5886, 'specific': 5887, 'specifically': 5888, 'specification': 5889, 'specifications': 5890, 'specifics': 5891, 'spectacular': 5892, 'spectrophotometer': 5893, 'spectrum': 5894, 'speed': 5895, 'speeds': 5896, 'spend': 5897, 'spending': 5898, 'spent': 5899, 'spices': 5900, 'spicy': 5901, 'spike': 5902, 'spinners': 5903, 'spinning': 5904, 'spiral': 5905, 'split': 5906, 'spoke': 5907, 'spoken': 5908, 'sponsor': 5909, 'sponsored': 5910, 'spoons': 5911, 'sports': 5912, 'spot': 5913, 'spots': 5914, 'spouse': 5915, 'sprained': 5916, 'spray': 5917, 'spread': 5918, 'spreader': 5919, 'spreading': 5920, 'spring': 5921, 'springs': 5922, 'sprout': 5923, 'sprouts': 5924, 'spyware': 5925, 'square': 5926, 'squeeze': 5927, 'squid': 5928, 'ssambap': 5929, 'ssamjang': 5930, 'st': 5931, 'stable': 5932, 'stacking': 5933, 'staff': 5934, 'staffs': 5935, 'stage': 5936, 'stages': 5937, 'staggered': 5938, 'stainless': 5939, 'stake': 5940, 'stalls': 5941, 'stand': 5942, 'standard': 5943, 'standards': 5944, 'standing': 5945, 'stands': 5946, 'star': 5947, 'starch': 5948, 'starred': 5949, 'stars': 5950, 'start': 5951, 'started': 5952, 'starters': 5953, 'starting': 5954, 'starts': 5955, 'startup': 5956, 'startups': 5957, 'state': 5958, 'stated': 5959, 'statement': 5960, 'statements': 5961, 'states': 5962, 'static': 5963, 'station': 5964, 'stationary': 5965, 'stationed': 5966, 'stations': 5967, 'statistics': 5968, 'statue': 5969, 'status': 5970, 'stay': 5971, 'stayed': 5972, 'staying': 5973, 'stays': 5974, 'steadier': 5975, 'steady': 5976, 'steak': 5977, 'steal': 5978, 'steamed': 5979, 'steamers': 5980, 'steel': 5981, 'steering': 5982, 'stems': 5983, 'step': 5984, 'stepped': 5985, 'steps': 5986, 'sterilizers': 5987, 'stew': 5988, 'stick': 5989, 'sticker': 5990, 'stickers': 5991, 'sticky': 5992, 'still': 5993, 'stipulated': 5994, 'stir': 5995, 'stitches': 5996, 'stock': 5997, 'stockbroker': 5998, 'stocks': 5999, 'stolen': 6000, 'stones': 6001, 'stop': 6002, 'stoppers': 6003, 'stops': 6004, 'storage': 6005, 'store': 6006, 'stored': 6007, 'stores': 6008, 'storey': 6009, 'stories': 6010, 'storm': 6011, 'story': 6012, 'stoves': 6013, 'straight': 6014, 'straighten': 6015, 'strain': 6016, 'strands': 6017, 'strange': 6018, 'strategic': 6019, 'strategies': 6020, 'strategize': 6021, 'strategy': 6022, 'straw': 6023, 'stream': 6024, 'streamed': 6025, 'streaming': 6026, 'street': 6027, 'strength': 6028, 'strengthen': 6029, 'stress': 6030, 'strict': 6031, 'strictly': 6032, 'strictness': 6033, 'strips': 6034, 'strive': 6035, 'striving': 6036, 'stroganoff': 6037, 'strong': 6038, 'stronger': 6039, 'strongly': 6040, 'structure': 6041, 'structures': 6042, 'struggle': 6043, 'stub': 6044, 'stuck': 6045, 'student': 6046, 'students': 6047, 'studied': 6048, 'studies': 6049, 'studio': 6050, 'study': 6051, 'studying': 6052, 'stuff': 6053, 'stumped': 6054, 'stunning': 6055, 'stupendous': 6056, 'stuttering': 6057, 'style': 6058, 'subcription': 6059, 'subdivision': 6060, 'submersible': 6061, 'submission': 6062, 'submissions': 6063, 'submit': 6064, 'submitted': 6065, 'subscribe': 6066, 'subscribed': 6067, 'subscriber': 6068, 'subscribers': 6069, 'subscribing': 6070, 'subscription': 6071, 'subscriptions': 6072, 'subsidiaries': 6073, 'subsidiary': 6074, 'substantial': 6075, 'subtitles': 6076, 'subway': 6077, 'succeed': 6078, 'succeeded': 6079, 'success': 6080, 'successful': 6081, 'succinctly': 6082, 'such': 6083, 'suction': 6084, 'sudden': 6085, 'suddenly': 6086, 'suffer': 6087, 'suffered': 6088, 'suffice': 6089, 'sufficient': 6090, 'sugar': 6091, 'suggest': 6092, 'suggested': 6093, 'suggesting': 6094, 'suggestion': 6095, 'suggestions': 6096, 'suit': 6097, 'suitable': 6098, 'suite': 6099, 'suites': 6100, 'sujeonggwa': 6101, 'sukju': 6102, 'sum': 6103, 'summary': 6104, 'summer': 6105, 'sun': 6106, 'sunrise': 6107, 'superintendent': 6108, 'superiors': 6109, 'supermarket': 6110, 'supervisor': 6111, 'supervisory': 6112, 'supplements': 6113, 'supplied': 6114, 'supplier': 6115, 'suppliers': 6116, 'supplies': 6117, 'supply': 6118, 'supplying': 6119, 'support': 6120, 'supporters': 6121, 'supporting': 6122, 'supportive': 6123, 'suppose': 6124, 'supposed': 6125, 'sure': 6126, 'surely': 6127, 'surface': 6128, 'surge': 6129, 'surpass': 6130, 'surplus': 6131, 'surprise': 6132, 'surprised': 6133, 'surround': 6134, 'surveillance': 6135, 'survey': 6136, 'surveyed': 6137, 'suspect': 6138, 'suspicious': 6139, 'sustainable': 6140, 'sweat': 6141, 'sweet': 6142, 'sweets': 6143, 'swift': 6144, 'swiftly': 6145, 'swimming': 6146, 'switch': 6147, 'switched': 6148, 'switching': 6149, 'symbols': 6150, 'symmetric': 6151, 'syndicated': 6152, 'synopsis': 6153, 'synthesizing': 6154, 'synthetic': 6155, 'syringes': 6156, 'system': 6157, 'systems': 6158, 't': 6159, 'tab': 6160, 'table': 6161, 'tables': 6162, 'tablet': 6163, 'tablets': 6164, 'tabulate': 6165, 'tackled': 6166, 'tactics': 6167, 'tagline': 6168, 'tags': 6169, 'tainted': 6170, 'take': 6171, 'taken': 6172, 'takeover': 6173, 'taker': 6174, 'takes': 6175, 'taking': 6176, 'talent': 6177, 'talents': 6178, 'talk': 6179, 'talked': 6180, 'talking': 6181, 'talks': 6182, 'tap': 6183, 'tape': 6184, 'taps': 6185, 'target': 6186, 'targeted': 6187, 'targeting': 6188, 'targets': 6189, 'tariff': 6190, 'tariffs': 6191, 'task': 6192, 'tasked': 6193, 'tasks': 6194, 'taste': 6195, 'tasted': 6196, 'tastes': 6197, 'tasty': 6198, 'tattoo': 6199, 'taught': 6200, 'tax': 6201, 'taxation': 6202, 'taxed': 6203, 'taxes': 6204, 'tea': 6205, 'teach': 6206, 'teacher': 6207, 'teachers': 6208, 'teaching': 6209, 'team': 6210, 'teammates': 6211, 'teams': 6212, 'teas': 6213, 'teaser': 6214, 'tech': 6215, 'technical': 6216, 'technically': 6217, 'technician': 6218, 'technicians': 6219, 'techniques': 6220, 'technological': 6221, 'technologies': 6222, 'technologist': 6223, 'technology': 6224, 'tedious': 6225, 'teenagers': 6226, 'telecommunication': 6227, 'telecommunications': 6228, 'teleconference': 6229, 'telephone': 6230, 'television': 6231, 'televisions': 6232, 'tell': 6233, 'telling': 6234, 'temperature': 6235, 'temperatures': 6236, 'template': 6237, 'templates': 6238, 'temple': 6239, 'temples': 6240, 'temporarily': 6241, 'temporary': 6242, 'ten': 6243, 'tenants': 6244, 'tend': 6245, 'tendency': 6246, 'tender': 6247, 'tent': 6248, 'tentative': 6249, 'tents': 6250, 'tenure': 6251, 'terabyte': 6252, 'terabytes': 6253, 'term': 6254, 'terminal': 6255, 'terminate': 6256, 'terms': 6257, 'terrace': 6258, 'terrible': 6259, 'terribly': 6260, 'test': 6261, 'tested': 6262, 'tester': 6263, 'testers': 6264, 'testing': 6265, 'tests': 6266, 'text': 6267, 'textbook': 6268, 'textbooks': 6269, 'textile': 6270, 'textiles': 6271, 'texts': 6272, 'texture': 6273, 'textures': 6274, 'th': 6275, 'than': 6276, 'thank': 6277, 'thanks': 6278, 'that': 6279, 'the': 6280, 'theater': 6281, 'their': 6282, 'theirs': 6283, 'them': 6284, 'theme': 6285, 'themes': 6286, 'themselves': 6287, 'then': 6288, 'therapy': 6289, 'there': 6290, 'thereby': 6291, 'therefore': 6292, 'thermoforming': 6293, 'thermoplastic': 6294, 'thermostat': 6295, 'these': 6296, 'they': 6297, 'thick': 6298, 'thickened': 6299, 'thin': 6300, 'thing': 6301, 'things': 6302, 'think': 6303, 'thinking': 6304, 'thinks': 6305, 'third': 6306, 'this': 6307, 'thorough': 6308, 'thoroughly': 6309, 'those': 6310, 'though': 6311, 'thought': 6312, 'thoughts': 6313, 'thousand': 6314, 'thousands': 6315, 'threads': 6316, 'threat': 6317, 'threaten': 6318, 'threatening': 6319, 'three': 6320, 'thriller': 6321, 'thrives': 6322, 'through': 6323, 'throughout': 6324, 'thus': 6325, 'ticket': 6326, 'tickets': 6327, 'tie': 6328, 'tied': 6329, 'tier': 6330, 'tight': 6331, 'tightly': 6332, 'till': 6333, 'time': 6334, 'timeline': 6335, 'timelines': 6336, 'timely': 6337, 'timer': 6338, 'times': 6339, 'timespan': 6340, 'timetable': 6341, 'timing': 6342, 'tiny': 6343, 'tip': 6344, 'tipping': 6345, 'tips': 6346, 'tire': 6347, 'tissue': 6348, 'title': 6349, 'to': 6350, 'toast': 6351, 'toasters': 6352, 'tobacco': 6353, 'today': 6354, 'toddlers': 6355, 'toe': 6356, 'together': 6357, 'toilet': 6358, 'token': 6359, 'tokens': 6360, 'told': 6361, 'tolerant': 6362, 'tolerated': 6363, 'tomorrow': 6364, 'ton': 6365, 'tone': 6366, 'toner': 6367, 'tones': 6368, 'tonight': 6369, 'too': 6370, 'took': 6371, 'tool': 6372, 'tools': 6373, 'top': 6374, 'topic': 6375, 'topics': 6376, 'topmost': 6377, 'torn': 6378, 'tortilla': 6379, 'total': 6380, 'totally': 6381, 'touch': 6382, 'touchscreen': 6383, 'tough': 6384, 'tour': 6385, 'tourism': 6386, 'tourist': 6387, 'tourists': 6388, 'tours': 6389, 'tow': 6390, 'toward': 6391, 'towards': 6392, 'towel': 6393, 'towels': 6394, 'town': 6395, 'townhouse': 6396, 'track': 6397, 'trackballs': 6398, 'tracking': 6399, 'trackpad': 6400, 'tractor': 6401, 'trade': 6402, 'trademark': 6403, 'trader': 6404, 'trades': 6405, 'trading': 6406, 'traditional': 6407, 'traditionally': 6408, 'traditions': 6409, 'traffic': 6410, 'trailer': 6411, 'trailers': 6412, 'train': 6413, 'training': 6414, 'trainings': 6415, 'trains': 6416, 'tranche': 6417, 'transact': 6418, 'transaction': 6419, 'transactions': 6420, 'transfer': 6421, 'transferred': 6422, 'transferring': 6423, 'transfers': 6424, 'translations': 6425, 'translators': 6426, 'transmission': 6427, 'transmit': 6428, 'transmitted': 6429, 'transparency': 6430, 'transport': 6431, 'transportation': 6432, 'transportations': 6433, 'trash': 6434, 'travel': 6435, 'traveled': 6436, 'travelers': 6437, 'traveling': 6438, 'travelled': 6439, 'tread': 6440, 'treat': 6441, 'treated': 6442, 'treatment': 6443, 'treatments': 6444, 'tremendously': 6445, 'trend': 6446, 'trending': 6447, 'trends': 6448, 'trendy': 6449, 'tri': 6450, 'trial': 6451, 'trials': 6452, 'tricky': 6453, 'tried': 6454, 'tries': 6455, 'trigger': 6456, 'trip': 6457, 'triple': 6458, 'trips': 6459, 'trouble': 6460, 'troubles': 6461, 'troubleshooting': 6462, 'truck': 6463, 'trucks': 6464, 'true': 6465, 'truly': 6466, 'trust': 6467, 'trusted': 6468, 'trustee': 6469, 'trusting': 6470, 'trustworthy': 6471, 'truth': 6472, 'try': 6473, 'trying': 6474, 'tteokbokki': 6475, 'tub': 6476, 'tube': 6477, 'tubes': 6478, 'tubing': 6479, 'tubs': 6480, 'tuned': 6481, 'tunnels': 6482, 'turn': 6483, 'turnaround': 6484, 'turned': 6485, 'turning': 6486, 'turnkey': 6487, 'turns': 6488, 'tutorials': 6489, 'tweaks': 6490, 'twenty': 6491, 'twice': 6492, 'twin': 6493, 'two': 6494, 'type': 6495, 'types': 6496, 'typewriter': 6497, 'typical': 6498, 'typically': 6499, 'ultimately': 6500, 'ultrasonic': 6501, 'ultrasound': 6502, 'umbrella': 6503, 'unable': 6504, 'unacceptable': 6505, 'unauthorized': 6506, 'unavailable': 6507, 'unaware': 6508, 'unboxed': 6509, 'unboxing': 6510, 'unbreakable': 6511, 'unchanged': 6512, 'uncomfortable': 6513, 'under': 6514, 'undergoing': 6515, 'underlying': 6516, 'underneath': 6517, 'underreported': 6518, 'understaffed': 6519, 'understand': 6520, 'understandable': 6521, 'understanding': 6522, 'undervalued': 6523, 'underwriting': 6524, 'undoubtedly': 6525, 'undress': 6526, 'unemployed': 6527, 'unending': 6528, 'unequal': 6529, 'unexpected': 6530, 'unfair': 6531, 'unfamiliar': 6532, 'unfold': 6533, 'unforeseen': 6534, 'unfortunate': 6535, 'unfortunately': 6536, 'unhappy': 6537, 'unintentional': 6538, 'unique': 6539, 'unit': 6540, 'units': 6541, 'unity': 6542, 'universal': 6543, 'universities': 6544, 'university': 6545, 'unless': 6546, 'unlike': 6547, 'unlimited': 6548, 'unloading': 6549, 'unnecessary': 6550, 'unpleasant': 6551, 'unpredictable': 6552, 'unprofessional': 6553, 'unquantifiable': 6554, 'unrealized': 6555, 'unsecured': 6556, 'unstable': 6557, 'unsure': 6558, 'unsustainable': 6559, 'until': 6560, 'untouched': 6561, 'unused': 6562, 'up': 6563, 'upcoming': 6564, 'update': 6565, 'updated': 6566, 'updates': 6567, 'updating': 6568, 'upfront': 6569, 'upgrade': 6570, 'upgraded': 6571, 'upgrades': 6572, 'upgrading': 6573, 'upkeep': 6574, 'upload': 6575, 'uploaded': 6576, 'uploading': 6577, 'upon': 6578, 'upper': 6579, 'ups': 6580, 'upset': 6581, 'urge': 6582, 'urged': 6583, 'urgent': 6584, 'urgently': 6585, 'us': 6586, 'usability': 6587, 'usage': 6588, 'use': 6589, 'used': 6590, 'useful': 6591, 'user': 6592, 'users': 6593, 'uses': 6594, 'using': 6595, 'usual': 6596, 'usually': 6597, 'utensils': 6598, 'utilities': 6599, 'utility': 6600, 'utilize': 6601, 'utilized': 6602, 'utilizing': 6603, 'vacation': 6604, 'vaccination': 6605, 'vaccine': 6606, 'vacuum': 6607, 'valid': 6608, 'validates': 6609, 'validating': 6610, 'validity': 6611, 'valuable': 6612, 'valuables': 6613, 'value': 6614, 'values': 6615, 'valve': 6616, 'valves': 6617, 'van': 6618, 'vans': 6619, 'variable': 6620, 'variables': 6621, 'variation': 6622, 'varies': 6623, 'varieties': 6624, 'variety': 6625, 'various': 6626, 'vary': 6627, 'varying': 6628, 've': 6629, 'vector': 6630, 'vectors': 6631, 'vegan': 6632, 'vegetable': 6633, 'vegetables': 6634, 'vegetarian': 6635, 'veggies': 6636, 'vehicle': 6637, 'vehicles': 6638, 'vending': 6639, 'vendor': 6640, 'vendors': 6641, 'venture': 6642, 'ventures': 6643, 'venturi': 6644, 'venturing': 6645, 'venue': 6646, 'verification': 6647, 'verified': 6648, 'verify': 6649, 'versatile': 6650, 'version': 6651, 'versions': 6652, 'very': 6653, 'veteran': 6654, 'via': 6655, 'viable': 6656, 'viand': 6657, 'vibes': 6658, 'vibrations': 6659, 'victim': 6660, 'vide': 6661, 'video': 6662, 'videoconferencing': 6663, 'videos': 6664, 'view': 6665, 'viewers': 6666, 'views': 6667, 'villa': 6668, 'village': 6669, 'villas': 6670, 'vine': 6671, 'vinegar': 6672, 'vintage': 6673, 'violated': 6674, 'violation': 6675, 'violent': 6676, 'viral': 6677, 'virtual': 6678, 'virtualization': 6679, 'virtually': 6680, 'virus': 6681, 'viruses': 6682, 'visas': 6683, 'viscosity': 6684, 'visibility': 6685, 'visible': 6686, 'vision': 6687, 'visit': 6688, 'visited': 6689, 'visiting': 6690, 'visitors': 6691, 'visits': 6692, 'visual': 6693, 'visualization': 6694, 'visualizations': 6695, 'visualize': 6696, 'visually': 6697, 'visuals': 6698, 'vital': 6699, 'vitals': 6700, 'vlog': 6701, 'vocabulary': 6702, 'voice': 6703, 'volatile': 6704, 'volume': 6705, 'voluminous': 6706, 'vulnerable': 6707, 'wafer': 6708, 'wage': 6709, 'wages': 6710, 'wait': 6711, 'waited': 6712, 'waiters': 6713, 'waiting': 6714, 'waive': 6715, 'waived': 6716, 'wake': 6717, 'walk': 6718, 'walking': 6719, 'wallet': 6720, 'wallpapers': 6721, 'walls': 6722, 'want': 6723, 'wanted': 6724, 'wanting': 6725, 'wants': 6726, 'warehouse': 6727, 'warm': 6728, 'warn': 6729, 'warning': 6730, 'warping': 6731, 'warrant': 6732, 'warrants': 6733, 'warranty': 6734, 'wary': 6735, 'was': 6736, 'washer': 6737, 'washers': 6738, 'wasn': 6739, 'waste': 6740, 'wasting': 6741, 'watch': 6742, 'watched': 6743, 'watching': 6744, 'water': 6745, 'watering': 6746, 'watermelon': 6747, 'waterproof': 6748, 'waterways': 6749, 'watts': 6750, 'way': 6751, 'ways': 6752, 'we': 6753, 'wealth': 6754, 'wealthy': 6755, 'wear': 6756, 'weather': 6757, 'web': 6758, 'webinar': 6759, 'webinars': 6760, 'webpage': 6761, 'website': 6762, 'websites': 6763, 'wedding': 6764, 'weddings': 6765, 'week': 6766, 'weekdays': 6767, 'weekend': 6768, 'weekends': 6769, 'weekly': 6770, 'weeks': 6771, 'weight': 6772, 'welcome': 6773, 'welcomes': 6774, 'well': 6775, 'went': 6776, 'were': 6777, 'weren': 6778, 'west': 6779, 'western': 6780, 'what': 6781, 'whatever': 6782, 'wheat': 6783, 'wheel': 6784, 'wheels': 6785, 'when': 6786, 'whenever': 6787, 'where': 6788, 'whereabouts': 6789, 'wherever': 6790, 'whether': 6791, 'which': 6792, 'while': 6793, 'white': 6794, 'who': 6795, 'whoever': 6796, 'whole': 6797, 'wholesale': 6798, 'whom': 6799, 'whose': 6800, 'why': 6801, 'wide': 6802, 'widely': 6803, 'widened': 6804, 'wider': 6805, 'widest': 6806, 'wife': 6807, 'wild': 6808, 'wildlife': 6809, 'will': 6810, 'willing': 6811, 'win': 6812, 'wind': 6813, 'window': 6814, 'windows': 6815, 'wine': 6816, 'wines': 6817, 'wing': 6818, 'winner': 6819, 'winter': 6820, 'wipe': 6821, 'wire': 6822, 'wired': 6823, 'wireless': 6824, 'wires': 6825, 'wise': 6826, 'wisely': 6827, 'wish': 6828, 'wished': 6829, 'wishes': 6830, 'with': 6831, 'withdraw': 6832, 'withdrawal': 6833, 'withhold': 6834, 'within': 6835, 'without': 6836, 'witness': 6837, 'women': 6838, 'won': 6839, 'wonder': 6840, 'wonderful': 6841, 'wondering': 6842, 'wonders': 6843, 'wood': 6844, 'word': 6845, 'words': 6846, 'work': 6847, 'worked': 6848, 'worker': 6849, 'workers': 6850, 'workforce': 6851, 'working': 6852, 'workplace': 6853, 'works': 6854, 'workshop': 6855, 'world': 6856, 'worldwide': 6857, 'worm': 6858, 'worms': 6859, 'worried': 6860, 'worries': 6861, 'worry': 6862, 'worrying': 6863, 'worse': 6864, 'worst': 6865, 'worth': 6866, 'worthwhile': 6867, 'worthy': 6868, 'would': 6869, 'wouldn': 6870, 'wow': 6871, 'wrap': 6872, 'wrapping': 6873, 'wraps': 6874, 'write': 6875, 'writers': 6876, 'writing': 6877, 'written': 6878, 'wrong': 6879, 'yacht': 6880, 'yang': 6881, 'yard': 6882, 'yarn': 6883, 'year': 6884, 'yearly': 6885, 'years': 6886, 'yell': 6887, 'yellow': 6888, 'yen': 6889, 'yes': 6890, 'yesterday': 6891, 'yet': 6892, 'yield': 6893, 'yields': 6894, 'yin': 6895, 'yo': 6896, 'you': 6897, 'young': 6898, 'youngsters': 6899, 'your': 6900, 'yours': 6901, 'yourself': 6902, 'yourselves': 6903, 'youth': 6904, 'yurt': 6905, 'zero': 6906, 'zones': 6907, 'zoom': 6908}\n"
          ]
        }
      ]
    },
    {
      "cell_type": "markdown",
      "source": [
        "### 정수 인코딩"
      ],
      "metadata": {
        "id": "tWUdLA1eanaz"
      }
    },
    {
      "cell_type": "markdown",
      "source": [
        "현재 데이터 상황:\n",
        "\n",
        "[['나','밥','먹는다','<EOS>'],['어제','학교','가다','\\<EOS\\>']]\n",
        "의 형태이다.\n",
        "\n",
        "그런데 우리가 할 것: 일단 첫번째 list 내 list에 접근 후 그 list에 있는 element들에 정수 인코딩을 진행하고,\n",
        "\n"
      ],
      "metadata": {
        "id": "JN3hp39KbLSO"
      }
    },
    {
      "cell_type": "code",
      "source": [
        "sample_b = [['밥','먹다','<EOS>'],['어제','학교','가다','<EOS>']]\n",
        "encode_b = list(map(lambda x: torch.Tensor(list(map(lambda y: src_to_index[y],x))).long(),sample_b))\n",
        "print(encode_b) "
      ],
      "metadata": {
        "colab": {
          "base_uri": "https://localhost:8080/"
        },
        "id": "MjYlcxSrcyZu",
        "outputId": "639e50f3-86af-4ae9-e394-9235e5d85a3d"
      },
      "execution_count": 40,
      "outputs": [
        {
          "output_type": "stream",
          "name": "stdout",
          "text": [
            "[tensor([1971, 1673,    2]), tensor([3274, 5503,  145,    2])]\n"
          ]
        }
      ]
    },
    {
      "cell_type": "code",
      "source": [
        "# 앞서 toekn-index dictionary로 정리한 것을 이용해서 각각의 토큰들을 정수인코딩을 진행해봅니다.\n",
        "# 이 과정에서 유의할 점은, 기존의 구현 코드에서 여러개의 for loop을 사용했습니다.\n",
        "# 이보다 빨리 진행하기 위해 어떻게 코딩할 수 있을까요?\n",
        "# 시간이 충분하시다면 for loop을 그대로 이용하셔도 좋습니다만, 다른 방법도 고민하셔도 좋습니다.\n",
        "# hint: Pandas에서 apply와 비슷한 것들을 이용해보면 어떨까요?\n",
        "\n",
        "# encoder의 입력값 정수 인코딩 진행\n",
        "encoder_input = list(map(lambda x: torch.Tensor(list(map(lambda y: src_to_index[y],x))).long(),src_seq_tr))\n",
        "# 우선 decoder에서 사용하는 문장에 대해 정수인코딩 진행 (지금까지는 eos, sos만 붙어있으니까)\n",
        "# 왜 decoder_input 중복이지???\n",
        "decoder_input = list(map(lambda x: torch.Tensor(list(map(lambda y: tar_to_index[y],x))[:-1]).long(),tar_seq_tr))\n",
        "# 다만 decoder의 출력값은 <SOS>들어가면 안되니 첫번째 토큰은 빼주기\n",
        "decoder_target = list(map(lambda x: torch.Tensor(list(map(lambda y: tar_to_index[y],x))[1:]).long(),tar_seq_tr))\n"
      ],
      "metadata": {
        "id": "ocvHdAzp0B3Q"
      },
      "execution_count": 26,
      "outputs": []
    },
    {
      "cell_type": "code",
      "source": [
        "decoder_target[:5]"
      ],
      "metadata": {
        "colab": {
          "base_uri": "https://localhost:8080/"
        },
        "id": "d8XGZpg_iFxI",
        "outputId": "a036c5e6-605d-41bc-c7dd-79d851be37de"
      },
      "execution_count": 32,
      "outputs": [
        {
          "output_type": "execute_result",
          "data": {
            "text/plain": [
              "[tensor([ 328, 4033, 3238, 6350, 3388, 6279, 1016,  328, 3455, 6897, 2467, 1980,\n",
              "         2481, 1519, 6831, 6586,    1]),\n",
              " tensor([ 328, 4033, 2277, 6304,  786, 3770, 1524,  328, 3377, 5836, 5087, 6350,\n",
              "         1127, 6897,    1]),\n",
              " tensor([ 339, 6354, 5488, 6856, 4472, 3567, 2775, 3028, 2921, 3372, 2613,  782,\n",
              "         1621, 2479, 4508, 1434,    1]),\n",
              " tensor([ 751, 6897, 6233, 6284, 6753, 3968, 6171, 1595, 4445, 6282, 1716,    1]),\n",
              " tensor([ 492, 3482,  786, 3085, 6146,    1])]"
            ]
          },
          "metadata": {},
          "execution_count": 32
        }
      ]
    },
    {
      "cell_type": "code",
      "execution_count": 33,
      "metadata": {
        "id": "fT3x1SL_l1pY"
      },
      "outputs": [],
      "source": [
        "from torch.nn.utils.rnn import pad_sequence"
      ]
    },
    {
      "cell_type": "markdown",
      "source": [
        "### Padding"
      ],
      "metadata": {
        "id": "ibj8DeCqbvZG"
      }
    },
    {
      "cell_type": "code",
      "execution_count": 34,
      "metadata": {
        "id": "sSNmdbEwuQR5"
      },
      "outputs": [],
      "source": [
        "from numpy import true_divide\n",
        "# 현재 길이가 제각각인 정수화된 문장이 있습니다. padding을 통해 길이를 맞춰봅시다\n",
        "# 주의사항: 여기에 사용된 값을은 정수일까요?\n",
        "batch_first = True\n",
        "\n",
        "encoder_input_tr = pad_sequence(encoder_input, batch_first=batch_first).long()\n",
        "decoder_input_tr = pad_sequence(decoder_input, batch_first=batch_first).long()\n",
        "decoder_target_tr = pad_sequence(decoder_target, batch_first=batch_first).long()"
      ]
    },
    {
      "cell_type": "markdown",
      "metadata": {
        "id": "FQ_AHRQPmfZX"
      },
      "source": [
        "## Train data\n",
        "\n",
        "tuple type으로,  (encoder_input, decoder_input, decoder_target)의 순서를 가지게 됩니다. 이는 tuple assignment를 이용하려고 하는 것이니 자유롭게 사용하셔도 좋습니다."
      ]
    },
    {
      "cell_type": "code",
      "execution_count": 35,
      "metadata": {
        "id": "YXqi5dV-mjQD"
      },
      "outputs": [],
      "source": [
        "train_data = tuple([encoder_input_tr, decoder_input_tr, decoder_target_tr])"
      ]
    },
    {
      "cell_type": "markdown",
      "metadata": {
        "id": "nXhsP4O3mhih"
      },
      "source": [
        "## Eval data\n",
        "\n",
        "지금까지 진행한 것은 학습 데이터에 대한 전처리입니다.\n",
        "\n",
        "그런데 말입니다, 과연 평가 데이터는 학습데이터랑 동일한 형태일까요?\n",
        "\n",
        "학습 데이터에서 얻은 단어 집합이 평가에도 동일한가? 처음보는 단어들은 어떻게 임베딩 만들지?\n",
        "\n",
        "사용하는 단어도 동일할까요?\n",
        "\n",
        "게다가 실제 데이터라면 문장 속에 이메일이나, 전화번호등 다른 것들로 대체해야할 게 있지 않을까요? => 그냥 이메일이라고 알려주면 되지 않을까? 다양한 처리 힘듦\n",
        "\n",
        "참으로 고민할 게 많습니다. 이 모든 것들을 고려하면 좋겠지만, 현재 과제에서는 학습 데이터의 단어 집합에는 없는데 평가 데이터에서 등장하는 단어들은 어떻게 처리할지 한번 고민해봅시다.\n",
        "\n",
        "**핵심 TODO**:만약에 본 적이 없는 token이 나온다면 어떻게 될까요?\n",
        "\n",
        "--> Out of Vocabulary !(OoV)  =지금까지 단어 집합에 없던 아이들!<br>\n",
        "\n",
        "이를 한번에 처리해주는 토큰으로 \\<UNK\\>(=unknown token) 을 사용\n",
        "\n",
        "EX)\n",
        "\n",
        "train data : \"나는 밥을 먹는다.\"<br>\n",
        "\\>> [\"나\", \"밥\", \"먹다\"]<br>\n",
        "\\>> [\\<SOS\\>, 나, 밥, 먹다, \\<EOS\\>] <BR>\n",
        "\\>> {\\<SOS\\>:0, \\<EOS\\>:1, \\<UNK\\>: 2, 나:3, 밥:4, 먹다:5}  <bR>\n",
        "\\>> [0, 3, 4, 5, 1] <BR>\n",
        "\n",
        "val data: \"나는 고기를 먹는다\"<br>\n",
        "\\>> ['나', '고기' '먹다']<BR>\n",
        "\\>> [\\<SOS\\>, 나, \\<UNK\\>, 먹다, \\<EOS\\>] <BR>\n",
        "\\>> [0, 3, 2, 5, 1] <BR>\n",
        "\n",
        "우리는 평가시 고기라는 모르는 단어 들어가니 고기를 모르니 UNK라는 토큰으로 바꿔주는 작업이 필요함.\n",
        "=> 평가 데이터 처리시 이런 작업도 필요함"
      ]
    },
    {
      "cell_type": "code",
      "source": [
        "src_seq_val = []\n",
        "tar_seq_val = []\n",
        "\n",
        "\n",
        "for raw_val_dat in tqdm(raw_val_data):\n",
        "  # 문장별 tokenization\n",
        "  src_tmp = CustomTokenizer(raw_val_dat['ko'])\n",
        "  tar_tmp = CustomTokenizer(raw_val_dat['en'])\n",
        "\n",
        "  # 입력 시퀀스에서 문장의 끝을 알리는 <EOS> 토큰 추가\n",
        "  # 출력 시퀀스에서 시작과 끝을 알리는 <SOS>, <EOS> 토큰 추가\n",
        "  src_tmp.append('<EOS>')\n",
        "  tar_tmp.insert(0, '<SOS>')\n",
        "  tar_tmp.append('<EOS>')\n",
        "\n",
        "  # 처음보는 단어들은 일단 모르는 단어(OOV)로 표시해놓기  \n",
        "  # 해당 과정에서는 지금 얻은 token들(src_tmp와 tar_tmp)들 중에서 학습 데이터의 단어 집합(src_vocab과 tar_vocab)에 없는 단어들을 찾아야 합니다.\n",
        "  # 즉 위의 예시에서 \"고기\"에 해당하는 token을 찾아야 하고, 이를 list로 저장해봅시다.\n",
        "  src_oov = list(set(src_tmp) - set(src_vocab))\n",
        "  tar_oov = list(set(tar_tmp) - set(tar_vocab))\n",
        "\n",
        "  # OOV들은 <UNK>로 바꾸는 과정입니다.\n",
        "  # 지금 문장을 tokenization되어 있고, 앞서 구한 모르는 단어(OOV)들의 리스트(src_oov와 tar_oov)가 있는 상황에서\n",
        "  # 해당 리스트에 속한 토큰들은 <UNK>토큰으로 바꿔주는 것을 구현하는 파트입니다.\n",
        "  # 위의 예시에서 본다면 [<SOS>, 나, 고기, 먹다, <EOS>]를 [<SOS>, 나, <UNK>, 먹다, <EOS>]로 만들어주는 과정입니다.\n",
        "  src_tmp = list(map(lambda x: '<UNK>' if x in src_oov else x, src_tmp))\n",
        "  tar_tmp = list(map(lambda x: '<UNK>' if x in tar_oov else x, tar_tmp))\n",
        "  \n",
        "  # tokenization 끝난 문장 보관\n",
        "  src_seq_val.append(src_tmp)\n",
        "  tar_seq_val.append(tar_tmp)"
      ],
      "metadata": {
        "colab": {
          "base_uri": "https://localhost:8080/"
        },
        "id": "tvlFP0Q94rU3",
        "outputId": "db5a3e44-a69a-49d8-9225-7526bc5f8385"
      },
      "execution_count": 36,
      "outputs": [
        {
          "output_type": "stream",
          "name": "stderr",
          "text": [
            "100%|██████████| 1000/1000 [00:06<00:00, 142.93it/s]\n"
          ]
        }
      ]
    },
    {
      "cell_type": "code",
      "source": [
        "src_seq_val[5]"
      ],
      "metadata": {
        "colab": {
          "base_uri": "https://localhost:8080/"
        },
        "id": "s7x2S0t08dfe",
        "outputId": "c7c1f73c-81c0-43cc-ecb5-b2287178dfab"
      },
      "execution_count": 41,
      "outputs": [
        {
          "output_type": "execute_result",
          "data": {
            "text/plain": [
              "['더', '부드럽다', '<UNK>', '고르다', '톤', '피부', '<UNK>', '하다', '<EOS>']"
            ]
          },
          "metadata": {},
          "execution_count": 41
        }
      ]
    },
    {
      "cell_type": "markdown",
      "source": [
        "위의 샘플을 보면 생각보다 너무 많은 단어들이 UNK로 바뀌었습니다. 이게 과연 성능에 어떤 영향을 끼칠까요? 이를 방지할 수 있는 대책은 무엇일까요?\n",
        "\n",
        "정답은 없습니다. 자유롭게 고민해보셔도 좋을 것 같습니다."
      ],
      "metadata": {
        "id": "70nzuKIPf3nX"
      }
    },
    {
      "cell_type": "markdown",
      "source": [
        "### UNK 토큰 추가 및 단어집합, token-index 업데이트"
      ],
      "metadata": {
        "id": "KoH1M8GofxwV"
      }
    },
    {
      "cell_type": "code",
      "source": [
        "# UNK가 추가되면서 vocab과 index도 업데이트를 해야합니다.\n",
        "# 즉 지금 방식으로 처리한다면, 지금 단어 집합에는 <UNK>라는 토큰이 없습니다.\n",
        "# 그래서 UNK 토큰에도 정수를 할당해줘야 합니다.\n",
        "# 지금 0은 padding에서 사용하고 있으니 아래의 과정은 마지막에 <UNK>를 추가해보는 것입니다."
      ],
      "metadata": {
        "id": "lE3iIu_W8-78"
      },
      "execution_count": null,
      "outputs": []
    },
    {
      "cell_type": "code",
      "source": [
        "# 입력 시퀀스의 마지막 토큰과 정수인코딩값 확인\n",
        "# 지금까지 만들어진 단어와 인덱스값의 pair로 보니 맨 마지막 값을 확인\n",
        "list(src_to_index.items())[-1]"
      ],
      "metadata": {
        "colab": {
          "base_uri": "https://localhost:8080/"
        },
        "id": "KRl3l4bE9cVh",
        "outputId": "e48eeb16-c422-4d74-d8ab-525fc7e552dd"
      },
      "execution_count": 42,
      "outputs": [
        {
          "output_type": "execute_result",
          "data": {
            "text/plain": [
              "('힘쓰다', 5777)"
            ]
          },
          "metadata": {},
          "execution_count": 42
        }
      ]
    },
    {
      "cell_type": "code",
      "source": [
        "# 현재 입력 시퀀스에 사용된 token들의 개수 확인 (Vocab 사이즈)\n",
        "len(src_vocab)"
      ],
      "metadata": {
        "colab": {
          "base_uri": "https://localhost:8080/"
        },
        "id": "yRuj2FNmgfA3",
        "outputId": "63b3f637-ab31-44af-aba9-72bf32dc3aed"
      },
      "execution_count": 43,
      "outputs": [
        {
          "output_type": "execute_result",
          "data": {
            "text/plain": [
              "5777"
            ]
          },
          "metadata": {},
          "execution_count": 43
        }
      ]
    },
    {
      "cell_type": "code",
      "source": [
        "list(tar_to_index.items())[-1]"
      ],
      "metadata": {
        "colab": {
          "base_uri": "https://localhost:8080/"
        },
        "id": "7-RbBZhlCmwl",
        "outputId": "f4ffaf5d-6d94-4424-b25b-027f5bcc9d9b"
      },
      "execution_count": 44,
      "outputs": [
        {
          "output_type": "execute_result",
          "data": {
            "text/plain": [
              "('zoom', 6908)"
            ]
          },
          "metadata": {},
          "execution_count": 44
        }
      ]
    },
    {
      "cell_type": "code",
      "source": [
        "len(tar_vocab)"
      ],
      "metadata": {
        "colab": {
          "base_uri": "https://localhost:8080/"
        },
        "id": "GteihYZxCrTS",
        "outputId": "86e7bddc-8ff5-433b-c581-a3109298c3a9"
      },
      "execution_count": 45,
      "outputs": [
        {
          "output_type": "execute_result",
          "data": {
            "text/plain": [
              "6908"
            ]
          },
          "metadata": {},
          "execution_count": 45
        }
      ]
    },
    {
      "cell_type": "code",
      "source": [
        "# 우리는 마지막 토큰 뒤에 UNK 토큰을 추가해봅시다 => 5768 값을 사용해야 함\n",
        "# 이 때 입력 시퀀스(src_to_index)와 출력시퀀스(tar_to_index)에 모두 사용해줘야 합니다.\n",
        "src_to_index[\"<UNK>\"] = 5778\n",
        "tar_to_index[\"<UNK>\"] = 6909"
      ],
      "metadata": {
        "id": "2hQsCc5i9aw2"
      },
      "execution_count": 46,
      "outputs": []
    },
    {
      "cell_type": "code",
      "source": [
        "# 출력시퀀스의 단어집합 확인\n",
        "print(list(tar_to_index.items())[:5])\n",
        "print(list(tar_to_index.items())[-1:-5:-1])"
      ],
      "metadata": {
        "colab": {
          "base_uri": "https://localhost:8080/"
        },
        "id": "09pOS9MtaUVJ",
        "outputId": "eeb93410-b0ee-47e5-e1eb-29fbb06b4fb5"
      },
      "execution_count": 47,
      "outputs": [
        {
          "output_type": "stream",
          "name": "stdout",
          "text": [
            "[('<EOS>', 1), ('<SOS>', 2), ('A', 3), ('AAA', 4), ('AAA1@BBB1.com.', 5)]\n",
            "[('<UNK>', 6909), ('zoom', 6908), ('zones', 6907), ('zero', 6906)]\n"
          ]
        }
      ]
    },
    {
      "cell_type": "code",
      "source": [
        "# 입력시퀀스의 단어집합 확인\n",
        "print(list(src_to_index.items())[:5])\n",
        "print(list(src_to_index.items())[-1:-5:-1])"
      ],
      "metadata": {
        "colab": {
          "base_uri": "https://localhost:8080/"
        },
        "id": "ZZqYpbTe-AK1",
        "outputId": "2c3e6912-9d03-48de-f5d9-5e71e81a0f28"
      },
      "execution_count": 48,
      "outputs": [
        {
          "output_type": "stream",
          "name": "stdout",
          "text": [
            "[('<EOS>', 1), ('A', 2), ('AAA', 3), ('AAA1@BBB1.com', 4), ('AAA@BBB.com', 5)]\n",
            "[('<UNK>', 5778), ('힘쓰다', 5777), ('힘들다', 5776), ('힘', 5775)]\n"
          ]
        }
      ]
    },
    {
      "cell_type": "markdown",
      "source": [
        "### 정수 인코딩"
      ],
      "metadata": {
        "id": "-E5zRRZuhQa_"
      }
    },
    {
      "cell_type": "code",
      "source": [
        "# 평가 데이터에 대해서  정수 인코딩을 진행해주세요!\n",
        "# 이 과정에서 중요한 점은 우린 학습데이터만 가지고 있으니 학습 데이터에서 사용했던 token-index로 인코딩을 진행해야 합니다!\n",
        "# 참고 : 어떻게 하면 효율적 혹은 빠르게 할까요?\n",
        "\n",
        "# encoder의 입력값 정수 인코딩 진행\n",
        "encoder_input_val = list(map(lambda x: torch.Tensor(list(map(lambda y: src_to_index[y],x))).long(),src_seq_val))\n",
        "\n",
        "# 우선 decoder에서 사용하는 문장에 대해 정수인코딩 진행\n",
        "# 다만 decoder의 출력값은 <SOS>들어가면 안되니 첫번째 토큰은 빼주기\n",
        "decoder_target_val = list(map(lambda x: torch.Tensor(list(map(lambda y: tar_to_index[y],x))[1:]).long(),tar_seq_val))\n",
        "# decoder의 입력값은 마지막 <EOS>가 들어가면 안되니 마지막 토큰은 빼주기\n",
        "decoder_input_val = list(map(lambda x: torch.Tensor(list(map(lambda y: tar_to_index[y],x))[:-1]).long(),tar_seq_val))\n"
      ],
      "metadata": {
        "id": "LHRGJgfs-axo"
      },
      "execution_count": 49,
      "outputs": []
    },
    {
      "cell_type": "markdown",
      "source": [
        "### Padding"
      ],
      "metadata": {
        "id": "ws8RA6UThh0t"
      }
    },
    {
      "cell_type": "code",
      "source": [
        "decoder_target_val[0]"
      ],
      "metadata": {
        "colab": {
          "base_uri": "https://localhost:8080/"
        },
        "id": "UB4TDZ6nEO2M",
        "outputId": "9d231968-56ed-4c63-948b-dda12c84af82"
      },
      "execution_count": 51,
      "outputs": [
        {
          "output_type": "execute_result",
          "data": {
            "text/plain": [
              "tensor([6909, 3572, 3392, 5124, 4264, 2221, 1285, 3925, 4312, 4787, 2037, 2437,\n",
              "        5780, 1016, 6909, 6399, 6748, 5797, 6909,    1])"
            ]
          },
          "metadata": {},
          "execution_count": 51
        }
      ]
    },
    {
      "cell_type": "code",
      "source": [
        "# 주의사항: 여기에 사용된 값을은 정수일까요?\n",
        "batch_first = True\n",
        "\n",
        "encoder_input_val = pad_sequence(encoder_input_val, batch_first= batch_first).long()\n",
        "decoder_input_val = pad_sequence(decoder_input_val, batch_first= batch_first).long()\n",
        "decoder_target_val = pad_sequence(decoder_target_val, batch_first= batch_first).long()"
      ],
      "metadata": {
        "id": "4Qc_bb02-s6_"
      },
      "execution_count": 52,
      "outputs": []
    },
    {
      "cell_type": "code",
      "execution_count": 53,
      "metadata": {
        "id": "E7DOj62GnAfX"
      },
      "outputs": [],
      "source": [
        "val_data = tuple([encoder_input_val, decoder_input_val, decoder_target_val])"
      ]
    },
    {
      "cell_type": "markdown",
      "metadata": {
        "id": "WlZl7q5cxscM"
      },
      "source": [
        "# Dataset\n",
        "\n",
        "이 이후는 실습코드와 동일해서 그대로 진행해보고, 들어가는 내용만 채워보기\n",
        "\n",
        "실습코드에서 사용한 것과 동일한 구조입니다! \n",
        "\n",
        "사실 앞서 처리가 진행되었던 모든 과정은 Dataset에서 __get_item__ 함수 내에서 처리해서 값을 리턴할 수도 있습니다.\n",
        "\n",
        "다만 설명을 위해 이번 과제에서는 과정을 단계별로 설명 드렸습니다. 추후에 진행하실 때엔 __get_item__에서 구현해보셔도 좋을 것 같아요!\n",
        "\n",
        "그리고 일부 단계의 경우 임의로 처리된 것들이 있습니다.(tokenization부터 stopwords 등등) 가령 이메일, 전화번호와 같은 단어들은 \\<UNK\\>처럼 새로운 토큰을 이용해서 처리할 수도 있으며 목적에 따라서 다른 tokenziation을 사용할 수 있습니다.\n",
        "\n",
        "**(참고)**\n",
        "\n",
        " __get_item__말고 사전에 전처리를 다한 상태로 사용할 경우 사실 사용할 모든 데이터를 메모리에 올려놓고 사용하는 것과 같습니다.(변수에 할당되어 있으니)\n",
        "\n",
        "그런데 우리가 데이터가 매매매매매우 많아진다면, 메모리가 부족해질 수도 있지 않을까요? 그렇기 때문에 때에 따라 data를 필요할 때 전처리를 하고 반환하기도 합니다. 여기서 data가 필요할때란 결국 __get_item__을 호출할 때가 될 것입니다. (메타데이터만 저장하는 것을)\n",
        "\n",
        "정리하자면, 꼭 모든 데이터를 한번에 다 전처리해놓도 준비해놓지 않고도, 필요할 때 마다(get_item이 호출될 때마다) 전처리해서 결과를 전달하는 방법도 있습니다.\n",
        "\n",
        "다만 해당 과제에서는 Seq2Seq에 익숙해지는 것을 목표로 하기에 이러한 점만 알고 가셔도 충분하기도 하고, 오히려 사전에 다 처리해놓는 현재 방식이 더 효율적일 수도 있습니다. 그렇기 때문에 이 점만 알고 가셔도 좋을 것 같습니다!"
      ]
    },
    {
      "cell_type": "code",
      "execution_count": 54,
      "metadata": {
        "id": "j5lj6ZOPxpcj"
      },
      "outputs": [],
      "source": [
        "from torch.utils.data import Dataset, DataLoader"
      ]
    },
    {
      "cell_type": "code",
      "execution_count": 55,
      "metadata": {
        "id": "xc7ZqjGmx1dk"
      },
      "outputs": [],
      "source": [
        "class textDataset(Dataset):\n",
        "  def __init__(self, data, batch_first=True):\n",
        "    super(textDataset, self).__init__()\n",
        "    # tuple asgginment를 활용한다면 굳이 argument로 모든 데이터를 받지 않아도 됩니다!\n",
        "    enc_inp, dec_inp, dec_out = data\n",
        "\n",
        "    # 내부에서 사용할 변수들 정리하는 것으로, 모든 데이터가 torch.LongTensor로 정리된 값들이 저장됩니다.\n",
        "    self.enc_inp = enc_inp\n",
        "    self.batch_first= batch_first\n",
        "    self.dec_inp = dec_inp\n",
        "    self.dec_out = dec_out\n",
        "\n",
        "  def __getitem__(self, idx):\n",
        "     return self.enc_inp[idx], self.dec_inp[idx],self.dec_out[idx]\n",
        "\n",
        "  def __len__(self):\n",
        "    return self.enc_inp.size(int(~self.batch_first))"
      ]
    },
    {
      "cell_type": "code",
      "execution_count": 56,
      "metadata": {
        "id": "Z30_EO0uxrgH"
      },
      "outputs": [],
      "source": [
        "train_dataset = textDataset(train_data, batch_first=batch_first)\n",
        "val_dataset = textDataset(val_data, batch_first=batch_first)"
      ]
    },
    {
      "cell_type": "code",
      "execution_count": 57,
      "metadata": {
        "colab": {
          "base_uri": "https://localhost:8080/"
        },
        "id": "J_AqR38AoB5n",
        "outputId": "544330af-be48-4df3-daab-6ae9c2b8ead0"
      },
      "outputs": [
        {
          "output_type": "execute_result",
          "data": {
            "text/plain": [
              "(tensor([5778, 1727, 2010, 5778, 3755, 5414, 4340, 1368, 2773, 1884, 2789, 5172,\n",
              "         1975, 2850, 3161,  749, 4001,    1,    0,    0,    0,    0,    0,    0,\n",
              "            0,    0,    0,    0,    0,    0,    0,    0]),\n",
              " tensor([   2, 6909, 3572, 3392, 5124, 4264, 2221, 1285, 3925, 4312, 4787, 2037,\n",
              "         2437, 5780, 1016, 6909, 6399, 6748, 5797, 6909,    0,    0,    0,    0,\n",
              "            0,    0,    0,    0,    0,    0]),\n",
              " tensor([6909, 3572, 3392, 5124, 4264, 2221, 1285, 3925, 4312, 4787, 2037, 2437,\n",
              "         5780, 1016, 6909, 6399, 6748, 5797, 6909,    1,    0,    0,    0,    0,\n",
              "            0,    0,    0,    0,    0,    0]))"
            ]
          },
          "metadata": {},
          "execution_count": 57
        }
      ],
      "source": [
        "val_dataset[0]"
      ]
    },
    {
      "cell_type": "markdown",
      "metadata": {
        "id": "rYq6eGm0qaOh"
      },
      "source": [
        "# Model"
      ]
    },
    {
      "cell_type": "code",
      "execution_count": 58,
      "metadata": {
        "id": "ce3NfbA2qfSV"
      },
      "outputs": [],
      "source": [
        "import torch.nn as nn\n",
        "import torch.functional as F"
      ]
    },
    {
      "cell_type": "markdown",
      "metadata": {
        "id": "zcThBf_DqbuT"
      },
      "source": [
        "## Encoder\n",
        "\n",
        "본 모델에서는 LSTM를 기본 단위로 가지는 Seq2Seq 모델을 구성할 것\n",
        "\n",
        "참고 [레퍼런스](https://pytorch.org/docs/stable/generated/torch.nn.LSTM.html)"
      ]
    },
    {
      "cell_type": "code",
      "execution_count": 59,
      "metadata": {
        "id": "A719R9uZqZG2"
      },
      "outputs": [],
      "source": [
        "class Encoder(nn.Module):\n",
        "  def __init__(self, in_size, hid_size, tok_size, bat_first=True, num_lay=1, bidirect=False):\n",
        "    super(Encoder, self).__init__()\n",
        "    self.hidden_size = hid_size\n",
        "    self.embedding = nn.Embedding(tok_size, in_size)\n",
        "    self.num_layers = num_lay\n",
        "    self.num_directional = 2 if bidirect else 1\n",
        "\n",
        "    self.batch_first = bat_first\n",
        "    self.lstm = nn.LSTM(in_size,  # input size: 임베딩의 차원\n",
        "                        hid_size, # lstm이 리턴하는 벡터들의 차원\n",
        "                        num_layers = num_lay,\n",
        "                        batch_first = bat_first,\n",
        "                        bidirectional=bidirect)\n",
        "    \n",
        "  def forward(self, x, hidden):\n",
        "    \"\"\"\n",
        "    x: (batch_size, seq_len)\n",
        "    hidden: (batch_size, seq_len, hidden_size)\n",
        "    \"\"\"\n",
        "\n",
        "    # emb : (batch_size, seq_len, input_size)\n",
        "    emb = self.embedding(x)\n",
        "\n",
        "    # out : (batch_size, seq_len, hidden_size)\n",
        "    # hidden: (num_layers, batch_size, hidden_size)\n",
        "    out, hidden = self.lstm(emb, hidden)\n",
        "    return out, hidden"
      ]
    },
    {
      "cell_type": "markdown",
      "metadata": {
        "id": "Yu4CMe_5JN2I"
      },
      "source": [
        "## Decoder\n",
        "\n",
        "decoder의 hidden이 아닌 out으로 예측하고, 그 값 하나를 이용해서 다음 값 계산에 사용하기 때문에 seq_len =1이 된다."
      ]
    },
    {
      "cell_type": "code",
      "execution_count": 60,
      "metadata": {
        "id": "Wc1u4z_k4RKp"
      },
      "outputs": [],
      "source": [
        "class Decoder(nn.Module):\n",
        "  def __init__(self, in_size, hid_size, tok_size, bat_first=True, num_lay=1, bidirect=False):\n",
        "    super(Decoder, self).__init__()\n",
        "    self.hidden_size = hid_size\n",
        "    self.embedding = nn.Embedding(tok_size, in_size)\n",
        "\n",
        "    self.num_layers = num_lay\n",
        "    self.num_directional = 2 if bidirect else 1\n",
        "    self.batch_first = bat_first\n",
        "    self.lstm = nn.LSTM(in_size, \n",
        "                        hid_size, \n",
        "                        num_layers = num_lay,\n",
        "                        batch_first = bat_first,\n",
        "                        bidirectional=bidirect)\n",
        "    self.relu =  nn.ReLU()\n",
        "\n",
        "    self.fc1 = nn.Linear(hidden_size, tok_size)\n",
        "\n",
        "\n",
        "  def forward(self, x, hidden):\n",
        "    \"\"\"\n",
        "    x: (batch_size, seq_len=1)\n",
        "    hidden: (num_directional*num_layers, batch_size, hidden_size)\n",
        "    \"\"\"\n",
        "\n",
        "    # emb: (batch_size, seq_len=1, input_size)\n",
        "    emb = self.embedding(x[:, 0]).unsqueeze(1)\n",
        "\n",
        "    # out : (batch_size, seq_len=1, hidden_size)\n",
        "    # hidden: (num_layers, batch_size, hidden_size)\n",
        "    out = self.relu(emb)\n",
        "    out, hidden = self.lstm(out, hidden)\n",
        "\n",
        "    # out: (batch_size, tok_size) : batch의 element별로 token에 대해 예측값을 반환\n",
        "    out = self.fc1(out.squeeze(1))\n",
        "    return out, hidden"
      ]
    },
    {
      "cell_type": "code",
      "execution_count": 61,
      "metadata": {
        "id": "X1qHG3DT4dSH"
      },
      "outputs": [],
      "source": [
        "def init_hidden(self, x):\n",
        "  \"\"\"\n",
        "  레퍼런스 참고\n",
        "  when batch_first=True (num_directional*num_layers, batch_size, hidden_size)\n",
        "  \"\"\"\n",
        "  batch_size = x.size(0) if self.batch_first else x.size(1)\n",
        "  h0 = torch.zeros(self.num_layers*self.num_directional, batch_size, self.hidden_size).to(device)\n",
        "  c0 = torch.zeros(self.num_layers*self.num_directional, batch_size, self.hidden_size).to(device)\n",
        "  return h0, c0"
      ]
    },
    {
      "cell_type": "markdown",
      "metadata": {
        "id": "toqV7UDhPqN6"
      },
      "source": [
        "## Seq2Seq"
      ]
    },
    {
      "cell_type": "code",
      "execution_count": 62,
      "metadata": {
        "id": "YIzlUzPlJK3W"
      },
      "outputs": [],
      "source": [
        "class Seq2Seq(nn.Module):\n",
        "  def __init__(self, enc, dec):\n",
        "    super(Seq2Seq, self).__init__()\n",
        "    assert enc.hidden_size == dec.hidden_size\n",
        "    assert enc.num_layers == dec.num_layers\n",
        "\n",
        "    self.encoder = enc\n",
        "    self.decoder = dec\n",
        "\n",
        "  def forward(self, enc_inp, dec_inp, use_teacher_force=True):\n",
        "    \"\"\"\n",
        "    enc_inp : (batch_size, enc_seq_len)\n",
        "    dec_inp : (batch_size, dec_seq_len)\n",
        "    \"\"\"\n",
        "\n",
        "    # 어떤 값을 써야할까요?\n",
        "    batch_size = enc_inp.size(0)\n",
        "    enc_seq_len = enc_inp.size(1)\n",
        "    dec_seq_len = dec_inp.size(1)\n",
        "    token_size =  self.decoder.fc1.out_features\n",
        "\n",
        "    # decoder 확률(점수) 예측값 저장\n",
        "    # outputs: (batch_size, seq_len, token_size)\n",
        "    outputs = torch.zeros(batch_size, dec_seq_len, token_size)\n",
        "\n",
        "    # Step 0: Encoder의 forward에 필요한 초기 hidden, cell state 계산\n",
        "    enc_init_hidden = init_hidden(self.encoder, enc_inp)\n",
        "\n",
        "    # Step 1: Encoder를 이용하여 context 벡터 생성\n",
        "    # 참고: context 벡터는 output가 아님\n",
        "    _, context = self.encoder(enc_inp, enc_init_hidden)\n",
        "\n",
        "    # Step 2: Decoder의 초기 입력값을 먼저 할당\n",
        "    # 참고: 첫 입력값으로 decoder의 입력값을 이용할 수 있음\n",
        "    # 주의할 사항 \n",
        "    #    - (batch_size, dec_seq_len)의 차원을 맞추기 \n",
        "    #    - 이렇게 하는 이유는 decoder에서 forward에 들어가야하는 input의 구조(차원)이 정해져 있기 때문\n",
        "    dec_inp_t = dec_inp[:, 0].unsqueeze(-1)\n",
        "\n",
        "    # Step 3: Decoder를 이용하여 하나하나 계산(예측)하고, 입력값 업데이트하기\n",
        "    # 주의사항\n",
        "    #    - Encoder의 최종 리턴한 hidden state가 context 벡터고 이게 decoder에서 init_hidden에 해당\n",
        "    #    - 앞서 첫 입력값은 직접 확인했으니 다음 입력값부터 하기에 range는 1부터 시작하는 구조로?!\n",
        "    dec_hidden = context\n",
        "    for t in range(1, dec_seq_len):\n",
        "      out, dec_hidden = self.decoder(dec_inp_t, dec_hidden)\n",
        "      outputs[:, t, :] = out\n",
        "\n",
        "      if use_teacher_force:\n",
        "        # 주의사항 : 차원 맞추기 \n",
        "        # 해당 경우 decoder의 입력값을 가져다가 사용해야 합\n",
        "        dec_inp_t = dec_inp[:, t].unsqueeze(-1)\n",
        "      else:\n",
        "        # 주의사항 : 차원 맞추기 \n",
        "        # 해당 경우 이번 시점의 예측값을 다음 시점의 입력값으로 해야함\n",
        "        dec_inp_t = out.argmax(1, keepdim=True)\n",
        "\n",
        "    return outputs"
      ]
    },
    {
      "cell_type": "markdown",
      "metadata": {
        "id": "kSfBWsX0Po1I"
      },
      "source": [
        "# Setup"
      ]
    },
    {
      "cell_type": "code",
      "execution_count": 63,
      "metadata": {
        "id": "2VSNdoUUPoMS"
      },
      "outputs": [],
      "source": [
        "# padding에 해당하는 token도 고려하기\n",
        "enc_token_size = len(src_to_index)+1\n",
        "dec_token_size = len(tar_to_index)+1\n",
        "\n",
        "# Hyper-parameter!!\n",
        "# RAM 메모리 이슈로 다운 되는 경우 때문에 줄였습니다.\n",
        "input_size = 4\n",
        "hidden_size = 4"
      ]
    },
    {
      "cell_type": "code",
      "execution_count": 64,
      "metadata": {
        "id": "edfUD7SOP6pM"
      },
      "outputs": [],
      "source": [
        "encoder = Encoder(input_size, hidden_size, enc_token_size)\n",
        "decoder = Decoder(input_size, hidden_size, dec_token_size)\n",
        "\n",
        "model = Seq2Seq(encoder, decoder).to(device)"
      ]
    },
    {
      "cell_type": "markdown",
      "metadata": {
        "id": "s3wAllAwQQbc"
      },
      "source": [
        "## 생략된 내용들\n",
        "\n",
        "모델 생성하는 과정에서 초기값이나 등등 부수적인 부분들은 현재 과제 코드상에서 생략되었습니다. 모델 개선에 관심있으신 분들은 수행하셔도 좋습니다."
      ]
    },
    {
      "cell_type": "code",
      "execution_count": null,
      "metadata": {
        "id": "nNlOosmzQP4W"
      },
      "outputs": [],
      "source": [
        "# ~~~"
      ]
    },
    {
      "cell_type": "markdown",
      "metadata": {
        "id": "ofoXIctbQigu"
      },
      "source": [
        "# Train"
      ]
    },
    {
      "cell_type": "code",
      "execution_count": 65,
      "metadata": {
        "id": "NUnTP6xbQlV1"
      },
      "outputs": [],
      "source": [
        "def train(model, loader, optimizer, cri):\n",
        "  model.train()\n",
        "  loss_ep = 0\n",
        "\n",
        "  for enc_input, dec_input, dec_target in loader:\n",
        "    optimizer.zero_grad()\n",
        "\n",
        "    # output: (batch_size, seq_len, token_size)\n",
        "    output = model(enc_input.to(device), dec_input.to(device), use_teacher_force=True)\n",
        "    token_size = output.size(-1)\n",
        "\n",
        "    # 지금 [문장, 문장, ...] 구조에서 문장들을 그냥 순서대로 이어 붙인 것\n",
        "    # loss 계산을 위한 조정\n",
        "    # output : (batch_size * seq_len, toekn_size)\n",
        "    output = output.view(-1, token_size)\n",
        "\n",
        "    # 위와 동일한 방식으로 label 값도 조정\n",
        "    # dec_target: (batch_size, seq_len)\n",
        "    # target (batch_size*seq_len,)\n",
        "    target = dec_target.view(-1)\n",
        "\n",
        "    loss = cri(output, target)\n",
        "\n",
        "    loss.backward()\n",
        "    optimizer.step()\n",
        "\n",
        "    loss_ep += loss.item()\n",
        "  return loss_ep/len(loader)"
      ]
    },
    {
      "cell_type": "markdown",
      "metadata": {
        "id": "E-g8kExh9V87"
      },
      "source": [
        "# Evaluation"
      ]
    },
    {
      "cell_type": "code",
      "execution_count": 66,
      "metadata": {
        "id": "OM_5gT6uCXMh"
      },
      "outputs": [],
      "source": [
        "import pandas as pd"
      ]
    },
    {
      "cell_type": "code",
      "execution_count": 67,
      "metadata": {
        "id": "y6mXBkq69VSW"
      },
      "outputs": [],
      "source": [
        "def val(model, loader, cri):\n",
        "  # 예측값도 확인하기 위해 예측값 저장하는 값\n",
        "  result = torch.Tensor()\n",
        "\n",
        "  model.eval()\n",
        "  loss_ep = 0\n",
        "  with torch.no_grad():\n",
        "    for enc_input, dec_input, dec_target in loader:\n",
        "      # 여기서 output은 en/decoder가 아닌 seq2seq의 결과값\n",
        "      # output: (batch_size, seq_len, token_size)\n",
        "      output = model(enc_input.to(device), dec_input.to(device), use_teacher_force=False)\n",
        "\n",
        "      # 평가할 땐 loss 말고 예측값도 반환하기 위해 저장\n",
        "      # decode_idx = 해당 시점에서 예측한 token의 정수인코딩값. \n",
        "      # 주어진 확률(점수)값에서 최대값을 선택하기\n",
        "      decode_idx = output.argmax(2).detach().cpu() # 토큰들중에서 가장 높게 되는 토큰 기록하기\n",
        "      result = torch.cat((result, decode_idx), dim=0)\n",
        "  \n",
        "      # loss 계산을 위한 조정\n",
        "      # output : (batch_size * seq_len, toekn_size)\n",
        "      token_size = output.size(-1)\n",
        "      output = output.view(-1, token_size)\n",
        "\n",
        "      # 위와 동일한 방식으로 label 값도 조정\n",
        "      # dec_target: (batch_size, seq_len)\n",
        "      # target (batch_size*seq_len,)\n",
        "      target = dec_target.view(-1)\n",
        "\n",
        "      loss = cri(output, target)\n",
        "      loss_ep += loss.item()\n",
        "  return loss_ep/len(loader), result"
      ]
    },
    {
      "cell_type": "code",
      "execution_count": 68,
      "metadata": {
        "id": "9m6F7hknAqtm"
      },
      "outputs": [],
      "source": [
        "# 아래의 dictionary는 정수 인코딩 값을 넣으면 해당하는 원래 알파벳이 나옴\n",
        "# padding에 사용한 0도 decode해줘야 하고 이 때 ''으로 decode해주기\n",
        "index_to_src = dict((i, char) for char, i in src_to_index.items())\n",
        "index_to_tar = dict((i, char) for char, i in tar_to_index.items())\n",
        "index_to_tar[0] = ''\n",
        "index_to_src[0] = ''"
      ]
    },
    {
      "cell_type": "code",
      "execution_count": 69,
      "metadata": {
        "id": "F9c8z_7BAncv"
      },
      "outputs": [],
      "source": [
        "def decode(model, sample):\n",
        "  enc_input, dec_input, dec_output = sample\n",
        "  enc_input = enc_input.unsqueeze(0)\n",
        "  dec_input = dec_input.unsqueeze(0)\n",
        "  \n",
        "  model.eval()\n",
        "  with torch.no_grad():\n",
        "    output = model(enc_input.to(device), dec_input.to(device), use_teacher_force=False)\n",
        "    decode_idx = output.argmax(2)\n",
        "\n",
        "  sentence_inp = pd.Series(enc_input.squeeze(0).detach().cpu().numpy()).apply(lambda x: index_to_src[x])\n",
        "  sentence_out = pd.Series(decode_idx.squeeze(0).detach().cpu().numpy()).apply(lambda x: index_to_tar[x])\n",
        "  sentence_act = pd.Series(dec_output.detach().cpu().numpy()).apply(lambda x: index_to_tar[x])\n",
        "\n",
        "  print(f\"입력 문장 : {' '.join(sentence_inp.tolist())}\")\n",
        "  print(f\"실제 문장 : {' '.join(sentence_act.tolist())}\")\n",
        "  print(f\"예측 문장 : {' '.join(sentence_out.tolist())}\")"
      ]
    },
    {
      "cell_type": "code",
      "execution_count": 70,
      "metadata": {
        "id": "9lARsr3wSyX8"
      },
      "outputs": [],
      "source": [
        "import time\n",
        "from tqdm import tqdm\n",
        "from torch import optim"
      ]
    },
    {
      "cell_type": "code",
      "execution_count": null,
      "metadata": {
        "colab": {
          "base_uri": "https://localhost:8080/"
        },
        "id": "WIuESkCQSsSm",
        "outputId": "4854a2f3-942d-48c3-a259-0f63da4ec7ee"
      },
      "outputs": [
        {
          "output_type": "stream",
          "name": "stderr",
          "text": [
            " 10%|█         | 1/10 [02:09<19:23, 129.32s/it]"
          ]
        },
        {
          "output_type": "stream",
          "name": "stdout",
          "text": [
            "Epoch : 0\n",
            "Train Loss : 8.8899\n",
            "Val Loss : 8.6809\n",
            "입력 문장 : 저 <UNK> <UNK> 스마트 <UNK> <UNK> <UNK> 및 온도 센서 <UNK> 사용 무료 앱 제품 소개 하다 하다 <EOS>             \n",
            "실제 문장 : I would like to introduce a <UNK> <UNK> smart <UNK> <UNK> <UNK> and temperature sensor easy to use free app product <EOS>        \n",
            "예측 문장 :  our our our our our our our our our our our our our our our our our our our our our our our our our our our our our\n"
          ]
        },
        {
          "output_type": "stream",
          "name": "stderr",
          "text": [
            " 30%|███       | 3/10 [06:22<14:50, 127.17s/it]"
          ]
        },
        {
          "output_type": "stream",
          "name": "stdout",
          "text": [
            "Epoch : 2\n",
            "Train Loss : 7.9585\n",
            "Val Loss : 7.5546\n",
            "입력 문장 : 저 <UNK> <UNK> 스마트 <UNK> <UNK> <UNK> 및 온도 센서 <UNK> 사용 무료 앱 제품 소개 하다 하다 <EOS>             \n",
            "실제 문장 : I would like to introduce a <UNK> <UNK> smart <UNK> <UNK> <UNK> and temperature sensor easy to use free app product <EOS>        \n",
            "예측 문장 :  our our our a a a a a a a a a a a a a a a a a a a a a a a a a a\n"
          ]
        },
        {
          "output_type": "stream",
          "name": "stderr",
          "text": [
            " 50%|█████     | 5/10 [10:35<10:33, 126.70s/it]"
          ]
        },
        {
          "output_type": "stream",
          "name": "stdout",
          "text": [
            "Epoch : 4\n",
            "Train Loss : 6.2307\n",
            "Val Loss : 5.9434\n",
            "입력 문장 : 저 <UNK> <UNK> 스마트 <UNK> <UNK> <UNK> 및 온도 센서 <UNK> 사용 무료 앱 제품 소개 하다 하다 <EOS>             \n",
            "실제 문장 : I would like to introduce a <UNK> <UNK> smart <UNK> <UNK> <UNK> and temperature sensor easy to use free app product <EOS>        \n",
            "예측 문장 :  a a a a a a a a a a a a a a a a a a a a a a a a a a a a a\n"
          ]
        },
        {
          "output_type": "stream",
          "name": "stderr",
          "text": [
            " 70%|███████   | 7/10 [14:51<06:22, 127.38s/it]"
          ]
        },
        {
          "output_type": "stream",
          "name": "stdout",
          "text": [
            "Epoch : 6\n",
            "Train Loss : 4.4278\n",
            "Val Loss : 4.6173\n",
            "입력 문장 : 저 <UNK> <UNK> 스마트 <UNK> <UNK> <UNK> 및 온도 센서 <UNK> 사용 무료 앱 제품 소개 하다 하다 <EOS>             \n",
            "실제 문장 : I would like to introduce a <UNK> <UNK> smart <UNK> <UNK> <UNK> and temperature sensor easy to use free app product <EOS>        \n",
            "예측 문장 :                              \n"
          ]
        },
        {
          "output_type": "stream",
          "name": "stderr",
          "text": [
            " 90%|█████████ | 9/10 [19:04<02:07, 127.05s/it]"
          ]
        },
        {
          "output_type": "stream",
          "name": "stdout",
          "text": [
            "Epoch : 8\n",
            "Train Loss : 3.0933\n",
            "Val Loss : 3.7032\n",
            "입력 문장 : 저 <UNK> <UNK> 스마트 <UNK> <UNK> <UNK> 및 온도 센서 <UNK> 사용 무료 앱 제품 소개 하다 하다 <EOS>             \n",
            "실제 문장 : I would like to introduce a <UNK> <UNK> smart <UNK> <UNK> <UNK> and temperature sensor easy to use free app product <EOS>        \n",
            "예측 문장 :                              \n"
          ]
        }
      ],
      "source": [
        "# 학습은 아래의 코드를 이용하여 진행\n",
        "\n",
        "train_lodaer = DataLoader(train_dataset, batch_size=1024)\n",
        "val_loader = DataLoader(val_dataset, batch_size=1024, shuffle=False)\n",
        "\n",
        "optimizer = optim.Adam(model.parameters(), lr=1e-2)\n",
        "criterion = nn.CrossEntropyLoss()\n",
        "\n",
        "train_loss = []\n",
        "val_loss = []\n",
        "\n",
        "epochs = 10\n",
        "for epoch in tqdm(range(epochs)):\n",
        "  start = time.time()\n",
        "\n",
        "  train_loss_ep = train(model,train_lodaer,optimizer, criterion)\n",
        "  val_loss_ep, val_token = val(model, val_loader, criterion)\n",
        "\n",
        "  train_loss.append(train_loss_ep)\n",
        "  val_loss.append(val_loss_ep)\n",
        "  if epoch % 2 == 0:\n",
        "    print(f\"Epoch : {epoch}\")\n",
        "    print(f\"Train Loss : {train_loss_ep:.4f}\")\n",
        "    print(f\"Val Loss : {val_loss_ep:.4f}\")\n",
        "    decode(model, val_dataset[100])\n"
      ]
    },
    {
      "cell_type": "code",
      "execution_count": null,
      "metadata": {
        "id": "Yaj3MORtbsNi"
      },
      "outputs": [],
      "source": [
        "# 학습을 진행한 다음, 모델 백업해놓기\n",
        "torch.save(model.state_dict(), 'model_hw.pt')"
      ]
    }
  ],
  "metadata": {
    "accelerator": "GPU",
    "colab": {
      "collapsed_sections": [
        "XhqgooEJc3ml"
      ],
      "provenance": []
    },
    "gpuClass": "standard",
    "kernelspec": {
      "display_name": "Python 3",
      "name": "python3"
    },
    "language_info": {
      "name": "python"
    }
  },
  "nbformat": 4,
  "nbformat_minor": 0
}