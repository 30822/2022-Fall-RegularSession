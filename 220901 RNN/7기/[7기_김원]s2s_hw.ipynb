{
  "cells": [
    {
      "cell_type": "markdown",
      "metadata": {
        "id": "XhqgooEJc3ml"
      },
      "source": [
        "# PATH"
      ]
    },
    {
      "cell_type": "code",
      "execution_count": null,
      "metadata": {
        "colab": {
          "base_uri": "https://localhost:8080/"
        },
        "id": "83d-yy6oZxvC",
        "outputId": "a63566ac-27ba-43c0-ad01-fbf8d536690e"
      },
      "outputs": [
        {
          "output_type": "stream",
          "name": "stdout",
          "text": [
            "Drive already mounted at /content/drive; to attempt to forcibly remount, call drive.mount(\"/content/drive\", force_remount=True).\n"
          ]
        }
      ],
      "source": [
        "from google.colab import drive\n",
        "drive.mount('/content/drive')"
      ]
    },
    {
      "cell_type": "markdown",
      "metadata": {
        "id": "a6JAywISdMna"
      },
      "source": [
        "구글 드라이브"
      ]
    },
    {
      "cell_type": "code",
      "execution_count": null,
      "metadata": {
        "id": "4KzgUpIpcORE"
      },
      "outputs": [],
      "source": [
        "import os\n",
        "import sys\n",
        "\n",
        "# 지금 RNN이란 폴더에서 작업해서 RNN으로 맞춘 상태입니다! \n",
        "os.chdir('/content/drive/MyDrive/DSL/2022-2/RNN 과제')"
      ]
    },
    {
      "cell_type": "code",
      "execution_count": null,
      "metadata": {
        "colab": {
          "base_uri": "https://localhost:8080/",
          "height": 35
        },
        "id": "TK1fCrA9fHwN",
        "outputId": "bc6a0ff2-76ec-484d-f3f9-81c793f0881a"
      },
      "outputs": [
        {
          "output_type": "execute_result",
          "data": {
            "text/plain": [
              "'/content/drive/MyDrive/DSL/2022-2/RNN 과제'"
            ],
            "application/vnd.google.colaboratory.intrinsic+json": {
              "type": "string"
            }
          },
          "metadata": {},
          "execution_count": 6
        }
      ],
      "source": [
        "os.getcwd()"
      ]
    },
    {
      "cell_type": "code",
      "execution_count": null,
      "metadata": {
        "colab": {
          "base_uri": "https://localhost:8080/",
          "height": 35
        },
        "id": "yR9lFnfZMQ8k",
        "outputId": "bcf64ad6-e0fb-4814-f498-8aa7e05a32e9"
      },
      "outputs": [
        {
          "output_type": "execute_result",
          "data": {
            "text/plain": [
              "'/content/drive/MyDrive/DSL/2022-2/RNN 과제/data/data_hw'"
            ],
            "application/vnd.google.colaboratory.intrinsic+json": {
              "type": "string"
            }
          },
          "metadata": {},
          "execution_count": 7
        }
      ],
      "source": [
        "root_data = f\"{os.getcwd()}/data/data_hw\"\n",
        "root_data"
      ]
    },
    {
      "cell_type": "code",
      "execution_count": null,
      "metadata": {
        "id": "eUaOJiEaP8t9"
      },
      "outputs": [],
      "source": [
        "# 데이터 불러올 때 사용할 경로로 이후에 있을 unzip과 연동되는 내용입니다! \n",
        "path_train_data = \"/content/drive/MyDrive/DSL/2022-2/RNN 과제/data/data_hw/1.Training/원천데이터/일상생활및구어체_영한_train_set.json\"\n",
        "\n",
        "path_val_data = \"/content/drive/MyDrive/DSL/2022-2/RNN 과제/data/data_hw/2.Validation/원천데이터/일상생활및구어체_영한_valid_set.json\"\n"
      ]
    },
    {
      "cell_type": "markdown",
      "metadata": {
        "id": "lllM7QIsLKHG"
      },
      "source": [
        "# 사전 준비 사항"
      ]
    },
    {
      "cell_type": "code",
      "execution_count": null,
      "metadata": {
        "id": "N4M6g36zarsi"
      },
      "outputs": [],
      "source": [
        "import torch"
      ]
    },
    {
      "cell_type": "code",
      "execution_count": null,
      "metadata": {
        "id": "8nWTk5MXatC-"
      },
      "outputs": [],
      "source": [
        "device = 'cuda' if torch.cuda.is_available() else \"cpu\""
      ]
    },
    {
      "cell_type": "code",
      "execution_count": null,
      "metadata": {
        "colab": {
          "base_uri": "https://localhost:8080/",
          "height": 35
        },
        "id": "oV91g9Tqa0V0",
        "outputId": "d51432f6-6ce4-4311-f332-0f91a7ecdd03"
      },
      "outputs": [
        {
          "output_type": "execute_result",
          "data": {
            "text/plain": [
              "'cuda'"
            ],
            "application/vnd.google.colaboratory.intrinsic+json": {
              "type": "string"
            }
          },
          "metadata": {},
          "execution_count": 11
        }
      ],
      "source": [
        "device"
      ]
    },
    {
      "cell_type": "markdown",
      "metadata": {
        "id": "SdN8CiTlc7xF"
      },
      "source": [
        "# Data\n",
        "\n",
        "실습에서 사용했던 영어-프랑스어와 달리 현재 사용할 데이터 셋은 영어-한국어 데이터 셋입니다. \n",
        "\n",
        "특히 압축을 풀어야 사용하실 수 있으니 유의하여 진행해주시길 바랍니다.\n",
        "\n",
        "다행인 점은 용량이 그리 크지 않을겁니다!\n",
        "\n",
        "저장 경로는 위에서 path_train_data와 path_val_data와 동일하게 맞췄습니다."
      ]
    },
    {
      "cell_type": "code",
      "execution_count": null,
      "metadata": {
        "id": "4bGHHia2LnOo"
      },
      "outputs": [],
      "source": [
        "!unzip -qq data/data_hw/1.Training/원천데이터/TS1.zip -d data/data_hw/1.Training/원천데이터\n",
        "\n",
        "!unzip -qq data/data_hw/2.Validation/원천데이터/VS1.zip -d data/data_hw/2.Validation/원천데이터\n"
      ]
    },
    {
      "cell_type": "markdown",
      "metadata": {
        "id": "tfrW60WrP0rn"
      },
      "source": [
        "## 데이터 구조 확인"
      ]
    },
    {
      "cell_type": "code",
      "execution_count": null,
      "metadata": {
        "id": "SDeLynUqP0Jr"
      },
      "outputs": [],
      "source": [
        "import json"
      ]
    },
    {
      "cell_type": "code",
      "execution_count": null,
      "metadata": {
        "id": "2VEmaNPbP5hr"
      },
      "outputs": [],
      "source": [
        "# 경로는 앞서 PATH에서 선언했고 unzip에서도 경로를 지정했습니다. 만약 여기에 변화가 생기신다면 에러가 생길 수 있으니 유의하셔야 합니다.\n",
        "with open(path_train_data, 'r') as f:\n",
        "  raw_train_data = json.load(f)\n",
        "\n",
        "with open(path_val_data, 'r') as f:\n",
        "  raw_val_data = json.load(f)\n"
      ]
    },
    {
      "cell_type": "code",
      "execution_count": null,
      "metadata": {
        "colab": {
          "base_uri": "https://localhost:8080/"
        },
        "id": "jNhgtA6iR2HG",
        "outputId": "09080944-1a5e-4356-b509-ededced26a09"
      },
      "outputs": [
        {
          "output_type": "execute_result",
          "data": {
            "text/plain": [
              "dict_keys(['data'])"
            ]
          },
          "metadata": {},
          "execution_count": 14
        }
      ],
      "source": [
        "# 현재 데이터의 구조가 {'data':~~~ }로 되어있는것을 알 수 있습니다.\n",
        "raw_train_data.keys()"
      ]
    },
    {
      "cell_type": "code",
      "execution_count": null,
      "metadata": {
        "colab": {
          "base_uri": "https://localhost:8080/"
        },
        "id": "uMcJ230kRgJ_",
        "outputId": "942171ca-b17a-4eca-d67f-aaa4598794b2"
      },
      "outputs": [
        {
          "output_type": "execute_result",
          "data": {
            "text/plain": [
              "1200307"
            ]
          },
          "metadata": {},
          "execution_count": 15
        }
      ],
      "source": [
        "# 학습 데이터 개수 확인\n",
        "len(raw_train_data['data'])"
      ]
    },
    {
      "cell_type": "markdown",
      "metadata": {
        "id": "pOcoZtgOYicO"
      },
      "source": [
        "지금 데이터가 너무 많아서 전처리만 해도 1,2시간 걸릴 수 있습니다. 그래서 숙제에서는 매우 일부 데이터만 이용하도록 하겠습니다."
      ]
    },
    {
      "cell_type": "code",
      "execution_count": null,
      "metadata": {
        "id": "OXGulbjhYg-o"
      },
      "outputs": [],
      "source": [
        "raw_train_data = raw_train_data['data'][:10000]\n",
        "raw_val_data = raw_val_data['data'][:1000]"
      ]
    },
    {
      "cell_type": "code",
      "execution_count": null,
      "metadata": {
        "id": "GMFaFQF0SJb4"
      },
      "outputs": [],
      "source": [
        "# 샘플로 하나 확인\n",
        "sample_data = raw_train_data[0]"
      ]
    },
    {
      "cell_type": "code",
      "execution_count": null,
      "metadata": {
        "colab": {
          "base_uri": "https://localhost:8080/"
        },
        "id": "I68Quh9gSRag",
        "outputId": "3debe340-274c-4441-ba51-207cb18ce1c1"
      },
      "outputs": [
        {
          "output_type": "execute_result",
          "data": {
            "text/plain": [
              "{'sn': 'ECOAR1A00003',\n",
              " 'data_set': '일상생활및구어체',\n",
              " 'domain': '해외고객과의채팅',\n",
              " 'subdomain': '숙박,음식점',\n",
              " 'en_original': \"I'm glad to hear that, and I hope you do consider doing business with us.\",\n",
              " 'en': \"I'm glad to hear that, and I hope you do consider doing business with us.\",\n",
              " 'mt': '그 소식을 들으니 기쁩니다. 우리와 거래하는 것을 고려해 보시기 바랍니다.',\n",
              " 'ko': '그 말을 들으니 기쁘고, 저희와 거래하는 것을 고려해 주셨으면 합니다.',\n",
              " 'source_language': 'en',\n",
              " 'target_language': 'ko',\n",
              " 'word_count_ko': 10.0,\n",
              " 'word_count_en': 15.0,\n",
              " 'word_ratio': 0.667,\n",
              " 'file_name': '해외고객과의채팅_숙박,음식점.xlsx',\n",
              " 'source': '크라우드 소싱',\n",
              " 'license': 'open',\n",
              " 'style': '구어체',\n",
              " 'included_unknown_words': False,\n",
              " 'ner': None}"
            ]
          },
          "metadata": {},
          "execution_count": 18
        }
      ],
      "source": [
        "# 아래의 예시를 보고 데이터를 어떻게 처리할지 잘 생각하셔야 합니다!\n",
        "# 보았을 때 우리가 사용해야 하는 건 ko와 en가 되고\n",
        "# 실제 데이터를 사용한다고 할 때 이 외에 필요한 데이터가 더 있을 수 있습니다.\n",
        "# 모델링 과정에서는 어떻게 데이터들이 저장되어 있는지 주의해서 처리하시면 됩니다.\n",
        "sample_data"
      ]
    },
    {
      "cell_type": "markdown",
      "metadata": {
        "id": "LoZkQRO3l20O"
      },
      "source": [
        "# Preprocess\n",
        "\n",
        "세션 설명 코드에서는 알파벳 하나하나 사용했지만, 이번 과정에서는 토큰화를 진행하여 사용하는 과정을 Dataset에 바로 적용해보고자 합니다! \n",
        "\n",
        "토큰화는 앞서 word embedding 세션에서 사용한 것들을 그대로 이용하고자 합니다. 세부 커스터마이징은 자유롭습니다.\n",
        "\n",
        "전처리 과정에서 중요한 점은, 앞의 구현 코드에서 여러 개의 for loop을 이용해서 구현했었지만, 실제 데이터를 사용한다면 매우 오래 걸리게 됩니다. 실제 데이터를 사용할 때엔 결국 얼마나 효율적으로 빠르게 정리할 수 있을지 고민해보시면서 접근하시길 바랍니다.\n",
        "\n",
        "즉, 전처리에서 챙길 통찰은 얼마나 \"효율적\"으로 할 수 있는가? 입니다."
      ]
    },
    {
      "cell_type": "markdown",
      "metadata": {
        "id": "IngQKWx3VRtO"
      },
      "source": [
        "## Tokenizer"
      ]
    },
    {
      "cell_type": "code",
      "execution_count": null,
      "metadata": {
        "colab": {
          "base_uri": "https://localhost:8080/"
        },
        "id": "ttmiDFAEU_BK",
        "outputId": "43e62e7c-4a1b-4e8f-ab01-1d4539f48a58"
      },
      "outputs": [
        {
          "output_type": "stream",
          "name": "stdout",
          "text": [
            "Get:1 https://cloud.r-project.org/bin/linux/ubuntu bionic-cran40/ InRelease [3,626 B]\n",
            "Get:2 https://cloud.r-project.org/bin/linux/ubuntu bionic-cran40/ Packages [91.7 kB]\n",
            "Hit:3 http://archive.ubuntu.com/ubuntu bionic InRelease\n",
            "Get:4 http://security.ubuntu.com/ubuntu bionic-security InRelease [88.7 kB]\n",
            "Get:5 http://ppa.launchpad.net/c2d4u.team/c2d4u4.0+/ubuntu bionic InRelease [15.9 kB]\n",
            "Get:6 http://archive.ubuntu.com/ubuntu bionic-updates InRelease [88.7 kB]\n",
            "Ign:7 https://developer.download.nvidia.com/compute/machine-learning/repos/ubuntu1804/x86_64  InRelease\n",
            "Hit:8 https://developer.download.nvidia.com/compute/cuda/repos/ubuntu1804/x86_64  InRelease\n",
            "Hit:9 https://developer.download.nvidia.com/compute/machine-learning/repos/ubuntu1804/x86_64  Release\n",
            "Hit:10 http://ppa.launchpad.net/cran/libgit2/ubuntu bionic InRelease\n",
            "Get:12 http://archive.ubuntu.com/ubuntu bionic-backports InRelease [74.6 kB]\n",
            "Get:13 http://ppa.launchpad.net/deadsnakes/ppa/ubuntu bionic InRelease [15.9 kB]\n",
            "Get:14 http://security.ubuntu.com/ubuntu bionic-security/restricted amd64 Packages [1,131 kB]\n",
            "Hit:15 http://ppa.launchpad.net/graphics-drivers/ppa/ubuntu bionic InRelease\n",
            "Get:16 http://archive.ubuntu.com/ubuntu bionic-updates/restricted amd64 Packages [1,172 kB]\n",
            "Get:17 http://ppa.launchpad.net/c2d4u.team/c2d4u4.0+/ubuntu bionic/main Sources [2,099 kB]\n",
            "Get:18 http://security.ubuntu.com/ubuntu bionic-security/main amd64 Packages [2,965 kB]\n",
            "Get:19 http://archive.ubuntu.com/ubuntu bionic-updates/main amd64 Packages [3,396 kB]\n",
            "Get:20 http://security.ubuntu.com/ubuntu bionic-security/universe amd64 Packages [1,540 kB]\n",
            "Get:21 http://ppa.launchpad.net/c2d4u.team/c2d4u4.0+/ubuntu bionic/main amd64 Packages [1,076 kB]\n",
            "Get:22 http://ppa.launchpad.net/deadsnakes/ppa/ubuntu bionic/main amd64 Packages [45.2 kB]\n",
            "Fetched 13.8 MB in 6s (2,366 kB/s)\n",
            "Reading package lists...\n",
            "Reading package lists...\n",
            "Building dependency tree...\n",
            "Reading state information...\n",
            "python-dev is already the newest version (2.7.15~rc1-1).\n",
            "g++ is already the newest version (4:7.4.0-1ubuntu2.3).\n",
            "g++ set to manually installed.\n",
            "python3-dev is already the newest version (3.6.7-1~18.04).\n",
            "python3-dev set to manually installed.\n",
            "The following package was automatically installed and is no longer required:\n",
            "  libnvidia-common-460\n",
            "Use 'apt autoremove' to remove it.\n",
            "The following additional packages will be installed:\n",
            "  fonts-dejavu-core fonts-dejavu-extra libatk-wrapper-java\n",
            "  libatk-wrapper-java-jni libgail-common libgail18 libgtk2.0-0 libgtk2.0-bin\n",
            "  libgtk2.0-common libxxf86dga1 openjdk-8-jdk-headless openjdk-8-jre\n",
            "  openjdk-8-jre-headless x11-utils\n",
            "Suggested packages:\n",
            "  gvfs openjdk-8-demo openjdk-8-source visualvm libnss-mdns\n",
            "  fonts-ipafont-gothic fonts-ipafont-mincho fonts-wqy-microhei\n",
            "  fonts-wqy-zenhei fonts-indic mesa-utils\n",
            "The following NEW packages will be installed:\n",
            "  fonts-dejavu-core fonts-dejavu-extra libatk-wrapper-java\n",
            "  libatk-wrapper-java-jni libgail-common libgail18 libgtk2.0-0 libgtk2.0-bin\n",
            "  libgtk2.0-common libxxf86dga1 openjdk-8-jdk openjdk-8-jdk-headless\n",
            "  openjdk-8-jre openjdk-8-jre-headless x11-utils\n",
            "0 upgraded, 15 newly installed, 0 to remove and 37 not upgraded.\n",
            "Need to get 46.0 MB of archives.\n",
            "After this operation, 166 MB of additional disk space will be used.\n",
            "Get:1 http://archive.ubuntu.com/ubuntu bionic/main amd64 libxxf86dga1 amd64 2:1.1.4-1 [13.7 kB]\n",
            "Get:2 http://archive.ubuntu.com/ubuntu bionic/main amd64 fonts-dejavu-core all 2.37-1 [1,041 kB]\n",
            "Get:3 http://archive.ubuntu.com/ubuntu bionic/main amd64 fonts-dejavu-extra all 2.37-1 [1,953 kB]\n",
            "Get:4 http://archive.ubuntu.com/ubuntu bionic/main amd64 x11-utils amd64 7.7+3build1 [196 kB]\n",
            "Get:5 http://archive.ubuntu.com/ubuntu bionic/main amd64 libatk-wrapper-java all 0.33.3-20ubuntu0.1 [34.7 kB]\n",
            "Get:6 http://archive.ubuntu.com/ubuntu bionic/main amd64 libatk-wrapper-java-jni amd64 0.33.3-20ubuntu0.1 [28.3 kB]\n",
            "Get:7 http://archive.ubuntu.com/ubuntu bionic/main amd64 libgtk2.0-common all 2.24.32-1ubuntu1 [125 kB]\n",
            "Get:8 http://archive.ubuntu.com/ubuntu bionic/main amd64 libgtk2.0-0 amd64 2.24.32-1ubuntu1 [1,769 kB]\n",
            "Get:9 http://archive.ubuntu.com/ubuntu bionic/main amd64 libgail18 amd64 2.24.32-1ubuntu1 [14.2 kB]\n",
            "Get:10 http://archive.ubuntu.com/ubuntu bionic/main amd64 libgail-common amd64 2.24.32-1ubuntu1 [112 kB]\n",
            "Get:11 http://archive.ubuntu.com/ubuntu bionic/main amd64 libgtk2.0-bin amd64 2.24.32-1ubuntu1 [7,536 B]\n",
            "Get:12 http://archive.ubuntu.com/ubuntu bionic-updates/universe amd64 openjdk-8-jre-headless amd64 8u342-b07-0ubuntu1~18.04 [28.3 MB]\n",
            "Get:13 http://archive.ubuntu.com/ubuntu bionic-updates/universe amd64 openjdk-8-jre amd64 8u342-b07-0ubuntu1~18.04 [69.6 kB]\n",
            "Get:14 http://archive.ubuntu.com/ubuntu bionic-updates/universe amd64 openjdk-8-jdk-headless amd64 8u342-b07-0ubuntu1~18.04 [8,300 kB]\n",
            "Get:15 http://archive.ubuntu.com/ubuntu bionic-updates/universe amd64 openjdk-8-jdk amd64 8u342-b07-0ubuntu1~18.04 [4,032 kB]\n",
            "Fetched 46.0 MB in 6s (7,943 kB/s)\n",
            "Selecting previously unselected package libxxf86dga1:amd64.\r\n",
            "(Reading database ... \r(Reading database ... 5%\r(Reading database ... 10%\r(Reading database ... 15%\r(Reading database ... 20%\r(Reading database ... 25%\r(Reading database ... 30%\r(Reading database ... 35%\r(Reading database ... 40%\r(Reading database ... 45%\r(Reading database ... 50%\r(Reading database ... 55%\r(Reading database ... 60%\r(Reading database ... 65%\r(Reading database ... 70%\r(Reading database ... 75%\r(Reading database ... 80%\r(Reading database ... 85%\r(Reading database ... 90%\r(Reading database ... 95%\r(Reading database ... 100%\r(Reading database ... 155685 files and directories currently installed.)\r\n",
            "Preparing to unpack .../00-libxxf86dga1_2%3a1.1.4-1_amd64.deb ...\r\n",
            "Unpacking libxxf86dga1:amd64 (2:1.1.4-1) ...\r\n",
            "Selecting previously unselected package fonts-dejavu-core.\r\n",
            "Preparing to unpack .../01-fonts-dejavu-core_2.37-1_all.deb ...\r\n",
            "Unpacking fonts-dejavu-core (2.37-1) ...\r\n",
            "Selecting previously unselected package fonts-dejavu-extra.\r\n",
            "Preparing to unpack .../02-fonts-dejavu-extra_2.37-1_all.deb ...\r\n",
            "Unpacking fonts-dejavu-extra (2.37-1) ...\r\n",
            "Selecting previously unselected package x11-utils.\r\n",
            "Preparing to unpack .../03-x11-utils_7.7+3build1_amd64.deb ...\r\n",
            "Unpacking x11-utils (7.7+3build1) ...\r\n",
            "Selecting previously unselected package libatk-wrapper-java.\r\n",
            "Preparing to unpack .../04-libatk-wrapper-java_0.33.3-20ubuntu0.1_all.deb ...\r\n",
            "Unpacking libatk-wrapper-java (0.33.3-20ubuntu0.1) ...\r\n",
            "Selecting previously unselected package libatk-wrapper-java-jni:amd64.\r\n",
            "Preparing to unpack .../05-libatk-wrapper-java-jni_0.33.3-20ubuntu0.1_amd64.deb ...\r\n",
            "Unpacking libatk-wrapper-java-jni:amd64 (0.33.3-20ubuntu0.1) ...\r\n",
            "Selecting previously unselected package libgtk2.0-common.\r\n",
            "Preparing to unpack .../06-libgtk2.0-common_2.24.32-1ubuntu1_all.deb ...\r\n",
            "Unpacking libgtk2.0-common (2.24.32-1ubuntu1) ...\r\n",
            "Selecting previously unselected package libgtk2.0-0:amd64.\r\n",
            "Preparing to unpack .../07-libgtk2.0-0_2.24.32-1ubuntu1_amd64.deb ...\r\n",
            "Unpacking libgtk2.0-0:amd64 (2.24.32-1ubuntu1) ...\r\n",
            "Selecting previously unselected package libgail18:amd64.\r\n",
            "Preparing to unpack .../08-libgail18_2.24.32-1ubuntu1_amd64.deb ...\r\n",
            "Unpacking libgail18:amd64 (2.24.32-1ubuntu1) ...\r\n",
            "Selecting previously unselected package libgail-common:amd64.\r\n",
            "Preparing to unpack .../09-libgail-common_2.24.32-1ubuntu1_amd64.deb ...\r\n",
            "Unpacking libgail-common:amd64 (2.24.32-1ubuntu1) ...\r\n",
            "Selecting previously unselected package libgtk2.0-bin.\r\n",
            "Preparing to unpack .../10-libgtk2.0-bin_2.24.32-1ubuntu1_amd64.deb ...\r\n",
            "Unpacking libgtk2.0-bin (2.24.32-1ubuntu1) ...\r\n",
            "Selecting previously unselected package openjdk-8-jre-headless:amd64.\r\n",
            "Preparing to unpack .../11-openjdk-8-jre-headless_8u342-b07-0ubuntu1~18.04_amd64.deb ...\r\n",
            "Unpacking openjdk-8-jre-headless:amd64 (8u342-b07-0ubuntu1~18.04) ...\r\n",
            "Selecting previously unselected package openjdk-8-jre:amd64.\r\n",
            "Preparing to unpack .../12-openjdk-8-jre_8u342-b07-0ubuntu1~18.04_amd64.deb ...\r\n",
            "Unpacking openjdk-8-jre:amd64 (8u342-b07-0ubuntu1~18.04) ...\r\n",
            "Selecting previously unselected package openjdk-8-jdk-headless:amd64.\r\n",
            "Preparing to unpack .../13-openjdk-8-jdk-headless_8u342-b07-0ubuntu1~18.04_amd64.deb ...\r\n",
            "Unpacking openjdk-8-jdk-headless:amd64 (8u342-b07-0ubuntu1~18.04) ...\r\n",
            "Selecting previously unselected package openjdk-8-jdk:amd64.\r\n",
            "Preparing to unpack .../14-openjdk-8-jdk_8u342-b07-0ubuntu1~18.04_amd64.deb ...\r\n",
            "Unpacking openjdk-8-jdk:amd64 (8u342-b07-0ubuntu1~18.04) ...\r\n",
            "Setting up libgtk2.0-common (2.24.32-1ubuntu1) ...\r\n",
            "Setting up fonts-dejavu-core (2.37-1) ...\r\n",
            "Setting up libxxf86dga1:amd64 (2:1.1.4-1) ...\r\n",
            "Setting up fonts-dejavu-extra (2.37-1) ...\r\n",
            "Setting up openjdk-8-jre-headless:amd64 (8u342-b07-0ubuntu1~18.04) ...\r\n",
            "update-alternatives: using /usr/lib/jvm/java-8-openjdk-amd64/jre/bin/orbd to provide /usr/bin/orbd (orbd) in auto mode\r\n",
            "update-alternatives: using /usr/lib/jvm/java-8-openjdk-amd64/jre/bin/servertool to provide /usr/bin/servertool (servertool) in auto mode\r\n",
            "update-alternatives: using /usr/lib/jvm/java-8-openjdk-amd64/jre/bin/tnameserv to provide /usr/bin/tnameserv (tnameserv) in auto mode\r\n",
            "Setting up libgtk2.0-0:amd64 (2.24.32-1ubuntu1) ...\r\n",
            "Setting up libgail18:amd64 (2.24.32-1ubuntu1) ...\r\n",
            "Setting up openjdk-8-jdk-headless:amd64 (8u342-b07-0ubuntu1~18.04) ...\r\n",
            "update-alternatives: using /usr/lib/jvm/java-8-openjdk-amd64/bin/idlj to provide /usr/bin/idlj (idlj) in auto mode\r\n",
            "update-alternatives: using /usr/lib/jvm/java-8-openjdk-amd64/bin/wsimport to provide /usr/bin/wsimport (wsimport) in auto mode\r\n",
            "update-alternatives: using /usr/lib/jvm/java-8-openjdk-amd64/bin/jsadebugd to provide /usr/bin/jsadebugd (jsadebugd) in auto mode\r\n",
            "update-alternatives: using /usr/lib/jvm/java-8-openjdk-amd64/bin/native2ascii to provide /usr/bin/native2ascii (native2ascii) in auto mode\r\n",
            "update-alternatives: using /usr/lib/jvm/java-8-openjdk-amd64/bin/javah to provide /usr/bin/javah (javah) in auto mode\r\n",
            "update-alternatives: using /usr/lib/jvm/java-8-openjdk-amd64/bin/clhsdb to provide /usr/bin/clhsdb (clhsdb) in auto mode\r\n",
            "update-alternatives: using /usr/lib/jvm/java-8-openjdk-amd64/bin/xjc to provide /usr/bin/xjc (xjc) in auto mode\r\n",
            "update-alternatives: using /usr/lib/jvm/java-8-openjdk-amd64/bin/hsdb to provide /usr/bin/hsdb (hsdb) in auto mode\r\n",
            "update-alternatives: using /usr/lib/jvm/java-8-openjdk-amd64/bin/schemagen to provide /usr/bin/schemagen (schemagen) in auto mode\r\n",
            "update-alternatives: using /usr/lib/jvm/java-8-openjdk-amd64/bin/extcheck to provide /usr/bin/extcheck (extcheck) in auto mode\r\n",
            "update-alternatives: using /usr/lib/jvm/java-8-openjdk-amd64/bin/jhat to provide /usr/bin/jhat (jhat) in auto mode\r\n",
            "update-alternatives: using /usr/lib/jvm/java-8-openjdk-amd64/bin/wsgen to provide /usr/bin/wsgen (wsgen) in auto mode\r\n",
            "Setting up x11-utils (7.7+3build1) ...\r\n",
            "Setting up libgail-common:amd64 (2.24.32-1ubuntu1) ...\r\n",
            "Setting up libatk-wrapper-java (0.33.3-20ubuntu0.1) ...\r\n",
            "Setting up libgtk2.0-bin (2.24.32-1ubuntu1) ...\r\n",
            "Setting up libatk-wrapper-java-jni:amd64 (0.33.3-20ubuntu0.1) ...\r\n",
            "Setting up openjdk-8-jre:amd64 (8u342-b07-0ubuntu1~18.04) ...\r\n",
            "update-alternatives: using /usr/lib/jvm/java-8-openjdk-amd64/jre/bin/policytool to provide /usr/bin/policytool (policytool) in auto mode\r\n",
            "Setting up openjdk-8-jdk:amd64 (8u342-b07-0ubuntu1~18.04) ...\r\n",
            "update-alternatives: using /usr/lib/jvm/java-8-openjdk-amd64/bin/appletviewer to provide /usr/bin/appletviewer (appletviewer) in auto mode\r\n",
            "update-alternatives: using /usr/lib/jvm/java-8-openjdk-amd64/bin/jconsole to provide /usr/bin/jconsole (jconsole) in auto mode\r\n",
            "Processing triggers for man-db (2.8.3-2ubuntu0.1) ...\r\n",
            "Processing triggers for hicolor-icon-theme (0.17-2) ...\r\n",
            "Processing triggers for fontconfig (2.12.6-0ubuntu2) ...\r\n",
            "Processing triggers for mime-support (3.60ubuntu1) ...\r\n",
            "Processing triggers for libc-bin (2.27-3ubuntu1.5) ...\r\n",
            "Looking in indexes: https://pypi.org/simple, https://us-python.pkg.dev/colab-wheels/public/simple/\n",
            "Collecting JPype1\n",
            "  Downloading JPype1-1.4.0-cp37-cp37m-manylinux_2_5_x86_64.manylinux1_x86_64.whl (453 kB)\n",
            "Requirement already satisfied: typing-extensions in /usr/local/lib/python3.7/dist-packages (from JPype1) (4.1.1)\n",
            "Installing collected packages: JPype1\n",
            "Successfully installed JPype1-1.4.0\n",
            "Looking in indexes: https://pypi.org/simple, https://us-python.pkg.dev/colab-wheels/public/simple/\n",
            "Collecting konlpy\n",
            "  Downloading konlpy-0.6.0-py2.py3-none-any.whl (19.4 MB)\n",
            "Requirement already satisfied: JPype1>=0.7.0 in /usr/local/lib/python3.7/dist-packages (from konlpy) (1.4.0)\n",
            "Requirement already satisfied: lxml>=4.1.0 in /usr/local/lib/python3.7/dist-packages (from konlpy) (4.9.1)\n",
            "Requirement already satisfied: numpy>=1.6 in /usr/local/lib/python3.7/dist-packages (from konlpy) (1.21.6)\n",
            "Requirement already satisfied: typing-extensions in /usr/local/lib/python3.7/dist-packages (from JPype1>=0.7.0->konlpy) (4.1.1)\n",
            "Installing collected packages: konlpy\n",
            "Successfully installed konlpy-0.6.0\n"
          ]
        }
      ],
      "source": [
        "#konlpy 설치 (mecab 제외). 3~40초 정도 소요\n",
        "%%bash\n",
        "apt-get update\n",
        "apt-get install g++ openjdk-8-jdk python-dev python3-dev\n",
        "pip3 install JPype1\n",
        "pip3 install konlpy"
      ]
    },
    {
      "cell_type": "code",
      "execution_count": null,
      "metadata": {
        "colab": {
          "base_uri": "https://localhost:8080/"
        },
        "id": "gV7CNL2KVDqN",
        "outputId": "da6582c3-53c5-4294-b165-5e76f1a53df0"
      },
      "outputs": [
        {
          "output_type": "stream",
          "name": "stdout",
          "text": [
            "env: JAVA_HOME=\"/usr/lib/jvm/java-8-openjdk-amd64\"\n"
          ]
        }
      ],
      "source": [
        "# java 경로 설정\n",
        "%env JAVA_HOME \"/usr/lib/jvm/java-8-openjdk-amd64\""
      ]
    },
    {
      "cell_type": "code",
      "execution_count": null,
      "metadata": {
        "id": "S0aHtzksVPOT"
      },
      "outputs": [],
      "source": [
        "from konlpy.tag import Okt"
      ]
    },
    {
      "cell_type": "code",
      "execution_count": null,
      "metadata": {
        "id": "ly1Fg2bXVYVF"
      },
      "outputs": [],
      "source": [
        "okt = Okt()"
      ]
    },
    {
      "cell_type": "code",
      "execution_count": null,
      "metadata": {
        "id": "KYdttBB0do-A"
      },
      "outputs": [],
      "source": [
        "import pandas as pd"
      ]
    },
    {
      "cell_type": "code",
      "execution_count": null,
      "metadata": {
        "id": "IHIUsyiydn-e"
      },
      "outputs": [],
      "source": [
        "stop_words_list= pd.read_csv('/content/drive/MyDrive/DSL/2022-2/[0830] TextMining_WordEmbedding/stop.txt',names= ['column'],header=None)"
      ]
    },
    {
      "cell_type": "code",
      "execution_count": null,
      "metadata": {
        "id": "aL07MXTBdqq9"
      },
      "outputs": [],
      "source": [
        "stop_words_list = stop_words_list['column'].tolist()"
      ]
    },
    {
      "cell_type": "code",
      "execution_count": null,
      "metadata": {
        "id": "5_CWeyKoeUwq"
      },
      "outputs": [],
      "source": [
        "stop_words_list"
      ]
    },
    {
      "cell_type": "code",
      "execution_count": null,
      "metadata": {
        "id": "UcXNpcUaVtIA"
      },
      "outputs": [],
      "source": [
        "def CustomTokenizer(corpus):\n",
        "    tokenized= okt.morphs(corpus)\n",
        "\n",
        "    return tokenized      "
      ]
    },
    {
      "cell_type": "code",
      "execution_count": null,
      "metadata": {
        "colab": {
          "base_uri": "https://localhost:8080/"
        },
        "id": "aGMdyWtdWF31",
        "outputId": "e5922a13-97e3-4f0a-c824-f2b515b65f6e"
      },
      "outputs": [
        {
          "output_type": "execute_result",
          "data": {
            "text/plain": [
              "['그',\n",
              " '말',\n",
              " '을',\n",
              " '들으니',\n",
              " '기쁘고',\n",
              " ',',\n",
              " '저희',\n",
              " '와',\n",
              " '거래',\n",
              " '하는',\n",
              " '것',\n",
              " '을',\n",
              " '고려',\n",
              " '해',\n",
              " '주셨으면',\n",
              " '합니다',\n",
              " '.']"
            ]
          },
          "metadata": {},
          "execution_count": 67
        }
      ],
      "source": [
        "# 한국어 처리 어떻게 되고 있는지 확인\n",
        "CustomTokenizer(sample_data['ko'])"
      ]
    },
    {
      "cell_type": "code",
      "execution_count": null,
      "metadata": {
        "colab": {
          "base_uri": "https://localhost:8080/"
        },
        "id": "G7vMH186WJUp",
        "outputId": "8f899e4e-ca42-4c3c-8aa8-7a734739b421"
      },
      "outputs": [
        {
          "output_type": "execute_result",
          "data": {
            "text/plain": [
              "['I',\n",
              " \"'\",\n",
              " 'm',\n",
              " 'glad',\n",
              " 'to',\n",
              " 'hear',\n",
              " 'that',\n",
              " ',',\n",
              " 'and',\n",
              " 'I',\n",
              " 'hope',\n",
              " 'you',\n",
              " 'do',\n",
              " 'consider',\n",
              " 'doing',\n",
              " 'business',\n",
              " 'with',\n",
              " 'us',\n",
              " '.']"
            ]
          },
          "metadata": {},
          "execution_count": 47
        }
      ],
      "source": [
        "# 영어도 일단 토큰화가 되고 있으니 사용해보도록 합시다\n",
        "CustomTokenizer(sample_data['en'])"
      ]
    },
    {
      "cell_type": "markdown",
      "metadata": {
        "id": "L9_z0sVcW7Cy"
      },
      "source": [
        "## 본격적인 전처리 과정\n",
        "\n",
        "전처리릏 할 때 주의할 점은, 우리가 가지고 있는 것은 train 데이터 뿐이라는 점입니다.\n",
        "\n",
        "토큰화를 하고, token들을 수집할 때 평가데이터(혹은 테스트 데이터)에 대한 정보는 가지고 있을 수 없습니다. 그렇기 때문에 train data를 기준으로 전처리가 진행되어야 합니다."
      ]
    },
    {
      "cell_type": "markdown",
      "metadata": {
        "id": "HgfddQJuaQe-"
      },
      "source": [
        "### Tokenization"
      ]
    },
    {
      "cell_type": "code",
      "execution_count": null,
      "metadata": {
        "id": "zPHGhgX4YXJR"
      },
      "outputs": [],
      "source": [
        "from tqdm import tqdm"
      ]
    },
    {
      "cell_type": "code",
      "execution_count": null,
      "metadata": {
        "colab": {
          "base_uri": "https://localhost:8080/"
        },
        "id": "sJjWUAipWPsN",
        "outputId": "baf7c814-dbc2-4836-f254-557f238081e0"
      },
      "outputs": [
        {
          "output_type": "stream",
          "name": "stderr",
          "text": [
            "100%|██████████| 10000/10000 [00:33<00:00, 300.03it/s]\n"
          ]
        }
      ],
      "source": [
        "src_vocab = set()\n",
        "tar_vocab = set()\n",
        "\n",
        "src_seq_tr = []\n",
        "tar_seq_tr = []\n",
        "\n",
        "# 전체 raw data에서 문장하나씩 loop 돌아가는 것\n",
        "for raw_tr_dat in tqdm(raw_train_data):\n",
        "  # 문장별 tokenization\n",
        "  src_tmp = CustomTokenizer(raw_tr_dat['en'])\n",
        "  tar_tmp = CustomTokenizer(raw_tr_dat['ko'])\n",
        "\n",
        "  # 입력 시퀀스에서 문장의 끝을 알리는 <EOS> 토큰 추가\n",
        "  # 출력 시퀀스에서 시작과 끝을 알리는 <SOS>, <EOS> 토큰 추가\n",
        "  src_tmp.append('<EOS>')\n",
        "  tar_tmp.insert(0,'<SOS>')\n",
        "  tar_tmp.append('<EOS>')\n",
        "  \n",
        "  # 한국어, 영어 단어집합 구성\n",
        "  for voca in src_tmp:\n",
        "      src_vocab.add(voca)\n",
        "\n",
        "\n",
        "\n",
        "  for voca in tar_tmp:\n",
        "      tar_vocab.add(voca)\n",
        "\n",
        "\n",
        "  # tokenization 끝난 문장 보관\n",
        "  src_seq_tr.append(src_tmp)\n",
        "  tar_seq_tr.append(tar_tmp)\n",
        "  "
      ]
    },
    {
      "cell_type": "markdown",
      "metadata": {
        "id": "PtNW4DUIyEbN"
      },
      "source": [
        "고민해볼 점: 과연 한국어 단어집합에 한국어만 있을까요?\n",
        "\n",
        "지금 단계에서는 시간 상 체크하진 않지만 고민해볼 부분이기도 합니다."
      ]
    },
    {
      "cell_type": "markdown",
      "metadata": {
        "id": "cK_E98-daSy7"
      },
      "source": [
        "### token - index 정리"
      ]
    },
    {
      "cell_type": "code",
      "execution_count": null,
      "metadata": {
        "id": "Iz3i3MtRZ-P-"
      },
      "outputs": [],
      "source": [
        "# 최종 정수 인코딩 하기 전 보기 편하기 위해 sort\n",
        "src_vocab = sorted(list(src_vocab))\n",
        "tar_vocab = sorted(list(tar_vocab))"
      ]
    },
    {
      "cell_type": "code",
      "source": [
        "'<EOS>' in tar_vocab"
      ],
      "metadata": {
        "colab": {
          "base_uri": "https://localhost:8080/"
        },
        "id": "_QGpjz9JGV5B",
        "outputId": "afafd5c6-c31a-4f0f-fa59-fb642044a9f9"
      },
      "execution_count": null,
      "outputs": [
        {
          "output_type": "execute_result",
          "data": {
            "text/plain": [
              "True"
            ]
          },
          "metadata": {},
          "execution_count": 79
        }
      ]
    },
    {
      "cell_type": "markdown",
      "source": [
        "단어가 근데 ..SRS 랑 EOS잘 포함하고있는데 왜 1번 2번으로 안왔는지 잘 모르겠습니다. "
      ],
      "metadata": {
        "id": "BYxnXmuXOJ0T"
      }
    },
    {
      "cell_type": "code",
      "source": [
        "src_vocab.remove('<EOS>')\n",
        "tar_vocab.remove('<EOS>')\n",
        "tar_vocab.remove('<SOS>')\n",
        "\n",
        "src_vocab.insert(0,'<EOS>')\n",
        "tar_vocab.insert(0,'<EOS>')\n",
        "tar_vocab.insert(1,'<SOS>')"
      ],
      "metadata": {
        "id": "brDrcqtURHEO"
      },
      "execution_count": null,
      "outputs": []
    },
    {
      "cell_type": "code",
      "source": [
        "# token - idx dictionary\n",
        "# 여기서도 동일하게 i+1로 해줘야 padding에 사용할 token을 0으로 사용할 수 있습니다!\n",
        "src_to_index = dict([(word, i+1) for i, word in enumerate(src_vocab)])\n",
        "tar_to_index = dict([(word, i+1) for i, word in enumerate(tar_vocab)])\n",
        "print(src_to_index)\n",
        "print(tar_to_index)"
      ],
      "metadata": {
        "colab": {
          "base_uri": "https://localhost:8080/"
        },
        "id": "Dzkwor6cK0SZ",
        "outputId": "35a26d14-6d71-4895-f1ab-ece97bb27521"
      },
      "execution_count": null,
      "outputs": [
        {
          "output_type": "stream",
          "name": "stdout",
          "text": [
            "{'<EOS>': 1, '!': 2, '\"': 3, '$1,000,000': 4, '$100': 5, '$30': 6, \"'\": 7, '(': 8, ').': 9, ',': 10, ',\"': 11, '-': 12, '.': 13, '.\"': 14, '.,': 15, '.;': 16, '.?': 17, '0.2': 18, '0.26%': 19, '0.5%': 20, '0.95': 21, '0000000': 22, '006': 23, '1': 24, '1%': 25, '1,000': 26, '1,000,000': 27, '1,200': 28, '1,250,000': 29, '1,500': 30, '1,700,000': 31, '1.50%': 32, '10': 33, '10%': 34, '10,000': 35, '10.9%': 36, '100': 37, '100%': 38, '100,000': 39, '1000': 40, '10:00': 41, '11': 42, '1100': 43, '11:00': 44, '12': 45, '12%': 46, '12.99': 47, '120': 48, '123': 49, '123-456': 50, '1234': 51, '1234-5678': 52, '123456': 53, '1234567': 54, '12345678': 55, '123456789': 56, '123456789012': 57, '123546789': 58, '125': 59, '128': 60, '13': 61, '135': 62, '14': 63, '140': 64, '140,000': 65, '142': 66, '144': 67, '15': 68, '15%': 69, '15,000': 70, '150': 71, '150,000': 72, '1500': 73, '16': 74, '17': 75, '18': 76, '18,000,000,000': 77, '19': 78, '1952': 79, '1:00': 80, '1:1': 81, '2': 82, '2%': 83, '2,000': 84, '2,000,000': 85, '2,500': 86, '2.5%': 87, '20': 88, '20%': 89, '20,000': 90, '20.70': 91, '200': 92, '2000': 93, '2002': 94, '2019': 95, '2021': 96, '2022': 97, '21': 98, '22': 99, '23': 100, '24': 101, '24/7': 102, '25': 103, '25%': 104, '250': 105, '250,000': 106, '2500': 107, '27': 108, '280': 109, '29': 110, '2929': 111, '2:00': 112, '3': 113, '3%': 114, '3,000': 115, '3,500': 116, '3.5%': 117, '30': 118, '300': 119, '3000': 120, '31': 121, '320': 122, '34.5': 123, '35': 124, '350': 125, '365': 126, '370': 127, '3:00': 128, '3:30': 129, '4': 130, '4%': 131, '4,000': 132, '4.99': 133, '40': 134, '40%': 135, '40,000': 136, '400': 137, '400,000': 138, '4000': 139, '404': 140, '420': 141, '45.5': 142, '450': 143, '450,000': 144, '475': 145, '48': 146, '4:00': 147, '4:45': 148, '5': 149, '5%': 150, '5,200': 151, '5.0': 152, '50': 153, '50%': 154, '50,000': 155, '50,000,000': 156, '500': 157, '500,000': 158, '51.5': 159, '52': 160, '55,000': 161, '550': 162, '58,000,000': 163, '5900': 164, '5:00': 165, '6': 166, '6%': 167, '6,000': 168, '6.4': 169, '60': 170, '60%': 171, '600,000': 172, '63': 173, '6:00': 174, '7': 175, '7%': 176, '7,000': 177, '7,200': 178, '70': 179, '700': 180, '72': 181, '75': 182, '75%': 183, '750': 184, '7500': 185, '7:00': 186, '7:50': 187, '8': 188, '8%': 189, '8,000': 190, '8,400': 191, '80': 192, '80%': 193, '80,000': 194, '800': 195, '8:00': 196, '9': 197, '9,500': 198, '9.99': 199, '90': 200, '90,000': 201, '900': 202, '900,000': 203, '93': 204, '99%': 205, '9:16': 206, ':': 207, ';': 208, '?': 209, 'A': 210, 'AAA': 211, 'AAA1@BBB1.com.': 212, 'AAA@BBB.com': 213, 'ABCDE': 214, 'AI': 215, 'ANRs': 216, 'ATM': 217, 'ATMs': 218, 'Absolutely': 219, 'Accidents': 220, 'According': 221, 'Actually': 222, 'Additionally': 223, 'Ads': 224, 'African': 225, 'After': 226, 'Afterwards': 227, 'Again': 228, 'Agency': 229, 'Ah': 230, 'Airport': 231, 'All': 232, 'Allow': 233, 'Almost': 234, 'Along': 235, 'Alright': 236, 'Also': 237, 'Alternatively': 238, 'Although': 239, 'Am': 240, 'America': 241, 'American': 242, 'Among': 243, 'Amsterdam': 244, 'An': 245, 'And': 246, 'Angel': 247, 'Another': 248, 'Any': 249, 'Anyone': 250, 'Anything': 251, 'Anyway': 252, 'Apart': 253, 'Apologies': 254, 'Apparently': 255, 'Appraisal': 256, 'April': 257, 'Are': 258, 'Argentina': 259, 'Around': 260, 'Articles': 261, 'Artificial': 262, 'As': 263, 'Asia': 264, 'Asian': 265, 'Aside': 266, 'Associates': 267, 'Assume': 268, 'At': 269, 'August': 270, 'Australia': 271, 'Australian': 272, 'Available': 273, 'Avatars': 274, 'Avoid': 275, 'Awesome': 276, 'B': 277, 'BBB': 278, 'BBB@email.com.': 279, 'BBQ': 280, 'BSE': 281, 'Back': 282, 'Bank': 283, 'Barbados': 284, 'Based': 285, 'Basically': 286, 'Be': 287, 'Bear': 288, 'Because': 289, 'Beef': 290, 'Before': 291, 'Being': 292, 'Besides': 293, 'Board': 294, 'Bohemian': 295, 'Bokkeumbap': 296, 'Bossam': 297, 'Both': 298, 'Brazil': 299, 'Breakfast': 300, 'Bringing': 301, 'Broadcast': 302, 'Broadcasting': 303, 'Browsing': 304, 'Brunei': 305, 'Buddha': 306, 'Buddhism': 307, 'Buddhist': 308, 'Building': 309, 'Bulgogi': 310, 'Bungeoppang': 311, 'Bunsen': 312, 'Busan': 313, 'Business': 314, 'But': 315, 'Buying': 316, 'By': 317, 'C': 318, 'CCTV': 319, 'CCTVs': 320, 'CEO': 321, 'CFM': 322, 'CMS': 323, 'COVID': 324, 'CSS': 325, 'CT': 326, 'California': 327, 'Call': 328, 'Camp': 329, 'Camping': 330, 'Can': 331, 'Canada': 332, 'Canal': 333, 'Capital': 334, 'Catering': 335, 'Center': 336, 'Certainly': 337, 'Change': 338, 'Chapter': 339, 'Chicago': 340, 'Chief': 341, 'Children': 342, 'China': 343, 'Chinese': 344, 'Choosing': 345, 'Chosun': 346, 'Christmas': 347, 'Chuseok': 348, 'City': 349, 'Class': 350, 'Click': 351, 'Clothing': 352, 'Cloud': 353, 'Come': 354, 'Company': 355, 'Compatible': 356, 'Completion': 357, 'Consider': 358, 'Considering': 359, 'Contact': 360, 'Content': 361, 'Continental': 362, 'Continue': 363, 'Control': 364, 'Convention': 365, 'Cool': 366, 'Copyright': 367, 'Corp': 368, 'Corporation': 369, 'Correct': 370, 'Could': 371, 'Court': 372, 'Crowdfunding': 373, 'Cryptocurrency': 374, 'Currently': 375, 'D': 376, 'DCA': 377, 'DVR': 378, 'Daegu': 379, 'Dak': 380, 'Dear': 381, 'December': 382, 'Definitely': 383, 'Denmark': 384, 'Department': 385, 'Depends': 386, 'Design': 387, 'Despite': 388, 'Details': 389, 'Devices': 390, 'Did': 391, 'Didn': 392, 'Different': 393, 'Disclosing': 394, 'District': 395, 'Do': 396, 'Documents': 397, 'Does': 398, 'Don': 399, 'Download': 400, 'Dr': 401, 'Drive': 402, 'Due': 403, 'Duly': 404, 'During': 405, 'E': 406, 'EOB': 407, 'EPP': 408, 'ESG': 409, 'EST': 410, 'ETF': 411, 'ETFs': 412, 'EVA': 413, 'Each': 414, 'Earth': 415, 'East': 416, 'Eastern': 417, 'Egyptian': 418, 'Eh': 419, 'Emerald': 420, 'Emerging': 421, 'Emily': 422, 'Encryption': 423, 'Engine': 424, 'Engines': 425, 'England': 426, 'English': 427, 'Equipment': 428, 'Especially': 429, 'Essentially': 430, 'Europe': 431, 'European': 432, 'Euros': 433, 'Even': 434, 'Events': 435, 'Every': 436, 'Everyone': 437, 'Everything': 438, 'Exactly': 439, 'Excellent': 440, 'Exchange': 441, 'Excuse': 442, 'Exit': 443, 'Expect': 444, 'Expo': 445, 'FDI': 446, 'FFF': 447, 'FOMO': 448, 'Factors': 449, 'Failure': 450, 'Fantastic': 451, 'February': 452, 'Federal': 453, 'Feel': 454, 'Festival': 455, 'Fi': 456, 'Fifth': 457, 'Filipino': 458, 'Finally': 459, 'Financial': 460, 'Find': 461, 'Fine': 462, 'Fingers': 463, 'First': 464, 'Firstly': 465, 'Five': 466, 'Flashes': 467, 'Flexibility': 468, 'Food': 469, 'For': 470, 'Foreigners': 471, 'Fortunately': 472, 'Fourth': 473, 'France': 474, 'Francisco': 475, 'French': 476, 'Friday': 477, 'From': 478, 'Fu': 479, 'Furthermore': 480, 'Futons': 481, 'Futures': 482, 'G': 483, 'GB': 484, 'GPS': 485, 'GVWR': 486, 'Gains': 487, 'Gangnam': 488, 'Gangneung': 489, 'Gas': 490, 'Generally': 491, 'Georgia': 492, 'Germany': 493, 'Get': 494, 'Ginseng': 495, 'Give': 496, 'Given': 497, 'Giving': 498, 'Go': 499, 'Good': 500, 'Got': 501, 'Graphic': 502, 'Great': 503, 'Greek': 504, 'Greetings': 505, 'Group': 506, 'Guam': 507, 'Gujeolpan': 508, 'Gyeonggi': 509, 'HDD': 510, 'HR': 511, 'HTML': 512, 'Hackers': 513, 'Halal': 514, 'Hanok': 515, 'Has': 516, 'Have': 517, 'Having': 518, 'Hawaii': 519, 'He': 520, 'Helllo': 521, 'Hello': 522, 'Hence': 523, 'Her': 524, 'Here': 525, 'Hey': 526, 'Hi': 527, 'Hmm': 528, 'Hokkaido': 529, 'Hold': 530, 'Hopefully': 531, 'Hotel': 532, 'How': 533, 'However': 534, 'I': 535, 'ID': 536, 'IDs': 537, 'IP': 538, 'IPO': 539, 'IPOs': 540, 'IT': 541, 'IVR': 542, 'IaaS': 543, 'If': 544, 'Ilsan': 545, 'In': 546, 'Incentives': 547, 'Incheon': 548, 'Incorporation': 549, 'Indeed': 550, 'Independent': 551, 'India': 552, 'Indian': 553, 'Indonesia': 554, 'Indonesian': 555, 'Inflation': 556, 'Influencer': 557, 'Innovations': 558, 'Installing': 559, 'Instant': 560, 'Insurance': 561, 'Interesting': 562, 'International': 563, 'Internet': 564, 'Intraday': 565, 'Invest': 566, 'Investments': 567, 'Investors': 568, 'IoT': 569, 'Is': 570, 'Isn': 571, 'It': 572, 'Italian': 573, 'Italy': 574, 'JLPT': 575, 'January': 576, 'Japan': 577, 'Japanese': 578, 'Jeju': 579, 'Jeonbyeong': 580, 'Jjimjilbang': 581, 'Jongno': 582, 'July': 583, 'Jun': 584, 'June': 585, 'Just': 586, 'K': 587, 'KOSDAQ': 588, 'KST': 589, 'Kabsat': 590, 'Keep': 591, 'Kimchi': 592, 'Kindly': 593, 'Kingdom': 594, 'Know': 595, 'Knowing': 596, 'Kolkata': 597, 'Korea': 598, 'Korean': 599, 'Koreans': 600, 'Kuala': 601, 'LED': 602, 'Language': 603, 'Last': 604, 'Lastly': 605, 'Later': 606, 'Latest': 607, 'Law': 608, 'Learning': 609, 'Let': 610, 'Life': 611, 'Like': 612, 'Likewise': 613, 'Limited': 614, 'Listen': 615, 'Little': 616, 'Liverpool': 617, 'Loans': 618, 'Locust': 619, 'Log': 620, 'London': 621, 'Looking': 622, 'Losers': 623, 'Loss': 624, 'Lovely': 625, 'Low': 626, 'Luckily': 627, 'Lumpur': 628, 'M': 629, 'MAR': 630, 'MMS': 631, 'MOU': 632, 'Ma': 633, 'Madrid': 634, 'Mainly': 635, 'Maintaining': 636, 'Make': 637, 'Making': 638, 'Malaysia': 639, 'Management': 640, 'Manali': 641, 'Mandarin': 642, 'Manila': 643, 'Many': 644, 'Mapo': 645, 'Mapping': 646, 'March': 647, 'Marketing': 648, 'May': 649, 'Maybe': 650, 'Me': 651, 'Meaning': 652, 'Meanwhile': 653, 'Mechanical': 654, 'Media': 655, 'Medical': 656, 'Members': 657, 'Metaverse': 658, 'Michelin': 659, 'Minting': 660, 'Mobile': 661, 'Monday': 662, 'Month': 663, 'More': 664, 'Moreover': 665, 'Most': 666, 'Moving': 667, 'Mr': 668, 'Mrs': 669, 'Ms': 670, 'Music': 671, 'My': 672, 'Myanmar': 673, 'NFT': 674, 'NFTs': 675, 'NI': 676, 'NSE': 677, 'NTFS': 678, 'Naturally': 679, 'Needles': 680, 'Network': 681, 'Never': 682, 'New': 683, 'News': 684, 'Next': 685, 'Nigeria': 686, 'No': 687, 'Nobody': 688, 'Non': 689, 'None': 690, 'Normally': 691, 'North': 692, 'Not': 693, 'Noted': 694, 'Nothing': 695, 'November': 696, 'Now': 697, 'Nowadays': 698, 'OK': 699, 'OKK': 700, 'OS': 701, 'October': 702, 'Of': 703, 'Off': 704, 'Offering': 705, 'Office': 706, 'Officer': 707, 'Oh': 708, 'Ohio': 709, 'Ok': 710, 'Okay': 711, 'Omji': 712, 'On': 713, 'Once': 714, 'One': 715, 'Only': 716, 'Ontario': 717, 'Optimization': 718, 'Or': 719, 'Originally': 720, 'Others': 721, 'Otherwise': 722, 'Our': 723, 'Out': 724, 'Over': 725, 'Overall': 726, 'PDA': 727, 'PDF': 728, 'PM': 729, 'PPE': 730, 'PR': 731, 'PRO': 732, 'PSAs': 733, 'PVP': 734, 'Pakistan': 735, 'Palm': 736, 'Paper': 737, 'Paris': 738, 'Paying': 739, 'Payment': 740, 'Pelmeni': 741, 'People': 742, 'Perfect': 743, 'Perhaps': 744, 'Philippines': 745, 'Place': 746, 'Please': 747, 'Plenty': 748, 'Plummer': 749, 'Plus': 750, 'Pohang': 751, 'Pot': 752, 'Precisely': 753, 'Precision': 754, 'Predicting': 755, 'President': 756, 'Prices': 757, 'Private': 758, 'Probably': 759, 'Product': 760, 'Publishing': 761, 'Python': 762, 'QR': 763, 'Quality': 764, 'RAM': 765, 'RV': 766, 'Radio': 767, 'Recently': 768, 'Red': 769, 'Regarding': 770, 'Regardless': 771, 'Regrettably': 772, 'Resolution': 773, 'Rest': 774, 'Retailers': 775, 'Right': 776, 'Room': 777, 'SD': 778, 'SEO': 779, 'SIM': 780, 'SKUs': 781, 'SPV': 782, 'SSD': 783, 'SSL': 784, 'Sadly': 785, 'Saeng': 786, 'Sakyamuni': 787, 'Salalah': 788, 'San': 789, 'Sashimi': 790, 'Saturday': 791, 'Sauna': 792, 'Say': 793, 'Schools': 794, 'Search': 795, 'Second': 796, 'Security': 797, 'See': 798, 'Send': 799, 'Seoul': 800, 'September': 801, 'Series': 802, 'Services': 803, 'Several': 804, 'Shall': 805, 'Shampoo': 806, 'Shanghai': 807, 'She': 808, 'Shop': 809, 'Should': 810, 'Signals': 811, 'Signature': 812, 'Similar': 813, 'Simply': 814, 'Since': 815, 'Singapore': 816, 'Singaporean': 817, 'Sir': 818, 'Skim': 819, 'So': 820, 'Social': 821, 'Soju': 822, 'Solar': 823, 'Some': 824, 'Someone': 825, 'Something': 826, 'Sometimes': 827, 'Soon': 828, 'Sorry': 829, 'Sounds': 830, 'South': 831, 'Southeast': 832, 'Spain': 833, 'Spanish': 834, 'Speaking': 835, 'Specifically': 836, 'Springs': 837, 'Square': 838, 'Starting': 839, 'States': 840, 'Station': 841, 'Stay': 842, 'Staying': 843, 'Still': 844, 'Stock': 845, 'Street': 846, 'Stroganoff': 847, 'Submit': 848, 'Submitting': 849, 'Such': 850, 'Sudan': 851, 'Suez': 852, 'Suite': 853, 'Sun': 854, 'Sunday': 855, 'Sure': 856, 'TPU': 857, 'TV': 858, 'Taegeuk': 859, 'Taeguekgi': 860, 'Taiwan': 861, 'Take': 862, 'Task': 863, 'Team': 864, 'Tech': 865, 'Technical': 866, 'Technology': 867, 'Tell': 868, 'Temple': 869, 'Ten': 870, 'Thai': 871, 'Thailand': 872, 'Thank': 873, 'Thanks': 874, 'That': 875, 'The': 876, 'Their': 877, 'Then': 878, 'There': 879, 'Therefore': 880, 'These': 881, 'They': 882, 'Things': 883, 'Third': 884, 'Thirdly': 885, 'This': 886, 'Those': 887, 'Three': 888, 'Through': 889, 'Thursday': 890, 'Thursdays': 891, 'Thus': 892, 'Times': 893, 'To': 894, 'Today': 895, 'Tokens': 896, 'Tokyo': 897, 'Tong': 898, 'Tongdosa': 899, 'Topics': 900, 'Touch': 901, 'Trade': 902, 'Trust': 903, 'Truth': 904, 'Try': 905, 'Tuesday': 906, 'Turkish': 907, 'UI': 908, 'UN': 909, 'US': 910, 'USA': 911, 'USB': 912, 'USBs': 913, 'Ukraine': 914, 'Ulsan': 915, 'Ultimately': 916, 'Under': 917, 'Unfortunately': 918, 'United': 919, 'Universal': 920, 'University': 921, 'Unless': 922, 'Unlike': 923, 'Until': 924, 'Upon': 925, 'Users': 926, 'Using': 927, 'Usually': 928, 'VC': 929, 'VIP': 930, 'VPN': 931, 'VR': 932, 'VVIP': 933, 'Vacationing': 934, 'Various': 935, 'Vegetables': 936, 'Venezuela': 937, 'Very': 938, 'Vietnam': 939, 'View': 940, 'Virtual': 941, 'Visual': 942, 'Visualization': 943, 'WIFI': 944, 'WTO': 945, 'Wait': 946, 'Was': 947, 'We': 948, 'Webcasting': 949, 'Wednesday': 950, 'Welcome': 951, 'Well': 952, 'Were': 953, 'Weren': 954, 'What': 955, 'Whatever': 956, 'WhatsApp': 957, 'When': 958, 'Where': 959, 'Which': 960, 'While': 961, 'Who': 962, 'Whom': 963, 'Why': 964, 'Wi': 965, 'Will': 966, 'Wishing': 967, 'With': 968, 'Without': 969, 'Won': 970, 'Wonderful': 971, 'Wonju': 972, 'Would': 973, 'Wouldn': 974, 'Wow': 975, 'X': 976, 'Yeah': 977, 'Yebool': 978, 'Yellowknife': 979, 'Yes': 980, 'Yet': 981, 'York': 982, 'Yorkshire': 983, 'You': 984, 'Your': 985, 'Yukhoe': 986, 'Yup': 987, 'Zealand': 988, 'a': 989, 'abbreviation': 990, 'ability': 991, 'able': 992, 'about': 993, 'above': 994, 'abroad': 995, 'absent': 996, 'absolutely': 997, 'absorption': 998, 'academe': 999, 'academic': 1000, 'accelerate': 1001, 'accept': 1002, 'acceptable': 1003, 'acceptance': 1004, 'accepted': 1005, 'accepting': 1006, 'access': 1007, 'accessed': 1008, 'accessibility': 1009, 'accessible': 1010, 'accessing': 1011, 'accessories': 1012, 'accidental': 1013, 'accidentally': 1014, 'accidents': 1015, 'accommodate': 1016, 'accommodating': 1017, 'accommodation': 1018, 'accommodations': 1019, 'accomodating': 1020, 'accomplish': 1021, 'accomplished': 1022, 'accordance': 1023, 'according': 1024, 'accordingly': 1025, 'account': 1026, 'accountancy': 1027, 'accountant': 1028, 'accounted': 1029, 'accounting': 1030, 'accounts': 1031, 'accrual': 1032, 'accumulated': 1033, 'accuracy': 1034, 'accurate': 1035, 'accurately': 1036, 'achieve': 1037, 'achieved': 1038, 'achievement': 1039, 'achievements': 1040, 'achieving': 1041, 'acknowledge': 1042, 'acne': 1043, 'acoustic': 1044, 'acoustics': 1045, 'acquaint': 1046, 'acquire': 1047, 'acquired': 1048, 'acquiring': 1049, 'acquisition': 1050, 'across': 1051, 'act': 1052, 'action': 1053, 'actions': 1054, 'activate': 1055, 'activated': 1056, 'active': 1057, 'activities': 1058, 'activity': 1059, 'actors': 1060, 'actual': 1061, 'actualize': 1062, 'actually': 1063, 'acute': 1064, 'ad': 1065, 'adaptations': 1066, 'adapter': 1067, 'adaptive': 1068, 'adaptor': 1069, 'adaptors': 1070, 'add': 1071, 'added': 1072, 'addendum': 1073, 'adding': 1074, 'addition': 1075, 'additional': 1076, 'address': 1077, 'addressed': 1078, 'addresses': 1079, 'addressing': 1080, 'adequately': 1081, 'adhere': 1082, 'adhesive': 1083, 'adjust': 1084, 'adjustable': 1085, 'adjusted': 1086, 'adjustment': 1087, 'adjustments': 1088, 'administration': 1089, 'administrative': 1090, 'administrators': 1091, 'admission': 1092, 'adopt': 1093, 'ads': 1094, 'adult': 1095, 'adults': 1096, 'advance': 1097, 'advanced': 1098, 'advancement': 1099, 'advancing': 1100, 'advantage': 1101, 'advantageous': 1102, 'advantages': 1103, 'adventure': 1104, 'advertise': 1105, 'advertisement': 1106, 'advertisements': 1107, 'advertising': 1108, 'adverts': 1109, 'advice': 1110, 'advisable': 1111, 'advise': 1112, 'advised': 1113, 'advisers': 1114, 'advises': 1115, 'advisor': 1116, 'advisory': 1117, 'aesthetic': 1118, 'affairs': 1119, 'affect': 1120, 'affected': 1121, 'affecting': 1122, 'affects': 1123, 'affiliate': 1124, 'affiliated': 1125, 'affluent': 1126, 'afford': 1127, 'affordability': 1128, 'affordable': 1129, 'afloat': 1130, 'aforementioned': 1131, 'afraid': 1132, 'after': 1133, 'afternoon': 1134, 'afterward': 1135, 'again': 1136, 'against': 1137, 'age': 1138, 'aged': 1139, 'agencies': 1140, 'agency': 1141, 'agenda': 1142, 'agent': 1143, 'ages': 1144, 'ago': 1145, 'agree': 1146, 'agreed': 1147, 'agreeing': 1148, 'agreement': 1149, 'agrees': 1150, 'agricultural': 1151, 'agriculture': 1152, 'ahead': 1153, 'aid': 1154, 'aids': 1155, 'aim': 1156, 'aims': 1157, 'air': 1158, 'aircraft': 1159, 'airing': 1160, 'airlines': 1161, 'airport': 1162, 'airports': 1163, 'airtime': 1164, 'alarm': 1165, 'albeit': 1166, 'album': 1167, 'albums': 1168, 'alcohol': 1169, 'alcoholic': 1170, 'alert': 1171, 'algorithm': 1172, 'algorithms': 1173, 'aligned': 1174, 'alkaline': 1175, 'all': 1176, 'allegations': 1177, 'allergic': 1178, 'allergies': 1179, 'alliance': 1180, 'allocate': 1181, 'allocation': 1182, 'allocations': 1183, 'allow': 1184, 'allowed': 1185, 'allowing': 1186, 'allows': 1187, 'almost': 1188, 'alone': 1189, 'along': 1190, 'already': 1191, 'alright': 1192, 'also': 1193, 'alternative': 1194, 'alternatives': 1195, 'although': 1196, 'aluminum': 1197, 'always': 1198, 'am': 1199, 'amazing': 1200, 'ambassador': 1201, 'ambiance': 1202, 'ambulation': 1203, 'ambulatory': 1204, 'amend': 1205, 'amends': 1206, 'amenities': 1207, 'amenity': 1208, 'among': 1209, 'amongst': 1210, 'amount': 1211, 'amounted': 1212, 'amounts': 1213, 'amplifier': 1214, 'amplify': 1215, 'an': 1216, 'analysis': 1217, 'analytics': 1218, 'analyze': 1219, 'analyzing': 1220, 'anchor': 1221, 'ancient': 1222, 'and': 1223, 'android': 1224, 'angel': 1225, 'angle': 1226, 'angry': 1227, 'animal': 1228, 'animated': 1229, 'animations': 1230, 'animators': 1231, 'ankle': 1232, 'anniversary': 1233, 'announce': 1234, 'announcement': 1235, 'announcements': 1236, 'announcers': 1237, 'annual': 1238, 'annually': 1239, 'annum': 1240, 'another': 1241, 'answer': 1242, 'answered': 1243, 'answering': 1244, 'antenna': 1245, 'antivirus': 1246, 'any': 1247, 'anybody': 1248, 'anymore': 1249, 'anyone': 1250, 'anything': 1251, 'anytime': 1252, 'anyway': 1253, 'anywhere': 1254, 'apart': 1255, 'apartment': 1256, 'apartments': 1257, 'apologies': 1258, 'apologize': 1259, 'apology': 1260, 'app': 1261, 'apparent': 1262, 'appeal': 1263, 'appealing': 1264, 'appeals': 1265, 'appear': 1266, 'appearance': 1267, 'appeared': 1268, 'appears': 1269, 'appended': 1270, 'appetizer': 1271, 'apple': 1272, 'appliances': 1273, 'applicable': 1274, 'application': 1275, 'applications': 1276, 'applied': 1277, 'applies': 1278, 'apply': 1279, 'applying': 1280, 'appointment': 1281, 'appraisal': 1282, 'appreciate': 1283, 'appreciated': 1284, 'appreciating': 1285, 'appreciation': 1286, 'approach': 1287, 'approached': 1288, 'appropriate': 1289, 'appropriately': 1290, 'approval': 1291, 'approve': 1292, 'approved': 1293, 'approximately': 1294, 'apps': 1295, 'aprtner': 1296, 'architectural': 1297, 'architecture': 1298, 'archives': 1299, 'are': 1300, 'area': 1301, 'areas': 1302, 'aren': 1303, 'arena': 1304, 'arises': 1305, 'aromatherapy': 1306, 'around': 1307, 'arrange': 1308, 'arranged': 1309, 'arrangement': 1310, 'arrangements': 1311, 'arranger': 1312, 'arrangers': 1313, 'arranging': 1314, 'array': 1315, 'arrival': 1316, 'arrive': 1317, 'arrived': 1318, 'arriving': 1319, 'art': 1320, 'article': 1321, 'articles': 1322, 'artificial': 1323, 'artillery': 1324, 'artist': 1325, 'artists': 1326, 'arts': 1327, 'artwork': 1328, 'artworks': 1329, 'as': 1330, 'asap': 1331, 'ashamed': 1332, 'aside': 1333, 'ask': 1334, 'asked': 1335, 'asking': 1336, 'asks': 1337, 'asleep': 1338, 'asparagus': 1339, 'aspect': 1340, 'aspects': 1341, 'asphalt': 1342, 'assembly': 1343, 'assessing': 1344, 'assessment': 1345, 'asset': 1346, 'assets': 1347, 'assign': 1348, 'assigned': 1349, 'assist': 1350, 'assistance': 1351, 'assistant': 1352, 'assisting': 1353, 'assistive': 1354, 'associate': 1355, 'associated': 1356, 'associates': 1357, 'association': 1358, 'assumed': 1359, 'assuming': 1360, 'assurance': 1361, 'assure': 1362, 'assured': 1363, 'assures': 1364, 'assuring': 1365, 'at': 1366, 'ate': 1367, 'atmosphere': 1368, 'attach': 1369, 'attached': 1370, 'attack': 1371, 'attacks': 1372, 'attain': 1373, 'attains': 1374, 'attempted': 1375, 'attend': 1376, 'attendance': 1377, 'attended': 1378, 'attending': 1379, 'attention': 1380, 'attest': 1381, 'attorney': 1382, 'attract': 1383, 'attracted': 1384, 'attributes': 1385, 'attrition': 1386, 'audience': 1387, 'audiences': 1388, 'audio': 1389, 'audiovisual': 1390, 'audit': 1391, 'audited': 1392, 'auditing': 1393, 'authentic': 1394, 'author': 1395, 'authored': 1396, 'authorities': 1397, 'authority': 1398, 'authorization': 1399, 'authorized': 1400, 'authors': 1401, 'auto': 1402, 'autobiographies': 1403, 'autoclave': 1404, 'automate': 1405, 'automated': 1406, 'automatic': 1407, 'automatically': 1408, 'automation': 1409, 'automobile': 1410, 'automotive': 1411, 'autumn': 1412, 'auxiliary': 1413, 'avail': 1414, 'availability': 1415, 'available': 1416, 'availed': 1417, 'availing': 1418, 'avenue': 1419, 'average': 1420, 'avoid': 1421, 'await': 1422, 'awake': 1423, 'awarded': 1424, 'aware': 1425, 'awareness': 1426, 'away': 1427, 'awesome': 1428, 'ay': 1429, 'babies': 1430, 'baby': 1431, 'back': 1432, 'backdrops': 1433, 'backers': 1434, 'background': 1435, 'backgrounds': 1436, 'backhoe': 1437, 'backing': 1438, 'backlinks': 1439, 'backlog': 1440, 'backup': 1441, 'backward': 1442, 'backyard': 1443, 'bacteria': 1444, 'bad': 1445, 'baffling': 1446, 'baker': 1447, 'bakery': 1448, 'baking': 1449, 'balance': 1450, 'ball': 1451, 'ballpark': 1452, 'bamboo': 1453, 'ban': 1454, 'banana': 1455, 'banchan': 1456, 'band': 1457, 'bands': 1458, 'bandwidth': 1459, 'bank': 1460, 'banker': 1461, 'banking': 1462, 'bankruptcy': 1463, 'banks': 1464, 'banner': 1465, 'banners': 1466, 'banquet': 1467, 'bar': 1468, 'barbecue': 1469, 'barbeque': 1470, 'bare': 1471, 'barely': 1472, 'bargain': 1473, 'barrier': 1474, 'bars': 1475, 'base': 1476, 'based': 1477, 'basement': 1478, 'basic': 1479, 'basically': 1480, 'basics': 1481, 'basis': 1482, 'bass': 1483, 'batch': 1484, 'bath': 1485, 'bathhouses': 1486, 'bathroom': 1487, 'bathrooms': 1488, 'baths': 1489, 'bathtub': 1490, 'batteries': 1491, 'battery': 1492, 'battling': 1493, 'bay': 1494, 'be': 1495, 'beach': 1496, 'beaches': 1497, 'beachside': 1498, 'beakers': 1499, 'beam': 1500, 'bean': 1501, 'bear': 1502, 'bearer': 1503, 'bearing': 1504, 'beats': 1505, 'beautiful': 1506, 'beauty': 1507, 'became': 1508, 'because': 1509, 'become': 1510, 'becomes': 1511, 'becoming': 1512, 'bed': 1513, 'bedroom': 1514, 'bedrooms': 1515, 'beds': 1516, 'beef': 1517, 'been': 1518, 'beeps': 1519, 'beer': 1520, 'before': 1521, 'beforehand': 1522, 'beg': 1523, 'began': 1524, 'begging': 1525, 'begin': 1526, 'beginning': 1527, 'behalf': 1528, 'behavior': 1529, 'behind': 1530, 'being': 1531, 'believe': 1532, 'believes': 1533, 'belly': 1534, 'belongs': 1535, 'below': 1536, 'belts': 1537, 'benchtop': 1538, 'bending': 1539, 'beneficial': 1540, 'beneficiaries': 1541, 'benefit': 1542, 'benefits': 1543, 'bento': 1544, 'berthing': 1545, 'beside': 1546, 'besides': 1547, 'best': 1548, 'bet': 1549, 'beta': 1550, 'better': 1551, 'between': 1552, 'bevel': 1553, 'beverage': 1554, 'beverages': 1555, 'beyond': 1556, 'biannual': 1557, 'bibimbap': 1558, 'bibimnaengmyun': 1559, 'bid': 1560, 'bidding': 1561, 'big': 1562, 'bigger': 1563, 'biggest': 1564, 'bikes': 1565, 'bill': 1566, 'billboards': 1567, 'billed': 1568, 'billing': 1569, 'billion': 1570, 'bills': 1571, 'bins': 1572, 'biodata': 1573, 'biodegradable': 1574, 'biometrics': 1575, 'bird': 1576, 'birds': 1577, 'birthday': 1578, 'biryani': 1579, 'biscuits': 1580, 'bistro': 1581, 'bit': 1582, 'bitcoin': 1583, 'bite': 1584, 'black': 1585, 'blackout': 1586, 'blades': 1587, 'blanks': 1588, 'blending': 1589, 'blends': 1590, 'blessed': 1591, 'blind': 1592, 'blinking': 1593, 'bliss': 1594, 'block': 1595, 'blockchain': 1596, 'blog': 1597, 'blood': 1598, 'blow': 1599, 'blown': 1600, 'blue': 1601, 'blueprint': 1602, 'blurry': 1603, 'board': 1604, 'boarding': 1605, 'boards': 1606, 'boats': 1607, 'bodies': 1608, 'body': 1609, 'bodysuit': 1610, 'bohemian': 1611, 'boiled': 1612, 'boiling': 1613, 'bokkeum': 1614, 'bold': 1615, 'bolder': 1616, 'bond': 1617, 'bonding': 1618, 'bonds': 1619, 'book': 1620, 'booked': 1621, 'booking': 1622, 'bookings': 1623, 'bookrunners': 1624, 'books': 1625, 'bookstores': 1626, 'boom': 1627, 'boost': 1628, 'booting': 1629, 'boots': 1630, 'border': 1631, 'bore': 1632, 'bored': 1633, 'boring': 1634, 'born': 1635, 'borrow': 1636, 'borrower': 1637, 'borrowing': 1638, 'boss': 1639, 'bot': 1640, 'both': 1641, 'bothering': 1642, 'bottle': 1643, 'bottles': 1644, 'bottom': 1645, 'bought': 1646, 'bow': 1647, 'bowl': 1648, 'bowls': 1649, 'box': 1650, 'boxes': 1651, 'boy': 1652, 'bragging': 1653, 'braille': 1654, 'brainstorm': 1655, 'brake': 1656, 'branch': 1657, 'branches': 1658, 'brand': 1659, 'branded': 1660, 'branding': 1661, 'brands': 1662, 'brave': 1663, 'breach': 1664, 'breached': 1665, 'breaches': 1666, 'bread': 1667, 'break': 1668, 'breakdown': 1669, 'breakdowns': 1670, 'breakeven': 1671, 'breakfast': 1672, 'breast': 1673, 'breathing': 1674, 'breathtaking': 1675, 'breeding': 1676, 'breeze': 1677, 'brewed': 1678, 'bride': 1679, 'bridge': 1680, 'brief': 1681, 'briefing': 1682, 'brilliant': 1683, 'bring': 1684, 'bringer': 1685, 'bringing': 1686, 'brings': 1687, 'broadband': 1688, 'broadcast': 1689, 'broadcasted': 1690, 'broadcasting': 1691, 'brochure': 1692, 'brochures': 1693, 'broken': 1694, 'broker': 1695, 'brokerage': 1696, 'brokerages': 1697, 'brokers': 1698, 'bronze': 1699, 'broth': 1700, 'brother': 1701, 'brought': 1702, 'browse': 1703, 'browser': 1704, 'browsers': 1705, 'browsing': 1706, 'bubble': 1707, 'bucks': 1708, 'budget': 1709, 'buffet': 1710, 'bug': 1711, 'bugs': 1712, 'build': 1713, 'building': 1714, 'builds': 1715, 'built': 1716, 'bulgogi': 1717, 'bulk': 1718, 'bull': 1719, 'bulldozer': 1720, 'bunch': 1721, 'bundle': 1722, 'burners': 1723, 'bus': 1724, 'buses': 1725, 'business': 1726, 'businesses': 1727, 'businessman': 1728, 'businesswoman': 1729, 'busy': 1730, 'but': 1731, 'butterfly': 1732, 'button': 1733, 'buttons': 1734, 'buy': 1735, 'buyer': 1736, 'buyers': 1737, 'buying': 1738, 'by': 1739, 'bye': 1740, 'bytes': 1741, 'cabin': 1742, 'cabinets': 1743, 'cable': 1744, 'caching': 1745, 'caf': 1746, 'cafe': 1747, 'cafeteria': 1748, 'cake': 1749, 'calculate': 1750, 'calculated': 1751, 'calculations': 1752, 'calendar': 1753, 'call': 1754, 'called': 1755, 'calligraphy': 1756, 'calling': 1757, 'calls': 1758, 'calm': 1759, 'calming': 1760, 'cam': 1761, 'came': 1762, 'camera': 1763, 'cameras': 1764, 'camp': 1765, 'campaign': 1766, 'campaigns': 1767, 'camper': 1768, 'campfire': 1769, 'campground': 1770, 'camping': 1771, 'campsite': 1772, 'campsites': 1773, 'campus': 1774, 'can': 1775, 'cancel': 1776, 'cancelation': 1777, 'cancelations': 1778, 'canceled': 1779, 'canceling': 1780, 'cancellation': 1781, 'cancellations': 1782, 'cancelled': 1783, 'candies': 1784, 'candles': 1785, 'cannot': 1786, 'canteen': 1787, 'cap': 1788, 'capable': 1789, 'capacity': 1790, 'capital': 1791, 'capitalists': 1792, 'capture': 1793, 'capturing': 1794, 'car': 1795, 'carbon': 1796, 'carburetor': 1797, 'carburetors': 1798, 'card': 1799, 'cardiac': 1800, 'cards': 1801, 'care': 1802, 'career': 1803, 'careers': 1804, 'careful': 1805, 'carefully': 1806, 'cargo': 1807, 'carpeted': 1808, 'carried': 1809, 'carrier': 1810, 'carrot': 1811, 'carry': 1812, 'carrying': 1813, 'cars': 1814, 'cart': 1815, 'carton': 1816, 'cartoon': 1817, 'carts': 1818, 'case': 1819, 'cases': 1820, 'cash': 1821, 'cashier': 1822, 'cashless': 1823, 'casino': 1824, 'cast': 1825, 'casual': 1826, 'casualties': 1827, 'cat': 1828, 'catalog': 1829, 'catalogue': 1830, 'catastrophe': 1831, 'catch': 1832, 'categories': 1833, 'category': 1834, 'cater': 1835, 'caterers': 1836, 'catering': 1837, 'caterpillar': 1838, 'caught': 1839, 'cause': 1840, 'caused': 1841, 'causes': 1842, 'causing': 1843, 'cautious': 1844, 'cautiously': 1845, 'ceiling': 1846, 'ceilings': 1847, 'celebrate': 1848, 'celebration': 1849, 'celebrities': 1850, 'celebrity': 1851, 'celeriac': 1852, 'cell': 1853, 'center': 1854, 'centers': 1855, 'centimeter': 1856, 'centrifugal': 1857, 'centrifuge': 1858, 'centrifuges': 1859, 'cents': 1860, 'century': 1861, 'ceremonies': 1862, 'ceremony': 1863, 'certain': 1864, 'certainly': 1865, 'certificate': 1866, 'certificates': 1867, 'certification': 1868, 'certified': 1869, 'chain': 1870, 'chair': 1871, 'chairman': 1872, 'chairs': 1873, 'challenge': 1874, 'challenged': 1875, 'challenges': 1876, 'challenging': 1877, 'chamber': 1878, 'champagne': 1879, 'chance': 1880, 'chances': 1881, 'change': 1882, 'changed': 1883, 'changes': 1884, 'changing': 1885, 'channel': 1886, 'channels': 1887, 'chapbooks': 1888, 'characteristics': 1889, 'characters': 1890, 'charcoal': 1891, 'charge': 1892, 'charged': 1893, 'charger': 1894, 'charges': 1895, 'charging': 1896, 'charitable': 1897, 'charity': 1898, 'charm': 1899, 'chart': 1900, 'chasing': 1901, 'chat': 1902, 'chatroom': 1903, 'cheap': 1904, 'cheaper': 1905, 'cheapest': 1906, 'check': 1907, 'checked': 1908, 'checking': 1909, 'checklist': 1910, 'checkout': 1911, 'checks': 1912, 'checkup': 1913, 'cheerful': 1914, 'cheers': 1915, 'cheesecakes': 1916, 'chef': 1917, 'chefs': 1918, 'chemistry': 1919, 'cheque': 1920, 'chew': 1921, 'chicken': 1922, 'child': 1923, 'childhood': 1924, 'children': 1925, 'chili': 1926, 'chill': 1927, 'chilled': 1928, 'chimaek': 1929, 'chip': 1930, 'chips': 1931, 'chipsets': 1932, 'chitchat': 1933, 'chocolate': 1934, 'choice': 1935, 'choices': 1936, 'choose': 1937, 'choosing': 1938, 'chopstick': 1939, 'chopsticks': 1940, 'chores': 1941, 'chose': 1942, 'chosen': 1943, 'ciphertext': 1944, 'circuits': 1945, 'circulation': 1946, 'circumstance': 1947, 'circumstances': 1948, 'cities': 1949, 'citizen': 1950, 'citizens': 1951, 'citizenship': 1952, 'city': 1953, 'civil': 1954, 'claim': 1955, 'claiming': 1956, 'claims': 1957, 'clarify': 1958, 'clarifying': 1959, 'clarity': 1960, 'class': 1961, 'classes': 1962, 'classification': 1963, 'classmates': 1964, 'classroom': 1965, 'classrooms': 1966, 'clauses': 1967, 'clean': 1968, 'cleaner': 1969, 'cleaners': 1970, 'cleaning': 1971, 'cleansing': 1972, 'clear': 1973, 'clearance': 1974, 'cleared': 1975, 'clearer': 1976, 'clearly': 1977, 'clerk': 1978, 'clever': 1979, 'click': 1980, 'client': 1981, 'clientele': 1982, 'clients': 1983, 'climate': 1984, 'clinic': 1985, 'clinical': 1986, 'clip': 1987, 'clips': 1988, 'clock': 1989, 'clogged': 1990, 'close': 1991, 'closed': 1992, 'closely': 1993, 'closer': 1994, 'closes': 1995, 'closest': 1996, 'closet': 1997, 'closing': 1998, 'clothes': 1999, 'clothing': 2000, 'cloud': 2001, 'clouds': 2002, 'clubhouse': 2003, 'cluster': 2004, 'co': 2005, 'coach': 2006, 'coaches': 2007, 'coaching': 2008, 'coarrangers': 2009, 'coastal': 2010, 'cocks': 2011, 'cocktails': 2012, 'coconut': 2013, 'code': 2014, 'codebreaker': 2015, 'codes': 2016, 'coding': 2017, 'coffee': 2018, 'cogent': 2019, 'coins': 2020, 'cold': 2021, 'coliving': 2022, 'collaborate': 2023, 'collaborating': 2024, 'collaboration': 2025, 'collar': 2026, 'collateral': 2027, 'colleague': 2028, 'colleagues': 2029, 'collect': 2030, 'collectibles': 2031, 'collecting': 2032, 'collection': 2033, 'collective': 2034, 'collects': 2035, 'college': 2036, 'colleges': 2037, 'color': 2038, 'colored': 2039, 'colors': 2040, 'column': 2041, 'combination': 2042, 'combinations': 2043, 'combine': 2044, 'combustion': 2045, 'come': 2046, 'comes': 2047, 'comfort': 2048, 'comfortable': 2049, 'comfortably': 2050, 'coming': 2051, 'comm': 2052, 'commemorative': 2053, 'comment': 2054, 'comments': 2055, 'commerce': 2056, 'commercial': 2057, 'commission': 2058, 'commissioned': 2059, 'commissions': 2060, 'commit': 2061, 'commitment': 2062, 'commitments': 2063, 'committed': 2064, 'commodity': 2065, 'common': 2066, 'commonly': 2067, 'communal': 2068, 'communicate': 2069, 'communicated': 2070, 'communicating': 2071, 'communication': 2072, 'communications': 2073, 'communicative': 2074, 'communicator': 2075, 'communities': 2076, 'community': 2077, 'commuting': 2078, 'companies': 2079, 'company': 2080, 'compare': 2081, 'compared': 2082, 'comparison': 2083, 'compartments': 2084, 'compassionate': 2085, 'compatible': 2086, 'compelling': 2087, 'compensate': 2088, 'compensated': 2089, 'compensation': 2090, 'compete': 2091, 'competition': 2092, 'competitive': 2093, 'competitiveness': 2094, 'competitors': 2095, 'compiling': 2096, 'complain': 2097, 'complained': 2098, 'complaining': 2099, 'complaint': 2100, 'complaints': 2101, 'complete': 2102, 'completed': 2103, 'completely': 2104, 'completion': 2105, 'complex': 2106, 'compliance': 2107, 'complicated': 2108, 'complied': 2109, 'compliment': 2110, 'complimentary': 2111, 'compliments': 2112, 'comply': 2113, 'component': 2114, 'components': 2115, 'composed': 2116, 'composer': 2117, 'compound': 2118, 'comprehension': 2119, 'comprehensive': 2120, 'compressed': 2121, 'compression': 2122, 'compressor': 2123, 'compressors': 2124, 'compromise': 2125, 'compromising': 2126, 'computer': 2127, 'computers': 2128, 'computing': 2129, 'concentrate': 2130, 'concept': 2131, 'concepts': 2132, 'conceptual': 2133, 'concern': 2134, 'concerned': 2135, 'concerning': 2136, 'concerns': 2137, 'concert': 2138, 'concerts': 2139, 'concessions': 2140, 'conclusion': 2141, 'concrete': 2142, 'concretely': 2143, 'condenser': 2144, 'condiments': 2145, 'condition': 2146, 'conditioned': 2147, 'conditioner': 2148, 'conditioning': 2149, 'conditions': 2150, 'condo': 2151, 'conduct': 2152, 'conducted': 2153, 'conducting': 2154, 'conductors': 2155, 'conference': 2156, 'conferences': 2157, 'conferencing': 2158, 'confidence': 2159, 'confident': 2160, 'confidential': 2161, 'confidentiality': 2162, 'configurations': 2163, 'configure': 2164, 'confirm': 2165, 'confirmation': 2166, 'confirmed': 2167, 'confirming': 2168, 'confused': 2169, 'congested': 2170, 'congestion': 2171, 'congrats': 2172, 'congratulate': 2173, 'congratulations': 2174, 'connect': 2175, 'connected': 2176, 'connecting': 2177, 'connection': 2178, 'connections': 2179, 'connectivity': 2180, 'connects': 2181, 'cons': 2182, 'conscientious': 2183, 'conscious': 2184, 'consciousness': 2185, 'consequences': 2186, 'consider': 2187, 'considerable': 2188, 'consideration': 2189, 'considered': 2190, 'considering': 2191, 'consignment': 2192, 'consist': 2193, 'consistent': 2194, 'consists': 2195, 'consoles': 2196, 'consolidate': 2197, 'constant': 2198, 'constantly': 2199, 'construct': 2200, 'constructed': 2201, 'construction': 2202, 'constructive': 2203, 'consult': 2204, 'consultancy': 2205, 'consultant': 2206, 'consultants': 2207, 'consultation': 2208, 'consulted': 2209, 'consulting': 2210, 'consume': 2211, 'consumers': 2212, 'consuming': 2213, 'consumption': 2214, 'contact': 2215, 'contacted': 2216, 'contacting': 2217, 'contacts': 2218, 'contain': 2219, 'container': 2220, 'containers': 2221, 'containing': 2222, 'contains': 2223, 'contemplate': 2224, 'contemporary': 2225, 'contenders': 2226, 'content': 2227, 'contents': 2228, 'context': 2229, 'continent': 2230, 'continental': 2231, 'continue': 2232, 'continuous': 2233, 'continuously': 2234, 'contract': 2235, 'contracted': 2236, 'contracts': 2237, 'contrary': 2238, 'contribute': 2239, 'contributed': 2240, 'contributes': 2241, 'contribution': 2242, 'contributors': 2243, 'control': 2244, 'controlled': 2245, 'controversial': 2246, 'convenience': 2247, 'convenient': 2248, 'conventional': 2249, 'conversation': 2250, 'conversational': 2251, 'conversations': 2252, 'conversion': 2253, 'conversions': 2254, 'converted': 2255, 'converting': 2256, 'convey': 2257, 'conveyor': 2258, 'conveyors': 2259, 'convince': 2260, 'convincing': 2261, 'cook': 2262, 'cooked': 2263, 'cookies': 2264, 'cooking': 2265, 'cooks': 2266, 'cool': 2267, 'cooldown': 2268, 'coolers': 2269, 'cooling': 2270, 'cooperation': 2271, 'cooperative': 2272, 'cooperatives': 2273, 'coordinate': 2274, 'coordinates': 2275, 'copay': 2276, 'copiers': 2277, 'copies': 2278, 'copy': 2279, 'copyediting': 2280, 'copyright': 2281, 'copyrighted': 2282, 'copyrights': 2283, 'cords': 2284, 'core': 2285, 'corkage': 2286, 'corn': 2287, 'corner': 2288, 'coronavirus': 2289, 'corporate': 2290, 'corporation': 2291, 'corporations': 2292, 'correct': 2293, 'correctly': 2294, 'cosigner': 2295, 'cosmetic': 2296, 'cosmetics': 2297, 'cosmic': 2298, 'cost': 2299, 'costs': 2300, 'cotton': 2301, 'could': 2302, 'couldn': 2303, 'council': 2304, 'counseling': 2305, 'count': 2306, 'countdown': 2307, 'counterpart': 2308, 'counting': 2309, 'countries': 2310, 'country': 2311, 'countryside': 2312, 'couple': 2313, 'coupled': 2314, 'coupon': 2315, 'courier': 2316, 'course': 2317, 'coursed': 2318, 'courses': 2319, 'court': 2320, 'cousin': 2321, 'cover': 2322, 'coverage': 2323, 'covered': 2324, 'covers': 2325, 'cozy': 2326, 'crab': 2327, 'cracks': 2328, 'crane': 2329, 'cranes': 2330, 'crash': 2331, 'crashed': 2332, 'crashing': 2333, 'cream': 2334, 'create': 2335, 'created': 2336, 'creates': 2337, 'creating': 2338, 'creation': 2339, 'creative': 2340, 'creatives': 2341, 'creator': 2342, 'creators': 2343, 'credentials': 2344, 'credit': 2345, 'credited': 2346, 'creditor': 2347, 'creditors': 2348, 'credits': 2349, 'creditworthy': 2350, 'crib': 2351, 'crime': 2352, 'crimes': 2353, 'criminals': 2354, 'criteria': 2355, 'critical': 2356, 'critics': 2357, 'croissants': 2358, 'crooks': 2359, 'crop': 2360, 'crops': 2361, 'cross': 2362, 'crossed': 2363, 'crowd': 2364, 'crowdfunding': 2365, 'crucial': 2366, 'crude': 2367, 'crux': 2368, 'crypto': 2369, 'cryptocurrencies': 2370, 'cryptocurrency': 2371, 'cryptography': 2372, 'cues': 2373, 'cuisine': 2374, 'culinary': 2375, 'culprits': 2376, 'cultivating': 2377, 'cultural': 2378, 'culture': 2379, 'cumbersome': 2380, 'cup': 2381, 'curious': 2382, 'currencies': 2383, 'currency': 2384, 'current': 2385, 'currently': 2386, 'cursive': 2387, 'curtains': 2388, 'curve': 2389, 'cushion': 2390, 'custom': 2391, 'customer': 2392, 'customers': 2393, 'customizable': 2394, 'customization': 2395, 'customize': 2396, 'customized': 2397, 'customs': 2398, 'cut': 2399, 'cutlery': 2400, 'cuts': 2401, 'cutter': 2402, 'cutters': 2403, 'cutting': 2404, 'cyber': 2405, 'cybercrime': 2406, 'cybersecurity': 2407, 'cycle': 2408, 'cylinder': 2409, 'cylinders': 2410, 'd': 2411, 'daily': 2412, 'dairy': 2413, 'damage': 2414, 'damaged': 2415, 'damages': 2416, 'dancing': 2417, 'dangerous': 2418, 'dangers': 2419, 'dark': 2420, 'data': 2421, 'database': 2422, 'date': 2423, 'dated': 2424, 'dates': 2425, 'dating': 2426, 'daunting': 2427, 'day': 2428, 'days': 2429, 'deadline': 2430, 'deadlines': 2431, 'deaf': 2432, 'deal': 2433, 'dealer': 2434, 'dealers': 2435, 'dealership': 2436, 'dealing': 2437, 'deals': 2438, 'debit': 2439, 'debt': 2440, 'debtee': 2441, 'debtor': 2442, 'debtors': 2443, 'debts': 2444, 'debut': 2445, 'decade': 2446, 'decades': 2447, 'decent': 2448, 'decide': 2449, 'decided': 2450, 'decides': 2451, 'deciding': 2452, 'decision': 2453, 'decisions': 2454, 'deck': 2455, 'decks': 2456, 'declare': 2457, 'decline': 2458, 'declined': 2459, 'declining': 2460, 'decode': 2461, 'decorate': 2462, 'decorations': 2463, 'decrease': 2464, 'decryption': 2465, 'dedicate': 2466, 'dedicated': 2467, 'deduct': 2468, 'deducted': 2469, 'deducting': 2470, 'deeds': 2471, 'deep': 2472, 'deeply': 2473, 'default': 2474, 'defaulter': 2475, 'defect': 2476, 'defective': 2477, 'defects': 2478, 'defense': 2479, 'deficit': 2480, 'deficits': 2481, 'defined': 2482, 'definite': 2483, 'definitely': 2484, 'definition': 2485, 'degree': 2486, 'dehydration': 2487, 'delay': 2488, 'delayed': 2489, 'delays': 2490, 'delegates': 2491, 'delete': 2492, 'deleted': 2493, 'delicious': 2494, 'delight': 2495, 'delighted': 2496, 'delightful': 2497, 'delineates': 2498, 'deliver': 2499, 'delivered': 2500, 'deliveries': 2501, 'delivering': 2502, 'delivers': 2503, 'delivery': 2504, 'deluxe': 2505, 'demand': 2506, 'demanded': 2507, 'demanding': 2508, 'demands': 2509, 'demat': 2510, 'demerits': 2511, 'demographics': 2512, 'demonstration': 2513, 'demos': 2514, 'dental': 2515, 'deny': 2516, 'department': 2517, 'departments': 2518, 'depend': 2519, 'dependable': 2520, 'dependents': 2521, 'depending': 2522, 'depends': 2523, 'deploy': 2524, 'deployment': 2525, 'deposit': 2526, 'deposited': 2527, 'depositing': 2528, 'deposits': 2529, 'derrick': 2530, 'describe': 2531, 'description': 2532, 'descriptions': 2533, 'deserve': 2534, 'design': 2535, 'designation': 2536, 'designed': 2537, 'designer': 2538, 'designers': 2539, 'designs': 2540, 'desire': 2541, 'desired': 2542, 'desk': 2543, 'desktop': 2544, 'desperately': 2545, 'despite': 2546, 'dessert': 2547, 'desserts': 2548, 'destination': 2549, 'destinations': 2550, 'destroys': 2551, 'detail': 2552, 'detailed': 2553, 'detailing': 2554, 'details': 2555, 'detected': 2556, 'detects': 2557, 'determine': 2558, 'determined': 2559, 'determines': 2560, 'determining': 2561, 'develop': 2562, 'developed': 2563, 'developer': 2564, 'developers': 2565, 'developing': 2566, 'development': 2567, 'developments': 2568, 'develops': 2569, 'deviate': 2570, 'device': 2571, 'devices': 2572, 'devoted': 2573, 'devoting': 2574, 'diagnosis': 2575, 'diagnostics': 2576, 'dial': 2577, 'dialed': 2578, 'diameter': 2579, 'did': 2580, 'didn': 2581, 'diesel': 2582, 'diet': 2583, 'dietary': 2584, 'differ': 2585, 'difference': 2586, 'differences': 2587, 'different': 2588, 'differentiates': 2589, 'differently': 2590, 'difficult': 2591, 'difficulties': 2592, 'difficulty': 2593, 'digital': 2594, 'digitalize': 2595, 'digits': 2596, 'diligence': 2597, 'diligently': 2598, 'dimension': 2599, 'dimensions': 2600, 'dine': 2601, 'dining': 2602, 'dinner': 2603, 'dinning': 2604, 'dip': 2605, 'diplomas': 2606, 'dipped': 2607, 'direct': 2608, 'directed': 2609, 'direction': 2610, 'directly': 2611, 'director': 2612, 'directors': 2613, 'disabilities': 2614, 'disabled': 2615, 'disagree': 2616, 'disappointed': 2617, 'disappointment': 2618, 'disaster': 2619, 'disasters': 2620, 'disc': 2621, 'discount': 2622, 'discounted': 2623, 'discounts': 2624, 'discover': 2625, 'discovered': 2626, 'discovery': 2627, 'discrepancies': 2628, 'discuss': 2629, 'discussed': 2630, 'discussing': 2631, 'discussion': 2632, 'discussions': 2633, 'disease': 2634, 'diseases': 2635, 'dish': 2636, 'dishe': 2637, 'dishes': 2638, 'dismantle': 2639, 'dispatch': 2640, 'dispatched': 2641, 'dispatching': 2642, 'dispersing': 2643, 'display': 2644, 'displayed': 2645, 'displaying': 2646, 'disposal': 2647, 'disputes': 2648, 'disruption': 2649, 'distance': 2650, 'distinct': 2651, 'distinction': 2652, 'distinguish': 2653, 'distract': 2654, 'distress': 2655, 'distribute': 2656, 'distributed': 2657, 'distributing': 2658, 'distribution': 2659, 'distributor': 2660, 'distributorship': 2661, 'district': 2662, 'disturb': 2663, 'disturbed': 2664, 'disturbing': 2665, 'diverse': 2666, 'diversify': 2667, 'diversity': 2668, 'diverting': 2669, 'divide': 2670, 'divided': 2671, 'dividend': 2672, 'division': 2673, 'do': 2674, 'doable': 2675, 'doctor': 2676, 'doctors': 2677, 'document': 2678, 'documentaries': 2679, 'documentary': 2680, 'documentation': 2681, 'documenting': 2682, 'documents': 2683, 'does': 2684, 'doesn': 2685, 'dog': 2686, 'dogs': 2687, 'doing': 2688, 'doings': 2689, 'doljanchi': 2690, 'dollar': 2691, 'dollars': 2692, 'domain': 2693, 'dome': 2694, 'domestic': 2695, 'don': 2696, 'donate': 2697, 'donation': 2698, 'donations': 2699, 'done': 2700, 'donut': 2701, 'door': 2702, 'doors': 2703, 'dorm': 2704, 'dormitory': 2705, 'dosirak': 2706, 'double': 2707, 'doubled': 2708, 'doubt': 2709, 'doubts': 2710, 'down': 2711, 'downhill': 2712, 'download': 2713, 'downloaded': 2714, 'downpayment': 2715, 'downs': 2716, 'downside': 2717, 'downtown': 2718, 'downturn': 2719, 'dozers': 2720, 'draft': 2721, 'drafted': 2722, 'drafting': 2723, 'drafts': 2724, 'drain': 2725, 'dramas': 2726, 'dramatically': 2727, 'draw': 2728, 'drawer': 2729, 'drawing': 2730, 'drawings': 2731, 'draws': 2732, 'dress': 2733, 'dressers': 2734, 'dressing': 2735, 'drilling': 2736, 'drink': 2737, 'drinking': 2738, 'drinks': 2739, 'drive': 2740, 'driven': 2741, 'driver': 2742, 'drivers': 2743, 'driving': 2744, 'drop': 2745, 'dropped': 2746, 'dropping': 2747, 'drops': 2748, 'drug': 2749, 'drum': 2750, 'dry': 2751, 'dryer': 2752, 'dual': 2753, 'dude': 2754, 'due': 2755, 'duly': 2756, 'dump': 2757, 'dumpling': 2758, 'duplicate': 2759, 'durable': 2760, 'duration': 2761, 'during': 2762, 'dust': 2763, 'duties': 2764, 'duty': 2765, 'dyeing': 2766, 'dying': 2767, 'e': 2768, 'each': 2769, 'eager': 2770, 'eagerly': 2771, 'earlier': 2772, 'earliest': 2773, 'early': 2774, 'earn': 2775, 'earnings': 2776, 'ears': 2777, 'earth': 2778, 'ease': 2779, 'eased': 2780, 'easier': 2781, 'easiest': 2782, 'easily': 2783, 'easing': 2784, 'easy': 2785, 'eat': 2786, 'eaten': 2787, 'eating': 2788, 'echo': 2789, 'eclectic': 2790, 'eco': 2791, 'economy': 2792, 'ecstatic': 2793, 'edge': 2794, 'edit': 2795, 'edited': 2796, 'editing': 2797, 'edition': 2798, 'editorial': 2799, 'editors': 2800, 'educate': 2801, 'educated': 2802, 'educating': 2803, 'education': 2804, 'educational': 2805, 'edutainment': 2806, 'effect': 2807, 'effective': 2808, 'effectively': 2809, 'effectiveness': 2810, 'effects': 2811, 'efficiency': 2812, 'efficient': 2813, 'efficiently': 2814, 'effort': 2815, 'efforts': 2816, 'egg': 2817, 'eggs': 2818, 'eight': 2819, 'either': 2820, 'ejection': 2821, 'elaborate': 2822, 'elder': 2823, 'elders': 2824, 'eldest': 2825, 'electric': 2826, 'electrical': 2827, 'electricity': 2828, 'electro': 2829, 'electroencephalography': 2830, 'electromagnetic': 2831, 'electronic': 2832, 'electronically': 2833, 'electronics': 2834, 'elegant': 2835, 'element': 2836, 'elements': 2837, 'elevated': 2838, 'eligibility': 2839, 'eligible': 2840, 'eliminate': 2841, 'elliptical': 2842, 'else': 2843, 'elsewhere': 2844, 'email': 2845, 'emailed': 2846, 'emailing': 2847, 'emails': 2848, 'embarrassed': 2849, 'embody': 2850, 'embossing': 2851, 'embroidery': 2852, 'emergencies': 2853, 'emergency': 2854, 'emerging': 2855, 'emotions': 2856, 'emphasis': 2857, 'employ': 2858, 'employed': 2859, 'employee': 2860, 'employees': 2861, 'employers': 2862, 'employing': 2863, 'empty': 2864, 'emulsion': 2865, 'enable': 2866, 'enabled': 2867, 'enables': 2868, 'encapsulation': 2869, 'encoded': 2870, 'encounter': 2871, 'encountered': 2872, 'encourage': 2873, 'encourages': 2874, 'encrypt': 2875, 'encrypted': 2876, 'encryption': 2877, 'end': 2878, 'endangering': 2879, 'ended': 2880, 'ending': 2881, 'ends': 2882, 'energy': 2883, 'enforce': 2884, 'enforced': 2885, 'enforcements': 2886, 'engage': 2887, 'engaged': 2888, 'engagements': 2889, 'engaging': 2890, 'engine': 2891, 'engineer': 2892, 'engineering': 2893, 'engineers': 2894, 'engines': 2895, 'enhance': 2896, 'enhanced': 2897, 'enhancement': 2898, 'enhances': 2899, 'enjoy': 2900, 'enjoyed': 2901, 'enjoying': 2902, 'enlighten': 2903, 'enlist': 2904, 'enormously': 2905, 'enough': 2906, 'enquire': 2907, 'enroll': 2908, 'enrolled': 2909, 'ensure': 2910, 'ensured': 2911, 'ensures': 2912, 'entail': 2913, 'enter': 2914, 'entered': 2915, 'entering': 2916, 'enterprise': 2917, 'enterprises': 2918, 'enters': 2919, 'entertain': 2920, 'entertained': 2921, 'entertaining': 2922, 'entertainment': 2923, 'entire': 2924, 'entirely': 2925, 'entitled': 2926, 'entity': 2927, 'entrance': 2928, 'entree': 2929, 'entrees': 2930, 'entrepreneur': 2931, 'entrepreneurship': 2932, 'entries': 2933, 'environment': 2934, 'environmental': 2935, 'environments': 2936, 'episode': 2937, 'episodes': 2938, 'equal': 2939, 'equals': 2940, 'equipment': 2941, 'equipments': 2942, 'equipped': 2943, 'equity': 2944, 'equivalent': 2945, 'erased': 2946, 'erecting': 2947, 'error': 2948, 'errors': 2949, 'escalated': 2950, 'escaping': 2951, 'especially': 2952, 'essential': 2953, 'essentially': 2954, 'establish': 2955, 'established': 2956, 'establishing': 2957, 'establishment': 2958, 'establishments': 2959, 'estate': 2960, 'estimate': 2961, 'estimated': 2962, 'estimates': 2963, 'etc': 2964, 'ethical': 2965, 'etiquette': 2966, 'evacuation': 2967, 'evading': 2968, 'evaluate': 2969, 'evaluated': 2970, 'evaluating': 2971, 'evaluation': 2972, 'evaporator': 2973, 'evasion': 2974, 'even': 2975, 'evening': 2976, 'event': 2977, 'events': 2978, 'eventuality': 2979, 'eventually': 2980, 'ever': 2981, 'every': 2982, 'everyday': 2983, 'everyone': 2984, 'everything': 2985, 'evidence': 2986, 'evidentiary': 2987, 'evil': 2988, 'evolution': 2989, 'evolved': 2990, 'evolving': 2991, 'exact': 2992, 'exactly': 2993, 'exam': 2994, 'examined': 2995, 'example': 2996, 'examples': 2997, 'exams': 2998, 'excavator': 2999, 'excavators': 3000, 'exceeded': 3001, 'exceeds': 3002, 'excellent': 3003, 'except': 3004, 'exceptional': 3005, 'excess': 3006, 'exchange': 3007, 'exchanges': 3008, 'exchanging': 3009, 'excited': 3010, 'exciting': 3011, 'exclude': 3012, 'excluding': 3013, 'exclusive': 3014, 'exclusively': 3015, 'excuse': 3016, 'excused': 3017, 'excuses': 3018, 'execute': 3019, 'executes': 3020, 'execution': 3021, 'executive': 3022, 'executives': 3023, 'executor': 3024, 'exerting': 3025, 'exhausted': 3026, 'exhibit': 3027, 'exhibition': 3028, 'exihibit': 3029, 'exist': 3030, 'existing': 3031, 'exit': 3032, 'exotic': 3033, 'expand': 3034, 'expandable': 3035, 'expanded': 3036, 'expanding': 3037, 'expansion': 3038, 'expat': 3039, 'expect': 3040, 'expectations': 3041, 'expected': 3042, 'expecting': 3043, 'expedition': 3044, 'expenditure': 3045, 'expenditures': 3046, 'expense': 3047, 'expenses': 3048, 'expensive': 3049, 'experience': 3050, 'experienced': 3051, 'experiences': 3052, 'experiencing': 3053, 'experimental': 3054, 'expert': 3055, 'expertise': 3056, 'experts': 3057, 'expire': 3058, 'expires': 3059, 'explain': 3060, 'explained': 3061, 'explaining': 3062, 'explains': 3063, 'explanation': 3064, 'explanations': 3065, 'exploration': 3066, 'explore': 3067, 'expo': 3068, 'export': 3069, 'exported': 3070, 'exporter': 3071, 'exporting': 3072, 'exports': 3073, 'exposes': 3074, 'exposure': 3075, 'express': 3076, 'expressions': 3077, 'exquisite': 3078, 'extend': 3079, 'extended': 3080, 'extender': 3081, 'extenders': 3082, 'extending': 3083, 'extends': 3084, 'extension': 3085, 'extensive': 3086, 'exterior': 3087, 'external': 3088, 'externally': 3089, 'extra': 3090, 'extract': 3091, 'extraction': 3092, 'extracts': 3093, 'extremely': 3094, 'extruder': 3095, 'extruders': 3096, 'eye': 3097, 'eyes': 3098, 'fabric': 3099, 'fabrication': 3100, 'face': 3101, 'faced': 3102, 'faces': 3103, 'facial': 3104, 'facilitate': 3105, 'facilities': 3106, 'facility': 3107, 'facing': 3108, 'fact': 3109, 'factor': 3110, 'factors': 3111, 'factory': 3112, 'factual': 3113, 'factually': 3114, 'faculty': 3115, 'fail': 3116, 'failed': 3117, 'fails': 3118, 'failure': 3119, 'fair': 3120, 'fairly': 3121, 'fall': 3122, 'fallen': 3123, 'falling': 3124, 'fallout': 3125, 'falls': 3126, 'familiar': 3127, 'families': 3128, 'family': 3129, 'famous': 3130, 'fan': 3131, 'fanbase': 3132, 'fancy': 3133, 'fans': 3134, 'fantastic': 3135, 'far': 3136, 'fare': 3137, 'farm': 3138, 'farmers': 3139, 'farthest': 3140, 'fascinating': 3141, 'fashion': 3142, 'fast': 3143, 'fasteners': 3144, 'faster': 3145, 'fastest': 3146, 'fat': 3147, 'father': 3148, 'fault': 3149, 'faulty': 3150, 'favor': 3151, 'favorable': 3152, 'favorite': 3153, 'favorites': 3154, 'favoritism': 3155, 'fax': 3156, 'fear': 3157, 'feasibility': 3158, 'feasible': 3159, 'feature': 3160, 'featured': 3161, 'features': 3162, 'featuring': 3163, 'fee': 3164, 'feeble': 3165, 'feedback': 3166, 'feel': 3167, 'feeling': 3168, 'feelings': 3169, 'feels': 3170, 'fees': 3171, 'feet': 3172, 'fellow': 3173, 'female': 3174, 'fertilizing': 3175, 'fetch': 3176, 'few': 3177, 'fiat': 3178, 'fiber': 3179, 'fibers': 3180, 'fibrous': 3181, 'fiction': 3182, 'field': 3183, 'fields': 3184, 'figurative': 3185, 'figures': 3186, 'file': 3187, 'filed': 3188, 'files': 3189, 'filing': 3190, 'fill': 3191, 'filled': 3192, 'filling': 3193, 'fills': 3194, 'film': 3195, 'films': 3196, 'filter': 3197, 'filtered': 3198, 'filters': 3199, 'filtration': 3200, 'final': 3201, 'finalize': 3202, 'finalized': 3203, 'finalizing': 3204, 'finally': 3205, 'finance': 3206, 'financed': 3207, 'financer': 3208, 'finances': 3209, 'financial': 3210, 'financially': 3211, 'financiers': 3212, 'financing': 3213, 'find': 3214, 'finding': 3215, 'finds': 3216, 'fine': 3217, 'finer': 3218, 'finest': 3219, 'fingerprint': 3220, 'finish': 3221, 'finished': 3222, 'fire': 3223, 'fired': 3224, 'fireplace': 3225, 'firewall': 3226, 'firewalls': 3227, 'firm': 3228, 'firms': 3229, 'first': 3230, 'fish': 3231, 'fit': 3232, 'fitness': 3233, 'fits': 3234, 'five': 3235, 'fiver': 3236, 'fix': 3237, 'fixed': 3238, 'flag': 3239, 'flame': 3240, 'flanged': 3241, 'flare': 3242, 'flash': 3243, 'flat': 3244, 'flatmates': 3245, 'flatten': 3246, 'flavor': 3247, 'flavored': 3248, 'flavorful': 3249, 'flavors': 3250, 'flew': 3251, 'flexibility': 3252, 'flexible': 3253, 'flight': 3254, 'flights': 3255, 'flip': 3256, 'float': 3257, 'floating': 3258, 'floor': 3259, 'floors': 3260, 'flour': 3261, 'flowchart': 3262, 'flows': 3263, 'fluctuate': 3264, 'fluctuations': 3265, 'fly': 3266, 'flying': 3267, 'flywheel': 3268, 'fo': 3269, 'foam': 3270, 'focus': 3271, 'focused': 3272, 'focuses': 3273, 'focusing': 3274, 'fold': 3275, 'folder': 3276, 'folders': 3277, 'follow': 3278, 'followed': 3279, 'followers': 3280, 'following': 3281, 'follows': 3282, 'font': 3283, 'fonts': 3284, 'food': 3285, 'foods': 3286, 'fooled': 3287, 'foot': 3288, 'footage': 3289, 'footprint': 3290, 'footsteps': 3291, 'for': 3292, 'forbidden': 3293, 'forced': 3294, 'forecast': 3295, 'forecasted': 3296, 'foreign': 3297, 'foreigner': 3298, 'foreigners': 3299, 'forever': 3300, 'forget': 3301, 'forgot': 3302, 'forklift': 3303, 'forklifts': 3304, 'form': 3305, 'formal': 3306, 'formalities': 3307, 'format': 3308, 'former': 3309, 'forms': 3310, 'formula': 3311, 'forths': 3312, 'fortunate': 3313, 'forward': 3314, 'forwarded': 3315, 'forwarder': 3316, 'found': 3317, 'foundation': 3318, 'founders': 3319, 'four': 3320, 'frame': 3321, 'frames': 3322, 'framework': 3323, 'franchise': 3324, 'fraud': 3325, 'fraudulent': 3326, 'free': 3327, 'freebie': 3328, 'freelancer': 3329, 'freight': 3330, 'frequency': 3331, 'frequent': 3332, 'frequently': 3333, 'fresh': 3334, 'freshwater': 3335, 'fried': 3336, 'friend': 3337, 'friendly': 3338, 'friends': 3339, 'from': 3340, 'front': 3341, 'frugal': 3342, 'fruit': 3343, 'fruitful': 3344, 'fruity': 3345, 'frustrating': 3346, 'fuel': 3347, 'fulfill': 3348, 'fulfilled': 3349, 'fulfilling': 3350, 'full': 3351, 'fully': 3352, 'fun': 3353, 'function': 3354, 'functional': 3355, 'functioning': 3356, 'functions': 3357, 'fund': 3358, 'fundamental': 3359, 'fundamentals': 3360, 'funded': 3361, 'funding': 3362, 'fundraisers': 3363, 'fundraising': 3364, 'funds': 3365, 'fungible': 3366, 'funny': 3367, 'furnish': 3368, 'furnished': 3369, 'furnishings': 3370, 'furniture': 3371, 'further': 3372, 'fusion': 3373, 'fuss': 3374, 'future': 3375, 'futures': 3376, 'futuristic': 3377, 'g': 3378, 'gadgets': 3379, 'gain': 3380, 'gained': 3381, 'gaining': 3382, 'gains': 3383, 'galbi': 3384, 'game': 3385, 'games': 3386, 'gaming': 3387, 'gap': 3388, 'gaps': 3389, 'garage': 3390, 'garden': 3391, 'gardening': 3392, 'gardens': 3393, 'garlic': 3394, 'garments': 3395, 'garnering': 3396, 'gas': 3397, 'gasoline': 3398, 'gate': 3399, 'gates': 3400, 'gather': 3401, 'gathered': 3402, 'gathering': 3403, 'gathers': 3404, 'gauge': 3405, 'gave': 3406, 'gazebo': 3407, 'gear': 3408, 'geared': 3409, 'gears': 3410, 'general': 3411, 'generally': 3412, 'generate': 3413, 'generated': 3414, 'generating': 3415, 'generation': 3416, 'generations': 3417, 'generic': 3418, 'generous': 3419, 'genre': 3420, 'genres': 3421, 'gentle': 3422, 'gentlemen': 3423, 'genuinely': 3424, 'geographic': 3425, 'geography': 3426, 'gesture': 3427, 'get': 3428, 'gets': 3429, 'getting': 3430, 'gift': 3431, 'gifts': 3432, 'gigabyte': 3433, 'gigabytes': 3434, 'gimbap': 3435, 'ginger': 3436, 'ginseng': 3437, 'girl': 3438, 'girls': 3439, 'give': 3440, 'giveaways': 3441, 'given': 3442, 'gives': 3443, 'giving': 3444, 'glad': 3445, 'gladly': 3446, 'glance': 3447, 'glass': 3448, 'glasses': 3449, 'glitch': 3450, 'global': 3451, 'globally': 3452, 'globe': 3453, 'glossy': 3454, 'gloves': 3455, 'gluten': 3456, 'go': 3457, 'goal': 3458, 'goals': 3459, 'goes': 3460, 'going': 3461, 'gold': 3462, 'golf': 3463, 'gone': 3464, 'gonna': 3465, 'good': 3466, 'goodbye': 3467, 'goods': 3468, 'goodwill': 3469, 'gorgeous': 3470, 'got': 3471, 'gotten': 3472, 'governance': 3473, 'government': 3474, 'grab': 3475, 'grace': 3476, 'grade': 3477, 'gradual': 3478, 'gradually': 3479, 'graduates': 3480, 'grain': 3481, 'grains': 3482, 'grammable': 3483, 'grand': 3484, 'grandkids': 3485, 'grandmother': 3486, 'grant': 3487, 'granted': 3488, 'granting': 3489, 'graph': 3490, 'graphic': 3491, 'graphics': 3492, 'grass': 3493, 'grateful': 3494, 'gravity': 3495, 'gravlax': 3496, 'great': 3497, 'greater': 3498, 'greatly': 3499, 'green': 3500, 'greens': 3501, 'greet': 3502, 'greeting': 3503, 'greetings': 3504, 'grew': 3505, 'grid': 3506, 'grill': 3507, 'grilled': 3508, 'grills': 3509, 'grinder': 3510, 'gripping': 3511, 'groom': 3512, 'ground': 3513, 'groundbreaking': 3514, 'grounds': 3515, 'group': 3516, 'groups': 3517, 'grow': 3518, 'growing': 3519, 'growth': 3520, 'guarantee': 3521, 'guaranteed': 3522, 'guarantor': 3523, 'guess': 3524, 'guest': 3525, 'guesthouses': 3526, 'guests': 3527, 'guidance': 3528, 'guide': 3529, 'guided': 3530, 'guides': 3531, 'guilty': 3532, 'guitar': 3533, 'gun': 3534, 'gunfire': 3535, 'gut': 3536, 'guy': 3537, 'guys': 3538, 'gym': 3539, 'gyms': 3540, 'hack': 3541, 'hacked': 3542, 'hacking': 3543, 'had': 3544, 'hairdryer': 3545, 'half': 3546, 'hall': 3547, 'halls': 3548, 'halting': 3549, 'hand': 3550, 'handed': 3551, 'handheld': 3552, 'handiwork': 3553, 'handle': 3554, 'handled': 3555, 'handles': 3556, 'handling': 3557, 'handouts': 3558, 'handpicked': 3559, 'hands': 3560, 'handshake': 3561, 'hanging': 3562, 'hanji': 3563, 'hanok': 3564, 'happen': 3565, 'happened': 3566, 'happening': 3567, 'happens': 3568, 'happily': 3569, 'happy': 3570, 'hard': 3571, 'harder': 3572, 'hardware': 3573, 'hardworking': 3574, 'harmful': 3575, 'harmony': 3576, 'harshest': 3577, 'harvesting': 3578, 'has': 3579, 'hasn': 3580, 'hassle': 3581, 'hat': 3582, 'hate': 3583, 'have': 3584, 'haven': 3585, 'having': 3586, 'he': 3587, 'head': 3588, 'headhunters': 3589, 'heading': 3590, 'headquarters': 3591, 'heads': 3592, 'health': 3593, 'healthy': 3594, 'hear': 3595, 'heard': 3596, 'hearing': 3597, 'hearsay': 3598, 'heart': 3599, 'heartily': 3600, 'heat': 3601, 'heated': 3602, 'heater': 3603, 'heating': 3604, 'heavier': 3605, 'heavily': 3606, 'heavy': 3607, 'hedge': 3608, 'height': 3609, 'held': 3610, 'hello': 3611, 'help': 3612, 'helped': 3613, 'helpful': 3614, 'helping': 3615, 'helps': 3616, 'hence': 3617, 'her': 3618, 'herbal': 3619, 'here': 3620, 'hereditary': 3621, 'heritage': 3622, 'hesitate': 3623, 'hidden': 3624, 'high': 3625, 'higher': 3626, 'highest': 3627, 'highlighted': 3628, 'highlights': 3629, 'highly': 3630, 'hijacking': 3631, 'hiking': 3632, 'hill': 3633, 'him': 3634, 'hint': 3635, 'hire': 3636, 'hired': 3637, 'hiring': 3638, 'his': 3639, 'historical': 3640, 'historically': 3641, 'hit': 3642, 'hitch': 3643, 'hits': 3644, 'hoarding': 3645, 'hobby': 3646, 'hoc': 3647, 'hold': 3648, 'holder': 3649, 'holding': 3650, 'holds': 3651, 'holidays': 3652, 'home': 3653, 'homemade': 3654, 'homes': 3655, 'homestays': 3656, 'honed': 3657, 'honest': 3658, 'honestly': 3659, 'honey': 3660, 'honored': 3661, 'hope': 3662, 'hoped': 3663, 'hopefully': 3664, 'hoping': 3665, 'horizontal': 3666, 'horrible': 3667, 'horsepower': 3668, 'horsepowers': 3669, 'hospital': 3670, 'hospitalization': 3671, 'hospitals': 3672, 'host': 3673, 'hosting': 3674, 'hosts': 3675, 'hot': 3676, 'hotel': 3677, 'hotels': 3678, 'hotspot': 3679, 'hour': 3680, 'hourly': 3681, 'hours': 3682, 'house': 3683, 'household': 3684, 'households': 3685, 'houses': 3686, 'housing': 3687, 'housings': 3688, 'how': 3689, 'however': 3690, 'hub': 3691, 'huddle': 3692, 'hues': 3693, 'huge': 3694, 'hull': 3695, 'human': 3696, 'humble': 3697, 'humor': 3698, 'hundred': 3699, 'hungry': 3700, 'hunt': 3701, 'hurry': 3702, 'hurt': 3703, 'husband': 3704, 'hustle': 3705, 'hwajeon': 3706, 'hydraulic': 3707, 'hydraulics': 3708, 'hydrojet': 3709, 'hype': 3710, 'ibul': 3711, 'ice': 3712, 'icons': 3713, 'idea': 3714, 'ideal': 3715, 'ideas': 3716, 'identical': 3717, 'identification': 3718, 'identified': 3719, 'identify': 3720, 'identities': 3721, 'identity': 3722, 'idols': 3723, 'if': 3724, 'ignition': 3725, 'ignorance': 3726, 'ignore': 3727, 'ignored': 3728, 'illness': 3729, 'illnesses': 3730, 'illustration': 3731, 'illustrations': 3732, 'image': 3733, 'images': 3734, 'imaginative': 3735, 'imagine': 3736, 'imaging': 3737, 'immediate': 3738, 'immediately': 3739, 'immensely': 3740, 'immigrant': 3741, 'immunity': 3742, 'immutable': 3743, 'impact': 3744, 'impart': 3745, 'impeller': 3746, 'impending': 3747, 'implantation': 3748, 'implement': 3749, 'implementation': 3750, 'implementing': 3751, 'implements': 3752, 'implied': 3753, 'implies': 3754, 'import': 3755, 'importance': 3756, 'important': 3757, 'importantly': 3758, 'imported': 3759, 'imports': 3760, 'imposed': 3761, 'imposes': 3762, 'impossible': 3763, 'impress': 3764, 'impressed': 3765, 'impression': 3766, 'impressions': 3767, 'impressive': 3768, 'improve': 3769, 'improved': 3770, 'improvement': 3771, 'improvements': 3772, 'improving': 3773, 'in': 3774, 'inbox': 3775, 'incentives': 3776, 'inch': 3777, 'incident': 3778, 'include': 3779, 'included': 3780, 'includes': 3781, 'including': 3782, 'inclusion': 3783, 'inclusions': 3784, 'inclusive': 3785, 'income': 3786, 'incompatible': 3787, 'incomplete': 3788, 'inconvenience': 3789, 'inconvenient': 3790, 'incorporate': 3791, 'incorporating': 3792, 'incorporation': 3793, 'incorrect': 3794, 'increase': 3795, 'increased': 3796, 'increasing': 3797, 'incredible': 3798, 'incredibly': 3799, 'incubator': 3800, 'incubators': 3801, 'incur': 3802, 'incurred': 3803, 'incurring': 3804, 'indeed': 3805, 'independently': 3806, 'index': 3807, 'indexation': 3808, 'indicate': 3809, 'indicated': 3810, 'indicating': 3811, 'indicator': 3812, 'indicators': 3813, 'indices': 3814, 'individual': 3815, 'individually': 3816, 'individuals': 3817, 'indoor': 3818, 'indoors': 3819, 'indulge': 3820, 'industrial': 3821, 'industries': 3822, 'industry': 3823, 'inevitable': 3824, 'infections': 3825, 'infectious': 3826, 'inferior': 3827, 'inflation': 3828, 'influence': 3829, 'influenced': 3830, 'influencer': 3831, 'influencers': 3832, 'info': 3833, 'infographic': 3834, 'infographics': 3835, 'inform': 3836, 'informal': 3837, 'information': 3838, 'informed': 3839, 'informing': 3840, 'infrastructure': 3841, 'infringed': 3842, 'infringement': 3843, 'ingredients': 3844, 'inheritance': 3845, 'initial': 3846, 'initially': 3847, 'initiate': 3848, 'initiative': 3849, 'injection': 3850, 'injunction': 3851, 'injury': 3852, 'inner': 3853, 'innovation': 3854, 'innovations': 3855, 'innovative': 3856, 'input': 3857, 'inputs': 3858, 'inquire': 3859, 'inquired': 3860, 'inquiries': 3861, 'inquiring': 3862, 'inquiry': 3863, 'ins': 3864, 'inside': 3865, 'insight': 3866, 'insist': 3867, 'inspect': 3868, 'inspected': 3869, 'inspecting': 3870, 'inspection': 3871, 'inspections': 3872, 'inspire': 3873, 'inspired': 3874, 'install': 3875, 'installation': 3876, 'installed': 3877, 'installing': 3878, 'installment': 3879, 'installments': 3880, 'instance': 3881, 'instant': 3882, 'instead': 3883, 'institute': 3884, 'institution': 3885, 'instruction': 3886, 'instructions': 3887, 'instrument': 3888, 'instruments': 3889, 'insulation': 3890, 'insult': 3891, 'insurance': 3892, 'insurances': 3893, 'insure': 3894, 'insured': 3895, 'insuring': 3896, 'insurmountable': 3897, 'integrated': 3898, 'integration': 3899, 'integrations': 3900, 'intellectual': 3901, 'intelligence': 3902, 'intelligent': 3903, 'intend': 3904, 'intended': 3905, 'intends': 3906, 'intense': 3907, 'intensity': 3908, 'intent': 3909, 'intention': 3910, 'interact': 3911, 'interactions': 3912, 'interactive': 3913, 'intercept': 3914, 'interest': 3915, 'interested': 3916, 'interesting': 3917, 'interface': 3918, 'interior': 3919, 'interiors': 3920, 'intermediaries': 3921, 'intermediary': 3922, 'intern': 3923, 'internal': 3924, 'internally': 3925, 'international': 3926, 'internationally': 3927, 'internet': 3928, 'interns': 3929, 'interpretation': 3930, 'interpreter': 3931, 'interpreting': 3932, 'interrupt': 3933, 'interrupted': 3934, 'interview': 3935, 'interviews': 3936, 'into': 3937, 'intrigue': 3938, 'intriguing': 3939, 'introduce': 3940, 'introduced': 3941, 'introducing': 3942, 'introduction': 3943, 'intrusion': 3944, 'invaluable': 3945, 'inventory': 3946, 'invest': 3947, 'invested': 3948, 'investigate': 3949, 'investigating': 3950, 'investigation': 3951, 'investing': 3952, 'investment': 3953, 'investments': 3954, 'investor': 3955, 'investors': 3956, 'invitation': 3957, 'invite': 3958, 'invited': 3959, 'invites': 3960, 'inviting': 3961, 'invoice': 3962, 'invoices': 3963, 'involve': 3964, 'involved': 3965, 'involves': 3966, 'involving': 3967, 'iron': 3968, 'irregular': 3969, 'is': 3970, 'isn': 3971, 'issuance': 3972, 'issue': 3973, 'issued': 3974, 'issues': 3975, 'issuing': 3976, 'it': 3977, 'item': 3978, 'items': 3979, 'its': 3980, 'itself': 3981, 'jacuzzi': 3982, 'japchae': 3983, 'jeeps': 3984, 'jeon': 3985, 'jet': 3986, 'jingle': 3987, 'job': 3988, 'jobs': 3989, 'join': 3990, 'joining': 3991, 'joint': 3992, 'jokbal': 3993, 'joke': 3994, 'journalists': 3995, 'journey': 3996, 'juice': 3997, 'junction': 3998, 'just': 3999, 'kanji': 4000, 'karaoke': 4001, 'keen': 4002, 'keep': 4003, 'keeping': 4004, 'keeps': 4005, 'kept': 4006, 'key': 4007, 'keyboard': 4008, 'keyboards': 4009, 'keys': 4010, 'keywords': 4011, 'kicks': 4012, 'kids': 4013, 'kilograms': 4014, 'kilometers': 4015, 'kilowatts': 4016, 'kimchi': 4017, 'kind': 4018, 'kindly': 4019, 'kindness': 4020, 'kinds': 4021, 'king': 4022, 'kiosk': 4023, 'kit': 4024, 'kitchen': 4025, 'kitchens': 4026, 'kits': 4027, 'knew': 4028, 'knife': 4029, 'knitting': 4030, 'knocked': 4031, 'know': 4032, 'knowing': 4033, 'knowledge': 4034, 'knowledgeable': 4035, 'known': 4036, 'knows': 4037, 'l': 4038, 'label': 4039, 'labels': 4040, 'labor': 4041, 'laboratories': 4042, 'laboratory': 4043, 'lack': 4044, 'lacking': 4045, 'ladies': 4046, 'lag': 4047, 'laid': 4048, 'lamination': 4049, 'land': 4050, 'landed': 4051, 'landline': 4052, 'landlord': 4053, 'landowner': 4054, 'lands': 4055, 'language': 4056, 'languages': 4057, 'laptop': 4058, 'large': 4059, 'largely': 4060, 'larger': 4061, 'largest': 4062, 'last': 4063, 'lasting': 4064, 'lasts': 4065, 'late': 4066, 'lately': 4067, 'latency': 4068, 'later': 4069, 'latest': 4070, 'launch': 4071, 'launched': 4072, 'launching': 4073, 'laundering': 4074, 'laundry': 4075, 'lavalier': 4076, 'law': 4077, 'laws': 4078, 'lawsuit': 4079, 'lawyer': 4080, 'lawyers': 4081, 'laxative': 4082, 'lay': 4083, 'layers': 4084, 'layout': 4085, 'lazy': 4086, 'lead': 4087, 'leaders': 4088, 'leading': 4089, 'leaf': 4090, 'leaks': 4091, 'leaning': 4092, 'learn': 4093, 'learned': 4094, 'learning': 4095, 'least': 4096, 'leave': 4097, 'leaves': 4098, 'lecture': 4099, 'led': 4100, 'left': 4101, 'legal': 4102, 'legally': 4103, 'legitimate': 4104, 'lenders': 4105, 'length': 4106, 'lengthy': 4107, 'lens': 4108, 'lentil': 4109, 'less': 4110, 'lesser': 4111, 'lessons': 4112, 'let': 4113, 'lets': 4114, 'letter': 4115, 'letters': 4116, 'letting': 4117, 'lettuce': 4118, 'level': 4119, 'levelers': 4120, 'levels': 4121, 'leverage': 4122, 'liabilities': 4123, 'liability': 4124, 'liable': 4125, 'liaison': 4126, 'library': 4127, 'license': 4128, 'licensed': 4129, 'licenses': 4130, 'lie': 4131, 'life': 4132, 'lifeguards': 4133, 'lifelong': 4134, 'lifestyle': 4135, 'lift': 4136, 'light': 4137, 'lightning': 4138, 'lights': 4139, 'lightweight': 4140, 'like': 4141, 'liked': 4142, 'likely': 4143, 'likes': 4144, 'limit': 4145, 'limitations': 4146, 'limited': 4147, 'limits': 4148, 'line': 4149, 'lines': 4150, 'lining': 4151, 'link': 4152, 'linked': 4153, 'links': 4154, 'liquid': 4155, 'liquidating': 4156, 'liquors': 4157, 'list': 4158, 'listed': 4159, 'listen': 4160, 'listener': 4161, 'listeners': 4162, 'listening': 4163, 'listing': 4164, 'listings': 4165, 'lists': 4166, 'literature': 4167, 'little': 4168, 'live': 4169, 'lived': 4170, 'lively': 4171, 'liver': 4172, 'lives': 4173, 'living': 4174, 'll': 4175, 'load': 4176, 'loaded': 4177, 'loader': 4178, 'loaders': 4179, 'loading': 4180, 'loan': 4181, 'loans': 4182, 'lobby': 4183, 'local': 4184, 'locales': 4185, 'locality': 4186, 'localization': 4187, 'localized': 4188, 'locally': 4189, 'locals': 4190, 'located': 4191, 'location': 4192, 'locations': 4193, 'lock': 4194, 'lockdown': 4195, 'lockdowns': 4196, 'lodge': 4197, 'lodging': 4198, 'lodgings': 4199, 'log': 4200, 'logged': 4201, 'logging': 4202, 'login': 4203, 'logistics': 4204, 'logo': 4205, 'logos': 4206, 'logs': 4207, 'long': 4208, 'longer': 4209, 'look': 4210, 'looked': 4211, 'looking': 4212, 'looks': 4213, 'loose': 4214, 'lose': 4215, 'loss': 4216, 'losses': 4217, 'lost': 4218, 'lot': 4219, 'lots': 4220, 'loud': 4221, 'lounge': 4222, 'love': 4223, 'loved': 4224, 'lovely': 4225, 'loving': 4226, 'low': 4227, 'lower': 4228, 'lowered': 4229, 'lowest': 4230, 'loyal': 4231, 'luck': 4232, 'luckily': 4233, 'lucky': 4234, 'lucrative': 4235, 'luggage': 4236, 'lunch': 4237, 'luxurious': 4238, 'luxury': 4239, 'm': 4240, 'ma': 4241, 'machine': 4242, 'machinery': 4243, 'machines': 4244, 'mackerels': 4245, 'macro': 4246, 'madam': 4247, 'made': 4248, 'magazine': 4249, 'magazines': 4250, 'magical': 4251, 'mail': 4252, 'main': 4253, 'mainly': 4254, 'mains': 4255, 'maintain': 4256, 'maintained': 4257, 'maintaining': 4258, 'maintenance': 4259, 'major': 4260, 'majority': 4261, 'make': 4262, 'maker': 4263, 'makers': 4264, 'makes': 4265, 'makeup': 4266, 'makgeolli': 4267, 'making': 4268, 'mall': 4269, 'malware': 4270, 'manage': 4271, 'manageable': 4272, 'managed': 4273, 'management': 4274, 'manager': 4275, 'managers': 4276, 'manages': 4277, 'managing': 4278, 'mandatory': 4279, 'mandu': 4280, 'manned': 4281, 'manner': 4282, 'manners': 4283, 'manual': 4284, 'manually': 4285, 'manufacture': 4286, 'manufactured': 4287, 'manufacturer': 4288, 'manufacturers': 4289, 'manufactures': 4290, 'manufacturing': 4291, 'manuscript': 4292, 'many': 4293, 'marinated': 4294, 'marinates': 4295, 'market': 4296, 'marketer': 4297, 'marketing': 4298, 'markets': 4299, 'married': 4300, 'mascots': 4301, 'mask': 4302, 'mass': 4303, 'massage': 4304, 'massages': 4305, 'masseuse': 4306, 'massive': 4307, 'master': 4308, 'mat': 4309, 'match': 4310, 'material': 4311, 'materialistic': 4312, 'materials': 4313, 'maternity': 4314, 'mathematics': 4315, 'mats': 4316, 'matte': 4317, 'matter': 4318, 'matters': 4319, 'mattress': 4320, 'maturing': 4321, 'maximize': 4322, 'maximum': 4323, 'may': 4324, 'maybe': 4325, 'me': 4326, 'meal': 4327, 'meals': 4328, 'mean': 4329, 'meaning': 4330, 'meaningful': 4331, 'meaningless': 4332, 'means': 4333, 'meant': 4334, 'meantime': 4335, 'measure': 4336, 'measures': 4337, 'measuring': 4338, 'meat': 4339, 'mechanic': 4340, 'mechanical': 4341, 'mechanism': 4342, 'media': 4343, 'mediator': 4344, 'medical': 4345, 'medicine': 4346, 'meditation': 4347, 'medium': 4348, 'meet': 4349, 'meeting': 4350, 'meetings': 4351, 'megabits': 4352, 'megabytes': 4353, 'megapixel': 4354, 'megapixels': 4355, 'melon': 4356, 'melt': 4357, 'member': 4358, 'members': 4359, 'membership': 4360, 'memorandum': 4361, 'memories': 4362, 'memory': 4363, 'men': 4364, 'mending': 4365, 'mental': 4366, 'mention': 4367, 'mentioned': 4368, 'mentioning': 4369, 'menu': 4370, 'menus': 4371, 'merch': 4372, 'merchant': 4373, 'merged': 4374, 'message': 4375, 'messages': 4376, 'messaging': 4377, 'messy': 4378, 'met': 4379, 'meta': 4380, 'metal': 4381, 'metallurgical': 4382, 'metals': 4383, 'meters': 4384, 'method': 4385, 'methods': 4386, 'meticulously': 4387, 'microlenders': 4388, 'microphone': 4389, 'microphones': 4390, 'microscopes': 4391, 'microwave': 4392, 'middle': 4393, 'midst': 4394, 'might': 4395, 'mild': 4396, 'milestone': 4397, 'milk': 4398, 'millennials': 4399, 'millimeters': 4400, 'million': 4401, 'millions': 4402, 'mind': 4403, 'minded': 4404, 'mine': 4405, 'miner': 4406, 'mini': 4407, 'minibar': 4408, 'minimal': 4409, 'minimalism': 4410, 'minimum': 4411, 'ministry': 4412, 'minor': 4413, 'minute': 4414, 'minuted': 4415, 'minutes': 4416, 'miscarriage': 4417, 'miscommunication': 4418, 'mishap': 4419, 'mismanagement': 4420, 'mismatch': 4421, 'misplaced': 4422, 'miss': 4423, 'missed': 4424, 'missiles': 4425, 'missing': 4426, 'mission': 4427, 'mistake': 4428, 'mistakenly': 4429, 'mistakes': 4430, 'misunderstanding': 4431, 'misuse': 4432, 'misuses': 4433, 'mitigate': 4434, 'mix': 4435, 'mixer': 4436, 'mixing': 4437, 'mm': 4438, 'mmHg': 4439, 'mobile': 4440, 'mobiles': 4441, 'mock': 4442, 'mocks': 4443, 'modality': 4444, 'mode': 4445, 'model': 4446, 'models': 4447, 'modem': 4448, 'modems': 4449, 'moderately': 4450, 'modern': 4451, 'modes': 4452, 'modifications': 4453, 'modified': 4454, 'modify': 4455, 'modifying': 4456, 'modular': 4457, 'module': 4458, 'mold': 4459, 'molding': 4460, 'moldings': 4461, 'moment': 4462, 'momentary': 4463, 'moments': 4464, 'monastery': 4465, 'monastic': 4466, 'monetary': 4467, 'monetizing': 4468, 'money': 4469, 'monitor': 4470, 'monitoring': 4471, 'monitors': 4472, 'monk': 4473, 'monks': 4474, 'monsoon': 4475, 'month': 4476, 'monthly': 4477, 'months': 4478, 'mood': 4479, 'more': 4480, 'morning': 4481, 'mortar': 4482, 'mortgage': 4483, 'mosquitos': 4484, 'most': 4485, 'mostly': 4486, 'motels': 4487, 'mother': 4488, 'motif': 4489, 'motions': 4490, 'motivate': 4491, 'motivation': 4492, 'motor': 4493, 'motorboats': 4494, 'motors': 4495, 'mountain': 4496, 'mountains': 4497, 'mouse': 4498, 'mouses': 4499, 'mouth': 4500, 'move': 4501, 'moved': 4502, 'movement': 4503, 'movers': 4504, 'movie': 4505, 'movies': 4506, 'moving': 4507, 'much': 4508, 'mud': 4509, 'mukbang': 4510, 'multi': 4511, 'multidisciplinary': 4512, 'multinational': 4513, 'multiplatform': 4514, 'multiple': 4515, 'multiplying': 4516, 'multipurpose': 4517, 'museum': 4518, 'music': 4519, 'musical': 4520, 'musky': 4521, 'must': 4522, 'mutual': 4523, 'my': 4524, 'myself': 4525, 'mysterious': 4526, 'naira': 4527, 'name': 4528, 'names': 4529, 'napkin': 4530, 'napping': 4531, 'narratives': 4532, 'narrow': 4533, 'nation': 4534, 'national': 4535, 'nationals': 4536, 'nations': 4537, 'native': 4538, 'natural': 4539, 'nature': 4540, 'navigation': 4541, 'near': 4542, 'nearby': 4543, 'nearest': 4544, 'neat': 4545, 'nebulizers': 4546, 'necessary': 4547, 'need': 4548, 'needed': 4549, 'needing': 4550, 'needs': 4551, 'negative': 4552, 'negatively': 4553, 'neglect': 4554, 'negotiable': 4555, 'negotiate': 4556, 'neighbors': 4557, 'neotraditional': 4558, 'nephew': 4559, 'nervous': 4560, 'net': 4561, 'network': 4562, 'networking': 4563, 'networks': 4564, 'never': 4565, 'new': 4566, 'newbie': 4567, 'newborn': 4568, 'newest': 4569, 'newly': 4570, 'news': 4571, 'newsletters': 4572, 'newspaper': 4573, 'next': 4574, 'nice': 4575, 'niche': 4576, 'night': 4577, 'nightclub': 4578, 'nights': 4579, 'nighttime': 4580, 'nine': 4581, 'ninety': 4582, 'no': 4583, 'noble': 4584, 'nobody': 4585, 'nodular': 4586, 'non': 4587, 'nondelivery': 4588, 'none': 4589, 'nonfiction': 4590, 'nonfungible': 4591, 'nonpayments': 4592, 'nonprofits': 4593, 'nonsense': 4594, 'nonspicy': 4595, 'noodle': 4596, 'noodles': 4597, 'noon': 4598, 'norm': 4599, 'normal': 4600, 'normally': 4601, 'northern': 4602, 'nose': 4603, 'nostalgia': 4604, 'not': 4605, 'notch': 4606, 'note': 4607, 'notebook': 4608, 'noted': 4609, 'notes': 4610, 'nothing': 4611, 'notice': 4612, 'noticed': 4613, 'notices': 4614, 'notification': 4615, 'notified': 4616, 'notify': 4617, 'notifying': 4618, 'novel': 4619, 'novels': 4620, 'now': 4621, 'nowadays': 4622, 'number': 4623, 'numbers': 4624, 'numerous': 4625, 'nurse': 4626, 'nutritional': 4627, 'nutty': 4628, 'nylon': 4629, 'o': 4630, 'object': 4631, 'objection': 4632, 'objections': 4633, 'objective': 4634, 'obligation': 4635, 'obligations': 4636, 'oblige': 4637, 'observations': 4638, 'observing': 4639, 'obstacles': 4640, 'obtain': 4641, 'obtaining': 4642, 'obviously': 4643, 'occasion': 4644, 'occupation': 4645, 'occupied': 4646, 'occupy': 4647, 'occur': 4648, 'occurrence': 4649, 'occurs': 4650, 'ocean': 4651, 'of': 4652, 'off': 4653, 'offend': 4654, 'offer': 4655, 'offered': 4656, 'offering': 4657, 'offerings': 4658, 'offers': 4659, 'office': 4660, 'officer': 4661, 'officers': 4662, 'offices': 4663, 'official': 4664, 'officially': 4665, 'offline': 4666, 'offshore': 4667, 'often': 4668, 'oh': 4669, 'oil': 4670, 'oils': 4671, 'okay': 4672, 'old': 4673, 'older': 4674, 'oldest': 4675, 'on': 4676, 'once': 4677, 'ondol': 4678, 'one': 4679, 'ones': 4680, 'ongoing': 4681, 'onions': 4682, 'online': 4683, 'only': 4684, 'onto': 4685, 'onwards': 4686, 'open': 4687, 'opened': 4688, 'opening': 4689, 'openly': 4690, 'opens': 4691, 'operate': 4692, 'operated': 4693, 'operating': 4694, 'operation': 4695, 'operational': 4696, 'operations': 4697, 'operative': 4698, 'operator': 4699, 'operators': 4700, 'opinion': 4701, 'opinions': 4702, 'opportunities': 4703, 'opportunity': 4704, 'opt': 4705, 'optimal': 4706, 'optimization': 4707, 'optimize': 4708, 'optimized': 4709, 'optimizer': 4710, 'option': 4711, 'optional': 4712, 'options': 4713, 'optometry': 4714, 'or': 4715, 'orange': 4716, 'order': 4717, 'ordered': 4718, 'ordering': 4719, 'orderly': 4720, 'orders': 4721, 'ordinary': 4722, 'ore': 4723, 'organic': 4724, 'organization': 4725, 'organizational': 4726, 'organizations': 4727, 'organize': 4728, 'organizing': 4729, 'orientation': 4730, 'oriented': 4731, 'original': 4732, 'originally': 4733, 'origins': 4734, 'other': 4735, 'others': 4736, 'ought': 4737, 'ounce': 4738, 'our': 4739, 'ours': 4740, 'ourselves': 4741, 'out': 4742, 'outbreak': 4743, 'outcome': 4744, 'outdated': 4745, 'outdoor': 4746, 'outdoors': 4747, 'outgoing': 4748, 'outings': 4749, 'outlets': 4750, 'outnumber': 4751, 'output': 4752, 'outputs': 4753, 'outreach': 4754, 'outright': 4755, 'outside': 4756, 'outsiders': 4757, 'outsmart': 4758, 'outsource': 4759, 'outstanding': 4760, 'oven': 4761, 'ovens': 4762, 'over': 4763, 'overall': 4764, 'overcharge': 4765, 'overcharged': 4766, 'overdue': 4767, 'overflow': 4768, 'overhang': 4769, 'overheads': 4770, 'overlook': 4771, 'overlooked': 4772, 'overnight': 4773, 'overpriced': 4774, 'overseas': 4775, 'oversees': 4776, 'overstated': 4777, 'overview': 4778, 'overwhelmed': 4779, 'owe': 4780, 'owing': 4781, 'own': 4782, 'owner': 4783, 'owners': 4784, 'ownership': 4785, 'owning': 4786, 'oxblood': 4787, 'p': 4788, 'pace': 4789, 'pacemaker': 4790, 'pack': 4791, 'package': 4792, 'packaged': 4793, 'packages': 4794, 'packaging': 4795, 'packed': 4796, 'packers': 4797, 'packing': 4798, 'packs': 4799, 'page': 4800, 'pages': 4801, 'pagodas': 4802, 'paid': 4803, 'pains': 4804, 'painted': 4805, 'painter': 4806, 'painters': 4807, 'painting': 4808, 'paintings': 4809, 'pair': 4810, 'pairs': 4811, 'pajamas': 4812, 'palaces': 4813, 'palate': 4814, 'palates': 4815, 'palette': 4816, 'palettes': 4817, 'palm': 4818, 'pals': 4819, 'pamphlet': 4820, 'pan': 4821, 'pancakes': 4822, 'pandemic': 4823, 'panel': 4824, 'panels': 4825, 'pans': 4826, 'pantry': 4827, 'papaya': 4828, 'paper': 4829, 'papers': 4830, 'paperwork': 4831, 'par': 4832, 'parcel': 4833, 'parents': 4834, 'park': 4835, 'parking': 4836, 'part': 4837, 'partake': 4838, 'partial': 4839, 'partially': 4840, 'participant': 4841, 'participants': 4842, 'participate': 4843, 'participating': 4844, 'particular': 4845, 'particularly': 4846, 'parties': 4847, 'partner': 4848, 'partnering': 4849, 'partners': 4850, 'partnership': 4851, 'parts': 4852, 'party': 4853, 'pass': 4854, 'passed': 4855, 'passing': 4856, 'passion': 4857, 'passive': 4858, 'passport': 4859, 'passports': 4860, 'password': 4861, 'past': 4862, 'pasta': 4863, 'paste': 4864, 'patch': 4865, 'patches': 4866, 'patent': 4867, 'patents': 4868, 'path': 4869, 'patience': 4870, 'patient': 4871, 'patients': 4872, 'patronage': 4873, 'patronize': 4874, 'patrons': 4875, 'pattern': 4876, 'patterns': 4877, 'paving': 4878, 'pay': 4879, 'payable': 4880, 'paying': 4881, 'payment': 4882, 'payments': 4883, 'payroll': 4884, 'pays': 4885, 'payslip': 4886, 'pdf': 4887, 'peace': 4888, 'peak': 4889, 'pencil': 4890, 'pending': 4891, 'pension': 4892, 'people': 4893, 'per': 4894, 'percent': 4895, 'percentage': 4896, 'perfect': 4897, 'perform': 4898, 'performance': 4899, 'performed': 4900, 'performing': 4901, 'perhaps': 4902, 'perilla': 4903, 'period': 4904, 'permanent': 4905, 'permanently': 4906, 'permission': 4907, 'permit': 4908, 'permitted': 4909, 'persistent': 4910, 'person': 4911, 'personal': 4912, 'personality': 4913, 'personalized': 4914, 'personally': 4915, 'personnel': 4916, 'persons': 4917, 'persuade': 4918, 'pertinent': 4919, 'perusal': 4920, 'pesky': 4921, 'pet': 4922, 'petition': 4923, 'petrol': 4924, 'pets': 4925, 'phase': 4926, 'phases': 4927, 'phenomena': 4928, 'philosophy': 4929, 'phone': 4930, 'phones': 4931, 'phoning': 4932, 'photo': 4933, 'photobooks': 4934, 'photocopier': 4935, 'photographer': 4936, 'photographers': 4937, 'photographs': 4938, 'photography': 4939, 'photos': 4940, 'physical': 4941, 'physically': 4942, 'piano': 4943, 'pick': 4944, 'picked': 4945, 'picking': 4946, 'picture': 4947, 'pictures': 4948, 'pie': 4949, 'piece': 4950, 'pieces': 4951, 'pier': 4952, 'piling': 4953, 'pillars': 4954, 'pills': 4955, 'pin': 4956, 'pink': 4957, 'pioneers': 4958, 'pipe': 4959, 'pipeline': 4960, 'pipelines': 4961, 'pipes': 4962, 'piqued': 4963, 'piques': 4964, 'piston': 4965, 'pitch': 4966, 'pitching': 4967, 'pity': 4968, 'pixels': 4969, 'place': 4970, 'placed': 4971, 'placement': 4972, 'placements': 4973, 'places': 4974, 'placing': 4975, 'plagiarized': 4976, 'plain': 4977, 'plan': 4978, 'plane': 4979, 'planned': 4980, 'planning': 4981, 'plans': 4982, 'plant': 4983, 'planting': 4984, 'plants': 4985, 'plastic': 4986, 'plastics': 4987, 'plate': 4988, 'plates': 4989, 'platform': 4990, 'platforms': 4991, 'platinum': 4992, 'platters': 4993, 'play': 4994, 'played': 4995, 'player': 4996, 'players': 4997, 'playground': 4998, 'playing': 4999, 'plays': 5000, 'plaza': 5001, 'pleasant': 5002, 'please': 5003, 'pleased': 5004, 'pleasure': 5005, 'plotter': 5006, 'plowing': 5007, 'plug': 5008, 'plugins': 5009, 'plus': 5010, 'pm': 5011, 'pneumatic': 5012, 'pocket': 5013, 'pockets': 5014, 'podcast': 5015, 'podcasts': 5016, 'point': 5017, 'pointing': 5018, 'points': 5019, 'policies': 5020, 'policy': 5021, 'policyholders': 5022, 'policymakers': 5023, 'polite': 5024, 'political': 5025, 'politicians': 5026, 'polystyrene': 5027, 'polyurethane': 5028, 'pool': 5029, 'pools': 5030, 'poor': 5031, 'pop': 5032, 'popular': 5033, 'popularity': 5034, 'population': 5035, 'poring': 5036, 'pork': 5037, 'porridge': 5038, 'port': 5039, 'portal': 5040, 'portals': 5041, 'portfolio': 5042, 'portfolios': 5043, 'portion': 5044, 'portraits': 5045, 'ports': 5046, 'posh': 5047, 'position': 5048, 'positioning': 5049, 'positions': 5050, 'positive': 5051, 'positives': 5052, 'possess': 5053, 'possibility': 5054, 'possible': 5055, 'possibly': 5056, 'post': 5057, 'postal': 5058, 'posted': 5059, 'poster': 5060, 'posters': 5061, 'posting': 5062, 'postings': 5063, 'postpaid': 5064, 'posts': 5065, 'potato': 5066, 'potential': 5067, 'pots': 5068, 'power': 5069, 'powered': 5070, 'practically': 5071, 'practice': 5072, 'practices': 5073, 'praised': 5074, 'praises': 5075, 'pray': 5076, 'prays': 5077, 'precise': 5078, 'precisely': 5079, 'precision': 5080, 'predict': 5081, 'predictable': 5082, 'prediction': 5083, 'prefer': 5084, 'preferably': 5085, 'preference': 5086, 'preferences': 5087, 'preferred': 5088, 'premises': 5089, 'premium': 5090, 'premiums': 5091, 'preoccupied': 5092, 'preorder': 5093, 'preparation': 5094, 'prepare': 5095, 'prepared': 5096, 'preparedness': 5097, 'preparing': 5098, 'prescription': 5099, 'prescriptions': 5100, 'presence': 5101, 'present': 5102, 'presentation': 5103, 'presented': 5104, 'presenting': 5105, 'presents': 5106, 'preservation': 5107, 'preserve': 5108, 'president': 5109, 'press': 5110, 'pressed': 5111, 'pressing': 5112, 'pressure': 5113, 'pretty': 5114, 'prevent': 5115, 'prevented': 5116, 'prevention': 5117, 'preview': 5118, 'previous': 5119, 'previously': 5120, 'price': 5121, 'priced': 5122, 'priceless': 5123, 'prices': 5124, 'pricing': 5125, 'priest': 5126, 'primarily': 5127, 'primary': 5128, 'prime': 5129, 'principal': 5130, 'principle': 5131, 'print': 5132, 'printed': 5133, 'printers': 5134, 'printing': 5135, 'prints': 5136, 'prior': 5137, 'prioritize': 5138, 'prioritized': 5139, 'priority': 5140, 'privacy': 5141, 'private': 5142, 'privilege': 5143, 'prize': 5144, 'prized': 5145, 'probably': 5146, 'problem': 5147, 'problematic': 5148, 'problems': 5149, 'procedure': 5150, 'procedures': 5151, 'proceed': 5152, 'proceedings': 5153, 'proceeds': 5154, 'process': 5155, 'processed': 5156, 'processes': 5157, 'processing': 5158, 'processor': 5159, 'processors': 5160, 'procurement': 5161, 'produce': 5162, 'produced': 5163, 'producer': 5164, 'produces': 5165, 'producing': 5166, 'product': 5167, 'production': 5168, 'productions': 5169, 'productivity': 5170, 'products': 5171, 'profession': 5172, 'professional': 5173, 'professionally': 5174, 'professionals': 5175, 'professions': 5176, 'professor': 5177, 'professors': 5178, 'proficiency': 5179, 'profile': 5180, 'profit': 5181, 'profitability': 5182, 'profitable': 5183, 'profits': 5184, 'program': 5185, 'programmed': 5186, 'programmer': 5187, 'programmers': 5188, 'programming': 5189, 'programs': 5190, 'progress': 5191, 'progressing': 5192, 'project': 5193, 'projections': 5194, 'projector': 5195, 'projectors': 5196, 'projects': 5197, 'prominent': 5198, 'prominently': 5199, 'promise': 5200, 'promised': 5201, 'promises': 5202, 'promising': 5203, 'promo': 5204, 'promos': 5205, 'promote': 5206, 'promoting': 5207, 'promotion': 5208, 'promotional': 5209, 'promotions': 5210, 'prompt': 5211, 'promptly': 5212, 'prompts': 5213, 'proof': 5214, 'proofs': 5215, 'propelled': 5216, 'proper': 5217, 'properly': 5218, 'properties': 5219, 'property': 5220, 'proportion': 5221, 'proposal': 5222, 'proposals': 5223, 'propose': 5224, 'proposed': 5225, 'proposing': 5226, 'proposition': 5227, 'pros': 5228, 'prospective': 5229, 'prosperous': 5230, 'prosthetics': 5231, 'prostrations': 5232, 'protect': 5233, 'protected': 5234, 'protection': 5235, 'protectionism': 5236, 'protections': 5237, 'protective': 5238, 'protects': 5239, 'protein': 5240, 'protocol': 5241, 'protocols': 5242, 'prototype': 5243, 'proud': 5244, 'prove': 5245, 'proven': 5246, 'provide': 5247, 'provided': 5248, 'provider': 5249, 'providers': 5250, 'provides': 5251, 'providing': 5252, 'province': 5253, 'proximity': 5254, 'pub': 5255, 'public': 5256, 'publication': 5257, 'publications': 5258, 'publicly': 5259, 'publish': 5260, 'published': 5261, 'publishers': 5262, 'publishing': 5263, 'pull': 5264, 'pulse': 5265, 'pump': 5266, 'pumps': 5267, 'punctual': 5268, 'purchase': 5269, 'purchased': 5270, 'purchases': 5271, 'purchasing': 5272, 'purely': 5273, 'purified': 5274, 'purifiers': 5275, 'purify': 5276, 'purpose': 5277, 'purposes': 5278, 'pursue': 5279, 'push': 5280, 'pushed': 5281, 'put': 5282, 'puts': 5283, 'putting': 5284, 'quadrupled': 5285, 'qualified': 5286, 'qualify': 5287, 'qualities': 5288, 'quality': 5289, 'quantities': 5290, 'quantity': 5291, 'quarter': 5292, 'quarterly': 5293, 'queries': 5294, 'query': 5295, 'question': 5296, 'questionnaire': 5297, 'questions': 5298, 'queue': 5299, 'quick': 5300, 'quickly': 5301, 'quilt': 5302, 'quite': 5303, 'quotation': 5304, 'quotations': 5305, 'quote': 5306, 'radio': 5307, 'radioactive': 5308, 'railway': 5309, 'rain': 5310, 'raise': 5311, 'raising': 5312, 'rally': 5313, 'rambling': 5314, 'ramen': 5315, 'ran': 5316, 'random': 5317, 'randomly': 5318, 'rang': 5319, 'range': 5320, 'ranger': 5321, 'ranges': 5322, 'ranging': 5323, 'rank': 5324, 'ranked': 5325, 'ranking': 5326, 'ranks': 5327, 'rapidly': 5328, 'rapport': 5329, 'rare': 5330, 'rate': 5331, 'rates': 5332, 'rather': 5333, 'rating': 5334, 'ratings': 5335, 'ratio': 5336, 'rational': 5337, 'raw': 5338, 'ray': 5339, 'rd': 5340, 're': 5341, 'reach': 5342, 'reached': 5343, 'reaches': 5344, 'reaching': 5345, 'react': 5346, 'reaction': 5347, 'read': 5348, 'readers': 5349, 'reading': 5350, 'reads': 5351, 'ready': 5352, 'real': 5353, 'realistic': 5354, 'reality': 5355, 'realize': 5356, 'really': 5357, 'realtor': 5358, 'reap': 5359, 'rear': 5360, 'reason': 5361, 'reasonable': 5362, 'reasons': 5363, 'reassuring': 5364, 'rebook': 5365, 'recall': 5366, 'receipt': 5367, 'receipts': 5368, 'receivable': 5369, 'receive': 5370, 'received': 5371, 'receiver': 5372, 'receiving': 5373, 'recent': 5374, 'recently': 5375, 'reception': 5376, 'receptionist': 5377, 'recharge': 5378, 'recharging': 5379, 'recipe': 5380, 'recipes': 5381, 'recipients': 5382, 'recognize': 5383, 'recognized': 5384, 'recommend': 5385, 'recommendation': 5386, 'recommendations': 5387, 'recommended': 5388, 'recommending': 5389, 'reconfirm': 5390, 'reconsider': 5391, 'record': 5392, 'recorded': 5393, 'recording': 5394, 'recordings': 5395, 'records': 5396, 'recover': 5397, 'recovery': 5398, 'recreation': 5399, 'rectified': 5400, 'recuperate': 5401, 'red': 5402, 'redemption': 5403, 'redirect': 5404, 'redownloaded': 5405, 'redrafting': 5406, 'reduce': 5407, 'reduced': 5408, 'reduces': 5409, 'reducing': 5410, 'reefer': 5411, 'reefers': 5412, 'reels': 5413, 'refer': 5414, 'reference': 5415, 'referred': 5416, 'referring': 5417, 'refers': 5418, 'refine': 5419, 'reflected': 5420, 'refrain': 5421, 'refresher': 5422, 'refund': 5423, 'refunded': 5424, 'refunds': 5425, 'refuse': 5426, 'refuses': 5427, 'regard': 5428, 'regarded': 5429, 'regarding': 5430, 'regardless': 5431, 'regards': 5432, 'region': 5433, 'regional': 5434, 'register': 5435, 'registered': 5436, 'registration': 5437, 'registry': 5438, 'regret': 5439, 'regretting': 5440, 'regular': 5441, 'regularly': 5442, 'regulated': 5443, 'regulations': 5444, 'regulatory': 5445, 'rehearsal': 5446, 'reheated': 5447, 'reimbursed': 5448, 'reimbursement': 5449, 'reimbursing': 5450, 'reinstalled': 5451, 'reject': 5452, 'rejected': 5453, 'relatable': 5454, 'relate': 5455, 'related': 5456, 'relations': 5457, 'relationship': 5458, 'relationships': 5459, 'relative': 5460, 'relatively': 5461, 'relatives': 5462, 'relax': 5463, 'relaxation': 5464, 'relaxing': 5465, 'relay': 5466, 'release': 5467, 'released': 5468, 'releases': 5469, 'releasing': 5470, 'relentlessly': 5471, 'relevant': 5472, 'reliable': 5473, 'relief': 5474, 'relies': 5475, 'relieved': 5476, 'religious': 5477, 'relocate': 5478, 'rely': 5479, 'remain': 5480, 'remaining': 5481, 'remains': 5482, 'remarks': 5483, 'remember': 5484, 'remembered': 5485, 'remind': 5486, 'reminder': 5487, 'reminders': 5488, 'reminding': 5489, 'reminds': 5490, 'reminisce': 5491, 'remittance': 5492, 'remote': 5493, 'remotely': 5494, 'removable': 5495, 'remove': 5496, 'removers': 5497, 'removing': 5498, 'render': 5499, 'rendered': 5500, 'renders': 5501, 'renege': 5502, 'renew': 5503, 'renewable': 5504, 'renewal': 5505, 'renewed': 5506, 'renewing': 5507, 'renovate': 5508, 'renovated': 5509, 'renovation': 5510, 'renowned': 5511, 'rent': 5512, 'rental': 5513, 'rentals': 5514, 'rented': 5515, 'renting': 5516, 'reorder': 5517, 'repair': 5518, 'repay': 5519, 'repayment': 5520, 'repeat': 5521, 'replace': 5522, 'replaced': 5523, 'replacement': 5524, 'replacements': 5525, 'replacing': 5526, 'reply': 5527, 'report': 5528, 'reported': 5529, 'reports': 5530, 'representative': 5531, 'representing': 5532, 'represents': 5533, 'reputable': 5534, 'reputation': 5535, 'reputed': 5536, 'request': 5537, 'requested': 5538, 'requesting': 5539, 'requests': 5540, 'require': 5541, 'required': 5542, 'requirement': 5543, 'requirements': 5544, 'requires': 5545, 'rescheduled': 5546, 'rescission': 5547, 'research': 5548, 'researched': 5549, 'researching': 5550, 'resellers': 5551, 'resending': 5552, 'reservation': 5553, 'reservations': 5554, 'reserve': 5555, 'reserved': 5556, 'reserving': 5557, 'reset': 5558, 'reside': 5559, 'residence': 5560, 'resident': 5561, 'residents': 5562, 'residing': 5563, 'resistant': 5564, 'resistors': 5565, 'resolve': 5566, 'resolved': 5567, 'resolving': 5568, 'resort': 5569, 'resorting': 5570, 'resorts': 5571, 'resource': 5572, 'resources': 5573, 'respect': 5574, 'respected': 5575, 'respective': 5576, 'respectively': 5577, 'respects': 5578, 'respond': 5579, 'responding': 5580, 'response': 5581, 'responsibility': 5582, 'responsible': 5583, 'responsive': 5584, 'rest': 5585, 'restart': 5586, 'restaurant': 5587, 'restaurants': 5588, 'restocked': 5589, 'restore': 5590, 'restoring': 5591, 'restricted': 5592, 'restriction': 5593, 'restrictions': 5594, 'restroom': 5595, 'restrooms': 5596, 'result': 5597, 'resulted': 5598, 'results': 5599, 'resume': 5600, 'resumes': 5601, 'retail': 5602, 'retailer': 5603, 'retails': 5604, 'retain': 5605, 'retains': 5606, 'retirement': 5607, 'retract': 5608, 'retreat': 5609, 'retreats': 5610, 'retrieve': 5611, 'return': 5612, 'returned': 5613, 'returning': 5614, 'returns': 5615, 'reuploading': 5616, 'reusable': 5617, 'revamp': 5618, 'revealing': 5619, 'revenue': 5620, 'revenues': 5621, 'revert': 5622, 'review': 5623, 'reviewed': 5624, 'reviewers': 5625, 'reviewing': 5626, 'revise': 5627, 'revised': 5628, 'revision': 5629, 'revisions': 5630, 'revoke': 5631, 'revolving': 5632, 'reward': 5633, 'rewarding': 5634, 'rewards': 5635, 'rib': 5636, 'ribs': 5637, 'rice': 5638, 'rich': 5639, 'rid': 5640, 'ride': 5641, 'rides': 5642, 'right': 5643, 'rights': 5644, 'rigid': 5645, 'rim': 5646, 'ring': 5647, 'rise': 5648, 'risen': 5649, 'risk': 5650, 'risking': 5651, 'risks': 5652, 'risky': 5653, 'ritual': 5654, 'road': 5655, 'roadblock': 5656, 'roadmap': 5657, 'roasted': 5658, 'robot': 5659, 'rock': 5660, 'rocky': 5661, 'role': 5662, 'roleplaying': 5663, 'roles': 5664, 'roll': 5665, 'roller': 5666, 'rolls': 5667, 'roof': 5668, 'roofing': 5669, 'rooftop': 5670, 'room': 5671, 'roommate': 5672, 'rooms': 5673, 'root': 5674, 'roots': 5675, 'ropes': 5676, 'rotary': 5677, 'rough': 5678, 'round': 5679, 'rounds': 5680, 'router': 5681, 'routine': 5682, 'royalty': 5683, 'rude': 5684, 'ruin': 5685, 'ruined': 5686, 'rules': 5687, 'rumor': 5688, 'run': 5689, 'running': 5690, 'runs': 5691, 'rural': 5692, 'rush': 5693, 'rushing': 5694, 's': 5695, 'sacrificing': 5696, 'sad': 5697, 'safe': 5698, 'safeguard': 5699, 'safely': 5700, 'safer': 5701, 'safety': 5702, 'said': 5703, 'sake': 5704, 'salad': 5705, 'salary': 5706, 'sale': 5707, 'sales': 5708, 'salesmen': 5709, 'salt': 5710, 'saltwater': 5711, 'same': 5712, 'samgyeopsal': 5713, 'samgyupsal': 5714, 'sample': 5715, 'sampler': 5716, 'samples': 5717, 'sampling': 5718, 'sanctioning': 5719, 'sandwich': 5720, 'sandwiches': 5721, 'sanitary': 5722, 'satellite': 5723, 'satin': 5724, 'satisfied': 5725, 'satisfy': 5726, 'sauce': 5727, 'sauna': 5728, 'sausage': 5729, 'save': 5730, 'saved': 5731, 'saver': 5732, 'saves': 5733, 'saving': 5734, 'savings': 5735, 'savory': 5736, 'savvy': 5737, 'saw': 5738, 'say': 5739, 'saying': 5740, 'says': 5741, 'scaffolding': 5742, 'scale': 5743, 'scammed': 5744, 'scan': 5745, 'scanner': 5746, 'scanners': 5747, 'scanning': 5748, 'scarcity': 5749, 'scared': 5750, 'scavenger': 5751, 'scenario': 5752, 'scenarios': 5753, 'scenic': 5754, 'scent': 5755, 'schedule': 5756, 'scheduled': 5757, 'scheduler': 5758, 'schedules': 5759, 'scheme': 5760, 'scholar': 5761, 'scholarships': 5762, 'school': 5763, 'schooling': 5764, 'science': 5765, 'sciences': 5766, 'scientific': 5767, 'scientists': 5768, 'scooters': 5769, 'score': 5770, 'scores': 5771, 'scratch': 5772, 'screen': 5773, 'screening': 5774, 'screenplay': 5775, 'screens': 5776, 'screenshot': 5777, 'screenshots': 5778, 'screw': 5779, 'screws': 5780, 'script': 5781, 'scrub': 5782, 'sculptors': 5783, 'sea': 5784, 'seal': 5785, 'search': 5786, 'searching': 5787, 'seared': 5788, 'season': 5789, 'seasons': 5790, 'seat': 5791, 'seats': 5792, 'seaweed': 5793, 'seaworthiness': 5794, 'second': 5795, 'secondary': 5796, 'secondhand': 5797, 'seconds': 5798, 'secret': 5799, 'secretary': 5800, 'section': 5801, 'sector': 5802, 'secure': 5803, 'secured': 5804, 'secures': 5805, 'securing': 5806, 'securities': 5807, 'security': 5808, 'see': 5809, 'seedlings': 5810, 'seeing': 5811, 'seek': 5812, 'seeking': 5813, 'seem': 5814, 'seems': 5815, 'seen': 5816, 'select': 5817, 'selected': 5818, 'selection': 5819, 'selections': 5820, 'self': 5821, 'sell': 5822, 'seller': 5823, 'sellers': 5824, 'selling': 5825, 'sells': 5826, 'selves': 5827, 'semester': 5828, 'semiconductor': 5829, 'semiconductors': 5830, 'seminar': 5831, 'seminars': 5832, 'send': 5833, 'sender': 5834, 'sending': 5835, 'senior': 5836, 'seniors': 5837, 'sense': 5838, 'sensor': 5839, 'sensors': 5840, 'sent': 5841, 'separate': 5842, 'separately': 5843, 'serial': 5844, 'series': 5845, 'serious': 5846, 'serve': 5847, 'served': 5848, 'server': 5849, 'servers': 5850, 'serves': 5851, 'service': 5852, 'serviced': 5853, 'services': 5854, 'servicing': 5855, 'serving': 5856, 'servings': 5857, 'servo': 5858, 'session': 5859, 'sessions': 5860, 'set': 5861, 'sets': 5862, 'setting': 5863, 'settings': 5864, 'settle': 5865, 'settled': 5866, 'setup': 5867, 'setups': 5868, 'seven': 5869, 'several': 5870, 'severe': 5871, 'sewer': 5872, 'sewing': 5873, 'shaded': 5874, 'shaft': 5875, 'shafts': 5876, 'shake': 5877, 'shall': 5878, 'shape': 5879, 'shaped': 5880, 'shapes': 5881, 'share': 5882, 'shared': 5883, 'shares': 5884, 'sharing': 5885, 'sharpened': 5886, 'sharply': 5887, 'she': 5888, 'sheet': 5889, 'shelter': 5890, 'shift': 5891, 'shifted': 5892, 'ship': 5893, 'shipment': 5894, 'shipments': 5895, 'shipped': 5896, 'shipping': 5897, 'ships': 5898, 'shock': 5899, 'shoddy': 5900, 'shoe': 5901, 'shoes': 5902, 'shoot': 5903, 'shooting': 5904, 'shop': 5905, 'shopping': 5906, 'shops': 5907, 'short': 5908, 'shortly': 5909, 'shot': 5910, 'shots': 5911, 'should': 5912, 'shoulder': 5913, 'shouldn': 5914, 'shovel': 5915, 'shovels': 5916, 'show': 5917, 'showcase': 5918, 'showcases': 5919, 'showcasing': 5920, 'showed': 5921, 'shower': 5922, 'showing': 5923, 'shown': 5924, 'showroom': 5925, 'shows': 5926, 'shredder': 5927, 'shredders': 5928, 'shrimp': 5929, 'shutting': 5930, 'shy': 5931, 'sibling': 5932, 'side': 5933, 'sides': 5934, 'sign': 5935, 'signal': 5936, 'signals': 5937, 'signatory': 5938, 'signature': 5939, 'signatures': 5940, 'signed': 5941, 'significance': 5942, 'significant': 5943, 'significantly': 5944, 'signify': 5945, 'signing': 5946, 'silent': 5947, 'silk': 5948, 'silver': 5949, 'silverware': 5950, 'similar': 5951, 'simmered': 5952, 'simmering': 5953, 'simple': 5954, 'simpler': 5955, 'simply': 5956, 'simultaneously': 5957, 'since': 5958, 'sincere': 5959, 'sincerely': 5960, 'sing': 5961, 'single': 5962, 'sink': 5963, 'sir': 5964, 'sister': 5965, 'sit': 5966, 'site': 5967, 'sited': 5968, 'sites': 5969, 'sitting': 5970, 'situation': 5971, 'situations': 5972, 'six': 5973, 'sixth': 5974, 'sizable': 5975, 'size': 5976, 'sized': 5977, 'sizes': 5978, 'sketches': 5979, 'skill': 5980, 'skilled': 5981, 'skills': 5982, 'skin': 5983, 'skincare': 5984, 'skyline': 5985, 'skyrocket': 5986, 'sleep': 5987, 'sleeping': 5988, 'slept': 5989, 'slice': 5990, 'slide': 5991, 'slides': 5992, 'sliding': 5993, 'slightly': 5994, 'slip': 5995, 'slippers': 5996, 'slot': 5997, 'slots': 5998, 'slow': 5999, 'slurp': 6000, 'small': 6001, 'smaller': 6002, 'smallest': 6003, 'smart': 6004, 'smartphone': 6005, 'smartphones': 6006, 'smartwatches': 6007, 'smile': 6008, 'smoke': 6009, 'smooth': 6010, 'smoothly': 6011, 'snack': 6012, 'snacks': 6013, 'snap': 6014, 'sneakers': 6015, 'snob': 6016, 'snorkeling': 6017, 'so': 6018, 'soap': 6019, 'soaps': 6020, 'soaring': 6021, 'social': 6022, 'societal': 6023, 'socket': 6024, 'socks': 6025, 'sof': 6026, 'sofa': 6027, 'soft': 6028, 'software': 6029, 'softwares': 6030, 'soil': 6031, 'soju': 6032, 'sold': 6033, 'sole': 6034, 'solely': 6035, 'solid': 6036, 'solitary': 6037, 'solo': 6038, 'solution': 6039, 'solutions': 6040, 'solve': 6041, 'solving': 6042, 'some': 6043, 'somebody': 6044, 'someday': 6045, 'somehow': 6046, 'someone': 6047, 'something': 6048, 'sometime': 6049, 'sometimes': 6050, 'somewhere': 6051, 'son': 6052, 'song': 6053, 'songs': 6054, 'soon': 6055, 'sooner': 6056, 'sophisticated': 6057, 'sorry': 6058, 'sort': 6059, 'sorted': 6060, 'sorts': 6061, 'sound': 6062, 'soundbite': 6063, 'sounded': 6064, 'sounds': 6065, 'soundtrack': 6066, 'soup': 6067, 'source': 6068, 'sources': 6069, 'sous': 6070, 'southeast': 6071, 'souvenirs': 6072, 'soy': 6073, 'spa': 6074, 'space': 6075, 'spaces': 6076, 'spacious': 6077, 'spaghetti': 6078, 'spam': 6079, 'spare': 6080, 'spark': 6081, 'spas': 6082, 'speak': 6083, 'speaker': 6084, 'speakers': 6085, 'speaking': 6086, 'speaks': 6087, 'special': 6088, 'specialize': 6089, 'specialized': 6090, 'specializes': 6091, 'specialties': 6092, 'specialty': 6093, 'specific': 6094, 'specifically': 6095, 'specification': 6096, 'specifications': 6097, 'specifics': 6098, 'spectacular': 6099, 'spectrophotometer': 6100, 'spectrum': 6101, 'speed': 6102, 'speeds': 6103, 'spend': 6104, 'spending': 6105, 'spent': 6106, 'spices': 6107, 'spicy': 6108, 'spike': 6109, 'spinners': 6110, 'spinning': 6111, 'spiral': 6112, 'split': 6113, 'spoke': 6114, 'spoken': 6115, 'sponsor': 6116, 'sponsored': 6117, 'spoons': 6118, 'sports': 6119, 'spot': 6120, 'spots': 6121, 'spouse': 6122, 'sprained': 6123, 'spray': 6124, 'spread': 6125, 'spreader': 6126, 'spreading': 6127, 'spring': 6128, 'springs': 6129, 'sprout': 6130, 'sprouts': 6131, 'spyware': 6132, 'square': 6133, 'squeeze': 6134, 'squid': 6135, 'ssambap': 6136, 'ssamjang': 6137, 'st': 6138, 'stable': 6139, 'stacking': 6140, 'staff': 6141, 'staffs': 6142, 'stage': 6143, 'stages': 6144, 'staggered': 6145, 'stainless': 6146, 'stake': 6147, 'stalls': 6148, 'stand': 6149, 'standard': 6150, 'standards': 6151, 'standing': 6152, 'stands': 6153, 'star': 6154, 'starch': 6155, 'starred': 6156, 'stars': 6157, 'start': 6158, 'started': 6159, 'starters': 6160, 'starting': 6161, 'starts': 6162, 'startup': 6163, 'startups': 6164, 'state': 6165, 'stated': 6166, 'statement': 6167, 'statements': 6168, 'states': 6169, 'static': 6170, 'station': 6171, 'stationary': 6172, 'stationed': 6173, 'stations': 6174, 'statistics': 6175, 'statue': 6176, 'status': 6177, 'stay': 6178, 'stayed': 6179, 'staying': 6180, 'stays': 6181, 'steadier': 6182, 'steady': 6183, 'steak': 6184, 'steal': 6185, 'steamed': 6186, 'steamers': 6187, 'steel': 6188, 'steering': 6189, 'stems': 6190, 'step': 6191, 'stepped': 6192, 'steps': 6193, 'sterilizers': 6194, 'stew': 6195, 'stick': 6196, 'sticker': 6197, 'stickers': 6198, 'sticky': 6199, 'still': 6200, 'stipulated': 6201, 'stir': 6202, 'stitches': 6203, 'stock': 6204, 'stockbroker': 6205, 'stocks': 6206, 'stolen': 6207, 'stones': 6208, 'stop': 6209, 'stoppers': 6210, 'stops': 6211, 'storage': 6212, 'store': 6213, 'stored': 6214, 'stores': 6215, 'storey': 6216, 'stories': 6217, 'storm': 6218, 'story': 6219, 'stoves': 6220, 'straight': 6221, 'straighten': 6222, 'strain': 6223, 'strands': 6224, 'strange': 6225, 'strategic': 6226, 'strategies': 6227, 'strategize': 6228, 'strategy': 6229, 'straw': 6230, 'stream': 6231, 'streamed': 6232, 'streaming': 6233, 'street': 6234, 'strength': 6235, 'strengthen': 6236, 'stress': 6237, 'strict': 6238, 'strictly': 6239, 'strictness': 6240, 'strips': 6241, 'strive': 6242, 'striving': 6243, 'stroganoff': 6244, 'strong': 6245, 'stronger': 6246, 'strongly': 6247, 'structure': 6248, 'structures': 6249, 'struggle': 6250, 'stub': 6251, 'stuck': 6252, 'student': 6253, 'students': 6254, 'studied': 6255, 'studies': 6256, 'studio': 6257, 'study': 6258, 'studying': 6259, 'stuff': 6260, 'stumped': 6261, 'stunning': 6262, 'stupendous': 6263, 'stuttering': 6264, 'style': 6265, 'subcription': 6266, 'subdivision': 6267, 'submersible': 6268, 'submission': 6269, 'submissions': 6270, 'submit': 6271, 'submitted': 6272, 'subscribe': 6273, 'subscribed': 6274, 'subscriber': 6275, 'subscribers': 6276, 'subscribing': 6277, 'subscription': 6278, 'subscriptions': 6279, 'subsidiaries': 6280, 'subsidiary': 6281, 'substantial': 6282, 'subtitles': 6283, 'subway': 6284, 'succeed': 6285, 'succeeded': 6286, 'success': 6287, 'successful': 6288, 'succinctly': 6289, 'such': 6290, 'suction': 6291, 'sudden': 6292, 'suddenly': 6293, 'suffer': 6294, 'suffered': 6295, 'suffice': 6296, 'sufficient': 6297, 'sugar': 6298, 'suggest': 6299, 'suggested': 6300, 'suggesting': 6301, 'suggestion': 6302, 'suggestions': 6303, 'suit': 6304, 'suitable': 6305, 'suite': 6306, 'suites': 6307, 'sujeonggwa': 6308, 'sukju': 6309, 'sum': 6310, 'summary': 6311, 'summer': 6312, 'sun': 6313, 'sunrise': 6314, 'superintendent': 6315, 'superiors': 6316, 'supermarket': 6317, 'supervisor': 6318, 'supervisory': 6319, 'supplements': 6320, 'supplied': 6321, 'supplier': 6322, 'suppliers': 6323, 'supplies': 6324, 'supply': 6325, 'supplying': 6326, 'support': 6327, 'supporters': 6328, 'supporting': 6329, 'supportive': 6330, 'suppose': 6331, 'supposed': 6332, 'sure': 6333, 'surely': 6334, 'surface': 6335, 'surge': 6336, 'surpass': 6337, 'surplus': 6338, 'surprise': 6339, 'surprised': 6340, 'surround': 6341, 'surveillance': 6342, 'survey': 6343, 'surveyed': 6344, 'suspect': 6345, 'suspicious': 6346, 'sustainable': 6347, 'sweat': 6348, 'sweet': 6349, 'sweets': 6350, 'swift': 6351, 'swiftly': 6352, 'swimming': 6353, 'switch': 6354, 'switched': 6355, 'switching': 6356, 'symbols': 6357, 'symmetric': 6358, 'syndicated': 6359, 'synopsis': 6360, 'synthesizing': 6361, 'synthetic': 6362, 'syringes': 6363, 'system': 6364, 'systems': 6365, 't': 6366, 'tab': 6367, 'table': 6368, 'tables': 6369, 'tablet': 6370, 'tablets': 6371, 'tabulate': 6372, 'tackled': 6373, 'tactics': 6374, 'tagline': 6375, 'tags': 6376, 'tainted': 6377, 'take': 6378, 'taken': 6379, 'takeover': 6380, 'taker': 6381, 'takes': 6382, 'taking': 6383, 'talent': 6384, 'talents': 6385, 'talk': 6386, 'talked': 6387, 'talking': 6388, 'talks': 6389, 'tap': 6390, 'tape': 6391, 'taps': 6392, 'target': 6393, 'targeted': 6394, 'targeting': 6395, 'targets': 6396, 'tariff': 6397, 'tariffs': 6398, 'task': 6399, 'tasked': 6400, 'tasks': 6401, 'taste': 6402, 'tasted': 6403, 'tastes': 6404, 'tasty': 6405, 'tattoo': 6406, 'taught': 6407, 'tax': 6408, 'taxation': 6409, 'taxed': 6410, 'taxes': 6411, 'tea': 6412, 'teach': 6413, 'teacher': 6414, 'teachers': 6415, 'teaching': 6416, 'team': 6417, 'teammates': 6418, 'teams': 6419, 'teas': 6420, 'teaser': 6421, 'tech': 6422, 'technical': 6423, 'technically': 6424, 'technician': 6425, 'technicians': 6426, 'techniques': 6427, 'technological': 6428, 'technologies': 6429, 'technologist': 6430, 'technology': 6431, 'tedious': 6432, 'teenagers': 6433, 'telecommunication': 6434, 'telecommunications': 6435, 'teleconference': 6436, 'telephone': 6437, 'television': 6438, 'televisions': 6439, 'tell': 6440, 'telling': 6441, 'temperature': 6442, 'temperatures': 6443, 'template': 6444, 'templates': 6445, 'temple': 6446, 'temples': 6447, 'temporarily': 6448, 'temporary': 6449, 'ten': 6450, 'tenants': 6451, 'tend': 6452, 'tendency': 6453, 'tender': 6454, 'tent': 6455, 'tentative': 6456, 'tents': 6457, 'tenure': 6458, 'terabyte': 6459, 'terabytes': 6460, 'term': 6461, 'terminal': 6462, 'terminate': 6463, 'terms': 6464, 'terrace': 6465, 'terrible': 6466, 'terribly': 6467, 'test': 6468, 'tested': 6469, 'tester': 6470, 'testers': 6471, 'testing': 6472, 'tests': 6473, 'text': 6474, 'textbook': 6475, 'textbooks': 6476, 'textile': 6477, 'textiles': 6478, 'texts': 6479, 'texture': 6480, 'textures': 6481, 'th': 6482, 'than': 6483, 'thank': 6484, 'thanks': 6485, 'that': 6486, 'the': 6487, 'theater': 6488, 'their': 6489, 'theirs': 6490, 'them': 6491, 'theme': 6492, 'themes': 6493, 'themselves': 6494, 'then': 6495, 'therapy': 6496, 'there': 6497, 'thereby': 6498, 'therefore': 6499, 'thermoforming': 6500, 'thermoplastic': 6501, 'thermostat': 6502, 'these': 6503, 'they': 6504, 'thick': 6505, 'thickened': 6506, 'thin': 6507, 'thing': 6508, 'things': 6509, 'think': 6510, 'thinking': 6511, 'thinks': 6512, 'third': 6513, 'this': 6514, 'thorough': 6515, 'thoroughly': 6516, 'those': 6517, 'though': 6518, 'thought': 6519, 'thoughts': 6520, 'thousand': 6521, 'thousands': 6522, 'threads': 6523, 'threat': 6524, 'threaten': 6525, 'threatening': 6526, 'three': 6527, 'thriller': 6528, 'thrives': 6529, 'through': 6530, 'throughout': 6531, 'thus': 6532, 'ticket': 6533, 'tickets': 6534, 'tie': 6535, 'tied': 6536, 'tier': 6537, 'tight': 6538, 'tightly': 6539, 'till': 6540, 'time': 6541, 'timeline': 6542, 'timelines': 6543, 'timely': 6544, 'timer': 6545, 'times': 6546, 'timespan': 6547, 'timetable': 6548, 'timing': 6549, 'tiny': 6550, 'tip': 6551, 'tipping': 6552, 'tips': 6553, 'tire': 6554, 'tissue': 6555, 'title': 6556, 'to': 6557, 'toast': 6558, 'toasters': 6559, 'tobacco': 6560, 'today': 6561, 'toddlers': 6562, 'toe': 6563, 'together': 6564, 'toilet': 6565, 'token': 6566, 'tokens': 6567, 'told': 6568, 'tolerant': 6569, 'tolerated': 6570, 'tomorrow': 6571, 'ton': 6572, 'tone': 6573, 'toner': 6574, 'tones': 6575, 'tonight': 6576, 'too': 6577, 'took': 6578, 'tool': 6579, 'tools': 6580, 'top': 6581, 'topic': 6582, 'topics': 6583, 'topmost': 6584, 'torn': 6585, 'tortilla': 6586, 'total': 6587, 'totally': 6588, 'touch': 6589, 'touchscreen': 6590, 'tough': 6591, 'tour': 6592, 'tourism': 6593, 'tourist': 6594, 'tourists': 6595, 'tours': 6596, 'tow': 6597, 'toward': 6598, 'towards': 6599, 'towel': 6600, 'towels': 6601, 'town': 6602, 'townhouse': 6603, 'track': 6604, 'trackballs': 6605, 'tracking': 6606, 'trackpad': 6607, 'tractor': 6608, 'trade': 6609, 'trademark': 6610, 'trader': 6611, 'trades': 6612, 'trading': 6613, 'traditional': 6614, 'traditionally': 6615, 'traditions': 6616, 'traffic': 6617, 'trailer': 6618, 'trailers': 6619, 'train': 6620, 'training': 6621, 'trainings': 6622, 'trains': 6623, 'tranche': 6624, 'transact': 6625, 'transaction': 6626, 'transactions': 6627, 'transfer': 6628, 'transferred': 6629, 'transferring': 6630, 'transfers': 6631, 'translations': 6632, 'translators': 6633, 'transmission': 6634, 'transmit': 6635, 'transmitted': 6636, 'transparency': 6637, 'transport': 6638, 'transportation': 6639, 'transportations': 6640, 'trash': 6641, 'travel': 6642, 'traveled': 6643, 'travelers': 6644, 'traveling': 6645, 'travelled': 6646, 'tread': 6647, 'treat': 6648, 'treated': 6649, 'treatment': 6650, 'treatments': 6651, 'tremendously': 6652, 'trend': 6653, 'trending': 6654, 'trends': 6655, 'trendy': 6656, 'tri': 6657, 'trial': 6658, 'trials': 6659, 'tricky': 6660, 'tried': 6661, 'tries': 6662, 'trigger': 6663, 'trip': 6664, 'triple': 6665, 'trips': 6666, 'trouble': 6667, 'troubles': 6668, 'troubleshooting': 6669, 'truck': 6670, 'trucks': 6671, 'true': 6672, 'truly': 6673, 'trust': 6674, 'trusted': 6675, 'trustee': 6676, 'trusting': 6677, 'trustworthy': 6678, 'truth': 6679, 'try': 6680, 'trying': 6681, 'tteokbokki': 6682, 'tub': 6683, 'tube': 6684, 'tubes': 6685, 'tubing': 6686, 'tubs': 6687, 'tuned': 6688, 'tunnels': 6689, 'turn': 6690, 'turnaround': 6691, 'turned': 6692, 'turning': 6693, 'turnkey': 6694, 'turns': 6695, 'tutorials': 6696, 'tweaks': 6697, 'twenty': 6698, 'twice': 6699, 'twin': 6700, 'two': 6701, 'type': 6702, 'types': 6703, 'typewriter': 6704, 'typical': 6705, 'typically': 6706, 'ultimately': 6707, 'ultrasonic': 6708, 'ultrasound': 6709, 'umbrella': 6710, 'unable': 6711, 'unacceptable': 6712, 'unauthorized': 6713, 'unavailable': 6714, 'unaware': 6715, 'unboxed': 6716, 'unboxing': 6717, 'unbreakable': 6718, 'unchanged': 6719, 'uncomfortable': 6720, 'under': 6721, 'undergoing': 6722, 'underlying': 6723, 'underneath': 6724, 'underreported': 6725, 'understaffed': 6726, 'understand': 6727, 'understandable': 6728, 'understanding': 6729, 'undervalued': 6730, 'underwriting': 6731, 'undoubtedly': 6732, 'undress': 6733, 'unemployed': 6734, 'unending': 6735, 'unequal': 6736, 'unexpected': 6737, 'unfair': 6738, 'unfamiliar': 6739, 'unfold': 6740, 'unforeseen': 6741, 'unfortunate': 6742, 'unfortunately': 6743, 'unhappy': 6744, 'unintentional': 6745, 'unique': 6746, 'unit': 6747, 'units': 6748, 'unity': 6749, 'universal': 6750, 'universities': 6751, 'university': 6752, 'unless': 6753, 'unlike': 6754, 'unlimited': 6755, 'unloading': 6756, 'unnecessary': 6757, 'unpleasant': 6758, 'unpredictable': 6759, 'unprofessional': 6760, 'unquantifiable': 6761, 'unrealized': 6762, 'unsecured': 6763, 'unstable': 6764, 'unsure': 6765, 'unsustainable': 6766, 'until': 6767, 'untouched': 6768, 'unused': 6769, 'up': 6770, 'upcoming': 6771, 'update': 6772, 'updated': 6773, 'updates': 6774, 'updating': 6775, 'upfront': 6776, 'upgrade': 6777, 'upgraded': 6778, 'upgrades': 6779, 'upgrading': 6780, 'upkeep': 6781, 'upload': 6782, 'uploaded': 6783, 'uploading': 6784, 'upon': 6785, 'upper': 6786, 'ups': 6787, 'upset': 6788, 'urge': 6789, 'urged': 6790, 'urgent': 6791, 'urgently': 6792, 'us': 6793, 'usability': 6794, 'usage': 6795, 'use': 6796, 'used': 6797, 'useful': 6798, 'user': 6799, 'users': 6800, 'uses': 6801, 'using': 6802, 'usual': 6803, 'usually': 6804, 'utensils': 6805, 'utilities': 6806, 'utility': 6807, 'utilize': 6808, 'utilized': 6809, 'utilizing': 6810, 'vacation': 6811, 'vaccination': 6812, 'vaccine': 6813, 'vacuum': 6814, 'valid': 6815, 'validates': 6816, 'validating': 6817, 'validity': 6818, 'valuable': 6819, 'valuables': 6820, 'value': 6821, 'values': 6822, 'valve': 6823, 'valves': 6824, 'van': 6825, 'vans': 6826, 'variable': 6827, 'variables': 6828, 'variation': 6829, 'varies': 6830, 'varieties': 6831, 'variety': 6832, 'various': 6833, 'vary': 6834, 'varying': 6835, 've': 6836, 'vector': 6837, 'vectors': 6838, 'vegan': 6839, 'vegetable': 6840, 'vegetables': 6841, 'vegetarian': 6842, 'veggies': 6843, 'vehicle': 6844, 'vehicles': 6845, 'vending': 6846, 'vendor': 6847, 'vendors': 6848, 'venture': 6849, 'ventures': 6850, 'venturi': 6851, 'venturing': 6852, 'venue': 6853, 'verification': 6854, 'verified': 6855, 'verify': 6856, 'versatile': 6857, 'version': 6858, 'versions': 6859, 'very': 6860, 'veteran': 6861, 'via': 6862, 'viable': 6863, 'viand': 6864, 'vibes': 6865, 'vibrations': 6866, 'victim': 6867, 'vide': 6868, 'video': 6869, 'videoconferencing': 6870, 'videos': 6871, 'view': 6872, 'viewers': 6873, 'views': 6874, 'villa': 6875, 'village': 6876, 'villas': 6877, 'vine': 6878, 'vinegar': 6879, 'vintage': 6880, 'violated': 6881, 'violation': 6882, 'violent': 6883, 'viral': 6884, 'virtual': 6885, 'virtualization': 6886, 'virtually': 6887, 'virus': 6888, 'viruses': 6889, 'visas': 6890, 'viscosity': 6891, 'visibility': 6892, 'visible': 6893, 'vision': 6894, 'visit': 6895, 'visited': 6896, 'visiting': 6897, 'visitors': 6898, 'visits': 6899, 'visual': 6900, 'visualization': 6901, 'visualizations': 6902, 'visualize': 6903, 'visually': 6904, 'visuals': 6905, 'vital': 6906, 'vitals': 6907, 'vlog': 6908, 'vocabulary': 6909, 'voice': 6910, 'volatile': 6911, 'volume': 6912, 'voluminous': 6913, 'vulnerable': 6914, 'wafer': 6915, 'wage': 6916, 'wages': 6917, 'wait': 6918, 'waited': 6919, 'waiters': 6920, 'waiting': 6921, 'waive': 6922, 'waived': 6923, 'wake': 6924, 'walk': 6925, 'walking': 6926, 'wallet': 6927, 'wallpapers': 6928, 'walls': 6929, 'want': 6930, 'wanted': 6931, 'wanting': 6932, 'wants': 6933, 'warehouse': 6934, 'warm': 6935, 'warn': 6936, 'warning': 6937, 'warping': 6938, 'warrant': 6939, 'warrants': 6940, 'warranty': 6941, 'wary': 6942, 'was': 6943, 'washer': 6944, 'washers': 6945, 'wasn': 6946, 'waste': 6947, 'wasting': 6948, 'watch': 6949, 'watched': 6950, 'watching': 6951, 'water': 6952, 'watering': 6953, 'watermelon': 6954, 'waterproof': 6955, 'waterways': 6956, 'watts': 6957, 'way': 6958, 'ways': 6959, 'we': 6960, 'wealth': 6961, 'wealthy': 6962, 'wear': 6963, 'weather': 6964, 'web': 6965, 'webinar': 6966, 'webinars': 6967, 'webpage': 6968, 'website': 6969, 'websites': 6970, 'wedding': 6971, 'weddings': 6972, 'week': 6973, 'weekdays': 6974, 'weekend': 6975, 'weekends': 6976, 'weekly': 6977, 'weeks': 6978, 'weight': 6979, 'welcome': 6980, 'welcomes': 6981, 'well': 6982, 'went': 6983, 'were': 6984, 'weren': 6985, 'west': 6986, 'western': 6987, 'what': 6988, 'whatever': 6989, 'wheat': 6990, 'wheel': 6991, 'wheels': 6992, 'when': 6993, 'whenever': 6994, 'where': 6995, 'whereabouts': 6996, 'wherever': 6997, 'whether': 6998, 'which': 6999, 'while': 7000, 'white': 7001, 'who': 7002, 'whoever': 7003, 'whole': 7004, 'wholesale': 7005, 'whom': 7006, 'whose': 7007, 'why': 7008, 'wide': 7009, 'widely': 7010, 'widened': 7011, 'wider': 7012, 'widest': 7013, 'wife': 7014, 'wild': 7015, 'wildlife': 7016, 'will': 7017, 'willing': 7018, 'win': 7019, 'wind': 7020, 'window': 7021, 'windows': 7022, 'wine': 7023, 'wines': 7024, 'wing': 7025, 'winner': 7026, 'winter': 7027, 'wipe': 7028, 'wire': 7029, 'wired': 7030, 'wireless': 7031, 'wires': 7032, 'wise': 7033, 'wisely': 7034, 'wish': 7035, 'wished': 7036, 'wishes': 7037, 'with': 7038, 'withdraw': 7039, 'withdrawal': 7040, 'withhold': 7041, 'within': 7042, 'without': 7043, 'witness': 7044, 'women': 7045, 'won': 7046, 'wonder': 7047, 'wonderful': 7048, 'wondering': 7049, 'wonders': 7050, 'wood': 7051, 'word': 7052, 'words': 7053, 'work': 7054, 'worked': 7055, 'worker': 7056, 'workers': 7057, 'workforce': 7058, 'working': 7059, 'workplace': 7060, 'works': 7061, 'workshop': 7062, 'world': 7063, 'worldwide': 7064, 'worm': 7065, 'worms': 7066, 'worried': 7067, 'worries': 7068, 'worry': 7069, 'worrying': 7070, 'worse': 7071, 'worst': 7072, 'worth': 7073, 'worthwhile': 7074, 'worthy': 7075, 'would': 7076, 'wouldn': 7077, 'wow': 7078, 'wrap': 7079, 'wrapping': 7080, 'wraps': 7081, 'write': 7082, 'writers': 7083, 'writing': 7084, 'written': 7085, 'wrong': 7086, 'yacht': 7087, 'yang': 7088, 'yard': 7089, 'yarn': 7090, 'year': 7091, 'yearly': 7092, 'years': 7093, 'yell': 7094, 'yellow': 7095, 'yen': 7096, 'yes': 7097, 'yesterday': 7098, 'yet': 7099, 'yield': 7100, 'yields': 7101, 'yin': 7102, 'yo': 7103, 'you': 7104, 'young': 7105, 'youngsters': 7106, 'your': 7107, 'yours': 7108, 'yourself': 7109, 'yourselves': 7110, 'youth': 7111, 'yurt': 7112, 'zero': 7113, 'zones': 7114, 'zoom': 7115, 'é': 7116}\n",
            "{'<EOS>': 1, '<SOS>': 2, '!': 3, '\"': 4, '$10,000': 5, '$10,000만': 6, '$100': 7, '$100,000': 8, '$120': 9, '$20': 10, '$21': 11, '$5': 12, '$50,000': 13, '$500,000': 14, '$6,000': 15, \"'\": 16, '(': 17, ')': 18, ',': 19, '-': 20, '.': 21, '0': 22, '0.006': 23, '0.2': 24, '0.26%': 25, '0.5%': 26, '0.95%': 27, '0000000': 28, '1': 29, '1%': 30, '1,000': 31, '1,000,000원': 32, '1,000달러': 33, '1,000만': 34, '1,000원': 35, '1,200달러': 36, '1,250,000원': 37, '1,500': 38, '1,500달러': 39, '1,700,000원': 40, '1.50%': 41, '10': 42, '10%': 43, '10,000': 44, '10,000달러': 45, '10.9%': 46, '100': 47, '100%': 48, '100,000달러': 49, '1000': 50, '1000만': 51, '1000억원': 52, '100달러': 53, '100만': 54, '100만달러': 55, '100만원': 56, '10~14일': 57, '10년': 58, '10달러': 59, '10만': 60, '10분': 61, '10시': 62, '10월': 63, '10일': 64, '10초': 65, '11': 66, '1100': 67, '11시': 68, '11월': 69, '11일': 70, '12': 71, '12%': 72, '12.99달러': 73, '1200만': 74, '123': 75, '123-456': 76, '1234': 77, '1234-5678': 78, '123456': 79, '1234567': 80, '12345678': 81, '123456789': 82, '123546789': 83, '125달러': 84, '128': 85, '12년': 86, '12월': 87, '12일': 88, '13': 89, '135': 90, '13일': 91, '140,000원': 92, '140달러': 93, '142': 94, '144': 95, '14일': 96, '15': 97, '15%': 98, '15,000': 99, '15,000달러': 100, '150': 101, '150달러': 102, '15~20': 103, '15년': 104, '15달러': 105, '15만': 106, '15분': 107, '15일': 108, '16': 109, '1600만': 110, '16달러': 111, '16일': 112, '17일': 113, '18': 114, '18,000,000,000원': 115, '18일': 116, '19': 117, '1952년': 118, '19일': 119, '1:1': 120, '1~2년': 121, '1년': 122, '1분': 123, '1시': 124, '1시간': 125, '1억': 126, '1억원': 127, '1월': 128, '1일': 129, '2': 130, '2%': 131, '2,000,000달러': 132, '2,000달러': 133, '2,500달러': 134, '2,500만': 135, '2-4': 136, '2.5%': 137, '20': 138, '20%': 139, '20,000,000원': 140, '20,000달러': 141, '200': 142, '2000년': 143, '2000달러': 144, '2002년': 145, '200569978005': 146, '200달러': 147, '200만': 148, '2019년': 149, '2021': 150, '2021년': 151, '2022년': 152, '2070만': 153, '20년': 154, '20달러': 155, '20분': 156, '20일': 157, '21일': 158, '22달러': 159, '22일': 160, '23일': 161, '24시간': 162, '25': 163, '25%': 164, '2500달러': 165, '250달러': 166, '25년': 167, '25달러': 168, '25만': 169, '25분': 170, '27일': 171, '280': 172, '2929달러': 173, '29일': 174, '2~3': 175, '2년': 176, '2달러': 177, '2만': 178, '2분': 179, '2시': 180, '2시간': 181, '2월': 182, '2일': 183, '2천만': 184, '3': 185, '3%': 186, '3,000': 187, '3,000달러': 188, '3,500': 189, '3,500달러': 190, '3-5시간': 191, '3-7': 192, '3.5%': 193, '30': 194, '300': 195, '3000': 196, '3000달러': 197, '300달러': 198, '30년': 199, '30분': 200, '30시간': 201, '30일': 202, '30회': 203, '31': 204, '31일': 205, '320달러': 206, '34.5': 207, '350': 208, '35년': 209, '365일': 210, '370': 211, '3~4': 212, '3~4일': 213, '3~5%': 214, '3~5일': 215, '3년': 216, '3시': 217, '3시간': 218, '3월': 219, '3일': 220, '3천': 221, '4': 222, '4%': 223, '4,000달러': 224, '4.99달러': 225, '40': 226, '40%': 227, '40,000달러': 228, '4000': 229, '400달러': 230, '404': 231, '40만': 232, '40분': 233, '40초': 234, '420': 235, '45.5': 236, '450': 237, '45만': 238, '45분': 239, '475달러': 240, '48시간': 241, '4달러': 242, '4시': 243, '4시간': 244, '4월': 245, '4일': 246, '5': 247, '5%': 248, '5,200': 249, '5.0': 250, '50': 251, '50%': 252, '50,000,000': 253, '50,000,000달러': 254, '50,000달러': 255, '50-60%': 256, '500': 257, '500,000': 258, '500,000원': 259, '500달러': 260, '500만': 261, '500만원': 262, '50달러': 263, '50만': 264, '50분': 265, '50억': 266, '51.5': 267, '52': 268, '55,000원': 269, '550': 270, '550달러': 271, '58,000,000달러': 272, '5900달러': 273, '5년': 274, '5달러': 275, '5만': 276, '5분': 277, '5시': 278, '5월': 279, '5일': 280, '6': 281, '6%': 282, '6.4': 283, '60': 284, '600만': 285, '60~90분': 286, '60만': 287, '60일': 288, '60초': 289, '63': 290, '6시': 291, '6월': 292, '6일': 293, '7': 294, '7%': 295, '7,000달러': 296, '7,200': 297, '70': 298, '700달러': 299, '70달러': 300, '72': 301, '75%': 302, '750': 303, '7500': 304, '7500만원': 305, '750달러': 306, '7~10일': 307, '7~8시간': 308, '7시': 309, '7월': 310, '7일': 311, '8': 312, '8%': 313, '8,000달러': 314, '8,400달러': 315, '80%': 316, '800': 317, '80달러': 318, '8~9': 319, '8달러': 320, '8만': 321, '8시': 322, '8월': 323, '8일': 324, '8회': 325, '9': 326, '9,500달러': 327, '9.99달러': 328, '900달러': 329, '90만': 330, '90분': 331, '93': 332, '99%': 333, '9:16': 334, '9만': 335, '9시': 336, '9월': 337, '9일': 338, ';': 339, '?': 340, '?\"': 341, 'A': 342, 'AAA': 343, 'AAA1@BBB1.com': 344, 'AAA@BBB.com': 345, 'ABCDE': 346, 'AI': 347, 'ANR': 348, 'ATM': 349, 'Associates': 350, 'B': 351, 'BBB': 352, 'BBB@email.com': 353, 'BSE': 354, 'Bank': 355, 'C': 356, 'CCTV': 357, 'CEO': 358, 'CFM': 359, 'CMS': 360, 'COVID': 361, 'CSS': 362, 'CT': 363, 'Company': 364, 'Corporation': 365, 'D': 366, 'DCA': 367, 'DVR': 368, 'Drive': 369, 'E': 370, 'EOB': 371, 'EPP': 372, 'ESG': 373, 'ETF': 374, 'EVA': 375, 'Enter': 376, 'Expo': 377, 'FFF': 378, 'FFFF': 379, 'FOMO': 380, 'Fair': 381, 'Fi': 382, 'Food': 383, 'Fu': 384, 'G': 385, 'GB': 386, 'GPS': 387, 'GVWR': 388, 'HDD': 389, 'HTML': 390, 'ID': 391, 'IP': 392, 'IPO': 393, 'IT': 394, 'IVR': 395, 'IaaS': 396, 'International': 397, 'IoT': 398, 'JLPT': 399, 'K': 400, 'Kabsat': 401, 'Korea': 402, 'LED': 403, 'Limited': 404, 'Locust': 405, 'M': 406, 'MAR': 407, 'MMS': 408, 'MOU': 409, 'Medical': 410, 'NFT': 411, 'NI': 412, 'NSE': 413, 'NTFS': 414, 'PDA': 415, 'PDF': 416, 'PPE': 417, 'PRO': 418, 'PSA': 419, 'PVP': 420, 'Precision': 421, 'Private': 422, 'QR': 423, 'RAM': 424, 'ROI': 425, 'RV': 426, 'SD': 427, 'SEO': 428, 'SIM': 429, 'SKU': 430, 'SNS': 431, 'SPV': 432, 'SSD': 433, 'SSL': 434, 'Salalah': 435, 'South': 436, 'TPU': 437, 'TV': 438, 'Touch': 439, 'UI': 440, 'UN': 441, 'USB': 442, 'VC': 443, 'VIP': 444, 'VPN': 445, 'VR': 446, 'VVIP': 447, 'View': 448, 'WIFI': 449, 'WTO': 450, 'Web': 451, 'Wi': 452, 'by': 453, 'car': 454, 'cm': 455, 'demat': 456, 'e': 457, 'found': 458, 'km': 459, 'm': 460, 'mm': 461, 'mmHg': 462, 'not': 463, 'pdf': 464, 'x': 465, '㎡': 466, '가': 467, '가게': 468, '가게용': 469, '가겠습니다': 470, '가격': 471, '가격표': 472, '가고': 473, '가공': 474, '가교': 475, '가구': 476, '가급적': 477, '가기': 478, '가까운': 479, '가까워요': 480, '가까워지니까': 481, '가까이': 482, '가깝고': 483, '가깝기': 484, '가깝진': 485, '가꾸기': 486, '가끔': 487, '가는': 488, '가능': 489, '가능성': 490, '가능하게': 491, '가능하고': 492, '가능하기를': 493, '가능하니까': 494, '가능하다는': 495, '가능하다면': 496, '가능하세요': 497, '가능하시니': 498, '가능하신': 499, '가능하신가요': 500, '가능하십니까': 501, '가능하십니다': 502, '가능하지': 503, '가능하지만': 504, '가능한': 505, '가능한가요': 506, '가능한데': 507, '가능한지': 508, '가능할': 509, '가능할까': 510, '가능합니까': 511, '가능합니다': 512, '가능해요': 513, '가닥': 514, '가득': 515, '가득해': 516, '가든': 517, '가려고': 518, '가령': 519, '가로': 520, '가르쳐': 521, '가르치고': 522, '가르칠': 523, '가를': 524, '가리키기만': 525, '가면': 526, '가미': 527, '가벼운': 528, '가변': 529, '가본': 530, '가봐야': 531, '가상': 532, '가상화': 533, '가서': 534, '가세': 535, '가셨나요': 536, '가소성': 537, '가솔린': 538, '가스': 539, '가스나': 540, '가스레인지': 541, '가슴': 542, '가시': 543, '가시나요': 544, '가야': 545, '가에': 546, '가열': 547, '가옥': 548, '가요': 549, '가용성': 550, '가을': 551, '가의': 552, '가이드': 553, '가이드북': 554, '가입': 555, '가입자': 556, '가장': 557, '가전': 558, '가전제품': 559, '가정': 560, '가정식': 561, '가젯': 562, '가져': 563, '가져가거든요': 564, '가져가면': 565, '가져가실': 566, '가져갈': 567, '가져갈게요': 568, '가져다': 569, '가져다주다니': 570, '가져다주세요': 571, '가져다주실': 572, '가져야': 573, '가져오겠습니다': 574, '가져오셔도': 575, '가져올게요': 576, '가져옵니다': 577, '가져와야': 578, '가져왔어': 579, '가져왔어요': 580, '가져주셔서': 581, '가졌습니다': 582, '가족': 583, '가지': 584, '가지는': 585, '가지러': 586, '가지실': 587, '가진': 588, '가질': 589, '가집니다': 590, '가차': 591, '가치': 592, '가판': 593, '각': 594, '각각': 595, '각국': 596, '각도': 597, '각본': 598, '각서': 599, '각자': 600, '각종': 601, '간': 602, '간격': 603, '간결하고': 604, '간과': 605, '간극': 606, '간단하지만': 607, '간단한': 608, '간단합니까': 609, '간단합니다': 610, '간단해': 611, '간단히': 612, '간략하게': 613, '간략한': 614, '간략히': 615, '간사': 616, '간은': 617, '간의': 618, '간이며': 619, '간장': 620, '간접비': 621, '간주': 622, '간행물': 623, '간호사': 624, '갇혀': 625, '갈': 626, '갈래': 627, '갈비': 628, '갈아탄': 629, '감': 630, '감당': 631, '감독': 632, '감동': 633, '감명': 634, '감사': 635, '감사하겠습니다': 636, '감사하고': 637, '감사하다고': 638, '감사한데요': 639, '감사할': 640, '감사합니다': 641, '감사합니다만': 642, '감사해야': 643, '감사해요': 644, '감소': 645, '감수': 646, '감시': 647, '감싸고': 648, '감안': 649, '감염': 650, '감정': 651, '감지': 652, '갑니다': 653, '갑자기': 654, '갑작스러운': 655, '갑작스럽게': 656, '값': 657, '갓': 658, '갔다': 659, '갔습니다': 660, '갔어요': 661, '갔을': 662, '강남': 663, '강남역': 664, '강도': 665, '강력하게': 666, '강력한': 667, '강력합니다': 668, '강력히': 669, '강릉': 670, '강세': 671, '강아지': 672, '강연': 673, '강의': 674, '강의실': 675, '강점': 676, '강제': 677, '강조': 678, '강좌': 679, '강철': 680, '강합니다': 681, '강해질': 682, '강화하기': 683, '강화하며': 684, '강화합니다': 685, '강화해야': 686, '강화했습니다': 687, '갖게': 688, '갖고': 689, '갖는': 690, '갖다': 691, '갖자': 692, '갖죠': 693, '갖추고': 694, '갖추면': 695, '갖추어져': 696, '갖춘': 697, '갖춰져': 698, '같고': 699, '같군요': 700, '같나요': 701, '같네요': 702, '같다고': 703, '같습니까': 704, '같습니다': 705, '같아': 706, '같아서': 707, '같아서요': 708, '같아요': 709, '같았습니다': 710, '같으니': 711, '같은': 712, '같은가요': 713, '같은데': 714, '같은데요': 715, '같은지': 716, '같을까요': 717, '같이': 718, '같지': 719, '같지는': 720, '같지만': 721, '갚겠습니다': 722, '갚기': 723, '갚기만': 724, '갚는': 725, '갚아야': 726, '갚으셔야': 727, '갚으실': 728, '갚을': 729, '갚지': 730, '개': 731, '개구': 732, '개국': 733, '개념': 734, '개는': 735, '개당': 736, '개도': 737, '개면': 738, '개발': 739, '개발자': 740, '개방': 741, '개별': 742, '개봉': 743, '개선': 744, '개설': 745, '개시': 746, '개업': 747, '개요': 748, '개월': 749, '개월치': 750, '개인': 751, '개인실': 752, '개인정보': 753, '개인화': 754, '개입': 755, '개정': 756, '개조': 757, '개척': 758, '개체': 759, '개최': 760, '개회': 761, '객': 762, '객관': 763, '객실': 764, '갱신': 765, '거': 766, '거고': 767, '거기': 768, '거나': 769, '거대한': 770, '거도': 771, '거든요': 772, '거뜬히': 773, '거란': 774, '거래': 775, '거래소': 776, '거래처': 777, '거론': 778, '거리': 779, '거버넌스': 780, '거부': 781, '거셨나': 782, '거슬러': 783, '거신': 784, '거실': 785, '거야': 786, '거의': 787, '거절': 788, '거점': 789, '거주': 790, '거주지': 791, '거처': 792, '거쳤습니다': 793, '거품': 794, '걱정': 795, '걱정거리': 796, '건': 797, '건가': 798, '건강': 799, '건강하고': 800, '건강한': 801, '건강합니다': 802, '건강히': 803, '건너지': 804, '건너편': 805, '건네줄': 806, '건대': 807, '건데': 808, '건물': 809, '건배': 810, '건설': 811, '건설업': 812, '건의': 813, '건조기': 814, '건지': 815, '건축': 816, '건축물': 817, '걸': 818, '걸게': 819, '걸고': 820, '걸기': 821, '걸기를': 822, '걸까': 823, '걸려': 824, '걸려서': 825, '걸려오는': 826, '걸려요': 827, '걸리겠네요': 828, '걸리나요': 829, '걸리는': 830, '걸리는지': 831, '걸리면': 832, '걸리지': 833, '걸리지만': 834, '걸린다고': 835, '걸릴': 836, '걸릴까': 837, '걸립니까': 838, '걸립니다': 839, '걸어': 840, '걸어서': 841, '걸어야': 842, '걸어주세요': 843, '걸었습니다': 844, '걸었어요': 845, '걸었지만': 846, '걸음걸이': 847, '걸쭉한': 848, '걸쳐': 849, '걸쳐서': 850, '검': 851, '검게': 852, '검사': 853, '검색': 854, '검수': 855, '검안': 856, '검은색': 857, '검증': 858, '검토': 859, '겁': 860, '겁니다': 861, '것': 862, '것이므': 863, '것입': 864, '게': 865, '게다가': 866, '게스트': 867, '게스트하우스': 868, '게시': 869, '게시판': 870, '게으르다고': 871, '게이': 872, '게이트': 873, '게임': 874, '게장': 875, '게재': 876, '겠네요': 877, '겠습니다': 878, '겨울': 879, '겨울철': 880, '격려': 881, '격식': 882, '격자': 883, '겪고': 884, '겪었는지': 885, '겪었어요': 886, '겪었으므로': 887, '겪으셨던': 888, '겪을': 889, '견과류': 890, '견본': 891, '견인차': 892, '견적': 893, '견학': 894, '결과': 895, '결국': 896, '결기': 897, '결론': 898, '결절': 899, '결정': 900, '결제': 901, '결코': 902, '결함': 903, '결합': 904, '결혼': 905, '결혼식': 906, '경': 907, '경고': 908, '경과': 909, '경기도': 910, '경량': 911, '경력': 912, '경로': 913, '경보': 914, '경비원': 915, '경시': 916, '경영': 917, '경우': 918, '경의': 919, '경작': 920, '경쟁': 921, '경쟁력': 922, '경쟁자': 923, '경제': 924, '경청': 925, '경치': 926, '경품': 927, '경향': 928, '경험': 929, '곁들이면': 930, '곁들인': 931, '계': 932, '계란': 933, '계란빵': 934, '계란찜': 935, '계산': 936, '계산서': 937, '계세': 938, '계셨나요': 939, '계셨으면': 940, '계속': 941, '계시': 942, '계시길': 943, '계시나요': 944, '계시네요': 945, '계시는가요': 946, '계시다는': 947, '계시다면': 948, '계신': 949, '계신가요': 950, '계신다고': 951, '계신다니': 952, '계신지': 953, '계십니까': 954, '계십니다': 955, '계약': 956, '계약금': 957, '계약서': 958, '계열': 959, '계절': 960, '계정': 961, '계정은': 962, '계좌': 963, '계층': 964, '계획': 965, '고': 966, '고가': 967, '고개': 968, '고객': 969, '고구마': 970, '고귀한': 971, '고급': 972, '고급스러운': 973, '고급스러워': 974, '고급스럽고': 975, '고기': 976, '고대': 977, '고도': 978, '고등어': 979, '고려': 980, '고려인삼': 981, '고르는': 982, '고를': 983, '고마워': 984, '고마워요': 985, '고맙고': 986, '고맙습니다': 987, '고문': 988, '고민': 989, '고소한': 990, '고속': 991, '고압': 992, '고양이': 993, '고여': 994, '고요': 995, '고용': 996, '고용주': 997, '고위': 998, '고유': 999, '고장': 1000, '고정': 1001, '고정기': 1002, '고집': 1003, '고쳐지면': 1004, '고추장': 1005, '고칠': 1006, '고통': 1007, '고프면': 1008, '고향': 1009, '고화질': 1010, '곡': 1011, '곡물': 1012, '곤경': 1013, '곤혹': 1014, '곧': 1015, '곧게': 1016, '골드': 1017, '골랐습니다': 1018, '골프': 1019, '곰팡이': 1020, '곱': 1021, '곳': 1022, '곳곳': 1023, '곳도': 1024, '공': 1025, '공간': 1026, '공감': 1027, '공개': 1028, '공격': 1029, '공공': 1030, '공과금': 1031, '공급': 1032, '공기': 1033, '공기업': 1034, '공동': 1035, '공동체': 1036, '공략': 1037, '공모': 1038, '공백': 1039, '공부': 1040, '공사': 1041, '공식': 1042, '공압': 1043, '공연': 1044, '공용': 1045, '공유': 1046, '공인': 1047, '공자': 1048, '공장': 1049, '공정': 1050, '공정한': 1051, '공제': 1052, '공지': 1053, '공짜': 1054, '공통': 1055, '공통점': 1056, '공학': 1057, '공함': 1058, '공항': 1059, '과': 1060, '과감': 1061, '과거': 1062, '과대': 1063, '과세': 1064, '과소': 1065, '과실': 1066, '과업': 1067, '과의': 1068, '과일': 1069, '과자': 1070, '과장': 1071, '과정': 1072, '과제': 1073, '과학': 1074, '과학자': 1075, '관': 1076, '관계': 1077, '관계없이': 1078, '관광': 1079, '관광객': 1080, '관광지': 1081, '관대해요': 1082, '관련': 1083, '관리': 1084, '관리자': 1085, '관세': 1086, '관세청': 1087, '관습': 1088, '관심': 1089, '관심사': 1090, '관용': 1091, '관점': 1092, '관찰': 1093, '관할': 1094, '관해': 1095, '관행': 1096, '괌': 1097, '광': 1098, '광고': 1099, '광대역': 1100, '광도': 1101, '광범위한': 1102, '광석': 1103, '광택': 1104, '괜': 1105, '괜찮': 1106, '괜찮겠습니까': 1107, '괜찮나요': 1108, '괜찮네요': 1109, '괜찮다면': 1110, '괜찮습니까': 1111, '괜찮습니다': 1112, '괜찮습니다만': 1113, '괜찮아': 1114, '괜찮아요': 1115, '괜찮았습니다': 1116, '괜찮았어요': 1117, '괜찮으세요': 1118, '괜찮으시다면': 1119, '괜찮으시면': 1120, '괜찮으신': 1121, '괜찮으실까': 1122, '괜찮은': 1123, '괜찮은가요': 1124, '괜찮을': 1125, '괜찮을까요': 1126, '괴롭히는': 1127, '굉장하네요': 1128, '굉장히': 1129, '교대': 1130, '교류': 1131, '교사': 1132, '교수': 1133, '교실': 1134, '교육': 1135, '교재': 1136, '교직원': 1137, '교체': 1138, '교통': 1139, '교환': 1140, '교환학생': 1141, '교훈': 1142, '구': 1143, '구가': 1144, '구경': 1145, '구독': 1146, '구독료': 1147, '구동': 1148, '구름': 1149, '구매': 1150, '구별': 1151, '구비': 1152, '구상': 1153, '구석구석': 1154, '구성': 1155, '구역': 1156, '구워': 1157, '구워내는': 1158, '구이': 1159, '구입': 1160, '구절판': 1161, '구조': 1162, '구조원': 1163, '구체': 1164, '구축': 1165, '구축함': 1166, '구현': 1167, '구형': 1168, '국': 1169, '국가': 1170, '국경': 1171, '국내': 1172, '국내선': 1173, '국내외': 1174, '국물': 1175, '국법': 1176, '국수': 1177, '국적': 1178, '국제': 1179, '국제공항': 1180, '국한': 1181, '군': 1182, '군데': 1183, '굴삭기': 1184, '굴착기': 1185, '굵은': 1186, '굽는': 1187, '궁궐': 1188, '궁극': 1189, '궁금하네요': 1190, '궁금하더라고요': 1191, '궁금하신': 1192, '궁금하실': 1193, '궁금한': 1194, '궁금합니다': 1195, '궁금해서': 1196, '궁금해서요': 1197, '궁금해요': 1198, '궁금했어요': 1199, '권': 1200, '권리': 1201, '권장': 1202, '권한': 1203, '권합니다': 1204, '귀': 1205, '귀국': 1206, '귀사': 1207, '귀중': 1208, '귀중한': 1209, '귀하': 1210, '귀하는': 1211, '귀하도': 1212, '귀한': 1213, '규모': 1214, '규정': 1215, '규제': 1216, '규칙': 1217, '균열': 1218, '균형': 1219, '그': 1220, '그거': 1221, '그건': 1222, '그걸': 1223, '그걿': 1224, '그것': 1225, '그게': 1226, '그날': 1227, '그냥': 1228, '그녀': 1229, '그늘': 1230, '그다음': 1231, '그대로': 1232, '그동안': 1233, '그때': 1234, '그땐': 1235, '그라브락스': 1236, '그래': 1237, '그래도': 1238, '그래서': 1239, '그래야겠어요': 1240, '그래요': 1241, '그래프': 1242, '그래픽': 1243, '그랬는데': 1244, '그랬더니': 1245, '그랬듯이': 1246, '그러게요': 1247, '그러기': 1248, '그러나': 1249, '그러는데': 1250, '그러니': 1251, '그러니까': 1252, '그러더라고요': 1253, '그러려고': 1254, '그러려면': 1255, '그러면': 1256, '그러므로': 1257, '그러실': 1258, '그러지': 1259, '그러한': 1260, '그러할': 1261, '그런': 1262, '그런데': 1263, '그런지': 1264, '그럴': 1265, '그럴게요': 1266, '그럼': 1267, '그럼에도': 1268, '그럼요': 1269, '그렇게': 1270, '그렇겠지만': 1271, '그렇고': 1272, '그렇군요': 1273, '그렇기': 1274, '그렇네요': 1275, '그렇다': 1276, '그렇다고': 1277, '그렇다면': 1278, '그렇습니까': 1279, '그렇습니다': 1280, '그렇죠': 1281, '그렇지': 1282, '그렇지만': 1283, '그려요': 1284, '그룹': 1285, '그릇': 1286, '그리': 1287, '그리고': 1288, '그리고는': 1289, '그리스': 1290, '그린': 1291, '그릴': 1292, '그림': 1293, '그만한': 1294, '그저': 1295, '그중': 1296, '극구': 1297, '극복': 1298, '극장': 1299, '극적': 1300, '근거': 1301, '근데': 1302, '근로자': 1303, '근무': 1304, '근원': 1305, '근접하지': 1306, '근처': 1307, '글': 1308, '글꼴': 1309, '글로벌': 1310, '글루텐': 1311, '글쎄': 1312, '글쎄요': 1313, '글씨': 1314, '금': 1315, '금기': 1316, '금년': 1317, '금리': 1318, '금색': 1319, '금속': 1320, '금액': 1321, '금요일': 1322, '금융': 1323, '금융감독원': 1324, '금은': 1325, '금전': 1326, '금제': 1327, '금지': 1328, '급': 1329, '급등': 1330, '급성': 1331, '급여': 1332, '급우': 1333, '급증': 1334, '급하게': 1335, '급하니까': 1336, '급한': 1337, '급히': 1338, '긍정': 1339, '기': 1340, '기가바이트': 1341, '기간': 1342, '기계': 1343, '기공식': 1344, '기관': 1345, '기구': 1346, '기금': 1347, '기기': 1348, '기꺼이': 1349, '기념': 1350, '기념일': 1351, '기는': 1352, '기능': 1353, '기다려': 1354, '기다려도': 1355, '기다려야': 1356, '기다려주세요': 1357, '기다렸습니다': 1358, '기다렸어요': 1359, '기다리게': 1360, '기다리겠습니다': 1361, '기다리고': 1362, '기다리는': 1363, '기다리며': 1364, '기다리셔야': 1365, '기다리셨습니다': 1366, '기다리시면': 1367, '기다리지': 1368, '기다릴': 1369, '기다릴게요': 1370, '기대': 1371, '기대하겠습니다': 1372, '기대하고': 1373, '기대하며': 1374, '기대할': 1375, '기대할게요': 1376, '기대합니다': 1377, '기도': 1378, '기둥': 1379, '기록': 1380, '기를': 1381, '기밀': 1382, '기반': 1383, '기본': 1384, '기부': 1385, '기분': 1386, '기뻐': 1387, '기뻐요': 1388, '기뻤습니다': 1389, '기쁘게': 1390, '기쁘고': 1391, '기쁘네요': 1392, '기쁠': 1393, '기쁩니다': 1394, '기사': 1395, '기숙사': 1396, '기술': 1397, '기술자': 1398, '기어': 1399, '기어는요': 1400, '기억': 1401, '기억나요': 1402, '기억나지': 1403, '기업': 1404, '기업가': 1405, '기업은행': 1406, '기업인': 1407, '기에': 1408, '기여': 1409, '기였죠': 1410, '기온': 1411, '기와': 1412, '기울였습니다': 1413, '기울이고': 1414, '기원': 1415, '기입': 1416, '기자': 1417, '기재': 1418, '기적': 1419, '기존': 1420, '기준': 1421, '기중기': 1422, '기차': 1423, '기차역': 1424, '기차표': 1425, '기초': 1426, '기타': 1427, '기표': 1428, '기한': 1429, '기호': 1430, '기혼': 1431, '기회': 1432, '기획': 1433, '기후변화': 1434, '긴': 1435, '긴급': 1436, '긴급히': 1437, '긴밀하게': 1438, '긴밀히': 1439, '길': 1440, '길다': 1441, '길다고': 1442, '길어질수록': 1443, '길이': 1444, '김': 1445, '김밥': 1446, '김치': 1447, '김치볶음밥': 1448, '깊은': 1449, '깊이': 1450, '까다로운': 1451, '까다로울': 1452, '까맣게': 1453, '까요': 1454, '까지': 1455, '까지는': 1456, '까지로': 1457, '까지만': 1458, '까지의': 1459, '깔끔하고': 1460, '깔린': 1461, '깜박이는': 1462, '깜빡': 1463, '깜짝': 1464, '깨끗하고': 1465, '깨어': 1466, '깨우쳐': 1467, '깨졌다는': 1468, '깨지지': 1469, '깻잎': 1470, '꺼낸': 1471, '꺼져': 1472, '께': 1473, '께서': 1474, '께서는': 1475, '꼭': 1476, '꼼꼼하게': 1477, '꼼꼼히': 1478, '꽉': 1479, '꽤': 1480, '꾸밀': 1481, '꾸준한': 1482, '꾸준히': 1483, '꿀': 1484, '꿈': 1485, '꿰맬': 1486, '끄는': 1487, '끊지': 1488, '끌': 1489, '끌리는': 1490, '끌어': 1491, '끌었습니다': 1492, '끓는': 1493, '끓는점': 1494, '끓이는': 1495, '끔찍한': 1496, '끔찍했습니다': 1497, '끝': 1498, '끝나기': 1499, '끝나길': 1500, '끝나네요': 1501, '끝나면': 1502, '끝날': 1503, '끝납니다': 1504, '끝났나요': 1505, '끝났다': 1506, '끝났으니': 1507, '끝내고': 1508, '끝내기': 1509, '끝내는': 1510, '끝내려고요': 1511, '끝내셨나요': 1512, '끝내야': 1513, '끝내죠': 1514, '끝낼': 1515, '끼쳐': 1516, '끼치지': 1517, '나': 1518, '나가고': 1519, '나가는': 1520, '나갈': 1521, '나갔습니다': 1522, '나나': 1523, '나네요': 1524, '나누고': 1525, '나누면': 1526, '나누면서': 1527, '나누어야': 1528, '나누죠': 1529, '나누지': 1530, '나눈': 1531, '나눌': 1532, '나눠': 1533, '나눠줘도': 1534, '나눴습니다': 1535, '나뉩니다': 1536, '나는지': 1537, '나라': 1538, '나를': 1539, '나머지': 1540, '나면': 1541, '나무': 1542, '나빠졌어요': 1543, '나빠지고': 1544, '나쁘지': 1545, '나쁜': 1546, '나쁠': 1547, '나사': 1548, '나서': 1549, '나서는': 1550, '나아': 1551, '나아가고': 1552, '나아갈': 1553, '나아지게': 1554, '나아지기': 1555, '나열': 1556, '나오기': 1557, '나오나요': 1558, '나오는': 1559, '나오는데': 1560, '나오는지': 1561, '나오죠': 1562, '나오지': 1563, '나온': 1564, '나올': 1565, '나옵니다': 1566, '나와': 1567, '나와서': 1568, '나와요': 1569, '나와있나요': 1570, '나와있는': 1571, '나왔으면': 1572, '나으실': 1573, '나은': 1574, '나은지': 1575, '나을': 1576, '나이': 1577, '나이라': 1578, '나이지리아': 1579, '나이트클럽': 1580, '나일론': 1581, '나중': 1582, '나타나지': 1583, '나타났습니다': 1584, '나타났어요': 1585, '나타내는': 1586, '나타냅니다': 1587, '나흘': 1588, '난': 1589, '난방': 1590, '난이도': 1591, '날': 1592, '날리의': 1593, '날씨': 1594, '날아가서': 1595, '날아간': 1596, '날짜': 1597, '날카로워졌습니다': 1598, '남겨': 1599, '남길': 1600, '남동쪽': 1601, '남미': 1602, '남성': 1603, '남아': 1604, '남아시아': 1605, '남았나요': 1606, '남았습니다': 1607, '남았어요': 1608, '남았으니': 1609, '남용': 1610, '남은': 1611, '남지': 1612, '남편': 1613, '납니다': 1614, '납부': 1615, '납품': 1616, '낫': 1617, '낫겠어요': 1618, '낫나요': 1619, '낫다': 1620, '낫습니다': 1621, '났습니다': 1622, '났을': 1623, '낭비': 1624, '낭비할': 1625, '낮기': 1626, '낮습니다': 1627, '낮아요': 1628, '낮아지죠': 1629, '낮은': 1630, '낮잠': 1631, '낮추겠습니다': 1632, '낮출': 1633, '낮춰': 1634, '낮춰야': 1635, '낯설게': 1636, '내': 1637, '내고': 1638, '내기': 1639, '내내': 1640, '내년': 1641, '내놓으면': 1642, '내놓을': 1643, '내는': 1644, '내려간다고': 1645, '내려오는': 1646, '내렸습니다': 1647, '내리게': 1648, '내리겠습니다': 1649, '내리는': 1650, '내린': 1651, '내릴': 1652, '내면': 1653, '내밀어': 1654, '내부': 1655, '내서': 1656, '내셔야': 1657, '내시': 1658, '내야': 1659, '내어': 1660, '내연': 1661, '내용': 1662, '내일': 1663, '내장': 1664, '내주셔서': 1665, '내주시고': 1666, '내주시면': 1667, '내지': 1668, '낸': 1669, '낸다는': 1670, '낸싱': 1671, '낼': 1672, '냄비': 1673, '냅니다': 1674, '냅킨': 1675, '냈습니까': 1676, '냉각': 1677, '냉동고': 1678, '냉면': 1679, '냉장': 1680, '너': 1681, '너무': 1682, '너무나': 1683, '너무해': 1684, '너비': 1685, '너희': 1686, '널': 1687, '널리': 1688, '넓기만': 1689, '넓습니다': 1690, '넓어서': 1691, '넓으니': 1692, '넓은': 1693, '넓은가요': 1694, '넓히고': 1695, '넘게': 1696, '넘기시면': 1697, '넘는': 1698, '넘버': 1699, '넘습니다': 1700, '넘어가겠습니다': 1701, '넘어갈': 1702, '넘어갑시다': 1703, '넘어설': 1704, '넘어지거나': 1705, '넘었고': 1706, '넘었습니다': 1707, '넘으면': 1708, '넘쳐나는': 1709, '넘치시네요': 1710, '넣기': 1711, '넣는': 1712, '넣어': 1713, '넣어서': 1714, '넣어야': 1715, '넣었다': 1716, '넣을': 1717, '넣지': 1718, '네': 1719, '네가지': 1720, '네트워크': 1721, '네트워킹': 1722, '넷째': 1723, '년': 1724, '노': 1725, '노고': 1726, '노동자': 1727, '노란색': 1728, '노래': 1729, '노래방': 1730, '노력': 1731, '노인': 1732, '노점': 1733, '노출': 1734, '노트북': 1735, '노프': 1736, '녹색': 1737, '녹음': 1738, '녹이게': 1739, '녹차': 1740, '녹화': 1741, '논란': 1742, '논문': 1743, '논의': 1744, '논픽션': 1745, '놀': 1746, '놀라긴': 1747, '놀라운': 1748, '놀라워요': 1749, '놀랄': 1750, '놀랍군요': 1751, '놀랍습니다': 1752, '놀랍죠': 1753, '놀랐습니다': 1754, '놀랐어요': 1755, '놀랐지만': 1756, '놀이터': 1757, '농': 1758, '농기': 1759, '농기구': 1760, '농담': 1761, '농부': 1762, '농어': 1763, '농업': 1764, '농작물': 1765, '높다고': 1766, '높습니까': 1767, '높습니다': 1768, '높아서': 1769, '높아요': 1770, '높아져': 1771, '높아집니다': 1772, '높였습니다': 1773, '높으면': 1774, '높은': 1775, '높을': 1776, '높을수록': 1777, '높이': 1778, '높이기': 1779, '높이는': 1780, '높이려면': 1781, '놓아야': 1782, '놓았으니': 1783, '놓았으며': 1784, '놓을': 1785, '놓을게요': 1786, '놓이네요': 1787, '놓쳐': 1788, '놓쳤을': 1789, '놓치는': 1790, '놓치지': 1791, '놓친': 1792, '뇌파': 1793, '누가': 1794, '누구': 1795, '누구신지': 1796, '누군가': 1797, '누군지': 1798, '누락': 1799, '누려': 1800, '누르는데': 1801, '누르면': 1802, '누르세요': 1803, '누르시면': 1804, '누리': 1805, '누릴': 1806, '누수': 1807, '눈': 1808, '눌러야': 1809, '눌렀어요': 1810, '눌릴': 1811, '뉴스': 1812, '뉴스레터': 1813, '뉴욕': 1814, '뉴질랜드': 1815, '느껴져요': 1816, '느껴지네요': 1817, '느껴지실지': 1818, '느껴지지': 1819, '느끼기': 1820, '느끼지': 1821, '느낄': 1822, '느낌': 1823, '느낍니다': 1824, '느리게': 1825, '느리며': 1826, '느리면': 1827, '느린': 1828, '느슨한': 1829, '는': 1830, '늘': 1831, '늘리고': 1832, '늘리기': 1833, '늘리는': 1834, '늘릴': 1835, '늘어나고': 1836, '늘어나는': 1837, '늘어납니다': 1838, '늘어났습니다': 1839, '늙어가고': 1840, '능력': 1841, '늦': 1842, '늦어서': 1843, '늦어진': 1844, '늦었으니': 1845, '늦었음에도': 1846, '늦은': 1847, '니': 1848, '니까': 1849, '님': 1850, '다': 1851, '다가': 1852, '다가갈': 1853, '다가오는': 1854, '다국적': 1855, '다녀오겠습니다': 1856, '다녀왔습니다': 1857, '다년': 1858, '다니는': 1859, '다단계': 1860, '다도': 1861, '다듬을': 1862, '다량': 1863, '다루고': 1864, '다루는': 1865, '다루어': 1866, '다루어질': 1867, '다루죠': 1868, '다룰': 1869, '다룹니다': 1870, '다뤄야': 1871, '다르게': 1872, '다르겠지만': 1873, '다르고': 1874, '다르니까': 1875, '다르다는': 1876, '다르므로': 1877, '다르죠': 1878, '다르지': 1879, '다르지만': 1880, '다른': 1881, '다를': 1882, '다름이': 1883, '다릅니까': 1884, '다릅니다': 1885, '다리미': 1886, '다만': 1887, '다섯': 1888, '다섯째': 1889, '다소': 1890, '다시': 1891, '다시는': 1892, '다양성': 1893, '다양하게': 1894, '다양한': 1895, '다양합니까': 1896, '다양합니다': 1897, '다양해요': 1898, '다용': 1899, '다운': 1900, '다운로드': 1901, '다음': 1902, '다음주': 1903, '다이닝': 1904, '다인': 1905, '다채로웠으': 1906, '다큐멘터리': 1907, '다해': 1908, '다행': 1909, '다행히': 1910, '단': 1911, '단가': 1912, '단거리': 1913, '단계': 1914, '단골': 1915, '단기': 1916, '단기간': 1917, '단단한': 1918, '단독': 1919, '단돈': 1920, '단말기': 1921, '단백질': 1922, '단순하게': 1923, '단순하고': 1924, '단순한': 1925, '단순해요': 1926, '단순히': 1927, '단어': 1928, '단열': 1929, '단위': 1930, '단일': 1931, '단점': 1932, '단정하게': 1933, '단지': 1934, '단체': 1935, '단편': 1936, '단합': 1937, '닫습니다': 1938, '닫을': 1939, '달': 1940, '달라': 1941, '달라지기': 1942, '달라질': 1943, '달라집니다': 1944, '달러': 1945, '달려': 1946, '달려있습니다': 1947, '달리': 1948, '달린': 1949, '달성': 1950, '달았으면': 1951, '달이': 1952, '달콤한': 1953, '닭': 1954, '닭고기': 1955, '닭발': 1956, '담': 1957, '담가': 1958, '담겨': 1959, '담고': 1960, '담당': 1961, '담당자': 1962, '담배': 1963, '담백한': 1964, '담보': 1965, '담아': 1966, '담은': 1967, '답': 1968, '답니': 1969, '답답했지만': 1970, '답변': 1971, '답장': 1972, '답지': 1973, '당': 1974, '당국': 1975, '당근': 1976, '당분간': 1977, '당사': 1978, '당사자': 1979, '당시': 1980, '당신': 1981, '당연하죠': 1982, '당연한': 1983, '당연합니다': 1984, '당연히': 1985, '당일': 1986, '당장': 1987, '당하지': 1988, '당할': 1989, '당황': 1990, '대': 1991, '대가': 1992, '대고': 1993, '대구': 1994, '대규모': 1995, '대금': 1996, '대기': 1997, '대기업': 1998, '대나무': 1999, '대다수': 2000, '대단하네요': 2001, '대단한': 2002, '대단합니다': 2003, '대단히': 2004, '대답': 2005, '대략': 2006, '대량': 2007, '대로': 2008, '대륙': 2009, '대를': 2010, '대리인': 2011, '대리점': 2012, '대만': 2013, '대박': 2014, '대본': 2015, '대부분': 2016, '대비': 2017, '대상': 2018, '대상자': 2019, '대신': 2020, '대안': 2021, '대야': 2022, '대에': 2023, '대에는': 2024, '대여': 2025, '대역': 2026, '대역폭': 2027, '대와': 2028, '대요': 2029, '대유행': 2030, '대응': 2031, '대의': 2032, '대입': 2033, '대적': 2034, '대접': 2035, '대중': 2036, '대지': 2037, '대책': 2038, '대처': 2039, '대체': 2040, '대출': 2041, '대출받을': 2042, '대충': 2043, '대치': 2044, '대칭': 2045, '대통령': 2046, '대폭': 2047, '대표': 2048, '대피소': 2049, '대학': 2050, '대학교': 2051, '대한': 2052, '대한민국': 2053, '대해': 2054, '대행': 2055, '대형': 2056, '대화': 2057, '댓글': 2058, '더': 2059, '더뎌지게': 2060, '더듬거나': 2061, '더라도': 2062, '더블': 2063, '더욱': 2064, '더위': 2065, '더하고': 2066, '더하면': 2067, '덕분': 2068, '덜': 2069, '덜고': 2070, '덜어줄': 2071, '덤프': 2072, '덤프트럭': 2073, '덥습니다': 2074, '덧붙여서': 2075, '덧붙일게요': 2076, '덩굴': 2077, '데': 2078, '데도': 2079, '데려': 2080, '데려갈': 2081, '데려갑니다': 2082, '데려오고': 2083, '데리': 2084, '데모': 2085, '데뷔': 2086, '데스크': 2087, '데스크탑': 2088, '데워': 2089, '데이터': 2090, '데이터베이스': 2091, '데이트': 2092, '데코': 2093, '데크': 2094, '덴마크': 2095, '도': 2096, '도구': 2097, '도넛': 2098, '도달': 2099, '도대체': 2100, '도로': 2101, '도록': 2102, '도를': 2103, '도매': 2104, '도메인': 2105, '도서관': 2106, '도시': 2107, '도시락': 2108, '도안': 2109, '도어': 2110, '도와주나요': 2111, '도와주는': 2112, '도와주셔서': 2113, '도와주셨으면': 2114, '도와주시겠어요': 2115, '도와주실': 2116, '도와주십시오': 2117, '도와주죠': 2118, '도와줄': 2119, '도와줄게요': 2120, '도와줬으면': 2121, '도용': 2122, '도우': 2123, '도우미': 2124, '도울': 2125, '도움': 2126, '도움말': 2127, '도입': 2128, '도전': 2129, '도착': 2130, '도체': 2131, '도쿄': 2132, '독립': 2133, '독방': 2134, '독일': 2135, '독자': 2136, '독점': 2137, '독촉': 2138, '독특한': 2139, '독특합니다': 2140, '돈': 2141, '돈벌이': 2142, '돋보이게': 2143, '돋보일': 2144, '돌려': 2145, '돌려서': 2146, '돌려야': 2147, '돌려주세요': 2148, '돌볼': 2149, '돌봐': 2150, '돌아가게': 2151, '돌아가는지': 2152, '돌아가라고': 2153, '돌아가면': 2154, '돌아가죠': 2155, '돌아갑니다': 2156, '돌아오겠습니다': 2157, '돌아오시는': 2158, '돌아온': 2159, '돌아올': 2160, '돌아올지': 2161, '돌잔치': 2162, '돌파': 2163, '돔': 2164, '돕고': 2165, '돕기': 2166, '돕는': 2167, '돕습니다': 2168, '동': 2169, '동감': 2170, '동거': 2171, '동기': 2172, '동남아시아': 2173, '동네': 2174, '동등': 2175, '동료': 2176, '동물': 2177, '동물성': 2178, '동반': 2179, '동부': 2180, '동생': 2181, '동시': 2182, '동안': 2183, '동양': 2184, '동영상': 2185, '동의': 2186, '동인': 2187, '동일': 2188, '동일시': 2189, '동일하지': 2190, '동일한': 2191, '동일한가요': 2192, '동일합니다': 2193, '동일해요': 2194, '동전': 2195, '동참': 2196, '동행': 2197, '동향': 2198, '돼': 2199, '돼가나요': 2200, '돼서': 2201, '돼요': 2202, '돼지': 2203, '돼지고기': 2204, '됐고': 2205, '됐네요': 2206, '됐는지': 2207, '됐습니다': 2208, '됐어요': 2209, '됐으면': 2210, '됐을': 2211, '됐죠': 2212, '되': 2213, '되거든요': 2214, '되게': 2215, '되겠네요': 2216, '되겠습니다': 2217, '되겠으니': 2218, '되겠죠': 2219, '되고': 2220, '되기': 2221, '되기까지': 2222, '되길': 2223, '되나요': 2224, '되네요': 2225, '되는': 2226, '되는거죠': 2227, '되는군요': 2228, '되는데': 2229, '되는데요': 2230, '되는지': 2231, '되더라고요': 2232, '되도록': 2233, '되돌릴': 2234, '되려면': 2235, '되며': 2236, '되면': 2237, '되므로': 2238, '되세요': 2239, '되셔서': 2240, '되셨다면': 2241, '되셨습니까': 2242, '되시고': 2243, '되시길': 2244, '되시나요': 2245, '되시죠': 2246, '되신': 2247, '되실': 2248, '되십시오': 2249, '되어': 2250, '되어가는지': 2251, '되어도': 2252, '되어서': 2253, '되어서는': 2254, '되어서요': 2255, '되어야': 2256, '되어요': 2257, '되어있었어요': 2258, '되어주셔서': 2259, '되었': 2260, '되었고': 2261, '되었기': 2262, '되었나요': 2263, '되었네요': 2264, '되었는지': 2265, '되었다고': 2266, '되었다는': 2267, '되었습니다': 2268, '되었어요': 2269, '되었으며': 2270, '되었으면': 2271, '되었으므로': 2272, '되었을': 2273, '되었음': 2274, '되었죠': 2275, '되죠': 2276, '되지': 2277, '되지는': 2278, '되지만': 2279, '되지요': 2280, '되찾지': 2281, '된': 2282, '된다': 2283, '된다고': 2284, '된다는': 2285, '된다면': 2286, '된답니다': 2287, '될': 2288, '될까': 2289, '됨에': 2290, '됩니까': 2291, '됩니다': 2292, '두': 2293, '두겠습니다': 2294, '두겠으며': 2295, '두고': 2296, '두기': 2297, '두꺼운': 2298, '두드렸어요': 2299, '두려워': 2300, '두세요': 2301, '두셔야': 2302, '두셨으면': 2303, '두시': 2304, '두시겠어요': 2305, '두었기': 2306, '두었는데': 2307, '두었다가': 2308, '두었습니다': 2309, '두운': 2310, '두지': 2311, '둔': 2312, '둘': 2313, '둘러보세요': 2314, '둘러싸고': 2315, '둘째': 2316, '둡니다': 2317, '둬야': 2318, '둬요': 2319, '뒀습니다': 2320, '뒀어요': 2321, '뒤': 2322, '뒷': 2323, '뒷마당': 2324, '뒷받침': 2325, '듀얼': 2326, '드': 2327, '드나': 2328, '드는': 2329, '드는지': 2330, '드디어': 2331, '드라마': 2332, '드라이브': 2333, '드러났습니까': 2334, '드럼': 2335, '드레스': 2336, '드레싱': 2337, '드려': 2338, '드려도': 2339, '드려서': 2340, '드려야': 2341, '드려야겠네요': 2342, '드려요': 2343, '드렸는데': 2344, '드렸다니': 2345, '드렸던': 2346, '드렸습니다': 2347, '드렸습니다만': 2348, '드렸어요': 2349, '드렸었는데': 2350, '드렸으니': 2351, '드렸으며': 2352, '드렸잖아요': 2353, '드렸지만': 2354, '드로잉': 2355, '드리게': 2356, '드리겠고': 2357, '드리겠다고': 2358, '드리겠습니다': 2359, '드리겠습니다만': 2360, '드리겠어요': 2361, '드리겠지만': 2362, '드리고': 2363, '드리고자': 2364, '드리기': 2365, '드리기로': 2366, '드리길': 2367, '드리는': 2368, '드리도록': 2369, '드리려': 2370, '드리려고': 2371, '드리며': 2372, '드리면': 2373, '드리지': 2374, '드린': 2375, '드릴': 2376, '드릴게요': 2377, '드릴께요': 2378, '드릴테니': 2379, '드립니다': 2380, '드세요': 2381, '드셔': 2382, '드셨나요': 2383, '드셨다니': 2384, '드셨다면': 2385, '드셨으면': 2386, '드시겠습니까': 2387, '드시겠어요': 2388, '드시고': 2389, '드시길': 2390, '드시나요': 2391, '드실': 2392, '드실거라': 2393, '드실래요': 2394, '드십니까': 2395, '든': 2396, '든지': 2397, '듣게': 2398, '듣고': 2399, '듣기': 2400, '듣네요': 2401, '듣는': 2402, '듣다': 2403, '듣던': 2404, '듣도록': 2405, '듣지': 2406, '들': 2407, '들거나': 2408, '들고': 2409, '들까': 2410, '들께': 2411, '들떠있어요': 2412, '들려요': 2413, '들려주셨어요': 2414, '들렸습니다': 2415, '들를': 2416, '들리겠지만': 2417, '들리고': 2418, '들리긴': 2419, '들리네요': 2420, '들리는데': 2421, '들리는데요': 2422, '들리시나요': 2423, '들리지만': 2424, '들릴지': 2425, '들립니다': 2426, '들면': 2427, '들어': 2428, '들어가거든요': 2429, '들어가고': 2430, '들어가는데': 2431, '들어가든': 2432, '들어가야': 2433, '들어갈': 2434, '들어갑니다': 2435, '들어서': 2436, '들어야': 2437, '들어오면': 2438, '들어올': 2439, '들어왔습니다': 2440, '들어왔어요': 2441, '들어요': 2442, '들어있나요': 2443, '들어있습니다': 2444, '들어주셔서': 2445, '들어주시고': 2446, '들어준다면': 2447, '들었고': 2448, '들었는데': 2449, '들었는데요': 2450, '들었습니다': 2451, '들었어요': 2452, '들었으니': 2453, '들였습니다': 2454, '들으니': 2455, '들으세요': 2456, '들으셨나요': 2457, '들은': 2458, '들을': 2459, '들이': 2460, '들이죠': 2461, '들일': 2462, '들입니다': 2463, '들자면': 2464, '들지': 2465, '듭': 2466, '듭니': 2467, '등': 2468, '등급': 2469, '등등': 2470, '등록': 2471, '등록증': 2472, '등본': 2473, '등장': 2474, '디네': 2475, '디럭스': 2476, '디바이스': 2477, '디스크': 2478, '디스플레이': 2479, '디시': 2480, '디자이너': 2481, '디자인': 2482, '디저스터': 2483, '디저트': 2484, '디젤': 2485, '디지털': 2486, '디지털로': 2487, '딜러': 2488, '딥': 2489, '딩기': 2490, '따냈습니다': 2491, '따뜻하게': 2492, '따뜻한': 2493, '따라': 2494, '따라가고': 2495, '따라서': 2496, '따라야': 2497, '따라오세요': 2498, '따라주세요': 2499, '따로': 2500, '따르고': 2501, '따르고자': 2502, '따르기': 2503, '따르는': 2504, '따르는지': 2505, '따르면': 2506, '따른': 2507, '따를게요': 2508, '딱': 2509, '딱입니다': 2510, '딸린': 2511, '땀': 2512, '때': 2513, '때때로': 2514, '때로는': 2515, '때문': 2516, '떠나지': 2517, '떠올랐는데': 2518, '떡': 2519, '떡볶이': 2520, '떨고': 2521, '떨어뜨리지': 2522, '떨어져': 2523, '떨어졌거든요': 2524, '떨어졌기': 2525, '떨어졌나요': 2526, '떨어지고': 2527, '떨어지는': 2528, '떨어지면': 2529, '떨어지지': 2530, '떨어진': 2531, '떨어질': 2532, '떨어집니다': 2533, '떨지': 2534, '또': 2535, '또는': 2536, '또래': 2537, '또한': 2538, '똑같고': 2539, '똑같습니다': 2540, '똑똑한': 2541, '똑바로': 2542, '뚜렷한': 2543, '뛰어난': 2544, '뛰어납니다': 2545, '뛰어들고': 2546, '뜨개질': 2547, '뜨고': 2548, '뜨는': 2549, '뜰': 2550, '뜻': 2551, '뜻입': 2552, '띄게': 2553, '띄는': 2554, '띄지요': 2555, '라': 2556, '라고': 2557, '라는': 2558, '라도': 2559, '라디오': 2560, '라면': 2561, '라발': 2562, '라서': 2563, '라우터': 2564, '라운드': 2565, '라운지': 2566, '라이': 2567, '라이브': 2568, '라이브러리': 2569, '라이선스': 2570, '라이센스': 2571, '라이트': 2572, '라이트닝': 2573, '라이프스타일': 2574, '라인': 2575, '라인업': 2576, '란': 2577, '랍니': 2578, '랑': 2579, '래': 2580, '래야': 2581, '랙티브': 2582, '랜드': 2583, '랩': 2584, '랩톱': 2585, '량': 2586, '러': 2587, '러너': 2588, '러닝': 2589, '러시': 2590, '럭셔리': 2591, '런가': 2592, '런던': 2593, '런칭': 2594, '레드': 2595, '레벨': 2596, '레스토랑': 2597, '레시피': 2598, '레어': 2599, '레이': 2600, '레이블': 2601, '레이아웃': 2602, '레인': 2603, '레지스트리': 2604, '레코드': 2605, '레크리에이션': 2606, '레터': 2607, '렌더링': 2608, '렌즈': 2609, '렌탈': 2610, '렌터카': 2611, '렌틸': 2612, '려고': 2613, '려면': 2614, '력': 2615, '령': 2616, '로': 2617, '로고': 2618, '로그': 2619, '로그아웃': 2620, '로그온': 2621, '로그인': 2622, '로는': 2623, '로더': 2624, '로드': 2625, '로드맵': 2626, '로만': 2627, '로봇': 2628, '로부터': 2629, '로비': 2630, '로서': 2631, '로열티': 2632, '로터리': 2633, '로트': 2634, '록': 2635, '론': 2636, '론칭': 2637, '롤': 2638, '롤러': 2639, '롤플레잉': 2640, '롭': 2641, '롭고': 2642, '료': 2643, '루프': 2644, '룸': 2645, '룸메이트': 2646, '룸서비스': 2647, '룸셰어': 2648, '륜': 2649, '률': 2650, '를': 2651, '리': 2652, '리가': 2653, '리기': 2654, '리뉴얼': 2655, '리더': 2656, '리드': 2657, '리디렉션': 2658, '리버풀': 2659, '리뷰': 2660, '리셉션': 2661, '리소스': 2662, '리스크': 2663, '리스트': 2664, '리조트': 2665, '리지': 2666, '리캐': 2667, '리커버리': 2668, '리테일': 2669, '리퍼': 2670, '리프트': 2671, '리허설': 2672, '린다': 2673, '릴': 2674, '링': 2675, '링스': 2676, '링크': 2677, '마': 2678, '마감': 2679, '마개': 2680, '마늘': 2681, '마닐라': 2682, '마다': 2683, '마당': 2684, '마드리드': 2685, '마땅치': 2686, '마력': 2687, '마련': 2688, '마리': 2689, '마무리': 2690, '마법': 2691, '마사지': 2692, '마세요': 2693, '마셔': 2694, '마셔요': 2695, '마스코트': 2696, '마스크': 2697, '마스터': 2698, '마시고': 2699, '마시고요': 2700, '마시기': 2701, '마시길': 2702, '마시는': 2703, '마시도록': 2704, '마시며': 2705, '마실': 2706, '마실게요': 2707, '마십시다': 2708, '마십시오': 2709, '마우스': 2710, '마을': 2711, '마음': 2712, '마이너스': 2713, '마이크': 2714, '마인더': 2715, '마인드': 2716, '마중': 2717, '마지막': 2718, '마차': 2719, '마찬가지': 2720, '마쳤습니다': 2721, '마쳤어요': 2722, '마치는': 2723, '마치는데': 2724, '마치도록': 2725, '마친': 2726, '마칠게요': 2727, '마침': 2728, '마침내': 2729, '마케터': 2730, '마케터입니': 2731, '마케팅': 2732, '마포구': 2733, '막': 2734, '막걸리': 2735, '막기': 2736, '막대': 2737, '막히는': 2738, '만': 2739, '만기': 2740, '만기일': 2741, '만나': 2742, '만나게': 2743, '만나고': 2744, '만나기': 2745, '만나기로': 2746, '만나기를': 2747, '만나는데': 2748, '만나러': 2749, '만나서': 2750, '만나실': 2751, '만나야': 2752, '만나요': 2753, '만난': 2754, '만난다고': 2755, '만날': 2756, '만났습니다': 2757, '만도': 2758, '만두': 2759, '만드나': 2760, '만드는': 2761, '만드는지': 2762, '만드시는지': 2763, '만드십니까': 2764, '만든': 2765, '만든다고': 2766, '만든다는': 2767, '만들': 2768, '만들게': 2769, '만들게요': 2770, '만들겠습니다': 2771, '만들고': 2772, '만들기': 2773, '만들려고': 2774, '만들려면': 2775, '만들어': 2776, '만들어요': 2777, '만들어져': 2778, '만들어져요': 2779, '만들어졌나요': 2780, '만들어졌는지': 2781, '만들어졌습니다': 2782, '만들어지는지': 2783, '만들어진': 2784, '만들어집니다': 2785, '만들었고': 2786, '만들었습니다': 2787, '만들었어요': 2788, '만들었죠': 2789, '만듭니': 2790, '만료': 2791, '만약': 2792, '만에': 2793, '만으로': 2794, '만으로는': 2795, '만으로도': 2796, '만을': 2797, '만의': 2798, '만이': 2799, '만일': 2800, '만족': 2801, '만족스러우면': 2802, '만족스럽습니다': 2803, '만족하고': 2804, '만족하세요': 2805, '만족하시길': 2806, '만족하지': 2807, '만족할': 2808, '만족합니다': 2809, '만족해': 2810, '만찬': 2811, '만큼': 2812, '만화': 2813, '만회': 2814, '많겠죠': 2815, '많고': 2816, '많네요': 2817, '많다고': 2818, '많다는': 2819, '많습니다': 2820, '많아서': 2821, '많아서요': 2822, '많아요': 2823, '많아지는': 2824, '많았답니다': 2825, '많았습니다': 2826, '많았죠': 2827, '많으니': 2828, '많으니까': 2829, '많으셨습니다': 2830, '많으시네요': 2831, '많은': 2832, '많은지': 2833, '많을': 2834, '많이': 2835, '많이는': 2836, '많잖아요': 2837, '말': 2838, '말고': 2839, '말고는': 2840, '말고도': 2841, '말레이시아': 2842, '말씀': 2843, '말씀드렸다시피': 2844, '말씀드렸듯이': 2845, '말씀드렸었나요': 2846, '말씀드리겠습니다': 2847, '말씀드리고': 2848, '말씀드리는데': 2849, '말씀드린': 2850, '말씀드릴': 2851, '말아야': 2852, '말아주세요': 2853, '말이네요': 2854, '맙소사': 2855, '맛': 2856, '맛보고': 2857, '맛보지': 2858, '맛볼': 2859, '맛있게': 2860, '맛있겠다': 2861, '맛있는': 2862, '맛있었길': 2863, '맛집': 2864, '맜있는': 2865, '망칠': 2866, '맞게': 2867, '맞나요': 2868, '맞네요': 2869, '맞는': 2870, '맞는지': 2871, '맞다면': 2872, '맞서고': 2873, '맞습니까': 2874, '맞습니다': 2875, '맞아': 2876, '맞아요': 2877, '맞으시죠': 2878, '맞으신': 2879, '맞으실까': 2880, '맞을': 2881, '맞을까요': 2882, '맞죠': 2883, '맞지': 2884, '맞추고': 2885, '맞추도록': 2886, '맞춤': 2887, '맞춰': 2888, '맞춰야': 2889, '맞춰져': 2890, '맡겨주셔서': 2891, '맡기겠습니다': 2892, '맡길': 2893, '맡습니다': 2894, '맡아주실': 2895, '맡을': 2896, '맡죠': 2897, '매': 2898, '매각': 2899, '매거진은': 2900, '매거진의': 2901, '매길': 2902, '매끄럽게': 2903, '매너': 2904, '매년': 2905, '매니저': 2906, '매달': 2907, '매도': 2908, '매력': 2909, '매료': 2910, '매매': 2911, '매물': 2912, '매번': 2913, '매수': 2914, '매우': 2915, '매운': 2916, '매월': 2917, '매일': 2918, '매입': 2919, '매장': 2920, '매점': 2921, '매주': 2922, '매진': 2923, '매체': 2924, '매출': 2925, '매치': 2926, '매크로': 2927, '매트': 2928, '매트리스': 2929, '매핑': 2930, '맥락': 2931, '맥주': 2932, '맨': 2933, '맬웨어': 2934, '맵': 2935, '맵핑': 2936, '맺고': 2937, '맺기': 2938, '맺는': 2939, '맺었습니다': 2940, '머': 2941, '머니': 2942, '머드': 2943, '머리': 2944, '머무는': 2945, '머무르는': 2946, '머무르려고': 2947, '머무르실': 2948, '머무를': 2949, '머물': 2950, '머물게': 2951, '머물고': 2952, '머물기에': 2953, '머신': 2954, '먹게': 2955, '먹고': 2956, '먹기': 2957, '먹는': 2958, '먹방': 2959, '먹습니다': 2960, '먹어': 2961, '먹어야': 2962, '먹었어요': 2963, '먹으라고': 2964, '먹으면': 2965, '먹으면서': 2966, '먹을': 2967, '먹을게요': 2968, '먹을래요': 2969, '먹이': 2970, '먼': 2971, '먼저': 2972, '먼지': 2973, '멀': 2974, '멀리': 2975, '멈추지': 2976, '멈춥니다': 2977, '멋져요': 2978, '멋지네요': 2979, '멋지다': 2980, '멋진': 2981, '멋질': 2982, '멋집니다': 2983, '멎을': 2984, '메가바이트': 2985, '메가비트': 2986, '메뉴': 2987, '메뉴판': 2988, '메모': 2989, '메시': 2990, '메시지': 2991, '메이커': 2992, '메이크업': 2993, '메인': 2994, '메일': 2995, '메커니즘': 2996, '메타': 2997, '멜론': 2998, '멤버': 2999, '멤버십': 3000, '며': 3001, '며칠': 3002, '면': 3003, '면역': 3004, '면적': 3005, '면접': 3006, '면제': 3007, '면직물': 3008, '면책': 3009, '면허': 3010, '면허증': 3011, '명': 3012, '명과': 3013, '명당': 3014, '명령': 3015, '명백하지만': 3016, '명백히': 3017, '명분': 3018, '명상': 3019, '명세서': 3020, '명시': 3021, '명의': 3022, '명인': 3023, '명칭': 3024, '명품': 3025, '명함': 3026, '명확하게': 3027, '명확하지': 3028, '명확한': 3029, '명확히': 3030, '몇': 3031, '몇대': 3032, '몇몇': 3033, '모': 3034, '모국': 3035, '모국어': 3036, '모금': 3037, '모기': 3038, '모기지': 3039, '모기지론': 3040, '모니터': 3041, '모니터링': 3042, '모델': 3043, '모뎀': 3044, '모두': 3045, '모듈': 3046, '모드': 3047, '모든': 3048, '모레': 3049, '모르거든요': 3050, '모르겠네요': 3051, '모르겠습니다': 3052, '모르겠어요': 3053, '모르겠으니': 3054, '모르겠지만': 3055, '모르기': 3056, '모르는': 3057, '모르니': 3058, '모르시나요': 3059, '모르지만': 3060, '모르타르': 3061, '모릅니다': 3062, '모바일': 3063, '모범': 3064, '모색': 3065, '모서리': 3066, '모습': 3067, '모시': 3068, '모시기에': 3069, '모시도록': 3070, '모실': 3071, '모아': 3072, '모양': 3073, '모여있어요': 3074, '모욕': 3075, '모을': 3076, '모의고사': 3077, '모임': 3078, '모자': 3079, '모터': 3080, '모터보트': 3081, '모텔': 3082, '모티브': 3083, '모험': 3084, '모형': 3085, '목걸이': 3086, '목격': 3087, '목록': 3088, '목별': 3089, '목소리': 3090, '목요일': 3091, '목욕': 3092, '목욕탕': 3093, '목적': 3094, '목적지': 3095, '목표': 3096, '몫': 3097, '몬순': 3098, '몰': 3099, '몰과': 3100, '몰두하고': 3101, '몰라서': 3102, '몰라요': 3103, '몰랐네요': 3104, '몰랐습니다': 3105, '몰랐어요': 3106, '몰이': 3107, '몸': 3108, '못': 3109, '묘목': 3110, '무': 3111, '무거운': 3112, '무게': 3113, '무너졌습니다': 3114, '무늬': 3115, '무대': 3116, '무드': 3117, '무례하고': 3118, '무례한': 3119, '무료': 3120, '무리': 3121, '무사하시길': 3122, '무서워서': 3123, '무선': 3124, '무슨': 3125, '무시': 3126, '무언가': 3127, '무엇': 3128, '무역': 3129, '무역수지': 3130, '무용': 3131, '무의미하게': 3132, '무작위': 3133, '무제한': 3134, '무중력': 3135, '무지': 3136, '묵': 3137, '묵고': 3138, '묵는': 3139, '묵시': 3140, '묵어야': 3141, '묵으셔도': 3142, '묶음': 3143, '문': 3144, '문득': 3145, '문법': 3146, '문서': 3147, '문신': 3148, '문의': 3149, '문의사항': 3150, '문자': 3151, '문제': 3152, '문제점': 3153, '문하': 3154, '문화': 3155, '묻고': 3156, '묻습니다': 3157, '물': 3158, '물가상승률': 3159, '물건': 3160, '물고기': 3161, '물론': 3162, '물류': 3163, '물리': 3164, '물속': 3165, '물어보겠습니다': 3166, '물어보고': 3167, '물어보려고': 3168, '물어보세요': 3169, '물어본다고': 3170, '물어봐': 3171, '물어봐도': 3172, '물어봤습니다': 3173, '물었습니다': 3174, '물의': 3175, '물이': 3176, '물질': 3177, '물체': 3178, '물품': 3179, '뭐': 3180, '뭐라고': 3181, '뭔': 3182, '뭔가': 3183, '뭘': 3184, '뮤직': 3185, '뮤추얼': 3186, '므': 3187, '미': 3188, '미결': 3189, '미국': 3190, '미국법': 3191, '미끼': 3192, '미납': 3193, '미니': 3194, '미니멀리즘': 3195, '미니바': 3196, '미디어': 3197, '미디엄': 3198, '미래': 3199, '미를': 3200, '미리': 3201, '미만': 3202, '미세하거나': 3203, '미수': 3204, '미슐랭': 3205, '미스': 3206, '미안하지만': 3207, '미약': 3208, '미얀마': 3209, '미용': 3210, '미적': 3211, '미지': 3212, '미치': 3213, '미치나': 3214, '미치는': 3215, '미치는지': 3216, '미칠': 3217, '미칠지': 3218, '미칩니다': 3219, '미터': 3220, '미팅': 3221, '미혼': 3222, '믹서': 3223, '민간': 3224, '민물': 3225, '민원': 3226, '민팅': 3227, '믿고': 3228, '믿기': 3229, '믿기지': 3230, '믿습니다': 3231, '믿어': 3232, '믿어요': 3233, '믿어주세요': 3234, '믿어주셔서': 3235, '믿으세요': 3236, '믿으실': 3237, '믿으십시오': 3238, '믿을': 3239, '믿지': 3240, '밀가루': 3241, '밀고': 3242, '밀레': 3243, '밀린': 3244, '밀어': 3245, '밀크티숍': 3246, '밀회': 3247, '및': 3248, '밑': 3249, '바': 3250, '바꾸거나': 3251, '바꾸고': 3252, '바꾸면': 3253, '바꾸셔야': 3254, '바꾸실': 3255, '바꾼': 3256, '바꿀': 3257, '바꿔': 3258, '바꿔야': 3259, '바꿨습니다': 3260, '바꿨어요': 3261, '바뀌나요': 3262, '바뀌었습니다': 3263, '바뀌지': 3264, '바뀌지는': 3265, '바뀐': 3266, '바뀝니다': 3267, '바나나': 3268, '바늘': 3269, '바다': 3270, '바닥': 3271, '바닥나는': 3272, '바닷물': 3273, '바디': 3274, '바라겠으니': 3275, '바라고요': 3276, '바라는': 3277, '바라며': 3278, '바라보는': 3279, '바라시나요': 3280, '바라요': 3281, '바라지': 3282, '바랄게요': 3283, '바람': 3284, '바람직하지': 3285, '바랍니다': 3286, '바랐습니다': 3287, '바램': 3288, '바로': 3289, '바르고': 3290, '바를': 3291, '바베이도스': 3292, '바베큐': 3293, '바비큐': 3294, '바빠서': 3295, '바쁘셨나요': 3296, '바쁘지': 3297, '바쁜': 3298, '바쁠': 3299, '바쁩니다': 3300, '바위': 3301, '바이': 3302, '바이러스': 3303, '바이오': 3304, '바이트': 3305, '바쳤어요': 3306, '바퀴': 3307, '바탕': 3308, '박': 3309, '박람회': 3310, '박물관': 3311, '박사': 3312, '박스': 3313, '밖': 3314, '밖에': 3315, '반': 3316, '반가운': 3317, '반가워요': 3318, '반갑습니다': 3319, '반길': 3320, '반납': 3321, '반년': 3322, '반대': 3323, '반대편': 3324, '반도체': 3325, '반드시': 3326, '반려': 3327, '반려견': 3328, '반려동물': 3329, '반면': 3330, '반영': 3331, '반응': 3332, '반찬': 3333, '반품': 3334, '받게': 3335, '받고': 3336, '받기로': 3337, '받기를': 3338, '받길': 3339, '받나요': 3340, '받네요': 3341, '받는': 3342, '받는다는': 3343, '받는지': 3344, '받습니다': 3345, '받아': 3346, '받아들여도': 3347, '받아들여질': 3348, '받아들이거나': 3349, '받아들이겠습니다': 3350, '받아들일': 3351, '받아서': 3352, '받아서요': 3353, '받아야': 3354, '받아요': 3355, '받아주셔서': 3356, '받아줄': 3357, '받았고': 3358, '받았기': 3359, '받았네요': 3360, '받았는데': 3361, '받았는지': 3362, '받았다': 3363, '받았다고': 3364, '받았습니까': 3365, '받았습니다': 3366, '받았어요': 3367, '받았으면': 3368, '받았죠': 3369, '받았지만': 3370, '받으려면': 3371, '받으면': 3372, '받으면서': 3373, '받으세요': 3374, '받으셔야': 3375, '받으셨나요': 3376, '받으셨는지': 3377, '받으셨잖아요': 3378, '받으시게': 3379, '받으시는': 3380, '받으시면': 3381, '받으신': 3382, '받으실': 3383, '받은': 3384, '받을': 3385, '받지': 3386, '발견': 3387, '발급': 3388, '발끝': 3389, '발복': 3390, '발생': 3391, '발송': 3392, '발신': 3393, '발자국': 3394, '발전': 3395, '발주': 3396, '발표': 3397, '발행': 3398, '발효': 3399, '발휘': 3400, '밝혀낼': 3401, '밝혀졌습니다': 3402, '밝혀지면': 3403, '밟아주세요': 3404, '밤': 3405, '밤낮': 3406, '밤늦게': 3407, '밤새도록': 3408, '밥': 3409, '밥그릇': 3410, '밧줄': 3411, '방': 3412, '방과': 3413, '방금': 3414, '방대한': 3415, '방문': 3416, '방문객': 3417, '방법': 3418, '방사성': 3419, '방송': 3420, '방송국': 3421, '방수': 3422, '방식': 3423, '방안': 3424, '방어': 3425, '방이': 3426, '방적': 3427, '방적기': 3428, '방지': 3429, '방출': 3430, '방침': 3431, '방해': 3432, '방향': 3433, '방화벽': 3434, '밭': 3435, '배': 3436, '배경': 3437, '배경음악': 3438, '배너': 3439, '배달': 3440, '배당금': 3441, '배려': 3442, '배분': 3443, '배색': 3444, '배송': 3445, '배송비': 3446, '배송지': 3447, '배수': 3448, '배우': 3449, '배우고': 3450, '배우기를': 3451, '배우는': 3452, '배우려는': 3453, '배우려면': 3454, '배우실': 3455, '배우십시오': 3456, '배우자': 3457, '배우죠': 3458, '배울': 3459, '배울수록': 3460, '배움': 3461, '배워': 3462, '배워야': 3463, '배웠다는': 3464, '배웠습니다': 3465, '배정': 3466, '배출': 3467, '배치': 3468, '배터리': 3469, '배포': 3470, '백': 3471, '백만': 3472, '백신': 3473, '백업': 3474, '백엔드': 3475, '밴과': 3476, '밴드': 3477, '밴은': 3478, '밸브': 3479, '뱅크': 3480, '뱅킹': 3481, '버': 3482, '버그': 3483, '버너': 3484, '버네': 3485, '버는': 3486, '버드': 3487, '버렸습니다': 3488, '버블': 3489, '버스': 3490, '버스정류장': 3491, '버전': 3492, '버터플라이': 3493, '버튼': 3494, '번': 3495, '번가': 3496, '번거로우시겠지만': 3497, '번거로워져요': 3498, '번거롭나요': 3499, '번거롭다고': 3500, '번식': 3501, '번역': 3502, '번역가': 3503, '번의': 3504, '번지': 3505, '번째': 3506, '번창': 3507, '번호': 3508, '벌': 3509, '벌고': 3510, '벌써': 3511, '벌어지고': 3512, '벌이': 3513, '범': 3514, '범위': 3515, '범인': 3516, '범죄': 3517, '범죄자': 3518, '범주': 3519, '법': 3520, '법률': 3521, '법원': 3522, '법인': 3523, '법인세': 3524, '법적': 3525, '법정': 3526, '벗어나나요': 3527, '벗어나지': 3528, '벗으라는': 3529, '베네수엘라': 3530, '베벨': 3531, '베스트셀러': 3532, '베어링': 3533, '베이스': 3534, '베타': 3535, '베테': 3536, '베트남': 3537, '벡터': 3538, '벤': 3539, '벤딩': 3540, '벤처캐피털': 3541, '벤츄리': 3542, '벤치': 3543, '벨': 3544, '벨트': 3545, '벽': 3546, '벽난로': 3547, '벽지': 3548, '변경': 3549, '변동': 3550, '변동성': 3551, '변명': 3552, '변속기': 3553, '변수': 3554, '변하네요': 3555, '변해요': 3556, '변호사': 3557, '변화': 3558, '변환': 3559, '별': 3560, '별관': 3561, '별도': 3562, '별로': 3563, '별장': 3564, '병': 3565, '병동': 3566, '병원': 3567, '병합': 3568, '보': 3569, '보거나': 3570, '보건': 3571, '보겠습니다': 3572, '보겠습니다만': 3573, '보겠지만': 3574, '보고': 3575, '보고서': 3576, '보관': 3577, '보기': 3578, '보내': 3579, '보내겠습니다': 3580, '보내고': 3581, '보내기를': 3582, '보내길': 3583, '보내는': 3584, '보내려고': 3585, '보내면': 3586, '보내서': 3587, '보내세요': 3588, '보내셔도': 3589, '보내셨어야죠': 3590, '보내시': 3591, '보내시고': 3592, '보내시기': 3593, '보내시길': 3594, '보내실': 3595, '보내십시오': 3596, '보내야': 3597, '보내온': 3598, '보내졌습니다': 3599, '보내주길': 3600, '보내주면': 3601, '보내주세요': 3602, '보내주셔서': 3603, '보내주셔야': 3604, '보내주시겠습니까': 3605, '보내주시겠어요': 3606, '보내주시기': 3607, '보내주시길': 3608, '보내주시면': 3609, '보내주신': 3610, '보내주실': 3611, '보내주십시오': 3612, '보내준다고': 3613, '보내줄': 3614, '보내줘서': 3615, '보내지': 3616, '보내질': 3617, '보낸': 3618, '보낼': 3619, '보낼까': 3620, '보냅니다': 3621, '보냈고': 3622, '보냈는데요': 3623, '보냈습니다': 3624, '보냈어요': 3625, '보냈지만': 3626, '보는': 3627, '보는데': 3628, '보니': 3629, '보다': 3630, '보다는': 3631, '보다도': 3632, '보다시피': 3633, '보던': 3634, '보도': 3635, '보도록': 3636, '보드': 3637, '보람': 3638, '보류': 3639, '보면': 3640, '보물': 3641, '보살핌으로': 3642, '보상': 3643, '보세요': 3644, '보셔도': 3645, '보셨나요': 3646, '보셨습니까': 3647, '보셨어요': 3648, '보셨으면': 3649, '보수': 3650, '보시': 3651, '보시겠습니까': 3652, '보시겠어요': 3653, '보시길': 3654, '보시다시피': 3655, '보실': 3656, '보실까': 3657, '보실래요': 3658, '보십시오': 3659, '보쌈': 3660, '보안': 3661, '보았고': 3662, '보았습니다': 3663, '보여': 3664, '보여요': 3665, '보여주고': 3666, '보여주기': 3667, '보여주는': 3668, '보여주세요': 3669, '보여줄': 3670, '보여줍니다': 3671, '보여줘': 3672, '보여줘요': 3673, '보여줬던': 3674, '보유': 3675, '보이': 3676, '보이네요': 3677, '보이는': 3678, '보이는군요': 3679, '보이는데': 3680, '보이는데요': 3681, '보이도록': 3682, '보이시나요': 3683, '보이지': 3684, '보인다': 3685, '보입니다': 3686, '보장': 3687, '보조': 3688, '보존': 3689, '보죠': 3690, '보증': 3691, '보증금': 3692, '보증인': 3693, '보지': 3694, '보철물': 3695, '보청기': 3696, '보통': 3697, '보트': 3698, '보행': 3699, '보험': 3700, '보험금': 3701, '보험료': 3702, '보험사': 3703, '보헤미안': 3704, '보호': 3705, '보호복': 3706, '복': 3707, '복구': 3708, '복사기': 3709, '복원': 3710, '복잡하다면': 3711, '복잡한': 3712, '복잡할': 3713, '복잡합니다': 3714, '복잡해서': 3715, '복잡해서요': 3716, '복장': 3717, '복판': 3718, '복호화': 3719, '볶음': 3720, '볶음밥': 3721, '본': 3722, '본드': 3723, '본론': 3724, '본부': 3725, '본사': 3726, '본인': 3727, '본체': 3728, '볼': 3729, '볼게요': 3730, '볼까': 3731, '볼륨': 3732, '볼일': 3733, '봄판': 3734, '봅니다': 3735, '봅시다': 3736, '봇': 3737, '봉쇄': 3738, '봐': 3739, '봐도': 3740, '봐야': 3741, '봐야겠어요': 3742, '봐요': 3743, '봐주세요': 3744, '봐주셨으면': 3745, '봐주시면': 3746, '봤는데': 3747, '봤습니다': 3748, '봤어요': 3749, '봤을': 3750, '봤지만': 3751, '뵐게요': 3752, '뵙게': 3753, '뵙겠습니다': 3754, '뵙는': 3755, '부': 3756, '부과': 3757, '부금': 3758, '부끄럽네요': 3759, '부담': 3760, '부당하다고': 3761, '부대': 3762, '부동산': 3763, '부두': 3764, '부드러운': 3765, '부드럽고': 3766, '부딪쳤습니다': 3767, '부딪히는': 3768, '부랍니다': 3769, '부로': 3770, '부록': 3771, '부르는': 3772, '부르셨나요': 3773, '부른': 3774, '부릅니다': 3775, '부모': 3776, '부모님': 3777, '부문': 3778, '부분': 3779, '부산': 3780, '부상': 3781, '부서': 3782, '부속품': 3783, '부수': 3784, '부양가족': 3785, '부업': 3786, '부엌': 3787, '부여': 3788, '부위': 3789, '부유한': 3790, '부응': 3791, '부의': 3792, '부인': 3793, '부자': 3794, '부작용': 3795, '부적': 3796, '부정': 3797, '부족': 3798, '부족하여': 3799, '부족해서': 3800, '부족해요': 3801, '부족했으며': 3802, '부지': 3803, '부착': 3804, '부채': 3805, '부처': 3806, '부츠': 3807, '부침개': 3808, '부탁': 3809, '부탁드려도': 3810, '부탁드려요': 3811, '부탁드립니다': 3812, '부터': 3813, '부팅': 3814, '부품': 3815, '부합': 3816, '부호화': 3817, '북': 3818, '북경어': 3819, '북미': 3820, '북부': 3821, '분': 3822, '분과': 3823, '분광': 3824, '분기': 3825, '분기점': 3826, '분께는': 3827, '분당': 3828, '분들': 3829, '분류': 3830, '분리': 3831, '분명': 3832, '분명히': 3833, '분사': 3834, '분산': 3835, '분석': 3836, '분쇄기': 3837, '분식점': 3838, '분실': 3839, '분야': 3840, '분위기': 3841, '분이세요': 3842, '분이시지요': 3843, '분쟁': 3844, '분젠': 3845, '분지': 3846, '분포': 3847, '분할': 3848, '분해': 3849, '불': 3850, '불가능': 3851, '불가능하고': 3852, '불가능하다면': 3853, '불가능한': 3854, '불가능합니다': 3855, '불고기': 3856, '불과': 3857, '불과하답니다': 3858, '불과할': 3859, '불과해요': 3860, '불교': 3861, '불구': 3862, '불규칙한': 3863, '불금': 3864, '불당': 3865, '불도저': 3866, '불량': 3867, '불량품': 3868, '불러': 3869, '불러일으키는': 3870, '불러주세요': 3871, '불러주셔서': 3872, '불러주시겠어요': 3873, '불리는': 3874, '불리는지': 3875, '불만': 3876, '불문': 3877, '불빛': 3878, '불안정합니다': 3879, '불안하게': 3880, '불쾌한': 3881, '불편': 3882, '불편하게': 3883, '불편하다는': 3884, '불편하시면': 3885, '불편하신': 3886, '불편하지': 3887, '불편할': 3888, '불편함을': 3889, '불편합니다': 3890, '불평': 3891, '불평등한': 3892, '불필요한': 3893, '불행한': 3894, '불행히도': 3895, '붉은빛': 3896, '붐': 3897, '붕괴': 3898, '붕어빵': 3899, '붙박': 3900, '붙습니다': 3901, '붙어': 3902, '붙일': 3903, '뷔페': 3904, '뷸': 3905, '브라우저': 3906, '브라우징': 3907, '브라질': 3908, '브랜드': 3909, '브랜딩': 3910, '브레이커': 3911, '브레이크': 3912, '브레인스토밍': 3913, '브로': 3914, '브로드밴드': 3915, '브로셔': 3916, '브로커': 3917, '브루나이': 3918, '브이': 3919, '블랙': 3920, '블레이드': 3921, '블렌드': 3922, '블렌딩': 3923, '블로그': 3924, '블록': 3925, '블루': 3926, '블루칩': 3927, '블룸': 3928, '비': 3929, '비간': 3930, '비건': 3931, '비계': 3932, '비공개': 3933, '비공식': 3934, '비교': 3935, '비누': 3936, '비는': 3937, '비도': 3938, '비디오': 3939, '비랴': 3940, '비록': 3941, '비롯': 3942, '비료': 3943, '비밀': 3944, '비밀번호': 3945, '비빔냉면': 3946, '비빔밥': 3947, '비상': 3948, '비서': 3949, '비스킷': 3950, '비스트': 3951, '비슷하게': 3952, '비슷한': 3953, '비슷한가요': 3954, '비슷합니다': 3955, '비실': 3956, '비싸': 3957, '비싸게': 3958, '비싸고': 3959, '비싸다고': 3960, '비싸서': 3961, '비싸요': 3962, '비싸졌죠': 3963, '비싸지': 3964, '비싸지는': 3965, '비싼': 3966, '비싼가요': 3967, '비싼거죠': 3968, '비쌀': 3969, '비쌉니까': 3970, '비쌉니다': 3971, '비어': 3972, '비영리': 3973, '비용': 3974, '비우셔야': 3975, '비워': 3976, '비율': 3977, '비자': 3978, '비전을': 3979, '비주': 3980, '비즈니스': 3981, '비축': 3982, '비커': 3983, '비트': 3984, '비트코인': 3985, '비평가': 3986, '비프': 3987, '비해': 3988, '비행': 3989, '비행기': 3990, '빅데이터': 3991, '빈': 3992, '빈방': 3993, '빈번': 3994, '빈손': 3995, '빈티': 3996, '빌드되': 3997, '빌딩': 3998, '빌라': 3999, '빌려': 4000, '빌려주는': 4001, '빌려주셔서': 4002, '빌렸습니다': 4003, '빌리고': 4004, '빌리기': 4005, '빌리려고': 4006, '빌리시는': 4007, '빌릴': 4008, '빌릴까': 4009, '빌릴지': 4010, '빌보드': 4011, '빌트': 4012, '빔': 4013, '빕니다': 4014, '빗': 4015, '빙': 4016, '빚': 4017, '빠듯': 4018, '빠듯합니': 4019, '빠르게': 4020, '빠르고': 4021, '빠른': 4022, '빠를': 4023, '빠릅니다': 4024, '빠졌는지': 4025, '빠질': 4026, '빡빡': 4027, '빨간': 4028, '빨간색': 4029, '빨라질': 4030, '빨리': 4031, '빵': 4032, '빵집': 4033, '빼고': 4034, '뽑아': 4035, '뿌리': 4036, '뿐': 4037, '뿐이고요': 4038, '뿐이므로': 4039, '뿐이죠': 4040, '뿐입니다': 4041, '삐었': 4042, '사': 4043, '사건': 4044, '사겠습니다': 4045, '사격': 4046, '사계절': 4047, '사고': 4048, '사과': 4049, '사기': 4050, '사기꾼': 4051, '사는': 4052, '사람': 4053, '사람과': 4054, '사랑': 4055, '사려': 4056, '사례': 4057, '사를': 4058, '사면': 4059, '사명': 4060, '사모펀드': 4061, '사무': 4062, '사무기기': 4063, '사무소': 4064, '사무실': 4065, '사물': 4066, '사물인터넷': 4067, '사본': 4068, '사생활': 4069, '사서': 4070, '사소한': 4071, '사시겠습니까': 4072, '사시겠어요': 4073, '사시미': 4074, '사실': 4075, '사안': 4076, '사야': 4077, '사양': 4078, '사업': 4079, '사업가': 4080, '사업자': 4081, '사옥': 4082, '사와': 4083, '사왔습니다': 4084, '사용': 4085, '사용성': 4086, '사용자': 4087, '사우나': 4088, '사운드': 4089, '사운드트랙': 4090, '사원': 4091, '사유': 4092, '사은': 4093, '사의': 4094, '사이': 4095, '사이드': 4096, '사이버': 4097, '사이일': 4098, '사이즈': 4099, '사이트': 4100, '사인': 4101, '사인회': 4102, '사장': 4103, '사전': 4104, '사주실': 4105, '사지': 4106, '사진': 4107, '사진사': 4108, '사진작가': 4109, '사찰': 4110, '사촌': 4111, '사출': 4112, '사탕': 4113, '사태': 4114, '사하여': 4115, '사항': 4116, '사회': 4117, '삭제': 4118, '산': 4119, '산나물': 4120, '산업': 4121, '산이': 4122, '산출': 4123, '살': 4124, '살균': 4125, '살기': 4126, '살까': 4127, '살았습니다': 4128, '살이': 4129, '살펴보겠습니다': 4130, '살펴보고': 4131, '살펴보세요': 4132, '살펴보았습니다': 4133, '살펴볼': 4134, '살펴볼게요': 4135, '삶': 4136, '삶은': 4137, '삼': 4138, '삼겹살': 4139, '삼고': 4140, '삽': 4141, '삽화가': 4142, '샀다': 4143, '상': 4144, '상거래': 4145, '상관': 4146, '상관없습니다': 4147, '상관없어요': 4148, '상관없으니': 4149, '상관없이': 4150, '상관없지만': 4151, '상급': 4152, '상기': 4153, '상단': 4154, '상담': 4155, '상당': 4156, '상당한': 4157, '상당히': 4158, '상대': 4159, '상대로': 4160, '상대방': 4161, '상무': 4162, '상사': 4163, '상상': 4164, '상상력': 4165, '상세': 4166, '상속': 4167, '상승': 4168, '상업': 4169, '상위': 4170, '상응': 4171, '상의': 4172, '상이': 4173, '상인': 4174, '상자': 4175, '상장': 4176, '상점': 4177, '상주': 4178, '상징': 4179, '상추': 4180, '상치': 4181, '상태': 4182, '상표': 4183, '상품': 4184, '상하': 4185, '상하이': 4186, '상호': 4187, '상환': 4188, '상황': 4189, '새': 4190, '새로': 4191, '새로운': 4192, '새롭게': 4193, '새롭기': 4194, '새벽': 4195, '새우': 4196, '새틴': 4197, '새해': 4198, '색': 4199, '색상': 4200, '색인': 4201, '색조': 4202, '샌드위치': 4203, '샌프란시스코': 4204, '샐러드': 4205, '샘플': 4206, '샘플러': 4207, '샘플링': 4208, '생': 4209, '생각': 4210, '생각나지': 4211, '생강': 4212, '생겨도': 4213, '생겼습니다': 4214, '생기나요': 4215, '생기는데': 4216, '생기지': 4217, '생긴': 4218, '생동감': 4219, '생명': 4220, '생명보험': 4221, '생물': 4222, '생방송': 4223, '생산': 4224, '생산량': 4225, '생생하게': 4226, '생선': 4227, '생선전': 4228, '생소한': 4229, '생신': 4230, '생이니': 4231, '생일': 4232, '생체': 4233, '생활': 4234, '생활용품': 4235, '샤워': 4236, '샤워실': 4237, '샤프트': 4238, '샴페인': 4239, '샴푸': 4240, '샵': 4241, '서': 4242, '서기': 4243, '서나': 4244, '서는': 4245, '서더와': 4246, '서도': 4247, '서두르는': 4248, '서두르면': 4249, '서둘러': 4250, '서둘러서': 4251, '서든': 4252, '서라운드': 4253, '서랍': 4254, '서로': 4255, '서류': 4256, '서면': 4257, '서명': 4258, '서버': 4259, '서버룸': 4260, '서브': 4261, '서비스': 4262, '서빙': 4263, '서에': 4264, '서울': 4265, '서재': 4266, '서점': 4267, '서지': 4268, '서쪽': 4269, '석가모니': 4270, '섞고': 4271, '선': 4272, '선구자': 4273, '선명하게': 4274, '선명합니다': 4275, '선물': 4276, '선물거래': 4277, '선박': 4278, '선보이고': 4279, '선보일': 4280, '선불': 4281, '선생님': 4282, '선시하기로': 4283, '선적': 4284, '선정': 4285, '선착순': 4286, '선체': 4287, '선택': 4288, '선호': 4289, '설': 4290, '설계': 4291, '설득': 4292, '설렁탕': 4293, '설렙니다': 4294, '설립': 4295, '설명': 4296, '설문': 4297, '설문조사': 4298, '설문지': 4299, '설비': 4300, '설정': 4301, '설치': 4302, '설치는': 4303, '설탕': 4304, '섬광': 4305, '섬유': 4306, '섬유질': 4307, '성': 4308, '성가신': 4309, '성격': 4310, '성공': 4311, '성공하기를': 4312, '성공하길': 4313, '성공하셨네요': 4314, '성공하셨는지': 4315, '성공한': 4316, '성공할': 4317, '성과': 4318, '성능': 4319, '성도': 4320, '성분': 4321, '성사': 4322, '성실히': 4323, '성은': 4324, '성인': 4325, '성장': 4326, '성장하고': 4327, '성장하는': 4328, '성장할': 4329, '성장해': 4330, '성전': 4331, '성취': 4332, '성하는': 4333, '성한': 4334, '성할': 4335, '성함': 4336, '성했는지': 4337, '성형': 4338, '세': 4339, '세계': 4340, '세관': 4341, '세균': 4342, '세금': 4343, '세기': 4344, '세대': 4345, '세련': 4346, '세로': 4347, '세면대': 4348, '세미나': 4349, '세법': 4350, '세부': 4351, '세상': 4352, '세션': 4353, '세안': 4354, '세액': 4355, '세요': 4356, '세우고': 4357, '세우는': 4358, '세우려고': 4359, '세울': 4360, '세워야': 4361, '세웠지만': 4362, '세율': 4363, '세척': 4364, '세척제': 4365, '세탁': 4366, '세탁기': 4367, '세탁실': 4368, '세트': 4369, '세팅': 4370, '세포': 4371, '센': 4372, '센서': 4373, '센터': 4374, '센트': 4375, '셀러': 4376, '셀러리': 4377, '셋': 4378, '셋째': 4379, '셔블': 4380, '션': 4381, '셨었': 4382, '셰어': 4383, '소': 4384, '소갈비': 4385, '소개': 4386, '소개팅': 4387, '소고기': 4388, '소금': 4389, '소녀': 4390, '소득': 4391, '소리': 4392, '소리칠': 4393, '소매': 4394, '소매업자': 4395, '소모': 4396, '소문': 4397, '소비': 4398, '소비자': 4399, '소설': 4400, '소셜': 4401, '소셜미디어': 4402, '소속': 4403, '소송': 4404, '소스': 4405, '소시지': 4406, '소식': 4407, '소액': 4408, '소요': 4409, '소유': 4410, '소유권': 4411, '소유자': 4412, '소의': 4413, '소일': 4414, '소재': 4415, '소주': 4416, '소중하게': 4417, '소중한': 4418, '소중히': 4419, '소지': 4420, '소질': 4421, '소켓': 4422, '소통': 4423, '소파': 4424, '소포': 4425, '소풍': 4426, '소프': 4427, '소프트': 4428, '소프트웨어': 4429, '소형': 4430, '소형견': 4431, '속': 4432, '속달': 4433, '속도': 4434, '속물': 4435, '손': 4436, '손님': 4437, '손상': 4438, '손쉬운': 4439, '손실': 4440, '손익': 4441, '손익계산서': 4442, '손주': 4443, '손해': 4444, '손해배상': 4445, '솔루션': 4446, '솔직하고': 4447, '솔직한': 4448, '솔직히': 4449, '송금': 4450, '송료': 4451, '송신': 4452, '송장': 4453, '쇄신': 4454, '쇠고기': 4455, '쇼': 4456, '쇼룸': 4457, '쇼핑': 4458, '수': 4459, '수가': 4460, '수강': 4461, '수건': 4462, '수고': 4463, '수년': 4464, '수다': 4465, '수단': 4466, '수도': 4467, '수도꼭지': 4468, '수도원': 4469, '수동': 4470, '수락': 4471, '수량': 4472, '수련': 4473, '수령': 4474, '수로': 4475, '수료': 4476, '수료증': 4477, '수리': 4478, '수많은': 4479, '수면': 4480, '수박': 4481, '수반': 4482, '수백만': 4483, '수비드': 4484, '수석': 4485, '수선': 4486, '수속': 4487, '수수료': 4488, '수술': 4489, '수시로': 4490, '수신기': 4491, '수십': 4492, '수압': 4493, '수업': 4494, '수에즈': 4495, '수영': 4496, '수영장': 4497, '수요': 4498, '수요일': 4499, '수용': 4500, '수익': 4501, '수익금': 4502, '수익률': 4503, '수입': 4504, '수입품': 4505, '수정': 4506, '수정과': 4507, '수제': 4508, '수준': 4509, '수집': 4510, '수천': 4511, '수출': 4512, '수출입': 4513, '수평': 4514, '수표': 4515, '수표로': 4516, '수프': 4517, '수학': 4518, '수행': 4519, '수혜자': 4520, '수확': 4521, '숙련': 4522, '숙박': 4523, '숙박시설': 4524, '숙박업소': 4525, '숙성': 4526, '숙소': 4527, '숙여야': 4528, '숙주': 4529, '숙지': 4530, '순': 4531, '순간': 4532, '순위': 4533, '순이익': 4534, '순전히': 4535, '숟가락': 4536, '술': 4537, '술집': 4538, '숨': 4539, '숨겨진': 4540, '숫자': 4541, '숯불': 4542, '쉬는': 4543, '쉬었습니다': 4544, '쉬우니': 4545, '쉬운': 4546, '쉬워': 4547, '쉬워요': 4548, '쉬워지죠': 4549, '쉬워진': 4550, '쉬워질': 4551, '쉴': 4552, '쉽게': 4553, '쉽고': 4554, '쉽기': 4555, '쉽다고': 4556, '쉽도록': 4557, '쉽습니다': 4558, '쉽지는': 4559, '슈': 4560, '슈트': 4561, '슈팅': 4562, '슈퍼마켓': 4563, '스': 4564, '스낵': 4565, '스노클링': 4566, '스니커즈': 4567, '스님': 4568, '스러워서': 4569, '스러워하고': 4570, '스럽게': 4571, '스럽지': 4572, '스레드': 4573, '스릴러': 4574, '스마트': 4575, '스마트폰': 4576, '스마트홈': 4577, '스스로': 4578, '스위트': 4579, '스위트룸': 4580, '스카이라인': 4581, '스캐너': 4582, '스캔': 4583, '스케': 4584, '스케줄': 4585, '스케줄러': 4586, '스케치': 4587, '스쿠터': 4588, '스크럽': 4589, '스크류': 4590, '스크리닝': 4591, '스크린': 4592, '스크린샷': 4593, '스키': 4594, '스킨': 4595, '스킬': 4596, '스타': 4597, '스타일': 4598, '스타트업': 4599, '스테이': 4600, '스테이션': 4601, '스테이크': 4602, '스테인레스': 4603, '스토리': 4604, '스토브': 4605, '스토어': 4606, '스토퍼': 4607, '스톤': 4608, '스튜디오': 4609, '스트레스': 4610, '스트레이트': 4611, '스트로': 4612, '스트리밍': 4613, '스트림': 4614, '스티': 4615, '스티커': 4616, '스틸': 4617, '스파': 4618, '스파게티': 4619, '스파이럴': 4620, '스파이웨어': 4621, '스파크': 4622, '스팸': 4623, '스페셜': 4624, '스페인': 4625, '스펙트럼': 4626, '스포츠': 4627, '스프': 4628, '스프레드': 4629, '스프레이': 4630, '스피커': 4631, '스피킹': 4632, '슬라이드': 4633, '슬롯': 4634, '슬리퍼': 4635, '슬프고': 4636, '습': 4637, '습니': 4638, '승려': 4639, '승인': 4640, '시': 4641, '시각': 4642, '시각장애인': 4643, '시간': 4644, '시간대': 4645, '시계': 4646, '시골': 4647, '시급히': 4648, '시기': 4649, '시끄러운': 4650, '시나리오': 4651, '시내': 4652, '시대': 4653, '시도': 4654, '시리즈': 4655, '시마': 4656, '시민권': 4657, '시설': 4658, '시세': 4659, '시스템': 4660, '시연': 4661, '시오': 4662, '시일': 4663, '시작': 4664, '시장': 4665, '시장조사': 4666, '시저': 4667, '시절': 4668, '시점': 4669, '시즌': 4670, '시차': 4671, '시청': 4672, '시청각': 4673, '시청자': 4674, '시카고': 4675, '시켜': 4676, '시켜주죠': 4677, '시켜줄': 4678, '시켜줄래요': 4679, '시켰습니다': 4680, '시켰어요': 4681, '시큐리티': 4682, '시키겠습니다': 4683, '시키고': 4684, '시키기': 4685, '시키는': 4686, '시키면': 4687, '시키지': 4688, '시키지는': 4689, '시킬': 4690, '시킵니다': 4691, '시티': 4692, '시행': 4693, '시험': 4694, '시험관': 4695, '식': 4696, '식기': 4697, '식단': 4698, '식당': 4699, '식물': 4700, '식사': 4701, '식이': 4702, '식초': 4703, '식탁': 4704, '식품': 4705, '신': 4706, '신간': 4707, '신경': 4708, '신고': 4709, '신곡': 4710, '신규': 4711, '신나요': 4712, '신는': 4713, '신디케이트': 4714, '신랑': 4715, '신뢰': 4716, '신문': 4717, '신발': 4718, '신부': 4719, '신분': 4720, '신분증': 4721, '신비로운': 4722, '신사': 4723, '신생': 4724, '신선하고': 4725, '신선한': 4726, '신세대': 4727, '신속하게': 4728, '신속하고': 4729, '신속한': 4730, '신용': 4731, '신용등급': 4732, '신용장': 4733, '신용카드': 4734, '신원': 4735, '신입': 4736, '신입사원': 4737, '신입생': 4738, '신제품': 4739, '신종교': 4740, '신중': 4741, '신지': 4742, '신청': 4743, '신청서': 4744, '신체': 4745, '신탁': 4746, '신호': 4747, '신흥': 4748, '싣고': 4749, '실': 4750, '실내': 4751, '실력': 4752, '실례': 4753, '실로': 4754, '실린더': 4755, '실망': 4756, '실망하신': 4757, '실망했습니다': 4758, '실버': 4759, '실사': 4760, '실생활': 4761, '실수': 4762, '실시': 4763, '실시간': 4764, '실업자': 4765, '실외': 4766, '실용': 4767, '실적': 4768, '실제': 4769, '실질': 4770, '실천': 4771, '실크': 4772, '실패': 4773, '실패하지': 4774, '실행': 4775, '실험': 4776, '실험실': 4777, '실현': 4778, '싫어요': 4779, '싫어한다고': 4780, '싫어합니다': 4781, '심': 4782, '심각하게': 4783, '심각한': 4784, '심각해서': 4785, '심기': 4786, '심란합니다': 4787, '심박': 4788, '심장': 4789, '심지어': 4790, '심하겠습니다': 4791, '심하면': 4792, '심하세요': 4793, '심하시길': 4794, '심할': 4795, '십': 4796, '십대': 4797, '싱가포르': 4798, '싱가폴': 4799, '싱글': 4800, '싱글룸': 4801, '싶고': 4802, '싶기': 4803, '싶나요': 4804, '싶네요': 4805, '싶다고': 4806, '싶다는': 4807, '싶다면': 4808, '싶습니까': 4809, '싶습니다': 4810, '싶습니다만': 4811, '싶어': 4812, '싶어서': 4813, '싶어서요': 4814, '싶어요': 4815, '싶어졌습니다': 4816, '싶어지면': 4817, '싶어하나요': 4818, '싶어하는': 4819, '싶었기': 4820, '싶었는데': 4821, '싶었던': 4822, '싶었습니다': 4823, '싶었어요': 4824, '싶었을': 4825, '싶으': 4826, '싶으니': 4827, '싶으면': 4828, '싶으므로': 4829, '싶으세요': 4830, '싶으셨나': 4831, '싶으셨나요': 4832, '싶으시다면': 4833, '싶으시면': 4834, '싶으신': 4835, '싶으십니까': 4836, '싶은': 4837, '싶은가요': 4838, '싶은데': 4839, '싶은데요': 4840, '싶은지': 4841, '싶은지는': 4842, '싶은지에': 4843, '싶을': 4844, '싶지': 4845, '싶지는': 4846, '싶지만': 4847, '싸게': 4848, '싸고': 4849, '싸니까': 4850, '싸우고': 4851, '싸주세요': 4852, '싼': 4853, '쌀': 4854, '쌈': 4855, '쌈밥': 4856, '쌈장': 4857, '쌍': 4858, '쌓는': 4859, '쌓여': 4860, '쌓여있습니다': 4861, '쌓은': 4862, '쌓이고': 4863, '쌓이다': 4864, '써': 4865, '써야': 4866, '써요': 4867, '썼기': 4868, '쓰게': 4869, '쓰고': 4870, '쓰레기통': 4871, '쓰실': 4872, '쓰였습니다': 4873, '쓰지': 4874, '쓴': 4875, '쓸': 4876, '쓸모': 4877, '씁니다': 4878, '씨': 4879, '씩': 4880, '씹어': 4881, '아': 4882, '아기': 4883, '아깝지만': 4884, '아끼지': 4885, '아나운서': 4886, '아내': 4887, '아뇨': 4888, '아늑함과': 4889, '아는': 4890, '아니': 4891, '아니겠죠': 4892, '아니고': 4893, '아니기': 4894, '아니길': 4895, '아니네요': 4896, '아니라': 4897, '아니라고': 4898, '아니라는': 4899, '아니라면': 4900, '아니면': 4901, '아니었': 4902, '아니었습니다': 4903, '아니에요': 4904, '아니예요': 4905, '아니오': 4906, '아니요': 4907, '아니죠': 4908, '아니지만': 4909, '아닌': 4910, '아닌가요': 4911, '아닌지': 4912, '아닌지에': 4913, '아닐': 4914, '아닐까': 4915, '아님': 4916, '아닙니다': 4917, '아동': 4918, '아들': 4919, '아래': 4920, '아로마': 4921, '아르헨티나': 4922, '아름다운': 4923, '아름다운데': 4924, '아름답거든요': 4925, '아름답다고': 4926, '아름답습니다': 4927, '아마': 4928, '아마도': 4929, '아무': 4930, '아무나': 4931, '아무런': 4932, '아무리': 4933, '아무튼': 4934, '아바타': 4935, '아빠': 4936, '아세요': 4937, '아쉽게도': 4938, '아쉽긴': 4939, '아쉽네요': 4940, '아스파라거스': 4941, '아스팔트': 4942, '아시겠죠': 4943, '아시나요': 4944, '아시네요': 4945, '아시다시피': 4946, '아시아': 4947, '아실': 4948, '아십니까': 4949, '아웃소싱': 4950, '아이': 4951, '아이덴티티': 4952, '아이돌': 4953, '아이디': 4954, '아이디어': 4955, '아이스크림': 4956, '아이콘': 4957, '아이템': 4958, '아주': 4959, '아직': 4960, '아직도': 4961, '아침': 4962, '아침식사': 4963, '아키텍처': 4964, '아트': 4965, '아트워크': 4966, '아트웍': 4967, '아티스트': 4968, '아파요': 4969, '아파트': 4970, '아프리카': 4971, '악': 4972, '악기': 4973, '악성코드': 4974, '악세사리': 4975, '악수': 4976, '악행': 4977, '악화': 4978, '안': 4979, '안건': 4980, '안나': 4981, '안내': 4982, '안내받으실': 4983, '안내받을': 4984, '안녕': 4985, '안녕하세요': 4986, '안녕하신가요': 4987, '안녕히': 4988, '안다': 4989, '안됩니다': 4990, '안드로이드': 4991, '안방': 4992, '안성맞춤': 4993, '안심': 4994, '안이': 4995, '안전': 4996, '안전성': 4997, '안전하게': 4998, '안전하고': 4999, '안전하다고': 5000, '안전하다는': 5001, '안전한': 5002, '안전한가요': 5003, '안전한지': 5004, '안전할까': 5005, '안전합니다': 5006, '안전해요': 5007, '안전해질': 5008, '안정': 5009, '안좋았습니다': 5010, '안타깝게도': 5011, '안타깝지만': 5012, '안테나': 5013, '안티바이러스': 5014, '안팎': 5015, '앉아': 5016, '앉아계실': 5017, '앉아서': 5018, '앉아야': 5019, '앉아요': 5020, '앉을': 5021, '않': 5022, '않거나': 5023, '않고': 5024, '않기': 5025, '않기로': 5026, '않기를': 5027, '않나요': 5028, '않네요': 5029, '않는': 5030, '않는다고': 5031, '않는다는': 5032, '않는다면': 5033, '않는데': 5034, '않는지': 5035, '않다': 5036, '않다고': 5037, '않다는': 5038, '않도록': 5039, '않습니까': 5040, '않습니다': 5041, '않아': 5042, '않아도': 5043, '않아서': 5044, '않아서요': 5045, '않아야': 5046, '않아요': 5047, '않았고': 5048, '않았기': 5049, '않았나요': 5050, '않았는데요': 5051, '않았는지': 5052, '않았다': 5053, '않았다고': 5054, '않았다는': 5055, '않았다면': 5056, '않았던': 5057, '않았습니까': 5058, '않았습니다': 5059, '않았어요': 5060, '않았었어요': 5061, '않았으면': 5062, '않았을': 5063, '않았지만': 5064, '않으니': 5065, '않으니까': 5066, '않으려고': 5067, '않으려면': 5068, '않으며': 5069, '않으면': 5070, '않으므로': 5071, '않으셔도': 5072, '않으셨어요': 5073, '않으셨으면': 5074, '않으셨잖아요': 5075, '않으시나요': 5076, '않으시면': 5077, '않으실': 5078, '않은': 5079, '않은데': 5080, '않을': 5081, '않을까': 5082, '않을까요': 5083, '않죠': 5084, '않지만': 5085, '알': 5086, '알겠습니다': 5087, '알겠습니다만': 5088, '알겠어요': 5089, '알겠죠': 5090, '알겠지만': 5091, '알고는': 5092, '알고리즘': 5093, '알고자': 5094, '알기': 5095, '알람': 5096, '알레르기': 5097, '알려': 5098, '알려야': 5099, '알려주거든요': 5100, '알려주고': 5101, '알려주는': 5102, '알려주세요': 5103, '알려주셔서': 5104, '알려주셔야': 5105, '알려주셨어야죠': 5106, '알려주셨으면': 5107, '알려주시겠나요': 5108, '알려주시겠습니까': 5109, '알려주시겠어요': 5110, '알려주시기': 5111, '알려주시길': 5112, '알려주시면': 5113, '알려주신': 5114, '알려주실': 5115, '알려주실래요': 5116, '알려주십시오': 5117, '알려주었습니다': 5118, '알려줄': 5119, '알려줄래요': 5120, '알려줘서': 5121, '알려진': 5122, '알루미늄': 5123, '알리기': 5124, '알리는': 5125, '알리세요': 5126, '알릴': 5127, '알림': 5128, '알수': 5129, '알아가는': 5130, '알아내는': 5131, '알아낸': 5132, '알아도': 5133, '알아듣': 5134, '알아보겠습니다': 5135, '알아보고': 5136, '알아보기': 5137, '알아보기로': 5138, '알아보도록': 5139, '알아보려고': 5140, '알아보십시오': 5141, '알아볼': 5142, '알아봤으니': 5143, '알아야': 5144, '알아야겠습니다': 5145, '알아요': 5146, '알아차렸습니다': 5147, '알아챘습니다': 5148, '알았는데': 5149, '알았는데요': 5150, '알았습니다': 5151, '알았어요': 5152, '알았으니': 5153, '알았죠': 5154, '알약': 5155, '알칼리성': 5156, '암': 5157, '암석': 5158, '암스테르담': 5159, '암호': 5160, '압니': 5161, '압도': 5162, '압력': 5163, '압축': 5164, '압축기': 5165, '압출기': 5166, '았습니': 5167, '앙': 5168, '앞': 5169, '앞두고': 5170, '앞서': 5171, '앞치마': 5172, '애': 5173, '애니메이션': 5174, '애니메이터': 5175, '애비뉴': 5176, '애완동물': 5177, '애프터': 5178, '애플리케이션': 5179, '애피타이저': 5180, '액': 5181, '액세서리': 5182, '액세스': 5183, '액션': 5184, '액체': 5185, '앤': 5186, '앨범': 5187, '앰버': 5188, '앰뷸런스': 5189, '앰프': 5190, '앱': 5191, '앵글': 5192, '앵커': 5193, '야': 5194, '야간': 5195, '야구장': 5196, '야금': 5197, '야단법석': 5198, '야생': 5199, '야식': 5200, '야영지': 5201, '야외': 5202, '야유회': 5203, '야채': 5204, '야합': 5205, '약': 5206, '약간': 5207, '약관': 5208, '약물': 5209, '약속': 5210, '약자': 5211, '약점': 5212, '약정': 5213, '약한': 5214, '얇은': 5215, '양': 5216, '양념': 5217, '양념장': 5218, '양도': 5219, '양립': 5220, '양말': 5221, '양사': 5222, '양식': 5223, '양자': 5224, '양초': 5225, '양해': 5226, '양호': 5227, '얘기': 5228, '어': 5229, '어긋납니다': 5230, '어기': 5231, '어느': 5232, '어댑터': 5233, '어디': 5234, '어디서': 5235, '어때요': 5236, '어떠세요': 5237, '어떠셨죠': 5238, '어떠신': 5239, '어떠십니까': 5240, '어떠한': 5241, '어떡하죠': 5242, '어떤': 5243, '어떤게': 5244, '어떤지': 5245, '어떨까': 5246, '어떻': 5247, '어떻게': 5248, '어떻겠습니까': 5249, '어떻습니까': 5250, '어려우실': 5251, '어려운지': 5252, '어려울': 5253, '어려움': 5254, '어려워요': 5255, '어려웠습니다': 5256, '어려웠어요': 5257, '어려웠지만': 5258, '어렵게': 5259, '어렵고': 5260, '어렵네요': 5261, '어렵다는': 5262, '어렵습니다': 5263, '어렵지만': 5264, '어르신': 5265, '어른': 5266, '어리다는': 5267, '어린': 5268, '어린이': 5269, '어머니': 5270, '어메니티': 5271, '어묵': 5272, '어보': 5273, '어서': 5274, '어우러집니다': 5275, '어울릴': 5276, '어울릴까': 5277, '어제': 5278, '어젯밤': 5279, '어조': 5280, '어쨌든': 5281, '어쩌': 5282, '어쩐': 5283, '어쩔': 5284, '어치': 5285, '어플': 5286, '어필': 5287, '어휘': 5288, '언': 5289, '언급': 5290, '언니': 5291, '언덕': 5292, '언론': 5293, '언박싱': 5294, '언어': 5295, '언제': 5296, '언제나': 5297, '언젠가': 5298, '얻고': 5299, '얻고자': 5300, '얻기': 5301, '얻는': 5302, '얻는다는': 5303, '얻습니다': 5304, '얻어야': 5305, '얻어요': 5306, '얻었는지': 5307, '얻었어요': 5308, '얻었을': 5309, '얻으면': 5310, '얻으세요': 5311, '얻으시길': 5312, '얻으실': 5313, '얻은': 5314, '얻을': 5315, '얼': 5316, '얼굴': 5317, '얼리': 5318, '얼마': 5319, '얼마나': 5320, '엄격하게': 5321, '엄격한': 5322, '엄격함은': 5323, '엄격합니다': 5324, '엄선': 5325, '엄수': 5326, '엄청': 5327, '엄청나게': 5328, '엄청나네요': 5329, '엄청난': 5330, '업계': 5331, '업그레이드': 5332, '업데이트': 5333, '업로드': 5334, '업무': 5335, '업자': 5336, '업주': 5337, '업체': 5338, '없': 5339, '없거든요': 5340, '없고': 5341, '없기': 5342, '없기를': 5343, '없길': 5344, '없나요': 5345, '없네요': 5346, '없는': 5347, '없는데': 5348, '없는데요': 5349, '없는지': 5350, '없다': 5351, '없다고': 5352, '없다는': 5353, '없다면': 5354, '없더라고요': 5355, '없도록': 5356, '없습니까': 5357, '없습니다': 5358, '없애면': 5359, '없애주는': 5360, '없어': 5361, '없어도': 5362, '없어서': 5363, '없어야': 5364, '없어요': 5365, '없었고': 5366, '없었기': 5367, '없었나요': 5368, '없었다면': 5369, '없었답니다': 5370, '없었습니다': 5371, '없었어요': 5372, '없었을': 5373, '없었죠': 5374, '없으니': 5375, '없으니까': 5376, '없으며': 5377, '없으면': 5378, '없으셔도': 5379, '없으신': 5380, '없으실까': 5381, '없으십니까': 5382, '없을': 5383, '없을까요': 5384, '없을지도': 5385, '없이': 5386, '없이는': 5387, '없죠': 5388, '없지만': 5389, '엇갈린': 5390, '엉': 5391, '에': 5392, '에게': 5393, '에게나': 5394, '에게는': 5395, '에게도': 5396, '에게만': 5397, '에게서': 5398, '에겐': 5399, '에너지': 5400, '에는': 5401, '에다가': 5402, '에도': 5403, '에든': 5404, '에러': 5405, '에만': 5406, '에멀션': 5407, '에멀젼': 5408, '에메랄드': 5409, '에밀리': 5410, '에서': 5411, '에서나': 5412, '에서는': 5413, '에서도': 5414, '에서만': 5415, '에서부터': 5416, '에서의': 5417, '에센셜': 5418, '에어': 5419, '에어컨': 5420, '에요': 5421, '에이전시': 5422, '에이전트': 5423, '에코': 5424, '에티켓': 5425, '에피소드': 5426, '엑세스': 5427, '엑스레이': 5428, '엑스포': 5429, '엔': 5430, '엔드': 5431, '엔젤': 5432, '엔지니어': 5433, '엔지니어링': 5434, '엔진': 5435, '엔터테인먼트': 5436, '엠보싱': 5437, '여': 5438, '여겨지지': 5439, '여권': 5440, '여기': 5441, '여기는': 5442, '여긴': 5443, '여느': 5444, '여드름': 5445, '여러': 5446, '여러분': 5447, '여름': 5448, '여보': 5449, '여보세요': 5450, '여부': 5451, '여분': 5452, '여사': 5453, '여서': 5454, '여성': 5455, '여야': 5456, '여유': 5457, '여자': 5458, '여전히': 5459, '여지': 5460, '여쭤': 5461, '여행': 5462, '여행사': 5463, '여행자': 5464, '역': 5465, '역사': 5466, '역서': 5467, '역시': 5468, '역외': 5469, '역할': 5470, '연': 5471, '연간': 5472, '연결': 5473, '연결하는': 5474, '연결하려면': 5475, '연결할': 5476, '연결해': 5477, '연관': 5478, '연구': 5479, '연구개발': 5480, '연구소': 5481, '연기': 5482, '연다': 5483, '연달': 5484, '연동': 5485, '연락': 5486, '연락처': 5487, '연령': 5488, '연례': 5489, '연료': 5490, '연마': 5491, '연말': 5492, '연민': 5493, '연방': 5494, '연봉': 5495, '연비': 5496, '연사': 5497, '연수': 5498, '연장': 5499, '연중': 5500, '연체': 5501, '연회': 5502, '연휴': 5503, '열': 5504, '열겠습니다': 5505, '열고': 5506, '열광': 5507, '열기': 5508, '열람': 5509, '열려': 5510, '열려면': 5511, '열려있죠': 5512, '열렸나요': 5513, '열리나요': 5514, '열리는': 5515, '열리는지': 5516, '열린': 5517, '열릴': 5518, '열립니다': 5519, '열면': 5520, '열쇠': 5521, '열심히': 5522, '열악한': 5523, '열어': 5524, '열정': 5525, '열지': 5526, '열차': 5527, '염두': 5528, '염려': 5529, '염색': 5530, '엽': 5531, '였고요': 5532, '였기': 5533, '였나요': 5534, '였습니다': 5535, '였어요': 5536, '였으니': 5537, '였으며': 5538, '였으면': 5539, '였죠': 5540, '영': 5541, '영감': 5542, '영광': 5543, '영구': 5544, '영국': 5545, '영리한': 5546, '영상': 5547, '영상통화': 5548, '영수증': 5549, '영양': 5550, '영어': 5551, '영업': 5552, '영업일': 5553, '영역': 5554, '영원히': 5555, '영진': 5556, '영향': 5557, '영향력': 5558, '영화': 5559, '옆': 5560, '예': 5561, '예견': 5562, '예고편': 5563, '예금': 5564, '예방': 5565, '예배': 5566, '예쁜': 5567, '예산': 5568, '예산안': 5569, '예상': 5570, '예술': 5571, '예술가': 5572, '예약': 5573, '예요': 5574, '예의': 5575, '예입': 5576, '예전': 5577, '예절': 5578, '예정': 5579, '예정일': 5580, '예측': 5581, '옐로나이프': 5582, '오': 5583, '오겠습니다': 5584, '오길': 5585, '오나요': 5586, '오는': 5587, '오는지': 5588, '오늘': 5589, '오늘날': 5590, '오늘이': 5591, '오디오': 5592, '오락가락': 5593, '오래': 5594, '오래되셨죠': 5595, '오래되어': 5596, '오래되었습니다': 5597, '오래되지': 5598, '오래된': 5599, '오랜': 5600, '오랫동안': 5601, '오렌지': 5602, '오류': 5603, '오르고': 5604, '오르나요': 5605, '오른': 5606, '오른쪽': 5607, '오리엔테이션': 5608, '오면': 5609, '오버': 5610, '오븐': 5611, '오세요': 5612, '오셔서': 5613, '오셨나요': 5614, '오셨다고': 5615, '오셨습니다': 5616, '오셨어요': 5617, '오스': 5618, '오시': 5619, '오시나요': 5620, '오신': 5621, '오신다고': 5622, '오실': 5623, '오용': 5624, '오일': 5625, '오일도': 5626, '오전': 5627, '오지': 5628, '오직': 5629, '오징어': 5630, '오토': 5631, '오프': 5632, '오프라인': 5633, '오픈': 5634, '오피스': 5635, '오하이오주': 5636, '오해': 5637, '오후': 5638, '오히려': 5639, '옥': 5640, '옥상': 5641, '옥집': 5642, '온': 5643, '온도': 5644, '온돌': 5645, '온라인': 5646, '온라인과': 5647, '온스': 5648, '온천': 5649, '온타리오': 5650, '올': 5651, '올게요': 5652, '올라가는': 5653, '올라갈': 5654, '올라갑니다': 5655, '올랐습니까': 5656, '올랐습니다': 5657, '올려': 5658, '올려놓고': 5659, '올려요': 5660, '올려주세요': 5661, '올려주시고요': 5662, '올려주신': 5663, '올려줘요': 5664, '올렸고': 5665, '올렸습니다': 5666, '올렸어요': 5667, '올리겠습니다': 5668, '올리고': 5669, '올리는': 5670, '올리려고': 5671, '올리려면': 5672, '올리면': 5673, '올리셨더군요': 5674, '올린': 5675, '올릴': 5676, '올릴지': 5677, '올바르게': 5678, '올바른': 5679, '올바른지': 5680, '올테니': 5681, '올해': 5682, '옮겼습니다': 5683, '옮기고': 5684, '옮길': 5685, '옳다': 5686, '옴': 5687, '옵니다': 5688, '옵션': 5689, '옷': 5690, '옷장': 5691, '와': 5692, '와는': 5693, '와도': 5694, '와서': 5695, '와셔': 5696, '와셔를': 5697, '와우': 5698, '와의': 5699, '와이어': 5700, '와이파이': 5701, '와인': 5702, '와주세요': 5703, '와주셔서': 5704, '와트': 5705, '완납': 5706, '완료': 5707, '완벽하게': 5708, '완벽하네요': 5709, '완벽한': 5710, '완벽합니다': 5711, '완벽해요': 5712, '완비': 5713, '완성': 5714, '완전': 5715, '완전한': 5716, '완전히': 5717, '완화': 5718, '왓츠앱': 5719, '왔고': 5720, '왔는데': 5721, '왔는지도': 5722, '왔던': 5723, '왔습니다': 5724, '왔어요': 5725, '왔을': 5726, '왕복': 5727, '왕새우': 5728, '왜': 5729, '왜냐면': 5730, '왜냐하면': 5731, '외': 5732, '외관': 5733, '외국': 5734, '외국인': 5735, '외부': 5736, '외용': 5737, '외주': 5738, '외출': 5739, '외향': 5740, '외화': 5741, '외환은행': 5742, '왼쪽': 5743, '요': 5744, '요건': 5745, '요격': 5746, '요구': 5747, '요구사항': 5748, '요금': 5749, '요리': 5750, '요리법': 5751, '요리사': 5752, '요법': 5753, '요소': 5754, '요약': 5755, '요원': 5756, '요인': 5757, '요점': 5758, '요즘': 5759, '요청': 5760, '요크셔': 5761, '요트': 5762, '욕구': 5763, '욕실': 5764, '욕조': 5765, '용': 5766, '용건': 5767, '용납': 5768, '용도': 5769, '용량': 5770, '용무': 5771, '용법': 5772, '용어': 5773, '용의': 5774, '용이': 5775, '용이하게': 5776, '용이해졌습니다': 5777, '용인': 5778, '용지였으면': 5779, '용판': 5780, '용품': 5781, '우': 5782, '우드': 5783, '우려': 5784, '우리': 5785, '우리나라': 5786, '우리은행': 5787, '우린': 5788, '우산': 5789, '우선': 5790, '우수하기': 5791, '우수한': 5792, '우승자': 5793, '우아한': 5794, '우여곡절': 5795, '우연히': 5796, '우와': 5797, '우위': 5798, '우유': 5799, '우주': 5800, '우크라이나': 5801, '우편': 5802, '우편물': 5803, '운': 5804, '운동': 5805, '운반': 5806, '운송': 5807, '운송업': 5808, '운영': 5809, '운영자': 5810, '운영체제': 5811, '운용': 5812, '운전': 5813, '운전기사': 5814, '운전자': 5815, '운하': 5816, '울렸고': 5817, '울리는': 5818, '울산': 5819, '움직이기': 5820, '움직이는': 5821, '움직일': 5822, '움직임': 5823, '웃음': 5824, '웅장': 5825, '워': 5826, '워드': 5827, '워치': 5828, '워크샵': 5829, '워크숍': 5830, '워터': 5831, '원': 5832, '원격': 5833, '원고': 5834, '원금': 5835, '원래': 5836, '원리': 5837, '원본': 5838, '원사': 5839, '원스톱': 5840, '원심': 5841, '원심분리기': 5842, '원인': 5843, '원장': 5844, '원점': 5845, '원주공항': 5846, '원칙': 5847, '원통': 5848, '원하고': 5849, '원하기': 5850, '원하는': 5851, '원하는만큼': 5852, '원하는지': 5853, '원하세요': 5854, '원하시고': 5855, '원하시나요': 5856, '원하시는': 5857, '원하시는지': 5858, '원하시면': 5859, '원하신다고': 5860, '원하신다면': 5861, '원하실': 5862, '원하십니까': 5863, '원하지': 5864, '원한다면': 5865, '원할': 5866, '원합니다': 5867, '원해서': 5868, '원해요': 5869, '원했다': 5870, '원했습니다': 5871, '원했었죠': 5872, '원화': 5873, '원화도': 5874, '원활하게': 5875, '원활하지': 5876, '원활한': 5877, '월': 5878, '월간': 5879, '월급': 5880, '월말': 5881, '월세': 5882, '월요일': 5883, '웜': 5884, '웠습': 5885, '웨딩': 5886, '웨비': 5887, '웨어': 5888, '웨이터': 5889, '웨이퍼': 5890, '웹': 5891, '웹디자인': 5892, '웹사이트': 5893, '웹캐스트': 5894, '웹페이지': 5895, '위': 5896, '위로': 5897, '위반': 5898, '위생': 5899, '위성': 5900, '위안': 5901, '위치': 5902, '위탁': 5903, '위태롭': 5904, '위태롭기': 5905, '위함': 5906, '위해': 5907, '위험': 5908, '위험하거나': 5909, '위험한': 5910, '위험합니까': 5911, '위협': 5912, '윗': 5913, '윗사람': 5914, '유가': 5915, '유감': 5916, '유감스럽게': 5917, '유기': 5918, '유기농': 5919, '유닛': 5920, '유동': 5921, '유럽': 5922, '유로': 5923, '유료': 5924, '유르트': 5925, '유리한': 5926, '유리합니다': 5927, '유망': 5928, '유머': 5929, '유명': 5930, '유명인사': 5931, '유명하게': 5932, '유명하다고': 5933, '유명하죠': 5934, '유명한': 5935, '유명합니다': 5936, '유명해지고자': 5937, '유사한': 5938, '유산': 5939, '유선': 5940, '유아': 5941, '유압': 5942, '유연성': 5943, '유연하며': 5944, '유연한': 5945, '유예': 5946, '유용하지': 5947, '유용한': 5948, '유용할': 5949, '유의': 5950, '유익한': 5951, '유인': 5952, '유인물': 5953, '유일한': 5954, '유전': 5955, '유제품': 5956, '유지': 5957, '유치하고': 5958, '유치하기': 5959, '유통': 5960, '유통업': 5961, '유통업체': 5962, '유틸리티': 5963, '유학': 5964, '유학생': 5965, '유해한': 5966, '유행': 5967, '유행병': 5968, '유형': 5969, '유효': 5970, '유효한': 5971, '유효합니다': 5972, '육류': 5973, '육성': 5974, '육수': 5975, '육지': 5976, '육회': 5977, '윤리': 5978, '율': 5979, '율기': 5980, '융자': 5981, '융통성': 5982, '으로': 5983, '으로는': 5984, '으로도': 5985, '으로만': 5986, '으로부터': 5987, '으로서': 5988, '으로서는': 5989, '으로써': 5990, '으로의': 5991, '은': 5992, '은은하고': 5993, '은퇴': 5994, '은행': 5995, '은행원': 5996, '을': 5997, '음': 5998, '음료': 5999, '음료수': 6000, '음반': 6001, '음반사': 6002, '음성': 6003, '음식': 6004, '음식점': 6005, '음악': 6006, '음원': 6007, '음질': 6008, '음향': 6009, '음향효과': 6010, '응': 6011, '응급': 6012, '응답': 6013, '응대': 6014, '응용': 6015, '응원': 6016, '의': 6017, '의견': 6018, '의논': 6019, '의도': 6020, '의뢰': 6021, '의료': 6022, '의류': 6023, '의무': 6024, '의문': 6025, '의미': 6026, '의사': 6027, '의사소통': 6028, '의상': 6029, '의식': 6030, '의심': 6031, '의심스러운': 6032, '의약품': 6033, '의원': 6034, '의자': 6035, '의존': 6036, '의하면': 6037, '의해': 6038, '의해서도': 6039, '의향': 6040, '의회': 6041, '이': 6042, '이건': 6043, '이겠네요': 6044, '이고': 6045, '이기': 6046, '이기도': 6047, '이끌어': 6048, '이나': 6049, '이내': 6050, '이네': 6051, '이는': 6052, '이니': 6053, '이니까': 6054, '이다': 6055, '이대로': 6056, '이동': 6057, '이동식': 6058, '이동해': 6059, '이드': 6060, '이득': 6061, '이든': 6062, '이따': 6063, '이라': 6064, '이라고': 6065, '이라고도': 6066, '이라기': 6067, '이라는': 6068, '이라도': 6069, '이라면요': 6070, '이라서': 6071, '이란': 6072, '이랑': 6073, '이러한': 6074, '이런': 6075, '이렇게': 6076, '이력서': 6077, '이로': 6078, '이루어졌는지': 6079, '이루어지고': 6080, '이루어집니다': 6081, '이뤄지지': 6082, '이르기까지': 6083, '이른': 6084, '이를': 6085, '이름': 6086, '이만': 6087, '이메일': 6088, '이며': 6089, '이면': 6090, '이목': 6091, '이므로': 6092, '이미': 6093, '이미지': 6094, '이민자': 6095, '이번': 6096, '이벤트': 6097, '이보': 6098, '이불': 6099, '이브': 6100, '이사': 6101, '이사회': 6102, '이상': 6103, '이상은': 6104, '이서': 6105, '이세': 6106, '이송': 6107, '이수': 6108, '이슈': 6109, '이식': 6110, '이신': 6111, '이십': 6112, '이싼': 6113, '이야': 6114, '이야기': 6115, '이어': 6116, '이어서': 6117, '이어야': 6118, '이어질': 6119, '이어집니다': 6120, '이었고': 6121, '이었기': 6122, '이었나요': 6123, '이었는지': 6124, '이었던': 6125, '이었습니까': 6126, '이었습니다': 6127, '이었어요': 6128, '이었으면': 6129, '이었죠': 6130, '이었지만': 6131, '이에요': 6132, '이외': 6133, '이요': 6134, '이용': 6135, '이용자': 6136, '이웃': 6137, '이유': 6138, '이율': 6139, '이음': 6140, '이의': 6141, '이익': 6142, '이자': 6143, '이자율': 6144, '이장': 6145, '이전': 6146, '이점': 6147, '이정표': 6148, '이제': 6149, '이중': 6150, '이중과세': 6151, '이지': 6152, '이지만': 6153, '이집트': 6154, '이체': 6155, '이탈': 6156, '이탈리아': 6157, '이탈리아어': 6158, '이틀': 6159, '이해': 6160, '이해만': 6161, '이해해': 6162, '이행': 6163, '이후': 6164, '익숙하지': 6165, '익숙하지가': 6166, '익숙한': 6167, '익숙해요': 6168, '익숙해져서': 6169, '익숙해지시는': 6170, '익스텐더': 6171, '익일': 6172, '익히고': 6173, '익힙니다': 6174, '인': 6175, '인가': 6176, '인가요': 6177, '인간': 6178, '인건비': 6179, '인걸': 6180, '인공': 6181, '인구': 6182, '인기': 6183, '인내': 6184, '인내심': 6185, '인당': 6186, '인데': 6187, '인데요': 6188, '인덱스': 6189, '인도': 6190, '인도네시아': 6191, '인들': 6192, '인력': 6193, '인명': 6194, '인보이스': 6195, '인분': 6196, '인사': 6197, '인삼': 6198, '인상': 6199, '인생': 6200, '인센티브': 6201, '인쇄': 6202, '인쇄기': 6203, '인쇄판': 6204, '인수': 6205, '인스턴트': 6206, '인식': 6207, '인용': 6208, '인원': 6209, '인정': 6210, '인정받는': 6211, '인조섬유': 6212, '인증': 6213, '인증서': 6214, '인지': 6215, '인지도': 6216, '인천': 6217, '인치': 6218, '인코딩': 6219, '인큐베이터': 6220, '인터': 6221, '인터넷': 6222, '인터뷰': 6223, '인터페이스': 6224, '인턴': 6225, '인테리어': 6226, '인파': 6227, '인포그래픽': 6228, '인프라': 6229, '인플레이션': 6230, '인플레이션율': 6231, '인하': 6232, '인한': 6233, '인할': 6234, '인해': 6235, '일': 6236, '일과': 6237, '일관': 6238, '일까': 6239, '일단': 6240, '일러스트': 6241, '일러스트레이션': 6242, '일련': 6243, '일련번호': 6244, '일로': 6245, '일류': 6246, '일반': 6247, '일반인': 6248, '일별': 6249, '일본': 6250, '일본어': 6251, '일부': 6252, '일부러': 6253, '일산': 6254, '일상': 6255, '일상생활': 6256, '일수': 6257, '일시': 6258, '일어나고': 6259, '일어나길': 6260, '일어나는': 6261, '일어나죠': 6262, '일어나지': 6263, '일어날지': 6264, '일어났는지': 6265, '일요일': 6266, '일으켰기': 6267, '일으켰나요': 6268, '일으키고': 6269, '일으키는': 6270, '일으킨': 6271, '일이': 6272, '일인': 6273, '일일': 6274, '일자리': 6275, '일정': 6276, '일정하고': 6277, '일정한': 6278, '일종': 6279, '일주일': 6280, '일찍': 6281, '일체': 6282, '일치': 6283, '일해': 6284, '일행': 6285, '일환': 6286, '일회용': 6287, '읽거나': 6288, '읽게': 6289, '읽고': 6290, '읽기': 6291, '읽는': 6292, '읽어': 6293, '읽어요': 6294, '읽어주셔서': 6295, '읽었고': 6296, '읽었습니다': 6297, '읽었어요': 6298, '읽으셔도': 6299, '읽은': 6300, '읽을': 6301, '읽지': 6302, '잃어버렸어요': 6303, '잃어버리도록': 6304, '잃어버린': 6305, '잃어서': 6306, '잃었습니다': 6307, '잃었을': 6308, '잃을': 6309, '잃지': 6310, '임': 6311, '임기': 6312, '임대': 6313, '임대료': 6314, '임무': 6315, '임박': 6316, '임베디드': 6317, '임상시험': 6318, '임시': 6319, '임원': 6320, '임원진': 6321, '임의': 6322, '임차': 6323, '임펠러': 6324, '입': 6325, '입고': 6326, '입고를': 6327, '입금': 6328, '입니다': 6329, '입니다만': 6330, '입력': 6331, '입맛': 6332, '입사': 6333, '입안': 6334, '입원': 6335, '입으세요': 6336, '입으셨다는': 6337, '입은': 6338, '입자': 6339, '입장': 6340, '입장료': 6341, '입주': 6342, '입지': 6343, '입찰': 6344, '입출': 6345, '입학': 6346, '있': 6347, '있거든요': 6348, '있게': 6349, '있겠고': 6350, '있겠군요': 6351, '있겠니': 6352, '있겠습니까': 6353, '있겠습니다': 6354, '있겠어요': 6355, '있겠죠': 6356, '있겠지만': 6357, '있고': 6358, '있고싶어요': 6359, '있고요': 6360, '있군요': 6361, '있기': 6362, '있기를': 6363, '있기에': 6364, '있길': 6365, '있나요': 6366, '있네요': 6367, '있는': 6368, '있는거죠': 6369, '있는데': 6370, '있는데도': 6371, '있는데요': 6372, '있는지': 6373, '있는지만': 6374, '있는지에': 6375, '있다': 6376, '있다고': 6377, '있다고요': 6378, '있다는': 6379, '있다니': 6380, '있다면': 6381, '있다면서요': 6382, '있단다': 6383, '있답니다': 6384, '있더군요': 6385, '있더라고요': 6386, '있던데요': 6387, '있도록': 6388, '있듯이': 6389, '있습니까': 6390, '있습니다': 6391, '있습니다만': 6392, '있어': 6393, '있어도': 6394, '있어서': 6395, '있어서요': 6396, '있어야': 6397, '있어요': 6398, '있었고': 6399, '있었나요': 6400, '있었는데': 6401, '있었는지': 6402, '있었는지에': 6403, '있었던': 6404, '있었습니까': 6405, '있었습니다': 6406, '있었어요': 6407, '있었으면': 6408, '있었을': 6409, '있었지만': 6410, '있으': 6411, '있으니': 6412, '있으니까': 6413, '있으려면': 6414, '있으며': 6415, '있으면': 6416, '있으므로': 6417, '있으세요': 6418, '있으시겠네요': 6419, '있으시다고': 6420, '있으시다면': 6421, '있으시면': 6422, '있으신': 6423, '있으실': 6424, '있으실까': 6425, '있으십니까': 6426, '있을': 6427, '있을게요': 6428, '있을까': 6429, '있을까요': 6430, '있을지': 6431, '있잖아요': 6432, '있죠': 6433, '있지': 6434, '있지는': 6435, '있지만': 6436, '잊어버렸습니다': 6437, '잊어버렸어요': 6438, '잊어버렸을': 6439, '잊지': 6440, '잎': 6441, '자': 6442, '자게': 6443, '자격': 6444, '자고': 6445, '자국': 6446, '자극': 6447, '자금': 6448, '자기': 6449, '자꾸': 6450, '자녀': 6451, '자는': 6452, '자동': 6453, '자동차': 6454, '자동화': 6455, '자라면': 6456, '자랐습니다': 6457, '자랑': 6458, '자랑스러운': 6459, '자로': 6460, '자료': 6461, '자르는': 6462, '자를': 6463, '자리': 6464, '자마자': 6465, '자막': 6466, '자문': 6467, '자본': 6468, '자사': 6469, '자산': 6470, '자서전': 6471, '자선단체': 6472, '자세한': 6473, '자세히': 6474, '자수': 6475, '자식': 6476, '자신': 6477, '자신감': 6478, '자야': 6479, '자연': 6480, '자연계': 6481, '자연어': 6482, '자영': 6483, '자원': 6484, '자유': 6485, '자유롭게': 6486, '자재': 6487, '자전거': 6488, '자주': 6489, '자질': 6490, '자체': 6491, '자쿠': 6492, '자쿠지': 6493, '자택': 6494, '자판기': 6495, '자회사': 6496, '작': 6497, '작가': 6498, '작고': 6499, '작곡가': 6500, '작기': 6501, '작년': 6502, '작동': 6503, '작문': 6504, '작성': 6505, '작습니다': 6506, '작업': 6507, '작용': 6508, '작은': 6509, '작품': 6510, '잔': 6511, '잔고': 6512, '잔금': 6513, '잔디': 6514, '잔액': 6515, '잘': 6516, '잘되': 6517, '잘라': 6518, '잘라내도록': 6519, '잘못': 6520, '잘해야': 6521, '잠': 6522, '잠금': 6523, '잠깐': 6524, '잠수': 6525, '잠시': 6526, '잠옷': 6527, '잠재': 6528, '잠재력': 6529, '잠정': 6530, '잡': 6531, '잡게': 6532, '잡기': 6533, '잡도록': 6534, '잡아': 6535, '잡아야': 6536, '잡아야지': 6537, '잡아주셔서': 6538, '잡아주시겠어요': 6539, '잡았나요': 6540, '잡았습니다': 6541, '잡으려고': 6542, '잡으면': 6543, '잡으실': 6544, '잡읍시다': 6545, '잡지': 6546, '잡채': 6547, '잡혀': 6548, '잡히면': 6549, '잡힌': 6550, '잤어요': 6551, '장': 6552, '장갑': 6553, '장거리': 6554, '장공': 6555, '장기': 6556, '장님': 6557, '장담': 6558, '장래': 6559, '장르': 6560, '장모님': 6561, '장바구니': 6562, '장벽': 6563, '장부': 6564, '장비': 6565, '장소': 6566, '장식': 6567, '장애': 6568, '장애물': 6569, '장애인': 6570, '장용': 6571, '장의': 6572, '장이': 6573, '장점': 6574, '장착': 6575, '장치': 6576, '장학금': 6577, '재': 6578, '재개': 6579, '재고': 6580, '재교육': 6581, '재난': 6582, '재능': 6583, '재단': 6584, '재료': 6585, '재무': 6586, '재무부': 6587, '재무제표': 6588, '재미': 6589, '재미있고': 6590, '재미있네요': 6591, '재미있습니다': 6592, '재미있어요': 6593, '재미있을': 6594, '재밌어야': 6595, '재밌었어': 6596, '재밌을': 6597, '재발': 6598, '재봉틀': 6599, '재사용': 6600, '재산': 6601, '재산권': 6602, '재생': 6603, '재워': 6604, '재정': 6605, '재택근무': 6606, '재해': 6607, '재활': 6608, '쟁기질': 6609, '저': 6610, '저녁': 6611, '저녁식사': 6612, '저렴하거나': 6613, '저렴하게': 6614, '저렴하기는': 6615, '저렴한': 6616, '저렴한가요': 6617, '저렴할': 6618, '저렴합니다': 6619, '저렴해요': 6620, '저만': 6621, '저만큼': 6622, '저명한': 6623, '저번': 6624, '저속': 6625, '저자': 6626, '저작권': 6627, '저작권법': 6628, '저장': 6629, '저절로': 6630, '저질러': 6631, '저쪽': 6632, '저축': 6633, '저항기': 6634, '저희': 6635, '적': 6636, '적게': 6637, '적격': 6638, '적극': 6639, '적기': 6640, '적다고': 6641, '적당하고': 6642, '적당한': 6643, '적당합니다': 6644, '적당히': 6645, '적도': 6646, '적립': 6647, '적습니다': 6648, '적어': 6649, '적어도': 6650, '적어야': 6651, '적용': 6652, '적응': 6653, '적이네요': 6654, '적자': 6655, '적재': 6656, '적절하게': 6657, '적절하고': 6658, '적절한': 6659, '적절할': 6660, '적절합니다': 6661, '적절히': 6662, '적정': 6663, '적합하기를': 6664, '적합하죠': 6665, '적합하지': 6666, '적합한': 6667, '적합한지': 6668, '적합할까': 6669, '적합합니다': 6670, '적합해야': 6671, '적혀': 6672, '전': 6673, '전개': 6674, '전공': 6675, '전기': 6676, '전기자전거': 6677, '전날': 6678, '전념': 6679, '전달': 6680, '전동': 6681, '전략': 6682, '전력': 6683, '전류': 6684, '전망': 6685, '전면': 6686, '전무': 6687, '전문': 6688, '전문가': 6689, '전문성': 6690, '전문점': 6691, '전문직': 6692, '전반': 6693, '전병': 6694, '전부': 6695, '전분': 6696, '전선': 6697, '전세계': 6698, '전송': 6699, '전술': 6700, '전시': 6701, '전시장': 6702, '전시회': 6703, '전신': 6704, '전액': 6705, '전역': 6706, '전염병': 6707, '전용': 6708, '전원': 6709, '전이': 6710, '전자': 6711, '전자기': 6712, '전자기기': 6713, '전자레인지': 6714, '전자상거래': 6715, '전자제품': 6716, '전자책': 6717, '전적': 6718, '전체': 6719, '전통': 6720, '전통문화': 6721, '전표': 6722, '전하': 6723, '전해': 6724, '전혀': 6725, '전화': 6726, '전화기': 6727, '전화번호': 6728, '전화하거나': 6729, '전화하겠습니다': 6730, '전화하고': 6731, '전화하기로': 6732, '전화하는': 6733, '전화하면': 6734, '전화하세요': 6735, '전화하셔야': 6736, '전화하셨나요': 6737, '전화하셨는데': 6738, '전화하셨는지': 6739, '전화하셨습니다': 6740, '전화하시는': 6741, '전화하시는지': 6742, '전화하신': 6743, '전화하신다면': 6744, '전화하실': 6745, '전화한': 6746, '전화할게요': 6747, '전화합니다': 6748, '전화해': 6749, '전화해서': 6750, '전화해요': 6751, '전화했는데': 6752, '전화했습니다': 6753, '전화했어요': 6754, '전화했을': 6755, '전환': 6756, '전후': 6757, '젇': 6758, '절': 6759, '절감': 6760, '절기': 6761, '절단': 6762, '절대': 6763, '절반': 6764, '절삭기': 6765, '절실': 6766, '절약': 6767, '절차': 6768, '젊고': 6769, '젊은': 6770, '젊은이': 6771, '점': 6772, '점검': 6773, '점도': 6774, '점수': 6775, '점심': 6776, '점유': 6777, '점자': 6778, '점점': 6779, '점진': 6780, '점화': 6781, '접': 6782, '접근': 6783, '접근성': 6784, '접대': 6785, '접속': 6786, '접수': 6787, '접시': 6788, '접종': 6789, '접착': 6790, '접합': 6791, '젓가락': 6792, '정': 6793, '정관': 6794, '정규': 6795, '정규직': 6796, '정기': 6797, '정기예금': 6798, '정당한': 6799, '정도': 6800, '정독': 6801, '정류장': 6802, '정리': 6803, '정말': 6804, '정말로': 6805, '정밀도': 6806, '정박': 6807, '정보': 6808, '정보기술': 6809, '정본': 6810, '정부': 6811, '정비': 6812, '정비사': 6813, '정산': 6814, '정상': 6815, '정상인': 6816, '정상화': 6817, '정성': 6818, '정수': 6819, '정수기': 6820, '정식': 6821, '정신': 6822, '정원': 6823, '정육점': 6824, '정의': 6825, '정이': 6826, '정적': 6827, '정전': 6828, '정직하게': 6829, '정직하지': 6830, '정직해야': 6831, '정착': 6832, '정책': 6833, '정체': 6834, '정치': 6835, '정치인': 6836, '정통': 6837, '정통하기를': 6838, '정통하지': 6839, '정해': 6840, '정해져': 6841, '정해졌습니다': 6842, '정해졌어요': 6843, '정해진': 6844, '정화': 6845, '정확도': 6846, '정확하게': 6847, '정확하네요': 6848, '정확한': 6849, '정확한지': 6850, '정확합니다': 6851, '정확히': 6852, '정확히는': 6853, '제': 6854, '제거': 6855, '제곱': 6856, '제곱미터': 6857, '제공': 6858, '제기': 6859, '제대로': 6860, '제도': 6861, '제때': 6862, '제로': 6863, '제목': 6864, '제발': 6865, '제보': 6866, '제빵': 6867, '제빵사': 6868, '제삼자': 6869, '제시': 6870, '제안': 6871, '제어': 6872, '제외': 6873, '제일': 6874, '제입': 6875, '제작': 6876, '제작자': 6877, '제작회사': 6878, '제재': 6879, '제적': 6880, '제조': 6881, '제조업': 6882, '제조업체': 6883, '제주': 6884, '제출': 6885, '제품': 6886, '제품군': 6887, '제한': 6888, '제휴': 6889, '젠': 6890, '젯': 6891, '조': 6892, '조각': 6893, '조각가': 6894, '조각상': 6895, '조건': 6896, '조국': 6897, '조금': 6898, '조달': 6899, '조도': 6900, '조로': 6901, '조리': 6902, '조립': 6903, '조만간': 6904, '조명': 6905, '조명탄': 6906, '조물': 6907, '조미료': 6908, '조사': 6909, '조사해': 6910, '조선': 6911, '조수': 6912, '조식': 6913, '조심': 6914, '조심합니다': 6915, '조언': 6916, '조용히': 6917, '조잡하지': 6918, '조장': 6919, '조절': 6920, '조정': 6921, '조정은': 6922, '조지아': 6923, '조직': 6924, '조취': 6925, '조치': 6926, '조카': 6927, '조합': 6928, '조항': 6929, '조화': 6930, '조회': 6931, '족발': 6932, '존경': 6933, '존재': 6934, '존중': 6935, '졸업장': 6936, '좀': 6937, '좁히는': 6938, '종': 6939, '종교': 6940, '종단': 6941, '종도': 6942, '종로': 6943, '종료': 6944, '종류': 6945, '종사': 6946, '종습니': 6947, '종신': 6948, '종업원': 6949, '종이': 6950, '종일': 6951, '종합': 6952, '좋게': 6953, '좋게도': 6954, '좋겠고': 6955, '좋겠군요': 6956, '좋겠네요': 6957, '좋겠습니다': 6958, '좋겠어요': 6959, '좋고': 6960, '좋군요': 6961, '좋네': 6962, '좋네요': 6963, '좋다': 6964, '좋다는': 6965, '좋답니다': 6966, '좋습니다': 6967, '좋아': 6968, '좋아서': 6969, '좋아야': 6970, '좋아요': 6971, '좋아지기': 6972, '좋아하게': 6973, '좋아하나': 6974, '좋아하나요': 6975, '좋아하는': 6976, '좋아하세요': 6977, '좋아하신다면': 6978, '좋아하실': 6979, '좋아하지': 6980, '좋아하지만': 6981, '좋아한다': 6982, '좋아한다는': 6983, '좋아할': 6984, '좋아합니다': 6985, '좋아해서요': 6986, '좋아해요': 6987, '좋았거든요': 6988, '좋았습니다': 6989, '좋았어요': 6990, '좋았을': 6991, '좋으며': 6992, '좋으므로': 6993, '좋으세요': 6994, '좋으시길': 6995, '좋으시네요': 6996, '좋으신': 6997, '좋은': 6998, '좋은가요': 6999, '좋은데': 7000, '좋을': 7001, '좋을까요': 7002, '좋죠': 7003, '좋지': 7004, '좋지만': 7005, '좌석': 7006, '좌우': 7007, '죄송하지만': 7008, '죄송한데': 7009, '죄송합니다': 7010, '죄송합니다만': 7011, '죄송해요': 7012, '죠': 7013, '주': 7014, '주가': 7015, '주간': 7016, '주간지': 7017, '주거': 7018, '주겠다고': 7019, '주고': 7020, '주고받는': 7021, '주기': 7022, '주길': 7023, '주는': 7024, '주당': 7025, '주된': 7026, '주려구요': 7027, '주렴': 7028, '주로': 7029, '주류': 7030, '주말': 7031, '주머니': 7032, '주목': 7033, '주무셨길': 7034, '주문': 7035, '주므로': 7036, '주민': 7037, '주민등록': 7038, '주방': 7039, '주변': 7040, '주사기': 7041, '주선': 7042, '주세요': 7043, '주셔도': 7044, '주셔서': 7045, '주셔야': 7046, '주셨기': 7047, '주셨나요': 7048, '주셨는데': 7049, '주셨습니까': 7050, '주셨습니다': 7051, '주셨어야': 7052, '주셨어요': 7053, '주셨으면': 7054, '주셨을': 7055, '주셨죠': 7056, '주소': 7057, '주스': 7058, '주시': 7059, '주시거나': 7060, '주시겠습니까': 7061, '주시겠어요': 7062, '주시고요': 7063, '주시길': 7064, '주시나요': 7065, '주식': 7066, '주식시장': 7067, '주신': 7068, '주신다면': 7069, '주실': 7070, '주실래요': 7071, '주어지면': 7072, '주어진': 7073, '주얼': 7074, '주었습니다': 7075, '주었으니': 7076, '주었으면': 7077, '주요': 7078, '주의': 7079, '주인': 7080, '주일': 7081, '주임': 7082, '주자': 7083, '주장': 7084, '주저': 7085, '주제': 7086, '주제가': 7087, '주지': 7088, '주차': 7089, '주차장': 7090, '주철': 7091, '주택': 7092, '주파수': 7093, '죽': 7094, '준': 7095, '준비': 7096, '준수': 7097, '줄': 7098, '줄기': 7099, '줄까': 7100, '줄어': 7101, '줄어들까': 7102, '줄여': 7103, '줄여주셨으면': 7104, '줄였습니다': 7105, '줄이는': 7106, '줄이도록': 7107, '줄이려면': 7108, '줄이셔야': 7109, '줄일': 7110, '줄임말': 7111, '줄입니다': 7112, '줌': 7113, '줍니까': 7114, '줍니다': 7115, '중': 7116, '중간': 7117, '중개': 7118, '중개사': 7119, '중개인': 7120, '중고': 7121, '중고품': 7122, '중공업': 7123, '중국': 7124, '중국집': 7125, '중단': 7126, '중등교육': 7127, '중복': 7128, '중소기업': 7129, '중시': 7130, '중심': 7131, '중심부': 7132, '중요성': 7133, '중요하게': 7134, '중요하기': 7135, '중요하다고': 7136, '중요하죠': 7137, '중요한': 7138, '중요한지': 7139, '중요합니다': 7140, '중요해요': 7141, '중이': 7142, '중인': 7143, '중장비': 7144, '중재': 7145, '중점': 7146, '중형견': 7147, '중환자': 7148, '줘서': 7149, '줘요': 7150, '줬어요': 7151, '즉': 7152, '즉각': 7153, '즉석': 7154, '즉시': 7155, '즐거운': 7156, '즐거움': 7157, '즐거웠습니다': 7158, '즐거웠어요': 7159, '즐겁게': 7160, '즐겁고': 7161, '즐겁습니다': 7162, '즐겁지': 7163, '즐기는': 7164, '즐기시길': 7165, '즐기실': 7166, '즐기지': 7167, '즐길': 7168, '즐깁니다': 7169, '증가': 7170, '증거': 7171, '증권': 7172, '증권사': 7173, '증명': 7174, '증명서': 7175, '증발기': 7176, '증빙': 7177, '증서': 7178, '증세': 7179, '증진': 7180, '증폭': 7181, '증폭기': 7182, '지': 7183, '지갑': 7184, '지게': 7185, '지게차': 7186, '지고': 7187, '지구': 7188, '지금': 7189, '지급': 7190, '지난': 7191, '지난달': 7192, '지난번': 7193, '지난주': 7194, '지난해': 7195, '지남': 7196, '지났고': 7197, '지났는데': 7198, '지났습니다': 7199, '지내': 7200, '지내게': 7201, '지내고': 7202, '지내기': 7203, '지내세요': 7204, '지내셨나요': 7205, '지내셨어요': 7206, '지내시고': 7207, '지내시길': 7208, '지내시나요': 7209, '지내시는': 7210, '지내시죠': 7211, '지내시지': 7212, '지낼': 7213, '지냈어': 7214, '지냈어요': 7215, '지는': 7216, '지능': 7217, '지도': 7218, '지독하게': 7219, '지루하다고': 7220, '지루한': 7221, '지루함': 7222, '지루해하는': 7223, '지를': 7224, '지리': 7225, '지만': 7226, '지면': 7227, '지명': 7228, '지문': 7229, '지방': 7230, '지불': 7231, '지붕': 7232, '지사': 7233, '지속': 7234, '지수': 7235, '지시': 7236, '지식': 7237, '지어졌습니다': 7238, '지에': 7239, '지역': 7240, '지역성': 7241, '지연': 7242, '지용': 7243, '지워': 7244, '지원': 7245, '지원이': 7246, '지을': 7247, '지인': 7248, '지저분하지': 7249, '지적': 7250, '지점': 7251, '지정': 7252, '지주': 7253, '지지': 7254, '지체': 7255, '지출': 7256, '지침': 7257, '지켜보고': 7258, '지켜봐': 7259, '지켜봐야겠습니다': 7260, '지켜야': 7261, '지키겠': 7262, '지키는': 7263, '지키셔야': 7264, '지폐': 7265, '지표': 7266, '지프': 7267, '지하실': 7268, '지하철': 7269, '지향': 7270, '직': 7271, '직감': 7272, '직경': 7273, '직급': 7274, '직도': 7275, '직면': 7276, '직물': 7277, '직불': 7278, '직업': 7279, '직원': 7280, '직장': 7281, '직접': 7282, '직접투자': 7283, '직책': 7284, '진': 7285, '진공': 7286, '진과': 7287, '진단': 7288, '진동': 7289, '진상': 7290, '진실': 7291, '진실하고': 7292, '진심': 7293, '진의': 7294, '진입': 7295, '진정': 7296, '진정한': 7297, '진지하게': 7298, '진짜': 7299, '진출': 7300, '진행': 7301, '진행자': 7302, '진화': 7303, '진흥': 7304, '질': 7305, '질감': 7306, '질문': 7307, '질병': 7308, '질환': 7309, '짐': 7310, '집': 7311, '집값': 7312, '집니다': 7313, '집단': 7314, '집세': 7315, '집안일': 7316, '집은': 7317, '집의': 7318, '집주인': 7319, '집중': 7320, '집하장': 7321, '집합': 7322, '집행': 7323, '집행자': 7324, '집히는': 7325, '짓고': 7326, '짓는': 7327, '짓도록': 7328, '징': 7329, '징글링': 7330, '짚': 7331, '짜': 7332, '짜는': 7333, '짜리': 7334, '짜장': 7335, '짤': 7336, '짧게': 7337, '짧은': 7338, '짧지만': 7339, '째': 7340, '쪽': 7341, '쫓아내고': 7342, '쯤': 7343, '찌개': 7344, '찍고': 7345, '찍다': 7346, '찍어': 7347, '찍어서': 7348, '찍은': 7349, '찍혀있습니다': 7350, '찜': 7351, '찜질방': 7352, '찢어져': 7353, '차': 7354, '차가': 7355, '차가운': 7356, '차감': 7357, '차갑게': 7358, '차고': 7359, '차기': 7360, '차나요': 7361, '차단': 7362, '차도': 7363, '차등': 7364, '차라리': 7365, '차랍니다': 7366, '차량': 7367, '차려놓은': 7368, '차례': 7369, '차리고': 7370, '차리세요': 7371, '차린': 7372, '차릴까': 7373, '차별': 7374, '차서': 7375, '차용': 7376, '차원': 7377, '차이': 7378, '차이는': 7379, '차이점': 7380, '차입': 7381, '차지': 7382, '차질': 7383, '차트': 7384, '찬': 7385, '찬으실까': 7386, '참가': 7387, '참가자': 7388, '참고': 7389, '참배': 7390, '참석': 7391, '참석자': 7392, '참여': 7393, '참으로': 7394, '참조': 7395, '참하고': 7396, '찹쌀': 7397, '찼습니다': 7398, '창': 7399, '창가': 7400, '창고': 7401, '창구': 7402, '창립': 7403, '창문': 7404, '창업': 7405, '창의': 7406, '찾고': 7407, '찾기': 7408, '찾는': 7409, '찾는다고': 7410, '찾다가': 7411, '찾던': 7412, '찾아': 7413, '찾아보겠습니다': 7414, '찾아보는': 7415, '찾아보세요': 7416, '찾아보시는': 7417, '찾아볼': 7418, '찾아볼게요': 7419, '찾아봐야겠네요': 7420, '찾아야': 7421, '찾아오셨네요': 7422, '찾아왔습니다': 7423, '찾아주셔서': 7424, '찾았고': 7425, '찾았습니다': 7426, '찾았어요': 7427, '찾으러': 7428, '찾으려면': 7429, '찾으면': 7430, '찾으시기': 7431, '찾으시나요': 7432, '찾으시는': 7433, '찾으시는지': 7434, '찾은': 7435, '찾을': 7436, '찾지': 7437, '채': 7438, '채굴': 7439, '채권': 7440, '채권자': 7441, '채널': 7442, '채무': 7443, '채무자': 7444, '채색': 7445, '채소': 7446, '채식': 7447, '채식주의자': 7448, '채용': 7449, '채우고': 7450, '채우지': 7451, '채워졌습니다': 7452, '채취': 7453, '채택': 7454, '채팅': 7455, '책': 7456, '책임': 7457, '책임감': 7458, '책임자': 7459, '책임지겠습니다': 7460, '책임지기로': 7461, '책임지는': 7462, '책임질': 7463, '책자': 7464, '책정': 7465, '챔버입니': 7466, '챕': 7467, '처': 7468, '처가': 7469, '처럼': 7470, '처리': 7471, '처리기': 7472, '처방': 7473, '처분': 7474, '처음': 7475, '천만': 7476, '천연': 7477, '천연가스': 7478, '천장': 7479, '천천히': 7480, '철': 7481, '철강': 7482, '철도': 7483, '철저하게': 7484, '철제': 7485, '철학': 7486, '철회': 7487, '첨부': 7488, '첫': 7489, '첫날': 7490, '첫인상': 7491, '첫째': 7492, '청': 7493, '청각장애': 7494, '청구': 7495, '청년': 7496, '청동': 7497, '청문회': 7498, '청사진': 7499, '청소': 7500, '청소년': 7501, '청정': 7502, '청정기': 7503, '청중': 7504, '청취': 7505, '체결': 7506, '체납': 7507, '체류': 7508, '체육관': 7509, '체인': 7510, '체인점': 7511, '체제': 7512, '체크': 7513, '체크아웃': 7514, '체험': 7515, '쳐진': 7516, '초': 7517, '초고': 7518, '초과': 7519, '초기': 7520, '초당': 7521, '초대': 7522, '초대장': 7523, '초래': 7524, '초상화': 7525, '초안': 7526, '초음파': 7527, '초입': 7528, '초점': 7529, '초청': 7530, '초콜릿': 7531, '촉구': 7532, '촉박하니': 7533, '총': 7534, '총수': 7535, '총칭': 7536, '촬영': 7537, '최': 7538, '최고': 7539, '최고급': 7540, '최근': 7541, '최대': 7542, '최대한': 7543, '최상': 7544, '최선': 7545, '최선일': 7546, '최소': 7547, '최소한': 7548, '최신': 7549, '최악': 7550, '최저': 7551, '최적': 7552, '최적화': 7553, '최종': 7554, '최첨단': 7555, '최초': 7556, '쵸': 7557, '추가': 7558, '추구': 7559, '추는': 7560, '추석': 7561, '추세': 7562, '추억': 7563, '추운데': 7564, '추울지라도': 7565, '추적': 7566, '추정': 7567, '추진': 7568, '추천': 7569, '추출': 7570, '추후': 7571, '축': 7572, '축배': 7573, '축소': 7574, '축하': 7575, '출': 7576, '출구': 7577, '출금': 7578, '출두': 7579, '출력': 7580, '출발점': 7581, '출산': 7582, '출시': 7583, '출연': 7584, '출이': 7585, '출장': 7586, '출퇴근': 7587, '출판': 7588, '출판물': 7589, '출판사': 7590, '출하': 7591, '출하겠습니다': 7592, '출하실': 7593, '춤': 7594, '충': 7595, '충격': 7596, '충당': 7597, '충돌': 7598, '충분하네요': 7599, '충분하다고': 7600, '충분하지': 7601, '충분한': 7602, '충분할': 7603, '충분할까': 7604, '충분합니다': 7605, '충분해요': 7606, '충분히': 7607, '충실한': 7608, '충실했기': 7609, '충전': 7610, '충전기': 7611, '충족': 7612, '취': 7613, '취급': 7614, '취득': 7615, '취미': 7616, '취사': 7617, '취소': 7618, '취약': 7619, '취재': 7620, '취직': 7621, '취하': 7622, '취한': 7623, '취할': 7624, '취해': 7625, '취향': 7626, '측': 7627, '측면': 7628, '측정': 7629, '측정기': 7630, '층': 7631, '치': 7632, '치가': 7633, '치고는': 7634, '치과': 7635, '치료': 7636, '치르려면': 7637, '치맥': 7638, '치솟는': 7639, '치수': 7640, '치열해져서': 7641, '치즈': 7642, '치킨': 7643, '친': 7644, '친구': 7645, '친절하게': 7646, '친절하고': 7647, '친절한': 7648, '친절함과': 7649, '친척': 7650, '친한': 7651, '친환경': 7652, '칠': 7653, '칠했으면': 7654, '침': 7655, '침대': 7656, '침실': 7657, '침입': 7658, '침체': 7659, '침해': 7660, '칩': 7661, '칩셋': 7662, '칭찬': 7663, '카드': 7664, '카메라': 7665, '카뷰': 7666, '카운터': 7667, '카운트다운': 7668, '카지노': 7669, '카탈로그': 7670, '카테고리': 7671, '카트': 7672, '카페': 7673, '카페테리아': 7674, '카펫': 7675, '카피': 7676, '칵테일': 7677, '칸': 7678, '칼': 7679, '칼리': 7680, '캐': 7681, '캐나다': 7682, '캐리어': 7683, '캐릭터': 7684, '캐비닛': 7685, '캐빈': 7686, '캐싱': 7687, '캐터필러': 7688, '캐피탈': 7689, '캐피털': 7690, '캘리포니아': 7691, '캘린더': 7692, '캠': 7693, '캠퍼스': 7694, '캠페인': 7695, '캠프': 7696, '캠프장': 7697, '캠프파이어': 7698, '캠핑': 7699, '캠핑장': 7700, '캠핑카': 7701, '캡슐화': 7702, '캡처': 7703, '커뮤니케이션': 7704, '커뮤니티': 7705, '커미션': 7706, '커버': 7707, '커지고': 7708, '커질': 7709, '커집니다': 7710, '커터': 7711, '커튼': 7712, '커플': 7713, '커피': 7714, '커피메이커': 7715, '컨디셔닝': 7716, '컨베이어': 7717, '컨설턴트': 7718, '컨설팅': 7719, '컨셉': 7720, '컨테이너': 7721, '컨텐츠': 7722, '컬래버레이션': 7723, '컬러': 7724, '컴퍼니': 7725, '컴포트룸': 7726, '컴퓨터': 7727, '컴퓨팅': 7728, '컴프레서': 7729, '컷': 7730, '케어': 7731, '케이': 7732, '케이블': 7733, '케이스': 7734, '케이크': 7735, '코': 7736, '코너': 7737, '코드': 7738, '코딩': 7739, '코로나': 7740, '코르크': 7741, '코리아': 7742, '코리안': 7743, '코멘트': 7744, '코스': 7745, '코스닥': 7746, '코인': 7747, '코치': 7748, '코칭': 7749, '코코넛': 7750, '코퍼레이션': 7751, '콕': 7752, '콘덴서': 7753, '콘도': 7754, '콘도그': 7755, '콘서트': 7756, '콘셉': 7757, '콘셉트': 7758, '콘솔': 7759, '콘크리트': 7760, '콘텐츠': 7761, '콜리': 7762, '콜링': 7763, '콜카타': 7764, '콩나물': 7765, '쾌적한': 7766, '쿠션': 7767, '쿠알라룸푸르': 7768, '쿠키': 7769, '쿠폰': 7770, '쿨': 7771, '쿨러': 7772, '퀼트': 7773, '큐': 7774, '크가': 7775, '크게': 7776, '크고요': 7777, '크기': 7778, '크네요': 7779, '크라': 7780, '크레딧': 7781, '크레인': 7782, '크루아상': 7783, '크류': 7784, '크를': 7785, '크리스마스': 7786, '크리에이터': 7787, '크리에이티브': 7788, '크립': 7789, '크며': 7790, '큰': 7791, '큰가요': 7792, '큰데': 7793, '큰데요': 7794, '클라우드': 7795, '클라이언트': 7796, '클래스': 7797, '클러스터': 7798, '클럽': 7799, '클레': 7800, '클리': 7801, '클릭': 7802, '클릭률': 7803, '클립': 7804, '큼': 7805, '큽니까': 7806, '큽니다': 7807, '키': 7808, '키란': 7809, '키우고': 7810, '키울': 7811, '키워': 7812, '키트': 7813, '킬로그램': 7814, '킬로미터': 7815, '킬로와트': 7816, '타': 7817, '타겟': 7818, '타고': 7819, '타기를': 7820, '타깃': 7821, '타는': 7822, '타당': 7823, '타러': 7824, '타운하우스': 7825, '타원곡선': 7826, '타이머': 7827, '타이밍': 7828, '타이어': 7829, '타이틀곡': 7830, '타임': 7831, '타임스퀘어': 7832, '타입': 7833, '타자기': 7834, '타협': 7835, '탁월한': 7836, '탁자': 7837, '탄소': 7838, '탄원서': 7839, '탈': 7840, '탈세': 7841, '탈수': 7842, '탈퇴': 7843, '탐구': 7844, '탐방': 7845, '탐색': 7846, '탐험': 7847, '탑': 7848, '탑승': 7849, '탑재': 7850, '탕': 7851, '탕감': 7852, '태국': 7853, '태국어': 7854, '태그': 7855, '태극': 7856, '태극기': 7857, '태도': 7858, '태블릿': 7859, '태양': 7860, '택배': 7861, '탤런트': 7862, '탭': 7863, '터': 7864, '터널': 7865, '터링': 7866, '터미널': 7867, '터북': 7868, '터치': 7869, '터치스크린': 7870, '터키': 7871, '턴': 7872, '턴키': 7873, '테': 7874, '테니스': 7875, '테라': 7876, '테라바이트': 7877, '테라스': 7878, '테마': 7879, '테스': 7880, '테스트': 7881, '테이': 7882, '테이블': 7883, '테이프': 7884, '테크놀로지': 7885, '텍스처': 7886, '텍스트': 7887, '텐데': 7888, '텐데요': 7889, '텐트': 7890, '텔레비전': 7891, '템플': 7892, '템플릿': 7893, '템플스테이': 7894, '토너': 7895, '토론': 7896, '토르티야': 7897, '토목': 7898, '토스터': 7899, '토스트': 7900, '토요일': 7901, '토지': 7902, '토큰': 7903, '톤': 7904, '통': 7905, '통계': 7906, '통과': 7907, '통관': 7908, '통닭': 7909, '통도사': 7910, '통보': 7911, '통상': 7912, '통신': 7913, '통신망': 7914, '통신사': 7915, '통역': 7916, '통역관': 7917, '통장': 7918, '통제': 7919, '통지': 7920, '통지서': 7921, '통째': 7922, '통찰': 7923, '통한': 7924, '통합': 7925, '통해': 7926, '통화': 7927, '퇴근': 7928, '퇴사': 7929, '투': 7930, '투명': 7931, '투명하므로': 7932, '투숙': 7933, '투어': 7934, '투자': 7935, '투자가': 7936, '투자수익률': 7937, '투자자': 7938, '툴': 7939, '튀긴': 7940, '튀김': 7941, '튜브': 7942, '튜토리얼': 7943, '트': 7944, '트는': 7945, '트래킹': 7946, '트래픽': 7947, '트랙볼': 7948, '트랙터': 7949, '트랙패드': 7950, '트랜치': 7951, '트러블': 7952, '트럭': 7953, '트레인': 7954, '트레일러': 7955, '트렌드': 7956, '트리': 7957, '트리트먼트': 7958, '트리플': 7959, '트윈': 7960, '트입니다': 7961, '특권': 7962, '특급': 7963, '특기': 7964, '특별': 7965, '특별하게': 7966, '특별한': 7967, '특별할': 7968, '특별해': 7969, '특별히': 7970, '특산': 7971, '특선': 7972, '특성': 7973, '특수': 7974, '특수한': 7975, '특정': 7976, '특정한': 7977, '특제': 7978, '특집': 7979, '특징': 7980, '특허': 7981, '특히': 7982, '튼튼한': 7983, '틀림없습니다': 7984, '틀림없이': 7985, '틀어놓아서': 7986, '틈': 7987, '틈새': 7988, '티': 7989, '티슈': 7990, '티저': 7991, '티켓': 7992, '팀': 7993, '팀원': 7994, '팁': 7995, '팅': 7996, '파견': 7997, '파괴': 7998, '파는': 7999, '파란색': 8000, '파로': 8001, '파리': 8002, '파산': 8003, '파산하기': 8004, '파산하지': 8005, '파손': 8006, '파스타': 8007, '파악': 8008, '파워': 8009, '파이': 8010, '파이썬': 8011, '파이프': 8012, '파이프라인': 8013, '파인': 8014, '파일': 8015, '파키스탄': 8016, '파트너': 8017, '파트너쉽': 8018, '파티': 8019, '파파야': 8020, '판': 8021, '판금': 8022, '판다던데': 8023, '판단': 8024, '판매': 8025, '판매량': 8026, '판매업': 8027, '판명': 8028, '판촉': 8029, '팔': 8030, '팔겠네요': 8031, '팔고': 8032, '팔레트': 8033, '팔려면': 8034, '팔로우': 8035, '팔로워': 8036, '팔리고': 8037, '팔리는': 8038, '팔립니다': 8039, '팔지': 8040, '팜': 8041, '팜스프링스': 8042, '팜유': 8043, '팝': 8044, '팟캐스트': 8045, '패널': 8046, '패션': 8047, '패스': 8048, '패스트': 8049, '패스트푸드': 8050, '패자': 8051, '패치': 8052, '패키지': 8053, '패턴': 8054, '팩': 8055, '팩스': 8056, '팬': 8057, '팬데믹': 8058, '팬케이크': 8059, '팸플릿': 8060, '퍼센트': 8061, '퍼지는지는': 8062, '펀드': 8063, '펀딩': 8064, '펄스': 8065, '펌프': 8066, '페스티벌': 8067, '페이': 8068, '페이스': 8069, '페이지': 8070, '펜션': 8071, '펠메니': 8072, '펴고': 8073, '펴는': 8074, '편': 8075, '편곡': 8076, '편도': 8077, '편리하나요': 8078, '편리하도록': 8079, '편리한': 8080, '편리한지': 8081, '편리합니까': 8082, '편리합니다': 8083, '편물': 8084, '편안하게': 8085, '편안하고': 8086, '편안한': 8087, '편안함': 8088, '편안히': 8089, '편애': 8090, '편의': 8091, '편의점': 8092, '편이': 8093, '편입': 8094, '편지': 8095, '편지함': 8096, '편집': 8097, '편집자': 8098, '편하게': 8099, '편하신': 8100, '편하지': 8101, '편하지는': 8102, '편합니다': 8103, '편해요': 8104, '편히': 8105, '평가': 8106, '평가판': 8107, '평균': 8108, '평면도': 8109, '평방': 8110, '평범해': 8111, '평생': 8112, '평일': 8113, '평점': 8114, '평판': 8115, '평편': 8116, '평평하게': 8117, '평화': 8118, '폐가': 8119, '폐기물': 8120, '폐쇄': 8121, '폐쇄되어': 8122, '폐쇄하': 8123, '포': 8124, '포격': 8125, '포괄': 8126, '포기': 8127, '포스터': 8128, '포스트': 8129, '포스팅': 8130, '포인트': 8131, '포장': 8132, '포지셔닝': 8133, '포지션': 8134, '포켓': 8135, '포탄': 8136, '포털': 8137, '포토': 8138, '포트': 8139, '포트폴리오': 8140, '포함': 8141, '포항': 8142, '폭': 8143, '폭력': 8144, '폰': 8145, '폰트': 8146, '폴더': 8147, '폴리스티렌': 8148, '폴리오': 8149, '폴리우레탄': 8150, '폼': 8151, '표': 8152, '표면': 8153, '표시': 8154, '표절': 8155, '표정': 8156, '표준': 8157, '표지': 8158, '표현': 8159, '푸드': 8160, '풀': 8161, '풀어': 8162, '품': 8163, '품목': 8164, '품은': 8165, '품절': 8166, '품종': 8167, '품질': 8168, '풍': 8169, '풍부할': 8170, '풍향': 8171, '퓨전': 8172, '프라이': 8173, '프라이드': 8174, '프라이머리': 8175, '프랑스': 8176, '프랑스어': 8177, '프랜차이즈': 8178, '프레': 8179, '프레임': 8180, '프레임워크': 8181, '프로': 8182, '프로그래머': 8183, '프로그래밍': 8184, '프로그램': 8185, '프로듀서': 8186, '프로모션': 8187, '프로세서': 8188, '프로세스': 8189, '프로젝터': 8190, '프로젝트': 8191, '프로토콜': 8192, '프로토타입': 8193, '프로필': 8194, '프루티': 8195, '프리랜서': 8196, '프리미엄': 8197, '프리뷰': 8198, '프린터': 8199, '플': 8200, '플라스틱': 8201, '플라이': 8202, '플라자': 8203, '플래닝': 8204, '플래시': 8205, '플래티넘': 8206, '플랜': 8207, '플랫폼': 8208, '플러그인': 8209, '플러머': 8210, '플러스': 8211, '플레이': 8212, '플레이어': 8213, '플로우': 8214, '플로터': 8215, '플루': 8216, '플립': 8217, '피': 8218, '피나': 8219, '피니쉬': 8220, '피드백': 8221, '피로연': 8222, '피부': 8223, '피스톤': 8224, '피아노': 8225, '피우기에는': 8226, '피칭팀': 8227, '피크': 8228, '피트': 8229, '피트니스': 8230, '피하': 8231, '피해': 8232, '피해자': 8233, '픽셀': 8234, '픽업': 8235, '핀': 8236, '필기체': 8237, '필드': 8238, '필름': 8239, '필리핀': 8240, '필수': 8241, '필요': 8242, '필요성': 8243, '필요없을': 8244, '필요없이': 8245, '필요하고': 8246, '필요하기': 8247, '필요하나요': 8248, '필요하니': 8249, '필요하니까': 8250, '필요하다고': 8251, '필요하므로': 8252, '필요하세요': 8253, '필요하시나요': 8254, '필요하시다면': 8255, '필요하시면': 8256, '필요하시죠': 8257, '필요하신': 8258, '필요하신가요': 8259, '필요하신지': 8260, '필요하십니까': 8261, '필요하죠': 8262, '필요하지': 8263, '필요하지는': 8264, '필요한': 8265, '필요한가요': 8266, '필요한데요': 8267, '필요한지': 8268, '필요할': 8269, '필요합니까': 8270, '필요합니다': 8271, '필요해서': 8272, '필요해서요': 8273, '필요해요': 8274, '필요했어요': 8275, '필욘': 8276, '필터': 8277, '핑크': 8278, '하': 8279, '하게': 8280, '하겠네요': 8281, '하겠다고': 8282, '하겠습니다': 8283, '하겠습니다만': 8284, '하겠어요': 8285, '하고': 8286, '하고는': 8287, '하고요': 8288, '하고있는': 8289, '하고자': 8290, '하기': 8291, '하기가': 8292, '하기까지': 8293, '하기는': 8294, '하기로': 8295, '하기를': 8296, '하기만': 8297, '하기에': 8298, '하기에는': 8299, '하긴': 8300, '하길': 8301, '하나': 8302, '하나로': 8303, '하나요': 8304, '하네요': 8305, '하느냐에': 8306, '하는': 8307, '하는데': 8308, '하는데요': 8309, '하는지': 8310, '하는지를': 8311, '하는지에': 8312, '하는지요': 8313, '하니': 8314, '하니까': 8315, '하다': 8316, '하다고': 8317, '하단': 8318, '하더군요': 8319, '하더라도': 8320, '하도록': 8321, '하드': 8322, '하드웨어': 8323, '하락': 8324, '하러': 8325, '하려': 8326, '하려고': 8327, '하려고요': 8328, '하려는': 8329, '하려면': 8330, '하루': 8331, '하루나': 8332, '하룻밤': 8333, '하며': 8334, '하면': 8335, '하면서': 8336, '하므로': 8337, '하세요': 8338, '하셔도': 8339, '하셔서': 8340, '하셔야': 8341, '하셨군요': 8342, '하셨기': 8343, '하셨나요': 8344, '하셨는데': 8345, '하셨는데요': 8346, '하셨는지': 8347, '하셨다고': 8348, '하셨다면': 8349, '하셨습니까': 8350, '하셨습니다': 8351, '하셨어야': 8352, '하셨어요': 8353, '하셨으니': 8354, '하셨으면': 8355, '하셨잖아요': 8356, '하셨죠': 8357, '하수': 8358, '하숙집': 8359, '하시': 8360, '하시거나': 8361, '하시게': 8362, '하시겠습니까': 8363, '하시겠어요': 8364, '하시고': 8365, '하시기': 8366, '하시길': 8367, '하시나요': 8368, '하시는': 8369, '하시는군요': 8370, '하시는데요': 8371, '하시는지': 8372, '하시는지에': 8373, '하시니까': 8374, '하시더라도': 8375, '하시도록': 8376, '하시려던': 8377, '하시려면': 8378, '하시면': 8379, '하시죠': 8380, '하시지': 8381, '하신': 8382, '하신다고': 8383, '하신다는': 8384, '하실': 8385, '하실것': 8386, '하실래요': 8387, '하실수': 8388, '하실지': 8389, '하십니까': 8390, '하십니다': 8391, '하십시오': 8392, '하얀색': 8393, '하여': 8394, '하여야': 8395, '하였나요': 8396, '하였다': 8397, '하였습니다': 8398, '하였으며': 8399, '하오니': 8400, '하와이': 8401, '하우': 8402, '하우스': 8403, '하이재킹': 8404, '하이킹': 8405, '하이테크': 8406, '하자': 8407, '하자구요': 8408, '하잖아요': 8409, '하죠': 8410, '하지': 8411, '하지는': 8412, '하지만': 8413, '하지요': 8414, '학': 8415, '학과': 8416, '학교': 8417, '학기': 8418, '학년': 8419, '학문': 8420, '학생': 8421, '학술': 8422, '학습': 8423, '학업': 8424, '학원': 8425, '학위': 8426, '학자': 8427, '학자금': 8428, '한': 8429, '한가한데': 8430, '한계': 8431, '한국': 8432, '한국어': 8433, '한국은행': 8434, '한국인': 8435, '한꺼': 8436, '한다': 8437, '한다고': 8438, '한다는': 8439, '한다면': 8440, '한도': 8441, '한두': 8442, '한마디': 8443, '한번': 8444, '한식': 8445, '한식당': 8446, '한옥호텔': 8447, '한우': 8448, '한자': 8449, '한잔': 8450, '한정': 8451, '한정식': 8452, '한정판': 8453, '한지': 8454, '한창': 8455, '한층': 8456, '한테': 8457, '한편': 8458, '할': 8459, '할게': 8460, '할게요': 8461, '할까': 8462, '할당': 8463, '할랄': 8464, '할머니': 8465, '할부': 8466, '할애': 8467, '할인': 8468, '할지': 8469, '할지에': 8470, '함': 8471, '함께': 8472, '함께해': 8473, '합': 8474, '합격': 8475, '합계': 8476, '합니다': 8477, '합니다만': 8478, '합류': 8479, '합리': 8480, '합법': 8481, '합성': 8482, '합시다': 8483, '합의': 8484, '합작': 8485, '합쳐서': 8486, '합판': 8487, '핫': 8488, '핫스팟': 8489, '항': 8490, '항공': 8491, '항공사': 8492, '항구': 8493, '항목': 8494, '항상': 8495, '항성': 8496, '항의': 8497, '해': 8498, '해결': 8499, '해고': 8500, '해당': 8501, '해도': 8502, '해독': 8503, '해드려': 8504, '해드려서': 8505, '해드려요': 8506, '해드렸으면': 8507, '해드리겠습니다': 8508, '해드리고': 8509, '해드리도록': 8510, '해드릴': 8511, '해드릴게요': 8512, '해드릴까': 8513, '해드립니다': 8514, '해명': 8515, '해변': 8516, '해보겠습니다': 8517, '해보고': 8518, '해보는': 8519, '해보니': 8520, '해보도록': 8521, '해보려고': 8522, '해보면': 8523, '해보셔도': 8524, '해보셨나요': 8525, '해보셨을까요': 8526, '해보시는': 8527, '해보죠': 8528, '해볼': 8529, '해볼게요': 8530, '해볼까': 8531, '해봐야': 8532, '해봐야겠네요': 8533, '해봐야겠어요': 8534, '해봤고': 8535, '해봤는데': 8536, '해상도': 8537, '해서': 8538, '해서는': 8539, '해서도': 8540, '해서라면': 8541, '해서만': 8542, '해서예요': 8543, '해서요': 8544, '해석': 8545, '해소': 8546, '해심': 8547, '해안': 8548, '해야': 8549, '해야겠군요': 8550, '해야겠네요': 8551, '해야겠습니다': 8552, '해야겠어요': 8553, '해야하나요': 8554, '해오겠습니다': 8555, '해와': 8556, '해왔기': 8557, '해왔는지': 8558, '해왔습니다': 8559, '해왔어요': 8560, '해외': 8561, '해외여행': 8562, '해요': 8563, '해졌습니까': 8564, '해주고': 8565, '해주길': 8566, '해주는': 8567, '해주는지': 8568, '해주세요': 8569, '해주셔서': 8570, '해주셔야': 8571, '해주셨으면': 8572, '해주시': 8573, '해주시겠습니까': 8574, '해주시겠어요': 8575, '해주시고': 8576, '해주시기': 8577, '해주시길': 8578, '해주시나요': 8579, '해주시면': 8580, '해주신': 8581, '해주실': 8582, '해주십니까': 8583, '해주십니다': 8584, '해주십시오': 8585, '해주었어요': 8586, '해주지': 8587, '해준': 8588, '해줄': 8589, '해줍니다': 8590, '해줘서': 8591, '해줘요': 8592, '해지': 8593, '해초': 8594, '해커': 8595, '해킹': 8596, '해피': 8597, '핵심': 8598, '핸드폰': 8599, '했': 8600, '했거든요': 8601, '했고': 8602, '했고요': 8603, '했기': 8604, '했나요': 8605, '했네요': 8606, '했는데': 8607, '했는데요': 8608, '했는지': 8609, '했다': 8610, '했다고': 8611, '했다는': 8612, '했다면': 8613, '했던': 8614, '했듯이': 8615, '했습니까': 8616, '했습니다': 8617, '했어': 8618, '했어야': 8619, '했어요': 8620, '했었는데요': 8621, '했었습니다': 8622, '했었어요': 8623, '했으니': 8624, '했으며': 8625, '했으면': 8626, '했을': 8627, '했음': 8628, '했잖아요': 8629, '했죠': 8630, '했지만': 8631, '행': 8632, '행동': 8633, '행복': 8634, '행복하고': 8635, '행복하죠': 8636, '행복하지': 8637, '행복한': 8638, '행복합니다': 8639, '행사': 8640, '행운': 8641, '행해지나요': 8642, '향': 8643, '향상': 8644, '향수': 8645, '향신료': 8646, '향후': 8647, '허가': 8648, '허가증': 8649, '허락': 8650, '허브': 8651, '허브차': 8652, '허슬': 8653, '허용': 8654, '허튼': 8655, '허풍': 8656, '헌신': 8657, '헐벗': 8658, '헤드헌터': 8659, '헤어드라이어': 8660, '헤지': 8661, '헬': 8662, '헬스장': 8663, '헷갈려요': 8664, '헷갈리시는': 8665, '혁신': 8666, '현': 8667, '현금': 8668, '현대': 8669, '현명하게': 8670, '현명한': 8671, '현미경': 8672, '현상': 8673, '현수막': 8674, '현장': 8675, '현재': 8676, '현지': 8677, '현행': 8678, '현황': 8679, '혈압': 8680, '혈액': 8681, '혐의': 8682, '협동': 8683, '협력': 8684, '협상': 8685, '협약': 8686, '협연': 8687, '협의': 8688, '협정': 8689, '협조': 8690, '협찬': 8691, '협회': 8692, '형': 8693, '형기': 8694, '형성': 8695, '형식': 8696, '형제': 8697, '형태': 8698, '혜택': 8699, '호도': 8700, '호법': 8701, '호스팅': 8702, '호실': 8703, '호의': 8704, '호주': 8705, '호출': 8706, '호텔': 8707, '호환': 8708, '호환성': 8709, '호흡': 8710, '혹독한': 8711, '혹시': 8712, '혹은': 8713, '혼란': 8714, '혼자': 8715, '혼잡합니다': 8716, '혼합': 8717, '홀': 8718, '홈': 8719, '홈스테이': 8720, '홈페이지': 8721, '홋카이도': 8722, '홍보': 8723, '화': 8724, '화가': 8725, '화거': 8726, '화기': 8727, '화나게': 8728, '화나신': 8729, '화면': 8730, '화물': 8731, '화물선': 8732, '화보': 8733, '화상': 8734, '화상통화': 8735, '화상회의': 8736, '화소': 8737, '화요일': 8738, '화의': 8739, '화이트': 8740, '화장실': 8741, '화장품': 8742, '화전': 8743, '화폐': 8744, '화하는': 8745, '화학': 8746, '화할': 8747, '화합': 8748, '화해': 8749, '화해줘요': 8750, '확고한': 8751, '확답': 8752, '확대': 8753, '확보': 8754, '확신': 8755, '확실하거든요': 8756, '확실하게': 8757, '확실하며': 8758, '확실하신가요': 8759, '확실하지': 8760, '확실한': 8761, '확실할': 8762, '확실합니다': 8763, '확실해지셨나요': 8764, '확실히': 8765, '확인': 8766, '확장': 8767, '확정': 8768, '환': 8769, '환경': 8770, '환급': 8771, '환불': 8772, '환상': 8773, '환영': 8774, '환율': 8775, '환자': 8776, '환전': 8777, '환호': 8778, '활': 8779, '활동': 8780, '활발하게': 8781, '활성화': 8782, '활용': 8783, '회': 8784, '회계': 8785, '회계법인': 8786, '회계사': 8787, '회도': 8788, '회로': 8789, '회복': 8790, '회복할': 8791, '회비': 8792, '회사': 8793, '회수': 8794, '회신': 8795, '회원': 8796, '회의': 8797, '회의실': 8798, '회의장': 8799, '회장': 8800, '회전': 8801, '회차': 8802, '회화': 8803, '횡설수설': 8804, '효과': 8805, '효율': 8806, '후': 8807, '후루룩': 8808, '후불': 8809, '후속': 8810, '후송': 8811, '후식': 8812, '후원': 8813, '후원자': 8814, '후의': 8815, '후회': 8816, '훈련': 8817, '훌륭하고': 8818, '훌륭하네요': 8819, '훌륭하지만': 8820, '훌륭한': 8821, '훌륭할': 8822, '훌륭합니다': 8823, '훑어': 8824, '훨씬': 8825, '훼손': 8826, '휘': 8827, '휘발유': 8828, '휠': 8829, '휩쓸었고': 8830, '휴': 8831, '휴가': 8832, '휴대': 8833, '휴대전화': 8834, '휴대폰': 8835, '휴식': 8836, '휴양': 8837, '흐름': 8838, '흐릿하': 8839, '흑자': 8840, '흔히': 8841, '흘려': 8842, '흘리고': 8843, '흙': 8844, '흙빛': 8845, '흡사합니다': 8846, '흡수': 8847, '흡입': 8848, '흥미': 8849, '흥미로운': 8850, '흥미로워': 8851, '흥미롭게': 8852, '흥미롭군요': 8853, '흥미롭네요': 8854, '흥미롭습니다': 8855, '흥분': 8856, '흥분하고': 8857, '흥분할': 8858, '희망': 8859, '흰색': 8860, '히': 8861, '히트': 8862, '힘': 8863, '힘들어도': 8864, '힘들어요': 8865, '힘쓰고': 8866}\n"
          ]
        }
      ]
    },
    {
      "cell_type": "markdown",
      "metadata": {
        "id": "tWUdLA1eanaz"
      },
      "source": [
        "### 정수 인코딩"
      ]
    },
    {
      "cell_type": "code",
      "source": [
        "tar_seq_tr[0]"
      ],
      "metadata": {
        "colab": {
          "base_uri": "https://localhost:8080/"
        },
        "id": "1dg1HHYfR-UY",
        "outputId": "293d93ed-6c32-49b8-8566-86562aeb0151"
      },
      "execution_count": null,
      "outputs": [
        {
          "output_type": "execute_result",
          "data": {
            "text/plain": [
              "['<SOS>',\n",
              " '그',\n",
              " '말',\n",
              " '을',\n",
              " '들으니',\n",
              " '기쁘고',\n",
              " ',',\n",
              " '저희',\n",
              " '와',\n",
              " '거래',\n",
              " '하는',\n",
              " '것',\n",
              " '을',\n",
              " '고려',\n",
              " '해',\n",
              " '주셨으면',\n",
              " '합니다',\n",
              " '.',\n",
              " '<EOS>']"
            ]
          },
          "metadata": {},
          "execution_count": 82
        }
      ]
    },
    {
      "cell_type": "code",
      "source": [
        "src_vocab_size = len(src_vocab)+1\n",
        "tar_vocab_size = len(tar_vocab)+1"
      ],
      "metadata": {
        "id": "0DTQOwJqS_xl"
      },
      "execution_count": null,
      "outputs": []
    },
    {
      "cell_type": "code",
      "execution_count": null,
      "metadata": {
        "id": "ocvHdAzp0B3Q",
        "colab": {
          "base_uri": "https://localhost:8080/"
        },
        "outputId": "212bb17f-1d72-4d19-9411-33d03a4e9b50"
      },
      "outputs": [
        {
          "output_type": "stream",
          "name": "stdout",
          "text": [
            "target 문장의 정수 인코딩 :\n",
            " [tensor([   2, 1220, 2838, 5997, 2455, 1391,   19, 6635, 5692,  775, 8307,  862,\n",
            "        5997,  980, 8498, 7054, 8477,   21]), tensor([   2, 8765, 4210, 8286, 6392,   19, 3031,  584, 5461, 3575, 4837,  865,\n",
            "        6398,   21]), tensor([   2, 5590, 4340,  247,  476, 7116,   29,  476, 1830,  993, 1518,  731,\n",
            "        2536, 2313, 1882, 7810, 6391,   21]), tensor([   2, 1220, 2407, 5393, 2838, 8335,   19, 6635,  467, 1220, 4951, 2407,\n",
            "        5997, 2149,  862, 6329,   21]), tensor([   2, 6971,   19, 4496, 5992, 5243,  549,  340])] \n",
            "\n"
          ]
        }
      ],
      "source": [
        "# 앞서 toekn-index dictionary로 정리한 것을 이용해서 각각의 토큰들을 정수인코딩을 진행해봅니다.\n",
        "# 이 과정에서 유의할 점은, 기존의 구현 코드에서 여러개의 for loop을 사용했습니다.\n",
        "# 이보다 빨리 진행하기 위해 어떻게 코딩할 수 있을까요?\n",
        "# 시간이 충분하시다면 for loop을 그대로 이용하셔도 좋습니다만, 다른 방법도 고민하셔도 좋습니다.\n",
        "# hint: Pandas에서 apply와 비슷한 것들을 이용해보면 어떨까요?\n",
        "\n",
        "# encoder의 입력값 정수 인코딩 진행\n",
        "\n",
        "encoder_input = []\n",
        "\n",
        "# 1개의 문장\n",
        "for line in src_seq_tr:\n",
        "  encoded_line = []\n",
        "  for char in line:\n",
        "    # 각 알파벳을 정수로 바꾸어야합니다. 왜 하필 정수형이냐에 대해선 이후에 있을 Embedding과 관련 있습니다.\n",
        "    # 우선 각 알파벳을 숫자로 바꿔줍니다.\n",
        "    encoded_line.append(src_to_index[char])\n",
        "  # 위에서 사용한 index도 정수형이긴한데, 결국 torch.Tensor를 사용해야 하고, Tensor에서 정수형에 해당하는 type이 LongTensor이기 때문에\n",
        "  # .long()을 이용하여 정수형으로 만들어 줍니다.\n",
        "  encoder_input.append(torch.Tensor(encoded_line).long())\n",
        "#print('source 문장의 정수 인코딩 :\\n',encoder_input[:5], '\\n')\n",
        "\n",
        "\n",
        "\n",
        "\n",
        "# 우선 decoder에서 사용하는 문장에 대해 정수인코딩 진행\n",
        "decoder_input = []\n",
        "\n",
        "for line in tar_seq_tr:\n",
        "  encoded_line = []\n",
        "  for char in line:\n",
        "    # 각 알파벳을 정수로 바꾸어야합니다. 왜 하필 정수형이냐에 대해선 이후에 있을 Embedding과 관련 있습니다.\n",
        "    # 우선 각 알파벳을 숫자로 바꿔줍니다.\n",
        "    encoded_line.append(tar_to_index[char])\n",
        "  # 위에서 사용한 index도 정수형이긴한데, 결국 torch.Tensor를 사용해야 하고, Tensor에서 정수형에 해당하는 type이 LongTensor이기 때문에\n",
        "  # .long()을 이용하여 정수형으로 만들어 줍니다.\n",
        "  decoder_input.append(torch.Tensor(encoded_line).long())\n",
        "#print('source 문장의 정수 인코딩 :\\n',encoder_input[:5], '\\n')\n",
        "\n",
        "\n",
        "\n",
        "# 다만 decoder의 출력값은 <SOS>들어가면 안되니 첫번째 토큰은 빼주기\n",
        "decoder_target = []\n",
        "\n",
        "for line in tar_seq_tr:\n",
        "\n",
        "  timestep = 0\n",
        "  encoded_line = []\n",
        "  for char in line:\n",
        "    if timestep > 0:\n",
        "      encoded_line.append(tar_to_index[char])\n",
        "    timestep = timestep + 1\n",
        "  \n",
        "  decoder_target.append(torch.Tensor(encoded_line).long())\n",
        "\n",
        "\n",
        "\n",
        "\n",
        "\n",
        "decoder_input = []\n",
        "# 여기서 line은 문자열에 해당합니다. \n",
        "for line in tar_seq_tr:\n",
        "  encoded_line = []\n",
        "  for char in line:\n",
        "    encoded_line.append(tar_to_index[char])\n",
        "  # 현재 데이터 상 문장 맨 마지막에는 <EOS>가 들어가 있는데, decoder를 학습할 때 <EOS>를 넣지 않으니 마지막의 값을 pop하여 제외합니다.\n",
        "  encoded_line.pop(-1)\n",
        "\n",
        "  # 여기서 .long()은 정수 인코딩된 문장들의 type을 정하는 것으로, 이후에 Embedding layer를 사용할 때 해당 타입을 사용해야하기 때문에 사용한 것입니다.\n",
        "  decoder_input.append(torch.Tensor(encoded_line).long())  \n",
        "print('target 문장의 정수 인코딩 :\\n',decoder_input[:5],'\\n')"
      ]
    },
    {
      "cell_type": "code",
      "execution_count": null,
      "metadata": {
        "id": "fT3x1SL_l1pY"
      },
      "outputs": [],
      "source": [
        "from torch.nn.utils.rnn import pad_sequence"
      ]
    },
    {
      "cell_type": "markdown",
      "metadata": {
        "id": "ibj8DeCqbvZG"
      },
      "source": [
        "### Padding"
      ]
    },
    {
      "cell_type": "code",
      "execution_count": null,
      "metadata": {
        "id": "sSNmdbEwuQR5"
      },
      "outputs": [],
      "source": [
        "# 현재 길이가 제각각인 정수화된 문장이 있습니다. padding을 통해 길이를 맞춰봅시다\n",
        "# 주의사항: 여기에 사용된 값을은 정수일까요?\n",
        "batch_first = True\n",
        "\n",
        "\n",
        "encoder_input_tr = pad_sequence(encoder_input, batch_first=batch_first).long()\n",
        "decoder_input_tr = pad_sequence(decoder_input, batch_first=batch_first).long()\n",
        "decoder_target_tr = ~~~~pad_sequence(decoder_target, batch_first=batch_first).long()"
      ]
    },
    {
      "cell_type": "markdown",
      "metadata": {
        "id": "FQ_AHRQPmfZX"
      },
      "source": [
        "## Train data\n",
        "\n",
        "tuple type으로,  (encoder_input, decoder_input, decoder_target)의 순서를 가지게 됩니다. 이는 tuple assignment를 이용하려고 하는 것이니 자유롭게 사용하셔도 좋습니다."
      ]
    },
    {
      "cell_type": "code",
      "execution_count": null,
      "metadata": {
        "id": "YXqi5dV-mjQD"
      },
      "outputs": [],
      "source": [
        "train_data = tuple([encoder_input_tr, decoder_input_tr, decoder_target_tr])"
      ]
    },
    {
      "cell_type": "markdown",
      "metadata": {
        "id": "nXhsP4O3mhih"
      },
      "source": [
        "## Eval data\n",
        "\n",
        "지금까지 진행한 것은 학습 데이터에 대한 전처리입니다.\n",
        "\n",
        "그런데 말입니다, 과연 평가 데이터는 학습데이터랑 동일한 형태일까요?\n",
        "\n",
        "사용하는 단어도 동일할까요?\n",
        "\n",
        "게다가 실제 데이터라면 문장 속에 이메일이나, 전화번호등 다른 것들로 대체해야할 게 있지 않을까요?\n",
        "\n",
        "참으로 고민할 게 많습니다. 이 모든 것들을 고려하면 좋겠지만, 현재 과제에서는 학습 데이터의 단어 집합에는 없는데 평가 데이터에서 등장하는 단어들은 어떻게 처리할지 한번 고민해봅시다.\n",
        "\n",
        "**핵심 TODO**:만약에 본 적이 없는 token이 나온다면 어떻게 될까요?\n",
        "\n",
        "--> Out of Vocabulary !  =지금까지 단어 집합에 없던 아이들!<br>\n",
        "\n",
        "이를 한번에 처리해주는 토큰으로 \\<UNK\\>(=unknown token) 을 사용\n",
        "\n",
        "EX)\n",
        "\n",
        "train data : \"나는 밥을 먹는다.\"<br>\n",
        "\\>> [\"나\", \"밥\", \"먹다\"]<br>\n",
        "\\>> [\\<SOS\\>, 나, 밥, 먹다, \\<EOS\\>] <BR>\n",
        "\\>> {\\<SOS\\>:0, \\<EOS\\>:1, \\<UNK\\>: 2, 나:3, 밥:4, 먹다:5}  <bR>\n",
        "\\>> [0, 3, 4, 5, 1] <BR>\n",
        "\n",
        "val data: \"나는 고기를 먹는다\"<br>\n",
        "\\>> ['나', '고기' '먹다']<BR>\n",
        "\\>> [\\<SOS\\>, 나, \\<UNK\\>, 먹다, \\<EOS\\>] <BR>\n",
        "\\>> [0, 3, 2, 5, 1] <BR>"
      ]
    },
    {
      "cell_type": "code",
      "execution_count": null,
      "metadata": {
        "colab": {
          "base_uri": "https://localhost:8080/"
        },
        "id": "tvlFP0Q94rU3",
        "outputId": "3054e7c5-e6f9-4dcd-c5ab-ca03c1a4f091"
      },
      "outputs": [
        {
          "output_type": "stream",
          "name": "stderr",
          "text": [
            "100%|██████████| 1000/1000 [00:07<00:00, 141.00it/s]\n"
          ]
        }
      ],
      "source": [
        "src_seq_val = []\n",
        "tar_seq_val = []\n",
        "\n",
        "\n",
        "for raw_val_dat in tqdm(raw_val_data):\n",
        "  # 문장별 tokenization\n",
        "  src_tmp = CustomTokenizer(raw_val_dat['en'])\n",
        "  tar_tmp = CustomTokenizer(raw_val_dat['ko'])\n",
        "\n",
        "  # 입력 시퀀스에서 문장의 끝을 알리는 <EOS> 토큰 추가\n",
        "  # 출력 시퀀스에서 시작과 끝을 알리는 <SOS>, <EOS> 토큰 추가\n",
        "  src_tmp.append('<EOS>')\n",
        "  tar_tmp.insert(0,'<SOS>')\n",
        "  tar_tmp.append('<EOS>')\n",
        "\n",
        "\n",
        "  # 처음보는 단어들은 일단 모르는 단어(OOV)로 표시해놓기  \n",
        "  # 해당 과정에서는 지금 얻은 toekn들(src_tmp와 tar_tmp)들 중에서 학습 데이터의 단어 집합(src_vocab과 tar_vocab)에 없는 단어들을 찾아야 합니다.\n",
        "  # 즉 위의 예시에서 \"고기\"에 해당하는 token을 찾아야 하고, 이를 list로 저장해봅시다.\n",
        "  src_oov = [word if word in src_vocab else '<UNK>' for word in src_tmp] \n",
        "  tar_oov = [word if word in tar_vocab else '<UNK>' for word in tar_tmp] \n",
        "\n",
        "  # OOV들은 <UNK>로 바꾸는 과정입니다.\n",
        "  # 지금 문장을 tokenization되어 있고, 앞서 구한 모르는 단어(OOV)들의 리스트(src_oov와 tar_oov)가 있는 상황에서\n",
        "  # 해당 리스트에 속한 토큰들은 <UNK>토큰으로 바꿔주는 것을 구현하는 파트입니다.\n",
        "  # 위의 예시에서 본다면 [<SOS>, 나, 고기, 먹다, <EOS>]를 [<SOS>, 나, <UNK>, 먹다, <EOS>]로 만들어주는 과정입니다.\n",
        "  src_seq_val.append(src_oov)\n",
        "  tar_seq_val.append(tar_oov)\n",
        "  # tokenization 끝난 문장 보관\n"
      ]
    },
    {
      "cell_type": "code",
      "execution_count": null,
      "metadata": {
        "colab": {
          "base_uri": "https://localhost:8080/"
        },
        "id": "s7x2S0t08dfe",
        "outputId": "1dce9805-6589-4c8c-dd2f-1821f46f4230"
      },
      "outputs": [
        {
          "output_type": "execute_result",
          "data": {
            "text/plain": [
              "['<SOS>',\n",
              " '더',\n",
              " '부드럽고',\n",
              " ',',\n",
              " '<UNK>',\n",
              " ',',\n",
              " '<UNK>',\n",
              " '톤',\n",
              " '의',\n",
              " '피부',\n",
              " '를',\n",
              " '<UNK>',\n",
              " '합니다',\n",
              " '.',\n",
              " '<EOS>']"
            ]
          },
          "metadata": {},
          "execution_count": 109
        }
      ],
      "source": [
        "tar_seq_val[5]"
      ]
    },
    {
      "cell_type": "markdown",
      "metadata": {
        "id": "70nzuKIPf3nX"
      },
      "source": [
        "위의 샘플을 보면 생각보다 너무 많은 단어들이 UNK로 바뀌었습니다. 이게 과연 성능에 어떤 영향을 끼칠까요? 이를 방지할 수 있는 대책은 무엇일까요?\n",
        "\n",
        "정답은 없습니다. 자유롭게 고민해보셔도 좋을 것 같습니다."
      ]
    },
    {
      "cell_type": "markdown",
      "metadata": {
        "id": "KoH1M8GofxwV"
      },
      "source": [
        "### UNK 토큰 추가 및 단어집합, token-index 업데이트"
      ]
    },
    {
      "cell_type": "code",
      "execution_count": null,
      "metadata": {
        "id": "lE3iIu_W8-78"
      },
      "outputs": [],
      "source": [
        "# UNK가 추가되면서 vocab과 index도 업데이트를 해야합니다.\n",
        "# 즉 지금 방식으로 처리한다면, 지금 단어 집합에는 <UNK>라는 토큰이 없습니다.\n",
        "# 그래서 UNK 토큰에도 정수를 할당해줘야 합니다.\n",
        "# 지금 0은 padding에서 사용하고 있으니 아래의 과정은 마지막에 <UNK>를 추가해보는 것입니다."
      ]
    },
    {
      "cell_type": "code",
      "execution_count": null,
      "metadata": {
        "colab": {
          "base_uri": "https://localhost:8080/"
        },
        "id": "KRl3l4bE9cVh",
        "outputId": "38b17f15-0fa4-4a57-8fdd-2d416dca5c55"
      },
      "outputs": [
        {
          "output_type": "execute_result",
          "data": {
            "text/plain": [
              "('é', 7116)"
            ]
          },
          "metadata": {},
          "execution_count": 110
        }
      ],
      "source": [
        "# 입력 시퀀스의 마지막 토큰과 정수인코딩값 확인\n",
        "list(src_to_index.items())[-1]"
      ]
    },
    {
      "cell_type": "code",
      "execution_count": null,
      "metadata": {
        "colab": {
          "base_uri": "https://localhost:8080/"
        },
        "id": "yRuj2FNmgfA3",
        "outputId": "1a017242-125d-4573-a2eb-356eafa2c3f1"
      },
      "outputs": [
        {
          "output_type": "execute_result",
          "data": {
            "text/plain": [
              "7116"
            ]
          },
          "metadata": {},
          "execution_count": 112
        }
      ],
      "source": [
        "# 현재 입력 시퀀스에 사용된 token들의 개수 확인\n",
        "len(src_vocab)"
      ]
    },
    {
      "cell_type": "code",
      "source": [
        "list(tar_to_index.items())[-1]"
      ],
      "metadata": {
        "colab": {
          "base_uri": "https://localhost:8080/"
        },
        "id": "vrlaOapHapEf",
        "outputId": "612f79a3-643e-4580-c666-c2b9ad107d78"
      },
      "execution_count": null,
      "outputs": [
        {
          "output_type": "execute_result",
          "data": {
            "text/plain": [
              "('힘쓰고', 8866)"
            ]
          },
          "metadata": {},
          "execution_count": 113
        }
      ]
    },
    {
      "cell_type": "code",
      "source": [
        "len(tar_vocab)"
      ],
      "metadata": {
        "colab": {
          "base_uri": "https://localhost:8080/"
        },
        "id": "72JkfaL2auT0",
        "outputId": "0bc7ac2c-61de-4d55-9b91-55a7cb3c5235"
      },
      "execution_count": null,
      "outputs": [
        {
          "output_type": "execute_result",
          "data": {
            "text/plain": [
              "8866"
            ]
          },
          "metadata": {},
          "execution_count": 114
        }
      ]
    },
    {
      "cell_type": "code",
      "source": [
        "src_to_index"
      ],
      "metadata": {
        "id": "_bLvoSmaaUpL"
      },
      "execution_count": null,
      "outputs": []
    },
    {
      "cell_type": "code",
      "execution_count": null,
      "metadata": {
        "id": "2hQsCc5i9aw2"
      },
      "outputs": [],
      "source": [
        "# 우리는 마지막 토큰 뒤에 UNK 토큰을 추가해봅시다\n",
        "# 이 때 입력 시퀀스(src_to_index)와 출력시퀀스(tar_to_index)에 모두 사용해줘야 합니다.\n",
        "src_to_index[\"<UNK>\"] = 7117\n",
        "tar_to_index[\"<UNK>\"] = 8867"
      ]
    },
    {
      "cell_type": "code",
      "execution_count": null,
      "metadata": {
        "colab": {
          "base_uri": "https://localhost:8080/"
        },
        "id": "09pOS9MtaUVJ",
        "outputId": "5a4aacb6-3343-4ce1-e0d2-0f8dad82f14b"
      },
      "outputs": [
        {
          "output_type": "stream",
          "name": "stdout",
          "text": [
            "[('<EOS>', 1), ('<SOS>', 2), ('!', 3), ('\"', 4), ('$10,000', 5)]\n",
            "[('<UNK>', 8867), ('힘쓰고', 8866), ('힘들어요', 8865), ('힘들어도', 8864)]\n"
          ]
        }
      ],
      "source": [
        "# 입력시퀀스의 단어집합 확인\n",
        "print(list(tar_to_index.items())[:5])\n",
        "print(list(tar_to_index.items())[-1:-5:-1])"
      ]
    },
    {
      "cell_type": "code",
      "execution_count": null,
      "metadata": {
        "colab": {
          "base_uri": "https://localhost:8080/"
        },
        "id": "ZZqYpbTe-AK1",
        "outputId": "87b76a00-4e8e-4c3c-a472-7ee1ffb02b95"
      },
      "outputs": [
        {
          "output_type": "stream",
          "name": "stdout",
          "text": [
            "[('<EOS>', 1), ('!', 2), ('\"', 3), ('$1,000,000', 4), ('$100', 5)]\n",
            "[('<UNK>', 7117), ('é', 7116), ('zoom', 7115), ('zones', 7114)]\n"
          ]
        }
      ],
      "source": [
        "# 출력시퀀스의 단어집합 확인\n",
        "print(list(src_to_index.items())[:5])\n",
        "print(list(src_to_index.items())[-1:-5:-1])"
      ]
    },
    {
      "cell_type": "markdown",
      "metadata": {
        "id": "-E5zRRZuhQa_"
      },
      "source": [
        "### 정수 인코딩"
      ]
    },
    {
      "cell_type": "code",
      "execution_count": null,
      "metadata": {
        "id": "LHRGJgfs-axo",
        "colab": {
          "base_uri": "https://localhost:8080/"
        },
        "outputId": "3999c599-61d6-405f-81fe-bc1d68f1e828"
      },
      "outputs": [
        {
          "output_type": "stream",
          "name": "stdout",
          "text": [
            "target 문장의 정수 인코딩 :\n",
            " [tensor([   2, 8867, 3042,   19,   96, 3469, 8867,   19, 6006, 8212, 6872, 2479,\n",
            "        4480, 3248, 4496, 7946, 3422, 4575, 5128, 1353, 6042, 6391,   21]), tensor([   2, 7870, 5401,  185, 4345, 8867, 5692, 7229, 3429, 8867, 6042, 6652,\n",
            "        2268,   21]), tensor([   2, 6886, 3149, 1830, 6088, 2617, 7059, 3003,  636,   21]), tensor([   2, 4986,   19,  352, 8793,  343, 6329,   21]), tensor([   2, 6610, 1830, 8867, 2580, 8867, 8867, 8867, 4595, 7731, 4276, 4369,\n",
            "        6886, 5997, 4386, 8327, 8477,   21])] \n",
            "\n"
          ]
        }
      ],
      "source": [
        "# 평가 데이터에 대해서  정수 인코딩을 진행해주세요!\n",
        "# 이 과정에서 중요한 점은 우린 학습데이터만 가지고 있으니 학습 데이터에서 사용했던 toekn-index로 인코딩을 진행해야 합니다!\n",
        "# 참고 : 어떻게 하면 효율적 혹은 빠르게 할까요?\n",
        "\n",
        "\n",
        "\n",
        "\n",
        "# encoder의 입력값 정수 인코딩 진행\n",
        "encoder_input_val = []\n",
        "\n",
        "for line in src_seq_val:\n",
        "  encoded_line = []\n",
        "  for char in line:\n",
        "    encoded_line.append(src_to_index[char])\n",
        "  encoder_input_val.append(torch.Tensor(encoded_line).long())\n",
        "#print('source 문장의 정수 인코딩 :\\n',encoder_input[:5], '\\n')\n",
        "# 우선 decoder에서 사용하는 문장에 대해 정수인코딩 진행\n",
        "decoder_input_val = []\n",
        "\n",
        "for line in tar_seq_val:\n",
        "  encoded_line = []\n",
        "  for char in line:\n",
        "    encoded_line.append(tar_to_index[char])\n",
        "  decoder_input_val.append(torch.Tensor(encoded_line).long())\n",
        "#print('source 문장의 정수 인코딩 :\\n',encoder_input[:5], '\\n')\n",
        "\n",
        "\n",
        "# 다만 decoder의 출력값은 <SOS>들어가면 안되니 첫번째 토큰은 빼주기\n",
        "decoder_target_val = []\n",
        "\n",
        "for line in tar_seq_val:\n",
        "\n",
        "  timestep = 0\n",
        "  encoded_line = []\n",
        "  for char in line:\n",
        "    if timestep > 0:\n",
        "      encoded_line.append(tar_to_index[char])\n",
        "    timestep = timestep + 1\n",
        "  \n",
        "  decoder_target_val.append(torch.Tensor(encoded_line).long())\n",
        "\n",
        "\n",
        "\n",
        "\n",
        "\n",
        "# decoder의 입력값은 마지막 <EOS>가 들어가면 안되니 마지막 토큰은 빼주기\n",
        "decoder_input_val = []\n",
        "for line in tar_seq_val:\n",
        "  encoded_line = []\n",
        "  for char in line:\n",
        "    encoded_line.append(tar_to_index[char])\n",
        "  # 현재 데이터 상 문장 맨 마지막에는 <EOS>가 들어가 있는데, decoder를 학습할 때 <EOS>를 넣지 않으니 마지막의 값을 pop하여 제외합니다.\n",
        "  encoded_line.pop(-1)\n",
        "\n",
        "  # 여기서 .long()은 정수 인코딩된 문장들의 type을 정하는 것으로, 이후에 Embedding layer를 사용할 때 해당 타입을 사용해야하기 때문에 사용한 것입니다.\n",
        "  decoder_input_val.append(torch.Tensor(encoded_line).long())  \n",
        "\n",
        "print('target 문장의 정수 인코딩 :\\n',decoder_input_val[:5],'\\n')"
      ]
    },
    {
      "cell_type": "markdown",
      "metadata": {
        "id": "ws8RA6UThh0t"
      },
      "source": [
        "### Padding"
      ]
    },
    {
      "cell_type": "code",
      "execution_count": null,
      "metadata": {
        "id": "4Qc_bb02-s6_"
      },
      "outputs": [],
      "source": [
        "# 주의사항: 여기에 사용된 값을은 정수일까요?\n",
        "encoder_input_val = pad_sequence(encoder_input_val, batch_first=batch_first).long()\n",
        "decoder_input_val = pad_sequence(decoder_input_val, batch_first=batch_first).long()\n",
        "decoder_target_val = pad_sequence(decoder_target_val, batch_first=batch_first).long()"
      ]
    },
    {
      "cell_type": "code",
      "execution_count": null,
      "metadata": {
        "id": "E7DOj62GnAfX"
      },
      "outputs": [],
      "source": [
        "val_data = tuple([encoder_input_val, decoder_input_val, decoder_target_val])"
      ]
    },
    {
      "cell_type": "markdown",
      "metadata": {
        "id": "WlZl7q5cxscM"
      },
      "source": [
        "# Dataset\n",
        "\n",
        "실습코드에서 사용한 것과 동일한 구조입니다! \n",
        "\n",
        "사실 앞서 처리가 진행되었던 모든 과정은 Dataset에서 __get_item__ 함수 내에서 처리해서 값을 리턴할 수도 있습니다.\n",
        "\n",
        "다만 설명을 위해 이번 과제에서는 과정을 단계별로 설명 드렸습니다. 추후에 진행하실 때엔 __get_item__에서 구현해보셔도 좋을 것 같아요!\n",
        "\n",
        "그리고 일부 단계의 경우 임의로 처리된 것들이 있습니다.(tokenization부터 stopwords 등등) 가령 이메일, 전화번호와 같은 단어들은 \\<UNK\\>처럼 새로운 토큰을 이용해서 처리할 수도 있으며 목적에 따라서 다른 tokenziation을 사용할 수 있습니다.\n",
        "\n",
        "**(참고)**\n",
        "\n",
        " __get_item__말고 사전에 전처리를 다한 상태로 사용할 경우 사실 사용할 모든 데이터를 메모리에 올려놓고 사용하는 것과 같습니다.(변수에 할당되어 있으니)\n",
        "\n",
        "그런데 우리가 데이터가 매매매매매우 많아진다면, 메모리가 부족해질 수도 있지 않을까요? 그렇기 때문에 때에 따라 data를 필요할 때 전처리를 하고 반환하기도 합니다. 여기서 data가 필요할때란 결국 __get_item__을 호출할 때가 될 것입니다.\n",
        "\n",
        "정리하자면, 꼭 모든 데이터를 한번에 다 전처리해놓도 준비해놓지 않고도, 필요할 때 마다(get_item이 호출될 때마다) 전처리해서 결과를 전달하는 방법도 있습니다.\n",
        "\n",
        "다만 해당 과제에서는 Seq2Seq에 익숙해지는 것을 목표로 하기에 이러한 점만 알고 가셔도 충분하기도 하고, 오히려 사전에 다 처리해놓는 현재 방식이 더 효율적일 수도 있습니다. 그렇기 때문에 이 점만 알고 가셔도 좋을 것 같습니다!"
      ]
    },
    {
      "cell_type": "code",
      "execution_count": null,
      "metadata": {
        "id": "j5lj6ZOPxpcj"
      },
      "outputs": [],
      "source": [
        "from torch.utils.data import Dataset, DataLoader"
      ]
    },
    {
      "cell_type": "code",
      "execution_count": null,
      "metadata": {
        "id": "xc7ZqjGmx1dk"
      },
      "outputs": [],
      "source": [
        "class textDataset(Dataset):\n",
        "  def __init__(self, data, batch_first=True):\n",
        "    super(textDataset, self).__init__()\n",
        "    # tuple asgginment를 활용한다면 굳이 argument로 모든 데이터를 받지 않아도 됩니다!\n",
        "    enc_inp, dec_inp, dec_out = data\n",
        "    # 내부에서 사용할 변수들 정리하는 것으로, 모든 데이터가 torch.LongTensor로 정리된 값들이 저장됩니다.\n",
        "    self.enc_inp = enc_inp\n",
        "    self.batch_first= batch_first\n",
        "    self.dec_inp = dec_inp\n",
        "    self.dec_out = dec_out\n",
        "\n",
        "  def __getitem__(self, idx):\n",
        "     return self.enc_inp[idx], self.dec_inp[idx],self.dec_out[idx]\n",
        "\n",
        "  def __len__(self):\n",
        "    return self.enc_inp.size(int(~self.batch_first))"
      ]
    },
    {
      "cell_type": "code",
      "execution_count": null,
      "metadata": {
        "id": "Z30_EO0uxrgH"
      },
      "outputs": [],
      "source": [
        "train_dataset = textDataset(train_data, batch_first=batch_first)\n",
        "val_dataset = textDataset(val_data, batch_first=batch_first)"
      ]
    },
    {
      "cell_type": "code",
      "execution_count": null,
      "metadata": {
        "colab": {
          "base_uri": "https://localhost:8080/"
        },
        "id": "J_AqR38AoB5n",
        "outputId": "d4f046fc-598f-409f-b975-1688284330fb"
      },
      "outputs": [
        {
          "output_type": "execute_result",
          "data": {
            "text/plain": [
              "(tensor([7117, 3779, 3599, 5331, 4471,   10,   63,   12, 2428, 1492, 4132,   10,\n",
              "         4519, 4994, 2244, 2644, 5987, 1223, 7117, 6606, 6955, 6004, 7117,   13,\n",
              "            1,    0,    0,    0,    0,    0,    0,    0,    0,    0,    0,    0]),\n",
              " tensor([   2, 8867, 3042,   19,   96, 3469, 8867,   19, 6006, 8212, 6872, 2479,\n",
              "         4480, 3248, 4496, 7946, 3422, 4575, 5128, 1353, 6042, 6391,   21,    0,\n",
              "            0,    0,    0,    0,    0,    0,    0,    0,    0,    0,    0,    0,\n",
              "            0,    0,    0,    0,    0]),\n",
              " tensor([8867, 3042,   19,   96, 3469, 8867,   19, 6006, 8212, 6872, 2479, 4480,\n",
              "         3248, 4496, 7946, 3422, 4575, 5128, 1353, 6042, 6391,   21,    1,    0,\n",
              "            0,    0,    0,    0,    0,    0,    0,    0,    0,    0,    0,    0,\n",
              "            0,    0,    0,    0,    0]))"
            ]
          },
          "metadata": {},
          "execution_count": 125
        }
      ],
      "source": [
        "val_dataset[0]"
      ]
    },
    {
      "cell_type": "markdown",
      "metadata": {
        "id": "rYq6eGm0qaOh"
      },
      "source": [
        "# Model"
      ]
    },
    {
      "cell_type": "code",
      "execution_count": null,
      "metadata": {
        "id": "ce3NfbA2qfSV"
      },
      "outputs": [],
      "source": [
        "import torch.nn as nn\n",
        "import torch.functional as F"
      ]
    },
    {
      "cell_type": "markdown",
      "metadata": {
        "id": "zcThBf_DqbuT"
      },
      "source": [
        "## Encoder\n",
        "\n",
        "본 모델에서는 LSTM를 기본 단위로 가지는 Seq2Seq 모델을 구성할 것\n",
        "\n",
        "참고 [레퍼런스](https://pytorch.org/docs/stable/generated/torch.nn.LSTM.html)"
      ]
    },
    {
      "cell_type": "code",
      "execution_count": null,
      "metadata": {
        "id": "A719R9uZqZG2"
      },
      "outputs": [],
      "source": [
        "class Encoder(nn.Module):\n",
        "  def __init__(self, in_size, hid_size, tok_size, bat_first=True, num_lay=1, bidirect=False):\n",
        "    super(Encoder, self).__init__()\n",
        "    self.hidden_size = hid_size\n",
        "    self.embedding = nn.Embedding(tok_size, in_size)\n",
        "    self.num_layers = num_lay\n",
        "    self.num_directional = 2 if bidirect else 1\n",
        "    self.batch_first = bat_first\n",
        "    self.lstm = nn.LSTM(in_size, \n",
        "                        hid_size, \n",
        "                        num_layers = num_lay,\n",
        "                        batch_first = bat_first,\n",
        "                        bidirectional=bidirect)\n",
        "\n",
        "  def forward(self, x, hidden):\n",
        "    \"\"\"\n",
        "    x: (batch_size, seq_len)\n",
        "    hidden: (batch_size, seq_len, hidden_size)\n",
        "    \"\"\"\n",
        "\n",
        "    # emb : (batch_size, seq_len, input_size)\n",
        "    emb = self.embedding(x)\n",
        "\n",
        "    # out : (batch_size, seq_len, hidden_size)\n",
        "    # hidden: (num_layers, batch_size, hidden_size)\n",
        "    out, hidden = self.lstm(emb, hidden)\n",
        "    return out, hidden"
      ]
    },
    {
      "cell_type": "markdown",
      "metadata": {
        "id": "Yu4CMe_5JN2I"
      },
      "source": [
        "## Decoder\n",
        "\n",
        "decoder의 hidden이 아닌 out으로 예측하고, 그 값 하나를 이용해서 다음 값 계산에 사용하기 때문에 seq_len =1이 된다."
      ]
    },
    {
      "cell_type": "code",
      "execution_count": null,
      "metadata": {
        "id": "Wc1u4z_k4RKp"
      },
      "outputs": [],
      "source": [
        "class Decoder(nn.Module):\n",
        "  def __init__(self, in_size, hid_size, tok_size, bat_first=True, num_lay=1, bidirect=False):\n",
        "    super(Decoder, self).__init__()\n",
        "    self.hidden_size = hid_size\n",
        "    self.embedding = nn.Embedding(tok_size, in_size)\n",
        "    self.num_layers = num_lay\n",
        "    self.num_directional = 2 if bidirect else 1\n",
        "    self.batch_first = bat_first\n",
        "    self.lstm = nn.LSTM(in_size, \n",
        "                        hid_size, \n",
        "                        num_layers = num_lay,\n",
        "                        batch_first = bat_first,\n",
        "                        bidirectional=bidirect)\n",
        "    self.relu =  nn.ReLU()\n",
        "\n",
        "    # 여기서 Encoder와 차이가 생기는데,\n",
        "    # Decoder는 입력된 단어와 context를 보고 다음 단어를 \"예측\"해야합니다.\n",
        "    # 그렇기 때문에 hidden_size의 벡터를 token의 개수만큼 다시 mapping해주어야\n",
        "    # 각 token별 점수로 만들어줘야 최종 예측을 할 수 있습니다.\n",
        "    # 그래서 최종 값을 반환할 때에는 총 토큰 수만큼으로 만들어 줘야 토큰별 확률을 계산하게 됩니다.\n",
        "    self.fc1 = nn.Linear(hidden_size, tok_size)\n",
        "    \n",
        "  def forward(self, x, hidden):\n",
        "    \"\"\"\n",
        "    x: (batch_size, seq_len=1)\n",
        "    hidden: (num_directional*num_layers, batch_size, hidden_size)\n",
        "    \"\"\"\n",
        "\n",
        "    # emb: (batch_size, seq_len=1, input_size)\n",
        "    emb = self.embedding(x[:, 0]).unsqueeze(1)\n",
        "    out = self.relu(emb)\n",
        "    # out : (batch_size, seq_len=1, hidden_size)\n",
        "    # hidden: (num_layers, batch_size, hidden_size)\n",
        "    out, hidden = self.lstm(out, hidden)\n",
        "\n",
        "    # out: (batch_size, tok_size) : batch의 element별로 token에 대해 예측값을 반환\n",
        "    out = self.fc1(out.squeeze(1))\n",
        "    return out, hidden"
      ]
    },
    {
      "cell_type": "code",
      "execution_count": null,
      "metadata": {
        "id": "X1qHG3DT4dSH"
      },
      "outputs": [],
      "source": [
        "def init_hidden(self, x):\n",
        "  \"\"\"\n",
        "  레퍼런스 참고\n",
        "  when batch_first=True (num_directional*num_layers, batch_size, hidden_size)\n",
        "  \"\"\"\n",
        "  batch_size = x.size(0) if self.batch_first else x.size(1)\n",
        "  h0 = torch.zeros(self.num_layers*self.num_directional, batch_size, self.hidden_size).to(device)\n",
        "  c0 = torch.zeros(self.num_layers*self.num_directional, batch_size, self.hidden_size).to(device)\n",
        "  return h0, c0"
      ]
    },
    {
      "cell_type": "markdown",
      "metadata": {
        "id": "toqV7UDhPqN6"
      },
      "source": [
        "## Seq2Seq"
      ]
    },
    {
      "cell_type": "code",
      "execution_count": null,
      "metadata": {
        "id": "YIzlUzPlJK3W"
      },
      "outputs": [],
      "source": [
        "class Seq2Seq(nn.Module):\n",
        "  def __init__(self, enc, dec):\n",
        "    super(Seq2Seq, self).__init__()\n",
        "    assert enc.hidden_size == dec.hidden_size\n",
        "    assert enc.num_layers == dec.num_layers\n",
        "    self.encoder = enc\n",
        "    self.decoder = dec\n",
        "\n",
        "  def forward(self, enc_inp, dec_inp, use_teacher_force=True):\n",
        "    \"\"\"\n",
        "    enc_inp : (batch_size, enc_seq_len)\n",
        "    dec_inp : (batch_size, dec_seq_len)\n",
        "    \"\"\"\n",
        "\n",
        "    # 어떤 값을 써야할까요?\n",
        "    batch_size = enc_inp.size(0)\n",
        "    enc_seq_len = enc_inp.size(1)\n",
        "    dec_seq_len = dec_inp.size(1)\n",
        "    token_size =  self.decoder.fc1.out_features\n",
        "\n",
        "    # decoder 확률(점수) 예측값 저장\n",
        "    # outputs: (batch_size, seq_len, token_size)\n",
        "    outputs = torch.zeros(batch_size, dec_seq_len, token_size)\n",
        "\n",
        "    # Step 0: Encoder의 forward에 필요한 초기 hidden, cell state 계산\n",
        "    enc_init_hidden = init_hidden(self.encoder, enc_inp)\n",
        "\n",
        "    # Step 1: Encoder를 이용하여 context 벡터 생성\n",
        "    # 참고: context 벡터는 output가 아님\n",
        "    _, context =self.encoder(enc_inp, enc_init_hidden)\n",
        "\n",
        "    # Step 2: Decoder의 초기 입력값을 먼저 할당\n",
        "    # 참고: 첫 입력값으로 decoder의 입력값을 이용할 수 있음\n",
        "    # 주의할 사항 \n",
        "    #    - (batch_size, dec_seq_len)의 차원을 맞추기 \n",
        "    #    - 이렇게 하는 이유는 decoder에서 forward에 들어가야하는 input의 구조(차원)이 정해져 있기 때문\n",
        "    dec_inp_t =  dec_inp[:, 0].unsqueeze(-1)\n",
        "\n",
        "    # Step 3: Decoder를 이용하여 하나하나 계산(예측)하고, 입력값 업데이트하기\n",
        "    # 주의사항\n",
        "    #    - Encoder의 최종 리턴한 hidden state가 context 벡터고 이게 decoder에서 init_hidden에 해당\n",
        "    #    - 앞서 첫 입력값은 직접 확인했으니 다음 입력값부터 하기에 range는 1부터 시작하는 구조로?!\n",
        "    dec_hidden = context\n",
        "    for t in range(1, dec_seq_len):\n",
        "      out, dec_hidden = self.decoder(dec_inp_t,dec_hidden)\n",
        "      outputs[:, t, :] = out\n",
        "\n",
        "      if use_teacher_force:\n",
        "        # 주의사항 : 차원 맞추기 \n",
        "        # 해당 경우 decoder의 입력값을 가져다가 사용해야 합\n",
        "        dec_inp_t = dec_inp[:,t].unsqueeze(-1)\n",
        "      else:\n",
        "        # 주의사항 : 차원 맞추기 \n",
        "        # 해당 경우 이번 시점의 예측값을 다음 시점의 입력값으로 해야함\n",
        "        dec_inp_t = out.argmax(1,keepdim=True)\n",
        "\n",
        "    return outputs"
      ]
    },
    {
      "cell_type": "markdown",
      "metadata": {
        "id": "kSfBWsX0Po1I"
      },
      "source": [
        "# Setup"
      ]
    },
    {
      "cell_type": "code",
      "execution_count": null,
      "metadata": {
        "id": "2VSNdoUUPoMS"
      },
      "outputs": [],
      "source": [
        "# padding에 해당하는 token도 고려하기\n",
        "enc_token_size = len(src_to_index)+1\n",
        "dec_token_size = len(tar_to_index)+1\n",
        "\n",
        "# Hyper-parameter!!\n",
        "# RAM 메모리 이슈로 다운 되는 경우 때문에 줄였습니다.\n",
        "input_size = 4\n",
        "hidden_size = 4"
      ]
    },
    {
      "cell_type": "code",
      "execution_count": null,
      "metadata": {
        "id": "edfUD7SOP6pM"
      },
      "outputs": [],
      "source": [
        "encoder = Encoder(input_size, hidden_size, enc_token_size)\n",
        "decoder = Decoder(input_size, hidden_size, dec_token_size)\n",
        "\n",
        "model = Seq2Seq(encoder, decoder).to(device)"
      ]
    },
    {
      "cell_type": "markdown",
      "metadata": {
        "id": "s3wAllAwQQbc"
      },
      "source": [
        "## 생략된 내용들\n",
        "\n",
        "모델 생성하는 과정에서 초기값이나 등등 부수적인 부분들은 현재 과제 코드상에서 생략되었습니다. 모델 개선에 관심있으신 분들은 수행하셔도 좋습니다."
      ]
    },
    {
      "cell_type": "code",
      "execution_count": null,
      "metadata": {
        "id": "nNlOosmzQP4W"
      },
      "outputs": [],
      "source": [
        "# ~~~"
      ]
    },
    {
      "cell_type": "markdown",
      "metadata": {
        "id": "ofoXIctbQigu"
      },
      "source": [
        "# Train"
      ]
    },
    {
      "cell_type": "code",
      "execution_count": null,
      "metadata": {
        "id": "NUnTP6xbQlV1"
      },
      "outputs": [],
      "source": [
        "def train(model, loader, optimizer, cri):\n",
        "  model.train()\n",
        "  loss_ep = 0\n",
        "\n",
        "  for enc_input, dec_input, dec_target in loader:\n",
        "    optimizer.zero_grad()\n",
        "\n",
        "    # output: (batch_size, seq_len, token_size)\n",
        "    output = model(enc_input.to(device), dec_input.to(device), use_teacher_force=True)\n",
        "    token_size = output.size(-1)\n",
        "\n",
        "    # 지금 [문장, 문장, ...] 구조에서 문장들을 그냥 순서대로 이어 붙인 것\n",
        "    # loss 계산을 위한 조정\n",
        "    # output : (batch_size * seq_len, toekn_size)\n",
        "    output = output.view(-1, token_size)\n",
        "    # 위와 동일한 방식으로 label 값도 조정\n",
        "    # dec_target: (batch_size, seq_len)\n",
        "    # target (batch_size*seq_len,)\n",
        "    target = dec_target.view(-1)\n",
        "\n",
        "    loss = cri(output, target)\n",
        "\n",
        "    loss.backward()\n",
        "    optimizer.step()\n",
        "\n",
        "    loss_ep += loss.item()\n",
        "  return loss_ep/len(loader)"
      ]
    },
    {
      "cell_type": "markdown",
      "metadata": {
        "id": "E-g8kExh9V87"
      },
      "source": [
        "# Evaluation"
      ]
    },
    {
      "cell_type": "code",
      "execution_count": null,
      "metadata": {
        "id": "OM_5gT6uCXMh"
      },
      "outputs": [],
      "source": [
        "import pandas as pd"
      ]
    },
    {
      "cell_type": "code",
      "execution_count": null,
      "metadata": {
        "id": "y6mXBkq69VSW"
      },
      "outputs": [],
      "source": [
        "def val(model, loader, cri):\n",
        "  # 예측값도 확인하기 위해 예측값 저장하는 값\n",
        "  result = torch.Tensor()\n",
        "\n",
        "  model.eval()\n",
        "  loss_ep = 0\n",
        "  with torch.no_grad():\n",
        "    for enc_input, dec_input, dec_target in loader:\n",
        "      # 여기서 output은 en/decoder가 아닌 seq2seq의 결과값\n",
        "      # output: (batch_size, seq_len, token_size)\n",
        "      output = model(enc_input.to(device), dec_input.to(device), use_teacher_force=False)\n",
        "\n",
        "      # 평가할 땐 loss 말고 예측값도 반환하기 위해 저장\n",
        "      # decode_idx = 해당 시점에서 예측한 token의 정수인코딩값. \n",
        "      # 주어진 확률(점수)값에서 최대값을 선택하기\n",
        "      decode_idx = output.argmax(2).detach().cpu()\n",
        "      result = torch.cat((result,decode_idx),dim=0)\n",
        "  \n",
        "      # loss 계산을 위한 조정\n",
        "      # output : (batch_size * seq_len, toekn_size)\n",
        "      token_size = output.size(-1)\n",
        "      output = output.view(-1,token_size)\n",
        "\n",
        "      # 위와 동일한 방식으로 label 값도 조정\n",
        "      # dec_target: (batch_size, seq_len)\n",
        "      # target (batch_size*seq_len,)\n",
        "      target = dec_target.view(-1)\n",
        "\n",
        "      loss = cri(output, target)\n",
        "      loss_ep += loss.item()\n",
        "  return loss_ep/len(loader), result"
      ]
    },
    {
      "cell_type": "code",
      "execution_count": null,
      "metadata": {
        "id": "9m6F7hknAqtm"
      },
      "outputs": [],
      "source": [
        "# 아래의 dictionary는 정수 인코딩 값을 넣으면 해당하는 원래 알파벳이 나옴\n",
        "# padding에 사용한 0도 decode해줘야 하고 이 때 ''으로 decode해주기\n",
        "index_to_src = dict((i, char) for char, i in src_to_index.items())\n",
        "index_to_tar = dict((i, char) for char, i in tar_to_index.items())\n",
        "index_to_tar[0] = ''\n",
        "index_to_src[0] = ''"
      ]
    },
    {
      "cell_type": "code",
      "execution_count": null,
      "metadata": {
        "id": "F9c8z_7BAncv"
      },
      "outputs": [],
      "source": [
        "def decode(model, sample):\n",
        "  enc_input, dec_input, dec_output = sample\n",
        "  enc_input = enc_input.unsqueeze(0)\n",
        "  dec_input = dec_input.unsqueeze(0)\n",
        "  \n",
        "  model.eval()\n",
        "  with torch.no_grad():\n",
        "    output = model(enc_input.to(device), dec_input.to(device), use_teacher_force=False)\n",
        "    decode_idx = output.argmax(2)\n",
        "\n",
        "  sentence_inp = pd.Series(enc_input.squeeze(0).detach().cpu().numpy()).apply(lambda x: index_to_src[x])\n",
        "  sentence_out = pd.Series(decode_idx.squeeze(0).detach().cpu().numpy()).apply(lambda x: index_to_tar[x])\n",
        "  sentence_act = pd.Series(dec_output.detach().cpu().numpy()).apply(lambda x: index_to_tar[x])\n",
        "\n",
        "  print(f\"입력 문장 : {' '.join(sentence_inp.tolist())}\")\n",
        "  print(f\"실제 문장 : {' '.join(sentence_act.tolist())}\")\n",
        "  print(f\"예측 문장 : {' '.join(sentence_out.tolist())}\")"
      ]
    },
    {
      "cell_type": "code",
      "execution_count": null,
      "metadata": {
        "id": "9lARsr3wSyX8"
      },
      "outputs": [],
      "source": [
        "import time\n",
        "from tqdm import tqdm\n",
        "from torch import optim"
      ]
    },
    {
      "cell_type": "code",
      "execution_count": null,
      "metadata": {
        "colab": {
          "base_uri": "https://localhost:8080/"
        },
        "id": "WIuESkCQSsSm",
        "outputId": "644c6a0a-e481-41f9-ed35-5111a9dabcee"
      },
      "outputs": [
        {
          "metadata": {
            "tags": null
          },
          "name": "stderr",
          "output_type": "stream",
          "text": [
            " 10%|█         | 1/10 [03:48<34:20, 228.92s/it]"
          ]
        },
        {
          "metadata": {
            "tags": null
          },
          "name": "stdout",
          "output_type": "stream",
          "text": [
            "Epoch : 0\n",
            "Train Loss : 8.8861\n",
            "Val Loss : 8.6820\n",
            "입력 문장 : I would like to introduce a <UNK> <UNK> smart <UNK> <UNK> <UNK> and temperature sensor easy to use free app product . <EOS>             \n",
            "실제 문장 : 저 는 <UNK> <UNK> 스마트 <UNK> <UNK> <UNK> 및 온도 센서 <UNK> 사용 무료 앱 제품 을 소개 하려고 합니다 . <EOS>                   \n",
            "예측 문장 :  을 알 고객 을 고객 을 고객 을 고객 을 고객 을 고객 을 고객 을 고객 을 고객 을 고객 을 고객 을 고객 을 고객 을 고객 을 고객 을 고객 을 고객 을 고객 을 고객 을\n"
          ]
        },
        {
          "metadata": {
            "tags": null
          },
          "name": "stderr",
          "output_type": "stream",
          "text": [
            " 30%|███       | 3/10 [11:11<26:01, 223.13s/it]"
          ]
        },
        {
          "metadata": {
            "tags": null
          },
          "name": "stdout",
          "output_type": "stream",
          "text": [
            "Epoch : 2\n",
            "Train Loss : 7.6952\n",
            "Val Loss : 7.6179\n",
            "입력 문장 : I would like to introduce a <UNK> <UNK> smart <UNK> <UNK> <UNK> and temperature sensor easy to use free app product . <EOS>             \n",
            "실제 문장 : 저 는 <UNK> <UNK> 스마트 <UNK> <UNK> <UNK> 및 온도 센서 <UNK> 사용 무료 앱 제품 을 소개 하려고 합니다 . <EOS>                   \n",
            "예측 문장 :  와 와 와 와 와 와 와 와 와 와 와 와 와 와 와 와 와 와 와 와 와 와 와 와 와 와 와 와 와 와 와 와 와 와 와 와 와 와 와 와\n"
          ]
        },
        {
          "metadata": {
            "tags": null
          },
          "name": "stderr",
          "output_type": "stream",
          "text": [
            " 50%|█████     | 5/10 [18:33<18:27, 221.56s/it]"
          ]
        },
        {
          "metadata": {
            "tags": null
          },
          "name": "stdout",
          "output_type": "stream",
          "text": [
            "Epoch : 4\n",
            "Train Loss : 6.0594\n",
            "Val Loss : 5.9457\n",
            "입력 문장 : I would like to introduce a <UNK> <UNK> smart <UNK> <UNK> <UNK> and temperature sensor easy to use free app product . <EOS>             \n",
            "실제 문장 : 저 는 <UNK> <UNK> 스마트 <UNK> <UNK> <UNK> 및 온도 센서 <UNK> 사용 무료 앱 제품 을 소개 하려고 합니다 . <EOS>                   \n",
            "예측 문장 :  을 을 을 을 을 을  을  을  을  을  을  을  을  을  을  을  을  을  을  을  을  을  을\n"
          ]
        },
        {
          "output_type": "stream",
          "name": "stderr",
          "text": [
            " 70%|███████   | 7/10 [25:53<11:02, 220.90s/it]"
          ]
        },
        {
          "output_type": "stream",
          "name": "stdout",
          "text": [
            "Epoch : 6\n",
            "Train Loss : 4.2294\n",
            "Val Loss : 4.3588\n",
            "입력 문장 : I would like to introduce a <UNK> <UNK> smart <UNK> <UNK> <UNK> and temperature sensor easy to use free app product . <EOS>             \n",
            "실제 문장 : 저 는 <UNK> <UNK> 스마트 <UNK> <UNK> <UNK> 및 온도 센서 <UNK> 사용 무료 앱 제품 을 소개 하려고 합니다 . <EOS>                   \n",
            "예측 문장 :  , , , , ,                                   \n"
          ]
        },
        {
          "output_type": "stream",
          "name": "stderr",
          "text": [
            " 90%|█████████ | 9/10 [33:14<03:40, 220.60s/it]"
          ]
        },
        {
          "output_type": "stream",
          "name": "stdout",
          "text": [
            "Epoch : 8\n",
            "Train Loss : 2.8068\n",
            "Val Loss : 3.3598\n",
            "입력 문장 : I would like to introduce a <UNK> <UNK> smart <UNK> <UNK> <UNK> and temperature sensor easy to use free app product . <EOS>             \n",
            "실제 문장 : 저 는 <UNK> <UNK> 스마트 <UNK> <UNK> <UNK> 및 온도 센서 <UNK> 사용 무료 앱 제품 을 소개 하려고 합니다 . <EOS>                   \n",
            "예측 문장 :  , , , , , ,                                  \n"
          ]
        },
        {
          "output_type": "stream",
          "name": "stderr",
          "text": [
            "100%|██████████| 10/10 [36:54<00:00, 221.43s/it]\n"
          ]
        }
      ],
      "source": [
        "# 학습은 아래의 코드를 이용하여 진행\n",
        "\n",
        "train_lodaer = DataLoader(train_dataset, batch_size=1024)\n",
        "val_loader = DataLoader(val_dataset, batch_size=1024, shuffle=False)\n",
        "\n",
        "optimizer = optim.Adam(model.parameters(), lr=1e-2)\n",
        "criterion = nn.CrossEntropyLoss()\n",
        "\n",
        "train_loss = []\n",
        "val_loss = []\n",
        "\n",
        "epochs = 10\n",
        "for epoch in tqdm(range(epochs)):\n",
        "  start = time.time()\n",
        "\n",
        "  train_loss_ep = train(model,train_lodaer,optimizer, criterion)\n",
        "  val_loss_ep, val_token = val(model, val_loader, criterion)\n",
        "\n",
        "  train_loss.append(train_loss_ep)\n",
        "  val_loss.append(val_loss_ep)\n",
        "  if epoch % 2 == 0:\n",
        "    print(f\"Epoch : {epoch}\")\n",
        "    print(f\"Train Loss : {train_loss_ep:.4f}\")\n",
        "    print(f\"Val Loss : {val_loss_ep:.4f}\")\n",
        "    decode(model, val_dataset[100])\n"
      ]
    },
    {
      "cell_type": "code",
      "execution_count": null,
      "metadata": {
        "id": "Yaj3MORtbsNi"
      },
      "outputs": [],
      "source": [
        "# 학습을 진행한 다음, 모델 백업해놓기\n",
        "torch.save(model.state_dict(), 'model_hw.pt')"
      ]
    }
  ],
  "metadata": {
    "accelerator": "GPU",
    "colab": {
      "collapsed_sections": [],
      "provenance": []
    },
    "gpuClass": "standard",
    "kernelspec": {
      "display_name": "Python 3",
      "name": "python3"
    },
    "language_info": {
      "name": "python"
    }
  },
  "nbformat": 4,
  "nbformat_minor": 0
}