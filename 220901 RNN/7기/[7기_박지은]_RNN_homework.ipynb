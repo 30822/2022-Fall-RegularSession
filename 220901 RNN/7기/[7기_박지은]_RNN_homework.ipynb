{
  "cells": [
    {
      "cell_type": "markdown",
      "metadata": {
        "id": "XhqgooEJc3ml"
      },
      "source": [
        "# PATH"
      ]
    },
    {
      "cell_type": "markdown",
      "metadata": {
        "id": "a6JAywISdMna"
      },
      "source": [
        "구글 드라이브"
      ]
    },
    {
      "cell_type": "code",
      "execution_count": 1,
      "metadata": {
        "colab": {
          "base_uri": "https://localhost:8080/"
        },
        "id": "4KzgUpIpcORE",
        "outputId": "e860d71b-233e-417f-9527-e465cd838c93"
      },
      "outputs": [
        {
          "output_type": "stream",
          "name": "stdout",
          "text": [
            "Mounted at /content/drive\n"
          ]
        }
      ],
      "source": [
        "import os\n",
        "import sys\n",
        "from google.colab import drive\n",
        "\n",
        "drive.mount('/content/drive')\n",
        "os.chdir('/content/drive/MyDrive/DSL/[세션] 정규세션/[0901] RNN/RNN 과제')"
      ]
    },
    {
      "cell_type": "code",
      "execution_count": 2,
      "metadata": {
        "colab": {
          "base_uri": "https://localhost:8080/",
          "height": 35
        },
        "id": "TK1fCrA9fHwN",
        "outputId": "4b0a990d-23ff-4f9c-ef24-dd5050077f79"
      },
      "outputs": [
        {
          "output_type": "execute_result",
          "data": {
            "text/plain": [
              "'/content/drive/MyDrive/DSL/[세션] 정규세션/[0901] RNN/RNN 과제'"
            ],
            "application/vnd.google.colaboratory.intrinsic+json": {
              "type": "string"
            }
          },
          "metadata": {},
          "execution_count": 2
        }
      ],
      "source": [
        "os.getcwd()"
      ]
    },
    {
      "cell_type": "code",
      "source": [
        "root_data = f\"{os.getcwd()}/data/data_hw\"\n",
        "root_data"
      ],
      "metadata": {
        "colab": {
          "base_uri": "https://localhost:8080/",
          "height": 35
        },
        "id": "yR9lFnfZMQ8k",
        "outputId": "34ee83fa-6179-45ed-c695-c868654bfd60"
      },
      "execution_count": 3,
      "outputs": [
        {
          "output_type": "execute_result",
          "data": {
            "text/plain": [
              "'/content/drive/MyDrive/DSL/[세션] 정규세션/[0901] RNN/RNN 과제/data/data_hw'"
            ],
            "application/vnd.google.colaboratory.intrinsic+json": {
              "type": "string"
            }
          },
          "metadata": {},
          "execution_count": 3
        }
      ]
    },
    {
      "cell_type": "code",
      "source": [
        "# 데이터 불러올 때 사용할 경로로 이후에 있을 unzip과 연동되는 내용입니다! \n",
        "path_train_data = \"data/data_hw/1.Training/원천데이터/일상생활및구어체_영한_train_set.json\"\n",
        "\n",
        "path_val_data = \"data/data_hw/2.Validation/원천데이터/일상생활및구어체_영한_valid_set.json\""
      ],
      "metadata": {
        "id": "eUaOJiEaP8t9"
      },
      "execution_count": 4,
      "outputs": []
    },
    {
      "cell_type": "markdown",
      "source": [
        "# 사전 준비 사항"
      ],
      "metadata": {
        "id": "lllM7QIsLKHG"
      }
    },
    {
      "cell_type": "code",
      "execution_count": 5,
      "metadata": {
        "id": "N4M6g36zarsi"
      },
      "outputs": [],
      "source": [
        "import torch"
      ]
    },
    {
      "cell_type": "code",
      "execution_count": 6,
      "metadata": {
        "id": "8nWTk5MXatC-"
      },
      "outputs": [],
      "source": [
        "device = 'cuda' if torch.cuda.is_available() else \"cpu\""
      ]
    },
    {
      "cell_type": "code",
      "execution_count": 7,
      "metadata": {
        "colab": {
          "base_uri": "https://localhost:8080/",
          "height": 35
        },
        "id": "oV91g9Tqa0V0",
        "outputId": "3b02ad9d-0bc9-44f9-a981-c8d02970da2e"
      },
      "outputs": [
        {
          "output_type": "execute_result",
          "data": {
            "text/plain": [
              "'cuda'"
            ],
            "application/vnd.google.colaboratory.intrinsic+json": {
              "type": "string"
            }
          },
          "metadata": {},
          "execution_count": 7
        }
      ],
      "source": [
        "device"
      ]
    },
    {
      "cell_type": "markdown",
      "metadata": {
        "id": "SdN8CiTlc7xF"
      },
      "source": [
        "# Data\n",
        "\n",
        "실습에서 사용했던 영어-프랑스어와 달리 현재 사용할 데이터 셋은 영어-한국어 데이터 셋입니다. \n",
        "\n",
        "특히 압축을 풀어야 사용하실 수 있으니 유의하여 진행해주시길 바랍니다.\n",
        "\n",
        "다행인 점은 용량이 그리 크지 않을겁니다!\n",
        "\n",
        "저장 경로는 위에서 path_train_data와 path_val_data와 동일하게 맞췄습니다."
      ]
    },
    {
      "cell_type": "code",
      "source": [
        "yield\n",
        "!unzip -qq data/data_hw/1.Training/원천데이터/TS1.zip -d data/data_hw/1.Training/원천데이터\n",
        "\n",
        "!unzip -qq data/data_hw/2.Validation/원천데이터/VS1.zip -d data/data_hw/2.Validation/원천데이터"
      ],
      "metadata": {
        "id": "4bGHHia2LnOo",
        "colab": {
          "base_uri": "https://localhost:8080/"
        },
        "outputId": "4139a82a-487e-48c3-d6c0-6e78785c6210"
      },
      "execution_count": 8,
      "outputs": [
        {
          "output_type": "stream",
          "name": "stdout",
          "text": [
            "replace data/data_hw/1.Training/원천데이터/일상생활및구어체_영한_train_set.json? [y]es, [n]o, [A]ll, [N]one, [r]ename: y\n",
            "y\n",
            "replace data/data_hw/2.Validation/원천데이터/일상생활및구어체_영한_valid_set.json? [y]es, [n]o, [A]ll, [N]one, [r]ename: y\n",
            "replace data/data_hw/2.Validation/원천데이터/일상생활및구어체_한영_valid_set.json? [y]es, [n]o, [A]ll, [N]one, [r]ename: y\n"
          ]
        }
      ]
    },
    {
      "cell_type": "markdown",
      "source": [
        "## 데이터 구조 확인"
      ],
      "metadata": {
        "id": "tfrW60WrP0rn"
      }
    },
    {
      "cell_type": "code",
      "source": [
        "import json"
      ],
      "metadata": {
        "id": "SDeLynUqP0Jr"
      },
      "execution_count": 10,
      "outputs": []
    },
    {
      "cell_type": "code",
      "source": [
        "# 경로는 앞서 PATH에서 선언했고 unzip에서도 경로를 지정했습니다. 만약 여기에 변화가 생기신다면 에러가 생길 수 있으니 유의하셔야 합니다.\n",
        "with open(path_train_data, 'r') as f:\n",
        "  raw_train_data = json.load(f)\n",
        "\n",
        "with open(path_val_data, 'r') as f:\n",
        "  raw_val_data = json.load(f)"
      ],
      "metadata": {
        "id": "2VEmaNPbP5hr"
      },
      "execution_count": 11,
      "outputs": []
    },
    {
      "cell_type": "code",
      "source": [
        "# 현재 데이터의 구조가 {'data':~~~ }로 되어있는것을 알 수 있습니다.\n",
        "raw_train_data.keys()"
      ],
      "metadata": {
        "colab": {
          "base_uri": "https://localhost:8080/"
        },
        "id": "jNhgtA6iR2HG",
        "outputId": "f4cc30a4-a651-428a-b063-60fda6bb3410"
      },
      "execution_count": 12,
      "outputs": [
        {
          "output_type": "execute_result",
          "data": {
            "text/plain": [
              "dict_keys(['data'])"
            ]
          },
          "metadata": {},
          "execution_count": 12
        }
      ]
    },
    {
      "cell_type": "code",
      "source": [
        "# 학습 데이터 개수 확인\n",
        "len(raw_train_data['data'])"
      ],
      "metadata": {
        "colab": {
          "base_uri": "https://localhost:8080/"
        },
        "id": "uMcJ230kRgJ_",
        "outputId": "247080a3-64af-4e46-d94c-ff7164d76610"
      },
      "execution_count": 13,
      "outputs": [
        {
          "output_type": "execute_result",
          "data": {
            "text/plain": [
              "1200307"
            ]
          },
          "metadata": {},
          "execution_count": 13
        }
      ]
    },
    {
      "cell_type": "markdown",
      "source": [
        "지금 데이터가 너무 많아서 전처리만 해도 1,2시간 걸릴 수 있습니다. 그래서 숙제에서는 매우 일부 데이터만 이용하도록 하겠습니다."
      ],
      "metadata": {
        "id": "pOcoZtgOYicO"
      }
    },
    {
      "cell_type": "code",
      "source": [
        "raw_train_data = raw_train_data['data'][:10000]\n",
        "raw_val_data = raw_val_data['data'][:1000]"
      ],
      "metadata": {
        "id": "OXGulbjhYg-o"
      },
      "execution_count": 14,
      "outputs": []
    },
    {
      "cell_type": "code",
      "source": [
        "# 샘플로 하나 확인\n",
        "sample_data = raw_train_data[0]"
      ],
      "metadata": {
        "id": "GMFaFQF0SJb4"
      },
      "execution_count": 15,
      "outputs": []
    },
    {
      "cell_type": "code",
      "source": [
        "# 아래의 예시를 보고 데이터를 어떻게 처리할지 잘 생각하셔야 합니다!\n",
        "# 보았을 때 우리가 사용해야 하는 건 ko와 en가 되고\n",
        "# 실제 데이터를 사용한다고 할 때 이 외에 필요한 데이터가 더 있을 수 있습니다.\n",
        "# 모델링 과정에서는 어떻게 데이터들이 저장되어 있는지 주의해서 처리하시면 됩니다.\n",
        "sample_data"
      ],
      "metadata": {
        "colab": {
          "base_uri": "https://localhost:8080/"
        },
        "id": "I68Quh9gSRag",
        "outputId": "dfbf3dd1-a4c2-41d7-c3f6-bf1aac4048ee"
      },
      "execution_count": 16,
      "outputs": [
        {
          "output_type": "execute_result",
          "data": {
            "text/plain": [
              "{'sn': 'ECOAR1A00003',\n",
              " 'data_set': '일상생활및구어체',\n",
              " 'domain': '해외고객과의채팅',\n",
              " 'subdomain': '숙박,음식점',\n",
              " 'en_original': \"I'm glad to hear that, and I hope you do consider doing business with us.\",\n",
              " 'en': \"I'm glad to hear that, and I hope you do consider doing business with us.\",\n",
              " 'mt': '그 소식을 들으니 기쁩니다. 우리와 거래하는 것을 고려해 보시기 바랍니다.',\n",
              " 'ko': '그 말을 들으니 기쁘고, 저희와 거래하는 것을 고려해 주셨으면 합니다.',\n",
              " 'source_language': 'en',\n",
              " 'target_language': 'ko',\n",
              " 'word_count_ko': 10.0,\n",
              " 'word_count_en': 15.0,\n",
              " 'word_ratio': 0.667,\n",
              " 'file_name': '해외고객과의채팅_숙박,음식점.xlsx',\n",
              " 'source': '크라우드 소싱',\n",
              " 'license': 'open',\n",
              " 'style': '구어체',\n",
              " 'included_unknown_words': False,\n",
              " 'ner': None}"
            ]
          },
          "metadata": {},
          "execution_count": 16
        }
      ]
    },
    {
      "cell_type": "markdown",
      "metadata": {
        "id": "LoZkQRO3l20O"
      },
      "source": [
        "# Preprocess\n",
        "\n",
        "세션 설명 코드에서는 알파벳 하나하나 사용했지만, 이번 과정에서는 토큰화를 진행하여 사용하는 과정을 Dataset에 바로 적용해보고자 합니다! \n",
        "\n",
        "토큰화는 앞서 word embedding 세션에서 사용한 것들을 그대로 이용하고자 합니다. 세부 커스터마이징은 자유롭습니다.\n",
        "\n",
        "전처리 과정에서 중요한 점은, 앞의 구현 코드에서 여러 개의 for loop을 이용해서 구현했었지만, 실제 데이터를 사용한다면 매우 오래 걸리게 됩니다. 실제 데이터를 사용할 때엔 결국 얼마나 효율적으로 빠르게 정리할 수 있을지 고민해보시면서 접근하시길 바랍니다.\n",
        "\n",
        "즉, 전처리에서 챙길 통찰은 얼마나 \"효율적\"으로 할 수 있는가? 입니다."
      ]
    },
    {
      "cell_type": "markdown",
      "source": [
        "## Tokenizer"
      ],
      "metadata": {
        "id": "IngQKWx3VRtO"
      }
    },
    {
      "cell_type": "code",
      "source": [
        "#konlpy 설치 (mecab 제외). 3~40초 정도 소요\n",
        "%%bash\n",
        "apt-get update\n",
        "apt-get install g++ openjdk-8-jdk python-dev python3-dev\n",
        "pip3 install JPype1\n",
        "pip3 install konlpy"
      ],
      "metadata": {
        "colab": {
          "base_uri": "https://localhost:8080/"
        },
        "id": "ttmiDFAEU_BK",
        "outputId": "5f381c80-a36b-4aea-8d26-c0df7411be93"
      },
      "execution_count": 17,
      "outputs": [
        {
          "output_type": "stream",
          "name": "stdout",
          "text": [
            "Get:1 https://cloud.r-project.org/bin/linux/ubuntu bionic-cran40/ InRelease [3,626 B]\n",
            "Ign:2 https://developer.download.nvidia.com/compute/machine-learning/repos/ubuntu1804/x86_64  InRelease\n",
            "Hit:3 http://archive.ubuntu.com/ubuntu bionic InRelease\n",
            "Get:4 http://security.ubuntu.com/ubuntu bionic-security InRelease [88.7 kB]\n",
            "Hit:5 https://developer.download.nvidia.com/compute/cuda/repos/ubuntu1804/x86_64  InRelease\n",
            "Hit:6 https://developer.download.nvidia.com/compute/machine-learning/repos/ubuntu1804/x86_64  Release\n",
            "Get:7 http://ppa.launchpad.net/c2d4u.team/c2d4u4.0+/ubuntu bionic InRelease [15.9 kB]\n",
            "Get:8 http://archive.ubuntu.com/ubuntu bionic-updates InRelease [88.7 kB]\n",
            "Hit:9 http://ppa.launchpad.net/cran/libgit2/ubuntu bionic InRelease\n",
            "Get:10 http://archive.ubuntu.com/ubuntu bionic-backports InRelease [74.6 kB]\n",
            "Get:11 http://ppa.launchpad.net/deadsnakes/ppa/ubuntu bionic InRelease [15.9 kB]\n",
            "Hit:13 http://ppa.launchpad.net/graphics-drivers/ppa/ubuntu bionic InRelease\n",
            "Get:14 http://ppa.launchpad.net/c2d4u.team/c2d4u4.0+/ubuntu bionic/main Sources [2,105 kB]\n",
            "Get:15 http://security.ubuntu.com/ubuntu bionic-security/universe amd64 Packages [1,540 kB]\n",
            "Get:16 http://archive.ubuntu.com/ubuntu bionic-updates/universe amd64 Packages [2,318 kB]\n",
            "Get:17 http://security.ubuntu.com/ubuntu bionic-security/main amd64 Packages [2,965 kB]\n",
            "Get:18 http://archive.ubuntu.com/ubuntu bionic-updates/main amd64 Packages [3,397 kB]\n",
            "Get:19 http://ppa.launchpad.net/c2d4u.team/c2d4u4.0+/ubuntu bionic/main amd64 Packages [1,079 kB]\n",
            "Get:20 http://ppa.launchpad.net/deadsnakes/ppa/ubuntu bionic/main amd64 Packages [45.2 kB]\n",
            "Fetched 13.7 MB in 3s (4,587 kB/s)\n",
            "Reading package lists...\n",
            "Reading package lists...\n",
            "Building dependency tree...\n",
            "Reading state information...\n",
            "python-dev is already the newest version (2.7.15~rc1-1).\n",
            "g++ is already the newest version (4:7.4.0-1ubuntu2.3).\n",
            "g++ set to manually installed.\n",
            "python3-dev is already the newest version (3.6.7-1~18.04).\n",
            "python3-dev set to manually installed.\n",
            "The following package was automatically installed and is no longer required:\n",
            "  libnvidia-common-460\n",
            "Use 'apt autoremove' to remove it.\n",
            "The following additional packages will be installed:\n",
            "  fonts-dejavu-core fonts-dejavu-extra libatk-wrapper-java\n",
            "  libatk-wrapper-java-jni libgail-common libgail18 libgtk2.0-0 libgtk2.0-bin\n",
            "  libgtk2.0-common libxxf86dga1 openjdk-8-jdk-headless openjdk-8-jre\n",
            "  openjdk-8-jre-headless x11-utils\n",
            "Suggested packages:\n",
            "  gvfs openjdk-8-demo openjdk-8-source visualvm libnss-mdns\n",
            "  fonts-ipafont-gothic fonts-ipafont-mincho fonts-wqy-microhei\n",
            "  fonts-wqy-zenhei fonts-indic mesa-utils\n",
            "The following NEW packages will be installed:\n",
            "  fonts-dejavu-core fonts-dejavu-extra libatk-wrapper-java\n",
            "  libatk-wrapper-java-jni libgail-common libgail18 libgtk2.0-0 libgtk2.0-bin\n",
            "  libgtk2.0-common libxxf86dga1 openjdk-8-jdk openjdk-8-jdk-headless\n",
            "  openjdk-8-jre openjdk-8-jre-headless x11-utils\n",
            "0 upgraded, 15 newly installed, 0 to remove and 56 not upgraded.\n",
            "Need to get 46.0 MB of archives.\n",
            "After this operation, 166 MB of additional disk space will be used.\n",
            "Get:1 http://archive.ubuntu.com/ubuntu bionic/main amd64 libxxf86dga1 amd64 2:1.1.4-1 [13.7 kB]\n",
            "Get:2 http://archive.ubuntu.com/ubuntu bionic/main amd64 fonts-dejavu-core all 2.37-1 [1,041 kB]\n",
            "Get:3 http://archive.ubuntu.com/ubuntu bionic/main amd64 fonts-dejavu-extra all 2.37-1 [1,953 kB]\n",
            "Get:4 http://archive.ubuntu.com/ubuntu bionic/main amd64 x11-utils amd64 7.7+3build1 [196 kB]\n",
            "Get:5 http://archive.ubuntu.com/ubuntu bionic/main amd64 libatk-wrapper-java all 0.33.3-20ubuntu0.1 [34.7 kB]\n",
            "Get:6 http://archive.ubuntu.com/ubuntu bionic/main amd64 libatk-wrapper-java-jni amd64 0.33.3-20ubuntu0.1 [28.3 kB]\n",
            "Get:7 http://archive.ubuntu.com/ubuntu bionic/main amd64 libgtk2.0-common all 2.24.32-1ubuntu1 [125 kB]\n",
            "Get:8 http://archive.ubuntu.com/ubuntu bionic/main amd64 libgtk2.0-0 amd64 2.24.32-1ubuntu1 [1,769 kB]\n",
            "Get:9 http://archive.ubuntu.com/ubuntu bionic/main amd64 libgail18 amd64 2.24.32-1ubuntu1 [14.2 kB]\n",
            "Get:10 http://archive.ubuntu.com/ubuntu bionic/main amd64 libgail-common amd64 2.24.32-1ubuntu1 [112 kB]\n",
            "Get:11 http://archive.ubuntu.com/ubuntu bionic/main amd64 libgtk2.0-bin amd64 2.24.32-1ubuntu1 [7,536 B]\n",
            "Get:12 http://archive.ubuntu.com/ubuntu bionic-updates/universe amd64 openjdk-8-jre-headless amd64 8u342-b07-0ubuntu1~18.04 [28.3 MB]\n",
            "Get:13 http://archive.ubuntu.com/ubuntu bionic-updates/universe amd64 openjdk-8-jre amd64 8u342-b07-0ubuntu1~18.04 [69.6 kB]\n",
            "Get:14 http://archive.ubuntu.com/ubuntu bionic-updates/universe amd64 openjdk-8-jdk-headless amd64 8u342-b07-0ubuntu1~18.04 [8,300 kB]\n",
            "Get:15 http://archive.ubuntu.com/ubuntu bionic-updates/universe amd64 openjdk-8-jdk amd64 8u342-b07-0ubuntu1~18.04 [4,032 kB]\n",
            "Fetched 46.0 MB in 2s (19.7 MB/s)\n",
            "Selecting previously unselected package libxxf86dga1:amd64.\r\n",
            "(Reading database ... \r(Reading database ... 5%\r(Reading database ... 10%\r(Reading database ... 15%\r(Reading database ... 20%\r(Reading database ... 25%\r(Reading database ... 30%\r(Reading database ... 35%\r(Reading database ... 40%\r(Reading database ... 45%\r(Reading database ... 50%\r(Reading database ... 55%\r(Reading database ... 60%\r(Reading database ... 65%\r(Reading database ... 70%\r(Reading database ... 75%\r(Reading database ... 80%\r(Reading database ... 85%\r(Reading database ... 90%\r(Reading database ... 95%\r(Reading database ... 100%\r(Reading database ... 155685 files and directories currently installed.)\r\n",
            "Preparing to unpack .../00-libxxf86dga1_2%3a1.1.4-1_amd64.deb ...\r\n",
            "Unpacking libxxf86dga1:amd64 (2:1.1.4-1) ...\r\n",
            "Selecting previously unselected package fonts-dejavu-core.\r\n",
            "Preparing to unpack .../01-fonts-dejavu-core_2.37-1_all.deb ...\r\n",
            "Unpacking fonts-dejavu-core (2.37-1) ...\r\n",
            "Selecting previously unselected package fonts-dejavu-extra.\r\n",
            "Preparing to unpack .../02-fonts-dejavu-extra_2.37-1_all.deb ...\r\n",
            "Unpacking fonts-dejavu-extra (2.37-1) ...\r\n",
            "Selecting previously unselected package x11-utils.\r\n",
            "Preparing to unpack .../03-x11-utils_7.7+3build1_amd64.deb ...\r\n",
            "Unpacking x11-utils (7.7+3build1) ...\r\n",
            "Selecting previously unselected package libatk-wrapper-java.\r\n",
            "Preparing to unpack .../04-libatk-wrapper-java_0.33.3-20ubuntu0.1_all.deb ...\r\n",
            "Unpacking libatk-wrapper-java (0.33.3-20ubuntu0.1) ...\r\n",
            "Selecting previously unselected package libatk-wrapper-java-jni:amd64.\r\n",
            "Preparing to unpack .../05-libatk-wrapper-java-jni_0.33.3-20ubuntu0.1_amd64.deb ...\r\n",
            "Unpacking libatk-wrapper-java-jni:amd64 (0.33.3-20ubuntu0.1) ...\r\n",
            "Selecting previously unselected package libgtk2.0-common.\r\n",
            "Preparing to unpack .../06-libgtk2.0-common_2.24.32-1ubuntu1_all.deb ...\r\n",
            "Unpacking libgtk2.0-common (2.24.32-1ubuntu1) ...\r\n",
            "Selecting previously unselected package libgtk2.0-0:amd64.\r\n",
            "Preparing to unpack .../07-libgtk2.0-0_2.24.32-1ubuntu1_amd64.deb ...\r\n",
            "Unpacking libgtk2.0-0:amd64 (2.24.32-1ubuntu1) ...\r\n",
            "Selecting previously unselected package libgail18:amd64.\r\n",
            "Preparing to unpack .../08-libgail18_2.24.32-1ubuntu1_amd64.deb ...\r\n",
            "Unpacking libgail18:amd64 (2.24.32-1ubuntu1) ...\r\n",
            "Selecting previously unselected package libgail-common:amd64.\r\n",
            "Preparing to unpack .../09-libgail-common_2.24.32-1ubuntu1_amd64.deb ...\r\n",
            "Unpacking libgail-common:amd64 (2.24.32-1ubuntu1) ...\r\n",
            "Selecting previously unselected package libgtk2.0-bin.\r\n",
            "Preparing to unpack .../10-libgtk2.0-bin_2.24.32-1ubuntu1_amd64.deb ...\r\n",
            "Unpacking libgtk2.0-bin (2.24.32-1ubuntu1) ...\r\n",
            "Selecting previously unselected package openjdk-8-jre-headless:amd64.\r\n",
            "Preparing to unpack .../11-openjdk-8-jre-headless_8u342-b07-0ubuntu1~18.04_amd64.deb ...\r\n",
            "Unpacking openjdk-8-jre-headless:amd64 (8u342-b07-0ubuntu1~18.04) ...\r\n",
            "Selecting previously unselected package openjdk-8-jre:amd64.\r\n",
            "Preparing to unpack .../12-openjdk-8-jre_8u342-b07-0ubuntu1~18.04_amd64.deb ...\r\n",
            "Unpacking openjdk-8-jre:amd64 (8u342-b07-0ubuntu1~18.04) ...\r\n",
            "Selecting previously unselected package openjdk-8-jdk-headless:amd64.\r\n",
            "Preparing to unpack .../13-openjdk-8-jdk-headless_8u342-b07-0ubuntu1~18.04_amd64.deb ...\r\n",
            "Unpacking openjdk-8-jdk-headless:amd64 (8u342-b07-0ubuntu1~18.04) ...\r\n",
            "Selecting previously unselected package openjdk-8-jdk:amd64.\r\n",
            "Preparing to unpack .../14-openjdk-8-jdk_8u342-b07-0ubuntu1~18.04_amd64.deb ...\r\n",
            "Unpacking openjdk-8-jdk:amd64 (8u342-b07-0ubuntu1~18.04) ...\r\n",
            "Setting up libgtk2.0-common (2.24.32-1ubuntu1) ...\r\n",
            "Setting up fonts-dejavu-core (2.37-1) ...\r\n",
            "Setting up libxxf86dga1:amd64 (2:1.1.4-1) ...\r\n",
            "Setting up fonts-dejavu-extra (2.37-1) ...\r\n",
            "Setting up openjdk-8-jre-headless:amd64 (8u342-b07-0ubuntu1~18.04) ...\r\n",
            "update-alternatives: using /usr/lib/jvm/java-8-openjdk-amd64/jre/bin/orbd to provide /usr/bin/orbd (orbd) in auto mode\r\n",
            "update-alternatives: using /usr/lib/jvm/java-8-openjdk-amd64/jre/bin/servertool to provide /usr/bin/servertool (servertool) in auto mode\r\n",
            "update-alternatives: using /usr/lib/jvm/java-8-openjdk-amd64/jre/bin/tnameserv to provide /usr/bin/tnameserv (tnameserv) in auto mode\r\n",
            "Setting up libgtk2.0-0:amd64 (2.24.32-1ubuntu1) ...\r\n",
            "Setting up libgail18:amd64 (2.24.32-1ubuntu1) ...\r\n",
            "Setting up openjdk-8-jdk-headless:amd64 (8u342-b07-0ubuntu1~18.04) ...\r\n",
            "update-alternatives: using /usr/lib/jvm/java-8-openjdk-amd64/bin/idlj to provide /usr/bin/idlj (idlj) in auto mode\r\n",
            "update-alternatives: using /usr/lib/jvm/java-8-openjdk-amd64/bin/wsimport to provide /usr/bin/wsimport (wsimport) in auto mode\r\n",
            "update-alternatives: using /usr/lib/jvm/java-8-openjdk-amd64/bin/jsadebugd to provide /usr/bin/jsadebugd (jsadebugd) in auto mode\r\n",
            "update-alternatives: using /usr/lib/jvm/java-8-openjdk-amd64/bin/native2ascii to provide /usr/bin/native2ascii (native2ascii) in auto mode\r\n",
            "update-alternatives: using /usr/lib/jvm/java-8-openjdk-amd64/bin/javah to provide /usr/bin/javah (javah) in auto mode\r\n",
            "update-alternatives: using /usr/lib/jvm/java-8-openjdk-amd64/bin/clhsdb to provide /usr/bin/clhsdb (clhsdb) in auto mode\r\n",
            "update-alternatives: using /usr/lib/jvm/java-8-openjdk-amd64/bin/xjc to provide /usr/bin/xjc (xjc) in auto mode\r\n",
            "update-alternatives: using /usr/lib/jvm/java-8-openjdk-amd64/bin/hsdb to provide /usr/bin/hsdb (hsdb) in auto mode\r\n",
            "update-alternatives: using /usr/lib/jvm/java-8-openjdk-amd64/bin/schemagen to provide /usr/bin/schemagen (schemagen) in auto mode\r\n",
            "update-alternatives: using /usr/lib/jvm/java-8-openjdk-amd64/bin/extcheck to provide /usr/bin/extcheck (extcheck) in auto mode\r\n",
            "update-alternatives: using /usr/lib/jvm/java-8-openjdk-amd64/bin/jhat to provide /usr/bin/jhat (jhat) in auto mode\r\n",
            "update-alternatives: using /usr/lib/jvm/java-8-openjdk-amd64/bin/wsgen to provide /usr/bin/wsgen (wsgen) in auto mode\r\n",
            "Setting up x11-utils (7.7+3build1) ...\r\n",
            "Setting up libgail-common:amd64 (2.24.32-1ubuntu1) ...\r\n",
            "Setting up libatk-wrapper-java (0.33.3-20ubuntu0.1) ...\r\n",
            "Setting up libgtk2.0-bin (2.24.32-1ubuntu1) ...\r\n",
            "Setting up libatk-wrapper-java-jni:amd64 (0.33.3-20ubuntu0.1) ...\r\n",
            "Setting up openjdk-8-jre:amd64 (8u342-b07-0ubuntu1~18.04) ...\r\n",
            "update-alternatives: using /usr/lib/jvm/java-8-openjdk-amd64/jre/bin/policytool to provide /usr/bin/policytool (policytool) in auto mode\r\n",
            "Setting up openjdk-8-jdk:amd64 (8u342-b07-0ubuntu1~18.04) ...\r\n",
            "update-alternatives: using /usr/lib/jvm/java-8-openjdk-amd64/bin/appletviewer to provide /usr/bin/appletviewer (appletviewer) in auto mode\r\n",
            "update-alternatives: using /usr/lib/jvm/java-8-openjdk-amd64/bin/jconsole to provide /usr/bin/jconsole (jconsole) in auto mode\r\n",
            "Processing triggers for man-db (2.8.3-2ubuntu0.1) ...\r\n",
            "Processing triggers for hicolor-icon-theme (0.17-2) ...\r\n",
            "Processing triggers for fontconfig (2.12.6-0ubuntu2) ...\r\n",
            "Processing triggers for mime-support (3.60ubuntu1) ...\r\n",
            "Processing triggers for libc-bin (2.27-3ubuntu1.5) ...\r\n",
            "Looking in indexes: https://pypi.org/simple, https://us-python.pkg.dev/colab-wheels/public/simple/\n",
            "Collecting JPype1\n",
            "  Downloading JPype1-1.4.0-cp37-cp37m-manylinux_2_5_x86_64.manylinux1_x86_64.whl (453 kB)\n",
            "Requirement already satisfied: typing-extensions in /usr/local/lib/python3.7/dist-packages (from JPype1) (4.1.1)\n",
            "Installing collected packages: JPype1\n",
            "Successfully installed JPype1-1.4.0\n",
            "Looking in indexes: https://pypi.org/simple, https://us-python.pkg.dev/colab-wheels/public/simple/\n",
            "Collecting konlpy\n",
            "  Downloading konlpy-0.6.0-py2.py3-none-any.whl (19.4 MB)\n",
            "Requirement already satisfied: lxml>=4.1.0 in /usr/local/lib/python3.7/dist-packages (from konlpy) (4.9.1)\n",
            "Requirement already satisfied: JPype1>=0.7.0 in /usr/local/lib/python3.7/dist-packages (from konlpy) (1.4.0)\n",
            "Requirement already satisfied: numpy>=1.6 in /usr/local/lib/python3.7/dist-packages (from konlpy) (1.21.6)\n",
            "Requirement already satisfied: typing-extensions in /usr/local/lib/python3.7/dist-packages (from JPype1>=0.7.0->konlpy) (4.1.1)\n",
            "Installing collected packages: konlpy\n",
            "Successfully installed konlpy-0.6.0\n"
          ]
        }
      ]
    },
    {
      "cell_type": "code",
      "source": [
        "# java 경로 설정\n",
        "%env JAVA_HOME \"/usr/lib/jvm/java-8-openjdk-amd64\""
      ],
      "metadata": {
        "colab": {
          "base_uri": "https://localhost:8080/"
        },
        "id": "gV7CNL2KVDqN",
        "outputId": "0a98dae5-b3ff-4fba-e66b-4cf2591823e6"
      },
      "execution_count": 18,
      "outputs": [
        {
          "output_type": "stream",
          "name": "stdout",
          "text": [
            "env: JAVA_HOME=\"/usr/lib/jvm/java-8-openjdk-amd64\"\n"
          ]
        }
      ]
    },
    {
      "cell_type": "code",
      "source": [
        "from konlpy.tag import Okt"
      ],
      "metadata": {
        "id": "S0aHtzksVPOT"
      },
      "execution_count": 19,
      "outputs": []
    },
    {
      "cell_type": "code",
      "source": [
        "okt = Okt()"
      ],
      "metadata": {
        "id": "ly1Fg2bXVYVF"
      },
      "execution_count": 20,
      "outputs": []
    },
    {
      "cell_type": "code",
      "source": [
        "def CustomTokenizer(corpus):\n",
        "    stop = ['Josa', 'Suffix', 'Punctuation', 'Foreign', 'Number']\n",
        "    tokenized = okt.pos(corpus)\n",
        "    tokenized = [i for i, j in tokenized if j not in stop]\n",
        "    return tokenized      "
      ],
      "metadata": {
        "id": "UcXNpcUaVtIA"
      },
      "execution_count": 21,
      "outputs": []
    },
    {
      "cell_type": "code",
      "source": [
        "# 한국어 처리 어떻게 되고 있는지 확인\n",
        "CustomTokenizer(sample_data['ko'])"
      ],
      "metadata": {
        "colab": {
          "base_uri": "https://localhost:8080/"
        },
        "id": "aGMdyWtdWF31",
        "outputId": "af0b4f4e-f7cd-4edf-c473-30c2fd8c4d46"
      },
      "execution_count": 22,
      "outputs": [
        {
          "output_type": "execute_result",
          "data": {
            "text/plain": [
              "['그', '말', '들으니', '기쁘고', '저희', '거래', '하는', '것', '고려', '해', '주셨으면', '합니다']"
            ]
          },
          "metadata": {},
          "execution_count": 22
        }
      ]
    },
    {
      "cell_type": "code",
      "source": [
        "# 영어도 일단 토큰화가 되고 있으니 사용해보도록 합시다\n",
        "CustomTokenizer(sample_data['en'])"
      ],
      "metadata": {
        "colab": {
          "base_uri": "https://localhost:8080/"
        },
        "id": "G7vMH186WJUp",
        "outputId": "38a85b22-deb2-47e5-a6cb-37daa952b11b"
      },
      "execution_count": 23,
      "outputs": [
        {
          "output_type": "execute_result",
          "data": {
            "text/plain": [
              "['I',\n",
              " 'm',\n",
              " 'glad',\n",
              " 'to',\n",
              " 'hear',\n",
              " 'that',\n",
              " 'and',\n",
              " 'I',\n",
              " 'hope',\n",
              " 'you',\n",
              " 'do',\n",
              " 'consider',\n",
              " 'doing',\n",
              " 'business',\n",
              " 'with',\n",
              " 'us']"
            ]
          },
          "metadata": {},
          "execution_count": 23
        }
      ]
    },
    {
      "cell_type": "markdown",
      "source": [
        "## 본격적인 전처리 과정\n",
        "\n",
        "전처리를 할 때 주의할 점은, 우리가 가지고 있는 것은 train 데이터 뿐이라는 점입니다.\n",
        "\n",
        "토큰화를 하고, token들을 수집할 때 평가데이터(혹은 테스트 데이터)에 대한 정보는 가지고 있을 수 없습니다. 그렇기 때문에 train data를 기준으로 전처리가 진행되어야 합니다."
      ],
      "metadata": {
        "id": "L9_z0sVcW7Cy"
      }
    },
    {
      "cell_type": "markdown",
      "source": [
        "### Tokenization"
      ],
      "metadata": {
        "id": "HgfddQJuaQe-"
      }
    },
    {
      "cell_type": "code",
      "source": [
        "from tqdm import tqdm"
      ],
      "metadata": {
        "id": "zPHGhgX4YXJR"
      },
      "execution_count": 24,
      "outputs": []
    },
    {
      "cell_type": "code",
      "source": [
        "src_vocab = set()\n",
        "tar_vocab = set()\n",
        "\n",
        "src_seq_tr = []\n",
        "tar_seq_tr = []\n",
        "\n",
        "# 전체 raw data에서 문장하나씩 loop 돌아가는 것\n",
        "for raw_tr_dat in tqdm(raw_train_data):\n",
        "  # 문장별 tokenization\n",
        "  src_tmp = CustomTokenizer(raw_tr_dat['en'])\n",
        "  tar_tmp = CustomTokenizer(raw_tr_dat['ko'])\n",
        "\n",
        "  # 입력 시퀀스에서 문장의 끝을 알리는 <EOS> 토큰 추가\n",
        "  # 출력 시퀀스에서 시작과 끝을 알리는 <SOS>, <EOS> 토큰 추가\n",
        "  src_tmp.append('<EOS>')\n",
        "  tar_tmp.insert(0, '<SOS>')\n",
        "  tar_tmp.append('<EOS>')\n",
        "  # 한국어, 영어 단어집합 구성\n",
        "  src_vocab.update(src_tmp)\n",
        "  tar_vocab.update(tar_tmp)\n",
        "\n",
        "  # tokenization 끝난 문장 보관\n",
        "  src_seq_tr.append(src_tmp)\n",
        "  tar_seq_tr.append(tar_tmp)"
      ],
      "metadata": {
        "colab": {
          "base_uri": "https://localhost:8080/"
        },
        "id": "sJjWUAipWPsN",
        "outputId": "e52c0a4e-0222-4dcc-c736-00bad145c899"
      },
      "execution_count": 25,
      "outputs": [
        {
          "output_type": "stream",
          "name": "stderr",
          "text": [
            "100%|██████████| 10000/10000 [00:28<00:00, 351.92it/s]\n"
          ]
        }
      ]
    },
    {
      "cell_type": "markdown",
      "source": [
        "고민해볼 점: 과연 한국어 단어집합에 한국어만 있을까요?\n",
        "\n",
        "지금 단계에서는 시간 상 체크하진 않지만 고민해볼 부분이기도 합니다."
      ],
      "metadata": {
        "id": "PtNW4DUIyEbN"
      }
    },
    {
      "cell_type": "markdown",
      "source": [
        "### token - index 정리"
      ],
      "metadata": {
        "id": "cK_E98-daSy7"
      }
    },
    {
      "cell_type": "code",
      "source": [
        "# 최종 정수 인코딩 하기 전 보기 편하기 위해 sort\n",
        "src_vocab = sorted(list(src_vocab))\n",
        "tar_vocab = sorted(list(tar_vocab))"
      ],
      "metadata": {
        "id": "Iz3i3MtRZ-P-"
      },
      "execution_count": 26,
      "outputs": []
    },
    {
      "cell_type": "code",
      "source": [
        "# token - idx dictionary\n",
        "# 여기서도 동일하게 i+1로 해줘야 padding에 사용할 token을 0으로 사용할 수 있습니다!\n",
        "src_to_index = dict([(word, i+1) for i, word in enumerate(src_vocab)])\n",
        "tar_to_index = dict([(word, i+1) for i, word in enumerate(tar_vocab)])\n",
        "print(src_to_index)\n",
        "print(tar_to_index)"
      ],
      "metadata": {
        "colab": {
          "base_uri": "https://localhost:8080/"
        },
        "id": "xrGkd41Has-Q",
        "outputId": "32cbc4ff-301b-4f49-f0de-ad7f60a704bb"
      },
      "execution_count": 27,
      "outputs": [
        {
          "output_type": "stream",
          "name": "stdout",
          "text": [
            "{'<EOS>': 1, 'A': 2, 'AAA': 3, 'AAA1@BBB1.com.': 4, 'AAA@BBB.com': 5, 'ABCDE': 6, 'AI': 7, 'ANRs': 8, 'ATM': 9, 'ATMs': 10, 'Absolutely': 11, 'Accidents': 12, 'According': 13, 'Actually': 14, 'Additionally': 15, 'Ads': 16, 'African': 17, 'After': 18, 'Afterwards': 19, 'Again': 20, 'Agency': 21, 'Ah': 22, 'Airport': 23, 'All': 24, 'Allow': 25, 'Almost': 26, 'Along': 27, 'Alright': 28, 'Also': 29, 'Alternatively': 30, 'Although': 31, 'Am': 32, 'America': 33, 'American': 34, 'Among': 35, 'Amsterdam': 36, 'An': 37, 'And': 38, 'Angel': 39, 'Another': 40, 'Any': 41, 'Anyone': 42, 'Anything': 43, 'Anyway': 44, 'Apart': 45, 'Apologies': 46, 'Apparently': 47, 'Appraisal': 48, 'April': 49, 'Are': 50, 'Argentina': 51, 'Around': 52, 'Articles': 53, 'Artificial': 54, 'As': 55, 'Asia': 56, 'Asian': 57, 'Aside': 58, 'Associates': 59, 'Assume': 60, 'At': 61, 'August': 62, 'Australia': 63, 'Australian': 64, 'Available': 65, 'Avatars': 66, 'Avoid': 67, 'Awesome': 68, 'B': 69, 'BBB': 70, 'BBB@email.com.': 71, 'BBQ': 72, 'BSE': 73, 'Back': 74, 'Bank': 75, 'Barbados': 76, 'Based': 77, 'Basically': 78, 'Be': 79, 'Bear': 80, 'Because': 81, 'Beef': 82, 'Before': 83, 'Being': 84, 'Besides': 85, 'Board': 86, 'Bohemian': 87, 'Bokkeumbap': 88, 'Bossam': 89, 'Both': 90, 'Brazil': 91, 'Breakfast': 92, 'Bringing': 93, 'Broadcast': 94, 'Broadcasting': 95, 'Browsing': 96, 'Brunei': 97, 'Buddha': 98, 'Buddhism': 99, 'Buddhist': 100, 'Building': 101, 'Bulgogi': 102, 'Bungeoppang': 103, 'Bunsen': 104, 'Busan': 105, 'Business': 106, 'But': 107, 'Buying': 108, 'By': 109, 'C': 110, 'CCTV': 111, 'CCTVs': 112, 'CEO': 113, 'CFM': 114, 'CMS': 115, 'COVID': 116, 'CSS': 117, 'CT': 118, 'California': 119, 'Call': 120, 'Camp': 121, 'Camping': 122, 'Can': 123, 'Canada': 124, 'Canal': 125, 'Capital': 126, 'Catering': 127, 'Center': 128, 'Certainly': 129, 'Change': 130, 'Chapter': 131, 'Chicago': 132, 'Chief': 133, 'Children': 134, 'China': 135, 'Chinese': 136, 'Choosing': 137, 'Chosun': 138, 'Christmas': 139, 'Chuseok': 140, 'City': 141, 'Class': 142, 'Click': 143, 'Clothing': 144, 'Cloud': 145, 'Come': 146, 'Company': 147, 'Compatible': 148, 'Completion': 149, 'Consider': 150, 'Considering': 151, 'Contact': 152, 'Content': 153, 'Continental': 154, 'Continue': 155, 'Control': 156, 'Convention': 157, 'Cool': 158, 'Copyright': 159, 'Corp': 160, 'Corporation': 161, 'Correct': 162, 'Could': 163, 'Court': 164, 'Crowdfunding': 165, 'Cryptocurrency': 166, 'Currently': 167, 'D': 168, 'DCA': 169, 'DVR': 170, 'Daegu': 171, 'Dak': 172, 'Dear': 173, 'December': 174, 'Definitely': 175, 'Denmark': 176, 'Department': 177, 'Depends': 178, 'Design': 179, 'Despite': 180, 'Details': 181, 'Devices': 182, 'Did': 183, 'Didn': 184, 'Different': 185, 'Disclosing': 186, 'District': 187, 'Do': 188, 'Documents': 189, 'Does': 190, 'Don': 191, 'Download': 192, 'Dr': 193, 'Drive': 194, 'Due': 195, 'Duly': 196, 'During': 197, 'E': 198, 'EOB': 199, 'EPP': 200, 'ESG': 201, 'EST': 202, 'ETF': 203, 'ETFs': 204, 'EVA': 205, 'Each': 206, 'Earth': 207, 'East': 208, 'Eastern': 209, 'Egyptian': 210, 'Eh': 211, 'Emerald': 212, 'Emerging': 213, 'Emily': 214, 'Encryption': 215, 'Engine': 216, 'Engines': 217, 'England': 218, 'English': 219, 'Equipment': 220, 'Especially': 221, 'Essentially': 222, 'Europe': 223, 'European': 224, 'Euros': 225, 'Even': 226, 'Events': 227, 'Every': 228, 'Everyone': 229, 'Everything': 230, 'Exactly': 231, 'Excellent': 232, 'Exchange': 233, 'Excuse': 234, 'Exit': 235, 'Expect': 236, 'Expo': 237, 'FDI': 238, 'FFF': 239, 'FOMO': 240, 'Factors': 241, 'Failure': 242, 'Fantastic': 243, 'February': 244, 'Federal': 245, 'Feel': 246, 'Festival': 247, 'Fi': 248, 'Fifth': 249, 'Filipino': 250, 'Finally': 251, 'Financial': 252, 'Find': 253, 'Fine': 254, 'Fingers': 255, 'First': 256, 'Firstly': 257, 'Five': 258, 'Flashes': 259, 'Flexibility': 260, 'Food': 261, 'For': 262, 'Foreigners': 263, 'Fortunately': 264, 'Fourth': 265, 'France': 266, 'Francisco': 267, 'French': 268, 'Friday': 269, 'From': 270, 'Fu': 271, 'Furthermore': 272, 'Futons': 273, 'Futures': 274, 'G': 275, 'GB': 276, 'GPS': 277, 'GVWR': 278, 'Gains': 279, 'Gangnam': 280, 'Gangneung': 281, 'Gas': 282, 'Generally': 283, 'Georgia': 284, 'Germany': 285, 'Get': 286, 'Ginseng': 287, 'Give': 288, 'Given': 289, 'Giving': 290, 'Go': 291, 'Good': 292, 'Got': 293, 'Graphic': 294, 'Great': 295, 'Greek': 296, 'Greetings': 297, 'Group': 298, 'Guam': 299, 'Gujeolpan': 300, 'Gyeonggi': 301, 'HDD': 302, 'HR': 303, 'HTML': 304, 'Hackers': 305, 'Halal': 306, 'Hanok': 307, 'Has': 308, 'Have': 309, 'Having': 310, 'Hawaii': 311, 'He': 312, 'Helllo': 313, 'Hello': 314, 'Hence': 315, 'Her': 316, 'Here': 317, 'Hey': 318, 'Hi': 319, 'Hmm': 320, 'Hokkaido': 321, 'Hold': 322, 'Hopefully': 323, 'Hotel': 324, 'How': 325, 'However': 326, 'I': 327, 'ID': 328, 'IDs': 329, 'IP': 330, 'IPO': 331, 'IPOs': 332, 'IT': 333, 'IVR': 334, 'IaaS': 335, 'If': 336, 'Ilsan': 337, 'In': 338, 'Incentives': 339, 'Incheon': 340, 'Incorporation': 341, 'Indeed': 342, 'Independent': 343, 'India': 344, 'Indian': 345, 'Indonesia': 346, 'Indonesian': 347, 'Inflation': 348, 'Influencer': 349, 'Innovations': 350, 'Installing': 351, 'Instant': 352, 'Insurance': 353, 'Interesting': 354, 'International': 355, 'Internet': 356, 'Intraday': 357, 'Invest': 358, 'Investments': 359, 'Investors': 360, 'IoT': 361, 'Is': 362, 'Isn': 363, 'It': 364, 'Italian': 365, 'Italy': 366, 'JLPT': 367, 'January': 368, 'Japan': 369, 'Japanese': 370, 'Jeju': 371, 'Jeonbyeong': 372, 'Jjimjilbang': 373, 'Jongno': 374, 'July': 375, 'Jun': 376, 'June': 377, 'Just': 378, 'K': 379, 'KOSDAQ': 380, 'KST': 381, 'Kabsat': 382, 'Keep': 383, 'Kimchi': 384, 'Kindly': 385, 'Kingdom': 386, 'Know': 387, 'Knowing': 388, 'Kolkata': 389, 'Korea': 390, 'Korean': 391, 'Koreans': 392, 'Kuala': 393, 'LED': 394, 'Language': 395, 'Last': 396, 'Lastly': 397, 'Later': 398, 'Latest': 399, 'Law': 400, 'Learning': 401, 'Let': 402, 'Life': 403, 'Like': 404, 'Likewise': 405, 'Limited': 406, 'Listen': 407, 'Little': 408, 'Liverpool': 409, 'Loans': 410, 'Locust': 411, 'Log': 412, 'London': 413, 'Looking': 414, 'Losers': 415, 'Loss': 416, 'Lovely': 417, 'Low': 418, 'Luckily': 419, 'Lumpur': 420, 'M': 421, 'MAR': 422, 'MMS': 423, 'MOU': 424, 'Ma': 425, 'Madrid': 426, 'Mainly': 427, 'Maintaining': 428, 'Make': 429, 'Making': 430, 'Malaysia': 431, 'Management': 432, 'Manali': 433, 'Mandarin': 434, 'Manila': 435, 'Many': 436, 'Mapo': 437, 'Mapping': 438, 'March': 439, 'Marketing': 440, 'May': 441, 'Maybe': 442, 'Me': 443, 'Meaning': 444, 'Meanwhile': 445, 'Mechanical': 446, 'Media': 447, 'Medical': 448, 'Members': 449, 'Metaverse': 450, 'Michelin': 451, 'Minting': 452, 'Mobile': 453, 'Monday': 454, 'Month': 455, 'More': 456, 'Moreover': 457, 'Most': 458, 'Moving': 459, 'Mr': 460, 'Mrs': 461, 'Ms': 462, 'Music': 463, 'My': 464, 'Myanmar': 465, 'NFT': 466, 'NFTs': 467, 'NI': 468, 'NSE': 469, 'NTFS': 470, 'Naturally': 471, 'Needles': 472, 'Network': 473, 'Never': 474, 'New': 475, 'News': 476, 'Next': 477, 'Nigeria': 478, 'No': 479, 'Nobody': 480, 'Non': 481, 'None': 482, 'Normally': 483, 'North': 484, 'Not': 485, 'Noted': 486, 'Nothing': 487, 'November': 488, 'Now': 489, 'Nowadays': 490, 'OK': 491, 'OKK': 492, 'OS': 493, 'October': 494, 'Of': 495, 'Off': 496, 'Offering': 497, 'Office': 498, 'Officer': 499, 'Oh': 500, 'Ohio': 501, 'Ok': 502, 'Okay': 503, 'Omji': 504, 'On': 505, 'Once': 506, 'One': 507, 'Only': 508, 'Ontario': 509, 'Optimization': 510, 'Or': 511, 'Originally': 512, 'Others': 513, 'Otherwise': 514, 'Our': 515, 'Out': 516, 'Over': 517, 'Overall': 518, 'PDA': 519, 'PDF': 520, 'PM': 521, 'PPE': 522, 'PR': 523, 'PRO': 524, 'PSAs': 525, 'PVP': 526, 'Pakistan': 527, 'Palm': 528, 'Paper': 529, 'Paris': 530, 'Paying': 531, 'Payment': 532, 'Pelmeni': 533, 'People': 534, 'Perfect': 535, 'Perhaps': 536, 'Philippines': 537, 'Place': 538, 'Please': 539, 'Plenty': 540, 'Plummer': 541, 'Plus': 542, 'Pohang': 543, 'Pot': 544, 'Precisely': 545, 'Precision': 546, 'Predicting': 547, 'President': 548, 'Prices': 549, 'Private': 550, 'Probably': 551, 'Product': 552, 'Publishing': 553, 'Python': 554, 'QR': 555, 'Quality': 556, 'RAM': 557, 'RV': 558, 'Radio': 559, 'Recently': 560, 'Red': 561, 'Regarding': 562, 'Regardless': 563, 'Regrettably': 564, 'Resolution': 565, 'Rest': 566, 'Retailers': 567, 'Right': 568, 'Room': 569, 'SD': 570, 'SEO': 571, 'SIM': 572, 'SKUs': 573, 'SPV': 574, 'SSD': 575, 'SSL': 576, 'Sadly': 577, 'Saeng': 578, 'Sakyamuni': 579, 'Salalah': 580, 'San': 581, 'Sashimi': 582, 'Saturday': 583, 'Sauna': 584, 'Say': 585, 'Schools': 586, 'Search': 587, 'Second': 588, 'Security': 589, 'See': 590, 'Send': 591, 'Seoul': 592, 'September': 593, 'Series': 594, 'Services': 595, 'Several': 596, 'Shall': 597, 'Shampoo': 598, 'Shanghai': 599, 'She': 600, 'Shop': 601, 'Should': 602, 'Signals': 603, 'Signature': 604, 'Similar': 605, 'Simply': 606, 'Since': 607, 'Singapore': 608, 'Singaporean': 609, 'Sir': 610, 'Skim': 611, 'So': 612, 'Social': 613, 'Soju': 614, 'Solar': 615, 'Some': 616, 'Someone': 617, 'Something': 618, 'Sometimes': 619, 'Soon': 620, 'Sorry': 621, 'Sounds': 622, 'South': 623, 'Southeast': 624, 'Spain': 625, 'Spanish': 626, 'Speaking': 627, 'Specifically': 628, 'Springs': 629, 'Square': 630, 'Starting': 631, 'States': 632, 'Station': 633, 'Stay': 634, 'Staying': 635, 'Still': 636, 'Stock': 637, 'Street': 638, 'Stroganoff': 639, 'Submit': 640, 'Submitting': 641, 'Such': 642, 'Sudan': 643, 'Suez': 644, 'Suite': 645, 'Sun': 646, 'Sunday': 647, 'Sure': 648, 'TPU': 649, 'TV': 650, 'Taegeuk': 651, 'Taeguekgi': 652, 'Taiwan': 653, 'Take': 654, 'Task': 655, 'Team': 656, 'Tech': 657, 'Technical': 658, 'Technology': 659, 'Tell': 660, 'Temple': 661, 'Ten': 662, 'Thai': 663, 'Thailand': 664, 'Thank': 665, 'Thanks': 666, 'That': 667, 'The': 668, 'Their': 669, 'Then': 670, 'There': 671, 'Therefore': 672, 'These': 673, 'They': 674, 'Things': 675, 'Third': 676, 'Thirdly': 677, 'This': 678, 'Those': 679, 'Three': 680, 'Through': 681, 'Thursday': 682, 'Thursdays': 683, 'Thus': 684, 'Times': 685, 'To': 686, 'Today': 687, 'Tokens': 688, 'Tokyo': 689, 'Tong': 690, 'Tongdosa': 691, 'Topics': 692, 'Touch': 693, 'Trade': 694, 'Trust': 695, 'Truth': 696, 'Try': 697, 'Tuesday': 698, 'Turkish': 699, 'UI': 700, 'UN': 701, 'US': 702, 'USA': 703, 'USB': 704, 'USBs': 705, 'Ukraine': 706, 'Ulsan': 707, 'Ultimately': 708, 'Under': 709, 'Unfortunately': 710, 'United': 711, 'Universal': 712, 'University': 713, 'Unless': 714, 'Unlike': 715, 'Until': 716, 'Upon': 717, 'Users': 718, 'Using': 719, 'Usually': 720, 'VC': 721, 'VIP': 722, 'VPN': 723, 'VR': 724, 'VVIP': 725, 'Vacationing': 726, 'Various': 727, 'Vegetables': 728, 'Venezuela': 729, 'Very': 730, 'Vietnam': 731, 'View': 732, 'Virtual': 733, 'Visual': 734, 'Visualization': 735, 'WIFI': 736, 'WTO': 737, 'Wait': 738, 'Was': 739, 'We': 740, 'Webcasting': 741, 'Wednesday': 742, 'Welcome': 743, 'Well': 744, 'Were': 745, 'Weren': 746, 'What': 747, 'Whatever': 748, 'WhatsApp': 749, 'When': 750, 'Where': 751, 'Which': 752, 'While': 753, 'Who': 754, 'Whom': 755, 'Why': 756, 'Wi': 757, 'Will': 758, 'Wishing': 759, 'With': 760, 'Without': 761, 'Won': 762, 'Wonderful': 763, 'Wonju': 764, 'Would': 765, 'Wouldn': 766, 'Wow': 767, 'X': 768, 'Yeah': 769, 'Yebool': 770, 'Yellowknife': 771, 'Yes': 772, 'Yet': 773, 'York': 774, 'Yorkshire': 775, 'You': 776, 'Your': 777, 'Yukhoe': 778, 'Yup': 779, 'Zealand': 780, 'a': 781, 'abbreviation': 782, 'ability': 783, 'able': 784, 'about': 785, 'above': 786, 'abroad': 787, 'absent': 788, 'absolutely': 789, 'absorption': 790, 'academe': 791, 'academic': 792, 'accelerate': 793, 'accept': 794, 'acceptable': 795, 'acceptance': 796, 'accepted': 797, 'accepting': 798, 'access': 799, 'accessed': 800, 'accessibility': 801, 'accessible': 802, 'accessing': 803, 'accessories': 804, 'accidental': 805, 'accidentally': 806, 'accidents': 807, 'accommodate': 808, 'accommodating': 809, 'accommodation': 810, 'accommodations': 811, 'accomodating': 812, 'accomplish': 813, 'accomplished': 814, 'accordance': 815, 'according': 816, 'accordingly': 817, 'account': 818, 'accountancy': 819, 'accountant': 820, 'accounted': 821, 'accounting': 822, 'accounts': 823, 'accrual': 824, 'accumulated': 825, 'accuracy': 826, 'accurate': 827, 'accurately': 828, 'achieve': 829, 'achieved': 830, 'achievement': 831, 'achievements': 832, 'achieving': 833, 'acknowledge': 834, 'acne': 835, 'acoustic': 836, 'acoustics': 837, 'acquaint': 838, 'acquire': 839, 'acquired': 840, 'acquiring': 841, 'acquisition': 842, 'across': 843, 'act': 844, 'action': 845, 'actions': 846, 'activate': 847, 'activated': 848, 'active': 849, 'activities': 850, 'activity': 851, 'actors': 852, 'actual': 853, 'actualize': 854, 'actually': 855, 'acute': 856, 'ad': 857, 'adaptations': 858, 'adapter': 859, 'adaptive': 860, 'adaptor': 861, 'adaptors': 862, 'add': 863, 'added': 864, 'addendum': 865, 'adding': 866, 'addition': 867, 'additional': 868, 'address': 869, 'addressed': 870, 'addresses': 871, 'addressing': 872, 'adequately': 873, 'adhere': 874, 'adhesive': 875, 'adjust': 876, 'adjustable': 877, 'adjusted': 878, 'adjustment': 879, 'adjustments': 880, 'administration': 881, 'administrative': 882, 'administrators': 883, 'admission': 884, 'adopt': 885, 'ads': 886, 'adult': 887, 'adults': 888, 'advance': 889, 'advanced': 890, 'advancement': 891, 'advancing': 892, 'advantage': 893, 'advantageous': 894, 'advantages': 895, 'adventure': 896, 'advertise': 897, 'advertisement': 898, 'advertisements': 899, 'advertising': 900, 'adverts': 901, 'advice': 902, 'advisable': 903, 'advise': 904, 'advised': 905, 'advisers': 906, 'advises': 907, 'advisor': 908, 'advisory': 909, 'aesthetic': 910, 'affairs': 911, 'affect': 912, 'affected': 913, 'affecting': 914, 'affects': 915, 'affiliate': 916, 'affiliated': 917, 'affluent': 918, 'afford': 919, 'affordability': 920, 'affordable': 921, 'afloat': 922, 'aforementioned': 923, 'afraid': 924, 'after': 925, 'afternoon': 926, 'afterward': 927, 'again': 928, 'against': 929, 'age': 930, 'aged': 931, 'agencies': 932, 'agency': 933, 'agenda': 934, 'agent': 935, 'ages': 936, 'ago': 937, 'agree': 938, 'agreed': 939, 'agreeing': 940, 'agreement': 941, 'agrees': 942, 'agricultural': 943, 'agriculture': 944, 'ahead': 945, 'aid': 946, 'aids': 947, 'aim': 948, 'aims': 949, 'air': 950, 'aircraft': 951, 'airing': 952, 'airlines': 953, 'airport': 954, 'airports': 955, 'airtime': 956, 'alarm': 957, 'albeit': 958, 'album': 959, 'albums': 960, 'alcohol': 961, 'alcoholic': 962, 'alert': 963, 'algorithm': 964, 'algorithms': 965, 'aligned': 966, 'alkaline': 967, 'all': 968, 'allegations': 969, 'allergic': 970, 'allergies': 971, 'alliance': 972, 'allocate': 973, 'allocation': 974, 'allocations': 975, 'allow': 976, 'allowed': 977, 'allowing': 978, 'allows': 979, 'almost': 980, 'alone': 981, 'along': 982, 'already': 983, 'alright': 984, 'also': 985, 'alternative': 986, 'alternatives': 987, 'although': 988, 'aluminum': 989, 'always': 990, 'am': 991, 'amazing': 992, 'ambassador': 993, 'ambiance': 994, 'ambulation': 995, 'ambulatory': 996, 'amend': 997, 'amends': 998, 'amenities': 999, 'amenity': 1000, 'among': 1001, 'amongst': 1002, 'amount': 1003, 'amounted': 1004, 'amounts': 1005, 'amplifier': 1006, 'amplify': 1007, 'an': 1008, 'analysis': 1009, 'analytics': 1010, 'analyze': 1011, 'analyzing': 1012, 'anchor': 1013, 'ancient': 1014, 'and': 1015, 'android': 1016, 'angel': 1017, 'angle': 1018, 'angry': 1019, 'animal': 1020, 'animated': 1021, 'animations': 1022, 'animators': 1023, 'ankle': 1024, 'anniversary': 1025, 'announce': 1026, 'announcement': 1027, 'announcements': 1028, 'announcers': 1029, 'annual': 1030, 'annually': 1031, 'annum': 1032, 'another': 1033, 'answer': 1034, 'answered': 1035, 'answering': 1036, 'antenna': 1037, 'antivirus': 1038, 'any': 1039, 'anybody': 1040, 'anymore': 1041, 'anyone': 1042, 'anything': 1043, 'anytime': 1044, 'anyway': 1045, 'anywhere': 1046, 'apart': 1047, 'apartment': 1048, 'apartments': 1049, 'apologies': 1050, 'apologize': 1051, 'apology': 1052, 'app': 1053, 'apparent': 1054, 'appeal': 1055, 'appealing': 1056, 'appeals': 1057, 'appear': 1058, 'appearance': 1059, 'appeared': 1060, 'appears': 1061, 'appended': 1062, 'appetizer': 1063, 'apple': 1064, 'appliances': 1065, 'applicable': 1066, 'application': 1067, 'applications': 1068, 'applied': 1069, 'applies': 1070, 'apply': 1071, 'applying': 1072, 'appointment': 1073, 'appraisal': 1074, 'appreciate': 1075, 'appreciated': 1076, 'appreciating': 1077, 'appreciation': 1078, 'approach': 1079, 'approached': 1080, 'appropriate': 1081, 'appropriately': 1082, 'approval': 1083, 'approve': 1084, 'approved': 1085, 'approximately': 1086, 'apps': 1087, 'aprtner': 1088, 'architectural': 1089, 'architecture': 1090, 'archives': 1091, 'are': 1092, 'area': 1093, 'areas': 1094, 'aren': 1095, 'arena': 1096, 'arises': 1097, 'aromatherapy': 1098, 'around': 1099, 'arrange': 1100, 'arranged': 1101, 'arrangement': 1102, 'arrangements': 1103, 'arranger': 1104, 'arrangers': 1105, 'arranging': 1106, 'array': 1107, 'arrival': 1108, 'arrive': 1109, 'arrived': 1110, 'arriving': 1111, 'art': 1112, 'article': 1113, 'articles': 1114, 'artificial': 1115, 'artillery': 1116, 'artist': 1117, 'artists': 1118, 'arts': 1119, 'artwork': 1120, 'artworks': 1121, 'as': 1122, 'asap': 1123, 'ashamed': 1124, 'aside': 1125, 'ask': 1126, 'asked': 1127, 'asking': 1128, 'asks': 1129, 'asleep': 1130, 'asparagus': 1131, 'aspect': 1132, 'aspects': 1133, 'asphalt': 1134, 'assembly': 1135, 'assessing': 1136, 'assessment': 1137, 'asset': 1138, 'assets': 1139, 'assign': 1140, 'assigned': 1141, 'assist': 1142, 'assistance': 1143, 'assistant': 1144, 'assisting': 1145, 'assistive': 1146, 'associate': 1147, 'associated': 1148, 'associates': 1149, 'association': 1150, 'assumed': 1151, 'assuming': 1152, 'assurance': 1153, 'assure': 1154, 'assured': 1155, 'assures': 1156, 'assuring': 1157, 'at': 1158, 'ate': 1159, 'atmosphere': 1160, 'attach': 1161, 'attached': 1162, 'attack': 1163, 'attacks': 1164, 'attain': 1165, 'attains': 1166, 'attempted': 1167, 'attend': 1168, 'attendance': 1169, 'attended': 1170, 'attending': 1171, 'attention': 1172, 'attest': 1173, 'attorney': 1174, 'attract': 1175, 'attracted': 1176, 'attributes': 1177, 'attrition': 1178, 'audience': 1179, 'audiences': 1180, 'audio': 1181, 'audiovisual': 1182, 'audit': 1183, 'audited': 1184, 'auditing': 1185, 'authentic': 1186, 'author': 1187, 'authored': 1188, 'authorities': 1189, 'authority': 1190, 'authorization': 1191, 'authorized': 1192, 'authors': 1193, 'auto': 1194, 'autobiographies': 1195, 'autoclave': 1196, 'automate': 1197, 'automated': 1198, 'automatic': 1199, 'automatically': 1200, 'automation': 1201, 'automobile': 1202, 'automotive': 1203, 'autumn': 1204, 'auxiliary': 1205, 'avail': 1206, 'availability': 1207, 'available': 1208, 'availed': 1209, 'availing': 1210, 'avenue': 1211, 'average': 1212, 'avoid': 1213, 'await': 1214, 'awake': 1215, 'awarded': 1216, 'aware': 1217, 'awareness': 1218, 'away': 1219, 'awesome': 1220, 'ay': 1221, 'babies': 1222, 'baby': 1223, 'back': 1224, 'backdrops': 1225, 'backers': 1226, 'background': 1227, 'backgrounds': 1228, 'backhoe': 1229, 'backing': 1230, 'backlinks': 1231, 'backlog': 1232, 'backup': 1233, 'backward': 1234, 'backyard': 1235, 'bacteria': 1236, 'bad': 1237, 'baffling': 1238, 'baker': 1239, 'bakery': 1240, 'baking': 1241, 'balance': 1242, 'ball': 1243, 'ballpark': 1244, 'bamboo': 1245, 'ban': 1246, 'banana': 1247, 'banchan': 1248, 'band': 1249, 'bands': 1250, 'bandwidth': 1251, 'bank': 1252, 'banker': 1253, 'banking': 1254, 'bankruptcy': 1255, 'banks': 1256, 'banner': 1257, 'banners': 1258, 'banquet': 1259, 'bar': 1260, 'barbecue': 1261, 'barbeque': 1262, 'bare': 1263, 'barely': 1264, 'bargain': 1265, 'barrier': 1266, 'bars': 1267, 'base': 1268, 'based': 1269, 'basement': 1270, 'basic': 1271, 'basically': 1272, 'basics': 1273, 'basis': 1274, 'bass': 1275, 'batch': 1276, 'bath': 1277, 'bathhouses': 1278, 'bathroom': 1279, 'bathrooms': 1280, 'baths': 1281, 'bathtub': 1282, 'batteries': 1283, 'battery': 1284, 'battling': 1285, 'bay': 1286, 'be': 1287, 'beach': 1288, 'beaches': 1289, 'beachside': 1290, 'beakers': 1291, 'beam': 1292, 'bean': 1293, 'bear': 1294, 'bearer': 1295, 'bearing': 1296, 'beats': 1297, 'beautiful': 1298, 'beauty': 1299, 'became': 1300, 'because': 1301, 'become': 1302, 'becomes': 1303, 'becoming': 1304, 'bed': 1305, 'bedroom': 1306, 'bedrooms': 1307, 'beds': 1308, 'beef': 1309, 'been': 1310, 'beeps': 1311, 'beer': 1312, 'before': 1313, 'beforehand': 1314, 'beg': 1315, 'began': 1316, 'begging': 1317, 'begin': 1318, 'beginning': 1319, 'behalf': 1320, 'behavior': 1321, 'behind': 1322, 'being': 1323, 'believe': 1324, 'believes': 1325, 'belly': 1326, 'belongs': 1327, 'below': 1328, 'belts': 1329, 'benchtop': 1330, 'bending': 1331, 'beneficial': 1332, 'beneficiaries': 1333, 'benefit': 1334, 'benefits': 1335, 'bento': 1336, 'berthing': 1337, 'beside': 1338, 'besides': 1339, 'best': 1340, 'bet': 1341, 'beta': 1342, 'better': 1343, 'between': 1344, 'bevel': 1345, 'beverage': 1346, 'beverages': 1347, 'beyond': 1348, 'biannual': 1349, 'bibimbap': 1350, 'bibimnaengmyun': 1351, 'bid': 1352, 'bidding': 1353, 'big': 1354, 'bigger': 1355, 'biggest': 1356, 'bikes': 1357, 'bill': 1358, 'billboards': 1359, 'billed': 1360, 'billing': 1361, 'billion': 1362, 'bills': 1363, 'bins': 1364, 'biodata': 1365, 'biodegradable': 1366, 'biometrics': 1367, 'bird': 1368, 'birds': 1369, 'birthday': 1370, 'biryani': 1371, 'biscuits': 1372, 'bistro': 1373, 'bit': 1374, 'bitcoin': 1375, 'bite': 1376, 'black': 1377, 'blackout': 1378, 'blades': 1379, 'blanks': 1380, 'blending': 1381, 'blends': 1382, 'blessed': 1383, 'blind': 1384, 'blinking': 1385, 'bliss': 1386, 'block': 1387, 'blockchain': 1388, 'blog': 1389, 'blood': 1390, 'blow': 1391, 'blown': 1392, 'blue': 1393, 'blueprint': 1394, 'blurry': 1395, 'board': 1396, 'boarding': 1397, 'boards': 1398, 'boats': 1399, 'bodies': 1400, 'body': 1401, 'bodysuit': 1402, 'bohemian': 1403, 'boiled': 1404, 'boiling': 1405, 'bokkeum': 1406, 'bold': 1407, 'bolder': 1408, 'bond': 1409, 'bonding': 1410, 'bonds': 1411, 'book': 1412, 'booked': 1413, 'booking': 1414, 'bookings': 1415, 'bookrunners': 1416, 'books': 1417, 'bookstores': 1418, 'boom': 1419, 'boost': 1420, 'booting': 1421, 'boots': 1422, 'border': 1423, 'bore': 1424, 'bored': 1425, 'boring': 1426, 'born': 1427, 'borrow': 1428, 'borrower': 1429, 'borrowing': 1430, 'boss': 1431, 'bot': 1432, 'both': 1433, 'bothering': 1434, 'bottle': 1435, 'bottles': 1436, 'bottom': 1437, 'bought': 1438, 'bow': 1439, 'bowl': 1440, 'bowls': 1441, 'box': 1442, 'boxes': 1443, 'boy': 1444, 'bragging': 1445, 'braille': 1446, 'brainstorm': 1447, 'brake': 1448, 'branch': 1449, 'branches': 1450, 'brand': 1451, 'branded': 1452, 'branding': 1453, 'brands': 1454, 'brave': 1455, 'breach': 1456, 'breached': 1457, 'breaches': 1458, 'bread': 1459, 'break': 1460, 'breakdown': 1461, 'breakdowns': 1462, 'breakeven': 1463, 'breakfast': 1464, 'breast': 1465, 'breathing': 1466, 'breathtaking': 1467, 'breeding': 1468, 'breeze': 1469, 'brewed': 1470, 'bride': 1471, 'bridge': 1472, 'brief': 1473, 'briefing': 1474, 'brilliant': 1475, 'bring': 1476, 'bringer': 1477, 'bringing': 1478, 'brings': 1479, 'broadband': 1480, 'broadcast': 1481, 'broadcasted': 1482, 'broadcasting': 1483, 'brochure': 1484, 'brochures': 1485, 'broken': 1486, 'broker': 1487, 'brokerage': 1488, 'brokerages': 1489, 'brokers': 1490, 'bronze': 1491, 'broth': 1492, 'brother': 1493, 'brought': 1494, 'browse': 1495, 'browser': 1496, 'browsers': 1497, 'browsing': 1498, 'bubble': 1499, 'bucks': 1500, 'budget': 1501, 'buffet': 1502, 'bug': 1503, 'bugs': 1504, 'build': 1505, 'building': 1506, 'builds': 1507, 'built': 1508, 'bulgogi': 1509, 'bulk': 1510, 'bull': 1511, 'bulldozer': 1512, 'bunch': 1513, 'bundle': 1514, 'burners': 1515, 'bus': 1516, 'buses': 1517, 'business': 1518, 'businesses': 1519, 'businessman': 1520, 'businesswoman': 1521, 'busy': 1522, 'but': 1523, 'butterfly': 1524, 'button': 1525, 'buttons': 1526, 'buy': 1527, 'buyer': 1528, 'buyers': 1529, 'buying': 1530, 'by': 1531, 'bye': 1532, 'bytes': 1533, 'cabin': 1534, 'cabinets': 1535, 'cable': 1536, 'caching': 1537, 'caf': 1538, 'cafe': 1539, 'cafeteria': 1540, 'cake': 1541, 'calculate': 1542, 'calculated': 1543, 'calculations': 1544, 'calendar': 1545, 'call': 1546, 'called': 1547, 'calligraphy': 1548, 'calling': 1549, 'calls': 1550, 'calm': 1551, 'calming': 1552, 'cam': 1553, 'came': 1554, 'camera': 1555, 'cameras': 1556, 'camp': 1557, 'campaign': 1558, 'campaigns': 1559, 'camper': 1560, 'campfire': 1561, 'campground': 1562, 'camping': 1563, 'campsite': 1564, 'campsites': 1565, 'campus': 1566, 'can': 1567, 'cancel': 1568, 'cancelation': 1569, 'cancelations': 1570, 'canceled': 1571, 'canceling': 1572, 'cancellation': 1573, 'cancellations': 1574, 'cancelled': 1575, 'candies': 1576, 'candles': 1577, 'cannot': 1578, 'canteen': 1579, 'cap': 1580, 'capable': 1581, 'capacity': 1582, 'capital': 1583, 'capitalists': 1584, 'capture': 1585, 'capturing': 1586, 'car': 1587, 'carbon': 1588, 'carburetor': 1589, 'carburetors': 1590, 'card': 1591, 'cardiac': 1592, 'cards': 1593, 'care': 1594, 'career': 1595, 'careers': 1596, 'careful': 1597, 'carefully': 1598, 'cargo': 1599, 'carpeted': 1600, 'carried': 1601, 'carrier': 1602, 'carrot': 1603, 'carry': 1604, 'carrying': 1605, 'cars': 1606, 'cart': 1607, 'carton': 1608, 'cartoon': 1609, 'carts': 1610, 'case': 1611, 'cases': 1612, 'cash': 1613, 'cashier': 1614, 'cashless': 1615, 'casino': 1616, 'cast': 1617, 'casual': 1618, 'casualties': 1619, 'cat': 1620, 'catalog': 1621, 'catalogue': 1622, 'catastrophe': 1623, 'catch': 1624, 'categories': 1625, 'category': 1626, 'cater': 1627, 'caterers': 1628, 'catering': 1629, 'caterpillar': 1630, 'caught': 1631, 'cause': 1632, 'caused': 1633, 'causes': 1634, 'causing': 1635, 'cautious': 1636, 'cautiously': 1637, 'ceiling': 1638, 'ceilings': 1639, 'celebrate': 1640, 'celebration': 1641, 'celebrities': 1642, 'celebrity': 1643, 'celeriac': 1644, 'cell': 1645, 'center': 1646, 'centers': 1647, 'centimeter': 1648, 'centrifugal': 1649, 'centrifuge': 1650, 'centrifuges': 1651, 'cents': 1652, 'century': 1653, 'ceremonies': 1654, 'ceremony': 1655, 'certain': 1656, 'certainly': 1657, 'certificate': 1658, 'certificates': 1659, 'certification': 1660, 'certified': 1661, 'chain': 1662, 'chair': 1663, 'chairman': 1664, 'chairs': 1665, 'challenge': 1666, 'challenged': 1667, 'challenges': 1668, 'challenging': 1669, 'chamber': 1670, 'champagne': 1671, 'chance': 1672, 'chances': 1673, 'change': 1674, 'changed': 1675, 'changes': 1676, 'changing': 1677, 'channel': 1678, 'channels': 1679, 'chapbooks': 1680, 'characteristics': 1681, 'characters': 1682, 'charcoal': 1683, 'charge': 1684, 'charged': 1685, 'charger': 1686, 'charges': 1687, 'charging': 1688, 'charitable': 1689, 'charity': 1690, 'charm': 1691, 'chart': 1692, 'chasing': 1693, 'chat': 1694, 'chatroom': 1695, 'cheap': 1696, 'cheaper': 1697, 'cheapest': 1698, 'check': 1699, 'checked': 1700, 'checking': 1701, 'checklist': 1702, 'checkout': 1703, 'checks': 1704, 'checkup': 1705, 'cheerful': 1706, 'cheers': 1707, 'cheesecakes': 1708, 'chef': 1709, 'chefs': 1710, 'chemistry': 1711, 'cheque': 1712, 'chew': 1713, 'chicken': 1714, 'child': 1715, 'childhood': 1716, 'children': 1717, 'chili': 1718, 'chill': 1719, 'chilled': 1720, 'chimaek': 1721, 'chip': 1722, 'chips': 1723, 'chipsets': 1724, 'chitchat': 1725, 'chocolate': 1726, 'choice': 1727, 'choices': 1728, 'choose': 1729, 'choosing': 1730, 'chopstick': 1731, 'chopsticks': 1732, 'chores': 1733, 'chose': 1734, 'chosen': 1735, 'ciphertext': 1736, 'circuits': 1737, 'circulation': 1738, 'circumstance': 1739, 'circumstances': 1740, 'cities': 1741, 'citizen': 1742, 'citizens': 1743, 'citizenship': 1744, 'city': 1745, 'civil': 1746, 'claim': 1747, 'claiming': 1748, 'claims': 1749, 'clarify': 1750, 'clarifying': 1751, 'clarity': 1752, 'class': 1753, 'classes': 1754, 'classification': 1755, 'classmates': 1756, 'classroom': 1757, 'classrooms': 1758, 'clauses': 1759, 'clean': 1760, 'cleaner': 1761, 'cleaners': 1762, 'cleaning': 1763, 'cleansing': 1764, 'clear': 1765, 'clearance': 1766, 'cleared': 1767, 'clearer': 1768, 'clearly': 1769, 'clerk': 1770, 'clever': 1771, 'click': 1772, 'client': 1773, 'clientele': 1774, 'clients': 1775, 'climate': 1776, 'clinic': 1777, 'clinical': 1778, 'clip': 1779, 'clips': 1780, 'clock': 1781, 'clogged': 1782, 'close': 1783, 'closed': 1784, 'closely': 1785, 'closer': 1786, 'closes': 1787, 'closest': 1788, 'closet': 1789, 'closing': 1790, 'clothes': 1791, 'clothing': 1792, 'cloud': 1793, 'clouds': 1794, 'clubhouse': 1795, 'cluster': 1796, 'co': 1797, 'coach': 1798, 'coaches': 1799, 'coaching': 1800, 'coarrangers': 1801, 'coastal': 1802, 'cocks': 1803, 'cocktails': 1804, 'coconut': 1805, 'code': 1806, 'codebreaker': 1807, 'codes': 1808, 'coding': 1809, 'coffee': 1810, 'cogent': 1811, 'coins': 1812, 'cold': 1813, 'coliving': 1814, 'collaborate': 1815, 'collaborating': 1816, 'collaboration': 1817, 'collar': 1818, 'collateral': 1819, 'colleague': 1820, 'colleagues': 1821, 'collect': 1822, 'collectibles': 1823, 'collecting': 1824, 'collection': 1825, 'collective': 1826, 'collects': 1827, 'college': 1828, 'colleges': 1829, 'color': 1830, 'colored': 1831, 'colors': 1832, 'column': 1833, 'combination': 1834, 'combinations': 1835, 'combine': 1836, 'combustion': 1837, 'come': 1838, 'comes': 1839, 'comfort': 1840, 'comfortable': 1841, 'comfortably': 1842, 'coming': 1843, 'comm': 1844, 'commemorative': 1845, 'comment': 1846, 'comments': 1847, 'commerce': 1848, 'commercial': 1849, 'commission': 1850, 'commissioned': 1851, 'commissions': 1852, 'commit': 1853, 'commitment': 1854, 'commitments': 1855, 'committed': 1856, 'commodity': 1857, 'common': 1858, 'commonly': 1859, 'communal': 1860, 'communicate': 1861, 'communicated': 1862, 'communicating': 1863, 'communication': 1864, 'communications': 1865, 'communicative': 1866, 'communicator': 1867, 'communities': 1868, 'community': 1869, 'commuting': 1870, 'companies': 1871, 'company': 1872, 'compare': 1873, 'compared': 1874, 'comparison': 1875, 'compartments': 1876, 'compassionate': 1877, 'compatible': 1878, 'compelling': 1879, 'compensate': 1880, 'compensated': 1881, 'compensation': 1882, 'compete': 1883, 'competition': 1884, 'competitive': 1885, 'competitiveness': 1886, 'competitors': 1887, 'compiling': 1888, 'complain': 1889, 'complained': 1890, 'complaining': 1891, 'complaint': 1892, 'complaints': 1893, 'complete': 1894, 'completed': 1895, 'completely': 1896, 'completion': 1897, 'complex': 1898, 'compliance': 1899, 'complicated': 1900, 'complied': 1901, 'compliment': 1902, 'complimentary': 1903, 'compliments': 1904, 'comply': 1905, 'component': 1906, 'components': 1907, 'composed': 1908, 'composer': 1909, 'compound': 1910, 'comprehension': 1911, 'comprehensive': 1912, 'compressed': 1913, 'compression': 1914, 'compressor': 1915, 'compressors': 1916, 'compromise': 1917, 'compromising': 1918, 'computer': 1919, 'computers': 1920, 'computing': 1921, 'concentrate': 1922, 'concept': 1923, 'concepts': 1924, 'conceptual': 1925, 'concern': 1926, 'concerned': 1927, 'concerning': 1928, 'concerns': 1929, 'concert': 1930, 'concerts': 1931, 'concessions': 1932, 'conclusion': 1933, 'concrete': 1934, 'concretely': 1935, 'condenser': 1936, 'condiments': 1937, 'condition': 1938, 'conditioned': 1939, 'conditioner': 1940, 'conditioning': 1941, 'conditions': 1942, 'condo': 1943, 'conduct': 1944, 'conducted': 1945, 'conducting': 1946, 'conductors': 1947, 'conference': 1948, 'conferences': 1949, 'conferencing': 1950, 'confidence': 1951, 'confident': 1952, 'confidential': 1953, 'confidentiality': 1954, 'configurations': 1955, 'configure': 1956, 'confirm': 1957, 'confirmation': 1958, 'confirmed': 1959, 'confirming': 1960, 'confused': 1961, 'congested': 1962, 'congestion': 1963, 'congrats': 1964, 'congratulate': 1965, 'congratulations': 1966, 'connect': 1967, 'connected': 1968, 'connecting': 1969, 'connection': 1970, 'connections': 1971, 'connectivity': 1972, 'connects': 1973, 'cons': 1974, 'conscientious': 1975, 'conscious': 1976, 'consciousness': 1977, 'consequences': 1978, 'consider': 1979, 'considerable': 1980, 'consideration': 1981, 'considered': 1982, 'considering': 1983, 'consignment': 1984, 'consist': 1985, 'consistent': 1986, 'consists': 1987, 'consoles': 1988, 'consolidate': 1989, 'constant': 1990, 'constantly': 1991, 'construct': 1992, 'constructed': 1993, 'construction': 1994, 'constructive': 1995, 'consult': 1996, 'consultancy': 1997, 'consultant': 1998, 'consultants': 1999, 'consultation': 2000, 'consulted': 2001, 'consulting': 2002, 'consume': 2003, 'consumers': 2004, 'consuming': 2005, 'consumption': 2006, 'contact': 2007, 'contacted': 2008, 'contacting': 2009, 'contacts': 2010, 'contain': 2011, 'container': 2012, 'containers': 2013, 'containing': 2014, 'contains': 2015, 'contemplate': 2016, 'contemporary': 2017, 'contenders': 2018, 'content': 2019, 'contents': 2020, 'context': 2021, 'continent': 2022, 'continental': 2023, 'continue': 2024, 'continuous': 2025, 'continuously': 2026, 'contract': 2027, 'contracted': 2028, 'contracts': 2029, 'contrary': 2030, 'contribute': 2031, 'contributed': 2032, 'contributes': 2033, 'contribution': 2034, 'contributors': 2035, 'control': 2036, 'controlled': 2037, 'controversial': 2038, 'convenience': 2039, 'convenient': 2040, 'conventional': 2041, 'conversation': 2042, 'conversational': 2043, 'conversations': 2044, 'conversion': 2045, 'conversions': 2046, 'converted': 2047, 'converting': 2048, 'convey': 2049, 'conveyor': 2050, 'conveyors': 2051, 'convince': 2052, 'convincing': 2053, 'cook': 2054, 'cooked': 2055, 'cookies': 2056, 'cooking': 2057, 'cooks': 2058, 'cool': 2059, 'cooldown': 2060, 'coolers': 2061, 'cooling': 2062, 'cooperation': 2063, 'cooperative': 2064, 'cooperatives': 2065, 'coordinate': 2066, 'coordinates': 2067, 'copay': 2068, 'copiers': 2069, 'copies': 2070, 'copy': 2071, 'copyediting': 2072, 'copyright': 2073, 'copyrighted': 2074, 'copyrights': 2075, 'cords': 2076, 'core': 2077, 'corkage': 2078, 'corn': 2079, 'corner': 2080, 'coronavirus': 2081, 'corporate': 2082, 'corporation': 2083, 'corporations': 2084, 'correct': 2085, 'correctly': 2086, 'cosigner': 2087, 'cosmetic': 2088, 'cosmetics': 2089, 'cosmic': 2090, 'cost': 2091, 'costs': 2092, 'cotton': 2093, 'could': 2094, 'couldn': 2095, 'council': 2096, 'counseling': 2097, 'count': 2098, 'countdown': 2099, 'counterpart': 2100, 'counting': 2101, 'countries': 2102, 'country': 2103, 'countryside': 2104, 'couple': 2105, 'coupled': 2106, 'coupon': 2107, 'courier': 2108, 'course': 2109, 'coursed': 2110, 'courses': 2111, 'court': 2112, 'cousin': 2113, 'cover': 2114, 'coverage': 2115, 'covered': 2116, 'covers': 2117, 'cozy': 2118, 'crab': 2119, 'cracks': 2120, 'crane': 2121, 'cranes': 2122, 'crash': 2123, 'crashed': 2124, 'crashing': 2125, 'cream': 2126, 'create': 2127, 'created': 2128, 'creates': 2129, 'creating': 2130, 'creation': 2131, 'creative': 2132, 'creatives': 2133, 'creator': 2134, 'creators': 2135, 'credentials': 2136, 'credit': 2137, 'credited': 2138, 'creditor': 2139, 'creditors': 2140, 'credits': 2141, 'creditworthy': 2142, 'crib': 2143, 'crime': 2144, 'crimes': 2145, 'criminals': 2146, 'criteria': 2147, 'critical': 2148, 'critics': 2149, 'croissants': 2150, 'crooks': 2151, 'crop': 2152, 'crops': 2153, 'cross': 2154, 'crossed': 2155, 'crowd': 2156, 'crowdfunding': 2157, 'crucial': 2158, 'crude': 2159, 'crux': 2160, 'crypto': 2161, 'cryptocurrencies': 2162, 'cryptocurrency': 2163, 'cryptography': 2164, 'cues': 2165, 'cuisine': 2166, 'culinary': 2167, 'culprits': 2168, 'cultivating': 2169, 'cultural': 2170, 'culture': 2171, 'cumbersome': 2172, 'cup': 2173, 'curious': 2174, 'currencies': 2175, 'currency': 2176, 'current': 2177, 'currently': 2178, 'cursive': 2179, 'curtains': 2180, 'curve': 2181, 'cushion': 2182, 'custom': 2183, 'customer': 2184, 'customers': 2185, 'customizable': 2186, 'customization': 2187, 'customize': 2188, 'customized': 2189, 'customs': 2190, 'cut': 2191, 'cutlery': 2192, 'cuts': 2193, 'cutter': 2194, 'cutters': 2195, 'cutting': 2196, 'cyber': 2197, 'cybercrime': 2198, 'cybersecurity': 2199, 'cycle': 2200, 'cylinder': 2201, 'cylinders': 2202, 'd': 2203, 'daily': 2204, 'dairy': 2205, 'damage': 2206, 'damaged': 2207, 'damages': 2208, 'dancing': 2209, 'dangerous': 2210, 'dangers': 2211, 'dark': 2212, 'data': 2213, 'database': 2214, 'date': 2215, 'dated': 2216, 'dates': 2217, 'dating': 2218, 'daunting': 2219, 'day': 2220, 'days': 2221, 'deadline': 2222, 'deadlines': 2223, 'deaf': 2224, 'deal': 2225, 'dealer': 2226, 'dealers': 2227, 'dealership': 2228, 'dealing': 2229, 'deals': 2230, 'debit': 2231, 'debt': 2232, 'debtee': 2233, 'debtor': 2234, 'debtors': 2235, 'debts': 2236, 'debut': 2237, 'decade': 2238, 'decades': 2239, 'decent': 2240, 'decide': 2241, 'decided': 2242, 'decides': 2243, 'deciding': 2244, 'decision': 2245, 'decisions': 2246, 'deck': 2247, 'decks': 2248, 'declare': 2249, 'decline': 2250, 'declined': 2251, 'declining': 2252, 'decode': 2253, 'decorate': 2254, 'decorations': 2255, 'decrease': 2256, 'decryption': 2257, 'dedicate': 2258, 'dedicated': 2259, 'deduct': 2260, 'deducted': 2261, 'deducting': 2262, 'deeds': 2263, 'deep': 2264, 'deeply': 2265, 'default': 2266, 'defaulter': 2267, 'defect': 2268, 'defective': 2269, 'defects': 2270, 'defense': 2271, 'deficit': 2272, 'deficits': 2273, 'defined': 2274, 'definite': 2275, 'definitely': 2276, 'definition': 2277, 'degree': 2278, 'dehydration': 2279, 'delay': 2280, 'delayed': 2281, 'delays': 2282, 'delegates': 2283, 'delete': 2284, 'deleted': 2285, 'delicious': 2286, 'delight': 2287, 'delighted': 2288, 'delightful': 2289, 'delineates': 2290, 'deliver': 2291, 'delivered': 2292, 'deliveries': 2293, 'delivering': 2294, 'delivers': 2295, 'delivery': 2296, 'deluxe': 2297, 'demand': 2298, 'demanded': 2299, 'demanding': 2300, 'demands': 2301, 'demat': 2302, 'demerits': 2303, 'demographics': 2304, 'demonstration': 2305, 'demos': 2306, 'dental': 2307, 'deny': 2308, 'department': 2309, 'departments': 2310, 'depend': 2311, 'dependable': 2312, 'dependents': 2313, 'depending': 2314, 'depends': 2315, 'deploy': 2316, 'deployment': 2317, 'deposit': 2318, 'deposited': 2319, 'depositing': 2320, 'deposits': 2321, 'derrick': 2322, 'describe': 2323, 'description': 2324, 'descriptions': 2325, 'deserve': 2326, 'design': 2327, 'designation': 2328, 'designed': 2329, 'designer': 2330, 'designers': 2331, 'designs': 2332, 'desire': 2333, 'desired': 2334, 'desk': 2335, 'desktop': 2336, 'desperately': 2337, 'despite': 2338, 'dessert': 2339, 'desserts': 2340, 'destination': 2341, 'destinations': 2342, 'destroys': 2343, 'detail': 2344, 'detailed': 2345, 'detailing': 2346, 'details': 2347, 'detected': 2348, 'detects': 2349, 'determine': 2350, 'determined': 2351, 'determines': 2352, 'determining': 2353, 'develop': 2354, 'developed': 2355, 'developer': 2356, 'developers': 2357, 'developing': 2358, 'development': 2359, 'developments': 2360, 'develops': 2361, 'deviate': 2362, 'device': 2363, 'devices': 2364, 'devoted': 2365, 'devoting': 2366, 'diagnosis': 2367, 'diagnostics': 2368, 'dial': 2369, 'dialed': 2370, 'diameter': 2371, 'did': 2372, 'didn': 2373, 'diesel': 2374, 'diet': 2375, 'dietary': 2376, 'differ': 2377, 'difference': 2378, 'differences': 2379, 'different': 2380, 'differentiates': 2381, 'differently': 2382, 'difficult': 2383, 'difficulties': 2384, 'difficulty': 2385, 'digital': 2386, 'digitalize': 2387, 'digits': 2388, 'diligence': 2389, 'diligently': 2390, 'dimension': 2391, 'dimensions': 2392, 'dine': 2393, 'dining': 2394, 'dinner': 2395, 'dinning': 2396, 'dip': 2397, 'diplomas': 2398, 'dipped': 2399, 'direct': 2400, 'directed': 2401, 'direction': 2402, 'directly': 2403, 'director': 2404, 'directors': 2405, 'disabilities': 2406, 'disabled': 2407, 'disagree': 2408, 'disappointed': 2409, 'disappointment': 2410, 'disaster': 2411, 'disasters': 2412, 'disc': 2413, 'discount': 2414, 'discounted': 2415, 'discounts': 2416, 'discover': 2417, 'discovered': 2418, 'discovery': 2419, 'discrepancies': 2420, 'discuss': 2421, 'discussed': 2422, 'discussing': 2423, 'discussion': 2424, 'discussions': 2425, 'disease': 2426, 'diseases': 2427, 'dish': 2428, 'dishe': 2429, 'dishes': 2430, 'dismantle': 2431, 'dispatch': 2432, 'dispatched': 2433, 'dispatching': 2434, 'dispersing': 2435, 'display': 2436, 'displayed': 2437, 'displaying': 2438, 'disposal': 2439, 'disputes': 2440, 'disruption': 2441, 'distance': 2442, 'distinct': 2443, 'distinction': 2444, 'distinguish': 2445, 'distract': 2446, 'distress': 2447, 'distribute': 2448, 'distributed': 2449, 'distributing': 2450, 'distribution': 2451, 'distributor': 2452, 'distributorship': 2453, 'district': 2454, 'disturb': 2455, 'disturbed': 2456, 'disturbing': 2457, 'diverse': 2458, 'diversify': 2459, 'diversity': 2460, 'diverting': 2461, 'divide': 2462, 'divided': 2463, 'dividend': 2464, 'division': 2465, 'do': 2466, 'doable': 2467, 'doctor': 2468, 'doctors': 2469, 'document': 2470, 'documentaries': 2471, 'documentary': 2472, 'documentation': 2473, 'documenting': 2474, 'documents': 2475, 'does': 2476, 'doesn': 2477, 'dog': 2478, 'dogs': 2479, 'doing': 2480, 'doings': 2481, 'doljanchi': 2482, 'dollar': 2483, 'dollars': 2484, 'domain': 2485, 'dome': 2486, 'domestic': 2487, 'don': 2488, 'donate': 2489, 'donation': 2490, 'donations': 2491, 'done': 2492, 'donut': 2493, 'door': 2494, 'doors': 2495, 'dorm': 2496, 'dormitory': 2497, 'dosirak': 2498, 'double': 2499, 'doubled': 2500, 'doubt': 2501, 'doubts': 2502, 'down': 2503, 'downhill': 2504, 'download': 2505, 'downloaded': 2506, 'downpayment': 2507, 'downs': 2508, 'downside': 2509, 'downtown': 2510, 'downturn': 2511, 'dozers': 2512, 'draft': 2513, 'drafted': 2514, 'drafting': 2515, 'drafts': 2516, 'drain': 2517, 'dramas': 2518, 'dramatically': 2519, 'draw': 2520, 'drawer': 2521, 'drawing': 2522, 'drawings': 2523, 'draws': 2524, 'dress': 2525, 'dressers': 2526, 'dressing': 2527, 'drilling': 2528, 'drink': 2529, 'drinking': 2530, 'drinks': 2531, 'drive': 2532, 'driven': 2533, 'driver': 2534, 'drivers': 2535, 'driving': 2536, 'drop': 2537, 'dropped': 2538, 'dropping': 2539, 'drops': 2540, 'drug': 2541, 'drum': 2542, 'dry': 2543, 'dryer': 2544, 'dual': 2545, 'dude': 2546, 'due': 2547, 'duly': 2548, 'dump': 2549, 'dumpling': 2550, 'duplicate': 2551, 'durable': 2552, 'duration': 2553, 'during': 2554, 'dust': 2555, 'duties': 2556, 'duty': 2557, 'dyeing': 2558, 'dying': 2559, 'e': 2560, 'each': 2561, 'eager': 2562, 'eagerly': 2563, 'earlier': 2564, 'earliest': 2565, 'early': 2566, 'earn': 2567, 'earnings': 2568, 'ears': 2569, 'earth': 2570, 'ease': 2571, 'eased': 2572, 'easier': 2573, 'easiest': 2574, 'easily': 2575, 'easing': 2576, 'easy': 2577, 'eat': 2578, 'eaten': 2579, 'eating': 2580, 'echo': 2581, 'eclectic': 2582, 'eco': 2583, 'economy': 2584, 'ecstatic': 2585, 'edge': 2586, 'edit': 2587, 'edited': 2588, 'editing': 2589, 'edition': 2590, 'editorial': 2591, 'editors': 2592, 'educate': 2593, 'educated': 2594, 'educating': 2595, 'education': 2596, 'educational': 2597, 'edutainment': 2598, 'effect': 2599, 'effective': 2600, 'effectively': 2601, 'effectiveness': 2602, 'effects': 2603, 'efficiency': 2604, 'efficient': 2605, 'efficiently': 2606, 'effort': 2607, 'efforts': 2608, 'egg': 2609, 'eggs': 2610, 'eight': 2611, 'either': 2612, 'ejection': 2613, 'elaborate': 2614, 'elder': 2615, 'elders': 2616, 'eldest': 2617, 'electric': 2618, 'electrical': 2619, 'electricity': 2620, 'electro': 2621, 'electroencephalography': 2622, 'electromagnetic': 2623, 'electronic': 2624, 'electronically': 2625, 'electronics': 2626, 'elegant': 2627, 'element': 2628, 'elements': 2629, 'elevated': 2630, 'eligibility': 2631, 'eligible': 2632, 'eliminate': 2633, 'elliptical': 2634, 'else': 2635, 'elsewhere': 2636, 'email': 2637, 'emailed': 2638, 'emailing': 2639, 'emails': 2640, 'embarrassed': 2641, 'embody': 2642, 'embossing': 2643, 'embroidery': 2644, 'emergencies': 2645, 'emergency': 2646, 'emerging': 2647, 'emotions': 2648, 'emphasis': 2649, 'employ': 2650, 'employed': 2651, 'employee': 2652, 'employees': 2653, 'employers': 2654, 'employing': 2655, 'empty': 2656, 'emulsion': 2657, 'enable': 2658, 'enabled': 2659, 'enables': 2660, 'encapsulation': 2661, 'encoded': 2662, 'encounter': 2663, 'encountered': 2664, 'encourage': 2665, 'encourages': 2666, 'encrypt': 2667, 'encrypted': 2668, 'encryption': 2669, 'end': 2670, 'endangering': 2671, 'ended': 2672, 'ending': 2673, 'ends': 2674, 'energy': 2675, 'enforce': 2676, 'enforced': 2677, 'enforcements': 2678, 'engage': 2679, 'engaged': 2680, 'engagements': 2681, 'engaging': 2682, 'engine': 2683, 'engineer': 2684, 'engineering': 2685, 'engineers': 2686, 'engines': 2687, 'enhance': 2688, 'enhanced': 2689, 'enhancement': 2690, 'enhances': 2691, 'enjoy': 2692, 'enjoyed': 2693, 'enjoying': 2694, 'enlighten': 2695, 'enlist': 2696, 'enormously': 2697, 'enough': 2698, 'enquire': 2699, 'enroll': 2700, 'enrolled': 2701, 'ensure': 2702, 'ensured': 2703, 'ensures': 2704, 'entail': 2705, 'enter': 2706, 'entered': 2707, 'entering': 2708, 'enterprise': 2709, 'enterprises': 2710, 'enters': 2711, 'entertain': 2712, 'entertained': 2713, 'entertaining': 2714, 'entertainment': 2715, 'entire': 2716, 'entirely': 2717, 'entitled': 2718, 'entity': 2719, 'entrance': 2720, 'entree': 2721, 'entrees': 2722, 'entrepreneur': 2723, 'entrepreneurship': 2724, 'entries': 2725, 'environment': 2726, 'environmental': 2727, 'environments': 2728, 'episode': 2729, 'episodes': 2730, 'equal': 2731, 'equals': 2732, 'equipment': 2733, 'equipments': 2734, 'equipped': 2735, 'equity': 2736, 'equivalent': 2737, 'erased': 2738, 'erecting': 2739, 'error': 2740, 'errors': 2741, 'escalated': 2742, 'escaping': 2743, 'especially': 2744, 'essential': 2745, 'essentially': 2746, 'establish': 2747, 'established': 2748, 'establishing': 2749, 'establishment': 2750, 'establishments': 2751, 'estate': 2752, 'estimate': 2753, 'estimated': 2754, 'estimates': 2755, 'etc': 2756, 'ethical': 2757, 'etiquette': 2758, 'evacuation': 2759, 'evading': 2760, 'evaluate': 2761, 'evaluated': 2762, 'evaluating': 2763, 'evaluation': 2764, 'evaporator': 2765, 'evasion': 2766, 'even': 2767, 'evening': 2768, 'event': 2769, 'events': 2770, 'eventuality': 2771, 'eventually': 2772, 'ever': 2773, 'every': 2774, 'everyday': 2775, 'everyone': 2776, 'everything': 2777, 'evidence': 2778, 'evidentiary': 2779, 'evil': 2780, 'evolution': 2781, 'evolved': 2782, 'evolving': 2783, 'exact': 2784, 'exactly': 2785, 'exam': 2786, 'examined': 2787, 'example': 2788, 'examples': 2789, 'exams': 2790, 'excavator': 2791, 'excavators': 2792, 'exceeded': 2793, 'exceeds': 2794, 'excellent': 2795, 'except': 2796, 'exceptional': 2797, 'excess': 2798, 'exchange': 2799, 'exchanges': 2800, 'exchanging': 2801, 'excited': 2802, 'exciting': 2803, 'exclude': 2804, 'excluding': 2805, 'exclusive': 2806, 'exclusively': 2807, 'excuse': 2808, 'excused': 2809, 'excuses': 2810, 'execute': 2811, 'executes': 2812, 'execution': 2813, 'executive': 2814, 'executives': 2815, 'executor': 2816, 'exerting': 2817, 'exhausted': 2818, 'exhibit': 2819, 'exhibition': 2820, 'exihibit': 2821, 'exist': 2822, 'existing': 2823, 'exit': 2824, 'exotic': 2825, 'expand': 2826, 'expandable': 2827, 'expanded': 2828, 'expanding': 2829, 'expansion': 2830, 'expat': 2831, 'expect': 2832, 'expectations': 2833, 'expected': 2834, 'expecting': 2835, 'expedition': 2836, 'expenditure': 2837, 'expenditures': 2838, 'expense': 2839, 'expenses': 2840, 'expensive': 2841, 'experience': 2842, 'experienced': 2843, 'experiences': 2844, 'experiencing': 2845, 'experimental': 2846, 'expert': 2847, 'expertise': 2848, 'experts': 2849, 'expire': 2850, 'expires': 2851, 'explain': 2852, 'explained': 2853, 'explaining': 2854, 'explains': 2855, 'explanation': 2856, 'explanations': 2857, 'exploration': 2858, 'explore': 2859, 'expo': 2860, 'export': 2861, 'exported': 2862, 'exporter': 2863, 'exporting': 2864, 'exports': 2865, 'exposes': 2866, 'exposure': 2867, 'express': 2868, 'expressions': 2869, 'exquisite': 2870, 'extend': 2871, 'extended': 2872, 'extender': 2873, 'extenders': 2874, 'extending': 2875, 'extends': 2876, 'extension': 2877, 'extensive': 2878, 'exterior': 2879, 'external': 2880, 'externally': 2881, 'extra': 2882, 'extract': 2883, 'extraction': 2884, 'extracts': 2885, 'extremely': 2886, 'extruder': 2887, 'extruders': 2888, 'eye': 2889, 'eyes': 2890, 'fabric': 2891, 'fabrication': 2892, 'face': 2893, 'faced': 2894, 'faces': 2895, 'facial': 2896, 'facilitate': 2897, 'facilities': 2898, 'facility': 2899, 'facing': 2900, 'fact': 2901, 'factor': 2902, 'factors': 2903, 'factory': 2904, 'factual': 2905, 'factually': 2906, 'faculty': 2907, 'fail': 2908, 'failed': 2909, 'fails': 2910, 'failure': 2911, 'fair': 2912, 'fairly': 2913, 'fall': 2914, 'fallen': 2915, 'falling': 2916, 'fallout': 2917, 'falls': 2918, 'familiar': 2919, 'families': 2920, 'family': 2921, 'famous': 2922, 'fan': 2923, 'fanbase': 2924, 'fancy': 2925, 'fans': 2926, 'fantastic': 2927, 'far': 2928, 'fare': 2929, 'farm': 2930, 'farmers': 2931, 'farthest': 2932, 'fascinating': 2933, 'fashion': 2934, 'fast': 2935, 'fasteners': 2936, 'faster': 2937, 'fastest': 2938, 'fat': 2939, 'father': 2940, 'fault': 2941, 'faulty': 2942, 'favor': 2943, 'favorable': 2944, 'favorite': 2945, 'favorites': 2946, 'favoritism': 2947, 'fax': 2948, 'fear': 2949, 'feasibility': 2950, 'feasible': 2951, 'feature': 2952, 'featured': 2953, 'features': 2954, 'featuring': 2955, 'fee': 2956, 'feeble': 2957, 'feedback': 2958, 'feel': 2959, 'feeling': 2960, 'feelings': 2961, 'feels': 2962, 'fees': 2963, 'feet': 2964, 'fellow': 2965, 'female': 2966, 'fertilizing': 2967, 'fetch': 2968, 'few': 2969, 'fiat': 2970, 'fiber': 2971, 'fibers': 2972, 'fibrous': 2973, 'fiction': 2974, 'field': 2975, 'fields': 2976, 'figurative': 2977, 'figures': 2978, 'file': 2979, 'filed': 2980, 'files': 2981, 'filing': 2982, 'fill': 2983, 'filled': 2984, 'filling': 2985, 'fills': 2986, 'film': 2987, 'films': 2988, 'filter': 2989, 'filtered': 2990, 'filters': 2991, 'filtration': 2992, 'final': 2993, 'finalize': 2994, 'finalized': 2995, 'finalizing': 2996, 'finally': 2997, 'finance': 2998, 'financed': 2999, 'financer': 3000, 'finances': 3001, 'financial': 3002, 'financially': 3003, 'financiers': 3004, 'financing': 3005, 'find': 3006, 'finding': 3007, 'finds': 3008, 'fine': 3009, 'finer': 3010, 'finest': 3011, 'fingerprint': 3012, 'finish': 3013, 'finished': 3014, 'fire': 3015, 'fired': 3016, 'fireplace': 3017, 'firewall': 3018, 'firewalls': 3019, 'firm': 3020, 'firms': 3021, 'first': 3022, 'fish': 3023, 'fit': 3024, 'fitness': 3025, 'fits': 3026, 'five': 3027, 'fiver': 3028, 'fix': 3029, 'fixed': 3030, 'flag': 3031, 'flame': 3032, 'flanged': 3033, 'flare': 3034, 'flash': 3035, 'flat': 3036, 'flatmates': 3037, 'flatten': 3038, 'flavor': 3039, 'flavored': 3040, 'flavorful': 3041, 'flavors': 3042, 'flew': 3043, 'flexibility': 3044, 'flexible': 3045, 'flight': 3046, 'flights': 3047, 'flip': 3048, 'float': 3049, 'floating': 3050, 'floor': 3051, 'floors': 3052, 'flour': 3053, 'flowchart': 3054, 'flows': 3055, 'fluctuate': 3056, 'fluctuations': 3057, 'fly': 3058, 'flying': 3059, 'flywheel': 3060, 'fo': 3061, 'foam': 3062, 'focus': 3063, 'focused': 3064, 'focuses': 3065, 'focusing': 3066, 'fold': 3067, 'folder': 3068, 'folders': 3069, 'follow': 3070, 'followed': 3071, 'followers': 3072, 'following': 3073, 'follows': 3074, 'font': 3075, 'fonts': 3076, 'food': 3077, 'foods': 3078, 'fooled': 3079, 'foot': 3080, 'footage': 3081, 'footprint': 3082, 'footsteps': 3083, 'for': 3084, 'forbidden': 3085, 'forced': 3086, 'forecast': 3087, 'forecasted': 3088, 'foreign': 3089, 'foreigner': 3090, 'foreigners': 3091, 'forever': 3092, 'forget': 3093, 'forgot': 3094, 'forklift': 3095, 'forklifts': 3096, 'form': 3097, 'formal': 3098, 'formalities': 3099, 'format': 3100, 'former': 3101, 'forms': 3102, 'formula': 3103, 'forths': 3104, 'fortunate': 3105, 'forward': 3106, 'forwarded': 3107, 'forwarder': 3108, 'found': 3109, 'foundation': 3110, 'founders': 3111, 'four': 3112, 'frame': 3113, 'frames': 3114, 'framework': 3115, 'franchise': 3116, 'fraud': 3117, 'fraudulent': 3118, 'free': 3119, 'freebie': 3120, 'freelancer': 3121, 'freight': 3122, 'frequency': 3123, 'frequent': 3124, 'frequently': 3125, 'fresh': 3126, 'freshwater': 3127, 'fried': 3128, 'friend': 3129, 'friendly': 3130, 'friends': 3131, 'from': 3132, 'front': 3133, 'frugal': 3134, 'fruit': 3135, 'fruitful': 3136, 'fruity': 3137, 'frustrating': 3138, 'fuel': 3139, 'fulfill': 3140, 'fulfilled': 3141, 'fulfilling': 3142, 'full': 3143, 'fully': 3144, 'fun': 3145, 'function': 3146, 'functional': 3147, 'functioning': 3148, 'functions': 3149, 'fund': 3150, 'fundamental': 3151, 'fundamentals': 3152, 'funded': 3153, 'funding': 3154, 'fundraisers': 3155, 'fundraising': 3156, 'funds': 3157, 'fungible': 3158, 'funny': 3159, 'furnish': 3160, 'furnished': 3161, 'furnishings': 3162, 'furniture': 3163, 'further': 3164, 'fusion': 3165, 'fuss': 3166, 'future': 3167, 'futures': 3168, 'futuristic': 3169, 'g': 3170, 'gadgets': 3171, 'gain': 3172, 'gained': 3173, 'gaining': 3174, 'gains': 3175, 'galbi': 3176, 'game': 3177, 'games': 3178, 'gaming': 3179, 'gap': 3180, 'gaps': 3181, 'garage': 3182, 'garden': 3183, 'gardening': 3184, 'gardens': 3185, 'garlic': 3186, 'garments': 3187, 'garnering': 3188, 'gas': 3189, 'gasoline': 3190, 'gate': 3191, 'gates': 3192, 'gather': 3193, 'gathered': 3194, 'gathering': 3195, 'gathers': 3196, 'gauge': 3197, 'gave': 3198, 'gazebo': 3199, 'gear': 3200, 'geared': 3201, 'gears': 3202, 'general': 3203, 'generally': 3204, 'generate': 3205, 'generated': 3206, 'generating': 3207, 'generation': 3208, 'generations': 3209, 'generic': 3210, 'generous': 3211, 'genre': 3212, 'genres': 3213, 'gentle': 3214, 'gentlemen': 3215, 'genuinely': 3216, 'geographic': 3217, 'geography': 3218, 'gesture': 3219, 'get': 3220, 'gets': 3221, 'getting': 3222, 'gift': 3223, 'gifts': 3224, 'gigabyte': 3225, 'gigabytes': 3226, 'gimbap': 3227, 'ginger': 3228, 'ginseng': 3229, 'girl': 3230, 'girls': 3231, 'give': 3232, 'giveaways': 3233, 'given': 3234, 'gives': 3235, 'giving': 3236, 'glad': 3237, 'gladly': 3238, 'glance': 3239, 'glass': 3240, 'glasses': 3241, 'glitch': 3242, 'global': 3243, 'globally': 3244, 'globe': 3245, 'glossy': 3246, 'gloves': 3247, 'gluten': 3248, 'go': 3249, 'goal': 3250, 'goals': 3251, 'goes': 3252, 'going': 3253, 'gold': 3254, 'golf': 3255, 'gone': 3256, 'gonna': 3257, 'good': 3258, 'goodbye': 3259, 'goods': 3260, 'goodwill': 3261, 'gorgeous': 3262, 'got': 3263, 'gotten': 3264, 'governance': 3265, 'government': 3266, 'grab': 3267, 'grace': 3268, 'grade': 3269, 'gradual': 3270, 'gradually': 3271, 'graduates': 3272, 'grain': 3273, 'grains': 3274, 'grammable': 3275, 'grand': 3276, 'grandkids': 3277, 'grandmother': 3278, 'grant': 3279, 'granted': 3280, 'granting': 3281, 'graph': 3282, 'graphic': 3283, 'graphics': 3284, 'grass': 3285, 'grateful': 3286, 'gravity': 3287, 'gravlax': 3288, 'great': 3289, 'greater': 3290, 'greatly': 3291, 'green': 3292, 'greens': 3293, 'greet': 3294, 'greeting': 3295, 'greetings': 3296, 'grew': 3297, 'grid': 3298, 'grill': 3299, 'grilled': 3300, 'grills': 3301, 'grinder': 3302, 'gripping': 3303, 'groom': 3304, 'ground': 3305, 'groundbreaking': 3306, 'grounds': 3307, 'group': 3308, 'groups': 3309, 'grow': 3310, 'growing': 3311, 'growth': 3312, 'guarantee': 3313, 'guaranteed': 3314, 'guarantor': 3315, 'guess': 3316, 'guest': 3317, 'guesthouses': 3318, 'guests': 3319, 'guidance': 3320, 'guide': 3321, 'guided': 3322, 'guides': 3323, 'guilty': 3324, 'guitar': 3325, 'gun': 3326, 'gunfire': 3327, 'gut': 3328, 'guy': 3329, 'guys': 3330, 'gym': 3331, 'gyms': 3332, 'hack': 3333, 'hacked': 3334, 'hacking': 3335, 'had': 3336, 'hairdryer': 3337, 'half': 3338, 'hall': 3339, 'halls': 3340, 'halting': 3341, 'hand': 3342, 'handed': 3343, 'handheld': 3344, 'handiwork': 3345, 'handle': 3346, 'handled': 3347, 'handles': 3348, 'handling': 3349, 'handouts': 3350, 'handpicked': 3351, 'hands': 3352, 'handshake': 3353, 'hanging': 3354, 'hanji': 3355, 'hanok': 3356, 'happen': 3357, 'happened': 3358, 'happening': 3359, 'happens': 3360, 'happily': 3361, 'happy': 3362, 'hard': 3363, 'harder': 3364, 'hardware': 3365, 'hardworking': 3366, 'harmful': 3367, 'harmony': 3368, 'harshest': 3369, 'harvesting': 3370, 'has': 3371, 'hasn': 3372, 'hassle': 3373, 'hat': 3374, 'hate': 3375, 'have': 3376, 'haven': 3377, 'having': 3378, 'he': 3379, 'head': 3380, 'headhunters': 3381, 'heading': 3382, 'headquarters': 3383, 'heads': 3384, 'health': 3385, 'healthy': 3386, 'hear': 3387, 'heard': 3388, 'hearing': 3389, 'hearsay': 3390, 'heart': 3391, 'heartily': 3392, 'heat': 3393, 'heated': 3394, 'heater': 3395, 'heating': 3396, 'heavier': 3397, 'heavily': 3398, 'heavy': 3399, 'hedge': 3400, 'height': 3401, 'held': 3402, 'hello': 3403, 'help': 3404, 'helped': 3405, 'helpful': 3406, 'helping': 3407, 'helps': 3408, 'hence': 3409, 'her': 3410, 'herbal': 3411, 'here': 3412, 'hereditary': 3413, 'heritage': 3414, 'hesitate': 3415, 'hidden': 3416, 'high': 3417, 'higher': 3418, 'highest': 3419, 'highlighted': 3420, 'highlights': 3421, 'highly': 3422, 'hijacking': 3423, 'hiking': 3424, 'hill': 3425, 'him': 3426, 'hint': 3427, 'hire': 3428, 'hired': 3429, 'hiring': 3430, 'his': 3431, 'historical': 3432, 'historically': 3433, 'hit': 3434, 'hitch': 3435, 'hits': 3436, 'hoarding': 3437, 'hobby': 3438, 'hoc': 3439, 'hold': 3440, 'holder': 3441, 'holding': 3442, 'holds': 3443, 'holidays': 3444, 'home': 3445, 'homemade': 3446, 'homes': 3447, 'homestays': 3448, 'honed': 3449, 'honest': 3450, 'honestly': 3451, 'honey': 3452, 'honored': 3453, 'hope': 3454, 'hoped': 3455, 'hopefully': 3456, 'hoping': 3457, 'horizontal': 3458, 'horrible': 3459, 'horsepower': 3460, 'horsepowers': 3461, 'hospital': 3462, 'hospitalization': 3463, 'hospitals': 3464, 'host': 3465, 'hosting': 3466, 'hosts': 3467, 'hot': 3468, 'hotel': 3469, 'hotels': 3470, 'hotspot': 3471, 'hour': 3472, 'hourly': 3473, 'hours': 3474, 'house': 3475, 'household': 3476, 'households': 3477, 'houses': 3478, 'housing': 3479, 'housings': 3480, 'how': 3481, 'however': 3482, 'hub': 3483, 'huddle': 3484, 'hues': 3485, 'huge': 3486, 'hull': 3487, 'human': 3488, 'humble': 3489, 'humor': 3490, 'hundred': 3491, 'hungry': 3492, 'hunt': 3493, 'hurry': 3494, 'hurt': 3495, 'husband': 3496, 'hustle': 3497, 'hwajeon': 3498, 'hydraulic': 3499, 'hydraulics': 3500, 'hydrojet': 3501, 'hype': 3502, 'ibul': 3503, 'ice': 3504, 'icons': 3505, 'idea': 3506, 'ideal': 3507, 'ideas': 3508, 'identical': 3509, 'identification': 3510, 'identified': 3511, 'identify': 3512, 'identities': 3513, 'identity': 3514, 'idols': 3515, 'if': 3516, 'ignition': 3517, 'ignorance': 3518, 'ignore': 3519, 'ignored': 3520, 'illness': 3521, 'illnesses': 3522, 'illustration': 3523, 'illustrations': 3524, 'image': 3525, 'images': 3526, 'imaginative': 3527, 'imagine': 3528, 'imaging': 3529, 'immediate': 3530, 'immediately': 3531, 'immensely': 3532, 'immigrant': 3533, 'immunity': 3534, 'immutable': 3535, 'impact': 3536, 'impart': 3537, 'impeller': 3538, 'impending': 3539, 'implantation': 3540, 'implement': 3541, 'implementation': 3542, 'implementing': 3543, 'implements': 3544, 'implied': 3545, 'implies': 3546, 'import': 3547, 'importance': 3548, 'important': 3549, 'importantly': 3550, 'imported': 3551, 'imports': 3552, 'imposed': 3553, 'imposes': 3554, 'impossible': 3555, 'impress': 3556, 'impressed': 3557, 'impression': 3558, 'impressions': 3559, 'impressive': 3560, 'improve': 3561, 'improved': 3562, 'improvement': 3563, 'improvements': 3564, 'improving': 3565, 'in': 3566, 'inbox': 3567, 'incentives': 3568, 'inch': 3569, 'incident': 3570, 'include': 3571, 'included': 3572, 'includes': 3573, 'including': 3574, 'inclusion': 3575, 'inclusions': 3576, 'inclusive': 3577, 'income': 3578, 'incompatible': 3579, 'incomplete': 3580, 'inconvenience': 3581, 'inconvenient': 3582, 'incorporate': 3583, 'incorporating': 3584, 'incorporation': 3585, 'incorrect': 3586, 'increase': 3587, 'increased': 3588, 'increasing': 3589, 'incredible': 3590, 'incredibly': 3591, 'incubator': 3592, 'incubators': 3593, 'incur': 3594, 'incurred': 3595, 'incurring': 3596, 'indeed': 3597, 'independently': 3598, 'index': 3599, 'indexation': 3600, 'indicate': 3601, 'indicated': 3602, 'indicating': 3603, 'indicator': 3604, 'indicators': 3605, 'indices': 3606, 'individual': 3607, 'individually': 3608, 'individuals': 3609, 'indoor': 3610, 'indoors': 3611, 'indulge': 3612, 'industrial': 3613, 'industries': 3614, 'industry': 3615, 'inevitable': 3616, 'infections': 3617, 'infectious': 3618, 'inferior': 3619, 'inflation': 3620, 'influence': 3621, 'influenced': 3622, 'influencer': 3623, 'influencers': 3624, 'info': 3625, 'infographic': 3626, 'infographics': 3627, 'inform': 3628, 'informal': 3629, 'information': 3630, 'informed': 3631, 'informing': 3632, 'infrastructure': 3633, 'infringed': 3634, 'infringement': 3635, 'ingredients': 3636, 'inheritance': 3637, 'initial': 3638, 'initially': 3639, 'initiate': 3640, 'initiative': 3641, 'injection': 3642, 'injunction': 3643, 'injury': 3644, 'inner': 3645, 'innovation': 3646, 'innovations': 3647, 'innovative': 3648, 'input': 3649, 'inputs': 3650, 'inquire': 3651, 'inquired': 3652, 'inquiries': 3653, 'inquiring': 3654, 'inquiry': 3655, 'ins': 3656, 'inside': 3657, 'insight': 3658, 'insist': 3659, 'inspect': 3660, 'inspected': 3661, 'inspecting': 3662, 'inspection': 3663, 'inspections': 3664, 'inspire': 3665, 'inspired': 3666, 'install': 3667, 'installation': 3668, 'installed': 3669, 'installing': 3670, 'installment': 3671, 'installments': 3672, 'instance': 3673, 'instant': 3674, 'instead': 3675, 'institute': 3676, 'institution': 3677, 'instruction': 3678, 'instructions': 3679, 'instrument': 3680, 'instruments': 3681, 'insulation': 3682, 'insult': 3683, 'insurance': 3684, 'insurances': 3685, 'insure': 3686, 'insured': 3687, 'insuring': 3688, 'insurmountable': 3689, 'integrated': 3690, 'integration': 3691, 'integrations': 3692, 'intellectual': 3693, 'intelligence': 3694, 'intelligent': 3695, 'intend': 3696, 'intended': 3697, 'intends': 3698, 'intense': 3699, 'intensity': 3700, 'intent': 3701, 'intention': 3702, 'interact': 3703, 'interactions': 3704, 'interactive': 3705, 'intercept': 3706, 'interest': 3707, 'interested': 3708, 'interesting': 3709, 'interface': 3710, 'interior': 3711, 'interiors': 3712, 'intermediaries': 3713, 'intermediary': 3714, 'intern': 3715, 'internal': 3716, 'internally': 3717, 'international': 3718, 'internationally': 3719, 'internet': 3720, 'interns': 3721, 'interpretation': 3722, 'interpreter': 3723, 'interpreting': 3724, 'interrupt': 3725, 'interrupted': 3726, 'interview': 3727, 'interviews': 3728, 'into': 3729, 'intrigue': 3730, 'intriguing': 3731, 'introduce': 3732, 'introduced': 3733, 'introducing': 3734, 'introduction': 3735, 'intrusion': 3736, 'invaluable': 3737, 'inventory': 3738, 'invest': 3739, 'invested': 3740, 'investigate': 3741, 'investigating': 3742, 'investigation': 3743, 'investing': 3744, 'investment': 3745, 'investments': 3746, 'investor': 3747, 'investors': 3748, 'invitation': 3749, 'invite': 3750, 'invited': 3751, 'invites': 3752, 'inviting': 3753, 'invoice': 3754, 'invoices': 3755, 'involve': 3756, 'involved': 3757, 'involves': 3758, 'involving': 3759, 'iron': 3760, 'irregular': 3761, 'is': 3762, 'isn': 3763, 'issuance': 3764, 'issue': 3765, 'issued': 3766, 'issues': 3767, 'issuing': 3768, 'it': 3769, 'item': 3770, 'items': 3771, 'its': 3772, 'itself': 3773, 'jacuzzi': 3774, 'japchae': 3775, 'jeeps': 3776, 'jeon': 3777, 'jet': 3778, 'jingle': 3779, 'job': 3780, 'jobs': 3781, 'join': 3782, 'joining': 3783, 'joint': 3784, 'jokbal': 3785, 'joke': 3786, 'journalists': 3787, 'journey': 3788, 'juice': 3789, 'junction': 3790, 'just': 3791, 'kanji': 3792, 'karaoke': 3793, 'keen': 3794, 'keep': 3795, 'keeping': 3796, 'keeps': 3797, 'kept': 3798, 'key': 3799, 'keyboard': 3800, 'keyboards': 3801, 'keys': 3802, 'keywords': 3803, 'kicks': 3804, 'kids': 3805, 'kilograms': 3806, 'kilometers': 3807, 'kilowatts': 3808, 'kimchi': 3809, 'kind': 3810, 'kindly': 3811, 'kindness': 3812, 'kinds': 3813, 'king': 3814, 'kiosk': 3815, 'kit': 3816, 'kitchen': 3817, 'kitchens': 3818, 'kits': 3819, 'knew': 3820, 'knife': 3821, 'knitting': 3822, 'knocked': 3823, 'know': 3824, 'knowing': 3825, 'knowledge': 3826, 'knowledgeable': 3827, 'known': 3828, 'knows': 3829, 'l': 3830, 'label': 3831, 'labels': 3832, 'labor': 3833, 'laboratories': 3834, 'laboratory': 3835, 'lack': 3836, 'lacking': 3837, 'ladies': 3838, 'lag': 3839, 'laid': 3840, 'lamination': 3841, 'land': 3842, 'landed': 3843, 'landline': 3844, 'landlord': 3845, 'landowner': 3846, 'lands': 3847, 'language': 3848, 'languages': 3849, 'laptop': 3850, 'large': 3851, 'largely': 3852, 'larger': 3853, 'largest': 3854, 'last': 3855, 'lasting': 3856, 'lasts': 3857, 'late': 3858, 'lately': 3859, 'latency': 3860, 'later': 3861, 'latest': 3862, 'launch': 3863, 'launched': 3864, 'launching': 3865, 'laundering': 3866, 'laundry': 3867, 'lavalier': 3868, 'law': 3869, 'laws': 3870, 'lawsuit': 3871, 'lawyer': 3872, 'lawyers': 3873, 'laxative': 3874, 'lay': 3875, 'layers': 3876, 'layout': 3877, 'lazy': 3878, 'lead': 3879, 'leaders': 3880, 'leading': 3881, 'leaf': 3882, 'leaks': 3883, 'leaning': 3884, 'learn': 3885, 'learned': 3886, 'learning': 3887, 'least': 3888, 'leave': 3889, 'leaves': 3890, 'lecture': 3891, 'led': 3892, 'left': 3893, 'legal': 3894, 'legally': 3895, 'legitimate': 3896, 'lenders': 3897, 'length': 3898, 'lengthy': 3899, 'lens': 3900, 'lentil': 3901, 'less': 3902, 'lesser': 3903, 'lessons': 3904, 'let': 3905, 'lets': 3906, 'letter': 3907, 'letters': 3908, 'letting': 3909, 'lettuce': 3910, 'level': 3911, 'levelers': 3912, 'levels': 3913, 'leverage': 3914, 'liabilities': 3915, 'liability': 3916, 'liable': 3917, 'liaison': 3918, 'library': 3919, 'license': 3920, 'licensed': 3921, 'licenses': 3922, 'lie': 3923, 'life': 3924, 'lifeguards': 3925, 'lifelong': 3926, 'lifestyle': 3927, 'lift': 3928, 'light': 3929, 'lightning': 3930, 'lights': 3931, 'lightweight': 3932, 'like': 3933, 'liked': 3934, 'likely': 3935, 'likes': 3936, 'limit': 3937, 'limitations': 3938, 'limited': 3939, 'limits': 3940, 'line': 3941, 'lines': 3942, 'lining': 3943, 'link': 3944, 'linked': 3945, 'links': 3946, 'liquid': 3947, 'liquidating': 3948, 'liquors': 3949, 'list': 3950, 'listed': 3951, 'listen': 3952, 'listener': 3953, 'listeners': 3954, 'listening': 3955, 'listing': 3956, 'listings': 3957, 'lists': 3958, 'literature': 3959, 'little': 3960, 'live': 3961, 'lived': 3962, 'lively': 3963, 'liver': 3964, 'lives': 3965, 'living': 3966, 'll': 3967, 'load': 3968, 'loaded': 3969, 'loader': 3970, 'loaders': 3971, 'loading': 3972, 'loan': 3973, 'loans': 3974, 'lobby': 3975, 'local': 3976, 'locales': 3977, 'locality': 3978, 'localization': 3979, 'localized': 3980, 'locally': 3981, 'locals': 3982, 'located': 3983, 'location': 3984, 'locations': 3985, 'lock': 3986, 'lockdown': 3987, 'lockdowns': 3988, 'lodge': 3989, 'lodging': 3990, 'lodgings': 3991, 'log': 3992, 'logged': 3993, 'logging': 3994, 'login': 3995, 'logistics': 3996, 'logo': 3997, 'logos': 3998, 'logs': 3999, 'long': 4000, 'longer': 4001, 'look': 4002, 'looked': 4003, 'looking': 4004, 'looks': 4005, 'loose': 4006, 'lose': 4007, 'loss': 4008, 'losses': 4009, 'lost': 4010, 'lot': 4011, 'lots': 4012, 'loud': 4013, 'lounge': 4014, 'love': 4015, 'loved': 4016, 'lovely': 4017, 'loving': 4018, 'low': 4019, 'lower': 4020, 'lowered': 4021, 'lowest': 4022, 'loyal': 4023, 'luck': 4024, 'luckily': 4025, 'lucky': 4026, 'lucrative': 4027, 'luggage': 4028, 'lunch': 4029, 'luxurious': 4030, 'luxury': 4031, 'm': 4032, 'ma': 4033, 'machine': 4034, 'machinery': 4035, 'machines': 4036, 'mackerels': 4037, 'macro': 4038, 'madam': 4039, 'made': 4040, 'magazine': 4041, 'magazines': 4042, 'magical': 4043, 'mail': 4044, 'main': 4045, 'mainly': 4046, 'mains': 4047, 'maintain': 4048, 'maintained': 4049, 'maintaining': 4050, 'maintenance': 4051, 'major': 4052, 'majority': 4053, 'make': 4054, 'maker': 4055, 'makers': 4056, 'makes': 4057, 'makeup': 4058, 'makgeolli': 4059, 'making': 4060, 'mall': 4061, 'malware': 4062, 'manage': 4063, 'manageable': 4064, 'managed': 4065, 'management': 4066, 'manager': 4067, 'managers': 4068, 'manages': 4069, 'managing': 4070, 'mandatory': 4071, 'mandu': 4072, 'manned': 4073, 'manner': 4074, 'manners': 4075, 'manual': 4076, 'manually': 4077, 'manufacture': 4078, 'manufactured': 4079, 'manufacturer': 4080, 'manufacturers': 4081, 'manufactures': 4082, 'manufacturing': 4083, 'manuscript': 4084, 'many': 4085, 'marinated': 4086, 'marinates': 4087, 'market': 4088, 'marketer': 4089, 'marketing': 4090, 'markets': 4091, 'married': 4092, 'mascots': 4093, 'mask': 4094, 'mass': 4095, 'massage': 4096, 'massages': 4097, 'masseuse': 4098, 'massive': 4099, 'master': 4100, 'mat': 4101, 'match': 4102, 'material': 4103, 'materialistic': 4104, 'materials': 4105, 'maternity': 4106, 'mathematics': 4107, 'mats': 4108, 'matte': 4109, 'matter': 4110, 'matters': 4111, 'mattress': 4112, 'maturing': 4113, 'maximize': 4114, 'maximum': 4115, 'may': 4116, 'maybe': 4117, 'me': 4118, 'meal': 4119, 'meals': 4120, 'mean': 4121, 'meaning': 4122, 'meaningful': 4123, 'meaningless': 4124, 'means': 4125, 'meant': 4126, 'meantime': 4127, 'measure': 4128, 'measures': 4129, 'measuring': 4130, 'meat': 4131, 'mechanic': 4132, 'mechanical': 4133, 'mechanism': 4134, 'media': 4135, 'mediator': 4136, 'medical': 4137, 'medicine': 4138, 'meditation': 4139, 'medium': 4140, 'meet': 4141, 'meeting': 4142, 'meetings': 4143, 'megabits': 4144, 'megabytes': 4145, 'megapixel': 4146, 'megapixels': 4147, 'melon': 4148, 'melt': 4149, 'member': 4150, 'members': 4151, 'membership': 4152, 'memorandum': 4153, 'memories': 4154, 'memory': 4155, 'men': 4156, 'mending': 4157, 'mental': 4158, 'mention': 4159, 'mentioned': 4160, 'mentioning': 4161, 'menu': 4162, 'menus': 4163, 'merch': 4164, 'merchant': 4165, 'merged': 4166, 'message': 4167, 'messages': 4168, 'messaging': 4169, 'messy': 4170, 'met': 4171, 'meta': 4172, 'metal': 4173, 'metallurgical': 4174, 'metals': 4175, 'meters': 4176, 'method': 4177, 'methods': 4178, 'meticulously': 4179, 'microlenders': 4180, 'microphone': 4181, 'microphones': 4182, 'microscopes': 4183, 'microwave': 4184, 'middle': 4185, 'midst': 4186, 'might': 4187, 'mild': 4188, 'milestone': 4189, 'milk': 4190, 'millennials': 4191, 'millimeters': 4192, 'million': 4193, 'millions': 4194, 'mind': 4195, 'minded': 4196, 'mine': 4197, 'miner': 4198, 'mini': 4199, 'minibar': 4200, 'minimal': 4201, 'minimalism': 4202, 'minimum': 4203, 'ministry': 4204, 'minor': 4205, 'minute': 4206, 'minuted': 4207, 'minutes': 4208, 'miscarriage': 4209, 'miscommunication': 4210, 'mishap': 4211, 'mismanagement': 4212, 'mismatch': 4213, 'misplaced': 4214, 'miss': 4215, 'missed': 4216, 'missiles': 4217, 'missing': 4218, 'mission': 4219, 'mistake': 4220, 'mistakenly': 4221, 'mistakes': 4222, 'misunderstanding': 4223, 'misuse': 4224, 'misuses': 4225, 'mitigate': 4226, 'mix': 4227, 'mixer': 4228, 'mixing': 4229, 'mm': 4230, 'mmHg': 4231, 'mobile': 4232, 'mobiles': 4233, 'mock': 4234, 'mocks': 4235, 'modality': 4236, 'mode': 4237, 'model': 4238, 'models': 4239, 'modem': 4240, 'modems': 4241, 'moderately': 4242, 'modern': 4243, 'modes': 4244, 'modifications': 4245, 'modified': 4246, 'modify': 4247, 'modifying': 4248, 'modular': 4249, 'module': 4250, 'mold': 4251, 'molding': 4252, 'moldings': 4253, 'moment': 4254, 'momentary': 4255, 'moments': 4256, 'monastery': 4257, 'monastic': 4258, 'monetary': 4259, 'monetizing': 4260, 'money': 4261, 'monitor': 4262, 'monitoring': 4263, 'monitors': 4264, 'monk': 4265, 'monks': 4266, 'monsoon': 4267, 'month': 4268, 'monthly': 4269, 'months': 4270, 'mood': 4271, 'more': 4272, 'morning': 4273, 'mortar': 4274, 'mortgage': 4275, 'mosquitos': 4276, 'most': 4277, 'mostly': 4278, 'motels': 4279, 'mother': 4280, 'motif': 4281, 'motions': 4282, 'motivate': 4283, 'motivation': 4284, 'motor': 4285, 'motorboats': 4286, 'motors': 4287, 'mountain': 4288, 'mountains': 4289, 'mouse': 4290, 'mouses': 4291, 'mouth': 4292, 'move': 4293, 'moved': 4294, 'movement': 4295, 'movers': 4296, 'movie': 4297, 'movies': 4298, 'moving': 4299, 'much': 4300, 'mud': 4301, 'mukbang': 4302, 'multi': 4303, 'multidisciplinary': 4304, 'multinational': 4305, 'multiplatform': 4306, 'multiple': 4307, 'multiplying': 4308, 'multipurpose': 4309, 'museum': 4310, 'music': 4311, 'musical': 4312, 'musky': 4313, 'must': 4314, 'mutual': 4315, 'my': 4316, 'myself': 4317, 'mysterious': 4318, 'naira': 4319, 'name': 4320, 'names': 4321, 'napkin': 4322, 'napping': 4323, 'narratives': 4324, 'narrow': 4325, 'nation': 4326, 'national': 4327, 'nationals': 4328, 'nations': 4329, 'native': 4330, 'natural': 4331, 'nature': 4332, 'navigation': 4333, 'near': 4334, 'nearby': 4335, 'nearest': 4336, 'neat': 4337, 'nebulizers': 4338, 'necessary': 4339, 'need': 4340, 'needed': 4341, 'needing': 4342, 'needs': 4343, 'negative': 4344, 'negatively': 4345, 'neglect': 4346, 'negotiable': 4347, 'negotiate': 4348, 'neighbors': 4349, 'neotraditional': 4350, 'nephew': 4351, 'nervous': 4352, 'net': 4353, 'network': 4354, 'networking': 4355, 'networks': 4356, 'never': 4357, 'new': 4358, 'newbie': 4359, 'newborn': 4360, 'newest': 4361, 'newly': 4362, 'news': 4363, 'newsletters': 4364, 'newspaper': 4365, 'next': 4366, 'nice': 4367, 'niche': 4368, 'night': 4369, 'nightclub': 4370, 'nights': 4371, 'nighttime': 4372, 'nine': 4373, 'ninety': 4374, 'no': 4375, 'noble': 4376, 'nobody': 4377, 'nodular': 4378, 'non': 4379, 'nondelivery': 4380, 'none': 4381, 'nonfiction': 4382, 'nonfungible': 4383, 'nonpayments': 4384, 'nonprofits': 4385, 'nonsense': 4386, 'nonspicy': 4387, 'noodle': 4388, 'noodles': 4389, 'noon': 4390, 'norm': 4391, 'normal': 4392, 'normally': 4393, 'northern': 4394, 'nose': 4395, 'nostalgia': 4396, 'not': 4397, 'notch': 4398, 'note': 4399, 'notebook': 4400, 'noted': 4401, 'notes': 4402, 'nothing': 4403, 'notice': 4404, 'noticed': 4405, 'notices': 4406, 'notification': 4407, 'notified': 4408, 'notify': 4409, 'notifying': 4410, 'novel': 4411, 'novels': 4412, 'now': 4413, 'nowadays': 4414, 'number': 4415, 'numbers': 4416, 'numerous': 4417, 'nurse': 4418, 'nutritional': 4419, 'nutty': 4420, 'nylon': 4421, 'o': 4422, 'object': 4423, 'objection': 4424, 'objections': 4425, 'objective': 4426, 'obligation': 4427, 'obligations': 4428, 'oblige': 4429, 'observations': 4430, 'observing': 4431, 'obstacles': 4432, 'obtain': 4433, 'obtaining': 4434, 'obviously': 4435, 'occasion': 4436, 'occupation': 4437, 'occupied': 4438, 'occupy': 4439, 'occur': 4440, 'occurrence': 4441, 'occurs': 4442, 'ocean': 4443, 'of': 4444, 'off': 4445, 'offend': 4446, 'offer': 4447, 'offered': 4448, 'offering': 4449, 'offerings': 4450, 'offers': 4451, 'office': 4452, 'officer': 4453, 'officers': 4454, 'offices': 4455, 'official': 4456, 'officially': 4457, 'offline': 4458, 'offshore': 4459, 'often': 4460, 'oh': 4461, 'oil': 4462, 'oils': 4463, 'okay': 4464, 'old': 4465, 'older': 4466, 'oldest': 4467, 'on': 4468, 'once': 4469, 'ondol': 4470, 'one': 4471, 'ones': 4472, 'ongoing': 4473, 'onions': 4474, 'online': 4475, 'only': 4476, 'onto': 4477, 'onwards': 4478, 'open': 4479, 'opened': 4480, 'opening': 4481, 'openly': 4482, 'opens': 4483, 'operate': 4484, 'operated': 4485, 'operating': 4486, 'operation': 4487, 'operational': 4488, 'operations': 4489, 'operative': 4490, 'operator': 4491, 'operators': 4492, 'opinion': 4493, 'opinions': 4494, 'opportunities': 4495, 'opportunity': 4496, 'opt': 4497, 'optimal': 4498, 'optimization': 4499, 'optimize': 4500, 'optimized': 4501, 'optimizer': 4502, 'option': 4503, 'optional': 4504, 'options': 4505, 'optometry': 4506, 'or': 4507, 'orange': 4508, 'order': 4509, 'ordered': 4510, 'ordering': 4511, 'orderly': 4512, 'orders': 4513, 'ordinary': 4514, 'ore': 4515, 'organic': 4516, 'organization': 4517, 'organizational': 4518, 'organizations': 4519, 'organize': 4520, 'organizing': 4521, 'orientation': 4522, 'oriented': 4523, 'original': 4524, 'originally': 4525, 'origins': 4526, 'other': 4527, 'others': 4528, 'ought': 4529, 'ounce': 4530, 'our': 4531, 'ours': 4532, 'ourselves': 4533, 'out': 4534, 'outbreak': 4535, 'outcome': 4536, 'outdated': 4537, 'outdoor': 4538, 'outdoors': 4539, 'outgoing': 4540, 'outings': 4541, 'outlets': 4542, 'outnumber': 4543, 'output': 4544, 'outputs': 4545, 'outreach': 4546, 'outright': 4547, 'outside': 4548, 'outsiders': 4549, 'outsmart': 4550, 'outsource': 4551, 'outstanding': 4552, 'oven': 4553, 'ovens': 4554, 'over': 4555, 'overall': 4556, 'overcharge': 4557, 'overcharged': 4558, 'overdue': 4559, 'overflow': 4560, 'overhang': 4561, 'overheads': 4562, 'overlook': 4563, 'overlooked': 4564, 'overnight': 4565, 'overpriced': 4566, 'overseas': 4567, 'oversees': 4568, 'overstated': 4569, 'overview': 4570, 'overwhelmed': 4571, 'owe': 4572, 'owing': 4573, 'own': 4574, 'owner': 4575, 'owners': 4576, 'ownership': 4577, 'owning': 4578, 'oxblood': 4579, 'p': 4580, 'pace': 4581, 'pacemaker': 4582, 'pack': 4583, 'package': 4584, 'packaged': 4585, 'packages': 4586, 'packaging': 4587, 'packed': 4588, 'packers': 4589, 'packing': 4590, 'packs': 4591, 'page': 4592, 'pages': 4593, 'pagodas': 4594, 'paid': 4595, 'pains': 4596, 'painted': 4597, 'painter': 4598, 'painters': 4599, 'painting': 4600, 'paintings': 4601, 'pair': 4602, 'pairs': 4603, 'pajamas': 4604, 'palaces': 4605, 'palate': 4606, 'palates': 4607, 'palette': 4608, 'palettes': 4609, 'palm': 4610, 'pals': 4611, 'pamphlet': 4612, 'pan': 4613, 'pancakes': 4614, 'pandemic': 4615, 'panel': 4616, 'panels': 4617, 'pans': 4618, 'pantry': 4619, 'papaya': 4620, 'paper': 4621, 'papers': 4622, 'paperwork': 4623, 'par': 4624, 'parcel': 4625, 'parents': 4626, 'park': 4627, 'parking': 4628, 'part': 4629, 'partake': 4630, 'partial': 4631, 'partially': 4632, 'participant': 4633, 'participants': 4634, 'participate': 4635, 'participating': 4636, 'particular': 4637, 'particularly': 4638, 'parties': 4639, 'partner': 4640, 'partnering': 4641, 'partners': 4642, 'partnership': 4643, 'parts': 4644, 'party': 4645, 'pass': 4646, 'passed': 4647, 'passing': 4648, 'passion': 4649, 'passive': 4650, 'passport': 4651, 'passports': 4652, 'password': 4653, 'past': 4654, 'pasta': 4655, 'paste': 4656, 'patch': 4657, 'patches': 4658, 'patent': 4659, 'patents': 4660, 'path': 4661, 'patience': 4662, 'patient': 4663, 'patients': 4664, 'patronage': 4665, 'patronize': 4666, 'patrons': 4667, 'pattern': 4668, 'patterns': 4669, 'paving': 4670, 'pay': 4671, 'payable': 4672, 'paying': 4673, 'payment': 4674, 'payments': 4675, 'payroll': 4676, 'pays': 4677, 'payslip': 4678, 'pdf': 4679, 'peace': 4680, 'peak': 4681, 'pencil': 4682, 'pending': 4683, 'pension': 4684, 'people': 4685, 'per': 4686, 'percent': 4687, 'percentage': 4688, 'perfect': 4689, 'perform': 4690, 'performance': 4691, 'performed': 4692, 'performing': 4693, 'perhaps': 4694, 'perilla': 4695, 'period': 4696, 'permanent': 4697, 'permanently': 4698, 'permission': 4699, 'permit': 4700, 'permitted': 4701, 'persistent': 4702, 'person': 4703, 'personal': 4704, 'personality': 4705, 'personalized': 4706, 'personally': 4707, 'personnel': 4708, 'persons': 4709, 'persuade': 4710, 'pertinent': 4711, 'perusal': 4712, 'pesky': 4713, 'pet': 4714, 'petition': 4715, 'petrol': 4716, 'pets': 4717, 'phase': 4718, 'phases': 4719, 'phenomena': 4720, 'philosophy': 4721, 'phone': 4722, 'phones': 4723, 'phoning': 4724, 'photo': 4725, 'photobooks': 4726, 'photocopier': 4727, 'photographer': 4728, 'photographers': 4729, 'photographs': 4730, 'photography': 4731, 'photos': 4732, 'physical': 4733, 'physically': 4734, 'piano': 4735, 'pick': 4736, 'picked': 4737, 'picking': 4738, 'picture': 4739, 'pictures': 4740, 'pie': 4741, 'piece': 4742, 'pieces': 4743, 'pier': 4744, 'piling': 4745, 'pillars': 4746, 'pills': 4747, 'pin': 4748, 'pink': 4749, 'pioneers': 4750, 'pipe': 4751, 'pipeline': 4752, 'pipelines': 4753, 'pipes': 4754, 'piqued': 4755, 'piques': 4756, 'piston': 4757, 'pitch': 4758, 'pitching': 4759, 'pity': 4760, 'pixels': 4761, 'place': 4762, 'placed': 4763, 'placement': 4764, 'placements': 4765, 'places': 4766, 'placing': 4767, 'plagiarized': 4768, 'plain': 4769, 'plan': 4770, 'plane': 4771, 'planned': 4772, 'planning': 4773, 'plans': 4774, 'plant': 4775, 'planting': 4776, 'plants': 4777, 'plastic': 4778, 'plastics': 4779, 'plate': 4780, 'plates': 4781, 'platform': 4782, 'platforms': 4783, 'platinum': 4784, 'platters': 4785, 'play': 4786, 'played': 4787, 'player': 4788, 'players': 4789, 'playground': 4790, 'playing': 4791, 'plays': 4792, 'plaza': 4793, 'pleasant': 4794, 'please': 4795, 'pleased': 4796, 'pleasure': 4797, 'plotter': 4798, 'plowing': 4799, 'plug': 4800, 'plugins': 4801, 'plus': 4802, 'pm': 4803, 'pneumatic': 4804, 'pocket': 4805, 'pockets': 4806, 'podcast': 4807, 'podcasts': 4808, 'point': 4809, 'pointing': 4810, 'points': 4811, 'policies': 4812, 'policy': 4813, 'policyholders': 4814, 'policymakers': 4815, 'polite': 4816, 'political': 4817, 'politicians': 4818, 'polystyrene': 4819, 'polyurethane': 4820, 'pool': 4821, 'pools': 4822, 'poor': 4823, 'pop': 4824, 'popular': 4825, 'popularity': 4826, 'population': 4827, 'poring': 4828, 'pork': 4829, 'porridge': 4830, 'port': 4831, 'portal': 4832, 'portals': 4833, 'portfolio': 4834, 'portfolios': 4835, 'portion': 4836, 'portraits': 4837, 'ports': 4838, 'posh': 4839, 'position': 4840, 'positioning': 4841, 'positions': 4842, 'positive': 4843, 'positives': 4844, 'possess': 4845, 'possibility': 4846, 'possible': 4847, 'possibly': 4848, 'post': 4849, 'postal': 4850, 'posted': 4851, 'poster': 4852, 'posters': 4853, 'posting': 4854, 'postings': 4855, 'postpaid': 4856, 'posts': 4857, 'potato': 4858, 'potential': 4859, 'pots': 4860, 'power': 4861, 'powered': 4862, 'practically': 4863, 'practice': 4864, 'practices': 4865, 'praised': 4866, 'praises': 4867, 'pray': 4868, 'prays': 4869, 'precise': 4870, 'precisely': 4871, 'precision': 4872, 'predict': 4873, 'predictable': 4874, 'prediction': 4875, 'prefer': 4876, 'preferably': 4877, 'preference': 4878, 'preferences': 4879, 'preferred': 4880, 'premises': 4881, 'premium': 4882, 'premiums': 4883, 'preoccupied': 4884, 'preorder': 4885, 'preparation': 4886, 'prepare': 4887, 'prepared': 4888, 'preparedness': 4889, 'preparing': 4890, 'prescription': 4891, 'prescriptions': 4892, 'presence': 4893, 'present': 4894, 'presentation': 4895, 'presented': 4896, 'presenting': 4897, 'presents': 4898, 'preservation': 4899, 'preserve': 4900, 'president': 4901, 'press': 4902, 'pressed': 4903, 'pressing': 4904, 'pressure': 4905, 'pretty': 4906, 'prevent': 4907, 'prevented': 4908, 'prevention': 4909, 'preview': 4910, 'previous': 4911, 'previously': 4912, 'price': 4913, 'priced': 4914, 'priceless': 4915, 'prices': 4916, 'pricing': 4917, 'priest': 4918, 'primarily': 4919, 'primary': 4920, 'prime': 4921, 'principal': 4922, 'principle': 4923, 'print': 4924, 'printed': 4925, 'printers': 4926, 'printing': 4927, 'prints': 4928, 'prior': 4929, 'prioritize': 4930, 'prioritized': 4931, 'priority': 4932, 'privacy': 4933, 'private': 4934, 'privilege': 4935, 'prize': 4936, 'prized': 4937, 'probably': 4938, 'problem': 4939, 'problematic': 4940, 'problems': 4941, 'procedure': 4942, 'procedures': 4943, 'proceed': 4944, 'proceedings': 4945, 'proceeds': 4946, 'process': 4947, 'processed': 4948, 'processes': 4949, 'processing': 4950, 'processor': 4951, 'processors': 4952, 'procurement': 4953, 'produce': 4954, 'produced': 4955, 'producer': 4956, 'produces': 4957, 'producing': 4958, 'product': 4959, 'production': 4960, 'productions': 4961, 'productivity': 4962, 'products': 4963, 'profession': 4964, 'professional': 4965, 'professionally': 4966, 'professionals': 4967, 'professions': 4968, 'professor': 4969, 'professors': 4970, 'proficiency': 4971, 'profile': 4972, 'profit': 4973, 'profitability': 4974, 'profitable': 4975, 'profits': 4976, 'program': 4977, 'programmed': 4978, 'programmer': 4979, 'programmers': 4980, 'programming': 4981, 'programs': 4982, 'progress': 4983, 'progressing': 4984, 'project': 4985, 'projections': 4986, 'projector': 4987, 'projectors': 4988, 'projects': 4989, 'prominent': 4990, 'prominently': 4991, 'promise': 4992, 'promised': 4993, 'promises': 4994, 'promising': 4995, 'promo': 4996, 'promos': 4997, 'promote': 4998, 'promoting': 4999, 'promotion': 5000, 'promotional': 5001, 'promotions': 5002, 'prompt': 5003, 'promptly': 5004, 'prompts': 5005, 'proof': 5006, 'proofs': 5007, 'propelled': 5008, 'proper': 5009, 'properly': 5010, 'properties': 5011, 'property': 5012, 'proportion': 5013, 'proposal': 5014, 'proposals': 5015, 'propose': 5016, 'proposed': 5017, 'proposing': 5018, 'proposition': 5019, 'pros': 5020, 'prospective': 5021, 'prosperous': 5022, 'prosthetics': 5023, 'prostrations': 5024, 'protect': 5025, 'protected': 5026, 'protection': 5027, 'protectionism': 5028, 'protections': 5029, 'protective': 5030, 'protects': 5031, 'protein': 5032, 'protocol': 5033, 'protocols': 5034, 'prototype': 5035, 'proud': 5036, 'prove': 5037, 'proven': 5038, 'provide': 5039, 'provided': 5040, 'provider': 5041, 'providers': 5042, 'provides': 5043, 'providing': 5044, 'province': 5045, 'proximity': 5046, 'pub': 5047, 'public': 5048, 'publication': 5049, 'publications': 5050, 'publicly': 5051, 'publish': 5052, 'published': 5053, 'publishers': 5054, 'publishing': 5055, 'pull': 5056, 'pulse': 5057, 'pump': 5058, 'pumps': 5059, 'punctual': 5060, 'purchase': 5061, 'purchased': 5062, 'purchases': 5063, 'purchasing': 5064, 'purely': 5065, 'purified': 5066, 'purifiers': 5067, 'purify': 5068, 'purpose': 5069, 'purposes': 5070, 'pursue': 5071, 'push': 5072, 'pushed': 5073, 'put': 5074, 'puts': 5075, 'putting': 5076, 'quadrupled': 5077, 'qualified': 5078, 'qualify': 5079, 'qualities': 5080, 'quality': 5081, 'quantities': 5082, 'quantity': 5083, 'quarter': 5084, 'quarterly': 5085, 'queries': 5086, 'query': 5087, 'question': 5088, 'questionnaire': 5089, 'questions': 5090, 'queue': 5091, 'quick': 5092, 'quickly': 5093, 'quilt': 5094, 'quite': 5095, 'quotation': 5096, 'quotations': 5097, 'quote': 5098, 'radio': 5099, 'radioactive': 5100, 'railway': 5101, 'rain': 5102, 'raise': 5103, 'raising': 5104, 'rally': 5105, 'rambling': 5106, 'ramen': 5107, 'ran': 5108, 'random': 5109, 'randomly': 5110, 'rang': 5111, 'range': 5112, 'ranger': 5113, 'ranges': 5114, 'ranging': 5115, 'rank': 5116, 'ranked': 5117, 'ranking': 5118, 'ranks': 5119, 'rapidly': 5120, 'rapport': 5121, 'rare': 5122, 'rate': 5123, 'rates': 5124, 'rather': 5125, 'rating': 5126, 'ratings': 5127, 'ratio': 5128, 'rational': 5129, 'raw': 5130, 'ray': 5131, 'rd': 5132, 're': 5133, 'reach': 5134, 'reached': 5135, 'reaches': 5136, 'reaching': 5137, 'react': 5138, 'reaction': 5139, 'read': 5140, 'readers': 5141, 'reading': 5142, 'reads': 5143, 'ready': 5144, 'real': 5145, 'realistic': 5146, 'reality': 5147, 'realize': 5148, 'really': 5149, 'realtor': 5150, 'reap': 5151, 'rear': 5152, 'reason': 5153, 'reasonable': 5154, 'reasons': 5155, 'reassuring': 5156, 'rebook': 5157, 'recall': 5158, 'receipt': 5159, 'receipts': 5160, 'receivable': 5161, 'receive': 5162, 'received': 5163, 'receiver': 5164, 'receiving': 5165, 'recent': 5166, 'recently': 5167, 'reception': 5168, 'receptionist': 5169, 'recharge': 5170, 'recharging': 5171, 'recipe': 5172, 'recipes': 5173, 'recipients': 5174, 'recognize': 5175, 'recognized': 5176, 'recommend': 5177, 'recommendation': 5178, 'recommendations': 5179, 'recommended': 5180, 'recommending': 5181, 'reconfirm': 5182, 'reconsider': 5183, 'record': 5184, 'recorded': 5185, 'recording': 5186, 'recordings': 5187, 'records': 5188, 'recover': 5189, 'recovery': 5190, 'recreation': 5191, 'rectified': 5192, 'recuperate': 5193, 'red': 5194, 'redemption': 5195, 'redirect': 5196, 'redownloaded': 5197, 'redrafting': 5198, 'reduce': 5199, 'reduced': 5200, 'reduces': 5201, 'reducing': 5202, 'reefer': 5203, 'reefers': 5204, 'reels': 5205, 'refer': 5206, 'reference': 5207, 'referred': 5208, 'referring': 5209, 'refers': 5210, 'refine': 5211, 'reflected': 5212, 'refrain': 5213, 'refresher': 5214, 'refund': 5215, 'refunded': 5216, 'refunds': 5217, 'refuse': 5218, 'refuses': 5219, 'regard': 5220, 'regarded': 5221, 'regarding': 5222, 'regardless': 5223, 'regards': 5224, 'region': 5225, 'regional': 5226, 'register': 5227, 'registered': 5228, 'registration': 5229, 'registry': 5230, 'regret': 5231, 'regretting': 5232, 'regular': 5233, 'regularly': 5234, 'regulated': 5235, 'regulations': 5236, 'regulatory': 5237, 'rehearsal': 5238, 'reheated': 5239, 'reimbursed': 5240, 'reimbursement': 5241, 'reimbursing': 5242, 'reinstalled': 5243, 'reject': 5244, 'rejected': 5245, 'relatable': 5246, 'relate': 5247, 'related': 5248, 'relations': 5249, 'relationship': 5250, 'relationships': 5251, 'relative': 5252, 'relatively': 5253, 'relatives': 5254, 'relax': 5255, 'relaxation': 5256, 'relaxing': 5257, 'relay': 5258, 'release': 5259, 'released': 5260, 'releases': 5261, 'releasing': 5262, 'relentlessly': 5263, 'relevant': 5264, 'reliable': 5265, 'relief': 5266, 'relies': 5267, 'relieved': 5268, 'religious': 5269, 'relocate': 5270, 'rely': 5271, 'remain': 5272, 'remaining': 5273, 'remains': 5274, 'remarks': 5275, 'remember': 5276, 'remembered': 5277, 'remind': 5278, 'reminder': 5279, 'reminders': 5280, 'reminding': 5281, 'reminds': 5282, 'reminisce': 5283, 'remittance': 5284, 'remote': 5285, 'remotely': 5286, 'removable': 5287, 'remove': 5288, 'removers': 5289, 'removing': 5290, 'render': 5291, 'rendered': 5292, 'renders': 5293, 'renege': 5294, 'renew': 5295, 'renewable': 5296, 'renewal': 5297, 'renewed': 5298, 'renewing': 5299, 'renovate': 5300, 'renovated': 5301, 'renovation': 5302, 'renowned': 5303, 'rent': 5304, 'rental': 5305, 'rentals': 5306, 'rented': 5307, 'renting': 5308, 'reorder': 5309, 'repair': 5310, 'repay': 5311, 'repayment': 5312, 'repeat': 5313, 'replace': 5314, 'replaced': 5315, 'replacement': 5316, 'replacements': 5317, 'replacing': 5318, 'reply': 5319, 'report': 5320, 'reported': 5321, 'reports': 5322, 'representative': 5323, 'representing': 5324, 'represents': 5325, 'reputable': 5326, 'reputation': 5327, 'reputed': 5328, 'request': 5329, 'requested': 5330, 'requesting': 5331, 'requests': 5332, 'require': 5333, 'required': 5334, 'requirement': 5335, 'requirements': 5336, 'requires': 5337, 'rescheduled': 5338, 'rescission': 5339, 'research': 5340, 'researched': 5341, 'researching': 5342, 'resellers': 5343, 'resending': 5344, 'reservation': 5345, 'reservations': 5346, 'reserve': 5347, 'reserved': 5348, 'reserving': 5349, 'reset': 5350, 'reside': 5351, 'residence': 5352, 'resident': 5353, 'residents': 5354, 'residing': 5355, 'resistant': 5356, 'resistors': 5357, 'resolve': 5358, 'resolved': 5359, 'resolving': 5360, 'resort': 5361, 'resorting': 5362, 'resorts': 5363, 'resource': 5364, 'resources': 5365, 'respect': 5366, 'respected': 5367, 'respective': 5368, 'respectively': 5369, 'respects': 5370, 'respond': 5371, 'responding': 5372, 'response': 5373, 'responsibility': 5374, 'responsible': 5375, 'responsive': 5376, 'rest': 5377, 'restart': 5378, 'restaurant': 5379, 'restaurants': 5380, 'restocked': 5381, 'restore': 5382, 'restoring': 5383, 'restricted': 5384, 'restriction': 5385, 'restrictions': 5386, 'restroom': 5387, 'restrooms': 5388, 'result': 5389, 'resulted': 5390, 'results': 5391, 'resume': 5392, 'resumes': 5393, 'retail': 5394, 'retailer': 5395, 'retails': 5396, 'retain': 5397, 'retains': 5398, 'retirement': 5399, 'retract': 5400, 'retreat': 5401, 'retreats': 5402, 'retrieve': 5403, 'return': 5404, 'returned': 5405, 'returning': 5406, 'returns': 5407, 'reuploading': 5408, 'reusable': 5409, 'revamp': 5410, 'revealing': 5411, 'revenue': 5412, 'revenues': 5413, 'revert': 5414, 'review': 5415, 'reviewed': 5416, 'reviewers': 5417, 'reviewing': 5418, 'revise': 5419, 'revised': 5420, 'revision': 5421, 'revisions': 5422, 'revoke': 5423, 'revolving': 5424, 'reward': 5425, 'rewarding': 5426, 'rewards': 5427, 'rib': 5428, 'ribs': 5429, 'rice': 5430, 'rich': 5431, 'rid': 5432, 'ride': 5433, 'rides': 5434, 'right': 5435, 'rights': 5436, 'rigid': 5437, 'rim': 5438, 'ring': 5439, 'rise': 5440, 'risen': 5441, 'risk': 5442, 'risking': 5443, 'risks': 5444, 'risky': 5445, 'ritual': 5446, 'road': 5447, 'roadblock': 5448, 'roadmap': 5449, 'roasted': 5450, 'robot': 5451, 'rock': 5452, 'rocky': 5453, 'role': 5454, 'roleplaying': 5455, 'roles': 5456, 'roll': 5457, 'roller': 5458, 'rolls': 5459, 'roof': 5460, 'roofing': 5461, 'rooftop': 5462, 'room': 5463, 'roommate': 5464, 'rooms': 5465, 'root': 5466, 'roots': 5467, 'ropes': 5468, 'rotary': 5469, 'rough': 5470, 'round': 5471, 'rounds': 5472, 'router': 5473, 'routine': 5474, 'royalty': 5475, 'rude': 5476, 'ruin': 5477, 'ruined': 5478, 'rules': 5479, 'rumor': 5480, 'run': 5481, 'running': 5482, 'runs': 5483, 'rural': 5484, 'rush': 5485, 'rushing': 5486, 's': 5487, 'sacrificing': 5488, 'sad': 5489, 'safe': 5490, 'safeguard': 5491, 'safely': 5492, 'safer': 5493, 'safety': 5494, 'said': 5495, 'sake': 5496, 'salad': 5497, 'salary': 5498, 'sale': 5499, 'sales': 5500, 'salesmen': 5501, 'salt': 5502, 'saltwater': 5503, 'same': 5504, 'samgyeopsal': 5505, 'samgyupsal': 5506, 'sample': 5507, 'sampler': 5508, 'samples': 5509, 'sampling': 5510, 'sanctioning': 5511, 'sandwich': 5512, 'sandwiches': 5513, 'sanitary': 5514, 'satellite': 5515, 'satin': 5516, 'satisfied': 5517, 'satisfy': 5518, 'sauce': 5519, 'sauna': 5520, 'sausage': 5521, 'save': 5522, 'saved': 5523, 'saver': 5524, 'saves': 5525, 'saving': 5526, 'savings': 5527, 'savory': 5528, 'savvy': 5529, 'saw': 5530, 'say': 5531, 'saying': 5532, 'says': 5533, 'scaffolding': 5534, 'scale': 5535, 'scammed': 5536, 'scan': 5537, 'scanner': 5538, 'scanners': 5539, 'scanning': 5540, 'scarcity': 5541, 'scared': 5542, 'scavenger': 5543, 'scenario': 5544, 'scenarios': 5545, 'scenic': 5546, 'scent': 5547, 'schedule': 5548, 'scheduled': 5549, 'scheduler': 5550, 'schedules': 5551, 'scheme': 5552, 'scholar': 5553, 'scholarships': 5554, 'school': 5555, 'schooling': 5556, 'science': 5557, 'sciences': 5558, 'scientific': 5559, 'scientists': 5560, 'scooters': 5561, 'score': 5562, 'scores': 5563, 'scratch': 5564, 'screen': 5565, 'screening': 5566, 'screenplay': 5567, 'screens': 5568, 'screenshot': 5569, 'screenshots': 5570, 'screw': 5571, 'screws': 5572, 'script': 5573, 'scrub': 5574, 'sculptors': 5575, 'sea': 5576, 'seal': 5577, 'search': 5578, 'searching': 5579, 'seared': 5580, 'season': 5581, 'seasons': 5582, 'seat': 5583, 'seats': 5584, 'seaweed': 5585, 'seaworthiness': 5586, 'second': 5587, 'secondary': 5588, 'secondhand': 5589, 'seconds': 5590, 'secret': 5591, 'secretary': 5592, 'section': 5593, 'sector': 5594, 'secure': 5595, 'secured': 5596, 'secures': 5597, 'securing': 5598, 'securities': 5599, 'security': 5600, 'see': 5601, 'seedlings': 5602, 'seeing': 5603, 'seek': 5604, 'seeking': 5605, 'seem': 5606, 'seems': 5607, 'seen': 5608, 'select': 5609, 'selected': 5610, 'selection': 5611, 'selections': 5612, 'self': 5613, 'sell': 5614, 'seller': 5615, 'sellers': 5616, 'selling': 5617, 'sells': 5618, 'selves': 5619, 'semester': 5620, 'semiconductor': 5621, 'semiconductors': 5622, 'seminar': 5623, 'seminars': 5624, 'send': 5625, 'sender': 5626, 'sending': 5627, 'senior': 5628, 'seniors': 5629, 'sense': 5630, 'sensor': 5631, 'sensors': 5632, 'sent': 5633, 'separate': 5634, 'separately': 5635, 'serial': 5636, 'series': 5637, 'serious': 5638, 'serve': 5639, 'served': 5640, 'server': 5641, 'servers': 5642, 'serves': 5643, 'service': 5644, 'serviced': 5645, 'services': 5646, 'servicing': 5647, 'serving': 5648, 'servings': 5649, 'servo': 5650, 'session': 5651, 'sessions': 5652, 'set': 5653, 'sets': 5654, 'setting': 5655, 'settings': 5656, 'settle': 5657, 'settled': 5658, 'setup': 5659, 'setups': 5660, 'seven': 5661, 'several': 5662, 'severe': 5663, 'sewer': 5664, 'sewing': 5665, 'shaded': 5666, 'shaft': 5667, 'shafts': 5668, 'shake': 5669, 'shall': 5670, 'shape': 5671, 'shaped': 5672, 'shapes': 5673, 'share': 5674, 'shared': 5675, 'shares': 5676, 'sharing': 5677, 'sharpened': 5678, 'sharply': 5679, 'she': 5680, 'sheet': 5681, 'shelter': 5682, 'shift': 5683, 'shifted': 5684, 'ship': 5685, 'shipment': 5686, 'shipments': 5687, 'shipped': 5688, 'shipping': 5689, 'ships': 5690, 'shock': 5691, 'shoddy': 5692, 'shoe': 5693, 'shoes': 5694, 'shoot': 5695, 'shooting': 5696, 'shop': 5697, 'shopping': 5698, 'shops': 5699, 'short': 5700, 'shortly': 5701, 'shot': 5702, 'shots': 5703, 'should': 5704, 'shoulder': 5705, 'shouldn': 5706, 'shovel': 5707, 'shovels': 5708, 'show': 5709, 'showcase': 5710, 'showcases': 5711, 'showcasing': 5712, 'showed': 5713, 'shower': 5714, 'showing': 5715, 'shown': 5716, 'showroom': 5717, 'shows': 5718, 'shredder': 5719, 'shredders': 5720, 'shrimp': 5721, 'shutting': 5722, 'shy': 5723, 'sibling': 5724, 'side': 5725, 'sides': 5726, 'sign': 5727, 'signal': 5728, 'signals': 5729, 'signatory': 5730, 'signature': 5731, 'signatures': 5732, 'signed': 5733, 'significance': 5734, 'significant': 5735, 'significantly': 5736, 'signify': 5737, 'signing': 5738, 'silent': 5739, 'silk': 5740, 'silver': 5741, 'silverware': 5742, 'similar': 5743, 'simmered': 5744, 'simmering': 5745, 'simple': 5746, 'simpler': 5747, 'simply': 5748, 'simultaneously': 5749, 'since': 5750, 'sincere': 5751, 'sincerely': 5752, 'sing': 5753, 'single': 5754, 'sink': 5755, 'sir': 5756, 'sister': 5757, 'sit': 5758, 'site': 5759, 'sited': 5760, 'sites': 5761, 'sitting': 5762, 'situation': 5763, 'situations': 5764, 'six': 5765, 'sixth': 5766, 'sizable': 5767, 'size': 5768, 'sized': 5769, 'sizes': 5770, 'sketches': 5771, 'skill': 5772, 'skilled': 5773, 'skills': 5774, 'skin': 5775, 'skincare': 5776, 'skyline': 5777, 'skyrocket': 5778, 'sleep': 5779, 'sleeping': 5780, 'slept': 5781, 'slice': 5782, 'slide': 5783, 'slides': 5784, 'sliding': 5785, 'slightly': 5786, 'slip': 5787, 'slippers': 5788, 'slot': 5789, 'slots': 5790, 'slow': 5791, 'slurp': 5792, 'small': 5793, 'smaller': 5794, 'smallest': 5795, 'smart': 5796, 'smartphone': 5797, 'smartphones': 5798, 'smartwatches': 5799, 'smile': 5800, 'smoke': 5801, 'smooth': 5802, 'smoothly': 5803, 'snack': 5804, 'snacks': 5805, 'snap': 5806, 'sneakers': 5807, 'snob': 5808, 'snorkeling': 5809, 'so': 5810, 'soap': 5811, 'soaps': 5812, 'soaring': 5813, 'social': 5814, 'societal': 5815, 'socket': 5816, 'socks': 5817, 'sof': 5818, 'sofa': 5819, 'soft': 5820, 'software': 5821, 'softwares': 5822, 'soil': 5823, 'soju': 5824, 'sold': 5825, 'sole': 5826, 'solely': 5827, 'solid': 5828, 'solitary': 5829, 'solo': 5830, 'solution': 5831, 'solutions': 5832, 'solve': 5833, 'solving': 5834, 'some': 5835, 'somebody': 5836, 'someday': 5837, 'somehow': 5838, 'someone': 5839, 'something': 5840, 'sometime': 5841, 'sometimes': 5842, 'somewhere': 5843, 'son': 5844, 'song': 5845, 'songs': 5846, 'soon': 5847, 'sooner': 5848, 'sophisticated': 5849, 'sorry': 5850, 'sort': 5851, 'sorted': 5852, 'sorts': 5853, 'sound': 5854, 'soundbite': 5855, 'sounded': 5856, 'sounds': 5857, 'soundtrack': 5858, 'soup': 5859, 'source': 5860, 'sources': 5861, 'sous': 5862, 'southeast': 5863, 'souvenirs': 5864, 'soy': 5865, 'spa': 5866, 'space': 5867, 'spaces': 5868, 'spacious': 5869, 'spaghetti': 5870, 'spam': 5871, 'spare': 5872, 'spark': 5873, 'spas': 5874, 'speak': 5875, 'speaker': 5876, 'speakers': 5877, 'speaking': 5878, 'speaks': 5879, 'special': 5880, 'specialize': 5881, 'specialized': 5882, 'specializes': 5883, 'specialties': 5884, 'specialty': 5885, 'specific': 5886, 'specifically': 5887, 'specification': 5888, 'specifications': 5889, 'specifics': 5890, 'spectacular': 5891, 'spectrophotometer': 5892, 'spectrum': 5893, 'speed': 5894, 'speeds': 5895, 'spend': 5896, 'spending': 5897, 'spent': 5898, 'spices': 5899, 'spicy': 5900, 'spike': 5901, 'spinners': 5902, 'spinning': 5903, 'spiral': 5904, 'split': 5905, 'spoke': 5906, 'spoken': 5907, 'sponsor': 5908, 'sponsored': 5909, 'spoons': 5910, 'sports': 5911, 'spot': 5912, 'spots': 5913, 'spouse': 5914, 'sprained': 5915, 'spray': 5916, 'spread': 5917, 'spreader': 5918, 'spreading': 5919, 'spring': 5920, 'springs': 5921, 'sprout': 5922, 'sprouts': 5923, 'spyware': 5924, 'square': 5925, 'squeeze': 5926, 'squid': 5927, 'ssambap': 5928, 'ssamjang': 5929, 'st': 5930, 'stable': 5931, 'stacking': 5932, 'staff': 5933, 'staffs': 5934, 'stage': 5935, 'stages': 5936, 'staggered': 5937, 'stainless': 5938, 'stake': 5939, 'stalls': 5940, 'stand': 5941, 'standard': 5942, 'standards': 5943, 'standing': 5944, 'stands': 5945, 'star': 5946, 'starch': 5947, 'starred': 5948, 'stars': 5949, 'start': 5950, 'started': 5951, 'starters': 5952, 'starting': 5953, 'starts': 5954, 'startup': 5955, 'startups': 5956, 'state': 5957, 'stated': 5958, 'statement': 5959, 'statements': 5960, 'states': 5961, 'static': 5962, 'station': 5963, 'stationary': 5964, 'stationed': 5965, 'stations': 5966, 'statistics': 5967, 'statue': 5968, 'status': 5969, 'stay': 5970, 'stayed': 5971, 'staying': 5972, 'stays': 5973, 'steadier': 5974, 'steady': 5975, 'steak': 5976, 'steal': 5977, 'steamed': 5978, 'steamers': 5979, 'steel': 5980, 'steering': 5981, 'stems': 5982, 'step': 5983, 'stepped': 5984, 'steps': 5985, 'sterilizers': 5986, 'stew': 5987, 'stick': 5988, 'sticker': 5989, 'stickers': 5990, 'sticky': 5991, 'still': 5992, 'stipulated': 5993, 'stir': 5994, 'stitches': 5995, 'stock': 5996, 'stockbroker': 5997, 'stocks': 5998, 'stolen': 5999, 'stones': 6000, 'stop': 6001, 'stoppers': 6002, 'stops': 6003, 'storage': 6004, 'store': 6005, 'stored': 6006, 'stores': 6007, 'storey': 6008, 'stories': 6009, 'storm': 6010, 'story': 6011, 'stoves': 6012, 'straight': 6013, 'straighten': 6014, 'strain': 6015, 'strands': 6016, 'strange': 6017, 'strategic': 6018, 'strategies': 6019, 'strategize': 6020, 'strategy': 6021, 'straw': 6022, 'stream': 6023, 'streamed': 6024, 'streaming': 6025, 'street': 6026, 'strength': 6027, 'strengthen': 6028, 'stress': 6029, 'strict': 6030, 'strictly': 6031, 'strictness': 6032, 'strips': 6033, 'strive': 6034, 'striving': 6035, 'stroganoff': 6036, 'strong': 6037, 'stronger': 6038, 'strongly': 6039, 'structure': 6040, 'structures': 6041, 'struggle': 6042, 'stub': 6043, 'stuck': 6044, 'student': 6045, 'students': 6046, 'studied': 6047, 'studies': 6048, 'studio': 6049, 'study': 6050, 'studying': 6051, 'stuff': 6052, 'stumped': 6053, 'stunning': 6054, 'stupendous': 6055, 'stuttering': 6056, 'style': 6057, 'subcription': 6058, 'subdivision': 6059, 'submersible': 6060, 'submission': 6061, 'submissions': 6062, 'submit': 6063, 'submitted': 6064, 'subscribe': 6065, 'subscribed': 6066, 'subscriber': 6067, 'subscribers': 6068, 'subscribing': 6069, 'subscription': 6070, 'subscriptions': 6071, 'subsidiaries': 6072, 'subsidiary': 6073, 'substantial': 6074, 'subtitles': 6075, 'subway': 6076, 'succeed': 6077, 'succeeded': 6078, 'success': 6079, 'successful': 6080, 'succinctly': 6081, 'such': 6082, 'suction': 6083, 'sudden': 6084, 'suddenly': 6085, 'suffer': 6086, 'suffered': 6087, 'suffice': 6088, 'sufficient': 6089, 'sugar': 6090, 'suggest': 6091, 'suggested': 6092, 'suggesting': 6093, 'suggestion': 6094, 'suggestions': 6095, 'suit': 6096, 'suitable': 6097, 'suite': 6098, 'suites': 6099, 'sujeonggwa': 6100, 'sukju': 6101, 'sum': 6102, 'summary': 6103, 'summer': 6104, 'sun': 6105, 'sunrise': 6106, 'superintendent': 6107, 'superiors': 6108, 'supermarket': 6109, 'supervisor': 6110, 'supervisory': 6111, 'supplements': 6112, 'supplied': 6113, 'supplier': 6114, 'suppliers': 6115, 'supplies': 6116, 'supply': 6117, 'supplying': 6118, 'support': 6119, 'supporters': 6120, 'supporting': 6121, 'supportive': 6122, 'suppose': 6123, 'supposed': 6124, 'sure': 6125, 'surely': 6126, 'surface': 6127, 'surge': 6128, 'surpass': 6129, 'surplus': 6130, 'surprise': 6131, 'surprised': 6132, 'surround': 6133, 'surveillance': 6134, 'survey': 6135, 'surveyed': 6136, 'suspect': 6137, 'suspicious': 6138, 'sustainable': 6139, 'sweat': 6140, 'sweet': 6141, 'sweets': 6142, 'swift': 6143, 'swiftly': 6144, 'swimming': 6145, 'switch': 6146, 'switched': 6147, 'switching': 6148, 'symbols': 6149, 'symmetric': 6150, 'syndicated': 6151, 'synopsis': 6152, 'synthesizing': 6153, 'synthetic': 6154, 'syringes': 6155, 'system': 6156, 'systems': 6157, 't': 6158, 'tab': 6159, 'table': 6160, 'tables': 6161, 'tablet': 6162, 'tablets': 6163, 'tabulate': 6164, 'tackled': 6165, 'tactics': 6166, 'tagline': 6167, 'tags': 6168, 'tainted': 6169, 'take': 6170, 'taken': 6171, 'takeover': 6172, 'taker': 6173, 'takes': 6174, 'taking': 6175, 'talent': 6176, 'talents': 6177, 'talk': 6178, 'talked': 6179, 'talking': 6180, 'talks': 6181, 'tap': 6182, 'tape': 6183, 'taps': 6184, 'target': 6185, 'targeted': 6186, 'targeting': 6187, 'targets': 6188, 'tariff': 6189, 'tariffs': 6190, 'task': 6191, 'tasked': 6192, 'tasks': 6193, 'taste': 6194, 'tasted': 6195, 'tastes': 6196, 'tasty': 6197, 'tattoo': 6198, 'taught': 6199, 'tax': 6200, 'taxation': 6201, 'taxed': 6202, 'taxes': 6203, 'tea': 6204, 'teach': 6205, 'teacher': 6206, 'teachers': 6207, 'teaching': 6208, 'team': 6209, 'teammates': 6210, 'teams': 6211, 'teas': 6212, 'teaser': 6213, 'tech': 6214, 'technical': 6215, 'technically': 6216, 'technician': 6217, 'technicians': 6218, 'techniques': 6219, 'technological': 6220, 'technologies': 6221, 'technologist': 6222, 'technology': 6223, 'tedious': 6224, 'teenagers': 6225, 'telecommunication': 6226, 'telecommunications': 6227, 'teleconference': 6228, 'telephone': 6229, 'television': 6230, 'televisions': 6231, 'tell': 6232, 'telling': 6233, 'temperature': 6234, 'temperatures': 6235, 'template': 6236, 'templates': 6237, 'temple': 6238, 'temples': 6239, 'temporarily': 6240, 'temporary': 6241, 'ten': 6242, 'tenants': 6243, 'tend': 6244, 'tendency': 6245, 'tender': 6246, 'tent': 6247, 'tentative': 6248, 'tents': 6249, 'tenure': 6250, 'terabyte': 6251, 'terabytes': 6252, 'term': 6253, 'terminal': 6254, 'terminate': 6255, 'terms': 6256, 'terrace': 6257, 'terrible': 6258, 'terribly': 6259, 'test': 6260, 'tested': 6261, 'tester': 6262, 'testers': 6263, 'testing': 6264, 'tests': 6265, 'text': 6266, 'textbook': 6267, 'textbooks': 6268, 'textile': 6269, 'textiles': 6270, 'texts': 6271, 'texture': 6272, 'textures': 6273, 'th': 6274, 'than': 6275, 'thank': 6276, 'thanks': 6277, 'that': 6278, 'the': 6279, 'theater': 6280, 'their': 6281, 'theirs': 6282, 'them': 6283, 'theme': 6284, 'themes': 6285, 'themselves': 6286, 'then': 6287, 'therapy': 6288, 'there': 6289, 'thereby': 6290, 'therefore': 6291, 'thermoforming': 6292, 'thermoplastic': 6293, 'thermostat': 6294, 'these': 6295, 'they': 6296, 'thick': 6297, 'thickened': 6298, 'thin': 6299, 'thing': 6300, 'things': 6301, 'think': 6302, 'thinking': 6303, 'thinks': 6304, 'third': 6305, 'this': 6306, 'thorough': 6307, 'thoroughly': 6308, 'those': 6309, 'though': 6310, 'thought': 6311, 'thoughts': 6312, 'thousand': 6313, 'thousands': 6314, 'threads': 6315, 'threat': 6316, 'threaten': 6317, 'threatening': 6318, 'three': 6319, 'thriller': 6320, 'thrives': 6321, 'through': 6322, 'throughout': 6323, 'thus': 6324, 'ticket': 6325, 'tickets': 6326, 'tie': 6327, 'tied': 6328, 'tier': 6329, 'tight': 6330, 'tightly': 6331, 'till': 6332, 'time': 6333, 'timeline': 6334, 'timelines': 6335, 'timely': 6336, 'timer': 6337, 'times': 6338, 'timespan': 6339, 'timetable': 6340, 'timing': 6341, 'tiny': 6342, 'tip': 6343, 'tipping': 6344, 'tips': 6345, 'tire': 6346, 'tissue': 6347, 'title': 6348, 'to': 6349, 'toast': 6350, 'toasters': 6351, 'tobacco': 6352, 'today': 6353, 'toddlers': 6354, 'toe': 6355, 'together': 6356, 'toilet': 6357, 'token': 6358, 'tokens': 6359, 'told': 6360, 'tolerant': 6361, 'tolerated': 6362, 'tomorrow': 6363, 'ton': 6364, 'tone': 6365, 'toner': 6366, 'tones': 6367, 'tonight': 6368, 'too': 6369, 'took': 6370, 'tool': 6371, 'tools': 6372, 'top': 6373, 'topic': 6374, 'topics': 6375, 'topmost': 6376, 'torn': 6377, 'tortilla': 6378, 'total': 6379, 'totally': 6380, 'touch': 6381, 'touchscreen': 6382, 'tough': 6383, 'tour': 6384, 'tourism': 6385, 'tourist': 6386, 'tourists': 6387, 'tours': 6388, 'tow': 6389, 'toward': 6390, 'towards': 6391, 'towel': 6392, 'towels': 6393, 'town': 6394, 'townhouse': 6395, 'track': 6396, 'trackballs': 6397, 'tracking': 6398, 'trackpad': 6399, 'tractor': 6400, 'trade': 6401, 'trademark': 6402, 'trader': 6403, 'trades': 6404, 'trading': 6405, 'traditional': 6406, 'traditionally': 6407, 'traditions': 6408, 'traffic': 6409, 'trailer': 6410, 'trailers': 6411, 'train': 6412, 'training': 6413, 'trainings': 6414, 'trains': 6415, 'tranche': 6416, 'transact': 6417, 'transaction': 6418, 'transactions': 6419, 'transfer': 6420, 'transferred': 6421, 'transferring': 6422, 'transfers': 6423, 'translations': 6424, 'translators': 6425, 'transmission': 6426, 'transmit': 6427, 'transmitted': 6428, 'transparency': 6429, 'transport': 6430, 'transportation': 6431, 'transportations': 6432, 'trash': 6433, 'travel': 6434, 'traveled': 6435, 'travelers': 6436, 'traveling': 6437, 'travelled': 6438, 'tread': 6439, 'treat': 6440, 'treated': 6441, 'treatment': 6442, 'treatments': 6443, 'tremendously': 6444, 'trend': 6445, 'trending': 6446, 'trends': 6447, 'trendy': 6448, 'tri': 6449, 'trial': 6450, 'trials': 6451, 'tricky': 6452, 'tried': 6453, 'tries': 6454, 'trigger': 6455, 'trip': 6456, 'triple': 6457, 'trips': 6458, 'trouble': 6459, 'troubles': 6460, 'troubleshooting': 6461, 'truck': 6462, 'trucks': 6463, 'true': 6464, 'truly': 6465, 'trust': 6466, 'trusted': 6467, 'trustee': 6468, 'trusting': 6469, 'trustworthy': 6470, 'truth': 6471, 'try': 6472, 'trying': 6473, 'tteokbokki': 6474, 'tub': 6475, 'tube': 6476, 'tubes': 6477, 'tubing': 6478, 'tubs': 6479, 'tuned': 6480, 'tunnels': 6481, 'turn': 6482, 'turnaround': 6483, 'turned': 6484, 'turning': 6485, 'turnkey': 6486, 'turns': 6487, 'tutorials': 6488, 'tweaks': 6489, 'twenty': 6490, 'twice': 6491, 'twin': 6492, 'two': 6493, 'type': 6494, 'types': 6495, 'typewriter': 6496, 'typical': 6497, 'typically': 6498, 'ultimately': 6499, 'ultrasonic': 6500, 'ultrasound': 6501, 'umbrella': 6502, 'unable': 6503, 'unacceptable': 6504, 'unauthorized': 6505, 'unavailable': 6506, 'unaware': 6507, 'unboxed': 6508, 'unboxing': 6509, 'unbreakable': 6510, 'unchanged': 6511, 'uncomfortable': 6512, 'under': 6513, 'undergoing': 6514, 'underlying': 6515, 'underneath': 6516, 'underreported': 6517, 'understaffed': 6518, 'understand': 6519, 'understandable': 6520, 'understanding': 6521, 'undervalued': 6522, 'underwriting': 6523, 'undoubtedly': 6524, 'undress': 6525, 'unemployed': 6526, 'unending': 6527, 'unequal': 6528, 'unexpected': 6529, 'unfair': 6530, 'unfamiliar': 6531, 'unfold': 6532, 'unforeseen': 6533, 'unfortunate': 6534, 'unfortunately': 6535, 'unhappy': 6536, 'unintentional': 6537, 'unique': 6538, 'unit': 6539, 'units': 6540, 'unity': 6541, 'universal': 6542, 'universities': 6543, 'university': 6544, 'unless': 6545, 'unlike': 6546, 'unlimited': 6547, 'unloading': 6548, 'unnecessary': 6549, 'unpleasant': 6550, 'unpredictable': 6551, 'unprofessional': 6552, 'unquantifiable': 6553, 'unrealized': 6554, 'unsecured': 6555, 'unstable': 6556, 'unsure': 6557, 'unsustainable': 6558, 'until': 6559, 'untouched': 6560, 'unused': 6561, 'up': 6562, 'upcoming': 6563, 'update': 6564, 'updated': 6565, 'updates': 6566, 'updating': 6567, 'upfront': 6568, 'upgrade': 6569, 'upgraded': 6570, 'upgrades': 6571, 'upgrading': 6572, 'upkeep': 6573, 'upload': 6574, 'uploaded': 6575, 'uploading': 6576, 'upon': 6577, 'upper': 6578, 'ups': 6579, 'upset': 6580, 'urge': 6581, 'urged': 6582, 'urgent': 6583, 'urgently': 6584, 'us': 6585, 'usability': 6586, 'usage': 6587, 'use': 6588, 'used': 6589, 'useful': 6590, 'user': 6591, 'users': 6592, 'uses': 6593, 'using': 6594, 'usual': 6595, 'usually': 6596, 'utensils': 6597, 'utilities': 6598, 'utility': 6599, 'utilize': 6600, 'utilized': 6601, 'utilizing': 6602, 'vacation': 6603, 'vaccination': 6604, 'vaccine': 6605, 'vacuum': 6606, 'valid': 6607, 'validates': 6608, 'validating': 6609, 'validity': 6610, 'valuable': 6611, 'valuables': 6612, 'value': 6613, 'values': 6614, 'valve': 6615, 'valves': 6616, 'van': 6617, 'vans': 6618, 'variable': 6619, 'variables': 6620, 'variation': 6621, 'varies': 6622, 'varieties': 6623, 'variety': 6624, 'various': 6625, 'vary': 6626, 'varying': 6627, 've': 6628, 'vector': 6629, 'vectors': 6630, 'vegan': 6631, 'vegetable': 6632, 'vegetables': 6633, 'vegetarian': 6634, 'veggies': 6635, 'vehicle': 6636, 'vehicles': 6637, 'vending': 6638, 'vendor': 6639, 'vendors': 6640, 'venture': 6641, 'ventures': 6642, 'venturi': 6643, 'venturing': 6644, 'venue': 6645, 'verification': 6646, 'verified': 6647, 'verify': 6648, 'versatile': 6649, 'version': 6650, 'versions': 6651, 'very': 6652, 'veteran': 6653, 'via': 6654, 'viable': 6655, 'viand': 6656, 'vibes': 6657, 'vibrations': 6658, 'victim': 6659, 'vide': 6660, 'video': 6661, 'videoconferencing': 6662, 'videos': 6663, 'view': 6664, 'viewers': 6665, 'views': 6666, 'villa': 6667, 'village': 6668, 'villas': 6669, 'vine': 6670, 'vinegar': 6671, 'vintage': 6672, 'violated': 6673, 'violation': 6674, 'violent': 6675, 'viral': 6676, 'virtual': 6677, 'virtualization': 6678, 'virtually': 6679, 'virus': 6680, 'viruses': 6681, 'visas': 6682, 'viscosity': 6683, 'visibility': 6684, 'visible': 6685, 'vision': 6686, 'visit': 6687, 'visited': 6688, 'visiting': 6689, 'visitors': 6690, 'visits': 6691, 'visual': 6692, 'visualization': 6693, 'visualizations': 6694, 'visualize': 6695, 'visually': 6696, 'visuals': 6697, 'vital': 6698, 'vitals': 6699, 'vlog': 6700, 'vocabulary': 6701, 'voice': 6702, 'volatile': 6703, 'volume': 6704, 'voluminous': 6705, 'vulnerable': 6706, 'wafer': 6707, 'wage': 6708, 'wages': 6709, 'wait': 6710, 'waited': 6711, 'waiters': 6712, 'waiting': 6713, 'waive': 6714, 'waived': 6715, 'wake': 6716, 'walk': 6717, 'walking': 6718, 'wallet': 6719, 'wallpapers': 6720, 'walls': 6721, 'want': 6722, 'wanted': 6723, 'wanting': 6724, 'wants': 6725, 'warehouse': 6726, 'warm': 6727, 'warn': 6728, 'warning': 6729, 'warping': 6730, 'warrant': 6731, 'warrants': 6732, 'warranty': 6733, 'wary': 6734, 'was': 6735, 'washer': 6736, 'washers': 6737, 'wasn': 6738, 'waste': 6739, 'wasting': 6740, 'watch': 6741, 'watched': 6742, 'watching': 6743, 'water': 6744, 'watering': 6745, 'watermelon': 6746, 'waterproof': 6747, 'waterways': 6748, 'watts': 6749, 'way': 6750, 'ways': 6751, 'we': 6752, 'wealth': 6753, 'wealthy': 6754, 'wear': 6755, 'weather': 6756, 'web': 6757, 'webinar': 6758, 'webinars': 6759, 'webpage': 6760, 'website': 6761, 'websites': 6762, 'wedding': 6763, 'weddings': 6764, 'week': 6765, 'weekdays': 6766, 'weekend': 6767, 'weekends': 6768, 'weekly': 6769, 'weeks': 6770, 'weight': 6771, 'welcome': 6772, 'welcomes': 6773, 'well': 6774, 'went': 6775, 'were': 6776, 'weren': 6777, 'west': 6778, 'western': 6779, 'what': 6780, 'whatever': 6781, 'wheat': 6782, 'wheel': 6783, 'wheels': 6784, 'when': 6785, 'whenever': 6786, 'where': 6787, 'whereabouts': 6788, 'wherever': 6789, 'whether': 6790, 'which': 6791, 'while': 6792, 'white': 6793, 'who': 6794, 'whoever': 6795, 'whole': 6796, 'wholesale': 6797, 'whom': 6798, 'whose': 6799, 'why': 6800, 'wide': 6801, 'widely': 6802, 'widened': 6803, 'wider': 6804, 'widest': 6805, 'wife': 6806, 'wild': 6807, 'wildlife': 6808, 'will': 6809, 'willing': 6810, 'win': 6811, 'wind': 6812, 'window': 6813, 'windows': 6814, 'wine': 6815, 'wines': 6816, 'wing': 6817, 'winner': 6818, 'winter': 6819, 'wipe': 6820, 'wire': 6821, 'wired': 6822, 'wireless': 6823, 'wires': 6824, 'wise': 6825, 'wisely': 6826, 'wish': 6827, 'wished': 6828, 'wishes': 6829, 'with': 6830, 'withdraw': 6831, 'withdrawal': 6832, 'withhold': 6833, 'within': 6834, 'without': 6835, 'witness': 6836, 'women': 6837, 'won': 6838, 'wonder': 6839, 'wonderful': 6840, 'wondering': 6841, 'wonders': 6842, 'wood': 6843, 'word': 6844, 'words': 6845, 'work': 6846, 'worked': 6847, 'worker': 6848, 'workers': 6849, 'workforce': 6850, 'working': 6851, 'workplace': 6852, 'works': 6853, 'workshop': 6854, 'world': 6855, 'worldwide': 6856, 'worm': 6857, 'worms': 6858, 'worried': 6859, 'worries': 6860, 'worry': 6861, 'worrying': 6862, 'worse': 6863, 'worst': 6864, 'worth': 6865, 'worthwhile': 6866, 'worthy': 6867, 'would': 6868, 'wouldn': 6869, 'wow': 6870, 'wrap': 6871, 'wrapping': 6872, 'wraps': 6873, 'write': 6874, 'writers': 6875, 'writing': 6876, 'written': 6877, 'wrong': 6878, 'yacht': 6879, 'yang': 6880, 'yard': 6881, 'yarn': 6882, 'year': 6883, 'yearly': 6884, 'years': 6885, 'yell': 6886, 'yellow': 6887, 'yen': 6888, 'yes': 6889, 'yesterday': 6890, 'yet': 6891, 'yield': 6892, 'yields': 6893, 'yin': 6894, 'yo': 6895, 'you': 6896, 'young': 6897, 'youngsters': 6898, 'your': 6899, 'yours': 6900, 'yourself': 6901, 'yourselves': 6902, 'youth': 6903, 'yurt': 6904, 'zero': 6905, 'zones': 6906, 'zoom': 6907}\n",
            "{'<EOS>': 1, '<SOS>': 2, 'A': 3, 'AAA': 4, 'AAA1@BBB1.com': 5, 'AAA@BBB.com': 6, 'ABCDE': 7, 'AI': 8, 'ANR': 9, 'ATM': 10, 'Associates': 11, 'B': 12, 'BBB': 13, 'BBB@email.com': 14, 'BSE': 15, 'Bank': 16, 'C': 17, 'CCTV': 18, 'CEO': 19, 'CFM': 20, 'CMS': 21, 'COVID': 22, 'CSS': 23, 'CT': 24, 'Company': 25, 'Corporation': 26, 'D': 27, 'DCA': 28, 'DVR': 29, 'Drive': 30, 'E': 31, 'EOB': 32, 'EPP': 33, 'ESG': 34, 'ETF': 35, 'EVA': 36, 'Enter': 37, 'Expo': 38, 'FFF': 39, 'FFFF': 40, 'FOMO': 41, 'Fair': 42, 'Fi': 43, 'Food': 44, 'Fu': 45, 'G': 46, 'GB': 47, 'GPS': 48, 'GVWR': 49, 'HDD': 50, 'HTML': 51, 'ID': 52, 'IP': 53, 'IPO': 54, 'IT': 55, 'IVR': 56, 'IaaS': 57, 'International': 58, 'IoT': 59, 'JLPT': 60, 'K': 61, 'Kabsat': 62, 'Korea': 63, 'LED': 64, 'Limited': 65, 'Locust': 66, 'M': 67, 'MAR': 68, 'MMS': 69, 'MOU': 70, 'Medical': 71, 'NFT': 72, 'NI': 73, 'NSE': 74, 'NTFS': 75, 'PDA': 76, 'PDF': 77, 'PPE': 78, 'PRO': 79, 'PSA': 80, 'PVP': 81, 'Precision': 82, 'Private': 83, 'QR': 84, 'RAM': 85, 'ROI': 86, 'RV': 87, 'SD': 88, 'SEO': 89, 'SIM': 90, 'SKU': 91, 'SNS': 92, 'SPV': 93, 'SSD': 94, 'SSL': 95, 'Salalah': 96, 'South': 97, 'TPU': 98, 'TV': 99, 'Touch': 100, 'UI': 101, 'UN': 102, 'USB': 103, 'VC': 104, 'VIP': 105, 'VPN': 106, 'VR': 107, 'VVIP': 108, 'View': 109, 'WIFI': 110, 'WTO': 111, 'Web': 112, 'Wi': 113, 'by': 114, 'car': 115, 'cm': 116, 'demat': 117, 'e': 118, 'found': 119, 'km': 120, 'm': 121, 'mm': 122, 'mmHg': 123, 'not': 124, 'pdf': 125, 'x': 126, '가': 127, '가게': 128, '가게용': 129, '가겠습니다': 130, '가격': 131, '가격표': 132, '가고': 133, '가공': 134, '가교': 135, '가구': 136, '가급적': 137, '가기': 138, '가까운': 139, '가까워요': 140, '가까워지니까': 141, '가까이': 142, '가깝고': 143, '가깝기': 144, '가깝진': 145, '가꾸기': 146, '가끔': 147, '가는': 148, '가능': 149, '가능성': 150, '가능하게': 151, '가능하고': 152, '가능하기를': 153, '가능하니까': 154, '가능하다는': 155, '가능하다면': 156, '가능하세요': 157, '가능하시니': 158, '가능하신': 159, '가능하신가요': 160, '가능하십니까': 161, '가능하십니다': 162, '가능하지': 163, '가능하지만': 164, '가능한': 165, '가능한가요': 166, '가능한데': 167, '가능한지': 168, '가능할': 169, '가능할까': 170, '가능합니까': 171, '가능합니다': 172, '가능해요': 173, '가닥': 174, '가득': 175, '가득해': 176, '가든': 177, '가려고': 178, '가령': 179, '가로': 180, '가르쳐': 181, '가르치고': 182, '가르칠': 183, '가를': 184, '가리키기만': 185, '가면': 186, '가미': 187, '가벼운': 188, '가변': 189, '가본': 190, '가봐야': 191, '가상': 192, '가상화': 193, '가서': 194, '가세': 195, '가셨나요': 196, '가소성': 197, '가솔린': 198, '가스': 199, '가스나': 200, '가스레인지': 201, '가슴': 202, '가시': 203, '가시나요': 204, '가야': 205, '가에': 206, '가열': 207, '가옥': 208, '가요': 209, '가용성': 210, '가을': 211, '가의': 212, '가이드': 213, '가이드북': 214, '가입': 215, '가입자': 216, '가장': 217, '가전': 218, '가전제품': 219, '가정': 220, '가정식': 221, '가젯': 222, '가져': 223, '가져가거든요': 224, '가져가면': 225, '가져가실': 226, '가져갈': 227, '가져갈게요': 228, '가져다': 229, '가져다주다니': 230, '가져다주세요': 231, '가져다주실': 232, '가져야': 233, '가져오겠습니다': 234, '가져오셔도': 235, '가져올게요': 236, '가져옵니다': 237, '가져와야': 238, '가져왔어': 239, '가져왔어요': 240, '가져주셔서': 241, '가졌습니다': 242, '가족': 243, '가지': 244, '가지는': 245, '가지러': 246, '가지실': 247, '가진': 248, '가질': 249, '가집니다': 250, '가차': 251, '가치': 252, '가판': 253, '각': 254, '각각': 255, '각국': 256, '각도': 257, '각본': 258, '각서': 259, '각자': 260, '각종': 261, '간': 262, '간격': 263, '간결하고': 264, '간과': 265, '간극': 266, '간단하지만': 267, '간단한': 268, '간단합니까': 269, '간단합니다': 270, '간단해': 271, '간단히': 272, '간략하게': 273, '간략한': 274, '간략히': 275, '간사': 276, '간의': 277, '간장': 278, '간접비': 279, '간주': 280, '간행물': 281, '간호사': 282, '갇혀': 283, '갈': 284, '갈래': 285, '갈비': 286, '갈아탄': 287, '감': 288, '감당': 289, '감독': 290, '감동': 291, '감명': 292, '감사': 293, '감사하겠습니다': 294, '감사하고': 295, '감사하다고': 296, '감사한데요': 297, '감사할': 298, '감사합니다': 299, '감사합니다만': 300, '감사해야': 301, '감사해요': 302, '감소': 303, '감수': 304, '감시': 305, '감싸고': 306, '감안': 307, '감염': 308, '감정': 309, '감지': 310, '갑니다': 311, '갑자기': 312, '갑작스러운': 313, '갑작스럽게': 314, '값': 315, '갓': 316, '갔다': 317, '갔습니다': 318, '갔어요': 319, '갔을': 320, '강남': 321, '강남역': 322, '강도': 323, '강력하게': 324, '강력한': 325, '강력합니다': 326, '강력히': 327, '강릉': 328, '강세': 329, '강아지': 330, '강연': 331, '강의': 332, '강의실': 333, '강점': 334, '강제': 335, '강조': 336, '강좌': 337, '강철': 338, '강합니다': 339, '강해질': 340, '강화하기': 341, '강화하며': 342, '강화합니다': 343, '강화해야': 344, '강화했습니다': 345, '갖게': 346, '갖고': 347, '갖는': 348, '갖다': 349, '갖자': 350, '갖죠': 351, '갖추고': 352, '갖추면': 353, '갖추어져': 354, '갖춘': 355, '갖춰져': 356, '같고': 357, '같군요': 358, '같나요': 359, '같네요': 360, '같다고': 361, '같습니까': 362, '같습니다': 363, '같아': 364, '같아서': 365, '같아서요': 366, '같아요': 367, '같았습니다': 368, '같으니': 369, '같은': 370, '같은가요': 371, '같은데': 372, '같은데요': 373, '같은지': 374, '같을까요': 375, '같이': 376, '같지': 377, '같지는': 378, '같지만': 379, '갚겠습니다': 380, '갚기': 381, '갚기만': 382, '갚는': 383, '갚아야': 384, '갚으셔야': 385, '갚으실': 386, '갚을': 387, '갚지': 388, '개': 389, '개구': 390, '개국': 391, '개념': 392, '개는': 393, '개당': 394, '개도': 395, '개면': 396, '개발': 397, '개발자': 398, '개방': 399, '개별': 400, '개봉': 401, '개선': 402, '개설': 403, '개시': 404, '개업': 405, '개요': 406, '개월': 407, '개월치': 408, '개인': 409, '개인실': 410, '개인정보': 411, '개인화': 412, '개입': 413, '개정': 414, '개조': 415, '개척': 416, '개체': 417, '개최': 418, '개회': 419, '객': 420, '객관': 421, '객실': 422, '갱신': 423, '거': 424, '거고': 425, '거기': 426, '거나': 427, '거대한': 428, '거도': 429, '거든요': 430, '거뜬히': 431, '거란': 432, '거래': 433, '거래소': 434, '거래처': 435, '거론': 436, '거리': 437, '거버넌스': 438, '거부': 439, '거셨나': 440, '거슬러': 441, '거신': 442, '거실': 443, '거야': 444, '거의': 445, '거절': 446, '거점': 447, '거주': 448, '거주지': 449, '거처': 450, '거쳤습니다': 451, '거품': 452, '걱정': 453, '걱정거리': 454, '건': 455, '건가': 456, '건강': 457, '건강하고': 458, '건강한': 459, '건강합니다': 460, '건강히': 461, '건너지': 462, '건너편': 463, '건네줄': 464, '건대': 465, '건데': 466, '건물': 467, '건배': 468, '건설': 469, '건설업': 470, '건의': 471, '건조기': 472, '건지': 473, '건축': 474, '건축물': 475, '걸': 476, '걸게': 477, '걸고': 478, '걸기': 479, '걸기를': 480, '걸까': 481, '걸려': 482, '걸려서': 483, '걸려오는': 484, '걸려요': 485, '걸리겠네요': 486, '걸리나요': 487, '걸리는': 488, '걸리는지': 489, '걸리면': 490, '걸리지': 491, '걸리지만': 492, '걸린다고': 493, '걸릴': 494, '걸릴까': 495, '걸립니까': 496, '걸립니다': 497, '걸어': 498, '걸어서': 499, '걸어야': 500, '걸어주세요': 501, '걸었습니다': 502, '걸었어요': 503, '걸었지만': 504, '걸음걸이': 505, '걸쭉한': 506, '걸쳐': 507, '걸쳐서': 508, '검': 509, '검게': 510, '검사': 511, '검색': 512, '검수': 513, '검안': 514, '검은색': 515, '검증': 516, '검토': 517, '겁': 518, '겁니다': 519, '것': 520, '것이므': 521, '것입': 522, '게': 523, '게다가': 524, '게스트': 525, '게스트하우스': 526, '게시': 527, '게시판': 528, '게으르다고': 529, '게이': 530, '게이트': 531, '게임': 532, '게장': 533, '게재': 534, '겠네요': 535, '겠습니다': 536, '겨울': 537, '겨울철': 538, '격려': 539, '격식': 540, '격자': 541, '겪고': 542, '겪었는지': 543, '겪었어요': 544, '겪었으므로': 545, '겪으셨던': 546, '겪을': 547, '견과류': 548, '견본': 549, '견인차': 550, '견적': 551, '견학': 552, '결과': 553, '결국': 554, '결기': 555, '결론': 556, '결절': 557, '결정': 558, '결제': 559, '결코': 560, '결함': 561, '결합': 562, '결혼': 563, '결혼식': 564, '경': 565, '경고': 566, '경과': 567, '경기도': 568, '경량': 569, '경력': 570, '경로': 571, '경보': 572, '경비원': 573, '경시': 574, '경영': 575, '경우': 576, '경의': 577, '경작': 578, '경쟁': 579, '경쟁력': 580, '경쟁자': 581, '경제': 582, '경청': 583, '경치': 584, '경품': 585, '경향': 586, '경험': 587, '곁들이면': 588, '곁들인': 589, '계란': 590, '계란빵': 591, '계란찜': 592, '계산': 593, '계산서': 594, '계세': 595, '계셨나요': 596, '계셨으면': 597, '계속': 598, '계시': 599, '계시길': 600, '계시나요': 601, '계시네요': 602, '계시는가요': 603, '계시다는': 604, '계시다면': 605, '계신': 606, '계신가요': 607, '계신다고': 608, '계신다니': 609, '계신지': 610, '계십니까': 611, '계십니다': 612, '계약': 613, '계약금': 614, '계약서': 615, '계열': 616, '계절': 617, '계정': 618, '계정은': 619, '계좌': 620, '계층': 621, '계획': 622, '고': 623, '고가': 624, '고개': 625, '고객': 626, '고구마': 627, '고귀한': 628, '고급': 629, '고급스러운': 630, '고급스러워': 631, '고급스럽고': 632, '고기': 633, '고대': 634, '고도': 635, '고등어': 636, '고려': 637, '고려인삼': 638, '고르는': 639, '고를': 640, '고마워': 641, '고마워요': 642, '고맙고': 643, '고맙습니다': 644, '고문': 645, '고민': 646, '고소한': 647, '고속': 648, '고압': 649, '고양이': 650, '고여': 651, '고요': 652, '고용': 653, '고용주': 654, '고위': 655, '고유': 656, '고장': 657, '고정': 658, '고정기': 659, '고집': 660, '고쳐지면': 661, '고추장': 662, '고칠': 663, '고통': 664, '고프면': 665, '고향': 666, '고화질': 667, '곡': 668, '곡물': 669, '곤경': 670, '곤혹': 671, '곧': 672, '곧게': 673, '골드': 674, '골랐습니다': 675, '골프': 676, '곰팡이': 677, '곱': 678, '곳': 679, '곳곳': 680, '곳도': 681, '공': 682, '공간': 683, '공감': 684, '공개': 685, '공격': 686, '공공': 687, '공과금': 688, '공급': 689, '공기': 690, '공기업': 691, '공동': 692, '공동체': 693, '공략': 694, '공모': 695, '공백': 696, '공부': 697, '공사': 698, '공식': 699, '공압': 700, '공연': 701, '공용': 702, '공유': 703, '공인': 704, '공자': 705, '공장': 706, '공정': 707, '공정한': 708, '공제': 709, '공지': 710, '공짜': 711, '공통': 712, '공통점': 713, '공학': 714, '공함': 715, '공항': 716, '과': 717, '과감': 718, '과거': 719, '과대': 720, '과세': 721, '과소': 722, '과실': 723, '과업': 724, '과일': 725, '과자': 726, '과장': 727, '과정': 728, '과제': 729, '과학': 730, '과학자': 731, '관': 732, '관계': 733, '관계없이': 734, '관광': 735, '관광객': 736, '관광지': 737, '관대해요': 738, '관련': 739, '관리': 740, '관리자': 741, '관세': 742, '관세청': 743, '관습': 744, '관심': 745, '관심사': 746, '관용': 747, '관점': 748, '관찰': 749, '관할': 750, '관해': 751, '관행': 752, '괌': 753, '광': 754, '광고': 755, '광대역': 756, '광도': 757, '광범위한': 758, '광석': 759, '광택': 760, '괜': 761, '괜찮': 762, '괜찮겠습니까': 763, '괜찮나요': 764, '괜찮네요': 765, '괜찮다면': 766, '괜찮습니까': 767, '괜찮습니다': 768, '괜찮습니다만': 769, '괜찮아': 770, '괜찮아요': 771, '괜찮았습니다': 772, '괜찮았어요': 773, '괜찮으세요': 774, '괜찮으시다면': 775, '괜찮으시면': 776, '괜찮으신': 777, '괜찮으실까': 778, '괜찮은': 779, '괜찮은가요': 780, '괜찮을': 781, '괜찮을까요': 782, '괴롭히는': 783, '굉장하네요': 784, '굉장히': 785, '교대': 786, '교류': 787, '교사': 788, '교수': 789, '교실': 790, '교육': 791, '교재': 792, '교직원': 793, '교체': 794, '교통': 795, '교환': 796, '교환학생': 797, '교훈': 798, '구': 799, '구가': 800, '구경': 801, '구독': 802, '구독료': 803, '구동': 804, '구름': 805, '구매': 806, '구별': 807, '구비': 808, '구상': 809, '구석구석': 810, '구성': 811, '구역': 812, '구워': 813, '구워내는': 814, '구이': 815, '구입': 816, '구절판': 817, '구조': 818, '구조원': 819, '구체': 820, '구축': 821, '구축함': 822, '구현': 823, '구형': 824, '국': 825, '국가': 826, '국경': 827, '국내': 828, '국내선': 829, '국내외': 830, '국물': 831, '국법': 832, '국수': 833, '국적': 834, '국제': 835, '국제공항': 836, '국한': 837, '군데': 838, '굴삭기': 839, '굴착기': 840, '굵은': 841, '굽는': 842, '궁궐': 843, '궁극': 844, '궁금하네요': 845, '궁금하더라고요': 846, '궁금하신': 847, '궁금하실': 848, '궁금한': 849, '궁금합니다': 850, '궁금해서': 851, '궁금해서요': 852, '궁금해요': 853, '궁금했어요': 854, '권': 855, '권리': 856, '권장': 857, '권한': 858, '권합니다': 859, '귀': 860, '귀국': 861, '귀사': 862, '귀중': 863, '귀중한': 864, '귀하': 865, '귀하는': 866, '귀하도': 867, '귀한': 868, '규모': 869, '규정': 870, '규제': 871, '규칙': 872, '균열': 873, '균형': 874, '그': 875, '그거': 876, '그건': 877, '그걸': 878, '그걿': 879, '그것': 880, '그게': 881, '그날': 882, '그냥': 883, '그녀': 884, '그늘': 885, '그다음': 886, '그대로': 887, '그동안': 888, '그때': 889, '그땐': 890, '그라브락스': 891, '그래': 892, '그래도': 893, '그래서': 894, '그래야겠어요': 895, '그래요': 896, '그래프': 897, '그래픽': 898, '그랬는데': 899, '그랬더니': 900, '그랬듯이': 901, '그러게요': 902, '그러기': 903, '그러나': 904, '그러는데': 905, '그러니': 906, '그러니까': 907, '그러더라고요': 908, '그러려고': 909, '그러려면': 910, '그러면': 911, '그러므로': 912, '그러실': 913, '그러지': 914, '그러한': 915, '그러할': 916, '그런': 917, '그런데': 918, '그런지': 919, '그럴': 920, '그럴게요': 921, '그럼': 922, '그럼에도': 923, '그럼요': 924, '그렇게': 925, '그렇겠지만': 926, '그렇고': 927, '그렇군요': 928, '그렇기': 929, '그렇네요': 930, '그렇다': 931, '그렇다고': 932, '그렇다면': 933, '그렇습니까': 934, '그렇습니다': 935, '그렇죠': 936, '그렇지': 937, '그렇지만': 938, '그려요': 939, '그룹': 940, '그릇': 941, '그리': 942, '그리고': 943, '그리고는': 944, '그리스': 945, '그린': 946, '그릴': 947, '그림': 948, '그만한': 949, '그저': 950, '그중': 951, '극구': 952, '극복': 953, '극장': 954, '극적': 955, '근거': 956, '근데': 957, '근로자': 958, '근무': 959, '근원': 960, '근접하지': 961, '근처': 962, '글': 963, '글꼴': 964, '글로벌': 965, '글루텐': 966, '글쎄': 967, '글쎄요': 968, '글씨': 969, '금': 970, '금기': 971, '금년': 972, '금리': 973, '금색': 974, '금속': 975, '금액': 976, '금요일': 977, '금융': 978, '금융감독원': 979, '금은': 980, '금전': 981, '금제': 982, '금지': 983, '급': 984, '급등': 985, '급성': 986, '급여': 987, '급우': 988, '급증': 989, '급하게': 990, '급하니까': 991, '급한': 992, '급히': 993, '긍정': 994, '기': 995, '기가바이트': 996, '기간': 997, '기계': 998, '기공식': 999, '기관': 1000, '기구': 1001, '기금': 1002, '기기': 1003, '기꺼이': 1004, '기념': 1005, '기념일': 1006, '기는': 1007, '기능': 1008, '기다려': 1009, '기다려도': 1010, '기다려야': 1011, '기다려주세요': 1012, '기다렸습니다': 1013, '기다렸어요': 1014, '기다리게': 1015, '기다리겠습니다': 1016, '기다리고': 1017, '기다리는': 1018, '기다리며': 1019, '기다리셔야': 1020, '기다리셨습니다': 1021, '기다리시면': 1022, '기다리지': 1023, '기다릴': 1024, '기다릴게요': 1025, '기대': 1026, '기대하겠습니다': 1027, '기대하고': 1028, '기대하며': 1029, '기대할': 1030, '기대할게요': 1031, '기대합니다': 1032, '기도': 1033, '기둥': 1034, '기록': 1035, '기를': 1036, '기밀': 1037, '기반': 1038, '기본': 1039, '기부': 1040, '기분': 1041, '기뻐': 1042, '기뻐요': 1043, '기뻤습니다': 1044, '기쁘게': 1045, '기쁘고': 1046, '기쁘네요': 1047, '기쁠': 1048, '기쁩니다': 1049, '기사': 1050, '기숙사': 1051, '기술': 1052, '기술자': 1053, '기어': 1054, '기어는요': 1055, '기억': 1056, '기억나요': 1057, '기억나지': 1058, '기업': 1059, '기업가': 1060, '기업은행': 1061, '기업인': 1062, '기여': 1063, '기였죠': 1064, '기온': 1065, '기와': 1066, '기울였습니다': 1067, '기울이고': 1068, '기원': 1069, '기입': 1070, '기자': 1071, '기재': 1072, '기적': 1073, '기존': 1074, '기준': 1075, '기중기': 1076, '기차': 1077, '기차역': 1078, '기차표': 1079, '기초': 1080, '기타': 1081, '기표': 1082, '기한': 1083, '기호': 1084, '기혼': 1085, '기회': 1086, '기획': 1087, '기후변화': 1088, '긴': 1089, '긴급': 1090, '긴급히': 1091, '긴밀하게': 1092, '긴밀히': 1093, '길': 1094, '길다': 1095, '길다고': 1096, '길어질수록': 1097, '길이': 1098, '김': 1099, '김밥': 1100, '김치': 1101, '김치볶음밥': 1102, '깊은': 1103, '깊이': 1104, '까다로운': 1105, '까다로울': 1106, '까맣게': 1107, '까요': 1108, '깔끔하고': 1109, '깔린': 1110, '깜박이는': 1111, '깜빡': 1112, '깜짝': 1113, '깨끗하고': 1114, '깨어': 1115, '깨우쳐': 1116, '깨졌다는': 1117, '깨지지': 1118, '깻잎': 1119, '꺼낸': 1120, '꺼져': 1121, '꼭': 1122, '꼼꼼하게': 1123, '꼼꼼히': 1124, '꽉': 1125, '꽤': 1126, '꾸밀': 1127, '꾸준한': 1128, '꾸준히': 1129, '꿀': 1130, '꿈': 1131, '꿰맬': 1132, '끄는': 1133, '끊지': 1134, '끌': 1135, '끌리는': 1136, '끌어': 1137, '끌었습니다': 1138, '끓는': 1139, '끓는점': 1140, '끓이는': 1141, '끔찍한': 1142, '끔찍했습니다': 1143, '끝': 1144, '끝나기': 1145, '끝나길': 1146, '끝나네요': 1147, '끝나면': 1148, '끝날': 1149, '끝납니다': 1150, '끝났나요': 1151, '끝났다': 1152, '끝났으니': 1153, '끝내고': 1154, '끝내기': 1155, '끝내는': 1156, '끝내려고요': 1157, '끝내셨나요': 1158, '끝내야': 1159, '끝내죠': 1160, '끝낼': 1161, '끼쳐': 1162, '끼치지': 1163, '나': 1164, '나가고': 1165, '나가는': 1166, '나갈': 1167, '나갔습니다': 1168, '나나': 1169, '나네요': 1170, '나누고': 1171, '나누면': 1172, '나누면서': 1173, '나누어야': 1174, '나누죠': 1175, '나누지': 1176, '나눈': 1177, '나눌': 1178, '나눠': 1179, '나눠줘도': 1180, '나눴습니다': 1181, '나뉩니다': 1182, '나는지': 1183, '나라': 1184, '나를': 1185, '나머지': 1186, '나면': 1187, '나무': 1188, '나빠졌어요': 1189, '나빠지고': 1190, '나쁘지': 1191, '나쁜': 1192, '나쁠': 1193, '나사': 1194, '나서': 1195, '나서는': 1196, '나아': 1197, '나아가고': 1198, '나아갈': 1199, '나아지게': 1200, '나아지기': 1201, '나열': 1202, '나오기': 1203, '나오나요': 1204, '나오는': 1205, '나오는데': 1206, '나오는지': 1207, '나오죠': 1208, '나오지': 1209, '나온': 1210, '나올': 1211, '나옵니다': 1212, '나와': 1213, '나와서': 1214, '나와요': 1215, '나와있나요': 1216, '나와있는': 1217, '나왔으면': 1218, '나으실': 1219, '나은': 1220, '나은지': 1221, '나을': 1222, '나이': 1223, '나이라': 1224, '나이지리아': 1225, '나이트클럽': 1226, '나일론': 1227, '나중': 1228, '나타나지': 1229, '나타났습니다': 1230, '나타났어요': 1231, '나타내는': 1232, '나타냅니다': 1233, '나흘': 1234, '난': 1235, '난방': 1236, '난이도': 1237, '날': 1238, '날리의': 1239, '날씨': 1240, '날아가서': 1241, '날아간': 1242, '날짜': 1243, '날카로워졌습니다': 1244, '남겨': 1245, '남길': 1246, '남동쪽': 1247, '남미': 1248, '남성': 1249, '남아': 1250, '남아시아': 1251, '남았나요': 1252, '남았습니다': 1253, '남았어요': 1254, '남았으니': 1255, '남용': 1256, '남은': 1257, '남지': 1258, '남편': 1259, '납니다': 1260, '납부': 1261, '납품': 1262, '낫': 1263, '낫겠어요': 1264, '낫나요': 1265, '낫다': 1266, '낫습니다': 1267, '났습니다': 1268, '났을': 1269, '낭비': 1270, '낭비할': 1271, '낮기': 1272, '낮습니다': 1273, '낮아요': 1274, '낮아지죠': 1275, '낮은': 1276, '낮잠': 1277, '낮추겠습니다': 1278, '낮출': 1279, '낮춰': 1280, '낮춰야': 1281, '낯설게': 1282, '내': 1283, '내고': 1284, '내기': 1285, '내내': 1286, '내년': 1287, '내놓으면': 1288, '내놓을': 1289, '내는': 1290, '내려간다고': 1291, '내려오는': 1292, '내렸습니다': 1293, '내리게': 1294, '내리겠습니다': 1295, '내리는': 1296, '내린': 1297, '내릴': 1298, '내면': 1299, '내밀어': 1300, '내부': 1301, '내서': 1302, '내셔야': 1303, '내시': 1304, '내야': 1305, '내어': 1306, '내연': 1307, '내용': 1308, '내일': 1309, '내장': 1310, '내주셔서': 1311, '내주시고': 1312, '내주시면': 1313, '내지': 1314, '낸': 1315, '낸다는': 1316, '낸싱': 1317, '낼': 1318, '냄비': 1319, '냅니다': 1320, '냅킨': 1321, '냈습니까': 1322, '냉각': 1323, '냉동고': 1324, '냉면': 1325, '냉장': 1326, '너': 1327, '너무': 1328, '너무나': 1329, '너무해': 1330, '너비': 1331, '너희': 1332, '널': 1333, '널리': 1334, '넓기만': 1335, '넓습니다': 1336, '넓어서': 1337, '넓으니': 1338, '넓은': 1339, '넓은가요': 1340, '넓히고': 1341, '넘게': 1342, '넘기시면': 1343, '넘는': 1344, '넘버': 1345, '넘습니다': 1346, '넘어가겠습니다': 1347, '넘어갈': 1348, '넘어갑시다': 1349, '넘어설': 1350, '넘어지거나': 1351, '넘었고': 1352, '넘었습니다': 1353, '넘으면': 1354, '넘쳐나는': 1355, '넘치시네요': 1356, '넣기': 1357, '넣는': 1358, '넣어': 1359, '넣어서': 1360, '넣어야': 1361, '넣었다': 1362, '넣을': 1363, '넣지': 1364, '네': 1365, '네가지': 1366, '네트워크': 1367, '네트워킹': 1368, '넷째': 1369, '년': 1370, '노': 1371, '노고': 1372, '노동자': 1373, '노란색': 1374, '노래': 1375, '노래방': 1376, '노력': 1377, '노인': 1378, '노점': 1379, '노출': 1380, '노트북': 1381, '노프': 1382, '녹색': 1383, '녹음': 1384, '녹이게': 1385, '녹차': 1386, '녹화': 1387, '논란': 1388, '논문': 1389, '논의': 1390, '논픽션': 1391, '놀': 1392, '놀라긴': 1393, '놀라운': 1394, '놀라워요': 1395, '놀랄': 1396, '놀랍군요': 1397, '놀랍습니다': 1398, '놀랍죠': 1399, '놀랐습니다': 1400, '놀랐어요': 1401, '놀랐지만': 1402, '놀이터': 1403, '농': 1404, '농기': 1405, '농기구': 1406, '농담': 1407, '농부': 1408, '농어': 1409, '농업': 1410, '농작물': 1411, '높다고': 1412, '높습니까': 1413, '높습니다': 1414, '높아서': 1415, '높아요': 1416, '높아져': 1417, '높아집니다': 1418, '높였습니다': 1419, '높으면': 1420, '높은': 1421, '높을': 1422, '높을수록': 1423, '높이': 1424, '높이기': 1425, '높이는': 1426, '높이려면': 1427, '놓아야': 1428, '놓았으니': 1429, '놓았으며': 1430, '놓을': 1431, '놓을게요': 1432, '놓이네요': 1433, '놓쳐': 1434, '놓쳤을': 1435, '놓치는': 1436, '놓치지': 1437, '놓친': 1438, '뇌파': 1439, '누가': 1440, '누구': 1441, '누구신지': 1442, '누군가': 1443, '누군지': 1444, '누락': 1445, '누려': 1446, '누르는데': 1447, '누르면': 1448, '누르세요': 1449, '누르시면': 1450, '누리': 1451, '누릴': 1452, '누수': 1453, '눈': 1454, '눌러야': 1455, '눌렀어요': 1456, '눌릴': 1457, '뉴스': 1458, '뉴스레터': 1459, '뉴욕': 1460, '뉴질랜드': 1461, '느껴져요': 1462, '느껴지네요': 1463, '느껴지실지': 1464, '느껴지지': 1465, '느끼기': 1466, '느끼지': 1467, '느낄': 1468, '느낌': 1469, '느낍니다': 1470, '느리게': 1471, '느리며': 1472, '느리면': 1473, '느린': 1474, '느슨한': 1475, '는': 1476, '늘': 1477, '늘리고': 1478, '늘리기': 1479, '늘리는': 1480, '늘릴': 1481, '늘어나고': 1482, '늘어나는': 1483, '늘어납니다': 1484, '늘어났습니다': 1485, '늙어가고': 1486, '능력': 1487, '늦': 1488, '늦어서': 1489, '늦어진': 1490, '늦었으니': 1491, '늦었음에도': 1492, '늦은': 1493, '니': 1494, '님': 1495, '다': 1496, '다가': 1497, '다가갈': 1498, '다가오는': 1499, '다국적': 1500, '다녀오겠습니다': 1501, '다녀왔습니다': 1502, '다년': 1503, '다니는': 1504, '다단계': 1505, '다도': 1506, '다듬을': 1507, '다량': 1508, '다루고': 1509, '다루는': 1510, '다루어': 1511, '다루어질': 1512, '다루죠': 1513, '다룰': 1514, '다룹니다': 1515, '다뤄야': 1516, '다르게': 1517, '다르겠지만': 1518, '다르고': 1519, '다르니까': 1520, '다르다는': 1521, '다르므로': 1522, '다르죠': 1523, '다르지': 1524, '다르지만': 1525, '다른': 1526, '다를': 1527, '다름이': 1528, '다릅니까': 1529, '다릅니다': 1530, '다리미': 1531, '다만': 1532, '다섯': 1533, '다섯째': 1534, '다소': 1535, '다시': 1536, '다시는': 1537, '다양성': 1538, '다양하게': 1539, '다양한': 1540, '다양합니까': 1541, '다양합니다': 1542, '다양해요': 1543, '다용': 1544, '다운': 1545, '다운로드': 1546, '다음': 1547, '다음주': 1548, '다이닝': 1549, '다인': 1550, '다채로웠으': 1551, '다큐멘터리': 1552, '다해': 1553, '다행': 1554, '다행히': 1555, '단': 1556, '단가': 1557, '단거리': 1558, '단계': 1559, '단골': 1560, '단기': 1561, '단기간': 1562, '단단한': 1563, '단독': 1564, '단돈': 1565, '단말기': 1566, '단백질': 1567, '단순하게': 1568, '단순하고': 1569, '단순한': 1570, '단순해요': 1571, '단순히': 1572, '단어': 1573, '단열': 1574, '단위': 1575, '단일': 1576, '단점': 1577, '단정하게': 1578, '단지': 1579, '단체': 1580, '단편': 1581, '단합': 1582, '닫습니다': 1583, '닫을': 1584, '달': 1585, '달라': 1586, '달라지기': 1587, '달라질': 1588, '달라집니다': 1589, '달러': 1590, '달려': 1591, '달려있습니다': 1592, '달리': 1593, '달린': 1594, '달성': 1595, '달았으면': 1596, '달이': 1597, '달콤한': 1598, '닭': 1599, '닭고기': 1600, '닭발': 1601, '담': 1602, '담가': 1603, '담겨': 1604, '담고': 1605, '담당': 1606, '담당자': 1607, '담배': 1608, '담백한': 1609, '담보': 1610, '담아': 1611, '담은': 1612, '답': 1613, '답니': 1614, '답답했지만': 1615, '답변': 1616, '답장': 1617, '답지': 1618, '당': 1619, '당국': 1620, '당근': 1621, '당분간': 1622, '당사': 1623, '당사자': 1624, '당시': 1625, '당신': 1626, '당연하죠': 1627, '당연한': 1628, '당연합니다': 1629, '당연히': 1630, '당일': 1631, '당장': 1632, '당하지': 1633, '당할': 1634, '당황': 1635, '대': 1636, '대가': 1637, '대고': 1638, '대구': 1639, '대규모': 1640, '대금': 1641, '대기': 1642, '대기업': 1643, '대나무': 1644, '대다수': 1645, '대단하네요': 1646, '대단한': 1647, '대단합니다': 1648, '대단히': 1649, '대답': 1650, '대략': 1651, '대량': 1652, '대로': 1653, '대륙': 1654, '대를': 1655, '대리인': 1656, '대리점': 1657, '대만': 1658, '대박': 1659, '대본': 1660, '대부분': 1661, '대비': 1662, '대상': 1663, '대상자': 1664, '대신': 1665, '대안': 1666, '대야': 1667, '대에': 1668, '대에는': 1669, '대여': 1670, '대역': 1671, '대역폭': 1672, '대와': 1673, '대요': 1674, '대유행': 1675, '대응': 1676, '대의': 1677, '대입': 1678, '대적': 1679, '대접': 1680, '대중': 1681, '대지': 1682, '대책': 1683, '대처': 1684, '대체': 1685, '대출': 1686, '대출받을': 1687, '대충': 1688, '대치': 1689, '대칭': 1690, '대통령': 1691, '대폭': 1692, '대표': 1693, '대피소': 1694, '대학': 1695, '대학교': 1696, '대한': 1697, '대한민국': 1698, '대해': 1699, '대행': 1700, '대형': 1701, '대화': 1702, '댓글': 1703, '더': 1704, '더뎌지게': 1705, '더듬거나': 1706, '더라도': 1707, '더블': 1708, '더욱': 1709, '더위': 1710, '더하고': 1711, '더하면': 1712, '덕분': 1713, '덜': 1714, '덜고': 1715, '덜어줄': 1716, '덤프': 1717, '덤프트럭': 1718, '덥습니다': 1719, '덧붙여서': 1720, '덧붙일게요': 1721, '덩굴': 1722, '데': 1723, '데도': 1724, '데려': 1725, '데려갈': 1726, '데려갑니다': 1727, '데려오고': 1728, '데리': 1729, '데모': 1730, '데뷔': 1731, '데스크': 1732, '데스크탑': 1733, '데워': 1734, '데이터': 1735, '데이터베이스': 1736, '데이트': 1737, '데코': 1738, '데크': 1739, '덴마크': 1740, '도': 1741, '도구': 1742, '도넛': 1743, '도달': 1744, '도대체': 1745, '도로': 1746, '도록': 1747, '도를': 1748, '도매': 1749, '도메인': 1750, '도서관': 1751, '도시': 1752, '도시락': 1753, '도안': 1754, '도어': 1755, '도와주나요': 1756, '도와주는': 1757, '도와주셔서': 1758, '도와주셨으면': 1759, '도와주시겠어요': 1760, '도와주실': 1761, '도와주십시오': 1762, '도와주죠': 1763, '도와줄': 1764, '도와줄게요': 1765, '도와줬으면': 1766, '도용': 1767, '도우': 1768, '도우미': 1769, '도울': 1770, '도움': 1771, '도움말': 1772, '도입': 1773, '도전': 1774, '도착': 1775, '도체': 1776, '도쿄': 1777, '독립': 1778, '독방': 1779, '독일': 1780, '독자': 1781, '독점': 1782, '독촉': 1783, '독특한': 1784, '독특합니다': 1785, '돈': 1786, '돈벌이': 1787, '돋보이게': 1788, '돋보일': 1789, '돌려': 1790, '돌려서': 1791, '돌려야': 1792, '돌려주세요': 1793, '돌볼': 1794, '돌봐': 1795, '돌아가게': 1796, '돌아가는지': 1797, '돌아가라고': 1798, '돌아가면': 1799, '돌아가죠': 1800, '돌아갑니다': 1801, '돌아오겠습니다': 1802, '돌아오시는': 1803, '돌아온': 1804, '돌아올': 1805, '돌아올지': 1806, '돌잔치': 1807, '돌파': 1808, '돔': 1809, '돕고': 1810, '돕기': 1811, '돕는': 1812, '돕습니다': 1813, '동': 1814, '동감': 1815, '동거': 1816, '동기': 1817, '동남아시아': 1818, '동네': 1819, '동등': 1820, '동료': 1821, '동물': 1822, '동물성': 1823, '동반': 1824, '동부': 1825, '동생': 1826, '동시': 1827, '동안': 1828, '동양': 1829, '동영상': 1830, '동의': 1831, '동인': 1832, '동일': 1833, '동일시': 1834, '동일하지': 1835, '동일한': 1836, '동일한가요': 1837, '동일합니다': 1838, '동일해요': 1839, '동전': 1840, '동참': 1841, '동행': 1842, '동향': 1843, '돼': 1844, '돼가나요': 1845, '돼서': 1846, '돼요': 1847, '돼지': 1848, '돼지고기': 1849, '됐고': 1850, '됐네요': 1851, '됐는지': 1852, '됐습니다': 1853, '됐어요': 1854, '됐으면': 1855, '됐을': 1856, '됐죠': 1857, '되': 1858, '되거든요': 1859, '되게': 1860, '되겠네요': 1861, '되겠습니다': 1862, '되겠으니': 1863, '되겠죠': 1864, '되고': 1865, '되기': 1866, '되기까지': 1867, '되길': 1868, '되나요': 1869, '되네요': 1870, '되는': 1871, '되는거죠': 1872, '되는군요': 1873, '되는데': 1874, '되는데요': 1875, '되는지': 1876, '되더라고요': 1877, '되도록': 1878, '되돌릴': 1879, '되려면': 1880, '되며': 1881, '되면': 1882, '되므로': 1883, '되세요': 1884, '되셔서': 1885, '되셨다면': 1886, '되셨습니까': 1887, '되시고': 1888, '되시길': 1889, '되시나요': 1890, '되시죠': 1891, '되신': 1892, '되실': 1893, '되십시오': 1894, '되어': 1895, '되어가는지': 1896, '되어도': 1897, '되어서': 1898, '되어서는': 1899, '되어서요': 1900, '되어야': 1901, '되어요': 1902, '되어있었어요': 1903, '되어주셔서': 1904, '되었': 1905, '되었고': 1906, '되었기': 1907, '되었나요': 1908, '되었네요': 1909, '되었는지': 1910, '되었다고': 1911, '되었다는': 1912, '되었습니다': 1913, '되었어요': 1914, '되었으며': 1915, '되었으면': 1916, '되었으므로': 1917, '되었을': 1918, '되었음': 1919, '되었죠': 1920, '되죠': 1921, '되지': 1922, '되지는': 1923, '되지만': 1924, '되지요': 1925, '되찾지': 1926, '된': 1927, '된다': 1928, '된다고': 1929, '된다는': 1930, '된다면': 1931, '된답니다': 1932, '될': 1933, '될까': 1934, '됨에': 1935, '됩니까': 1936, '됩니다': 1937, '두': 1938, '두겠습니다': 1939, '두겠으며': 1940, '두고': 1941, '두기': 1942, '두꺼운': 1943, '두드렸어요': 1944, '두려워': 1945, '두세요': 1946, '두셔야': 1947, '두셨으면': 1948, '두시': 1949, '두시겠어요': 1950, '두었기': 1951, '두었는데': 1952, '두었다가': 1953, '두었습니다': 1954, '두운': 1955, '두지': 1956, '둔': 1957, '둘': 1958, '둘러보세요': 1959, '둘러싸고': 1960, '둘째': 1961, '둡니다': 1962, '둬야': 1963, '둬요': 1964, '뒀습니다': 1965, '뒀어요': 1966, '뒤': 1967, '뒷': 1968, '뒷마당': 1969, '뒷받침': 1970, '듀얼': 1971, '드': 1972, '드나': 1973, '드는': 1974, '드는지': 1975, '드디어': 1976, '드라마': 1977, '드라이브': 1978, '드러났습니까': 1979, '드럼': 1980, '드레스': 1981, '드레싱': 1982, '드려': 1983, '드려도': 1984, '드려서': 1985, '드려야': 1986, '드려야겠네요': 1987, '드려요': 1988, '드렸는데': 1989, '드렸다니': 1990, '드렸던': 1991, '드렸습니다': 1992, '드렸습니다만': 1993, '드렸어요': 1994, '드렸었는데': 1995, '드렸으니': 1996, '드렸으며': 1997, '드렸잖아요': 1998, '드렸지만': 1999, '드로잉': 2000, '드리게': 2001, '드리겠고': 2002, '드리겠다고': 2003, '드리겠습니다': 2004, '드리겠습니다만': 2005, '드리겠어요': 2006, '드리겠지만': 2007, '드리고': 2008, '드리고자': 2009, '드리기': 2010, '드리기로': 2011, '드리길': 2012, '드리는': 2013, '드리도록': 2014, '드리려': 2015, '드리려고': 2016, '드리며': 2017, '드리면': 2018, '드리지': 2019, '드린': 2020, '드릴': 2021, '드릴게요': 2022, '드릴께요': 2023, '드릴테니': 2024, '드립니다': 2025, '드세요': 2026, '드셔': 2027, '드셨나요': 2028, '드셨다니': 2029, '드셨다면': 2030, '드셨으면': 2031, '드시겠습니까': 2032, '드시겠어요': 2033, '드시고': 2034, '드시길': 2035, '드시나요': 2036, '드실': 2037, '드실거라': 2038, '드실래요': 2039, '드십니까': 2040, '든': 2041, '듣게': 2042, '듣고': 2043, '듣기': 2044, '듣네요': 2045, '듣는': 2046, '듣다': 2047, '듣던': 2048, '듣도록': 2049, '듣지': 2050, '들': 2051, '들거나': 2052, '들고': 2053, '들까': 2054, '들께': 2055, '들떠있어요': 2056, '들려요': 2057, '들려주셨어요': 2058, '들렸습니다': 2059, '들를': 2060, '들리겠지만': 2061, '들리고': 2062, '들리긴': 2063, '들리네요': 2064, '들리는데': 2065, '들리는데요': 2066, '들리시나요': 2067, '들리지만': 2068, '들릴지': 2069, '들립니다': 2070, '들면': 2071, '들어': 2072, '들어가거든요': 2073, '들어가고': 2074, '들어가는데': 2075, '들어가든': 2076, '들어가야': 2077, '들어갈': 2078, '들어갑니다': 2079, '들어서': 2080, '들어야': 2081, '들어오면': 2082, '들어올': 2083, '들어왔습니다': 2084, '들어왔어요': 2085, '들어요': 2086, '들어있나요': 2087, '들어있습니다': 2088, '들어주셔서': 2089, '들어주시고': 2090, '들어준다면': 2091, '들었고': 2092, '들었는데': 2093, '들었는데요': 2094, '들었습니다': 2095, '들었어요': 2096, '들었으니': 2097, '들였습니다': 2098, '들으니': 2099, '들으세요': 2100, '들으셨나요': 2101, '들은': 2102, '들을': 2103, '들이': 2104, '들이죠': 2105, '들일': 2106, '들입니다': 2107, '들자면': 2108, '들지': 2109, '듭': 2110, '듭니': 2111, '등': 2112, '등급': 2113, '등등': 2114, '등록': 2115, '등록증': 2116, '등본': 2117, '등장': 2118, '디네': 2119, '디럭스': 2120, '디바이스': 2121, '디스크': 2122, '디스플레이': 2123, '디시': 2124, '디자이너': 2125, '디자인': 2126, '디저스터': 2127, '디저트': 2128, '디젤': 2129, '디지털': 2130, '디지털로': 2131, '딜러': 2132, '딥': 2133, '딩기': 2134, '따냈습니다': 2135, '따뜻하게': 2136, '따뜻한': 2137, '따라': 2138, '따라가고': 2139, '따라서': 2140, '따라야': 2141, '따라오세요': 2142, '따라주세요': 2143, '따로': 2144, '따르고': 2145, '따르고자': 2146, '따르기': 2147, '따르는': 2148, '따르는지': 2149, '따르면': 2150, '따른': 2151, '따를게요': 2152, '딱': 2153, '딱입니다': 2154, '딸린': 2155, '땀': 2156, '때': 2157, '때때로': 2158, '때로는': 2159, '때문': 2160, '떠나지': 2161, '떠올랐는데': 2162, '떡': 2163, '떡볶이': 2164, '떨고': 2165, '떨어뜨리지': 2166, '떨어져': 2167, '떨어졌거든요': 2168, '떨어졌기': 2169, '떨어졌나요': 2170, '떨어지고': 2171, '떨어지는': 2172, '떨어지면': 2173, '떨어지지': 2174, '떨어진': 2175, '떨어질': 2176, '떨어집니다': 2177, '떨지': 2178, '또': 2179, '또는': 2180, '또래': 2181, '또한': 2182, '똑같고': 2183, '똑같습니다': 2184, '똑똑한': 2185, '똑바로': 2186, '뚜렷한': 2187, '뛰어난': 2188, '뛰어납니다': 2189, '뛰어들고': 2190, '뜨개질': 2191, '뜨고': 2192, '뜨는': 2193, '뜰': 2194, '뜻': 2195, '뜻입': 2196, '띄게': 2197, '띄는': 2198, '띄지요': 2199, '라디오': 2200, '라면': 2201, '라발': 2202, '라서': 2203, '라우터': 2204, '라운드': 2205, '라운지': 2206, '라이': 2207, '라이브': 2208, '라이브러리': 2209, '라이선스': 2210, '라이센스': 2211, '라이트': 2212, '라이트닝': 2213, '라이프스타일': 2214, '라인': 2215, '라인업': 2216, '란': 2217, '랍니': 2218, '래야': 2219, '랙티브': 2220, '랜드': 2221, '랩': 2222, '랩톱': 2223, '량': 2224, '러': 2225, '러너': 2226, '러닝': 2227, '러시': 2228, '럭셔리': 2229, '런가': 2230, '런던': 2231, '런칭': 2232, '레드': 2233, '레벨': 2234, '레스토랑': 2235, '레시피': 2236, '레어': 2237, '레이': 2238, '레이블': 2239, '레이아웃': 2240, '레인': 2241, '레지스트리': 2242, '레코드': 2243, '레크리에이션': 2244, '레터': 2245, '렌더링': 2246, '렌즈': 2247, '렌탈': 2248, '렌터카': 2249, '렌틸': 2250, '려고': 2251, '려면': 2252, '령': 2253, '로': 2254, '로고': 2255, '로그': 2256, '로그아웃': 2257, '로그온': 2258, '로그인': 2259, '로더': 2260, '로드': 2261, '로드맵': 2262, '로만': 2263, '로봇': 2264, '로부터': 2265, '로비': 2266, '로서': 2267, '로열티': 2268, '로터리': 2269, '로트': 2270, '록': 2271, '론': 2272, '론칭': 2273, '롤': 2274, '롤러': 2275, '롤플레잉': 2276, '롭': 2277, '료': 2278, '루프': 2279, '룸': 2280, '룸메이트': 2281, '룸서비스': 2282, '룸셰어': 2283, '륜': 2284, '률': 2285, '를': 2286, '리': 2287, '리가': 2288, '리기': 2289, '리뉴얼': 2290, '리더': 2291, '리드': 2292, '리디렉션': 2293, '리버풀': 2294, '리뷰': 2295, '리셉션': 2296, '리소스': 2297, '리스크': 2298, '리스트': 2299, '리조트': 2300, '리지': 2301, '리캐': 2302, '리커버리': 2303, '리테일': 2304, '리퍼': 2305, '리프트': 2306, '리허설': 2307, '린다': 2308, '릴': 2309, '링': 2310, '링스': 2311, '링크': 2312, '마': 2313, '마감': 2314, '마개': 2315, '마늘': 2316, '마닐라': 2317, '마다': 2318, '마당': 2319, '마드리드': 2320, '마땅치': 2321, '마력': 2322, '마련': 2323, '마리': 2324, '마무리': 2325, '마법': 2326, '마사지': 2327, '마세요': 2328, '마셔': 2329, '마셔요': 2330, '마스코트': 2331, '마스크': 2332, '마스터': 2333, '마시고': 2334, '마시고요': 2335, '마시기': 2336, '마시길': 2337, '마시는': 2338, '마시도록': 2339, '마시며': 2340, '마실': 2341, '마실게요': 2342, '마십시다': 2343, '마십시오': 2344, '마우스': 2345, '마을': 2346, '마음': 2347, '마이너스': 2348, '마이크': 2349, '마인더': 2350, '마인드': 2351, '마중': 2352, '마지막': 2353, '마차': 2354, '마찬가지': 2355, '마쳤습니다': 2356, '마쳤어요': 2357, '마치는': 2358, '마치는데': 2359, '마치도록': 2360, '마친': 2361, '마칠게요': 2362, '마침': 2363, '마침내': 2364, '마케터': 2365, '마케터입니': 2366, '마케팅': 2367, '마포구': 2368, '막': 2369, '막걸리': 2370, '막기': 2371, '막대': 2372, '막히는': 2373, '만': 2374, '만기': 2375, '만기일': 2376, '만나': 2377, '만나게': 2378, '만나고': 2379, '만나기': 2380, '만나기로': 2381, '만나기를': 2382, '만나는데': 2383, '만나러': 2384, '만나서': 2385, '만나실': 2386, '만나야': 2387, '만나요': 2388, '만난': 2389, '만난다고': 2390, '만날': 2391, '만났습니다': 2392, '만도': 2393, '만두': 2394, '만드나': 2395, '만드는': 2396, '만드는지': 2397, '만드시는지': 2398, '만드십니까': 2399, '만든': 2400, '만든다고': 2401, '만든다는': 2402, '만들': 2403, '만들게': 2404, '만들게요': 2405, '만들겠습니다': 2406, '만들고': 2407, '만들기': 2408, '만들려고': 2409, '만들려면': 2410, '만들어': 2411, '만들어요': 2412, '만들어져': 2413, '만들어져요': 2414, '만들어졌나요': 2415, '만들어졌는지': 2416, '만들어졌습니다': 2417, '만들어지는지': 2418, '만들어진': 2419, '만들어집니다': 2420, '만들었고': 2421, '만들었습니다': 2422, '만들었어요': 2423, '만들었죠': 2424, '만듭니': 2425, '만료': 2426, '만약': 2427, '만이': 2428, '만일': 2429, '만족': 2430, '만족스러우면': 2431, '만족스럽습니다': 2432, '만족하고': 2433, '만족하세요': 2434, '만족하시길': 2435, '만족하지': 2436, '만족할': 2437, '만족합니다': 2438, '만족해': 2439, '만찬': 2440, '만큼': 2441, '만화': 2442, '만회': 2443, '많겠죠': 2444, '많고': 2445, '많네요': 2446, '많다고': 2447, '많다는': 2448, '많습니다': 2449, '많아서': 2450, '많아서요': 2451, '많아요': 2452, '많아지는': 2453, '많았답니다': 2454, '많았습니다': 2455, '많았죠': 2456, '많으니': 2457, '많으니까': 2458, '많으셨습니다': 2459, '많으시네요': 2460, '많은': 2461, '많은지': 2462, '많을': 2463, '많이': 2464, '많이는': 2465, '많잖아요': 2466, '말': 2467, '말레이시아': 2468, '말씀': 2469, '말씀드렸다시피': 2470, '말씀드렸듯이': 2471, '말씀드렸었나요': 2472, '말씀드리겠습니다': 2473, '말씀드리고': 2474, '말씀드리는데': 2475, '말씀드린': 2476, '말씀드릴': 2477, '말아야': 2478, '말아주세요': 2479, '말이네요': 2480, '맙소사': 2481, '맛': 2482, '맛보고': 2483, '맛보지': 2484, '맛볼': 2485, '맛있게': 2486, '맛있겠다': 2487, '맛있는': 2488, '맛있었길': 2489, '맛집': 2490, '맜있는': 2491, '망칠': 2492, '맞게': 2493, '맞나요': 2494, '맞네요': 2495, '맞는': 2496, '맞는지': 2497, '맞다면': 2498, '맞서고': 2499, '맞습니까': 2500, '맞습니다': 2501, '맞아': 2502, '맞아요': 2503, '맞으시죠': 2504, '맞으신': 2505, '맞으실까': 2506, '맞을': 2507, '맞을까요': 2508, '맞죠': 2509, '맞지': 2510, '맞추고': 2511, '맞추도록': 2512, '맞춤': 2513, '맞춰': 2514, '맞춰야': 2515, '맞춰져': 2516, '맡겨주셔서': 2517, '맡기겠습니다': 2518, '맡길': 2519, '맡습니다': 2520, '맡아주실': 2521, '맡을': 2522, '맡죠': 2523, '매': 2524, '매각': 2525, '매거진은': 2526, '매거진의': 2527, '매길': 2528, '매끄럽게': 2529, '매너': 2530, '매년': 2531, '매니저': 2532, '매달': 2533, '매도': 2534, '매력': 2535, '매료': 2536, '매매': 2537, '매물': 2538, '매번': 2539, '매수': 2540, '매우': 2541, '매운': 2542, '매월': 2543, '매일': 2544, '매입': 2545, '매장': 2546, '매점': 2547, '매주': 2548, '매진': 2549, '매체': 2550, '매출': 2551, '매치': 2552, '매크로': 2553, '매트': 2554, '매트리스': 2555, '매핑': 2556, '맥락': 2557, '맥주': 2558, '맨': 2559, '맬웨어': 2560, '맵': 2561, '맵핑': 2562, '맺고': 2563, '맺기': 2564, '맺는': 2565, '맺었습니다': 2566, '머': 2567, '머니': 2568, '머드': 2569, '머리': 2570, '머무는': 2571, '머무르는': 2572, '머무르려고': 2573, '머무르실': 2574, '머무를': 2575, '머물': 2576, '머물게': 2577, '머물고': 2578, '머물기에': 2579, '머신': 2580, '먹게': 2581, '먹고': 2582, '먹기': 2583, '먹는': 2584, '먹방': 2585, '먹습니다': 2586, '먹어': 2587, '먹어야': 2588, '먹었어요': 2589, '먹으라고': 2590, '먹으면': 2591, '먹으면서': 2592, '먹을': 2593, '먹을게요': 2594, '먹을래요': 2595, '먹이': 2596, '먼': 2597, '먼저': 2598, '먼지': 2599, '멀': 2600, '멀리': 2601, '멈추지': 2602, '멈춥니다': 2603, '멋져요': 2604, '멋지네요': 2605, '멋지다': 2606, '멋진': 2607, '멋질': 2608, '멋집니다': 2609, '멎을': 2610, '메가바이트': 2611, '메가비트': 2612, '메뉴': 2613, '메뉴판': 2614, '메모': 2615, '메시': 2616, '메시지': 2617, '메이커': 2618, '메이크업': 2619, '메인': 2620, '메일': 2621, '메커니즘': 2622, '메타': 2623, '멜론': 2624, '멤버': 2625, '멤버십': 2626, '며칠': 2627, '면': 2628, '면역': 2629, '면적': 2630, '면접': 2631, '면제': 2632, '면직물': 2633, '면책': 2634, '면허': 2635, '면허증': 2636, '명': 2637, '명과': 2638, '명당': 2639, '명령': 2640, '명백하지만': 2641, '명백히': 2642, '명분': 2643, '명상': 2644, '명세서': 2645, '명시': 2646, '명의': 2647, '명인': 2648, '명칭': 2649, '명품': 2650, '명함': 2651, '명확하게': 2652, '명확하지': 2653, '명확한': 2654, '명확히': 2655, '몇': 2656, '몇대': 2657, '몇몇': 2658, '모': 2659, '모국': 2660, '모국어': 2661, '모금': 2662, '모기': 2663, '모기지': 2664, '모기지론': 2665, '모니터': 2666, '모니터링': 2667, '모델': 2668, '모뎀': 2669, '모두': 2670, '모듈': 2671, '모드': 2672, '모든': 2673, '모레': 2674, '모르거든요': 2675, '모르겠네요': 2676, '모르겠습니다': 2677, '모르겠어요': 2678, '모르겠으니': 2679, '모르겠지만': 2680, '모르기': 2681, '모르는': 2682, '모르니': 2683, '모르시나요': 2684, '모르지만': 2685, '모르타르': 2686, '모릅니다': 2687, '모바일': 2688, '모범': 2689, '모색': 2690, '모서리': 2691, '모습': 2692, '모시': 2693, '모시기에': 2694, '모시도록': 2695, '모실': 2696, '모아': 2697, '모양': 2698, '모여있어요': 2699, '모욕': 2700, '모을': 2701, '모의고사': 2702, '모임': 2703, '모자': 2704, '모터': 2705, '모터보트': 2706, '모텔': 2707, '모티브': 2708, '모험': 2709, '모형': 2710, '목걸이': 2711, '목격': 2712, '목록': 2713, '목별': 2714, '목소리': 2715, '목요일': 2716, '목욕': 2717, '목욕탕': 2718, '목적': 2719, '목적지': 2720, '목표': 2721, '몫': 2722, '몬순': 2723, '몰': 2724, '몰과': 2725, '몰두하고': 2726, '몰라서': 2727, '몰라요': 2728, '몰랐네요': 2729, '몰랐습니다': 2730, '몰랐어요': 2731, '몰이': 2732, '몸': 2733, '못': 2734, '묘목': 2735, '무': 2736, '무거운': 2737, '무게': 2738, '무너졌습니다': 2739, '무늬': 2740, '무대': 2741, '무드': 2742, '무례하고': 2743, '무례한': 2744, '무료': 2745, '무리': 2746, '무사하시길': 2747, '무서워서': 2748, '무선': 2749, '무슨': 2750, '무시': 2751, '무언가': 2752, '무엇': 2753, '무역': 2754, '무역수지': 2755, '무용': 2756, '무의미하게': 2757, '무작위': 2758, '무제한': 2759, '무중력': 2760, '무지': 2761, '묵': 2762, '묵고': 2763, '묵는': 2764, '묵시': 2765, '묵어야': 2766, '묵으셔도': 2767, '묶음': 2768, '문': 2769, '문득': 2770, '문법': 2771, '문서': 2772, '문신': 2773, '문의': 2774, '문의사항': 2775, '문자': 2776, '문제': 2777, '문제점': 2778, '문하': 2779, '문화': 2780, '묻고': 2781, '묻습니다': 2782, '물': 2783, '물가상승률': 2784, '물건': 2785, '물고기': 2786, '물론': 2787, '물류': 2788, '물리': 2789, '물속': 2790, '물어보겠습니다': 2791, '물어보고': 2792, '물어보려고': 2793, '물어보세요': 2794, '물어본다고': 2795, '물어봐': 2796, '물어봐도': 2797, '물어봤습니다': 2798, '물었습니다': 2799, '물의': 2800, '물이': 2801, '물질': 2802, '물체': 2803, '물품': 2804, '뭐': 2805, '뭐라고': 2806, '뭔': 2807, '뭔가': 2808, '뭘': 2809, '뮤직': 2810, '뮤추얼': 2811, '므': 2812, '미': 2813, '미결': 2814, '미국': 2815, '미국법': 2816, '미끼': 2817, '미납': 2818, '미니': 2819, '미니멀리즘': 2820, '미니바': 2821, '미디어': 2822, '미디엄': 2823, '미래': 2824, '미를': 2825, '미리': 2826, '미만': 2827, '미세하거나': 2828, '미수': 2829, '미슐랭': 2830, '미스': 2831, '미안하지만': 2832, '미약': 2833, '미얀마': 2834, '미용': 2835, '미적': 2836, '미지': 2837, '미치': 2838, '미치나': 2839, '미치는': 2840, '미치는지': 2841, '미칠': 2842, '미칠지': 2843, '미칩니다': 2844, '미터': 2845, '미팅': 2846, '미혼': 2847, '믹서': 2848, '민간': 2849, '민물': 2850, '민원': 2851, '민팅': 2852, '믿고': 2853, '믿기': 2854, '믿기지': 2855, '믿습니다': 2856, '믿어': 2857, '믿어요': 2858, '믿어주세요': 2859, '믿어주셔서': 2860, '믿으세요': 2861, '믿으실': 2862, '믿으십시오': 2863, '믿을': 2864, '믿지': 2865, '밀가루': 2866, '밀고': 2867, '밀레': 2868, '밀린': 2869, '밀어': 2870, '밀크티숍': 2871, '밀회': 2872, '및': 2873, '밑': 2874, '바': 2875, '바꾸거나': 2876, '바꾸고': 2877, '바꾸면': 2878, '바꾸셔야': 2879, '바꾸실': 2880, '바꾼': 2881, '바꿀': 2882, '바꿔': 2883, '바꿔야': 2884, '바꿨습니다': 2885, '바꿨어요': 2886, '바뀌나요': 2887, '바뀌었습니다': 2888, '바뀌지': 2889, '바뀌지는': 2890, '바뀐': 2891, '바뀝니다': 2892, '바나나': 2893, '바늘': 2894, '바다': 2895, '바닥': 2896, '바닥나는': 2897, '바닷물': 2898, '바디': 2899, '바라겠으니': 2900, '바라고요': 2901, '바라는': 2902, '바라며': 2903, '바라보는': 2904, '바라시나요': 2905, '바라요': 2906, '바라지': 2907, '바랄게요': 2908, '바람': 2909, '바람직하지': 2910, '바랍니다': 2911, '바랐습니다': 2912, '바램': 2913, '바로': 2914, '바르고': 2915, '바를': 2916, '바베이도스': 2917, '바베큐': 2918, '바비큐': 2919, '바빠서': 2920, '바쁘셨나요': 2921, '바쁘지': 2922, '바쁜': 2923, '바쁠': 2924, '바쁩니다': 2925, '바위': 2926, '바이': 2927, '바이러스': 2928, '바이오': 2929, '바이트': 2930, '바쳤어요': 2931, '바퀴': 2932, '바탕': 2933, '박': 2934, '박람회': 2935, '박물관': 2936, '박사': 2937, '박스': 2938, '밖': 2939, '반': 2940, '반가운': 2941, '반가워요': 2942, '반갑습니다': 2943, '반길': 2944, '반납': 2945, '반년': 2946, '반대': 2947, '반대편': 2948, '반도체': 2949, '반드시': 2950, '반려': 2951, '반려견': 2952, '반려동물': 2953, '반면': 2954, '반영': 2955, '반응': 2956, '반찬': 2957, '반품': 2958, '받게': 2959, '받고': 2960, '받기로': 2961, '받기를': 2962, '받길': 2963, '받나요': 2964, '받네요': 2965, '받는': 2966, '받는다는': 2967, '받는지': 2968, '받습니다': 2969, '받아': 2970, '받아들여도': 2971, '받아들여질': 2972, '받아들이거나': 2973, '받아들이겠습니다': 2974, '받아들일': 2975, '받아서': 2976, '받아서요': 2977, '받아야': 2978, '받아요': 2979, '받아주셔서': 2980, '받아줄': 2981, '받았고': 2982, '받았기': 2983, '받았네요': 2984, '받았는데': 2985, '받았는지': 2986, '받았다': 2987, '받았다고': 2988, '받았습니까': 2989, '받았습니다': 2990, '받았어요': 2991, '받았으면': 2992, '받았죠': 2993, '받았지만': 2994, '받으려면': 2995, '받으면': 2996, '받으면서': 2997, '받으세요': 2998, '받으셔야': 2999, '받으셨나요': 3000, '받으셨는지': 3001, '받으셨잖아요': 3002, '받으시게': 3003, '받으시는': 3004, '받으시면': 3005, '받으신': 3006, '받으실': 3007, '받은': 3008, '받을': 3009, '받지': 3010, '발견': 3011, '발급': 3012, '발끝': 3013, '발복': 3014, '발생': 3015, '발송': 3016, '발신': 3017, '발자국': 3018, '발전': 3019, '발주': 3020, '발표': 3021, '발행': 3022, '발효': 3023, '발휘': 3024, '밝혀낼': 3025, '밝혀졌습니다': 3026, '밝혀지면': 3027, '밟아주세요': 3028, '밤': 3029, '밤낮': 3030, '밤늦게': 3031, '밤새도록': 3032, '밥': 3033, '밥그릇': 3034, '밧줄': 3035, '방': 3036, '방과': 3037, '방금': 3038, '방대한': 3039, '방문': 3040, '방문객': 3041, '방법': 3042, '방사성': 3043, '방송': 3044, '방송국': 3045, '방수': 3046, '방식': 3047, '방안': 3048, '방어': 3049, '방이': 3050, '방적': 3051, '방적기': 3052, '방지': 3053, '방출': 3054, '방침': 3055, '방해': 3056, '방향': 3057, '방화벽': 3058, '밭': 3059, '배': 3060, '배경': 3061, '배경음악': 3062, '배너': 3063, '배달': 3064, '배당금': 3065, '배려': 3066, '배분': 3067, '배색': 3068, '배송': 3069, '배송비': 3070, '배송지': 3071, '배수': 3072, '배우': 3073, '배우고': 3074, '배우기를': 3075, '배우는': 3076, '배우려는': 3077, '배우려면': 3078, '배우실': 3079, '배우십시오': 3080, '배우자': 3081, '배우죠': 3082, '배울': 3083, '배울수록': 3084, '배움': 3085, '배워': 3086, '배워야': 3087, '배웠다는': 3088, '배웠습니다': 3089, '배정': 3090, '배출': 3091, '배치': 3092, '배터리': 3093, '배포': 3094, '백': 3095, '백만': 3096, '백신': 3097, '백업': 3098, '백엔드': 3099, '밴과': 3100, '밴드': 3101, '밴은': 3102, '밸브': 3103, '뱅크': 3104, '뱅킹': 3105, '버': 3106, '버그': 3107, '버너': 3108, '버네': 3109, '버는': 3110, '버드': 3111, '버렸습니다': 3112, '버블': 3113, '버스': 3114, '버스정류장': 3115, '버전': 3116, '버터플라이': 3117, '버튼': 3118, '번': 3119, '번가': 3120, '번거로우시겠지만': 3121, '번거로워져요': 3122, '번거롭나요': 3123, '번거롭다고': 3124, '번식': 3125, '번역': 3126, '번역가': 3127, '번의': 3128, '번지': 3129, '번창': 3130, '번호': 3131, '벌': 3132, '벌고': 3133, '벌써': 3134, '벌어지고': 3135, '벌이': 3136, '범': 3137, '범위': 3138, '범인': 3139, '범죄': 3140, '범죄자': 3141, '범주': 3142, '법': 3143, '법률': 3144, '법원': 3145, '법인': 3146, '법인세': 3147, '법적': 3148, '법정': 3149, '벗어나나요': 3150, '벗어나지': 3151, '벗으라는': 3152, '베네수엘라': 3153, '베벨': 3154, '베스트셀러': 3155, '베어링': 3156, '베이스': 3157, '베타': 3158, '베테': 3159, '베트남': 3160, '벡터': 3161, '벤': 3162, '벤딩': 3163, '벤처캐피털': 3164, '벤츄리': 3165, '벤치': 3166, '벨': 3167, '벨트': 3168, '벽': 3169, '벽난로': 3170, '벽지': 3171, '변경': 3172, '변동': 3173, '변동성': 3174, '변명': 3175, '변속기': 3176, '변수': 3177, '변하네요': 3178, '변해요': 3179, '변호사': 3180, '변화': 3181, '변환': 3182, '별': 3183, '별관': 3184, '별도': 3185, '별로': 3186, '별장': 3187, '병': 3188, '병동': 3189, '병원': 3190, '병합': 3191, '보': 3192, '보거나': 3193, '보건': 3194, '보겠습니다': 3195, '보겠습니다만': 3196, '보겠지만': 3197, '보고': 3198, '보고서': 3199, '보관': 3200, '보기': 3201, '보내': 3202, '보내겠습니다': 3203, '보내고': 3204, '보내기를': 3205, '보내길': 3206, '보내는': 3207, '보내려고': 3208, '보내면': 3209, '보내서': 3210, '보내세요': 3211, '보내셔도': 3212, '보내셨어야죠': 3213, '보내시': 3214, '보내시고': 3215, '보내시기': 3216, '보내시길': 3217, '보내실': 3218, '보내십시오': 3219, '보내야': 3220, '보내온': 3221, '보내졌습니다': 3222, '보내주길': 3223, '보내주면': 3224, '보내주세요': 3225, '보내주셔서': 3226, '보내주셔야': 3227, '보내주시겠습니까': 3228, '보내주시겠어요': 3229, '보내주시기': 3230, '보내주시길': 3231, '보내주시면': 3232, '보내주신': 3233, '보내주실': 3234, '보내주십시오': 3235, '보내준다고': 3236, '보내줄': 3237, '보내줘서': 3238, '보내지': 3239, '보내질': 3240, '보낸': 3241, '보낼': 3242, '보낼까': 3243, '보냅니다': 3244, '보냈고': 3245, '보냈는데요': 3246, '보냈습니다': 3247, '보냈어요': 3248, '보냈지만': 3249, '보는': 3250, '보는데': 3251, '보니': 3252, '보다': 3253, '보다시피': 3254, '보던': 3255, '보도': 3256, '보도록': 3257, '보드': 3258, '보람': 3259, '보류': 3260, '보면': 3261, '보물': 3262, '보살핌으로': 3263, '보상': 3264, '보세요': 3265, '보셔도': 3266, '보셨나요': 3267, '보셨습니까': 3268, '보셨어요': 3269, '보셨으면': 3270, '보수': 3271, '보시': 3272, '보시겠습니까': 3273, '보시겠어요': 3274, '보시길': 3275, '보시다시피': 3276, '보실': 3277, '보실까': 3278, '보실래요': 3279, '보십시오': 3280, '보쌈': 3281, '보안': 3282, '보았고': 3283, '보았습니다': 3284, '보여': 3285, '보여요': 3286, '보여주고': 3287, '보여주기': 3288, '보여주는': 3289, '보여주세요': 3290, '보여줄': 3291, '보여줍니다': 3292, '보여줘': 3293, '보여줘요': 3294, '보여줬던': 3295, '보유': 3296, '보이': 3297, '보이네요': 3298, '보이는': 3299, '보이는군요': 3300, '보이는데': 3301, '보이는데요': 3302, '보이도록': 3303, '보이시나요': 3304, '보이지': 3305, '보인다': 3306, '보입니다': 3307, '보장': 3308, '보조': 3309, '보존': 3310, '보죠': 3311, '보증': 3312, '보증금': 3313, '보증인': 3314, '보지': 3315, '보철물': 3316, '보청기': 3317, '보통': 3318, '보트': 3319, '보행': 3320, '보험': 3321, '보험금': 3322, '보험료': 3323, '보험사': 3324, '보헤미안': 3325, '보호': 3326, '보호복': 3327, '복': 3328, '복구': 3329, '복사기': 3330, '복원': 3331, '복잡하다면': 3332, '복잡한': 3333, '복잡할': 3334, '복잡합니다': 3335, '복잡해서': 3336, '복잡해서요': 3337, '복장': 3338, '복판': 3339, '복호화': 3340, '볶음': 3341, '볶음밥': 3342, '본': 3343, '본드': 3344, '본론': 3345, '본부': 3346, '본사': 3347, '본인': 3348, '본체': 3349, '볼': 3350, '볼게요': 3351, '볼까': 3352, '볼륨': 3353, '볼일': 3354, '봄판': 3355, '봅니다': 3356, '봅시다': 3357, '봇': 3358, '봉쇄': 3359, '봐': 3360, '봐도': 3361, '봐야': 3362, '봐야겠어요': 3363, '봐요': 3364, '봐주세요': 3365, '봐주셨으면': 3366, '봐주시면': 3367, '봤는데': 3368, '봤습니다': 3369, '봤어요': 3370, '봤을': 3371, '봤지만': 3372, '뵐게요': 3373, '뵙게': 3374, '뵙겠습니다': 3375, '뵙는': 3376, '부': 3377, '부과': 3378, '부금': 3379, '부끄럽네요': 3380, '부담': 3381, '부당하다고': 3382, '부대': 3383, '부동산': 3384, '부두': 3385, '부드러운': 3386, '부드럽고': 3387, '부딪쳤습니다': 3388, '부딪히는': 3389, '부랍니다': 3390, '부로': 3391, '부록': 3392, '부르는': 3393, '부르셨나요': 3394, '부른': 3395, '부릅니다': 3396, '부모': 3397, '부모님': 3398, '부문': 3399, '부분': 3400, '부산': 3401, '부상': 3402, '부서': 3403, '부속품': 3404, '부수': 3405, '부양가족': 3406, '부업': 3407, '부엌': 3408, '부여': 3409, '부위': 3410, '부유한': 3411, '부응': 3412, '부의': 3413, '부인': 3414, '부자': 3415, '부작용': 3416, '부적': 3417, '부정': 3418, '부족': 3419, '부족하여': 3420, '부족해서': 3421, '부족해요': 3422, '부족했으며': 3423, '부지': 3424, '부착': 3425, '부채': 3426, '부처': 3427, '부츠': 3428, '부침개': 3429, '부탁': 3430, '부탁드려도': 3431, '부탁드려요': 3432, '부탁드립니다': 3433, '부터': 3434, '부팅': 3435, '부품': 3436, '부합': 3437, '부호화': 3438, '북': 3439, '북경어': 3440, '북미': 3441, '북부': 3442, '분': 3443, '분과': 3444, '분광': 3445, '분기': 3446, '분기점': 3447, '분께는': 3448, '분당': 3449, '분류': 3450, '분리': 3451, '분명': 3452, '분명히': 3453, '분사': 3454, '분산': 3455, '분석': 3456, '분쇄기': 3457, '분식점': 3458, '분실': 3459, '분야': 3460, '분위기': 3461, '분이세요': 3462, '분이시지요': 3463, '분쟁': 3464, '분젠': 3465, '분지': 3466, '분포': 3467, '분할': 3468, '분해': 3469, '불': 3470, '불가능': 3471, '불가능하고': 3472, '불가능하다면': 3473, '불가능한': 3474, '불가능합니다': 3475, '불고기': 3476, '불과': 3477, '불과하답니다': 3478, '불과할': 3479, '불과해요': 3480, '불교': 3481, '불구': 3482, '불규칙한': 3483, '불금': 3484, '불당': 3485, '불도저': 3486, '불량': 3487, '불량품': 3488, '불러': 3489, '불러일으키는': 3490, '불러주세요': 3491, '불러주셔서': 3492, '불러주시겠어요': 3493, '불리는': 3494, '불리는지': 3495, '불만': 3496, '불문': 3497, '불빛': 3498, '불안정합니다': 3499, '불안하게': 3500, '불쾌한': 3501, '불편': 3502, '불편하게': 3503, '불편하다는': 3504, '불편하시면': 3505, '불편하신': 3506, '불편하지': 3507, '불편할': 3508, '불편함을': 3509, '불편합니다': 3510, '불평': 3511, '불평등한': 3512, '불필요한': 3513, '불행한': 3514, '불행히도': 3515, '붉은빛': 3516, '붐': 3517, '붕괴': 3518, '붕어빵': 3519, '붙박': 3520, '붙습니다': 3521, '붙어': 3522, '붙일': 3523, '뷔페': 3524, '뷸': 3525, '브라우저': 3526, '브라우징': 3527, '브라질': 3528, '브랜드': 3529, '브랜딩': 3530, '브레이커': 3531, '브레이크': 3532, '브레인스토밍': 3533, '브로': 3534, '브로드밴드': 3535, '브로셔': 3536, '브로커': 3537, '브루나이': 3538, '브이': 3539, '블랙': 3540, '블레이드': 3541, '블렌드': 3542, '블렌딩': 3543, '블로그': 3544, '블록': 3545, '블루': 3546, '블루칩': 3547, '블룸': 3548, '비': 3549, '비간': 3550, '비건': 3551, '비계': 3552, '비공개': 3553, '비공식': 3554, '비교': 3555, '비누': 3556, '비는': 3557, '비도': 3558, '비디오': 3559, '비랴': 3560, '비록': 3561, '비롯': 3562, '비료': 3563, '비밀': 3564, '비밀번호': 3565, '비빔냉면': 3566, '비빔밥': 3567, '비상': 3568, '비서': 3569, '비스킷': 3570, '비스트': 3571, '비슷하게': 3572, '비슷한': 3573, '비슷한가요': 3574, '비슷합니다': 3575, '비실': 3576, '비싸': 3577, '비싸게': 3578, '비싸고': 3579, '비싸다고': 3580, '비싸서': 3581, '비싸요': 3582, '비싸졌죠': 3583, '비싸지': 3584, '비싸지는': 3585, '비싼': 3586, '비싼가요': 3587, '비싼거죠': 3588, '비쌀': 3589, '비쌉니까': 3590, '비쌉니다': 3591, '비어': 3592, '비영리': 3593, '비용': 3594, '비우셔야': 3595, '비워': 3596, '비율': 3597, '비자': 3598, '비전을': 3599, '비주': 3600, '비즈니스': 3601, '비축': 3602, '비커': 3603, '비트': 3604, '비트코인': 3605, '비평가': 3606, '비프': 3607, '비해': 3608, '비행': 3609, '비행기': 3610, '빅데이터': 3611, '빈': 3612, '빈방': 3613, '빈번': 3614, '빈손': 3615, '빈티': 3616, '빌드되': 3617, '빌딩': 3618, '빌라': 3619, '빌려': 3620, '빌려주는': 3621, '빌려주셔서': 3622, '빌렸습니다': 3623, '빌리고': 3624, '빌리기': 3625, '빌리려고': 3626, '빌리시는': 3627, '빌릴': 3628, '빌릴까': 3629, '빌릴지': 3630, '빌보드': 3631, '빌트': 3632, '빔': 3633, '빕니다': 3634, '빗': 3635, '빙': 3636, '빚': 3637, '빠듯': 3638, '빠듯합니': 3639, '빠르게': 3640, '빠르고': 3641, '빠른': 3642, '빠를': 3643, '빠릅니다': 3644, '빠졌는지': 3645, '빠질': 3646, '빡빡': 3647, '빨간': 3648, '빨간색': 3649, '빨라질': 3650, '빨리': 3651, '빵': 3652, '빵집': 3653, '빼고': 3654, '뽑아': 3655, '뿌리': 3656, '뿐': 3657, '뿐이고요': 3658, '뿐이므로': 3659, '뿐이죠': 3660, '뿐입니다': 3661, '삐었': 3662, '사': 3663, '사건': 3664, '사겠습니다': 3665, '사격': 3666, '사계절': 3667, '사고': 3668, '사과': 3669, '사기': 3670, '사기꾼': 3671, '사는': 3672, '사람': 3673, '사람과': 3674, '사랑': 3675, '사려': 3676, '사례': 3677, '사를': 3678, '사면': 3679, '사명': 3680, '사모펀드': 3681, '사무': 3682, '사무기기': 3683, '사무소': 3684, '사무실': 3685, '사물': 3686, '사물인터넷': 3687, '사본': 3688, '사생활': 3689, '사서': 3690, '사소한': 3691, '사시겠습니까': 3692, '사시겠어요': 3693, '사시미': 3694, '사실': 3695, '사안': 3696, '사야': 3697, '사양': 3698, '사업': 3699, '사업가': 3700, '사업자': 3701, '사옥': 3702, '사와': 3703, '사왔습니다': 3704, '사용': 3705, '사용성': 3706, '사용자': 3707, '사우나': 3708, '사운드': 3709, '사운드트랙': 3710, '사원': 3711, '사유': 3712, '사은': 3713, '사의': 3714, '사이': 3715, '사이드': 3716, '사이버': 3717, '사이일': 3718, '사이즈': 3719, '사이트': 3720, '사인': 3721, '사인회': 3722, '사장': 3723, '사전': 3724, '사주실': 3725, '사지': 3726, '사진': 3727, '사진사': 3728, '사진작가': 3729, '사찰': 3730, '사촌': 3731, '사출': 3732, '사탕': 3733, '사태': 3734, '사하여': 3735, '사항': 3736, '사회': 3737, '삭제': 3738, '산': 3739, '산나물': 3740, '산업': 3741, '산이': 3742, '산출': 3743, '살': 3744, '살균': 3745, '살기': 3746, '살까': 3747, '살았습니다': 3748, '살이': 3749, '살펴보겠습니다': 3750, '살펴보고': 3751, '살펴보세요': 3752, '살펴보았습니다': 3753, '살펴볼': 3754, '살펴볼게요': 3755, '삶': 3756, '삶은': 3757, '삼': 3758, '삼겹살': 3759, '삼고': 3760, '삽': 3761, '삽화가': 3762, '샀다': 3763, '상거래': 3764, '상관': 3765, '상관없습니다': 3766, '상관없어요': 3767, '상관없으니': 3768, '상관없이': 3769, '상관없지만': 3770, '상급': 3771, '상기': 3772, '상단': 3773, '상담': 3774, '상당': 3775, '상당한': 3776, '상당히': 3777, '상대': 3778, '상대로': 3779, '상대방': 3780, '상무': 3781, '상사': 3782, '상상': 3783, '상상력': 3784, '상세': 3785, '상속': 3786, '상승': 3787, '상업': 3788, '상위': 3789, '상응': 3790, '상의': 3791, '상이': 3792, '상인': 3793, '상자': 3794, '상장': 3795, '상점': 3796, '상주': 3797, '상징': 3798, '상추': 3799, '상치': 3800, '상태': 3801, '상표': 3802, '상품': 3803, '상하': 3804, '상하이': 3805, '상호': 3806, '상환': 3807, '상황': 3808, '새': 3809, '새로': 3810, '새로운': 3811, '새롭게': 3812, '새롭기': 3813, '새벽': 3814, '새우': 3815, '새틴': 3816, '새해': 3817, '색': 3818, '색상': 3819, '색인': 3820, '색조': 3821, '샌드위치': 3822, '샌프란시스코': 3823, '샐러드': 3824, '샘플': 3825, '샘플러': 3826, '샘플링': 3827, '생': 3828, '생각': 3829, '생각나지': 3830, '생강': 3831, '생겨도': 3832, '생겼습니다': 3833, '생기나요': 3834, '생기는데': 3835, '생기지': 3836, '생긴': 3837, '생동감': 3838, '생명': 3839, '생명보험': 3840, '생물': 3841, '생방송': 3842, '생산': 3843, '생산량': 3844, '생생하게': 3845, '생선': 3846, '생선전': 3847, '생소한': 3848, '생신': 3849, '생일': 3850, '생체': 3851, '생활': 3852, '생활용품': 3853, '샤워': 3854, '샤워실': 3855, '샤프트': 3856, '샴페인': 3857, '샴푸': 3858, '샵': 3859, '서': 3860, '서기': 3861, '서나': 3862, '서는': 3863, '서더와': 3864, '서도': 3865, '서두르는': 3866, '서두르면': 3867, '서둘러': 3868, '서둘러서': 3869, '서든': 3870, '서라운드': 3871, '서랍': 3872, '서로': 3873, '서류': 3874, '서면': 3875, '서명': 3876, '서버': 3877, '서버룸': 3878, '서브': 3879, '서비스': 3880, '서빙': 3881, '서에': 3882, '서울': 3883, '서재': 3884, '서점': 3885, '서지': 3886, '서쪽': 3887, '석가모니': 3888, '섞고': 3889, '선': 3890, '선구자': 3891, '선명하게': 3892, '선명합니다': 3893, '선물': 3894, '선물거래': 3895, '선박': 3896, '선보이고': 3897, '선보일': 3898, '선불': 3899, '선생님': 3900, '선시하기로': 3901, '선적': 3902, '선정': 3903, '선착순': 3904, '선체': 3905, '선택': 3906, '선호': 3907, '설': 3908, '설계': 3909, '설득': 3910, '설렁탕': 3911, '설렙니다': 3912, '설립': 3913, '설명': 3914, '설문': 3915, '설문조사': 3916, '설문지': 3917, '설비': 3918, '설정': 3919, '설치': 3920, '설치는': 3921, '설탕': 3922, '섬광': 3923, '섬유': 3924, '섬유질': 3925, '성': 3926, '성가신': 3927, '성격': 3928, '성공': 3929, '성공하기를': 3930, '성공하길': 3931, '성공하셨네요': 3932, '성공하셨는지': 3933, '성공한': 3934, '성공할': 3935, '성과': 3936, '성능': 3937, '성도': 3938, '성분': 3939, '성사': 3940, '성실히': 3941, '성은': 3942, '성인': 3943, '성장': 3944, '성장하고': 3945, '성장하는': 3946, '성장할': 3947, '성장해': 3948, '성전': 3949, '성취': 3950, '성하는': 3951, '성한': 3952, '성할': 3953, '성함': 3954, '성했는지': 3955, '성형': 3956, '세': 3957, '세계': 3958, '세관': 3959, '세균': 3960, '세금': 3961, '세기': 3962, '세대': 3963, '세련': 3964, '세로': 3965, '세면대': 3966, '세미나': 3967, '세법': 3968, '세부': 3969, '세상': 3970, '세션': 3971, '세안': 3972, '세액': 3973, '세요': 3974, '세우고': 3975, '세우는': 3976, '세우려고': 3977, '세울': 3978, '세워야': 3979, '세웠지만': 3980, '세율': 3981, '세척': 3982, '세척제': 3983, '세탁': 3984, '세탁기': 3985, '세탁실': 3986, '세트': 3987, '세팅': 3988, '세포': 3989, '센': 3990, '센서': 3991, '센터': 3992, '센트': 3993, '셀러': 3994, '셀러리': 3995, '셋': 3996, '셋째': 3997, '셔블': 3998, '션': 3999, '셨었': 4000, '셰어': 4001, '소': 4002, '소갈비': 4003, '소개': 4004, '소개팅': 4005, '소고기': 4006, '소금': 4007, '소녀': 4008, '소득': 4009, '소리': 4010, '소리칠': 4011, '소매': 4012, '소매업자': 4013, '소모': 4014, '소문': 4015, '소비': 4016, '소비자': 4017, '소설': 4018, '소셜': 4019, '소셜미디어': 4020, '소속': 4021, '소송': 4022, '소스': 4023, '소시지': 4024, '소식': 4025, '소액': 4026, '소요': 4027, '소유': 4028, '소유권': 4029, '소유자': 4030, '소의': 4031, '소일': 4032, '소재': 4033, '소주': 4034, '소중하게': 4035, '소중한': 4036, '소중히': 4037, '소지': 4038, '소질': 4039, '소켓': 4040, '소통': 4041, '소파': 4042, '소포': 4043, '소풍': 4044, '소프': 4045, '소프트': 4046, '소프트웨어': 4047, '소형': 4048, '소형견': 4049, '속': 4050, '속달': 4051, '속도': 4052, '속물': 4053, '손': 4054, '손님': 4055, '손상': 4056, '손쉬운': 4057, '손실': 4058, '손익': 4059, '손익계산서': 4060, '손주': 4061, '손해': 4062, '손해배상': 4063, '솔루션': 4064, '솔직하고': 4065, '솔직한': 4066, '솔직히': 4067, '송금': 4068, '송료': 4069, '송신': 4070, '송장': 4071, '쇄신': 4072, '쇠고기': 4073, '쇼': 4074, '쇼룸': 4075, '쇼핑': 4076, '수': 4077, '수가': 4078, '수강': 4079, '수건': 4080, '수고': 4081, '수년': 4082, '수다': 4083, '수단': 4084, '수도': 4085, '수도꼭지': 4086, '수도원': 4087, '수동': 4088, '수락': 4089, '수량': 4090, '수련': 4091, '수령': 4092, '수로': 4093, '수료': 4094, '수료증': 4095, '수리': 4096, '수많은': 4097, '수면': 4098, '수박': 4099, '수반': 4100, '수백만': 4101, '수비드': 4102, '수석': 4103, '수선': 4104, '수속': 4105, '수수료': 4106, '수술': 4107, '수시로': 4108, '수신기': 4109, '수십': 4110, '수압': 4111, '수업': 4112, '수에즈': 4113, '수영': 4114, '수영장': 4115, '수요': 4116, '수요일': 4117, '수용': 4118, '수익': 4119, '수익금': 4120, '수익률': 4121, '수입': 4122, '수입품': 4123, '수정': 4124, '수정과': 4125, '수제': 4126, '수준': 4127, '수집': 4128, '수천': 4129, '수출': 4130, '수출입': 4131, '수평': 4132, '수표': 4133, '수표로': 4134, '수프': 4135, '수학': 4136, '수행': 4137, '수혜자': 4138, '수확': 4139, '숙련': 4140, '숙박': 4141, '숙박시설': 4142, '숙박업소': 4143, '숙성': 4144, '숙소': 4145, '숙여야': 4146, '숙주': 4147, '숙지': 4148, '순': 4149, '순간': 4150, '순위': 4151, '순이익': 4152, '순전히': 4153, '숟가락': 4154, '술': 4155, '술집': 4156, '숨': 4157, '숨겨진': 4158, '숫자': 4159, '숯불': 4160, '쉬는': 4161, '쉬었습니다': 4162, '쉬우니': 4163, '쉬운': 4164, '쉬워': 4165, '쉬워요': 4166, '쉬워지죠': 4167, '쉬워진': 4168, '쉬워질': 4169, '쉴': 4170, '쉽게': 4171, '쉽고': 4172, '쉽기': 4173, '쉽다고': 4174, '쉽도록': 4175, '쉽습니다': 4176, '쉽지는': 4177, '슈': 4178, '슈트': 4179, '슈팅': 4180, '슈퍼마켓': 4181, '스': 4182, '스낵': 4183, '스노클링': 4184, '스니커즈': 4185, '스님': 4186, '스러워서': 4187, '스러워하고': 4188, '스레드': 4189, '스릴러': 4190, '스마트': 4191, '스마트폰': 4192, '스마트홈': 4193, '스스로': 4194, '스위트': 4195, '스위트룸': 4196, '스카이라인': 4197, '스캐너': 4198, '스캔': 4199, '스케': 4200, '스케줄': 4201, '스케줄러': 4202, '스케치': 4203, '스쿠터': 4204, '스크럽': 4205, '스크류': 4206, '스크리닝': 4207, '스크린': 4208, '스크린샷': 4209, '스키': 4210, '스킨': 4211, '스킬': 4212, '스타': 4213, '스타일': 4214, '스타트업': 4215, '스테이': 4216, '스테이션': 4217, '스테이크': 4218, '스테인레스': 4219, '스토리': 4220, '스토브': 4221, '스토어': 4222, '스토퍼': 4223, '스톤': 4224, '스튜디오': 4225, '스트레스': 4226, '스트레이트': 4227, '스트로': 4228, '스트리밍': 4229, '스트림': 4230, '스티': 4231, '스티커': 4232, '스틸': 4233, '스파': 4234, '스파게티': 4235, '스파이럴': 4236, '스파이웨어': 4237, '스파크': 4238, '스팸': 4239, '스페셜': 4240, '스페인': 4241, '스펙트럼': 4242, '스포츠': 4243, '스프': 4244, '스프레드': 4245, '스프레이': 4246, '스피커': 4247, '스피킹': 4248, '슬라이드': 4249, '슬롯': 4250, '슬리퍼': 4251, '슬프고': 4252, '습': 4253, '습니': 4254, '승려': 4255, '승인': 4256, '시': 4257, '시각': 4258, '시각장애인': 4259, '시간': 4260, '시간대': 4261, '시계': 4262, '시골': 4263, '시급히': 4264, '시기': 4265, '시끄러운': 4266, '시나리오': 4267, '시내': 4268, '시대': 4269, '시도': 4270, '시리즈': 4271, '시마': 4272, '시민권': 4273, '시설': 4274, '시세': 4275, '시스템': 4276, '시연': 4277, '시오': 4278, '시일': 4279, '시작': 4280, '시장': 4281, '시장조사': 4282, '시저': 4283, '시절': 4284, '시점': 4285, '시즌': 4286, '시차': 4287, '시청': 4288, '시청각': 4289, '시청자': 4290, '시카고': 4291, '시켜': 4292, '시켜주죠': 4293, '시켜줄': 4294, '시켜줄래요': 4295, '시켰습니다': 4296, '시켰어요': 4297, '시큐리티': 4298, '시키겠습니다': 4299, '시키고': 4300, '시키기': 4301, '시키는': 4302, '시키면': 4303, '시키지': 4304, '시키지는': 4305, '시킬': 4306, '시킵니다': 4307, '시티': 4308, '시행': 4309, '시험': 4310, '시험관': 4311, '식': 4312, '식기': 4313, '식단': 4314, '식당': 4315, '식물': 4316, '식사': 4317, '식이': 4318, '식초': 4319, '식탁': 4320, '식품': 4321, '신': 4322, '신간': 4323, '신경': 4324, '신고': 4325, '신곡': 4326, '신규': 4327, '신나요': 4328, '신는': 4329, '신디케이트': 4330, '신랑': 4331, '신뢰': 4332, '신문': 4333, '신발': 4334, '신부': 4335, '신분': 4336, '신분증': 4337, '신비로운': 4338, '신사': 4339, '신생': 4340, '신선하고': 4341, '신선한': 4342, '신세대': 4343, '신속하게': 4344, '신속하고': 4345, '신속한': 4346, '신용': 4347, '신용등급': 4348, '신용장': 4349, '신용카드': 4350, '신원': 4351, '신입': 4352, '신입사원': 4353, '신입생': 4354, '신제품': 4355, '신종교': 4356, '신중': 4357, '신지': 4358, '신청': 4359, '신청서': 4360, '신체': 4361, '신탁': 4362, '신호': 4363, '신흥': 4364, '싣고': 4365, '실': 4366, '실내': 4367, '실력': 4368, '실례': 4369, '실로': 4370, '실린더': 4371, '실망': 4372, '실망하신': 4373, '실망했습니다': 4374, '실버': 4375, '실사': 4376, '실생활': 4377, '실수': 4378, '실시': 4379, '실시간': 4380, '실업자': 4381, '실외': 4382, '실용': 4383, '실적': 4384, '실제': 4385, '실질': 4386, '실천': 4387, '실크': 4388, '실패': 4389, '실패하지': 4390, '실행': 4391, '실험': 4392, '실험실': 4393, '실현': 4394, '싫어요': 4395, '싫어한다고': 4396, '싫어합니다': 4397, '심': 4398, '심각하게': 4399, '심각한': 4400, '심각해서': 4401, '심기': 4402, '심란합니다': 4403, '심박': 4404, '심장': 4405, '심지어': 4406, '심하겠습니다': 4407, '심하면': 4408, '심하세요': 4409, '심하시길': 4410, '심할': 4411, '십': 4412, '십대': 4413, '싱가포르': 4414, '싱가폴': 4415, '싱글': 4416, '싱글룸': 4417, '싶고': 4418, '싶기': 4419, '싶나요': 4420, '싶네요': 4421, '싶다고': 4422, '싶다는': 4423, '싶다면': 4424, '싶습니까': 4425, '싶습니다': 4426, '싶습니다만': 4427, '싶어': 4428, '싶어서': 4429, '싶어서요': 4430, '싶어요': 4431, '싶어졌습니다': 4432, '싶어지면': 4433, '싶어하나요': 4434, '싶어하는': 4435, '싶었기': 4436, '싶었는데': 4437, '싶었던': 4438, '싶었습니다': 4439, '싶었어요': 4440, '싶었을': 4441, '싶으': 4442, '싶으니': 4443, '싶으면': 4444, '싶으므로': 4445, '싶으세요': 4446, '싶으셨나': 4447, '싶으셨나요': 4448, '싶으시다면': 4449, '싶으시면': 4450, '싶으신': 4451, '싶으십니까': 4452, '싶은': 4453, '싶은가요': 4454, '싶은데': 4455, '싶은데요': 4456, '싶은지': 4457, '싶은지는': 4458, '싶은지에': 4459, '싶을': 4460, '싶지': 4461, '싶지는': 4462, '싶지만': 4463, '싸게': 4464, '싸고': 4465, '싸니까': 4466, '싸우고': 4467, '싸주세요': 4468, '싼': 4469, '쌀': 4470, '쌈': 4471, '쌈밥': 4472, '쌈장': 4473, '쌍': 4474, '쌓는': 4475, '쌓여': 4476, '쌓여있습니다': 4477, '쌓은': 4478, '쌓이고': 4479, '쌓이다': 4480, '써': 4481, '써야': 4482, '써요': 4483, '썼기': 4484, '쓰게': 4485, '쓰고': 4486, '쓰레기통': 4487, '쓰실': 4488, '쓰였습니다': 4489, '쓰지': 4490, '쓴': 4491, '쓸': 4492, '쓸모': 4493, '씁니다': 4494, '씨': 4495, '씹어': 4496, '아': 4497, '아기': 4498, '아깝지만': 4499, '아끼지': 4500, '아나운서': 4501, '아내': 4502, '아뇨': 4503, '아늑함과': 4504, '아는': 4505, '아니': 4506, '아니겠죠': 4507, '아니고': 4508, '아니기': 4509, '아니길': 4510, '아니네요': 4511, '아니라': 4512, '아니라고': 4513, '아니라는': 4514, '아니라면': 4515, '아니면': 4516, '아니었': 4517, '아니었습니다': 4518, '아니에요': 4519, '아니예요': 4520, '아니오': 4521, '아니요': 4522, '아니죠': 4523, '아니지만': 4524, '아닌': 4525, '아닌가요': 4526, '아닌지': 4527, '아닌지에': 4528, '아닐': 4529, '아닐까': 4530, '아님': 4531, '아닙니다': 4532, '아동': 4533, '아들': 4534, '아래': 4535, '아로마': 4536, '아르헨티나': 4537, '아름다운': 4538, '아름다운데': 4539, '아름답거든요': 4540, '아름답다고': 4541, '아름답습니다': 4542, '아마': 4543, '아마도': 4544, '아무': 4545, '아무나': 4546, '아무런': 4547, '아무리': 4548, '아무튼': 4549, '아바타': 4550, '아빠': 4551, '아세요': 4552, '아쉽게도': 4553, '아쉽긴': 4554, '아쉽네요': 4555, '아스파라거스': 4556, '아스팔트': 4557, '아시겠죠': 4558, '아시나요': 4559, '아시네요': 4560, '아시다시피': 4561, '아시아': 4562, '아실': 4563, '아십니까': 4564, '아웃소싱': 4565, '아이': 4566, '아이덴티티': 4567, '아이돌': 4568, '아이디': 4569, '아이디어': 4570, '아이스크림': 4571, '아이콘': 4572, '아이템': 4573, '아주': 4574, '아직': 4575, '아직도': 4576, '아침': 4577, '아침식사': 4578, '아키텍처': 4579, '아트': 4580, '아트워크': 4581, '아트웍': 4582, '아티스트': 4583, '아파요': 4584, '아파트': 4585, '아프리카': 4586, '악': 4587, '악기': 4588, '악성코드': 4589, '악세사리': 4590, '악수': 4591, '악행': 4592, '악화': 4593, '안': 4594, '안건': 4595, '안나': 4596, '안내': 4597, '안내받으실': 4598, '안내받을': 4599, '안녕': 4600, '안녕하세요': 4601, '안녕하신가요': 4602, '안녕히': 4603, '안다': 4604, '안됩니다': 4605, '안드로이드': 4606, '안방': 4607, '안성맞춤': 4608, '안심': 4609, '안이': 4610, '안전': 4611, '안전성': 4612, '안전하게': 4613, '안전하고': 4614, '안전하다고': 4615, '안전하다는': 4616, '안전한': 4617, '안전한가요': 4618, '안전한지': 4619, '안전할까': 4620, '안전합니다': 4621, '안전해요': 4622, '안전해질': 4623, '안정': 4624, '안좋았습니다': 4625, '안타깝게도': 4626, '안타깝지만': 4627, '안테나': 4628, '안티바이러스': 4629, '안팎': 4630, '앉아': 4631, '앉아계실': 4632, '앉아서': 4633, '앉아야': 4634, '앉아요': 4635, '앉을': 4636, '않': 4637, '않거나': 4638, '않고': 4639, '않기': 4640, '않기로': 4641, '않기를': 4642, '않나요': 4643, '않네요': 4644, '않는': 4645, '않는다고': 4646, '않는다는': 4647, '않는다면': 4648, '않는데': 4649, '않는지': 4650, '않다': 4651, '않다고': 4652, '않다는': 4653, '않도록': 4654, '않습니까': 4655, '않습니다': 4656, '않아': 4657, '않아도': 4658, '않아서': 4659, '않아서요': 4660, '않아야': 4661, '않아요': 4662, '않았고': 4663, '않았기': 4664, '않았나요': 4665, '않았는데요': 4666, '않았는지': 4667, '않았다': 4668, '않았다고': 4669, '않았다는': 4670, '않았다면': 4671, '않았던': 4672, '않았습니까': 4673, '않았습니다': 4674, '않았어요': 4675, '않았었어요': 4676, '않았으면': 4677, '않았을': 4678, '않았지만': 4679, '않으니': 4680, '않으니까': 4681, '않으려고': 4682, '않으려면': 4683, '않으며': 4684, '않으면': 4685, '않으므로': 4686, '않으셔도': 4687, '않으셨어요': 4688, '않으셨으면': 4689, '않으셨잖아요': 4690, '않으시나요': 4691, '않으시면': 4692, '않으실': 4693, '않은': 4694, '않은데': 4695, '않을': 4696, '않을까': 4697, '않을까요': 4698, '않죠': 4699, '않지만': 4700, '알': 4701, '알겠습니다': 4702, '알겠습니다만': 4703, '알겠어요': 4704, '알겠죠': 4705, '알겠지만': 4706, '알고는': 4707, '알고리즘': 4708, '알고자': 4709, '알기': 4710, '알람': 4711, '알레르기': 4712, '알려': 4713, '알려야': 4714, '알려주거든요': 4715, '알려주고': 4716, '알려주는': 4717, '알려주세요': 4718, '알려주셔서': 4719, '알려주셔야': 4720, '알려주셨어야죠': 4721, '알려주셨으면': 4722, '알려주시겠나요': 4723, '알려주시겠습니까': 4724, '알려주시겠어요': 4725, '알려주시기': 4726, '알려주시길': 4727, '알려주시면': 4728, '알려주신': 4729, '알려주실': 4730, '알려주실래요': 4731, '알려주십시오': 4732, '알려주었습니다': 4733, '알려줄': 4734, '알려줄래요': 4735, '알려줘서': 4736, '알려진': 4737, '알루미늄': 4738, '알리기': 4739, '알리는': 4740, '알리세요': 4741, '알릴': 4742, '알림': 4743, '알수': 4744, '알아가는': 4745, '알아내는': 4746, '알아낸': 4747, '알아도': 4748, '알아듣': 4749, '알아보겠습니다': 4750, '알아보고': 4751, '알아보기': 4752, '알아보기로': 4753, '알아보도록': 4754, '알아보려고': 4755, '알아보십시오': 4756, '알아볼': 4757, '알아봤으니': 4758, '알아야': 4759, '알아야겠습니다': 4760, '알아요': 4761, '알아차렸습니다': 4762, '알아챘습니다': 4763, '알았는데': 4764, '알았는데요': 4765, '알았습니다': 4766, '알았어요': 4767, '알았으니': 4768, '알았죠': 4769, '알약': 4770, '알칼리성': 4771, '암': 4772, '암석': 4773, '암스테르담': 4774, '암호': 4775, '압니': 4776, '압도': 4777, '압력': 4778, '압축': 4779, '압축기': 4780, '압출기': 4781, '았습니': 4782, '앙': 4783, '앞': 4784, '앞두고': 4785, '앞서': 4786, '앞치마': 4787, '애': 4788, '애니메이션': 4789, '애니메이터': 4790, '애비뉴': 4791, '애완동물': 4792, '애프터': 4793, '애플리케이션': 4794, '애피타이저': 4795, '액': 4796, '액세서리': 4797, '액세스': 4798, '액션': 4799, '액체': 4800, '앤': 4801, '앨범': 4802, '앰버': 4803, '앰뷸런스': 4804, '앰프': 4805, '앱': 4806, '앵글': 4807, '앵커': 4808, '야간': 4809, '야구장': 4810, '야금': 4811, '야단법석': 4812, '야생': 4813, '야식': 4814, '야영지': 4815, '야외': 4816, '야유회': 4817, '야채': 4818, '야합': 4819, '약': 4820, '약간': 4821, '약관': 4822, '약물': 4823, '약속': 4824, '약자': 4825, '약점': 4826, '약정': 4827, '약한': 4828, '얇은': 4829, '양': 4830, '양념': 4831, '양념장': 4832, '양도': 4833, '양립': 4834, '양말': 4835, '양사': 4836, '양식': 4837, '양자': 4838, '양초': 4839, '양해': 4840, '양호': 4841, '얘기': 4842, '어': 4843, '어긋납니다': 4844, '어기': 4845, '어느': 4846, '어댑터': 4847, '어디': 4848, '어디서': 4849, '어때요': 4850, '어떠세요': 4851, '어떠셨죠': 4852, '어떠신': 4853, '어떠십니까': 4854, '어떠한': 4855, '어떡하죠': 4856, '어떤': 4857, '어떤게': 4858, '어떤지': 4859, '어떨까': 4860, '어떻': 4861, '어떻게': 4862, '어떻겠습니까': 4863, '어떻습니까': 4864, '어려우실': 4865, '어려운지': 4866, '어려울': 4867, '어려움': 4868, '어려워요': 4869, '어려웠습니다': 4870, '어려웠어요': 4871, '어려웠지만': 4872, '어렵게': 4873, '어렵고': 4874, '어렵네요': 4875, '어렵다는': 4876, '어렵습니다': 4877, '어렵지만': 4878, '어르신': 4879, '어른': 4880, '어리다는': 4881, '어린': 4882, '어린이': 4883, '어머니': 4884, '어메니티': 4885, '어묵': 4886, '어보': 4887, '어서': 4888, '어우러집니다': 4889, '어울릴': 4890, '어울릴까': 4891, '어제': 4892, '어젯밤': 4893, '어조': 4894, '어쨌든': 4895, '어쩌': 4896, '어쩐': 4897, '어쩔': 4898, '어플': 4899, '어필': 4900, '어휘': 4901, '언': 4902, '언급': 4903, '언니': 4904, '언덕': 4905, '언론': 4906, '언박싱': 4907, '언어': 4908, '언제': 4909, '언제나': 4910, '언젠가': 4911, '얻고': 4912, '얻고자': 4913, '얻기': 4914, '얻는': 4915, '얻는다는': 4916, '얻습니다': 4917, '얻어야': 4918, '얻어요': 4919, '얻었는지': 4920, '얻었어요': 4921, '얻었을': 4922, '얻으면': 4923, '얻으세요': 4924, '얻으시길': 4925, '얻으실': 4926, '얻은': 4927, '얻을': 4928, '얼': 4929, '얼굴': 4930, '얼리': 4931, '얼마': 4932, '얼마나': 4933, '엄격하게': 4934, '엄격한': 4935, '엄격함은': 4936, '엄격합니다': 4937, '엄선': 4938, '엄수': 4939, '엄청': 4940, '엄청나게': 4941, '엄청나네요': 4942, '엄청난': 4943, '업계': 4944, '업그레이드': 4945, '업데이트': 4946, '업로드': 4947, '업무': 4948, '업자': 4949, '업주': 4950, '업체': 4951, '없': 4952, '없거든요': 4953, '없고': 4954, '없기': 4955, '없기를': 4956, '없길': 4957, '없나요': 4958, '없네요': 4959, '없는': 4960, '없는데': 4961, '없는데요': 4962, '없는지': 4963, '없다': 4964, '없다고': 4965, '없다는': 4966, '없다면': 4967, '없더라고요': 4968, '없도록': 4969, '없습니까': 4970, '없습니다': 4971, '없애면': 4972, '없애주는': 4973, '없어': 4974, '없어도': 4975, '없어서': 4976, '없어야': 4977, '없어요': 4978, '없었고': 4979, '없었기': 4980, '없었나요': 4981, '없었다면': 4982, '없었답니다': 4983, '없었습니다': 4984, '없었어요': 4985, '없었을': 4986, '없었죠': 4987, '없으니': 4988, '없으니까': 4989, '없으며': 4990, '없으면': 4991, '없으셔도': 4992, '없으신': 4993, '없으실까': 4994, '없으십니까': 4995, '없을': 4996, '없을까요': 4997, '없을지도': 4998, '없이': 4999, '없이는': 5000, '없죠': 5001, '없지만': 5002, '엇갈린': 5003, '엉': 5004, '에너지': 5005, '에러': 5006, '에멀션': 5007, '에멀젼': 5008, '에메랄드': 5009, '에밀리': 5010, '에센셜': 5011, '에어': 5012, '에어컨': 5013, '에이전시': 5014, '에이전트': 5015, '에코': 5016, '에티켓': 5017, '에피소드': 5018, '엑세스': 5019, '엑스레이': 5020, '엑스포': 5021, '엔': 5022, '엔드': 5023, '엔젤': 5024, '엔지니어': 5025, '엔지니어링': 5026, '엔진': 5027, '엔터테인먼트': 5028, '엠보싱': 5029, '여': 5030, '여겨지지': 5031, '여권': 5032, '여기': 5033, '여기는': 5034, '여긴': 5035, '여느': 5036, '여드름': 5037, '여러': 5038, '여러분': 5039, '여름': 5040, '여보': 5041, '여보세요': 5042, '여부': 5043, '여분': 5044, '여사': 5045, '여성': 5046, '여야': 5047, '여유': 5048, '여자': 5049, '여전히': 5050, '여지': 5051, '여쭤': 5052, '여행': 5053, '여행사': 5054, '여행자': 5055, '역': 5056, '역사': 5057, '역서': 5058, '역시': 5059, '역외': 5060, '역할': 5061, '연': 5062, '연간': 5063, '연결': 5064, '연결하는': 5065, '연결하려면': 5066, '연결할': 5067, '연결해': 5068, '연관': 5069, '연구': 5070, '연구개발': 5071, '연구소': 5072, '연기': 5073, '연다': 5074, '연달': 5075, '연동': 5076, '연락': 5077, '연락처': 5078, '연령': 5079, '연례': 5080, '연료': 5081, '연마': 5082, '연말': 5083, '연민': 5084, '연방': 5085, '연봉': 5086, '연비': 5087, '연사': 5088, '연수': 5089, '연장': 5090, '연중': 5091, '연체': 5092, '연회': 5093, '연휴': 5094, '열': 5095, '열겠습니다': 5096, '열고': 5097, '열광': 5098, '열기': 5099, '열람': 5100, '열려': 5101, '열려면': 5102, '열려있죠': 5103, '열렸나요': 5104, '열리나요': 5105, '열리는': 5106, '열리는지': 5107, '열린': 5108, '열릴': 5109, '열립니다': 5110, '열면': 5111, '열쇠': 5112, '열심히': 5113, '열악한': 5114, '열어': 5115, '열정': 5116, '열지': 5117, '열차': 5118, '염두': 5119, '염려': 5120, '염색': 5121, '엽': 5122, '였고요': 5123, '였기': 5124, '였나요': 5125, '였습니다': 5126, '였어요': 5127, '였으니': 5128, '였으며': 5129, '였으면': 5130, '였죠': 5131, '영': 5132, '영감': 5133, '영광': 5134, '영구': 5135, '영국': 5136, '영리한': 5137, '영상': 5138, '영상통화': 5139, '영수증': 5140, '영양': 5141, '영어': 5142, '영업': 5143, '영업일': 5144, '영역': 5145, '영원히': 5146, '영진': 5147, '영향': 5148, '영향력': 5149, '영화': 5150, '옆': 5151, '예': 5152, '예견': 5153, '예고편': 5154, '예금': 5155, '예방': 5156, '예배': 5157, '예쁜': 5158, '예산': 5159, '예산안': 5160, '예상': 5161, '예술': 5162, '예술가': 5163, '예약': 5164, '예의': 5165, '예입': 5166, '예전': 5167, '예절': 5168, '예정': 5169, '예정일': 5170, '예측': 5171, '옐로나이프': 5172, '오': 5173, '오겠습니다': 5174, '오길': 5175, '오나요': 5176, '오는': 5177, '오는지': 5178, '오늘': 5179, '오늘날': 5180, '오늘이': 5181, '오디오': 5182, '오락가락': 5183, '오래': 5184, '오래되셨죠': 5185, '오래되어': 5186, '오래되었습니다': 5187, '오래되지': 5188, '오래된': 5189, '오랜': 5190, '오랫동안': 5191, '오렌지': 5192, '오류': 5193, '오르고': 5194, '오르나요': 5195, '오른': 5196, '오른쪽': 5197, '오리엔테이션': 5198, '오면': 5199, '오버': 5200, '오븐': 5201, '오세요': 5202, '오셔서': 5203, '오셨나요': 5204, '오셨다고': 5205, '오셨습니다': 5206, '오셨어요': 5207, '오스': 5208, '오시': 5209, '오시나요': 5210, '오신': 5211, '오신다고': 5212, '오실': 5213, '오용': 5214, '오일': 5215, '오일도': 5216, '오전': 5217, '오지': 5218, '오직': 5219, '오징어': 5220, '오토': 5221, '오프': 5222, '오프라인': 5223, '오픈': 5224, '오피스': 5225, '오하이오주': 5226, '오해': 5227, '오후': 5228, '오히려': 5229, '옥': 5230, '옥상': 5231, '옥집': 5232, '온': 5233, '온도': 5234, '온돌': 5235, '온라인': 5236, '온라인과': 5237, '온스': 5238, '온천': 5239, '온타리오': 5240, '올': 5241, '올게요': 5242, '올라가는': 5243, '올라갈': 5244, '올라갑니다': 5245, '올랐습니까': 5246, '올랐습니다': 5247, '올려': 5248, '올려놓고': 5249, '올려요': 5250, '올려주세요': 5251, '올려주시고요': 5252, '올려주신': 5253, '올려줘요': 5254, '올렸고': 5255, '올렸습니다': 5256, '올렸어요': 5257, '올리겠습니다': 5258, '올리고': 5259, '올리는': 5260, '올리려고': 5261, '올리려면': 5262, '올리면': 5263, '올리셨더군요': 5264, '올린': 5265, '올릴': 5266, '올릴지': 5267, '올바르게': 5268, '올바른': 5269, '올바른지': 5270, '올테니': 5271, '올해': 5272, '옮겼습니다': 5273, '옮기고': 5274, '옮길': 5275, '옳다': 5276, '옴': 5277, '옵니다': 5278, '옵션': 5279, '옷': 5280, '옷장': 5281, '와': 5282, '와서': 5283, '와셔': 5284, '와셔를': 5285, '와우': 5286, '와이어': 5287, '와이파이': 5288, '와인': 5289, '와주세요': 5290, '와주셔서': 5291, '와트': 5292, '완납': 5293, '완료': 5294, '완벽하게': 5295, '완벽하네요': 5296, '완벽한': 5297, '완벽합니다': 5298, '완벽해요': 5299, '완비': 5300, '완성': 5301, '완전': 5302, '완전한': 5303, '완전히': 5304, '완화': 5305, '왓츠앱': 5306, '왔고': 5307, '왔는데': 5308, '왔는지도': 5309, '왔던': 5310, '왔습니다': 5311, '왔어요': 5312, '왔을': 5313, '왕복': 5314, '왕새우': 5315, '왜': 5316, '왜냐면': 5317, '왜냐하면': 5318, '외': 5319, '외관': 5320, '외국': 5321, '외국인': 5322, '외부': 5323, '외용': 5324, '외주': 5325, '외출': 5326, '외향': 5327, '외화': 5328, '외환은행': 5329, '왼쪽': 5330, '요': 5331, '요건': 5332, '요격': 5333, '요구': 5334, '요구사항': 5335, '요금': 5336, '요리': 5337, '요리법': 5338, '요리사': 5339, '요법': 5340, '요소': 5341, '요약': 5342, '요원': 5343, '요인': 5344, '요점': 5345, '요즘': 5346, '요청': 5347, '요크셔': 5348, '요트': 5349, '욕구': 5350, '욕실': 5351, '욕조': 5352, '용': 5353, '용건': 5354, '용납': 5355, '용도': 5356, '용량': 5357, '용무': 5358, '용법': 5359, '용어': 5360, '용의': 5361, '용이': 5362, '용이하게': 5363, '용이해졌습니다': 5364, '용인': 5365, '용지였으면': 5366, '용판': 5367, '용품': 5368, '우': 5369, '우드': 5370, '우려': 5371, '우리': 5372, '우리나라': 5373, '우리은행': 5374, '우린': 5375, '우산': 5376, '우선': 5377, '우수하기': 5378, '우수한': 5379, '우승자': 5380, '우아한': 5381, '우여곡절': 5382, '우연히': 5383, '우와': 5384, '우위': 5385, '우유': 5386, '우주': 5387, '우크라이나': 5388, '우편': 5389, '우편물': 5390, '운': 5391, '운동': 5392, '운반': 5393, '운송': 5394, '운송업': 5395, '운영': 5396, '운영자': 5397, '운영체제': 5398, '운용': 5399, '운전': 5400, '운전기사': 5401, '운전자': 5402, '운하': 5403, '울렸고': 5404, '울리는': 5405, '울산': 5406, '움직이기': 5407, '움직이는': 5408, '움직일': 5409, '움직임': 5410, '웃음': 5411, '웅장': 5412, '워': 5413, '워드': 5414, '워치': 5415, '워크샵': 5416, '워크숍': 5417, '워터': 5418, '원': 5419, '원격': 5420, '원고': 5421, '원금': 5422, '원래': 5423, '원리': 5424, '원본': 5425, '원사': 5426, '원스톱': 5427, '원심': 5428, '원심분리기': 5429, '원인': 5430, '원장': 5431, '원점': 5432, '원주공항': 5433, '원칙': 5434, '원통': 5435, '원하고': 5436, '원하기': 5437, '원하는': 5438, '원하는만큼': 5439, '원하는지': 5440, '원하세요': 5441, '원하시고': 5442, '원하시나요': 5443, '원하시는': 5444, '원하시는지': 5445, '원하시면': 5446, '원하신다고': 5447, '원하신다면': 5448, '원하실': 5449, '원하십니까': 5450, '원하지': 5451, '원한다면': 5452, '원할': 5453, '원합니다': 5454, '원해서': 5455, '원해요': 5456, '원했다': 5457, '원했습니다': 5458, '원했었죠': 5459, '원화': 5460, '원화도': 5461, '원활하게': 5462, '원활하지': 5463, '원활한': 5464, '월': 5465, '월간': 5466, '월급': 5467, '월말': 5468, '월세': 5469, '월요일': 5470, '웜': 5471, '웠습': 5472, '웨딩': 5473, '웨비': 5474, '웨어': 5475, '웨이터': 5476, '웨이퍼': 5477, '웹': 5478, '웹디자인': 5479, '웹사이트': 5480, '웹캐스트': 5481, '웹페이지': 5482, '위': 5483, '위로': 5484, '위반': 5485, '위생': 5486, '위성': 5487, '위안': 5488, '위치': 5489, '위탁': 5490, '위태롭': 5491, '위태롭기': 5492, '위함': 5493, '위해': 5494, '위험': 5495, '위험하거나': 5496, '위험한': 5497, '위험합니까': 5498, '위협': 5499, '윗': 5500, '윗사람': 5501, '유가': 5502, '유감': 5503, '유감스럽게': 5504, '유기': 5505, '유기농': 5506, '유닛': 5507, '유동': 5508, '유럽': 5509, '유로': 5510, '유료': 5511, '유르트': 5512, '유리한': 5513, '유리합니다': 5514, '유망': 5515, '유머': 5516, '유명': 5517, '유명인사': 5518, '유명하게': 5519, '유명하다고': 5520, '유명하죠': 5521, '유명한': 5522, '유명합니다': 5523, '유명해지고자': 5524, '유사한': 5525, '유산': 5526, '유선': 5527, '유아': 5528, '유압': 5529, '유연성': 5530, '유연하며': 5531, '유연한': 5532, '유예': 5533, '유용하지': 5534, '유용한': 5535, '유용할': 5536, '유의': 5537, '유익한': 5538, '유인': 5539, '유인물': 5540, '유일한': 5541, '유전': 5542, '유제품': 5543, '유지': 5544, '유치하고': 5545, '유치하기': 5546, '유통': 5547, '유통업': 5548, '유통업체': 5549, '유틸리티': 5550, '유학': 5551, '유학생': 5552, '유해한': 5553, '유행': 5554, '유행병': 5555, '유형': 5556, '유효': 5557, '유효한': 5558, '유효합니다': 5559, '육류': 5560, '육성': 5561, '육수': 5562, '육지': 5563, '육회': 5564, '윤리': 5565, '율': 5566, '율기': 5567, '융자': 5568, '융통성': 5569, '은': 5570, '은은하고': 5571, '은퇴': 5572, '은행': 5573, '은행원': 5574, '을': 5575, '음': 5576, '음료': 5577, '음료수': 5578, '음반': 5579, '음반사': 5580, '음성': 5581, '음식': 5582, '음식점': 5583, '음악': 5584, '음원': 5585, '음질': 5586, '음향': 5587, '음향효과': 5588, '응': 5589, '응급': 5590, '응답': 5591, '응대': 5592, '응용': 5593, '응원': 5594, '의': 5595, '의견': 5596, '의논': 5597, '의도': 5598, '의뢰': 5599, '의료': 5600, '의류': 5601, '의무': 5602, '의문': 5603, '의미': 5604, '의사': 5605, '의사소통': 5606, '의상': 5607, '의식': 5608, '의심': 5609, '의심스러운': 5610, '의약품': 5611, '의원': 5612, '의자': 5613, '의존': 5614, '의하면': 5615, '의해': 5616, '의해서도': 5617, '의향': 5618, '의회': 5619, '이': 5620, '이건': 5621, '이겠네요': 5622, '이기': 5623, '이끌어': 5624, '이내': 5625, '이는': 5626, '이대로': 5627, '이동': 5628, '이동식': 5629, '이동해': 5630, '이드': 5631, '이득': 5632, '이따': 5633, '이라면요': 5634, '이러한': 5635, '이런': 5636, '이렇게': 5637, '이력서': 5638, '이로': 5639, '이루어졌는지': 5640, '이루어지고': 5641, '이루어집니다': 5642, '이뤄지지': 5643, '이르기까지': 5644, '이른': 5645, '이를': 5646, '이름': 5647, '이만': 5648, '이메일': 5649, '이면': 5650, '이목': 5651, '이므로': 5652, '이미': 5653, '이미지': 5654, '이민자': 5655, '이번': 5656, '이벤트': 5657, '이보': 5658, '이불': 5659, '이브': 5660, '이사': 5661, '이사회': 5662, '이상': 5663, '이상은': 5664, '이서': 5665, '이세': 5666, '이송': 5667, '이수': 5668, '이슈': 5669, '이식': 5670, '이십': 5671, '이싼': 5672, '이야기': 5673, '이어': 5674, '이어야': 5675, '이어질': 5676, '이어집니다': 5677, '이었고': 5678, '이었기': 5679, '이었나요': 5680, '이었는지': 5681, '이었던': 5682, '이었습니까': 5683, '이었습니다': 5684, '이었어요': 5685, '이었으면': 5686, '이었죠': 5687, '이었지만': 5688, '이외': 5689, '이요': 5690, '이용': 5691, '이용자': 5692, '이웃': 5693, '이유': 5694, '이율': 5695, '이음': 5696, '이의': 5697, '이익': 5698, '이자': 5699, '이자율': 5700, '이장': 5701, '이전': 5702, '이점': 5703, '이정표': 5704, '이제': 5705, '이중': 5706, '이중과세': 5707, '이지': 5708, '이집트': 5709, '이체': 5710, '이탈': 5711, '이탈리아': 5712, '이탈리아어': 5713, '이틀': 5714, '이해': 5715, '이해만': 5716, '이해해': 5717, '이행': 5718, '이후': 5719, '익숙하지': 5720, '익숙하지가': 5721, '익숙한': 5722, '익숙해요': 5723, '익숙해져서': 5724, '익숙해지시는': 5725, '익스텐더': 5726, '익일': 5727, '익히고': 5728, '익힙니다': 5729, '인': 5730, '인간': 5731, '인건비': 5732, '인걸': 5733, '인공': 5734, '인구': 5735, '인기': 5736, '인내': 5737, '인내심': 5738, '인당': 5739, '인데요': 5740, '인덱스': 5741, '인도': 5742, '인도네시아': 5743, '인력': 5744, '인명': 5745, '인보이스': 5746, '인분': 5747, '인사': 5748, '인삼': 5749, '인상': 5750, '인생': 5751, '인센티브': 5752, '인쇄': 5753, '인쇄기': 5754, '인쇄판': 5755, '인수': 5756, '인스턴트': 5757, '인식': 5758, '인용': 5759, '인원': 5760, '인정': 5761, '인정받는': 5762, '인조섬유': 5763, '인증': 5764, '인증서': 5765, '인지': 5766, '인지도': 5767, '인천': 5768, '인치': 5769, '인코딩': 5770, '인큐베이터': 5771, '인터': 5772, '인터넷': 5773, '인터뷰': 5774, '인터페이스': 5775, '인턴': 5776, '인테리어': 5777, '인파': 5778, '인포그래픽': 5779, '인프라': 5780, '인플레이션': 5781, '인플레이션율': 5782, '인하': 5783, '인한': 5784, '인할': 5785, '인해': 5786, '일': 5787, '일과': 5788, '일관': 5789, '일까': 5790, '일단': 5791, '일러스트': 5792, '일러스트레이션': 5793, '일련': 5794, '일련번호': 5795, '일로': 5796, '일류': 5797, '일반': 5798, '일반인': 5799, '일별': 5800, '일본': 5801, '일본어': 5802, '일부': 5803, '일부러': 5804, '일산': 5805, '일상': 5806, '일상생활': 5807, '일수': 5808, '일시': 5809, '일어나고': 5810, '일어나길': 5811, '일어나는': 5812, '일어나죠': 5813, '일어나지': 5814, '일어날지': 5815, '일어났는지': 5816, '일요일': 5817, '일으켰기': 5818, '일으켰나요': 5819, '일으키고': 5820, '일으키는': 5821, '일으킨': 5822, '일이': 5823, '일인': 5824, '일일': 5825, '일자리': 5826, '일정': 5827, '일정하고': 5828, '일정한': 5829, '일종': 5830, '일주일': 5831, '일찍': 5832, '일체': 5833, '일치': 5834, '일해': 5835, '일행': 5836, '일환': 5837, '일회용': 5838, '읽거나': 5839, '읽게': 5840, '읽고': 5841, '읽기': 5842, '읽는': 5843, '읽어': 5844, '읽어요': 5845, '읽어주셔서': 5846, '읽었고': 5847, '읽었습니다': 5848, '읽었어요': 5849, '읽으셔도': 5850, '읽은': 5851, '읽을': 5852, '읽지': 5853, '잃어버렸어요': 5854, '잃어버리도록': 5855, '잃어버린': 5856, '잃어서': 5857, '잃었습니다': 5858, '잃었을': 5859, '잃을': 5860, '잃지': 5861, '임': 5862, '임기': 5863, '임대': 5864, '임대료': 5865, '임무': 5866, '임박': 5867, '임베디드': 5868, '임상시험': 5869, '임시': 5870, '임원': 5871, '임원진': 5872, '임의': 5873, '임차': 5874, '임펠러': 5875, '입': 5876, '입고': 5877, '입고를': 5878, '입금': 5879, '입니다': 5880, '입니다만': 5881, '입력': 5882, '입맛': 5883, '입사': 5884, '입안': 5885, '입원': 5886, '입으세요': 5887, '입으셨다는': 5888, '입은': 5889, '입자': 5890, '입장': 5891, '입장료': 5892, '입주': 5893, '입지': 5894, '입찰': 5895, '입출': 5896, '입학': 5897, '있': 5898, '있거든요': 5899, '있게': 5900, '있겠고': 5901, '있겠군요': 5902, '있겠니': 5903, '있겠습니까': 5904, '있겠습니다': 5905, '있겠어요': 5906, '있겠죠': 5907, '있겠지만': 5908, '있고': 5909, '있고싶어요': 5910, '있고요': 5911, '있군요': 5912, '있기': 5913, '있기를': 5914, '있기에': 5915, '있길': 5916, '있나요': 5917, '있네요': 5918, '있는': 5919, '있는거죠': 5920, '있는데': 5921, '있는데도': 5922, '있는데요': 5923, '있는지': 5924, '있는지만': 5925, '있는지에': 5926, '있다': 5927, '있다고': 5928, '있다고요': 5929, '있다는': 5930, '있다니': 5931, '있다면': 5932, '있다면서요': 5933, '있단다': 5934, '있답니다': 5935, '있더군요': 5936, '있더라고요': 5937, '있던데요': 5938, '있도록': 5939, '있듯이': 5940, '있습니까': 5941, '있습니다': 5942, '있습니다만': 5943, '있어': 5944, '있어도': 5945, '있어서': 5946, '있어서요': 5947, '있어야': 5948, '있어요': 5949, '있었고': 5950, '있었나요': 5951, '있었는데': 5952, '있었는지': 5953, '있었는지에': 5954, '있었던': 5955, '있었습니까': 5956, '있었습니다': 5957, '있었어요': 5958, '있었으면': 5959, '있었을': 5960, '있었지만': 5961, '있으': 5962, '있으니': 5963, '있으니까': 5964, '있으려면': 5965, '있으며': 5966, '있으면': 5967, '있으므로': 5968, '있으세요': 5969, '있으시겠네요': 5970, '있으시다고': 5971, '있으시다면': 5972, '있으시면': 5973, '있으신': 5974, '있으실': 5975, '있으실까': 5976, '있으십니까': 5977, '있을': 5978, '있을게요': 5979, '있을까': 5980, '있을까요': 5981, '있을지': 5982, '있잖아요': 5983, '있죠': 5984, '있지': 5985, '있지는': 5986, '있지만': 5987, '잊어버렸습니다': 5988, '잊어버렸어요': 5989, '잊어버렸을': 5990, '잊지': 5991, '잎': 5992, '자': 5993, '자게': 5994, '자격': 5995, '자고': 5996, '자국': 5997, '자극': 5998, '자금': 5999, '자기': 6000, '자꾸': 6001, '자녀': 6002, '자는': 6003, '자동': 6004, '자동차': 6005, '자동화': 6006, '자라면': 6007, '자랐습니다': 6008, '자랑': 6009, '자랑스러운': 6010, '자로': 6011, '자료': 6012, '자르는': 6013, '자를': 6014, '자리': 6015, '자마자': 6016, '자막': 6017, '자문': 6018, '자본': 6019, '자사': 6020, '자산': 6021, '자서전': 6022, '자선단체': 6023, '자세한': 6024, '자세히': 6025, '자수': 6026, '자식': 6027, '자신': 6028, '자신감': 6029, '자야': 6030, '자연': 6031, '자연계': 6032, '자연어': 6033, '자영': 6034, '자원': 6035, '자유': 6036, '자유롭게': 6037, '자재': 6038, '자전거': 6039, '자주': 6040, '자질': 6041, '자체': 6042, '자쿠': 6043, '자쿠지': 6044, '자택': 6045, '자판기': 6046, '자회사': 6047, '작': 6048, '작가': 6049, '작고': 6050, '작곡가': 6051, '작기': 6052, '작년': 6053, '작동': 6054, '작문': 6055, '작성': 6056, '작습니다': 6057, '작업': 6058, '작용': 6059, '작은': 6060, '작품': 6061, '잔': 6062, '잔고': 6063, '잔금': 6064, '잔디': 6065, '잔액': 6066, '잘': 6067, '잘되': 6068, '잘라': 6069, '잘라내도록': 6070, '잘못': 6071, '잘해야': 6072, '잠': 6073, '잠금': 6074, '잠깐': 6075, '잠수': 6076, '잠시': 6077, '잠옷': 6078, '잠재': 6079, '잠재력': 6080, '잠정': 6081, '잡': 6082, '잡게': 6083, '잡기': 6084, '잡도록': 6085, '잡아': 6086, '잡아야': 6087, '잡아야지': 6088, '잡아주셔서': 6089, '잡아주시겠어요': 6090, '잡았나요': 6091, '잡았습니다': 6092, '잡으려고': 6093, '잡으면': 6094, '잡으실': 6095, '잡읍시다': 6096, '잡지': 6097, '잡채': 6098, '잡혀': 6099, '잡히면': 6100, '잡힌': 6101, '잤어요': 6102, '장': 6103, '장갑': 6104, '장거리': 6105, '장공': 6106, '장기': 6107, '장님': 6108, '장담': 6109, '장래': 6110, '장르': 6111, '장모님': 6112, '장바구니': 6113, '장벽': 6114, '장부': 6115, '장비': 6116, '장소': 6117, '장식': 6118, '장애': 6119, '장애물': 6120, '장애인': 6121, '장용': 6122, '장의': 6123, '장점': 6124, '장착': 6125, '장치': 6126, '장학금': 6127, '재': 6128, '재개': 6129, '재고': 6130, '재교육': 6131, '재난': 6132, '재능': 6133, '재단': 6134, '재료': 6135, '재무': 6136, '재무부': 6137, '재무제표': 6138, '재미': 6139, '재미있고': 6140, '재미있네요': 6141, '재미있습니다': 6142, '재미있어요': 6143, '재미있을': 6144, '재밌어야': 6145, '재밌었어': 6146, '재밌을': 6147, '재발': 6148, '재봉틀': 6149, '재사용': 6150, '재산': 6151, '재산권': 6152, '재생': 6153, '재워': 6154, '재정': 6155, '재택근무': 6156, '재해': 6157, '재활': 6158, '쟁기질': 6159, '저': 6160, '저녁': 6161, '저녁식사': 6162, '저렴하거나': 6163, '저렴하게': 6164, '저렴하기는': 6165, '저렴한': 6166, '저렴한가요': 6167, '저렴할': 6168, '저렴합니다': 6169, '저렴해요': 6170, '저만': 6171, '저만큼': 6172, '저명한': 6173, '저번': 6174, '저속': 6175, '저자': 6176, '저작권': 6177, '저작권법': 6178, '저장': 6179, '저절로': 6180, '저질러': 6181, '저쪽': 6182, '저축': 6183, '저항기': 6184, '저희': 6185, '적': 6186, '적게': 6187, '적격': 6188, '적극': 6189, '적기': 6190, '적다고': 6191, '적당하고': 6192, '적당한': 6193, '적당합니다': 6194, '적당히': 6195, '적도': 6196, '적립': 6197, '적습니다': 6198, '적어': 6199, '적어도': 6200, '적어야': 6201, '적용': 6202, '적응': 6203, '적이네요': 6204, '적자': 6205, '적재': 6206, '적절하게': 6207, '적절하고': 6208, '적절한': 6209, '적절할': 6210, '적절합니다': 6211, '적절히': 6212, '적정': 6213, '적합하기를': 6214, '적합하죠': 6215, '적합하지': 6216, '적합한': 6217, '적합한지': 6218, '적합할까': 6219, '적합합니다': 6220, '적합해야': 6221, '적혀': 6222, '전': 6223, '전개': 6224, '전공': 6225, '전기': 6226, '전기자전거': 6227, '전날': 6228, '전념': 6229, '전달': 6230, '전동': 6231, '전략': 6232, '전력': 6233, '전류': 6234, '전망': 6235, '전면': 6236, '전무': 6237, '전문': 6238, '전문가': 6239, '전문성': 6240, '전문점': 6241, '전문직': 6242, '전반': 6243, '전병': 6244, '전부': 6245, '전분': 6246, '전선': 6247, '전세계': 6248, '전송': 6249, '전술': 6250, '전시': 6251, '전시장': 6252, '전시회': 6253, '전신': 6254, '전액': 6255, '전역': 6256, '전염병': 6257, '전용': 6258, '전원': 6259, '전이': 6260, '전자': 6261, '전자기': 6262, '전자기기': 6263, '전자레인지': 6264, '전자상거래': 6265, '전자제품': 6266, '전자책': 6267, '전적': 6268, '전체': 6269, '전통': 6270, '전통문화': 6271, '전표': 6272, '전하': 6273, '전해': 6274, '전혀': 6275, '전화': 6276, '전화기': 6277, '전화번호': 6278, '전화하거나': 6279, '전화하겠습니다': 6280, '전화하고': 6281, '전화하기로': 6282, '전화하는': 6283, '전화하면': 6284, '전화하세요': 6285, '전화하셔야': 6286, '전화하셨나요': 6287, '전화하셨는데': 6288, '전화하셨는지': 6289, '전화하셨습니다': 6290, '전화하시는': 6291, '전화하시는지': 6292, '전화하신': 6293, '전화하신다면': 6294, '전화하실': 6295, '전화한': 6296, '전화할게요': 6297, '전화합니다': 6298, '전화해': 6299, '전화해서': 6300, '전화해요': 6301, '전화했는데': 6302, '전화했습니다': 6303, '전화했어요': 6304, '전화했을': 6305, '전환': 6306, '전후': 6307, '젇': 6308, '절': 6309, '절감': 6310, '절기': 6311, '절단': 6312, '절대': 6313, '절반': 6314, '절삭기': 6315, '절실': 6316, '절약': 6317, '절차': 6318, '젊고': 6319, '젊은': 6320, '젊은이': 6321, '점': 6322, '점검': 6323, '점도': 6324, '점수': 6325, '점심': 6326, '점유': 6327, '점자': 6328, '점점': 6329, '점진': 6330, '점화': 6331, '접': 6332, '접근': 6333, '접근성': 6334, '접대': 6335, '접속': 6336, '접수': 6337, '접시': 6338, '접종': 6339, '접착': 6340, '접합': 6341, '젓가락': 6342, '정': 6343, '정관': 6344, '정규': 6345, '정규직': 6346, '정기': 6347, '정기예금': 6348, '정당한': 6349, '정도': 6350, '정독': 6351, '정류장': 6352, '정리': 6353, '정말': 6354, '정말로': 6355, '정밀도': 6356, '정박': 6357, '정보': 6358, '정보기술': 6359, '정본': 6360, '정부': 6361, '정비': 6362, '정비사': 6363, '정산': 6364, '정상': 6365, '정상인': 6366, '정상화': 6367, '정성': 6368, '정수': 6369, '정수기': 6370, '정식': 6371, '정신': 6372, '정원': 6373, '정육점': 6374, '정의': 6375, '정이': 6376, '정적': 6377, '정전': 6378, '정직하게': 6379, '정직하지': 6380, '정직해야': 6381, '정착': 6382, '정책': 6383, '정체': 6384, '정치': 6385, '정치인': 6386, '정통': 6387, '정통하기를': 6388, '정통하지': 6389, '정해': 6390, '정해져': 6391, '정해졌습니다': 6392, '정해졌어요': 6393, '정해진': 6394, '정화': 6395, '정확도': 6396, '정확하게': 6397, '정확하네요': 6398, '정확한': 6399, '정확한지': 6400, '정확합니다': 6401, '정확히': 6402, '정확히는': 6403, '제': 6404, '제거': 6405, '제곱': 6406, '제곱미터': 6407, '제공': 6408, '제기': 6409, '제대로': 6410, '제도': 6411, '제때': 6412, '제로': 6413, '제목': 6414, '제발': 6415, '제보': 6416, '제빵': 6417, '제빵사': 6418, '제삼자': 6419, '제시': 6420, '제안': 6421, '제어': 6422, '제외': 6423, '제일': 6424, '제입': 6425, '제작': 6426, '제작자': 6427, '제작회사': 6428, '제재': 6429, '제적': 6430, '제조': 6431, '제조업': 6432, '제조업체': 6433, '제주': 6434, '제출': 6435, '제품': 6436, '제품군': 6437, '제한': 6438, '제휴': 6439, '젠': 6440, '젯': 6441, '조': 6442, '조각': 6443, '조각가': 6444, '조각상': 6445, '조건': 6446, '조국': 6447, '조금': 6448, '조달': 6449, '조도': 6450, '조로': 6451, '조리': 6452, '조립': 6453, '조만간': 6454, '조명': 6455, '조명탄': 6456, '조물': 6457, '조미료': 6458, '조사': 6459, '조사해': 6460, '조선': 6461, '조수': 6462, '조식': 6463, '조심': 6464, '조심합니다': 6465, '조언': 6466, '조용히': 6467, '조잡하지': 6468, '조장': 6469, '조절': 6470, '조정': 6471, '조정은': 6472, '조지아': 6473, '조직': 6474, '조취': 6475, '조치': 6476, '조카': 6477, '조합': 6478, '조항': 6479, '조화': 6480, '조회': 6481, '족발': 6482, '존경': 6483, '존재': 6484, '존중': 6485, '졸업장': 6486, '좀': 6487, '좁히는': 6488, '종': 6489, '종교': 6490, '종단': 6491, '종도': 6492, '종로': 6493, '종료': 6494, '종류': 6495, '종사': 6496, '종습니': 6497, '종신': 6498, '종업원': 6499, '종이': 6500, '종일': 6501, '종합': 6502, '좋게': 6503, '좋게도': 6504, '좋겠고': 6505, '좋겠군요': 6506, '좋겠네요': 6507, '좋겠습니다': 6508, '좋겠어요': 6509, '좋고': 6510, '좋군요': 6511, '좋네': 6512, '좋네요': 6513, '좋다': 6514, '좋다는': 6515, '좋답니다': 6516, '좋습니다': 6517, '좋아': 6518, '좋아서': 6519, '좋아야': 6520, '좋아요': 6521, '좋아지기': 6522, '좋아하게': 6523, '좋아하나': 6524, '좋아하나요': 6525, '좋아하는': 6526, '좋아하세요': 6527, '좋아하신다면': 6528, '좋아하실': 6529, '좋아하지': 6530, '좋아하지만': 6531, '좋아한다': 6532, '좋아한다는': 6533, '좋아할': 6534, '좋아합니다': 6535, '좋아해서요': 6536, '좋아해요': 6537, '좋았거든요': 6538, '좋았습니다': 6539, '좋았어요': 6540, '좋았을': 6541, '좋으며': 6542, '좋으므로': 6543, '좋으세요': 6544, '좋으시길': 6545, '좋으시네요': 6546, '좋으신': 6547, '좋은': 6548, '좋은가요': 6549, '좋은데': 6550, '좋을': 6551, '좋을까요': 6552, '좋죠': 6553, '좋지': 6554, '좋지만': 6555, '좌석': 6556, '좌우': 6557, '죄송하지만': 6558, '죄송한데': 6559, '죄송합니다': 6560, '죄송합니다만': 6561, '죄송해요': 6562, '주': 6563, '주가': 6564, '주간': 6565, '주간지': 6566, '주거': 6567, '주겠다고': 6568, '주고': 6569, '주고받는': 6570, '주기': 6571, '주길': 6572, '주는': 6573, '주당': 6574, '주된': 6575, '주려구요': 6576, '주렴': 6577, '주로': 6578, '주류': 6579, '주말': 6580, '주머니': 6581, '주목': 6582, '주무셨길': 6583, '주문': 6584, '주므로': 6585, '주민': 6586, '주민등록': 6587, '주방': 6588, '주변': 6589, '주사기': 6590, '주선': 6591, '주세요': 6592, '주셔도': 6593, '주셔서': 6594, '주셔야': 6595, '주셨기': 6596, '주셨나요': 6597, '주셨는데': 6598, '주셨습니까': 6599, '주셨습니다': 6600, '주셨어야': 6601, '주셨어요': 6602, '주셨으면': 6603, '주셨을': 6604, '주셨죠': 6605, '주소': 6606, '주스': 6607, '주시': 6608, '주시거나': 6609, '주시겠습니까': 6610, '주시겠어요': 6611, '주시고요': 6612, '주시길': 6613, '주시나요': 6614, '주식': 6615, '주식시장': 6616, '주신': 6617, '주신다면': 6618, '주실': 6619, '주실래요': 6620, '주어지면': 6621, '주어진': 6622, '주얼': 6623, '주었습니다': 6624, '주었으니': 6625, '주었으면': 6626, '주요': 6627, '주의': 6628, '주인': 6629, '주일': 6630, '주임': 6631, '주자': 6632, '주장': 6633, '주저': 6634, '주제': 6635, '주제가': 6636, '주지': 6637, '주차': 6638, '주차장': 6639, '주철': 6640, '주택': 6641, '주파수': 6642, '죽': 6643, '준': 6644, '준비': 6645, '준수': 6646, '줄': 6647, '줄기': 6648, '줄까': 6649, '줄어': 6650, '줄어들까': 6651, '줄여': 6652, '줄여주셨으면': 6653, '줄였습니다': 6654, '줄이는': 6655, '줄이도록': 6656, '줄이려면': 6657, '줄이셔야': 6658, '줄일': 6659, '줄임말': 6660, '줄입니다': 6661, '줌': 6662, '줍니까': 6663, '줍니다': 6664, '중': 6665, '중간': 6666, '중개': 6667, '중개사': 6668, '중개인': 6669, '중고': 6670, '중고품': 6671, '중공업': 6672, '중국': 6673, '중국집': 6674, '중단': 6675, '중등교육': 6676, '중복': 6677, '중소기업': 6678, '중시': 6679, '중심': 6680, '중심부': 6681, '중요성': 6682, '중요하게': 6683, '중요하기': 6684, '중요하다고': 6685, '중요하죠': 6686, '중요한': 6687, '중요한지': 6688, '중요합니다': 6689, '중요해요': 6690, '중이': 6691, '중인': 6692, '중장비': 6693, '중재': 6694, '중점': 6695, '중형견': 6696, '중환자': 6697, '줘서': 6698, '줘요': 6699, '줬어요': 6700, '즉': 6701, '즉각': 6702, '즉석': 6703, '즉시': 6704, '즐거운': 6705, '즐거움': 6706, '즐거웠습니다': 6707, '즐거웠어요': 6708, '즐겁게': 6709, '즐겁고': 6710, '즐겁습니다': 6711, '즐겁지': 6712, '즐기는': 6713, '즐기시길': 6714, '즐기실': 6715, '즐기지': 6716, '즐길': 6717, '즐깁니다': 6718, '증가': 6719, '증거': 6720, '증권': 6721, '증권사': 6722, '증명': 6723, '증명서': 6724, '증발기': 6725, '증빙': 6726, '증서': 6727, '증세': 6728, '증진': 6729, '증폭': 6730, '증폭기': 6731, '지': 6732, '지갑': 6733, '지게': 6734, '지게차': 6735, '지고': 6736, '지구': 6737, '지금': 6738, '지급': 6739, '지난': 6740, '지난달': 6741, '지난번': 6742, '지난주': 6743, '지난해': 6744, '지남': 6745, '지났고': 6746, '지났는데': 6747, '지났습니다': 6748, '지내': 6749, '지내게': 6750, '지내고': 6751, '지내기': 6752, '지내세요': 6753, '지내셨나요': 6754, '지내셨어요': 6755, '지내시고': 6756, '지내시길': 6757, '지내시나요': 6758, '지내시는': 6759, '지내시죠': 6760, '지내시지': 6761, '지낼': 6762, '지냈어': 6763, '지냈어요': 6764, '지는': 6765, '지능': 6766, '지도': 6767, '지독하게': 6768, '지루하다고': 6769, '지루한': 6770, '지루함': 6771, '지루해하는': 6772, '지를': 6773, '지리': 6774, '지면': 6775, '지명': 6776, '지문': 6777, '지방': 6778, '지불': 6779, '지붕': 6780, '지사': 6781, '지속': 6782, '지수': 6783, '지시': 6784, '지식': 6785, '지어졌습니다': 6786, '지에': 6787, '지역': 6788, '지역성': 6789, '지연': 6790, '지용': 6791, '지워': 6792, '지원': 6793, '지원이': 6794, '지을': 6795, '지인': 6796, '지저분하지': 6797, '지적': 6798, '지점': 6799, '지정': 6800, '지주': 6801, '지지': 6802, '지체': 6803, '지출': 6804, '지침': 6805, '지켜보고': 6806, '지켜봐': 6807, '지켜봐야겠습니다': 6808, '지켜야': 6809, '지키겠': 6810, '지키는': 6811, '지키셔야': 6812, '지폐': 6813, '지표': 6814, '지프': 6815, '지하실': 6816, '지하철': 6817, '지향': 6818, '직': 6819, '직감': 6820, '직경': 6821, '직급': 6822, '직도': 6823, '직면': 6824, '직물': 6825, '직불': 6826, '직업': 6827, '직원': 6828, '직장': 6829, '직접': 6830, '직접투자': 6831, '직책': 6832, '진': 6833, '진공': 6834, '진과': 6835, '진단': 6836, '진동': 6837, '진상': 6838, '진실': 6839, '진실하고': 6840, '진심': 6841, '진의': 6842, '진입': 6843, '진정': 6844, '진정한': 6845, '진지하게': 6846, '진짜': 6847, '진출': 6848, '진행': 6849, '진행자': 6850, '진화': 6851, '진흥': 6852, '질': 6853, '질감': 6854, '질문': 6855, '질병': 6856, '질환': 6857, '짐': 6858, '집': 6859, '집값': 6860, '집니다': 6861, '집단': 6862, '집세': 6863, '집안일': 6864, '집은': 6865, '집의': 6866, '집주인': 6867, '집중': 6868, '집하장': 6869, '집합': 6870, '집행': 6871, '집행자': 6872, '집히는': 6873, '짓고': 6874, '짓는': 6875, '짓도록': 6876, '징': 6877, '징글링': 6878, '짚': 6879, '짜': 6880, '짜는': 6881, '짜리': 6882, '짜장': 6883, '짤': 6884, '짧게': 6885, '짧은': 6886, '짧지만': 6887, '쪽': 6888, '쫓아내고': 6889, '쯤': 6890, '찌개': 6891, '찍고': 6892, '찍다': 6893, '찍어': 6894, '찍어서': 6895, '찍은': 6896, '찍혀있습니다': 6897, '찜': 6898, '찜질방': 6899, '찢어져': 6900, '차': 6901, '차가': 6902, '차가운': 6903, '차감': 6904, '차갑게': 6905, '차고': 6906, '차기': 6907, '차나요': 6908, '차단': 6909, '차도': 6910, '차등': 6911, '차라리': 6912, '차랍니다': 6913, '차량': 6914, '차려놓은': 6915, '차례': 6916, '차리고': 6917, '차리세요': 6918, '차린': 6919, '차릴까': 6920, '차별': 6921, '차서': 6922, '차용': 6923, '차원': 6924, '차이': 6925, '차이는': 6926, '차이점': 6927, '차입': 6928, '차지': 6929, '차질': 6930, '차트': 6931, '찬': 6932, '찬으실까': 6933, '참가': 6934, '참가자': 6935, '참고': 6936, '참배': 6937, '참석': 6938, '참석자': 6939, '참여': 6940, '참으로': 6941, '참조': 6942, '참하고': 6943, '찹쌀': 6944, '찼습니다': 6945, '창': 6946, '창가': 6947, '창고': 6948, '창구': 6949, '창립': 6950, '창문': 6951, '창업': 6952, '창의': 6953, '찾고': 6954, '찾기': 6955, '찾는': 6956, '찾는다고': 6957, '찾다가': 6958, '찾던': 6959, '찾아': 6960, '찾아보겠습니다': 6961, '찾아보는': 6962, '찾아보세요': 6963, '찾아보시는': 6964, '찾아볼': 6965, '찾아볼게요': 6966, '찾아봐야겠네요': 6967, '찾아야': 6968, '찾아오셨네요': 6969, '찾아왔습니다': 6970, '찾아주셔서': 6971, '찾았고': 6972, '찾았습니다': 6973, '찾았어요': 6974, '찾으러': 6975, '찾으려면': 6976, '찾으면': 6977, '찾으시기': 6978, '찾으시나요': 6979, '찾으시는': 6980, '찾으시는지': 6981, '찾은': 6982, '찾을': 6983, '찾지': 6984, '채': 6985, '채굴': 6986, '채권': 6987, '채권자': 6988, '채널': 6989, '채무': 6990, '채무자': 6991, '채색': 6992, '채소': 6993, '채식': 6994, '채식주의자': 6995, '채용': 6996, '채우고': 6997, '채우지': 6998, '채워졌습니다': 6999, '채취': 7000, '채택': 7001, '채팅': 7002, '책': 7003, '책임': 7004, '책임감': 7005, '책임자': 7006, '책임지겠습니다': 7007, '책임지기로': 7008, '책임지는': 7009, '책임질': 7010, '책자': 7011, '책정': 7012, '챔버입니': 7013, '챕': 7014, '처': 7015, '처가': 7016, '처리': 7017, '처리기': 7018, '처방': 7019, '처분': 7020, '처음': 7021, '천만': 7022, '천연': 7023, '천연가스': 7024, '천장': 7025, '천천히': 7026, '철': 7027, '철강': 7028, '철도': 7029, '철저하게': 7030, '철제': 7031, '철학': 7032, '철회': 7033, '첨부': 7034, '첫': 7035, '첫날': 7036, '첫인상': 7037, '첫째': 7038, '청': 7039, '청각장애': 7040, '청구': 7041, '청년': 7042, '청동': 7043, '청문회': 7044, '청사진': 7045, '청소': 7046, '청소년': 7047, '청정': 7048, '청정기': 7049, '청중': 7050, '청취': 7051, '체결': 7052, '체납': 7053, '체류': 7054, '체육관': 7055, '체인': 7056, '체인점': 7057, '체제': 7058, '체크': 7059, '체크아웃': 7060, '체험': 7061, '쳐진': 7062, '초': 7063, '초고': 7064, '초과': 7065, '초기': 7066, '초당': 7067, '초대': 7068, '초대장': 7069, '초래': 7070, '초상화': 7071, '초안': 7072, '초음파': 7073, '초입': 7074, '초점': 7075, '초청': 7076, '초콜릿': 7077, '촉구': 7078, '촉박하니': 7079, '총': 7080, '총수': 7081, '총칭': 7082, '촬영': 7083, '최': 7084, '최고': 7085, '최고급': 7086, '최근': 7087, '최대': 7088, '최대한': 7089, '최상': 7090, '최선': 7091, '최선일': 7092, '최소': 7093, '최소한': 7094, '최신': 7095, '최악': 7096, '최저': 7097, '최적': 7098, '최적화': 7099, '최종': 7100, '최첨단': 7101, '최초': 7102, '쵸': 7103, '추가': 7104, '추구': 7105, '추는': 7106, '추석': 7107, '추세': 7108, '추억': 7109, '추운데': 7110, '추울지라도': 7111, '추적': 7112, '추정': 7113, '추진': 7114, '추천': 7115, '추출': 7116, '추후': 7117, '축': 7118, '축배': 7119, '축소': 7120, '축하': 7121, '출': 7122, '출구': 7123, '출금': 7124, '출두': 7125, '출력': 7126, '출발점': 7127, '출산': 7128, '출시': 7129, '출연': 7130, '출이': 7131, '출장': 7132, '출퇴근': 7133, '출판': 7134, '출판물': 7135, '출판사': 7136, '출하': 7137, '출하겠습니다': 7138, '출하실': 7139, '춤': 7140, '충': 7141, '충격': 7142, '충당': 7143, '충돌': 7144, '충분하네요': 7145, '충분하다고': 7146, '충분하지': 7147, '충분한': 7148, '충분할': 7149, '충분할까': 7150, '충분합니다': 7151, '충분해요': 7152, '충분히': 7153, '충실한': 7154, '충실했기': 7155, '충전': 7156, '충전기': 7157, '충족': 7158, '취': 7159, '취급': 7160, '취득': 7161, '취미': 7162, '취사': 7163, '취소': 7164, '취약': 7165, '취재': 7166, '취직': 7167, '취하': 7168, '취한': 7169, '취할': 7170, '취해': 7171, '취향': 7172, '측': 7173, '측면': 7174, '측정': 7175, '측정기': 7176, '층': 7177, '치': 7178, '치가': 7179, '치과': 7180, '치료': 7181, '치르려면': 7182, '치맥': 7183, '치솟는': 7184, '치수': 7185, '치열해져서': 7186, '치즈': 7187, '치킨': 7188, '친': 7189, '친구': 7190, '친절하게': 7191, '친절하고': 7192, '친절한': 7193, '친절함과': 7194, '친척': 7195, '친한': 7196, '친환경': 7197, '칠': 7198, '칠했으면': 7199, '침': 7200, '침대': 7201, '침실': 7202, '침입': 7203, '침체': 7204, '침해': 7205, '칩': 7206, '칩셋': 7207, '칭찬': 7208, '카드': 7209, '카메라': 7210, '카뷰': 7211, '카운터': 7212, '카운트다운': 7213, '카지노': 7214, '카탈로그': 7215, '카테고리': 7216, '카트': 7217, '카페': 7218, '카페테리아': 7219, '카펫': 7220, '카피': 7221, '칵테일': 7222, '칸': 7223, '칼': 7224, '칼리': 7225, '캐': 7226, '캐나다': 7227, '캐리어': 7228, '캐릭터': 7229, '캐비닛': 7230, '캐빈': 7231, '캐싱': 7232, '캐터필러': 7233, '캐피탈': 7234, '캐피털': 7235, '캘리포니아': 7236, '캘린더': 7237, '캠': 7238, '캠퍼스': 7239, '캠페인': 7240, '캠프': 7241, '캠프장': 7242, '캠프파이어': 7243, '캠핑': 7244, '캠핑장': 7245, '캠핑카': 7246, '캡슐화': 7247, '캡처': 7248, '커뮤니케이션': 7249, '커뮤니티': 7250, '커미션': 7251, '커버': 7252, '커지고': 7253, '커질': 7254, '커집니다': 7255, '커터': 7256, '커튼': 7257, '커플': 7258, '커피': 7259, '커피메이커': 7260, '컨디셔닝': 7261, '컨베이어': 7262, '컨설턴트': 7263, '컨설팅': 7264, '컨셉': 7265, '컨테이너': 7266, '컨텐츠': 7267, '컬래버레이션': 7268, '컬러': 7269, '컴퍼니': 7270, '컴포트룸': 7271, '컴퓨터': 7272, '컴퓨팅': 7273, '컴프레서': 7274, '컷': 7275, '케어': 7276, '케이': 7277, '케이블': 7278, '케이스': 7279, '케이크': 7280, '코': 7281, '코너': 7282, '코드': 7283, '코딩': 7284, '코로나': 7285, '코르크': 7286, '코리아': 7287, '코리안': 7288, '코멘트': 7289, '코스': 7290, '코스닥': 7291, '코인': 7292, '코치': 7293, '코칭': 7294, '코코넛': 7295, '코퍼레이션': 7296, '콕': 7297, '콘덴서': 7298, '콘도': 7299, '콘도그': 7300, '콘서트': 7301, '콘셉': 7302, '콘셉트': 7303, '콘솔': 7304, '콘크리트': 7305, '콘텐츠': 7306, '콜리': 7307, '콜링': 7308, '콜카타': 7309, '콩나물': 7310, '쾌적한': 7311, '쿠션': 7312, '쿠알라룸푸르': 7313, '쿠키': 7314, '쿠폰': 7315, '쿨': 7316, '쿨러': 7317, '퀼트': 7318, '큐': 7319, '크가': 7320, '크게': 7321, '크고요': 7322, '크기': 7323, '크네요': 7324, '크라': 7325, '크레딧': 7326, '크레인': 7327, '크루아상': 7328, '크류': 7329, '크를': 7330, '크리스마스': 7331, '크리에이터': 7332, '크리에이티브': 7333, '크립': 7334, '크며': 7335, '큰': 7336, '큰가요': 7337, '큰데': 7338, '큰데요': 7339, '클라우드': 7340, '클라이언트': 7341, '클래스': 7342, '클러스터': 7343, '클럽': 7344, '클레': 7345, '클리': 7346, '클릭': 7347, '클릭률': 7348, '클립': 7349, '큽니까': 7350, '큽니다': 7351, '키': 7352, '키란': 7353, '키우고': 7354, '키울': 7355, '키워': 7356, '키트': 7357, '킬로그램': 7358, '킬로미터': 7359, '킬로와트': 7360, '타': 7361, '타겟': 7362, '타고': 7363, '타기를': 7364, '타깃': 7365, '타는': 7366, '타당': 7367, '타러': 7368, '타운하우스': 7369, '타원곡선': 7370, '타이머': 7371, '타이밍': 7372, '타이어': 7373, '타이틀곡': 7374, '타임': 7375, '타임스퀘어': 7376, '타입': 7377, '타자기': 7378, '타협': 7379, '탁월한': 7380, '탁자': 7381, '탄소': 7382, '탄원서': 7383, '탈': 7384, '탈세': 7385, '탈수': 7386, '탈퇴': 7387, '탐구': 7388, '탐방': 7389, '탐색': 7390, '탐험': 7391, '탑': 7392, '탑승': 7393, '탑재': 7394, '탕': 7395, '탕감': 7396, '태국': 7397, '태국어': 7398, '태그': 7399, '태극': 7400, '태극기': 7401, '태도': 7402, '태블릿': 7403, '태양': 7404, '택배': 7405, '탤런트': 7406, '탭': 7407, '터': 7408, '터널': 7409, '터링': 7410, '터미널': 7411, '터북': 7412, '터치': 7413, '터치스크린': 7414, '터키': 7415, '턴': 7416, '턴키': 7417, '테': 7418, '테니스': 7419, '테라': 7420, '테라바이트': 7421, '테라스': 7422, '테마': 7423, '테스': 7424, '테스트': 7425, '테이': 7426, '테이블': 7427, '테이프': 7428, '테크놀로지': 7429, '텍스처': 7430, '텍스트': 7431, '텐데': 7432, '텐데요': 7433, '텐트': 7434, '텔레비전': 7435, '템플': 7436, '템플릿': 7437, '템플스테이': 7438, '토너': 7439, '토론': 7440, '토르티야': 7441, '토목': 7442, '토스터': 7443, '토스트': 7444, '토요일': 7445, '토지': 7446, '토큰': 7447, '톤': 7448, '통': 7449, '통계': 7450, '통과': 7451, '통관': 7452, '통닭': 7453, '통도사': 7454, '통보': 7455, '통상': 7456, '통신': 7457, '통신망': 7458, '통신사': 7459, '통역': 7460, '통역관': 7461, '통장': 7462, '통제': 7463, '통지': 7464, '통지서': 7465, '통째': 7466, '통찰': 7467, '통한': 7468, '통합': 7469, '통해': 7470, '통화': 7471, '퇴근': 7472, '퇴사': 7473, '투': 7474, '투명': 7475, '투명하므로': 7476, '투숙': 7477, '투어': 7478, '투자': 7479, '투자가': 7480, '투자수익률': 7481, '투자자': 7482, '툴': 7483, '튀긴': 7484, '튀김': 7485, '튜브': 7486, '튜토리얼': 7487, '트': 7488, '트는': 7489, '트래킹': 7490, '트래픽': 7491, '트랙볼': 7492, '트랙터': 7493, '트랙패드': 7494, '트랜치': 7495, '트러블': 7496, '트럭': 7497, '트레인': 7498, '트레일러': 7499, '트렌드': 7500, '트리': 7501, '트리트먼트': 7502, '트리플': 7503, '트윈': 7504, '트입니다': 7505, '특권': 7506, '특급': 7507, '특기': 7508, '특별': 7509, '특별하게': 7510, '특별한': 7511, '특별할': 7512, '특별해': 7513, '특별히': 7514, '특산': 7515, '특선': 7516, '특성': 7517, '특수': 7518, '특수한': 7519, '특정': 7520, '특정한': 7521, '특제': 7522, '특집': 7523, '특징': 7524, '특허': 7525, '특히': 7526, '튼튼한': 7527, '틀림없습니다': 7528, '틀림없이': 7529, '틀어놓아서': 7530, '틈': 7531, '틈새': 7532, '티': 7533, '티슈': 7534, '티저': 7535, '티켓': 7536, '팀': 7537, '팀원': 7538, '팁': 7539, '팅': 7540, '파견': 7541, '파괴': 7542, '파는': 7543, '파란색': 7544, '파로': 7545, '파리': 7546, '파산': 7547, '파산하기': 7548, '파산하지': 7549, '파손': 7550, '파스타': 7551, '파악': 7552, '파워': 7553, '파이': 7554, '파이썬': 7555, '파이프': 7556, '파이프라인': 7557, '파인': 7558, '파일': 7559, '파키스탄': 7560, '파트너': 7561, '파트너쉽': 7562, '파티': 7563, '파파야': 7564, '판': 7565, '판금': 7566, '판다던데': 7567, '판단': 7568, '판매': 7569, '판매량': 7570, '판매업': 7571, '판명': 7572, '판촉': 7573, '팔': 7574, '팔겠네요': 7575, '팔고': 7576, '팔레트': 7577, '팔려면': 7578, '팔로우': 7579, '팔로워': 7580, '팔리고': 7581, '팔리는': 7582, '팔립니다': 7583, '팔지': 7584, '팜': 7585, '팜스프링스': 7586, '팜유': 7587, '팝': 7588, '팟캐스트': 7589, '패널': 7590, '패션': 7591, '패스': 7592, '패스트': 7593, '패스트푸드': 7594, '패자': 7595, '패치': 7596, '패키지': 7597, '패턴': 7598, '팩': 7599, '팩스': 7600, '팬': 7601, '팬데믹': 7602, '팬케이크': 7603, '팸플릿': 7604, '퍼센트': 7605, '퍼지는지는': 7606, '펀드': 7607, '펀딩': 7608, '펄스': 7609, '펌프': 7610, '페스티벌': 7611, '페이': 7612, '페이스': 7613, '페이지': 7614, '펜션': 7615, '펠메니': 7616, '펴고': 7617, '펴는': 7618, '편': 7619, '편곡': 7620, '편도': 7621, '편리하나요': 7622, '편리하도록': 7623, '편리한': 7624, '편리한지': 7625, '편리합니까': 7626, '편리합니다': 7627, '편물': 7628, '편안하게': 7629, '편안하고': 7630, '편안한': 7631, '편안함': 7632, '편안히': 7633, '편애': 7634, '편의': 7635, '편의점': 7636, '편이': 7637, '편입': 7638, '편지': 7639, '편지함': 7640, '편집': 7641, '편집자': 7642, '편하게': 7643, '편하신': 7644, '편하지': 7645, '편하지는': 7646, '편합니다': 7647, '편해요': 7648, '편히': 7649, '평가': 7650, '평가판': 7651, '평균': 7652, '평면도': 7653, '평방': 7654, '평범해': 7655, '평생': 7656, '평일': 7657, '평점': 7658, '평판': 7659, '평편': 7660, '평평하게': 7661, '평화': 7662, '폐가': 7663, '폐기물': 7664, '폐쇄': 7665, '폐쇄되어': 7666, '폐쇄하': 7667, '포': 7668, '포격': 7669, '포괄': 7670, '포기': 7671, '포스터': 7672, '포스트': 7673, '포스팅': 7674, '포인트': 7675, '포장': 7676, '포지셔닝': 7677, '포지션': 7678, '포켓': 7679, '포탄': 7680, '포털': 7681, '포토': 7682, '포트': 7683, '포트폴리오': 7684, '포함': 7685, '포항': 7686, '폭': 7687, '폭력': 7688, '폰': 7689, '폰트': 7690, '폴더': 7691, '폴리스티렌': 7692, '폴리오': 7693, '폴리우레탄': 7694, '폼': 7695, '표': 7696, '표면': 7697, '표시': 7698, '표절': 7699, '표정': 7700, '표준': 7701, '표지': 7702, '표현': 7703, '푸드': 7704, '풀': 7705, '풀어': 7706, '품': 7707, '품목': 7708, '품은': 7709, '품절': 7710, '품종': 7711, '품질': 7712, '풍': 7713, '풍부할': 7714, '풍향': 7715, '퓨전': 7716, '프라이': 7717, '프라이드': 7718, '프라이머리': 7719, '프랑스': 7720, '프랑스어': 7721, '프랜차이즈': 7722, '프레': 7723, '프레임': 7724, '프레임워크': 7725, '프로': 7726, '프로그래머': 7727, '프로그래밍': 7728, '프로그램': 7729, '프로듀서': 7730, '프로모션': 7731, '프로세서': 7732, '프로세스': 7733, '프로젝터': 7734, '프로젝트': 7735, '프로토콜': 7736, '프로토타입': 7737, '프로필': 7738, '프루티': 7739, '프리랜서': 7740, '프리미엄': 7741, '프리뷰': 7742, '프린터': 7743, '플': 7744, '플라스틱': 7745, '플라이': 7746, '플라자': 7747, '플래닝': 7748, '플래시': 7749, '플래티넘': 7750, '플랜': 7751, '플랫폼': 7752, '플러그인': 7753, '플러머': 7754, '플러스': 7755, '플레이': 7756, '플레이어': 7757, '플로우': 7758, '플로터': 7759, '플루': 7760, '플립': 7761, '피': 7762, '피나': 7763, '피니쉬': 7764, '피드백': 7765, '피로연': 7766, '피부': 7767, '피스톤': 7768, '피아노': 7769, '피우기에는': 7770, '피칭팀': 7771, '피크': 7772, '피트': 7773, '피트니스': 7774, '피하': 7775, '피해': 7776, '피해자': 7777, '픽셀': 7778, '픽업': 7779, '핀': 7780, '필기체': 7781, '필드': 7782, '필름': 7783, '필리핀': 7784, '필수': 7785, '필요': 7786, '필요성': 7787, '필요없을': 7788, '필요없이': 7789, '필요하고': 7790, '필요하기': 7791, '필요하나요': 7792, '필요하니': 7793, '필요하니까': 7794, '필요하다고': 7795, '필요하므로': 7796, '필요하세요': 7797, '필요하시나요': 7798, '필요하시다면': 7799, '필요하시면': 7800, '필요하시죠': 7801, '필요하신': 7802, '필요하신가요': 7803, '필요하신지': 7804, '필요하십니까': 7805, '필요하죠': 7806, '필요하지': 7807, '필요하지는': 7808, '필요한': 7809, '필요한가요': 7810, '필요한데요': 7811, '필요한지': 7812, '필요할': 7813, '필요합니까': 7814, '필요합니다': 7815, '필요해서': 7816, '필요해서요': 7817, '필요해요': 7818, '필요했어요': 7819, '필욘': 7820, '필터': 7821, '핑크': 7822, '하': 7823, '하게': 7824, '하겠네요': 7825, '하겠다고': 7826, '하겠습니다': 7827, '하겠습니다만': 7828, '하겠어요': 7829, '하고': 7830, '하고요': 7831, '하고있는': 7832, '하고자': 7833, '하기': 7834, '하기가': 7835, '하기까지': 7836, '하기는': 7837, '하기로': 7838, '하기를': 7839, '하기만': 7840, '하기에': 7841, '하기에는': 7842, '하긴': 7843, '하길': 7844, '하나': 7845, '하나로': 7846, '하나요': 7847, '하네요': 7848, '하느냐에': 7849, '하는': 7850, '하는데': 7851, '하는데요': 7852, '하는지': 7853, '하는지를': 7854, '하는지에': 7855, '하는지요': 7856, '하니': 7857, '하니까': 7858, '하다': 7859, '하다고': 7860, '하단': 7861, '하더군요': 7862, '하더라도': 7863, '하도록': 7864, '하드': 7865, '하드웨어': 7866, '하락': 7867, '하러': 7868, '하려': 7869, '하려고': 7870, '하려고요': 7871, '하려는': 7872, '하려면': 7873, '하루': 7874, '하루나': 7875, '하룻밤': 7876, '하며': 7877, '하면': 7878, '하면서': 7879, '하므로': 7880, '하세요': 7881, '하셔도': 7882, '하셔서': 7883, '하셔야': 7884, '하셨군요': 7885, '하셨기': 7886, '하셨나요': 7887, '하셨는데': 7888, '하셨는데요': 7889, '하셨는지': 7890, '하셨다고': 7891, '하셨다면': 7892, '하셨습니까': 7893, '하셨습니다': 7894, '하셨어야': 7895, '하셨어요': 7896, '하셨으니': 7897, '하셨으면': 7898, '하셨잖아요': 7899, '하셨죠': 7900, '하수': 7901, '하숙집': 7902, '하시': 7903, '하시거나': 7904, '하시게': 7905, '하시겠습니까': 7906, '하시겠어요': 7907, '하시고': 7908, '하시기': 7909, '하시길': 7910, '하시나요': 7911, '하시는': 7912, '하시는군요': 7913, '하시는데요': 7914, '하시는지': 7915, '하시는지에': 7916, '하시니까': 7917, '하시더라도': 7918, '하시도록': 7919, '하시려던': 7920, '하시려면': 7921, '하시면': 7922, '하시죠': 7923, '하시지': 7924, '하신': 7925, '하신다고': 7926, '하신다는': 7927, '하실': 7928, '하실것': 7929, '하실래요': 7930, '하실수': 7931, '하실지': 7932, '하십니까': 7933, '하십니다': 7934, '하십시오': 7935, '하얀색': 7936, '하여': 7937, '하여야': 7938, '하였나요': 7939, '하였다': 7940, '하였습니다': 7941, '하였으며': 7942, '하오니': 7943, '하와이': 7944, '하우': 7945, '하우스': 7946, '하이재킹': 7947, '하이킹': 7948, '하이테크': 7949, '하자': 7950, '하자구요': 7951, '하잖아요': 7952, '하죠': 7953, '하지': 7954, '하지는': 7955, '하지만': 7956, '하지요': 7957, '학': 7958, '학과': 7959, '학교': 7960, '학기': 7961, '학년': 7962, '학문': 7963, '학생': 7964, '학술': 7965, '학습': 7966, '학업': 7967, '학원': 7968, '학위': 7969, '학자': 7970, '학자금': 7971, '한': 7972, '한가한데': 7973, '한계': 7974, '한국': 7975, '한국어': 7976, '한국은행': 7977, '한국인': 7978, '한꺼': 7979, '한다': 7980, '한다고': 7981, '한다는': 7982, '한다면': 7983, '한도': 7984, '한두': 7985, '한마디': 7986, '한번': 7987, '한식': 7988, '한식당': 7989, '한옥호텔': 7990, '한우': 7991, '한자': 7992, '한잔': 7993, '한정': 7994, '한정식': 7995, '한정판': 7996, '한지': 7997, '한창': 7998, '한층': 7999, '한편': 8000, '할': 8001, '할게': 8002, '할게요': 8003, '할까': 8004, '할당': 8005, '할랄': 8006, '할머니': 8007, '할부': 8008, '할애': 8009, '할인': 8010, '할지': 8011, '할지에': 8012, '함': 8013, '함께': 8014, '함께해': 8015, '합': 8016, '합격': 8017, '합계': 8018, '합니다': 8019, '합니다만': 8020, '합류': 8021, '합리': 8022, '합법': 8023, '합성': 8024, '합시다': 8025, '합의': 8026, '합작': 8027, '합쳐서': 8028, '합판': 8029, '핫': 8030, '핫스팟': 8031, '항': 8032, '항공': 8033, '항공사': 8034, '항구': 8035, '항목': 8036, '항상': 8037, '항성': 8038, '항의': 8039, '해': 8040, '해결': 8041, '해고': 8042, '해당': 8043, '해도': 8044, '해독': 8045, '해드려': 8046, '해드려서': 8047, '해드려요': 8048, '해드렸으면': 8049, '해드리겠습니다': 8050, '해드리고': 8051, '해드리도록': 8052, '해드릴': 8053, '해드릴게요': 8054, '해드릴까': 8055, '해드립니다': 8056, '해명': 8057, '해변': 8058, '해보겠습니다': 8059, '해보고': 8060, '해보는': 8061, '해보니': 8062, '해보도록': 8063, '해보려고': 8064, '해보면': 8065, '해보셔도': 8066, '해보셨나요': 8067, '해보셨을까요': 8068, '해보시는': 8069, '해보죠': 8070, '해볼': 8071, '해볼게요': 8072, '해볼까': 8073, '해봐야': 8074, '해봐야겠네요': 8075, '해봐야겠어요': 8076, '해봤고': 8077, '해봤는데': 8078, '해상도': 8079, '해서': 8080, '해서는': 8081, '해서도': 8082, '해서라면': 8083, '해서만': 8084, '해서예요': 8085, '해서요': 8086, '해석': 8087, '해소': 8088, '해심': 8089, '해안': 8090, '해야': 8091, '해야겠군요': 8092, '해야겠네요': 8093, '해야겠습니다': 8094, '해야겠어요': 8095, '해야하나요': 8096, '해오겠습니다': 8097, '해와': 8098, '해왔기': 8099, '해왔는지': 8100, '해왔습니다': 8101, '해왔어요': 8102, '해외': 8103, '해외여행': 8104, '해요': 8105, '해졌습니까': 8106, '해주고': 8107, '해주길': 8108, '해주는': 8109, '해주는지': 8110, '해주세요': 8111, '해주셔서': 8112, '해주셔야': 8113, '해주셨으면': 8114, '해주시': 8115, '해주시겠습니까': 8116, '해주시겠어요': 8117, '해주시고': 8118, '해주시기': 8119, '해주시길': 8120, '해주시나요': 8121, '해주시면': 8122, '해주신': 8123, '해주실': 8124, '해주십니까': 8125, '해주십니다': 8126, '해주십시오': 8127, '해주었어요': 8128, '해주지': 8129, '해준': 8130, '해줄': 8131, '해줍니다': 8132, '해줘서': 8133, '해줘요': 8134, '해지': 8135, '해초': 8136, '해커': 8137, '해킹': 8138, '해피': 8139, '핵심': 8140, '핸드폰': 8141, '했': 8142, '했거든요': 8143, '했고': 8144, '했고요': 8145, '했기': 8146, '했나요': 8147, '했네요': 8148, '했는데': 8149, '했는데요': 8150, '했는지': 8151, '했다': 8152, '했다고': 8153, '했다는': 8154, '했다면': 8155, '했던': 8156, '했듯이': 8157, '했습니까': 8158, '했습니다': 8159, '했어': 8160, '했어야': 8161, '했어요': 8162, '했었는데요': 8163, '했었습니다': 8164, '했었어요': 8165, '했으니': 8166, '했으며': 8167, '했으면': 8168, '했을': 8169, '했음': 8170, '했잖아요': 8171, '했죠': 8172, '했지만': 8173, '행': 8174, '행동': 8175, '행복': 8176, '행복하고': 8177, '행복하죠': 8178, '행복하지': 8179, '행복한': 8180, '행복합니다': 8181, '행사': 8182, '행운': 8183, '행해지나요': 8184, '향': 8185, '향상': 8186, '향수': 8187, '향신료': 8188, '향후': 8189, '허가': 8190, '허가증': 8191, '허락': 8192, '허브': 8193, '허브차': 8194, '허슬': 8195, '허용': 8196, '허튼': 8197, '허풍': 8198, '헌신': 8199, '헐벗': 8200, '헤드헌터': 8201, '헤어드라이어': 8202, '헤지': 8203, '헬': 8204, '헬스장': 8205, '헷갈려요': 8206, '헷갈리시는': 8207, '혁신': 8208, '현': 8209, '현금': 8210, '현대': 8211, '현명하게': 8212, '현명한': 8213, '현미경': 8214, '현상': 8215, '현수막': 8216, '현장': 8217, '현재': 8218, '현지': 8219, '현행': 8220, '현황': 8221, '혈압': 8222, '혈액': 8223, '혐의': 8224, '협동': 8225, '협력': 8226, '협상': 8227, '협약': 8228, '협연': 8229, '협의': 8230, '협정': 8231, '협조': 8232, '협찬': 8233, '협회': 8234, '형': 8235, '형기': 8236, '형성': 8237, '형식': 8238, '형제': 8239, '형태': 8240, '혜택': 8241, '호도': 8242, '호법': 8243, '호스팅': 8244, '호실': 8245, '호의': 8246, '호주': 8247, '호출': 8248, '호텔': 8249, '호환': 8250, '호환성': 8251, '호흡': 8252, '혹독한': 8253, '혹시': 8254, '혹은': 8255, '혼란': 8256, '혼자': 8257, '혼잡합니다': 8258, '혼합': 8259, '홀': 8260, '홈': 8261, '홈스테이': 8262, '홈페이지': 8263, '홋카이도': 8264, '홍보': 8265, '화가': 8266, '화거': 8267, '화기': 8268, '화나게': 8269, '화나신': 8270, '화면': 8271, '화물': 8272, '화물선': 8273, '화보': 8274, '화상': 8275, '화상통화': 8276, '화상회의': 8277, '화소': 8278, '화요일': 8279, '화의': 8280, '화이트': 8281, '화장실': 8282, '화장품': 8283, '화전': 8284, '화폐': 8285, '화하는': 8286, '화학': 8287, '화할': 8288, '화합': 8289, '화해': 8290, '화해줘요': 8291, '확고한': 8292, '확답': 8293, '확대': 8294, '확보': 8295, '확신': 8296, '확실하거든요': 8297, '확실하게': 8298, '확실하며': 8299, '확실하신가요': 8300, '확실하지': 8301, '확실한': 8302, '확실할': 8303, '확실합니다': 8304, '확실해지셨나요': 8305, '확실히': 8306, '확인': 8307, '확장': 8308, '확정': 8309, '환': 8310, '환경': 8311, '환급': 8312, '환불': 8313, '환상': 8314, '환영': 8315, '환율': 8316, '환자': 8317, '환전': 8318, '환호': 8319, '활': 8320, '활동': 8321, '활발하게': 8322, '활성화': 8323, '활용': 8324, '회': 8325, '회계': 8326, '회계법인': 8327, '회계사': 8328, '회도': 8329, '회로': 8330, '회복': 8331, '회복할': 8332, '회비': 8333, '회사': 8334, '회수': 8335, '회신': 8336, '회원': 8337, '회의': 8338, '회의실': 8339, '회의장': 8340, '회장': 8341, '회전': 8342, '회차': 8343, '회화': 8344, '횡설수설': 8345, '효과': 8346, '효율': 8347, '후': 8348, '후루룩': 8349, '후불': 8350, '후속': 8351, '후송': 8352, '후식': 8353, '후원': 8354, '후원자': 8355, '후의': 8356, '후회': 8357, '훈련': 8358, '훌륭하고': 8359, '훌륭하네요': 8360, '훌륭하지만': 8361, '훌륭한': 8362, '훌륭할': 8363, '훌륭합니다': 8364, '훑어': 8365, '훨씬': 8366, '훼손': 8367, '휘': 8368, '휘발유': 8369, '휠': 8370, '휩쓸었고': 8371, '휴': 8372, '휴가': 8373, '휴대': 8374, '휴대전화': 8375, '휴대폰': 8376, '휴식': 8377, '휴양': 8378, '흐름': 8379, '흐릿하': 8380, '흑자': 8381, '흔히': 8382, '흘려': 8383, '흘리고': 8384, '흙': 8385, '흙빛': 8386, '흡사합니다': 8387, '흡수': 8388, '흡입': 8389, '흥미': 8390, '흥미로운': 8391, '흥미로워': 8392, '흥미롭게': 8393, '흥미롭군요': 8394, '흥미롭네요': 8395, '흥미롭습니다': 8396, '흥분': 8397, '흥분하고': 8398, '흥분할': 8399, '희망': 8400, '흰색': 8401, '히': 8402, '히트': 8403, '힘': 8404, '힘들어도': 8405, '힘들어요': 8406, '힘쓰고': 8407}\n"
          ]
        }
      ]
    },
    {
      "cell_type": "markdown",
      "source": [
        "### 정수 인코딩"
      ],
      "metadata": {
        "id": "tWUdLA1eanaz"
      }
    },
    {
      "cell_type": "code",
      "source": [
        "# 앞서 token-index dictionary로 정리한 것을 이용해서 각각의 토큰들을 정수인코딩을 진행해봅니다.\n",
        "# 이 과정에서 유의할 점은, 기존의 구현 코드에서 여러개의 for loop을 사용했습니다.\n",
        "# 이보다 빨리 진행하기 위해 어떻게 코딩할 수 있을까요?\n",
        "# 시간이 충분하시다면 for loop을 그대로 이용하셔도 좋습니다만, 다른 방법도 고민하셔도 좋습니다.\n",
        "# hint: Pandas에서 apply와 비슷한 것들을 이용해보면 어떨까요?\n",
        "\n",
        "import pandas as pd\n",
        "\n",
        "# encoder의 입력값 정수 인코딩 진행\n",
        "encoder_input = []\n",
        "\n",
        "for i in tqdm(range(len(src_seq_tr))):\n",
        "    src_seq_tr_df = pd.DataFrame(src_seq_tr[i]).T\n",
        "    src_seq_tr_df.iloc[0] = src_seq_tr_df.iloc[0].apply(lambda x: src_to_index[str(x)])\n",
        "    en_input = list(src_seq_tr_df.iloc[0])\n",
        "    encoder_input.append(torch.Tensor(en_input).long())"
      ],
      "metadata": {
        "id": "ocvHdAzp0B3Q",
        "colab": {
          "base_uri": "https://localhost:8080/"
        },
        "outputId": "0a255314-30fc-4189-9b6b-5f7e8dffcb57"
      },
      "execution_count": 28,
      "outputs": [
        {
          "output_type": "stream",
          "name": "stderr",
          "text": [
            "100%|██████████| 10000/10000 [00:13<00:00, 764.62it/s]\n"
          ]
        }
      ]
    },
    {
      "cell_type": "code",
      "source": [
        "# decoder에서 사용하는 문장에 대해 정수인코딩 진행\n",
        "decoder_target = []\n",
        "decoder_input = []\n",
        "\n",
        "for i in tqdm(range(len(tar_seq_tr))):\n",
        "    tar_seq_tr_df = pd.DataFrame(tar_seq_tr[i]).T\n",
        "    tar_seq_tr_df.iloc[0] = tar_seq_tr_df.iloc[0].apply(lambda x: tar_to_index[str(x)])\n",
        "    de_line = list(tar_seq_tr_df.iloc[0])\n",
        "    # 다만 decoder의 출력값은 <SOS>들어가면 안되니 첫번째 토큰은 빼주기\n",
        "    decoder_target.append(torch.Tensor(de_line[1:]).long())\n",
        "    # decoder의 입력값은 마지막 <EOS>가 들어가면 안되니 마지막 토큰은 빼주기\n",
        "    decoder_input.append(torch.Tensor(de_line[:-1]).long())"
      ],
      "metadata": {
        "colab": {
          "base_uri": "https://localhost:8080/"
        },
        "id": "hKhf_3Y5KSOZ",
        "outputId": "4c93f564-9f96-4339-f0f1-59a73286a72d"
      },
      "execution_count": 30,
      "outputs": [
        {
          "output_type": "stream",
          "name": "stderr",
          "text": [
            "100%|██████████| 10000/10000 [00:11<00:00, 842.55it/s]\n"
          ]
        }
      ]
    },
    {
      "cell_type": "code",
      "source": [
        "# 예시 출력\n",
        "print(decoder_target[:5])\n",
        "print(decoder_input[:5])"
      ],
      "metadata": {
        "colab": {
          "base_uri": "https://localhost:8080/"
        },
        "id": "8JB1jUUsQKmD",
        "outputId": "f0792506-7caa-48f3-c5d6-65e848296b40"
      },
      "execution_count": 31,
      "outputs": [
        {
          "output_type": "stream",
          "name": "stdout",
          "text": [
            "[tensor([ 875, 2467, 2099, 1046, 6185,  433, 7850,  520,  637, 8040, 6603, 8019,\n",
            "           1]), tensor([8306, 3829, 5943, 2656,  244, 5052, 3198, 4453,  523, 5949,    1]), tensor([5180, 3958,  136, 6665,  136,  650,  389, 2180, 1958, 1527, 7354, 5942,\n",
            "           1]), tensor([ 875, 2467, 7878, 6185,  875, 4566, 1794,  520, 5880,    1]), tensor([6521, 4114, 4857,  209,    1])]\n",
            "[tensor([   2,  875, 2467, 2099, 1046, 6185,  433, 7850,  520,  637, 8040, 6603,\n",
            "        8019]), tensor([   2, 8306, 3829, 5943, 2656,  244, 5052, 3198, 4453,  523, 5949]), tensor([   2, 5180, 3958,  136, 6665,  136,  650,  389, 2180, 1958, 1527, 7354,\n",
            "        5942]), tensor([   2,  875, 2467, 7878, 6185,  875, 4566, 1794,  520, 5880]), tensor([   2, 6521, 4114, 4857,  209])]\n"
          ]
        }
      ]
    },
    {
      "cell_type": "code",
      "execution_count": 32,
      "metadata": {
        "id": "fT3x1SL_l1pY"
      },
      "outputs": [],
      "source": [
        "from torch.nn.utils.rnn import pad_sequence"
      ]
    },
    {
      "cell_type": "markdown",
      "source": [
        "### Padding"
      ],
      "metadata": {
        "id": "ibj8DeCqbvZG"
      }
    },
    {
      "cell_type": "code",
      "execution_count": 33,
      "metadata": {
        "id": "sSNmdbEwuQR5"
      },
      "outputs": [],
      "source": [
        "# 현재 길이가 제각각인 정수화된 문장이 있습니다. padding을 통해 길이를 맞춰봅시다\n",
        "# 주의사항: 여기에 사용된 값을은 정수일까요?\n",
        "batch_first = True\n",
        "\n",
        "encoder_input_tr = pad_sequence(encoder_input, batch_first=batch_first).long()\n",
        "decoder_input_tr = pad_sequence(decoder_input, batch_first=batch_first).long()\n",
        "decoder_target_tr = pad_sequence(decoder_target, batch_first=batch_first).long()"
      ]
    },
    {
      "cell_type": "markdown",
      "metadata": {
        "id": "FQ_AHRQPmfZX"
      },
      "source": [
        "## Train data\n",
        "\n",
        "tuple type으로,  (encoder_input, decoder_input, decoder_target)의 순서를 가지게 됩니다. 이는 tuple assignment를 이용하려고 하는 것이니 자유롭게 사용하셔도 좋습니다."
      ]
    },
    {
      "cell_type": "code",
      "execution_count": 35,
      "metadata": {
        "id": "YXqi5dV-mjQD"
      },
      "outputs": [],
      "source": [
        "train_data = tuple([encoder_input_tr, decoder_input_tr, decoder_target_tr])"
      ]
    },
    {
      "cell_type": "markdown",
      "metadata": {
        "id": "nXhsP4O3mhih"
      },
      "source": [
        "## Eval data\n",
        "\n",
        "지금까지 진행한 것은 학습 데이터에 대한 전처리입니다.\n",
        "\n",
        "그런데 말입니다, 과연 평가 데이터는 학습데이터랑 동일한 형태일까요?\n",
        "\n",
        "사용하는 단어도 동일할까요?\n",
        "\n",
        "게다가 실제 데이터라면 문장 속에 이메일이나, 전화번호등 다른 것들로 대체해야할 게 있지 않을까요?\n",
        "\n",
        "참으로 고민할 게 많습니다. 이 모든 것들을 고려하면 좋겠지만, 현재 과제에서는 학습 데이터의 단어 집합에는 없는데 평가 데이터에서 등장하는 단어들은 어떻게 처리할지 한번 고민해봅시다.\n",
        "\n",
        "**핵심 TODO**:만약에 본 적이 없는 token이 나온다면 어떻게 될까요?\n",
        "\n",
        "--> Out of Vocabulary !  =지금까지 단어 집합에 없던 아이들!<br>\n",
        "\n",
        "이를 한번에 처리해주는 토큰으로 \\<UNK\\>(=unknown token) 을 사용\n",
        "\n",
        "EX)\n",
        "\n",
        "train data : \"나는 밥을 먹는다.\"<br>\n",
        "\\>> [\"나\", \"밥\", \"먹다\"]<br>\n",
        "\\>> [\\<SOS\\>, 나, 밥, 먹다, \\<EOS\\>] <BR>\n",
        "\\>> {\\<SOS\\>:0, \\<EOS\\>:1, \\<UNK\\>: 2, 나:3, 밥:4, 먹다:5}  <bR>\n",
        "\\>> [0, 3, 4, 5, 1] <BR>\n",
        "\n",
        "val data: \"나는 고기를 먹는다\"<br>\n",
        "\\>> ['나', '고기' '먹다']<BR>\n",
        "\\>> [\\<SOS\\>, 나, \\<UNK\\>, 먹다, \\<EOS\\>] <BR>\n",
        "\\>> [0, 3, 2, 5, 1] <BR>"
      ]
    },
    {
      "cell_type": "code",
      "source": [
        "src_seq_val = []\n",
        "tar_seq_val = []\n",
        "\n",
        "\n",
        "for raw_val_dat in tqdm(raw_val_data):\n",
        "  # 문장별 tokenization\n",
        "  src_tmp = CustomTokenizer(raw_val_dat['en'])\n",
        "  tar_tmp = CustomTokenizer(raw_val_dat['ko'])\n",
        "\n",
        "  # 입력 시퀀스에서 문장의 끝을 알리는 <EOS> 토큰 추가\n",
        "  # 출력 시퀀스에서 시작과 끝을 알리는 <SOS>, <EOS> 토큰 추가\n",
        "  src_tmp.append('<EOS>')\n",
        "  tar_tmp.insert(0, '<SOS>')\n",
        "  tar_tmp.append('<EOS>')\n",
        "\n",
        "  # 처음보는 단어들은 일단 모르는 단어(OOV)로 표시해놓기  \n",
        "  # 해당 과정에서는 지금 얻은 token들(src_tmp와 tar_tmp)들 중에서 학습 데이터의 단어 집합(src_vocab과 tar_vocab)에 없는 단어들을 찾아야 합니다.\n",
        "  # 즉 위의 예시에서 \"고기\"에 해당하는 token을 찾아야 하고, 이를 list로 저장해봅시다.\n",
        "  src_oov = [x for x in src_tmp if x not in src_vocab]\n",
        "  tar_oov = [x for x in tar_tmp if x not in tar_vocab]\n",
        "\n",
        "  # OOV들은 <UNK>로 바꾸는 과정입니다.\n",
        "  # 지금 문장을 tokenization되어 있고, 앞서 구한 모르는 단어(OOV)들의 리스트(src_oov와 tar_oov)가 있는 상황에서\n",
        "  # 해당 리스트에 속한 토큰들은 <UNK>토큰으로 바꿔주는 것을 구현하는 파트입니다.\n",
        "  # 위의 예시에서 본다면 [<SOS>, 나, 고기, 먹다, <EOS>]를 [<SOS>, 나, <UNK>, 먹다, <EOS>]로 만들어주는 과정입니다.\n",
        "  for i in range(len(src_tmp)):\n",
        "      if src_tmp[i] in src_oov:\n",
        "          src_tmp[i] = '<UNK>'\n",
        "  for j in range(len(tar_tmp)):\n",
        "      if tar_tmp[j] in tar_oov:\n",
        "          tar_tmp[j] = '<UNK>'\n",
        "  \n",
        "  # tokenization 끝난 문장 보관\n",
        "  src_seq_val.append(src_tmp)\n",
        "  tar_seq_val.append(tar_tmp)"
      ],
      "metadata": {
        "colab": {
          "base_uri": "https://localhost:8080/"
        },
        "id": "tvlFP0Q94rU3",
        "outputId": "53d4ab3b-84cd-448f-c606-dc3a3aa40752"
      },
      "execution_count": 36,
      "outputs": [
        {
          "output_type": "stream",
          "name": "stderr",
          "text": [
            "100%|██████████| 1000/1000 [00:05<00:00, 180.57it/s]\n"
          ]
        }
      ]
    },
    {
      "cell_type": "code",
      "source": [
        "tar_seq_val[5]"
      ],
      "metadata": {
        "colab": {
          "base_uri": "https://localhost:8080/"
        },
        "id": "s7x2S0t08dfe",
        "outputId": "50ea746c-ccda-4231-d95c-91f0ef7e8c72"
      },
      "execution_count": 37,
      "outputs": [
        {
          "output_type": "execute_result",
          "data": {
            "text/plain": [
              "['<SOS>', '더', '부드럽고', '<UNK>', '<UNK>', '톤', '피부', '<UNK>', '합니다', '<EOS>']"
            ]
          },
          "metadata": {},
          "execution_count": 37
        }
      ]
    },
    {
      "cell_type": "markdown",
      "source": [
        "위의 샘플을 보면 생각보다 너무 많은 단어들이 UNK로 바뀌었습니다. 이게 과연 성능에 어떤 영향을 끼칠까요? 이를 방지할 수 있는 대책은 무엇일까요?\n",
        "\n",
        "정답은 없습니다. 자유롭게 고민해보셔도 좋을 것 같습니다."
      ],
      "metadata": {
        "id": "70nzuKIPf3nX"
      }
    },
    {
      "cell_type": "markdown",
      "source": [
        "### UNK 토큰 추가 및 단어집합, token-index 업데이트"
      ],
      "metadata": {
        "id": "KoH1M8GofxwV"
      }
    },
    {
      "cell_type": "code",
      "source": [
        "# UNK가 추가되면서 vocab과 index도 업데이트를 해야합니다.\n",
        "# 즉 지금 방식으로 처리한다면, 지금 단어 집합에는 <UNK>라는 토큰이 없습니다.\n",
        "# 그래서 UNK 토큰에도 정수를 할당해줘야 합니다.\n",
        "# 지금 0은 padding에서 사용하고 있으니 아래의 과정은 마지막에 <UNK>를 추가해보는 것입니다."
      ],
      "metadata": {
        "id": "lE3iIu_W8-78"
      },
      "execution_count": null,
      "outputs": []
    },
    {
      "cell_type": "code",
      "source": [
        "# 입력 시퀀스의 마지막 토큰과 정수인코딩값 확인\n",
        "list(src_to_index.items())[-1]"
      ],
      "metadata": {
        "colab": {
          "base_uri": "https://localhost:8080/"
        },
        "id": "KRl3l4bE9cVh",
        "outputId": "7d8e93af-be61-4f09-a2c6-b894e03661b6"
      },
      "execution_count": 38,
      "outputs": [
        {
          "output_type": "execute_result",
          "data": {
            "text/plain": [
              "('zoom', 6907)"
            ]
          },
          "metadata": {},
          "execution_count": 38
        }
      ]
    },
    {
      "cell_type": "code",
      "source": [
        "# 현재 입력 시퀀스에 사용된 token들의 개수 확인\n",
        "len(src_vocab)"
      ],
      "metadata": {
        "colab": {
          "base_uri": "https://localhost:8080/"
        },
        "id": "yRuj2FNmgfA3",
        "outputId": "3b013a45-a103-4ce1-add1-6f01e7898346"
      },
      "execution_count": 39,
      "outputs": [
        {
          "output_type": "execute_result",
          "data": {
            "text/plain": [
              "6907"
            ]
          },
          "metadata": {},
          "execution_count": 39
        }
      ]
    },
    {
      "cell_type": "code",
      "source": [
        "# 우리는 마지막 토큰 뒤에 UNK 토큰을 추가해봅시다\n",
        "# 이 때 입력 시퀀스(src_to_index)와 출력시퀀스(tar_to_index)에 모두 사용해줘야 합니다.\n",
        "src_to_index[\"<UNK>\"] = len(src_vocab) + 1\n",
        "tar_to_index[\"<UNK>\"] = len(tar_vocab) + 1"
      ],
      "metadata": {
        "id": "2hQsCc5i9aw2"
      },
      "execution_count": 40,
      "outputs": []
    },
    {
      "cell_type": "code",
      "source": [
        "# 입력시퀀스의 단어집합 확인\n",
        "print(list(tar_to_index.items())[:5])\n",
        "print(list(tar_to_index.items())[-1:-5:-1])"
      ],
      "metadata": {
        "colab": {
          "base_uri": "https://localhost:8080/"
        },
        "id": "09pOS9MtaUVJ",
        "outputId": "8673bb48-ab26-41e7-e8ef-a025847d1475"
      },
      "execution_count": 41,
      "outputs": [
        {
          "output_type": "stream",
          "name": "stdout",
          "text": [
            "[('<EOS>', 1), ('<SOS>', 2), ('A', 3), ('AAA', 4), ('AAA1@BBB1.com', 5)]\n",
            "[('<UNK>', 8408), ('힘쓰고', 8407), ('힘들어요', 8406), ('힘들어도', 8405)]\n"
          ]
        }
      ]
    },
    {
      "cell_type": "code",
      "source": [
        "# 출력시퀀스의 단어집합 확인\n",
        "print(list(src_to_index.items())[:5])\n",
        "print(list(src_to_index.items())[-1:-5:-1])"
      ],
      "metadata": {
        "colab": {
          "base_uri": "https://localhost:8080/"
        },
        "id": "ZZqYpbTe-AK1",
        "outputId": "fea4bc9a-8ec3-48b5-c165-ee12d233384b"
      },
      "execution_count": null,
      "outputs": [
        {
          "output_type": "stream",
          "name": "stdout",
          "text": [
            "[('<EOS>', 1), ('A', 2), ('AAA', 3), ('AAA1@BBB1.com.', 4), ('AAA@BBB.com', 5)]\n",
            "[('<UNK>', 6908), ('zoom', 6907), ('zones', 6906), ('zero', 6905)]\n"
          ]
        }
      ]
    },
    {
      "cell_type": "markdown",
      "source": [
        "### 정수 인코딩"
      ],
      "metadata": {
        "id": "-E5zRRZuhQa_"
      }
    },
    {
      "cell_type": "code",
      "source": [
        "# 평가 데이터에 대해서 정수 인코딩을 진행해주세요!\n",
        "# 이 과정에서 중요한 점은 우린 학습데이터만 가지고 있으니 학습 데이터에서 사용했던 toekn-index로 인코딩을 진행해야 합니다!\n",
        "# 참고 : 어떻게 하면 효율적 혹은 빠르게 할까요?"
      ],
      "metadata": {
        "id": "LHRGJgfs-axo"
      },
      "execution_count": 42,
      "outputs": []
    },
    {
      "cell_type": "code",
      "source": [
        "# encoder의 입력값 정수 인코딩 진행\n",
        "encoder_input_val = []\n",
        "\n",
        "for i in tqdm(range(len(src_seq_val))):\n",
        "    src_seq_val_df = pd.DataFrame(src_seq_val[i]).T\n",
        "    src_seq_val_df.iloc[0] = src_seq_val_df.iloc[0].apply(lambda x: src_to_index[str(x)])\n",
        "    en_input = list(src_seq_val_df.iloc[0])\n",
        "    encoder_input_val.append(torch.Tensor(en_input).long())"
      ],
      "metadata": {
        "colab": {
          "base_uri": "https://localhost:8080/"
        },
        "outputId": "f24e4515-c39b-4284-8bab-5d76eacd9b1c",
        "id": "RYj6p1I7Wy6j"
      },
      "execution_count": 43,
      "outputs": [
        {
          "output_type": "stream",
          "name": "stderr",
          "text": [
            "100%|██████████| 1000/1000 [00:01<00:00, 798.79it/s]\n"
          ]
        }
      ]
    },
    {
      "cell_type": "code",
      "source": [
        "# decoder에서 사용하는 문장에 대해 정수인코딩 진행\n",
        "decoder_target_val = []\n",
        "decoder_input_val = []\n",
        "\n",
        "for i in tqdm(range(len(tar_seq_val))):\n",
        "    tar_seq_val_df = pd.DataFrame(tar_seq_val[i]).T\n",
        "    tar_seq_val_df.iloc[0] = tar_seq_val_df.iloc[0].apply(lambda x: tar_to_index[str(x)])\n",
        "    de_line = list(tar_seq_val_df.iloc[0])\n",
        "    # 다만 decoder의 출력값은 <SOS>들어가면 안되니 첫번째 토큰은 빼주기\n",
        "    decoder_target_val.append(torch.Tensor(de_line[1:]).long())\n",
        "    # decoder의 입력값은 마지막 <EOS>가 들어가면 안되니 마지막 토큰은 빼주기\n",
        "    decoder_input_val.append(torch.Tensor(de_line[:-1]).long())"
      ],
      "metadata": {
        "colab": {
          "base_uri": "https://localhost:8080/"
        },
        "outputId": "9d169a0a-ea83-4748-9c6c-8a5b09a358aa",
        "id": "m-M5ZU0gWy6k"
      },
      "execution_count": 44,
      "outputs": [
        {
          "output_type": "stream",
          "name": "stderr",
          "text": [
            "100%|██████████| 1000/1000 [00:01<00:00, 787.13it/s]\n"
          ]
        }
      ]
    },
    {
      "cell_type": "markdown",
      "source": [
        "### Padding"
      ],
      "metadata": {
        "id": "ws8RA6UThh0t"
      }
    },
    {
      "cell_type": "code",
      "source": [
        "# 주의사항: 여기에 사용된 값을은 정수일까요?\n",
        "encoder_input_val = pad_sequence(encoder_input_val, batch_first=batch_first).long()\n",
        "decoder_input_val = pad_sequence(decoder_input_val, batch_first=batch_first).long()\n",
        "decoder_target_val = pad_sequence(decoder_target_val, batch_first=batch_first).long()"
      ],
      "metadata": {
        "id": "4Qc_bb02-s6_"
      },
      "execution_count": 45,
      "outputs": []
    },
    {
      "cell_type": "code",
      "source": [
        "val_data = tuple([encoder_input_val, decoder_input_val, decoder_target_val])"
      ],
      "metadata": {
        "id": "C1JnNLfJY-X6"
      },
      "execution_count": 46,
      "outputs": []
    },
    {
      "cell_type": "markdown",
      "metadata": {
        "id": "WlZl7q5cxscM"
      },
      "source": [
        "# Dataset\n",
        "\n",
        "실습코드에서 사용한 것과 동일한 구조입니다! \n",
        "\n",
        "사실 앞서 처리가 진행되었던 모든 과정은 Dataset에서 __get_item__ 함수 내에서 처리해서 값을 리턴할 수도 있습니다.\n",
        "\n",
        "다만 설명을 위해 이번 과제에서는 과정을 단계별로 설명 드렸습니다. 추후에 진행하실 때엔 __get_item__에서 구현해보셔도 좋을 것 같아요!\n",
        "\n",
        "그리고 일부 단계의 경우 임의로 처리된 것들이 있습니다.(tokenization부터 stopwords 등등) 가령 이메일, 전화번호와 같은 단어들은 \\<UNK\\>처럼 새로운 토큰을 이용해서 처리할 수도 있으며 목적에 따라서 다른 tokenziation을 사용할 수 있습니다.\n",
        "\n",
        "**(참고)**\n",
        "\n",
        " __get_item__말고 사전에 전처리를 다한 상태로 사용할 경우 사실 사용할 모든 데이터를 메모리에 올려놓고 사용하는 것과 같습니다.(변수에 할당되어 있으니)\n",
        "\n",
        "그런데 우리가 데이터가 매매매매매우 많아진다면, 메모리가 부족해질 수도 있지 않을까요? 그렇기 때문에 때에 따라 data를 필요할 때 전처리를 하고 반환하기도 합니다. 여기서 data가 필요할때란 결국 __get_item__을 호출할 때가 될 것입니다.\n",
        "\n",
        "정리하자면, 꼭 모든 데이터를 한번에 다 전처리해놓도 준비해놓지 않고도, 필요할 때 마다(get_item이 호출될 때마다) 전처리해서 결과를 전달하는 방법도 있습니다.\n",
        "\n",
        "다만 해당 과제에서는 Seq2Seq에 익숙해지는 것을 목표로 하기에 이러한 점만 알고 가셔도 충분하기도 하고, 오히려 사전에 다 처리해놓는 현재 방식이 더 효율적일 수도 있습니다. 그렇기 때문에 이 점만 알고 가셔도 좋을 것 같습니다!"
      ]
    },
    {
      "cell_type": "code",
      "execution_count": 47,
      "metadata": {
        "id": "j5lj6ZOPxpcj"
      },
      "outputs": [],
      "source": [
        "from torch.utils.data import Dataset, DataLoader"
      ]
    },
    {
      "cell_type": "code",
      "execution_count": 68,
      "metadata": {
        "id": "xc7ZqjGmx1dk"
      },
      "outputs": [],
      "source": [
        "class textDataset(Dataset):\n",
        "  def __init__(self, data, batch_first=True):\n",
        "    super(textDataset, self).__init__()\n",
        "    # tuple asgginment를 활용한다면 굳이 argument로 모든 데이터를 받지 않아도 됩니다!\n",
        "    enc_inp, dec_inp, dec_out = data\n",
        "\n",
        "    # 내부에서 사용할 변수들 정리하는 것으로, 모든 데이터가 torch.LongTensor로 정리된 값들이 저장됩니다.\n",
        "    self.enc_inp = enc_inp\n",
        "    self.batch_first= batch_first\n",
        "    self.dec_inp = dec_inp\n",
        "    self.dec_out = dec_out\n",
        "\n",
        "  def __getitem__(self, idx):\n",
        "     return self.enc_inp[idx], self.dec_inp[idx],self.dec_out[idx]\n",
        "\n",
        "  def __len__(self):\n",
        "    return self.enc_inp.size(int(~self.batch_first))"
      ]
    },
    {
      "cell_type": "code",
      "execution_count": 69,
      "metadata": {
        "id": "Z30_EO0uxrgH"
      },
      "outputs": [],
      "source": [
        "train_dataset = textDataset(train_data, batch_first=batch_first)\n",
        "val_dataset = textDataset(val_data, batch_first=batch_first)"
      ]
    },
    {
      "cell_type": "code",
      "execution_count": 50,
      "metadata": {
        "colab": {
          "base_uri": "https://localhost:8080/"
        },
        "id": "J_AqR38AoB5n",
        "outputId": "176f2e1c-ce8c-43d8-a048-abb07d0f1979"
      },
      "outputs": [
        {
          "output_type": "execute_result",
          "data": {
            "text/plain": [
              "(tensor([6908, 3571, 3391, 5123, 4263, 2220, 1284, 3924, 4311, 4786, 2036, 2436,\n",
              "         5779, 1015, 6908, 6398, 6747, 5796, 6908,    1,    0,    0,    0,    0,\n",
              "            0,    0,    0,    0,    0,    0]),\n",
              " tensor([   2, 8408, 2667, 3093, 8408, 5584, 7756, 6422, 2123, 4098, 2873, 4114,\n",
              "         7490, 3046, 4191, 4743, 1008, 5942,    0,    0,    0,    0,    0,    0,\n",
              "            0,    0,    0,    0,    0,    0,    0,    0]),\n",
              " tensor([8408, 2667, 3093, 8408, 5584, 7756, 6422, 2123, 4098, 2873, 4114, 7490,\n",
              "         3046, 4191, 4743, 1008, 5942,    1,    0,    0,    0,    0,    0,    0,\n",
              "            0,    0,    0,    0,    0,    0,    0,    0]))"
            ]
          },
          "metadata": {},
          "execution_count": 50
        }
      ],
      "source": [
        "val_dataset[0]"
      ]
    },
    {
      "cell_type": "markdown",
      "metadata": {
        "id": "rYq6eGm0qaOh"
      },
      "source": [
        "# Model"
      ]
    },
    {
      "cell_type": "code",
      "execution_count": 51,
      "metadata": {
        "id": "ce3NfbA2qfSV"
      },
      "outputs": [],
      "source": [
        "import torch.nn as nn\n",
        "import torch.functional as F"
      ]
    },
    {
      "cell_type": "markdown",
      "metadata": {
        "id": "zcThBf_DqbuT"
      },
      "source": [
        "## Encoder\n",
        "\n",
        "본 모델에서는 LSTM를 기본 단위로 가지는 Seq2Seq 모델을 구성할 것\n",
        "\n",
        "참고 [레퍼런스](https://pytorch.org/docs/stable/generated/torch.nn.LSTM.html)"
      ]
    },
    {
      "cell_type": "code",
      "execution_count": 65,
      "metadata": {
        "id": "A719R9uZqZG2"
      },
      "outputs": [],
      "source": [
        "class Encoder(nn.Module):\n",
        "  def __init__(self, in_size, hid_size, tok_size, bat_first=True, num_lay=1, bidirect=False):\n",
        "    super(Encoder, self).__init__()\n",
        "    self.hidden_size = hid_size\n",
        "    self.embedding = nn.Embedding(tok_size, in_size)\n",
        "\n",
        "    self.num_layers = num_lay\n",
        "    self.num_directional = 2 if bidirect else 1\n",
        "    self.batch_first = bat_first\n",
        "    self.lstm = nn.LSTM(in_size, \n",
        "                        hid_size, \n",
        "                        num_layers = num_lay,\n",
        "                        batch_first = bat_first,\n",
        "                        bidirectional=bidirect)\n",
        "\n",
        "  def forward(self, x, hidden):\n",
        "    \"\"\"\n",
        "    x: (batch_size, seq_len)\n",
        "    hidden: (batch_size, seq_len, hidden_size)\n",
        "    \"\"\"\n",
        "\n",
        "    # emb : (batch_size, seq_len, input_size)\n",
        "    emb = self.embedding(x)\n",
        "\n",
        "    # out : (batch_size, seq_len, hidden_size)\n",
        "    # hidden: (num_layers, batch_size, hidden_size)\n",
        "    out, hidden = self.lstm(emb, hidden)\n",
        "    return out, hidden"
      ]
    },
    {
      "cell_type": "markdown",
      "metadata": {
        "id": "Yu4CMe_5JN2I"
      },
      "source": [
        "## Decoder\n",
        "\n",
        "decoder의 hidden이 아닌 out으로 예측하고, 그 값 하나를 이용해서 다음 값 계산에 사용하기 때문에 seq_len =1이 된다."
      ]
    },
    {
      "cell_type": "code",
      "execution_count": 66,
      "metadata": {
        "id": "Wc1u4z_k4RKp"
      },
      "outputs": [],
      "source": [
        "class Decoder(nn.Module):\n",
        "  def __init__(self, in_size, hid_size, tok_size, bat_first=True, num_lay=1, bidirect=False):\n",
        "    super(Decoder, self).__init__()\n",
        "    self.hidden_size = hid_size\n",
        "    self.embedding = nn.Embedding(tok_size, in_size)\n",
        "\n",
        "    self.num_layers = num_lay\n",
        "    self.num_directional = 2 if bidirect else 1\n",
        "    self.batch_first = bat_first\n",
        "    self.lstm = nn.LSTM(in_size, \n",
        "                        hid_size, \n",
        "                        num_layers = num_lay,\n",
        "                        batch_first = bat_first,\n",
        "                        bidirectional=bidirect)\n",
        "    self.relu =  nn.ReLU()\n",
        "    self.fc1 = nn.Linear(hidden_size, tok_size)\n",
        "    \n",
        "  def forward(self, x, hidden):\n",
        "    \"\"\"\n",
        "    x: (batch_size, seq_len=1)\n",
        "    hidden: (num_directional*num_layers, batch_size, hidden_size)\n",
        "    \"\"\"\n",
        "\n",
        "    # emb: (batch_size, seq_len=1, input_size)\n",
        "    emb = self.embedding(x[:, 0]).unsqueeze(1)\n",
        "    out = self.relu(emb)\n",
        "\n",
        "    # out : (batch_size, seq_len=1, hidden_size)\n",
        "    # hidden: (num_layers, batch_size, hidden_size)\n",
        "    out, hidden = self.lstm(out, hidden)\n",
        "\n",
        "    # out: (batch_size, tok_size) : batch의 element별로 token에 대해 예측값을 반환\n",
        "    out = self.fc1(out.squeeze(1))\n",
        "    return out, hidden"
      ]
    },
    {
      "cell_type": "code",
      "execution_count": 70,
      "metadata": {
        "id": "X1qHG3DT4dSH"
      },
      "outputs": [],
      "source": [
        "def init_hidden(self, x):\n",
        "  \"\"\"\n",
        "  레퍼런스 참고\n",
        "  when batch_first=True (num_directional*num_layers, batch_size, hidden_size)\n",
        "  \"\"\"\n",
        "  batch_size = x.size(0) if self.batch_first else x.size(1)\n",
        "  h0 = torch.zeros(self.num_layers*self.num_directional, batch_size, self.hidden_size).to(device)\n",
        "  c0 = torch.zeros(self.num_layers*self.num_directional, batch_size, self.hidden_size).to(device)\n",
        "  return h0, c0"
      ]
    },
    {
      "cell_type": "markdown",
      "metadata": {
        "id": "toqV7UDhPqN6"
      },
      "source": [
        "## Seq2Seq"
      ]
    },
    {
      "cell_type": "code",
      "execution_count": 71,
      "metadata": {
        "id": "YIzlUzPlJK3W"
      },
      "outputs": [],
      "source": [
        "class Seq2Seq(nn.Module):\n",
        "  def __init__(self, enc, dec):\n",
        "    super(Seq2Seq, self).__init__()\n",
        "    assert enc.hidden_size == dec.hidden_size\n",
        "    assert enc.num_layers == dec.num_layers\n",
        "\n",
        "    self.encoder = enc\n",
        "    self.decoder = dec\n",
        "    \n",
        "  def forward(self, enc_inp, dec_inp, use_teacher_force=True):\n",
        "    \"\"\"\n",
        "    enc_inp : (batch_size, enc_seq_len)\n",
        "    dec_inp : (batch_size, dec_seq_len)\n",
        "    \"\"\"\n",
        "\n",
        "    # 어떤 값을 써야할까요?\n",
        "    batch_size = enc_inp.size(0)\n",
        "    enc_seq_len = enc_inp.size(1)\n",
        "    dec_seq_len = dec_inp.size(1)\n",
        "    token_size = self.decoder.fc1.out_features\n",
        "\n",
        "    # decoder 확률(점수) 예측값 저장\n",
        "    # outputs: (batch_size, seq_len, token_size)\n",
        "    outputs = torch.zeros(batch_size, dec_seq_len, token_size)\n",
        "\n",
        "    # Step 0: Encoder의 forward에 필요한 초기 hidden, cell state 계산\n",
        "    enc_init_hidden = init_hidden(self.encoder, enc_inp)\n",
        "\n",
        "    # Step 1: Encoder를 이용하여 context 벡터 생성\n",
        "    # 참고: context 벡터는 output가 아님\n",
        "    _, context = self.encoder(enc_inp, enc_init_hidden)\n",
        "\n",
        "    # Step 2: Decoder의 초기 입력값을 먼저 할당\n",
        "    # 참고: 첫 입력값으로 decoder의 입력값을 이용할 수 있음\n",
        "    # 주의할 사항 \n",
        "    #    - (batch_size, dec_seq_len)의 차원을 맞추기 \n",
        "    #    - 이렇게 하는 이유는 decoder에서 forward에 들어가야하는 input의 구조(차원)이 정해져 있기 때문\n",
        "    dec_inp_t = dec_inp[:, 0].unsqueeze(-1)\n",
        "\n",
        "    # Step 3: Decoder를 이용하여 하나하나 계산(예측)하고, 입력값 업데이트하기\n",
        "    # 주의사항\n",
        "    #    - Encoder의 최종 리턴한 hidden state가 context 벡터고 이게 decoder에서 init_hidden에 해당\n",
        "    #    - 앞서 첫 입력값은 직접 확인했으니 다음 입력값부터 하기에 range는 1부터 시작하는 구조로?!\n",
        "    dec_hidden = context\n",
        "    for t in range(1, dec_seq_len):\n",
        "      out, dec_hidden = self.decoder(dec_inp_t, dec_hidden)\n",
        "      outputs[:, t, :] = out\n",
        "\n",
        "      if use_teacher_force:\n",
        "        # 주의사항 : 차원 맞추기 \n",
        "        # 해당 경우 decoder의 입력값을 가져다가 사용해야 합\n",
        "        dec_inp_t = dec_inp[:, t].unsqueeze(-1)\n",
        "      else:\n",
        "        # 주의사항 : 차원 맞추기 \n",
        "        # 해당 경우 이번 시점의 예측값을 다음 시점의 입력값으로 해야함\n",
        "        dec_inp_t = out.argmax(1, keepdim=True)\n",
        "\n",
        "    return outputs"
      ]
    },
    {
      "cell_type": "markdown",
      "metadata": {
        "id": "kSfBWsX0Po1I"
      },
      "source": [
        "# Setup"
      ]
    },
    {
      "cell_type": "code",
      "execution_count": 72,
      "metadata": {
        "id": "2VSNdoUUPoMS"
      },
      "outputs": [],
      "source": [
        "# padding에 해당하는 token도 고려하기\n",
        "enc_token_size = len(src_to_index)+1\n",
        "dec_token_size = len(tar_to_index)+1\n",
        "\n",
        "# Hyper-parameter!!\n",
        "# RAM 메모리 이슈로 다운 되는 경우 때문에 줄였습니다.\n",
        "input_size = 4\n",
        "hidden_size = 4"
      ]
    },
    {
      "cell_type": "code",
      "execution_count": 73,
      "metadata": {
        "id": "edfUD7SOP6pM"
      },
      "outputs": [],
      "source": [
        "encoder = Encoder(input_size, hidden_size, enc_token_size)\n",
        "decoder = Decoder(input_size, hidden_size, dec_token_size)\n",
        "\n",
        "model = Seq2Seq(encoder, decoder).to(device)"
      ]
    },
    {
      "cell_type": "markdown",
      "metadata": {
        "id": "s3wAllAwQQbc"
      },
      "source": [
        "## 생략된 내용들\n",
        "\n",
        "모델 생성하는 과정에서 초기값이나 등등 부수적인 부분들은 현재 과제 코드상에서 생략되었습니다. 모델 개선에 관심있으신 분들은 수행하셔도 좋습니다."
      ]
    },
    {
      "cell_type": "code",
      "execution_count": 74,
      "metadata": {
        "id": "nNlOosmzQP4W"
      },
      "outputs": [],
      "source": [
        "# ~~~"
      ]
    },
    {
      "cell_type": "markdown",
      "metadata": {
        "id": "ofoXIctbQigu"
      },
      "source": [
        "# Train"
      ]
    },
    {
      "cell_type": "code",
      "execution_count": 75,
      "metadata": {
        "id": "NUnTP6xbQlV1"
      },
      "outputs": [],
      "source": [
        "def train(model, loader, optimizer, cri):\n",
        "  model.train()\n",
        "  loss_ep = 0\n",
        "\n",
        "  for enc_input, dec_input, dec_target in loader:\n",
        "    optimizer.zero_grad()\n",
        "\n",
        "    # output: (batch_size, seq_len, token_size)\n",
        "    output = model(enc_input.to(device), dec_input.to(device), use_teacher_force=True)\n",
        "    token_size = output.size(-1)\n",
        "\n",
        "    # 지금 [문장, 문장, ...] 구조에서 문장들을 그냥 순서대로 이어 붙인 것\n",
        "    # loss 계산을 위한 조정\n",
        "    # output : (batch_size * seq_len, toekn_size)\n",
        "    output = output.view(-1, token_size)\n",
        "\n",
        "    # 위와 동일한 방식으로 label 값도 조정\n",
        "    # dec_target: (batch_size, seq_len)\n",
        "    # target (batch_size*seq_len,)\n",
        "    target = dec_target.view(-1)\n",
        "\n",
        "    loss = cri(output, target)\n",
        "\n",
        "    loss.backward()\n",
        "    optimizer.step()\n",
        "\n",
        "    loss_ep += loss.item()\n",
        "  return loss_ep/len(loader)"
      ]
    },
    {
      "cell_type": "markdown",
      "metadata": {
        "id": "E-g8kExh9V87"
      },
      "source": [
        "# Evaluation"
      ]
    },
    {
      "cell_type": "code",
      "execution_count": 76,
      "metadata": {
        "id": "OM_5gT6uCXMh"
      },
      "outputs": [],
      "source": [
        "import pandas as pd"
      ]
    },
    {
      "cell_type": "code",
      "execution_count": 77,
      "metadata": {
        "id": "y6mXBkq69VSW"
      },
      "outputs": [],
      "source": [
        "def val(model, loader, cri):\n",
        "  # 예측값도 확인하기 위해 예측값 저장하는 값\n",
        "  result = torch.Tensor()\n",
        "\n",
        "  model.eval()\n",
        "  loss_ep = 0\n",
        "  with torch.no_grad():\n",
        "    for enc_input, dec_input, dec_target in loader:\n",
        "      # 여기서 output은 en/decoder가 아닌 seq2seq의 결과값\n",
        "      # output: (batch_size, seq_len, token_size)\n",
        "      output = model(enc_input.to(device), dec_input.to(device), use_teacher_force=False)\n",
        "\n",
        "      # 평가할 땐 loss 말고 예측값도 반환하기 위해 저장\n",
        "      # decode_idx = 해당 시점에서 예측한 token의 정수인코딩값. \n",
        "      # 주어진 확률(점수)값에서 최대값을 선택하기\n",
        "      decode_idx = output.argmax(2).detach().cpu()\n",
        "      result = torch.cat((result, decode_idx), dim=0)\n",
        "  \n",
        "      # loss 계산을 위한 조정\n",
        "      # output : (batch_size * seq_len, toekn_size)\n",
        "      token_size = output.size(-1)\n",
        "      output = output.view(-1, token_size)\n",
        "\n",
        "      # 위와 동일한 방식으로 label 값도 조정\n",
        "      # dec_target: (batch_size, seq_len)\n",
        "      # target (batch_size*seq_len,)\n",
        "      target = dec_target.view(-1)\n",
        "\n",
        "      loss = cri(output, target)\n",
        "      loss_ep += loss.item()\n",
        "  return loss_ep/len(loader), result"
      ]
    },
    {
      "cell_type": "code",
      "execution_count": 78,
      "metadata": {
        "id": "9m6F7hknAqtm"
      },
      "outputs": [],
      "source": [
        "# 아래의 dictionary는 정수 인코딩 값을 넣으면 해당하는 원래 알파벳이 나옴\n",
        "# padding에 사용한 0도 decode해줘야 하고 이 때 ''으로 decode해주기\n",
        "index_to_src = dict((i, char) for char, i in src_to_index.items())\n",
        "index_to_tar = dict((i, char) for char, i in tar_to_index.items())\n",
        "index_to_tar[0] = ''\n",
        "index_to_src[0] = ''"
      ]
    },
    {
      "cell_type": "code",
      "execution_count": 79,
      "metadata": {
        "id": "F9c8z_7BAncv"
      },
      "outputs": [],
      "source": [
        "def decode(model, sample):\n",
        "  enc_input, dec_input, dec_output = sample\n",
        "  enc_input = enc_input.unsqueeze(0)\n",
        "  dec_input = dec_input.unsqueeze(0)\n",
        "  \n",
        "  model.eval()\n",
        "  with torch.no_grad():\n",
        "    output = model(enc_input.to(device), dec_input.to(device), use_teacher_force=False)\n",
        "    decode_idx = output.argmax(2)\n",
        "\n",
        "  sentence_inp = pd.Series(enc_input.squeeze(0).detach().cpu().numpy()).apply(lambda x: index_to_src[x])\n",
        "  sentence_out = pd.Series(decode_idx.squeeze(0).detach().cpu().numpy()).apply(lambda x: index_to_tar[x])\n",
        "  sentence_act = pd.Series(dec_output.detach().cpu().numpy()).apply(lambda x: index_to_tar[x])\n",
        "\n",
        "  print(f\"입력 문장 : {' '.join(sentence_inp.tolist())}\")\n",
        "  print(f\"실제 문장 : {' '.join(sentence_act.tolist())}\")\n",
        "  print(f\"예측 문장 : {' '.join(sentence_out.tolist())}\")"
      ]
    },
    {
      "cell_type": "code",
      "execution_count": 80,
      "metadata": {
        "id": "9lARsr3wSyX8"
      },
      "outputs": [],
      "source": [
        "import time\n",
        "from tqdm import tqdm\n",
        "from torch import optim"
      ]
    },
    {
      "cell_type": "code",
      "execution_count": 81,
      "metadata": {
        "id": "WIuESkCQSsSm",
        "colab": {
          "base_uri": "https://localhost:8080/"
        },
        "outputId": "f07d773b-2611-463e-bcd5-baf103103bbe"
      },
      "outputs": [
        {
          "output_type": "stream",
          "name": "stderr",
          "text": [
            " 10%|█         | 1/10 [01:56<17:30, 116.72s/it]"
          ]
        },
        {
          "output_type": "stream",
          "name": "stdout",
          "text": [
            "Epoch : 0\n",
            "Train Loss : 8.9421\n",
            "Val Loss : 8.8541\n",
            "입력 문장 : I would like to introduce a <UNK> <UNK> smart <UNK> <UNK> <UNK> and temperature sensor easy to use free app product <EOS>        \n",
            "실제 문장 : 저 <UNK> <UNK> 스마트 <UNK> <UNK> <UNK> 및 온도 센서 <UNK> 사용 무료 앱 제품 소개 하려고 합니다 <EOS>             \n",
            "예측 문장 :  될 될 될 될 될 될 될 될 될 될 될 될 될 될 될 될 될 될 될 될 될 될 될 될 될 될 될 될 될 될 될\n"
          ]
        },
        {
          "output_type": "stream",
          "name": "stderr",
          "text": [
            " 30%|███       | 3/10 [05:41<13:14, 113.46s/it]"
          ]
        },
        {
          "output_type": "stream",
          "name": "stdout",
          "text": [
            "Epoch : 2\n",
            "Train Loss : 7.5661\n",
            "Val Loss : 7.5397\n",
            "입력 문장 : I would like to introduce a <UNK> <UNK> smart <UNK> <UNK> <UNK> and temperature sensor easy to use free app product <EOS>        \n",
            "실제 문장 : 저 <UNK> <UNK> 스마트 <UNK> <UNK> <UNK> 및 온도 센서 <UNK> 사용 무료 앱 제품 소개 하려고 합니다 <EOS>             \n",
            "예측 문장 :  더 AAA AAA AAA AAA <EOS> <EOS> <EOS> <EOS> <EOS> <EOS> <EOS> <EOS> <EOS> <EOS> <EOS> <EOS> <EOS> <EOS> <EOS> <EOS> <EOS> <EOS> <EOS> <EOS> <EOS> <EOS> <EOS> <EOS> <EOS> <EOS>\n"
          ]
        },
        {
          "output_type": "stream",
          "name": "stderr",
          "text": [
            " 50%|█████     | 5/10 [09:24<09:20, 112.09s/it]"
          ]
        },
        {
          "output_type": "stream",
          "name": "stdout",
          "text": [
            "Epoch : 4\n",
            "Train Loss : 5.3992\n",
            "Val Loss : 5.1319\n",
            "입력 문장 : I would like to introduce a <UNK> <UNK> smart <UNK> <UNK> <UNK> and temperature sensor easy to use free app product <EOS>        \n",
            "실제 문장 : 저 <UNK> <UNK> 스마트 <UNK> <UNK> <UNK> 및 온도 센서 <UNK> 사용 무료 앱 제품 소개 하려고 합니다 <EOS>             \n",
            "예측 문장 :  <EOS> <EOS>                             \n"
          ]
        },
        {
          "output_type": "stream",
          "name": "stderr",
          "text": [
            " 70%|███████   | 7/10 [13:06<05:34, 111.55s/it]"
          ]
        },
        {
          "output_type": "stream",
          "name": "stdout",
          "text": [
            "Epoch : 6\n",
            "Train Loss : 3.5720\n",
            "Val Loss : 3.6932\n",
            "입력 문장 : I would like to introduce a <UNK> <UNK> smart <UNK> <UNK> <UNK> and temperature sensor easy to use free app product <EOS>        \n",
            "실제 문장 : 저 <UNK> <UNK> 스마트 <UNK> <UNK> <UNK> 및 온도 센서 <UNK> 사용 무료 앱 제품 소개 하려고 합니다 <EOS>             \n",
            "예측 문장 :  <EOS>                              \n"
          ]
        },
        {
          "output_type": "stream",
          "name": "stderr",
          "text": [
            " 90%|█████████ | 9/10 [16:48<01:51, 111.25s/it]"
          ]
        },
        {
          "output_type": "stream",
          "name": "stdout",
          "text": [
            "Epoch : 8\n",
            "Train Loss : 2.5937\n",
            "Val Loss : 3.0846\n",
            "입력 문장 : I would like to introduce a <UNK> <UNK> smart <UNK> <UNK> <UNK> and temperature sensor easy to use free app product <EOS>        \n",
            "실제 문장 : 저 <UNK> <UNK> 스마트 <UNK> <UNK> <UNK> 및 온도 센서 <UNK> 사용 무료 앱 제품 소개 하려고 합니다 <EOS>             \n",
            "예측 문장 :                                \n"
          ]
        },
        {
          "output_type": "stream",
          "name": "stderr",
          "text": [
            "100%|██████████| 10/10 [18:39<00:00, 111.94s/it]\n"
          ]
        }
      ],
      "source": [
        "# 학습은 아래의 코드를 이용하여 진행\n",
        "\n",
        "train_loader = DataLoader(train_dataset, batch_size=1024)\n",
        "val_loader = DataLoader(val_dataset, batch_size=1024, shuffle=False)\n",
        "\n",
        "optimizer = optim.Adam(model.parameters(), lr=1e-2)\n",
        "criterion = nn.CrossEntropyLoss()\n",
        "\n",
        "train_loss = []\n",
        "val_loss = []\n",
        "\n",
        "epochs = 10\n",
        "for epoch in tqdm(range(epochs)):\n",
        "  start = time.time()\n",
        "\n",
        "  train_loss_ep = train(model, train_loader, optimizer, criterion)\n",
        "  val_loss_ep, val_token = val(model, val_loader, criterion)\n",
        "\n",
        "  train_loss.append(train_loss_ep)\n",
        "  val_loss.append(val_loss_ep)\n",
        "  if epoch % 2 == 0:\n",
        "    print(f\"Epoch : {epoch}\")\n",
        "    print(f\"Train Loss : {train_loss_ep:.4f}\")\n",
        "    print(f\"Val Loss : {val_loss_ep:.4f}\")\n",
        "    decode(model, val_dataset[100])\n"
      ]
    },
    {
      "cell_type": "code",
      "execution_count": 83,
      "metadata": {
        "id": "Yaj3MORtbsNi"
      },
      "outputs": [],
      "source": [
        "# 학습을 진행한 다음, 모델 백업해놓기\n",
        "torch.save(model.state_dict(), 'model_hw.pt')"
      ]
    },
    {
      "cell_type": "code",
      "source": [],
      "metadata": {
        "id": "Cogo8QdSJDW9"
      },
      "execution_count": null,
      "outputs": []
    }
  ],
  "metadata": {
    "accelerator": "GPU",
    "colab": {
      "collapsed_sections": [],
      "provenance": [],
      "toc_visible": true
    },
    "gpuClass": "standard",
    "kernelspec": {
      "display_name": "Python 3",
      "name": "python3"
    },
    "language_info": {
      "name": "python"
    }
  },
  "nbformat": 4,
  "nbformat_minor": 0
}