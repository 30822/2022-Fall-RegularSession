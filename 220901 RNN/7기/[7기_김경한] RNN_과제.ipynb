{
  "cells": [
    {
      "cell_type": "markdown",
      "metadata": {
        "id": "XhqgooEJc3ml"
      },
      "source": [
        "# PATH"
      ]
    },
    {
      "cell_type": "markdown",
      "metadata": {
        "id": "a6JAywISdMna"
      },
      "source": [
        "구글 드라이브"
      ]
    },
    {
      "cell_type": "code",
      "execution_count": null,
      "metadata": {
        "colab": {
          "base_uri": "https://localhost:8080/"
        },
        "id": "4KzgUpIpcORE",
        "outputId": "81651c43-d7a1-487f-d72b-c9aaec5209d3"
      },
      "outputs": [
        {
          "name": "stdout",
          "output_type": "stream",
          "text": [
            "Mounted at /content/drive\n"
          ]
        }
      ],
      "source": [
        "import os\n",
        "import sys\n",
        "from google.colab import drive\n",
        "\n",
        "drive.mount('/content/drive')\n",
        "# 지금 RNN이란 폴더에서 작업해서 RNN으로 맞춘 상태입니다! \n",
        "os.chdir('/content/drive/My Drive/RNN')"
      ]
    },
    {
      "cell_type": "code",
      "execution_count": null,
      "metadata": {
        "colab": {
          "base_uri": "https://localhost:8080/",
          "height": 36
        },
        "id": "TK1fCrA9fHwN",
        "outputId": "9f7647bf-557e-42e3-d965-f28919e6ae3a"
      },
      "outputs": [
        {
          "data": {
            "application/vnd.google.colaboratory.intrinsic+json": {
              "type": "string"
            },
            "text/plain": [
              "'/content/drive/My Drive/RNN'"
            ]
          },
          "execution_count": 2,
          "metadata": {},
          "output_type": "execute_result"
        }
      ],
      "source": [
        "os.getcwd()"
      ]
    },
    {
      "cell_type": "code",
      "execution_count": null,
      "metadata": {
        "colab": {
          "base_uri": "https://localhost:8080/",
          "height": 36
        },
        "id": "yR9lFnfZMQ8k",
        "outputId": "35708684-ccb9-45fc-8034-472416cc19ba"
      },
      "outputs": [
        {
          "data": {
            "application/vnd.google.colaboratory.intrinsic+json": {
              "type": "string"
            },
            "text/plain": [
              "'/content/drive/My Drive/RNN/data/data_hw'"
            ]
          },
          "execution_count": 3,
          "metadata": {},
          "output_type": "execute_result"
        }
      ],
      "source": [
        "root_data = f\"{os.getcwd()}/data/data_hw\"\n",
        "root_data"
      ]
    },
    {
      "cell_type": "code",
      "execution_count": null,
      "metadata": {
        "id": "eUaOJiEaP8t9"
      },
      "outputs": [],
      "source": [
        "# 데이터 불러올 때 사용할 경로로 이후에 있을 unzip과 연동되는 내용입니다! \n",
        "path_train_data = \"data/data_hw/1.Training/원천데이터/일상생활및구어체_영한_train_set.json\"\n",
        "\n",
        "path_val_data = \"data/data_hw/2.Validation/원천데이터/일상생활및구어체_영한_valid_set.json\"\n"
      ]
    },
    {
      "cell_type": "markdown",
      "metadata": {
        "id": "lllM7QIsLKHG"
      },
      "source": [
        "# 사전 준비 사항"
      ]
    },
    {
      "cell_type": "code",
      "execution_count": null,
      "metadata": {
        "id": "N4M6g36zarsi"
      },
      "outputs": [],
      "source": [
        "import torch"
      ]
    },
    {
      "cell_type": "code",
      "execution_count": null,
      "metadata": {
        "id": "8nWTk5MXatC-"
      },
      "outputs": [],
      "source": [
        "device = 'cuda' if torch.cuda.is_available() else \"cpu\""
      ]
    },
    {
      "cell_type": "code",
      "execution_count": null,
      "metadata": {
        "colab": {
          "base_uri": "https://localhost:8080/",
          "height": 36
        },
        "id": "oV91g9Tqa0V0",
        "outputId": "a49702f2-6bbb-4355-deb4-4616edfebb7f"
      },
      "outputs": [
        {
          "data": {
            "application/vnd.google.colaboratory.intrinsic+json": {
              "type": "string"
            },
            "text/plain": [
              "'cuda'"
            ]
          },
          "execution_count": 7,
          "metadata": {},
          "output_type": "execute_result"
        }
      ],
      "source": [
        "device"
      ]
    },
    {
      "cell_type": "markdown",
      "metadata": {
        "id": "SdN8CiTlc7xF"
      },
      "source": [
        "# Data\n",
        "\n",
        "실습에서 사용했던 영어-프랑스어와 달리 현재 사용할 데이터 셋은 영어-한국어 데이터 셋입니다. \n",
        "\n",
        "특히 압축을 풀어야 사용하실 수 있으니 유의하여 진행해주시길 바랍니다.\n",
        "\n",
        "다행인 점은 용량이 그리 크지 않을겁니다!\n",
        "\n",
        "저장 경로는 위에서 path_train_data와 path_val_data와 동일하게 맞췄습니다."
      ]
    },
    {
      "cell_type": "code",
      "execution_count": null,
      "metadata": {
        "id": "4bGHHia2LnOo"
      },
      "outputs": [],
      "source": [
        "!unzip -qq data/data_hw/1.Training/원천데이터/TS1.zip -d data/data_hw/1.Training/원천데이터\n",
        "\n",
        "!unzip -qq data/data_hw/2.Validation/원천데이터/VS1.zip -d data/data_hw/2.Validation/원천데이터\n"
      ]
    },
    {
      "cell_type": "markdown",
      "metadata": {
        "id": "tfrW60WrP0rn"
      },
      "source": [
        "## 데이터 구조 확인"
      ]
    },
    {
      "cell_type": "code",
      "execution_count": null,
      "metadata": {
        "id": "SDeLynUqP0Jr"
      },
      "outputs": [],
      "source": [
        "import json"
      ]
    },
    {
      "cell_type": "code",
      "execution_count": null,
      "metadata": {
        "id": "2VEmaNPbP5hr"
      },
      "outputs": [],
      "source": [
        "# 경로는 앞서 PATH에서 선언했고 unzip에서도 경로를 지정했습니다. 만약 여기에 변화가 생기신다면 에러가 생길 수 있으니 유의하셔야 합니다.\n",
        "with open(path_train_data, 'r') as f:\n",
        "  raw_train_data = json.load(f)\n",
        "\n",
        "with open(path_val_data, 'r') as f:\n",
        "  raw_val_data = json.load(f)\n"
      ]
    },
    {
      "cell_type": "code",
      "execution_count": null,
      "metadata": {
        "colab": {
          "base_uri": "https://localhost:8080/"
        },
        "id": "jNhgtA6iR2HG",
        "outputId": "8d7d25ac-f772-4244-ce33-c745f5863a23"
      },
      "outputs": [
        {
          "data": {
            "text/plain": [
              "dict_keys(['data'])"
            ]
          },
          "execution_count": 11,
          "metadata": {},
          "output_type": "execute_result"
        }
      ],
      "source": [
        "# 현재 데이터의 구조가 {'data':~~~ }로 되어있는것을 알 수 있습니다.\n",
        "raw_train_data.keys()"
      ]
    },
    {
      "cell_type": "code",
      "execution_count": null,
      "metadata": {
        "colab": {
          "base_uri": "https://localhost:8080/"
        },
        "id": "uMcJ230kRgJ_",
        "outputId": "27f7e65e-4f26-4581-c75f-5f7673136f00"
      },
      "outputs": [
        {
          "data": {
            "text/plain": [
              "1200307"
            ]
          },
          "execution_count": 12,
          "metadata": {},
          "output_type": "execute_result"
        }
      ],
      "source": [
        "# 학습 데이터 개수 확인\n",
        "len(raw_train_data['data'])"
      ]
    },
    {
      "cell_type": "markdown",
      "metadata": {
        "id": "pOcoZtgOYicO"
      },
      "source": [
        "지금 데이터가 너무 많아서 전처리만 해도 1,2시간 걸릴 수 있습니다. 그래서 숙제에서는 매우 일부 데이터만 이용하도록 하겠습니다."
      ]
    },
    {
      "cell_type": "code",
      "execution_count": null,
      "metadata": {
        "id": "OXGulbjhYg-o"
      },
      "outputs": [],
      "source": [
        "raw_train_data = raw_train_data['data'][:10000]\n",
        "raw_val_data = raw_val_data['data'][:1000]"
      ]
    },
    {
      "cell_type": "code",
      "execution_count": null,
      "metadata": {
        "id": "GMFaFQF0SJb4"
      },
      "outputs": [],
      "source": [
        "# 샘플로 하나 확인\n",
        "sample_data = raw_train_data[0]"
      ]
    },
    {
      "cell_type": "code",
      "execution_count": null,
      "metadata": {
        "colab": {
          "base_uri": "https://localhost:8080/"
        },
        "id": "I68Quh9gSRag",
        "outputId": "99b14331-7a1a-40c5-94bf-6837673aa98f"
      },
      "outputs": [
        {
          "data": {
            "text/plain": [
              "{'sn': 'ECOAR1A00003',\n",
              " 'data_set': '일상생활및구어체',\n",
              " 'domain': '해외고객과의채팅',\n",
              " 'subdomain': '숙박,음식점',\n",
              " 'en_original': \"I'm glad to hear that, and I hope you do consider doing business with us.\",\n",
              " 'en': \"I'm glad to hear that, and I hope you do consider doing business with us.\",\n",
              " 'mt': '그 소식을 들으니 기쁩니다. 우리와 거래하는 것을 고려해 보시기 바랍니다.',\n",
              " 'ko': '그 말을 들으니 기쁘고, 저희와 거래하는 것을 고려해 주셨으면 합니다.',\n",
              " 'source_language': 'en',\n",
              " 'target_language': 'ko',\n",
              " 'word_count_ko': 10.0,\n",
              " 'word_count_en': 15.0,\n",
              " 'word_ratio': 0.667,\n",
              " 'file_name': '해외고객과의채팅_숙박,음식점.xlsx',\n",
              " 'source': '크라우드 소싱',\n",
              " 'license': 'open',\n",
              " 'style': '구어체',\n",
              " 'included_unknown_words': False,\n",
              " 'ner': None}"
            ]
          },
          "execution_count": 15,
          "metadata": {},
          "output_type": "execute_result"
        }
      ],
      "source": [
        "# 아래의 예시를 보고 데이터를 어떻게 처리할지 잘 생각하셔야 합니다!\n",
        "# 보았을 때 우리가 사용해야 하는 건 ko와 en가 되고\n",
        "# 실제 데이터를 사용한다고 할 때 이 외에 필요한 데이터가 더 있을 수 있습니다.\n",
        "# 모델링 과정에서는 어떻게 데이터들이 저장되어 있는지 주의해서 처리하시면 됩니다.\n",
        "sample_data"
      ]
    },
    {
      "cell_type": "markdown",
      "metadata": {
        "id": "LoZkQRO3l20O"
      },
      "source": [
        "# Preprocess\n",
        "\n",
        "세션 설명 코드에서는 알파벳 하나하나 사용했지만, 이번 과정에서는 토큰화를 진행하여 사용하는 과정을 Dataset에 바로 적용해보고자 합니다! \n",
        "\n",
        "토큰화는 앞서 word embedding 세션에서 사용한 것들을 그대로 이용하고자 합니다. 세부 커스터마이징은 자유롭습니다.\n",
        "\n",
        "전처리 과정에서 중요한 점은, 앞의 구현 코드에서 여러 개의 for loop을 이용해서 구현했었지만, 실제 데이터를 사용한다면 매우 오래 걸리게 됩니다. 실제 데이터를 사용할 때엔 결국 얼마나 효율적으로 빠르게 정리할 수 있을지 고민해보시면서 접근하시길 바랍니다.\n",
        "\n",
        "즉, 전처리에서 챙길 통찰은 얼마나 \"효율적\"으로 할 수 있는가? 입니다."
      ]
    },
    {
      "cell_type": "markdown",
      "metadata": {
        "id": "IngQKWx3VRtO"
      },
      "source": [
        "## Tokenizer"
      ]
    },
    {
      "cell_type": "code",
      "execution_count": null,
      "metadata": {
        "colab": {
          "base_uri": "https://localhost:8080/"
        },
        "id": "ttmiDFAEU_BK",
        "outputId": "4677a5a4-3ebe-4d27-a68b-9f8c8b305c51"
      },
      "outputs": [
        {
          "name": "stdout",
          "output_type": "stream",
          "text": [
            "Get:1 http://security.ubuntu.com/ubuntu bionic-security InRelease [88.7 kB]\n",
            "Get:2 https://cloud.r-project.org/bin/linux/ubuntu bionic-cran40/ InRelease [3,626 B]\n",
            "Hit:3 http://archive.ubuntu.com/ubuntu bionic InRelease\n",
            "Get:4 http://ppa.launchpad.net/c2d4u.team/c2d4u4.0+/ubuntu bionic InRelease [15.9 kB]\n",
            "Ign:5 https://developer.download.nvidia.com/compute/machine-learning/repos/ubuntu1804/x86_64  InRelease\n",
            "Hit:6 https://developer.download.nvidia.com/compute/cuda/repos/ubuntu1804/x86_64  InRelease\n",
            "Get:7 http://archive.ubuntu.com/ubuntu bionic-updates InRelease [88.7 kB]\n",
            "Hit:8 https://developer.download.nvidia.com/compute/machine-learning/repos/ubuntu1804/x86_64  Release\n",
            "Get:9 https://cloud.r-project.org/bin/linux/ubuntu bionic-cran40/ Packages [91.7 kB]\n",
            "Hit:10 http://ppa.launchpad.net/cran/libgit2/ubuntu bionic InRelease\n",
            "Get:11 http://security.ubuntu.com/ubuntu bionic-security/restricted amd64 Packages [1,131 kB]\n",
            "Get:12 http://archive.ubuntu.com/ubuntu bionic-backports InRelease [74.6 kB]\n",
            "Get:13 http://security.ubuntu.com/ubuntu bionic-security/main amd64 Packages [2,965 kB]\n",
            "Get:14 http://ppa.launchpad.net/deadsnakes/ppa/ubuntu bionic InRelease [15.9 kB]\n",
            "Get:15 http://security.ubuntu.com/ubuntu bionic-security/universe amd64 Packages [1,540 kB]\n",
            "Hit:16 http://ppa.launchpad.net/graphics-drivers/ppa/ubuntu bionic InRelease\n",
            "Get:17 http://ppa.launchpad.net/c2d4u.team/c2d4u4.0+/ubuntu bionic/main Sources [2,105 kB]\n",
            "Get:19 http://archive.ubuntu.com/ubuntu bionic-updates/main amd64 Packages [3,396 kB]\n",
            "Get:20 http://ppa.launchpad.net/c2d4u.team/c2d4u4.0+/ubuntu bionic/main amd64 Packages [1,079 kB]\n",
            "Get:21 http://archive.ubuntu.com/ubuntu bionic-updates/restricted amd64 Packages [1,172 kB]\n",
            "Get:22 http://ppa.launchpad.net/deadsnakes/ppa/ubuntu bionic/main amd64 Packages [45.2 kB]\n",
            "Fetched 13.8 MB in 3s (5,084 kB/s)\n",
            "Reading package lists...\n",
            "Reading package lists...\n",
            "Building dependency tree...\n",
            "Reading state information...\n",
            "python-dev is already the newest version (2.7.15~rc1-1).\n",
            "g++ is already the newest version (4:7.4.0-1ubuntu2.3).\n",
            "g++ set to manually installed.\n",
            "python3-dev is already the newest version (3.6.7-1~18.04).\n",
            "python3-dev set to manually installed.\n",
            "The following package was automatically installed and is no longer required:\n",
            "  libnvidia-common-460\n",
            "Use 'apt autoremove' to remove it.\n",
            "The following additional packages will be installed:\n",
            "  fonts-dejavu-core fonts-dejavu-extra libatk-wrapper-java\n",
            "  libatk-wrapper-java-jni libgail-common libgail18 libgtk2.0-0 libgtk2.0-bin\n",
            "  libgtk2.0-common libxxf86dga1 openjdk-8-jdk-headless openjdk-8-jre\n",
            "  openjdk-8-jre-headless x11-utils\n",
            "Suggested packages:\n",
            "  gvfs openjdk-8-demo openjdk-8-source visualvm libnss-mdns\n",
            "  fonts-ipafont-gothic fonts-ipafont-mincho fonts-wqy-microhei\n",
            "  fonts-wqy-zenhei fonts-indic mesa-utils\n",
            "The following NEW packages will be installed:\n",
            "  fonts-dejavu-core fonts-dejavu-extra libatk-wrapper-java\n",
            "  libatk-wrapper-java-jni libgail-common libgail18 libgtk2.0-0 libgtk2.0-bin\n",
            "  libgtk2.0-common libxxf86dga1 openjdk-8-jdk openjdk-8-jdk-headless\n",
            "  openjdk-8-jre openjdk-8-jre-headless x11-utils\n",
            "0 upgraded, 15 newly installed, 0 to remove and 47 not upgraded.\n",
            "Need to get 46.0 MB of archives.\n",
            "After this operation, 166 MB of additional disk space will be used.\n",
            "Get:1 http://archive.ubuntu.com/ubuntu bionic/main amd64 libxxf86dga1 amd64 2:1.1.4-1 [13.7 kB]\n",
            "Get:2 http://archive.ubuntu.com/ubuntu bionic/main amd64 fonts-dejavu-core all 2.37-1 [1,041 kB]\n",
            "Get:3 http://archive.ubuntu.com/ubuntu bionic/main amd64 fonts-dejavu-extra all 2.37-1 [1,953 kB]\n",
            "Get:4 http://archive.ubuntu.com/ubuntu bionic/main amd64 x11-utils amd64 7.7+3build1 [196 kB]\n",
            "Get:5 http://archive.ubuntu.com/ubuntu bionic/main amd64 libatk-wrapper-java all 0.33.3-20ubuntu0.1 [34.7 kB]\n",
            "Get:6 http://archive.ubuntu.com/ubuntu bionic/main amd64 libatk-wrapper-java-jni amd64 0.33.3-20ubuntu0.1 [28.3 kB]\n",
            "Get:7 http://archive.ubuntu.com/ubuntu bionic/main amd64 libgtk2.0-common all 2.24.32-1ubuntu1 [125 kB]\n",
            "Get:8 http://archive.ubuntu.com/ubuntu bionic/main amd64 libgtk2.0-0 amd64 2.24.32-1ubuntu1 [1,769 kB]\n",
            "Get:9 http://archive.ubuntu.com/ubuntu bionic/main amd64 libgail18 amd64 2.24.32-1ubuntu1 [14.2 kB]\n",
            "Get:10 http://archive.ubuntu.com/ubuntu bionic/main amd64 libgail-common amd64 2.24.32-1ubuntu1 [112 kB]\n",
            "Get:11 http://archive.ubuntu.com/ubuntu bionic/main amd64 libgtk2.0-bin amd64 2.24.32-1ubuntu1 [7,536 B]\n",
            "Get:12 http://archive.ubuntu.com/ubuntu bionic-updates/universe amd64 openjdk-8-jre-headless amd64 8u342-b07-0ubuntu1~18.04 [28.3 MB]\n",
            "Get:13 http://archive.ubuntu.com/ubuntu bionic-updates/universe amd64 openjdk-8-jre amd64 8u342-b07-0ubuntu1~18.04 [69.6 kB]\n",
            "Get:14 http://archive.ubuntu.com/ubuntu bionic-updates/universe amd64 openjdk-8-jdk-headless amd64 8u342-b07-0ubuntu1~18.04 [8,300 kB]\n",
            "Get:15 http://archive.ubuntu.com/ubuntu bionic-updates/universe amd64 openjdk-8-jdk amd64 8u342-b07-0ubuntu1~18.04 [4,032 kB]\n",
            "Fetched 46.0 MB in 2s (24.0 MB/s)\n",
            "Selecting previously unselected package libxxf86dga1:amd64.\r\n",
            "(Reading database ... \r(Reading database ... 5%\r(Reading database ... 10%\r(Reading database ... 15%\r(Reading database ... 20%\r(Reading database ... 25%\r(Reading database ... 30%\r(Reading database ... 35%\r(Reading database ... 40%\r(Reading database ... 45%\r(Reading database ... 50%\r(Reading database ... 55%\r(Reading database ... 60%\r(Reading database ... 65%\r(Reading database ... 70%\r(Reading database ... 75%\r(Reading database ... 80%\r(Reading database ... 85%\r(Reading database ... 90%\r(Reading database ... 95%\r(Reading database ... 100%\r(Reading database ... 155685 files and directories currently installed.)\r\n",
            "Preparing to unpack .../00-libxxf86dga1_2%3a1.1.4-1_amd64.deb ...\r\n",
            "Unpacking libxxf86dga1:amd64 (2:1.1.4-1) ...\r\n",
            "Selecting previously unselected package fonts-dejavu-core.\r\n",
            "Preparing to unpack .../01-fonts-dejavu-core_2.37-1_all.deb ...\r\n",
            "Unpacking fonts-dejavu-core (2.37-1) ...\r\n",
            "Selecting previously unselected package fonts-dejavu-extra.\r\n",
            "Preparing to unpack .../02-fonts-dejavu-extra_2.37-1_all.deb ...\r\n",
            "Unpacking fonts-dejavu-extra (2.37-1) ...\r\n",
            "Selecting previously unselected package x11-utils.\r\n",
            "Preparing to unpack .../03-x11-utils_7.7+3build1_amd64.deb ...\r\n",
            "Unpacking x11-utils (7.7+3build1) ...\r\n",
            "Selecting previously unselected package libatk-wrapper-java.\r\n",
            "Preparing to unpack .../04-libatk-wrapper-java_0.33.3-20ubuntu0.1_all.deb ...\r\n",
            "Unpacking libatk-wrapper-java (0.33.3-20ubuntu0.1) ...\r\n",
            "Selecting previously unselected package libatk-wrapper-java-jni:amd64.\r\n",
            "Preparing to unpack .../05-libatk-wrapper-java-jni_0.33.3-20ubuntu0.1_amd64.deb ...\r\n",
            "Unpacking libatk-wrapper-java-jni:amd64 (0.33.3-20ubuntu0.1) ...\r\n",
            "Selecting previously unselected package libgtk2.0-common.\r\n",
            "Preparing to unpack .../06-libgtk2.0-common_2.24.32-1ubuntu1_all.deb ...\r\n",
            "Unpacking libgtk2.0-common (2.24.32-1ubuntu1) ...\r\n",
            "Selecting previously unselected package libgtk2.0-0:amd64.\r\n",
            "Preparing to unpack .../07-libgtk2.0-0_2.24.32-1ubuntu1_amd64.deb ...\r\n",
            "Unpacking libgtk2.0-0:amd64 (2.24.32-1ubuntu1) ...\r\n",
            "Selecting previously unselected package libgail18:amd64.\r\n",
            "Preparing to unpack .../08-libgail18_2.24.32-1ubuntu1_amd64.deb ...\r\n",
            "Unpacking libgail18:amd64 (2.24.32-1ubuntu1) ...\r\n",
            "Selecting previously unselected package libgail-common:amd64.\r\n",
            "Preparing to unpack .../09-libgail-common_2.24.32-1ubuntu1_amd64.deb ...\r\n",
            "Unpacking libgail-common:amd64 (2.24.32-1ubuntu1) ...\r\n",
            "Selecting previously unselected package libgtk2.0-bin.\r\n",
            "Preparing to unpack .../10-libgtk2.0-bin_2.24.32-1ubuntu1_amd64.deb ...\r\n",
            "Unpacking libgtk2.0-bin (2.24.32-1ubuntu1) ...\r\n",
            "Selecting previously unselected package openjdk-8-jre-headless:amd64.\r\n",
            "Preparing to unpack .../11-openjdk-8-jre-headless_8u342-b07-0ubuntu1~18.04_amd64.deb ...\r\n",
            "Unpacking openjdk-8-jre-headless:amd64 (8u342-b07-0ubuntu1~18.04) ...\r\n",
            "Selecting previously unselected package openjdk-8-jre:amd64.\r\n",
            "Preparing to unpack .../12-openjdk-8-jre_8u342-b07-0ubuntu1~18.04_amd64.deb ...\r\n",
            "Unpacking openjdk-8-jre:amd64 (8u342-b07-0ubuntu1~18.04) ...\r\n",
            "Selecting previously unselected package openjdk-8-jdk-headless:amd64.\r\n",
            "Preparing to unpack .../13-openjdk-8-jdk-headless_8u342-b07-0ubuntu1~18.04_amd64.deb ...\r\n",
            "Unpacking openjdk-8-jdk-headless:amd64 (8u342-b07-0ubuntu1~18.04) ...\r\n",
            "Selecting previously unselected package openjdk-8-jdk:amd64.\r\n",
            "Preparing to unpack .../14-openjdk-8-jdk_8u342-b07-0ubuntu1~18.04_amd64.deb ...\r\n",
            "Unpacking openjdk-8-jdk:amd64 (8u342-b07-0ubuntu1~18.04) ...\r\n",
            "Setting up libgtk2.0-common (2.24.32-1ubuntu1) ...\r\n",
            "Setting up fonts-dejavu-core (2.37-1) ...\r\n",
            "Setting up libxxf86dga1:amd64 (2:1.1.4-1) ...\r\n",
            "Setting up fonts-dejavu-extra (2.37-1) ...\r\n",
            "Setting up openjdk-8-jre-headless:amd64 (8u342-b07-0ubuntu1~18.04) ...\r\n",
            "update-alternatives: using /usr/lib/jvm/java-8-openjdk-amd64/jre/bin/orbd to provide /usr/bin/orbd (orbd) in auto mode\r\n",
            "update-alternatives: using /usr/lib/jvm/java-8-openjdk-amd64/jre/bin/servertool to provide /usr/bin/servertool (servertool) in auto mode\r\n",
            "update-alternatives: using /usr/lib/jvm/java-8-openjdk-amd64/jre/bin/tnameserv to provide /usr/bin/tnameserv (tnameserv) in auto mode\r\n",
            "Setting up libgtk2.0-0:amd64 (2.24.32-1ubuntu1) ...\r\n",
            "Setting up libgail18:amd64 (2.24.32-1ubuntu1) ...\r\n",
            "Setting up openjdk-8-jdk-headless:amd64 (8u342-b07-0ubuntu1~18.04) ...\r\n",
            "update-alternatives: using /usr/lib/jvm/java-8-openjdk-amd64/bin/idlj to provide /usr/bin/idlj (idlj) in auto mode\r\n",
            "update-alternatives: using /usr/lib/jvm/java-8-openjdk-amd64/bin/wsimport to provide /usr/bin/wsimport (wsimport) in auto mode\r\n",
            "update-alternatives: using /usr/lib/jvm/java-8-openjdk-amd64/bin/jsadebugd to provide /usr/bin/jsadebugd (jsadebugd) in auto mode\r\n",
            "update-alternatives: using /usr/lib/jvm/java-8-openjdk-amd64/bin/native2ascii to provide /usr/bin/native2ascii (native2ascii) in auto mode\r\n",
            "update-alternatives: using /usr/lib/jvm/java-8-openjdk-amd64/bin/javah to provide /usr/bin/javah (javah) in auto mode\r\n",
            "update-alternatives: using /usr/lib/jvm/java-8-openjdk-amd64/bin/clhsdb to provide /usr/bin/clhsdb (clhsdb) in auto mode\r\n",
            "update-alternatives: using /usr/lib/jvm/java-8-openjdk-amd64/bin/xjc to provide /usr/bin/xjc (xjc) in auto mode\r\n",
            "update-alternatives: using /usr/lib/jvm/java-8-openjdk-amd64/bin/hsdb to provide /usr/bin/hsdb (hsdb) in auto mode\r\n",
            "update-alternatives: using /usr/lib/jvm/java-8-openjdk-amd64/bin/schemagen to provide /usr/bin/schemagen (schemagen) in auto mode\r\n",
            "update-alternatives: using /usr/lib/jvm/java-8-openjdk-amd64/bin/extcheck to provide /usr/bin/extcheck (extcheck) in auto mode\r\n",
            "update-alternatives: using /usr/lib/jvm/java-8-openjdk-amd64/bin/jhat to provide /usr/bin/jhat (jhat) in auto mode\r\n",
            "update-alternatives: using /usr/lib/jvm/java-8-openjdk-amd64/bin/wsgen to provide /usr/bin/wsgen (wsgen) in auto mode\r\n",
            "Setting up x11-utils (7.7+3build1) ...\r\n",
            "Setting up libgail-common:amd64 (2.24.32-1ubuntu1) ...\r\n",
            "Setting up libatk-wrapper-java (0.33.3-20ubuntu0.1) ...\r\n",
            "Setting up libgtk2.0-bin (2.24.32-1ubuntu1) ...\r\n",
            "Setting up libatk-wrapper-java-jni:amd64 (0.33.3-20ubuntu0.1) ...\r\n",
            "Setting up openjdk-8-jre:amd64 (8u342-b07-0ubuntu1~18.04) ...\r\n",
            "update-alternatives: using /usr/lib/jvm/java-8-openjdk-amd64/jre/bin/policytool to provide /usr/bin/policytool (policytool) in auto mode\r\n",
            "Setting up openjdk-8-jdk:amd64 (8u342-b07-0ubuntu1~18.04) ...\r\n",
            "update-alternatives: using /usr/lib/jvm/java-8-openjdk-amd64/bin/appletviewer to provide /usr/bin/appletviewer (appletviewer) in auto mode\r\n",
            "update-alternatives: using /usr/lib/jvm/java-8-openjdk-amd64/bin/jconsole to provide /usr/bin/jconsole (jconsole) in auto mode\r\n",
            "Processing triggers for man-db (2.8.3-2ubuntu0.1) ...\r\n",
            "Processing triggers for hicolor-icon-theme (0.17-2) ...\r\n",
            "Processing triggers for fontconfig (2.12.6-0ubuntu2) ...\r\n",
            "Processing triggers for mime-support (3.60ubuntu1) ...\r\n",
            "Processing triggers for libc-bin (2.27-3ubuntu1.5) ...\r\n",
            "Looking in indexes: https://pypi.org/simple, https://us-python.pkg.dev/colab-wheels/public/simple/\n",
            "Collecting JPype1\n",
            "  Downloading JPype1-1.4.0-cp37-cp37m-manylinux_2_5_x86_64.manylinux1_x86_64.whl (453 kB)\n",
            "Requirement already satisfied: typing-extensions in /usr/local/lib/python3.7/dist-packages (from JPype1) (4.1.1)\n",
            "Installing collected packages: JPype1\n",
            "Successfully installed JPype1-1.4.0\n",
            "Looking in indexes: https://pypi.org/simple, https://us-python.pkg.dev/colab-wheels/public/simple/\n",
            "Collecting konlpy\n",
            "  Downloading konlpy-0.6.0-py2.py3-none-any.whl (19.4 MB)\n",
            "Requirement already satisfied: lxml>=4.1.0 in /usr/local/lib/python3.7/dist-packages (from konlpy) (4.9.1)\n",
            "Requirement already satisfied: numpy>=1.6 in /usr/local/lib/python3.7/dist-packages (from konlpy) (1.21.6)\n",
            "Requirement already satisfied: JPype1>=0.7.0 in /usr/local/lib/python3.7/dist-packages (from konlpy) (1.4.0)\n",
            "Requirement already satisfied: typing-extensions in /usr/local/lib/python3.7/dist-packages (from JPype1>=0.7.0->konlpy) (4.1.1)\n",
            "Installing collected packages: konlpy\n",
            "Successfully installed konlpy-0.6.0\n"
          ]
        }
      ],
      "source": [
        "#konlpy 설치 (mecab 제외). 3~40초 정도 소요\n",
        "%%bash\n",
        "apt-get update\n",
        "apt-get install g++ openjdk-8-jdk python-dev python3-dev\n",
        "pip3 install JPype1\n",
        "pip3 install konlpy"
      ]
    },
    {
      "cell_type": "code",
      "execution_count": null,
      "metadata": {
        "colab": {
          "base_uri": "https://localhost:8080/"
        },
        "id": "gV7CNL2KVDqN",
        "outputId": "7a937c72-3b48-4da1-aa14-e6488d388ed8"
      },
      "outputs": [
        {
          "name": "stdout",
          "output_type": "stream",
          "text": [
            "env: JAVA_HOME=\"/usr/lib/jvm/java-8-openjdk-amd64\"\n"
          ]
        }
      ],
      "source": [
        "# java 경로 설정\n",
        "%env JAVA_HOME \"/usr/lib/jvm/java-8-openjdk-amd64\""
      ]
    },
    {
      "cell_type": "code",
      "execution_count": null,
      "metadata": {
        "id": "S0aHtzksVPOT"
      },
      "outputs": [],
      "source": [
        "from konlpy.tag import Okt"
      ]
    },
    {
      "cell_type": "code",
      "execution_count": null,
      "metadata": {
        "id": "ly1Fg2bXVYVF"
      },
      "outputs": [],
      "source": [
        "okt = Okt()"
      ]
    },
    {
      "cell_type": "code",
      "execution_count": null,
      "metadata": {
        "id": "UcXNpcUaVtIA"
      },
      "outputs": [],
      "source": [
        "def CustomTokenizer(corpus):\n",
        "    tokenized = okt.morphs(corpus, stem=True)\n",
        "    \n",
        "    return tokenized      "
      ]
    },
    {
      "cell_type": "code",
      "execution_count": null,
      "metadata": {
        "colab": {
          "base_uri": "https://localhost:8080/"
        },
        "id": "7MzBafaH-jRv",
        "outputId": "eb29e8f7-c1b4-41d2-eac8-c73345d1a056"
      },
      "outputs": [
        {
          "data": {
            "text/plain": [
              "10000"
            ]
          },
          "execution_count": 41,
          "metadata": {},
          "output_type": "execute_result"
        }
      ],
      "source": [
        "len(raw_train_data)"
      ]
    },
    {
      "cell_type": "code",
      "execution_count": null,
      "metadata": {
        "colab": {
          "base_uri": "https://localhost:8080/"
        },
        "id": "aGMdyWtdWF31",
        "outputId": "21d11332-5f96-4966-e7bb-4a41caccb1d8"
      },
      "outputs": [
        {
          "data": {
            "text/plain": [
              "['그',\n",
              " '말',\n",
              " '을',\n",
              " '들다',\n",
              " '기쁘다',\n",
              " ',',\n",
              " '저희',\n",
              " '와',\n",
              " '거래',\n",
              " '하다',\n",
              " '것',\n",
              " '을',\n",
              " '고려',\n",
              " '하다',\n",
              " '주다',\n",
              " '하다',\n",
              " '.']"
            ]
          },
          "execution_count": 26,
          "metadata": {},
          "output_type": "execute_result"
        }
      ],
      "source": [
        "# 한국어 처리 어떻게 되고 있는지 확인\n",
        "CustomTokenizer(sample_data['ko'])"
      ]
    },
    {
      "cell_type": "code",
      "execution_count": null,
      "metadata": {
        "colab": {
          "base_uri": "https://localhost:8080/"
        },
        "id": "G7vMH186WJUp",
        "outputId": "391d536c-a2b6-45c7-926a-a82088e43534"
      },
      "outputs": [
        {
          "data": {
            "text/plain": [
              "['I',\n",
              " \"'\",\n",
              " 'm',\n",
              " 'glad',\n",
              " 'to',\n",
              " 'hear',\n",
              " 'that',\n",
              " ',',\n",
              " 'and',\n",
              " 'I',\n",
              " 'hope',\n",
              " 'you',\n",
              " 'do',\n",
              " 'consider',\n",
              " 'doing',\n",
              " 'business',\n",
              " 'with',\n",
              " 'us',\n",
              " '.']"
            ]
          },
          "execution_count": 27,
          "metadata": {},
          "output_type": "execute_result"
        }
      ],
      "source": [
        "# 영어도 일단 토큰화가 되고 있으니 사용해보도록 합시다\n",
        "CustomTokenizer(sample_data['en'])"
      ]
    },
    {
      "cell_type": "markdown",
      "metadata": {
        "id": "L9_z0sVcW7Cy"
      },
      "source": [
        "## 본격적인 전처리 과정\n",
        "\n",
        "전처리릏 할 때 주의할 점은, 우리가 가지고 있는 것은 train 데이터 뿐이라는 점입니다.\n",
        "\n",
        "토큰화를 하고, token들을 수집할 때 평가데이터(혹은 테스트 데이터)에 대한 정보는 가지고 있을 수 없습니다. 그렇기 때문에 train data를 기준으로 전처리가 진행되어야 합니다."
      ]
    },
    {
      "cell_type": "markdown",
      "metadata": {
        "id": "HgfddQJuaQe-"
      },
      "source": [
        "### Tokenization"
      ]
    },
    {
      "cell_type": "code",
      "execution_count": null,
      "metadata": {
        "id": "zPHGhgX4YXJR"
      },
      "outputs": [],
      "source": [
        "from tqdm import tqdm"
      ]
    },
    {
      "cell_type": "code",
      "execution_count": null,
      "metadata": {
        "colab": {
          "base_uri": "https://localhost:8080/"
        },
        "id": "X5bSULtv_eeh",
        "outputId": "ac7d6893-fc5c-4cbf-afae-4caf8b9ab25c"
      },
      "outputs": [
        {
          "name": "stderr",
          "output_type": "stream",
          "text": [
            "\r  0%|          | 0/10000 [00:00<?, ?it/s]"
          ]
        },
        {
          "data": {
            "text/plain": [
              "<tqdm.std.tqdm at 0x7f99a6507890>"
            ]
          },
          "execution_count": 43,
          "metadata": {},
          "output_type": "execute_result"
        }
      ],
      "source": [
        "tqdm(raw_train_data)"
      ]
    },
    {
      "cell_type": "code",
      "execution_count": 78,
      "metadata": {
        "colab": {
          "base_uri": "https://localhost:8080/"
        },
        "id": "sJjWUAipWPsN",
        "outputId": "4bfbaf47-37db-441e-840e-d0e308af784d"
      },
      "outputs": [
        {
          "output_type": "stream",
          "name": "stderr",
          "text": [
            "\n",
            "  0%|          | 0/10000 [00:00<?, ?it/s]\u001b[A\n",
            "  1%|          | 75/10000 [00:00<00:13, 747.13it/s]\u001b[A\n",
            "  2%|▏         | 150/10000 [00:00<00:39, 250.88it/s]\u001b[A\n",
            "  2%|▏         | 219/10000 [00:00<00:28, 346.65it/s]\u001b[A\n",
            "  3%|▎         | 291/10000 [00:00<00:22, 434.32it/s]\u001b[A\n",
            "  4%|▎         | 352/10000 [00:01<00:35, 274.27it/s]\u001b[A\n",
            "  4%|▍         | 419/10000 [00:01<00:28, 341.87it/s]\u001b[A\n",
            "  5%|▍         | 482/10000 [00:01<00:23, 398.12it/s]\u001b[A\n",
            "  6%|▌         | 554/10000 [00:01<00:20, 468.60it/s]\u001b[A\n",
            "  6%|▌         | 615/10000 [00:01<00:32, 293.25it/s]\u001b[A\n",
            "  7%|▋         | 688/10000 [00:01<00:25, 365.47it/s]\u001b[A\n",
            "  8%|▊         | 755/10000 [00:02<00:21, 422.91it/s]\u001b[A\n",
            "  8%|▊         | 814/10000 [00:02<00:32, 285.79it/s]\u001b[A\n",
            "  9%|▉         | 879/10000 [00:02<00:26, 343.92it/s]\u001b[A\n",
            " 10%|▉         | 957/10000 [00:02<00:21, 424.69it/s]\u001b[A\n",
            " 10%|█         | 1017/10000 [00:03<00:30, 290.68it/s]\u001b[A\n",
            " 11%|█         | 1082/10000 [00:03<00:25, 347.31it/s]\u001b[A\n",
            " 12%|█▏        | 1151/10000 [00:03<00:21, 409.48it/s]\u001b[A\n",
            " 12%|█▏        | 1221/10000 [00:03<00:18, 469.75it/s]\u001b[A\n",
            " 13%|█▎        | 1282/10000 [00:03<00:29, 295.37it/s]\u001b[A\n",
            " 13%|█▎        | 1343/10000 [00:03<00:25, 345.83it/s]\u001b[A\n",
            " 14%|█▍        | 1412/10000 [00:03<00:20, 409.88it/s]\u001b[A\n",
            " 15%|█▍        | 1469/10000 [00:04<00:30, 276.25it/s]\u001b[A\n",
            " 15%|█▌        | 1532/10000 [00:04<00:25, 332.10it/s]\u001b[A\n",
            " 16%|█▌        | 1596/10000 [00:04<00:21, 387.53it/s]\u001b[A\n",
            " 17%|█▋        | 1658/10000 [00:04<00:31, 268.82it/s]\u001b[A\n",
            " 17%|█▋        | 1726/10000 [00:04<00:24, 331.82it/s]\u001b[A\n",
            " 18%|█▊        | 1798/10000 [00:05<00:20, 401.91it/s]\u001b[A\n",
            " 19%|█▊        | 1864/10000 [00:05<00:17, 453.60it/s]\u001b[A\n",
            " 19%|█▉        | 1923/10000 [00:05<00:27, 289.11it/s]\u001b[A\n",
            " 20%|█▉        | 1992/10000 [00:05<00:22, 353.36it/s]\u001b[A\n",
            " 21%|██        | 2059/10000 [00:05<00:19, 412.53it/s]\u001b[A\n",
            " 21%|██        | 2116/10000 [00:06<00:28, 277.10it/s]\u001b[A\n",
            " 22%|██▏       | 2180/10000 [00:06<00:23, 334.04it/s]\u001b[A\n",
            " 22%|██▏       | 2240/10000 [00:06<00:20, 381.20it/s]\u001b[A\n",
            " 23%|██▎       | 2293/10000 [00:06<00:30, 252.43it/s]\u001b[A\n",
            " 24%|██▎       | 2350/10000 [00:06<00:25, 301.18it/s]\u001b[A\n",
            " 24%|██▍       | 2408/10000 [00:06<00:21, 351.24it/s]\u001b[A\n",
            " 25%|██▍       | 2482/10000 [00:07<00:27, 270.55it/s]\u001b[A\n",
            " 25%|██▌       | 2542/10000 [00:07<00:23, 321.37it/s]\u001b[A\n",
            " 26%|██▌       | 2618/10000 [00:07<00:18, 400.80it/s]\u001b[A\n",
            " 27%|██▋       | 2675/10000 [00:07<00:16, 435.49it/s]\u001b[A\n",
            " 27%|██▋       | 2731/10000 [00:08<00:25, 280.02it/s]\u001b[A\n",
            " 28%|██▊       | 2796/10000 [00:08<00:21, 340.08it/s]\u001b[A\n",
            " 29%|██▊       | 2853/10000 [00:08<00:18, 383.45it/s]\u001b[A\n",
            " 29%|██▉       | 2905/10000 [00:08<00:27, 254.31it/s]\u001b[A\n",
            " 30%|██▉       | 2964/10000 [00:08<00:22, 306.86it/s]\u001b[A\n",
            " 30%|███       | 3023/10000 [00:08<00:19, 358.88it/s]\u001b[A\n",
            " 31%|███       | 3080/10000 [00:09<00:27, 249.37it/s]\u001b[A\n",
            " 31%|███▏      | 3134/10000 [00:09<00:23, 294.21it/s]\u001b[A\n",
            " 32%|███▏      | 3191/10000 [00:09<00:19, 343.78it/s]\u001b[A\n",
            " 33%|███▎      | 3257/10000 [00:09<00:16, 408.25it/s]\u001b[A\n",
            " 33%|███▎      | 3310/10000 [00:09<00:25, 261.77it/s]\u001b[A\n",
            " 34%|███▎      | 3367/10000 [00:10<00:21, 311.72it/s]\u001b[A\n",
            " 34%|███▍      | 3431/10000 [00:10<00:17, 373.55it/s]\u001b[A\n",
            " 35%|███▍      | 3483/10000 [00:10<00:26, 248.47it/s]\u001b[A\n",
            " 35%|███▌      | 3543/10000 [00:10<00:21, 303.42it/s]\u001b[A\n",
            " 36%|███▌      | 3603/10000 [00:10<00:17, 357.07it/s]\u001b[A\n",
            " 37%|███▋      | 3653/10000 [00:11<00:26, 242.70it/s]\u001b[A\n",
            " 37%|███▋      | 3710/10000 [00:11<00:21, 293.88it/s]\u001b[A\n",
            " 38%|███▊      | 3764/10000 [00:11<00:18, 338.12it/s]\u001b[A\n",
            " 38%|███▊      | 3831/10000 [00:11<00:15, 406.49it/s]\u001b[A\n",
            " 39%|███▉      | 3884/10000 [00:11<00:23, 264.42it/s]\u001b[A\n",
            " 40%|███▉      | 3952/10000 [00:11<00:18, 332.45it/s]\u001b[A\n",
            " 40%|████      | 4018/10000 [00:12<00:15, 393.90it/s]\u001b[A\n",
            " 41%|████      | 4072/10000 [00:12<00:22, 261.69it/s]\u001b[A\n",
            " 41%|████▏     | 4132/10000 [00:12<00:18, 314.86it/s]\u001b[A\n",
            " 42%|████▏     | 4197/10000 [00:12<00:15, 375.94it/s]\u001b[A\n",
            " 43%|████▎     | 4255/10000 [00:13<00:21, 266.14it/s]\u001b[A\n",
            " 43%|████▎     | 4309/10000 [00:13<00:18, 309.30it/s]\u001b[A\n",
            " 44%|████▍     | 4377/10000 [00:13<00:14, 377.59it/s]\u001b[A\n",
            " 45%|████▍     | 4452/10000 [00:13<00:12, 455.33it/s]\u001b[A\n",
            " 45%|████▌     | 4511/10000 [00:13<00:19, 282.61it/s]\u001b[A\n",
            " 46%|████▌     | 4582/10000 [00:13<00:15, 350.61it/s]\u001b[A\n",
            " 46%|████▋     | 4637/10000 [00:13<00:13, 386.39it/s]\u001b[A\n",
            " 47%|████▋     | 4691/10000 [00:14<00:20, 259.44it/s]\u001b[A\n",
            " 48%|████▊     | 4753/10000 [00:14<00:16, 315.55it/s]\u001b[A\n",
            " 48%|████▊     | 4812/10000 [00:14<00:14, 364.56it/s]\u001b[A\n",
            " 49%|████▊     | 4863/10000 [00:14<00:20, 247.71it/s]\u001b[A\n",
            " 49%|████▉     | 4925/10000 [00:15<00:16, 305.53it/s]\u001b[A\n",
            " 50%|████▉     | 4986/10000 [00:15<00:13, 360.09it/s]\u001b[A\n",
            " 50%|█████     | 5045/10000 [00:15<00:12, 406.94it/s]\u001b[A\n",
            " 51%|█████     | 5098/10000 [00:15<00:19, 257.39it/s]\u001b[A\n",
            " 52%|█████▏    | 5163/10000 [00:15<00:15, 319.86it/s]\u001b[A\n",
            " 52%|█████▏    | 5226/10000 [00:15<00:12, 376.64it/s]\u001b[A\n",
            " 53%|█████▎    | 5279/10000 [00:16<00:18, 253.82it/s]\u001b[A\n",
            " 53%|█████▎    | 5339/10000 [00:16<00:15, 307.40it/s]\u001b[A\n",
            " 54%|█████▍    | 5403/10000 [00:16<00:12, 367.23it/s]\u001b[A\n",
            " 55%|█████▍    | 5455/10000 [00:16<00:18, 251.16it/s]\u001b[A\n",
            " 55%|█████▌    | 5513/10000 [00:16<00:14, 302.69it/s]\u001b[A\n",
            " 56%|█████▌    | 5573/10000 [00:16<00:12, 356.90it/s]\u001b[A\n",
            " 56%|█████▋    | 5636/10000 [00:17<00:10, 412.12it/s]\u001b[A\n",
            " 57%|█████▋    | 5690/10000 [00:17<00:16, 260.81it/s]\u001b[A\n",
            " 57%|█████▋    | 5745/10000 [00:17<00:13, 307.09it/s]\u001b[A\n",
            " 58%|█████▊    | 5795/10000 [00:17<00:12, 342.97it/s]\u001b[A\n",
            " 58%|█████▊    | 5842/10000 [00:18<00:17, 231.00it/s]\u001b[A\n",
            " 59%|█████▉    | 5907/10000 [00:18<00:13, 297.14it/s]\u001b[A\n",
            " 60%|█████▉    | 5968/10000 [00:18<00:11, 354.03it/s]\u001b[A\n",
            " 60%|██████    | 6018/10000 [00:18<00:16, 239.56it/s]\u001b[A\n",
            " 61%|██████    | 6086/10000 [00:18<00:12, 308.15it/s]\u001b[A\n",
            " 62%|██████▏   | 6155/10000 [00:18<00:10, 377.17it/s]\u001b[A\n",
            " 62%|██████▏   | 6209/10000 [00:18<00:09, 403.68it/s]\u001b[A\n",
            " 63%|██████▎   | 6262/10000 [00:19<00:14, 257.28it/s]\u001b[A\n",
            " 63%|██████▎   | 6321/10000 [00:19<00:11, 310.28it/s]\u001b[A\n",
            " 64%|██████▍   | 6385/10000 [00:19<00:09, 371.12it/s]\u001b[A\n",
            " 64%|██████▍   | 6437/10000 [00:19<00:14, 253.05it/s]\u001b[A\n",
            " 65%|██████▌   | 6508/10000 [00:20<00:10, 325.54it/s]\u001b[A\n",
            " 66%|██████▌   | 6564/10000 [00:20<00:09, 367.81it/s]\u001b[A\n",
            " 66%|██████▌   | 6616/10000 [00:20<00:13, 245.91it/s]\u001b[A\n",
            " 67%|██████▋   | 6669/10000 [00:20<00:11, 289.76it/s]\u001b[A\n",
            " 67%|██████▋   | 6718/10000 [00:20<00:10, 325.86it/s]\u001b[A\n",
            " 68%|██████▊   | 6773/10000 [00:20<00:08, 370.30it/s]\u001b[A\n",
            " 68%|██████▊   | 6821/10000 [00:21<00:13, 240.01it/s]\u001b[A\n",
            " 69%|██████▉   | 6885/10000 [00:21<00:10, 305.61it/s]\u001b[A\n",
            " 69%|██████▉   | 6943/10000 [00:21<00:08, 357.37it/s]\u001b[A\n",
            " 70%|██████▉   | 6992/10000 [00:21<00:12, 236.28it/s]\u001b[A\n",
            " 71%|███████   | 7051/10000 [00:21<00:10, 291.83it/s]\u001b[A\n",
            " 71%|███████   | 7112/10000 [00:22<00:08, 350.09it/s]\u001b[A\n",
            " 72%|███████▏  | 7162/10000 [00:22<00:12, 235.13it/s]\u001b[A\n",
            " 72%|███████▏  | 7220/10000 [00:22<00:09, 288.29it/s]\u001b[A\n",
            " 73%|███████▎  | 7281/10000 [00:22<00:07, 345.91it/s]\u001b[A\n",
            " 73%|███████▎  | 7340/10000 [00:22<00:06, 395.24it/s]\u001b[A\n",
            " 74%|███████▍  | 7392/10000 [00:23<00:10, 252.70it/s]\u001b[A\n",
            " 74%|███████▍  | 7450/10000 [00:23<00:08, 304.87it/s]\u001b[A\n",
            " 75%|███████▌  | 7518/10000 [00:23<00:06, 374.81it/s]\u001b[A\n",
            " 76%|███████▌  | 7571/10000 [00:23<00:09, 246.76it/s]\u001b[A\n",
            " 76%|███████▋  | 7632/10000 [00:23<00:07, 302.54it/s]\u001b[A\n",
            " 77%|███████▋  | 7696/10000 [00:23<00:06, 362.61it/s]\u001b[A\n",
            " 77%|███████▋  | 7748/10000 [00:24<00:09, 245.88it/s]\u001b[A\n",
            " 78%|███████▊  | 7803/10000 [00:24<00:07, 292.41it/s]\u001b[A\n",
            " 79%|███████▊  | 7867/10000 [00:24<00:06, 354.77it/s]\u001b[A\n",
            " 79%|███████▉  | 7922/10000 [00:24<00:08, 244.64it/s]\u001b[A\n",
            " 80%|███████▉  | 7983/10000 [00:25<00:06, 299.73it/s]\u001b[A\n",
            " 80%|████████  | 8050/10000 [00:25<00:05, 365.33it/s]\u001b[A\n",
            " 81%|████████  | 8105/10000 [00:25<00:04, 400.54it/s]\u001b[A\n",
            " 82%|████████▏ | 8158/10000 [00:25<00:07, 258.72it/s]\u001b[A\n",
            " 82%|████████▏ | 8214/10000 [00:25<00:05, 306.71it/s]\u001b[A\n",
            " 83%|████████▎ | 8278/10000 [00:25<00:04, 369.05it/s]\u001b[A\n",
            " 83%|████████▎ | 8329/10000 [00:26<00:06, 248.27it/s]\u001b[A\n",
            " 84%|████████▍ | 8402/10000 [00:26<00:04, 324.22it/s]\u001b[A\n",
            " 85%|████████▍ | 8467/10000 [00:26<00:03, 384.08it/s]\u001b[A\n",
            " 85%|████████▌ | 8532/10000 [00:26<00:03, 439.03it/s]\u001b[A\n",
            " 86%|████████▌ | 8590/10000 [00:26<00:05, 280.86it/s]\u001b[A\n",
            " 87%|████████▋ | 8661/10000 [00:27<00:03, 350.37it/s]\u001b[A\n",
            " 87%|████████▋ | 8718/10000 [00:27<00:03, 390.72it/s]\u001b[A\n",
            " 88%|████████▊ | 8772/10000 [00:27<00:04, 257.85it/s]\u001b[A\n",
            " 88%|████████▊ | 8840/10000 [00:27<00:03, 323.41it/s]\u001b[A\n",
            " 89%|████████▉ | 8910/10000 [00:27<00:02, 390.95it/s]\u001b[A\n",
            " 90%|████████▉ | 8966/10000 [00:28<00:03, 260.16it/s]\u001b[A\n",
            " 90%|█████████ | 9025/10000 [00:28<00:03, 309.47it/s]\u001b[A\n",
            " 91%|█████████ | 9093/10000 [00:28<00:02, 374.66it/s]\u001b[A\n",
            " 92%|█████████▏| 9160/10000 [00:28<00:01, 433.80it/s]\u001b[A\n",
            " 92%|█████████▏| 9218/10000 [00:28<00:02, 280.82it/s]\u001b[A\n",
            " 93%|█████████▎| 9276/10000 [00:28<00:02, 328.23it/s]\u001b[A\n",
            " 93%|█████████▎| 9345/10000 [00:29<00:01, 395.77it/s]\u001b[A\n",
            " 94%|█████████▍| 9400/10000 [00:29<00:02, 263.87it/s]\u001b[A\n",
            " 95%|█████████▍| 9462/10000 [00:29<00:01, 318.72it/s]\u001b[A\n",
            " 95%|█████████▌| 9530/10000 [00:29<00:01, 383.82it/s]\u001b[A\n",
            " 96%|█████████▌| 9584/10000 [00:30<00:01, 254.56it/s]\u001b[A\n",
            " 96%|█████████▋| 9645/10000 [00:30<00:01, 308.45it/s]\u001b[A\n",
            " 97%|█████████▋| 9711/10000 [00:30<00:00, 370.77it/s]\u001b[A\n",
            " 98%|█████████▊| 9777/10000 [00:30<00:00, 428.28it/s]\u001b[A\n",
            " 98%|█████████▊| 9834/10000 [00:30<00:00, 274.30it/s]\u001b[A\n",
            " 99%|█████████▉| 9897/10000 [00:30<00:00, 330.95it/s]\u001b[A\n",
            "100%|██████████| 10000/10000 [00:31<00:00, 318.84it/s]\n"
          ]
        }
      ],
      "source": [
        "src_vocab = set()\n",
        "tar_vocab = set()\n",
        "\n",
        "src_seq_tr = []\n",
        "tar_seq_tr = []\n",
        "\n",
        "# 전체 raw data에서 문장하나씩 loop 돌아가는 것\n",
        "for raw_tr_dat in tqdm(raw_train_data):\n",
        "  # 문장별 tokenization\n",
        "  src_tmp = CustomTokenizer(raw_tr_dat['en'])\n",
        "  tar_tmp = CustomTokenizer(raw_tr_dat['ko'])\n",
        "\n",
        "  # 입력 시퀀스에서 문장의 끝을 알리는 <EOS> 토큰 추가\n",
        "  # 출력 시퀀스에서 시작과 끝을 알리는 <SOS>, <EOS> 토큰 추가\n",
        "  EOS = ['<EOS>']\n",
        "  SOS = ['<SOS>']\n",
        "  src_tmp = src_tmp + EOS\n",
        "  tar_tmp = SOS + tar_tmp + EOS\n",
        "\n",
        "  for word in src_tmp: \n",
        "      src_vocab.add(word)\n",
        "\n",
        "  for word in tar_tmp:\n",
        "      tar_vocab.add(word)\n",
        "\n",
        "  # tokenization 끝난 문장 보관\n",
        "  src_seq_tr.append(src_tmp)\n",
        "  tar_seq_tr.append(tar_tmp)\n",
        "############################################################################"
      ]
    },
    {
      "cell_type": "code",
      "execution_count": 79,
      "metadata": {
        "colab": {
          "base_uri": "https://localhost:8080/"
        },
        "id": "zmJp52VMBEBo",
        "outputId": "5d9859ef-969b-480e-e1ec-eb2e67f52b8c"
      },
      "outputs": [
        {
          "output_type": "stream",
          "name": "stdout",
          "text": [
            "7116\n",
            "6238\n"
          ]
        }
      ],
      "source": [
        "print(len(src_vocab))\n",
        "print(len(tar_vocab))"
      ]
    },
    {
      "cell_type": "markdown",
      "metadata": {
        "id": "PtNW4DUIyEbN"
      },
      "source": [
        "고민해볼 점: 과연 한국어 단어집합에 한국어만 있을까요?\n",
        "\n",
        "지금 단계에서는 시간 상 체크하진 않지만 고민해볼 부분이기도 합니다."
      ]
    },
    {
      "cell_type": "markdown",
      "metadata": {
        "id": "cK_E98-daSy7"
      },
      "source": [
        "### token - index 정리"
      ]
    },
    {
      "cell_type": "code",
      "execution_count": 80,
      "metadata": {
        "id": "Iz3i3MtRZ-P-"
      },
      "outputs": [],
      "source": [
        "# 최종 정수 인코딩 하기 전 보기 편하기 위해 sort\n",
        "src_vocab = sorted(list(src_vocab))\n",
        "tar_vocab = sorted(list(tar_vocab))"
      ]
    },
    {
      "cell_type": "code",
      "source": [
        "src_to_index = dict([(word, i+1) for i, word in enumerate(src_vocab)])\n",
        "tar_to_index = dict([(word, i+1) for i, word in enumerate(tar_vocab)])"
      ],
      "metadata": {
        "id": "B7P8VhHyE4F6"
      },
      "execution_count": 81,
      "outputs": []
    },
    {
      "cell_type": "code",
      "source": [
        "print(src_to_index)\n",
        "print(tar_to_index)"
      ],
      "metadata": {
        "colab": {
          "base_uri": "https://localhost:8080/"
        },
        "id": "zMYtmZnHE_s7",
        "outputId": "49b65aac-0c8b-4858-aa2f-e91e8e2154ad"
      },
      "execution_count": 82,
      "outputs": [
        {
          "output_type": "stream",
          "name": "stdout",
          "text": [
            "{'!': 1, '\"': 2, '$1,000,000': 3, '$100': 4, '$30': 5, \"'\": 6, '(': 7, ').': 8, ',': 9, ',\"': 10, '-': 11, '.': 12, '.\"': 13, '.,': 14, '.;': 15, '.?': 16, '0.2': 17, '0.26%': 18, '0.5%': 19, '0.95': 20, '0000000': 21, '006': 22, '1': 23, '1%': 24, '1,000': 25, '1,000,000': 26, '1,200': 27, '1,250,000': 28, '1,500': 29, '1,700,000': 30, '1.50%': 31, '10': 32, '10%': 33, '10,000': 34, '10.9%': 35, '100': 36, '100%': 37, '100,000': 38, '1000': 39, '10:00': 40, '11': 41, '1100': 42, '11:00': 43, '12': 44, '12%': 45, '12.99': 46, '120': 47, '123': 48, '123-456': 49, '1234': 50, '1234-5678': 51, '123456': 52, '1234567': 53, '12345678': 54, '123456789': 55, '123456789012': 56, '123546789': 57, '125': 58, '128': 59, '13': 60, '135': 61, '14': 62, '140': 63, '140,000': 64, '142': 65, '144': 66, '15': 67, '15%': 68, '15,000': 69, '150': 70, '150,000': 71, '1500': 72, '16': 73, '17': 74, '18': 75, '18,000,000,000': 76, '19': 77, '1952': 78, '1:00': 79, '1:1': 80, '2': 81, '2%': 82, '2,000': 83, '2,000,000': 84, '2,500': 85, '2.5%': 86, '20': 87, '20%': 88, '20,000': 89, '20.70': 90, '200': 91, '2000': 92, '2002': 93, '2019': 94, '2021': 95, '2022': 96, '21': 97, '22': 98, '23': 99, '24': 100, '24/7': 101, '25': 102, '25%': 103, '250': 104, '250,000': 105, '2500': 106, '27': 107, '280': 108, '29': 109, '2929': 110, '2:00': 111, '3': 112, '3%': 113, '3,000': 114, '3,500': 115, '3.5%': 116, '30': 117, '300': 118, '3000': 119, '31': 120, '320': 121, '34.5': 122, '35': 123, '350': 124, '365': 125, '370': 126, '3:00': 127, '3:30': 128, '4': 129, '4%': 130, '4,000': 131, '4.99': 132, '40': 133, '40%': 134, '40,000': 135, '400': 136, '400,000': 137, '4000': 138, '404': 139, '420': 140, '45.5': 141, '450': 142, '450,000': 143, '475': 144, '48': 145, '4:00': 146, '4:45': 147, '5': 148, '5%': 149, '5,200': 150, '5.0': 151, '50': 152, '50%': 153, '50,000': 154, '50,000,000': 155, '500': 156, '500,000': 157, '51.5': 158, '52': 159, '55,000': 160, '550': 161, '58,000,000': 162, '5900': 163, '5:00': 164, '6': 165, '6%': 166, '6,000': 167, '6.4': 168, '60': 169, '60%': 170, '600,000': 171, '63': 172, '6:00': 173, '7': 174, '7%': 175, '7,000': 176, '7,200': 177, '70': 178, '700': 179, '72': 180, '75': 181, '75%': 182, '750': 183, '7500': 184, '7:00': 185, '7:50': 186, '8': 187, '8%': 188, '8,000': 189, '8,400': 190, '80': 191, '80%': 192, '80,000': 193, '800': 194, '8:00': 195, '9': 196, '9,500': 197, '9.99': 198, '90': 199, '90,000': 200, '900': 201, '900,000': 202, '93': 203, '99%': 204, '9:16': 205, ':': 206, ';': 207, '<EOS>': 208, '?': 209, 'A': 210, 'AAA': 211, 'AAA1@BBB1.com.': 212, 'AAA@BBB.com': 213, 'ABCDE': 214, 'AI': 215, 'ANRs': 216, 'ATM': 217, 'ATMs': 218, 'Absolutely': 219, 'Accidents': 220, 'According': 221, 'Actually': 222, 'Additionally': 223, 'Ads': 224, 'African': 225, 'After': 226, 'Afterwards': 227, 'Again': 228, 'Agency': 229, 'Ah': 230, 'Airport': 231, 'All': 232, 'Allow': 233, 'Almost': 234, 'Along': 235, 'Alright': 236, 'Also': 237, 'Alternatively': 238, 'Although': 239, 'Am': 240, 'America': 241, 'American': 242, 'Among': 243, 'Amsterdam': 244, 'An': 245, 'And': 246, 'Angel': 247, 'Another': 248, 'Any': 249, 'Anyone': 250, 'Anything': 251, 'Anyway': 252, 'Apart': 253, 'Apologies': 254, 'Apparently': 255, 'Appraisal': 256, 'April': 257, 'Are': 258, 'Argentina': 259, 'Around': 260, 'Articles': 261, 'Artificial': 262, 'As': 263, 'Asia': 264, 'Asian': 265, 'Aside': 266, 'Associates': 267, 'Assume': 268, 'At': 269, 'August': 270, 'Australia': 271, 'Australian': 272, 'Available': 273, 'Avatars': 274, 'Avoid': 275, 'Awesome': 276, 'B': 277, 'BBB': 278, 'BBB@email.com.': 279, 'BBQ': 280, 'BSE': 281, 'Back': 282, 'Bank': 283, 'Barbados': 284, 'Based': 285, 'Basically': 286, 'Be': 287, 'Bear': 288, 'Because': 289, 'Beef': 290, 'Before': 291, 'Being': 292, 'Besides': 293, 'Board': 294, 'Bohemian': 295, 'Bokkeumbap': 296, 'Bossam': 297, 'Both': 298, 'Brazil': 299, 'Breakfast': 300, 'Bringing': 301, 'Broadcast': 302, 'Broadcasting': 303, 'Browsing': 304, 'Brunei': 305, 'Buddha': 306, 'Buddhism': 307, 'Buddhist': 308, 'Building': 309, 'Bulgogi': 310, 'Bungeoppang': 311, 'Bunsen': 312, 'Busan': 313, 'Business': 314, 'But': 315, 'Buying': 316, 'By': 317, 'C': 318, 'CCTV': 319, 'CCTVs': 320, 'CEO': 321, 'CFM': 322, 'CMS': 323, 'COVID': 324, 'CSS': 325, 'CT': 326, 'California': 327, 'Call': 328, 'Camp': 329, 'Camping': 330, 'Can': 331, 'Canada': 332, 'Canal': 333, 'Capital': 334, 'Catering': 335, 'Center': 336, 'Certainly': 337, 'Change': 338, 'Chapter': 339, 'Chicago': 340, 'Chief': 341, 'Children': 342, 'China': 343, 'Chinese': 344, 'Choosing': 345, 'Chosun': 346, 'Christmas': 347, 'Chuseok': 348, 'City': 349, 'Class': 350, 'Click': 351, 'Clothing': 352, 'Cloud': 353, 'Come': 354, 'Company': 355, 'Compatible': 356, 'Completion': 357, 'Consider': 358, 'Considering': 359, 'Contact': 360, 'Content': 361, 'Continental': 362, 'Continue': 363, 'Control': 364, 'Convention': 365, 'Cool': 366, 'Copyright': 367, 'Corp': 368, 'Corporation': 369, 'Correct': 370, 'Could': 371, 'Court': 372, 'Crowdfunding': 373, 'Cryptocurrency': 374, 'Currently': 375, 'D': 376, 'DCA': 377, 'DVR': 378, 'Daegu': 379, 'Dak': 380, 'Dear': 381, 'December': 382, 'Definitely': 383, 'Denmark': 384, 'Department': 385, 'Depends': 386, 'Design': 387, 'Despite': 388, 'Details': 389, 'Devices': 390, 'Did': 391, 'Didn': 392, 'Different': 393, 'Disclosing': 394, 'District': 395, 'Do': 396, 'Documents': 397, 'Does': 398, 'Don': 399, 'Download': 400, 'Dr': 401, 'Drive': 402, 'Due': 403, 'Duly': 404, 'During': 405, 'E': 406, 'EOB': 407, 'EPP': 408, 'ESG': 409, 'EST': 410, 'ETF': 411, 'ETFs': 412, 'EVA': 413, 'Each': 414, 'Earth': 415, 'East': 416, 'Eastern': 417, 'Egyptian': 418, 'Eh': 419, 'Emerald': 420, 'Emerging': 421, 'Emily': 422, 'Encryption': 423, 'Engine': 424, 'Engines': 425, 'England': 426, 'English': 427, 'Equipment': 428, 'Especially': 429, 'Essentially': 430, 'Europe': 431, 'European': 432, 'Euros': 433, 'Even': 434, 'Events': 435, 'Every': 436, 'Everyone': 437, 'Everything': 438, 'Exactly': 439, 'Excellent': 440, 'Exchange': 441, 'Excuse': 442, 'Exit': 443, 'Expect': 444, 'Expo': 445, 'FDI': 446, 'FFF': 447, 'FOMO': 448, 'Factors': 449, 'Failure': 450, 'Fantastic': 451, 'February': 452, 'Federal': 453, 'Feel': 454, 'Festival': 455, 'Fi': 456, 'Fifth': 457, 'Filipino': 458, 'Finally': 459, 'Financial': 460, 'Find': 461, 'Fine': 462, 'Fingers': 463, 'First': 464, 'Firstly': 465, 'Five': 466, 'Flashes': 467, 'Flexibility': 468, 'Food': 469, 'For': 470, 'Foreigners': 471, 'Fortunately': 472, 'Fourth': 473, 'France': 474, 'Francisco': 475, 'French': 476, 'Friday': 477, 'From': 478, 'Fu': 479, 'Furthermore': 480, 'Futons': 481, 'Futures': 482, 'G': 483, 'GB': 484, 'GPS': 485, 'GVWR': 486, 'Gains': 487, 'Gangnam': 488, 'Gangneung': 489, 'Gas': 490, 'Generally': 491, 'Georgia': 492, 'Germany': 493, 'Get': 494, 'Ginseng': 495, 'Give': 496, 'Given': 497, 'Giving': 498, 'Go': 499, 'Good': 500, 'Got': 501, 'Graphic': 502, 'Great': 503, 'Greek': 504, 'Greetings': 505, 'Group': 506, 'Guam': 507, 'Gujeolpan': 508, 'Gyeonggi': 509, 'HDD': 510, 'HR': 511, 'HTML': 512, 'Hackers': 513, 'Halal': 514, 'Hanok': 515, 'Has': 516, 'Have': 517, 'Having': 518, 'Hawaii': 519, 'He': 520, 'Helllo': 521, 'Hello': 522, 'Hence': 523, 'Her': 524, 'Here': 525, 'Hey': 526, 'Hi': 527, 'Hmm': 528, 'Hokkaido': 529, 'Hold': 530, 'Hopefully': 531, 'Hotel': 532, 'How': 533, 'However': 534, 'I': 535, 'ID': 536, 'IDs': 537, 'IP': 538, 'IPO': 539, 'IPOs': 540, 'IT': 541, 'IVR': 542, 'IaaS': 543, 'If': 544, 'Ilsan': 545, 'In': 546, 'Incentives': 547, 'Incheon': 548, 'Incorporation': 549, 'Indeed': 550, 'Independent': 551, 'India': 552, 'Indian': 553, 'Indonesia': 554, 'Indonesian': 555, 'Inflation': 556, 'Influencer': 557, 'Innovations': 558, 'Installing': 559, 'Instant': 560, 'Insurance': 561, 'Interesting': 562, 'International': 563, 'Internet': 564, 'Intraday': 565, 'Invest': 566, 'Investments': 567, 'Investors': 568, 'IoT': 569, 'Is': 570, 'Isn': 571, 'It': 572, 'Italian': 573, 'Italy': 574, 'JLPT': 575, 'January': 576, 'Japan': 577, 'Japanese': 578, 'Jeju': 579, 'Jeonbyeong': 580, 'Jjimjilbang': 581, 'Jongno': 582, 'July': 583, 'Jun': 584, 'June': 585, 'Just': 586, 'K': 587, 'KOSDAQ': 588, 'KST': 589, 'Kabsat': 590, 'Keep': 591, 'Kimchi': 592, 'Kindly': 593, 'Kingdom': 594, 'Know': 595, 'Knowing': 596, 'Kolkata': 597, 'Korea': 598, 'Korean': 599, 'Koreans': 600, 'Kuala': 601, 'LED': 602, 'Language': 603, 'Last': 604, 'Lastly': 605, 'Later': 606, 'Latest': 607, 'Law': 608, 'Learning': 609, 'Let': 610, 'Life': 611, 'Like': 612, 'Likewise': 613, 'Limited': 614, 'Listen': 615, 'Little': 616, 'Liverpool': 617, 'Loans': 618, 'Locust': 619, 'Log': 620, 'London': 621, 'Looking': 622, 'Losers': 623, 'Loss': 624, 'Lovely': 625, 'Low': 626, 'Luckily': 627, 'Lumpur': 628, 'M': 629, 'MAR': 630, 'MMS': 631, 'MOU': 632, 'Ma': 633, 'Madrid': 634, 'Mainly': 635, 'Maintaining': 636, 'Make': 637, 'Making': 638, 'Malaysia': 639, 'Management': 640, 'Manali': 641, 'Mandarin': 642, 'Manila': 643, 'Many': 644, 'Mapo': 645, 'Mapping': 646, 'March': 647, 'Marketing': 648, 'May': 649, 'Maybe': 650, 'Me': 651, 'Meaning': 652, 'Meanwhile': 653, 'Mechanical': 654, 'Media': 655, 'Medical': 656, 'Members': 657, 'Metaverse': 658, 'Michelin': 659, 'Minting': 660, 'Mobile': 661, 'Monday': 662, 'Month': 663, 'More': 664, 'Moreover': 665, 'Most': 666, 'Moving': 667, 'Mr': 668, 'Mrs': 669, 'Ms': 670, 'Music': 671, 'My': 672, 'Myanmar': 673, 'NFT': 674, 'NFTs': 675, 'NI': 676, 'NSE': 677, 'NTFS': 678, 'Naturally': 679, 'Needles': 680, 'Network': 681, 'Never': 682, 'New': 683, 'News': 684, 'Next': 685, 'Nigeria': 686, 'No': 687, 'Nobody': 688, 'Non': 689, 'None': 690, 'Normally': 691, 'North': 692, 'Not': 693, 'Noted': 694, 'Nothing': 695, 'November': 696, 'Now': 697, 'Nowadays': 698, 'OK': 699, 'OKK': 700, 'OS': 701, 'October': 702, 'Of': 703, 'Off': 704, 'Offering': 705, 'Office': 706, 'Officer': 707, 'Oh': 708, 'Ohio': 709, 'Ok': 710, 'Okay': 711, 'Omji': 712, 'On': 713, 'Once': 714, 'One': 715, 'Only': 716, 'Ontario': 717, 'Optimization': 718, 'Or': 719, 'Originally': 720, 'Others': 721, 'Otherwise': 722, 'Our': 723, 'Out': 724, 'Over': 725, 'Overall': 726, 'PDA': 727, 'PDF': 728, 'PM': 729, 'PPE': 730, 'PR': 731, 'PRO': 732, 'PSAs': 733, 'PVP': 734, 'Pakistan': 735, 'Palm': 736, 'Paper': 737, 'Paris': 738, 'Paying': 739, 'Payment': 740, 'Pelmeni': 741, 'People': 742, 'Perfect': 743, 'Perhaps': 744, 'Philippines': 745, 'Place': 746, 'Please': 747, 'Plenty': 748, 'Plummer': 749, 'Plus': 750, 'Pohang': 751, 'Pot': 752, 'Precisely': 753, 'Precision': 754, 'Predicting': 755, 'President': 756, 'Prices': 757, 'Private': 758, 'Probably': 759, 'Product': 760, 'Publishing': 761, 'Python': 762, 'QR': 763, 'Quality': 764, 'RAM': 765, 'RV': 766, 'Radio': 767, 'Recently': 768, 'Red': 769, 'Regarding': 770, 'Regardless': 771, 'Regrettably': 772, 'Resolution': 773, 'Rest': 774, 'Retailers': 775, 'Right': 776, 'Room': 777, 'SD': 778, 'SEO': 779, 'SIM': 780, 'SKUs': 781, 'SPV': 782, 'SSD': 783, 'SSL': 784, 'Sadly': 785, 'Saeng': 786, 'Sakyamuni': 787, 'Salalah': 788, 'San': 789, 'Sashimi': 790, 'Saturday': 791, 'Sauna': 792, 'Say': 793, 'Schools': 794, 'Search': 795, 'Second': 796, 'Security': 797, 'See': 798, 'Send': 799, 'Seoul': 800, 'September': 801, 'Series': 802, 'Services': 803, 'Several': 804, 'Shall': 805, 'Shampoo': 806, 'Shanghai': 807, 'She': 808, 'Shop': 809, 'Should': 810, 'Signals': 811, 'Signature': 812, 'Similar': 813, 'Simply': 814, 'Since': 815, 'Singapore': 816, 'Singaporean': 817, 'Sir': 818, 'Skim': 819, 'So': 820, 'Social': 821, 'Soju': 822, 'Solar': 823, 'Some': 824, 'Someone': 825, 'Something': 826, 'Sometimes': 827, 'Soon': 828, 'Sorry': 829, 'Sounds': 830, 'South': 831, 'Southeast': 832, 'Spain': 833, 'Spanish': 834, 'Speaking': 835, 'Specifically': 836, 'Springs': 837, 'Square': 838, 'Starting': 839, 'States': 840, 'Station': 841, 'Stay': 842, 'Staying': 843, 'Still': 844, 'Stock': 845, 'Street': 846, 'Stroganoff': 847, 'Submit': 848, 'Submitting': 849, 'Such': 850, 'Sudan': 851, 'Suez': 852, 'Suite': 853, 'Sun': 854, 'Sunday': 855, 'Sure': 856, 'TPU': 857, 'TV': 858, 'Taegeuk': 859, 'Taeguekgi': 860, 'Taiwan': 861, 'Take': 862, 'Task': 863, 'Team': 864, 'Tech': 865, 'Technical': 866, 'Technology': 867, 'Tell': 868, 'Temple': 869, 'Ten': 870, 'Thai': 871, 'Thailand': 872, 'Thank': 873, 'Thanks': 874, 'That': 875, 'The': 876, 'Their': 877, 'Then': 878, 'There': 879, 'Therefore': 880, 'These': 881, 'They': 882, 'Things': 883, 'Third': 884, 'Thirdly': 885, 'This': 886, 'Those': 887, 'Three': 888, 'Through': 889, 'Thursday': 890, 'Thursdays': 891, 'Thus': 892, 'Times': 893, 'To': 894, 'Today': 895, 'Tokens': 896, 'Tokyo': 897, 'Tong': 898, 'Tongdosa': 899, 'Topics': 900, 'Touch': 901, 'Trade': 902, 'Trust': 903, 'Truth': 904, 'Try': 905, 'Tuesday': 906, 'Turkish': 907, 'UI': 908, 'UN': 909, 'US': 910, 'USA': 911, 'USB': 912, 'USBs': 913, 'Ukraine': 914, 'Ulsan': 915, 'Ultimately': 916, 'Under': 917, 'Unfortunately': 918, 'United': 919, 'Universal': 920, 'University': 921, 'Unless': 922, 'Unlike': 923, 'Until': 924, 'Upon': 925, 'Users': 926, 'Using': 927, 'Usually': 928, 'VC': 929, 'VIP': 930, 'VPN': 931, 'VR': 932, 'VVIP': 933, 'Vacationing': 934, 'Various': 935, 'Vegetables': 936, 'Venezuela': 937, 'Very': 938, 'Vietnam': 939, 'View': 940, 'Virtual': 941, 'Visual': 942, 'Visualization': 943, 'WIFI': 944, 'WTO': 945, 'Wait': 946, 'Was': 947, 'We': 948, 'Webcasting': 949, 'Wednesday': 950, 'Welcome': 951, 'Well': 952, 'Were': 953, 'Weren': 954, 'What': 955, 'Whatever': 956, 'WhatsApp': 957, 'When': 958, 'Where': 959, 'Which': 960, 'While': 961, 'Who': 962, 'Whom': 963, 'Why': 964, 'Wi': 965, 'Will': 966, 'Wishing': 967, 'With': 968, 'Without': 969, 'Won': 970, 'Wonderful': 971, 'Wonju': 972, 'Would': 973, 'Wouldn': 974, 'Wow': 975, 'X': 976, 'Yeah': 977, 'Yebool': 978, 'Yellowknife': 979, 'Yes': 980, 'Yet': 981, 'York': 982, 'Yorkshire': 983, 'You': 984, 'Your': 985, 'Yukhoe': 986, 'Yup': 987, 'Zealand': 988, 'a': 989, 'abbreviation': 990, 'ability': 991, 'able': 992, 'about': 993, 'above': 994, 'abroad': 995, 'absent': 996, 'absolutely': 997, 'absorption': 998, 'academe': 999, 'academic': 1000, 'accelerate': 1001, 'accept': 1002, 'acceptable': 1003, 'acceptance': 1004, 'accepted': 1005, 'accepting': 1006, 'access': 1007, 'accessed': 1008, 'accessibility': 1009, 'accessible': 1010, 'accessing': 1011, 'accessories': 1012, 'accidental': 1013, 'accidentally': 1014, 'accidents': 1015, 'accommodate': 1016, 'accommodating': 1017, 'accommodation': 1018, 'accommodations': 1019, 'accomodating': 1020, 'accomplish': 1021, 'accomplished': 1022, 'accordance': 1023, 'according': 1024, 'accordingly': 1025, 'account': 1026, 'accountancy': 1027, 'accountant': 1028, 'accounted': 1029, 'accounting': 1030, 'accounts': 1031, 'accrual': 1032, 'accumulated': 1033, 'accuracy': 1034, 'accurate': 1035, 'accurately': 1036, 'achieve': 1037, 'achieved': 1038, 'achievement': 1039, 'achievements': 1040, 'achieving': 1041, 'acknowledge': 1042, 'acne': 1043, 'acoustic': 1044, 'acoustics': 1045, 'acquaint': 1046, 'acquire': 1047, 'acquired': 1048, 'acquiring': 1049, 'acquisition': 1050, 'across': 1051, 'act': 1052, 'action': 1053, 'actions': 1054, 'activate': 1055, 'activated': 1056, 'active': 1057, 'activities': 1058, 'activity': 1059, 'actors': 1060, 'actual': 1061, 'actualize': 1062, 'actually': 1063, 'acute': 1064, 'ad': 1065, 'adaptations': 1066, 'adapter': 1067, 'adaptive': 1068, 'adaptor': 1069, 'adaptors': 1070, 'add': 1071, 'added': 1072, 'addendum': 1073, 'adding': 1074, 'addition': 1075, 'additional': 1076, 'address': 1077, 'addressed': 1078, 'addresses': 1079, 'addressing': 1080, 'adequately': 1081, 'adhere': 1082, 'adhesive': 1083, 'adjust': 1084, 'adjustable': 1085, 'adjusted': 1086, 'adjustment': 1087, 'adjustments': 1088, 'administration': 1089, 'administrative': 1090, 'administrators': 1091, 'admission': 1092, 'adopt': 1093, 'ads': 1094, 'adult': 1095, 'adults': 1096, 'advance': 1097, 'advanced': 1098, 'advancement': 1099, 'advancing': 1100, 'advantage': 1101, 'advantageous': 1102, 'advantages': 1103, 'adventure': 1104, 'advertise': 1105, 'advertisement': 1106, 'advertisements': 1107, 'advertising': 1108, 'adverts': 1109, 'advice': 1110, 'advisable': 1111, 'advise': 1112, 'advised': 1113, 'advisers': 1114, 'advises': 1115, 'advisor': 1116, 'advisory': 1117, 'aesthetic': 1118, 'affairs': 1119, 'affect': 1120, 'affected': 1121, 'affecting': 1122, 'affects': 1123, 'affiliate': 1124, 'affiliated': 1125, 'affluent': 1126, 'afford': 1127, 'affordability': 1128, 'affordable': 1129, 'afloat': 1130, 'aforementioned': 1131, 'afraid': 1132, 'after': 1133, 'afternoon': 1134, 'afterward': 1135, 'again': 1136, 'against': 1137, 'age': 1138, 'aged': 1139, 'agencies': 1140, 'agency': 1141, 'agenda': 1142, 'agent': 1143, 'ages': 1144, 'ago': 1145, 'agree': 1146, 'agreed': 1147, 'agreeing': 1148, 'agreement': 1149, 'agrees': 1150, 'agricultural': 1151, 'agriculture': 1152, 'ahead': 1153, 'aid': 1154, 'aids': 1155, 'aim': 1156, 'aims': 1157, 'air': 1158, 'aircraft': 1159, 'airing': 1160, 'airlines': 1161, 'airport': 1162, 'airports': 1163, 'airtime': 1164, 'alarm': 1165, 'albeit': 1166, 'album': 1167, 'albums': 1168, 'alcohol': 1169, 'alcoholic': 1170, 'alert': 1171, 'algorithm': 1172, 'algorithms': 1173, 'aligned': 1174, 'alkaline': 1175, 'all': 1176, 'allegations': 1177, 'allergic': 1178, 'allergies': 1179, 'alliance': 1180, 'allocate': 1181, 'allocation': 1182, 'allocations': 1183, 'allow': 1184, 'allowed': 1185, 'allowing': 1186, 'allows': 1187, 'almost': 1188, 'alone': 1189, 'along': 1190, 'already': 1191, 'alright': 1192, 'also': 1193, 'alternative': 1194, 'alternatives': 1195, 'although': 1196, 'aluminum': 1197, 'always': 1198, 'am': 1199, 'amazing': 1200, 'ambassador': 1201, 'ambiance': 1202, 'ambulation': 1203, 'ambulatory': 1204, 'amend': 1205, 'amends': 1206, 'amenities': 1207, 'amenity': 1208, 'among': 1209, 'amongst': 1210, 'amount': 1211, 'amounted': 1212, 'amounts': 1213, 'amplifier': 1214, 'amplify': 1215, 'an': 1216, 'analysis': 1217, 'analytics': 1218, 'analyze': 1219, 'analyzing': 1220, 'anchor': 1221, 'ancient': 1222, 'and': 1223, 'android': 1224, 'angel': 1225, 'angle': 1226, 'angry': 1227, 'animal': 1228, 'animated': 1229, 'animations': 1230, 'animators': 1231, 'ankle': 1232, 'anniversary': 1233, 'announce': 1234, 'announcement': 1235, 'announcements': 1236, 'announcers': 1237, 'annual': 1238, 'annually': 1239, 'annum': 1240, 'another': 1241, 'answer': 1242, 'answered': 1243, 'answering': 1244, 'antenna': 1245, 'antivirus': 1246, 'any': 1247, 'anybody': 1248, 'anymore': 1249, 'anyone': 1250, 'anything': 1251, 'anytime': 1252, 'anyway': 1253, 'anywhere': 1254, 'apart': 1255, 'apartment': 1256, 'apartments': 1257, 'apologies': 1258, 'apologize': 1259, 'apology': 1260, 'app': 1261, 'apparent': 1262, 'appeal': 1263, 'appealing': 1264, 'appeals': 1265, 'appear': 1266, 'appearance': 1267, 'appeared': 1268, 'appears': 1269, 'appended': 1270, 'appetizer': 1271, 'apple': 1272, 'appliances': 1273, 'applicable': 1274, 'application': 1275, 'applications': 1276, 'applied': 1277, 'applies': 1278, 'apply': 1279, 'applying': 1280, 'appointment': 1281, 'appraisal': 1282, 'appreciate': 1283, 'appreciated': 1284, 'appreciating': 1285, 'appreciation': 1286, 'approach': 1287, 'approached': 1288, 'appropriate': 1289, 'appropriately': 1290, 'approval': 1291, 'approve': 1292, 'approved': 1293, 'approximately': 1294, 'apps': 1295, 'aprtner': 1296, 'architectural': 1297, 'architecture': 1298, 'archives': 1299, 'are': 1300, 'area': 1301, 'areas': 1302, 'aren': 1303, 'arena': 1304, 'arises': 1305, 'aromatherapy': 1306, 'around': 1307, 'arrange': 1308, 'arranged': 1309, 'arrangement': 1310, 'arrangements': 1311, 'arranger': 1312, 'arrangers': 1313, 'arranging': 1314, 'array': 1315, 'arrival': 1316, 'arrive': 1317, 'arrived': 1318, 'arriving': 1319, 'art': 1320, 'article': 1321, 'articles': 1322, 'artificial': 1323, 'artillery': 1324, 'artist': 1325, 'artists': 1326, 'arts': 1327, 'artwork': 1328, 'artworks': 1329, 'as': 1330, 'asap': 1331, 'ashamed': 1332, 'aside': 1333, 'ask': 1334, 'asked': 1335, 'asking': 1336, 'asks': 1337, 'asleep': 1338, 'asparagus': 1339, 'aspect': 1340, 'aspects': 1341, 'asphalt': 1342, 'assembly': 1343, 'assessing': 1344, 'assessment': 1345, 'asset': 1346, 'assets': 1347, 'assign': 1348, 'assigned': 1349, 'assist': 1350, 'assistance': 1351, 'assistant': 1352, 'assisting': 1353, 'assistive': 1354, 'associate': 1355, 'associated': 1356, 'associates': 1357, 'association': 1358, 'assumed': 1359, 'assuming': 1360, 'assurance': 1361, 'assure': 1362, 'assured': 1363, 'assures': 1364, 'assuring': 1365, 'at': 1366, 'ate': 1367, 'atmosphere': 1368, 'attach': 1369, 'attached': 1370, 'attack': 1371, 'attacks': 1372, 'attain': 1373, 'attains': 1374, 'attempted': 1375, 'attend': 1376, 'attendance': 1377, 'attended': 1378, 'attending': 1379, 'attention': 1380, 'attest': 1381, 'attorney': 1382, 'attract': 1383, 'attracted': 1384, 'attributes': 1385, 'attrition': 1386, 'audience': 1387, 'audiences': 1388, 'audio': 1389, 'audiovisual': 1390, 'audit': 1391, 'audited': 1392, 'auditing': 1393, 'authentic': 1394, 'author': 1395, 'authored': 1396, 'authorities': 1397, 'authority': 1398, 'authorization': 1399, 'authorized': 1400, 'authors': 1401, 'auto': 1402, 'autobiographies': 1403, 'autoclave': 1404, 'automate': 1405, 'automated': 1406, 'automatic': 1407, 'automatically': 1408, 'automation': 1409, 'automobile': 1410, 'automotive': 1411, 'autumn': 1412, 'auxiliary': 1413, 'avail': 1414, 'availability': 1415, 'available': 1416, 'availed': 1417, 'availing': 1418, 'avenue': 1419, 'average': 1420, 'avoid': 1421, 'await': 1422, 'awake': 1423, 'awarded': 1424, 'aware': 1425, 'awareness': 1426, 'away': 1427, 'awesome': 1428, 'ay': 1429, 'babies': 1430, 'baby': 1431, 'back': 1432, 'backdrops': 1433, 'backers': 1434, 'background': 1435, 'backgrounds': 1436, 'backhoe': 1437, 'backing': 1438, 'backlinks': 1439, 'backlog': 1440, 'backup': 1441, 'backward': 1442, 'backyard': 1443, 'bacteria': 1444, 'bad': 1445, 'baffling': 1446, 'baker': 1447, 'bakery': 1448, 'baking': 1449, 'balance': 1450, 'ball': 1451, 'ballpark': 1452, 'bamboo': 1453, 'ban': 1454, 'banana': 1455, 'banchan': 1456, 'band': 1457, 'bands': 1458, 'bandwidth': 1459, 'bank': 1460, 'banker': 1461, 'banking': 1462, 'bankruptcy': 1463, 'banks': 1464, 'banner': 1465, 'banners': 1466, 'banquet': 1467, 'bar': 1468, 'barbecue': 1469, 'barbeque': 1470, 'bare': 1471, 'barely': 1472, 'bargain': 1473, 'barrier': 1474, 'bars': 1475, 'base': 1476, 'based': 1477, 'basement': 1478, 'basic': 1479, 'basically': 1480, 'basics': 1481, 'basis': 1482, 'bass': 1483, 'batch': 1484, 'bath': 1485, 'bathhouses': 1486, 'bathroom': 1487, 'bathrooms': 1488, 'baths': 1489, 'bathtub': 1490, 'batteries': 1491, 'battery': 1492, 'battling': 1493, 'bay': 1494, 'be': 1495, 'beach': 1496, 'beaches': 1497, 'beachside': 1498, 'beakers': 1499, 'beam': 1500, 'bean': 1501, 'bear': 1502, 'bearer': 1503, 'bearing': 1504, 'beats': 1505, 'beautiful': 1506, 'beauty': 1507, 'became': 1508, 'because': 1509, 'become': 1510, 'becomes': 1511, 'becoming': 1512, 'bed': 1513, 'bedroom': 1514, 'bedrooms': 1515, 'beds': 1516, 'beef': 1517, 'been': 1518, 'beeps': 1519, 'beer': 1520, 'before': 1521, 'beforehand': 1522, 'beg': 1523, 'began': 1524, 'begging': 1525, 'begin': 1526, 'beginning': 1527, 'behalf': 1528, 'behavior': 1529, 'behind': 1530, 'being': 1531, 'believe': 1532, 'believes': 1533, 'belly': 1534, 'belongs': 1535, 'below': 1536, 'belts': 1537, 'benchtop': 1538, 'bending': 1539, 'beneficial': 1540, 'beneficiaries': 1541, 'benefit': 1542, 'benefits': 1543, 'bento': 1544, 'berthing': 1545, 'beside': 1546, 'besides': 1547, 'best': 1548, 'bet': 1549, 'beta': 1550, 'better': 1551, 'between': 1552, 'bevel': 1553, 'beverage': 1554, 'beverages': 1555, 'beyond': 1556, 'biannual': 1557, 'bibimbap': 1558, 'bibimnaengmyun': 1559, 'bid': 1560, 'bidding': 1561, 'big': 1562, 'bigger': 1563, 'biggest': 1564, 'bikes': 1565, 'bill': 1566, 'billboards': 1567, 'billed': 1568, 'billing': 1569, 'billion': 1570, 'bills': 1571, 'bins': 1572, 'biodata': 1573, 'biodegradable': 1574, 'biometrics': 1575, 'bird': 1576, 'birds': 1577, 'birthday': 1578, 'biryani': 1579, 'biscuits': 1580, 'bistro': 1581, 'bit': 1582, 'bitcoin': 1583, 'bite': 1584, 'black': 1585, 'blackout': 1586, 'blades': 1587, 'blanks': 1588, 'blending': 1589, 'blends': 1590, 'blessed': 1591, 'blind': 1592, 'blinking': 1593, 'bliss': 1594, 'block': 1595, 'blockchain': 1596, 'blog': 1597, 'blood': 1598, 'blow': 1599, 'blown': 1600, 'blue': 1601, 'blueprint': 1602, 'blurry': 1603, 'board': 1604, 'boarding': 1605, 'boards': 1606, 'boats': 1607, 'bodies': 1608, 'body': 1609, 'bodysuit': 1610, 'bohemian': 1611, 'boiled': 1612, 'boiling': 1613, 'bokkeum': 1614, 'bold': 1615, 'bolder': 1616, 'bond': 1617, 'bonding': 1618, 'bonds': 1619, 'book': 1620, 'booked': 1621, 'booking': 1622, 'bookings': 1623, 'bookrunners': 1624, 'books': 1625, 'bookstores': 1626, 'boom': 1627, 'boost': 1628, 'booting': 1629, 'boots': 1630, 'border': 1631, 'bore': 1632, 'bored': 1633, 'boring': 1634, 'born': 1635, 'borrow': 1636, 'borrower': 1637, 'borrowing': 1638, 'boss': 1639, 'bot': 1640, 'both': 1641, 'bothering': 1642, 'bottle': 1643, 'bottles': 1644, 'bottom': 1645, 'bought': 1646, 'bow': 1647, 'bowl': 1648, 'bowls': 1649, 'box': 1650, 'boxes': 1651, 'boy': 1652, 'bragging': 1653, 'braille': 1654, 'brainstorm': 1655, 'brake': 1656, 'branch': 1657, 'branches': 1658, 'brand': 1659, 'branded': 1660, 'branding': 1661, 'brands': 1662, 'brave': 1663, 'breach': 1664, 'breached': 1665, 'breaches': 1666, 'bread': 1667, 'break': 1668, 'breakdown': 1669, 'breakdowns': 1670, 'breakeven': 1671, 'breakfast': 1672, 'breast': 1673, 'breathing': 1674, 'breathtaking': 1675, 'breeding': 1676, 'breeze': 1677, 'brewed': 1678, 'bride': 1679, 'bridge': 1680, 'brief': 1681, 'briefing': 1682, 'brilliant': 1683, 'bring': 1684, 'bringer': 1685, 'bringing': 1686, 'brings': 1687, 'broadband': 1688, 'broadcast': 1689, 'broadcasted': 1690, 'broadcasting': 1691, 'brochure': 1692, 'brochures': 1693, 'broken': 1694, 'broker': 1695, 'brokerage': 1696, 'brokerages': 1697, 'brokers': 1698, 'bronze': 1699, 'broth': 1700, 'brother': 1701, 'brought': 1702, 'browse': 1703, 'browser': 1704, 'browsers': 1705, 'browsing': 1706, 'bubble': 1707, 'bucks': 1708, 'budget': 1709, 'buffet': 1710, 'bug': 1711, 'bugs': 1712, 'build': 1713, 'building': 1714, 'builds': 1715, 'built': 1716, 'bulgogi': 1717, 'bulk': 1718, 'bull': 1719, 'bulldozer': 1720, 'bunch': 1721, 'bundle': 1722, 'burners': 1723, 'bus': 1724, 'buses': 1725, 'business': 1726, 'businesses': 1727, 'businessman': 1728, 'businesswoman': 1729, 'busy': 1730, 'but': 1731, 'butterfly': 1732, 'button': 1733, 'buttons': 1734, 'buy': 1735, 'buyer': 1736, 'buyers': 1737, 'buying': 1738, 'by': 1739, 'bye': 1740, 'bytes': 1741, 'cabin': 1742, 'cabinets': 1743, 'cable': 1744, 'caching': 1745, 'caf': 1746, 'cafe': 1747, 'cafeteria': 1748, 'cake': 1749, 'calculate': 1750, 'calculated': 1751, 'calculations': 1752, 'calendar': 1753, 'call': 1754, 'called': 1755, 'calligraphy': 1756, 'calling': 1757, 'calls': 1758, 'calm': 1759, 'calming': 1760, 'cam': 1761, 'came': 1762, 'camera': 1763, 'cameras': 1764, 'camp': 1765, 'campaign': 1766, 'campaigns': 1767, 'camper': 1768, 'campfire': 1769, 'campground': 1770, 'camping': 1771, 'campsite': 1772, 'campsites': 1773, 'campus': 1774, 'can': 1775, 'cancel': 1776, 'cancelation': 1777, 'cancelations': 1778, 'canceled': 1779, 'canceling': 1780, 'cancellation': 1781, 'cancellations': 1782, 'cancelled': 1783, 'candies': 1784, 'candles': 1785, 'cannot': 1786, 'canteen': 1787, 'cap': 1788, 'capable': 1789, 'capacity': 1790, 'capital': 1791, 'capitalists': 1792, 'capture': 1793, 'capturing': 1794, 'car': 1795, 'carbon': 1796, 'carburetor': 1797, 'carburetors': 1798, 'card': 1799, 'cardiac': 1800, 'cards': 1801, 'care': 1802, 'career': 1803, 'careers': 1804, 'careful': 1805, 'carefully': 1806, 'cargo': 1807, 'carpeted': 1808, 'carried': 1809, 'carrier': 1810, 'carrot': 1811, 'carry': 1812, 'carrying': 1813, 'cars': 1814, 'cart': 1815, 'carton': 1816, 'cartoon': 1817, 'carts': 1818, 'case': 1819, 'cases': 1820, 'cash': 1821, 'cashier': 1822, 'cashless': 1823, 'casino': 1824, 'cast': 1825, 'casual': 1826, 'casualties': 1827, 'cat': 1828, 'catalog': 1829, 'catalogue': 1830, 'catastrophe': 1831, 'catch': 1832, 'categories': 1833, 'category': 1834, 'cater': 1835, 'caterers': 1836, 'catering': 1837, 'caterpillar': 1838, 'caught': 1839, 'cause': 1840, 'caused': 1841, 'causes': 1842, 'causing': 1843, 'cautious': 1844, 'cautiously': 1845, 'ceiling': 1846, 'ceilings': 1847, 'celebrate': 1848, 'celebration': 1849, 'celebrities': 1850, 'celebrity': 1851, 'celeriac': 1852, 'cell': 1853, 'center': 1854, 'centers': 1855, 'centimeter': 1856, 'centrifugal': 1857, 'centrifuge': 1858, 'centrifuges': 1859, 'cents': 1860, 'century': 1861, 'ceremonies': 1862, 'ceremony': 1863, 'certain': 1864, 'certainly': 1865, 'certificate': 1866, 'certificates': 1867, 'certification': 1868, 'certified': 1869, 'chain': 1870, 'chair': 1871, 'chairman': 1872, 'chairs': 1873, 'challenge': 1874, 'challenged': 1875, 'challenges': 1876, 'challenging': 1877, 'chamber': 1878, 'champagne': 1879, 'chance': 1880, 'chances': 1881, 'change': 1882, 'changed': 1883, 'changes': 1884, 'changing': 1885, 'channel': 1886, 'channels': 1887, 'chapbooks': 1888, 'characteristics': 1889, 'characters': 1890, 'charcoal': 1891, 'charge': 1892, 'charged': 1893, 'charger': 1894, 'charges': 1895, 'charging': 1896, 'charitable': 1897, 'charity': 1898, 'charm': 1899, 'chart': 1900, 'chasing': 1901, 'chat': 1902, 'chatroom': 1903, 'cheap': 1904, 'cheaper': 1905, 'cheapest': 1906, 'check': 1907, 'checked': 1908, 'checking': 1909, 'checklist': 1910, 'checkout': 1911, 'checks': 1912, 'checkup': 1913, 'cheerful': 1914, 'cheers': 1915, 'cheesecakes': 1916, 'chef': 1917, 'chefs': 1918, 'chemistry': 1919, 'cheque': 1920, 'chew': 1921, 'chicken': 1922, 'child': 1923, 'childhood': 1924, 'children': 1925, 'chili': 1926, 'chill': 1927, 'chilled': 1928, 'chimaek': 1929, 'chip': 1930, 'chips': 1931, 'chipsets': 1932, 'chitchat': 1933, 'chocolate': 1934, 'choice': 1935, 'choices': 1936, 'choose': 1937, 'choosing': 1938, 'chopstick': 1939, 'chopsticks': 1940, 'chores': 1941, 'chose': 1942, 'chosen': 1943, 'ciphertext': 1944, 'circuits': 1945, 'circulation': 1946, 'circumstance': 1947, 'circumstances': 1948, 'cities': 1949, 'citizen': 1950, 'citizens': 1951, 'citizenship': 1952, 'city': 1953, 'civil': 1954, 'claim': 1955, 'claiming': 1956, 'claims': 1957, 'clarify': 1958, 'clarifying': 1959, 'clarity': 1960, 'class': 1961, 'classes': 1962, 'classification': 1963, 'classmates': 1964, 'classroom': 1965, 'classrooms': 1966, 'clauses': 1967, 'clean': 1968, 'cleaner': 1969, 'cleaners': 1970, 'cleaning': 1971, 'cleansing': 1972, 'clear': 1973, 'clearance': 1974, 'cleared': 1975, 'clearer': 1976, 'clearly': 1977, 'clerk': 1978, 'clever': 1979, 'click': 1980, 'client': 1981, 'clientele': 1982, 'clients': 1983, 'climate': 1984, 'clinic': 1985, 'clinical': 1986, 'clip': 1987, 'clips': 1988, 'clock': 1989, 'clogged': 1990, 'close': 1991, 'closed': 1992, 'closely': 1993, 'closer': 1994, 'closes': 1995, 'closest': 1996, 'closet': 1997, 'closing': 1998, 'clothes': 1999, 'clothing': 2000, 'cloud': 2001, 'clouds': 2002, 'clubhouse': 2003, 'cluster': 2004, 'co': 2005, 'coach': 2006, 'coaches': 2007, 'coaching': 2008, 'coarrangers': 2009, 'coastal': 2010, 'cocks': 2011, 'cocktails': 2012, 'coconut': 2013, 'code': 2014, 'codebreaker': 2015, 'codes': 2016, 'coding': 2017, 'coffee': 2018, 'cogent': 2019, 'coins': 2020, 'cold': 2021, 'coliving': 2022, 'collaborate': 2023, 'collaborating': 2024, 'collaboration': 2025, 'collar': 2026, 'collateral': 2027, 'colleague': 2028, 'colleagues': 2029, 'collect': 2030, 'collectibles': 2031, 'collecting': 2032, 'collection': 2033, 'collective': 2034, 'collects': 2035, 'college': 2036, 'colleges': 2037, 'color': 2038, 'colored': 2039, 'colors': 2040, 'column': 2041, 'combination': 2042, 'combinations': 2043, 'combine': 2044, 'combustion': 2045, 'come': 2046, 'comes': 2047, 'comfort': 2048, 'comfortable': 2049, 'comfortably': 2050, 'coming': 2051, 'comm': 2052, 'commemorative': 2053, 'comment': 2054, 'comments': 2055, 'commerce': 2056, 'commercial': 2057, 'commission': 2058, 'commissioned': 2059, 'commissions': 2060, 'commit': 2061, 'commitment': 2062, 'commitments': 2063, 'committed': 2064, 'commodity': 2065, 'common': 2066, 'commonly': 2067, 'communal': 2068, 'communicate': 2069, 'communicated': 2070, 'communicating': 2071, 'communication': 2072, 'communications': 2073, 'communicative': 2074, 'communicator': 2075, 'communities': 2076, 'community': 2077, 'commuting': 2078, 'companies': 2079, 'company': 2080, 'compare': 2081, 'compared': 2082, 'comparison': 2083, 'compartments': 2084, 'compassionate': 2085, 'compatible': 2086, 'compelling': 2087, 'compensate': 2088, 'compensated': 2089, 'compensation': 2090, 'compete': 2091, 'competition': 2092, 'competitive': 2093, 'competitiveness': 2094, 'competitors': 2095, 'compiling': 2096, 'complain': 2097, 'complained': 2098, 'complaining': 2099, 'complaint': 2100, 'complaints': 2101, 'complete': 2102, 'completed': 2103, 'completely': 2104, 'completion': 2105, 'complex': 2106, 'compliance': 2107, 'complicated': 2108, 'complied': 2109, 'compliment': 2110, 'complimentary': 2111, 'compliments': 2112, 'comply': 2113, 'component': 2114, 'components': 2115, 'composed': 2116, 'composer': 2117, 'compound': 2118, 'comprehension': 2119, 'comprehensive': 2120, 'compressed': 2121, 'compression': 2122, 'compressor': 2123, 'compressors': 2124, 'compromise': 2125, 'compromising': 2126, 'computer': 2127, 'computers': 2128, 'computing': 2129, 'concentrate': 2130, 'concept': 2131, 'concepts': 2132, 'conceptual': 2133, 'concern': 2134, 'concerned': 2135, 'concerning': 2136, 'concerns': 2137, 'concert': 2138, 'concerts': 2139, 'concessions': 2140, 'conclusion': 2141, 'concrete': 2142, 'concretely': 2143, 'condenser': 2144, 'condiments': 2145, 'condition': 2146, 'conditioned': 2147, 'conditioner': 2148, 'conditioning': 2149, 'conditions': 2150, 'condo': 2151, 'conduct': 2152, 'conducted': 2153, 'conducting': 2154, 'conductors': 2155, 'conference': 2156, 'conferences': 2157, 'conferencing': 2158, 'confidence': 2159, 'confident': 2160, 'confidential': 2161, 'confidentiality': 2162, 'configurations': 2163, 'configure': 2164, 'confirm': 2165, 'confirmation': 2166, 'confirmed': 2167, 'confirming': 2168, 'confused': 2169, 'congested': 2170, 'congestion': 2171, 'congrats': 2172, 'congratulate': 2173, 'congratulations': 2174, 'connect': 2175, 'connected': 2176, 'connecting': 2177, 'connection': 2178, 'connections': 2179, 'connectivity': 2180, 'connects': 2181, 'cons': 2182, 'conscientious': 2183, 'conscious': 2184, 'consciousness': 2185, 'consequences': 2186, 'consider': 2187, 'considerable': 2188, 'consideration': 2189, 'considered': 2190, 'considering': 2191, 'consignment': 2192, 'consist': 2193, 'consistent': 2194, 'consists': 2195, 'consoles': 2196, 'consolidate': 2197, 'constant': 2198, 'constantly': 2199, 'construct': 2200, 'constructed': 2201, 'construction': 2202, 'constructive': 2203, 'consult': 2204, 'consultancy': 2205, 'consultant': 2206, 'consultants': 2207, 'consultation': 2208, 'consulted': 2209, 'consulting': 2210, 'consume': 2211, 'consumers': 2212, 'consuming': 2213, 'consumption': 2214, 'contact': 2215, 'contacted': 2216, 'contacting': 2217, 'contacts': 2218, 'contain': 2219, 'container': 2220, 'containers': 2221, 'containing': 2222, 'contains': 2223, 'contemplate': 2224, 'contemporary': 2225, 'contenders': 2226, 'content': 2227, 'contents': 2228, 'context': 2229, 'continent': 2230, 'continental': 2231, 'continue': 2232, 'continuous': 2233, 'continuously': 2234, 'contract': 2235, 'contracted': 2236, 'contracts': 2237, 'contrary': 2238, 'contribute': 2239, 'contributed': 2240, 'contributes': 2241, 'contribution': 2242, 'contributors': 2243, 'control': 2244, 'controlled': 2245, 'controversial': 2246, 'convenience': 2247, 'convenient': 2248, 'conventional': 2249, 'conversation': 2250, 'conversational': 2251, 'conversations': 2252, 'conversion': 2253, 'conversions': 2254, 'converted': 2255, 'converting': 2256, 'convey': 2257, 'conveyor': 2258, 'conveyors': 2259, 'convince': 2260, 'convincing': 2261, 'cook': 2262, 'cooked': 2263, 'cookies': 2264, 'cooking': 2265, 'cooks': 2266, 'cool': 2267, 'cooldown': 2268, 'coolers': 2269, 'cooling': 2270, 'cooperation': 2271, 'cooperative': 2272, 'cooperatives': 2273, 'coordinate': 2274, 'coordinates': 2275, 'copay': 2276, 'copiers': 2277, 'copies': 2278, 'copy': 2279, 'copyediting': 2280, 'copyright': 2281, 'copyrighted': 2282, 'copyrights': 2283, 'cords': 2284, 'core': 2285, 'corkage': 2286, 'corn': 2287, 'corner': 2288, 'coronavirus': 2289, 'corporate': 2290, 'corporation': 2291, 'corporations': 2292, 'correct': 2293, 'correctly': 2294, 'cosigner': 2295, 'cosmetic': 2296, 'cosmetics': 2297, 'cosmic': 2298, 'cost': 2299, 'costs': 2300, 'cotton': 2301, 'could': 2302, 'couldn': 2303, 'council': 2304, 'counseling': 2305, 'count': 2306, 'countdown': 2307, 'counterpart': 2308, 'counting': 2309, 'countries': 2310, 'country': 2311, 'countryside': 2312, 'couple': 2313, 'coupled': 2314, 'coupon': 2315, 'courier': 2316, 'course': 2317, 'coursed': 2318, 'courses': 2319, 'court': 2320, 'cousin': 2321, 'cover': 2322, 'coverage': 2323, 'covered': 2324, 'covers': 2325, 'cozy': 2326, 'crab': 2327, 'cracks': 2328, 'crane': 2329, 'cranes': 2330, 'crash': 2331, 'crashed': 2332, 'crashing': 2333, 'cream': 2334, 'create': 2335, 'created': 2336, 'creates': 2337, 'creating': 2338, 'creation': 2339, 'creative': 2340, 'creatives': 2341, 'creator': 2342, 'creators': 2343, 'credentials': 2344, 'credit': 2345, 'credited': 2346, 'creditor': 2347, 'creditors': 2348, 'credits': 2349, 'creditworthy': 2350, 'crib': 2351, 'crime': 2352, 'crimes': 2353, 'criminals': 2354, 'criteria': 2355, 'critical': 2356, 'critics': 2357, 'croissants': 2358, 'crooks': 2359, 'crop': 2360, 'crops': 2361, 'cross': 2362, 'crossed': 2363, 'crowd': 2364, 'crowdfunding': 2365, 'crucial': 2366, 'crude': 2367, 'crux': 2368, 'crypto': 2369, 'cryptocurrencies': 2370, 'cryptocurrency': 2371, 'cryptography': 2372, 'cues': 2373, 'cuisine': 2374, 'culinary': 2375, 'culprits': 2376, 'cultivating': 2377, 'cultural': 2378, 'culture': 2379, 'cumbersome': 2380, 'cup': 2381, 'curious': 2382, 'currencies': 2383, 'currency': 2384, 'current': 2385, 'currently': 2386, 'cursive': 2387, 'curtains': 2388, 'curve': 2389, 'cushion': 2390, 'custom': 2391, 'customer': 2392, 'customers': 2393, 'customizable': 2394, 'customization': 2395, 'customize': 2396, 'customized': 2397, 'customs': 2398, 'cut': 2399, 'cutlery': 2400, 'cuts': 2401, 'cutter': 2402, 'cutters': 2403, 'cutting': 2404, 'cyber': 2405, 'cybercrime': 2406, 'cybersecurity': 2407, 'cycle': 2408, 'cylinder': 2409, 'cylinders': 2410, 'd': 2411, 'daily': 2412, 'dairy': 2413, 'damage': 2414, 'damaged': 2415, 'damages': 2416, 'dancing': 2417, 'dangerous': 2418, 'dangers': 2419, 'dark': 2420, 'data': 2421, 'database': 2422, 'date': 2423, 'dated': 2424, 'dates': 2425, 'dating': 2426, 'daunting': 2427, 'day': 2428, 'days': 2429, 'deadline': 2430, 'deadlines': 2431, 'deaf': 2432, 'deal': 2433, 'dealer': 2434, 'dealers': 2435, 'dealership': 2436, 'dealing': 2437, 'deals': 2438, 'debit': 2439, 'debt': 2440, 'debtee': 2441, 'debtor': 2442, 'debtors': 2443, 'debts': 2444, 'debut': 2445, 'decade': 2446, 'decades': 2447, 'decent': 2448, 'decide': 2449, 'decided': 2450, 'decides': 2451, 'deciding': 2452, 'decision': 2453, 'decisions': 2454, 'deck': 2455, 'decks': 2456, 'declare': 2457, 'decline': 2458, 'declined': 2459, 'declining': 2460, 'decode': 2461, 'decorate': 2462, 'decorations': 2463, 'decrease': 2464, 'decryption': 2465, 'dedicate': 2466, 'dedicated': 2467, 'deduct': 2468, 'deducted': 2469, 'deducting': 2470, 'deeds': 2471, 'deep': 2472, 'deeply': 2473, 'default': 2474, 'defaulter': 2475, 'defect': 2476, 'defective': 2477, 'defects': 2478, 'defense': 2479, 'deficit': 2480, 'deficits': 2481, 'defined': 2482, 'definite': 2483, 'definitely': 2484, 'definition': 2485, 'degree': 2486, 'dehydration': 2487, 'delay': 2488, 'delayed': 2489, 'delays': 2490, 'delegates': 2491, 'delete': 2492, 'deleted': 2493, 'delicious': 2494, 'delight': 2495, 'delighted': 2496, 'delightful': 2497, 'delineates': 2498, 'deliver': 2499, 'delivered': 2500, 'deliveries': 2501, 'delivering': 2502, 'delivers': 2503, 'delivery': 2504, 'deluxe': 2505, 'demand': 2506, 'demanded': 2507, 'demanding': 2508, 'demands': 2509, 'demat': 2510, 'demerits': 2511, 'demographics': 2512, 'demonstration': 2513, 'demos': 2514, 'dental': 2515, 'deny': 2516, 'department': 2517, 'departments': 2518, 'depend': 2519, 'dependable': 2520, 'dependents': 2521, 'depending': 2522, 'depends': 2523, 'deploy': 2524, 'deployment': 2525, 'deposit': 2526, 'deposited': 2527, 'depositing': 2528, 'deposits': 2529, 'derrick': 2530, 'describe': 2531, 'description': 2532, 'descriptions': 2533, 'deserve': 2534, 'design': 2535, 'designation': 2536, 'designed': 2537, 'designer': 2538, 'designers': 2539, 'designs': 2540, 'desire': 2541, 'desired': 2542, 'desk': 2543, 'desktop': 2544, 'desperately': 2545, 'despite': 2546, 'dessert': 2547, 'desserts': 2548, 'destination': 2549, 'destinations': 2550, 'destroys': 2551, 'detail': 2552, 'detailed': 2553, 'detailing': 2554, 'details': 2555, 'detected': 2556, 'detects': 2557, 'determine': 2558, 'determined': 2559, 'determines': 2560, 'determining': 2561, 'develop': 2562, 'developed': 2563, 'developer': 2564, 'developers': 2565, 'developing': 2566, 'development': 2567, 'developments': 2568, 'develops': 2569, 'deviate': 2570, 'device': 2571, 'devices': 2572, 'devoted': 2573, 'devoting': 2574, 'diagnosis': 2575, 'diagnostics': 2576, 'dial': 2577, 'dialed': 2578, 'diameter': 2579, 'did': 2580, 'didn': 2581, 'diesel': 2582, 'diet': 2583, 'dietary': 2584, 'differ': 2585, 'difference': 2586, 'differences': 2587, 'different': 2588, 'differentiates': 2589, 'differently': 2590, 'difficult': 2591, 'difficulties': 2592, 'difficulty': 2593, 'digital': 2594, 'digitalize': 2595, 'digits': 2596, 'diligence': 2597, 'diligently': 2598, 'dimension': 2599, 'dimensions': 2600, 'dine': 2601, 'dining': 2602, 'dinner': 2603, 'dinning': 2604, 'dip': 2605, 'diplomas': 2606, 'dipped': 2607, 'direct': 2608, 'directed': 2609, 'direction': 2610, 'directly': 2611, 'director': 2612, 'directors': 2613, 'disabilities': 2614, 'disabled': 2615, 'disagree': 2616, 'disappointed': 2617, 'disappointment': 2618, 'disaster': 2619, 'disasters': 2620, 'disc': 2621, 'discount': 2622, 'discounted': 2623, 'discounts': 2624, 'discover': 2625, 'discovered': 2626, 'discovery': 2627, 'discrepancies': 2628, 'discuss': 2629, 'discussed': 2630, 'discussing': 2631, 'discussion': 2632, 'discussions': 2633, 'disease': 2634, 'diseases': 2635, 'dish': 2636, 'dishe': 2637, 'dishes': 2638, 'dismantle': 2639, 'dispatch': 2640, 'dispatched': 2641, 'dispatching': 2642, 'dispersing': 2643, 'display': 2644, 'displayed': 2645, 'displaying': 2646, 'disposal': 2647, 'disputes': 2648, 'disruption': 2649, 'distance': 2650, 'distinct': 2651, 'distinction': 2652, 'distinguish': 2653, 'distract': 2654, 'distress': 2655, 'distribute': 2656, 'distributed': 2657, 'distributing': 2658, 'distribution': 2659, 'distributor': 2660, 'distributorship': 2661, 'district': 2662, 'disturb': 2663, 'disturbed': 2664, 'disturbing': 2665, 'diverse': 2666, 'diversify': 2667, 'diversity': 2668, 'diverting': 2669, 'divide': 2670, 'divided': 2671, 'dividend': 2672, 'division': 2673, 'do': 2674, 'doable': 2675, 'doctor': 2676, 'doctors': 2677, 'document': 2678, 'documentaries': 2679, 'documentary': 2680, 'documentation': 2681, 'documenting': 2682, 'documents': 2683, 'does': 2684, 'doesn': 2685, 'dog': 2686, 'dogs': 2687, 'doing': 2688, 'doings': 2689, 'doljanchi': 2690, 'dollar': 2691, 'dollars': 2692, 'domain': 2693, 'dome': 2694, 'domestic': 2695, 'don': 2696, 'donate': 2697, 'donation': 2698, 'donations': 2699, 'done': 2700, 'donut': 2701, 'door': 2702, 'doors': 2703, 'dorm': 2704, 'dormitory': 2705, 'dosirak': 2706, 'double': 2707, 'doubled': 2708, 'doubt': 2709, 'doubts': 2710, 'down': 2711, 'downhill': 2712, 'download': 2713, 'downloaded': 2714, 'downpayment': 2715, 'downs': 2716, 'downside': 2717, 'downtown': 2718, 'downturn': 2719, 'dozers': 2720, 'draft': 2721, 'drafted': 2722, 'drafting': 2723, 'drafts': 2724, 'drain': 2725, 'dramas': 2726, 'dramatically': 2727, 'draw': 2728, 'drawer': 2729, 'drawing': 2730, 'drawings': 2731, 'draws': 2732, 'dress': 2733, 'dressers': 2734, 'dressing': 2735, 'drilling': 2736, 'drink': 2737, 'drinking': 2738, 'drinks': 2739, 'drive': 2740, 'driven': 2741, 'driver': 2742, 'drivers': 2743, 'driving': 2744, 'drop': 2745, 'dropped': 2746, 'dropping': 2747, 'drops': 2748, 'drug': 2749, 'drum': 2750, 'dry': 2751, 'dryer': 2752, 'dual': 2753, 'dude': 2754, 'due': 2755, 'duly': 2756, 'dump': 2757, 'dumpling': 2758, 'duplicate': 2759, 'durable': 2760, 'duration': 2761, 'during': 2762, 'dust': 2763, 'duties': 2764, 'duty': 2765, 'dyeing': 2766, 'dying': 2767, 'e': 2768, 'each': 2769, 'eager': 2770, 'eagerly': 2771, 'earlier': 2772, 'earliest': 2773, 'early': 2774, 'earn': 2775, 'earnings': 2776, 'ears': 2777, 'earth': 2778, 'ease': 2779, 'eased': 2780, 'easier': 2781, 'easiest': 2782, 'easily': 2783, 'easing': 2784, 'easy': 2785, 'eat': 2786, 'eaten': 2787, 'eating': 2788, 'echo': 2789, 'eclectic': 2790, 'eco': 2791, 'economy': 2792, 'ecstatic': 2793, 'edge': 2794, 'edit': 2795, 'edited': 2796, 'editing': 2797, 'edition': 2798, 'editorial': 2799, 'editors': 2800, 'educate': 2801, 'educated': 2802, 'educating': 2803, 'education': 2804, 'educational': 2805, 'edutainment': 2806, 'effect': 2807, 'effective': 2808, 'effectively': 2809, 'effectiveness': 2810, 'effects': 2811, 'efficiency': 2812, 'efficient': 2813, 'efficiently': 2814, 'effort': 2815, 'efforts': 2816, 'egg': 2817, 'eggs': 2818, 'eight': 2819, 'either': 2820, 'ejection': 2821, 'elaborate': 2822, 'elder': 2823, 'elders': 2824, 'eldest': 2825, 'electric': 2826, 'electrical': 2827, 'electricity': 2828, 'electro': 2829, 'electroencephalography': 2830, 'electromagnetic': 2831, 'electronic': 2832, 'electronically': 2833, 'electronics': 2834, 'elegant': 2835, 'element': 2836, 'elements': 2837, 'elevated': 2838, 'eligibility': 2839, 'eligible': 2840, 'eliminate': 2841, 'elliptical': 2842, 'else': 2843, 'elsewhere': 2844, 'email': 2845, 'emailed': 2846, 'emailing': 2847, 'emails': 2848, 'embarrassed': 2849, 'embody': 2850, 'embossing': 2851, 'embroidery': 2852, 'emergencies': 2853, 'emergency': 2854, 'emerging': 2855, 'emotions': 2856, 'emphasis': 2857, 'employ': 2858, 'employed': 2859, 'employee': 2860, 'employees': 2861, 'employers': 2862, 'employing': 2863, 'empty': 2864, 'emulsion': 2865, 'enable': 2866, 'enabled': 2867, 'enables': 2868, 'encapsulation': 2869, 'encoded': 2870, 'encounter': 2871, 'encountered': 2872, 'encourage': 2873, 'encourages': 2874, 'encrypt': 2875, 'encrypted': 2876, 'encryption': 2877, 'end': 2878, 'endangering': 2879, 'ended': 2880, 'ending': 2881, 'ends': 2882, 'energy': 2883, 'enforce': 2884, 'enforced': 2885, 'enforcements': 2886, 'engage': 2887, 'engaged': 2888, 'engagements': 2889, 'engaging': 2890, 'engine': 2891, 'engineer': 2892, 'engineering': 2893, 'engineers': 2894, 'engines': 2895, 'enhance': 2896, 'enhanced': 2897, 'enhancement': 2898, 'enhances': 2899, 'enjoy': 2900, 'enjoyed': 2901, 'enjoying': 2902, 'enlighten': 2903, 'enlist': 2904, 'enormously': 2905, 'enough': 2906, 'enquire': 2907, 'enroll': 2908, 'enrolled': 2909, 'ensure': 2910, 'ensured': 2911, 'ensures': 2912, 'entail': 2913, 'enter': 2914, 'entered': 2915, 'entering': 2916, 'enterprise': 2917, 'enterprises': 2918, 'enters': 2919, 'entertain': 2920, 'entertained': 2921, 'entertaining': 2922, 'entertainment': 2923, 'entire': 2924, 'entirely': 2925, 'entitled': 2926, 'entity': 2927, 'entrance': 2928, 'entree': 2929, 'entrees': 2930, 'entrepreneur': 2931, 'entrepreneurship': 2932, 'entries': 2933, 'environment': 2934, 'environmental': 2935, 'environments': 2936, 'episode': 2937, 'episodes': 2938, 'equal': 2939, 'equals': 2940, 'equipment': 2941, 'equipments': 2942, 'equipped': 2943, 'equity': 2944, 'equivalent': 2945, 'erased': 2946, 'erecting': 2947, 'error': 2948, 'errors': 2949, 'escalated': 2950, 'escaping': 2951, 'especially': 2952, 'essential': 2953, 'essentially': 2954, 'establish': 2955, 'established': 2956, 'establishing': 2957, 'establishment': 2958, 'establishments': 2959, 'estate': 2960, 'estimate': 2961, 'estimated': 2962, 'estimates': 2963, 'etc': 2964, 'ethical': 2965, 'etiquette': 2966, 'evacuation': 2967, 'evading': 2968, 'evaluate': 2969, 'evaluated': 2970, 'evaluating': 2971, 'evaluation': 2972, 'evaporator': 2973, 'evasion': 2974, 'even': 2975, 'evening': 2976, 'event': 2977, 'events': 2978, 'eventuality': 2979, 'eventually': 2980, 'ever': 2981, 'every': 2982, 'everyday': 2983, 'everyone': 2984, 'everything': 2985, 'evidence': 2986, 'evidentiary': 2987, 'evil': 2988, 'evolution': 2989, 'evolved': 2990, 'evolving': 2991, 'exact': 2992, 'exactly': 2993, 'exam': 2994, 'examined': 2995, 'example': 2996, 'examples': 2997, 'exams': 2998, 'excavator': 2999, 'excavators': 3000, 'exceeded': 3001, 'exceeds': 3002, 'excellent': 3003, 'except': 3004, 'exceptional': 3005, 'excess': 3006, 'exchange': 3007, 'exchanges': 3008, 'exchanging': 3009, 'excited': 3010, 'exciting': 3011, 'exclude': 3012, 'excluding': 3013, 'exclusive': 3014, 'exclusively': 3015, 'excuse': 3016, 'excused': 3017, 'excuses': 3018, 'execute': 3019, 'executes': 3020, 'execution': 3021, 'executive': 3022, 'executives': 3023, 'executor': 3024, 'exerting': 3025, 'exhausted': 3026, 'exhibit': 3027, 'exhibition': 3028, 'exihibit': 3029, 'exist': 3030, 'existing': 3031, 'exit': 3032, 'exotic': 3033, 'expand': 3034, 'expandable': 3035, 'expanded': 3036, 'expanding': 3037, 'expansion': 3038, 'expat': 3039, 'expect': 3040, 'expectations': 3041, 'expected': 3042, 'expecting': 3043, 'expedition': 3044, 'expenditure': 3045, 'expenditures': 3046, 'expense': 3047, 'expenses': 3048, 'expensive': 3049, 'experience': 3050, 'experienced': 3051, 'experiences': 3052, 'experiencing': 3053, 'experimental': 3054, 'expert': 3055, 'expertise': 3056, 'experts': 3057, 'expire': 3058, 'expires': 3059, 'explain': 3060, 'explained': 3061, 'explaining': 3062, 'explains': 3063, 'explanation': 3064, 'explanations': 3065, 'exploration': 3066, 'explore': 3067, 'expo': 3068, 'export': 3069, 'exported': 3070, 'exporter': 3071, 'exporting': 3072, 'exports': 3073, 'exposes': 3074, 'exposure': 3075, 'express': 3076, 'expressions': 3077, 'exquisite': 3078, 'extend': 3079, 'extended': 3080, 'extender': 3081, 'extenders': 3082, 'extending': 3083, 'extends': 3084, 'extension': 3085, 'extensive': 3086, 'exterior': 3087, 'external': 3088, 'externally': 3089, 'extra': 3090, 'extract': 3091, 'extraction': 3092, 'extracts': 3093, 'extremely': 3094, 'extruder': 3095, 'extruders': 3096, 'eye': 3097, 'eyes': 3098, 'fabric': 3099, 'fabrication': 3100, 'face': 3101, 'faced': 3102, 'faces': 3103, 'facial': 3104, 'facilitate': 3105, 'facilities': 3106, 'facility': 3107, 'facing': 3108, 'fact': 3109, 'factor': 3110, 'factors': 3111, 'factory': 3112, 'factual': 3113, 'factually': 3114, 'faculty': 3115, 'fail': 3116, 'failed': 3117, 'fails': 3118, 'failure': 3119, 'fair': 3120, 'fairly': 3121, 'fall': 3122, 'fallen': 3123, 'falling': 3124, 'fallout': 3125, 'falls': 3126, 'familiar': 3127, 'families': 3128, 'family': 3129, 'famous': 3130, 'fan': 3131, 'fanbase': 3132, 'fancy': 3133, 'fans': 3134, 'fantastic': 3135, 'far': 3136, 'fare': 3137, 'farm': 3138, 'farmers': 3139, 'farthest': 3140, 'fascinating': 3141, 'fashion': 3142, 'fast': 3143, 'fasteners': 3144, 'faster': 3145, 'fastest': 3146, 'fat': 3147, 'father': 3148, 'fault': 3149, 'faulty': 3150, 'favor': 3151, 'favorable': 3152, 'favorite': 3153, 'favorites': 3154, 'favoritism': 3155, 'fax': 3156, 'fear': 3157, 'feasibility': 3158, 'feasible': 3159, 'feature': 3160, 'featured': 3161, 'features': 3162, 'featuring': 3163, 'fee': 3164, 'feeble': 3165, 'feedback': 3166, 'feel': 3167, 'feeling': 3168, 'feelings': 3169, 'feels': 3170, 'fees': 3171, 'feet': 3172, 'fellow': 3173, 'female': 3174, 'fertilizing': 3175, 'fetch': 3176, 'few': 3177, 'fiat': 3178, 'fiber': 3179, 'fibers': 3180, 'fibrous': 3181, 'fiction': 3182, 'field': 3183, 'fields': 3184, 'figurative': 3185, 'figures': 3186, 'file': 3187, 'filed': 3188, 'files': 3189, 'filing': 3190, 'fill': 3191, 'filled': 3192, 'filling': 3193, 'fills': 3194, 'film': 3195, 'films': 3196, 'filter': 3197, 'filtered': 3198, 'filters': 3199, 'filtration': 3200, 'final': 3201, 'finalize': 3202, 'finalized': 3203, 'finalizing': 3204, 'finally': 3205, 'finance': 3206, 'financed': 3207, 'financer': 3208, 'finances': 3209, 'financial': 3210, 'financially': 3211, 'financiers': 3212, 'financing': 3213, 'find': 3214, 'finding': 3215, 'finds': 3216, 'fine': 3217, 'finer': 3218, 'finest': 3219, 'fingerprint': 3220, 'finish': 3221, 'finished': 3222, 'fire': 3223, 'fired': 3224, 'fireplace': 3225, 'firewall': 3226, 'firewalls': 3227, 'firm': 3228, 'firms': 3229, 'first': 3230, 'fish': 3231, 'fit': 3232, 'fitness': 3233, 'fits': 3234, 'five': 3235, 'fiver': 3236, 'fix': 3237, 'fixed': 3238, 'flag': 3239, 'flame': 3240, 'flanged': 3241, 'flare': 3242, 'flash': 3243, 'flat': 3244, 'flatmates': 3245, 'flatten': 3246, 'flavor': 3247, 'flavored': 3248, 'flavorful': 3249, 'flavors': 3250, 'flew': 3251, 'flexibility': 3252, 'flexible': 3253, 'flight': 3254, 'flights': 3255, 'flip': 3256, 'float': 3257, 'floating': 3258, 'floor': 3259, 'floors': 3260, 'flour': 3261, 'flowchart': 3262, 'flows': 3263, 'fluctuate': 3264, 'fluctuations': 3265, 'fly': 3266, 'flying': 3267, 'flywheel': 3268, 'fo': 3269, 'foam': 3270, 'focus': 3271, 'focused': 3272, 'focuses': 3273, 'focusing': 3274, 'fold': 3275, 'folder': 3276, 'folders': 3277, 'follow': 3278, 'followed': 3279, 'followers': 3280, 'following': 3281, 'follows': 3282, 'font': 3283, 'fonts': 3284, 'food': 3285, 'foods': 3286, 'fooled': 3287, 'foot': 3288, 'footage': 3289, 'footprint': 3290, 'footsteps': 3291, 'for': 3292, 'forbidden': 3293, 'forced': 3294, 'forecast': 3295, 'forecasted': 3296, 'foreign': 3297, 'foreigner': 3298, 'foreigners': 3299, 'forever': 3300, 'forget': 3301, 'forgot': 3302, 'forklift': 3303, 'forklifts': 3304, 'form': 3305, 'formal': 3306, 'formalities': 3307, 'format': 3308, 'former': 3309, 'forms': 3310, 'formula': 3311, 'forths': 3312, 'fortunate': 3313, 'forward': 3314, 'forwarded': 3315, 'forwarder': 3316, 'found': 3317, 'foundation': 3318, 'founders': 3319, 'four': 3320, 'frame': 3321, 'frames': 3322, 'framework': 3323, 'franchise': 3324, 'fraud': 3325, 'fraudulent': 3326, 'free': 3327, 'freebie': 3328, 'freelancer': 3329, 'freight': 3330, 'frequency': 3331, 'frequent': 3332, 'frequently': 3333, 'fresh': 3334, 'freshwater': 3335, 'fried': 3336, 'friend': 3337, 'friendly': 3338, 'friends': 3339, 'from': 3340, 'front': 3341, 'frugal': 3342, 'fruit': 3343, 'fruitful': 3344, 'fruity': 3345, 'frustrating': 3346, 'fuel': 3347, 'fulfill': 3348, 'fulfilled': 3349, 'fulfilling': 3350, 'full': 3351, 'fully': 3352, 'fun': 3353, 'function': 3354, 'functional': 3355, 'functioning': 3356, 'functions': 3357, 'fund': 3358, 'fundamental': 3359, 'fundamentals': 3360, 'funded': 3361, 'funding': 3362, 'fundraisers': 3363, 'fundraising': 3364, 'funds': 3365, 'fungible': 3366, 'funny': 3367, 'furnish': 3368, 'furnished': 3369, 'furnishings': 3370, 'furniture': 3371, 'further': 3372, 'fusion': 3373, 'fuss': 3374, 'future': 3375, 'futures': 3376, 'futuristic': 3377, 'g': 3378, 'gadgets': 3379, 'gain': 3380, 'gained': 3381, 'gaining': 3382, 'gains': 3383, 'galbi': 3384, 'game': 3385, 'games': 3386, 'gaming': 3387, 'gap': 3388, 'gaps': 3389, 'garage': 3390, 'garden': 3391, 'gardening': 3392, 'gardens': 3393, 'garlic': 3394, 'garments': 3395, 'garnering': 3396, 'gas': 3397, 'gasoline': 3398, 'gate': 3399, 'gates': 3400, 'gather': 3401, 'gathered': 3402, 'gathering': 3403, 'gathers': 3404, 'gauge': 3405, 'gave': 3406, 'gazebo': 3407, 'gear': 3408, 'geared': 3409, 'gears': 3410, 'general': 3411, 'generally': 3412, 'generate': 3413, 'generated': 3414, 'generating': 3415, 'generation': 3416, 'generations': 3417, 'generic': 3418, 'generous': 3419, 'genre': 3420, 'genres': 3421, 'gentle': 3422, 'gentlemen': 3423, 'genuinely': 3424, 'geographic': 3425, 'geography': 3426, 'gesture': 3427, 'get': 3428, 'gets': 3429, 'getting': 3430, 'gift': 3431, 'gifts': 3432, 'gigabyte': 3433, 'gigabytes': 3434, 'gimbap': 3435, 'ginger': 3436, 'ginseng': 3437, 'girl': 3438, 'girls': 3439, 'give': 3440, 'giveaways': 3441, 'given': 3442, 'gives': 3443, 'giving': 3444, 'glad': 3445, 'gladly': 3446, 'glance': 3447, 'glass': 3448, 'glasses': 3449, 'glitch': 3450, 'global': 3451, 'globally': 3452, 'globe': 3453, 'glossy': 3454, 'gloves': 3455, 'gluten': 3456, 'go': 3457, 'goal': 3458, 'goals': 3459, 'goes': 3460, 'going': 3461, 'gold': 3462, 'golf': 3463, 'gone': 3464, 'gonna': 3465, 'good': 3466, 'goodbye': 3467, 'goods': 3468, 'goodwill': 3469, 'gorgeous': 3470, 'got': 3471, 'gotten': 3472, 'governance': 3473, 'government': 3474, 'grab': 3475, 'grace': 3476, 'grade': 3477, 'gradual': 3478, 'gradually': 3479, 'graduates': 3480, 'grain': 3481, 'grains': 3482, 'grammable': 3483, 'grand': 3484, 'grandkids': 3485, 'grandmother': 3486, 'grant': 3487, 'granted': 3488, 'granting': 3489, 'graph': 3490, 'graphic': 3491, 'graphics': 3492, 'grass': 3493, 'grateful': 3494, 'gravity': 3495, 'gravlax': 3496, 'great': 3497, 'greater': 3498, 'greatly': 3499, 'green': 3500, 'greens': 3501, 'greet': 3502, 'greeting': 3503, 'greetings': 3504, 'grew': 3505, 'grid': 3506, 'grill': 3507, 'grilled': 3508, 'grills': 3509, 'grinder': 3510, 'gripping': 3511, 'groom': 3512, 'ground': 3513, 'groundbreaking': 3514, 'grounds': 3515, 'group': 3516, 'groups': 3517, 'grow': 3518, 'growing': 3519, 'growth': 3520, 'guarantee': 3521, 'guaranteed': 3522, 'guarantor': 3523, 'guess': 3524, 'guest': 3525, 'guesthouses': 3526, 'guests': 3527, 'guidance': 3528, 'guide': 3529, 'guided': 3530, 'guides': 3531, 'guilty': 3532, 'guitar': 3533, 'gun': 3534, 'gunfire': 3535, 'gut': 3536, 'guy': 3537, 'guys': 3538, 'gym': 3539, 'gyms': 3540, 'hack': 3541, 'hacked': 3542, 'hacking': 3543, 'had': 3544, 'hairdryer': 3545, 'half': 3546, 'hall': 3547, 'halls': 3548, 'halting': 3549, 'hand': 3550, 'handed': 3551, 'handheld': 3552, 'handiwork': 3553, 'handle': 3554, 'handled': 3555, 'handles': 3556, 'handling': 3557, 'handouts': 3558, 'handpicked': 3559, 'hands': 3560, 'handshake': 3561, 'hanging': 3562, 'hanji': 3563, 'hanok': 3564, 'happen': 3565, 'happened': 3566, 'happening': 3567, 'happens': 3568, 'happily': 3569, 'happy': 3570, 'hard': 3571, 'harder': 3572, 'hardware': 3573, 'hardworking': 3574, 'harmful': 3575, 'harmony': 3576, 'harshest': 3577, 'harvesting': 3578, 'has': 3579, 'hasn': 3580, 'hassle': 3581, 'hat': 3582, 'hate': 3583, 'have': 3584, 'haven': 3585, 'having': 3586, 'he': 3587, 'head': 3588, 'headhunters': 3589, 'heading': 3590, 'headquarters': 3591, 'heads': 3592, 'health': 3593, 'healthy': 3594, 'hear': 3595, 'heard': 3596, 'hearing': 3597, 'hearsay': 3598, 'heart': 3599, 'heartily': 3600, 'heat': 3601, 'heated': 3602, 'heater': 3603, 'heating': 3604, 'heavier': 3605, 'heavily': 3606, 'heavy': 3607, 'hedge': 3608, 'height': 3609, 'held': 3610, 'hello': 3611, 'help': 3612, 'helped': 3613, 'helpful': 3614, 'helping': 3615, 'helps': 3616, 'hence': 3617, 'her': 3618, 'herbal': 3619, 'here': 3620, 'hereditary': 3621, 'heritage': 3622, 'hesitate': 3623, 'hidden': 3624, 'high': 3625, 'higher': 3626, 'highest': 3627, 'highlighted': 3628, 'highlights': 3629, 'highly': 3630, 'hijacking': 3631, 'hiking': 3632, 'hill': 3633, 'him': 3634, 'hint': 3635, 'hire': 3636, 'hired': 3637, 'hiring': 3638, 'his': 3639, 'historical': 3640, 'historically': 3641, 'hit': 3642, 'hitch': 3643, 'hits': 3644, 'hoarding': 3645, 'hobby': 3646, 'hoc': 3647, 'hold': 3648, 'holder': 3649, 'holding': 3650, 'holds': 3651, 'holidays': 3652, 'home': 3653, 'homemade': 3654, 'homes': 3655, 'homestays': 3656, 'honed': 3657, 'honest': 3658, 'honestly': 3659, 'honey': 3660, 'honored': 3661, 'hope': 3662, 'hoped': 3663, 'hopefully': 3664, 'hoping': 3665, 'horizontal': 3666, 'horrible': 3667, 'horsepower': 3668, 'horsepowers': 3669, 'hospital': 3670, 'hospitalization': 3671, 'hospitals': 3672, 'host': 3673, 'hosting': 3674, 'hosts': 3675, 'hot': 3676, 'hotel': 3677, 'hotels': 3678, 'hotspot': 3679, 'hour': 3680, 'hourly': 3681, 'hours': 3682, 'house': 3683, 'household': 3684, 'households': 3685, 'houses': 3686, 'housing': 3687, 'housings': 3688, 'how': 3689, 'however': 3690, 'hub': 3691, 'huddle': 3692, 'hues': 3693, 'huge': 3694, 'hull': 3695, 'human': 3696, 'humble': 3697, 'humor': 3698, 'hundred': 3699, 'hungry': 3700, 'hunt': 3701, 'hurry': 3702, 'hurt': 3703, 'husband': 3704, 'hustle': 3705, 'hwajeon': 3706, 'hydraulic': 3707, 'hydraulics': 3708, 'hydrojet': 3709, 'hype': 3710, 'ibul': 3711, 'ice': 3712, 'icons': 3713, 'idea': 3714, 'ideal': 3715, 'ideas': 3716, 'identical': 3717, 'identification': 3718, 'identified': 3719, 'identify': 3720, 'identities': 3721, 'identity': 3722, 'idols': 3723, 'if': 3724, 'ignition': 3725, 'ignorance': 3726, 'ignore': 3727, 'ignored': 3728, 'illness': 3729, 'illnesses': 3730, 'illustration': 3731, 'illustrations': 3732, 'image': 3733, 'images': 3734, 'imaginative': 3735, 'imagine': 3736, 'imaging': 3737, 'immediate': 3738, 'immediately': 3739, 'immensely': 3740, 'immigrant': 3741, 'immunity': 3742, 'immutable': 3743, 'impact': 3744, 'impart': 3745, 'impeller': 3746, 'impending': 3747, 'implantation': 3748, 'implement': 3749, 'implementation': 3750, 'implementing': 3751, 'implements': 3752, 'implied': 3753, 'implies': 3754, 'import': 3755, 'importance': 3756, 'important': 3757, 'importantly': 3758, 'imported': 3759, 'imports': 3760, 'imposed': 3761, 'imposes': 3762, 'impossible': 3763, 'impress': 3764, 'impressed': 3765, 'impression': 3766, 'impressions': 3767, 'impressive': 3768, 'improve': 3769, 'improved': 3770, 'improvement': 3771, 'improvements': 3772, 'improving': 3773, 'in': 3774, 'inbox': 3775, 'incentives': 3776, 'inch': 3777, 'incident': 3778, 'include': 3779, 'included': 3780, 'includes': 3781, 'including': 3782, 'inclusion': 3783, 'inclusions': 3784, 'inclusive': 3785, 'income': 3786, 'incompatible': 3787, 'incomplete': 3788, 'inconvenience': 3789, 'inconvenient': 3790, 'incorporate': 3791, 'incorporating': 3792, 'incorporation': 3793, 'incorrect': 3794, 'increase': 3795, 'increased': 3796, 'increasing': 3797, 'incredible': 3798, 'incredibly': 3799, 'incubator': 3800, 'incubators': 3801, 'incur': 3802, 'incurred': 3803, 'incurring': 3804, 'indeed': 3805, 'independently': 3806, 'index': 3807, 'indexation': 3808, 'indicate': 3809, 'indicated': 3810, 'indicating': 3811, 'indicator': 3812, 'indicators': 3813, 'indices': 3814, 'individual': 3815, 'individually': 3816, 'individuals': 3817, 'indoor': 3818, 'indoors': 3819, 'indulge': 3820, 'industrial': 3821, 'industries': 3822, 'industry': 3823, 'inevitable': 3824, 'infections': 3825, 'infectious': 3826, 'inferior': 3827, 'inflation': 3828, 'influence': 3829, 'influenced': 3830, 'influencer': 3831, 'influencers': 3832, 'info': 3833, 'infographic': 3834, 'infographics': 3835, 'inform': 3836, 'informal': 3837, 'information': 3838, 'informed': 3839, 'informing': 3840, 'infrastructure': 3841, 'infringed': 3842, 'infringement': 3843, 'ingredients': 3844, 'inheritance': 3845, 'initial': 3846, 'initially': 3847, 'initiate': 3848, 'initiative': 3849, 'injection': 3850, 'injunction': 3851, 'injury': 3852, 'inner': 3853, 'innovation': 3854, 'innovations': 3855, 'innovative': 3856, 'input': 3857, 'inputs': 3858, 'inquire': 3859, 'inquired': 3860, 'inquiries': 3861, 'inquiring': 3862, 'inquiry': 3863, 'ins': 3864, 'inside': 3865, 'insight': 3866, 'insist': 3867, 'inspect': 3868, 'inspected': 3869, 'inspecting': 3870, 'inspection': 3871, 'inspections': 3872, 'inspire': 3873, 'inspired': 3874, 'install': 3875, 'installation': 3876, 'installed': 3877, 'installing': 3878, 'installment': 3879, 'installments': 3880, 'instance': 3881, 'instant': 3882, 'instead': 3883, 'institute': 3884, 'institution': 3885, 'instruction': 3886, 'instructions': 3887, 'instrument': 3888, 'instruments': 3889, 'insulation': 3890, 'insult': 3891, 'insurance': 3892, 'insurances': 3893, 'insure': 3894, 'insured': 3895, 'insuring': 3896, 'insurmountable': 3897, 'integrated': 3898, 'integration': 3899, 'integrations': 3900, 'intellectual': 3901, 'intelligence': 3902, 'intelligent': 3903, 'intend': 3904, 'intended': 3905, 'intends': 3906, 'intense': 3907, 'intensity': 3908, 'intent': 3909, 'intention': 3910, 'interact': 3911, 'interactions': 3912, 'interactive': 3913, 'intercept': 3914, 'interest': 3915, 'interested': 3916, 'interesting': 3917, 'interface': 3918, 'interior': 3919, 'interiors': 3920, 'intermediaries': 3921, 'intermediary': 3922, 'intern': 3923, 'internal': 3924, 'internally': 3925, 'international': 3926, 'internationally': 3927, 'internet': 3928, 'interns': 3929, 'interpretation': 3930, 'interpreter': 3931, 'interpreting': 3932, 'interrupt': 3933, 'interrupted': 3934, 'interview': 3935, 'interviews': 3936, 'into': 3937, 'intrigue': 3938, 'intriguing': 3939, 'introduce': 3940, 'introduced': 3941, 'introducing': 3942, 'introduction': 3943, 'intrusion': 3944, 'invaluable': 3945, 'inventory': 3946, 'invest': 3947, 'invested': 3948, 'investigate': 3949, 'investigating': 3950, 'investigation': 3951, 'investing': 3952, 'investment': 3953, 'investments': 3954, 'investor': 3955, 'investors': 3956, 'invitation': 3957, 'invite': 3958, 'invited': 3959, 'invites': 3960, 'inviting': 3961, 'invoice': 3962, 'invoices': 3963, 'involve': 3964, 'involved': 3965, 'involves': 3966, 'involving': 3967, 'iron': 3968, 'irregular': 3969, 'is': 3970, 'isn': 3971, 'issuance': 3972, 'issue': 3973, 'issued': 3974, 'issues': 3975, 'issuing': 3976, 'it': 3977, 'item': 3978, 'items': 3979, 'its': 3980, 'itself': 3981, 'jacuzzi': 3982, 'japchae': 3983, 'jeeps': 3984, 'jeon': 3985, 'jet': 3986, 'jingle': 3987, 'job': 3988, 'jobs': 3989, 'join': 3990, 'joining': 3991, 'joint': 3992, 'jokbal': 3993, 'joke': 3994, 'journalists': 3995, 'journey': 3996, 'juice': 3997, 'junction': 3998, 'just': 3999, 'kanji': 4000, 'karaoke': 4001, 'keen': 4002, 'keep': 4003, 'keeping': 4004, 'keeps': 4005, 'kept': 4006, 'key': 4007, 'keyboard': 4008, 'keyboards': 4009, 'keys': 4010, 'keywords': 4011, 'kicks': 4012, 'kids': 4013, 'kilograms': 4014, 'kilometers': 4015, 'kilowatts': 4016, 'kimchi': 4017, 'kind': 4018, 'kindly': 4019, 'kindness': 4020, 'kinds': 4021, 'king': 4022, 'kiosk': 4023, 'kit': 4024, 'kitchen': 4025, 'kitchens': 4026, 'kits': 4027, 'knew': 4028, 'knife': 4029, 'knitting': 4030, 'knocked': 4031, 'know': 4032, 'knowing': 4033, 'knowledge': 4034, 'knowledgeable': 4035, 'known': 4036, 'knows': 4037, 'l': 4038, 'label': 4039, 'labels': 4040, 'labor': 4041, 'laboratories': 4042, 'laboratory': 4043, 'lack': 4044, 'lacking': 4045, 'ladies': 4046, 'lag': 4047, 'laid': 4048, 'lamination': 4049, 'land': 4050, 'landed': 4051, 'landline': 4052, 'landlord': 4053, 'landowner': 4054, 'lands': 4055, 'language': 4056, 'languages': 4057, 'laptop': 4058, 'large': 4059, 'largely': 4060, 'larger': 4061, 'largest': 4062, 'last': 4063, 'lasting': 4064, 'lasts': 4065, 'late': 4066, 'lately': 4067, 'latency': 4068, 'later': 4069, 'latest': 4070, 'launch': 4071, 'launched': 4072, 'launching': 4073, 'laundering': 4074, 'laundry': 4075, 'lavalier': 4076, 'law': 4077, 'laws': 4078, 'lawsuit': 4079, 'lawyer': 4080, 'lawyers': 4081, 'laxative': 4082, 'lay': 4083, 'layers': 4084, 'layout': 4085, 'lazy': 4086, 'lead': 4087, 'leaders': 4088, 'leading': 4089, 'leaf': 4090, 'leaks': 4091, 'leaning': 4092, 'learn': 4093, 'learned': 4094, 'learning': 4095, 'least': 4096, 'leave': 4097, 'leaves': 4098, 'lecture': 4099, 'led': 4100, 'left': 4101, 'legal': 4102, 'legally': 4103, 'legitimate': 4104, 'lenders': 4105, 'length': 4106, 'lengthy': 4107, 'lens': 4108, 'lentil': 4109, 'less': 4110, 'lesser': 4111, 'lessons': 4112, 'let': 4113, 'lets': 4114, 'letter': 4115, 'letters': 4116, 'letting': 4117, 'lettuce': 4118, 'level': 4119, 'levelers': 4120, 'levels': 4121, 'leverage': 4122, 'liabilities': 4123, 'liability': 4124, 'liable': 4125, 'liaison': 4126, 'library': 4127, 'license': 4128, 'licensed': 4129, 'licenses': 4130, 'lie': 4131, 'life': 4132, 'lifeguards': 4133, 'lifelong': 4134, 'lifestyle': 4135, 'lift': 4136, 'light': 4137, 'lightning': 4138, 'lights': 4139, 'lightweight': 4140, 'like': 4141, 'liked': 4142, 'likely': 4143, 'likes': 4144, 'limit': 4145, 'limitations': 4146, 'limited': 4147, 'limits': 4148, 'line': 4149, 'lines': 4150, 'lining': 4151, 'link': 4152, 'linked': 4153, 'links': 4154, 'liquid': 4155, 'liquidating': 4156, 'liquors': 4157, 'list': 4158, 'listed': 4159, 'listen': 4160, 'listener': 4161, 'listeners': 4162, 'listening': 4163, 'listing': 4164, 'listings': 4165, 'lists': 4166, 'literature': 4167, 'little': 4168, 'live': 4169, 'lived': 4170, 'lively': 4171, 'liver': 4172, 'lives': 4173, 'living': 4174, 'll': 4175, 'load': 4176, 'loaded': 4177, 'loader': 4178, 'loaders': 4179, 'loading': 4180, 'loan': 4181, 'loans': 4182, 'lobby': 4183, 'local': 4184, 'locales': 4185, 'locality': 4186, 'localization': 4187, 'localized': 4188, 'locally': 4189, 'locals': 4190, 'located': 4191, 'location': 4192, 'locations': 4193, 'lock': 4194, 'lockdown': 4195, 'lockdowns': 4196, 'lodge': 4197, 'lodging': 4198, 'lodgings': 4199, 'log': 4200, 'logged': 4201, 'logging': 4202, 'login': 4203, 'logistics': 4204, 'logo': 4205, 'logos': 4206, 'logs': 4207, 'long': 4208, 'longer': 4209, 'look': 4210, 'looked': 4211, 'looking': 4212, 'looks': 4213, 'loose': 4214, 'lose': 4215, 'loss': 4216, 'losses': 4217, 'lost': 4218, 'lot': 4219, 'lots': 4220, 'loud': 4221, 'lounge': 4222, 'love': 4223, 'loved': 4224, 'lovely': 4225, 'loving': 4226, 'low': 4227, 'lower': 4228, 'lowered': 4229, 'lowest': 4230, 'loyal': 4231, 'luck': 4232, 'luckily': 4233, 'lucky': 4234, 'lucrative': 4235, 'luggage': 4236, 'lunch': 4237, 'luxurious': 4238, 'luxury': 4239, 'm': 4240, 'ma': 4241, 'machine': 4242, 'machinery': 4243, 'machines': 4244, 'mackerels': 4245, 'macro': 4246, 'madam': 4247, 'made': 4248, 'magazine': 4249, 'magazines': 4250, 'magical': 4251, 'mail': 4252, 'main': 4253, 'mainly': 4254, 'mains': 4255, 'maintain': 4256, 'maintained': 4257, 'maintaining': 4258, 'maintenance': 4259, 'major': 4260, 'majority': 4261, 'make': 4262, 'maker': 4263, 'makers': 4264, 'makes': 4265, 'makeup': 4266, 'makgeolli': 4267, 'making': 4268, 'mall': 4269, 'malware': 4270, 'manage': 4271, 'manageable': 4272, 'managed': 4273, 'management': 4274, 'manager': 4275, 'managers': 4276, 'manages': 4277, 'managing': 4278, 'mandatory': 4279, 'mandu': 4280, 'manned': 4281, 'manner': 4282, 'manners': 4283, 'manual': 4284, 'manually': 4285, 'manufacture': 4286, 'manufactured': 4287, 'manufacturer': 4288, 'manufacturers': 4289, 'manufactures': 4290, 'manufacturing': 4291, 'manuscript': 4292, 'many': 4293, 'marinated': 4294, 'marinates': 4295, 'market': 4296, 'marketer': 4297, 'marketing': 4298, 'markets': 4299, 'married': 4300, 'mascots': 4301, 'mask': 4302, 'mass': 4303, 'massage': 4304, 'massages': 4305, 'masseuse': 4306, 'massive': 4307, 'master': 4308, 'mat': 4309, 'match': 4310, 'material': 4311, 'materialistic': 4312, 'materials': 4313, 'maternity': 4314, 'mathematics': 4315, 'mats': 4316, 'matte': 4317, 'matter': 4318, 'matters': 4319, 'mattress': 4320, 'maturing': 4321, 'maximize': 4322, 'maximum': 4323, 'may': 4324, 'maybe': 4325, 'me': 4326, 'meal': 4327, 'meals': 4328, 'mean': 4329, 'meaning': 4330, 'meaningful': 4331, 'meaningless': 4332, 'means': 4333, 'meant': 4334, 'meantime': 4335, 'measure': 4336, 'measures': 4337, 'measuring': 4338, 'meat': 4339, 'mechanic': 4340, 'mechanical': 4341, 'mechanism': 4342, 'media': 4343, 'mediator': 4344, 'medical': 4345, 'medicine': 4346, 'meditation': 4347, 'medium': 4348, 'meet': 4349, 'meeting': 4350, 'meetings': 4351, 'megabits': 4352, 'megabytes': 4353, 'megapixel': 4354, 'megapixels': 4355, 'melon': 4356, 'melt': 4357, 'member': 4358, 'members': 4359, 'membership': 4360, 'memorandum': 4361, 'memories': 4362, 'memory': 4363, 'men': 4364, 'mending': 4365, 'mental': 4366, 'mention': 4367, 'mentioned': 4368, 'mentioning': 4369, 'menu': 4370, 'menus': 4371, 'merch': 4372, 'merchant': 4373, 'merged': 4374, 'message': 4375, 'messages': 4376, 'messaging': 4377, 'messy': 4378, 'met': 4379, 'meta': 4380, 'metal': 4381, 'metallurgical': 4382, 'metals': 4383, 'meters': 4384, 'method': 4385, 'methods': 4386, 'meticulously': 4387, 'microlenders': 4388, 'microphone': 4389, 'microphones': 4390, 'microscopes': 4391, 'microwave': 4392, 'middle': 4393, 'midst': 4394, 'might': 4395, 'mild': 4396, 'milestone': 4397, 'milk': 4398, 'millennials': 4399, 'millimeters': 4400, 'million': 4401, 'millions': 4402, 'mind': 4403, 'minded': 4404, 'mine': 4405, 'miner': 4406, 'mini': 4407, 'minibar': 4408, 'minimal': 4409, 'minimalism': 4410, 'minimum': 4411, 'ministry': 4412, 'minor': 4413, 'minute': 4414, 'minuted': 4415, 'minutes': 4416, 'miscarriage': 4417, 'miscommunication': 4418, 'mishap': 4419, 'mismanagement': 4420, 'mismatch': 4421, 'misplaced': 4422, 'miss': 4423, 'missed': 4424, 'missiles': 4425, 'missing': 4426, 'mission': 4427, 'mistake': 4428, 'mistakenly': 4429, 'mistakes': 4430, 'misunderstanding': 4431, 'misuse': 4432, 'misuses': 4433, 'mitigate': 4434, 'mix': 4435, 'mixer': 4436, 'mixing': 4437, 'mm': 4438, 'mmHg': 4439, 'mobile': 4440, 'mobiles': 4441, 'mock': 4442, 'mocks': 4443, 'modality': 4444, 'mode': 4445, 'model': 4446, 'models': 4447, 'modem': 4448, 'modems': 4449, 'moderately': 4450, 'modern': 4451, 'modes': 4452, 'modifications': 4453, 'modified': 4454, 'modify': 4455, 'modifying': 4456, 'modular': 4457, 'module': 4458, 'mold': 4459, 'molding': 4460, 'moldings': 4461, 'moment': 4462, 'momentary': 4463, 'moments': 4464, 'monastery': 4465, 'monastic': 4466, 'monetary': 4467, 'monetizing': 4468, 'money': 4469, 'monitor': 4470, 'monitoring': 4471, 'monitors': 4472, 'monk': 4473, 'monks': 4474, 'monsoon': 4475, 'month': 4476, 'monthly': 4477, 'months': 4478, 'mood': 4479, 'more': 4480, 'morning': 4481, 'mortar': 4482, 'mortgage': 4483, 'mosquitos': 4484, 'most': 4485, 'mostly': 4486, 'motels': 4487, 'mother': 4488, 'motif': 4489, 'motions': 4490, 'motivate': 4491, 'motivation': 4492, 'motor': 4493, 'motorboats': 4494, 'motors': 4495, 'mountain': 4496, 'mountains': 4497, 'mouse': 4498, 'mouses': 4499, 'mouth': 4500, 'move': 4501, 'moved': 4502, 'movement': 4503, 'movers': 4504, 'movie': 4505, 'movies': 4506, 'moving': 4507, 'much': 4508, 'mud': 4509, 'mukbang': 4510, 'multi': 4511, 'multidisciplinary': 4512, 'multinational': 4513, 'multiplatform': 4514, 'multiple': 4515, 'multiplying': 4516, 'multipurpose': 4517, 'museum': 4518, 'music': 4519, 'musical': 4520, 'musky': 4521, 'must': 4522, 'mutual': 4523, 'my': 4524, 'myself': 4525, 'mysterious': 4526, 'naira': 4527, 'name': 4528, 'names': 4529, 'napkin': 4530, 'napping': 4531, 'narratives': 4532, 'narrow': 4533, 'nation': 4534, 'national': 4535, 'nationals': 4536, 'nations': 4537, 'native': 4538, 'natural': 4539, 'nature': 4540, 'navigation': 4541, 'near': 4542, 'nearby': 4543, 'nearest': 4544, 'neat': 4545, 'nebulizers': 4546, 'necessary': 4547, 'need': 4548, 'needed': 4549, 'needing': 4550, 'needs': 4551, 'negative': 4552, 'negatively': 4553, 'neglect': 4554, 'negotiable': 4555, 'negotiate': 4556, 'neighbors': 4557, 'neotraditional': 4558, 'nephew': 4559, 'nervous': 4560, 'net': 4561, 'network': 4562, 'networking': 4563, 'networks': 4564, 'never': 4565, 'new': 4566, 'newbie': 4567, 'newborn': 4568, 'newest': 4569, 'newly': 4570, 'news': 4571, 'newsletters': 4572, 'newspaper': 4573, 'next': 4574, 'nice': 4575, 'niche': 4576, 'night': 4577, 'nightclub': 4578, 'nights': 4579, 'nighttime': 4580, 'nine': 4581, 'ninety': 4582, 'no': 4583, 'noble': 4584, 'nobody': 4585, 'nodular': 4586, 'non': 4587, 'nondelivery': 4588, 'none': 4589, 'nonfiction': 4590, 'nonfungible': 4591, 'nonpayments': 4592, 'nonprofits': 4593, 'nonsense': 4594, 'nonspicy': 4595, 'noodle': 4596, 'noodles': 4597, 'noon': 4598, 'norm': 4599, 'normal': 4600, 'normally': 4601, 'northern': 4602, 'nose': 4603, 'nostalgia': 4604, 'not': 4605, 'notch': 4606, 'note': 4607, 'notebook': 4608, 'noted': 4609, 'notes': 4610, 'nothing': 4611, 'notice': 4612, 'noticed': 4613, 'notices': 4614, 'notification': 4615, 'notified': 4616, 'notify': 4617, 'notifying': 4618, 'novel': 4619, 'novels': 4620, 'now': 4621, 'nowadays': 4622, 'number': 4623, 'numbers': 4624, 'numerous': 4625, 'nurse': 4626, 'nutritional': 4627, 'nutty': 4628, 'nylon': 4629, 'o': 4630, 'object': 4631, 'objection': 4632, 'objections': 4633, 'objective': 4634, 'obligation': 4635, 'obligations': 4636, 'oblige': 4637, 'observations': 4638, 'observing': 4639, 'obstacles': 4640, 'obtain': 4641, 'obtaining': 4642, 'obviously': 4643, 'occasion': 4644, 'occupation': 4645, 'occupied': 4646, 'occupy': 4647, 'occur': 4648, 'occurrence': 4649, 'occurs': 4650, 'ocean': 4651, 'of': 4652, 'off': 4653, 'offend': 4654, 'offer': 4655, 'offered': 4656, 'offering': 4657, 'offerings': 4658, 'offers': 4659, 'office': 4660, 'officer': 4661, 'officers': 4662, 'offices': 4663, 'official': 4664, 'officially': 4665, 'offline': 4666, 'offshore': 4667, 'often': 4668, 'oh': 4669, 'oil': 4670, 'oils': 4671, 'okay': 4672, 'old': 4673, 'older': 4674, 'oldest': 4675, 'on': 4676, 'once': 4677, 'ondol': 4678, 'one': 4679, 'ones': 4680, 'ongoing': 4681, 'onions': 4682, 'online': 4683, 'only': 4684, 'onto': 4685, 'onwards': 4686, 'open': 4687, 'opened': 4688, 'opening': 4689, 'openly': 4690, 'opens': 4691, 'operate': 4692, 'operated': 4693, 'operating': 4694, 'operation': 4695, 'operational': 4696, 'operations': 4697, 'operative': 4698, 'operator': 4699, 'operators': 4700, 'opinion': 4701, 'opinions': 4702, 'opportunities': 4703, 'opportunity': 4704, 'opt': 4705, 'optimal': 4706, 'optimization': 4707, 'optimize': 4708, 'optimized': 4709, 'optimizer': 4710, 'option': 4711, 'optional': 4712, 'options': 4713, 'optometry': 4714, 'or': 4715, 'orange': 4716, 'order': 4717, 'ordered': 4718, 'ordering': 4719, 'orderly': 4720, 'orders': 4721, 'ordinary': 4722, 'ore': 4723, 'organic': 4724, 'organization': 4725, 'organizational': 4726, 'organizations': 4727, 'organize': 4728, 'organizing': 4729, 'orientation': 4730, 'oriented': 4731, 'original': 4732, 'originally': 4733, 'origins': 4734, 'other': 4735, 'others': 4736, 'ought': 4737, 'ounce': 4738, 'our': 4739, 'ours': 4740, 'ourselves': 4741, 'out': 4742, 'outbreak': 4743, 'outcome': 4744, 'outdated': 4745, 'outdoor': 4746, 'outdoors': 4747, 'outgoing': 4748, 'outings': 4749, 'outlets': 4750, 'outnumber': 4751, 'output': 4752, 'outputs': 4753, 'outreach': 4754, 'outright': 4755, 'outside': 4756, 'outsiders': 4757, 'outsmart': 4758, 'outsource': 4759, 'outstanding': 4760, 'oven': 4761, 'ovens': 4762, 'over': 4763, 'overall': 4764, 'overcharge': 4765, 'overcharged': 4766, 'overdue': 4767, 'overflow': 4768, 'overhang': 4769, 'overheads': 4770, 'overlook': 4771, 'overlooked': 4772, 'overnight': 4773, 'overpriced': 4774, 'overseas': 4775, 'oversees': 4776, 'overstated': 4777, 'overview': 4778, 'overwhelmed': 4779, 'owe': 4780, 'owing': 4781, 'own': 4782, 'owner': 4783, 'owners': 4784, 'ownership': 4785, 'owning': 4786, 'oxblood': 4787, 'p': 4788, 'pace': 4789, 'pacemaker': 4790, 'pack': 4791, 'package': 4792, 'packaged': 4793, 'packages': 4794, 'packaging': 4795, 'packed': 4796, 'packers': 4797, 'packing': 4798, 'packs': 4799, 'page': 4800, 'pages': 4801, 'pagodas': 4802, 'paid': 4803, 'pains': 4804, 'painted': 4805, 'painter': 4806, 'painters': 4807, 'painting': 4808, 'paintings': 4809, 'pair': 4810, 'pairs': 4811, 'pajamas': 4812, 'palaces': 4813, 'palate': 4814, 'palates': 4815, 'palette': 4816, 'palettes': 4817, 'palm': 4818, 'pals': 4819, 'pamphlet': 4820, 'pan': 4821, 'pancakes': 4822, 'pandemic': 4823, 'panel': 4824, 'panels': 4825, 'pans': 4826, 'pantry': 4827, 'papaya': 4828, 'paper': 4829, 'papers': 4830, 'paperwork': 4831, 'par': 4832, 'parcel': 4833, 'parents': 4834, 'park': 4835, 'parking': 4836, 'part': 4837, 'partake': 4838, 'partial': 4839, 'partially': 4840, 'participant': 4841, 'participants': 4842, 'participate': 4843, 'participating': 4844, 'particular': 4845, 'particularly': 4846, 'parties': 4847, 'partner': 4848, 'partnering': 4849, 'partners': 4850, 'partnership': 4851, 'parts': 4852, 'party': 4853, 'pass': 4854, 'passed': 4855, 'passing': 4856, 'passion': 4857, 'passive': 4858, 'passport': 4859, 'passports': 4860, 'password': 4861, 'past': 4862, 'pasta': 4863, 'paste': 4864, 'patch': 4865, 'patches': 4866, 'patent': 4867, 'patents': 4868, 'path': 4869, 'patience': 4870, 'patient': 4871, 'patients': 4872, 'patronage': 4873, 'patronize': 4874, 'patrons': 4875, 'pattern': 4876, 'patterns': 4877, 'paving': 4878, 'pay': 4879, 'payable': 4880, 'paying': 4881, 'payment': 4882, 'payments': 4883, 'payroll': 4884, 'pays': 4885, 'payslip': 4886, 'pdf': 4887, 'peace': 4888, 'peak': 4889, 'pencil': 4890, 'pending': 4891, 'pension': 4892, 'people': 4893, 'per': 4894, 'percent': 4895, 'percentage': 4896, 'perfect': 4897, 'perform': 4898, 'performance': 4899, 'performed': 4900, 'performing': 4901, 'perhaps': 4902, 'perilla': 4903, 'period': 4904, 'permanent': 4905, 'permanently': 4906, 'permission': 4907, 'permit': 4908, 'permitted': 4909, 'persistent': 4910, 'person': 4911, 'personal': 4912, 'personality': 4913, 'personalized': 4914, 'personally': 4915, 'personnel': 4916, 'persons': 4917, 'persuade': 4918, 'pertinent': 4919, 'perusal': 4920, 'pesky': 4921, 'pet': 4922, 'petition': 4923, 'petrol': 4924, 'pets': 4925, 'phase': 4926, 'phases': 4927, 'phenomena': 4928, 'philosophy': 4929, 'phone': 4930, 'phones': 4931, 'phoning': 4932, 'photo': 4933, 'photobooks': 4934, 'photocopier': 4935, 'photographer': 4936, 'photographers': 4937, 'photographs': 4938, 'photography': 4939, 'photos': 4940, 'physical': 4941, 'physically': 4942, 'piano': 4943, 'pick': 4944, 'picked': 4945, 'picking': 4946, 'picture': 4947, 'pictures': 4948, 'pie': 4949, 'piece': 4950, 'pieces': 4951, 'pier': 4952, 'piling': 4953, 'pillars': 4954, 'pills': 4955, 'pin': 4956, 'pink': 4957, 'pioneers': 4958, 'pipe': 4959, 'pipeline': 4960, 'pipelines': 4961, 'pipes': 4962, 'piqued': 4963, 'piques': 4964, 'piston': 4965, 'pitch': 4966, 'pitching': 4967, 'pity': 4968, 'pixels': 4969, 'place': 4970, 'placed': 4971, 'placement': 4972, 'placements': 4973, 'places': 4974, 'placing': 4975, 'plagiarized': 4976, 'plain': 4977, 'plan': 4978, 'plane': 4979, 'planned': 4980, 'planning': 4981, 'plans': 4982, 'plant': 4983, 'planting': 4984, 'plants': 4985, 'plastic': 4986, 'plastics': 4987, 'plate': 4988, 'plates': 4989, 'platform': 4990, 'platforms': 4991, 'platinum': 4992, 'platters': 4993, 'play': 4994, 'played': 4995, 'player': 4996, 'players': 4997, 'playground': 4998, 'playing': 4999, 'plays': 5000, 'plaza': 5001, 'pleasant': 5002, 'please': 5003, 'pleased': 5004, 'pleasure': 5005, 'plotter': 5006, 'plowing': 5007, 'plug': 5008, 'plugins': 5009, 'plus': 5010, 'pm': 5011, 'pneumatic': 5012, 'pocket': 5013, 'pockets': 5014, 'podcast': 5015, 'podcasts': 5016, 'point': 5017, 'pointing': 5018, 'points': 5019, 'policies': 5020, 'policy': 5021, 'policyholders': 5022, 'policymakers': 5023, 'polite': 5024, 'political': 5025, 'politicians': 5026, 'polystyrene': 5027, 'polyurethane': 5028, 'pool': 5029, 'pools': 5030, 'poor': 5031, 'pop': 5032, 'popular': 5033, 'popularity': 5034, 'population': 5035, 'poring': 5036, 'pork': 5037, 'porridge': 5038, 'port': 5039, 'portal': 5040, 'portals': 5041, 'portfolio': 5042, 'portfolios': 5043, 'portion': 5044, 'portraits': 5045, 'ports': 5046, 'posh': 5047, 'position': 5048, 'positioning': 5049, 'positions': 5050, 'positive': 5051, 'positives': 5052, 'possess': 5053, 'possibility': 5054, 'possible': 5055, 'possibly': 5056, 'post': 5057, 'postal': 5058, 'posted': 5059, 'poster': 5060, 'posters': 5061, 'posting': 5062, 'postings': 5063, 'postpaid': 5064, 'posts': 5065, 'potato': 5066, 'potential': 5067, 'pots': 5068, 'power': 5069, 'powered': 5070, 'practically': 5071, 'practice': 5072, 'practices': 5073, 'praised': 5074, 'praises': 5075, 'pray': 5076, 'prays': 5077, 'precise': 5078, 'precisely': 5079, 'precision': 5080, 'predict': 5081, 'predictable': 5082, 'prediction': 5083, 'prefer': 5084, 'preferably': 5085, 'preference': 5086, 'preferences': 5087, 'preferred': 5088, 'premises': 5089, 'premium': 5090, 'premiums': 5091, 'preoccupied': 5092, 'preorder': 5093, 'preparation': 5094, 'prepare': 5095, 'prepared': 5096, 'preparedness': 5097, 'preparing': 5098, 'prescription': 5099, 'prescriptions': 5100, 'presence': 5101, 'present': 5102, 'presentation': 5103, 'presented': 5104, 'presenting': 5105, 'presents': 5106, 'preservation': 5107, 'preserve': 5108, 'president': 5109, 'press': 5110, 'pressed': 5111, 'pressing': 5112, 'pressure': 5113, 'pretty': 5114, 'prevent': 5115, 'prevented': 5116, 'prevention': 5117, 'preview': 5118, 'previous': 5119, 'previously': 5120, 'price': 5121, 'priced': 5122, 'priceless': 5123, 'prices': 5124, 'pricing': 5125, 'priest': 5126, 'primarily': 5127, 'primary': 5128, 'prime': 5129, 'principal': 5130, 'principle': 5131, 'print': 5132, 'printed': 5133, 'printers': 5134, 'printing': 5135, 'prints': 5136, 'prior': 5137, 'prioritize': 5138, 'prioritized': 5139, 'priority': 5140, 'privacy': 5141, 'private': 5142, 'privilege': 5143, 'prize': 5144, 'prized': 5145, 'probably': 5146, 'problem': 5147, 'problematic': 5148, 'problems': 5149, 'procedure': 5150, 'procedures': 5151, 'proceed': 5152, 'proceedings': 5153, 'proceeds': 5154, 'process': 5155, 'processed': 5156, 'processes': 5157, 'processing': 5158, 'processor': 5159, 'processors': 5160, 'procurement': 5161, 'produce': 5162, 'produced': 5163, 'producer': 5164, 'produces': 5165, 'producing': 5166, 'product': 5167, 'production': 5168, 'productions': 5169, 'productivity': 5170, 'products': 5171, 'profession': 5172, 'professional': 5173, 'professionally': 5174, 'professionals': 5175, 'professions': 5176, 'professor': 5177, 'professors': 5178, 'proficiency': 5179, 'profile': 5180, 'profit': 5181, 'profitability': 5182, 'profitable': 5183, 'profits': 5184, 'program': 5185, 'programmed': 5186, 'programmer': 5187, 'programmers': 5188, 'programming': 5189, 'programs': 5190, 'progress': 5191, 'progressing': 5192, 'project': 5193, 'projections': 5194, 'projector': 5195, 'projectors': 5196, 'projects': 5197, 'prominent': 5198, 'prominently': 5199, 'promise': 5200, 'promised': 5201, 'promises': 5202, 'promising': 5203, 'promo': 5204, 'promos': 5205, 'promote': 5206, 'promoting': 5207, 'promotion': 5208, 'promotional': 5209, 'promotions': 5210, 'prompt': 5211, 'promptly': 5212, 'prompts': 5213, 'proof': 5214, 'proofs': 5215, 'propelled': 5216, 'proper': 5217, 'properly': 5218, 'properties': 5219, 'property': 5220, 'proportion': 5221, 'proposal': 5222, 'proposals': 5223, 'propose': 5224, 'proposed': 5225, 'proposing': 5226, 'proposition': 5227, 'pros': 5228, 'prospective': 5229, 'prosperous': 5230, 'prosthetics': 5231, 'prostrations': 5232, 'protect': 5233, 'protected': 5234, 'protection': 5235, 'protectionism': 5236, 'protections': 5237, 'protective': 5238, 'protects': 5239, 'protein': 5240, 'protocol': 5241, 'protocols': 5242, 'prototype': 5243, 'proud': 5244, 'prove': 5245, 'proven': 5246, 'provide': 5247, 'provided': 5248, 'provider': 5249, 'providers': 5250, 'provides': 5251, 'providing': 5252, 'province': 5253, 'proximity': 5254, 'pub': 5255, 'public': 5256, 'publication': 5257, 'publications': 5258, 'publicly': 5259, 'publish': 5260, 'published': 5261, 'publishers': 5262, 'publishing': 5263, 'pull': 5264, 'pulse': 5265, 'pump': 5266, 'pumps': 5267, 'punctual': 5268, 'purchase': 5269, 'purchased': 5270, 'purchases': 5271, 'purchasing': 5272, 'purely': 5273, 'purified': 5274, 'purifiers': 5275, 'purify': 5276, 'purpose': 5277, 'purposes': 5278, 'pursue': 5279, 'push': 5280, 'pushed': 5281, 'put': 5282, 'puts': 5283, 'putting': 5284, 'quadrupled': 5285, 'qualified': 5286, 'qualify': 5287, 'qualities': 5288, 'quality': 5289, 'quantities': 5290, 'quantity': 5291, 'quarter': 5292, 'quarterly': 5293, 'queries': 5294, 'query': 5295, 'question': 5296, 'questionnaire': 5297, 'questions': 5298, 'queue': 5299, 'quick': 5300, 'quickly': 5301, 'quilt': 5302, 'quite': 5303, 'quotation': 5304, 'quotations': 5305, 'quote': 5306, 'radio': 5307, 'radioactive': 5308, 'railway': 5309, 'rain': 5310, 'raise': 5311, 'raising': 5312, 'rally': 5313, 'rambling': 5314, 'ramen': 5315, 'ran': 5316, 'random': 5317, 'randomly': 5318, 'rang': 5319, 'range': 5320, 'ranger': 5321, 'ranges': 5322, 'ranging': 5323, 'rank': 5324, 'ranked': 5325, 'ranking': 5326, 'ranks': 5327, 'rapidly': 5328, 'rapport': 5329, 'rare': 5330, 'rate': 5331, 'rates': 5332, 'rather': 5333, 'rating': 5334, 'ratings': 5335, 'ratio': 5336, 'rational': 5337, 'raw': 5338, 'ray': 5339, 'rd': 5340, 're': 5341, 'reach': 5342, 'reached': 5343, 'reaches': 5344, 'reaching': 5345, 'react': 5346, 'reaction': 5347, 'read': 5348, 'readers': 5349, 'reading': 5350, 'reads': 5351, 'ready': 5352, 'real': 5353, 'realistic': 5354, 'reality': 5355, 'realize': 5356, 'really': 5357, 'realtor': 5358, 'reap': 5359, 'rear': 5360, 'reason': 5361, 'reasonable': 5362, 'reasons': 5363, 'reassuring': 5364, 'rebook': 5365, 'recall': 5366, 'receipt': 5367, 'receipts': 5368, 'receivable': 5369, 'receive': 5370, 'received': 5371, 'receiver': 5372, 'receiving': 5373, 'recent': 5374, 'recently': 5375, 'reception': 5376, 'receptionist': 5377, 'recharge': 5378, 'recharging': 5379, 'recipe': 5380, 'recipes': 5381, 'recipients': 5382, 'recognize': 5383, 'recognized': 5384, 'recommend': 5385, 'recommendation': 5386, 'recommendations': 5387, 'recommended': 5388, 'recommending': 5389, 'reconfirm': 5390, 'reconsider': 5391, 'record': 5392, 'recorded': 5393, 'recording': 5394, 'recordings': 5395, 'records': 5396, 'recover': 5397, 'recovery': 5398, 'recreation': 5399, 'rectified': 5400, 'recuperate': 5401, 'red': 5402, 'redemption': 5403, 'redirect': 5404, 'redownloaded': 5405, 'redrafting': 5406, 'reduce': 5407, 'reduced': 5408, 'reduces': 5409, 'reducing': 5410, 'reefer': 5411, 'reefers': 5412, 'reels': 5413, 'refer': 5414, 'reference': 5415, 'referred': 5416, 'referring': 5417, 'refers': 5418, 'refine': 5419, 'reflected': 5420, 'refrain': 5421, 'refresher': 5422, 'refund': 5423, 'refunded': 5424, 'refunds': 5425, 'refuse': 5426, 'refuses': 5427, 'regard': 5428, 'regarded': 5429, 'regarding': 5430, 'regardless': 5431, 'regards': 5432, 'region': 5433, 'regional': 5434, 'register': 5435, 'registered': 5436, 'registration': 5437, 'registry': 5438, 'regret': 5439, 'regretting': 5440, 'regular': 5441, 'regularly': 5442, 'regulated': 5443, 'regulations': 5444, 'regulatory': 5445, 'rehearsal': 5446, 'reheated': 5447, 'reimbursed': 5448, 'reimbursement': 5449, 'reimbursing': 5450, 'reinstalled': 5451, 'reject': 5452, 'rejected': 5453, 'relatable': 5454, 'relate': 5455, 'related': 5456, 'relations': 5457, 'relationship': 5458, 'relationships': 5459, 'relative': 5460, 'relatively': 5461, 'relatives': 5462, 'relax': 5463, 'relaxation': 5464, 'relaxing': 5465, 'relay': 5466, 'release': 5467, 'released': 5468, 'releases': 5469, 'releasing': 5470, 'relentlessly': 5471, 'relevant': 5472, 'reliable': 5473, 'relief': 5474, 'relies': 5475, 'relieved': 5476, 'religious': 5477, 'relocate': 5478, 'rely': 5479, 'remain': 5480, 'remaining': 5481, 'remains': 5482, 'remarks': 5483, 'remember': 5484, 'remembered': 5485, 'remind': 5486, 'reminder': 5487, 'reminders': 5488, 'reminding': 5489, 'reminds': 5490, 'reminisce': 5491, 'remittance': 5492, 'remote': 5493, 'remotely': 5494, 'removable': 5495, 'remove': 5496, 'removers': 5497, 'removing': 5498, 'render': 5499, 'rendered': 5500, 'renders': 5501, 'renege': 5502, 'renew': 5503, 'renewable': 5504, 'renewal': 5505, 'renewed': 5506, 'renewing': 5507, 'renovate': 5508, 'renovated': 5509, 'renovation': 5510, 'renowned': 5511, 'rent': 5512, 'rental': 5513, 'rentals': 5514, 'rented': 5515, 'renting': 5516, 'reorder': 5517, 'repair': 5518, 'repay': 5519, 'repayment': 5520, 'repeat': 5521, 'replace': 5522, 'replaced': 5523, 'replacement': 5524, 'replacements': 5525, 'replacing': 5526, 'reply': 5527, 'report': 5528, 'reported': 5529, 'reports': 5530, 'representative': 5531, 'representing': 5532, 'represents': 5533, 'reputable': 5534, 'reputation': 5535, 'reputed': 5536, 'request': 5537, 'requested': 5538, 'requesting': 5539, 'requests': 5540, 'require': 5541, 'required': 5542, 'requirement': 5543, 'requirements': 5544, 'requires': 5545, 'rescheduled': 5546, 'rescission': 5547, 'research': 5548, 'researched': 5549, 'researching': 5550, 'resellers': 5551, 'resending': 5552, 'reservation': 5553, 'reservations': 5554, 'reserve': 5555, 'reserved': 5556, 'reserving': 5557, 'reset': 5558, 'reside': 5559, 'residence': 5560, 'resident': 5561, 'residents': 5562, 'residing': 5563, 'resistant': 5564, 'resistors': 5565, 'resolve': 5566, 'resolved': 5567, 'resolving': 5568, 'resort': 5569, 'resorting': 5570, 'resorts': 5571, 'resource': 5572, 'resources': 5573, 'respect': 5574, 'respected': 5575, 'respective': 5576, 'respectively': 5577, 'respects': 5578, 'respond': 5579, 'responding': 5580, 'response': 5581, 'responsibility': 5582, 'responsible': 5583, 'responsive': 5584, 'rest': 5585, 'restart': 5586, 'restaurant': 5587, 'restaurants': 5588, 'restocked': 5589, 'restore': 5590, 'restoring': 5591, 'restricted': 5592, 'restriction': 5593, 'restrictions': 5594, 'restroom': 5595, 'restrooms': 5596, 'result': 5597, 'resulted': 5598, 'results': 5599, 'resume': 5600, 'resumes': 5601, 'retail': 5602, 'retailer': 5603, 'retails': 5604, 'retain': 5605, 'retains': 5606, 'retirement': 5607, 'retract': 5608, 'retreat': 5609, 'retreats': 5610, 'retrieve': 5611, 'return': 5612, 'returned': 5613, 'returning': 5614, 'returns': 5615, 'reuploading': 5616, 'reusable': 5617, 'revamp': 5618, 'revealing': 5619, 'revenue': 5620, 'revenues': 5621, 'revert': 5622, 'review': 5623, 'reviewed': 5624, 'reviewers': 5625, 'reviewing': 5626, 'revise': 5627, 'revised': 5628, 'revision': 5629, 'revisions': 5630, 'revoke': 5631, 'revolving': 5632, 'reward': 5633, 'rewarding': 5634, 'rewards': 5635, 'rib': 5636, 'ribs': 5637, 'rice': 5638, 'rich': 5639, 'rid': 5640, 'ride': 5641, 'rides': 5642, 'right': 5643, 'rights': 5644, 'rigid': 5645, 'rim': 5646, 'ring': 5647, 'rise': 5648, 'risen': 5649, 'risk': 5650, 'risking': 5651, 'risks': 5652, 'risky': 5653, 'ritual': 5654, 'road': 5655, 'roadblock': 5656, 'roadmap': 5657, 'roasted': 5658, 'robot': 5659, 'rock': 5660, 'rocky': 5661, 'role': 5662, 'roleplaying': 5663, 'roles': 5664, 'roll': 5665, 'roller': 5666, 'rolls': 5667, 'roof': 5668, 'roofing': 5669, 'rooftop': 5670, 'room': 5671, 'roommate': 5672, 'rooms': 5673, 'root': 5674, 'roots': 5675, 'ropes': 5676, 'rotary': 5677, 'rough': 5678, 'round': 5679, 'rounds': 5680, 'router': 5681, 'routine': 5682, 'royalty': 5683, 'rude': 5684, 'ruin': 5685, 'ruined': 5686, 'rules': 5687, 'rumor': 5688, 'run': 5689, 'running': 5690, 'runs': 5691, 'rural': 5692, 'rush': 5693, 'rushing': 5694, 's': 5695, 'sacrificing': 5696, 'sad': 5697, 'safe': 5698, 'safeguard': 5699, 'safely': 5700, 'safer': 5701, 'safety': 5702, 'said': 5703, 'sake': 5704, 'salad': 5705, 'salary': 5706, 'sale': 5707, 'sales': 5708, 'salesmen': 5709, 'salt': 5710, 'saltwater': 5711, 'same': 5712, 'samgyeopsal': 5713, 'samgyupsal': 5714, 'sample': 5715, 'sampler': 5716, 'samples': 5717, 'sampling': 5718, 'sanctioning': 5719, 'sandwich': 5720, 'sandwiches': 5721, 'sanitary': 5722, 'satellite': 5723, 'satin': 5724, 'satisfied': 5725, 'satisfy': 5726, 'sauce': 5727, 'sauna': 5728, 'sausage': 5729, 'save': 5730, 'saved': 5731, 'saver': 5732, 'saves': 5733, 'saving': 5734, 'savings': 5735, 'savory': 5736, 'savvy': 5737, 'saw': 5738, 'say': 5739, 'saying': 5740, 'says': 5741, 'scaffolding': 5742, 'scale': 5743, 'scammed': 5744, 'scan': 5745, 'scanner': 5746, 'scanners': 5747, 'scanning': 5748, 'scarcity': 5749, 'scared': 5750, 'scavenger': 5751, 'scenario': 5752, 'scenarios': 5753, 'scenic': 5754, 'scent': 5755, 'schedule': 5756, 'scheduled': 5757, 'scheduler': 5758, 'schedules': 5759, 'scheme': 5760, 'scholar': 5761, 'scholarships': 5762, 'school': 5763, 'schooling': 5764, 'science': 5765, 'sciences': 5766, 'scientific': 5767, 'scientists': 5768, 'scooters': 5769, 'score': 5770, 'scores': 5771, 'scratch': 5772, 'screen': 5773, 'screening': 5774, 'screenplay': 5775, 'screens': 5776, 'screenshot': 5777, 'screenshots': 5778, 'screw': 5779, 'screws': 5780, 'script': 5781, 'scrub': 5782, 'sculptors': 5783, 'sea': 5784, 'seal': 5785, 'search': 5786, 'searching': 5787, 'seared': 5788, 'season': 5789, 'seasons': 5790, 'seat': 5791, 'seats': 5792, 'seaweed': 5793, 'seaworthiness': 5794, 'second': 5795, 'secondary': 5796, 'secondhand': 5797, 'seconds': 5798, 'secret': 5799, 'secretary': 5800, 'section': 5801, 'sector': 5802, 'secure': 5803, 'secured': 5804, 'secures': 5805, 'securing': 5806, 'securities': 5807, 'security': 5808, 'see': 5809, 'seedlings': 5810, 'seeing': 5811, 'seek': 5812, 'seeking': 5813, 'seem': 5814, 'seems': 5815, 'seen': 5816, 'select': 5817, 'selected': 5818, 'selection': 5819, 'selections': 5820, 'self': 5821, 'sell': 5822, 'seller': 5823, 'sellers': 5824, 'selling': 5825, 'sells': 5826, 'selves': 5827, 'semester': 5828, 'semiconductor': 5829, 'semiconductors': 5830, 'seminar': 5831, 'seminars': 5832, 'send': 5833, 'sender': 5834, 'sending': 5835, 'senior': 5836, 'seniors': 5837, 'sense': 5838, 'sensor': 5839, 'sensors': 5840, 'sent': 5841, 'separate': 5842, 'separately': 5843, 'serial': 5844, 'series': 5845, 'serious': 5846, 'serve': 5847, 'served': 5848, 'server': 5849, 'servers': 5850, 'serves': 5851, 'service': 5852, 'serviced': 5853, 'services': 5854, 'servicing': 5855, 'serving': 5856, 'servings': 5857, 'servo': 5858, 'session': 5859, 'sessions': 5860, 'set': 5861, 'sets': 5862, 'setting': 5863, 'settings': 5864, 'settle': 5865, 'settled': 5866, 'setup': 5867, 'setups': 5868, 'seven': 5869, 'several': 5870, 'severe': 5871, 'sewer': 5872, 'sewing': 5873, 'shaded': 5874, 'shaft': 5875, 'shafts': 5876, 'shake': 5877, 'shall': 5878, 'shape': 5879, 'shaped': 5880, 'shapes': 5881, 'share': 5882, 'shared': 5883, 'shares': 5884, 'sharing': 5885, 'sharpened': 5886, 'sharply': 5887, 'she': 5888, 'sheet': 5889, 'shelter': 5890, 'shift': 5891, 'shifted': 5892, 'ship': 5893, 'shipment': 5894, 'shipments': 5895, 'shipped': 5896, 'shipping': 5897, 'ships': 5898, 'shock': 5899, 'shoddy': 5900, 'shoe': 5901, 'shoes': 5902, 'shoot': 5903, 'shooting': 5904, 'shop': 5905, 'shopping': 5906, 'shops': 5907, 'short': 5908, 'shortly': 5909, 'shot': 5910, 'shots': 5911, 'should': 5912, 'shoulder': 5913, 'shouldn': 5914, 'shovel': 5915, 'shovels': 5916, 'show': 5917, 'showcase': 5918, 'showcases': 5919, 'showcasing': 5920, 'showed': 5921, 'shower': 5922, 'showing': 5923, 'shown': 5924, 'showroom': 5925, 'shows': 5926, 'shredder': 5927, 'shredders': 5928, 'shrimp': 5929, 'shutting': 5930, 'shy': 5931, 'sibling': 5932, 'side': 5933, 'sides': 5934, 'sign': 5935, 'signal': 5936, 'signals': 5937, 'signatory': 5938, 'signature': 5939, 'signatures': 5940, 'signed': 5941, 'significance': 5942, 'significant': 5943, 'significantly': 5944, 'signify': 5945, 'signing': 5946, 'silent': 5947, 'silk': 5948, 'silver': 5949, 'silverware': 5950, 'similar': 5951, 'simmered': 5952, 'simmering': 5953, 'simple': 5954, 'simpler': 5955, 'simply': 5956, 'simultaneously': 5957, 'since': 5958, 'sincere': 5959, 'sincerely': 5960, 'sing': 5961, 'single': 5962, 'sink': 5963, 'sir': 5964, 'sister': 5965, 'sit': 5966, 'site': 5967, 'sited': 5968, 'sites': 5969, 'sitting': 5970, 'situation': 5971, 'situations': 5972, 'six': 5973, 'sixth': 5974, 'sizable': 5975, 'size': 5976, 'sized': 5977, 'sizes': 5978, 'sketches': 5979, 'skill': 5980, 'skilled': 5981, 'skills': 5982, 'skin': 5983, 'skincare': 5984, 'skyline': 5985, 'skyrocket': 5986, 'sleep': 5987, 'sleeping': 5988, 'slept': 5989, 'slice': 5990, 'slide': 5991, 'slides': 5992, 'sliding': 5993, 'slightly': 5994, 'slip': 5995, 'slippers': 5996, 'slot': 5997, 'slots': 5998, 'slow': 5999, 'slurp': 6000, 'small': 6001, 'smaller': 6002, 'smallest': 6003, 'smart': 6004, 'smartphone': 6005, 'smartphones': 6006, 'smartwatches': 6007, 'smile': 6008, 'smoke': 6009, 'smooth': 6010, 'smoothly': 6011, 'snack': 6012, 'snacks': 6013, 'snap': 6014, 'sneakers': 6015, 'snob': 6016, 'snorkeling': 6017, 'so': 6018, 'soap': 6019, 'soaps': 6020, 'soaring': 6021, 'social': 6022, 'societal': 6023, 'socket': 6024, 'socks': 6025, 'sof': 6026, 'sofa': 6027, 'soft': 6028, 'software': 6029, 'softwares': 6030, 'soil': 6031, 'soju': 6032, 'sold': 6033, 'sole': 6034, 'solely': 6035, 'solid': 6036, 'solitary': 6037, 'solo': 6038, 'solution': 6039, 'solutions': 6040, 'solve': 6041, 'solving': 6042, 'some': 6043, 'somebody': 6044, 'someday': 6045, 'somehow': 6046, 'someone': 6047, 'something': 6048, 'sometime': 6049, 'sometimes': 6050, 'somewhere': 6051, 'son': 6052, 'song': 6053, 'songs': 6054, 'soon': 6055, 'sooner': 6056, 'sophisticated': 6057, 'sorry': 6058, 'sort': 6059, 'sorted': 6060, 'sorts': 6061, 'sound': 6062, 'soundbite': 6063, 'sounded': 6064, 'sounds': 6065, 'soundtrack': 6066, 'soup': 6067, 'source': 6068, 'sources': 6069, 'sous': 6070, 'southeast': 6071, 'souvenirs': 6072, 'soy': 6073, 'spa': 6074, 'space': 6075, 'spaces': 6076, 'spacious': 6077, 'spaghetti': 6078, 'spam': 6079, 'spare': 6080, 'spark': 6081, 'spas': 6082, 'speak': 6083, 'speaker': 6084, 'speakers': 6085, 'speaking': 6086, 'speaks': 6087, 'special': 6088, 'specialize': 6089, 'specialized': 6090, 'specializes': 6091, 'specialties': 6092, 'specialty': 6093, 'specific': 6094, 'specifically': 6095, 'specification': 6096, 'specifications': 6097, 'specifics': 6098, 'spectacular': 6099, 'spectrophotometer': 6100, 'spectrum': 6101, 'speed': 6102, 'speeds': 6103, 'spend': 6104, 'spending': 6105, 'spent': 6106, 'spices': 6107, 'spicy': 6108, 'spike': 6109, 'spinners': 6110, 'spinning': 6111, 'spiral': 6112, 'split': 6113, 'spoke': 6114, 'spoken': 6115, 'sponsor': 6116, 'sponsored': 6117, 'spoons': 6118, 'sports': 6119, 'spot': 6120, 'spots': 6121, 'spouse': 6122, 'sprained': 6123, 'spray': 6124, 'spread': 6125, 'spreader': 6126, 'spreading': 6127, 'spring': 6128, 'springs': 6129, 'sprout': 6130, 'sprouts': 6131, 'spyware': 6132, 'square': 6133, 'squeeze': 6134, 'squid': 6135, 'ssambap': 6136, 'ssamjang': 6137, 'st': 6138, 'stable': 6139, 'stacking': 6140, 'staff': 6141, 'staffs': 6142, 'stage': 6143, 'stages': 6144, 'staggered': 6145, 'stainless': 6146, 'stake': 6147, 'stalls': 6148, 'stand': 6149, 'standard': 6150, 'standards': 6151, 'standing': 6152, 'stands': 6153, 'star': 6154, 'starch': 6155, 'starred': 6156, 'stars': 6157, 'start': 6158, 'started': 6159, 'starters': 6160, 'starting': 6161, 'starts': 6162, 'startup': 6163, 'startups': 6164, 'state': 6165, 'stated': 6166, 'statement': 6167, 'statements': 6168, 'states': 6169, 'static': 6170, 'station': 6171, 'stationary': 6172, 'stationed': 6173, 'stations': 6174, 'statistics': 6175, 'statue': 6176, 'status': 6177, 'stay': 6178, 'stayed': 6179, 'staying': 6180, 'stays': 6181, 'steadier': 6182, 'steady': 6183, 'steak': 6184, 'steal': 6185, 'steamed': 6186, 'steamers': 6187, 'steel': 6188, 'steering': 6189, 'stems': 6190, 'step': 6191, 'stepped': 6192, 'steps': 6193, 'sterilizers': 6194, 'stew': 6195, 'stick': 6196, 'sticker': 6197, 'stickers': 6198, 'sticky': 6199, 'still': 6200, 'stipulated': 6201, 'stir': 6202, 'stitches': 6203, 'stock': 6204, 'stockbroker': 6205, 'stocks': 6206, 'stolen': 6207, 'stones': 6208, 'stop': 6209, 'stoppers': 6210, 'stops': 6211, 'storage': 6212, 'store': 6213, 'stored': 6214, 'stores': 6215, 'storey': 6216, 'stories': 6217, 'storm': 6218, 'story': 6219, 'stoves': 6220, 'straight': 6221, 'straighten': 6222, 'strain': 6223, 'strands': 6224, 'strange': 6225, 'strategic': 6226, 'strategies': 6227, 'strategize': 6228, 'strategy': 6229, 'straw': 6230, 'stream': 6231, 'streamed': 6232, 'streaming': 6233, 'street': 6234, 'strength': 6235, 'strengthen': 6236, 'stress': 6237, 'strict': 6238, 'strictly': 6239, 'strictness': 6240, 'strips': 6241, 'strive': 6242, 'striving': 6243, 'stroganoff': 6244, 'strong': 6245, 'stronger': 6246, 'strongly': 6247, 'structure': 6248, 'structures': 6249, 'struggle': 6250, 'stub': 6251, 'stuck': 6252, 'student': 6253, 'students': 6254, 'studied': 6255, 'studies': 6256, 'studio': 6257, 'study': 6258, 'studying': 6259, 'stuff': 6260, 'stumped': 6261, 'stunning': 6262, 'stupendous': 6263, 'stuttering': 6264, 'style': 6265, 'subcription': 6266, 'subdivision': 6267, 'submersible': 6268, 'submission': 6269, 'submissions': 6270, 'submit': 6271, 'submitted': 6272, 'subscribe': 6273, 'subscribed': 6274, 'subscriber': 6275, 'subscribers': 6276, 'subscribing': 6277, 'subscription': 6278, 'subscriptions': 6279, 'subsidiaries': 6280, 'subsidiary': 6281, 'substantial': 6282, 'subtitles': 6283, 'subway': 6284, 'succeed': 6285, 'succeeded': 6286, 'success': 6287, 'successful': 6288, 'succinctly': 6289, 'such': 6290, 'suction': 6291, 'sudden': 6292, 'suddenly': 6293, 'suffer': 6294, 'suffered': 6295, 'suffice': 6296, 'sufficient': 6297, 'sugar': 6298, 'suggest': 6299, 'suggested': 6300, 'suggesting': 6301, 'suggestion': 6302, 'suggestions': 6303, 'suit': 6304, 'suitable': 6305, 'suite': 6306, 'suites': 6307, 'sujeonggwa': 6308, 'sukju': 6309, 'sum': 6310, 'summary': 6311, 'summer': 6312, 'sun': 6313, 'sunrise': 6314, 'superintendent': 6315, 'superiors': 6316, 'supermarket': 6317, 'supervisor': 6318, 'supervisory': 6319, 'supplements': 6320, 'supplied': 6321, 'supplier': 6322, 'suppliers': 6323, 'supplies': 6324, 'supply': 6325, 'supplying': 6326, 'support': 6327, 'supporters': 6328, 'supporting': 6329, 'supportive': 6330, 'suppose': 6331, 'supposed': 6332, 'sure': 6333, 'surely': 6334, 'surface': 6335, 'surge': 6336, 'surpass': 6337, 'surplus': 6338, 'surprise': 6339, 'surprised': 6340, 'surround': 6341, 'surveillance': 6342, 'survey': 6343, 'surveyed': 6344, 'suspect': 6345, 'suspicious': 6346, 'sustainable': 6347, 'sweat': 6348, 'sweet': 6349, 'sweets': 6350, 'swift': 6351, 'swiftly': 6352, 'swimming': 6353, 'switch': 6354, 'switched': 6355, 'switching': 6356, 'symbols': 6357, 'symmetric': 6358, 'syndicated': 6359, 'synopsis': 6360, 'synthesizing': 6361, 'synthetic': 6362, 'syringes': 6363, 'system': 6364, 'systems': 6365, 't': 6366, 'tab': 6367, 'table': 6368, 'tables': 6369, 'tablet': 6370, 'tablets': 6371, 'tabulate': 6372, 'tackled': 6373, 'tactics': 6374, 'tagline': 6375, 'tags': 6376, 'tainted': 6377, 'take': 6378, 'taken': 6379, 'takeover': 6380, 'taker': 6381, 'takes': 6382, 'taking': 6383, 'talent': 6384, 'talents': 6385, 'talk': 6386, 'talked': 6387, 'talking': 6388, 'talks': 6389, 'tap': 6390, 'tape': 6391, 'taps': 6392, 'target': 6393, 'targeted': 6394, 'targeting': 6395, 'targets': 6396, 'tariff': 6397, 'tariffs': 6398, 'task': 6399, 'tasked': 6400, 'tasks': 6401, 'taste': 6402, 'tasted': 6403, 'tastes': 6404, 'tasty': 6405, 'tattoo': 6406, 'taught': 6407, 'tax': 6408, 'taxation': 6409, 'taxed': 6410, 'taxes': 6411, 'tea': 6412, 'teach': 6413, 'teacher': 6414, 'teachers': 6415, 'teaching': 6416, 'team': 6417, 'teammates': 6418, 'teams': 6419, 'teas': 6420, 'teaser': 6421, 'tech': 6422, 'technical': 6423, 'technically': 6424, 'technician': 6425, 'technicians': 6426, 'techniques': 6427, 'technological': 6428, 'technologies': 6429, 'technologist': 6430, 'technology': 6431, 'tedious': 6432, 'teenagers': 6433, 'telecommunication': 6434, 'telecommunications': 6435, 'teleconference': 6436, 'telephone': 6437, 'television': 6438, 'televisions': 6439, 'tell': 6440, 'telling': 6441, 'temperature': 6442, 'temperatures': 6443, 'template': 6444, 'templates': 6445, 'temple': 6446, 'temples': 6447, 'temporarily': 6448, 'temporary': 6449, 'ten': 6450, 'tenants': 6451, 'tend': 6452, 'tendency': 6453, 'tender': 6454, 'tent': 6455, 'tentative': 6456, 'tents': 6457, 'tenure': 6458, 'terabyte': 6459, 'terabytes': 6460, 'term': 6461, 'terminal': 6462, 'terminate': 6463, 'terms': 6464, 'terrace': 6465, 'terrible': 6466, 'terribly': 6467, 'test': 6468, 'tested': 6469, 'tester': 6470, 'testers': 6471, 'testing': 6472, 'tests': 6473, 'text': 6474, 'textbook': 6475, 'textbooks': 6476, 'textile': 6477, 'textiles': 6478, 'texts': 6479, 'texture': 6480, 'textures': 6481, 'th': 6482, 'than': 6483, 'thank': 6484, 'thanks': 6485, 'that': 6486, 'the': 6487, 'theater': 6488, 'their': 6489, 'theirs': 6490, 'them': 6491, 'theme': 6492, 'themes': 6493, 'themselves': 6494, 'then': 6495, 'therapy': 6496, 'there': 6497, 'thereby': 6498, 'therefore': 6499, 'thermoforming': 6500, 'thermoplastic': 6501, 'thermostat': 6502, 'these': 6503, 'they': 6504, 'thick': 6505, 'thickened': 6506, 'thin': 6507, 'thing': 6508, 'things': 6509, 'think': 6510, 'thinking': 6511, 'thinks': 6512, 'third': 6513, 'this': 6514, 'thorough': 6515, 'thoroughly': 6516, 'those': 6517, 'though': 6518, 'thought': 6519, 'thoughts': 6520, 'thousand': 6521, 'thousands': 6522, 'threads': 6523, 'threat': 6524, 'threaten': 6525, 'threatening': 6526, 'three': 6527, 'thriller': 6528, 'thrives': 6529, 'through': 6530, 'throughout': 6531, 'thus': 6532, 'ticket': 6533, 'tickets': 6534, 'tie': 6535, 'tied': 6536, 'tier': 6537, 'tight': 6538, 'tightly': 6539, 'till': 6540, 'time': 6541, 'timeline': 6542, 'timelines': 6543, 'timely': 6544, 'timer': 6545, 'times': 6546, 'timespan': 6547, 'timetable': 6548, 'timing': 6549, 'tiny': 6550, 'tip': 6551, 'tipping': 6552, 'tips': 6553, 'tire': 6554, 'tissue': 6555, 'title': 6556, 'to': 6557, 'toast': 6558, 'toasters': 6559, 'tobacco': 6560, 'today': 6561, 'toddlers': 6562, 'toe': 6563, 'together': 6564, 'toilet': 6565, 'token': 6566, 'tokens': 6567, 'told': 6568, 'tolerant': 6569, 'tolerated': 6570, 'tomorrow': 6571, 'ton': 6572, 'tone': 6573, 'toner': 6574, 'tones': 6575, 'tonight': 6576, 'too': 6577, 'took': 6578, 'tool': 6579, 'tools': 6580, 'top': 6581, 'topic': 6582, 'topics': 6583, 'topmost': 6584, 'torn': 6585, 'tortilla': 6586, 'total': 6587, 'totally': 6588, 'touch': 6589, 'touchscreen': 6590, 'tough': 6591, 'tour': 6592, 'tourism': 6593, 'tourist': 6594, 'tourists': 6595, 'tours': 6596, 'tow': 6597, 'toward': 6598, 'towards': 6599, 'towel': 6600, 'towels': 6601, 'town': 6602, 'townhouse': 6603, 'track': 6604, 'trackballs': 6605, 'tracking': 6606, 'trackpad': 6607, 'tractor': 6608, 'trade': 6609, 'trademark': 6610, 'trader': 6611, 'trades': 6612, 'trading': 6613, 'traditional': 6614, 'traditionally': 6615, 'traditions': 6616, 'traffic': 6617, 'trailer': 6618, 'trailers': 6619, 'train': 6620, 'training': 6621, 'trainings': 6622, 'trains': 6623, 'tranche': 6624, 'transact': 6625, 'transaction': 6626, 'transactions': 6627, 'transfer': 6628, 'transferred': 6629, 'transferring': 6630, 'transfers': 6631, 'translations': 6632, 'translators': 6633, 'transmission': 6634, 'transmit': 6635, 'transmitted': 6636, 'transparency': 6637, 'transport': 6638, 'transportation': 6639, 'transportations': 6640, 'trash': 6641, 'travel': 6642, 'traveled': 6643, 'travelers': 6644, 'traveling': 6645, 'travelled': 6646, 'tread': 6647, 'treat': 6648, 'treated': 6649, 'treatment': 6650, 'treatments': 6651, 'tremendously': 6652, 'trend': 6653, 'trending': 6654, 'trends': 6655, 'trendy': 6656, 'tri': 6657, 'trial': 6658, 'trials': 6659, 'tricky': 6660, 'tried': 6661, 'tries': 6662, 'trigger': 6663, 'trip': 6664, 'triple': 6665, 'trips': 6666, 'trouble': 6667, 'troubles': 6668, 'troubleshooting': 6669, 'truck': 6670, 'trucks': 6671, 'true': 6672, 'truly': 6673, 'trust': 6674, 'trusted': 6675, 'trustee': 6676, 'trusting': 6677, 'trustworthy': 6678, 'truth': 6679, 'try': 6680, 'trying': 6681, 'tteokbokki': 6682, 'tub': 6683, 'tube': 6684, 'tubes': 6685, 'tubing': 6686, 'tubs': 6687, 'tuned': 6688, 'tunnels': 6689, 'turn': 6690, 'turnaround': 6691, 'turned': 6692, 'turning': 6693, 'turnkey': 6694, 'turns': 6695, 'tutorials': 6696, 'tweaks': 6697, 'twenty': 6698, 'twice': 6699, 'twin': 6700, 'two': 6701, 'type': 6702, 'types': 6703, 'typewriter': 6704, 'typical': 6705, 'typically': 6706, 'ultimately': 6707, 'ultrasonic': 6708, 'ultrasound': 6709, 'umbrella': 6710, 'unable': 6711, 'unacceptable': 6712, 'unauthorized': 6713, 'unavailable': 6714, 'unaware': 6715, 'unboxed': 6716, 'unboxing': 6717, 'unbreakable': 6718, 'unchanged': 6719, 'uncomfortable': 6720, 'under': 6721, 'undergoing': 6722, 'underlying': 6723, 'underneath': 6724, 'underreported': 6725, 'understaffed': 6726, 'understand': 6727, 'understandable': 6728, 'understanding': 6729, 'undervalued': 6730, 'underwriting': 6731, 'undoubtedly': 6732, 'undress': 6733, 'unemployed': 6734, 'unending': 6735, 'unequal': 6736, 'unexpected': 6737, 'unfair': 6738, 'unfamiliar': 6739, 'unfold': 6740, 'unforeseen': 6741, 'unfortunate': 6742, 'unfortunately': 6743, 'unhappy': 6744, 'unintentional': 6745, 'unique': 6746, 'unit': 6747, 'units': 6748, 'unity': 6749, 'universal': 6750, 'universities': 6751, 'university': 6752, 'unless': 6753, 'unlike': 6754, 'unlimited': 6755, 'unloading': 6756, 'unnecessary': 6757, 'unpleasant': 6758, 'unpredictable': 6759, 'unprofessional': 6760, 'unquantifiable': 6761, 'unrealized': 6762, 'unsecured': 6763, 'unstable': 6764, 'unsure': 6765, 'unsustainable': 6766, 'until': 6767, 'untouched': 6768, 'unused': 6769, 'up': 6770, 'upcoming': 6771, 'update': 6772, 'updated': 6773, 'updates': 6774, 'updating': 6775, 'upfront': 6776, 'upgrade': 6777, 'upgraded': 6778, 'upgrades': 6779, 'upgrading': 6780, 'upkeep': 6781, 'upload': 6782, 'uploaded': 6783, 'uploading': 6784, 'upon': 6785, 'upper': 6786, 'ups': 6787, 'upset': 6788, 'urge': 6789, 'urged': 6790, 'urgent': 6791, 'urgently': 6792, 'us': 6793, 'usability': 6794, 'usage': 6795, 'use': 6796, 'used': 6797, 'useful': 6798, 'user': 6799, 'users': 6800, 'uses': 6801, 'using': 6802, 'usual': 6803, 'usually': 6804, 'utensils': 6805, 'utilities': 6806, 'utility': 6807, 'utilize': 6808, 'utilized': 6809, 'utilizing': 6810, 'vacation': 6811, 'vaccination': 6812, 'vaccine': 6813, 'vacuum': 6814, 'valid': 6815, 'validates': 6816, 'validating': 6817, 'validity': 6818, 'valuable': 6819, 'valuables': 6820, 'value': 6821, 'values': 6822, 'valve': 6823, 'valves': 6824, 'van': 6825, 'vans': 6826, 'variable': 6827, 'variables': 6828, 'variation': 6829, 'varies': 6830, 'varieties': 6831, 'variety': 6832, 'various': 6833, 'vary': 6834, 'varying': 6835, 've': 6836, 'vector': 6837, 'vectors': 6838, 'vegan': 6839, 'vegetable': 6840, 'vegetables': 6841, 'vegetarian': 6842, 'veggies': 6843, 'vehicle': 6844, 'vehicles': 6845, 'vending': 6846, 'vendor': 6847, 'vendors': 6848, 'venture': 6849, 'ventures': 6850, 'venturi': 6851, 'venturing': 6852, 'venue': 6853, 'verification': 6854, 'verified': 6855, 'verify': 6856, 'versatile': 6857, 'version': 6858, 'versions': 6859, 'very': 6860, 'veteran': 6861, 'via': 6862, 'viable': 6863, 'viand': 6864, 'vibes': 6865, 'vibrations': 6866, 'victim': 6867, 'vide': 6868, 'video': 6869, 'videoconferencing': 6870, 'videos': 6871, 'view': 6872, 'viewers': 6873, 'views': 6874, 'villa': 6875, 'village': 6876, 'villas': 6877, 'vine': 6878, 'vinegar': 6879, 'vintage': 6880, 'violated': 6881, 'violation': 6882, 'violent': 6883, 'viral': 6884, 'virtual': 6885, 'virtualization': 6886, 'virtually': 6887, 'virus': 6888, 'viruses': 6889, 'visas': 6890, 'viscosity': 6891, 'visibility': 6892, 'visible': 6893, 'vision': 6894, 'visit': 6895, 'visited': 6896, 'visiting': 6897, 'visitors': 6898, 'visits': 6899, 'visual': 6900, 'visualization': 6901, 'visualizations': 6902, 'visualize': 6903, 'visually': 6904, 'visuals': 6905, 'vital': 6906, 'vitals': 6907, 'vlog': 6908, 'vocabulary': 6909, 'voice': 6910, 'volatile': 6911, 'volume': 6912, 'voluminous': 6913, 'vulnerable': 6914, 'wafer': 6915, 'wage': 6916, 'wages': 6917, 'wait': 6918, 'waited': 6919, 'waiters': 6920, 'waiting': 6921, 'waive': 6922, 'waived': 6923, 'wake': 6924, 'walk': 6925, 'walking': 6926, 'wallet': 6927, 'wallpapers': 6928, 'walls': 6929, 'want': 6930, 'wanted': 6931, 'wanting': 6932, 'wants': 6933, 'warehouse': 6934, 'warm': 6935, 'warn': 6936, 'warning': 6937, 'warping': 6938, 'warrant': 6939, 'warrants': 6940, 'warranty': 6941, 'wary': 6942, 'was': 6943, 'washer': 6944, 'washers': 6945, 'wasn': 6946, 'waste': 6947, 'wasting': 6948, 'watch': 6949, 'watched': 6950, 'watching': 6951, 'water': 6952, 'watering': 6953, 'watermelon': 6954, 'waterproof': 6955, 'waterways': 6956, 'watts': 6957, 'way': 6958, 'ways': 6959, 'we': 6960, 'wealth': 6961, 'wealthy': 6962, 'wear': 6963, 'weather': 6964, 'web': 6965, 'webinar': 6966, 'webinars': 6967, 'webpage': 6968, 'website': 6969, 'websites': 6970, 'wedding': 6971, 'weddings': 6972, 'week': 6973, 'weekdays': 6974, 'weekend': 6975, 'weekends': 6976, 'weekly': 6977, 'weeks': 6978, 'weight': 6979, 'welcome': 6980, 'welcomes': 6981, 'well': 6982, 'went': 6983, 'were': 6984, 'weren': 6985, 'west': 6986, 'western': 6987, 'what': 6988, 'whatever': 6989, 'wheat': 6990, 'wheel': 6991, 'wheels': 6992, 'when': 6993, 'whenever': 6994, 'where': 6995, 'whereabouts': 6996, 'wherever': 6997, 'whether': 6998, 'which': 6999, 'while': 7000, 'white': 7001, 'who': 7002, 'whoever': 7003, 'whole': 7004, 'wholesale': 7005, 'whom': 7006, 'whose': 7007, 'why': 7008, 'wide': 7009, 'widely': 7010, 'widened': 7011, 'wider': 7012, 'widest': 7013, 'wife': 7014, 'wild': 7015, 'wildlife': 7016, 'will': 7017, 'willing': 7018, 'win': 7019, 'wind': 7020, 'window': 7021, 'windows': 7022, 'wine': 7023, 'wines': 7024, 'wing': 7025, 'winner': 7026, 'winter': 7027, 'wipe': 7028, 'wire': 7029, 'wired': 7030, 'wireless': 7031, 'wires': 7032, 'wise': 7033, 'wisely': 7034, 'wish': 7035, 'wished': 7036, 'wishes': 7037, 'with': 7038, 'withdraw': 7039, 'withdrawal': 7040, 'withhold': 7041, 'within': 7042, 'without': 7043, 'witness': 7044, 'women': 7045, 'won': 7046, 'wonder': 7047, 'wonderful': 7048, 'wondering': 7049, 'wonders': 7050, 'wood': 7051, 'word': 7052, 'words': 7053, 'work': 7054, 'worked': 7055, 'worker': 7056, 'workers': 7057, 'workforce': 7058, 'working': 7059, 'workplace': 7060, 'works': 7061, 'workshop': 7062, 'world': 7063, 'worldwide': 7064, 'worm': 7065, 'worms': 7066, 'worried': 7067, 'worries': 7068, 'worry': 7069, 'worrying': 7070, 'worse': 7071, 'worst': 7072, 'worth': 7073, 'worthwhile': 7074, 'worthy': 7075, 'would': 7076, 'wouldn': 7077, 'wow': 7078, 'wrap': 7079, 'wrapping': 7080, 'wraps': 7081, 'write': 7082, 'writers': 7083, 'writing': 7084, 'written': 7085, 'wrong': 7086, 'yacht': 7087, 'yang': 7088, 'yard': 7089, 'yarn': 7090, 'year': 7091, 'yearly': 7092, 'years': 7093, 'yell': 7094, 'yellow': 7095, 'yen': 7096, 'yes': 7097, 'yesterday': 7098, 'yet': 7099, 'yield': 7100, 'yields': 7101, 'yin': 7102, 'yo': 7103, 'you': 7104, 'young': 7105, 'youngsters': 7106, 'your': 7107, 'yours': 7108, 'yourself': 7109, 'yourselves': 7110, 'youth': 7111, 'yurt': 7112, 'zero': 7113, 'zones': 7114, 'zoom': 7115, 'é': 7116}\n",
            "{'!': 1, '\"': 2, '$10,000': 3, '$10,000만': 4, '$100': 5, '$100,000': 6, '$120': 7, '$20': 8, '$21': 9, '$5': 10, '$50,000': 11, '$500,000': 12, '$6,000': 13, \"'\": 14, '(': 15, ')': 16, ',': 17, '-': 18, '.': 19, '0': 20, '0.006': 21, '0.2': 22, '0.26%': 23, '0.5%': 24, '0.95%': 25, '0000000': 26, '1': 27, '1%': 28, '1,000': 29, '1,000,000원': 30, '1,000달러': 31, '1,000만': 32, '1,000원': 33, '1,200달러': 34, '1,250,000원': 35, '1,500': 36, '1,500달러': 37, '1,700,000원': 38, '1.50%': 39, '10': 40, '10%': 41, '10,000': 42, '10,000달러': 43, '10.9%': 44, '100': 45, '100%': 46, '100,000달러': 47, '1000': 48, '1000만': 49, '1000억원': 50, '100달러': 51, '100만': 52, '100만달러': 53, '100만원': 54, '10~14일': 55, '10년': 56, '10달러': 57, '10만': 58, '10분': 59, '10시': 60, '10월': 61, '10일': 62, '10초': 63, '11': 64, '1100': 65, '11시': 66, '11월': 67, '11일': 68, '12': 69, '12%': 70, '12.99달러': 71, '1200만': 72, '123': 73, '123-456': 74, '1234': 75, '1234-5678': 76, '123456': 77, '1234567': 78, '12345678': 79, '123456789': 80, '123546789': 81, '125달러': 82, '128': 83, '12년': 84, '12월': 85, '12일': 86, '13': 87, '135': 88, '13일': 89, '140,000원': 90, '140달러': 91, '142': 92, '144': 93, '14일': 94, '15': 95, '15%': 96, '15,000': 97, '15,000달러': 98, '150': 99, '150달러': 100, '15~20': 101, '15년': 102, '15달러': 103, '15만': 104, '15분': 105, '15일': 106, '16': 107, '1600만': 108, '16달러': 109, '16일': 110, '17일': 111, '18': 112, '18,000,000,000원': 113, '18일': 114, '19': 115, '1952년': 116, '19일': 117, '1:1': 118, '1~2년': 119, '1년': 120, '1분': 121, '1시': 122, '1시간': 123, '1억': 124, '1억원': 125, '1월': 126, '1일': 127, '2': 128, '2%': 129, '2,000,000달러': 130, '2,000달러': 131, '2,500달러': 132, '2,500만': 133, '2-4': 134, '2.5%': 135, '20': 136, '20%': 137, '20,000,000원': 138, '20,000달러': 139, '200': 140, '2000년': 141, '2000달러': 142, '2002년': 143, '200569978005': 144, '200달러': 145, '200만': 146, '2019년': 147, '2021': 148, '2021년': 149, '2022년': 150, '2070만': 151, '20년': 152, '20달러': 153, '20분': 154, '20일': 155, '21일': 156, '22달러': 157, '22일': 158, '23일': 159, '24시간': 160, '25': 161, '25%': 162, '2500달러': 163, '250달러': 164, '25년': 165, '25달러': 166, '25만': 167, '25분': 168, '27일': 169, '280': 170, '2929달러': 171, '29일': 172, '2~3': 173, '2년': 174, '2달러': 175, '2만': 176, '2분': 177, '2시': 178, '2시간': 179, '2월': 180, '2일': 181, '2천만': 182, '3': 183, '3%': 184, '3,000': 185, '3,000달러': 186, '3,500': 187, '3,500달러': 188, '3-5시간': 189, '3-7': 190, '3.5%': 191, '30': 192, '300': 193, '3000': 194, '3000달러': 195, '300달러': 196, '30년': 197, '30분': 198, '30시간': 199, '30일': 200, '30회': 201, '31': 202, '31일': 203, '320달러': 204, '34.5': 205, '350': 206, '35년': 207, '365일': 208, '370': 209, '3~4': 210, '3~4일': 211, '3~5%': 212, '3~5일': 213, '3년': 214, '3시': 215, '3시간': 216, '3월': 217, '3일': 218, '3천': 219, '4': 220, '4%': 221, '4,000달러': 222, '4.99달러': 223, '40': 224, '40%': 225, '40,000달러': 226, '4000': 227, '400달러': 228, '404': 229, '40만': 230, '40분': 231, '40초': 232, '420': 233, '45.5': 234, '450': 235, '45만': 236, '45분': 237, '475달러': 238, '48시간': 239, '4달러': 240, '4시': 241, '4시간': 242, '4월': 243, '4일': 244, '5': 245, '5%': 246, '5,200': 247, '5.0': 248, '50': 249, '50%': 250, '50,000,000': 251, '50,000,000달러': 252, '50,000달러': 253, '50-60%': 254, '500': 255, '500,000': 256, '500,000원': 257, '500달러': 258, '500만': 259, '500만원': 260, '50달러': 261, '50만': 262, '50분': 263, '50억': 264, '51.5': 265, '52': 266, '55,000원': 267, '550': 268, '550달러': 269, '58,000,000달러': 270, '5900달러': 271, '5년': 272, '5달러': 273, '5만': 274, '5분': 275, '5시': 276, '5월': 277, '5일': 278, '6': 279, '6%': 280, '6.4': 281, '60': 282, '600만': 283, '60~90분': 284, '60만': 285, '60일': 286, '60초': 287, '63': 288, '6시': 289, '6월': 290, '6일': 291, '7': 292, '7%': 293, '7,000달러': 294, '7,200': 295, '70': 296, '700달러': 297, '70달러': 298, '72': 299, '75%': 300, '750': 301, '7500': 302, '7500만원': 303, '750달러': 304, '7~10일': 305, '7~8시간': 306, '7시': 307, '7월': 308, '7일': 309, '8': 310, '8%': 311, '8,000달러': 312, '8,400달러': 313, '80%': 314, '800': 315, '80달러': 316, '8~9': 317, '8달러': 318, '8만': 319, '8시': 320, '8월': 321, '8일': 322, '8회': 323, '9': 324, '9,500달러': 325, '9.99달러': 326, '900달러': 327, '90만': 328, '90분': 329, '93': 330, '99%': 331, '9:16': 332, '9만': 333, '9시': 334, '9월': 335, '9일': 336, ';': 337, '<EOS>': 338, '<SOS>': 339, '?': 340, '?\"': 341, 'A': 342, 'AAA': 343, 'AAA1@BBB1.com': 344, 'AAA@BBB.com': 345, 'ABCDE': 346, 'AI': 347, 'ANR': 348, 'ATM': 349, 'Associates': 350, 'B': 351, 'BBB': 352, 'BBB@email.com': 353, 'BSE': 354, 'Bank': 355, 'C': 356, 'CCTV': 357, 'CEO': 358, 'CFM': 359, 'CMS': 360, 'COVID': 361, 'CSS': 362, 'CT': 363, 'Company': 364, 'Corporation': 365, 'D': 366, 'DCA': 367, 'DVR': 368, 'Drive': 369, 'E': 370, 'EOB': 371, 'EPP': 372, 'ESG': 373, 'ETF': 374, 'EVA': 375, 'Enter': 376, 'Expo': 377, 'FFF': 378, 'FFFF': 379, 'FOMO': 380, 'Fair': 381, 'Fi': 382, 'Food': 383, 'Fu': 384, 'G': 385, 'GB': 386, 'GPS': 387, 'GVWR': 388, 'HDD': 389, 'HTML': 390, 'ID': 391, 'IP': 392, 'IPO': 393, 'IT': 394, 'IVR': 395, 'IaaS': 396, 'International': 397, 'IoT': 398, 'JLPT': 399, 'K': 400, 'Kabsat': 401, 'Korea': 402, 'LED': 403, 'Limited': 404, 'Locust': 405, 'M': 406, 'MAR': 407, 'MMS': 408, 'MOU': 409, 'Medical': 410, 'NFT': 411, 'NI': 412, 'NSE': 413, 'NTFS': 414, 'PDA': 415, 'PDF': 416, 'PPE': 417, 'PRO': 418, 'PSA': 419, 'PVP': 420, 'Precision': 421, 'Private': 422, 'QR': 423, 'RAM': 424, 'ROI': 425, 'RV': 426, 'SD': 427, 'SEO': 428, 'SIM': 429, 'SKU': 430, 'SNS': 431, 'SPV': 432, 'SSD': 433, 'SSL': 434, 'Salalah': 435, 'South': 436, 'TPU': 437, 'TV': 438, 'Touch': 439, 'UI': 440, 'UN': 441, 'USB': 442, 'VC': 443, 'VIP': 444, 'VPN': 445, 'VR': 446, 'VVIP': 447, 'View': 448, 'WIFI': 449, 'WTO': 450, 'Web': 451, 'Wi': 452, 'by': 453, 'car': 454, 'cm': 455, 'demat': 456, 'e': 457, 'found': 458, 'km': 459, 'm': 460, 'mm': 461, 'mmHg': 462, 'not': 463, 'pdf': 464, 'x': 465, '㎡': 466, '가': 467, '가게': 468, '가격': 469, '가격표': 470, '가공': 471, '가교': 472, '가구': 473, '가급적': 474, '가기': 475, '가까워지다': 476, '가까이': 477, '가깝다': 478, '가꾸다': 479, '가끔': 480, '가능': 481, '가능성': 482, '가능하다': 483, '가다': 484, '가닥': 485, '가득': 486, '가득하다': 487, '가든': 488, '가령': 489, '가로': 490, '가르다': 491, '가르치다': 492, '가리키다': 493, '가면': 494, '가미': 495, '가변': 496, '가볍다': 497, '가보다': 498, '가상': 499, '가상화': 500, '가세': 501, '가소성': 502, '가솔린': 503, '가스': 504, '가스나': 505, '가스레인지': 506, '가슴': 507, '가시': 508, '가야': 509, '가열': 510, '가옥': 511, '가요': 512, '가용성': 513, '가을': 514, '가의': 515, '가이드': 516, '가이드북': 517, '가입': 518, '가입자': 519, '가장': 520, '가전': 521, '가전제품': 522, '가정': 523, '가정식': 524, '가젯': 525, '가져가다': 526, '가져다주다': 527, '가져오다': 528, '가족': 529, '가지': 530, '가지다': 531, '가차': 532, '가치': 533, '가판': 534, '각': 535, '각각': 536, '각국': 537, '각도': 538, '각본': 539, '각서': 540, '각자': 541, '각종': 542, '간': 543, '간격': 544, '간결하다': 545, '간과': 546, '간극': 547, '간단하다': 548, '간략하다': 549, '간사': 550, '간은': 551, '간의': 552, '간이며': 553, '간장': 554, '간접비': 555, '간주': 556, '간행물': 557, '간호사': 558, '갇히다': 559, '갈다': 560, '갈래': 561, '갈비': 562, '갈아타다': 563, '감': 564, '감당': 565, '감독': 566, '감동': 567, '감명': 568, '감사': 569, '감사하다': 570, '감소': 571, '감수': 572, '감시': 573, '감싸다': 574, '감안': 575, '감염': 576, '감정': 577, '감지': 578, '갑자기': 579, '갑작스럽다': 580, '값': 581, '갓': 582, '강남': 583, '강남역': 584, '강도': 585, '강력하다': 586, '강릉': 587, '강세': 588, '강아지': 589, '강연': 590, '강의': 591, '강의실': 592, '강점': 593, '강제': 594, '강조': 595, '강좌': 596, '강철': 597, '강하다': 598, '강화하다': 599, '갖다': 600, '갖추다': 601, '같다': 602, '같이': 603, '갚다': 604, '개': 605, '개구': 606, '개국': 607, '개념': 608, '개다': 609, '개도': 610, '개발': 611, '개발자': 612, '개방': 613, '개별': 614, '개봉': 615, '개선': 616, '개설': 617, '개시': 618, '개업': 619, '개요': 620, '개월': 621, '개월치': 622, '개인': 623, '개인실': 624, '개인정보': 625, '개인화': 626, '개입': 627, '개정': 628, '개조': 629, '개척': 630, '개체': 631, '개최': 632, '개회': 633, '객': 634, '객관': 635, '객실': 636, '갱신': 637, '거': 638, '거고': 639, '거기': 640, '거나': 641, '거대하다': 642, '거도': 643, '거들다': 644, '거뜬하다': 645, '거란': 646, '거래': 647, '거래소': 648, '거래처': 649, '거론': 650, '거리': 651, '거버넌스': 652, '거부': 653, '거셨나': 654, '거슬러': 655, '거신': 656, '거실': 657, '거야': 658, '거의': 659, '거절': 660, '거점': 661, '거주': 662, '거주지': 663, '거처': 664, '거치다': 665, '거품': 666, '걱정': 667, '걱정거리': 668, '건': 669, '건가': 670, '건강': 671, '건강하다': 672, '건너다': 673, '건너편': 674, '건네주다': 675, '건대': 676, '건데': 677, '건물': 678, '건배': 679, '건설': 680, '건설업': 681, '건의': 682, '건조기': 683, '건지다': 684, '건축': 685, '건축물': 686, '걸': 687, '걸다': 688, '걸리다': 689, '걸음걸이': 690, '걸쭉하다': 691, '걸치다': 692, '검': 693, '검다': 694, '검사': 695, '검색': 696, '검수': 697, '검안': 698, '검은색': 699, '검증': 700, '검토': 701, '겁': 702, '겁니다': 703, '것': 704, '것이므': 705, '것입': 706, '게': 707, '게다가': 708, '게스트': 709, '게스트하우스': 710, '게시': 711, '게시판': 712, '게으르다': 713, '게이': 714, '게이트': 715, '게임': 716, '게장': 717, '게재': 718, '겠다': 719, '겨울': 720, '겨울철': 721, '격려': 722, '격식': 723, '격자': 724, '겪다': 725, '견과류': 726, '견본': 727, '견인차': 728, '견적': 729, '견학': 730, '결과': 731, '결국': 732, '결기': 733, '결론': 734, '결절': 735, '결정': 736, '결제': 737, '결코': 738, '결함': 739, '결합': 740, '결혼': 741, '결혼식': 742, '경': 743, '경고': 744, '경과': 745, '경기도': 746, '경량': 747, '경력': 748, '경로': 749, '경보': 750, '경비원': 751, '경시': 752, '경영': 753, '경우': 754, '경의': 755, '경작': 756, '경쟁': 757, '경쟁력': 758, '경쟁자': 759, '경제': 760, '경청': 761, '경치': 762, '경품': 763, '경향': 764, '경험': 765, '곁들이다': 766, '계': 767, '계란': 768, '계란빵': 769, '계란찜': 770, '계산': 771, '계산서': 772, '계세': 773, '계속': 774, '계시': 775, '계시다': 776, '계약': 777, '계약금': 778, '계약서': 779, '계열': 780, '계절': 781, '계정': 782, '계정은': 783, '계좌': 784, '계층': 785, '계획': 786, '고': 787, '고가': 788, '고개': 789, '고객': 790, '고구마': 791, '고귀하다': 792, '고급': 793, '고급스럽다': 794, '고기': 795, '고대': 796, '고도': 797, '고등어': 798, '고려': 799, '고려인삼': 800, '고르다': 801, '고맙다': 802, '고문': 803, '고민': 804, '고소하다': 805, '고속': 806, '고압': 807, '고양이': 808, '고여': 809, '고요': 810, '고용': 811, '고용주': 812, '고위': 813, '고유': 814, '고장': 815, '고정': 816, '고정기': 817, '고집': 818, '고추장': 819, '고치다': 820, '고통': 821, '고프다': 822, '고향': 823, '고화질': 824, '곡': 825, '곡물': 826, '곤경': 827, '곤혹': 828, '곧': 829, '곧다': 830, '골드': 831, '골프': 832, '곰팡이': 833, '곱': 834, '곳': 835, '곳곳': 836, '곳도': 837, '공': 838, '공간': 839, '공감': 840, '공개': 841, '공격': 842, '공공': 843, '공과금': 844, '공급': 845, '공기': 846, '공기업': 847, '공동': 848, '공동체': 849, '공략': 850, '공모': 851, '공백': 852, '공부': 853, '공사': 854, '공식': 855, '공압': 856, '공연': 857, '공용': 858, '공유': 859, '공인': 860, '공자': 861, '공장': 862, '공정': 863, '공정하다': 864, '공제': 865, '공지': 866, '공짜': 867, '공통': 868, '공통점': 869, '공학': 870, '공함': 871, '공항': 872, '과': 873, '과감': 874, '과거': 875, '과대': 876, '과세': 877, '과소': 878, '과실': 879, '과업': 880, '과의': 881, '과일': 882, '과자': 883, '과장': 884, '과정': 885, '과제': 886, '과학': 887, '과학자': 888, '관': 889, '관계': 890, '관계없이': 891, '관광': 892, '관광객': 893, '관광지': 894, '관대하다': 895, '관련': 896, '관리': 897, '관리자': 898, '관세': 899, '관세청': 900, '관습': 901, '관심': 902, '관심사': 903, '관용': 904, '관점': 905, '관찰': 906, '관할': 907, '관해': 908, '관행': 909, '괌': 910, '광': 911, '광고': 912, '광대역': 913, '광도': 914, '광범위하다': 915, '광석': 916, '광택': 917, '괜': 918, '괜찮다': 919, '괴롭히다': 920, '굉장하다': 921, '교대': 922, '교류': 923, '교사': 924, '교수': 925, '교실': 926, '교육': 927, '교재': 928, '교직원': 929, '교체': 930, '교통': 931, '교환': 932, '교환학생': 933, '교훈': 934, '구': 935, '구가': 936, '구경': 937, '구독': 938, '구독료': 939, '구동': 940, '구름': 941, '구매': 942, '구별': 943, '구비': 944, '구상': 945, '구석구석': 946, '구성': 947, '구역': 948, '구이': 949, '구입': 950, '구절판': 951, '구조': 952, '구조원': 953, '구체': 954, '구축': 955, '구축함': 956, '구현': 957, '구형': 958, '국': 959, '국가': 960, '국경': 961, '국내': 962, '국내선': 963, '국내외': 964, '국물': 965, '국법': 966, '국수': 967, '국적': 968, '국제': 969, '국제공항': 970, '국한': 971, '군': 972, '군데': 973, '굴삭기': 974, '굴착기': 975, '굵다': 976, '굽다': 977, '궁궐': 978, '궁극': 979, '궁금하다': 980, '권': 981, '권리': 982, '권장': 983, '권하다': 984, '권한': 985, '귀': 986, '귀국': 987, '귀사': 988, '귀중': 989, '귀중하다': 990, '귀하': 991, '귀하다': 992, '규모': 993, '규정': 994, '규제': 995, '규칙': 996, '균열': 997, '균형': 998, '그': 999, '그거': 1000, '그건': 1001, '그걸': 1002, '그걿': 1003, '그것': 1004, '그게': 1005, '그날': 1006, '그냥': 1007, '그녀': 1008, '그늘': 1009, '그다음': 1010, '그대로': 1011, '그동안': 1012, '그때': 1013, '그땐': 1014, '그라브락스': 1015, '그래도': 1016, '그래서': 1017, '그래프': 1018, '그래픽': 1019, '그랬는데': 1020, '그랬더니': 1021, '그러나': 1022, '그러니까': 1023, '그러면': 1024, '그러므로': 1025, '그러하다': 1026, '그런': 1027, '그런데': 1028, '그렇게': 1029, '그렇다': 1030, '그렇다고': 1031, '그렇지만': 1032, '그룹': 1033, '그릇': 1034, '그리고': 1035, '그리다': 1036, '그리스': 1037, '그린': 1038, '그릴': 1039, '그림': 1040, '그만하다': 1041, '그저': 1042, '그중': 1043, '극구': 1044, '극복': 1045, '극장': 1046, '극적': 1047, '근거': 1048, '근데': 1049, '근로자': 1050, '근무': 1051, '근원': 1052, '근접하다': 1053, '근처': 1054, '글': 1055, '글꼴': 1056, '글로벌': 1057, '글루텐': 1058, '글쎄': 1059, '글쎄요': 1060, '글씨': 1061, '금': 1062, '금기': 1063, '금년': 1064, '금리': 1065, '금색': 1066, '금속': 1067, '금액': 1068, '금요일': 1069, '금융': 1070, '금융감독원': 1071, '금은': 1072, '금전': 1073, '금제': 1074, '금지': 1075, '급': 1076, '급등': 1077, '급성': 1078, '급여': 1079, '급우': 1080, '급증': 1081, '급하다': 1082, '긍정': 1083, '기': 1084, '기가바이트': 1085, '기간': 1086, '기계': 1087, '기공식': 1088, '기관': 1089, '기구': 1090, '기금': 1091, '기기': 1092, '기꺼이': 1093, '기념': 1094, '기념일': 1095, '기능': 1096, '기다': 1097, '기다리다': 1098, '기대': 1099, '기대하다': 1100, '기도': 1101, '기둥': 1102, '기록': 1103, '기르다': 1104, '기밀': 1105, '기반': 1106, '기본': 1107, '기부': 1108, '기분': 1109, '기쁘다': 1110, '기사': 1111, '기숙사': 1112, '기술': 1113, '기술자': 1114, '기어': 1115, '기억': 1116, '기억나다': 1117, '기업': 1118, '기업가': 1119, '기업은행': 1120, '기업인': 1121, '기에': 1122, '기여': 1123, '기온': 1124, '기와': 1125, '기울이다': 1126, '기원': 1127, '기입': 1128, '기자': 1129, '기재': 1130, '기적': 1131, '기존': 1132, '기준': 1133, '기중기': 1134, '기차': 1135, '기차역': 1136, '기차표': 1137, '기초': 1138, '기타': 1139, '기표': 1140, '기한': 1141, '기호': 1142, '기혼': 1143, '기회': 1144, '기획': 1145, '기후변화': 1146, '긴급': 1147, '긴급하다': 1148, '긴밀하다': 1149, '길': 1150, '길다': 1151, '길어지다': 1152, '길이': 1153, '김': 1154, '김밥': 1155, '김치': 1156, '김치볶음밥': 1157, '깊다': 1158, '깊이': 1159, '까다롭다': 1160, '까맣다': 1161, '까지': 1162, '까지는': 1163, '까지로': 1164, '까지만': 1165, '까지의': 1166, '깔끔하다': 1167, '깔리다': 1168, '깜박이다': 1169, '깜빡': 1170, '깜짝': 1171, '깨끗하다': 1172, '깨다': 1173, '깨우치다': 1174, '깨지다': 1175, '깻잎': 1176, '꺼내다': 1177, '꺼지다': 1178, '께': 1179, '께서': 1180, '께서는': 1181, '꼭': 1182, '꼼꼼하다': 1183, '꽉': 1184, '꽤': 1185, '꾸미다': 1186, '꾸준하다': 1187, '꿀': 1188, '꿈': 1189, '꿰매다': 1190, '끄다': 1191, '끊다': 1192, '끌': 1193, '끌다': 1194, '끌리다': 1195, '끓는점': 1196, '끓다': 1197, '끓이다': 1198, '끔찍하다': 1199, '끝': 1200, '끝나다': 1201, '끝내기': 1202, '끝내다': 1203, '끼치다': 1204, '나': 1205, '나가다': 1206, '나나': 1207, '나누다': 1208, '나뉘다': 1209, '나다': 1210, '나라': 1211, '나르다': 1212, '나머지': 1213, '나무': 1214, '나빠지다': 1215, '나쁘다': 1216, '나사': 1217, '나서다': 1218, '나아': 1219, '나아가다': 1220, '나아지다': 1221, '나열': 1222, '나오다': 1223, '나은': 1224, '나은지': 1225, '나이': 1226, '나이라': 1227, '나이지리아': 1228, '나이트클럽': 1229, '나일론': 1230, '나중': 1231, '나타나다': 1232, '나타내다': 1233, '나흘': 1234, '난': 1235, '난방': 1236, '난이도': 1237, '날': 1238, '날리다': 1239, '날씨': 1240, '날아가다': 1241, '날짜': 1242, '날카로워지다': 1243, '남기다': 1244, '남다': 1245, '남동쪽': 1246, '남미': 1247, '남성': 1248, '남아': 1249, '남아시아': 1250, '남용': 1251, '남지': 1252, '남편': 1253, '납부': 1254, '납품': 1255, '낫': 1256, '낫다': 1257, '낭비': 1258, '낭비하다': 1259, '낮다': 1260, '낮아지다': 1261, '낮잠': 1262, '낮추다': 1263, '낯설다': 1264, '내': 1265, '내기': 1266, '내내': 1267, '내년': 1268, '내놓다': 1269, '내다': 1270, '내려가다': 1271, '내려오다': 1272, '내리다': 1273, '내면': 1274, '내미다': 1275, '내부': 1276, '내시': 1277, '내야': 1278, '내연': 1279, '내용': 1280, '내일': 1281, '내장': 1282, '내주다': 1283, '내지': 1284, '낸싱': 1285, '낼': 1286, '냄비': 1287, '냅킨': 1288, '냉각': 1289, '냉동고': 1290, '냉면': 1291, '냉장': 1292, '너': 1293, '너무': 1294, '너무나': 1295, '너무하다': 1296, '너비': 1297, '너희': 1298, '널': 1299, '널리': 1300, '넓다': 1301, '넓히다': 1302, '넘기다': 1303, '넘다': 1304, '넘버': 1305, '넘어가다': 1306, '넘어서다': 1307, '넘어지다': 1308, '넘치다': 1309, '넣기': 1310, '넣다': 1311, '네': 1312, '네가지': 1313, '네트워크': 1314, '네트워킹': 1315, '넷째': 1316, '년': 1317, '노': 1318, '노고': 1319, '노동자': 1320, '노란색': 1321, '노래': 1322, '노래방': 1323, '노력': 1324, '노인': 1325, '노점': 1326, '노출': 1327, '노트북': 1328, '노프': 1329, '녹색': 1330, '녹음': 1331, '녹이다': 1332, '녹차': 1333, '녹화': 1334, '논란': 1335, '논문': 1336, '논의': 1337, '논픽션': 1338, '놀': 1339, '놀라다': 1340, '놀랍다': 1341, '놀이터': 1342, '농': 1343, '농기': 1344, '농기구': 1345, '농담': 1346, '농부': 1347, '농어': 1348, '농업': 1349, '농작물': 1350, '높다': 1351, '높아지다': 1352, '높이': 1353, '높이다': 1354, '놓다': 1355, '놓이다': 1356, '놓치다': 1357, '뇌파': 1358, '누가': 1359, '누구': 1360, '누구신지': 1361, '누군가': 1362, '누군지': 1363, '누락': 1364, '누르다': 1365, '누리': 1366, '누리다': 1367, '누수': 1368, '눈': 1369, '눌릴': 1370, '뉴스': 1371, '뉴스레터': 1372, '뉴욕': 1373, '뉴질랜드': 1374, '느껴지다': 1375, '느끼다': 1376, '느낌': 1377, '느리다': 1378, '느슨하다': 1379, '는': 1380, '늘': 1381, '늘다': 1382, '늘리다': 1383, '늘어나다': 1384, '늙다': 1385, '능력': 1386, '늦': 1387, '늦다': 1388, '늦어지다': 1389, '니': 1390, '니까': 1391, '님': 1392, '다': 1393, '다가': 1394, '다가가다': 1395, '다가오다': 1396, '다국적': 1397, '다녀오다': 1398, '다년': 1399, '다니다': 1400, '다단계': 1401, '다도': 1402, '다듬다': 1403, '다량': 1404, '다루다': 1405, '다루어지다': 1406, '다르다': 1407, '다른': 1408, '다리미': 1409, '다만': 1410, '다섯': 1411, '다섯째': 1412, '다소': 1413, '다시': 1414, '다시다': 1415, '다양성': 1416, '다양하다': 1417, '다용': 1418, '다운': 1419, '다운로드': 1420, '다음': 1421, '다음주': 1422, '다이닝': 1423, '다인': 1424, '다채로웠으': 1425, '다큐멘터리': 1426, '다해': 1427, '다행': 1428, '다행하다': 1429, '단': 1430, '단가': 1431, '단거리': 1432, '단계': 1433, '단골': 1434, '단기': 1435, '단기간': 1436, '단단하다': 1437, '단독': 1438, '단돈': 1439, '단말기': 1440, '단백질': 1441, '단순하다': 1442, '단어': 1443, '단열': 1444, '단위': 1445, '단일': 1446, '단점': 1447, '단정하다': 1448, '단지': 1449, '단체': 1450, '단편': 1451, '단합': 1452, '닫다': 1453, '달': 1454, '달다': 1455, '달라': 1456, '달라지다': 1457, '달러': 1458, '달리': 1459, '달리다': 1460, '달성': 1461, '달이': 1462, '달콤하다': 1463, '닭': 1464, '닭고기': 1465, '닭발': 1466, '담': 1467, '담그다': 1468, '담기다': 1469, '담다': 1470, '담당': 1471, '담당자': 1472, '담배': 1473, '담백하다': 1474, '담보': 1475, '답': 1476, '답니': 1477, '답답하다': 1478, '답변': 1479, '답장': 1480, '답지': 1481, '당': 1482, '당국': 1483, '당근': 1484, '당분간': 1485, '당사': 1486, '당사자': 1487, '당시': 1488, '당신': 1489, '당연하다': 1490, '당일': 1491, '당장': 1492, '당하다': 1493, '당황': 1494, '대': 1495, '대가': 1496, '대고': 1497, '대구': 1498, '대규모': 1499, '대금': 1500, '대기': 1501, '대기업': 1502, '대나무': 1503, '대다': 1504, '대다수': 1505, '대단하다': 1506, '대답': 1507, '대략': 1508, '대량': 1509, '대로': 1510, '대륙': 1511, '대리인': 1512, '대리점': 1513, '대만': 1514, '대박': 1515, '대본': 1516, '대부분': 1517, '대비': 1518, '대상': 1519, '대상자': 1520, '대신': 1521, '대안': 1522, '대야': 1523, '대여': 1524, '대역': 1525, '대역폭': 1526, '대요': 1527, '대유행': 1528, '대응': 1529, '대의': 1530, '대입': 1531, '대적': 1532, '대접': 1533, '대중': 1534, '대지': 1535, '대책': 1536, '대처': 1537, '대체': 1538, '대출': 1539, '대출받다': 1540, '대충': 1541, '대치': 1542, '대칭': 1543, '대통령': 1544, '대폭': 1545, '대표': 1546, '대피소': 1547, '대학': 1548, '대학교': 1549, '대한': 1550, '대한민국': 1551, '대해': 1552, '대행': 1553, '대형': 1554, '대화': 1555, '댓글': 1556, '더': 1557, '더듬다': 1558, '더디다': 1559, '더라도': 1560, '더블': 1561, '더욱': 1562, '더위': 1563, '더하다': 1564, '덕분': 1565, '덜': 1566, '덜다': 1567, '덤프': 1568, '덤프트럭': 1569, '덥다': 1570, '덧붙이다': 1571, '덩굴': 1572, '데': 1573, '데도': 1574, '데려가다': 1575, '데려오다': 1576, '데리': 1577, '데리다': 1578, '데모': 1579, '데뷔': 1580, '데스크': 1581, '데스크탑': 1582, '데우다': 1583, '데이터': 1584, '데이터베이스': 1585, '데이트': 1586, '데코': 1587, '데크': 1588, '덴마크': 1589, '도': 1590, '도구': 1591, '도넛': 1592, '도달': 1593, '도대체': 1594, '도로': 1595, '도록': 1596, '도르다': 1597, '도매': 1598, '도메인': 1599, '도서관': 1600, '도시': 1601, '도시락': 1602, '도안': 1603, '도어': 1604, '도와주다': 1605, '도용': 1606, '도우': 1607, '도우미': 1608, '도울': 1609, '도움': 1610, '도움말': 1611, '도입': 1612, '도전': 1613, '도착': 1614, '도체': 1615, '도쿄': 1616, '독립': 1617, '독방': 1618, '독일': 1619, '독자': 1620, '독점': 1621, '독촉': 1622, '독특하다': 1623, '돈': 1624, '돈벌이': 1625, '돋보이다': 1626, '돌려주다': 1627, '돌리다': 1628, '돌보다': 1629, '돌아가다': 1630, '돌아오다': 1631, '돌잔치': 1632, '돌파': 1633, '돔': 1634, '돕기': 1635, '돕다': 1636, '동': 1637, '동감': 1638, '동거': 1639, '동기': 1640, '동남아시아': 1641, '동네': 1642, '동등': 1643, '동료': 1644, '동물': 1645, '동물성': 1646, '동반': 1647, '동부': 1648, '동생': 1649, '동시': 1650, '동안': 1651, '동양': 1652, '동영상': 1653, '동의': 1654, '동인': 1655, '동일': 1656, '동일시': 1657, '동일하다': 1658, '동전': 1659, '동참': 1660, '동행': 1661, '동향': 1662, '돼다': 1663, '돼지': 1664, '돼지고기': 1665, '되게': 1666, '되다': 1667, '되돌리다': 1668, '되어다': 1669, '되찾다': 1670, '두': 1671, '두기': 1672, '두껍다': 1673, '두다': 1674, '두드리다': 1675, '두렵다': 1676, '두시': 1677, '두운': 1678, '둘': 1679, '둘러보다': 1680, '둘러싸다': 1681, '둘째': 1682, '뒤': 1683, '뒷': 1684, '뒷마당': 1685, '뒷받침': 1686, '듀얼': 1687, '드': 1688, '드나': 1689, '드디어': 1690, '드라마': 1691, '드라이브': 1692, '드러나다': 1693, '드럼': 1694, '드레스': 1695, '드레싱': 1696, '드로잉': 1697, '드리다': 1698, '드릴': 1699, '든': 1700, '든지': 1701, '듣기': 1702, '듣다': 1703, '들': 1704, '들다': 1705, '들뜨다': 1706, '들려주다': 1707, '들르다': 1708, '들리다': 1709, '들어가다': 1710, '들어서다': 1711, '들어오다': 1712, '들어주다': 1713, '들이다': 1714, '듭': 1715, '듭니': 1716, '등': 1717, '등급': 1718, '등등': 1719, '등록': 1720, '등록증': 1721, '등본': 1722, '등장': 1723, '디네': 1724, '디럭스': 1725, '디바이스': 1726, '디스크': 1727, '디스플레이': 1728, '디시': 1729, '디자이너': 1730, '디자인': 1731, '디저스터': 1732, '디저트': 1733, '디젤': 1734, '디지털': 1735, '디지털로': 1736, '딜러': 1737, '딥': 1738, '딩기': 1739, '따내다': 1740, '따뜻하다': 1741, '따라가다': 1742, '따라서': 1743, '따라오다': 1744, '따로': 1745, '따르다': 1746, '딱': 1747, '딱이다': 1748, '딸리다': 1749, '땀': 1750, '때': 1751, '때때로': 1752, '때로는': 1753, '때문': 1754, '떠나다': 1755, '떠오르다': 1756, '떡': 1757, '떡볶이': 1758, '떨다': 1759, '떨어뜨리다': 1760, '떨어지다': 1761, '또': 1762, '또는': 1763, '또래': 1764, '또한': 1765, '똑같다': 1766, '똑똑하다': 1767, '똑바로': 1768, '뚜렷하다': 1769, '뛰어나다': 1770, '뛰어들다': 1771, '뜨개질': 1772, '뜨다': 1773, '뜰': 1774, '뜻': 1775, '뜻입': 1776, '띄다': 1777, '라': 1778, '라고': 1779, '라는': 1780, '라도': 1781, '라디오': 1782, '라면': 1783, '라발': 1784, '라서': 1785, '라우터': 1786, '라운드': 1787, '라운지': 1788, '라이': 1789, '라이브': 1790, '라이브러리': 1791, '라이선스': 1792, '라이센스': 1793, '라이트': 1794, '라이트닝': 1795, '라이프스타일': 1796, '라인': 1797, '라인업': 1798, '란': 1799, '랍니': 1800, '랑': 1801, '래': 1802, '래야': 1803, '랙티브': 1804, '랜드': 1805, '랩': 1806, '랩톱': 1807, '량': 1808, '러': 1809, '러너': 1810, '러닝': 1811, '러시': 1812, '럭셔리': 1813, '런가': 1814, '런던': 1815, '런칭': 1816, '레드': 1817, '레벨': 1818, '레스토랑': 1819, '레시피': 1820, '레어': 1821, '레이': 1822, '레이블': 1823, '레이아웃': 1824, '레인': 1825, '레지스트리': 1826, '레코드': 1827, '레크리에이션': 1828, '레터': 1829, '렌더링': 1830, '렌즈': 1831, '렌탈': 1832, '렌터카': 1833, '렌틸': 1834, '려고': 1835, '려면': 1836, '력': 1837, '령': 1838, '로': 1839, '로고': 1840, '로그': 1841, '로그아웃': 1842, '로그온': 1843, '로그인': 1844, '로는': 1845, '로더': 1846, '로드': 1847, '로드맵': 1848, '로만': 1849, '로봇': 1850, '로부터': 1851, '로비': 1852, '로서': 1853, '로열티': 1854, '로터리': 1855, '로트': 1856, '록': 1857, '론': 1858, '론칭': 1859, '롤': 1860, '롤러': 1861, '롤플레잉': 1862, '롭': 1863, '롭고': 1864, '료': 1865, '루프': 1866, '룸': 1867, '룸메이트': 1868, '룸서비스': 1869, '룸셰어': 1870, '륜': 1871, '률': 1872, '를': 1873, '리': 1874, '리가': 1875, '리기': 1876, '리뉴얼': 1877, '리더': 1878, '리드': 1879, '리디렉션': 1880, '리버풀': 1881, '리뷰': 1882, '리셉션': 1883, '리소스': 1884, '리스크': 1885, '리스트': 1886, '리조트': 1887, '리지': 1888, '리캐': 1889, '리커버리': 1890, '리테일': 1891, '리퍼': 1892, '리프트': 1893, '리허설': 1894, '린다': 1895, '릴': 1896, '링': 1897, '링스': 1898, '링크': 1899, '마': 1900, '마감': 1901, '마개': 1902, '마늘': 1903, '마닐라': 1904, '마다': 1905, '마당': 1906, '마드리드': 1907, '마땅치': 1908, '마력': 1909, '마련': 1910, '마리': 1911, '마무리': 1912, '마법': 1913, '마사지': 1914, '마스코트': 1915, '마스크': 1916, '마스터': 1917, '마시기': 1918, '마시다': 1919, '마우스': 1920, '마을': 1921, '마음': 1922, '마이너스': 1923, '마이크': 1924, '마인더': 1925, '마인드': 1926, '마중': 1927, '마지막': 1928, '마차': 1929, '마찬가지': 1930, '마치다': 1931, '마침': 1932, '마침내': 1933, '마케터': 1934, '마케터입니': 1935, '마케팅': 1936, '마포구': 1937, '막': 1938, '막걸리': 1939, '막다': 1940, '막대': 1941, '막히다': 1942, '만': 1943, '만기': 1944, '만기일': 1945, '만나다': 1946, '만난': 1947, '만날': 1948, '만도': 1949, '만두': 1950, '만드나': 1951, '만들기': 1952, '만들다': 1953, '만들어지다': 1954, '만듭니': 1955, '만료': 1956, '만약': 1957, '만에': 1958, '만으로': 1959, '만으로는': 1960, '만으로도': 1961, '만을': 1962, '만의': 1963, '만이': 1964, '만일': 1965, '만족': 1966, '만족스럽다': 1967, '만족하다': 1968, '만찬': 1969, '만큼': 1970, '만화': 1971, '만회': 1972, '많다': 1973, '많아지다': 1974, '많이': 1975, '말': 1976, '말고': 1977, '말고는': 1978, '말고도': 1979, '말다': 1980, '말레이시아': 1981, '말씀': 1982, '말씀드리다': 1983, '맙소사': 1984, '맛': 1985, '맛보다': 1986, '맛있다': 1987, '맛집': 1988, '맜있는': 1989, '망치다': 1990, '맞다': 1991, '맞서다': 1992, '맞추다': 1993, '맞춤': 1994, '맡기다': 1995, '맡다': 1996, '매': 1997, '매각': 1998, '매끄럽다': 1999, '매너': 2000, '매년': 2001, '매니저': 2002, '매다': 2003, '매달': 2004, '매도': 2005, '매력': 2006, '매료': 2007, '매매': 2008, '매물': 2009, '매번': 2010, '매수': 2011, '매우': 2012, '매월': 2013, '매일': 2014, '매입': 2015, '매장': 2016, '매점': 2017, '매주': 2018, '매진': 2019, '매체': 2020, '매출': 2021, '매치': 2022, '매크로': 2023, '매트': 2024, '매트리스': 2025, '매핑': 2026, '맥락': 2027, '맥주': 2028, '맨': 2029, '맬웨어': 2030, '맵': 2031, '맵다': 2032, '맵핑': 2033, '맺다': 2034, '머': 2035, '머드': 2036, '머리': 2037, '머무르다': 2038, '머물다': 2039, '머신': 2040, '먹기': 2041, '먹다': 2042, '먹방': 2043, '먹이': 2044, '먼저': 2045, '먼지': 2046, '멀다': 2047, '멀리': 2048, '멈추다': 2049, '멋지다': 2050, '멎다': 2051, '메가바이트': 2052, '메가비트': 2053, '메뉴': 2054, '메뉴판': 2055, '메모': 2056, '메시': 2057, '메시지': 2058, '메이커': 2059, '메이크업': 2060, '메인': 2061, '메일': 2062, '메커니즘': 2063, '메타': 2064, '멜론': 2065, '멤버': 2066, '멤버십': 2067, '며': 2068, '며칠': 2069, '면': 2070, '면역': 2071, '면적': 2072, '면접': 2073, '면제': 2074, '면직물': 2075, '면책': 2076, '면허': 2077, '면허증': 2078, '명': 2079, '명과': 2080, '명당': 2081, '명령': 2082, '명백하다': 2083, '명분': 2084, '명상': 2085, '명세서': 2086, '명시': 2087, '명의': 2088, '명인': 2089, '명칭': 2090, '명품': 2091, '명함': 2092, '명확하다': 2093, '몇': 2094, '몇대': 2095, '몇몇': 2096, '모': 2097, '모국': 2098, '모국어': 2099, '모금': 2100, '모기': 2101, '모기지': 2102, '모기지론': 2103, '모니터': 2104, '모니터링': 2105, '모델': 2106, '모뎀': 2107, '모두': 2108, '모듈': 2109, '모드': 2110, '모든': 2111, '모레': 2112, '모르다': 2113, '모르타르': 2114, '모바일': 2115, '모범': 2116, '모색': 2117, '모서리': 2118, '모습': 2119, '모시': 2120, '모시다': 2121, '모양': 2122, '모욕': 2123, '모으다': 2124, '모의고사': 2125, '모이다': 2126, '모임': 2127, '모자': 2128, '모터': 2129, '모터보트': 2130, '모텔': 2131, '모티브': 2132, '모험': 2133, '모형': 2134, '목걸이': 2135, '목격': 2136, '목록': 2137, '목별': 2138, '목소리': 2139, '목요일': 2140, '목욕': 2141, '목욕탕': 2142, '목적': 2143, '목적지': 2144, '목표': 2145, '몫': 2146, '몬순': 2147, '몰다': 2148, '몰두하다': 2149, '몰이': 2150, '몸': 2151, '못': 2152, '묘목': 2153, '무': 2154, '무겁다': 2155, '무게': 2156, '무너지다': 2157, '무늬': 2158, '무대': 2159, '무드': 2160, '무례하다': 2161, '무료': 2162, '무리': 2163, '무사하다': 2164, '무선': 2165, '무섭다': 2166, '무슨': 2167, '무시': 2168, '무언가': 2169, '무엇': 2170, '무역': 2171, '무역수지': 2172, '무용': 2173, '무의미하다': 2174, '무작위': 2175, '무제한': 2176, '무중력': 2177, '무지': 2178, '묵': 2179, '묵고': 2180, '묵다': 2181, '묵시': 2182, '묶음': 2183, '문': 2184, '문득': 2185, '문법': 2186, '문서': 2187, '문신': 2188, '문의': 2189, '문의사항': 2190, '문자': 2191, '문제': 2192, '문제점': 2193, '문하': 2194, '문화': 2195, '묻다': 2196, '물': 2197, '물가상승률': 2198, '물건': 2199, '물고기': 2200, '물다': 2201, '물론': 2202, '물류': 2203, '물리': 2204, '물속': 2205, '물어보다': 2206, '물의': 2207, '물이': 2208, '물질': 2209, '물체': 2210, '물품': 2211, '뭐': 2212, '뭐라다': 2213, '뭔': 2214, '뭔가': 2215, '뭘': 2216, '뮤직': 2217, '뮤추얼': 2218, '므': 2219, '미결': 2220, '미국': 2221, '미국법': 2222, '미끼': 2223, '미납': 2224, '미니': 2225, '미니멀리즘': 2226, '미니바': 2227, '미디어': 2228, '미디엄': 2229, '미래': 2230, '미리': 2231, '미만': 2232, '미세하다': 2233, '미수': 2234, '미슐랭': 2235, '미스': 2236, '미안하다': 2237, '미약': 2238, '미얀마': 2239, '미용': 2240, '미적': 2241, '미지': 2242, '미치나': 2243, '미치다': 2244, '미터': 2245, '미팅': 2246, '미혼': 2247, '믹서': 2248, '민간': 2249, '민물': 2250, '민원': 2251, '민팅': 2252, '믿다': 2253, '밀가루': 2254, '밀고': 2255, '밀다': 2256, '밀레': 2257, '밀리다': 2258, '밀크티숍': 2259, '밀회': 2260, '밉다': 2261, '및': 2262, '밑': 2263, '바': 2264, '바꾸다': 2265, '바뀌다': 2266, '바나나': 2267, '바늘': 2268, '바다': 2269, '바닥': 2270, '바닥나다': 2271, '바닷물': 2272, '바디': 2273, '바라다': 2274, '바라보다': 2275, '바라지': 2276, '바람': 2277, '바람직하다': 2278, '바램': 2279, '바로': 2280, '바르다': 2281, '바베이도스': 2282, '바베큐': 2283, '바비큐': 2284, '바쁘다': 2285, '바위': 2286, '바이': 2287, '바이러스': 2288, '바이오': 2289, '바이트': 2290, '바치다': 2291, '바퀴': 2292, '바탕': 2293, '박': 2294, '박람회': 2295, '박물관': 2296, '박사': 2297, '박스': 2298, '밖': 2299, '밖에': 2300, '반': 2301, '반갑다': 2302, '반기다': 2303, '반납': 2304, '반년': 2305, '반대': 2306, '반대편': 2307, '반도체': 2308, '반드시': 2309, '반려': 2310, '반려견': 2311, '반려동물': 2312, '반면': 2313, '반영': 2314, '반응': 2315, '반찬': 2316, '반품': 2317, '받다': 2318, '받아들이다': 2319, '발견': 2320, '발급': 2321, '발끝': 2322, '발복': 2323, '발생': 2324, '발송': 2325, '발신': 2326, '발자국': 2327, '발전': 2328, '발주': 2329, '발표': 2330, '발행': 2331, '발효': 2332, '발휘': 2333, '밝혀내다': 2334, '밝혀지다': 2335, '밟다': 2336, '밤': 2337, '밤낮': 2338, '밤늦다': 2339, '밤새다': 2340, '밥': 2341, '밥그릇': 2342, '밧줄': 2343, '방': 2344, '방과': 2345, '방금': 2346, '방대하다': 2347, '방문': 2348, '방문객': 2349, '방법': 2350, '방사성': 2351, '방송': 2352, '방송국': 2353, '방수': 2354, '방식': 2355, '방안': 2356, '방어': 2357, '방이': 2358, '방적': 2359, '방적기': 2360, '방지': 2361, '방출': 2362, '방침': 2363, '방해': 2364, '방향': 2365, '방화벽': 2366, '밭': 2367, '배': 2368, '배경': 2369, '배경음악': 2370, '배너': 2371, '배다': 2372, '배달': 2373, '배당금': 2374, '배려': 2375, '배분': 2376, '배색': 2377, '배송': 2378, '배송비': 2379, '배송지': 2380, '배수': 2381, '배우': 2382, '배우다': 2383, '배우자': 2384, '배움': 2385, '배정': 2386, '배출': 2387, '배치': 2388, '배터리': 2389, '배포': 2390, '백': 2391, '백만': 2392, '백신': 2393, '백업': 2394, '백엔드': 2395, '밴드': 2396, '밸브': 2397, '뱅크': 2398, '뱅킹': 2399, '버': 2400, '버그': 2401, '버너': 2402, '버네': 2403, '버는': 2404, '버드': 2405, '버리다': 2406, '버블': 2407, '버스': 2408, '버스정류장': 2409, '버전': 2410, '버터플라이': 2411, '버튼': 2412, '번': 2413, '번가': 2414, '번거롭다': 2415, '번식': 2416, '번역': 2417, '번역가': 2418, '번의': 2419, '번지': 2420, '번째': 2421, '번창': 2422, '번호': 2423, '벌': 2424, '벌다': 2425, '벌써': 2426, '벌어지다': 2427, '벌이': 2428, '범': 2429, '범위': 2430, '범인': 2431, '범죄': 2432, '범죄자': 2433, '범주': 2434, '법': 2435, '법률': 2436, '법원': 2437, '법인': 2438, '법인세': 2439, '법적': 2440, '법정': 2441, '벗다': 2442, '벗어나다': 2443, '베네수엘라': 2444, '베다': 2445, '베벨': 2446, '베스트셀러': 2447, '베어링': 2448, '베이스': 2449, '베타': 2450, '베테': 2451, '베트남': 2452, '벡터': 2453, '벤딩': 2454, '벤처캐피털': 2455, '벤츄리': 2456, '벤치': 2457, '벨': 2458, '벨트': 2459, '벽': 2460, '벽난로': 2461, '벽지': 2462, '변경': 2463, '변동': 2464, '변동성': 2465, '변명': 2466, '변속기': 2467, '변수': 2468, '변하다': 2469, '변호사': 2470, '변화': 2471, '변환': 2472, '별': 2473, '별관': 2474, '별도': 2475, '별로': 2476, '별장': 2477, '병': 2478, '병동': 2479, '병원': 2480, '병합': 2481, '보': 2482, '보건': 2483, '보고': 2484, '보고서': 2485, '보관': 2486, '보기': 2487, '보내다': 2488, '보내오다': 2489, '보다': 2490, '보다는': 2491, '보다도': 2492, '보도': 2493, '보드': 2494, '보람': 2495, '보류': 2496, '보물': 2497, '보살피다': 2498, '보상': 2499, '보수': 2500, '보시': 2501, '보쌈': 2502, '보안': 2503, '보여주다': 2504, '보유': 2505, '보이': 2506, '보이다': 2507, '보이지': 2508, '보장': 2509, '보조': 2510, '보존': 2511, '보증': 2512, '보증금': 2513, '보증인': 2514, '보지': 2515, '보철물': 2516, '보청기': 2517, '보통': 2518, '보트': 2519, '보행': 2520, '보험': 2521, '보험금': 2522, '보험료': 2523, '보험사': 2524, '보헤미안': 2525, '보호': 2526, '보호복': 2527, '복': 2528, '복구': 2529, '복사기': 2530, '복원': 2531, '복잡하다': 2532, '복장': 2533, '복판': 2534, '복호화': 2535, '볶음': 2536, '볶음밥': 2537, '본': 2538, '본드': 2539, '본론': 2540, '본부': 2541, '본사': 2542, '본인': 2543, '본체': 2544, '볼': 2545, '볼륨': 2546, '볼일': 2547, '봄판': 2548, '봇': 2549, '봉쇄': 2550, '뵈다': 2551, '뵙다': 2552, '부': 2553, '부과': 2554, '부금': 2555, '부끄럽다': 2556, '부다': 2557, '부담': 2558, '부당하다': 2559, '부대': 2560, '부동산': 2561, '부두': 2562, '부드럽다': 2563, '부딪치다': 2564, '부딪히다': 2565, '부로': 2566, '부록': 2567, '부르다': 2568, '부모': 2569, '부모님': 2570, '부문': 2571, '부분': 2572, '부산': 2573, '부상': 2574, '부서': 2575, '부속품': 2576, '부수': 2577, '부양가족': 2578, '부업': 2579, '부엌': 2580, '부여': 2581, '부위': 2582, '부유하다': 2583, '부응': 2584, '부의': 2585, '부인': 2586, '부자': 2587, '부작용': 2588, '부적': 2589, '부정': 2590, '부족': 2591, '부족하다': 2592, '부지': 2593, '부착': 2594, '부채': 2595, '부처': 2596, '부츠': 2597, '부침개': 2598, '부탁': 2599, '부탁드리다': 2600, '부터': 2601, '부팅': 2602, '부품': 2603, '부합': 2604, '부호화': 2605, '북': 2606, '북경어': 2607, '북미': 2608, '북부': 2609, '분': 2610, '분과': 2611, '분광': 2612, '분기': 2613, '분기점': 2614, '분당': 2615, '분들': 2616, '분류': 2617, '분리': 2618, '분명': 2619, '분명하다': 2620, '분사': 2621, '분산': 2622, '분석': 2623, '분쇄기': 2624, '분식점': 2625, '분실': 2626, '분야': 2627, '분위기': 2628, '분쟁': 2629, '분젠': 2630, '분지': 2631, '분포': 2632, '분할': 2633, '분해': 2634, '불': 2635, '불가능': 2636, '불가능하다': 2637, '불고기': 2638, '불과': 2639, '불과하다': 2640, '불교': 2641, '불구': 2642, '불규칙하다': 2643, '불금': 2644, '불다': 2645, '불당': 2646, '불도저': 2647, '불량': 2648, '불량품': 2649, '불러일으키다': 2650, '불리다': 2651, '불만': 2652, '불문': 2653, '불빛': 2654, '불안정하다': 2655, '불안하다': 2656, '불쾌하다': 2657, '불편': 2658, '불편하다': 2659, '불평': 2660, '불평등하다': 2661, '불필요하다': 2662, '불행하다': 2663, '붉은빛': 2664, '붐': 2665, '붕괴': 2666, '붕어빵': 2667, '붙다': 2668, '붙박다': 2669, '붙이다': 2670, '뷔페': 2671, '뷸': 2672, '브라우저': 2673, '브라우징': 2674, '브라질': 2675, '브랜드': 2676, '브랜딩': 2677, '브레이커': 2678, '브레이크': 2679, '브레인스토밍': 2680, '브로': 2681, '브로드밴드': 2682, '브로셔': 2683, '브로커': 2684, '브루나이': 2685, '브이': 2686, '블랙': 2687, '블레이드': 2688, '블렌드': 2689, '블렌딩': 2690, '블로그': 2691, '블록': 2692, '블루': 2693, '블루칩': 2694, '블룸': 2695, '비': 2696, '비간': 2697, '비건': 2698, '비계': 2699, '비공개': 2700, '비공식': 2701, '비교': 2702, '비누': 2703, '비다': 2704, '비도': 2705, '비디오': 2706, '비록': 2707, '비롯': 2708, '비료': 2709, '비밀': 2710, '비밀번호': 2711, '비빔냉면': 2712, '비빔밥': 2713, '비상': 2714, '비서': 2715, '비스킷': 2716, '비스트': 2717, '비슷하다': 2718, '비실': 2719, '비싸다': 2720, '비어': 2721, '비영리': 2722, '비용': 2723, '비우다': 2724, '비율': 2725, '비자': 2726, '비주': 2727, '비즈니스': 2728, '비축': 2729, '비커': 2730, '비트': 2731, '비트코인': 2732, '비평가': 2733, '비프': 2734, '비행': 2735, '비행기': 2736, '빅데이터': 2737, '빈': 2738, '빈방': 2739, '빈번': 2740, '빈손': 2741, '빈티': 2742, '빌드되': 2743, '빌딩': 2744, '빌라': 2745, '빌리다': 2746, '빌보드': 2747, '빌트': 2748, '빔': 2749, '빗': 2750, '빙': 2751, '빚': 2752, '빠듯': 2753, '빠듯합니': 2754, '빠르다': 2755, '빠지다': 2756, '빡빡': 2757, '빨간색': 2758, '빨갛다': 2759, '빨르다': 2760, '빨리': 2761, '빵': 2762, '빵집': 2763, '빼다': 2764, '뽑다': 2765, '뿌리': 2766, '뿐': 2767, '뿐이다': 2768, '삐었': 2769, '사': 2770, '사건': 2771, '사격': 2772, '사계절': 2773, '사고': 2774, '사과': 2775, '사기': 2776, '사기꾼': 2777, '사다': 2778, '사람': 2779, '사람과': 2780, '사랑': 2781, '사려': 2782, '사례': 2783, '사르다': 2784, '사면': 2785, '사명': 2786, '사모펀드': 2787, '사무': 2788, '사무기기': 2789, '사무소': 2790, '사무실': 2791, '사물': 2792, '사물인터넷': 2793, '사본': 2794, '사생활': 2795, '사서': 2796, '사소하다': 2797, '사시미': 2798, '사실': 2799, '사안': 2800, '사양': 2801, '사업': 2802, '사업가': 2803, '사업자': 2804, '사오다': 2805, '사옥': 2806, '사용': 2807, '사용성': 2808, '사용자': 2809, '사우나': 2810, '사운드': 2811, '사운드트랙': 2812, '사원': 2813, '사유': 2814, '사은': 2815, '사의': 2816, '사이': 2817, '사이드': 2818, '사이버': 2819, '사이일': 2820, '사이즈': 2821, '사이트': 2822, '사인': 2823, '사인회': 2824, '사장': 2825, '사전': 2826, '사주다': 2827, '사지': 2828, '사진': 2829, '사진사': 2830, '사진작가': 2831, '사찰': 2832, '사촌': 2833, '사출': 2834, '사탕': 2835, '사태': 2836, '사하다': 2837, '사항': 2838, '사회': 2839, '삭제': 2840, '산': 2841, '산나물': 2842, '산업': 2843, '산이': 2844, '산출': 2845, '살': 2846, '살균': 2847, '살기': 2848, '살다': 2849, '살이': 2850, '살펴보다': 2851, '삶': 2852, '삶다': 2853, '삼': 2854, '삼겹살': 2855, '삼고': 2856, '삽': 2857, '삽화가': 2858, '상': 2859, '상거래': 2860, '상관': 2861, '상관없다': 2862, '상급': 2863, '상기': 2864, '상단': 2865, '상담': 2866, '상당': 2867, '상당하다': 2868, '상대': 2869, '상대로': 2870, '상대방': 2871, '상무': 2872, '상사': 2873, '상상': 2874, '상상력': 2875, '상세': 2876, '상속': 2877, '상승': 2878, '상업': 2879, '상위': 2880, '상응': 2881, '상의': 2882, '상이': 2883, '상인': 2884, '상자': 2885, '상장': 2886, '상점': 2887, '상주': 2888, '상징': 2889, '상추': 2890, '상치': 2891, '상태': 2892, '상표': 2893, '상품': 2894, '상하': 2895, '상하이': 2896, '상호': 2897, '상환': 2898, '상황': 2899, '새': 2900, '새롭다': 2901, '새벽': 2902, '새우': 2903, '새틴': 2904, '새해': 2905, '색': 2906, '색상': 2907, '색인': 2908, '색조': 2909, '샌드위치': 2910, '샌프란시스코': 2911, '샐러드': 2912, '샘플': 2913, '샘플러': 2914, '샘플링': 2915, '생': 2916, '생각': 2917, '생각나다': 2918, '생강': 2919, '생기다': 2920, '생기지': 2921, '생동감': 2922, '생명': 2923, '생명보험': 2924, '생물': 2925, '생방송': 2926, '생산': 2927, '생산량': 2928, '생생하다': 2929, '생선': 2930, '생선전': 2931, '생소하다': 2932, '생신': 2933, '생이니': 2934, '생일': 2935, '생체': 2936, '생활': 2937, '생활용품': 2938, '샤워': 2939, '샤워실': 2940, '샤프트': 2941, '샴페인': 2942, '샴푸': 2943, '샵': 2944, '서': 2945, '서기': 2946, '서나': 2947, '서다': 2948, '서도': 2949, '서두르다': 2950, '서든': 2951, '서라운드': 2952, '서랍': 2953, '서로': 2954, '서류': 2955, '서면': 2956, '서명': 2957, '서버': 2958, '서버룸': 2959, '서브': 2960, '서비스': 2961, '서빙': 2962, '서울': 2963, '서재': 2964, '서점': 2965, '서지': 2966, '서쪽': 2967, '석가모니': 2968, '섞다': 2969, '선': 2970, '선구자': 2971, '선명하다': 2972, '선물': 2973, '선물거래': 2974, '선박': 2975, '선보이다': 2976, '선불': 2977, '선생님': 2978, '선적': 2979, '선정': 2980, '선착순': 2981, '선체': 2982, '선택': 2983, '선호': 2984, '설': 2985, '설계': 2986, '설득': 2987, '설렁탕': 2988, '설레다': 2989, '설립': 2990, '설명': 2991, '설문': 2992, '설문조사': 2993, '설문지': 2994, '설비': 2995, '설정': 2996, '설치': 2997, '설치다': 2998, '설탕': 2999, '섬광': 3000, '섬유': 3001, '섬유질': 3002, '성': 3003, '성가시다': 3004, '성격': 3005, '성공': 3006, '성공하다': 3007, '성과': 3008, '성능': 3009, '성도': 3010, '성분': 3011, '성사': 3012, '성실하다': 3013, '성은': 3014, '성인': 3015, '성장': 3016, '성장하다': 3017, '성전': 3018, '성취': 3019, '성하다': 3020, '성함': 3021, '성형': 3022, '세': 3023, '세계': 3024, '세관': 3025, '세균': 3026, '세금': 3027, '세기': 3028, '세다': 3029, '세대': 3030, '세련': 3031, '세로': 3032, '세면대': 3033, '세미나': 3034, '세법': 3035, '세부': 3036, '세상': 3037, '세션': 3038, '세안': 3039, '세액': 3040, '세요': 3041, '세우다': 3042, '세율': 3043, '세척': 3044, '세척제': 3045, '세탁': 3046, '세탁기': 3047, '세탁실': 3048, '세트': 3049, '세팅': 3050, '세포': 3051, '센서': 3052, '센터': 3053, '센트': 3054, '셀러': 3055, '셀러리': 3056, '셋': 3057, '셋째': 3058, '셔블': 3059, '션': 3060, '셨었': 3061, '셰어': 3062, '소': 3063, '소갈비': 3064, '소개': 3065, '소개팅': 3066, '소고기': 3067, '소금': 3068, '소녀': 3069, '소득': 3070, '소리': 3071, '소리치다': 3072, '소매': 3073, '소매업자': 3074, '소모': 3075, '소문': 3076, '소비': 3077, '소비자': 3078, '소설': 3079, '소셜': 3080, '소셜미디어': 3081, '소속': 3082, '소송': 3083, '소스': 3084, '소시지': 3085, '소식': 3086, '소액': 3087, '소요': 3088, '소유': 3089, '소유권': 3090, '소유자': 3091, '소의': 3092, '소일': 3093, '소재': 3094, '소주': 3095, '소중하다': 3096, '소지': 3097, '소질': 3098, '소켓': 3099, '소통': 3100, '소파': 3101, '소포': 3102, '소풍': 3103, '소프': 3104, '소프트': 3105, '소프트웨어': 3106, '소형': 3107, '소형견': 3108, '속': 3109, '속달': 3110, '속도': 3111, '속물': 3112, '손': 3113, '손님': 3114, '손상': 3115, '손쉽다': 3116, '손실': 3117, '손익': 3118, '손익계산서': 3119, '손주': 3120, '손해': 3121, '손해배상': 3122, '솔루션': 3123, '솔직하다': 3124, '송금': 3125, '송료': 3126, '송신': 3127, '송장': 3128, '쇄신': 3129, '쇠고기': 3130, '쇼': 3131, '쇼룸': 3132, '쇼핑': 3133, '수': 3134, '수가': 3135, '수강': 3136, '수건': 3137, '수고': 3138, '수년': 3139, '수다': 3140, '수단': 3141, '수도': 3142, '수도꼭지': 3143, '수도원': 3144, '수동': 3145, '수락': 3146, '수량': 3147, '수련': 3148, '수령': 3149, '수로': 3150, '수료': 3151, '수료증': 3152, '수리': 3153, '수많다': 3154, '수면': 3155, '수박': 3156, '수반': 3157, '수백만': 3158, '수비드': 3159, '수석': 3160, '수선': 3161, '수속': 3162, '수수료': 3163, '수술': 3164, '수시로': 3165, '수신기': 3166, '수십': 3167, '수압': 3168, '수업': 3169, '수에즈': 3170, '수영': 3171, '수영장': 3172, '수요': 3173, '수요일': 3174, '수용': 3175, '수익': 3176, '수익금': 3177, '수익률': 3178, '수입': 3179, '수입품': 3180, '수정': 3181, '수정과': 3182, '수제': 3183, '수준': 3184, '수집': 3185, '수천': 3186, '수출': 3187, '수출입': 3188, '수평': 3189, '수표': 3190, '수표로': 3191, '수프': 3192, '수학': 3193, '수행': 3194, '수혜자': 3195, '수확': 3196, '숙련': 3197, '숙박': 3198, '숙박시설': 3199, '숙박업소': 3200, '숙성': 3201, '숙소': 3202, '숙이다': 3203, '숙주': 3204, '숙지': 3205, '순': 3206, '순간': 3207, '순위': 3208, '순이익': 3209, '순전하다': 3210, '숟가락': 3211, '술': 3212, '술집': 3213, '숨': 3214, '숨기다': 3215, '숫자': 3216, '숯불': 3217, '쉬다': 3218, '쉽다': 3219, '슈': 3220, '슈트': 3221, '슈팅': 3222, '슈퍼마켓': 3223, '스': 3224, '스낵': 3225, '스노클링': 3226, '스니커즈': 3227, '스님': 3228, '스럽게': 3229, '스럽다': 3230, '스럽지': 3231, '스레드': 3232, '스릴러': 3233, '스마트': 3234, '스마트폰': 3235, '스마트홈': 3236, '스스로': 3237, '스위트': 3238, '스위트룸': 3239, '스카이라인': 3240, '스캐너': 3241, '스캔': 3242, '스케': 3243, '스케줄': 3244, '스케줄러': 3245, '스케치': 3246, '스쿠터': 3247, '스크럽': 3248, '스크류': 3249, '스크리닝': 3250, '스크린': 3251, '스크린샷': 3252, '스키': 3253, '스킨': 3254, '스킬': 3255, '스타': 3256, '스타일': 3257, '스타트업': 3258, '스테이': 3259, '스테이션': 3260, '스테이크': 3261, '스테인레스': 3262, '스토리': 3263, '스토브': 3264, '스토어': 3265, '스토퍼': 3266, '스톤': 3267, '스튜디오': 3268, '스트레스': 3269, '스트레이트': 3270, '스트로': 3271, '스트리밍': 3272, '스트림': 3273, '스티': 3274, '스티커': 3275, '스틸': 3276, '스파': 3277, '스파게티': 3278, '스파이럴': 3279, '스파이웨어': 3280, '스파크': 3281, '스팸': 3282, '스페셜': 3283, '스페인': 3284, '스펙트럼': 3285, '스포츠': 3286, '스프': 3287, '스프레드': 3288, '스프레이': 3289, '스피커': 3290, '스피킹': 3291, '슬라이드': 3292, '슬롯': 3293, '슬리퍼': 3294, '슬프다': 3295, '습': 3296, '습니': 3297, '승려': 3298, '승인': 3299, '시': 3300, '시각': 3301, '시각장애인': 3302, '시간': 3303, '시간대': 3304, '시계': 3305, '시골': 3306, '시급하다': 3307, '시기': 3308, '시끄럽다': 3309, '시나리오': 3310, '시내': 3311, '시대': 3312, '시도': 3313, '시리즈': 3314, '시마': 3315, '시민권': 3316, '시설': 3317, '시세': 3318, '시스템': 3319, '시연': 3320, '시오': 3321, '시일': 3322, '시작': 3323, '시장': 3324, '시장조사': 3325, '시저': 3326, '시절': 3327, '시점': 3328, '시즌': 3329, '시차': 3330, '시청': 3331, '시청각': 3332, '시청자': 3333, '시카고': 3334, '시큐리티': 3335, '시키다': 3336, '시티': 3337, '시행': 3338, '시험': 3339, '시험관': 3340, '식': 3341, '식기': 3342, '식단': 3343, '식당': 3344, '식물': 3345, '식사': 3346, '식이': 3347, '식초': 3348, '식탁': 3349, '식품': 3350, '신': 3351, '신간': 3352, '신경': 3353, '신고': 3354, '신곡': 3355, '신규': 3356, '신나요': 3357, '신다': 3358, '신디케이트': 3359, '신랑': 3360, '신뢰': 3361, '신문': 3362, '신발': 3363, '신부': 3364, '신분': 3365, '신분증': 3366, '신비롭다': 3367, '신사': 3368, '신생': 3369, '신선하다': 3370, '신세대': 3371, '신속하다': 3372, '신용': 3373, '신용등급': 3374, '신용장': 3375, '신용카드': 3376, '신원': 3377, '신입': 3378, '신입사원': 3379, '신입생': 3380, '신제품': 3381, '신종교': 3382, '신중': 3383, '신지': 3384, '신청': 3385, '신청서': 3386, '신체': 3387, '신탁': 3388, '신호': 3389, '신흥': 3390, '싣다': 3391, '실': 3392, '실내': 3393, '실력': 3394, '실례': 3395, '실로': 3396, '실린더': 3397, '실망': 3398, '실망하다': 3399, '실버': 3400, '실사': 3401, '실생활': 3402, '실수': 3403, '실시': 3404, '실시간': 3405, '실업자': 3406, '실외': 3407, '실용': 3408, '실적': 3409, '실제': 3410, '실질': 3411, '실천': 3412, '실크': 3413, '실패': 3414, '실패하다': 3415, '실행': 3416, '실험': 3417, '실험실': 3418, '실현': 3419, '싫다': 3420, '싫어하다': 3421, '심': 3422, '심각하다': 3423, '심기': 3424, '심란하다': 3425, '심박': 3426, '심장': 3427, '심지어': 3428, '심하다': 3429, '십': 3430, '십대': 3431, '싱가포르': 3432, '싱가폴': 3433, '싱글': 3434, '싱글룸': 3435, '싶다': 3436, '싸다': 3437, '싸우다': 3438, '쌀': 3439, '쌈': 3440, '쌈밥': 3441, '쌈장': 3442, '쌍': 3443, '쌓다': 3444, '쌓이다': 3445, '써다': 3446, '쓰다': 3447, '쓰레기통': 3448, '쓰이다': 3449, '쓸다': 3450, '쓸모': 3451, '씨': 3452, '씩': 3453, '씹다': 3454, '아': 3455, '아기': 3456, '아깝다': 3457, '아끼다': 3458, '아나운서': 3459, '아내': 3460, '아뇨': 3461, '아늑하다': 3462, '아니다': 3463, '아동': 3464, '아들': 3465, '아래': 3466, '아로마': 3467, '아르헨티나': 3468, '아름답다': 3469, '아마': 3470, '아마도': 3471, '아무': 3472, '아무나': 3473, '아무렇다': 3474, '아무리': 3475, '아무튼': 3476, '아바타': 3477, '아빠': 3478, '아쉽다': 3479, '아스파라거스': 3480, '아스팔트': 3481, '아시아': 3482, '아웃소싱': 3483, '아이': 3484, '아이덴티티': 3485, '아이돌': 3486, '아이디': 3487, '아이디어': 3488, '아이스크림': 3489, '아이콘': 3490, '아이템': 3491, '아주': 3492, '아직': 3493, '아직도': 3494, '아침': 3495, '아침식사': 3496, '아키텍처': 3497, '아트': 3498, '아트워크': 3499, '아트웍': 3500, '아티스트': 3501, '아파트': 3502, '아프다': 3503, '아프리카': 3504, '악': 3505, '악기': 3506, '악성코드': 3507, '악세사리': 3508, '악수': 3509, '악행': 3510, '악화': 3511, '안': 3512, '안건': 3513, '안나': 3514, '안내': 3515, '안내받다': 3516, '안녕': 3517, '안녕하다': 3518, '안다': 3519, '안되다': 3520, '안드로이드': 3521, '안방': 3522, '안성맞춤': 3523, '안심': 3524, '안이': 3525, '안전': 3526, '안전성': 3527, '안전하다': 3528, '안정': 3529, '안좋다': 3530, '안타깝다': 3531, '안테나': 3532, '안티바이러스': 3533, '안팎': 3534, '앉다': 3535, '않다': 3536, '알': 3537, '알고리즘': 3538, '알다': 3539, '알람': 3540, '알레르기': 3541, '알려지다': 3542, '알루미늄': 3543, '알리다': 3544, '알림': 3545, '알아내다': 3546, '알아듣다': 3547, '알아보다': 3548, '알아차리다': 3549, '알아채다': 3550, '알약': 3551, '알칼리성': 3552, '암': 3553, '암석': 3554, '암스테르담': 3555, '암호': 3556, '압니': 3557, '압도': 3558, '압력': 3559, '압축': 3560, '압축기': 3561, '압출기': 3562, '았습니': 3563, '앙': 3564, '앞': 3565, '앞두다': 3566, '앞서': 3567, '앞치마': 3568, '애': 3569, '애니메이션': 3570, '애니메이터': 3571, '애비뉴': 3572, '애완동물': 3573, '애프터': 3574, '애플리케이션': 3575, '애피타이저': 3576, '액': 3577, '액세서리': 3578, '액세스': 3579, '액션': 3580, '액체': 3581, '앤': 3582, '앨범': 3583, '앰버': 3584, '앰뷸런스': 3585, '앰프': 3586, '앱': 3587, '앵글': 3588, '앵커': 3589, '야': 3590, '야간': 3591, '야구장': 3592, '야금': 3593, '야단법석': 3594, '야생': 3595, '야식': 3596, '야영지': 3597, '야외': 3598, '야유회': 3599, '야채': 3600, '야합': 3601, '약': 3602, '약간': 3603, '약관': 3604, '약물': 3605, '약속': 3606, '약자': 3607, '약점': 3608, '약정': 3609, '약하다': 3610, '얇다': 3611, '양': 3612, '양념': 3613, '양념장': 3614, '양도': 3615, '양립': 3616, '양말': 3617, '양사': 3618, '양식': 3619, '양자': 3620, '양초': 3621, '양해': 3622, '양호': 3623, '얘기': 3624, '어': 3625, '어긋나다': 3626, '어기': 3627, '어느': 3628, '어댑터': 3629, '어디': 3630, '어디서': 3631, '어떠하다': 3632, '어떡하다': 3633, '어떤': 3634, '어떻': 3635, '어떻다': 3636, '어려움': 3637, '어렵다': 3638, '어르신': 3639, '어른': 3640, '어리다': 3641, '어린이': 3642, '어머니': 3643, '어메니티': 3644, '어묵': 3645, '어보': 3646, '어서': 3647, '어우러지다': 3648, '어울리다': 3649, '어제': 3650, '어젯밤': 3651, '어조': 3652, '어쨌든': 3653, '어쩌': 3654, '어쩐': 3655, '어쩔': 3656, '어치': 3657, '어플': 3658, '어필': 3659, '어휘': 3660, '언': 3661, '언급': 3662, '언니': 3663, '언덕': 3664, '언론': 3665, '언박싱': 3666, '언어': 3667, '언제': 3668, '언제나': 3669, '언젠가': 3670, '얻다': 3671, '얼': 3672, '얼굴': 3673, '얼리다': 3674, '얼마': 3675, '얼마나': 3676, '엄격하다': 3677, '엄선': 3678, '엄수': 3679, '엄청': 3680, '엄청나다': 3681, '업계': 3682, '업그레이드': 3683, '업데이트': 3684, '업로드': 3685, '업무': 3686, '업자': 3687, '업주': 3688, '업체': 3689, '없다': 3690, '없애다': 3691, '없이': 3692, '엇갈리다': 3693, '엉': 3694, '에': 3695, '에게': 3696, '에게나': 3697, '에게는': 3698, '에게도': 3699, '에게만': 3700, '에게서': 3701, '에겐': 3702, '에너지': 3703, '에는': 3704, '에다가': 3705, '에도': 3706, '에든': 3707, '에러': 3708, '에만': 3709, '에멀션': 3710, '에멀젼': 3711, '에메랄드': 3712, '에밀리': 3713, '에서': 3714, '에서나': 3715, '에서는': 3716, '에서도': 3717, '에서만': 3718, '에서부터': 3719, '에서의': 3720, '에센셜': 3721, '에어': 3722, '에어컨': 3723, '에요': 3724, '에이전시': 3725, '에이전트': 3726, '에코': 3727, '에티켓': 3728, '에피소드': 3729, '엑세스': 3730, '엑스레이': 3731, '엑스포': 3732, '엔': 3733, '엔드': 3734, '엔젤': 3735, '엔지니어': 3736, '엔지니어링': 3737, '엔진': 3738, '엔터테인먼트': 3739, '엠보싱': 3740, '여': 3741, '여겨지다': 3742, '여권': 3743, '여기': 3744, '여기다': 3745, '여느': 3746, '여드름': 3747, '여러': 3748, '여러분': 3749, '여름': 3750, '여보': 3751, '여보세요': 3752, '여부': 3753, '여분': 3754, '여사': 3755, '여서': 3756, '여성': 3757, '여야': 3758, '여유': 3759, '여자': 3760, '여전하다': 3761, '여지': 3762, '여쭈다': 3763, '여행': 3764, '여행사': 3765, '여행자': 3766, '역': 3767, '역사': 3768, '역서': 3769, '역시': 3770, '역외': 3771, '역할': 3772, '연': 3773, '연간': 3774, '연결': 3775, '연결하다': 3776, '연관': 3777, '연구': 3778, '연구개발': 3779, '연구소': 3780, '연기': 3781, '연다': 3782, '연달': 3783, '연동': 3784, '연락': 3785, '연락처': 3786, '연령': 3787, '연례': 3788, '연료': 3789, '연마': 3790, '연말': 3791, '연민': 3792, '연방': 3793, '연봉': 3794, '연비': 3795, '연사': 3796, '연수': 3797, '연장': 3798, '연중': 3799, '연체': 3800, '연회': 3801, '연휴': 3802, '열': 3803, '열광': 3804, '열기': 3805, '열다': 3806, '열람': 3807, '열리다': 3808, '열쇠': 3809, '열심히': 3810, '열악하다': 3811, '열정': 3812, '열차': 3813, '염두': 3814, '염려': 3815, '염색': 3816, '엽': 3817, '영': 3818, '영감': 3819, '영광': 3820, '영구': 3821, '영국': 3822, '영리하다': 3823, '영상': 3824, '영상통화': 3825, '영수증': 3826, '영양': 3827, '영어': 3828, '영업': 3829, '영업일': 3830, '영역': 3831, '영원하다': 3832, '영진': 3833, '영향': 3834, '영향력': 3835, '영화': 3836, '옆': 3837, '예': 3838, '예견': 3839, '예고편': 3840, '예금': 3841, '예방': 3842, '예배': 3843, '예쁘다': 3844, '예산': 3845, '예산안': 3846, '예상': 3847, '예술': 3848, '예술가': 3849, '예약': 3850, '예요': 3851, '예의': 3852, '예입': 3853, '예전': 3854, '예절': 3855, '예정': 3856, '예정일': 3857, '예측': 3858, '옐로나이프': 3859, '오': 3860, '오늘': 3861, '오늘날': 3862, '오늘이': 3863, '오다': 3864, '오디오': 3865, '오락가락': 3866, '오래': 3867, '오래되다': 3868, '오랜': 3869, '오랫동안': 3870, '오렌지': 3871, '오류': 3872, '오르다': 3873, '오른': 3874, '오른쪽': 3875, '오리엔테이션': 3876, '오버': 3877, '오븐': 3878, '오스': 3879, '오시': 3880, '오신': 3881, '오용': 3882, '오일': 3883, '오일도': 3884, '오전': 3885, '오지': 3886, '오직': 3887, '오징어': 3888, '오토': 3889, '오프': 3890, '오프라인': 3891, '오픈': 3892, '오피스': 3893, '오하이오주': 3894, '오해': 3895, '오후': 3896, '오히려': 3897, '옥': 3898, '옥상': 3899, '옥집': 3900, '온': 3901, '온도': 3902, '온돌': 3903, '온라인': 3904, '온라인과': 3905, '온스': 3906, '온천': 3907, '온타리오': 3908, '올': 3909, '올라가다': 3910, '올려놓다': 3911, '올려주다': 3912, '올리다': 3913, '올바르다': 3914, '올해': 3915, '옮기다': 3916, '옳다': 3917, '옴': 3918, '옵니다': 3919, '옵션': 3920, '옷': 3921, '옷장': 3922, '와': 3923, '와는': 3924, '와도': 3925, '와우': 3926, '와의': 3927, '와이어': 3928, '와이파이': 3929, '와인': 3930, '와트': 3931, '완납': 3932, '완료': 3933, '완벽하다': 3934, '완비': 3935, '완성': 3936, '완전': 3937, '완전하다': 3938, '완화': 3939, '왓츠앱': 3940, '왕복': 3941, '왕새우': 3942, '왜': 3943, '왜냐면': 3944, '왜냐하면': 3945, '외': 3946, '외관': 3947, '외국': 3948, '외국인': 3949, '외다': 3950, '외부': 3951, '외주': 3952, '외출': 3953, '외향': 3954, '외화': 3955, '외환은행': 3956, '왼쪽': 3957, '요': 3958, '요건': 3959, '요격': 3960, '요구': 3961, '요구사항': 3962, '요금': 3963, '요리': 3964, '요리법': 3965, '요리사': 3966, '요법': 3967, '요소': 3968, '요약': 3969, '요원': 3970, '요인': 3971, '요점': 3972, '요즘': 3973, '요청': 3974, '요크셔': 3975, '요트': 3976, '욕구': 3977, '욕실': 3978, '욕조': 3979, '용': 3980, '용건': 3981, '용납': 3982, '용다': 3983, '용도': 3984, '용량': 3985, '용무': 3986, '용법': 3987, '용어': 3988, '용의': 3989, '용이': 3990, '용이하다': 3991, '용인': 3992, '용판': 3993, '용품': 3994, '우': 3995, '우드': 3996, '우려': 3997, '우리': 3998, '우리나라': 3999, '우리은행': 4000, '우린': 4001, '우산': 4002, '우선': 4003, '우수하다': 4004, '우승자': 4005, '우아하다': 4006, '우여곡절': 4007, '우연히': 4008, '우와': 4009, '우위': 4010, '우유': 4011, '우주': 4012, '우크라이나': 4013, '우편': 4014, '우편물': 4015, '운': 4016, '운동': 4017, '운반': 4018, '운송': 4019, '운송업': 4020, '운영': 4021, '운영자': 4022, '운영체제': 4023, '운용': 4024, '운전': 4025, '운전기사': 4026, '운전자': 4027, '운하': 4028, '울리다': 4029, '울산': 4030, '움직이다': 4031, '움직임': 4032, '웃음': 4033, '웅장': 4034, '워': 4035, '워드': 4036, '워치': 4037, '워크샵': 4038, '워크숍': 4039, '워터': 4040, '원': 4041, '원격': 4042, '원고': 4043, '원금': 4044, '원래': 4045, '원리': 4046, '원본': 4047, '원사': 4048, '원스톱': 4049, '원심': 4050, '원심분리기': 4051, '원인': 4052, '원장': 4053, '원점': 4054, '원주공항': 4055, '원칙': 4056, '원통': 4057, '원하다': 4058, '원화': 4059, '원화도': 4060, '원활하다': 4061, '월': 4062, '월간': 4063, '월급': 4064, '월말': 4065, '월세': 4066, '월요일': 4067, '웜': 4068, '웠습': 4069, '웨딩': 4070, '웨비': 4071, '웨어': 4072, '웨이터': 4073, '웨이퍼': 4074, '웹': 4075, '웹디자인': 4076, '웹사이트': 4077, '웹캐스트': 4078, '웹페이지': 4079, '위': 4080, '위로': 4081, '위반': 4082, '위생': 4083, '위성': 4084, '위안': 4085, '위치': 4086, '위탁': 4087, '위태롭': 4088, '위태롭기': 4089, '위함': 4090, '위해': 4091, '위험': 4092, '위험하다': 4093, '위협': 4094, '윗': 4095, '윗사람': 4096, '유가': 4097, '유감': 4098, '유감스럽게': 4099, '유기': 4100, '유기농': 4101, '유닛': 4102, '유동': 4103, '유럽': 4104, '유로': 4105, '유료': 4106, '유르트': 4107, '유리하다': 4108, '유망': 4109, '유머': 4110, '유명': 4111, '유명인사': 4112, '유명하다': 4113, '유사하다': 4114, '유산': 4115, '유선': 4116, '유아': 4117, '유압': 4118, '유연성': 4119, '유연하다': 4120, '유예': 4121, '유용하다': 4122, '유의': 4123, '유익하다': 4124, '유인': 4125, '유인물': 4126, '유일하다': 4127, '유전': 4128, '유제품': 4129, '유지': 4130, '유치하다': 4131, '유통': 4132, '유통업': 4133, '유통업체': 4134, '유틸리티': 4135, '유학': 4136, '유학생': 4137, '유해하다': 4138, '유행': 4139, '유행병': 4140, '유형': 4141, '유효': 4142, '유효하다': 4143, '육류': 4144, '육성': 4145, '육수': 4146, '육지': 4147, '육회': 4148, '윤리': 4149, '율': 4150, '율기': 4151, '융자': 4152, '융통성': 4153, '으로': 4154, '으로는': 4155, '으로도': 4156, '으로만': 4157, '으로부터': 4158, '으로서': 4159, '으로서는': 4160, '으로써': 4161, '으로의': 4162, '은': 4163, '은은하다': 4164, '은퇴': 4165, '은행': 4166, '은행원': 4167, '을': 4168, '음': 4169, '음료': 4170, '음료수': 4171, '음반': 4172, '음반사': 4173, '음성': 4174, '음식': 4175, '음식점': 4176, '음악': 4177, '음원': 4178, '음질': 4179, '음향': 4180, '음향효과': 4181, '응': 4182, '응급': 4183, '응답': 4184, '응대': 4185, '응용': 4186, '응원': 4187, '의': 4188, '의견': 4189, '의논': 4190, '의도': 4191, '의뢰': 4192, '의료': 4193, '의류': 4194, '의무': 4195, '의문': 4196, '의미': 4197, '의사': 4198, '의사소통': 4199, '의상': 4200, '의식': 4201, '의심': 4202, '의심스럽다': 4203, '의약품': 4204, '의원': 4205, '의자': 4206, '의존': 4207, '의하다': 4208, '의향': 4209, '의회': 4210, '이': 4211, '이건': 4212, '이겠다': 4213, '이고': 4214, '이기': 4215, '이기도': 4216, '이끌다': 4217, '이나': 4218, '이내': 4219, '이네': 4220, '이니': 4221, '이니까': 4222, '이다': 4223, '이대로': 4224, '이동': 4225, '이동식': 4226, '이동해': 4227, '이드': 4228, '이득': 4229, '이든': 4230, '이따': 4231, '이라': 4232, '이라고': 4233, '이라고도': 4234, '이라기': 4235, '이라는': 4236, '이라도': 4237, '이라서': 4238, '이란': 4239, '이랑': 4240, '이러하다': 4241, '이런': 4242, '이렇게': 4243, '이렇다': 4244, '이력서': 4245, '이로': 4246, '이루어지다': 4247, '이뤄지다': 4248, '이르다': 4249, '이름': 4250, '이만': 4251, '이메일': 4252, '이며': 4253, '이면': 4254, '이목': 4255, '이미': 4256, '이미지': 4257, '이민자': 4258, '이번': 4259, '이벤트': 4260, '이보': 4261, '이불': 4262, '이브': 4263, '이사': 4264, '이사회': 4265, '이상': 4266, '이상은': 4267, '이서': 4268, '이세': 4269, '이송': 4270, '이수': 4271, '이슈': 4272, '이식': 4273, '이신': 4274, '이십': 4275, '이싼': 4276, '이야': 4277, '이야기': 4278, '이어서': 4279, '이어지다': 4280, '이에요': 4281, '이외': 4282, '이요': 4283, '이용': 4284, '이용자': 4285, '이웃': 4286, '이유': 4287, '이율': 4288, '이음': 4289, '이의': 4290, '이익': 4291, '이자': 4292, '이자율': 4293, '이장': 4294, '이전': 4295, '이점': 4296, '이정표': 4297, '이제': 4298, '이중': 4299, '이중과세': 4300, '이지': 4301, '이지만': 4302, '이집트': 4303, '이체': 4304, '이탈': 4305, '이탈리아': 4306, '이탈리아어': 4307, '이틀': 4308, '이해': 4309, '이해만': 4310, '이해해': 4311, '이행': 4312, '이후': 4313, '익숙하다': 4314, '익숙해지다': 4315, '익스텐더': 4316, '익일': 4317, '익히다': 4318, '인': 4319, '인가': 4320, '인가요': 4321, '인간': 4322, '인건비': 4323, '인걸': 4324, '인공': 4325, '인구': 4326, '인기': 4327, '인내': 4328, '인내심': 4329, '인데': 4330, '인덱스': 4331, '인도': 4332, '인도네시아': 4333, '인들': 4334, '인력': 4335, '인명': 4336, '인보이스': 4337, '인분': 4338, '인사': 4339, '인삼': 4340, '인상': 4341, '인생': 4342, '인센티브': 4343, '인쇄': 4344, '인쇄기': 4345, '인쇄판': 4346, '인수': 4347, '인스턴트': 4348, '인식': 4349, '인용': 4350, '인원': 4351, '인정': 4352, '인정받다': 4353, '인조섬유': 4354, '인증': 4355, '인증서': 4356, '인지': 4357, '인지도': 4358, '인천': 4359, '인치': 4360, '인코딩': 4361, '인큐베이터': 4362, '인터': 4363, '인터넷': 4364, '인터뷰': 4365, '인터페이스': 4366, '인턴': 4367, '인테리어': 4368, '인파': 4369, '인포그래픽': 4370, '인프라': 4371, '인플레이션': 4372, '인플레이션율': 4373, '인하': 4374, '인하다': 4375, '일': 4376, '일과': 4377, '일관': 4378, '일단': 4379, '일러스트': 4380, '일러스트레이션': 4381, '일련': 4382, '일련번호': 4383, '일로': 4384, '일류': 4385, '일반': 4386, '일반인': 4387, '일별': 4388, '일본': 4389, '일본어': 4390, '일부': 4391, '일부러': 4392, '일산': 4393, '일상': 4394, '일상생활': 4395, '일수': 4396, '일시': 4397, '일어나고': 4398, '일어나다': 4399, '일어나지': 4400, '일요일': 4401, '일으키다': 4402, '일이': 4403, '일인': 4404, '일일': 4405, '일자리': 4406, '일정': 4407, '일정하다': 4408, '일종': 4409, '일주일': 4410, '일찍': 4411, '일체': 4412, '일치': 4413, '일해': 4414, '일행': 4415, '일환': 4416, '일회용': 4417, '읽다': 4418, '잃다': 4419, '잃어버리다': 4420, '임': 4421, '임기': 4422, '임대': 4423, '임대료': 4424, '임무': 4425, '임박': 4426, '임베디드': 4427, '임상시험': 4428, '임시': 4429, '임원': 4430, '임원진': 4431, '임의': 4432, '임차': 4433, '임펠러': 4434, '입': 4435, '입금': 4436, '입니다': 4437, '입다': 4438, '입력': 4439, '입맛': 4440, '입사': 4441, '입안': 4442, '입원': 4443, '입자': 4444, '입장': 4445, '입장료': 4446, '입지': 4447, '입찰': 4448, '입출': 4449, '입학': 4450, '있다': 4451, '잊다': 4452, '잊어버리다': 4453, '잎': 4454, '자': 4455, '자게': 4456, '자격': 4457, '자고': 4458, '자국': 4459, '자극': 4460, '자금': 4461, '자기': 4462, '자꾸': 4463, '자녀': 4464, '자다': 4465, '자동': 4466, '자동차': 4467, '자동화': 4468, '자라다': 4469, '자랑': 4470, '자랑스럽다': 4471, '자로': 4472, '자료': 4473, '자르다': 4474, '자리': 4475, '자마자': 4476, '자막': 4477, '자문': 4478, '자본': 4479, '자사': 4480, '자산': 4481, '자서전': 4482, '자선단체': 4483, '자세하다': 4484, '자수': 4485, '자식': 4486, '자신': 4487, '자신감': 4488, '자연': 4489, '자연계': 4490, '자연어': 4491, '자영': 4492, '자원': 4493, '자유': 4494, '자유롭다': 4495, '자재': 4496, '자전거': 4497, '자주': 4498, '자질': 4499, '자체': 4500, '자쿠': 4501, '자쿠지': 4502, '자택': 4503, '자판기': 4504, '자회사': 4505, '작': 4506, '작가': 4507, '작고': 4508, '작곡가': 4509, '작년': 4510, '작다': 4511, '작동': 4512, '작문': 4513, '작성': 4514, '작업': 4515, '작용': 4516, '작품': 4517, '잔': 4518, '잔고': 4519, '잔금': 4520, '잔디': 4521, '잔액': 4522, '잘': 4523, '잘못': 4524, '잘해야': 4525, '잠': 4526, '잠그다': 4527, '잠깐': 4528, '잠수': 4529, '잠시': 4530, '잠옷': 4531, '잠재': 4532, '잠재력': 4533, '잠정': 4534, '잡': 4535, '잡기': 4536, '잡다': 4537, '잡지': 4538, '잡채': 4539, '잡히다': 4540, '장': 4541, '장갑': 4542, '장거리': 4543, '장공': 4544, '장기': 4545, '장님': 4546, '장담': 4547, '장래': 4548, '장르': 4549, '장모님': 4550, '장바구니': 4551, '장벽': 4552, '장부': 4553, '장비': 4554, '장소': 4555, '장식': 4556, '장애': 4557, '장애물': 4558, '장애인': 4559, '장용': 4560, '장의': 4561, '장이': 4562, '장점': 4563, '장착': 4564, '장치': 4565, '장학금': 4566, '재': 4567, '재개': 4568, '재고': 4569, '재교육': 4570, '재난': 4571, '재능': 4572, '재단': 4573, '재료': 4574, '재무': 4575, '재무부': 4576, '재무제표': 4577, '재미': 4578, '재미있다': 4579, '재밌다': 4580, '재발': 4581, '재봉틀': 4582, '재사용': 4583, '재산': 4584, '재산권': 4585, '재생': 4586, '재우다': 4587, '재정': 4588, '재택근무': 4589, '재해': 4590, '재활': 4591, '쟁기질': 4592, '저': 4593, '저녁': 4594, '저녁식사': 4595, '저렴하다': 4596, '저만': 4597, '저만큼': 4598, '저명하다': 4599, '저번': 4600, '저속': 4601, '저자': 4602, '저작권': 4603, '저작권법': 4604, '저장': 4605, '저절로': 4606, '저지르다': 4607, '저쪽': 4608, '저축': 4609, '저항기': 4610, '저희': 4611, '적': 4612, '적격': 4613, '적극': 4614, '적기': 4615, '적다': 4616, '적당하다': 4617, '적도': 4618, '적립': 4619, '적어도': 4620, '적용': 4621, '적응': 4622, '적자': 4623, '적재': 4624, '적절하다': 4625, '적정': 4626, '적합하다': 4627, '적히다': 4628, '전': 4629, '전개': 4630, '전공': 4631, '전기': 4632, '전기자전거': 4633, '전날': 4634, '전념': 4635, '전달': 4636, '전동': 4637, '전략': 4638, '전력': 4639, '전류': 4640, '전망': 4641, '전면': 4642, '전무': 4643, '전문': 4644, '전문가': 4645, '전문성': 4646, '전문점': 4647, '전문직': 4648, '전반': 4649, '전병': 4650, '전부': 4651, '전분': 4652, '전선': 4653, '전세계': 4654, '전송': 4655, '전술': 4656, '전시': 4657, '전시장': 4658, '전시회': 4659, '전신': 4660, '전액': 4661, '전역': 4662, '전염병': 4663, '전용': 4664, '전원': 4665, '전이': 4666, '전자': 4667, '전자기': 4668, '전자기기': 4669, '전자레인지': 4670, '전자상거래': 4671, '전자제품': 4672, '전자책': 4673, '전적': 4674, '전체': 4675, '전통': 4676, '전통문화': 4677, '전표': 4678, '전하': 4679, '전해': 4680, '전혀': 4681, '전화': 4682, '전화기': 4683, '전화번호': 4684, '전화하다': 4685, '전환': 4686, '전후': 4687, '젇': 4688, '절': 4689, '절감': 4690, '절기': 4691, '절단': 4692, '절대': 4693, '절반': 4694, '절삭기': 4695, '절실': 4696, '절약': 4697, '절차': 4698, '젊다': 4699, '젊은이': 4700, '점': 4701, '점검': 4702, '점도': 4703, '점수': 4704, '점심': 4705, '점유': 4706, '점자': 4707, '점점': 4708, '점진': 4709, '점화': 4710, '접': 4711, '접근': 4712, '접근성': 4713, '접대': 4714, '접속': 4715, '접수': 4716, '접시': 4717, '접종': 4718, '접착': 4719, '접합': 4720, '젓가락': 4721, '정': 4722, '정관': 4723, '정규': 4724, '정규직': 4725, '정기': 4726, '정기예금': 4727, '정당하다': 4728, '정도': 4729, '정독': 4730, '정류장': 4731, '정리': 4732, '정말': 4733, '정말로': 4734, '정밀도': 4735, '정박': 4736, '정보': 4737, '정보기술': 4738, '정본': 4739, '정부': 4740, '정비': 4741, '정비사': 4742, '정산': 4743, '정상': 4744, '정상인': 4745, '정상화': 4746, '정성': 4747, '정수': 4748, '정수기': 4749, '정식': 4750, '정신': 4751, '정원': 4752, '정육점': 4753, '정의': 4754, '정이': 4755, '정적': 4756, '정전': 4757, '정직하다': 4758, '정착': 4759, '정책': 4760, '정체': 4761, '정치': 4762, '정치인': 4763, '정통': 4764, '정통하다': 4765, '정해': 4766, '정해지다': 4767, '정해진': 4768, '정화': 4769, '정확도': 4770, '정확하다': 4771, '제': 4772, '제거': 4773, '제곱': 4774, '제곱미터': 4775, '제공': 4776, '제기': 4777, '제대로': 4778, '제도': 4779, '제때': 4780, '제로': 4781, '제목': 4782, '제발': 4783, '제보': 4784, '제빵': 4785, '제빵사': 4786, '제삼자': 4787, '제시': 4788, '제안': 4789, '제어': 4790, '제외': 4791, '제일': 4792, '제입': 4793, '제작': 4794, '제작자': 4795, '제작회사': 4796, '제재': 4797, '제적': 4798, '제조': 4799, '제조업': 4800, '제조업체': 4801, '제주': 4802, '제출': 4803, '제품': 4804, '제품군': 4805, '제한': 4806, '제휴': 4807, '젠': 4808, '젯': 4809, '조': 4810, '조각': 4811, '조각가': 4812, '조각상': 4813, '조건': 4814, '조국': 4815, '조금': 4816, '조달': 4817, '조도': 4818, '조로': 4819, '조리': 4820, '조립': 4821, '조만간': 4822, '조명': 4823, '조명탄': 4824, '조물': 4825, '조미료': 4826, '조사': 4827, '조사해': 4828, '조선': 4829, '조수': 4830, '조식': 4831, '조심': 4832, '조심하다': 4833, '조언': 4834, '조용하다': 4835, '조잡하다': 4836, '조장': 4837, '조절': 4838, '조정': 4839, '조정은': 4840, '조지아': 4841, '조직': 4842, '조취': 4843, '조치': 4844, '조카': 4845, '조합': 4846, '조항': 4847, '조화': 4848, '조회': 4849, '족발': 4850, '존경': 4851, '존재': 4852, '존중': 4853, '졸업장': 4854, '좀': 4855, '좁히다': 4856, '종': 4857, '종교': 4858, '종단': 4859, '종도': 4860, '종로': 4861, '종료': 4862, '종류': 4863, '종사': 4864, '종습니': 4865, '종신': 4866, '종업원': 4867, '종이': 4868, '종일': 4869, '종합': 4870, '좋다': 4871, '좋아지다': 4872, '좋아하다': 4873, '좌석': 4874, '좌우': 4875, '죄송하다': 4876, '죠': 4877, '주': 4878, '주가': 4879, '주간': 4880, '주간지': 4881, '주거': 4882, '주고받다': 4883, '주기': 4884, '주다': 4885, '주된': 4886, '주렴': 4887, '주로': 4888, '주류': 4889, '주말': 4890, '주머니': 4891, '주목': 4892, '주무시다': 4893, '주문': 4894, '주민': 4895, '주민등록': 4896, '주방': 4897, '주변': 4898, '주사기': 4899, '주선': 4900, '주소': 4901, '주스': 4902, '주시': 4903, '주식': 4904, '주식시장': 4905, '주신': 4906, '주어지다': 4907, '주얼': 4908, '주요': 4909, '주의': 4910, '주인': 4911, '주일': 4912, '주임': 4913, '주자': 4914, '주장': 4915, '주저': 4916, '주제': 4917, '주제가': 4918, '주지': 4919, '주차': 4920, '주차장': 4921, '주철': 4922, '주택': 4923, '주파수': 4924, '죽': 4925, '준': 4926, '준비': 4927, '준수': 4928, '줄': 4929, '줄기': 4930, '줄다': 4931, '줄어들다': 4932, '줄이다': 4933, '줌': 4934, '줍다': 4935, '중': 4936, '중간': 4937, '중개': 4938, '중개사': 4939, '중개인': 4940, '중고': 4941, '중고품': 4942, '중공업': 4943, '중국': 4944, '중국집': 4945, '중단': 4946, '중등교육': 4947, '중복': 4948, '중소기업': 4949, '중시': 4950, '중심': 4951, '중심부': 4952, '중요성': 4953, '중요하다': 4954, '중이': 4955, '중인': 4956, '중장비': 4957, '중재': 4958, '중점': 4959, '중형견': 4960, '중환자': 4961, '즉': 4962, '즉각': 4963, '즉석': 4964, '즉시': 4965, '즐거움': 4966, '즐겁다': 4967, '즐기다': 4968, '증가': 4969, '증거': 4970, '증권': 4971, '증권사': 4972, '증명': 4973, '증명서': 4974, '증발기': 4975, '증빙': 4976, '증서': 4977, '증세': 4978, '증진': 4979, '증폭': 4980, '증폭기': 4981, '지': 4982, '지갑': 4983, '지게': 4984, '지게차': 4985, '지고': 4986, '지구': 4987, '지금': 4988, '지급': 4989, '지나다': 4990, '지난': 4991, '지난달': 4992, '지난번': 4993, '지난주': 4994, '지난해': 4995, '지남': 4996, '지내다': 4997, '지는': 4998, '지능': 4999, '지다': 5000, '지도': 5001, '지독하다': 5002, '지루하다': 5003, '지루함': 5004, '지르다': 5005, '지리': 5006, '지만': 5007, '지면': 5008, '지명': 5009, '지문': 5010, '지방': 5011, '지불': 5012, '지붕': 5013, '지사': 5014, '지속': 5015, '지수': 5016, '지시': 5017, '지식': 5018, '지역': 5019, '지역성': 5020, '지연': 5021, '지용': 5022, '지우다': 5023, '지원': 5024, '지원이': 5025, '지인': 5026, '지저분하다': 5027, '지적': 5028, '지점': 5029, '지정': 5030, '지주': 5031, '지지': 5032, '지체': 5033, '지출': 5034, '지침': 5035, '지켜보다': 5036, '지키다': 5037, '지폐': 5038, '지표': 5039, '지프': 5040, '지하실': 5041, '지하철': 5042, '지향': 5043, '직': 5044, '직감': 5045, '직경': 5046, '직급': 5047, '직도': 5048, '직면': 5049, '직물': 5050, '직불': 5051, '직업': 5052, '직원': 5053, '직장': 5054, '직접': 5055, '직접투자': 5056, '직책': 5057, '진': 5058, '진공': 5059, '진과': 5060, '진단': 5061, '진동': 5062, '진상': 5063, '진실': 5064, '진실하다': 5065, '진심': 5066, '진의': 5067, '진입': 5068, '진정': 5069, '진정하다': 5070, '진지하다': 5071, '진짜': 5072, '진출': 5073, '진행': 5074, '진행자': 5075, '진화': 5076, '진흥': 5077, '질': 5078, '질감': 5079, '질문': 5080, '질병': 5081, '질환': 5082, '짐': 5083, '집': 5084, '집값': 5085, '집다': 5086, '집단': 5087, '집세': 5088, '집안일': 5089, '집의': 5090, '집주인': 5091, '집중': 5092, '집하장': 5093, '집합': 5094, '집행': 5095, '집행자': 5096, '짓다': 5097, '징': 5098, '징글링': 5099, '짚': 5100, '짜다': 5101, '짜리': 5102, '짜장': 5103, '짤': 5104, '짧다': 5105, '째': 5106, '쪽': 5107, '쫓아내다': 5108, '쯤': 5109, '찌개': 5110, '찍다': 5111, '찍히다': 5112, '찜': 5113, '찜질방': 5114, '찢어지다': 5115, '차': 5116, '차감': 5117, '차갑다': 5118, '차고': 5119, '차기': 5120, '차다': 5121, '차단': 5122, '차도': 5123, '차등': 5124, '차라리': 5125, '차량': 5126, '차례': 5127, '차리다': 5128, '차별': 5129, '차서': 5130, '차용': 5131, '차원': 5132, '차이': 5133, '차이다': 5134, '차이점': 5135, '차입': 5136, '차지': 5137, '차질': 5138, '차트': 5139, '찬': 5140, '참가': 5141, '참가자': 5142, '참고': 5143, '참배': 5144, '참석': 5145, '참석자': 5146, '참여': 5147, '참으로': 5148, '참조': 5149, '찹쌀': 5150, '창': 5151, '창가': 5152, '창고': 5153, '창구': 5154, '창립': 5155, '창문': 5156, '창업': 5157, '창의': 5158, '찾기': 5159, '찾다': 5160, '찾아보다': 5161, '찾아오다': 5162, '채': 5163, '채굴': 5164, '채권': 5165, '채권자': 5166, '채널': 5167, '채다': 5168, '채무': 5169, '채무자': 5170, '채색': 5171, '채소': 5172, '채식': 5173, '채식주의자': 5174, '채용': 5175, '채우다': 5176, '채취': 5177, '채택': 5178, '채팅': 5179, '책': 5180, '책임': 5181, '책임감': 5182, '책임자': 5183, '책임지다': 5184, '책자': 5185, '책정': 5186, '챔버입니': 5187, '처': 5188, '처가': 5189, '처럼': 5190, '처리': 5191, '처리기': 5192, '처방': 5193, '처분': 5194, '처음': 5195, '천만': 5196, '천연': 5197, '천연가스': 5198, '천장': 5199, '천천히': 5200, '철': 5201, '철강': 5202, '철도': 5203, '철저하다': 5204, '철제': 5205, '철학': 5206, '철회': 5207, '첨부': 5208, '첫': 5209, '첫날': 5210, '첫인상': 5211, '첫째': 5212, '청': 5213, '청각장애': 5214, '청구': 5215, '청년': 5216, '청동': 5217, '청문회': 5218, '청사진': 5219, '청소': 5220, '청소년': 5221, '청정': 5222, '청정기': 5223, '청중': 5224, '청취': 5225, '체결': 5226, '체납': 5227, '체류': 5228, '체육관': 5229, '체인': 5230, '체인점': 5231, '체제': 5232, '체크': 5233, '체크아웃': 5234, '체험': 5235, '초': 5236, '초고': 5237, '초과': 5238, '초기': 5239, '초당': 5240, '초대': 5241, '초대장': 5242, '초래': 5243, '초상화': 5244, '초안': 5245, '초음파': 5246, '초입': 5247, '초점': 5248, '초청': 5249, '초콜릿': 5250, '촉구': 5251, '촉박하다': 5252, '총': 5253, '총수': 5254, '총칭': 5255, '촬영': 5256, '최': 5257, '최고': 5258, '최고급': 5259, '최근': 5260, '최대': 5261, '최대한': 5262, '최상': 5263, '최선': 5264, '최선일': 5265, '최소': 5266, '최소한': 5267, '최신': 5268, '최악': 5269, '최저': 5270, '최적': 5271, '최적화': 5272, '최종': 5273, '최첨단': 5274, '최초': 5275, '쵸': 5276, '추가': 5277, '추구': 5278, '추다': 5279, '추석': 5280, '추세': 5281, '추억': 5282, '추적': 5283, '추정': 5284, '추진': 5285, '추천': 5286, '추출': 5287, '추후': 5288, '축': 5289, '축배': 5290, '축소': 5291, '축하': 5292, '출구': 5293, '출금': 5294, '출두': 5295, '출력': 5296, '출발점': 5297, '출산': 5298, '출시': 5299, '출연': 5300, '출장': 5301, '출퇴근': 5302, '출판': 5303, '출판물': 5304, '출판사': 5305, '출하': 5306, '춤': 5307, '충': 5308, '충격': 5309, '충당': 5310, '충돌': 5311, '충분하다': 5312, '충실하다': 5313, '충전': 5314, '충전기': 5315, '충족': 5316, '취': 5317, '취급': 5318, '취득': 5319, '취미': 5320, '취사': 5321, '취소': 5322, '취약': 5323, '취재': 5324, '취직': 5325, '취하': 5326, '취한': 5327, '취할': 5328, '취해': 5329, '취향': 5330, '측': 5331, '측면': 5332, '측정': 5333, '측정기': 5334, '층': 5335, '치': 5336, '치가': 5337, '치고는': 5338, '치과': 5339, '치다': 5340, '치료': 5341, '치르다': 5342, '치맥': 5343, '치솟다': 5344, '치수': 5345, '치열하다': 5346, '치즈': 5347, '치킨': 5348, '친': 5349, '친구': 5350, '친절하다': 5351, '친척': 5352, '친하다': 5353, '친환경': 5354, '칠': 5355, '칠하다': 5356, '침': 5357, '침대': 5358, '침실': 5359, '침입': 5360, '침체': 5361, '침해': 5362, '칩': 5363, '칩셋': 5364, '칭찬': 5365, '카드': 5366, '카메라': 5367, '카뷰': 5368, '카운터': 5369, '카운트다운': 5370, '카지노': 5371, '카탈로그': 5372, '카테고리': 5373, '카트': 5374, '카페': 5375, '카페테리아': 5376, '카펫': 5377, '카피': 5378, '칵테일': 5379, '칸': 5380, '칼': 5381, '칼리': 5382, '캐': 5383, '캐나다': 5384, '캐리어': 5385, '캐릭터': 5386, '캐비닛': 5387, '캐빈': 5388, '캐싱': 5389, '캐터필러': 5390, '캐피탈': 5391, '캐피털': 5392, '캘리포니아': 5393, '캘린더': 5394, '캠': 5395, '캠퍼스': 5396, '캠페인': 5397, '캠프': 5398, '캠프장': 5399, '캠프파이어': 5400, '캠핑': 5401, '캠핑장': 5402, '캠핑카': 5403, '캡슐화': 5404, '캡처': 5405, '커뮤니케이션': 5406, '커뮤니티': 5407, '커미션': 5408, '커버': 5409, '커지다': 5410, '커터': 5411, '커튼': 5412, '커플': 5413, '커피': 5414, '커피메이커': 5415, '컨디셔닝': 5416, '컨베이어': 5417, '컨설턴트': 5418, '컨설팅': 5419, '컨셉': 5420, '컨테이너': 5421, '컨텐츠': 5422, '컬래버레이션': 5423, '컬러': 5424, '컴퍼니': 5425, '컴포트룸': 5426, '컴퓨터': 5427, '컴퓨팅': 5428, '컴프레서': 5429, '컷': 5430, '케어': 5431, '케이': 5432, '케이블': 5433, '케이스': 5434, '케이크': 5435, '코': 5436, '코너': 5437, '코드': 5438, '코딩': 5439, '코로나': 5440, '코르크': 5441, '코리아': 5442, '코리안': 5443, '코멘트': 5444, '코스': 5445, '코스닥': 5446, '코인': 5447, '코치': 5448, '코칭': 5449, '코코넛': 5450, '코퍼레이션': 5451, '콕': 5452, '콘덴서': 5453, '콘도': 5454, '콘도그': 5455, '콘서트': 5456, '콘셉': 5457, '콘셉트': 5458, '콘솔': 5459, '콘크리트': 5460, '콘텐츠': 5461, '콜리': 5462, '콜링': 5463, '콜카타': 5464, '콩나물': 5465, '쾌적하다': 5466, '쿠션': 5467, '쿠알라룸푸르': 5468, '쿠키': 5469, '쿠폰': 5470, '쿨': 5471, '쿨러': 5472, '퀼트': 5473, '큐': 5474, '크게': 5475, '크기': 5476, '크다': 5477, '크레딧': 5478, '크레인': 5479, '크루아상': 5480, '크류': 5481, '크리스마스': 5482, '크리에이터': 5483, '크리에이티브': 5484, '크립': 5485, '클라우드': 5486, '클라이언트': 5487, '클래스': 5488, '클러스터': 5489, '클럽': 5490, '클레': 5491, '클리': 5492, '클릭': 5493, '클릭률': 5494, '클립': 5495, '큼': 5496, '키': 5497, '키란': 5498, '키우다': 5499, '키트': 5500, '킬로그램': 5501, '킬로미터': 5502, '킬로와트': 5503, '타': 5504, '타겟': 5505, '타고': 5506, '타깃': 5507, '타다': 5508, '타당': 5509, '타운하우스': 5510, '타원곡선': 5511, '타이머': 5512, '타이밍': 5513, '타이어': 5514, '타이틀곡': 5515, '타임': 5516, '타임스퀘어': 5517, '타입': 5518, '타자기': 5519, '타협': 5520, '탁월하다': 5521, '탁자': 5522, '탄소': 5523, '탄원서': 5524, '탈': 5525, '탈세': 5526, '탈수': 5527, '탈퇴': 5528, '탐구': 5529, '탐방': 5530, '탐색': 5531, '탐험': 5532, '탑': 5533, '탑승': 5534, '탑재': 5535, '탕': 5536, '탕감': 5537, '태국': 5538, '태국어': 5539, '태그': 5540, '태극': 5541, '태극기': 5542, '태도': 5543, '태블릿': 5544, '태양': 5545, '택배': 5546, '탤런트': 5547, '탭': 5548, '터': 5549, '터널': 5550, '터링': 5551, '터미널': 5552, '터북': 5553, '터치': 5554, '터치스크린': 5555, '터키': 5556, '턴': 5557, '턴키': 5558, '테': 5559, '테니스': 5560, '테라': 5561, '테라바이트': 5562, '테라스': 5563, '테마': 5564, '테스': 5565, '테스트': 5566, '테이': 5567, '테이블': 5568, '테이프': 5569, '테크놀로지': 5570, '텍스처': 5571, '텍스트': 5572, '텐데': 5573, '텐데요': 5574, '텐트': 5575, '텔레비전': 5576, '템플': 5577, '템플릿': 5578, '템플스테이': 5579, '토너': 5580, '토론': 5581, '토르티야': 5582, '토목': 5583, '토스터': 5584, '토스트': 5585, '토요일': 5586, '토지': 5587, '토큰': 5588, '톤': 5589, '통': 5590, '통계': 5591, '통과': 5592, '통관': 5593, '통닭': 5594, '통도사': 5595, '통보': 5596, '통상': 5597, '통신': 5598, '통신망': 5599, '통신사': 5600, '통역': 5601, '통역관': 5602, '통장': 5603, '통제': 5604, '통지': 5605, '통지서': 5606, '통째': 5607, '통찰': 5608, '통한': 5609, '통합': 5610, '통해': 5611, '통화': 5612, '퇴근': 5613, '퇴사': 5614, '투': 5615, '투명': 5616, '투명하다': 5617, '투숙': 5618, '투어': 5619, '투자': 5620, '투자가': 5621, '투자수익률': 5622, '투자자': 5623, '툴': 5624, '튀기다': 5625, '튀김': 5626, '튜브': 5627, '튜토리얼': 5628, '트': 5629, '트래킹': 5630, '트래픽': 5631, '트랙볼': 5632, '트랙터': 5633, '트랙패드': 5634, '트랜치': 5635, '트러블': 5636, '트럭': 5637, '트레인': 5638, '트레일러': 5639, '트렌드': 5640, '트리': 5641, '트리트먼트': 5642, '트리플': 5643, '트윈': 5644, '트이다': 5645, '특권': 5646, '특급': 5647, '특기': 5648, '특별': 5649, '특별하다': 5650, '특산': 5651, '특선': 5652, '특성': 5653, '특수': 5654, '특수하다': 5655, '특정': 5656, '특정하다': 5657, '특제': 5658, '특집': 5659, '특징': 5660, '특허': 5661, '특히': 5662, '튼튼하다': 5663, '틀다': 5664, '틀림없다': 5665, '틀림없이': 5666, '틀어놓다': 5667, '틈': 5668, '틈새': 5669, '티': 5670, '티슈': 5671, '티저': 5672, '티켓': 5673, '팀': 5674, '팀원': 5675, '팁': 5676, '팅': 5677, '파견': 5678, '파괴': 5679, '파다': 5680, '파란색': 5681, '파로': 5682, '파리': 5683, '파산': 5684, '파산하다': 5685, '파손': 5686, '파스타': 5687, '파악': 5688, '파워': 5689, '파이': 5690, '파이다': 5691, '파이썬': 5692, '파이프': 5693, '파이프라인': 5694, '파일': 5695, '파키스탄': 5696, '파트너': 5697, '파트너쉽': 5698, '파티': 5699, '파파야': 5700, '판': 5701, '판금': 5702, '판단': 5703, '판매': 5704, '판매량': 5705, '판매업': 5706, '판명': 5707, '판촉': 5708, '팔': 5709, '팔고': 5710, '팔다': 5711, '팔레트': 5712, '팔로우': 5713, '팔로워': 5714, '팔리다': 5715, '팔지': 5716, '팜스프링스': 5717, '팜유': 5718, '팝': 5719, '팟캐스트': 5720, '패널': 5721, '패션': 5722, '패스': 5723, '패스트': 5724, '패스트푸드': 5725, '패자': 5726, '패치': 5727, '패키지': 5728, '패턴': 5729, '팩': 5730, '팩스': 5731, '팬': 5732, '팬데믹': 5733, '팬케이크': 5734, '팸플릿': 5735, '퍼센트': 5736, '퍼지다': 5737, '펀드': 5738, '펀딩': 5739, '펄스': 5740, '펌프': 5741, '페스티벌': 5742, '페이': 5743, '페이스': 5744, '페이지': 5745, '펜션': 5746, '펠메니': 5747, '펴다': 5748, '편': 5749, '편곡': 5750, '편도': 5751, '편리하다': 5752, '편물': 5753, '편안하다': 5754, '편안함': 5755, '편애': 5756, '편의': 5757, '편의점': 5758, '편이': 5759, '편입': 5760, '편지': 5761, '편지함': 5762, '편집': 5763, '편집자': 5764, '편하다': 5765, '평가': 5766, '평가판': 5767, '평균': 5768, '평면도': 5769, '평방': 5770, '평범하다': 5771, '평생': 5772, '평일': 5773, '평점': 5774, '평판': 5775, '평편': 5776, '평평하다': 5777, '평화': 5778, '폐가': 5779, '폐기물': 5780, '폐쇄': 5781, '폐쇄되어': 5782, '폐쇄하': 5783, '포': 5784, '포격': 5785, '포괄': 5786, '포기': 5787, '포스터': 5788, '포스트': 5789, '포스팅': 5790, '포인트': 5791, '포장': 5792, '포지셔닝': 5793, '포지션': 5794, '포켓': 5795, '포탄': 5796, '포털': 5797, '포토': 5798, '포트': 5799, '포트폴리오': 5800, '포함': 5801, '포항': 5802, '폭': 5803, '폭력': 5804, '폰': 5805, '폰트': 5806, '폴더': 5807, '폴리스티렌': 5808, '폴리오': 5809, '폴리우레탄': 5810, '폼': 5811, '표': 5812, '표면': 5813, '표시': 5814, '표절': 5815, '표정': 5816, '표준': 5817, '표지': 5818, '표현': 5819, '푸드': 5820, '풀': 5821, '풀다': 5822, '품': 5823, '품다': 5824, '품목': 5825, '품절': 5826, '품종': 5827, '품질': 5828, '풍': 5829, '풍부하다': 5830, '풍향': 5831, '퓨전': 5832, '프라이': 5833, '프라이드': 5834, '프라이머리': 5835, '프랑스': 5836, '프랑스어': 5837, '프랜차이즈': 5838, '프레': 5839, '프레임': 5840, '프레임워크': 5841, '프로': 5842, '프로그래머': 5843, '프로그래밍': 5844, '프로그램': 5845, '프로듀서': 5846, '프로모션': 5847, '프로세서': 5848, '프로세스': 5849, '프로젝터': 5850, '프로젝트': 5851, '프로토콜': 5852, '프로토타입': 5853, '프로필': 5854, '프루티': 5855, '프리랜서': 5856, '프리미엄': 5857, '프리뷰': 5858, '프린터': 5859, '플': 5860, '플라스틱': 5861, '플라이': 5862, '플라자': 5863, '플래닝': 5864, '플래시': 5865, '플래티넘': 5866, '플랜': 5867, '플랫폼': 5868, '플러그인': 5869, '플러머': 5870, '플러스': 5871, '플레이': 5872, '플레이어': 5873, '플로우': 5874, '플로터': 5875, '플루': 5876, '플립': 5877, '피': 5878, '피나': 5879, '피니쉬': 5880, '피드백': 5881, '피로연': 5882, '피부': 5883, '피스톤': 5884, '피아노': 5885, '피우다': 5886, '피칭팀': 5887, '피크': 5888, '피트': 5889, '피트니스': 5890, '피하': 5891, '피해': 5892, '피해자': 5893, '픽셀': 5894, '픽업': 5895, '핀': 5896, '필기체': 5897, '필드': 5898, '필름': 5899, '필리핀': 5900, '필수': 5901, '필요': 5902, '필요성': 5903, '필요없다': 5904, '필요하다': 5905, '필욘': 5906, '필터': 5907, '핑크': 5908, '하': 5909, '하고': 5910, '하고는': 5911, '하기는': 5912, '하나': 5913, '하나로': 5914, '하나요': 5915, '하니': 5916, '하다': 5917, '하단': 5918, '하드': 5919, '하드웨어': 5920, '하락': 5921, '하루': 5922, '하루나': 5923, '하룻밤': 5924, '하므다': 5925, '하수': 5926, '하숙집': 5927, '하얀색': 5928, '하오니': 5929, '하와이': 5930, '하우': 5931, '하우스': 5932, '하이재킹': 5933, '하이킹': 5934, '하이테크': 5935, '하자': 5936, '하지만': 5937, '학': 5938, '학과': 5939, '학교': 5940, '학기': 5941, '학년': 5942, '학문': 5943, '학생': 5944, '학술': 5945, '학습': 5946, '학업': 5947, '학원': 5948, '학위': 5949, '학자': 5950, '학자금': 5951, '한': 5952, '한가하다': 5953, '한계': 5954, '한국': 5955, '한국어': 5956, '한국은행': 5957, '한국인': 5958, '한다는': 5959, '한도': 5960, '한두': 5961, '한마디': 5962, '한번': 5963, '한식': 5964, '한식당': 5965, '한옥호텔': 5966, '한우': 5967, '한자': 5968, '한잔': 5969, '한정': 5970, '한정식': 5971, '한정판': 5972, '한지': 5973, '한창': 5974, '한층': 5975, '한테': 5976, '한편': 5977, '할당': 5978, '할랄': 5979, '할머니': 5980, '할부': 5981, '할애': 5982, '할인': 5983, '함': 5984, '함께': 5985, '합': 5986, '합격': 5987, '합계': 5988, '합류': 5989, '합리': 5990, '합법': 5991, '합성': 5992, '합의': 5993, '합작': 5994, '합치다': 5995, '합판': 5996, '핫': 5997, '핫스팟': 5998, '항': 5999, '항공': 6000, '항공사': 6001, '항구': 6002, '항목': 6003, '항상': 6004, '항성': 6005, '항의': 6006, '해': 6007, '해결': 6008, '해고': 6009, '해당': 6010, '해도': 6011, '해독': 6012, '해드리다': 6013, '해명': 6014, '해변': 6015, '해보다': 6016, '해봤다': 6017, '해상도': 6018, '해석': 6019, '해소': 6020, '해심': 6021, '해안': 6022, '해오다': 6023, '해외': 6024, '해외여행': 6025, '해주다': 6026, '해주시': 6027, '해지': 6028, '해초': 6029, '해커': 6030, '해킹': 6031, '해피': 6032, '핵심': 6033, '핸드폰': 6034, '행': 6035, '행동': 6036, '행복': 6037, '행복하다': 6038, '행사': 6039, '행운': 6040, '행해지다': 6041, '향': 6042, '향상': 6043, '향수': 6044, '향신료': 6045, '향후': 6046, '허가': 6047, '허가증': 6048, '허락': 6049, '허브': 6050, '허브차': 6051, '허슬': 6052, '허용': 6053, '허튼': 6054, '허풍': 6055, '헌신': 6056, '헐벗': 6057, '헤드헌터': 6058, '헤어드라이어': 6059, '헤지': 6060, '헬': 6061, '헬스장': 6062, '헷갈리다': 6063, '혁신': 6064, '현': 6065, '현금': 6066, '현대': 6067, '현명하다': 6068, '현미경': 6069, '현상': 6070, '현수막': 6071, '현장': 6072, '현재': 6073, '현지': 6074, '현행': 6075, '현황': 6076, '혈압': 6077, '혈액': 6078, '혐의': 6079, '협동': 6080, '협력': 6081, '협상': 6082, '협약': 6083, '협연': 6084, '협의': 6085, '협정': 6086, '협조': 6087, '협찬': 6088, '협회': 6089, '형': 6090, '형기': 6091, '형성': 6092, '형식': 6093, '형제': 6094, '형태': 6095, '혜택': 6096, '호도': 6097, '호법': 6098, '호스팅': 6099, '호실': 6100, '호의': 6101, '호주': 6102, '호출': 6103, '호텔': 6104, '호환': 6105, '호환성': 6106, '호흡': 6107, '혹독하다': 6108, '혹시': 6109, '혹은': 6110, '혼란': 6111, '혼자': 6112, '혼잡하다': 6113, '혼합': 6114, '홀': 6115, '홈': 6116, '홈스테이': 6117, '홈페이지': 6118, '홋카이도': 6119, '홍보': 6120, '화': 6121, '화가': 6122, '화거': 6123, '화기': 6124, '화나다': 6125, '화면': 6126, '화물': 6127, '화물선': 6128, '화보': 6129, '화상': 6130, '화상통화': 6131, '화상회의': 6132, '화소': 6133, '화요일': 6134, '화의': 6135, '화이트': 6136, '화장실': 6137, '화장품': 6138, '화전': 6139, '화폐': 6140, '화하다': 6141, '화학': 6142, '화합': 6143, '화해': 6144, '확고하다': 6145, '확답': 6146, '확대': 6147, '확보': 6148, '확신': 6149, '확실하다': 6150, '확인': 6151, '확장': 6152, '확정': 6153, '환': 6154, '환경': 6155, '환급': 6156, '환불': 6157, '환상': 6158, '환영': 6159, '환율': 6160, '환자': 6161, '환전': 6162, '환호': 6163, '활': 6164, '활동': 6165, '활발하다': 6166, '활성화': 6167, '활용': 6168, '회': 6169, '회계': 6170, '회계법인': 6171, '회계사': 6172, '회도': 6173, '회로': 6174, '회복': 6175, '회복하다': 6176, '회비': 6177, '회사': 6178, '회수': 6179, '회신': 6180, '회원': 6181, '회의': 6182, '회의실': 6183, '회의장': 6184, '회장': 6185, '회전': 6186, '회차': 6187, '회화': 6188, '횡설수설': 6189, '효과': 6190, '효율': 6191, '후': 6192, '후루룩': 6193, '후불': 6194, '후속': 6195, '후송': 6196, '후식': 6197, '후원': 6198, '후원자': 6199, '후의': 6200, '후회': 6201, '훈련': 6202, '훌륭하다': 6203, '훑다': 6204, '훨씬': 6205, '훼손': 6206, '휘': 6207, '휘발유': 6208, '휠': 6209, '휩쓸다': 6210, '휴': 6211, '휴가': 6212, '휴대': 6213, '휴대전화': 6214, '휴대폰': 6215, '휴식': 6216, '휴양': 6217, '흐름': 6218, '흐릿하': 6219, '흑자': 6220, '흔하다': 6221, '흘리다': 6222, '흙': 6223, '흙빛': 6224, '흡사하다': 6225, '흡수': 6226, '흡입': 6227, '흥미': 6228, '흥미롭다': 6229, '흥분': 6230, '흥분하다': 6231, '희망': 6232, '흰색': 6233, '히': 6234, '히트': 6235, '힘': 6236, '힘들다': 6237, '힘쓰다': 6238}\n"
          ]
        }
      ]
    },
    {
      "cell_type": "code",
      "source": [
        "print(src_to_index['<EOS>'])\n",
        "print(tar_to_index['<SOS>'])\n",
        "print(tar_to_index['<EOS>'])"
      ],
      "metadata": {
        "colab": {
          "base_uri": "https://localhost:8080/"
        },
        "id": "RrHL2XNqFGpc",
        "outputId": "fbc73e0c-fdc3-4563-c1c8-a1106551d27d"
      },
      "execution_count": 83,
      "outputs": [
        {
          "output_type": "stream",
          "name": "stdout",
          "text": [
            "208\n",
            "339\n",
            "338\n"
          ]
        }
      ]
    },
    {
      "cell_type": "code",
      "source": [
        "print(len(src_seq_tr))\n",
        "print(len(tar_seq_tr))"
      ],
      "metadata": {
        "colab": {
          "base_uri": "https://localhost:8080/"
        },
        "id": "U-mUWQqLJDe9",
        "outputId": "502147a0-473d-4830-8a28-10ade9a67099"
      },
      "execution_count": 92,
      "outputs": [
        {
          "output_type": "stream",
          "name": "stdout",
          "text": [
            "10000\n",
            "10000\n"
          ]
        }
      ]
    },
    {
      "cell_type": "code",
      "execution_count": null,
      "metadata": {
        "colab": {
          "base_uri": "https://localhost:8080/"
        },
        "id": "xrGkd41Has-Q",
        "outputId": "6362b1d7-23b8-4df2-ce45-d5ffaf7476dc"
      },
      "outputs": [
        {
          "name": "stdout",
          "output_type": "stream",
          "text": [
            "{'<EOS>': 1, 'A': 2, 'AAA': 3, 'AAA1@BBB1.com': 4, 'AAA@BBB.com': 5, 'ABCDE': 6, 'AI': 7, 'ANR': 8, 'ATM': 9, 'Associates': 10, 'B': 11, 'BBB': 12, 'BBB@email.com': 13, 'BSE': 14, 'Bank': 15, 'C': 16, 'CCTV': 17, 'CEO': 18, 'CFM': 19, 'CMS': 20, 'COVID': 21, 'CSS': 22, 'CT': 23, 'Company': 24, 'Corporation': 25, 'D': 26, 'DCA': 27, 'DVR': 28, 'Drive': 29, 'E': 30, 'EOB': 31, 'EPP': 32, 'ESG': 33, 'ETF': 34, 'EVA': 35, 'Enter': 36, 'Expo': 37, 'FFF': 38, 'FFFF': 39, 'FOMO': 40, 'Fair': 41, 'Fi': 42, 'Food': 43, 'Fu': 44, 'G': 45, 'GB': 46, 'GPS': 47, 'GVWR': 48, 'HDD': 49, 'HTML': 50, 'ID': 51, 'IP': 52, 'IPO': 53, 'IT': 54, 'IVR': 55, 'IaaS': 56, 'International': 57, 'IoT': 58, 'JLPT': 59, 'K': 60, 'Kabsat': 61, 'Korea': 62, 'LED': 63, 'Limited': 64, 'Locust': 65, 'M': 66, 'MAR': 67, 'MMS': 68, 'MOU': 69, 'Medical': 70, 'NFT': 71, 'NI': 72, 'NSE': 73, 'NTFS': 74, 'PDA': 75, 'PDF': 76, 'PPE': 77, 'PRO': 78, 'PSA': 79, 'PVP': 80, 'Precision': 81, 'Private': 82, 'QR': 83, 'RAM': 84, 'ROI': 85, 'RV': 86, 'SD': 87, 'SEO': 88, 'SIM': 89, 'SKU': 90, 'SNS': 91, 'SPV': 92, 'SSD': 93, 'SSL': 94, 'Salalah': 95, 'South': 96, 'TPU': 97, 'TV': 98, 'Touch': 99, 'UI': 100, 'UN': 101, 'USB': 102, 'VC': 103, 'VIP': 104, 'VPN': 105, 'VR': 106, 'VVIP': 107, 'View': 108, 'WIFI': 109, 'WTO': 110, 'Web': 111, 'Wi': 112, 'by': 113, 'car': 114, 'cm': 115, 'demat': 116, 'e': 117, 'found': 118, 'km': 119, 'm': 120, 'mm': 121, 'mmHg': 122, 'not': 123, 'pdf': 124, 'x': 125, '가게': 126, '가격': 127, '가격표': 128, '가공': 129, '가교': 130, '가구': 131, '가급적': 132, '가기': 133, '가까워지다': 134, '가까이': 135, '가깝다': 136, '가꾸다': 137, '가끔': 138, '가능': 139, '가능성': 140, '가능하다': 141, '가다': 142, '가닥': 143, '가득': 144, '가득하다': 145, '가든': 146, '가령': 147, '가로': 148, '가르다': 149, '가르치다': 150, '가리키다': 151, '가면': 152, '가미': 153, '가변': 154, '가볍다': 155, '가보다': 156, '가상': 157, '가상화': 158, '가세': 159, '가소성': 160, '가솔린': 161, '가스': 162, '가스나': 163, '가스레인지': 164, '가슴': 165, '가시': 166, '가야': 167, '가열': 168, '가옥': 169, '가요': 170, '가용성': 171, '가을': 172, '가의': 173, '가이드': 174, '가이드북': 175, '가입': 176, '가입자': 177, '가장': 178, '가전': 179, '가전제품': 180, '가정': 181, '가정식': 182, '가젯': 183, '가져가다': 184, '가져다주다': 185, '가져오다': 186, '가족': 187, '가지': 188, '가지다': 189, '가차': 190, '가치': 191, '가판': 192, '각': 193, '각각': 194, '각국': 195, '각도': 196, '각본': 197, '각서': 198, '각자': 199, '각종': 200, '간': 201, '간격': 202, '간결하다': 203, '간과': 204, '간극': 205, '간단하다': 206, '간략하다': 207, '간사': 208, '간의': 209, '간장': 210, '간접비': 211, '간주': 212, '간행물': 213, '간호사': 214, '갇히다': 215, '갈다': 216, '갈래': 217, '갈비': 218, '갈아타다': 219, '감': 220, '감당': 221, '감독': 222, '감동': 223, '감명': 224, '감사': 225, '감사하다': 226, '감소': 227, '감수': 228, '감시': 229, '감싸다': 230, '감안': 231, '감염': 232, '감정': 233, '감지': 234, '갑자기': 235, '갑작스럽다': 236, '값': 237, '갓': 238, '강남': 239, '강남역': 240, '강도': 241, '강력하다': 242, '강릉': 243, '강세': 244, '강아지': 245, '강연': 246, '강의': 247, '강의실': 248, '강점': 249, '강제': 250, '강조': 251, '강좌': 252, '강철': 253, '강하다': 254, '강화하다': 255, '갖다': 256, '갖추다': 257, '같다': 258, '같이': 259, '갚다': 260, '개': 261, '개구': 262, '개국': 263, '개념': 264, '개다': 265, '개도': 266, '개발': 267, '개발자': 268, '개방': 269, '개별': 270, '개봉': 271, '개선': 272, '개설': 273, '개시': 274, '개업': 275, '개요': 276, '개월': 277, '개월치': 278, '개인': 279, '개인실': 280, '개인정보': 281, '개인화': 282, '개입': 283, '개정': 284, '개조': 285, '개척': 286, '개체': 287, '개최': 288, '개회': 289, '객': 290, '객관': 291, '객실': 292, '갱신': 293, '거': 294, '거고': 295, '거기': 296, '거나': 297, '거대하다': 298, '거도': 299, '거들다': 300, '거뜬하다': 301, '거란': 302, '거래': 303, '거래소': 304, '거래처': 305, '거론': 306, '거리': 307, '거버넌스': 308, '거부': 309, '거셨나': 310, '거슬러': 311, '거신': 312, '거실': 313, '거야': 314, '거의': 315, '거절': 316, '거점': 317, '거주': 318, '거주지': 319, '거처': 320, '거치다': 321, '거품': 322, '걱정': 323, '걱정거리': 324, '건': 325, '건가': 326, '건강': 327, '건강하다': 328, '건너다': 329, '건너편': 330, '건네주다': 331, '건대': 332, '건물': 333, '건배': 334, '건설': 335, '건설업': 336, '건의': 337, '건조기': 338, '건지다': 339, '건축': 340, '건축물': 341, '걸': 342, '걸다': 343, '걸리다': 344, '걸음걸이': 345, '걸쭉하다': 346, '걸치다': 347, '검': 348, '검다': 349, '검사': 350, '검색': 351, '검수': 352, '검안': 353, '검은색': 354, '검증': 355, '검토': 356, '겁': 357, '겁니다': 358, '것': 359, '것이므': 360, '것입': 361, '게': 362, '게다가': 363, '게스트': 364, '게스트하우스': 365, '게시': 366, '게시판': 367, '게으르다': 368, '게이': 369, '게이트': 370, '게임': 371, '게장': 372, '게재': 373, '겠다': 374, '겨울': 375, '겨울철': 376, '격려': 377, '격식': 378, '격자': 379, '겪다': 380, '견과류': 381, '견본': 382, '견인차': 383, '견적': 384, '견학': 385, '결과': 386, '결국': 387, '결기': 388, '결론': 389, '결절': 390, '결정': 391, '결제': 392, '결코': 393, '결함': 394, '결합': 395, '결혼': 396, '결혼식': 397, '경': 398, '경고': 399, '경과': 400, '경기도': 401, '경량': 402, '경력': 403, '경로': 404, '경보': 405, '경비원': 406, '경시': 407, '경영': 408, '경우': 409, '경의': 410, '경작': 411, '경쟁': 412, '경쟁력': 413, '경쟁자': 414, '경제': 415, '경청': 416, '경치': 417, '경품': 418, '경향': 419, '경험': 420, '곁들이다': 421, '계란': 422, '계란빵': 423, '계란찜': 424, '계산': 425, '계산서': 426, '계세': 427, '계속': 428, '계시': 429, '계시다': 430, '계약': 431, '계약금': 432, '계약서': 433, '계열': 434, '계절': 435, '계정': 436, '계정은': 437, '계좌': 438, '계층': 439, '계획': 440, '고': 441, '고가': 442, '고개': 443, '고객': 444, '고구마': 445, '고귀하다': 446, '고급': 447, '고급스럽다': 448, '고기': 449, '고대': 450, '고도': 451, '고등어': 452, '고려': 453, '고려인삼': 454, '고르다': 455, '고맙다': 456, '고문': 457, '고민': 458, '고소하다': 459, '고속': 460, '고압': 461, '고양이': 462, '고여': 463, '고요': 464, '고용': 465, '고용주': 466, '고위': 467, '고유': 468, '고장': 469, '고정': 470, '고정기': 471, '고집': 472, '고추장': 473, '고치다': 474, '고통': 475, '고프다': 476, '고향': 477, '고화질': 478, '곡': 479, '곡물': 480, '곤경': 481, '곤혹': 482, '곧': 483, '곧다': 484, '골드': 485, '골프': 486, '곰팡이': 487, '곱': 488, '곳': 489, '곳곳': 490, '곳도': 491, '공': 492, '공간': 493, '공감': 494, '공개': 495, '공격': 496, '공공': 497, '공과금': 498, '공급': 499, '공기': 500, '공기업': 501, '공동': 502, '공동체': 503, '공략': 504, '공모': 505, '공백': 506, '공부': 507, '공사': 508, '공식': 509, '공압': 510, '공연': 511, '공용': 512, '공유': 513, '공인': 514, '공자': 515, '공장': 516, '공정': 517, '공정하다': 518, '공제': 519, '공지': 520, '공짜': 521, '공통': 522, '공통점': 523, '공학': 524, '공함': 525, '공항': 526, '과': 527, '과감': 528, '과거': 529, '과대': 530, '과세': 531, '과소': 532, '과실': 533, '과업': 534, '과일': 535, '과자': 536, '과장': 537, '과정': 538, '과제': 539, '과학': 540, '과학자': 541, '관': 542, '관계': 543, '관계없이': 544, '관광': 545, '관광객': 546, '관광지': 547, '관대하다': 548, '관련': 549, '관리': 550, '관리자': 551, '관세': 552, '관세청': 553, '관습': 554, '관심': 555, '관심사': 556, '관용': 557, '관점': 558, '관찰': 559, '관할': 560, '관해': 561, '관행': 562, '괌': 563, '광': 564, '광고': 565, '광대역': 566, '광도': 567, '광범위하다': 568, '광석': 569, '광택': 570, '괜': 571, '괜찮다': 572, '괴롭히다': 573, '굉장하다': 574, '교대': 575, '교류': 576, '교사': 577, '교수': 578, '교실': 579, '교육': 580, '교재': 581, '교직원': 582, '교체': 583, '교통': 584, '교환': 585, '교환학생': 586, '교훈': 587, '구': 588, '구가': 589, '구경': 590, '구독': 591, '구독료': 592, '구동': 593, '구름': 594, '구매': 595, '구별': 596, '구비': 597, '구상': 598, '구석구석': 599, '구성': 600, '구역': 601, '구이': 602, '구입': 603, '구절판': 604, '구조': 605, '구조원': 606, '구체': 607, '구축': 608, '구축함': 609, '구현': 610, '구형': 611, '국': 612, '국가': 613, '국경': 614, '국내': 615, '국내선': 616, '국내외': 617, '국물': 618, '국법': 619, '국수': 620, '국적': 621, '국제': 622, '국제공항': 623, '국한': 624, '군데': 625, '굴삭기': 626, '굴착기': 627, '굵다': 628, '굽다': 629, '궁궐': 630, '궁극': 631, '궁금하다': 632, '권': 633, '권리': 634, '권장': 635, '권하다': 636, '권한': 637, '귀': 638, '귀국': 639, '귀사': 640, '귀중': 641, '귀중하다': 642, '귀하': 643, '귀하다': 644, '규모': 645, '규정': 646, '규제': 647, '규칙': 648, '균열': 649, '균형': 650, '그': 651, '그거': 652, '그건': 653, '그걸': 654, '그걿': 655, '그것': 656, '그게': 657, '그날': 658, '그냥': 659, '그녀': 660, '그늘': 661, '그다음': 662, '그대로': 663, '그동안': 664, '그때': 665, '그땐': 666, '그라브락스': 667, '그래도': 668, '그래서': 669, '그래프': 670, '그래픽': 671, '그랬는데': 672, '그랬더니': 673, '그러나': 674, '그러니까': 675, '그러면': 676, '그러므로': 677, '그러하다': 678, '그런데': 679, '그렇게': 680, '그렇다': 681, '그렇다고': 682, '그렇지만': 683, '그룹': 684, '그릇': 685, '그리고': 686, '그리다': 687, '그리스': 688, '그린': 689, '그릴': 690, '그림': 691, '그만하다': 692, '그저': 693, '그중': 694, '극구': 695, '극복': 696, '극장': 697, '극적': 698, '근거': 699, '근데': 700, '근로자': 701, '근무': 702, '근원': 703, '근접하다': 704, '근처': 705, '글': 706, '글꼴': 707, '글로벌': 708, '글루텐': 709, '글쎄': 710, '글쎄요': 711, '글씨': 712, '금': 713, '금기': 714, '금년': 715, '금리': 716, '금색': 717, '금속': 718, '금액': 719, '금요일': 720, '금융': 721, '금융감독원': 722, '금은': 723, '금전': 724, '금제': 725, '금지': 726, '급': 727, '급등': 728, '급성': 729, '급여': 730, '급우': 731, '급증': 732, '급하다': 733, '긍정': 734, '기': 735, '기가바이트': 736, '기간': 737, '기계': 738, '기공식': 739, '기관': 740, '기구': 741, '기금': 742, '기기': 743, '기꺼이': 744, '기념': 745, '기념일': 746, '기능': 747, '기다': 748, '기다리다': 749, '기대': 750, '기대하다': 751, '기도': 752, '기둥': 753, '기록': 754, '기르다': 755, '기밀': 756, '기반': 757, '기본': 758, '기부': 759, '기분': 760, '기쁘다': 761, '기사': 762, '기숙사': 763, '기술': 764, '기술자': 765, '기어': 766, '기억': 767, '기억나다': 768, '기업': 769, '기업가': 770, '기업은행': 771, '기업인': 772, '기여': 773, '기온': 774, '기와': 775, '기울이다': 776, '기원': 777, '기입': 778, '기자': 779, '기재': 780, '기적': 781, '기존': 782, '기준': 783, '기중기': 784, '기차': 785, '기차역': 786, '기차표': 787, '기초': 788, '기타': 789, '기표': 790, '기한': 791, '기호': 792, '기혼': 793, '기회': 794, '기획': 795, '기후변화': 796, '긴급': 797, '긴급하다': 798, '긴밀하다': 799, '길': 800, '길다': 801, '길어지다': 802, '길이': 803, '김': 804, '김밥': 805, '김치': 806, '김치볶음밥': 807, '깊다': 808, '깊이': 809, '까다롭다': 810, '까맣다': 811, '깔끔하다': 812, '깔리다': 813, '깜박이다': 814, '깜빡': 815, '깜짝': 816, '깨끗하다': 817, '깨다': 818, '깨우치다': 819, '깨지다': 820, '깻잎': 821, '꺼내다': 822, '꺼지다': 823, '꼭': 824, '꼼꼼하다': 825, '꽉': 826, '꽤': 827, '꾸미다': 828, '꾸준하다': 829, '꿀': 830, '꿈': 831, '꿰매다': 832, '끄다': 833, '끊다': 834, '끌': 835, '끌다': 836, '끌리다': 837, '끓는점': 838, '끓다': 839, '끓이다': 840, '끔찍하다': 841, '끝': 842, '끝나다': 843, '끝내기': 844, '끝내다': 845, '끼치다': 846, '나': 847, '나가다': 848, '나나': 849, '나누다': 850, '나뉘다': 851, '나다': 852, '나라': 853, '나르다': 854, '나머지': 855, '나무': 856, '나빠지다': 857, '나쁘다': 858, '나사': 859, '나서다': 860, '나아': 861, '나아가다': 862, '나아지다': 863, '나열': 864, '나오다': 865, '나은': 866, '나은지': 867, '나이': 868, '나이라': 869, '나이지리아': 870, '나이트클럽': 871, '나일론': 872, '나중': 873, '나타나다': 874, '나타내다': 875, '나흘': 876, '난': 877, '난방': 878, '난이도': 879, '날': 880, '날리다': 881, '날씨': 882, '날아가다': 883, '날짜': 884, '날카로워지다': 885, '남기다': 886, '남다': 887, '남동쪽': 888, '남미': 889, '남성': 890, '남아': 891, '남아시아': 892, '남용': 893, '남지': 894, '남편': 895, '납부': 896, '납품': 897, '낫': 898, '낫다': 899, '낭비': 900, '낭비하다': 901, '낮다': 902, '낮아지다': 903, '낮잠': 904, '낮추다': 905, '낯설다': 906, '내': 907, '내기': 908, '내내': 909, '내년': 910, '내놓다': 911, '내다': 912, '내려가다': 913, '내려오다': 914, '내리다': 915, '내면': 916, '내미다': 917, '내부': 918, '내시': 919, '내야': 920, '내연': 921, '내용': 922, '내일': 923, '내장': 924, '내주다': 925, '내지': 926, '낸싱': 927, '낼': 928, '냄비': 929, '냅킨': 930, '냉각': 931, '냉동고': 932, '냉면': 933, '냉장': 934, '너': 935, '너무': 936, '너무나': 937, '너무하다': 938, '너비': 939, '너희': 940, '널': 941, '널리': 942, '넓다': 943, '넓히다': 944, '넘기다': 945, '넘다': 946, '넘버': 947, '넘어가다': 948, '넘어서다': 949, '넘어지다': 950, '넘치다': 951, '넣기': 952, '넣다': 953, '네': 954, '네가지': 955, '네트워크': 956, '네트워킹': 957, '넷째': 958, '년': 959, '노': 960, '노고': 961, '노동자': 962, '노란색': 963, '노래': 964, '노래방': 965, '노력': 966, '노인': 967, '노점': 968, '노출': 969, '노트북': 970, '노프': 971, '녹색': 972, '녹음': 973, '녹이다': 974, '녹차': 975, '녹화': 976, '논란': 977, '논문': 978, '논의': 979, '논픽션': 980, '놀': 981, '놀라다': 982, '놀랍다': 983, '놀이터': 984, '농': 985, '농기': 986, '농기구': 987, '농담': 988, '농부': 989, '농어': 990, '농업': 991, '농작물': 992, '높다': 993, '높아지다': 994, '높이': 995, '높이다': 996, '놓다': 997, '놓이다': 998, '놓치다': 999, '뇌파': 1000, '누가': 1001, '누구': 1002, '누구신지': 1003, '누군가': 1004, '누군지': 1005, '누락': 1006, '누르다': 1007, '누리': 1008, '누리다': 1009, '누수': 1010, '눈': 1011, '눌릴': 1012, '뉴스': 1013, '뉴스레터': 1014, '뉴욕': 1015, '뉴질랜드': 1016, '느껴지다': 1017, '느끼다': 1018, '느낌': 1019, '느리다': 1020, '느슨하다': 1021, '늘': 1022, '늘다': 1023, '늘리다': 1024, '늘어나다': 1025, '늙다': 1026, '능력': 1027, '늦': 1028, '늦다': 1029, '늦어지다': 1030, '니': 1031, '님': 1032, '다': 1033, '다가': 1034, '다가가다': 1035, '다가오다': 1036, '다국적': 1037, '다녀오다': 1038, '다년': 1039, '다니다': 1040, '다단계': 1041, '다도': 1042, '다듬다': 1043, '다량': 1044, '다루다': 1045, '다루어지다': 1046, '다르다': 1047, '다른': 1048, '다리미': 1049, '다만': 1050, '다섯': 1051, '다섯째': 1052, '다소': 1053, '다시': 1054, '다시다': 1055, '다양성': 1056, '다양하다': 1057, '다용': 1058, '다운': 1059, '다운로드': 1060, '다음': 1061, '다음주': 1062, '다이닝': 1063, '다인': 1064, '다채로웠으': 1065, '다큐멘터리': 1066, '다해': 1067, '다행': 1068, '다행하다': 1069, '단': 1070, '단가': 1071, '단거리': 1072, '단계': 1073, '단골': 1074, '단기': 1075, '단기간': 1076, '단단하다': 1077, '단독': 1078, '단돈': 1079, '단말기': 1080, '단백질': 1081, '단순하다': 1082, '단어': 1083, '단열': 1084, '단위': 1085, '단일': 1086, '단점': 1087, '단정하다': 1088, '단지': 1089, '단체': 1090, '단편': 1091, '단합': 1092, '닫다': 1093, '달': 1094, '달다': 1095, '달라': 1096, '달라지다': 1097, '달러': 1098, '달리': 1099, '달리다': 1100, '달성': 1101, '달이': 1102, '달콤하다': 1103, '닭': 1104, '닭고기': 1105, '닭발': 1106, '담': 1107, '담그다': 1108, '담기다': 1109, '담다': 1110, '담당': 1111, '담당자': 1112, '담배': 1113, '담백하다': 1114, '담보': 1115, '답': 1116, '답니': 1117, '답답하다': 1118, '답변': 1119, '답장': 1120, '답지': 1121, '당': 1122, '당국': 1123, '당근': 1124, '당분간': 1125, '당사': 1126, '당사자': 1127, '당시': 1128, '당신': 1129, '당연하다': 1130, '당일': 1131, '당장': 1132, '당하다': 1133, '당황': 1134, '대': 1135, '대가': 1136, '대고': 1137, '대구': 1138, '대규모': 1139, '대금': 1140, '대기': 1141, '대기업': 1142, '대나무': 1143, '대다': 1144, '대다수': 1145, '대단하다': 1146, '대답': 1147, '대략': 1148, '대량': 1149, '대로': 1150, '대륙': 1151, '대리인': 1152, '대리점': 1153, '대만': 1154, '대박': 1155, '대본': 1156, '대부분': 1157, '대비': 1158, '대상': 1159, '대상자': 1160, '대신': 1161, '대안': 1162, '대야': 1163, '대여': 1164, '대역': 1165, '대역폭': 1166, '대요': 1167, '대유행': 1168, '대응': 1169, '대의': 1170, '대입': 1171, '대적': 1172, '대접': 1173, '대중': 1174, '대지': 1175, '대책': 1176, '대처': 1177, '대체': 1178, '대출': 1179, '대출받다': 1180, '대충': 1181, '대치': 1182, '대칭': 1183, '대통령': 1184, '대폭': 1185, '대표': 1186, '대피소': 1187, '대학': 1188, '대학교': 1189, '대한': 1190, '대한민국': 1191, '대해': 1192, '대행': 1193, '대형': 1194, '대화': 1195, '댓글': 1196, '더': 1197, '더듬다': 1198, '더디다': 1199, '더라도': 1200, '더블': 1201, '더욱': 1202, '더위': 1203, '더하다': 1204, '덕분': 1205, '덜': 1206, '덜다': 1207, '덤프': 1208, '덤프트럭': 1209, '덥다': 1210, '덧붙이다': 1211, '덩굴': 1212, '데': 1213, '데도': 1214, '데려가다': 1215, '데려오다': 1216, '데리': 1217, '데리다': 1218, '데모': 1219, '데뷔': 1220, '데스크': 1221, '데스크탑': 1222, '데우다': 1223, '데이터': 1224, '데이터베이스': 1225, '데이트': 1226, '데코': 1227, '데크': 1228, '덴마크': 1229, '도': 1230, '도구': 1231, '도넛': 1232, '도달': 1233, '도대체': 1234, '도로': 1235, '도록': 1236, '도르다': 1237, '도매': 1238, '도메인': 1239, '도서관': 1240, '도시': 1241, '도시락': 1242, '도안': 1243, '도어': 1244, '도와주다': 1245, '도용': 1246, '도우': 1247, '도우미': 1248, '도울': 1249, '도움': 1250, '도움말': 1251, '도입': 1252, '도전': 1253, '도착': 1254, '도체': 1255, '도쿄': 1256, '독립': 1257, '독방': 1258, '독일': 1259, '독자': 1260, '독점': 1261, '독촉': 1262, '독특하다': 1263, '돈': 1264, '돈벌이': 1265, '돋보이다': 1266, '돌려주다': 1267, '돌리다': 1268, '돌보다': 1269, '돌아가다': 1270, '돌아오다': 1271, '돌잔치': 1272, '돌파': 1273, '돔': 1274, '돕기': 1275, '돕다': 1276, '동': 1277, '동감': 1278, '동거': 1279, '동기': 1280, '동남아시아': 1281, '동네': 1282, '동등': 1283, '동료': 1284, '동물': 1285, '동물성': 1286, '동반': 1287, '동부': 1288, '동생': 1289, '동시': 1290, '동안': 1291, '동양': 1292, '동영상': 1293, '동의': 1294, '동인': 1295, '동일': 1296, '동일시': 1297, '동일하다': 1298, '동전': 1299, '동참': 1300, '동행': 1301, '동향': 1302, '돼다': 1303, '돼지': 1304, '돼지고기': 1305, '되게': 1306, '되다': 1307, '되돌리다': 1308, '되어다': 1309, '되찾다': 1310, '두': 1311, '두기': 1312, '두껍다': 1313, '두다': 1314, '두드리다': 1315, '두렵다': 1316, '두시': 1317, '두운': 1318, '둘': 1319, '둘러보다': 1320, '둘러싸다': 1321, '둘째': 1322, '뒤': 1323, '뒷': 1324, '뒷마당': 1325, '뒷받침': 1326, '듀얼': 1327, '드': 1328, '드나': 1329, '드디어': 1330, '드라마': 1331, '드라이브': 1332, '드러나다': 1333, '드럼': 1334, '드레스': 1335, '드레싱': 1336, '드로잉': 1337, '드리다': 1338, '드릴': 1339, '듣기': 1340, '듣다': 1341, '들': 1342, '들다': 1343, '들뜨다': 1344, '들려주다': 1345, '들르다': 1346, '들리다': 1347, '들어가다': 1348, '들어서다': 1349, '들어오다': 1350, '들어주다': 1351, '들이다': 1352, '듭': 1353, '듭니': 1354, '등': 1355, '등급': 1356, '등등': 1357, '등록': 1358, '등록증': 1359, '등본': 1360, '등장': 1361, '디네': 1362, '디럭스': 1363, '디바이스': 1364, '디스크': 1365, '디스플레이': 1366, '디시': 1367, '디자이너': 1368, '디자인': 1369, '디저스터': 1370, '디저트': 1371, '디젤': 1372, '디지털': 1373, '디지털로': 1374, '딜러': 1375, '딥': 1376, '딩기': 1377, '따내다': 1378, '따뜻하다': 1379, '따라가다': 1380, '따라서': 1381, '따라오다': 1382, '따로': 1383, '따르다': 1384, '딱': 1385, '딱이다': 1386, '딸리다': 1387, '땀': 1388, '때': 1389, '때때로': 1390, '때로는': 1391, '때문': 1392, '떠나다': 1393, '떠오르다': 1394, '떡': 1395, '떡볶이': 1396, '떨다': 1397, '떨어뜨리다': 1398, '떨어지다': 1399, '또': 1400, '또는': 1401, '또래': 1402, '또한': 1403, '똑같다': 1404, '똑똑하다': 1405, '똑바로': 1406, '뚜렷하다': 1407, '뛰어나다': 1408, '뛰어들다': 1409, '뜨개질': 1410, '뜨다': 1411, '뜰': 1412, '뜻': 1413, '뜻입': 1414, '띄다': 1415, '라디오': 1416, '라면': 1417, '라발': 1418, '라서': 1419, '라우터': 1420, '라운드': 1421, '라운지': 1422, '라이': 1423, '라이브': 1424, '라이브러리': 1425, '라이선스': 1426, '라이센스': 1427, '라이트': 1428, '라이트닝': 1429, '라이프스타일': 1430, '라인': 1431, '라인업': 1432, '란': 1433, '랍니': 1434, '래야': 1435, '랙티브': 1436, '랜드': 1437, '랩': 1438, '랩톱': 1439, '량': 1440, '러': 1441, '러너': 1442, '러닝': 1443, '러시': 1444, '럭셔리': 1445, '런가': 1446, '런던': 1447, '런칭': 1448, '레드': 1449, '레벨': 1450, '레스토랑': 1451, '레시피': 1452, '레어': 1453, '레이': 1454, '레이블': 1455, '레이아웃': 1456, '레인': 1457, '레지스트리': 1458, '레코드': 1459, '레크리에이션': 1460, '레터': 1461, '렌더링': 1462, '렌즈': 1463, '렌탈': 1464, '렌터카': 1465, '렌틸': 1466, '려고': 1467, '려면': 1468, '령': 1469, '로': 1470, '로고': 1471, '로그': 1472, '로그아웃': 1473, '로그온': 1474, '로그인': 1475, '로더': 1476, '로드': 1477, '로드맵': 1478, '로만': 1479, '로봇': 1480, '로부터': 1481, '로비': 1482, '로서': 1483, '로열티': 1484, '로터리': 1485, '로트': 1486, '록': 1487, '론': 1488, '론칭': 1489, '롤': 1490, '롤러': 1491, '롤플레잉': 1492, '롭': 1493, '료': 1494, '루프': 1495, '룸': 1496, '룸메이트': 1497, '룸서비스': 1498, '룸셰어': 1499, '륜': 1500, '률': 1501, '를': 1502, '리': 1503, '리가': 1504, '리기': 1505, '리뉴얼': 1506, '리더': 1507, '리드': 1508, '리디렉션': 1509, '리버풀': 1510, '리뷰': 1511, '리셉션': 1512, '리소스': 1513, '리스크': 1514, '리스트': 1515, '리조트': 1516, '리지': 1517, '리캐': 1518, '리커버리': 1519, '리테일': 1520, '리퍼': 1521, '리프트': 1522, '리허설': 1523, '린다': 1524, '릴': 1525, '링': 1526, '링스': 1527, '링크': 1528, '마': 1529, '마감': 1530, '마개': 1531, '마늘': 1532, '마닐라': 1533, '마다': 1534, '마당': 1535, '마드리드': 1536, '마땅치': 1537, '마력': 1538, '마련': 1539, '마리': 1540, '마무리': 1541, '마법': 1542, '마사지': 1543, '마스코트': 1544, '마스크': 1545, '마스터': 1546, '마시기': 1547, '마시다': 1548, '마우스': 1549, '마을': 1550, '마음': 1551, '마이너스': 1552, '마이크': 1553, '마인더': 1554, '마인드': 1555, '마중': 1556, '마지막': 1557, '마차': 1558, '마찬가지': 1559, '마치다': 1560, '마침': 1561, '마침내': 1562, '마케터': 1563, '마케터입니': 1564, '마케팅': 1565, '마포구': 1566, '막': 1567, '막걸리': 1568, '막다': 1569, '막대': 1570, '막히다': 1571, '만': 1572, '만기': 1573, '만기일': 1574, '만나다': 1575, '만난': 1576, '만날': 1577, '만도': 1578, '만두': 1579, '만드나': 1580, '만들기': 1581, '만들다': 1582, '만들어지다': 1583, '만듭니': 1584, '만료': 1585, '만약': 1586, '만이': 1587, '만일': 1588, '만족': 1589, '만족스럽다': 1590, '만족하다': 1591, '만찬': 1592, '만큼': 1593, '만화': 1594, '만회': 1595, '많다': 1596, '많아지다': 1597, '많이': 1598, '말': 1599, '말다': 1600, '말레이시아': 1601, '말씀': 1602, '말씀드리다': 1603, '맙소사': 1604, '맛': 1605, '맛보다': 1606, '맛있다': 1607, '맛집': 1608, '맜있는': 1609, '망치다': 1610, '맞다': 1611, '맞서다': 1612, '맞추다': 1613, '맞춤': 1614, '맡기다': 1615, '맡다': 1616, '매': 1617, '매각': 1618, '매끄럽다': 1619, '매너': 1620, '매년': 1621, '매니저': 1622, '매다': 1623, '매달': 1624, '매도': 1625, '매력': 1626, '매료': 1627, '매매': 1628, '매물': 1629, '매번': 1630, '매수': 1631, '매우': 1632, '매월': 1633, '매일': 1634, '매입': 1635, '매장': 1636, '매점': 1637, '매주': 1638, '매진': 1639, '매체': 1640, '매출': 1641, '매치': 1642, '매크로': 1643, '매트': 1644, '매트리스': 1645, '매핑': 1646, '맥락': 1647, '맥주': 1648, '맨': 1649, '맬웨어': 1650, '맵': 1651, '맵다': 1652, '맵핑': 1653, '맺다': 1654, '머': 1655, '머드': 1656, '머리': 1657, '머무르다': 1658, '머물다': 1659, '머신': 1660, '먹기': 1661, '먹다': 1662, '먹방': 1663, '먹이': 1664, '먼저': 1665, '먼지': 1666, '멀다': 1667, '멀리': 1668, '멈추다': 1669, '멋지다': 1670, '멎다': 1671, '메가바이트': 1672, '메가비트': 1673, '메뉴': 1674, '메뉴판': 1675, '메모': 1676, '메시': 1677, '메시지': 1678, '메이커': 1679, '메이크업': 1680, '메인': 1681, '메일': 1682, '메커니즘': 1683, '메타': 1684, '멜론': 1685, '멤버': 1686, '멤버십': 1687, '며칠': 1688, '면': 1689, '면역': 1690, '면적': 1691, '면접': 1692, '면제': 1693, '면직물': 1694, '면책': 1695, '면허': 1696, '면허증': 1697, '명': 1698, '명과': 1699, '명당': 1700, '명령': 1701, '명백하다': 1702, '명분': 1703, '명상': 1704, '명세서': 1705, '명시': 1706, '명의': 1707, '명인': 1708, '명칭': 1709, '명품': 1710, '명함': 1711, '명확하다': 1712, '몇': 1713, '몇대': 1714, '몇몇': 1715, '모': 1716, '모국': 1717, '모국어': 1718, '모금': 1719, '모기': 1720, '모기지': 1721, '모기지론': 1722, '모니터': 1723, '모니터링': 1724, '모델': 1725, '모뎀': 1726, '모두': 1727, '모듈': 1728, '모드': 1729, '모든': 1730, '모레': 1731, '모르다': 1732, '모르타르': 1733, '모바일': 1734, '모범': 1735, '모색': 1736, '모서리': 1737, '모습': 1738, '모시': 1739, '모시다': 1740, '모양': 1741, '모욕': 1742, '모으다': 1743, '모의고사': 1744, '모이다': 1745, '모임': 1746, '모자': 1747, '모터': 1748, '모터보트': 1749, '모텔': 1750, '모티브': 1751, '모험': 1752, '모형': 1753, '목걸이': 1754, '목격': 1755, '목록': 1756, '목별': 1757, '목소리': 1758, '목요일': 1759, '목욕': 1760, '목욕탕': 1761, '목적': 1762, '목적지': 1763, '목표': 1764, '몫': 1765, '몬순': 1766, '몰다': 1767, '몰두하다': 1768, '몰이': 1769, '몸': 1770, '못': 1771, '묘목': 1772, '무': 1773, '무겁다': 1774, '무게': 1775, '무너지다': 1776, '무늬': 1777, '무대': 1778, '무드': 1779, '무례하다': 1780, '무료': 1781, '무리': 1782, '무사하다': 1783, '무선': 1784, '무섭다': 1785, '무슨': 1786, '무시': 1787, '무언가': 1788, '무엇': 1789, '무었': 1790, '무역': 1791, '무역수지': 1792, '무용': 1793, '무의미하다': 1794, '무작위': 1795, '무제한': 1796, '무중력': 1797, '무지': 1798, '묵': 1799, '묵고': 1800, '묵다': 1801, '묵시': 1802, '묶음': 1803, '문': 1804, '문득': 1805, '문법': 1806, '문서': 1807, '문신': 1808, '문의': 1809, '문의사항': 1810, '문자': 1811, '문제': 1812, '문제점': 1813, '문하': 1814, '문화': 1815, '묻다': 1816, '물': 1817, '물가상승률': 1818, '물건': 1819, '물고기': 1820, '물다': 1821, '물론': 1822, '물류': 1823, '물리': 1824, '물속': 1825, '물어보다': 1826, '물의': 1827, '물이': 1828, '물질': 1829, '물체': 1830, '물품': 1831, '뭐': 1832, '뭐라다': 1833, '뭔가': 1834, '뭘': 1835, '뮤직': 1836, '뮤추얼': 1837, '므': 1838, '미결': 1839, '미국': 1840, '미국법': 1841, '미끼': 1842, '미납': 1843, '미니': 1844, '미니멀리즘': 1845, '미니바': 1846, '미디어': 1847, '미디엄': 1848, '미래': 1849, '미리': 1850, '미만': 1851, '미세하다': 1852, '미수': 1853, '미슐랭': 1854, '미스': 1855, '미안하다': 1856, '미약': 1857, '미얀마': 1858, '미용': 1859, '미적': 1860, '미지': 1861, '미치나': 1862, '미치다': 1863, '미터': 1864, '미팅': 1865, '미혼': 1866, '믹서': 1867, '민간': 1868, '민물': 1869, '민원': 1870, '민팅': 1871, '믿다': 1872, '밀가루': 1873, '밀고': 1874, '밀다': 1875, '밀레': 1876, '밀리다': 1877, '밀크티숍': 1878, '밀회': 1879, '밉다': 1880, '및': 1881, '밑': 1882, '바': 1883, '바꾸다': 1884, '바뀌다': 1885, '바나나': 1886, '바늘': 1887, '바다': 1888, '바닥': 1889, '바닥나다': 1890, '바닷물': 1891, '바디': 1892, '바라다': 1893, '바라보다': 1894, '바라지': 1895, '바람': 1896, '바람직하다': 1897, '바램': 1898, '바로': 1899, '바르다': 1900, '바베이도스': 1901, '바베큐': 1902, '바비큐': 1903, '바쁘다': 1904, '바위': 1905, '바이': 1906, '바이러스': 1907, '바이오': 1908, '바이트': 1909, '바치다': 1910, '바퀴': 1911, '바탕': 1912, '박': 1913, '박람회': 1914, '박물관': 1915, '박사': 1916, '박스': 1917, '밖': 1918, '반': 1919, '반갑다': 1920, '반기다': 1921, '반납': 1922, '반년': 1923, '반대': 1924, '반대편': 1925, '반도체': 1926, '반드시': 1927, '반려': 1928, '반려견': 1929, '반려동물': 1930, '반면': 1931, '반영': 1932, '반응': 1933, '반찬': 1934, '반품': 1935, '받다': 1936, '받아들이다': 1937, '발견': 1938, '발급': 1939, '발끝': 1940, '발복': 1941, '발생': 1942, '발송': 1943, '발신': 1944, '발자국': 1945, '발전': 1946, '발주': 1947, '발표': 1948, '발행': 1949, '발효': 1950, '발휘': 1951, '밝혀내다': 1952, '밝혀지다': 1953, '밟다': 1954, '밤': 1955, '밤낮': 1956, '밤늦다': 1957, '밤새다': 1958, '밥': 1959, '밥그릇': 1960, '밧줄': 1961, '방': 1962, '방과': 1963, '방금': 1964, '방대하다': 1965, '방문': 1966, '방문객': 1967, '방법': 1968, '방사성': 1969, '방송': 1970, '방송국': 1971, '방수': 1972, '방식': 1973, '방안': 1974, '방어': 1975, '방이': 1976, '방적': 1977, '방적기': 1978, '방지': 1979, '방출': 1980, '방침': 1981, '방해': 1982, '방향': 1983, '방화벽': 1984, '밭': 1985, '배': 1986, '배경': 1987, '배경음악': 1988, '배너': 1989, '배다': 1990, '배달': 1991, '배당금': 1992, '배려': 1993, '배분': 1994, '배색': 1995, '배송': 1996, '배송비': 1997, '배송지': 1998, '배수': 1999, '배우': 2000, '배우다': 2001, '배우자': 2002, '배움': 2003, '배정': 2004, '배출': 2005, '배치': 2006, '배터리': 2007, '배포': 2008, '백': 2009, '백만': 2010, '백신': 2011, '백업': 2012, '백엔드': 2013, '밴드': 2014, '밸브': 2015, '뱅크': 2016, '뱅킹': 2017, '버': 2018, '버그': 2019, '버너': 2020, '버네': 2021, '버는': 2022, '버드': 2023, '버리다': 2024, '버블': 2025, '버스': 2026, '버스정류장': 2027, '버전': 2028, '버터플라이': 2029, '버튼': 2030, '번': 2031, '번가': 2032, '번거롭다': 2033, '번식': 2034, '번역': 2035, '번역가': 2036, '번의': 2037, '번지': 2038, '번창': 2039, '번호': 2040, '벌': 2041, '벌다': 2042, '벌써': 2043, '벌어지다': 2044, '벌이': 2045, '범': 2046, '범위': 2047, '범인': 2048, '범죄': 2049, '범죄자': 2050, '범주': 2051, '법': 2052, '법률': 2053, '법원': 2054, '법인': 2055, '법인세': 2056, '법적': 2057, '법정': 2058, '벗다': 2059, '벗어나다': 2060, '베네수엘라': 2061, '베다': 2062, '베벨': 2063, '베스트셀러': 2064, '베어링': 2065, '베이스': 2066, '베타': 2067, '베테': 2068, '베트남': 2069, '벡터': 2070, '벤딩': 2071, '벤처캐피털': 2072, '벤츄리': 2073, '벤치': 2074, '벨': 2075, '벨트': 2076, '벽': 2077, '벽난로': 2078, '벽지': 2079, '변경': 2080, '변동': 2081, '변동성': 2082, '변명': 2083, '변속기': 2084, '변수': 2085, '변하다': 2086, '변호사': 2087, '변화': 2088, '변환': 2089, '별': 2090, '별관': 2091, '별도': 2092, '별로': 2093, '별장': 2094, '병': 2095, '병동': 2096, '병원': 2097, '병합': 2098, '보': 2099, '보건': 2100, '보고': 2101, '보고서': 2102, '보관': 2103, '보기': 2104, '보내다': 2105, '보내오다': 2106, '보다': 2107, '보도': 2108, '보드': 2109, '보람': 2110, '보류': 2111, '보물': 2112, '보살피다': 2113, '보상': 2114, '보수': 2115, '보시': 2116, '보쌈': 2117, '보안': 2118, '보여주다': 2119, '보유': 2120, '보이': 2121, '보이다': 2122, '보이지': 2123, '보장': 2124, '보조': 2125, '보존': 2126, '보증': 2127, '보증금': 2128, '보증인': 2129, '보지': 2130, '보철물': 2131, '보청기': 2132, '보통': 2133, '보트': 2134, '보행': 2135, '보험': 2136, '보험금': 2137, '보험료': 2138, '보험사': 2139, '보헤미안': 2140, '보호': 2141, '보호복': 2142, '복': 2143, '복구': 2144, '복사기': 2145, '복원': 2146, '복잡하다': 2147, '복장': 2148, '복판': 2149, '복호화': 2150, '볶음': 2151, '볶음밥': 2152, '본': 2153, '본드': 2154, '본론': 2155, '본부': 2156, '본사': 2157, '본인': 2158, '본체': 2159, '볼': 2160, '볼륨': 2161, '볼일': 2162, '봄판': 2163, '봇': 2164, '봉쇄': 2165, '뵈다': 2166, '뵙다': 2167, '부': 2168, '부과': 2169, '부금': 2170, '부끄럽다': 2171, '부다': 2172, '부담': 2173, '부당하다': 2174, '부대': 2175, '부동산': 2176, '부두': 2177, '부드럽다': 2178, '부딪치다': 2179, '부딪히다': 2180, '부로': 2181, '부록': 2182, '부르다': 2183, '부모': 2184, '부모님': 2185, '부문': 2186, '부분': 2187, '부산': 2188, '부상': 2189, '부서': 2190, '부속품': 2191, '부수': 2192, '부양가족': 2193, '부업': 2194, '부엌': 2195, '부여': 2196, '부위': 2197, '부유하다': 2198, '부응': 2199, '부의': 2200, '부인': 2201, '부자': 2202, '부작용': 2203, '부적': 2204, '부정': 2205, '부족': 2206, '부족하다': 2207, '부지': 2208, '부착': 2209, '부채': 2210, '부처': 2211, '부츠': 2212, '부침개': 2213, '부탁': 2214, '부탁드리다': 2215, '부터': 2216, '부팅': 2217, '부품': 2218, '부합': 2219, '부호화': 2220, '북': 2221, '북경어': 2222, '북미': 2223, '북부': 2224, '분': 2225, '분과': 2226, '분광': 2227, '분기': 2228, '분기점': 2229, '분당': 2230, '분류': 2231, '분리': 2232, '분명': 2233, '분명하다': 2234, '분사': 2235, '분산': 2236, '분석': 2237, '분쇄기': 2238, '분식점': 2239, '분실': 2240, '분야': 2241, '분위기': 2242, '분쟁': 2243, '분젠': 2244, '분지': 2245, '분포': 2246, '분할': 2247, '분해': 2248, '불': 2249, '불가능': 2250, '불가능하다': 2251, '불고기': 2252, '불과': 2253, '불과하다': 2254, '불교': 2255, '불구': 2256, '불규칙하다': 2257, '불금': 2258, '불다': 2259, '불당': 2260, '불도저': 2261, '불량': 2262, '불량품': 2263, '불러일으키다': 2264, '불리다': 2265, '불만': 2266, '불문': 2267, '불빛': 2268, '불안정하다': 2269, '불안하다': 2270, '불쾌하다': 2271, '불편': 2272, '불편하다': 2273, '불평': 2274, '불평등하다': 2275, '불필요하다': 2276, '불행하다': 2277, '붉은빛': 2278, '붐': 2279, '붕괴': 2280, '붕어빵': 2281, '붙다': 2282, '붙박다': 2283, '붙이다': 2284, '뷔페': 2285, '뷸': 2286, '브라우저': 2287, '브라우징': 2288, '브라질': 2289, '브랜드': 2290, '브랜딩': 2291, '브레이커': 2292, '브레이크': 2293, '브레인스토밍': 2294, '브로': 2295, '브로드밴드': 2296, '브로셔': 2297, '브로커': 2298, '브루나이': 2299, '브이': 2300, '블랙': 2301, '블레이드': 2302, '블렌드': 2303, '블렌딩': 2304, '블로그': 2305, '블록': 2306, '블루': 2307, '블루칩': 2308, '블룸': 2309, '비': 2310, '비간': 2311, '비건': 2312, '비계': 2313, '비공개': 2314, '비공식': 2315, '비교': 2316, '비누': 2317, '비다': 2318, '비도': 2319, '비디오': 2320, '비록': 2321, '비롯': 2322, '비료': 2323, '비밀': 2324, '비밀번호': 2325, '비빔냉면': 2326, '비빔밥': 2327, '비상': 2328, '비서': 2329, '비스킷': 2330, '비스트': 2331, '비슷하다': 2332, '비실': 2333, '비싸다': 2334, '비어': 2335, '비영리': 2336, '비용': 2337, '비우다': 2338, '비율': 2339, '비자': 2340, '비주': 2341, '비즈니스': 2342, '비축': 2343, '비커': 2344, '비트': 2345, '비트코인': 2346, '비평가': 2347, '비프': 2348, '비행': 2349, '비행기': 2350, '빅데이터': 2351, '빈': 2352, '빈방': 2353, '빈번': 2354, '빈손': 2355, '빈티': 2356, '빌드되': 2357, '빌딩': 2358, '빌라': 2359, '빌리다': 2360, '빌보드': 2361, '빌트': 2362, '빔': 2363, '빗': 2364, '빙': 2365, '빚': 2366, '빠듯': 2367, '빠듯합니': 2368, '빠르다': 2369, '빠지다': 2370, '빡빡': 2371, '빨간색': 2372, '빨갛다': 2373, '빨르다': 2374, '빨리': 2375, '빵': 2376, '빵집': 2377, '빼다': 2378, '뽑다': 2379, '뿌리': 2380, '뿐': 2381, '뿐이다': 2382, '삐었': 2383, '사': 2384, '사건': 2385, '사격': 2386, '사계절': 2387, '사고': 2388, '사과': 2389, '사기': 2390, '사기꾼': 2391, '사다': 2392, '사람': 2393, '사람과': 2394, '사랑': 2395, '사려': 2396, '사례': 2397, '사르다': 2398, '사면': 2399, '사명': 2400, '사모펀드': 2401, '사무': 2402, '사무기기': 2403, '사무소': 2404, '사무실': 2405, '사물': 2406, '사물인터넷': 2407, '사본': 2408, '사생활': 2409, '사서': 2410, '사소하다': 2411, '사시미': 2412, '사실': 2413, '사안': 2414, '사양': 2415, '사업': 2416, '사업가': 2417, '사업자': 2418, '사오다': 2419, '사옥': 2420, '사용': 2421, '사용성': 2422, '사용자': 2423, '사우나': 2424, '사운드': 2425, '사운드트랙': 2426, '사원': 2427, '사유': 2428, '사은': 2429, '사의': 2430, '사이': 2431, '사이드': 2432, '사이버': 2433, '사이일': 2434, '사이즈': 2435, '사이트': 2436, '사인': 2437, '사인회': 2438, '사장': 2439, '사전': 2440, '사주다': 2441, '사지': 2442, '사진': 2443, '사진사': 2444, '사진작가': 2445, '사찰': 2446, '사촌': 2447, '사출': 2448, '사탕': 2449, '사태': 2450, '사하다': 2451, '사항': 2452, '사회': 2453, '삭제': 2454, '산': 2455, '산나물': 2456, '산업': 2457, '산이': 2458, '산출': 2459, '살': 2460, '살균': 2461, '살기': 2462, '살다': 2463, '살이': 2464, '살펴보다': 2465, '삶': 2466, '삶다': 2467, '삼': 2468, '삼겹살': 2469, '삼고': 2470, '삽': 2471, '삽화가': 2472, '상거래': 2473, '상관': 2474, '상관없다': 2475, '상급': 2476, '상기': 2477, '상단': 2478, '상담': 2479, '상당': 2480, '상당하다': 2481, '상대': 2482, '상대로': 2483, '상대방': 2484, '상무': 2485, '상사': 2486, '상상': 2487, '상상력': 2488, '상세': 2489, '상속': 2490, '상승': 2491, '상업': 2492, '상위': 2493, '상응': 2494, '상의': 2495, '상이': 2496, '상인': 2497, '상자': 2498, '상장': 2499, '상점': 2500, '상주': 2501, '상징': 2502, '상추': 2503, '상치': 2504, '상태': 2505, '상표': 2506, '상품': 2507, '상하': 2508, '상하이': 2509, '상호': 2510, '상환': 2511, '상황': 2512, '새': 2513, '새롭다': 2514, '새벽': 2515, '새우': 2516, '새틴': 2517, '새해': 2518, '색': 2519, '색상': 2520, '색인': 2521, '색조': 2522, '샌드위치': 2523, '샌프란시스코': 2524, '샐러드': 2525, '샘플': 2526, '샘플러': 2527, '샘플링': 2528, '생': 2529, '생각': 2530, '생각나다': 2531, '생강': 2532, '생기다': 2533, '생기지': 2534, '생동감': 2535, '생명': 2536, '생명보험': 2537, '생물': 2538, '생방송': 2539, '생산': 2540, '생산량': 2541, '생생하다': 2542, '생선': 2543, '생선전': 2544, '생소하다': 2545, '생신': 2546, '생일': 2547, '생체': 2548, '생활': 2549, '생활용품': 2550, '샤워': 2551, '샤워실': 2552, '샤프트': 2553, '샴페인': 2554, '샴푸': 2555, '샵': 2556, '서': 2557, '서기': 2558, '서나': 2559, '서다': 2560, '서도': 2561, '서두르다': 2562, '서든': 2563, '서라운드': 2564, '서랍': 2565, '서로': 2566, '서류': 2567, '서면': 2568, '서명': 2569, '서버': 2570, '서버룸': 2571, '서브': 2572, '서비스': 2573, '서빙': 2574, '서울': 2575, '서재': 2576, '서점': 2577, '서지': 2578, '서쪽': 2579, '석가모니': 2580, '섞다': 2581, '선': 2582, '선구자': 2583, '선명하다': 2584, '선물': 2585, '선물거래': 2586, '선박': 2587, '선보이다': 2588, '선불': 2589, '선생님': 2590, '선적': 2591, '선정': 2592, '선착순': 2593, '선체': 2594, '선택': 2595, '선호': 2596, '설': 2597, '설계': 2598, '설득': 2599, '설렁탕': 2600, '설레다': 2601, '설립': 2602, '설명': 2603, '설문': 2604, '설문조사': 2605, '설문지': 2606, '설비': 2607, '설정': 2608, '설치': 2609, '설치다': 2610, '설탕': 2611, '섬광': 2612, '섬유': 2613, '섬유질': 2614, '성': 2615, '성가시다': 2616, '성격': 2617, '성공': 2618, '성공하다': 2619, '성과': 2620, '성능': 2621, '성도': 2622, '성분': 2623, '성사': 2624, '성실하다': 2625, '성은': 2626, '성인': 2627, '성장': 2628, '성장하다': 2629, '성전': 2630, '성취': 2631, '성하다': 2632, '성함': 2633, '성형': 2634, '세': 2635, '세계': 2636, '세관': 2637, '세균': 2638, '세금': 2639, '세기': 2640, '세다': 2641, '세대': 2642, '세련': 2643, '세로': 2644, '세면대': 2645, '세미나': 2646, '세법': 2647, '세부': 2648, '세상': 2649, '세션': 2650, '세안': 2651, '세액': 2652, '세요': 2653, '세우다': 2654, '세율': 2655, '세척': 2656, '세척제': 2657, '세탁': 2658, '세탁기': 2659, '세탁실': 2660, '세트': 2661, '세팅': 2662, '세포': 2663, '센서': 2664, '센터': 2665, '센트': 2666, '셀러': 2667, '셀러리': 2668, '셋': 2669, '셋째': 2670, '셔블': 2671, '션': 2672, '셨었': 2673, '셰어': 2674, '소': 2675, '소갈비': 2676, '소개': 2677, '소개팅': 2678, '소고기': 2679, '소금': 2680, '소녀': 2681, '소득': 2682, '소리': 2683, '소리치다': 2684, '소매': 2685, '소매업자': 2686, '소모': 2687, '소문': 2688, '소비': 2689, '소비자': 2690, '소설': 2691, '소셜': 2692, '소셜미디어': 2693, '소속': 2694, '소송': 2695, '소스': 2696, '소시지': 2697, '소식': 2698, '소액': 2699, '소요': 2700, '소유': 2701, '소유권': 2702, '소유자': 2703, '소의': 2704, '소일': 2705, '소재': 2706, '소주': 2707, '소중하다': 2708, '소지': 2709, '소질': 2710, '소켓': 2711, '소통': 2712, '소파': 2713, '소포': 2714, '소풍': 2715, '소프': 2716, '소프트': 2717, '소프트웨어': 2718, '소형': 2719, '소형견': 2720, '속': 2721, '속달': 2722, '속도': 2723, '속물': 2724, '손': 2725, '손님': 2726, '손상': 2727, '손쉽다': 2728, '손실': 2729, '손익': 2730, '손익계산서': 2731, '손주': 2732, '손해': 2733, '손해배상': 2734, '솔루션': 2735, '솔직하다': 2736, '송금': 2737, '송료': 2738, '송신': 2739, '송장': 2740, '쇄신': 2741, '쇠고기': 2742, '쇼': 2743, '쇼룸': 2744, '쇼핑': 2745, '수': 2746, '수가': 2747, '수강': 2748, '수건': 2749, '수고': 2750, '수년': 2751, '수다': 2752, '수단': 2753, '수도': 2754, '수도꼭지': 2755, '수도원': 2756, '수동': 2757, '수락': 2758, '수량': 2759, '수련': 2760, '수령': 2761, '수로': 2762, '수료': 2763, '수료증': 2764, '수리': 2765, '수많다': 2766, '수면': 2767, '수박': 2768, '수반': 2769, '수백만': 2770, '수비드': 2771, '수석': 2772, '수선': 2773, '수속': 2774, '수수료': 2775, '수술': 2776, '수시로': 2777, '수신기': 2778, '수십': 2779, '수압': 2780, '수업': 2781, '수에즈': 2782, '수영': 2783, '수영장': 2784, '수요': 2785, '수요일': 2786, '수용': 2787, '수익': 2788, '수익금': 2789, '수익률': 2790, '수입': 2791, '수입품': 2792, '수정': 2793, '수정과': 2794, '수제': 2795, '수준': 2796, '수집': 2797, '수천': 2798, '수출': 2799, '수출입': 2800, '수평': 2801, '수표': 2802, '수표로': 2803, '수프': 2804, '수학': 2805, '수행': 2806, '수혜자': 2807, '수확': 2808, '숙련': 2809, '숙박': 2810, '숙박시설': 2811, '숙박업소': 2812, '숙성': 2813, '숙소': 2814, '숙이다': 2815, '숙주': 2816, '숙지': 2817, '순': 2818, '순간': 2819, '순위': 2820, '순이익': 2821, '순전하다': 2822, '숟가락': 2823, '술': 2824, '술집': 2825, '숨': 2826, '숨기다': 2827, '숫자': 2828, '숯불': 2829, '쉬다': 2830, '쉽다': 2831, '슈': 2832, '슈트': 2833, '슈팅': 2834, '슈퍼마켓': 2835, '스': 2836, '스낵': 2837, '스노클링': 2838, '스니커즈': 2839, '스님': 2840, '스럽다': 2841, '스레드': 2842, '스릴러': 2843, '스마트': 2844, '스마트폰': 2845, '스마트홈': 2846, '스스로': 2847, '스위트': 2848, '스위트룸': 2849, '스카이라인': 2850, '스캐너': 2851, '스캔': 2852, '스케': 2853, '스케줄': 2854, '스케줄러': 2855, '스케치': 2856, '스쿠터': 2857, '스크럽': 2858, '스크류': 2859, '스크리닝': 2860, '스크린': 2861, '스크린샷': 2862, '스키': 2863, '스킨': 2864, '스킬': 2865, '스타': 2866, '스타일': 2867, '스타트업': 2868, '스테이': 2869, '스테이션': 2870, '스테이크': 2871, '스테인레스': 2872, '스토리': 2873, '스토브': 2874, '스토어': 2875, '스토퍼': 2876, '스톤': 2877, '스튜디오': 2878, '스트레스': 2879, '스트레이트': 2880, '스트로': 2881, '스트리밍': 2882, '스트림': 2883, '스티': 2884, '스티커': 2885, '스틸': 2886, '스파': 2887, '스파게티': 2888, '스파이럴': 2889, '스파이웨어': 2890, '스파크': 2891, '스팸': 2892, '스페셜': 2893, '스페인': 2894, '스펙트럼': 2895, '스포츠': 2896, '스프': 2897, '스프레드': 2898, '스프레이': 2899, '스피커': 2900, '스피킹': 2901, '슬라이드': 2902, '슬롯': 2903, '슬리퍼': 2904, '슬프다': 2905, '습': 2906, '습니': 2907, '승려': 2908, '승인': 2909, '시': 2910, '시각': 2911, '시각장애인': 2912, '시간': 2913, '시간대': 2914, '시계': 2915, '시골': 2916, '시급하다': 2917, '시기': 2918, '시끄럽다': 2919, '시나리오': 2920, '시내': 2921, '시대': 2922, '시도': 2923, '시리즈': 2924, '시마': 2925, '시민권': 2926, '시설': 2927, '시세': 2928, '시스템': 2929, '시연': 2930, '시오': 2931, '시일': 2932, '시작': 2933, '시장': 2934, '시장조사': 2935, '시저': 2936, '시절': 2937, '시점': 2938, '시즌': 2939, '시차': 2940, '시청': 2941, '시청각': 2942, '시청자': 2943, '시카고': 2944, '시큐리티': 2945, '시키다': 2946, '시티': 2947, '시행': 2948, '시험': 2949, '시험관': 2950, '식': 2951, '식기': 2952, '식단': 2953, '식당': 2954, '식물': 2955, '식사': 2956, '식이': 2957, '식초': 2958, '식탁': 2959, '식품': 2960, '신': 2961, '신간': 2962, '신경': 2963, '신고': 2964, '신곡': 2965, '신규': 2966, '신나요': 2967, '신다': 2968, '신디케이트': 2969, '신랑': 2970, '신뢰': 2971, '신문': 2972, '신발': 2973, '신부': 2974, '신분': 2975, '신분증': 2976, '신비롭다': 2977, '신사': 2978, '신생': 2979, '신선하다': 2980, '신세대': 2981, '신속하다': 2982, '신용': 2983, '신용등급': 2984, '신용장': 2985, '신용카드': 2986, '신원': 2987, '신입': 2988, '신입사원': 2989, '신입생': 2990, '신제품': 2991, '신종교': 2992, '신중': 2993, '신지': 2994, '신청': 2995, '신청서': 2996, '신체': 2997, '신탁': 2998, '신호': 2999, '신흥': 3000, '싣다': 3001, '실': 3002, '실내': 3003, '실력': 3004, '실례': 3005, '실로': 3006, '실린더': 3007, '실망': 3008, '실망하다': 3009, '실버': 3010, '실사': 3011, '실생활': 3012, '실수': 3013, '실시': 3014, '실시간': 3015, '실업자': 3016, '실외': 3017, '실용': 3018, '실적': 3019, '실제': 3020, '실질': 3021, '실천': 3022, '실크': 3023, '실패': 3024, '실패하다': 3025, '실행': 3026, '실험': 3027, '실험실': 3028, '실현': 3029, '싫다': 3030, '싫어하다': 3031, '심': 3032, '심각하다': 3033, '심기': 3034, '심란하다': 3035, '심박': 3036, '심장': 3037, '심지어': 3038, '심하다': 3039, '십': 3040, '십대': 3041, '싱가포르': 3042, '싱가폴': 3043, '싱글': 3044, '싱글룸': 3045, '싶다': 3046, '싸다': 3047, '싸우다': 3048, '쌀': 3049, '쌈': 3050, '쌈밥': 3051, '쌈장': 3052, '쌍': 3053, '쌓다': 3054, '쌓이다': 3055, '써다': 3056, '쓰다': 3057, '쓰레기통': 3058, '쓰이다': 3059, '쓸다': 3060, '쓸모': 3061, '씨': 3062, '씹다': 3063, '아': 3064, '아기': 3065, '아깝다': 3066, '아끼다': 3067, '아나운서': 3068, '아내': 3069, '아뇨': 3070, '아늑하다': 3071, '아니다': 3072, '아동': 3073, '아들': 3074, '아래': 3075, '아로마': 3076, '아르헨티나': 3077, '아름답다': 3078, '아마': 3079, '아마도': 3080, '아무': 3081, '아무나': 3082, '아무렇다': 3083, '아무리': 3084, '아무튼': 3085, '아바타': 3086, '아빠': 3087, '아쉽다': 3088, '아스파라거스': 3089, '아스팔트': 3090, '아시아': 3091, '아웃소싱': 3092, '아이': 3093, '아이덴티티': 3094, '아이돌': 3095, '아이디': 3096, '아이디어': 3097, '아이스크림': 3098, '아이콘': 3099, '아이템': 3100, '아주': 3101, '아직': 3102, '아직도': 3103, '아침': 3104, '아침식사': 3105, '아키텍처': 3106, '아트': 3107, '아트워크': 3108, '아트웍': 3109, '아티스트': 3110, '아파트': 3111, '아프다': 3112, '아프리카': 3113, '악': 3114, '악기': 3115, '악성코드': 3116, '악세사리': 3117, '악수': 3118, '악행': 3119, '악화': 3120, '안': 3121, '안건': 3122, '안나': 3123, '안내': 3124, '안내받다': 3125, '안녕': 3126, '안녕하다': 3127, '안다': 3128, '안되다': 3129, '안드로이드': 3130, '안방': 3131, '안성맞춤': 3132, '안심': 3133, '안이': 3134, '안전': 3135, '안전성': 3136, '안전하다': 3137, '안정': 3138, '안좋다': 3139, '안타깝다': 3140, '안테나': 3141, '안티바이러스': 3142, '안팎': 3143, '앉다': 3144, '않다': 3145, '알': 3146, '알고리즘': 3147, '알다': 3148, '알람': 3149, '알레르기': 3150, '알려지다': 3151, '알루미늄': 3152, '알리다': 3153, '알림': 3154, '알아내다': 3155, '알아듣다': 3156, '알아보다': 3157, '알아차리다': 3158, '알아채다': 3159, '알약': 3160, '알칼리성': 3161, '암': 3162, '암석': 3163, '암스테르담': 3164, '암호': 3165, '압니': 3166, '압도': 3167, '압력': 3168, '압축': 3169, '압축기': 3170, '압출기': 3171, '았습니': 3172, '앙': 3173, '앞': 3174, '앞두다': 3175, '앞서': 3176, '앞치마': 3177, '애': 3178, '애니메이션': 3179, '애니메이터': 3180, '애비뉴': 3181, '애완동물': 3182, '애프터': 3183, '애플리케이션': 3184, '애피타이저': 3185, '액': 3186, '액세서리': 3187, '액세스': 3188, '액션': 3189, '액체': 3190, '앤': 3191, '앨범': 3192, '앰버': 3193, '앰뷸런스': 3194, '앰프': 3195, '앱': 3196, '앵글': 3197, '앵커': 3198, '야간': 3199, '야구장': 3200, '야금': 3201, '야단법석': 3202, '야생': 3203, '야식': 3204, '야영지': 3205, '야외': 3206, '야유회': 3207, '야채': 3208, '야합': 3209, '약': 3210, '약간': 3211, '약관': 3212, '약물': 3213, '약속': 3214, '약자': 3215, '약점': 3216, '약정': 3217, '약하다': 3218, '얇다': 3219, '양': 3220, '양념': 3221, '양념장': 3222, '양도': 3223, '양립': 3224, '양말': 3225, '양사': 3226, '양식': 3227, '양자': 3228, '양초': 3229, '양해': 3230, '양호': 3231, '얘기': 3232, '어': 3233, '어긋나다': 3234, '어기': 3235, '어느': 3236, '어댑터': 3237, '어디': 3238, '어디서': 3239, '어떠하다': 3240, '어떤': 3241, '어떻': 3242, '어떻다': 3243, '어려움': 3244, '어렵다': 3245, '어르신': 3246, '어른': 3247, '어리다': 3248, '어린이': 3249, '어머니': 3250, '어메니티': 3251, '어묵': 3252, '어보': 3253, '어서': 3254, '어우러지다': 3255, '어울리다': 3256, '어제': 3257, '어젯밤': 3258, '어조': 3259, '어쨌든': 3260, '어쩌': 3261, '어쩐': 3262, '어쩔': 3263, '어플': 3264, '어필': 3265, '어휘': 3266, '언': 3267, '언급': 3268, '언니': 3269, '언덕': 3270, '언론': 3271, '언박싱': 3272, '언어': 3273, '언제': 3274, '언제나': 3275, '언젠가': 3276, '얻다': 3277, '얼': 3278, '얼굴': 3279, '얼리다': 3280, '얼마': 3281, '얼마나': 3282, '엄격하다': 3283, '엄선': 3284, '엄수': 3285, '엄청': 3286, '엄청나다': 3287, '업계': 3288, '업그레이드': 3289, '업데이트': 3290, '업로드': 3291, '업무': 3292, '업자': 3293, '업주': 3294, '업체': 3295, '없다': 3296, '없애다': 3297, '없이': 3298, '엇갈리다': 3299, '엉': 3300, '에너지': 3301, '에러': 3302, '에멀션': 3303, '에멀젼': 3304, '에메랄드': 3305, '에밀리': 3306, '에센셜': 3307, '에어': 3308, '에어컨': 3309, '에이전시': 3310, '에이전트': 3311, '에코': 3312, '에티켓': 3313, '에피소드': 3314, '엑세스': 3315, '엑스레이': 3316, '엑스포': 3317, '엔': 3318, '엔드': 3319, '엔젤': 3320, '엔지니어': 3321, '엔지니어링': 3322, '엔진': 3323, '엔터테인먼트': 3324, '엠보싱': 3325, '여': 3326, '여겨지다': 3327, '여권': 3328, '여기': 3329, '여기다': 3330, '여느': 3331, '여드름': 3332, '여러': 3333, '여러분': 3334, '여름': 3335, '여보': 3336, '여보세요': 3337, '여부': 3338, '여분': 3339, '여사': 3340, '여성': 3341, '여야': 3342, '여유': 3343, '여자': 3344, '여전하다': 3345, '여지': 3346, '여쭈다': 3347, '여행': 3348, '여행사': 3349, '여행자': 3350, '역': 3351, '역사': 3352, '역서': 3353, '역시': 3354, '역외': 3355, '역할': 3356, '연': 3357, '연간': 3358, '연결': 3359, '연결하다': 3360, '연관': 3361, '연구': 3362, '연구개발': 3363, '연구소': 3364, '연기': 3365, '연다': 3366, '연달': 3367, '연동': 3368, '연락': 3369, '연락처': 3370, '연령': 3371, '연례': 3372, '연료': 3373, '연마': 3374, '연말': 3375, '연민': 3376, '연방': 3377, '연봉': 3378, '연비': 3379, '연사': 3380, '연수': 3381, '연장': 3382, '연중': 3383, '연체': 3384, '연회': 3385, '연휴': 3386, '열': 3387, '열광': 3388, '열기': 3389, '열다': 3390, '열람': 3391, '열리다': 3392, '열쇠': 3393, '열심히': 3394, '열악하다': 3395, '열정': 3396, '열차': 3397, '염두': 3398, '염려': 3399, '염색': 3400, '엽': 3401, '영': 3402, '영감': 3403, '영광': 3404, '영구': 3405, '영국': 3406, '영리하다': 3407, '영상': 3408, '영상통화': 3409, '영수증': 3410, '영양': 3411, '영어': 3412, '영업': 3413, '영업일': 3414, '영역': 3415, '영원하다': 3416, '영진': 3417, '영향': 3418, '영향력': 3419, '영화': 3420, '옆': 3421, '예': 3422, '예견': 3423, '예고편': 3424, '예금': 3425, '예방': 3426, '예배': 3427, '예쁘다': 3428, '예산': 3429, '예산안': 3430, '예상': 3431, '예술': 3432, '예술가': 3433, '예약': 3434, '예의': 3435, '예입': 3436, '예전': 3437, '예절': 3438, '예정': 3439, '예정일': 3440, '예측': 3441, '옐로나이프': 3442, '오': 3443, '오늘': 3444, '오늘날': 3445, '오늘이': 3446, '오다': 3447, '오디오': 3448, '오락가락': 3449, '오래': 3450, '오래되다': 3451, '오랜': 3452, '오랫동안': 3453, '오렌지': 3454, '오류': 3455, '오르다': 3456, '오른': 3457, '오른쪽': 3458, '오리엔테이션': 3459, '오버': 3460, '오븐': 3461, '오스': 3462, '오시': 3463, '오신': 3464, '오용': 3465, '오인': 3466, '오일': 3467, '오일도': 3468, '오전': 3469, '오지': 3470, '오직': 3471, '오징어': 3472, '오토': 3473, '오프': 3474, '오프라인': 3475, '오픈': 3476, '오피스': 3477, '오하이오주': 3478, '오해': 3479, '오후': 3480, '오히려': 3481, '옥': 3482, '옥상': 3483, '옥집': 3484, '온': 3485, '온도': 3486, '온돌': 3487, '온라인': 3488, '온라인과': 3489, '온스': 3490, '온천': 3491, '온타리오': 3492, '올': 3493, '올라가다': 3494, '올려놓다': 3495, '올려주다': 3496, '올리다': 3497, '올바르다': 3498, '올해': 3499, '옮기다': 3500, '옳다': 3501, '옴': 3502, '옵니다': 3503, '옵션': 3504, '옷': 3505, '옷장': 3506, '와우': 3507, '와이어': 3508, '와이파이': 3509, '와인': 3510, '와트': 3511, '완납': 3512, '완료': 3513, '완벽하다': 3514, '완비': 3515, '완성': 3516, '완전': 3517, '완전하다': 3518, '완화': 3519, '왓츠앱': 3520, '왕복': 3521, '왕새우': 3522, '왜': 3523, '왜냐면': 3524, '왜냐하면': 3525, '외': 3526, '외관': 3527, '외국': 3528, '외국인': 3529, '외다': 3530, '외부': 3531, '외주': 3532, '외출': 3533, '외향': 3534, '외화': 3535, '외환은행': 3536, '왼쪽': 3537, '요': 3538, '요건': 3539, '요격': 3540, '요구': 3541, '요구사항': 3542, '요금': 3543, '요리': 3544, '요리법': 3545, '요리사': 3546, '요법': 3547, '요소': 3548, '요약': 3549, '요원': 3550, '요인': 3551, '요점': 3552, '요즘': 3553, '요청': 3554, '요크셔': 3555, '요트': 3556, '욕구': 3557, '욕실': 3558, '욕조': 3559, '용': 3560, '용건': 3561, '용납': 3562, '용다': 3563, '용도': 3564, '용량': 3565, '용무': 3566, '용법': 3567, '용어': 3568, '용의': 3569, '용이': 3570, '용이하다': 3571, '용인': 3572, '용판': 3573, '용품': 3574, '우': 3575, '우드': 3576, '우려': 3577, '우리': 3578, '우리나라': 3579, '우리은행': 3580, '우린': 3581, '우산': 3582, '우선': 3583, '우수하다': 3584, '우승자': 3585, '우아하다': 3586, '우여곡절': 3587, '우연히': 3588, '우와': 3589, '우위': 3590, '우유': 3591, '우주': 3592, '우크라이나': 3593, '우편': 3594, '우편물': 3595, '운': 3596, '운동': 3597, '운반': 3598, '운송': 3599, '운송업': 3600, '운영': 3601, '운영자': 3602, '운영체제': 3603, '운용': 3604, '운전': 3605, '운전기사': 3606, '운전자': 3607, '운하': 3608, '울리다': 3609, '울산': 3610, '움직이다': 3611, '움직임': 3612, '웃음': 3613, '웅장': 3614, '워': 3615, '워드': 3616, '워치': 3617, '워크샵': 3618, '워크숍': 3619, '워터': 3620, '원': 3621, '원격': 3622, '원고': 3623, '원금': 3624, '원래': 3625, '원리': 3626, '원본': 3627, '원사': 3628, '원스톱': 3629, '원심': 3630, '원심분리기': 3631, '원인': 3632, '원장': 3633, '원점': 3634, '원주공항': 3635, '원칙': 3636, '원통': 3637, '원하다': 3638, '원화': 3639, '원화도': 3640, '원활하다': 3641, '월': 3642, '월간': 3643, '월급': 3644, '월말': 3645, '월세': 3646, '월요일': 3647, '웜': 3648, '웠습': 3649, '웨딩': 3650, '웨비': 3651, '웨어': 3652, '웨이터': 3653, '웨이퍼': 3654, '웹': 3655, '웹디자인': 3656, '웹사이트': 3657, '웹캐스트': 3658, '웹페이지': 3659, '위': 3660, '위로': 3661, '위반': 3662, '위생': 3663, '위성': 3664, '위안': 3665, '위치': 3666, '위탁': 3667, '위태롭': 3668, '위태롭기': 3669, '위함': 3670, '위해': 3671, '위험': 3672, '위험하다': 3673, '위협': 3674, '윗': 3675, '윗사람': 3676, '유가': 3677, '유감': 3678, '유감스럽게': 3679, '유기': 3680, '유기농': 3681, '유닛': 3682, '유동': 3683, '유럽': 3684, '유로': 3685, '유료': 3686, '유르트': 3687, '유리하다': 3688, '유망': 3689, '유머': 3690, '유명': 3691, '유명인사': 3692, '유명하다': 3693, '유사하다': 3694, '유산': 3695, '유선': 3696, '유아': 3697, '유압': 3698, '유연성': 3699, '유연하다': 3700, '유예': 3701, '유용하다': 3702, '유의': 3703, '유익하다': 3704, '유인': 3705, '유인물': 3706, '유일하다': 3707, '유전': 3708, '유제품': 3709, '유지': 3710, '유치하다': 3711, '유통': 3712, '유통업': 3713, '유통업체': 3714, '유틸리티': 3715, '유학': 3716, '유학생': 3717, '유해하다': 3718, '유행': 3719, '유행병': 3720, '유형': 3721, '유효': 3722, '유효하다': 3723, '육류': 3724, '육성': 3725, '육수': 3726, '육지': 3727, '육회': 3728, '윤리': 3729, '율': 3730, '율기': 3731, '융자': 3732, '융통성': 3733, '은': 3734, '은은하다': 3735, '은퇴': 3736, '은행': 3737, '은행원': 3738, '을': 3739, '음': 3740, '음료': 3741, '음료수': 3742, '음반': 3743, '음반사': 3744, '음성': 3745, '음식': 3746, '음식점': 3747, '음악': 3748, '음원': 3749, '음질': 3750, '음향': 3751, '음향효과': 3752, '응': 3753, '응급': 3754, '응답': 3755, '응대': 3756, '응용': 3757, '응원': 3758, '의': 3759, '의견': 3760, '의논': 3761, '의도': 3762, '의뢰': 3763, '의료': 3764, '의류': 3765, '의무': 3766, '의문': 3767, '의미': 3768, '의사': 3769, '의사소통': 3770, '의상': 3771, '의식': 3772, '의심': 3773, '의심스럽다': 3774, '의약품': 3775, '의원': 3776, '의자': 3777, '의존': 3778, '의하다': 3779, '의향': 3780, '의회': 3781, '이': 3782, '이겠다': 3783, '이기': 3784, '이끌다': 3785, '이내': 3786, '이다': 3787, '이대로': 3788, '이동': 3789, '이동식': 3790, '이동해': 3791, '이드': 3792, '이득': 3793, '이따': 3794, '이러하다': 3795, '이런': 3796, '이렇게': 3797, '이렇다': 3798, '이력서': 3799, '이로': 3800, '이루어지다': 3801, '이뤄지다': 3802, '이르다': 3803, '이름': 3804, '이만': 3805, '이메일': 3806, '이면': 3807, '이목': 3808, '이미': 3809, '이미지': 3810, '이민자': 3811, '이번': 3812, '이벤트': 3813, '이보': 3814, '이불': 3815, '이브': 3816, '이사': 3817, '이사회': 3818, '이상': 3819, '이상은': 3820, '이서': 3821, '이세': 3822, '이송': 3823, '이수': 3824, '이슈': 3825, '이식': 3826, '이십': 3827, '이싼': 3828, '이야기': 3829, '이어지다': 3830, '이외': 3831, '이요': 3832, '이용': 3833, '이용자': 3834, '이웃': 3835, '이유': 3836, '이율': 3837, '이음': 3838, '이의': 3839, '이익': 3840, '이자': 3841, '이자율': 3842, '이장': 3843, '이전': 3844, '이점': 3845, '이정표': 3846, '이제': 3847, '이중': 3848, '이중과세': 3849, '이지': 3850, '이집트': 3851, '이체': 3852, '이탈': 3853, '이탈리아': 3854, '이탈리아어': 3855, '이틀': 3856, '이해': 3857, '이해만': 3858, '이해해': 3859, '이행': 3860, '이후': 3861, '익숙하다': 3862, '익숙해지다': 3863, '익스텐더': 3864, '익일': 3865, '익히다': 3866, '인': 3867, '인간': 3868, '인건비': 3869, '인걸': 3870, '인공': 3871, '인구': 3872, '인기': 3873, '인내': 3874, '인내심': 3875, '인덱스': 3876, '인도': 3877, '인도네시아': 3878, '인력': 3879, '인명': 3880, '인보이스': 3881, '인분': 3882, '인사': 3883, '인삼': 3884, '인상': 3885, '인생': 3886, '인센티브': 3887, '인쇄': 3888, '인쇄기': 3889, '인쇄판': 3890, '인수': 3891, '인스턴트': 3892, '인식': 3893, '인용': 3894, '인원': 3895, '인정': 3896, '인정받다': 3897, '인조섬유': 3898, '인증': 3899, '인증서': 3900, '인지': 3901, '인지도': 3902, '인천': 3903, '인치': 3904, '인코딩': 3905, '인큐베이터': 3906, '인터': 3907, '인터넷': 3908, '인터뷰': 3909, '인터페이스': 3910, '인턴': 3911, '인테리어': 3912, '인파': 3913, '인포그래픽': 3914, '인프라': 3915, '인플레이션': 3916, '인플레이션율': 3917, '인하': 3918, '인하다': 3919, '일': 3920, '일과': 3921, '일관': 3922, '일단': 3923, '일러스트': 3924, '일러스트레이션': 3925, '일련': 3926, '일련번호': 3927, '일로': 3928, '일류': 3929, '일반': 3930, '일반인': 3931, '일별': 3932, '일본': 3933, '일본어': 3934, '일부': 3935, '일부러': 3936, '일산': 3937, '일상': 3938, '일상생활': 3939, '일수': 3940, '일시': 3941, '일어나고': 3942, '일어나다': 3943, '일어나지': 3944, '일요일': 3945, '일으키다': 3946, '일이': 3947, '일인': 3948, '일일': 3949, '일자리': 3950, '일정': 3951, '일정하다': 3952, '일종': 3953, '일주일': 3954, '일찍': 3955, '일체': 3956, '일치': 3957, '일해': 3958, '일행': 3959, '일환': 3960, '일회용': 3961, '읽다': 3962, '잃다': 3963, '잃어버리다': 3964, '임': 3965, '임기': 3966, '임대': 3967, '임대료': 3968, '임무': 3969, '임박': 3970, '임베디드': 3971, '임상시험': 3972, '임시': 3973, '임원': 3974, '임원진': 3975, '임의': 3976, '임차': 3977, '임펠러': 3978, '입': 3979, '입금': 3980, '입다': 3981, '입력': 3982, '입맛': 3983, '입사': 3984, '입안': 3985, '입원': 3986, '입자': 3987, '입장': 3988, '입장료': 3989, '입지': 3990, '입찰': 3991, '입출': 3992, '입학': 3993, '있다': 3994, '잊다': 3995, '잊어버리다': 3996, '잎': 3997, '자': 3998, '자게': 3999, '자격': 4000, '자고': 4001, '자국': 4002, '자극': 4003, '자금': 4004, '자기': 4005, '자꾸': 4006, '자녀': 4007, '자다': 4008, '자동': 4009, '자동차': 4010, '자동화': 4011, '자라다': 4012, '자랑': 4013, '자랑스럽다': 4014, '자로': 4015, '자료': 4016, '자르다': 4017, '자리': 4018, '자마자': 4019, '자막': 4020, '자문': 4021, '자본': 4022, '자사': 4023, '자산': 4024, '자서전': 4025, '자선단체': 4026, '자세하다': 4027, '자수': 4028, '자식': 4029, '자신': 4030, '자신감': 4031, '자연': 4032, '자연계': 4033, '자연어': 4034, '자영': 4035, '자원': 4036, '자유': 4037, '자유롭다': 4038, '자재': 4039, '자전거': 4040, '자주': 4041, '자질': 4042, '자체': 4043, '자쿠': 4044, '자쿠지': 4045, '자택': 4046, '자판기': 4047, '자회사': 4048, '작': 4049, '작가': 4050, '작고': 4051, '작곡가': 4052, '작년': 4053, '작다': 4054, '작동': 4055, '작문': 4056, '작성': 4057, '작업': 4058, '작용': 4059, '작품': 4060, '잔': 4061, '잔고': 4062, '잔금': 4063, '잔디': 4064, '잔액': 4065, '잘': 4066, '잘못': 4067, '잘해야': 4068, '잠': 4069, '잠그다': 4070, '잠깐': 4071, '잠수': 4072, '잠시': 4073, '잠옷': 4074, '잠재': 4075, '잠재력': 4076, '잠정': 4077, '잡': 4078, '잡기': 4079, '잡다': 4080, '잡지': 4081, '잡채': 4082, '잡히다': 4083, '장': 4084, '장갑': 4085, '장거리': 4086, '장공': 4087, '장기': 4088, '장님': 4089, '장담': 4090, '장래': 4091, '장르': 4092, '장모님': 4093, '장바구니': 4094, '장벽': 4095, '장부': 4096, '장비': 4097, '장소': 4098, '장식': 4099, '장애': 4100, '장애물': 4101, '장애인': 4102, '장용': 4103, '장의': 4104, '장점': 4105, '장착': 4106, '장치': 4107, '장학금': 4108, '재': 4109, '재개': 4110, '재고': 4111, '재교육': 4112, '재난': 4113, '재능': 4114, '재단': 4115, '재료': 4116, '재무': 4117, '재무부': 4118, '재무제표': 4119, '재미': 4120, '재미있다': 4121, '재밌다': 4122, '재발': 4123, '재봉틀': 4124, '재사용': 4125, '재산': 4126, '재산권': 4127, '재생': 4128, '재우다': 4129, '재정': 4130, '재택근무': 4131, '재해': 4132, '재활': 4133, '쟁기질': 4134, '저': 4135, '저녁': 4136, '저녁식사': 4137, '저렴하다': 4138, '저만': 4139, '저만큼': 4140, '저명하다': 4141, '저번': 4142, '저속': 4143, '저자': 4144, '저작권': 4145, '저작권법': 4146, '저장': 4147, '저절로': 4148, '저지르다': 4149, '저쪽': 4150, '저축': 4151, '저항기': 4152, '저희': 4153, '적': 4154, '적격': 4155, '적극': 4156, '적기': 4157, '적다': 4158, '적당하다': 4159, '적도': 4160, '적립': 4161, '적어도': 4162, '적용': 4163, '적응': 4164, '적자': 4165, '적재': 4166, '적절하다': 4167, '적정': 4168, '적합하다': 4169, '적히다': 4170, '전': 4171, '전개': 4172, '전공': 4173, '전기': 4174, '전기자전거': 4175, '전날': 4176, '전념': 4177, '전달': 4178, '전동': 4179, '전략': 4180, '전력': 4181, '전류': 4182, '전망': 4183, '전면': 4184, '전무': 4185, '전문': 4186, '전문가': 4187, '전문성': 4188, '전문점': 4189, '전문직': 4190, '전반': 4191, '전병': 4192, '전부': 4193, '전분': 4194, '전선': 4195, '전세계': 4196, '전송': 4197, '전술': 4198, '전시': 4199, '전시장': 4200, '전시회': 4201, '전신': 4202, '전액': 4203, '전역': 4204, '전염병': 4205, '전용': 4206, '전원': 4207, '전이': 4208, '전자': 4209, '전자기': 4210, '전자기기': 4211, '전자레인지': 4212, '전자상거래': 4213, '전자제품': 4214, '전자책': 4215, '전적': 4216, '전체': 4217, '전통': 4218, '전통문화': 4219, '전표': 4220, '전하': 4221, '전해': 4222, '전혀': 4223, '전화': 4224, '전화기': 4225, '전화번호': 4226, '전화하다': 4227, '전환': 4228, '전후': 4229, '젇': 4230, '절': 4231, '절감': 4232, '절기': 4233, '절단': 4234, '절대': 4235, '절반': 4236, '절삭기': 4237, '절실': 4238, '절약': 4239, '절차': 4240, '젊다': 4241, '젊은이': 4242, '점': 4243, '점검': 4244, '점도': 4245, '점수': 4246, '점심': 4247, '점유': 4248, '점자': 4249, '점점': 4250, '점진': 4251, '점화': 4252, '접': 4253, '접근': 4254, '접근성': 4255, '접대': 4256, '접속': 4257, '접수': 4258, '접시': 4259, '접종': 4260, '접착': 4261, '접합': 4262, '젓가락': 4263, '정': 4264, '정관': 4265, '정규': 4266, '정규직': 4267, '정기': 4268, '정기예금': 4269, '정당하다': 4270, '정도': 4271, '정독': 4272, '정류장': 4273, '정리': 4274, '정말': 4275, '정말로': 4276, '정밀도': 4277, '정박': 4278, '정보': 4279, '정보기술': 4280, '정본': 4281, '정부': 4282, '정비': 4283, '정비사': 4284, '정산': 4285, '정상': 4286, '정상인': 4287, '정상화': 4288, '정성': 4289, '정수': 4290, '정수기': 4291, '정식': 4292, '정신': 4293, '정원': 4294, '정육점': 4295, '정의': 4296, '정이': 4297, '정적': 4298, '정전': 4299, '정직하다': 4300, '정착': 4301, '정책': 4302, '정체': 4303, '정치': 4304, '정치인': 4305, '정통': 4306, '정통하다': 4307, '정해': 4308, '정해지다': 4309, '정해진': 4310, '정화': 4311, '정확도': 4312, '정확하다': 4313, '제': 4314, '제거': 4315, '제곱': 4316, '제곱미터': 4317, '제공': 4318, '제기': 4319, '제대로': 4320, '제도': 4321, '제때': 4322, '제로': 4323, '제목': 4324, '제발': 4325, '제보': 4326, '제빵': 4327, '제빵사': 4328, '제삼자': 4329, '제시': 4330, '제안': 4331, '제어': 4332, '제외': 4333, '제일': 4334, '제입': 4335, '제작': 4336, '제작자': 4337, '제작회사': 4338, '제재': 4339, '제적': 4340, '제조': 4341, '제조업': 4342, '제조업체': 4343, '제주': 4344, '제출': 4345, '제품': 4346, '제품군': 4347, '제한': 4348, '제휴': 4349, '젠': 4350, '젯': 4351, '조': 4352, '조각': 4353, '조각가': 4354, '조각상': 4355, '조건': 4356, '조국': 4357, '조금': 4358, '조달': 4359, '조도': 4360, '조로': 4361, '조리': 4362, '조립': 4363, '조만간': 4364, '조명': 4365, '조명탄': 4366, '조물': 4367, '조미료': 4368, '조사': 4369, '조사해': 4370, '조선': 4371, '조수': 4372, '조식': 4373, '조심': 4374, '조심하다': 4375, '조언': 4376, '조용하다': 4377, '조잡하다': 4378, '조장': 4379, '조절': 4380, '조정': 4381, '조정은': 4382, '조지아': 4383, '조직': 4384, '조취': 4385, '조치': 4386, '조카': 4387, '조합': 4388, '조항': 4389, '조화': 4390, '조회': 4391, '족발': 4392, '존경': 4393, '존재': 4394, '존중': 4395, '졸업장': 4396, '좀': 4397, '좁히다': 4398, '종': 4399, '종교': 4400, '종단': 4401, '종도': 4402, '종로': 4403, '종료': 4404, '종류': 4405, '종사': 4406, '종습니': 4407, '종신': 4408, '종업원': 4409, '종이': 4410, '종일': 4411, '종합': 4412, '좋다': 4413, '좋아지다': 4414, '좋아하다': 4415, '좌석': 4416, '좌우': 4417, '죄송하다': 4418, '주': 4419, '주가': 4420, '주간': 4421, '주간지': 4422, '주거': 4423, '주고받다': 4424, '주기': 4425, '주다': 4426, '주된': 4427, '주렴': 4428, '주로': 4429, '주류': 4430, '주말': 4431, '주머니': 4432, '주목': 4433, '주무시다': 4434, '주문': 4435, '주민': 4436, '주민등록': 4437, '주방': 4438, '주변': 4439, '주사기': 4440, '주선': 4441, '주소': 4442, '주스': 4443, '주시': 4444, '주식': 4445, '주식시장': 4446, '주신': 4447, '주어지다': 4448, '주얼': 4449, '주요': 4450, '주의': 4451, '주인': 4452, '주일': 4453, '주임': 4454, '주자': 4455, '주장': 4456, '주저': 4457, '주제': 4458, '주제가': 4459, '주지': 4460, '주차': 4461, '주차장': 4462, '주철': 4463, '주택': 4464, '주파수': 4465, '죽': 4466, '준': 4467, '준비': 4468, '준수': 4469, '줄': 4470, '줄기': 4471, '줄다': 4472, '줄어들다': 4473, '줄이다': 4474, '줌': 4475, '줍다': 4476, '중': 4477, '중간': 4478, '중개': 4479, '중개사': 4480, '중개인': 4481, '중고': 4482, '중고품': 4483, '중공업': 4484, '중국': 4485, '중국집': 4486, '중단': 4487, '중등교육': 4488, '중복': 4489, '중소기업': 4490, '중시': 4491, '중심': 4492, '중심부': 4493, '중요성': 4494, '중요하다': 4495, '중이': 4496, '중인': 4497, '중장비': 4498, '중재': 4499, '중점': 4500, '중형견': 4501, '중환자': 4502, '즉': 4503, '즉각': 4504, '즉석': 4505, '즉시': 4506, '즐거움': 4507, '즐겁다': 4508, '즐기다': 4509, '증가': 4510, '증거': 4511, '증권': 4512, '증권사': 4513, '증명': 4514, '증명서': 4515, '증발기': 4516, '증빙': 4517, '증서': 4518, '증세': 4519, '증진': 4520, '증폭': 4521, '증폭기': 4522, '지': 4523, '지갑': 4524, '지게': 4525, '지게차': 4526, '지고': 4527, '지구': 4528, '지금': 4529, '지급': 4530, '지나다': 4531, '지난': 4532, '지난달': 4533, '지난번': 4534, '지난주': 4535, '지난해': 4536, '지남': 4537, '지내다': 4538, '지능': 4539, '지다': 4540, '지도': 4541, '지독하다': 4542, '지루하다': 4543, '지루함': 4544, '지르다': 4545, '지리': 4546, '지면': 4547, '지명': 4548, '지문': 4549, '지방': 4550, '지불': 4551, '지붕': 4552, '지사': 4553, '지속': 4554, '지수': 4555, '지시': 4556, '지식': 4557, '지역': 4558, '지역성': 4559, '지연': 4560, '지용': 4561, '지우다': 4562, '지원': 4563, '지원이': 4564, '지인': 4565, '지저분하다': 4566, '지적': 4567, '지점': 4568, '지정': 4569, '지주': 4570, '지지': 4571, '지체': 4572, '지출': 4573, '지침': 4574, '지켜보다': 4575, '지키다': 4576, '지폐': 4577, '지표': 4578, '지프': 4579, '지하실': 4580, '지하철': 4581, '지향': 4582, '직': 4583, '직감': 4584, '직경': 4585, '직급': 4586, '직도': 4587, '직면': 4588, '직물': 4589, '직불': 4590, '직업': 4591, '직원': 4592, '직장': 4593, '직접': 4594, '직접투자': 4595, '직책': 4596, '진': 4597, '진공': 4598, '진과': 4599, '진단': 4600, '진동': 4601, '진상': 4602, '진실': 4603, '진실하다': 4604, '진심': 4605, '진의': 4606, '진입': 4607, '진정': 4608, '진정하다': 4609, '진지하다': 4610, '진짜': 4611, '진출': 4612, '진행': 4613, '진행자': 4614, '진화': 4615, '진흥': 4616, '질': 4617, '질감': 4618, '질문': 4619, '질병': 4620, '질환': 4621, '짐': 4622, '집': 4623, '집값': 4624, '집다': 4625, '집단': 4626, '집세': 4627, '집안일': 4628, '집의': 4629, '집주인': 4630, '집중': 4631, '집하장': 4632, '집합': 4633, '집행': 4634, '집행자': 4635, '짓다': 4636, '징': 4637, '징글링': 4638, '짚': 4639, '짜다': 4640, '짜장': 4641, '짤': 4642, '짧다': 4643, '쪽': 4644, '쫓아내다': 4645, '쯤': 4646, '찌개': 4647, '찍다': 4648, '찍히다': 4649, '찜': 4650, '찜질방': 4651, '찢어지다': 4652, '차': 4653, '차감': 4654, '차갑다': 4655, '차고': 4656, '차기': 4657, '차다': 4658, '차단': 4659, '차도': 4660, '차등': 4661, '차라리': 4662, '차량': 4663, '차례': 4664, '차리다': 4665, '차별': 4666, '차서': 4667, '차용': 4668, '차원': 4669, '차이': 4670, '차이다': 4671, '차이점': 4672, '차입': 4673, '차지': 4674, '차질': 4675, '차트': 4676, '찬': 4677, '참가': 4678, '참가자': 4679, '참고': 4680, '참배': 4681, '참석': 4682, '참석자': 4683, '참여': 4684, '참으로': 4685, '참조': 4686, '찹쌀': 4687, '창': 4688, '창가': 4689, '창고': 4690, '창구': 4691, '창립': 4692, '창문': 4693, '창업': 4694, '창의': 4695, '찾기': 4696, '찾다': 4697, '찾아보다': 4698, '찾아오다': 4699, '채': 4700, '채굴': 4701, '채권': 4702, '채권자': 4703, '채널': 4704, '채다': 4705, '채무': 4706, '채무자': 4707, '채색': 4708, '채소': 4709, '채식': 4710, '채식주의자': 4711, '채용': 4712, '채우다': 4713, '채취': 4714, '채택': 4715, '채팅': 4716, '책': 4717, '책임': 4718, '책임감': 4719, '책임자': 4720, '책임지다': 4721, '책자': 4722, '책정': 4723, '챔버입니': 4724, '처': 4725, '처가': 4726, '처리': 4727, '처리기': 4728, '처방': 4729, '처분': 4730, '처음': 4731, '천만': 4732, '천연': 4733, '천연가스': 4734, '천장': 4735, '천천히': 4736, '철': 4737, '철강': 4738, '철도': 4739, '철저하다': 4740, '철제': 4741, '철학': 4742, '철회': 4743, '첨부': 4744, '첫': 4745, '첫날': 4746, '첫인상': 4747, '첫째': 4748, '청': 4749, '청각장애': 4750, '청구': 4751, '청년': 4752, '청동': 4753, '청문회': 4754, '청사진': 4755, '청소': 4756, '청소년': 4757, '청정': 4758, '청정기': 4759, '청중': 4760, '청취': 4761, '체결': 4762, '체납': 4763, '체류': 4764, '체육관': 4765, '체인': 4766, '체인점': 4767, '체제': 4768, '체크': 4769, '체크아웃': 4770, '체험': 4771, '초': 4772, '초고': 4773, '초과': 4774, '초기': 4775, '초당': 4776, '초대': 4777, '초대장': 4778, '초래': 4779, '초상화': 4780, '초안': 4781, '초음파': 4782, '초입': 4783, '초점': 4784, '초청': 4785, '초콜릿': 4786, '촉구': 4787, '촉박하다': 4788, '총': 4789, '총수': 4790, '총칭': 4791, '촬영': 4792, '최': 4793, '최고': 4794, '최고급': 4795, '최근': 4796, '최대': 4797, '최대한': 4798, '최상': 4799, '최선': 4800, '최선일': 4801, '최소': 4802, '최소한': 4803, '최신': 4804, '최악': 4805, '최저': 4806, '최적': 4807, '최적화': 4808, '최종': 4809, '최첨단': 4810, '최초': 4811, '추가': 4812, '추구': 4813, '추다': 4814, '추석': 4815, '추세': 4816, '추억': 4817, '추적': 4818, '추정': 4819, '추진': 4820, '추천': 4821, '추출': 4822, '추후': 4823, '축': 4824, '축배': 4825, '축소': 4826, '축하': 4827, '출구': 4828, '출금': 4829, '출두': 4830, '출력': 4831, '출발점': 4832, '출산': 4833, '출시': 4834, '출연': 4835, '출장': 4836, '출퇴근': 4837, '출판': 4838, '출판물': 4839, '출판사': 4840, '출하': 4841, '춤': 4842, '충': 4843, '충격': 4844, '충당': 4845, '충돌': 4846, '충분하다': 4847, '충실하다': 4848, '충전': 4849, '충전기': 4850, '충족': 4851, '취': 4852, '취급': 4853, '취득': 4854, '취미': 4855, '취사': 4856, '취소': 4857, '취약': 4858, '취재': 4859, '취직': 4860, '취하': 4861, '취한': 4862, '취할': 4863, '취해': 4864, '취향': 4865, '측': 4866, '측면': 4867, '측정': 4868, '측정기': 4869, '층': 4870, '치': 4871, '치가': 4872, '치과': 4873, '치다': 4874, '치료': 4875, '치르다': 4876, '치맥': 4877, '치솟다': 4878, '치수': 4879, '치열하다': 4880, '치즈': 4881, '치킨': 4882, '친': 4883, '친구': 4884, '친절하다': 4885, '친척': 4886, '친하다': 4887, '친환경': 4888, '칠': 4889, '칠하다': 4890, '침': 4891, '침대': 4892, '침실': 4893, '침입': 4894, '침체': 4895, '침해': 4896, '칩': 4897, '칩셋': 4898, '칭찬': 4899, '카드': 4900, '카메라': 4901, '카뷰': 4902, '카운터': 4903, '카운트다운': 4904, '카지노': 4905, '카탈로그': 4906, '카테고리': 4907, '카트': 4908, '카페': 4909, '카페테리아': 4910, '카펫': 4911, '카피': 4912, '칵테일': 4913, '칸': 4914, '칼': 4915, '칼리': 4916, '캐': 4917, '캐나다': 4918, '캐리어': 4919, '캐릭터': 4920, '캐비닛': 4921, '캐빈': 4922, '캐싱': 4923, '캐터필러': 4924, '캐피탈': 4925, '캐피털': 4926, '캘리포니아': 4927, '캘린더': 4928, '캠': 4929, '캠퍼스': 4930, '캠페인': 4931, '캠프': 4932, '캠프장': 4933, '캠프파이어': 4934, '캠핑': 4935, '캠핑장': 4936, '캠핑카': 4937, '캡슐화': 4938, '캡처': 4939, '커뮤니케이션': 4940, '커뮤니티': 4941, '커미션': 4942, '커버': 4943, '커지다': 4944, '커터': 4945, '커튼': 4946, '커플': 4947, '커피': 4948, '커피메이커': 4949, '컨디셔닝': 4950, '컨베이어': 4951, '컨설턴트': 4952, '컨설팅': 4953, '컨셉': 4954, '컨테이너': 4955, '컨텐츠': 4956, '컬래버레이션': 4957, '컬러': 4958, '컴퍼니': 4959, '컴포트룸': 4960, '컴퓨터': 4961, '컴퓨팅': 4962, '컴프레서': 4963, '컷': 4964, '케어': 4965, '케이': 4966, '케이블': 4967, '케이스': 4968, '케이크': 4969, '코': 4970, '코너': 4971, '코드': 4972, '코딩': 4973, '코로나': 4974, '코르크': 4975, '코리아': 4976, '코리안': 4977, '코멘트': 4978, '코스': 4979, '코스닥': 4980, '코인': 4981, '코치': 4982, '코칭': 4983, '코코넛': 4984, '코퍼레이션': 4985, '콕': 4986, '콘덴서': 4987, '콘도': 4988, '콘도그': 4989, '콘서트': 4990, '콘셉': 4991, '콘셉트': 4992, '콘솔': 4993, '콘크리트': 4994, '콘텐츠': 4995, '콜리': 4996, '콜링': 4997, '콜카타': 4998, '콩나물': 4999, '쾌적하다': 5000, '쿠션': 5001, '쿠알라룸푸르': 5002, '쿠키': 5003, '쿠폰': 5004, '쿨': 5005, '쿨러': 5006, '퀼트': 5007, '큐': 5008, '크게': 5009, '크기': 5010, '크다': 5011, '크레딧': 5012, '크레인': 5013, '크루아상': 5014, '크류': 5015, '크리스마스': 5016, '크리에이터': 5017, '크리에이티브': 5018, '크립': 5019, '클라우드': 5020, '클라이언트': 5021, '클래스': 5022, '클러스터': 5023, '클럽': 5024, '클레': 5025, '클리': 5026, '클릭': 5027, '클릭률': 5028, '클립': 5029, '키': 5030, '키란': 5031, '키우다': 5032, '키트': 5033, '킬로그램': 5034, '킬로미터': 5035, '킬로와트': 5036, '타': 5037, '타겟': 5038, '타고': 5039, '타깃': 5040, '타다': 5041, '타당': 5042, '타운하우스': 5043, '타원곡선': 5044, '타이머': 5045, '타이밍': 5046, '타이어': 5047, '타이틀곡': 5048, '타임': 5049, '타임스퀘어': 5050, '타입': 5051, '타자기': 5052, '타협': 5053, '탁월하다': 5054, '탁자': 5055, '탄소': 5056, '탄원서': 5057, '탈': 5058, '탈세': 5059, '탈수': 5060, '탈퇴': 5061, '탐구': 5062, '탐방': 5063, '탐색': 5064, '탐험': 5065, '탑': 5066, '탑승': 5067, '탑재': 5068, '탕': 5069, '탕감': 5070, '태국': 5071, '태국어': 5072, '태그': 5073, '태극': 5074, '태극기': 5075, '태도': 5076, '태블릿': 5077, '태양': 5078, '택배': 5079, '탤런트': 5080, '탭': 5081, '터': 5082, '터널': 5083, '터링': 5084, '터미널': 5085, '터북': 5086, '터치': 5087, '터치스크린': 5088, '터키': 5089, '턴': 5090, '턴키': 5091, '테': 5092, '테니스': 5093, '테라': 5094, '테라바이트': 5095, '테라스': 5096, '테마': 5097, '테스': 5098, '테스트': 5099, '테이': 5100, '테이블': 5101, '테이프': 5102, '테크놀로지': 5103, '텍스처': 5104, '텍스트': 5105, '텐데': 5106, '텐데요': 5107, '텐트': 5108, '텔레비전': 5109, '템플': 5110, '템플릿': 5111, '템플스테이': 5112, '토너': 5113, '토론': 5114, '토르티야': 5115, '토목': 5116, '토스터': 5117, '토스트': 5118, '토요일': 5119, '토지': 5120, '토큰': 5121, '톤': 5122, '통': 5123, '통계': 5124, '통과': 5125, '통관': 5126, '통닭': 5127, '통도사': 5128, '통보': 5129, '통상': 5130, '통신': 5131, '통신망': 5132, '통신사': 5133, '통역': 5134, '통역관': 5135, '통장': 5136, '통제': 5137, '통지': 5138, '통지서': 5139, '통째': 5140, '통찰': 5141, '통한': 5142, '통합': 5143, '통해': 5144, '통화': 5145, '퇴근': 5146, '퇴사': 5147, '투': 5148, '투명': 5149, '투명하다': 5150, '투숙': 5151, '투어': 5152, '투자': 5153, '투자가': 5154, '투자수익률': 5155, '투자자': 5156, '툴': 5157, '튀기다': 5158, '튀김': 5159, '튜브': 5160, '튜토리얼': 5161, '트': 5162, '트래킹': 5163, '트래픽': 5164, '트랙볼': 5165, '트랙터': 5166, '트랙패드': 5167, '트랜치': 5168, '트러블': 5169, '트럭': 5170, '트레인': 5171, '트레일러': 5172, '트렌드': 5173, '트리': 5174, '트리트먼트': 5175, '트리플': 5176, '트윈': 5177, '트이다': 5178, '특권': 5179, '특급': 5180, '특기': 5181, '특별': 5182, '특별하다': 5183, '특산': 5184, '특선': 5185, '특성': 5186, '특수': 5187, '특수하다': 5188, '특정': 5189, '특정하다': 5190, '특제': 5191, '특집': 5192, '특징': 5193, '특허': 5194, '특히': 5195, '튼튼하다': 5196, '틀다': 5197, '틀림없다': 5198, '틀림없이': 5199, '틀어놓다': 5200, '틈': 5201, '틈새': 5202, '티': 5203, '티슈': 5204, '티저': 5205, '티켓': 5206, '팀': 5207, '팀원': 5208, '팁': 5209, '팅': 5210, '파견': 5211, '파괴': 5212, '파다': 5213, '파란색': 5214, '파로': 5215, '파리': 5216, '파산': 5217, '파산하다': 5218, '파손': 5219, '파스타': 5220, '파악': 5221, '파워': 5222, '파이': 5223, '파이다': 5224, '파이썬': 5225, '파이프': 5226, '파이프라인': 5227, '파일': 5228, '파키스탄': 5229, '파트너': 5230, '파트너쉽': 5231, '파티': 5232, '파파야': 5233, '판': 5234, '판금': 5235, '판단': 5236, '판매': 5237, '판매량': 5238, '판매업': 5239, '판명': 5240, '판촉': 5241, '팔': 5242, '팔고': 5243, '팔다': 5244, '팔레트': 5245, '팔로우': 5246, '팔로워': 5247, '팔리다': 5248, '팔지': 5249, '팜스프링스': 5250, '팜유': 5251, '팝': 5252, '팟캐스트': 5253, '패널': 5254, '패션': 5255, '패스': 5256, '패스트': 5257, '패스트푸드': 5258, '패자': 5259, '패치': 5260, '패키지': 5261, '패턴': 5262, '팩': 5263, '팩스': 5264, '팬': 5265, '팬데믹': 5266, '팬케이크': 5267, '팸플릿': 5268, '퍼센트': 5269, '퍼지다': 5270, '펀드': 5271, '펀딩': 5272, '펄스': 5273, '펌프': 5274, '페스티벌': 5275, '페이': 5276, '페이스': 5277, '페이지': 5278, '펜션': 5279, '펠메니': 5280, '펴다': 5281, '편': 5282, '편곡': 5283, '편도': 5284, '편리하다': 5285, '편물': 5286, '편안하다': 5287, '편안함': 5288, '편애': 5289, '편의': 5290, '편의점': 5291, '편이': 5292, '편입': 5293, '편지': 5294, '편지함': 5295, '편집': 5296, '편집자': 5297, '편하다': 5298, '평가': 5299, '평가판': 5300, '평균': 5301, '평면도': 5302, '평방': 5303, '평범하다': 5304, '평생': 5305, '평일': 5306, '평점': 5307, '평판': 5308, '평편': 5309, '평평하다': 5310, '평화': 5311, '폐가': 5312, '폐기물': 5313, '폐쇄': 5314, '폐쇄되어': 5315, '폐쇄하': 5316, '포': 5317, '포격': 5318, '포괄': 5319, '포기': 5320, '포스터': 5321, '포스트': 5322, '포스팅': 5323, '포인트': 5324, '포장': 5325, '포지셔닝': 5326, '포지션': 5327, '포켓': 5328, '포탄': 5329, '포털': 5330, '포토': 5331, '포트': 5332, '포트폴리오': 5333, '포함': 5334, '포항': 5335, '폭': 5336, '폭력': 5337, '폰': 5338, '폰트': 5339, '폴더': 5340, '폴리스티렌': 5341, '폴리오': 5342, '폴리우레탄': 5343, '폼': 5344, '표': 5345, '표면': 5346, '표시': 5347, '표절': 5348, '표정': 5349, '표준': 5350, '표지': 5351, '표현': 5352, '푸드': 5353, '풀': 5354, '풀다': 5355, '품': 5356, '품다': 5357, '품목': 5358, '품절': 5359, '품종': 5360, '품질': 5361, '풍': 5362, '풍부하다': 5363, '풍향': 5364, '퓨전': 5365, '프라이': 5366, '프라이드': 5367, '프라이머리': 5368, '프랑스': 5369, '프랑스어': 5370, '프랜차이즈': 5371, '프레': 5372, '프레임': 5373, '프레임워크': 5374, '프로': 5375, '프로그래머': 5376, '프로그래밍': 5377, '프로그램': 5378, '프로듀서': 5379, '프로모션': 5380, '프로세서': 5381, '프로세스': 5382, '프로젝터': 5383, '프로젝트': 5384, '프로토콜': 5385, '프로토타입': 5386, '프로필': 5387, '프루티': 5388, '프리랜서': 5389, '프리미엄': 5390, '프리뷰': 5391, '프린터': 5392, '플': 5393, '플라스틱': 5394, '플라이': 5395, '플라자': 5396, '플래닝': 5397, '플래시': 5398, '플래티넘': 5399, '플랜': 5400, '플랫폼': 5401, '플러그인': 5402, '플러머': 5403, '플러스': 5404, '플레이': 5405, '플레이어': 5406, '플로우': 5407, '플로터': 5408, '플루': 5409, '플립': 5410, '피': 5411, '피나': 5412, '피니쉬': 5413, '피드백': 5414, '피로연': 5415, '피부': 5416, '피스톤': 5417, '피아노': 5418, '피우다': 5419, '피칭팀': 5420, '피크': 5421, '피트': 5422, '피트니스': 5423, '피하': 5424, '피해': 5425, '피해자': 5426, '픽셀': 5427, '픽업': 5428, '핀': 5429, '필기체': 5430, '필드': 5431, '필름': 5432, '필리핀': 5433, '필수': 5434, '필요': 5435, '필요성': 5436, '필요없다': 5437, '필요하다': 5438, '필욘': 5439, '필터': 5440, '핑크': 5441, '하': 5442, '하기는': 5443, '하나': 5444, '하나로': 5445, '하나요': 5446, '하니': 5447, '하다': 5448, '하단': 5449, '하드': 5450, '하드웨어': 5451, '하락': 5452, '하루': 5453, '하루나': 5454, '하룻밤': 5455, '하므다': 5456, '하수': 5457, '하숙집': 5458, '하얀색': 5459, '하오니': 5460, '하와이': 5461, '하우': 5462, '하우스': 5463, '하이재킹': 5464, '하이킹': 5465, '하이테크': 5466, '하자': 5467, '하지만': 5468, '학': 5469, '학과': 5470, '학교': 5471, '학기': 5472, '학년': 5473, '학문': 5474, '학생': 5475, '학술': 5476, '학습': 5477, '학업': 5478, '학원': 5479, '학위': 5480, '학자': 5481, '학자금': 5482, '한': 5483, '한가하다': 5484, '한계': 5485, '한국': 5486, '한국어': 5487, '한국은행': 5488, '한국인': 5489, '한다는': 5490, '한도': 5491, '한두': 5492, '한마디': 5493, '한번': 5494, '한식': 5495, '한식당': 5496, '한옥호텔': 5497, '한우': 5498, '한자': 5499, '한잔': 5500, '한정': 5501, '한정식': 5502, '한정판': 5503, '한지': 5504, '한창': 5505, '한층': 5506, '한편': 5507, '할당': 5508, '할랄': 5509, '할머니': 5510, '할부': 5511, '할애': 5512, '할인': 5513, '함': 5514, '함께': 5515, '합': 5516, '합격': 5517, '합계': 5518, '합류': 5519, '합리': 5520, '합법': 5521, '합성': 5522, '합의': 5523, '합작': 5524, '합치다': 5525, '합판': 5526, '핫': 5527, '핫스팟': 5528, '항': 5529, '항공': 5530, '항공사': 5531, '항구': 5532, '항목': 5533, '항상': 5534, '항성': 5535, '항의': 5536, '해': 5537, '해결': 5538, '해고': 5539, '해당': 5540, '해도': 5541, '해독': 5542, '해드리다': 5543, '해명': 5544, '해변': 5545, '해보다': 5546, '해봤다': 5547, '해상도': 5548, '해석': 5549, '해소': 5550, '해심': 5551, '해안': 5552, '해오다': 5553, '해외': 5554, '해외여행': 5555, '해주다': 5556, '해주시': 5557, '해지': 5558, '해초': 5559, '해커': 5560, '해킹': 5561, '해피': 5562, '핵심': 5563, '핸드폰': 5564, '행': 5565, '행동': 5566, '행복': 5567, '행복하다': 5568, '행사': 5569, '행운': 5570, '행해지다': 5571, '향': 5572, '향상': 5573, '향수': 5574, '향신료': 5575, '향후': 5576, '허가': 5577, '허가증': 5578, '허락': 5579, '허브': 5580, '허브차': 5581, '허슬': 5582, '허용': 5583, '허튼': 5584, '허풍': 5585, '헌신': 5586, '헐벗': 5587, '헤드헌터': 5588, '헤어드라이어': 5589, '헤지': 5590, '헬': 5591, '헬스장': 5592, '헷갈리다': 5593, '혁신': 5594, '현': 5595, '현금': 5596, '현대': 5597, '현명하다': 5598, '현미경': 5599, '현상': 5600, '현수막': 5601, '현장': 5602, '현재': 5603, '현지': 5604, '현행': 5605, '현황': 5606, '혈압': 5607, '혈액': 5608, '혐의': 5609, '협동': 5610, '협력': 5611, '협상': 5612, '협약': 5613, '협연': 5614, '협의': 5615, '협정': 5616, '협조': 5617, '협찬': 5618, '협회': 5619, '형': 5620, '형기': 5621, '형성': 5622, '형식': 5623, '형제': 5624, '형태': 5625, '혜택': 5626, '호도': 5627, '호법': 5628, '호스팅': 5629, '호실': 5630, '호의': 5631, '호주': 5632, '호출': 5633, '호텔': 5634, '호환': 5635, '호환성': 5636, '호흡': 5637, '혹독하다': 5638, '혹시': 5639, '혹은': 5640, '혼란': 5641, '혼자': 5642, '혼잡하다': 5643, '혼합': 5644, '홀': 5645, '홈': 5646, '홈스테이': 5647, '홈페이지': 5648, '홋카이도': 5649, '홍보': 5650, '화가': 5651, '화거': 5652, '화기': 5653, '화나다': 5654, '화면': 5655, '화물': 5656, '화물선': 5657, '화보': 5658, '화상': 5659, '화상통화': 5660, '화상회의': 5661, '화소': 5662, '화요일': 5663, '화의': 5664, '화이트': 5665, '화장실': 5666, '화장품': 5667, '화전': 5668, '화폐': 5669, '화하다': 5670, '화학': 5671, '화합': 5672, '화해': 5673, '확고하다': 5674, '확답': 5675, '확대': 5676, '확보': 5677, '확신': 5678, '확실하다': 5679, '확인': 5680, '확장': 5681, '확정': 5682, '환': 5683, '환경': 5684, '환급': 5685, '환불': 5686, '환상': 5687, '환영': 5688, '환율': 5689, '환자': 5690, '환전': 5691, '환호': 5692, '활': 5693, '활동': 5694, '활발하다': 5695, '활성화': 5696, '활용': 5697, '회': 5698, '회계': 5699, '회계법인': 5700, '회계사': 5701, '회도': 5702, '회로': 5703, '회복': 5704, '회복하다': 5705, '회비': 5706, '회사': 5707, '회수': 5708, '회신': 5709, '회원': 5710, '회의': 5711, '회의실': 5712, '회의장': 5713, '회장': 5714, '회전': 5715, '회차': 5716, '회화': 5717, '횡설수설': 5718, '효과': 5719, '효율': 5720, '후': 5721, '후루룩': 5722, '후불': 5723, '후속': 5724, '후송': 5725, '후식': 5726, '후원': 5727, '후원자': 5728, '후의': 5729, '후회': 5730, '훈련': 5731, '훌륭하다': 5732, '훑다': 5733, '훨씬': 5734, '훼손': 5735, '휘': 5736, '휘발유': 5737, '휠': 5738, '휩쓸다': 5739, '휴': 5740, '휴가': 5741, '휴대': 5742, '휴대전화': 5743, '휴대폰': 5744, '휴식': 5745, '휴양': 5746, '흐름': 5747, '흐릿하': 5748, '흑자': 5749, '흔하다': 5750, '흘리다': 5751, '흙': 5752, '흙빛': 5753, '흡사하다': 5754, '흡수': 5755, '흡입': 5756, '흥미': 5757, '흥미롭다': 5758, '흥분': 5759, '흥분하다': 5760, '희망': 5761, '흰색': 5762, '히': 5763, '히트': 5764, '힘': 5765, '힘들다': 5766, '힘쓰다': 5767}\n",
            "{'<EOS>': 1, '<SOS>': 2, 'A': 3, 'AAA': 4, 'AAA1@BBB1.com.': 5, 'AAA@BBB.com': 6, 'ABCDE': 7, 'AI': 8, 'ANRs': 9, 'ATM': 10, 'ATMs': 11, 'Absolutely': 12, 'Accidents': 13, 'According': 14, 'Actually': 15, 'Additionally': 16, 'Ads': 17, 'African': 18, 'After': 19, 'Afterwards': 20, 'Again': 21, 'Agency': 22, 'Ah': 23, 'Airport': 24, 'All': 25, 'Allow': 26, 'Almost': 27, 'Along': 28, 'Alright': 29, 'Also': 30, 'Alternatively': 31, 'Although': 32, 'Am': 33, 'America': 34, 'American': 35, 'Among': 36, 'Amsterdam': 37, 'An': 38, 'And': 39, 'Angel': 40, 'Another': 41, 'Any': 42, 'Anyone': 43, 'Anything': 44, 'Anyway': 45, 'Apart': 46, 'Apologies': 47, 'Apparently': 48, 'Appraisal': 49, 'April': 50, 'Are': 51, 'Argentina': 52, 'Around': 53, 'Articles': 54, 'Artificial': 55, 'As': 56, 'Asia': 57, 'Asian': 58, 'Aside': 59, 'Associates': 60, 'Assume': 61, 'At': 62, 'August': 63, 'Australia': 64, 'Australian': 65, 'Available': 66, 'Avatars': 67, 'Avoid': 68, 'Awesome': 69, 'B': 70, 'BBB': 71, 'BBB@email.com.': 72, 'BBQ': 73, 'BSE': 74, 'Back': 75, 'Bank': 76, 'Barbados': 77, 'Based': 78, 'Basically': 79, 'Be': 80, 'Bear': 81, 'Because': 82, 'Beef': 83, 'Before': 84, 'Being': 85, 'Besides': 86, 'Board': 87, 'Bohemian': 88, 'Bokkeumbap': 89, 'Bossam': 90, 'Both': 91, 'Brazil': 92, 'Breakfast': 93, 'Bringing': 94, 'Broadcast': 95, 'Broadcasting': 96, 'Browsing': 97, 'Brunei': 98, 'Buddha': 99, 'Buddhism': 100, 'Buddhist': 101, 'Building': 102, 'Bulgogi': 103, 'Bungeoppang': 104, 'Bunsen': 105, 'Busan': 106, 'Business': 107, 'But': 108, 'Buying': 109, 'By': 110, 'C': 111, 'CCTV': 112, 'CCTVs': 113, 'CEO': 114, 'CFM': 115, 'CMS': 116, 'COVID': 117, 'CSS': 118, 'CT': 119, 'California': 120, 'Call': 121, 'Camp': 122, 'Camping': 123, 'Can': 124, 'Canada': 125, 'Canal': 126, 'Capital': 127, 'Catering': 128, 'Center': 129, 'Certainly': 130, 'Change': 131, 'Chapter': 132, 'Chicago': 133, 'Chief': 134, 'Children': 135, 'China': 136, 'Chinese': 137, 'Choosing': 138, 'Chosun': 139, 'Christmas': 140, 'Chuseok': 141, 'City': 142, 'Class': 143, 'Click': 144, 'Clothing': 145, 'Cloud': 146, 'Come': 147, 'Company': 148, 'Compatible': 149, 'Completion': 150, 'Consider': 151, 'Considering': 152, 'Contact': 153, 'Content': 154, 'Continental': 155, 'Continue': 156, 'Control': 157, 'Convention': 158, 'Cool': 159, 'Copyright': 160, 'Corp': 161, 'Corporation': 162, 'Correct': 163, 'Could': 164, 'Court': 165, 'Crowdfunding': 166, 'Cryptocurrency': 167, 'Currently': 168, 'D': 169, 'DCA': 170, 'DVR': 171, 'Daegu': 172, 'Dak': 173, 'Dear': 174, 'December': 175, 'Definitely': 176, 'Denmark': 177, 'Department': 178, 'Depends': 179, 'Design': 180, 'Despite': 181, 'Details': 182, 'Devices': 183, 'Did': 184, 'Didn': 185, 'Different': 186, 'Disclosing': 187, 'District': 188, 'Do': 189, 'Documents': 190, 'Does': 191, 'Don': 192, 'Download': 193, 'Dr': 194, 'Drive': 195, 'Due': 196, 'Duly': 197, 'During': 198, 'E': 199, 'EOB': 200, 'EPP': 201, 'ESG': 202, 'EST': 203, 'ETF': 204, 'ETFs': 205, 'EVA': 206, 'Each': 207, 'Earth': 208, 'East': 209, 'Eastern': 210, 'Egyptian': 211, 'Eh': 212, 'Emerald': 213, 'Emerging': 214, 'Emily': 215, 'Encryption': 216, 'Engine': 217, 'Engines': 218, 'England': 219, 'English': 220, 'Equipment': 221, 'Especially': 222, 'Essentially': 223, 'Europe': 224, 'European': 225, 'Euros': 226, 'Even': 227, 'Events': 228, 'Every': 229, 'Everyone': 230, 'Everything': 231, 'Exactly': 232, 'Excellent': 233, 'Exchange': 234, 'Excuse': 235, 'Exit': 236, 'Expect': 237, 'Expo': 238, 'FDI': 239, 'FFF': 240, 'FOMO': 241, 'Factors': 242, 'Failure': 243, 'Fantastic': 244, 'February': 245, 'Federal': 246, 'Feel': 247, 'Festival': 248, 'Fi': 249, 'Fifth': 250, 'Filipino': 251, 'Finally': 252, 'Financial': 253, 'Find': 254, 'Fine': 255, 'Fingers': 256, 'First': 257, 'Firstly': 258, 'Five': 259, 'Flashes': 260, 'Flexibility': 261, 'Food': 262, 'For': 263, 'Foreigners': 264, 'Fortunately': 265, 'Fourth': 266, 'France': 267, 'Francisco': 268, 'French': 269, 'Friday': 270, 'From': 271, 'Fu': 272, 'Furthermore': 273, 'Futons': 274, 'Futures': 275, 'G': 276, 'GB': 277, 'GPS': 278, 'GVWR': 279, 'Gains': 280, 'Gangnam': 281, 'Gangneung': 282, 'Gas': 283, 'Generally': 284, 'Georgia': 285, 'Germany': 286, 'Get': 287, 'Ginseng': 288, 'Give': 289, 'Given': 290, 'Giving': 291, 'Go': 292, 'Good': 293, 'Got': 294, 'Graphic': 295, 'Great': 296, 'Greek': 297, 'Greetings': 298, 'Group': 299, 'Guam': 300, 'Gujeolpan': 301, 'Gyeonggi': 302, 'HDD': 303, 'HR': 304, 'HTML': 305, 'Hackers': 306, 'Halal': 307, 'Hanok': 308, 'Has': 309, 'Have': 310, 'Having': 311, 'Hawaii': 312, 'He': 313, 'Helllo': 314, 'Hello': 315, 'Hence': 316, 'Her': 317, 'Here': 318, 'Hey': 319, 'Hi': 320, 'Hmm': 321, 'Hokkaido': 322, 'Hold': 323, 'Hopefully': 324, 'Hotel': 325, 'How': 326, 'However': 327, 'I': 328, 'ID': 329, 'IDs': 330, 'IP': 331, 'IPO': 332, 'IPOs': 333, 'IT': 334, 'IVR': 335, 'IaaS': 336, 'If': 337, 'Ilsan': 338, 'In': 339, 'Incentives': 340, 'Incheon': 341, 'Incorporation': 342, 'Indeed': 343, 'Independent': 344, 'India': 345, 'Indian': 346, 'Indonesia': 347, 'Indonesian': 348, 'Inflation': 349, 'Influencer': 350, 'Innovations': 351, 'Installing': 352, 'Instant': 353, 'Insurance': 354, 'Interesting': 355, 'International': 356, 'Internet': 357, 'Intraday': 358, 'Invest': 359, 'Investments': 360, 'Investors': 361, 'IoT': 362, 'Is': 363, 'Isn': 364, 'It': 365, 'Italian': 366, 'Italy': 367, 'JLPT': 368, 'January': 369, 'Japan': 370, 'Japanese': 371, 'Jeju': 372, 'Jeonbyeong': 373, 'Jjimjilbang': 374, 'Jongno': 375, 'July': 376, 'Jun': 377, 'June': 378, 'Just': 379, 'K': 380, 'KOSDAQ': 381, 'KST': 382, 'Kabsat': 383, 'Keep': 384, 'Kimchi': 385, 'Kindly': 386, 'Kingdom': 387, 'Know': 388, 'Knowing': 389, 'Kolkata': 390, 'Korea': 391, 'Korean': 392, 'Koreans': 393, 'Kuala': 394, 'LED': 395, 'Language': 396, 'Last': 397, 'Lastly': 398, 'Later': 399, 'Latest': 400, 'Law': 401, 'Learning': 402, 'Let': 403, 'Life': 404, 'Like': 405, 'Likewise': 406, 'Limited': 407, 'Listen': 408, 'Little': 409, 'Liverpool': 410, 'Loans': 411, 'Locust': 412, 'Log': 413, 'London': 414, 'Looking': 415, 'Losers': 416, 'Loss': 417, 'Lovely': 418, 'Low': 419, 'Luckily': 420, 'Lumpur': 421, 'M': 422, 'MAR': 423, 'MMS': 424, 'MOU': 425, 'Ma': 426, 'Madrid': 427, 'Mainly': 428, 'Maintaining': 429, 'Make': 430, 'Making': 431, 'Malaysia': 432, 'Management': 433, 'Manali': 434, 'Mandarin': 435, 'Manila': 436, 'Many': 437, 'Mapo': 438, 'Mapping': 439, 'March': 440, 'Marketing': 441, 'May': 442, 'Maybe': 443, 'Me': 444, 'Meaning': 445, 'Meanwhile': 446, 'Mechanical': 447, 'Media': 448, 'Medical': 449, 'Members': 450, 'Metaverse': 451, 'Michelin': 452, 'Minting': 453, 'Mobile': 454, 'Monday': 455, 'Month': 456, 'More': 457, 'Moreover': 458, 'Most': 459, 'Moving': 460, 'Mr': 461, 'Mrs': 462, 'Ms': 463, 'Music': 464, 'My': 465, 'Myanmar': 466, 'NFT': 467, 'NFTs': 468, 'NI': 469, 'NSE': 470, 'NTFS': 471, 'Naturally': 472, 'Needles': 473, 'Network': 474, 'Never': 475, 'New': 476, 'News': 477, 'Next': 478, 'Nigeria': 479, 'No': 480, 'Nobody': 481, 'Non': 482, 'None': 483, 'Normally': 484, 'North': 485, 'Not': 486, 'Noted': 487, 'Nothing': 488, 'November': 489, 'Now': 490, 'Nowadays': 491, 'OK': 492, 'OKK': 493, 'OS': 494, 'October': 495, 'Of': 496, 'Off': 497, 'Offering': 498, 'Office': 499, 'Officer': 500, 'Oh': 501, 'Ohio': 502, 'Ok': 503, 'Okay': 504, 'Omji': 505, 'On': 506, 'Once': 507, 'One': 508, 'Only': 509, 'Ontario': 510, 'Optimization': 511, 'Or': 512, 'Originally': 513, 'Others': 514, 'Otherwise': 515, 'Our': 516, 'Out': 517, 'Over': 518, 'Overall': 519, 'PDA': 520, 'PDF': 521, 'PM': 522, 'PPE': 523, 'PR': 524, 'PRO': 525, 'PSAs': 526, 'PVP': 527, 'Pakistan': 528, 'Palm': 529, 'Paper': 530, 'Paris': 531, 'Paying': 532, 'Payment': 533, 'Pelmeni': 534, 'People': 535, 'Perfect': 536, 'Perhaps': 537, 'Philippines': 538, 'Place': 539, 'Please': 540, 'Plenty': 541, 'Plummer': 542, 'Plus': 543, 'Pohang': 544, 'Pot': 545, 'Precisely': 546, 'Precision': 547, 'Predicting': 548, 'President': 549, 'Prices': 550, 'Private': 551, 'Probably': 552, 'Product': 553, 'Publishing': 554, 'Python': 555, 'QR': 556, 'Quality': 557, 'RAM': 558, 'RV': 559, 'Radio': 560, 'Recently': 561, 'Red': 562, 'Regarding': 563, 'Regardless': 564, 'Regrettably': 565, 'Resolution': 566, 'Rest': 567, 'Retailers': 568, 'Right': 569, 'Room': 570, 'SD': 571, 'SEO': 572, 'SIM': 573, 'SKUs': 574, 'SPV': 575, 'SSD': 576, 'SSL': 577, 'Sadly': 578, 'Saeng': 579, 'Sakyamuni': 580, 'Salalah': 581, 'San': 582, 'Sashimi': 583, 'Saturday': 584, 'Sauna': 585, 'Say': 586, 'Schools': 587, 'Search': 588, 'Second': 589, 'Security': 590, 'See': 591, 'Send': 592, 'Seoul': 593, 'September': 594, 'Series': 595, 'Services': 596, 'Several': 597, 'Shall': 598, 'Shampoo': 599, 'Shanghai': 600, 'She': 601, 'Shop': 602, 'Should': 603, 'Signals': 604, 'Signature': 605, 'Similar': 606, 'Simply': 607, 'Since': 608, 'Singapore': 609, 'Singaporean': 610, 'Sir': 611, 'Skim': 612, 'So': 613, 'Social': 614, 'Soju': 615, 'Solar': 616, 'Some': 617, 'Someone': 618, 'Something': 619, 'Sometimes': 620, 'Soon': 621, 'Sorry': 622, 'Sounds': 623, 'South': 624, 'Southeast': 625, 'Spain': 626, 'Spanish': 627, 'Speaking': 628, 'Specifically': 629, 'Springs': 630, 'Square': 631, 'Starting': 632, 'States': 633, 'Station': 634, 'Stay': 635, 'Staying': 636, 'Still': 637, 'Stock': 638, 'Street': 639, 'Stroganoff': 640, 'Submit': 641, 'Submitting': 642, 'Such': 643, 'Sudan': 644, 'Suez': 645, 'Suite': 646, 'Sun': 647, 'Sunday': 648, 'Sure': 649, 'TPU': 650, 'TV': 651, 'Taegeuk': 652, 'Taeguekgi': 653, 'Taiwan': 654, 'Take': 655, 'Task': 656, 'Team': 657, 'Tech': 658, 'Technical': 659, 'Technology': 660, 'Tell': 661, 'Temple': 662, 'Ten': 663, 'Thai': 664, 'Thailand': 665, 'Thank': 666, 'Thanks': 667, 'That': 668, 'The': 669, 'Their': 670, 'Then': 671, 'There': 672, 'Therefore': 673, 'These': 674, 'They': 675, 'Things': 676, 'Third': 677, 'Thirdly': 678, 'This': 679, 'Those': 680, 'Three': 681, 'Through': 682, 'Thursday': 683, 'Thursdays': 684, 'Thus': 685, 'Times': 686, 'To': 687, 'Today': 688, 'Tokens': 689, 'Tokyo': 690, 'Tong': 691, 'Tongdosa': 692, 'Topics': 693, 'Touch': 694, 'Trade': 695, 'Trust': 696, 'Truth': 697, 'Try': 698, 'Tuesday': 699, 'Turkish': 700, 'UI': 701, 'UN': 702, 'US': 703, 'USA': 704, 'USB': 705, 'USBs': 706, 'Ukraine': 707, 'Ulsan': 708, 'Ultimately': 709, 'Under': 710, 'Unfortunately': 711, 'United': 712, 'Universal': 713, 'University': 714, 'Unless': 715, 'Unlike': 716, 'Until': 717, 'Upon': 718, 'Users': 719, 'Using': 720, 'Usually': 721, 'VC': 722, 'VIP': 723, 'VPN': 724, 'VR': 725, 'VVIP': 726, 'Vacationing': 727, 'Various': 728, 'Vegetables': 729, 'Venezuela': 730, 'Very': 731, 'Vietnam': 732, 'View': 733, 'Virtual': 734, 'Visual': 735, 'Visualization': 736, 'WIFI': 737, 'WTO': 738, 'Wait': 739, 'Was': 740, 'We': 741, 'Webcasting': 742, 'Wednesday': 743, 'Welcome': 744, 'Well': 745, 'Were': 746, 'Weren': 747, 'What': 748, 'Whatever': 749, 'WhatsApp': 750, 'When': 751, 'Where': 752, 'Which': 753, 'While': 754, 'Who': 755, 'Whom': 756, 'Why': 757, 'Wi': 758, 'Will': 759, 'Wishing': 760, 'With': 761, 'Without': 762, 'Won': 763, 'Wonderful': 764, 'Wonju': 765, 'Would': 766, 'Wouldn': 767, 'Wow': 768, 'X': 769, 'Yeah': 770, 'Yebool': 771, 'Yellowknife': 772, 'Yes': 773, 'Yet': 774, 'York': 775, 'Yorkshire': 776, 'You': 777, 'Your': 778, 'Yukhoe': 779, 'Yup': 780, 'Zealand': 781, 'a': 782, 'abbreviation': 783, 'ability': 784, 'able': 785, 'about': 786, 'above': 787, 'abroad': 788, 'absent': 789, 'absolutely': 790, 'absorption': 791, 'academe': 792, 'academic': 793, 'accelerate': 794, 'accept': 795, 'acceptable': 796, 'acceptance': 797, 'accepted': 798, 'accepting': 799, 'access': 800, 'accessed': 801, 'accessibility': 802, 'accessible': 803, 'accessing': 804, 'accessories': 805, 'accidental': 806, 'accidentally': 807, 'accidents': 808, 'accommodate': 809, 'accommodating': 810, 'accommodation': 811, 'accommodations': 812, 'accomodating': 813, 'accomplish': 814, 'accomplished': 815, 'accordance': 816, 'according': 817, 'accordingly': 818, 'account': 819, 'accountancy': 820, 'accountant': 821, 'accounted': 822, 'accounting': 823, 'accounts': 824, 'accrual': 825, 'accumulated': 826, 'accuracy': 827, 'accurate': 828, 'accurately': 829, 'achieve': 830, 'achieved': 831, 'achievement': 832, 'achievements': 833, 'achieving': 834, 'acknowledge': 835, 'acne': 836, 'acoustic': 837, 'acoustics': 838, 'acquaint': 839, 'acquire': 840, 'acquired': 841, 'acquiring': 842, 'acquisition': 843, 'across': 844, 'act': 845, 'action': 846, 'actions': 847, 'activate': 848, 'activated': 849, 'active': 850, 'activities': 851, 'activity': 852, 'actors': 853, 'actual': 854, 'actualize': 855, 'actually': 856, 'acute': 857, 'ad': 858, 'adaptations': 859, 'adapter': 860, 'adaptive': 861, 'adaptor': 862, 'adaptors': 863, 'add': 864, 'added': 865, 'addendum': 866, 'adding': 867, 'addition': 868, 'additional': 869, 'address': 870, 'addressed': 871, 'addresses': 872, 'addressing': 873, 'adequately': 874, 'adhere': 875, 'adhesive': 876, 'adjust': 877, 'adjustable': 878, 'adjusted': 879, 'adjustment': 880, 'adjustments': 881, 'administration': 882, 'administrative': 883, 'administrators': 884, 'admission': 885, 'adopt': 886, 'ads': 887, 'adult': 888, 'adults': 889, 'advance': 890, 'advanced': 891, 'advancement': 892, 'advancing': 893, 'advantage': 894, 'advantageous': 895, 'advantages': 896, 'adventure': 897, 'advertise': 898, 'advertisement': 899, 'advertisements': 900, 'advertising': 901, 'adverts': 902, 'advice': 903, 'advisable': 904, 'advise': 905, 'advised': 906, 'advisers': 907, 'advises': 908, 'advisor': 909, 'advisory': 910, 'aesthetic': 911, 'affairs': 912, 'affect': 913, 'affected': 914, 'affecting': 915, 'affects': 916, 'affiliate': 917, 'affiliated': 918, 'affluent': 919, 'afford': 920, 'affordability': 921, 'affordable': 922, 'afloat': 923, 'aforementioned': 924, 'afraid': 925, 'after': 926, 'afternoon': 927, 'afterward': 928, 'again': 929, 'against': 930, 'age': 931, 'aged': 932, 'agencies': 933, 'agency': 934, 'agenda': 935, 'agent': 936, 'ages': 937, 'ago': 938, 'agree': 939, 'agreed': 940, 'agreeing': 941, 'agreement': 942, 'agrees': 943, 'agricultural': 944, 'agriculture': 945, 'ahead': 946, 'aid': 947, 'aids': 948, 'aim': 949, 'aims': 950, 'air': 951, 'aircraft': 952, 'airing': 953, 'airlines': 954, 'airport': 955, 'airports': 956, 'airtime': 957, 'alarm': 958, 'albeit': 959, 'album': 960, 'albums': 961, 'alcohol': 962, 'alcoholic': 963, 'alert': 964, 'algorithm': 965, 'algorithms': 966, 'aligned': 967, 'alkaline': 968, 'all': 969, 'allegations': 970, 'allergic': 971, 'allergies': 972, 'alliance': 973, 'allocate': 974, 'allocation': 975, 'allocations': 976, 'allow': 977, 'allowed': 978, 'allowing': 979, 'allows': 980, 'almost': 981, 'alone': 982, 'along': 983, 'already': 984, 'alright': 985, 'also': 986, 'alternative': 987, 'alternatives': 988, 'although': 989, 'aluminum': 990, 'always': 991, 'am': 992, 'amazing': 993, 'ambassador': 994, 'ambiance': 995, 'ambulation': 996, 'ambulatory': 997, 'amend': 998, 'amends': 999, 'amenities': 1000, 'amenity': 1001, 'among': 1002, 'amongst': 1003, 'amount': 1004, 'amounted': 1005, 'amounts': 1006, 'amplifier': 1007, 'amplify': 1008, 'an': 1009, 'analysis': 1010, 'analytics': 1011, 'analyze': 1012, 'analyzing': 1013, 'anchor': 1014, 'ancient': 1015, 'and': 1016, 'android': 1017, 'angel': 1018, 'angle': 1019, 'angry': 1020, 'animal': 1021, 'animated': 1022, 'animations': 1023, 'animators': 1024, 'ankle': 1025, 'anniversary': 1026, 'announce': 1027, 'announcement': 1028, 'announcements': 1029, 'announcers': 1030, 'annual': 1031, 'annually': 1032, 'annum': 1033, 'another': 1034, 'answer': 1035, 'answered': 1036, 'answering': 1037, 'antenna': 1038, 'antivirus': 1039, 'any': 1040, 'anybody': 1041, 'anymore': 1042, 'anyone': 1043, 'anything': 1044, 'anytime': 1045, 'anyway': 1046, 'anywhere': 1047, 'apart': 1048, 'apartment': 1049, 'apartments': 1050, 'apologies': 1051, 'apologize': 1052, 'apology': 1053, 'app': 1054, 'apparent': 1055, 'appeal': 1056, 'appealing': 1057, 'appeals': 1058, 'appear': 1059, 'appearance': 1060, 'appeared': 1061, 'appears': 1062, 'appended': 1063, 'appetizer': 1064, 'apple': 1065, 'appliances': 1066, 'applicable': 1067, 'application': 1068, 'applications': 1069, 'applied': 1070, 'applies': 1071, 'apply': 1072, 'applying': 1073, 'appointment': 1074, 'appraisal': 1075, 'appreciate': 1076, 'appreciated': 1077, 'appreciating': 1078, 'appreciation': 1079, 'approach': 1080, 'approached': 1081, 'appropriate': 1082, 'appropriately': 1083, 'approval': 1084, 'approve': 1085, 'approved': 1086, 'approximately': 1087, 'apps': 1088, 'aprtner': 1089, 'architectural': 1090, 'architecture': 1091, 'archives': 1092, 'are': 1093, 'area': 1094, 'areas': 1095, 'aren': 1096, 'arena': 1097, 'arises': 1098, 'aromatherapy': 1099, 'around': 1100, 'arrange': 1101, 'arranged': 1102, 'arrangement': 1103, 'arrangements': 1104, 'arranger': 1105, 'arrangers': 1106, 'arranging': 1107, 'array': 1108, 'arrival': 1109, 'arrive': 1110, 'arrived': 1111, 'arriving': 1112, 'art': 1113, 'article': 1114, 'articles': 1115, 'artificial': 1116, 'artillery': 1117, 'artist': 1118, 'artists': 1119, 'arts': 1120, 'artwork': 1121, 'artworks': 1122, 'as': 1123, 'asap': 1124, 'ashamed': 1125, 'aside': 1126, 'ask': 1127, 'asked': 1128, 'asking': 1129, 'asks': 1130, 'asleep': 1131, 'asparagus': 1132, 'aspect': 1133, 'aspects': 1134, 'asphalt': 1135, 'assembly': 1136, 'assessing': 1137, 'assessment': 1138, 'asset': 1139, 'assets': 1140, 'assign': 1141, 'assigned': 1142, 'assist': 1143, 'assistance': 1144, 'assistant': 1145, 'assisting': 1146, 'assistive': 1147, 'associate': 1148, 'associated': 1149, 'associates': 1150, 'association': 1151, 'assumed': 1152, 'assuming': 1153, 'assurance': 1154, 'assure': 1155, 'assured': 1156, 'assures': 1157, 'assuring': 1158, 'at': 1159, 'ate': 1160, 'atmosphere': 1161, 'attach': 1162, 'attached': 1163, 'attack': 1164, 'attacks': 1165, 'attain': 1166, 'attains': 1167, 'attempted': 1168, 'attend': 1169, 'attendance': 1170, 'attended': 1171, 'attending': 1172, 'attention': 1173, 'attest': 1174, 'attorney': 1175, 'attract': 1176, 'attracted': 1177, 'attributes': 1178, 'attrition': 1179, 'audience': 1180, 'audiences': 1181, 'audio': 1182, 'audiovisual': 1183, 'audit': 1184, 'audited': 1185, 'auditing': 1186, 'authentic': 1187, 'author': 1188, 'authored': 1189, 'authorities': 1190, 'authority': 1191, 'authorization': 1192, 'authorized': 1193, 'authors': 1194, 'auto': 1195, 'autobiographies': 1196, 'autoclave': 1197, 'automate': 1198, 'automated': 1199, 'automatic': 1200, 'automatically': 1201, 'automation': 1202, 'automobile': 1203, 'automotive': 1204, 'autumn': 1205, 'auxiliary': 1206, 'avail': 1207, 'availability': 1208, 'available': 1209, 'availed': 1210, 'availing': 1211, 'avenue': 1212, 'average': 1213, 'avoid': 1214, 'await': 1215, 'awake': 1216, 'awarded': 1217, 'aware': 1218, 'awareness': 1219, 'away': 1220, 'awesome': 1221, 'ay': 1222, 'babies': 1223, 'baby': 1224, 'back': 1225, 'backdrops': 1226, 'backers': 1227, 'background': 1228, 'backgrounds': 1229, 'backhoe': 1230, 'backing': 1231, 'backlinks': 1232, 'backlog': 1233, 'backup': 1234, 'backward': 1235, 'backyard': 1236, 'bacteria': 1237, 'bad': 1238, 'baffling': 1239, 'baker': 1240, 'bakery': 1241, 'baking': 1242, 'balance': 1243, 'ball': 1244, 'ballpark': 1245, 'bamboo': 1246, 'ban': 1247, 'banana': 1248, 'banchan': 1249, 'band': 1250, 'bands': 1251, 'bandwidth': 1252, 'bank': 1253, 'banker': 1254, 'banking': 1255, 'bankruptcy': 1256, 'banks': 1257, 'banner': 1258, 'banners': 1259, 'banquet': 1260, 'bar': 1261, 'barbecue': 1262, 'barbeque': 1263, 'bare': 1264, 'barely': 1265, 'bargain': 1266, 'barrier': 1267, 'bars': 1268, 'base': 1269, 'based': 1270, 'basement': 1271, 'basic': 1272, 'basically': 1273, 'basics': 1274, 'basis': 1275, 'bass': 1276, 'batch': 1277, 'bath': 1278, 'bathhouses': 1279, 'bathroom': 1280, 'bathrooms': 1281, 'baths': 1282, 'bathtub': 1283, 'batteries': 1284, 'battery': 1285, 'battling': 1286, 'bay': 1287, 'be': 1288, 'beach': 1289, 'beaches': 1290, 'beachside': 1291, 'beakers': 1292, 'beam': 1293, 'bean': 1294, 'bear': 1295, 'bearer': 1296, 'bearing': 1297, 'beats': 1298, 'beautiful': 1299, 'beauty': 1300, 'became': 1301, 'because': 1302, 'become': 1303, 'becomes': 1304, 'becoming': 1305, 'bed': 1306, 'bedroom': 1307, 'bedrooms': 1308, 'beds': 1309, 'beef': 1310, 'been': 1311, 'beeps': 1312, 'beer': 1313, 'before': 1314, 'beforehand': 1315, 'beg': 1316, 'began': 1317, 'begging': 1318, 'begin': 1319, 'beginning': 1320, 'behalf': 1321, 'behavior': 1322, 'behind': 1323, 'being': 1324, 'believe': 1325, 'believes': 1326, 'belly': 1327, 'belongs': 1328, 'below': 1329, 'belts': 1330, 'benchtop': 1331, 'bending': 1332, 'beneficial': 1333, 'beneficiaries': 1334, 'benefit': 1335, 'benefits': 1336, 'bento': 1337, 'berthing': 1338, 'beside': 1339, 'besides': 1340, 'best': 1341, 'bet': 1342, 'beta': 1343, 'better': 1344, 'between': 1345, 'bevel': 1346, 'beverage': 1347, 'beverages': 1348, 'beyond': 1349, 'biannual': 1350, 'bibimbap': 1351, 'bibimnaengmyun': 1352, 'bid': 1353, 'bidding': 1354, 'big': 1355, 'bigger': 1356, 'biggest': 1357, 'bikes': 1358, 'bill': 1359, 'billboards': 1360, 'billed': 1361, 'billing': 1362, 'billion': 1363, 'bills': 1364, 'bins': 1365, 'biodata': 1366, 'biodegradable': 1367, 'biometrics': 1368, 'bird': 1369, 'birds': 1370, 'birthday': 1371, 'biryani': 1372, 'biscuits': 1373, 'bistro': 1374, 'bit': 1375, 'bitcoin': 1376, 'bite': 1377, 'black': 1378, 'blackout': 1379, 'blades': 1380, 'blanks': 1381, 'blending': 1382, 'blends': 1383, 'blessed': 1384, 'blind': 1385, 'blinking': 1386, 'bliss': 1387, 'block': 1388, 'blockchain': 1389, 'blog': 1390, 'blood': 1391, 'blow': 1392, 'blown': 1393, 'blue': 1394, 'blueprint': 1395, 'blurry': 1396, 'board': 1397, 'boarding': 1398, 'boards': 1399, 'boats': 1400, 'bodies': 1401, 'body': 1402, 'bodysuit': 1403, 'bohemian': 1404, 'boiled': 1405, 'boiling': 1406, 'bokkeum': 1407, 'bold': 1408, 'bolder': 1409, 'bond': 1410, 'bonding': 1411, 'bonds': 1412, 'book': 1413, 'booked': 1414, 'booking': 1415, 'bookings': 1416, 'bookrunners': 1417, 'books': 1418, 'bookstores': 1419, 'boom': 1420, 'boost': 1421, 'booting': 1422, 'boots': 1423, 'border': 1424, 'bore': 1425, 'bored': 1426, 'boring': 1427, 'born': 1428, 'borrow': 1429, 'borrower': 1430, 'borrowing': 1431, 'boss': 1432, 'bot': 1433, 'both': 1434, 'bothering': 1435, 'bottle': 1436, 'bottles': 1437, 'bottom': 1438, 'bought': 1439, 'bow': 1440, 'bowl': 1441, 'bowls': 1442, 'box': 1443, 'boxes': 1444, 'boy': 1445, 'bragging': 1446, 'braille': 1447, 'brainstorm': 1448, 'brake': 1449, 'branch': 1450, 'branches': 1451, 'brand': 1452, 'branded': 1453, 'branding': 1454, 'brands': 1455, 'brave': 1456, 'breach': 1457, 'breached': 1458, 'breaches': 1459, 'bread': 1460, 'break': 1461, 'breakdown': 1462, 'breakdowns': 1463, 'breakeven': 1464, 'breakfast': 1465, 'breast': 1466, 'breathing': 1467, 'breathtaking': 1468, 'breeding': 1469, 'breeze': 1470, 'brewed': 1471, 'bride': 1472, 'bridge': 1473, 'brief': 1474, 'briefing': 1475, 'brilliant': 1476, 'bring': 1477, 'bringer': 1478, 'bringing': 1479, 'brings': 1480, 'broadband': 1481, 'broadcast': 1482, 'broadcasted': 1483, 'broadcasting': 1484, 'brochure': 1485, 'brochures': 1486, 'broken': 1487, 'broker': 1488, 'brokerage': 1489, 'brokerages': 1490, 'brokers': 1491, 'bronze': 1492, 'broth': 1493, 'brother': 1494, 'brought': 1495, 'browse': 1496, 'browser': 1497, 'browsers': 1498, 'browsing': 1499, 'bubble': 1500, 'bucks': 1501, 'budget': 1502, 'buffet': 1503, 'bug': 1504, 'bugs': 1505, 'build': 1506, 'building': 1507, 'builds': 1508, 'built': 1509, 'bulgogi': 1510, 'bulk': 1511, 'bull': 1512, 'bulldozer': 1513, 'bunch': 1514, 'bundle': 1515, 'burners': 1516, 'bus': 1517, 'buses': 1518, 'business': 1519, 'businesses': 1520, 'businessman': 1521, 'businesswoman': 1522, 'busy': 1523, 'but': 1524, 'butterfly': 1525, 'button': 1526, 'buttons': 1527, 'buy': 1528, 'buyer': 1529, 'buyers': 1530, 'buying': 1531, 'by': 1532, 'bye': 1533, 'bytes': 1534, 'cabin': 1535, 'cabinets': 1536, 'cable': 1537, 'caching': 1538, 'caf': 1539, 'cafe': 1540, 'cafeteria': 1541, 'cake': 1542, 'calculate': 1543, 'calculated': 1544, 'calculations': 1545, 'calendar': 1546, 'call': 1547, 'called': 1548, 'calligraphy': 1549, 'calling': 1550, 'calls': 1551, 'calm': 1552, 'calming': 1553, 'cam': 1554, 'came': 1555, 'camera': 1556, 'cameras': 1557, 'camp': 1558, 'campaign': 1559, 'campaigns': 1560, 'camper': 1561, 'campfire': 1562, 'campground': 1563, 'camping': 1564, 'campsite': 1565, 'campsites': 1566, 'campus': 1567, 'can': 1568, 'cancel': 1569, 'cancelation': 1570, 'cancelations': 1571, 'canceled': 1572, 'canceling': 1573, 'cancellation': 1574, 'cancellations': 1575, 'cancelled': 1576, 'candies': 1577, 'candles': 1578, 'cannot': 1579, 'canteen': 1580, 'cap': 1581, 'capable': 1582, 'capacity': 1583, 'capital': 1584, 'capitalists': 1585, 'capture': 1586, 'capturing': 1587, 'car': 1588, 'carbon': 1589, 'carburetor': 1590, 'carburetors': 1591, 'card': 1592, 'cardiac': 1593, 'cards': 1594, 'care': 1595, 'career': 1596, 'careers': 1597, 'careful': 1598, 'carefully': 1599, 'cargo': 1600, 'carpeted': 1601, 'carried': 1602, 'carrier': 1603, 'carrot': 1604, 'carry': 1605, 'carrying': 1606, 'cars': 1607, 'cart': 1608, 'carton': 1609, 'cartoon': 1610, 'carts': 1611, 'case': 1612, 'cases': 1613, 'cash': 1614, 'cashier': 1615, 'cashless': 1616, 'casino': 1617, 'cast': 1618, 'casual': 1619, 'casualties': 1620, 'cat': 1621, 'catalog': 1622, 'catalogue': 1623, 'catastrophe': 1624, 'catch': 1625, 'categories': 1626, 'category': 1627, 'cater': 1628, 'caterers': 1629, 'catering': 1630, 'caterpillar': 1631, 'caught': 1632, 'cause': 1633, 'caused': 1634, 'causes': 1635, 'causing': 1636, 'cautious': 1637, 'cautiously': 1638, 'ceiling': 1639, 'ceilings': 1640, 'celebrate': 1641, 'celebration': 1642, 'celebrities': 1643, 'celebrity': 1644, 'celeriac': 1645, 'cell': 1646, 'center': 1647, 'centers': 1648, 'centimeter': 1649, 'centrifugal': 1650, 'centrifuge': 1651, 'centrifuges': 1652, 'cents': 1653, 'century': 1654, 'ceremonies': 1655, 'ceremony': 1656, 'certain': 1657, 'certainly': 1658, 'certificate': 1659, 'certificates': 1660, 'certification': 1661, 'certified': 1662, 'chain': 1663, 'chair': 1664, 'chairman': 1665, 'chairs': 1666, 'challenge': 1667, 'challenged': 1668, 'challenges': 1669, 'challenging': 1670, 'chamber': 1671, 'champagne': 1672, 'chance': 1673, 'chances': 1674, 'change': 1675, 'changed': 1676, 'changes': 1677, 'changing': 1678, 'channel': 1679, 'channels': 1680, 'chapbooks': 1681, 'characteristics': 1682, 'characters': 1683, 'charcoal': 1684, 'charge': 1685, 'charged': 1686, 'charger': 1687, 'charges': 1688, 'charging': 1689, 'charitable': 1690, 'charity': 1691, 'charm': 1692, 'chart': 1693, 'chasing': 1694, 'chat': 1695, 'chatroom': 1696, 'cheap': 1697, 'cheaper': 1698, 'cheapest': 1699, 'check': 1700, 'checked': 1701, 'checking': 1702, 'checklist': 1703, 'checkout': 1704, 'checks': 1705, 'checkup': 1706, 'cheerful': 1707, 'cheers': 1708, 'cheesecakes': 1709, 'chef': 1710, 'chefs': 1711, 'chemistry': 1712, 'cheque': 1713, 'chew': 1714, 'chicken': 1715, 'child': 1716, 'childhood': 1717, 'children': 1718, 'chili': 1719, 'chill': 1720, 'chilled': 1721, 'chimaek': 1722, 'chip': 1723, 'chips': 1724, 'chipsets': 1725, 'chitchat': 1726, 'chocolate': 1727, 'choice': 1728, 'choices': 1729, 'choose': 1730, 'choosing': 1731, 'chopstick': 1732, 'chopsticks': 1733, 'chores': 1734, 'chose': 1735, 'chosen': 1736, 'ciphertext': 1737, 'circuits': 1738, 'circulation': 1739, 'circumstance': 1740, 'circumstances': 1741, 'cities': 1742, 'citizen': 1743, 'citizens': 1744, 'citizenship': 1745, 'city': 1746, 'civil': 1747, 'claim': 1748, 'claiming': 1749, 'claims': 1750, 'clarify': 1751, 'clarifying': 1752, 'clarity': 1753, 'class': 1754, 'classes': 1755, 'classification': 1756, 'classmates': 1757, 'classroom': 1758, 'classrooms': 1759, 'clauses': 1760, 'clean': 1761, 'cleaner': 1762, 'cleaners': 1763, 'cleaning': 1764, 'cleansing': 1765, 'clear': 1766, 'clearance': 1767, 'cleared': 1768, 'clearer': 1769, 'clearly': 1770, 'clerk': 1771, 'clever': 1772, 'click': 1773, 'client': 1774, 'clientele': 1775, 'clients': 1776, 'climate': 1777, 'clinic': 1778, 'clinical': 1779, 'clip': 1780, 'clips': 1781, 'clock': 1782, 'clogged': 1783, 'close': 1784, 'closed': 1785, 'closely': 1786, 'closer': 1787, 'closes': 1788, 'closest': 1789, 'closet': 1790, 'closing': 1791, 'clothes': 1792, 'clothing': 1793, 'cloud': 1794, 'clouds': 1795, 'clubhouse': 1796, 'cluster': 1797, 'co': 1798, 'coach': 1799, 'coaches': 1800, 'coaching': 1801, 'coarrangers': 1802, 'coastal': 1803, 'cocks': 1804, 'cocktails': 1805, 'coconut': 1806, 'code': 1807, 'codebreaker': 1808, 'codes': 1809, 'coding': 1810, 'coffee': 1811, 'cogent': 1812, 'coins': 1813, 'cold': 1814, 'coliving': 1815, 'collaborate': 1816, 'collaborating': 1817, 'collaboration': 1818, 'collar': 1819, 'collateral': 1820, 'colleague': 1821, 'colleagues': 1822, 'collect': 1823, 'collectibles': 1824, 'collecting': 1825, 'collection': 1826, 'collective': 1827, 'collects': 1828, 'college': 1829, 'colleges': 1830, 'color': 1831, 'colored': 1832, 'colors': 1833, 'column': 1834, 'combination': 1835, 'combinations': 1836, 'combine': 1837, 'combustion': 1838, 'come': 1839, 'comes': 1840, 'comfort': 1841, 'comfortable': 1842, 'comfortably': 1843, 'coming': 1844, 'comm': 1845, 'commemorative': 1846, 'comment': 1847, 'comments': 1848, 'commerce': 1849, 'commercial': 1850, 'commission': 1851, 'commissioned': 1852, 'commissions': 1853, 'commit': 1854, 'commitment': 1855, 'commitments': 1856, 'committed': 1857, 'commodity': 1858, 'common': 1859, 'commonly': 1860, 'communal': 1861, 'communicate': 1862, 'communicated': 1863, 'communicating': 1864, 'communication': 1865, 'communications': 1866, 'communicative': 1867, 'communicator': 1868, 'communities': 1869, 'community': 1870, 'commuting': 1871, 'companies': 1872, 'company': 1873, 'compare': 1874, 'compared': 1875, 'comparison': 1876, 'compartments': 1877, 'compassionate': 1878, 'compatible': 1879, 'compelling': 1880, 'compensate': 1881, 'compensated': 1882, 'compensation': 1883, 'compete': 1884, 'competition': 1885, 'competitive': 1886, 'competitiveness': 1887, 'competitors': 1888, 'compiling': 1889, 'complain': 1890, 'complained': 1891, 'complaining': 1892, 'complaint': 1893, 'complaints': 1894, 'complete': 1895, 'completed': 1896, 'completely': 1897, 'completion': 1898, 'complex': 1899, 'compliance': 1900, 'complicated': 1901, 'complied': 1902, 'compliment': 1903, 'complimentary': 1904, 'compliments': 1905, 'comply': 1906, 'component': 1907, 'components': 1908, 'composed': 1909, 'composer': 1910, 'compound': 1911, 'comprehension': 1912, 'comprehensive': 1913, 'compressed': 1914, 'compression': 1915, 'compressor': 1916, 'compressors': 1917, 'compromise': 1918, 'compromising': 1919, 'computer': 1920, 'computers': 1921, 'computing': 1922, 'concentrate': 1923, 'concept': 1924, 'concepts': 1925, 'conceptual': 1926, 'concern': 1927, 'concerned': 1928, 'concerning': 1929, 'concerns': 1930, 'concert': 1931, 'concerts': 1932, 'concessions': 1933, 'conclusion': 1934, 'concrete': 1935, 'concretely': 1936, 'condenser': 1937, 'condiments': 1938, 'condition': 1939, 'conditioned': 1940, 'conditioner': 1941, 'conditioning': 1942, 'conditions': 1943, 'condo': 1944, 'conduct': 1945, 'conducted': 1946, 'conducting': 1947, 'conductors': 1948, 'conference': 1949, 'conferences': 1950, 'conferencing': 1951, 'confidence': 1952, 'confident': 1953, 'confidential': 1954, 'confidentiality': 1955, 'configurations': 1956, 'configure': 1957, 'confirm': 1958, 'confirmation': 1959, 'confirmed': 1960, 'confirming': 1961, 'confused': 1962, 'congested': 1963, 'congestion': 1964, 'congrats': 1965, 'congratulate': 1966, 'congratulations': 1967, 'connect': 1968, 'connected': 1969, 'connecting': 1970, 'connection': 1971, 'connections': 1972, 'connectivity': 1973, 'connects': 1974, 'cons': 1975, 'conscientious': 1976, 'conscious': 1977, 'consciousness': 1978, 'consequences': 1979, 'consider': 1980, 'considerable': 1981, 'consideration': 1982, 'considered': 1983, 'considering': 1984, 'consignment': 1985, 'consist': 1986, 'consistent': 1987, 'consists': 1988, 'consoles': 1989, 'consolidate': 1990, 'constant': 1991, 'constantly': 1992, 'construct': 1993, 'constructed': 1994, 'construction': 1995, 'constructive': 1996, 'consult': 1997, 'consultancy': 1998, 'consultant': 1999, 'consultants': 2000, 'consultation': 2001, 'consulted': 2002, 'consulting': 2003, 'consume': 2004, 'consumers': 2005, 'consuming': 2006, 'consumption': 2007, 'contact': 2008, 'contacted': 2009, 'contacting': 2010, 'contacts': 2011, 'contain': 2012, 'container': 2013, 'containers': 2014, 'containing': 2015, 'contains': 2016, 'contemplate': 2017, 'contemporary': 2018, 'contenders': 2019, 'content': 2020, 'contents': 2021, 'context': 2022, 'continent': 2023, 'continental': 2024, 'continue': 2025, 'continuous': 2026, 'continuously': 2027, 'contract': 2028, 'contracted': 2029, 'contracts': 2030, 'contrary': 2031, 'contribute': 2032, 'contributed': 2033, 'contributes': 2034, 'contribution': 2035, 'contributors': 2036, 'control': 2037, 'controlled': 2038, 'controversial': 2039, 'convenience': 2040, 'convenient': 2041, 'conventional': 2042, 'conversation': 2043, 'conversational': 2044, 'conversations': 2045, 'conversion': 2046, 'conversions': 2047, 'converted': 2048, 'converting': 2049, 'convey': 2050, 'conveyor': 2051, 'conveyors': 2052, 'convince': 2053, 'convincing': 2054, 'cook': 2055, 'cooked': 2056, 'cookies': 2057, 'cooking': 2058, 'cooks': 2059, 'cool': 2060, 'cooldown': 2061, 'coolers': 2062, 'cooling': 2063, 'cooperation': 2064, 'cooperative': 2065, 'cooperatives': 2066, 'coordinate': 2067, 'coordinates': 2068, 'copay': 2069, 'copiers': 2070, 'copies': 2071, 'copy': 2072, 'copyediting': 2073, 'copyright': 2074, 'copyrighted': 2075, 'copyrights': 2076, 'cords': 2077, 'core': 2078, 'corkage': 2079, 'corn': 2080, 'corner': 2081, 'coronavirus': 2082, 'corporate': 2083, 'corporation': 2084, 'corporations': 2085, 'correct': 2086, 'correctly': 2087, 'cosigner': 2088, 'cosmetic': 2089, 'cosmetics': 2090, 'cosmic': 2091, 'cost': 2092, 'costs': 2093, 'cotton': 2094, 'could': 2095, 'couldn': 2096, 'council': 2097, 'counseling': 2098, 'count': 2099, 'countdown': 2100, 'counterpart': 2101, 'counting': 2102, 'countries': 2103, 'country': 2104, 'countryside': 2105, 'couple': 2106, 'coupled': 2107, 'coupon': 2108, 'courier': 2109, 'course': 2110, 'coursed': 2111, 'courses': 2112, 'court': 2113, 'cousin': 2114, 'cover': 2115, 'coverage': 2116, 'covered': 2117, 'covers': 2118, 'cozy': 2119, 'crab': 2120, 'cracks': 2121, 'crane': 2122, 'cranes': 2123, 'crash': 2124, 'crashed': 2125, 'crashing': 2126, 'cream': 2127, 'create': 2128, 'created': 2129, 'creates': 2130, 'creating': 2131, 'creation': 2132, 'creative': 2133, 'creatives': 2134, 'creator': 2135, 'creators': 2136, 'credentials': 2137, 'credit': 2138, 'credited': 2139, 'creditor': 2140, 'creditors': 2141, 'credits': 2142, 'creditworthy': 2143, 'crib': 2144, 'crime': 2145, 'crimes': 2146, 'criminals': 2147, 'criteria': 2148, 'critical': 2149, 'critics': 2150, 'croissants': 2151, 'crooks': 2152, 'crop': 2153, 'crops': 2154, 'cross': 2155, 'crossed': 2156, 'crowd': 2157, 'crowdfunding': 2158, 'crucial': 2159, 'crude': 2160, 'crux': 2161, 'crypto': 2162, 'cryptocurrencies': 2163, 'cryptocurrency': 2164, 'cryptography': 2165, 'cues': 2166, 'cuisine': 2167, 'culinary': 2168, 'culprits': 2169, 'cultivating': 2170, 'cultural': 2171, 'culture': 2172, 'cumbersome': 2173, 'cup': 2174, 'curious': 2175, 'currencies': 2176, 'currency': 2177, 'current': 2178, 'currently': 2179, 'cursive': 2180, 'curtains': 2181, 'curve': 2182, 'cushion': 2183, 'custom': 2184, 'customer': 2185, 'customers': 2186, 'customizable': 2187, 'customization': 2188, 'customize': 2189, 'customized': 2190, 'customs': 2191, 'cut': 2192, 'cutlery': 2193, 'cuts': 2194, 'cutter': 2195, 'cutters': 2196, 'cutting': 2197, 'cyber': 2198, 'cybercrime': 2199, 'cybersecurity': 2200, 'cycle': 2201, 'cylinder': 2202, 'cylinders': 2203, 'd': 2204, 'daily': 2205, 'dairy': 2206, 'damage': 2207, 'damaged': 2208, 'damages': 2209, 'dancing': 2210, 'dangerous': 2211, 'dangers': 2212, 'dark': 2213, 'data': 2214, 'database': 2215, 'date': 2216, 'dated': 2217, 'dates': 2218, 'dating': 2219, 'daunting': 2220, 'day': 2221, 'days': 2222, 'deadline': 2223, 'deadlines': 2224, 'deaf': 2225, 'deal': 2226, 'dealer': 2227, 'dealers': 2228, 'dealership': 2229, 'dealing': 2230, 'deals': 2231, 'debit': 2232, 'debt': 2233, 'debtee': 2234, 'debtor': 2235, 'debtors': 2236, 'debts': 2237, 'debut': 2238, 'decade': 2239, 'decades': 2240, 'decent': 2241, 'decide': 2242, 'decided': 2243, 'decides': 2244, 'deciding': 2245, 'decision': 2246, 'decisions': 2247, 'deck': 2248, 'decks': 2249, 'declare': 2250, 'decline': 2251, 'declined': 2252, 'declining': 2253, 'decode': 2254, 'decorate': 2255, 'decorations': 2256, 'decrease': 2257, 'decryption': 2258, 'dedicate': 2259, 'dedicated': 2260, 'deduct': 2261, 'deducted': 2262, 'deducting': 2263, 'deeds': 2264, 'deep': 2265, 'deeply': 2266, 'default': 2267, 'defaulter': 2268, 'defect': 2269, 'defective': 2270, 'defects': 2271, 'defense': 2272, 'deficit': 2273, 'deficits': 2274, 'defined': 2275, 'definite': 2276, 'definitely': 2277, 'definition': 2278, 'degree': 2279, 'dehydration': 2280, 'delay': 2281, 'delayed': 2282, 'delays': 2283, 'delegates': 2284, 'delete': 2285, 'deleted': 2286, 'delicious': 2287, 'delight': 2288, 'delighted': 2289, 'delightful': 2290, 'delineates': 2291, 'deliver': 2292, 'delivered': 2293, 'deliveries': 2294, 'delivering': 2295, 'delivers': 2296, 'delivery': 2297, 'deluxe': 2298, 'demand': 2299, 'demanded': 2300, 'demanding': 2301, 'demands': 2302, 'demat': 2303, 'demerits': 2304, 'demographics': 2305, 'demonstration': 2306, 'demos': 2307, 'dental': 2308, 'deny': 2309, 'department': 2310, 'departments': 2311, 'depend': 2312, 'dependable': 2313, 'dependents': 2314, 'depending': 2315, 'depends': 2316, 'deploy': 2317, 'deployment': 2318, 'deposit': 2319, 'deposited': 2320, 'depositing': 2321, 'deposits': 2322, 'derrick': 2323, 'describe': 2324, 'description': 2325, 'descriptions': 2326, 'deserve': 2327, 'design': 2328, 'designation': 2329, 'designed': 2330, 'designer': 2331, 'designers': 2332, 'designs': 2333, 'desire': 2334, 'desired': 2335, 'desk': 2336, 'desktop': 2337, 'desperately': 2338, 'despite': 2339, 'dessert': 2340, 'desserts': 2341, 'destination': 2342, 'destinations': 2343, 'destroys': 2344, 'detail': 2345, 'detailed': 2346, 'detailing': 2347, 'details': 2348, 'detected': 2349, 'detects': 2350, 'determine': 2351, 'determined': 2352, 'determines': 2353, 'determining': 2354, 'develop': 2355, 'developed': 2356, 'developer': 2357, 'developers': 2358, 'developing': 2359, 'development': 2360, 'developments': 2361, 'develops': 2362, 'deviate': 2363, 'device': 2364, 'devices': 2365, 'devoted': 2366, 'devoting': 2367, 'diagnosis': 2368, 'diagnostics': 2369, 'dial': 2370, 'dialed': 2371, 'diameter': 2372, 'did': 2373, 'didn': 2374, 'diesel': 2375, 'diet': 2376, 'dietary': 2377, 'differ': 2378, 'difference': 2379, 'differences': 2380, 'different': 2381, 'differentiates': 2382, 'differently': 2383, 'difficult': 2384, 'difficulties': 2385, 'difficulty': 2386, 'digital': 2387, 'digitalize': 2388, 'digits': 2389, 'diligence': 2390, 'diligently': 2391, 'dimension': 2392, 'dimensions': 2393, 'dine': 2394, 'dining': 2395, 'dinner': 2396, 'dinning': 2397, 'dip': 2398, 'diplomas': 2399, 'dipped': 2400, 'direct': 2401, 'directed': 2402, 'direction': 2403, 'directly': 2404, 'director': 2405, 'directors': 2406, 'disabilities': 2407, 'disabled': 2408, 'disagree': 2409, 'disappointed': 2410, 'disappointment': 2411, 'disaster': 2412, 'disasters': 2413, 'disc': 2414, 'discount': 2415, 'discounted': 2416, 'discounts': 2417, 'discover': 2418, 'discovered': 2419, 'discovery': 2420, 'discrepancies': 2421, 'discuss': 2422, 'discussed': 2423, 'discussing': 2424, 'discussion': 2425, 'discussions': 2426, 'disease': 2427, 'diseases': 2428, 'dish': 2429, 'dishe': 2430, 'dishes': 2431, 'dismantle': 2432, 'dispatch': 2433, 'dispatched': 2434, 'dispatching': 2435, 'dispersing': 2436, 'display': 2437, 'displayed': 2438, 'displaying': 2439, 'disposal': 2440, 'disputes': 2441, 'disruption': 2442, 'distance': 2443, 'distinct': 2444, 'distinction': 2445, 'distinguish': 2446, 'distract': 2447, 'distress': 2448, 'distribute': 2449, 'distributed': 2450, 'distributing': 2451, 'distribution': 2452, 'distributor': 2453, 'distributorship': 2454, 'district': 2455, 'disturb': 2456, 'disturbed': 2457, 'disturbing': 2458, 'diverse': 2459, 'diversify': 2460, 'diversity': 2461, 'diverting': 2462, 'divide': 2463, 'divided': 2464, 'dividend': 2465, 'division': 2466, 'do': 2467, 'doable': 2468, 'doctor': 2469, 'doctors': 2470, 'document': 2471, 'documentaries': 2472, 'documentary': 2473, 'documentation': 2474, 'documenting': 2475, 'documents': 2476, 'does': 2477, 'doesn': 2478, 'dog': 2479, 'dogs': 2480, 'doing': 2481, 'doings': 2482, 'doljanchi': 2483, 'dollar': 2484, 'dollars': 2485, 'domain': 2486, 'dome': 2487, 'domestic': 2488, 'don': 2489, 'donate': 2490, 'donation': 2491, 'donations': 2492, 'done': 2493, 'donut': 2494, 'door': 2495, 'doors': 2496, 'dorm': 2497, 'dormitory': 2498, 'dosirak': 2499, 'double': 2500, 'doubled': 2501, 'doubt': 2502, 'doubts': 2503, 'down': 2504, 'downhill': 2505, 'download': 2506, 'downloaded': 2507, 'downpayment': 2508, 'downs': 2509, 'downside': 2510, 'downtown': 2511, 'downturn': 2512, 'dozers': 2513, 'draft': 2514, 'drafted': 2515, 'drafting': 2516, 'drafts': 2517, 'drain': 2518, 'dramas': 2519, 'dramatically': 2520, 'draw': 2521, 'drawer': 2522, 'drawing': 2523, 'drawings': 2524, 'draws': 2525, 'dress': 2526, 'dressers': 2527, 'dressing': 2528, 'drilling': 2529, 'drink': 2530, 'drinking': 2531, 'drinks': 2532, 'drive': 2533, 'driven': 2534, 'driver': 2535, 'drivers': 2536, 'driving': 2537, 'drop': 2538, 'dropped': 2539, 'dropping': 2540, 'drops': 2541, 'drug': 2542, 'drum': 2543, 'dry': 2544, 'dryer': 2545, 'dual': 2546, 'dude': 2547, 'due': 2548, 'duly': 2549, 'dump': 2550, 'dumpling': 2551, 'duplicate': 2552, 'durable': 2553, 'duration': 2554, 'during': 2555, 'dust': 2556, 'duties': 2557, 'duty': 2558, 'dyeing': 2559, 'dying': 2560, 'e': 2561, 'each': 2562, 'eager': 2563, 'eagerly': 2564, 'earlier': 2565, 'earliest': 2566, 'early': 2567, 'earn': 2568, 'earnings': 2569, 'ears': 2570, 'earth': 2571, 'ease': 2572, 'eased': 2573, 'easier': 2574, 'easiest': 2575, 'easily': 2576, 'easing': 2577, 'easy': 2578, 'eat': 2579, 'eaten': 2580, 'eating': 2581, 'echo': 2582, 'eclectic': 2583, 'eco': 2584, 'economy': 2585, 'ecstatic': 2586, 'edge': 2587, 'edit': 2588, 'edited': 2589, 'editing': 2590, 'edition': 2591, 'editorial': 2592, 'editors': 2593, 'educate': 2594, 'educated': 2595, 'educating': 2596, 'education': 2597, 'educational': 2598, 'edutainment': 2599, 'effect': 2600, 'effective': 2601, 'effectively': 2602, 'effectiveness': 2603, 'effects': 2604, 'efficiency': 2605, 'efficient': 2606, 'efficiently': 2607, 'effort': 2608, 'efforts': 2609, 'egg': 2610, 'eggs': 2611, 'eight': 2612, 'either': 2613, 'ejection': 2614, 'elaborate': 2615, 'elder': 2616, 'elders': 2617, 'eldest': 2618, 'electric': 2619, 'electrical': 2620, 'electricity': 2621, 'electro': 2622, 'electroencephalography': 2623, 'electromagnetic': 2624, 'electronic': 2625, 'electronically': 2626, 'electronics': 2627, 'elegant': 2628, 'element': 2629, 'elements': 2630, 'elevated': 2631, 'eligibility': 2632, 'eligible': 2633, 'eliminate': 2634, 'elliptical': 2635, 'else': 2636, 'elsewhere': 2637, 'email': 2638, 'emailed': 2639, 'emailing': 2640, 'emails': 2641, 'embarrassed': 2642, 'embody': 2643, 'embossing': 2644, 'embroidery': 2645, 'emergencies': 2646, 'emergency': 2647, 'emerging': 2648, 'emotions': 2649, 'emphasis': 2650, 'employ': 2651, 'employed': 2652, 'employee': 2653, 'employees': 2654, 'employers': 2655, 'employing': 2656, 'empty': 2657, 'emulsion': 2658, 'enable': 2659, 'enabled': 2660, 'enables': 2661, 'encapsulation': 2662, 'encoded': 2663, 'encounter': 2664, 'encountered': 2665, 'encourage': 2666, 'encourages': 2667, 'encrypt': 2668, 'encrypted': 2669, 'encryption': 2670, 'end': 2671, 'endangering': 2672, 'ended': 2673, 'ending': 2674, 'ends': 2675, 'energy': 2676, 'enforce': 2677, 'enforced': 2678, 'enforcements': 2679, 'engage': 2680, 'engaged': 2681, 'engagements': 2682, 'engaging': 2683, 'engine': 2684, 'engineer': 2685, 'engineering': 2686, 'engineers': 2687, 'engines': 2688, 'enhance': 2689, 'enhanced': 2690, 'enhancement': 2691, 'enhances': 2692, 'enjoy': 2693, 'enjoyed': 2694, 'enjoying': 2695, 'enlighten': 2696, 'enlist': 2697, 'enormously': 2698, 'enough': 2699, 'enquire': 2700, 'enroll': 2701, 'enrolled': 2702, 'ensure': 2703, 'ensured': 2704, 'ensures': 2705, 'entail': 2706, 'enter': 2707, 'entered': 2708, 'entering': 2709, 'enterprise': 2710, 'enterprises': 2711, 'enters': 2712, 'entertain': 2713, 'entertained': 2714, 'entertaining': 2715, 'entertainment': 2716, 'entire': 2717, 'entirely': 2718, 'entitled': 2719, 'entity': 2720, 'entrance': 2721, 'entree': 2722, 'entrees': 2723, 'entrepreneur': 2724, 'entrepreneurship': 2725, 'entries': 2726, 'environment': 2727, 'environmental': 2728, 'environments': 2729, 'episode': 2730, 'episodes': 2731, 'equal': 2732, 'equals': 2733, 'equipment': 2734, 'equipments': 2735, 'equipped': 2736, 'equity': 2737, 'equivalent': 2738, 'erased': 2739, 'erecting': 2740, 'error': 2741, 'errors': 2742, 'escalated': 2743, 'escaping': 2744, 'especially': 2745, 'essential': 2746, 'essentially': 2747, 'establish': 2748, 'established': 2749, 'establishing': 2750, 'establishment': 2751, 'establishments': 2752, 'estate': 2753, 'estimate': 2754, 'estimated': 2755, 'estimates': 2756, 'etc': 2757, 'ethical': 2758, 'etiquette': 2759, 'evacuation': 2760, 'evading': 2761, 'evaluate': 2762, 'evaluated': 2763, 'evaluating': 2764, 'evaluation': 2765, 'evaporator': 2766, 'evasion': 2767, 'even': 2768, 'evening': 2769, 'event': 2770, 'events': 2771, 'eventuality': 2772, 'eventually': 2773, 'ever': 2774, 'every': 2775, 'everyday': 2776, 'everyone': 2777, 'everything': 2778, 'evidence': 2779, 'evidentiary': 2780, 'evil': 2781, 'evolution': 2782, 'evolved': 2783, 'evolving': 2784, 'exact': 2785, 'exactly': 2786, 'exam': 2787, 'examined': 2788, 'example': 2789, 'examples': 2790, 'exams': 2791, 'excavator': 2792, 'excavators': 2793, 'exceeded': 2794, 'exceeds': 2795, 'excellent': 2796, 'except': 2797, 'exceptional': 2798, 'excess': 2799, 'exchange': 2800, 'exchanges': 2801, 'exchanging': 2802, 'excited': 2803, 'exciting': 2804, 'exclude': 2805, 'excluding': 2806, 'exclusive': 2807, 'exclusively': 2808, 'excuse': 2809, 'excused': 2810, 'excuses': 2811, 'execute': 2812, 'executes': 2813, 'execution': 2814, 'executive': 2815, 'executives': 2816, 'executor': 2817, 'exerting': 2818, 'exhausted': 2819, 'exhibit': 2820, 'exhibition': 2821, 'exihibit': 2822, 'exist': 2823, 'existing': 2824, 'exit': 2825, 'exotic': 2826, 'expand': 2827, 'expandable': 2828, 'expanded': 2829, 'expanding': 2830, 'expansion': 2831, 'expat': 2832, 'expect': 2833, 'expectations': 2834, 'expected': 2835, 'expecting': 2836, 'expedition': 2837, 'expenditure': 2838, 'expenditures': 2839, 'expense': 2840, 'expenses': 2841, 'expensive': 2842, 'experience': 2843, 'experienced': 2844, 'experiences': 2845, 'experiencing': 2846, 'experimental': 2847, 'expert': 2848, 'expertise': 2849, 'experts': 2850, 'expire': 2851, 'expires': 2852, 'explain': 2853, 'explained': 2854, 'explaining': 2855, 'explains': 2856, 'explanation': 2857, 'explanations': 2858, 'exploration': 2859, 'explore': 2860, 'expo': 2861, 'export': 2862, 'exported': 2863, 'exporter': 2864, 'exporting': 2865, 'exports': 2866, 'exposes': 2867, 'exposure': 2868, 'express': 2869, 'expressions': 2870, 'exquisite': 2871, 'extend': 2872, 'extended': 2873, 'extender': 2874, 'extenders': 2875, 'extending': 2876, 'extends': 2877, 'extension': 2878, 'extensive': 2879, 'exterior': 2880, 'external': 2881, 'externally': 2882, 'extra': 2883, 'extract': 2884, 'extraction': 2885, 'extracts': 2886, 'extremely': 2887, 'extruder': 2888, 'extruders': 2889, 'eye': 2890, 'eyes': 2891, 'fabric': 2892, 'fabrication': 2893, 'face': 2894, 'faced': 2895, 'faces': 2896, 'facial': 2897, 'facilitate': 2898, 'facilities': 2899, 'facility': 2900, 'facing': 2901, 'fact': 2902, 'factor': 2903, 'factors': 2904, 'factory': 2905, 'factual': 2906, 'factually': 2907, 'faculty': 2908, 'fail': 2909, 'failed': 2910, 'fails': 2911, 'failure': 2912, 'fair': 2913, 'fairly': 2914, 'fall': 2915, 'fallen': 2916, 'falling': 2917, 'fallout': 2918, 'falls': 2919, 'familiar': 2920, 'families': 2921, 'family': 2922, 'famous': 2923, 'fan': 2924, 'fanbase': 2925, 'fancy': 2926, 'fans': 2927, 'fantastic': 2928, 'far': 2929, 'fare': 2930, 'farm': 2931, 'farmers': 2932, 'farthest': 2933, 'fascinating': 2934, 'fashion': 2935, 'fast': 2936, 'fasteners': 2937, 'faster': 2938, 'fastest': 2939, 'fat': 2940, 'father': 2941, 'fault': 2942, 'faulty': 2943, 'favor': 2944, 'favorable': 2945, 'favorite': 2946, 'favorites': 2947, 'favoritism': 2948, 'fax': 2949, 'fear': 2950, 'feasibility': 2951, 'feasible': 2952, 'feature': 2953, 'featured': 2954, 'features': 2955, 'featuring': 2956, 'fee': 2957, 'feeble': 2958, 'feedback': 2959, 'feel': 2960, 'feeling': 2961, 'feelings': 2962, 'feels': 2963, 'fees': 2964, 'feet': 2965, 'fellow': 2966, 'female': 2967, 'fertilizing': 2968, 'fetch': 2969, 'few': 2970, 'fiat': 2971, 'fiber': 2972, 'fibers': 2973, 'fibrous': 2974, 'fiction': 2975, 'field': 2976, 'fields': 2977, 'figurative': 2978, 'figures': 2979, 'file': 2980, 'filed': 2981, 'files': 2982, 'filing': 2983, 'fill': 2984, 'filled': 2985, 'filling': 2986, 'fills': 2987, 'film': 2988, 'films': 2989, 'filter': 2990, 'filtered': 2991, 'filters': 2992, 'filtration': 2993, 'final': 2994, 'finalize': 2995, 'finalized': 2996, 'finalizing': 2997, 'finally': 2998, 'finance': 2999, 'financed': 3000, 'financer': 3001, 'finances': 3002, 'financial': 3003, 'financially': 3004, 'financiers': 3005, 'financing': 3006, 'find': 3007, 'finding': 3008, 'finds': 3009, 'fine': 3010, 'finer': 3011, 'finest': 3012, 'fingerprint': 3013, 'finish': 3014, 'finished': 3015, 'fire': 3016, 'fired': 3017, 'fireplace': 3018, 'firewall': 3019, 'firewalls': 3020, 'firm': 3021, 'firms': 3022, 'first': 3023, 'fish': 3024, 'fit': 3025, 'fitness': 3026, 'fits': 3027, 'five': 3028, 'fiver': 3029, 'fix': 3030, 'fixed': 3031, 'flag': 3032, 'flame': 3033, 'flanged': 3034, 'flare': 3035, 'flash': 3036, 'flat': 3037, 'flatmates': 3038, 'flatten': 3039, 'flavor': 3040, 'flavored': 3041, 'flavorful': 3042, 'flavors': 3043, 'flew': 3044, 'flexibility': 3045, 'flexible': 3046, 'flight': 3047, 'flights': 3048, 'flip': 3049, 'float': 3050, 'floating': 3051, 'floor': 3052, 'floors': 3053, 'flour': 3054, 'flowchart': 3055, 'flows': 3056, 'fluctuate': 3057, 'fluctuations': 3058, 'fly': 3059, 'flying': 3060, 'flywheel': 3061, 'fo': 3062, 'foam': 3063, 'focus': 3064, 'focused': 3065, 'focuses': 3066, 'focusing': 3067, 'fold': 3068, 'folder': 3069, 'folders': 3070, 'follow': 3071, 'followed': 3072, 'followers': 3073, 'following': 3074, 'follows': 3075, 'font': 3076, 'fonts': 3077, 'food': 3078, 'foods': 3079, 'fooled': 3080, 'foot': 3081, 'footage': 3082, 'footprint': 3083, 'footsteps': 3084, 'for': 3085, 'forbidden': 3086, 'forced': 3087, 'forecast': 3088, 'forecasted': 3089, 'foreign': 3090, 'foreigner': 3091, 'foreigners': 3092, 'forever': 3093, 'forget': 3094, 'forgot': 3095, 'forklift': 3096, 'forklifts': 3097, 'form': 3098, 'formal': 3099, 'formalities': 3100, 'format': 3101, 'former': 3102, 'forms': 3103, 'formula': 3104, 'forths': 3105, 'fortunate': 3106, 'forward': 3107, 'forwarded': 3108, 'forwarder': 3109, 'found': 3110, 'foundation': 3111, 'founders': 3112, 'four': 3113, 'frame': 3114, 'frames': 3115, 'framework': 3116, 'franchise': 3117, 'fraud': 3118, 'fraudulent': 3119, 'free': 3120, 'freebie': 3121, 'freelancer': 3122, 'freight': 3123, 'frequency': 3124, 'frequent': 3125, 'frequently': 3126, 'fresh': 3127, 'freshwater': 3128, 'fried': 3129, 'friend': 3130, 'friendly': 3131, 'friends': 3132, 'from': 3133, 'front': 3134, 'frugal': 3135, 'fruit': 3136, 'fruitful': 3137, 'fruity': 3138, 'frustrating': 3139, 'fuel': 3140, 'fulfill': 3141, 'fulfilled': 3142, 'fulfilling': 3143, 'full': 3144, 'fully': 3145, 'fun': 3146, 'function': 3147, 'functional': 3148, 'functioning': 3149, 'functions': 3150, 'fund': 3151, 'fundamental': 3152, 'fundamentals': 3153, 'funded': 3154, 'funding': 3155, 'fundraisers': 3156, 'fundraising': 3157, 'funds': 3158, 'fungible': 3159, 'funny': 3160, 'furnish': 3161, 'furnished': 3162, 'furnishings': 3163, 'furniture': 3164, 'further': 3165, 'fusion': 3166, 'fuss': 3167, 'future': 3168, 'futures': 3169, 'futuristic': 3170, 'g': 3171, 'gadgets': 3172, 'gain': 3173, 'gained': 3174, 'gaining': 3175, 'gains': 3176, 'galbi': 3177, 'game': 3178, 'games': 3179, 'gaming': 3180, 'gap': 3181, 'gaps': 3182, 'garage': 3183, 'garden': 3184, 'gardening': 3185, 'gardens': 3186, 'garlic': 3187, 'garments': 3188, 'garnering': 3189, 'gas': 3190, 'gasoline': 3191, 'gate': 3192, 'gates': 3193, 'gather': 3194, 'gathered': 3195, 'gathering': 3196, 'gathers': 3197, 'gauge': 3198, 'gave': 3199, 'gazebo': 3200, 'gear': 3201, 'geared': 3202, 'gears': 3203, 'general': 3204, 'generally': 3205, 'generate': 3206, 'generated': 3207, 'generating': 3208, 'generation': 3209, 'generations': 3210, 'generic': 3211, 'generous': 3212, 'genre': 3213, 'genres': 3214, 'gentle': 3215, 'gentlemen': 3216, 'genuinely': 3217, 'geographic': 3218, 'geography': 3219, 'gesture': 3220, 'get': 3221, 'gets': 3222, 'getting': 3223, 'gift': 3224, 'gifts': 3225, 'gigabyte': 3226, 'gigabytes': 3227, 'gimbap': 3228, 'ginger': 3229, 'ginseng': 3230, 'girl': 3231, 'girls': 3232, 'give': 3233, 'giveaways': 3234, 'given': 3235, 'gives': 3236, 'giving': 3237, 'glad': 3238, 'gladly': 3239, 'glance': 3240, 'glass': 3241, 'glasses': 3242, 'glitch': 3243, 'global': 3244, 'globally': 3245, 'globe': 3246, 'glossy': 3247, 'gloves': 3248, 'gluten': 3249, 'go': 3250, 'goal': 3251, 'goals': 3252, 'goes': 3253, 'going': 3254, 'gold': 3255, 'golf': 3256, 'gone': 3257, 'gonna': 3258, 'good': 3259, 'goodbye': 3260, 'goods': 3261, 'goodwill': 3262, 'gorgeous': 3263, 'got': 3264, 'gotten': 3265, 'governance': 3266, 'government': 3267, 'grab': 3268, 'grace': 3269, 'grade': 3270, 'gradual': 3271, 'gradually': 3272, 'graduates': 3273, 'grain': 3274, 'grains': 3275, 'grammable': 3276, 'grand': 3277, 'grandkids': 3278, 'grandmother': 3279, 'grant': 3280, 'granted': 3281, 'granting': 3282, 'graph': 3283, 'graphic': 3284, 'graphics': 3285, 'grass': 3286, 'grateful': 3287, 'gravity': 3288, 'gravlax': 3289, 'great': 3290, 'greater': 3291, 'greatly': 3292, 'green': 3293, 'greens': 3294, 'greet': 3295, 'greeting': 3296, 'greetings': 3297, 'grew': 3298, 'grid': 3299, 'grill': 3300, 'grilled': 3301, 'grills': 3302, 'grinder': 3303, 'gripping': 3304, 'groom': 3305, 'ground': 3306, 'groundbreaking': 3307, 'grounds': 3308, 'group': 3309, 'groups': 3310, 'grow': 3311, 'growing': 3312, 'growth': 3313, 'guarantee': 3314, 'guaranteed': 3315, 'guarantor': 3316, 'guess': 3317, 'guest': 3318, 'guesthouses': 3319, 'guests': 3320, 'guidance': 3321, 'guide': 3322, 'guided': 3323, 'guides': 3324, 'guilty': 3325, 'guitar': 3326, 'gun': 3327, 'gunfire': 3328, 'gut': 3329, 'guy': 3330, 'guys': 3331, 'gym': 3332, 'gyms': 3333, 'hack': 3334, 'hacked': 3335, 'hacking': 3336, 'had': 3337, 'hairdryer': 3338, 'half': 3339, 'hall': 3340, 'halls': 3341, 'halting': 3342, 'hand': 3343, 'handed': 3344, 'handheld': 3345, 'handiwork': 3346, 'handle': 3347, 'handled': 3348, 'handles': 3349, 'handling': 3350, 'handouts': 3351, 'handpicked': 3352, 'hands': 3353, 'handshake': 3354, 'hanging': 3355, 'hanji': 3356, 'hanok': 3357, 'happen': 3358, 'happened': 3359, 'happening': 3360, 'happens': 3361, 'happily': 3362, 'happy': 3363, 'hard': 3364, 'harder': 3365, 'hardware': 3366, 'hardworking': 3367, 'harmful': 3368, 'harmony': 3369, 'harshest': 3370, 'harvesting': 3371, 'has': 3372, 'hasn': 3373, 'hassle': 3374, 'hat': 3375, 'hate': 3376, 'have': 3377, 'haven': 3378, 'having': 3379, 'he': 3380, 'head': 3381, 'headhunters': 3382, 'heading': 3383, 'headquarters': 3384, 'heads': 3385, 'health': 3386, 'healthy': 3387, 'hear': 3388, 'heard': 3389, 'hearing': 3390, 'hearsay': 3391, 'heart': 3392, 'heartily': 3393, 'heat': 3394, 'heated': 3395, 'heater': 3396, 'heating': 3397, 'heavier': 3398, 'heavily': 3399, 'heavy': 3400, 'hedge': 3401, 'height': 3402, 'held': 3403, 'hello': 3404, 'help': 3405, 'helped': 3406, 'helpful': 3407, 'helping': 3408, 'helps': 3409, 'hence': 3410, 'her': 3411, 'herbal': 3412, 'here': 3413, 'hereditary': 3414, 'heritage': 3415, 'hesitate': 3416, 'hidden': 3417, 'high': 3418, 'higher': 3419, 'highest': 3420, 'highlighted': 3421, 'highlights': 3422, 'highly': 3423, 'hijacking': 3424, 'hiking': 3425, 'hill': 3426, 'him': 3427, 'hint': 3428, 'hire': 3429, 'hired': 3430, 'hiring': 3431, 'his': 3432, 'historical': 3433, 'historically': 3434, 'hit': 3435, 'hitch': 3436, 'hits': 3437, 'hoarding': 3438, 'hobby': 3439, 'hoc': 3440, 'hold': 3441, 'holder': 3442, 'holding': 3443, 'holds': 3444, 'holidays': 3445, 'home': 3446, 'homemade': 3447, 'homes': 3448, 'homestays': 3449, 'honed': 3450, 'honest': 3451, 'honestly': 3452, 'honey': 3453, 'honored': 3454, 'hope': 3455, 'hoped': 3456, 'hopefully': 3457, 'hoping': 3458, 'horizontal': 3459, 'horrible': 3460, 'horsepower': 3461, 'horsepowers': 3462, 'hospital': 3463, 'hospitalization': 3464, 'hospitals': 3465, 'host': 3466, 'hosting': 3467, 'hosts': 3468, 'hot': 3469, 'hotel': 3470, 'hotels': 3471, 'hotspot': 3472, 'hour': 3473, 'hourly': 3474, 'hours': 3475, 'house': 3476, 'household': 3477, 'households': 3478, 'houses': 3479, 'housing': 3480, 'housings': 3481, 'how': 3482, 'however': 3483, 'hub': 3484, 'huddle': 3485, 'hues': 3486, 'huge': 3487, 'hull': 3488, 'human': 3489, 'humble': 3490, 'humor': 3491, 'hundred': 3492, 'hungry': 3493, 'hunt': 3494, 'hurry': 3495, 'hurt': 3496, 'husband': 3497, 'hustle': 3498, 'hwajeon': 3499, 'hydraulic': 3500, 'hydraulics': 3501, 'hydrojet': 3502, 'hype': 3503, 'ibul': 3504, 'ice': 3505, 'icons': 3506, 'idea': 3507, 'ideal': 3508, 'ideas': 3509, 'identical': 3510, 'identification': 3511, 'identified': 3512, 'identify': 3513, 'identities': 3514, 'identity': 3515, 'idols': 3516, 'if': 3517, 'ignition': 3518, 'ignorance': 3519, 'ignore': 3520, 'ignored': 3521, 'illness': 3522, 'illnesses': 3523, 'illustration': 3524, 'illustrations': 3525, 'image': 3526, 'images': 3527, 'imaginative': 3528, 'imagine': 3529, 'imaging': 3530, 'immediate': 3531, 'immediately': 3532, 'immensely': 3533, 'immigrant': 3534, 'immunity': 3535, 'immutable': 3536, 'impact': 3537, 'impart': 3538, 'impeller': 3539, 'impending': 3540, 'implantation': 3541, 'implement': 3542, 'implementation': 3543, 'implementing': 3544, 'implements': 3545, 'implied': 3546, 'implies': 3547, 'import': 3548, 'importance': 3549, 'important': 3550, 'importantly': 3551, 'imported': 3552, 'imports': 3553, 'imposed': 3554, 'imposes': 3555, 'impossible': 3556, 'impress': 3557, 'impressed': 3558, 'impression': 3559, 'impressions': 3560, 'impressive': 3561, 'improve': 3562, 'improved': 3563, 'improvement': 3564, 'improvements': 3565, 'improving': 3566, 'in': 3567, 'inbox': 3568, 'incentives': 3569, 'inch': 3570, 'incident': 3571, 'include': 3572, 'included': 3573, 'includes': 3574, 'including': 3575, 'inclusion': 3576, 'inclusions': 3577, 'inclusive': 3578, 'income': 3579, 'incompatible': 3580, 'incomplete': 3581, 'inconvenience': 3582, 'inconvenient': 3583, 'incorporate': 3584, 'incorporating': 3585, 'incorporation': 3586, 'incorrect': 3587, 'increase': 3588, 'increased': 3589, 'increasing': 3590, 'incredible': 3591, 'incredibly': 3592, 'incubator': 3593, 'incubators': 3594, 'incur': 3595, 'incurred': 3596, 'incurring': 3597, 'indeed': 3598, 'independently': 3599, 'index': 3600, 'indexation': 3601, 'indicate': 3602, 'indicated': 3603, 'indicating': 3604, 'indicator': 3605, 'indicators': 3606, 'indices': 3607, 'individual': 3608, 'individually': 3609, 'individuals': 3610, 'indoor': 3611, 'indoors': 3612, 'indulge': 3613, 'industrial': 3614, 'industries': 3615, 'industry': 3616, 'inevitable': 3617, 'infections': 3618, 'infectious': 3619, 'inferior': 3620, 'inflation': 3621, 'influence': 3622, 'influenced': 3623, 'influencer': 3624, 'influencers': 3625, 'info': 3626, 'infographic': 3627, 'infographics': 3628, 'inform': 3629, 'informal': 3630, 'information': 3631, 'informed': 3632, 'informing': 3633, 'infrastructure': 3634, 'infringed': 3635, 'infringement': 3636, 'ingredients': 3637, 'inheritance': 3638, 'initial': 3639, 'initially': 3640, 'initiate': 3641, 'initiative': 3642, 'injection': 3643, 'injunction': 3644, 'injury': 3645, 'inner': 3646, 'innovation': 3647, 'innovations': 3648, 'innovative': 3649, 'input': 3650, 'inputs': 3651, 'inquire': 3652, 'inquired': 3653, 'inquiries': 3654, 'inquiring': 3655, 'inquiry': 3656, 'ins': 3657, 'inside': 3658, 'insight': 3659, 'insist': 3660, 'inspect': 3661, 'inspected': 3662, 'inspecting': 3663, 'inspection': 3664, 'inspections': 3665, 'inspire': 3666, 'inspired': 3667, 'install': 3668, 'installation': 3669, 'installed': 3670, 'installing': 3671, 'installment': 3672, 'installments': 3673, 'instance': 3674, 'instant': 3675, 'instead': 3676, 'institute': 3677, 'institution': 3678, 'instruction': 3679, 'instructions': 3680, 'instrument': 3681, 'instruments': 3682, 'insulation': 3683, 'insult': 3684, 'insurance': 3685, 'insurances': 3686, 'insure': 3687, 'insured': 3688, 'insuring': 3689, 'insurmountable': 3690, 'integrated': 3691, 'integration': 3692, 'integrations': 3693, 'intellectual': 3694, 'intelligence': 3695, 'intelligent': 3696, 'intend': 3697, 'intended': 3698, 'intends': 3699, 'intense': 3700, 'intensity': 3701, 'intent': 3702, 'intention': 3703, 'interact': 3704, 'interactions': 3705, 'interactive': 3706, 'intercept': 3707, 'interest': 3708, 'interested': 3709, 'interesting': 3710, 'interface': 3711, 'interior': 3712, 'interiors': 3713, 'intermediaries': 3714, 'intermediary': 3715, 'intern': 3716, 'internal': 3717, 'internally': 3718, 'international': 3719, 'internationally': 3720, 'internet': 3721, 'interns': 3722, 'interpretation': 3723, 'interpreter': 3724, 'interpreting': 3725, 'interrupt': 3726, 'interrupted': 3727, 'interview': 3728, 'interviews': 3729, 'into': 3730, 'intrigue': 3731, 'intriguing': 3732, 'introduce': 3733, 'introduced': 3734, 'introducing': 3735, 'introduction': 3736, 'intrusion': 3737, 'invaluable': 3738, 'inventory': 3739, 'invest': 3740, 'invested': 3741, 'investigate': 3742, 'investigating': 3743, 'investigation': 3744, 'investing': 3745, 'investment': 3746, 'investments': 3747, 'investor': 3748, 'investors': 3749, 'invitation': 3750, 'invite': 3751, 'invited': 3752, 'invites': 3753, 'inviting': 3754, 'invoice': 3755, 'invoices': 3756, 'involve': 3757, 'involved': 3758, 'involves': 3759, 'involving': 3760, 'iron': 3761, 'irregular': 3762, 'is': 3763, 'isn': 3764, 'issuance': 3765, 'issue': 3766, 'issued': 3767, 'issues': 3768, 'issuing': 3769, 'it': 3770, 'item': 3771, 'items': 3772, 'its': 3773, 'itself': 3774, 'jacuzzi': 3775, 'japchae': 3776, 'jeeps': 3777, 'jeon': 3778, 'jet': 3779, 'jingle': 3780, 'job': 3781, 'jobs': 3782, 'join': 3783, 'joining': 3784, 'joint': 3785, 'jokbal': 3786, 'joke': 3787, 'journalists': 3788, 'journey': 3789, 'juice': 3790, 'junction': 3791, 'just': 3792, 'kanji': 3793, 'karaoke': 3794, 'keen': 3795, 'keep': 3796, 'keeping': 3797, 'keeps': 3798, 'kept': 3799, 'key': 3800, 'keyboard': 3801, 'keyboards': 3802, 'keys': 3803, 'keywords': 3804, 'kicks': 3805, 'kids': 3806, 'kilograms': 3807, 'kilometers': 3808, 'kilowatts': 3809, 'kimchi': 3810, 'kind': 3811, 'kindly': 3812, 'kindness': 3813, 'kinds': 3814, 'king': 3815, 'kiosk': 3816, 'kit': 3817, 'kitchen': 3818, 'kitchens': 3819, 'kits': 3820, 'knew': 3821, 'knife': 3822, 'knitting': 3823, 'knocked': 3824, 'know': 3825, 'knowing': 3826, 'knowledge': 3827, 'knowledgeable': 3828, 'known': 3829, 'knows': 3830, 'l': 3831, 'label': 3832, 'labels': 3833, 'labor': 3834, 'laboratories': 3835, 'laboratory': 3836, 'lack': 3837, 'lacking': 3838, 'ladies': 3839, 'lag': 3840, 'laid': 3841, 'lamination': 3842, 'land': 3843, 'landed': 3844, 'landline': 3845, 'landlord': 3846, 'landowner': 3847, 'lands': 3848, 'language': 3849, 'languages': 3850, 'laptop': 3851, 'large': 3852, 'largely': 3853, 'larger': 3854, 'largest': 3855, 'last': 3856, 'lasting': 3857, 'lasts': 3858, 'late': 3859, 'lately': 3860, 'latency': 3861, 'later': 3862, 'latest': 3863, 'launch': 3864, 'launched': 3865, 'launching': 3866, 'laundering': 3867, 'laundry': 3868, 'lavalier': 3869, 'law': 3870, 'laws': 3871, 'lawsuit': 3872, 'lawyer': 3873, 'lawyers': 3874, 'laxative': 3875, 'lay': 3876, 'layers': 3877, 'layout': 3878, 'lazy': 3879, 'lead': 3880, 'leaders': 3881, 'leading': 3882, 'leaf': 3883, 'leaks': 3884, 'leaning': 3885, 'learn': 3886, 'learned': 3887, 'learning': 3888, 'least': 3889, 'leave': 3890, 'leaves': 3891, 'lecture': 3892, 'led': 3893, 'left': 3894, 'legal': 3895, 'legally': 3896, 'legitimate': 3897, 'lenders': 3898, 'length': 3899, 'lengthy': 3900, 'lens': 3901, 'lentil': 3902, 'less': 3903, 'lesser': 3904, 'lessons': 3905, 'let': 3906, 'lets': 3907, 'letter': 3908, 'letters': 3909, 'letting': 3910, 'lettuce': 3911, 'level': 3912, 'levelers': 3913, 'levels': 3914, 'leverage': 3915, 'liabilities': 3916, 'liability': 3917, 'liable': 3918, 'liaison': 3919, 'library': 3920, 'license': 3921, 'licensed': 3922, 'licenses': 3923, 'lie': 3924, 'life': 3925, 'lifeguards': 3926, 'lifelong': 3927, 'lifestyle': 3928, 'lift': 3929, 'light': 3930, 'lightning': 3931, 'lights': 3932, 'lightweight': 3933, 'like': 3934, 'liked': 3935, 'likely': 3936, 'likes': 3937, 'limit': 3938, 'limitations': 3939, 'limited': 3940, 'limits': 3941, 'line': 3942, 'lines': 3943, 'lining': 3944, 'link': 3945, 'linked': 3946, 'links': 3947, 'liquid': 3948, 'liquidating': 3949, 'liquors': 3950, 'list': 3951, 'listed': 3952, 'listen': 3953, 'listener': 3954, 'listeners': 3955, 'listening': 3956, 'listing': 3957, 'listings': 3958, 'lists': 3959, 'literature': 3960, 'little': 3961, 'live': 3962, 'lived': 3963, 'lively': 3964, 'liver': 3965, 'lives': 3966, 'living': 3967, 'll': 3968, 'load': 3969, 'loaded': 3970, 'loader': 3971, 'loaders': 3972, 'loading': 3973, 'loan': 3974, 'loans': 3975, 'lobby': 3976, 'local': 3977, 'locales': 3978, 'locality': 3979, 'localization': 3980, 'localized': 3981, 'locally': 3982, 'locals': 3983, 'located': 3984, 'location': 3985, 'locations': 3986, 'lock': 3987, 'lockdown': 3988, 'lockdowns': 3989, 'lodge': 3990, 'lodging': 3991, 'lodgings': 3992, 'log': 3993, 'logged': 3994, 'logging': 3995, 'login': 3996, 'logistics': 3997, 'logo': 3998, 'logos': 3999, 'logs': 4000, 'long': 4001, 'longer': 4002, 'look': 4003, 'looked': 4004, 'looking': 4005, 'looks': 4006, 'loose': 4007, 'lose': 4008, 'loss': 4009, 'losses': 4010, 'lost': 4011, 'lot': 4012, 'lots': 4013, 'loud': 4014, 'lounge': 4015, 'love': 4016, 'loved': 4017, 'lovely': 4018, 'loving': 4019, 'low': 4020, 'lower': 4021, 'lowered': 4022, 'lowest': 4023, 'loyal': 4024, 'luck': 4025, 'luckily': 4026, 'lucky': 4027, 'lucrative': 4028, 'luggage': 4029, 'lunch': 4030, 'luxurious': 4031, 'luxury': 4032, 'm': 4033, 'ma': 4034, 'machine': 4035, 'machinery': 4036, 'machines': 4037, 'mackerels': 4038, 'macro': 4039, 'madam': 4040, 'made': 4041, 'magazine': 4042, 'magazines': 4043, 'magical': 4044, 'mail': 4045, 'main': 4046, 'mainly': 4047, 'mains': 4048, 'maintain': 4049, 'maintained': 4050, 'maintaining': 4051, 'maintenance': 4052, 'major': 4053, 'majority': 4054, 'make': 4055, 'maker': 4056, 'makers': 4057, 'makes': 4058, 'makeup': 4059, 'makgeolli': 4060, 'making': 4061, 'mall': 4062, 'malware': 4063, 'manage': 4064, 'manageable': 4065, 'managed': 4066, 'management': 4067, 'manager': 4068, 'managers': 4069, 'manages': 4070, 'managing': 4071, 'mandatory': 4072, 'mandu': 4073, 'manned': 4074, 'manner': 4075, 'manners': 4076, 'manual': 4077, 'manually': 4078, 'manufacture': 4079, 'manufactured': 4080, 'manufacturer': 4081, 'manufacturers': 4082, 'manufactures': 4083, 'manufacturing': 4084, 'manuscript': 4085, 'many': 4086, 'marinated': 4087, 'marinates': 4088, 'market': 4089, 'marketer': 4090, 'marketing': 4091, 'markets': 4092, 'married': 4093, 'mascots': 4094, 'mask': 4095, 'mass': 4096, 'massage': 4097, 'massages': 4098, 'masseuse': 4099, 'massive': 4100, 'master': 4101, 'mat': 4102, 'match': 4103, 'material': 4104, 'materialistic': 4105, 'materials': 4106, 'maternity': 4107, 'mathematics': 4108, 'mats': 4109, 'matte': 4110, 'matter': 4111, 'matters': 4112, 'mattress': 4113, 'maturing': 4114, 'maximize': 4115, 'maximum': 4116, 'may': 4117, 'maybe': 4118, 'me': 4119, 'meal': 4120, 'meals': 4121, 'mean': 4122, 'meaning': 4123, 'meaningful': 4124, 'meaningless': 4125, 'means': 4126, 'meant': 4127, 'meantime': 4128, 'measure': 4129, 'measures': 4130, 'measuring': 4131, 'meat': 4132, 'mechanic': 4133, 'mechanical': 4134, 'mechanism': 4135, 'media': 4136, 'mediator': 4137, 'medical': 4138, 'medicine': 4139, 'meditation': 4140, 'medium': 4141, 'meet': 4142, 'meeting': 4143, 'meetings': 4144, 'megabits': 4145, 'megabytes': 4146, 'megapixel': 4147, 'megapixels': 4148, 'melon': 4149, 'melt': 4150, 'member': 4151, 'members': 4152, 'membership': 4153, 'memorandum': 4154, 'memories': 4155, 'memory': 4156, 'men': 4157, 'mending': 4158, 'mental': 4159, 'mention': 4160, 'mentioned': 4161, 'mentioning': 4162, 'menu': 4163, 'menus': 4164, 'merch': 4165, 'merchant': 4166, 'merged': 4167, 'message': 4168, 'messages': 4169, 'messaging': 4170, 'messy': 4171, 'met': 4172, 'meta': 4173, 'metal': 4174, 'metallurgical': 4175, 'metals': 4176, 'meters': 4177, 'method': 4178, 'methods': 4179, 'meticulously': 4180, 'microlenders': 4181, 'microphone': 4182, 'microphones': 4183, 'microscopes': 4184, 'microwave': 4185, 'middle': 4186, 'midst': 4187, 'might': 4188, 'mild': 4189, 'milestone': 4190, 'milk': 4191, 'millennials': 4192, 'millimeters': 4193, 'million': 4194, 'millions': 4195, 'mind': 4196, 'minded': 4197, 'mine': 4198, 'miner': 4199, 'mini': 4200, 'minibar': 4201, 'minimal': 4202, 'minimalism': 4203, 'minimum': 4204, 'ministry': 4205, 'minor': 4206, 'minute': 4207, 'minuted': 4208, 'minutes': 4209, 'miscarriage': 4210, 'miscommunication': 4211, 'mishap': 4212, 'mismanagement': 4213, 'mismatch': 4214, 'misplaced': 4215, 'miss': 4216, 'missed': 4217, 'missiles': 4218, 'missing': 4219, 'mission': 4220, 'mistake': 4221, 'mistakenly': 4222, 'mistakes': 4223, 'misunderstanding': 4224, 'misuse': 4225, 'misuses': 4226, 'mitigate': 4227, 'mix': 4228, 'mixer': 4229, 'mixing': 4230, 'mm': 4231, 'mmHg': 4232, 'mobile': 4233, 'mobiles': 4234, 'mock': 4235, 'mocks': 4236, 'modality': 4237, 'mode': 4238, 'model': 4239, 'models': 4240, 'modem': 4241, 'modems': 4242, 'moderately': 4243, 'modern': 4244, 'modes': 4245, 'modifications': 4246, 'modified': 4247, 'modify': 4248, 'modifying': 4249, 'modular': 4250, 'module': 4251, 'mold': 4252, 'molding': 4253, 'moldings': 4254, 'moment': 4255, 'momentary': 4256, 'moments': 4257, 'monastery': 4258, 'monastic': 4259, 'monetary': 4260, 'monetizing': 4261, 'money': 4262, 'monitor': 4263, 'monitoring': 4264, 'monitors': 4265, 'monk': 4266, 'monks': 4267, 'monsoon': 4268, 'month': 4269, 'monthly': 4270, 'months': 4271, 'mood': 4272, 'more': 4273, 'morning': 4274, 'mortar': 4275, 'mortgage': 4276, 'mosquitos': 4277, 'most': 4278, 'mostly': 4279, 'motels': 4280, 'mother': 4281, 'motif': 4282, 'motions': 4283, 'motivate': 4284, 'motivation': 4285, 'motor': 4286, 'motorboats': 4287, 'motors': 4288, 'mountain': 4289, 'mountains': 4290, 'mouse': 4291, 'mouses': 4292, 'mouth': 4293, 'move': 4294, 'moved': 4295, 'movement': 4296, 'movers': 4297, 'movie': 4298, 'movies': 4299, 'moving': 4300, 'much': 4301, 'mud': 4302, 'mukbang': 4303, 'multi': 4304, 'multidisciplinary': 4305, 'multinational': 4306, 'multiplatform': 4307, 'multiple': 4308, 'multiplying': 4309, 'multipurpose': 4310, 'museum': 4311, 'music': 4312, 'musical': 4313, 'musky': 4314, 'must': 4315, 'mutual': 4316, 'my': 4317, 'myself': 4318, 'mysterious': 4319, 'naira': 4320, 'name': 4321, 'names': 4322, 'napkin': 4323, 'napping': 4324, 'narratives': 4325, 'narrow': 4326, 'nation': 4327, 'national': 4328, 'nationals': 4329, 'nations': 4330, 'native': 4331, 'natural': 4332, 'nature': 4333, 'navigation': 4334, 'near': 4335, 'nearby': 4336, 'nearest': 4337, 'neat': 4338, 'nebulizers': 4339, 'necessary': 4340, 'need': 4341, 'needed': 4342, 'needing': 4343, 'needs': 4344, 'negative': 4345, 'negatively': 4346, 'neglect': 4347, 'negotiable': 4348, 'negotiate': 4349, 'neighbors': 4350, 'neotraditional': 4351, 'nephew': 4352, 'nervous': 4353, 'net': 4354, 'network': 4355, 'networking': 4356, 'networks': 4357, 'never': 4358, 'new': 4359, 'newbie': 4360, 'newborn': 4361, 'newest': 4362, 'newly': 4363, 'news': 4364, 'newsletters': 4365, 'newspaper': 4366, 'next': 4367, 'nice': 4368, 'niche': 4369, 'night': 4370, 'nightclub': 4371, 'nights': 4372, 'nighttime': 4373, 'nine': 4374, 'ninety': 4375, 'no': 4376, 'noble': 4377, 'nobody': 4378, 'nodular': 4379, 'non': 4380, 'nondelivery': 4381, 'none': 4382, 'nonfiction': 4383, 'nonfungible': 4384, 'nonpayments': 4385, 'nonprofits': 4386, 'nonsense': 4387, 'nonspicy': 4388, 'noodle': 4389, 'noodles': 4390, 'noon': 4391, 'norm': 4392, 'normal': 4393, 'normally': 4394, 'northern': 4395, 'nose': 4396, 'nostalgia': 4397, 'not': 4398, 'notch': 4399, 'note': 4400, 'notebook': 4401, 'noted': 4402, 'notes': 4403, 'nothing': 4404, 'notice': 4405, 'noticed': 4406, 'notices': 4407, 'notification': 4408, 'notified': 4409, 'notify': 4410, 'notifying': 4411, 'novel': 4412, 'novels': 4413, 'now': 4414, 'nowadays': 4415, 'number': 4416, 'numbers': 4417, 'numerous': 4418, 'nurse': 4419, 'nutritional': 4420, 'nutty': 4421, 'nylon': 4422, 'o': 4423, 'object': 4424, 'objection': 4425, 'objections': 4426, 'objective': 4427, 'obligation': 4428, 'obligations': 4429, 'oblige': 4430, 'observations': 4431, 'observing': 4432, 'obstacles': 4433, 'obtain': 4434, 'obtaining': 4435, 'obviously': 4436, 'occasion': 4437, 'occupation': 4438, 'occupied': 4439, 'occupy': 4440, 'occur': 4441, 'occurrence': 4442, 'occurs': 4443, 'ocean': 4444, 'of': 4445, 'off': 4446, 'offend': 4447, 'offer': 4448, 'offered': 4449, 'offering': 4450, 'offerings': 4451, 'offers': 4452, 'office': 4453, 'officer': 4454, 'officers': 4455, 'offices': 4456, 'official': 4457, 'officially': 4458, 'offline': 4459, 'offshore': 4460, 'often': 4461, 'oh': 4462, 'oil': 4463, 'oils': 4464, 'okay': 4465, 'old': 4466, 'older': 4467, 'oldest': 4468, 'on': 4469, 'once': 4470, 'ondol': 4471, 'one': 4472, 'ones': 4473, 'ongoing': 4474, 'onions': 4475, 'online': 4476, 'only': 4477, 'onto': 4478, 'onwards': 4479, 'open': 4480, 'opened': 4481, 'opening': 4482, 'openly': 4483, 'opens': 4484, 'operate': 4485, 'operated': 4486, 'operating': 4487, 'operation': 4488, 'operational': 4489, 'operations': 4490, 'operative': 4491, 'operator': 4492, 'operators': 4493, 'opinion': 4494, 'opinions': 4495, 'opportunities': 4496, 'opportunity': 4497, 'opt': 4498, 'optimal': 4499, 'optimization': 4500, 'optimize': 4501, 'optimized': 4502, 'optimizer': 4503, 'option': 4504, 'optional': 4505, 'options': 4506, 'optometry': 4507, 'or': 4508, 'orange': 4509, 'order': 4510, 'ordered': 4511, 'ordering': 4512, 'orderly': 4513, 'orders': 4514, 'ordinary': 4515, 'ore': 4516, 'organic': 4517, 'organization': 4518, 'organizational': 4519, 'organizations': 4520, 'organize': 4521, 'organizing': 4522, 'orientation': 4523, 'oriented': 4524, 'original': 4525, 'originally': 4526, 'origins': 4527, 'other': 4528, 'others': 4529, 'ought': 4530, 'ounce': 4531, 'our': 4532, 'ours': 4533, 'ourselves': 4534, 'out': 4535, 'outbreak': 4536, 'outcome': 4537, 'outdated': 4538, 'outdoor': 4539, 'outdoors': 4540, 'outgoing': 4541, 'outings': 4542, 'outlets': 4543, 'outnumber': 4544, 'output': 4545, 'outputs': 4546, 'outreach': 4547, 'outright': 4548, 'outside': 4549, 'outsiders': 4550, 'outsmart': 4551, 'outsource': 4552, 'outstanding': 4553, 'oven': 4554, 'ovens': 4555, 'over': 4556, 'overall': 4557, 'overcharge': 4558, 'overcharged': 4559, 'overdue': 4560, 'overflow': 4561, 'overhang': 4562, 'overheads': 4563, 'overlook': 4564, 'overlooked': 4565, 'overnight': 4566, 'overpriced': 4567, 'overseas': 4568, 'oversees': 4569, 'overstated': 4570, 'overview': 4571, 'overwhelmed': 4572, 'owe': 4573, 'owing': 4574, 'own': 4575, 'owner': 4576, 'owners': 4577, 'ownership': 4578, 'owning': 4579, 'oxblood': 4580, 'p': 4581, 'pace': 4582, 'pacemaker': 4583, 'pack': 4584, 'package': 4585, 'packaged': 4586, 'packages': 4587, 'packaging': 4588, 'packed': 4589, 'packers': 4590, 'packing': 4591, 'packs': 4592, 'page': 4593, 'pages': 4594, 'pagodas': 4595, 'paid': 4596, 'pains': 4597, 'painted': 4598, 'painter': 4599, 'painters': 4600, 'painting': 4601, 'paintings': 4602, 'pair': 4603, 'pairs': 4604, 'pajamas': 4605, 'palaces': 4606, 'palate': 4607, 'palates': 4608, 'palette': 4609, 'palettes': 4610, 'palm': 4611, 'pals': 4612, 'pamphlet': 4613, 'pan': 4614, 'pancakes': 4615, 'pandemic': 4616, 'panel': 4617, 'panels': 4618, 'pans': 4619, 'pantry': 4620, 'papaya': 4621, 'paper': 4622, 'papers': 4623, 'paperwork': 4624, 'par': 4625, 'parcel': 4626, 'parents': 4627, 'park': 4628, 'parking': 4629, 'part': 4630, 'partake': 4631, 'partial': 4632, 'partially': 4633, 'participant': 4634, 'participants': 4635, 'participate': 4636, 'participating': 4637, 'particular': 4638, 'particularly': 4639, 'parties': 4640, 'partner': 4641, 'partnering': 4642, 'partners': 4643, 'partnership': 4644, 'parts': 4645, 'party': 4646, 'pass': 4647, 'passed': 4648, 'passing': 4649, 'passion': 4650, 'passive': 4651, 'passport': 4652, 'passports': 4653, 'password': 4654, 'past': 4655, 'pasta': 4656, 'paste': 4657, 'patch': 4658, 'patches': 4659, 'patent': 4660, 'patents': 4661, 'path': 4662, 'patience': 4663, 'patient': 4664, 'patients': 4665, 'patronage': 4666, 'patronize': 4667, 'patrons': 4668, 'pattern': 4669, 'patterns': 4670, 'paving': 4671, 'pay': 4672, 'payable': 4673, 'paying': 4674, 'payment': 4675, 'payments': 4676, 'payroll': 4677, 'pays': 4678, 'payslip': 4679, 'pdf': 4680, 'peace': 4681, 'peak': 4682, 'pencil': 4683, 'pending': 4684, 'pension': 4685, 'people': 4686, 'per': 4687, 'percent': 4688, 'percentage': 4689, 'perfect': 4690, 'perform': 4691, 'performance': 4692, 'performed': 4693, 'performing': 4694, 'perhaps': 4695, 'perilla': 4696, 'period': 4697, 'permanent': 4698, 'permanently': 4699, 'permission': 4700, 'permit': 4701, 'permitted': 4702, 'persistent': 4703, 'person': 4704, 'personal': 4705, 'personality': 4706, 'personalized': 4707, 'personally': 4708, 'personnel': 4709, 'persons': 4710, 'persuade': 4711, 'pertinent': 4712, 'perusal': 4713, 'pesky': 4714, 'pet': 4715, 'petition': 4716, 'petrol': 4717, 'pets': 4718, 'phase': 4719, 'phases': 4720, 'phenomena': 4721, 'philosophy': 4722, 'phone': 4723, 'phones': 4724, 'phoning': 4725, 'photo': 4726, 'photobooks': 4727, 'photocopier': 4728, 'photographer': 4729, 'photographers': 4730, 'photographs': 4731, 'photography': 4732, 'photos': 4733, 'physical': 4734, 'physically': 4735, 'piano': 4736, 'pick': 4737, 'picked': 4738, 'picking': 4739, 'picture': 4740, 'pictures': 4741, 'pie': 4742, 'piece': 4743, 'pieces': 4744, 'pier': 4745, 'piling': 4746, 'pillars': 4747, 'pills': 4748, 'pin': 4749, 'pink': 4750, 'pioneers': 4751, 'pipe': 4752, 'pipeline': 4753, 'pipelines': 4754, 'pipes': 4755, 'piqued': 4756, 'piques': 4757, 'piston': 4758, 'pitch': 4759, 'pitching': 4760, 'pity': 4761, 'pixels': 4762, 'place': 4763, 'placed': 4764, 'placement': 4765, 'placements': 4766, 'places': 4767, 'placing': 4768, 'plagiarized': 4769, 'plain': 4770, 'plan': 4771, 'plane': 4772, 'planned': 4773, 'planning': 4774, 'plans': 4775, 'plant': 4776, 'planting': 4777, 'plants': 4778, 'plastic': 4779, 'plastics': 4780, 'plate': 4781, 'plates': 4782, 'platform': 4783, 'platforms': 4784, 'platinum': 4785, 'platters': 4786, 'play': 4787, 'played': 4788, 'player': 4789, 'players': 4790, 'playground': 4791, 'playing': 4792, 'plays': 4793, 'plaza': 4794, 'pleasant': 4795, 'please': 4796, 'pleased': 4797, 'pleasure': 4798, 'plotter': 4799, 'plowing': 4800, 'plug': 4801, 'plugins': 4802, 'plus': 4803, 'pm': 4804, 'pneumatic': 4805, 'pocket': 4806, 'pockets': 4807, 'podcast': 4808, 'podcasts': 4809, 'point': 4810, 'pointing': 4811, 'points': 4812, 'policies': 4813, 'policy': 4814, 'policyholders': 4815, 'policymakers': 4816, 'polite': 4817, 'political': 4818, 'politicians': 4819, 'polystyrene': 4820, 'polyurethane': 4821, 'pool': 4822, 'pools': 4823, 'poor': 4824, 'pop': 4825, 'popular': 4826, 'popularity': 4827, 'population': 4828, 'poring': 4829, 'pork': 4830, 'porridge': 4831, 'port': 4832, 'portal': 4833, 'portals': 4834, 'portfolio': 4835, 'portfolios': 4836, 'portion': 4837, 'portraits': 4838, 'ports': 4839, 'posh': 4840, 'position': 4841, 'positioning': 4842, 'positions': 4843, 'positive': 4844, 'positives': 4845, 'possess': 4846, 'possibility': 4847, 'possible': 4848, 'possibly': 4849, 'post': 4850, 'postal': 4851, 'posted': 4852, 'poster': 4853, 'posters': 4854, 'posting': 4855, 'postings': 4856, 'postpaid': 4857, 'posts': 4858, 'potato': 4859, 'potential': 4860, 'pots': 4861, 'power': 4862, 'powered': 4863, 'practically': 4864, 'practice': 4865, 'practices': 4866, 'praised': 4867, 'praises': 4868, 'pray': 4869, 'prays': 4870, 'precise': 4871, 'precisely': 4872, 'precision': 4873, 'predict': 4874, 'predictable': 4875, 'prediction': 4876, 'prefer': 4877, 'preferably': 4878, 'preference': 4879, 'preferences': 4880, 'preferred': 4881, 'premises': 4882, 'premium': 4883, 'premiums': 4884, 'preoccupied': 4885, 'preorder': 4886, 'preparation': 4887, 'prepare': 4888, 'prepared': 4889, 'preparedness': 4890, 'preparing': 4891, 'prescription': 4892, 'prescriptions': 4893, 'presence': 4894, 'present': 4895, 'presentation': 4896, 'presented': 4897, 'presenting': 4898, 'presents': 4899, 'preservation': 4900, 'preserve': 4901, 'president': 4902, 'press': 4903, 'pressed': 4904, 'pressing': 4905, 'pressure': 4906, 'pretty': 4907, 'prevent': 4908, 'prevented': 4909, 'prevention': 4910, 'preview': 4911, 'previous': 4912, 'previously': 4913, 'price': 4914, 'priced': 4915, 'priceless': 4916, 'prices': 4917, 'pricing': 4918, 'priest': 4919, 'primarily': 4920, 'primary': 4921, 'prime': 4922, 'principal': 4923, 'principle': 4924, 'print': 4925, 'printed': 4926, 'printers': 4927, 'printing': 4928, 'prints': 4929, 'prior': 4930, 'prioritize': 4931, 'prioritized': 4932, 'priority': 4933, 'privacy': 4934, 'private': 4935, 'privilege': 4936, 'prize': 4937, 'prized': 4938, 'probably': 4939, 'problem': 4940, 'problematic': 4941, 'problems': 4942, 'procedure': 4943, 'procedures': 4944, 'proceed': 4945, 'proceedings': 4946, 'proceeds': 4947, 'process': 4948, 'processed': 4949, 'processes': 4950, 'processing': 4951, 'processor': 4952, 'processors': 4953, 'procurement': 4954, 'produce': 4955, 'produced': 4956, 'producer': 4957, 'produces': 4958, 'producing': 4959, 'product': 4960, 'production': 4961, 'productions': 4962, 'productivity': 4963, 'products': 4964, 'profession': 4965, 'professional': 4966, 'professionally': 4967, 'professionals': 4968, 'professions': 4969, 'professor': 4970, 'professors': 4971, 'proficiency': 4972, 'profile': 4973, 'profit': 4974, 'profitability': 4975, 'profitable': 4976, 'profits': 4977, 'program': 4978, 'programmed': 4979, 'programmer': 4980, 'programmers': 4981, 'programming': 4982, 'programs': 4983, 'progress': 4984, 'progressing': 4985, 'project': 4986, 'projections': 4987, 'projector': 4988, 'projectors': 4989, 'projects': 4990, 'prominent': 4991, 'prominently': 4992, 'promise': 4993, 'promised': 4994, 'promises': 4995, 'promising': 4996, 'promo': 4997, 'promos': 4998, 'promote': 4999, 'promoting': 5000, 'promotion': 5001, 'promotional': 5002, 'promotions': 5003, 'prompt': 5004, 'promptly': 5005, 'prompts': 5006, 'proof': 5007, 'proofs': 5008, 'propelled': 5009, 'proper': 5010, 'properly': 5011, 'properties': 5012, 'property': 5013, 'proportion': 5014, 'proposal': 5015, 'proposals': 5016, 'propose': 5017, 'proposed': 5018, 'proposing': 5019, 'proposition': 5020, 'pros': 5021, 'prospective': 5022, 'prosperous': 5023, 'prosthetics': 5024, 'prostrations': 5025, 'protect': 5026, 'protected': 5027, 'protection': 5028, 'protectionism': 5029, 'protections': 5030, 'protective': 5031, 'protects': 5032, 'protein': 5033, 'protocol': 5034, 'protocols': 5035, 'prototype': 5036, 'proud': 5037, 'prove': 5038, 'proven': 5039, 'provide': 5040, 'provided': 5041, 'provider': 5042, 'providers': 5043, 'provides': 5044, 'providing': 5045, 'province': 5046, 'proximity': 5047, 'pub': 5048, 'public': 5049, 'publication': 5050, 'publications': 5051, 'publicly': 5052, 'publish': 5053, 'published': 5054, 'publishers': 5055, 'publishing': 5056, 'pull': 5057, 'pulse': 5058, 'pump': 5059, 'pumps': 5060, 'punctual': 5061, 'purchase': 5062, 'purchased': 5063, 'purchases': 5064, 'purchasing': 5065, 'purely': 5066, 'purified': 5067, 'purifiers': 5068, 'purify': 5069, 'purpose': 5070, 'purposes': 5071, 'pursue': 5072, 'push': 5073, 'pushed': 5074, 'put': 5075, 'puts': 5076, 'putting': 5077, 'quadrupled': 5078, 'qualified': 5079, 'qualify': 5080, 'qualities': 5081, 'quality': 5082, 'quantities': 5083, 'quantity': 5084, 'quarter': 5085, 'quarterly': 5086, 'queries': 5087, 'query': 5088, 'question': 5089, 'questionnaire': 5090, 'questions': 5091, 'queue': 5092, 'quick': 5093, 'quickly': 5094, 'quilt': 5095, 'quite': 5096, 'quotation': 5097, 'quotations': 5098, 'quote': 5099, 'radio': 5100, 'radioactive': 5101, 'railway': 5102, 'rain': 5103, 'raise': 5104, 'raising': 5105, 'rally': 5106, 'rambling': 5107, 'ramen': 5108, 'ran': 5109, 'random': 5110, 'randomly': 5111, 'rang': 5112, 'range': 5113, 'ranger': 5114, 'ranges': 5115, 'ranging': 5116, 'rank': 5117, 'ranked': 5118, 'ranking': 5119, 'ranks': 5120, 'rapidly': 5121, 'rapport': 5122, 'rare': 5123, 'rate': 5124, 'rates': 5125, 'rather': 5126, 'rating': 5127, 'ratings': 5128, 'ratio': 5129, 'rational': 5130, 'raw': 5131, 'ray': 5132, 'rd': 5133, 're': 5134, 'reach': 5135, 'reached': 5136, 'reaches': 5137, 'reaching': 5138, 'react': 5139, 'reaction': 5140, 'read': 5141, 'readers': 5142, 'reading': 5143, 'reads': 5144, 'ready': 5145, 'real': 5146, 'realistic': 5147, 'reality': 5148, 'realize': 5149, 'really': 5150, 'realtor': 5151, 'reap': 5152, 'rear': 5153, 'reason': 5154, 'reasonable': 5155, 'reasons': 5156, 'reassuring': 5157, 'rebook': 5158, 'recall': 5159, 'receipt': 5160, 'receipts': 5161, 'receivable': 5162, 'receive': 5163, 'received': 5164, 'receiver': 5165, 'receiving': 5166, 'recent': 5167, 'recently': 5168, 'reception': 5169, 'receptionist': 5170, 'recharge': 5171, 'recharging': 5172, 'recipe': 5173, 'recipes': 5174, 'recipients': 5175, 'recognize': 5176, 'recognized': 5177, 'recommend': 5178, 'recommendation': 5179, 'recommendations': 5180, 'recommended': 5181, 'recommending': 5182, 'reconfirm': 5183, 'reconsider': 5184, 'record': 5185, 'recorded': 5186, 'recording': 5187, 'recordings': 5188, 'records': 5189, 'recover': 5190, 'recovery': 5191, 'recreation': 5192, 'rectified': 5193, 'recuperate': 5194, 'red': 5195, 'redemption': 5196, 'redirect': 5197, 'redownloaded': 5198, 'redrafting': 5199, 'reduce': 5200, 'reduced': 5201, 'reduces': 5202, 'reducing': 5203, 'reefer': 5204, 'reefers': 5205, 'reels': 5206, 'refer': 5207, 'reference': 5208, 'referred': 5209, 'referring': 5210, 'refers': 5211, 'refine': 5212, 'reflected': 5213, 'refrain': 5214, 'refresher': 5215, 'refund': 5216, 'refunded': 5217, 'refunds': 5218, 'refuse': 5219, 'refuses': 5220, 'regard': 5221, 'regarded': 5222, 'regarding': 5223, 'regardless': 5224, 'regards': 5225, 'region': 5226, 'regional': 5227, 'register': 5228, 'registered': 5229, 'registration': 5230, 'registry': 5231, 'regret': 5232, 'regretting': 5233, 'regular': 5234, 'regularly': 5235, 'regulated': 5236, 'regulations': 5237, 'regulatory': 5238, 'rehearsal': 5239, 'reheated': 5240, 'reimbursed': 5241, 'reimbursement': 5242, 'reimbursing': 5243, 'reinstalled': 5244, 'reject': 5245, 'rejected': 5246, 'relatable': 5247, 'relate': 5248, 'related': 5249, 'relations': 5250, 'relationship': 5251, 'relationships': 5252, 'relative': 5253, 'relatively': 5254, 'relatives': 5255, 'relax': 5256, 'relaxation': 5257, 'relaxing': 5258, 'relay': 5259, 'release': 5260, 'released': 5261, 'releases': 5262, 'releasing': 5263, 'relentlessly': 5264, 'relevant': 5265, 'reliable': 5266, 'relief': 5267, 'relies': 5268, 'relieved': 5269, 'religious': 5270, 'relocate': 5271, 'rely': 5272, 'remain': 5273, 'remaining': 5274, 'remains': 5275, 'remarks': 5276, 'remember': 5277, 'remembered': 5278, 'remind': 5279, 'reminder': 5280, 'reminders': 5281, 'reminding': 5282, 'reminds': 5283, 'reminisce': 5284, 'remittance': 5285, 'remote': 5286, 'remotely': 5287, 'removable': 5288, 'remove': 5289, 'removers': 5290, 'removing': 5291, 'render': 5292, 'rendered': 5293, 'renders': 5294, 'renege': 5295, 'renew': 5296, 'renewable': 5297, 'renewal': 5298, 'renewed': 5299, 'renewing': 5300, 'renovate': 5301, 'renovated': 5302, 'renovation': 5303, 'renowned': 5304, 'rent': 5305, 'rental': 5306, 'rentals': 5307, 'rented': 5308, 'renting': 5309, 'reorder': 5310, 'repair': 5311, 'repay': 5312, 'repayment': 5313, 'repeat': 5314, 'replace': 5315, 'replaced': 5316, 'replacement': 5317, 'replacements': 5318, 'replacing': 5319, 'reply': 5320, 'report': 5321, 'reported': 5322, 'reports': 5323, 'representative': 5324, 'representing': 5325, 'represents': 5326, 'reputable': 5327, 'reputation': 5328, 'reputed': 5329, 'request': 5330, 'requested': 5331, 'requesting': 5332, 'requests': 5333, 'require': 5334, 'required': 5335, 'requirement': 5336, 'requirements': 5337, 'requires': 5338, 'rescheduled': 5339, 'rescission': 5340, 'research': 5341, 'researched': 5342, 'researching': 5343, 'resellers': 5344, 'resending': 5345, 'reservation': 5346, 'reservations': 5347, 'reserve': 5348, 'reserved': 5349, 'reserving': 5350, 'reset': 5351, 'reside': 5352, 'residence': 5353, 'resident': 5354, 'residents': 5355, 'residing': 5356, 'resistant': 5357, 'resistors': 5358, 'resolve': 5359, 'resolved': 5360, 'resolving': 5361, 'resort': 5362, 'resorting': 5363, 'resorts': 5364, 'resource': 5365, 'resources': 5366, 'respect': 5367, 'respected': 5368, 'respective': 5369, 'respectively': 5370, 'respects': 5371, 'respond': 5372, 'responding': 5373, 'response': 5374, 'responsibility': 5375, 'responsible': 5376, 'responsive': 5377, 'rest': 5378, 'restart': 5379, 'restaurant': 5380, 'restaurants': 5381, 'restocked': 5382, 'restore': 5383, 'restoring': 5384, 'restricted': 5385, 'restriction': 5386, 'restrictions': 5387, 'restroom': 5388, 'restrooms': 5389, 'result': 5390, 'resulted': 5391, 'results': 5392, 'resume': 5393, 'resumes': 5394, 'retail': 5395, 'retailer': 5396, 'retails': 5397, 'retain': 5398, 'retains': 5399, 'retirement': 5400, 'retract': 5401, 'retreat': 5402, 'retreats': 5403, 'retrieve': 5404, 'return': 5405, 'returned': 5406, 'returning': 5407, 'returns': 5408, 'reuploading': 5409, 'reusable': 5410, 'revamp': 5411, 'revealing': 5412, 'revenue': 5413, 'revenues': 5414, 'revert': 5415, 'review': 5416, 'reviewed': 5417, 'reviewers': 5418, 'reviewing': 5419, 'revise': 5420, 'revised': 5421, 'revision': 5422, 'revisions': 5423, 'revoke': 5424, 'revolving': 5425, 'reward': 5426, 'rewarding': 5427, 'rewards': 5428, 'rib': 5429, 'ribs': 5430, 'rice': 5431, 'rich': 5432, 'rid': 5433, 'ride': 5434, 'rides': 5435, 'right': 5436, 'rights': 5437, 'rigid': 5438, 'rim': 5439, 'ring': 5440, 'rise': 5441, 'risen': 5442, 'risk': 5443, 'risking': 5444, 'risks': 5445, 'risky': 5446, 'ritual': 5447, 'road': 5448, 'roadblock': 5449, 'roadmap': 5450, 'roasted': 5451, 'robot': 5452, 'rock': 5453, 'rocky': 5454, 'role': 5455, 'roleplaying': 5456, 'roles': 5457, 'roll': 5458, 'roller': 5459, 'rolls': 5460, 'roof': 5461, 'roofing': 5462, 'rooftop': 5463, 'room': 5464, 'roommate': 5465, 'rooms': 5466, 'root': 5467, 'roots': 5468, 'ropes': 5469, 'rotary': 5470, 'rough': 5471, 'round': 5472, 'rounds': 5473, 'router': 5474, 'routine': 5475, 'royalty': 5476, 'rude': 5477, 'ruin': 5478, 'ruined': 5479, 'rules': 5480, 'rumor': 5481, 'run': 5482, 'running': 5483, 'runs': 5484, 'rural': 5485, 'rush': 5486, 'rushing': 5487, 's': 5488, 'sacrificing': 5489, 'sad': 5490, 'safe': 5491, 'safeguard': 5492, 'safely': 5493, 'safer': 5494, 'safety': 5495, 'said': 5496, 'sake': 5497, 'salad': 5498, 'salary': 5499, 'sale': 5500, 'sales': 5501, 'salesmen': 5502, 'salt': 5503, 'saltwater': 5504, 'same': 5505, 'samgyeopsal': 5506, 'samgyupsal': 5507, 'sample': 5508, 'sampler': 5509, 'samples': 5510, 'sampling': 5511, 'sanctioning': 5512, 'sandwich': 5513, 'sandwiches': 5514, 'sanitary': 5515, 'satellite': 5516, 'satin': 5517, 'satisfied': 5518, 'satisfy': 5519, 'sauce': 5520, 'sauna': 5521, 'sausage': 5522, 'save': 5523, 'saved': 5524, 'saver': 5525, 'saves': 5526, 'saving': 5527, 'savings': 5528, 'savory': 5529, 'savvy': 5530, 'saw': 5531, 'say': 5532, 'saying': 5533, 'says': 5534, 'scaffolding': 5535, 'scale': 5536, 'scammed': 5537, 'scan': 5538, 'scanner': 5539, 'scanners': 5540, 'scanning': 5541, 'scarcity': 5542, 'scared': 5543, 'scavenger': 5544, 'scenario': 5545, 'scenarios': 5546, 'scenic': 5547, 'scent': 5548, 'schedule': 5549, 'scheduled': 5550, 'scheduler': 5551, 'schedules': 5552, 'scheme': 5553, 'scholar': 5554, 'scholarships': 5555, 'school': 5556, 'schooling': 5557, 'science': 5558, 'sciences': 5559, 'scientific': 5560, 'scientists': 5561, 'scooters': 5562, 'score': 5563, 'scores': 5564, 'scratch': 5565, 'screen': 5566, 'screening': 5567, 'screenplay': 5568, 'screens': 5569, 'screenshot': 5570, 'screenshots': 5571, 'screw': 5572, 'screws': 5573, 'script': 5574, 'scrub': 5575, 'sculptors': 5576, 'sea': 5577, 'seal': 5578, 'search': 5579, 'searching': 5580, 'seared': 5581, 'season': 5582, 'seasons': 5583, 'seat': 5584, 'seats': 5585, 'seaweed': 5586, 'seaworthiness': 5587, 'second': 5588, 'secondary': 5589, 'secondhand': 5590, 'seconds': 5591, 'secret': 5592, 'secretary': 5593, 'section': 5594, 'sector': 5595, 'secure': 5596, 'secured': 5597, 'secures': 5598, 'securing': 5599, 'securities': 5600, 'security': 5601, 'see': 5602, 'seedlings': 5603, 'seeing': 5604, 'seek': 5605, 'seeking': 5606, 'seem': 5607, 'seems': 5608, 'seen': 5609, 'select': 5610, 'selected': 5611, 'selection': 5612, 'selections': 5613, 'self': 5614, 'sell': 5615, 'seller': 5616, 'sellers': 5617, 'selling': 5618, 'sells': 5619, 'selves': 5620, 'semester': 5621, 'semiconductor': 5622, 'semiconductors': 5623, 'seminar': 5624, 'seminars': 5625, 'send': 5626, 'sender': 5627, 'sending': 5628, 'senior': 5629, 'seniors': 5630, 'sense': 5631, 'sensor': 5632, 'sensors': 5633, 'sent': 5634, 'separate': 5635, 'separately': 5636, 'serial': 5637, 'series': 5638, 'serious': 5639, 'serve': 5640, 'served': 5641, 'server': 5642, 'servers': 5643, 'serves': 5644, 'service': 5645, 'serviced': 5646, 'services': 5647, 'servicing': 5648, 'serving': 5649, 'servings': 5650, 'servo': 5651, 'session': 5652, 'sessions': 5653, 'set': 5654, 'sets': 5655, 'setting': 5656, 'settings': 5657, 'settle': 5658, 'settled': 5659, 'setup': 5660, 'setups': 5661, 'seven': 5662, 'several': 5663, 'severe': 5664, 'sewer': 5665, 'sewing': 5666, 'shaded': 5667, 'shaft': 5668, 'shafts': 5669, 'shake': 5670, 'shall': 5671, 'shape': 5672, 'shaped': 5673, 'shapes': 5674, 'share': 5675, 'shared': 5676, 'shares': 5677, 'sharing': 5678, 'sharpened': 5679, 'sharply': 5680, 'she': 5681, 'sheet': 5682, 'shelter': 5683, 'shift': 5684, 'shifted': 5685, 'ship': 5686, 'shipment': 5687, 'shipments': 5688, 'shipped': 5689, 'shipping': 5690, 'ships': 5691, 'shock': 5692, 'shoddy': 5693, 'shoe': 5694, 'shoes': 5695, 'shoot': 5696, 'shooting': 5697, 'shop': 5698, 'shopping': 5699, 'shops': 5700, 'short': 5701, 'shortly': 5702, 'shot': 5703, 'shots': 5704, 'should': 5705, 'shoulder': 5706, 'shouldn': 5707, 'shovel': 5708, 'shovels': 5709, 'show': 5710, 'showcase': 5711, 'showcases': 5712, 'showcasing': 5713, 'showed': 5714, 'shower': 5715, 'showing': 5716, 'shown': 5717, 'showroom': 5718, 'shows': 5719, 'shredder': 5720, 'shredders': 5721, 'shrimp': 5722, 'shutting': 5723, 'shy': 5724, 'sibling': 5725, 'side': 5726, 'sides': 5727, 'sign': 5728, 'signal': 5729, 'signals': 5730, 'signatory': 5731, 'signature': 5732, 'signatures': 5733, 'signed': 5734, 'significance': 5735, 'significant': 5736, 'significantly': 5737, 'signify': 5738, 'signing': 5739, 'silent': 5740, 'silk': 5741, 'silver': 5742, 'silverware': 5743, 'similar': 5744, 'simmered': 5745, 'simmering': 5746, 'simple': 5747, 'simpler': 5748, 'simply': 5749, 'simultaneously': 5750, 'since': 5751, 'sincere': 5752, 'sincerely': 5753, 'sing': 5754, 'single': 5755, 'sink': 5756, 'sir': 5757, 'sister': 5758, 'sit': 5759, 'site': 5760, 'sited': 5761, 'sites': 5762, 'sitting': 5763, 'situation': 5764, 'situations': 5765, 'six': 5766, 'sixth': 5767, 'sizable': 5768, 'size': 5769, 'sized': 5770, 'sizes': 5771, 'sketches': 5772, 'skill': 5773, 'skilled': 5774, 'skills': 5775, 'skin': 5776, 'skincare': 5777, 'skyline': 5778, 'skyrocket': 5779, 'sleep': 5780, 'sleeping': 5781, 'slept': 5782, 'slice': 5783, 'slide': 5784, 'slides': 5785, 'sliding': 5786, 'slightly': 5787, 'slip': 5788, 'slippers': 5789, 'slot': 5790, 'slots': 5791, 'slow': 5792, 'slurp': 5793, 'small': 5794, 'smaller': 5795, 'smallest': 5796, 'smart': 5797, 'smartphone': 5798, 'smartphones': 5799, 'smartwatches': 5800, 'smile': 5801, 'smoke': 5802, 'smooth': 5803, 'smoothly': 5804, 'snack': 5805, 'snacks': 5806, 'snap': 5807, 'sneakers': 5808, 'snob': 5809, 'snorkeling': 5810, 'so': 5811, 'soap': 5812, 'soaps': 5813, 'soaring': 5814, 'social': 5815, 'societal': 5816, 'socket': 5817, 'socks': 5818, 'sof': 5819, 'sofa': 5820, 'soft': 5821, 'software': 5822, 'softwares': 5823, 'soil': 5824, 'soju': 5825, 'sold': 5826, 'sole': 5827, 'solely': 5828, 'solid': 5829, 'solitary': 5830, 'solo': 5831, 'solution': 5832, 'solutions': 5833, 'solve': 5834, 'solving': 5835, 'some': 5836, 'somebody': 5837, 'someday': 5838, 'somehow': 5839, 'someone': 5840, 'something': 5841, 'sometime': 5842, 'sometimes': 5843, 'somewhere': 5844, 'son': 5845, 'song': 5846, 'songs': 5847, 'soon': 5848, 'sooner': 5849, 'sophisticated': 5850, 'sorry': 5851, 'sort': 5852, 'sorted': 5853, 'sorts': 5854, 'sound': 5855, 'soundbite': 5856, 'sounded': 5857, 'sounds': 5858, 'soundtrack': 5859, 'soup': 5860, 'source': 5861, 'sources': 5862, 'sous': 5863, 'southeast': 5864, 'souvenirs': 5865, 'soy': 5866, 'spa': 5867, 'space': 5868, 'spaces': 5869, 'spacious': 5870, 'spaghetti': 5871, 'spam': 5872, 'spare': 5873, 'spark': 5874, 'spas': 5875, 'speak': 5876, 'speaker': 5877, 'speakers': 5878, 'speaking': 5879, 'speaks': 5880, 'special': 5881, 'specialize': 5882, 'specialized': 5883, 'specializes': 5884, 'specialties': 5885, 'specialty': 5886, 'specific': 5887, 'specifically': 5888, 'specification': 5889, 'specifications': 5890, 'specifics': 5891, 'spectacular': 5892, 'spectrophotometer': 5893, 'spectrum': 5894, 'speed': 5895, 'speeds': 5896, 'spend': 5897, 'spending': 5898, 'spent': 5899, 'spices': 5900, 'spicy': 5901, 'spike': 5902, 'spinners': 5903, 'spinning': 5904, 'spiral': 5905, 'split': 5906, 'spoke': 5907, 'spoken': 5908, 'sponsor': 5909, 'sponsored': 5910, 'spoons': 5911, 'sports': 5912, 'spot': 5913, 'spots': 5914, 'spouse': 5915, 'sprained': 5916, 'spray': 5917, 'spread': 5918, 'spreader': 5919, 'spreading': 5920, 'spring': 5921, 'springs': 5922, 'sprout': 5923, 'sprouts': 5924, 'spyware': 5925, 'square': 5926, 'squeeze': 5927, 'squid': 5928, 'ssambap': 5929, 'ssamjang': 5930, 'st': 5931, 'stable': 5932, 'stacking': 5933, 'staff': 5934, 'staffs': 5935, 'stage': 5936, 'stages': 5937, 'staggered': 5938, 'stainless': 5939, 'stake': 5940, 'stalls': 5941, 'stand': 5942, 'standard': 5943, 'standards': 5944, 'standing': 5945, 'stands': 5946, 'star': 5947, 'starch': 5948, 'starred': 5949, 'stars': 5950, 'start': 5951, 'started': 5952, 'starters': 5953, 'starting': 5954, 'starts': 5955, 'startup': 5956, 'startups': 5957, 'state': 5958, 'stated': 5959, 'statement': 5960, 'statements': 5961, 'states': 5962, 'static': 5963, 'station': 5964, 'stationary': 5965, 'stationed': 5966, 'stations': 5967, 'statistics': 5968, 'statue': 5969, 'status': 5970, 'stay': 5971, 'stayed': 5972, 'staying': 5973, 'stays': 5974, 'steadier': 5975, 'steady': 5976, 'steak': 5977, 'steal': 5978, 'steamed': 5979, 'steamers': 5980, 'steel': 5981, 'steering': 5982, 'stems': 5983, 'step': 5984, 'stepped': 5985, 'steps': 5986, 'sterilizers': 5987, 'stew': 5988, 'stick': 5989, 'sticker': 5990, 'stickers': 5991, 'sticky': 5992, 'still': 5993, 'stipulated': 5994, 'stir': 5995, 'stitches': 5996, 'stock': 5997, 'stockbroker': 5998, 'stocks': 5999, 'stolen': 6000, 'stones': 6001, 'stop': 6002, 'stoppers': 6003, 'stops': 6004, 'storage': 6005, 'store': 6006, 'stored': 6007, 'stores': 6008, 'storey': 6009, 'stories': 6010, 'storm': 6011, 'story': 6012, 'stoves': 6013, 'straight': 6014, 'straighten': 6015, 'strain': 6016, 'strands': 6017, 'strange': 6018, 'strategic': 6019, 'strategies': 6020, 'strategize': 6021, 'strategy': 6022, 'straw': 6023, 'stream': 6024, 'streamed': 6025, 'streaming': 6026, 'street': 6027, 'strength': 6028, 'strengthen': 6029, 'stress': 6030, 'strict': 6031, 'strictly': 6032, 'strictness': 6033, 'strips': 6034, 'strive': 6035, 'striving': 6036, 'stroganoff': 6037, 'strong': 6038, 'stronger': 6039, 'strongly': 6040, 'structure': 6041, 'structures': 6042, 'struggle': 6043, 'stub': 6044, 'stuck': 6045, 'student': 6046, 'students': 6047, 'studied': 6048, 'studies': 6049, 'studio': 6050, 'study': 6051, 'studying': 6052, 'stuff': 6053, 'stumped': 6054, 'stunning': 6055, 'stupendous': 6056, 'stuttering': 6057, 'style': 6058, 'subcription': 6059, 'subdivision': 6060, 'submersible': 6061, 'submission': 6062, 'submissions': 6063, 'submit': 6064, 'submitted': 6065, 'subscribe': 6066, 'subscribed': 6067, 'subscriber': 6068, 'subscribers': 6069, 'subscribing': 6070, 'subscription': 6071, 'subscriptions': 6072, 'subsidiaries': 6073, 'subsidiary': 6074, 'substantial': 6075, 'subtitles': 6076, 'subway': 6077, 'succeed': 6078, 'succeeded': 6079, 'success': 6080, 'successful': 6081, 'succinctly': 6082, 'such': 6083, 'suction': 6084, 'sudden': 6085, 'suddenly': 6086, 'suffer': 6087, 'suffered': 6088, 'suffice': 6089, 'sufficient': 6090, 'sugar': 6091, 'suggest': 6092, 'suggested': 6093, 'suggesting': 6094, 'suggestion': 6095, 'suggestions': 6096, 'suit': 6097, 'suitable': 6098, 'suite': 6099, 'suites': 6100, 'sujeonggwa': 6101, 'sukju': 6102, 'sum': 6103, 'summary': 6104, 'summer': 6105, 'sun': 6106, 'sunrise': 6107, 'superintendent': 6108, 'superiors': 6109, 'supermarket': 6110, 'supervisor': 6111, 'supervisory': 6112, 'supplements': 6113, 'supplied': 6114, 'supplier': 6115, 'suppliers': 6116, 'supplies': 6117, 'supply': 6118, 'supplying': 6119, 'support': 6120, 'supporters': 6121, 'supporting': 6122, 'supportive': 6123, 'suppose': 6124, 'supposed': 6125, 'sure': 6126, 'surely': 6127, 'surface': 6128, 'surge': 6129, 'surpass': 6130, 'surplus': 6131, 'surprise': 6132, 'surprised': 6133, 'surround': 6134, 'surveillance': 6135, 'survey': 6136, 'surveyed': 6137, 'suspect': 6138, 'suspicious': 6139, 'sustainable': 6140, 'sweat': 6141, 'sweet': 6142, 'sweets': 6143, 'swift': 6144, 'swiftly': 6145, 'swimming': 6146, 'switch': 6147, 'switched': 6148, 'switching': 6149, 'symbols': 6150, 'symmetric': 6151, 'syndicated': 6152, 'synopsis': 6153, 'synthesizing': 6154, 'synthetic': 6155, 'syringes': 6156, 'system': 6157, 'systems': 6158, 't': 6159, 'tab': 6160, 'table': 6161, 'tables': 6162, 'tablet': 6163, 'tablets': 6164, 'tabulate': 6165, 'tackled': 6166, 'tactics': 6167, 'tagline': 6168, 'tags': 6169, 'tainted': 6170, 'take': 6171, 'taken': 6172, 'takeover': 6173, 'taker': 6174, 'takes': 6175, 'taking': 6176, 'talent': 6177, 'talents': 6178, 'talk': 6179, 'talked': 6180, 'talking': 6181, 'talks': 6182, 'tap': 6183, 'tape': 6184, 'taps': 6185, 'target': 6186, 'targeted': 6187, 'targeting': 6188, 'targets': 6189, 'tariff': 6190, 'tariffs': 6191, 'task': 6192, 'tasked': 6193, 'tasks': 6194, 'taste': 6195, 'tasted': 6196, 'tastes': 6197, 'tasty': 6198, 'tattoo': 6199, 'taught': 6200, 'tax': 6201, 'taxation': 6202, 'taxed': 6203, 'taxes': 6204, 'tea': 6205, 'teach': 6206, 'teacher': 6207, 'teachers': 6208, 'teaching': 6209, 'team': 6210, 'teammates': 6211, 'teams': 6212, 'teas': 6213, 'teaser': 6214, 'tech': 6215, 'technical': 6216, 'technically': 6217, 'technician': 6218, 'technicians': 6219, 'techniques': 6220, 'technological': 6221, 'technologies': 6222, 'technologist': 6223, 'technology': 6224, 'tedious': 6225, 'teenagers': 6226, 'telecommunication': 6227, 'telecommunications': 6228, 'teleconference': 6229, 'telephone': 6230, 'television': 6231, 'televisions': 6232, 'tell': 6233, 'telling': 6234, 'temperature': 6235, 'temperatures': 6236, 'template': 6237, 'templates': 6238, 'temple': 6239, 'temples': 6240, 'temporarily': 6241, 'temporary': 6242, 'ten': 6243, 'tenants': 6244, 'tend': 6245, 'tendency': 6246, 'tender': 6247, 'tent': 6248, 'tentative': 6249, 'tents': 6250, 'tenure': 6251, 'terabyte': 6252, 'terabytes': 6253, 'term': 6254, 'terminal': 6255, 'terminate': 6256, 'terms': 6257, 'terrace': 6258, 'terrible': 6259, 'terribly': 6260, 'test': 6261, 'tested': 6262, 'tester': 6263, 'testers': 6264, 'testing': 6265, 'tests': 6266, 'text': 6267, 'textbook': 6268, 'textbooks': 6269, 'textile': 6270, 'textiles': 6271, 'texts': 6272, 'texture': 6273, 'textures': 6274, 'th': 6275, 'than': 6276, 'thank': 6277, 'thanks': 6278, 'that': 6279, 'the': 6280, 'theater': 6281, 'their': 6282, 'theirs': 6283, 'them': 6284, 'theme': 6285, 'themes': 6286, 'themselves': 6287, 'then': 6288, 'therapy': 6289, 'there': 6290, 'thereby': 6291, 'therefore': 6292, 'thermoforming': 6293, 'thermoplastic': 6294, 'thermostat': 6295, 'these': 6296, 'they': 6297, 'thick': 6298, 'thickened': 6299, 'thin': 6300, 'thing': 6301, 'things': 6302, 'think': 6303, 'thinking': 6304, 'thinks': 6305, 'third': 6306, 'this': 6307, 'thorough': 6308, 'thoroughly': 6309, 'those': 6310, 'though': 6311, 'thought': 6312, 'thoughts': 6313, 'thousand': 6314, 'thousands': 6315, 'threads': 6316, 'threat': 6317, 'threaten': 6318, 'threatening': 6319, 'three': 6320, 'thriller': 6321, 'thrives': 6322, 'through': 6323, 'throughout': 6324, 'thus': 6325, 'ticket': 6326, 'tickets': 6327, 'tie': 6328, 'tied': 6329, 'tier': 6330, 'tight': 6331, 'tightly': 6332, 'till': 6333, 'time': 6334, 'timeline': 6335, 'timelines': 6336, 'timely': 6337, 'timer': 6338, 'times': 6339, 'timespan': 6340, 'timetable': 6341, 'timing': 6342, 'tiny': 6343, 'tip': 6344, 'tipping': 6345, 'tips': 6346, 'tire': 6347, 'tissue': 6348, 'title': 6349, 'to': 6350, 'toast': 6351, 'toasters': 6352, 'tobacco': 6353, 'today': 6354, 'toddlers': 6355, 'toe': 6356, 'together': 6357, 'toilet': 6358, 'token': 6359, 'tokens': 6360, 'told': 6361, 'tolerant': 6362, 'tolerated': 6363, 'tomorrow': 6364, 'ton': 6365, 'tone': 6366, 'toner': 6367, 'tones': 6368, 'tonight': 6369, 'too': 6370, 'took': 6371, 'tool': 6372, 'tools': 6373, 'top': 6374, 'topic': 6375, 'topics': 6376, 'topmost': 6377, 'torn': 6378, 'tortilla': 6379, 'total': 6380, 'totally': 6381, 'touch': 6382, 'touchscreen': 6383, 'tough': 6384, 'tour': 6385, 'tourism': 6386, 'tourist': 6387, 'tourists': 6388, 'tours': 6389, 'tow': 6390, 'toward': 6391, 'towards': 6392, 'towel': 6393, 'towels': 6394, 'town': 6395, 'townhouse': 6396, 'track': 6397, 'trackballs': 6398, 'tracking': 6399, 'trackpad': 6400, 'tractor': 6401, 'trade': 6402, 'trademark': 6403, 'trader': 6404, 'trades': 6405, 'trading': 6406, 'traditional': 6407, 'traditionally': 6408, 'traditions': 6409, 'traffic': 6410, 'trailer': 6411, 'trailers': 6412, 'train': 6413, 'training': 6414, 'trainings': 6415, 'trains': 6416, 'tranche': 6417, 'transact': 6418, 'transaction': 6419, 'transactions': 6420, 'transfer': 6421, 'transferred': 6422, 'transferring': 6423, 'transfers': 6424, 'translations': 6425, 'translators': 6426, 'transmission': 6427, 'transmit': 6428, 'transmitted': 6429, 'transparency': 6430, 'transport': 6431, 'transportation': 6432, 'transportations': 6433, 'trash': 6434, 'travel': 6435, 'traveled': 6436, 'travelers': 6437, 'traveling': 6438, 'travelled': 6439, 'tread': 6440, 'treat': 6441, 'treated': 6442, 'treatment': 6443, 'treatments': 6444, 'tremendously': 6445, 'trend': 6446, 'trending': 6447, 'trends': 6448, 'trendy': 6449, 'tri': 6450, 'trial': 6451, 'trials': 6452, 'tricky': 6453, 'tried': 6454, 'tries': 6455, 'trigger': 6456, 'trip': 6457, 'triple': 6458, 'trips': 6459, 'trouble': 6460, 'troubles': 6461, 'troubleshooting': 6462, 'truck': 6463, 'trucks': 6464, 'true': 6465, 'truly': 6466, 'trust': 6467, 'trusted': 6468, 'trustee': 6469, 'trusting': 6470, 'trustworthy': 6471, 'truth': 6472, 'try': 6473, 'trying': 6474, 'tteokbokki': 6475, 'tub': 6476, 'tube': 6477, 'tubes': 6478, 'tubing': 6479, 'tubs': 6480, 'tuned': 6481, 'tunnels': 6482, 'turn': 6483, 'turnaround': 6484, 'turned': 6485, 'turning': 6486, 'turnkey': 6487, 'turns': 6488, 'tutorials': 6489, 'tweaks': 6490, 'twenty': 6491, 'twice': 6492, 'twin': 6493, 'two': 6494, 'type': 6495, 'types': 6496, 'typewriter': 6497, 'typical': 6498, 'typically': 6499, 'ultimately': 6500, 'ultrasonic': 6501, 'ultrasound': 6502, 'umbrella': 6503, 'unable': 6504, 'unacceptable': 6505, 'unauthorized': 6506, 'unavailable': 6507, 'unaware': 6508, 'unboxed': 6509, 'unboxing': 6510, 'unbreakable': 6511, 'unchanged': 6512, 'uncomfortable': 6513, 'under': 6514, 'undergoing': 6515, 'underlying': 6516, 'underneath': 6517, 'underreported': 6518, 'understaffed': 6519, 'understand': 6520, 'understandable': 6521, 'understanding': 6522, 'undervalued': 6523, 'underwriting': 6524, 'undoubtedly': 6525, 'undress': 6526, 'unemployed': 6527, 'unending': 6528, 'unequal': 6529, 'unexpected': 6530, 'unfair': 6531, 'unfamiliar': 6532, 'unfold': 6533, 'unforeseen': 6534, 'unfortunate': 6535, 'unfortunately': 6536, 'unhappy': 6537, 'unintentional': 6538, 'unique': 6539, 'unit': 6540, 'units': 6541, 'unity': 6542, 'universal': 6543, 'universities': 6544, 'university': 6545, 'unless': 6546, 'unlike': 6547, 'unlimited': 6548, 'unloading': 6549, 'unnecessary': 6550, 'unpleasant': 6551, 'unpredictable': 6552, 'unprofessional': 6553, 'unquantifiable': 6554, 'unrealized': 6555, 'unsecured': 6556, 'unstable': 6557, 'unsure': 6558, 'unsustainable': 6559, 'until': 6560, 'untouched': 6561, 'unused': 6562, 'up': 6563, 'upcoming': 6564, 'update': 6565, 'updated': 6566, 'updates': 6567, 'updating': 6568, 'upfront': 6569, 'upgrade': 6570, 'upgraded': 6571, 'upgrades': 6572, 'upgrading': 6573, 'upkeep': 6574, 'upload': 6575, 'uploaded': 6576, 'uploading': 6577, 'upon': 6578, 'upper': 6579, 'ups': 6580, 'upset': 6581, 'urge': 6582, 'urged': 6583, 'urgent': 6584, 'urgently': 6585, 'us': 6586, 'usability': 6587, 'usage': 6588, 'use': 6589, 'used': 6590, 'useful': 6591, 'user': 6592, 'users': 6593, 'uses': 6594, 'using': 6595, 'usual': 6596, 'usually': 6597, 'utensils': 6598, 'utilities': 6599, 'utility': 6600, 'utilize': 6601, 'utilized': 6602, 'utilizing': 6603, 'vacation': 6604, 'vaccination': 6605, 'vaccine': 6606, 'vacuum': 6607, 'valid': 6608, 'validates': 6609, 'validating': 6610, 'validity': 6611, 'valuable': 6612, 'valuables': 6613, 'value': 6614, 'values': 6615, 'valve': 6616, 'valves': 6617, 'van': 6618, 'vans': 6619, 'variable': 6620, 'variables': 6621, 'variation': 6622, 'varies': 6623, 'varieties': 6624, 'variety': 6625, 'various': 6626, 'vary': 6627, 'varying': 6628, 've': 6629, 'vector': 6630, 'vectors': 6631, 'vegan': 6632, 'vegetable': 6633, 'vegetables': 6634, 'vegetarian': 6635, 'veggies': 6636, 'vehicle': 6637, 'vehicles': 6638, 'vending': 6639, 'vendor': 6640, 'vendors': 6641, 'venture': 6642, 'ventures': 6643, 'venturi': 6644, 'venturing': 6645, 'venue': 6646, 'verification': 6647, 'verified': 6648, 'verify': 6649, 'versatile': 6650, 'version': 6651, 'versions': 6652, 'very': 6653, 'veteran': 6654, 'via': 6655, 'viable': 6656, 'viand': 6657, 'vibes': 6658, 'vibrations': 6659, 'victim': 6660, 'vide': 6661, 'video': 6662, 'videoconferencing': 6663, 'videos': 6664, 'view': 6665, 'viewers': 6666, 'views': 6667, 'villa': 6668, 'village': 6669, 'villas': 6670, 'vine': 6671, 'vinegar': 6672, 'vintage': 6673, 'violated': 6674, 'violation': 6675, 'violent': 6676, 'viral': 6677, 'virtual': 6678, 'virtualization': 6679, 'virtually': 6680, 'virus': 6681, 'viruses': 6682, 'visas': 6683, 'viscosity': 6684, 'visibility': 6685, 'visible': 6686, 'vision': 6687, 'visit': 6688, 'visited': 6689, 'visiting': 6690, 'visitors': 6691, 'visits': 6692, 'visual': 6693, 'visualization': 6694, 'visualizations': 6695, 'visualize': 6696, 'visually': 6697, 'visuals': 6698, 'vital': 6699, 'vitals': 6700, 'vlog': 6701, 'vocabulary': 6702, 'voice': 6703, 'volatile': 6704, 'volume': 6705, 'voluminous': 6706, 'vulnerable': 6707, 'wafer': 6708, 'wage': 6709, 'wages': 6710, 'wait': 6711, 'waited': 6712, 'waiters': 6713, 'waiting': 6714, 'waive': 6715, 'waived': 6716, 'wake': 6717, 'walk': 6718, 'walking': 6719, 'wallet': 6720, 'wallpapers': 6721, 'walls': 6722, 'want': 6723, 'wanted': 6724, 'wanting': 6725, 'wants': 6726, 'warehouse': 6727, 'warm': 6728, 'warn': 6729, 'warning': 6730, 'warping': 6731, 'warrant': 6732, 'warrants': 6733, 'warranty': 6734, 'wary': 6735, 'was': 6736, 'washer': 6737, 'washers': 6738, 'wasn': 6739, 'waste': 6740, 'wasting': 6741, 'watch': 6742, 'watched': 6743, 'watching': 6744, 'water': 6745, 'watering': 6746, 'watermelon': 6747, 'waterproof': 6748, 'waterways': 6749, 'watts': 6750, 'way': 6751, 'ways': 6752, 'we': 6753, 'wealth': 6754, 'wealthy': 6755, 'wear': 6756, 'weather': 6757, 'web': 6758, 'webinar': 6759, 'webinars': 6760, 'webpage': 6761, 'website': 6762, 'websites': 6763, 'wedding': 6764, 'weddings': 6765, 'week': 6766, 'weekdays': 6767, 'weekend': 6768, 'weekends': 6769, 'weekly': 6770, 'weeks': 6771, 'weight': 6772, 'welcome': 6773, 'welcomes': 6774, 'well': 6775, 'went': 6776, 'were': 6777, 'weren': 6778, 'west': 6779, 'western': 6780, 'what': 6781, 'whatever': 6782, 'wheat': 6783, 'wheel': 6784, 'wheels': 6785, 'when': 6786, 'whenever': 6787, 'where': 6788, 'whereabouts': 6789, 'wherever': 6790, 'whether': 6791, 'which': 6792, 'while': 6793, 'white': 6794, 'who': 6795, 'whoever': 6796, 'whole': 6797, 'wholesale': 6798, 'whom': 6799, 'whose': 6800, 'why': 6801, 'wide': 6802, 'widely': 6803, 'widened': 6804, 'wider': 6805, 'widest': 6806, 'wife': 6807, 'wild': 6808, 'wildlife': 6809, 'will': 6810, 'willing': 6811, 'win': 6812, 'wind': 6813, 'window': 6814, 'windows': 6815, 'wine': 6816, 'wines': 6817, 'wing': 6818, 'winner': 6819, 'winter': 6820, 'wipe': 6821, 'wire': 6822, 'wired': 6823, 'wireless': 6824, 'wires': 6825, 'wise': 6826, 'wisely': 6827, 'wish': 6828, 'wished': 6829, 'wishes': 6830, 'with': 6831, 'withdraw': 6832, 'withdrawal': 6833, 'withhold': 6834, 'within': 6835, 'without': 6836, 'witness': 6837, 'women': 6838, 'won': 6839, 'wonder': 6840, 'wonderful': 6841, 'wondering': 6842, 'wonders': 6843, 'wood': 6844, 'word': 6845, 'words': 6846, 'work': 6847, 'worked': 6848, 'worker': 6849, 'workers': 6850, 'workforce': 6851, 'working': 6852, 'workplace': 6853, 'works': 6854, 'workshop': 6855, 'world': 6856, 'worldwide': 6857, 'worm': 6858, 'worms': 6859, 'worried': 6860, 'worries': 6861, 'worry': 6862, 'worrying': 6863, 'worse': 6864, 'worst': 6865, 'worth': 6866, 'worthwhile': 6867, 'worthy': 6868, 'would': 6869, 'wouldn': 6870, 'wow': 6871, 'wrap': 6872, 'wrapping': 6873, 'wraps': 6874, 'write': 6875, 'writers': 6876, 'writing': 6877, 'written': 6878, 'wrong': 6879, 'yacht': 6880, 'yang': 6881, 'yard': 6882, 'yarn': 6883, 'year': 6884, 'yearly': 6885, 'years': 6886, 'yell': 6887, 'yellow': 6888, 'yen': 6889, 'yes': 6890, 'yesterday': 6891, 'yet': 6892, 'yield': 6893, 'yields': 6894, 'yin': 6895, 'yo': 6896, 'you': 6897, 'young': 6898, 'youngsters': 6899, 'your': 6900, 'yours': 6901, 'yourself': 6902, 'yourselves': 6903, 'youth': 6904, 'yurt': 6905, 'zero': 6906, 'zones': 6907, 'zoom': 6908}\n"
          ]
        }
      ],
      "source": [
        "# token - idx dictionary\n",
        "# 여기서도 동일하게 i+1로 해줘야 padding에 사용할 token을 0으로 사용할 수 있습니다!\n",
        "src_to_index = ~~~~\n",
        "tar_to_index = ~~~~\n",
        "print(src_to_index)\n",
        "print(tar_to_index)\n",
        "\n",
        "# 위에서 진행했습니다!"
      ]
    },
    {
      "cell_type": "markdown",
      "metadata": {
        "id": "tWUdLA1eanaz"
      },
      "source": [
        "### 정수 인코딩"
      ]
    },
    {
      "cell_type": "code",
      "execution_count": 95,
      "metadata": {
        "id": "ocvHdAzp0B3Q"
      },
      "outputs": [],
      "source": [
        "# 앞서 toekn-index dictionary로 정리한 것을 이용해서 각각의 토큰들을 정수인코딩을 진행해봅니다.\n",
        "# 이 과정에서 유의할 점은, 기존의 구현 코드에서 여러개의 for loop을 사용했습니다.\n",
        "# 이보다 빨리 진행하기 위해 어떻게 코딩할 수 있을까요?\n",
        "# 시간이 충분하시다면 for loop을 그대로 이용하셔도 좋습니다만, 다른 방법도 고민하셔도 좋습니다.\n",
        "# hint: Pandas에서 apply와 비슷한 것들을 이용해보면 어떨까요?\n",
        "\n",
        "# encoder의 입력값 정수 인코딩 진행\n",
        "encoder_input = []\n",
        "for i in range(10000):\n",
        "    encoded_line = []\n",
        "    temp = src_seq_tr[i]\n",
        "    for word in temp:\n",
        "        encoded_line.append(src_to_index[word])\n",
        "    encoder_input.append(torch.Tensor(encoded_line).long())\n",
        "\n",
        "\n",
        "# 우선 decoder에서 사용하는 문장에 대해 정수인코딩 진행\n",
        "decoder_input = []\n",
        "for i in range(10000):\n",
        "    encoded_line = []\n",
        "    temp = tar_seq_tr[i]\n",
        "    for word in temp:\n",
        "        encoded_line.append(tar_to_index[word])\n",
        "    encoded_line.pop(-1)        # <EOS> 빼버리기!\n",
        "    decoder_input.append(torch.Tensor(encoded_line).long())\n",
        "\n",
        "\n",
        "# 다만 decoder의 출력값은 <SOS>들어가면 안되니 첫번째 토큰은 빼주기\n",
        "decoder_target = []\n",
        "for i in range(10000):\n",
        "  timestep = 0\n",
        "  encoded_line = []\n",
        "  temp = tar_seq_tr[i]\n",
        "  for word in temp:\n",
        "    if timestep > 0:\n",
        "      encoded_line.append(tar_to_index[word])\n",
        "    timestep = timestep + 1\n",
        "  \n",
        "  decoder_target.append(torch.Tensor(encoded_line).long())"
      ]
    },
    {
      "cell_type": "code",
      "source": [
        "decoder_target[0]\n",
        "\n",
        "# <EOS> (338)은 포함되어 있고, <SOS> (339)는 날아가서 없음."
      ],
      "metadata": {
        "colab": {
          "base_uri": "https://localhost:8080/"
        },
        "id": "1u7HfoPYJr3k",
        "outputId": "846def3c-e4e9-498c-8143-21ed73c04a23"
      },
      "execution_count": 97,
      "outputs": [
        {
          "output_type": "execute_result",
          "data": {
            "text/plain": [
              "tensor([ 999, 1976, 4168, 1705, 1110,   17, 4611, 3923,  647, 5917,  704, 4168,\n",
              "         799, 5917, 4885, 5917,   19,  338])"
            ]
          },
          "metadata": {},
          "execution_count": 97
        }
      ]
    },
    {
      "cell_type": "code",
      "source": [
        "decoder_input[0]\n",
        "\n",
        "# <SOS> (339)가 포함되어 있고, <EOS> (338)은 날아가서 없음."
      ],
      "metadata": {
        "colab": {
          "base_uri": "https://localhost:8080/"
        },
        "id": "HoP2RWVUK4i_",
        "outputId": "c1953b8c-d6e6-4ac6-c86c-1d200bafbe2c"
      },
      "execution_count": 98,
      "outputs": [
        {
          "output_type": "execute_result",
          "data": {
            "text/plain": [
              "tensor([ 339,  999, 1976, 4168, 1705, 1110,   17, 4611, 3923,  647, 5917,  704,\n",
              "        4168,  799, 5917, 4885, 5917,   19])"
            ]
          },
          "metadata": {},
          "execution_count": 98
        }
      ]
    },
    {
      "cell_type": "code",
      "execution_count": 99,
      "metadata": {
        "id": "fT3x1SL_l1pY"
      },
      "outputs": [],
      "source": [
        "from torch.nn.utils.rnn import pad_sequence"
      ]
    },
    {
      "cell_type": "markdown",
      "metadata": {
        "id": "ibj8DeCqbvZG"
      },
      "source": [
        "### Padding"
      ]
    },
    {
      "cell_type": "code",
      "execution_count": 100,
      "metadata": {
        "id": "sSNmdbEwuQR5"
      },
      "outputs": [],
      "source": [
        "# 현재 길이가 제각각인 정수화된 문장이 있습니다. padding을 통해 길이를 맞춰봅시다\n",
        "# 주의사항: 여기에 사용된 값을은 정수일까요?\n",
        "batch_first = True\n",
        "\n",
        "encoder_input = pad_sequence(encoder_input, batch_first=batch_first).long()\n",
        "decoder_input = pad_sequence(decoder_input, batch_first=batch_first).long()\n",
        "decoder_target = pad_sequence(decoder_target, batch_first=batch_first).long()"
      ]
    },
    {
      "cell_type": "code",
      "source": [
        "print(encoder_input.size())\n",
        "print(decoder_input.size())\n",
        "print(decoder_target.size())"
      ],
      "metadata": {
        "colab": {
          "base_uri": "https://localhost:8080/"
        },
        "id": "nvpAsAATMxWQ",
        "outputId": "dc19e84c-8126-443b-f203-70e4f4afc643"
      },
      "execution_count": 103,
      "outputs": [
        {
          "output_type": "stream",
          "name": "stdout",
          "text": [
            "torch.Size([10000, 42])\n",
            "torch.Size([10000, 45])\n",
            "torch.Size([10000, 45])\n"
          ]
        }
      ]
    },
    {
      "cell_type": "markdown",
      "metadata": {
        "id": "FQ_AHRQPmfZX"
      },
      "source": [
        "## Train data\n",
        "\n",
        "tuple type으로,  (encoder_input, decoder_input, decoder_target)의 순서를 가지게 됩니다. 이는 tuple assignment를 이용하려고 하는 것이니 자유롭게 사용하셔도 좋습니다."
      ]
    },
    {
      "cell_type": "code",
      "source": [
        "train_data = tuple([encoder_input, decoder_input, decoder_target])"
      ],
      "metadata": {
        "id": "j5Kt9bjIeFP6"
      },
      "execution_count": 187,
      "outputs": []
    },
    {
      "cell_type": "code",
      "source": [
        "train_data[0]"
      ],
      "metadata": {
        "colab": {
          "base_uri": "https://localhost:8080/"
        },
        "id": "6uhxE7kBNvND",
        "outputId": "8701f46a-cc95-4e63-d53b-b71e0c833370"
      },
      "execution_count": 110,
      "outputs": [
        {
          "output_type": "execute_result",
          "data": {
            "text/plain": [
              "[tensor([ 535,    6, 4240, 3445, 6557, 3595, 6486,    9, 1223,  535, 3662, 7104,\n",
              "         2674, 2187, 2688, 1726, 7038, 6793,   12,  208,    0,    0,    0,    0,\n",
              "            0,    0,    0,    0,    0,    0,    0,    0,    0,    0,    0,    0,\n",
              "            0,    0,    0,    0,    0,    0]),\n",
              " tensor([ 339,  999, 1976, 4168, 1705, 1110,   17, 4611, 3923,  647, 5917,  704,\n",
              "         4168,  799, 5917, 4885, 5917,   19,    0,    0,    0,    0,    0,    0,\n",
              "            0,    0,    0,    0,    0,    0,    0,    0,    0,    0,    0,    0,\n",
              "            0,    0,    0,    0,    0,    0,    0,    0,    0]),\n",
              " tensor([ 999, 1976, 4168, 1705, 1110,   17, 4611, 3923,  647, 5917,  704, 4168,\n",
              "          799, 5917, 4885, 5917,   19,  338,    0,    0,    0,    0,    0,    0,\n",
              "            0,    0,    0,    0,    0,    0,    0,    0,    0,    0,    0,    0,\n",
              "            0,    0,    0,    0,    0,    0,    0,    0,    0])]"
            ]
          },
          "metadata": {},
          "execution_count": 110
        }
      ]
    },
    {
      "cell_type": "markdown",
      "metadata": {
        "id": "nXhsP4O3mhih"
      },
      "source": [
        "## Eval data\n",
        "\n",
        "지금까지 진행한 것은 학습 데이터에 대한 전처리입니다.\n",
        "\n",
        "그런데 말입니다, 과연 평가 데이터는 학습데이터랑 동일한 형태일까요?\n",
        "\n",
        "사용하는 단어도 동일할까요?\n",
        "\n",
        "게다가 실제 데이터라면 문장 속에 이메일이나, 전화번호등 다른 것들로 대체해야할 게 있지 않을까요?\n",
        "\n",
        "참으로 고민할 게 많습니다. 이 모든 것들을 고려하면 좋겠지만, 현재 과제에서는 학습 데이터의 단어 집합에는 없는데 평가 데이터에서 등장하는 단어들은 어떻게 처리할지 한번 고민해봅시다.\n",
        "\n",
        "**핵심 TODO**:만약에 본 적이 없는 token이 나온다면 어떻게 될까요?\n",
        "\n",
        "--> Out of Vocabulary !  =지금까지 단어 집합에 없던 아이들!<br>\n",
        "\n",
        "이를 한번에 처리해주는 토큰으로 \\<UNK\\>(=unknown token) 을 사용\n",
        "\n",
        "EX)\n",
        "\n",
        "train data : \"나는 밥을 먹는다.\"<br>\n",
        "\\>> [\"나\", \"밥\", \"먹다\"]<br>\n",
        "\\>> [\\<SOS\\>, 나, 밥, 먹다, \\<EOS\\>] <BR>\n",
        "\\>> {\\<SOS\\>:0, \\<EOS\\>:1, \\<UNK\\>: 2, 나:3, 밥:4, 먹다:5}  <bR>\n",
        "\\>> [0, 3, 4, 5, 1] <BR>\n",
        "\n",
        "val data: \"나는 고기를 먹는다\"<br>\n",
        "\\>> ['나', '고기' '먹다']<BR>\n",
        "\\>> [\\<SOS\\>, 나, \\<UNK\\>, 먹다, \\<EOS\\>] <BR>\n",
        "\\>> [0, 3, 2, 5, 1] <BR>"
      ]
    },
    {
      "cell_type": "code",
      "execution_count": 161,
      "metadata": {
        "colab": {
          "base_uri": "https://localhost:8080/"
        },
        "id": "tvlFP0Q94rU3",
        "outputId": "d07b92bf-1626-4e50-8594-c898e50c0e9f"
      },
      "outputs": [
        {
          "output_type": "stream",
          "name": "stderr",
          "text": [
            "\n",
            "  0%|          | 0/1000 [00:00<?, ?it/s]\u001b[A\n",
            "  2%|▏         | 23/1000 [00:00<00:04, 222.09it/s]\u001b[A\n",
            "  5%|▌         | 51/1000 [00:00<00:03, 253.10it/s]\u001b[A\n",
            "  8%|▊         | 77/1000 [00:00<00:03, 252.29it/s]\u001b[A\n",
            " 10%|█         | 103/1000 [00:00<00:03, 254.48it/s]\u001b[A\n",
            " 13%|█▎        | 129/1000 [00:00<00:03, 239.37it/s]\u001b[A\n",
            " 15%|█▌        | 154/1000 [00:00<00:03, 227.97it/s]\u001b[A\n",
            " 18%|█▊        | 177/1000 [00:01<00:07, 106.86it/s]\u001b[A\n",
            " 20%|█▉        | 197/1000 [00:01<00:06, 121.65it/s]\u001b[A\n",
            " 22%|██▏       | 216/1000 [00:01<00:05, 134.33it/s]\u001b[A\n",
            " 24%|██▎       | 237/1000 [00:01<00:05, 149.73it/s]\u001b[A\n",
            " 26%|██▌       | 256/1000 [00:01<00:04, 157.26it/s]\u001b[A\n",
            " 28%|██▊       | 276/1000 [00:01<00:04, 167.50it/s]\u001b[A\n",
            " 30%|██▉       | 295/1000 [00:01<00:04, 171.96it/s]\u001b[A\n",
            " 32%|███▏      | 315/1000 [00:01<00:03, 179.24it/s]\u001b[A\n",
            " 34%|███▎      | 335/1000 [00:02<00:06, 97.36it/s] \u001b[A\n",
            " 35%|███▌      | 354/1000 [00:02<00:05, 112.40it/s]\u001b[A\n",
            " 37%|███▋      | 372/1000 [00:02<00:05, 125.46it/s]\u001b[A\n",
            " 39%|███▉      | 391/1000 [00:02<00:04, 138.98it/s]\u001b[A\n",
            " 41%|████      | 410/1000 [00:02<00:03, 148.98it/s]\u001b[A\n",
            " 43%|████▎     | 431/1000 [00:02<00:03, 163.63it/s]\u001b[A\n",
            " 45%|████▌     | 450/1000 [00:02<00:03, 168.25it/s]\u001b[A\n",
            " 47%|████▋     | 469/1000 [00:03<00:03, 170.06it/s]\u001b[A\n",
            " 49%|████▉     | 488/1000 [00:03<00:05, 91.13it/s] \u001b[A\n",
            " 51%|█████     | 509/1000 [00:03<00:04, 111.00it/s]\u001b[A\n",
            " 53%|█████▎    | 532/1000 [00:03<00:03, 132.95it/s]\u001b[A\n",
            " 55%|█████▌    | 554/1000 [00:03<00:02, 149.98it/s]\u001b[A\n",
            " 57%|█████▋    | 574/1000 [00:03<00:02, 160.10it/s]\u001b[A\n",
            " 59%|█████▉    | 593/1000 [00:03<00:02, 167.43it/s]\u001b[A\n",
            " 61%|██████    | 612/1000 [00:04<00:02, 164.48it/s]\u001b[A\n",
            " 63%|██████▎   | 631/1000 [00:04<00:02, 170.47it/s]\u001b[A\n",
            " 65%|██████▌   | 650/1000 [00:04<00:02, 174.73it/s]\u001b[A\n",
            " 67%|██████▋   | 669/1000 [00:04<00:03, 92.04it/s] \u001b[A\n",
            " 68%|██████▊   | 685/1000 [00:04<00:03, 102.57it/s]\u001b[A\n",
            " 70%|███████   | 702/1000 [00:04<00:02, 114.75it/s]\u001b[A\n",
            " 72%|███████▏  | 720/1000 [00:05<00:02, 128.03it/s]\u001b[A\n",
            " 74%|███████▍  | 739/1000 [00:05<00:01, 141.41it/s]\u001b[A\n",
            " 76%|███████▌  | 759/1000 [00:05<00:01, 154.79it/s]\u001b[A\n",
            " 78%|███████▊  | 780/1000 [00:05<00:01, 168.15it/s]\u001b[A\n",
            " 80%|███████▉  | 799/1000 [00:05<00:01, 161.83it/s]\u001b[A\n",
            " 82%|████████▏ | 817/1000 [00:05<00:02, 90.28it/s] \u001b[A\n",
            " 84%|████████▎ | 836/1000 [00:05<00:01, 106.54it/s]\u001b[A\n",
            " 86%|████████▌ | 855/1000 [00:06<00:01, 122.38it/s]\u001b[A\n",
            " 87%|████████▋ | 872/1000 [00:06<00:00, 132.52it/s]\u001b[A\n",
            " 89%|████████▉ | 889/1000 [00:06<00:00, 140.47it/s]\u001b[A\n",
            " 91%|█████████ | 906/1000 [00:06<00:00, 144.93it/s]\u001b[A\n",
            " 93%|█████████▎| 928/1000 [00:06<00:00, 164.14it/s]\u001b[A\n",
            " 95%|█████████▍| 946/1000 [00:06<00:00, 162.76it/s]\u001b[A\n",
            " 97%|█████████▋| 967/1000 [00:06<00:00, 174.56it/s]\u001b[A\n",
            "100%|██████████| 1000/1000 [00:07<00:00, 138.21it/s]\n"
          ]
        }
      ],
      "source": [
        "src_seq_val = []\n",
        "tar_seq_val = []\n",
        "\n",
        "src_oov = []\n",
        "tar_oov = []\n",
        "\n",
        "for raw_val_dat in tqdm(raw_val_data):\n",
        "  # 문장별 tokenization\n",
        "  src_tmp = CustomTokenizer(raw_val_dat['en'])\n",
        "  tar_tmp = CustomTokenizer(raw_val_dat['ko'])\n",
        "\n",
        "  # 입력 시퀀스에서 문장의 끝을 알리는 <EOS> 토큰 추가\n",
        "  # 출력 시퀀스에서 시작과 끝을 알리는 <SOS>, <EOS> 토큰 추가\n",
        "  EOS = ['<EOS>']\n",
        "  SOS = ['<SOS>']\n",
        "  src_tmp = src_tmp + EOS\n",
        "  tar_tmp = SOS + tar_tmp + EOS\n",
        "\n",
        "  # 처음보는 단어들은 일단 모르는 단어(OOV)로 표시해놓기  \n",
        "  # 해당 과정에서는 지금 얻은 toekn들(src_tmp와 tar_tmp)들 중에서 학습 데이터의 단어 집합(src_vocab과 tar_vocab)에 없는 단어들을 찾아야 합니다.\n",
        "  # 즉 위의 예시에서 \"고기\"에 해당하는 token을 찾아야 하고, 이를 list로 저장해봅시다.\n",
        "\n",
        "  for word in src_tmp:\n",
        "      if word not in src_vocab:\n",
        "          src_oov.append(word)\n",
        "  for word in tar_tmp:\n",
        "      if word not in tar_vocab:\n",
        "          tar_oov.append(word)\n",
        "\n",
        "  # OOV들은 <UNK>로 바꾸는 과정입니다.\n",
        "  # 지금 문장을 tokenization되어 있고, 앞서 구한 모르는 단어(OOV)들의 리스트(src_oov와 tar_oov)가 있는 상황에서\n",
        "  # 해당 리스트에 속한 토큰들은 <UNK>토큰으로 바꿔주는 것을 구현하는 파트입니다.\n",
        "  # 위의 예시에서 본다면 [<SOS>, 나, 고기, 먹다, <EOS>]를 [<SOS>, 나, <UNK>, 먹다, <EOS>]로 만들어주는 과정입니다.\n",
        "\n",
        "  for idx, word in enumerate(src_tmp):\n",
        "      if len(src_oov) == 0:\n",
        "          break\n",
        "      elif word in src_oov:\n",
        "          src_tmp[idx] = '<UNK>'\n",
        "\n",
        "  for idx, word in enumerate(tar_tmp):\n",
        "      if len(tar_oov) == 0:\n",
        "          break\n",
        "      elif word in tar_oov:\n",
        "          tar_tmp[idx] = '<UNK>'\n",
        "\n",
        "  \n",
        "  # tokenization 끝난 문장 보관\n",
        "  src_seq_val.append(src_tmp)\n",
        "  tar_seq_val.append(tar_tmp)"
      ]
    },
    {
      "cell_type": "code",
      "source": [
        "print(src_oov)\n",
        "print(tar_oov)\n",
        "\n",
        "print(len(src_oov))\n",
        "print(len(tar_oov))"
      ],
      "metadata": {
        "colab": {
          "base_uri": "https://localhost:8080/"
        },
        "id": "90HTcoOjQjv5",
        "outputId": "52cfd5be-9b3f-405a-e236-e1c7af84d4d1"
      },
      "execution_count": 163,
      "outputs": [
        {
          "output_type": "stream",
          "name": "stdout",
          "text": [
            "['Features', 'swim', 'notifications', 'tempered', 'anti', 'coating', 'Ultimate', 'Radiance', 'Collection', 'Skincare', 'Gift', 'Set', 'Provides', 'smoother', 'brighter', 'toned', 'Contains', 'naturally', 'derived', 'granular', 'gently', 'impurities', 'radiance', 'moisture', 'Provides', 'radiance', 'seeps', 'depths', 'hydrated', 'radiant', 'radiant', 'radiant', 'Ultimate', 'Radiance', 'Collection', 'positively', 'radiant', 'Exfoliates', 'dead', 'cells', 'brighter', 'peel', 'improves', 'dull', 'tired', 'Special', 'intensive', 'moisture', 'Gently', 'removes', 'impurities', 'moisturizes', 'improves', 'moist', 'luster', 'hydrating', 'serum', 'radiance', 'seeps', 'depths', 'lightening', 'gifting', 'Featuring', 'elasticated', 'strings', 'maintains', 'breathability', 'washed', 'Tumble', 'dryers', 'ironing', 'prohibited', 'operates', 'integrity', 'ethics', 'hood', 'adds', 'warmth', 'iconic', 'history', 'earned', 'recognition', 'embraces', 'redefine', 'Metal', 'zip', 'cuffs', 'unisex', 'zip', 'hoodie', 'Flexible', 'sweatshirt', 'chlorine', 'bleach', 'iconic', 'history', 'earned', 'follower', 'tremendous', 'recognition', 'intersection', 'integrity', 'ethics', 'Features', 'kangaroo', 'drawstring', 'hood', 'iconic', 'unisex', 'zip', 'hoodie', 'sweatshirt', 'Machine', 'wash', 'chlorine', 'bleach', 'drying', 'irons', 'prohibited', 'operates', 'reflecting', 'honesty', 'ethics', 'header', 'Crafted', 'elastic', 'trims', 'icon', 'history', 'earned', 'ardently', 'valuing', 'redefining', 'briefs', 'fitted', 'slit', 'stretchy', 'triangular', 'panties', 'stretchy', 'slit', 'washed', 'washing', 'chlorine', 'bleach', 'dried', 'ironing', 'spun', 'closure', 'trim', 'knit', 'worn', 'briefs', 'elastic', 'trims', 'underwear', 'stretch', 'trim', 'briefs', 'stretch', 'slit', 'Use', 'chlorine', 'bleach', 'Dry', 'rotating', 'iconic', 'history', 'loyalty', 'intersection', 'honesty', 'ethics', 'unisex', 'slim', 'jogger', 'crafted', 'ultra', 'fleece', 'domed', 'mineral', 'crystal', 'sparkling', 'blush', 'rose', 'shiny', 'outer', 'rings', 'textured', 'rose', 'bangle', 'adorned', 'transparent', 'crystal', 'jewelry', 'buckles', 'wave', 'radon', 'radon', 'detector', 'humidity', 'Radon', 'lung', 'cancer', 'nonsmokers', 'kills', 'fires', 'monoxide', 'poisoning', 'combined', 'Radon', 'fluctuates', 'dependent', 'Long', 'minimizing', 'coded', 'shakes', 'Long', 'radon', 'Bluetooth', 'radon', 'dashboard', 'radon', 'detector', 'radon', 'humidity', 'Wave', 'AA', 'radon', 'detector', 'radon', 'replaces', 'disposable', 'radon', 'displays', 'measurements', 'Use', 'radon', 'radon', 'detector', 'rechargeable', 'Humidity', 'Monitoring', 'humidity', 'coded', 'underwear', 'washable', 'Stretch', 'trim', 'knit', 'fleece', 'hoodies', 'Featuring', 'classic', 'raglan', 'sleeves', 'kangaroo', 'lip', 'cuff', 'classic', 'unisex', 'pullover', 'sweatshirt', 'Super', 'fleece', 'drawstring', 'hoodie', 'kangaroo', 'hair', 'safest', 'clinically', 'Skin', 'Health', 'Organization', 'dermatology', 'legs', 'x', 'Model', 'pouch', 'razor', 'Smaller', 'lighter', 'compact', 'dermatologists', 'sensitive', 'guarantees', 'hair', 'removal', 'Clinically', 'dermatologically', 'adapts', 'hair', 'removal', 'topical', 'bikini', 'armpits', 'removed', 'Equipped', 'flashes', 'hair', 'removal', 'measured', 'thigh', 'armpit', 'bikini', 'hair', 'removal', 'Positively', 'Smooth', 'Shave', 'Gel', 'irritation', 'shaving', 'shaves', 'Mild', 'sensitive', 'moisturizes', 'soothes', 'dermatologists', 'shaving', 'gel', 'naturally', 'unwanted', 'beard', 'marks', 'Mild', 'sensitive', 'firming', 'Moisturizing', 'vitamins', 'soften', 'beard', 'smoother', 'shave', 'irritation', 'foaming', 'cleanser', 'Foaming', 'Facial', 'Cleanser', 'removes', 'wastes', 'pores', 'Abundant', 'gently', 'absorbs', 'removes', 'leaving', 'balanced', 'mermaid', 'doll', 'doll', 'turquoise', 'hair', 'tiara', 'Create', 'Dreamtopia', 'mermaid', 'doll', 'mermaid', 'doll', 'colorful', 'shiny', 'tail', 'bright', 'headdress', 'turquoise', 'hair', 'colorful', 'mermaid', 'doll', 'bend', 'Kids', 'Dreamtopia', 'dolls', 'toys', 'bright', 'headdress', 'turquoise', 'hair', 'accentuates', 'figure', 'mermaid', 'doll', 'mermaid', 'doll', 'tail', 'bent', 'waist', 'Turn', 'fairy', 'tale', 'dreams', 'dreams', 'mermaid', 'doll', 'fairy', 'tales', 'fairy', 'tales', 'Dreamtopia', 'dolls', 'toys', 'doll', 'veterinary', 'doll', 'Become', 'veterinarian', 'vet', 'doll', 'Ready', 'vet', 'gown', 'purple', 'Kids', 'endless', 'vet', 'doll', 'animals', 'exploring', 'caring', 'animals', 'vet', 'doll', 'dolls', 'imagination', 'wearing', 'vet', 'gown', 'purple', 'kitten', 'Includes', 'veterinarian', 'doll', 'figure', 'Dreamtopia', 'Princess', 'doll', 'Dreamtopia', 'Princess', 'doll', 'wearing', 'shiny', 'rainbow', 'colorful', 'skirt', 'paired', 'tiara', 'matching', 'vibe', 'adds', 'strawberry', 'blonde', 'hair', 'Dreamtopia', 'Princess', 'doll', 'Dreamtopia', 'princess', 'dolls', 'dreams', 'fairy', 'tales', 'colorful', 'princess', 'doll', 'wears', 'sparkly', 'bodice', 'rainbow', 'skirt', 'royal', 'blonde', 'hair', 'bright', 'shiny', 'tiara', 'completes', 'dreams', 'imaginations', 'fairy', 'tales', 'princess', 'doll', 'Dreamtopia', 'fairy', 'tales', 'fairy', 'tales', 'Dreamtopia', 'Princess', 'dolls', 'toys', 'Kitchen', 'Helper', 'Fryer', 'Saucepan', 'Steel', 'Medium', 'frying', 'pouring', 'flipping', 'moisture', 'evaporation', 'combines', 'layer', 'durability', 'uniform', 'thermal', 'conductivity', 'riveted', 'grip', 'stylish', 'dinners', 'awaken', 'Made', 'loop', 'Installation', 'pre', 'poles', 'Reduce', 'vertical', 'headroom', 'sturdy', 'withstand', 'Easily', 'airbeds', 'bags', 'mesh', 'loft', 'organized', 'Dark', 'Skydome', 'Tent', 'bags', 'blocks', '90%', 'sunlight', 'Welded', 'edges', 'inverted', 'seams', 'drying', 'shampoo', 'shampoo', 'moisturizing', 'shampoo', 'balanced', 'scalp', 'hair', 'Soothes', 'scalp', 'irritation', 'nourishes', 'hair', 'moisturizer', 'restores', 'scalp', 'dye', 'paraben', 'shampoo', 'hair', 'dyed', 'hair', 'animals', 'soothing', 'soothing', 'scalp', 'Moisturizes', 'hair', 'Kefir', 'Probiotic', 'Blend', 'freshness', 'Simultaneously', 'relieve', 'scalp', 'irritation', 'shampoo', 'scalp', 'nourish', 'hair', 'scalp', 'Blue', 'Dark', 'Skydome', 'Tent', 'Blocks', '90%', 'lowers', 'vertically', 'headroom', 'Water', 'repellent', 'patented', 'welded', 'edges', 'inverted', 'seams', 'Easily', 'airbeds', 'bags', 'mesh', 'loft', 'organized', 'Its', 'Compared', 'vertical', 'overhead', 'stretch', 'bags', 'blocks', '90%', 'sunlight', 'welded', 'edges', 'reverse', 'seams', 'wet', 'phosphorus', 'phosphorus', 'phosphorus', 'quotient', 'beard', 'trimmer', 'sharper', 'beard', 'trimmers', 'trimming', '39', 'sharp', 'blade', 'evenly', 'trim', 'beards', 'hair', 'beard', 'trimmer', 'shaves', 'neckline', 'cheek', 'Provides', '39', 'Comes', 'washable', 'trimmer', 'comb', 'Includes', 'beard', 'trimmer', 'hair', 'clipper', 'trimmer', 'comb', 'razor', 'brush', 'Warranty', 'enclosed', 'rechargeable', 'trimmer', 'trimmer', 'unprecedented', 'beard', 'trimmers', 'trimmers', 'trimming', 'beard', 'hair', 'razors', 'shave', 'Lifetime', 'sharp', 'styling', 'Easy', 'grooming', 'sensing', 'adapts', 'beard', 'trimmed', 'Father', 'Day', 'Includes', 'beard', 'hair', 'trimmer', 'trimmer', 'comb', 'Gillette', 'razor', 'beard', 'trimmer', 'sharper', 'beard', 'trimmers', '39', 'lengths', 'trimming', 'sharp', 'blade', 'beards', 'hair', 'evenly', 'beard', 'trimmer', 'shaving', 'neck', 'cheeks', 'corners', 'ergonomic', 'trimming', 'sharp', 'blade', 'foil', 'razor', 'Includes', 'beard', 'hair', 'trimmer', 'beard', 'comb', 'razor', 'brush', 'Anna', 'Magnet', 'Easter', 'birthdays', 'Dress', 'Anna', 'Movie', 'Magnetic', 'Wooden', 'Doll', 'Set', 'magnetic', 'costume', 'outfit', 'glitter', 'outfit', 'sparkles', 'Officially', 'Sidewinder', 'coaster', 'thrilling', 'coaster', 'modeled', 'coaster', 'miniature', 'rails', 'twist', '360', 'degrees', 'brick', 'laying', 'machined', 'Gravity', 'coaster', 'chains', 'climb', 'coaster', 'schemes', 'Designed', 'coaster', 'compact', 'rails', 'twist', 'rotate', 'coaster', 'beard', 'trimmer', 'Rechargeable', 'wet', 'trimmer', 'superior', 'beard', 'trimmers', 'Trimmers', 'razors', 'trimming', 'beard', 'hair', 'ultimate', 'styling', 'sharp', 'beard', 'Precise', 'trimmed', 'Mother', 'Day', 'Includes', 'beard', 'hair', 'trimmers', 'ear', 'trimmers', 'trimmers', 'comb', 'pouch', 'softshell', 'hoodie', 'bomber', 'jacket', 'Hooded', 'bomber', 'breathable', 'Central', 'zip', 'closure', 'elasticated', 'hem', 'cuffs', 'rubber', 'sleeve', 'welt', 'Features', 'quilted', 'padded', 'central', 'zip', 'closure', 'elasticated', 'hem', 'cuffs', 'rubber', 'sleeve', 'gamepad', 'sega', 'genius', 'mega', 'firmware', 'rechargeable', 'retro', 'controller', 'controller', 'cables', '39', 'lengths', 'sharp', 'blade', 'shave', 'foil', 'razor', 'rechargeable', 'cordless', 'trimmer', 'proglide', 'razor', 'blade', 'beard', 'trimmer', 'sharper', '39', 'trimming', 'sharpening', 'blade', 'beard', 'trimming', 'hair', 'clipping', 'combines', 'ergonomics', 'trimmed', 'wirelessly', 'dad', 'Comes', 'beard', 'trimmer', 'hair', 'clipper', 'beard', 'hair', 'comb', 'razor', 'blade', 'trimmer', 'brush', 'razor', 'sharp', 'blade', 'trimmer', 'Introducing', 'wristwatches', 'bangles', 'mineral', 'crystal', 'lenses', 'quartz', 'male', 'beard', 'trimmer', 'cordless', '/', 'rechargeable', 'hair', 'clipper', 'Easy', 'trimming', 'ergonomic', 'cordless', 'trimming', 'sharp', 'blade', 'shave', 'Includes', 'beard', 'hair', 'trimmers', 'beard', 'comb', 'brush', 'planner', 'Weekly', 'planner', 'lesson', 'lesson', 'Achieve', 'Weekly', 'Planner', 'Monthly', 'Planner', 'Planners', 'journals', 'hardcover', 'softcover', 'Bindings', 'ruggedly', 'journaling', 'sketching', 'ballpoint', 'pen', 'fountain', 'pen', 'imagination', 'bags', 'pens', 'Organize', 'diary', 'planner', 'Streamline', 'separable', 'lite', 'gamepad', 'bluetooth', 'lite', 'turbo', 'upgradeable', 'firmware', 'karate', 'doll', 'wearing', 'Olympic', 'karate', 'uniform', 'Olympic', 'competitions', 'Olympic', 'Karate', 'dolls', 'doll', 'spirit', 'friendship', 'solidarity', 'doll', 'posing', 'karate', 'wearing', 'karate', 'uniforms', 'Olympic', 'jacket', 'medal', 'ribbon', 'helmet', 'sparring', 'sandals', 'medalist', 'Olympic', 'Games', 'Olympic', 'competitions', 'Olympic', 'karate', 'doll', 'doll', 'spirit', 'friendship', 'solidarity', 'Kids', 'dolls', 'Olympic', 'jacket', 'medal', 'ribbon', 'helmet', 'sparring', 'sandals', 'doll', 'Minions', 'Doll', 'Fashion', 'Pack', 'beloved', 'minion', 'icon', 'Availability', 'subject', 'striped', 'halter', 'ruffles', 'shorts', 'Mix', 'doll', 'costumes', 'imagination', 'Fashion', 'Pack', 'subject', 'Add', 'dolls', 'imaginary', 'dolls', 'doll', 'loves', 'reinterpreting', 'doll', 'styles', 'outfits', 'endless', 'imagination', 'footwear', 'Collect', 'Fashion', 'props', 'dolls', 'Super', 'Friends', 'figure', 'figure', 'accessory', 'battles', 'preschoolers', '3-8', 'Kids', 'fighting', 'adventures', 'figure', 'super', 'heroes', 'super', 'villains', 'figure', 'prop', 'fighters', 'battles', 'anodized', 'unibody', 'extreme', 'vibration', 'crystal', 'disk', 'mark', 'Measured', 'sequential', 'measured', 'compatibility', 'Operation', 'firmware', 'Operating', 'reformatting', 'iPad', 'Protects', 'Golf', 'Clubhouse', 'Collection', 'bag', 'padded', 'grip', 'Zipper', 'Padded', 'grip', 'sided', 'ventilation', 'bag', 'stylish', 'additive', 'removal', 'pore', 'Instantly', 'removes', 'pore', 'pore', 'removes', 'pores', 'cleanest', 'pore', 'Easy', 'removes', 'dirt', 'pores', 'patented', 'pore', 'attaches', 'magnet', 'removes', 'Reduces', 'oily', 'pores', 'pore', 'pore', 'absorbs', 'cleans', 'pores', 'pores', 'neatly', 'patented', 'bind', 'impurities', 'powerful', 'magnet', 'dirt', 'rooted', 'Passed', 'dermatologist', 'guarantees', 'satisfaction', 'Bluetooth', 'headset', 'simplifies', 'pairing', 'Comfortable', 'headband', 'locks', 'rated', 'moisture', 'robust', 'withstand', 'headset', 'Customizable', 'mute', 'headset', 'headset', 'superior', 'noise', 'paired', 'Bluetooth', 'Equipped', 'configured', 'headset', 'protector', 'Protect', 'dirt', 'spills', 'tear', 'Micropores', 'spills', 'Keeps', 'quiet', 'elastic', 'skirt', '360', 'grip', 'perfectly', 'encloses', 'felt', 'protectors', 'quiet', 'breathable', 'protector', 'Practically', 'breathability', 'snugly', 'Mattress', 'protectors', 'humidity', 'spill', 'breathability', '360', 'grip', 'prevents', 'stretch', 'elasticity', 'Labels', 'mark', 'figure', 'hypnosis', 'transform', 'trick', 'transforms', 'regains', 'Super', 'Saiyan', 'recreating', 'battles', 'scenes', 'anime', 'Gohan', 'Goku', 'hero', 'defeated', 'Cell', 'Cell', 'homely', 'Gohan', 'combat', 'Piccolo', 'Goku', 'reproducing', 'battles', 'scenes', 'anime', 'Elasticated', 'leather', 'wrapped', 'heel', 'adds', 'refined', 'Innovative', 'cushioning', 'leather', 'insole', 'Elastic', 'heel', 'flats', 'vamps', 'classy', 'snugly', 'glove', 'oxford', 'Light', 'brogues', 'man', 'wardrobe', 'leather', 'wingtip', 'Lined', 'leather', 'breathability', 'cushioning', 'Introducing', 'tray', 'derby', 'combines', 'sporty', 'nubuck', 'leather', 'sneaker', 'insoles', 'plenty', 'bounce', 'insole', 'screwdriver', 'screwdriver', 'transparent', 'lid', 'latch', 'Ideal', 'bits', 'locker', 'optimizes', 'drill', 'transparent', 'razor', 'razor', 'rotates', '360', 'degrees', 'shave', 'dense', 'beard', 'shaved', 'shaving', 'shaved', 'shaver', 'wet', 'Includes', 'beard', 'trimmer', 'Father', 'Day', 'fathers', 'husbands', 'flex', 'shaver', 'rotate', '360', 'degrees', 'shave', 'density', 'beard', 'hair', 'removed', 'chargeable', 'beard', 'trimmer', 'shaver', 'beard', 'trimmer', 'perforated', 'fatigue', 'Significantly', 'swiping', 'pulling', 'friction', 'glide', 'ergonomic', 'ambidextrous', 'revolutionary', 'fraction', 'pro', 'honeycomb', 'shell', 'supports', 'ultra', 'weave', 'cables', 'fatigue', 'positively', 'mineral', 'sensitive', 'sunscreen', 'Ultraviolet', 'rosewood', 'sensitive', 'mineral', 'pure', 'essence', 'nourishing', 'sensitive', 'transparent', 'UV', 'softens', 'stickiness', 'oiliness', 'aging', 'burns', 'UV', 'protecting', 'mineral', 'sunscreen', 'fragrance', 'delicate', 'sensitive', 'hypoallergenic', 'paraben', 'Protect', 'UV', 'rays', 'sunscreen', 'Developed', 'sensitive', 'Natural', 'essence', 'nourishes', 'stickiness', 'oiliness', 'mineral', 'sunscreen', 'indelible', 'UV', 'mastic', 'dyes', 'parabens', 'fragrances', 'rinser', 'Powerful', 'jets', 'rinse', 'residue', 'flow', 'Conveniently', 'rinse', 'cups', 'complement', 'faucet', 'mounting', 'holes', '5.71', 'hole', 'flow', 'pooling', 'Rinse', 'residue', 'sleek', 'slim', 'Matches', 'faucet', 'countertop', 'hole', 'dispensers', 'sprayers', 'Experience', 'rinser', 'Prevents', 'stains', 'fingerprints', 'rinser', 'shielded', 'subtle', 'undertone', 'nickel', 'complements', 'Silk', 'Epil', 'hair', 'remover', 'remover', 'beginners', 'Ultra', 'tweezers', 'hair', 'sand', 'High', 'vibrator', 'pain', 'beginners', 'gently', 'removes', 'hair', 'Super', 'tweezers', 'tweezers', 'hair', 'leaving', 'salon', 'razor', 'trimmer', 'sensitive', 'hair', 'pain', 'Includes', 'hair', 'remover', 'razor', 'trimmer', 'pouch', 'brush', 'Silk', 'Epil', 'hair', 'remover', 'Gently', 'removes', 'hair', 'beginners', 'salon', 'bikini', 'Remove', 'fingers', 'hair', 'removal', 'ergonomic', 'hair', 'painful', 'removal', 'ultra', 'tweezers', 'salon', \".'\", 'hair', 'Razor', 'trimmer', 'sensitive', 'painless', 'Silk', 'Epil', 'Hair', 'Root', 'Remover', 'Women', 'razor', 'hair', 'remover', 'sensitive', 'hair', 'remover', 'painless', 'hair', 'removal', 'hair', 'razor', 'trimmer', 'relieve', 'pain', 'Includes', 'hair', 'remover', 'razor', 'trimmer', 'pad', 'pouch', 'brush', 'Silk', 'Epil', 'Flex', 'Women', 'Root', 'Remover', 'Root', 'remover', 'brush', 'pad', 'attachment', 'hair', 'remover', 'painless', 'hair', 'removal', 'tweezers', 'salon', 'hairs', 'shaving', 'trimming', 'massaging', 'exfoliating', 'Silk', 'Epil', 'hair', 'remover', 'exfoliating', 'brush', 'exfoliating', 'epil', 'hair', 'remover', 'painless', 'hair', 'removal', 'Enjoy', 'timeless', 'classic', 'Venus', 'induction', 'luster', 'prolonged', 'Ergonomic', 'brew', 'perfectly', 'x', 'portable', 'analog', 'podcasting', 'voiceover', 'scalable', 'performances', '/', 'analog', 'headphone', 'diaphragm', 'converter', 'threaded', 'clamp', 'attaches', 'securely', 'tripod', 'Rx', 'performances', 'voiceover', 'Provides', 'performances', 'sturdy', 'tripod', 'folding', 'legs', 'Ideal', 'podcasting', 'playback', 'headphone', 'jack', 'headphone', 'Electrocardiogram', 'polarity', 'improves', 'isolation', 'pickup', 'unwanted', 'diaphragm', 'High', 'converters', 'kHz', 'sturdy', 'tripod', 'folding', 'legs', 'threaded', 'mount', 'attaches', 'securely', 'tripod', 'Ideal', 'overs', 'seamlessly', 'diaphragm', 'capacitor', 'unwanted', 'headphone', 'jack', '/', 'Comes', 'cables', 'sturdy', 'tripod', 'mount', 'attaches', 'securely', 'tripod', 'Liquid', 'Glitter', 'Eyeshadow', 'boasts', 'powder', 'scattering', 'fingers', 'eyeshadow', 'brush', 'subtle', 'dramatic', 'derived', 'toxic', 'Liquid', 'Glitter', 'Eyeshadow', 'flawless', 'flawless', 'eyeshadow', 'catches', 'primer', 'concealer', 'eyeshadow', 'lightly', 'subtle', 'dramatic', 'clutch', 'pouch', 'conveniently', 'lips', 'infinitely', 'individuality', 'explorers', 'decadent', 'beauties', 'minimalists', 'maximalists', 'reborn', 'concealer', 'boasts', 'durability', 'blemishes', 'circles', 'adds', 'moisture', 'clumping', 'Apply', 'concealer', 'brush', 'finger', 'brush', 'sponge', 'Complete', 'moist', 'camo', 'concealer', 'moist', 'creamy', 'adheres', 'Apply', 'lightly', 'provocative', 'lip', 'eyeliner', 'maxi', 'imaginable', 'concealer', 'hiding', 'blemishes', 'circles', 'Use', 'concealer', 'pat', 'gently', 'finger', 'brush', 'sponge', 'Moisturizing', 'Camo', 'Concealer', 'weapon', 'boasts', 'ultimate', 'concealers', 'moist', 'creamy', 'naturally', 'powder', 'ultimate', 'lips', 'Inspired', 'boundless', 'creativity', 'transforming', 'explorer', 'obsessed', 'lover', 'Whether', 'minimalist', 'maximalist', 'lips', 'beat', 'Extended', 'torsion', 'reinforced', 'x', 'bits', 'Absorbs', 'torque', 'tighter', 'compensates', 'slippage', 'Manufactured', 'bits', 'hex', 'hex', 'interfaces', 'Driver', 'bits', 'torsion', 'Upgraded', 'x', 'lifespan', 'bits', 'engages', 'slippage', 'laser', 'engraved', 'markings', 'erase', 'repeated', 'cores', 'super', 'supported', 'motherboard', 'powerful', 'gloss', 'shine', 'lip', 'elasticity', 'lips', 'vinyl', 'lip', 'balm', 'lips', 'acidity', 'Moisturizing', 'lips', 'moist', 'Rich', 'richness', 'Apply', 'lip', 'balm', 'lip', 'Style', 'Lab', 'Magical', 'Sticker', 'notebooks', 'planners', 'Imagine', 'notebooks', 'journals', 'scrap', 'envelopes', 'Teachers', 'softens', 'hair', 'tangling', 'coarse', 'hair', 'beard', 'trimmer', 'trimmers', 'trimming', 'beard', 'hair', 'razors', 'shave', 'trimmed', 'beard', 'hair', 'Included', 'disposable', 'floss', 'interdental', 'toothbrush', '32', 'debris', 'plaque', 'trapped', 'teeth', 'Disposable', 'floss', 'Dental', 'Association', 'disposable', 'floss', 'sensitive', 'teeth', 'gums', 'Use', 'floss', 'gently', 'teeth', 'textured', 'debris', 'plaque', 'floss', 'fluoride', 'floss', 'teeth', 'slim', 'brush', 'interdental', 'toothbrush', 'bendable', 'brush', 'ultra', 'gently', 'digs', 'teeth', 'Suitable', 'adolescents', 'braces', 'teeth', 'debris', 'plaque', 'trapped', 'teeth', 'disposable', 'floss', 'slim', 'interdental', 'toothbrush', 'disposable', 'floss', 'floss', 'teeth', 'Designed', 'teeth', 'oral', 'flossing', 'flossing', 'Slim', 'Brush', 'Interdental', 'Brush', 'compact', 'disposable', 'interdental', 'brush', 'ultra', 'tapered', 'brush', 'brush', 'teeth', 'angles', 'teeth', 'cleaned', 'Family', 'Pack', 'Kids', 'Soap', 'Orange', 'Squeeze', 'Composed', 'recycled', 'Enjoy', 'parabens', 'fragrances', 'dyes', 'animals', 'recycled', 'recycled', 'shampoo', 'wash', 'fragrance', 'pure', 'refreshing', 'pride', 'hair', 'belief', 'belief', 'drives', 'reuse', 'recyclable', 'owned', 'factories', 'Relieve', 'pain', 'Manufactured', 'cushions', 'Relieves', 'joints', 'folds', 'Lightweight', 'portable', 'Choose', 'cor', 'stair', 'washable', 'Made', 'lifetime', 'durability', 'puppies', 'stairs', 'Choose', 'stairway', 'Made', 'super', 'fleece', 'Provides', 'ample', 'traction', 'slipping', 'boasts', 'durability', 'cuddle', 'puppy', 'cor', 'attractive', 'interchangeable', 'stairways', 'freedom', 'stability', 'Soft', 'arthritis', 'outer', 'removed', 'washed', 'stairs', 'prevents', 'painful', 'Buy', 'High', 'ultra', 'bright', 'addressable', 'vivid', 'Sync', 'motherboard', 'cables', 'heatsink', 'overclocking', 'supports', 'optimum', 'modules', 'simplifies', 'Controlled', 'iCUE', 'lighting', 'modules', 'Links', 'synchronize', 'lighting', 'Custom', 'motherboards', 'reliability', 'IC', 'overclocking', 'Cast', 'surfaces', 'moisture', 'pre', 'seasoned', 'prevents', 'sticking', 'baked', 'seasoning', 'wok', 'Enjoy', 'versatility', 'griddle', 'fry', 'crisp', 'fry', 'adds', 'gravy', 'crust', 'Ready', 'griddle', 'reviews', 'pre', 'seasoned', 'wok', 'Pre', 'seasoned', 'prevents', 'sticking', 'Enjoy', 'fries', 'seafood', 'wok', 'deliciously', 'gravy', 'Enjoy', 'versatility', 'wok', 'Hot', 'juiciness', 'Ideal', 'frying', 'steaming', 'mussels', 'scampi', 'seasoned', 'wok', 'wok', 'wok', 'heatsink', 'chipset', 'heatsink', 'header', 'Operate', 'voltage', 'proprietary', 'trace', 'maximizes', 'wattmeter', 'reliably', 'Powered', 'mainstream', 'PC', 'PC', 'builders', 'oscilloscope', 'probe', 'Digital', 'oscilloscope', 'assembled', 'soldering', '/', '/', 'welding', 'oscilloscope', 'Adjustment', 'parameters', 'encoder', 'Clip', 'schematics', 'oscilloscope', 'soldering', 'encoder', 'parameters', 'Analog', 'oscilloscope', 'razor', 'Smart', 'beard', 'trimmer', 'beard', 'razor', 'Father', 'Day', 'wet', 'Includes', 'beard', 'razor', 'blade', 'brush', 'scrubber', 'Removes', 'debris', 'dirt', 'scrubber', 'stains', 'dirty', 'Silica', 'abrasives', 'aquariums', 'balls', 'spin', 'thinner', 'outer', 'strengthened', 'durability', 'improves', 'Durable', 'resilient', 'lowers', 'spin', 'maintains', 'spin', 'turf', 'Reduce', 'drag', 'consistently', 'trajectory', 'thinner', 'stiffer', 'outer', 'reinforced', 'durability', 'wedge', 'spin', 'mantle', 'resilience', 'mantle', 'elastic', 'outer', 'mantle', 'clubface', 'specially', 'Golf', 'Mabric', 'Pro', 'Individual', 'Iron', 'Hand', 'Steel', 'Regular', 'Irons', 'Ball', 'flexion', 'Build', 'solidly', 'rotation', 'irons', 'infused', 'tungsten', 'CG', 'Implemented', 'patented', 'comprehensively', 'absorb', 'unwanted', 'maximizes', 'pure', 'sensation', 'irons', 'nubuck', 'younger', 'sportier', 'lighter', 'insole', 'cushioning', 'outsole', 'improves', 'durability', 'Feu', 'cloth', 'outsole', 'rubber', 'sex', 'sneaker', 'cloth', 'elastic', 'zigzag', 'straps', 'modeled', 'cooler', 'Cools', 'Adjustable', 'mounting', 'heights', 'compatibility', 'Magnetic', 'controls', 'ultra', 'extreme', 'mounts', 'reliably', 'ensuring', 'thermal', 'thermal', 'spreads', 'evenly', 'Maglev', 'ultra', 'Extreme', 'maximized', 'intuitive', 'mount', 'accommodates', 'fixation', 'retention', 'mounting', 'Pre', 'thermal', 'pastes', 'whitening', 'toothpaste', 'brightens', 'brightens', 'teeth', 'Contains', 'teeth', 'whitening', 'dentists', 'toothpaste', 'patented', 'brightens', 'teeth', 'whitening', 'toothpaste', 'tooth', 'enamel', 'toothpaste', 'Improves', 'tooth', 'whiteness', 'whitening', 'toothpaste', 'dentist', 'whitening', 'stains', 'teeth', 'toothpaste', 'tooth', 'enamel', 'caries', 'brighter', 'brighter', 'ply', 'clad', 'plies', 'Stainless', 'increases', 'durability']\n",
            "['심박수', '수명', '강화유리', '코팅', '얼티밋', '디', '언스', '컬렉션', '밝다', '선사', '불순', '유래', '과립', '함유', '자연스럽다', '광채', '수분', '수분', '스미다', '광채', '선사', '빛나다', '손색', '얼티밋', '디', '언스', '컬렉션', '환하다', '빛나다', '포지', '티블리', '래디언트', '각질', '밝다', '선사', '필', '칙칙하다', '지치다', '수분', '불순', '수분', '촉촉하다', '선사', '수분', '럼', '스미다', '광채', '선사', '미백', '탄력', '스트링', '옆면', '사시', '사철', '기성', '찬물', '저온', '드라이', '클리닝', '무결', '보온', '후드', '지니다', '충성', '스러운', '용하다', '메탈', '지퍼', '리브', '커프스', '남녀', '집업', '후디', '스웨', '셔츠', '염소', '표백제', '다리미질', '드라이', '클리닝', '추종자', '무결', '교차점', '캥거루', '끈', '당기다', '후드', '남녀', '집업', '후디', '스웨', '셔츠', '찬물', '필요시', '염소', '표백제', '저온', '건조', '드라이', '클리닝', '정직', '브리프', '헤더', '착용', '코튼', '신축', '트리밍', '프론트', '브리프', '열렬하다', '충성', '스런', '남다르다', '지니다', '용성', '개성', '움', '움', '브리프', '체형', '핏', '신축', '코튼', '신축', '남녀', '삼각', '팬티', '찬물', '염소', '표백제', '건조하다', '다림질', '드라이', '클리닝', '불가하다', '펀', '클로저', '트림', '니트', '착용', '코튼', '신축', '트리밍', '프론트', '브리프', '속옷', '핏', '프론트', '오프닝', '신축', '트림', '신축', '브리프', '염소', '표백제', '드라이', '다리미질', '드라이', '클리닝', '정직', '교차점', '웨이', '리스', '남녀', '슬림', '조거', '덮다', '미네랄', '크리스탈', '시침', '즈', '반짝이다', '블러', '쉬', '다이얼', '반짝이다', '크리스탈', '살리다', '즈', '뱅글', '주얼리', '버클', '웨이브', '라돈', '라돈', '검출기', '습도', '간편하다', '라돈', '흡연', '폐암', '화재', '일산화탄소', '중독', '수의', '목숨', '앗', '라돈', '기상', '장기간', '장기간', '흔들다', '구분', '블루투스', '장기간', '라돈', '대시보드', '라돈', '라돈', '습도', '라돈', '검출기', '웨이브', 'AA', '라돈', '검출기', '라돈', '라돈', '측정값', '라돈', '라돈', '수치', '검출기', '콘센트', '집안', '에나', '습도', '습도', '흔들다', '구분', '속옷', '신축', '트림', '니트', '리스', '후드', '클래식', '핏', '글란', '캥거루', '립', '커프', '남녀', '클래식', '스웨', '셔츠', '리스', '끈', '당기다', '후디', '캥거루', '모발', '제모', '양쪽', '다리', '9분', '시술', '정밀', '헤드', '파우치', '면도기', '컴팩트', '민감하다', '전문의', '제모', '학적', '적응하다', '제모', '비키니', '겨드랑이', '국소', '정밀', '헤드', '제모', '착하다', '제모', '하퇴', '겨드랑이', '비키니', '제모', '개개인', '포지', '티블리', '스무', '쉐', '젤', '면도', '면도', '횟수', '민감', '순하다', '수분', '전문의', '젤', '수염', '민감', '순하다', '뮬러', '함유', '보습', '비타민', '함유', '수염', '매끈하다', '면도', '포밍', '셜', '클렌저', '포밍', '셜', '클렌저', '모공', '유', '노폐물', '노폐물', '선사', '인어', '인형', '청록색', '티아라', '인형', '드림', '토피아', '인어', '인형', '인어', '인형', '컬러풀', '반짝이다', '꼬리', '빛나다', '청록색', '분홍색', '밝다', '컬러풀', '인어', '인형', '허리', '굽히다', '드림', '토피아', '인형', '장난감', '청록색', '분홍색', '밝다', '인어', '인형', '방점', '인어', '인형', '꼬리', '허리', '굽히다', '인어', '인형', '동화', '현실', '동화', '드림', '토피아', '인형', '장난감', '컬렉션', '동화', '인형', '수의사', '커리어', '인형', '수의사', '인형', '수의사', '보아', '수의사', '가운', '트렌디', '보라색', '수의사', '인형', '무한', '펼치다', '수의사', '인형', '인형', '수의사', '가운', '트렌디', '보라색', '진료', '수의사', '인형', '규어', '드림', '토피아', '공주', '인형', '드림', '토피아', '공주', '인형', '무지개', '프린트', '반짝이다', '디스', '컬러풀', '스커트', '티아라', '슈즈', '자아내다', '룩', '드림', '토피아', '공주', '인형', '스트로베리', '블론드', '헤어', '브릿지', '드림', '토피아', '공주', '인형', '로운', '동화', '현실', '공주', '인형', '왕실', '반짝이다', '디스', '무지개', '프린트', '스커트', '블론드', '헤어', '브릿지', '화사하다', '빛나다', '티아라', '룩', '드림', '토피아', '공주', '인형', '동화', '현실', '동화', '드림', '토피아', '공주', '인형', '장난감', '컬렉션', '동화', '키친', '헬퍼', '납작하다', '나비', '푸다', '림', '프라이팬', '집기', '가하다', '수분', '증발', '옆면', '코어', '스테인리스', '레이어', '결', '균일하다', '열전도율', '리벳', '스테인리스', '손잡이', '스타일리시', '스테인리스', '깨우다', '스테인리스', '핸들', '핸들', '폴', '수직', '벽면', '헤드룸', '견디다', '베드', '침낭', '메쉬', '로프트', '다크', '스카이', '침낭', '드나들다', '햇빛', '90%', '일기예보', '폭우', '용접', '반전', '솔기', '건조하다', '원료', '두피', '모발', '모발', '선사', '보습', '두피', '모발', '두피', '보습제', '염료', '파라', '함유', '헤어', '동물실험', '두피', '듯', '케피르', '프로바이오틱', '모발', '수분', '두피', '모발', '두피', '두피', '다크', '스카이', '햇빛', '90%', '옆쪽', '수직', '헤드룸', '용접', '반전', '솔기', '베드', '침낭', '메쉬', '로프트', '옆쪽', '수직', '베드', '침낭', '드나들다', '더불다', '다크', '태양빛', '90%', '일기예보', '용접', '반전', '솔기', '젖', '수염', '수염', '날카롭다', '간편하다', '트리밍', '39', '정밀', '다이얼', '수염', '균등하다', '날카롭다', '칼날', '턱수염', '헤드', '목선', '면도', '균등하다', '39', '정밀', '다이얼', '헤드', '성품', '턱수염', '헤어', '클리퍼', '면도기', '플러그', '브러시', '매뉴얼', '동봉', '수염', '전례', '절삭', '차체', '정돈', '턱수염', '면도', '면도기', '라이프타임', '샤프', '일링', '극대', '턱수염', '센싱', '손질', '간편하다', '100분', '밍할', '정밀', '아버지', '아버지', '성품', '수염', '헤어', '디테일', '질레트', '면도기', '플러그', '수염', '수염', '날카롭다', '정밀', '다이얼', '39', '간편하다', '밍', '수염', '날카롭다', '칼날', '턱수염', '헤드', '목', '면도', '정밀', '인체', '학적', '100분', '트리밍', '날카롭다', '포일', '면도기', '성품', '턱수염', '턱수염', '면도기', '플러그', '브러시', '업', '자석', '피스', '놀이', '스탠드', '간편하다', '부활절', '그네', '틱', '인형', '입히다', '그네', '틱', '놀이', '반짝이다', '반짝거리다', '윈더', '롤러코스터', '스릴', '코스터', '롤러코스터', '본뜨다', '360', '뒤틀리다', '레일', '벽돌', '정밀', '롤러코스터', '중력', '꼭대기', '롤러코스터', '코스터', '비틀리다', '컴팩트', '레일', '롤러코스터', '수염', '수염', '커팅', '턱수염', '몸매', '트리밍', '면도기', '날카롭다', '정밀', '일링', '턱수염', '100분', '밍할', '정밀', '아버지', '어버이날', '성품', '수염', '헤어', '코용', '디테일', '파우치', '플러그', '셸', '후디', '보머', '재킷', '아이스', '통기다', '패', '브릭', '후드', '보머', '중앙', '지퍼', '밑단', '소맷단', '신축', '고무', '웰트', '패딩', '안감', '중앙', '지퍼', '신축', '밑단', '소맷단', '고무', '게임패드', '지니어스', '메', '펌웨어', '세심', '레트로', '컨트롤러', '컨트롤러', '39', '정밀', '다이얼', '날카롭다', '면도', '매뉴얼', '동봉', '글라이드', '면도날', '포일', '면도기', '날카롭다', '수염', '밍', '39', '균일하다', '수염', '밍', '모발', '리핑', '셀프', '샤프', '닝', '메탈', '정밀', '인체', '학적', '결', '밍', '수염', '헤어', '클리퍼', '정밀', '수염', '모발', '면도날', '디테일', '헤드', '플러그', '클리닝', '브러시', '스탠드', '면도기', '날카롭다', '디테일', '헤드', '성용', '손목시계', '뱅글', '스크레치', '미네랄', '크리스탈', '피다', '즈', '쿼츠', '무브먼트', '수염', '/', '헤어', '클리퍼', '정밀', '다이얼', '간편하다', '밍', '정밀', '인체', '학적', '100분', '트리밍', '정밀', '다이얼', '날카롭다', '면도', '성품', '턱수염', '턱수염', '플러그', '브러시', '독서', '먼슬리', '노트', '바인', '딩', '일리', '글쓰기', '견고하다', '볼펜', '만년필', '연필', '필기', '실물', '노트', '가방', '펜', '개월용', '다이어리', '게임패드', '블루투스', '스위치', '스위치', '윈도우', '조작', '터보', '펌웨어', '올림픽', '가라테', '유니폼', '가라테', '인형', '올림픽', '가라테', '인형', '흥미진진', '올림픽', '경기', '인형', '우정', '연대', '간직', '가라테', '경기', '자세', '인형', '가라테', '도복', '착용', '올림픽', '자켓', '리본', '금메달', '헬멧', '스파링', '글러브', '샌들', '금메달', '올림픽', '올림픽', '가라테', '인형', '흥미진진', '올림픽', '경기', '인형', '우정', '연대', '간직', '인형', '올림픽', '자켓', '리본', '금메달', '헬멧', '스파링', '글러브', '샌들', '즈', '인형', '인형', '즈', '프린트', '재현', '해내다', '주름', '스트라이프', '홀터', '프린트', '반바지', '인형', '믹스', '펼치다', '인형', '인형', '인형', '인형', '인형', '컬렉션', '무한', '소품', '인형', '슈퍼', '프렌즈', '규어', '규어', '전투', '3-8', '미취', '슈퍼', '영웅', '슈퍼', '악당', '규어', '펼치다', '규어', '소품', '소탕', '대원', '전투', '펼치다', '극', '유니', '코어', '낙하', '극한', '크리스탈', '마크', '고성능', '순차', '펌웨어', '포맷', '아이패드', '컬렉션', '가방', '패딩', '손잡이', '지퍼', '미끄러지다', '패딩', '핸들', '양면', '통풍', '가방', '스타일리시', '딥클렌징', '코팩', '헤드', '모공', '프리', '첨가', '모공', '노폐물', '모공', '코팩', '모공', '노폐', '모공', '코팩', '간편하다', '모공', '산뜻하다', '헤드', '1회', '모공', '코팩', '자석', '지성', '헤드', '딥클렌징', '모공', '코팩', '헤드', '모공', '헤드', '흡착', '딥클렌징', '모공', '코팩', '모공', '1회', '모공', '코팩', '헤드', '불순', '코팩', '자석', '헤드', '전문의', '블루투스', '헤드셋', '페어', '간소화', '헤드', '제자리', '습기', '견디다', '견고하다', '운전사', '헤드셋', '음소거', '단축', '다이얼', '헤드셋', '헤드셋', '소음', '페어', '블루투스', '누르기', '착하다', '보이스', '컨트롤', '운전사', '헤드셋', '텍터', '킹', '유출', '새다', '모공', '유출', '유입', '시원하다', '탄성', '스커트', '360', '프로텍터', '기성', '프로텍터', '조차', '기성', '프로텍터', '습도', '유출', '기성', '아웃도어', '360', '교차', '스트레치', '탄성', '원단', '빠져나가다', '발', '라벨', '규어', '컨트롤', '최면', '변신', '속임수', '변신', '초사', '이언', '실감', '배틀', '장면', '재현', '고쿠', '셀', '셀', '영웅', '온화하다', '성향', '피콜로', '고쿠', '전투', '아우르다', '배틀', '장면', '재현', '성용', '플랫', '슈즈', '가죽', '신축', '힐로', '세련되다', '핏', '가죽', '덮이다', '깔창', '신축', '힐', '플랫', '슈즈', '핏', '뱀프', '품격', '발', '옥스포드', '현대인', '가죽', '윙팁', '디테', '기성', '가죽', '안감', '높힌', '스트릿', '트레', '이를', '스포', '누벅', '가죽', '운동화', '깔창', '룩', '플레인', '토', '더비', '인솔', '바운스', '움', '선사', '슈즈입니', '드라이버', '한눈', '드라이버', '뚜껑', '닫히다', '즈', '덮개', '한눈', '면도기', '360', '면도기', '면도', '촘촘', '수염', '면도', '면도', '3분', '급속', '면도', '면도기', '성품', '스탠드', '턱수염', '아버지', '아버지날', '플렉스', '면도', '360', '면도기', '턱수염', '밀도', '털', '급속', '턱수염', '성품', '면도기', '턱수염', '스탠드', '플러그', '밍', '천공', '피로', '스와이핑하', '당기다', '기지', '마찰', '글라이드', '정밀', '인체', '학적', '양손잡이', '벌집', '쉘', '울트라', '위브', '피로', '자외선', '스틱', '포지', '티블리', '미네랄', '센시티브', '자외선', '스틱', '미네랄', '순수', '에션스', '함유', '민감', '자외선', '자단', '스틱', '뮬러', '민감', '너리', '싱', '뮬러', '발라', '자외선', '끈', '적임', '유', '자외선', '노화', '유발', '지워지다', '미네랄', '자외선', '스틱', '연약하다', '민감하다', '파라', '일리', '자외선', '스틱', '자외선', '민감', '일리', '순하다', '뮬러', '에센스', '끈', '적임', '유', '함유', '미네랄', '자외선', '스틱', '지워지다', '자외선', '저작', '극', '염료', '파라', '향가', '린', '제트', '여물', '헹굽니', '아우르다', '싱크', '흐르다', '젖병', '와인잔', '컵', '용기', '헹', '구습', '보완', '온수', '냉수', '구멍', '구멍', '중앙', '싱크대', '가장자리', '5.71', '싱크대', '고이', '싱크', '흘러가다', '분사기', '잔류', '헹굽니', '슬림', '이루다', '디', '스펜서', '싱크', '구멍', '글라스', '린', '얼룩', '유리', '린', '스폿', '실드', '스테인리스', '더톤', '니켈', '스테인리스', '보완', '필', '성용', '모근', '초보자', '성용', '모근', '정밀', '핀셋', '모래알', '모근', '잡아내다', '습니다', '주파', '캡', '맥박', '액티브', '바이브레이터', '통증', '모되', '초보자', '정밀', '핀셋', '핀셋', '머리카락', '살롱', '면도기', '헤드', '민감하다', '통증', '제모', '성품', '근', '면도기', '헤드', '헤드', '파우치', '브러시', '필', '성용', '모근', '모해', '초보자', '살롱', '비키니', '손가락', '정밀', '제모', '성용', '모근', '인체', '학적', '핸들', '제모', '고통스럽다', '헤드', '정밀', '핀셋', '살롱', '시술', '체모', '면도기', '헤드', '민감하다', '통증', '필', '성용', '모근', '가하다', '면도기', '헤드', '민감하다', '근', '헤드', '성용', '모근', '근', '거가', '헤드', '체', '모도', '면도기', '헤드', '캡', '성품', '근', '면도기', '헤드', '헤드', '패드', '파우치', '브러시', '필', '플렉스', '성용', '모근', '근', '클렌징', '브러시', '패드', '뷰티', '헤드', '성용', '모근', '근', '거가', '정밀', '핀셋', '살롱', '시술', '헤드', '털다', '면도', '각질', '거가', '필', '성용', '모근', '각질', '각질', '브러시', '필', '뷰티', '헤드', '성용', '모근', '근', '거가', '뉴', '비너스', '초월', '고전', '퍼포먼스', '인덕션', '쿠킹', '인체', '학적', '미끄럼', '아날로그', '팟캐스팅', '보이스오버', '어플리케이션', '메탈', '아웃', '풋', '아웃', '풋', '인풋', '아날로그', '스위치', '다이얼', '마이크로', '헤드폰', '질량', '판이', '컨버터', '삼각대', '스탠드', '스탠드', '클램프', 'Rx', '보이스오버', '인풋', '아웃', '풋', '상판', '접이식', '다리', '삼각대', '스탠드', '팟캐스팅', '헤드폰', '잭', '컨트롤', '헤드폰', '심전도', '극성', '후방', '격리', '질량', '어프', '램', 'kHz', '컨버터', '접이식', '다리', '삼각대', '스탠드', '스탠드', '삼각대', '스탠드', '레', '레', '레', '어드레스', '램', '후방', '수신', '헤드폰', '잭', '/', '컨트롤', '견고하다', '삼각대', '스탠드', '삼각대', '스탠드', '스탠드', '마운트', '퀴드', '글리터', '아이섀도우', '가루', '날림', '발림', '발색', '손가락', '플랫', '아이섀도우', '브러시', '텍스쳐', '연출', '도포', '드라마틱하다', '연출', '동물실험', '거치', '원료', '함유', '식물성', '유해', '성부', '누', '함유', '퀴드', '글리터', '아이섀도우', '결점', '화장', '비결', '눈길', '사로자다', '아이섀도우', '화장', '연출', '프라이머', '컨실러', '파운데이션', '도포', '마음껏', '아이섀도우', '도포', '텍스쳐', '연출', '도포', '드라마틱하다', '연출', '클러치', '파우치', '입술', '에나', '무한', '개성', '탐험가', '민낯', '화장', '민감하다', '퇴폐', '미녀', '맥시멀', '룩', '연출', '거듭', '컨실러', '잡티', '다크서클', '뭉치다', '촉촉하다', '브러시', '컨실러', '도포', '손가락', '브러시', '스펀지', '톡톡', '촉촉', '카모', '컨실러', '미모', '촉촉하다', '크리미', '밀착', '연출', '도포', '내추럴', '룩', '볼드', '맥시', '룩', '도발', '립', '아이라이너', '컨실러', '기미', '다크서클', '숨다', '봉', '컨실러', '손가락', '브러시', '스폰지', '보습', '카모', '컨실러', '무기', '컨실러', '촉촉하다', '크리미', '뮬러', '제의', '블렌딩됩니', '룩', '연출', '파우더', '발라', '내추럴', '연출', '이루다', '입술', '움', '선사', '변신', '무한', '독창', '탐험가', '집착', '뷰티', '애호가', '화려하다', '맥시멀', '일리', '룩', '입술', '토션', '강화', '코어', '정밀', '수명', '임팩트', '드라이버', '회전력', '미끄러지다', '보완', '열처리', '육', '육', '임팩트', '드라이버', '드라이버', '토션', '수명', '물리다', '미끄러지다', '반복', '지워지다', '레이저', '각인', '코어', '시판', '마더보드', '코어', '로스', '빛나다', '강렬하다', '립', '마치', '비닐', '입술', '탄력', '립밤', '입술', '유니크', '보습', '만큼이나', '입술', '촉촉하다', '오일이', '립밤', '립', '발라', '컬', '인사말', '스크랩', '인사말', '봉투', '장소라', '컬렉션', '모발', '모발', '수염', '턱수염', '면도', '면도기', '8시간', '80분', '밍할', '턱수염', '머리카락', '성품', '플러그', '치실', '칫솔', '32', '치아', '끼', '음식물', '찌꺼기', '플라그', '치실', '치실', '민감하다', '치아', '잇몸', '치실', '타이트', '치아', '찌꺼기', '플라그', '치실', '불소', '치실', '치아', '슬림', '브러시', '칫솔', '타이트', '치아', '파고들다', '초박', '헤드', '구부리다', '브러시', '교정', '착용', '치아', '치아', '끼', '음식물', '찌꺼기', '플라그', '치실', '슬림형', '칫솔', '치실', '치실', '타이트', '치아', '치아', '구강', '치실', '치실', '슬림', '브러시', '칫솔', '컴팩트', '브러시', '치아', '루틴', '초박', '퍼드', '브러시', '치아', '브러시', '손잡이', '닿다', '힘드다', '치아', '키즈', '솝', '퀴즈', '재활용', '용기', '밸런스', '파라', '염료', '첨가', '동물실험', '포장재', '재활용', '재활용', '워시', '입욕', '순수', '향기', '상쾌하다', '모발', '자부심', '믿음', '믿음', '하여금', '웨', '이스트', '재활용', '로컬', '것임', '찌', '감치', '관절', '통증', '발', '관절', '가해', '간편하다', '계단', '덮개', '중형', '뛰어다니다', '힘드다', '중형', '계단', '계단', '리스', '원단', '내딛다', '미끄럽다', '견인', '컬렉션', '계단', '덮개', '미끄럼', '계단', '관절염', '관절', '덮개', '계단', '고통스럽다', '메모리', '고성능', '메모리', '밝다', '메모리', '동기화', '마더보드', '방열', '오버클럭', '메모리', 'iCUE', '마더보드', 'IC', '오버클러킹', '수분', '즈', '닝', '음식물', '달라붙다', '구울', '뒷정리', '식물성', '기름', '즈', '닝', '웍', '바삭', '겉', '뜨겁다', '육즙', '껍질', '음식물', '달라붙다', '반하다', '프리', '웍', '즈', '닝', '음식물', '달라붙다', '구울', '뒷정리', '해산물', '웍', '육즙', '미가', '웍', '뜨겁다', '육즙', '홍합', '스캠피', '즈', '닝', '웍', '음식물', '달라붙다', '웍', '즈', '닝', '달라붙다', '웍', '반하다', '방열', '방열', '헤더', '전압', '메모리', '작동시키다', '극대', '트레이스', '하이', '카운트', '코어', '전력계', '차세대', '선사', 'PC', 'PC', '오실로스코프', '브', '오실로스코프', '납땜', '/', '/', '용접', '곧바로', '오실로스코프', '손잡이', '인코더', '매개변수', '도식', '오실로스코프', '납땜', '단축', '인코더', '패', '러미', '아날로그', '체널', '오실로스코프', '매뉴얼', '면도기', '턱수염', '턱수염', '면도날', '망', '아버지', '아버지', '턱수염', '면도날', '망', '플러그', '클렌징', '브러시', '수세미', '프라이팬', '음식물', '찌꺼기', '오물', '찌들다', '얼룩', '수세미', '제격', '실리카', '마제', '수족관', '코어', '부코', '스핀', '코어', '구력', '강화', '복원력', '풀샷', '스핀', '스핀', '항력', '궤', '상공', '코어', '구력', '웨', '스핀', '골프공', '골프공', '코어', '복원력', '도감', '맨틀', '맨틀', '탄성', '견고하다', '맨틀', '브릭', '아이언', '오른손', '레귤러', '아이언', '굴곡', '해제', '정교하다', '아이언', '견고하다', '아이언', '텅스텐', '주입', '컵', '아이언', 'CG', '정밀', '극대', '순수하다', '감각', '아이언', '누벅', '스포', '깔창', '쿠셔닝', '겉창', '착용', '페우', '착용', '핏', '다크', '천', '겉창', '고무', '성용', '천', '갑피', '신축', '지그재그', '끈', '발의', '본뜨다', '고성능', '고성능', '마운', '간편하다', '컨트롤', '그네', '틱', '저음', '극한', '고성능', '저음', '극한', '극', '직관', '락', '마운트', '간편하다', '도포', '고성능', '입증', '치아', '밝다', '미백', '치약', '치아', '미백', '함유', '함유', '치약', '뮬러', '치아', '밝다', '치아', '법랑', '미백', '치약', '일리', '치약', '함유', '장량', '치아', '하얗다', '미백', '치약', '치아', '얼룩', '말끔히', '미백', '함유', '치약', '일리', '치아', '법랑', '충치', '밝다', '환하다', '멀티', '스테인리스', '겹', '코어', '스테인리스', '움', '분배', '코어']\n",
            "2224\n",
            "2080\n"
          ]
        }
      ]
    },
    {
      "cell_type": "code",
      "execution_count": 160,
      "metadata": {
        "colab": {
          "base_uri": "https://localhost:8080/"
        },
        "id": "s7x2S0t08dfe",
        "outputId": "52cef0e6-fcf2-4ce9-c21d-ff2770c8d4c3"
      },
      "outputs": [
        {
          "output_type": "execute_result",
          "data": {
            "text/plain": [
              "[['<UNK>',\n",
              "  'include',\n",
              "  'heart',\n",
              "  'rate',\n",
              "  'monitoring',\n",
              "  ',',\n",
              "  '14',\n",
              "  '-',\n",
              "  'day',\n",
              "  'battery',\n",
              "  'life',\n",
              "  ',',\n",
              "  'music',\n",
              "  'play',\n",
              "  'control',\n",
              "  'display',\n",
              "  'sleep',\n",
              "  'and',\n",
              "  '<UNK>',\n",
              "  'tracking',\n",
              "  'waterproof',\n",
              "  'smart',\n",
              "  '<UNK>',\n",
              "  '.',\n",
              "  '<EOS>'],\n",
              " ['The',\n",
              "  'touch',\n",
              "  'screen',\n",
              "  'has',\n",
              "  '3',\n",
              "  'rd',\n",
              "  'generation',\n",
              "  '<UNK>',\n",
              "  'glass',\n",
              "  'and',\n",
              "  '<UNK>',\n",
              "  '-',\n",
              "  'fingerprint',\n",
              "  '<UNK>',\n",
              "  'applied',\n",
              "  '.',\n",
              "  '<EOS>'],\n",
              " ['For',\n",
              "  'product',\n",
              "  'inquiries',\n",
              "  ',',\n",
              "  'please',\n",
              "  'send',\n",
              "  'us',\n",
              "  'an',\n",
              "  'email',\n",
              "  '.',\n",
              "  '<EOS>'],\n",
              " ['Hello', ',', 'BBB', 'company', 'AAA', '.', '<EOS>'],\n",
              " ['I',\n",
              "  'would',\n",
              "  'like',\n",
              "  'to',\n",
              "  'introduce',\n",
              "  'the',\n",
              "  '<UNK>',\n",
              "  '<UNK>',\n",
              "  '<UNK>',\n",
              "  '<UNK>',\n",
              "  '<UNK>',\n",
              "  '<UNK>',\n",
              "  '.',\n",
              "  '<EOS>']]"
            ]
          },
          "metadata": {},
          "execution_count": 160
        }
      ],
      "source": [
        "src_seq_val[0:5]"
      ]
    },
    {
      "cell_type": "markdown",
      "metadata": {
        "id": "70nzuKIPf3nX"
      },
      "source": [
        "위의 샘플을 보면 생각보다 너무 많은 단어들이 UNK로 바뀌었습니다. 이게 과연 성능에 어떤 영향을 끼칠까요? 이를 방지할 수 있는 대책은 무엇일까요?\n",
        "\n",
        "정답은 없습니다. 자유롭게 고민해보셔도 좋을 것 같습니다.\n",
        "\n",
        "=> ㅠㅠ"
      ]
    },
    {
      "cell_type": "markdown",
      "metadata": {
        "id": "KoH1M8GofxwV"
      },
      "source": [
        "### UNK 토큰 추가 및 단어집합, token-index 업데이트"
      ]
    },
    {
      "cell_type": "code",
      "execution_count": null,
      "metadata": {
        "id": "lE3iIu_W8-78"
      },
      "outputs": [],
      "source": [
        "# UNK가 추가되면서 vocab과 index도 업데이트를 해야합니다.\n",
        "# 즉 지금 방식으로 처리한다면, 지금 단어 집합에는 <UNK>라는 토큰이 없습니다.\n",
        "# 그래서 UNK 토큰에도 정수를 할당해줘야 합니다.\n",
        "# 지금 0은 padding에서 사용하고 있으니 아래의 과정은 마지막에 <UNK>를 추가해보는 것입니다."
      ]
    },
    {
      "cell_type": "code",
      "execution_count": 164,
      "metadata": {
        "colab": {
          "base_uri": "https://localhost:8080/"
        },
        "id": "KRl3l4bE9cVh",
        "outputId": "d4078712-f9d5-4a18-fdcb-2d423a71f100"
      },
      "outputs": [
        {
          "output_type": "execute_result",
          "data": {
            "text/plain": [
              "('é', 7116)"
            ]
          },
          "metadata": {},
          "execution_count": 164
        }
      ],
      "source": [
        "# 입력 시퀀스의 마지막 토큰과 정수인코딩값 확인\n",
        "list(src_to_index.items())[-1]"
      ]
    },
    {
      "cell_type": "code",
      "execution_count": 165,
      "metadata": {
        "colab": {
          "base_uri": "https://localhost:8080/"
        },
        "id": "yRuj2FNmgfA3",
        "outputId": "3f78268c-d7b4-4648-b880-e160b8892fa7"
      },
      "outputs": [
        {
          "output_type": "execute_result",
          "data": {
            "text/plain": [
              "7116"
            ]
          },
          "metadata": {},
          "execution_count": 165
        }
      ],
      "source": [
        "# 현재 입력 시퀀스에 사용된 token들의 개수 확인\n",
        "len(src_vocab)"
      ]
    },
    {
      "cell_type": "code",
      "source": [
        "list(tar_to_index.items())[-1]"
      ],
      "metadata": {
        "colab": {
          "base_uri": "https://localhost:8080/"
        },
        "id": "_xRi-3SpWFsS",
        "outputId": "edc7a12f-1db6-4284-a440-e546fd0de557"
      },
      "execution_count": 166,
      "outputs": [
        {
          "output_type": "execute_result",
          "data": {
            "text/plain": [
              "('힘쓰다', 6238)"
            ]
          },
          "metadata": {},
          "execution_count": 166
        }
      ]
    },
    {
      "cell_type": "code",
      "source": [
        "len(tar_vocab)"
      ],
      "metadata": {
        "colab": {
          "base_uri": "https://localhost:8080/"
        },
        "id": "aVuozGF1WIyz",
        "outputId": "d4b5c156-55da-441a-d8b0-dcf7247fa7fd"
      },
      "execution_count": 167,
      "outputs": [
        {
          "output_type": "execute_result",
          "data": {
            "text/plain": [
              "6238"
            ]
          },
          "metadata": {},
          "execution_count": 167
        }
      ]
    },
    {
      "cell_type": "code",
      "execution_count": 168,
      "metadata": {
        "id": "2hQsCc5i9aw2"
      },
      "outputs": [],
      "source": [
        "# 우리는 마지막 토큰 뒤에 UNK 토큰을 추가해봅시다\n",
        "# 이 때 입력 시퀀스(src_to_index)와 출력시퀀스(tar_to_index)에 모두 사용해줘야 합니다.\n",
        "src_to_index[\"<UNK>\"] = 7117\n",
        "tar_to_index[\"<UNK>\"] = 6239"
      ]
    },
    {
      "cell_type": "code",
      "execution_count": 169,
      "metadata": {
        "colab": {
          "base_uri": "https://localhost:8080/"
        },
        "id": "09pOS9MtaUVJ",
        "outputId": "300636f6-539b-44a0-df32-f86142c8b8ff"
      },
      "outputs": [
        {
          "output_type": "stream",
          "name": "stdout",
          "text": [
            "[('!', 1), ('\"', 2), ('$10,000', 3), ('$10,000만', 4), ('$100', 5)]\n",
            "[('<UNK>', 6239), ('힘쓰다', 6238), ('힘들다', 6237), ('힘', 6236)]\n"
          ]
        }
      ],
      "source": [
        "# 입력시퀀스의 단어집합 확인\n",
        "print(list(tar_to_index.items())[:5])\n",
        "print(list(tar_to_index.items())[-1:-5:-1])"
      ]
    },
    {
      "cell_type": "code",
      "execution_count": 170,
      "metadata": {
        "colab": {
          "base_uri": "https://localhost:8080/"
        },
        "id": "ZZqYpbTe-AK1",
        "outputId": "b4121a1d-9dbe-4995-d1a9-bebbd52fcbe6"
      },
      "outputs": [
        {
          "output_type": "stream",
          "name": "stdout",
          "text": [
            "[('!', 1), ('\"', 2), ('$1,000,000', 3), ('$100', 4), ('$30', 5)]\n",
            "[('<UNK>', 7117), ('é', 7116), ('zoom', 7115), ('zones', 7114)]\n"
          ]
        }
      ],
      "source": [
        "# 출력시퀀스의 단어집합 확인\n",
        "print(list(src_to_index.items())[:5])\n",
        "print(list(src_to_index.items())[-1:-5:-1])"
      ]
    },
    {
      "cell_type": "markdown",
      "source": [
        "SRC - EOS : 208 <br>\n",
        "TAR - SOS : 339 <br>\n",
        "TAR - EOS : 338 <br>\n",
        "SRC - UNK : 7117 <br>\n",
        "TAR - UNK : 6239 "
      ],
      "metadata": {
        "id": "kCGQ8MRFWYyG"
      }
    },
    {
      "cell_type": "markdown",
      "metadata": {
        "id": "-E5zRRZuhQa_"
      },
      "source": [
        "### 정수 인코딩"
      ]
    },
    {
      "cell_type": "code",
      "execution_count": 171,
      "metadata": {
        "id": "LHRGJgfs-axo"
      },
      "outputs": [],
      "source": [
        "# 평가 데이터에 대해서  정수 인코딩을 진행해주세요!\n",
        "# 이 과정에서 중요한 점은 우린 학습데이터만 가지고 있으니 학습 데이터에서 사용했던 toekn-index로 인코딩을 진행해야 합니다!\n",
        "# 참고 : 어떻게 하면 효율적 혹은 빠르게 할까요?\n",
        "\n",
        "# encoder의 입력값 정수 인코딩 진행\n",
        "encoder_input_val = []\n",
        "for i in range(10000):\n",
        "    encoded_line = []\n",
        "    temp = src_seq_tr[i]\n",
        "    for word in temp:\n",
        "        encoded_line.append(src_to_index[word])\n",
        "    encoder_input_val.append(torch.Tensor(encoded_line).long())\n",
        "\n",
        "\n",
        "# 우선 decoder에서 사용하는 문장에 대해 정수인코딩 진행\n",
        "decoder_input_val = []\n",
        "for i in range(10000):\n",
        "    encoded_line = []\n",
        "    temp = tar_seq_tr[i]\n",
        "    for word in temp:\n",
        "        encoded_line.append(tar_to_index[word])\n",
        "    encoded_line.pop(-1)        # <EOS> 빼버리기!\n",
        "    decoder_input_val.append(torch.Tensor(encoded_line).long())\n",
        "\n",
        "\n",
        "# 다만 decoder의 출력값은 <SOS>들어가면 안되니 첫번째 토큰은 빼주기\n",
        "decoder_target_val = []\n",
        "for i in range(10000):\n",
        "  timestep = 0\n",
        "  encoded_line = []\n",
        "  temp = tar_seq_tr[i]\n",
        "  for word in temp:\n",
        "    if timestep > 0:\n",
        "      encoded_line.append(tar_to_index[word])\n",
        "    timestep = timestep + 1\n",
        "  \n",
        "  decoder_target_val.append(torch.Tensor(encoded_line).long())"
      ]
    },
    {
      "cell_type": "markdown",
      "metadata": {
        "id": "ws8RA6UThh0t"
      },
      "source": [
        "### Padding"
      ]
    },
    {
      "cell_type": "code",
      "execution_count": 172,
      "metadata": {
        "id": "4Qc_bb02-s6_"
      },
      "outputs": [],
      "source": [
        "# 주의사항: 여기에 사용된 값을은 정수일까요?\n",
        "\n",
        "batch_first = True\n",
        "\n",
        "encoder_input_val = pad_sequence(encoder_input_val, batch_first=batch_first).long()\n",
        "decoder_input_val = pad_sequence(decoder_input_val, batch_first=batch_first).long()\n",
        "decoder_target_val = pad_sequence(decoder_target_val, batch_first=batch_first).long()"
      ]
    },
    {
      "cell_type": "code",
      "execution_count": 189,
      "metadata": {
        "id": "E7DOj62GnAfX"
      },
      "outputs": [],
      "source": [
        "val_data = tuple([encoder_input_val, decoder_input_val, decoder_target_val])"
      ]
    },
    {
      "cell_type": "markdown",
      "metadata": {
        "id": "WlZl7q5cxscM"
      },
      "source": [
        "# Dataset\n",
        "\n",
        "실습코드에서 사용한 것과 동일한 구조입니다! \n",
        "\n",
        "사실 앞서 처리가 진행되었던 모든 과정은 Dataset에서 __get_item__ 함수 내에서 처리해서 값을 리턴할 수도 있습니다.\n",
        "\n",
        "다만 설명을 위해 이번 과제에서는 과정을 단계별로 설명 드렸습니다. 추후에 진행하실 때엔 __get_item__에서 구현해보셔도 좋을 것 같아요!\n",
        "\n",
        "그리고 일부 단계의 경우 임의로 처리된 것들이 있습니다.(tokenization부터 stopwords 등등) 가령 이메일, 전화번호와 같은 단어들은 \\<UNK\\>처럼 새로운 토큰을 이용해서 처리할 수도 있으며 목적에 따라서 다른 tokenziation을 사용할 수 있습니다.\n",
        "\n",
        "**(참고)**\n",
        "\n",
        " __get_item__말고 사전에 전처리를 다한 상태로 사용할 경우 사실 사용할 모든 데이터를 메모리에 올려놓고 사용하는 것과 같습니다.(변수에 할당되어 있으니)\n",
        "\n",
        "그런데 우리가 데이터가 매매매매매우 많아진다면, 메모리가 부족해질 수도 있지 않을까요? 그렇기 때문에 때에 따라 data를 필요할 때 전처리를 하고 반환하기도 합니다. 여기서 data가 필요할때란 결국 __get_item__을 호출할 때가 될 것입니다.\n",
        "\n",
        "정리하자면, 꼭 모든 데이터를 한번에 다 전처리해놓도 준비해놓지 않고도, 필요할 때 마다(get_item이 호출될 때마다) 전처리해서 결과를 전달하는 방법도 있습니다.\n",
        "\n",
        "다만 해당 과제에서는 Seq2Seq에 익숙해지는 것을 목표로 하기에 이러한 점만 알고 가셔도 충분하기도 하고, 오히려 사전에 다 처리해놓는 현재 방식이 더 효율적일 수도 있습니다. 그렇기 때문에 이 점만 알고 가셔도 좋을 것 같습니다!"
      ]
    },
    {
      "cell_type": "code",
      "execution_count": 174,
      "metadata": {
        "id": "j5lj6ZOPxpcj"
      },
      "outputs": [],
      "source": [
        "from torch.utils.data import Dataset, DataLoader"
      ]
    },
    {
      "cell_type": "code",
      "execution_count": 175,
      "metadata": {
        "id": "xc7ZqjGmx1dk"
      },
      "outputs": [],
      "source": [
        "class textDataset(Dataset):\n",
        "  def __init__(self, data, batch_first=True):\n",
        "    super(textDataset, self).__init__()\n",
        "    # tuple asgginment를 활용한다면 굳이 argument로 모든 데이터를 받지 않아도 됩니다!\n",
        "    enc_inp, dec_inp, dec_out = data\n",
        "\n",
        "    # 내부에서 사용할 변수들 정리하는 것으로, 모든 데이터가 torch.LongTensor로 정리된 값들이 저장됩니다.\n",
        "    self.enc_inp = enc_inp\n",
        "    self.batch_first= batch_first\n",
        "    self.dec_inp = dec_inp\n",
        "    self.dec_out = dec_out\n",
        "\n",
        "  def __getitem__(self, idx):\n",
        "     return self.enc_inp[idx], self.dec_inp[idx],self.dec_out[idx]\n",
        "\n",
        "  def __len__(self):\n",
        "      return self.enc_inp.size(int(~self.batch_first))\n",
        "\n"
      ]
    },
    {
      "cell_type": "code",
      "execution_count": 190,
      "metadata": {
        "id": "Z30_EO0uxrgH"
      },
      "outputs": [],
      "source": [
        "train_dataset = textDataset(train_data, batch_first=batch_first)\n",
        "val_dataset = textDataset(val_data, batch_first=batch_first)"
      ]
    },
    {
      "cell_type": "code",
      "execution_count": 191,
      "metadata": {
        "colab": {
          "base_uri": "https://localhost:8080/"
        },
        "id": "J_AqR38AoB5n",
        "outputId": "68478300-047b-4799-edea-af106999c1f3"
      },
      "outputs": [
        {
          "output_type": "execute_result",
          "data": {
            "text/plain": [
              "(tensor([ 535,    6, 4240, 3445, 6557, 3595, 6486,    9, 1223,  535, 3662, 7104,\n",
              "         2674, 2187, 2688, 1726, 7038, 6793,   12,  208,    0,    0,    0,    0,\n",
              "            0,    0,    0,    0,    0,    0,    0,    0,    0,    0,    0,    0,\n",
              "            0,    0,    0,    0,    0,    0]),\n",
              " tensor([ 339,  999, 1976, 4168, 1705, 1110,   17, 4611, 3923,  647, 5917,  704,\n",
              "         4168,  799, 5917, 4885, 5917,   19,    0,    0,    0,    0,    0,    0,\n",
              "            0,    0,    0,    0,    0,    0,    0,    0,    0,    0,    0,    0,\n",
              "            0,    0,    0,    0,    0,    0,    0,    0,    0]),\n",
              " tensor([ 999, 1976, 4168, 1705, 1110,   17, 4611, 3923,  647, 5917,  704, 4168,\n",
              "          799, 5917, 4885, 5917,   19,  338,    0,    0,    0,    0,    0,    0,\n",
              "            0,    0,    0,    0,    0,    0,    0,    0,    0,    0,    0,    0,\n",
              "            0,    0,    0,    0,    0,    0,    0,    0,    0]))"
            ]
          },
          "metadata": {},
          "execution_count": 191
        }
      ],
      "source": [
        "val_dataset[0]"
      ]
    },
    {
      "cell_type": "markdown",
      "metadata": {
        "id": "rYq6eGm0qaOh"
      },
      "source": [
        "# Model"
      ]
    },
    {
      "cell_type": "code",
      "execution_count": 192,
      "metadata": {
        "id": "ce3NfbA2qfSV"
      },
      "outputs": [],
      "source": [
        "import torch.nn as nn\n",
        "import torch.functional as F"
      ]
    },
    {
      "cell_type": "markdown",
      "metadata": {
        "id": "zcThBf_DqbuT"
      },
      "source": [
        "## Encoder\n",
        "\n",
        "본 모델에서는 LSTM를 기본 단위로 가지는 Seq2Seq 모델을 구성할 것\n",
        "\n",
        "참고 [레퍼런스](https://pytorch.org/docs/stable/generated/torch.nn.LSTM.html)"
      ]
    },
    {
      "cell_type": "code",
      "execution_count": 193,
      "metadata": {
        "id": "A719R9uZqZG2"
      },
      "outputs": [],
      "source": [
        "class Encoder(nn.Module):\n",
        "  def __init__(self, in_size, hid_size, tok_size, bat_first=True, num_lay=1, bidirect=False):\n",
        "    super(Encoder, self).__init__()\n",
        "    self.hidden_size = hid_size\n",
        "\n",
        "    self.embedding = nn.Embedding(tok_size, in_size)\n",
        "\n",
        "    self.num_layers = num_lay\n",
        "    self.num_directional = 2 if bidirect else 1\n",
        "\n",
        "    self.batch_first = bat_first\n",
        "    self.lstm = nn.LSTM(in_size, \n",
        "                        hid_size, \n",
        "                        num_layers = num_lay,\n",
        "                        batch_first = bat_first,\n",
        "                        bidirectional=bidirect)\n",
        "\n",
        "  def forward(self, x, hidden):\n",
        "    \"\"\"\n",
        "    x: (batch_size, seq_len)\n",
        "    hidden: (batch_size, seq_len, hidden_size)\n",
        "    \"\"\"\n",
        "\n",
        "    # emb : (batch_size, seq_len, input_size)\n",
        "    emb = self.embedding(x)\n",
        "\n",
        "    # out : (batch_size, seq_len, hidden_size)\n",
        "    # hidden: (num_layers, batch_size, hidden_size)\n",
        "    out, hidden = self.lstm(emb, hidden)\n",
        "    return out, hidden"
      ]
    },
    {
      "cell_type": "markdown",
      "metadata": {
        "id": "Yu4CMe_5JN2I"
      },
      "source": [
        "## Decoder\n",
        "\n",
        "decoder의 hidden이 아닌 out으로 예측하고, 그 값 하나를 이용해서 다음 값 계산에 사용하기 때문에 seq_len =1이 된다."
      ]
    },
    {
      "cell_type": "code",
      "execution_count": 194,
      "metadata": {
        "id": "Wc1u4z_k4RKp"
      },
      "outputs": [],
      "source": [
        "class Decoder(nn.Module):\n",
        "  def __init__(self, in_size, hid_size, tok_size, bat_first=True, num_lay=1, bidirect=False):\n",
        "    super(Decoder, self).__init__()\n",
        "    self.hidden_size = hid_size\n",
        "\n",
        "    self.embedding = nn.Embedding(tok_size, in_size)\n",
        "\n",
        "    self.num_layers = num_lay\n",
        "    self.num_directional = 2 if bidirect else 1\n",
        "    self.batch_first = bat_first\n",
        "    self.lstm = nn.LSTM(in_size, \n",
        "                        hid_size, \n",
        "                        num_layers = num_lay,\n",
        "                        batch_first = bat_first,\n",
        "                        bidirectional=bidirect)\n",
        "    self.relu =  nn.ReLU()\n",
        "\n",
        "    self.fc1 = nn.Linear(hidden_size, tok_size)\n",
        "    \n",
        "  def forward(self, x, hidden):\n",
        "    \"\"\"\n",
        "    x: (batch_size, seq_len=1)\n",
        "    hidden: (num_directional*num_layers, batch_size, hidden_size)\n",
        "    \"\"\"\n",
        "\n",
        "    # emb: (batch_size, seq_len=1, input_size)\n",
        "    emb = self.embedding(x[:, 0]).unsqueeze(1)\n",
        "\n",
        "    # out : (batch_size, seq_len=1, hidden_size)\n",
        "    out = self.relu(emb)\n",
        "\n",
        "    # hidden: (num_layers, batch_size, hidden_size)\n",
        "    out, hidden = self.lstm(out, hidden)\n",
        "\n",
        "    # out: (batch_size, tok_size) : batch의 element별로 token에 대해 예측값을 반환\n",
        "    out = self.fc1(out.squeeze(1))\n",
        "    return out, hidden"
      ]
    },
    {
      "cell_type": "code",
      "execution_count": 195,
      "metadata": {
        "id": "X1qHG3DT4dSH"
      },
      "outputs": [],
      "source": [
        "def init_hidden(self, x):\n",
        "  \"\"\"\n",
        "  레퍼런스 참고\n",
        "  when batch_first=True (num_directional*num_layers, batch_size, hidden_size)\n",
        "  \"\"\"\n",
        "  batch_size = x.size(0) if self.batch_first else x.size(1)\n",
        "  h0 = torch.zeros(self.num_layers*self.num_directional, batch_size, self.hidden_size).to(device)\n",
        "  c0 = torch.zeros(self.num_layers*self.num_directional, batch_size, self.hidden_size).to(device)\n",
        "  return h0, c0"
      ]
    },
    {
      "cell_type": "markdown",
      "metadata": {
        "id": "toqV7UDhPqN6"
      },
      "source": [
        "## Seq2Seq"
      ]
    },
    {
      "cell_type": "code",
      "execution_count": 196,
      "metadata": {
        "id": "YIzlUzPlJK3W"
      },
      "outputs": [],
      "source": [
        "class Seq2Seq(nn.Module):\n",
        "  def __init__(self, enc, dec):\n",
        "    super(Seq2Seq, self).__init__()\n",
        "    assert enc.hidden_size == dec.hidden_size\n",
        "    assert enc.num_layers == dec.num_layers\n",
        "\n",
        "    self.encoder = enc\n",
        "    self.decoder = dec\n",
        "\n",
        "  def forward(self, enc_inp, dec_inp, use_teacher_force=True):\n",
        "    \"\"\"\n",
        "    enc_inp : (batch_size, enc_seq_len)\n",
        "    dec_inp : (batch_size, dec_seq_len)\n",
        "    \"\"\"\n",
        "\n",
        "    # 어떤 값을 써야할까요?\n",
        "    batch_size = enc_inp.size(0)\n",
        "    enc_seq_len = enc_inp.size(1)\n",
        "    dec_seq_len = dec_inp.size(1)\n",
        "    token_size =  self.decoder.fc1.out_features\n",
        "\n",
        "    # decoder 확률(점수) 예측값 저장\n",
        "    # outputs: (batch_size, seq_len, token_size)\n",
        "    outputs = torch.zeros(batch_size, dec_seq_len, token_size)\n",
        "\n",
        "    # Step 0: Encoder의 forward에 필요한 초기 hidden, cell state 계산\n",
        "    enc_init_hidden = init_hidden(self.encoder, enc_inp)\n",
        "\n",
        "    # Step 1: Encoder를 이용하여 context 벡터 생성\n",
        "    # 참고: context 벡터는 output가 아님\n",
        "    _, context = self.encoder(enc_inp, enc_init_hidden)\n",
        "\n",
        "    # Step 2: Decoder의 초기 입력값을 먼저 할당\n",
        "    # 참고: 첫 입력값으로 decoder의 입력값을 이용할 수 있음\n",
        "    # 주의할 사항 \n",
        "    #    - (batch_size, dec_seq_len)의 차원을 맞추기 \n",
        "    #    - 이렇게 하는 이유는 decoder에서 forward에 들어가야하는 input의 구조(차원)이 정해져 있기 때문\n",
        "    dec_inp_t = dec_inp[:, 0].unsqueeze(-1)\n",
        "\n",
        "    # Step 3: Decoder를 이용하여 하나하나 계산(예측)하고, 입력값 업데이트하기\n",
        "    # 주의사항\n",
        "    #    - Encoder의 최종 리턴한 hidden state가 context 벡터고 이게 decoder에서 init_hidden에 해당\n",
        "    #    - 앞서 첫 입력값은 직접 확인했으니 다음 입력값부터 하기에 range는 1부터 시작하는 구조로?!\n",
        "    dec_hidden = context\n",
        "    for t in range(1, dec_seq_len):\n",
        "      out, dec_hidden = self.decoder(dec_inp_t, dec_hidden)\n",
        "      outputs[:, t, :] = out\n",
        "\n",
        "      if use_teacher_force:\n",
        "        # 주의사항 : 차원 맞추기 \n",
        "        # 해당 경우 decoder의 입력값을 가져다가 사용해야 합\n",
        "        dec_inp_t = dec_inp[:, t].unsqueeze(-1)\n",
        "      else:\n",
        "        # 주의사항 : 차원 맞추기 \n",
        "        # 해당 경우 이번 시점의 예측값을 다음 시점의 입력값으로 해야함\n",
        "        dec_inp_t = out.argmax(1, keepdim=True)\n",
        "\n",
        "    return outputs"
      ]
    },
    {
      "cell_type": "markdown",
      "metadata": {
        "id": "kSfBWsX0Po1I"
      },
      "source": [
        "# Setup"
      ]
    },
    {
      "cell_type": "code",
      "execution_count": 197,
      "metadata": {
        "id": "2VSNdoUUPoMS"
      },
      "outputs": [],
      "source": [
        "# padding에 해당하는 token도 고려하기\n",
        "enc_token_size = len(src_to_index)+1\n",
        "dec_token_size = len(tar_to_index)+1\n",
        "\n",
        "# Hyper-parameter!!\n",
        "# RAM 메모리 이슈로 다운 되는 경우 때문에 줄였습니다.\n",
        "input_size = 4\n",
        "hidden_size = 4"
      ]
    },
    {
      "cell_type": "code",
      "execution_count": 198,
      "metadata": {
        "id": "edfUD7SOP6pM"
      },
      "outputs": [],
      "source": [
        "encoder = Encoder(input_size, hidden_size, enc_token_size)\n",
        "decoder = Decoder(input_size, hidden_size, dec_token_size)\n",
        "\n",
        "model = Seq2Seq(encoder, decoder).to(device)"
      ]
    },
    {
      "cell_type": "markdown",
      "metadata": {
        "id": "s3wAllAwQQbc"
      },
      "source": [
        "## 생략된 내용들\n",
        "\n",
        "모델 생성하는 과정에서 초기값이나 등등 부수적인 부분들은 현재 과제 코드상에서 생략되었습니다. 모델 개선에 관심있으신 분들은 수행하셔도 좋습니다."
      ]
    },
    {
      "cell_type": "code",
      "execution_count": null,
      "metadata": {
        "id": "nNlOosmzQP4W"
      },
      "outputs": [],
      "source": [
        "# ~~~"
      ]
    },
    {
      "cell_type": "markdown",
      "metadata": {
        "id": "ofoXIctbQigu"
      },
      "source": [
        "# Train"
      ]
    },
    {
      "cell_type": "code",
      "execution_count": 200,
      "metadata": {
        "id": "NUnTP6xbQlV1"
      },
      "outputs": [],
      "source": [
        "def train(model, loader, optimizer, cri):\n",
        "  model.train()\n",
        "  loss_ep = 0\n",
        "\n",
        "  for enc_input, dec_input, dec_target in loader:\n",
        "    optimizer.zero_grad()\n",
        "\n",
        "    # output: (batch_size, seq_len, token_size)\n",
        "    output = model(enc_input.to(device), dec_input.to(device), use_teacher_force=True)\n",
        "    token_size = output.size(-1)\n",
        "\n",
        "    # 지금 [문장, 문장, ...] 구조에서 문장들을 그냥 순서대로 이어 붙인 것\n",
        "    # loss 계산을 위한 조정\n",
        "    # output : (batch_size * seq_len, toekn_size)\n",
        "    output = output.view(-1, token_size)\n",
        "\n",
        "    # 위와 동일한 방식으로 label 값도 조정\n",
        "    # dec_target: (batch_size, seq_len)\n",
        "    # target (batch_size*seq_len,)\n",
        "    target = dec_target.view(-1)\n",
        "\n",
        "    loss = cri(output, target)\n",
        "\n",
        "    loss.backward()\n",
        "    optimizer.step()\n",
        "\n",
        "    loss_ep += loss.item()\n",
        "  return loss_ep/len(loader)"
      ]
    },
    {
      "cell_type": "markdown",
      "metadata": {
        "id": "E-g8kExh9V87"
      },
      "source": [
        "# Evaluation"
      ]
    },
    {
      "cell_type": "code",
      "execution_count": 201,
      "metadata": {
        "id": "OM_5gT6uCXMh"
      },
      "outputs": [],
      "source": [
        "import pandas as pd"
      ]
    },
    {
      "cell_type": "code",
      "execution_count": 202,
      "metadata": {
        "id": "y6mXBkq69VSW"
      },
      "outputs": [],
      "source": [
        "def val(model, loader, cri):\n",
        "  # 예측값도 확인하기 위해 예측값 저장하는 값\n",
        "  result = torch.Tensor()\n",
        "\n",
        "  model.eval()\n",
        "  loss_ep = 0\n",
        "  with torch.no_grad():\n",
        "    for enc_input, dec_input, dec_target in loader:\n",
        "      # 여기서 output은 en/decoder가 아닌 seq2seq의 결과값\n",
        "      # output: (batch_size, seq_len, token_size)\n",
        "      output = model(enc_input.to(device), dec_input.to(device), use_teacher_force=False)\n",
        "\n",
        "      # 평가할 땐 loss 말고 예측값도 반환하기 위해 저장\n",
        "      # decode_idx = 해당 시점에서 예측한 token의 정수인코딩값. \n",
        "      # 주어진 확률(점수)값에서 최대값을 선택하기\n",
        "      decode_idx = output.argmax(2).detach().cpu()\n",
        "      result = torch.cat((result, decode_idx), dim=0)\n",
        "  \n",
        "      # loss 계산을 위한 조정\n",
        "      # output : (batch_size * seq_len, toekn_size)\n",
        "      token_size = output.size(-1)\n",
        "      output = output.view(-1, token_size)\n",
        "\n",
        "      # 위와 동일한 방식으로 label 값도 조정\n",
        "      # dec_target: (batch_size, seq_len)\n",
        "      # target (batch_size*seq_len,)\n",
        "      target = dec_target.view(-1)\n",
        "\n",
        "      loss = cri(output, target)\n",
        "      loss_ep += loss.item()\n",
        "  return loss_ep/len(loader), result"
      ]
    },
    {
      "cell_type": "code",
      "execution_count": 203,
      "metadata": {
        "id": "9m6F7hknAqtm"
      },
      "outputs": [],
      "source": [
        "# 아래의 dictionary는 정수 인코딩 값을 넣으면 해당하는 원래 알파벳이 나옴\n",
        "# padding에 사용한 0도 decode해줘야 하고 이 때 ''으로 decode해주기\n",
        "index_to_src = dict((i, char) for char, i in src_to_index.items())\n",
        "index_to_tar = dict((i, char) for char, i in tar_to_index.items())\n",
        "index_to_tar[0] = ''\n",
        "index_to_src[0] = ''"
      ]
    },
    {
      "cell_type": "code",
      "execution_count": 204,
      "metadata": {
        "id": "F9c8z_7BAncv"
      },
      "outputs": [],
      "source": [
        "def decode(model, sample):\n",
        "  enc_input, dec_input, dec_output = sample\n",
        "  enc_input = enc_input.unsqueeze(0)\n",
        "  dec_input = dec_input.unsqueeze(0)\n",
        "  \n",
        "  model.eval()\n",
        "  with torch.no_grad():\n",
        "    output = model(enc_input.to(device), dec_input.to(device), use_teacher_force=False)\n",
        "    decode_idx = output.argmax(2)\n",
        "\n",
        "  sentence_inp = pd.Series(enc_input.squeeze(0).detach().cpu().numpy()).apply(lambda x: index_to_src[x])\n",
        "  sentence_out = pd.Series(decode_idx.squeeze(0).detach().cpu().numpy()).apply(lambda x: index_to_tar[x])\n",
        "  sentence_act = pd.Series(dec_output.detach().cpu().numpy()).apply(lambda x: index_to_tar[x])\n",
        "\n",
        "  print(f\"입력 문장 : {' '.join(sentence_inp.tolist())}\")\n",
        "  print(f\"실제 문장 : {' '.join(sentence_act.tolist())}\")\n",
        "  print(f\"예측 문장 : {' '.join(sentence_out.tolist())}\")"
      ]
    },
    {
      "cell_type": "code",
      "execution_count": 205,
      "metadata": {
        "id": "9lARsr3wSyX8"
      },
      "outputs": [],
      "source": [
        "import time\n",
        "from tqdm import tqdm\n",
        "from torch import optim"
      ]
    },
    {
      "cell_type": "code",
      "execution_count": 206,
      "metadata": {
        "colab": {
          "base_uri": "https://localhost:8080/"
        },
        "id": "WIuESkCQSsSm",
        "outputId": "a9dfeade-2f7f-4e1c-d1f4-c3ccd3ab2ea6"
      },
      "outputs": [
        {
          "output_type": "stream",
          "name": "stderr",
          "text": [
            "\n",
            "  0%|          | 0/10 [00:00<?, ?it/s]\u001b[A\n",
            " 10%|█         | 1/10 [02:55<26:21, 175.76s/it]\u001b[A"
          ]
        },
        {
          "output_type": "stream",
          "name": "stdout",
          "text": [
            "Epoch : 0\n",
            "Train Loss : 8.8043\n",
            "Val Loss : 8.4152\n",
            "입력 문장 : We will send a notification message one day before your reservation . <EOS>                             \n",
            "실제 문장 : 예약 하루 전 에 알림 메시지 를 보내다 드리다 . <EOS>                                  \n",
            "예측 문장 :  사용 되어다 되다 되다 되다 되다 되다 되다 되다 되다 되다 되다 되다 되다 되다 되다 되다 되다 되다 되다 되다 되다 되다 되다 되다 되다 되다 되다 되다 되다 되다 되다 되다 되다 되다 되다 되다 되다 되다 되다 되다 되다 되다 되다\n"
          ]
        },
        {
          "output_type": "stream",
          "name": "stderr",
          "text": [
            "\n",
            " 20%|██        | 2/10 [05:47<23:08, 173.61s/it]\u001b[A\n",
            " 30%|███       | 3/10 [08:39<20:09, 172.76s/it]\u001b[A"
          ]
        },
        {
          "output_type": "stream",
          "name": "stdout",
          "text": [
            "Epoch : 2\n",
            "Train Loss : 7.2692\n",
            "Val Loss : 6.7499\n",
            "입력 문장 : We will send a notification message one day before your reservation . <EOS>                             \n",
            "실제 문장 : 예약 하루 전 에 알림 메시지 를 보내다 드리다 . <EOS>                                  \n",
            "예측 문장 :  되다 에서 하고 하고 하고 하고 되다 되다 되다 되다 되다 되다 되다 되다 되다 되다 되다 되다 되다 되다 되다 되다 되다 되다 되다 되다 되다 되다 되다 되다 되다 되다 되다 되다 되다 되다 되다 되다 되다 되다 되다 되다 되다 되다\n"
          ]
        },
        {
          "output_type": "stream",
          "name": "stderr",
          "text": [
            "\n",
            " 40%|████      | 4/10 [11:31<17:13, 172.29s/it]\u001b[A\n",
            " 50%|█████     | 5/10 [14:22<14:19, 172.00s/it]\u001b[A"
          ]
        },
        {
          "output_type": "stream",
          "name": "stdout",
          "text": [
            "Epoch : 4\n",
            "Train Loss : 5.2888\n",
            "Val Loss : 4.7286\n",
            "입력 문장 : We will send a notification message one day before your reservation . <EOS>                             \n",
            "실제 문장 : 예약 하루 전 에 알림 메시지 를 보내다 드리다 . <EOS>                                  \n",
            "예측 문장 :  ? 하다 ? 하다 하다 <EOS>                                      \n"
          ]
        },
        {
          "output_type": "stream",
          "name": "stderr",
          "text": [
            "\n",
            " 60%|██████    | 6/10 [17:14<11:28, 172.02s/it]\u001b[A\n",
            " 70%|███████   | 7/10 [20:06<08:35, 171.78s/it]\u001b[A"
          ]
        },
        {
          "output_type": "stream",
          "name": "stdout",
          "text": [
            "Epoch : 6\n",
            "Train Loss : 3.4813\n",
            "Val Loss : 3.1004\n",
            "입력 문장 : We will send a notification message one day before your reservation . <EOS>                             \n",
            "실제 문장 : 예약 하루 전 에 알림 메시지 를 보내다 드리다 . <EOS>                                  \n",
            "예측 문장 :  하다 하다 하다 하다                                        \n"
          ]
        },
        {
          "output_type": "stream",
          "name": "stderr",
          "text": [
            "\n",
            " 80%|████████  | 8/10 [22:57<05:43, 171.65s/it]\u001b[A\n",
            " 90%|█████████ | 9/10 [25:48<02:51, 171.51s/it]\u001b[A"
          ]
        },
        {
          "output_type": "stream",
          "name": "stdout",
          "text": [
            "Epoch : 8\n",
            "Train Loss : 2.4251\n",
            "Val Loss : 2.2878\n",
            "입력 문장 : We will send a notification message one day before your reservation . <EOS>                             \n",
            "실제 문장 : 예약 하루 전 에 알림 메시지 를 보내다 드리다 . <EOS>                                  \n",
            "예측 문장 :  하다 하다 하다 하다 하다                                       \n"
          ]
        },
        {
          "output_type": "stream",
          "name": "stderr",
          "text": [
            "\n",
            "100%|██████████| 10/10 [28:39<00:00, 171.96s/it]\n"
          ]
        }
      ],
      "source": [
        "# 학습은 아래의 코드를 이용하여 진행\n",
        "\n",
        "train_lodaer = DataLoader(train_dataset, batch_size=1024)\n",
        "val_loader = DataLoader(val_dataset, batch_size=1024, shuffle=False)\n",
        "\n",
        "optimizer = optim.Adam(model.parameters(), lr=1e-2)\n",
        "criterion = nn.CrossEntropyLoss()\n",
        "\n",
        "train_loss = []\n",
        "val_loss = []\n",
        "\n",
        "epochs = 10\n",
        "for epoch in tqdm(range(epochs)):\n",
        "  start = time.time()\n",
        "\n",
        "  train_loss_ep = train(model,train_lodaer,optimizer, criterion)\n",
        "  val_loss_ep, val_token = val(model, val_loader, criterion)\n",
        "\n",
        "  train_loss.append(train_loss_ep)\n",
        "  val_loss.append(val_loss_ep)\n",
        "  if epoch % 2 == 0:\n",
        "    print(f\"Epoch : {epoch}\")\n",
        "    print(f\"Train Loss : {train_loss_ep:.4f}\")\n",
        "    print(f\"Val Loss : {val_loss_ep:.4f}\")\n",
        "    decode(model, val_dataset[100])\n"
      ]
    },
    {
      "cell_type": "code",
      "execution_count": 207,
      "metadata": {
        "id": "Yaj3MORtbsNi"
      },
      "outputs": [],
      "source": [
        "# 학습을 진행한 다음, 모델 백업해놓기\n",
        "torch.save(model.state_dict(), 'model_hw.pt')"
      ]
    },
    {
      "cell_type": "markdown",
      "source": [
        "번역 상태는 형편없지만.. 그래도... 돌아는 갑니다.. 감사합니다."
      ],
      "metadata": {
        "id": "lZBgAidtnTkF"
      }
    },
    {
      "cell_type": "code",
      "source": [],
      "metadata": {
        "id": "57ZYPsmPnQg0"
      },
      "execution_count": null,
      "outputs": []
    }
  ],
  "metadata": {
    "accelerator": "GPU",
    "colab": {
      "collapsed_sections": [
        "XhqgooEJc3ml"
      ],
      "provenance": []
    },
    "gpuClass": "standard",
    "kernelspec": {
      "display_name": "Python 3",
      "name": "python3"
    },
    "language_info": {
      "name": "python"
    }
  },
  "nbformat": 4,
  "nbformat_minor": 0
}